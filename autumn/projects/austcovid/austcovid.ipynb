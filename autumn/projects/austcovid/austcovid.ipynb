{
 "cells": [
  {
   "cell_type": "code",
   "execution_count": null,
   "id": "68bc1a4b-007d-40d2-90d5-f56b194751c9",
   "metadata": {},
   "outputs": [],
   "source": [
    "import pandas as pd\n",
    "pd.options.plotting.backend = \"plotly\"\n",
    "from datetime import datetime\n",
    "from random import sample\n",
    "import pylatex as pl\n",
    "from pylatex.utils import NoEscape, bold\n",
    "from model_features import DocumentedAustModel\n",
    "from tex_param_processing import DocumentedCalibration\n",
    "import yaml\n",
    "from jax import numpy as jnp\n",
    "\n",
    "from summer2 import CompartmentalModel, StrainStratification\n",
    "from summer2.parameters import Function, Time\n",
    "\n",
    "from estival.calibration.mcmc.adaptive import AdaptiveChain\n",
    "from estival.priors import UniformPrior\n",
    "from estival.targets import NegativeBinomialTarget"
   ]
  },
  {
   "cell_type": "code",
   "execution_count": null,
   "id": "640f11ba-1097-4e97-8d9b-c74329e21b9f",
   "metadata": {},
   "outputs": [],
   "source": [
    "# Data inputs\n",
    "start_date = datetime(2021, 8, 22)\n",
    "end_date = datetime(2022, 6, 10)\n",
    "# To get latest data instead of our download, use: \"https://raw.githubusercontent.com/M3IT/COVID-19_Data/master/Data/COVID_AU_state.csv\"\n",
    "state_data = pd.read_csv(\n",
    "    \"https://media.githubusercontent.com/media/monash-emu/AuTuMN/aust-simple-analysis/autumn/projects/austcovid/COVID_AU_state.csv\", \n",
    "    index_col=\"date\",\n",
    ")\n",
    "state_data.index = pd.to_datetime(state_data.index)\n",
    "state_data = state_data.truncate(before=start_date, after=end_date)\n",
    "aust_cases = state_data.groupby(state_data.index)[\"confirmed\"].sum()\n",
    "smoothed_aust_cases = aust_cases.rolling(7).mean()"
   ]
  },
  {
   "cell_type": "code",
   "execution_count": null,
   "id": "56d10801-4a0c-49a4-bcd7-dce666d3603e",
   "metadata": {},
   "outputs": [],
   "source": [
    "def build_aust_model(\n",
    "    start_date: datetime,\n",
    "    end_date: datetime,\n",
    "    doc: pl.document.Document,\n",
    "    add_documentation: bool=False,\n",
    ") -> CompartmentalModel:\n",
    "    \"\"\"\n",
    "    Build a fairly basic model, as described in the component functions called.\n",
    "    \n",
    "    Returns:\n",
    "        The model object\n",
    "    \"\"\"\n",
    "    compartments = [\n",
    "        \"susceptible\",\n",
    "        \"infectious\",\n",
    "        \"recovered\",\n",
    "    ]\n",
    "    aust_model = DocumentedAustModel(doc, add_documentation)\n",
    "    model = aust_model.build_base_model(start_date, end_date, compartments)\n",
    "    aust_model.set_model_starting_conditions()\n",
    "    aust_model.add_infection_to_model()\n",
    "    aust_model.add_recovery_to_model()\n",
    "    aust_model.add_notifications_output_to_model()\n",
    "    age_strata = list(range(0, 75, 5))\n",
    "    matrix = aust_model.build_polymod_britain_matrix(age_strata)\n",
    "    adjusted_matrix = aust_model.adapt_gb_matrix_to_aust(matrix, age_strata)\n",
    "    aust_model.add_age_stratification_to_model(compartments, age_strata, adjusted_matrix)\n",
    "    strain_strat, starting_strain, other_strains = aust_model.get_strain_stratification()\n",
    "    aust_model.model.stratify_with(strain_strat)\n",
    "\n",
    "    if add_documentation:\n",
    "        aust_model.compile_doc()\n",
    "    return aust_model.model"
   ]
  },
  {
   "cell_type": "code",
   "execution_count": null,
   "id": "46382c88-c458-4ad2-989a-7e51be48af40",
   "metadata": {},
   "outputs": [],
   "source": [
    "# Set up for manual run with supplementary material document\n",
    "supplement = pl.Document()\n",
    "supplement.preamble.append(pl.Package(\"biblatex\", options=[\"sorting=none\"]))\n",
    "supplement.preamble.append(pl.Command(\"addbibresource\", arguments=[\"../austcovid.bib\"]))\n",
    "supplement.preamble.append(pl.Command(\"title\", \"Supplemental Appendix\"))\n",
    "supplement.append(NoEscape(r\"\\maketitle\"))\n",
    "\n",
    "parameters = {\n",
    "    \"contact_rate\": 0.0255,\n",
    "    \"infectious_period\": 5.0,\n",
    "    \"cdr\": 0.2,\n",
    "    \"ba2_rel_infness\": 2.0,\n",
    "}\n",
    "aust_model = build_aust_model(start_date, end_date, supplement, add_documentation=True)\n",
    "aust_model.run(parameters=parameters)"
   ]
  },
  {
   "cell_type": "code",
   "execution_count": null,
   "id": "675254b0-cfbf-4349-b4fe-3aa226d57561",
   "metadata": {},
   "outputs": [],
   "source": [
    "def voc_seed_func(time, entry_rate, start_time, seed_duration):\n",
    "    offset = time - start_time\n",
    "    return jnp.where(offset > 0, jnp.where(offset < seed_duration, entry_rate, 0.0), 0.0)\n",
    "\n",
    "def make_voc_seed_func(entry_rate: float, start_time: float, seed_duration: float):\n",
    "    return Function(voc_seed_func, [Time, entry_rate, start_time, seed_duration])"
   ]
  },
  {
   "cell_type": "code",
   "execution_count": null,
   "id": "950c8e2b-b20b-482c-a237-0ad84e5ea66d",
   "metadata": {},
   "outputs": [],
   "source": [
    "voc_seed_func = make_voc_seed_func(1.0, 600.0, 1.0)"
   ]
  },
  {
   "cell_type": "code",
   "execution_count": null,
   "id": "9de5b502-c857-4df1-a8b8-57c60590d0d4",
   "metadata": {},
   "outputs": [],
   "source": [
    "aust_model = build_aust_model(start_date, end_date, supplement, add_documentation=True)\n",
    "aust_model.add_importation_flow(\n",
    "    \"seed_ba1\",\n",
    "    voc_seed_func,\n",
    "    \"infectious\",\n",
    "    dest_strata={\"strain\": \"ba1\"},\n",
    "    split_imports=True,\n",
    ")    \n",
    "aust_model.run(parameters=parameters)"
   ]
  },
  {
   "cell_type": "code",
   "execution_count": null,
   "id": "75b81cfb-7f3d-4b0d-9fa3-300518f94e04",
   "metadata": {},
   "outputs": [],
   "source": [
    "# Look at results of manual run\n",
    "axis_labels = {\"index\": \"time\", \"value\": \"cases\"}\n",
    "comparison_df = pd.concat((smoothed_aust_cases, aust_model.get_derived_outputs_df()[\"notifications\"]), axis=1)\n",
    "comparison_df.plot(labels=axis_labels)"
   ]
  },
  {
   "cell_type": "code",
   "execution_count": null,
   "id": "1579d9ac-43b3-4c3f-9f2a-f78041ded0fc",
   "metadata": {},
   "outputs": [],
   "source": [
    "# Calibration settings\n",
    "with open(\"parameters.yml\", \"r\") as param_file:\n",
    "    param_info = yaml.safe_load(param_file)\n",
    "param_descriptions = param_info[\"descriptions\"]\n",
    "param_units = param_info[\"units\"]\n",
    "param_evidence = param_info[\"evidence\"]\n",
    "\n",
    "iterations = 500\n",
    "burn_in = 100\n",
    "priors = [\n",
    "    UniformPrior(\"contact_rate\", (0.02, 0.05)),\n",
    "    UniformPrior(\"infectious_period\", (4.0, 8.0)),\n",
    "]\n",
    "targets = [\n",
    "    NegativeBinomialTarget(\"notifications\", smoothed_aust_cases.dropna(), 500.0),\n",
    "]\n",
    "uncertainty_analysis = AdaptiveChain(\n",
    "    build_aust_model, \n",
    "    parameters, \n",
    "    priors, \n",
    "    targets, \n",
    "    parameters,\n",
    "    build_model_kwargs={\"start_date\": start_date, \"end_date\": end_date, \"doc\": None},\n",
    ")"
   ]
  },
  {
   "cell_type": "code",
   "execution_count": null,
   "id": "e7e27b57-b65f-4b29-b023-8d0d54238c7f",
   "metadata": {},
   "outputs": [],
   "source": [
    "# Run and document the calibration\n",
    "documented_calib = DocumentedCalibration(\n",
    "    priors, \n",
    "    targets, \n",
    "    iterations, \n",
    "    burn_in, \n",
    "    parameters, \n",
    "    param_descriptions, \n",
    "    param_units, \n",
    "    param_evidence, \n",
    "    supplement,\n",
    ")\n",
    "documented_calib.get_analysis(build_aust_model, parameters, start_date, end_date)\n",
    "documented_calib.add_calib_table_to_doc()\n",
    "documented_calib.table_param_results()\n",
    "documented_calib.graph_param_progression()\n",
    "documented_calib.add_param_table_to_doc(aust_model, parameters)\n",
    "documented_calib.compile_doc()"
   ]
  },
  {
   "cell_type": "code",
   "execution_count": null,
   "id": "c9fb8cd5-ebc7-4241-bb7c-b20ae5f1d0f0",
   "metadata": {},
   "outputs": [],
   "source": [
    "# Look at a subset of the results of calibration\n",
    "sample_outputs = documented_calib.show_sample_outputs(50, aust_model, smoothed_aust_cases, parameters)\n",
    "sample_outputs.plot(labels=axis_labels)"
   ]
  },
  {
   "cell_type": "code",
   "execution_count": null,
   "id": "fbb8c72c-f804-42aa-8dd4-b0e5e9325119",
   "metadata": {},
   "outputs": [],
   "source": [
    "# Finish up the supplement document with bibliography\n",
    "supplement.append(pl.NewPage())\n",
    "supplement.append(pl.Command(\"printbibliography\"))\n",
    "supplement.generate_tex(\"supplement/aust_supp\")"
   ]
  }
 ],
 "metadata": {
  "kernelspec": {
   "display_name": "Python 3 (ipykernel)",
   "language": "python",
   "name": "python3"
  },
  "language_info": {
   "codemirror_mode": {
    "name": "ipython",
    "version": 3
   },
   "file_extension": ".py",
   "mimetype": "text/x-python",
   "name": "python",
   "nbconvert_exporter": "python",
   "pygments_lexer": "ipython3",
   "version": "3.10.3"
  }
 },
 "nbformat": 4,
 "nbformat_minor": 5
}
