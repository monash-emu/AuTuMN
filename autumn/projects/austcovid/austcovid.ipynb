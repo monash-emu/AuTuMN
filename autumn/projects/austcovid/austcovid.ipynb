{
 "cells": [
  {
   "cell_type": "code",
   "execution_count": null,
   "id": "68bc1a4b-007d-40d2-90d5-f56b194751c9",
   "metadata": {},
   "outputs": [],
   "source": [
    "import pandas as pd\n",
    "pd.options.plotting.backend = \"plotly\"\n",
    "from datetime import datetime\n",
    "from random import sample\n",
    "import pylatex as pl\n",
    "from pylatex.utils import NoEscape, bold\n",
    "from model_features import DocumentedAustModel, build_aust_model\n",
    "from calibration import DocumentedCalibration\n",
    "import yaml\n",
    "from jax import numpy as jnp\n",
    "\n",
    "from summer2 import CompartmentalModel, StrainStratification\n",
    "from summer2.parameters import Function, Time\n",
    "\n",
    "from estival.calibration.mcmc.adaptive import AdaptiveChain\n",
    "from estival.priors import UniformPrior\n",
    "from estival.targets import NegativeBinomialTarget"
   ]
  },
  {
   "cell_type": "code",
   "execution_count": null,
   "id": "640f11ba-1097-4e97-8d9b-c74329e21b9f",
   "metadata": {},
   "outputs": [],
   "source": [
    "# Data inputs\n",
    "start_date = datetime(2021, 8, 22)\n",
    "end_date = datetime(2022, 6, 10)\n",
    "# To get latest data instead of our download, use: \"https://raw.githubusercontent.com/M3IT/COVID-19_Data/master/Data/COVID_AU_state.csv\"\n",
    "state_data = pd.read_csv(\n",
    "    \"https://media.githubusercontent.com/media/monash-emu/AuTuMN/aust-simple-analysis/autumn/projects/austcovid/COVID_AU_state.csv\", \n",
    "    index_col=\"date\",\n",
    ")\n",
    "state_data.index = pd.to_datetime(state_data.index)\n",
    "state_data = state_data.truncate(before=start_date, after=end_date)\n",
    "aust_cases = state_data.groupby(state_data.index)[\"confirmed\"].sum()\n",
    "smoothed_aust_cases = aust_cases.rolling(7).mean()"
   ]
  },
  {
   "cell_type": "code",
   "execution_count": null,
   "id": "46382c88-c458-4ad2-989a-7e51be48af40",
   "metadata": {},
   "outputs": [],
   "source": [
    "# Set up for manual run with supplementary material document\n",
    "supplement = pl.Document()\n",
    "supplement.preamble.append(pl.Package(\"biblatex\", options=[\"sorting=none\"]))\n",
    "supplement.preamble.append(pl.Command(\"addbibresource\", arguments=[\"../austcovid.bib\"]))\n",
    "supplement.preamble.append(pl.Command(\"title\", \"Supplemental Appendix\"))\n",
    "supplement.append(NoEscape(r\"\\maketitle\"))\n",
    "\n",
    "parameters = {\n",
    "    \"contact_rate\": 0.0255,\n",
    "    \"infectious_period\": 5.0,\n",
    "    \"cdr\": 0.2,\n",
    "    \"ba2_rel_infness\": 3.0,\n",
    "    \"seed_rate\": 1.0,\n",
    "    \"seed_duration\": 1.0,\n",
    "    \"ba1_seed_time\": 600.0,\n",
    "    \"ba2_seed_time\": 750.0,\n",
    "}\n",
    "aust_model = build_aust_model(start_date, end_date, supplement, add_documentation=True)\n",
    "aust_model.run(parameters=parameters)"
   ]
  },
  {
   "cell_type": "code",
   "execution_count": null,
   "id": "75b81cfb-7f3d-4b0d-9fa3-300518f94e04",
   "metadata": {},
   "outputs": [],
   "source": [
    "# Look at results of manual run\n",
    "axis_labels = {\"index\": \"time\", \"value\": \"cases\"}\n",
    "comparison_df = pd.concat((smoothed_aust_cases, aust_model.get_derived_outputs_df()[\"notifications\"]), axis=1)\n",
    "comparison_df.plot(labels=axis_labels)"
   ]
  },
  {
   "cell_type": "code",
   "execution_count": null,
   "id": "1579d9ac-43b3-4c3f-9f2a-f78041ded0fc",
   "metadata": {},
   "outputs": [],
   "source": [
    "# Calibration settings\n",
    "with open(\"parameters.yml\", \"r\") as param_file:\n",
    "    param_info = yaml.safe_load(param_file)\n",
    "param_descriptions = param_info[\"descriptions\"]\n",
    "param_units = param_info[\"units\"]\n",
    "param_evidence = param_info[\"evidence\"]\n",
    "\n",
    "iterations = 500\n",
    "burn_in = 100\n",
    "priors = [\n",
    "    UniformPrior(\"contact_rate\", (0.02, 0.05)),\n",
    "    UniformPrior(\"infectious_period\", (4.0, 8.0)),\n",
    "]\n",
    "targets = [\n",
    "    NegativeBinomialTarget(\"notifications\", smoothed_aust_cases.dropna(), 500.0),\n",
    "]\n",
    "aust_model = build_aust_model(start_date, end_date, supplement, True)"
   ]
  },
  {
   "cell_type": "code",
   "execution_count": null,
   "id": "47449f5f-2552-4bd2-8448-8a56e8b878a1",
   "metadata": {},
   "outputs": [],
   "source": [
    "start_date"
   ]
  },
  {
   "cell_type": "code",
   "execution_count": null,
   "id": "e7e27b57-b65f-4b29-b023-8d0d54238c7f",
   "metadata": {},
   "outputs": [],
   "source": [
    "# Run and document the calibration\n",
    "documented_calib = DocumentedCalibration(\n",
    "    priors, \n",
    "    targets, \n",
    "    iterations, \n",
    "    burn_in, \n",
    "    build_aust_model,\n",
    "    parameters, \n",
    "    param_descriptions, \n",
    "    param_units, \n",
    "    param_evidence, \n",
    "    start_date,\n",
    "    end_date,\n",
    "    supplement,\n",
    ")\n",
    "documented_calib.get_analysis()\n",
    "documented_calib.add_calib_table_to_doc()\n",
    "documented_calib.table_param_results()\n",
    "documented_calib.graph_param_progression()\n",
    "documented_calib.add_param_table_to_doc()\n",
    "documented_calib.compile_doc()"
   ]
  },
  {
   "cell_type": "code",
   "execution_count": null,
   "id": "c9fb8cd5-ebc7-4241-bb7c-b20ae5f1d0f0",
   "metadata": {},
   "outputs": [],
   "source": [
    "# Look at a subset of the results of calibration\n",
    "sample_outputs = documented_calib.get_sample_outputs(50)\n",
    "pd.concat((smoothed_aust_cases, sample_outputs), axis=1).plot(labels=axis_labels)"
   ]
  },
  {
   "cell_type": "code",
   "execution_count": null,
   "id": "fbb8c72c-f804-42aa-8dd4-b0e5e9325119",
   "metadata": {},
   "outputs": [],
   "source": [
    "# Finish up the supplement document with bibliography\n",
    "supplement.append(pl.NewPage())\n",
    "supplement.append(pl.Command(\"printbibliography\"))\n",
    "supplement.generate_tex(\"supplement/aust_supp\")"
   ]
  }
 ],
 "metadata": {
  "kernelspec": {
   "display_name": "Python 3 (ipykernel)",
   "language": "python",
   "name": "python3"
  },
  "language_info": {
   "codemirror_mode": {
    "name": "ipython",
    "version": 3
   },
   "file_extension": ".py",
   "mimetype": "text/x-python",
   "name": "python",
   "nbconvert_exporter": "python",
   "pygments_lexer": "ipython3",
   "version": "3.10.3"
  }
 },
 "nbformat": 4,
 "nbformat_minor": 5
}
