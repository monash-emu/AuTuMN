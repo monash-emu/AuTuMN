{
 "cells": [
  {
   "cell_type": "code",
   "execution_count": null,
   "id": "9aefbb81-8979-433b-8603-0e2242d450a3",
   "metadata": {},
   "outputs": [],
   "source": [
    "# Installation in case running over Colab\n",
    "try:\n",
    "    import google.colab\n",
    "    %pip install summerepi2==1.0.4\n",
    "    %pip install estival==0.1.7\n",
    "    %pip install pylatex==1.4.1\n",
    "except:\n",
    "    pass"
   ]
  },
  {
   "cell_type": "code",
   "execution_count": null,
   "id": "68bc1a4b-007d-40d2-90d5-f56b194751c9",
   "metadata": {},
   "outputs": [],
   "source": [
    "import pandas as pd\n",
    "import numpy as np\n",
    "pd.options.plotting.backend = \"plotly\"\n",
    "import plotly.express as px\n",
    "from datetime import datetime\n",
    "from random import sample\n",
    "import arviz as az\n",
    "from pathlib import Path\n",
    "import os\n",
    "import pylatex as pl\n",
    "from pylatex.utils import NoEscape, bold\n",
    "from pylatex.section import Section\n",
    "from tex_param_processing import (\n",
    "    get_fixed_param_value_text, get_prior_dist_type, get_prior_dist_param_str, \n",
    "    get_prior_dist_support, add_param_table_to_doc, add_calib_table_to_doc,\n",
    "    add_calib_metric_table_to_doc, add_parameter_progression_fig_to_doc,\n",
    ")\n",
    "from model_features import (\n",
    "    add_age_stratification_to_model,\n",
    "    adapt_gb_matrix_to_aust, add_strain_stratification_to_model,\n",
    "    DocumentedModel,\n",
    ")\n",
    "import yaml\n",
    "import matplotlib.pyplot as plt\n",
    "\n",
    "from summer2 import CompartmentalModel, StrainStratification\n",
    "from summer2.parameters import Parameter, DerivedOutput\n",
    "from summer2.utils import ref_times_to_dti\n",
    "\n",
    "from estival.calibration.mcmc.adaptive import AdaptiveChain\n",
    "from estival.priors import UniformPrior\n",
    "from estival.targets import NegativeBinomialTarget"
   ]
  },
  {
   "cell_type": "code",
   "execution_count": null,
   "id": "640f11ba-1097-4e97-8d9b-c74329e21b9f",
   "metadata": {},
   "outputs": [],
   "source": [
    "# Analysis period\n",
    "start_date = datetime(2021, 8, 22)\n",
    "end_date = datetime(2022, 6, 10)\n",
    "\n",
    "# To get latest data instead of our download, use: \"https://raw.githubusercontent.com/M3IT/COVID-19_Data/master/Data/COVID_AU_state.csv\"\n",
    "state_data = pd.read_csv(\n",
    "    \"https://media.githubusercontent.com/media/monash-emu/AuTuMN/aust-simple-analysis/autumn/projects/austcovid/COVID_AU_state.csv\", \n",
    "    index_col=\"date\",\n",
    ")\n",
    "state_data.index = pd.to_datetime(state_data.index)\n",
    "state_data = state_data.truncate(before=start_date, after=end_date)\n",
    "aust_cases = state_data.groupby(state_data.index)[\"confirmed\"].sum()\n",
    "smoothed_aust_cases = aust_cases.rolling(7).mean()\n",
    "\n",
    "# Set up supplementary material document\n",
    "supplement = pl.Document()\n",
    "supplement.preamble.append(pl.Package(\"biblatex\", options=[\"sorting=none\"]))\n",
    "supplement.preamble.append(pl.Command(\"addbibresource\", arguments=[\"../austcovid.bib\"]))\n",
    "supplement.preamble.append(pl.Command(\"title\", \"Supplemental Appendix\"))\n",
    "supplement.append(NoEscape(r\"\\maketitle\"))"
   ]
  },
  {
   "cell_type": "code",
   "execution_count": null,
   "id": "56d10801-4a0c-49a4-bcd7-dce666d3603e",
   "metadata": {},
   "outputs": [],
   "source": [
    "def build_aust_model(\n",
    "    start_date: datetime,\n",
    "    end_date: datetime,\n",
    "    doc: pl.document.Document,\n",
    "    add_documentation: bool=False,\n",
    ") -> CompartmentalModel:\n",
    "    \"\"\"\n",
    "    Build a fairly basic model, as described in the component functions called.\n",
    "    \n",
    "    Returns:\n",
    "        The model object\n",
    "    \"\"\"\n",
    "    compartments = [\n",
    "        \"susceptible\",\n",
    "        \"infectious\",\n",
    "        \"recovered\",\n",
    "    ]\n",
    "    aust_model = DocumentedModel(doc, add_documentation)\n",
    "    model = aust_model.build_base_model(start_date, end_date, compartments)\n",
    "    aust_model.set_model_starting_conditions()\n",
    "    aust_model.add_infection_to_model()\n",
    "    aust_model.add_recovery_to_model()\n",
    "    aust_model.add_notifications_output_to_model()\n",
    "    age_strata = list(range(0, 75, 5))\n",
    "    matrix = aust_model.build_polymod_britain_matrix(age_strata)\n",
    "    \n",
    "    if add_documentation:\n",
    "        aust_model.compile_doc()\n",
    "    # adjusted_matrix = adapt_gb_matrix_to_aust(matrix, age_strata, doc)\n",
    "    # add_age_stratification_to_model(model, compartments, age_strata, adjusted_matrix, doc)\n",
    "    # add_strain_stratification_to_model(model)\n",
    "    return aust_model.model"
   ]
  },
  {
   "cell_type": "code",
   "execution_count": null,
   "id": "e6cff4ec-ab1f-487e-87d8-c68242c0b418",
   "metadata": {},
   "outputs": [],
   "source": [
    "build_aust_model(start_date, end_date, supplement, True)"
   ]
  },
  {
   "cell_type": "code",
   "execution_count": null,
   "id": "46382c88-c458-4ad2-989a-7e51be48af40",
   "metadata": {},
   "outputs": [],
   "source": [
    "parameters = {\n",
    "    \"contact_rate\": 0.3,\n",
    "    \"infectious_period\": 5.0,\n",
    "    \"cdr\": 0.2,\n",
    "}\n",
    "aust_model = build_aust_model(start_date, end_date, supplement, True)\n",
    "aust_model.run(parameters=parameters)"
   ]
  },
  {
   "cell_type": "code",
   "execution_count": null,
   "id": "75b81cfb-7f3d-4b0d-9fa3-300518f94e04",
   "metadata": {},
   "outputs": [],
   "source": [
    "# Quick look at the starting parameters\n",
    "axis_labels = {\"index\": \"time\", \"value\": \"cases\"}\n",
    "pd.concat(\n",
    "    (\n",
    "        smoothed_aust_cases, \n",
    "        aust_model.get_derived_outputs_df()[\"notifications\"],\n",
    "    ), \n",
    "    axis=1,\n",
    ").plot(labels=axis_labels)"
   ]
  },
  {
   "cell_type": "code",
   "execution_count": null,
   "id": "a97fcd27-84e0-4449-873c-dc943b123e83",
   "metadata": {},
   "outputs": [],
   "source": [
    "priors = [\n",
    "    UniformPrior(\"contact_rate\", (0.2, 0.5)),\n",
    "    UniformPrior(\"infectious_period\", (4.0, 8.0)),\n",
    "]\n",
    "targets = [\n",
    "    NegativeBinomialTarget(\"notifications\", smoothed_aust_cases.dropna(), 500.0),\n",
    "]\n",
    "uncertainty_analysis = AdaptiveChain(\n",
    "    build_aust_model, \n",
    "    parameters, \n",
    "    priors, \n",
    "    targets, \n",
    "    parameters,\n",
    "    build_model_kwargs={\"start_date\": start_date, \"end_date\": end_date, \"doc\": None},\n",
    ")"
   ]
  },
  {
   "cell_type": "code",
   "execution_count": null,
   "id": "f3d7a331-60e0-4ff3-a362-d2e0d3994b4d",
   "metadata": {},
   "outputs": [],
   "source": [
    "iterations = 500\n",
    "burn_in = 100\n",
    "uncertainty_analysis.run(max_iter=iterations)"
   ]
  },
  {
   "cell_type": "code",
   "execution_count": null,
   "id": "530ce7b5-d323-41df-bcf6-faaec280528c",
   "metadata": {},
   "outputs": [],
   "source": [
    "uncertainty_outputs = uncertainty_analysis.to_arviz(burn_in)"
   ]
  },
  {
   "cell_type": "code",
   "execution_count": null,
   "id": "c313d5ed-7ef9-49e2-a103-7ea72f7e019f",
   "metadata": {},
   "outputs": [],
   "source": [
    "az.plot_trace(\n",
    "    uncertainty_outputs,\n",
    "    figsize=(16, 12),\n",
    ");"
   ]
  },
  {
   "cell_type": "code",
   "execution_count": null,
   "id": "ea370814-8518-49c8-9e86-01d6d31ac511",
   "metadata": {},
   "outputs": [],
   "source": [
    "# How many parameter samples to run through again (suppress warnings if 100+)\n",
    "n_samples = 50\n",
    "samples = sorted(sample(range(burn_in, iterations - 200), n_samples))\n",
    "\n",
    "# Parameter values from sampled runs\n",
    "sample_params = pd.DataFrame(\n",
    "    {p.name: uncertainty_outputs.posterior[p.name][0, samples].to_numpy() for p in priors},\n",
    "    index=samples,\n",
    ")\n",
    "\n",
    "# Model outputs from sampled parameter sets\n",
    "sample_outputs = pd.DataFrame(\n",
    "    index=aust_model.get_derived_outputs_df().index, \n",
    "    columns=samples,\n",
    ")\n",
    "for i_param_set in samples:\n",
    "    parameters.update(sample_params.loc[i_param_set, :].to_dict())\n",
    "    aust_model.run(parameters=parameters)\n",
    "    sample_outputs[i_param_set] = aust_model.get_derived_outputs_df()[\"notifications\"]"
   ]
  },
  {
   "cell_type": "code",
   "execution_count": null,
   "id": "7be110dd-db7b-4937-a5a4-337192d67cb3",
   "metadata": {},
   "outputs": [],
   "source": [
    "pd.concat(\n",
    "    (\n",
    "        smoothed_aust_cases, \n",
    "        sample_outputs,\n",
    "    ), \n",
    "    axis=1,\n",
    ").plot(labels=axis_labels)"
   ]
  },
  {
   "cell_type": "code",
   "execution_count": null,
   "id": "1579d9ac-43b3-4c3f-9f2a-f78041ded0fc",
   "metadata": {},
   "outputs": [],
   "source": [
    "with open(\"parameters.yml\", \"r\") as param_file:\n",
    "    param_info = yaml.safe_load(param_file)\n",
    "param_descriptions = param_info[\"descriptions\"]\n",
    "param_units = param_info[\"units\"]\n",
    "param_evidence = param_info[\"evidence\"]"
   ]
  },
  {
   "cell_type": "code",
   "execution_count": null,
   "id": "fbb8c72c-f804-42aa-8dd4-b0e5e9325119",
   "metadata": {},
   "outputs": [],
   "source": [
    "prior_names = [uncertainty_analysis.priors[i_prior].name for i_prior in range(len(priors))]\n",
    "calib_summary = az.summary(uncertainty_outputs)\n",
    "with supplement.create(Section(\"Parameter values\")):\n",
    "    add_param_table_to_doc(aust_model, supplement, parameters, param_descriptions, param_units, param_evidence, prior_names)\n",
    "with supplement.create(Section(\"Calibration algorithm\")):\n",
    "    add_calib_table_to_doc(supplement, uncertainty_analysis.priors, param_descriptions)\n",
    "with supplement.create(Section(\"Calibration metrics\")):\n",
    "    add_calib_metric_table_to_doc(supplement, calib_summary, param_descriptions)\n",
    "add_parameter_progression_fig_to_doc(uncertainty_outputs, supplement, prior_names, param_descriptions)\n",
    "supplement.append(pl.NewPage())\n",
    "supplement.append(pl.Command(\"printbibliography\"))"
   ]
  },
  {
   "cell_type": "code",
   "execution_count": null,
   "id": "cbee8bf2-6b94-42f8-bcc3-93067ecb12c2",
   "metadata": {},
   "outputs": [],
   "source": [
    "supplement.generate_tex(\"supplement/aust_supp\")"
   ]
  }
 ],
 "metadata": {
  "kernelspec": {
   "display_name": "Python 3 (ipykernel)",
   "language": "python",
   "name": "python3"
  },
  "language_info": {
   "codemirror_mode": {
    "name": "ipython",
    "version": 3
   },
   "file_extension": ".py",
   "mimetype": "text/x-python",
   "name": "python",
   "nbconvert_exporter": "python",
   "pygments_lexer": "ipython3",
   "version": "3.10.3"
  }
 },
 "nbformat": 4,
 "nbformat_minor": 5
}
