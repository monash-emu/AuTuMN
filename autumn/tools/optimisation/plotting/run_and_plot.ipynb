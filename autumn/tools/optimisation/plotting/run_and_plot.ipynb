{
 "cells": [
  {
   "cell_type": "code",
   "execution_count": null,
   "metadata": {},
   "outputs": [],
   "source": [
    "\n",
    "from autumn.core.project import get_project, load_timeseries\n",
    "from autumn.settings import Region, Models\n",
    "from matplotlib import pyplot\n",
    "from autumn.core.plots.utils import REF_DATE\n",
    "import pandas as pd\n",
    "from autumn.core.plots.uncertainty.plots import _get_target_values, _plot_targets_to_axis\n",
    "from summer.utils import ref_times_to_dti\n",
    "from autumn.core.plots.utils import REF_DATE"
   ]
  },
  {
   "cell_type": "code",
   "execution_count": null,
   "metadata": {},
   "outputs": [],
   "source": [
    "# load project\n",
    "project = get_project(Models.SM_COVID, Region.PHILIPPINES)"
   ]
  },
  {
   "cell_type": "code",
   "execution_count": null,
   "metadata": {},
   "outputs": [],
   "source": [
    "# overwrite default parameters with calibrated parameters\n",
    "calibrated_params = {\n",
    "    #  list all the calibrated parameters here\n",
    "    \"contact_rate\": .1,\n",
    "    \"infectious_seed_time\": 50,\n",
    "    # ...\n",
    "}\n",
    "params = project.param_set.baseline.update(calibrated_params, calibration_format=True)"
   ]
  },
  {
   "cell_type": "code",
   "execution_count": null,
   "metadata": {},
   "outputs": [],
   "source": [
    "# run the model\n",
    "model = project.run_baseline_model(params)\n",
    "derived_df = model.get_derived_outputs_df()"
   ]
  },
  {
   "cell_type": "code",
   "execution_count": null,
   "metadata": {},
   "outputs": [],
   "source": [
    "# plot the model outputs and the data used as calibration targets\n",
    "target_t_min, target_t_max = project.calibration.targets[1].data.index.min(), project.calibration.targets[1].data.index.max()\n",
    "all_targets = load_timeseries(os.path.join(project.get_path(), \"timeseries.json\"))\n",
    "for target in all_targets:\n",
    "    all_targets[target].index = ref_times_to_dti(REF_DATE, all_targets[target].index)  \n",
    "    \n",
    "pyplot.style.use(\"ggplot\")\n",
    "for output in [\"infection_deaths\", \"cumulative_infection_deaths\"]:    \n",
    "    fig = pyplot.figure(figsize=(12, 8))\n",
    "    axis = fig.add_subplot()\n",
    "\n",
    "    # plot outputs\n",
    "    axis = derived_df[output].plot()\n",
    "    axis.set_title(output)\n",
    "\n",
    "    # if output in project.plots:\n",
    "        # all_targets[output].plot.line(ax=axis, linewidth=0., markersize=10., marker=\"o\")\n",
    "    axis.scatter(all_targets[output].index, all_targets[output], color=\"k\", s=5, alpha=0.5, zorder=10)   \n"
   ]
  }
 ],
 "metadata": {
  "kernelspec": {
   "display_name": "Python 3.10.3 ('autumn310')",
   "language": "python",
   "name": "python3"
  },
  "language_info": {
   "codemirror_mode": {
    "name": "ipython",
    "version": 3
   },
   "file_extension": ".py",
   "mimetype": "text/x-python",
   "name": "python",
   "nbconvert_exporter": "python",
   "pygments_lexer": "ipython3",
   "version": "3.10.3"
  },
  "orig_nbformat": 4,
  "vscode": {
   "interpreter": {
    "hash": "7afc08b952f75bca94590012dd49682c815a0fa68720c270ce23d7ae27bf110a"
   }
  }
 },
 "nbformat": 4,
 "nbformat_minor": 2
}
