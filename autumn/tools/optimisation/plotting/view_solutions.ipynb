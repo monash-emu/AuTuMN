{
 "cells": [
  {
   "cell_type": "code",
   "execution_count": null,
   "metadata": {},
   "outputs": [],
   "source": [
    "from autumn.core.project import get_project, load_timeseries\n",
    "from autumn.settings import Region, Models\n",
    "from matplotlib import pyplot as plt\n",
    "from autumn.core.plots.utils import REF_DATE\n",
    "import pandas as pd\n",
    "from autumn.core.plots.uncertainty.plots import _get_target_values, _plot_targets_to_axis\n",
    "from summer.utils import ref_times_to_dti\n",
    "import numpy as np"
   ]
  },
  {
   "cell_type": "markdown",
   "metadata": {},
   "source": [
    "### Retrieve parameter names"
   ]
  },
  {
   "cell_type": "code",
   "execution_count": null,
   "metadata": {},
   "outputs": [],
   "source": [
    "\n",
    "project = get_project(Models.SM_COVID, Region.PHILIPPINES)\n",
    "param_names = [p['param_name'] for p in project.calibration.all_priors]"
   ]
  },
  {
   "cell_type": "markdown",
   "metadata": {},
   "source": [
    "### Read parameter values"
   ]
  },
  {
   "cell_type": "code",
   "execution_count": null,
   "metadata": {},
   "outputs": [],
   "source": [
    "param_df = pd.read_csv(\"best_profile.csv\", names=param_names + [\"objective\"], sep=' ', index_col=False)\n",
    "param_df"
   ]
  },
  {
   "cell_type": "markdown",
   "metadata": {},
   "source": [
    "### Run model for selected iterations"
   ]
  },
  {
   "cell_type": "code",
   "execution_count": null,
   "metadata": {},
   "outputs": [],
   "source": [
    "n_selected_gens = 2\n",
    "\n",
    "selected_idx = [round(g) for g in np.linspace(0, param_df.index[-1], num=n_selected_gens)]\n",
    "derived_outputs = {}\n",
    "for gen_id in selected_idx:\n",
    "    # get the calibrated parameters\n",
    "    calib_params = {name: param_df[name].loc[gen_id] for name in param_names}\n",
    "    params = project.param_set.baseline.update(calib_params, calibration_format=True)\n",
    "    \n",
    "    # run the model\n",
    "    model = project.run_baseline_model(params)\n",
    "    derived_df = model.get_derived_outputs_df()\n",
    "    derived_outputs[gen_id] = derived_df\n"
   ]
  },
  {
   "cell_type": "markdown",
   "metadata": {},
   "source": [
    "### Plot model outputs against data"
   ]
  },
  {
   "cell_type": "code",
   "execution_count": null,
   "metadata": {},
   "outputs": [],
   "source": [
    "# plot the model outputs and the data used as calibration targets\n",
    "target_t_min, target_t_max = project.calibration.targets[1].data.index.min(), project.calibration.targets[1].data.index.max()\n",
    "all_targets = load_timeseries(os.path.join(project.get_path(), \"timeseries.json\"))\n",
    "for target in all_targets:\n",
    "    all_targets[target].index = ref_times_to_dti(REF_DATE, all_targets[target].index)  \n",
    "\n",
    "plt.style.use(\"ggplot\")\n",
    "\n",
    "outputs_to_plot = [\"infection_deaths\", \"cumulative_infection_deaths\", \"transformed_random_process\"]\n",
    "x_max = {\"infection_deaths\": 250, \"cumulative_infection_deaths\": 60000, \"transformed_random_process\": 3}\n",
    "n_outputs = len(outputs_to_plot)\n",
    "\n",
    "for gen_id in selected_idx:\n",
    "    fig, axes = plt.subplots(1, n_outputs, figsize=(8. * n_outputs, 6))\n",
    "\n",
    "    for i_ax, axis in enumerate(axes):\n",
    "        output = outputs_to_plot[i_ax]\n",
    "        \n",
    "        derived_outputs[gen_id][output].plot(ax=axis)\n",
    "        axis.set_title(output)\n",
    "        axis.set_ylim([0, x_max[output]])           \n",
    "        axis.scatter(all_targets[output].index, all_targets[output], color=\"k\", s=5, alpha=0.5, zorder=10)\n",
    "    \n",
    "    fig.suptitle(f\"Generation {gen_id}\", fontsize=15)\n",
    "    plt.tight_layout()\n",
    "    plt.savefig(f\"gen_{gen_id}\")\n"
   ]
  }
 ],
 "metadata": {
  "kernelspec": {
   "display_name": "Python 3.10.3 ('autumn310')",
   "language": "python",
   "name": "python3"
  },
  "language_info": {
   "codemirror_mode": {
    "name": "ipython",
    "version": 3
   },
   "file_extension": ".py",
   "mimetype": "text/x-python",
   "name": "python",
   "nbconvert_exporter": "python",
   "pygments_lexer": "ipython3",
   "version": "3.10.3"
  },
  "orig_nbformat": 4,
  "vscode": {
   "interpreter": {
    "hash": "7afc08b952f75bca94590012dd49682c815a0fa68720c270ce23d7ae27bf110a"
   }
  }
 },
 "nbformat": 4,
 "nbformat_minor": 2
}
