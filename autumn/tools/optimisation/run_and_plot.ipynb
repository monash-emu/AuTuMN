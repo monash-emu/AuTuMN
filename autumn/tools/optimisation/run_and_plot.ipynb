{
 "cells": [
  {
   "cell_type": "code",
   "execution_count": null,
   "metadata": {},
   "outputs": [],
   "source": [
    "from autumn.tools.project import get_project\n",
    "from autumn.settings import Region, Models\n",
    "from matplotlib import pyplot\n",
    "from autumn.tools.plots.utils import REF_DATE\n",
    "import pandas as pd\n",
    "from autumn.tools.plots.uncertainty.plots import _get_target_values, _plot_targets_to_axis"
   ]
  },
  {
   "cell_type": "code",
   "execution_count": null,
   "metadata": {},
   "outputs": [],
   "source": [
    "# load project\n",
    "project = get_project(Models.COVID_19, Region.SRI_LANKA)"
   ]
  },
  {
   "cell_type": "code",
   "execution_count": null,
   "metadata": {},
   "outputs": [],
   "source": [
    "# overwrite default parameters with calibrated parameters\n",
    "calibrated_params = {\n",
    "    #  list all the calibrated parameters here\n",
    "    \"contact_rate\": .1,\n",
    "    \"infectious_seed\": 10,\n",
    "    # ...\n",
    "}\n",
    "params = project.param_set.baseline.update(calibrated_params, calibration_format=True)"
   ]
  },
  {
   "cell_type": "code",
   "execution_count": null,
   "metadata": {},
   "outputs": [],
   "source": [
    "# run the model\n",
    "model = project.run_baseline_model(params)\n",
    "derived_df = model.get_derived_outputs_df()"
   ]
  },
  {
   "cell_type": "code",
   "execution_count": null,
   "metadata": {},
   "outputs": [],
   "source": [
    "# plot the model outputs and the data used as calibration targets\n",
    "target_t_min, target_t_max = project.calibration.targets[1].data.index.min(), project.calibration.targets[1].data.index.max()\n",
    "pyplot.style.use(\"ggplot\")\n",
    "for output in [\"notifications\", \"infection_deaths\"]:    \n",
    "    fig = pyplot.figure(figsize=(12, 8))\n",
    "    axis = fig.add_subplot()\n",
    "\n",
    "    # plot outputs\n",
    "    axis = derived_df[output].plot()\n",
    "    axis.set_title(output)\n",
    "\n",
    "    # Plot calibration targets\n",
    "    values, times = _get_target_values(project.plots, output)\n",
    "    values, times = zip(*[(v, t) for (v, t) in zip(values, times) if target_t_min <= t <= target_t_max])    \n",
    "    date_times = pd.to_datetime(times, origin=\"01Jan2020\",unit=\"D\") \n",
    "\n",
    "    _plot_targets_to_axis(axis, values, date_times, on_uncertainty_plot=True)"
   ]
  }
 ],
 "metadata": {
  "interpreter": {
   "hash": "7afc08b952f75bca94590012dd49682c815a0fa68720c270ce23d7ae27bf110a"
  },
  "kernelspec": {
   "display_name": "Python 3.10.3 ('autumn310')",
   "language": "python",
   "name": "python3"
  },
  "language_info": {
   "codemirror_mode": {
    "name": "ipython",
    "version": 3
   },
   "file_extension": ".py",
   "mimetype": "text/x-python",
   "name": "python",
   "nbconvert_exporter": "python",
   "pygments_lexer": "ipython3",
   "version": "3.10.3"
  }
 },
 "nbformat": 4,
 "nbformat_minor": 2
}
