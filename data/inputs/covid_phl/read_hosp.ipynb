{
 "cells": [
  {
   "cell_type": "code",
   "execution_count": null,
   "metadata": {},
   "outputs": [],
   "source": [
    "import pandas as pd\n",
    "from autumn.settings.constants import COVID_BASE_DATETIME\n",
    "from autumn.settings.folders import PROJECTS_PATH\n",
    "import os\n",
    "import json"
   ]
  },
  {
   "cell_type": "code",
   "execution_count": null,
   "metadata": {},
   "outputs": [],
   "source": [
    "hosp_data = pd.read_csv(\"ncr_hospitalisations.csv\")"
   ]
  },
  {
   "cell_type": "code",
   "execution_count": null,
   "metadata": {},
   "outputs": [],
   "source": [
    "hosp_data['date'] = pd.to_datetime(hosp_data['Day of Reportdate'], format=\"%B %d, %Y\")\n"
   ]
  },
  {
   "cell_type": "code",
   "execution_count": null,
   "metadata": {},
   "outputs": [],
   "source": [
    "hosp_data['date_int'] = (hosp_data['date'] - COVID_BASE_DATETIME).dt.days"
   ]
  },
  {
   "cell_type": "code",
   "execution_count": null,
   "metadata": {},
   "outputs": [],
   "source": [
    "hosp_data"
   ]
  },
  {
   "cell_type": "code",
   "execution_count": null,
   "metadata": {},
   "outputs": [],
   "source": [
    "target_path = os.path.join(PROJECTS_PATH, 'sm_sir', 'philippines', 'national-capital-region', 'timeseries.json')"
   ]
  },
  {
   "cell_type": "code",
   "execution_count": null,
   "metadata": {},
   "outputs": [],
   "source": [
    "with open(target_path, mode=\"r\") as f:\n",
    "    targets = json.load(f)\n",
    "\n",
    "    targets[\"hospital_occupancy\"][\"times\"] = list(hosp_data[\"date_int\"])\n",
    "    targets[\"hospital_occupancy\"][\"values\"] = list(hosp_data[\"Total COVID beds occupied\"])\n",
    "\n",
    "    \n",
    "    targets[\"icu_occupancy\"][\"times\"] = list(hosp_data[\"date_int\"])\n",
    "    targets[\"icu_occupancy\"][\"values\"] = list(hosp_data[\"Icu Occupied\"])\n",
    "\n",
    "with open(target_path, \"w\") as f:\n",
    "    json.dump(targets, f, indent=2)\n"
   ]
  }
 ],
 "metadata": {
  "kernelspec": {
   "display_name": "Python 3.10.3 ('autumn310')",
   "language": "python",
   "name": "python3"
  },
  "language_info": {
   "codemirror_mode": {
    "name": "ipython",
    "version": 3
   },
   "file_extension": ".py",
   "mimetype": "text/x-python",
   "name": "python",
   "nbconvert_exporter": "python",
   "pygments_lexer": "ipython3",
   "version": "3.10.3"
  },
  "orig_nbformat": 4,
  "vscode": {
   "interpreter": {
    "hash": "7afc08b952f75bca94590012dd49682c815a0fa68720c270ce23d7ae27bf110a"
   }
  }
 },
 "nbformat": 4,
 "nbformat_minor": 2
}
