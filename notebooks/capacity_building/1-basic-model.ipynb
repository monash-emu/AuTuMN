{
 "cells": [
  {
   "cell_type": "markdown",
   "metadata": {},
   "source": [
    "# Capacity Building\n",
    "## Prerequisites\n",
    "Some basic understanding of Python variables, data types, looping, conditionals and functions will be of benefit.\n",
    "## Data inputs\n",
    "### Import modules/packages"
   ]
  },
  {
   "cell_type": "markdown",
   "metadata": {},
   "source": [
    "Let's import some modules/packages. A module or package is pre-built Python code that we can leverage to provide useful functionality.<br> Generally, it will have the form of *module_name.function*"
   ]
  },
  {
   "cell_type": "code",
   "execution_count": 1,
   "metadata": {},
   "outputs": [
    {
     "name": "stdout",
     "output_type": "stream",
     "text": [
      "Requirement already satisfied: summerepi in c:\\tools\\anaconda3\\envs\\autumn310\\lib\\site-packages (2.7.0)\n",
      "Requirement already satisfied: numba>=0.54.0 in c:\\tools\\anaconda3\\envs\\autumn310\\lib\\site-packages (from summerepi) (0.55.1)\n",
      "Requirement already satisfied: networkx>=2.6.2 in c:\\tools\\anaconda3\\envs\\autumn310\\lib\\site-packages (from summerepi) (2.7.1)\n",
      "Requirement already satisfied: pandas>=1.3.2 in c:\\tools\\anaconda3\\envs\\autumn310\\lib\\site-packages (from summerepi) (1.4.1)\n",
      "Requirement already satisfied: numpy>=1.20.3 in c:\\tools\\anaconda3\\envs\\autumn310\\lib\\site-packages (from summerepi) (1.21.5)\n",
      "Requirement already satisfied: scipy>=1.7.1 in c:\\tools\\anaconda3\\envs\\autumn310\\lib\\site-packages (from summerepi) (1.8.0)\n",
      "Requirement already satisfied: setuptools in c:\\tools\\anaconda3\\envs\\autumn310\\lib\\site-packages (from numba>=0.54.0->summerepi) (58.0.4)\n",
      "Requirement already satisfied: llvmlite<0.39,>=0.38.0rc1 in c:\\tools\\anaconda3\\envs\\autumn310\\lib\\site-packages (from numba>=0.54.0->summerepi) (0.38.0)\n",
      "Requirement already satisfied: pytz>=2020.1 in c:\\tools\\anaconda3\\envs\\autumn310\\lib\\site-packages (from pandas>=1.3.2->summerepi) (2022.1)\n",
      "Requirement already satisfied: python-dateutil>=2.8.1 in c:\\tools\\anaconda3\\envs\\autumn310\\lib\\site-packages (from pandas>=1.3.2->summerepi) (2.8.2)\n",
      "Requirement already satisfied: six>=1.5 in c:\\tools\\anaconda3\\envs\\autumn310\\lib\\site-packages (from python-dateutil>=2.8.1->pandas>=1.3.2->summerepi) (1.16.0)\n",
      "Note: you may need to restart the kernel to use updated packages.\n"
     ]
    }
   ],
   "source": [
    "%pip install summerepi"
   ]
  },
  {
   "cell_type": "code",
   "execution_count": 2,
   "metadata": {},
   "outputs": [],
   "source": [
    "import pandas as pd  # pd is an alias for pandas. This is similar to dataframes in R\n",
    "import matplotlib.pyplot as plt  # matplotlib is a common visualisation package for Python\n",
    "from datetime import datetime, timedelta  # We use datetime to manipulate date-time indexes\n",
    "\n",
    "plt.style.use('ggplot')  # This sets the style of the plots"
   ]
  },
  {
   "cell_type": "markdown",
   "metadata": {},
   "source": [
    "Try: There's a function inside plt.style that will show the styles. Change the plotting style to something you like."
   ]
  },
  {
   "cell_type": "markdown",
   "metadata": {},
   "source": [
    "### Define constants\n",
    "Defining and capitalising constants at the start of a Python script is common practice."
   ]
  },
  {
   "cell_type": "code",
   "execution_count": 3,
   "metadata": {},
   "outputs": [],
   "source": [
    "# URL to the Ministry of health's GitHub repository.\n",
    "# What is the data type here, a tuple or string? Do you know how to check for the type?\n",
    "GITHUB_MOH = (\n",
    "    \"https://raw.githubusercontent.com/MoH-Malaysia/covid19-public/main/epidemic/\"\n",
    ")\n",
    "\n",
    "# A list containing the files to download.\n",
    "FILES = [\n",
    "    \"cases_malaysia\",\n",
    "    \"deaths_malaysia\",\n",
    "    \"hospital\",\n",
    "    \"icu\",\n",
    "    \"cases_state\",\n",
    "    \"deaths_state\",\n",
    "]\n",
    "\n",
    "# By defining a region parameter, we can easily change the analysis later.\n",
    "REGION = \"Malaysia\"\n",
    "\n",
    "# We define a day zero for the analysis.\n",
    "COVID_BASE_DATE = datetime(2019, 12, 31)\n"
   ]
  },
  {
   "cell_type": "markdown",
   "metadata": {},
   "source": [
    "### Utility functions"
   ]
  },
  {
   "cell_type": "code",
   "execution_count": 4,
   "metadata": {},
   "outputs": [],
   "source": [
    "def fetch_mys_data(a_url:str)->pd.DataFrame:\n",
    "    \"\"\"Request files from MoH and combine them into one data frame.\n",
    "    Args:\n",
    "        a_url (str): A url to fetch data from.\n",
    "\n",
    "    Returns:\n",
    "        pd.DataFrame: A data frame containing all the files.\n",
    "    \"\"\"\n",
    "    a_list = []  # An empty list to hold each dataframe (a list can hold any python object)\n",
    "    for file in FILES:  # Loop over each file name\n",
    "        data_type = file.split('_')[0]  # Split the file name on '_' and take the first part.\n",
    "        df = pd.read_csv(a_url + file + \".csv\")  # Build the full url path to the file and ask pandas to download it. \n",
    "        df['type']  = data_type  # Create a new column 'type' and enter the data_type.\n",
    "\n",
    "        a_list.append(df)  # Place this dataframe into the list. \n",
    "\n",
    "    # We have looped over all the files, downloaded and entered it into a list of shape [df1,df2,df3,...].\n",
    "    \n",
    "    # Pandas will automatically combine this list into a single dataframe. It will expand the rows and columns as necessary.\n",
    "    df = pd.concat(a_list) \n",
    "    \n",
    "    return df # The function returns the dataframe."
   ]
  },
  {
   "cell_type": "markdown",
   "metadata": {},
   "source": [
    "Now call the function and pass it the MoH url.<br> Well done! We have scraped Malaysia's entire national and regional Covid-19 dataset into one dataframe"
   ]
  },
  {
   "cell_type": "code",
   "execution_count": 5,
   "metadata": {},
   "outputs": [
    {
     "data": {
      "text/html": [
       "<div>\n",
       "<style scoped>\n",
       "    .dataframe tbody tr th:only-of-type {\n",
       "        vertical-align: middle;\n",
       "    }\n",
       "\n",
       "    .dataframe tbody tr th {\n",
       "        vertical-align: top;\n",
       "    }\n",
       "\n",
       "    .dataframe thead th {\n",
       "        text-align: right;\n",
       "    }\n",
       "</style>\n",
       "<table border=\"1\" class=\"dataframe\">\n",
       "  <thead>\n",
       "    <tr style=\"text-align: right;\">\n",
       "      <th></th>\n",
       "      <th>date</th>\n",
       "      <th>cases_new</th>\n",
       "      <th>cases_import</th>\n",
       "      <th>cases_recovered</th>\n",
       "      <th>cases_active</th>\n",
       "      <th>cases_cluster</th>\n",
       "      <th>cases_unvax</th>\n",
       "      <th>cases_pvax</th>\n",
       "      <th>cases_fvax</th>\n",
       "      <th>cases_boost</th>\n",
       "      <th>...</th>\n",
       "      <th>vent</th>\n",
       "      <th>vent_port</th>\n",
       "      <th>icu_covid</th>\n",
       "      <th>icu_pui</th>\n",
       "      <th>icu_noncovid</th>\n",
       "      <th>vent_covid</th>\n",
       "      <th>vent_pui</th>\n",
       "      <th>vent_noncovid</th>\n",
       "      <th>vent_used</th>\n",
       "      <th>vent_port_used</th>\n",
       "    </tr>\n",
       "  </thead>\n",
       "  <tbody>\n",
       "    <tr>\n",
       "      <th>0</th>\n",
       "      <td>2020-01-25</td>\n",
       "      <td>4.0</td>\n",
       "      <td>4.0</td>\n",
       "      <td>0.0</td>\n",
       "      <td>4.0</td>\n",
       "      <td>0.0</td>\n",
       "      <td>4.0</td>\n",
       "      <td>0.0</td>\n",
       "      <td>0.0</td>\n",
       "      <td>0.0</td>\n",
       "      <td>...</td>\n",
       "      <td>NaN</td>\n",
       "      <td>NaN</td>\n",
       "      <td>NaN</td>\n",
       "      <td>NaN</td>\n",
       "      <td>NaN</td>\n",
       "      <td>NaN</td>\n",
       "      <td>NaN</td>\n",
       "      <td>NaN</td>\n",
       "      <td>NaN</td>\n",
       "      <td>NaN</td>\n",
       "    </tr>\n",
       "    <tr>\n",
       "      <th>1</th>\n",
       "      <td>2020-01-26</td>\n",
       "      <td>0.0</td>\n",
       "      <td>0.0</td>\n",
       "      <td>0.0</td>\n",
       "      <td>4.0</td>\n",
       "      <td>0.0</td>\n",
       "      <td>0.0</td>\n",
       "      <td>0.0</td>\n",
       "      <td>0.0</td>\n",
       "      <td>0.0</td>\n",
       "      <td>...</td>\n",
       "      <td>NaN</td>\n",
       "      <td>NaN</td>\n",
       "      <td>NaN</td>\n",
       "      <td>NaN</td>\n",
       "      <td>NaN</td>\n",
       "      <td>NaN</td>\n",
       "      <td>NaN</td>\n",
       "      <td>NaN</td>\n",
       "      <td>NaN</td>\n",
       "      <td>NaN</td>\n",
       "    </tr>\n",
       "    <tr>\n",
       "      <th>2</th>\n",
       "      <td>2020-01-27</td>\n",
       "      <td>0.0</td>\n",
       "      <td>0.0</td>\n",
       "      <td>0.0</td>\n",
       "      <td>4.0</td>\n",
       "      <td>0.0</td>\n",
       "      <td>0.0</td>\n",
       "      <td>0.0</td>\n",
       "      <td>0.0</td>\n",
       "      <td>0.0</td>\n",
       "      <td>...</td>\n",
       "      <td>NaN</td>\n",
       "      <td>NaN</td>\n",
       "      <td>NaN</td>\n",
       "      <td>NaN</td>\n",
       "      <td>NaN</td>\n",
       "      <td>NaN</td>\n",
       "      <td>NaN</td>\n",
       "      <td>NaN</td>\n",
       "      <td>NaN</td>\n",
       "      <td>NaN</td>\n",
       "    </tr>\n",
       "    <tr>\n",
       "      <th>3</th>\n",
       "      <td>2020-01-28</td>\n",
       "      <td>0.0</td>\n",
       "      <td>0.0</td>\n",
       "      <td>0.0</td>\n",
       "      <td>4.0</td>\n",
       "      <td>0.0</td>\n",
       "      <td>0.0</td>\n",
       "      <td>0.0</td>\n",
       "      <td>0.0</td>\n",
       "      <td>0.0</td>\n",
       "      <td>...</td>\n",
       "      <td>NaN</td>\n",
       "      <td>NaN</td>\n",
       "      <td>NaN</td>\n",
       "      <td>NaN</td>\n",
       "      <td>NaN</td>\n",
       "      <td>NaN</td>\n",
       "      <td>NaN</td>\n",
       "      <td>NaN</td>\n",
       "      <td>NaN</td>\n",
       "      <td>NaN</td>\n",
       "    </tr>\n",
       "    <tr>\n",
       "      <th>4</th>\n",
       "      <td>2020-01-29</td>\n",
       "      <td>3.0</td>\n",
       "      <td>3.0</td>\n",
       "      <td>0.0</td>\n",
       "      <td>7.0</td>\n",
       "      <td>0.0</td>\n",
       "      <td>3.0</td>\n",
       "      <td>0.0</td>\n",
       "      <td>0.0</td>\n",
       "      <td>0.0</td>\n",
       "      <td>...</td>\n",
       "      <td>NaN</td>\n",
       "      <td>NaN</td>\n",
       "      <td>NaN</td>\n",
       "      <td>NaN</td>\n",
       "      <td>NaN</td>\n",
       "      <td>NaN</td>\n",
       "      <td>NaN</td>\n",
       "      <td>NaN</td>\n",
       "      <td>NaN</td>\n",
       "      <td>NaN</td>\n",
       "    </tr>\n",
       "    <tr>\n",
       "      <th>...</th>\n",
       "      <td>...</td>\n",
       "      <td>...</td>\n",
       "      <td>...</td>\n",
       "      <td>...</td>\n",
       "      <td>...</td>\n",
       "      <td>...</td>\n",
       "      <td>...</td>\n",
       "      <td>...</td>\n",
       "      <td>...</td>\n",
       "      <td>...</td>\n",
       "      <td>...</td>\n",
       "      <td>...</td>\n",
       "      <td>...</td>\n",
       "      <td>...</td>\n",
       "      <td>...</td>\n",
       "      <td>...</td>\n",
       "      <td>...</td>\n",
       "      <td>...</td>\n",
       "      <td>...</td>\n",
       "      <td>...</td>\n",
       "      <td>...</td>\n",
       "    </tr>\n",
       "    <tr>\n",
       "      <th>13019</th>\n",
       "      <td>2022-06-08</td>\n",
       "      <td>NaN</td>\n",
       "      <td>NaN</td>\n",
       "      <td>NaN</td>\n",
       "      <td>NaN</td>\n",
       "      <td>NaN</td>\n",
       "      <td>NaN</td>\n",
       "      <td>NaN</td>\n",
       "      <td>NaN</td>\n",
       "      <td>NaN</td>\n",
       "      <td>...</td>\n",
       "      <td>NaN</td>\n",
       "      <td>NaN</td>\n",
       "      <td>NaN</td>\n",
       "      <td>NaN</td>\n",
       "      <td>NaN</td>\n",
       "      <td>NaN</td>\n",
       "      <td>NaN</td>\n",
       "      <td>NaN</td>\n",
       "      <td>NaN</td>\n",
       "      <td>NaN</td>\n",
       "    </tr>\n",
       "    <tr>\n",
       "      <th>13020</th>\n",
       "      <td>2022-06-08</td>\n",
       "      <td>NaN</td>\n",
       "      <td>NaN</td>\n",
       "      <td>NaN</td>\n",
       "      <td>NaN</td>\n",
       "      <td>NaN</td>\n",
       "      <td>NaN</td>\n",
       "      <td>NaN</td>\n",
       "      <td>NaN</td>\n",
       "      <td>NaN</td>\n",
       "      <td>...</td>\n",
       "      <td>NaN</td>\n",
       "      <td>NaN</td>\n",
       "      <td>NaN</td>\n",
       "      <td>NaN</td>\n",
       "      <td>NaN</td>\n",
       "      <td>NaN</td>\n",
       "      <td>NaN</td>\n",
       "      <td>NaN</td>\n",
       "      <td>NaN</td>\n",
       "      <td>NaN</td>\n",
       "    </tr>\n",
       "    <tr>\n",
       "      <th>13021</th>\n",
       "      <td>2022-06-08</td>\n",
       "      <td>NaN</td>\n",
       "      <td>NaN</td>\n",
       "      <td>NaN</td>\n",
       "      <td>NaN</td>\n",
       "      <td>NaN</td>\n",
       "      <td>NaN</td>\n",
       "      <td>NaN</td>\n",
       "      <td>NaN</td>\n",
       "      <td>NaN</td>\n",
       "      <td>...</td>\n",
       "      <td>NaN</td>\n",
       "      <td>NaN</td>\n",
       "      <td>NaN</td>\n",
       "      <td>NaN</td>\n",
       "      <td>NaN</td>\n",
       "      <td>NaN</td>\n",
       "      <td>NaN</td>\n",
       "      <td>NaN</td>\n",
       "      <td>NaN</td>\n",
       "      <td>NaN</td>\n",
       "    </tr>\n",
       "    <tr>\n",
       "      <th>13022</th>\n",
       "      <td>2022-06-08</td>\n",
       "      <td>NaN</td>\n",
       "      <td>NaN</td>\n",
       "      <td>NaN</td>\n",
       "      <td>NaN</td>\n",
       "      <td>NaN</td>\n",
       "      <td>NaN</td>\n",
       "      <td>NaN</td>\n",
       "      <td>NaN</td>\n",
       "      <td>NaN</td>\n",
       "      <td>...</td>\n",
       "      <td>NaN</td>\n",
       "      <td>NaN</td>\n",
       "      <td>NaN</td>\n",
       "      <td>NaN</td>\n",
       "      <td>NaN</td>\n",
       "      <td>NaN</td>\n",
       "      <td>NaN</td>\n",
       "      <td>NaN</td>\n",
       "      <td>NaN</td>\n",
       "      <td>NaN</td>\n",
       "    </tr>\n",
       "    <tr>\n",
       "      <th>13023</th>\n",
       "      <td>2022-06-08</td>\n",
       "      <td>NaN</td>\n",
       "      <td>NaN</td>\n",
       "      <td>NaN</td>\n",
       "      <td>NaN</td>\n",
       "      <td>NaN</td>\n",
       "      <td>NaN</td>\n",
       "      <td>NaN</td>\n",
       "      <td>NaN</td>\n",
       "      <td>NaN</td>\n",
       "      <td>...</td>\n",
       "      <td>NaN</td>\n",
       "      <td>NaN</td>\n",
       "      <td>NaN</td>\n",
       "      <td>NaN</td>\n",
       "      <td>NaN</td>\n",
       "      <td>NaN</td>\n",
       "      <td>NaN</td>\n",
       "      <td>NaN</td>\n",
       "      <td>NaN</td>\n",
       "      <td>NaN</td>\n",
       "    </tr>\n",
       "  </tbody>\n",
       "</table>\n",
       "<p>53578 rows × 68 columns</p>\n",
       "</div>"
      ],
      "text/plain": [
       "             date  cases_new  cases_import  cases_recovered  cases_active  \\\n",
       "0      2020-01-25        4.0           4.0              0.0           4.0   \n",
       "1      2020-01-26        0.0           0.0              0.0           4.0   \n",
       "2      2020-01-27        0.0           0.0              0.0           4.0   \n",
       "3      2020-01-28        0.0           0.0              0.0           4.0   \n",
       "4      2020-01-29        3.0           3.0              0.0           7.0   \n",
       "...           ...        ...           ...              ...           ...   \n",
       "13019  2022-06-08        NaN           NaN              NaN           NaN   \n",
       "13020  2022-06-08        NaN           NaN              NaN           NaN   \n",
       "13021  2022-06-08        NaN           NaN              NaN           NaN   \n",
       "13022  2022-06-08        NaN           NaN              NaN           NaN   \n",
       "13023  2022-06-08        NaN           NaN              NaN           NaN   \n",
       "\n",
       "       cases_cluster  cases_unvax  cases_pvax  cases_fvax  cases_boost  ...  \\\n",
       "0                0.0          4.0         0.0         0.0          0.0  ...   \n",
       "1                0.0          0.0         0.0         0.0          0.0  ...   \n",
       "2                0.0          0.0         0.0         0.0          0.0  ...   \n",
       "3                0.0          0.0         0.0         0.0          0.0  ...   \n",
       "4                0.0          3.0         0.0         0.0          0.0  ...   \n",
       "...              ...          ...         ...         ...          ...  ...   \n",
       "13019            NaN          NaN         NaN         NaN          NaN  ...   \n",
       "13020            NaN          NaN         NaN         NaN          NaN  ...   \n",
       "13021            NaN          NaN         NaN         NaN          NaN  ...   \n",
       "13022            NaN          NaN         NaN         NaN          NaN  ...   \n",
       "13023            NaN          NaN         NaN         NaN          NaN  ...   \n",
       "\n",
       "       vent  vent_port  icu_covid  icu_pui  icu_noncovid  vent_covid  \\\n",
       "0       NaN        NaN        NaN      NaN           NaN         NaN   \n",
       "1       NaN        NaN        NaN      NaN           NaN         NaN   \n",
       "2       NaN        NaN        NaN      NaN           NaN         NaN   \n",
       "3       NaN        NaN        NaN      NaN           NaN         NaN   \n",
       "4       NaN        NaN        NaN      NaN           NaN         NaN   \n",
       "...     ...        ...        ...      ...           ...         ...   \n",
       "13019   NaN        NaN        NaN      NaN           NaN         NaN   \n",
       "13020   NaN        NaN        NaN      NaN           NaN         NaN   \n",
       "13021   NaN        NaN        NaN      NaN           NaN         NaN   \n",
       "13022   NaN        NaN        NaN      NaN           NaN         NaN   \n",
       "13023   NaN        NaN        NaN      NaN           NaN         NaN   \n",
       "\n",
       "       vent_pui  vent_noncovid  vent_used  vent_port_used  \n",
       "0           NaN            NaN        NaN             NaN  \n",
       "1           NaN            NaN        NaN             NaN  \n",
       "2           NaN            NaN        NaN             NaN  \n",
       "3           NaN            NaN        NaN             NaN  \n",
       "4           NaN            NaN        NaN             NaN  \n",
       "...         ...            ...        ...             ...  \n",
       "13019       NaN            NaN        NaN             NaN  \n",
       "13020       NaN            NaN        NaN             NaN  \n",
       "13021       NaN            NaN        NaN             NaN  \n",
       "13022       NaN            NaN        NaN             NaN  \n",
       "13023       NaN            NaN        NaN             NaN  \n",
       "\n",
       "[53578 rows x 68 columns]"
      ]
     },
     "execution_count": 5,
     "metadata": {},
     "output_type": "execute_result"
    }
   ],
   "source": [
    "df = fetch_mys_data(GITHUB_MOH)\n",
    "df"
   ]
  },
  {
   "cell_type": "code",
   "execution_count": 6,
   "metadata": {},
   "outputs": [
    {
     "data": {
      "text/plain": [
       "Index(['date', 'cases_new', 'cases_import', 'cases_recovered', 'cases_active',\n",
       "       'cases_cluster', 'cases_unvax', 'cases_pvax', 'cases_fvax',\n",
       "       'cases_boost', 'cases_child', 'cases_adolescent', 'cases_adult',\n",
       "       'cases_elderly', 'cases_0_4', 'cases_5_11', 'cases_12_17',\n",
       "       'cases_18_29', 'cases_30_39', 'cases_40_49', 'cases_50_59',\n",
       "       'cases_60_69', 'cases_70_79', 'cases_80', 'cluster_import',\n",
       "       'cluster_religious', 'cluster_community', 'cluster_highRisk',\n",
       "       'cluster_education', 'cluster_detentionCentre', 'cluster_workplace',\n",
       "       'type', 'deaths_new', 'deaths_bid', 'deaths_new_dod', 'deaths_bid_dod',\n",
       "       'deaths_unvax', 'deaths_pvax', 'deaths_fvax', 'deaths_boost',\n",
       "       'deaths_tat', 'state', 'beds', 'beds_covid', 'beds_noncrit',\n",
       "       'admitted_pui', 'admitted_covid', 'admitted_total', 'discharged_pui',\n",
       "       'discharged_covid', 'discharged_total', 'hosp_covid', 'hosp_pui',\n",
       "       'hosp_noncovid', 'beds_icu', 'beds_icu_rep', 'beds_icu_total',\n",
       "       'beds_icu_covid', 'vent', 'vent_port', 'icu_covid', 'icu_pui',\n",
       "       'icu_noncovid', 'vent_covid', 'vent_pui', 'vent_noncovid', 'vent_used',\n",
       "       'vent_port_used'],\n",
       "      dtype='object')"
      ]
     },
     "execution_count": 6,
     "metadata": {},
     "output_type": "execute_result"
    }
   ],
   "source": [
    "df.columns"
   ]
  },
  {
   "cell_type": "code",
   "execution_count": 7,
   "metadata": {},
   "outputs": [
    {
     "data": {
      "text/plain": [
       "0                      NaN\n",
       "1                      NaN\n",
       "2                      NaN\n",
       "3                      NaN\n",
       "4                      NaN\n",
       "               ...        \n",
       "13019             Selangor\n",
       "13020           Terengganu\n",
       "13021    W.P. Kuala Lumpur\n",
       "13022          W.P. Labuan\n",
       "13023       W.P. Putrajaya\n",
       "Name: state, Length: 53578, dtype: object"
      ]
     },
     "execution_count": 7,
     "metadata": {},
     "output_type": "execute_result"
    }
   ],
   "source": [
    "df['state']"
   ]
  },
  {
   "cell_type": "markdown",
   "metadata": {},
   "source": [
    "We need to do some housekeeping.\n",
    "- Fill the missing state values with 'Malaysia'\n",
    "- Ensure the date type is correct and not a string '10-06-2022'\n",
    "- Create an integer offset from COVID_BASE_DATE. "
   ]
  },
  {
   "cell_type": "code",
   "execution_count": 8,
   "metadata": {},
   "outputs": [],
   "source": [
    "df.loc[df['state'].isna(), 'state'] = 'Malaysia' \n",
    "df['date'] = pd.to_datetime(df['date'])\n",
    "df['date_index'] = (df['date'] - COVID_BASE_DATE).dt.days"
   ]
  },
  {
   "cell_type": "markdown",
   "metadata": {},
   "source": [
    "Let's create a boolean mask to aid with our analysis. Recall the 'REGION' variable we set at the beginning and the type column we created while downloading the data.<br>\n",
    "\n",
    "We define a \"filter\". In this example, it's for Malaysia's cases. By changing the 'REGION' variable and or type column, we can change the focus of the analysis."
   ]
  },
  {
   "cell_type": "code",
   "execution_count": 9,
   "metadata": {},
   "outputs": [],
   "source": [
    "filter = (df['state'] == REGION) & (df['type'] == 'cases')"
   ]
  },
  {
   "cell_type": "code",
   "execution_count": 10,
   "metadata": {},
   "outputs": [
    {
     "data": {
      "text/html": [
       "<div>\n",
       "<style scoped>\n",
       "    .dataframe tbody tr th:only-of-type {\n",
       "        vertical-align: middle;\n",
       "    }\n",
       "\n",
       "    .dataframe tbody tr th {\n",
       "        vertical-align: top;\n",
       "    }\n",
       "\n",
       "    .dataframe thead th {\n",
       "        text-align: right;\n",
       "    }\n",
       "</style>\n",
       "<table border=\"1\" class=\"dataframe\">\n",
       "  <thead>\n",
       "    <tr style=\"text-align: right;\">\n",
       "      <th></th>\n",
       "      <th>date</th>\n",
       "      <th>cases_new</th>\n",
       "      <th>deaths_new</th>\n",
       "    </tr>\n",
       "  </thead>\n",
       "  <tbody>\n",
       "    <tr>\n",
       "      <th>0</th>\n",
       "      <td>2020-01-25</td>\n",
       "      <td>4.0</td>\n",
       "      <td>NaN</td>\n",
       "    </tr>\n",
       "    <tr>\n",
       "      <th>1</th>\n",
       "      <td>2020-01-26</td>\n",
       "      <td>0.0</td>\n",
       "      <td>NaN</td>\n",
       "    </tr>\n",
       "    <tr>\n",
       "      <th>2</th>\n",
       "      <td>2020-01-27</td>\n",
       "      <td>0.0</td>\n",
       "      <td>NaN</td>\n",
       "    </tr>\n",
       "    <tr>\n",
       "      <th>3</th>\n",
       "      <td>2020-01-28</td>\n",
       "      <td>0.0</td>\n",
       "      <td>NaN</td>\n",
       "    </tr>\n",
       "    <tr>\n",
       "      <th>4</th>\n",
       "      <td>2020-01-29</td>\n",
       "      <td>3.0</td>\n",
       "      <td>NaN</td>\n",
       "    </tr>\n",
       "    <tr>\n",
       "      <th>...</th>\n",
       "      <td>...</td>\n",
       "      <td>...</td>\n",
       "      <td>...</td>\n",
       "    </tr>\n",
       "    <tr>\n",
       "      <th>861</th>\n",
       "      <td>2022-06-04</td>\n",
       "      <td>1591.0</td>\n",
       "      <td>NaN</td>\n",
       "    </tr>\n",
       "    <tr>\n",
       "      <th>862</th>\n",
       "      <td>2022-06-05</td>\n",
       "      <td>1358.0</td>\n",
       "      <td>NaN</td>\n",
       "    </tr>\n",
       "    <tr>\n",
       "      <th>863</th>\n",
       "      <td>2022-06-06</td>\n",
       "      <td>1330.0</td>\n",
       "      <td>NaN</td>\n",
       "    </tr>\n",
       "    <tr>\n",
       "      <th>864</th>\n",
       "      <td>2022-06-07</td>\n",
       "      <td>1128.0</td>\n",
       "      <td>NaN</td>\n",
       "    </tr>\n",
       "    <tr>\n",
       "      <th>865</th>\n",
       "      <td>2022-06-08</td>\n",
       "      <td>1518.0</td>\n",
       "      <td>NaN</td>\n",
       "    </tr>\n",
       "  </tbody>\n",
       "</table>\n",
       "<p>866 rows × 3 columns</p>\n",
       "</div>"
      ],
      "text/plain": [
       "          date  cases_new  deaths_new\n",
       "0   2020-01-25        4.0         NaN\n",
       "1   2020-01-26        0.0         NaN\n",
       "2   2020-01-27        0.0         NaN\n",
       "3   2020-01-28        0.0         NaN\n",
       "4   2020-01-29        3.0         NaN\n",
       "..         ...        ...         ...\n",
       "861 2022-06-04     1591.0         NaN\n",
       "862 2022-06-05     1358.0         NaN\n",
       "863 2022-06-06     1330.0         NaN\n",
       "864 2022-06-07     1128.0         NaN\n",
       "865 2022-06-08     1518.0         NaN\n",
       "\n",
       "[866 rows x 3 columns]"
      ]
     },
     "execution_count": 10,
     "metadata": {},
     "output_type": "execute_result"
    }
   ],
   "source": [
    "df[filter][['date', 'cases_new','deaths_new']]  # Notice how the death data is NaN due to the filtering"
   ]
  },
  {
   "cell_type": "markdown",
   "metadata": {},
   "source": [
    "After all that work, let's look at the results.<br />\n",
    "Pandas has a .plot() function. Here is a [quick](https://pandas.pydata.org/docs/getting_started/intro_tutorials/04_plotting.html) or [detailed](https://pandas.pydata.org/pandas-docs/stable/user_guide/visualization.html?highlight=plot) tutorial.<br />\n",
    "We can also use `x='date_index` and change the `y` to any `case_` column."
   ]
  },
  {
   "cell_type": "code",
   "execution_count": 11,
   "metadata": {},
   "outputs": [
    {
     "data": {
      "image/png": "[encoded data removed]",
      "text/plain": [
       "<Figure size 1440x720 with 1 Axes>"
      ]
     },
     "metadata": {},
     "output_type": "display_data"
    }
   ],
   "source": [
    "df[filter].plot(x='date_index', y='cases_new', figsize=(20, 10));"
   ]
  },
  {
   "cell_type": "markdown",
   "metadata": {},
   "source": [
    "Let's also download the latest population distributions from the MoH GitHub repository."
   ]
  },
  {
   "cell_type": "code",
   "execution_count": 12,
   "metadata": {},
   "outputs": [],
   "source": [
    "POPULATION = 'https://raw.githubusercontent.com/MoH-Malaysia/covid19-public/main/static/population.csv'\n",
    "df_pop = pd.read_csv(POPULATION)"
   ]
  },
  {
   "cell_type": "code",
   "execution_count": 13,
   "metadata": {},
   "outputs": [
    {
     "data": {
      "text/html": [
       "<div>\n",
       "<style scoped>\n",
       "    .dataframe tbody tr th:only-of-type {\n",
       "        vertical-align: middle;\n",
       "    }\n",
       "\n",
       "    .dataframe tbody tr th {\n",
       "        vertical-align: top;\n",
       "    }\n",
       "\n",
       "    .dataframe thead th {\n",
       "        text-align: right;\n",
       "    }\n",
       "</style>\n",
       "<table border=\"1\" class=\"dataframe\">\n",
       "  <thead>\n",
       "    <tr style=\"text-align: right;\">\n",
       "      <th></th>\n",
       "      <th>state</th>\n",
       "      <th>idxs</th>\n",
       "      <th>pop</th>\n",
       "      <th>pop_18</th>\n",
       "      <th>pop_60</th>\n",
       "      <th>pop_12</th>\n",
       "      <th>pop_5</th>\n",
       "    </tr>\n",
       "  </thead>\n",
       "  <tbody>\n",
       "    <tr>\n",
       "      <th>0</th>\n",
       "      <td>Malaysia</td>\n",
       "      <td>0</td>\n",
       "      <td>32657100</td>\n",
       "      <td>23528200</td>\n",
       "      <td>3649000</td>\n",
       "      <td>3111400</td>\n",
       "      <td>3550500</td>\n",
       "    </tr>\n",
       "    <tr>\n",
       "      <th>1</th>\n",
       "      <td>Johor</td>\n",
       "      <td>1</td>\n",
       "      <td>3794200</td>\n",
       "      <td>2733400</td>\n",
       "      <td>445600</td>\n",
       "      <td>353900</td>\n",
       "      <td>409800</td>\n",
       "    </tr>\n",
       "    <tr>\n",
       "      <th>2</th>\n",
       "      <td>Kedah</td>\n",
       "      <td>2</td>\n",
       "      <td>2193600</td>\n",
       "      <td>1554800</td>\n",
       "      <td>282300</td>\n",
       "      <td>209700</td>\n",
       "      <td>254100</td>\n",
       "    </tr>\n",
       "    <tr>\n",
       "      <th>3</th>\n",
       "      <td>Kelantan</td>\n",
       "      <td>3</td>\n",
       "      <td>1928900</td>\n",
       "      <td>1258700</td>\n",
       "      <td>202100</td>\n",
       "      <td>211200</td>\n",
       "      <td>271700</td>\n",
       "    </tr>\n",
       "    <tr>\n",
       "      <th>4</th>\n",
       "      <td>Melaka</td>\n",
       "      <td>4</td>\n",
       "      <td>937800</td>\n",
       "      <td>683700</td>\n",
       "      <td>123200</td>\n",
       "      <td>85600</td>\n",
       "      <td>98200</td>\n",
       "    </tr>\n",
       "    <tr>\n",
       "      <th>5</th>\n",
       "      <td>Negeri Sembilan</td>\n",
       "      <td>5</td>\n",
       "      <td>1128900</td>\n",
       "      <td>819200</td>\n",
       "      <td>150300</td>\n",
       "      <td>105900</td>\n",
       "      <td>117200</td>\n",
       "    </tr>\n",
       "    <tr>\n",
       "      <th>6</th>\n",
       "      <td>Pahang</td>\n",
       "      <td>6</td>\n",
       "      <td>1684700</td>\n",
       "      <td>1188000</td>\n",
       "      <td>198100</td>\n",
       "      <td>172000</td>\n",
       "      <td>192600</td>\n",
       "    </tr>\n",
       "    <tr>\n",
       "      <th>7</th>\n",
       "      <td>Pulau Pinang</td>\n",
       "      <td>7</td>\n",
       "      <td>1774200</td>\n",
       "      <td>1374300</td>\n",
       "      <td>247600</td>\n",
       "      <td>139400</td>\n",
       "      <td>155600</td>\n",
       "    </tr>\n",
       "    <tr>\n",
       "      <th>8</th>\n",
       "      <td>Perak</td>\n",
       "      <td>8</td>\n",
       "      <td>2509000</td>\n",
       "      <td>1878100</td>\n",
       "      <td>410000</td>\n",
       "      <td>228000</td>\n",
       "      <td>239700</td>\n",
       "    </tr>\n",
       "    <tr>\n",
       "      <th>9</th>\n",
       "      <td>Perlis</td>\n",
       "      <td>9</td>\n",
       "      <td>255500</td>\n",
       "      <td>182100</td>\n",
       "      <td>36300</td>\n",
       "      <td>23000</td>\n",
       "      <td>29100</td>\n",
       "    </tr>\n",
       "    <tr>\n",
       "      <th>10</th>\n",
       "      <td>Selangor</td>\n",
       "      <td>10</td>\n",
       "      <td>6555100</td>\n",
       "      <td>4776300</td>\n",
       "      <td>607800</td>\n",
       "      <td>569200</td>\n",
       "      <td>715400</td>\n",
       "    </tr>\n",
       "    <tr>\n",
       "      <th>11</th>\n",
       "      <td>Terengganu</td>\n",
       "      <td>11</td>\n",
       "      <td>1275200</td>\n",
       "      <td>822000</td>\n",
       "      <td>120100</td>\n",
       "      <td>138000</td>\n",
       "      <td>178700</td>\n",
       "    </tr>\n",
       "    <tr>\n",
       "      <th>12</th>\n",
       "      <td>Sabah</td>\n",
       "      <td>12</td>\n",
       "      <td>3832500</td>\n",
       "      <td>2716600</td>\n",
       "      <td>249000</td>\n",
       "      <td>426200</td>\n",
       "      <td>411000</td>\n",
       "    </tr>\n",
       "    <tr>\n",
       "      <th>13</th>\n",
       "      <td>Sarawak</td>\n",
       "      <td>13</td>\n",
       "      <td>2824700</td>\n",
       "      <td>2066100</td>\n",
       "      <td>348300</td>\n",
       "      <td>289200</td>\n",
       "      <td>286000</td>\n",
       "    </tr>\n",
       "    <tr>\n",
       "      <th>14</th>\n",
       "      <td>W.P. Kuala Lumpur</td>\n",
       "      <td>14</td>\n",
       "      <td>1746600</td>\n",
       "      <td>1332700</td>\n",
       "      <td>214200</td>\n",
       "      <td>139200</td>\n",
       "      <td>158300</td>\n",
       "    </tr>\n",
       "    <tr>\n",
       "      <th>15</th>\n",
       "      <td>W.P. Labuan</td>\n",
       "      <td>15</td>\n",
       "      <td>100100</td>\n",
       "      <td>69400</td>\n",
       "      <td>8500</td>\n",
       "      <td>10300</td>\n",
       "      <td>11700</td>\n",
       "    </tr>\n",
       "    <tr>\n",
       "      <th>16</th>\n",
       "      <td>W.P. Putrajaya</td>\n",
       "      <td>16</td>\n",
       "      <td>116100</td>\n",
       "      <td>72800</td>\n",
       "      <td>5600</td>\n",
       "      <td>10600</td>\n",
       "      <td>21400</td>\n",
       "    </tr>\n",
       "  </tbody>\n",
       "</table>\n",
       "</div>"
      ],
      "text/plain": [
       "                state  idxs       pop    pop_18   pop_60   pop_12    pop_5\n",
       "0            Malaysia     0  32657100  23528200  3649000  3111400  3550500\n",
       "1               Johor     1   3794200   2733400   445600   353900   409800\n",
       "2               Kedah     2   2193600   1554800   282300   209700   254100\n",
       "3            Kelantan     3   1928900   1258700   202100   211200   271700\n",
       "4              Melaka     4    937800    683700   123200    85600    98200\n",
       "5     Negeri Sembilan     5   1128900    819200   150300   105900   117200\n",
       "6              Pahang     6   1684700   1188000   198100   172000   192600\n",
       "7        Pulau Pinang     7   1774200   1374300   247600   139400   155600\n",
       "8               Perak     8   2509000   1878100   410000   228000   239700\n",
       "9              Perlis     9    255500    182100    36300    23000    29100\n",
       "10           Selangor    10   6555100   4776300   607800   569200   715400\n",
       "11         Terengganu    11   1275200    822000   120100   138000   178700\n",
       "12              Sabah    12   3832500   2716600   249000   426200   411000\n",
       "13            Sarawak    13   2824700   2066100   348300   289200   286000\n",
       "14  W.P. Kuala Lumpur    14   1746600   1332700   214200   139200   158300\n",
       "15        W.P. Labuan    15    100100     69400     8500    10300    11700\n",
       "16     W.P. Putrajaya    16    116100     72800     5600    10600    21400"
      ]
     },
     "execution_count": 13,
     "metadata": {},
     "output_type": "execute_result"
    }
   ],
   "source": [
    "df_pop"
   ]
  },
  {
   "cell_type": "code",
   "execution_count": 14,
   "metadata": {},
   "outputs": [],
   "source": [
    "initial_population = df_pop[df_pop['state'] == REGION]['pop'][0]"
   ]
  },
  {
   "cell_type": "markdown",
   "metadata": {},
   "source": [
    "## Basic model introduction\n",
    "\n",
    "This page introduces the processes for building and running a simple compartmental disease model with Summer.\n",
    "In the following example, we will create an SIR compartmental model for a general, unspecified emerging infectious disease spreading through a fully susceptible population. In this model there will be:\n",
    "\n",
    "- three compartments: susceptible (S), exposed(E), infected (I) and recovered (R)\n",
    "- a starting population of the REGION, with 100 of them infected (and infectious)\n",
    "- an evaluation timespan from day zero to END_DATE in 0.1 day steps\n",
    "- inter-compartmental flows for infection, deaths and recovery\n",
    "\n",
    "First, let's look at a complete example of this model in action, and then examine the details of each step. This is the complete example model that we will be working with:"
   ]
  },
  {
   "cell_type": "code",
   "execution_count": 15,
   "metadata": {},
   "outputs": [],
   "source": [
    "import numpy as np\n",
    "from summer import CompartmentalModel\n",
    "\n",
    "start_date = datetime(2021,1,1) # Define the start date.\n",
    "end_date = start_date + timedelta(days=300) # Define the duration.\n",
    "\n",
    "# Integer representation of the start and end dates.\n",
    "start_date_int = (start_date - COVID_BASE_DATE).days\n",
    "end_date_int = (end_date- COVID_BASE_DATE).days"
   ]
  },
  {
   "cell_type": "code",
   "execution_count": 16,
   "metadata": {},
   "outputs": [],
   "source": [
    "# Define the model compartments and time step.\n",
    "model = CompartmentalModel(\n",
    "    times=(start_date_int, end_date_int),\n",
    "    compartments=[\"S\", \"E\", \"I\", \"R\"],\n",
    "    infectious_compartments=[\"I\"],\n",
    "    timestep=0.1,\n",
    ")"
   ]
  },
  {
   "cell_type": "code",
   "execution_count": 37,
   "metadata": {},
   "outputs": [],
   "source": [
    "# Define the initial population and compartmental flows.\n",
    "model.set_initial_population(distribution={\"S\": 100000, \"E\": 0, \"I\": 100})\n",
    "model.add_infection_frequency_flow(name=\"exposure\", contact_rate=0.12, source=\"S\", dest=\"E\")\n",
    "model.add_transition_flow(name=\"infection\", fractional_rate=1/15, source=\"E\", dest=\"I\")\n",
    "model.add_transition_flow(name=\"recovery\", fractional_rate=0.04, source=\"I\", dest=\"R\")\n",
    "#model.add_death_flow(name=\"infection_death\", death_rate=0.05, source=\"I\")\n",
    "\n",
    "# Run the model\n",
    "model.run()\n"
   ]
  },
  {
   "cell_type": "markdown",
   "metadata": {},
   "source": [
    "Our `model` object has many `model.functions()` attached to it. You are encouraged to explore these functions as this object is integral to the platform."
   ]
  },
  {
   "cell_type": "code",
   "execution_count": 38,
   "metadata": {},
   "outputs": [],
   "source": [
    "output_df = model.get_outputs_df()"
   ]
  },
  {
   "cell_type": "markdown",
   "metadata": {},
   "source": [
    "We now have a Pandas dataframe of compartments sizes at each time step."
   ]
  },
  {
   "cell_type": "code",
   "execution_count": 39,
   "metadata": {},
   "outputs": [
    {
     "data": {
      "text/html": [
       "<div>\n",
       "<style scoped>\n",
       "    .dataframe tbody tr th:only-of-type {\n",
       "        vertical-align: middle;\n",
       "    }\n",
       "\n",
       "    .dataframe tbody tr th {\n",
       "        vertical-align: top;\n",
       "    }\n",
       "\n",
       "    .dataframe thead th {\n",
       "        text-align: right;\n",
       "    }\n",
       "</style>\n",
       "<table border=\"1\" class=\"dataframe\">\n",
       "  <thead>\n",
       "    <tr style=\"text-align: right;\">\n",
       "      <th></th>\n",
       "      <th>S</th>\n",
       "      <th>E</th>\n",
       "      <th>I</th>\n",
       "      <th>R</th>\n",
       "    </tr>\n",
       "  </thead>\n",
       "  <tbody>\n",
       "    <tr>\n",
       "      <th>367.0</th>\n",
       "      <td>100000.000000</td>\n",
       "      <td>0.000000</td>\n",
       "      <td>100.000000</td>\n",
       "      <td>0.000000</td>\n",
       "    </tr>\n",
       "    <tr>\n",
       "      <th>367.1</th>\n",
       "      <td>99994.657536</td>\n",
       "      <td>5.254125</td>\n",
       "      <td>98.107616</td>\n",
       "      <td>1.980722</td>\n",
       "    </tr>\n",
       "    <tr>\n",
       "      <th>367.2</th>\n",
       "      <td>99989.411811</td>\n",
       "      <td>10.240885</td>\n",
       "      <td>96.421623</td>\n",
       "      <td>3.925681</td>\n",
       "    </tr>\n",
       "    <tr>\n",
       "      <th>367.3</th>\n",
       "      <td>99984.251977</td>\n",
       "      <td>14.979751</td>\n",
       "      <td>94.929379</td>\n",
       "      <td>5.838893</td>\n",
       "    </tr>\n",
       "    <tr>\n",
       "      <th>367.4</th>\n",
       "      <td>99979.167306</td>\n",
       "      <td>19.489942</td>\n",
       "      <td>93.618419</td>\n",
       "      <td>7.724332</td>\n",
       "    </tr>\n",
       "    <tr>\n",
       "      <th>367.5</th>\n",
       "      <td>99974.148606</td>\n",
       "      <td>23.787719</td>\n",
       "      <td>92.478272</td>\n",
       "      <td>9.585403</td>\n",
       "    </tr>\n",
       "    <tr>\n",
       "      <th>367.6</th>\n",
       "      <td>99969.187390</td>\n",
       "      <td>27.887961</td>\n",
       "      <td>91.499400</td>\n",
       "      <td>11.425249</td>\n",
       "    </tr>\n",
       "    <tr>\n",
       "      <th>367.7</th>\n",
       "      <td>99964.275488</td>\n",
       "      <td>31.804923</td>\n",
       "      <td>90.672692</td>\n",
       "      <td>13.246897</td>\n",
       "    </tr>\n",
       "    <tr>\n",
       "      <th>367.8</th>\n",
       "      <td>99959.405038</td>\n",
       "      <td>35.552239</td>\n",
       "      <td>89.989461</td>\n",
       "      <td>15.053261</td>\n",
       "    </tr>\n",
       "    <tr>\n",
       "      <th>367.9</th>\n",
       "      <td>99954.568492</td>\n",
       "      <td>39.142922</td>\n",
       "      <td>89.441448</td>\n",
       "      <td>16.847138</td>\n",
       "    </tr>\n",
       "    <tr>\n",
       "      <th>368.0</th>\n",
       "      <td>99949.758614</td>\n",
       "      <td>42.589359</td>\n",
       "      <td>89.020817</td>\n",
       "      <td>18.631211</td>\n",
       "    </tr>\n",
       "    <tr>\n",
       "      <th>368.1</th>\n",
       "      <td>99944.968479</td>\n",
       "      <td>45.903318</td>\n",
       "      <td>88.720158</td>\n",
       "      <td>20.408044</td>\n",
       "    </tr>\n",
       "    <tr>\n",
       "      <th>368.2</th>\n",
       "      <td>99940.191477</td>\n",
       "      <td>49.095943</td>\n",
       "      <td>88.532488</td>\n",
       "      <td>22.180092</td>\n",
       "    </tr>\n",
       "    <tr>\n",
       "      <th>368.3</th>\n",
       "      <td>99935.421320</td>\n",
       "      <td>52.177731</td>\n",
       "      <td>88.451266</td>\n",
       "      <td>23.949684</td>\n",
       "    </tr>\n",
       "    <tr>\n",
       "      <th>368.4</th>\n",
       "      <td>99930.652487</td>\n",
       "      <td>55.157679</td>\n",
       "      <td>88.470964</td>\n",
       "      <td>25.718869</td>\n",
       "    </tr>\n",
       "    <tr>\n",
       "      <th>368.5</th>\n",
       "      <td>99925.880037</td>\n",
       "      <td>58.043658</td>\n",
       "      <td>88.586824</td>\n",
       "      <td>27.489481</td>\n",
       "    </tr>\n",
       "    <tr>\n",
       "      <th>368.6</th>\n",
       "      <td>99921.099150</td>\n",
       "      <td>60.843273</td>\n",
       "      <td>88.794270</td>\n",
       "      <td>29.263308</td>\n",
       "    </tr>\n",
       "    <tr>\n",
       "      <th>368.7</th>\n",
       "      <td>99916.305150</td>\n",
       "      <td>63.563825</td>\n",
       "      <td>89.088940</td>\n",
       "      <td>31.042085</td>\n",
       "    </tr>\n",
       "    <tr>\n",
       "      <th>368.8</th>\n",
       "      <td>99911.493511</td>\n",
       "      <td>66.212308</td>\n",
       "      <td>89.466688</td>\n",
       "      <td>32.827493</td>\n",
       "    </tr>\n",
       "    <tr>\n",
       "      <th>368.9</th>\n",
       "      <td>99906.659847</td>\n",
       "      <td>68.795409</td>\n",
       "      <td>89.923584</td>\n",
       "      <td>34.621160</td>\n",
       "    </tr>\n",
       "  </tbody>\n",
       "</table>\n",
       "</div>"
      ],
      "text/plain": [
       "                   S          E           I          R\n",
       "367.0  100000.000000   0.000000  100.000000   0.000000\n",
       "367.1   99994.657536   5.254125   98.107616   1.980722\n",
       "367.2   99989.411811  10.240885   96.421623   3.925681\n",
       "367.3   99984.251977  14.979751   94.929379   5.838893\n",
       "367.4   99979.167306  19.489942   93.618419   7.724332\n",
       "367.5   99974.148606  23.787719   92.478272   9.585403\n",
       "367.6   99969.187390  27.887961   91.499400  11.425249\n",
       "367.7   99964.275488  31.804923   90.672692  13.246897\n",
       "367.8   99959.405038  35.552239   89.989461  15.053261\n",
       "367.9   99954.568492  39.142922   89.441448  16.847138\n",
       "368.0   99949.758614  42.589359   89.020817  18.631211\n",
       "368.1   99944.968479  45.903318   88.720158  20.408044\n",
       "368.2   99940.191477  49.095943   88.532488  22.180092\n",
       "368.3   99935.421320  52.177731   88.451266  23.949684\n",
       "368.4   99930.652487  55.157679   88.470964  25.718869\n",
       "368.5   99925.880037  58.043658   88.586824  27.489481\n",
       "368.6   99921.099150  60.843273   88.794270  29.263308\n",
       "368.7   99916.305150  63.563825   89.088940  31.042085\n",
       "368.8   99911.493511  66.212308   89.466688  32.827493\n",
       "368.9   99906.659847  68.795409   89.923584  34.621160"
      ]
     },
     "execution_count": 39,
     "metadata": {},
     "output_type": "execute_result"
    }
   ],
   "source": [
    "output_df.head(20)"
   ]
  },
  {
   "cell_type": "markdown",
   "metadata": {},
   "source": [
    "Extract the target data from the MoH dataframe."
   ]
  },
  {
   "cell_type": "code",
   "execution_count": 40,
   "metadata": {},
   "outputs": [],
   "source": [
    "target = df[filter][start_date_int: end_date_int]['cases_new']\n",
    "xrange = range(start_date_int, end_date_int) # Create a integer range from the start date to the end date."
   ]
  },
  {
   "cell_type": "markdown",
   "metadata": {},
   "source": [
    "Useful Matplotlib [guide](https://matplotlib.org/stable/tutorials/introductory/usage.html#sphx-glr-tutorials-introductory-usage-py)"
   ]
  },
  {
   "cell_type": "code",
   "execution_count": 41,
   "metadata": {},
   "outputs": [
    {
     "data": {
      "image/png": "[encoded data removed]",
      "text/plain": [
       "<Figure size 1440x720 with 1 Axes>"
      ]
     },
     "metadata": {},
     "output_type": "display_data"
    }
   ],
   "source": [
    "# Visualize the results\n",
    "subplot = {\"title\": \"SEIR Model Outputs\", \"xlabel\": \"Days\", \"ylabel\": \"Compartment size\"} # A dictionary of key:values pairs that matplotlib will use to label items.\n",
    "fig, ax = plt.subplots(1, 1, figsize=(12, 6), dpi=120, subplot_kw=subplot) # Create a subplot object.\n",
    "\n",
    "for compartment in output_df:  # Loop over each compartment\n",
    "    ax.plot(model.times, output_df[compartment])  # Plot the times and compartment values\n",
    "\n",
    "ax.legend([\"S\", \"E\", \"I\", \"R\",\"Cases\"])\n",
    "plt.show();"
   ]
  },
  {
   "cell_type": "markdown",
   "metadata": {},
   "source": [
    "\n",
    "Now let's inspect each step of the example in more detail. To start, here's how to create a new model: let's import the summer library and create a new [CompartmentalModel](/api/model.html) object. You can see that our model has an attribute called `compartments`, which contains a description of each modelled compartment."
   ]
  },
  {
   "cell_type": "code",
   "execution_count": 45,
   "metadata": {},
   "outputs": [],
   "source": [
    "# Define the model\n",
    "model = CompartmentalModel(\n",
    "    times=(start_date_int, end_date_int),\n",
    "    compartments=[\"S\", \"E\", \"I\", \"R\"],\n",
    "    infectious_compartments=[\"I\"],\n",
    "    timestep=0.1,\n",
    ")"
   ]
  },
  {
   "cell_type": "markdown",
   "metadata": {},
   "source": [
    "### Adding a population \n",
    "\n",
    "Initially the model compartments are all empty. Let's add:\n",
    "\n",
    "- 100000 people to the susceptible (S) compartment, plus\n",
    "- 100 in the infectious (I) compartment."
   ]
  },
  {
   "cell_type": "code",
   "execution_count": 46,
   "metadata": {},
   "outputs": [
    {
     "data": {
      "text/plain": [
       "array([32000000.00, 0.00, 100.00, 0.00])"
      ]
     },
     "execution_count": 46,
     "metadata": {},
     "output_type": "execute_result"
    }
   ],
   "source": [
    "# Add people to the model\n",
    "model.set_initial_population(distribution={\"S\": 3.2e7, \"E\": 0, \"I\": 100})\n",
    "\n",
    "# View the initial population\n",
    "model.initial_population"
   ]
  },
  {
   "cell_type": "markdown",
   "metadata": {},
   "source": [
    "### Adding inter-compartmental flows \n",
    "\n",
    "Now, let's add some flows for people to transition between the compartments. These flows will define the dynamics of our infection. We will add:\n",
    "\n",
    "- an infection flow from S to E (using frequency-dependent transmission)\n",
    "- an exposed individual becomes infected E to I.\n",
    "- a recovery flow from I to R"
   ]
  },
  {
   "cell_type": "code",
   "execution_count": 47,
   "metadata": {
    "scrolled": true
   },
   "outputs": [],
   "source": [
    "# Susceptible people can get infected.\n",
    "model.add_infection_frequency_flow(name=\"infection\", contact_rate=0.2, source=\"S\", dest=\"E\")\n",
    "\n",
    "# Expose people transition to infected.\n",
    "model.add_transition_flow(name=\"progression\", fractional_rate=1/15, source=\"E\", dest=\"I\")\n",
    "\n",
    "# Infectious people recover.\n",
    "model.add_transition_flow(name=\"recovery\", fractional_rate=0.04, source=\"I\", dest=\"R\")\n",
    "\n",
    "# Inspect the new flows, which we just added to the model.\n",
    "model._flows\n",
    "\n",
    "model.request_output_for_flow(\"notifications\", \"progression\")"
   ]
  },
  {
   "cell_type": "markdown",
   "metadata": {},
   "source": [
    "### Running the model\n",
    "\n",
    "Now we can calculate the outputs for the model over the requested time period. \n",
    "The model calculates the compartment sizes by solving a system of differential equations (defined by the flows we just added) over the requested time period."
   ]
  },
  {
   "cell_type": "code",
   "execution_count": 48,
   "metadata": {},
   "outputs": [],
   "source": [
    "model.run()"
   ]
  },
  {
   "cell_type": "markdown",
   "metadata": {},
   "source": [
    "### Print the model outputs\n",
    "\n",
    "The model's results are available in a NumPy array named `model.outputs`. \n",
    "This array is available after the model has been run. Let's have a look at what's inside:"
   ]
  },
  {
   "cell_type": "code",
   "execution_count": 49,
   "metadata": {},
   "outputs": [
    {
     "data": {
      "text/plain": [
       "array([[32000000.00, 0.00, 100.00, 0.00],\n",
       "       [31999998.00, 1.99, 99.61, 0.40],\n",
       "       [31999996.02, 3.96, 99.23, 0.80],\n",
       "       [31999994.03, 5.91, 98.87, 1.19],\n",
       "       [31999992.06, 7.83, 98.52, 1.59],\n",
       "       [31999990.09, 9.74, 98.18, 1.98],\n",
       "       [31999988.13, 11.63, 97.86, 2.37],\n",
       "       [31999986.18, 13.50, 97.55, 2.76],\n",
       "       [31999984.23, 15.35, 97.26, 3.15],\n",
       "       [31999982.29, 17.19, 96.98, 3.54],\n",
       "       [31999980.35, 19.00, 96.71, 3.93],\n",
       "       [31999978.42, 20.80, 96.46, 4.32],\n",
       "       [31999976.49, 22.59, 96.22, 4.70],\n",
       "       [31999974.57, 24.35, 95.99, 5.09],\n",
       "       [31999972.65, 26.10, 95.78, 5.47],\n",
       "       [31999970.74, 27.83, 95.57, 5.85],\n",
       "       [31999968.83, 29.55, 95.38, 6.23],\n",
       "       [31999966.92, 31.26, 95.20, 6.62],\n",
       "       [31999965.02, 32.94, 95.04, 7.00],\n",
       "       [31999963.12, 34.62, 94.88, 7.38],\n",
       "       [31999961.23, 36.28, 94.74, 7.75],\n",
       "       [31999959.33, 37.92, 94.61, 8.13],\n",
       "       [31999957.44, 39.56, 94.49, 8.51],\n",
       "       [31999955.55, 41.18, 94.38, 8.89],\n",
       "       [31999953.67, 42.78, 94.28, 9.27]])"
      ]
     },
     "execution_count": 49,
     "metadata": {},
     "output_type": "execute_result"
    }
   ],
   "source": [
    "# Force NumPy to format the output array nicely. \n",
    "import numpy as np\n",
    "np.set_printoptions(formatter={'all': lambda f: f\"{f:0.2f}\"})\n",
    "\n",
    "# View the first 25 timesteps of the output array.\n",
    "model.outputs[:25]"
   ]
  },
  {
   "cell_type": "code",
   "execution_count": 50,
   "metadata": {},
   "outputs": [
    {
     "data": {
      "text/plain": [
       "array([0.00, 0.01, 0.02, 0.03, 0.05, 0.06, 0.07, 0.08, 0.10, 0.11, 0.12,\n",
       "       0.13, 0.14, 0.16, 0.17, 0.18, 0.19, 0.20, 0.21, 0.23, 0.24, 0.25,\n",
       "       0.26, 0.27, 0.28])"
      ]
     },
     "execution_count": 50,
     "metadata": {},
     "output_type": "execute_result"
    }
   ],
   "source": [
    "model.derived_outputs[\"notifications\"][:25]"
   ]
  },
  {
   "cell_type": "markdown",
   "metadata": {},
   "source": [
    "### Plot the outputs\n",
    "\n",
    "You can get a better idea of what is going on inside the model by visualising how the compartment sizes change over time."
   ]
  },
  {
   "cell_type": "code",
   "execution_count": 54,
   "metadata": {
    "scrolled": true
   },
   "outputs": [
    {
     "data": {
      "image/png": "[encoded data removed]",
      "text/plain": [
       "<Figure size 1440x720 with 1 Axes>"
      ]
     },
     "metadata": {},
     "output_type": "display_data"
    }
   ],
   "source": [
    "# Visualize the results.\n",
    "subplot = {\"title\": \"SEIR Model Outputs\", \"xlabel\": \"Days\", \"ylabel\": \"Compartment size\"}\n",
    "fig, ax = plt.subplots(1, 1, figsize=(12, 6), dpi=120, subplot_kw=subplot)\n",
    "\n",
    "for compartment in output_df: # Loop over each compartment. \n",
    "    ax.plot(model.times, output_df[compartment]) # Plot the times and compartment values\n",
    "\n",
    "ax.legend([\"S\", \"E\", \"I\", \"R\"])\n",
    "plt.show();"
   ]
  },
  {
   "cell_type": "code",
   "execution_count": 55,
   "metadata": {},
   "outputs": [
    {
     "data": {
      "text/plain": [
       "[<matplotlib.lines.Line2D at 0x20826badbd0>]"
      ]
     },
     "execution_count": 55,
     "metadata": {},
     "output_type": "execute_result"
    },
    {
     "data": {
      "image/png": "[encoded data removed]",
      "text/plain": [
       "<Figure size 1440x720 with 1 Axes>"
      ]
     },
     "metadata": {},
     "output_type": "display_data"
    }
   ],
   "source": [
    "fig, ax = plt.subplots(1, 1, figsize=(12, 6), dpi=120)\n",
    "ax.plot(xrange, target)  # Plot the MoH target values\n",
    "ax.plot(model.times, model.derived_outputs[\"notifications\"])"
   ]
  },
  {
   "cell_type": "code",
   "execution_count": 30,
   "metadata": {},
   "outputs": [
    {
     "data": {
      "text/plain": [
       "array([367.00, 367.10, 367.20, ..., 666.80, 666.90, 667.00])"
      ]
     },
     "execution_count": 30,
     "metadata": {},
     "output_type": "execute_result"
    }
   ],
   "source": [
    "model.times"
   ]
  },
  {
   "cell_type": "markdown",
   "metadata": {},
   "source": [
    "## Summary\n",
    "\n",
    "That's it for now, now you know how to:\n",
    "\n",
    "- Create a model\n",
    "- Add a population\n",
    "- Add flows\n",
    "- Run the model\n",
    "- Access and visualise the outputs\n",
    "\n",
    "A detailed API reference for the CompartmentalModel class can be found [here](http://summerepi.com/api/model.html)"
   ]
  }
 ],
 "metadata": {
  "interpreter": {
   "hash": "3382d9152740e983dde2d381031ee2f8a7c26cd3ea552b2ab6ab283df787f155"
  },
  "kernelspec": {
   "display_name": "Python 3 (ipykernel)",
   "language": "python",
   "name": "python3"
  },
  "language_info": {
   "codemirror_mode": {
    "name": "ipython",
    "version": 3
   },
   "file_extension": ".py",
   "mimetype": "text/x-python",
   "name": "python",
   "nbconvert_exporter": "python",
   "pygments_lexer": "ipython3",
   "version": "3.10.3"
  }
 },
 "nbformat": 4,
 "nbformat_minor": 2
}
