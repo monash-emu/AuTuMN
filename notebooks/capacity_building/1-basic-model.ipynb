{
 "cells": [
  {
   "cell_type": "markdown",
   "metadata": {},
   "source": [
    "# Capacity Building\n",
    "## Prerequisites\n",
    "Some basic understanding of Python variables, data types, looping, conditionals and functions is required.\n",
    "## Data inputs\n",
    "### Import modules/packages"
   ]
  },
  {
   "cell_type": "markdown",
   "metadata": {},
   "source": [
    "Let's import some modules/packages. A module or package is pre-built Python code that we can leverage to provide useful functionality.<br> Generally, it will have the form of *module_name.function*"
   ]
  },
  {
   "cell_type": "code",
   "execution_count": null,
   "metadata": {},
   "outputs": [],
   "source": [
    "%pip install summerepi"
   ]
  },
  {
   "cell_type": "code",
   "execution_count": null,
   "metadata": {},
   "outputs": [],
   "source": [
    "import pandas as pd # pd is an alias for pandas. This is similar to dataframes in R.\n",
    "import matplotlib.pyplot as plt # matplotlib is the defacto visualisation package for python.\n",
    "from datetime import datetime, timedelta # We also use datetime to manipulate date-time indexes.\n",
    "\n",
    "plt.style.use('ggplot') # This sets the style of the plots. \n"
   ]
  },
  {
   "cell_type": "markdown",
   "metadata": {},
   "source": [
    "Try: There's a function inside plt.style that will show the styles. Change the plotting style to something you like."
   ]
  },
  {
   "cell_type": "markdown",
   "metadata": {},
   "source": [
    "### Define constants\n",
    "Defining and capitalising constants is recommended at the start of a Python script."
   ]
  },
  {
   "cell_type": "code",
   "execution_count": null,
   "metadata": {},
   "outputs": [],
   "source": [
    "# URL to the Ministry of health's GitHub repository.\n",
    "# What is the data type here, a tuple or string? Do you know how to check for the type?\n",
    "GITHUB_MOH = (\n",
    "    \"https://raw.githubusercontent.com/MoH-Malaysia/covid19-public/main/epidemic/\"\n",
    ")\n",
    "\n",
    "# A list containing the files to download.\n",
    "FILES = [\n",
    "    \"cases_malaysia\",\n",
    "    \"deaths_malaysia\",\n",
    "    \"hospital\",\n",
    "    \"icu\",\n",
    "    \"cases_state\",\n",
    "    \"deaths_state\",\n",
    "]\n",
    "\n",
    "# By defining a region parameter, we can easily change the analysis later.\n",
    "REGION = \"Malaysia\"\n",
    "\n",
    "# We define a day zero for the analysis.\n",
    "COVID_BASE_DATE = datetime(2019, 12, 31)\n"
   ]
  },
  {
   "cell_type": "markdown",
   "metadata": {},
   "source": [
    "### Utility functions"
   ]
  },
  {
   "cell_type": "code",
   "execution_count": null,
   "metadata": {},
   "outputs": [],
   "source": [
    "def fetch_mys_data(a_url:str)->pd.DataFrame:\n",
    "    \"\"\"Request files from MoH and combine them into one data frame.\n",
    "    Args:\n",
    "        a_url (str): A url to fetch data from.\n",
    "\n",
    "    Returns:\n",
    "        pd.DataFrame: A data frame containing all the files.\n",
    "    \"\"\"\n",
    "    a_list = [] # A empty list to hold each data frame. (a list can hold any python object)\n",
    "    for file in FILES: # Loop over each file name.\n",
    "        data_type = file.split('_')[0] # Split the file name on '_' and take the first part.\n",
    "        df = pd.read_csv(a_url + file + \".csv\") # Build the full url path to the file and ask pandas to download it. \n",
    "        df['type']  = data_type # Create a new column 'type' and enter the data_type.\n",
    "\n",
    "        a_list.append(df) # Place this dataframe into the list. \n",
    "\n",
    "    # We have looped over all the files, downloaded and entered it into a list of shape [df1,df2,df3,...].\n",
    "    \n",
    "    # Pandas will automatically combine this list into a single dataframe. It will expand the rows and columns as necessary.\n",
    "    df = pd.concat(a_list) \n",
    "    \n",
    "    return df # The function returns the dataframe."
   ]
  },
  {
   "cell_type": "markdown",
   "metadata": {},
   "source": [
    "Now call the function and pass it the MoH url.<br> Well done! We have scraped Malaysia's entire national and regional Covid-19 dataset into one dataframe"
   ]
  },
  {
   "cell_type": "code",
   "execution_count": null,
   "metadata": {},
   "outputs": [],
   "source": [
    "df = fetch_mys_data(GITHUB_MOH)\n",
    "df"
   ]
  },
  {
   "cell_type": "code",
   "execution_count": null,
   "metadata": {},
   "outputs": [],
   "source": [
    "df.columns"
   ]
  },
  {
   "cell_type": "code",
   "execution_count": null,
   "metadata": {},
   "outputs": [],
   "source": [
    "df['state']"
   ]
  },
  {
   "cell_type": "markdown",
   "metadata": {},
   "source": [
    "We need to do some housekeeping.\n",
    "- Fill the missing state values with 'Malaysia'\n",
    "- Ensure the date type is correct and not a string '10-06-2022'\n",
    "- Create an integer offset from COVID_BASE_DATE. "
   ]
  },
  {
   "cell_type": "code",
   "execution_count": null,
   "metadata": {},
   "outputs": [],
   "source": [
    "df.loc[df['state'].isna(), 'state'] = 'Malaysia' \n",
    "df['date'] = pd.to_datetime(df['date'])\n",
    "df['date_index'] = (df['date'] - COVID_BASE_DATE).dt.days"
   ]
  },
  {
   "cell_type": "markdown",
   "metadata": {},
   "source": [
    "Let's create a boolean mask to aid with our analysis. Recall the 'REGION' variable we set at the beginning and the type column we created while downloading the data.<br>\n",
    "\n",
    "We define a FILTER. In this example, it's for Malaysia's cases. By changing the 'REGION' variable and or type column, we can change the focus of the analysis."
   ]
  },
  {
   "cell_type": "code",
   "execution_count": null,
   "metadata": {},
   "outputs": [],
   "source": [
    "FILTER = (df['state'] == REGION) & (df['type'] == 'cases')"
   ]
  },
  {
   "cell_type": "code",
   "execution_count": null,
   "metadata": {},
   "outputs": [],
   "source": [
    "df[FILTER][['date', 'cases_new','deaths_new']] # Notice how the death data is NaN due to the filtering."
   ]
  },
  {
   "cell_type": "markdown",
   "metadata": {},
   "source": [
    "After all that work, let's look at the results.<br />\n",
    "Pandas has a .plot() function. Here is a [quick](https://pandas.pydata.org/docs/getting_started/intro_tutorials/04_plotting.html) or [detailed](https://pandas.pydata.org/pandas-docs/stable/user_guide/visualization.html?highlight=plot) tutorial.<br />\n",
    "We can also use `x='date_index` and change the `y` to any `case_` column."
   ]
  },
  {
   "cell_type": "code",
   "execution_count": null,
   "metadata": {},
   "outputs": [],
   "source": [
    "df[FILTER].plot(x='date_index', y='cases_new', figsize=(20, 10));"
   ]
  },
  {
   "cell_type": "markdown",
   "metadata": {},
   "source": [
    "Let's also download the latest population distributions from the MoH GitHub repository."
   ]
  },
  {
   "cell_type": "code",
   "execution_count": null,
   "metadata": {},
   "outputs": [],
   "source": [
    "POPULATION = 'https://raw.githubusercontent.com/MoH-Malaysia/covid19-public/main/static/population.csv'\n",
    "df_pop = pd.read_csv(POPULATION)"
   ]
  },
  {
   "cell_type": "code",
   "execution_count": null,
   "metadata": {},
   "outputs": [],
   "source": [
    "df_pop"
   ]
  },
  {
   "cell_type": "code",
   "execution_count": null,
   "metadata": {},
   "outputs": [],
   "source": [
    "initial_population = df_pop[df_pop['state'] == REGION]['pop'][0]"
   ]
  },
  {
   "cell_type": "markdown",
   "metadata": {},
   "source": [
    "## Basic model introduction\n",
    "\n",
    "This page introduces the processes for building and running a simple compartmental disease model with Summer.\n",
    "In the following example, we will create an SIR compartmental model for a general, unspecified emerging infectious disease spreading through a fully susceptible population. In this model there will be:\n",
    "\n",
    "- three compartments: susceptible (S), exposed(E), infected (I) and recovered (R)\n",
    "- a starting population of the REGION, with 100 of them infected (and infectious)\n",
    "- an evaluation timespan from day zero to END_DATE in 0.1 day steps\n",
    "- inter-compartmental flows for infection, deaths and recovery\n",
    "\n",
    "First, let's look at a complete example of this model in action, and then examine the details of each step. This is the complete example model that we will be working with:"
   ]
  },
  {
   "cell_type": "code",
   "execution_count": null,
   "metadata": {},
   "outputs": [],
   "source": [
    "import numpy as np\n",
    "from summer import CompartmentalModel\n",
    "\n",
    "START_DATE = datetime(2021,1,1) # Define the start date.\n",
    "END_DATE = START_DATE + timedelta(days=300) # Define the duration.\n",
    "\n",
    "# Integer representation of the start and end dates.\n",
    "START_DATE_INT = (START_DATE- COVID_BASE_DATE).days\n",
    "END_DATE_INT = (END_DATE- COVID_BASE_DATE).days"
   ]
  },
  {
   "cell_type": "code",
   "execution_count": null,
   "metadata": {},
   "outputs": [],
   "source": [
    "# Define the model compartments and time step.\n",
    "model = CompartmentalModel(\n",
    "    times=(START_DATE_INT, END_DATE_INT),\n",
    "    compartments=[\"S\", \"E\", \"I\", \"R\"],\n",
    "    infectious_compartments=[\"I\"],\n",
    "    timestep=0.1,\n",
    ")"
   ]
  },
  {
   "cell_type": "code",
   "execution_count": null,
   "metadata": {},
   "outputs": [],
   "source": [
    "# Define the initial population and compartmental flows.\n",
    "model.set_initial_population(distribution={\"S\": 100000, \"E\": 0, \"I\": 100})\n",
    "model.add_infection_frequency_flow(name=\"exposure\", contact_rate=0.12, source=\"S\", dest=\"E\")\n",
    "model.add_transition_flow(name=\"infection\", fractional_rate=1/15, source=\"E\", dest=\"I\")\n",
    "model.add_transition_flow(name=\"recovery\", fractional_rate=0.04, source=\"I\", dest=\"R\")\n",
    "#model.add_death_flow(name=\"infection_death\", death_rate=0.05, source=\"I\")\n",
    "\n",
    "# Run the model\n",
    "model.run()\n"
   ]
  },
  {
   "cell_type": "markdown",
   "metadata": {},
   "source": [
    "Our `model` object has many `model.functions()` attached to it. You are encouraged to explore these functions as this object is integral to the platform."
   ]
  },
  {
   "cell_type": "code",
   "execution_count": null,
   "metadata": {},
   "outputs": [],
   "source": [
    "output_df = model.get_outputs_df()"
   ]
  },
  {
   "cell_type": "markdown",
   "metadata": {},
   "source": [
    "We now have a Pandas dataframe of compartments sizes at each time step."
   ]
  },
  {
   "cell_type": "code",
   "execution_count": null,
   "metadata": {},
   "outputs": [],
   "source": [
    "output_df.head(20)"
   ]
  },
  {
   "cell_type": "markdown",
   "metadata": {},
   "source": [
    "Extract the target data from the MoH dataframe."
   ]
  },
  {
   "cell_type": "code",
   "execution_count": null,
   "metadata": {},
   "outputs": [],
   "source": [
    "target = df[FILTER][START_DATE_INT:END_DATE_INT]['cases_new']\n",
    "xrange = range(START_DATE_INT,END_DATE_INT) # Create a integer range from the start date to the end date."
   ]
  },
  {
   "cell_type": "markdown",
   "metadata": {},
   "source": [
    "Useful Matplotlib [guide](https://matplotlib.org/stable/tutorials/introductory/usage.html#sphx-glr-tutorials-introductory-usage-py)"
   ]
  },
  {
   "cell_type": "code",
   "execution_count": null,
   "metadata": {},
   "outputs": [],
   "source": [
    "# Visualize the results.\n",
    "subplot = {\"title\": \"SIR Model Outputs\", \"xlabel\": \"Days\", \"ylabel\": \"Compartment size\"} # A dictionary of key:values pairs that matplotlib will use to label items.\n",
    "fig, ax = plt.subplots(1, 1, figsize=(12, 6), dpi=120, subplot_kw=subplot) # Create a subplot object.\n",
    "\n",
    "for compartment in output_df: # Loop over each compartment. \n",
    "    ax.plot(model.times, output_df[compartment]) # Plot the times and compartment values\n",
    "\n",
    "ax.plot(xrange, target) # Also plot the MoH target values.\n",
    "\n",
    "ax.legend([\"S\", \"E\",\"I\", \"R\",\"Cases\"])\n",
    "plt.show();"
   ]
  },
  {
   "cell_type": "markdown",
   "metadata": {},
   "source": [
    "\n",
    "Now let's inspect each step of the example in more detail. To start, here's how to create a new model: let's import the summer library and create a new [CompartmentalModel](/api/model.html) object. You can see that our model has an attribute called `compartments`, which contains a description of each modelled compartment."
   ]
  },
  {
   "cell_type": "code",
   "execution_count": null,
   "metadata": {},
   "outputs": [],
   "source": [
    "# Define the model\n",
    "model = CompartmentalModel(\n",
    "    times=(START_DATE_INT, END_DATE_INT),\n",
    "    compartments=[\"S\", \"E\", \"I\", \"R\"],\n",
    "    infectious_compartments=[\"I\"],\n",
    "    timestep=0.1,\n",
    ")"
   ]
  },
  {
   "cell_type": "markdown",
   "metadata": {},
   "source": [
    "### Adding a population \n",
    "\n",
    "Initially the model compartments are all empty. Let's add:\n",
    "\n",
    "- 100000 people to the susceptible (S) compartment, plus\n",
    "- 100 in the infectious (I) compartment."
   ]
  },
  {
   "cell_type": "code",
   "execution_count": null,
   "metadata": {},
   "outputs": [],
   "source": [
    "# Add people to the model\n",
    "model.set_initial_population(distribution={\"S\": 100000, \"E\": 0, \"I\": 100})\n",
    "\n",
    "# View the initial population\n",
    "model.initial_population"
   ]
  },
  {
   "cell_type": "markdown",
   "metadata": {},
   "source": [
    "### Adding inter-compartmental flows \n",
    "\n",
    "Now, let's add some flows for people to transition between the compartments. These flows will define the dynamics of our infection. We will add:\n",
    "\n",
    "- an infection flow from S to E (using frequency-dependent transmission)\n",
    "- an exposed individual becomes infected E to I.\n",
    "- a recovery flow from I to R"
   ]
  },
  {
   "cell_type": "code",
   "execution_count": null,
   "metadata": {},
   "outputs": [],
   "source": [
    "# Susceptible people can get infected.\n",
    "model.add_infection_frequency_flow(name=\"exposure\", contact_rate=0.12, source=\"S\", dest=\"E\")\n",
    "\n",
    "# Expose people transition to infected.\n",
    "model.add_transition_flow(name=\"infection\", fractional_rate=1/15, source=\"E\", dest=\"I\")\n",
    "\n",
    "# Infectious people recover.\n",
    "model.add_transition_flow(name=\"recovery\", fractional_rate=0.04, source=\"I\", dest=\"R\")\n",
    "\n",
    "# Inspect the new flows, which we just added to the model.\n",
    "model._flows"
   ]
  },
  {
   "cell_type": "markdown",
   "metadata": {},
   "source": [
    "### Running the model\n",
    "\n",
    "Now we can calculate the outputs for the model over the requested time period. \n",
    "The model calculates the compartment sizes by solving a system of differential equations (defined by the flows we just added) over the requested time period."
   ]
  },
  {
   "cell_type": "code",
   "execution_count": null,
   "metadata": {},
   "outputs": [],
   "source": [
    "model.run()"
   ]
  },
  {
   "cell_type": "markdown",
   "metadata": {},
   "source": [
    "### Print the model outputs\n",
    "\n",
    "The model's results are available in a NumPy array named `model.outputs`. \n",
    "This array is available after the model has been run. Let's have a look at what's inside:"
   ]
  },
  {
   "cell_type": "code",
   "execution_count": null,
   "metadata": {},
   "outputs": [],
   "source": [
    "# Force NumPy to format the output array nicely. \n",
    "import numpy as np\n",
    "np.set_printoptions(formatter={'all': lambda f: f\"{f:0.2f}\"})\n",
    "\n",
    "# View the first 25 timesteps of the output array.\n",
    "model.outputs[:25]"
   ]
  },
  {
   "cell_type": "markdown",
   "metadata": {},
   "source": [
    "### Plot the outputs\n",
    "\n",
    "You can get a better idea of what is going on inside the model by visualising how the compartment sizes change over time."
   ]
  },
  {
   "cell_type": "code",
   "execution_count": null,
   "metadata": {},
   "outputs": [],
   "source": [
    "# Visualize the results.\n",
    "subplot = {\"title\": \"SIR Model Outputs\", \"xlabel\": \"Days\", \"ylabel\": \"Compartment size\"}\n",
    "fig, ax = plt.subplots(1, 1, figsize=(12, 6), dpi=120, subplot_kw=subplot)\n",
    "\n",
    "for compartment in output_df: # Loop over each compartment. \n",
    "    ax.plot(model.times, output_df[compartment]) # Plot the times and compartment values\n",
    "\n",
    "ax.plot(xrange, target) # Also plot the MoH target values.\n",
    "\n",
    "ax.legend([\"S\", \"E\",\"I\", \"R\",\"Cases\"])\n",
    "plt.show();"
   ]
  },
  {
   "cell_type": "markdown",
   "metadata": {},
   "source": [
    "## Summary\n",
    "\n",
    "That's it for now, now you know how to:\n",
    "\n",
    "- Create a model\n",
    "- Add a population\n",
    "- Add flows\n",
    "- Run the model\n",
    "- Access and visualise the outputs\n",
    "\n",
    "A detailed API reference for the CompartmentalModel class can be found [here](http://summerepi.com/api/model.html)"
   ]
  },
  {
   "cell_type": "markdown",
   "metadata": {},
   "source": [
    "## Bonus: how the model works inside\n",
    "\n",
    "This section presents a code snippet that shows an approximation of what is happening inside the model we just built and ran.\n",
    "\n",
    "In the example code below we use the [Euler method](https://en.wikipedia.org/wiki/Euler_method) to solve an ordinary differential equation (ODE) which is defined by the model's flows. We don't actually use Euler in Summer though, you can read more about the actual ODE solvers available to evaluate models [here](http://summerepi.com/examples/4-ode-solvers.html)."
   ]
  },
  {
   "cell_type": "code",
   "execution_count": null,
   "metadata": {},
   "outputs": [],
   "source": [
    "import numpy as np\n",
    "import matplotlib.pyplot as plt\n",
    "\n",
    "TIMESTEP = 0.1\n",
    "START_TIME = 0\n",
    "END_TIME = 20\n",
    "\n",
    "# Get times\n",
    "time_period = END_TIME - START_TIME + 1\n",
    "num_steps = time_period / TIMESTEP\n",
    "times = np.linspace(START_TIME, END_TIME, num=int(num_steps))\n",
    "\n",
    "# Define initial conditions\n",
    "initial_conditions = np.array([990.0, 10.0, 0.0])  # S, I, R\n",
    "\n",
    "# Define outputs\n",
    "outputs = np.zeros((int(num_steps), 3))\n",
    "outputs[0] = initial_conditions\n",
    "\n",
    "# Model parameters\n",
    "contact_rate = 1.0\n",
    "sojourn_time = 3.0\n",
    "death_rate = 0.05\n",
    "\n",
    "# Calculate outputs for each timestep\n",
    "for t_idx, t in enumerate(times):\n",
    "    if t_idx == 0:\n",
    "        continue\n",
    "\n",
    "    flow_rates = np.zeros(3)\n",
    "    compartment_sizes = outputs[t_idx - 1 ]\n",
    "\n",
    "    # Susceptible people can get infected (frequency-dependent).\n",
    "    num_sus = compartment_sizes[0]\n",
    "    num_inf = compartment_sizes[1]\n",
    "    num_pop = compartment_sizes.sum()\n",
    "    force_of_infection = contact_rate * num_inf / num_pop\n",
    "    infection_flow_rate = force_of_infection * num_sus\n",
    "    flow_rates[0] -= infection_flow_rate\n",
    "    flow_rates[1] += infection_flow_rate\n",
    "\n",
    "    # Infectious take some time to recover.\n",
    "    num_inf = compartment_sizes[1]\n",
    "    recovery_flow_rate = num_inf / sojourn_time\n",
    "    flow_rates[1] -= recovery_flow_rate\n",
    "    flow_rates[2] += recovery_flow_rate\n",
    "    \n",
    "    # Add an infection-specific death flow to the I compartment.\n",
    "    num_inf = compartment_sizes[1]\n",
    "    recovery_flow_rate = num_inf * death_rate\n",
    "    flow_rates[1] -= recovery_flow_rate\n",
    "    \n",
    "    # Calculate compartment sizes at next timestep given flowrates.\n",
    "    outputs[t_idx] = compartment_sizes + flow_rates * TIMESTEP  \n",
    "    \n",
    "# Plot the results as a function of time for S, I, R respectively.\n",
    "fig, ax = plt.subplots(1, 1, figsize=(12, 6), dpi=120)\n",
    "\n",
    "# Add each compartment to the plot.\n",
    "for i in range(outputs.shape[1]):\n",
    "    ax.plot(times, outputs.T[i])\n",
    "\n",
    "ax.set_title(\"SIR Model Outputs\")\n",
    "ax.set_xlabel(\"Days\")\n",
    "ax.set_ylabel(\"Compartment size\")\n",
    "ax.legend([\"S\", \"I\", \"R\"])\n",
    "start, end = ax.get_xlim()\n",
    "ax.xaxis.set_ticks(np.arange(start + 1, end, 5))\n",
    "plt.show();"
   ]
  },
  {
   "cell_type": "code",
   "execution_count": null,
   "metadata": {},
   "outputs": [],
   "source": []
  }
 ],
 "metadata": {
  "interpreter": {
   "hash": "3382d9152740e983dde2d381031ee2f8a7c26cd3ea552b2ab6ab283df787f155"
  },
  "kernelspec": {
   "display_name": "Python 3.9.11 ('AuTuMN39')",
   "language": "python",
   "name": "python3"
  },
  "language_info": {
   "codemirror_mode": {
    "name": "ipython",
    "version": 3
   },
   "file_extension": ".py",
   "mimetype": "text/x-python",
   "name": "python",
   "nbconvert_exporter": "python",
   "pygments_lexer": "ipython3",
   "version": "3.9.11"
  }
 },
 "nbformat": 4,
 "nbformat_minor": 2
}
