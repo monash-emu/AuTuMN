{
 "cells": [
  {
   "cell_type": "markdown",
   "metadata": {},
   "source": [
    "# Capacity Building\n",
    "## Prerequisites\n",
    "Some basic understanding of Python variables, data types, looping, conditionals and functions will be of benefit.\n",
    "## Data inputs\n",
    "### Imports"
   ]
  },
  {
   "cell_type": "markdown",
   "metadata": {},
   "source": [
    "Let's import some modules. A module is a library of Python code that we can leverage to provide useful functionality.<br> These may be part of the standard Python library, or be external packages"
   ]
  },
  {
   "cell_type": "code",
   "execution_count": null,
   "metadata": {},
   "outputs": [],
   "source": [
    "# Install the summer package\n",
    "# Pip is Python's standard package manager\n",
    "\n",
    "%pip install summerepi"
   ]
  },
  {
   "cell_type": "code",
   "execution_count": null,
   "metadata": {},
   "outputs": [],
   "source": [
    "# Python standard library imports come first\n",
    "from datetime import datetime, timedelta  # We use datetime to manipulate date-time indexes\n",
    "\n",
    "# Then external package imports\n",
    "import pandas as pd  # pd is an alias for pandas. This is similar to dataframes in R\n",
    "from matplotlib import pyplot as plt  # matplotlib is a common visualisation package for Python\n"
   ]
  },
  {
   "cell_type": "code",
   "execution_count": null,
   "metadata": {},
   "outputs": [],
   "source": [
    "# We'll do a bit of global setup here too - let's set a plotting style we like (this can easily be omitted)\n",
    "plt.style.use(\"ggplot\")\n",
    "# Try the following to get help on an example command\n",
    "plt.style.use?\n",
    "# Try just typing plt.s (or similar) and pressing tab (or shift-tab on Colab) to see what's available within plt"
   ]
  },
  {
   "cell_type": "markdown",
   "metadata": {},
   "source": [
    "Try: There's a function inside plt.style that will show the styles. Change the plotting style to something you like."
   ]
  },
  {
   "cell_type": "markdown",
   "metadata": {},
   "source": [
    "### Define constants and useful variables\n",
    "Defining and capitalising constants at the start of a Python script or module is a common convention.<br>\n",
    "Only do this for variables that will never change during runtime"
   ]
  },
  {
   "cell_type": "code",
   "execution_count": null,
   "metadata": {},
   "outputs": [],
   "source": [
    "# URL to the Ministry of health's GitHub repository.\n",
    "# What is the data type here, a tuple or string? Do you know how to check for the type?\n",
    "GITHUB_MOH = (\n",
    "    \"https://raw.githubusercontent.com/MoH-Malaysia/covid19-public/main/epidemic/\"\n",
    ")\n",
    "\n",
    "# A list containing the files to download.\n",
    "MOH_FILES = [\n",
    "    \"cases_malaysia\",\n",
    "    \"deaths_malaysia\",\n",
    "    \"hospital\",\n",
    "    \"icu\",\n",
    "    \"cases_state\",\n",
    "    \"deaths_state\",\n",
    "]\n",
    "\n",
    "# We define a day zero for the analysis.\n",
    "COVID_BASE_DATE = datetime(2019, 12, 31)\n",
    "\n",
    "# By defining a region variable, we can easily change the analysis later.\n",
    "region = \"Malaysia\"\n",
    "\n"
   ]
  },
  {
   "cell_type": "markdown",
   "metadata": {},
   "source": [
    "### Utility functions"
   ]
  },
  {
   "cell_type": "code",
   "execution_count": null,
   "metadata": {},
   "outputs": [],
   "source": [
    "# We'll import List from the typing module here, so we can add clear type annotations to our code\n",
    "from typing import List"
   ]
  },
  {
   "cell_type": "code",
   "execution_count": null,
   "metadata": {},
   "outputs": [],
   "source": [
    "def fetch_mys_data(base_url: str, file_list: List[str]) -> pd.DataFrame:\n",
    "    \"\"\"\n",
    "    Request files from MoH and combine them into one data frame.\n",
    "    \n",
    "    Args:\n",
    "        base_url: A the base url to fetch data from.\n",
    "        file_list: A list of specific files to fetch\n",
    "\n",
    "    Returns:\n",
    "        pd.DataFrame: A data frame containing all the files.\n",
    "    \"\"\"\n",
    "    a_list = []  # An empty list to hold each dataframe (a list can hold any python object)\n",
    "    for file in file_list:  # Loop over each file name\n",
    "        data_type = file.split('_')[0]  # Split the file name on '_' and take the first part\n",
    "        df = pd.read_csv(base_url + file + \".csv\")  # Build the full url path to the file and ask pandas to download it\n",
    "        df['type']  = data_type  # Create a new column 'type' and enter the data_type\n",
    "\n",
    "        a_list.append(df)  # Place this dataframe into the list. \n",
    "\n",
    "    # We have looped over all the files, downloaded and entered it into a list of shape [df1,df2,df3,...]\n",
    "    \n",
    "    # Pandas will automatically combine this list into a single dataframe. It will expand the rows and columns as necessary\n",
    "    df = pd.concat(a_list) \n",
    "    \n",
    "    return df # The function returns the dataframe"
   ]
  },
  {
   "cell_type": "markdown",
   "metadata": {},
   "source": [
    "Now call the function and pass it the MoH url.<br> Well done! We have scraped Malaysia's entire national and regional Covid-19 dataset into one dataframe"
   ]
  },
  {
   "cell_type": "code",
   "execution_count": null,
   "metadata": {},
   "outputs": [],
   "source": [
    "df = fetch_mys_data(GITHUB_MOH, MOH_FILES)\n",
    "df"
   ]
  },
  {
   "cell_type": "code",
   "execution_count": null,
   "metadata": {},
   "outputs": [],
   "source": [
    "# Because this particular dataframe is too big to easily inspect,\n",
    "# we might want to look at parts of it (e.g. the column names)\n",
    "df.columns"
   ]
  },
  {
   "cell_type": "code",
   "execution_count": null,
   "metadata": {},
   "outputs": [],
   "source": [
    "df['state']"
   ]
  },
  {
   "cell_type": "markdown",
   "metadata": {},
   "source": [
    "We need to do some housekeeping.\n",
    "- Fill the missing state values with 'Malaysia'\n",
    "- Ensure the date type is correct and not a string '10-06-2022'\n",
    "- Create an integer offset from COVID_BASE_DATE. "
   ]
  },
  {
   "cell_type": "code",
   "execution_count": null,
   "metadata": {},
   "outputs": [],
   "source": [
    "df.loc[df['state'].isna(), 'state'] = 'Malaysia' \n",
    "df['date'] = pd.to_datetime(df['date'])\n",
    "df['date_index'] = (df['date'] - COVID_BASE_DATE).dt.days"
   ]
  },
  {
   "cell_type": "markdown",
   "metadata": {},
   "source": [
    "Let's create a boolean mask to aid with our analysis. Recall the 'region' variable we set at the beginning and the type column we created while downloading the data.<br>\n",
    "\n",
    "In this example, the mask is for Malaysia's cases. By changing the 'region' variable and or type column, we can change the focus of the analysis."
   ]
  },
  {
   "cell_type": "code",
   "execution_count": null,
   "metadata": {},
   "outputs": [],
   "source": [
    "mask = (df['state'] == region) & (df['type'] == 'cases')"
   ]
  },
  {
   "cell_type": "code",
   "execution_count": null,
   "metadata": {},
   "outputs": [],
   "source": [
    "df[mask][['date', 'cases_new', 'deaths_new']]  # Notice how the death data is all NaN due to the filtering"
   ]
  },
  {
   "cell_type": "markdown",
   "metadata": {},
   "source": [
    "After all that work, let's look at the results.<br />\n",
    "Pandas has a .plot() function. Here is a [quick](https://pandas.pydata.org/docs/getting_started/intro_tutorials/04_plotting.html) or [detailed](https://pandas.pydata.org/pandas-docs/stable/user_guide/visualization.html?highlight=plot) tutorial.<br />\n",
    "We can also use `x='date_index` and change the `y` to any `case_` column."
   ]
  },
  {
   "cell_type": "code",
   "execution_count": null,
   "metadata": {},
   "outputs": [],
   "source": [
    "df[mask].plot(x='date', y='cases_new', figsize=(20, 10));  # The semicolon suppresses the printing of the name of the object that was created in this line"
   ]
  },
  {
   "cell_type": "code",
   "execution_count": null,
   "metadata": {},
   "outputs": [],
   "source": [
    "# We might prefer to plot this as points rather than a line, given each entry is an observation\n",
    "df[mask].plot(x='date', y='cases_new', figsize=(20, 10), marker='o', linewidth=0);"
   ]
  },
  {
   "cell_type": "markdown",
   "metadata": {},
   "source": [
    "Let's also download the latest population distributions from the MoH GitHub repository."
   ]
  },
  {
   "cell_type": "code",
   "execution_count": null,
   "metadata": {},
   "outputs": [],
   "source": [
    "population_url = 'https://raw.githubusercontent.com/MoH-Malaysia/covid19-public/main/static/population.csv'\n",
    "df_pop = pd.read_csv(population_url)"
   ]
  },
  {
   "cell_type": "code",
   "execution_count": null,
   "metadata": {},
   "outputs": [],
   "source": [
    "df_pop"
   ]
  },
  {
   "cell_type": "code",
   "execution_count": null,
   "metadata": {},
   "outputs": [],
   "source": [
    "initial_population = df_pop[df_pop['state'] == region]['pop'][0]"
   ]
  },
  {
   "cell_type": "markdown",
   "metadata": {},
   "source": [
    "## Basic model introduction\n",
    "\n",
    "This page introduces the processes for building and running a simple compartmental disease model with `summer`.\n",
    "In the following example, we will create an SEIR compartmental model for a general, unspecified emerging infectious disease spreading through a fully susceptible population. In this model there will be:\n",
    "\n",
    "- four compartments: susceptible (S), exposed(E), infected (I) and recovered (R)\n",
    "- a starting population of the REGION, with 100 of them infected (and infectious)\n",
    "- an evaluation timespan from day zero to END_DATE in 0.1 day steps\n",
    "- inter-compartmental flows for infection, deaths and recovery\n",
    "\n",
    "You may wish to give the compartments more descriptive names, which is actually what we usually do when building these models.\n",
    "First, let's look at a complete example of this model in action, and then examine the details of each step. This is the complete example model that we will be working with:"
   ]
  },
  {
   "cell_type": "code",
   "execution_count": null,
   "metadata": {},
   "outputs": [],
   "source": [
    "import numpy as np\n",
    "from summer import CompartmentalModel\n",
    "\n",
    "start_date = datetime(2021,1,1)  # Define the start date\n",
    "end_date = start_date + timedelta(days=300)  # Define the duration\n",
    "\n",
    "# Integer representation of the start and end dates.\n",
    "start_date_int = (start_date - COVID_BASE_DATE).days\n",
    "end_date_int = (end_date- COVID_BASE_DATE).days"
   ]
  },
  {
   "cell_type": "code",
   "execution_count": null,
   "metadata": {},
   "outputs": [],
   "source": [
    "# Define the model compartments and time step.\n",
    "basic_model = CompartmentalModel(\n",
    "    times=(start_date_int, end_date_int),\n",
    "    compartments=[\"S\", \"E\", \"I\", \"R\"],\n",
    "    infectious_compartments=[\"I\"],\n",
    "    timestep=1.0,\n",
    ")"
   ]
  },
  {
   "cell_type": "code",
   "execution_count": null,
   "metadata": {},
   "outputs": [],
   "source": [
    "# Define the initial population and compartmental flows.\n",
    "basic_model.set_initial_population(distribution={\"S\": 100000, \"E\": 0, \"I\": 100})\n",
    "basic_model.add_infection_frequency_flow(name=\"infection\", contact_rate=0.12, source=\"S\", dest=\"E\")\n",
    "basic_model.add_transition_flow(name=\"progression\", fractional_rate=1/15., source=\"E\", dest=\"I\")\n",
    "basic_model.add_transition_flow(name=\"recovery\", fractional_rate=0.04, source=\"I\", dest=\"R\")\n",
    "#base_model.add_death_flow(name=\"infection_death\", death_rate=0.05, source=\"I\")\n",
    "\n",
    "# Run the model\n",
    "basic_model.run()"
   ]
  },
  {
   "cell_type": "markdown",
   "metadata": {},
   "source": [
    "Our CompartmentalModel object has many methods defined on it. You are encouraged to explore these methods as this object is integral to the platform."
   ]
  },
  {
   "cell_type": "code",
   "execution_count": null,
   "metadata": {},
   "outputs": [],
   "source": [
    "output_df = basic_model.get_outputs_df()"
   ]
  },
  {
   "cell_type": "markdown",
   "metadata": {},
   "source": [
    "We now have a Pandas dataframe of compartments sizes at each time step."
   ]
  },
  {
   "cell_type": "code",
   "execution_count": null,
   "metadata": {},
   "outputs": [],
   "source": [
    "output_df.head(20)"
   ]
  },
  {
   "cell_type": "markdown",
   "metadata": {},
   "source": [
    "Extract the target data from the MoH dataframe."
   ]
  },
  {
   "cell_type": "code",
   "execution_count": null,
   "metadata": {},
   "outputs": [],
   "source": [
    "target = df[mask][start_date_int: end_date_int]['cases_new']\n",
    "x_range = range(start_date_int, end_date_int)  # Create a integer range from the start date to the end date"
   ]
  },
  {
   "cell_type": "markdown",
   "metadata": {},
   "source": [
    "Useful Matplotlib [guide](https://matplotlib.org/stable/tutorials/introductory/usage.html#sphx-glr-tutorials-introductory-usage-py)"
   ]
  },
  {
   "cell_type": "code",
   "execution_count": null,
   "metadata": {},
   "outputs": [],
   "source": [
    "# Visualize the results\n",
    "subplot = {\"title\": \"SEIR Model Outputs\", \"xlabel\": \"Days\", \"ylabel\": \"Compartment size\"} # A dictionary of key:values pairs that matplotlib will use to label items.\n",
    "fig, ax = plt.subplots(1, 1, figsize=(12, 6), dpi=120, subplot_kw=subplot) # Create a subplot object.\n",
    "\n",
    "for compartment in output_df:  # Loop over each compartment\n",
    "    ax.plot(basic_model.times, output_df[compartment])  # Plot the times and compartment values\n",
    "\n",
    "ax.legend([\"S\", \"E\", \"I\", \"R\"]);"
   ]
  },
  {
   "cell_type": "markdown",
   "metadata": {},
   "source": [
    "\n",
    "Now let's inspect each step of the example in more detail. To start, here's how to create a new model: let's import the summer library and create a new [CompartmentalModel](/api/model.html) object. You can see that our model has an attribute called `compartments`, which contains a description of each modelled compartment."
   ]
  },
  {
   "cell_type": "code",
   "execution_count": null,
   "metadata": {},
   "outputs": [],
   "source": [
    "# Define the model\n",
    "malaysia_model = CompartmentalModel(\n",
    "    times=(start_date_int, end_date_int),\n",
    "    compartments=[\"S\", \"E\", \"I\", \"R\"],\n",
    "    infectious_compartments=[\"I\"],\n",
    "    timestep=1.0,\n",
    ")"
   ]
  },
  {
   "cell_type": "markdown",
   "metadata": {},
   "source": [
    "### Adding a population \n",
    "\n",
    "Initially the model compartments are all empty. Let's add:\n",
    "\n",
    "- 32 million people to the susceptible (S) compartment, plus\n",
    "- 100 in the infectious (I) compartment."
   ]
  },
  {
   "cell_type": "code",
   "execution_count": null,
   "metadata": {},
   "outputs": [],
   "source": [
    "# Add people to the model\n",
    "# We'll use the initial_population variable we obtained from the MOH data earlier\n",
    "malaysia_model.set_initial_population(distribution={\"S\": initial_population - 100, \"E\": 0, \"I\": 100})\n",
    "\n",
    "# View the initial population\n",
    "malaysia_model.initial_population"
   ]
  },
  {
   "cell_type": "markdown",
   "metadata": {},
   "source": [
    "### Adding inter-compartmental flows \n",
    "\n",
    "Now, let's add some flows for people to transition between the compartments. These flows will define the dynamics of our infection. We will add:\n",
    "\n",
    "- an infection flow from S to E (using frequency-dependent transmission)\n",
    "- an exposed individual becomes infected E to I.\n",
    "- a recovery flow from I to R"
   ]
  },
  {
   "cell_type": "code",
   "execution_count": null,
   "metadata": {},
   "outputs": [],
   "source": [
    "# Susceptible people can get infected.\n",
    "malaysia_model.add_infection_frequency_flow(name=\"infection\", contact_rate=0.18, source=\"S\", dest=\"E\")\n",
    "\n",
    "# Expose people transition to infected.\n",
    "malaysia_model.add_transition_flow(name=\"progression\", fractional_rate=1/15, source=\"E\", dest=\"I\")\n",
    "\n",
    "# Infectious people recover.\n",
    "malaysia_model.add_transition_flow(name=\"recovery\", fractional_rate=0.04, source=\"I\", dest=\"R\")\n",
    "\n",
    "# Importantly, we will also request an output for the 'progression' flow, and name this 'notifications'\n",
    "# This will be available after a model run using the get_derived_outputs_df() method\n",
    "\n",
    "malaysia_model.request_output_for_flow(\"notifications\", \"progression\")\n",
    "\n",
    "# Inspect the new flows, which we just added to the model.\n",
    "malaysia_model._flows\n",
    "\n"
   ]
  },
  {
   "cell_type": "markdown",
   "metadata": {},
   "source": [
    "### Running the model\n",
    "\n",
    "Now we can calculate the outputs for the model over the requested time period. \n",
    "The model calculates the compartment sizes by solving a system of differential equations (defined by the flows we just added) over the requested time period."
   ]
  },
  {
   "cell_type": "code",
   "execution_count": null,
   "metadata": {},
   "outputs": [],
   "source": [
    "malaysia_model.run()"
   ]
  },
  {
   "cell_type": "markdown",
   "metadata": {},
   "source": [
    "### Print the model outputs\n",
    "\n",
    "The recommended way to view the model's results is via the get_outputs_df() method"
   ]
  },
  {
   "cell_type": "code",
   "execution_count": null,
   "metadata": {},
   "outputs": [],
   "source": [
    "mm_outputs_df = malaysia_model.get_outputs_df()\n",
    "mm_outputs_df"
   ]
  },
  {
   "cell_type": "code",
   "execution_count": null,
   "metadata": {},
   "outputs": [],
   "source": [
    "mm_outputs_df.plot()"
   ]
  },
  {
   "cell_type": "markdown",
   "metadata": {},
   "source": [
    "You can also access the raw numpy array of outputs, which can be useful in performance sensitive contexts"
   ]
  },
  {
   "cell_type": "code",
   "execution_count": null,
   "metadata": {},
   "outputs": [],
   "source": [
    "# Force NumPy to format the output array nicely. \n",
    "import numpy as np\n",
    "np.set_printoptions(formatter={'all': lambda f: f\"{f:0.2f}\"})\n",
    "\n",
    "# View the first 10 timesteps of the output array.\n",
    "malaysia_model.outputs[:10]"
   ]
  },
  {
   "cell_type": "markdown",
   "metadata": {},
   "source": [
    "### Accessing derived outputs\n",
    "\n",
    "Derived outputs are accessed in much the same way as the raw compartment outputs, via the get_derived_outputs_df() method"
   ]
  },
  {
   "cell_type": "code",
   "execution_count": null,
   "metadata": {},
   "outputs": [],
   "source": [
    "mm_derived_df = malaysia_model.get_derived_outputs_df()\n",
    "mm_derived_df"
   ]
  },
  {
   "cell_type": "markdown",
   "metadata": {},
   "source": [
    "### Plot the outputs\n",
    "\n",
    "You can get a better idea of what is going on inside the model by visualising how the compartment sizes change over time."
   ]
  },
  {
   "cell_type": "code",
   "execution_count": null,
   "metadata": {},
   "outputs": [],
   "source": [
    "# Visualize the results.\n",
    "subplot = {\"title\": \"SEIR Model Outputs\", \"xlabel\": \"Days\", \"ylabel\": \"Compartment size\"}\n",
    "fig, ax = plt.subplots(1, 1, figsize=(12, 6), dpi=120, subplot_kw=subplot)\n",
    "\n",
    "for compartment in mm_outputs_df: # Loop over each compartment. \n",
    "    ax.plot(malaysia_model.times, mm_outputs_df[compartment]) # Plot the times and compartment values\n",
    "\n",
    "ax.legend([\"S\", \"E\", \"I\", \"R\"]);"
   ]
  },
  {
   "cell_type": "code",
   "execution_count": null,
   "metadata": {},
   "outputs": [],
   "source": [
    "# Let's allow for the fact that case detection is never complete,\n",
    "# by multiplying the model outputs through by a constant value\n",
    "proportion_of_cases_detected = 0.05\n",
    "\n",
    "fig, ax = plt.subplots(1, 1, figsize=(12, 6), dpi=120)\n",
    "ax.plot(x_range, target)  # Plot the MoH target values\n",
    "ax.plot(malaysia_model.times, mm_derived_df[\"notifications\"] * proportion_of_cases_detected);"
   ]
  },
  {
   "cell_type": "markdown",
   "metadata": {},
   "source": [
    "## Summary\n",
    "\n",
    "That's it for now, now you know how to:\n",
    "\n",
    "- Create a model\n",
    "- Add a population\n",
    "- Add flows\n",
    "- Run the model\n",
    "- Access and visualise the outputs\n",
    "\n",
    "A detailed API reference for the CompartmentalModel class can be found [here](http://summerepi.com/api/model.html)\n",
    "\n",
    "The point we reached here is that we have a model that runs and gives some reasonably sensible-looking outputs,\n",
    "but doesn't match the data we are trying to fit to perfectly.\n",
    "However, even though this is a mechanistic model of COVID-19 dynamics, \n",
    "that is clearly not the only aspect of this model that is unrealistic.\n",
    "Please reflect on the most important ways in which this very simple model is unrealistic.\n",
    "There are at least a dozen features of the Malaysian COVID-19 epidemic that aren't captured in this model.\n",
    "Try listing them out and ordering them according to importance.\n",
    "How many of these features would you need to include before you were satisfied that this model was something\n",
    "that could guide policy or be used for prediction?"
   ]
  }
 ],
 "metadata": {
  "interpreter": {
   "hash": "3382d9152740e983dde2d381031ee2f8a7c26cd3ea552b2ab6ab283df787f155"
  },
  "kernelspec": {
   "display_name": "Python 3.10.3 ('autumn310')",
   "language": "python",
   "name": "python3"
  },
  "language_info": {
   "codemirror_mode": {
    "name": "ipython",
    "version": 3
   },
   "file_extension": ".py",
   "mimetype": "text/x-python",
   "name": "python",
   "nbconvert_exporter": "python",
   "pygments_lexer": "ipython3",
   "version": "3.9.11"
  },
  "vscode": {
   "interpreter": {
    "hash": "f72a004eb564822f12d2164f4864ab9c293486b27fb433a4de6818db8bdfae69"
   }
  }
 },
 "nbformat": 4,
 "nbformat_minor": 4
}
