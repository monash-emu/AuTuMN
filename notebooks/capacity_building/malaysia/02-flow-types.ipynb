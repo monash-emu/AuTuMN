{
 "cells": [
  {
   "cell_type": "markdown",
   "metadata": {},
   "source": [
    "# Capacity Building\n",
    "## Prerequisites\n",
    "- Some basic understanding of Python variables, data types, looping, conditionals and functions will be of benefit.\n",
    "- Completion of  01-basic-model.ipynb\n",
    "## Data inputs\n",
    "### Imports"
   ]
  },
  {
   "cell_type": "markdown",
   "metadata": {},
   "source": [
    "Let's import some modules. A module is a library of Python code that we can leverage to provide useful functionality.<br> These may be part of the standard Python library, or be external packages"
   ]
  },
  {
   "cell_type": "code",
   "execution_count": 1,
   "metadata": {},
   "outputs": [
    {
     "name": "stdout",
     "output_type": "stream",
     "text": [
      "Requirement already satisfied: summerepi in c:\\users\\maba0001\\appdata\\local\\continuum\\anaconda3\\envs\\autumn310\\lib\\site-packages (2.7.0)\n",
      "Requirement already satisfied: pandas>=1.3.2 in c:\\users\\maba0001\\appdata\\local\\continuum\\anaconda3\\envs\\autumn310\\lib\\site-packages (from summerepi) (1.4.2)\n",
      "Requirement already satisfied: networkx>=2.6.2 in c:\\users\\maba0001\\appdata\\local\\continuum\\anaconda3\\envs\\autumn310\\lib\\site-packages (from summerepi) (2.7.1)\n",
      "Requirement already satisfied: numpy>=1.20.3 in c:\\users\\maba0001\\appdata\\local\\continuum\\anaconda3\\envs\\autumn310\\lib\\site-packages (from summerepi) (1.21.5)\n",
      "Requirement already satisfied: numba>=0.54.0 in c:\\users\\maba0001\\appdata\\local\\continuum\\anaconda3\\envs\\autumn310\\lib\\site-packages (from summerepi) (0.55.1)\n",
      "Requirement already satisfied: scipy>=1.7.1 in c:\\users\\maba0001\\appdata\\local\\continuum\\anaconda3\\envs\\autumn310\\lib\\site-packages (from summerepi) (1.8.0)\n",
      "Requirement already satisfied: llvmlite<0.39,>=0.38.0rc1 in c:\\users\\maba0001\\appdata\\local\\continuum\\anaconda3\\envs\\autumn310\\lib\\site-packages (from numba>=0.54.0->summerepi) (0.38.0)\n",
      "Requirement already satisfied: setuptools in c:\\users\\maba0001\\appdata\\local\\continuum\\anaconda3\\envs\\autumn310\\lib\\site-packages (from numba>=0.54.0->summerepi) (58.0.4)\n",
      "Requirement already satisfied: python-dateutil>=2.8.1 in c:\\users\\maba0001\\appdata\\local\\continuum\\anaconda3\\envs\\autumn310\\lib\\site-packages (from pandas>=1.3.2->summerepi) (2.8.2)\n",
      "Requirement already satisfied: pytz>=2020.1 in c:\\users\\maba0001\\appdata\\local\\continuum\\anaconda3\\envs\\autumn310\\lib\\site-packages (from pandas>=1.3.2->summerepi) (2022.1)\n",
      "Requirement already satisfied: six>=1.5 in c:\\users\\maba0001\\appdata\\local\\continuum\\anaconda3\\envs\\autumn310\\lib\\site-packages (from python-dateutil>=2.8.1->pandas>=1.3.2->summerepi) (1.16.0)\n",
      "Note: you may need to restart the kernel to use updated packages.\n"
     ]
    }
   ],
   "source": [
    "# Install the summer package\n",
    "# Pip is Python's standard package manager\n",
    "\n",
    "%pip install summerepi"
   ]
  },
  {
   "cell_type": "code",
   "execution_count": 2,
   "metadata": {},
   "outputs": [],
   "source": [
    "# Python standard library imports come first\n",
    "from datetime import datetime, timedelta \n",
    "from typing import List\n",
    "\n",
    "# Then external package imports\n",
    "import pandas as pd\n",
    "import numpy as np\n",
    "from summer import CompartmentalModel\n",
    "from matplotlib import pyplot as plt \n",
    "\n",
    "plt.style.use(\"ggplot\")\n",
    "\n",
    "# Define constants\n",
    "GITHUB_MOH = (\n",
    "    \"https://raw.githubusercontent.com/MoH-Malaysia/covid19-public/main/epidemic/\"\n",
    ")\n",
    "\n",
    "MOH_FILES = [\n",
    "    \"cases_malaysia\",\n",
    "    \"deaths_malaysia\",\n",
    "    \"hospital\",\n",
    "    \"icu\",\n",
    "    \"cases_state\",\n",
    "    \"deaths_state\",\n",
    "]\n",
    "\n",
    "COVID_BASE_DATE = datetime(2019, 12, 31)\n",
    "\n",
    "region = \"Malaysia\""
   ]
  },
  {
   "cell_type": "markdown",
   "metadata": {},
   "source": [
    "### Utility functions"
   ]
  },
  {
   "cell_type": "code",
   "execution_count": 3,
   "metadata": {},
   "outputs": [],
   "source": [
    "def fetch_mys_data(base_url: str, file_list: List[str]) -> pd.DataFrame:\n",
    "    \"\"\"\n",
    "    Request files from MoH and combine them into one data frame.\n",
    "    \"\"\"\n",
    "    a_list = []\n",
    "    for file in file_list:\n",
    "        data_type = file.split('_')[0]\n",
    "        df = pd.read_csv(base_url + file + \".csv\")\n",
    "        df['type']  = data_type\n",
    "        a_list.append(df)\n",
    "    df = pd.concat(a_list) \n",
    "    \n",
    "    return df"
   ]
  },
  {
   "cell_type": "markdown",
   "metadata": {},
   "source": [
    "Now call the function and pass it the MoH url.<br> Well done! We have scraped Malaysia's entire national and regional Covid-19 dataset into one dataframe"
   ]
  },
  {
   "cell_type": "code",
   "execution_count": 4,
   "metadata": {},
   "outputs": [],
   "source": [
    "df = fetch_mys_data(GITHUB_MOH, MOH_FILES)\n",
    "\n",
    "# Some preprocessing steps\n",
    "df.loc[df['state'].isna(), 'state'] = 'Malaysia' \n",
    "df['date'] = pd.to_datetime(df['date'])\n",
    "df['date_index'] = (df['date'] - COVID_BASE_DATE).dt.days\n",
    "\n",
    "# Configure mask for analysis.\n",
    "mask = (df['state'] == region) & (df['type'] == 'cases')"
   ]
  },
  {
   "cell_type": "markdown",
   "metadata": {},
   "source": [
    "Let's also download the latest population distributions from the MoH GitHub repository."
   ]
  },
  {
   "cell_type": "code",
   "execution_count": 5,
   "metadata": {},
   "outputs": [],
   "source": [
    "population_url = 'https://raw.githubusercontent.com/MoH-Malaysia/covid19-public/main/static/population.csv'\n",
    "df_pop = pd.read_csv(population_url)\n",
    "initial_population = df_pop[df_pop['state'] == region]['pop'][0]"
   ]
  },
  {
   "cell_type": "markdown",
   "metadata": {},
   "source": [
    "## Build a model"
   ]
  },
  {
   "cell_type": "code",
   "execution_count": 6,
   "metadata": {},
   "outputs": [],
   "source": [
    "start_date = datetime(2021,1,1)  # Define the start date\n",
    "end_date = start_date + timedelta(days=300)  # Define the duration\n",
    "\n",
    "# Integer representation of the start and end dates.\n",
    "start_date_int = (start_date - COVID_BASE_DATE).days\n",
    "end_date_int = (end_date- COVID_BASE_DATE).days"
   ]
  },
  {
   "cell_type": "markdown",
   "metadata": {},
   "source": [
    "Extract the target data from the MoH dataframe."
   ]
  },
  {
   "cell_type": "code",
   "execution_count": 7,
   "metadata": {},
   "outputs": [],
   "source": [
    "target = df[mask][start_date_int: end_date_int]['cases_new']\n",
    "x_range = range(start_date_int, end_date_int)  # Create a integer range from the start date to the end date"
   ]
  },
  {
   "cell_type": "code",
   "execution_count": 8,
   "metadata": {},
   "outputs": [],
   "source": [
    "# Define the model\n",
    "malaysia_model = CompartmentalModel(\n",
    "    times=(start_date_int, end_date_int),\n",
    "    compartments=[\"S\", \"E\", \"I\", \"R\"],\n",
    "    infectious_compartments=[\"I\"],\n",
    "    timestep=1.0,\n",
    ")\n",
    "\n",
    "malaysia_model.set_initial_population(distribution={\"S\": initial_population - 100, \"E\": 0, \"I\": 100})"
   ]
  },
  {
   "cell_type": "markdown",
   "metadata": {},
   "source": [
    "### Time varying parameters (transition flow)\n",
    "The rate at which people transition can be set as a constant, or it can be defined as a function of time. This is the case of all of the flows: every parameter can be a constant or a function of time. Parameters also take a ‘computed_values’ argument, which is a dictionary of values computed at runtime that is not specific to any individual flow."
   ]
  },
  {
   "cell_type": "code",
   "execution_count": 9,
   "metadata": {},
   "outputs": [],
   "source": [
    "def recovery_rate(time, computed_values):\n",
    "    \"\"\"\n",
    "    Returns the recovery rate for a given time.\n",
    "    People recover faster after day ten due to a magic drug.\n",
    "    \"\"\"\n",
    "    if time < 517: # half way through our\n",
    "        return 0.1\n",
    "    else:\n",
    "        return 0.4"
   ]
  },
  {
   "cell_type": "markdown",
   "metadata": {},
   "source": [
    "Infection frequency flow\n",
    "\n",
    "This flow can be used to model infections using frequency-dependent disease transmission.<br>\n",
    "In unstratified models, the frequency-dependent infection flow rate (the number of people infected per time unit) is calculated as:<br>\n",
    "\n",
    "```python3\n",
    "# contact_rate: Rate at which contact happens between people and results in a transmission\n",
    "# num_source: Number of people in the (susceptible) source compartment\n",
    "# num_infectious: Number of people infected\n",
    "# num_pop: Total number of people in the population\n",
    "\n",
    "force_of_infection = contact_rate * num_infectious / num_pop\n",
    "flow_rate = force_of_infection * num_source\n",
    "```"
   ]
  },
  {
   "cell_type": "code",
   "execution_count": null,
   "metadata": {},
   "outputs": [],
   "source": []
  },
  {
   "cell_type": "markdown",
   "metadata": {},
   "source": [
    "### Adding inter-compartmental flows \n",
    "\n",
    "Now, let's add some flows for people to transition between the compartments. These flows will define the dynamics of our infection. We will add:\n",
    "\n",
    "- an infection flow from S to E (using frequency-dependent transmission)\n",
    "- an exposed individual becomes infected E to I.\n",
    "- a recovery flow from I to R"
   ]
  },
  {
   "cell_type": "code",
   "execution_count": 10,
   "metadata": {},
   "outputs": [
    {
     "data": {
      "text/plain": [
       "[<InfectionFrequencyFlow 'infection' from S to E>,\n",
       " <TransitionFlow 'progression' from E to I>,\n",
       " <TransitionFlow 'recovery' from I to R>]"
      ]
     },
     "execution_count": 10,
     "metadata": {},
     "output_type": "execute_result"
    }
   ],
   "source": [
    "# Susceptible people can get infected.\n",
    "malaysia_model.add_infection_frequency_flow(name=\"infection\", contact_rate=0.18, source=\"S\", dest=\"E\")\n",
    "\n",
    "# Expose people transition to infected.\n",
    "malaysia_model.add_transition_flow(name=\"progression\", fractional_rate=1/15, source=\"E\", dest=\"I\")\n",
    "\n",
    "# Infectious people recover.\n",
    "malaysia_model.add_transition_flow(name=\"recovery\", fractional_rate=recovery_rate, source=\"I\", dest=\"R\")\n",
    "\n",
    "# Importantly, we will also request an output for the 'progression' flow, and name this 'notifications'\n",
    "# This will be available after a model run using the get_derived_outputs_df() method\n",
    "\n",
    "malaysia_model.request_output_for_flow(\"notifications\", \"progression\")\n",
    "\n",
    "# Inspect the new flows, which we just added to the model.\n",
    "malaysia_model._flows\n",
    "\n"
   ]
  },
  {
   "cell_type": "markdown",
   "metadata": {},
   "source": [
    "### Running the model\n",
    "\n",
    "Now we can calculate the outputs for the model over the requested time period. \n",
    "The model calculates the compartment sizes by solving a system of differential equations (defined by the flows we just added) over the requested time period."
   ]
  },
  {
   "cell_type": "code",
   "execution_count": 11,
   "metadata": {},
   "outputs": [],
   "source": [
    "malaysia_model.run()"
   ]
  },
  {
   "cell_type": "markdown",
   "metadata": {},
   "source": [
    "### Print the model outputs\n",
    "\n",
    "The recommended way to view the model's results is via the get_outputs_df() method"
   ]
  },
  {
   "cell_type": "code",
   "execution_count": 12,
   "metadata": {},
   "outputs": [
    {
     "data": {
      "text/html": [
       "<div>\n",
       "<style scoped>\n",
       "    .dataframe tbody tr th:only-of-type {\n",
       "        vertical-align: middle;\n",
       "    }\n",
       "\n",
       "    .dataframe tbody tr th {\n",
       "        vertical-align: top;\n",
       "    }\n",
       "\n",
       "    .dataframe thead th {\n",
       "        text-align: right;\n",
       "    }\n",
       "</style>\n",
       "<table border=\"1\" class=\"dataframe\">\n",
       "  <thead>\n",
       "    <tr style=\"text-align: right;\">\n",
       "      <th></th>\n",
       "      <th>S</th>\n",
       "      <th>E</th>\n",
       "      <th>I</th>\n",
       "      <th>R</th>\n",
       "    </tr>\n",
       "  </thead>\n",
       "  <tbody>\n",
       "    <tr>\n",
       "      <th>367.0</th>\n",
       "      <td>3.265700e+07</td>\n",
       "      <td>0.000000</td>\n",
       "      <td>100.000000</td>\n",
       "      <td>0.000000</td>\n",
       "    </tr>\n",
       "    <tr>\n",
       "      <th>368.0</th>\n",
       "      <td>3.265698e+07</td>\n",
       "      <td>16.594658</td>\n",
       "      <td>91.033272</td>\n",
       "      <td>9.534984</td>\n",
       "    </tr>\n",
       "    <tr>\n",
       "      <th>369.0</th>\n",
       "      <td>3.265697e+07</td>\n",
       "      <td>30.723277</td>\n",
       "      <td>83.890509</td>\n",
       "      <td>18.267380</td>\n",
       "    </tr>\n",
       "    <tr>\n",
       "      <th>370.0</th>\n",
       "      <td>3.265695e+07</td>\n",
       "      <td>42.833886</td>\n",
       "      <td>78.256589</td>\n",
       "      <td>26.363318</td>\n",
       "    </tr>\n",
       "    <tr>\n",
       "      <th>371.0</th>\n",
       "      <td>3.265694e+07</td>\n",
       "      <td>53.295805</td>\n",
       "      <td>73.872188</td>\n",
       "      <td>33.960297</td>\n",
       "    </tr>\n",
       "    <tr>\n",
       "      <th>...</th>\n",
       "      <td>...</td>\n",
       "      <td>...</td>\n",
       "      <td>...</td>\n",
       "      <td>...</td>\n",
       "    </tr>\n",
       "    <tr>\n",
       "      <th>663.0</th>\n",
       "      <td>3.263384e+07</td>\n",
       "      <td>41.081080</td>\n",
       "      <td>7.481075</td>\n",
       "      <td>23211.855210</td>\n",
       "    </tr>\n",
       "    <tr>\n",
       "      <th>664.0</th>\n",
       "      <td>3.263384e+07</td>\n",
       "      <td>39.711331</td>\n",
       "      <td>7.231637</td>\n",
       "      <td>23214.797470</td>\n",
       "    </tr>\n",
       "    <tr>\n",
       "      <th>665.0</th>\n",
       "      <td>3.263384e+07</td>\n",
       "      <td>38.387254</td>\n",
       "      <td>6.990516</td>\n",
       "      <td>23217.641628</td>\n",
       "    </tr>\n",
       "    <tr>\n",
       "      <th>666.0</th>\n",
       "      <td>3.263384e+07</td>\n",
       "      <td>37.107325</td>\n",
       "      <td>6.757434</td>\n",
       "      <td>23220.390955</td>\n",
       "    </tr>\n",
       "    <tr>\n",
       "      <th>667.0</th>\n",
       "      <td>3.263383e+07</td>\n",
       "      <td>35.870072</td>\n",
       "      <td>6.532124</td>\n",
       "      <td>23223.048612</td>\n",
       "    </tr>\n",
       "  </tbody>\n",
       "</table>\n",
       "<p>301 rows × 4 columns</p>\n",
       "</div>"
      ],
      "text/plain": [
       "                  S          E           I             R\n",
       "367.0  3.265700e+07   0.000000  100.000000      0.000000\n",
       "368.0  3.265698e+07  16.594658   91.033272      9.534984\n",
       "369.0  3.265697e+07  30.723277   83.890509     18.267380\n",
       "370.0  3.265695e+07  42.833886   78.256589     26.363318\n",
       "371.0  3.265694e+07  53.295805   73.872188     33.960297\n",
       "...             ...        ...         ...           ...\n",
       "663.0  3.263384e+07  41.081080    7.481075  23211.855210\n",
       "664.0  3.263384e+07  39.711331    7.231637  23214.797470\n",
       "665.0  3.263384e+07  38.387254    6.990516  23217.641628\n",
       "666.0  3.263384e+07  37.107325    6.757434  23220.390955\n",
       "667.0  3.263383e+07  35.870072    6.532124  23223.048612\n",
       "\n",
       "[301 rows x 4 columns]"
      ]
     },
     "execution_count": 12,
     "metadata": {},
     "output_type": "execute_result"
    }
   ],
   "source": [
    "mm_outputs_df = malaysia_model.get_outputs_df()\n",
    "mm_outputs_df"
   ]
  },
  {
   "cell_type": "markdown",
   "metadata": {},
   "source": [
    "You can also access the raw numpy array of outputs, which can be useful in performance sensitive contexts"
   ]
  },
  {
   "cell_type": "code",
   "execution_count": 13,
   "metadata": {},
   "outputs": [
    {
     "data": {
      "text/plain": [
       "array([[32657000.00, 0.00, 100.00, 0.00],\n",
       "       [32656982.84, 16.59, 91.03, 9.53],\n",
       "       [32656967.12, 30.72, 83.89, 18.27],\n",
       "       [32656952.55, 42.83, 78.26, 26.36],\n",
       "       [32656938.87, 53.30, 73.87, 33.96],\n",
       "       [32656925.89, 62.41, 70.52, 41.17],\n",
       "       [32656913.43, 70.44, 68.04, 48.09],\n",
       "       [32656901.35, 77.58, 66.26, 54.80],\n",
       "       [32656889.54, 84.00, 65.09, 61.37],\n",
       "       [32656877.89, 89.85, 64.42, 67.84]])"
      ]
     },
     "execution_count": 13,
     "metadata": {},
     "output_type": "execute_result"
    }
   ],
   "source": [
    "# Force NumPy to format the output array nicely. \n",
    "import numpy as np\n",
    "np.set_printoptions(formatter={'all': lambda f: f\"{f:0.2f}\"})\n",
    "\n",
    "# View the first 10 timesteps of the output array.\n",
    "malaysia_model.outputs[:10]"
   ]
  },
  {
   "cell_type": "markdown",
   "metadata": {},
   "source": [
    "### Accessing derived outputs\n",
    "\n",
    "Derived outputs are accessed in much the same way as the raw compartment outputs, via the get_derived_outputs_df() method"
   ]
  },
  {
   "cell_type": "code",
   "execution_count": 14,
   "metadata": {},
   "outputs": [
    {
     "data": {
      "text/html": [
       "<div>\n",
       "<style scoped>\n",
       "    .dataframe tbody tr th:only-of-type {\n",
       "        vertical-align: middle;\n",
       "    }\n",
       "\n",
       "    .dataframe tbody tr th {\n",
       "        vertical-align: top;\n",
       "    }\n",
       "\n",
       "    .dataframe thead th {\n",
       "        text-align: right;\n",
       "    }\n",
       "</style>\n",
       "<table border=\"1\" class=\"dataframe\">\n",
       "  <thead>\n",
       "    <tr style=\"text-align: right;\">\n",
       "      <th></th>\n",
       "      <th>notifications</th>\n",
       "    </tr>\n",
       "  </thead>\n",
       "  <tbody>\n",
       "    <tr>\n",
       "      <th>367.0</th>\n",
       "      <td>0.000000</td>\n",
       "    </tr>\n",
       "    <tr>\n",
       "      <th>368.0</th>\n",
       "      <td>0.553155</td>\n",
       "    </tr>\n",
       "    <tr>\n",
       "      <th>369.0</th>\n",
       "      <td>1.577265</td>\n",
       "    </tr>\n",
       "    <tr>\n",
       "      <th>370.0</th>\n",
       "      <td>2.451905</td>\n",
       "    </tr>\n",
       "    <tr>\n",
       "      <th>371.0</th>\n",
       "      <td>3.204323</td>\n",
       "    </tr>\n",
       "    <tr>\n",
       "      <th>...</th>\n",
       "      <td>...</td>\n",
       "    </tr>\n",
       "    <tr>\n",
       "      <th>663.0</th>\n",
       "      <td>2.785972</td>\n",
       "    </tr>\n",
       "    <tr>\n",
       "      <th>664.0</th>\n",
       "      <td>2.693080</td>\n",
       "    </tr>\n",
       "    <tr>\n",
       "      <th>665.0</th>\n",
       "      <td>2.603286</td>\n",
       "    </tr>\n",
       "    <tr>\n",
       "      <th>666.0</th>\n",
       "      <td>2.516486</td>\n",
       "    </tr>\n",
       "    <tr>\n",
       "      <th>667.0</th>\n",
       "      <td>2.432580</td>\n",
       "    </tr>\n",
       "  </tbody>\n",
       "</table>\n",
       "<p>301 rows × 1 columns</p>\n",
       "</div>"
      ],
      "text/plain": [
       "       notifications\n",
       "367.0       0.000000\n",
       "368.0       0.553155\n",
       "369.0       1.577265\n",
       "370.0       2.451905\n",
       "371.0       3.204323\n",
       "...              ...\n",
       "663.0       2.785972\n",
       "664.0       2.693080\n",
       "665.0       2.603286\n",
       "666.0       2.516486\n",
       "667.0       2.432580\n",
       "\n",
       "[301 rows x 1 columns]"
      ]
     },
     "execution_count": 14,
     "metadata": {},
     "output_type": "execute_result"
    }
   ],
   "source": [
    "mm_derived_df = malaysia_model.get_derived_outputs_df()\n",
    "mm_derived_df"
   ]
  },
  {
   "cell_type": "markdown",
   "metadata": {},
   "source": [
    "### Plot the outputs\n",
    "\n",
    "You can get a better idea of what is going on inside the model by visualising how the compartment sizes change over time."
   ]
  },
  {
   "cell_type": "code",
   "execution_count": 15,
   "metadata": {},
   "outputs": [
    {
     "data": {
      "image/png": "[encoded data removed]",
      "text/plain": [
       "<Figure size 1440x720 with 1 Axes>"
      ]
     },
     "metadata": {},
     "output_type": "display_data"
    }
   ],
   "source": [
    "# Visualize the results.\n",
    "subplot = {\"title\": \"SEIR Model Outputs\", \"xlabel\": \"Days\", \"ylabel\": \"Compartment size\"}\n",
    "fig, ax = plt.subplots(1, 1, figsize=(12, 6), dpi=120, subplot_kw=subplot)\n",
    "\n",
    "for compartment in mm_outputs_df: # Loop over each compartment. \n",
    "    ax.plot(malaysia_model.times, mm_outputs_df[compartment]) # Plot the times and compartment values\n",
    "\n",
    "ax.legend([\"S\", \"E\", \"I\", \"R\"]);"
   ]
  },
  {
   "cell_type": "code",
   "execution_count": null,
   "metadata": {},
   "outputs": [],
   "source": [
    "# Let's allow for the fact that case detection is never complete,\n",
    "# by multiplying the model outputs through by a constant value\n",
    "proportion_of_cases_detected = 0.05\n",
    "\n",
    "fig, ax = plt.subplots(1, 1, figsize=(12, 6), dpi=120)\n",
    "ax.plot(x_range, target)  # Plot the MoH target values\n",
    "ax.plot(malaysia_model.times, mm_derived_df[\"notifications\"] * proportion_of_cases_detected);"
   ]
  },
  {
   "cell_type": "markdown",
   "metadata": {},
   "source": [
    "## Summary\n",
    "\n",
    "That's it for now, now you know how to:\n",
    "\n",
    "- Create a model\n",
    "- Add a population\n",
    "- Add flows\n",
    "- Run the model\n",
    "- Access and visualise the outputs\n",
    "\n",
    "A detailed API reference for the CompartmentalModel class can be found [here](http://summerepi.com/api/model.html)\n",
    "\n",
    "The point we reached here is that we have a model that runs and gives some reasonably sensible-looking outputs,\n",
    "but doesn't match the data we are trying to fit to perfectly.\n",
    "However, even though this is a mechanistic model of COVID-19 dynamics, \n",
    "that is clearly not the only aspect of this model that is unrealistic.\n",
    "Please reflect on the most important ways in which this very simple model is unrealistic.\n",
    "There are at least a dozen features of the Malaysian COVID-19 epidemic that aren't captured in this model.\n",
    "Try listing them out and ordering them according to importance.\n",
    "How many of these features would you need to include before you were satisfied that this model was something\n",
    "that could guide policy or be used for prediction?"
   ]
  }
 ],
 "metadata": {
  "kernelspec": {
   "display_name": "Python 3.10.4 ('autumn310')",
   "language": "python",
   "name": "python3"
  },
  "language_info": {
   "codemirror_mode": {
    "name": "ipython",
    "version": 3
   },
   "file_extension": ".py",
   "mimetype": "text/x-python",
   "name": "python",
   "nbconvert_exporter": "python",
   "pygments_lexer": "ipython3",
   "version": "3.10.4"
  },
  "vscode": {
   "interpreter": {
    "hash": "01c3647d83d4a6a59e1617c8ed3b4a0cd901316bbcb8d9401f07443106dafc10"
   }
  }
 },
 "nbformat": 4,
 "nbformat_minor": 4
}
