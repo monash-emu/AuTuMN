{
 "cells": [
  {
   "cell_type": "markdown",
   "metadata": {},
   "source": [
    "# Capacity Building\n",
    "## Prerequisites\n",
    "- Some basic understanding of Python variables, data types, looping, conditionals and functions will be of benefit.\n",
    "- Completion of  01-basic-model.ipynb\n",
    "## Data inputs\n",
    "### Imports"
   ]
  },
  {
   "cell_type": "markdown",
   "metadata": {},
   "source": [
    "Let's import some modules. A module is a library of Python code that we can leverage to provide useful functionality.<br> These may be part of the standard Python library, or be external packages"
   ]
  },
  {
   "cell_type": "code",
   "execution_count": null,
   "metadata": {},
   "outputs": [],
   "source": [
    "# Install the summer package\n",
    "# Pip is Python's standard package manager\n",
    "\n",
    "%pip install summerepi"
   ]
  },
  {
   "cell_type": "code",
   "execution_count": null,
   "metadata": {},
   "outputs": [],
   "source": [
    "# Python standard library imports come first\n",
    "from datetime import datetime, timedelta \n",
    "from typing import List\n",
    "\n",
    "# Then external package imports\n",
    "import pandas as pd\n",
    "import numpy as np\n",
    "from summer import CompartmentalModel\n",
    "from matplotlib import pyplot as plt \n",
    "\n",
    "plt.style.use(\"ggplot\")\n",
    "\n",
    "# Define constants\n",
    "GITHUB_MOH = (\n",
    "    \"https://raw.githubusercontent.com/MoH-Malaysia/covid19-public/main/epidemic/\"\n",
    ")\n",
    "\n",
    "MOH_FILES = [\n",
    "    \"cases_malaysia\",\n",
    "    \"deaths_malaysia\",\n",
    "    \"hospital\",\n",
    "    \"icu\",\n",
    "    \"cases_state\",\n",
    "    \"deaths_state\",\n",
    "]\n",
    "\n",
    "COVID_BASE_DATE = datetime(2019, 12, 31)\n",
    "\n",
    "region = \"Malaysia\""
   ]
  },
  {
   "cell_type": "markdown",
   "metadata": {},
   "source": [
    "### Utility functions"
   ]
  },
  {
   "cell_type": "code",
   "execution_count": null,
   "metadata": {},
   "outputs": [],
   "source": [
    "def fetch_mys_data(base_url: str, file_list: List[str]) -> pd.DataFrame:\n",
    "    \"\"\"\n",
    "    Request files from MoH and combine them into one data frame.\n",
    "    \"\"\"\n",
    "    a_list = []\n",
    "    for file in file_list:\n",
    "        data_type = file.split('_')[0]\n",
    "        df = pd.read_csv(base_url + file + \".csv\")\n",
    "        df['type']  = data_type\n",
    "        a_list.append(df)\n",
    "    df = pd.concat(a_list) \n",
    "    \n",
    "    return df"
   ]
  },
  {
   "cell_type": "markdown",
   "metadata": {},
   "source": [
    "Now call the function and pass it the MoH url.<br> Well done! We have scraped Malaysia's entire national and regional Covid-19 dataset into one dataframe"
   ]
  },
  {
   "cell_type": "code",
   "execution_count": null,
   "metadata": {},
   "outputs": [],
   "source": [
    "df = fetch_mys_data(GITHUB_MOH, MOH_FILES)\n",
    "\n",
    "# Some preprocessing steps\n",
    "df.loc[df['state'].isna(), 'state'] = 'Malaysia' \n",
    "df['date'] = pd.to_datetime(df['date'])\n",
    "df['date_index'] = (df['date'] - COVID_BASE_DATE).dt.days\n",
    "\n",
    "# Configure mask for analysis.\n",
    "mask = (df['state'] == region) & (df['type'] == 'cases')"
   ]
  },
  {
   "cell_type": "markdown",
   "metadata": {},
   "source": [
    "Let's also download the latest population distributions from the MoH GitHub repository."
   ]
  },
  {
   "cell_type": "code",
   "execution_count": null,
   "metadata": {},
   "outputs": [],
   "source": [
    "population_url = 'https://raw.githubusercontent.com/MoH-Malaysia/covid19-public/main/static/population.csv'\n",
    "df_pop = pd.read_csv(population_url)\n",
    "initial_population = df_pop[df_pop['state'] == region]['pop'][0]"
   ]
  },
  {
   "cell_type": "markdown",
   "metadata": {},
   "source": [
    "## Build a model"
   ]
  },
  {
   "cell_type": "code",
   "execution_count": null,
   "metadata": {},
   "outputs": [],
   "source": [
    "start_date = datetime(2021,1,1)  # Define the start date\n",
    "end_date = start_date + timedelta(days=300)  # Define the duration\n",
    "\n",
    "# Integer representation of the start and end dates.\n",
    "start_date_int = (start_date - COVID_BASE_DATE).days\n",
    "end_date_int = (end_date- COVID_BASE_DATE).days"
   ]
  },
  {
   "cell_type": "markdown",
   "metadata": {},
   "source": [
    "Extract the target data from the MoH dataframe."
   ]
  },
  {
   "cell_type": "code",
   "execution_count": null,
   "metadata": {},
   "outputs": [],
   "source": [
    "target = df[mask][start_date_int: end_date_int]['cases_new']\n",
    "x_range = range(start_date_int, end_date_int)  # Create a integer range from the start date to the end date"
   ]
  },
  {
   "cell_type": "code",
   "execution_count": null,
   "metadata": {},
   "outputs": [],
   "source": [
    "# Define the model\n",
    "malaysia_model = CompartmentalModel(\n",
    "    times=(start_date_int, end_date_int),\n",
    "    compartments=[\"S\", \"E\", \"I\", \"R\"],\n",
    "    infectious_compartments=[\"I\"],\n",
    "    timestep=1.0,\n",
    ")\n",
    "\n",
    "malaysia_model.set_initial_population(distribution={\"S\": initial_population - 100, \"E\": 0, \"I\": 100})"
   ]
  },
  {
   "cell_type": "markdown",
   "metadata": {},
   "source": [
    "### Time varying parameters (transition flow)\n",
    "The rate at which people transition can be set as a constant, or it can be defined as a function of time. This is the case of all of the flows: every parameter can be a constant or a function of time. Parameters also take a ‘computed_values’ argument, which is a dictionary of values computed at runtime that is not specific to any individual flow."
   ]
  },
  {
   "cell_type": "code",
   "execution_count": null,
   "metadata": {},
   "outputs": [],
   "source": [
    "def recovery_rate(time, computed_values):\n",
    "    \"\"\"\n",
    "    Returns the recovery rate for a given time.\n",
    "    People recover faster after day ten due to a magic drug.\n",
    "    \"\"\"\n",
    "    if time < 517: # half way through our analysis\n",
    "        return 0.1\n",
    "    else:\n",
    "        return 0.4"
   ]
  },
  {
   "cell_type": "markdown",
   "metadata": {},
   "source": [
    "### Adding inter-compartmental flows \n",
    "\n",
    "Now, let's add some flows for people to transition between the compartments. These flows will define the dynamics of our infection. We will add:\n",
    "\n",
    "- an infection flow from S to E (using frequency-dependent transmission)\n",
    "- an exposed individual becomes infected E to I.\n",
    "- a recovery flow from I to R"
   ]
  },
  {
   "cell_type": "code",
   "execution_count": null,
   "metadata": {},
   "outputs": [],
   "source": [
    "# Susceptible people can get infected.\n",
    "malaysia_model.add_infection_frequency_flow(name=\"infection\", contact_rate=0.18, source=\"S\", dest=\"E\")\n",
    "\n",
    "# Expose people transition to infected.\n",
    "malaysia_model.add_transition_flow(name=\"progression\", fractional_rate=1/10, source=\"E\", dest=\"I\")\n",
    "\n",
    "# Infectious people recover.\n",
    "malaysia_model.add_transition_flow(name=\"recovery\", fractional_rate=recovery_rate, source=\"I\", dest=\"R\")\n",
    "\n",
    "# Importantly, we will also request an output for the 'progression' flow, and name this 'notifications'\n",
    "# This will be available after a model run using the get_derived_outputs_df() method\n",
    "\n",
    "malaysia_model.request_output_for_flow(\"notifications\", \"progression\")\n",
    "\n",
    "# Inspect the new flows, which we just added to the model.\n",
    "malaysia_model._flows\n",
    "\n"
   ]
  },
  {
   "cell_type": "markdown",
   "metadata": {},
   "source": [
    "### Running the model\n",
    "\n",
    "Now we can calculate the outputs for the model over the requested time period. \n",
    "The model calculates the compartment sizes by solving a system of differential equations (defined by the flows we just added) over the requested time period."
   ]
  },
  {
   "cell_type": "code",
   "execution_count": null,
   "metadata": {},
   "outputs": [],
   "source": [
    "# Use Runge-Kutta 4 solver to better capture sharp discontinuity.\n",
    "malaysia_model.run(solver=\"rk4\")\n"
   ]
  },
  {
   "cell_type": "markdown",
   "metadata": {},
   "source": [
    "### Print the model outputs\n",
    "\n",
    "The recommended way to view the model's results is via the get_outputs_df() method"
   ]
  },
  {
   "cell_type": "code",
   "execution_count": null,
   "metadata": {},
   "outputs": [],
   "source": [
    "mm_outputs_df = malaysia_model.get_outputs_df()\n",
    "mm_outputs_df[['E',\"I\",\"R\"]].plot(figsize=(10,5)); # We don't plot the susceptable compartment due to excessive y-axis scaling."
   ]
  },
  {
   "cell_type": "markdown",
   "metadata": {},
   "source": [
    "### Accessing derived outputs\n",
    "\n",
    "Derived outputs are accessed in much the same way as the raw compartment outputs, via the get_derived_outputs_df() method\n",
    "\n",
    "**Question: Which flow control contributes the most to notifications? Would you increase it or decrease it?**"
   ]
  },
  {
   "cell_type": "code",
   "execution_count": null,
   "metadata": {},
   "outputs": [],
   "source": [
    "mm_derived_df = malaysia_model.get_derived_outputs_df()\n",
    "mm_derived_df.plot(figsize=(10,5));"
   ]
  },
  {
   "cell_type": "markdown",
   "metadata": {},
   "source": [
    "### Plot the outputs\n",
    "\n",
    "You can get a better idea of what is going on inside the model by visualising how the compartment sizes change over time.\n",
    "\n",
    "**Exercise: Modify the code below to show the susceptible individuals over time.**"
   ]
  },
  {
   "cell_type": "code",
   "execution_count": null,
   "metadata": {},
   "outputs": [],
   "source": [
    "# Visualize the results.\n",
    "subplot = {\"title\": \"SEIR Model Outputs\", \"xlabel\": \"Days\", \"ylabel\": \"Compartment size\"}\n",
    "fig, ax = plt.subplots(1, 1, figsize=(10,5), subplot_kw=subplot)\n",
    "\n",
    "for compartment in mm_outputs_df[['E',\"I\",\"R\"]]: # Loop over each compartment. \n",
    "    ax.plot(malaysia_model.times, mm_outputs_df[compartment]) # Plot the times and compartment values\n",
    "\n",
    "ax.legend([\"E\", \"I\", \"R\"]);"
   ]
  },
  {
   "cell_type": "markdown",
   "metadata": {},
   "source": [
    "### Function flow\n",
    "\n",
    "A function flow gives you more control over how a flow should work. This is when you need to include more complex behaviour in your model which cannot be expressed using the built-in flows above.\n"
   ]
  },
  {
   "cell_type": "code",
   "execution_count": null,
   "metadata": {},
   "outputs": [],
   "source": [
    "def get_vaccination_flow_rate(flow, comp_names, comp_vals, flows, flow_rates, derived_values, time):\n",
    "    \"\"\"\n",
    "    Returns the flow-rate of susceptible people who get vaccinated and become recovered.\n",
    "\n",
    "    Args:\n",
    "        flow: The flow object being run\n",
    "        comp_names: List of compartment names (Compartment)\n",
    "        comp_vals: Array of compartment values at this timestep\n",
    "        flows: List of flow objects (used to calculate flow rates)\n",
    "        flow_rates: Calculated flow rate for each non-function flow at this timestep\n",
    "        time: Current timestep\n",
    "\n",
    "    Returns: The flow rate (float)\n",
    "    \"\"\"\n",
    "    if time < 450:\n",
    "        # Vaccinate 100 people per day until day 450\n",
    "        return 100\n",
    "    elif 450 < time < 500:\n",
    "        # Vaccinate a tiny fraction of the population per day until day 500\n",
    "        return 0.000001 * comp_vals.sum()\n",
    "    else:\n",
    "        # After day 500 stop vaccinations, because we ran out of money\n",
    "        return 0\n"
   ]
  },
  {
   "cell_type": "markdown",
   "metadata": {},
   "source": [
    "**Question: A vaccinated individual should transition from which two compartments?**"
   ]
  },
  {
   "cell_type": "code",
   "execution_count": null,
   "metadata": {},
   "outputs": [],
   "source": [
    "# Use a custom function to model vaccinations\n",
    "malaysia_model.add_function_flow(\"vacinnation\", flow_rate_func=get_vaccination_flow_rate, source=\"S\", dest=\"R\")\n",
    "\n",
    "# Use Runge-Kutta 4 solver to better capture sharp discontinuity.\n",
    "malaysia_model.run(solver=\"rk4\")"
   ]
  },
  {
   "cell_type": "code",
   "execution_count": null,
   "metadata": {},
   "outputs": [],
   "source": [
    "mm_derived_df = malaysia_model.get_derived_outputs_df()\n",
    "mm_derived_df.plot(figsize=(10,5));"
   ]
  },
  {
   "cell_type": "code",
   "execution_count": null,
   "metadata": {},
   "outputs": [],
   "source": [
    "# Let's allow for the fact that case detection is never complete,\n",
    "# by multiplying the model outputs through by a constant value\n",
    "proportion_of_cases_detected = 0.5\n",
    "\n",
    "fig, ax = plt.subplots(1, 1, figsize=(12, 6), dpi=120)\n",
    "ax.plot(x_range, target)  # Plot the MoH target values\n",
    "ax.plot(malaysia_model.times, mm_derived_df[\"notifications\"] * proportion_of_cases_detected)\n",
    "ax.legend([\"Notification\", \"Modelled\"]);"
   ]
  },
  {
   "cell_type": "markdown",
   "metadata": {},
   "source": [
    "## Summary\n",
    "\n",
    "That's it for now, now you know how to:\n",
    "\n",
    "- Define compartmental flows\n",
    "- Understand the different flow types in summer\n",
    "- How these relate to differential equations\n",
    "\n",
    "\n",
    "A detailed API reference for the flow types can be found [here](http://summerepi.com/api/flows.html)\n"
   ]
  },
  {
   "cell_type": "markdown",
   "metadata": {},
   "source": []
  }
 ],
 "metadata": {
  "kernelspec": {
   "display_name": "Python 3.10.4 ('autumn310')",
   "language": "python",
   "name": "python3"
  },
  "language_info": {
   "codemirror_mode": {
    "name": "ipython",
    "version": 3
   },
   "file_extension": ".py",
   "mimetype": "text/x-python",
   "name": "python",
   "nbconvert_exporter": "python",
   "pygments_lexer": "ipython3",
   "version": "3.10.4"
  },
  "vscode": {
   "interpreter": {
    "hash": "01c3647d83d4a6a59e1617c8ed3b4a0cd901316bbcb8d9401f07443106dafc10"
   }
  }
 },
 "nbformat": 4,
 "nbformat_minor": 4
}
