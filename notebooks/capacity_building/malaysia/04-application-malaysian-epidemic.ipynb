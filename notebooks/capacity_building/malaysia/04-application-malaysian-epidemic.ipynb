{
 "cells": [
  {
   "cell_type": "markdown",
   "id": "60bba4ac",
   "metadata": {},
   "source": [
    "# Capacity Building\n",
    "## Prerequisites\n",
    "- Some basic understanding of Python variables, data types, looping, conditionals and functions will be of benefit\n",
    "- Completion of  01-basic-model.ipynb, 02-flow-types.ipynb\n",
    "\n",
    "## A practical application\n",
    "\n",
    "So far, we've looked at creating a compartmental model, adding flows, requesting derived outputs, and using different solvers and stratifications.<br> Today we take a break from theory to look at the application of these concepts to an epidemic.\n",
    "\n",
    "## Data inputs\n",
    "### Imports\n",
    "Install the summer package, as per previous notebooks"
   ]
  },
  {
   "cell_type": "code",
   "execution_count": null,
   "id": "0d81f663",
   "metadata": {},
   "outputs": [],
   "source": [
    "%pip install summerepi"
   ]
  },
  {
   "cell_type": "code",
   "execution_count": null,
   "id": "3acae964",
   "metadata": {},
   "outputs": [],
   "source": [
    "# Python standard library imports come first\n",
    "from datetime import datetime, timedelta\n",
    "from typing import List\n",
    "\n",
    "# Then external package imports\n",
    "import pandas as pd\n",
    "import numpy as np\n",
    "import plotly.express as px\n",
    "import plotly.graph_objects as go\n",
    "from summer import CompartmentalModel\n",
    "from summer import Stratification\n",
    "from matplotlib import pyplot as plt\n",
    "\n",
    "# Set pandas to use our favourite interactive plotting tool\n",
    "pd.options.plotting.backend = \"plotly\"\n",
    "\n",
    "# Define constants\n",
    "GITHUB_MOH = \"https://raw.githubusercontent.com/MoH-Malaysia/covid19-public/main/epidemic/\"\n",
    "\n",
    "MOH_FILES = [\n",
    "    \"cases_malaysia\",\n",
    "    \"deaths_malaysia\",\n",
    "    \"hospital\",\n",
    "    \"icu\",\n",
    "    \"cases_state\",\n",
    "    \"deaths_state\",\n",
    "]\n",
    "\n",
    "# Define an arbitrary reference date,\n",
    "# because we will need numbers (not dates) to go into the model solver\n",
    "COVID_BASE_DATE = datetime(2019, 12, 31)\n",
    "\n",
    "# Will need this for indexing the MoH data later\n",
    "region = \"Malaysia\""
   ]
  },
  {
   "cell_type": "markdown",
   "id": "32895301",
   "metadata": {},
   "source": [
    "### Utility functions\n",
    "You can ignore this. Same code as in previous notebooks."
   ]
  },
  {
   "cell_type": "code",
   "execution_count": null,
   "id": "91e2a0e6",
   "metadata": {},
   "outputs": [],
   "source": [
    "def fetch_mys_data(base_url: str, file_list: List[str]) -> pd.DataFrame:\n",
    "    \"\"\"\n",
    "    Request files from MoH and combine them into one data frame.\n",
    "    \"\"\"\n",
    "    a_list = []\n",
    "    for file in file_list:\n",
    "        data_type = file.split(\"_\")[0]\n",
    "        df = pd.read_csv(base_url + file + \".csv\")\n",
    "        df[\"type\"] = data_type\n",
    "        a_list.append(df)\n",
    "    df = pd.concat(a_list)\n",
    "\n",
    "    return df"
   ]
  },
  {
   "cell_type": "markdown",
   "id": "8a19fc40",
   "metadata": {},
   "source": [
    "### Get data\n",
    "Now call the `fetch_mys_data` function and pass it the MoH url.<br>\n",
    "Also identical to previous notebooks."
   ]
  },
  {
   "cell_type": "code",
   "execution_count": null,
   "id": "98d70f6b",
   "metadata": {},
   "outputs": [],
   "source": [
    "df = fetch_mys_data(GITHUB_MOH, MOH_FILES)\n",
    "\n",
    "# Same preprocessing steps as in notebook 1\n",
    "df.loc[df[\"state\"].isna(), \"state\"] = \"Malaysia\"\n",
    "df[\"date\"] = pd.to_datetime(df[\"date\"])\n",
    "df[\"date_index\"] = (df[\"date\"] - COVID_BASE_DATE).dt.days\n",
    "\n",
    "# Configure mask for analysis\n",
    "mask = (df[\"state\"] == region) & (df[\"type\"] == \"cases\")\n",
    "\n",
    "# Also download the population data\n",
    "population_url = (\n",
    "    \"https://raw.githubusercontent.com/MoH-Malaysia/covid19-public/main/static/population.csv\"\n",
    ")\n",
    "df_pop = pd.read_csv(population_url)\n",
    "initial_population = df_pop[df_pop[\"state\"] == region][\"pop\"][0]"
   ]
  },
  {
   "cell_type": "code",
   "execution_count": null,
   "id": "14d4969f",
   "metadata": {},
   "outputs": [],
   "source": [
    "start_date = datetime(2021, 1, 1)  # Define the model's start date\n",
    "end_date = start_date + timedelta(days=300)  # Define the model's duration\n",
    "\n",
    "# Numeric representation of the start and end dates\n",
    "start_date_int = (start_date - COVID_BASE_DATE).days\n",
    "end_date_int = (end_date - COVID_BASE_DATE).days"
   ]
  },
  {
   "cell_type": "code",
   "execution_count": null,
   "id": "57b1a288",
   "metadata": {},
   "outputs": [],
   "source": [
    "notifications_target = df[mask][start_date_int: end_date_int][\"cases_new\"]"
   ]
  },
  {
   "cell_type": "code",
   "execution_count": null,
   "id": "416154ae",
   "metadata": {},
   "outputs": [],
   "source": [
    "def plot_comparison(label_a: str, data_a: pd.Series, label_b: str, data_b: pd.Series, title: str):\n",
    "    df = pd.DataFrame([data_a,data_b]).T\n",
    "    df['date'] = df.index\n",
    "\n",
    "    # Visualize the results\n",
    "    subplot = {\"title\": title, \"xlabel\": \"Days\", \"ylabel\": \"Value\"}\n",
    "    fig = px.line(df,x='date', y=['notifications','cases_new'],title=title)\n",
    "    fig.show()"
   ]
  },
  {
   "cell_type": "markdown",
   "id": "02fe51b5",
   "metadata": {},
   "source": [
    "## Flows\n",
    "### Define flows"
   ]
  },
  {
   "cell_type": "code",
   "execution_count": null,
   "id": "d4ef053d",
   "metadata": {},
   "outputs": [],
   "source": [
    "# Create a parameters dictionary - we'll reuse this whenever building the model\n",
    "parameters = {\n",
    "    \"contact_rate\": 0.1,\n",
    "    \"progression_rate\": 0.1,\n",
    "    \"recovery_rate\": 0.1,\n",
    "    \"death_rate\": 0.1,\n",
    "}"
   ]
  },
  {
   "cell_type": "markdown",
   "id": "38c4a41a",
   "metadata": {},
   "source": [
    "## Stratifications\n",
    "### Define stratifications"
   ]
  },
  {
   "cell_type": "code",
   "execution_count": null,
   "id": "b4a3381d",
   "metadata": {},
   "outputs": [],
   "source": [
    "def get_age_stratification() -> Stratification:\n",
    "    # Create the stratification\n",
    "    strata=[\"young\", \"old\"]\n",
    "    strat = Stratification(name=\"age\", strata=strata, compartments=[\"S\", \"E\", \"I\", \"R\"])\n",
    "\n",
    "    # Create our population split dictionary, whose keys match the strata\n",
    "    pop_split = {\"young\": 0.25, \"old\": 0.75}\n",
    "\n",
    "    # Set a population distribution\n",
    "    strat.set_population_split(pop_split)\n",
    "\n",
    "    return strat"
   ]
  },
  {
   "cell_type": "code",
   "execution_count": null,
   "id": "cb05767f",
   "metadata": {},
   "outputs": [],
   "source": [
    "def get_severity_strat() -> Stratification:\n",
    "    # Create a stratification named 'severity', applying to the infectious, which\n",
    "    # splits that compartment into 'asymptomatic', 'mild' and 'severe'.\n",
    "    severity_strata = [\"asymptomatic\", \"mild\", \"severe\"]\n",
    "\n",
    "    # Notice the new argument [\"I\"] for the compartment parameter.\n",
    "    severity_strat = Stratification(name=\"severity\", strata=severity_strata, compartments=[\"I\"])\n",
    "\n",
    "    # Set a population distribution - everyone starts out asymptomatic.\n",
    "    severity_strat.set_population_split({\"asymptomatic\": 1., \"mild\": 0, \"severe\": 0})\n",
    "    \n",
    "    return severity_strat"
   ]
  },
  {
   "cell_type": "code",
   "execution_count": null,
   "id": "19374174",
   "metadata": {},
   "outputs": [],
   "source": [
    "# Add an adjustment to the 'progression' flow for young & old people.\n",
    "young_progression_adjustments = {\n",
    "    \"asymptomatic\": 0.5,  # 50% of cases are asympt\n",
    "    \"mild\": 0.4,  # 40% of cases are mild\n",
    "    \"severe\": 0.1,  # 10% of cases are severe\n",
    "}\n",
    "\n",
    "old_progression_adjustments = {\n",
    "    \"asymptomatic\": 0.1,  # 10% of cases are asympt\n",
    "    \"mild\": 0.4,  # 40% of cases are mild\n",
    "    \"severe\": 0.5,  # 50% of cases are severe\n",
    "}"
   ]
  },
  {
   "cell_type": "code",
   "execution_count": null,
   "id": "35f503ed",
   "metadata": {},
   "outputs": [],
   "source": [
    "all_age_infectiousness_adjustments = {\n",
    "    \"asymptomatic\": 0.5,\n",
    "    \"mild\": None,\n",
    "    \"severe\": 1.5,\n",
    "}"
   ]
  },
  {
   "cell_type": "markdown",
   "id": "55241ea0",
   "metadata": {},
   "source": [
    "### Build stratification"
   ]
  },
  {
   "cell_type": "code",
   "execution_count": null,
   "id": "b9e14893",
   "metadata": {},
   "outputs": [],
   "source": [
    "# Get the age stratification\n",
    "age_strat = get_age_stratification()\n",
    "\n",
    "# Get the severity stratification\n",
    "severity_strat = get_severity_strat()"
   ]
  },
  {
   "cell_type": "code",
   "execution_count": null,
   "id": "29e031c0",
   "metadata": {},
   "outputs": [],
   "source": [
    "severity_strat.set_flow_adjustments(\n",
    "    \"progression\",\n",
    "    young_progression_adjustments,\n",
    "    source_strata={\n",
    "        \"age\": \"young\"\n",
    "    },  # Only apply this adjustment to flows of young people\n",
    ")\n",
    "\n",
    "severity_strat.set_flow_adjustments(\n",
    "    \"progression\",\n",
    "    old_progression_adjustments,\n",
    "    source_strata={\"age\": \"old\"},  # Only apply this adjustment to flows of old people\n",
    ")"
   ]
  },
  {
   "cell_type": "code",
   "execution_count": null,
   "id": "95f541b9",
   "metadata": {},
   "outputs": [],
   "source": [
    "# Adjust infectiousness levels (for all age groups)\n",
    "severity_strat.add_infectiousness_adjustments(\n",
    "    \"I\",\n",
    "    all_age_infectiousness_adjustments\n",
    ")"
   ]
  },
  {
   "cell_type": "markdown",
   "id": "cd5e6c81",
   "metadata": {},
   "source": [
    "## Model\n",
    "### Define a model"
   ]
  },
  {
   "cell_type": "markdown",
   "id": "42e3f90c",
   "metadata": {},
   "source": [
    "Recall the `build_base_model` wrapper function from the last training session."
   ]
  },
  {
   "cell_type": "code",
   "execution_count": null,
   "id": "0aec7498",
   "metadata": {},
   "outputs": [],
   "source": [
    "def build_base_model() -> CompartmentalModel:\n",
    "    model = CompartmentalModel(\n",
    "        times=(start_date_int, end_date_int),\n",
    "        compartments=[\"S\", \"E\", \"I\", \"R\"],\n",
    "        infectious_compartments=[\"I\"],\n",
    "    )\n",
    "\n",
    "    model.set_initial_population(distribution={\"S\": initial_population - 100, \"E\": 0, \"I\": 100})\n",
    "\n",
    "    return model"
   ]
  },
  {
   "cell_type": "code",
   "execution_count": null,
   "id": "c2e46e1a",
   "metadata": {},
   "outputs": [],
   "source": [
    "def build_model_with_flows(parameters: dict) -> CompartmentalModel:\n",
    "\n",
    "    # This base model does not take parameters, but have a think about how it might...\n",
    "    model = build_base_model()\n",
    "\n",
    "    # Susceptible people can get infected.\n",
    "    model.add_infection_frequency_flow(\n",
    "        name=\"infection\", contact_rate=parameters[\"contact_rate\"], source=\"S\", dest=\"E\"\n",
    "    )\n",
    "    # Expose people transition to infected.\n",
    "    model.add_transition_flow(\n",
    "        name=\"progression\",\n",
    "        fractional_rate=parameters[\"progression_rate\"],\n",
    "        source=\"E\",\n",
    "        dest=\"I\",\n",
    "    )\n",
    "\n",
    "    # Infectious people recover.\n",
    "    model.add_transition_flow(\n",
    "        name=\"recovery\",\n",
    "        fractional_rate=parameters[\"recovery_rate\"],\n",
    "        source=\"I\",\n",
    "        dest=\"R\",\n",
    "    )\n",
    "\n",
    "    # Add an infection-specific death flow to the I compartment.\n",
    "    model.add_death_flow(name=\"infection_death\", death_rate=parameters[\"death_rate\"], source=\"I\")\n",
    "\n",
    "    # Importantly, we will also request an output for the 'progression' flow, and name this 'notifications'\n",
    "    # This will be available after a model run using the get_derived_outputs_df() method\n",
    "\n",
    "    model.request_output_for_flow(\"notifications\", \"progression\")\n",
    "\n",
    "    return model"
   ]
  },
  {
   "cell_type": "markdown",
   "id": "2eb3ef84",
   "metadata": {},
   "source": [
    "### Build the model"
   ]
  },
  {
   "cell_type": "code",
   "execution_count": null,
   "id": "62925473",
   "metadata": {},
   "outputs": [],
   "source": [
    "model = build_model_with_flows(parameters)\n",
    "# Apply stratifications\n",
    "model.stratify_with(age_strat)\n",
    "model.stratify_with(severity_strat)"
   ]
  },
  {
   "cell_type": "markdown",
   "id": "6b71604b",
   "metadata": {},
   "source": [
    "## Outputs"
   ]
  },
  {
   "cell_type": "code",
   "execution_count": null,
   "id": "municipal-archives",
   "metadata": {},
   "outputs": [],
   "source": [
    "# Build and run model with no stratifications\n",
    "#model = build_model_with_flows(parameters)\n",
    "model.run()"
   ]
  },
  {
   "cell_type": "code",
   "execution_count": null,
   "id": "5acf0af4",
   "metadata": {},
   "outputs": [],
   "source": [
    "# Plot compartments\n",
    "outputs_df = model.get_outputs_df()\n",
    "outputs_df.plot()"
   ]
  },
  {
   "cell_type": "code",
   "execution_count": null,
   "id": "5e714b97",
   "metadata": {},
   "outputs": [],
   "source": [
    "model_derived_outputs = model.get_derived_outputs_df()"
   ]
  },
  {
   "cell_type": "code",
   "execution_count": null,
   "id": "af74e632",
   "metadata": {},
   "outputs": [],
   "source": [
    "proportion_of_cases_detected = 0.5\n",
    "\n",
    "plot_comparison(\"Notification\", \n",
    "                notifications_target, \n",
    "                \"Modelled\",\n",
    "                model_derived_outputs[\"notifications\"] * proportion_of_cases_detected,\n",
    "                \"Modelled vs data\")"
   ]
  }
 ],
 "metadata": {
  "kernelspec": {
   "display_name": "Python 3 (ipykernel)",
   "language": "python",
   "name": "python3"
  },
  "language_info": {
   "codemirror_mode": {
    "name": "ipython",
    "version": 3
   },
   "file_extension": ".py",
   "mimetype": "text/x-python",
   "name": "python",
   "nbconvert_exporter": "python",
   "pygments_lexer": "ipython3",
   "version": "3.10.3"
  },
  "vscode": {
   "interpreter": {
    "hash": "3382d9152740e983dde2d381031ee2f8a7c26cd3ea552b2ab6ab283df787f155"
   }
  }
 },
 "nbformat": 4,
 "nbformat_minor": 5
}
