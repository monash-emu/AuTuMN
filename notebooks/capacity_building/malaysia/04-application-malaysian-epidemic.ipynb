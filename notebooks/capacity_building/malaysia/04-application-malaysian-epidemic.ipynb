{
 "cells": [
  {
   "cell_type": "markdown",
   "id": "60bba4ac",
   "metadata": {},
   "source": [
    "# Capacity Building\n",
    "\n",
    "## Previous notebooks\n",
    "The previous notebooks (01 to 03) have demonstrated the general approach to building a compartmental model using *summer*, adding flows, requesting derived outputs and applying straticfications.\n",
    "\n",
    "## This notebook\n",
    "This notebook builds off notebook 03, which provided a broader introduction to stratification.\n",
    "It applies a more limited range of stratifications to a compartmental model and demonstrates the process of manually calibrating this model to empiric data.\n",
    "\n",
    "## Data inputs\n",
    "### Imports\n",
    "Install the summer package, as per previous notebooks"
   ]
  },
  {
   "cell_type": "code",
   "execution_count": null,
   "id": "0d81f663",
   "metadata": {},
   "outputs": [],
   "source": [
    "# If we are running in google colab, pip install the required packages, \n",
    "# but do not modify local environments\n",
    "try:\n",
    "  import google.colab\n",
    "  IN_COLAB = True\n",
    "  %pip install summerepi\n",
    "except:\n",
    "  IN_COLAB = False"
   ]
  },
  {
   "cell_type": "code",
   "execution_count": null,
   "id": "3acae964",
   "metadata": {},
   "outputs": [],
   "source": [
    "# Python standard library imports come first\n",
    "from datetime import datetime, timedelta\n",
    "from typing import List\n",
    "\n",
    "# Then external package imports\n",
    "import pandas as pd\n",
    "\n",
    "# Explicit imports from the summer modelling package\n",
    "from summer import CompartmentalModel\n",
    "from summer import Stratification\n",
    "\n",
    "# Set pandas to use our favourite interactive plotting tool\n",
    "pd.options.plotting.backend = \"plotly\"\n",
    "\n",
    "# Define constants and variables\n",
    "\n",
    "# Define an arbitrary reference date,\n",
    "# because we will need numbers (not dates) to go into the model solver\n",
    "COVID_BASE_DATE = datetime(2019, 12, 31)\n",
    "\n",
    "# Will need this for indexing the MoH data later\n",
    "region = \"Malaysia\""
   ]
  },
  {
   "cell_type": "markdown",
   "id": "32895301",
   "metadata": {},
   "source": [
    "### Utility functions\n",
    "Data downloads have been moved to a separate module, which we will now obtain"
   ]
  },
  {
   "cell_type": "code",
   "execution_count": null,
   "id": "effc139e",
   "metadata": {},
   "outputs": [],
   "source": [
    "# If running in google colab, download the required python module\n",
    "if IN_COLAB:\n",
    "    !wget https://raw.githubusercontent.com/monash-emu/AuTuMN/master/notebooks/capacity_building/malaysia/get_mys_data.py\n",
    "\n",
    "import get_mys_data"
   ]
  },
  {
   "cell_type": "markdown",
   "id": "8a19fc40",
   "metadata": {},
   "source": [
    "### Get data\n",
    "Now call the functions from our imported module to obtain the required data"
   ]
  },
  {
   "cell_type": "code",
   "execution_count": null,
   "id": "b559b31e",
   "metadata": {},
   "outputs": [],
   "source": [
    "df = get_mys_data.fetch_mys_data()\n",
    "initial_population = get_mys_data.get_initial_population(region)\n",
    "observations = get_mys_data.get_target_observations(df, region, \"cases\")"
   ]
  },
  {
   "cell_type": "code",
   "execution_count": null,
   "id": "14d4969f",
   "metadata": {},
   "outputs": [],
   "source": [
    "start_date = datetime(2021, 1, 1)  # Define the model's start date\n",
    "end_date = start_date + timedelta(days=300)  # Define the model's duration\n",
    "\n",
    "# Numeric representation of the start and end dates\n",
    "start_date_int = (start_date - COVID_BASE_DATE).days\n",
    "end_date_int = (end_date - COVID_BASE_DATE).days"
   ]
  },
  {
   "cell_type": "code",
   "execution_count": null,
   "id": "57b1a288",
   "metadata": {},
   "outputs": [],
   "source": [
    "# Define a target set of observations to compare against our modelled outputs later\n",
    "notifications_target = observations[start_date: end_date][\"cases_new\"]"
   ]
  },
  {
   "cell_type": "markdown",
   "id": "cd5e6c81",
   "metadata": {},
   "source": [
    "## Model\n",
    "### Define a model"
   ]
  },
  {
   "cell_type": "code",
   "execution_count": null,
   "id": "c2e46e1a",
   "metadata": {},
   "outputs": [],
   "source": [
    "def build_unstratified_model(base_compartments: List[str], infectious_seed: float, parameters: dict) -> CompartmentalModel:\n",
    "    \"\"\"\n",
    "    Create a compartmental model, with the minimal compartmental structure needed to run and produce some sort of \n",
    "    meaningful outputs.\n",
    "    \n",
    "    Args:\n",
    "        base_compartments: The names of the base (unstratified compartments)\n",
    "        infectious_seed: The number of infectious persons to start the epidemic\n",
    "        parameters: Flow parameters\n",
    "    \n",
    "    \"\"\"\n",
    "\n",
    "    model = CompartmentalModel(\n",
    "        times=(start_date_int, end_date_int),\n",
    "        compartments=base_compartments,\n",
    "        infectious_compartments=[\"I\"],\n",
    "        ref_date=COVID_BASE_DATE\n",
    "    )\n",
    "\n",
    "    model.set_initial_population(distribution={\"S\": initial_population - infectious_seed, \"E\": 0, \"I\": infectious_seed})\n",
    "    \n",
    "    # Susceptible people can get infected\n",
    "    model.add_infection_frequency_flow(\n",
    "        name=\"infection\", \n",
    "        contact_rate=parameters[\"contact_rate\"], \n",
    "        source=\"S\", \n",
    "        dest=\"E\"\n",
    "    )\n",
    "    # Expose people transition to infected\n",
    "    model.add_transition_flow(\n",
    "        name=\"progression\",\n",
    "        fractional_rate=parameters[\"progression_rate\"],\n",
    "        source=\"E\",\n",
    "        dest=\"I\",\n",
    "    )\n",
    "\n",
    "    # Infectious people recover\n",
    "    model.add_transition_flow(\n",
    "        name=\"recovery\",\n",
    "        fractional_rate=parameters[\"recovery_rate\"],\n",
    "        source=\"I\",\n",
    "        dest=\"R\",\n",
    "    )\n",
    "\n",
    "    # Add an infection-specific death flow to the I compartment\n",
    "    model.add_death_flow(name=\"infection_death\", death_rate=parameters[\"death_rate\"], source=\"I\")\n",
    "\n",
    "    # We will also request an output for the 'progression' flow\n",
    "    model.request_output_for_flow(\"progressions\", \"progression\")\n",
    "\n",
    "    return model"
   ]
  },
  {
   "cell_type": "markdown",
   "id": "38c4a41a",
   "metadata": {},
   "source": [
    "## Stratifications\n",
    "### Define stratifications"
   ]
  },
  {
   "cell_type": "code",
   "execution_count": null,
   "id": "b4a3381d",
   "metadata": {},
   "outputs": [],
   "source": [
    "def get_age_stratification(compartments_to_stratify: List[str]) -> Stratification:\n",
    "    \"\"\"\n",
    "    Create a fairly simple summer stratification object that splits all compartments\n",
    "    according to age into young and old.\n",
    "    \n",
    "    Args:\n",
    "        compartments_to_stratify: List of the compartments to stratify, which should be all the compartments\n",
    "    Returns:\n",
    "        A summer stratification object to represent age stratification (not yet applied)\n",
    "    \"\"\"\n",
    "    \n",
    "    # Create the stratification\n",
    "    strata=[\"young\", \"old\"]\n",
    "    strat = Stratification(name=\"age\", strata=strata, compartments=compartments_to_stratify)\n",
    "\n",
    "    # Split the population unevenly, with more being old than young\n",
    "    pop_split = {\"young\": 0.25, \"old\": 0.75}\n",
    "    strat.set_population_split(pop_split)\n",
    "\n",
    "    return strat"
   ]
  },
  {
   "cell_type": "code",
   "execution_count": null,
   "id": "cb05767f",
   "metadata": {},
   "outputs": [],
   "source": [
    "def get_severity_strat() -> Stratification:\n",
    "    \"\"\"\n",
    "    Create a stratification named 'severity', applying to the infectious, which\n",
    "    splits that compartment into 'asymptomatic', 'mild' and 'severe'.\n",
    "    \n",
    "    Returns:\n",
    "        A summer stratification object to represent severity stratification (not yet applied)\n",
    "    \"\"\"\n",
    "    \n",
    "    # Create the stratification object\n",
    "    severity_strata = [\"asymptomatic\", \"mild\", \"severe\"]\n",
    "    severity_strat = Stratification(name=\"severity\", strata=severity_strata, compartments=[\"I\"])\n",
    "   \n",
    "    return severity_strat"
   ]
  },
  {
   "cell_type": "markdown",
   "id": "0393b0ab-4dd7-4ee5-a567-90f26bbe013b",
   "metadata": {},
   "source": [
    "## Adjust the rates of progression to various severities following infection\n",
    "Because this stratification is applied to the I compartment only, \n",
    "and because progression is the flow that enters the I compartment,\n",
    "these adjustments can also be thought of as \"splits\"\n",
    "(i.e. the proportion of new cases progressing to each state).\n",
    "These parameters are in the loose range of what might be realistic,\n",
    "but should ideally be informed by a specific study we could reference."
   ]
  },
  {
   "cell_type": "code",
   "execution_count": null,
   "id": "fac65c70-d919-4452-b4c0-73deaac94bfb",
   "metadata": {},
   "outputs": [],
   "source": [
    "def add_progression_adjustments(severity_strat: Stratification):\n",
    "    # Children are mostly asymptomatic and never severe\n",
    "    young_progression_adjustments = {\n",
    "        \"asymptomatic\": 0.7,\n",
    "        \"mild\": 0.3,\n",
    "        \"severe\": 0.,\n",
    "    }\n",
    "\n",
    "    # Adults are a mix, with a minority becoming severe\n",
    "    old_progression_adjustments = {\n",
    "        \"asymptomatic\": 0.5,\n",
    "        \"mild\": 0.4,\n",
    "        \"severe\": 0.1,\n",
    "    }\n",
    "    severity_strat.set_flow_adjustments(\n",
    "        \"progression\",\n",
    "        young_progression_adjustments,\n",
    "        source_strata={\"age\": \"young\"},\n",
    "    )\n",
    "    severity_strat.set_flow_adjustments(\n",
    "        \"progression\",\n",
    "        old_progression_adjustments,\n",
    "        source_strata={\"age\": \"old\"},\n",
    "    )"
   ]
  },
  {
   "cell_type": "markdown",
   "id": "e6190dba-3f3b-4f8f-b25b-1917471846dc",
   "metadata": {},
   "source": [
    "## Adjust the infectiousness of the various states\n",
    "Note that this means that children and adults will contribute to transmission differently,\n",
    "but only because they end up in different severity categories.\n",
    "Assigning `None` to a category means that the unadjusted value (1) will be retained.\n",
    "(This is necessary because all strata must be specified.)"
   ]
  },
  {
   "cell_type": "code",
   "execution_count": null,
   "id": "6ff9a227-db29-4cc8-a140-1dd2cc87fc4f",
   "metadata": {},
   "outputs": [],
   "source": [
    "def add_infectiousness_adjustments(severity_strat: Stratification):\n",
    "    all_age_infectiousness_adjustments = {\n",
    "        \"asymptomatic\": 0.5,\n",
    "        \"mild\": None,\n",
    "        \"severe\": 1.5,\n",
    "    }\n",
    "    severity_strat.add_infectiousness_adjustments(\n",
    "        \"I\",\n",
    "        all_age_infectiousness_adjustments\n",
    "    )"
   ]
  },
  {
   "cell_type": "code",
   "execution_count": null,
   "id": "62925473",
   "metadata": {},
   "outputs": [],
   "source": [
    "def build_stratified_model(base_compartments: List[str], infectious_seed: float, parameters: dict) -> CompartmentalModel:\n",
    "    model = build_unstratified_model(base_compartments, infectious_seed, parameters)\n",
    "\n",
    "    age_strat = get_age_stratification(base_compartments)\n",
    "    severity_strat = get_severity_strat()\n",
    "\n",
    "    add_progression_adjustments(severity_strat)\n",
    "    add_infectiousness_adjustments(severity_strat)\n",
    "\n",
    "    # Apply the stratifications we developed previously\n",
    "    model.stratify_with(age_strat)\n",
    "    model.stratify_with(severity_strat)\n",
    "\n",
    "    return model"
   ]
  },
  {
   "cell_type": "markdown",
   "id": "6b71604b",
   "metadata": {},
   "source": [
    "## Outputs"
   ]
  },
  {
   "cell_type": "code",
   "execution_count": null,
   "id": "municipal-archives",
   "metadata": {},
   "outputs": [],
   "source": [
    "# Build and run the stratified model\n",
    "parameters = {\n",
    "    \"contact_rate\": 10.,\n",
    "    \"progression_rate\": 0.2,\n",
    "    \"recovery_rate\": 0.2,\n",
    "    \"death_rate\": 0.,\n",
    "    \"reporting_fraction\": 0.01,\n",
    "}\n",
    "base_compartments = [\"S\", \"E\", \"I\", \"R\"]\n",
    "infectious_seed = 100.\n",
    "\n",
    "model = build_stratified_model(base_compartments, infectious_seed, parameters)\n",
    "model.run()"
   ]
  },
  {
   "cell_type": "code",
   "execution_count": null,
   "id": "6868f6b2-aba6-477b-86b4-d2cfe8ce8b09",
   "metadata": {},
   "outputs": [],
   "source": [
    "progressions = model.get_derived_outputs_df()[\"progressions\"]\n",
    "notifications_modelled = progressions * parameters[\"reporting_fraction\"]"
   ]
  },
  {
   "cell_type": "code",
   "execution_count": null,
   "id": "023d5501",
   "metadata": {},
   "outputs": [],
   "source": [
    "pd.DataFrame(\n",
    "    {\"observed\": notifications_target,\n",
    "    \"modelled\": notifications_modelled}\n",
    ").plot()"
   ]
  },
  {
   "cell_type": "markdown",
   "id": "4c203e5a",
   "metadata": {},
   "source": [
    "# Manually calibrating to fit to notifications of Delta Wave"
   ]
  },
  {
   "cell_type": "code",
   "execution_count": null,
   "id": "7ac3eaf3",
   "metadata": {},
   "outputs": [],
   "source": [
    "start_date = datetime(2021, 7, 15)  # Define the model's start date to capture Delta wave\n",
    "end_date = start_date + timedelta(days=180)  # Define the model's duration\n",
    "\n",
    "# Numeric representation of the start and end dates\n",
    "start_date_int = (start_date - COVID_BASE_DATE).days\n",
    "end_date_int = (end_date - COVID_BASE_DATE).days"
   ]
  },
  {
   "cell_type": "code",
   "execution_count": null,
   "id": "dc7b7d4f",
   "metadata": {},
   "outputs": [],
   "source": [
    "# Define a target set of observations to compare against our modelled outputs later\n",
    "notifications_target = observations[start_date: end_date][\"cases_new\"]"
   ]
  },
  {
   "cell_type": "code",
   "execution_count": null,
   "id": "c17a6953",
   "metadata": {},
   "outputs": [],
   "source": [
    "custom_params = {\n",
    "        \"contact_rate\": 1.75,\n",
    "        \"progression_rate\": 0.2,\n",
    "        \"recovery_rate\": 0.2,\n",
    "        \"death_rate\": 0.01,\n",
    "        \"reporting_fraction\": 0.01,\n",
    "    }\n",
    "\n",
    "infectious_seed =100000."
   ]
  },
  {
   "cell_type": "code",
   "execution_count": null,
   "id": "27fd8303",
   "metadata": {},
   "outputs": [],
   "source": [
    "model = build_stratified_model(base_compartments, infectious_seed, custom_params)\n",
    "model.run()"
   ]
  },
  {
   "cell_type": "code",
   "execution_count": null,
   "id": "0516e0f8",
   "metadata": {},
   "outputs": [],
   "source": [
    "progressions = model.get_derived_outputs_df()[\"progressions\"]\n",
    "notifications_modelled = progressions * parameters[\"reporting_fraction\"]"
   ]
  },
  {
   "cell_type": "code",
   "execution_count": null,
   "id": "ed7cfb37",
   "metadata": {},
   "outputs": [],
   "source": [
    "pd.DataFrame(\n",
    "    {\"observed\": notifications_target,\n",
    "    \"modelled\": notifications_modelled}\n",
    ").plot()"
   ]
  },
  {
   "cell_type": "code",
   "execution_count": null,
   "id": "5b7b7b41",
   "metadata": {},
   "outputs": [],
   "source": []
  }
 ],
 "metadata": {
  "kernelspec": {
   "display_name": "Python 3 (ipykernel)",
   "language": "python",
   "name": "python3"
  },
  "language_info": {
   "codemirror_mode": {
    "name": "ipython",
    "version": 3
   },
   "file_extension": ".py",
   "mimetype": "text/x-python",
   "name": "python",
   "nbconvert_exporter": "python",
   "pygments_lexer": "ipython3",
   "version": "3.10.4"
  },
  "vscode": {
   "interpreter": {
    "hash": "02eaa7ef4ea6d8172fa3e17cc5c4ffa7a9b386fc257cd0195cf7d4c3dd31bee6"
   }
  }
 },
 "nbformat": 4,
 "nbformat_minor": 5
}
