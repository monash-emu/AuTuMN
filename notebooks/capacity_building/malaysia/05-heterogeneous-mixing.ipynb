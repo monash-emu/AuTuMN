{
 "cells": [
  {
   "cell_type": "markdown",
   "id": "2829e97f",
   "metadata": {},
   "source": [
    "# Heterogeneous mixing\n",
    "\n",
    "By default, the Summer compartmental model assumes that each person in the model comes into contact with every other person at the same rate (homogeneous mixing). This assumption is preserved even after stratification has been applied (by default), such that the force of infection calculation will be the same for all model strata implemented. This notebook considered the incorporation of heterogeneous mixing patterns. For example, children may tend to interact more with other children than they do with elderly people (this is termed with-like or assortative mixing). When considering the impact of control strategies, especially strategies targeting sub groups of people, it is likely to be important to consider these differences in contact patterns.\n",
    "\n",
    "## Standard preliminaries\n",
    "Before we get into the code for heterogeneous mixing, let's start off with some of our standard (or \"boilerplate\") code to get everything set up."
   ]
  },
  {
   "cell_type": "code",
   "execution_count": null,
   "id": "074f4eac",
   "metadata": {},
   "outputs": [],
   "source": [
    "# pip install the required packages if running in Colab\n",
    "try:\n",
    "  import google.colab\n",
    "  IN_COLAB = True\n",
    "  %pip install summerepi\n",
    "except:\n",
    "  IN_COLAB = False"
   ]
  },
  {
   "cell_type": "code",
   "execution_count": null,
   "id": "d64877bd",
   "metadata": {},
   "outputs": [],
   "source": [
    "# Standard imports, plotting option and constant definition\n",
    "from datetime import datetime, timedelta\n",
    "from typing import List\n",
    "import pandas as pd\n",
    "import plotly.express as px\n",
    "import numpy as np\n",
    "\n",
    "from summer import CompartmentalModel\n",
    "from summer import Stratification\n",
    "\n",
    "pd.options.plotting.backend = \"plotly\"\n",
    "\n",
    "COVID_BASE_DATE = datetime(2019, 12, 31)\n",
    "region = \"Malaysia\""
   ]
  },
  {
   "cell_type": "code",
   "execution_count": null,
   "id": "6c93a414",
   "metadata": {},
   "outputs": [],
   "source": [
    "# Get a function to access the Malaysia data if running in Colab\n",
    "if IN_COLAB:\n",
    "    !wget https://raw.githubusercontent.com/monash-emu/AuTuMN/master/notebooks/capacity_building/malaysia/get_mys_data.py\n",
    "\n",
    "import get_mys_data"
   ]
  },
  {
   "cell_type": "code",
   "execution_count": null,
   "id": "53448b33",
   "metadata": {},
   "outputs": [],
   "source": [
    "# ... and use it to get the actual data\n",
    "df = get_mys_data.fetch_mys_data()\n",
    "initial_population = get_mys_data.get_initial_population(region)\n",
    "observations = get_mys_data.get_target_observations(df, region, \"cases\")"
   ]
  },
  {
   "cell_type": "code",
   "execution_count": null,
   "id": "dbec9e37",
   "metadata": {},
   "outputs": [],
   "source": [
    "# Define the model running period and convert to a numeric representation\n",
    "start_date = datetime(2021, 1, 1)\n",
    "end_date = start_date + timedelta(days=300)\n",
    "start_date_int = (start_date - COVID_BASE_DATE).days\n",
    "end_date_int = (end_date - COVID_BASE_DATE).days"
   ]
  },
  {
   "cell_type": "code",
   "execution_count": null,
   "id": "31de8a88",
   "metadata": {},
   "outputs": [],
   "source": [
    "# Define a target set of observations to compare against our modelled outputs later\n",
    "notifications_target = observations[start_date: end_date][\"cases_new\"]"
   ]
  },
  {
   "cell_type": "markdown",
   "id": "e6d96a61-91ab-4b81-a6e4-078ef8729912",
   "metadata": {},
   "source": [
    "## Getting mixing matrices"
   ]
  },
  {
   "cell_type": "code",
   "execution_count": null,
   "id": "b07d2c6f-28b7-45ff-9943-79da0a3fcfaa",
   "metadata": {},
   "outputs": [],
   "source": [
    "simple_matrix = np.array([[1., 0.5], [0.5, 1.]])\n",
    "print(simple_matrix.shape)\n",
    "px.imshow(simple_matrix)"
   ]
  },
  {
   "cell_type": "markdown",
   "id": "2d202102-bc58-4ee5-b099-0879b0ebeeab",
   "metadata": {},
   "source": [
    "Get a mixing matrix that we can use for Malaysia.\n",
    "This is not actually empiric data for Malaysia, but is what we have been using\n",
    "and has the right format."
   ]
  },
  {
   "cell_type": "code",
   "execution_count": null,
   "id": "a0f8d36c",
   "metadata": {},
   "outputs": [],
   "source": [
    "# Get the mixing matrix for Malaysia\n",
    "if IN_COLAB:\n",
    "    !wget https://raw.githubusercontent.com/monash-emu/AuTuMN/master/notebooks/capacity_building/malaysia/MYS_matrices.pkl\n",
    "\n",
    "mixing_matrix = pd.read_pickle(\"MYS_matrices.pkl\", compression='infer')\n",
    "age_mixing_matrix = mixing_matrix[\"all_locations\"]"
   ]
  },
  {
   "cell_type": "code",
   "execution_count": null,
   "id": "f243329d-b315-4ca5-b9b8-0bdee3b51fe0",
   "metadata": {},
   "outputs": [],
   "source": [
    "# Let's have a look at the matrix using plotly express\n",
    "print(age_mixing_matrix.shape)\n",
    "px.imshow(age_mixing_matrix)"
   ]
  },
  {
   "cell_type": "markdown",
   "id": "4acc7264",
   "metadata": {},
   "source": [
    "## Model\n",
    "\n",
    "### Define a model"
   ]
  },
  {
   "cell_type": "code",
   "execution_count": null,
   "id": "e6d093a8",
   "metadata": {},
   "outputs": [],
   "source": [
    "def build_unstratified_model(base_compartments: List[str], parameters: dict) -> CompartmentalModel:\n",
    "    \"\"\"\n",
    "    Create a compartmental model, with the minimal compartmental structure needed to run and produce some sort of \n",
    "    meaningful outputs.\n",
    "    \n",
    "    Args:\n",
    "        base_compartments: The names of the base (unstratified compartments)\n",
    "        parameters: Flow parameters\n",
    "    Returns:\n",
    "        A compartmental model currently without age stratification applied\n",
    "    \"\"\"\n",
    "\n",
    "    model = CompartmentalModel(\n",
    "        times=(parameters[\"start_time\"], parameters[\"end_time\"]),\n",
    "        compartments=base_compartments,\n",
    "        infectious_compartments=[\"I\"],\n",
    "        ref_date=COVID_BASE_DATE\n",
    "    )\n",
    "\n",
    "    infectious_seed = parameters[\"infectious_seed\"]\n",
    "\n",
    "    model.set_initial_population(distribution={\"S\": initial_population - infectious_seed, \"E\": 0, \"I\": infectious_seed})\n",
    "    \n",
    "    # Susceptible people can get infected\n",
    "    model.add_infection_frequency_flow(\n",
    "        name=\"infection\", \n",
    "        contact_rate=parameters[\"contact_rate\"], \n",
    "        source=\"S\", \n",
    "        dest=\"E\"\n",
    "    )\n",
    "    # Expose people transition to infected\n",
    "    model.add_transition_flow(\n",
    "        name=\"progression\",\n",
    "        fractional_rate=parameters[\"progression_rate\"],\n",
    "        source=\"E\",\n",
    "        dest=\"I\",\n",
    "    )\n",
    "\n",
    "    # Infectious people recover\n",
    "    model.add_transition_flow(\n",
    "        name=\"recovery\",\n",
    "        fractional_rate=parameters[\"recovery_rate\"],\n",
    "        source=\"I\",\n",
    "        dest=\"R\",\n",
    "    )\n",
    "\n",
    "    # Add an infection-specific death flow to the I compartment\n",
    "    model.add_death_flow(name=\"infection_death\", death_rate=parameters[\"death_rate\"], source=\"I\")\n",
    "\n",
    "    # We will also request an output for the 'progression' flow\n",
    "    model.request_output_for_flow(\"progressions\", \"progression\")\n",
    "\n",
    "    return model"
   ]
  },
  {
   "cell_type": "markdown",
   "id": "1c35b087",
   "metadata": {},
   "source": [
    "### Age stratification process"
   ]
  },
  {
   "cell_type": "code",
   "execution_count": null,
   "id": "6807d8e6",
   "metadata": {},
   "outputs": [],
   "source": [
    "def get_age_stratification(\n",
    "    compartments_to_stratify: List[str], \n",
    "    strata: List[str],\n",
    "    matrix: np.ndarray,\n",
    ") -> Stratification:\n",
    "    \"\"\"\n",
    "    Create a summer stratification object that stratifies all of the compartments into\n",
    "    strata, which are intended to represent age bands according to the user inputs.\n",
    "    This is essentially adapting the model's age stratification approach to the format\n",
    "    of the mixing matrix, which is a reasonable approach.\n",
    "    \n",
    "    Args:\n",
    "        compartments_to_stratify: List of the compartments to stratify, which should be all the compartments\n",
    "        strata: The strata to be implemented in the age stratification\n",
    "        matrix: The mixing matrix we are applying for the age structure\n",
    "    Returns:\n",
    "        A summer stratification object to represent age stratification (not yet applied)\n",
    "    \"\"\"\n",
    "    \n",
    "    msg = \"Mixing matrix is not 2-dimensional\"\n",
    "    assert matrix.ndim == 2, msg\n",
    "    \n",
    "    msg = f\"Dimensions of the mixing matrix incorrect: {matrix.shape[0]}, {matrix.shape[1]}, {len(strata)}\"\n",
    "    assert matrix.shape[0] == matrix.shape[1] == len(strata), msg\n",
    "    \n",
    "    # Create the stratification, just naming the age groups by their starting value\n",
    "    strat = Stratification(name=\"age\", strata=strata, compartments=compartments_to_stratify)\n",
    "    \n",
    "    # Add the mixing matrix to the stratification\n",
    "    strat.set_mixing_matrix(matrix)\n",
    "\n",
    "    return strat"
   ]
  },
  {
   "cell_type": "markdown",
   "id": "4140a703-e396-4165-8001-6b0b2f79763f",
   "metadata": {},
   "source": [
    "### Combine the two processes together"
   ]
  },
  {
   "cell_type": "code",
   "execution_count": null,
   "id": "d14b217b",
   "metadata": {},
   "outputs": [],
   "source": [
    "def build_stratified_model(\n",
    "    base_compartments: List[str], \n",
    "    parameters: dict,\n",
    "    strata: List[str],\n",
    "    age_mixing_matrix: np.ndarray,\n",
    ") -> CompartmentalModel:\n",
    "    \"\"\"\n",
    "    Get the model object with the age stratification with heterogeneous\n",
    "    mixing applied to it.\n",
    "    \n",
    "    Arguments:\n",
    "        base_compartments: The names of the compartments to be implemented\n",
    "        parameters: A dictionary containing the parameter values to use\n",
    "        strata: The strata to be implemented in the age stratification\n",
    "        age_mixing_matrix: \n",
    "        \n",
    "    Returns:\n",
    "        The model object        \n",
    "    \"\"\"\n",
    "    \n",
    "    # Get an unstratified model object\n",
    "    model = build_unstratified_model(base_compartments, parameters)\n",
    "\n",
    "    # Get and apply the stratification\n",
    "    age_strat = get_age_stratification(base_compartments, strata, age_mixing_matrix)\n",
    "    model.stratify_with(age_strat)\n",
    "\n",
    "    return model"
   ]
  },
  {
   "cell_type": "markdown",
   "id": "7255c364",
   "metadata": {},
   "source": [
    "### Actually run the models"
   ]
  },
  {
   "cell_type": "code",
   "execution_count": null,
   "id": "f1ab8eec-ec2a-495d-9f6a-112a277e43bc",
   "metadata": {},
   "outputs": [],
   "source": [
    "# Build and run the stratified model with some arbitrary parameters\n",
    "parameters = {\n",
    "    \"contact_rate\": 0.5,\n",
    "    \"progression_rate\": 0.2,\n",
    "    \"recovery_rate\": 0.2,\n",
    "    \"death_rate\": 0.,\n",
    "    \"reporting_fraction\": 0.02,\n",
    "    \"start_time\": start_date_int,\n",
    "    \"end_time\": end_date_int,\n",
    "    \"infectious_seed\": 100.\n",
    "}\n",
    "base_compartments = [\"S\", \"E\", \"I\", \"R\"]\n",
    "\n",
    "strata = [\"child\", \"adult\"]\n",
    "\n",
    "simple_age_strat_model = build_stratified_model(base_compartments, parameters, strata, simple_matrix)\n",
    "simple_age_strat_model.run()"
   ]
  },
  {
   "cell_type": "code",
   "execution_count": null,
   "id": "7e5556b3",
   "metadata": {},
   "outputs": [],
   "source": [
    "progressions = simple_age_strat_model.get_derived_outputs_df()[\"progressions\"]\n",
    "notifications_modelled = progressions * parameters[\"reporting_fraction\"]"
   ]
  },
  {
   "cell_type": "code",
   "execution_count": null,
   "id": "65798e3a",
   "metadata": {},
   "outputs": [],
   "source": [
    "pd.DataFrame(\n",
    "    {\n",
    "        \"observed\": notifications_target,\n",
    "        \"modelled\": notifications_modelled\n",
    "    }\n",
    ").plot()"
   ]
  },
  {
   "cell_type": "markdown",
   "id": "4950f2d0",
   "metadata": {},
   "source": [
    "## Manual calibration to Delta wave notifications"
   ]
  },
  {
   "cell_type": "code",
   "execution_count": null,
   "id": "3512d994",
   "metadata": {},
   "outputs": [],
   "source": [
    "# Define the model integration time to capture the Delta wave\n",
    "start_date = datetime(2021, 1, 5)\n",
    "\n",
    "model_duration = 290\n",
    "end_date = start_date + timedelta(days=model_duration)\n",
    "\n",
    "# Convert our start and end times to a numeric representation\n",
    "start_date_int = (start_date - COVID_BASE_DATE).days\n",
    "end_date_int = (end_date - COVID_BASE_DATE).days\n",
    "\n",
    "# Define a set of parameters for this run\n",
    "custom_params = {\n",
    "        \"contact_rate\": 0.05,\n",
    "        \"progression_rate\": 0.2,\n",
    "        \"recovery_rate\": 0.2,\n",
    "        \"death_rate\": 0.01,\n",
    "        \"reporting_fraction\": 0.095,\n",
    "        \"start_time\": start_date_int,\n",
    "        \"end_time\": end_date_int,\n",
    "        \"infectious_seed\": 100.\n",
    "    }\n",
    "\n",
    "strata = [str(i) for i in range(0, 80, 5)]\n",
    "\n",
    "# Run using our custom parameters\n",
    "full_age_stra_model = build_stratified_model(base_compartments, custom_params, strata, age_mixing_matrix)\n",
    "full_age_stra_model.run()\n",
    "\n",
    "# Get the outputs\n",
    "progressions = full_age_stra_model.get_derived_outputs_df()[\"progressions\"]\n",
    "notifications_modelled = progressions * custom_params[\"reporting_fraction\"]\n",
    "\n",
    "notifications_target = observations[start_date: end_date][\"cases_new\"]\n",
    "\n",
    "pd.DataFrame(\n",
    "    {\n",
    "        \"observed\": notifications_target,\n",
    "        \"modelled\": notifications_modelled\n",
    "    }\n",
    ").plot()"
   ]
  }
 ],
 "metadata": {
  "kernelspec": {
   "display_name": "Python 3 (ipykernel)",
   "language": "python",
   "name": "python3"
  },
  "language_info": {
   "codemirror_mode": {
    "name": "ipython",
    "version": 3
   },
   "file_extension": ".py",
   "mimetype": "text/x-python",
   "name": "python",
   "nbconvert_exporter": "python",
   "pygments_lexer": "ipython3",
   "version": "3.10.4"
  }
 },
 "nbformat": 4,
 "nbformat_minor": 5
}
