{
 "cells": [
  {
   "cell_type": "markdown",
   "id": "2829e97f",
   "metadata": {},
   "source": [
    "# Capacity Building\n",
    "\n",
    "## Mixing matrices\n",
    "\n",
    "By default, the Summer compartmental model assumes that each person in the model comes into contact with every other person at the same rate (homogeneous mixing). This notebook looks at incorporating differences in mixing patterns. For example, children tend to interact more with other children, and less with the elderly (with-like or assortative mixing). When considering the impact of control strategies, especially strategies targeting sub groups of people, it is important to consider these differences in contact patterns."
   ]
  },
  {
   "cell_type": "code",
   "execution_count": null,
   "id": "074f4eac",
   "metadata": {},
   "outputs": [],
   "source": [
    "# If we are running in google colab, pip install the required packages, \n",
    "# but do not modify local environments\n",
    "try:\n",
    "  import google.colab\n",
    "  IN_COLAB = True\n",
    "  %pip install summerepi\n",
    "except:\n",
    "  IN_COLAB = False"
   ]
  },
  {
   "cell_type": "code",
   "execution_count": null,
   "id": "d64877bd",
   "metadata": {},
   "outputs": [],
   "source": [
    "# Python standard library imports come first\n",
    "from datetime import datetime, timedelta\n",
    "from typing import List\n",
    "\n",
    "# Then external package imports\n",
    "import pandas as pd\n",
    "\n",
    "# Explicit imports from the summer modelling package\n",
    "from summer import CompartmentalModel\n",
    "from summer import Stratification\n",
    "\n",
    "# Set pandas to use our favourite interactive plotting tool\n",
    "pd.options.plotting.backend = \"plotly\"\n",
    "\n",
    "# Define constants and variables\n",
    "\n",
    "# Define an arbitrary reference date,\n",
    "# because we will need numbers (not dates) to go into the model solver\n",
    "COVID_BASE_DATE = datetime(2019, 12, 31)\n",
    "\n",
    "# Will need this for indexing the MoH data later\n",
    "region = \"Malaysia\""
   ]
  },
  {
   "cell_type": "markdown",
   "id": "3e07e0d0",
   "metadata": {},
   "source": [
    "## Utility functions\n",
    "\n",
    "Data downloads have been moved to a separate module, which we will now obtain"
   ]
  },
  {
   "cell_type": "code",
   "execution_count": null,
   "id": "6c93a414",
   "metadata": {},
   "outputs": [],
   "source": [
    "# If running in google colab, download the required python module\n",
    "if IN_COLAB:\n",
    "    !wget https://raw.githubusercontent.com/monash-emu/AuTuMN/master/notebooks/capacity_building/malaysia/get_mys_data.py\n",
    "\n",
    "import get_mys_data"
   ]
  },
  {
   "cell_type": "code",
   "execution_count": null,
   "id": "a0f8d36c",
   "metadata": {},
   "outputs": [],
   "source": [
    "# get mixing matrix data for Malaysia\n",
    "if IN_COLAB:\n",
    "    !wget https://raw.githubusercontent.com/monash-emu/AuTuMN/master/notebooks/capacity_building/malaysia/MYS_matrices.pkl\n",
    "\n",
    "mixing_matrix = pd.read_pickle(\"MYS_matrices.pkl\", compression='infer')\n",
    "age_mixing_matrix = mixing_matrix[\"all_locations\"]"
   ]
  },
  {
   "cell_type": "markdown",
   "id": "5038b94f",
   "metadata": {},
   "source": [
    "## Get data\n",
    "Now call the functions from our imported module to obtain the required data\n"
   ]
  },
  {
   "cell_type": "code",
   "execution_count": null,
   "id": "53448b33",
   "metadata": {},
   "outputs": [],
   "source": [
    "df = get_mys_data.fetch_mys_data()\n",
    "initial_population = get_mys_data.get_initial_population(region)\n",
    "observations = get_mys_data.get_target_observations(df, region, \"cases\")"
   ]
  },
  {
   "cell_type": "code",
   "execution_count": null,
   "id": "dbec9e37",
   "metadata": {},
   "outputs": [],
   "source": [
    "start_date = datetime(2021, 1, 1)  # Define the model's start date\n",
    "end_date = start_date + timedelta(days=300)  # Define the model's duration\n",
    "\n",
    "# Numeric representation of the start and end dates\n",
    "start_date_int = (start_date - COVID_BASE_DATE).days\n",
    "end_date_int = (end_date - COVID_BASE_DATE).days"
   ]
  },
  {
   "cell_type": "code",
   "execution_count": null,
   "id": "31de8a88",
   "metadata": {},
   "outputs": [],
   "source": [
    "# Define a target set of observations to compare against our modelled outputs later\n",
    "notifications_target = observations[start_date: end_date][\"cases_new\"]"
   ]
  },
  {
   "cell_type": "markdown",
   "id": "4acc7264",
   "metadata": {},
   "source": [
    "## Model\n",
    "\n",
    "### Define a model"
   ]
  },
  {
   "cell_type": "code",
   "execution_count": null,
   "id": "e6d093a8",
   "metadata": {},
   "outputs": [],
   "source": [
    "def build_unstratified_model(base_compartments: List[str], parameters: dict) -> CompartmentalModel:\n",
    "    \"\"\"\n",
    "    Create a compartmental model, with the minimal compartmental structure needed to run and produce some sort of \n",
    "    meaningful outputs.\n",
    "    \n",
    "    Args:\n",
    "        base_compartments: The names of the base (unstratified compartments)\n",
    "        infectious_seed: The number of infectious persons to start the epidemic\n",
    "        parameters: Flow parameters\n",
    "    \n",
    "    \"\"\"\n",
    "\n",
    "    model = CompartmentalModel(\n",
    "        times=(parameters[\"start_time\"], parameters[\"end_time\"]),\n",
    "        compartments=base_compartments,\n",
    "        infectious_compartments=[\"I\"],\n",
    "        ref_date=COVID_BASE_DATE\n",
    "    )\n",
    "\n",
    "    infectious_seed = parameters[\"infectious_seed\"]\n",
    "\n",
    "    model.set_initial_population(distribution={\"S\": initial_population - infectious_seed, \"E\": 0, \"I\": infectious_seed})\n",
    "    \n",
    "    # Susceptible people can get infected\n",
    "    model.add_infection_frequency_flow(\n",
    "        name=\"infection\", \n",
    "        contact_rate=parameters[\"contact_rate\"], \n",
    "        source=\"S\", \n",
    "        dest=\"E\"\n",
    "    )\n",
    "    # Expose people transition to infected\n",
    "    model.add_transition_flow(\n",
    "        name=\"progression\",\n",
    "        fractional_rate=parameters[\"progression_rate\"],\n",
    "        source=\"E\",\n",
    "        dest=\"I\",\n",
    "    )\n",
    "\n",
    "    # Infectious people recover\n",
    "    model.add_transition_flow(\n",
    "        name=\"recovery\",\n",
    "        fractional_rate=parameters[\"recovery_rate\"],\n",
    "        source=\"I\",\n",
    "        dest=\"R\",\n",
    "    )\n",
    "\n",
    "    # Add an infection-specific death flow to the I compartment\n",
    "    model.add_death_flow(name=\"infection_death\", death_rate=parameters[\"death_rate\"], source=\"I\")\n",
    "\n",
    "    # We will also request an output for the 'progression' flow\n",
    "    model.request_output_for_flow(\"progressions\", \"progression\")\n",
    "\n",
    "    return model"
   ]
  },
  {
   "cell_type": "markdown",
   "id": "1c35b087",
   "metadata": {},
   "source": [
    "## Stratifications\n",
    "\n"
   ]
  },
  {
   "cell_type": "code",
   "execution_count": null,
   "id": "6807d8e6",
   "metadata": {},
   "outputs": [],
   "source": [
    "def get_age_stratification(compartments_to_stratify: List[str], age_mixing_matrix) -> Stratification:\n",
    "    \"\"\"\n",
    "    Create a fairly simple summer stratification object that splits all compartments\n",
    "    to 16 age groups from 0-75years.\n",
    "    \n",
    "    Args:\n",
    "        compartments_to_stratify: List of the compartments to stratify, which should be all the compartments\n",
    "    Returns:\n",
    "        A summer stratification object to represent age stratification (not yet applied)\n",
    "    \"\"\"\n",
    "    \n",
    "    # Create the stratification\n",
    "    strata = [str(5 * i) for i in range(16)]\n",
    "    strat = Stratification(name=\"age\", strata=strata, compartments=compartments_to_stratify)\n",
    "\n",
    "    \n",
    "    # Split the population so that >60 age groups consists of 60% of the population\n",
    "    pop_split = dict.fromkeys(strata, 0.033)\n",
    "    pop_split.update(dict.fromkeys(['60', '65','70','75'], 0.15))\n",
    "    strat.set_population_split(pop_split)\n",
    "    \n",
    "    # Add the mixing matrix to the stratification\n",
    "    strat.set_mixing_matrix(age_mixing_matrix)\n",
    "\n",
    "    return strat"
   ]
  },
  {
   "cell_type": "code",
   "execution_count": null,
   "id": "d14b217b",
   "metadata": {},
   "outputs": [],
   "source": [
    "def build_stratified_model(base_compartments: List[str], parameters: dict, age_mixng_matrix) -> CompartmentalModel:\n",
    "    model = build_unstratified_model(base_compartments, parameters)\n",
    "\n",
    "    age_strat = get_age_stratification(base_compartments, age_mixing_matrix)\n",
    "\n",
    "    # Apply the stratifications we developed previously\n",
    "    model.stratify_with(age_strat)\n",
    "\n",
    "    return model"
   ]
  },
  {
   "cell_type": "markdown",
   "id": "7255c364",
   "metadata": {},
   "source": [
    "# Outputs"
   ]
  },
  {
   "cell_type": "code",
   "execution_count": null,
   "id": "71103581",
   "metadata": {},
   "outputs": [],
   "source": [
    "# Build and run the stratified model\n",
    "parameters = {\n",
    "    \"contact_rate\": 10.,\n",
    "    \"progression_rate\": 0.2,\n",
    "    \"recovery_rate\": 0.2,\n",
    "    \"death_rate\": 0.,\n",
    "    \"reporting_fraction\": 0.01,\n",
    "    \"start_time\": start_date_int,\n",
    "    \"end_time\": end_date_int,\n",
    "    \"infectious_seed\": 100.\n",
    "}\n",
    "base_compartments = [\"S\", \"E\", \"I\", \"R\"]\n",
    "\n",
    "model = build_stratified_model(base_compartments, parameters, age_mixing_matrix)\n",
    "model.run()"
   ]
  },
  {
   "cell_type": "code",
   "execution_count": null,
   "id": "7e5556b3",
   "metadata": {},
   "outputs": [],
   "source": [
    "progressions = model.get_derived_outputs_df()[\"progressions\"]\n",
    "notifications_modelled = progressions * parameters[\"reporting_fraction\"]"
   ]
  },
  {
   "cell_type": "code",
   "execution_count": null,
   "id": "65798e3a",
   "metadata": {},
   "outputs": [],
   "source": [
    "pd.DataFrame(\n",
    "    {\n",
    "        \"observed\": notifications_target,\n",
    "        \"modelled\": notifications_modelled\n",
    "    }\n",
    ").plot()"
   ]
  },
  {
   "cell_type": "markdown",
   "id": "4950f2d0",
   "metadata": {},
   "source": [
    "# Manually calibrating to fit to notifications of Delta Wave"
   ]
  },
  {
   "cell_type": "code",
   "execution_count": null,
   "id": "3512d994",
   "metadata": {},
   "outputs": [],
   "source": [
    "# Define the model integration time to capture the Delta wave\n",
    "start_date = datetime(2021, 3, 20)\n",
    "\n",
    "model_duration = 290\n",
    "end_date = start_date + timedelta(days=model_duration)\n",
    "\n",
    "# Convert our start and end times to a numeric representation\n",
    "start_date_int = (start_date - COVID_BASE_DATE).days\n",
    "end_date_int = (end_date - COVID_BASE_DATE).days\n",
    "\n",
    "# Define a set of parameters for this run\n",
    "custom_params = {\n",
    "        \"contact_rate\": 0.43,\n",
    "        \"progression_rate\": 0.2,\n",
    "        \"recovery_rate\": 0.2,\n",
    "        \"death_rate\": 0.01,\n",
    "        \"reporting_fraction\": 0.01,\n",
    "        \"start_time\": start_date_int,\n",
    "        \"end_time\": end_date_int,\n",
    "        \"infectious_seed\": 100.\n",
    "    }\n",
    "\n",
    "# Run using our custom parameters\n",
    "model = build_stratified_model(base_compartments, custom_params, age_mixing_matrix)\n",
    "model.run()\n",
    "\n",
    "# Get the outputs\n",
    "progressions = model.get_derived_outputs_df()[\"progressions\"]\n",
    "notifications_modelled = progressions * custom_params[\"reporting_fraction\"]\n",
    "\n",
    "notifications_target = observations[start_date: end_date][\"cases_new\"]\n",
    "\n",
    "pd.DataFrame(\n",
    "    {\n",
    "        \"observed\": notifications_target,\n",
    "        \"modelled\": notifications_modelled\n",
    "    }\n",
    ").plot()"
   ]
  },
  {
   "cell_type": "code",
   "execution_count": null,
   "id": "70e05c82",
   "metadata": {},
   "outputs": [],
   "source": []
  },
  {
   "cell_type": "code",
   "execution_count": null,
   "id": "af2130e9",
   "metadata": {},
   "outputs": [],
   "source": []
  }
 ],
 "metadata": {
  "kernelspec": {
   "display_name": "Python 3 (ipykernel)",
   "language": "python",
   "name": "python3"
  },
  "language_info": {
   "codemirror_mode": {
    "name": "ipython",
    "version": 3
   },
   "file_extension": ".py",
   "mimetype": "text/x-python",
   "name": "python",
   "nbconvert_exporter": "python",
   "pygments_lexer": "ipython3",
   "version": "3.7.13"
  }
 },
 "nbformat": 4,
 "nbformat_minor": 5
}
