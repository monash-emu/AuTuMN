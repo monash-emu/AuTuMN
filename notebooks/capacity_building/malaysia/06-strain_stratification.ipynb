{
 "cells": [
  {
   "cell_type": "code",
   "execution_count": null,
   "id": "e189260d",
   "metadata": {},
   "outputs": [],
   "source": [
    "# pip install the required packages if running in Colab\n",
    "try:\n",
    "  import google.colab\n",
    "  IN_COLAB = True\n",
    "  %pip install summerepi\n",
    "except:\n",
    "  IN_COLAB = False"
   ]
  },
  {
   "cell_type": "code",
   "execution_count": null,
   "id": "31129ad4",
   "metadata": {},
   "outputs": [],
   "source": [
    "# Standard imports, plotting option and constant definition\n",
    "from datetime import datetime, timedelta\n",
    "from typing import List, Union\n",
    "import pandas as pd\n",
    "import plotly.express as px\n",
    "import numpy as np\n",
    "\n",
    "from summer import CompartmentalModel\n",
    "from summer import Stratification\n",
    "\n",
    "pd.options.plotting.backend = \"plotly\"\n",
    "\n",
    "COVID_BASE_DATE = datetime(2019, 12, 31)\n",
    "region = \"Malaysia\""
   ]
  },
  {
   "cell_type": "code",
   "execution_count": null,
   "id": "80c24fcb",
   "metadata": {},
   "outputs": [],
   "source": [
    "# Get a function to access the Malaysia data if running in Colab\n",
    "if IN_COLAB:\n",
    "    !wget https://raw.githubusercontent.com/monash-emu/AuTuMN/master/notebooks/capacity_building/malaysia/get_mys_data.py\n",
    "\n",
    "import get_mys_data"
   ]
  },
  {
   "cell_type": "code",
   "execution_count": null,
   "id": "187e070e",
   "metadata": {},
   "outputs": [],
   "source": [
    "# ... and use it to get the actual data\n",
    "df = get_mys_data.fetch_mys_data()\n",
    "initial_population = get_mys_data.get_initial_population(region)\n",
    "observations = get_mys_data.get_target_observations(df, region, \"cases\")"
   ]
  },
  {
   "cell_type": "code",
   "execution_count": null,
   "id": "05cb8aab",
   "metadata": {},
   "outputs": [],
   "source": [
    "# Define the model running period and convert to a numeric representation\n",
    "start_date = datetime(2021, 1, 30)\n",
    "end_date = start_date + timedelta(days=300)\n",
    "start_date_int = (start_date - COVID_BASE_DATE).days\n",
    "end_date_int = (end_date - COVID_BASE_DATE).days"
   ]
  },
  {
   "cell_type": "code",
   "execution_count": null,
   "id": "0e37b984",
   "metadata": {},
   "outputs": [],
   "source": [
    "# Define a target set of observations to compare against our modelled outputs later\n",
    "notifications_target = observations[start_date: end_date][\"cases_new\"]"
   ]
  },
  {
   "cell_type": "markdown",
   "id": "f492ad5d",
   "metadata": {},
   "source": [
    "# Model\n",
    "## Define a model"
   ]
  },
  {
   "cell_type": "code",
   "execution_count": null,
   "id": "a0e0dc54",
   "metadata": {},
   "outputs": [],
   "source": [
    "def build_unstratified_model(parameters: dict) -> CompartmentalModel:\n",
    "    \"\"\"\n",
    "    Create a compartmental model, with the minimal compartmental structure needed to run and produce some sort of \n",
    "    meaningful outputs.\n",
    "    \n",
    "    Args:\n",
    "        parameters: Flow parameters\n",
    "    Returns:\n",
    "        A compartmental model currently without stratification applied\n",
    "    \"\"\"\n",
    "\n",
    "    model = CompartmentalModel(\n",
    "        times=(parameters[\"start_time\"], parameters[\"end_time\"]),\n",
    "        compartments=[\"S\", \"E\", \"I\", \"R\"],\n",
    "        infectious_compartments=[\"I\"],\n",
    "        ref_date=COVID_BASE_DATE\n",
    "    )\n",
    "\n",
    "    infectious_seed = parameters[\"infectious_seed\"]\n",
    "\n",
    "    model.set_initial_population(distribution={\"S\": initial_population - infectious_seed, \"E\": 0, \"I\": infectious_seed})\n",
    "    \n",
    "    # Susceptible people can get infected\n",
    "    model.add_infection_frequency_flow(\n",
    "        name=\"infection\", \n",
    "        contact_rate=parameters[\"contact_rate\"], \n",
    "        source=\"S\", \n",
    "        dest=\"E\"\n",
    "    )\n",
    "    # Expose people transition to infected\n",
    "    model.add_transition_flow(\n",
    "        name=\"progression\",\n",
    "        fractional_rate=parameters[\"progression_rate\"],\n",
    "        source=\"E\",\n",
    "        dest=\"I\",\n",
    "    )\n",
    "\n",
    "    # Infectious people recover\n",
    "    model.add_transition_flow(\n",
    "        name=\"recovery\",\n",
    "        fractional_rate=parameters[\"recovery_rate\"],\n",
    "        source=\"I\",\n",
    "        dest=\"R\",\n",
    "    )\n",
    "\n",
    "    # Add an infection-specific death flow to the I compartment\n",
    "    model.add_death_flow(name=\"infection_death\", death_rate=parameters[\"death_rate\"], source=\"I\")\n",
    "\n",
    "    # We will also request an output for the 'progression' flow\n",
    "    model.request_output_for_flow(\"progressions\", \"progression\")\n",
    "\n",
    "    return model"
   ]
  },
  {
   "cell_type": "markdown",
   "id": "f610e757",
   "metadata": {},
   "source": [
    "# strain stratification"
   ]
  },
  {
   "cell_type": "code",
   "execution_count": null,
   "id": "ec930840",
   "metadata": {},
   "outputs": [],
   "source": [
    "from summer import StrainStratification\n",
    "def get_strain_stratification(\n",
    "    compartments_to_stratify: List[str], \n",
    "    strata: List[str],\n",
    "    voc_params: dict\n",
    ") -> Stratification:\n",
    "    \"\"\"\n",
    "    Create a summer stratification object that stratifies compartments into\n",
    "    strata, which are intended to represent infectious disease strains.\n",
    "    \n",
    "    Args:\n",
    "        compartments_to_stratify: List of the compartments to stratify\n",
    "        strata: The strata to be implemented in the strain stratification\n",
    "        voc_params: A dictionary which speicifies the infectiousness and severity of strains\n",
    "    Returns:\n",
    "        A summer stratification object to represent strain stratification (not yet applied)\n",
    "    \"\"\"\n",
    "    \n",
    "    strat = StrainStratification(name=\"strain\", strata=strata, compartments=compartments_to_stratify)\n",
    "\n",
    "    # At the start of the simulation, 20% of infected people have wild strain.\n",
    "    strat.set_population_split({'variant': 0.8, 'wild': 0.2})\n",
    "\n",
    "    # adjusting the severity of wild strain and variant\n",
    "    strat.set_flow_adjustments(\"infection_death\", {\n",
    "        \"variant\": voc_params[\"variant_ifr\"],\n",
    "        \"wild\": voc_params[\"wild_ifr\"],\n",
    "    })\n",
    "\n",
    "\n",
    "    # Adjusting the infectiousness of Wild strain and variant.\n",
    "    strat.set_flow_adjustments(\"infection\", {\n",
    "        \"variant\": voc_params[\"variant_infectiousness\"],\n",
    "        \"wild\": voc_params[\"wild_infectiousness\"],\n",
    "    })\n",
    "    \n",
    "    return strat"
   ]
  },
  {
   "cell_type": "markdown",
   "id": "0b85a188",
   "metadata": {},
   "source": [
    "### Combine the two processes together"
   ]
  },
  {
   "cell_type": "code",
   "execution_count": null,
   "id": "387ba2fc",
   "metadata": {},
   "outputs": [],
   "source": [
    "def build_stratified_model(\n",
    "    parameters: dict,\n",
    "    strata: List[str],\n",
    "    compartments_to_stratify:List[str],\n",
    "    voc_params: dict\n",
    ") -> CompartmentalModel:\n",
    "    \"\"\"\n",
    "    Get the model object with the strain stratification applied to it.\n",
    "    \n",
    "    Arguments:\n",
    "        parameters: A dictionary containing the parameter values to use\n",
    "        strata: The strata to be implemented in the strain stratification\n",
    "        compartments_to_stratify: A list of compartments to which the stratification is applied\n",
    "        voc_params: A dictionary which speicifies the infectiousness and severity of strains\n",
    "    Returns:\n",
    "        The model object        \n",
    "    \"\"\"\n",
    "    \n",
    "    # Get an unstratified model object\n",
    "    model = build_unstratified_model(parameters)\n",
    "\n",
    "    # Get and apply the stratification\n",
    "    strain_strat = get_strain_stratification(compartments_to_stratify, strata, voc_params)\n",
    "    model.stratify_with(strain_strat)\n",
    "\n",
    "    return model"
   ]
  },
  {
   "cell_type": "markdown",
   "id": "6edbc58e",
   "metadata": {},
   "source": [
    "### Actually run the models"
   ]
  },
  {
   "cell_type": "code",
   "execution_count": null,
   "id": "0fbf7e0a",
   "metadata": {},
   "outputs": [],
   "source": [
    "# Build and run the stratified model with some arbitrary parameters\n",
    "simple_strain_params = {\n",
    "    \"contact_rate\": 0.5,\n",
    "    \"progression_rate\": 0.2,\n",
    "    \"recovery_rate\": 0.2,\n",
    "    \"death_rate\": 0.,\n",
    "    \"reporting_fraction\": 0.02,\n",
    "    \"start_time\": start_date_int,\n",
    "    \"end_time\": end_date_int,\n",
    "    \"infectious_seed\": 100.\n",
    "}\n",
    "\n",
    "voc_params = {\n",
    "    \"variant_ifr\": 1.2,\n",
    "    \"wild_ifr\": None,\n",
    "    \"variant_infectiousness\": 2.,\n",
    "    \"wild_infectiousness\": None,\n",
    "}\n",
    "\n",
    "strata = [\"variant\", \"wild\"]\n",
    "compartments_to_stratify = [\"E\", \"I\", \"R\"]\n",
    "\n",
    "simple_strain_strat_model = build_stratified_model(simple_strain_params, strata, compartments_to_stratify, voc_params)"
   ]
  },
  {
   "cell_type": "code",
   "execution_count": null,
   "id": "e5c1dde2",
   "metadata": {},
   "outputs": [],
   "source": [
    "simple_strain_strat_model.run()\n",
    "\n",
    "progressions = simple_strain_strat_model.get_derived_outputs_df()[\"progressions\"]\n",
    "simple_cases_modelled = progressions * simple_strain_params[\"reporting_fraction\"]\n",
    "\n",
    "pd.DataFrame(\n",
    "    {\n",
    "        \"observed\": notifications_target,\n",
    "        \"modelled\": simple_cases_modelled,\n",
    "    }\n",
    ").plot()"
   ]
  },
  {
   "cell_type": "markdown",
   "id": "f4894ecf",
   "metadata": {},
   "source": [
    "## Manual calibration to notifications"
   ]
  },
  {
   "cell_type": "code",
   "execution_count": null,
   "id": "a8e84114",
   "metadata": {},
   "outputs": [],
   "source": [
    "def voc_adjust_variant_ifr(time, computed_values):\n",
    "    if time > 500:\n",
    "        variant_ifr = 2.5  \n",
    "    else:\n",
    "        variant_ifr = 1.5   \n",
    "    return variant_ifr    "
   ]
  },
  {
   "cell_type": "code",
   "execution_count": null,
   "id": "17eb8468",
   "metadata": {},
   "outputs": [],
   "source": [
    "def voc_adjust_variant_infectiousness(time, computed_values):\n",
    "    if time > 500:\n",
    "        variant_infectiousness = 1.5  \n",
    "    else:\n",
    "        variant_infectiousness = 1.15   \n",
    "    return variant_infectiousness   "
   ]
  },
  {
   "cell_type": "code",
   "execution_count": null,
   "id": "c341f518",
   "metadata": {},
   "outputs": [],
   "source": [
    "custom_voc_params = {\n",
    "    \"variant_ifr\": voc_adjust_variant_ifr,\n",
    "    \"wild_ifr\": 1,\n",
    "    \"variant_infectiousness\": voc_adjust_variant_infectiousness,\n",
    "    \"wild_infectiousness\": 1,\n",
    "}\n",
    "\n",
    "\n",
    "custom_params = {\n",
    "        \"contact_rate\": 0.225,\n",
    "        \"progression_rate\": 0.2,\n",
    "        \"recovery_rate\": 0.2,\n",
    "        \"death_rate\": 0.01,\n",
    "        \"reporting_fraction\": 0.095,\n",
    "        \"start_time\": start_date_int,\n",
    "        \"end_time\": end_date_int,\n",
    "        \"infectious_seed\": 100.\n",
    "    }"
   ]
  },
  {
   "cell_type": "code",
   "execution_count": null,
   "id": "16b877ad",
   "metadata": {},
   "outputs": [],
   "source": [
    "custom_strain_strat_model = build_stratified_model(custom_params, strata, compartments_to_stratify, custom_voc_params)\n",
    "custom_strain_strat_model.run()\n",
    "\n",
    "progressions = custom_strain_strat_model.get_derived_outputs_df()[\"progressions\"]\n",
    "custom_cases_modelled = progressions * custom_params[\"reporting_fraction\"]\n",
    "\n",
    "pd.DataFrame(\n",
    "    {\n",
    "        \"observed\": notifications_target,\n",
    "        \"modelled\": custom_cases_modelled,\n",
    "    }\n",
    ").plot()"
   ]
  }
 ],
 "metadata": {
  "kernelspec": {
   "display_name": "Python 3.10.3 ('autumn310')",
   "language": "python",
   "name": "python3"
  },
  "language_info": {
   "codemirror_mode": {
    "name": "ipython",
    "version": 3
   },
   "file_extension": ".py",
   "mimetype": "text/x-python",
   "name": "python",
   "nbconvert_exporter": "python",
   "pygments_lexer": "ipython3",
   "version": "3.10.3"
  },
  "vscode": {
   "interpreter": {
    "hash": "7afc08b952f75bca94590012dd49682c815a0fa68720c270ce23d7ae27bf110a"
   }
  }
 },
 "nbformat": 4,
 "nbformat_minor": 5
}
