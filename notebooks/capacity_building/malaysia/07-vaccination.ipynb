{
 "cells": [
  {
   "cell_type": "markdown",
   "id": "6700691f",
   "metadata": {},
   "source": [
    "## Vaccination stratification\n",
    "\n",
    "In this notebook, we look at how to introduce vaccination effects into the model. There is not that much new content here that we haven't covered in previous notebooks. Essentially, this is an example implementation of a model stratification, that was introduced in notebook 03-stratification-introduction.\n",
    "\n",
    "### Standard preliminaries\n",
    "Before we get into the code for heterogeneous mixing, let's start off with some of our standard (or \"boilerplate\") code to get everything set up.\n"
   ]
  },
  {
   "cell_type": "code",
   "execution_count": null,
   "id": "448fc182",
   "metadata": {},
   "outputs": [],
   "source": [
    "# pip install the required packages if running in Colab\n",
    "try:\n",
    "  import google.colab\n",
    "  IN_COLAB = True\n",
    "  %pip install summerepi\n",
    "except:\n",
    "  IN_COLAB = False"
   ]
  },
  {
   "cell_type": "code",
   "execution_count": null,
   "id": "3ea8cd5d",
   "metadata": {},
   "outputs": [],
   "source": [
    "# Standard imports, plotting option and constant definition\n",
    "from datetime import datetime, timedelta\n",
    "from typing import List, Union\n",
    "import pandas as pd\n",
    "import plotly.express as px\n",
    "import numpy as np\n",
    "\n",
    "from summer import CompartmentalModel\n",
    "from summer import Stratification\n",
    "\n",
    "pd.options.plotting.backend = \"plotly\"\n",
    "\n",
    "COVID_BASE_DATE = datetime(2019, 12, 31)\n",
    "region = \"Malaysia\""
   ]
  },
  {
   "cell_type": "code",
   "execution_count": null,
   "id": "b73651e1",
   "metadata": {},
   "outputs": [],
   "source": [
    "# Get a function to access the Malaysia data if running in Colab\n",
    "if IN_COLAB:\n",
    "    !wget https://raw.githubusercontent.com/monash-emu/AuTuMN/master/notebooks/capacity_building/malaysia/get_mys_data.py\n",
    "\n",
    "import get_mys_data"
   ]
  },
  {
   "cell_type": "code",
   "execution_count": null,
   "id": "708778db",
   "metadata": {},
   "outputs": [],
   "source": [
    "# ... and use it to get the actual data\n",
    "df = get_mys_data.fetch_mys_data()\n",
    "initial_population = get_mys_data.get_initial_population(region)\n",
    "observations = get_mys_data.get_target_observations(df, region, \"cases\")"
   ]
  },
  {
   "cell_type": "code",
   "execution_count": null,
   "id": "f9e5a9d8",
   "metadata": {},
   "outputs": [],
   "source": [
    "# Define the model running period and convert to a numeric representation\n",
    "start_date = datetime(2021, 1, 30)\n",
    "end_date = start_date + timedelta(days=300)\n",
    "start_date_int = (start_date - COVID_BASE_DATE).days\n",
    "end_date_int = (end_date - COVID_BASE_DATE).days"
   ]
  },
  {
   "cell_type": "code",
   "execution_count": null,
   "id": "6471ac23",
   "metadata": {},
   "outputs": [],
   "source": [
    "# Define a target set of observations to compare against our modelled outputs later\n",
    "notifications_target = observations[start_date: end_date][\"cases_new\"]"
   ]
  },
  {
   "cell_type": "markdown",
   "id": "2709259e",
   "metadata": {},
   "source": [
    "### Define a model"
   ]
  },
  {
   "cell_type": "code",
   "execution_count": null,
   "id": "a41ca727",
   "metadata": {},
   "outputs": [],
   "source": [
    "def build_unstratified_model(parameters: dict) -> CompartmentalModel:\n",
    "    \"\"\"\n",
    "    Create a compartmental model, with the minimal compartmental structure needed to run and produce some sort of \n",
    "    meaningful outputs.\n",
    "    \n",
    "    Args:\n",
    "        parameters: Flow parameters\n",
    "    Returns:\n",
    "        A compartmental model currently without stratification applied\n",
    "    \"\"\"\n",
    "\n",
    "    model = CompartmentalModel(\n",
    "        times=(parameters[\"start_time\"], parameters[\"end_time\"]),\n",
    "        compartments=[\"S\", \"E\", \"I\", \"R\"],\n",
    "        infectious_compartments=[\"I\"],\n",
    "        ref_date=COVID_BASE_DATE\n",
    "    )\n",
    "\n",
    "    infectious_seed = parameters[\"infectious_seed\"]\n",
    "\n",
    "    model.set_initial_population(distribution={\"S\": initial_population - infectious_seed, \"E\": 0, \"I\": infectious_seed})\n",
    "    \n",
    "    # Susceptible people can get infected\n",
    "    model.add_infection_frequency_flow(\n",
    "        name=\"infection\", \n",
    "        contact_rate=parameters[\"contact_rate\"], \n",
    "        source=\"S\", \n",
    "        dest=\"E\"\n",
    "    )\n",
    "    # Expose people transition to infected\n",
    "    model.add_transition_flow(\n",
    "        name=\"progression\",\n",
    "        fractional_rate=parameters[\"progression_rate\"],\n",
    "        source=\"E\",\n",
    "        dest=\"I\",\n",
    "    )\n",
    "\n",
    "    # Infectious people recover\n",
    "    model.add_transition_flow(\n",
    "        name=\"recovery\",\n",
    "        fractional_rate=parameters[\"recovery_rate\"],\n",
    "        source=\"I\",\n",
    "        dest=\"R\",\n",
    "    )\n",
    "\n",
    "    # Add an infection-specific death flow to the I compartment\n",
    "    model.add_death_flow(name=\"infection_death\", death_rate=parameters[\"death_rate\"], source=\"I\")\n",
    "\n",
    "\n",
    "    # We will also request an output for the 'progression' flow\n",
    "    model.request_output_for_flow(\"progressions\", \"progression\")\n",
    "\n",
    "    # Finally, we request an output for the notifications, assumed to be a fraction of the 'progression' flow\n",
    "    model.request_function_output(\n",
    "        name=\"notifications\", \n",
    "        func=lambda x: x * parameters['reporting_fraction'],\n",
    "        sources=[\"progressions\"]\n",
    "    )\n",
    "\n",
    "    return model"
   ]
  },
  {
   "cell_type": "markdown",
   "id": "5ff4e976",
   "metadata": {},
   "source": [
    "### Basic vaccine stratification"
   ]
  },
  {
   "cell_type": "code",
   "execution_count": null,
   "id": "b6c090c9",
   "metadata": {},
   "outputs": [],
   "source": [
    "from summer import Stratification\n",
    "\n",
    "def get_vaccine_stratification(\n",
    "    compartments_to_stratify: List[str], \n",
    "    vaccine_params: dict\n",
    ") -> Stratification:\n",
    "    \"\"\"\n",
    "    Create a summer stratification object that stratifies compartments into\n",
    "    strata, which are intended to represent vaccine stratifications.\n",
    "    \n",
    "    Args:\n",
    "        compartments_to_stratify: List of the compartments to stratify\n",
    "        vaccine_params: A dictionary which speicifies the infectiousness and severity reduction through vaccination\n",
    "    Returns:\n",
    "        A summer stratification object to represent strain stratification (not yet applied)\n",
    "    \"\"\"\n",
    "    strata = [\"vaccinated\", \"unvaccinated\"]\n",
    "    \n",
    "    # Create the stratification\n",
    "    vaccine_strat = Stratification(name=\"vaccine\", strata=strata, compartments=compartments_to_stratify)\n",
    "\n",
    "    # Create our population split dictionary, whose keys match the strata with 80% vaccinated and 20% unvaccinated\n",
    "    pop_split = {\"vaccinated\": 0.8, \"unvaccinated\": 0.2}\n",
    "\n",
    "    # Set a population distribution\n",
    "    vaccine_strat.set_population_split(pop_split)\n",
    "\n",
    "    # Adjusting the death risk associated with vaccination\n",
    "    vaccine_strat.set_flow_adjustments(\n",
    "        \"infection_death\",\n",
    "        {\n",
    "            \"unvaccinated\": None,\n",
    "            \"vaccinated\": vaccine_params[\"ve_death\"],\n",
    "        }\n",
    "    )\n",
    "    \n",
    "    # Adjust infectiousness levels for vaccinated population\n",
    "    vaccine_strat.add_infectiousness_adjustments(\n",
    "        \"I\",\n",
    "        {\n",
    "            \"unvaccinated\": None,\n",
    "            \"vaccinated\": vaccine_params[\"ve_infectiousness\"],\n",
    "        },\n",
    "    )\n",
    "\n",
    "    return vaccine_strat"
   ]
  },
  {
   "cell_type": "code",
   "execution_count": null,
   "id": "09c12c32",
   "metadata": {},
   "outputs": [],
   "source": [
    "def build_vacc_stratified_model(\n",
    "    parameters: dict,\n",
    "    compartments_to_stratify:List[str],\n",
    "    vaccine_params: dict,\n",
    ") -> CompartmentalModel:\n",
    "    \"\"\"\n",
    "    Get the model object with the vaccination stratification applied to it.\n",
    "    \n",
    "    Arguments:\n",
    "        parameters: A dictionary containing the parameter values to use\n",
    "        compartments_to_stratify: A list of compartments to which the stratification is applied\n",
    "        vaccine_params: A dictionary which speicifies the infectiousness and severity reduction with vaccination  \n",
    "    Returns:\n",
    "        The model object        \n",
    "    \"\"\"\n",
    "    \n",
    "    # Get an unstratified model object\n",
    "    model = build_unstratified_model(parameters)\n",
    "\n",
    "    # Get and apply the stratification\n",
    "    vaccine_strat = get_vaccine_stratification(compartments_to_stratify, vaccine_params)\n",
    "    model.stratify_with(vaccine_strat)\n",
    "\n",
    "    return model"
   ]
  },
  {
   "cell_type": "markdown",
   "id": "ec4670e4",
   "metadata": {},
   "source": [
    "### Build and run the model"
   ]
  },
  {
   "cell_type": "code",
   "execution_count": null,
   "id": "a91d22bb",
   "metadata": {},
   "outputs": [],
   "source": [
    "# Build and run the stratified model with some arbitrary parameters\n",
    "general_params = {\n",
    "    \"contact_rate\": 0.37,\n",
    "    \"progression_rate\": 0.2,\n",
    "    \"recovery_rate\": 0.2,\n",
    "    \"death_rate\": 0.,\n",
    "    \"reporting_fraction\": 0.09,\n",
    "    \"start_time\": start_date_int,\n",
    "    \"end_time\": end_date_int,\n",
    "    \"infectious_seed\": 100.\n",
    "}\n",
    "\n",
    "vaccine_params = {\n",
    "    \"ve_death\": 0.3,\n",
    "    \"ve_infectiousness\": 0.85\n",
    "}\n",
    "\n",
    "compartments_to_stratify = [\"S\", \"E\", \"I\", \"R\"]\n",
    "vacc_strat_model = build_vacc_stratified_model(general_params, compartments_to_stratify, vaccine_params)"
   ]
  },
  {
   "cell_type": "code",
   "execution_count": null,
   "id": "0162bf24",
   "metadata": {},
   "outputs": [],
   "source": [
    "vacc_strat_model.run()\n",
    "\n",
    "notifications = vacc_strat_model.get_derived_outputs_df()[\"notifications\"]\n",
    "\n",
    "pd.DataFrame(\n",
    "    {\n",
    "        \"observed\": notifications_target,\n",
    "        \"vaccinated model\": notifications\n",
    "    }\n",
    ").plot()"
   ]
  },
  {
   "cell_type": "markdown",
   "id": "6b53981d-a5ed-4594-9093-9967f9067c18",
   "metadata": {},
   "source": [
    "### Compare against unvaccinated\n",
    "Compare the model run with vaccination in place to the one without vaccination."
   ]
  },
  {
   "cell_type": "code",
   "execution_count": null,
   "id": "aa21c50f-9514-402d-bc01-374a9ff1fb63",
   "metadata": {},
   "outputs": [],
   "source": [
    "vaccine_off_params = {\n",
    "    \"ve_death\": 1.,\n",
    "    \"ve_infectiousness\": 1.\n",
    "}\n",
    "vacc_off_model = build_vacc_stratified_model(general_params, compartments_to_stratify, vaccine_off_params)\n",
    "vacc_off_model.run()\n",
    "vacc_off_notifications = vacc_off_model.get_derived_outputs_df()[\"notifications\"]\n",
    "pd.DataFrame(\n",
    "    {\n",
    "        \"observed\": notifications_target,\n",
    "        \"vaccinated model\": notifications,\n",
    "        \"unvaccinated model\": vacc_off_notifications,\n",
    "    }\n",
    ").plot()"
   ]
  }
 ],
 "metadata": {
  "kernelspec": {
   "display_name": "Python 3 (ipykernel)",
   "language": "python",
   "name": "python3"
  },
  "language_info": {
   "codemirror_mode": {
    "name": "ipython",
    "version": 3
   },
   "file_extension": ".py",
   "mimetype": "text/x-python",
   "name": "python",
   "nbconvert_exporter": "python",
   "pygments_lexer": "ipython3",
   "version": "3.10.4"
  }
 },
 "nbformat": 4,
 "nbformat_minor": 5
}
