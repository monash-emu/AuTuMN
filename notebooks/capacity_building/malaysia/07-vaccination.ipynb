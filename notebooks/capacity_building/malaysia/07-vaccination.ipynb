{
 "cells": [
  {
   "cell_type": "markdown",
   "id": "6700691f",
   "metadata": {},
   "source": [
    "## Vaccination stratification\n",
    "\n",
    "In this notebook, we look at how to introduce vaccination effects into the model. There is not that much new content here that we haven't covered in previous notebooks. Essentially, this is an example implementation of a model stratification, that was introduced in notebook 03-stratification-introduction.\n",
    "\n",
    "### Standard preliminaries\n",
    "Before we get into the code for vaccination, let's start off with some of our standard (or \"boilerplate\") code to get everything set up."
   ]
  },
  {
   "cell_type": "code",
   "execution_count": null,
   "id": "448fc182",
   "metadata": {},
   "outputs": [],
   "source": [
    "# pip install the required packages if running in Colab\n",
    "try:\n",
    "  import google.colab\n",
    "  IN_COLAB = True\n",
    "  %pip install summerepi\n",
    "except:\n",
    "  IN_COLAB = False"
   ]
  },
  {
   "cell_type": "code",
   "execution_count": null,
   "id": "3ea8cd5d",
   "metadata": {},
   "outputs": [],
   "source": [
    "# Standard imports, plotting option and constant definition\n",
    "from datetime import datetime, timedelta\n",
    "from typing import List, Union\n",
    "import pandas as pd\n",
    "import plotly.express as px\n",
    "import numpy as np\n",
    "\n",
    "from summer import CompartmentalModel\n",
    "from summer import Stratification\n",
    "from summer.utils import ref_times_to_dti\n",
    "\n",
    "pd.options.plotting.backend = \"plotly\"\n",
    "\n",
    "COVID_BASE_DATE = datetime(2019, 12, 31)\n",
    "region = \"Malaysia\""
   ]
  },
  {
   "cell_type": "code",
   "execution_count": null,
   "id": "b73651e1",
   "metadata": {},
   "outputs": [],
   "source": [
    "# Get a function to access the Malaysia data if running in Colab\n",
    "if IN_COLAB:\n",
    "    !wget https://raw.githubusercontent.com/monash-emu/AuTuMN/master/notebooks/capacity_building/malaysia/get_mys_data.py\n",
    "\n",
    "import get_mys_data"
   ]
  },
  {
   "cell_type": "code",
   "execution_count": null,
   "id": "708778db",
   "metadata": {},
   "outputs": [],
   "source": [
    "# ... and use it to get the actual data\n",
    "df = get_mys_data.fetch_mys_data()\n",
    "initial_population = get_mys_data.get_initial_population(region)\n",
    "observations = get_mys_data.get_target_observations(df, region, \"cases\")"
   ]
  },
  {
   "cell_type": "code",
   "execution_count": null,
   "id": "f9e5a9d8",
   "metadata": {},
   "outputs": [],
   "source": [
    "# Define the model running period and convert to a numeric representation\n",
    "start_date = datetime(2021, 1, 30)\n",
    "end_date = start_date + timedelta(days=300)\n",
    "start_date_int = (start_date - COVID_BASE_DATE).days\n",
    "end_date_int = (end_date - COVID_BASE_DATE).days"
   ]
  },
  {
   "cell_type": "code",
   "execution_count": null,
   "id": "6471ac23",
   "metadata": {},
   "outputs": [],
   "source": [
    "# Define a target set of observations to compare against our modelled outputs later\n",
    "notifications_target = observations[start_date: end_date][\"cases_new\"]"
   ]
  },
  {
   "cell_type": "markdown",
   "id": "2709259e",
   "metadata": {},
   "source": [
    "### Define a model"
   ]
  },
  {
   "cell_type": "code",
   "execution_count": null,
   "id": "a41ca727",
   "metadata": {},
   "outputs": [],
   "source": [
    "def build_unstratified_model(parameters: dict) -> CompartmentalModel:\n",
    "    \"\"\"\n",
    "    Create a compartmental model, with the minimal compartmental structure needed to run and produce some sort of \n",
    "    meaningful outputs.\n",
    "    \n",
    "    Args:\n",
    "        parameters: Flow parameters\n",
    "    Returns:\n",
    "        A compartmental model currently without stratification applied\n",
    "    \"\"\"\n",
    "\n",
    "    model = CompartmentalModel(\n",
    "        times=(parameters[\"start_time\"], parameters[\"end_time\"]),\n",
    "        compartments=[\"S\", \"E\", \"I\", \"R\"],\n",
    "        infectious_compartments=[\"I\"],\n",
    "        ref_date=COVID_BASE_DATE\n",
    "    )\n",
    "\n",
    "    infectious_seed = parameters[\"infectious_seed\"]\n",
    "\n",
    "    model.set_initial_population(\n",
    "        distribution={\n",
    "            \"S\": initial_population - infectious_seed, \n",
    "            \"E\": 0, \n",
    "            \"I\": infectious_seed\n",
    "        }\n",
    "    )\n",
    "    \n",
    "    # Susceptible people can get infected\n",
    "    model.add_infection_frequency_flow(\n",
    "        name=\"infection\", \n",
    "        contact_rate=parameters[\"contact_rate\"], \n",
    "        source=\"S\", \n",
    "        dest=\"E\"\n",
    "    )\n",
    "    # Expose people transition to infected\n",
    "    model.add_transition_flow(\n",
    "        name=\"progression\",\n",
    "        fractional_rate=parameters[\"progression_rate\"],\n",
    "        source=\"E\",\n",
    "        dest=\"I\",\n",
    "    )\n",
    "\n",
    "    # Infectious people recover\n",
    "    model.add_transition_flow(\n",
    "        name=\"recovery\",\n",
    "        fractional_rate=parameters[\"recovery_rate\"],\n",
    "        source=\"I\",\n",
    "        dest=\"R\",\n",
    "    )\n",
    "\n",
    "    # Add an infection-specific death flow to the I compartment\n",
    "    model.add_death_flow(name=\"infection_death\", death_rate=parameters[\"death_rate\"], source=\"I\")\n",
    "\n",
    "\n",
    "    # We will also request an output for the 'progression' flow\n",
    "    model.request_output_for_flow(\"progressions\", \"progression\")\n",
    "\n",
    "    # Finally, we request an output for the notifications, assumed to be a fraction of the 'progression' flow\n",
    "    model.request_function_output(\n",
    "        name=\"notifications\", \n",
    "        func=lambda x: x * parameters['reporting_fraction'],\n",
    "        sources=[\"progressions\"]\n",
    "    )\n",
    "    \n",
    "    model.request_output_for_flow(\"infection_deaths\", \"infection_death\")\n",
    "\n",
    "    return model"
   ]
  },
  {
   "cell_type": "markdown",
   "id": "5ff4e976",
   "metadata": {},
   "source": [
    "### Basic vaccine stratification\n",
    "In this section, we'll work through the process of generating and applying a stratification representing vaccination status to our base model.\n",
    "We'll add a couple of standard features that we might want to use in representing vaccination, although there could be epidemiological ways in which vaccination could effect the epidemic, of course."
   ]
  },
  {
   "cell_type": "code",
   "execution_count": null,
   "id": "b6c090c9",
   "metadata": {},
   "outputs": [],
   "source": [
    "from summer import Stratification\n",
    "\n",
    "def get_vaccine_stratification(\n",
    "    compartments_to_stratify: List[str], \n",
    "    vaccine_params: dict\n",
    ") -> Stratification:\n",
    "    \"\"\"\n",
    "    Create a summer stratification object that stratifies compartments into\n",
    "    strata, which are intended to represent vaccine stratifications.\n",
    "    \n",
    "    Args:\n",
    "        compartments_to_stratify: List of the compartments to stratify\n",
    "        vaccine_params: A dictionary which speicifies the vaccination-related parameters to implement\n",
    "    Returns:\n",
    "        A summer stratification object to represent strain stratification (not yet applied)\n",
    "    \"\"\"\n",
    "    strata = [\"vaccinated\", \"unvaccinated\"]\n",
    "    \n",
    "    # Create the stratification\n",
    "    vaccine_strat = Stratification(name=\"vaccine\", strata=strata, compartments=compartments_to_stratify)\n",
    "\n",
    "    # Create our population split dictionary, whose keys match the strata with 80% vaccinated and 20% unvaccinated\n",
    "    pop_split = {\n",
    "        \"vaccinated\": vaccine_params[\"prop_vacc\"], \n",
    "        \"unvaccinated\": 1. - vaccine_params[\"prop_vacc\"],\n",
    "    }\n",
    "\n",
    "    # Set a population distribution\n",
    "    vaccine_strat.set_population_split(pop_split)\n",
    "\n",
    "    # Adjusting the death risk associated with vaccination\n",
    "    vaccine_strat.set_flow_adjustments(\n",
    "        \"infection_death\",\n",
    "        {\n",
    "            \"unvaccinated\": None,\n",
    "            \"vaccinated\": 1. - vaccine_params[\"ve_death\"],\n",
    "        }\n",
    "    )\n",
    "    \n",
    "    # Adjust infectiousness levels for vaccinated population\n",
    "    vaccine_strat.add_infectiousness_adjustments(\n",
    "        \"I\",\n",
    "        {\n",
    "            \"unvaccinated\": None,\n",
    "            \"vaccinated\": 1. - vaccine_params[\"ve_infectiousness\"],\n",
    "        },\n",
    "    )\n",
    "\n",
    "    return vaccine_strat"
   ]
  },
  {
   "cell_type": "code",
   "execution_count": null,
   "id": "09c12c32",
   "metadata": {},
   "outputs": [],
   "source": [
    "def build_vacc_stratified_model(\n",
    "    parameters: dict,\n",
    "    compartments_to_stratify:List[str],\n",
    "    vaccine_params: dict,\n",
    ") -> CompartmentalModel:\n",
    "    \"\"\"\n",
    "    Get the model object with the vaccination stratification applied to it.\n",
    "    \n",
    "    Arguments:\n",
    "        parameters: A dictionary containing the parameter values to use\n",
    "        compartments_to_stratify: A list of compartments to which the stratification is applied\n",
    "        vaccine_params: A dictionary which speicifies the infectiousness and severity reduction with vaccination  \n",
    "    Returns:\n",
    "        The model object        \n",
    "    \"\"\"\n",
    "    \n",
    "    # Get an unstratified model object\n",
    "    model = build_unstratified_model(parameters)\n",
    "\n",
    "    # Get and apply the stratification\n",
    "    vaccine_strat = get_vaccine_stratification(compartments_to_stratify, vaccine_params)\n",
    "    model.stratify_with(vaccine_strat)\n",
    "\n",
    "    return model"
   ]
  },
  {
   "cell_type": "markdown",
   "id": "ec4670e4",
   "metadata": {},
   "source": [
    "### Build and run the model"
   ]
  },
  {
   "cell_type": "code",
   "execution_count": null,
   "id": "a91d22bb",
   "metadata": {},
   "outputs": [],
   "source": [
    "# Build and run the stratified model with some fairly arbitrary parameters calibrated to the local epidemic\n",
    "general_params = {\n",
    "    \"contact_rate\": 0.361,\n",
    "    \"progression_rate\": 0.2,\n",
    "    \"recovery_rate\": 0.2,\n",
    "    \"death_rate\": 0.002,\n",
    "    \"reporting_fraction\": 0.09,\n",
    "    \"start_time\": start_date_int,\n",
    "    \"end_time\": end_date_int,\n",
    "    \"infectious_seed\": 200.,\n",
    "}\n",
    "\n",
    "vaccine_params = {\n",
    "    \"prop_vacc\": 0.8,\n",
    "    \"ve_death\": 0.7,\n",
    "    \"ve_infectiousness\": 0.15\n",
    "}\n",
    "\n",
    "compartments_to_stratify = [\"S\", \"E\", \"I\", \"R\"]\n",
    "vacc_strat_model = build_vacc_stratified_model(general_params, compartments_to_stratify, vaccine_params)"
   ]
  },
  {
   "cell_type": "code",
   "execution_count": null,
   "id": "0162bf24",
   "metadata": {},
   "outputs": [],
   "source": [
    "vacc_strat_model.run()\n",
    "\n",
    "notifications = vacc_strat_model.get_derived_outputs_df()[\"notifications\"]\n",
    "\n",
    "pd.DataFrame(\n",
    "    {\n",
    "        \"observed\": notifications_target,\n",
    "        \"vaccinated model\": notifications\n",
    "    }\n",
    ").plot()"
   ]
  },
  {
   "cell_type": "markdown",
   "id": "6b53981d-a5ed-4594-9093-9967f9067c18",
   "metadata": {},
   "source": [
    "### Compare against unvaccinated\n",
    "Compare the model run with vaccination in place to the one without vaccination."
   ]
  },
  {
   "cell_type": "code",
   "execution_count": null,
   "id": "aa21c50f-9514-402d-bc01-374a9ff1fb63",
   "metadata": {},
   "outputs": [],
   "source": [
    "vaccine_off_params = {\n",
    "    \"prop_vacc\": 0.8,\n",
    "    \"ve_death\": 0.,\n",
    "    \"ve_infectiousness\": 0.\n",
    "}\n",
    "vacc_off_model = build_vacc_stratified_model(general_params, compartments_to_stratify, vaccine_off_params)\n",
    "vacc_off_model.run()\n",
    "vacc_off_notifications = vacc_off_model.get_derived_outputs_df()[\"notifications\"]\n",
    "pd.DataFrame(\n",
    "    {\n",
    "        \"observed\": notifications_target,\n",
    "        \"vaccinated model\": notifications,\n",
    "        \"unvaccinated model\": vacc_off_notifications,\n",
    "    }\n",
    ").plot()"
   ]
  },
  {
   "cell_type": "code",
   "execution_count": null,
   "id": "b3913fef-d887-4cc0-ac60-d37adde00bdc",
   "metadata": {},
   "outputs": [],
   "source": [
    "pd.DataFrame(\n",
    "    {\n",
    "        \"vaccinated scenario deaths\": vacc_strat_model.get_derived_outputs_df()[\"infection_deaths\"],\n",
    "        \"unvaccinated scenario deaths\": vacc_off_model.get_derived_outputs_df()[\"infection_deaths\"],\n",
    "    }\n",
    ").plot()"
   ]
  },
  {
   "cell_type": "markdown",
   "id": "e478c34c-516a-44c7-8978-adcef64a996c",
   "metadata": {},
   "source": [
    "## Using empiric data on coverage\n",
    "Here, we're going to look at implementing empirical vaccination coverage into a model\n",
    "very similar to the one we have introduced above.\n",
    "Note that this is not a universally used approach, \n",
    "but we have found it useful in re-creating local reported profiles of vaccination scale-up over time.\n",
    "The values used in this following cell are invented for illustration only,\n",
    "but could be replaced by real coverage estimates for Malaysia."
   ]
  },
  {
   "cell_type": "code",
   "execution_count": null,
   "id": "85d6ae1e-a46c-4a9a-9da6-c1c0fca8efce",
   "metadata": {},
   "outputs": [],
   "source": [
    "vacc_coverage = [0., 0., 0.05, 0.1, 0.2, 0.3, 0.5, 0.6, 0.65, 0.7, 0.72, 0.74, 0.76]\n",
    "coverage_start_time = 365\n",
    "coverage_end_time = 730\n",
    "coverage_times = range(coverage_start_time, coverage_end_time, 30)\n",
    "pd.Series(vacc_coverage, index=ref_times_to_dti(COVID_BASE_DATE, coverage_times)).plot(title=\"Vaccination coverage over time\")"
   ]
  },
  {
   "cell_type": "code",
   "execution_count": null,
   "id": "40a55490-5476-474d-8a7f-0152671453a9",
   "metadata": {},
   "outputs": [],
   "source": [
    "def get_prop_of_remaining_covered(old_prop, new_prop):\n",
    "    return (new_prop - old_prop) / (1. - old_prop)\n",
    "\n",
    "interval_prop_unvacc_vaccinated = [\n",
    "    get_prop_of_remaining_covered(\n",
    "        vacc_coverage[i],\n",
    "        vacc_coverage[i + 1],\n",
    "    ) \n",
    "    for i in range(len(vacc_coverage) - 1)\n",
    "]\n",
    "\n",
    "interval_lengths = [coverage_times[i + 1] - coverage_times[i] for i in range(len(coverage_times) - 1)]\n",
    "\n",
    "pd.Series(interval_prop_unvacc_vaccinated, index=coverage_times[1:]).plot(title=\"Proportion of remaining unvaccinated vaccinated during each interval\")"
   ]
  },
  {
   "cell_type": "markdown",
   "id": "90040a1f-44cd-476b-bc1d-1ca8220e67c4",
   "metadata": {},
   "source": [
    "To find the rate for the interval, we need to solve the following equation:\n",
    "\n",
    "coverage_increase = 1 - exp(-rate * duration)"
   ]
  },
  {
   "cell_type": "code",
   "execution_count": null,
   "id": "0fafb887-c90a-41ba-ad40-2b5cd3797297",
   "metadata": {},
   "outputs": [],
   "source": [
    "def get_rate_from_coverage_and_duration(coverage_increment: float, duration: float) -> float:\n",
    "    assert duration >= 0.0, f\"Duration request is negative: {duration}\"\n",
    "    assert 0.0 <= coverage_increment <= 1.0, f\"Coverage increment not in [0, 1]: {coverage_increase}\"\n",
    "    return -np.log(1.0 - coverage_increment) / duration\n",
    "\n",
    "vaccination_rates = [get_rate_from_coverage_and_duration(i, j) for i, j in zip(interval_prop_unvacc_vaccinated, interval_lengths)]\n",
    "pd.Series(vaccination_rates, index=ref_times_to_dti(COVID_BASE_DATE, coverage_times[1:])).plot(kind=\"scatter\")"
   ]
  },
  {
   "cell_type": "code",
   "execution_count": null,
   "id": "4130206a-5f68-4260-9ed4-94bb67b422aa",
   "metadata": {},
   "outputs": [],
   "source": [
    "def get_vacc_rate_func(end_times, vaccination_rates):\n",
    "    def get_vaccination_rate(time, derived_outputs):\n",
    "\n",
    "        # Identify the index of the first list element greater than the time of interest\n",
    "        # If there is such an index, return the corresponding vaccination rate\n",
    "        for end_i, end_t in enumerate(end_times):\n",
    "            if end_t > time:\n",
    "                return vaccination_rates[end_i]\n",
    "\n",
    "        # Return zero if the time is after the last end time\n",
    "        return 0.0\n",
    "    return get_vaccination_rate\n",
    "\n",
    "vacc_rate_func = get_vacc_rate_func(coverage_times[1:], vaccination_rates)"
   ]
  },
  {
   "cell_type": "code",
   "execution_count": null,
   "id": "bb703937-5648-4f25-90de-8ce4ec643fb4",
   "metadata": {},
   "outputs": [],
   "source": [
    "# Look at a slightly broader period than the data provided\n",
    "example_times = range(\n",
    "    coverage_start_time - 30, \n",
    "    coverage_end_time + 30, \n",
    "    7,\n",
    ")\n",
    "\n",
    "# Use the vaccination rate function we generated\n",
    "example_values = [\n",
    "    vacc_rate_func(i, None) for i in example_times\n",
    "]\n",
    "\n",
    "# Plot\n",
    "pd.Series(\n",
    "    example_values, \n",
    "    index=ref_times_to_dti(COVID_BASE_DATE, example_times)\n",
    ").plot(kind=\"scatter\")"
   ]
  },
  {
   "cell_type": "code",
   "execution_count": null,
   "id": "8d0f2d3d-6919-46cc-b3ef-4cea2f4667bd",
   "metadata": {},
   "outputs": [],
   "source": [
    "vaccine_params.update({\"prop_vacc\": 0.})\n",
    "\n",
    "compartments_to_stratify = [\"S\", \"E\", \"I\", \"R\"]\n",
    "vacc_rollout_model = build_vacc_stratified_model(general_params, compartments_to_stratify, vaccine_params)\n",
    "vacc_rollout_model.add_transition_flow(\n",
    "    name=\"vaccination\",\n",
    "    fractional_rate=vacc_rate_func,\n",
    "    source=\"S\",\n",
    "    dest=\"S\",\n",
    "    source_strata={\"vaccine\": \"unvaccinated\"},\n",
    "    dest_strata={\"vaccine\": \"vaccinated\"},\n",
    ")\n",
    "vacc_rollout_model.add_transition_flow(\n",
    "    name=\"vaccination\",\n",
    "    fractional_rate=vacc_rate_func,\n",
    "    source=\"R\",\n",
    "    dest=\"R\",\n",
    "    source_strata={\"vaccine\": \"unvaccinated\"},\n",
    "    dest_strata={\"vaccine\": \"vaccinated\"},\n",
    ")\n",
    "vacc_rollout_model.request_output_for_compartments(\n",
    "    \"vaccinated\",\n",
    "    compartments_to_stratify,\n",
    "    strata={\"vaccine\": \"vaccinated\"},\n",
    ")\n",
    "vacc_rollout_model.request_output_for_compartments(\n",
    "    \"unvaccinated\",\n",
    "    compartments_to_stratify,\n",
    "    strata={\"vaccine\": \"unvaccinated\"},\n",
    ")"
   ]
  },
  {
   "cell_type": "code",
   "execution_count": null,
   "id": "b3a82468-845c-4653-a37d-b81a82611359",
   "metadata": {},
   "outputs": [],
   "source": [
    "vacc_rollout_model.run()\n",
    "vacc_rollout_derived_df = vacc_rollout_model.get_derived_outputs_df()\n",
    "vacc_rollout_derived_df[[\"vaccinated\", \"unvaccinated\"]].plot.area()"
   ]
  },
  {
   "cell_type": "code",
   "execution_count": null,
   "id": "f3ef14de-1f80-4f1c-8595-a5b1a3351e59",
   "metadata": {},
   "outputs": [],
   "source": [
    "rollout_notifications = vacc_rollout_model.get_derived_outputs_df()[\"notifications\"]\n",
    "pd.DataFrame(\n",
    "    {\n",
    "        \"observed\": notifications_target,\n",
    "        \"vaccinated model\": notifications,\n",
    "        \"unvaccinated model\": vacc_off_notifications,\n",
    "        \"roll-out model\": rollout_notifications,\n",
    "    }\n",
    ").plot()"
   ]
  }
 ],
 "metadata": {
  "kernelspec": {
   "display_name": "Python 3 (ipykernel)",
   "language": "python",
   "name": "python3"
  },
  "language_info": {
   "codemirror_mode": {
    "name": "ipython",
    "version": 3
   },
   "file_extension": ".py",
   "mimetype": "text/x-python",
   "name": "python",
   "nbconvert_exporter": "python",
   "pygments_lexer": "ipython3",
   "version": "3.10.4"
  }
 },
 "nbformat": 4,
 "nbformat_minor": 5
}
