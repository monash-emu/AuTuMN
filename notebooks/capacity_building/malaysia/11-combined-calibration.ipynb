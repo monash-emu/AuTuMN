{
 "cells": [
  {
   "cell_type": "markdown",
   "id": "53e04f0b",
   "metadata": {},
   "source": [
    "# Bringing it all together\n",
    "\n",
    "In this notebook we aim to apply several different stratifications, mixing and vaccination concepts learnt previously into a single model. The goal here is to take everything that we have learnt previously using \"toy\" code with simplified stratifications/functionality loosely representative of Covid transmission - and extend this to a model that we can be satisfied reasonably replicates most of the most important dynamics of Covid transmission in Malaysia.\n",
    "\n",
    "A little like notebook number 04, this is an opportunity to take stock and apply the epidemiological principles we have worked through in the preceding notebooks.\n",
    "\n",
    "## Standard preliminaries\n",
    "Before we get into building the model, let's start off with some of our standard (or \"boilerplate\") code to get everything set up."
   ]
  },
  {
   "cell_type": "code",
   "execution_count": null,
   "id": "eeeb9ff8",
   "metadata": {},
   "outputs": [],
   "source": [
    "# pip install the required packages if running in Colab\n",
    "try:\n",
    "    import google.colab\n",
    "    IN_COLAB = True\n",
    "    %pip install summerepi2==1.0.4\n",
    "    %pip install estival==0.1.4\n",
    "\n",
    "except:\n",
    "    IN_COLAB = False"
   ]
  },
  {
   "cell_type": "code",
   "execution_count": null,
   "id": "e19523e4",
   "metadata": {},
   "outputs": [],
   "source": [
    "# Standard imports, plotting option and constant definition\n",
    "from datetime import datetime, timedelta\n",
    "from typing import List, Union\n",
    "import pandas as pd\n",
    "import plotly.express as px\n",
    "import numpy as np\n",
    "import pickle\n",
    "\n",
    "from jax import numpy as jnp\n",
    "\n",
    "from summer2.utils import ref_times_to_dti\n",
    "\n",
    "from summer2 import CompartmentalModel, Stratification, StrainStratification, Overwrite\n",
    "from summer2.parameters import Parameter, Function, DerivedOutput, Time, Data\n",
    "\n",
    "pd.options.plotting.backend = \"plotly\"\n",
    "\n",
    "COVID_BASE_DATE = datetime(2019, 12, 31)\n",
    "region = \"Malaysia\""
   ]
  },
  {
   "cell_type": "code",
   "execution_count": null,
   "id": "4d16f87e-2ccc-4f1a-a85e-d7f164700104",
   "metadata": {},
   "outputs": [],
   "source": [
    "# Get pregenerated data\n",
    "if IN_COLAB:\n",
    "    !wget https://raw.githubusercontent.com/monash-emu/AuTuMN/master/notebooks/capacity_building/malaysia/MYS_matrices.pkl\n",
    "    !wget https://raw.githubusercontent.com/monash-emu/AuTuMN/master/notebooks/capacity_building/malaysia/MYS_age_pops.pkl\n",
    "    !wget https://raw.githubusercontent.com/monash-emu/AuTuMN/master/notebooks/capacity_building/malaysia/MYS_vac_coverage.pkl\n",
    "\n",
    "mixing_matrix = pd.read_pickle(\"MYS_matrices.pkl\", compression='infer')\n",
    "age_mixing_matrix = mixing_matrix[\"all_locations\"]\n",
    "# px.imshow(age_mixing_matrix)"
   ]
  },
  {
   "cell_type": "code",
   "execution_count": null,
   "id": "89d05eef",
   "metadata": {},
   "outputs": [],
   "source": [
    "# Get a function to access the Malaysia data if running in Colab\n",
    "if IN_COLAB:\n",
    "    !wget https://raw.githubusercontent.com/monash-emu/AuTuMN/master/notebooks/capacity_building/malaysia/get_mys_data.py\n",
    "\n",
    "import get_mys_data"
   ]
  },
  {
   "cell_type": "code",
   "execution_count": null,
   "id": "82871940-18e1-4747-92f6-756c9b4eeca7",
   "metadata": {},
   "outputs": [],
   "source": [
    "age_groups = range(0, 80, 5)"
   ]
  },
  {
   "cell_type": "code",
   "execution_count": null,
   "id": "95b1617c",
   "metadata": {},
   "outputs": [],
   "source": [
    "age_pops = pickle.load(open(\"MYS_age_pops.pkl\", \"rb\"))"
   ]
  },
  {
   "cell_type": "code",
   "execution_count": null,
   "id": "3c54f551",
   "metadata": {},
   "outputs": [],
   "source": [
    "# ... and use it to get the actual data\n",
    "df = get_mys_data.fetch_mys_data()\n",
    "initial_population = get_mys_data.get_initial_population(region)\n",
    "observations = get_mys_data.get_target_observations(df, region, \"cases\")"
   ]
  },
  {
   "cell_type": "code",
   "execution_count": null,
   "id": "fd3e2d77",
   "metadata": {},
   "outputs": [],
   "source": [
    "# Define a target set of observations to compare against our modelled outputs later\n",
    "notifications_target = observations[\"cases_new\"]\n",
    "deaths_target = get_mys_data.get_target_observations(df, region, \"deaths\")[\"deaths_new\"]"
   ]
  },
  {
   "cell_type": "markdown",
   "id": "7b90cd4d",
   "metadata": {},
   "source": [
    "# Model\n",
    "\n",
    "## Define a model"
   ]
  },
  {
   "cell_type": "code",
   "execution_count": null,
   "id": "12f1dcd8-ebe7-481f-a823-7695ae07f570",
   "metadata": {},
   "outputs": [],
   "source": [
    "unstratified_compartments = [\"S\", \"E\", \"I\", \"R\", \"S2\"]"
   ]
  },
  {
   "cell_type": "code",
   "execution_count": null,
   "id": "03805af8",
   "metadata": {},
   "outputs": [],
   "source": [
    "def build_unstratified_model(\n",
    "    config: dict\n",
    ") -> CompartmentalModel:\n",
    "    \"\"\"\n",
    "    Create a compartmental model, with compartmental structure needed to run and produce some sort of \n",
    "    meaningful outputs.\n",
    "    \n",
    "    Args:\n",
    "        parameters: Flow parameters\n",
    "    Returns:\n",
    "        A compartmental model currently without stratification applied\n",
    "    \"\"\"\n",
    "\n",
    "    model = CompartmentalModel(\n",
    "        times=(config[\"start_time\"], config[\"end_time\"]),\n",
    "        compartments=unstratified_compartments,\n",
    "        infectious_compartments=[\"I\"],\n",
    "        ref_date=COVID_BASE_DATE\n",
    "    )\n",
    "\n",
    "    infectious_seed = Parameter(\"infectious_seed\")\n",
    "\n",
    "    model.set_initial_population(\n",
    "        distribution=\n",
    "        {\n",
    "            \"S\": initial_population - infectious_seed, \n",
    "            \"I\": infectious_seed,\n",
    "        }\n",
    "    )\n",
    "    \n",
    "    # Susceptible people can get infected\n",
    "    model.add_infection_frequency_flow(\n",
    "        name=\"infection\", \n",
    "        contact_rate=Parameter(\"contact_rate\"), \n",
    "        source=\"S\",\n",
    "        dest=\"E\",\n",
    "    )\n",
    "    \n",
    "    # Recovered people get infected at the same rate as the susceptibles\n",
    "    model.add_infection_frequency_flow(\n",
    "        name=\"reinfection\", \n",
    "        contact_rate=Parameter(\"contact_rate\"), \n",
    "        source=\"S2\", \n",
    "        dest=\"E\",\n",
    "    )\n",
    "    \n",
    "    # Exposed people transition to infected at some rate\n",
    "    model.add_transition_flow(\n",
    "        name=\"progression\",\n",
    "        fractional_rate=1. / Parameter(\"latent_period\"),\n",
    "        source=\"E\",\n",
    "        dest=\"I\",\n",
    "    )\n",
    "    \n",
    "    recover_prop = 1. - Parameter(\"infection_fatality_prop\")\n",
    "\n",
    "    # Infectious people recover after some time spent infectious\n",
    "    model.add_transition_flow(\n",
    "        name=\"recovery\",\n",
    "        fractional_rate=recover_prop / Parameter(\"infectious_period\"),\n",
    "        source=\"I\",\n",
    "        dest=\"R\",\n",
    "    )\n",
    "    \n",
    "    # Recovered people lose their immunity at some rate\n",
    "    model.add_transition_flow(\n",
    "        name=\"waning_natural_immunity\",\n",
    "        fractional_rate=1. / Parameter(\"full_immunity_period\"),\n",
    "        source=\"R\",\n",
    "        dest=\"S2\",\n",
    "    )\n",
    "\n",
    "    # Add an infection-specific death flow to the I compartment\n",
    "    model.add_death_flow(\n",
    "        name=\"infection_death\", \n",
    "        death_rate=Parameter(\"infection_fatality_prop\") / Parameter(\"infectious_period\"), \n",
    "        source=\"I\"\n",
    "    )\n",
    "    \n",
    "    # Only a proportion of new cases are identified as cases\n",
    "    model.request_output_for_flow(\n",
    "        \"progressions\",\n",
    "        \"progression\",\n",
    "    )\n",
    "    model.request_function_output(\n",
    "        \"notifications\",\n",
    "        func=DerivedOutput(\"progressions\") * Parameter(\"cdr\")\n",
    "    )\n",
    "    \n",
    "    # Track proportion ever infected\n",
    "    model.request_output_for_compartments(\n",
    "        \"n_ever_infected\",\n",
    "        (\"E\", \"I\", \"R\", \"S2\"),\n",
    "        save_results=False,\n",
    "    )\n",
    "    model.request_output_for_compartments(\n",
    "        \"total_pop\",\n",
    "        unstratified_compartments,\n",
    "        save_results=False,\n",
    "    )\n",
    "    model.request_function_output(\n",
    "        \"prop_ever_infected\",\n",
    "        func=DerivedOutput(\"n_ever_infected\") / DerivedOutput(\"total_pop\"),\n",
    "    )\n",
    "\n",
    "    return model"
   ]
  },
  {
   "cell_type": "code",
   "execution_count": null,
   "id": "c1e650aa-c564-4383-94f7-7176cd50f8b9",
   "metadata": {},
   "outputs": [],
   "source": [
    "def get_age_stratification(\n",
    "    compartments_to_stratify: List[str],\n",
    "    strata: List[str],\n",
    "    matrix: Union[np.ndarray, callable],\n",
    ") -> Stratification:\n",
    "    \"\"\"\n",
    "    Create a summer stratification object that stratifies all of the compartments into\n",
    "    strata, which are intended to represent age bands according to the user inputs.\n",
    "    This is essentially adapting the model's age stratification approach to the format\n",
    "    of the mixing matrix, which is a reasonable approach.\n",
    "    \n",
    "    Args:\n",
    "        compartments_to_stratify: List of the compartments to stratify, which should be all the compartments\n",
    "        strata: The strata to be implemented in the age stratification\n",
    "        matrix: The mixing matrix we are applying for the age structure\n",
    "    Returns:\n",
    "        A summer stratification object to represent age stratification (not yet applied)\n",
    "    \"\"\"\n",
    "    \n",
    "    if isinstance(matrix, np.ndarray):\n",
    "        msg = \"Mixing matrix is not 2-dimensional\"\n",
    "        assert matrix.ndim == 2, msg\n",
    "\n",
    "        msg = f\"Dimensions of the mixing matrix incorrect: {matrix.shape[0]}, {matrix.shape[1]}, {len(strata)}\"\n",
    "        assert matrix.shape[0] == matrix.shape[1] == len(strata), msg\n",
    "    \n",
    "    # Create the stratification, just naming the age groups by their starting value\n",
    "    strat = Stratification(\n",
    "        name=\"age\", \n",
    "        strata=strata, \n",
    "        compartments=compartments_to_stratify\n",
    "    )\n",
    "    \n",
    "    age_split_props = age_pops / age_pops.sum()\n",
    "    strat.set_population_split(age_split_props.to_dict())\n",
    "    \n",
    "    # Add the mixing matrix to the stratification\n",
    "    strat.set_mixing_matrix(matrix)\n",
    "    \n",
    "    return strat"
   ]
  },
  {
   "cell_type": "code",
   "execution_count": null,
   "id": "fd80dd96",
   "metadata": {},
   "outputs": [],
   "source": [
    "def get_strain_stratification(\n",
    "    compartments_to_stratify: List[str]\n",
    ") -> Stratification:\n",
    "    \"\"\"\n",
    "    Create a summer stratification object that stratifies compartments into\n",
    "    strata, which are intended to represent infectious disease strains.\n",
    "    \n",
    "    Args:\n",
    "        compartments_to_stratify: List of the compartments to stratify\n",
    "        voc_params: A dictionary which speicifies the infectiousness and severity of strains\n",
    "    Returns:\n",
    "        A summer stratification object to represent strain stratification (not yet applied)\n",
    "    \"\"\"\n",
    "    strata = [\"delta\", \"omicron\"]\n",
    "    strat = StrainStratification(name=\"strain\", strata=strata, compartments=compartments_to_stratify)\n",
    "\n",
    "    # At the start of the simulation, a certain proportion of infected people have the variant strain.\n",
    "    strat.set_population_split(\n",
    "        {\n",
    "            \"delta\": 1.,\n",
    "            \"omicron\": 0.,\n",
    "        }\n",
    "    )\n",
    "\n",
    "    for infection_flow in [\"infection\", \"reinfection\"]:\n",
    "        strat.set_flow_adjustments(\n",
    "            infection_flow,\n",
    "            {\n",
    "                \"delta\": None,\n",
    "                \"omicron\": Parameter(\"omicron_rel_transmissibility\"),\n",
    "            },\n",
    "        )\n",
    "\n",
    "    return strat"
   ]
  },
  {
   "cell_type": "code",
   "execution_count": null,
   "id": "a37e0fae",
   "metadata": {},
   "outputs": [],
   "source": [
    "full_dose_coverage = pickle.load(open(\"MYS_vac_coverage.pkl\", \"rb\"))\n",
    "full_dose_coverage.plot.area(title=\"two-dose vaccination coverage\")"
   ]
  },
  {
   "cell_type": "code",
   "execution_count": null,
   "id": "2218cb82-85f6-4367-a309-773e2b626aeb",
   "metadata": {},
   "outputs": [],
   "source": [
    "# To save on calculations a little, let's thin out the data\n",
    "thinning_interval = 7\n",
    "thinned_full_coverage = full_dose_coverage[::thinning_interval]\n",
    "\n",
    "def get_prop_of_remaining_covered(old_prop, new_prop):\n",
    "    return (new_prop - old_prop) / (1. - old_prop)\n",
    "\n",
    "interval_prop_unvacc_vaccinated = [\n",
    "    get_prop_of_remaining_covered(\n",
    "        thinned_full_coverage[i],\n",
    "        thinned_full_coverage[i + 1],\n",
    "    ) \n",
    "    for i in range(len(thinned_full_coverage) - 1)\n",
    "]\n",
    "\n",
    "coverage_times = thinned_full_coverage.index\n",
    "\n",
    "pd.Series(interval_prop_unvacc_vaccinated, index=coverage_times[1:]).plot(\n",
    "    title=\"proportion of remaining unvaccinated vaccinated during each interval\"\n",
    ")"
   ]
  },
  {
   "cell_type": "code",
   "execution_count": null,
   "id": "2053baad-71d8-4e7b-a5cb-06c94bda0966",
   "metadata": {},
   "outputs": [],
   "source": [
    "def get_rate_from_coverage_and_duration(coverage_increment: float, duration: float) -> float:\n",
    "    assert duration >= 0.0, f\"Duration request is negative: {duration}\"\n",
    "    assert 0.0 <= coverage_increment <= 1.0, f\"Coverage increment not in [0, 1]: {coverage_increase}\"\n",
    "    return -np.log(1.0 - coverage_increment) / duration\n",
    "\n",
    "vacc_times_int = (coverage_times - COVID_BASE_DATE).days\n",
    "\n",
    "interval_lengths = [\n",
    "    vacc_times_int[i + 1] - vacc_times_int[i] \n",
    "    for i in range(len(vacc_times_int) - 1)\n",
    "]\n",
    "\n",
    "vaccination_rates = [\n",
    "    get_rate_from_coverage_and_duration(i, j) for \n",
    "    i, j in zip(interval_prop_unvacc_vaccinated, interval_lengths)\n",
    "]\n",
    "pd.Series(vaccination_rates, index=coverage_times[1:]).plot(kind=\"scatter\")"
   ]
  },
  {
   "cell_type": "code",
   "execution_count": null,
   "id": "140505e5-09fb-4ffb-ac4e-9ca07272572d",
   "metadata": {},
   "outputs": [],
   "source": [
    "def get_vacc_rate_func(end_times, vaccination_rates):\n",
    "    def get_vaccination_rate(time, derived_outputs):\n",
    "\n",
    "        # Identify the index of the first list element greater than the time of interest\n",
    "        # If there is such an index, return the corresponding vaccination rate\n",
    "        for end_i, end_t in enumerate(end_times):\n",
    "            if end_t > time:\n",
    "                return vaccination_rates[end_i]\n",
    "\n",
    "        # Return zero if the time is after the last end time\n",
    "        return 0.0\n",
    "    return get_vaccination_rate\n",
    "\n",
    "vacc_rate_func = get_vacc_rate_func(vacc_times_int, vaccination_rates)"
   ]
  },
  {
   "cell_type": "code",
   "execution_count": null,
   "id": "eff06b23",
   "metadata": {},
   "outputs": [],
   "source": [
    "from summer2.functions import get_piecewise_scalar_function\n",
    "\n",
    "# Pad the endpoints with 0.0 - ie this is the vaccination rate outside of the bounds we have computed,\n",
    "# and therefore what should be returned when requesting data outside this range\n",
    "full_vacc_rates = np.concatenate([(0.0,), vaccination_rates, (0.0,)])\n",
    "\n",
    "# Need to convert the coverage times to our 'days since covid-0' format\n",
    "coverage_time_idx = (coverage_times - COVID_BASE_DATE).days\n",
    "\n",
    "vacc_rate_func = get_piecewise_scalar_function(coverage_time_idx, full_vacc_rates)"
   ]
  },
  {
   "cell_type": "code",
   "execution_count": null,
   "id": "99479149-21a7-4815-8f12-bfa51c57e04a",
   "metadata": {},
   "outputs": [],
   "source": [
    "def get_vaccine_stratification(\n",
    "    compartments_to_stratify: List[str]\n",
    ") -> Stratification:\n",
    "    \"\"\"\n",
    "    Create a summer stratification object that stratifies compartments into\n",
    "    strata, which are intended to represent vaccine stratifications.\n",
    "    \n",
    "    Args:\n",
    "        compartments_to_stratify: List of the compartments to stratify\n",
    "        vaccine_params: A dictionary which speicifies the vaccination-related parameters to implement\n",
    "    Returns:\n",
    "        A summer stratification object to represent strain stratification (not yet applied)\n",
    "    \"\"\"\n",
    "    strata = [\"vaccinated\", \"unvaccinated\"]\n",
    "    \n",
    "    # Create the stratification\n",
    "    vaccine_strat = Stratification(name=\"vaccination\", strata=strata, compartments=compartments_to_stratify)\n",
    "\n",
    "    # Create our population split dictionary, whose keys match the strata with 80% vaccinated and 20% unvaccinated\n",
    "    pop_split = {\n",
    "        \"vaccinated\": 0., \n",
    "        \"unvaccinated\": 1.,\n",
    "    }\n",
    "\n",
    "    # Set a population distribution\n",
    "    vaccine_strat.set_population_split(pop_split)\n",
    "\n",
    "    # Adjusting the death risk associated with vaccination\n",
    "    vaccine_strat.set_flow_adjustments(\n",
    "        \"infection_death\",\n",
    "        {\n",
    "            \"unvaccinated\": None,\n",
    "            \"vaccinated\": 1. - Parameter(\"ve_death\"),\n",
    "        }\n",
    "    )\n",
    "    \n",
    "    # Susceptibility\n",
    "    for infection_flow in [\"infection\", \"reinfection\"]:\n",
    "        vaccine_strat.set_flow_adjustments(\n",
    "            infection_flow,\n",
    "            {\n",
    "                \"unvaccinated\": None,\n",
    "                \"vaccinated\": 1. - Parameter(\"ve_infection\"),\n",
    "            }\n",
    "        )\n",
    "\n",
    "    return vaccine_strat"
   ]
  },
  {
   "cell_type": "code",
   "execution_count": null,
   "id": "41ff49e1",
   "metadata": {},
   "outputs": [],
   "source": [
    "# Define some helper functions for seeding multiple strains\n",
    "\n",
    "# Basic function to get windowed bounds for seeding\n",
    "\n",
    "def get_window(start, length):\n",
    "    return jnp.array((start,start+length))\n",
    "\n",
    "def get_seed_function(start, length):\n",
    "    # Because this is running 'inside the model' (and might be parameterized), these need to be\n",
    "    # Function objects rather than just python functions\n",
    "    \n",
    "    time_window = Function(get_window, [start, length])\n",
    "    return get_piecewise_scalar_function(time_window, [0.0, 1.0, 0.0])\n"
   ]
  },
  {
   "cell_type": "code",
   "execution_count": null,
   "id": "097609b7",
   "metadata": {},
   "outputs": [],
   "source": [
    "start_date = datetime(2021, 3, 10)\n",
    "end_date = start_date + timedelta(days=500)\n",
    "start_date_int = (start_date - COVID_BASE_DATE).days\n",
    "end_date_int = (end_date - COVID_BASE_DATE).days\n",
    "\n",
    "config = {\n",
    "    \"start_time\": start_date_int,\n",
    "    \"end_time\": end_date_int,\n",
    "}\n",
    "\n",
    "def build_full_model(config):\n",
    "\n",
    "    # Get an unstratified model object\n",
    "    model = build_unstratified_model(config)\n",
    "    \n",
    "    base_compartments = model.compartments\n",
    "\n",
    "    # Get and apply the age stratification\n",
    "    age_strat = get_age_stratification(\n",
    "        model.compartments, \n",
    "        range(0, 80, 5), \n",
    "        mixing_matrix[\"all_locations\"],\n",
    "    )\n",
    "    model.stratify_with(age_strat)\n",
    "\n",
    "    vacc_strat = get_vaccine_stratification(\n",
    "        base_compartments,\n",
    "    )\n",
    "    model.stratify_with(vacc_strat)\n",
    "\n",
    "    # Get and apply the strain stratification\n",
    "    strain_strat = get_strain_stratification(\n",
    "        [\"E\", \"I\"]\n",
    "    )\n",
    "    model.stratify_with(strain_strat)\n",
    "\n",
    "    omicron_seed_func = get_seed_function(Parameter(\"omicron_seed_start\"), 10.0)\n",
    "\n",
    "    model.add_importation_flow(\n",
    "        \"omicron_seeding\",\n",
    "        omicron_seed_func,\n",
    "        \"E\",\n",
    "        split_imports=True,\n",
    "        dest_strata={\"strain\": \"omicron\"},\n",
    "    )\n",
    "\n",
    "    for comp in unstratified_compartments:\n",
    "        model.add_transition_flow(\n",
    "            name=\"vaccination\",\n",
    "            fractional_rate=vacc_rate_func,\n",
    "            source=comp,\n",
    "            dest=comp,\n",
    "            source_strata={\"vaccination\": \"unvaccinated\"},\n",
    "            dest_strata={\"vaccination\": \"vaccinated\"},\n",
    "        )\n",
    "\n",
    "    model.request_output_for_compartments(\n",
    "        \"vaccinated\",\n",
    "        unstratified_compartments,\n",
    "        strata={\"vaccination\": \"vaccinated\"},\n",
    "    )\n",
    "    model.request_output_for_compartments(\n",
    "        \"unvaccinated\",\n",
    "        unstratified_compartments,\n",
    "        strata={\"vaccination\": \"unvaccinated\"},\n",
    "    )\n",
    "    \n",
    "    return model"
   ]
  },
  {
   "cell_type": "code",
   "execution_count": null,
   "id": "5beb7fb5",
   "metadata": {},
   "outputs": [],
   "source": [
    "model = build_full_model(config)"
   ]
  },
  {
   "cell_type": "code",
   "execution_count": null,
   "id": "e0daffc8",
   "metadata": {},
   "outputs": [],
   "source": [
    "model.get_input_parameters()"
   ]
  },
  {
   "cell_type": "code",
   "execution_count": null,
   "id": "b005c754",
   "metadata": {},
   "outputs": [],
   "source": [
    "parameters = {\n",
    "    \"cdr\": 0.1,\n",
    "    \"contact_rate\": 0.05,\n",
    "    \"full_immunity_period\": 180.0,\n",
    "    \"infection_fatality_prop\": 0.005,\n",
    "    \"infectious_period\": 5.0,\n",
    "    \"infectious_seed\": 200.0,\n",
    "    \"latent_period\": 3.0,\n",
    "    \"omicron_rel_transmissibility\": 3.,\n",
    "    \"omicron_seed_start\": 690.0,\n",
    "    \"ve_death\": 0.9,\n",
    "    \"ve_infection\": 0.3,\n",
    "}\n"
   ]
  },
  {
   "cell_type": "code",
   "execution_count": null,
   "id": "5bf5cceb",
   "metadata": {},
   "outputs": [],
   "source": [
    "model.run(parameters)\n",
    "\n",
    "comparison_df = pd.DataFrame({\n",
    "    \"modelled\": model.get_derived_outputs_df()[\"notifications\"],\n",
    "    \"reported\": notifications_target,\n",
    "})\n",
    "comparison_df.plot()"
   ]
  },
  {
   "cell_type": "code",
   "execution_count": null,
   "id": "8989e59e",
   "metadata": {},
   "outputs": [],
   "source": [
    "from estival import priors, targets\n",
    "from estival.calibration.mcmc.adaptive import AdaptiveChain"
   ]
  },
  {
   "cell_type": "code",
   "execution_count": null,
   "id": "13f347c8",
   "metadata": {},
   "outputs": [],
   "source": [
    "notifications_target_trimmed = notifications_target.loc[\"jul 2021\": \"may 2022\"]"
   ]
  },
  {
   "cell_type": "code",
   "execution_count": null,
   "id": "1fe66c43",
   "metadata": {},
   "outputs": [],
   "source": [
    "mcmc_targets = [\n",
    "    targets.NormalTarget(\"notifications\", notifications_target_trimmed, np.std(notifications_target) * 0.1)  # priors.UniformPrior(\"notif_dispersion\", (200.0, 2000.0)))\n",
    "]"
   ]
  },
  {
   "cell_type": "code",
   "execution_count": null,
   "id": "c801fdb5",
   "metadata": {},
   "outputs": [],
   "source": [
    "parameters"
   ]
  },
  {
   "cell_type": "code",
   "execution_count": null,
   "id": "8199508e",
   "metadata": {},
   "outputs": [],
   "source": [
    "mcmc_priors = [\n",
    "    priors.UniformPrior(\"contact_rate\", [0.01, 0.1]),\n",
    "    priors.UniformPrior(\"latent_period\", [0.2, 5.0]),\n",
    "    priors.UniformPrior(\"infectious_period\", [3.0, 8.0]),\n",
    "    priors.UniformPrior(\"cdr\", [0.01, 0.2]),\n",
    "    priors.UniformPrior(\"omicron_seed_start\", [650, 750]),\n",
    "    priors.UniformPrior(\"omicron_rel_transmissibility\", [2.0, 6.0]),\n",
    "]"
   ]
  },
  {
   "cell_type": "code",
   "execution_count": null,
   "id": "8182866e",
   "metadata": {},
   "outputs": [],
   "source": [
    "# Make a copy of the parameters to use as init_params\n",
    "# We can update this in place if we want a different starting point\n",
    "init_p = parameters.copy()"
   ]
  },
  {
   "cell_type": "code",
   "execution_count": null,
   "id": "b82aab36",
   "metadata": {},
   "outputs": [],
   "source": [
    "iterations = 1000\n",
    "mcmc = AdaptiveChain(build_full_model, parameters, mcmc_priors, mcmc_targets, init_p, {\"config\": config}, fixed_proposal_steps=500)\n",
    "mcmc.run(max_iter=iterations)"
   ]
  },
  {
   "cell_type": "code",
   "execution_count": null,
   "id": "84d6b129",
   "metadata": {},
   "outputs": [],
   "source": [
    "import arviz as az\n",
    "import random"
   ]
  },
  {
   "cell_type": "code",
   "execution_count": null,
   "id": "1a84d814",
   "metadata": {},
   "outputs": [],
   "source": [
    "# Some values to adjust to produce the desired outputs\n",
    "burn_in_prop = 0.2\n",
    "sample_for_plot = 20"
   ]
  },
  {
   "cell_type": "code",
   "execution_count": null,
   "id": "6c46ba38",
   "metadata": {},
   "outputs": [],
   "source": [
    "burn_in = round(burn_in_prop * iterations)  # Find the integer number of burn-in iterations\n",
    "\n",
    "burnt_results = mcmc.results[burn_in:]  # Get the MCMC results after burn-in\n",
    "accepted_mcmc = [burnt_results[i] for i in range(len(burnt_results)) if burnt_results[i].accept]  # Extract the accepted iterations\n",
    "mcmc_sample = random.sample(accepted_mcmc, sample_for_plot)  # Choose a sample to run for plotting later\n",
    "\n",
    "inf_data = mcmc.to_arviz(burn_in)  # Get the post-burn in chain in arviz format"
   ]
  },
  {
   "cell_type": "code",
   "execution_count": null,
   "id": "86d2d676",
   "metadata": {},
   "outputs": [],
   "source": [
    "out_df = {}\n",
    "recovered_df = {}\n",
    "for i, r in enumerate(mcmc_sample):\n",
    "    cur_params = parameters.copy()\n",
    "    cur_params.update(r.parameters)\n",
    "    model.run(cur_params)\n",
    "    derived_out = model.get_derived_outputs_df()\n",
    "    out_df[i] = derived_out[\"notifications\"]\n",
    "    recovered_df[i] = derived_out[\"prop_ever_infected\"]"
   ]
  },
  {
   "cell_type": "code",
   "execution_count": null,
   "id": "be6a8164",
   "metadata": {},
   "outputs": [],
   "source": [
    "pd.options.plotting.backend = \"matplotlib\"\n",
    "ax = pd.DataFrame(out_df).plot(style='-', figsize=(15, 6), legend=False)\n",
    "notifications_target.loc[\"aug 2021\": \"mar 2022\"].plot(style='.', color=\"black\")\n",
    "pd.options.plotting.backend = \"plotly\""
   ]
  },
  {
   "cell_type": "code",
   "execution_count": null,
   "id": "19446bd8",
   "metadata": {},
   "outputs": [],
   "source": [
    "pd.options.plotting.backend = \"matplotlib\"\n",
    "ax = pd.DataFrame(recovered_df).plot(style='-', figsize=(15, 6), legend=False)\n",
    "pd.options.plotting.backend = \"plotly\""
   ]
  },
  {
   "cell_type": "code",
   "execution_count": null,
   "id": "f5adae2a",
   "metadata": {},
   "outputs": [],
   "source": [
    "# Find the parameter set with the highest log likelihood obtained\n",
    "\n",
    "best_ll = -np.inf\n",
    "best_res = None\n",
    "\n",
    "for r in mcmc.results:\n",
    "    if r.ll > best_ll:\n",
    "        best_ll = r.ll\n",
    "        best_res = r\n",
    "        \n",
    "best_res.parameters"
   ]
  },
  {
   "cell_type": "code",
   "execution_count": null,
   "id": "26552121",
   "metadata": {},
   "outputs": [],
   "source": [
    "max_ll_params = parameters.copy()\n",
    "max_ll_params.update(best_res.parameters)\n",
    "\n",
    "model.run(max_ll_params)\n",
    "\n",
    "comparison_df = pd.DataFrame({\n",
    "    \"modelled\": model.get_derived_outputs_df()[\"notifications\"],\n",
    "    \"reported\": notifications_target,\n",
    "})\n",
    "comparison_df.plot()"
   ]
  },
  {
   "cell_type": "code",
   "execution_count": null,
   "id": "12feed6a",
   "metadata": {},
   "outputs": [],
   "source": [
    "az.summary(inf_data)"
   ]
  },
  {
   "cell_type": "code",
   "execution_count": null,
   "id": "c8c9f4ac",
   "metadata": {},
   "outputs": [],
   "source": [
    "az.plot_trace(inf_data, figsize=(16, 19));"
   ]
  },
  {
   "cell_type": "code",
   "execution_count": null,
   "id": "105ce85b",
   "metadata": {},
   "outputs": [],
   "source": [
    "az.plot_posterior(inf_data);"
   ]
  },
  {
   "cell_type": "code",
   "execution_count": null,
   "id": "9bfed010",
   "metadata": {},
   "outputs": [],
   "source": [
    "from concurrent.futures import ThreadPoolExecutor\n",
    "from functools import partial\n",
    "\n",
    "def run_chain(chain_idx, n_iter, rand_init=False):\n",
    "    init_p = parameters.copy()\n",
    "    if rand_init:\n",
    "        for p in mcmc_priors:\n",
    "            init_p[p.name] = p.rv.rvs(1)[0]\n",
    "    \n",
    "    mcmc = AdaptiveChain(build_full_model, parameters, mcmc_priors, mcmc_targets, init_p,{\"config\": config}, chain_id=chain_idx,fixed_proposal_steps=500)\n",
    "    mcmc.run(max_iter=n_iter)\n",
    "    return mcmc\n",
    "\n"
   ]
  },
  {
   "cell_type": "code",
   "execution_count": null,
   "id": "db008fe8",
   "metadata": {},
   "outputs": [],
   "source": [
    "n_chains = 4\n",
    "\n",
    "run_func = partial(run_chain, rand_init=True,n_iter=1000)\n",
    "\n",
    "with ThreadPoolExecutor(n_chains) as p:\n",
    "    results = p.map(run_func,range(n_chains))\n",
    "\n",
    "multichain_results = list(results)"
   ]
  },
  {
   "cell_type": "code",
   "execution_count": null,
   "id": "701decbe",
   "metadata": {},
   "outputs": [],
   "source": [
    "from estival.utils import to_arviz\n",
    "\n",
    "inf_multichain = to_arviz(multichain_results, 200)\n"
   ]
  },
  {
   "cell_type": "code",
   "execution_count": null,
   "id": "b85be1fe",
   "metadata": {},
   "outputs": [],
   "source": [
    "az.summary(inf_multichain)"
   ]
  },
  {
   "cell_type": "code",
   "execution_count": null,
   "id": "ef7e2c58",
   "metadata": {},
   "outputs": [],
   "source": [
    "az.plot_trace(inf_multichain, compact=False, legend=True, figsize=(16, 19));"
   ]
  },
  {
   "cell_type": "code",
   "execution_count": null,
   "id": "3b580273",
   "metadata": {},
   "outputs": [],
   "source": [
    "az.plot_posterior(inf_multichain);"
   ]
  }
 ],
 "metadata": {
  "kernelspec": {
   "display_name": "Python 3 (ipykernel)",
   "language": "python",
   "name": "python3"
  },
  "language_info": {
   "codemirror_mode": {
    "name": "ipython",
    "version": 3
   },
   "file_extension": ".py",
   "mimetype": "text/x-python",
   "name": "python",
   "nbconvert_exporter": "python",
   "pygments_lexer": "ipython3",
   "version": "3.10.3"
  },
  "vscode": {
   "interpreter": {
    "hash": "8ef281dcf17405b6cff393edfeda6a8c53d7652bea4b9aa446ee4dcbc1531ba7"
   }
  }
 },
 "nbformat": 4,
 "nbformat_minor": 5
}
