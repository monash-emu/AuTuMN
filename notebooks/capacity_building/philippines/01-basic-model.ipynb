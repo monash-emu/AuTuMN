{
 "cells": [
  {
   "cell_type": "markdown",
   "metadata": {},
   "source": [
    "# Capacity Building\n",
    "## Prerequisites\n",
    "Some basic understanding of Python variables, data types, looping, conditionals and functions will be of benefit.\n",
    "## Data inputs\n",
    "### Imports"
   ]
  },
  {
   "cell_type": "markdown",
   "metadata": {},
   "source": [
    "Let's import some modules. A module is a library of Python code that we can leverage to provide useful functionality.<br> These may be part of the standard Python library, or be external packages"
   ]
  },
  {
   "cell_type": "code",
   "execution_count": null,
   "metadata": {},
   "outputs": [],
   "source": [
    "# Install the summer package\n",
    "# Pip is Python's standard package manager\n",
    "\n",
    "%pip install summerepi"
   ]
  },
  {
   "cell_type": "code",
   "execution_count": null,
   "metadata": {},
   "outputs": [],
   "source": [
    "# Python standard library imports come first\n",
    "from datetime import datetime, timedelta  # We use datetime to manipulate date-time indexes\n",
    "\n",
    "# Then external package imports\n",
    "import pandas as pd  # pd is an alias for pandas. This is similar to dataframes in R\n",
    "import numpy as np\n",
    "import requests # To download google drive files\n",
    "import io # To download google drive zip file\n",
    "from matplotlib import pyplot as plt  # matplotlib is a common visualisation package for Python\n",
    "from zipfile import ZipFile # To manage zip files\n",
    "\n"
   ]
  },
  {
   "cell_type": "code",
   "execution_count": null,
   "metadata": {},
   "outputs": [],
   "source": [
    "# We'll do a bit of global setup here too - let's set a plotting style we like (this can easily be omitted)\n",
    "plt.style.use(\"ggplot\")\n",
    "# Try just typing plt.s (or similar) and pressing tab (or shift-tab on Colab) to see what's available within plt"
   ]
  },
  {
   "cell_type": "markdown",
   "metadata": {},
   "source": [
    "Try: There's a variable inside plt.style that contains the list of available styles. Change the plotting style to something you like."
   ]
  },
  {
   "cell_type": "markdown",
   "metadata": {},
   "source": [
    "### Define constants and useful variables\n",
    "Defining and capitalising constants at the start of a Python script or module is a common convention.<br>\n",
    "Only do this for variables that will never change during runtime.\n",
    "\n",
    "*Note the two links will change over time and should be verified before running the notebook.*\n",
    "The daily data link is available from this [link](https://drive.google.com/drive/folders/1ZPPcVU4M7T-dtRyUceb0pMAd8ickYf8o)"
   ]
  },
  {
   "cell_type": "code",
   "execution_count": null,
   "metadata": {},
   "outputs": [],
   "source": [
    "# URL to the department of health Google drive repository.\n",
    "# What is the data type here, a tuple or string? Do you know how to check for the type?\n",
    "\n",
    "# Shareable google drive links\n",
    "PHL_DOH_LINK = \"1hlHG7gIOz_n8kRVBnMDx3ZxdwsEAamLe\"  # sheet 05 daily report.\n",
    "PHL_FASSSTER_LINK = \"15eDyTjXng2Zh38DVhmeNy0nQSqOMlGj3\" # Fassster google drive zip file.\n",
    "\n",
    "\n",
    "# We define a day zero for the analysis.\n",
    "COVID_BASE_DATE = datetime(2019, 12, 31)\n",
    "\n",
    "# By defining a region variable, we can easily change the analysis later.\n",
    "region = \"NATIONAL CAPITAL REGION (NCR)\"\n",
    "\n"
   ]
  },
  {
   "cell_type": "markdown",
   "metadata": {},
   "source": [
    "### Utility functions"
   ]
  },
  {
   "cell_type": "code",
   "execution_count": null,
   "metadata": {},
   "outputs": [],
   "source": [
    "def fetch_doh_data(link:str)->pd.DataFrame:\n",
    "    \"\"\"Requests for the DoH 05 cases from the google drive data repository\n",
    "\n",
    "    Args:\n",
    "        link (str): The shareable link code.\n",
    "\n",
    "    Returns:\n",
    "        pd.DataFrame: A data frame containing the hospital data.\n",
    "    \"\"\"\n",
    "\n",
    "    doh = f\"https://drive.google.com/uc?id={link}&export=download&confirm=t\"\n",
    "    df = pd.read_csv(doh)\n",
    "\n",
    "    return df"
   ]
  },
  {
   "cell_type": "markdown",
   "metadata": {},
   "source": [
    "Now call the function and pass it the DoH url and region."
   ]
  },
  {
   "cell_type": "code",
   "execution_count": null,
   "metadata": {},
   "outputs": [],
   "source": [
    "doh_df = fetch_doh_data(PHL_DOH_LINK)"
   ]
  },
  {
   "cell_type": "code",
   "execution_count": null,
   "metadata": {},
   "outputs": [],
   "source": [
    "def get_fassster_data(link:str)->pd.DataFrame:\n",
    "    \"\"\"Reads a google drive zip file and extracts the data from it in memory\n",
    "\n",
    "    Args:\n",
    "        link (str): The shareable link code.\n",
    "\n",
    "    Returns:\n",
    "        pd.DataFrame: A data frame containing NCR cases.\n",
    "    \"\"\"\n",
    "\n",
    "    faster = f\"https://drive.google.com/uc?id={link}&export=download&confirm=t\"\n",
    "    req = requests.get(faster)\n",
    "    file_like_object = io.BytesIO(req.content)\n",
    "    zipfile_ob = ZipFile(file_like_object)\n",
    "    filename = [\n",
    "        each for each in zipfile_ob.namelist() if each.startswith(\"2022\")\n",
    "    ]\n",
    "    df = pd.read_csv(zipfile_ob.open(filename[0]))\n",
    "    return df\n"
   ]
  },
  {
   "cell_type": "code",
   "execution_count": null,
   "metadata": {},
   "outputs": [],
   "source": [
    "fas_df = get_fassster_data(PHL_FASSSTER_LINK)"
   ]
  },
  {
   "cell_type": "markdown",
   "metadata": {},
   "source": [
    "Well done! We have scraped Philippines's regional Covid-19 dataset into two dataframes."
   ]
  },
  {
   "cell_type": "code",
   "execution_count": null,
   "metadata": {},
   "outputs": [],
   "source": [
    "df_cases = fas_df"
   ]
  },
  {
   "cell_type": "markdown",
   "metadata": {},
   "source": [
    "Let's tidy up the Fassster dataset a bit"
   ]
  },
  {
   "cell_type": "code",
   "execution_count": null,
   "metadata": {},
   "outputs": [],
   "source": [
    "df_cases = df_cases.groupby([\"Report_Date\",\"Region\"],as_index=False).size() # Because each row is a case we can use the group size.\n",
    "df_cases = df_cases[df_cases['Region']==\"NCR\"] # Filter for NCR cases\n",
    "df_cases = df_cases.rename(columns={\"Report_Date\":\"reportdate\", \"size\":\"cases\"}) # Rename columns to match DoH names."
   ]
  },
  {
   "cell_type": "code",
   "execution_count": null,
   "metadata": {},
   "outputs": [],
   "source": [
    "# Because this particular dataframe is too big to easily inspect,\n",
    "# we might want to look at parts of it (e.g. the column names)\n",
    "doh_df.columns"
   ]
  },
  {
   "cell_type": "markdown",
   "metadata": {},
   "source": [
    "Each column is explained in this metadata [file](https://drive.google.com/file/d/1NdFiDTR6Q_CSvy45uh7lUiMC7XRFsrpV/view?usp=sharing) <br>(*This link will also change over time. Please verify with the daily data [link](https://drive.google.com/drive/folders/1ZPPcVU4M7T-dtRyUceb0pMAd8ickYf8o) before running*)."
   ]
  },
  {
   "cell_type": "markdown",
   "metadata": {},
   "source": [
    "We need to do some housekeeping.\n",
    "- Select a subset of the columns.\n",
    "- Ensure the date type is correct and not a string '10-06-2022'\n",
    "- Aggregate the hospital and ICU occupancy to daily counts."
   ]
  },
  {
   "cell_type": "code",
   "execution_count": null,
   "metadata": {},
   "outputs": [],
   "source": [
    "doh_df = doh_df[['reportdate','region','cfname','nonicu_o','icu_o']]\n",
    "doh_df[\"reportdate\"]  = pd.to_datetime(doh_df[\"reportdate\"]).dt.tz_localize(None)\n",
    "doh_df\n"
   ]
  },
  {
   "cell_type": "code",
   "execution_count": null,
   "metadata": {},
   "outputs": [],
   "source": [
    "doh_df = doh_df.groupby(['reportdate','region'], as_index=False).sum()\n",
    "doh_df"
   ]
  },
  {
   "cell_type": "code",
   "execution_count": null,
   "metadata": {},
   "outputs": [],
   "source": [
    "#doh_df['date_index'] = (doh_df.reportdate - COVID_BASE_DATE).dt.days\n",
    "#doh_df"
   ]
  },
  {
   "cell_type": "markdown",
   "metadata": {},
   "source": [
    "Let's create a boolean mask to aid with our analysis. Recall the 'region' variable we set at the beginning.<br>\n",
    "\n",
    "In this example, the mask is for Philippines's 'National Capital Region'. By changing the 'region' variable, we can change the focus of the analysis."
   ]
  },
  {
   "cell_type": "code",
   "execution_count": null,
   "metadata": {},
   "outputs": [],
   "source": [
    "mask = (doh_df['region'] == region)"
   ]
  },
  {
   "cell_type": "code",
   "execution_count": null,
   "metadata": {},
   "outputs": [],
   "source": [
    "doh_df[mask] # Notice how the region is NCR due to the filtering"
   ]
  },
  {
   "cell_type": "code",
   "execution_count": null,
   "metadata": {},
   "outputs": [],
   "source": [
    "doh_df = doh_df[mask]"
   ]
  },
  {
   "cell_type": "code",
   "execution_count": null,
   "metadata": {},
   "outputs": [],
   "source": [
    "df_cases['reportdate'] = pd.to_datetime(df_cases['reportdate'])"
   ]
  },
  {
   "cell_type": "markdown",
   "metadata": {},
   "source": [
    "Two become one. More details about this can be found [here](https://pandas.pydata.org/pandas-docs/stable/getting_started/intro_tutorials/08_combine_dataframes.html#join-tables-using-a-common-identifier)"
   ]
  },
  {
   "cell_type": "code",
   "execution_count": null,
   "metadata": {},
   "outputs": [],
   "source": [
    "df = pd.merge(doh_df,df_cases, how='left', on='reportdate')"
   ]
  },
  {
   "cell_type": "code",
   "execution_count": null,
   "metadata": {},
   "outputs": [],
   "source": [
    "# Set the index of this DataFrame to use calendar dates\n",
    "df = df.set_index('reportdate')"
   ]
  },
  {
   "cell_type": "markdown",
   "metadata": {},
   "source": [
    "After all that work, let's look at the results.<br />\n",
    "Pandas has a .plot() function. Here is a [quick](https://pandas.pydata.org/docs/getting_started/intro_tutorials/04_plotting.html) or [detailed](https://pandas.pydata.org/pandas-docs/stable/user_guide/visualization.html?highlight=plot) tutorial.<br />\n",
    "We can also use `x='date_index` and change the `y` to any `case_` column."
   ]
  },
  {
   "cell_type": "code",
   "execution_count": null,
   "metadata": {},
   "outputs": [],
   "source": [
    "df[['nonicu_o', 'icu_o','cases']].plot(figsize=(20, 10));  # The semicolon suppresses the printing of the name of the object that was created in this line"
   ]
  },
  {
   "cell_type": "code",
   "execution_count": null,
   "metadata": {},
   "outputs": [],
   "source": [
    "# We might prefer to plot this as points rather than a line, given each entry is an observation\n",
    "df[['nonicu_o', 'icu_o','cases']].plot(figsize=(20, 10), marker='o', linewidth=0);"
   ]
  },
  {
   "cell_type": "markdown",
   "metadata": {},
   "source": [
    "Let's also download the latest population distributions from the our GitHub repository."
   ]
  },
  {
   "cell_type": "code",
   "execution_count": null,
   "metadata": {},
   "outputs": [],
   "source": [
    "population_url = 'https://github.com/monash-emu/AuTuMN/raw/master/data/inputs/world-population/subregions.csv'\n",
    "df_pop = pd.read_csv(population_url)\n",
    "df_pop = df_pop[df_pop['region']=='Metro Manila']"
   ]
  },
  {
   "cell_type": "code",
   "execution_count": null,
   "metadata": {},
   "outputs": [],
   "source": [
    "df_pop = df_pop.melt(id_vars=['country','iso3','region','year'], var_name='age_group', value_name='pop')\n",
    "df_pop = df_pop[['region','pop']].groupby('region',as_index=False).sum()\n",
    "initial_population = df_pop['pop'][0] * 1000 # We need to multiply by 1000 to covert it back to counts."
   ]
  },
  {
   "cell_type": "code",
   "execution_count": null,
   "metadata": {},
   "outputs": [],
   "source": [
    "initial_population"
   ]
  },
  {
   "cell_type": "markdown",
   "metadata": {},
   "source": [
    "## Basic model introduction\n",
    "\n",
    "This page introduces the processes for building and running a simple compartmental disease model with `summer`.\n",
    "In the following example, we will create an SEIR compartmental model for a general, unspecified emerging infectious disease spreading through a fully susceptible population. In this model there will be:\n",
    "\n",
    "- four compartments: susceptible (S), exposed(E), infected (I) and recovered (R)\n",
    "- a starting population of the REGION, with 100 of them infected (and infectious)\n",
    "- an evaluation timespan from day zero to END_DATE in 0.1 day steps\n",
    "- inter-compartmental flows for infection, deaths and recovery\n",
    "\n",
    "You may wish to give the compartments more descriptive names, which is actually what we usually do when building these models.\n",
    "First, let's look at a complete example of this model in action, and then examine the details of each step. This is the complete example model that we will be working with:"
   ]
  },
  {
   "cell_type": "code",
   "execution_count": null,
   "metadata": {},
   "outputs": [],
   "source": [
    "import numpy as np\n",
    "from summer import CompartmentalModel\n",
    "\n",
    "start_date = datetime(2021,1,1)  # Define the start date\n",
    "end_date = start_date + timedelta(days=300)  # Define the duration\n",
    "\n",
    "# Integer representation of the start and end dates.\n",
    "start_date_int = (start_date - COVID_BASE_DATE).days\n",
    "end_date_int = (end_date- COVID_BASE_DATE).days"
   ]
  },
  {
   "cell_type": "code",
   "execution_count": null,
   "metadata": {},
   "outputs": [],
   "source": [
    "# Define the model compartments and time step.\n",
    "basic_model = CompartmentalModel(\n",
    "    times=(start_date_int, end_date_int),\n",
    "    compartments=[\"S\", \"E\", \"I\", \"R\"],\n",
    "    infectious_compartments=[\"I\"],\n",
    "    ref_date=COVID_BASE_DATE\n",
    ")"
   ]
  },
  {
   "cell_type": "code",
   "execution_count": null,
   "metadata": {},
   "outputs": [],
   "source": [
    "# Define the initial population and compartmental flows.\n",
    "basic_model.set_initial_population(distribution={\"S\": 100000, \"E\": 0, \"I\": 100})\n",
    "basic_model.add_infection_frequency_flow(name=\"exposure\", contact_rate=0.12, source=\"S\", dest=\"E\")\n",
    "basic_model.add_transition_flow(name=\"infection\", fractional_rate=1/15., source=\"E\", dest=\"I\")\n",
    "basic_model.add_transition_flow(name=\"recovery\", fractional_rate=0.04, source=\"I\", dest=\"R\")\n",
    "#base_model.add_death_flow(name=\"infection_death\", death_rate=0.05, source=\"I\")\n",
    "\n",
    "# Run the model\n",
    "basic_model.run()"
   ]
  },
  {
   "cell_type": "markdown",
   "metadata": {},
   "source": [
    "Our CompartmentalModel object has many methods defined on it. You are encouraged to explore these methods as this object is integral to the platform."
   ]
  },
  {
   "cell_type": "code",
   "execution_count": null,
   "metadata": {},
   "outputs": [],
   "source": [
    "output_df = basic_model.get_outputs_df()"
   ]
  },
  {
   "cell_type": "markdown",
   "metadata": {},
   "source": [
    "We now have a Pandas dataframe of compartments sizes at each time step."
   ]
  },
  {
   "cell_type": "code",
   "execution_count": null,
   "metadata": {},
   "outputs": [],
   "source": [
    "output_df.head(20)"
   ]
  },
  {
   "cell_type": "markdown",
   "metadata": {},
   "source": [
    "Extract the target data from the DoH dataframe."
   ]
  },
  {
   "cell_type": "code",
   "execution_count": null,
   "metadata": {},
   "outputs": [],
   "source": [
    "df"
   ]
  },
  {
   "cell_type": "code",
   "execution_count": null,
   "metadata": {},
   "outputs": [],
   "source": [
    "df[start_date:end_date]"
   ]
  },
  {
   "cell_type": "code",
   "execution_count": null,
   "metadata": {},
   "outputs": [],
   "source": [
    "target = df[start_date:end_date]['cases']"
   ]
  },
  {
   "cell_type": "markdown",
   "metadata": {},
   "source": [
    "Useful Matplotlib [guide](https://matplotlib.org/stable/tutorials/introductory/usage.html#sphx-glr-tutorials-introductory-usage-py)"
   ]
  },
  {
   "cell_type": "code",
   "execution_count": null,
   "metadata": {},
   "outputs": [],
   "source": [
    "# Visualize the results\n",
    "subplot = {\"title\": \"SEIR Model Outputs\", \"xlabel\": \"Days\", \"ylabel\": \"Compartment size\"} # A dictionary of key:values pairs that matplotlib will use to label items.\n",
    "fig, ax = plt.subplots(1, 1, figsize=(12, 6), dpi=120, subplot_kw=subplot) # Create a subplot object.\n",
    "\n",
    "for compartment in output_df:  # Loop over each compartment\n",
    "    ax.plot(basic_model.times, output_df[compartment])  # Plot the times and compartment values\n",
    "\n",
    "ax.legend([\"S\", \"E\", \"I\", \"R\"]);"
   ]
  },
  {
   "cell_type": "markdown",
   "metadata": {},
   "source": [
    "\n",
    "Now let's inspect each step of the example in more detail. To start, here's how to create a new model: let's import the summer library and create a new [CompartmentalModel](/api/model.html) object. You can see that our model has an attribute called `compartments`, which contains a description of each modelled compartment."
   ]
  },
  {
   "cell_type": "code",
   "execution_count": null,
   "metadata": {},
   "outputs": [],
   "source": [
    "# Define the model\n",
    "philippines_model = CompartmentalModel(\n",
    "    times=(start_date_int, end_date_int),\n",
    "    compartments=[\"S\", \"E\", \"I\", \"R\"],\n",
    "    infectious_compartments=[\"I\"],\n",
    "    ref_date=COVID_BASE_DATE\n",
    ")"
   ]
  },
  {
   "cell_type": "markdown",
   "metadata": {},
   "source": [
    "### Adding a population \n",
    "\n",
    "Initially the model compartments are all empty. Let's add:\n",
    "\n",
    "- 32 million people to the susceptible (S) compartment, plus\n",
    "- 100 in the infectious (I) compartment."
   ]
  },
  {
   "cell_type": "code",
   "execution_count": null,
   "metadata": {},
   "outputs": [],
   "source": [
    "# Add people to the model\n",
    "# We'll use the initial_population variable we obtained from the MOH data earlier\n",
    "philippines_model.set_initial_population(distribution={\"S\": initial_population - 1000, \"E\": 0, \"I\": 1000})\n",
    "\n",
    "# View the initial population\n",
    "philippines_model.initial_population"
   ]
  },
  {
   "cell_type": "markdown",
   "metadata": {},
   "source": [
    "### Adding inter-compartmental flows \n",
    "\n",
    "Now, let's add some flows for people to transition between the compartments. These flows will define the dynamics of our infection. We will add:\n",
    "\n",
    "- an infection flow from S to E (using frequency-dependent transmission)\n",
    "- an exposed individual becomes infected E to I.\n",
    "- a recovery flow from I to R"
   ]
  },
  {
   "cell_type": "code",
   "execution_count": null,
   "metadata": {},
   "outputs": [],
   "source": [
    "# Susceptible people can get infected.\n",
    "philippines_model.add_infection_frequency_flow(name=\"infection\", contact_rate=0.18, source=\"S\", dest=\"E\")\n",
    "\n",
    "# Expose people transition to infected.\n",
    "philippines_model.add_transition_flow(name=\"progression\", fractional_rate=1/15, source=\"E\", dest=\"I\")\n",
    "\n",
    "# Infectious people recover.\n",
    "philippines_model.add_transition_flow(name=\"recovery\", fractional_rate=0.04, source=\"I\", dest=\"R\")\n",
    "\n",
    "# Importantly, we will also request an output for the 'progression' flow, and name this 'notifications'\n",
    "# This will be available after a model run using the get_derived_outputs_df() method\n",
    "\n",
    "philippines_model.request_output_for_flow(\"notifications\", \"progression\")\n",
    "\n",
    "# Inspect the new flows, which we just added to the model.\n",
    "philippines_model._flows\n",
    "\n"
   ]
  },
  {
   "cell_type": "markdown",
   "metadata": {},
   "source": [
    "### Running the model\n",
    "\n",
    "Now we can calculate the outputs for the model over the requested time period. \n",
    "The model calculates the compartment sizes by solving a system of differential equations (defined by the flows we just added) over the requested time period."
   ]
  },
  {
   "cell_type": "code",
   "execution_count": null,
   "metadata": {},
   "outputs": [],
   "source": [
    "philippines_model.run()"
   ]
  },
  {
   "cell_type": "markdown",
   "metadata": {},
   "source": [
    "### View the model outputs\n",
    "\n",
    "The recommended way to view the model's results is via the get_outputs_df() method"
   ]
  },
  {
   "cell_type": "code",
   "execution_count": null,
   "metadata": {},
   "outputs": [],
   "source": [
    "ph_outputs_df = philippines_model.get_outputs_df()\n",
    "ph_outputs_df"
   ]
  },
  {
   "cell_type": "code",
   "execution_count": null,
   "metadata": {},
   "outputs": [],
   "source": [
    "ph_outputs_df.plot()"
   ]
  },
  {
   "cell_type": "markdown",
   "metadata": {},
   "source": [
    "You can also access the raw numpy array of outputs, which can be useful in performance sensitive contexts"
   ]
  },
  {
   "cell_type": "code",
   "execution_count": null,
   "metadata": {},
   "outputs": [],
   "source": [
    "# Force NumPy to format the output array nicely. \n",
    "import numpy as np\n",
    "np.set_printoptions(formatter={'all': lambda f: f\"{f:0.2f}\"})\n",
    "\n",
    "# View the first 10 timesteps of the output array.\n",
    "philippines_model.outputs[:10]"
   ]
  },
  {
   "cell_type": "markdown",
   "metadata": {},
   "source": [
    "### Accessing derived outputs\n",
    "\n",
    "Derived outputs are accessed in much the same way as the raw compartment outputs, via the get_derived_outputs_df() method"
   ]
  },
  {
   "cell_type": "code",
   "execution_count": null,
   "metadata": {},
   "outputs": [],
   "source": [
    "ph_derived_df = philippines_model.get_derived_outputs_df()\n",
    "ph_derived_df"
   ]
  },
  {
   "cell_type": "markdown",
   "metadata": {},
   "source": [
    "### Plot the outputs\n",
    "\n",
    "You can get a better idea of what is going on inside the model by visualising how the compartment sizes change over time."
   ]
  },
  {
   "cell_type": "code",
   "execution_count": null,
   "metadata": {},
   "outputs": [],
   "source": [
    "# Visualize the results.\n",
    "subplot = {\"title\": \"SEIR Model Outputs\", \"xlabel\": \"Days\", \"ylabel\": \"Compartment size\"}\n",
    "fig, ax = plt.subplots(1, 1, figsize=(12, 6), dpi=120, subplot_kw=subplot)\n",
    "\n",
    "for compartment in ph_outputs_df: # Loop over each compartment. \n",
    "    ax.plot(philippines_model.times, ph_outputs_df[compartment]) # Plot the times and compartment values\n",
    "\n",
    "ax.legend([\"S\", \"E\", \"I\", \"R\"]);"
   ]
  },
  {
   "cell_type": "code",
   "execution_count": null,
   "metadata": {},
   "outputs": [],
   "source": [
    "# Let's allow for the fact that case detection is never complete,\n",
    "# by multiplying the model outputs through by a constant value\n",
    "proportion_of_cases_detected = 0.05\n",
    "\n",
    "fig, ax = plt.subplots(1, 1, figsize=(12, 6), dpi=120)\n",
    "ax.plot(target)\n",
    "ax.plot(ph_derived_df[\"notifications\"] * proportion_of_cases_detected)\n",
    "ax.legend([\"Observed\",\"Modelled\"])"
   ]
  },
  {
   "cell_type": "markdown",
   "metadata": {},
   "source": [
    "## Summary\n",
    "\n",
    "That's it for now, now you know how to:\n",
    "\n",
    "- Create a model\n",
    "- Add a population\n",
    "- Add flows\n",
    "- Run the model\n",
    "- Access and visualise the outputs\n",
    "\n",
    "A detailed API reference for the CompartmentalModel class can be found [here](http://summerepi.com/api/model.html)\n",
    "\n",
    "The point we reached here is that we have a model that runs and gives some reasonably sensible-looking outputs,\n",
    "but doesn't match the data we are trying to fit to perfectly.\n",
    "However, even though this is a mechanistic model of COVID-19 dynamics, \n",
    "that is clearly not the only aspect of this model that is unrealistic.\n",
    "Please reflect on the most important ways in which this very simple model is unrealistic.\n",
    "There are at least a dozen features of the Philippines COVID-19 epidemic that aren't captured in this model.\n",
    "Try listing them out and ordering them according to importance.\n",
    "How many of these features would you need to include before you were satisfied that this model was something\n",
    "that could guide policy or be used for prediction?"
   ]
  },
  {
   "cell_type": "code",
   "execution_count": null,
   "metadata": {},
   "outputs": [],
   "source": []
  }
 ],
 "metadata": {
  "kernelspec": {
   "display_name": "Python 3 (ipykernel)",
   "language": "python",
   "name": "python3"
  },
  "language_info": {
   "codemirror_mode": {
    "name": "ipython",
    "version": 3
   },
   "file_extension": ".py",
   "mimetype": "text/x-python",
   "name": "python",
   "nbconvert_exporter": "python",
   "pygments_lexer": "ipython3",
   "version": "3.10.3"
  },
  "vscode": {
   "interpreter": {
    "hash": "01c3647d83d4a6a59e1617c8ed3b4a0cd901316bbcb8d9401f07443106dafc10"
   }
  }
 },
 "nbformat": 4,
 "nbformat_minor": 4
}
