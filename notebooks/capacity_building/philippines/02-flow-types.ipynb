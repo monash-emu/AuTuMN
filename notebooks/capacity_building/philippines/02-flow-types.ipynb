{
 "cells": [
  {
   "cell_type": "markdown",
   "metadata": {},
   "source": [
    "# Capacity Building\n",
    "## Prerequisites\n",
    "- Some basic understanding of Python variables, data types, looping, conditionals and functions will be of benefit.\n",
    "- Completion of  01-basic-model.ipynb\n",
    "\n",
    "## Introduction\n",
    "Once a suitable model structure is identified to describe infection disease dynamics, parameter values need to be inferred to describe the flows between the compartments. These flows determine how many individuals move into and out of the compartments per unit time. The model parameter values can be estimated through existing knowledge or through fitting the model to available data, or some combination. These parameter values will govern the rate of change in the compartments (e.g. the rate of change in the number of susceptibles or immune individuals). When estimating these rates, the average per capita time for an event (i.e. the reciprocal of rate at which the event occurs) is the key consideration. For example, the average life expectancy and mortality rate are related as,\n",
    "<br><center>Average life expectancy = 1 / mortality rate.</center>\n",
    "<br>The ODE system will be numerically solved behind the scenes using an ODE solver.\n",
    "\n",
    "## Data inputs\n",
    "### Imports"
   ]
  },
  {
   "cell_type": "markdown",
   "metadata": {},
   "source": [
    "Let's import some modules. A module is a library of Python code that we can leverage to provide useful functionality.<br> These may be part of the standard Python library, or be external packages"
   ]
  },
  {
   "cell_type": "code",
   "execution_count": null,
   "metadata": {},
   "outputs": [],
   "source": [
    "# Install the summer package\n",
    "# Pip is Python's standard package manager\n",
    "\n",
    "%pip install summerepi"
   ]
  },
  {
   "cell_type": "code",
   "execution_count": null,
   "metadata": {},
   "outputs": [],
   "source": [
    "from datetime import datetime, timedelta\n",
    "from matplotlib import pyplot as plt  # matplotlib is a common visualisation package for Python\n",
    "import pandas as pd\n",
    "\n",
    "from summer import CompartmentalModel\n",
    "# This time, we're going to do some interactive plotting!\n",
    "pd.options.plotting.backend = \"plotly\""
   ]
  },
  {
   "cell_type": "markdown",
   "metadata": {},
   "source": [
    "## Import Philippines data"
   ]
  },
  {
   "cell_type": "code",
   "execution_count": null,
   "metadata": {},
   "outputs": [],
   "source": [
    "# The data import module lives in a file on AuTuMN github - download it for colab use\n",
    "!wget https://raw.githubusercontent.com/monash-emu/AuTuMN/master/notebooks/capacity_building/philippines/import_phl_data.py"
   ]
  },
  {
   "cell_type": "code",
   "execution_count": null,
   "metadata": {},
   "outputs": [],
   "source": [
    "from import_phl_data import get_population_and_epi_data\n",
    "\n",
    "# Shareable google drive links\n",
    "PHL_DOH_LINK = \"1fFKoNVan7PS6BpBr01nwByNTLLu6z1AA\"  # sheet 05 daily report.\n",
    "PHL_FASSSTER_LINK = \"15eDyTjXng2Zh38DVhmeNy0nQSqOMlGj3\" # Fassster google drive zip file.\n",
    "initial_population, df = get_population_and_epi_data(PHL_DOH_LINK, PHL_FASSSTER_LINK) \n",
    "notifications_target = df[start_date: end_date]['cases']  # used as calibration target later\n",
    "\n",
    "# We define a day zero for the analysis.\n",
    "COVID_BASE_DATE = datetime(2019, 12, 31)"
   ]
  },
  {
   "cell_type": "markdown",
   "metadata": {},
   "source": [
    "### Visualise notification data"
   ]
  },
  {
   "cell_type": "code",
   "execution_count": null,
   "metadata": {},
   "outputs": [],
   "source": [
    "notifications_target.plot()"
   ]
  },
  {
   "cell_type": "markdown",
   "metadata": {},
   "source": [
    "## Build a model"
   ]
  },
  {
   "cell_type": "code",
   "execution_count": null,
   "metadata": {},
   "outputs": [],
   "source": [
    "start_date = datetime(2021,1,1)  # Define the start date\n",
    "end_date = start_date + timedelta(days=300)  # Define the duration\n",
    "\n",
    "# Integer representation of the start and end dates.\n",
    "start_date_int = (start_date - COVID_BASE_DATE).days\n",
    "end_date_int = (end_date- COVID_BASE_DATE).days"
   ]
  },
  {
   "cell_type": "markdown",
   "metadata": {},
   "source": [
    "## Structuring Model Code\n",
    "\n",
    "We will wrap the model building code in a function. Any parameterised input can be passed in to this function so the model can be easily modified."
   ]
  },
  {
   "cell_type": "code",
   "execution_count": null,
   "metadata": {},
   "outputs": [],
   "source": [
    "# This is a very basic starting function that simply creates a CompartmentalModel\n",
    "# and initialises it with the initial_population\n",
    "\n",
    "# Note that we are not passing anything into this function yet;\n",
    "# the start and end dates, and the population are 'captured' from the external scope\n",
    "# ie the global program environment\n",
    "\n",
    "def build_base_model() -> CompartmentalModel:\n",
    "    model = CompartmentalModel(\n",
    "        times=(start_date_int, end_date_int),\n",
    "        compartments=[\"S\", \"E\", \"I\", \"R\"],\n",
    "        infectious_compartments=[\"I\"],\n",
    "        timestep=1.0,\n",
    "        ref_date=COVID_BASE_DATE\n",
    "    )\n",
    "\n",
    "    model.set_initial_population(distribution={\"S\": initial_population - 100, \"I\": 100})\n",
    "    return model"
   ]
  },
  {
   "cell_type": "markdown",
   "metadata": {},
   "source": [
    "### Adding inter-compartmental flows \n",
    "\n",
    "Now, let's add some flows for people to transition between the compartments. These flows will define the dynamics of our infection. We will add:\n",
    "\n",
    "- an infection flow from S to E (using frequency-dependent transmission)\n",
    "- an exposed individual becomes infected E to I\n",
    "- a recovery flow from I to R"
   ]
  },
  {
   "cell_type": "code",
   "execution_count": null,
   "metadata": {},
   "outputs": [],
   "source": [
    "def build_model_with_hardcoded_flows() -> CompartmentalModel:\n",
    "    \n",
    "    # We start by calling our base model building function from above\n",
    "    # This allows us to easily create variations, always building on the same base\n",
    "    model = build_base_model()\n",
    "    # Susceptible people can get infected.\n",
    "    model.add_infection_frequency_flow(name=\"infection\", contact_rate=0.3, source=\"S\", dest=\"E\")\n",
    "\n",
    "    # Expose people transition to infected.\n",
    "    model.add_transition_flow(name=\"progression\", fractional_rate=1/10, source=\"E\", dest=\"I\")\n",
    "\n",
    "    # Infectious people recover.\n",
    "    model.add_transition_flow(name=\"recovery\", fractional_rate=1/7, source=\"I\", dest=\"R\")\n",
    "\n",
    "    # Importantly, we will also request an output for the 'progression' flow, and name this 'incidence'\n",
    "    # This will be available after a model run using the get_derived_outputs_df() method\n",
    "\n",
    "    model.request_output_for_flow(\"incidence\", \"progression\")\n",
    "\n",
    "    return model"
   ]
  },
  {
   "cell_type": "code",
   "execution_count": null,
   "metadata": {},
   "outputs": [],
   "source": [
    "model_with_flows = build_model_with_hardcoded_flows() \n",
    "# Inspect the new flows, which we just added to the model.\n",
    "model_with_flows._flows"
   ]
  },
  {
   "cell_type": "markdown",
   "metadata": {},
   "source": [
    "## Writing a better build_model - parameterization\n",
    "\n",
    "In the function above, you can see a lot of hardcoded constants inside the flow arguments\n",
    "\n",
    "Let's extract these to a dictionary, and rewrite the function to take this dictionary\n",
    "as an argument"
   ]
  },
  {
   "cell_type": "code",
   "execution_count": null,
   "metadata": {},
   "outputs": [],
   "source": [
    "parameters = {\n",
    "    \"contact_rate\": 0.3,\n",
    "    \"progression_rate\": 1/10,\n",
    "    \"recovery_rate\": 1/10\n",
    "}"
   ]
  },
  {
   "cell_type": "code",
   "execution_count": null,
   "metadata": {},
   "outputs": [],
   "source": [
    "def build_model_with_flows(parameters: dict) -> CompartmentalModel:\n",
    "    \n",
    "    # Call the base model as before\n",
    "    # This base model does not take parameters, but have a think about how it might...\n",
    "    model = build_base_model()\n",
    "    # Susceptible people can get infected.\n",
    "    # Note that we now look up the parameters dictionary instead of hardcoding a constant\n",
    "    model.add_infection_frequency_flow(\n",
    "        name=\"infection\", \n",
    "        contact_rate=parameters[\"contact_rate\"], \n",
    "        source=\"S\", \n",
    "        dest=\"E\"\n",
    "    )\n",
    "\n",
    "    # Expose people transition to infected.\n",
    "    model.add_transition_flow(\n",
    "        name=\"progression\", \n",
    "        fractional_rate=parameters[\"progression_rate\"], \n",
    "        source=\"E\", \n",
    "        dest=\"I\"\n",
    "    )\n",
    "\n",
    "    # Infectious people recover.\n",
    "    model.add_transition_flow(name=\"recovery\", fractional_rate=parameters[\"recovery_rate\"], source=\"I\", dest=\"R\")\n",
    "\n",
    "    # Importantly, we will also request an output for the 'progression' flow, and name this 'incidence'\n",
    "    # This will be available after a model run using the get_derived_outputs_df() method\n",
    "\n",
    "    model.request_output_for_flow(\"incidence\", \"progression\")\n",
    "\n",
    "    return model"
   ]
  },
  {
   "cell_type": "code",
   "execution_count": null,
   "metadata": {},
   "outputs": [],
   "source": [
    "model = build_model_with_flows(parameters=parameters)"
   ]
  },
  {
   "cell_type": "code",
   "execution_count": null,
   "metadata": {},
   "outputs": [],
   "source": [
    "# Iterate through the flows in the model\n",
    "# As you can see, they have the values we passed in from the dictionary\n",
    "for f in model._flows:\n",
    "    print(f, f.param)"
   ]
  },
  {
   "cell_type": "code",
   "execution_count": null,
   "metadata": {},
   "outputs": [],
   "source": [
    "# Actually, that's handy - let's make it a function so we can reuse it later\n",
    "\n",
    "def inspect_flows(model: CompartmentalModel):\n",
    "    for f in model._flows:\n",
    "        print(f, f.param)"
   ]
  },
  {
   "cell_type": "markdown",
   "metadata": {},
   "source": [
    "### Running the model\n",
    "\n",
    "Now we can calculate the outputs for the model over the requested time period. \n",
    "The model calculates the compartment sizes by solving a system of differential equations (defined by the flows we just added) over the requested time period."
   ]
  },
  {
   "cell_type": "code",
   "execution_count": null,
   "metadata": {},
   "outputs": [],
   "source": [
    "model.run()"
   ]
  },
  {
   "cell_type": "markdown",
   "metadata": {},
   "source": [
    "### Display the model outputs\n",
    "\n",
    "The recommended way to access the model's results is via the get_outputs_df() method"
   ]
  },
  {
   "cell_type": "code",
   "execution_count": null,
   "metadata": {},
   "outputs": [],
   "source": [
    "mm_outputs_df = model.get_outputs_df()\n",
    "mm_outputs_df[[\"E\",\"I\",\"R\"]].plot() # Don't plot the susceptible compartment because of y-axis scale"
   ]
  },
  {
   "cell_type": "markdown",
   "metadata": {},
   "source": [
    "**Exercise: Modify the code in the last cell to show the susceptible individuals over time.**"
   ]
  },
  {
   "cell_type": "markdown",
   "metadata": {},
   "source": [
    "### Accessing derived outputs\n",
    "\n",
    "Derived outputs are accessed in much the same way as the raw compartment outputs, via the get_derived_outputs_df() method\n",
    "\n",
    "**Question: Which flow control contributes the most to notifications? Would you increase it or decrease it?**"
   ]
  },
  {
   "cell_type": "code",
   "execution_count": null,
   "metadata": {},
   "outputs": [],
   "source": [
    "mm_derived_df = model.get_derived_outputs_df()\n",
    "mm_derived_df.plot()"
   ]
  },
  {
   "cell_type": "markdown",
   "metadata": {},
   "source": [
    "**Exercise: Build a model with some different parameter values and plot its outputs**"
   ]
  },
  {
   "cell_type": "code",
   "execution_count": null,
   "metadata": {},
   "outputs": [],
   "source": [
    "# Exercise : build a model with some different parameter values\n",
    "new_parameters = \"create a dictionary here\"\n",
    "\n",
    "# What arguments does this need?\n",
    "new_params_model = build_model_with_flows()\n",
    "\n",
    "# Inspect the flows for this model\n",
    "# Enter your code here...\n",
    "\n",
    "# Plot the compartment sizes over time\n",
    "\n",
    "# Plot incidence over time\n"
   ]
  },
  {
   "cell_type": "markdown",
   "metadata": {},
   "source": [
    "## Time varying parameters (transition flow)\n",
    "The rate at which people transition can be set as a constant, or it can be defined as a function of time. This is the case of all of the flows: every parameter can be a constant or a function of time. Parameters also take a ‘computed_values’ argument, which is a dictionary of values computed at runtime that is not specific to any individual flow."
   ]
  },
  {
   "cell_type": "code",
   "execution_count": null,
   "metadata": {},
   "outputs": [],
   "source": [
    "# We define this function globally - \n",
    "# it will be used as an argument later when we create flows in the model\n",
    "\n",
    "def recovery_rate(time, computed_values):\n",
    "    \"\"\"\n",
    "    Returns the recovery rate for a given time.\n",
    "    People recover faster from June 2021 due to a magic drug.\n",
    "    \"\"\"\n",
    "    if time < 518: # before treatment use\n",
    "        return 0.1\n",
    "    else:  # after treatment use\n",
    "        return 0.4"
   ]
  },
  {
   "cell_type": "code",
   "execution_count": null,
   "metadata": {},
   "outputs": [],
   "source": [
    "parameters_with_treatment = {\n",
    "    \"contact_rate\": .3,\n",
    "    \"progression_rate\": 1/10,\n",
    "    \"recovery_rate\": recovery_rate\n",
    "}\n",
    "treatment_model = build_model_with_flows(parameters_with_treatment)"
   ]
  },
  {
   "cell_type": "markdown",
   "metadata": {},
   "source": [
    "### Plot the outputs of the model with time-variant recovery rate"
   ]
  },
  {
   "cell_type": "code",
   "execution_count": null,
   "metadata": {},
   "outputs": [],
   "source": [
    "treatment_model.run()\n",
    "incidence_with_treatment = treatment_model.get_derived_outputs_df()[\"incidence\"]\n",
    "incidence_with_treatment.plot()"
   ]
  },
  {
   "cell_type": "code",
   "execution_count": null,
   "metadata": {},
   "outputs": [],
   "source": [
    "incidence_without_treatment = model.get_derived_outputs_df()[\"incidence\"]\n",
    "incidence_without_treatment.plot()"
   ]
  },
  {
   "cell_type": "code",
   "execution_count": null,
   "metadata": {},
   "outputs": [],
   "source": [
    "# That's probably a little hard to see - let's write a function we can reuse\n",
    "# for model comparison\n",
    "\n",
    "def plot_comparison(label_a: str, data_a: pd.Series, label_b: str, data_b: pd.Series, title: str):\n",
    "    # Visualize the results.\n",
    "    subplot = {\"title\": title, \"xlabel\": \"Days\", \"ylabel\": \"Value\"}\n",
    "    fig, ax = plt.subplots(1, 1, figsize=(10,5), subplot_kw=subplot)\n",
    "\n",
    "\n",
    "    ax.plot(data_a.index, data_a) \n",
    "    ax.plot(data_b.index, data_b)\n",
    "\n",
    "    ax.legend([label_a, label_b])"
   ]
  },
  {
   "cell_type": "code",
   "execution_count": null,
   "metadata": {},
   "outputs": [],
   "source": [
    "plot_comparison(\"no treatment\", incidence_without_treatment, \"with treatment\", incidence_with_treatment, \"Treatment effect on incidence\")"
   ]
  },
  {
   "cell_type": "markdown",
   "metadata": {},
   "source": [
    "# Can we capture the data with our model?"
   ]
  },
  {
   "cell_type": "code",
   "execution_count": null,
   "metadata": {},
   "outputs": [],
   "source": [
    "plot_comparison(\"Notification\", \n",
    "                notifications_target, \n",
    "                \"Modelled\",\n",
    "                incidence_without_treatment,\n",
    "                \"Modelled vs data\")"
   ]
  },
  {
   "cell_type": "markdown",
   "metadata": {},
   "source": [
    "### Let's account for case detection"
   ]
  },
  {
   "cell_type": "code",
   "execution_count": null,
   "metadata": {},
   "outputs": [],
   "source": [
    "prop_of_incidence_detected = .01\n",
    "plot_comparison(\"Notification\", \n",
    "                notifications_target, \n",
    "                \"Modelled\",\n",
    "                incidence_without_treatment * prop_of_incidence_detected,\n",
    "                \"Modelled vs data\")"
   ]
  },
  {
   "cell_type": "markdown",
   "metadata": {},
   "source": [
    "### Now let's try to calibrate our model to the first epidemic wave"
   ]
  },
  {
   "cell_type": "code",
   "execution_count": null,
   "metadata": {},
   "outputs": [],
   "source": [
    "# This cell pulls all of the above together; \n",
    "# Try changing the various values\n",
    "\n",
    "calibrated_parameters = {\n",
    "    \"contact_rate\": 0.3, \n",
    "    \"progression_rate\": 0.1,\n",
    "    \"recovery_rate\": 0.1\n",
    "}\n",
    "\n",
    "calibrated_model = build_model_with_flows(calibrated_parameters)\n",
    "calibrated_model.run()\n",
    "calibrated_derived_outputs= calibrated_model.get_derived_outputs_df()\n",
    "\n",
    "prop_of_incidence_detected = 0.01\n",
    "plot_comparison(\"Notification\", \n",
    "                notifications_target, \n",
    "                \"Modelled\",\n",
    "                calibrated_derived_outputs[\"incidence\"] * prop_of_incidence_detected,\n",
    "                \"Modelled vs data\")"
   ]
  },
  {
   "cell_type": "markdown",
   "metadata": {},
   "source": [
    "Reasonable fit to first wave obtained with the following parameters:\n",
    "\n",
    "calibrated_parameters = {\n",
    "    \"contact_rate\": 0.5, \n",
    "    \"progression_rate\": 0.1,\n",
    "    \"recovery_rate\": .1\n",
    "}\n",
    "\n",
    "prop_of_incidence_detected = 0.02\n"
   ]
  },
  {
   "cell_type": "markdown",
   "metadata": {},
   "source": [
    "## Summary\n",
    "\n",
    "That's it for now, now you know how to:\n",
    "\n",
    "- Define compartmental flows\n",
    "- Understand the different flow types in summer\n",
    "- Build reusable model code with a basic expression of parameters\n",
    "\n",
    "A detailed API reference for the flow types can be found [here](http://summerepi.com/api/flows.html)\n"
   ]
  }
 ],
 "metadata": {
  "kernelspec": {
   "display_name": "Python 3 (ipykernel)",
   "language": "python",
   "name": "python3"
  },
  "language_info": {
   "codemirror_mode": {
    "name": "ipython",
    "version": 3
   },
   "file_extension": ".py",
   "mimetype": "text/x-python",
   "name": "python",
   "nbconvert_exporter": "python",
   "pygments_lexer": "ipython3",
   "version": "3.10.3"
  },
  "vscode": {
   "interpreter": {
    "hash": "7afc08b952f75bca94590012dd49682c815a0fa68720c270ce23d7ae27bf110a"
   }
  }
 },
 "nbformat": 4,
 "nbformat_minor": 4
}
