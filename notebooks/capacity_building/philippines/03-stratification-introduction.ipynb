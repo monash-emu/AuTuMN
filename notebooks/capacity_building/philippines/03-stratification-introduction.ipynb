{
 "cells": [
  {
   "cell_type": "markdown",
   "id": "60bba4ac",
   "metadata": {},
   "source": [
    "# Capacity Building\n",
    "## Prerequisites\n",
    "- Some basic understanding of Python variables, data types, looping, conditionals and functions will be of benefit.\n",
    "- Completion of  01-basic-model.ipynb, 02-flow-types.ipynb\n",
    "\n",
    "## Stratification introduction\n",
    "\n",
    "So far we've looked at how to create a compartmental model, add flows, request derived outputs and use different solvers. Now we'll look into stratifying a model using the [Stratification](http://summerepi.com/api/stratification.html) class.\n",
    "\n",
    "So far, we have modelled the effects on overall population. However, the infection dynamics vary greatly with age. For example, the infection mortality may vary across different age groups with older age groups having a higher risk of death. For immunizing infections, a larger proportion of children are susceptible to infection than adults, as children have had only fewer years of exposure to infections than adults. To capture such differences that are observed in the population structure, we can use stratifications in our models. \n",
    "\n",
    "\n",
    "A commonly used stratification is age-based stratifications. Here, the basic methodology in stratification is to sub-divide the population into a number of discrete compartments classified by the age. Although age is a continuous parameter, age-structured models usually group individuals into a limited number of classes. The number of compartments will depend on factors such as data availability and the problem being addressed. In age-structured models the individuals can progress into increasingly older age classes. For example, if there are two compartments as children and adult, at a certain rate the children would move to the adult compartment and the interactions between these two compartments happen through the transmission between them. \n",
    "\n",
    "\n",
    "Such stratifications are useful in analysing childhood infections, stratifying the model to reflect different strains with different characteristics (e.g., risk of death, transmission level) and implementing age-specific interventions such as vaccine allocation and school closure. \n",
    "\n",
    "\n",
    "In this example we'll cover:\n",
    "\n",
    "- [No stratification](#No-stratification)\n",
    "- [Minimal stratification](#Minimal-stratification)\n",
    "- [Population distribution](#Population-distribution)\n",
    "- [Flow adjustments](#Flow-adjustments)\n",
    "- [Infectiousness adjustments](#Infectiousness-adjustments)\n",
    "- [Partial stratifications](#Partial-stratifications)\n",
    "- [Multiple stratifications](#Multiple-stratifications)\n",
    "- [Multiple interdependent stratifications](#Multiple-interdependent-stratifications)\n",
    "\n",
    "\n",
    "\n",
    "## Data inputs\n",
    "### Imports"
   ]
  },
  {
   "cell_type": "code",
   "execution_count": null,
   "id": "0d81f663",
   "metadata": {},
   "outputs": [],
   "source": [
    "# Install the summer package\n",
    "# Pip is Python's standard package manager\n",
    "\n",
    "%pip install summerepi\n"
   ]
  },
  {
   "cell_type": "code",
   "execution_count": null,
   "id": "82695978",
   "metadata": {},
   "outputs": [],
   "source": [
    "from datetime import datetime, timedelta\n",
    "import pandas as pd\n",
    "\n",
    "from summer import CompartmentalModel\n",
    "# This time, we're going to do some interactive plotting!\n",
    "pd.options.plotting.backend = \"plotly\""
   ]
  },
  {
   "cell_type": "code",
   "execution_count": null,
   "id": "45aa4d23",
   "metadata": {},
   "outputs": [],
   "source": [
    "# The data import module lives in a file on AuTuMN github - download it for colab use\n",
    "!wget https://raw.githubusercontent.com/monash-emu/AuTuMN/master/notebooks/capacity_building/philippines/import_phl_data.py"
   ]
  },
  {
   "cell_type": "code",
   "execution_count": null,
   "id": "3acae964",
   "metadata": {},
   "outputs": [],
   "source": [
    "from import_phl_data import get_population_and_epi_data\n",
    "\n",
    "# Shareable google drive links\n",
    "PHL_DOH_LINK = \"1fFKoNVan7PS6BpBr01nwByNTLLu6z1AA\"  # sheet 05 daily report.\n",
    "PHL_FASSSTER_LINK = \"15eDyTjXng2Zh38DVhmeNy0nQSqOMlGj3\" # Fassster google drive zip file.\n",
    "initial_population, df = get_population_and_epi_data(PHL_DOH_LINK, PHL_FASSSTER_LINK) \n",
    "\n",
    "analysis_start_date = datetime(2021,1,1)  # Define the start date\n",
    "analysis_end_date = analysis_start_date + timedelta(days=300)  # Define the duration\n",
    "notifications_target = df[analysis_start_date: analysis_end_date]['cases']  # used as calibration target later\n",
    "\n",
    "# We define a day zero for the analysis.\n",
    "COVID_BASE_DATE = datetime(2019, 12, 31)\n",
    "\n",
    "# Integer representation of the start and end dates.\n",
    "start_date_int = (analysis_start_date - COVID_BASE_DATE).days\n",
    "end_date_int = (analysis_end_date - COVID_BASE_DATE).days"
   ]
  },
  {
   "cell_type": "markdown",
   "id": "cd5e6c81",
   "metadata": {},
   "source": [
    "## Build a model"
   ]
  },
  {
   "cell_type": "markdown",
   "id": "42e3f90c",
   "metadata": {},
   "source": [
    "Recall the `build_base_model` wrapper function from the last training session."
   ]
  },
  {
   "cell_type": "code",
   "execution_count": null,
   "id": "0aec7498",
   "metadata": {},
   "outputs": [],
   "source": [
    "def build_base_model() -> CompartmentalModel:\n",
    "    model = CompartmentalModel(\n",
    "        times=(start_date_int, end_date_int),\n",
    "        compartments=[\"S\", \"E\", \"I\", \"R\"],\n",
    "        infectious_compartments=[\"I\"],\n",
    "        ref_date=COVID_BASE_DATE\n",
    "    )\n",
    "\n",
    "    model.set_initial_population(\n",
    "        distribution={\"S\": initial_population - 100, \"E\": 0, \"I\": 100}\n",
    "    )\n",
    "    \n",
    "    return model"
   ]
  },
  {
   "cell_type": "code",
   "execution_count": null,
   "id": "c2e46e1a",
   "metadata": {},
   "outputs": [],
   "source": [
    "def build_model_with_flows(parameters: dict) -> CompartmentalModel:\n",
    "\n",
    "    # This base model does not take parameters, but have a think about how it might...\n",
    "    model = build_base_model()\n",
    "\n",
    "    # Susceptible people can get infected.\n",
    "    model.add_infection_frequency_flow(\n",
    "        name=\"infection\", contact_rate=parameters[\"contact_rate\"], source=\"S\", dest=\"E\"\n",
    "    )\n",
    "    # Expose people transition to infected.\n",
    "    model.add_transition_flow(\n",
    "        name=\"progression\",\n",
    "        fractional_rate=parameters[\"progression_rate\"],\n",
    "        source=\"E\",\n",
    "        dest=\"I\",\n",
    "    )\n",
    "\n",
    "    # Infectious people recover.\n",
    "    model.add_transition_flow(\n",
    "        name=\"recovery\",\n",
    "        fractional_rate=parameters[\"recovery_rate\"],\n",
    "        source=\"I\",\n",
    "        dest=\"R\",\n",
    "    )\n",
    "\n",
    "    # Add an infection-specific death flow to the I compartment.\n",
    "    model.add_death_flow(name=\"infection_death\", death_rate=0.01, source=\"I\")\n",
    "\n",
    "    # Importantly, we will also request an output for the 'progression' flow, and name this 'notifications'\n",
    "    # This will be available after a model run using the get_derived_outputs_df() method\n",
    "\n",
    "    model.request_output_for_flow(\"notifications\", \"progression\")\n",
    "\n",
    "    return model\n"
   ]
  },
  {
   "cell_type": "code",
   "execution_count": null,
   "id": "d4ef053d",
   "metadata": {},
   "outputs": [],
   "source": [
    "# Create a parameters dictionary - we'll reuse this whenever building the model\n",
    "\n",
    "parameters = {\n",
    "    \"contact_rate\": 0.5,\n",
    "    \"progression_rate\": 1 / 3,\n",
    "    \"recovery_rate\": 1 / 5,\n",
    "}"
   ]
  },
  {
   "cell_type": "markdown",
   "id": "acknowledged-aside",
   "metadata": {},
   "source": [
    "## No stratification\n",
    "\n",
    "With no stratification, this is just a regular SEIR model: there are 4 compartments where susceptible people get exposed, infected/infectious, some of them die, and some of them recover."
   ]
  },
  {
   "cell_type": "code",
   "execution_count": null,
   "id": "municipal-archives",
   "metadata": {},
   "outputs": [],
   "source": [
    "# Build and run model with no stratifications\n",
    "model = build_model_with_flows(parameters)\n",
    "model.run()\n",
    "\n",
    "# Plot compartments\n",
    "outputs_df = model.get_outputs_df()\n",
    "outputs_df.plot()"
   ]
  },
  {
   "cell_type": "code",
   "execution_count": null,
   "id": "9ee3d006",
   "metadata": {},
   "outputs": [],
   "source": [
    "# Create a plotting function\n",
    "def plot_compartments(model: CompartmentalModel):\n",
    "    outputs_df = model.get_outputs_df()\n",
    "    return outputs_df.plot()"
   ]
  },
  {
   "cell_type": "markdown",
   "id": "natural-shoulder",
   "metadata": {},
   "source": [
    "## Minimal stratification\n",
    "\n",
    "Next, let's try a simple stratification where we split the population into 'young' (say, 0 to 18 years old) and 'old' (age 19 and above). Notice the following changes to the model outputs:\n",
    "\n",
    "- There are now 8 compartments instead of 4: each original compartment has been split into an \"old\" and \"young\" compartment, with the original population evenly divided between them (by default).\n",
    "- The model dynamics haven't changed otherwise: we will get the same results as before if we add the old and young compartments back together. This is because there is homogeneous mixing between strata and no demographic processes, etc."
   ]
  },
  {
   "cell_type": "code",
   "execution_count": null,
   "id": "ee2e008d",
   "metadata": {},
   "outputs": [],
   "source": [
    "from summer import Stratification\n",
    "\n",
    "# Create a stratification named 'age', applying to all compartments, which\n",
    "# splits the population into 'young' and 'old'.\n",
    "strata = [\"young\", \"old\"]\n",
    "strat = Stratification(name=\"age\", strata=strata, compartments=[\"S\",\"E\", \"I\", \"R\"])"
   ]
  },
  {
   "cell_type": "code",
   "execution_count": null,
   "id": "temporal-variation",
   "metadata": {},
   "outputs": [],
   "source": [
    "# Build and run model with the stratification we just defined\n",
    "model = build_model_with_flows(parameters)\n",
    "\n",
    "# After creating the compartments and flows we need to stratify the model \n",
    "# using the stratification object we created above.\n",
    "model.stratify_with(strat) \n",
    "\n",
    "model.run()"
   ]
  },
  {
   "cell_type": "markdown",
   "id": "c33dfdce",
   "metadata": {},
   "source": [
    "And plot let's plot the eight epi curves [\"young\", \"old\"] * [\"S\",\"E\", \"I\", \"R\"]"
   ]
  },
  {
   "cell_type": "code",
   "execution_count": null,
   "id": "0cb27cb7",
   "metadata": {},
   "outputs": [],
   "source": [
    "plot_compartments(model)"
   ]
  },
  {
   "cell_type": "markdown",
   "id": "64fceeca",
   "metadata": {},
   "source": [
    "**Question: Why are we seeing only four curves?**"
   ]
  },
  {
   "cell_type": "markdown",
   "id": "approximate-organization",
   "metadata": {},
   "source": [
    "## Population distribution\n",
    "\n",
    "We may not always wish to split the population evenly between strata. For example, we might know that 25% of the population is 'young' while 75% is 'old'. Notice that\n",
    "\n",
    "- The stratified compartments are now split according to a 25:75 ratio into young and old respectively\n",
    "- The overall model dynamics still haven't changed otherwise"
   ]
  },
  {
   "cell_type": "code",
   "execution_count": null,
   "id": "sitting-capitol",
   "metadata": {},
   "outputs": [],
   "source": [
    "strat = Stratification(name=\"age\", strata=strata, compartments=[\"S\",\"E\", \"I\", \"R\"])\n",
    "\n",
    "# Create our population split dictionary, whose keys match the strata\n",
    "pop_split = {\"young\": 0.25, \"old\": 0.75}\n",
    "\n",
    "# Set a population distribution\n",
    "strat.set_population_split(pop_split)\n",
    "\n",
    "# Build and run model with the stratification we just defined\n",
    "model = build_model_with_flows(parameters)\n",
    "model.stratify_with(strat)\n",
    "model.run()\n"
   ]
  },
  {
   "cell_type": "code",
   "execution_count": null,
   "id": "81740ee1",
   "metadata": {},
   "outputs": [],
   "source": [
    "plot_compartments(model)"
   ]
  },
  {
   "cell_type": "markdown",
   "id": "3f218178-bb9d-428c-9fe5-3ddc68870361",
   "metadata": {},
   "source": [
    "#### Reusable age stratification function\n",
    "\n",
    "Now that we've got something meaningful, let's wrap it in a function for reuse"
   ]
  },
  {
   "cell_type": "code",
   "execution_count": null,
   "id": "6398d59f-0076-4522-9abb-ad5933c30772",
   "metadata": {},
   "outputs": [],
   "source": [
    "def get_age_stratification() -> Stratification:\n",
    "    # Create the stratification\n",
    "    strat = Stratification(name=\"age\", strata=strata, compartments=[\"S\",\"E\", \"I\", \"R\"])\n",
    "\n",
    "    # Create our population split dictionary, whose keys match the strata\n",
    "    pop_split = {\"young\": 0.25, \"old\": 0.75}\n",
    "\n",
    "    # Set a population distribution\n",
    "    strat.set_population_split(pop_split)\n",
    "    \n",
    "    return strat"
   ]
  },
  {
   "cell_type": "markdown",
   "id": "62077e4d",
   "metadata": {},
   "source": [
    "## Importation flows and stratification\n",
    "\n",
    "We build a model with the same simple stratifaction as above; 2 age compartments, \"young\" and \"old\", but then add an importation flow to the model.  Note the following important details:\n",
    "\n",
    "- In addition to the existing (transition) infections, there are new importatation infections for both young and old, each at half the total rate specified.  This is because split_imports is set to True, and therefore evenly divides its total amongst the target compartments.  The increase in infections compared to the previous run is consistent with this.\n",
    "- The importation flow is added to the model directly, but only _after_ the Stratification has been applied.  This is because split_imports uses the model state at the time it is called in order to determine its splitting values.\n"
   ]
  },
  {
   "cell_type": "code",
   "execution_count": null,
   "id": "bf6f86f9",
   "metadata": {},
   "outputs": [],
   "source": [
    "# Build and run model with the stratification we just defined\n",
    "model = build_model_with_flows(parameters)\n",
    "\n",
    "# Stratify the model first\n",
    "age_strat = get_age_stratification()\n",
    "model.stratify_with(age_strat)\n",
    "\n",
    "# Now the following call is aware of the changes made by the Stratification\n",
    "model.add_importation_flow(\"infection_imports\", 1000, \"I\", split_imports=True)\n",
    "\n",
    "model.run()"
   ]
  },
  {
   "cell_type": "code",
   "execution_count": null,
   "id": "7a66c536",
   "metadata": {},
   "outputs": [],
   "source": [
    "plot_compartments(model)"
   ]
  },
  {
   "cell_type": "markdown",
   "id": "spanish-screen",
   "metadata": {},
   "source": [
    "## Flow adjustments\n",
    "\n",
    "As noted so far, we've been successful in subdividing the population, but haven't actually changed our model dynamics, which is kind of boring. Next let's look at how we can adjust the flow rates based on strata. Let's assume three new facts about our disease:\n",
    "\n",
    "- young people are twice as susceptible to infection\n",
    "- old people are three times as likely to die from the infectious disease, while younger people are half as likely as under the original parameters we requested\n",
    "- younger people take twice as long to recover\n",
    "\n",
    "These inter-strata differences can be modelled using flow adjustments. Now we're seeing some genuinely new model dynamics. Note how there are fewer recovered 'old' people at the end of the model run, because of their higher death rate."
   ]
  },
  {
   "cell_type": "code",
   "execution_count": null,
   "id": "seeing-referral",
   "metadata": {},
   "outputs": [],
   "source": [
    "# Re-create the stratification object\n",
    "age_strat = get_age_stratification()\n",
    "\n",
    "# Add an adjustment to the 'infection' flow\n",
    "age_strat.set_flow_adjustments(\n",
    "    \"infection\",\n",
    "    {\n",
    "        \"old\": None,  # No adjustment for old people, use baseline requested value\n",
    "        \"young\": 2.0,  # Young people are twice twice as susceptible to infection\n",
    "    },\n",
    ")\n",
    "\n",
    "# Add an adjustment to the 'infection_death' flow\n",
    "age_strat.set_flow_adjustments(\n",
    "    \"infection_death\",\n",
    "    {\n",
    "        \"old\": 3.0,  # Older people die at three times the rate requested under the original parameters\n",
    "        \"young\": 0.5,  # Younger people die at half the rate requested under the original parameters\n",
    "    },\n",
    ")\n",
    "\n",
    "# Add an adjustment to the 'recovery' flow\n",
    "age_strat.set_flow_adjustments(\n",
    "    \"recovery\",\n",
    "    {\n",
    "        \"old\": None,  # No adjustment for old people, use baseline\n",
    "        \"young\": 0.5,  # Young people take twice as long to recover\n",
    "    },\n",
    ")\n",
    "\n",
    "# Build and run model with the stratification we just defined\n",
    "model = build_model_with_flows(parameters)\n",
    "model.stratify_with(age_strat)\n",
    "model.run()"
   ]
  },
  {
   "cell_type": "markdown",
   "id": "8b927adc",
   "metadata": {},
   "source": [
    "**Homework:**\n",
    "1. Create a single data structure that represents the three disease dynamics discussed above.\n",
    "2. Write a function and/or 'for loop' which calls set_flow_adjustments with each disease dynamic."
   ]
  },
  {
   "cell_type": "code",
   "execution_count": null,
   "id": "110f0d63",
   "metadata": {},
   "outputs": [],
   "source": [
    "plot_compartments(model)"
   ]
  },
  {
   "cell_type": "markdown",
   "id": "driven-acquisition",
   "metadata": {},
   "source": [
    "## Infectiousness adjustments\n",
    "\n",
    "In addition to adjusting flow rates for each strata, you can also set an infectiousness level for a given strata. This affects how likely an infectious person in that stratum is to infect someone else. For example we could consider the following:\n",
    "\n",
    "- young people are 1.2 times as infectious, because they're not wearing face masks as much\n",
    "- young people are twice as susceptible to the disease, because some of them have immature immune systems\n"
   ]
  },
  {
   "cell_type": "code",
   "execution_count": null,
   "id": "ultimate-notice",
   "metadata": {},
   "outputs": [],
   "source": [
    "# Create a stratification named\n",
    "age_strat = get_age_stratification()\n",
    "\n",
    "# Add an adjustment to the 'infection' flow\n",
    "age_strat.set_flow_adjustments(\n",
    "    \"infection\",\n",
    "    {\n",
    "        \"old\": None,  # No adjustment for old people, use baseline\n",
    "        \"young\": 2.0,  # Young people twice as susceptible\n",
    "    },\n",
    ")\n",
    "\n",
    "# Add an adjustment to infectiousness levels for young people in the 'I' compartment\n",
    "age_strat.add_infectiousness_adjustments(\n",
    "    \"I\",\n",
    "    {\n",
    "        \"old\": None,  # No adjustment for old people, use baseline\n",
    "        \"young\": 1.2,  # Young people 1.2 times more infectious\n",
    "    },\n",
    ")\n",
    "\n",
    "# Build and run model with the stratification we just defined\n",
    "model = build_model_with_flows(parameters)\n",
    "model.stratify_with(age_strat)\n",
    "model.run()"
   ]
  },
  {
   "cell_type": "code",
   "execution_count": null,
   "id": "5ee8ea55",
   "metadata": {},
   "outputs": [],
   "source": [
    "plot_compartments(model)"
   ]
  },
  {
   "cell_type": "markdown",
   "id": "solved-campus",
   "metadata": {},
   "source": [
    "## Partial stratifications\n",
    "\n",
    "So far we've been stratifying all compartments, but Summer allows only some of the compartments to be stratified. For example, we can stratify only the infectious compartment to model three different levels of disease severity: asymptomatic, mild and severe.\n",
    "\n",
    "When you do a partial stratification, flow rates into that stratified compartment will automatically be adjusted with an even split to conserve the behaviour by default, e.g. a flow rate of 3 from a source will be evenly split into (1, 1, 1) across the three destinations. This behaviour can be manually overriden with a flow adjustment."
   ]
  },
  {
   "cell_type": "code",
   "execution_count": null,
   "id": "juvenile-reduction",
   "metadata": {},
   "outputs": [],
   "source": [
    "# This time, we'll create a function right away\n",
    "\n",
    "def get_severity_strat() -> Stratification:\n",
    "    # Create a stratification named 'severity', applying to the infectious, which\n",
    "    # splits that compartment into 'asymptomatic', 'mild' and 'severe'.\n",
    "    severity_strata = [\"asymptomatic\", \"mild\", \"severe\"]\n",
    "\n",
    "    # Notice the new argument [\"I\"] for the compartment parameter.\n",
    "    severity_strat = Stratification(name=\"severity\", strata=severity_strata, compartments=[\"I\"])\n",
    "\n",
    "    # Set a population distribution - everyone starts out asymptomatic.\n",
    "    severity_strat.set_population_split({\"asymptomatic\": 1.0, \"mild\": 0, \"severe\": 0})\n",
    "    \n",
    "    return severity_strat\n",
    "\n",
    "# We need to call the function so we have a Stratification object to work with\n",
    "severity_strat = get_severity_strat()\n",
    "\n",
    "# Add an adjustment to the 'infection' flow, overriding default split.\n",
    "severity_strat.set_flow_adjustments(\n",
    "    \"progression\",\n",
    "    {\n",
    "        \"asymptomatic\": 0.3,  # 30% of incident cases are asymptomatic\n",
    "        \"mild\": 0.5,  # 50% of incident cases are mild\n",
    "        \"severe\": 0.2,  # 20% of incident cases are severe\n",
    "    },\n",
    ")\n",
    "\n",
    "# Add an adjustment to the 'infection_death' flow\n",
    "severity_strat.set_flow_adjustments(\n",
    "    \"infection_death\",\n",
    "    {\n",
    "        \"asymptomatic\": 0.5,\n",
    "        \"mild\": None,\n",
    "        \"severe\": 1.5,\n",
    "    },\n",
    ")\n",
    "\n",
    "severity_strat.add_infectiousness_adjustments(\n",
    "    \"I\",\n",
    "    {\n",
    "        \"asymptomatic\": 0.5,\n",
    "        \"mild\": None,\n",
    "        \"severe\": 1.5,\n",
    "    },\n",
    ")\n",
    "\n",
    "# Build and run model with the stratification we just defined\n",
    "model = build_model_with_flows(parameters)\n",
    "model.stratify_with(severity_strat)\n",
    "model.run()"
   ]
  },
  {
   "cell_type": "code",
   "execution_count": null,
   "id": "08e46eef",
   "metadata": {},
   "outputs": [],
   "source": [
    "plot_compartments(model)"
   ]
  },
  {
   "cell_type": "markdown",
   "id": "external-imperial",
   "metadata": {},
   "source": [
    "## Multiple stratifications\n",
    "\n",
    "A model can have multiple stratifications applied in series. For example, we can add an 'age' stratification, followed by a 'severity' one."
   ]
  },
  {
   "cell_type": "code",
   "execution_count": null,
   "id": "practical-blink",
   "metadata": {},
   "outputs": [],
   "source": [
    "### Age stratification\n",
    "\n",
    "# Get the age stratification\n",
    "age_strat = get_age_stratification()\n",
    "\n",
    "# Add an adjustment to the 'infection' flow\n",
    "age_strat.set_flow_adjustments(\n",
    "    \"infection\",\n",
    "    {\n",
    "        \"old\": None,  # No adjustment for old people, use unstratified parameter value\n",
    "        \"young\": 2.0,  # Young people are twice as susceptible\n",
    "    },\n",
    ")\n",
    "\n",
    "# Add an adjustment to infectiousness levels for young people the 'I' compartment\n",
    "age_strat.add_infectiousness_adjustments(\n",
    "    \"I\",\n",
    "    {\n",
    "        \"old\": None,  # No adjustment for old people, use unstratified parameter value\n",
    "        \"young\": 1.2,  # Young people are 1.2x more infectious\n",
    "    },\n",
    ")\n",
    "\n",
    "\n",
    "### Disease severity stratification\n",
    "\n",
    "# Get our severity stratification using the previously defined function\n",
    "severity_strat = get_severity_strat()\n",
    "\n",
    "# Add an adjustment to the 'infection' flow (overriding the default split of one third to each stratum)\n",
    "severity_strat.set_flow_adjustments(\n",
    "    \"progression\",\n",
    "    {\n",
    "        \"asymptomatic\": 0.3,  # 30% of cases are asympt.\n",
    "        \"mild\": 0.5,  # 50% of cases are mild.\n",
    "        \"severe\": 0.2,  # 20% of cases are severse.\n",
    "    },\n",
    ")\n",
    "\n",
    "# Add an adjustment to the 'infection_death' flow\n",
    "severity_strat.set_flow_adjustments(\n",
    "    \"infection_death\",\n",
    "    {\n",
    "        \"asymptomatic\": 0.5,\n",
    "        \"mild\": None,\n",
    "        \"severe\": 1.5,\n",
    "    },\n",
    ")\n",
    "\n",
    "severity_strat.add_infectiousness_adjustments(\n",
    "    \"I\",\n",
    "    {\n",
    "        \"asymptomatic\": 0.5,\n",
    "        \"mild\": None,\n",
    "        \"severe\": 1.5,\n",
    "    },\n",
    ")\n",
    "\n",
    "\n",
    "# Build and run model with the stratifications we just defined\n",
    "model = build_model_with_flows(parameters)\n",
    "# Apply age, then severity stratifications\n",
    "model.stratify_with(age_strat)\n",
    "model.stratify_with(severity_strat)\n",
    "model.run()"
   ]
  },
  {
   "cell_type": "code",
   "execution_count": null,
   "id": "f869b91f",
   "metadata": {},
   "outputs": [],
   "source": [
    "plot_compartments(model)"
   ]
  },
  {
   "cell_type": "markdown",
   "id": "honest-instrument",
   "metadata": {},
   "source": [
    "## Multiple interdependent stratifications\n",
    "\n",
    "In the previous example we assumed that the age and severity stratifications were independent. For example, we assumed that the proportion of infected people who have a disease severity of asymptomatic, mild and severe is the same for both young and old people. Perhaps, for a given disease, this is not true! it's easy to imagine an infection for which younger people tend towards being more asymptomatic, and older people tend towards having a more severe infection.\n",
    "\n",
    "This interdependency between stratifications can be modelled using Summer, where a flow adjustment for a stratification can selectively refer to strata used for previous stratifications. You can refer to the API reference for [set_flow_adjustments](http://summerepi.com/api/stratification.html#summer.stratification.Stratification.set_flow_adjustments) for more details.\n",
    "\n",
    "To clarify, let's consider the example described above:"
   ]
  },
  {
   "cell_type": "code",
   "execution_count": null,
   "id": "contained-discussion",
   "metadata": {},
   "outputs": [],
   "source": [
    "### Age stratification\n",
    "\n",
    "# Get the age stratification\n",
    "age_strat = get_age_stratification()\n",
    "\n",
    "### Disease severity stratification (depends on the age stratification)\n",
    "# Get the severity stratification\n",
    "severity_strat = get_severity_strat()\n",
    "\n",
    "# Add an adjustment to the 'progression' flow for young people\n",
    "# where younger people tend towards asymptomatic infection\n",
    "young_progression_adjustments = {\n",
    "    \"asymptomatic\": 0.5,  # 50% of cases are asympt.\n",
    "    \"mild\": 0.4,  # 40% of cases are mild.\n",
    "    \"severe\": 0.1,  # 10% of cases are severe.\n",
    "}\n",
    "\n",
    "severity_strat.set_flow_adjustments(\n",
    "    \"progression\",\n",
    "    young_progression_adjustments,\n",
    "    source_strata={\n",
    "        \"age\": \"young\"\n",
    "    },  # Only apply this adjustment to flows of young people\n",
    ")\n",
    "\n",
    "# Add an adjustment to the 'infection' flow for old people\n",
    "# where older people tend towards severe infection\n",
    "old_progression_adjustments = {\n",
    "    \"asymptomatic\": 0.1,  # 10% of cases are asympt.\n",
    "    \"mild\": 0.4,  # 40% of cases are mild.\n",
    "    \"severe\": 0.5,  # 50% of cases are severe.\n",
    "}\n",
    "\n",
    "severity_strat.set_flow_adjustments(\n",
    "    \"progression\",\n",
    "    old_progression_adjustments,\n",
    "    source_strata={\"age\": \"old\"},  # Only apply this adjustment to flows of old people\n",
    ")\n",
    "\n",
    "# Add an adjustment to the 'infection_death' flow (for all age groups)\n",
    "severity_strat.set_flow_adjustments(\n",
    "    \"infection_death\",\n",
    "    {\n",
    "        \"asymptomatic\": 0.5,\n",
    "        \"mild\": None,\n",
    "        \"severe\": 1.5,\n",
    "    },\n",
    ")\n",
    "\n",
    "# Adjust infectiousness levels (for all age groups)\n",
    "severity_strat.add_infectiousness_adjustments(\n",
    "    \"I\",\n",
    "    {\n",
    "        \"asymptomatic\": 0.5,\n",
    "        \"mild\": None,\n",
    "        \"severe\": 1.5,\n",
    "    },\n",
    ")\n",
    "\n",
    "\n",
    "# Build and run model with the stratifications we just defined\n",
    "model = build_model_with_flows(parameters)\n",
    "# Apply age, then severity stratifications\n",
    "model.stratify_with(age_strat)\n",
    "model.stratify_with(severity_strat)\n",
    "model.run()"
   ]
  },
  {
   "cell_type": "code",
   "execution_count": null,
   "id": "impressed-jamaica",
   "metadata": {},
   "outputs": [],
   "source": [
    "plot_compartments(model)"
   ]
  }
 ],
 "metadata": {
  "kernelspec": {
   "display_name": "Python 3 (ipykernel)",
   "language": "python",
   "name": "python3"
  },
  "language_info": {
   "codemirror_mode": {
    "name": "ipython",
    "version": 3
   },
   "file_extension": ".py",
   "mimetype": "text/x-python",
   "name": "python",
   "nbconvert_exporter": "python",
   "pygments_lexer": "ipython3",
   "version": "3.9.11"
  },
  "vscode": {
   "interpreter": {
    "hash": "3382d9152740e983dde2d381031ee2f8a7c26cd3ea552b2ab6ab283df787f155"
   }
  }
 },
 "nbformat": 4,
 "nbformat_minor": 5
}
