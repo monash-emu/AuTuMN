{
 "cells": [
  {
   "cell_type": "markdown",
   "id": "60bba4ac",
   "metadata": {},
   "source": [
    "# Capacity Building\n",
    "## Prerequisites\n",
    "- Some basic understanding of Python variables, data types, looping, conditionals and functions will be of benefit\n",
    "- Completion of  01-basic-model.ipynb, 02-flow-types.ipynb\n",
    "\n",
    "## Stratification introduction\n",
    "\n",
    "So far we've looked at how to create a compartmental model, add flows, request derived outputs and use different solvers. Now we'll look into stratifying a model using _summer_'s [Stratification](http://summerepi.com/api/stratification.html) class.\n",
    "\n",
    "So far, we have modelled transmission dynamics across the overall population, with the population being entirely homogeneous except with regards the infection-related states. However, we may wish to consider that the infection dynamics vary with age, which they do in the case of COVID-19. For example, infection mortality may vary across different age groups, with older age groups having a higher risk of death. For some infections, we may also wish to consider differences in susceptibility to infection or differences in infectiousness. To capture such differences that are observed in the population structure, we can use stratifications in our models. \n",
    "\n",
    "A commonly used stratification is age-based stratifications. Here, the basic stratification methodology is to sub-divide the population into a number of discrete compartments classified by the age. Although age is a continuous parameter, age-structured compartmental models must group individuals into a limited number of classes. The number of compartments will depend on factors such as data availability and the epidemiological question being addressed. In age-structured modelsm, we may wish to allow people to progress into increasingly older age classes, although this would be less relevant for short-lived epidemics.\n",
    "\n",
    "The simplest way to approach is to allow for two strata (children and adults), without any ageing between the two strata.\n",
    "\n",
    "Age stratification would be essential to consider epidemiological issues or interventions that act differentially on different age categories, or where we wish to get age-specific outputs from our model.\n",
    "\n",
    "In this example we'll cover:\n",
    "\n",
    "- [No stratification](#No-stratification)\n",
    "- [Minimal stratification](#Minimal-stratification)\n",
    "- [Population distribution](#Population-distribution)\n",
    "- [Flow adjustments](#Flow-adjustments)\n",
    "- [Infectiousness adjustments](#Infectiousness-adjustments)\n",
    "- [Partial stratifications](#Partial-stratifications)\n",
    "- [Multiple stratifications](#Multiple-stratifications)\n",
    "- [Multiple interdependent stratifications](#Multiple-interdependent-stratifications)\n",
    "\n",
    "Note that stratification is just about the most complicated thing we can do with a compartmental model, and throws up \n",
    "\n",
    "## Data inputs\n",
    "### Imports\n",
    "The following few cells are just standard boilerplate that we will include in a similar format in most notebooks.\n",
    "This should support you to run these cells either locally or over Colab.\n",
    "We also include code to get the Philippines data set in memory, even though this notebook doesn't make use of it."
   ]
  },
  {
   "cell_type": "code",
   "execution_count": null,
   "id": "0d81f663",
   "metadata": {},
   "outputs": [],
   "source": [
    "# If we are running in google colab, pip install the required packages, \n",
    "# but do not modify local environments\n",
    "try:\n",
    "  import google.colab\n",
    "  IN_COLAB = True\n",
    "  %pip install summerepi\n",
    "except:\n",
    "  IN_COLAB = False"
   ]
  },
  {
   "cell_type": "code",
   "execution_count": null,
   "id": "82695978",
   "metadata": {},
   "outputs": [],
   "source": [
    "from datetime import datetime, timedelta\n",
    "import pandas as pd\n",
    "\n",
    "from summer import CompartmentalModel\n",
    "\n",
    "pd.options.plotting.backend = \"plotly\""
   ]
  },
  {
   "cell_type": "code",
   "execution_count": null,
   "id": "45aa4d23",
   "metadata": {},
   "outputs": [],
   "source": [
    "# The data import module lives in a file on AuTuMN github - download it for colab use\n",
    "if IN_COLAB:\n",
    "    !wget https://raw.githubusercontent.com/monash-emu/AuTuMN/master/notebooks/capacity_building/philippines/import_phl_data.py\n",
    "\n",
    "import import_phl_data"
   ]
  },
  {
   "cell_type": "code",
   "execution_count": null,
   "id": "c0fec0ee-9c0c-4d9b-b9e6-6333275fac59",
   "metadata": {},
   "outputs": [],
   "source": [
    "from import_phl_data import get_population_and_epi_data\n",
    "\n",
    "analysis_start_date = datetime(2021,1,1)  # Define the start date\n",
    "analysis_end_date = analysis_start_date + timedelta(days=300)  # Define the duration\n",
    "\n",
    "# Shareable google drive links\n",
    "PHL_DOH_LINK = \"1fFKoNVan7PS6BpBr01nwByNTLLu6z1AA\"  # sheet 05 daily report.\n",
    "PHL_FASSSTER_LINK = \"15eDyTjXng2Zh38DVhmeNy0nQSqOMlGj3\" # Fassster google drive zip file.\n",
    "initial_population, df = get_population_and_epi_data(PHL_DOH_LINK, PHL_FASSSTER_LINK) \n",
    "notifications_target = df[analysis_start_date: analysis_end_date][\"cases\"]  # Could be used as calibration target later\n",
    "\n",
    "# We define a day zero for the analysis.\n",
    "COVID_BASE_DATE = datetime(2019, 12, 31)\n",
    "\n",
    "# Integer representation of the start and end dates.\n",
    "start_date_int = (analysis_start_date - COVID_BASE_DATE).days\n",
    "end_date_int = (analysis_end_date - COVID_BASE_DATE).days"
   ]
  },
  {
   "cell_type": "markdown",
   "id": "cd5e6c81",
   "metadata": {},
   "source": [
    "## Build a model"
   ]
  },
  {
   "cell_type": "markdown",
   "id": "42e3f90c",
   "metadata": {},
   "source": [
    "Recall the `build_base_model` wrapper function from the last training session."
   ]
  },
  {
   "cell_type": "code",
   "execution_count": null,
   "id": "0aec7498",
   "metadata": {},
   "outputs": [],
   "source": [
    "def build_base_model() -> CompartmentalModel:\n",
    "    \"\"\"\n",
    "    Create a minimal model, that we can then wrap the other pieces\n",
    "    of functionality around.\n",
    "    The model will not produce any interesting dynamics,\n",
    "    because it currently has no flows linking the compartments at all.\n",
    "    \n",
    "    Returns:\n",
    "        A summer compartmental model with compartments called S, E, I and R    \n",
    "    \"\"\"\n",
    "    model = CompartmentalModel(\n",
    "        times=(start_date_int, end_date_int),\n",
    "        compartments=[\"S\", \"E\", \"I\", \"R\"],\n",
    "        infectious_compartments=[\"I\"],\n",
    "        ref_date=COVID_BASE_DATE\n",
    "    )\n",
    "\n",
    "    model.set_initial_population(\n",
    "        distribution={\"S\": initial_population - 100, \"E\": 0, \"I\": 100}\n",
    "    )\n",
    "    \n",
    "    return model"
   ]
  },
  {
   "cell_type": "code",
   "execution_count": null,
   "id": "c2e46e1a",
   "metadata": {},
   "outputs": [],
   "source": [
    "def build_model_with_flows(parameters: dict) -> CompartmentalModel:\n",
    "    \"\"\"\n",
    "    Create a 'proper' SEIR model that now has its compartments linked\n",
    "    together with connecting flows, including a transmission flow.\n",
    "    \n",
    "    Arguments:\n",
    "        parameters: The user-specified quantities for building this model\n",
    "    Returns:\n",
    "        An unstratified SEIR summer compartmental model\n",
    "    \n",
    "    \"\"\"\n",
    "\n",
    "    # This base model does not take parameters, but have a think about how it might...\n",
    "    model = build_base_model()\n",
    "\n",
    "    # Susceptible people can get infected\n",
    "    model.add_infection_frequency_flow(\n",
    "        name=\"infection\", \n",
    "        contact_rate=parameters[\"contact_rate\"],\n",
    "        source=\"S\", \n",
    "        dest=\"E\"\n",
    "    )\n",
    "    \n",
    "    # Expose people transition to infected\n",
    "    model.add_transition_flow(\n",
    "        name=\"progression\",\n",
    "        fractional_rate=parameters[\"progression_rate\"],\n",
    "        source=\"E\",\n",
    "        dest=\"I\",\n",
    "    )\n",
    "\n",
    "    # Infectious people recover\n",
    "    model.add_transition_flow(\n",
    "        name=\"recovery\",\n",
    "        fractional_rate=parameters[\"recovery_rate\"],\n",
    "        source=\"I\",\n",
    "        dest=\"R\",\n",
    "    )\n",
    "\n",
    "    # Add an infection-specific death flow to the I compartment\n",
    "    model.add_death_flow(name=\"infection_death\", death_rate=0.01, source=\"I\")\n",
    "\n",
    "    # We will also request an output for the 'progression' flow, and name this 'notifications'\n",
    "    # This is just in case we want to compare against the Philippines data and \n",
    "    # will be available after running through get_derived_outputs_df() (but isn't actually used in this notebook)\n",
    "\n",
    "    model.request_output_for_flow(\"notifications\", \"progression\")\n",
    "\n",
    "    return model"
   ]
  },
  {
   "cell_type": "code",
   "execution_count": null,
   "id": "d4ef053d",
   "metadata": {},
   "outputs": [],
   "source": [
    "# Create a parameters dictionary - we'll reuse this whenever building the model\n",
    "user_params = {\n",
    "    \"contact_rate\": 0.5,\n",
    "    \"progression_rate\": 1 / 3,\n",
    "    \"recovery_rate\": 1 / 5,\n",
    "}"
   ]
  },
  {
   "cell_type": "markdown",
   "id": "acknowledged-aside",
   "metadata": {},
   "source": [
    "## No stratification\n",
    "\n",
    "With no stratification, this is just a regular SEIR model: there are 4 compartments where susceptible people get exposed, infected/infectious, some of them die, and some of them recover.\n",
    "This is just our basic building block to start adding stratifications to in the cells below - we haven't really achieved anything yet."
   ]
  },
  {
   "cell_type": "code",
   "execution_count": null,
   "id": "municipal-archives",
   "metadata": {},
   "outputs": [],
   "source": [
    "# Build and run model with no stratifications\n",
    "nostrat_model = build_model_with_flows(user_params)\n",
    "nostrat_model.run()\n",
    "\n",
    "# Plot compartments\n",
    "outputs_df = nostrat_model.get_outputs_df()\n",
    "outputs_df.plot()"
   ]
  },
  {
   "cell_type": "markdown",
   "id": "natural-shoulder",
   "metadata": {},
   "source": [
    "## Minimal stratification\n",
    "\n",
    "Next, let's try a simple stratification where we split the population into 'young' (say, 0 to 18 years old) and 'old' (age 19 and above). Notice the following changes to the model outputs:\n",
    "\n",
    "- There are now 8 compartments instead of 4: each original compartment has been split into an \"old\" and \"young\" compartment, with the original population evenly divided between them (by default).\n",
    "- The model dynamics haven't changed otherwise: we will get the same results as before if we add the old and young compartments back together. This is because there is homogeneous mixing between strata and no demographic processes, etc."
   ]
  },
  {
   "cell_type": "code",
   "execution_count": null,
   "id": "ee2e008d",
   "metadata": {},
   "outputs": [],
   "source": [
    "from summer import Stratification\n",
    "\n",
    "# Create a stratification named 'age', applying to all compartments, which\n",
    "# splits the population into 'young' and 'old'.\n",
    "strata = [\"young\", \"old\"]\n",
    "strat = Stratification(name=\"age\", strata=strata, compartments=[\"S\",\"E\", \"I\", \"R\"])"
   ]
  },
  {
   "cell_type": "code",
   "execution_count": null,
   "id": "temporal-variation",
   "metadata": {},
   "outputs": [],
   "source": [
    "# Build and run model with the stratification we just defined\n",
    "min_model = build_model_with_flows(user_params)\n",
    "\n",
    "# After creating the compartments and flonostrat_modelneed to stratify the model \n",
    "# using the stratification object we created above.\n",
    "min_model.stratify_with(strat)"
   ]
  },
  {
   "cell_type": "markdown",
   "id": "c33dfdce",
   "metadata": {},
   "source": [
    "And plot let's plot the eight epi curves [\"young\", \"old\"] * [\"S\",\"E\", \"I\", \"R\"]"
   ]
  },
  {
   "cell_type": "code",
   "execution_count": null,
   "id": "0cb27cb7",
   "metadata": {},
   "outputs": [],
   "source": [
    "min_model.run()\n",
    "outputs_df = min_model.get_outputs_df()\n",
    "outputs_df.plot()"
   ]
  },
  {
   "cell_type": "markdown",
   "id": "64fceeca",
   "metadata": {},
   "source": [
    "**Questions:**\n",
    "\n",
    "Why are we seeing only four curves?\n",
    "\n",
    "What is the difference between this model and its unstratified version above?"
   ]
  },
  {
   "cell_type": "markdown",
   "id": "approximate-organization",
   "metadata": {},
   "source": [
    "## Population distribution\n",
    "\n",
    "We may not always wish to split the population evenly between strata. For example, we might know that 25% of the population is 'young' while 75% is 'old'. Notice that\n",
    "\n",
    "- The stratified compartments are now split according to a 25:75 ratio into young and old respectively\n",
    "- The overall model dynamics still haven't changed otherwise"
   ]
  },
  {
   "cell_type": "code",
   "execution_count": null,
   "id": "sitting-capitol",
   "metadata": {},
   "outputs": [],
   "source": [
    "strat = Stratification(name=\"age\", strata=strata, compartments=[\"S\", \"E\", \"I\", \"R\"])\n",
    "\n",
    "# Create our population split dictionary, whose keys match the strata\n",
    "pop_split = {\"young\": 0.25, \"old\": 0.75}\n",
    "\n",
    "# Set a population distribution\n",
    "strat.set_population_split(pop_split)\n",
    "\n",
    "# Build and run model with the stratification we just defined\n",
    "uneven_split_model = build_model_with_flows(user_params)\n",
    "uneven_split_model.stratify_with(strat)"
   ]
  },
  {
   "cell_type": "code",
   "execution_count": null,
   "id": "81740ee1",
   "metadata": {},
   "outputs": [],
   "source": [
    "uneven_split_model.run()\n",
    "outputs_df = uneven_split_model.get_outputs_df()\n",
    "outputs_df.plot()"
   ]
  },
  {
   "cell_type": "markdown",
   "id": "3f218178-bb9d-428c-9fe5-3ddc68870361",
   "metadata": {},
   "source": [
    "#### Reusable age stratification function\n",
    "\n",
    "Now that we've got something slightly more meaningful, let's wrap it in a function for reuse."
   ]
  },
  {
   "cell_type": "code",
   "execution_count": null,
   "id": "6398d59f-0076-4522-9abb-ad5933c30772",
   "metadata": {},
   "outputs": [],
   "source": [
    "def get_age_stratification() -> Stratification:\n",
    "    \"\"\"\n",
    "    Get the a basic age stratification to apply to the standard compartments\n",
    "    for an SEIR compartmental model,\n",
    "    with an uneven split between the two age groups.\n",
    "    Note that this stratification object has no function in itself,\n",
    "    rather it just provides the instructions for this sort of stratification.\n",
    "   \n",
    "    Returns:\n",
    "        A summer stratification object.\n",
    "    \"\"\"\n",
    "    \n",
    "    # Create the stratification\n",
    "    strat = Stratification(name=\"age\", strata=strata, compartments=[\"S\", \"E\", \"I\", \"R\"])\n",
    "\n",
    "    # Create our population split dictionary, whose keys match the strata\n",
    "    pop_split = {\"young\": 0.25, \"old\": 0.75}\n",
    "\n",
    "    # Set a population distribution\n",
    "    strat.set_population_split(pop_split)\n",
    "    \n",
    "    return strat"
   ]
  },
  {
   "cell_type": "markdown",
   "id": "spanish-screen",
   "metadata": {},
   "source": [
    "## Flow adjustments\n",
    "\n",
    "As noted so far, we've been successful in subdividing the population, but haven't actually changed our model dynamics, which means that there wasn't really that much point in applying the stratification in the first place. Next let's consider how we can adjust the flow rates being applied to the various strata. Let's assume three new facts about our disease:\n",
    "\n",
    "- Young people are twice as susceptible to infection\n",
    "- Old people die of the infectious disease at three times the baseline rate, while younger people die at half the rate (that is, old people die at six times the rate of young people)\n",
    "- Younger people take twice as long to recover\n",
    "\n",
    "These inter-strata differences can be modelled using flow adjustments. Now we'll see some genuinely new model dynamics. We'll also see that there are fewer recovered 'old' people at the end of the model run, because of their higher death rate."
   ]
  },
  {
   "cell_type": "code",
   "execution_count": null,
   "id": "seeing-referral",
   "metadata": {},
   "outputs": [],
   "source": [
    "# Re-create the stratification object\n",
    "age_strat = get_age_stratification()\n",
    "\n",
    "# Add an adjustment to the 'infection' flow\n",
    "age_strat.set_flow_adjustments(\n",
    "    \"infection\",\n",
    "    {\n",
    "        \"old\": None,  # No adjustment for old people, use baseline requested value\n",
    "        \"young\": 2.0,  # Young people are twice twice as susceptible to infection\n",
    "    },\n",
    ")\n",
    "\n",
    "# Add an adjustment to the 'infection_death' flow\n",
    "age_strat.set_flow_adjustments(\n",
    "    \"infection_death\",\n",
    "    {\n",
    "        \"old\": 3.0,  # Older people die at three times the rate requested under the original parameters\n",
    "        \"young\": 0.5,  # Younger people die at half the rate requested under the original parameters\n",
    "    },\n",
    ")\n",
    "\n",
    "# Add an adjustment to the 'recovery' flow\n",
    "age_strat.set_flow_adjustments(\n",
    "    \"recovery\",\n",
    "    {\n",
    "        \"old\": None,  # No adjustment for old people, use baseline\n",
    "        \"young\": 0.5,  # Young people take twice as long to recover\n",
    "    },\n",
    ")\n",
    "\n",
    "# Build and run model with the stratification we just defined\n",
    "adjusted_model = build_model_with_flows(user_params)\n",
    "adjusted_model.stratify_with(age_strat)"
   ]
  },
  {
   "cell_type": "markdown",
   "id": "8b927adc",
   "metadata": {},
   "source": [
    "**Homework:**\n",
    "1. Create a single data structure that represents the three disease dynamics discussed above.\n",
    "2. Write a function and/or 'for loop' which calls set_flow_adjustments with each disease dynamic."
   ]
  },
  {
   "cell_type": "code",
   "execution_count": null,
   "id": "110f0d63",
   "metadata": {},
   "outputs": [],
   "source": [
    "adjusted_model.run()\n",
    "outputs_df = adjusted_model.get_outputs_df()\n",
    "outputs_df.plot()"
   ]
  },
  {
   "cell_type": "markdown",
   "id": "driven-acquisition",
   "metadata": {},
   "source": [
    "## Infectiousness adjustments\n",
    "\n",
    "In addition to adjusting flow rates for each strata, we can also adjust the infectiousness of people with active infectious disease in a given strata. This affects how likely an infectious person in that stratum is to infect someone else. For example we could consider the following:\n",
    "\n",
    "- Young people are 1.2 times as infectious (perhaps because of the nature of the infectious disease or because they aren't using face masks as much)\n",
    "- Young people are twice as susceptible to the disease, because their immune system is relatively immature"
   ]
  },
  {
   "cell_type": "code",
   "execution_count": null,
   "id": "ultimate-notice",
   "metadata": {},
   "outputs": [],
   "source": [
    "# Create a stratification named\n",
    "age_strat = get_age_stratification()\n",
    "\n",
    "# Add an adjustment to the 'infection' flow\n",
    "age_strat.set_flow_adjustments(\n",
    "    \"infection\",\n",
    "    {\n",
    "        \"old\": None,  # No adjustment for old people, use baseline\n",
    "        \"young\": 2.0,  # Young people twice as susceptible\n",
    "    },\n",
    ")\n",
    "\n",
    "# Add an adjustment to infectiousness levels for young people in the 'I' compartment\n",
    "age_strat.add_infectiousness_adjustments(\n",
    "    \"I\",\n",
    "    {\n",
    "        \"old\": None,  # No adjustment for old people, use baseline\n",
    "        \"young\": 1.2,  # Young people 1.2 times more infectious\n",
    "    },\n",
    ")\n",
    "\n",
    "# Build and run model with the stratification we just defined\n",
    "infect_adjust_model = build_model_with_flows(user_params)\n",
    "infect_adjust_model.stratify_with(age_strat)"
   ]
  },
  {
   "cell_type": "code",
   "execution_count": null,
   "id": "5ee8ea55",
   "metadata": {},
   "outputs": [],
   "source": [
    "infect_adjust_model.run()\n",
    "outputs_df = infect_adjust_model.get_outputs_df()\n",
    "outputs_df.plot()"
   ]
  },
  {
   "cell_type": "markdown",
   "id": "solved-campus",
   "metadata": {},
   "source": [
    "## Partial stratifications\n",
    "\n",
    "So far we've been stratifying all compartments, but Summer allows only some of the compartments to be stratified. For example, we can stratify only the infectious compartment to model three different levels of disease severity: asymptomatic, mild and severe.\n",
    "\n",
    "When you do a partial stratification, flow rates into that stratified compartment will automatically be adjusted with an even split to conserve the behaviour by default, e.g. a flow rate of 3 from a source will be evenly split into (1, 1, 1) across the three destinations. This behaviour can be manually overriden with a flow adjustment."
   ]
  },
  {
   "cell_type": "code",
   "execution_count": null,
   "id": "juvenile-reduction",
   "metadata": {},
   "outputs": [],
   "source": [
    "# This time, we'll create a function right away\n",
    "\n",
    "def get_severity_strat() -> Stratification:\n",
    "    # Create a stratification named 'severity', applying to the infectious, which\n",
    "    # splits that compartment into 'asymptomatic', 'mild' and 'severe'.\n",
    "    severity_strata = [\"asymptomatic\", \"mild\", \"severe\"]\n",
    "\n",
    "    # Notice the new argument [\"I\"] for the compartment parameter.\n",
    "    severity_strat = Stratification(name=\"severity\", strata=severity_strata, compartments=[\"I\"])\n",
    "\n",
    "    # Set a population distribution - everyone starts out asymptomatic.\n",
    "    severity_strat.set_population_split({\"asymptomatic\": 1.0, \"mild\": 0, \"severe\": 0})\n",
    "    \n",
    "    return severity_strat\n",
    "\n",
    "# We need to call the function so we have a Stratification object to work with\n",
    "severity_strat = get_severity_strat()\n",
    "\n",
    "# Add an adjustment to the 'infection' flow, overriding default split.\n",
    "severity_strat.set_flow_adjustments(\n",
    "    \"progression\",\n",
    "    {\n",
    "        \"asymptomatic\": 0.3,  # 30% of incident cases are asymptomatic\n",
    "        \"mild\": 0.5,  # 50% of incident cases are mild\n",
    "        \"severe\": 0.2,  # 20% of incident cases are severe\n",
    "    },\n",
    ")\n",
    "\n",
    "# Add an adjustment to the 'infection_death' flow\n",
    "severity_strat.set_flow_adjustments(\n",
    "    \"infection_death\",\n",
    "    {\n",
    "        \"asymptomatic\": 0.5,\n",
    "        \"mild\": None,\n",
    "        \"severe\": 1.5,\n",
    "    },\n",
    ")\n",
    "\n",
    "severity_strat.add_infectiousness_adjustments(\n",
    "    \"I\",\n",
    "    {\n",
    "        \"asymptomatic\": 0.5,\n",
    "        \"mild\": None,\n",
    "        \"severe\": 1.5,\n",
    "    },\n",
    ")\n",
    "\n",
    "# Build and run model with the stratification we just defined\n",
    "partial_strat_model = build_model_with_flows(user_params)\n",
    "partial_strat_model.stratify_with(severity_strat)"
   ]
  },
  {
   "cell_type": "code",
   "execution_count": null,
   "id": "08e46eef",
   "metadata": {},
   "outputs": [],
   "source": [
    "partial_strat_model.run()\n",
    "outputs_df = infect_adjust_model.get_outputs_df()\n",
    "outputs_df.plot()"
   ]
  },
  {
   "cell_type": "markdown",
   "id": "external-imperial",
   "metadata": {},
   "source": [
    "## Multiple stratifications\n",
    "\n",
    "A model can have multiple stratifications applied in series. For example, we can add an 'age' stratification, followed by a 'severity' one."
   ]
  },
  {
   "cell_type": "code",
   "execution_count": null,
   "id": "practical-blink",
   "metadata": {},
   "outputs": [],
   "source": [
    "### Age stratification\n",
    "\n",
    "# Get the age stratification\n",
    "age_strat = get_age_stratification()\n",
    "\n",
    "# Add an adjustment to the 'infection' flow\n",
    "age_strat.set_flow_adjustments(\n",
    "    \"infection\",\n",
    "    {\n",
    "        \"old\": None,  # No adjustment for old people, use unstratified parameter value\n",
    "        \"young\": 2.0,  # Young people are twice as susceptible\n",
    "    },\n",
    ")\n",
    "\n",
    "# Add an adjustment to infectiousness levels for young people the 'I' compartment\n",
    "age_strat.add_infectiousness_adjustments(\n",
    "    \"I\",\n",
    "    {\n",
    "        \"old\": None,  # No adjustment for old people, use unstratified parameter value\n",
    "        \"young\": 1.2,  # Young people are 1.2x more infectious\n",
    "    },\n",
    ")\n",
    "\n",
    "\n",
    "### Disease severity stratification\n",
    "\n",
    "# Get our severity stratification using the previously defined function\n",
    "severity_strat = get_severity_strat()\n",
    "\n",
    "# Add an adjustment to the 'infection' flow (overriding the default split of one third to each stratum)\n",
    "severity_strat.set_flow_adjustments(\n",
    "    \"progression\",\n",
    "    {\n",
    "        \"asymptomatic\": 0.3,  # 30% of cases are asympt.\n",
    "        \"mild\": 0.5,  # 50% of cases are mild.\n",
    "        \"severe\": 0.2,  # 20% of cases are severse.\n",
    "    },\n",
    ")\n",
    "\n",
    "# Add an adjustment to the 'infection_death' flow\n",
    "severity_strat.set_flow_adjustments(\n",
    "    \"infection_death\",\n",
    "    {\n",
    "        \"asymptomatic\": 0.5,\n",
    "        \"mild\": None,\n",
    "        \"severe\": 1.5,\n",
    "    },\n",
    ")\n",
    "\n",
    "severity_strat.add_infectiousness_adjustments(\n",
    "    \"I\",\n",
    "    {\n",
    "        \"asymptomatic\": 0.5,\n",
    "        \"mild\": None,\n",
    "        \"severe\": 1.5,\n",
    "    },\n",
    ")\n",
    "\n",
    "\n",
    "# Build and run model with the stratifications we just defined\n",
    "multi_strat_model = build_model_with_flows(user_params)\n",
    "# Apply age, then severity stratifications\n",
    "multi_strat_model.stratify_with(age_strat)\n",
    "multi_strat_model.stratify_with(severity_strat)"
   ]
  },
  {
   "cell_type": "code",
   "execution_count": null,
   "id": "f869b91f",
   "metadata": {},
   "outputs": [],
   "source": [
    "multi_strat_model.run()\n",
    "outputs_df = infect_adjust_model.get_outputs_df()\n",
    "outputs_df.plot()"
   ]
  },
  {
   "cell_type": "markdown",
   "id": "honest-instrument",
   "metadata": {},
   "source": [
    "## Multiple interdependent stratifications\n",
    "\n",
    "In the previous example we assumed that the age and severity stratifications were independent. For example, we assumed that the proportion of infected people who have a disease severity of asymptomatic, mild and severe is the same for both young and old people. Perhaps, for a given disease, this is not true! it's easy to imagine an infection for which younger people tend towards being more asymptomatic, and older people tend towards having a more severe infection.\n",
    "\n",
    "This interdependency between stratifications can be modelled using Summer, where a flow adjustment for a stratification can selectively refer to strata used for previous stratifications. You can refer to the API reference for [set_flow_adjustments](http://summerepi.com/api/stratification.html#summer.stratification.Stratification.set_flow_adjustments) for more details.\n",
    "\n",
    "To clarify, let's consider the example described above:"
   ]
  },
  {
   "cell_type": "code",
   "execution_count": null,
   "id": "contained-discussion",
   "metadata": {},
   "outputs": [],
   "source": [
    "### Age stratification\n",
    "\n",
    "# Get the age stratification\n",
    "age_strat = get_age_stratification()\n",
    "\n",
    "### Disease severity stratification (depends on the age stratification)\n",
    "# Get the severity stratification\n",
    "severity_strat = get_severity_strat()\n",
    "\n",
    "# Add an adjustment to the 'progression' flow for young people\n",
    "# where younger people tend towards asymptomatic infection\n",
    "young_progression_adjustments = {\n",
    "    \"asymptomatic\": 0.5,  # 50% of cases are asympt.\n",
    "    \"mild\": 0.4,  # 40% of cases are mild.\n",
    "    \"severe\": 0.1,  # 10% of cases are severe.\n",
    "}\n",
    "\n",
    "severity_strat.set_flow_adjustments(\n",
    "    \"progression\",\n",
    "    young_progression_adjustments,\n",
    "    source_strata={\n",
    "        \"age\": \"young\"\n",
    "    },  # Only apply this adjustment to flows of young people\n",
    ")\n",
    "\n",
    "# Add an adjustment to the 'infection' flow for old people\n",
    "# where older people tend towards severe infection\n",
    "old_progression_adjustments = {\n",
    "    \"asymptomatic\": 0.1,  # 10% of cases are asympt.\n",
    "    \"mild\": 0.4,  # 40% of cases are mild.\n",
    "    \"severe\": 0.5,  # 50% of cases are severe.\n",
    "}\n",
    "\n",
    "severity_strat.set_flow_adjustments(\n",
    "    \"progression\",\n",
    "    old_progression_adjustments,\n",
    "    source_strata={\"age\": \"old\"},  # Only apply this adjustment to flows of old people\n",
    ")\n",
    "\n",
    "# Add an adjustment to the 'infection_death' flow (for all age groups)\n",
    "severity_strat.set_flow_adjustments(\n",
    "    \"infection_death\",\n",
    "    {\n",
    "        \"asymptomatic\": 0.5,\n",
    "        \"mild\": None,\n",
    "        \"severe\": 1.5,\n",
    "    },\n",
    ")\n",
    "\n",
    "# Adjust infectiousness levels (for all age groups)\n",
    "severity_strat.add_infectiousness_adjustments(\n",
    "    \"I\",\n",
    "    {\n",
    "        \"asymptomatic\": 0.5,\n",
    "        \"mild\": None,\n",
    "        \"severe\": 1.5,\n",
    "    },\n",
    ")\n",
    "\n",
    "\n",
    "# Build and run model with the stratifications we just defined\n",
    "interact_strat_model = build_model_with_flows(user_params)\n",
    "# Apply age, then severity stratifications\n",
    "interact_strat_model.stratify_with(age_strat)\n",
    "interact_strat_model.stratify_with(severity_strat)"
   ]
  },
  {
   "cell_type": "code",
   "execution_count": null,
   "id": "impressed-jamaica",
   "metadata": {},
   "outputs": [],
   "source": [
    "interact_strat_model.run()\n",
    "outputs_df = infect_adjust_model.get_outputs_df()\n",
    "outputs_df.plot()"
   ]
  }
 ],
 "metadata": {
  "kernelspec": {
   "display_name": "Python 3 (ipykernel)",
   "language": "python",
   "name": "python3"
  },
  "language_info": {
   "codemirror_mode": {
    "name": "ipython",
    "version": 3
   },
   "file_extension": ".py",
   "mimetype": "text/x-python",
   "name": "python",
   "nbconvert_exporter": "python",
   "pygments_lexer": "ipython3",
   "version": "3.10.3"
  },
  "vscode": {
   "interpreter": {
    "hash": "3382d9152740e983dde2d381031ee2f8a7c26cd3ea552b2ab6ab283df787f155"
   }
  }
 },
 "nbformat": 4,
 "nbformat_minor": 5
}
