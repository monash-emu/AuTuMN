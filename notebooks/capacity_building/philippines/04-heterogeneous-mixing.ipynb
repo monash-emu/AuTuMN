{
 "cells": [
  {
   "cell_type": "markdown",
   "id": "34b05122-44c8-4150-9b99-7d664de4a2e4",
   "metadata": {},
   "source": [
    "# Heterogeneous mixing\n",
    "\n",
    "By default, the Summer compartmental model assumes that each person in the model comes into contact with every other person at the same rate (homogeneous mixing). This assumption is preserved even after stratification has been applied (by default), such that the force of infection calculation will be the same for all model strata implemented. This notebook considers the incorporation of heterogeneous mixing patterns. For example, children may tend to interact more with other children than they do with elderly people (this is termed with-like or assortative mixing). When considering the impact of control strategies, especially strategies targeting sub groups of people, it is likely to be important to consider these differences in contact patterns.\n",
    "\n",
    "## Standard preliminaries\n",
    "Before we get into the code for heterogeneous mixing, let's start off with some of our standard (or \"boilerplate\") code to get everything set up."
   ]
  },
  {
   "cell_type": "code",
   "execution_count": null,
   "id": "f7a94437-96be-4a8d-aff8-8bda7c8850ea",
   "metadata": {},
   "outputs": [],
   "source": [
    "# If we are running in google colab, pip install the required packages, \n",
    "# but do not modify local environments\n",
    "try:\n",
    "  import google.colab\n",
    "  IN_COLAB = True\n",
    "  %pip install summerepi\n",
    "except:\n",
    "  IN_COLAB = False"
   ]
  },
  {
   "cell_type": "code",
   "execution_count": null,
   "id": "7b9cbce2-d605-4742-879c-77e6cb85d33e",
   "metadata": {},
   "outputs": [],
   "source": [
    "from typing import List, Union\n",
    "from datetime import datetime, timedelta\n",
    "import pandas as pd\n",
    "import numpy as np\n",
    "import plotly.express as px\n",
    "\n",
    "from summer import CompartmentalModel, Stratification\n",
    "\n",
    "pd.options.plotting.backend = \"plotly\"\n",
    "\n",
    "from import_phl_data import get_population_and_epi_data"
   ]
  },
  {
   "cell_type": "code",
   "execution_count": null,
   "id": "0ed2e031-7412-4a11-9747-c00ecaca44ee",
   "metadata": {},
   "outputs": [],
   "source": [
    "# The data import module lives in a file on AuTuMN github - download it for colab use\n",
    "if IN_COLAB:\n",
    "    !wget https://raw.githubusercontent.com/monash-emu/AuTuMN/master/notebooks/capacity_building/philippines/import_phl_data.py\n",
    "\n",
    "import import_phl_data"
   ]
  },
  {
   "cell_type": "code",
   "execution_count": null,
   "id": "9425b377-4197-4a8a-b59e-4c496e86a482",
   "metadata": {},
   "outputs": [],
   "source": [
    "# Shareable google drive links\n",
    "PHL_DOH_LINK = \"1fFKoNVan7PS6BpBr01nwByNTLLu6z1AA\"  # sheet 05 daily report.\n",
    "PHL_FASSSTER_LINK = \"15eDyTjXng2Zh38DVhmeNy0nQSqOMlGj3\" # Fassster google drive zip file.\n",
    "initial_population, df = get_population_and_epi_data(PHL_DOH_LINK, PHL_FASSSTER_LINK) \n",
    "\n",
    "# We define a day zero for the analysis\n",
    "COVID_BASE_DATE = datetime(2019, 12, 31)"
   ]
  },
  {
   "cell_type": "markdown",
   "id": "8f37c4be-9220-43d2-8583-84e88361630d",
   "metadata": {
    "tags": []
   },
   "source": [
    "## Getting mixing matrices"
   ]
  },
  {
   "cell_type": "code",
   "execution_count": null,
   "id": "fd91c7cc-2d36-4418-8ec6-65f2783cf30e",
   "metadata": {},
   "outputs": [],
   "source": [
    "simple_matrix = np.array([[1., 0.5], [0.5, 1.]])\n",
    "print(simple_matrix.shape)\n",
    "px.imshow(simple_matrix)"
   ]
  },
  {
   "cell_type": "markdown",
   "id": "674309be-4d1e-43d2-b9e1-233eac7a0589",
   "metadata": {},
   "source": [
    "Get a mixing matrix that we can use for the Philippines.\n",
    "This is not actually empiric data for the Philippines, but is what we have been using\n",
    "and has the right format."
   ]
  },
  {
   "cell_type": "code",
   "execution_count": null,
   "id": "386df93f-bc5e-4660-9e9a-f5ac12e76d7f",
   "metadata": {},
   "outputs": [],
   "source": [
    "# Get the mixing matrix for the Philippines - currently this is actually Malaysia\n",
    "if IN_COLAB:\n",
    "    !wget https://raw.githubusercontent.com/monash-emu/AuTuMN/master/notebooks/capacity_building/malaysia/MYS_matrices.pkl\n",
    "\n",
    "mixing_matrix = pd.read_pickle(\"MYS_matrices.pkl\", compression='infer')\n",
    "age_mixing_matrix = mixing_matrix[\"all_locations\"]"
   ]
  },
  {
   "cell_type": "code",
   "execution_count": null,
   "id": "f8045d37-10c7-4ed9-91ad-eff2a143e804",
   "metadata": {},
   "outputs": [],
   "source": [
    "# Let's have a look at the matrix using plotly express\n",
    "print(age_mixing_matrix.shape)\n",
    "px.imshow(age_mixing_matrix)"
   ]
  },
  {
   "cell_type": "markdown",
   "id": "1504befa-6ff8-4873-b5dd-3e2030a5f3f9",
   "metadata": {},
   "source": [
    "## Model\n",
    "\n",
    "### Define a model"
   ]
  },
  {
   "cell_type": "code",
   "execution_count": null,
   "id": "1ecdfa87-7a8f-40e3-9da7-7b6b0012cdaf",
   "metadata": {},
   "outputs": [],
   "source": [
    "def build_unstratified_model(base_compartments: List[str], parameters: dict) -> CompartmentalModel:\n",
    "    \"\"\"\n",
    "    Create a compartmental model, with the minimal compartmental structure needed to run and produce some sort of \n",
    "    meaningful outputs.\n",
    "    \n",
    "    Args:\n",
    "        base_compartments: The names of the base (unstratified compartments)\n",
    "        parameters: Flow parameters\n",
    "    Returns:\n",
    "        A compartmental model currently without age stratification applied\n",
    "    \"\"\"\n",
    "\n",
    "    model = CompartmentalModel(\n",
    "        times=(parameters[\"start_time\"], parameters[\"end_time\"]),\n",
    "        compartments=base_compartments,\n",
    "        infectious_compartments=[\"I\"],\n",
    "        ref_date=COVID_BASE_DATE\n",
    "    )\n",
    "\n",
    "    infectious_seed = parameters[\"infectious_seed\"]\n",
    "\n",
    "    model.set_initial_population(distribution={\"S\": initial_population - infectious_seed, \"E\": 0, \"I\": infectious_seed})\n",
    "    \n",
    "    # Susceptible people can get infected\n",
    "    model.add_infection_frequency_flow(\n",
    "        name=\"infection\", \n",
    "        contact_rate=parameters[\"contact_rate\"], \n",
    "        source=\"S\", \n",
    "        dest=\"E\"\n",
    "    )\n",
    "    # Expose people transition to infected\n",
    "    model.add_transition_flow(\n",
    "        name=\"progression\",\n",
    "        fractional_rate=parameters[\"progression_rate\"],\n",
    "        source=\"E\",\n",
    "        dest=\"I\",\n",
    "    )\n",
    "\n",
    "    # Infectious people recover\n",
    "    model.add_transition_flow(\n",
    "        name=\"recovery\",\n",
    "        fractional_rate=parameters[\"recovery_rate\"],\n",
    "        source=\"I\",\n",
    "        dest=\"R\",\n",
    "    )\n",
    "\n",
    "    # Add an infection-specific death flow to the I compartment\n",
    "    model.add_death_flow(name=\"infection_death\", death_rate=parameters[\"death_rate\"], source=\"I\")\n",
    "\n",
    "    # We will also request an output for the 'progression' flow\n",
    "    model.request_output_for_flow(\"progressions\", \"progression\")\n",
    "\n",
    "    return model"
   ]
  },
  {
   "cell_type": "markdown",
   "id": "1978a236-5b7b-45d9-a9d0-29a3871dd37b",
   "metadata": {},
   "source": [
    "### Age stratification process"
   ]
  },
  {
   "cell_type": "code",
   "execution_count": null,
   "id": "a16f5075-3a08-4e05-8bfc-d28e01830805",
   "metadata": {},
   "outputs": [],
   "source": [
    "def get_age_stratification(\n",
    "    compartments_to_stratify: List[str], \n",
    "    strata: List[str],\n",
    "    matrix: Union[np.ndarray, callable],\n",
    ") -> Stratification:\n",
    "    \"\"\"\n",
    "    Create a summer stratification object that stratifies all of the compartments into\n",
    "    strata, which are intended to represent age bands according to the user inputs.\n",
    "    This is essentially adapting the model's age stratification approach to the format\n",
    "    of the mixing matrix, which is a reasonable approach.\n",
    "    \n",
    "    Args:\n",
    "        compartments_to_stratify: List of the compartments to stratify, which should be all the compartments\n",
    "        strata: The strata to be implemented in the age stratification\n",
    "        matrix: The mixing matrix we are applying for the age structure\n",
    "    Returns:\n",
    "        A summer stratification object to represent age stratification (not yet applied)\n",
    "    \"\"\"\n",
    "    \n",
    "    if isinstance(matrix, np.ndarray):\n",
    "        msg = \"Mixing matrix is not 2-dimensional\"\n",
    "        assert matrix.ndim == 2, msg\n",
    "\n",
    "        msg = f\"Dimensions of the mixing matrix incorrect: {matrix.shape[0]}, {matrix.shape[1]}, {len(strata)}\"\n",
    "        assert matrix.shape[0] == matrix.shape[1] == len(strata), msg\n",
    "    \n",
    "    # Create the stratification, just naming the age groups by their starting value\n",
    "    strat = Stratification(name=\"age\", strata=strata, compartments=compartments_to_stratify)\n",
    "    \n",
    "    # Add the mixing matrix to the stratification\n",
    "    strat.set_mixing_matrix(matrix)\n",
    "\n",
    "    return strat"
   ]
  },
  {
   "cell_type": "markdown",
   "id": "d8917ddc-717a-433a-b035-fdf4df6fbea4",
   "metadata": {},
   "source": [
    "### Combine the two processes together"
   ]
  },
  {
   "cell_type": "code",
   "execution_count": null,
   "id": "704f4ac6-c73c-4439-b715-96340c22b062",
   "metadata": {},
   "outputs": [],
   "source": [
    "def build_stratified_model(\n",
    "    base_compartments: List[str], \n",
    "    parameters: dict,\n",
    "    strata: List[str],\n",
    "    age_mixing_matrix: np.ndarray,\n",
    ") -> CompartmentalModel:\n",
    "    \"\"\"\n",
    "    Get the model object with the age stratification with heterogeneous\n",
    "    mixing applied to it.\n",
    "    \n",
    "    Arguments:\n",
    "        base_compartments: The names of the compartments to be implemented\n",
    "        parameters: A dictionary containing the parameter values to use\n",
    "        strata: The strata to be implemented in the age stratification\n",
    "        age_mixing_matrix: \n",
    "        \n",
    "    Returns:\n",
    "        The model object        \n",
    "    \"\"\"\n",
    "    \n",
    "    # Get an unstratified model object\n",
    "    model = build_unstratified_model(base_compartments, parameters)\n",
    "\n",
    "    # Get and apply the stratification\n",
    "    age_strat = get_age_stratification(base_compartments, strata, age_mixing_matrix)\n",
    "    model.stratify_with(age_strat)\n",
    "\n",
    "    return model"
   ]
  },
  {
   "cell_type": "markdown",
   "id": "2045ed53-2a78-42bd-9cb2-268f1d5b9297",
   "metadata": {},
   "source": [
    "### Actually run the models"
   ]
  },
  {
   "cell_type": "code",
   "execution_count": null,
   "id": "03bceb74-3f63-4051-a675-eb0984b15524",
   "metadata": {},
   "outputs": [],
   "source": [
    "# Build and run the stratified model with some arbitrary parameters\n",
    "analysis_start_date = datetime(2021,1,1)\n",
    "analysis_end_date = analysis_start_date + timedelta(days=300.)\n",
    "start_date_int = (analysis_start_date - COVID_BASE_DATE).days\n",
    "end_date_int = (analysis_end_date - COVID_BASE_DATE).days\n",
    "\n",
    "simple_age_params = {\n",
    "    \"contact_rate\": 0.5,\n",
    "    \"progression_rate\": 0.2,\n",
    "    \"recovery_rate\": 0.2,\n",
    "    \"death_rate\": 0.,\n",
    "    \"reporting_fraction\": 0.02,\n",
    "    \"start_time\": start_date_int,\n",
    "    \"end_time\": end_date_int,\n",
    "    \"infectious_seed\": 100.,\n",
    "}\n",
    "\n",
    "base_compartments = [\"S\", \"E\", \"I\", \"R\"]\n",
    "strata = [\"child\", \"adult\"]\n",
    "\n",
    "simple_age_strat_model = build_stratified_model(base_compartments, simple_age_params, strata, simple_matrix)"
   ]
  },
  {
   "cell_type": "code",
   "execution_count": null,
   "id": "e4506199-bb25-42da-bb4e-98a7b88a7fe8",
   "metadata": {},
   "outputs": [],
   "source": [
    "simple_age_strat_model.run()\n",
    "\n",
    "progressions = simple_age_strat_model.get_derived_outputs_df()[\"progressions\"]\n",
    "simple_cases_modelled = progressions * simple_age_params[\"reporting_fraction\"]\n",
    "\n",
    "pd.DataFrame(\n",
    "    {\n",
    "        \"observed\": df[\"cases\"],\n",
    "        \"modelled\": simple_cases_modelled,\n",
    "    }\n",
    ").plot(title=\"Uncalibrated first run\")"
   ]
  },
  {
   "cell_type": "markdown",
   "id": "b20b360e-10f8-4bd9-a84a-99776a7ebddb",
   "metadata": {},
   "source": [
    "## Manual calibration to notifications"
   ]
  },
  {
   "cell_type": "code",
   "execution_count": null,
   "id": "7e0ffbae-dd17-4267-8feb-f508ddcfc791",
   "metadata": {},
   "outputs": [],
   "source": [
    "# Define a set of parameters for this run\n",
    "full_age_params = {\n",
    "        \"contact_rate\": 0.05,\n",
    "        \"progression_rate\": 0.2,\n",
    "        \"recovery_rate\": 0.2,\n",
    "        \"death_rate\": 0.01,\n",
    "        \"reporting_fraction\": 0.095,\n",
    "        \"start_time\": start_date_int,\n",
    "        \"end_time\": end_date_int,\n",
    "        \"infectious_seed\": 100.\n",
    "    }\n",
    "\n",
    "strata = [str(i) for i in range(0, 80, 5)]\n",
    "\n",
    "# Run using our custom parameters (recycling the base compartments list from earlier)\n",
    "full_age_strat_model = build_stratified_model(base_compartments, full_age_params, strata, age_mixing_matrix)\n",
    "full_age_strat_model.run()\n",
    "\n",
    "# Get the outputs\n",
    "progressions = full_age_strat_model.get_derived_outputs_df()[\"progressions\"]\n",
    "notifications_modelled = progressions * full_age_params[\"reporting_fraction\"]\n",
    "\n",
    "pd.DataFrame(\n",
    "    {\n",
    "        \"observed\": df[\"cases\"],\n",
    "        \"modelled\": notifications_modelled\n",
    "    }\n",
    ").plot()"
   ]
  },
  {
   "cell_type": "markdown",
   "id": "8d95aab0-a028-46df-86df-3ea6ce902e94",
   "metadata": {},
   "source": [
    "## Scenario analysis"
   ]
  },
  {
   "cell_type": "code",
   "execution_count": null,
   "id": "c0d5f197-42ad-43ca-bb1b-f389da90a324",
   "metadata": {},
   "outputs": [],
   "source": [
    "def get_step_matrix(time, computed_values):\n",
    "    \"\"\"\n",
    "    Rather than getting a numpy array,\n",
    "    use a function that returns an array,\n",
    "    which is also permissible in summer.\n",
    "    \n",
    "    Args:\n",
    "        These are standard arguments that must be used for mixing matrices that vary over time\n",
    "    Return:\n",
    "        The mixing matrix at the time of interest\n",
    "    \"\"\"\n",
    "    \n",
    "    if time < 435:\n",
    "        return simple_matrix\n",
    "    else:\n",
    "        return np.zeros_like(simple_matrix)"
   ]
  },
  {
   "cell_type": "code",
   "execution_count": null,
   "id": "263d50f7-f8fe-49bd-9efd-e5fc26c3323e",
   "metadata": {},
   "outputs": [],
   "source": [
    "# Define the model running period and convert to a numeric representation\n",
    "step_matrix_model = build_stratified_model(base_compartments, simple_age_params, [\"child\", \"adult\"], get_step_matrix)"
   ]
  },
  {
   "cell_type": "code",
   "execution_count": null,
   "id": "aa72f529-093a-458d-bf09-cb04524aad30",
   "metadata": {},
   "outputs": [],
   "source": [
    "step_matrix_model.run()\n",
    "\n",
    "progressions = step_matrix_model.get_derived_outputs_df()[\"progressions\"]\n",
    "notifications_modelled = progressions * simple_age_params[\"reporting_fraction\"]\n",
    "\n",
    "pd.DataFrame(\n",
    "    {\n",
    "        \"observed\": df[\"cases\"],\n",
    "        \"baseline\": simple_cases_modelled,\n",
    "        \"scenario\": notifications_modelled,\n",
    "    }\n",
    ").plot()"
   ]
  }
 ],
 "metadata": {
  "kernelspec": {
   "display_name": "Python 3 (ipykernel)",
   "language": "python",
   "name": "python3"
  },
  "language_info": {
   "codemirror_mode": {
    "name": "ipython",
    "version": 3
   },
   "file_extension": ".py",
   "mimetype": "text/x-python",
   "name": "python",
   "nbconvert_exporter": "python",
   "pygments_lexer": "ipython3",
   "version": "3.10.3"
  }
 },
 "nbformat": 4,
 "nbformat_minor": 5
}
