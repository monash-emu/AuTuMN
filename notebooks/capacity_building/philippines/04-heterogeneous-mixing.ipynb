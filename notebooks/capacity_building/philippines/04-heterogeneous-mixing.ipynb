{
 "cells": [
  {
   "cell_type": "markdown",
   "id": "34b05122-44c8-4150-9b99-7d664de4a2e4",
   "metadata": {},
   "source": [
    "# Heterogeneous mixing\n",
    "\n",
    "By default, the Summer compartmental model assumes that each person in the model comes into contact with every other person at the same rate (homogeneous mixing). This assumption is preserved even after stratification has been applied (by default), such that the force of infection calculation will be the same for all model strata implemented. This notebook considers the incorporation of heterogeneous mixing patterns. For example, children may tend to interact more with other children than they do with elderly people (this is termed with-like or assortative mixing). When considering the impact of control strategies, especially strategies targeting sub groups of people, it is likely to be important to consider these differences in contact patterns.\n",
    "\n",
    "## Standard preliminaries\n",
    "Before we get into the code for heterogeneous mixing, let's start off with some of our standard (or \"boilerplate\") code to get everything set up."
   ]
  },
  {
   "cell_type": "code",
   "execution_count": null,
   "id": "f7a94437-96be-4a8d-aff8-8bda7c8850ea",
   "metadata": {},
   "outputs": [],
   "source": [
    "# If we are running in google colab, pip install the required packages, \n",
    "# but do not modify local environments\n",
    "try:\n",
    "  import google.colab\n",
    "  IN_COLAB = True\n",
    "  %pip install summerepi\n",
    "except:\n",
    "  IN_COLAB = False"
   ]
  },
  {
   "cell_type": "code",
   "execution_count": null,
   "id": "7b9cbce2-d605-4742-879c-77e6cb85d33e",
   "metadata": {},
   "outputs": [],
   "source": [
    "from datetime import datetime, timedelta\n",
    "import pandas as pd\n",
    "import numpy as np\n",
    "import plotly.express as px\n",
    "\n",
    "from summer import CompartmentalModel\n",
    "\n",
    "pd.options.plotting.backend = \"plotly\""
   ]
  },
  {
   "cell_type": "code",
   "execution_count": null,
   "id": "0ed2e031-7412-4a11-9747-c00ecaca44ee",
   "metadata": {},
   "outputs": [],
   "source": [
    "# The data import module lives in a file on AuTuMN github - download it for colab use\n",
    "if IN_COLAB:\n",
    "    !wget https://raw.githubusercontent.com/monash-emu/AuTuMN/master/notebooks/capacity_building/philippines/import_phl_data.py\n",
    "\n",
    "import import_phl_data"
   ]
  },
  {
   "cell_type": "code",
   "execution_count": null,
   "id": "9425b377-4197-4a8a-b59e-4c496e86a482",
   "metadata": {},
   "outputs": [],
   "source": [
    "from import_phl_data import get_population_and_epi_data\n",
    "\n",
    "analysis_start_date = datetime(2021,1,1)  # Define the start date\n",
    "analysis_end_date = analysis_start_date + timedelta(days=300)  # Define the duration\n",
    "\n",
    "# Shareable google drive links\n",
    "PHL_DOH_LINK = \"1fFKoNVan7PS6BpBr01nwByNTLLu6z1AA\"  # sheet 05 daily report.\n",
    "PHL_FASSSTER_LINK = \"15eDyTjXng2Zh38DVhmeNy0nQSqOMlGj3\" # Fassster google drive zip file.\n",
    "initial_population, df = get_population_and_epi_data(PHL_DOH_LINK, PHL_FASSSTER_LINK) \n",
    "notifications_target = df[analysis_start_date: analysis_end_date][\"cases\"]  # Could be used as calibration target later\n",
    "\n",
    "# We define a day zero for the analysis.\n",
    "COVID_BASE_DATE = datetime(2019, 12, 31)\n",
    "\n",
    "# Integer representation of the start and end dates.\n",
    "start_date_int = (analysis_start_date - COVID_BASE_DATE).days\n",
    "end_date_int = (analysis_end_date - COVID_BASE_DATE).days"
   ]
  },
  {
   "cell_type": "code",
   "execution_count": null,
   "id": "77e2f7a1-970f-4856-a33e-209a4ec959ab",
   "metadata": {},
   "outputs": [],
   "source": [
    "initial_population"
   ]
  },
  {
   "cell_type": "markdown",
   "id": "8f37c4be-9220-43d2-8583-84e88361630d",
   "metadata": {
    "tags": []
   },
   "source": [
    "## Getting mixing matrices"
   ]
  },
  {
   "cell_type": "code",
   "execution_count": null,
   "id": "fd91c7cc-2d36-4418-8ec6-65f2783cf30e",
   "metadata": {},
   "outputs": [],
   "source": [
    "simple_matrix = np.array([[1., 0.5], [0.5, 1.]])\n",
    "print(simple_matrix.shape)\n",
    "px.imshow(simple_matrix)"
   ]
  },
  {
   "cell_type": "markdown",
   "id": "674309be-4d1e-43d2-b9e1-233eac7a0589",
   "metadata": {},
   "source": [
    "Get a mixing matrix that we can use for Malaysia.\n",
    "This is not actually empiric data for Malaysia, but is what we have been using\n",
    "and has the right format."
   ]
  },
  {
   "cell_type": "code",
   "execution_count": null,
   "id": "386df93f-bc5e-4660-9e9a-f5ac12e76d7f",
   "metadata": {},
   "outputs": [],
   "source": [
    "# Get the mixing matrix for Malaysia\n",
    "if IN_COLAB:\n",
    "    !wget https://raw.githubusercontent.com/monash-emu/AuTuMN/master/notebooks/capacity_building/malaysia/MYS_matrices.pkl\n",
    "\n",
    "mixing_matrix = pd.read_pickle(\"MYS_matrices.pkl\", compression='infer')\n",
    "age_mixing_matrix = mixing_matrix[\"all_locations\"]"
   ]
  },
  {
   "cell_type": "code",
   "execution_count": null,
   "id": "f8045d37-10c7-4ed9-91ad-eff2a143e804",
   "metadata": {},
   "outputs": [],
   "source": [
    "# Let's have a look at the matrix using plotly express\n",
    "print(age_mixing_matrix.shape)\n",
    "px.imshow(age_mixing_matrix)"
   ]
  }
 ],
 "metadata": {
  "kernelspec": {
   "display_name": "Python 3 (ipykernel)",
   "language": "python",
   "name": "python3"
  },
  "language_info": {
   "codemirror_mode": {
    "name": "ipython",
    "version": 3
   },
   "file_extension": ".py",
   "mimetype": "text/x-python",
   "name": "python",
   "nbconvert_exporter": "python",
   "pygments_lexer": "ipython3",
   "version": "3.10.3"
  }
 },
 "nbformat": 4,
 "nbformat_minor": 5
}
