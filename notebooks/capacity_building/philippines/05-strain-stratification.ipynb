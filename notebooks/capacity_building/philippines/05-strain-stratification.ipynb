{
 "cells": [
  {
   "cell_type": "code",
   "execution_count": null,
   "id": "e189260d",
   "metadata": {},
   "outputs": [],
   "source": [
    "# pip install the required packages if running in Colab\n",
    "try:\n",
    "  import google.colab\n",
    "  IN_COLAB = True\n",
    "  %pip install summerepi\n",
    "except:\n",
    "  IN_COLAB = False"
   ]
  },
  {
   "cell_type": "code",
   "execution_count": null,
   "id": "31129ad4",
   "metadata": {},
   "outputs": [],
   "source": [
    "# Standard imports, plotting option and constant definition\n",
    "from datetime import datetime, timedelta\n",
    "from typing import List, Union\n",
    "import pandas as pd\n",
    "import plotly.express as px\n",
    "import numpy as np\n",
    "\n",
    "from summer import CompartmentalModel\n",
    "from summer import Stratification\n",
    "\n",
    "pd.options.plotting.backend = \"plotly\"\n",
    "\n",
    "COVID_BASE_DATE = datetime(2019, 12, 31)"
   ]
  },
  {
   "cell_type": "code",
   "execution_count": null,
   "id": "0ed2e031-7412-4a11-9747-c00ecaca44ee",
   "metadata": {},
   "outputs": [],
   "source": [
    "# The data import module lives in a file on AuTuMN github - download it for colab use\n",
    "if IN_COLAB:\n",
    "    !wget https://raw.githubusercontent.com/monash-emu/AuTuMN/master/notebooks/capacity_building/philippines/import_phl_data.py\n",
    "\n",
    "import import_phl_data\n",
    "from import_phl_data import get_population_and_epi_data"
   ]
  },
  {
   "cell_type": "code",
   "execution_count": null,
   "id": "9425b377-4197-4a8a-b59e-4c496e86a482",
   "metadata": {},
   "outputs": [],
   "source": [
    "# Shareable google drive links\n",
    "PHL_DOH_LINK = \"1fFKoNVan7PS6BpBr01nwByNTLLu6z1AA\"  # sheet 05 daily report.\n",
    "PHL_FASSSTER_LINK = \"15eDyTjXng2Zh38DVhmeNy0nQSqOMlGj3\" # Fassster google drive zip file.\n",
    "\n",
    "# FIXME: The function below is broken\n",
    "initial_population, df = get_population_and_epi_data(PHL_DOH_LINK, PHL_FASSSTER_LINK) \n",
    "\n",
    "# We define a day zero for the analysis\n",
    "COVID_BASE_DATE = datetime(2019, 12, 31)"
   ]
  },
  {
   "cell_type": "code",
   "execution_count": null,
   "id": "05cb8aab",
   "metadata": {},
   "outputs": [],
   "source": [
    "# Define the model running period and convert to a numeric representation\n",
    "start_date = datetime(2021, 1, 30)\n",
    "end_date = start_date + timedelta(days=300)\n",
    "start_date_int = (start_date - COVID_BASE_DATE).days\n",
    "end_date_int = (end_date - COVID_BASE_DATE).days"
   ]
  },
  {
   "cell_type": "code",
   "execution_count": null,
   "id": "0e37b984",
   "metadata": {},
   "outputs": [],
   "source": [
    "# Define a target set of observations to compare against our modelled outputs later\n",
    "notifications_target = df[start_date: end_date][\"cases\"]"
   ]
  },
  {
   "cell_type": "markdown",
   "id": "f492ad5d",
   "metadata": {},
   "source": [
    "# Model\n",
    "## Define a model"
   ]
  },
  {
   "cell_type": "code",
   "execution_count": null,
   "id": "a0e0dc54",
   "metadata": {},
   "outputs": [],
   "source": [
    "def build_unstratified_model(parameters: dict) -> CompartmentalModel:\n",
    "    \"\"\"\n",
    "    Create a compartmental model, with the minimal compartmental structure needed to run and produce some sort of \n",
    "    meaningful outputs.\n",
    "    \n",
    "    Args:\n",
    "        parameters: Flow parameters\n",
    "    Returns:\n",
    "        A compartmental model currently without stratification applied\n",
    "    \"\"\"\n",
    "\n",
    "    model = CompartmentalModel(\n",
    "        times=(parameters[\"start_time\"], parameters[\"end_time\"]),\n",
    "        compartments=[\"S\", \"E\", \"I\", \"R\"],\n",
    "        infectious_compartments=[\"I\"],\n",
    "        ref_date=COVID_BASE_DATE\n",
    "    )\n",
    "\n",
    "    infectious_seed = parameters[\"infectious_seed\"]\n",
    "\n",
    "    model.set_initial_population(distribution={\"S\": initial_population - infectious_seed, \"E\": 0, \"I\": infectious_seed})\n",
    "    \n",
    "    # Susceptible people can get infected\n",
    "    model.add_infection_frequency_flow(\n",
    "        name=\"infection\", \n",
    "        contact_rate=parameters[\"contact_rate\"], \n",
    "        source=\"S\", \n",
    "        dest=\"E\"\n",
    "    )\n",
    "    # Expose people transition to infected\n",
    "    model.add_transition_flow(\n",
    "        name=\"progression\",\n",
    "        fractional_rate=parameters[\"progression_rate\"],\n",
    "        source=\"E\",\n",
    "        dest=\"I\",\n",
    "    )\n",
    "\n",
    "    # Infectious people recover\n",
    "    model.add_transition_flow(\n",
    "        name=\"recovery\",\n",
    "        fractional_rate=parameters[\"recovery_rate\"],\n",
    "        source=\"I\",\n",
    "        dest=\"R\",\n",
    "    )\n",
    "\n",
    "    # Add an infection-specific death flow to the I compartment\n",
    "    model.add_death_flow(name=\"infection_death\", death_rate=parameters[\"death_rate\"], source=\"I\")\n",
    "\n",
    "\n",
    "    # We will also request an output for the 'progression' flow\n",
    "    model.request_output_for_flow(\"progressions\", \"progression\")\n",
    "\n",
    "    # Finally, we request an output for the notifications, assumed to be a fraction of the 'progression' flow\n",
    "    model.request_function_output(\n",
    "        name=\"notifications\", \n",
    "        func=lambda x: x * parameters['reporting_fraction'],\n",
    "        sources=[\"progressions\"]\n",
    "    )\n",
    "\n",
    "    return model"
   ]
  },
  {
   "cell_type": "markdown",
   "id": "f610e757",
   "metadata": {},
   "source": [
    "# Strain stratification\n",
    "\n",
    "We aim to capture two different viral strains with our model: the wild-type strain and a newly emerging variant. \n",
    "\n",
    "The new variant may have a different level of transmissibility and could be associated with a different risk of death, compared to the ancestral strain. We want to capture these differences with our model using a strain stratification."
   ]
  },
  {
   "cell_type": "code",
   "execution_count": null,
   "id": "ec930840",
   "metadata": {},
   "outputs": [],
   "source": [
    "from summer import StrainStratification\n",
    "def get_strain_stratification(\n",
    "    compartments_to_stratify: List[str], \n",
    "    voc_params: dict\n",
    ") -> Stratification:\n",
    "    \"\"\"\n",
    "    Create a summer stratification object that stratifies compartments into\n",
    "    strata, which are intended to represent infectious disease strains.\n",
    "    \n",
    "    Args:\n",
    "        compartments_to_stratify: List of the compartments to stratify\n",
    "        voc_params: A dictionary which speicifies the infectiousness and severity of strains\n",
    "    Returns:\n",
    "        A summer stratification object to represent strain stratification (not yet applied)\n",
    "    \"\"\"\n",
    "    strata = [\"wild\", \"variant\"]\n",
    "    strat = StrainStratification(name=\"strain\", strata=strata, compartments=compartments_to_stratify)\n",
    "\n",
    "    # At the start of the simulation, a certain proportion of infected people have the variant strain.\n",
    "    strat.set_population_split({'wild': 1. - voc_params[\"variant_start_prop\"], 'variant': voc_params[\"variant_start_prop\"]})\n",
    "\n",
    "    # Adjusting the death risk associated with the new variant\n",
    "    strat.set_flow_adjustments(\"infection_death\", {\n",
    "        \"wild\": None,\n",
    "        \"variant\": voc_params[\"variant_rel_ifr\"],\n",
    "    })\n",
    "\n",
    "    # Adjusting the transmissibility of the new variant.\n",
    "    strat.set_flow_adjustments(\"infection\", {\n",
    "        \"wild\": None,\n",
    "        \"variant\": voc_params[\"variant_rel_transmissibility\"],\n",
    "    })\n",
    "\n",
    "\n",
    "    # Adjusting the progression rate of the new variant.\n",
    "    strat.set_flow_adjustments(\"progression\", {\n",
    "        \"wild\": None,\n",
    "        \"variant\": voc_params[\"variant_rel_progression\"],\n",
    "    })\n",
    "    \n",
    "    return strat"
   ]
  },
  {
   "cell_type": "markdown",
   "id": "0b85a188",
   "metadata": {},
   "source": [
    "### Combine the two processes together"
   ]
  },
  {
   "cell_type": "code",
   "execution_count": null,
   "id": "387ba2fc",
   "metadata": {},
   "outputs": [],
   "source": [
    "def build_strain_stratified_model(\n",
    "    parameters: dict,\n",
    "    compartments_to_stratify:List[str],\n",
    "    voc_params: dict\n",
    ") -> CompartmentalModel:\n",
    "    \"\"\"\n",
    "    Get the model object with the strain stratification applied to it.\n",
    "    \n",
    "    Arguments:\n",
    "        parameters: A dictionary containing the parameter values to use\n",
    "        compartments_to_stratify: A list of compartments to which the stratification is applied\n",
    "        voc_params: A dictionary which speicifies the infectiousness and lethality of the variant \n",
    "    Returns:\n",
    "        The model object        \n",
    "    \"\"\"\n",
    "    \n",
    "    # Get an unstratified model object\n",
    "    model = build_unstratified_model(parameters)\n",
    "\n",
    "    # Get and apply the stratification\n",
    "    strain_strat = get_strain_stratification(compartments_to_stratify, voc_params)\n",
    "    model.stratify_with(strain_strat)\n",
    "\n",
    "    # Track proporiton of new variant among incident cases\n",
    "    model.request_output_for_flow(\"variant_progressions\", \"progression\", dest_strata={'strain': \"variant\"})\n",
    "    model.request_function_output(\n",
    "        \"prop_variant\",\n",
    "        func=lambda v_progress, total_progress: v_progress / total_progress,\n",
    "        sources=[\"variant_progressions\", \"progressions\"]\n",
    "    )\n",
    "\n",
    "    return model"
   ]
  },
  {
   "cell_type": "markdown",
   "id": "6edbc58e",
   "metadata": {},
   "source": [
    "### Actually run the models"
   ]
  },
  {
   "cell_type": "code",
   "execution_count": null,
   "id": "0fbf7e0a",
   "metadata": {},
   "outputs": [],
   "source": [
    "# Build and run the stratified model with some arbitrary parameters\n",
    "general_params = {\n",
    "    \"contact_rate\": 0.2,\n",
    "    \"progression_rate\": 0.2,\n",
    "    \"recovery_rate\": 0.2,\n",
    "    \"death_rate\": 0.,\n",
    "    \"reporting_fraction\": 0.10,\n",
    "    \"start_time\": start_date_int,\n",
    "    \"end_time\": end_date_int,\n",
    "    \"infectious_seed\": 100.\n",
    "}\n",
    "\n",
    "voc_params = {\n",
    "    \"variant_start_prop\": .1,\n",
    "    \"variant_rel_ifr\": 1.2,\n",
    "    \"variant_rel_transmissibility\": 2.,\n",
    "    \"variant_rel_progression\": .5\n",
    "}\n",
    "\n",
    "compartments_to_stratify = [\"E\", \"I\", \"R\"]\n",
    "strain_strat_model = build_strain_stratified_model(general_params, compartments_to_stratify, voc_params)"
   ]
  },
  {
   "cell_type": "code",
   "execution_count": null,
   "id": "e5c1dde2",
   "metadata": {},
   "outputs": [],
   "source": [
    "strain_strat_model.run()\n",
    "\n",
    "notifications = strain_strat_model.get_derived_outputs_df()[\"notifications\"]\n",
    "\n",
    "pd.DataFrame(\n",
    "    {\n",
    "        \"observed\": notifications_target,\n",
    "        \"notifications\": notifications\n",
    "    }\n",
    ").plot()"
   ]
  },
  {
   "cell_type": "markdown",
   "id": "19df1487",
   "metadata": {},
   "source": [
    "### Visualise the proportion of new variant among incident cases"
   ]
  },
  {
   "cell_type": "code",
   "execution_count": null,
   "id": "fb2e6736",
   "metadata": {},
   "outputs": [],
   "source": [
    "strain_strat_model.get_derived_outputs_df()[\"prop_variant\"].plot()"
   ]
  },
  {
   "cell_type": "markdown",
   "id": "4de06da8",
   "metadata": {},
   "source": [
    "# Having two strains present from the beginning may not be realistic...\n",
    "\n",
    "We may want to have the wild-type virus only when we start the model and the new variant emerging later. To do this, we will use the existing strain stratified model with variant_start_prop = 0. However, we will need to add an extra feature to the model to simulate the new variant's emergence... Let's use an importation flow to seed infections with the new variant."
   ]
  },
  {
   "cell_type": "code",
   "execution_count": null,
   "id": "f2a91c1b",
   "metadata": {},
   "outputs": [],
   "source": [
    "def build_strain_strat_model_with_seeding(\n",
    "    parameters: dict,\n",
    "    compartments_to_stratify:List[str],\n",
    "    voc_params: dict\n",
    ") -> CompartmentalModel:\n",
    "    \"\"\"\n",
    "    Get the model object with the strain stratification applied to it and using variant infections seeding after model start time.\n",
    "    \n",
    "    Arguments:\n",
    "        parameters: A dictionary containing the parameter values to use\n",
    "        strata: The strata to be implemented in the strain stratification\n",
    "        compartments_to_stratify: A list of compartments to which the stratification is applied\n",
    "        voc_params: A dictionary which speicifies the infectiousness and lethality of the variant as well as its emergence time.\n",
    "    Returns:\n",
    "        The model object        \n",
    "    \"\"\"\n",
    "    # Build a strain stratified model using the previousy created function\n",
    "    model = build_strain_stratified_model(parameters, compartments_to_stratify, voc_params)\n",
    "\n",
    "    # Create a time-variant infection seeding function for the new variant\n",
    "    def variant_seeding_rate(time, computed_values):\n",
    "        if voc_params[\"variant_emergence_time\"] <= time <= voc_params[\"variant_emergence_time\"] + 10.:\n",
    "            return 100.\n",
    "        else:\n",
    "            return 0.\n",
    "\n",
    "    # Add an importation flow to seed infections with the new variant\n",
    "    model.add_importation_flow(\n",
    "        name=\"variant_imports\", \n",
    "        num_imported=variant_seeding_rate, \n",
    "        dest=\"I\", \n",
    "        dest_strata={\"strain\": \"variant\"},\n",
    "        split_imports=True  # if multiple destination compartments, should we split num_imported between them or should we replicate this number.\n",
    "    )\n",
    "\n",
    "    return model"
   ]
  },
  {
   "cell_type": "code",
   "execution_count": null,
   "id": "faca286a",
   "metadata": {},
   "outputs": [],
   "source": [
    "# Build and run the stratified model with some arbitrary parameters\n",
    "general_params = {\n",
    "    \"contact_rate\": 0.3,\n",
    "    \"progression_rate\": 0.4,\n",
    "    \"recovery_rate\": 0.2,\n",
    "    \"death_rate\": 0.,\n",
    "    \"reporting_fraction\": 0.04,\n",
    "    \"start_time\": start_date_int,\n",
    "    \"end_time\": end_date_int,\n",
    "    \"infectious_seed\": 5000.\n",
    "}\n",
    "\n",
    "voc_params = {\n",
    "    \"variant_start_prop\": 0.,\n",
    "    \"variant_rel_ifr\": 1.2,\n",
    "    \"variant_rel_transmissibility\": 3.,\n",
    "    \"variant_rel_progression\": .5,\n",
    "    \"variant_emergence_time\": 500\n",
    "}\n",
    "\n",
    "compartments_to_stratify = [\"E\", \"I\", \"R\"]\n",
    "new_strain_strat_model = build_strain_strat_model_with_seeding(general_params, compartments_to_stratify, voc_params)"
   ]
  },
  {
   "cell_type": "code",
   "execution_count": null,
   "id": "d518ad2c",
   "metadata": {},
   "outputs": [],
   "source": [
    "new_strain_strat_model.run()\n",
    "\n",
    "notifications = new_strain_strat_model.get_derived_outputs_df()[\"notifications\"]\n",
    "\n",
    "pd.DataFrame(\n",
    "    {\n",
    "        \"observed\": notifications_target,\n",
    "        \"notifications\": notifications\n",
    "    }\n",
    ").plot()\n"
   ]
  },
  {
   "cell_type": "code",
   "execution_count": null,
   "id": "4c626f86",
   "metadata": {},
   "outputs": [],
   "source": [
    "\n",
    "new_strain_strat_model.get_derived_outputs_df()[\"prop_variant\"].plot()"
   ]
  },
  {
   "cell_type": "markdown",
   "id": "f4894ecf",
   "metadata": {},
   "source": [
    "# Manual calibration to notifications"
   ]
  },
  {
   "cell_type": "code",
   "execution_count": null,
   "id": "c341f518",
   "metadata": {},
   "outputs": [],
   "source": [
    "calibrated_general_params = {\n",
    "    \"contact_rate\": 0.3,\n",
    "    \"progression_rate\": 0.4,\n",
    "    \"recovery_rate\": 0.2,\n",
    "    \"death_rate\": 0.,\n",
    "    \"reporting_fraction\": 0.03,\n",
    "    \"start_time\": start_date_int,\n",
    "    \"end_time\": end_date_int,\n",
    "    \"infectious_seed\": 5000.\n",
    "}\n",
    "\n",
    "calibrated_voc_params = {\n",
    "    \"variant_start_prop\": 0.,\n",
    "    \"variant_rel_ifr\": 1.8,\n",
    "    \"variant_rel_transmissibility\": 3,\n",
    "    \"variant_rel_progression\": .5,\n",
    "    \"variant_emergence_time\": 500\n",
    "}\n",
    "\n",
    "compartments_to_stratify = [\"E\", \"I\", \"R\"]\n",
    "calibrated_model = build_strain_strat_model_with_seeding(calibrated_general_params, compartments_to_stratify, calibrated_voc_params)"
   ]
  },
  {
   "cell_type": "code",
   "execution_count": null,
   "id": "16b877ad",
   "metadata": {},
   "outputs": [],
   "source": [
    "calibrated_model.run()\n",
    "\n",
    "notifications = calibrated_model.get_derived_outputs_df()[\"notifications\"]\n",
    "\n",
    "pd.DataFrame(\n",
    "    {\n",
    "        \"observed\": notifications_target,\n",
    "        \"notifications\": notifications\n",
    "    }\n",
    ").plot()"
   ]
  }
 ],
 "metadata": {
  "kernelspec": {
   "display_name": "Python 3 (ipykernel)",
   "language": "python",
   "name": "python3"
  },
  "language_info": {
   "codemirror_mode": {
    "name": "ipython",
    "version": 3
   },
   "file_extension": ".py",
   "mimetype": "text/x-python",
   "name": "python",
   "nbconvert_exporter": "python",
   "pygments_lexer": "ipython3",
   "version": "3.10.3"
  },
  "vscode": {
   "interpreter": {
    "hash": "7afc08b952f75bca94590012dd49682c815a0fa68720c270ce23d7ae27bf110a"
   }
  }
 },
 "nbformat": 4,
 "nbformat_minor": 5
}
