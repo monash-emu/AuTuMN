{
 "cells": [
  {
   "cell_type": "markdown",
   "id": "bb1b4606",
   "metadata": {},
   "source": [
    "# The estival library for calibration of summer2 models"
   ]
  },
  {
   "cell_type": "code",
   "execution_count": null,
   "id": "a9dad6dc",
   "metadata": {},
   "outputs": [],
   "source": [
    "# If we are running in google colab, pip install the required packages, \n",
    "# but do not modify local environments\n",
    "try:\n",
    "    import google.colab\n",
    "    IN_COLAB = True\n",
    "    %pip install summerepi2\n",
    "    %pip install estival\n",
    "except:\n",
    "    IN_COLAB = False"
   ]
  },
  {
   "cell_type": "code",
   "execution_count": null,
   "id": "dc7b25bf",
   "metadata": {},
   "outputs": [],
   "source": [
    "import pandas as pd\n",
    "import numpy as np\n",
    "from datetime import datetime, timedelta"
   ]
  },
  {
   "cell_type": "code",
   "execution_count": null,
   "id": "5ab7df5a",
   "metadata": {},
   "outputs": [],
   "source": [
    "from estival.priors import UniformPrior\n",
    "from estival.targets import NegativeBinomialTarget"
   ]
  },
  {
   "cell_type": "code",
   "execution_count": null,
   "id": "645cf1cc",
   "metadata": {},
   "outputs": [],
   "source": [
    "from summer2 import CompartmentalModel\n",
    "from summer2.parameters import Parameter"
   ]
  },
  {
   "cell_type": "markdown",
   "id": "5066893f",
   "metadata": {},
   "source": [
    "## Build a simple model"
   ]
  },
  {
   "cell_type": "code",
   "execution_count": null,
   "id": "b78b5761",
   "metadata": {},
   "outputs": [],
   "source": [
    "def build_model():\n",
    "    m = CompartmentalModel([0,100], [\"S\",\"I\",\"R\"],\"I\",ref_date=datetime(2000,1,1))\n",
    "    m.set_initial_population({\"S\": 1000, \"I\": 10.0})\n",
    "    m.add_infection_frequency_flow(\"infection\", Parameter(\"contact_rate\"),\"S\",\"I\")\n",
    "    m.add_transition_flow(\"recovery\", Parameter(\"recovery_rate\"),\"I\",\"R\")\n",
    "    m.request_output_for_flow(\"infection\", \"infection\")\n",
    "    m.request_output_for_flow(\"recovery\", \"recovery\")\n",
    "    return m"
   ]
  },
  {
   "cell_type": "code",
   "execution_count": null,
   "id": "bd3a042f",
   "metadata": {},
   "outputs": [],
   "source": [
    "m = build_model()"
   ]
  },
  {
   "cell_type": "code",
   "execution_count": null,
   "id": "3ca72da5",
   "metadata": {},
   "outputs": [],
   "source": [
    "parameters = {\"contact_rate\": 0.2, \"recovery_rate\": 0.02}"
   ]
  },
  {
   "cell_type": "code",
   "execution_count": null,
   "id": "f508b762",
   "metadata": {},
   "outputs": [],
   "source": [
    "m.run(parameters)"
   ]
  },
  {
   "cell_type": "code",
   "execution_count": null,
   "id": "4d3cf8c2",
   "metadata": {},
   "outputs": [],
   "source": [
    "m.get_outputs_df().plot()"
   ]
  },
  {
   "cell_type": "code",
   "execution_count": null,
   "id": "b90759dd",
   "metadata": {},
   "outputs": [],
   "source": [
    "m.get_derived_outputs_df().plot()"
   ]
  },
  {
   "cell_type": "code",
   "execution_count": null,
   "id": "fc31650e",
   "metadata": {},
   "outputs": [],
   "source": [
    "idata = m.get_derived_outputs_df()[\"infection\"]\n",
    "rdata = m.get_derived_outputs_df()[\"recovery\"]"
   ]
  },
  {
   "cell_type": "markdown",
   "id": "464b9f70",
   "metadata": {},
   "source": [
    "## Defining our calibration"
   ]
  },
  {
   "cell_type": "code",
   "execution_count": null,
   "id": "5f5e008a",
   "metadata": {},
   "outputs": [],
   "source": [
    "from estival.calibration.mcmc.adaptive import AdaptiveChain"
   ]
  },
  {
   "cell_type": "code",
   "execution_count": null,
   "id": "d979dd6e",
   "metadata": {},
   "outputs": [],
   "source": [
    "mcmc_priors = [\n",
    "    UniformPrior(\"contact_rate\", (0.01,0.5)),\n",
    "    UniformPrior(\"recovery_rate\", (0.001,0.1))\n",
    "]"
   ]
  },
  {
   "cell_type": "code",
   "execution_count": null,
   "id": "32b59c24",
   "metadata": {},
   "outputs": [],
   "source": [
    "mcmc_targets = [\n",
    "    NegativeBinomialTarget(\"infection\", idata, 5.0),\n",
    "    NegativeBinomialTarget(\"recovery\", rdata, 1.0)\n",
    "]"
   ]
  },
  {
   "cell_type": "code",
   "execution_count": null,
   "id": "1808e5ae",
   "metadata": {},
   "outputs": [],
   "source": [
    "mcmc = AdaptiveChain(build_model, parameters, mcmc_priors, mcmc_targets, parameters)"
   ]
  },
  {
   "cell_type": "code",
   "execution_count": null,
   "id": "e0bab825",
   "metadata": {},
   "outputs": [],
   "source": [
    "mcmc.run(max_iter=20000)"
   ]
  },
  {
   "cell_type": "markdown",
   "id": "2c7e2b6b",
   "metadata": {},
   "source": [
    "## Examing results with ArViz"
   ]
  },
  {
   "cell_type": "code",
   "execution_count": null,
   "id": "b1c71b0b",
   "metadata": {},
   "outputs": [],
   "source": [
    "import arviz as az"
   ]
  },
  {
   "cell_type": "code",
   "execution_count": null,
   "id": "0e49858d",
   "metadata": {},
   "outputs": [],
   "source": [
    "infdata = mcmc.to_arviz(5000)"
   ]
  },
  {
   "cell_type": "code",
   "execution_count": null,
   "id": "e2a4e7c6",
   "metadata": {},
   "outputs": [],
   "source": [
    "infdata"
   ]
  },
  {
   "cell_type": "code",
   "execution_count": null,
   "id": "ef06bde1",
   "metadata": {},
   "outputs": [],
   "source": [
    "az.plot_trace(infdata,figsize=(16,12));"
   ]
  },
  {
   "cell_type": "code",
   "execution_count": null,
   "id": "0eb76965",
   "metadata": {},
   "outputs": [],
   "source": [
    "az.plot_posterior(infdata);"
   ]
  },
  {
   "cell_type": "code",
   "execution_count": null,
   "id": "2393bfa4",
   "metadata": {},
   "outputs": [],
   "source": [
    "az.plot_ess(infdata, kind=\"evolution\");"
   ]
  },
  {
   "cell_type": "code",
   "execution_count": null,
   "id": "8f997c0f",
   "metadata": {},
   "outputs": [],
   "source": [
    "mcmc.results"
   ]
  },
  {
   "cell_type": "markdown",
   "id": "39ba915a",
   "metadata": {},
   "source": [
    "## Basic uncertainty sampling"
   ]
  },
  {
   "cell_type": "code",
   "execution_count": null,
   "id": "f631431f",
   "metadata": {},
   "outputs": [],
   "source": [
    "sample_data = {}\n",
    "for p in parameters:\n",
    "    sample_data[p] = infdata.posterior[p][0,::50].to_numpy()\n",
    "    \n",
    "samples = pd.DataFrame(columns=parameters, data = sample_data)\n",
    "    "
   ]
  },
  {
   "cell_type": "code",
   "execution_count": null,
   "id": "198653b9",
   "metadata": {},
   "outputs": [],
   "source": [
    "outputs = []\n",
    "for k,s in samples.iterrows():\n",
    "    m.run(s.to_dict())\n",
    "    outputs.append(m.get_derived_outputs_df())"
   ]
  },
  {
   "cell_type": "code",
   "execution_count": null,
   "id": "df5e8153",
   "metadata": {},
   "outputs": [],
   "source": [
    "q = (0.1,0.25,0.5,0.75,0.9)\n",
    "ax = pd.DataFrame(index=idata.index,columns=q, data=np.quantile([o[\"infection\"] for o in outputs], q, axis=0).T).plot()\n",
    "idata.plot(style='.')"
   ]
  },
  {
   "cell_type": "code",
   "execution_count": null,
   "id": "ab864776",
   "metadata": {},
   "outputs": [],
   "source": [
    "q = (0.1,0.25,0.5,0.75,0.9)\n",
    "ax = pd.DataFrame(index=idata.index,columns=q, data=np.quantile([o[\"recovery\"] for o in outputs], q, axis=0).T).plot()\n",
    "rdata.plot(style='.')"
   ]
  }
 ],
 "metadata": {
  "kernelspec": {
   "display_name": "Python 3 (ipykernel)",
   "language": "python",
   "name": "python3"
  },
  "language_info": {
   "codemirror_mode": {
    "name": "ipython",
    "version": 3
   },
   "file_extension": ".py",
   "mimetype": "text/x-python",
   "name": "python",
   "nbconvert_exporter": "python",
   "pygments_lexer": "ipython3",
   "version": "3.9.13"
  }
 },
 "nbformat": 4,
 "nbformat_minor": 5
}
