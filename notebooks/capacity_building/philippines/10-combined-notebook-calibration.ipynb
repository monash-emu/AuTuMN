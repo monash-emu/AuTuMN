{
 "cells": [
  {
   "cell_type": "markdown",
   "id": "53e04f0b",
   "metadata": {},
   "source": [
    "# Calibrating the full model we prepared previously\n",
    "\n",
    "In this notebook we will take the model from notebook 07,\n",
    "which was intended to be \"full\" model that contained all the features needed \n",
    "to be considered a realistic model of a COVID-19 epidemic.\n",
    "\n",
    "We will now take that model and apply a calibration algorithm to it,\n",
    "using the `estival` package that we developed for this purpose.\n",
    "This follows on from our discussion of Bayesian principles (in notebook 08)\n",
    "and the subsequent introduction to the `estival` package in the preceding notebook (09),\n",
    "which used a very basic toy model only.\n",
    "\n",
    "The final output of this notebook is intended to be an analysis that would be \n",
    "very close to the sort of model we could use for publications or policy advice.\n",
    "This is intended as the last session for 2022,\n",
    "and brings all our previous work together,\n",
    "including model construction, parameterisation, stratification, and calibration."
   ]
  },
  {
   "cell_type": "code",
   "execution_count": null,
   "id": "eeeb9ff8",
   "metadata": {},
   "outputs": [],
   "source": [
    "# pip install the required packages if running in Colab\n",
    "try:\n",
    "    import google.colab\n",
    "    IN_COLAB = True\n",
    "    %pip install summerepi2==1.0.4\n",
    "    %pip install estival==0.1.3\n",
    "\n",
    "except:\n",
    "    IN_COLAB = False"
   ]
  },
  {
   "cell_type": "code",
   "execution_count": null,
   "id": "e19523e4",
   "metadata": {},
   "outputs": [],
   "source": [
    "# Standard imports, plotting option and constant definition\n",
    "from datetime import datetime, timedelta\n",
    "from typing import List, Union\n",
    "import pandas as pd\n",
    "import plotly.express as px\n",
    "import numpy as np\n",
    "import pickle\n",
    "from jax import numpy as jnp\n",
    "\n",
    "from summer2.utils import ref_times_to_dti\n",
    "\n",
    "from summer2 import CompartmentalModel, Stratification, StrainStratification, Overwrite\n",
    "from summer2.parameters import Parameter, Function, DerivedOutput, Time, Data\n",
    "\n",
    "pd.options.plotting.backend = \"plotly\"\n",
    "\n",
    "COVID_BASE_DATE = datetime(2019, 12, 31)"
   ]
  },
  {
   "cell_type": "code",
   "execution_count": null,
   "id": "b73651e1",
   "metadata": {},
   "outputs": [],
   "source": [
    "# The data import module lives in a file on AuTuMN github - download it for colab use\n",
    "if IN_COLAB:\n",
    "    !wget https://raw.githubusercontent.com/monash-emu/AuTuMN/master/notebooks/capacity_building/philippines/import_phl_data.py\n",
    "    !wget https://raw.githubusercontent.com/monash-emu/AuTuMN/master/notebooks/capacity_building/philippines/PHL_matrices.pkl\n",
    "    !wget https://raw.githubusercontent.com/monash-emu/AuTuMN/master/notebooks/capacity_building/philippines/NCR_age_pops.pkl\n",
    "    !wget https://raw.githubusercontent.com/monash-emu/AuTuMN/master/notebooks/capacity_building/philippines/NCR_vac_coverage.pkl\n",
    "\n",
    "import import_phl_data\n",
    "from import_phl_data import get_population_and_epi_data, get_timeseries_data\n",
    "\n",
    "mixing_matrix = pd.read_pickle(\"PHL_matrices.pkl\", compression='infer')"
   ]
  },
  {
   "cell_type": "code",
   "execution_count": null,
   "id": "708778db",
   "metadata": {},
   "outputs": [],
   "source": [
    "# Shareable google drive links\n",
    "PHL_DOH_LINK = \"1ULjAmO7dE9YEEI8j7MWeSujRSRPhlvE1\"  # sheet 05 daily report\n",
    "PHL_FASSSTER_LINK = \"1Cg_jsjhXsOtsqcMVUSHK6F7y9Ky8VxZL\"  # Fassster google drive zip file\n",
    "# initial_population, df = get_population_and_epi_data(PHL_DOH_LINK, PHL_FASSSTER_LINK) \n",
    "initial_population, df = get_timeseries_data() \n",
    "\n",
    "# We define a day zero for the analysis\n",
    "COVID_BASE_DATE = datetime(2019, 12, 31)"
   ]
  },
  {
   "cell_type": "code",
   "execution_count": null,
   "id": "6471ac23",
   "metadata": {},
   "outputs": [],
   "source": [
    "# Define a target set of observations to compare against our modelled outputs later\n",
    "notifications_target = df[\"cases\"]"
   ]
  },
  {
   "cell_type": "code",
   "execution_count": null,
   "id": "82871940-18e1-4747-92f6-756c9b4eeca7",
   "metadata": {},
   "outputs": [],
   "source": [
    "age_groups = range(0, 80, 5)"
   ]
  },
  {
   "cell_type": "code",
   "execution_count": null,
   "id": "95b1617c",
   "metadata": {},
   "outputs": [],
   "source": [
    "age_pops = pickle.load(open(\"NCR_age_pops.pkl\", \"rb\"))\n",
    "age_pops.index = age_pops.index.map(str)"
   ]
  },
  {
   "cell_type": "markdown",
   "id": "7b90cd4d",
   "metadata": {},
   "source": [
    "# Model\n",
    "\n",
    "## Define a model"
   ]
  },
  {
   "cell_type": "code",
   "execution_count": null,
   "id": "12f1dcd8-ebe7-481f-a823-7695ae07f570",
   "metadata": {},
   "outputs": [],
   "source": [
    "unstratified_compartments = [\"S\", \"E\", \"I\", \"R\", \"S2\"]"
   ]
  },
  {
   "cell_type": "code",
   "execution_count": null,
   "id": "03805af8",
   "metadata": {},
   "outputs": [],
   "source": [
    "def build_unstratified_model(\n",
    "    config: dict,\n",
    ") -> CompartmentalModel:\n",
    "    \"\"\"\n",
    "    Create a compartmental model, with compartmental structure needed to run and produce some sort of \n",
    "    meaningful outputs.\n",
    "    \n",
    "    Args:\n",
    "        parameters: Flow parameters\n",
    "    Returns:\n",
    "        A compartmental model currently without stratification applied\n",
    "    \"\"\"\n",
    "\n",
    "    model = CompartmentalModel(\n",
    "        times=(config[\"start_time\"], config[\"end_time\"]),\n",
    "        compartments=unstratified_compartments,\n",
    "        infectious_compartments=[\"I\"],\n",
    "        ref_date=COVID_BASE_DATE\n",
    "    )\n",
    "\n",
    "    infectious_seed = Parameter(\"infectious_seed\")\n",
    "\n",
    "    model.set_initial_population(\n",
    "        distribution=\n",
    "        {\n",
    "            \"S\": initial_population - infectious_seed, \n",
    "            \"I\": infectious_seed,\n",
    "        }\n",
    "    )\n",
    "    \n",
    "    # Susceptible people can get infected\n",
    "    model.add_infection_frequency_flow(\n",
    "        name=\"infection\", \n",
    "        contact_rate=Parameter(\"contact_rate\"), \n",
    "        source=\"S\", \n",
    "        dest=\"E\",\n",
    "    )\n",
    "    \n",
    "    # Recovered people get infected at the same rate as the susceptibles\n",
    "    model.add_infection_frequency_flow(\n",
    "        name=\"reinfection\", \n",
    "        contact_rate=Parameter(\"contact_rate\"), \n",
    "        source=\"S2\", \n",
    "        dest=\"E\",\n",
    "    )\n",
    "    \n",
    "    # Exposed people transition to infected at some rate\n",
    "    model.add_transition_flow(\n",
    "        name=\"progression\",\n",
    "        fractional_rate=1. / Parameter(\"latent_period\"),\n",
    "        source=\"E\",\n",
    "        dest=\"I\",\n",
    "    )\n",
    "\n",
    "    # Infectious people recover after some time spent infectious\n",
    "    model.add_transition_flow(\n",
    "        name=\"recovery\",\n",
    "        fractional_rate=1. / Parameter(\"infectious_period\"),\n",
    "        source=\"I\",\n",
    "        dest=\"R\",\n",
    "    )\n",
    "    \n",
    "    # Recovered people lose their immunity at some rate\n",
    "    model.add_transition_flow(\n",
    "        name=\"waning_natural_immunity\",\n",
    "        fractional_rate=1. / Parameter(\"full_immunity_period\"),\n",
    "        source=\"R\",\n",
    "        dest=\"S2\",\n",
    "    )\n",
    "\n",
    "    # Add an infection-specific death flow to the I compartment\n",
    "    model.add_death_flow(\n",
    "        name=\"infection_death\", \n",
    "        death_rate=Parameter(\"death_rate\"), \n",
    "        source=\"I\",\n",
    "    )\n",
    "    \n",
    "    # Only a proportion of new cases are identified as cases\n",
    "    model.request_output_for_flow(\n",
    "        \"progressions\",\n",
    "        \"progression\",\n",
    "        save_results=False,\n",
    "    )\n",
    "    model.request_function_output(\n",
    "        \"notifications\",\n",
    "        func=Function(jnp.multiply, [DerivedOutput(\"progressions\"), Parameter(\"cdr\")]),\n",
    "    )\n",
    "    \n",
    "    # Track proportion ever infected\n",
    "    model.request_output_for_compartments(\n",
    "        \"n_ever_infected\",\n",
    "        (\"E\", \"I\", \"R\", \"S2\"),\n",
    "        save_results=False,\n",
    "    )\n",
    "    model.request_output_for_compartments(\n",
    "        \"total_pop\",\n",
    "        unstratified_compartments,\n",
    "        save_results=False,\n",
    "    )\n",
    "    model.request_function_output(\n",
    "        \"prop_ever_infected\",\n",
    "        func=DerivedOutput(\"n_ever_infected\") / DerivedOutput(\"total_pop\"),\n",
    "    )\n",
    "\n",
    "    return model"
   ]
  },
  {
   "cell_type": "code",
   "execution_count": null,
   "id": "c1e650aa-c564-4383-94f7-7176cd50f8b9",
   "metadata": {},
   "outputs": [],
   "source": [
    "def get_age_stratification(\n",
    "    compartments_to_stratify: List[str],\n",
    "    strata: List[str],\n",
    "    matrix: Union[np.ndarray, callable],\n",
    ") -> Stratification:\n",
    "    \"\"\"\n",
    "    Create a summer stratification object that stratifies all of the compartments into age groups.\n",
    "    This is essentially adapting the model's age stratification approach to the format of the mixing matrix.\n",
    "    \n",
    "    Args:\n",
    "        compartments_to_stratify: List of the compartments to stratify, which should be all the compartments\n",
    "        strata: The strata to be implemented in the age stratification\n",
    "        matrix: The mixing matrix we are applying for the age structure\n",
    "    Returns:\n",
    "        A summer stratification object to represent age stratification (not yet applied)\n",
    "    \"\"\"\n",
    "    \n",
    "    if isinstance(matrix, np.ndarray):\n",
    "        msg = \"Mixing matrix is not 2-dimensional\"\n",
    "        assert matrix.ndim == 2, msg\n",
    "\n",
    "        msg = f\"Dimensions of the mixing matrix incorrect: {matrix.shape[0]}, {matrix.shape[1]}, {len(strata)}\"\n",
    "        assert matrix.shape[0] == matrix.shape[1] == len(strata), msg\n",
    "    \n",
    "    # Create the stratification, just naming the age groups by their starting value\n",
    "    strat = Stratification(\n",
    "        name=\"age\", \n",
    "        strata=strata, \n",
    "        compartments=compartments_to_stratify,\n",
    "    )\n",
    "    \n",
    "    age_split_props = age_pops / age_pops.sum()\n",
    "    strat.set_population_split(age_split_props.to_dict())\n",
    "    \n",
    "    # Add the mixing matrix to the stratification\n",
    "    strat.set_mixing_matrix(matrix)\n",
    "    \n",
    "    return strat"
   ]
  },
  {
   "cell_type": "code",
   "execution_count": null,
   "id": "fd80dd96",
   "metadata": {},
   "outputs": [],
   "source": [
    "def get_strain_stratification(\n",
    "    compartments_to_stratify: List[str], \n",
    ") -> Stratification:\n",
    "    \"\"\"\n",
    "    Create a summer stratification object that stratifies compartments into\n",
    "    strata, which are intended to represent infectious disease strains.\n",
    "    \n",
    "    Args:\n",
    "        compartments_to_stratify: List of the compartments to stratify\n",
    "        voc_params: A dictionary which speicifies the infectiousness and severity of strains\n",
    "    Returns:\n",
    "        A summer stratification object to represent strain stratification (not yet applied)\n",
    "    \"\"\"\n",
    "    strata = [\"delta\", \"omicron\"]\n",
    "    strat = StrainStratification(name=\"strain\", strata=strata, compartments=compartments_to_stratify)\n",
    "\n",
    "    # At the start of the simulation, a certain proportion of infected people have the variant strain.\n",
    "    strat.set_population_split(\n",
    "        {\n",
    "            \"delta\": 1.,\n",
    "            \"omicron\": 0.,\n",
    "        }\n",
    "    )\n",
    "\n",
    "    # Make Omicron more transmissible for both first infection and reinfection\n",
    "    for infection_flow in [\"infection\", \"reinfection\"]:\n",
    "        strat.set_flow_adjustments(\n",
    "            infection_flow,\n",
    "            {\n",
    "                \"delta\": None,\n",
    "                \"omicron\": Parameter(\"omicron_rel_transmissibility\"),\n",
    "            },\n",
    "        )\n",
    "\n",
    "    return strat"
   ]
  },
  {
   "cell_type": "code",
   "execution_count": null,
   "id": "a37e0fae",
   "metadata": {},
   "outputs": [],
   "source": [
    "full_dose_coverage = pickle.load(open(\"NCR_vac_coverage.pkl\", \"rb\"))\n",
    "full_dose_coverage.plot.area(title=\"two-dose vaccination coverage\")"
   ]
  },
  {
   "cell_type": "code",
   "execution_count": null,
   "id": "3b42a870",
   "metadata": {},
   "outputs": [],
   "source": [
    "# To save on calculations a little, let's thin out the data\n",
    "thinning_interval = 7\n",
    "thinned_full_coverage = full_dose_coverage[::thinning_interval]\n",
    "\n",
    "def get_prop_of_remaining_covered(old_prop, new_prop):\n",
    "    return (new_prop - old_prop) / (1. - old_prop)\n",
    "\n",
    "interval_prop_unvacc_vaccinated = [\n",
    "    get_prop_of_remaining_covered(\n",
    "        thinned_full_coverage.iloc[i],\n",
    "        thinned_full_coverage.iloc[i + 1],\n",
    "    ) \n",
    "    for i in range(len(thinned_full_coverage) - 1)\n",
    "]\n",
    "\n",
    "coverage_times = thinned_full_coverage.index\n",
    "\n",
    "pd.Series(interval_prop_unvacc_vaccinated, index=coverage_times[1:]).plot(\n",
    "    title=\"proportion of remaining unvaccinated vaccinated during each interval\"\n",
    ")"
   ]
  },
  {
   "cell_type": "code",
   "execution_count": null,
   "id": "2053baad-71d8-4e7b-a5cb-06c94bda0966",
   "metadata": {},
   "outputs": [],
   "source": [
    "def get_rate_from_coverage_and_duration(coverage_increment: float, duration: float) -> float:\n",
    "    assert duration >= 0.0, f\"Duration request is negative: {duration}\"\n",
    "    assert 0.0 <= coverage_increment <= 1.0, f\"Coverage increment not in [0, 1]: {coverage_increment}\"\n",
    "    return -np.log(1.0 - coverage_increment) / duration\n",
    "\n",
    "\n",
    "interval_lengths = [\n",
    "    coverage_times[i + 1] - coverage_times[i] \n",
    "    for i in range(len(coverage_times) - 1)\n",
    "]\n",
    "\n",
    "vaccination_rates = [\n",
    "    get_rate_from_coverage_and_duration(i, j) for \n",
    "    i, j in zip(interval_prop_unvacc_vaccinated, interval_lengths)\n",
    "]\n",
    "pd.Series(vaccination_rates, index=coverage_times[1:]).plot(kind=\"scatter\")"
   ]
  },
  {
   "cell_type": "code",
   "execution_count": null,
   "id": "843fb0ee",
   "metadata": {},
   "outputs": [],
   "source": [
    "from summer2.functions import get_piecewise_scalar_function"
   ]
  },
  {
   "cell_type": "code",
   "execution_count": null,
   "id": "6ebb7542",
   "metadata": {},
   "outputs": [],
   "source": [
    "# Pad the endpoints with 0.0 - ie this is the vaccination rate outside of the bounds we have computed,\n",
    "# and therefore what should be returned when requesting data outside this range\n",
    "full_vacc_rates = np.concatenate([(0.0,), vaccination_rates, (0.0,)])"
   ]
  },
  {
   "cell_type": "code",
   "execution_count": null,
   "id": "f332bb85",
   "metadata": {},
   "outputs": [],
   "source": [
    "vacc_rate_func = get_piecewise_scalar_function(coverage_times, full_vacc_rates)"
   ]
  },
  {
   "cell_type": "code",
   "execution_count": null,
   "id": "99479149-21a7-4815-8f12-bfa51c57e04a",
   "metadata": {},
   "outputs": [],
   "source": [
    "def get_vaccine_stratification(\n",
    "    compartments_to_stratify: List[str], \n",
    ") -> Stratification:\n",
    "    \"\"\"\n",
    "    Create a summer stratification object that stratifies compartments into two strata, \n",
    "    representing vaccine status stratification.\n",
    "    \n",
    "    Args:\n",
    "        compartments_to_stratify: List of the compartments to stratify\n",
    "        vaccine_params: A dictionary which speicifies the vaccination-related parameters to implement\n",
    "    Returns:\n",
    "        A summer stratification object to represent strain stratification (not yet applied)\n",
    "    \"\"\"\n",
    "    strata = [\"vaccinated\", \"unvaccinated\"]\n",
    "    \n",
    "    # Create the stratification\n",
    "    vaccine_strat = Stratification(name=\"vaccination\", strata=strata, compartments=compartments_to_stratify)\n",
    "\n",
    "    # Create our population split dictionary, whose keys match the strata with 80% vaccinated and 20% unvaccinated\n",
    "    pop_split = {\n",
    "        \"vaccinated\": 0., \n",
    "        \"unvaccinated\": 1.,\n",
    "    }\n",
    "\n",
    "    # Set a population distribution\n",
    "    vaccine_strat.set_population_split(pop_split)\n",
    "\n",
    "    # Adjusting the death risk associated with vaccination\n",
    "    vaccine_strat.set_flow_adjustments(\n",
    "        \"infection_death\",\n",
    "        {\n",
    "            \"unvaccinated\": None,\n",
    "            \"vaccinated\": 1. - Parameter(\"ve_death\"),\n",
    "        }\n",
    "    )\n",
    "    \n",
    "    # Susceptibility\n",
    "    for infection_flow in [\"infection\", \"reinfection\"]:\n",
    "        vaccine_strat.set_flow_adjustments(\n",
    "            infection_flow,\n",
    "            {\n",
    "                \"unvaccinated\": None,\n",
    "                \"vaccinated\": 1. - Parameter(\"ve_infection\"),\n",
    "            }\n",
    "        )\n",
    "\n",
    "    return vaccine_strat"
   ]
  },
  {
   "cell_type": "code",
   "execution_count": null,
   "id": "d5cc548c",
   "metadata": {},
   "outputs": [],
   "source": [
    "# Define some helper functions for seeding multiple strains\n",
    "\n",
    "# Basic function to get windowed bounds for seeding\n",
    "\n",
    "def get_window(start, length):\n",
    "    return jnp.array((start,start+length))\n",
    "\n",
    "def get_seed_function(start, length):\n",
    "    # Because this is running 'inside the model' (and might be parameterized), these need to be\n",
    "    # Function objects rather than just python functions\n",
    "    \n",
    "    time_window = Function(get_window, [start, length])\n",
    "    return get_piecewise_scalar_function(time_window, [0.0, 1.0, 0.0])\n",
    "\n"
   ]
  },
  {
   "cell_type": "code",
   "execution_count": null,
   "id": "097609b7",
   "metadata": {},
   "outputs": [],
   "source": [
    "start_date = datetime(2021, 5, 15)\n",
    "end_date = datetime(2022, 3, 31)\n",
    "start_date_int = (start_date - COVID_BASE_DATE).days\n",
    "end_date_int = (end_date - COVID_BASE_DATE).days\n",
    "\n",
    "config = {\n",
    "    \"start_time\": start_date_int,\n",
    "    \"end_time\": end_date_int,\n",
    "}\n",
    "\n",
    "def build_full_model(config):\n",
    "\n",
    "    # Get an unstratified model object\n",
    "    model = build_unstratified_model(config)\n",
    "\n",
    "    base_compartments = model.compartments\n",
    "\n",
    "    # Get and apply the age stratification\n",
    "    age_strat = get_age_stratification(\n",
    "        base_compartments, \n",
    "        age_groups, \n",
    "        mixing_matrix[\"all_locations\"],\n",
    "    )\n",
    "    model.stratify_with(age_strat)\n",
    "\n",
    "    # Get and apply vaccination stratification\n",
    "    vacc_params = {\n",
    "        \"ve_death\": 0.9,\n",
    "        \"ve_infection\": 0.3,\n",
    "    }\n",
    "\n",
    "    vacc_strat = get_vaccine_stratification(\n",
    "        base_compartments,\n",
    "    )\n",
    "    model.stratify_with(vacc_strat)\n",
    "\n",
    "    # Get and apply the strain stratification\n",
    "    strain_strat = get_strain_stratification(\n",
    "        [\"E\", \"I\"],\n",
    "    )\n",
    "    model.stratify_with(strain_strat)\n",
    "\n",
    "    # Define a piecewise function returning 1.0 during time_window, and 0.0 outside of this\n",
    "    omicron_seed_func = get_seed_function(Parameter(\"omicron_seed_start\"), 10.0)\n",
    "\n",
    "    model.add_importation_flow(\n",
    "        \"omicron_seeding\",\n",
    "        omicron_seed_func,\n",
    "        \"E\",\n",
    "        split_imports=True,\n",
    "        dest_strata={\"strain\": \"omicron\"},\n",
    "    )\n",
    "\n",
    "    for comp in unstratified_compartments:\n",
    "        model.add_transition_flow(\n",
    "            name=\"vaccination\",\n",
    "            fractional_rate=vacc_rate_func,\n",
    "            source=comp,\n",
    "            dest=comp,\n",
    "            source_strata={\"vaccination\": \"unvaccinated\"},\n",
    "            dest_strata={\"vaccination\": \"vaccinated\"},\n",
    "        )\n",
    "\n",
    "    model.request_output_for_compartments(\n",
    "        \"vaccinated\",\n",
    "        unstratified_compartments,\n",
    "        strata={\"vaccination\": \"vaccinated\"},\n",
    "    )\n",
    "    model.request_output_for_compartments(\n",
    "        \"unvaccinated\",\n",
    "        unstratified_compartments,\n",
    "        strata={\"vaccination\": \"unvaccinated\"},\n",
    "    )\n",
    "    \n",
    "    return model"
   ]
  },
  {
   "cell_type": "code",
   "execution_count": null,
   "id": "f649346a",
   "metadata": {},
   "outputs": [],
   "source": [
    "model = build_full_model(config)"
   ]
  },
  {
   "cell_type": "code",
   "execution_count": null,
   "id": "9b2a953f",
   "metadata": {},
   "outputs": [],
   "source": [
    "model.get_input_parameters()"
   ]
  },
  {
   "cell_type": "code",
   "execution_count": null,
   "id": "b9cc2607",
   "metadata": {},
   "outputs": [],
   "source": [
    "parameters = {\n",
    "    \"contact_rate\": 0.04,\n",
    "    \"latent_period\": 3.0,\n",
    "    \"infectious_period\": 5.0,\n",
    "    \"death_rate\": 0.001,\n",
    "    \"infectious_seed\": 200.,\n",
    "    \"cdr\": 0.05,\n",
    "    \"full_immunity_period\": 365.,\n",
    "    \"ve_death\": 0.9,\n",
    "    \"ve_infection\": 0.3,\n",
    "    \"omicron_rel_transmissibility\": 4.,\n",
    "    \"omicron_seed_start\": 650.0\n",
    "}"
   ]
  },
  {
   "cell_type": "code",
   "execution_count": null,
   "id": "16c40418",
   "metadata": {},
   "outputs": [],
   "source": [
    "# Let's have a look at the manual calibration, which is essentially the same as what we did previously\n",
    "model.run(parameters)\n",
    "\n",
    "comparison_df = pd.DataFrame({\n",
    "    \"modelled\": model.get_derived_outputs_df()[\"notifications\"],\n",
    "    \"reported\": notifications_target,\n",
    "})\n",
    "comparison_df.plot()"
   ]
  },
  {
   "cell_type": "code",
   "execution_count": null,
   "id": "b62f3808",
   "metadata": {},
   "outputs": [],
   "source": [
    "from estival import priors, targets\n",
    "from estival.calibration.mcmc.adaptive import AdaptiveChain"
   ]
  },
  {
   "cell_type": "code",
   "execution_count": null,
   "id": "848f2430",
   "metadata": {},
   "outputs": [],
   "source": [
    "notifications_target_trimmed = notifications_target.loc[\"aug 2021\": \"mar 2022\"]"
   ]
  },
  {
   "cell_type": "code",
   "execution_count": null,
   "id": "66006371",
   "metadata": {},
   "outputs": [],
   "source": [
    "mcmc_targets = [\n",
    "    targets.NormalTarget(\"notifications\", notifications_target_trimmed, np.std(notifications_target) * 0.1)  # priors.UniformPrior(\"notif_dispersion\", (200.0, 2000.0)))\n",
    "]"
   ]
  },
  {
   "cell_type": "code",
   "execution_count": null,
   "id": "d3ed8fec",
   "metadata": {},
   "outputs": [],
   "source": [
    "parameters"
   ]
  },
  {
   "cell_type": "code",
   "execution_count": null,
   "id": "527ff87c",
   "metadata": {},
   "outputs": [],
   "source": [
    "mcmc_priors = [\n",
    "    priors.UniformPrior(\"contact_rate\", [0.01, 0.1]),\n",
    "    priors.UniformPrior(\"latent_period\", [0.2, 5.0]),\n",
    "    priors.UniformPrior(\"infectious_period\", [3.0, 8.0]),\n",
    "    priors.UniformPrior(\"cdr\", [0.01, 0.2]),\n",
    "    priors.UniformPrior(\"omicron_seed_start\", [600, 760]),\n",
    "    priors.UniformPrior(\"omicron_rel_transmissibility\", [2.0, 6.0]),\n",
    "]"
   ]
  },
  {
   "cell_type": "code",
   "execution_count": null,
   "id": "de52d9b7",
   "metadata": {},
   "outputs": [],
   "source": [
    "init_p = parameters.copy()"
   ]
  },
  {
   "cell_type": "code",
   "execution_count": null,
   "id": "8982f525",
   "metadata": {},
   "outputs": [],
   "source": [
    "iterations = 1000\n",
    "mcmc = AdaptiveChain(build_full_model, parameters, mcmc_priors, mcmc_targets, init_p, {\"config\": config}, fixed_proposal_steps=500)\n",
    "mcmc.run(max_iter=iterations)"
   ]
  },
  {
   "cell_type": "code",
   "execution_count": null,
   "id": "20f3f479",
   "metadata": {},
   "outputs": [],
   "source": [
    "import arviz as az\n",
    "import random"
   ]
  },
  {
   "cell_type": "code",
   "execution_count": null,
   "id": "6606052e",
   "metadata": {},
   "outputs": [],
   "source": [
    "# Some values to adjust to produce the desired outputs\n",
    "burn_in_prop = 0.2\n",
    "sample_for_plot = 20"
   ]
  },
  {
   "cell_type": "code",
   "execution_count": null,
   "id": "91afc539-3a9e-4150-8b8c-3aced614545a",
   "metadata": {},
   "outputs": [],
   "source": [
    "burn_in = round(burn_in_prop * iterations)  # Find the integer number of burn-in iterations\n",
    "\n",
    "burnt_results = mcmc.results[burn_in:]  # Get the MCMC results after burn-in\n",
    "accepted_mcmc = [burnt_results[i] for i in range(len(burnt_results)) if burnt_results[i].accept]  # Extract the accepted iterations\n",
    "mcmc_sample = random.sample(accepted_mcmc, sample_for_plot)  # Choose a sample to run for plotting later\n",
    "\n",
    "inf_data = mcmc.to_arviz(burn_in)  # Get the post-burn in chain in arviz format"
   ]
  },
  {
   "cell_type": "code",
   "execution_count": null,
   "id": "47939d50",
   "metadata": {},
   "outputs": [],
   "source": [
    "out_df = {}\n",
    "recovered_df = {}\n",
    "for i, r in enumerate(mcmc_sample):\n",
    "    cur_params = parameters.copy()\n",
    "    cur_params.update(r.parameters)\n",
    "    model.run(cur_params)\n",
    "    derived_out = model.get_derived_outputs_df()\n",
    "    out_df[i] = derived_out[\"notifications\"]\n",
    "    recovered_df[i] = derived_out[\"prop_ever_infected\"]"
   ]
  },
  {
   "cell_type": "code",
   "execution_count": null,
   "id": "83fa64ee",
   "metadata": {},
   "outputs": [],
   "source": [
    "pd.options.plotting.backend = \"matplotlib\"\n",
    "ax = pd.DataFrame(out_df).plot(style='-', figsize=(15, 6), legend=False)\n",
    "notifications_target.loc[\"aug 2021\": \"mar 2022\"].plot(style='.', color=\"black\")\n",
    "pd.options.plotting.backend = \"plotly\""
   ]
  },
  {
   "cell_type": "code",
   "execution_count": null,
   "id": "4531e7d8-17ec-496d-9b54-e77516eebcbf",
   "metadata": {},
   "outputs": [],
   "source": [
    "pd.options.plotting.backend = \"matplotlib\"\n",
    "ax = pd.DataFrame(recovered_df).plot(style='-', figsize=(15, 6), legend=False)\n",
    "pd.options.plotting.backend = \"plotly\""
   ]
  },
  {
   "cell_type": "code",
   "execution_count": null,
   "id": "e753422f",
   "metadata": {},
   "outputs": [],
   "source": [
    "best_ll = -np.inf\n",
    "best_res = None"
   ]
  },
  {
   "cell_type": "code",
   "execution_count": null,
   "id": "56b1291b",
   "metadata": {},
   "outputs": [],
   "source": [
    "for r in mcmc.results:\n",
    "    if r.ll > best_ll:\n",
    "        best_ll = r.ll\n",
    "        best_res = r"
   ]
  },
  {
   "cell_type": "code",
   "execution_count": null,
   "id": "855eaede",
   "metadata": {},
   "outputs": [],
   "source": [
    "best_res.parameters"
   ]
  },
  {
   "cell_type": "code",
   "execution_count": null,
   "id": "cd85f3a3",
   "metadata": {},
   "outputs": [],
   "source": [
    "max_ll_params = parameters.copy()\n",
    "max_ll_params.update(best_res.parameters)\n",
    "\n",
    "model.run(max_ll_params)\n",
    "\n",
    "comparison_df = pd.DataFrame({\n",
    "    \"modelled\": model.get_derived_outputs_df()[\"notifications\"],\n",
    "    \"reported\": notifications_target,\n",
    "})\n",
    "comparison_df.plot()"
   ]
  },
  {
   "cell_type": "code",
   "execution_count": null,
   "id": "789cf95b",
   "metadata": {},
   "outputs": [],
   "source": [
    "az.summary(inf_data)"
   ]
  },
  {
   "cell_type": "code",
   "execution_count": null,
   "id": "ad2718fb",
   "metadata": {},
   "outputs": [],
   "source": [
    "az.plot_trace(inf_data, figsize=(16, 19));"
   ]
  },
  {
   "cell_type": "code",
   "execution_count": null,
   "id": "8fb3c45f",
   "metadata": {},
   "outputs": [],
   "source": [
    "az.plot_posterior(inf_data);"
   ]
  },
  {
   "cell_type": "code",
   "execution_count": null,
   "id": "53d27fac",
   "metadata": {},
   "outputs": [],
   "source": []
  }
 ],
 "metadata": {
  "kernelspec": {
   "display_name": "Python 3 (ipykernel)",
   "language": "python",
   "name": "python3"
  },
  "language_info": {
   "codemirror_mode": {
    "name": "ipython",
    "version": 3
   },
   "file_extension": ".py",
   "mimetype": "text/x-python",
   "name": "python",
   "nbconvert_exporter": "python",
   "pygments_lexer": "ipython3",
   "version": "3.9.13"
  },
  "vscode": {
   "interpreter": {
    "hash": "7afc08b952f75bca94590012dd49682c815a0fa68720c270ce23d7ae27bf110a"
   }
  }
 },
 "nbformat": 4,
 "nbformat_minor": 5
}
