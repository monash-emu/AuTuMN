{
 "cells": [
  {
   "cell_type": "code",
   "execution_count": null,
   "id": "suffering-venice",
   "metadata": {},
   "outputs": [],
   "source": [
    "import pandas as pd\n",
    "import numpy as np\n",
    "from datetime import datetime\n",
    "import matplotlib.pyplot as plt"
   ]
  },
  {
   "cell_type": "markdown",
   "id": "ranking-airline",
   "metadata": {},
   "source": [
    "# Indices, datetime, DateTimeIndex\n",
    "\n",
    "Pandas objects like Series and DataFrame are made up of 2 essential components  \n",
    "1. Data  \n",
    "    This is... the data.  The (usually numeric) values which you are operating on  \n",
    "  \n",
    "  \n",
    "2. Index  \n",
    "    The 'location' of the data; sample number, date, some other index value. These\n",
    "    may be of any type, but Pandas includes several custom types for common use cases,\n",
    "    most notably the DatetimeIndex\n"
   ]
  },
  {
   "cell_type": "code",
   "execution_count": null,
   "id": "administrative-prevention",
   "metadata": {},
   "outputs": [],
   "source": [
    "# Here we construct a custom index using Pandas date_range function\n",
    "# There are usually multiple ways to achieve the same output; the following are all equivalent\n",
    "# They would not be if we had chosen a leap year... date management gets messy very easily\n",
    "\n",
    "times = pd.DatetimeIndex(data = [datetime(2019,1,1) + pd.offsets.Day(x) for x in range(365)])\n",
    "times = pd.date_range(start=datetime(2019,1,1),end=datetime(2019,12,31),freq='d')\n",
    "times = pd.date_range(start=datetime(2019,1,1),periods=365,freq='d')\n"
   ]
  },
  {
   "cell_type": "code",
   "execution_count": null,
   "id": "comprehensive-trade",
   "metadata": {},
   "outputs": [],
   "source": [
    "# Generate some synthetic data\n",
    "\n",
    "data = np.random.normal(size=len(times)) + np.linspace(-1,1.0,len(times))"
   ]
  },
  {
   "cell_type": "code",
   "execution_count": null,
   "id": "infectious-survivor",
   "metadata": {},
   "outputs": [],
   "source": [
    "# OK, combine the data and the index into a Series\n",
    "\n",
    "s = pd.Series(data, times)\n",
    "\n",
    "s"
   ]
  },
  {
   "cell_type": "code",
   "execution_count": null,
   "id": "refined-bridal",
   "metadata": {},
   "outputs": [],
   "source": [
    "# You can easily and interactively plot Series\n",
    "\n",
    "s.plot()"
   ]
  },
  {
   "cell_type": "code",
   "execution_count": null,
   "id": "sufficient-budget",
   "metadata": {},
   "outputs": [],
   "source": [
    "# You can also subset using the native types of indices\n",
    "\n",
    "s[datetime(2019,6,1):].plot()"
   ]
  },
  {
   "cell_type": "code",
   "execution_count": null,
   "id": "fleet-anatomy",
   "metadata": {},
   "outputs": [],
   "source": [
    "# Plot functions give you a great deal of control\n",
    "# Remember when looking at documentation, that even though you are using Pandas, \n",
    "# most of these display-specific arguments (eg style, figsize etc) are really being passed\n",
    "# to matplotlib behind the scenes, so you will often find far more detailed documentation in the matplotlib docs\n",
    "\n",
    "s.plot(figsize=(12,8),style='.k',alpha=0.5, label='data')\n",
    "\n",
    "# You can operate directly on Pandas series and DataFrames, and they will generally return something useful you\n",
    "# chain with further operations, or plot directly\n",
    "\n",
    "s.rolling(7).mean().plot(label = 'mean (7 days)')\n",
    "s.rolling(30).mean().plot(label = 'mean (30 days)')\n",
    "\n",
    "#Try toggling things on and off, you can iterate over different variations rapidly\n",
    "plt.ylim((-3,3))\n",
    "plt.xlim(datetime(2019,6,1),datetime(2019,10,1))\n",
    "\n",
    "plt.legend()\n"
   ]
  },
  {
   "cell_type": "code",
   "execution_count": null,
   "id": "lonely-commerce",
   "metadata": {},
   "outputs": [],
   "source": [
    "# OK, that was quite good, let's turn it into a function\n",
    "\n",
    "\n",
    "# There are lots of things wrong with this function, we can have a think about those afterwards\n",
    "# For now, let's just get something working\n",
    "def plot_with_means(s: pd.Series):\n",
    "    ax = s.plot(figsize=(12,8),style='.k',alpha=0.5, label='data')\n",
    "\n",
    "    # You can operate directly on Pandas series and DataFrames, and they will generally return something useful you\n",
    "    # chain with further operations, or plot directly\n",
    "\n",
    "    s.rolling(7).mean().plot(label = 'mean (7 days)')\n",
    "    s.rolling(30).mean().plot(label = 'mean (30 days)')\n",
    "\n",
    "    plt.ylim((-3,3))\n",
    "    plt.xlim(datetime(2019,6,1),datetime(2019,10,1))\n",
    "\n",
    "    plt.legend()\n",
    "    \n",
    "    # Here is something very _right_ about this function;\n",
    "    # Plot commands always return a matplotlib object - usually an axis\n",
    "    # We should do the same\n",
    "    return ax\n",
    "    "
   ]
  },
  {
   "cell_type": "code",
   "execution_count": null,
   "id": "athletic-guide",
   "metadata": {},
   "outputs": [],
   "source": [
    "plot_with_means(s)"
   ]
  },
  {
   "cell_type": "code",
   "execution_count": null,
   "id": "popular-hello",
   "metadata": {},
   "outputs": [],
   "source": [
    "ax = plot_with_means(s)\n",
    "ax.get_legend().remove()\n",
    "plt.ylim((-1,1))"
   ]
  },
  {
   "cell_type": "code",
   "execution_count": null,
   "id": "minus-projector",
   "metadata": {},
   "outputs": [],
   "source": [
    "# Generate a plot for saving\n",
    "\n",
    "ax = plot_with_means(s)\n",
    "\n",
    "# These are standard matplotlib commands\n",
    "fig = ax.get_figure()\n",
    "fig.savefig('test.png',dpi=300)\n",
    "\n",
    "# In this example we are only interested in saving the data; plt.close() should be used whenever you are doing\n",
    "# non-inline plots, as it frees memory, and prevents your notebook getting cluttered up - what if you were generating \n",
    "# 100 plots here?\n",
    "plt.close()"
   ]
  },
  {
   "cell_type": "code",
   "execution_count": null,
   "id": "incorporate-ferry",
   "metadata": {},
   "outputs": [],
   "source": [
    "# plt.close() also delineates between plots; consider the following\n",
    "plot_with_means(s)\n",
    "plot_with_means(s)"
   ]
  },
  {
   "cell_type": "code",
   "execution_count": null,
   "id": "statewide-custody",
   "metadata": {},
   "outputs": [],
   "source": [
    "# IPython/Jupyter also provide facilities for displaying images inline directly from files - the command below loads our \n",
    "# plot and displays it in the notebook; it is not doing any plotting, just loading a PNG\n",
    "\n",
    "from IPython.display import Image\n",
    "Image(filename='test.png') "
   ]
  },
  {
   "cell_type": "code",
   "execution_count": null,
   "id": "neutral-network",
   "metadata": {},
   "outputs": [],
   "source": []
  }
 ],
 "metadata": {
  "kernelspec": {
   "display_name": "Python 3 (ipykernel)",
   "language": "python",
   "name": "python3"
  },
  "language_info": {
   "codemirror_mode": {
    "name": "ipython",
    "version": 3
   },
   "file_extension": ".py",
   "mimetype": "text/x-python",
   "name": "python",
   "nbconvert_exporter": "python",
   "pygments_lexer": "ipython3",
   "version": "3.7.11"
  }
 },
 "nbformat": 4,
 "nbformat_minor": 5
}
