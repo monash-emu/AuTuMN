{
 "cells": [
  {
   "cell_type": "markdown",
   "id": "infinite-vietnam",
   "metadata": {},
   "source": [
    "# Basic modelling in AuTuMN\n",
    "\n",
    "This notebook provides a brief overview the interface to running and interacting with models in AuTuMN  "
   ]
  },
  {
   "cell_type": "code",
   "execution_count": null,
   "id": "successful-mobile",
   "metadata": {},
   "outputs": [],
   "source": [
    "# Start with imports\n",
    "# These should always live at the top of a notebook\n",
    "\n",
    "# Import commonly used external libraries - you want always need these, but most of the time you will\n",
    "import numpy as np\n",
    "import pandas as pd\n",
    "\n",
    "# Import our project interface - this is the main method of accessing our models\n",
    "from autumn.tools.project import get_project"
   ]
  },
  {
   "cell_type": "markdown",
   "id": "spectacular-night",
   "metadata": {},
   "source": [
    "## Projects\n",
    "\n",
    "Projects encapsulate everything with we need to interact with a given model  \n",
    "This includes parameters, calibration specifications, and tools for building and running the model itself"
   ]
  },
  {
   "cell_type": "code",
   "execution_count": null,
   "id": "narrow-payroll",
   "metadata": {},
   "outputs": [],
   "source": [
    "# To open a project, we need to know the model name (ie the type of model we are using)\n",
    "# and the model region, which will have its own input data, calibration targets etc\n",
    "\n",
    "model_name = 'covid_19'\n",
    "model_region = 'malaysia'\n",
    "\n",
    "p = get_project(model_name, model_region)"
   ]
  },
  {
   "cell_type": "code",
   "execution_count": null,
   "id": "weighted-christopher",
   "metadata": {},
   "outputs": [],
   "source": [
    "# Run the model with unmodified baseline parameters\n",
    "# This command returns a summer CompartmentalModel object that contains the completed run data\n",
    "# We will detail how to modify and interact with parameters in the next notebook\n",
    "\n",
    "params = p.param_set.baseline\n",
    "\n",
    "m = p.run_baseline_model(params)"
   ]
  },
  {
   "cell_type": "markdown",
   "id": "funded-helmet",
   "metadata": {},
   "source": [
    "## Model outputs\n",
    "\n",
    "There are 2 kinds of output data in AuTuMN/summer models\n",
    "\n",
    "1. Outputs (model.outputs, model.get_outputs_df)  \n",
    "The 'raw' model outputs - ie the value of every compartment at every timestep\n",
    "2. Derived outputs (model.derived_outputs, model.get_derived_outputs_df)  \n",
    "Additional outputs that are computed after the model is run, which may be combinations of the other outputs, or have transformations applied etc"
   ]
  },
  {
   "cell_type": "code",
   "execution_count": null,
   "id": "underlying-monaco",
   "metadata": {},
   "outputs": [],
   "source": [
    "# The raw model outputs are a numpy array of shape (times, compartments)\n",
    "# They can be accessed via model.outputs\n",
    "\n",
    "# For interactive use, we provide a much more friendly interface in form of pandas DataFrames\n",
    "# You can interact with these as you would any other tabular data\n",
    "# Please refer to the pandas documentation for full details\n",
    "\n",
    "odf = m.get_outputs_df()\n",
    "\n",
    "odf"
   ]
  },
  {
   "cell_type": "code",
   "execution_count": null,
   "id": "noticed-machine",
   "metadata": {},
   "outputs": [],
   "source": [
    "# Here we plot a single compartment\n",
    "\n",
    "odf['late_exposedXagegroup_20Xclinical_hospital_non_icuXtracing_untracedXstrain_deltaXvaccination_unvaccinated'].plot()"
   ]
  },
  {
   "cell_type": "code",
   "execution_count": null,
   "id": "graduate-longer",
   "metadata": {},
   "outputs": [],
   "source": [
    "# In the following example, we compare the clinical ICU impacts of all vaccinated and unvaccinated compartments"
   ]
  },
  {
   "cell_type": "code",
   "execution_count": null,
   "id": "understanding-bulgaria",
   "metadata": {},
   "outputs": [],
   "source": [
    "# Select a subset of columns (compartments) by filtering on their names\n",
    "columns = odf.columns\n",
    "columns = [c for c in columns if \"clinical_icu\" in c]\n",
    "c_vacc = [c for c in columns if \"vaccination_vaccinated\" in c]\n",
    "c_unvacc = [c for c in columns if \"vaccination_unvaccinated\" in c]"
   ]
  },
  {
   "cell_type": "code",
   "execution_count": null,
   "id": "typical-banner",
   "metadata": {},
   "outputs": [],
   "source": [
    "# Construct a new DataFrame using our column selections, and plot it\n",
    "\n",
    "analysis_df = pd.DataFrame()\n",
    "analysis_df['vacc'] = odf[c_vacc].sum(axis=1)\n",
    "analysis_df['unvacc'] = odf[c_unvacc].sum(axis=1)\n",
    "analysis_df.plot(title='ICU impact by vaccination status')"
   ]
  },
  {
   "cell_type": "code",
   "execution_count": null,
   "id": "changed-egypt",
   "metadata": {},
   "outputs": [],
   "source": [
    "# Derived outputs function in exactly the same way\n",
    "\n",
    "do_df = m.get_derived_outputs_df()\n",
    "\n",
    "do_df[['accum_deaths','incidence']].plot()"
   ]
  },
  {
   "cell_type": "code",
   "execution_count": null,
   "id": "alternative-allergy",
   "metadata": {},
   "outputs": [],
   "source": []
  }
 ],
 "metadata": {
  "kernelspec": {
   "display_name": "Python 3",
   "language": "python",
   "name": "python3"
  },
  "language_info": {
   "codemirror_mode": {
    "name": "ipython",
    "version": 3
   },
   "file_extension": ".py",
   "mimetype": "text/x-python",
   "name": "python",
   "nbconvert_exporter": "python",
   "pygments_lexer": "ipython3",
   "version": "3.6.13"
  }
 },
 "nbformat": 4,
 "nbformat_minor": 5
}
