{
 "cells": [
  {
   "cell_type": "markdown",
   "id": "dependent-karma",
   "metadata": {},
   "source": [
    "# Basic modelling in AuTuMN"
   ]
  },
  {
   "cell_type": "code",
   "execution_count": null,
   "id": "transsexual-devil",
   "metadata": {},
   "outputs": [],
   "source": [
    "# Start with imports\n",
    "# These should always live at the top of a notebook\n",
    "\n",
    "# Import commonly used external libraries - you want always need these, but most of the time you will\n",
    "import numpy as np\n",
    "import pandas as pd\n",
    "\n",
    "# Import our project interface - this is the main method of accessing our models\n",
    "from autumn.tools.project import get_project"
   ]
  },
  {
   "cell_type": "code",
   "execution_count": null,
   "id": "widespread-lloyd",
   "metadata": {},
   "outputs": [],
   "source": [
    "model_name = 'covid_19'\n",
    "model_region = 'malaysia'\n",
    "\n",
    "p = get_project(model_name, model_region)"
   ]
  },
  {
   "cell_type": "code",
   "execution_count": null,
   "id": "fancy-trainer",
   "metadata": {},
   "outputs": [],
   "source": [
    "# Run the model with unmodified baseline parameters\n",
    "# This command returns a summer CompartmentalModel object that contains the completed run data\n",
    "\n",
    "params = p.param_set.baseline\n",
    "\n",
    "m = p.run_baseline_model(params)"
   ]
  },
  {
   "cell_type": "code",
   "execution_count": null,
   "id": "charged-mortality",
   "metadata": {},
   "outputs": [],
   "source": [
    "# The outputs are stored as single numpy ndarray, of dimensions [time, compartments]\n",
    "print(m.outputs)\n",
    "print(m.outputs.shape)"
   ]
  },
  {
   "cell_type": "code",
   "execution_count": null,
   "id": "inside-photography",
   "metadata": {},
   "outputs": [],
   "source": [
    "params.to_dict()['vaccination']"
   ]
  },
  {
   "cell_type": "code",
   "execution_count": null,
   "id": "destroyed-davis",
   "metadata": {},
   "outputs": [],
   "source": [
    "# The derived outputs are stored as a dictionary of time series\n",
    "# It is often convenient to put these in a pandas DataFrame so you can interact with this directly\n",
    "do_df = pd.DataFrame(m.derived_outputs)\n",
    "do_df"
   ]
  },
  {
   "cell_type": "code",
   "execution_count": null,
   "id": "numeric-links",
   "metadata": {},
   "outputs": [],
   "source": [
    "# Select a subset of outputs \n",
    "# Anything to do with vaccination...\n",
    "vacc_keys = [k for k in list(do_df) if 'vaccination' in k]\n",
    "\n",
    "# Now do the plot\n",
    "\n",
    "# Pandas will return the matplotlib axes object it uses for its plots\n",
    "ax = do_df[vacc_keys].plot(title='Vaccination')\n",
    "\n",
    "# You can interact with this object ot modify features of the plot\n",
    "# Here we locate the legend so that _its_ center left is located \n",
    "# at the plots full x extent (1.0); ie to the right, and half y (0.5); ie in the center\n",
    "ax.legend(loc='center left', bbox_to_anchor=(1.0,0.5))\n"
   ]
  },
  {
   "cell_type": "code",
   "execution_count": null,
   "id": "hairy-campaign",
   "metadata": {},
   "outputs": [],
   "source": []
  }
 ],
 "metadata": {
  "kernelspec": {
   "display_name": "Python 3",
   "language": "python",
   "name": "python3"
  },
  "language_info": {
   "codemirror_mode": {
    "name": "ipython",
    "version": 3
   },
   "file_extension": ".py",
   "mimetype": "text/x-python",
   "name": "python",
   "nbconvert_exporter": "python",
   "pygments_lexer": "ipython3",
   "version": "3.6.13"
  }
 },
 "nbformat": 4,
 "nbformat_minor": 5
}
