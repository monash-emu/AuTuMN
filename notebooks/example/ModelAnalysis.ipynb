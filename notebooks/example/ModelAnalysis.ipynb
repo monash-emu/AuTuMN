{
 "cells": [
  {
   "cell_type": "markdown",
   "id": "cutting-property",
   "metadata": {},
   "source": [
    "# Plotting and analysing models"
   ]
  },
  {
   "cell_type": "code",
   "execution_count": null,
   "id": "boolean-inspection",
   "metadata": {},
   "outputs": [],
   "source": [
    "# Start with imports\n",
    "# These should always live at the top of a notebook\n",
    "\n",
    "# Import commonly used external libraries - you won't always need these, but most of the time you will\n",
    "import numpy as np\n",
    "import pandas as pd\n",
    "\n",
    "# Import our project interface - this is the main method of accessing our models\n",
    "from autumn.tools.project import get_project\n",
    "\n",
    "# Also include our custom pretty printer - it can make things a lot easier to read!\n",
    "from autumn.tools.utils.display import pretty_print"
   ]
  },
  {
   "cell_type": "code",
   "execution_count": null,
   "id": "minus-speaking",
   "metadata": {},
   "outputs": [],
   "source": [
    "model_name = 'covid_19'\n",
    "model_region = 'malaysia'\n",
    "\n",
    "project = get_project(model_name, model_region)"
   ]
  },
  {
   "cell_type": "markdown",
   "id": "little-onion",
   "metadata": {},
   "source": [
    "## Working with parameters\n",
    "\n",
    "AuTuMN provides a number of facilities for interacting with model parameters, but the basic pattern is always the same;  \n",
    "1. Get some parameters\n",
    "2. Modify them (or not)\n",
    "3. Build and run a model"
   ]
  },
  {
   "cell_type": "code",
   "execution_count": null,
   "id": "favorite-nancy",
   "metadata": {},
   "outputs": [],
   "source": [
    "# Run the model with unmodified baseline parameters\n",
    "# This command returns a summer CompartmentalModel object that contains the completed run data\n",
    "\n",
    "params = project.param_set.baseline\n",
    "\n",
    "m = project.run_baseline_model(params)"
   ]
  },
  {
   "cell_type": "code",
   "execution_count": null,
   "id": "herbal-member",
   "metadata": {},
   "outputs": [],
   "source": [
    "# Summer provides convenience functions to access model outputs (and derived outputs) as pandas DataFrames\n",
    "# This is the recommended way of using model outputs in an interactive context\n",
    "\n",
    "outputs_df = m.get_outputs_df()\n",
    "doutputs_df = m.get_derived_outputs_df()"
   ]
  },
  {
   "cell_type": "code",
   "execution_count": null,
   "id": "adolescent-oklahoma",
   "metadata": {},
   "outputs": [],
   "source": [
    "# Let's have a quick look at one of the derived outputs - pandas makes it easy to plot directly\n",
    "\n",
    "doutputs_df['accum_deaths'].plot()"
   ]
  },
  {
   "cell_type": "markdown",
   "id": "chronic-thesaurus",
   "metadata": {},
   "source": [
    "### Changing parameters\n",
    "\n",
    "In the above example, we simply ran the model with the 'default' parameters (ie those specified in the project file)  \n",
    "Here we will modify parameters programatically and compare outputs from different runs"
   ]
  },
  {
   "cell_type": "code",
   "execution_count": null,
   "id": "verified-shore",
   "metadata": {},
   "outputs": [],
   "source": [
    "# Have a look at our baseline params; using pretty printing can make it easier to see what's going on\n",
    "\n",
    "params_baseline = project.param_set.baseline\n",
    "\n",
    "pretty_print(params_baseline)"
   ]
  },
  {
   "cell_type": "code",
   "execution_count": null,
   "id": "explicit-needle",
   "metadata": {},
   "outputs": [],
   "source": [
    "# Let's say we are interested in experimenting with a single parameter - contact rate\n",
    "# We'll take a look at the existing value first\n",
    "\n",
    "params_baseline['contact_rate']"
   ]
  },
  {
   "cell_type": "code",
   "execution_count": null,
   "id": "important-profession",
   "metadata": {},
   "outputs": [],
   "source": [
    "# To change a parameter value, the AuTuMN parameters API creates a non-destructive copy of the parameters with updates applied\n",
    "# This is the recommended way of interacting with parameters, since it includes \n",
    "# automatic validation facilities and other niceties\n",
    "# \n",
    "# In performance-sensitive contexts, you may want to interact with parameter dictionaries directly\n",
    "\n",
    "# Updates are passed in via dictionaries\n",
    "updates = {'contact_rate': 0.03}\n",
    "\n",
    "# Create a new parameter set - params_baseline remains unchanged\n",
    "new_params = params_baseline.update(updates)\n",
    "\n",
    "new_params['contact_rate']"
   ]
  },
  {
   "cell_type": "code",
   "execution_count": null,
   "id": "gentle-confusion",
   "metadata": {},
   "outputs": [],
   "source": [
    "# Run a model with the new parameters, and get its derived outputs\n",
    "new_do_df = project.run_baseline_model(new_params).get_derived_outputs_df()"
   ]
  },
  {
   "cell_type": "code",
   "execution_count": null,
   "id": "atomic-rhythm",
   "metadata": {},
   "outputs": [],
   "source": [
    "# Examine the outputs\n",
    "# We'll plot the original and new outputs overlayed so we can compare them directly\n",
    "\n",
    "doutputs_df['accum_deaths'].plot(label='orig')\n",
    "ax = new_do_df['accum_deaths'].plot(label='new')\n",
    "ax.legend()"
   ]
  },
  {
   "cell_type": "code",
   "execution_count": null,
   "id": "mexican-broadcasting",
   "metadata": {},
   "outputs": [],
   "source": [
    "# Here we generate a range of values programatically and compare all of them\n",
    "# This is not necessarily the best or fastest way to do this, but does demonstrate how easy it is to build\n",
    "# tools for exploring model dynamics\n",
    "\n",
    "def run_model_with_param_updates(baseline, update_dict):\n",
    "    params = baseline.update(update_dict)\n",
    "    m = project.run_baseline_model(params)\n",
    "    return m\n",
    "\n",
    "cr_comp_df = pd.DataFrame()\n",
    "\n",
    "for contact_rate in np.linspace(0.01, 0.05, 5):\n",
    "    cur_results = run_model_with_param_updates(params_baseline, {'contact_rate': contact_rate})\n",
    "    cr_comp_df[contact_rate] = cur_results.get_derived_outputs_df()['accum_deaths']\n"
   ]
  },
  {
   "cell_type": "code",
   "execution_count": null,
   "id": "persistent-wildlife",
   "metadata": {},
   "outputs": [],
   "source": [
    "# Let's have a look at the outputs\n",
    "\n",
    "ax = cr_comp_df.plot(title=\"Accum deaths by contact rate\")\n",
    "# bbox_to_anchor lets you place a plot legend specifically\n",
    "# For plots with a lot of data, you may want to move it outside \n",
    "# of the plotting frame altogether as we have done here\n",
    "ax.legend(bbox_to_anchor=(1.0,1.0))"
   ]
  }
 ],
 "metadata": {
  "kernelspec": {
   "display_name": "Python 3 (ipykernel)",
   "language": "python",
   "name": "python3"
  },
  "language_info": {
   "codemirror_mode": {
    "name": "ipython",
    "version": 3
   },
   "file_extension": ".py",
   "mimetype": "text/x-python",
   "name": "python",
   "nbconvert_exporter": "python",
   "pygments_lexer": "ipython3",
   "version": "3.7.11"
  }
 },
 "nbformat": 4,
 "nbformat_minor": 5
}
