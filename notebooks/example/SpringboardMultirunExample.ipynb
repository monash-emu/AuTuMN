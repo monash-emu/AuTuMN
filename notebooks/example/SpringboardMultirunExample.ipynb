{
 "cells": [
  {
   "cell_type": "code",
   "execution_count": null,
   "id": "f5408fea",
   "metadata": {},
   "outputs": [],
   "source": [
    "from autumn.infrastructure.remote import springboard"
   ]
  },
  {
   "cell_type": "code",
   "execution_count": null,
   "id": "b38184a4",
   "metadata": {},
   "outputs": [],
   "source": [
    "from datetime import datetime\n",
    "import numpy as np"
   ]
  },
  {
   "cell_type": "code",
   "execution_count": null,
   "id": "3333657b",
   "metadata": {},
   "outputs": [],
   "source": [
    "from summer2 import CompartmentalModel\n",
    "from summer2.parameters import Parameter as param"
   ]
  },
  {
   "cell_type": "code",
   "execution_count": null,
   "id": "e6035636",
   "metadata": {},
   "outputs": [],
   "source": [
    "def get_model():\n",
    "    m = CompartmentalModel([0,100], [\"S\", \"I\", \"R\"], \"I\", ref_date=datetime(2001,1,1))\n",
    "    m.set_initial_population({\"S\": 990.0, \"I\": 10.0})\n",
    "    m.add_infection_frequency_flow(\"infection\", param(\"contact_rate\"), \"S\", \"I\")\n",
    "    m.add_transition_flow(\"recovery\", param(\"recovery_rate\"), \"I\", \"R\")\n",
    "    incidence = m.request_output_for_flow(\"incidence\", \"infection\")\n",
    "    m.request_function_output(\"notifications\", incidence * param(\"cdr\"))\n",
    "    m.set_default_parameters({\"contact_rate\": 0.4, \"recovery_rate\": 0.1, \"cdr\": 0.2})\n",
    "    return m\n"
   ]
  },
  {
   "cell_type": "code",
   "execution_count": null,
   "id": "6d01ad6b",
   "metadata": {},
   "outputs": [],
   "source": [
    "from estival import targets as est\n",
    "from estival import priors as esp\n",
    "from estival.model import BayesianCompartmentalModel"
   ]
  },
  {
   "cell_type": "code",
   "execution_count": null,
   "id": "eba4eec1",
   "metadata": {},
   "outputs": [],
   "source": [
    "# We're going to run multiple calibrations in parallel - to verify that they are doing different and meaningful work,\n",
    "# we're going to generate different targets based on running the model with a range of contact_rates for the synthetic data\n",
    "\n",
    "contact_rates = np.linspace(0.3,0.9,4)\n",
    "contact_rates"
   ]
  },
  {
   "cell_type": "code",
   "execution_count": null,
   "id": "9d53a77a",
   "metadata": {},
   "outputs": [],
   "source": [
    "# Our parameterised targets function\n",
    "# build a model so that we've got something to run it with\n",
    "m = get_model()\n",
    "\n",
    "def get_targets(contact_rate):\n",
    "    m.run({\"contact_rate\": contact_rate, \"recovery_rate\": 0.4})\n",
    "    do_def = m.get_derived_outputs_df()\n",
    "    obs_clean = do_def[\"incidence\"].iloc[0:50]\n",
    "    obs_noisy = obs_clean * np.exp(np.random.normal(0.0,0.2,len(obs_clean)))\n",
    "    targets = [\n",
    "    est.TruncatedNormalTarget(\"incidence\", obs_noisy, (0.0,np.inf),\n",
    "        esp.UniformPrior(\"incidence_dispersion\",(0.1, obs_noisy.max()*0.1)))\n",
    "    ]\n",
    "    return targets"
   ]
  },
  {
   "cell_type": "code",
   "execution_count": null,
   "id": "40063203",
   "metadata": {},
   "outputs": [],
   "source": [
    "# Uniform priors over our 2 model parameters\n",
    "priors = [\n",
    "    esp.UniformPrior(\"contact_rate\", (0.01,1.0)),\n",
    "    esp.TruncNormalPrior(\"recovery_rate\", 0.5, 0.2, (0.01,1.0)),\n",
    "]"
   ]
  },
  {
   "cell_type": "code",
   "execution_count": null,
   "id": "d52cfa79",
   "metadata": {},
   "outputs": [],
   "source": [
    "from estival.calibration import pymc as epm\n",
    "import pymc as pm\n",
    "import arviz as az"
   ]
  },
  {
   "cell_type": "code",
   "execution_count": null,
   "id": "cea7f4a8",
   "metadata": {},
   "outputs": [],
   "source": [
    "def calibrate_model(targets, priors, draws: int, chains: int):\n",
    "    \n",
    "    # Build our model as specified above\n",
    "    m = get_model()\n",
    "    defp = m.get_default_parameters()\n",
    "    \n",
    "    # Build the BCM based on user supplied targets and priors\n",
    "    bcm = BayesianCompartmentalModel(m, defp, priors, targets)\n",
    "    \n",
    "    # Run for the specified number of draws, over the specified number of chains/cores\n",
    "    with pm.Model() as model:\n",
    "        variables = epm.use_model(bcm)\n",
    "        idata = pm.sample(step=[pm.DEMetropolis(variables)], draws=draws, tune=0,cores=chains,chains=chains)\n",
    "        \n",
    "    return idata"
   ]
  },
  {
   "cell_type": "code",
   "execution_count": null,
   "id": "47d05a73",
   "metadata": {},
   "outputs": [],
   "source": [
    "def remote_calibration_task(bridge: springboard.task.TaskBridge, targets, priors, draws, chains):\n",
    "    \n",
    "    import multiprocessing as mp\n",
    "    mp.set_start_method('forkserver')\n",
    "    \n",
    "    bridge.logger.info(f\"Calibrating {chains} chains for {draws} draws\")\n",
    "    \n",
    "    idata = calibrate_model(targets, priors, draws, chains)\n",
    "    idata.to_netcdf(bridge.out_path / \"idata.nc\")\n",
    "\n",
    "    summary = az.summary(idata)\n",
    "    bridge.logger.info(summary[\"r_hat\"])\n",
    "    \n",
    "    bridge.logger.info(\"Calibration complete\")"
   ]
  },
  {
   "cell_type": "code",
   "execution_count": null,
   "id": "343c63bf",
   "metadata": {},
   "outputs": [],
   "source": [
    "N_CHAINS = 4"
   ]
  },
  {
   "cell_type": "code",
   "execution_count": null,
   "id": "1a1207a8",
   "metadata": {},
   "outputs": [],
   "source": [
    "# Get a compute machine to do.. some computation.\n",
    "# We only use a single EC2MachineSpec - all instances will be of the same specification\n",
    "mspec = springboard.EC2MachineSpec(N_CHAINS, 4, \"compute\")"
   ]
  },
  {
   "cell_type": "code",
   "execution_count": null,
   "id": "0a654979",
   "metadata": {},
   "outputs": [],
   "source": [
    "#custom run_path function\n",
    "def generate_run_paths(n_runs: int, desc: str):\n",
    "    base_name = springboard.launch.gen_run_name(desc)\n",
    "    return [f\"projects/testing/somewhere/{base_name}/run{i}\" for i in range(n_runs)]\n",
    "    "
   ]
  },
  {
   "cell_type": "code",
   "execution_count": null,
   "id": "cd4fb992",
   "metadata": {},
   "outputs": [],
   "source": [
    "run_paths = generate_run_paths(4, \"multical\")\n",
    "run_paths"
   ]
  },
  {
   "cell_type": "code",
   "execution_count": null,
   "id": "2252299b",
   "metadata": {},
   "outputs": [],
   "source": [
    "#launch_synced_multiple_autumn_task operates in a similar fashion to launch_synced_autumn_task\n",
    "#however instead of a single TaskSpec and run_path, it takes a dictionary of form\n",
    "#{run_path: task_spec}\n",
    "\n",
    "task_dict = {}\n",
    "\n",
    "for i, cr in enumerate(contact_rates):\n",
    "    # Use our custom targets function from above\n",
    "    targets = get_targets(cr)\n",
    "    # Use these targets, but keep the other kwargs the same\n",
    "    task_kwargs = {\n",
    "        \"targets\": targets,\n",
    "        \"priors\": priors,\n",
    "        \"draws\": 2000,\n",
    "        \"chains\": N_CHAINS\n",
    "    }\n",
    "    task_dict[run_paths[i]] = springboard.TaskSpec(remote_calibration_task, task_kwargs)"
   ]
  },
  {
   "cell_type": "code",
   "execution_count": null,
   "id": "270bc997",
   "metadata": {},
   "outputs": [],
   "source": [
    "runners = springboard.launch.launch_synced_multiple_autumn_task(task_dict, mspec)"
   ]
  },
  {
   "cell_type": "code",
   "execution_count": null,
   "id": "59c3de92",
   "metadata": {},
   "outputs": [],
   "source": [
    "for k, runner in runners.items():\n",
    "    print(runner.wait())"
   ]
  },
  {
   "cell_type": "code",
   "execution_count": null,
   "id": "4febe156",
   "metadata": {},
   "outputs": [],
   "source": [
    "from autumn.core.runs import ManagedRun"
   ]
  },
  {
   "cell_type": "code",
   "execution_count": null,
   "id": "6996ae4e",
   "metadata": {},
   "outputs": [],
   "source": [
    "mr_dict = {}\n",
    "\n",
    "for run_path in run_paths:\n",
    "    mr_dict[run_path] = mr = ManagedRun(run_path)\n",
    "    for f in mr.remote.list_contents():\n",
    "        mr.remote.download(f)"
   ]
  },
  {
   "cell_type": "code",
   "execution_count": null,
   "id": "94e79707",
   "metadata": {},
   "outputs": [],
   "source": [
    "import arviz as az"
   ]
  },
  {
   "cell_type": "code",
   "execution_count": null,
   "id": "cf769692",
   "metadata": {},
   "outputs": [],
   "source": [
    "# Select a run here, see results below\n",
    "run_path = run_paths[0]\n",
    "mr = mr_dict[run_path]\n",
    "run_path"
   ]
  },
  {
   "cell_type": "code",
   "execution_count": null,
   "id": "a7ebd6df",
   "metadata": {},
   "outputs": [],
   "source": [
    "idata = az.from_netcdf(mr.local_path / \"output/idata.nc\")"
   ]
  },
  {
   "cell_type": "code",
   "execution_count": null,
   "id": "c4d08abb",
   "metadata": {},
   "outputs": [],
   "source": [
    "az.summary(idata)"
   ]
  },
  {
   "cell_type": "code",
   "execution_count": null,
   "id": "22828616",
   "metadata": {},
   "outputs": [],
   "source": [
    "az.plot_trace(idata, compact=False);"
   ]
  },
  {
   "cell_type": "code",
   "execution_count": null,
   "id": "edbcf4de",
   "metadata": {},
   "outputs": [],
   "source": []
  }
 ],
 "metadata": {
  "kernelspec": {
   "display_name": "Python 3 (ipykernel)",
   "language": "python",
   "name": "python3"
  },
  "language_info": {
   "codemirror_mode": {
    "name": "ipython",
    "version": 3
   },
   "file_extension": ".py",
   "mimetype": "text/x-python",
   "name": "python",
   "nbconvert_exporter": "python",
   "pygments_lexer": "ipython3",
   "version": "3.10.10"
  }
 },
 "nbformat": 4,
 "nbformat_minor": 5
}
