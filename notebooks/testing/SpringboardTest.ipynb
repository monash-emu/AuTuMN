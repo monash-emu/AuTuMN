{
 "cells": [
  {
   "cell_type": "code",
   "execution_count": null,
   "id": "1ab2f0f6",
   "metadata": {},
   "outputs": [],
   "source": [
    "from autumn.infrastructure.remote import springboard"
   ]
  },
  {
   "cell_type": "code",
   "execution_count": null,
   "id": "311bd46c",
   "metadata": {},
   "outputs": [],
   "source": [
    "def do_something(bridge: springboard.task.TaskBridge, text: str):\n",
    "    bridge.logger.info(\"Doing something...\")\n",
    "    \n",
    "    with open(bridge.out_path / \"data.txt\", \"w\") as out_f:\n",
    "        out_f.write(text)\n",
    "\n",
    "    bridge.logger.info(\"Something has been done\")"
   ]
  },
  {
   "cell_type": "code",
   "execution_count": null,
   "id": "36687f1c",
   "metadata": {},
   "outputs": [],
   "source": [
    "# Get a small, cheap machine to test on...\n",
    "mspec = springboard.EC2MachineSpec(1,2, \"tiny\")\n",
    "\n",
    "# Wrap our function; the first argument is supplied by the runner, the rest must be kwargs\n",
    "# Note that these arguments should (where possible) be built in python data types (or at least nothing too exotic)\n",
    "tspec = springboard.TaskSpec(do_something, {\"text\": \"test output\"})"
   ]
  },
  {
   "cell_type": "code",
   "execution_count": null,
   "id": "faa36c35",
   "metadata": {},
   "outputs": [],
   "source": [
    "run_path = springboard.launch.get_autumn_project_run_path(\"testing\", \"anywhere\", \"test\")\n",
    "run_path"
   ]
  },
  {
   "cell_type": "code",
   "execution_count": null,
   "id": "3e46735a",
   "metadata": {},
   "outputs": [],
   "source": [
    "# This should be fairly resilient to failure, however if you do receive any kind of error or Exception here,\n",
    "# please tell David ASAP!\n",
    "# It is possible you will get some \"SSH connection will waiting, retrying\" messages; please also report these\n",
    "# - they're not a 'failture', just AWS being a bit slow...\n",
    "\n",
    "runner = springboard.launch.launch_synced_autumn_task(tspec, mspec, run_path,\"springboard_refactor\", \"springboardtest\")"
   ]
  },
  {
   "cell_type": "code",
   "execution_count": null,
   "id": "71f0592d",
   "metadata": {},
   "outputs": [],
   "source": [
    "# Use 'tail' to report the last (n, default=10) lines of command output\n",
    "# This is only valid while the task is actually running, and is included here to demonstrate its use in debugging \n",
    "# Typical runs would just use the wait method instead (see cell below)\n",
    "\n",
    "print(runner.tail())"
   ]
  },
  {
   "cell_type": "code",
   "execution_count": null,
   "id": "aab933e6",
   "metadata": {},
   "outputs": [],
   "source": [
    "# Wait until the task is complete - it might take a few minutes...\n",
    "\n",
    "runner.wait()"
   ]
  },
  {
   "cell_type": "code",
   "execution_count": null,
   "id": "ca8240d1",
   "metadata": {},
   "outputs": [],
   "source": [
    "# This should print out a log containing the text from our wrapped task...\n",
    "print(runner.get_log())"
   ]
  },
  {
   "cell_type": "code",
   "execution_count": null,
   "id": "7794486f",
   "metadata": {},
   "outputs": [],
   "source": [
    "# This is the complete 'command line' output from the run\n",
    "print(runner.get_iodump())"
   ]
  },
  {
   "cell_type": "code",
   "execution_count": null,
   "id": "f4bcd95e",
   "metadata": {},
   "outputs": [],
   "source": []
  }
 ],
 "metadata": {
  "kernelspec": {
   "display_name": "Python 3 (ipykernel)",
   "language": "python",
   "name": "python3"
  },
  "language_info": {
   "codemirror_mode": {
    "name": "ipython",
    "version": 3
   },
   "file_extension": ".py",
   "mimetype": "text/x-python",
   "name": "python",
   "nbconvert_exporter": "python",
   "pygments_lexer": "ipython3",
   "version": "3.10.10"
  }
 },
 "nbformat": 4,
 "nbformat_minor": 5
}
