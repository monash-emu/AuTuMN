{
 "cells": [
  {
   "cell_type": "code",
   "execution_count": 1,
   "id": "f2fde874",
   "metadata": {},
   "outputs": [
    {
     "name": "stderr",
     "output_type": "stream",
     "text": [
      "C:\\Users\\ehug0006\\Miniconda3\\envs\\autumn310\\lib\\site-packages\\numpy\\_distributor_init.py:30: UserWarning: loaded more than 1 DLL from .libs:\n",
      "C:\\Users\\ehug0006\\Miniconda3\\envs\\autumn310\\lib\\site-packages\\numpy\\.libs\\libopenblas.FB5AE2TYXYH2IJRDKGDGQ3XBKLKTF43H.gfortran-win_amd64.dll\n",
      "C:\\Users\\ehug0006\\Miniconda3\\envs\\autumn310\\lib\\site-packages\\numpy\\.libs\\libopenblas.XWYDX2IKJW2NMTWSFYNGFUWKQU3LYTCZ.gfortran-win_amd64.dll\n",
      "  warnings.warn(\"loaded more than 1 DLL from .libs:\"\n",
      "C:\\Users\\ehug0006\\Miniconda3\\envs\\autumn310\\lib\\site-packages\\scipy\\__init__.py:146: UserWarning: A NumPy version >=1.16.5 and <1.23.0 is required for this version of SciPy (detected version 1.23.2\n",
      "  warnings.warn(f\"A NumPy version >={np_minversion} and <{np_maxversion}\"\n"
     ]
    }
   ],
   "source": [
    "import datetime\n",
    "from math import ceil\n",
    "import plotly.express as px\n",
    "from plotly.subplots import make_subplots\n",
    "import plotly.graph_objects as go\n",
    "from pathlib import Path\n",
    "\n",
    "from summer.utils import ref_times_to_dti\n",
    "\n",
    "from autumn.settings.constants import COVID_BASE_DATETIME\n",
    "from autumn.core.runs import ManagedRun\n",
    "from autumn.core.project import get_project"
   ]
  },
  {
   "cell_type": "code",
   "execution_count": 2,
   "id": "554d9024",
   "metadata": {},
   "outputs": [],
   "source": [
    "region = \"northern_territory\""
   ]
  },
  {
   "cell_type": "code",
   "execution_count": 3,
   "id": "85af2055",
   "metadata": {},
   "outputs": [],
   "source": [
    "run_id = \"sm_sir/northern_territory/1662380460/28ff0b7\""
   ]
  },
  {
   "cell_type": "code",
   "execution_count": 4,
   "id": "30d9015a",
   "metadata": {},
   "outputs": [],
   "source": [
    "mr = ManagedRun(run_id)"
   ]
  },
  {
   "cell_type": "code",
   "execution_count": 5,
   "id": "7e2140a7",
   "metadata": {},
   "outputs": [],
   "source": [
    "pbi = mr.powerbi.get_db()\n",
    "results = pbi.get_uncertainty()"
   ]
  },
  {
   "cell_type": "code",
   "execution_count": 6,
   "id": "c0346d8a",
   "metadata": {},
   "outputs": [
    {
     "ename": "AssertionError",
     "evalue": "Project northern_territory not registered as a project using model sm_sir.",
     "output_type": "error",
     "traceback": [
      "\u001b[1;31m---------------------------------------------------------------------------\u001b[0m",
      "\u001b[1;31mAssertionError\u001b[0m                            Traceback (most recent call last)",
      "Input \u001b[1;32mIn [6]\u001b[0m, in \u001b[0;36m<cell line: 1>\u001b[1;34m()\u001b[0m\n\u001b[1;32m----> 1\u001b[0m project \u001b[38;5;241m=\u001b[39m \u001b[43mget_project\u001b[49m\u001b[43m(\u001b[49m\u001b[38;5;124;43m\"\u001b[39;49m\u001b[38;5;124;43msm_sir\u001b[39;49m\u001b[38;5;124;43m\"\u001b[39;49m\u001b[43m,\u001b[49m\u001b[43m \u001b[49m\u001b[43mregion\u001b[49m\u001b[43m,\u001b[49m\u001b[43m \u001b[49m\u001b[43mreload\u001b[49m\u001b[38;5;241;43m=\u001b[39;49m\u001b[38;5;28;43;01mTrue\u001b[39;49;00m\u001b[43m)\u001b[49m\n",
      "File \u001b[1;32mc:\\users\\ehug0006\\emu\\autumn\\autumn\\core\\project\\project.py:265\u001b[0m, in \u001b[0;36mget_project\u001b[1;34m(model_name, project_name, reload)\u001b[0m\n\u001b[0;32m    263\u001b[0m \u001b[38;5;28;01massert\u001b[39;00m model_name \u001b[38;5;129;01min\u001b[39;00m _PROJECTS, \u001b[38;5;124mf\u001b[39m\u001b[38;5;124m\"\u001b[39m\u001b[38;5;124mModel \u001b[39m\u001b[38;5;132;01m{\u001b[39;00mmodel_name\u001b[38;5;132;01m}\u001b[39;00m\u001b[38;5;124m not registered as a project.\u001b[39m\u001b[38;5;124m\"\u001b[39m\n\u001b[0;32m    264\u001b[0m msg \u001b[38;5;241m=\u001b[39m \u001b[38;5;124mf\u001b[39m\u001b[38;5;124m\"\u001b[39m\u001b[38;5;124mProject \u001b[39m\u001b[38;5;132;01m{\u001b[39;00mproject_name\u001b[38;5;132;01m}\u001b[39;00m\u001b[38;5;124m not registered as a project using model \u001b[39m\u001b[38;5;132;01m{\u001b[39;00mmodel_name\u001b[38;5;132;01m}\u001b[39;00m\u001b[38;5;124m.\u001b[39m\u001b[38;5;124m\"\u001b[39m\n\u001b[1;32m--> 265\u001b[0m \u001b[38;5;28;01massert\u001b[39;00m project_name \u001b[38;5;129;01min\u001b[39;00m _PROJECTS[model_name], msg\n\u001b[0;32m    266\u001b[0m import_path \u001b[38;5;241m=\u001b[39m _PROJECTS[model_name][project_name]\n\u001b[0;32m    268\u001b[0m project_module \u001b[38;5;241m=\u001b[39m import_module(import_path)\n",
      "\u001b[1;31mAssertionError\u001b[0m: Project northern_territory not registered as a project using model sm_sir."
     ]
    }
   ],
   "source": [
    "project = get_project(\"sm_sir\", region, reload=True)"
   ]
  },
  {
   "cell_type": "code",
   "execution_count": null,
   "id": "ee4e3306",
   "metadata": {},
   "outputs": [],
   "source": [
    "title_lookup = {\n",
    "    \"notifications\": \"daily notifications\",\n",
    "    \"infection_deaths\": \"COVID-19-specific deaths\",\n",
    "    \"hospital_admissions\": \"new daily hospital admissions\",\n",
    "    \"icu_admissions\": \"new daily admissions to ICU\",\n",
    "    \"proportion_seropositive\": \"proportion recovered from COVID-19\",\n",
    "    \"incidence\": \"daily new infections\",\n",
    "    \"prop_incidence_strain_delta\": \"proportion of cases due to Delta\",\n",
    "    \"hospital_admissions\": \"daily hospital admissions\",\n",
    "    \"hospital_occupancy\": \"total hospital beds\",\n",
    "    \"icu_admissions\": \"daily ICU admissions\",\n",
    "    \"icu_occupancy\": \"total ICU beds\",\n",
    "    \"prop_ever_infected\": \"ever infected with Delta or Omicron\",\n",
    "    \"cumulative_infection_deaths\": \"cumulative COVID-19 deaths\",\n",
    "    \"cumulative_hospital_admissions\": \"cumulative hospital admissions\",\n",
    "    \"cumulative_icu_admissions\": \"cumulative ICU admissions\",    \n",
    "}"
   ]
  },
  {
   "cell_type": "code",
   "execution_count": null,
   "id": "d087ec7a",
   "metadata": {},
   "outputs": [],
   "source": [
    "def outputs_with_uncertainty(outputs, scenarios, input_shape=None):\n",
    "    \n",
    "    # Set row and col position for outputs based on requested outputs\n",
    "    # If you want can specify own shape/layout\n",
    "    if input_shape:\n",
    "        shape = input_shape\n",
    "    # Otherwise define shape based on requested outputs\n",
    "    else:\n",
    "        if len(outputs) == 4:\n",
    "            shape = [2, 2]\n",
    "        elif len(outputs) == 3:\n",
    "            shape = [1, 3]\n",
    "        elif len(outputs) == 2:\n",
    "            shape = [1, 2]\n",
    "        elif len(outputs) == 1:\n",
    "            shape = [1, 1]\n",
    "    \n",
    "    # Store number of rows and columns\n",
    "    rows = shape[0]\n",
    "    cols = shape[1]\n",
    "    \n",
    "    # Create all [row, col] positions\n",
    "    positions = []\n",
    "    for r in range(rows):\n",
    "        for c in range(cols):\n",
    "            positions.append([r+1, c+1])\n",
    "    \n",
    "    # Create/setup figure, note need to set subplot_titles here to outputs, and then update after figure is made\n",
    "    fig = make_subplots(rows, cols, subplot_titles=outputs)\n",
    "    \n",
    "    # Define colours for scenarios as partial rgba strings to allow for specifying opacity with alpha\n",
    "    colours = {0: 'rgba(26,150,65,',\n",
    "               1: 'rgba(248,156,116,',\n",
    "               2: 'rgba(204, 102, 119,',\n",
    "               3: 'rgba(29, 105, 150,',\n",
    "               4: 'rgba(221, 204, 119,'\n",
    "              }\n",
    "    # Loop through to obtain position-output pairs for each scenario and plots\n",
    "    for pos, o in zip(positions, outputs):\n",
    "        for s in scenarios:\n",
    "            colour = colours[s]\n",
    "            \n",
    "            # Set transparency for median and credible intervals here\n",
    "            median_alpha = 1.0\n",
    "            fifty_cred_alpha = 0.4\n",
    "            ninety_five_cred_alpha = 0.2\n",
    "            \n",
    "            # Set data to use, index and labels\n",
    "            results_df = results[(o, s)]\n",
    "            indices = results_df.index\n",
    "            label = \"baseline\" if s == 0 else project.param_set.scenarios[s - 1][\"description\"]\n",
    "            show_legend = True if pos[0] == 1 and pos[1] == 1 else False\n",
    "            \n",
    "            # add median trace\n",
    "            fig.add_trace(go.Scatter(x=indices, y=results_df[0.500], \n",
    "                                     line=dict(color=(colour+str(median_alpha)+\")\")), \n",
    "                                     name=label,\n",
    "                                     showlegend = show_legend\n",
    "                                    ),\n",
    "                         row = pos[0],\n",
    "                          col= pos[1]\n",
    "                         )\n",
    "            \n",
    "            #50% CI trace\n",
    "            fig.add_traces([go.Scatter(x=results_df.index, y=results_df[0.250], \n",
    "                                       line=dict(color=colour+str(fifty_cred_alpha)+\")\"),\n",
    "                                       fillcolor=colour+str(fifty_cred_alpha)+\")\", showlegend=False),\n",
    "                            go.Scatter(x=results_df.index, y=results_df[0.750], \n",
    "                                       line=dict(color=colour+str(fifty_cred_alpha)+\")\"), \n",
    "                                       fillcolor=colour+str(fifty_cred_alpha)+\")\", \n",
    "                                       fill=\"tonexty\", showlegend=False)\n",
    "                           ],\n",
    "                           rows = pos[0],\n",
    "                          cols = pos[1]\n",
    "                          )\n",
    "            \n",
    "            #95% CI trace\n",
    "            fig.add_traces([go.Scatter(x=results_df.index, y=results_df[0.025], \n",
    "                                       line=dict(color=colour+str(ninety_five_cred_alpha)+\")\"), \n",
    "                                       fillcolor=colour+str(ninety_five_cred_alpha)+\")\", showlegend=False),\n",
    "                            go.Scatter(x=results_df.index, y=results_df[0.975], \n",
    "                                       line=dict(color=colour+str(ninety_five_cred_alpha)+\")\"),\n",
    "                                       fillcolor=colour+str(ninety_five_cred_alpha)+\")\", \n",
    "                                       fill=\"tonexty\", showlegend=False)\n",
    "                           ],\n",
    "                           rows = pos[0],\n",
    "                          cols = pos[1]\n",
    "                          )\n",
    "    # Subplot titles stored as annotations and so need to update annotation text for each subplot;\n",
    "    # Currently set to the name of the corresponding output, use title_lookup to set title\n",
    "    #code pinched from user vestland: \n",
    "    #https://stackoverflow.com/questions/63220009/how-do-i-set-each-plotly-subplot-title-during-graph-creation-loop\n",
    "    fig.for_each_annotation(lambda a: a.update(text = title_lookup[a.text]))\n",
    "    \n",
    "    # place legend in upper left hand corner\n",
    "    fig.update_layout(legend_x=-0.05, legend_y=1.3,\n",
    "                      # Need to adjust height and width according to number of outputs\n",
    "                     height=400, width=800)\n",
    "    \n",
    "    # Update image config to allow for higher resolution image using quick downlaod image button on output\n",
    "    config = {\n",
    "        'toImageButtonOptions': {\n",
    "            'format': 'png',\n",
    "            'filename': 'image_1',\n",
    "            'height': 400,\n",
    "            'width': 1000,\n",
    "            'scale':4 #adjust scale to increase resolution\n",
    "        }\n",
    "    }\n",
    "\n",
    "\n",
    "    fig.show(config=config)\n",
    "    \n",
    "   "
   ]
  },
  {
   "cell_type": "code",
   "execution_count": null,
   "id": "c848b6ba",
   "metadata": {},
   "outputs": [],
   "source": [
    "# Specify scenarios here\n",
    "scenarios = [0, 4]\n",
    "\n",
    "# Specify outputs here up to 4: function will determine shape based on number of outputs specified\n",
    "outputs = ('notifications',) #\"hospital_occupancy\",'icu_admissions', \"infection_deaths\")\n",
    "\n",
    "outputs_with_uncertainty(outputs, scenarios)"
   ]
  }
 ],
 "metadata": {
  "kernelspec": {
   "display_name": "Python 3 (ipykernel)",
   "language": "python",
   "name": "python3"
  },
  "language_info": {
   "codemirror_mode": {
    "name": "ipython",
    "version": 3
   },
   "file_extension": ".py",
   "mimetype": "text/x-python",
   "name": "python",
   "nbconvert_exporter": "python",
   "pygments_lexer": "ipython3",
   "version": "3.10.3"
  }
 },
 "nbformat": 4,
 "nbformat_minor": 5
}
