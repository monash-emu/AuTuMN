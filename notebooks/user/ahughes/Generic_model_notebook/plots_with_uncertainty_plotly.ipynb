{
 "cells": [
  {
   "cell_type": "code",
   "execution_count": null,
   "id": "f2fde874",
   "metadata": {},
   "outputs": [],
   "source": [
    "import datetime\n",
    "from math import ceil\n",
    "import plotly.express as px\n",
    "from plotly.subplots import make_subplots\n",
    "import plotly.graph_objects as go\n",
    "from pathlib import Path\n",
    "\n",
    "from summer.utils import ref_times_to_dti\n",
    "\n",
    "from autumn.settings.constants import COVID_BASE_DATETIME\n",
    "from autumn.core.runs import ManagedRun\n",
    "from autumn.core.project import get_project"
   ]
  },
  {
   "cell_type": "code",
   "execution_count": null,
   "id": "554d9024",
   "metadata": {},
   "outputs": [],
   "source": [
    "region = \"northern_territory\""
   ]
  },
  {
   "cell_type": "code",
   "execution_count": null,
   "id": "85af2055",
   "metadata": {},
   "outputs": [],
   "source": [
    "run_id = \"sm_sir/northern_territory/1662380460/28ff0b7\""
   ]
  },
  {
   "cell_type": "code",
   "execution_count": null,
   "id": "30d9015a",
   "metadata": {},
   "outputs": [],
   "source": [
    "mr = ManagedRun(run_id)"
   ]
  },
  {
   "cell_type": "code",
   "execution_count": null,
   "id": "7e2140a7",
   "metadata": {},
   "outputs": [],
   "source": [
    "pbi = mr.powerbi.get_db()\n",
    "results = pbi.get_uncertainty()"
   ]
  },
  {
   "cell_type": "code",
   "execution_count": null,
   "id": "c0346d8a",
   "metadata": {},
   "outputs": [],
   "source": [
    "project = get_project(\"sm_sir\", region, reload=True)"
   ]
  },
  {
   "cell_type": "code",
   "execution_count": null,
   "id": "ee4e3306",
   "metadata": {},
   "outputs": [],
   "source": [
    "title_lookup = {\n",
    "    \"notifications\": \"daily notifications\",\n",
    "    \"infection_deaths\": \"COVID-19-specific deaths\",\n",
    "    \"hospital_admissions\": \"new daily hospital admissions\",\n",
    "    \"icu_admissions\": \"new daily admissions to ICU\",\n",
    "    \"proportion_seropositive\": \"proportion recovered from COVID-19\",\n",
    "    \"incidence\": \"daily new infections\",\n",
    "    \"prop_incidence_strain_delta\": \"proportion of cases due to Delta\",\n",
    "    \"hospital_admissions\": \"daily hospital admissions\",\n",
    "    \"hospital_occupancy\": \"total hospital beds\",\n",
    "    \"icu_admissions\": \"daily ICU admissions\",\n",
    "    \"icu_occupancy\": \"total ICU beds\",\n",
    "    \"prop_ever_infected\": \"ever infected with Delta or Omicron\",\n",
    "    \"cumulative_infection_deaths\": \"cumulative COVID-19 deaths\",\n",
    "    \"cumulative_hospital_admissions\": \"cumulative hospital admissions\",\n",
    "    \"cumulative_icu_admissions\": \"cumulative ICU admissions\",    \n",
    "}"
   ]
  },
  {
   "cell_type": "code",
   "execution_count": null,
   "id": "d087ec7a",
   "metadata": {},
   "outputs": [],
   "source": [
    "def outputs_with_uncertainty(outputs, scenarios, input_shape=None):\n",
    "    \n",
    "    # Set row and col position for outputs based on requested outputs\n",
    "    # if use defines own shape/layout\n",
    "    if input_shape:\n",
    "        shape = input_shape\n",
    "    # Otherwise define shape based on requested outputs\n",
    "    else:\n",
    "        if len(outputs) == 4:\n",
    "            shape = [2, 2]\n",
    "        elif len(outputs) == 3:\n",
    "            shape = [1, 3]\n",
    "        elif len(outputs) == 2:\n",
    "            shape = [1, 2]\n",
    "        elif len(outputs) == 1:\n",
    "            shape = [1, 1]\n",
    "    \n",
    "    # Store number of rows and columns\n",
    "    rows = shape[0]\n",
    "    cols = shape[1]\n",
    "    \n",
    "    # Create all [row, col] positions\n",
    "    positions = []\n",
    "    for r in range(rows):\n",
    "        for c in range(cols):\n",
    "            positions.append([r+1, c+1])\n",
    "    \n",
    "    \n",
    "    fig = make_subplots(rows, cols, subplot_titles=outputs)\n",
    "    \n",
    "    # Define colours for scenarios as partial rgba strings to allow for specifying opacity with alpha\n",
    "    colours = {0: 'rgba(26,150,65,',\n",
    "               1: 'rgba(248,156,116,',\n",
    "               2: 'rgba(204, 102, 119,',\n",
    "               3: 'rgba(29, 105, 150,',\n",
    "               4: 'rgba(221, 204, 119,'\n",
    "              }\n",
    "    \n",
    "    for pos, o in zip(positions, outputs):\n",
    "        #output_row = 1 if outputs.index(o) == 0 or outputs.index(o) == 1 else 2\n",
    "        #output_col = 1 if outputs.index(o) == 0 or outputs.index(o) == 3 else 2\n",
    "        for s in scenarios:\n",
    "            colour = colours[s]\n",
    "\n",
    "            \n",
    "            # Set transparency\n",
    "            median_alpha = 1.0\n",
    "            fifty_cred_alpha = 0.4\n",
    "            ninety_five_cred_alpha = 0.2\n",
    "            \n",
    "            # Set data, index and labels\n",
    "            results_df = results[(o, s)]\n",
    "            indices = results_df.index\n",
    "            label = \"baseline\" if s == 0 else project.param_set.scenarios[s - 1][\"description\"]\n",
    "            show_legend = True if pos[0] == 1 and pos[1] == 1 else False\n",
    "            \n",
    "            # add median trace\n",
    "            fig.add_trace(go.Scatter(x=indices, y=results_df[0.500], \n",
    "                                     line=dict(color=(colour+str(median_alpha)+\")\")), \n",
    "                                     name=label,\n",
    "                                     showlegend = show_legend\n",
    "                                    ),\n",
    "                         row = pos[0],\n",
    "                          col= pos[1]\n",
    "                         )\n",
    "            \n",
    "            #50% CI trace\n",
    "            fig.add_traces([go.Scatter(x=results_df.index, y=results_df[0.250], \n",
    "                                       line=dict(color=colour+str(fifty_cred_alpha)+\")\"),\n",
    "                                       fillcolor=colour+str(fifty_cred_alpha)+\")\", showlegend=False),\n",
    "                            go.Scatter(x=results_df.index, y=results_df[0.750], \n",
    "                                       line=dict(color=colour+str(fifty_cred_alpha)+\")\"), \n",
    "                                       fillcolor=colour+str(fifty_cred_alpha)+\")\", \n",
    "                                       fill=\"tonexty\", showlegend=False)\n",
    "                           ],\n",
    "                           rows = pos[0],\n",
    "                          cols = pos[1]\n",
    "                          )\n",
    "            \n",
    "            #95% CI trace\n",
    "            fig.add_traces([go.Scatter(x=results_df.index, y=results_df[0.025], \n",
    "                                       line=dict(color=colour+str(ninety_five_cred_alpha)+\")\"), \n",
    "                                       fillcolor=colour+str(ninety_five_cred_alpha)+\")\", showlegend=False),\n",
    "                            go.Scatter(x=results_df.index, y=results_df[0.975], \n",
    "                                       line=dict(color=colour+str(ninety_five_cred_alpha)+\")\"),\n",
    "                                       fillcolor=colour+str(ninety_five_cred_alpha)+\")\", \n",
    "                                       fill=\"tonexty\", showlegend=False)\n",
    "                           ],\n",
    "                           rows = pos[0],\n",
    "                          cols = pos[1]\n",
    "                          )\n",
    "    # subplot titles stored as annotations;\n",
    "    #code pinched from user vestland: \n",
    "    #https://stackoverflow.com/questions/63220009/how-do-i-set-each-plotly-subplot-title-during-graph-creation-loop\n",
    "    fig.for_each_annotation(lambda a: a.update(text = title_lookup[a.text]))\n",
    "    \n",
    "    # place legend in upper left hand corner\n",
    "    fig.update_layout(legend_x=-0.05, legend_y=1.3,\n",
    "                      # Need to adjust height and width\n",
    "                     height=400, width=800)\n",
    "    \n",
    "    # Update image config to allow for higher resolution image to be quick downloaded\n",
    "    config = {\n",
    "        'toImageButtonOptions': {\n",
    "            'format': 'png',\n",
    "            'filename': 'image_1',\n",
    "            'height': 400,\n",
    "            'width': 1000,\n",
    "            'scale':4 #adjust scale to increase resolution\n",
    "        }\n",
    "    }\n",
    "\n",
    "\n",
    "    fig.show(config=config)\n",
    "    \n",
    "   "
   ]
  },
  {
   "cell_type": "code",
   "execution_count": null,
   "id": "c848b6ba",
   "metadata": {},
   "outputs": [],
   "source": [
    "# Specify scenarios here\n",
    "scenarios = [0, 4]\n",
    "\n",
    "# Specify outputs here up to 4: function will determine shape based on number of outputs specified\n",
    "outputs = ('notifications',) #\"hospital_occupancy\",) # 'icu_admissions', \"infection_deaths\")\n",
    "\n",
    "outputs_with_uncertainty(outputs, scenarios)"
   ]
  }
 ],
 "metadata": {
  "kernelspec": {
   "display_name": "Python 3.10.3 ('autumn310')",
   "language": "python",
   "name": "python3"
  },
  "language_info": {
   "codemirror_mode": {
    "name": "ipython",
    "version": 3
   },
   "file_extension": ".py",
   "mimetype": "text/x-python",
   "name": "python",
   "nbconvert_exporter": "python",
   "pygments_lexer": "ipython3",
   "version": "3.10.3"
  },
  "vscode": {
   "interpreter": {
    "hash": "8ef281dcf17405b6cff393edfeda6a8c53d7652bea4b9aa446ee4dcbc1531ba7"
   }
  }
 },
 "nbformat": 4,
 "nbformat_minor": 5
}
