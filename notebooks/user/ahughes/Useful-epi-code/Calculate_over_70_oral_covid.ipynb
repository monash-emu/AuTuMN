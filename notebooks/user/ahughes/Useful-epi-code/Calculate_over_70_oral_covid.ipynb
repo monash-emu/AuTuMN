{
 "cells": [
  {
   "cell_type": "code",
   "execution_count": 1,
   "id": "b845b23a",
   "metadata": {},
   "outputs": [
    {
     "name": "stderr",
     "output_type": "stream",
     "text": [
      "C:\\Users\\ehug0006\\Miniconda3\\envs\\autumn310\\lib\\site-packages\\numpy\\_distributor_init.py:30: UserWarning: loaded more than 1 DLL from .libs:\n",
      "C:\\Users\\ehug0006\\Miniconda3\\envs\\autumn310\\lib\\site-packages\\numpy\\.libs\\libopenblas.FB5AE2TYXYH2IJRDKGDGQ3XBKLKTF43H.gfortran-win_amd64.dll\n",
      "C:\\Users\\ehug0006\\Miniconda3\\envs\\autumn310\\lib\\site-packages\\numpy\\.libs\\libopenblas.XWYDX2IKJW2NMTWSFYNGFUWKQU3LYTCZ.gfortran-win_amd64.dll\n",
      "  warnings.warn(\"loaded more than 1 DLL from .libs:\"\n"
     ]
    }
   ],
   "source": [
    "import pandas as pd\n",
    "import numpy as np"
   ]
  },
  {
   "cell_type": "code",
   "execution_count": null,
   "id": "f536b9d1",
   "metadata": {},
   "outputs": [],
   "source": [
    "# Adults 70 year olds may be eligibile for oral covid-19 treatment subsidised by the pbs\n",
    "# https://www.health.gov.au/health-alerts/covid-19/treatments/eligibility\n",
    "\n",
    "# Clinical indication is more complicated and based on National guidelines\n",
    "# https://covid19evidence.net.au/wp-content/uploads/DECISION-TOOL-DT-FOR-ADULTS.pdf?=220721-51024\n",
    "# Generally speaking though from looking at the clinical guideline would assume most (if not all) 70 year olds\n",
    "# would be prescribed oral treatment if within 5 days of symptom onset\n",
    "\n",
    "# Eligibility criteria below the age of 70 more complex"
   ]
  },
  {
   "cell_type": "code",
   "execution_count": 16,
   "id": "b4bae310",
   "metadata": {},
   "outputs": [],
   "source": [
    "# From Aus national level surveillance data: https://www.health.gov.au/health-alerts/covid-19/case-numbers-and-statistics\n",
    "# Can get weekly data for number of PBS scripts for oral COVID-19 treatment by State and age groups, inlcuding over 70\n",
    "# Does not report rates by age group for each state only at a national level\n",
    "# NSW reports weekly COVID-19 notifications by age groups: https://www.health.nsw.gov.au/Infectious/covid-19/Documents/weekly-covid-overview-20220924.pdf\n",
    "\n",
    "# For the week ending 24th September 2022\n",
    "\n",
    "# Calculate proportion of scripts at national level that are for over 70s and assume this proportion holds for all states\n",
    "prop_scripts_over_70 = 3745/(3745+1546+292)"
   ]
  },
  {
   "cell_type": "code",
   "execution_count": 17,
   "id": "299298f0",
   "metadata": {},
   "outputs": [],
   "source": [
    "# Take number of scripts for the week ending 24th September in NSW and multiply by the proportion\n",
    "nsw_oral_scripts = 1989\n",
    "\n",
    "nsw_over_70_scripts = prop_scripts_over_70*nsw_scripts"
   ]
  },
  {
   "cell_type": "code",
   "execution_count": 18,
   "id": "3b5d049c",
   "metadata": {},
   "outputs": [],
   "source": [
    "# Calculate number of cases over 70 in NSW for the reporting week\n",
    "number_cases_over_70_nsw = 927 + 439 +135"
   ]
  },
  {
   "cell_type": "code",
   "execution_count": 19,
   "id": "28d9bf6e",
   "metadata": {},
   "outputs": [],
   "source": [
    "# Calculate the proportion of over 70 cases in NSW that received oral COVID script\n",
    "prop_received_oral = nsw_over_70_scripts/number_cases_over_70_nsw"
   ]
  },
  {
   "cell_type": "code",
   "execution_count": null,
   "id": "7eea2188",
   "metadata": {},
   "outputs": [],
   "source": [
    "print(prop_received_oral)"
   ]
  }
 ],
 "metadata": {
  "kernelspec": {
   "display_name": "Python 3 (ipykernel)",
   "language": "python",
   "name": "python3"
  },
  "language_info": {
   "codemirror_mode": {
    "name": "ipython",
    "version": 3
   },
   "file_extension": ".py",
   "mimetype": "text/x-python",
   "name": "python",
   "nbconvert_exporter": "python",
   "pygments_lexer": "ipython3",
   "version": "3.10.3"
  }
 },
 "nbformat": 4,
 "nbformat_minor": 5
}
