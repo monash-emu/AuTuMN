{
 "cells": [
  {
   "cell_type": "code",
   "execution_count": null,
   "id": "specified-revelation",
   "metadata": {},
   "outputs": [],
   "source": [
    "from autumn.tools.project import get_project"
   ]
  },
  {
   "cell_type": "code",
   "execution_count": null,
   "id": "pointed-insurance",
   "metadata": {},
   "outputs": [],
   "source": [
    "p = get_project('covid_19', 'malaysia')"
   ]
  },
  {
   "cell_type": "code",
   "execution_count": null,
   "id": "short-junior",
   "metadata": {},
   "outputs": [],
   "source": [
    "m = p.run_baseline_model(p.param_set.baseline)"
   ]
  }
 ],
 "metadata": {
  "kernelspec": {
   "display_name": "Python 3",
   "language": "python",
   "name": "python3"
  },
  "language_info": {
   "codemirror_mode": {
    "name": "ipython",
    "version": 3
   },
   "file_extension": ".py",
   "mimetype": "text/x-python",
   "name": "python",
   "nbconvert_exporter": "python",
   "pygments_lexer": "ipython3",
   "version": "3.6.13"
  }
 },
 "nbformat": 4,
 "nbformat_minor": 5
}
