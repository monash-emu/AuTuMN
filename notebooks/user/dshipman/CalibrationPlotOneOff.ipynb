{
 "cells": [
  {
   "cell_type": "code",
   "execution_count": null,
   "id": "following-prior",
   "metadata": {},
   "outputs": [],
   "source": [
    "from autumn.tools.runs import ManagedRun"
   ]
  },
  {
   "cell_type": "code",
   "execution_count": null,
   "id": "likely-herald",
   "metadata": {},
   "outputs": [],
   "source": [
    "mr = ManagedRun(\"sm_sir/philippines/1637190072/808413a\")"
   ]
  },
  {
   "cell_type": "code",
   "execution_count": null,
   "id": "comic-situation",
   "metadata": {},
   "outputs": [],
   "source": [
    "mr.calibration.download_outputs()"
   ]
  },
  {
   "cell_type": "code",
   "execution_count": null,
   "id": "synthetic-insurance",
   "metadata": {},
   "outputs": [],
   "source": [
    "do_df = mr.full_run.get_derived_outputs()"
   ]
  },
  {
   "cell_type": "code",
   "execution_count": null,
   "id": "competitive-dating",
   "metadata": {},
   "outputs": [],
   "source": [
    "pbi = mr.powerbi.get_db()"
   ]
  },
  {
   "cell_type": "code",
   "execution_count": null,
   "id": "running-honduras",
   "metadata": {},
   "outputs": [],
   "source": [
    "pbi.get_uncertainty()['incidence'].plot()"
   ]
  },
  {
   "cell_type": "code",
   "execution_count": null,
   "id": "cellular-grenada",
   "metadata": {},
   "outputs": [],
   "source": [
    "from autumn.tools.runs.utils import collate_columns_to_urun"
   ]
  },
  {
   "cell_type": "code",
   "execution_count": null,
   "id": "european-zambia",
   "metadata": {},
   "outputs": [],
   "source": [
    "from numpy.random import choice\n",
    "import pandas as pd"
   ]
  },
  {
   "cell_type": "code",
   "execution_count": null,
   "id": "neither-hardware",
   "metadata": {},
   "outputs": [],
   "source": [
    "collated = collate_columns_to_urun(do_df)"
   ]
  },
  {
   "cell_type": "code",
   "execution_count": null,
   "id": "automatic-premiere",
   "metadata": {},
   "outputs": [],
   "source": [
    "uruns = choice(collated.urun.unique(), 50, False)"
   ]
  },
  {
   "cell_type": "code",
   "execution_count": null,
   "id": "governing-carroll",
   "metadata": {},
   "outputs": [],
   "source": [
    "for urun in uruns:\n",
    "    filtered = collated[collated['urun']==urun]\n",
    "    s = pd.Series(filtered['incidence'].to_numpy(), index=filtered['times'])\n",
    "    s.plot()"
   ]
  },
  {
   "cell_type": "code",
   "execution_count": null,
   "id": "grand-viewer",
   "metadata": {},
   "outputs": [],
   "source": []
  }
 ],
 "metadata": {
  "kernelspec": {
   "display_name": "Python 3",
   "language": "python",
   "name": "python3"
  },
  "language_info": {
   "codemirror_mode": {
    "name": "ipython",
    "version": 3
   },
   "file_extension": ".py",
   "mimetype": "text/x-python",
   "name": "python",
   "nbconvert_exporter": "python",
   "pygments_lexer": "ipython3",
   "version": "3.6.13"
  }
 },
 "nbformat": 4,
 "nbformat_minor": 5
}
