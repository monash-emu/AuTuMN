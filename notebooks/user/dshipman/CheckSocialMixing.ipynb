{
 "cells": [
  {
   "cell_type": "code",
   "execution_count": null,
   "id": "1c47f840",
   "metadata": {},
   "outputs": [],
   "source": [
    "import numpy as np"
   ]
  },
  {
   "cell_type": "code",
   "execution_count": null,
   "id": "2f81fa19",
   "metadata": {},
   "outputs": [],
   "source": [
    "from autumn.core.inputs.social_mixing import build_synthetic_matrices as sm"
   ]
  },
  {
   "cell_type": "code",
   "execution_count": null,
   "id": "265be235",
   "metadata": {},
   "outputs": [],
   "source": [
    "age_groups = list(range(0,80,5))\n",
    "age_groups"
   ]
  },
  {
   "cell_type": "code",
   "execution_count": null,
   "id": "564ed641",
   "metadata": {},
   "outputs": [],
   "source": [
    "# Zeroes in source data\n",
    "\n",
    "ref_all_loc = sm.load_socialmixr_matrices(\"CHN\", sm.LOCATIONS)[0]['all_locations']\n",
    "np.where(ref_all_loc == 0.0)"
   ]
  },
  {
   "cell_type": "code",
   "execution_count": null,
   "id": "694d615d",
   "metadata": {},
   "outputs": [],
   "source": [
    "matrices = sm.build_synthetic_matrices(\"MYS\",\"CHN\",age_groups,True)"
   ]
  },
  {
   "cell_type": "code",
   "execution_count": null,
   "id": "5942d2f7",
   "metadata": {},
   "outputs": [],
   "source": [
    "all_loc_from_sum = np.sum([m for k,m in matrices.items() if k!= \"all_locations\"],axis=0)"
   ]
  },
  {
   "cell_type": "code",
   "execution_count": null,
   "id": "172b2cf3",
   "metadata": {},
   "outputs": [],
   "source": [
    "matrices[\"all_locations\"] - all_loc_from_sum"
   ]
  },
  {
   "cell_type": "code",
   "execution_count": null,
   "id": "c2958b96",
   "metadata": {},
   "outputs": [],
   "source": [
    "np.where(np.abs(matrices[\"all_locations\"] - all_loc_from_sum) > 1e-6)"
   ]
  },
  {
   "cell_type": "code",
   "execution_count": null,
   "id": "4051d8a1",
   "metadata": {},
   "outputs": [],
   "source": []
  }
 ],
 "metadata": {
  "kernelspec": {
   "display_name": "Python 3 (ipykernel)",
   "language": "python",
   "name": "python3"
  },
  "language_info": {
   "codemirror_mode": {
    "name": "ipython",
    "version": 3
   },
   "file_extension": ".py",
   "mimetype": "text/x-python",
   "name": "python",
   "nbconvert_exporter": "python",
   "pygments_lexer": "ipython3",
   "version": "3.9.13"
  }
 },
 "nbformat": 4,
 "nbformat_minor": 5
}
