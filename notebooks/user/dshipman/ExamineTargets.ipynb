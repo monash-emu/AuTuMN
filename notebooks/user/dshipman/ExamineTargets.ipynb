{
 "cells": [
  {
   "cell_type": "code",
   "execution_count": null,
   "id": "central-iraqi",
   "metadata": {},
   "outputs": [],
   "source": [
    "from pathlib import Path\n",
    "\n",
    "import pandas as pd\n",
    "import numpy as np\n",
    "from matplotlib import pyplot as plt\n",
    "\n",
    "from autumn import settings"
   ]
  },
  {
   "cell_type": "code",
   "execution_count": null,
   "id": "equipped-officer",
   "metadata": {},
   "outputs": [],
   "source": [
    "from autumn.tools.project import Project, ParameterSet, TimeSeriesSet, build_rel_path, get_all_available_scenario_paths, use_tuned_proposal_sds\n"
   ]
  },
  {
   "cell_type": "code",
   "execution_count": null,
   "id": "selected-shoot",
   "metadata": {},
   "outputs": [],
   "source": [
    "ts_set = TimeSeriesSet.from_file(str(sjp))"
   ]
  },
  {
   "cell_type": "code",
   "execution_count": null,
   "id": "surface-princess",
   "metadata": {},
   "outputs": [],
   "source": [
    "region = \"malaysia\""
   ]
  },
  {
   "cell_type": "code",
   "execution_count": null,
   "id": "musical-ceremony",
   "metadata": {},
   "outputs": [],
   "source": [
    "tsfile = list(Path(settings.BASE_PATH).rglob(f\"{region}/*timeseries.json\"))[0]"
   ]
  },
  {
   "cell_type": "code",
   "execution_count": null,
   "id": "bigger-sullivan",
   "metadata": {},
   "outputs": [],
   "source": [
    "tsset = TimeSeriesSet.from_file(str(tsfile))"
   ]
  },
  {
   "cell_type": "code",
   "execution_count": null,
   "id": "parental-hobby",
   "metadata": {},
   "outputs": [],
   "source": [
    "s = pd.Series(tsset.get('notifications').values)\n"
   ]
  },
  {
   "cell_type": "code",
   "execution_count": null,
   "id": "conditional-season",
   "metadata": {},
   "outputs": [],
   "source": [
    "plt.figure(figsize=(12,6))\n",
    "s.plot()"
   ]
  },
  {
   "cell_type": "code",
   "execution_count": null,
   "id": "automotive-moore",
   "metadata": {},
   "outputs": [],
   "source": [
    "#plt.figure(figsize=(12,6))\n",
    "#s.plot()\n",
    "plt.figure(figsize=(12,6))\n",
    "#s.rolling(7,0).mean().diff(1).plot()\n",
    "#s.rolling(28).mean().diff(1).rolling(28).mean().plot()\n",
    "s.rolling(28).mean().diff(28).rolling(28).mean().plot()\n",
    "s.rolling(7).mean().diff(7).rolling(7).mean().plot()"
   ]
  },
  {
   "cell_type": "code",
   "execution_count": null,
   "id": "pregnant-blake",
   "metadata": {},
   "outputs": [],
   "source": [
    "%time x = s.ewm(span=28).mean().rolling(7).mean().diff(1).rolling(7).mean()"
   ]
  },
  {
   "cell_type": "code",
   "execution_count": null,
   "id": "final-lighter",
   "metadata": {},
   "outputs": [],
   "source": [
    "plt.figure(figsize=(12,6))\n",
    "s.plot()\n",
    "plt.figure(figsize=(12,6))\n",
    "#s.rolling(12).mean().plot()\n",
    "#s.rolling(7).mean().rolling(7).mean().diff(7).rolling(7).mean().plot()\n",
    "s.rolling(7).mean().diff(7).rolling(7).mean().plot()\n",
    "#s.ewm(span=7).mean().ewm(span=14).mean().diff(1).plot()\n",
    "plt.figure(figsize=(12,6))\n",
    "s.rolling(28).mean().diff(28).rolling(28).mean().plot()"
   ]
  },
  {
   "cell_type": "code",
   "execution_count": null,
   "id": "quick-jamaica",
   "metadata": {},
   "outputs": [],
   "source": [
    "s.rolling?"
   ]
  },
  {
   "cell_type": "code",
   "execution_count": null,
   "id": "closed-vocabulary",
   "metadata": {},
   "outputs": [],
   "source": [
    "for st in range(10):\n",
    "    s = tsset.get(\"infection_deaths\").truncate_start_time(210 + st).moving_average(7).downsample(7)\n",
    "    ax = pd.Series(s.values).plot(label=pd.Series(s.values).sum())\n",
    "    ax.legend()"
   ]
  },
  {
   "cell_type": "code",
   "execution_count": null,
   "id": "rural-mexican",
   "metadata": {},
   "outputs": [],
   "source": [
    "pd.Series(tsset.get(\"infection_deaths\").truncate_start_time(242).values).plot()"
   ]
  },
  {
   "cell_type": "code",
   "execution_count": null,
   "id": "southeast-taiwan",
   "metadata": {},
   "outputs": [],
   "source": []
  }
 ],
 "metadata": {
  "kernelspec": {
   "display_name": "Python 3",
   "language": "python",
   "name": "python3"
  },
  "language_info": {
   "codemirror_mode": {
    "name": "ipython",
    "version": 3
   },
   "file_extension": ".py",
   "mimetype": "text/x-python",
   "name": "python",
   "nbconvert_exporter": "python",
   "pygments_lexer": "ipython3",
   "version": "3.6.13"
  }
 },
 "nbformat": 4,
 "nbformat_minor": 5
}
