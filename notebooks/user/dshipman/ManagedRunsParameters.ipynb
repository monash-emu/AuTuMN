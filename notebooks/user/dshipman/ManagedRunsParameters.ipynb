{
 "cells": [
  {
   "cell_type": "code",
   "execution_count": null,
   "id": "casual-nightlife",
   "metadata": {},
   "outputs": [],
   "source": [
    "import pandas as pd\n",
    "from matplotlib import pyplot as plt"
   ]
  },
  {
   "cell_type": "code",
   "execution_count": null,
   "id": "running-burton",
   "metadata": {},
   "outputs": [],
   "source": [
    "from autumn.tools.runs import ManagedRun\n",
    "\n",
    "from autumn.tools.runs.calibration.utils import get_posteriors\n",
    "from autumn.tools.utils.pandas import pdfilt"
   ]
  },
  {
   "cell_type": "code",
   "execution_count": null,
   "id": "mental-queensland",
   "metadata": {},
   "outputs": [],
   "source": [
    "#run_id = \"covid_19/victoria/1630409372/1cbdde5\"\n",
    "run_id = \"covid_19/malaysia/1630499991/66b9a81\""
   ]
  },
  {
   "cell_type": "code",
   "execution_count": null,
   "id": "perceived-tracker",
   "metadata": {},
   "outputs": [],
   "source": [
    "mr = ManagedRun(run_id)"
   ]
  },
  {
   "cell_type": "code",
   "execution_count": null,
   "id": "after-pioneer",
   "metadata": {},
   "outputs": [],
   "source": [
    "mcmc_runs = mr.calibration.get_mcmc_runs()\n",
    "mcmc_params = mr.calibration.get_mcmc_params()"
   ]
  },
  {
   "cell_type": "code",
   "execution_count": null,
   "id": "decreased-machine",
   "metadata": {},
   "outputs": [],
   "source": [
    "# Burn 500 runs (from every chain), and filter by accept only\n",
    "filt_idx = pdfilt(mcmc_runs, ['accept==1','run >= 500']).index"
   ]
  },
  {
   "cell_type": "code",
   "execution_count": null,
   "id": "15c0a7d2",
   "metadata": {},
   "outputs": [],
   "source": [
    "# These are the params filtered by the above\n",
    "mcmc_params.loc[filt_idx]"
   ]
  },
  {
   "cell_type": "code",
   "execution_count": null,
   "id": "c3ac14b2",
   "metadata": {},
   "outputs": [],
   "source": [
    "# You don't need this, but it's here... feel free to explore\n",
    "#pbi = mr.powerbi.get_db()"
   ]
  }
 ],
 "metadata": {
  "kernelspec": {
   "display_name": "Python 3 (ipykernel)",
   "language": "python",
   "name": "python3"
  },
  "language_info": {
   "codemirror_mode": {
    "name": "ipython",
    "version": 3
   },
   "file_extension": ".py",
   "mimetype": "text/x-python",
   "name": "python",
   "nbconvert_exporter": "python",
   "pygments_lexer": "ipython3",
   "version": "3.9.7"
  }
 },
 "nbformat": 4,
 "nbformat_minor": 5
}
