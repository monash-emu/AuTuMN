{
 "cells": [
  {
   "cell_type": "code",
   "execution_count": null,
   "id": "421acb2a",
   "metadata": {
    "scrolled": true
   },
   "outputs": [],
   "source": [
    "from estival.utils import sample\n",
    "import pandas as pd\n",
    "import numpy as np"
   ]
  },
  {
   "cell_type": "code",
   "execution_count": null,
   "id": "bf90ce27",
   "metadata": {
    "scrolled": true
   },
   "outputs": [],
   "source": [
    "esamp = sample.esamptools\n",
    "SampleIterator = esamp.SampleIterator"
   ]
  },
  {
   "cell_type": "code",
   "execution_count": null,
   "id": "17941825",
   "metadata": {
    "scrolled": true
   },
   "outputs": [],
   "source": [
    "df = pd.DataFrame({\"x\": np.random.normal(size=(16,)), \"y\": np.random.normal(size=(16,))})"
   ]
  },
  {
   "cell_type": "code",
   "execution_count": null,
   "id": "2d1695c0",
   "metadata": {
    "scrolled": true
   },
   "outputs": [],
   "source": [
    "si = esamp.validate_samplecontainer(df)"
   ]
  },
  {
   "cell_type": "code",
   "execution_count": null,
   "id": "47b72b7f",
   "metadata": {
    "scrolled": true
   },
   "outputs": [],
   "source": [
    "si.convert(esamp.SampleTypes.LIST_OF_DICTS)"
   ]
  },
  {
   "cell_type": "code",
   "execution_count": null,
   "id": "c7fb36d0",
   "metadata": {
    "scrolled": true
   },
   "outputs": [],
   "source": [
    "class SampleFormatConverter:\n",
    "    def __init__(self, format_name: str):\n",
    "        self.format_name = format_name\n",
    "        self._convert_to = {\"SampleIterator\": self.to_sampleiterator}\n",
    "        self._convert_from = {\"SampleIterator\": self.from_sampleiterator}\n",
    "    \n",
    "    def to_sampleiterator(self, obj):\n",
    "        raise NotImplementedError()\n",
    "    \n",
    "    def from_sampleiterator(self, si):\n",
    "        raise NotImplementedError()\n",
    "        \n",
    "    def is_format(self, obj):\n",
    "        raise NotImplementedError()\n",
    "        "
   ]
  },
  {
   "cell_type": "code",
   "execution_count": null,
   "id": "e5f303b0",
   "metadata": {
    "scrolled": true
   },
   "outputs": [],
   "source": [
    "class IndexSampleListConverter(SampleFormatConverter):\n",
    "    def __init__(self):\n",
    "        super().__init__(\"ListOfIndexSample\")\n",
    "        self._convert_to[\"ListOfDicts\"] = self.to_lod\n",
    "        \n",
    "    def is_format(self, obj):\n",
    "        if isinstance(obj, list):\n",
    "            ref_sample = obj[0]\n",
    "            if isinstance(ref_sample, tuple):\n",
    "                if len(ref_sample) == 2:\n",
    "                    if isinstance(ref_sample[1], dict):\n",
    "                        return True\n",
    "        return False\n",
    "    \n",
    "    def to_sampleiterator(self, obj):\n",
    "        lod = [v for k, v in obj]\n",
    "        index = pd.Index([k for k, v in obj])\n",
    "        si = esamp._lod_to_si(lod)\n",
    "        si.set_index(index)\n",
    "        return si\n",
    "    \n",
    "    def from_sampleiterator(self, obj):\n",
    "        return [(k,v) for k,v in obj.iterrows()]\n",
    "    \n",
    "    def to_lod(self, obj):\n",
    "        return [v for (k,v) in obj]"
   ]
  },
  {
   "cell_type": "code",
   "execution_count": null,
   "id": "9a3973b9",
   "metadata": {
    "scrolled": true
   },
   "outputs": [],
   "source": [
    "class ListOfDictsConverter(SampleFormatConverter):\n",
    "    def __init__(self):\n",
    "        super().__init__(\"ListOfDicts\")\n",
    "        \n",
    "    def is_format(self, obj):\n",
    "        if isinstance(obj, list):\n",
    "            ref_sample = obj[0]\n",
    "            if isinstance(ref_sample, dict):\n",
    "                return True\n",
    "        return False\n",
    "    \n",
    "    def to_sampleiterator(self, obj):\n",
    "        return esamp._lod_to_si(obj)\n",
    "    \n",
    "    def from_sampleiterator(self, si):\n",
    "        return [v for k,v in si.iterrows()]\n",
    "        "
   ]
  },
  {
   "cell_type": "code",
   "execution_count": null,
   "id": "86318d96",
   "metadata": {
    "scrolled": true
   },
   "outputs": [],
   "source": [
    "def dataframe_to_sampleiterator(in_data: pd.DataFrame):\n",
    "    components = {c: in_data[c].to_numpy() for c in in_data.columns}  # type: ignore\n",
    "    return SampleIterator(components, index=in_data.index)"
   ]
  },
  {
   "cell_type": "code",
   "execution_count": null,
   "id": "01ac930c",
   "metadata": {
    "scrolled": true
   },
   "outputs": [],
   "source": [
    "class DataFrameConverter(SampleFormatConverter):\n",
    "    def __init__(self):\n",
    "        super().__init__(\"DataFrame\")\n",
    "    \n",
    "    def is_format(self, obj):\n",
    "        return isinstance(obj, pd.DataFrame)\n",
    "    \n",
    "    def to_sampleiterator(self, obj):\n",
    "        return dataframe_to_sampleiterator(obj)\n",
    "    \n",
    "    def from_sampleiterator(self, obj):\n",
    "        return pd.DataFrame(obj.convert(\"list_of_dicts\"), index=obj.index)"
   ]
  },
  {
   "cell_type": "code",
   "execution_count": null,
   "id": "e528632b",
   "metadata": {
    "scrolled": true
   },
   "outputs": [],
   "source": [
    "esamp.xarray_to_sampleiterator?"
   ]
  },
  {
   "cell_type": "code",
   "execution_count": null,
   "id": "220ff5f2",
   "metadata": {
    "scrolled": true
   },
   "outputs": [],
   "source": [
    "import xarray\n",
    "import arviz"
   ]
  },
  {
   "cell_type": "code",
   "execution_count": null,
   "id": "a8f1804d",
   "metadata": {
    "scrolled": true
   },
   "outputs": [],
   "source": [
    "class InferenceDataConverter(SampleFormatConverter):\n",
    "    def __init__(self):\n",
    "        super().__init__(\"InferenceData\")\n",
    "    \n",
    "    def is_format(self, obj):\n",
    "        return isinstance(obj, arviz.InferenceData)\n",
    "    \n",
    "    def to_sampleiterator(self, obj):\n",
    "        return esamp.idata_to_sampleiterator(obj)"
   ]
  },
  {
   "cell_type": "code",
   "execution_count": null,
   "id": "4761108c",
   "metadata": {
    "scrolled": true
   },
   "outputs": [],
   "source": [
    "class XArrayConverter(SampleFormatConverter):\n",
    "    def __init__(self):\n",
    "        super().__init__(\"XArrayDataset\")\n",
    "    \n",
    "    def is_format(self, obj):\n",
    "        return isinstance(obj, xarray.Dataset)\n",
    "    \n",
    "    def to_sampleiterator(self, obj):\n",
    "        return esamp.xarray_to_sampleiterator(obj)"
   ]
  },
  {
   "cell_type": "code",
   "execution_count": null,
   "id": "d0bfac8c",
   "metadata": {
    "scrolled": true
   },
   "outputs": [],
   "source": [
    "class SampleIteratorConverter(SampleFormatConverter):\n",
    "    def __init__(self):\n",
    "        super().__init__(\"SampleIterator\")\n",
    "        \n",
    "    def is_format(self, obj):\n",
    "        return isinstance(obj, SampleIterator)\n",
    "    \n",
    "    def to_sampleiterator(self, obj):\n",
    "        return obj\n",
    "    \n",
    "    def from_sampleiterator(self, obj):\n",
    "        return obj"
   ]
  },
  {
   "cell_type": "code",
   "execution_count": null,
   "id": "478c5c5e",
   "metadata": {
    "scrolled": true
   },
   "outputs": [],
   "source": [
    "import pymc as pm\n",
    "\n",
    "with pm.Model() as model:\n",
    "    x = pm.Uniform('x')\n",
    "    idata = pm.sample()"
   ]
  },
  {
   "cell_type": "code",
   "execution_count": null,
   "id": "49e9e3f0",
   "metadata": {
    "scrolled": true
   },
   "outputs": [],
   "source": [
    "fm.convert(idata)"
   ]
  },
  {
   "cell_type": "code",
   "execution_count": null,
   "id": "cf7f4162",
   "metadata": {
    "scrolled": true
   },
   "outputs": [],
   "source": [
    "class FormatManager:\n",
    "    def __init__(self):\n",
    "        self.converters = {}\n",
    "        self.register(SampleIteratorConverter())\n",
    "    \n",
    "    def register(self, format_converter):\n",
    "        name = format_converter.format_name\n",
    "        if name in self.converters:\n",
    "            raise KeyError(name, \"format already exists\")\n",
    "        else:\n",
    "            self.converters[name] = format_converter\n",
    "            \n",
    "    def get_format(self, obj):\n",
    "        for k, v in self.converters.items():\n",
    "            if v.is_format(obj):\n",
    "                return k\n",
    "        raise TypeError(\"Unknown format\")\n",
    "        \n",
    "    def get_converter(self, obj):\n",
    "        return self.converters[self.get_format(obj)]\n",
    "        \n",
    "    def convert(self, obj, dest_format=\"SampleIterator\"):\n",
    "        src_fmt = self.get_format(obj)\n",
    "        \n",
    "        if src_fmt == dest_format:\n",
    "            return obj\n",
    "            \n",
    "        in_converter = self.get_converter(obj)\n",
    "        out_converter = self.converters[dest_format]\n",
    "        if convert_to := in_converter._convert_to.get(dest_format):\n",
    "            return convert_to(obj)\n",
    "        elif convert_from := out_converter._convert_from.get(src_fmt):\n",
    "            return convert_from(obj)\n",
    "\n",
    "        si = in_converter.to_sampleiterator(obj)\n",
    "        return out_converter.from_sampleiterator(si)"
   ]
  },
  {
   "cell_type": "code",
   "execution_count": null,
   "id": "834e6c1b",
   "metadata": {
    "scrolled": true
   },
   "outputs": [],
   "source": [
    "fm = FormatManager()\n",
    "fm.register(IndexSampleListConverter())\n",
    "fm.register(ListOfDictsConverter())\n",
    "fm.register(DataFrameConverter())\n",
    "fm.register(XArrayConverter())\n",
    "fm.register(InferenceDataConverter())\n",
    "\n",
    "isl = [(5, {\"x\": 0.5, \"y\": 1.2}), (7, {\"x\": 0.7, \"y\": 0.3})]\n",
    "lod = [{\"x\": 0.5, \"y\": 1.2}, {\"x\": 0.7, \"y\": 0.3}]\n",
    "si = SampleIterator({\"x\": np.array((0.0,1.2)), \"y\": np.array((0.7,0.3))})\n",
    "sims = SampleIterator({\"x\": np.array((0.0,1.2)), \"y\": np.array(((0.7,0.3,0.1),(0.9,0.2,0.4)))})"
   ]
  },
  {
   "cell_type": "code",
   "execution_count": null,
   "id": "4c1fa894",
   "metadata": {
    "scrolled": true
   },
   "outputs": [],
   "source": [
    "idata_si = fm.convert(idata)"
   ]
  },
  {
   "cell_type": "code",
   "execution_count": null,
   "id": "6fb3fcdf",
   "metadata": {
    "scrolled": true
   },
   "outputs": [],
   "source": [
    "subset = arviz.extract(idata, num_samples=20)"
   ]
  },
  {
   "cell_type": "code",
   "execution_count": null,
   "id": "423a5555",
   "metadata": {
    "scrolled": true
   },
   "outputs": [],
   "source": [
    "subset_si = fm.convert(subset)"
   ]
  },
  {
   "cell_type": "code",
   "execution_count": null,
   "id": "5564f3bd",
   "metadata": {
    "scrolled": true
   },
   "outputs": [],
   "source": [
    "subset_si"
   ]
  },
  {
   "cell_type": "code",
   "execution_count": null,
   "id": "77832058",
   "metadata": {
    "scrolled": true
   },
   "outputs": [],
   "source": [
    "idata[\"posterior\"]"
   ]
  },
  {
   "cell_type": "code",
   "execution_count": null,
   "id": "ec98cf03",
   "metadata": {
    "scrolled": true
   },
   "outputs": [],
   "source": [
    "subset"
   ]
  },
  {
   "cell_type": "code",
   "execution_count": null,
   "id": "293bf6d7",
   "metadata": {
    "scrolled": true
   },
   "outputs": [],
   "source": [
    "sims.set_index(pd.MultiIndex.from_product([pd.Index([0], name=\"chain\"), pd.Index([0,1],name=\"draw\")]))"
   ]
  },
  {
   "cell_type": "code",
   "execution_count": null,
   "id": "d73615d6",
   "metadata": {
    "scrolled": true
   },
   "outputs": [],
   "source": [
    "df= fm.convert(sims, \"DataFrame\")"
   ]
  },
  {
   "cell_type": "code",
   "execution_count": null,
   "id": "ffd11473",
   "metadata": {
    "scrolled": true
   },
   "outputs": [],
   "source": [
    "sims.loc[:,1]"
   ]
  },
  {
   "cell_type": "code",
   "execution_count": null,
   "id": "6c2383c3",
   "metadata": {
    "scrolled": true
   },
   "outputs": [],
   "source": [
    "def to_xarray(si):\n",
    "    ds = xarray.Dataset()\n",
    "    for k,v in si.components.items():\n",
    "        extra_dims = [f\"{k}_dim_{i}\" for i in range(len(v.shape) - 1)]\n",
    "        darr = xarray.DataArray(v, coords={\"sample\": si.index}, dims=[\"sample\"] + extra_dims)\n",
    "        ds[k] = darr\n",
    "    return ds"
   ]
  },
  {
   "cell_type": "code",
   "execution_count": null,
   "id": "4bc03c87",
   "metadata": {
    "scrolled": true
   },
   "outputs": [],
   "source": [
    "to_xarray(sims)"
   ]
  },
  {
   "cell_type": "code",
   "execution_count": null,
   "id": "2a4fd476",
   "metadata": {
    "scrolled": true
   },
   "outputs": [],
   "source": [
    "xarray.DataArray(np.linspace(0.0,))"
   ]
  },
  {
   "cell_type": "code",
   "execution_count": null,
   "id": "b579a0c7",
   "metadata": {
    "scrolled": true
   },
   "outputs": [],
   "source": [
    "xarray.DataArray(np.random.normal(size=(256,4)))"
   ]
  },
  {
   "cell_type": "code",
   "execution_count": null,
   "id": "39e193e6",
   "metadata": {
    "scrolled": true
   },
   "outputs": [],
   "source": [
    "xarray.DataArray(si.components[\"x\"], coords={\"sample\": si.index})"
   ]
  },
  {
   "cell_type": "code",
   "execution_count": null,
   "id": "e973c87e",
   "metadata": {
    "scrolled": true
   },
   "outputs": [],
   "source": [
    "from itertools import product"
   ]
  },
  {
   "cell_type": "code",
   "execution_count": null,
   "id": "2abd6799",
   "metadata": {
    "scrolled": true
   },
   "outputs": [],
   "source": [
    "for (src, dst) in list(product(fm.converters, fm.converters)):\n",
    "    print(src, dst)\n",
    "    out = fm.convert(fm.convert(si, src), dst)\n",
    "    print(fm.get_format(out))"
   ]
  },
  {
   "cell_type": "code",
   "execution_count": null,
   "id": "4bc1b119",
   "metadata": {
    "scrolled": true
   },
   "outputs": [],
   "source": [
    "fm.converters"
   ]
  },
  {
   "cell_type": "code",
   "execution_count": null,
   "id": "924bc01c",
   "metadata": {
    "scrolled": true
   },
   "outputs": [],
   "source": [
    "fm.converters"
   ]
  },
  {
   "cell_type": "code",
   "execution_count": null,
   "id": "fb01c421",
   "metadata": {
    "scrolled": true
   },
   "outputs": [],
   "source": [
    "fm.convert(lod, \"sample_iterator\")"
   ]
  },
  {
   "cell_type": "code",
   "execution_count": null,
   "id": "2de56f26",
   "metadata": {
    "scrolled": true
   },
   "outputs": [],
   "source": [
    "fm.convert(fm.convert(fm.convert(lod, \"sample_iterator\"), \"list_of_indexsample\"), \"pandas\")"
   ]
  },
  {
   "cell_type": "code",
   "execution_count": null,
   "id": "4e6c96e1",
   "metadata": {
    "scrolled": true
   },
   "outputs": [],
   "source": [
    "fm.converters"
   ]
  },
  {
   "cell_type": "code",
   "execution_count": null,
   "id": "2149cfb9",
   "metadata": {
    "scrolled": true
   },
   "outputs": [],
   "source": []
  },
  {
   "cell_type": "code",
   "execution_count": null,
   "id": "51e77ee4",
   "metadata": {
    "scrolled": true
   },
   "outputs": [],
   "source": [
    "si = islc.to_sampleiterator(index_sample_list)"
   ]
  },
  {
   "cell_type": "code",
   "execution_count": null,
   "id": "e3e8768e",
   "metadata": {
    "scrolled": true
   },
   "outputs": [],
   "source": [
    "[t for t in si]"
   ]
  },
  {
   "cell_type": "code",
   "execution_count": null,
   "id": "3646cbef",
   "metadata": {
    "scrolled": true
   },
   "outputs": [],
   "source": [
    "fm.get_format(lod)"
   ]
  },
  {
   "cell_type": "code",
   "execution_count": null,
   "id": "785aa7b8",
   "metadata": {
    "scrolled": true
   },
   "outputs": [],
   "source": [
    "islc.to_sampleiterator(index_sample_list)"
   ]
  },
  {
   "cell_type": "code",
   "execution_count": null,
   "id": "260f8a00",
   "metadata": {
    "scrolled": true
   },
   "outputs": [],
   "source": [
    "islc.is_format(index_sample_list)"
   ]
  },
  {
   "cell_type": "code",
   "execution_count": null,
   "id": "33b610c5",
   "metadata": {
    "scrolled": true
   },
   "outputs": [],
   "source": [
    "c.is_format([(2, 5)])"
   ]
  },
  {
   "cell_type": "code",
   "execution_count": null,
   "id": "4a51bfb1",
   "metadata": {
    "scrolled": true
   },
   "outputs": [],
   "source": []
  }
 ],
 "metadata": {
  "kernelspec": {
   "display_name": "Python 3 (ipykernel)",
   "language": "python",
   "name": "python3"
  },
  "language_info": {
   "codemirror_mode": {
    "name": "ipython",
    "version": 3
   },
   "file_extension": ".py",
   "mimetype": "text/x-python",
   "name": "python",
   "nbconvert_exporter": "python",
   "pygments_lexer": "ipython3",
   "version": "3.10.13"
  }
 },
 "nbformat": 4,
 "nbformat_minor": 5
}
