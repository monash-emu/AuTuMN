{
 "cells": [
  {
   "cell_type": "code",
   "execution_count": null,
   "id": "ae8e64c9",
   "metadata": {},
   "outputs": [],
   "source": [
    "from autumn.tools.runs import ManagedRun\n",
    "from autumn.tools.utils.pretty import pretty_print"
   ]
  },
  {
   "cell_type": "code",
   "execution_count": null,
   "id": "dc43492e",
   "metadata": {},
   "outputs": [],
   "source": [
    "mr = ManagedRun(\"sm_sir/hanoi/1646589621/950b7f6\")"
   ]
  },
  {
   "cell_type": "code",
   "execution_count": null,
   "id": "53bccef4",
   "metadata": {},
   "outputs": [],
   "source": [
    "mlep = mr.calibration.get_mle_params()"
   ]
  },
  {
   "cell_type": "code",
   "execution_count": null,
   "id": "dbd09b68",
   "metadata": {},
   "outputs": [],
   "source": [
    "from autumn.tools.project import get_project"
   ]
  },
  {
   "cell_type": "code",
   "execution_count": null,
   "id": "8ee65684",
   "metadata": {},
   "outputs": [],
   "source": [
    "p = get_project('sm_sir', 'hanoi')"
   ]
  },
  {
   "cell_type": "code",
   "execution_count": null,
   "id": "5f3d5626",
   "metadata": {},
   "outputs": [],
   "source": [
    "run_mle = p.param_set.baseline.update(mlep,True)"
   ]
  },
  {
   "cell_type": "code",
   "execution_count": null,
   "id": "ad3c17c1",
   "metadata": {},
   "outputs": [],
   "source": [
    "pretty_print(run_mle)"
   ]
  },
  {
   "cell_type": "code",
   "execution_count": null,
   "id": "8a0d6c1e",
   "metadata": {},
   "outputs": [],
   "source": [
    "m = p.run_baseline_model(run_mle)"
   ]
  },
  {
   "cell_type": "code",
   "execution_count": null,
   "id": "f09cc39c",
   "metadata": {},
   "outputs": [],
   "source": [
    "m.get_derived_outputs_df()['notifications'].plot()"
   ]
  },
  {
   "cell_type": "code",
   "execution_count": null,
   "id": "12606791",
   "metadata": {},
   "outputs": [],
   "source": []
  }
 ],
 "metadata": {
  "kernelspec": {
   "display_name": "autumn37",
   "language": "python",
   "name": "autumn37"
  },
  "language_info": {
   "codemirror_mode": {
    "name": "ipython",
    "version": 3
   },
   "file_extension": ".py",
   "mimetype": "text/x-python",
   "name": "python",
   "nbconvert_exporter": "python",
   "pygments_lexer": "ipython3",
   "version": "3.7.11"
  }
 },
 "nbformat": 4,
 "nbformat_minor": 5
}
