{
 "cells": [
  {
   "cell_type": "code",
   "execution_count": null,
   "id": "reported-accountability",
   "metadata": {},
   "outputs": [],
   "source": [
    "from autumn.tools.runs import ManagedRun"
   ]
  },
  {
   "cell_type": "code",
   "execution_count": null,
   "id": "personal-sphere",
   "metadata": {},
   "outputs": [],
   "source": [
    "mr = ManagedRun(\"sm_sir/national-capital-region/1646610688/822de8c\")"
   ]
  },
  {
   "cell_type": "code",
   "execution_count": null,
   "id": "starting-controversy",
   "metadata": {},
   "outputs": [],
   "source": [
    "mlep = mr.calibration.get_mle_params()"
   ]
  },
  {
   "cell_type": "code",
   "execution_count": null,
   "id": "binary-classification",
   "metadata": {},
   "outputs": [],
   "source": [
    "from autumn.tools.project import get_project"
   ]
  },
  {
   "cell_type": "code",
   "execution_count": null,
   "id": "headed-excellence",
   "metadata": {},
   "outputs": [],
   "source": [
    "p = get_project('sm_sir', 'national-capital-region')"
   ]
  },
  {
   "cell_type": "code",
   "execution_count": null,
   "id": "metallic-theology",
   "metadata": {},
   "outputs": [],
   "source": [
    "run_mle = p.param_set.baseline.update(mlep,True)"
   ]
  },
  {
   "cell_type": "code",
   "execution_count": null,
   "id": "binary-emission",
   "metadata": {},
   "outputs": [],
   "source": [
    "m = p.run_baseline_model(run_mle)"
   ]
  },
  {
   "cell_type": "code",
   "execution_count": null,
   "id": "western-christopher",
   "metadata": {},
   "outputs": [],
   "source": [
    "m.get_derived_outputs_df()['notifications'].plot()"
   ]
  },
  {
   "cell_type": "code",
   "execution_count": null,
   "id": "eastern-resistance",
   "metadata": {},
   "outputs": [],
   "source": []
  }
 ],
 "metadata": {
  "kernelspec": {
   "display_name": "Python 3",
   "language": "python",
   "name": "python3"
  },
  "language_info": {
   "codemirror_mode": {
    "name": "ipython",
    "version": 3
   },
   "file_extension": ".py",
   "mimetype": "text/x-python",
   "name": "python",
   "nbconvert_exporter": "python",
   "pygments_lexer": "ipython3",
   "version": "3.6.13"
  }
 },
 "nbformat": 4,
 "nbformat_minor": 5
}
