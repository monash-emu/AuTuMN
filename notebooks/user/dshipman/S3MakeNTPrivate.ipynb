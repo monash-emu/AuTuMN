{
 "cells": [
  {
   "cell_type": "code",
   "execution_count": null,
   "id": "9f565fe4",
   "metadata": {},
   "outputs": [],
   "source": [
    "from autumn.core.utils import s3\n",
    "import s3fs\n",
    "\n",
    "client = s3.get_s3_client()"
   ]
  },
  {
   "cell_type": "code",
   "execution_count": null,
   "id": "9b088da1",
   "metadata": {},
   "outputs": [],
   "source": [
    "from autumn.settings import aws"
   ]
  },
  {
   "cell_type": "code",
   "execution_count": null,
   "id": "3dc13caf",
   "metadata": {},
   "outputs": [],
   "source": [
    "from pathlib import PurePosixPath"
   ]
  },
  {
   "cell_type": "code",
   "execution_count": null,
   "id": "7fc49cfb",
   "metadata": {},
   "outputs": [],
   "source": [
    "bucket = PurePosixPath(aws.S3_BUCKET)"
   ]
  },
  {
   "cell_type": "code",
   "execution_count": null,
   "id": "444fadcc",
   "metadata": {},
   "outputs": [],
   "source": [
    "ACL='private'\n",
    "Bucket=aws.S3_BUCKET\n",
    "Key=key"
   ]
  },
  {
   "cell_type": "code",
   "execution_count": null,
   "id": "96e6a64d",
   "metadata": {},
   "outputs": [],
   "source": [
    "fs = s3fs.S3FileSystem()"
   ]
  },
  {
   "cell_type": "code",
   "execution_count": null,
   "id": "aaac41e7",
   "metadata": {},
   "outputs": [],
   "source": [
    "# List all northern_territory outputs\n",
    "nt_files = fs.glob(str(bucket / \"sm_sir/northern_territory/**/*.*\"))\n",
    "nt_files = [f[12:] for f in nt_files]"
   ]
  },
  {
   "cell_type": "code",
   "execution_count": null,
   "id": "a65cec78",
   "metadata": {},
   "outputs": [],
   "source": [
    "# Set the S3 permissions for this file to private\n",
    "for s3_file in nt_files:\n",
    "    try:\n",
    "        client.put_object_acl(ACL=\"private\", Bucket=aws.S3_BUCKET, Key=s3_file)\n",
    "    except Exception as e:\n",
    "        # It is perfectly normal for folders to fail on this\n",
    "        print(s3_file, e)\n",
    "        pass"
   ]
  }
 ],
 "metadata": {
  "kernelspec": {
   "display_name": "Python 3 (ipykernel)",
   "language": "python",
   "name": "python3"
  },
  "language_info": {
   "codemirror_mode": {
    "name": "ipython",
    "version": 3
   },
   "file_extension": ".py",
   "mimetype": "text/x-python",
   "name": "python",
   "nbconvert_exporter": "python",
   "pygments_lexer": "ipython3",
   "version": "3.9.13"
  }
 },
 "nbformat": 4,
 "nbformat_minor": 5
}
