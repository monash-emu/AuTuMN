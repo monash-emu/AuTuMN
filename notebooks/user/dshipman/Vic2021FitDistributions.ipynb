{
 "cells": [
  {
   "cell_type": "code",
   "execution_count": null,
   "id": "casual-nightlife",
   "metadata": {},
   "outputs": [],
   "source": [
    "import pandas as pd\n",
    "from matplotlib import pyplot as plt\n",
    "from scipy import stats\n",
    "import numpy as np"
   ]
  },
  {
   "cell_type": "code",
   "execution_count": null,
   "id": "running-burton",
   "metadata": {},
   "outputs": [],
   "source": [
    "from autumn.tools.runs import ManagedRun\n",
    "\n",
    "from autumn.tools.runs.calibration.utils import get_posteriors\n",
    "from autumn.tools.utils.pandas import pdfilt"
   ]
  },
  {
   "cell_type": "code",
   "execution_count": null,
   "id": "mental-queensland",
   "metadata": {},
   "outputs": [],
   "source": [
    "#run_id = \"covid_19/victoria/1630409372/1cbdde5\"\n",
    "#run_id = \"covid_19/malaysia/1630499991/66b9a81\"\n",
    "run_id = \"covid_19/victoria/1630616144/d8164de\""
   ]
  },
  {
   "cell_type": "code",
   "execution_count": null,
   "id": "perceived-tracker",
   "metadata": {},
   "outputs": [],
   "source": [
    "mr = ManagedRun(run_id)"
   ]
  },
  {
   "cell_type": "code",
   "execution_count": null,
   "id": "after-pioneer",
   "metadata": {},
   "outputs": [],
   "source": [
    "mcmc_runs = mr.calibration.get_mcmc_runs()\n",
    "mcmc_params = mr.calibration.get_mcmc_params()"
   ]
  },
  {
   "cell_type": "code",
   "execution_count": null,
   "id": "decreased-machine",
   "metadata": {},
   "outputs": [],
   "source": [
    "# Burn 500 runs (from every chain), and filter by accept only\n",
    "#filt_idx = pdfilt(mcmc_runs, ['accept==1','run >= 500']).index"
   ]
  },
  {
   "cell_type": "code",
   "execution_count": null,
   "id": "15c0a7d2",
   "metadata": {},
   "outputs": [],
   "source": [
    "# These are the params filtered by the above\n",
    "#pset = mcmc_params.loc[filt_idx]"
   ]
  },
  {
   "cell_type": "code",
   "execution_count": null,
   "id": "6817d130-7b9a-48c8-9bba-328d9baf08fb",
   "metadata": {},
   "outputs": [],
   "source": [
    "parameters = list(pset.columns)"
   ]
  },
  {
   "cell_type": "code",
   "execution_count": null,
   "id": "e5ccae35-8d88-490d-98e8-8f0b1e61c40a",
   "metadata": {},
   "outputs": [],
   "source": [
    "pset = get_posteriors(mcmc_params, mcmc_runs, 500)"
   ]
  },
  {
   "cell_type": "code",
   "execution_count": null,
   "id": "1c359123-48a7-40a2-bab6-f5ee38e4a435",
   "metadata": {},
   "outputs": [],
   "source": [
    "def fit(data, dist_name, plot=True):\n",
    "    dist = getattr(stats.distributions, dist_name)\n",
    "    dist_params = dist.fit(data)\n",
    "    xrange = np.linspace(data.min(),data.max(), 200)\n",
    "    \n",
    "    if plot:\n",
    "        data.hist(density=True,bins=50)\n",
    "        pdf = pd.Series([(dist.pdf(x, *dist_params)) for x in xrange], index=xrange)\n",
    "        pdf.plot()\n",
    "    \n",
    "    return dist_params"
   ]
  },
  {
   "cell_type": "code",
   "execution_count": null,
   "id": "1ef6c4d0-6db6-4aab-a22c-2da4cba2c02a",
   "metadata": {},
   "outputs": [],
   "source": [
    "parameter = pset.columns[10]\n",
    "data = pset[parameter]\n",
    "print(parameter)"
   ]
  },
  {
   "cell_type": "code",
   "execution_count": null,
   "id": "68f238b2-92f0-454e-9598-0cfcb2adb24a",
   "metadata": {},
   "outputs": [],
   "source": [
    "fit(data, 'norm')"
   ]
  },
  {
   "cell_type": "code",
   "execution_count": null,
   "id": "ef1672a5-85f5-47a4-bac1-ea8dc23a78f1",
   "metadata": {},
   "outputs": [],
   "source": [
    "fit(data, 'beta')"
   ]
  },
  {
   "cell_type": "code",
   "execution_count": null,
   "id": "a5f73b8f-ed97-4d23-8886-046f802d8fc5",
   "metadata": {},
   "outputs": [],
   "source": [
    "fit(data,'uniform')"
   ]
  },
  {
   "cell_type": "code",
   "execution_count": null,
   "id": "cf88c8a6-9531-4265-b1f3-9e4e9b987632",
   "metadata": {},
   "outputs": [],
   "source": []
  },
  {
   "cell_type": "code",
   "execution_count": null,
   "id": "4cf4847b-49cb-43b2-a839-33d4e9a2f39a",
   "metadata": {},
   "outputs": [],
   "source": []
  }
 ],
 "metadata": {
  "kernelspec": {
   "display_name": "Python 3 (ipykernel)",
   "language": "python",
   "name": "python3"
  },
  "language_info": {
   "codemirror_mode": {
    "name": "ipython",
    "version": 3
   },
   "file_extension": ".py",
   "mimetype": "text/x-python",
   "name": "python",
   "nbconvert_exporter": "python",
   "pygments_lexer": "ipython3",
   "version": "3.9.7"
  }
 },
 "nbformat": 4,
 "nbformat_minor": 5
}
