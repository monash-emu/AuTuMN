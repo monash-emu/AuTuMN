{
 "cells": [
  {
   "cell_type": "code",
   "execution_count": null,
   "id": "da10c7ee",
   "metadata": {},
   "outputs": [],
   "source": [
    "from autumn.core.project import get_project\n",
    "import pandas as pd\n",
    "\n",
    "pd.options.plotting.backend=\"plotly\""
   ]
  },
  {
   "cell_type": "code",
   "execution_count": null,
   "id": "2a05cb0c",
   "metadata": {},
   "outputs": [],
   "source": [
    "p = get_project(\"sm_covid2\", \"france\")"
   ]
  },
  {
   "cell_type": "code",
   "execution_count": null,
   "id": "1a18dec2",
   "metadata": {},
   "outputs": [],
   "source": [
    "m = p.build_model(p.param_set.baseline.to_dict())"
   ]
  },
  {
   "cell_type": "code",
   "execution_count": null,
   "id": "bababbd6",
   "metadata": {},
   "outputs": [],
   "source": [
    "# Get the parameters that were used during building the model\n",
    "# These are the values that will be used during calibration for non-calibrated parameters\n",
    "pdef = m.builder.get_default_parameters()\n",
    "pdef"
   ]
  },
  {
   "cell_type": "code",
   "execution_count": null,
   "id": "4e4f0f3b",
   "metadata": {},
   "outputs": [],
   "source": [
    "# Expect the first run to take some time - around 1 minute"
   ]
  },
  {
   "cell_type": "code",
   "execution_count": null,
   "id": "7f0189ba",
   "metadata": {},
   "outputs": [],
   "source": [
    "m.run(pdef)"
   ]
  },
  {
   "cell_type": "code",
   "execution_count": null,
   "id": "3ed2fab2",
   "metadata": {},
   "outputs": [],
   "source": [
    "# Subsequent runs are much faster\n",
    "%time m.run(pdef)"
   ]
  },
  {
   "cell_type": "code",
   "execution_count": null,
   "id": "83128580",
   "metadata": {},
   "outputs": [],
   "source": [
    "m.get_derived_outputs_df()[\"infection_deaths\"].plot()"
   ]
  },
  {
   "cell_type": "code",
   "execution_count": null,
   "id": "c7bda7f6",
   "metadata": {},
   "outputs": [],
   "source": [
    "# Manual calibration\n",
    "m.run(pdef | {\"contact_rate\": 0.004})\n",
    "m.get_derived_outputs_df()[\"infection_deaths\"].plot()"
   ]
  },
  {
   "cell_type": "code",
   "execution_count": null,
   "id": "adb08222",
   "metadata": {},
   "outputs": [],
   "source": [
    "# Calibrate locally on 4 chains for 5 minutes\n",
    "# For best performance, the number of chains should ideally be the number of CPU cores you have available\n",
    "# We set 'trigger' to True to also do full-run/powerbi  \n",
    "mr = p.tasks.calibrate(4,\"5m\",True)"
   ]
  },
  {
   "cell_type": "code",
   "execution_count": null,
   "id": "426c7d8b",
   "metadata": {},
   "outputs": [],
   "source": [
    "# See where the local run is stored - useful if you want to go inspect the plots etc\n",
    "mr.local_path"
   ]
  },
  {
   "cell_type": "code",
   "execution_count": null,
   "id": "fe414918",
   "metadata": {},
   "outputs": [],
   "source": [
    "# Everything else is exactly the same as any other managed run..."
   ]
  },
  {
   "cell_type": "code",
   "execution_count": null,
   "id": "79988a4e",
   "metadata": {},
   "outputs": [],
   "source": [
    "# Not bad for 5 minutes...\n",
    "\n",
    "mr.calibration.get_mcmc_runs()"
   ]
  },
  {
   "cell_type": "code",
   "execution_count": null,
   "id": "17cd7992",
   "metadata": {},
   "outputs": [],
   "source": [
    "pbi = mr.powerbi.get_db()"
   ]
  },
  {
   "cell_type": "code",
   "execution_count": null,
   "id": "4486c4ee",
   "metadata": {},
   "outputs": [],
   "source": [
    "udf = pbi.get_uncertainty()"
   ]
  },
  {
   "cell_type": "code",
   "execution_count": null,
   "id": "7b2cd51f",
   "metadata": {},
   "outputs": [],
   "source": [
    "# Note that the tasks will reset the plotting backend in order not to crash - set this again if you want to use plotly\n",
    "pd.options.plotting.backend=\"plotly\""
   ]
  },
  {
   "cell_type": "code",
   "execution_count": null,
   "id": "3cd24abe",
   "metadata": {},
   "outputs": [],
   "source": [
    "udf[\"hospital_occupancy\"][0].plot()"
   ]
  },
  {
   "cell_type": "code",
   "execution_count": null,
   "id": "3214ad84",
   "metadata": {},
   "outputs": [],
   "source": []
  }
 ],
 "metadata": {
  "kernelspec": {
   "display_name": "Python 3 (ipykernel)",
   "language": "python",
   "name": "python3"
  },
  "language_info": {
   "codemirror_mode": {
    "name": "ipython",
    "version": 3
   },
   "file_extension": ".py",
   "mimetype": "text/x-python",
   "name": "python",
   "nbconvert_exporter": "python",
   "pygments_lexer": "ipython3",
   "version": "3.9.13"
  }
 },
 "nbformat": 4,
 "nbformat_minor": 5
}
