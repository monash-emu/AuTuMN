{
 "cells": [
  {
   "cell_type": "markdown",
   "id": "2d02fcf8",
   "metadata": {},
   "source": [
    "## New summer things - there are a lot of them\n",
    "\n",
    "Google colab demo of some new idioms, processes, libraries etc"
   ]
  },
  {
   "cell_type": "code",
   "execution_count": null,
   "id": "9a13e0e4",
   "metadata": {},
   "outputs": [],
   "source": [
    "#!pip install summerepi==4.0.1a\n",
    "#!pip install numpyro\n",
    "\n",
    "# graphviz is installed already, but need lib too\n",
    "#!apt install libgraphviz-dev\n",
    "#!pip install pygraphviz"
   ]
  },
  {
   "cell_type": "code",
   "execution_count": null,
   "id": "16886c85",
   "metadata": {},
   "outputs": [],
   "source": [
    "from summer2 import CompartmentalModel\n",
    "from summer2.parameters import Parameter, Function, ModelVariable, Time, Data\n",
    "from summer2.experimental.model_builder import ModelBuilder\n",
    "from summer2.experimental import model_builder as mb \n",
    "#from autumn.model_features import functional\n",
    "\n",
    "import numpy as np\n",
    "from jax import numpy as jnp"
   ]
  },
  {
   "cell_type": "code",
   "execution_count": null,
   "id": "f5b55181",
   "metadata": {},
   "outputs": [],
   "source": [
    "import pandas as pd\n",
    "\n",
    "pd.options.plotting.backend = \"plotly\""
   ]
  },
  {
   "cell_type": "code",
   "execution_count": null,
   "id": "c21058ed",
   "metadata": {},
   "outputs": [],
   "source": [
    "from numpyro.distributions import constraints\n",
    "from numbers import Real"
   ]
  },
  {
   "cell_type": "code",
   "execution_count": null,
   "id": "9fefff48",
   "metadata": {},
   "outputs": [],
   "source": [
    "constraints.non_negative = constraints.interval(0.0, np.inf)"
   ]
  },
  {
   "cell_type": "code",
   "execution_count": null,
   "id": "e3ea4937",
   "metadata": {},
   "outputs": [],
   "source": [
    "pclass = mb.parameter_class"
   ]
  },
  {
   "cell_type": "code",
   "execution_count": null,
   "id": "dbbd2b30",
   "metadata": {},
   "outputs": [],
   "source": [
    "from pydantic import BaseModel as PydanticBaseModel\n",
    "\n",
    "class BaseModel(PydanticBaseModel, mb.ParamStruct):\n",
    "    class Config:\n",
    "        arbitrary_types_allowed = True"
   ]
  },
  {
   "cell_type": "code",
   "execution_count": null,
   "id": "8dd0ad6a",
   "metadata": {},
   "outputs": [],
   "source": [
    "from typing import List, Dict\n",
    "\n",
    "class SeedParams(BaseModel):\n",
    "    peak_t: pclass(desc=\"Time of peak value\")\n",
    "    spread: pclass(constraints.positive, \"Spread in time units\")\n",
    "    scale: pclass(constraints.positive, \"Total value to integrate to\")\n",
    "\n",
    "class Strain(BaseModel):\n",
    "    seed: SeedParams\n",
    "        \n",
    "class Matrices(BaseModel):\n",
    "    matrix_a: np.ndarray\n",
    "    matrix_b: np.ndarray\n",
    "    ratio: pclass(constraints.unit_interval, \"Matrix blending proportion\")\n",
    "        \n",
    "class BaseEpiParams(BaseModel):\n",
    "    contact_rate: pclass(constraints.non_negative, \"Contact rate\")\n",
    "    progression_rate: pclass(constraints.non_negative, \"Progression rate\")\n",
    "    recovery_rate: pclass(constraints.non_negative, \"Recovery rate\")\n",
    "\n",
    "class ModelOptions(BaseModel):\n",
    "    base_epi: BaseEpiParams\n",
    "    strains: Dict[str, Strain]\n",
    "    matrices: Matrices\n"
   ]
  },
  {
   "cell_type": "code",
   "execution_count": null,
   "id": "dfb92870",
   "metadata": {},
   "outputs": [],
   "source": [
    "import pickle\n",
    "mm_dict = pickle.load(open(\"MYS_matrices.pkl\",'rb'))"
   ]
  },
  {
   "cell_type": "code",
   "execution_count": null,
   "id": "fd4f914b",
   "metadata": {},
   "outputs": [],
   "source": [
    "pdict = {\n",
    "    \"base_epi\": {\n",
    "        \"contact_rate\": 1.0,\n",
    "        \"progression_rate\": 0.33,\n",
    "        \"recovery_rate\": 0.2, \n",
    "    },\n",
    "    \"strains\": {\n",
    "        \"wild_type\": {\n",
    "            \"seed\": {\n",
    "                \"peak_t\": 10.0,\n",
    "                \"spread\": 14.0,\n",
    "                \"scale\": 1.0,\n",
    "            }\n",
    "        },\n",
    "    },\n",
    "    \"matrices\": {\n",
    "        \"matrix_a\": mm_dict[\"home\"],\n",
    "        \"matrix_b\": mm_dict[\"other_locations\"],\n",
    "        \"ratio\": 0.5\n",
    "    }\n",
    "}"
   ]
  },
  {
   "cell_type": "code",
   "execution_count": null,
   "id": "637c6a79",
   "metadata": {},
   "outputs": [],
   "source": [
    "from summer2.stratification import StrainStratification, Stratification"
   ]
  },
  {
   "cell_type": "code",
   "execution_count": null,
   "id": "0eab5dd4",
   "metadata": {},
   "outputs": [],
   "source": [
    "def triangular_seed(t, peak_t, spread, scale):\n",
    "    hspread = spread * 0.5\n",
    "    hspread_inv = 1.0 / hspread\n",
    "    dist = jnp.abs(peak_t - t)\n",
    "    val = (1.0 - dist * hspread_inv) * scale\n",
    "    val = val * hspread_inv\n",
    "    return jnp.where(dist > hspread, 0.0, val)"
   ]
  },
  {
   "cell_type": "code",
   "execution_count": null,
   "id": "1f47925b",
   "metadata": {},
   "outputs": [],
   "source": [
    "def apply_strain_stratification(builder: ModelBuilder, strains: Dict[str, Strain]):\n",
    "    model = builder.model\n",
    "    strat = StrainStratification(\"strain\", list(strains), [\"E\",\"I\"])\n",
    "    \n",
    "    model.stratify_with(strat)\n",
    "    \n",
    "    for name, strain in strains.items():\n",
    "        seed_func = builder.get_mapped_func(triangular_seed, strain.seed, {'t': Time})\n",
    "        model.add_importation_flow(f\"seed_{name}\", seed_func, \"E\", True, {\"strain\": name},16)"
   ]
  },
  {
   "cell_type": "code",
   "execution_count": null,
   "id": "f3d20c77",
   "metadata": {},
   "outputs": [],
   "source": [
    "def apply_age_stratification(builder: ModelBuilder, mixing_matrix):\n",
    "    model = builder.model\n",
    "    \n",
    "    age_groups = [str(age) for age in range(0,80,5)]\n",
    "    \n",
    "    strat = Stratification(\"age\", age_groups, [\"S\",\"E\",\"I\",\"R\"])\n",
    "    \n",
    "    # Let's just say there are 5 times as many 0-5 year olds as 75+,\n",
    "    # and linearly interpolate in between\n",
    "    age_dist = np.linspace(5,1,16)\n",
    "    age_dist = age_dist / age_dist.sum()\n",
    "\n",
    "    strat.set_population_split({age:age_dist[i] for i, age in enumerate(age_groups)})\n",
    "    \n",
    "    strat.set_mixing_matrix(mixing_matrix)\n",
    "    rec_scale = np.linspace(1.5,0.5,16)\n",
    "    \n",
    "    strat.set_flow_adjustments(\"recovery\", {age:rec_scale[i] for i, age in enumerate(age_groups)})\n",
    "    \n",
    "    model.stratify_with(strat)"
   ]
  },
  {
   "cell_type": "code",
   "execution_count": null,
   "id": "1e053c8e",
   "metadata": {},
   "outputs": [],
   "source": [
    "def get_blended_mm(mat_a, mat_b, ratio):\n",
    "    return mat_a * ratio + mat_b * (1.0-ratio)"
   ]
  },
  {
   "cell_type": "code",
   "execution_count": null,
   "id": "7e1b154f",
   "metadata": {},
   "outputs": [],
   "source": [
    "def create_builder(pdict):\n",
    "    m = CompartmentalModel([0,300],[\"S\",\"E\",\"I\",\"R\"],[\"I\"])\n",
    "    m.set_initial_population({\"S\": 30000000.0, \"E\": 0, \"I\": 0, \"R\": 0})\n",
    "    \n",
    "    builder = ModelBuilder(pdict, ModelOptions)\n",
    "    builder.set_model(m)\n",
    "    params = builder.params\n",
    "    \n",
    "    \n",
    "    \n",
    "    mixing_matrix = Function(get_blended_mm,\n",
    "                             [Data(params.matrices.matrix_a), \n",
    "                              Data(params.matrices.matrix_b), \n",
    "                              Parameter(\"matrices.ratio\")])\n",
    "    \n",
    "    m.add_infection_frequency_flow(\"infection\", params.base_epi.contact_rate, \"S\", \"E\")\n",
    "    m.add_transition_flow(\"progression\", params.base_epi.progression_rate, \"E\", \"I\")\n",
    "    m.add_transition_flow(\"recovery\", params.base_epi.recovery_rate, \"I\", \"R\")\n",
    "\n",
    "    apply_age_stratification(builder, mixing_matrix)    \n",
    "    apply_strain_stratification(builder, params.strains)\n",
    "    \n",
    "    m.request_output_for_flow(\"progression\",\"progression\")\n",
    "    \n",
    "    return builder"
   ]
  },
  {
   "cell_type": "code",
   "execution_count": null,
   "id": "800cd2f8",
   "metadata": {},
   "outputs": [],
   "source": [
    "b = create_builder(pdict)"
   ]
  },
  {
   "cell_type": "code",
   "execution_count": null,
   "id": "9459bc2f",
   "metadata": {},
   "outputs": [],
   "source": [
    "b.model.get_input_parameters()"
   ]
  },
  {
   "cell_type": "code",
   "execution_count": null,
   "id": "81aa4f44",
   "metadata": {},
   "outputs": [],
   "source": [
    "defp = b.get_default_parameters()\n",
    "\n",
    "defp"
   ]
  },
  {
   "cell_type": "code",
   "execution_count": null,
   "id": "a78c9965",
   "metadata": {},
   "outputs": [],
   "source": [
    "runner = b.model.get_runner(defp)"
   ]
  },
  {
   "cell_type": "code",
   "execution_count": null,
   "id": "a86e69dc",
   "metadata": {},
   "outputs": [],
   "source": [
    "runner.run(defp)"
   ]
  },
  {
   "cell_type": "code",
   "execution_count": null,
   "id": "f5042ef3",
   "metadata": {},
   "outputs": [],
   "source": [
    "runner._run_func(defp)"
   ]
  },
  {
   "cell_type": "code",
   "execution_count": null,
   "id": "d638c046",
   "metadata": {},
   "outputs": [],
   "source": [
    "from jax import random\n",
    "\n",
    "import numpyro\n",
    "import numpyro.distributions as dist"
   ]
  },
  {
   "cell_type": "code",
   "execution_count": null,
   "id": "85fce701",
   "metadata": {},
   "outputs": [],
   "source": [
    "target_param_updates = {\n",
    "    \"base_epi.recovery_rate\": 0.2,\n",
    "    \"base_epi.progression_rate\": 0.1,\n",
    "    \"base_epi.contact_rate\": 0.5,\n",
    "    \"matrices.ratio\": 0.32\n",
    "}\n",
    "\n",
    "results = runner.run(defp | target_param_updates)\n",
    "\n",
    "targets = {\n",
    "    \"progression\": results[\"derived_outputs\"][\"progression\"],\n",
    "}"
   ]
  },
  {
   "cell_type": "code",
   "execution_count": null,
   "id": "fa6c5ec1",
   "metadata": {},
   "outputs": [],
   "source": [
    "pd.DataFrame(targets).plot()"
   ]
  },
  {
   "cell_type": "code",
   "execution_count": null,
   "id": "c63b6076",
   "metadata": {},
   "outputs": [],
   "source": [
    "priors = {\n",
    "    \"base_epi.recovery_rate\": dist.Uniform(0.1, 0.3),\n",
    "    \"base_epi.progression_rate\": dist.Uniform(0.05, 0.3),\n",
    "    \"base_epi.contact_rate\": dist.Uniform(0.01, 0.1),\n",
    "    \"strains.wild_type.seed.peak_t\": dist.Uniform(0,100),\n",
    "    \"matrices.ratio\": dist.Uniform(0.0,1.0)\n",
    "}\n",
    "\n",
    "priors = {k:v for k,v in priors.items() if k in target_param_updates}\n",
    "for k in target_param_updates:\n",
    "    assert(k in priors), k\n",
    "priors"
   ]
  },
  {
   "cell_type": "code",
   "execution_count": null,
   "id": "40b9ece7",
   "metadata": {},
   "outputs": [],
   "source": [
    "def log_uniform(low,high):\n",
    "    log_low = np.log(low)\n",
    "    log_high = np.log(high)\n",
    "    d = dist.TransformedDistribution(dist.Uniform(log_low,log_high),dist.transforms.ExpTransform())\n",
    "    return d"
   ]
  },
  {
   "cell_type": "code",
   "execution_count": null,
   "id": "a75c5989",
   "metadata": {},
   "outputs": [],
   "source": [
    "rng_key = random.PRNGKey(777)"
   ]
  },
  {
   "cell_type": "code",
   "execution_count": null,
   "id": "64e541b6",
   "metadata": {},
   "outputs": [],
   "source": [
    "d = log_uniform(0.01,1.0)"
   ]
  },
  {
   "cell_type": "code",
   "execution_count": null,
   "id": "45d43559",
   "metadata": {},
   "outputs": [],
   "source": [
    "pd.Series(d.sample(rng_key, (10000,))).hist()"
   ]
  },
  {
   "cell_type": "code",
   "execution_count": null,
   "id": "52f6d7b9",
   "metadata": {},
   "outputs": [],
   "source": [
    "#transforms = numpyro.distributions.transforms"
   ]
  },
  {
   "cell_type": "code",
   "execution_count": null,
   "id": "a16a00e8",
   "metadata": {},
   "outputs": [],
   "source": [
    "for key, prior_dist in priors.items():\n",
    "    print(key)\n",
    "    plow, phigh = prior_dist.low, prior_dist.high\n",
    "    param_obj = mb.find_obj_from_key(key, b.params)\n",
    "    cfunc = param_obj.constraint\n",
    "    is_constrained = (cfunc(plow) and cfunc(prior_dist.high))\n",
    "    msg = f\"Prior for {key} ({prior_dist},[{plow},{phigh}]) samples outside of constraint {cfunc}\"\n",
    "    assert(is_constrained), msg"
   ]
  },
  {
   "cell_type": "code",
   "execution_count": null,
   "id": "fb786d6a",
   "metadata": {},
   "outputs": [],
   "source": [
    "def model():\n",
    "    param_updates = {k:numpyro.sample(k, priors[k]) for k in priors}\n",
    "    \n",
    "    results = runner._run_func(defp | param_updates)\n",
    "\n",
    "    for k,obs in targets.items():\n",
    "        modelled = results[\"derived_outputs\"][k]\n",
    "        k_fac = dist.TruncatedNormal(modelled, jnp.std(obs),low=0.0).log_prob(obs).sum()\n",
    "        numpyro.factor(k, k_fac)\n",
    "        numpyro.deterministic(f\"{k}_ll\", k_fac)\n",
    "        numpyro.deterministic(f\"{k}_sum\", jnp.sum(modelled))"
   ]
  },
  {
   "cell_type": "code",
   "execution_count": null,
   "id": "3ddc65fa",
   "metadata": {},
   "outputs": [],
   "source": [
    "from numpyro.infer import MCMC"
   ]
  },
  {
   "cell_type": "code",
   "execution_count": null,
   "id": "146ccbaa",
   "metadata": {},
   "outputs": [],
   "source": [
    "sa_kernel = numpyro.infer.SA(model)"
   ]
  },
  {
   "cell_type": "code",
   "execution_count": null,
   "id": "87d31ab8",
   "metadata": {},
   "outputs": [],
   "source": [
    "mcmc = MCMC(sa_kernel, num_chains=4, num_samples=20000,num_warmup=10000)\n",
    "rng_key = random.PRNGKey(1)\n",
    "mcmc.run(rng_key, extra_fields=(\"accept_prob\",))"
   ]
  },
  {
   "cell_type": "code",
   "execution_count": null,
   "id": "74298a15",
   "metadata": {},
   "outputs": [],
   "source": [
    "mcmc.print_summary(exclude_deterministic=False)"
   ]
  },
  {
   "cell_type": "code",
   "execution_count": null,
   "id": "ed632f7a",
   "metadata": {},
   "outputs": [],
   "source": [
    "import arviz as az"
   ]
  },
  {
   "cell_type": "code",
   "execution_count": null,
   "id": "81dc76ac",
   "metadata": {},
   "outputs": [],
   "source": [
    "az_data = az.from_numpyro(mcmc)"
   ]
  },
  {
   "cell_type": "code",
   "execution_count": null,
   "id": "9a0dc082",
   "metadata": {},
   "outputs": [],
   "source": [
    "_ = az.plot_trace(az_data, compact=False, figsize=(15,20))"
   ]
  },
  {
   "cell_type": "code",
   "execution_count": null,
   "id": "0173f8c2",
   "metadata": {},
   "outputs": [],
   "source": [
    "az.plot_posterior(az_data)"
   ]
  }
 ],
 "metadata": {
  "kernelspec": {
   "display_name": "Python 3 (ipykernel)",
   "language": "python",
   "name": "python3"
  },
  "language_info": {
   "codemirror_mode": {
    "name": "ipython",
    "version": 3
   },
   "file_extension": ".py",
   "mimetype": "text/x-python",
   "name": "python",
   "nbconvert_exporter": "python",
   "pygments_lexer": "ipython3",
   "version": "3.9.13"
  }
 },
 "nbformat": 4,
 "nbformat_minor": 5
}
