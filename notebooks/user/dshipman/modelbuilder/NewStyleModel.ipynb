{
 "cells": [
  {
   "cell_type": "markdown",
   "id": "2d02fcf8",
   "metadata": {},
   "source": [
    "## New summer things - there are a lot of them\n",
    "\n",
    "Google colab demo of some new idioms, processes, libraries etc"
   ]
  },
  {
   "cell_type": "code",
   "execution_count": null,
   "id": "9a13e0e4",
   "metadata": {},
   "outputs": [],
   "source": [
    "!pip install summerepi==4.0.1a\n",
    "!pip install numpyro\n",
    "\n",
    "# graphviz is installed already, but need lib too\n",
    "!apt install libgraphviz-dev\n",
    "!pip install pygraphviz"
   ]
  },
  {
   "cell_type": "code",
   "execution_count": null,
   "id": "84737da8",
   "metadata": {},
   "outputs": [],
   "source": [
    "from summer import jaxify\n",
    "jaxify.set_using_jax(True)"
   ]
  },
  {
   "cell_type": "code",
   "execution_count": null,
   "id": "16886c85",
   "metadata": {},
   "outputs": [],
   "source": [
    "from summer import CompartmentalModel\n",
    "from summer.parameters.params import Parameter, Function, ComputedValue, ModelVariable, Time\n",
    "from summer.experimental.model_builder import ModelBuilder\n",
    "from summer.experimental import model_builder as mb \n",
    "#from autumn.model_features import functional\n",
    "\n",
    "import numpy as np\n",
    "from jax import numpy as jnp"
   ]
  },
  {
   "cell_type": "code",
   "execution_count": null,
   "id": "f5b55181",
   "metadata": {},
   "outputs": [],
   "source": [
    "import pandas as pd\n",
    "\n",
    "pd.options.plotting.backend = \"plotly\""
   ]
  },
  {
   "cell_type": "code",
   "execution_count": null,
   "id": "c21058ed",
   "metadata": {},
   "outputs": [],
   "source": [
    "from numpyro.distributions import constraints\n",
    "from numbers import Real"
   ]
  },
  {
   "cell_type": "code",
   "execution_count": null,
   "id": "9fefff48",
   "metadata": {},
   "outputs": [],
   "source": [
    "constraints.non_negative = constraints.interval(0.0, np.inf)"
   ]
  },
  {
   "cell_type": "code",
   "execution_count": null,
   "id": "e3ea4937",
   "metadata": {},
   "outputs": [],
   "source": [
    "pclass = mb.parameter_class"
   ]
  },
  {
   "cell_type": "code",
   "execution_count": null,
   "id": "dbbd2b30",
   "metadata": {},
   "outputs": [],
   "source": [
    "from pydantic import BaseModel as PydanticBaseModel\n",
    "\n",
    "class BaseModel(PydanticBaseModel):\n",
    "    class Config:\n",
    "        arbitrary_types_allowed = True"
   ]
  },
  {
   "cell_type": "code",
   "execution_count": null,
   "id": "8dd0ad6a",
   "metadata": {},
   "outputs": [],
   "source": [
    "from typing import List, Dict\n",
    "\n",
    "class SeedParams(BaseModel):\n",
    "    peak_t: pclass(description=\"Time of peak value\")\n",
    "    spread: pclass(constraints.positive, description=\"Spread in time units\")\n",
    "    scale: pclass(constraints.positive, description=\"Total value to integrate to\")\n",
    "\n",
    "class Strain(BaseModel):\n",
    "    seed: SeedParams\n",
    "        \n",
    "class Matrices(BaseModel):\n",
    "    matrix_a: jaxify.Array\n",
    "    matrix_b: jaxify.Array\n",
    "    ratio: pclass(constraints.unit_interval, description=\"Matrix blending proportion\")\n",
    "        \n",
    "class BaseEpiParams(BaseModel):\n",
    "    contact_rate: pclass(constraints.non_negative, \"Contact rate\")\n",
    "    progression_rate: pclass(constraints.non_negative, \"Progression rate\")\n",
    "    recovery_rate: pclass(constraints.non_negative, \"Recovery rate\")\n",
    "\n",
    "class ModelOptions(BaseModel):\n",
    "    base_epi: BaseEpiParams\n",
    "    strains: Dict[str, Strain]\n",
    "    matrices: Matrices\n"
   ]
  },
  {
   "cell_type": "code",
   "execution_count": null,
   "id": "44eb75e5",
   "metadata": {},
   "outputs": [],
   "source": [
    "!curl https://raw.githubusercontent.com/monash-emu/AuTuMN/master/notebooks/capacity_building/malaysia/MYS_matrices.pkl > MYS_matrices.pkl"
   ]
  },
  {
   "cell_type": "code",
   "execution_count": null,
   "id": "dfb92870",
   "metadata": {},
   "outputs": [],
   "source": [
    "import pickle\n",
    "mm_dict = pickle.load(open(\"MYS_matrices.pkl\",'rb'))"
   ]
  },
  {
   "cell_type": "code",
   "execution_count": null,
   "id": "fd4f914b",
   "metadata": {},
   "outputs": [],
   "source": [
    "pdict = {\n",
    "    \"base_epi\": {\n",
    "        \"contact_rate\": 1.0,\n",
    "        \"progression_rate\": 0.33,\n",
    "        \"recovery_rate\": 0.2, \n",
    "    },\n",
    "    \"strains\": {\n",
    "        \"wild_type\": {\n",
    "            \"seed\": {\n",
    "                \"peak_t\": 10.0,\n",
    "                \"spread\": 14.0,\n",
    "                \"scale\": 1.0,\n",
    "            }\n",
    "        },\n",
    "    },\n",
    "    \"matrices\": {\n",
    "        \"matrix_a\": mm_dict[\"home\"],\n",
    "        \"matrix_b\": mm_dict[\"other_locations\"],\n",
    "        \"ratio\": 0.5\n",
    "    }\n",
    "}"
   ]
  },
  {
   "cell_type": "code",
   "execution_count": null,
   "id": "637c6a79",
   "metadata": {},
   "outputs": [],
   "source": [
    "from summer.stratification import StrainStratification"
   ]
  },
  {
   "cell_type": "code",
   "execution_count": null,
   "id": "0eab5dd4",
   "metadata": {},
   "outputs": [],
   "source": [
    "def triangular_seed(t, peak_t, spread, scale):\n",
    "    hspread = spread * 0.5\n",
    "    hspread_inv = 1.0 / hspread\n",
    "    dist = jnp.abs(peak_t - t)\n",
    "    val = (1.0 - dist * hspread_inv) * scale\n",
    "    val = val * hspread_inv\n",
    "    return jnp.where(dist > hspread, 0.0, val)"
   ]
  },
  {
   "cell_type": "code",
   "execution_count": null,
   "id": "1f47925b",
   "metadata": {},
   "outputs": [],
   "source": [
    "def apply_strain_stratification(builder: ModelBuilder, strains: Dict[str, Strain]):\n",
    "    model = builder.model\n",
    "    strat = StrainStratification(\"strain\", list(strains), [\"E\",\"I\"])\n",
    "    \n",
    "    model.stratify_with(strat)\n",
    "    \n",
    "    for name, strain in strains.items():\n",
    "        seed_func = builder.get_mapped_func(triangular_seed, strain.seed, {'t': Time})\n",
    "        model.add_importation_flow(f\"seed_{name}\", seed_func, \"E\", True, {\"strain\": name},16)"
   ]
  },
  {
   "cell_type": "code",
   "execution_count": null,
   "id": "f2da95a4",
   "metadata": {},
   "outputs": [],
   "source": [
    "from summer import Stratification"
   ]
  },
  {
   "cell_type": "code",
   "execution_count": null,
   "id": "f3d20c77",
   "metadata": {},
   "outputs": [],
   "source": [
    "def apply_age_stratification(builder: ModelBuilder):\n",
    "    model = builder.model\n",
    "    \n",
    "    age_groups = [str(age) for age in range(0,80,5)]\n",
    "    \n",
    "    strat = Stratification(\"age\", age_groups, [\"S\",\"E\",\"I\",\"R\"])\n",
    "    \n",
    "    # Let's just say there are 5 times as many 0-5 year olds as 75+,\n",
    "    # and linearly interpolate in between\n",
    "    age_dist = np.linspace(5,1,16)\n",
    "    age_dist = age_dist / age_dist.sum()\n",
    "\n",
    "    strat.set_population_split({age:age_dist[i] for i, age in enumerate(age_groups)})\n",
    "    \n",
    "    strat.set_mixing_matrix(Parameter(\"mixing_matrix\"))\n",
    "    rec_scale = np.linspace(1.5,0.5,16)\n",
    "    \n",
    "    strat.set_flow_adjustments(\"recovery\", {age:rec_scale[i] for i, age in enumerate(age_groups)})\n",
    "    \n",
    "    model.stratify_with(strat)"
   ]
  },
  {
   "cell_type": "code",
   "execution_count": null,
   "id": "1e053c8e",
   "metadata": {},
   "outputs": [],
   "source": [
    "def get_blended_mm(mat_a, mat_b, ratio):\n",
    "    return mat_a * ratio + mat_b * (1.0-ratio)"
   ]
  },
  {
   "cell_type": "code",
   "execution_count": null,
   "id": "7e1b154f",
   "metadata": {},
   "outputs": [],
   "source": [
    "def create_builder(pdict):\n",
    "    m = CompartmentalModel([0,300],[\"S\",\"E\",\"I\",\"R\"],[\"I\"],takes_params=True)\n",
    "    m.set_initial_population({\"S\": 30000000.0, \"E\": 0, \"I\": 0, \"R\": 0})\n",
    "    \n",
    "    builder = ModelBuilder(m, pdict, ModelOptions)\n",
    "    params = builder.params\n",
    "    \n",
    "    builder.add_output(\"mixing_matrix\", Function(get_blended_mm,\n",
    "                                         [Parameter(\"matrices.matrix_a\"),\n",
    "                                          Parameter(\"matrices.matrix_b\"),\n",
    "                                          Parameter(\"matrices.ratio\")]))\n",
    "    \n",
    "    m.add_infection_frequency_flow(\"infection\", Parameter(\"base_epi.contact_rate\"), \"S\", \"E\")\n",
    "    m.add_transition_flow(\"progression\", builder.get_param(params.base_epi.progression_rate), \"E\", \"I\")\n",
    "    m.add_transition_flow(\"recovery\", builder.get_param(\"base_epi.recovery_rate\"), \"I\", \"R\")\n",
    "\n",
    "    apply_age_stratification(builder)    \n",
    "    apply_strain_stratification(builder, params.strains)\n",
    "    \n",
    "    m.request_output_for_flow(\"progression\",\"progression\")\n",
    "    \n",
    "    return builder"
   ]
  },
  {
   "cell_type": "code",
   "execution_count": null,
   "id": "e6c7f9b9",
   "metadata": {},
   "outputs": [],
   "source": [
    "from computegraph import ComputeGraph"
   ]
  },
  {
   "cell_type": "code",
   "execution_count": null,
   "id": "800cd2f8",
   "metadata": {},
   "outputs": [],
   "source": [
    "b = create_builder(pdict)"
   ]
  },
  {
   "cell_type": "code",
   "execution_count": null,
   "id": "91ca3fcc",
   "metadata": {},
   "outputs": [],
   "source": [
    "b.model"
   ]
  },
  {
   "cell_type": "code",
   "execution_count": null,
   "id": "f11c995c",
   "metadata": {},
   "outputs": [],
   "source": [
    "list(b.model.get_input_parameters())"
   ]
  },
  {
   "cell_type": "code",
   "execution_count": null,
   "id": "e5a263ef",
   "metadata": {},
   "outputs": [],
   "source": [
    "b.input_graph"
   ]
  },
  {
   "cell_type": "code",
   "execution_count": null,
   "id": "9c6fac80",
   "metadata": {},
   "outputs": [],
   "source": [
    "ComputeGraph(b.input_graph).draw()"
   ]
  },
  {
   "cell_type": "code",
   "execution_count": null,
   "id": "c1535cef",
   "metadata": {},
   "outputs": [],
   "source": [
    "runner = b.get_jax_runner()"
   ]
  },
  {
   "cell_type": "code",
   "execution_count": null,
   "id": "d638c046",
   "metadata": {
    "scrolled": true
   },
   "outputs": [],
   "source": [
    "from jax import random\n",
    "\n",
    "import numpyro\n",
    "import numpyro.distributions as dist"
   ]
  },
  {
   "cell_type": "code",
   "execution_count": null,
   "id": "85fce701",
   "metadata": {},
   "outputs": [],
   "source": [
    "target_param_updates = {\n",
    "    \"base_epi.recovery_rate\": 0.2,\n",
    "    #\"base_epi.progression_rate\": 0.1,\n",
    "    #\"base_epi.contact_rate\": 0.03,\n",
    "    \"matrices.ratio\": 0.1\n",
    "}\n",
    "\n",
    "results = runner(target_param_updates)\n",
    "\n",
    "targets = {\n",
    "    \"progression\": results[\"derived_outputs\"][\"progression\"],\n",
    "}"
   ]
  },
  {
   "cell_type": "code",
   "execution_count": 150,
   "id": "d48b17c1",
   "metadata": {},
   "outputs": [],
   "source": [
    "cidx = slice(16,32,15)"
   ]
  },
  {
   "cell_type": "code",
   "execution_count": null,
   "id": "b86c69de",
   "metadata": {},
   "outputs": [],
   "source": [
    "pd.DataFrame(results[\"outputs\"][:,cidx],columns=b.model.compartments[cidx]).plot()"
   ]
  },
  {
   "cell_type": "code",
   "execution_count": null,
   "id": "9943a25a",
   "metadata": {},
   "outputs": [],
   "source": [
    "pd.DataFrame(results[\"outputs\"][:,cidx],columns=b.model.compartments[cidx]).plot()"
   ]
  },
  {
   "cell_type": "code",
   "execution_count": null,
   "id": "fa6c5ec1",
   "metadata": {},
   "outputs": [],
   "source": [
    "pd.DataFrame(targets).plot()"
   ]
  },
  {
   "cell_type": "code",
   "execution_count": null,
   "id": "c63b6076",
   "metadata": {},
   "outputs": [],
   "source": [
    "priors = {\n",
    "    \"base_epi.recovery_rate\": dist.Uniform(0.1, 0.3),\n",
    "    \"base_epi.progression_rate\": dist.Uniform(0.05, 0.3),\n",
    "    \"base_epi.contact_rate\": dist.Uniform(0.01, 0.1),\n",
    "    \"strains.wild_type.seed.peak_t\": dist.Uniform(0,100),\n",
    "    \"matrices.ratio\": dist.Uniform(0.0,1.0)\n",
    "}\n",
    "\n",
    "priors = {k:v for k,v in priors.items() if k in target_param_updates}\n",
    "for k in target_param_updates:\n",
    "    assert(k in priors), k\n",
    "priors"
   ]
  },
  {
   "cell_type": "code",
   "execution_count": null,
   "id": "a16a00e8",
   "metadata": {},
   "outputs": [],
   "source": [
    "for key, prior_dist in priors.items():\n",
    "    print(key)\n",
    "    plow, phigh = prior_dist.low, prior_dist.high\n",
    "    param_obj = mb.find_obj_from_key(key, b.params)\n",
    "    cfunc = param_obj.constraint\n",
    "    is_constrained = (cfunc(plow) and cfunc(prior_dist.high))\n",
    "    msg = f\"Prior for {key} ({prior_dist},[{plow},{phigh}]) samples outside of constraint {cfunc}\"\n",
    "    assert(is_constrained), msg"
   ]
  },
  {
   "cell_type": "code",
   "execution_count": null,
   "id": "fb786d6a",
   "metadata": {},
   "outputs": [],
   "source": [
    "def model():\n",
    "    param_updates = {k:numpyro.sample(k, priors[k]) for k in priors}\n",
    "    \n",
    "    results = runner(param_updates)\n",
    "\n",
    "    for k,obs in targets.items():\n",
    "        modelled = results[\"derived_outputs\"][k]\n",
    "        numpyro.factor(k, dist.TruncatedNormal(modelled, jnp.std(obs),low=0.0).log_prob(obs).sum())"
   ]
  },
  {
   "cell_type": "code",
   "execution_count": null,
   "id": "afc6da63",
   "metadata": {},
   "outputs": [],
   "source": [
    "import arviz as az"
   ]
  },
  {
   "cell_type": "code",
   "execution_count": null,
   "id": "3ddc65fa",
   "metadata": {},
   "outputs": [],
   "source": [
    "from numpyro.infer import MCMC"
   ]
  },
  {
   "cell_type": "code",
   "execution_count": null,
   "id": "146ccbaa",
   "metadata": {},
   "outputs": [],
   "source": [
    "sa_kernel = numpyro.infer.SA(model)"
   ]
  },
  {
   "cell_type": "code",
   "execution_count": null,
   "id": "87d31ab8",
   "metadata": {},
   "outputs": [],
   "source": [
    "mcmc = MCMC(sa_kernel, num_chains=2, num_samples=10000,num_warmup=1000,thinning=1)\n",
    "rng_key = random.PRNGKey(1)\n",
    "mcmc.run(rng_key)"
   ]
  },
  {
   "cell_type": "code",
   "execution_count": null,
   "id": "74298a15",
   "metadata": {},
   "outputs": [],
   "source": [
    "mcmc.print_summary()"
   ]
  },
  {
   "cell_type": "code",
   "execution_count": null,
   "id": "be526072",
   "metadata": {},
   "outputs": [],
   "source": [
    "target_param_updates"
   ]
  },
  {
   "cell_type": "code",
   "execution_count": null,
   "id": "9e9938a5",
   "metadata": {},
   "outputs": [],
   "source": [
    "samples = mcmc.get_samples(True)"
   ]
  },
  {
   "cell_type": "code",
   "execution_count": null,
   "id": "164f9174",
   "metadata": {},
   "outputs": [],
   "source": [
    "arviz_data = az.from_dict(samples)"
   ]
  },
  {
   "cell_type": "code",
   "execution_count": null,
   "id": "dfb81c72",
   "metadata": {},
   "outputs": [],
   "source": [
    "_ = az.plot_trace(arviz_data, compact=False, figsize=(15,10))"
   ]
  },
  {
   "cell_type": "code",
   "execution_count": null,
   "id": "00e59118",
   "metadata": {},
   "outputs": [],
   "source": [
    "def thin_samples(samples, thinning):\n",
    "    thinned = {}\n",
    "    for k, v in samples.items():\n",
    "        thinned[k] = samples[k][:,::thinning].flatten()\n",
    "    return thinned"
   ]
  },
  {
   "cell_type": "code",
   "execution_count": null,
   "id": "a3ca765d",
   "metadata": {},
   "outputs": [],
   "source": [
    "thinned_samples = thin_samples(samples,20)"
   ]
  },
  {
   "cell_type": "code",
   "execution_count": null,
   "id": "5c0bc13d",
   "metadata": {},
   "outputs": [],
   "source": [
    "ll = numpyro.infer.util.log_likelihood(model,thinned_samples)"
   ]
  },
  {
   "cell_type": "code",
   "execution_count": null,
   "id": "3aaa1c51",
   "metadata": {},
   "outputs": [],
   "source": [
    "def sample_model(samples):\n",
    "    params_df = pd.DataFrame(samples)\n",
    "    out = []\n",
    "    for i, row in params_df.iterrows():\n",
    "        res = runner(dict(row))\n",
    "        out.append(res['derived_outputs'])\n",
    "    return out"
   ]
  },
  {
   "cell_type": "code",
   "execution_count": null,
   "id": "aa227386",
   "metadata": {},
   "outputs": [],
   "source": [
    "runs = sample_model(thinned_samples)"
   ]
  },
  {
   "cell_type": "code",
   "execution_count": null,
   "id": "5dae7b8c",
   "metadata": {},
   "outputs": [],
   "source": [
    "data = jnp.array([samp[\"progression\"] for samp in runs])\n",
    "quantiles = jnp.array((0.01,0.25,0.5,0.75,0.99))\n",
    "q = jnp.quantile(data, quantiles,axis=0).T"
   ]
  },
  {
   "cell_type": "code",
   "execution_count": null,
   "id": "1646c53c",
   "metadata": {},
   "outputs": [],
   "source": [
    "q_df = pd.DataFrame(np.array(q), columns=quantiles)\n",
    "q_df['target'] = targets[\"progression\"]"
   ]
  },
  {
   "cell_type": "code",
   "execution_count": null,
   "id": "96904d53",
   "metadata": {},
   "outputs": [],
   "source": [
    "q_df.plot()"
   ]
  },
  {
   "cell_type": "code",
   "execution_count": null,
   "id": "ec3b32c7",
   "metadata": {},
   "outputs": [],
   "source": [
    "inspect_df = pd.DataFrame(thinned_samples)"
   ]
  },
  {
   "cell_type": "code",
   "execution_count": null,
   "id": "ac97af7d",
   "metadata": {},
   "outputs": [],
   "source": [
    "ll_tot = ll[\"progression\"]"
   ]
  },
  {
   "cell_type": "code",
   "execution_count": null,
   "id": "6807e0a9",
   "metadata": {},
   "outputs": [],
   "source": [
    "inspect_df['ll'] = ll_tot"
   ]
  },
  {
   "cell_type": "code",
   "execution_count": null,
   "id": "5b9d1e54",
   "metadata": {},
   "outputs": [],
   "source": [
    "from plotly import express as px"
   ]
  },
  {
   "cell_type": "code",
   "execution_count": null,
   "id": "a76fec5f",
   "metadata": {},
   "outputs": [],
   "source": [
    "px.scatter(inspect_df, x=\"base_epi.recovery_rate\", y=\"matrices.ratio\", hover_data=inspect_df.columns, color=\"ll\" )"
   ]
  }
 ],
 "metadata": {
  "kernelspec": {
   "display_name": "Python 3 (ipykernel)",
   "language": "python",
   "name": "python3"
  },
  "language_info": {
   "codemirror_mode": {
    "name": "ipython",
    "version": 3
   },
   "file_extension": ".py",
   "mimetype": "text/x-python",
   "name": "python",
   "nbconvert_exporter": "python",
   "pygments_lexer": "ipython3",
   "version": "3.9.13"
  }
 },
 "nbformat": 4,
 "nbformat_minor": 5
}
