{
 "cells": [
  {
   "cell_type": "markdown",
   "id": "81440d98",
   "metadata": {},
   "source": [
    "# Examine a dynamic mixing matrix over time\n",
    "\n",
    "Here we use model.graph to compute the dynamic mixing matrix values used in our model.  Note that we are not running the full model, merely using the portion of the graph we are interested in; graph.filter will ensure we are using the required parameters"
   ]
  },
  {
   "cell_type": "code",
   "execution_count": null,
   "id": "80f63ec3",
   "metadata": {},
   "outputs": [],
   "source": [
    "from autumn.core.project import get_project"
   ]
  },
  {
   "cell_type": "code",
   "execution_count": null,
   "id": "677e1388",
   "metadata": {},
   "outputs": [],
   "source": [
    "p = get_project(\"sm_covid2\", \"france\")"
   ]
  },
  {
   "cell_type": "code",
   "execution_count": null,
   "id": "4c96cb27",
   "metadata": {},
   "outputs": [],
   "source": [
    "baseparams = p.param_set.baseline.to_dict()"
   ]
  },
  {
   "cell_type": "code",
   "execution_count": null,
   "id": "0b54d374",
   "metadata": {},
   "outputs": [],
   "source": [
    "m = p.build_model(baseparams)"
   ]
  },
  {
   "cell_type": "code",
   "execution_count": null,
   "id": "fa475c9d",
   "metadata": {},
   "outputs": [],
   "source": [
    "defp = m.builder.get_default_parameters()"
   ]
  },
  {
   "cell_type": "code",
   "execution_count": null,
   "id": "8c1ece58",
   "metadata": {},
   "outputs": [],
   "source": [
    "from jax import jit\n",
    "import numpy as np"
   ]
  },
  {
   "cell_type": "code",
   "execution_count": null,
   "id": "a51ad0ea",
   "metadata": {},
   "outputs": [],
   "source": [
    "# Filter the graph so we are just obtaining the mixing matrix, no extraneous computation\n",
    "\n",
    "mmgraph = m.graph.filter(\"mixing_matrix\")\n",
    "mmgraph.draw()"
   ]
  },
  {
   "cell_type": "code",
   "execution_count": null,
   "id": "659a18f7",
   "metadata": {},
   "outputs": [],
   "source": [
    "# Get a callable function from this graph, and jit it for speed\n",
    "mmfunc = jit(mmgraph.get_callable())"
   ]
  },
  {
   "cell_type": "code",
   "execution_count": null,
   "id": "2e1c79c4",
   "metadata": {},
   "outputs": [],
   "source": [
    "# Examine the required inputs to our function\n",
    "# The source names are the kwargs to our callable; these are dictionaries whose own keys are v.key\n",
    "for v in mmgraph.get_input_variables():\n",
    "    print(f\"{v.source}: {v.key}\")"
   ]
  },
  {
   "cell_type": "code",
   "execution_count": null,
   "id": "936d9486",
   "metadata": {},
   "outputs": [],
   "source": [
    "# Obtain stacked [time, agegroup, agegroup] mixing matrix data\n",
    "# Use the source/key pairs as shown above\n",
    "mm = np.stack([mmfunc(model_variables={\"time\": t}, parameters={\"school_multiplier\": 1.0})[\"mixing_matrix\"] for t in m.times])\n",
    "mm.shape"
   ]
  },
  {
   "cell_type": "code",
   "execution_count": null,
   "id": "3de3d159",
   "metadata": {},
   "outputs": [],
   "source": [
    "from plotly import express as px"
   ]
  },
  {
   "cell_type": "code",
   "execution_count": null,
   "id": "f869523e",
   "metadata": {},
   "outputs": [],
   "source": [
    "px.imshow(mm, animation_frame=0, range_color=[0.0, 10.0])"
   ]
  },
  {
   "cell_type": "code",
   "execution_count": null,
   "id": "8e3e2eb9",
   "metadata": {},
   "outputs": [],
   "source": []
  }
 ],
 "metadata": {
  "kernelspec": {
   "display_name": "Python 3 (ipykernel)",
   "language": "python",
   "name": "python3"
  },
  "language_info": {
   "codemirror_mode": {
    "name": "ipython",
    "version": 3
   },
   "file_extension": ".py",
   "mimetype": "text/x-python",
   "name": "python",
   "nbconvert_exporter": "python",
   "pygments_lexer": "ipython3",
   "version": "3.10.10"
  }
 },
 "nbformat": 4,
 "nbformat_minor": 5
}
