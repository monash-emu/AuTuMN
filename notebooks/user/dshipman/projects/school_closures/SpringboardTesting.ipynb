{
 "cells": [
  {
   "cell_type": "code",
   "execution_count": null,
   "id": "625dd9f0",
   "metadata": {},
   "outputs": [],
   "source": [
    "from autumn.core.project import get_project\n",
    "from autumn.infrastructure.remote.aws import springboard\n",
    "from summer2.extras.test_models import sirs_parametric_age"
   ]
  },
  {
   "cell_type": "code",
   "execution_count": null,
   "id": "b7d0cb2f",
   "metadata": {},
   "outputs": [],
   "source": [
    "def get_model():\n",
    "    m = sirs_parametric_age()\n",
    "    return m"
   ]
  },
  {
   "cell_type": "code",
   "execution_count": null,
   "id": "56fbd56f",
   "metadata": {},
   "outputs": [],
   "source": [
    "# Simple example function - first argument must be the TaskBridge\n",
    "# use bridge.out_path as the destination for storing files,\n",
    "# and bridge.logger for any logging you wish to have on S3\n",
    "\n",
    "def full_task(bridge: springboard.TaskBridge):\n",
    "    logger = bridge.logger\n",
    "    out_path = bridge.out_path\n",
    "    m = get_model()\n",
    "    m.run()\n",
    "    df = m.get_derived_outputs_df()\n",
    "    df.to_csv(out_path / \"derived_outputs.csv\")"
   ]
  },
  {
   "cell_type": "code",
   "execution_count": null,
   "id": "904d9aa4",
   "metadata": {},
   "outputs": [],
   "source": [
    "# Request a machine\n",
    "# arguments are min_cores, min_ram (gb), and machine type (one of \"compute\", \"general\" or \"memory\")\n",
    "# for calibration jobs this should always be compute\n",
    "\n",
    "mspec = springboard.EC2MachineSpec(2,1,\"compute\")"
   ]
  },
  {
   "cell_type": "code",
   "execution_count": null,
   "id": "26e9e9e1",
   "metadata": {},
   "outputs": [],
   "source": [
    "# Create a TaskSpec\n",
    "# If your task function takes further arguments, include them as a dictionary here\n",
    "# eg\n",
    "# def mytask(bridge, x, y):\n",
    "# ...\n",
    "# TaskSpec(mytask, {\"x\": x_value, \"y\": y_value})\n",
    "\n",
    "tspec = springboard.TaskSpec(full_task)"
   ]
  },
  {
   "cell_type": "code",
   "execution_count": null,
   "id": "eaa9d5d9",
   "metadata": {},
   "outputs": [],
   "source": [
    "# Generate a run_path (run_id) of the format projects/APPLICATION/REGION/run_description\n",
    "\n",
    "run_path = springboard.get_autumn_project_run_path(\"sirs_parametric_age\", \"global\", \"demo_task\")"
   ]
  },
  {
   "cell_type": "code",
   "execution_count": null,
   "id": "8c3ece0f",
   "metadata": {},
   "outputs": [],
   "source": [
    "run_path"
   ]
  },
  {
   "cell_type": "code",
   "execution_count": null,
   "id": "56681639",
   "metadata": {},
   "outputs": [],
   "source": [
    "s3task, sshrunner, ios = springboard.launch_synced_autumn_task(tspec, mspec, run_path, \"springboard\")"
   ]
  },
  {
   "cell_type": "code",
   "execution_count": null,
   "id": "a98b2416",
   "metadata": {},
   "outputs": [],
   "source": [
    "s3task.get_status()"
   ]
  },
  {
   "cell_type": "code",
   "execution_count": null,
   "id": "005cd714",
   "metadata": {},
   "outputs": [],
   "source": [
    "from time import sleep"
   ]
  },
  {
   "cell_type": "code",
   "execution_count": null,
   "id": "72bd952b",
   "metadata": {},
   "outputs": [],
   "source": [
    "def wait_task(s3task):\n",
    "    status = \"\"\n",
    "    while status not in [\"SUCCESS\", \"FAILED\"]:\n",
    "        status = s3task.get_status()\n",
    "        print(status)\n",
    "        sleep(10)\n",
    "    return status"
   ]
  },
  {
   "cell_type": "code",
   "execution_count": null,
   "id": "eaa9b4f1",
   "metadata": {},
   "outputs": [],
   "source": [
    "status = wait_task(s3task)"
   ]
  },
  {
   "cell_type": "code",
   "execution_count": null,
   "id": "778448fa",
   "metadata": {},
   "outputs": [],
   "source": [
    "from autumn.core.runs import ManagedRun"
   ]
  },
  {
   "cell_type": "code",
   "execution_count": null,
   "id": "f008536c",
   "metadata": {},
   "outputs": [],
   "source": [
    "mr = ManagedRun(run_path)"
   ]
  },
  {
   "cell_type": "code",
   "execution_count": null,
   "id": "b7194874",
   "metadata": {},
   "outputs": [],
   "source": [
    "mr.remote.list_contents()"
   ]
  },
  {
   "cell_type": "code",
   "execution_count": null,
   "id": "45f2cea6",
   "metadata": {},
   "outputs": [],
   "source": [
    "for f in mr.remote.list_contents():\n",
    "    mr.remote.download(f)"
   ]
  },
  {
   "cell_type": "code",
   "execution_count": null,
   "id": "709f42d4",
   "metadata": {},
   "outputs": [],
   "source": [
    "with open(mr.local_path / \"log/task.log\") as f:\n",
    "    print(f.read())"
   ]
  },
  {
   "cell_type": "code",
   "execution_count": null,
   "id": "e2a89276",
   "metadata": {},
   "outputs": [],
   "source": [
    "# If the task has failed, then read the crash log\n",
    "if status == \"FAILED\":\n",
    "    with open(mr.local_path / \"log/crash.log\") as f:\n",
    "        print(f.read())"
   ]
  },
  {
   "cell_type": "code",
   "execution_count": null,
   "id": "3bd141fb",
   "metadata": {},
   "outputs": [],
   "source": [
    "mr.local_path"
   ]
  },
  {
   "cell_type": "code",
   "execution_count": null,
   "id": "96b40bb3",
   "metadata": {},
   "outputs": [],
   "source": [
    "import pandas as pd"
   ]
  },
  {
   "cell_type": "code",
   "execution_count": null,
   "id": "17424803",
   "metadata": {},
   "outputs": [],
   "source": [
    "df = pd.read_csv(mr.local_path / \"output/derived_outputs.csv\")\n",
    "\n",
    "df"
   ]
  },
  {
   "cell_type": "code",
   "execution_count": null,
   "id": "2da517c9",
   "metadata": {},
   "outputs": [],
   "source": []
  }
 ],
 "metadata": {
  "kernelspec": {
   "display_name": "Python 3 (ipykernel)",
   "language": "python",
   "name": "python3"
  },
  "language_info": {
   "codemirror_mode": {
    "name": "ipython",
    "version": 3
   },
   "file_extension": ".py",
   "mimetype": "text/x-python",
   "name": "python",
   "nbconvert_exporter": "python",
   "pygments_lexer": "ipython3",
   "version": "3.10.10"
  }
 },
 "nbformat": 4,
 "nbformat_minor": 5
}
