{
 "cells": [
  {
   "cell_type": "code",
   "execution_count": null,
   "id": "caaa718d",
   "metadata": {},
   "outputs": [],
   "source": [
    "from matplotlib import pyplot\n",
    "import pandas as pd\n",
    "\n",
    "from autumn.core.project import get_project\n",
    "from autumn.settings.region import Region"
   ]
  },
  {
   "cell_type": "code",
   "execution_count": null,
   "id": "2bef4130",
   "metadata": {},
   "outputs": [],
   "source": [
    "project = get_project(\"summer2_template\", Region.PAKISTAN)"
   ]
  },
  {
   "cell_type": "markdown",
   "id": "3d916a35",
   "metadata": {},
   "source": [
    "### Run baseline model\n"
   ]
  },
  {
   "cell_type": "code",
   "execution_count": null,
   "id": "2f290f38",
   "metadata": {},
   "outputs": [],
   "source": [
    "model_0 = project.run_baseline_model(project.param_set.baseline)\n",
    "derived_df = model_0.get_derived_outputs_df()"
   ]
  },
  {
   "cell_type": "markdown",
   "id": "65308d90",
   "metadata": {},
   "source": [
    "### Run scenarios"
   ]
  },
  {
   "cell_type": "code",
   "execution_count": null,
   "id": "ea4d7aaf",
   "metadata": {},
   "outputs": [],
   "source": [
    "sc_models = project.run_scenario_models(model_0, project.param_set.scenarios)\n",
    "derived_dfs = [m.get_derived_outputs_df() for m in sc_models]"
   ]
  },
  {
   "cell_type": "markdown",
   "id": "115b77b0",
   "metadata": {},
   "source": [
    "### Plot outputs"
   ]
  },
  {
   "cell_type": "code",
   "execution_count": null,
   "id": "22efab62",
   "metadata": {},
   "outputs": [],
   "source": [
    "outputs = [\"incidence\"]\n",
    "scenarios_to_plots = [0, 1]\n",
    "\n",
    "sc_colors = [\"blue\", \"green\", \"red\", \"orange\", \"turquoise\"] * 3\n",
    "\n",
    "for output in outputs:\n",
    "    fig = pyplot.figure(figsize=(12, 8))\n",
    "    pyplot.style.use(\"ggplot\")\n",
    "    axis = fig.add_subplot()\n",
    "    \n",
    "    # plot baseline\n",
    "    derived_df[output].plot(color=\"black\", label=\"Baseline\")\n",
    "    \n",
    "    # plot other scenarios\n",
    "    for i, d in enumerate(derived_dfs):    \n",
    "        if i + 1 in scenarios_to_plots:\n",
    "            d[output].plot(color=sc_colors[i], label=f\"Scenario {i + 1}\")\n",
    "    axis.set_ylabel(output.replace(\"_\", \" \"), fontsize=15)\n",
    "    axis.legend()"
   ]
  }
 ],
 "metadata": {
  "kernelspec": {
   "display_name": "autumn310",
   "language": "python",
   "name": "python3"
  },
  "language_info": {
   "codemirror_mode": {
    "name": "ipython",
    "version": 3
   },
   "file_extension": ".py",
   "mimetype": "text/x-python",
   "name": "python",
   "nbconvert_exporter": "python",
   "pygments_lexer": "ipython3",
   "version": "3.10.3"
  },
  "orig_nbformat": 4,
  "vscode": {
   "interpreter": {
    "hash": "7afc08b952f75bca94590012dd49682c815a0fa68720c270ce23d7ae27bf110a"
   }
  }
 },
 "nbformat": 4,
 "nbformat_minor": 2
}
