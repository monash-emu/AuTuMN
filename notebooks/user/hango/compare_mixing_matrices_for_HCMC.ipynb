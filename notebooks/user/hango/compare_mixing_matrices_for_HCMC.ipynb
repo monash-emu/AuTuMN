{
 "cells": [
  {
   "cell_type": "markdown",
   "metadata": {},
   "source": [
    "## Comparing the use of \"HKG\" or \"CHN\" source for mixing matrices for HCMC's model"
   ]
  },
  {
   "cell_type": "code",
   "execution_count": null,
   "metadata": {},
   "outputs": [],
   "source": [
    "import numpy as np\n",
    "\n",
    "from autumn.tools.inputs.social_mixing.queries import get_prem_mixing_matrices\n",
    "from autumn.tools.inputs.social_mixing.build_synthetic_matrices import build_synthetic_matrices\n",
    "from autumn.tools.inputs.social_mixing.constants import LOCATIONS\n",
    "\n",
    "import matplotlib.pyplot as plt\n",
    "import matplotlib.cm as cm"
   ]
  },
  {
   "cell_type": "code",
   "execution_count": null,
   "metadata": {},
   "outputs": [],
   "source": [
    "model_iso3 = \"VNM\" # model for Vietnam\n",
    "source_iso3_curr = \"HKG\" # current source of mixing matrices (Hong Kong)\n",
    "source_iso3_prev = \"CHN\" # previous source of mixing matrices (China)\n",
    "age_adjust = True\n",
    "\n",
    "AGEGROUP_STRATA = [str(5 * i) for i in range(16)]\n",
    "\n",
    "\n",
    "prem_matrices_curr = prem_matrices_prev = get_prem_mixing_matrices(model_iso3)\n",
    "new_matrices_curr = build_synthetic_matrices(model_iso3, source_iso3_curr, \n",
    "                                             AGEGROUP_STRATA, age_adjust)\n",
    "new_matrices_prev = build_synthetic_matrices(model_iso3, source_iso3_prev,\n",
    "                                             AGEGROUP_STRATA, age_adjust)\n",
    "\n",
    "\n",
    "# normalise new_matrices\n",
    "lambdas_prem_curr, _ = np.linalg.eig(prem_matrices_curr[\"all_locations\"])\n",
    "sp_radius_prem_curr = max([abs(l) for l in lambdas_prem_curr])\n",
    "\n",
    "lambdas_prem_prev, _ = np.linalg.eig(prem_matrices_prev[\"all_locations\"])\n",
    "sp_radius_prem_prev = max([abs(l) for l in lambdas_prem_prev])\n",
    "\n",
    "lambdas_new_curr, _ = np.linalg.eig(new_matrices_curr[\"all_locations\"])\n",
    "sp_radius_new_curr = max([abs(l) for l in lambdas_new_curr])\n",
    "\n",
    "lambdas_new_prev, _ = np.linalg.eig(new_matrices_prev[\"all_locations\"])\n",
    "sp_radius_new_prev = max([abs(l) for l in lambdas_new_prev])\n",
    "\n",
    "for location in LOCATIONS:\n",
    "    prem_matrices_curr[location] = prem_matrices_curr[location] * sp_radius_new_curr / sp_radius_prem_curr\n",
    "    prem_matrices_prev[location] = prem_matrices_prev[location] * sp_radius_new_prev / sp_radius_prem_prev\n",
    "    \n",
    "matrices = {\n",
    "    \"prem_curr\": prem_matrices_curr,\n",
    "    \"prem_prev\": prem_matrices_prev,\n",
    "    \"new_curr\": new_matrices_curr,\n",
    "    \"new_prev\": new_matrices_prev\n",
    "}\n"
   ]
  },
  {
   "cell_type": "code",
   "execution_count": null,
   "metadata": {},
   "outputs": [],
   "source": [
    "def compare_by_location(location, add_values=False):\n",
    "    fig = plt.figure()\n",
    "    fig.set_size_inches(24, 16)\n",
    "    \n",
    "    ticks = [2*i - .5 for i in range(8)]\n",
    "    labels = [str(int(2*i*5)) for i in range(8)] \n",
    "    max_value = max(matrices[\"prem_curr\"][location].max(), matrices[\"prem_prev\"][location].max(),\n",
    "                    matrices[\"new_curr\"][location].max(), matrices[\"new_prev\"][location].max())\n",
    "    \n",
    "    i = 0\n",
    "    for key, mats in matrices.items():\n",
    "        i += 1\n",
    "        ax = fig.add_subplot(1, 4, i)\n",
    "        \n",
    "        #ax1 = fig.add_subplot(121)\n",
    "        ax.imshow(np.transpose(mats[location]), cmap=cm.hot, vmin = 0, vmax=max_value, origin='lower')\n",
    "        \n",
    "        if add_values:\n",
    "            n = mats[location].shape[0]\n",
    "            for _i in range(n):\n",
    "                for _j in range(n):\n",
    "                    plt.text(_i - .5, _j, round(mats[location][_i, _j],1), color=\"green\", fontsize=7)\n",
    "\n",
    "        ax.set_title(key)\n",
    "        plt.xlabel(\"index\")\n",
    "        plt.ylabel(\"n_contacts\")\n",
    "        plt.xticks(ticks, labels)\n",
    "        plt.yticks(ticks, labels)\n",
    "\n",
    "\n",
    "    plt.show()\n",
    "\n",
    "    \n",
    "    \n",
    "def compare_location_contributions():\n",
    "    i_ages_illustrate = [2, 6, 10, 14]\n",
    "    \n",
    "    colors=[\"coral\",\"cornflowerblue\",\"palegreen\",\"bisque\"]\n",
    "    \n",
    "    locations_notall = [l for l in LOCATIONS if l != \"all_locations\"]\n",
    "    \n",
    "    for i_age in i_ages_illustrate:\n",
    "        print(f\"Age group starting {i_age * 5} years old\")\n",
    "        fig = plt.figure()\n",
    "        fig.set_size_inches(24, 16)\n",
    "        i = 0\n",
    "        for key, mat in matrices.items():\n",
    "            i += 1\n",
    "            ax = fig.add_subplot(1, 4, i) \n",
    "            n_contacts = []\n",
    "            for loc in locations_notall:\n",
    "                n_contacts.append(sum(mat[loc][i_age,]))            \n",
    "                \n",
    "            ax.pie(n_contacts, labels=locations_notall, autopct='%1.1f%%', shadow=True, startangle=90, colors=colors)\n",
    "            ax.axis('equal')  # Equal aspect ratio ensures that pie is drawn as a circle.\n",
    "\n",
    "        plt.show()\n",
    "    "
   ]
  },
  {
   "cell_type": "code",
   "execution_count": null,
   "metadata": {},
   "outputs": [],
   "source": [
    "# Create matrix outputs to look as similar as possible to previous Vic figure\n",
    "def mixing_matrix_by_location(matrix, fig_title: str): \n",
    "    fig = plt.figure(dpi=200)\n",
    "    fig.suptitle(fig_title, fontsize=13)\n",
    "    reordered_locations = (\"all_locations\", \"home\", \"work\", \"other_locations\", \"school\")\n",
    "    positions = [1, 2, 3, 5, 6]\n",
    "    for i_loc, location in zip(positions, reordered_locations):\n",
    "        ax = fig.add_subplot(2, 3, i_loc)\n",
    "        ax.imshow(\n",
    "            np.flipud(np.transpose(matrix[location])), \n",
    "            cmap=cm.hot, \n",
    "            vmin=0,\n",
    "            vmax=matrix[location].max(), \n",
    "            origin='lower'\n",
    "        )\n",
    "        ax.set_title(location.replace(\"_\", \" \"), fontsize=11)\n",
    "        ax.set_xticks([])\n",
    "        ax.set_yticks([])"
   ]
  },
  {
   "cell_type": "code",
   "execution_count": null,
   "metadata": {},
   "outputs": [],
   "source": [
    "mixing_matrix_by_location(new_matrices_curr, \"Synthetic mixing matrix for HCMC from using HKG source\")"
   ]
  },
  {
   "cell_type": "code",
   "execution_count": null,
   "metadata": {},
   "outputs": [],
   "source": [
    "mixing_matrix_by_location(new_matrices_prev, \"Synthetic mixing matrix for HCMC from using CHN source\")"
   ]
  },
  {
   "cell_type": "code",
   "execution_count": null,
   "metadata": {},
   "outputs": [],
   "source": [
    "for location in LOCATIONS:\n",
    "    print(location)\n",
    "    compare_by_location(location, False)"
   ]
  },
  {
   "cell_type": "code",
   "execution_count": null,
   "metadata": {},
   "outputs": [],
   "source": [
    "for location in LOCATIONS:\n",
    "    print(location)\n",
    "    compare_by_location(location, True)"
   ]
  },
  {
   "cell_type": "code",
   "execution_count": null,
   "metadata": {},
   "outputs": [],
   "source": [
    "compare_location_contributions()"
   ]
  },
  {
   "cell_type": "code",
   "execution_count": null,
   "metadata": {},
   "outputs": [],
   "source": [
    "def plot_total_contacts():\n",
    "    fig = plt.figure(figsize=(12, 5))\n",
    "    ax = fig.add_axes([0,0,1,1])\n",
    "    barWidth = .15\n",
    "    \n",
    "    prem_curr_s, prem_prev_s, new_curr_s, new_prev_s = [], [], [], []\n",
    "    for i_age_group in range(16):\n",
    "        prem_curr_s.append(sum(prem_matrices_curr[\"all_locations\"][i_age_group,]))\n",
    "        prem_prev_s.append(sum(prem_matrices_prev[\"all_locations\"][i_age_group,]))\n",
    "        new_curr_s.append(sum(new_matrices_curr[\"all_locations\"][i_age_group,]))\n",
    "        new_prev_s.append(sum(new_matrices_prev[\"all_locations\"][i_age_group,]))\n",
    "        \n",
    "    # Set position of bar on X axis\n",
    "    br1 = np.arange(len(prem_curr_s))\n",
    "    br2 = [x + barWidth for x in br1]\n",
    "    br3 = [x + barWidth for x in br2]\n",
    "    br4 = [x + barWidth for x in br3]\n",
    "\n",
    "    plt.bar(br1, prem_curr_s, color ='coral', width = barWidth,\n",
    "        edgecolor ='grey', label ='prem_curr')\n",
    "    plt.bar(br2, new_curr_s, color ='cornflowerblue', width = barWidth,\n",
    "        edgecolor ='grey', label ='new_curr')\n",
    "    plt.bar(br3, prem_prev_s, color ='palegreen', width = barWidth,\n",
    "        edgecolor ='grey', label ='prem_prev')\n",
    "    plt.bar(br4, new_prev_s, color ='bisque', width = barWidth,\n",
    "            edgecolor ='grey', label ='new_prev')\n",
    "    \n",
    "    # Adding Xticks\n",
    "    plt.xlabel('Index age', fontsize = 12)\n",
    "    plt.ylabel('Total contacts', fontsize = 12)\n",
    "    plt.xticks([r + barWidth for r in range(len(prem_curr_s))],\n",
    "            [str(int(5*i)) for i in range(16)])\n",
    "    \n",
    "    plt.legend()\n",
    "    plt.show()\n",
    "\n",
    "plot_total_contacts()\n",
    "\n"
   ]
  },
  {
   "cell_type": "code",
   "execution_count": null,
   "metadata": {},
   "outputs": [],
   "source": [
    "def print_brief_mixing_matrices(matrices, matrices_title: str):\n",
    "    print(matrices_title)\n",
    "    matrices_im_young = matrices[\"other_locations\"][2,15]\n",
    "    matrices_im_old = matrices[\"other_locations\"][15, 2]\n",
    "    print(f\"I am young, N contacts with old people: {matrices_im_young}\")\n",
    "    print(f\"I am old, N contacts with young people: {matrices_im_old}\")"
   ]
  },
  {
   "cell_type": "code",
   "execution_count": null,
   "metadata": {},
   "outputs": [],
   "source": [
    "print_brief_mixing_matrices(prem_matrices_curr, \"Current Prem (HKG)\")\n",
    "print_brief_mixing_matrices(prem_matrices_prev, \"Previous Prem (CHN)\")"
   ]
  },
  {
   "cell_type": "code",
   "execution_count": null,
   "metadata": {},
   "outputs": [],
   "source": [
    "print_brief_mixing_matrices(new_matrices_curr, \"Current New (HKG)\")\n",
    "print_brief_mixing_matrices(new_matrices_prev, \"Previous New (CHN)\")"
   ]
  },
  {
   "cell_type": "code",
   "execution_count": null,
   "metadata": {},
   "outputs": [],
   "source": [
    "# Save as csv\n",
    "for loc in LOCATIONS:\n",
    "    m = new_matrices_curr[loc]\n",
    "    np.savetxt(f\"{loc}.csv\", m, delimiter=\",\")"
   ]
  }
 ],
 "metadata": {
  "kernelspec": {
   "display_name": "Python 3",
   "language": "python",
   "name": "python3"
  },
  "language_info": {
   "codemirror_mode": {
    "name": "ipython",
    "version": 3
   },
   "file_extension": ".py",
   "mimetype": "text/x-python",
   "name": "python",
   "nbconvert_exporter": "python",
   "pygments_lexer": "ipython3",
   "version": "3.6.13"
  }
 },
 "nbformat": 4,
 "nbformat_minor": 4
}
