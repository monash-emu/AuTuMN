{
 "cells": [
  {
   "cell_type": "code",
   "execution_count": null,
   "id": "549853ca",
   "metadata": {},
   "outputs": [],
   "source": [
    "from autumn.core.project import get_project\n",
    "from autumn.models.sm_sir.constants import IMMUNITY_STRATA"
   ]
  },
  {
   "cell_type": "code",
   "execution_count": null,
   "id": "d59c1d56",
   "metadata": {},
   "outputs": [],
   "source": [
    "project = get_project(\"sm_sir\", \"ho_chi_minh_city\", reload=True)\n",
    "\n",
    "# run baseline model\n",
    "model_0 = project.run_baseline_model(project.param_set.baseline)\n",
    "derived_df = model_0.get_derived_outputs_df()\n",
    "\n",
    "# run scenarios\n",
    "start_times = [\n",
    "    sc_params.to_dict()[\"time\"][\"start\"] for sc_params in project.param_set.scenarios\n",
    "]\n",
    "sc_models = project.run_scenario_models(model_0, project.param_set.scenarios, start_times=start_times)\n",
    "derived_dfs = [m.get_derived_outputs_df() for m in sc_models]\n",
    "\n",
    "for i in [4, 5, 6]:\n",
    "    derived_dfs[i][[f\"prop_immune_{stratum}Xagegroup_0\" for stratum in IMMUNITY_STRATA[::-1]]].plot.area(figsize=(10, 7))\n",
    "\n",
    "# for i in [5, 6]:\n",
    "#     derived_dfs[i][[f\"prop_immune_{stratum}\" for stratum in IMMUNITY_STRATA[::-1]]].plot.area(figsize=(10, 7))"
   ]
  }
 ],
 "metadata": {
  "kernelspec": {
   "display_name": "autumn310",
   "language": "python",
   "name": "autumn310"
  },
  "language_info": {
   "codemirror_mode": {
    "name": "ipython",
    "version": 3
   },
   "file_extension": ".py",
   "mimetype": "text/x-python",
   "name": "python",
   "nbconvert_exporter": "python",
   "pygments_lexer": "ipython3",
   "version": "3.10.4"
  }
 },
 "nbformat": 4,
 "nbformat_minor": 5
}
