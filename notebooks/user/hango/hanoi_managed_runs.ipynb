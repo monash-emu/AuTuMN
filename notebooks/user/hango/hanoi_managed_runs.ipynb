{
 "cells": [
  {
   "cell_type": "code",
   "execution_count": null,
   "id": "fff616bd",
   "metadata": {},
   "outputs": [],
   "source": [
    "import pandas as pd\n",
    "from matplotlib import pyplot as plt\n",
    "import datetime\n",
    "\n",
    "from summer.utils import ref_times_to_dti\n",
    "\n",
    "from autumn.tools.plots.utils import REF_DATE\n",
    "from autumn.tools.runs import ManagedRun\n",
    "from autumn.tools.runs.calibration.utils import get_posteriors\n",
    "from autumn.tools.utils.pandas import pdfilt\n",
    "from autumn.settings.region import Region"
   ]
  },
  {
   "cell_type": "markdown",
   "id": "a4d862ab",
   "metadata": {},
   "source": [
    "## Specify the runs of interest"
   ]
  },
  {
   "cell_type": "code",
   "execution_count": null,
   "id": "bfef298e",
   "metadata": {},
   "outputs": [],
   "source": [
    "run_id = \"covid_19/hanoi/1643175496/206449f\""
   ]
  },
  {
   "cell_type": "code",
   "execution_count": null,
   "id": "a7681382",
   "metadata": {},
   "outputs": [],
   "source": [
    "mr = ManagedRun(run_id)"
   ]
  },
  {
   "cell_type": "code",
   "execution_count": null,
   "id": "3f54ec57",
   "metadata": {},
   "outputs": [],
   "source": [
    "pbi = mr.powerbi.get_db()\n",
    "targets = pbi.get_targets()\n",
    "results = pbi.get_uncertainty()\n",
    "mcmc_params = mr.calibration.get_mcmc_params()"
   ]
  },
  {
   "cell_type": "code",
   "execution_count": null,
   "id": "65d4fadd",
   "metadata": {},
   "outputs": [],
   "source": [
    "results.columns"
   ]
  },
  {
   "cell_type": "code",
   "execution_count": null,
   "id": "3ca73f04",
   "metadata": {},
   "outputs": [],
   "source": [
    "mcmc_params.columns"
   ]
  },
  {
   "cell_type": "markdown",
   "id": "b8149908",
   "metadata": {},
   "source": [
    "## Dictionaries for lookup and scenario definition"
   ]
  },
  {
   "cell_type": "code",
   "execution_count": null,
   "id": "414e4ed3",
   "metadata": {},
   "outputs": [],
   "source": [
    "# calibrated parameters name lookup\n",
    "param_lookup = {\n",
    "    \"contact_rate\": \"infection risk per contact\",\n",
    "    \"infectious_seed\": \"starting infectious population\",\n",
    "    \"sojourn.compartment_periods_calculated.active.total_period\": \"active disease duration\",\n",
    "    \"sojourn.compartment_periods_calculated.exposed.total_period\": \"incubation period\",\n",
    "    \"testing_to_detection.assumed_cdr_parameter\": \"CDR at 1/10,000 daily testing rate\",\n",
    "    \"mobility.microdistancing.behaviour.parameters.max_effect\": \"max effect of microdistancing behaviors\",\n",
    "    \"clinical_stratification.props.hospital.multiplier\": \"relative multiplier of rate of admission to hospitals\",\n",
    "    \"infection_fatality.multiplier\": \"relative multiplier to fatality rate\",\n",
    "    \"clinical_stratification.icu_prop\": \"proportion of ICU admission from hospitalised patients\"\n",
    "}\n",
    "\n",
    "# calibrated parameters unit lookup\n",
    "unit_lookup = {\n",
    "    \"contact_rate\": \"probability\",\n",
    "    \"infectious_seed\": \"persons\",\n",
    "    \"sojourn.compartment_periods_calculated.active.total_period\": \"days\",\n",
    "    \"sojourn.compartment_periods_calculated.exposed.total_period\": \"days\",\n",
    "    \"testing_to_detection.assumed_cdr_parameter\": \"proportion\",\n",
    "    \"mobility.microdistancing.behaviour.parameters.max_effect\": \"proportion\",\n",
    "    \"clinical_stratification.props.hospital.multiplier\": \"ratio\",\n",
    "    \"infection_fatality.multiplier\": \"ratio\",\n",
    "    \"clinical_stratification.icu_prop\": \"proportion\"\n",
    "}\n",
    "\n",
    "# derived output figure title lookup\n",
    "title_lookup = {\n",
    "    \"accum_deaths\": \"Cumulative number of COVID-19-specific fatalities\",\n",
    "    \"cdr\": \"Case Detection Rate (in ratio)\",\n",
    "    \"hospital_occupancy\": \"Total actually occupied hospital beds\",\n",
    "    \"icu_occupancy\": \"Total actuall occupied ICU beds\",\n",
    "    \"incidence\": \"Daily actual number of COVID-19 cases\",\n",
    "    \"infection_deaths\": \"Daily number of COVID-19-specific fatalities\",\n",
    "    \"notifications\": \"Daily number of registered cases\"\n",
    "}"
   ]
  },
  {
   "cell_type": "code",
   "execution_count": null,
   "id": "f31d321d",
   "metadata": {},
   "outputs": [],
   "source": [
    "# number of scenarios and their names(including baseline)\n",
    "#scenario_names = (\"Baseline\", \"Scenario 1\", \"Scenario 2\", \"Scenario 3\", \"Scenario 4\", \"Scenario 5\", \"Scenario 6\", \"Scenario 7\", \"Scenario 8\")\n",
    "scenario_names = {0: \"Baseline scenario\",\n",
    "                  1: \"Scenario 1\", \n",
    "                  2: \"Scenario 2\",\n",
    "                  3: \"Scenario 3\",\n",
    "                  4: \"Scenario 4\"}\n",
    "n_scenarios = len(scenario_names)"
   ]
  },
  {
   "cell_type": "markdown",
   "id": "80e24a45",
   "metadata": {},
   "source": [
    "## Display parameter posterior histograms"
   ]
  },
  {
   "cell_type": "code",
   "execution_count": null,
   "id": "9d994adf",
   "metadata": {},
   "outputs": [],
   "source": [
    "plt.style.use(\"ggplot\")\n",
    "\n",
    "fig, axes = plt.subplots(3, 3, figsize=(18, 18), sharey=\"all\")\n",
    "for i_ax, axis in enumerate(axes.reshape(-1)):\n",
    "    param = mcmc_params.columns[i_ax]\n",
    "    axis.hist(mcmc_params[param])\n",
    "    axis.set_title(param_lookup[param])\n",
    "    axis.set_xlabel(unit_lookup[param])\n",
    "    if i_ax % 3 == 0:\n",
    "        axis.set_ylabel(\"runs\")   \n",
    "fig.suptitle(\"parameter posterior histograms\", fontsize=15, y=1)\n",
    "fig.tight_layout()"
   ]
  },
  {
   "cell_type": "code",
   "execution_count": null,
   "id": "95214dbf",
   "metadata": {},
   "outputs": [],
   "source": [
    "# display all derived outputs\n",
    "results.columns.levels[0]"
   ]
  },
  {
   "cell_type": "code",
   "execution_count": null,
   "id": "9cc5572e",
   "metadata": {},
   "outputs": [],
   "source": [
    "# calibration fits for notifications, ICU and deaths\n",
    "# dark shading - 50% confidence interval, light shading - 95% confidence interval\n",
    "fig, axes = plt.subplots(2, 2, figsize = (15, 10), sharex=\"all\")\n",
    "plot_left_date = datetime.date(2021, 5, 25)\n",
    "plot_right_date = datetime.date(2022 , 1, 25)\n",
    "colour = (0.2, 0.2, 0.8)\n",
    "outputs = (\"notifications\", \"icu_occupancy\", \"infection_deaths\")\n",
    "fig_names = (\"Number of daily confirmed cases\", \"ICU occupancy\", \"Number of daily confirmed fatalities\")\n",
    "for i_ax, axis in enumerate(axes.reshape(-1)):\n",
    "    if i_ax < len(outputs):\n",
    "        results_df = results[(outputs[i_ax], 0)][plot_left_date:plot_right_date]\n",
    "        indices = results_df.index\n",
    "        axis.scatter(targets.index, targets[outputs[i_ax]], color=\"k\", alpha=1., s=10)\n",
    "        axis.fill_between(indices, results_df[0.025], results_df[0.975], color=colour, alpha=0.5)\n",
    "        axis.fill_between(indices, results_df[0.25], results_df[0.75], color=colour, alpha=0.7)\n",
    "        axis.set_title(fig_names[i_ax], fontsize=20)\n",
    "    axis.tick_params(axis=\"x\", labelrotation=45)\n",
    "    axis.set_xlim(left=plot_left_date)\n",
    "fig.delaxes(axes[1][1])\n",
    "        \n",
    "fig.suptitle(\"Hanoi model calibration for notifications, ICU occupancy and deaths until 25th Jan 2022\", fontsize=23)\n",
    "# fig.savefig(\"./outputs/Hanoi_calibration_012022.png\")"
   ]
  },
  {
   "cell_type": "code",
   "execution_count": null,
   "id": "e1aa7c1c",
   "metadata": {},
   "outputs": [],
   "source": [
    "def plot_all_scenarios_single_output(output):\n",
    "    plot_left_date = datetime.date(2021, 5, 5)\n",
    "    plot_right_date = datetime.date(2022, 6, 30)\n",
    "    start_date_scenarios = datetime.date(2022, 2, 1)\n",
    "    fig, axis = plt.subplots(1, 1, figsize=(15, 10))\n",
    "    plt.axvline(x=start_date_scenarios, linestyle=\"--\", color=\"k\")\n",
    "    plt.text(start_date_scenarios, 0.95, '2022-02-01 ', transform=axis.get_xaxis_transform(), ha=\"right\", va=\"top\", fontsize=12)\n",
    "    for scenario in scenario_names.keys():\n",
    "        if scenario == 0:\n",
    "            results_df = results[(output, scenario)][plot_left_date:start_date_scenarios]\n",
    "            indices = results_df.index\n",
    "            axis.plot(indices, results_df[0.5], linewidth=2)\n",
    "        else:\n",
    "            results_df = results[(output, scenario)][plot_left_date:plot_right_date]\n",
    "            indices = results_df.index\n",
    "            axis.plot(indices, results_df[0.5], label = scenario_names[scenario], linewidth=2)\n",
    "    \n",
    "    axis.tick_params(axis=\"x\", labelrotation=45)\n",
    "    axis.set_xlim(left=plot_left_date)\n",
    "    axis.set_title(f\"{title_lookup[output]} for all scenarios\", fontsize=16)\n",
    "    plt.legend(fontsize=10)\n",
    "    fig.savefig(f\"./Hanoi_{output}_all_scenarios.png\")"
   ]
  },
  {
   "cell_type": "code",
   "execution_count": null,
   "id": "7e9a1064",
   "metadata": {},
   "outputs": [],
   "source": [
    "for output in (\"notifications\", \"icu_occupancy\", \"infection_deaths\"):\n",
    "    plot_all_scenarios_single_output(output)"
   ]
  },
  {
   "cell_type": "code",
   "execution_count": null,
   "id": "02702d06",
   "metadata": {},
   "outputs": [],
   "source": [
    "def plot_all_outputs_all_scenarios():\n",
    "    plot_left_date = datetime.date(2021, 5, 5)\n",
    "    plot_right_date = datetime.date(2022, 6, 30)\n",
    "    start_date_scenarios = datetime.date(2022, 2, 1)\n",
    "    \n",
    "    outputs_to_plot = (\"notifications\", \"hospital_occupancy\", \"icu_occupancy\", \"infection_deaths\")\n",
    "    \n",
    "    fig, axes = plt.subplots(2, 2, figsize = (21, 14), sharex=\"all\")\n",
    "\n",
    "    for i_ax, axis in enumerate(axes.reshape(-1)):\n",
    "        axis.axvline(x=start_date_scenarios, linestyle=\"--\", color=\"k\")\n",
    "        plt.text(start_date_scenarios, 0.95, '2022-02-01 ', transform=axis.get_xaxis_transform(), ha=\"right\", va=\"top\", fontsize=12)\n",
    "        for scenario in scenario_names.keys():\n",
    "            if scenario == 0:\n",
    "                # plot baseline before the first date of scenarios\n",
    "                results_df = results[(outputs_to_plot[i_ax], scenario)][plot_left_date:start_date_scenarios]\n",
    "                indices = results_df.index\n",
    "                axis.plot(indices, results_df[0.5], linewidth=2)\n",
    "            else:\n",
    "                results_df = results[(outputs_to_plot[i_ax], scenario)][plot_left_date:plot_right_date]\n",
    "                indices = results_df.index\n",
    "                axis.plot(indices, results_df[0.5], label = scenario_names[scenario], linewidth=2)\n",
    "        \n",
    "        axis.tick_params(axis=\"x\", labelrotation=45)\n",
    "        axis.set_xlim(left=plot_left_date)\n",
    "        axis.set_title(title_lookup[outputs_to_plot[i_ax]], fontsize=20)\n",
    "        axis.legend()\n",
    "    fig.suptitle(\"Hanoi modelling results of all scenarios, for all outputs\", fontsize=25)\n",
    "    fig.savefig(\"./Hanoi_all_scens_all_outputs.png\")\n",
    "        \n",
    "plot_all_outputs_all_scenarios()"
   ]
  },
  {
   "cell_type": "code",
   "execution_count": null,
   "id": "435c4ec5",
   "metadata": {},
   "outputs": [],
   "source": [
    "def plot_all_outputs_chosen_scenarios(scenarios_to_plot, name_to_save):\n",
    "    plot_left_date = datetime.date(2021, 5, 5)\n",
    "    plot_right_date = datetime.date(2022, 6, 30)\n",
    "    start_date_scenarios = datetime.date(2022, 2, 1)\n",
    "    \n",
    "    outputs_to_plot = (\"notifications\", \"hospital_occupancy\", \"icu_occupancy\",\n",
    "                       \"infection_deaths\")\n",
    "    \n",
    "    fig, axes = plt.subplots(2, 2, figsize = (21, 14), sharex=\"all\")\n",
    "\n",
    "    for i_ax, axis in enumerate(axes.reshape(-1)):\n",
    "        axis.axvline(x=start_date_scenarios, linestyle=\"--\", color=\"k\")\n",
    "        plt.text(start_date_scenarios, 0.95, '2022-02-01 ', transform=axis.get_xaxis_transform(), ha=\"right\", va=\"top\", fontsize=12)\n",
    "        # plot baseline before the first date of scenarios\n",
    "        results_df = results[(output, 0)][plot_left_date:start_date_scenarios]\n",
    "        indices = results_df.index\n",
    "        axis.plot(indices, results_df[0.5], linewidth=2)\n",
    "        for scenario in scenarios_to_plot:\n",
    "            results_df = results[(output, scenario)][plot_left_date:plot_right_date]\n",
    "            indices = results_df.index\n",
    "            axis.plot(indices, results_df[0.5], label = scenario_names[scenario], linewidth=2)\n",
    "        \n",
    "        axis.tick_params(axis=\"x\", labelrotation=45)\n",
    "        axis.set_xlim(left=plot_left_date)\n",
    "        axis.set_title(title_lookup[outputs_to_plot[i_ax]], fontsize=20)\n",
    "        axis.legend()\n",
    "    \n",
    "    fig.suptitle(name_to_save, fontsize=25)\n",
    "    fig.savefig(f\"./Hanoi_scens_{scenarios_to_plot}_all_outputs.png\")"
   ]
  },
  {
   "cell_type": "code",
   "execution_count": null,
   "id": "5e237056",
   "metadata": {},
   "outputs": [],
   "source": [
    "plot_all_outputs_chosen_scenarios([1, 2, 4], \n",
    "                                  \"Hanoi modelling results for scenarios returning to -10% mobility eventually.\")"
   ]
  },
  {
   "cell_type": "markdown",
   "id": "bad9f9fe",
   "metadata": {},
   "source": [
    "## Print all necessary epidemiological information of a scenario"
   ]
  },
  {
   "cell_type": "code",
   "execution_count": null,
   "id": "b9579e35",
   "metadata": {},
   "outputs": [],
   "source": [
    "# note that scenarios are numbered from 0 for baseline, and 1, 2, 3, etc. onwards\n",
    "start_date_scenarios = datetime.date(2022, 2, 1)\n",
    "end_date_scenarios = datetime.date(2022, 6, 30)\n",
    "def print_epi_info(scenario):\n",
    "    print(\"From {} to {}, for {}:\".format(start_date_scenarios, end_date_scenarios, scenario_names[scenario]))\n",
    "    print(\"\\b The cumulative number of fatalities of scenario {} within this time frame is {}.\".format(scenario, \n",
    "           round(results[(\"accum_deaths\", scenario)][0.5][end_date_scenarios] - results[(\"accum_deaths\", scenario)][0.5][start_date_scenarios])))\n",
    "    print(\"\\b The necessary number of hospital beds needed to fulfill the occupancy is {}.\"\n",
    "          .format(round(max(results[(\"hospital_occupancy\", scenario)][0.5][start_date_scenarios:end_date_scenarios]))))\n",
    "    print(\"\\b The necessary number of ICU beds needed to fulfill the occupancy is {}.\"\n",
    "          .format(round(max(results[(\"icu_occupancy\", scenario)][0.5][start_date_scenarios:end_date_scenarios]))))\n",
    "    print(\"\\b The maximum number of incidence cases (including asymptomatic and undetected cases) is {}.\"\n",
    "          .format(round(max(results[(\"incidence\", scenario)][0.5][start_date_scenarios:end_date_scenarios]))))\n",
    "    print(\"\\b The maximum number of daily COVID-19-specific fatalities is {}.\"\n",
    "          .format(round(max(results[(\"infection_deaths\", scenario)][0.5][start_date_scenarios:end_date_scenarios]))))\n",
    "    print(\"\\b The maximum number of daily COVID-19 registered cases is {}.\"\n",
    "          .format(round(max(results[(\"notifications\", scenario)][0.5][start_date_scenarios:end_date_scenarios]))))\n",
    "    print(\"\\b The total number of daily COVID-19 registered cases is {}.\"\n",
    "          .format(round(sum(results[(\"notifications\", scenario)][0.5][start_date_scenarios:end_date_scenarios]))))"
   ]
  },
  {
   "cell_type": "code",
   "execution_count": null,
   "id": "111e8a50",
   "metadata": {},
   "outputs": [],
   "source": [
    "for i in scenario_names.keys():\n",
    "    print_epi_info(i)"
   ]
  }
 ],
 "metadata": {
  "kernelspec": {
   "display_name": "project_modelling",
   "language": "python",
   "name": "project_modelling"
  },
  "language_info": {
   "codemirror_mode": {
    "name": "ipython",
    "version": 3
   },
   "file_extension": ".py",
   "mimetype": "text/x-python",
   "name": "python",
   "nbconvert_exporter": "python",
   "pygments_lexer": "ipython3",
   "version": "3.6.13"
  }
 },
 "nbformat": 4,
 "nbformat_minor": 5
}
