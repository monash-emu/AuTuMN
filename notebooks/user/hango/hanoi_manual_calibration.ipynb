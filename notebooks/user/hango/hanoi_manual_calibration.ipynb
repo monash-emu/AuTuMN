{
 "cells": [
  {
   "cell_type": "code",
   "execution_count": null,
   "metadata": {},
   "outputs": [],
   "source": [
    "from autumn.tools.project import get_project\n",
    "from matplotlib import pyplot\n",
    "from autumn.tools.plots.utils import REF_DATE\n",
    "# from autumn.tools.calibration.targets import get_target_series\n",
    "import pandas as pd\n",
    "from autumn.tools.utils.pretty import pretty_print\n",
    "\n",
    "from autumn.tools.plots.uncertainty.plots import _get_target_values, _plot_targets_to_axis"
   ]
  },
  {
   "cell_type": "code",
   "execution_count": null,
   "metadata": {},
   "outputs": [],
   "source": [
    "project = get_project(\"covid_19\", \"hanoi\")"
   ]
  },
  {
   "cell_type": "code",
   "execution_count": null,
   "metadata": {},
   "outputs": [],
   "source": [
    "update_params = {\n",
    "    \"contact_rate\": 0.1,\n",
    "    # \"sojourn.compartment_periods.icu_early\": 5,\n",
    "    # \"sojourn.compartment_periods.icu_late\": 10,\n",
    "    \"testing_to_detection.assumed_cdr_parameter\": 0.005,\n",
    "    \"mobility.microdistancing.behaviour.parameters.max_effect\": 0.5,\n",
    "    \"clinical_stratification.props.hospital.multiplier\": 0.4,\n",
    "    # clinical_stratification.props.symptomatic.multiplier: 0.7124252844089431\n",
    "    \"infection_fatality.multiplier\": 0.7,\n",
    "    \"clinical_stratification.icu_prop\": 0.75,\n",
    "}\n",
    "\n",
    "params = project.param_set.baseline.update(update_params, calibration_format=True)"
   ]
  },
  {
   "cell_type": "code",
   "execution_count": null,
   "metadata": {},
   "outputs": [],
   "source": [
    "model = project.run_baseline_model(params)\n",
    "derived_df = model.get_derived_outputs_df()"
   ]
  },
  {
   "cell_type": "code",
   "execution_count": null,
   "metadata": {},
   "outputs": [],
   "source": [
    "outputs = [\"notifications\", \"icu_occupancy\", \"infection_deaths\", \"cdr\"] #, \"hospital_admissions\", \"hospital_occupancy\", \"icu_admissions\", \"icu_occupancy\"]\n",
    "for output in outputs:\n",
    "    fig = pyplot.figure(figsize=(12, 8))\n",
    "    pyplot.style.use(\"ggplot\")\n",
    "    axis = fig.add_subplot()\n",
    "\n",
    "    axis = derived_df[output].plot()\n",
    "    axis.set_title(output)\n",
    "    \n",
    "    if output in project.plots:\n",
    "        values, times = _get_target_values(project.plots, output)        \n",
    "        date_times = pd.to_datetime(times, origin=\"01Jan2020\", unit=\"D\") \n",
    "        _plot_targets_to_axis(axis, values, date_times, on_uncertainty_plot=True)\n",
    "\n"
   ]
  }
 ],
 "metadata": {
  "kernelspec": {
   "display_name": "project_modelling",
   "language": "python",
   "name": "project_modelling"
  },
  "language_info": {
   "codemirror_mode": {
    "name": "ipython",
    "version": 3
   },
   "file_extension": ".py",
   "mimetype": "text/x-python",
   "name": "python",
   "nbconvert_exporter": "python",
   "pygments_lexer": "ipython3",
   "version": "3.6.13"
  }
 },
 "nbformat": 4,
 "nbformat_minor": 2
}
