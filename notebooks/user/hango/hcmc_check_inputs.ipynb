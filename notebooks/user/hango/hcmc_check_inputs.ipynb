{
 "cells": [
  {
   "cell_type": "markdown",
   "metadata": {},
   "source": [
    "## Check inputs to Ho Chi Minh City regional model before running\n",
    "Work through all the aspects of the model that don't require it to be actually run before calibrating."
   ]
  },
  {
   "cell_type": "code",
   "execution_count": null,
   "metadata": {},
   "outputs": [],
   "source": [
    "import matplotlib.pyplot as plt\n",
    "import matplotlib.dates as mdates\n",
    "import matplotlib.cm as cm\n",
    "import numpy as np\n",
    "import pandas as pd\n",
    "from datetime import datetime\n",
    "from datetime import date\n",
    "\n",
    "from summer.utils import ref_times_to_dti\n",
    "\n",
    "from autumn.tools.inputs.demography.queries import get_population_by_agegroup\n",
    "from autumn.models.covid_19.detection import create_cdr_function\n",
    "from autumn.tools.inputs.covid_mmr.queries import get_mmr_testing_numbers\n",
    "from autumn.tools.utils.utils import apply_moving_average\n",
    "from autumn.tools.curve.scale_up import scale_up_function\n",
    "from autumn.tools.project import get_project, TimeSeriesSet\n",
    "from autumn.settings import Region, Models\n",
    "from autumn.models.covid_19.constants import AGEGROUP_STRATA, BASE_DATETIME\n",
    "from autumn.models.covid_19.mixing_matrix.mobility import weight_mobility_data\n",
    "from autumn.tools.plots.utils import REF_DATE\n",
    "from autumn.tools.calibration.targets import get_target_series\n",
    "from autumn.tools import inputs\n",
    "from autumn.tools.inputs.database import get_input_db\n",
    "from autumn.tools.utils.display import pretty_print\n",
    "from autumn.tools.inputs.social_mixing.build_synthetic_matrices import build_synthetic_matrices"
   ]
  },
  {
   "cell_type": "code",
   "execution_count": null,
   "metadata": {},
   "outputs": [],
   "source": [
    "age_integers = [int(group) for group in AGEGROUP_STRATA]\n",
    "model = Models.COVID_19"
   ]
  },
  {
   "cell_type": "markdown",
   "metadata": {},
   "source": [
    "## Population"
   ]
  },
  {
   "cell_type": "code",
   "execution_count": null,
   "metadata": {},
   "outputs": [],
   "source": [
    "region = \"ho_chi_minh_city\"\n",
    "project = get_project(model, region)"
   ]
  },
  {
   "cell_type": "code",
   "execution_count": null,
   "metadata": {},
   "outputs": [],
   "source": [
    "fig, ax = plt.subplots(1, 1, figsize=(16, 10))\n",
    "total_pops = inputs.get_population_by_agegroup(\n",
    "    AGEGROUP_STRATA, \n",
    "    project.param_set.baseline[\"country\"][\"iso3\"],\n",
    "    project.param_set.baseline[\"population\"][\"region\"], \n",
    "    year=project.param_set.baseline[\"population\"][\"year\"]\n",
    ")\n",
    "print(f\"The estimated total population of HCMC, until 2019, is {round(sum(total_pops) / 1e6, 3)} million.\")\n",
    "ax.bar(age_integers, total_pops, width=4)\n",
    "ax.set_title(\"Population of HCMC (2019)\", fontsize=20)"
   ]
  },
  {
   "cell_type": "markdown",
   "metadata": {},
   "source": [
    "## Mobility"
   ]
  },
  {
   "cell_type": "code",
   "execution_count": null,
   "metadata": {},
   "outputs": [],
   "source": [
    "# Collate data together\n",
    "input_db = get_input_db()\n",
    "mob_df = input_db.query(\"mobility\", conditions={\"iso3\": \"VNM\", \"region\": \"Ho Chi Minh City\"})\n",
    "times = [datetime.strptime(i, \"%Y-%m-%d\") for i in mob_df[\"date\"]]\n",
    "google_mob_df = weight_mobility_data(mob_df, project.param_set.baseline[\"mobility\"][\"google_mobility_locations\"])\n",
    "\n",
    "# Get plots ready\n",
    "mob_fig, mob_axes = plt.subplots(1, 2, figsize=(12, 6))\n",
    "plot_left_date = date(2021, 4, 27)\n",
    "plot_right_date = times[-1]  # Not sure why this is necessary\n",
    "\n",
    "# Plot raw mobility data\n",
    "ax = mob_axes[0]\n",
    "for mobility_domain in [\"grocery_and_pharmacy\", \"residential\", \"parks\", \"retail_and_recreation\", \"transit_stations\"]:\n",
    "    ax.plot(times, mob_df[mobility_domain], label=mobility_domain)\n",
    "ax.set_ylim((0., 2.0))\n",
    "ax.tick_params(axis=\"x\", labelrotation=45)\n",
    "ax.set_title(\"Raw Google mobility domains\")\n",
    "ax.legend(loc=\"lower right\")\n",
    "ax.set_xlim(left=plot_left_date, right=plot_right_date)\n",
    "\n",
    "# Plot processed mobility data\n",
    "ax = mob_axes[1]\n",
    "for location in list(project.param_set.baseline[\"mobility\"][\"google_mobility_locations\"].keys()):\n",
    "    ax.plot(times, google_mob_df[location], label=location)\n",
    "ax.tick_params(axis=\"x\", labelrotation=45)\n",
    "ax.set_ylim((0., 2.0))\n",
    "ax.legend(loc=\"lower left\")\n",
    "ax.set_title(\"Mobility as implemented in the model\")\n",
    "mob_fig.tight_layout(w_pad=1.5, h_pad=3.5)\n",
    "ax.set_xlim(left=plot_left_date, right=plot_right_date)"
   ]
  },
  {
   "cell_type": "markdown",
   "metadata": {},
   "source": [
    "## Mixing matrix\n",
    "### Confirm mixing matrix details for the region"
   ]
  },
  {
   "cell_type": "code",
   "execution_count": null,
   "metadata": {},
   "outputs": [],
   "source": [
    "print(f\"\\nFor cluster: {region}\")\n",
    "print(f\"\\tModelled country: {project.param_set.baseline['country']['iso3']}\")\n",
    "print(f\"\\tModelled sub-region: {project.param_set.baseline['population']['region']}\")\n",
    "print(f\"\\tProxy country: {project.param_set.baseline['mixing_matrices']['source_iso3']}\")\n",
    "print(f\"\\tWhether age adjusted: {project.param_set.baseline['mixing_matrices']['age_adjust']}\")"
   ]
  },
  {
   "cell_type": "markdown",
   "metadata": {},
   "source": [
    "### Display the matrix and the matrix components"
   ]
  },
  {
   "cell_type": "code",
   "execution_count": null,
   "metadata": {},
   "outputs": [],
   "source": [
    "mixing_matrix = build_synthetic_matrices(\n",
    "    project.param_set.baseline[\"country\"][\"iso3\"],\n",
    "    project.param_set.baseline[\"mixing_matrices\"][\"source_iso3\"],\n",
    "    AGEGROUP_STRATA,\n",
    "    project.param_set.baseline[\"mixing_matrices\"][\"age_adjust\"],\n",
    "    project.param_set.baseline[\"population\"][\"region\"]\n",
    ")\n",
    "\n",
    "fig = plt.figure(figsize=(12, 8))\n",
    "positions = [1, 2, 3, 5, 6]\n",
    "for i_loc, location in zip(positions, mixing_matrix.keys()):\n",
    "    ax = fig.add_subplot(2, 3, i_loc)\n",
    "    ax.imshow(\n",
    "        np.flipud(np.transpose(mixing_matrix[location])), \n",
    "        cmap=cm.hot, \n",
    "        vmin=0,\n",
    "        vmax=mixing_matrix[location].max(), \n",
    "        origin=\"lower\"\n",
    "    )\n",
    "    ax.set_title(location.replace(\"_\", \" \"))\n",
    "    ax.set_xticks([])\n",
    "    ax.set_yticks([])"
   ]
  },
  {
   "cell_type": "markdown",
   "metadata": {},
   "source": [
    "## Calibration targets"
   ]
  },
  {
   "cell_type": "code",
   "execution_count": null,
   "metadata": {},
   "outputs": [],
   "source": [
    "plot_left_date = date(2021, 4, 29) # first detected case\n",
    "available_data = (\"notifications\", \"hospital_occupancy\", \"icu_occupancy\", \"infection_deaths\")\n",
    "\n",
    "for output in available_data:\n",
    "    output_fig, output_axes = plt.subplots(1, 1, figsize=(8, 5), sharey=\"all\", sharex=\"all\")\n",
    "    targets_path = f\"../../../autumn/projects/covid_19/vietnam/ho_chi_minh_city/timeseries.json\"\n",
    "    ts_set = TimeSeriesSet.from_file(targets_path)\n",
    "    output_data = ts_set.get(output)\n",
    "    output_axes.scatter(ref_times_to_dti(REF_DATE, output_data.times), output_data.values, c=\"k\")\n",
    "    output_axes.tick_params(axis=\"x\", labelrotation=45)\n",
    "    output_axes.xaxis.set_major_formatter(mdates.DateFormatter(\"%d-%m\"))\n",
    "    output_axes.set_xlim(left=plot_left_date)\n",
    "    output_fig.suptitle(f\"Ho Chi Minh City {output}\")"
   ]
  }
 ],
 "metadata": {
  "kernelspec": {
   "display_name": "Python 3",
   "language": "python",
   "name": "python3"
  },
  "language_info": {
   "codemirror_mode": {
    "name": "ipython",
    "version": 3
   },
   "file_extension": ".py",
   "mimetype": "text/x-python",
   "name": "python",
   "nbconvert_exporter": "python",
   "pygments_lexer": "ipython3",
   "version": "3.7.3"
  }
 },
 "nbformat": 4,
 "nbformat_minor": 2
}
