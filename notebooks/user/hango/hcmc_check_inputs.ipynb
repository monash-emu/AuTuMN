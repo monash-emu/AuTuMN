{
 "cells": [
  {
   "cell_type": "markdown",
   "metadata": {},
   "source": [
    "## Check inputs to Victoria regional model before running\n",
    "Work through all the aspects of the model that don't require it to be actually run before calibrating."
   ]
  },
  {
   "cell_type": "code",
   "execution_count": null,
   "metadata": {},
   "outputs": [],
   "source": [
    "import matplotlib.pyplot as plt\n",
    "import matplotlib.dates as mdates\n",
    "import matplotlib.cm as cm\n",
    "import numpy as np\n",
    "import pandas as pd\n",
    "from datetime import datetime\n",
    "from datetime import date\n",
    "\n",
    "from summer.utils import ref_times_to_dti\n",
    "\n",
    "from autumn.settings import Region, Models\n",
    "from autumn.tools.plots.utils import REF_DATE\n",
    "from autumn.models.covid_19.constants import AGEGROUP_STRATA, BASE_DATETIME\n",
    "from autumn.tools.project import get_project, run_project_locally, TimeSeriesSet\n",
    "from autumn.tools import inputs\n",
    "from autumn.tools.inputs.mobility.queries import get_mobility_data\n",
    "from autumn.tools.inputs.social_mixing.build_synthetic_matrices import build_synthetic_matrices\n",
    "from autumn.tools.inputs.demography.queries import get_population_by_agegroup\n",
    "from autumn.tools.inputs.database import get_input_db"
   ]
  },
  {
   "cell_type": "code",
   "execution_count": null,
   "metadata": {},
   "outputs": [],
   "source": [
    "age_integers = [int(group) for group in AGEGROUP_STRATA]\n",
    "model = Models.COVID_19"
   ]
  },
  {
   "cell_type": "markdown",
   "metadata": {},
   "source": [
    "## Population"
   ]
  },
  {
   "cell_type": "code",
   "execution_count": null,
   "metadata": {},
   "outputs": [],
   "source": [
    "region = \"ho_chi_minh_city\"\n",
    "project = get_project(model, region)"
   ]
  },
  {
   "cell_type": "code",
   "execution_count": null,
   "metadata": {},
   "outputs": [],
   "source": [
    "fig, ax = plt.subplots(1, 1, figsize=(16, 10))\n",
    "total_pops = inputs.get_population_by_agegroup(\n",
    "    AGEGROUP_STRATA, \n",
    "    project.param_set.baseline[\"country\"][\"iso3\"],\n",
    "    project.param_set.baseline[\"population\"][\"region\"], \n",
    "    year=project.param_set.baseline[\"population\"][\"year\"]\n",
    ")\n",
    "print(f\"The estimated total population of HCMC, until 2019, is {round(sum(total_pops) / 1e6, 3)} million.\")\n",
    "ax.bar(age_integers, total_pops, width=4)\n",
    "ax.set_title(\"Population of HCMC (2019)\", fontsize=20)"
   ]
  },
  {
   "cell_type": "markdown",
   "metadata": {},
   "source": [
    "## Mobility"
   ]
  },
  {
   "cell_type": "code",
   "execution_count": null,
   "metadata": {},
   "outputs": [],
   "source": [
    "data_period = 210\n",
    "\n",
    "input_db = get_input_db()\n",
    "\n",
    "mob_df = input_db.query(\"mobility\", conditions={\"iso3\": \"VNM\", \"region\": \"Ho Chi Minh City\"})\n",
    "# change column 'date' of mobility dataframe to pandas datetime type\n",
    "mob_df['date'] = pd.to_datetime(mob_df['date'])\n",
    "\n",
    "mob_fig, mob_ax = plt.subplots(1, 1, figsize=(10, 6))\n",
    "for mobility_domain in [\"grocery_and_pharmacy\", \"residential\", \"parks\", \"retail_and_recreation\", \"transit_stations\"]:\n",
    "    mob_ax.plot(mob_df[\"date\"].iloc[-data_period:], mob_df[mobility_domain].iloc[-data_period:], label=mobility_domain)\n",
    "mob_ax.set_ylim((0., 1.6))\n",
    "mob_ax.tick_params(axis=\"x\", labelrotation=45)\n",
    "mob_ax.xaxis.set_major_formatter(mdates.DateFormatter(\"%d-%m\"))\n",
    "mob_ax.xaxis.set_major_locator(mdates.MonthLocator(interval=1))\n",
    "mob_ax.legend()\n",
    "mob_fig.suptitle(f\"Google mobility report for HCMC by domain in the last {data_period} days\", fontsize=15)"
   ]
  },
  {
   "cell_type": "code",
   "execution_count": null,
   "metadata": {},
   "outputs": [],
   "source": [
    "mob_imp_fig, mob_imp_ax = plt.subplots(1, 1, figsize=(10, 6), sharey=\"all\")\n",
    "\n",
    "mobility_values, mobility_days = get_mobility_data(\n",
    "    project.param_set.baseline[\"country\"][\"iso3\"], \n",
    "    project.param_set.baseline[\"population\"][\"region\"], \n",
    "    BASE_DATETIME, \n",
    "    project.param_set.baseline[\"mobility\"][\"google_mobility_locations\"],\n",
    ")\n",
    "\n",
    "data_period = 210\n",
    "times = ref_times_to_dti(BASE_DATETIME, mobility_days[-data_period:])\n",
    "\n",
    "locations = project.param_set.baseline[\"mobility\"][\"google_mobility_locations\"].keys()\n",
    "for location in locations:\n",
    "    mob_imp_ax.plot(times, mobility_values[location][-data_period:], label=location)\n",
    "mob_imp_ax.tick_params(axis=\"x\", labelrotation=45)\n",
    "mob_imp_ax.set_ylim((0., 1.6))\n",
    "mob_imp_ax.xaxis.set_major_formatter(mdates.DateFormatter(\"%d-%m\"))\n",
    "\n",
    "mob_imp_ax.legend(loc=\"lower left\")\n",
    "mob_imp_fig.suptitle(\"Mobility of HCMC as implemented in the model\", fontsize=15)\n",
    "mob_imp_fig.tight_layout(w_pad=1.5, h_pad=3.5)"
   ]
  },
  {
   "cell_type": "markdown",
   "metadata": {},
   "source": [
    "## Mixing matrix\n",
    "### Confirm mixing matrix details for the region"
   ]
  },
  {
   "cell_type": "code",
   "execution_count": null,
   "metadata": {},
   "outputs": [],
   "source": [
    "print(f\"\\nFor cluster: {region}\")\n",
    "print(f\"\\tModelled country: {project.param_set.baseline['country']['iso3']}\")\n",
    "print(f\"\\tModelled sub-region: {project.param_set.baseline['population']['region']}\")\n",
    "print(f\"\\tProxy country: {project.param_set.baseline['mixing_matrices']['source_iso3']}\")\n",
    "print(f\"\\tWhether age adjusted: {project.param_set.baseline['mixing_matrices']['age_adjust']}\")"
   ]
  },
  {
   "cell_type": "markdown",
   "metadata": {},
   "source": [
    "### Display the matrix and the matrix components"
   ]
  },
  {
   "cell_type": "code",
   "execution_count": null,
   "metadata": {},
   "outputs": [],
   "source": [
    "mixing_matrix = build_synthetic_matrices(\n",
    "    project.param_set.baseline[\"country\"][\"iso3\"],\n",
    "    project.param_set.baseline[\"mixing_matrices\"][\"source_iso3\"],\n",
    "    AGEGROUP_STRATA,\n",
    "    project.param_set.baseline[\"mixing_matrices\"][\"age_adjust\"],\n",
    "    project.param_set.baseline[\"population\"][\"region\"]\n",
    ")\n",
    "\n",
    "fig = plt.figure(figsize=(12, 8))\n",
    "positions = [1, 2, 3, 5, 6]\n",
    "for i_loc, location in zip(positions, mixing_matrix.keys()):\n",
    "    ax = fig.add_subplot(2, 3, i_loc)\n",
    "    ax.imshow(\n",
    "        np.flipud(np.transpose(mixing_matrix[location])), \n",
    "        cmap=cm.hot, \n",
    "        vmin=0,\n",
    "        vmax=mixing_matrix[location].max(), \n",
    "        origin=\"lower\"\n",
    "    )\n",
    "    ax.set_title(location.replace(\"_\", \" \"))\n",
    "    ax.set_xticks([])\n",
    "    ax.set_yticks([])"
   ]
  },
  {
   "cell_type": "markdown",
   "metadata": {},
   "source": [
    "## Calibration targets"
   ]
  },
  {
   "cell_type": "code",
   "execution_count": null,
   "metadata": {},
   "outputs": [],
   "source": [
    "plot_left_date = date(2021, 4, 29) # first detected case\n",
    "available_data = (\"notifications\", \"hospital_occupancy\", \"icu_occupancy\", \"infection_deaths\")\n",
    "\n",
    "for output in available_data:\n",
    "    output_fig, output_axes = plt.subplots(1, 1, figsize=(8, 5), sharey=\"all\", sharex=\"all\")\n",
    "    targets_path = f\"../../../autumn/projects/covid_19/vietnam/ho_chi_minh_city/timeseries.json\"\n",
    "    ts_set = TimeSeriesSet.from_file(targets_path)\n",
    "    output_data = ts_set.get(output)\n",
    "    output_axes.scatter(ref_times_to_dti(REF_DATE, output_data.times), output_data.values, c=\"k\")\n",
    "    output_axes.tick_params(axis=\"x\", labelrotation=45)\n",
    "    output_axes.xaxis.set_major_formatter(mdates.DateFormatter(\"%d-%m\"))\n",
    "    output_axes.set_xlim(left=plot_left_date)\n",
    "    output_fig.suptitle(f\"Ho Chi Minh City {output}\")"
   ]
  }
 ],
 "metadata": {
  "kernelspec": {
   "display_name": "Python 3",
   "language": "python",
   "name": "python3"
  },
  "language_info": {
   "codemirror_mode": {
    "name": "ipython",
    "version": 3
   },
   "file_extension": ".py",
   "mimetype": "text/x-python",
   "name": "python",
   "nbconvert_exporter": "python",
   "pygments_lexer": "ipython3",
   "version": "3.6.13"
  }
 },
 "nbformat": 4,
 "nbformat_minor": 2
}
