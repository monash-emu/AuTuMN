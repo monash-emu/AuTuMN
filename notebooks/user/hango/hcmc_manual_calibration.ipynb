{
 "cells": [
  {
   "cell_type": "code",
   "execution_count": null,
   "metadata": {},
   "outputs": [],
   "source": [
    "from autumn.tools.project import get_project, TimeSeriesSet\n",
    "from autumn.tools.plots.utils import REF_DATE\n",
    "from autumn.tools.calibration.targets import get_target_series\n",
    "from autumn.tools.utils.pretty import pretty_print\n",
    "from summer.utils import ref_times_to_dti\n",
    "\n",
    "from matplotlib import pyplot as plt\n",
    "import datetime\n",
    "import pandas as pd"
   ]
  },
  {
   "cell_type": "code",
   "execution_count": null,
   "metadata": {},
   "outputs": [],
   "source": [
    "project = get_project(\"covid_19\", \"ho_chi_minh_city\")"
   ]
  },
  {
   "cell_type": "code",
   "execution_count": null,
   "metadata": {},
   "outputs": [],
   "source": [
    "targets_path = f\"../../../autumn/projects/covid_19/vietnam/ho_chi_minh_city/timeseries.json\"\n",
    "ts_set = TimeSeriesSet.from_file(targets_path)"
   ]
  },
  {
   "cell_type": "code",
   "execution_count": null,
   "metadata": {},
   "outputs": [],
   "source": [
    "custom_params = project.param_set.baseline#.update({\"contact_rate\": 0.1,\n",
    "                                          #         \"contact_tracing\": {\"assumed_trace_prop\": 0.05,\n",
    "                                          #                             \"assumed_prev\": 1e-3,\n",
    "                                          #                             \"quarantine_infect_multiplier\": 0.2,\n",
    "                                          #                             \"floor\": 0.01},\n",
    "                                          #        \"testing_to_detection\": {\"assumed_cdr_parameter\": 0.06}})\n",
    "model = project.run_baseline_model(custom_params)\n",
    "derived_df = model.get_derived_outputs_df()"
   ]
  },
  {
   "cell_type": "markdown",
   "metadata": {},
   "source": [
    "##  Test derived output from baseline model"
   ]
  },
  {
   "cell_type": "code",
   "execution_count": null,
   "metadata": {},
   "outputs": [],
   "source": [
    "def plot_derived_outputs(requested_outputs):\n",
    "\n",
    "    # Preparing\n",
    "    plt.style.use(\"ggplot\")\n",
    "    fig = plt.figure(figsize=(14, 8))\n",
    "    for i_out, output in enumerate(requested_outputs):\n",
    "\n",
    "        # Plotting\n",
    "        axis = fig.add_subplot(2, 2, i_out + 1)\n",
    "        axis.plot(derived_df[output])\n",
    "\n",
    "        try:\n",
    "            target_dates, target_values = get_target_series(project.calibration.targets, REF_DATE, output)\n",
    "            axis.scatter(target_dates, target_values, c=\"k\")\n",
    "        except:\n",
    "            print(f\"targets not available for {output}\")\n",
    "\n",
    "        # Finishing up\n",
    "        axis.set_title(output)\n",
    "        axis.set_ylim(bottom=0.)\n",
    "        if \"prop_\" in output:\n",
    "            axis.set_ylim(top=1.)\n",
    "        plt.setp(axis.get_xticklabels(), rotation=45)\n",
    "    fig.tight_layout()"
   ]
  },
  {
   "cell_type": "code",
   "execution_count": null,
   "metadata": {
    "scrolled": true
   },
   "outputs": [],
   "source": [
    "plot_derived_outputs((\"notifications\", \"infection_deaths\", \"hospital_occupancy\", \"icu_occupancy\"))"
   ]
  },
  {
   "cell_type": "markdown",
   "metadata": {},
   "source": [
    "### Vaccination coverage"
   ]
  },
  {
   "cell_type": "code",
   "execution_count": null,
   "metadata": {},
   "outputs": [],
   "source": [
    "fig = plt.figure(figsize=(14, 8))\n",
    "axis = fig.add_subplot(1, 1, 1)\n",
    "\n",
    "axis.fill_between(\n",
    "    derived_df.index,\n",
    "    [0.] * len(derived_df),\n",
    "    derived_df[\"proportion_fully_vaccinated\"],\n",
    "    label=\"fully vaccinated\"\n",
    ")\n",
    "axis.fill_between(\n",
    "    derived_df.index,\n",
    "    derived_df[\"proportion_fully_vaccinated\"],\n",
    "    derived_df[\"at_least_one_dose_prop\"],\n",
    "    label=\"one dose only\"\n",
    ")\n",
    "axis.fill_between(\n",
    "    derived_df.index,\n",
    "    derived_df[\"at_least_one_dose_prop\"],\n",
    "    [1.] * len(derived_df), \n",
    "    label=\"unvaccinated\"\n",
    ")\n",
    "axis.legend()"
   ]
  },
  {
   "cell_type": "code",
   "execution_count": null,
   "metadata": {},
   "outputs": [],
   "source": [
    "plot_derived_outputs((\"proportion_seropositive\",))"
   ]
  },
  {
   "cell_type": "code",
   "execution_count": null,
   "metadata": {},
   "outputs": [],
   "source": [
    "# Preparing\n",
    "fig = plt.figure(figsize=(14, 8))\n",
    "axis = fig.add_subplot(1, 1, 1)\n",
    "requested_outputs = [col for col in derived_df.columns if \"proportion_seropositiveX\" in col]\n",
    "for i_out, output in enumerate(requested_outputs):\n",
    "\n",
    "    # Plotting\n",
    "    axis.plot(derived_df[output], label=output.split(\"X\")[1])\n",
    "\n",
    "    # Finishing up\n",
    "    plt.setp(axis.get_xticklabels(), rotation=45)\n",
    "\n",
    "axis.legend()\n",
    "fig.tight_layout()"
   ]
  },
  {
   "cell_type": "markdown",
   "metadata": {},
   "source": [
    "## Experiment with proposed scenarios "
   ]
  },
  {
   "cell_type": "code",
   "execution_count": null,
   "metadata": {},
   "outputs": [],
   "source": [
    "start_times = [sc_params.to_dict()[\"time\"][\"start\"] for sc_params in project.param_set.scenarios]\n",
    "scenarios = project.run_scenario_models(model, project.param_set.scenarios, start_times=start_times)\n",
    "derived_dfs = [m.get_derived_outputs_df() for m in scenarios]"
   ]
  },
  {
   "cell_type": "code",
   "execution_count": null,
   "metadata": {},
   "outputs": [],
   "source": [
    "n_scenarios = len(scenarios)\n",
    "print(f\"Apart from the baseline parameter set, there are a total of {n_scenarios} scenarios run for Ho Chi Minh City.\")"
   ]
  },
  {
   "cell_type": "code",
   "execution_count": null,
   "metadata": {},
   "outputs": [],
   "source": [
    "outputs = [\"notifications\", \"hospital_occupancy\", \"icu_occupancy\", \"infection_deaths\"]\n",
    "\n",
    "plot_first_day = datetime.date(2021, 4, 26)"
   ]
  },
  {
   "cell_type": "code",
   "execution_count": null,
   "metadata": {},
   "outputs": [],
   "source": [
    "for scenario in range(n_scenarios):\n",
    "    fig, axes = plt.subplots(2, 2, figsize=(16, 10), sharex=\"all\")\n",
    "    fig.suptitle(f\"Output plots for Scenario #{scenario+1}\", fontsize=15)\n",
    "    fig.tight_layout(w_pad=1.5, h_pad=3.5)\n",
    "    for i_ax, axis in enumerate(axes.reshape(-1)):\n",
    "        output_name = outputs[i_ax]\n",
    "        output = ts_set.get(output_name)\n",
    "        axis.plot(ref_times_to_dti(REF_DATE, model.times), derived_df[outputs[i_ax]], label=\"Base-parameters output\")\n",
    "        axis.plot(derived_dfs[scenario].index, derived_dfs[scenario][outputs[i_ax]], label=f\"Scenario #{scenario+1} output\")\n",
    "        axis.scatter(ref_times_to_dti(REF_DATE, output.times), output.values, c=\"k\")\n",
    "        axis.tick_params(axis=\"x\", labelrotation=45)\n",
    "        axis.set_title(output_name)\n",
    "        axis.set_xlim(left=plot_first_day)\n",
    "        axis.legend()"
   ]
  },
  {
   "cell_type": "code",
   "execution_count": null,
   "metadata": {},
   "outputs": [],
   "source": [
    "fig = plt.figure(figsize=(12, 8))\n",
    "plt.style.use(\"ggplot\")\n",
    "axis = fig.add_subplot()\n",
    "axis = derived_df[\"proportion_seropositive\"].plot()"
   ]
  },
  {
   "cell_type": "code",
   "execution_count": null,
   "metadata": {},
   "outputs": [],
   "source": [
    "fig = plt.figure(figsize=(12, 8))\n",
    "plt.style.use(\"ggplot\")\n",
    "axis = fig.add_subplot()\n",
    "axis = derived_df[\"cdr\"].plot()"
   ]
  }
 ],
 "metadata": {
  "kernelspec": {
   "display_name": "project_modelling",
   "language": "python",
   "name": "project_modelling"
  },
  "language_info": {
   "codemirror_mode": {
    "name": "ipython",
    "version": 3
   },
   "file_extension": ".py",
   "mimetype": "text/x-python",
   "name": "python",
   "nbconvert_exporter": "python",
   "pygments_lexer": "ipython3",
   "version": "3.6.13"
  }
 },
 "nbformat": 4,
 "nbformat_minor": 5
}
