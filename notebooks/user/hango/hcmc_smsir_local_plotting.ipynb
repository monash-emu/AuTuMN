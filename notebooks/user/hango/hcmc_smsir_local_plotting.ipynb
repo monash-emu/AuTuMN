{
 "cells": [
  {
   "cell_type": "code",
   "execution_count": null,
   "metadata": {},
   "outputs": [],
   "source": [
    "import scipy\n",
    "scipy.__version__"
   ]
  },
  {
   "cell_type": "code",
   "execution_count": null,
   "metadata": {},
   "outputs": [],
   "source": [
    "from autumn.core.project import get_project\n",
    "from matplotlib import pyplot\n",
    "from autumn.core.plots.utils import REF_DATE\n",
    "# from autumn.calibration.targets import get_target_series\n",
    "import pandas as pd\n",
    "from autumn.core.utils.display import pretty_print\n",
    "import matplotlib.pyplot as plt\n",
    "import datetime"
   ]
  },
  {
   "cell_type": "code",
   "execution_count": null,
   "metadata": {},
   "outputs": [],
   "source": [
    "project = get_project(\"sm_sir\", \"ho_chi_minh_city\")"
   ]
  },
  {
   "cell_type": "code",
   "execution_count": null,
   "metadata": {},
   "outputs": [],
   "source": [
    "# run baseline model\n",
    "model_0 = project.run_baseline_model(project.param_set.baseline)\n",
    "derived_df = model_0.get_derived_outputs_df()"
   ]
  },
  {
   "cell_type": "code",
   "execution_count": null,
   "metadata": {},
   "outputs": [],
   "source": [
    "pretty_print(project.param_set.baseline)"
   ]
  },
  {
   "cell_type": "code",
   "execution_count": null,
   "metadata": {},
   "outputs": [],
   "source": [
    "# run scenarios\n",
    "start_times = [\n",
    "    sc_params.to_dict()[\"time\"][\"start\"] for sc_params in project.param_set.scenarios\n",
    "]\n",
    "sc_models = project.run_scenario_models(model_0, project.param_set.scenarios, start_times=start_times)\n",
    "derived_dfs = [m.get_derived_outputs_df() for m in sc_models]"
   ]
  },
  {
   "cell_type": "code",
   "execution_count": null,
   "metadata": {},
   "outputs": [],
   "source": [
    "len(derived_dfs)"
   ]
  },
  {
   "cell_type": "code",
   "execution_count": null,
   "metadata": {},
   "outputs": [],
   "source": [
    "# define scenario names in compliance with policy brief\n",
    "scenario_names = {\n",
    "    0: \"Hypertransmissible VoC\",\n",
    "    1: \"Hypertransmissible, partially immune-escape VoC\",\n",
    "    2: \"Hypertransmissible, partially immune-escape, severe VoC\", \n",
    "    3: \"Hypertransmissible, totally immune-escape VoC\",\n",
    "    4: \"Hypertransmissible, totally immune-escape, severe VoC\"\n",
    "}\n",
    "\n",
    "# derived output figure title lookup\n",
    "title_lookup = {\n",
    "    \"cdr\": \"Case Detection Rate (in ratio)\",\n",
    "    \"hospital_occupancy\": \"Total actually occupied hospital beds\",\n",
    "    \"icu_occupancy\": \"Total actuall occupied beds for critical patients\",\n",
    "    \"incidence\": \"Daily actual number of COVID-19 cases\",\n",
    "    \"infection_deaths\": \"Daily number of COVID-19-specific fatalities\",\n",
    "    \"notifications\": \"Daily number of registered cases\"\n",
    "}"
   ]
  },
  {
   "cell_type": "code",
   "execution_count": null,
   "metadata": {},
   "outputs": [],
   "source": [
    "def plot_all_outputs_chosen_scenarios(scenarios_to_plot, name_to_save):\n",
    "    plot_left_date = datetime.date(2021, 5, 25)\n",
    "    plot_right_date = datetime.date(2023, 1, 1)\n",
    "    start_date_scenarios = datetime.date(2022, 7, 1)\n",
    "    \n",
    "    outputs_to_plot = (\"hospital_occupancy\", \"icu_occupancy\")\n",
    "    \n",
    "    fig, axes = plt.subplots(1, 2, figsize = (21, 7), sharex=\"all\")\n",
    "    fig.set_facecolor(\"w\")\n",
    "    for i_ax, axis in enumerate(axes.reshape(-1)):\n",
    "        print(i_ax)\n",
    "        axis.axvline(x=start_date_scenarios, linestyle=\"--\", color=\"k\")\n",
    "        plt.text(start_date_scenarios, 0.7, ' 2022-06-01', transform=axis.get_xaxis_transform(), fontsize=12)\n",
    "        # plot baseline before start date of scenarios\n",
    "        result_df = derived_dfs[0][outputs_to_plot[i_ax]][plot_left_date:start_date_scenarios]\n",
    "        indices = result_df.index\n",
    "        axis.plot(indices, result_df)\n",
    "        for scenario in scenarios_to_plot:\n",
    "            results_df = derived_dfs[scenario][outputs_to_plot[i_ax]][start_date_scenarios:plot_right_date]\n",
    "            indices = results_df.index\n",
    "            axis.plot(indices, results_df, label = scenario_names[scenario], linewidth=2)\n",
    "        \n",
    "        axis.tick_params(axis=\"x\", labelrotation=45)\n",
    "        axis.set_xlim(left=plot_left_date)\n",
    "        axis.set_title(title_lookup[outputs_to_plot[i_ax]], fontsize=20)\n",
    "        axis.legend()\n",
    "    \n",
    "    fig.suptitle(name_to_save, fontsize=25)\n",
    "    # fig.savefig(f\"./HCMC_scens_{scenarios_to_plot}_all_outputs.png\")"
   ]
  },
  {
   "cell_type": "code",
   "execution_count": null,
   "metadata": {},
   "outputs": [],
   "source": [
    "derived_df[\"notifications\"]"
   ]
  },
  {
   "cell_type": "code",
   "execution_count": null,
   "metadata": {},
   "outputs": [],
   "source": [
    "derived_dfs[2][\"notifications\"]"
   ]
  },
  {
   "cell_type": "code",
   "execution_count": null,
   "metadata": {},
   "outputs": [],
   "source": [
    "plot_all_outputs_chosen_scenarios([0, 1, 2, 3, 4], \"Plotting of all scenarios\")"
   ]
  },
  {
   "cell_type": "code",
   "execution_count": null,
   "metadata": {},
   "outputs": [],
   "source": [
    "# plot outputs of scenarios without and with the emergence of Omicron VoC, respectively\n",
    "# plot_all_outputs_chosen_scenarios([0, 2, 4, 6], \n",
    "#     \"HCMC modelling results for all outputs of scenarios when Omicron does not emerge\")\n",
    "# plot_all_outputs_chosen_scenarios([1, 3, 5, 7], \n",
    "#     \"HCMC modelling results for all outputs of scenarios when Omicron emerges on 01st Jan 2022\")\n",
    "plot_all_outputs_chosen_scenarios([1, 2], \"Scenarios 2 and 3\")"
   ]
  },
  {
   "cell_type": "code",
   "execution_count": null,
   "metadata": {},
   "outputs": [],
   "source": [
    "# # note that scenarios are numbered from 0 for baseline, and 1, 2, 3, etc. onwards\n",
    "# start_date_scenarios = datetime.date(2021, 6, 1)\n",
    "# end_date_scenarios = datetime.date(2022, 11, 1)\n",
    "\n",
    "# def print_epi_info(scenario):\n",
    "#     print(\"From {} to {}, for {}:\".format(start_date_scenarios, end_date_scenarios, scenario_names[scenario]))\n",
    "#     print(\"\\b The necessary number of hospital beds needed to fulfill the occupancy is {}.\"\n",
    "#           .format(round(max(derived_dfs[scenario][\"hospital_occupancy\"][start_date_scenarios:end_date_scenarios]))))\n",
    "#     print(\"\\b The necessary number of ICU beds needed to fulfill the occupancy is {}.\"\n",
    "#           .format(round(max(derived_dfs[scenario][\"icu_occupancy\"][start_date_scenarios:end_date_scenarios]))))\n",
    "#     print(\"\\b The maximum number of incidence cases (including asymptomatic and undetected cases) is {}.\"\n",
    "#           .format(round(max(derived_dfs[scenario][\"incidence\"][start_date_scenarios:end_date_scenarios]))))\n",
    "#     print(\"\\b The maximum number of daily COVID-19-specific fatalities is {}.\"\n",
    "#           .format(round(max(derived_dfs[scenario][\"infection_deaths\"][start_date_scenarios:end_date_scenarios]))))\n",
    "#     print(\"\\b The maximum number of daily COVID-19 registered cases is {}.\"\n",
    "#           .format(round(max(derived_dfs[scenario][\"notifications\"][start_date_scenarios:end_date_scenarios]))))\n",
    "#     print(\"\\b The total number of daily COVID-19 registered cases is {}.\"\n",
    "#           .format(round(sum(derived_dfs[scenario][\"notifications\"][start_date_scenarios:end_date_scenarios]))))"
   ]
  },
  {
   "cell_type": "code",
   "execution_count": null,
   "metadata": {},
   "outputs": [],
   "source": [
    "# for i in range(0, 3):\n",
    "#     print_epi_info(i)"
   ]
  }
 ],
 "metadata": {
  "kernelspec": {
   "display_name": "autumn310",
   "language": "python",
   "name": "autumn310"
  },
  "language_info": {
   "codemirror_mode": {
    "name": "ipython",
    "version": 3
   },
   "file_extension": ".py",
   "mimetype": "text/x-python",
   "name": "python",
   "nbconvert_exporter": "python",
   "pygments_lexer": "ipython3",
   "version": "3.10.4"
  }
 },
 "nbformat": 4,
 "nbformat_minor": 2
}
