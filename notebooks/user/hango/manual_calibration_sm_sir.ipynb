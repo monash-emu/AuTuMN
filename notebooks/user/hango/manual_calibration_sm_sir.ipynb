{
 "cells": [
  {
   "cell_type": "code",
   "execution_count": null,
   "metadata": {},
   "outputs": [],
   "source": [
    "from autumn.tools.project import get_project\n",
    "from matplotlib import pyplot\n",
    "from autumn.tools.plots.utils import REF_DATE\n",
    "# from autumn.tools.calibration.targets import get_target_series\n",
    "import pandas as pd\n",
    "from autumn.tools.utils.pretty import pretty_print\n",
    "\n",
    "from autumn.tools.plots.uncertainty.plots import _get_target_values, _plot_targets_to_axis"
   ]
  },
  {
   "cell_type": "code",
   "execution_count": null,
   "metadata": {},
   "outputs": [],
   "source": [
    "project = get_project(\"sm_sir\", \"hanoi\")"
   ]
  },
  {
   "cell_type": "code",
   "execution_count": null,
   "metadata": {},
   "outputs": [],
   "source": [
    "update_params = {\n",
    "    \"contact_rate\": 0.2,\n",
    "    \"infectious_seed\": 1000.,\n",
    "#     \"detect_prop\": 0.19060505331156416,\n",
    "#     \"testing_to_detection.assumed_tests_parameter\": 0.001138495394924509,\n",
    "#     \"testing_to_detection.assumed_cdr_parameter\": 0.0363758883951254,\n",
    "    \"immunity_stratification.prop_immune\": 0.75,\n",
    "    \"immunity_stratification.prop_high_among_immune\": 0.75,\n",
    "#     \"prop_icu_among_hospitalised\": 0.02,\n",
    "    \"age_stratification.prop_hospital.multiplier\": 0.075,\n",
    "    \"age_stratification.cfr.multiplier\": 0.05,\n",
    "    \"voc_emergence.omicron.new_voc_seed.start_time\": 732,\n",
    "    \"voc_emergence.omicron.relative_latency\": 0.5, # 0.6667\n",
    "    \"voc_emergence.omicron.hosp_protection\": 0.8,\n",
    "    \"voc_emergence.omicron.death_protection\": 0.9,\n",
    "    \"voc_emergence.omicron.contact_rate_multiplier\": 2.0,\n",
    "    \"voc_emergence.omicron.relative_active_period\": 0.3,\n",
    "}\n",
    "params = project.param_set.baseline.update(update_params, calibration_format=True)\n"
   ]
  },
  {
   "cell_type": "code",
   "execution_count": null,
   "metadata": {},
   "outputs": [],
   "source": [
    "# pretty_print(params)"
   ]
  },
  {
   "cell_type": "code",
   "execution_count": null,
   "metadata": {},
   "outputs": [],
   "source": [
    "model = project.run_baseline_model(params)\n",
    "derived_df = model.get_derived_outputs_df()"
   ]
  },
  {
   "cell_type": "code",
   "execution_count": null,
   "metadata": {},
   "outputs": [],
   "source": [
    "outputs = [\"prop_ever_infected\", \n",
    "           \"hospital_occupancy\", \n",
    "           \"infection_deaths\"] #, \"hospital_admissions\", \"hospital_occupancy\", \"icu_admissions\", \"icu_occupancy\"]\n",
    "for output in outputs:\n",
    "    fig = pyplot.figure(figsize=(12, 8))\n",
    "    pyplot.style.use(\"ggplot\")\n",
    "    axis = fig.add_subplot()\n",
    "\n",
    "    axis = derived_df[output].plot()\n",
    "    axis.set_title(output)\n",
    "    \n",
    "    if output in project.plots:\n",
    "        values, times = _get_target_values(project.plots, output)        \n",
    "        date_times = pd.to_datetime(times, origin=\"01Jan2020\",unit=\"D\") \n",
    "        _plot_targets_to_axis(axis, values, date_times, on_uncertainty_plot=True)\n",
    "\n"
   ]
  },
  {
   "cell_type": "code",
   "execution_count": null,
   "metadata": {},
   "outputs": [],
   "source": []
  }
 ],
 "metadata": {
  "kernelspec": {
   "display_name": "autumn37",
   "language": "python",
   "name": "autumn37"
  },
  "language_info": {
   "codemirror_mode": {
    "name": "ipython",
    "version": 3
   },
   "file_extension": ".py",
   "mimetype": "text/x-python",
   "name": "python",
   "nbconvert_exporter": "python",
   "pygments_lexer": "ipython3",
   "version": "3.7.11"
  }
 },
 "nbformat": 4,
 "nbformat_minor": 2
}
