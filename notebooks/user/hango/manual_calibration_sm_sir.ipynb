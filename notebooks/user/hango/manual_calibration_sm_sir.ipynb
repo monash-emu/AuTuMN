{
 "cells": [
  {
   "cell_type": "code",
   "execution_count": null,
   "metadata": {},
   "outputs": [],
   "source": [
    "import math\n",
    "from autumn.core.project import get_project\n",
    "from matplotlib import pyplot\n",
    "from autumn.core.plots.utils import REF_DATE\n",
    "# from autumn.calibration.targets import get_target_series\n",
    "import pandas as pd\n",
    "from autumn.core.utils.display import pretty_print\n",
    "\n",
    "from autumn.core.plots.uncertainty.plots import _get_target_values, _plot_targets_to_axis"
   ]
  },
  {
   "cell_type": "code",
   "execution_count": null,
   "metadata": {},
   "outputs": [],
   "source": [
    "project = get_project(\"sm_sir\", \"ho_chi_minh_city\")"
   ]
  },
  {
   "cell_type": "code",
   "execution_count": null,
   "metadata": {},
   "outputs": [],
   "source": [
    "update_params = {\n",
    "#       \"contact_rate\": 0.115,\n",
    "#       \"prop_icu_among_hospitalised\": 0.15,\n",
    "#     \"immunity_stratification.infection_risk_reduction.low\": 0.25,\n",
    "#     \"immunity_stratification.infection_risk_reduction.high\": 0.4,\n",
    "#     \"mobility.microdistancing.behavior.parameters.max_effect\": 0.2,\n",
    "#     \"age_stratification.prop_hospital.multiplier\": 1.5,\n",
    "#     \"infectious_seed\": 1447.6389411122898,\n",
    "#     \"sojourns.active.proportion_early\": 0.7,\n",
    "#     \"sojourns.active.total_time\": 8.,\n",
    "#     \"sojourns.latent.proportion_early\": 0.7,\n",
    "#     \"sojourns.latent.total_time\": 5.,\n",
    "#     \"voc_emergence.omicron.contact_rate_multiplier\": 1.5,\n",
    "#     \"voc_emergence.omicron.icu_multiplier\": 0.4,\n",
    "#     \"voc_emergence.omicron.relative_active_period\": 1.0,\n",
    "#     \"voc_emergence.omicron.relative_latency\": 0.67,\n",
    "#     \"voc_emergence.omicron.new_voc_seed.start_time\": 746.,\n",
    "#     \"voc_emergence.omicron.hosp_protection\": 0.8, \n",
    "#     \"voc_emergence.omicron.death_protection\": 0.9,\n",
    "#     \"voc_emergence.wild_type.relative_active_period\": 1.912747083227452\n",
    "#     \"voc_emergence.wild_type.relative_latency\": 1.23511172131566\n",
    "}\n",
    "params = project.param_set.baseline.update(update_params, calibration_format=True)\n"
   ]
  },
  {
   "cell_type": "code",
   "execution_count": null,
   "metadata": {},
   "outputs": [],
   "source": [
    "pretty_print(params)"
   ]
  },
  {
   "cell_type": "code",
   "execution_count": null,
   "metadata": {},
   "outputs": [],
   "source": [
    "model = project.run_baseline_model(params)\n",
    "derived_df = model.get_derived_outputs_df()"
   ]
  },
  {
   "cell_type": "code",
   "execution_count": null,
   "metadata": {},
   "outputs": [],
   "source": [
    "derived_df.columns"
   ]
  },
  {
   "cell_type": "code",
   "execution_count": null,
   "metadata": {},
   "outputs": [],
   "source": [
    "outputs = [\n",
    "#     \"notifications\", \n",
    "    \"hospital_occupancy\", \n",
    "#     \"infection_deaths\",\n",
    "    \"icu_occupancy\",\n",
    "    \"prop_ever_infected\",\n",
    "    \"hospital_admissionsXagegroup_60\",\n",
    "    \"hospital_occupancyXagegroup_60\"\n",
    "] #, \"hospital_admissions\", \"hospital_occupancy\", \"icu_admissions\", \"icu_occupancy\"]\n",
    "for output in outputs:\n",
    "    fig = pyplot.figure(figsize=(12, 8))\n",
    "    pyplot.style.use(\"ggplot\")\n",
    "    axis = fig.add_subplot()\n",
    "\n",
    "    axis = derived_df[output].plot()\n",
    "    axis.set_title(output)\n",
    "    \n",
    "    if output in project.plots:\n",
    "        values, times = _get_target_values(project.plots, output)        \n",
    "        date_times = pd.to_datetime(times, origin=\"01Jan2020\",unit=\"D\") \n",
    "        _plot_targets_to_axis(axis, values, date_times, on_uncertainty_plot=True)\n",
    "\n"
   ]
  },
  {
   "cell_type": "code",
   "execution_count": null,
   "metadata": {},
   "outputs": [],
   "source": [
    "derived_df[\"icu_occupancy\"] - ( derived_df[\"icu_occupancyXagegroup_0\"] \\\n",
    "                              + derived_df[\"icu_occupancyXagegroup_15\"] \\\n",
    "                              + derived_df[\"icu_occupancyXagegroup_25\"] \\\n",
    "                              + derived_df[\"icu_occupancyXagegroup_50\"] \\\n",
    "                              + derived_df[\"icu_occupancyXagegroup_60\"])"
   ]
  },
  {
   "cell_type": "code",
   "execution_count": null,
   "metadata": {},
   "outputs": [],
   "source": [
    "# Check that the functions that return hospital and ICU admissions and occupancy by age group \n",
    "# are equal to the total values\n",
    "# print false if there is no values in the different that is greater than 1e-10\n",
    "print((derived_df['hospital_admissions'] - derived_df.loc[:, ['hospital_admissionsXagegroup_0',\n",
    "                   'hospital_admissionsXagegroup_15',\n",
    "                   'hospital_admissionsXagegroup_25',\n",
    "                   'hospital_admissionsXagegroup_50',\n",
    "                   'hospital_admissionsXagegroup_60']].sum(axis=1) > 1e-10).any() == False)\n",
    "\n",
    "print((derived_df['hospital_occupancy'] - derived_df.loc[:, ['hospital_occupancyXagegroup_0',\n",
    "                   'hospital_occupancyXagegroup_15',\n",
    "                   'hospital_occupancyXagegroup_25',\n",
    "                   'hospital_occupancyXagegroup_50',\n",
    "                   'hospital_occupancyXagegroup_60']].sum(axis=1) > 1e-10).any() == False)\n",
    "\n",
    "print((derived_df['icu_admissions'] - derived_df.loc[:, ['icu_admissionsXagegroup_0',\n",
    "                   'icu_admissionsXagegroup_15',\n",
    "                   'icu_admissionsXagegroup_25',\n",
    "                   'icu_admissionsXagegroup_50',\n",
    "                   'icu_admissionsXagegroup_60']].sum(axis=1) > 1e-10).any() == False)\n",
    "\n",
    "print((derived_df['icu_occupancy'] - derived_df.loc[:, ['icu_occupancyXagegroup_0',\n",
    "                   'icu_occupancyXagegroup_15',\n",
    "                   'icu_occupancyXagegroup_25',\n",
    "                   'icu_occupancyXagegroup_50',\n",
    "                   'icu_occupancyXagegroup_60']].sum(axis=1) > 1e-10).any() == False)\n"
   ]
  },
  {
   "cell_type": "code",
   "execution_count": null,
   "metadata": {},
   "outputs": [],
   "source": [
    "derived_df"
   ]
  },
  {
   "cell_type": "code",
   "execution_count": null,
   "metadata": {},
   "outputs": [],
   "source": []
  }
 ],
 "metadata": {
  "kernelspec": {
   "display_name": "autumn310",
   "language": "python",
   "name": "autumn310"
  },
  "language_info": {
   "codemirror_mode": {
    "name": "ipython",
    "version": 3
   },
   "file_extension": ".py",
   "mimetype": "text/x-python",
   "name": "python",
   "nbconvert_exporter": "python",
   "pygments_lexer": "ipython3",
   "version": "3.10.4"
  }
 },
 "nbformat": 4,
 "nbformat_minor": 2
}
