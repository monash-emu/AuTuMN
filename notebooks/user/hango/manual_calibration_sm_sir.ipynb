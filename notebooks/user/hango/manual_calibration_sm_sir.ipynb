{
 "cells": [
  {
   "cell_type": "code",
   "execution_count": null,
   "metadata": {},
   "outputs": [],
   "source": [
    "from autumn.core.project import get_project\n",
    "from matplotlib import pyplot\n",
    "from autumn.core.plots.utils import REF_DATE\n",
    "# from autumn.calibration.targets import get_target_series\n",
    "import pandas as pd\n",
    "from autumn.core.utils.display import pretty_print\n",
    "\n",
    "from autumn.core.plots.uncertainty.plots import _get_target_values, _plot_targets_to_axis"
   ]
  },
  {
   "cell_type": "code",
   "execution_count": null,
   "metadata": {},
   "outputs": [],
   "source": [
    "project = get_project(\"sm_sir\", \"ho_chi_minh_city\")"
   ]
  },
  {
   "cell_type": "code",
   "execution_count": null,
   "metadata": {},
   "outputs": [],
   "source": [
    "update_params = {\n",
    "#     \"infectious_seed\": 1295.1147949397844,\n",
    "#     \"contact_rate\": 0.1525479317749325,\n",
    "#     \"sojourns.active.proportion_early\": 0.6,\n",
    "#     \"sojourns.latent.proportion_early\": 0.8,\n",
    "#     \"voc_emergence.omicron.hosp_protection\": 0.8,\n",
    "#     \"voc_emergence.omicron.relative_active_period\": 0.2,\n",
    "#     \"voc_emergence.omicron.relative_latency\": 0.2,\n",
    "#     \"voc_emergence.wild_type.relative_active_period\": 0.55,\n",
    "#     \"voc_emergence.wild_type.relative_latency\": 0.55,\n",
    "}\n",
    "params = project.param_set.baseline.update(update_params, calibration_format=True)\n"
   ]
  },
  {
   "cell_type": "code",
   "execution_count": null,
   "metadata": {},
   "outputs": [],
   "source": [
    "pretty_print(params)"
   ]
  },
  {
   "cell_type": "code",
   "execution_count": null,
   "metadata": {},
   "outputs": [],
   "source": [
    "model = project.run_baseline_model(params)\n",
    "derived_df = model.get_derived_outputs_df()"
   ]
  },
  {
   "cell_type": "code",
   "execution_count": null,
   "metadata": {},
   "outputs": [],
   "source": [
    "outputs = [\n",
    "#     \"notifications\", \n",
    "    \"hospital_occupancy\", \n",
    "#     \"infection_deaths\",\n",
    "    \"icu_occupancy\"\n",
    "] #, \"hospital_admissions\", \"hospital_occupancy\", \"icu_admissions\", \"icu_occupancy\"]\n",
    "for output in outputs:\n",
    "    fig = pyplot.figure(figsize=(12, 8))\n",
    "    pyplot.style.use(\"ggplot\")\n",
    "    axis = fig.add_subplot()\n",
    "\n",
    "    axis = derived_df[output].plot()\n",
    "    axis.set_title(output)\n",
    "    \n",
    "    if output in project.plots:\n",
    "        values, times = _get_target_values(project.plots, output)        \n",
    "        date_times = pd.to_datetime(times, origin=\"01Jan2020\",unit=\"D\") \n",
    "        _plot_targets_to_axis(axis, values, date_times, on_uncertainty_plot=True)\n",
    "\n"
   ]
  },
  {
   "cell_type": "code",
   "execution_count": null,
   "metadata": {},
   "outputs": [],
   "source": []
  }
 ],
 "metadata": {
  "kernelspec": {
   "display_name": "autumn310",
   "language": "python",
   "name": "autumn310"
  },
  "language_info": {
   "codemirror_mode": {
    "name": "ipython",
    "version": 3
   },
   "file_extension": ".py",
   "mimetype": "text/x-python",
   "name": "python",
   "nbconvert_exporter": "python",
   "pygments_lexer": "ipython3",
   "version": "3.10.4"
  }
 },
 "nbformat": 4,
 "nbformat_minor": 2
}
