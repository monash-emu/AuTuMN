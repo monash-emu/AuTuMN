{
 "cells": [
  {
   "cell_type": "code",
   "execution_count": null,
   "id": "a519f0ff",
   "metadata": {},
   "outputs": [],
   "source": [
    "import pandas as pd\n",
    "from matplotlib import pyplot as plt\n",
    "import datetime\n",
    "\n",
    "from summer.utils import ref_times_to_dti\n",
    "\n",
    "from autumn.tools.plots.utils import REF_DATE\n",
    "from autumn.tools.runs import ManagedRun\n",
    "from autumn.tools.runs.calibration.utils import get_posteriors\n",
    "from autumn.tools.utils.pandas import pdfilt\n",
    "from autumn.settings.region import Region"
   ]
  },
  {
   "cell_type": "markdown",
   "id": "f4d6a701",
   "metadata": {},
   "source": [
    "## Specify the runs of interest"
   ]
  },
  {
   "cell_type": "code",
   "execution_count": null,
   "id": "cc858728",
   "metadata": {},
   "outputs": [],
   "source": [
    "run_id = \"sm_sir/hanoi/1652924350/2e245b1\""
   ]
  },
  {
   "cell_type": "code",
   "execution_count": null,
   "id": "c71bdcd5",
   "metadata": {},
   "outputs": [],
   "source": [
    "mr = ManagedRun(run_id)"
   ]
  },
  {
   "cell_type": "code",
   "execution_count": null,
   "id": "7fdc61c6",
   "metadata": {},
   "outputs": [],
   "source": [
    "pbi = mr.powerbi.get_db()\n",
    "targets = pbi.get_targets()\n",
    "results = pbi.get_uncertainty()\n",
    "mcmc_params = mr.calibration.get_mcmc_params()"
   ]
  },
  {
   "cell_type": "code",
   "execution_count": null,
   "id": "cf3cc86e",
   "metadata": {},
   "outputs": [],
   "source": [
    "results.columns"
   ]
  },
  {
   "cell_type": "code",
   "execution_count": null,
   "id": "58f8c49b",
   "metadata": {},
   "outputs": [],
   "source": [
    "mcmc_params.columns"
   ]
  },
  {
   "cell_type": "markdown",
   "id": "f43a25ac",
   "metadata": {},
   "source": [
    "## Dictionaries for lookup and scenario definition"
   ]
  },
  {
   "cell_type": "code",
   "execution_count": null,
   "id": "2a49c8f7",
   "metadata": {},
   "outputs": [],
   "source": [
    "# calibrated parameters name lookup\n",
    "# param_lookup = {\n",
    "#     \"contact_rate\": \"infection risk per contact\",\n",
    "#     \"infectious_seed\": \"starting infectious population\",\n",
    "#     \"sojourn.compartment_periods_calculated.active.total_period\": \"active disease duration\",\n",
    "#     \"sojourn.compartment_periods_calculated.exposed.total_period\": \"incubation period\",\n",
    "#     \"testing_to_detection.assumed_cdr_parameter\": \"CDR at 1/10,000 daily testing rate\",\n",
    "#     \"mobility.microdistancing.behaviour.parameters.max_effect\": \"max effect of microdistancing behaviors\",\n",
    "#     \"clinical_stratification.props.hospital.multiplier\": \"relative multiplier of rate of admission to hospitals\",\n",
    "#     \"infection_fatality.multiplier\": \"relative multiplier to fatality rate\",\n",
    "#     \"clinical_stratification.icu_prop\": \"proportion of ICU admission from hospitalised patients\"\n",
    "# }\n",
    "\n",
    "param_lookup = {\n",
    "    \"age_stratification.cfr.multiplier\": \"CFR multiplier\",\n",
    "    \"age_stratification.prop_hospital.multiplier\": \"Hospital proportion multiplier\",\n",
    "    \"voc_emergence.omicron.contact_rate_multiplier\": \"Contact rate multiplier for Omicron\",\n",
    "    \"voc_emergence.omicron.new_voc_seed.start_time\": \"Starting time of Omicron emergence\"\n",
    "}\n",
    "\n",
    "# calibrated parameters unit lookup\n",
    "# unit_lookup = {\n",
    "#     \"contact_rate\": \"probability\",\n",
    "#     \"infectious_seed\": \"persons\",\n",
    "#     \"sojourn.compartment_periods_calculated.active.total_period\": \"days\",\n",
    "#     \"sojourn.compartment_periods_calculated.exposed.total_period\": \"days\",\n",
    "#     \"testing_to_detection.assumed_cdr_parameter\": \"proportion\",\n",
    "#     \"mobility.microdistancing.behaviour.parameters.max_effect\": \"proportion\",\n",
    "#     \"clinical_stratification.props.hospital.multiplier\": \"ratio\",\n",
    "#     \"infection_fatality.multiplier\": \"ratio\",\n",
    "#     \"clinical_stratification.icu_prop\": \"proportion\"\n",
    "# }\n",
    "\n",
    "unit_lookup = {\n",
    "    \"age_stratification.cfr.multiplier\": \"ratio\",\n",
    "    \"age_stratification.prop_hospital.multiplier\": \"ratio\",\n",
    "    \"voc_emergence.omicron.contact_rate_multiplier\": \"ratio\",\n",
    "    \"voc_emergence.omicron.new_voc_seed.start_time\": \"date\"\n",
    "}\n",
    "# derived output figure title lookup\n",
    "# title_lookup = {\n",
    "#     \"accum_deaths\": \"Cumulative number of COVID-19-specific fatalities\",\n",
    "#     \"cdr\": \"Case Detection Rate (in ratio)\",\n",
    "#     \"hospital_occupancy\": \"Total actually occupied hospital beds\",\n",
    "#     \"icu_occupancy\": \"Total actuall occupied beds for critical patients\",\n",
    "#     \"incidence\": \"Daily actual number of COVID-19 cases\",\n",
    "#     \"infection_deaths\": \"Daily number of COVID-19-specific fatalities\",\n",
    "#     \"notifications\": \"Daily number of registered cases\"\n",
    "# }\n",
    "\n",
    "title_lookup = {\n",
    "    \"cdr\": \"Case Detection Rate (in ratio)\",\n",
    "    \"hospital_occupancy\": \"Oxygen support bed occupancy\",\n",
    "    \"icu_occupancy\": \"Total actuall occupied beds for critical patients\",\n",
    "    \"incidence\": \"Daily actual number of COVID-19 cases\",\n",
    "    \"infection_deaths\": \"Daily number of COVID-19-specific fatalities\",\n",
    "    \"notifications\": \"Daily number of registered cases\"\n",
    "}"
   ]
  },
  {
   "cell_type": "code",
   "execution_count": null,
   "id": "2101087c",
   "metadata": {},
   "outputs": [],
   "source": [
    "# number of scenarios and their names(including baseline)\n",
    "# scenario_names = (\"Baseline\", \"Scenario 1\", \"Scenario 2\", \"Scenario 3\", \"Scenario 4\", \"Scenario 5\", \"Scenario 6\", \"Scenario 7\", \"Scenario 8\")\n",
    "# scenario_names = {0: \"Baseline scenario\",\n",
    "#                   1: \"Scenario 1\", \n",
    "#                   2: \"Scenario 2\",\n",
    "#                   3: \"Scenario 3\",\n",
    "#                   4: \"Scenario 4\",\n",
    "#                   5: \"Scenario 5\",\n",
    "#                   6: \"Scenario 1 - Late Booster\",\n",
    "#                   7: \"Scenario 2 - Late Booster\",\n",
    "#                   8: \"Scenario 3 - Late Booster\"}\n",
    "\n",
    "scenario_names = {\n",
    "    0: \"Baseline scenario\",\n",
    "    1: \"Scenario 1\",\n",
    "    2: \"Scenario 2\",\n",
    "    3: \"Scenario 3\"\n",
    "}\n",
    "n_scenarios = len(scenario_names)"
   ]
  },
  {
   "cell_type": "markdown",
   "id": "de44e293",
   "metadata": {},
   "source": [
    "## Display parameter posterior histograms"
   ]
  },
  {
   "cell_type": "code",
   "execution_count": null,
   "id": "5c44d516",
   "metadata": {},
   "outputs": [],
   "source": [
    "plt.style.use(\"ggplot\")\n",
    "\n",
    "fig, axes = plt.subplots(2, 2, figsize=(18, 18), sharey=\"all\")\n",
    "for i_ax, axis in enumerate(axes.reshape(-1)):\n",
    "    param = mcmc_params.columns[i_ax]\n",
    "    axis.hist(mcmc_params[param])\n",
    "    axis.set_title(param_lookup[param])\n",
    "    axis.set_xlabel(unit_lookup[param])\n",
    "    if i_ax % 2 == 0:\n",
    "        axis.set_ylabel(\"runs\")   \n",
    "fig.suptitle(\"parameter posterior histograms\", fontsize=15, y=1)\n",
    "fig.tight_layout()"
   ]
  },
  {
   "cell_type": "code",
   "execution_count": null,
   "id": "671701c6",
   "metadata": {},
   "outputs": [],
   "source": [
    "# display all derived outputs\n",
    "results.columns.levels[0]"
   ]
  },
  {
   "cell_type": "code",
   "execution_count": null,
   "id": "789b6953",
   "metadata": {},
   "outputs": [],
   "source": [
    "# calibration fits for notifications, ICU and deaths\n",
    "# dark shading - 50% confidence interval, light shading - 95% confidence interval\n",
    "fig, axes = plt.subplots(1, 2, figsize = (12, 5), sharex=\"all\")\n",
    "plot_left_date = datetime.date(2021, 11, 1)\n",
    "plot_right_date = datetime.date(2022 , 5, 18)\n",
    "colour = (0.2, 0.2, 0.8)\n",
    "outputs = (\"hospital_occupancy\", \"infection_deaths\")\n",
    "fig_names = (\"Oxygen support bed occupancy\", \"Number of daily confirmed fatalities\")\n",
    "for i_ax, axis in enumerate(axes.reshape(-1)):\n",
    "    if i_ax < len(outputs):\n",
    "        results_df = results[(outputs[i_ax], 0)][plot_left_date:plot_right_date]\n",
    "        indices = results_df.index\n",
    "        axis.scatter(targets.index, targets[outputs[i_ax]], color=\"k\", alpha=1., s=10)\n",
    "        axis.plot(indices, results_df[0.5], linewidth=1)\n",
    "        axis.fill_between(indices, results_df[0.025], results_df[0.975], color=colour, alpha=0.5)\n",
    "        axis.fill_between(indices, results_df[0.25], results_df[0.75], color=colour, alpha=0.7)\n",
    "        axis.set_title(fig_names[i_ax], fontsize=15)\n",
    "    axis.tick_params(axis=\"x\", labelrotation=45)\n",
    "    axis.set_xlim(left=plot_left_date)\n",
    "# fig.delaxes(axes[1][1])\n",
    "       \n",
    "fig.suptitle(\"Hanoi model calibration for oxygen support bed occupancy and deaths until 18th May 2022\", fontsize=18)\n",
    "fig.tight_layout()\n",
    "fig.savefig(\"./Hanoi_calibration_180522.png\")"
   ]
  },
  {
   "cell_type": "code",
   "execution_count": null,
   "id": "bc0ab88a",
   "metadata": {},
   "outputs": [],
   "source": [
    "def plot_all_scenarios_single_output(output):\n",
    "    plot_left_date = datetime.date(2021, 11, 1)\n",
    "    plot_right_date = datetime.date(2022, 11, 1)\n",
    "    start_date_scenarios = datetime.date(2022, 6, 1)\n",
    "    fig, axis = plt.subplots(1, 1, figsize=(15, 10))\n",
    "    plt.axvline(x=start_date_scenarios, linestyle=\"--\", color=\"k\")\n",
    "    plt.text(start_date_scenarios, 0.95, '2022-06-01 ', transform=axis.get_xaxis_transform(), ha=\"right\", va=\"top\", fontsize=12)\n",
    "    for scenario in scenario_names.keys():\n",
    "        if scenario == 0:\n",
    "            results_df = results[(output, scenario)][plot_left_date:plot_right_date]\n",
    "            indices = results_df.index\n",
    "            axis.plot(indices, results_df[0.5], label = scenario_names[scenario], linewidth=2)\n",
    "        else:\n",
    "            results_df = results[(output, scenario)][plot_left_date:plot_right_date]\n",
    "            indices = results_df.index\n",
    "            axis.plot(indices, results_df[0.5], label = scenario_names[scenario], linewidth=2)\n",
    "    \n",
    "    axis.tick_params(axis=\"x\", labelrotation=45)\n",
    "    axis.set_xlim(left=plot_left_date)\n",
    "    axis.set_title(f\"{title_lookup[output]} for all scenarios\", fontsize=16)\n",
    "    plt.legend(fontsize=10)\n",
    "    # fig.savefig(f\"./Hanoi_{output}_all_scenarios.png\")"
   ]
  },
  {
   "cell_type": "code",
   "execution_count": null,
   "id": "6fab3ef9",
   "metadata": {},
   "outputs": [],
   "source": [
    "for output in (\"hospital_occupancy\", \"infection_deaths\"):\n",
    "    plot_all_scenarios_single_output(output)"
   ]
  },
  {
   "cell_type": "code",
   "execution_count": null,
   "id": "30ae7b61",
   "metadata": {},
   "outputs": [],
   "source": [
    "def plot_all_outputs_all_scenarios():\n",
    "    plot_left_date = datetime.date(2021, 11, 1)\n",
    "    plot_right_date = datetime.date(2023, 1, 1)\n",
    "    start_date_scenarios = datetime.date(2022, 6, 1)\n",
    "    \n",
    "    outputs_to_plot = (\"hospital_occupancy\", \"infection_deaths\")\n",
    "    \n",
    "    fig, axes = plt.subplots(1, 2, figsize = (21, 7), sharex=\"all\")\n",
    "    fig.set_facecolor(\"w\")\n",
    "    \n",
    "    for i_ax, axis in enumerate(axes.reshape(-1)):\n",
    "        axis.axvline(x=start_date_scenarios, linestyle=\"--\", color=\"k\")\n",
    "        plt.text(start_date_scenarios, 0.95, '2022-06-01 ', transform=axis.get_xaxis_transform(), ha=\"right\", va=\"top\", fontsize=12)\n",
    "        for scenario in scenario_names.keys():\n",
    "            if scenario == 0:\n",
    "                # plot baseline before the first date of scenarios\n",
    "                results_df = results[(outputs_to_plot[i_ax], scenario)][plot_left_date:plot_right_date]\n",
    "                indices = results_df.index\n",
    "                axis.plot(indices, results_df[0.5], label=scenario_names[scenario], linewidth=2)\n",
    "            else:\n",
    "                results_df = results[(outputs_to_plot[i_ax], scenario)][start_date_scenarios:plot_right_date]\n",
    "                indices = results_df.index\n",
    "                axis.plot(indices, results_df[0.5], label=scenario_names[scenario], linewidth=2)\n",
    "        \n",
    "        axis.tick_params(axis=\"x\", labelrotation=45)\n",
    "        axis.set_xlim(left=plot_left_date)\n",
    "        axis.set_title(title_lookup[outputs_to_plot[i_ax]], fontsize=20)\n",
    "        axis.legend()\n",
    "    fig.suptitle(\"Hanoi modelling results of all scenarios up to 01st Jan 2023\", fontsize=21)\n",
    "    fig.savefig(\"./Hanoi_all_scens_all_outputs_2005.png\")\n",
    "        \n",
    "plot_all_outputs_all_scenarios()"
   ]
  },
  {
   "cell_type": "code",
   "execution_count": null,
   "id": "db892796",
   "metadata": {},
   "outputs": [],
   "source": [
    "def plot_all_outputs_chosen_scenarios(scenarios_to_plot, name_to_save):\n",
    "    plot_left_date = datetime.date(2021, 11, 1)\n",
    "    plot_right_date = datetime.date(2023, 1, 1)\n",
    "    start_date_scenarios = datetime.date(2022, 6, 1)\n",
    "    \n",
    "    outputs_to_plot = (\"hospital_occupancy\", \"infection_deaths\")\n",
    "    \n",
    "    fig, axes = plt.subplots(1, 2, figsize = (21, 7), sharex=\"all\")\n",
    "    fig.set_facecolor(\"w\")\n",
    "    \n",
    "    for i_ax, axis in enumerate(axes.reshape(-1)):\n",
    "        axis.axvline(x=start_date_scenarios, linestyle=\"--\", color=\"k\")\n",
    "        plt.text(start_date_scenarios, 0.95, '2022-06-01 ', transform=axis.get_xaxis_transform(), ha=\"right\", va=\"top\", fontsize=12)\n",
    "        # plot baseline before the first date of scenarios\n",
    "        results_df = results[(outputs_to_plot[i_ax], 0)][plot_left_date:start_date_scenarios]\n",
    "        indices = results_df.index\n",
    "        axis.plot(indices, results_df[0.5], linewidth=2)\n",
    "        for scenario in scenarios_to_plot:\n",
    "            results_df = results[(outputs_to_plot[i_ax], scenario)][plot_left_date:plot_right_date]\n",
    "            indices = results_df.index\n",
    "            axis.plot(indices, results_df[0.5], label = scenario_names[scenario], linewidth=2)\n",
    "        \n",
    "        axis.tick_params(axis=\"x\", labelrotation=45)\n",
    "        axis.set_xlim(left=plot_left_date)\n",
    "        axis.set_title(title_lookup[outputs_to_plot[i_ax]], fontsize=20)\n",
    "        axis.legend()\n",
    "    \n",
    "    fig.suptitle(name_to_save, fontsize=25)\n",
    "    # fig.savefig(f\"./Hanoi_scens_{scenarios_to_plot}_all_outputs.png\")"
   ]
  },
  {
   "cell_type": "code",
   "execution_count": null,
   "id": "dd407d19",
   "metadata": {},
   "outputs": [],
   "source": [
    "def plot_icu_deaths_chosen_scenarios(scenarios_to_plot, name_to_save):\n",
    "    plot_left_date = datetime.date(2021, 11, 1)\n",
    "    plot_right_date = datetime.date(2023, 1, 1)\n",
    "    start_date_scenarios = datetime.date(2022, 6, 1)\n",
    "    \n",
    "    outputs_to_plot = (\"hospital_occupancy\", \"infection_deaths\")\n",
    "    \n",
    "    fig, axes = plt.subplots(1, 2, figsize = (21, 7), sharex=\"all\")\n",
    "    fig.set_facecolor(\"w\")\n",
    "    \n",
    "    for i_ax, axis in enumerate(axes.reshape(-1)):\n",
    "        axis.axvline(x=start_date_scenarios, linestyle=\"--\", color=\"k\")\n",
    "        plt.text(start_date_scenarios, 0.95, '2022-06-01 ', transform=axis.get_xaxis_transform(), ha=\"right\", va=\"top\", fontsize=12)\n",
    "        # plot baseline before the first date of scenarios\n",
    "        results_df = results[(outputs_to_plot[i_ax], 0)][plot_left_date:start_date_scenarios]\n",
    "        indices = results_df.index\n",
    "        axis.plot(indices, results_df[0.5], linewidth=2)\n",
    "        for scenario in scenarios_to_plot:\n",
    "            results_df = results[(outputs_to_plot[i_ax], scenario)][plot_left_date:plot_right_date]\n",
    "            indices = results_df.index\n",
    "            axis.plot(indices, results_df[0.5], label = scenario_names[scenario], linewidth=2)\n",
    "        \n",
    "        axis.tick_params(axis=\"x\", labelrotation=45)\n",
    "        axis.set_xlim(left=plot_left_date)\n",
    "        axis.set_title(title_lookup[outputs_to_plot[i_ax]], fontsize=15)\n",
    "        axis.legend()\n",
    "    \n",
    "    fig.suptitle(name_to_save, fontsize=20)\n",
    "    fig.savefig(f\"./Hanoi_icu_deaths_scens_{scenarios_to_plot}_all_outputs.png\")"
   ]
  },
  {
   "cell_type": "code",
   "execution_count": null,
   "id": "cfc90da4",
   "metadata": {},
   "outputs": [],
   "source": [
    "plot_all_outputs_chosen_scenarios([2, 3], \"Hanoi modelling results for models 2 and 3\")"
   ]
  },
  {
   "cell_type": "markdown",
   "id": "bd41f42a",
   "metadata": {},
   "source": [
    "## Print all necessary epidemiological information of a scenario"
   ]
  },
  {
   "cell_type": "code",
   "execution_count": null,
   "id": "b492be5e",
   "metadata": {},
   "outputs": [],
   "source": [
    "# note that scenarios are numbered from 0 for baseline, and 1, 2, 3, etc. onwards\n",
    "start_date_scenarios = \"2022-06-01\"\n",
    "end_date_scenarios = \"2023-01-01\"\n",
    "def print_epi_info(scenario):\n",
    "    print(\"From {} to {}, for {}:\".format(start_date_scenarios, end_date_scenarios, scenario_names[scenario]))\n",
    "    print(\"\\b The cumulative number of fatalities of scenario {} within this time frame is {}.\".format(scenario, \n",
    "           round(results[(\"accum_deaths\", scenario)][0.5][end_date_scenarios] - results[(\"accum_deaths\", scenario)][0.5][start_date_scenarios])))\n",
    "    print(\"\\b The necessary number of hospital beds needed to fulfill the occupancy is {}.\"\n",
    "          .format(round(max(results[(\"hospital_occupancy\", scenario)][0.5][start_date_scenarios:end_date_scenarios]))))\n",
    "    print(\"\\b The necessary number of ICU beds needed to fulfill the occupancy is {}.\"\n",
    "          .format(round(max(results[(\"icu_occupancy\", scenario)][0.5][start_date_scenarios:end_date_scenarios]))))\n",
    "    print(\"\\b The maximum number of incidence cases (including asymptomatic and undetected cases) is {}.\"\n",
    "          .format(round(max(results[(\"incidence\", scenario)][0.5][start_date_scenarios:end_date_scenarios]))))\n",
    "    print(\"\\b The maximum number of daily COVID-19-specific fatalities is {}.\"\n",
    "          .format(round(max(results[(\"infection_deaths\", scenario)][0.5][start_date_scenarios:end_date_scenarios]))))\n",
    "    print(\"\\b The maximum number of daily COVID-19 registered cases is {}.\"\n",
    "          .format(round(max(results[(\"notifications\", scenario)][0.5][start_date_scenarios:end_date_scenarios]))))\n",
    "    print(\"\\b The total number of daily COVID-19 registered cases is {}.\"\n",
    "          .format(round(sum(results[(\"notifications\", scenario)][0.5][start_date_scenarios:end_date_scenarios]))))\n",
    "    \n",
    "def print_short_epi_info(scenario):\n",
    "    print(\"From {} to {}, for {}:\".format(start_date_scenarios, end_date_scenarios, scenario_names[scenario]))\n",
    "    max_hosp_occupancy = round(max(results[(\"hospital_occupancy\", scenario)][0.5][\"2022-06-01\":\"2023-01-01\"]))\n",
    "    print(\"\\b The necessary number of hospital beds needed to fulfill the occupancy is {}.\".format(max_hosp_occupancy))\n",
    "    sum_deaths = round(sum(results[(\"infection_deaths\", scenario)][0.5][\"2022-06-01\":\"2023-01-01\"]))\n",
    "    print(\"\\b The cumulative number of fatalities within this time frame is {}.\".format(sum_deaths))\n",
    "    "
   ]
  },
  {
   "cell_type": "code",
   "execution_count": null,
   "id": "e9bee3f4",
   "metadata": {},
   "outputs": [],
   "source": [
    "for i in scenario_names.keys():\n",
    "    print_short_epi_info(i)"
   ]
  }
 ],
 "metadata": {
  "kernelspec": {
   "display_name": "autumn310",
   "language": "python",
   "name": "autumn310"
  },
  "language_info": {
   "codemirror_mode": {
    "name": "ipython",
    "version": 3
   },
   "file_extension": ".py",
   "mimetype": "text/x-python",
   "name": "python",
   "nbconvert_exporter": "python",
   "pygments_lexer": "ipython3",
   "version": "3.10.4"
  }
 },
 "nbformat": 4,
 "nbformat_minor": 5
}
