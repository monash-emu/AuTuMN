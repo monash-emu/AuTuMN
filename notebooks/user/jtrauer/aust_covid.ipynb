{
 "cells": [
  {
   "cell_type": "markdown",
   "id": "ce1b3dae-c46a-442b-a590-a2036f8b3af4",
   "metadata": {},
   "source": [
    "Data from https://github.com/M3IT/COVID-19_Data/raw/master/Data/COVID_AU_state.csv\n",
    "and saved in `aust_covid` folder."
   ]
  },
  {
   "cell_type": "code",
   "execution_count": null,
   "id": "68bc1a4b-007d-40d2-90d5-f56b194751c9",
   "metadata": {},
   "outputs": [],
   "source": [
    "import pandas as pd\n",
    "pd.options.plotting.backend = \"plotly\"\n",
    "import plotly.express as px\n",
    "from datetime import datetime\n",
    "import arviz as az\n",
    "\n",
    "from summer2 import CompartmentalModel\n",
    "from summer2.parameters import Parameter, DerivedOutput\n",
    "from summer2.utils import ref_times_to_dti\n",
    "\n",
    "from estival.calibration.mcmc.adaptive import AdaptiveChain\n",
    "from estival.priors import UniformPrior\n",
    "from estival.targets import NegativeBinomialTarget"
   ]
  },
  {
   "cell_type": "code",
   "execution_count": null,
   "id": "640f11ba-1097-4e97-8d9b-c74329e21b9f",
   "metadata": {},
   "outputs": [],
   "source": [
    "# Process the observations\n",
    "state_data = pd.read_csv(\n",
    "    \"./aust_covid/COVID_AU_state.csv\", \n",
    "    index_col=\"date\",\n",
    ")\n",
    "state_data.index = pd.to_datetime(state_data.index)\n",
    "aust_cases = state_data.groupby(state_data.index)[\"confirmed\"].sum()\n",
    "smoothed_aust_cases = aust_cases.rolling(7).mean()"
   ]
  },
  {
   "cell_type": "code",
   "execution_count": null,
   "id": "56d10801-4a0c-49a4-bcd7-dce666d3603e",
   "metadata": {},
   "outputs": [],
   "source": [
    "def build_aust_model() -> CompartmentalModel:\n",
    "    model = CompartmentalModel(\n",
    "        times=(600, 800),\n",
    "        compartments=(\n",
    "            \"susceptible\",\n",
    "            \"infectious\",\n",
    "            \"recovered\",\n",
    "        ),\n",
    "        infectious_compartments=(\"infectious\",),\n",
    "        ref_date=datetime(2019, 12, 31),\n",
    "    )\n",
    "    model.set_initial_population(\n",
    "        {\n",
    "            \"susceptible\": 2.6e7,\n",
    "            \"infectious\": 1.0,\n",
    "        }\n",
    "    )\n",
    "    model.add_infection_frequency_flow(\n",
    "        \"infection\",\n",
    "        Parameter(\"contact_rate\"),\n",
    "        \"susceptible\",\n",
    "        \"infectious\",\n",
    "    )\n",
    "    model.add_transition_flow(\n",
    "        \"recovery\",\n",
    "        1.0 / Parameter(\"infectious_period\"),\n",
    "        \"infectious\",\n",
    "        \"recovered\",\n",
    "    )\n",
    "\n",
    "    model.request_output_for_flow(\n",
    "        \"onset\",\n",
    "        \"infection\",\n",
    "    )\n",
    "    model.request_function_output(\n",
    "        \"notifications\",\n",
    "        func=DerivedOutput(\"onset\") * Parameter(\"cdr\"),\n",
    "    )\n",
    "    \n",
    "    return model"
   ]
  },
  {
   "cell_type": "code",
   "execution_count": null,
   "id": "46382c88-c458-4ad2-989a-7e51be48af40",
   "metadata": {},
   "outputs": [],
   "source": [
    "parameters = {\n",
    "    \"contact_rate\": 0.3,\n",
    "    \"infectious_period\": 5.0,\n",
    "    \"cdr\": 0.2,\n",
    "}\n",
    "aust_model = build_aust_model()\n",
    "aust_model.run(parameters=parameters)"
   ]
  },
  {
   "cell_type": "code",
   "execution_count": null,
   "id": "7375f4ef-8d26-4098-80ec-9b9592835e52",
   "metadata": {},
   "outputs": [],
   "source": [
    "outputs = aust_model.get_derived_outputs_df()"
   ]
  },
  {
   "cell_type": "code",
   "execution_count": null,
   "id": "75b81cfb-7f3d-4b0d-9fa3-300518f94e04",
   "metadata": {},
   "outputs": [],
   "source": [
    "comparison_df = pd.concat(\n",
    "    (\n",
    "        smoothed_aust_cases, \n",
    "        outputs[\"notifications\"],\n",
    "    ), \n",
    "    axis=1,\n",
    ")"
   ]
  },
  {
   "cell_type": "code",
   "execution_count": null,
   "id": "41b3f7e4-0831-44a3-9732-99ac9d4b344a",
   "metadata": {},
   "outputs": [],
   "source": [
    "comparison_df.plot()"
   ]
  },
  {
   "cell_type": "code",
   "execution_count": null,
   "id": "a97fcd27-84e0-4449-873c-dc943b123e83",
   "metadata": {},
   "outputs": [],
   "source": [
    "priors = [\n",
    "    UniformPrior(\"contact_rate\", (0.1, 0.5)),\n",
    "    UniformPrior(\"infectious_period\", (4.0, 8.0)),\n",
    "]\n",
    "targets = [\n",
    "    NegativeBinomialTarget(\"notifications\", smoothed_aust_cases.dropna(), 500.0),\n",
    "]"
   ]
  },
  {
   "cell_type": "code",
   "execution_count": null,
   "id": "1161c9fe-61ea-451e-85c8-ff7067f13cde",
   "metadata": {},
   "outputs": [],
   "source": [
    "uncertainty_analysis = AdaptiveChain(build_aust_model, parameters, priors, targets, parameters)"
   ]
  },
  {
   "cell_type": "code",
   "execution_count": null,
   "id": "f346cf87-f93b-4d5e-ad8e-0162be40ad99",
   "metadata": {},
   "outputs": [],
   "source": [
    "uncertainty_analysis.run(max_iter=10000)"
   ]
  },
  {
   "cell_type": "code",
   "execution_count": null,
   "id": "f3d7a331-60e0-4ff3-a362-d2e0d3994b4d",
   "metadata": {},
   "outputs": [],
   "source": [
    "uncertainty_outputs = uncertainty_analysis.to_arviz(1000)"
   ]
  },
  {
   "cell_type": "code",
   "execution_count": null,
   "id": "a7a2584f-3643-43e8-8ffa-395452b10a45",
   "metadata": {},
   "outputs": [],
   "source": [
    "az.plot_trace(\n",
    "    uncertainty_outputs,\n",
    "    figsize=(16, 12),\n",
    ");"
   ]
  }
 ],
 "metadata": {
  "kernelspec": {
   "display_name": "Python 3 (ipykernel)",
   "language": "python",
   "name": "python3"
  },
  "language_info": {
   "codemirror_mode": {
    "name": "ipython",
    "version": 3
   },
   "file_extension": ".py",
   "mimetype": "text/x-python",
   "name": "python",
   "nbconvert_exporter": "python",
   "pygments_lexer": "ipython3",
   "version": "3.10.3"
  }
 },
 "nbformat": 4,
 "nbformat_minor": 5
}
