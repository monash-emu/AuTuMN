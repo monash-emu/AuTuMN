{
 "cells": [
  {
   "cell_type": "markdown",
   "id": "ce1b3dae-c46a-442b-a590-a2036f8b3af4",
   "metadata": {},
   "source": [
    "Data from https://github.com/M3IT/COVID-19_Data/raw/master/Data/COVID_AU_state.csv\n",
    "and saved in `aust_covid` folder."
   ]
  },
  {
   "cell_type": "code",
   "execution_count": null,
   "id": "68bc1a4b-007d-40d2-90d5-f56b194751c9",
   "metadata": {},
   "outputs": [],
   "source": [
    "import pandas as pd\n",
    "pd.options.plotting.backend = \"plotly\"\n",
    "import plotly.express as px\n",
    "from datetime import datetime\n",
    "\n",
    "from summer2 import CompartmentalModel\n",
    "from summer2.parameters import Parameter, DerivedOutput\n",
    "from summer2.utils import ref_times_to_dti"
   ]
  },
  {
   "cell_type": "code",
   "execution_count": null,
   "id": "640f11ba-1097-4e97-8d9b-c74329e21b9f",
   "metadata": {},
   "outputs": [],
   "source": [
    "state_data = pd.read_csv(\n",
    "    \"./aust_covid/COVID_AU_state.csv\", \n",
    "    index_col=\"date\",\n",
    ")\n",
    "state_data.index = pd.to_datetime(state_data.index)\n",
    "ref_date = datetime(2019, 12, 31)"
   ]
  },
  {
   "cell_type": "code",
   "execution_count": null,
   "id": "56d10801-4a0c-49a4-bcd7-dce666d3603e",
   "metadata": {},
   "outputs": [],
   "source": [
    "model = CompartmentalModel(\n",
    "    times=(600, 800),\n",
    "    compartments=(\n",
    "        \"susceptible\",\n",
    "        \"infectious\",\n",
    "        \"recovered\",\n",
    "    ),\n",
    "    infectious_compartments=(\"infectious\",),\n",
    ")\n",
    "model.set_initial_population(\n",
    "    {\n",
    "        \"susceptible\": 2.6e7,\n",
    "        \"infectious\": 1.0,\n",
    "    }\n",
    ")\n",
    "model.add_infection_frequency_flow(\n",
    "    \"infection\",\n",
    "    Parameter(\"contact_rate\"),\n",
    "    \"susceptible\",\n",
    "    \"infectious\",\n",
    ")\n",
    "model.add_transition_flow(\n",
    "    \"recovery\",\n",
    "    1.0 / Parameter(\"infectious_period\"),\n",
    "    \"infectious\",\n",
    "    \"recovered\",\n",
    ")\n",
    "\n",
    "model.request_output_for_flow(\n",
    "    \"onset\",\n",
    "    \"infection\",\n",
    ")\n",
    "model.request_function_output(\n",
    "    \"notifications\",\n",
    "    func=DerivedOutput(\"onset\") * Parameter(\"cdr\"),\n",
    ")"
   ]
  },
  {
   "cell_type": "code",
   "execution_count": null,
   "id": "46382c88-c458-4ad2-989a-7e51be48af40",
   "metadata": {},
   "outputs": [],
   "source": [
    "parameters = {\n",
    "    \"contact_rate\": 0.3,\n",
    "    \"infectious_period\": 5.0,\n",
    "    \"cdr\": 0.3,\n",
    "}\n",
    "model.run(parameters=parameters)"
   ]
  },
  {
   "cell_type": "code",
   "execution_count": null,
   "id": "7375f4ef-8d26-4098-80ec-9b9592835e52",
   "metadata": {},
   "outputs": [],
   "source": [
    "outputs = model.get_derived_outputs_df()\n",
    "outputs.index = ref_times_to_dti(\n",
    "    ref_date, \n",
    "    outputs.index,\n",
    ")"
   ]
  },
  {
   "cell_type": "code",
   "execution_count": null,
   "id": "75b81cfb-7f3d-4b0d-9fa3-300518f94e04",
   "metadata": {},
   "outputs": [],
   "source": [
    "comparison_df = pd.concat(\n",
    "    (\n",
    "        state_data[\"confirmed\"], \n",
    "        outputs[\"notifications\"],\n",
    "    ), \n",
    "    axis=1,\n",
    ")"
   ]
  },
  {
   "cell_type": "code",
   "execution_count": null,
   "id": "b9009f15-4155-4868-b069-c28afe54942f",
   "metadata": {},
   "outputs": [],
   "source": [
    "comparison_df.plot()"
   ]
  }
 ],
 "metadata": {
  "kernelspec": {
   "display_name": "Python 3 (ipykernel)",
   "language": "python",
   "name": "python3"
  },
  "language_info": {
   "codemirror_mode": {
    "name": "ipython",
    "version": 3
   },
   "file_extension": ".py",
   "mimetype": "text/x-python",
   "name": "python",
   "nbconvert_exporter": "python",
   "pygments_lexer": "ipython3",
   "version": "3.10.3"
  }
 },
 "nbformat": 4,
 "nbformat_minor": 5
}
