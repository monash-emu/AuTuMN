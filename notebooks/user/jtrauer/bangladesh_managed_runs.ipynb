{
 "cells": [
  {
   "cell_type": "code",
   "execution_count": 1,
   "id": "casual-nightlife",
   "metadata": {},
   "outputs": [],
   "source": [
    "import pandas as pd\n",
    "from matplotlib import pyplot as plt\n",
    "import datetime\n",
    "\n",
    "from summer.utils import ref_times_to_dti\n",
    "\n",
    "from autumn.tools.plots.utils import REF_DATE\n",
    "from autumn.tools.runs import ManagedRun\n",
    "from autumn.tools.runs.calibration.utils import get_posteriors\n",
    "from autumn.tools.utils.pandas import pdfilt\n",
    "from autumn.settings.region import Region"
   ]
  },
  {
   "cell_type": "markdown",
   "id": "f1049ee1",
   "metadata": {},
   "source": [
    "## Specify the runs of interest"
   ]
  },
  {
   "cell_type": "code",
   "execution_count": 5,
   "id": "mental-queensland",
   "metadata": {},
   "outputs": [],
   "source": [
    "run_id = \"sm_sir/bangladesh/1644809465/c288492\""
   ]
  },
  {
   "cell_type": "code",
   "execution_count": 6,
   "id": "perceived-tracker",
   "metadata": {},
   "outputs": [],
   "source": [
    "mr = ManagedRun(run_id)"
   ]
  },
  {
   "cell_type": "code",
   "execution_count": 7,
   "id": "e54e2753",
   "metadata": {},
   "outputs": [
    {
     "ename": "FileNotFoundError",
     "evalue": "[WinError 3] The system cannot find the path specified: 'c:\\\\users\\\\jtrauer\\\\pycharmprojects\\\\autumn\\\\data\\\\outputs\\\\runs\\\\sm_sir\\\\bangladesh\\\\1644809465\\\\c288492\\\\data\\\\full_model_runs'",
     "output_type": "error",
     "traceback": [
      "\u001b[1;31m---------------------------------------------------------------------------\u001b[0m",
      "\u001b[1;31mFileNotFoundError\u001b[0m                         Traceback (most recent call last)",
      "\u001b[1;32mc:\\users\\jtrauer\\pycharmprojects\\autumn\\autumn\\tools\\runs\\full.py\u001b[0m in \u001b[0;36m_collate\u001b[1;34m(self, auto_download)\u001b[0m\n\u001b[0;32m     51\u001b[0m         \u001b[1;32mtry\u001b[0m\u001b[1;33m:\u001b[0m\u001b[1;33m\u001b[0m\u001b[1;33m\u001b[0m\u001b[0m\n\u001b[1;32m---> 52\u001b[1;33m             \u001b[0mdatabase_paths\u001b[0m \u001b[1;33m=\u001b[0m \u001b[0mdb\u001b[0m\u001b[1;33m.\u001b[0m\u001b[0mload\u001b[0m\u001b[1;33m.\u001b[0m\u001b[0mfind_db_paths\u001b[0m\u001b[1;33m(\u001b[0m\u001b[0mstr\u001b[0m\u001b[1;33m(\u001b[0m\u001b[0mself\u001b[0m\u001b[1;33m.\u001b[0m\u001b[0mlocal_path\u001b[0m\u001b[1;33m)\u001b[0m\u001b[1;33m)\u001b[0m\u001b[1;33m\u001b[0m\u001b[1;33m\u001b[0m\u001b[0m\n\u001b[0m\u001b[0;32m     53\u001b[0m         \u001b[1;32mexcept\u001b[0m\u001b[1;33m:\u001b[0m\u001b[1;33m\u001b[0m\u001b[1;33m\u001b[0m\u001b[0m\n",
      "\u001b[1;32mc:\\users\\jtrauer\\pycharmprojects\\autumn\\autumn\\tools\\db\\load.py\u001b[0m in \u001b[0;36mfind_db_paths\u001b[1;34m(dirpath)\u001b[0m\n\u001b[0;32m    121\u001b[0m     \u001b[0mdb_paths\u001b[0m \u001b[1;33m=\u001b[0m \u001b[1;33m[\u001b[0m\u001b[1;33m]\u001b[0m\u001b[1;33m\u001b[0m\u001b[1;33m\u001b[0m\u001b[0m\n\u001b[1;32m--> 122\u001b[1;33m     \u001b[1;32mfor\u001b[0m \u001b[0mfname\u001b[0m \u001b[1;32min\u001b[0m \u001b[0mos\u001b[0m\u001b[1;33m.\u001b[0m\u001b[0mlistdir\u001b[0m\u001b[1;33m(\u001b[0m\u001b[0mdirpath\u001b[0m\u001b[1;33m)\u001b[0m\u001b[1;33m:\u001b[0m\u001b[1;33m\u001b[0m\u001b[1;33m\u001b[0m\u001b[0m\n\u001b[0m\u001b[0;32m    123\u001b[0m         \u001b[1;32mif\u001b[0m \u001b[0mfname\u001b[0m\u001b[1;33m.\u001b[0m\u001b[0mstartswith\u001b[0m\u001b[1;33m(\u001b[0m\u001b[1;34m\"outputs\"\u001b[0m\u001b[1;33m)\u001b[0m \u001b[1;32mor\u001b[0m \u001b[0mfname\u001b[0m\u001b[1;33m.\u001b[0m\u001b[0mstartswith\u001b[0m\u001b[1;33m(\u001b[0m\u001b[1;34m\"chain\"\u001b[0m\u001b[1;33m)\u001b[0m \u001b[1;32mor\u001b[0m \u001b[0mfname\u001b[0m\u001b[1;33m.\u001b[0m\u001b[0mstartswith\u001b[0m\u001b[1;33m(\u001b[0m\u001b[1;34m\"powerbi\"\u001b[0m\u001b[1;33m)\u001b[0m\u001b[1;33m:\u001b[0m\u001b[1;33m\u001b[0m\u001b[1;33m\u001b[0m\u001b[0m\n",
      "\u001b[1;31mFileNotFoundError\u001b[0m: [WinError 3] The system cannot find the path specified: 'c:\\\\users\\\\jtrauer\\\\pycharmprojects\\\\autumn\\\\data\\\\outputs\\\\runs\\\\sm_sir\\\\bangladesh\\\\1644809465\\\\c288492\\\\data\\\\full_model_runs'",
      "\nDuring handling of the above exception, another exception occurred:\n",
      "\u001b[1;31mFileNotFoundError\u001b[0m                         Traceback (most recent call last)",
      "\u001b[1;32m<ipython-input-7-69c725b24ec6>\u001b[0m in \u001b[0;36m<module>\u001b[1;34m\u001b[0m\n\u001b[1;32m----> 1\u001b[1;33m \u001b[0mfull_run\u001b[0m \u001b[1;33m=\u001b[0m \u001b[0mmr\u001b[0m\u001b[1;33m.\u001b[0m\u001b[0mfull_run\u001b[0m\u001b[1;33m.\u001b[0m\u001b[0mget_derived_outputs\u001b[0m\u001b[1;33m(\u001b[0m\u001b[1;33m)\u001b[0m\u001b[1;33m\u001b[0m\u001b[1;33m\u001b[0m\u001b[0m\n\u001b[0m\u001b[0;32m      2\u001b[0m \u001b[0mpbi\u001b[0m \u001b[1;33m=\u001b[0m \u001b[0mmr\u001b[0m\u001b[1;33m.\u001b[0m\u001b[0mpowerbi\u001b[0m\u001b[1;33m.\u001b[0m\u001b[0mget_db\u001b[0m\u001b[1;33m(\u001b[0m\u001b[1;33m)\u001b[0m\u001b[1;33m\u001b[0m\u001b[1;33m\u001b[0m\u001b[0m\n\u001b[0;32m      3\u001b[0m \u001b[0mtargets\u001b[0m \u001b[1;33m=\u001b[0m \u001b[0mpbi\u001b[0m\u001b[1;33m.\u001b[0m\u001b[0mget_targets\u001b[0m\u001b[1;33m(\u001b[0m\u001b[1;33m)\u001b[0m\u001b[1;33m\u001b[0m\u001b[1;33m\u001b[0m\u001b[0m\n\u001b[0;32m      4\u001b[0m \u001b[0mresults\u001b[0m \u001b[1;33m=\u001b[0m \u001b[0mpbi\u001b[0m\u001b[1;33m.\u001b[0m\u001b[0mget_uncertainty\u001b[0m\u001b[1;33m(\u001b[0m\u001b[1;33m)\u001b[0m\u001b[1;33m\u001b[0m\u001b[1;33m\u001b[0m\u001b[0m\n\u001b[0;32m      5\u001b[0m \u001b[0mmcmc_params\u001b[0m \u001b[1;33m=\u001b[0m \u001b[0mmr\u001b[0m\u001b[1;33m.\u001b[0m\u001b[0mcalibration\u001b[0m\u001b[1;33m.\u001b[0m\u001b[0mget_mcmc_params\u001b[0m\u001b[1;33m(\u001b[0m\u001b[1;33m)\u001b[0m\u001b[1;33m\u001b[0m\u001b[1;33m\u001b[0m\u001b[0m\n",
      "\u001b[1;32mc:\\users\\jtrauer\\pycharmprojects\\autumn\\autumn\\tools\\runs\\full.py\u001b[0m in \u001b[0;36mget_derived_outputs\u001b[1;34m(self, auto_download)\u001b[0m\n\u001b[0;32m     44\u001b[0m         \u001b[1;32mif\u001b[0m \u001b[0mself\u001b[0m\u001b[1;33m.\u001b[0m\u001b[0m_collated_db\u001b[0m \u001b[1;32mis\u001b[0m \u001b[1;32mNone\u001b[0m\u001b[1;33m:\u001b[0m\u001b[1;33m\u001b[0m\u001b[1;33m\u001b[0m\u001b[0m\n\u001b[0;32m     45\u001b[0m             \u001b[1;32mif\u001b[0m \u001b[1;32mnot\u001b[0m \u001b[0mdb_path\u001b[0m\u001b[1;33m.\u001b[0m\u001b[0mexists\u001b[0m\u001b[1;33m(\u001b[0m\u001b[1;33m)\u001b[0m\u001b[1;33m:\u001b[0m\u001b[1;33m\u001b[0m\u001b[1;33m\u001b[0m\u001b[0m\n\u001b[1;32m---> 46\u001b[1;33m                 \u001b[0mself\u001b[0m\u001b[1;33m.\u001b[0m\u001b[0m_collate\u001b[0m\u001b[1;33m(\u001b[0m\u001b[0mauto_download\u001b[0m\u001b[1;33m)\u001b[0m\u001b[1;33m\u001b[0m\u001b[1;33m\u001b[0m\u001b[0m\n\u001b[0m\u001b[0;32m     47\u001b[0m             \u001b[0mself\u001b[0m\u001b[1;33m.\u001b[0m\u001b[0m_collated_db\u001b[0m \u001b[1;33m=\u001b[0m \u001b[0mdb\u001b[0m\u001b[1;33m.\u001b[0m\u001b[0mget_database\u001b[0m\u001b[1;33m(\u001b[0m\u001b[0mstr\u001b[0m\u001b[1;33m(\u001b[0m\u001b[0mdb_path\u001b[0m\u001b[1;33m)\u001b[0m\u001b[1;33m)\u001b[0m\u001b[1;33m\u001b[0m\u001b[1;33m\u001b[0m\u001b[0m\n\u001b[0;32m     48\u001b[0m         \u001b[1;32mreturn\u001b[0m \u001b[0mself\u001b[0m\u001b[1;33m.\u001b[0m\u001b[0m_collated_db\u001b[0m\u001b[1;33m.\u001b[0m\u001b[0mquery\u001b[0m\u001b[1;33m(\u001b[0m\u001b[1;34m'derived_outputs'\u001b[0m\u001b[1;33m)\u001b[0m\u001b[1;33m\u001b[0m\u001b[1;33m\u001b[0m\u001b[0m\n",
      "\u001b[1;32mc:\\users\\jtrauer\\pycharmprojects\\autumn\\autumn\\tools\\runs\\full.py\u001b[0m in \u001b[0;36m_collate\u001b[1;34m(self, auto_download)\u001b[0m\n\u001b[0;32m     54\u001b[0m             \u001b[1;32mif\u001b[0m \u001b[0mauto_download\u001b[0m\u001b[1;33m:\u001b[0m\u001b[1;33m\u001b[0m\u001b[1;33m\u001b[0m\u001b[0m\n\u001b[0;32m     55\u001b[0m                 \u001b[0mself\u001b[0m\u001b[1;33m.\u001b[0m\u001b[0mdownload_outputs\u001b[0m\u001b[1;33m(\u001b[0m\u001b[1;33m)\u001b[0m\u001b[1;33m\u001b[0m\u001b[1;33m\u001b[0m\u001b[0m\n\u001b[1;32m---> 56\u001b[1;33m                 \u001b[0mdatabase_paths\u001b[0m \u001b[1;33m=\u001b[0m \u001b[0mdb\u001b[0m\u001b[1;33m.\u001b[0m\u001b[0mload\u001b[0m\u001b[1;33m.\u001b[0m\u001b[0mfind_db_paths\u001b[0m\u001b[1;33m(\u001b[0m\u001b[0mstr\u001b[0m\u001b[1;33m(\u001b[0m\u001b[0mself\u001b[0m\u001b[1;33m.\u001b[0m\u001b[0mlocal_path\u001b[0m\u001b[1;33m)\u001b[0m\u001b[1;33m)\u001b[0m\u001b[1;33m\u001b[0m\u001b[1;33m\u001b[0m\u001b[0m\n\u001b[0m\u001b[0;32m     57\u001b[0m             \u001b[1;32melse\u001b[0m\u001b[1;33m:\u001b[0m\u001b[1;33m\u001b[0m\u001b[1;33m\u001b[0m\u001b[0m\n\u001b[0;32m     58\u001b[0m                 \u001b[1;32mraise\u001b[0m \u001b[0mFileNotFoundError\u001b[0m\u001b[1;33m(\u001b[0m\u001b[0mself\u001b[0m\u001b[1;33m.\u001b[0m\u001b[0mlocal_path\u001b[0m\u001b[1;33m,\u001b[0m \u001b[1;34m\"Try downloading data\"\u001b[0m\u001b[1;33m)\u001b[0m\u001b[1;33m\u001b[0m\u001b[1;33m\u001b[0m\u001b[0m\n",
      "\u001b[1;32mc:\\users\\jtrauer\\pycharmprojects\\autumn\\autumn\\tools\\db\\load.py\u001b[0m in \u001b[0;36mfind_db_paths\u001b[1;34m(dirpath)\u001b[0m\n\u001b[0;32m    120\u001b[0m \u001b[1;32mdef\u001b[0m \u001b[0mfind_db_paths\u001b[0m\u001b[1;33m(\u001b[0m\u001b[0mdirpath\u001b[0m\u001b[1;33m:\u001b[0m \u001b[0mstr\u001b[0m\u001b[1;33m)\u001b[0m\u001b[1;33m:\u001b[0m\u001b[1;33m\u001b[0m\u001b[1;33m\u001b[0m\u001b[0m\n\u001b[0;32m    121\u001b[0m     \u001b[0mdb_paths\u001b[0m \u001b[1;33m=\u001b[0m \u001b[1;33m[\u001b[0m\u001b[1;33m]\u001b[0m\u001b[1;33m\u001b[0m\u001b[1;33m\u001b[0m\u001b[0m\n\u001b[1;32m--> 122\u001b[1;33m     \u001b[1;32mfor\u001b[0m \u001b[0mfname\u001b[0m \u001b[1;32min\u001b[0m \u001b[0mos\u001b[0m\u001b[1;33m.\u001b[0m\u001b[0mlistdir\u001b[0m\u001b[1;33m(\u001b[0m\u001b[0mdirpath\u001b[0m\u001b[1;33m)\u001b[0m\u001b[1;33m:\u001b[0m\u001b[1;33m\u001b[0m\u001b[1;33m\u001b[0m\u001b[0m\n\u001b[0m\u001b[0;32m    123\u001b[0m         \u001b[1;32mif\u001b[0m \u001b[0mfname\u001b[0m\u001b[1;33m.\u001b[0m\u001b[0mstartswith\u001b[0m\u001b[1;33m(\u001b[0m\u001b[1;34m\"outputs\"\u001b[0m\u001b[1;33m)\u001b[0m \u001b[1;32mor\u001b[0m \u001b[0mfname\u001b[0m\u001b[1;33m.\u001b[0m\u001b[0mstartswith\u001b[0m\u001b[1;33m(\u001b[0m\u001b[1;34m\"chain\"\u001b[0m\u001b[1;33m)\u001b[0m \u001b[1;32mor\u001b[0m \u001b[0mfname\u001b[0m\u001b[1;33m.\u001b[0m\u001b[0mstartswith\u001b[0m\u001b[1;33m(\u001b[0m\u001b[1;34m\"powerbi\"\u001b[0m\u001b[1;33m)\u001b[0m\u001b[1;33m:\u001b[0m\u001b[1;33m\u001b[0m\u001b[1;33m\u001b[0m\u001b[0m\n\u001b[0;32m    124\u001b[0m             \u001b[0mfpath\u001b[0m \u001b[1;33m=\u001b[0m \u001b[0mos\u001b[0m\u001b[1;33m.\u001b[0m\u001b[0mpath\u001b[0m\u001b[1;33m.\u001b[0m\u001b[0mjoin\u001b[0m\u001b[1;33m(\u001b[0m\u001b[0mdirpath\u001b[0m\u001b[1;33m,\u001b[0m \u001b[0mfname\u001b[0m\u001b[1;33m)\u001b[0m\u001b[1;33m\u001b[0m\u001b[1;33m\u001b[0m\u001b[0m\n",
      "\u001b[1;31mFileNotFoundError\u001b[0m: [WinError 3] The system cannot find the path specified: 'c:\\\\users\\\\jtrauer\\\\pycharmprojects\\\\autumn\\\\data\\\\outputs\\\\runs\\\\sm_sir\\\\bangladesh\\\\1644809465\\\\c288492\\\\data\\\\full_model_runs'"
     ]
    }
   ],
   "source": [
    "full_run = mr.full_run.get_derived_outputs()\n",
    "pbi = mr.powerbi.get_db()\n",
    "targets = pbi.get_targets()\n",
    "results = pbi.get_uncertainty()\n",
    "mcmc_params = mr.calibration.get_mcmc_params()"
   ]
  },
  {
   "cell_type": "code",
   "execution_count": null,
   "id": "d3981f31",
   "metadata": {},
   "outputs": [],
   "source": [
    "mcmc_params.columns"
   ]
  },
  {
   "cell_type": "code",
   "execution_count": null,
   "id": "a90524ad",
   "metadata": {},
   "outputs": [],
   "source": [
    "plt.style.use(\"ggplot\")\n",
    "\n",
    "param_lookup = {\n",
    "    \"contact_rate\": \"infection risk per contact\",\n",
    "    \"testing_to_detection.assumed_cdr_parameter\": \"CDR at one test per 1,000 population per day\",\n",
    "    \"hospital_stay.hospital_all.parameters.mean\": \"hospital length of stay\",\n",
    "    \"voc_emergence.omicron.new_voc_seed.start_time\": \"Omicron emergence date\"\n",
    "}\n",
    "\n",
    "unit_lookup = {\n",
    "    \"contact_rate\": \"probability\",\n",
    "    \"testing_to_detection.assumed_cdr_parameter\": \"proportion\",\n",
    "    \"hospital_stay.hospital_all.parameters.mean\": \"days\",\n",
    "    \"voc_emergence.omicron.new_voc_seed.start_time\": \"days from 31st December 2019\"\n",
    "}\n",
    "\n",
    "fig, axes = plt.subplots(2, 2, figsize=(10, 8), sharey=\"all\")\n",
    "for i_ax, axis in enumerate(axes.reshape(-1)):\n",
    "    param = mcmc_params.columns[i_ax]\n",
    "    axis.hist(mcmc_params[param])\n",
    "    axis.set_title(param_lookup[param])\n",
    "    axis.set_xlabel(unit_lookup[param])\n",
    "fig.suptitle(\"parameter posterior histograms\", fontsize=15, y=1)\n",
    "fig.tight_layout()"
   ]
  },
  {
   "cell_type": "code",
   "execution_count": null,
   "id": "18db1d69",
   "metadata": {},
   "outputs": [],
   "source": [
    "[col for col in full_run.columns if \"X\" not in col]"
   ]
  },
  {
   "cell_type": "code",
   "execution_count": null,
   "id": "8a0b1405",
   "metadata": {},
   "outputs": [],
   "source": [
    "title_lookup = {\n",
    "    \"notifications\": \"daily notifications\",\n",
    "    \"infection_deaths\": \"COVID-19-specific deaths\",\n",
    "    \"hospital_admissions\": \"new daily hospital admissions\",\n",
    "    \"icu_admissions\": \"new daily admissions to ICU\",\n",
    "    \"proportion_seropositive\": \"proportion recovered from COVID-19\",\n",
    "    \"incidence\": \"daily new infections\",\n",
    "    \"prop_incidence_strain_delta\": \"proportion of cases due to Delta\",\n",
    "    \"hospital_admissions\": \"daily hospital admissions\",\n",
    "    \"hospital_occupancy\": \"total hospital beds\",\n",
    "    \"icu_admissions\": \"daily ICU admissions\",\n",
    "    \"icu_occupancy\": \"total ICU beds\",\n",
    "    \"prop_ever_infected\": \"ever infected with Delta or Omicron\",\n",
    "    \"cdr\": \"case detection rate\",\n",
    "}\n",
    "\n",
    "fig, axes = plt.subplots(4, 2, figsize=(10, 18), sharex=\"all\")\n",
    "plot_left_date = datetime.date(2021, 5, 1)\n",
    "plot_right_date = datetime.date(2022, 3, 31)\n",
    "outputs = (\n",
    "    \"notifications\", \n",
    "    \"cdr\",\n",
    "    \"hospital_admissions\",\n",
    "    \"hospital_occupancy\",\n",
    "    \"icu_admissions\", \n",
    "    \"icu_occupancy\",\n",
    "    \"prop_ever_infected\",\n",
    "    \"incidence\",\n",
    ")\n",
    "for i_ax, axis in enumerate(axes.reshape(-1)):\n",
    "    output = outputs[i_ax]\n",
    "    scenario_chain = (full_run[\"scenario\"] == 0) & (full_run[\"chain\"] == 0)\n",
    "    for i_run in full_run[scenario_chain][\"run\"].unique():\n",
    "        selection = full_run[(full_run[\"run\"] == i_run) & scenario_chain]\n",
    "        axis.plot(ref_times_to_dti(REF_DATE, selection[\"times\"]), selection[output])\n",
    "    if output in targets:\n",
    "        axis.scatter(targets.index, targets[output], color=\"k\", s=10, alpha=0.5, zorder=10)\n",
    "    axis.tick_params(axis=\"x\", labelrotation=45)\n",
    "    axis.set_title(title_lookup[output])\n",
    "    axis.set_xlim(left=plot_left_date, right=plot_right_date)"
   ]
  },
  {
   "cell_type": "code",
   "execution_count": null,
   "id": "8374d183",
   "metadata": {},
   "outputs": [],
   "source": [
    "def plot_outputs(outputs, left_date, right_date):\n",
    "    fig, axes = plt.subplots(2, 2, figsize=(12, 8), sharex=\"all\")\n",
    "    colour = (0.2, 0.2, 0.8)\n",
    "    for i_ax, axis in enumerate(axes.reshape(-1)):\n",
    "        output = outputs[i_ax]\n",
    "        results_df = results[(output, 0)]\n",
    "        indices = results_df.index\n",
    "        axis.fill_between(indices, results_df[0.025], results_df[0.975], color=colour, alpha=0.5)\n",
    "        axis.fill_between(indices, results_df[0.25], results_df[0.75], color=colour, alpha=0.7)\n",
    "        axis.plot(indices, results_df[0.500], color=\"b\")\n",
    "        if output in targets:\n",
    "            axis.scatter(targets.index, targets[output], color=\"k\", alpha=0.5, s=10)\n",
    "        axis.tick_params(axis=\"x\", labelrotation=45)\n",
    "        axis.set_xlim(left=left_date, right=right_date)\n",
    "        axis.set_title(title_lookup[output])\n",
    "    fig.tight_layout()"
   ]
  },
  {
   "cell_type": "code",
   "execution_count": null,
   "id": "bdb00101",
   "metadata": {},
   "outputs": [],
   "source": [
    "left_date = datetime.date(2021, 4, 1)\n",
    "right_date = datetime.date(2022, 7, 1)\n",
    "outputs_to_plot = (\n",
    "    \"notifications\", \n",
    "    \"hospital_occupancy\",\n",
    "    \"icu_occupancy\",\n",
    "    \"infection_deaths\",\n",
    ")\n",
    "plot_outputs(outputs_to_plot, left_date, right_date)"
   ]
  }
 ],
 "metadata": {
  "kernelspec": {
   "display_name": "Python 3",
   "language": "python",
   "name": "python3"
  },
  "language_info": {
   "codemirror_mode": {
    "name": "ipython",
    "version": 3
   },
   "file_extension": ".py",
   "mimetype": "text/x-python",
   "name": "python",
   "nbconvert_exporter": "python",
   "pygments_lexer": "ipython3",
   "version": "3.6.13"
  }
 },
 "nbformat": 4,
 "nbformat_minor": 5
}
