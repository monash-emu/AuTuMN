{
 "cells": [
  {
   "cell_type": "code",
   "execution_count": null,
   "id": "casual-nightlife",
   "metadata": {},
   "outputs": [],
   "source": [
    "import pandas as pd\n",
    "from matplotlib import pyplot as plt\n",
    "import datetime\n",
    "import os\n",
    "import warnings\n",
    "\n",
    "from summer.utils import ref_times_to_dti\n",
    "\n",
    "from autumn.tools.project import get_project, load_timeseries\n",
    "from autumn.tools.plots.utils import REF_DATE\n",
    "from autumn.tools.runs import ManagedRun\n",
    "from autumn.tools.runs.calibration.utils import get_posteriors\n",
    "from autumn.tools.utils.pandas import pdfilt\n",
    "from autumn.settings.region import Region"
   ]
  },
  {
   "cell_type": "code",
   "execution_count": null,
   "id": "895d63ca",
   "metadata": {},
   "outputs": [],
   "source": [
    "warnings.filterwarnings(\"ignore\", category=DeprecationWarning) "
   ]
  },
  {
   "cell_type": "markdown",
   "id": "f1049ee1",
   "metadata": {},
   "source": [
    "## Specify the runs of interest"
   ]
  },
  {
   "cell_type": "code",
   "execution_count": null,
   "id": "mental-queensland",
   "metadata": {},
   "outputs": [],
   "source": [
    "run_id = \"sm_sir/bangladesh/1650405440/36e5098\"\n",
    "region = \"bangladesh\""
   ]
  },
  {
   "cell_type": "code",
   "execution_count": null,
   "id": "perceived-tracker",
   "metadata": {},
   "outputs": [],
   "source": [
    "mr = ManagedRun(run_id)"
   ]
  },
  {
   "cell_type": "code",
   "execution_count": null,
   "id": "e54e2753",
   "metadata": {},
   "outputs": [],
   "source": [
    "# full_run = mr.full_run.get_derived_outputs()\n",
    "pbi = mr.powerbi.get_db()\n",
    "targets = pbi.get_targets()\n",
    "results = pbi.get_uncertainty()\n",
    "mcmc_params = mr.calibration.get_mcmc_params()"
   ]
  },
  {
   "cell_type": "markdown",
   "id": "ddd17e40",
   "metadata": {},
   "source": [
    "## Calibration parameters are:"
   ]
  },
  {
   "cell_type": "code",
   "execution_count": null,
   "id": "d3981f31",
   "metadata": {},
   "outputs": [],
   "source": [
    "list(mcmc_params.columns)"
   ]
  },
  {
   "cell_type": "code",
   "execution_count": null,
   "id": "a90524ad",
   "metadata": {},
   "outputs": [],
   "source": [
    "plt.style.use(\"ggplot\")\n",
    "\n",
    "param_lookup = {\n",
    "    \"contact_rate\": \"infection risk per contact\",\n",
    "    \"testing_to_detection.assumed_cdr_parameter\": \"CDR at one test per 1,000 population per day\",\n",
    "    \"voc_emergence.omicron.new_voc_seed.start_time\": \"Omicron emergence date\",\n",
    "    \"voc_emergence.omicron.contact_rate_multiplier\": \"relative transmissibility Omicron\",\n",
    "    \"age_stratification.cfr.multiplier\": \"modification to fatality rate\",\n",
    "    \"age_stratification.prop_hospital.multiplier\": \"modification to hospitalisation rate\",\n",
    "}\n",
    "\n",
    "unit_lookup = {\n",
    "    \"contact_rate\": \"probability\",\n",
    "    \"testing_to_detection.assumed_cdr_parameter\": \"proportion\",\n",
    "    \"voc_emergence.omicron.new_voc_seed.start_time\": \"days from 31st December 2019\",\n",
    "    \"voc_emergence.omicron.contact_rate_multiplier\": \"multiplier\",\n",
    "    \"age_stratification.cfr.multiplier\": \"multiplier\",\n",
    "    \"age_stratification.prop_hospital.multiplier\": \"multiplier\",\n",
    "}\n",
    "\n",
    "fig, axes = plt.subplots(3, 2, figsize=(10, 12))\n",
    "for i_ax, axis in enumerate(axes.reshape(-1)):\n",
    "    param = mcmc_params.columns[i_ax]\n",
    "    axis.hist(mcmc_params[param])\n",
    "    axis.set_title(param_lookup[param])\n",
    "    axis.set_xlabel(unit_lookup[param])\n",
    "fig.suptitle(\"parameter posterior histograms\", fontsize=15, y=1)\n",
    "fig.tight_layout()"
   ]
  },
  {
   "cell_type": "markdown",
   "id": "c81fe7e0",
   "metadata": {},
   "source": [
    "## Available model outputs are:"
   ]
  },
  {
   "cell_type": "code",
   "execution_count": null,
   "id": "18db1d69",
   "metadata": {},
   "outputs": [],
   "source": [
    "project = get_project(\"sm_sir\", region, reload=True)"
   ]
  },
  {
   "cell_type": "markdown",
   "id": "769197e2",
   "metadata": {},
   "source": [
    "### Get all targets, including those not used in calibration, to use as a validation"
   ]
  },
  {
   "cell_type": "code",
   "execution_count": null,
   "id": "6816a17d",
   "metadata": {},
   "outputs": [],
   "source": [
    "project_root = os.path.abspath(os.path.join(os.getcwd(), \"..\", \"..\", \"..\"))\n",
    "model, country, run, commit = run_id.split(\"/\")\n",
    "project_file_path = os.path.join(project_root, \"autumn\", \"projects\", model, country, country, \"timeseries.json\")\n",
    "all_targets = load_timeseries(project_file_path)\n",
    "for target in all_targets:\n",
    "    all_targets[target].index = ref_times_to_dti(REF_DATE, all_targets[target].index)"
   ]
  },
  {
   "cell_type": "code",
   "execution_count": null,
   "id": "8a0b1405",
   "metadata": {},
   "outputs": [],
   "source": [
    "title_lookup = {\n",
    "    \"notifications\": \"daily notifications\",\n",
    "    \"infection_deaths\": \"COVID-19-specific deaths\",\n",
    "    \"hospital_admissions\": \"new daily hospital admissions\",\n",
    "    \"icu_admissions\": \"new daily admissions to ICU\",\n",
    "    \"proportion_seropositive\": \"proportion recovered from COVID-19\",\n",
    "    \"incidence\": \"daily new infections\",\n",
    "    \"prop_incidence_strain_delta\": \"proportion of cases due to Delta\",\n",
    "    \"hospital_admissions\": \"daily hospital admissions\",\n",
    "    \"hospital_occupancy\": \"total hospital beds\",\n",
    "    \"icu_admissions\": \"daily ICU admissions\",\n",
    "    \"icu_occupancy\": \"total ICU beds\",\n",
    "    \"prop_ever_infected\": \"ever infected with Delta or Omicron\",\n",
    "    \"cdr\": \"case detection rate\",\n",
    "}\n",
    "\n",
    "plot_left_date = datetime.date(2021, 5, 1)\n",
    "colours = ((0.2, 0.2, 0.8), (0.8, 0.2, 0.2), (0.2, 0.8, 0.2), (0.8, 0.8, 0.2), (0.8, 0.2, 0.2), (0.2, 0.8, 0.2), (0.8, 0.8, 0.2))\n",
    "outputs = (\n",
    "    \"notifications\", \n",
    "    \"cdr\",\n",
    "    \"hospital_admissions\",\n",
    "    \"hospital_occupancy\",\n",
    "    \"icu_admissions\", \n",
    "    \"icu_occupancy\",\n",
    "    \"prop_ever_infected\",\n",
    "    \"incidence\",\n",
    ")\n",
    "# fig, axes = plt.subplots(4, 2, figsize=(10, 18), sharex=\"all\")\n",
    "# for i_ax, axis in enumerate(axes.reshape(-1)):\n",
    "#     output = outputs[i_ax]\n",
    "#     scenario_chain = (full_run[\"scenario\"] == 0) & (full_run[\"chain\"] == 0)\n",
    "#     for i_run in full_run[scenario_chain][\"run\"].unique():\n",
    "#         selection = full_run[(full_run[\"run\"] == i_run) & scenario_chain]\n",
    "#         axis.plot(ref_times_to_dti(REF_DATE, selection[\"times\"]), selection[output])\n",
    "#     if output in all_targets and len(all_targets[output]) > 0:\n",
    "#         all_targets[output].plot.line(ax=axis, linewidth=0., markersize=10., marker=\"o\")\n",
    "#         axis.scatter(all_targets[output].index, all_targets[output], color=\"k\", s=5, alpha=0.5, zorder=10)\n",
    "#     if output in targets:\n",
    "#         axis.scatter(targets.index, targets[output], facecolors=\"r\", edgecolors=\"k\", s=15, zorder=10)\n",
    "#     axis.tick_params(axis=\"x\", labelrotation=45)\n",
    "#     axis.set_title(title_lookup[output])\n",
    "#     axis.set_xlim(left=plot_left_date)"
   ]
  },
  {
   "cell_type": "code",
   "execution_count": null,
   "id": "8374d183",
   "metadata": {},
   "outputs": [],
   "source": [
    "def plot_outputs(outputs, left_date):\n",
    "    fig, axes = plt.subplots(2, 2, figsize=(12, 8), sharex=\"all\")\n",
    "    for i_ax, axis in enumerate(axes.reshape(-1)):\n",
    "        output = outputs[i_ax]\n",
    "#         for scenario in [0] + list(range(1, 4)):\n",
    "        for scenario in [0] + list(range(4, 7)):\n",
    "            colour = colours[scenario]\n",
    "            results_df = results[(output, scenario)]\n",
    "            indices = results_df.index\n",
    "            interval_label = \"baseline\" if scenario == 0 else project.param_set.scenarios[scenario - 1][\"description\"]\n",
    "            scenario_zorder = 10 if scenario == 0 else scenario\n",
    "            axis.fill_between(\n",
    "                indices, \n",
    "                results_df[0.025], results_df[0.975], \n",
    "                color=colour, \n",
    "                alpha=0.5,\n",
    "                label=\"_nolegend_\",\n",
    "                zorder=scenario_zorder,\n",
    "            )\n",
    "            axis.fill_between(\n",
    "                indices, \n",
    "                results_df[0.25], results_df[0.75], \n",
    "                color=colour, alpha=0.7, \n",
    "                label=interval_label,\n",
    "                zorder=scenario_zorder\n",
    "            )\n",
    "            axis.plot(indices, results_df[0.500], color=colour)\n",
    "            if output in all_targets and len(all_targets[output]) > 0:\n",
    "                all_targets[output].plot.line(\n",
    "                    ax=axis, \n",
    "                    linewidth=0., \n",
    "                    markersize=8.,\n",
    "                    marker=\"o\",\n",
    "                    markerfacecolor=\"w\",\n",
    "                    markeredgecolor=\"w\",\n",
    "                    alpha=0.2,\n",
    "                    label=\"_nolegend_\",\n",
    "                    zorder=11,\n",
    "                )\n",
    "            if output in targets:\n",
    "                targets[output].plot.line(\n",
    "                    ax=axis, \n",
    "                    linewidth=0., \n",
    "                    markersize=5., \n",
    "                    marker=\"o\", \n",
    "                    markerfacecolor=\"k\",\n",
    "                    markeredgecolor=\"k\",\n",
    "                    label=\"_nolegend_\",\n",
    "                    zorder=12,\n",
    "                )\n",
    "            axis.tick_params(axis=\"x\", labelrotation=45)\n",
    "            axis.set_xlim(left=left_date)\n",
    "            axis.set_title(title_lookup[output])\n",
    "        if i_ax == 0:\n",
    "            axis.legend()\n",
    "    fig.tight_layout()"
   ]
  },
  {
   "cell_type": "code",
   "execution_count": null,
   "id": "bdb00101",
   "metadata": {},
   "outputs": [],
   "source": [
    "outputs_to_plot = (\n",
    "    \"notifications\", \n",
    "    \"infection_deaths\",\n",
    "    \"hospital_admissions\",\n",
    "    \"icu_occupancy\",\n",
    ")\n",
    "plot_outputs(outputs_to_plot, plot_left_date)"
   ]
  },
  {
   "cell_type": "code",
   "execution_count": null,
   "id": "8e9e3f97",
   "metadata": {},
   "outputs": [],
   "source": [
    "list(range(4, 7))"
   ]
  }
 ],
 "metadata": {
  "kernelspec": {
   "display_name": "Python 3 (ipykernel)",
   "language": "python",
   "name": "python3"
  },
  "language_info": {
   "codemirror_mode": {
    "name": "ipython",
    "version": 3
   },
   "file_extension": ".py",
   "mimetype": "text/x-python",
   "name": "python",
   "nbconvert_exporter": "python",
   "pygments_lexer": "ipython3",
   "version": "3.10.4"
  }
 },
 "nbformat": 4,
 "nbformat_minor": 5
}
