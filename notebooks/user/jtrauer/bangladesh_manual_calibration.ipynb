{
 "cells": [
  {
   "cell_type": "code",
   "execution_count": 1,
   "id": "1627fc92",
   "metadata": {},
   "outputs": [],
   "source": [
    "from matplotlib import pyplot\n",
    "import pandas as pd\n",
    "import warnings\n",
    "import copy\n",
    "\n",
    "from summer.utils import ref_times_to_dti\n",
    "\n",
    "from autumn.tools.project import get_project, load_timeseries, build_rel_path\n",
    "from autumn.settings.constants import COVID_BASE_DATETIME\n",
    "from autumn.tools.utils.pretty import pretty_print"
   ]
  },
  {
   "cell_type": "code",
   "execution_count": 2,
   "id": "27d2182d",
   "metadata": {},
   "outputs": [],
   "source": [
    "pyplot.style.use(\"ggplot\")\n",
    "warnings.filterwarnings(\"ignore\")\n",
    "region = \"bangladesh\""
   ]
  },
  {
   "cell_type": "code",
   "execution_count": 3,
   "id": "d57cb416",
   "metadata": {},
   "outputs": [],
   "source": [
    "# Be careful of this\n",
    "from autumn.projects.sm_sir.bangladesh.bangladesh import project"
   ]
  },
  {
   "cell_type": "code",
   "execution_count": 4,
   "id": "fcd29dc7",
   "metadata": {},
   "outputs": [],
   "source": [
    "def convert_ts_index_to_date(ts):\n",
    "    ts.index = ref_times_to_dti(COVID_BASE_DATETIME, ts.index)\n",
    "    return ts"
   ]
  },
  {
   "cell_type": "code",
   "execution_count": 5,
   "id": "80684c91",
   "metadata": {},
   "outputs": [],
   "source": [
    "ts_sets = project.ts_set\n",
    "ts_set_dates = {k: convert_ts_index_to_date(v) for k, v in ts_sets.items()}"
   ]
  },
  {
   "cell_type": "code",
   "execution_count": 12,
   "id": "dafd0763",
   "metadata": {},
   "outputs": [
    {
     "ename": "KeyError",
     "evalue": "'omicron'",
     "output_type": "error",
     "traceback": [
      "\u001b[1;31m---------------------------------------------------------------------------\u001b[0m",
      "\u001b[1;31mKeyError\u001b[0m                                  Traceback (most recent call last)",
      "Input \u001b[1;32mIn [12]\u001b[0m, in \u001b[0;36m<cell line: 3>\u001b[1;34m()\u001b[0m\n\u001b[0;32m      1\u001b[0m project \u001b[38;5;241m=\u001b[39m get_project(\u001b[38;5;124m\"\u001b[39m\u001b[38;5;124msm_sir\u001b[39m\u001b[38;5;124m\"\u001b[39m, region, reload\u001b[38;5;241m=\u001b[39m\u001b[38;5;28;01mTrue\u001b[39;00m)\n\u001b[0;32m      2\u001b[0m baseline_params \u001b[38;5;241m=\u001b[39m project\u001b[38;5;241m.\u001b[39mparam_set\u001b[38;5;241m.\u001b[39mbaseline\n\u001b[1;32m----> 3\u001b[0m model \u001b[38;5;241m=\u001b[39m \u001b[43mproject\u001b[49m\u001b[38;5;241;43m.\u001b[39;49m\u001b[43mrun_baseline_model\u001b[49m\u001b[43m(\u001b[49m\u001b[43mbaseline_params\u001b[49m\u001b[43m)\u001b[49m\n\u001b[0;32m      4\u001b[0m derived_df \u001b[38;5;241m=\u001b[39m model\u001b[38;5;241m.\u001b[39mget_derived_outputs_df()\n\u001b[0;32m      5\u001b[0m model_start_time \u001b[38;5;241m=\u001b[39m ref_times_to_dti(COVID_BASE_DATETIME, [baseline_params[\u001b[38;5;124m\"\u001b[39m\u001b[38;5;124mtime\u001b[39m\u001b[38;5;124m\"\u001b[39m][\u001b[38;5;124m\"\u001b[39m\u001b[38;5;124mstart\u001b[39m\u001b[38;5;124m\"\u001b[39m]])[\u001b[38;5;241m0\u001b[39m]\n",
      "File \u001b[1;32mc:\\users\\jtrauer\\pycharmprojects\\autumn\\autumn\\tools\\project\\project.py:80\u001b[0m, in \u001b[0;36mProject.run_baseline_model\u001b[1;34m(self, params, derived_outputs_whitelist, build_options)\u001b[0m\n\u001b[0;32m     75\u001b[0m \u001b[38;5;124;03m\"\"\"\u001b[39;00m\n\u001b[0;32m     76\u001b[0m \u001b[38;5;124;03mRun the project's baseline model with the given parameters.\u001b[39;00m\n\u001b[0;32m     77\u001b[0m \u001b[38;5;124;03mReturns the completed baseline model.\u001b[39;00m\n\u001b[0;32m     78\u001b[0m \u001b[38;5;124;03m\"\"\"\u001b[39;00m\n\u001b[0;32m     79\u001b[0m params_dict \u001b[38;5;241m=\u001b[39m params\u001b[38;5;241m.\u001b[39mto_dict()\n\u001b[1;32m---> 80\u001b[0m model \u001b[38;5;241m=\u001b[39m \u001b[38;5;28;43mself\u001b[39;49m\u001b[38;5;241;43m.\u001b[39;49m\u001b[43mbuild_model\u001b[49m\u001b[43m(\u001b[49m\u001b[43mparams_dict\u001b[49m\u001b[43m,\u001b[49m\u001b[43m \u001b[49m\u001b[43mbuild_options\u001b[49m\u001b[43m)\u001b[49m\n\u001b[0;32m     81\u001b[0m \u001b[38;5;28;01mif\u001b[39;00m \u001b[38;5;28mtype\u001b[39m(model) \u001b[38;5;129;01mis\u001b[39;00m CompartmentalModel \u001b[38;5;129;01mand\u001b[39;00m derived_outputs_whitelist:\n\u001b[0;32m     82\u001b[0m     \u001b[38;5;66;03m# Only calculate required derived outputs.\u001b[39;00m\n\u001b[0;32m     83\u001b[0m     model\u001b[38;5;241m.\u001b[39mset_derived_outputs_whitelist(derived_outputs_whitelist)\n",
      "File \u001b[1;32mc:\\users\\jtrauer\\pycharmprojects\\autumn\\autumn\\projects\\sm_sir\\bangladesh\\bangladesh\\project.py:85\u001b[0m, in \u001b[0;36mcustom_build_model\u001b[1;34m(param_set, build_options)\u001b[0m\n\u001b[0;32m     84\u001b[0m \u001b[38;5;28;01mdef\u001b[39;00m \u001b[38;5;21mcustom_build_model\u001b[39m(param_set, build_options\u001b[38;5;241m=\u001b[39m\u001b[38;5;28;01mNone\u001b[39;00m):\n\u001b[1;32m---> 85\u001b[0m     model \u001b[38;5;241m=\u001b[39m \u001b[43mbuild_model\u001b[49m\u001b[43m(\u001b[49m\u001b[43mparam_set\u001b[49m\u001b[43m,\u001b[49m\u001b[43m \u001b[49m\u001b[43mbuild_options\u001b[49m\u001b[43m)\u001b[49m\n\u001b[0;32m     86\u001b[0m     \u001b[38;5;28;01mfor\u001b[39;00m v \u001b[38;5;129;01min\u001b[39;00m roc_vars:\n\u001b[0;32m     87\u001b[0m         model\u001b[38;5;241m.\u001b[39mrequest_function_output(\n\u001b[0;32m     88\u001b[0m             v \u001b[38;5;241m+\u001b[39m \u001b[38;5;124m'\u001b[39m\u001b[38;5;124m_roc\u001b[39m\u001b[38;5;124m'\u001b[39m,\n\u001b[0;32m     89\u001b[0m             wrap_series_transform_for_ndarray(get_roc),\n\u001b[0;32m     90\u001b[0m             [v],\n\u001b[0;32m     91\u001b[0m         )\n",
      "File \u001b[1;32mc:\\users\\jtrauer\\pycharmprojects\\autumn\\autumn\\models\\sm_sir\\model.py:581\u001b[0m, in \u001b[0;36mbuild_model\u001b[1;34m(params, build_options)\u001b[0m\n\u001b[0;32m    574\u001b[0m     \u001b[38;5;28;01massert\u001b[39;00m \u001b[38;5;124m\"\u001b[39m\u001b[38;5;124mstrain\u001b[39m\u001b[38;5;124m\"\u001b[39m \u001b[38;5;129;01min\u001b[39;00m [strat\u001b[38;5;241m.\u001b[39mname \u001b[38;5;28;01mfor\u001b[39;00m strat \u001b[38;5;129;01min\u001b[39;00m model\u001b[38;5;241m.\u001b[39m_stratifications], msg\n\u001b[0;32m    575\u001b[0m     adjust_susceptible_infection_with_strains(\n\u001b[0;32m    576\u001b[0m         immunity_low_risk_reduction,\n\u001b[0;32m    577\u001b[0m         immunity_high_risk_reduction,\n\u001b[0;32m    578\u001b[0m         immunity_strat,\n\u001b[0;32m    579\u001b[0m         voc_params,\n\u001b[0;32m    580\u001b[0m     )\n\u001b[1;32m--> 581\u001b[0m     \u001b[43madjust_reinfection_with_strains\u001b[49m\u001b[43m(\u001b[49m\n\u001b[0;32m    582\u001b[0m \u001b[43m        \u001b[49m\u001b[43mimmunity_low_risk_reduction\u001b[49m\u001b[43m,\u001b[49m\n\u001b[0;32m    583\u001b[0m \u001b[43m        \u001b[49m\u001b[43mimmunity_high_risk_reduction\u001b[49m\u001b[43m,\u001b[49m\n\u001b[0;32m    584\u001b[0m \u001b[43m        \u001b[49m\u001b[43mimmunity_strat\u001b[49m\u001b[43m,\u001b[49m\n\u001b[0;32m    585\u001b[0m \u001b[43m        \u001b[49m\u001b[43mreinfection_flows\u001b[49m\u001b[43m,\u001b[49m\n\u001b[0;32m    586\u001b[0m \u001b[43m        \u001b[49m\u001b[43mvoc_params\u001b[49m\u001b[43m,\u001b[49m\n\u001b[0;32m    587\u001b[0m \u001b[43m    \u001b[49m\u001b[43m)\u001b[49m\n\u001b[0;32m    588\u001b[0m \u001b[38;5;28;01melse\u001b[39;00m:\n\u001b[0;32m    589\u001b[0m     adjust_susceptible_infection_without_strains(\n\u001b[0;32m    590\u001b[0m         immunity_low_risk_reduction,\n\u001b[0;32m    591\u001b[0m         immunity_high_risk_reduction,\n\u001b[0;32m    592\u001b[0m         immunity_strat,\n\u001b[0;32m    593\u001b[0m     )\n",
      "File \u001b[1;32mc:\\users\\jtrauer\\pycharmprojects\\autumn\\autumn\\models\\sm_sir\\stratifications\\immunity.py:157\u001b[0m, in \u001b[0;36madjust_reinfection_with_strains\u001b[1;34m(low_immune_effect, high_immune_effect, immunity_strat, reinfection_flows, voc_params)\u001b[0m\n\u001b[0;32m    153\u001b[0m \u001b[38;5;28;01mfor\u001b[39;00m infected_strain \u001b[38;5;129;01min\u001b[39;00m voc_params:\n\u001b[0;32m    154\u001b[0m     \u001b[38;5;28;01mfor\u001b[39;00m flow \u001b[38;5;129;01min\u001b[39;00m reinfection_flows:\n\u001b[0;32m    155\u001b[0m \n\u001b[0;32m    156\u001b[0m         \u001b[38;5;66;03m# Cross protection from previous infection with the \"infected\" strain against the \"infecting\" strain\u001b[39;00m\n\u001b[1;32m--> 157\u001b[0m         cross_effect \u001b[38;5;241m=\u001b[39m \u001b[38;5;241m1.0\u001b[39m \u001b[38;5;241m-\u001b[39m \u001b[38;5;28mgetattr\u001b[39m(\u001b[43mvoc_params\u001b[49m\u001b[43m[\u001b[49m\u001b[43minfected_strain\u001b[49m\u001b[43m]\u001b[49m\u001b[38;5;241;43m.\u001b[39;49m\u001b[43mcross_protection\u001b[49m\u001b[43m[\u001b[49m\u001b[43minfecting_strain\u001b[49m\u001b[43m]\u001b[49m, flow)\n\u001b[0;32m    159\u001b[0m         \u001b[38;5;66;03m# Combine the two mechanisms of protection\u001b[39;00m\n\u001b[0;32m    160\u001b[0m         reinfection_adjustments \u001b[38;5;241m=\u001b[39m {\n\u001b[0;32m    161\u001b[0m             ImmunityStratum\u001b[38;5;241m.\u001b[39mNONE: Multiply(cross_effect),\n\u001b[0;32m    162\u001b[0m             ImmunityStratum\u001b[38;5;241m.\u001b[39mLOW: Multiply(low_non_cross_multiplier \u001b[38;5;241m*\u001b[39m cross_effect),\n\u001b[0;32m    163\u001b[0m             ImmunityStratum\u001b[38;5;241m.\u001b[39mHIGH: Multiply(high_non_cross_multiplier \u001b[38;5;241m*\u001b[39m cross_effect),\n\u001b[0;32m    164\u001b[0m         }\n",
      "\u001b[1;31mKeyError\u001b[0m: 'omicron'"
     ]
    }
   ],
   "source": [
    "project = get_project(\"sm_sir\", region, reload=True)\n",
    "baseline_params = project.param_set.baseline\n",
    "model = project.run_baseline_model(baseline_params)\n",
    "derived_df = model.get_derived_outputs_df()\n",
    "model_start_time = ref_times_to_dti(COVID_BASE_DATETIME, [baseline_params[\"time\"][\"start\"]])[0]\n",
    "model_end_time = ref_times_to_dti(COVID_BASE_DATETIME, [baseline_params[\"time\"][\"end\"]])[0]\n",
    "death_string = \"infection_deaths\"\n",
    "outputs_to_plot = [\"notifications\", \"infection_deaths\", \"prop_ever_infected\", \"hospital_admissions\"]\n",
    "\n",
    "plot_end_time = ref_times_to_dti(COVID_BASE_DATETIME, [1000.])[0]\n",
    "\n",
    "fig = pyplot.figure(figsize=(15, 12))\n",
    "for i_out, output in enumerate(outputs_to_plot):\n",
    "    axis = fig.add_subplot(2, 2, i_out + 1)\n",
    "    if output in ts_set_dates:\n",
    "        ts_set_dates[output].plot(ax=axis, style='.')\n",
    "    if output in derived_df:\n",
    "        derived_df[output].plot(ax=axis)\n",
    "    axis.set_title(output.replace(\"_\", \" \"))\n",
    "    axis.set_xlim([model_start_time, plot_end_time])"
   ]
  },
  {
   "cell_type": "code",
   "execution_count": 7,
   "id": "c7d6b082",
   "metadata": {},
   "outputs": [
    {
     "data": {
      "text/plain": [
       "[]"
      ]
     },
     "execution_count": 7,
     "metadata": {},
     "output_type": "execute_result"
    }
   ],
   "source": [
    "scenarios = project.run_scenario_models(model, project.param_set.scenarios)\n",
    "scenarios"
   ]
  }
 ],
 "metadata": {
  "kernelspec": {
   "display_name": "Python 3 (ipykernel)",
   "language": "python",
   "name": "python3"
  },
  "language_info": {
   "codemirror_mode": {
    "name": "ipython",
    "version": 3
   },
   "file_extension": ".py",
   "mimetype": "text/x-python",
   "name": "python",
   "nbconvert_exporter": "python",
   "pygments_lexer": "ipython3",
   "version": "3.9.11"
  }
 },
 "nbformat": 4,
 "nbformat_minor": 5
}
