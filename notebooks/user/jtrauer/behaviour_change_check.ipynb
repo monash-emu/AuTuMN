{
 "cells": [
  {
   "cell_type": "code",
   "execution_count": 1,
   "id": "liberal-smith",
   "metadata": {},
   "outputs": [],
   "source": [
    "import pandas as pd\n",
    "import numpy as np\n",
    "from autumn.tools.project import get_project"
   ]
  },
  {
   "cell_type": "code",
   "execution_count": 2,
   "id": "equal-cooperation",
   "metadata": {},
   "outputs": [],
   "source": [
    "# Set this True if you are running the 'reference' model, or False for the comparison model\n",
    "# You will need to run the reference model first in order to generate the reference ouputs for comparison\n",
    "# Generally this involves checking out different branches or commits in the background\n",
    "# Remember to restart the notebook in between checkouts!\n",
    "# I'm going to adopt a convention that I checkout master to run the reference model\n",
    "# and compare that against the comparison model on my branch\n",
    "\n",
    "REFERENCE_MODEL = False"
   ]
  },
  {
   "cell_type": "code",
   "execution_count": 3,
   "id": "fifty-tanzania",
   "metadata": {},
   "outputs": [],
   "source": [
    "# Set this for the region you're verifying\n",
    "# This could be extended to a loop that verifies multiple regions, but it's just one for now\n",
    "region = \"nepal\""
   ]
  },
  {
   "cell_type": "code",
   "execution_count": 4,
   "id": "tight-paper",
   "metadata": {},
   "outputs": [],
   "source": [
    "project = get_project(\"covid_19\", region)"
   ]
  },
  {
   "cell_type": "code",
   "execution_count": 5,
   "id": "completed-baseline",
   "metadata": {},
   "outputs": [],
   "source": [
    "model = project.run_baseline_model(project.param_set.baseline)"
   ]
  },
  {
   "cell_type": "code",
   "execution_count": 6,
   "id": "choice-sydney",
   "metadata": {},
   "outputs": [],
   "source": [
    "odf = model.get_derived_outputs_df()"
   ]
  },
  {
   "cell_type": "code",
   "execution_count": 7,
   "id": "regulation-segment",
   "metadata": {},
   "outputs": [],
   "source": [
    "if REFERENCE_MODEL:\n",
    "    # Save the reference outputs to CSV\n",
    "    odf.to_pickle(f\"ref_{region}.pkl\")\n",
    "    # Load the comparison outputs\n",
    "    # This will raise an exception if you haven't run the comparison model yet\n",
    "else:\n",
    "    # Dump the comparison outputs to CSV\n",
    "    odf.to_pickle(f\"comp_{region}.pkl\")\n",
    "    # Load the reference outputs for comparison\n",
    "   \n",
    "odf_comp = pd.read_pickle(f\"comp_{region}.pkl\")\n",
    "odf_ref = pd.read_pickle(f\"ref_{region}.pkl\")"
   ]
  },
  {
   "cell_type": "code",
   "execution_count": 8,
   "id": "homeless-rough",
   "metadata": {},
   "outputs": [],
   "source": [
    "diff = (odf_comp - odf_ref)"
   ]
  },
  {
   "cell_type": "code",
   "execution_count": 9,
   "id": "african-petersburg",
   "metadata": {},
   "outputs": [
    {
     "name": "stdout",
     "output_type": "stream",
     "text": [
      "Maximum error: 0.0\n"
     ]
    }
   ],
   "source": [
    "# Print the absolute maximum difference (error)\n",
    "\n",
    "# This is a bit arbitrary, but should cover most cases\n",
    "THRESH = 1e-10\n",
    "\n",
    "max_error = diff.abs().max().max()\n",
    "print(f\"Maximum error: {max_error}\")\n",
    "assert(max_error < THRESH)"
   ]
  },
  {
   "cell_type": "code",
   "execution_count": 10,
   "id": "opened-leather",
   "metadata": {},
   "outputs": [
    {
     "data": {
      "text/plain": [
       "<AxesSubplot:>"
      ]
     },
     "execution_count": 10,
     "metadata": {},
     "output_type": "execute_result"
    },
    {
     "data": {
      "image/png": "[encoded data removed]",
      "text/plain": [
       "<Figure size 432x288 with 1 Axes>"
      ]
     },
     "metadata": {
      "needs_background": "light"
     },
     "output_type": "display_data"
    }
   ],
   "source": [
    "# Print the summed numerical error (across all dervied outputs) over time\n",
    "# This should look randomly (and hopefully normally-ish) distributed\n",
    "\n",
    "diff.sum(axis=1).plot()"
   ]
  }
 ],
 "metadata": {
  "kernelspec": {
   "display_name": "Python 3",
   "language": "python",
   "name": "python3"
  },
  "language_info": {
   "codemirror_mode": {
    "name": "ipython",
    "version": 3
   },
   "file_extension": ".py",
   "mimetype": "text/x-python",
   "name": "python",
   "nbconvert_exporter": "python",
   "pygments_lexer": "ipython3",
   "version": "3.6.13"
  }
 },
 "nbformat": 4,
 "nbformat_minor": 5
}
