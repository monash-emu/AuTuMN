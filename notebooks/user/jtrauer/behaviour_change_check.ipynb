{
 "cells": [
  {
   "cell_type": "code",
   "execution_count": null,
   "id": "liberal-smith",
   "metadata": {},
   "outputs": [],
   "source": [
    "import pandas as pd\n",
    "import numpy as np\n",
    "from autumn.tools.project import get_project"
   ]
  },
  {
   "cell_type": "code",
   "execution_count": null,
   "id": "equal-cooperation",
   "metadata": {},
   "outputs": [],
   "source": [
    "# Set this True if you are running the 'reference' model, or False for the comparison model\n",
    "# You will need to run the reference model first in order to generate the reference ouputs for comparison\n",
    "# Generally this involves checking out different branches or commits in the background\n",
    "# Remember to restart the notebook in between checkouts!\n",
    "# I'm going to adopt a convention that I checkout master to run the reference model\n",
    "# and compare that against the comparison model on my branch\n",
    "\n",
    "REFERENCE_MODEL = False"
   ]
  },
  {
   "cell_type": "code",
   "execution_count": null,
   "id": "fifty-tanzania",
   "metadata": {},
   "outputs": [],
   "source": [
    "# Set this for the region you're verifying\n",
    "# This could be extended to a loop that verifies multiple regions, but it's just one for now\n",
    "region = \"nepal\""
   ]
  },
  {
   "cell_type": "code",
   "execution_count": null,
   "id": "tight-paper",
   "metadata": {},
   "outputs": [],
   "source": [
    "project = get_project(\"covid_19\", region)"
   ]
  },
  {
   "cell_type": "code",
   "execution_count": null,
   "id": "completed-baseline",
   "metadata": {},
   "outputs": [],
   "source": [
    "model = project.run_baseline_model(project.param_set.baseline)"
   ]
  },
  {
   "cell_type": "code",
   "execution_count": null,
   "id": "choice-sydney",
   "metadata": {},
   "outputs": [],
   "source": [
    "derived_df = model.get_derived_outputs_df()"
   ]
  },
  {
   "cell_type": "code",
   "execution_count": null,
   "id": "regulation-segment",
   "metadata": {},
   "outputs": [],
   "source": [
    "if REFERENCE_MODEL:\n",
    "    # Save the reference outputs to CSV\n",
    "    derived_df.to_csv(f\"ref_{region}.csv\")\n",
    "    reference_df = derived_df\n",
    "    # Load the comparison outputs\n",
    "    # This will raise an exception if you haven't run the comparison model yet\n",
    "    comparison_df = pd.DataFrame.from_csv(f\"comp_{region}.csv\")\n",
    "else:\n",
    "    # Dump the comparison outputs to CSV\n",
    "    derived_df.to_csv(f\"comp_{region}.csv\")\n",
    "    comparison_df = derived_df\n",
    "    # Load the reference outputs for comparison\n",
    "    reference_df = pd.DataFrame.from_csv(f\"ref_{region}.csv\")"
   ]
  },
  {
   "cell_type": "code",
   "execution_count": null,
   "id": "homeless-rough",
   "metadata": {},
   "outputs": [],
   "source": [
    "diff = (comparison_df - reference_df)"
   ]
  },
  {
   "cell_type": "code",
   "execution_count": null,
   "id": "african-petersburg",
   "metadata": {},
   "outputs": [],
   "source": [
    "# Print the absolute maximum difference (error)\n",
    "\n",
    "# This is a bit arbitrary, but should cover most cases\n",
    "THRESH = 1e-10\n",
    "\n",
    "max_error = diff.abs().max().max()\n",
    "print(f\"Maximum error: {max_error}\")\n",
    "assert(max_error < THRESH)"
   ]
  },
  {
   "cell_type": "code",
   "execution_count": null,
   "id": "opened-leather",
   "metadata": {},
   "outputs": [],
   "source": [
    "# Print the summed numerical error (across all dervied outputs) over time\n",
    "# This should look randomly (and hopefully normally-ish) distributed\n",
    "\n",
    "diff.sum(axis=1).plot()"
   ]
  }
 ],
 "metadata": {
  "kernelspec": {
   "display_name": "Python 3",
   "language": "python",
   "name": "python3"
  },
  "language_info": {
   "codemirror_mode": {
    "name": "ipython",
    "version": 3
   },
   "file_extension": ".py",
   "mimetype": "text/x-python",
   "name": "python",
   "nbconvert_exporter": "python",
   "pygments_lexer": "ipython3",
   "version": "3.6.12"
  }
 },
 "nbformat": 4,
 "nbformat_minor": 5
}
