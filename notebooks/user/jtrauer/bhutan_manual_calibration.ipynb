{
 "cells": [
  {
   "cell_type": "code",
   "execution_count": 1,
   "id": "1627fc92",
   "metadata": {},
   "outputs": [],
   "source": [
    "from matplotlib import pyplot\n",
    "import warnings\n",
    "\n",
    "from summer.utils import ref_times_to_dti\n",
    "\n",
    "from autumn.core.project import get_project\n",
    "from autumn.settings.constants import COVID_BASE_DATETIME\n",
    "from autumn.core.utils.display import pretty_print"
   ]
  },
  {
   "cell_type": "code",
   "execution_count": 2,
   "id": "27d2182d",
   "metadata": {},
   "outputs": [],
   "source": [
    "pyplot.style.use(\"ggplot\")\n",
    "warnings.filterwarnings(\"ignore\")\n",
    "region = \"bhutan\""
   ]
  },
  {
   "cell_type": "code",
   "execution_count": 3,
   "id": "ed79a232",
   "metadata": {},
   "outputs": [
    {
     "ename": "AttributeError",
     "evalue": "'NoneType' object has no attribute 'items'",
     "output_type": "error",
     "traceback": [
      "\u001b[1;31m---------------------------------------------------------------------------\u001b[0m",
      "\u001b[1;31mAttributeError\u001b[0m                            Traceback (most recent call last)",
      "Input \u001b[1;32mIn [3]\u001b[0m, in \u001b[0;36m<cell line: 1>\u001b[1;34m()\u001b[0m\n\u001b[1;32m----> 1\u001b[0m p \u001b[38;5;241m=\u001b[39m \u001b[43mget_project\u001b[49m\u001b[43m(\u001b[49m\u001b[38;5;124;43m\"\u001b[39;49m\u001b[38;5;124;43msm_sir\u001b[39;49m\u001b[38;5;124;43m\"\u001b[39;49m\u001b[43m,\u001b[49m\u001b[43m \u001b[49m\u001b[43mregion\u001b[49m\u001b[43m,\u001b[49m\u001b[43m \u001b[49m\u001b[43mreload\u001b[49m\u001b[38;5;241;43m=\u001b[39;49m\u001b[38;5;28;43;01mTrue\u001b[39;49;00m\u001b[43m)\u001b[49m\n",
      "File \u001b[1;32mc:\\users\\jtrauer\\pycharmprojects\\autumn\\autumn\\core\\project\\project.py:215\u001b[0m, in \u001b[0;36mget_project\u001b[1;34m(model_name, project_name, reload)\u001b[0m\n\u001b[0;32m    212\u001b[0m \u001b[38;5;28;01massert\u001b[39;00m project_name \u001b[38;5;129;01min\u001b[39;00m _PROJECTS[model_name], msg\n\u001b[0;32m    213\u001b[0m import_path \u001b[38;5;241m=\u001b[39m _PROJECTS[model_name][project_name]\n\u001b[1;32m--> 215\u001b[0m project_module \u001b[38;5;241m=\u001b[39m \u001b[43mimport_module\u001b[49m\u001b[43m(\u001b[49m\u001b[43mimport_path\u001b[49m\u001b[43m)\u001b[49m\n\u001b[0;32m    216\u001b[0m \u001b[38;5;28;01mif\u001b[39;00m import_path \u001b[38;5;129;01min\u001b[39;00m LOADED_PROJECTS \u001b[38;5;129;01mand\u001b[39;00m reload:\n\u001b[0;32m    217\u001b[0m     reload_module(project_module)\n",
      "File \u001b[1;32mC:\\tools\\Anaconda3\\envs\\autumn310\\lib\\importlib\\__init__.py:126\u001b[0m, in \u001b[0;36mimport_module\u001b[1;34m(name, package)\u001b[0m\n\u001b[0;32m    124\u001b[0m             \u001b[38;5;28;01mbreak\u001b[39;00m\n\u001b[0;32m    125\u001b[0m         level \u001b[38;5;241m+\u001b[39m\u001b[38;5;241m=\u001b[39m \u001b[38;5;241m1\u001b[39m\n\u001b[1;32m--> 126\u001b[0m \u001b[38;5;28;01mreturn\u001b[39;00m \u001b[43m_bootstrap\u001b[49m\u001b[38;5;241;43m.\u001b[39;49m\u001b[43m_gcd_import\u001b[49m\u001b[43m(\u001b[49m\u001b[43mname\u001b[49m\u001b[43m[\u001b[49m\u001b[43mlevel\u001b[49m\u001b[43m:\u001b[49m\u001b[43m]\u001b[49m\u001b[43m,\u001b[49m\u001b[43m \u001b[49m\u001b[43mpackage\u001b[49m\u001b[43m,\u001b[49m\u001b[43m \u001b[49m\u001b[43mlevel\u001b[49m\u001b[43m)\u001b[49m\n",
      "File \u001b[1;32m<frozen importlib._bootstrap>:1050\u001b[0m, in \u001b[0;36m_gcd_import\u001b[1;34m(name, package, level)\u001b[0m\n",
      "File \u001b[1;32m<frozen importlib._bootstrap>:1027\u001b[0m, in \u001b[0;36m_find_and_load\u001b[1;34m(name, import_)\u001b[0m\n",
      "File \u001b[1;32m<frozen importlib._bootstrap>:1006\u001b[0m, in \u001b[0;36m_find_and_load_unlocked\u001b[1;34m(name, import_)\u001b[0m\n",
      "File \u001b[1;32m<frozen importlib._bootstrap>:688\u001b[0m, in \u001b[0;36m_load_unlocked\u001b[1;34m(spec)\u001b[0m\n",
      "File \u001b[1;32m<frozen importlib._bootstrap_external>:883\u001b[0m, in \u001b[0;36mexec_module\u001b[1;34m(self, module)\u001b[0m\n",
      "File \u001b[1;32m<frozen importlib._bootstrap>:241\u001b[0m, in \u001b[0;36m_call_with_frames_removed\u001b[1;34m(f, *args, **kwds)\u001b[0m\n",
      "File \u001b[1;32mc:\\users\\jtrauer\\pycharmprojects\\autumn\\autumn\\projects\\sm_sir\\bhutan\\bhutan\\project.py:17\u001b[0m, in \u001b[0;36m<module>\u001b[1;34m\u001b[0m\n\u001b[0;32m     14\u001b[0m scenario_dir_path \u001b[38;5;241m=\u001b[39m build_rel_path(\u001b[38;5;124m\"\u001b[39m\u001b[38;5;124mparams/\u001b[39m\u001b[38;5;124m\"\u001b[39m)\n\u001b[0;32m     15\u001b[0m scenario_paths \u001b[38;5;241m=\u001b[39m get_all_available_scenario_paths(scenario_dir_path)\n\u001b[1;32m---> 17\u001b[0m scenario_params \u001b[38;5;241m=\u001b[39m [baseline_params\u001b[38;5;241m.\u001b[39mupdate(p) \u001b[38;5;28;01mfor\u001b[39;00m p \u001b[38;5;129;01min\u001b[39;00m scenario_paths]\n\u001b[0;32m     18\u001b[0m param_set \u001b[38;5;241m=\u001b[39m ParameterSet(baseline\u001b[38;5;241m=\u001b[39mbaseline_params)\n\u001b[0;32m     20\u001b[0m \u001b[38;5;66;03m# Load and configure calibration settings\u001b[39;00m\n",
      "File \u001b[1;32mc:\\users\\jtrauer\\pycharmprojects\\autumn\\autumn\\projects\\sm_sir\\bhutan\\bhutan\\project.py:17\u001b[0m, in \u001b[0;36m<listcomp>\u001b[1;34m(.0)\u001b[0m\n\u001b[0;32m     14\u001b[0m scenario_dir_path \u001b[38;5;241m=\u001b[39m build_rel_path(\u001b[38;5;124m\"\u001b[39m\u001b[38;5;124mparams/\u001b[39m\u001b[38;5;124m\"\u001b[39m)\n\u001b[0;32m     15\u001b[0m scenario_paths \u001b[38;5;241m=\u001b[39m get_all_available_scenario_paths(scenario_dir_path)\n\u001b[1;32m---> 17\u001b[0m scenario_params \u001b[38;5;241m=\u001b[39m [\u001b[43mbaseline_params\u001b[49m\u001b[38;5;241;43m.\u001b[39;49m\u001b[43mupdate\u001b[49m\u001b[43m(\u001b[49m\u001b[43mp\u001b[49m\u001b[43m)\u001b[49m \u001b[38;5;28;01mfor\u001b[39;00m p \u001b[38;5;129;01min\u001b[39;00m scenario_paths]\n\u001b[0;32m     18\u001b[0m param_set \u001b[38;5;241m=\u001b[39m ParameterSet(baseline\u001b[38;5;241m=\u001b[39mbaseline_params)\n\u001b[0;32m     20\u001b[0m \u001b[38;5;66;03m# Load and configure calibration settings\u001b[39;00m\n",
      "File \u001b[1;32mc:\\users\\jtrauer\\pycharmprojects\\autumn\\autumn\\core\\project\\params.py:47\u001b[0m, in \u001b[0;36mParams.update\u001b[1;34m(self, new_params, calibration_format, validate)\u001b[0m\n\u001b[0;32m     45\u001b[0m fmt \u001b[38;5;241m=\u001b[39m ParamFormat\u001b[38;5;241m.\u001b[39mCALIBRATION \u001b[38;5;28;01mif\u001b[39;00m calibration_format \u001b[38;5;28;01melse\u001b[39;00m ParamFormat\u001b[38;5;241m.\u001b[39mSTANDARD\n\u001b[0;32m     46\u001b[0m self_copy \u001b[38;5;241m=\u001b[39m \u001b[38;5;28mself\u001b[39m\u001b[38;5;241m.\u001b[39mcopy()\n\u001b[1;32m---> 47\u001b[0m \u001b[43mself_copy\u001b[49m\u001b[38;5;241;43m.\u001b[39;49m\u001b[43m_update\u001b[49m\u001b[43m(\u001b[49m\u001b[43mnew_params\u001b[49m\u001b[43m,\u001b[49m\u001b[43m \u001b[49m\u001b[43mfmt\u001b[49m\u001b[43m,\u001b[49m\u001b[43m \u001b[49m\u001b[43mvalidate\u001b[49m\u001b[43m)\u001b[49m\n\u001b[0;32m     48\u001b[0m \u001b[38;5;28;01mreturn\u001b[39;00m self_copy\n",
      "File \u001b[1;32mc:\\users\\jtrauer\\pycharmprojects\\autumn\\autumn\\core\\project\\params.py:64\u001b[0m, in \u001b[0;36mParams._update\u001b[1;34m(self, new_params, fmt, validate)\u001b[0m\n\u001b[0;32m     62\u001b[0m \u001b[38;5;28mself\u001b[39m\u001b[38;5;241m.\u001b[39m_fmts \u001b[38;5;241m=\u001b[39m [\u001b[38;5;241m*\u001b[39m\u001b[38;5;28mself\u001b[39m\u001b[38;5;241m.\u001b[39m_fmts, fmt]\n\u001b[0;32m     63\u001b[0m \u001b[38;5;66;03m# Check that everything is still valid.\u001b[39;00m\n\u001b[1;32m---> 64\u001b[0m final_params \u001b[38;5;241m=\u001b[39m \u001b[38;5;28;43mself\u001b[39;49m\u001b[38;5;241;43m.\u001b[39;49m\u001b[43m_build_dict\u001b[49m\u001b[43m(\u001b[49m\u001b[43m)\u001b[49m\n\u001b[0;32m     65\u001b[0m \u001b[38;5;28;01mif\u001b[39;00m \u001b[38;5;28mself\u001b[39m\u001b[38;5;241m.\u001b[39m_validator \u001b[38;5;129;01mand\u001b[39;00m validate:\n\u001b[0;32m     66\u001b[0m     \u001b[38;5;28mself\u001b[39m\u001b[38;5;241m.\u001b[39m_validator(final_params)\n",
      "File \u001b[1;32mc:\\users\\jtrauer\\pycharmprojects\\autumn\\autumn\\core\\project\\params.py:74\u001b[0m, in \u001b[0;36mParams._build_dict\u001b[1;34m(self)\u001b[0m\n\u001b[0;32m     72\u001b[0m     final_params \u001b[38;5;241m=\u001b[39m update_params(final_params, params)\n\u001b[0;32m     73\u001b[0m \u001b[38;5;28;01melif\u001b[39;00m fmt \u001b[38;5;241m==\u001b[39m ParamFormat\u001b[38;5;241m.\u001b[39mSTANDARD:\n\u001b[1;32m---> 74\u001b[0m     final_params \u001b[38;5;241m=\u001b[39m \u001b[43mmerge_dicts\u001b[49m\u001b[43m(\u001b[49m\u001b[43mparams\u001b[49m\u001b[43m,\u001b[49m\u001b[43m \u001b[49m\u001b[43mfinal_params\u001b[49m\u001b[43m)\u001b[49m\n\u001b[0;32m     75\u001b[0m \u001b[38;5;28;01melse\u001b[39;00m:\n\u001b[0;32m     76\u001b[0m     \u001b[38;5;28;01mraise\u001b[39;00m \u001b[38;5;167;01mValueError\u001b[39;00m(\u001b[38;5;124mf\u001b[39m\u001b[38;5;124m\"\u001b[39m\u001b[38;5;124mUnknown parameter format \u001b[39m\u001b[38;5;132;01m{\u001b[39;00mfmt\u001b[38;5;132;01m}\u001b[39;00m\u001b[38;5;124m\"\u001b[39m)\n",
      "File \u001b[1;32mc:\\users\\jtrauer\\pycharmprojects\\autumn\\autumn\\core\\utils\\utils.py:34\u001b[0m, in \u001b[0;36mmerge_dicts\u001b[1;34m(src, dest)\u001b[0m\n\u001b[0;32m     20\u001b[0m \u001b[38;5;28;01mdef\u001b[39;00m \u001b[38;5;21mmerge_dicts\u001b[39m(\n\u001b[0;32m     21\u001b[0m     src: \u001b[38;5;28mdict\u001b[39m, \n\u001b[0;32m     22\u001b[0m     dest: \u001b[38;5;28mdict\u001b[39m\n\u001b[0;32m     23\u001b[0m ) \u001b[38;5;241m-\u001b[39m\u001b[38;5;241m>\u001b[39m \u001b[38;5;28mdict\u001b[39m:\n\u001b[0;32m     24\u001b[0m     \u001b[38;5;124;03m\"\"\"\u001b[39;00m\n\u001b[0;32m     25\u001b[0m \u001b[38;5;124;03m    Merge src dict into dest dict.\u001b[39;00m\n\u001b[0;32m     26\u001b[0m \n\u001b[1;32m   (...)\u001b[0m\n\u001b[0;32m     32\u001b[0m \u001b[38;5;124;03m        \u001b[39;00m\n\u001b[0;32m     33\u001b[0m \u001b[38;5;124;03m    \"\"\"\u001b[39;00m\n\u001b[1;32m---> 34\u001b[0m     \u001b[38;5;28;01mfor\u001b[39;00m key, value \u001b[38;5;129;01min\u001b[39;00m \u001b[43msrc\u001b[49m\u001b[38;5;241;43m.\u001b[39;49m\u001b[43mitems\u001b[49m():\n\u001b[0;32m     35\u001b[0m         \u001b[38;5;28;01mif\u001b[39;00m \u001b[38;5;28misinstance\u001b[39m(value, \u001b[38;5;28mdict\u001b[39m):\n\u001b[0;32m     36\u001b[0m             \u001b[38;5;66;03m# Get node or create one\u001b[39;00m\n\u001b[0;32m     37\u001b[0m             node \u001b[38;5;241m=\u001b[39m dest\u001b[38;5;241m.\u001b[39msetdefault(key, {})\n",
      "\u001b[1;31mAttributeError\u001b[0m: 'NoneType' object has no attribute 'items'"
     ]
    }
   ],
   "source": [
    "p = get_project(\"sm_sir\", region, reload=True)"
   ]
  },
  {
   "cell_type": "code",
   "execution_count": null,
   "id": "37594ced",
   "metadata": {},
   "outputs": [],
   "source": [
    "baseline_params = p.param_set.baseline\n",
    "pretty_print(baseline_params)\n"
   ]
  },
  {
   "cell_type": "code",
   "execution_count": null,
   "id": "dafd0763",
   "metadata": {},
   "outputs": [],
   "source": [
    "p = get_project(\"sm_sir\", region, reload=True)\n",
    "baseline_params = p.param_set.baseline\n",
    "model = p.run_baseline_model(baseline_params)\n",
    "baseline_df = model.get_derived_outputs_df()\n",
    "model_start_time = ref_times_to_dti(COVID_BASE_DATETIME, [baseline_params[\"time\"][\"start\"]])[0]\n",
    "model_end_time = ref_times_to_dti(COVID_BASE_DATETIME, [baseline_params[\"time\"][\"end\"]])[0]"
   ]
  },
  {
   "cell_type": "code",
   "execution_count": null,
   "id": "fcd29dc7",
   "metadata": {},
   "outputs": [],
   "source": [
    "def convert_ts_index_to_date(ts):\n",
    "    ts.index = ref_times_to_dti(COVID_BASE_DATETIME, ts.index)\n",
    "    return ts"
   ]
  },
  {
   "cell_type": "code",
   "execution_count": null,
   "id": "d57cb416",
   "metadata": {},
   "outputs": [],
   "source": [
    "# Be careful of this:\n",
    "from autumn.projects.sm_sir.bhutan.bhutan import project"
   ]
  },
  {
   "cell_type": "code",
   "execution_count": null,
   "id": "80684c91",
   "metadata": {},
   "outputs": [],
   "source": [
    "ts_sets = project.ts_set\n",
    "ts_set_dates = {k: convert_ts_index_to_date(v) for k, v in ts_sets.items()}"
   ]
  },
  {
   "cell_type": "code",
   "execution_count": null,
   "id": "6b830b8d",
   "metadata": {},
   "outputs": [],
   "source": [
    "# sc_models = p.run_scenario_models(model, p.param_set.scenarios)\n",
    "# scenario_dfs = [m.get_derived_outputs_df() for m in sc_models]"
   ]
  },
  {
   "cell_type": "code",
   "execution_count": null,
   "id": "0fb84995",
   "metadata": {},
   "outputs": [],
   "source": [
    "# Define what we want to plot\n",
    "outputs_to_plot = [\"notifications\", \"infection_deaths\", \"prop_ever_infected\", \"cdr\"]\n",
    "plot_end_time = ref_times_to_dti(COVID_BASE_DATETIME, [1000.])[0]\n",
    "\n",
    "fig = pyplot.figure(figsize=(15, 12))\n",
    "for i_out, output in enumerate(outputs_to_plot):\n",
    "    axis = fig.add_subplot(2, 2, i_out + 1)\n",
    "    \n",
    "    # Plotting\n",
    "    if output in ts_set_dates:\n",
    "        ts_set_dates[output].plot(style='.', label=\"\")\n",
    "    baseline_df[output].plot(label=\"baseline\")\n",
    "#     for scenario in range(len(sc_models)):\n",
    "#         scenario_dfs[scenario][outputs_to_plot[i_out]].plot(label=p.param_set.scenarios[scenario][\"description\"])\n",
    "    \n",
    "    # Display\n",
    "    axis.set_title(output.replace(\"_\", \" \"))\n",
    "    if i_out == 0:\n",
    "        axis.legend()\n",
    "    axis.set_xlim([model_start_time, model_end_time])"
   ]
  },
  {
   "cell_type": "code",
   "execution_count": null,
   "id": "7071c2a7",
   "metadata": {},
   "outputs": [],
   "source": [
    "import numpy as np\n",
    "np.exp(1.0 - 0.004 / (1.0 - 0.15)) / 0.0001"
   ]
  }
 ],
 "metadata": {
  "kernelspec": {
   "display_name": "Python 3 (ipykernel)",
   "language": "python",
   "name": "python3"
  },
  "language_info": {
   "codemirror_mode": {
    "name": "ipython",
    "version": 3
   },
   "file_extension": ".py",
   "mimetype": "text/x-python",
   "name": "python",
   "nbconvert_exporter": "python",
   "pygments_lexer": "ipython3",
   "version": "3.10.3"
  }
 },
 "nbformat": 4,
 "nbformat_minor": 5
}
