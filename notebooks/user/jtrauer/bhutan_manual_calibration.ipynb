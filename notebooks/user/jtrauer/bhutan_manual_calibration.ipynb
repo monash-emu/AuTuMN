{
 "cells": [
  {
   "cell_type": "code",
   "execution_count": null,
   "id": "1627fc92",
   "metadata": {},
   "outputs": [],
   "source": [
    "from matplotlib import pyplot\n",
    "import warnings\n",
    "\n",
    "from summer.utils import ref_times_to_dti\n",
    "\n",
    "from autumn.core.project import get_project\n",
    "from autumn.settings.constants import COVID_BASE_DATETIME\n",
    "from autumn.core.utils.display import pretty_print"
   ]
  },
  {
   "cell_type": "code",
   "execution_count": null,
   "id": "27d2182d",
   "metadata": {},
   "outputs": [],
   "source": [
    "pyplot.style.use(\"ggplot\")\n",
    "warnings.filterwarnings(\"ignore\")\n",
    "region = \"bhutan\""
   ]
  },
  {
   "cell_type": "code",
   "execution_count": null,
   "id": "dafd0763",
   "metadata": {},
   "outputs": [],
   "source": [
    "p = get_project(\"sm_sir\", region, reload=True)\n",
    "baseline_params = p.param_set.baseline\n",
    "model = p.run_baseline_model(baseline_params)\n",
    "baseline_df = model.get_derived_outputs_df()\n",
    "model_start_time = ref_times_to_dti(COVID_BASE_DATETIME, [baseline_params[\"time\"][\"start\"]])[0]\n",
    "model_end_time = ref_times_to_dti(COVID_BASE_DATETIME, [baseline_params[\"time\"][\"end\"]])[0]"
   ]
  },
  {
   "cell_type": "code",
   "execution_count": null,
   "id": "fcd29dc7",
   "metadata": {},
   "outputs": [],
   "source": [
    "def convert_ts_index_to_date(ts):\n",
    "    ts.index = ref_times_to_dti(COVID_BASE_DATETIME, ts.index)\n",
    "    return ts"
   ]
  },
  {
   "cell_type": "code",
   "execution_count": null,
   "id": "d57cb416",
   "metadata": {},
   "outputs": [],
   "source": [
    "# Be careful of this:\n",
    "from autumn.projects.sm_sir.bhutan.bhutan import project"
   ]
  },
  {
   "cell_type": "code",
   "execution_count": null,
   "id": "80684c91",
   "metadata": {},
   "outputs": [],
   "source": [
    "ts_sets = project.ts_set\n",
    "ts_set_dates = {k: convert_ts_index_to_date(v) for k, v in ts_sets.items()}"
   ]
  },
  {
   "cell_type": "code",
   "execution_count": null,
   "id": "37594ced",
   "metadata": {},
   "outputs": [],
   "source": [
    "pretty_print(baseline_params)"
   ]
  },
  {
   "cell_type": "code",
   "execution_count": null,
   "id": "6b830b8d",
   "metadata": {},
   "outputs": [],
   "source": [
    "# sc_models = p.run_scenario_models(model, p.param_set.scenarios)\n",
    "# scenario_dfs = [m.get_derived_outputs_df() for m in sc_models]"
   ]
  },
  {
   "cell_type": "code",
   "execution_count": null,
   "id": "0fb84995",
   "metadata": {},
   "outputs": [],
   "source": [
    "# Define what we want to plot\n",
    "outputs_to_plot = [\"notifications\", \"infection_deaths\", \"prop_ever_infected\", \"cdr\"]\n",
    "plot_end_time = ref_times_to_dti(COVID_BASE_DATETIME, [1000.])[0]\n",
    "\n",
    "fig = pyplot.figure(figsize=(15, 12))\n",
    "for i_out, output in enumerate(outputs_to_plot):\n",
    "    axis = fig.add_subplot(2, 2, i_out + 1)\n",
    "    \n",
    "    # Plotting\n",
    "    if output in ts_set_dates:\n",
    "        ts_set_dates[output].plot(style='.', label=\"\")\n",
    "    baseline_df[output].plot(label=\"baseline\")\n",
    "#     for scenario in range(len(sc_models)):\n",
    "#         scenario_dfs[scenario][outputs_to_plot[i_out]].plot(label=p.param_set.scenarios[scenario][\"description\"])\n",
    "    \n",
    "    # Display\n",
    "    axis.set_title(output.replace(\"_\", \" \"))\n",
    "    if i_out == 0:\n",
    "        axis.legend()\n",
    "    axis.set_xlim([model_start_time, model_end_time])"
   ]
  },
  {
   "cell_type": "code",
   "execution_count": null,
   "id": "77700e33",
   "metadata": {},
   "outputs": [],
   "source": [
    "ref_times_to_dti(COVID_BASE_DATETIME, [897.])"
   ]
  },
  {
   "cell_type": "code",
   "execution_count": null,
   "id": "f4c51bd0",
   "metadata": {},
   "outputs": [],
   "source": []
  }
 ],
 "metadata": {
  "kernelspec": {
   "display_name": "Python 3 (ipykernel)",
   "language": "python",
   "name": "python3"
  },
  "language_info": {
   "codemirror_mode": {
    "name": "ipython",
    "version": 3
   },
   "file_extension": ".py",
   "mimetype": "text/x-python",
   "name": "python",
   "nbconvert_exporter": "python",
   "pygments_lexer": "ipython3",
   "version": "3.10.4"
  }
 },
 "nbformat": 4,
 "nbformat_minor": 5
}
