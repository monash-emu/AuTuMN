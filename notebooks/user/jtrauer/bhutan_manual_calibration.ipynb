{
 "cells": [
  {
   "cell_type": "code",
   "execution_count": 1,
   "id": "1627fc92",
   "metadata": {},
   "outputs": [],
   "source": [
    "from matplotlib import pyplot\n",
    "import warnings\n",
    "\n",
    "from summer.utils import ref_times_to_dti\n",
    "\n",
    "from autumn.tools.project import get_project\n",
    "from autumn.settings.constants import COVID_BASE_DATETIME\n",
    "from autumn.tools.utils.display import pretty_print"
   ]
  },
  {
   "cell_type": "code",
   "execution_count": 2,
   "id": "27d2182d",
   "metadata": {},
   "outputs": [],
   "source": [
    "pyplot.style.use(\"ggplot\")\n",
    "warnings.filterwarnings(\"ignore\")\n",
    "region = \"bhutan\""
   ]
  },
  {
   "cell_type": "code",
   "execution_count": 3,
   "id": "dafd0763",
   "metadata": {},
   "outputs": [
    {
     "name": "stdout",
     "output_type": "stream",
     "text": [
      "0.1\n",
      "0.1\n",
      "0.1\n",
      "0.1\n",
      "0.1\n",
      "0.1\n",
      "0.1\n"
     ]
    }
   ],
   "source": [
    "project = get_project(\"sm_sir\", region, reload=True)\n",
    "baseline_params = project.param_set.baseline\n",
    "model = project.run_baseline_model(baseline_params)\n",
    "baseline_df = model.get_derived_outputs_df()\n",
    "model_start_time = ref_times_to_dti(COVID_BASE_DATETIME, [baseline_params[\"time\"][\"start\"]])[0]"
   ]
  },
  {
   "cell_type": "code",
   "execution_count": 4,
   "id": "fcd29dc7",
   "metadata": {},
   "outputs": [],
   "source": [
    "def convert_ts_index_to_date(ts):\n",
    "    ts.index = ref_times_to_dti(COVID_BASE_DATETIME, ts.index)\n",
    "    return ts"
   ]
  },
  {
   "cell_type": "code",
   "execution_count": 7,
   "id": "d57cb416",
   "metadata": {},
   "outputs": [],
   "source": [
    "# Be careful of this:\n",
    "# from autumn.projects.sm_sir.bhutan.bhutan import project"
   ]
  },
  {
   "cell_type": "code",
   "execution_count": 8,
   "id": "80684c91",
   "metadata": {},
   "outputs": [],
   "source": [
    "ts_sets = project.ts_set\n",
    "ts_set_dates = {k: convert_ts_index_to_date(v) for k, v in ts_sets.items()}"
   ]
  },
  {
   "cell_type": "code",
   "execution_count": 9,
   "id": "37594ced",
   "metadata": {},
   "outputs": [
    {
     "name": "stdout",
     "output_type": "stream",
     "text": [
      "Params\n",
      "{ 'activate_random_process': False,\n",
      "  'additional_immunity': None,\n",
      "  'age_groups': [0, 15, 25, 50, 70],\n",
      "  'age_stratification': { 'cfr': { 'multiplier': 0.2,\n",
      "                                   'source_immunity_distribution': { 'high': 0.386,\n",
      "                                                                     'low': 0.302,\n",
      "                                                                     'none': 0.312},\n",
      "                                   'source_immunity_protection': { 'high': 0.85,\n",
      "                                                                   'low': 0.5,\n",
      "                                                                   'none': 0.0},\n",
      "                                   'values': { 0: 1e-05,\n",
      "                                               5: 1e-05,\n",
      "                                               10: 1e-05,\n",
      "                                               15: 1e-05,\n",
      "                                               20: 4e-05,\n",
      "                                               25: 4e-05,\n",
      "                                               30: 0.0004,\n",
      "                                               35: 0.0004,\n",
      "                                               40: 0.0005,\n",
      "                                               45: 0.0005,\n",
      "                                               50: 0.0026,\n",
      "                                               55: 0.0026,\n",
      "                                               60: 0.0112,\n",
      "                                               65: 0.0112,\n",
      "                                               70: 0.0493,\n",
      "                                               75: 0.0493,\n",
      "                                               80: 0.159}},\n",
      "                          'prop_hospital': { 'multiplier': 0.2,\n",
      "                                             'reference_strain': 'delta',\n",
      "                                             'source_immunity_distribution': { 'high': 0.386,\n",
      "                                                                               'low': 0.302,\n",
      "                                                                               'none': 0.312},\n",
      "                                             'source_immunity_protection': { 'high': 0.85,\n",
      "                                                                             'low': 0.5,\n",
      "                                                                             'none': 0.0}},\n",
      "                          'prop_symptomatic': { 0: 0.533,\n",
      "                                                5: 0.533,\n",
      "                                                10: 0.533,\n",
      "                                                15: 0.533,\n",
      "                                                20: 0.679,\n",
      "                                                25: 0.679,\n",
      "                                                30: 0.679,\n",
      "                                                35: 0.679,\n",
      "                                                40: 0.679,\n",
      "                                                45: 0.679,\n",
      "                                                50: 0.679,\n",
      "                                                55: 0.679,\n",
      "                                                60: 0.803,\n",
      "                                                65: 0.803,\n",
      "                                                70: 0.803,\n",
      "                                                75: 0.803},\n",
      "                          'susceptibility': { 0: 0.36,\n",
      "                                              5: 0.36,\n",
      "                                              10: 0.36,\n",
      "                                              15: 1.0,\n",
      "                                              20: 1.0,\n",
      "                                              25: 1.0,\n",
      "                                              30: 1.0,\n",
      "                                              35: 1.0,\n",
      "                                              40: 1.0,\n",
      "                                              45: 1.0,\n",
      "                                              50: 1.0,\n",
      "                                              55: 1.0,\n",
      "                                              60: 1.0,\n",
      "                                              65: 1.0,\n",
      "                                              70: 1.41,\n",
      "                                              75: 1.41}},\n",
      "  'asympt_infectiousness_effect': 0.5,\n",
      "  'booster_effect_duration': 90,\n",
      "  'contact_rate': 0.23843334740816086,\n",
      "  'country': {'iso3': 'BTN'},\n",
      "  'cumulative_start_time': None,\n",
      "  'description': 'BASELINE',\n",
      "  'detect_prop': 0.1127124229593108,\n",
      "  'future_monthly_booster_rate': None,\n",
      "  'hospital_stay': { 'hospital_all': { 'distribution': 'gamma',\n",
      "                                       'parameters': { 'mean': 3.0,\n",
      "                                                       'shape': 5.0}},\n",
      "                     'icu': { 'distribution': 'gamma',\n",
      "                              'parameters': {'mean': 4.7, 'shape': 5.0}}},\n",
      "  'immunity_stratification': { 'infection_risk_reduction': { 'high': 0.6,\n",
      "                                                             'low': 0.4,\n",
      "                                                             'none': 0.0},\n",
      "                               'prop_high_among_immune': 0.0,\n",
      "                               'prop_immune': 0.85},\n",
      "  'infectious_seed': 242.74099989273813,\n",
      "  'is_dynamic_mixing_matrix': True,\n",
      "  'isolate_infectiousness_effect': 0.2,\n",
      "  'mobility': { 'age_mixing': None,\n",
      "                'google_mobility_locations': { 'other_locations': { 'grocery_and_pharmacy': 0.0,\n",
      "                                                                    'parks': 0.0,\n",
      "                                                                    'retail_and_recreation': 0.0,\n",
      "                                                                    'tiles_visited': 1.0,\n",
      "                                                                    'transit_stations': 0.0},\n",
      "                                               'work': { 'tiles_visited': 1.0,\n",
      "                                                         'workplaces': 0.0}},\n",
      "                'microdistancing': { 'behaviour': { 'function_type': 'tanh',\n",
      "                                                    'locations': [ 'work',\n",
      "                                                                   'other_locations'],\n",
      "                                                    'parameters': { 'end_asymptote': 0.0,\n",
      "                                                                    'inflection_time': 805.0,\n",
      "                                                                    'shape': 0.1,\n",
      "                                                                    'start_asymptote': 0.2}}},\n",
      "                'mixing': {},\n",
      "                'npi_effectiveness': {},\n",
      "                'region': None,\n",
      "                'smooth_google_data': False,\n",
      "                'square_mobility_effect': True},\n",
      "  'population': {'region': None, 'year': 2022},\n",
      "  'prop_icu_among_hospitalised': 0.08,\n",
      "  'random_process': None,\n",
      "  'ref_mixing_iso3': 'CHN',\n",
      "  'requested_cumulative_outputs': [],\n",
      "  'sojourns': { 'active': {'proportion_early': 0.333, 'total_time': 4.0},\n",
      "                'latent': { 'proportion_early': 0.5,\n",
      "                            'total_time': 1.881279162078474},\n",
      "                'recovered': 180.0},\n",
      "  'testing_to_detection': None,\n",
      "  'time': {'end': 912.0, 'start': 750.0, 'step': 1},\n",
      "  'time_from_onset_to_event': { 'death': { 'distribution': 'gamma',\n",
      "                                           'parameters': { 'mean': 14.0,\n",
      "                                                           'shape': 5.0}},\n",
      "                                'hospitalisation': { 'distribution': 'gamma',\n",
      "                                                     'parameters': { 'mean': 5.0,\n",
      "                                                                     'shape': 5.0}},\n",
      "                                'icu_admission': { 'distribution': 'gamma',\n",
      "                                                   'parameters': { 'mean': 2.0,\n",
      "                                                                   'shape': 5.0}},\n",
      "                                'notification': { 'distribution': 'gamma',\n",
      "                                                  'parameters': { 'mean': 3.0,\n",
      "                                                                  'shape': 5.0}}},\n",
      "  'voc_emergence': { 'new_strain': { 'contact_rate_multiplier': 1.0,\n",
      "                                     'cross_protection': { 'new_strain': { 'early_reinfection': 1.0,\n",
      "                                                                           'late_reinfection': 0.0},\n",
      "                                                           'omicron': { 'early_reinfection': 1.0,\n",
      "                                                                        'late_reinfection': 0.0}},\n",
      "                                     'death_protection': 0.0,\n",
      "                                     'hosp_protection': 0.0,\n",
      "                                     'icu_multiplier': 1.0,\n",
      "                                     'immune_escape': 0.0,\n",
      "                                     'new_voc_seed': { 'entry_rate': 10.0,\n",
      "                                                       'seed_duration': 1.0,\n",
      "                                                       'start_time': 10000.0},\n",
      "                                     'relative_active_period': 1.0,\n",
      "                                     'relative_latency': 1.0,\n",
      "                                     'seed_prop': 0.0,\n",
      "                                     'starting_strain': False},\n",
      "                     'omicron': { 'contact_rate_multiplier': 1.0,\n",
      "                                  'cross_protection': { 'new_strain': { 'early_reinfection': 0.4,\n",
      "                                                                        'late_reinfection': 0.0},\n",
      "                                                        'omicron': { 'early_reinfection': 1.0,\n",
      "                                                                     'late_reinfection': 0.0}},\n",
      "                                  'death_protection': 0.0,\n",
      "                                  'hosp_protection': 0.0,\n",
      "                                  'icu_multiplier': 1.0,\n",
      "                                  'immune_escape': 0.0,\n",
      "                                  'new_voc_seed': None,\n",
      "                                  'seed_prop': 1.0,\n",
      "                                  'starting_strain': True}}}\n"
     ]
    }
   ],
   "source": [
    "pretty_print(baseline_params)"
   ]
  },
  {
   "cell_type": "code",
   "execution_count": 10,
   "id": "6b830b8d",
   "metadata": {},
   "outputs": [
    {
     "ename": "AttributeError",
     "evalue": "module 'autumn.projects.sm_sir.bhutan.bhutan.project' has no attribute 'run_scenario_models'",
     "output_type": "error",
     "traceback": [
      "\u001b[1;31m---------------------------------------------------------------------------\u001b[0m",
      "\u001b[1;31mAttributeError\u001b[0m                            Traceback (most recent call last)",
      "Input \u001b[1;32mIn [10]\u001b[0m, in \u001b[0;36m<cell line: 1>\u001b[1;34m()\u001b[0m\n\u001b[1;32m----> 1\u001b[0m sc_models \u001b[38;5;241m=\u001b[39m \u001b[43mproject\u001b[49m\u001b[38;5;241;43m.\u001b[39;49m\u001b[43mrun_scenario_models\u001b[49m(model, project\u001b[38;5;241m.\u001b[39mparam_set\u001b[38;5;241m.\u001b[39mscenarios)\n\u001b[0;32m      2\u001b[0m scenario_dfs \u001b[38;5;241m=\u001b[39m [m\u001b[38;5;241m.\u001b[39mget_derived_outputs_df() \u001b[38;5;28;01mfor\u001b[39;00m m \u001b[38;5;129;01min\u001b[39;00m sc_models]\n",
      "\u001b[1;31mAttributeError\u001b[0m: module 'autumn.projects.sm_sir.bhutan.bhutan.project' has no attribute 'run_scenario_models'"
     ]
    }
   ],
   "source": [
    "sc_models = project.run_scenario_models(model, project.param_set.scenarios)\n",
    "scenario_dfs = [m.get_derived_outputs_df() for m in sc_models]"
   ]
  },
  {
   "cell_type": "code",
   "execution_count": 11,
   "id": "0fb84995",
   "metadata": {},
   "outputs": [
    {
     "ename": "NameError",
     "evalue": "name 'sc_models' is not defined",
     "output_type": "error",
     "traceback": [
      "\u001b[1;31m---------------------------------------------------------------------------\u001b[0m",
      "\u001b[1;31mNameError\u001b[0m                                 Traceback (most recent call last)",
      "Input \u001b[1;32mIn [11]\u001b[0m, in \u001b[0;36m<cell line: 6>\u001b[1;34m()\u001b[0m\n\u001b[0;32m     11\u001b[0m     ts_set_dates[output]\u001b[38;5;241m.\u001b[39mplot(style\u001b[38;5;241m=\u001b[39m\u001b[38;5;124m'\u001b[39m\u001b[38;5;124m.\u001b[39m\u001b[38;5;124m'\u001b[39m, label\u001b[38;5;241m=\u001b[39m\u001b[38;5;124m\"\u001b[39m\u001b[38;5;124m\"\u001b[39m)\n\u001b[0;32m     12\u001b[0m baseline_df[output]\u001b[38;5;241m.\u001b[39mplot(label\u001b[38;5;241m=\u001b[39m\u001b[38;5;124m\"\u001b[39m\u001b[38;5;124mbaseline\u001b[39m\u001b[38;5;124m\"\u001b[39m)\n\u001b[1;32m---> 13\u001b[0m \u001b[38;5;28;01mfor\u001b[39;00m scenario \u001b[38;5;129;01min\u001b[39;00m \u001b[38;5;28mrange\u001b[39m(\u001b[38;5;28mlen\u001b[39m(\u001b[43msc_models\u001b[49m)):\n\u001b[0;32m     14\u001b[0m     scenario_dfs[scenario][outputs_to_plot[i_out]]\u001b[38;5;241m.\u001b[39mplot(label\u001b[38;5;241m=\u001b[39mproject\u001b[38;5;241m.\u001b[39mparam_set\u001b[38;5;241m.\u001b[39mscenarios[scenario][\u001b[38;5;124m\"\u001b[39m\u001b[38;5;124mdescription\u001b[39m\u001b[38;5;124m\"\u001b[39m])\n\u001b[0;32m     16\u001b[0m \u001b[38;5;66;03m# Display\u001b[39;00m\n",
      "\u001b[1;31mNameError\u001b[0m: name 'sc_models' is not defined"
     ]
    },
    {
     "data": {
      "image/png": "[encoded data removed]",
      "text/plain": [
       "<Figure size 1080x864 with 1 Axes>"
      ]
     },
     "metadata": {},
     "output_type": "display_data"
    }
   ],
   "source": [
    "# Define what we want to plot\n",
    "outputs_to_plot = [\"notifications\", \"infection_deaths\", \"prop_ever_infected\", \"cdr\"]\n",
    "plot_end_time = ref_times_to_dti(COVID_BASE_DATETIME, [1000.])[0]\n",
    "\n",
    "fig = pyplot.figure(figsize=(15, 12))\n",
    "for i_out, output in enumerate(outputs_to_plot):\n",
    "    axis = fig.add_subplot(2, 2, i_out + 1)\n",
    "    \n",
    "    # Plotting\n",
    "    if output in ts_set_dates:\n",
    "        ts_set_dates[output].plot(style='.', label=\"\")\n",
    "    baseline_df[output].plot(label=\"baseline\")\n",
    "    for scenario in range(len(sc_models)):\n",
    "        scenario_dfs[scenario][outputs_to_plot[i_out]].plot(label=project.param_set.scenarios[scenario][\"description\"])\n",
    "    \n",
    "    # Display\n",
    "    axis.set_title(output.replace(\"_\", \" \"))\n",
    "    if i_out == 0:\n",
    "        axis.legend()\n",
    "    axis.set_xlim(left=model_start_time)"
   ]
  },
  {
   "cell_type": "code",
   "execution_count": null,
   "id": "dc543104",
   "metadata": {},
   "outputs": [],
   "source": [
    "ref_times_to_dti(COVID_BASE_DATETIME, [805])"
   ]
  }
 ],
 "metadata": {
  "kernelspec": {
   "display_name": "Python 3 (ipykernel)",
   "language": "python",
   "name": "python3"
  },
  "language_info": {
   "codemirror_mode": {
    "name": "ipython",
    "version": 3
   },
   "file_extension": ".py",
   "mimetype": "text/x-python",
   "name": "python",
   "nbconvert_exporter": "python",
   "pygments_lexer": "ipython3",
   "version": "3.10.3"
  }
 },
 "nbformat": 4,
 "nbformat_minor": 5
}
