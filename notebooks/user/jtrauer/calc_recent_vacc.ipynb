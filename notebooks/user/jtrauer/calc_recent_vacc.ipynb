{
 "cells": [
  {
   "cell_type": "code",
   "execution_count": null,
   "id": "37539e8b-bef5-448c-94b2-9c85491bbe42",
   "metadata": {},
   "outputs": [],
   "source": [
    "import pandas as pd\n",
    "import numpy as np\n",
    "\n",
    "from summer.utils import ref_times_to_dti\n",
    "\n",
    "from autumn.core.inputs.covid_phl.queries import get_phl_vac_coverage\n",
    "from autumn.settings.constants import COVID_BASE_DATETIME\n",
    "from autumn.core.utils.display import pretty_print\n",
    "from autumn.core.utils.pandas import increment_last_period\n",
    "\n",
    "pd.options.plotting.backend = \"plotly\""
   ]
  },
  {
   "cell_type": "code",
   "execution_count": null,
   "id": "b2961468-2d5a-4d8d-8803-f8fe46aad72f",
   "metadata": {},
   "outputs": [],
   "source": [
    "vacc_data = get_phl_vac_coverage(dose=\"SECOND_DOSE\")\n",
    "booster_series = get_phl_vac_coverage(dose=\"BOOSTER_DOSE\")"
   ]
  },
  {
   "cell_type": "code",
   "execution_count": null,
   "id": "d2a87d16-0460-47b1-b4ed-93c6440874e6",
   "metadata": {},
   "outputs": [],
   "source": [
    "recency_values = [1, 7, 30, 60, 90, 180, 365, 730]\n",
    "working_df = pd.DataFrame(0, index=vacc_data.index, columns=recency_values)\n",
    "for value in recency_values:\n",
    "    working_df[value] = increment_last_period(value, vacc_data)\n",
    "working_df[\"original\"] = vacc_data\n",
    "working_df.plot()"
   ]
  },
  {
   "cell_type": "code",
   "execution_count": null,
   "id": "eca6b252-82fd-4ef5-b13b-519add33f895",
   "metadata": {},
   "outputs": [],
   "source": [
    "from autumn.settings import Region, Models\n",
    "from autumn.core.project import get_project, run_project_locally"
   ]
  },
  {
   "cell_type": "code",
   "execution_count": null,
   "id": "b2c8f74c-3a08-4896-baf1-9281f512c4e2",
   "metadata": {},
   "outputs": [],
   "source": [
    "region = Region.NCR\n",
    "model = Models.SM_SIR\n",
    "project = get_project(model, region)\n",
    "custom_params = project.param_set.baseline"
   ]
  },
  {
   "cell_type": "code",
   "execution_count": null,
   "id": "1aea344f-4066-4292-8f7d-a014896dd5ee",
   "metadata": {},
   "outputs": [],
   "source": [
    "model = project.run_baseline_model(custom_params)"
   ]
  },
  {
   "cell_type": "code",
   "execution_count": null,
   "id": "4b874c66-4788-4a84-a342-07d162432251",
   "metadata": {},
   "outputs": [],
   "source": [
    "outputs = model.get_derived_outputs_df()"
   ]
  },
  {
   "cell_type": "code",
   "execution_count": null,
   "id": "aeec86f7-51dd-4b7a-ad32-9d8d9ee6aac0",
   "metadata": {},
   "outputs": [],
   "source": [
    "# pretty_print(custom_params)"
   ]
  },
  {
   "cell_type": "code",
   "execution_count": null,
   "id": "68e62875-1dd3-4dab-8fb5-8711d903471b",
   "metadata": {},
   "outputs": [],
   "source": [
    "outputs[[col for col in outputs.columns if \"prop_immune\" in col and \"age\" not in col]].plot.area()"
   ]
  }
 ],
 "metadata": {
  "kernelspec": {
   "display_name": "Python 3 (ipykernel)",
   "language": "python",
   "name": "python3"
  },
  "language_info": {
   "codemirror_mode": {
    "name": "ipython",
    "version": 3
   },
   "file_extension": ".py",
   "mimetype": "text/x-python",
   "name": "python",
   "nbconvert_exporter": "python",
   "pygments_lexer": "ipython3",
   "version": "3.10.4"
  }
 },
 "nbformat": 4,
 "nbformat_minor": 5
}
