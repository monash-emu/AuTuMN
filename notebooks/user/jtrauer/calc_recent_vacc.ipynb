{
 "cells": [
  {
   "cell_type": "code",
   "execution_count": null,
   "id": "37539e8b-bef5-448c-94b2-9c85491bbe42",
   "metadata": {},
   "outputs": [],
   "source": [
    "import pandas as pd\n",
    "import numpy as np\n",
    "\n",
    "from autumn.core.inputs.covid_au.queries import get_nt_vac_coverage\n",
    "\n",
    "pd.options.plotting.backend = \"plotly\""
   ]
  },
  {
   "cell_type": "code",
   "execution_count": null,
   "id": "b2961468-2d5a-4d8d-8803-f8fe46aad72f",
   "metadata": {},
   "outputs": [],
   "source": [
    "vacc_data = get_nt_vac_coverage(dose=2)"
   ]
  },
  {
   "cell_type": "code",
   "execution_count": null,
   "id": "c68814fc-a720-4ea9-afa8-58a14b46c1eb",
   "metadata": {},
   "outputs": [],
   "source": [
    "def get_recent_increments(recency, values):\n",
    "    return values - pd.Series(np.interp(values.index - recency, values.index, values), index=values.index)\n",
    "\n",
    "recent_values = get_recent_increments(30, vacc_data)\n",
    "recent_values.plot()"
   ]
  }
 ],
 "metadata": {
  "kernelspec": {
   "display_name": "Python 3 (ipykernel)",
   "language": "python",
   "name": "python3"
  },
  "language_info": {
   "codemirror_mode": {
    "name": "ipython",
    "version": 3
   },
   "file_extension": ".py",
   "mimetype": "text/x-python",
   "name": "python",
   "nbconvert_exporter": "python",
   "pygments_lexer": "ipython3",
   "version": "3.10.4"
  }
 },
 "nbformat": 4,
 "nbformat_minor": 5
}
