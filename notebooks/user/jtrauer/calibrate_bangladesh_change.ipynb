{
 "cells": [
  {
   "cell_type": "code",
   "execution_count": null,
   "id": "017e5759",
   "metadata": {},
   "outputs": [],
   "source": [
    "from summer.utils import ref_times_to_dti\n",
    "from autumn.tools.project import get_project, load_timeseries, build_rel_path"
   ]
  },
  {
   "cell_type": "code",
   "execution_count": null,
   "id": "9be52d02",
   "metadata": {},
   "outputs": [],
   "source": [
    "from autumn.projects.sm_sir.bangladesh.bangladesh import project"
   ]
  },
  {
   "cell_type": "code",
   "execution_count": null,
   "id": "da9cb4f4",
   "metadata": {},
   "outputs": [],
   "source": [
    "def convert_ts_index_to_date(ts):\n",
    "    ts.index = ref_times_to_dti(project.BASE_DATE, ts.index)\n",
    "    return ts\n",
    "def convert_ts_set_to_date(ts_set):\n",
    "    return {k: convert_ts_index_to_date(v) for k, v in ts_set.items()}"
   ]
  },
  {
   "cell_type": "code",
   "execution_count": null,
   "id": "1e68fa29",
   "metadata": {},
   "outputs": [],
   "source": [
    "p = get_project(\"sm_sir\", \"bangladesh\", reload=True)"
   ]
  },
  {
   "cell_type": "code",
   "execution_count": null,
   "id": "29687287",
   "metadata": {},
   "outputs": [],
   "source": [
    "results = p.run_baseline_model(project.param_set.baseline)"
   ]
  },
  {
   "cell_type": "code",
   "execution_count": null,
   "id": "e4acbb75",
   "metadata": {},
   "outputs": [],
   "source": [
    "project.ts_set[\"notif_change\"] = convert_ts_index_to_date(project.ts_set[\"notif_change\"])"
   ]
  },
  {
   "cell_type": "code",
   "execution_count": null,
   "id": "68ed8474",
   "metadata": {},
   "outputs": [],
   "source": [
    "derived_outputs = results.get_derived_outputs_df()\n",
    "derived_outputs[\"notif_change\"].plot()\n",
    "project.ts_set[\"notif_change\"].plot()"
   ]
  }
 ],
 "metadata": {
  "kernelspec": {
   "display_name": "Python 3 (ipykernel)",
   "language": "python",
   "name": "python3"
  },
  "language_info": {
   "codemirror_mode": {
    "name": "ipython",
    "version": 3
   },
   "file_extension": ".py",
   "mimetype": "text/x-python",
   "name": "python",
   "nbconvert_exporter": "python",
   "pygments_lexer": "ipython3",
   "version": "3.9.11"
  }
 },
 "nbformat": 4,
 "nbformat_minor": 5
}
