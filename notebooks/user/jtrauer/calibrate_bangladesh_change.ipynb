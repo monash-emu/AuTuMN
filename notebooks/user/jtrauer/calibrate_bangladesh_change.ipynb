{
 "cells": [
  {
   "cell_type": "code",
   "execution_count": 1,
   "id": "017e5759",
   "metadata": {},
   "outputs": [],
   "source": [
    "import pandas as pd\n",
    "\n",
    "from autumn.tools.project import get_project, load_timeseries, build_rel_path"
   ]
  },
  {
   "cell_type": "code",
   "execution_count": 2,
   "id": "1e68fa29",
   "metadata": {},
   "outputs": [],
   "source": [
    "region = \"bangladesh\"\n",
    "project = get_project(\"sm_sir\", region, reload=True)"
   ]
  },
  {
   "cell_type": "code",
   "execution_count": 3,
   "id": "4f51572f",
   "metadata": {},
   "outputs": [],
   "source": [
    "timeseries_path = str(project.get_path() / \"timeseries.json\")\n",
    "ts_set = load_timeseries(timeseries_path)\n",
    "notif_smooth = pd.Series(ts_set[\"notifications\"].rolling(window=7, center=True).mean())"
   ]
  },
  {
   "cell_type": "code",
   "execution_count": 4,
   "id": "29687287",
   "metadata": {
    "scrolled": true
   },
   "outputs": [],
   "source": [
    "results = project.run_baseline_model(project.param_set.baseline)"
   ]
  },
  {
   "cell_type": "code",
   "execution_count": 5,
   "id": "2adf90c7",
   "metadata": {},
   "outputs": [
    {
     "data": {
      "text/plain": [
       "array([   0.        ,   45.95137936,  351.25319453,  441.75917078,\n",
       "        165.4514591 , -111.71257033, -221.77875312, -212.41165313,\n",
       "       -160.87540463, -108.99037569,  -69.69541277])"
      ]
     },
     "execution_count": 5,
     "metadata": {},
     "output_type": "execute_result"
    }
   ],
   "source": [
    "results.derived_outputs[\"notif_change\"]"
   ]
  },
  {
   "cell_type": "code",
   "execution_count": 9,
   "id": "68ed8474",
   "metadata": {},
   "outputs": [
    {
     "data": {
      "text/plain": [
       "<AxesSubplot:>"
      ]
     },
     "execution_count": 9,
     "metadata": {},
     "output_type": "execute_result"
    },
    {
     "data": {
      "image/png": "[encoded data removed]",
      "text/plain": [
       "<Figure size 432x288 with 1 Axes>"
      ]
     },
     "metadata": {
      "needs_background": "light"
     },
     "output_type": "display_data"
    }
   ],
   "source": [
    "ts_set[\"notifications\"].plot()\n",
    "notif_smooth.plot()\n",
    "derived_outputs = results.get_derived_outputs_df()\n",
    "derived_outputs[\"notifications\"].plot()"
   ]
  }
 ],
 "metadata": {
  "kernelspec": {
   "display_name": "Python 3",
   "language": "python",
   "name": "python3"
  },
  "language_info": {
   "codemirror_mode": {
    "name": "ipython",
    "version": 3
   },
   "file_extension": ".py",
   "mimetype": "text/x-python",
   "name": "python",
   "nbconvert_exporter": "python",
   "pygments_lexer": "ipython3",
   "version": "3.6.13"
  }
 },
 "nbformat": 4,
 "nbformat_minor": 5
}
