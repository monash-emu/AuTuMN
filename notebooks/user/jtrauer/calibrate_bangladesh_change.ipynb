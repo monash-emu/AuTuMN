{
 "cells": [
  {
   "cell_type": "code",
   "execution_count": 1,
   "id": "017e5759",
   "metadata": {},
   "outputs": [],
   "source": [
    "from summer.utils import ref_times_to_dti\n",
    "from autumn.tools.project import get_project, load_timeseries, build_rel_path"
   ]
  },
  {
   "cell_type": "code",
   "execution_count": 2,
   "id": "b6435145",
   "metadata": {},
   "outputs": [],
   "source": [
    "from autumn.projects.sm_sir.bangladesh.bangladesh import project"
   ]
  },
  {
   "cell_type": "code",
   "execution_count": 3,
   "id": "25d37c15",
   "metadata": {},
   "outputs": [],
   "source": [
    "def convert_ts_index_to_date(ts):\n",
    "    ts.index = ref_times_to_dti(project.BASE_DATE, ts.index)\n",
    "    return ts\n",
    "def convert_ts_set_to_date(ts_set):\n",
    "    return {k: convert_ts_index_to_date(v) for k, v in ts_set.items()}"
   ]
  },
  {
   "cell_type": "code",
   "execution_count": 4,
   "id": "1e68fa29",
   "metadata": {},
   "outputs": [],
   "source": [
    "p = get_project(\"sm_sir\", \"bangladesh\", reload=True)"
   ]
  },
  {
   "cell_type": "code",
   "execution_count": 5,
   "id": "4f51572f",
   "metadata": {},
   "outputs": [
    {
     "ename": "AttributeError",
     "evalue": "'numpy.ndarray' object has no attribute 'index'",
     "output_type": "error",
     "traceback": [
      "\u001b[1;31m---------------------------------------------------------------------------\u001b[0m",
      "\u001b[1;31mAttributeError\u001b[0m                            Traceback (most recent call last)",
      "Input \u001b[1;32mIn [5]\u001b[0m, in \u001b[0;36m<cell line: 1>\u001b[1;34m()\u001b[0m\n\u001b[1;32m----> 1\u001b[0m ts_set_dates \u001b[38;5;241m=\u001b[39m \u001b[43mconvert_ts_set_to_date\u001b[49m\u001b[43m(\u001b[49m\u001b[43mproject\u001b[49m\u001b[38;5;241;43m.\u001b[39;49m\u001b[43mts_set\u001b[49m\u001b[43m)\u001b[49m\n",
      "Input \u001b[1;32mIn [3]\u001b[0m, in \u001b[0;36mconvert_ts_set_to_date\u001b[1;34m(ts_set)\u001b[0m\n\u001b[0;32m      4\u001b[0m \u001b[38;5;28;01mdef\u001b[39;00m \u001b[38;5;21mconvert_ts_set_to_date\u001b[39m(ts_set):\n\u001b[1;32m----> 5\u001b[0m     \u001b[38;5;28;01mreturn\u001b[39;00m {k: convert_ts_index_to_date(v) \u001b[38;5;28;01mfor\u001b[39;00m k, v \u001b[38;5;129;01min\u001b[39;00m ts_set\u001b[38;5;241m.\u001b[39mitems()}\n",
      "Input \u001b[1;32mIn [3]\u001b[0m, in \u001b[0;36m<dictcomp>\u001b[1;34m(.0)\u001b[0m\n\u001b[0;32m      4\u001b[0m \u001b[38;5;28;01mdef\u001b[39;00m \u001b[38;5;21mconvert_ts_set_to_date\u001b[39m(ts_set):\n\u001b[1;32m----> 5\u001b[0m     \u001b[38;5;28;01mreturn\u001b[39;00m {k: \u001b[43mconvert_ts_index_to_date\u001b[49m\u001b[43m(\u001b[49m\u001b[43mv\u001b[49m\u001b[43m)\u001b[49m \u001b[38;5;28;01mfor\u001b[39;00m k, v \u001b[38;5;129;01min\u001b[39;00m ts_set\u001b[38;5;241m.\u001b[39mitems()}\n",
      "Input \u001b[1;32mIn [3]\u001b[0m, in \u001b[0;36mconvert_ts_index_to_date\u001b[1;34m(ts)\u001b[0m\n\u001b[0;32m      1\u001b[0m \u001b[38;5;28;01mdef\u001b[39;00m \u001b[38;5;21mconvert_ts_index_to_date\u001b[39m(ts):\n\u001b[1;32m----> 2\u001b[0m     ts\u001b[38;5;241m.\u001b[39mindex \u001b[38;5;241m=\u001b[39m ref_times_to_dti(project\u001b[38;5;241m.\u001b[39mBASE_DATE, \u001b[43mts\u001b[49m\u001b[38;5;241;43m.\u001b[39;49m\u001b[43mindex\u001b[49m)\n\u001b[0;32m      3\u001b[0m     \u001b[38;5;28;01mreturn\u001b[39;00m ts\n",
      "\u001b[1;31mAttributeError\u001b[0m: 'numpy.ndarray' object has no attribute 'index'"
     ]
    }
   ],
   "source": [
    "ts_set_dates = convert_ts_set_to_date(project.ts_set)"
   ]
  },
  {
   "cell_type": "code",
   "execution_count": null,
   "id": "29687287",
   "metadata": {
    "scrolled": true
   },
   "outputs": [],
   "source": [
    "results = p.run_baseline_model(project.param_set.baseline)"
   ]
  },
  {
   "cell_type": "code",
   "execution_count": null,
   "id": "68ed8474",
   "metadata": {},
   "outputs": [],
   "source": [
    "derived_outputs = results.get_derived_outputs_df()\n",
    "derived_outputs[\"notif_change\"].plot()\n",
    "# ts_set_dates[\"notif_change\"].plot()"
   ]
  }
 ],
 "metadata": {
  "kernelspec": {
   "display_name": "Python 3 (ipykernel)",
   "language": "python",
   "name": "python3"
  },
  "language_info": {
   "codemirror_mode": {
    "name": "ipython",
    "version": 3
   },
   "file_extension": ".py",
   "mimetype": "text/x-python",
   "name": "python",
   "nbconvert_exporter": "python",
   "pygments_lexer": "ipython3",
   "version": "3.9.11"
  }
 },
 "nbformat": 4,
 "nbformat_minor": 5
}
