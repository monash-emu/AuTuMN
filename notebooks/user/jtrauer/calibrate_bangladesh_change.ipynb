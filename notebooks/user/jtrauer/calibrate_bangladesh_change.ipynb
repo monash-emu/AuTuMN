{
 "cells": [
  {
   "cell_type": "code",
   "execution_count": null,
   "id": "017e5759",
   "metadata": {},
   "outputs": [],
   "source": [
    "from summer.utils import ref_times_to_dti\n",
    "from autumn.tools.project import get_project, load_timeseries, build_rel_path"
   ]
  },
  {
   "cell_type": "code",
   "execution_count": null,
   "id": "47f7a0a2",
   "metadata": {},
   "outputs": [],
   "source": [
    "# Be careful of this\n",
    "from autumn.projects.sm_sir.bangladesh.bangladesh import project"
   ]
  },
  {
   "cell_type": "code",
   "execution_count": null,
   "id": "43a9e34c",
   "metadata": {},
   "outputs": [],
   "source": [
    "def convert_ts_index_to_date(ts):\n",
    "    ts.index = ref_times_to_dti(project.BASE_DATE, ts.index)\n",
    "    return ts"
   ]
  },
  {
   "cell_type": "code",
   "execution_count": null,
   "id": "1e68fa29",
   "metadata": {},
   "outputs": [],
   "source": [
    "p = get_project(\"sm_sir\", \"bangladesh\", reload=True)"
   ]
  },
  {
   "cell_type": "code",
   "execution_count": null,
   "id": "29687287",
   "metadata": {},
   "outputs": [],
   "source": [
    "results = p.run_baseline_model(project.param_set.baseline)\n",
    "output_name = project.processed_output"
   ]
  },
  {
   "cell_type": "code",
   "execution_count": null,
   "id": "df4abfd2",
   "metadata": {},
   "outputs": [],
   "source": [
    "project.ts_set[output_name] = convert_ts_index_to_date(project.ts_set[output_name])"
   ]
  },
  {
   "cell_type": "code",
   "execution_count": null,
   "id": "68ed8474",
   "metadata": {},
   "outputs": [],
   "source": [
    "derived_outputs = results.get_derived_outputs_df()\n",
    "derived_outputs[output_name].plot()\n",
    "project.ts_set[output_name].plot(linewidth=0, marker='o', markersize=2.)"
   ]
  },
  {
   "cell_type": "code",
   "execution_count": null,
   "id": "bb1ef9d4",
   "metadata": {},
   "outputs": [],
   "source": [
    "derived_outputs[output_name]"
   ]
  },
  {
   "cell_type": "code",
   "execution_count": null,
   "id": "a66da8f9",
   "metadata": {},
   "outputs": [],
   "source": [
    "project.ts_set[output_name]"
   ]
  }
 ],
 "metadata": {
  "kernelspec": {
   "display_name": "Python 3 (ipykernel)",
   "language": "python",
   "name": "python3"
  },
  "language_info": {
   "codemirror_mode": {
    "name": "ipython",
    "version": 3
   },
   "file_extension": ".py",
   "mimetype": "text/x-python",
   "name": "python",
   "nbconvert_exporter": "python",
   "pygments_lexer": "ipython3",
   "version": "3.9.11"
  }
 },
 "nbformat": 4,
 "nbformat_minor": 5
}
