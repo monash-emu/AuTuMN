{
 "cells": [
  {
   "cell_type": "code",
   "execution_count": null,
   "id": "casual-nightlife",
   "metadata": {},
   "outputs": [],
   "source": [
    "import pandas as pd\n",
    "from matplotlib import pyplot as plt\n",
    "import datetime\n",
    "\n",
    "from summer.utils import ref_times_to_dti\n",
    "\n",
    "from autumn.tools.plots.utils import REF_DATE\n",
    "from autumn.tools.runs import ManagedRun\n",
    "from autumn.tools.runs.calibration.utils import get_posteriors\n",
    "from autumn.tools.utils.pandas import pdfilt\n",
    "from autumn.settings.region import Region"
   ]
  },
  {
   "cell_type": "markdown",
   "id": "f1049ee1",
   "metadata": {},
   "source": [
    "## Specify the runs of interest"
   ]
  },
  {
   "cell_type": "code",
   "execution_count": null,
   "id": "mental-queensland",
   "metadata": {},
   "outputs": [],
   "source": [
    "run_id = \"sm_sir/coxs_bazar/1644383120/1282af2\""
   ]
  },
  {
   "cell_type": "code",
   "execution_count": null,
   "id": "perceived-tracker",
   "metadata": {},
   "outputs": [],
   "source": [
    "mr = ManagedRun(run_id)"
   ]
  },
  {
   "cell_type": "code",
   "execution_count": null,
   "id": "e54e2753",
   "metadata": {},
   "outputs": [],
   "source": [
    "full_run = mr.full_run.get_derived_outputs()\n",
    "pbi = mr.powerbi.get_db()\n",
    "targets = pbi.get_targets()\n",
    "results = pbi.get_uncertainty()\n",
    "mcmc_params = mr.calibration.get_mcmc_params()"
   ]
  },
  {
   "cell_type": "code",
   "execution_count": null,
   "id": "d3981f31",
   "metadata": {},
   "outputs": [],
   "source": [
    "mcmc_params.columns"
   ]
  },
  {
   "cell_type": "code",
   "execution_count": null,
   "id": "a90524ad",
   "metadata": {},
   "outputs": [],
   "source": [
    "plt.style.use(\"ggplot\")\n",
    "\n",
    "param_lookup = {\n",
    "    \"contact_rate\": \"infection risk per contact\",\n",
    "    \"testing_to_detection.assumed_cdr_parameter\": \"CDR at one test per 1,000 population per day\",\n",
    "    \"hospital_stay.hospital_all.parameters.mean\": \"hospital length of stay\",\n",
    "    \"voc_emergence.omicron.new_voc_seed.start_time\": \"Omicron emergence date\"\n",
    "}\n",
    "\n",
    "unit_lookup = {\n",
    "    \"contact_rate\": \"probability\",\n",
    "    \"testing_to_detection.assumed_cdr_parameter\": \"proportion\",\n",
    "    \"hospital_stay.hospital_all.parameters.mean\": \"days\",\n",
    "    \"voc_emergence.omicron.new_voc_seed.start_time\": \"days from 31st December 2019\"\n",
    "}\n",
    "\n",
    "fig, axes = plt.subplots(2, 2, figsize=(10, 8), sharey=\"all\")\n",
    "for i_ax, axis in enumerate(axes.reshape(-1)):\n",
    "    param = mcmc_params.columns[i_ax]\n",
    "    axis.hist(mcmc_params[param])\n",
    "    axis.set_title(param_lookup[param])\n",
    "    axis.set_xlabel(unit_lookup[param])\n",
    "fig.suptitle(\"parameter posterior histograms\", fontsize=15, y=1)\n",
    "fig.tight_layout()"
   ]
  },
  {
   "cell_type": "code",
   "execution_count": null,
   "id": "18db1d69",
   "metadata": {},
   "outputs": [],
   "source": [
    "[col for col in full_run.columns if \"X\" not in col]"
   ]
  },
  {
   "cell_type": "code",
   "execution_count": null,
   "id": "8a0b1405",
   "metadata": {},
   "outputs": [],
   "source": [
    "title_lookup = {\n",
    "    \"notifications\": \"daily notifications\",\n",
    "    \"infection_deaths\": \"COVID-19-specific deaths\",\n",
    "    \"hospital_admissions\": \"new daily hospital admissions\",\n",
    "    \"icu_admissions\": \"new daily admissions to ICU\",\n",
    "    \"proportion_seropositive\": \"proportion recovered from COVID-19\",\n",
    "    \"incidence\": \"daily new infections\",\n",
    "    \"prop_incidence_strain_delta\": \"proportion of cases due to Delta\",\n",
    "    \"hospital_admissions\": \"daily hospital admissions\",\n",
    "    \"hospital_occupancy\": \"total hospital beds\",\n",
    "    \"icu_admissions\": \"daily ICU admissions\",\n",
    "    \"icu_occupancy\": \"total ICU beds\",\n",
    "    \"prop_ever_infected\": \"ever infected with Delta or Omicron\",\n",
    "    \"cdr\": \"case detection rate\",\n",
    "}\n",
    "\n",
    "fig, axes = plt.subplots(4, 2, figsize=(10, 18), sharex=\"all\")\n",
    "plot_left_date = datetime.date(2021, 5, 1)\n",
    "plot_right_date = datetime.date(2022, 3, 31)\n",
    "outputs = (\n",
    "    \"notifications\", \n",
    "    \"cdr\",\n",
    "    \"hospital_admissions\",\n",
    "    \"hospital_occupancy\",\n",
    "    \"icu_admissions\", \n",
    "    \"icu_occupancy\",\n",
    "    \"prop_ever_infected\",\n",
    "    \"incidence\",\n",
    ")\n",
    "for i_ax, axis in enumerate(axes.reshape(-1)):\n",
    "    output = outputs[i_ax]\n",
    "    scenario_chain = (full_run[\"scenario\"] == 0) & (full_run[\"chain\"] == 0)\n",
    "    for i_run in full_run[scenario_chain][\"run\"].unique():\n",
    "        selection = full_run[(full_run[\"run\"] == i_run) & scenario_chain]\n",
    "        axis.plot(ref_times_to_dti(REF_DATE, selection[\"times\"]), selection[output])\n",
    "    if output in targets:\n",
    "        axis.scatter(targets.index, targets[output], color=\"k\", s=10, alpha=0.5, zorder=10)\n",
    "    axis.tick_params(axis=\"x\", labelrotation=45)\n",
    "    axis.set_title(title_lookup[output])\n",
    "    axis.set_xlim(left=plot_left_date, right=plot_right_date)"
   ]
  },
  {
   "cell_type": "code",
   "execution_count": null,
   "id": "8374d183",
   "metadata": {},
   "outputs": [],
   "source": [
    "def plot_outputs(outputs, left_date, right_date):\n",
    "    fig, axes = plt.subplots(2, 2, figsize=(12, 8), sharex=\"all\")\n",
    "    colour = (0.2, 0.2, 0.8)\n",
    "    for i_ax, axis in enumerate(axes.reshape(-1)):\n",
    "        output = outputs[i_ax]\n",
    "        results_df = results[(output, 0)]\n",
    "        indices = results_df.index\n",
    "        axis.fill_between(indices, results_df[0.025], results_df[0.975], color=colour, alpha=0.5)\n",
    "        axis.fill_between(indices, results_df[0.25], results_df[0.75], color=colour, alpha=0.7)\n",
    "        axis.plot(indices, results_df[0.500], color=\"b\")\n",
    "        if output in targets:\n",
    "            axis.scatter(targets.index, targets[output], color=\"k\", alpha=0.5, s=10)\n",
    "        axis.tick_params(axis=\"x\", labelrotation=45)\n",
    "        axis.set_xlim(left=left_date, right=right_date)\n",
    "        axis.set_title(title_lookup[output])\n",
    "    fig.tight_layout()"
   ]
  },
  {
   "cell_type": "code",
   "execution_count": null,
   "id": "bdb00101",
   "metadata": {},
   "outputs": [],
   "source": [
    "left_date = datetime.date(2021, 4, 1)\n",
    "right_date = datetime.date(2022, 7, 1)\n",
    "outputs_to_plot = (\n",
    "    \"notifications\", \n",
    "    \"hospital_occupancy\",\n",
    "    \"icu_occupancy\",\n",
    "    \"infection_deaths\",\n",
    ")\n",
    "plot_outputs(outputs_to_plot, left_date, right_date)"
   ]
  }
 ],
 "metadata": {
  "kernelspec": {
   "display_name": "Python 3",
   "language": "python",
   "name": "python3"
  },
  "language_info": {
   "codemirror_mode": {
    "name": "ipython",
    "version": 3
   },
   "file_extension": ".py",
   "mimetype": "text/x-python",
   "name": "python",
   "nbconvert_exporter": "python",
   "pygments_lexer": "ipython3",
   "version": "3.6.13"
  }
 },
 "nbformat": 4,
 "nbformat_minor": 5
}
