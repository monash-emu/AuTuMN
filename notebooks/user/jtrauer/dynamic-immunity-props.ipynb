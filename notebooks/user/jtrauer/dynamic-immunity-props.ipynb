{
 "cells": [
  {
   "cell_type": "code",
   "execution_count": null,
   "id": "549853ca",
   "metadata": {},
   "outputs": [],
   "source": [
    "from autumn.tools.project import get_project"
   ]
  },
  {
   "cell_type": "code",
   "execution_count": null,
   "id": "dda93e94",
   "metadata": {},
   "outputs": [],
   "source": [
    "project = get_project(\"sm_sir\", \"bangladesh\", reload=True)\n",
    "baseline_params = project.param_set.baseline\n",
    "model = project.run_baseline_model(baseline_params)"
   ]
  },
  {
   "cell_type": "code",
   "execution_count": null,
   "id": "02096871",
   "metadata": {},
   "outputs": [],
   "source": [
    "derived_df = model.get_derived_outputs_df()\n",
    "[col for col in derived_df.columns if \"pop\" in col]"
   ]
  },
  {
   "cell_type": "code",
   "execution_count": null,
   "id": "49e6793f",
   "metadata": {},
   "outputs": [],
   "source": [
    "derived_df[\"prop_immune_none\"].plot()\n",
    "derived_df[\"prop_immune_low\"].plot()\n",
    "derived_df[\"prop_immune_high\"].plot()"
   ]
  }
 ],
 "metadata": {
  "kernelspec": {
   "display_name": "Python 3",
   "language": "python",
   "name": "python3"
  },
  "language_info": {
   "codemirror_mode": {
    "name": "ipython",
    "version": 3
   },
   "file_extension": ".py",
   "mimetype": "text/x-python",
   "name": "python",
   "nbconvert_exporter": "python",
   "pygments_lexer": "ipython3",
   "version": "3.6.13"
  }
 },
 "nbformat": 4,
 "nbformat_minor": 5
}
