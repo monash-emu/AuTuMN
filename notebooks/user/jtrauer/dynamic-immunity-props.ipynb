{
 "cells": [
  {
   "cell_type": "code",
   "execution_count": null,
   "id": "549853ca",
   "metadata": {},
   "outputs": [],
   "source": [
    "from autumn.tools.project import get_project\n",
    "from autumn.models.sm_sir.constants import IMMUNITY_STRATA"
   ]
  },
  {
   "cell_type": "code",
   "execution_count": null,
   "id": "10d13ce7",
   "metadata": {},
   "outputs": [],
   "source": [
    "import pandas as pd\n",
    "from autumn.tools.inputs.covid_bgd.queries import get_bgd_vac_coverage"
   ]
  },
  {
   "cell_type": "code",
   "execution_count": null,
   "id": "6264f921",
   "metadata": {},
   "outputs": [],
   "source": [
    "bgd_vaccine_data = get_bgd_vac_coverage(region=\"BGD\", vaccine=\"total\", dose=2)\n",
    "bgd_vaccine_df = pd.DataFrame(\n",
    "    {\n",
    "        \"none\": 1. - bgd_vaccine_data[1],\n",
    "        \"low\": bgd_vaccine_data[1], \n",
    "    }, \n",
    "    index=bgd_vaccine_data[0]\n",
    ")\n",
    "bgd_vaccine_df[\"high\"] = 0.\n",
    "bgd_vaccine_df"
   ]
  },
  {
   "cell_type": "code",
   "execution_count": null,
   "id": "dda93e94",
   "metadata": {},
   "outputs": [],
   "source": [
    "project = get_project(\"sm_sir\", \"bangladesh\", reload=True)\n",
    "baseline_params = project.param_set.baseline\n",
    "model = project.run_baseline_model(baseline_params)\n",
    "derived_df = model.get_derived_outputs_df()\n",
    "derived_df[[f\"prop_immune_{stratum}\" for stratum in IMMUNITY_STRATA[::-1]]].plot.area()"
   ]
  },
  {
   "cell_type": "code",
   "execution_count": null,
   "id": "a76ab52b",
   "metadata": {},
   "outputs": [],
   "source": [
    "bgd_vaccine_data"
   ]
  },
  {
   "cell_type": "code",
   "execution_count": null,
   "id": "ad348380",
   "metadata": {},
   "outputs": [],
   "source": [
    "derived_df[[f\"prop_immune_{stratum}\" for stratum in IMMUNITY_STRATA[::-1]]].plot.area(figsize=(10, 7))"
   ]
  }
 ],
 "metadata": {
  "kernelspec": {
   "display_name": "Python 3 (ipykernel)",
   "language": "python",
   "name": "python3"
  },
  "language_info": {
   "codemirror_mode": {
    "name": "ipython",
    "version": 3
   },
   "file_extension": ".py",
   "mimetype": "text/x-python",
   "name": "python",
   "nbconvert_exporter": "python",
   "pygments_lexer": "ipython3",
   "version": "3.9.11"
  }
 },
 "nbformat": 4,
 "nbformat_minor": 5
}
