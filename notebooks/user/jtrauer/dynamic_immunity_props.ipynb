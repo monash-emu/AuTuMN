{
 "cells": [
  {
   "cell_type": "code",
   "execution_count": null,
   "id": "549853ca",
   "metadata": {},
   "outputs": [],
   "source": [
    "from autumn.tools.project import get_project\n",
    "from autumn.models.sm_sir.constants import IMMUNITY_STRATA"
   ]
  },
  {
   "cell_type": "code",
   "execution_count": null,
   "id": "dda93e94",
   "metadata": {},
   "outputs": [],
   "source": [
    "project = get_project(\"sm_sir\", \"bangladesh\", reload=True)\n",
    "baseline_params = project.param_set.baseline\n",
    "model = project.run_baseline_model(baseline_params)\n",
    "derived_df = model.get_derived_outputs_df()\n",
    "derived_df[[f\"prop_immune_{stratum}\" for stratum in IMMUNITY_STRATA[::-1]]].plot.area(figsize=(10, 7))"
   ]
  }
 ],
 "metadata": {
  "kernelspec": {
   "display_name": "Python 3 (ipykernel)",
   "language": "python",
   "name": "python3"
  },
  "language_info": {
   "codemirror_mode": {
    "name": "ipython",
    "version": 3
   },
   "file_extension": ".py",
   "mimetype": "text/x-python",
   "name": "python",
   "nbconvert_exporter": "python",
   "pygments_lexer": "ipython3",
   "version": "3.9.11"
  }
 },
 "nbformat": 4,
 "nbformat_minor": 5
}
