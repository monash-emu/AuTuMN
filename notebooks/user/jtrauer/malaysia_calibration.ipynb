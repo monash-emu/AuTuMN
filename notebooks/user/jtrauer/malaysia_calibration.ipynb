{
 "cells": [
  {
   "cell_type": "code",
   "execution_count": null,
   "metadata": {},
   "outputs": [],
   "source": [
    "from matplotlib import pyplot\n",
    "from matplotlib.ticker import FuncFormatter\n",
    "import matplotlib.cm as cm\n",
    "import pandas as pd\n",
    "import numpy as np\n",
    "import warnings\n",
    "from datetime import datetime, time\n",
    "\n",
    "from summer.utils import ref_times_to_dti\n",
    "\n",
    "from autumn.tools.inputs.mobility.queries import get_mobility_data\n",
    "from autumn.tools.inputs.database import get_input_db\n",
    "from autumn.tools.project import get_project\n",
    "from autumn.tools.utils.utils import apply_moving_average\n",
    "from autumn.tools.plots.utils import REF_DATE\n",
    "from autumn.tools.curve.scale_up import scale_up_function\n",
    "from autumn.tools.utils.pretty import pretty_print\n",
    "from autumn.models.sm_sir.preprocess.age_specific_params import convert_param_agegroups\n",
    "from autumn.models.sm_sir.model import get_compartments\n",
    "from autumn.tools.inputs import get_population_by_agegroup\n",
    "from autumn.tools.inputs.social_mixing.build_synthetic_matrices import build_synthetic_matrices\n",
    "from autumn.models.covid_19.detection import create_cdr_function, get_testing_numbers_for_region"
   ]
  },
  {
   "cell_type": "code",
   "execution_count": null,
   "metadata": {},
   "outputs": [],
   "source": [
    "warnings.filterwarnings(\"ignore\")\n",
    "pyplot.style.use(\"ggplot\")\n",
    "\n",
    "region = \"malaysia\"\n",
    "project = get_project(\"sm_sir\", region)"
   ]
  },
  {
   "cell_type": "markdown",
   "metadata": {},
   "source": [
    "### Compartments"
   ]
  },
  {
   "cell_type": "code",
   "execution_count": null,
   "metadata": {},
   "outputs": [],
   "source": [
    "print(f\"Model compartments are: {list(set([comp.name for comp in model.compartments]))}\")\n",
    "model_stratifications = [strat.name for strat in model._stratifications]\n",
    "print(f\"Model stratifications are: {[strat.name for strat in model._stratifications]}\")\n",
    "for i_strat, strat in enumerate(model_stratifications):\n",
    "    print(f\"\\tStrata for stratification {strat} are {model._stratifications[i_strat].strata}\")"
   ]
  },
  {
   "cell_type": "code",
   "execution_count": null,
   "metadata": {},
   "outputs": [],
   "source": [
    "model._stratifications[0].name"
   ]
  },
  {
   "cell_type": "markdown",
   "metadata": {},
   "source": [
    "### Model times"
   ]
  },
  {
   "cell_type": "code",
   "execution_count": null,
   "metadata": {},
   "outputs": [],
   "source": [
    "model_start_time = ref_times_to_dti(REF_DATE, [project.param_set.baseline[\"time\"][\"start\"]])[0]\n",
    "model_end_time = ref_times_to_dti(REF_DATE, [project.param_set.baseline[\"time\"][\"end\"]])[0]\n",
    "\n",
    "start_string = model_start_time.strftime(\"%d/%m/%Y\")\n",
    "end_string = model_end_time.strftime(\"%d/%m/%Y\")\n",
    "print(f\"Baseline model running from {start_string} to {end_string}\")"
   ]
  },
  {
   "cell_type": "code",
   "execution_count": null,
   "metadata": {},
   "outputs": [],
   "source": [
    "baseline_params = project.param_set.baseline\n",
    "# custom_params = project.param_set.baseline.update({'contact_rate': 0.1,\n",
    "#                                                    'infection_fatality': {'multiplier': 2.407957228094271},\n",
    "#                                                    'mobility':{'microdistancing':{'behaviour':{'parameters':{'max_effect': 0.3}}}}})\n",
    "model = project.run_baseline_model(baseline_params)\n",
    "derived_df = model.get_derived_outputs_df()"
   ]
  },
  {
   "cell_type": "markdown",
   "metadata": {},
   "source": [
    "### Clinical parameters"
   ]
  },
  {
   "cell_type": "code",
   "execution_count": null,
   "metadata": {},
   "outputs": [],
   "source": [
    "age_params = baseline_params[\"age_stratification\"]\n",
    "age_groups = baseline_params[\"age_groups\"]\n",
    "standard_agegroups = range(0, 80, 5)\n",
    "ifr_age_groups = range(0, 85, 5)\n",
    "\n",
    "# Susceptibility\n",
    "fig = pyplot.figure(figsize=(15, 12))\n",
    "axis = fig.add_subplot(2, 2, 1)\n",
    "axis.plot(\n",
    "    age_params[\"susceptibility\"].keys(), \n",
    "    age_params[\"susceptibility\"].values(),\n",
    "    marker=\"o\",\n",
    "    linestyle=\":\",\n",
    ")\n",
    "axis.set_title(\"relative susceptibility\")\n",
    "axis.set_ylim(bottom=0.)\n",
    "\n",
    "# Clinical proportions\n",
    "for i_prop, clin_prop in enumerate([\"prop_hospital\", \"prop_symptomatic\", \"ifr\"]):\n",
    "    \n",
    "    base_agegroups = ifr_age_groups if clin_prop == \"ifr\" else standard_agegroups\n",
    "    upper_y = 1. if clin_prop == \"prop_symptomatic\" else None\n",
    "    \n",
    "    axis = fig.add_subplot(2, 2, 2 + i_prop)\n",
    "    axis.plot(\n",
    "        base_agegroups, \n",
    "        age_params[clin_prop],\n",
    "        marker=\"o\",\n",
    "        linestyle=\":\",\n",
    "        label=\"raw\",\n",
    "    )\n",
    "    axis.plot(\n",
    "        age_groups,\n",
    "        convert_param_agegroups(\n",
    "            age_params[clin_prop], \n",
    "            baseline_params[\"country\"][\"iso3\"], \n",
    "            baseline_params[\"population\"][\"region\"], \n",
    "            age_groups\n",
    "        ),\n",
    "        marker=\"o\",\n",
    "        linestyle=\":\",\n",
    "        label=\"processed\",    \n",
    "    )\n",
    "    axis.set_title(clin_prop.replace(\"_\", \" \"))\n",
    "    axis.set_ylim(bottom=0., top=upper_y)\n",
    "    axis.legend()\n"
   ]
  },
  {
   "cell_type": "markdown",
   "metadata": {},
   "source": [
    "### Population"
   ]
  },
  {
   "cell_type": "code",
   "execution_count": null,
   "metadata": {},
   "outputs": [],
   "source": [
    "iso3 = baseline_params[\"country\"][\"iso3\"]\n",
    "subregion = baseline_params[\"population\"][\"region\"]\n",
    "year = baseline_params[\"population\"][\"year\"]\n",
    "\n",
    "\n",
    "def yaxis_millions(axis_to_adjust):\n",
    "    \n",
    "    def millions(x, pos):\n",
    "        return f\"{(x * 1e-6)}\"\n",
    "\n",
    "    axis_to_adjust.yaxis.set_major_formatter(FuncFormatter(millions))\n",
    "    axis_to_adjust.set_ylabel(\"millions\")\n",
    "\n",
    "\n",
    "model_pops = get_population_by_agegroup(age_groups, iso3, subregion, year)\n",
    "standard_pops = get_population_by_agegroup(standard_agegroups, iso3, subregion, year)\n",
    "print(f\"Total population simulated is {sum(standard_pops) / 1e6} million\")\n",
    "print(f\"Infectious seed is {baseline_params['infectious_seed']}\")\n",
    "\n",
    "fig = pyplot.figure(figsize=(10, 7))\n",
    "axis = fig.add_subplot()\n",
    "\n",
    "axis.plot(\n",
    "    age_groups, \n",
    "    model_pops,\n",
    "    marker=\"o\",\n",
    "    linestyle=\":\",\n",
    "    label=\"modelled\",\n",
    ")\n",
    "axis.plot(\n",
    "    standard_agegroups, \n",
    "    standard_pops,\n",
    "    marker=\"o\",\n",
    "    linestyle=\":\",\n",
    "    label=\"standard\"\n",
    ")\n",
    "yaxis_millions(axis)\n",
    "axis.legend()\n"
   ]
  },
  {
   "cell_type": "markdown",
   "metadata": {},
   "source": [
    "### Mixing matrices"
   ]
  },
  {
   "cell_type": "code",
   "execution_count": null,
   "metadata": {},
   "outputs": [],
   "source": [
    "list(standard_agegroups)"
   ]
  },
  {
   "cell_type": "code",
   "execution_count": null,
   "metadata": {},
   "outputs": [],
   "source": [
    "def plot_matrices(mixing_matrices, title):\n",
    "    fig = pyplot.figure(figsize=(12, 8))\n",
    "    positions = [1, 2, 3, 5, 6]\n",
    "    for i_loc, location in zip(positions, mixing_matrices.keys()):\n",
    "        ax = fig.add_subplot(2, 3, i_loc)\n",
    "        ax.imshow(\n",
    "            np.flipud(np.transpose(mixing_matrices[location])), \n",
    "            cmap=cm.hot, \n",
    "            vmin=0,\n",
    "            vmax=mixing_matrices[location].max(), \n",
    "            origin=\"lower\"\n",
    "        )\n",
    "        ax.set_title(location.replace(\"_\", \" \"))\n",
    "        ax.set_xticklabels([])\n",
    "        ax.set_yticklabels([])\n",
    "        ax.grid(False)\n",
    "    fig.suptitle(title)\n",
    "\n",
    "ref_iso3 = baseline_params[\"ref_mixing_iso3\"]\n",
    "matrices = build_synthetic_matrices(iso3, ref_iso3, standard_agegroups, True, subregion)\n",
    "plot_matrices(matrices, \"raw\") \n",
    "matrices = build_synthetic_matrices(iso3, ref_iso3, age_groups, True, subregion)\n",
    "plot_matrices(matrices, \"modelled\")\n",
    "\n",
    "print(\"Parameters used in mixing matrix construction:\")\n",
    "print(f\"\\tModelled country: {baseline_params['country']['iso3']}\")\n",
    "print(f\"\\tModelled sub-region: {baseline_params['population']['region']}\")\n",
    "print(f\"\\tProxy country: {baseline_params['ref_mixing_iso3']}\")\n",
    "print(f\"\\tAssumed age adjusted (hard coded)\")"
   ]
  },
  {
   "cell_type": "markdown",
   "metadata": {},
   "source": [
    "### Mobility"
   ]
  },
  {
   "cell_type": "code",
   "execution_count": null,
   "metadata": {},
   "outputs": [],
   "source": [
    "input_db = get_input_db()\n",
    "mob_df = input_db.query(\"mobility\", conditions={\"iso3\": iso3, \"region\": None})\n",
    "\n",
    "fig = pyplot.figure(figsize=(10, 7))\n",
    "axis = fig.add_subplot(1, 1, 1)\n",
    "\n",
    "times = [datetime.strptime(i, \"%Y-%m-%d\") for i in mob_df[\"date\"]]\n",
    "for mobility_domain in [\"grocery_and_pharmacy\", \"residential\", \"parks\", \"retail_and_recreation\", \"transit_stations\"]:\n",
    "    axis.plot(times, mob_df[mobility_domain], label=mobility_domain.replace(\"_\", \" \"))\n",
    "axis.set_ylim([0., 1.5])\n",
    "axis.tick_params(axis=\"x\", labelrotation=45)\n",
    "axis.set_title(\"raw mobility estimates\")\n",
    "axis.set_xlim([model_start_time, model_end_time])\n",
    "axis.legend()"
   ]
  },
  {
   "cell_type": "markdown",
   "metadata": {},
   "source": [
    "### Case detection"
   ]
  },
  {
   "cell_type": "code",
   "execution_count": null,
   "metadata": {},
   "outputs": [],
   "source": [
    "# Get the CDR function of tests\n",
    "cdr_from_tests_func = create_cdr_function(\n",
    "    baseline_params[\"testing_to_detection\"][\"assumed_tests_parameter\"],\n",
    "    baseline_params[\"testing_to_detection\"][\"assumed_cdr_parameter\"],\n",
    ")\n",
    "\n",
    "# Get the denominator population\n",
    "total_pop = sum(model_pops)\n",
    "\n",
    "# Pre-processing\n",
    "test_ints, test_values = get_testing_numbers_for_region(iso3, subregion)\n",
    "test_dates = ref_times_to_dti(REF_DATE, [int(time) for time in test_ints])\n",
    "per_capita_tests = [i_tests / total_pop for i_tests in test_values]\n",
    "dummy_tests = np.linspace(0, max(per_capita_tests), 200)\n",
    "smoothed_per_capita_tests = apply_moving_average(\n",
    "    per_capita_tests, baseline_params[\"testing_to_detection\"][\"smoothing_period\"]\n",
    ")\n",
    "cdr_function_of_time = scale_up_function(\n",
    "    test_ints,\n",
    "    [cdr_from_tests_func(test_rate) for test_rate in smoothed_per_capita_tests],\n",
    "    smoothness=0.2, method=4, bound_low=0.,\n",
    ")    \n",
    "\n",
    "# Plot\n",
    "fig = pyplot.figure(figsize=(12, 8))\n",
    "\n",
    "# Plot daily number of tests\n",
    "axis = fig.add_subplot(2, 2, 1)\n",
    "axis.plot(test_dates, test_values, marker=\"o\")\n",
    "axis.tick_params(axis=\"x\", labelrotation=45)\n",
    "axis.set_title(\"daily testing numbers\")\n",
    "\n",
    "# Plot daily number of tests\n",
    "axis = fig.add_subplot(2, 2, 2)\n",
    "axis.plot(test_dates, per_capita_tests, label=\"raw\")\n",
    "axis.plot(test_dates, smoothed_per_capita_tests, label=\"smoothed\")\n",
    "axis.tick_params(axis=\"x\", labelrotation=45)\n",
    "axis.set_title(\"daily per capita testing rate\")\n",
    "axis.legend()\n",
    "\n",
    "# Plot relationship of daily tests to CDR proportion\n",
    "axis = fig.add_subplot(2, 2, 3)\n",
    "axis.plot(\n",
    "    per_capita_tests, \n",
    "    [cdr_from_tests_func(i_tests) for i_tests in per_capita_tests],\n",
    "    marker=\".\",\n",
    "    linestyle=\" \"\n",
    ")\n",
    "axis.plot(dummy_tests, cdr_from_tests_func(dummy_tests))\n",
    "axis.set_ylabel(\"case detection proportion\")\n",
    "axis.set_xlabel(\"per capita testing rate\")\n",
    "axis.set_title(\"daily per capita tests to CDR relationship\")\n",
    "axis.set_ylim(top=1.)\n",
    "\n",
    "# Plot CDR values\n",
    "axis = fig.add_subplot(2, 2, 4)\n",
    "axis.plot(\n",
    "    test_dates, \n",
    "    [cdr_from_tests_func(i_test_rate) for i_test_rate in smoothed_per_capita_tests], \n",
    "    marker=\".\", \n",
    "    linestyle=\" \",\n",
    ")\n",
    "axis.plot(\n",
    "    test_dates, \n",
    "    [cdr_function_of_time(time) for time in test_ints],\n",
    ")\n",
    "axis.set_title(\"final case detection rate\")\n",
    "axis.set_ylabel(\"proportion\")\n",
    "axis.tick_params(axis=\"x\", labelrotation=45)\n",
    "\n",
    "fig.tight_layout()"
   ]
  },
  {
   "cell_type": "markdown",
   "metadata": {},
   "source": [
    "### Targets"
   ]
  },
  {
   "cell_type": "code",
   "execution_count": null,
   "metadata": {},
   "outputs": [],
   "source": [
    "targets_dict = {\n",
    "    t.data.name: pd.Series(t.data.data, index=ref_times_to_dti(model.ref_date, t.data.index)) for \n",
    "    t in project.calibration.targets\n",
    "}\n",
    "outputs_to_plot = [\"notifications\", \"infection_deaths\", \"icu_occupancy\", \"hospital_occupancy\"]\n",
    "\n",
    "fig = pyplot.figure(figsize=(15, 12))\n",
    "for i_out, output in enumerate(outputs_to_plot):\n",
    "    axis = fig.add_subplot(2, 2, i_out + 1)\n",
    "    if output in targets_dict:\n",
    "        targets_dict[output].plot(ax=axis, style='.')\n",
    "    if output in derived_df:\n",
    "        derived_df[output].plot(ax=axis)\n",
    "    axis.set_title(output.replace(\"_\", \" \"))\n",
    "    axis.set_xlim([model_start_time, model_end_time])\n",
    "    "
   ]
  }
 ],
 "metadata": {
  "kernelspec": {
   "display_name": "Python 3",
   "language": "python",
   "name": "python3"
  },
  "language_info": {
   "codemirror_mode": {
    "name": "ipython",
    "version": 3
   },
   "file_extension": ".py",
   "mimetype": "text/x-python",
   "name": "python",
   "nbconvert_exporter": "python",
   "pygments_lexer": "ipython3",
   "version": "3.6.13"
  }
 },
 "nbformat": 4,
 "nbformat_minor": 2
}
