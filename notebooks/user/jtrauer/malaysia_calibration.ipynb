{
 "cells": [
  {
   "cell_type": "code",
   "execution_count": null,
   "metadata": {},
   "outputs": [],
   "source": [
    "from matplotlib import pyplot\n",
    "from matplotlib.ticker import FuncFormatter\n",
    "import pandas as pd\n",
    "import warnings\n",
    "\n",
    "from summer.utils import ref_times_to_dti\n",
    "\n",
    "from autumn.tools.project import get_project\n",
    "from autumn.tools.plots.utils import REF_DATE\n",
    "from autumn.tools.utils.pretty import pretty_print\n",
    "from autumn.models.sm_sir.preprocess.age_specific_params import convert_param_agegroups\n",
    "from autumn.tools.inputs import get_population_by_agegroup"
   ]
  },
  {
   "cell_type": "code",
   "execution_count": null,
   "metadata": {},
   "outputs": [],
   "source": [
    "project = get_project(\"sm_sir\", \"malaysia\")"
   ]
  },
  {
   "cell_type": "code",
   "execution_count": null,
   "metadata": {},
   "outputs": [],
   "source": [
    "custom_params = project.param_set.baseline\n",
    "# custom_params = project.param_set.baseline.update({'contact_rate': 0.1,\n",
    "#                                                    'infection_fatality': {'multiplier': 2.407957228094271},\n",
    "#                                                    'mobility':{'microdistancing':{'behaviour':{'parameters':{'max_effect': 0.3}}}}})\n",
    "model = project.run_baseline_model(custom_params)\n",
    "derived_df = model.get_derived_outputs_df()"
   ]
  },
  {
   "cell_type": "code",
   "execution_count": null,
   "metadata": {},
   "outputs": [],
   "source": [
    "baseline_params = project.param_set.baseline.to_dict()\n",
    "age_params = baseline_params[\"age_stratification\"]\n",
    "age_groups = baseline_params[\"age_groups\"]\n",
    "standard_agegroups = range(0, 80, 5)\n",
    "ifr_age_groups = range(0, 85, 5)\n",
    "\n",
    "# Susceptibility\n",
    "fig = pyplot.figure(figsize=(15, 12))\n",
    "axis = fig.add_subplot(2, 2, 1)\n",
    "axis.plot(\n",
    "    age_params[\"susceptibility\"].keys(), \n",
    "    age_params[\"susceptibility\"].values(),\n",
    "    marker=\"o\",\n",
    "    linestyle=\"--\",\n",
    ")\n",
    "axis.set_title(\"relative susceptibility\")\n",
    "axis.set_ylim(bottom=0.)\n",
    "\n",
    "# Clinical proportions\n",
    "for i_prop, clin_prop in enumerate([\"prop_hospital\", \"prop_symptomatic\", \"ifr\"]):\n",
    "    \n",
    "    base_agegroups = ifr_age_groups if clin_prop == \"ifr\" else standard_agegroups\n",
    "    upper_y = 1. if clin_prop == \"prop_symptomatic\" else None\n",
    "    \n",
    "    axis = fig.add_subplot(2, 2, 2 + i_prop)\n",
    "    axis.plot(\n",
    "        base_agegroups, \n",
    "        age_params[clin_prop],\n",
    "        marker=\"o\",\n",
    "        linestyle=\"--\",\n",
    "        label=\"raw\",\n",
    "        color=\"k\"\n",
    "    )\n",
    "    axis.plot(\n",
    "        age_groups,\n",
    "        convert_param_agegroups(\n",
    "            age_params[clin_prop], \n",
    "            baseline_params[\"country\"][\"iso3\"], \n",
    "            baseline_params[\"population\"][\"region\"], \n",
    "            age_groups\n",
    "        ),\n",
    "        marker=\"o\",\n",
    "        linestyle=\"--\",\n",
    "        label=\"processed\",    \n",
    "    )\n",
    "    axis.set_title(clin_prop.replace(\"_\", \" \"))\n",
    "    axis.set_ylim(bottom=0., top=upper_y)\n",
    "    axis.legend()\n"
   ]
  },
  {
   "cell_type": "code",
   "execution_count": null,
   "metadata": {},
   "outputs": [],
   "source": [
    "# Plot population\n",
    "iso3 = baseline_params[\"country\"][\"iso3\"]\n",
    "subregion = baseline_params[\"population\"][\"region\"]\n",
    "year = baseline_params[\"population\"][\"year\"]\n",
    "\n",
    "\n",
    "def yaxis_millions(axis_to_adjust):\n",
    "    \n",
    "    def millions(x, pos):\n",
    "        return f\"{(x * 1e-6)}\"\n",
    "\n",
    "    formatter = \n",
    "    axis_to_adjust.yaxis.set_major_formatter(FuncFormatter(millions))\n",
    "    axis.set_ylabel(\"millions\")\n",
    "\n",
    "\n",
    "model_pops = get_population_by_agegroup(age_groups, iso3, subregion, year)\n",
    "standard_pops = get_population_by_agegroup(standard_agegroups, iso3, subregion, year)\n",
    "print(f\"Total population simulated is {sum(standard_pops) / 1e6} million\")\n",
    "print(f\"Infectious seed is {baseline_params['infectious_seed']}\")\n",
    "\n",
    "fig = pyplot.figure(figsize=(10, 7))\n",
    "axis = fig.add_subplot()\n",
    "\n",
    "axis.plot(\n",
    "    age_groups, \n",
    "    model_pops,\n",
    "    marker=\"o\",\n",
    "    linestyle=\"--\",\n",
    "    label=\"modelled\",\n",
    ")\n",
    "axis.plot(\n",
    "    standard_agegroups, \n",
    "    standard_pops,\n",
    "    marker=\"o\",\n",
    "    linestyle=\"--\",\n",
    "    label=\"standard\"\n",
    ")\n",
    "yaxis_millions(axis)\n",
    "axis.legend()\n"
   ]
  },
  {
   "cell_type": "code",
   "execution_count": null,
   "metadata": {},
   "outputs": [],
   "source": [
    "targets_dict = {t.data.name: pd.Series(t.data.data, index=ref_times_to_dti(model.ref_date, t.data.index)) for t in project.calibration.targets}"
   ]
  },
  {
   "cell_type": "code",
   "execution_count": null,
   "metadata": {},
   "outputs": [],
   "source": [
    "pyplot.style.use(\"ggplot\")\n",
    "\n",
    "warnings.filterwarnings(\"ignore\")\n",
    "\n",
    "outputs_to_plot = [\"notifications\", \"infection_deaths\", \"icu_occupancy\", \"hospital_occupancy\"]\n",
    "\n",
    "model_start_time = ref_times_to_dti(REF_DATE, [project.param_set.baseline[\"time\"][\"start\"]])[0]\n",
    "model_end_time = ref_times_to_dti(REF_DATE, [project.param_set.baseline[\"time\"][\"end\"]])[0]\n",
    "\n",
    "fig = pyplot.figure(figsize=(15, 12))\n",
    "for i_out, output in enumerate(outputs_to_plot):\n",
    "    axis = fig.add_subplot(2, 2, i_out + 1)\n",
    "    if output in targets_dict:\n",
    "        targets_dict[output].plot(ax=axis, style='.')\n",
    "    if output in derived_df:\n",
    "        derived_df[output].plot(ax=axis)\n",
    "    axis.set_title(output.replace(\"_\", \" \"))\n",
    "    axis.set_xlim([model_start_time, model_end_time])\n",
    "    "
   ]
  }
 ],
 "metadata": {
  "kernelspec": {
   "display_name": "Python 3",
   "language": "python",
   "name": "python3"
  },
  "language_info": {
   "codemirror_mode": {
    "name": "ipython",
    "version": 3
   },
   "file_extension": ".py",
   "mimetype": "text/x-python",
   "name": "python",
   "nbconvert_exporter": "python",
   "pygments_lexer": "ipython3",
   "version": "3.6.13"
  }
 },
 "nbformat": 4,
 "nbformat_minor": 2
}
