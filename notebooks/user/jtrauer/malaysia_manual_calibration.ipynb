{
 "cells": [
  {
   "cell_type": "code",
   "execution_count": null,
   "id": "4c7c95d6",
   "metadata": {},
   "outputs": [],
   "source": [
    "from matplotlib import pyplot\n",
    "import pandas as pd\n",
    "import warnings\n",
    "\n",
    "from summer.utils import ref_times_to_dti\n",
    "\n",
    "from autumn.tools.plots.utils import REF_DATE\n",
    "from autumn.tools.project import get_project\n",
    "from autumn.tools.utils.pretty import pretty_print"
   ]
  },
  {
   "cell_type": "code",
   "execution_count": null,
   "id": "8df98074",
   "metadata": {},
   "outputs": [],
   "source": [
    "pyplot.style.use(\"ggplot\")\n",
    "warnings.filterwarnings(\"ignore\")\n",
    "\n",
    "region = \"malaysia\"\n",
    "project = get_project(\"sm_sir\", region)"
   ]
  },
  {
   "cell_type": "code",
   "execution_count": null,
   "id": "06e04ac5",
   "metadata": {},
   "outputs": [],
   "source": [
    "pretty_print(project.param_set.baseline)"
   ]
  },
  {
   "cell_type": "code",
   "execution_count": null,
   "id": "df552e75",
   "metadata": {},
   "outputs": [],
   "source": [
    "baseline_params = project.param_set.baseline\n",
    "custom_params = project.param_set.baseline.update(\n",
    "    {\n",
    "        \"contact_rate\": 0.085,\n",
    "        \"time\": {\"start\": 430, \"end\": 800},\n",
    "        \"testing_to_detection\": {\"assumed_cdr_parameter\": 0.14},\n",
    "        \"infectious_seed\": 10000.,\n",
    "        \"hospital_stay\": {\n",
    "            \"hospital_all\": {\"parameters\": {\"mean\": 5.}},\n",
    "            \"icu\": {\"parameters\": {\"mean\": 10.}},\n",
    "        },\n",
    "        \"is_dynamic_mixing_matrix\": True\n",
    "        \n",
    "    }\n",
    ")"
   ]
  },
  {
   "cell_type": "code",
   "execution_count": null,
   "id": "edf373f8",
   "metadata": {},
   "outputs": [],
   "source": [
    "model = project.run_baseline_model(custom_params)\n",
    "derived_df = model.get_derived_outputs_df()\n",
    "\n",
    "model_start_time = ref_times_to_dti(REF_DATE, [custom_params[\"time\"][\"start\"]])[0]\n",
    "model_end_time = ref_times_to_dti(REF_DATE, [custom_params[\"time\"][\"end\"]])[0]"
   ]
  },
  {
   "cell_type": "code",
   "execution_count": null,
   "id": "ab1d9a93",
   "metadata": {},
   "outputs": [],
   "source": [
    "targets_dict = {\n",
    "    t.data.name: pd.Series(t.data.data, index=ref_times_to_dti(model.ref_date, t.data.index)) for \n",
    "    t in project.calibration.targets\n",
    "}\n",
    "death_string = \"accum_deaths\" if region == \"bangladesh\" else \"infection_deaths\"\n",
    "outputs_to_plot = [\"notifications\", \"accum_deaths\", \"icu_occupancy\", \"hospital_occupancy\"]\n",
    "\n",
    "fig = pyplot.figure(figsize=(15, 12))\n",
    "for i_out, output in enumerate(outputs_to_plot):\n",
    "    axis = fig.add_subplot(2, 2, i_out + 1)\n",
    "    if output in targets_dict:\n",
    "        targets_dict[output].plot(ax=axis, style='.')\n",
    "    if output in derived_df:\n",
    "        derived_df[output].plot(ax=axis)\n",
    "    axis.set_title(output.replace(\"_\", \" \"))\n",
    "    axis.set_xlim([model_start_time, model_end_time])"
   ]
  },
  {
   "cell_type": "code",
   "execution_count": null,
   "id": "e7cd5794",
   "metadata": {},
   "outputs": [],
   "source": []
  }
 ],
 "metadata": {
  "kernelspec": {
   "display_name": "Python 3",
   "language": "python",
   "name": "python3"
  },
  "language_info": {
   "codemirror_mode": {
    "name": "ipython",
    "version": 3
   },
   "file_extension": ".py",
   "mimetype": "text/x-python",
   "name": "python",
   "nbconvert_exporter": "python",
   "pygments_lexer": "ipython3",
   "version": "3.6.13"
  }
 },
 "nbformat": 4,
 "nbformat_minor": 5
}
