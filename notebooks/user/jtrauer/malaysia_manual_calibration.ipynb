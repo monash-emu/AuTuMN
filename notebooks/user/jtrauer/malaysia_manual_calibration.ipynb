{
 "cells": [
  {
   "cell_type": "code",
   "execution_count": null,
   "id": "1627fc92",
   "metadata": {},
   "outputs": [],
   "source": [
    "from matplotlib import pyplot\n",
    "import pandas as pd\n",
    "import warnings\n",
    "\n",
    "from summer.utils import ref_times_to_dti\n",
    "\n",
    "from autumn.tools.plots.utils import REF_DATE\n",
    "from autumn.tools.project import get_project\n",
    "from autumn.tools.utils.pretty import pretty_print"
   ]
  },
  {
   "cell_type": "code",
   "execution_count": null,
   "id": "dafd0763",
   "metadata": {},
   "outputs": [],
   "source": [
    "pyplot.style.use(\"ggplot\")\n",
    "warnings.filterwarnings(\"ignore\")\n",
    "\n",
    "region = \"malaysia\"\n",
    "project = get_project(\"sm_sir\", region)"
   ]
  },
  {
   "cell_type": "code",
   "execution_count": null,
   "id": "2221250a",
   "metadata": {},
   "outputs": [],
   "source": [
    "pretty_print(project.param_set.baseline)"
   ]
  },
  {
   "cell_type": "code",
   "execution_count": null,
   "id": "8c8b4036",
   "metadata": {},
   "outputs": [],
   "source": [
    "baseline_params = project.param_set.baseline\n",
    "custom_params = project.param_set.baseline.update(\n",
    "    {\n",
    "          'time': {'end': 900.0},\n",
    "    }\n",
    ")"
   ]
  },
  {
   "cell_type": "code",
   "execution_count": null,
   "id": "25009470",
   "metadata": {},
   "outputs": [],
   "source": [
    "model = project.run_baseline_model(custom_params)\n",
    "derived_df = model.get_derived_outputs_df()\n",
    "\n",
    "model_start_time = ref_times_to_dti(REF_DATE, [custom_params[\"time\"][\"start\"]])[0]\n",
    "model_end_time = ref_times_to_dti(REF_DATE, [custom_params[\"time\"][\"end\"]])[0]"
   ]
  },
  {
   "cell_type": "code",
   "execution_count": null,
   "id": "b4ca6251",
   "metadata": {},
   "outputs": [],
   "source": [
    "targets_dict = {\n",
    "    t.data.name: pd.Series(t.data.data, index=ref_times_to_dti(model.ref_date, t.data.index)) for \n",
    "    t in project.calibration.targets\n",
    "}\n",
    "death_string = \"accum_deaths\" if region == \"bangladesh\" else \"infection_deaths\"\n",
    "outputs_to_plot = [\"notifications\", \"accum_deaths\", \"icu_occupancy\", \"hospital_occupancy\"]\n",
    "\n",
    "fig = pyplot.figure(figsize=(15, 12))\n",
    "for i_out, output in enumerate(outputs_to_plot):\n",
    "    axis = fig.add_subplot(2, 2, i_out + 1)\n",
    "    if output in targets_dict:\n",
    "        targets_dict[output].plot(ax=axis, style='.')\n",
    "    if output in derived_df:\n",
    "        derived_df[output].plot(ax=axis)\n",
    "    axis.set_title(output.replace(\"_\", \" \"))\n",
    "    axis.set_xlim([model_start_time, model_end_time])"
   ]
  },
  {
   "cell_type": "code",
   "execution_count": null,
   "id": "e573411c",
   "metadata": {},
   "outputs": [],
   "source": []
  }
 ],
 "metadata": {
  "kernelspec": {
   "display_name": "Python 3",
   "language": "python",
   "name": "python3"
  },
  "language_info": {
   "codemirror_mode": {
    "name": "ipython",
    "version": 3
   },
   "file_extension": ".py",
   "mimetype": "text/x-python",
   "name": "python",
   "nbconvert_exporter": "python",
   "pygments_lexer": "ipython3",
   "version": "3.6.13"
  }
 },
 "nbformat": 4,
 "nbformat_minor": 5
}
