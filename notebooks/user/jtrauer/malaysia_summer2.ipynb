{
 "cells": [
  {
   "cell_type": "code",
   "execution_count": null,
   "id": "3590a09a-d78a-4194-b05c-6fb1e554759b",
   "metadata": {},
   "outputs": [],
   "source": [
    "import numpy as np\n",
    "import pandas as pd\n",
    "from jax import numpy as jnp\n",
    "import jax\n",
    "\n",
    "pd.options.plotting.backend = \"plotly\"\n",
    "\n",
    "from summer2 import CompartmentalModel, Stratification\n",
    "from summer2.parameters import Parameter, Function, Data"
   ]
  },
  {
   "cell_type": "code",
   "execution_count": null,
   "id": "a39828af-71ed-49c2-878c-06653ffac9e7",
   "metadata": {},
   "outputs": [],
   "source": [
    "def build_unstratified_model(settings: dict) -> CompartmentalModel:\n",
    "    \"\"\"\n",
    "    Create a compartmental model, with the minimal compartmental structure needed to run and produce some sort of \n",
    "    meaningful outputs.\n",
    "    \n",
    "    Args:\n",
    "        parameters: Parameters for use in model construction    \n",
    "    Returns:\n",
    "        A compartmental model currently without stratification applied\n",
    "    \"\"\"\n",
    "\n",
    "    model = CompartmentalModel(\n",
    "        [\n",
    "            settings[\"start_time\"], \n",
    "            settings[\"end_time\"],\n",
    "        ],\n",
    "        [\n",
    "            \"susceptible\", \n",
    "            \"infectious\",\n",
    "            \"recovered\",\n",
    "        ],\n",
    "        [\"infectious\"],\n",
    "        timestep=0.1,\n",
    "    )\n",
    "    model.set_initial_population(\n",
    "        {\n",
    "            \"susceptible\": Parameter(\"total_population\") - Parameter(\"seed_size\"), \n",
    "            \"infectious\": Parameter(\"seed_size\"),\n",
    "        }\n",
    "    )\n",
    "    model.add_infection_frequency_flow(\n",
    "        \"infection\", \n",
    "        Parameter(\"contact_rate\"), \n",
    "        \"susceptible\", \n",
    "        \"infectious\"\n",
    "    )\n",
    "    \n",
    "    # Infectious people recover\n",
    "    model.add_transition_flow(\n",
    "        name=\"recovery\",\n",
    "        fractional_rate=Parameter(\"recovery_rate\"),\n",
    "        source=\"infectious\",\n",
    "        dest=\"recovered\",\n",
    "    )\n",
    "    \n",
    "    return model"
   ]
  },
  {
   "cell_type": "code",
   "execution_count": null,
   "id": "9e6b41d7-e376-4929-8d86-951a015c3410",
   "metadata": {},
   "outputs": [],
   "source": [
    "parameters = {\n",
    "    \"contact_rate\": 3.0,\n",
    "    \"recovery_rate\": 1.0,\n",
    "    \"total_population\": 1000.,\n",
    "    \"seed_size\": 10.,\n",
    "}\n",
    "settings = {\n",
    "    \"start_time\": 0.,\n",
    "    \"end_time\": 10.,\n",
    "}\n",
    "m = build_unstratified_model(settings)\n",
    "\n",
    "m.run(parameters)\n",
    "m.get_outputs_df().plot()"
   ]
  }
 ],
 "metadata": {
  "kernelspec": {
   "display_name": "Python 3 (ipykernel)",
   "language": "python",
   "name": "python3"
  },
  "language_info": {
   "codemirror_mode": {
    "name": "ipython",
    "version": 3
   },
   "file_extension": ".py",
   "mimetype": "text/x-python",
   "name": "python",
   "nbconvert_exporter": "python",
   "pygments_lexer": "ipython3",
   "version": "3.10.3"
  }
 },
 "nbformat": 4,
 "nbformat_minor": 5
}
