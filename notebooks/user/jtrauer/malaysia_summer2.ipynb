{
 "cells": [
  {
   "cell_type": "code",
   "execution_count": null,
   "id": "3590a09a-d78a-4194-b05c-6fb1e554759b",
   "metadata": {},
   "outputs": [],
   "source": [
    "import numpy as np\n",
    "import pandas as pd\n",
    "from jax import numpy as jnp\n",
    "import jax\n",
    "from typing import List\n",
    "\n",
    "pd.options.plotting.backend = \"plotly\"\n",
    "\n",
    "from summer2 import CompartmentalModel, Stratification\n",
    "from summer2.parameters import Parameter, Function, Data"
   ]
  },
  {
   "cell_type": "code",
   "execution_count": null,
   "id": "5e3f872c-fd04-4b14-b683-c7fd5acad30d",
   "metadata": {},
   "outputs": [],
   "source": [
    "def find_latent_transition_rate(\n",
    "    base_comps: List[str], \n",
    "    latent_parameter: str,\n",
    ") -> Parameter:\n",
    "    n_exposed_comps = len([c for c in base_comps if \"_exposed\" in c])\n",
    "    latent_period = Parameter(latent_parameter) / n_exposed_comps\n",
    "    return 1. / latent_period"
   ]
  },
  {
   "cell_type": "code",
   "execution_count": null,
   "id": "a39828af-71ed-49c2-878c-06653ffac9e7",
   "metadata": {},
   "outputs": [],
   "source": [
    "def build_unstratified_model(settings: dict) -> CompartmentalModel:\n",
    "    \"\"\"\n",
    "    Create a compartmental model, with the minimal compartmental structure needed to run and produce some sort of \n",
    "    meaningful outputs.\n",
    "    \n",
    "    Args:\n",
    "        parameters: Parameters for use in model construction    \n",
    "    Returns:\n",
    "        A compartmental model currently without stratification applied\n",
    "    \"\"\"\n",
    "\n",
    "    base_comps = [\n",
    "        \"susceptible\",\n",
    "        \"early_exposed\",\n",
    "        \"late_exposed\",\n",
    "        \"infectious\",\n",
    "        \"recovered\",\n",
    "    ]\n",
    "    \n",
    "    model = CompartmentalModel(\n",
    "        [\n",
    "            settings[\"start_time\"], \n",
    "            settings[\"end_time\"],\n",
    "        ],\n",
    "        base_comps,\n",
    "        [\"infectious\"],\n",
    "        timestep=0.1,\n",
    "    )\n",
    "    \n",
    "    model.set_initial_population(\n",
    "        {\n",
    "            \"susceptible\": Parameter(\"total_population\") - Parameter(\"seed_size\"), \n",
    "            \"infectious\": Parameter(\"seed_size\"),\n",
    "        }\n",
    "    )\n",
    "    \n",
    "    model.add_infection_frequency_flow(\n",
    "        \"infection\", \n",
    "        Parameter(\"contact_rate\"),\n",
    "        \"susceptible\", \n",
    "        \"early_exposed\",\n",
    "    )\n",
    "\n",
    "    latent_rate = find_latent_transition_rate(base_comps, \"latent_period\")\n",
    "        \n",
    "    model.add_transition_flow(\n",
    "        \"early_progression\",\n",
    "        latent_rate,\n",
    "        \"early_exposed\",\n",
    "        \"late_exposed\",\n",
    "    )\n",
    "    \n",
    "    model.add_transition_flow(\n",
    "        \"late_progression\",\n",
    "        latent_rate,\n",
    "        \"late_exposed\",\n",
    "        \"infectious\",\n",
    "    )\n",
    "    \n",
    "    model.add_transition_flow(\n",
    "        \"recovery\",\n",
    "        Parameter(\"recovery_rate\"),\n",
    "        \"infectious\",\n",
    "        \"recovered\",\n",
    "    )\n",
    "    \n",
    "    return model"
   ]
  },
  {
   "cell_type": "code",
   "execution_count": null,
   "id": "9e6b41d7-e376-4929-8d86-951a015c3410",
   "metadata": {},
   "outputs": [],
   "source": [
    "parameters = {\n",
    "    \"contact_rate\": 10.0,\n",
    "    \"recovery_rate\": 1.0,\n",
    "    \"total_population\": 1000.,\n",
    "    \"seed_size\": 10.,\n",
    "    \"latent_period\": 1.,\n",
    "}\n",
    "settings = {\n",
    "    \"start_time\": 0.,\n",
    "    \"end_time\": 10.,\n",
    "}\n",
    "\n",
    "malaysia_model = build_unstratified_model(settings)\n",
    "malaysia_model.run(parameters)\n",
    "malaysia_model.get_outputs_df().plot()"
   ]
  },
  {
   "cell_type": "code",
   "execution_count": null,
   "id": "65ade497-e183-49fa-b83e-5f749f6f5956",
   "metadata": {},
   "outputs": [],
   "source": [
    "malaysia_model.get_input_parameters()"
   ]
  },
  {
   "cell_type": "code",
   "execution_count": null,
   "id": "95574935-6f82-494c-90d3-3f05c1b93ce6",
   "metadata": {},
   "outputs": [],
   "source": [
    "malaysia_model.graph.filter(sources=[\"parameters.latent_period\"]).draw()"
   ]
  }
 ],
 "metadata": {
  "kernelspec": {
   "display_name": "Python 3 (ipykernel)",
   "language": "python",
   "name": "python3"
  },
  "language_info": {
   "codemirror_mode": {
    "name": "ipython",
    "version": 3
   },
   "file_extension": ".py",
   "mimetype": "text/x-python",
   "name": "python",
   "nbconvert_exporter": "python",
   "pygments_lexer": "ipython3",
   "version": "3.10.4"
  }
 },
 "nbformat": 4,
 "nbformat_minor": 5
}
