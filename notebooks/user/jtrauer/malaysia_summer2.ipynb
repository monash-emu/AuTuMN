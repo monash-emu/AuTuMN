{
 "cells": [
  {
   "cell_type": "code",
   "execution_count": null,
   "id": "3590a09a-d78a-4194-b05c-6fb1e554759b",
   "metadata": {},
   "outputs": [],
   "source": [
    "import numpy as np\n",
    "import pandas as pd\n",
    "pd.options.plotting.backend = \"plotly\"\n",
    "\n",
    "from jax import numpy as jnp\n",
    "\n",
    "# Also import jax itself - normally you'll never need this directly, but we want to have a look...\n",
    "import jax\n",
    "\n",
    "from summer2 import CompartmentalModel, Stratification\n",
    "from summer2.parameters import Parameter, Function, Data"
   ]
  },
  {
   "cell_type": "code",
   "execution_count": null,
   "id": "a39828af-71ed-49c2-878c-06653ffac9e7",
   "metadata": {},
   "outputs": [],
   "source": [
    "def build_unstratified_model(contact_rate, recovery_rate) -> CompartmentalModel:\n",
    "    \"\"\"\n",
    "    Create a compartmental model, with the minimal compartmental structure needed to run and produce some sort of \n",
    "    meaningful outputs.\n",
    "    \n",
    "    Args:\n",
    "        parameters: Flow parameters\n",
    "    Returns:\n",
    "        A compartmental model currently without stratification applied\n",
    "    \"\"\"\n",
    "\n",
    "    model = CompartmentalModel(\n",
    "        [0, 100],\n",
    "        [\"susceptible\", \"infectious\", \"recovered\"], \n",
    "        [\"infectious\"]\n",
    "    )\n",
    "    model.set_initial_population(\n",
    "        {\n",
    "            \"susceptible\": 990., \n",
    "            \"infectious\": 10.\n",
    "        }\n",
    "    )\n",
    "    model.add_infection_frequency_flow(\n",
    "        \"infection\", \n",
    "        contact_rate, \n",
    "        \"susceptible\", \n",
    "        \"infectious\"\n",
    "    )\n",
    "    \n",
    "    # Infectious people recover\n",
    "    model.add_transition_flow(\n",
    "        name=\"recovery\",\n",
    "        fractional_rate=recovery_rate,\n",
    "        source=\"infectious\",\n",
    "        dest=\"recovered\",\n",
    "    )\n",
    "    \n",
    "    return model"
   ]
  },
  {
   "cell_type": "code",
   "execution_count": null,
   "id": "92d7ce71-70a5-4404-bf92-8185806fa701",
   "metadata": {},
   "outputs": [],
   "source": [
    "contact_rate = Parameter(\"contact_rate\")\n",
    "recovery_rate = Parameter(\"recovery_rate\")\n",
    "m = build_unstratified_model(contact_rate, recovery_rate)\n",
    "pdict = {\n",
    "    \"contact_rate\": 5.0,\n",
    "    \"recovery_rate\": 1.0,\n",
    "}\n",
    "m.run(pdict)\n",
    "m.get_outputs_df().plot()"
   ]
  }
 ],
 "metadata": {
  "kernelspec": {
   "display_name": "Python 3 (ipykernel)",
   "language": "python",
   "name": "python3"
  },
  "language_info": {
   "codemirror_mode": {
    "name": "ipython",
    "version": 3
   },
   "file_extension": ".py",
   "mimetype": "text/x-python",
   "name": "python",
   "nbconvert_exporter": "python",
   "pygments_lexer": "ipython3",
   "version": "3.10.3"
  }
 },
 "nbformat": 4,
 "nbformat_minor": 5
}
