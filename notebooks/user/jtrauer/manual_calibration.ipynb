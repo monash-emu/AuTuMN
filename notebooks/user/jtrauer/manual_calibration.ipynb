{
 "cells": [
  {
   "cell_type": "code",
   "execution_count": 1,
   "metadata": {},
   "outputs": [],
   "source": [
    "from autumn.tools.project import get_project\n",
    "from matplotlib import pyplot\n",
    "from autumn.tools.plots.utils import REF_DATE\n",
    "from autumn.tools.calibration.targets import get_target_series\n",
    "import pandas as pd"
   ]
  },
  {
   "cell_type": "code",
   "execution_count": 2,
   "metadata": {},
   "outputs": [],
   "source": [
    "project = get_project(\"covid_19\", \"victoria_2021\")"
   ]
  },
  {
   "cell_type": "code",
   "execution_count": 3,
   "metadata": {},
   "outputs": [],
   "source": [
    "# custom_params = project.param_set.baseline.update(dict(contact_rate = 0.031))\n",
    "custom_params = project.param_set.baseline\n",
    "model = project.run_baseline_model(custom_params)\n",
    "derived_df = model.get_derived_outputs_df()"
   ]
  },
  {
   "cell_type": "code",
   "execution_count": 7,
   "metadata": {},
   "outputs": [
    {
     "data": {
      "text/plain": [
       "['notifications_for_cluster_west_metro',\n",
       " 'accum_notifications_for_cluster_west_metro',\n",
       " 'notifications_for_cluster_south_metro',\n",
       " 'accum_notifications_for_cluster_south_metro',\n",
       " 'notifications_for_cluster_south_east_metro',\n",
       " 'accum_notifications_for_cluster_south_east_metro',\n",
       " 'notifications_for_cluster_north_metro',\n",
       " 'accum_notifications_for_cluster_north_metro',\n",
       " 'notifications_for_cluster_grampians',\n",
       " 'accum_notifications_for_cluster_grampians',\n",
       " 'notifications_for_cluster_loddon_mallee',\n",
       " 'accum_notifications_for_cluster_loddon_mallee',\n",
       " 'notifications_for_cluster_hume',\n",
       " 'accum_notifications_for_cluster_hume',\n",
       " 'notifications_for_cluster_gippsland',\n",
       " 'accum_notifications_for_cluster_gippsland',\n",
       " 'notifications_for_cluster_barwon_south_west',\n",
       " 'accum_notifications_for_cluster_barwon_south_west',\n",
       " 'notifications']"
      ]
     },
     "execution_count": 7,
     "metadata": {},
     "output_type": "execute_result"
    }
   ],
   "source": [
    "[c for c in derived_df.columns if \"notif\" in c]"
   ]
  },
  {
   "cell_type": "code",
   "execution_count": 4,
   "metadata": {},
   "outputs": [
    {
     "ename": "KeyError",
     "evalue": "'notifications'",
     "output_type": "error",
     "traceback": [
      "\u001b[1;31m---------------------------------------------------------------------------\u001b[0m",
      "\u001b[1;31mKeyError\u001b[0m                                  Traceback (most recent call last)",
      "\u001b[1;32m<ipython-input-4-62331cbe5a70>\u001b[0m in \u001b[0;36m<module>\u001b[1;34m\u001b[0m\n\u001b[0;32m      1\u001b[0m \u001b[0moutput\u001b[0m \u001b[1;33m=\u001b[0m \u001b[1;34m\"notifications\"\u001b[0m\u001b[1;33m\u001b[0m\u001b[1;33m\u001b[0m\u001b[0m\n\u001b[1;32m----> 2\u001b[1;33m \u001b[0mnotif_dates\u001b[0m\u001b[1;33m,\u001b[0m \u001b[0mnotif_values\u001b[0m \u001b[1;33m=\u001b[0m \u001b[0mget_target_series\u001b[0m\u001b[1;33m(\u001b[0m\u001b[0mproject\u001b[0m\u001b[1;33m.\u001b[0m\u001b[0mcalibration\u001b[0m\u001b[1;33m.\u001b[0m\u001b[0mtargets\u001b[0m\u001b[1;33m,\u001b[0m \u001b[0mREF_DATE\u001b[0m\u001b[1;33m,\u001b[0m \u001b[0moutput\u001b[0m\u001b[1;33m)\u001b[0m\u001b[1;33m\u001b[0m\u001b[1;33m\u001b[0m\u001b[0m\n\u001b[0m",
      "\u001b[1;32mc:\\users\\jtrauer\\pycharmprojects\\autumn\\autumn\\tools\\calibration\\targets.py\u001b[0m in \u001b[0;36mget_target_series\u001b[1;34m(raw_targets, ref_date, output)\u001b[0m\n\u001b[0;32m     31\u001b[0m \u001b[1;33m\u001b[0m\u001b[0m\n\u001b[0;32m     32\u001b[0m     \u001b[0mprocessed_targets\u001b[0m \u001b[1;33m=\u001b[0m \u001b[0mconvert_targets_to_dict\u001b[0m\u001b[1;33m(\u001b[0m\u001b[0mraw_targets\u001b[0m\u001b[1;33m)\u001b[0m\u001b[1;33m\u001b[0m\u001b[1;33m\u001b[0m\u001b[0m\n\u001b[1;32m---> 33\u001b[1;33m     \u001b[0mtimes_series\u001b[0m \u001b[1;33m=\u001b[0m \u001b[0mref_times_to_dti\u001b[0m\u001b[1;33m(\u001b[0m\u001b[0mref_date\u001b[0m\u001b[1;33m,\u001b[0m \u001b[0mprocessed_targets\u001b[0m\u001b[1;33m[\u001b[0m\u001b[0moutput\u001b[0m\u001b[1;33m]\u001b[0m\u001b[1;33m[\u001b[0m\u001b[1;34m\"times\"\u001b[0m\u001b[1;33m]\u001b[0m\u001b[1;33m)\u001b[0m\u001b[1;33m\u001b[0m\u001b[1;33m\u001b[0m\u001b[0m\n\u001b[0m\u001b[0;32m     34\u001b[0m     \u001b[0mvalues_series\u001b[0m \u001b[1;33m=\u001b[0m \u001b[0mpd\u001b[0m\u001b[1;33m.\u001b[0m\u001b[0mSeries\u001b[0m\u001b[1;33m(\u001b[0m\u001b[0mdata\u001b[0m\u001b[1;33m=\u001b[0m\u001b[0mprocessed_targets\u001b[0m\u001b[1;33m[\u001b[0m\u001b[0moutput\u001b[0m\u001b[1;33m]\u001b[0m\u001b[1;33m[\u001b[0m\u001b[1;34m\"values\"\u001b[0m\u001b[1;33m]\u001b[0m\u001b[1;33m,\u001b[0m \u001b[0mindex\u001b[0m\u001b[1;33m=\u001b[0m\u001b[0mtimes_series\u001b[0m\u001b[1;33m)\u001b[0m\u001b[1;33m\u001b[0m\u001b[1;33m\u001b[0m\u001b[0m\n\u001b[0;32m     35\u001b[0m     \u001b[1;32mreturn\u001b[0m \u001b[0mtimes_series\u001b[0m\u001b[1;33m,\u001b[0m \u001b[0mvalues_series\u001b[0m\u001b[1;33m\u001b[0m\u001b[1;33m\u001b[0m\u001b[0m\n",
      "\u001b[1;31mKeyError\u001b[0m: 'notifications'"
     ]
    }
   ],
   "source": [
    "output = \"notifications\"\n",
    "notif_dates, notif_values = get_target_series(project.calibration.targets, REF_DATE, output)"
   ]
  },
  {
   "cell_type": "code",
   "execution_count": 9,
   "metadata": {},
   "outputs": [
    {
     "data": {
      "image/png": "[encoded data removed]",
      "text/plain": [
       "<Figure size 864x576 with 1 Axes>"
      ]
     },
     "metadata": {},
     "output_type": "display_data"
    }
   ],
   "source": [
    "fig = pyplot.figure(figsize=(12, 8))\n",
    "pyplot.style.use(\"ggplot\")\n",
    "axis = fig.add_subplot()\n",
    "axis = derived_df[output].plot()\n",
    "# axis.scatter(notif_dates, notif_values, c=\"k\")"
   ]
  },
  {
   "cell_type": "code",
   "execution_count": null,
   "metadata": {},
   "outputs": [],
   "source": [
    "fig = pyplot.figure(figsize=(12, 8))\n",
    "pyplot.style.use(\"ggplot\")\n",
    "axis = fig.add_subplot()\n",
    "axis = derived_df[\"cdr\"].plot()"
   ]
  }
 ],
 "metadata": {
  "kernelspec": {
   "display_name": "Python 3",
   "language": "python",
   "name": "python3"
  },
  "language_info": {
   "codemirror_mode": {
    "name": "ipython",
    "version": 3
   },
   "file_extension": ".py",
   "mimetype": "text/x-python",
   "name": "python",
   "nbconvert_exporter": "python",
   "pygments_lexer": "ipython3",
   "version": "3.6.13"
  }
 },
 "nbformat": 4,
 "nbformat_minor": 2
}
