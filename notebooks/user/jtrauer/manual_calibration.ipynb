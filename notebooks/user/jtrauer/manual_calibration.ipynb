{
 "cells": [
  {
   "cell_type": "code",
   "execution_count": null,
   "metadata": {},
   "outputs": [],
   "source": [
    "from autumn.tools.project import get_project\n",
    "from matplotlib import pyplot\n",
    "from autumn.tools.plots.utils import REF_DATE, change_xaxis_to_date\n",
    "from autumn.tools.calibration.targets import convert_targets_to_dict\n",
    "import pandas as pd"
   ]
  },
  {
   "cell_type": "code",
   "execution_count": null,
   "metadata": {},
   "outputs": [],
   "source": [
    "project = get_project(\"covid_19\", \"indonesia\")"
   ]
  },
  {
   "cell_type": "code",
   "execution_count": null,
   "metadata": {},
   "outputs": [],
   "source": [
    "# custom_params = project.param_set.baseline.update(dict(contact_rate = 0.001))\n",
    "results = project.run_baseline_model(custom_params)"
   ]
  },
  {
   "cell_type": "code",
   "execution_count": null,
   "metadata": {},
   "outputs": [],
   "source": [
    "outputs_df = pd.DataFrame(results.derived_outputs)"
   ]
  },
  {
   "cell_type": "code",
   "execution_count": null,
   "metadata": {},
   "outputs": [],
   "source": [
    "targets = project.calibration.targets\n",
    "processed_targets = convert_targets_to_dict(targets)"
   ]
  },
  {
   "cell_type": "code",
   "execution_count": null,
   "metadata": {},
   "outputs": [],
   "source": [
    "output = \"notifications\"\n",
    "\n",
    "fig = pyplot.figure()\n",
    "axis = fig.add_subplot()\n",
    "axis.plot(results.times, outputs_df[output])\n",
    "axis.scatter(\n",
    "    processed_targets[output][\"times\"],\n",
    "    processed_targets[output][\"values\"], \n",
    "    s=1.\n",
    ")\n",
    "change_xaxis_to_date(axis, REF_DATE, rotation=0)"
   ]
  }
 ],
 "metadata": {
  "kernelspec": {
   "display_name": "Python 3",
   "language": "python",
   "name": "python3"
  },
  "language_info": {
   "codemirror_mode": {
    "name": "ipython",
    "version": 3
   },
   "file_extension": ".py",
   "mimetype": "text/x-python",
   "name": "python",
   "nbconvert_exporter": "python",
   "pygments_lexer": "ipython3",
   "version": "3.6.12"
  }
 },
 "nbformat": 4,
 "nbformat_minor": 2
}
