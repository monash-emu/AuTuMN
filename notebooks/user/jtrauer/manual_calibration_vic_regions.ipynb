{
 "cells": [
  {
   "cell_type": "code",
   "execution_count": null,
   "metadata": {},
   "outputs": [],
   "source": [
    "from autumn.settings import Region, Models\n",
    "from autumn.models.covid_19.constants import AGEGROUP_STRATA\n",
    "from autumn.tools.project import get_project, run_project_locally\n",
    "from autumn.tools import inputs\n",
    "import matplotlib.pyplot as plt"
   ]
  },
  {
   "cell_type": "code",
   "execution_count": null,
   "metadata": {},
   "outputs": [],
   "source": [
    "age_integers = [int(group) for group in AGEGROUP_STRATA]\n",
    "model = Models.COVID_19"
   ]
  },
  {
   "cell_type": "code",
   "execution_count": null,
   "metadata": {},
   "outputs": [],
   "source": [
    "def summarise_population(project, region, axis):\n",
    "    total_pops = inputs.get_population_by_agegroup(\n",
    "        AGEGROUP_STRATA, \n",
    "        project.param_set.baseline[\"country\"][\"iso3\"],\n",
    "        project.param_set.baseline[\"population\"][\"region\"], \n",
    "        year=project.param_set.baseline[\"population\"][\"year\"]\n",
    "    )\n",
    "    axis.bar(age_integers, total_pops, width=4)\n",
    "    axis.set_title(f\"{region}, population {round(sum(total_pops) / 1e6, 3)} million\")"
   ]
  },
  {
   "cell_type": "code",
   "execution_count": null,
   "metadata": {},
   "outputs": [],
   "source": [
    "fig, axes = plt.subplots(3, 3, figsize=(12, 8), sharey=\"all\")\n",
    "fig.tight_layout(pad=2)\n",
    "\n",
    "for i_ax, ax in enumerate(axes.reshape(-1)):\n",
    "    region = Region.VICTORIA_SUBREGIONS[i_ax]\n",
    "    project = get_project(model, region)\n",
    "    summarise_population(project, region, ax)"
   ]
  },
  {
   "cell_type": "code",
   "execution_count": null,
   "metadata": {},
   "outputs": [],
   "source": []
  }
 ],
 "metadata": {
  "kernelspec": {
   "display_name": "Python 3",
   "language": "python",
   "name": "python3"
  },
  "language_info": {
   "codemirror_mode": {
    "name": "ipython",
    "version": 3
   },
   "file_extension": ".py",
   "mimetype": "text/x-python",
   "name": "python",
   "nbconvert_exporter": "python",
   "pygments_lexer": "ipython3",
   "version": "3.6.13"
  }
 },
 "nbformat": 4,
 "nbformat_minor": 2
}
