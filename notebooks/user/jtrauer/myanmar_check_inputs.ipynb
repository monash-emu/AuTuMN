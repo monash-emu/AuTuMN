{
 "cells": [
  {
   "cell_type": "code",
   "execution_count": null,
   "metadata": {},
   "outputs": [],
   "source": [
    "import matplotlib.pyplot as plt\n",
    "import matplotlib.cm as cm\n",
    "import matplotlib.dates as mdates\n",
    "from datetime import date\n",
    "from datetime import datetime\n",
    "import numpy as np\n",
    "\n",
    "from autumn.tools.project import get_project\n",
    "from autumn.settings import Region, Models\n",
    "from autumn.models.covid_19.constants import AGEGROUP_STRATA, BASE_DATETIME\n",
    "from autumn.tools.plots.utils import REF_DATE\n",
    "from autumn.tools.calibration.targets import get_target_series\n",
    "from autumn.tools import inputs\n",
    "from autumn.tools.inputs.database import get_input_db\n",
    "from autumn.tools.utils.pretty import pretty_print\n",
    "from autumn.tools.inputs.social_mixing.build_synthetic_matrices import build_synthetic_matrices"
   ]
  },
  {
   "cell_type": "code",
   "execution_count": null,
   "metadata": {},
   "outputs": [],
   "source": [
    "age_integers = [int(group) for group in AGEGROUP_STRATA]\n",
    "model = Models.COVID_19\n",
    "region = Region.MYANMAR"
   ]
  },
  {
   "cell_type": "markdown",
   "metadata": {},
   "source": [
    "## Population"
   ]
  },
  {
   "cell_type": "code",
   "execution_count": null,
   "metadata": {},
   "outputs": [],
   "source": [
    "fig, ax = plt.subplots(1, 1, figsize=(10, 6))\n",
    "project = get_project(model, region)\n",
    "total_pops = inputs.get_population_by_agegroup(\n",
    "    AGEGROUP_STRATA, \n",
    "    project.param_set.baseline[\"country\"][\"iso3\"],\n",
    "    project.param_set.baseline[\"population\"][\"region\"], \n",
    "    year=project.param_set.baseline[\"population\"][\"year\"]\n",
    ")\n",
    "print(f\"total modelled ## Mobilitypopulation of {region} is: {round(sum(total_pops) / 1e6, 3)} million\")\n",
    "ax.bar(age_integers, total_pops, width=4)\n",
    "ax.set_title(region)\n",
    "ax.set_ylabel(\"population (millions)\")\n",
    "ax.set_xlabel(\"starting age of age bracket\")\n",
    "fig.suptitle(\"population distribution by age\")"
   ]
  },
  {
   "cell_type": "markdown",
   "metadata": {},
   "source": [
    "## Mobility"
   ]
  },
  {
   "cell_type": "code",
   "execution_count": null,
   "metadata": {},
   "outputs": [],
   "source": [
    "input_db = get_input_db()\n",
    "mob_df = input_db.query(\"mobility\", conditions={\"iso3\": \"MMR\"})\n",
    "mob_df[\"date_time\"] = [datetime.strptime(i, \"%Y-%m-%d\") for i in mob_df[\"date\"]]\n",
    "plot_left_date = date(2021, 6, 1)\n",
    "plot_right_date = mob_df[\"date_time\"].iloc[-1]  # Not sure why this is necessary\n",
    "\n",
    "mob_fig, mob_axes = plt.subplots(1, 1, figsize=(7, 4))\n",
    "ax = mob_axes\n",
    "for mobility_domain in [\"grocery_and_pharmacy\", \"residential\", \"parks\", \"retail_and_recreation\", \"transit_stations\"]:\n",
    "    ax.plot(mob_df[\"date_time\"], mob_df[mobility_domain], label=mobility_domain)\n",
    "ax.set_ylim((0., 1.4))\n",
    "ax.tick_params(axis=\"x\", labelrotation=45)\n",
    "ax.set_title(region)\n",
    "ax.legend()\n",
    "mob_fig.suptitle(\"raw Google mobility domains\")\n",
    "mob_fig.tight_layout()\n",
    "ax.set_xlim(left=plot_left_date, right=plot_right_date)"
   ]
  },
  {
   "cell_type": "markdown",
   "metadata": {},
   "source": [
    "Will come back to the modelled location-specific inputs once the new version of this code is merged into master."
   ]
  },
  {
   "cell_type": "markdown",
   "metadata": {},
   "source": [
    "## Mixing matrix\n",
    "### Check how mixing matrix is specified for each region"
   ]
  },
  {
   "cell_type": "code",
   "execution_count": null,
   "metadata": {},
   "outputs": [],
   "source": [
    "print(f\"\\nFor cluster: {region}\")\n",
    "print(f\"\\tModelled country: {project.param_set.baseline['country']['iso3']}\")\n",
    "print(f\"\\tModelled sub-region: {project.param_set.baseline['population']['region']}\")\n",
    "print(f\"\\tProxy country: {project.param_set.baseline['mixing_matrices']['source_iso3']}\")\n",
    "print(f\"\\tWhether age adjusted: {project.param_set.baseline['mixing_matrices']['age_adjust']}\")"
   ]
  },
  {
   "cell_type": "code",
   "execution_count": null,
   "metadata": {},
   "outputs": [],
   "source": [
    "mixing_matrix = build_synthetic_matrices(\n",
    "    project.param_set.baseline[\"country\"][\"iso3\"],\n",
    "    project.param_set.baseline[\"mixing_matrices\"][\"source_iso3\"],\n",
    "    AGEGROUP_STRATA,\n",
    "    project.param_set.baseline[\"mixing_matrices\"][\"age_adjust\"],\n",
    "    project.param_set.baseline[\"population\"][\"region\"]\n",
    ")\n",
    "\n",
    "fig = plt.figure(figsize=(12, 8))\n",
    "positions = [1, 2, 3, 5, 6]\n",
    "for i_loc, location in zip(positions, mixing_matrix.keys()):\n",
    "    ax = fig.add_subplot(2, 3, i_loc)\n",
    "    ax.imshow(\n",
    "        np.flipud(np.transpose(mixing_matrix[location])), \n",
    "        cmap=cm.hot, \n",
    "        vmin=0,\n",
    "        vmax=mixing_matrix[location].max(), \n",
    "        origin=\"lower\"\n",
    "    )\n",
    "    ax.set_title(location.replace(\"_\", \" \"))\n",
    "    ax.set_xticks([])\n",
    "    ax.set_yticks([])"
   ]
  }
 ],
 "metadata": {
  "kernelspec": {
   "display_name": "Python 3",
   "language": "python",
   "name": "python3"
  },
  "language_info": {
   "codemirror_mode": {
    "name": "ipython",
    "version": 3
   },
   "file_extension": ".py",
   "mimetype": "text/x-python",
   "name": "python",
   "nbconvert_exporter": "python",
   "pygments_lexer": "ipython3",
   "version": "3.6.13"
  }
 },
 "nbformat": 4,
 "nbformat_minor": 2
}
