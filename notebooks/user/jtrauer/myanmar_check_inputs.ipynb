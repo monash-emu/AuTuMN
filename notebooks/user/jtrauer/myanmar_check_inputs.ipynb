{
 "cells": [
  {
   "cell_type": "code",
   "execution_count": null,
   "metadata": {},
   "outputs": [],
   "source": [
    "import matplotlib.pyplot as plt\n",
    "import matplotlib.cm as cm\n",
    "import matplotlib.dates as mdates\n",
    "from datetime import date\n",
    "from datetime import datetime\n",
    "import numpy as np\n",
    "\n",
    "from summer.utils import ref_times_to_dti\n",
    "\n",
    "from autumn.tools.inputs.demography.queries import get_population_by_agegroup\n",
    "from autumn.models.covid_19.detection import create_cdr_function\n",
    "from autumn.tools.inputs.covid_mmr.queries import get_mmr_testing_numbers\n",
    "from autumn.tools.utils.utils import apply_moving_average\n",
    "from autumn.tools.curve.scale_up import scale_up_function\n",
    "from autumn.tools.project import get_project\n",
    "from autumn.settings import Region, Models\n",
    "from autumn.models.covid_19.constants import AGEGROUP_STRATA, BASE_DATETIME\n",
    "from autumn.tools.plots.utils import REF_DATE\n",
    "from autumn.tools.calibration.targets import get_target_series\n",
    "from autumn.tools import inputs\n",
    "from autumn.tools.inputs.database import get_input_db\n",
    "from autumn.tools.utils.pretty import pretty_print\n",
    "from autumn.tools.inputs.social_mixing.build_synthetic_matrices import build_synthetic_matrices"
   ]
  },
  {
   "cell_type": "code",
   "execution_count": null,
   "metadata": {},
   "outputs": [],
   "source": [
    "age_integers = [int(group) for group in AGEGROUP_STRATA]\n",
    "model = Models.COVID_19\n",
    "region = Region.MYANMAR"
   ]
  },
  {
   "cell_type": "markdown",
   "metadata": {},
   "source": [
    "## Population"
   ]
  },
  {
   "cell_type": "code",
   "execution_count": null,
   "metadata": {},
   "outputs": [],
   "source": [
    "fig, ax = plt.subplots(1, 1, figsize=(10, 6))\n",
    "project = get_project(model, region)\n",
    "total_pops = inputs.get_population_by_agegroup(\n",
    "    AGEGROUP_STRATA, \n",
    "    project.param_set.baseline[\"country\"][\"iso3\"],\n",
    "    project.param_set.baseline[\"population\"][\"region\"], \n",
    "    year=project.param_set.baseline[\"population\"][\"year\"]\n",
    ")\n",
    "print(f\"total modelled population of {region} is: {round(sum(total_pops) / 1e6, 3)} million\")\n",
    "ax.bar(age_integers, total_pops, width=4)\n",
    "ax.set_title(region)\n",
    "ax.set_ylabel(\"population (millions)\")\n",
    "ax.set_xlabel(\"starting age of age bracket\")\n",
    "fig.suptitle(\"population distribution by age\")"
   ]
  },
  {
   "cell_type": "markdown",
   "metadata": {},
   "source": [
    "## Mobility"
   ]
  },
  {
   "cell_type": "code",
   "execution_count": null,
   "metadata": {},
   "outputs": [],
   "source": [
    "input_db = get_input_db()\n",
    "mob_df = input_db.query(\"mobility\", conditions={\"iso3\": \"MMR\"})\n",
    "mob_df[\"date_time\"] = [datetime.strptime(i, \"%Y-%m-%d\") for i in mob_df[\"date\"]]\n",
    "plot_left_date = date(2021, 6, 1)\n",
    "plot_right_date = mob_df[\"date_time\"].iloc[-1]  # Not sure why this is necessary\n",
    "\n",
    "mob_fig, mob_axes = plt.subplots(1, 1, figsize=(7, 4))\n",
    "ax = mob_axes\n",
    "for mobility_domain in [\"grocery_and_pharmacy\", \"residential\", \"parks\", \"retail_and_recreation\", \"transit_stations\"]:\n",
    "    ax.plot(mob_df[\"date_time\"], mob_df[mobility_domain], label=mobility_domain)\n",
    "ax.set_ylim((0., 1.4))\n",
    "ax.tick_params(axis=\"x\", labelrotation=45)\n",
    "ax.set_title(region)\n",
    "ax.legend()\n",
    "mob_fig.suptitle(\"raw Google mobility domains\")\n",
    "mob_fig.tight_layout()\n",
    "ax.set_xlim(left=plot_left_date, right=plot_right_date)"
   ]
  },
  {
   "cell_type": "markdown",
   "metadata": {},
   "source": [
    "Will come back to the modelled location-specific inputs once the new version of this code is merged into master."
   ]
  },
  {
   "cell_type": "markdown",
   "metadata": {},
   "source": [
    "## Mixing matrix\n",
    "### Check how mixing matrix is specified for each region"
   ]
  },
  {
   "cell_type": "code",
   "execution_count": null,
   "metadata": {},
   "outputs": [],
   "source": [
    "print(f\"\\nFor cluster: {region}\")\n",
    "print(f\"\\tModelled country: {project.param_set.baseline['country']['iso3']}\")\n",
    "print(f\"\\tModelled sub-region: {project.param_set.baseline['population']['region']}\")\n",
    "print(f\"\\tProxy country: {project.param_set.baseline['mixing_matrices']['source_iso3']}\")\n",
    "print(f\"\\tWhether age adjusted: {project.param_set.baseline['mixing_matrices']['age_adjust']}\")"
   ]
  },
  {
   "cell_type": "markdown",
   "metadata": {},
   "source": [
    "### Display the matrix and the matrix components"
   ]
  },
  {
   "cell_type": "code",
   "execution_count": null,
   "metadata": {},
   "outputs": [],
   "source": [
    "mixing_matrix = build_synthetic_matrices(\n",
    "    project.param_set.baseline[\"country\"][\"iso3\"],\n",
    "    project.param_set.baseline[\"mixing_matrices\"][\"source_iso3\"],\n",
    "    AGEGROUP_STRATA,\n",
    "    project.param_set.baseline[\"mixing_matrices\"][\"age_adjust\"],\n",
    "    project.param_set.baseline[\"population\"][\"region\"]\n",
    ")\n",
    "\n",
    "fig = plt.figure(figsize=(12, 8))\n",
    "positions = [1, 2, 3, 5, 6]\n",
    "for i_loc, location in zip(positions, mixing_matrix.keys()):\n",
    "    ax = fig.add_subplot(2, 3, i_loc)\n",
    "    ax.imshow(\n",
    "        np.flipud(np.transpose(mixing_matrix[location])), \n",
    "        cmap=cm.hot, \n",
    "        vmin=0,\n",
    "        vmax=mixing_matrix[location].max(), \n",
    "        origin=\"lower\"\n",
    "    )\n",
    "    ax.set_title(location.replace(\"_\", \" \"))\n",
    "    ax.set_xticks([])\n",
    "    ax.set_yticks([])"
   ]
  },
  {
   "cell_type": "markdown",
   "metadata": {},
   "source": [
    "## Case detection"
   ]
  },
  {
   "cell_type": "code",
   "execution_count": null,
   "metadata": {},
   "outputs": [],
   "source": [
    "# Get the CDR function of tests\n",
    "cdr_from_tests_func = create_cdr_function(\n",
    "    project.param_set.baseline[\"testing_to_detection\"][\"assumed_tests_parameter\"],\n",
    "    project.param_set.baseline[\"testing_to_detection\"][\"assumed_cdr_parameter\"],\n",
    ")\n",
    "\n",
    "# Get the denominator population\n",
    "testing_pops = get_population_by_agegroup(\n",
    "    AGEGROUP_STRATA, \n",
    "    project.param_set.baseline[\"country\"][\"iso3\"],\n",
    ")\n",
    "\n",
    "# Process the data\n",
    "test_times, test_values = get_mmr_testing_numbers()\n",
    "test_dates = ref_times_to_dti(BASE_DATETIME, [int(time) for time in test_times])\n",
    "per_capita_tests = [i_tests / sum(testing_pops) for i_tests in test_values]\n",
    "dummy_tests = np.linspace(0, max(per_capita_tests), 200)\n",
    "if project.param_set.baseline[\"testing_to_detection\"][\"assumed_tests_parameter\"]:\n",
    "    smoothed_per_capita_tests = apply_moving_average(\n",
    "        per_capita_tests, project.param_set.baseline[\"testing_to_detection\"][\"smoothing_period\"]\n",
    "    )\n",
    "else:\n",
    "    smoothed_per_capita_tests = per_capita_tests\n",
    "cdr_function_of_time = scale_up_function(\n",
    "    test_times,\n",
    "    [cdr_from_tests_func(test_rate) for test_rate in smoothed_per_capita_tests],\n",
    "    smoothness=0.2, method=4, bound_low=0.,\n",
    ")    \n",
    "\n",
    "# Plot\n",
    "fig, axes = plt.subplots(2, 2, figsize=(12, 8))\n",
    "fig.tight_layout(w_pad=1.5, h_pad=5)\n",
    "\n",
    "# Plot daily number of tests\n",
    "axis = axes[0, 0]\n",
    "axis.plot(test_dates, test_values, marker=\"o\")\n",
    "axis.tick_params(axis=\"x\", labelrotation=45)\n",
    "axis.set_xlim(left=plot_left_date, right=plot_right_date)\n",
    "axis.set_title(\"daily testing numbers\")\n",
    "\n",
    "# Plot daily number of tests\n",
    "axis = axes[0, 1]\n",
    "axis.plot(test_dates, per_capita_tests, label=\"raw\")\n",
    "axis.plot(test_dates, smoothed_per_capita_tests, label=\"smoothed\")\n",
    "axis.tick_params(axis=\"x\", labelrotation=45)\n",
    "axis.set_title(\"daily per capita testing rate\")\n",
    "axis.set_xlim(left=plot_left_date, right=plot_right_date)\n",
    "axis.legend()\n",
    "\n",
    "# Plot relationship of daily tests to CDR proportion\n",
    "axis = axes[1, 0]\n",
    "axis.plot(dummy_tests, cdr_from_tests_func(dummy_tests))\n",
    "axis.scatter(per_capita_tests, [cdr_from_tests_func(i_tests) for i_tests in per_capita_tests], color=\"r\")\n",
    "axis.set_ylabel(\"case detection proportion\")\n",
    "axis.set_xlabel(\"per capita testing rate\")\n",
    "axis.set_title(\"daily per capita tests to CDR relationship\")\n",
    "axis.set_ylim(top=1.)\n",
    "\n",
    "# Plot CDR values\n",
    "axis = axes[1, 1]\n",
    "axis.scatter(test_dates, [cdr_from_tests_func(i_test_rate) for i_test_rate in smoothed_per_capita_tests], color=\"r\")\n",
    "axis.plot(test_dates, [cdr_function_of_time(time) for time in test_times])\n",
    "axis.set_title(\"Final case detection rate\")\n",
    "axis.set_ylabel(\"proportion\")\n",
    "axis.set_xlim(left=plot_left_date, right=plot_right_date)\n",
    "axis.tick_params(axis=\"x\", labelrotation=45)\n",
    "\n",
    "fig.tight_layout()"
   ]
  }
 ],
 "metadata": {
  "kernelspec": {
   "display_name": "Python 3",
   "language": "python",
   "name": "python3"
  },
  "language_info": {
   "codemirror_mode": {
    "name": "ipython",
    "version": 3
   },
   "file_extension": ".py",
   "mimetype": "text/x-python",
   "name": "python",
   "nbconvert_exporter": "python",
   "pygments_lexer": "ipython3",
   "version": "3.6.13"
  }
 },
 "nbformat": 4,
 "nbformat_minor": 2
}
