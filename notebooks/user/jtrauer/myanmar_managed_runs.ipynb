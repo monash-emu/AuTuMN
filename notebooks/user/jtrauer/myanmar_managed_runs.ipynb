{
 "cells": [
  {
   "cell_type": "code",
   "execution_count": null,
   "id": "casual-nightlife",
   "metadata": {},
   "outputs": [],
   "source": [
    "import pandas as pd\n",
    "from matplotlib import pyplot as plt\n",
    "import datetime\n",
    "\n",
    "from summer.utils import ref_times_to_dti\n",
    "\n",
    "from autumn.tools.plots.utils import REF_DATE\n",
    "from autumn.tools.runs import ManagedRun\n",
    "from autumn.tools.runs.calibration.utils import get_posteriors\n",
    "from autumn.tools.utils.pandas import pdfilt\n",
    "from autumn.settings.region import Region"
   ]
  },
  {
   "cell_type": "markdown",
   "id": "f1049ee1",
   "metadata": {},
   "source": [
    "## Specify the runs of interest"
   ]
  },
  {
   "cell_type": "code",
   "execution_count": null,
   "id": "mental-queensland",
   "metadata": {},
   "outputs": [],
   "source": [
    "run_id = \"covid_19/myanmar/1637274726/e529d7f\""
   ]
  },
  {
   "cell_type": "code",
   "execution_count": null,
   "id": "perceived-tracker",
   "metadata": {},
   "outputs": [],
   "source": [
    "mr = ManagedRun(run_id)"
   ]
  },
  {
   "cell_type": "code",
   "execution_count": null,
   "id": "e54e2753",
   "metadata": {},
   "outputs": [],
   "source": [
    "full_run = mr.full_run.get_derived_outputs()\n",
    "pbi = mr.powerbi.get_db()\n",
    "targets = pbi.get_targets()\n",
    "results = pbi.get_uncertainty()\n",
    "mcmc_params = mr.calibration.get_mcmc_params()"
   ]
  },
  {
   "cell_type": "code",
   "execution_count": null,
   "id": "9d0f4dcf",
   "metadata": {},
   "outputs": [],
   "source": [
    "mcmc_params.columns"
   ]
  },
  {
   "cell_type": "code",
   "execution_count": null,
   "id": "e17c1c95",
   "metadata": {},
   "outputs": [],
   "source": [
    "param_lookup = {\n",
    "    \"contact_rate\": \"infection risk per contact\",\n",
    "    \"infectious_seed\": \"starting infectious population\",\n",
    "    \"mobility.microdistancing.behaviour.parameters.end_asymptote\": \"microdistancing effect\",\n",
    "    \"sojourn.compartment_periods_calculated.active.total_period\": \"active disease duration\",\n",
    "    \"sojourn.compartment_periods_calculated.exposed.total_period\": \"incubation period\",\n",
    "    \"testing_to_detection.assumed_cdr_parameter\": \"CDR at 1/10,000 daily testing rate\",\n",
    "    \"vaccination.vacc_part_effect_duration\": \"duration of partial vaccine immunity\",\n",
    "    \"voc_emergence.delta.contact_rate_multiplier\": \"relative infectiousness Delta\",\n",
    "    \"waning_immunity_duration\": \"duration of natural immunity\",\n",
    "}\n",
    "\n",
    "unit_lookup = {\n",
    "    \"contact_rate\": \"probability\",\n",
    "    \"infectious_seed\": \"persons\",\n",
    "    \"mobility.microdistancing.behaviour.parameters.end_asymptote\": \"proportion\",\n",
    "    \"sojourn.compartment_periods_calculated.active.total_period\": \"days\",\n",
    "    \"sojourn.compartment_periods_calculated.exposed.total_period\": \"days\",\n",
    "    \"testing_to_detection.assumed_cdr_parameter\": \"proportion\",\n",
    "    \"vaccination.vacc_part_effect_duration\": \"days\",\n",
    "    \"voc_emergence.delta.contact_rate_multiplier\": \"ratio\",\n",
    "    \"waning_immunity_duration\": \"days\",\n",
    "}\n",
    "\n",
    "\n",
    "plt.style.use(\"ggplot\")\n",
    "fig, axes = plt.subplots(3, 3, figsize=(15, 15), sharey=\"all\")\n",
    "for i_ax, axis in enumerate(axes.reshape(-1)):\n",
    "    param = mcmc_params.columns[i_ax]\n",
    "    axis.hist(mcmc_params[param])\n",
    "    axis.set_title(param_lookup[param])\n",
    "    axis.set_xlabel(unit_lookup[param])\n",
    "    if i_ax % 3 == 0:\n",
    "        axis.set_ylabel(\"runs\")   \n",
    "fig.suptitle(\"parameter posterior histograms\", fontsize=15, y=1)\n",
    "fig.tight_layout()"
   ]
  },
  {
   "cell_type": "code",
   "execution_count": null,
   "id": "ca2fe427",
   "metadata": {},
   "outputs": [],
   "source": [
    "def plot_runs(outputs, title_lookup, left_date, right_date):\n",
    "    fig, axes = plt.subplots(3, 2, figsize=(15, 15), sharex=\"all\")\n",
    "    for i_ax, axis in enumerate(axes.reshape(-1)):\n",
    "        output = outputs[i_ax]\n",
    "        scenario_chain = (full_run[\"scenario\"] == 0) & (full_run[\"chain\"] == 0)\n",
    "        for i_run in full_run[scenario_chain][\"run\"].unique():\n",
    "            selection = full_run[(full_run[\"run\"] == i_run) & scenario_chain]\n",
    "            axis.plot(ref_times_to_dti(REF_DATE, selection[\"times\"]), selection[output])\n",
    "        if output in targets:\n",
    "            axis.scatter(targets.index, targets[output], color=\"k\", s=10, alpha=0.5, zorder=10)\n",
    "        axis.tick_params(axis=\"x\", labelrotation=45)\n",
    "        axis.set_title(title_lookup[output])\n",
    "        axis.set_xlim(left=left_date, right=right_date)"
   ]
  },
  {
   "cell_type": "code",
   "execution_count": null,
   "id": "8a0b1405",
   "metadata": {},
   "outputs": [],
   "source": [
    "title_lookup = {\n",
    "    \"notifications\": \"daily notifications\",\n",
    "    \"infection_deaths\": \"COVID-19-specific deaths\",\n",
    "    \"hospital_admissions\": \"new daily hospital admissions\",\n",
    "    \"icu_admissions\": \"new daily admissions to ICU\",\n",
    "    \"proportion_seropositive\": \"proportion recovered from COVID-19\",\n",
    "    \"incidence\": \"daily new infections\"\n",
    "}"
   ]
  },
  {
   "cell_type": "code",
   "execution_count": null,
   "id": "3703002d",
   "metadata": {},
   "outputs": [],
   "source": [
    "plot_runs(\n",
    "    (\"notifications\", \"infection_deaths\", \"hospital_admissions\", \"icu_admissions\", \"proportion_seropositive\", \"incidence\"), \n",
    "    title_lookup, \n",
    "    datetime.date(2020, 8, 1), \n",
    "    datetime.date(2021, 11, 19)\n",
    ")"
   ]
  },
  {
   "cell_type": "code",
   "execution_count": null,
   "id": "0ccd14c3",
   "metadata": {},
   "outputs": [],
   "source": [
    "plot_runs(\n",
    "    (\"notifications\", \"infection_deaths\", \"hospital_admissions\", \"icu_admissions\", \"proportion_seropositive\", \"incidence\"), \n",
    "    title_lookup, \n",
    "    datetime.date(2021, 9, 1),\n",
    "    datetime.date(2022, 6, 30)\n",
    ")"
   ]
  },
  {
   "cell_type": "code",
   "execution_count": null,
   "id": "8374d183",
   "metadata": {},
   "outputs": [],
   "source": [
    "def plot_outputs(outputs, scenario):\n",
    "    fig, axes = plt.subplots(3, 2, figsize=(15, 15), sharex=\"all\")\n",
    "    colour = (0.2, 0.2, 0.8)\n",
    "    for i_ax, axis in enumerate(axes.reshape(-1)):\n",
    "        output = outputs[i_ax]\n",
    "        region = \"myanmar\"\n",
    "        results_df = results[(output, scenario)]\n",
    "        indices = results_df.index\n",
    "        axis.fill_between(indices, results_df[0.025], results_df[0.975], color=colour, alpha=0.5)\n",
    "        axis.fill_between(indices, results_df[0.25], results_df[0.75], color=colour, alpha=0.7)\n",
    "        axis.plot(indices, results_df[0.500], color=\"b\")\n",
    "        if output in targets:\n",
    "            axis.scatter(targets.index, targets[output], color=\"k\", alpha=0.5, s=10)\n",
    "        axis.tick_params(axis=\"x\", labelrotation=45)\n",
    "        axis.set_xlim(left=plot_left_date)\n",
    "        axis.set_title(title_lookup[output])\n",
    "    fig.tight_layout()"
   ]
  },
  {
   "cell_type": "code",
   "execution_count": null,
   "id": "35617dea",
   "metadata": {},
   "outputs": [],
   "source": [
    "plot_outputs((\"notifications\", \"infection_deaths\", \"proportion_seropositive\"), 0)"
   ]
  }
 ],
 "metadata": {
  "kernelspec": {
   "display_name": "Python 3",
   "language": "python",
   "name": "python3"
  },
  "language_info": {
   "codemirror_mode": {
    "name": "ipython",
    "version": 3
   },
   "file_extension": ".py",
   "mimetype": "text/x-python",
   "name": "python",
   "nbconvert_exporter": "python",
   "pygments_lexer": "ipython3",
   "version": "3.6.13"
  }
 },
 "nbformat": 4,
 "nbformat_minor": 5
}
