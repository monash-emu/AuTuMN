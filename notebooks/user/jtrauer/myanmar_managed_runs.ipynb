{
 "cells": [
  {
   "cell_type": "code",
   "execution_count": null,
   "id": "casual-nightlife",
   "metadata": {},
   "outputs": [],
   "source": [
    "import pandas as pd\n",
    "from matplotlib import pyplot as plt\n",
    "import datetime\n",
    "\n",
    "from summer.utils import ref_times_to_dti\n",
    "\n",
    "from autumn.tools.plots.utils import REF_DATE\n",
    "from autumn.tools.runs import ManagedRun\n",
    "from autumn.tools.runs.calibration.utils import get_posteriors\n",
    "from autumn.tools.utils.pandas import pdfilt\n",
    "from autumn.settings.region import Region"
   ]
  },
  {
   "cell_type": "markdown",
   "id": "f1049ee1",
   "metadata": {},
   "source": [
    "## Specify the runs of interest"
   ]
  },
  {
   "cell_type": "code",
   "execution_count": null,
   "id": "mental-queensland",
   "metadata": {},
   "outputs": [],
   "source": [
    "run_id = \"covid_19/myanmar/1635935706/37ea4d8\""
   ]
  },
  {
   "cell_type": "code",
   "execution_count": null,
   "id": "7367a1be",
   "metadata": {},
   "outputs": [],
   "source": [
    "plot_left_date = datetime.date(2020, 9, 1)"
   ]
  },
  {
   "cell_type": "code",
   "execution_count": null,
   "id": "perceived-tracker",
   "metadata": {},
   "outputs": [],
   "source": [
    "mr = ManagedRun(run_id)"
   ]
  },
  {
   "cell_type": "code",
   "execution_count": null,
   "id": "e54e2753",
   "metadata": {},
   "outputs": [],
   "source": [
    "full_run = mr.full_run.get_derived_outputs()\n",
    "pbi = mr.powerbi.get_db()\n",
    "targets = pbi.get_targets()"
   ]
  },
  {
   "cell_type": "code",
   "execution_count": null,
   "id": "8a0b1405",
   "metadata": {},
   "outputs": [],
   "source": [
    "fig, axes = plt.subplots(2, 1, figsize=(12, 20), sharex=\"all\")\n",
    "outputs = (\"notifications\", \"infection_deaths\")\n",
    "for i_ax, axis in enumerate(axes.reshape(-1)):\n",
    "    output = outputs[i_ax]\n",
    "    scenario_chain = (full_run[\"scenario\"] == 0) & (full_run[\"chain\"] == 0)\n",
    "    for i_run in full_run[scenario_chain][\"run\"].unique():\n",
    "        selection = full_run[(full_run[\"run\"] == i_run) & scenario_chain]\n",
    "        axis.plot(ref_times_to_dti(REF_DATE, selection[\"times\"]), selection[output])\n",
    "    if output in targets:\n",
    "        axis.scatter(targets.index, targets[output], color=\"k\", s=10, alpha=0.5, zorder=10)\n",
    "    axis.tick_params(axis=\"x\", labelrotation=45)\n",
    "    axis.set_xlim(left=plot_left_date)"
   ]
  },
  {
   "cell_type": "code",
   "execution_count": null,
   "id": "8374d183",
   "metadata": {},
   "outputs": [],
   "source": [
    "def plot_outputs(output, scenario):\n",
    "    fig, axes = plt.subplots(4, 2, figsize=(12, 20), sharex=\"all\")\n",
    "    colour = (0.2, 0.2, 0.8)\n",
    "    for i_ax, axis in enumerate(axes.reshape(-1)):\n",
    "        region = Region.VICTORIA_SUBREGIONS[i_ax]\n",
    "        results_df = results[region][(output, scenario)]\n",
    "        indices = results_df.index\n",
    "        axis.fill_between(indices, results_df[0.01], results_df[0.99], color=colour, alpha=0.1)\n",
    "        axis.fill_between(indices, results_df[0.025], results_df[0.975], color=colour, alpha=0.5)\n",
    "        axis.fill_between(indices, results_df[0.25], results_df[0.75], color=colour, alpha=0.7)\n",
    "        axis.plot(indices, results_df[0.500], color=\"b\", linestyle=\"--\")\n",
    "        if output in targets[region]:\n",
    "            axis.scatter(targets[region].index, targets[region][output], color=\"k\", alpha=0.5, s=10)\n",
    "        axis.tick_params(axis=\"x\", labelrotation=45)\n",
    "        axis.set_xlim(left=plot_left_date)\n",
    "        axis.set_title(region)\n",
    "    fig.tight_layout()"
   ]
  }
 ],
 "metadata": {
  "kernelspec": {
   "display_name": "Python 3",
   "language": "python",
   "name": "python3"
  },
  "language_info": {
   "codemirror_mode": {
    "name": "ipython",
    "version": 3
   },
   "file_extension": ".py",
   "mimetype": "text/x-python",
   "name": "python",
   "nbconvert_exporter": "python",
   "pygments_lexer": "ipython3",
   "version": "3.6.12"
  }
 },
 "nbformat": 4,
 "nbformat_minor": 5
}
