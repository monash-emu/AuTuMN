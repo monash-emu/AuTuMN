{
 "cells": [
  {
   "cell_type": "code",
   "execution_count": null,
   "metadata": {},
   "outputs": [],
   "source": [
    "from autumn.tools.project import get_project\n",
    "from autumn.settings import Region\n",
    "from matplotlib import pyplot\n",
    "from autumn.tools.plots.utils import REF_DATE\n",
    "from autumn.tools.calibration.targets import get_target_series\n",
    "import pandas as pd\n",
    "from autumn.tools.utils.pretty import pretty_print"
   ]
  },
  {
   "cell_type": "code",
   "execution_count": null,
   "metadata": {},
   "outputs": [],
   "source": [
    "project = get_project(\"covid_19\", \"myanmar\")"
   ]
  },
  {
   "cell_type": "code",
   "execution_count": null,
   "metadata": {},
   "outputs": [],
   "source": [
    "params_baseline = project.param_set.baseline\n",
    "# pretty_print(params_baseline)"
   ]
  },
  {
   "cell_type": "code",
   "execution_count": null,
   "metadata": {},
   "outputs": [],
   "source": [
    "model = project.run_baseline_model(params_baseline)"
   ]
  },
  {
   "cell_type": "code",
   "execution_count": null,
   "metadata": {},
   "outputs": [],
   "source": [
    "derived_df = model.get_derived_outputs_df()"
   ]
  },
  {
   "cell_type": "code",
   "execution_count": null,
   "metadata": {},
   "outputs": [],
   "source": [
    "def plot_derived_outputs(requested_outputs):\n",
    "\n",
    "    # Preparing\n",
    "    fig = pyplot.figure(figsize=(14, 8))\n",
    "    for i_out, output in enumerate(requested_outputs):\n",
    "\n",
    "        # Plotting\n",
    "        axis = fig.add_subplot(2, 2, i_out + 1)\n",
    "        axis.plot(derived_df[output])\n",
    "\n",
    "        try:\n",
    "            target_dates, target_values = get_target_series(project.calibration.targets, REF_DATE, output)\n",
    "            axis.scatter(target_dates, target_values, c=\"k\")\n",
    "        except:\n",
    "            print(f\"targets not available for {output}\")\n",
    "\n",
    "        # Finishing up\n",
    "        axis.set_title(output)\n",
    "        axis.set_ylim(bottom=0.)\n",
    "        if \"prop_\" in output:\n",
    "            axis.set_ylim(top=1.)\n",
    "        pyplot.setp(axis.get_xticklabels(), rotation=45)\n",
    "    fig.tight_layout()"
   ]
  },
  {
   "cell_type": "markdown",
   "metadata": {},
   "source": [
    "# Main indicators"
   ]
  },
  {
   "cell_type": "code",
   "execution_count": null,
   "metadata": {},
   "outputs": [],
   "source": [
    "plot_derived_outputs((\"notifications\", \"infection_deaths\", \"hospital_admissions\", \"icu_admissions\"))"
   ]
  },
  {
   "cell_type": "markdown",
   "metadata": {},
   "source": [
    "# Vaccination coverage\n",
    "Note this is all ages, whereas implementation is based on 15+ years only"
   ]
  },
  {
   "cell_type": "code",
   "execution_count": null,
   "metadata": {},
   "outputs": [],
   "source": [
    "[col for col in derived_df.columns if \"proportion_\" in col]"
   ]
  },
  {
   "cell_type": "code",
   "execution_count": null,
   "metadata": {},
   "outputs": [],
   "source": [
    "fig = pyplot.figure(figsize=(14, 8))\n",
    "axis = fig.add_subplot(1, 1, 1)\n",
    "\n",
    "at_least_one_dose = derived_df[\"at_least_one_dose_prop\"]\n",
    "\n",
    "axis.fill_between(\n",
    "    derived_df.index,\n",
    "    [0.] * len(derived_df),\n",
    "    derived_df[\"proportion_waned\"],\n",
    "    label=\"waned immunity\"\n",
    ")\n",
    "axis.fill_between(\n",
    "    derived_df.index,\n",
    "    derived_df[\"proportion_waned\"],\n",
    "    derived_df[\"proportion_part_waned\"] + derived_df[\"proportion_waned\"],\n",
    "    label=\"partially waned immunity\"\n",
    ")\n",
    "axis.fill_between(\n",
    "    derived_df.index,\n",
    "    derived_df[\"proportion_waned\"] + derived_df[\"proportion_part_waned\"],\n",
    "    derived_df[\"proportion_fully_vaccinated\"] +derived_df[\"proportion_waned\"] + derived_df[\"proportion_part_waned\"],\n",
    "    label=\"fully vaccinated\"\n",
    ")\n",
    "axis.fill_between(\n",
    "    derived_df.index,\n",
    "    derived_df[\"proportion_fully_vaccinated\"] + derived_df[\"proportion_waned\"] + derived_df[\"proportion_part_waned\"],\n",
    "    derived_df[\"proportion_one_dose\"] + derived_df[\"proportion_fully_vaccinated\"] +derived_df[\"proportion_waned\"] + derived_df[\"proportion_part_waned\"],\n",
    "    label=\"one dose only\"\n",
    ")\n",
    "axis.fill_between(\n",
    "    derived_df.index,\n",
    "    derived_df[\"proportion_one_dose\"] + derived_df[\"proportion_fully_vaccinated\"] + derived_df[\"proportion_waned\"] + derived_df[\"proportion_part_waned\"],\n",
    "    [1.] * len(derived_df),\n",
    "    label=\"unvaccinated\"\n",
    ")\n",
    "axis.legend()"
   ]
  },
  {
   "cell_type": "code",
   "execution_count": null,
   "metadata": {},
   "outputs": [],
   "source": [
    "plot_derived_outputs((\"proportion_seropositive\",))"
   ]
  },
  {
   "cell_type": "code",
   "execution_count": null,
   "metadata": {},
   "outputs": [],
   "source": [
    "# Preparing\n",
    "fig = pyplot.figure(figsize=(14, 8))\n",
    "axis = fig.add_subplot(1, 1, 1)\n",
    "requested_outputs = [col for col in derived_df.columns if \"proportion_seropositiveX\" in col]\n",
    "for i_out, output in enumerate(requested_outputs):\n",
    "\n",
    "    # Plotting\n",
    "    axis.plot(derived_df[output], label=output.split(\"X\")[1])\n",
    "\n",
    "    # Finishing up\n",
    "    pyplot.setp(axis.get_xticklabels(), rotation=45)\n",
    "\n",
    "axis.legend()\n",
    "fig.tight_layout()"
   ]
  }
 ],
 "metadata": {
  "kernelspec": {
   "display_name": "Python 3",
   "language": "python",
   "name": "python3"
  },
  "language_info": {
   "codemirror_mode": {
    "name": "ipython",
    "version": 3
   },
   "file_extension": ".py",
   "mimetype": "text/x-python",
   "name": "python",
   "nbconvert_exporter": "python",
   "pygments_lexer": "ipython3",
   "version": "3.6.13"
  }
 },
 "nbformat": 4,
 "nbformat_minor": 2
}
