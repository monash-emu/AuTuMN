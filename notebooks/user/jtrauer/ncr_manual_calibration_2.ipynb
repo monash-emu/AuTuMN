{
 "cells": [
  {
   "cell_type": "code",
   "execution_count": null,
   "id": "1627fc92",
   "metadata": {},
   "outputs": [],
   "source": [
    "from matplotlib import pyplot\n",
    "import warnings\n",
    "\n",
    "from summer.utils import ref_times_to_dti\n",
    "\n",
    "from autumn.models.sm_sir.constants import IMMUNITY_STRATA\n",
    "from autumn.tools.project import get_project\n",
    "from autumn.settings.constants import COVID_BASE_DATETIME\n",
    "from autumn.tools.utils.pretty import pretty_print\n",
    "from autumn.tools.inputs.covid_phl.queries import get_phl_vac_coverage"
   ]
  },
  {
   "cell_type": "code",
   "execution_count": null,
   "id": "27d2182d",
   "metadata": {},
   "outputs": [],
   "source": [
    "pyplot.style.use(\"ggplot\")\n",
    "warnings.filterwarnings(\"ignore\")\n",
    "region = \"national-capital-region\""
   ]
  },
  {
   "cell_type": "code",
   "execution_count": null,
   "id": "dafd0763",
   "metadata": {},
   "outputs": [],
   "source": [
    "project = get_project(\"sm_sir\", region, reload=True)\n",
    "baseline_params = project.param_set.baseline\n",
    "model = project.run_baseline_model(baseline_params)\n",
    "baseline_df = model.get_derived_outputs_df()\n",
    "model_start_time = ref_times_to_dti(COVID_BASE_DATETIME, [baseline_params[\"time\"][\"start\"]])[0]"
   ]
  },
  {
   "cell_type": "code",
   "execution_count": null,
   "id": "58061c58",
   "metadata": {},
   "outputs": [],
   "source": [
    "sc_models = project.run_scenario_models(model, project.param_set.scenarios)\n",
    "scenario_dfs = [m.get_derived_outputs_df() for m in sc_models]"
   ]
  },
  {
   "cell_type": "code",
   "execution_count": null,
   "id": "ef851775",
   "metadata": {},
   "outputs": [],
   "source": [
    "def convert_ts_index_to_date(ts):\n",
    "    ts.index = ref_times_to_dti(COVID_BASE_DATETIME, ts.index)\n",
    "    return ts\n",
    "\n",
    "ts_set_dates = {project.calibration.targets[i].data.name:\n",
    "    convert_ts_index_to_date(project.calibration.targets[i].data) for \n",
    "    i in range(len(project.calibration.targets))\n",
    "}"
   ]
  },
  {
   "cell_type": "code",
   "execution_count": null,
   "id": "0fb84995",
   "metadata": {},
   "outputs": [],
   "source": [
    "# Define what we want to plot\n",
    "outputs_to_plot = [\"notifications\", \"infection_deaths\", \"icu_occupancy\", \"hospital_occupancy\"]\n",
    "plot_end_time = ref_times_to_dti(COVID_BASE_DATETIME, [1000.])[0]\n",
    "\n",
    "fig = pyplot.figure(figsize=(15, 12))\n",
    "for i_out, output in enumerate(outputs_to_plot):\n",
    "    axis = fig.add_subplot(2, 2, i_out + 1)\n",
    "    \n",
    "    # Plotting\n",
    "    if output in ts_set_dates:\n",
    "        ts_set_dates[output].plot(style='.', label=\"\")\n",
    "    baseline_df[output].plot(label=\"baseline\")\n",
    "#     for scenario in range(len(sc_models)):\n",
    "#         scenario_dfs[scenario][outputs_to_plot[i_out]].plot(label=project.param_set.scenarios[scenario][\"description\"])\n",
    "\n",
    "    # Display\n",
    "    axis.set_title(output.replace(\"_\", \" \"))\n",
    "    if i_out == 0:\n",
    "        axis.legend()\n",
    "    axis.set_xlim(left=model_start_time)"
   ]
  },
  {
   "cell_type": "code",
   "execution_count": null,
   "id": "ef025269",
   "metadata": {},
   "outputs": [],
   "source": [
    "baseline_df[[f\"prop_immune_{stratum}\" for stratum in IMMUNITY_STRATA[::-1]]].plot.area(figsize=(10, 7))"
   ]
  },
  {
   "cell_type": "code",
   "execution_count": null,
   "id": "40ef972a",
   "metadata": {},
   "outputs": [],
   "source": [
    "get_phl_vac_coverage(dose=\"BOOSTER_DOSE\").plot.area()"
   ]
  }
 ],
 "metadata": {
  "kernelspec": {
   "display_name": "Python 3 (ipykernel)",
   "language": "python",
   "name": "python3"
  },
  "language_info": {
   "codemirror_mode": {
    "name": "ipython",
    "version": 3
   },
   "file_extension": ".py",
   "mimetype": "text/x-python",
   "name": "python",
   "nbconvert_exporter": "python",
   "pygments_lexer": "ipython3",
   "version": "3.9.11"
  }
 },
 "nbformat": 4,
 "nbformat_minor": 5
}
