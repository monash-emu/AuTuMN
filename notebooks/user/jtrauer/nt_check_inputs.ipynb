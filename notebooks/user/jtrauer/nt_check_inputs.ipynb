{
 "cells": [
  {
   "cell_type": "code",
   "execution_count": null,
   "id": "aadcb631-9b8b-4361-9e13-f8e4f22f02b4",
   "metadata": {},
   "outputs": [],
   "source": [
    "import pandas as pd\n",
    "import plotly.express as px\n",
    "from datetime import datetime\n",
    "\n",
    "from summer.utils import ref_times_to_dti\n",
    "\n",
    "from autumn.models.sm_sir.stratifications.agegroup import convert_param_agegroups\n",
    "from autumn.settings.constants import GOOGLE_MOBILITY_LOCATIONS\n",
    "from autumn.core.inputs.mobility.queries import get_mobility_data\n",
    "from autumn.models.sm_sir.mixing_matrix.macrodistancing import weight_mobility_data\n",
    "from autumn.core import inputs\n",
    "from autumn.settings.constants import COVID_BASE_DATETIME\n",
    "from autumn.core.utils.display import pretty_print\n",
    "from autumn.core.project import get_project\n",
    "from autumn.projects.sm_sir.australia.northern_territory.project import get_ts_date_indexes\n",
    "from autumn.core.inputs.social_mixing.build_synthetic_matrices import build_synthetic_matrices"
   ]
  },
  {
   "cell_type": "code",
   "execution_count": null,
   "id": "4827e108-601c-4e86-804d-63791f9dc7be",
   "metadata": {},
   "outputs": [],
   "source": [
    "pd.options.plotting.backend = \"plotly\""
   ]
  },
  {
   "cell_type": "code",
   "execution_count": null,
   "id": "78cb2cf0-32dd-4261-b45f-a847e898d81b",
   "metadata": {},
   "outputs": [],
   "source": [
    "region = \"northern_territory\"\n",
    "p = get_project(\"sm_sir\", region, reload=True)\n",
    "baseline_params = p.param_set.baseline"
   ]
  },
  {
   "cell_type": "markdown",
   "id": "5d6cbef2-3083-48bd-93cc-a0f272f552fc",
   "metadata": {},
   "source": [
    "Grab a few reused parameters"
   ]
  },
  {
   "cell_type": "code",
   "execution_count": null,
   "id": "90d8d53b-f528-4194-8865-29d40191b9eb",
   "metadata": {},
   "outputs": [],
   "source": [
    "country = baseline_params[\"country\"][\"iso3\"]\n",
    "sub_region = baseline_params[\"population\"][\"region\"]\n",
    "data_year = baseline_params[\"population\"][\"year\"]\n",
    "ref_matrix_country = baseline_params[\"ref_mixing_iso3\"]"
   ]
  },
  {
   "cell_type": "markdown",
   "id": "c4b987b3-34c8-49ce-bb67-ac6d438d9378",
   "metadata": {},
   "source": [
    "### Population"
   ]
  },
  {
   "cell_type": "code",
   "execution_count": null,
   "id": "92373ca3-7043-4da3-98ea-fc4244f802de",
   "metadata": {},
   "outputs": [],
   "source": [
    "modelled_age_groups = baseline_params[\"age_groups\"]\n",
    "age_pops = pd.Series(\n",
    "    inputs.get_population_by_agegroup(\n",
    "        modelled_age_groups,\n",
    "        country,\n",
    "        sub_region,\n",
    "        data_year,\n",
    "    ),\n",
    "    index=modelled_age_groups\n",
    ")\n",
    "print(f\"Total modelled population is {age_pops.sum() / 1e3} thousand\")\n",
    "print(f\"Modelled age groups are {modelled_age_groups}\")\n",
    "age_pops.plot.bar()"
   ]
  },
  {
   "cell_type": "markdown",
   "id": "580c61f1-31bb-4a40-8719-461f2aec19cd",
   "metadata": {},
   "source": [
    "### Mixing matrix"
   ]
  },
  {
   "cell_type": "code",
   "execution_count": null,
   "id": "0cdc3566-ea3a-4d59-b8cd-4530d2bd7da9",
   "metadata": {},
   "outputs": [],
   "source": [
    "print(f\"Target country: {country}\")\n",
    "print(f\"Target sub-region: {sub_region}\")\n",
    "print(f\"Proxy country: {ref_matrix_country}\")\n",
    "print(\"Always age-adjusted to target population under current SM-SIR code\")"
   ]
  },
  {
   "cell_type": "markdown",
   "id": "4a07d4c1-5a9a-4ef5-a18f-64b958eb17a3",
   "metadata": {},
   "source": [
    "Note that in the Victoria Nature Communications paper, we used the UK Polymod matrices in our base analysis as the reference matrices, and the Belgium Polymod matrices for our sensitivity analysis."
   ]
  },
  {
   "cell_type": "code",
   "execution_count": null,
   "id": "8755d24e-f66e-4b1d-9450-02c026277a19",
   "metadata": {},
   "outputs": [],
   "source": [
    "mixing_matrices = build_synthetic_matrices(\n",
    "    country,\n",
    "    ref_matrix_country,\n",
    "    [int(age) for age in modelled_age_groups],\n",
    "    True,\n",
    "    sub_region,\n",
    ")"
   ]
  },
  {
   "cell_type": "code",
   "execution_count": null,
   "id": "700cf15a-1052-41c4-aa75-55b0d75911c3",
   "metadata": {},
   "outputs": [],
   "source": [
    "print(f\"Total daily contacts for each age group is {mixing_matrices['all_locations'].sum(axis=1)}\")\n",
    "px.imshow(mixing_matrices[\"all_locations\"])"
   ]
  },
  {
   "cell_type": "markdown",
   "id": "8fbc76b9-46d4-4294-a661-0b2914ab7868",
   "metadata": {},
   "source": [
    "### Mobility"
   ]
  },
  {
   "cell_type": "code",
   "execution_count": null,
   "id": "c3623cea-c585-4c09-b30f-b75af0ec22b2",
   "metadata": {},
   "outputs": [],
   "source": [
    "mob_df, google_mobility_days = get_mobility_data(\n",
    "    country, \n",
    "    sub_region,\n",
    "    COVID_BASE_DATETIME,\n",
    ")\n",
    "mob_dates_df = mob_df.copy()\n",
    "mob_dates_df.index = mob_df[\"date\"]"
   ]
  },
  {
   "cell_type": "code",
   "execution_count": null,
   "id": "d42b823b-b1a5-41e4-894a-4f8d38510b3f",
   "metadata": {},
   "outputs": [],
   "source": [
    "mob_dates_df[GOOGLE_MOBILITY_LOCATIONS].plot(title=\"Available raw mobility fields\")"
   ]
  },
  {
   "cell_type": "code",
   "execution_count": null,
   "id": "8a9a3ac3-8d98-46b3-a5b7-8f346cb88869",
   "metadata": {},
   "outputs": [],
   "source": [
    "mobility_map_req = baseline_params[\"mobility\"][\"google_mobility_locations\"]\n",
    "model_loc_mobility_values = weight_mobility_data(\n",
    "    mob_df, \n",
    "    mobility_map_req,\n",
    ")\n",
    "print(\"Requested mapping:\")\n",
    "pretty_print(mobility_map_req)\n",
    "model_loc_mobility_values.index = mob_df[\"date\"]\n",
    "model_loc_mobility_values.plot(title=\"Mobility model implementation\")"
   ]
  },
  {
   "cell_type": "markdown",
   "id": "1b0e6a35-0fb9-40cc-bbff-6cf4f0d2173e",
   "metadata": {},
   "source": [
    "### Age adjustments\n",
    "#### Susceptibility"
   ]
  },
  {
   "cell_type": "code",
   "execution_count": null,
   "id": "72a3252e-2c5d-4720-9cdf-eab2d1bc49af",
   "metadata": {},
   "outputs": [],
   "source": [
    "age_params = baseline_params[\"age_stratification\"]"
   ]
  },
  {
   "cell_type": "code",
   "execution_count": null,
   "id": "2d69adf9-6a34-4e68-8a25-415813964026",
   "metadata": {},
   "outputs": [],
   "source": [
    "suscept_req = age_params[\"susceptibility\"]\n",
    "suscept_adjs = convert_param_agegroups(\n",
    "    country,\n",
    "    sub_region, \n",
    "    age_params[\"susceptibility\"],\n",
    "    [str(a) for a in modelled_age_groups],\n",
    ")\n",
    "suscept_req_df = pd.Series(suscept_req)"
   ]
  },
  {
   "cell_type": "code",
   "execution_count": null,
   "id": "166ed4a5-0b73-4399-bd1f-0ea83f60515c",
   "metadata": {},
   "outputs": [],
   "source": [
    "comparison_df = pd.DataFrame({\n",
    "    \"modelled\": suscept_req_df,\n",
    "    \"data\": suscept_adjs,\n",
    "})\n",
    "comparison_df.plot()"
   ]
  },
  {
   "cell_type": "markdown",
   "id": "13045539-5b97-4a09-81f6-0f69264daded",
   "metadata": {},
   "source": [
    "#### Symptomatic proportion"
   ]
  },
  {
   "cell_type": "code",
   "execution_count": null,
   "id": "f9fc8a95-3be7-47cf-ae8e-bb5e247f54f3",
   "metadata": {},
   "outputs": [],
   "source": [
    "sympt_req = age_params[\"prop_symptomatic\"]\n",
    "sympt_adjs = convert_param_agegroups(\n",
    "    country,\n",
    "    sub_region, \n",
    "    age_params[\"prop_symptomatic\"],\n",
    "    [str(a) for a in modelled_age_groups],\n",
    ")\n",
    "sympt_req_df = pd.Series(sympt_req)"
   ]
  },
  {
   "cell_type": "code",
   "execution_count": null,
   "id": "214bac5d-0f48-4d04-8da0-29552d7cac86",
   "metadata": {},
   "outputs": [],
   "source": [
    "comparison_df = pd.DataFrame({\n",
    "    \"modelled\": sympt_req_df,\n",
    "    \"data\": sympt_adjs,\n",
    "})\n",
    "comparison_df.plot()"
   ]
  },
  {
   "cell_type": "code",
   "execution_count": null,
   "id": "8382a1c2-e89e-459b-92ca-33d5a5bb4797",
   "metadata": {},
   "outputs": [],
   "source": [
    "pd.Series(age_params[\"cfr\"][\"values\"]).plot(title=\"Case fatality proportion\")"
   ]
  },
  {
   "cell_type": "code",
   "execution_count": null,
   "id": "35224d55-6dd4-4c14-a42a-ecd545d8eb09",
   "metadata": {},
   "outputs": [],
   "source": [
    "pd.Series(age_params[\"prop_hospital\"][\"values\"]).plot(title=\"Hospitalised proportion\")"
   ]
  },
  {
   "cell_type": "markdown",
   "id": "ed63d337-a27e-40f6-8ede-9acc7e11e5f4",
   "metadata": {
    "tags": []
   },
   "source": [
    "### Calibration targets"
   ]
  },
  {
   "cell_type": "code",
   "execution_count": null,
   "id": "55b887e0-cd15-4496-b2b4-da5fdc7eaaf2",
   "metadata": {},
   "outputs": [],
   "source": [
    "ts_set_dates = get_ts_date_indexes(p.ts_set, COVID_BASE_DATETIME)"
   ]
  },
  {
   "cell_type": "code",
   "execution_count": null,
   "id": "a7a0aeff-5981-47b3-8a62-5d6fff32c73f",
   "metadata": {},
   "outputs": [],
   "source": [
    "ts_set_dates[\"notifications\"].plot()"
   ]
  }
 ],
 "metadata": {
  "kernelspec": {
   "display_name": "Python 3.10.4 ('autumn')",
   "language": "python",
   "name": "python3"
  },
  "language_info": {
   "codemirror_mode": {
    "name": "ipython",
    "version": 3
   },
   "file_extension": ".py",
   "mimetype": "text/x-python",
   "name": "python",
   "nbconvert_exporter": "python",
   "pygments_lexer": "ipython3",
   "version": "3.10.4"
  },
  "vscode": {
   "interpreter": {
    "hash": "d457940a8963e942bcd46e9b7d5a81b6c7b3586f948c4ae333b2381b8f1d6e9c"
   }
  }
 },
 "nbformat": 4,
 "nbformat_minor": 5
}
