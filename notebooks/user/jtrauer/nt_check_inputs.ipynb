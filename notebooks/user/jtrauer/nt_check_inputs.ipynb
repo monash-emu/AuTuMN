{
 "cells": [
  {
   "cell_type": "code",
   "execution_count": null,
   "id": "aadcb631-9b8b-4361-9e13-f8e4f22f02b4",
   "metadata": {},
   "outputs": [],
   "source": [
    "import pandas as pd\n",
    "import copy\n",
    "\n",
    "from summer.utils import ref_times_to_dti\n",
    "\n",
    "from autumn.settings.constants import COVID_BASE_DATETIME\n",
    "from autumn.core.utils.display import pretty_print\n",
    "from autumn.core.project import get_project\n",
    "from autumn.projects.sm_sir.australia.northern_territory import project"
   ]
  },
  {
   "cell_type": "code",
   "execution_count": null,
   "id": "4827e108-601c-4e86-804d-63791f9dc7be",
   "metadata": {},
   "outputs": [],
   "source": [
    "pd.options.plotting.backend = \"plotly\""
   ]
  },
  {
   "cell_type": "code",
   "execution_count": null,
   "id": "78cb2cf0-32dd-4261-b45f-a847e898d81b",
   "metadata": {},
   "outputs": [],
   "source": [
    "region = \"northern_territory\"\n",
    "p = get_project(\"sm_sir\", region, reload=True)\n",
    "baseline_params = p.param_set.baseline\n",
    "# pretty_print(baseline_params)"
   ]
  },
  {
   "cell_type": "code",
   "execution_count": null,
   "id": "ffc4536d-c6b6-44ec-bb37-0b3a085019a4",
   "metadata": {},
   "outputs": [],
   "source": [
    "def get_ts_date_indexes(ts):\n",
    "    new_ts = copy.copy(ts)\n",
    "    new_ts.index = ref_times_to_dti(COVID_BASE_DATETIME, ts.index)\n",
    "    return new_ts"
   ]
  },
  {
   "cell_type": "code",
   "execution_count": null,
   "id": "55b887e0-cd15-4496-b2b4-da5fdc7eaaf2",
   "metadata": {},
   "outputs": [],
   "source": [
    "ts_set_dates = {k: get_ts_date_indexes(v) for k, v in p.ts_set.items()}"
   ]
  },
  {
   "cell_type": "code",
   "execution_count": null,
   "id": "37a45733-5852-4b8b-8e83-91c91188d733",
   "metadata": {},
   "outputs": [],
   "source": [
    "ts_set_dates[\"notifications\"].plot()"
   ]
  }
 ],
 "metadata": {
  "kernelspec": {
   "display_name": "Python 3 (ipykernel)",
   "language": "python",
   "name": "python3"
  },
  "language_info": {
   "codemirror_mode": {
    "name": "ipython",
    "version": 3
   },
   "file_extension": ".py",
   "mimetype": "text/x-python",
   "name": "python",
   "nbconvert_exporter": "python",
   "pygments_lexer": "ipython3",
   "version": "3.10.3"
  }
 },
 "nbformat": 4,
 "nbformat_minor": 5
}
