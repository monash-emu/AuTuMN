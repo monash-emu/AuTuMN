{
 "cells": [
  {
   "cell_type": "code",
   "execution_count": null,
   "id": "aadcb631-9b8b-4361-9e13-f8e4f22f02b4",
   "metadata": {},
   "outputs": [],
   "source": [
    "import pandas as pd\n",
    "\n",
    "from autumn.settings.constants import COVID_BASE_DATETIME\n",
    "from autumn.core.utils.display import pretty_print\n",
    "from autumn.core.project import get_project\n",
    "from autumn.projects.sm_sir.australia.northern_territory.project import get_ts_date_indexes"
   ]
  },
  {
   "cell_type": "code",
   "execution_count": null,
   "id": "4827e108-601c-4e86-804d-63791f9dc7be",
   "metadata": {},
   "outputs": [],
   "source": [
    "pd.options.plotting.backend = \"plotly\""
   ]
  },
  {
   "cell_type": "code",
   "execution_count": null,
   "id": "78cb2cf0-32dd-4261-b45f-a847e898d81b",
   "metadata": {},
   "outputs": [],
   "source": [
    "region = \"northern_territory\"\n",
    "p = get_project(\"sm_sir\", region, reload=True)\n",
    "baseline_params = p.param_set.baseline"
   ]
  },
  {
   "cell_type": "code",
   "execution_count": null,
   "id": "5cbe27da-5067-40e0-9a51-59ca8531f01e",
   "metadata": {},
   "outputs": [],
   "source": [
    "pretty_print(baseline_params[\"age_stratification\"])"
   ]
  },
  {
   "cell_type": "code",
   "execution_count": null,
   "id": "55b887e0-cd15-4496-b2b4-da5fdc7eaaf2",
   "metadata": {},
   "outputs": [],
   "source": [
    "ts_set_dates = get_ts_date_indexes(p.ts_set, COVID_BASE_DATETIME)"
   ]
  },
  {
   "cell_type": "code",
   "execution_count": null,
   "id": "a7a0aeff-5981-47b3-8a62-5d6fff32c73f",
   "metadata": {},
   "outputs": [],
   "source": [
    "ts_set_dates[\"notifications\"].plot()"
   ]
  }
 ],
 "metadata": {
  "kernelspec": {
   "display_name": "Python 3 (ipykernel)",
   "language": "python",
   "name": "python3"
  },
  "language_info": {
   "codemirror_mode": {
    "name": "ipython",
    "version": 3
   },
   "file_extension": ".py",
   "mimetype": "text/x-python",
   "name": "python",
   "nbconvert_exporter": "python",
   "pygments_lexer": "ipython3",
   "version": "3.10.3"
  }
 },
 "nbformat": 4,
 "nbformat_minor": 5
}
