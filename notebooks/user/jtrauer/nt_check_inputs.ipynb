{
 "cells": [
  {
   "cell_type": "code",
   "execution_count": null,
   "id": "aadcb631-9b8b-4361-9e13-f8e4f22f02b4",
   "metadata": {},
   "outputs": [],
   "source": [
    "from summer.utils import ref_times_to_dti\n",
    "\n",
    "from autumn.settings.constants import COVID_BASE_DATETIME\n",
    "from autumn.core.utils.display import pretty_print\n",
    "from autumn.core.project import get_project"
   ]
  },
  {
   "cell_type": "code",
   "execution_count": null,
   "id": "8f144ba5-55eb-425d-9e79-f10da50ed07f",
   "metadata": {},
   "outputs": [],
   "source": [
    "from autumn.projects.sm_sir.australia.northern_territory import project"
   ]
  },
  {
   "cell_type": "code",
   "execution_count": null,
   "id": "8076b0e7-e23a-473a-802f-d1c220570a17",
   "metadata": {},
   "outputs": [],
   "source": [
    "def convert_ts_index_to_date(ts):\n",
    "    ts.index = ref_times_to_dti(COVID_BASE_DATETIME, ts.index)\n",
    "    return ts"
   ]
  },
  {
   "cell_type": "code",
   "execution_count": null,
   "id": "78cb2cf0-32dd-4261-b45f-a847e898d81b",
   "metadata": {},
   "outputs": [],
   "source": [
    "region = \"northern_territory\"\n",
    "p = get_project(\"sm_sir\", region, reload=True)\n",
    "baseline_params = p.param_set.baseline\n",
    "pretty_print(baseline_params)"
   ]
  },
  {
   "cell_type": "code",
   "execution_count": null,
   "id": "c2c620a3-102c-479c-a680-aff17ea5b132",
   "metadata": {},
   "outputs": [],
   "source": [
    "ts_sets = project.ts_set\n",
    "ts_set_dates = {k: convert_ts_index_to_date(v) for k, v in ts_sets.items()}"
   ]
  },
  {
   "cell_type": "code",
   "execution_count": null,
   "id": "b146545c-d373-4fbd-889e-00550600a13d",
   "metadata": {},
   "outputs": [],
   "source": [
    "ts_sets[\"notifications\"].plot()"
   ]
  }
 ],
 "metadata": {
  "kernelspec": {
   "display_name": "Python 3 (ipykernel)",
   "language": "python",
   "name": "python3"
  },
  "language_info": {
   "codemirror_mode": {
    "name": "ipython",
    "version": 3
   },
   "file_extension": ".py",
   "mimetype": "text/x-python",
   "name": "python",
   "nbconvert_exporter": "python",
   "pygments_lexer": "ipython3",
   "version": "3.10.3"
  }
 },
 "nbformat": 4,
 "nbformat_minor": 5
}
