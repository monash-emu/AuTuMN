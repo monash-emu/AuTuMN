{
 "cells": [
  {
   "cell_type": "code",
   "execution_count": null,
   "id": "aadcb631-9b8b-4361-9e13-f8e4f22f02b4",
   "metadata": {},
   "outputs": [],
   "source": [
    "import pandas as pd\n",
    "import plotly.express as px\n",
    "\n",
    "from autumn.core import inputs\n",
    "from autumn.settings.constants import COVID_BASE_DATETIME\n",
    "from autumn.core.utils.display import pretty_print\n",
    "from autumn.core.project import get_project\n",
    "from autumn.projects.sm_sir.australia.northern_territory.project import get_ts_date_indexes\n",
    "from autumn.core.inputs.social_mixing.build_synthetic_matrices import build_synthetic_matrices"
   ]
  },
  {
   "cell_type": "code",
   "execution_count": null,
   "id": "4827e108-601c-4e86-804d-63791f9dc7be",
   "metadata": {},
   "outputs": [],
   "source": [
    "pd.options.plotting.backend = \"plotly\""
   ]
  },
  {
   "cell_type": "code",
   "execution_count": null,
   "id": "78cb2cf0-32dd-4261-b45f-a847e898d81b",
   "metadata": {},
   "outputs": [],
   "source": [
    "region = \"northern_territory\"\n",
    "p = get_project(\"sm_sir\", region, reload=True)\n",
    "baseline_params = p.param_set.baseline"
   ]
  },
  {
   "cell_type": "markdown",
   "id": "c4b987b3-34c8-49ce-bb67-ac6d438d9378",
   "metadata": {},
   "source": [
    "### Population"
   ]
  },
  {
   "cell_type": "code",
   "execution_count": null,
   "id": "92373ca3-7043-4da3-98ea-fc4244f802de",
   "metadata": {},
   "outputs": [],
   "source": [
    "modelled_age_groups = baseline_params[\"age_groups\"]\n",
    "age_pops = pd.Series(\n",
    "    inputs.get_population_by_agegroup(\n",
    "        modelled_age_groups,\n",
    "        baseline_params[\"country\"][\"iso3\"], \n",
    "        baseline_params[\"population\"][\"region\"],\n",
    "        baseline_params[\"population\"][\"year\"],\n",
    "    ),\n",
    "    index=modelled_age_groups\n",
    ")\n",
    "print(f\"Total modelled population is {sum(age_pops) / 1e3} thousand\")\n",
    "print(f\"Modelled age groups are {modelled_age_groups}\")\n",
    "age_pops.plot.bar()"
   ]
  },
  {
   "cell_type": "markdown",
   "id": "580c61f1-31bb-4a40-8719-461f2aec19cd",
   "metadata": {},
   "source": [
    "### Mixing matrix"
   ]
  },
  {
   "cell_type": "code",
   "execution_count": null,
   "id": "0cdc3566-ea3a-4d59-b8cd-4530d2bd7da9",
   "metadata": {},
   "outputs": [],
   "source": [
    "print(f\"Target country: {baseline_params['country']['iso3']}\")\n",
    "print(f\"Target sub-region: {baseline_params['population']['region']}\")\n",
    "print(f\"Proxy country: {baseline_params['ref_mixing_iso3']}\")\n",
    "print(\"Always age-adjusted to target population under current SM-SIR code\")"
   ]
  },
  {
   "cell_type": "code",
   "execution_count": null,
   "id": "8755d24e-f66e-4b1d-9450-02c026277a19",
   "metadata": {},
   "outputs": [],
   "source": [
    "mixing_matrices = build_synthetic_matrices(\n",
    "    baseline_params[\"country\"][\"iso3\"],\n",
    "    baseline_params[\"ref_mixing_iso3\"],\n",
    "    [int(age) for age in modelled_age_groups],\n",
    "    True,\n",
    "    baseline_params[\"population\"][\"region\"],\n",
    ")"
   ]
  },
  {
   "cell_type": "code",
   "execution_count": null,
   "id": "700cf15a-1052-41c4-aa75-55b0d75911c3",
   "metadata": {},
   "outputs": [],
   "source": [
    "px.imshow(mixing_matrices[\"all_locations\"])"
   ]
  },
  {
   "cell_type": "markdown",
   "id": "ed63d337-a27e-40f6-8ede-9acc7e11e5f4",
   "metadata": {},
   "source": [
    "### Calibration targets"
   ]
  },
  {
   "cell_type": "code",
   "execution_count": null,
   "id": "55b887e0-cd15-4496-b2b4-da5fdc7eaaf2",
   "metadata": {},
   "outputs": [],
   "source": [
    "ts_set_dates = get_ts_date_indexes(p.ts_set, COVID_BASE_DATETIME)"
   ]
  },
  {
   "cell_type": "code",
   "execution_count": null,
   "id": "a7a0aeff-5981-47b3-8a62-5d6fff32c73f",
   "metadata": {},
   "outputs": [],
   "source": [
    "ts_set_dates[\"notifications\"].plot()"
   ]
  }
 ],
 "metadata": {
  "kernelspec": {
   "display_name": "Python 3 (ipykernel)",
   "language": "python",
   "name": "python3"
  },
  "language_info": {
   "codemirror_mode": {
    "name": "ipython",
    "version": 3
   },
   "file_extension": ".py",
   "mimetype": "text/x-python",
   "name": "python",
   "nbconvert_exporter": "python",
   "pygments_lexer": "ipython3",
   "version": "3.10.3"
  }
 },
 "nbformat": 4,
 "nbformat_minor": 5
}
