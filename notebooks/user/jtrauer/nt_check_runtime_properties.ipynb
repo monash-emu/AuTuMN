{
 "cells": [
  {
   "cell_type": "code",
   "execution_count": null,
   "id": "84315e55-6830-46e1-ad99-4e45a83ddb28",
   "metadata": {},
   "outputs": [],
   "source": [
    "import pandas as pd\n",
    "\n",
    "from autumn.core import inputs\n",
    "from autumn.core.project import get_project"
   ]
  },
  {
   "cell_type": "code",
   "execution_count": null,
   "id": "94a2337e-8d5f-49b8-9138-5581533e924f",
   "metadata": {},
   "outputs": [],
   "source": [
    "pd.options.plotting.backend = \"plotly\""
   ]
  },
  {
   "cell_type": "code",
   "execution_count": null,
   "id": "cc610ef0-2916-4636-a74a-1875c56bdceb",
   "metadata": {},
   "outputs": [],
   "source": [
    "region = \"northern_territory\"\n",
    "p = get_project(\"sm_sir\", region, reload=True)\n",
    "baseline_params = p.param_set.baseline\n",
    "model = p.run_baseline_model(baseline_params)\n",
    "derived_df = model.get_derived_outputs_df()"
   ]
  },
  {
   "cell_type": "markdown",
   "id": "dbc1ba16-c9f8-48c4-a09f-d35f0d75cfa4",
   "metadata": {},
   "source": [
    "## Check population age/Indigenous distribution\n",
    "Direct from the databases (as should be implemented in the model)"
   ]
  },
  {
   "cell_type": "code",
   "execution_count": null,
   "id": "199c348c-11b2-4c38-a4ce-760628a68957",
   "metadata": {},
   "outputs": [],
   "source": [
    "age_groups = model._stratifications[0].strata\n",
    "iso3 = baseline_params[\"country\"][\"iso3\"]\n",
    "region = baseline_params[\"population\"][\"region\"]\n",
    "year = baseline_params[\"population\"][\"year\"]\n",
    "age_pops = pd.Series(\n",
    "    inputs.get_population_by_agegroup(age_groups, iso3, region, year),\n",
    "    index=age_groups,\n",
    ")\n",
    "indigenous_age_pops = pd.Series(\n",
    "    inputs.get_population_by_agegroup(age_groups, iso3, \"NT_ABORIGINAL\", year),\n",
    "    index=age_groups,\n",
    ")\n",
    "non_indigenous_age_pops = age_pops - indigenous_age_pops"
   ]
  },
  {
   "cell_type": "code",
   "execution_count": null,
   "id": "26939ef0-2ad6-4b41-91e7-0523766d5eed",
   "metadata": {},
   "outputs": [],
   "source": [
    "pd.DataFrame({\n",
    "    \"indigenous\": indigenous_age_pops,\n",
    "    \"non_indigenous\": non_indigenous_age_pops,\n",
    "}).plot()"
   ]
  },
  {
   "cell_type": "markdown",
   "id": "85c4c30c-73ba-44a9-86cc-d9eaa3e00aac",
   "metadata": {},
   "source": [
    "Using the model's susceptible compartment itself (typically nearly all the starting population)"
   ]
  },
  {
   "cell_type": "code",
   "execution_count": null,
   "id": "b502caf0-a6ae-47a8-a3f3-158a1f5b1d1d",
   "metadata": {},
   "outputs": [],
   "source": [
    "age_pops = {}\n",
    "for status in [\"indigenous\", \"non_indigenous\"]:\n",
    "    age_pops[status] = {}\n",
    "    for agegroup in age_groups:\n",
    "        age_pops[status][agegroup] = model.initial_population[\n",
    "            [c.idx for c in model.get_matching_compartments(\"susceptible\", {\"indigenous\": status, \"agegroup\": agegroup})]\n",
    "        ].sum()\n",
    "pd.DataFrame(age_pops).plot()"
   ]
  },
  {
   "cell_type": "code",
   "execution_count": null,
   "id": "9bae8a58-f165-4e89-8b67-44425177ce04",
   "metadata": {},
   "outputs": [],
   "source": [
    "derived_df[\"cdr\"].plot()"
   ]
  },
  {
   "cell_type": "code",
   "execution_count": null,
   "id": "3daf990d-c44b-47a5-9665-eed4dcc69b6e",
   "metadata": {},
   "outputs": [],
   "source": [
    "def get_strata(model, strat_name):\n",
    "    for strat in model._stratifications:\n",
    "        if strat_name == strat.name:\n",
    "            return strat.strata"
   ]
  },
  {
   "cell_type": "code",
   "execution_count": null,
   "id": "1fa89f86-9326-42fa-b5eb-b2839cd4fafd",
   "metadata": {},
   "outputs": [],
   "source": [
    "derived_df[[f\"prop_immune_{stratum}\" for stratum in get_strata(model, \"immunity\")]].plot.area()"
   ]
  },
  {
   "cell_type": "code",
   "execution_count": null,
   "id": "d28c0daf-0737-48dd-8d8a-56d8ae236cbd",
   "metadata": {},
   "outputs": [],
   "source": [
    "# Just working out what date is 1st Feb 2023\n",
    "from summer.utils import ref_times_to_dti\n",
    "from autumn.settings import COVID_BASE_DATETIME\n",
    "\n",
    "ref_times_to_dti(COVID_BASE_DATETIME, [1128])"
   ]
  }
 ],
 "metadata": {
  "kernelspec": {
   "display_name": "Python 3 (ipykernel)",
   "language": "python",
   "name": "python3"
  },
  "language_info": {
   "codemirror_mode": {
    "name": "ipython",
    "version": 3
   },
   "file_extension": ".py",
   "mimetype": "text/x-python",
   "name": "python",
   "nbconvert_exporter": "python",
   "pygments_lexer": "ipython3",
   "version": "3.10.4"
  }
 },
 "nbformat": 4,
 "nbformat_minor": 5
}
