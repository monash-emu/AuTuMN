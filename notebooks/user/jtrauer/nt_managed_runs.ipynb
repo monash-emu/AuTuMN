{
 "cells": [
  {
   "cell_type": "code",
   "execution_count": null,
   "id": "959d55f3-b3bc-4032-97f6-dfb586f93f42",
   "metadata": {},
   "outputs": [],
   "source": [
    "from matplotlib import pyplot as plt\n",
    "import os\n",
    "import datetime\n",
    "\n",
    "from summer.utils import ref_times_to_dti\n",
    "\n",
    "from autumn.settings.constants import COVID_BASE_DATETIME\n",
    "from autumn.core.runs import ManagedRun\n",
    "from autumn.core.project import get_project, load_timeseries"
   ]
  },
  {
   "cell_type": "code",
   "execution_count": null,
   "id": "6be1fd68-c002-4427-aaec-170d59649adc",
   "metadata": {},
   "outputs": [],
   "source": [
    "region = \"northern_territory\""
   ]
  },
  {
   "cell_type": "code",
   "execution_count": null,
   "id": "358325de-7ef2-4933-87fd-635e418bc742",
   "metadata": {},
   "outputs": [],
   "source": [
    "run_id = \"sm_sir/northern_territory/1661084841/49c4217\""
   ]
  },
  {
   "cell_type": "code",
   "execution_count": null,
   "id": "f6a0fcc6-e523-4b97-85c9-5f6974382168",
   "metadata": {},
   "outputs": [],
   "source": [
    "mr = ManagedRun(run_id)"
   ]
  },
  {
   "cell_type": "code",
   "execution_count": null,
   "id": "3270a7f7-a111-4513-a935-53d47479c176",
   "metadata": {},
   "outputs": [],
   "source": [
    "pbi = mr.powerbi.get_db()\n",
    "targets = pbi.get_targets()\n",
    "results = pbi.get_uncertainty()\n",
    "mcmc_params = mr.calibration.get_mcmc_params()"
   ]
  },
  {
   "cell_type": "markdown",
   "id": "9f3361d2-e1fb-4022-9d1f-9747f37d2f73",
   "metadata": {},
   "source": [
    "## Calibration parameters are:"
   ]
  },
  {
   "cell_type": "code",
   "execution_count": null,
   "id": "99922ec1-1dfb-4e45-845d-518a20d6e778",
   "metadata": {},
   "outputs": [],
   "source": [
    "list(mcmc_params.columns)"
   ]
  },
  {
   "cell_type": "code",
   "execution_count": null,
   "id": "01bb69d1-3904-447d-8669-0f190b77841f",
   "metadata": {},
   "outputs": [],
   "source": [
    "plt.style.use(\"ggplot\")\n",
    "\n",
    "param_lookup = {\n",
    "    \"contact_rate\": \"infection risk per contact\",\n",
    "    \"voc_emergence.ba_1.cross_protection.ba_2.early_reinfection\": \"BA.1 protection against BA.2\",\n",
    "}\n",
    "\n",
    "unit_lookup = {\n",
    "    \"contact_rate\": \"probability\",\n",
    "    \"voc_emergence.ba_1.cross_protection.ba_2.early_reinfection\": \"multiplier\",\n",
    "}\n",
    "\n",
    "fig, axes = plt.subplots(1, 2, figsize=(10, 5))\n",
    "for i_ax, axis in enumerate(axes.reshape(-1)):\n",
    "    if i_ax < 5:\n",
    "        param = mcmc_params.columns[i_ax]\n",
    "        axis.hist(mcmc_params[param])\n",
    "        axis.set_title(param_lookup[param])\n",
    "        axis.set_xlabel(unit_lookup[param])\n",
    "    if i_ax == 5:\n",
    "        axis.set_axis_off()\n",
    "\n",
    "fig.suptitle(\"parameter posterior histograms\", fontsize=15, y=1)\n",
    "fig.tight_layout()"
   ]
  },
  {
   "cell_type": "markdown",
   "id": "7ba1ceaf-07c0-43bb-b272-d6b9022a8381",
   "metadata": {},
   "source": [
    "## Available model outputs are:"
   ]
  },
  {
   "cell_type": "code",
   "execution_count": null,
   "id": "bfd2f7bd-3d8d-4f10-9510-66f757743ed6",
   "metadata": {},
   "outputs": [],
   "source": [
    "project = get_project(\"sm_sir\", region, reload=True)"
   ]
  },
  {
   "cell_type": "markdown",
   "id": "844b8998-972f-406c-b782-75bec52e8015",
   "metadata": {},
   "source": [
    "### Get all targets, including those not used in calibration, to use as a validation"
   ]
  },
  {
   "cell_type": "code",
   "execution_count": null,
   "id": "e4936706-1ccc-4720-ac12-eb228889c1d7",
   "metadata": {},
   "outputs": [],
   "source": [
    "project_root = os.path.abspath(os.path.join(os.getcwd(), \"..\", \"..\", \"..\"))\n",
    "model, country, run, commit = run_id.split(\"/\")\n",
    "project_file_path = os.path.join(project_root, \"autumn\", \"projects\", model, \"australia\", country, \"timeseries.secret.json\")\n",
    "all_targets = load_timeseries(project_file_path)\n",
    "for target in all_targets:\n",
    "    all_targets[target].index = ref_times_to_dti(COVID_BASE_DATETIME, all_targets[target].index)"
   ]
  },
  {
   "cell_type": "code",
   "execution_count": null,
   "id": "d41805c2-6f76-4a69-9dd8-99d904f3814d",
   "metadata": {},
   "outputs": [],
   "source": [
    "colours = (\n",
    "    (0.2, 0.2, 0.8), \n",
    "    (0.2, 0.8, 0.2), \n",
    "    (0.8, 0.2, 0.2), \n",
    "    (0.8, 0.8, 0.2), \n",
    "    (0.8, 0.2, 0.8), \n",
    "    (0.2, 0.8, 0.8), \n",
    "    (0.8, 0.8, 0.8),\n",
    ")\n",
    "title_lookup = {\n",
    "    \"notifications\": \"daily notifications\",\n",
    "    \"infection_deaths\": \"COVID-19-specific deaths\",\n",
    "    \"hospital_admissions\": \"new daily hospital admissions\",\n",
    "    \"icu_admissions\": \"new daily admissions to ICU\",\n",
    "    \"proportion_seropositive\": \"proportion recovered from COVID-19\",\n",
    "    \"incidence\": \"daily new infections\",\n",
    "    \"prop_incidence_strain_delta\": \"proportion of cases due to Delta\",\n",
    "    \"hospital_admissions\": \"daily hospital admissions\",\n",
    "    \"hospital_occupancy\": \"total hospital beds\",\n",
    "    \"icu_admissions\": \"daily ICU admissions\",\n",
    "    \"icu_occupancy\": \"total ICU beds\",\n",
    "    \"prop_ever_infected\": \"ever infected with Delta or Omicron\",\n",
    "}"
   ]
  },
  {
   "cell_type": "code",
   "execution_count": null,
   "id": "666271e7-8b57-456b-81db-44d5347235fd",
   "metadata": {},
   "outputs": [],
   "source": [
    "def plot_outputs(outputs, left_date, right_date):\n",
    "    fig, axes = plt.subplots(1, 2, figsize=(12, 5), sharex=\"all\")\n",
    "    for i_ax, axis in enumerate(axes.reshape(-1)):\n",
    "        output = outputs[i_ax]\n",
    "        for scenario in range(3):\n",
    "            colour = colours[scenario]\n",
    "            results_df = results[(output, scenario)]\n",
    "            indices = results_df.index\n",
    "            interval_label = \"baseline\" if scenario == 0 else project.param_set.scenarios[scenario - 1][\"description\"]\n",
    "            scenario_zorder = 10 if scenario == 0 else scenario\n",
    "            axis.fill_between(\n",
    "                indices, \n",
    "                results_df[0.025], results_df[0.975], \n",
    "                color=colour, \n",
    "                alpha=0.5,\n",
    "                label=\"_nolegend_\",\n",
    "                zorder=scenario_zorder,\n",
    "            )\n",
    "            axis.fill_between(\n",
    "                indices, \n",
    "                results_df[0.25], results_df[0.75], \n",
    "                color=colour, alpha=0.7, \n",
    "                label=interval_label,\n",
    "                zorder=scenario_zorder\n",
    "            )\n",
    "            axis.plot(indices, results_df[0.500], color=colour)\n",
    "            if output in all_targets and len(all_targets[output]) > 0:\n",
    "                all_targets[output].plot.line(\n",
    "                    ax=axis, \n",
    "                    linewidth=0., \n",
    "                    markersize=8.,\n",
    "                    marker=\"o\",\n",
    "                    markerfacecolor=\"w\",\n",
    "                    markeredgecolor=\"w\",\n",
    "                    alpha=0.2,\n",
    "                    label=\"_nolegend_\",\n",
    "                    zorder=11,\n",
    "                )\n",
    "            if output in targets:\n",
    "                targets[output].plot.line(\n",
    "                    ax=axis, \n",
    "                    linewidth=0., \n",
    "                    markersize=5., \n",
    "                    marker=\"o\", \n",
    "                    markerfacecolor=\"k\",\n",
    "                    markeredgecolor=\"k\",\n",
    "                    label=\"_nolegend_\",\n",
    "                    zorder=12,\n",
    "                )\n",
    "            axis.tick_params(axis=\"x\", labelrotation=45)\n",
    "            axis.set_xlim(\n",
    "                left=left_date, \n",
    "                right=right_date\n",
    "            )\n",
    "            axis.set_title(title_lookup[output])\n",
    "        if i_ax == 0:\n",
    "            axis.legend()\n",
    "    fig.tight_layout()"
   ]
  },
  {
   "cell_type": "code",
   "execution_count": null,
   "id": "0763d1b3-e5b1-45d7-8b59-09165c2538f9",
   "metadata": {},
   "outputs": [],
   "source": [
    "outputs_to_plot = (\n",
    "    \"notifications\", \n",
    "    \"infection_deaths\",\n",
    "    \"hospital_admissions\",\n",
    "    \"icu_occupancy\",\n",
    ")\n",
    "plot_outputs(\n",
    "    outputs_to_plot, \n",
    "    datetime.date(2021, 12, 1),\n",
    "    datetime.date(2022, 7, 1),\n",
    ")"
   ]
  }
 ],
 "metadata": {
  "kernelspec": {
   "display_name": "Python 3 (ipykernel)",
   "language": "python",
   "name": "python3"
  },
  "language_info": {
   "codemirror_mode": {
    "name": "ipython",
    "version": 3
   },
   "file_extension": ".py",
   "mimetype": "text/x-python",
   "name": "python",
   "nbconvert_exporter": "python",
   "pygments_lexer": "ipython3",
   "version": "3.10.3"
  }
 },
 "nbformat": 4,
 "nbformat_minor": 5
}
