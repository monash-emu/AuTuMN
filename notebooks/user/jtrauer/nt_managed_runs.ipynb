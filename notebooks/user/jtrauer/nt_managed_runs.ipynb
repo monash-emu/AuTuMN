{
 "cells": [
  {
   "cell_type": "code",
   "execution_count": null,
   "id": "959d55f3-b3bc-4032-97f6-dfb586f93f42",
   "metadata": {},
   "outputs": [],
   "source": [
    "from matplotlib import pyplot as plt\n",
    "import os\n",
    "import datetime\n",
    "from math import ceil\n",
    "\n",
    "from summer.utils import ref_times_to_dti\n",
    "\n",
    "from autumn.settings.constants import COVID_BASE_DATETIME\n",
    "from autumn.core.runs import ManagedRun\n",
    "from autumn.core.project import get_project, load_timeseries"
   ]
  },
  {
   "cell_type": "code",
   "execution_count": null,
   "id": "6be1fd68-c002-4427-aaec-170d59649adc",
   "metadata": {},
   "outputs": [],
   "source": [
    "region = \"northern_territory\""
   ]
  },
  {
   "cell_type": "code",
   "execution_count": null,
   "id": "358325de-7ef2-4933-87fd-635e418bc742",
   "metadata": {},
   "outputs": [],
   "source": [
    "run_id = \"sm_sir/northern_territory/1661221665/4c459e0\""
   ]
  },
  {
   "cell_type": "code",
   "execution_count": null,
   "id": "f6a0fcc6-e523-4b97-85c9-5f6974382168",
   "metadata": {},
   "outputs": [],
   "source": [
    "mr = ManagedRun(run_id)"
   ]
  },
  {
   "cell_type": "code",
   "execution_count": null,
   "id": "3270a7f7-a111-4513-a935-53d47479c176",
   "metadata": {},
   "outputs": [],
   "source": [
    "pbi = mr.powerbi.get_db()\n",
    "targets = pbi.get_targets()\n",
    "results = pbi.get_uncertainty()\n",
    "mcmc_params = mr.calibration.get_mcmc_params()\n",
    "n_params = mcmc_params.shape[1]\n",
    "mcmc_runs = mr.calibration.get_mcmc_runs()\n",
    "chains = mcmc_runs.chain.unique()\n",
    "mcmc_table = mcmc_params.merge(mcmc_runs, on=[\"urun\"])\n",
    "full_run = mr.full_run.get_derived_outputs()"
   ]
  },
  {
   "cell_type": "markdown",
   "id": "9f3361d2-e1fb-4022-9d1f-9747f37d2f73",
   "metadata": {},
   "source": [
    "## Calibration parameters are:"
   ]
  },
  {
   "cell_type": "code",
   "execution_count": null,
   "id": "99922ec1-1dfb-4e45-845d-518a20d6e778",
   "metadata": {},
   "outputs": [],
   "source": [
    "params_list = list(mcmc_params.columns)\n",
    "params_list"
   ]
  },
  {
   "cell_type": "code",
   "execution_count": null,
   "id": "01bb69d1-3904-447d-8669-0f190b77841f",
   "metadata": {},
   "outputs": [],
   "source": [
    "plt.style.use(\"ggplot\")\n",
    "\n",
    "burn_in = 500  # This needs to be confirmed over BuildKite\n",
    "burnt_mcmc_params = mcmc_params[[int(i.split(\"_\")[1]) > burn_in for i in mcmc_params.index]]\n",
    "\n",
    "param_lookup = {\n",
    "    \"contact_rate\": \"infection risk per contact\",\n",
    "    \"voc_emergence.ba_1.cross_protection.ba_2.early_reinfection\": \"BA.1 protection against BA.2\",\n",
    "    \"voc_emergence.ba_2.cross_protection.ba_5.early_reinfection\": \"BA.2 protection against BA.5\",\n",
    "    \"detect_prop\": \"detection of symptomatic cases\",\n",
    "    \"sojourns.latent.total_time\": \"infection latent period\",\n",
    "}\n",
    "\n",
    "unit_lookup = {\n",
    "    \"contact_rate\": \"probability\",\n",
    "    \"voc_emergence.ba_1.cross_protection.ba_2.early_reinfection\": \"multiplier\",\n",
    "    \"voc_emergence.ba_2.cross_protection.ba_5.early_reinfection\": \"multiplier\",\n",
    "    \"detect_prop\": \"proportion\",\n",
    "    \"sojourns.latent.total_time\": \"days\",\n",
    "}\n",
    "\n",
    "fig, axes = plt.subplots(3, 2, figsize=(10, 12))\n",
    "for i_ax, axis in enumerate(axes.reshape(-1)):\n",
    "    if i_ax < 5:\n",
    "        param = mcmc_params.columns[i_ax]\n",
    "        axis.hist(burnt_mcmc_params[param])\n",
    "        axis.set_title(param_lookup[param])\n",
    "        axis.set_xlabel(unit_lookup[param])\n",
    "    if i_ax == 5:\n",
    "        axis.set_axis_off()\n",
    "\n",
    "fig.suptitle(\"parameter posterior histograms\", fontsize=15, y=1)\n",
    "fig.tight_layout()"
   ]
  },
  {
   "cell_type": "code",
   "execution_count": null,
   "id": "9adb35c2-a78a-4bf7-a47d-10bfb3ca81c5",
   "metadata": {},
   "outputs": [],
   "source": [
    "n_col = 2\n",
    "n_row = ceil(n_params / n_col)\n",
    "fig, axes = plt.subplots(n_row, n_col, figsize=(8*n_col, 4*n_row))\n",
    "\n",
    "for i_ax, axis in enumerate(axes.reshape(-1)):\n",
    "    if i_ax >= n_params:\n",
    "        axis.set_visible(False)\n",
    "    else:\n",
    "        param = params_list[i_ax]    \n",
    "        for chain in chains:\n",
    "            chain_filter = mcmc_table[\"chain\"] == chain\n",
    "            axis.plot(mcmc_table[chain_filter]['run'], mcmc_table[chain_filter][param], lw=.5)\n",
    "        ymin, ymax = axis.get_ylim()\n",
    "        axis.vlines(x=[burn_in], ymin=ymin, ymax=ymax, color=\"k\", alpha=0.8, ls=\"--\")\n",
    "        par_name = param if param not in param_lookup else param_lookup[param]\n",
    "        axis.set_title(par_name)"
   ]
  },
  {
   "cell_type": "markdown",
   "id": "7ba1ceaf-07c0-43bb-b272-d6b9022a8381",
   "metadata": {},
   "source": [
    "## Available model outputs are:"
   ]
  },
  {
   "cell_type": "code",
   "execution_count": null,
   "id": "bfd2f7bd-3d8d-4f10-9510-66f757743ed6",
   "metadata": {},
   "outputs": [],
   "source": [
    "project = get_project(\"sm_sir\", region, reload=True)"
   ]
  },
  {
   "cell_type": "markdown",
   "id": "844b8998-972f-406c-b782-75bec52e8015",
   "metadata": {},
   "source": [
    "### Get all targets, including those not used in calibration, to use as a validation"
   ]
  },
  {
   "cell_type": "code",
   "execution_count": null,
   "id": "e4936706-1ccc-4720-ac12-eb228889c1d7",
   "metadata": {},
   "outputs": [],
   "source": [
    "project_root = os.path.abspath(os.path.join(os.getcwd(), \"..\", \"..\", \"..\"))\n",
    "model, country, run, commit = run_id.split(\"/\")\n",
    "project_file_path = os.path.join(project_root, \"autumn\", \"projects\", model, \"australia\", country, \"timeseries.secret.json\")\n",
    "all_targets = load_timeseries(project_file_path)\n",
    "for target in all_targets:\n",
    "    all_targets[target].index = ref_times_to_dti(COVID_BASE_DATETIME, all_targets[target].index)"
   ]
  },
  {
   "cell_type": "code",
   "execution_count": null,
   "id": "d41805c2-6f76-4a69-9dd8-99d904f3814d",
   "metadata": {},
   "outputs": [],
   "source": [
    "colours = (\n",
    "    (0.2, 0.2, 0.8), \n",
    "    (0.2, 0.8, 0.2), \n",
    "    (0.8, 0.2, 0.2), \n",
    "    (0.8, 0.8, 0.2), \n",
    "    (0.8, 0.2, 0.8), \n",
    "    (0.2, 0.8, 0.8), \n",
    "    (0.8, 0.8, 0.8),\n",
    ")\n",
    "title_lookup = {\n",
    "    \"notifications\": \"daily notifications\",\n",
    "    \"infection_deaths\": \"COVID-19-specific deaths\",\n",
    "    \"hospital_admissions\": \"new daily hospital admissions\",\n",
    "    \"icu_admissions\": \"new daily admissions to ICU\",\n",
    "    \"proportion_seropositive\": \"proportion recovered from COVID-19\",\n",
    "    \"incidence\": \"daily new infections\",\n",
    "    \"prop_incidence_strain_delta\": \"proportion of cases due to Delta\",\n",
    "    \"hospital_admissions\": \"daily hospital admissions\",\n",
    "    \"hospital_occupancy\": \"total hospital beds\",\n",
    "    \"icu_admissions\": \"daily ICU admissions\",\n",
    "    \"icu_occupancy\": \"total ICU beds\",\n",
    "    \"prop_ever_infected\": \"ever infected with Delta or Omicron\",\n",
    "    \"cumulative_infection_deaths\": \"cumulative COVID-19 deaths\",\n",
    "    \"cumulative_hospital_admissions\": \"cumulative hospital admissions\",\n",
    "}"
   ]
  },
  {
   "cell_type": "code",
   "execution_count": null,
   "id": "ce40f31d-9cdb-4860-9d0a-326e81db61c2",
   "metadata": {},
   "outputs": [],
   "source": [
    "from datetime import timedelta\n",
    "something = results.index + timedelta(days=187)\n",
    "something"
   ]
  },
  {
   "cell_type": "code",
   "execution_count": null,
   "id": "666271e7-8b57-456b-81db-44d5347235fd",
   "metadata": {},
   "outputs": [],
   "source": [
    "def plot_outputs(outputs, left_date, right_date, scenarios, scenario_2_shift=0):\n",
    "    fig, axes = plt.subplots(1, 2, figsize=(12, 4.5), sharex=\"all\")\n",
    "    for i_ax, axis in enumerate(axes.reshape(-1)):\n",
    "        output = outputs[i_ax]\n",
    "        for scenario in scenarios:\n",
    "            colour = colours[scenario]\n",
    "            results_df = results[(output, scenario)]\n",
    "            \n",
    "            if scenario == 2:\n",
    "                results_df.index += timedelta(days=scenario_2_shift)\n",
    "            \n",
    "            indices = results_df.index\n",
    "            interval_label = \"baseline\" if scenario == 0 else project.param_set.scenarios[scenario - 1][\"description\"]\n",
    "            scenario_zorder = 10 if scenario == 0 else scenario\n",
    "            axis.fill_between(\n",
    "                indices, \n",
    "                results_df[0.025], results_df[0.975], \n",
    "                color=colour, \n",
    "                alpha=0.5,\n",
    "                label=\"_nolegend_\",\n",
    "                zorder=scenario_zorder,\n",
    "            )\n",
    "            axis.fill_between(\n",
    "                indices, \n",
    "                results_df[0.25], results_df[0.75], \n",
    "                color=colour, alpha=0.7, \n",
    "                label=interval_label,\n",
    "                zorder=scenario_zorder\n",
    "            )\n",
    "            axis.plot(indices, results_df[0.500], color=colour)\n",
    "            if output in all_targets and len(all_targets[output]) > 0:\n",
    "                all_targets[output].plot.line(\n",
    "                    ax=axis, \n",
    "                    linewidth=0., \n",
    "                    markersize=8.,\n",
    "                    marker=\"o\",\n",
    "                    markerfacecolor=\"w\",\n",
    "                    markeredgecolor=\"w\",\n",
    "                    alpha=0.4,\n",
    "                    label=\"_nolegend_\",\n",
    "                    zorder=11,\n",
    "                )\n",
    "            if output in targets:\n",
    "                targets[output].plot.line(\n",
    "                    ax=axis, \n",
    "                    linewidth=0., \n",
    "                    markersize=5., \n",
    "                    marker=\"o\", \n",
    "                    markerfacecolor=\"k\",\n",
    "                    markeredgecolor=\"k\",\n",
    "                    label=\"_nolegend_\",\n",
    "                    zorder=12,\n",
    "                )\n",
    "            axis.tick_params(axis=\"x\", labelrotation=45)\n",
    "            axis.set_xlim(\n",
    "                left=left_date, \n",
    "                right=right_date\n",
    "            )\n",
    "            axis.set_title(title_lookup[output])\n",
    "        if i_ax == 0:\n",
    "            axis.legend()\n",
    "    fig.tight_layout()"
   ]
  },
  {
   "cell_type": "code",
   "execution_count": null,
   "id": "f8cbec08-0360-4828-83af-ba49e7375bec",
   "metadata": {},
   "outputs": [],
   "source": [
    "print(f\"Available indicators with uncertainty are are: {set([i[0] for i in results.columns])}\")"
   ]
  },
  {
   "cell_type": "code",
   "execution_count": null,
   "id": "e561d5c3-0b3a-4975-990f-4637bb1232ce",
   "metadata": {},
   "outputs": [],
   "source": [
    "results.to_csv(\"nt_results.csv\")"
   ]
  },
  {
   "cell_type": "code",
   "execution_count": null,
   "id": "0763d1b3-e5b1-45d7-8b59-09165c2538f9",
   "metadata": {},
   "outputs": [],
   "source": [
    "scenarios = [0, 1, 2]\n",
    "outputs_to_plot = (\n",
    "    \"hospital_admissions\", \n",
    "    \"icu_admissions\",\n",
    ")\n",
    "start_plot_time = datetime.date(2021, 6, 1)\n",
    "end_plot_time = datetime.date(2022, 9, 1)\n",
    "plot_outputs(\n",
    "    outputs_to_plot, \n",
    "    start_plot_time,\n",
    "    end_plot_time,\n",
    "    scenarios=scenarios,\n",
    "    scenario_2_shift=-187.,\n",
    ")"
   ]
  },
  {
   "cell_type": "code",
   "execution_count": null,
   "id": "dfdbec2a-5e1d-4c5d-9468-b1c2a9942af2",
   "metadata": {},
   "outputs": [],
   "source": [
    "all_targets = load_timeseries(os.path.join(project.get_path(), \"timeseries.secret.json\"))\n",
    "for target in all_targets:\n",
    "    all_targets[target].index = ref_times_to_dti(COVID_BASE_DATETIME, all_targets[target].index)"
   ]
  },
  {
   "cell_type": "code",
   "execution_count": null,
   "id": "b12dffae-7929-4912-8863-7bd58711962c",
   "metadata": {},
   "outputs": [],
   "source": [
    "outputs_for_full_run_plots = (\n",
    "    \"notifications\",\n",
    "    \"hospital_admissions\",\n",
    "    \"icu_admissions\",\n",
    "    \"infection_deaths\",\n",
    ")\n",
    "\n",
    "n_outputs = len(outputs_for_full_run_plots)\n",
    "n_col = 2\n",
    "n_row = ceil(n_outputs / n_col)\n",
    "fig, axes = plt.subplots(n_row, n_col, figsize=(n_col * 8, n_row * 6), sharex=\"all\")\n",
    "for i_ax, axis in enumerate(axes.reshape(-1)):\n",
    "    if i_ax >= n_outputs:\n",
    "            axis.set_visible(False)\n",
    "    else:\n",
    "        output = outputs_for_full_run_plots[i_ax]\n",
    "        scenario_chain = (full_run[\"scenario\"] == 0) & (full_run[\"chain\"] == 1)\n",
    "        for i_run in full_run[scenario_chain][\"run\"].unique():\n",
    "            selection = full_run[(full_run[\"run\"] == i_run) & scenario_chain]\n",
    "            axis.plot(ref_times_to_dti(COVID_BASE_DATETIME, selection[\"times\"]), selection[output])\n",
    "        if output in all_targets and len(all_targets[output]) > 0:\n",
    "            all_targets[output].plot.line(ax=axis, linewidth=0., markersize=8., marker=\"o\", color=\"w\", alpha=0.4)\n",
    "            axis.scatter(all_targets[output].index, all_targets[output], color=\"w\", s=5, alpha=0.4, zorder=10)\n",
    "        if output in targets:\n",
    "            axis.scatter(targets.index, targets[output], facecolors=\"k\", edgecolors=\"k\", s=15, zorder=10)\n",
    "        axis.tick_params(axis=\"x\", labelrotation=45)\n",
    "        \n",
    "        title = output if output not in title_lookup else title_lookup[output]\n",
    "        axis.set_title(title)\n",
    "        axis.set_xlim(\n",
    "            left=datetime.datetime(2021, 12, 15),\n",
    "            right=datetime.datetime(2022, 9, 1),\n",
    "        )"
   ]
  }
 ],
 "metadata": {
  "kernelspec": {
   "display_name": "Python 3 (ipykernel)",
   "language": "python",
   "name": "python3"
  },
  "language_info": {
   "codemirror_mode": {
    "name": "ipython",
    "version": 3
   },
   "file_extension": ".py",
   "mimetype": "text/x-python",
   "name": "python",
   "nbconvert_exporter": "python",
   "pygments_lexer": "ipython3",
   "version": "3.10.4"
  }
 },
 "nbformat": 4,
 "nbformat_minor": 5
}
