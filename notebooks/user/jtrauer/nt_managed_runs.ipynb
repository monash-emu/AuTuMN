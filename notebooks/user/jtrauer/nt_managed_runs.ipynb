{
 "cells": [
  {
   "cell_type": "code",
   "execution_count": null,
   "id": "959d55f3-b3bc-4032-97f6-dfb586f93f42",
   "metadata": {},
   "outputs": [],
   "source": [
    "from autumn.core.runs import ManagedRun"
   ]
  },
  {
   "cell_type": "code",
   "execution_count": null,
   "id": "6be1fd68-c002-4427-aaec-170d59649adc",
   "metadata": {},
   "outputs": [],
   "source": [
    "region = \"northern_territory\""
   ]
  },
  {
   "cell_type": "code",
   "execution_count": null,
   "id": "358325de-7ef2-4933-87fd-635e418bc742",
   "metadata": {},
   "outputs": [],
   "source": [
    "run_id = \"sm_sir/northern_territory/1661081125/2f04228\""
   ]
  },
  {
   "cell_type": "code",
   "execution_count": null,
   "id": "f6a0fcc6-e523-4b97-85c9-5f6974382168",
   "metadata": {},
   "outputs": [],
   "source": [
    "mr = ManagedRun(run_id)"
   ]
  },
  {
   "cell_type": "code",
   "execution_count": null,
   "id": "3270a7f7-a111-4513-a935-53d47479c176",
   "metadata": {},
   "outputs": [],
   "source": [
    "pbi = mr.powerbi.get_db()"
   ]
  }
 ],
 "metadata": {
  "kernelspec": {
   "display_name": "Python 3 (ipykernel)",
   "language": "python",
   "name": "python3"
  },
  "language_info": {
   "codemirror_mode": {
    "name": "ipython",
    "version": 3
   },
   "file_extension": ".py",
   "mimetype": "text/x-python",
   "name": "python",
   "nbconvert_exporter": "python",
   "pygments_lexer": "ipython3",
   "version": "3.10.4"
  }
 },
 "nbformat": 4,
 "nbformat_minor": 5
}
