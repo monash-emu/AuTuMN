{
 "cells": [
  {
   "cell_type": "code",
   "execution_count": null,
   "id": "239a3833-9dfc-45c7-aa50-11e7ddb3472f",
   "metadata": {},
   "outputs": [],
   "source": [
    "import pandas as pd\n",
    "\n",
    "from summer.utils import ref_times_to_dti\n",
    "\n",
    "from autumn.core import inputs\n",
    "from autumn.core.utils.display import pretty_print\n",
    "from autumn.settings.constants import COVID_BASE_DATETIME\n",
    "from autumn.core.project import get_project\n",
    "from autumn.projects.sm_sir.australia.northern_territory.project import get_ts_date_indexes"
   ]
  },
  {
   "cell_type": "code",
   "execution_count": null,
   "id": "b784d1f6-d178-4968-82c2-610333a3fcf5",
   "metadata": {},
   "outputs": [],
   "source": [
    "pd.options.plotting.backend = \"plotly\""
   ]
  },
  {
   "cell_type": "code",
   "execution_count": null,
   "id": "dbee7f1d-ed21-42e9-a240-57621dbcffe3",
   "metadata": {},
   "outputs": [],
   "source": [
    "region = \"northern_territory\"\n",
    "p = get_project(\"sm_sir\", region, reload=True)\n",
    "baseline_params = p.param_set.baseline\n",
    "model = p.run_baseline_model(baseline_params)\n",
    "derived_df = model.get_derived_outputs_df()\n",
    "ts_set_dates = get_ts_date_indexes(p.ts_set, COVID_BASE_DATETIME)"
   ]
  },
  {
   "cell_type": "code",
   "execution_count": null,
   "id": "b860c441-6096-4827-9722-b5271578b3d1",
   "metadata": {},
   "outputs": [],
   "source": [
    "pretty_print(baseline_params[\"voc_emergence\"])"
   ]
  },
  {
   "cell_type": "code",
   "execution_count": null,
   "id": "81974cd3-603d-48e6-8da7-be585ffc5cfb",
   "metadata": {},
   "outputs": [],
   "source": [
    "ref_times_to_dti(COVID_BASE_DATETIME, [762])"
   ]
  },
  {
   "cell_type": "code",
   "execution_count": null,
   "id": "2719a0f4-08e3-4b2e-95be-44dd575c2f45",
   "metadata": {},
   "outputs": [],
   "source": [
    "def get_comparison_df(indicator):\n",
    "    return pd.DataFrame({\n",
    "        \"modelled\": derived_df[indicator],\n",
    "        \"data\": ts_set_dates[indicator]\n",
    "    })"
   ]
  },
  {
   "cell_type": "code",
   "execution_count": null,
   "id": "affa6653-d10e-445f-b18a-e0933391665e",
   "metadata": {},
   "outputs": [],
   "source": [
    "get_comparison_df(\"notifications\").plot()"
   ]
  },
  {
   "cell_type": "code",
   "execution_count": null,
   "id": "be34124e-fce3-4068-a634-43b9fe885137",
   "metadata": {},
   "outputs": [],
   "source": [
    "get_comparison_df(\"hospital_admissions\").plot()"
   ]
  },
  {
   "cell_type": "code",
   "execution_count": null,
   "id": "583932ee-40bf-44e4-a485-f0f5210e1153",
   "metadata": {},
   "outputs": [],
   "source": [
    "get_comparison_df(\"hospital_admissions\").plot()"
   ]
  }
 ],
 "metadata": {
  "kernelspec": {
   "display_name": "Python 3 (ipykernel)",
   "language": "python",
   "name": "python3"
  },
  "language_info": {
   "codemirror_mode": {
    "name": "ipython",
    "version": 3
   },
   "file_extension": ".py",
   "mimetype": "text/x-python",
   "name": "python",
   "nbconvert_exporter": "python",
   "pygments_lexer": "ipython3",
   "version": "3.10.4"
  }
 },
 "nbformat": 4,
 "nbformat_minor": 5
}
