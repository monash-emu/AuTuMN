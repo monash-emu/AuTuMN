{
 "cells": [
  {
   "cell_type": "code",
   "execution_count": null,
   "id": "239a3833-9dfc-45c7-aa50-11e7ddb3472f",
   "metadata": {},
   "outputs": [],
   "source": [
    "import pandas as pd\n",
    "\n",
    "from summer.utils import ref_times_to_dti\n",
    "\n",
    "from autumn.core import inputs\n",
    "from autumn.core.utils.display import pretty_print\n",
    "from autumn.settings.constants import COVID_BASE_DATETIME\n",
    "from autumn.core.project import get_project\n",
    "from autumn.projects.sm_sir.australia.northern_territory.project import get_ts_date_indexes"
   ]
  },
  {
   "cell_type": "code",
   "execution_count": null,
   "id": "b784d1f6-d178-4968-82c2-610333a3fcf5",
   "metadata": {},
   "outputs": [],
   "source": [
    "pd.options.plotting.backend = \"plotly\""
   ]
  },
  {
   "cell_type": "code",
   "execution_count": null,
   "id": "dbee7f1d-ed21-42e9-a240-57621dbcffe3",
   "metadata": {},
   "outputs": [],
   "source": [
    "region = \"northern_territory\"\n",
    "p = get_project(\"sm_sir\", region, reload=True)\n",
    "baseline_params = p.param_set.baseline\n",
    "model = p.run_baseline_model(baseline_params)\n",
    "derived_df = model.get_derived_outputs_df()\n",
    "ts_set_dates = get_ts_date_indexes(p.ts_set, COVID_BASE_DATETIME)"
   ]
  },
  {
   "cell_type": "code",
   "execution_count": null,
   "id": "b860c441-6096-4827-9722-b5271578b3d1",
   "metadata": {},
   "outputs": [],
   "source": [
    "pretty_print(baseline_params)"
   ]
  },
  {
   "cell_type": "code",
   "execution_count": null,
   "id": "2719a0f4-08e3-4b2e-95be-44dd575c2f45",
   "metadata": {},
   "outputs": [],
   "source": [
    "def get_comparison_df(indicator):\n",
    "    return pd.DataFrame({\n",
    "        \"modelled\": derived_df[indicator],\n",
    "        \"data\": ts_set_dates[indicator]\n",
    "    })"
   ]
  },
  {
   "cell_type": "code",
   "execution_count": null,
   "id": "affa6653-d10e-445f-b18a-e0933391665e",
   "metadata": {},
   "outputs": [],
   "source": [
    "get_comparison_df(\"notifications\").plot()"
   ]
  },
  {
   "cell_type": "code",
   "execution_count": null,
   "id": "be34124e-fce3-4068-a634-43b9fe885137",
   "metadata": {},
   "outputs": [],
   "source": [
    "get_comparison_df(\"hospital_admissions\").plot()"
   ]
  },
  {
   "cell_type": "code",
   "execution_count": null,
   "id": "583932ee-40bf-44e4-a485-f0f5210e1153",
   "metadata": {},
   "outputs": [],
   "source": [
    "# get_comparison_df(\"icu_admissions\").plot()"
   ]
  },
  {
   "cell_type": "code",
   "execution_count": null,
   "id": "58e2769c-293a-42b9-865f-987a876ea0f6",
   "metadata": {},
   "outputs": [],
   "source": [
    "# get_comparison_df(\"infection_deaths\").plot()"
   ]
  },
  {
   "cell_type": "code",
   "execution_count": null,
   "id": "82d2d45f-4cad-4832-a1ae-e7063de2fa11",
   "metadata": {},
   "outputs": [],
   "source": [
    "sc_models = p.run_scenario_models(\n",
    "    model, p.param_set.scenarios,\n",
    ")"
   ]
  },
  {
   "cell_type": "code",
   "execution_count": null,
   "id": "9edf5c2a-51b5-43e3-950a-60b529eddf50",
   "metadata": {},
   "outputs": [],
   "source": [
    "indicator = \"notifications\"\n",
    "chosen_scenario = 1  # Scenario number minus one\n",
    "sc_results = sc_models[chosen_scenario].get_derived_outputs_df()\n",
    "pd.DataFrame(\n",
    "    {\n",
    "        0: derived_df[indicator],\n",
    "        1: sc_results[indicator],\n",
    "    }\n",
    ").plot()"
   ]
  },
  {
   "cell_type": "code",
   "execution_count": null,
   "id": "9d07bca1-8db9-4ae7-bdfe-15c68629f6c0",
   "metadata": {},
   "outputs": [],
   "source": [
    "# Check population distribution by vaccination status\n",
    "sc_results[[f\"prop_immune_{strat}\" for strat in model._stratifications[3].strata]].plot.area()"
   ]
  },
  {
   "cell_type": "code",
   "execution_count": null,
   "id": "8069d4d3-3ee0-49bd-b2ea-af164155150e",
   "metadata": {},
   "outputs": [],
   "source": [
    "def get_indigenous_prop(results, indicator):\n",
    "    indigenous_values = results[f\"{indicator}Xindigenous\"].sum()\n",
    "    non_indigenous_values = results[f\"{indicator}Xnon_indigenous\"].sum()\n",
    "    return indigenous_values / (indigenous_values + non_indigenous_values)"
   ]
  },
  {
   "cell_type": "code",
   "execution_count": null,
   "id": "82974d83-2b0b-455a-ac20-886977112268",
   "metadata": {},
   "outputs": [],
   "source": [
    "prop_modelled_hosp_indigenous = get_indigenous_prop(derived_df, 'hospital_admissions')\n",
    "prop_actual_hosp_indigenous = 24091. / (24091 + 69259)\n",
    "ratio = prop_modelled_hosp_indigenous / prop_actual_hosp_indigenous\n",
    "print(f\"Modelled proportion of hospital admissions Indigenous: {prop_modelled_hosp_indigenous}\")\n",
    "print(f\"Actual proportion of hospital admissions: {prop_actual_hosp_indigenous}\")\n",
    "print(f\"Model is out by a factor of: {ratio}\")\n",
    "1. / ratio"
   ]
  },
  {
   "cell_type": "code",
   "execution_count": null,
   "id": "ee5cf09a-87aa-43a8-bbbe-6f26473abece",
   "metadata": {},
   "outputs": [],
   "source": [
    "prop_modelled_icu_indigenous = get_indigenous_prop(derived_df, 'icu_admissions')\n",
    "prop_actual_icu_indigenous = 46. / (20. + 46.)\n",
    "ratio = prop_modelled_icu_indigenous / prop_actual_icu_indigenous\n",
    "print(f\"Modelled proportion of ICU admissions Indigenous: {prop_modelled_icu_indigenous}\")\n",
    "print(f\"Actual proportion of ICU admissions: {prop_actual_icu_indigenous}\")\n",
    "print(f\"Model is out by a factor of: {ratio}\")\n",
    "5. / ratio"
   ]
  },
  {
   "cell_type": "code",
   "execution_count": null,
   "id": "34bcc741-ee87-469a-8420-3920b1820c82",
   "metadata": {},
   "outputs": [],
   "source": [
    "prop_modelled_deaths_indigenous = get_indigenous_prop(derived_df, 'infection_deaths')\n",
    "prop_actual_deaths_indigenous = 28. / (28. + 32.)\n",
    "ratio = prop_modelled_deaths_indigenous / prop_actual_deaths_indigenous\n",
    "print(f\"Modelled proportion of deaths Indigenous: {prop_modelled_deaths_indigenous}\")\n",
    "print(f\"Actual proportion of deaths: {prop_actual_deaths_indigenous}\")\n",
    "print(f\"Model is out by a factor of: {ratio}\")\n",
    "2.94 / ratio"
   ]
  },
  {
   "cell_type": "code",
   "execution_count": null,
   "id": "d78b6af7-1137-4064-aaf2-2c590001682a",
   "metadata": {},
   "outputs": [],
   "source": [
    "def get_cumu_comparison_df(indicator):\n",
    "    return pd.DataFrame({\n",
    "        \"modelled\": derived_df[f\"cumulative_{indicator}\"],\n",
    "        \"data\": ts_set_dates[indicator].cumsum()\n",
    "    })"
   ]
  },
  {
   "cell_type": "code",
   "execution_count": null,
   "id": "07ece2b5-d021-4c00-b2fe-ed9fe2f51513",
   "metadata": {},
   "outputs": [],
   "source": [
    "get_cumu_comparison_df(\"icu_admissions\").plot()"
   ]
  },
  {
   "cell_type": "code",
   "execution_count": null,
   "id": "4c5433f3-27eb-45f5-9653-098e8317c3db",
   "metadata": {},
   "outputs": [],
   "source": [
    "get_cumu_comparison_df(\"infection_deaths\").plot()"
   ]
  }
 ],
 "metadata": {
  "kernelspec": {
   "display_name": "Python 3 (ipykernel)",
   "language": "python",
   "name": "python3"
  },
  "language_info": {
   "codemirror_mode": {
    "name": "ipython",
    "version": 3
   },
   "file_extension": ".py",
   "mimetype": "text/x-python",
   "name": "python",
   "nbconvert_exporter": "python",
   "pygments_lexer": "ipython3",
   "version": "3.10.3"
  }
 },
 "nbformat": 4,
 "nbformat_minor": 5
}
