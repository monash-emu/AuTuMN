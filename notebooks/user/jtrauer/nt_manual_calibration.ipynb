{
 "cells": [
  {
   "cell_type": "code",
   "execution_count": null,
   "id": "239a3833-9dfc-45c7-aa50-11e7ddb3472f",
   "metadata": {},
   "outputs": [],
   "source": [
    "import pandas as pd\n",
    "\n",
    "from autumn.settings.constants import COVID_BASE_DATETIME\n",
    "from autumn.core.project import get_project\n",
    "from autumn.projects.sm_sir.australia.northern_territory.project import get_ts_date_indexes"
   ]
  },
  {
   "cell_type": "code",
   "execution_count": null,
   "id": "b784d1f6-d178-4968-82c2-610333a3fcf5",
   "metadata": {},
   "outputs": [],
   "source": [
    "pd.options.plotting.backend = \"plotly\""
   ]
  },
  {
   "cell_type": "code",
   "execution_count": null,
   "id": "dbee7f1d-ed21-42e9-a240-57621dbcffe3",
   "metadata": {},
   "outputs": [],
   "source": [
    "region = \"northern_territory\"\n",
    "p = get_project(\"sm_sir\", region, reload=True)\n",
    "baseline_params = p.param_set.baseline"
   ]
  },
  {
   "cell_type": "code",
   "execution_count": null,
   "id": "abc60bc2-28e9-4812-81c5-2d85ba517036",
   "metadata": {},
   "outputs": [],
   "source": [
    "model = p.run_baseline_model(baseline_params)\n",
    "derived_df = model.get_derived_outputs_df()"
   ]
  },
  {
   "cell_type": "code",
   "execution_count": null,
   "id": "57706674-3347-47be-81dd-9a3c470977cc",
   "metadata": {},
   "outputs": [],
   "source": [
    "ts_set_dates = get_ts_date_indexes(p.ts_set, COVID_BASE_DATETIME)"
   ]
  },
  {
   "cell_type": "code",
   "execution_count": null,
   "id": "0efe262d-af6c-45a1-bd03-30f8a58795f8",
   "metadata": {},
   "outputs": [],
   "source": [
    "indicator = \"notifications\"\n",
    "comparison_df = pd.DataFrame({\n",
    "    \"modelled\": derived_df[indicator],\n",
    "    \"data\": ts_set_dates[indicator]\n",
    "})"
   ]
  },
  {
   "cell_type": "code",
   "execution_count": null,
   "id": "affa6653-d10e-445f-b18a-e0933391665e",
   "metadata": {},
   "outputs": [],
   "source": [
    "comparison_df.plot()"
   ]
  }
 ],
 "metadata": {
  "kernelspec": {
   "display_name": "Python 3 (ipykernel)",
   "language": "python",
   "name": "python3"
  },
  "language_info": {
   "codemirror_mode": {
    "name": "ipython",
    "version": 3
   },
   "file_extension": ".py",
   "mimetype": "text/x-python",
   "name": "python",
   "nbconvert_exporter": "python",
   "pygments_lexer": "ipython3",
   "version": "3.10.3"
  }
 },
 "nbformat": 4,
 "nbformat_minor": 5
}
