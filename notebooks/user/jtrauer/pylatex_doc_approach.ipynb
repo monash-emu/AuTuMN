{
 "cells": [
  {
   "cell_type": "code",
   "execution_count": null,
   "id": "ff129247-ecd1-44ab-aadb-464e3fb41cff",
   "metadata": {},
   "outputs": [],
   "source": [
    "import pylatex as pl"
   ]
  },
  {
   "cell_type": "code",
   "execution_count": null,
   "id": "f112fde4-f33b-412e-b9a2-3d0fc4c2870d",
   "metadata": {},
   "outputs": [],
   "source": [
    "doc = pl.Document()"
   ]
  },
  {
   "cell_type": "code",
   "execution_count": null,
   "id": "f24116b5-43c6-486e-b999-62788e5c42f7",
   "metadata": {},
   "outputs": [],
   "source": [
    "doc.preamble.append(\n",
    "    pl.Package(\n",
    "        \"biblatex\", \n",
    "        options=[\"sorting=none\"],\n",
    "    ),\n",
    ")\n",
    "doc.preamble.append(\n",
    "    pl.Command(\n",
    "        \"addbibresource\", \n",
    "        arguments=[\"austcovid/austcovid.bib\"],\n",
    "    ),\n",
    ")\n",
    "doc.append(\"Text to reference\")\n",
    "doc.append(\n",
    "    pl.Command(\n",
    "        \"cite\", \n",
    "        arguments=[\"bi2020\"],\n",
    "    ),\n",
    ")\n",
    "doc.append(\n",
    "    pl.Command(\"printbibliography\"),\n",
    ")"
   ]
  },
  {
   "cell_type": "code",
   "execution_count": null,
   "id": "50d95f12-ad0f-494d-bdaa-11d81b055f94",
   "metadata": {},
   "outputs": [],
   "source": [
    "doc.generate_pdf(\"full\", clean_tex=False)"
   ]
  }
 ],
 "metadata": {
  "kernelspec": {
   "display_name": "Python 3 (ipykernel)",
   "language": "python",
   "name": "python3"
  },
  "language_info": {
   "codemirror_mode": {
    "name": "ipython",
    "version": 3
   },
   "file_extension": ".py",
   "mimetype": "text/x-python",
   "name": "python",
   "nbconvert_exporter": "python",
   "pygments_lexer": "ipython3",
   "version": "3.10.4"
  }
 },
 "nbformat": 4,
 "nbformat_minor": 5
}
