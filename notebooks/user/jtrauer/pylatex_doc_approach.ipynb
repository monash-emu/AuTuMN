{
 "cells": [
  {
   "cell_type": "code",
   "execution_count": null,
   "id": "ff129247-ecd1-44ab-aadb-464e3fb41cff",
   "metadata": {},
   "outputs": [],
   "source": [
    "import pylatex as pl"
   ]
  },
  {
   "cell_type": "code",
   "execution_count": null,
   "id": "f112fde4-f33b-412e-b9a2-3d0fc4c2870d",
   "metadata": {},
   "outputs": [],
   "source": [
    "doc = pl.Document()"
   ]
  },
  {
   "cell_type": "code",
   "execution_count": null,
   "id": "f24116b5-43c6-486e-b999-62788e5c42f7",
   "metadata": {},
   "outputs": [],
   "source": [
    "doc.preamble.append(pl.Package(\"biblatex\", options=[\"sorting=none\"]))\n",
    "doc.preamble.append(pl.Command(\"addbibresource\",arguments=[\"austcovid/austcovid.bib\"]))\n",
    "doc.append(pl.Command(\"cite\", arguments=[\"bi2020\"]))\n",
    "doc.append(pl.Command(\"printbibliography\"))"
   ]
  },
  {
   "cell_type": "code",
   "execution_count": null,
   "id": "50d95f12-ad0f-494d-bdaa-11d81b055f94",
   "metadata": {},
   "outputs": [],
   "source": [
    "doc.generate_pdf(\"full\", clean_tex=False)"
   ]
  }
 ],
 "metadata": {
  "kernelspec": {
   "display_name": "Python 3 (ipykernel)",
   "language": "python",
   "name": "python3"
  },
  "language_info": {
   "codemirror_mode": {
    "name": "ipython",
    "version": 3
   },
   "file_extension": ".py",
   "mimetype": "text/x-python",
   "name": "python",
   "nbconvert_exporter": "python",
   "pygments_lexer": "ipython3",
   "version": "3.10.3"
  }
 },
 "nbformat": 4,
 "nbformat_minor": 5
}
