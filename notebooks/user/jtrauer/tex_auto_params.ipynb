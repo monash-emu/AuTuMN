{
 "cells": [
  {
   "cell_type": "code",
   "execution_count": 73,
   "id": "e05cafa6",
   "metadata": {},
   "outputs": [],
   "source": [
    "from docs.tex_utils.tex_writing import get_params_folder\n",
    "\n",
    "from autumn.settings import Region, Models"
   ]
  },
  {
   "cell_type": "code",
   "execution_count": 72,
   "id": "40025788",
   "metadata": {},
   "outputs": [],
   "source": [
    "model = Models.SM_SIR\n",
    "region = Region.BHUTAN"
   ]
  },
  {
   "cell_type": "code",
   "execution_count": 75,
   "id": "9e35d556",
   "metadata": {},
   "outputs": [
    {
     "data": {
      "text/plain": [
       "WindowsPath('C:/Users/jtrauer/PycharmProjects/AuTuMN/docs/tex_descriptions/projects/sm_sir/bhutan/bhutan')"
      ]
     },
     "execution_count": 75,
     "metadata": {},
     "output_type": "execute_result"
    }
   ],
   "source": [
    "dir_to_use = get_params_folder(model, \"bhutan\", region)\n",
    "dir_to_use"
   ]
  },
  {
   "cell_type": "code",
   "execution_count": 5,
   "id": "3e8f4d27",
   "metadata": {},
   "outputs": [],
   "source": [
    "# import os\n",
    "\n",
    "# from autumn.settings import DOCS_PATH\n",
    "\n",
    "# tex_file_path = os.path.join(\n",
    "#     DOCS_PATH, \n",
    "#     \"tex_descriptions\", \n",
    "#     \"projects\", \n",
    "#     \"parameters_auto.tex\"\n",
    "# )\n",
    "# with open(tex_file_path, \"w\") as tex_file:\n",
    "#     tex_file.write(\"something\")"
   ]
  }
 ],
 "metadata": {
  "kernelspec": {
   "display_name": "Python 3 (ipykernel)",
   "language": "python",
   "name": "python3"
  },
  "language_info": {
   "codemirror_mode": {
    "name": "ipython",
    "version": 3
   },
   "file_extension": ".py",
   "mimetype": "text/x-python",
   "name": "python",
   "nbconvert_exporter": "python",
   "pygments_lexer": "ipython3",
   "version": "3.10.3"
  }
 },
 "nbformat": 4,
 "nbformat_minor": 5
}
