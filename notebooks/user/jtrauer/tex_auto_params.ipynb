{
 "cells": [
  {
   "cell_type": "code",
   "execution_count": 1,
   "id": "ae542ab4",
   "metadata": {},
   "outputs": [],
   "source": [
    "from docs.tex_utils.tex_writing import get_params_folder, write_param_table_rows\n",
    "\n",
    "from autumn.settings import Region, Models\n",
    "from autumn.core.project import get_project\n",
    "from autumn.core.utils.display import pretty_print"
   ]
  },
  {
   "cell_type": "code",
   "execution_count": 2,
   "id": "fdb5105b",
   "metadata": {},
   "outputs": [],
   "source": [
    "model = Models.SM_SIR\n",
    "region = Region.BHUTAN\n",
    "project = get_project(model, region, reload=True)\n",
    "base_params = project.param_set.baseline"
   ]
  },
  {
   "cell_type": "code",
   "execution_count": 3,
   "id": "8b3f8cea",
   "metadata": {},
   "outputs": [],
   "source": [
    "selected_parameters = [\"booster_effect_duration\", \"testing_to_detection.assumed_tests_parameter\"]\n",
    "file_name = get_params_folder(model, \"bhutan\", region)\n",
    "write_param_table_rows(file_name, project, selected_parameters)"
   ]
  },
  {
   "cell_type": "code",
   "execution_count": 4,
   "id": "30e8359a",
   "metadata": {},
   "outputs": [],
   "source": [
    "# base_params"
   ]
  }
 ],
 "metadata": {
  "kernelspec": {
   "display_name": "Python 3 (ipykernel)",
   "language": "python",
   "name": "python3"
  },
  "language_info": {
   "codemirror_mode": {
    "name": "ipython",
    "version": 3
   },
   "file_extension": ".py",
   "mimetype": "text/x-python",
   "name": "python",
   "nbconvert_exporter": "python",
   "pygments_lexer": "ipython3",
   "version": "3.10.3"
  }
 },
 "nbformat": 4,
 "nbformat_minor": 5
}
