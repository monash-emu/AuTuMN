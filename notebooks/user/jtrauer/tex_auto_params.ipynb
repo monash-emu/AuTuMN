{
 "cells": [
  {
   "cell_type": "code",
   "execution_count": 2,
   "id": "ae542ab4",
   "metadata": {},
   "outputs": [],
   "source": [
    "from docs.tex_utils.tex_writing import get_params_folder\n",
    "\n",
    "from autumn.settings import Region, Models\n",
    "from autumn.core.project import get_project\n",
    "from autumn.core.utils.display import pretty_print"
   ]
  },
  {
   "cell_type": "code",
   "execution_count": 3,
   "id": "fdb5105b",
   "metadata": {},
   "outputs": [],
   "source": [
    "model = Models.SM_SIR\n",
    "region = Region.BHUTAN\n",
    "project = get_project(model, region, reload=True)\n",
    "base_params = project.param_set.baseline"
   ]
  },
  {
   "cell_type": "code",
   "execution_count": 4,
   "id": "cdad0457",
   "metadata": {},
   "outputs": [
    {
     "data": {
      "text/plain": [
       "WindowsPath('C:/Users/jtrauer/PycharmProjects/AuTuMN/docs/tex_descriptions/projects/sm_sir/bhutan/bhutan/auto_params.tex')"
      ]
     },
     "execution_count": 4,
     "metadata": {},
     "output_type": "execute_result"
    }
   ],
   "source": [
    "file_name = get_params_folder(model, \"bhutan\", region)\n",
    "file_name"
   ]
  },
  {
   "cell_type": "code",
   "execution_count": 5,
   "id": "67535e17",
   "metadata": {},
   "outputs": [],
   "source": [
    "#pretty_print(project.param_set.baseline)"
   ]
  },
  {
   "cell_type": "code",
   "execution_count": 13,
   "id": "8b3f8cea",
   "metadata": {},
   "outputs": [],
   "source": [
    "selected_parameters = [\"booster_effect_duration\", \"detect_prop\", \"contact_rate\"]\n",
    "\n",
    "rationales = {}\n",
    "\n",
    "with open(file_name, \"w\") as tex_file:\n",
    "    for i_param, param in enumerate(selected_parameters):        \n",
    "        param_name = param.replace(\"_\", \" \")\n",
    "        value = project.param_set.baseline[param]\n",
    "        rationale = rationales[param] if param in rationales else \"pending\"\n",
    "        \n",
    "        # Note that for some TeX-related reason, we can't put the \\\\ on the last line\n",
    "        line_end = \"\" if i_param == len(selected_parameters) - 1 else \"\\\\\\\\ \\n \\hline\"\n",
    "\n",
    "        table_line = f\"\\n{param_name} & {value} & {rationale}{line_end}\"\n",
    "        tex_file.write(table_line)"
   ]
  }
 ],
 "metadata": {
  "kernelspec": {
   "display_name": "Python 3 (ipykernel)",
   "language": "python",
   "name": "python3"
  },
  "language_info": {
   "codemirror_mode": {
    "name": "ipython",
    "version": 3
   },
   "file_extension": ".py",
   "mimetype": "text/x-python",
   "name": "python",
   "nbconvert_exporter": "python",
   "pygments_lexer": "ipython3",
   "version": "3.10.3"
  }
 },
 "nbformat": 4,
 "nbformat_minor": 5
}
