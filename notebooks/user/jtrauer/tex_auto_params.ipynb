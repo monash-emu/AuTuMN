{
 "cells": [
  {
   "cell_type": "code",
   "execution_count": 1,
   "id": "ae542ab4",
   "metadata": {},
   "outputs": [],
   "source": [
    "from docs.tex_utils.tex_writing import (\n",
    "    get_params_folder, \n",
    "    write_param_table_rows, \n",
    "    write_prior_table_rows,\n",
    ")\n",
    "\n",
    "from autumn.settings import Region, Models\n",
    "from autumn.core.project import get_project\n",
    "from autumn.core.utils.display import pretty_print"
   ]
  },
  {
   "cell_type": "code",
   "execution_count": 2,
   "id": "fdb5105b",
   "metadata": {},
   "outputs": [],
   "source": [
    "model = Models.SM_SIR\n",
    "region = Region.BHUTAN\n",
    "project = get_project(model, region, reload=True)\n",
    "base_params = project.param_set.baseline"
   ]
  },
  {
   "cell_type": "code",
   "execution_count": 3,
   "id": "8b3f8cea",
   "metadata": {},
   "outputs": [],
   "source": [
    "selected_parameters = [\n",
    "    \"contact_rate\",\n",
    "    \"ref_mixing_iso3\",\n",
    "    \"infectious_seed\",\n",
    "    \"sojourns.active.proportion_early\",\n",
    "    \"asympt_infectiousness_effect\",\n",
    "    \"isolate_infectiousness_effect\",\n",
    "    \"testing_to_detection.assumed_tests_parameter\",\n",
    "    \"testing_to_detection.assumed_cdr_parameter\",\n",
    "    \"testing_to_detection.floor_value\",\n",
    "    \"testing_to_detection.smoothing_period\",    \n",
    "    \"booster_effect_duration\",\n",
    "    \"immunity_stratification.infection_risk_reduction.high\",\n",
    "    \"immunity_stratification.infection_risk_reduction.low\", \n",
    "]\n",
    "fixed_params_filename = get_params_folder(model, \"bhutan\", region, \"auto_fixed_params\")\n",
    "write_param_table_rows(fixed_params_filename, project, selected_parameters)\n",
    "\n",
    "output_params = [\n",
    "    \"time_from_onset_to_event.notification.distribution\",\n",
    "    \"time_from_onset_to_event.notification.parameters.mean\",\n",
    "    \"time_from_onset_to_event.notification.parameters.shape\",   \n",
    "    \"time_from_onset_to_event.death.distribution\",\n",
    "    \"time_from_onset_to_event.death.parameters.mean\",\n",
    "    \"time_from_onset_to_event.death.parameters.shape\",\n",
    "    \"time_from_onset_to_event.hospitalisation.distribution\",\n",
    "    \"time_from_onset_to_event.hospitalisation.parameters.mean\",\n",
    "    \"time_from_onset_to_event.hospitalisation.parameters.shape\",\n",
    "    \"prop_icu_among_hospitalised\",\n",
    "    \"time_from_onset_to_event.icu_admission.distribution\",\n",
    "    \"time_from_onset_to_event.icu_admission.parameters.mean\",\n",
    "    \"time_from_onset_to_event.icu_admission.parameters.shape\",\n",
    "    \"hospital_stay.hospital_all.distribution\",\n",
    "    \"hospital_stay.hospital_all.parameters.mean\",\n",
    "    \"hospital_stay.hospital_all.parameters.shape\",\n",
    "    \"hospital_stay.icu.distribution\",\n",
    "    \"hospital_stay.icu.parameters.mean\",\n",
    "    \"hospital_stay.icu.parameters.shape\",\n",
    "]\n",
    "output_param_filename = get_params_folder(model, \"bhutan\", region, \"auto_output_params\")\n",
    "write_param_table_rows(output_param_filename, project, output_params)"
   ]
  },
  {
   "cell_type": "code",
   "execution_count": 4,
   "id": "2f7a90a6",
   "metadata": {},
   "outputs": [],
   "source": [
    "prior_param_filename = get_params_folder(model, \"bhutan\", region, \"auto_priors\")\n",
    "write_prior_table_rows(prior_param_filename, project)"
   ]
  }
 ],
 "metadata": {
  "kernelspec": {
   "display_name": "Python 3 (ipykernel)",
   "language": "python",
   "name": "python3"
  },
  "language_info": {
   "codemirror_mode": {
    "name": "ipython",
    "version": 3
   },
   "file_extension": ".py",
   "mimetype": "text/x-python",
   "name": "python",
   "nbconvert_exporter": "python",
   "pygments_lexer": "ipython3",
   "version": "3.10.3"
  }
 },
 "nbformat": 4,
 "nbformat_minor": 5
}
