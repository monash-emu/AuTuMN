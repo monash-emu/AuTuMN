{
 "cells": [
  {
   "cell_type": "code",
   "execution_count": 1,
   "id": "ae542ab4",
   "metadata": {},
   "outputs": [],
   "source": [
    "from docs.tex_utils.tex_writing import get_params_folder, write_param_table_rows, get_param_from_nest_string\n",
    "from typing import List, Dict\n",
    "from pathlib import Path\n",
    "\n",
    "from autumn.settings import Region, Models\n",
    "from autumn.core.project import get_project\n",
    "from autumn.core.project.project import Project\n",
    "from autumn.core.utils.display import pretty_print"
   ]
  },
  {
   "cell_type": "code",
   "execution_count": 2,
   "id": "fdb5105b",
   "metadata": {},
   "outputs": [],
   "source": [
    "model = Models.SM_SIR\n",
    "region = Region.BHUTAN\n",
    "project = get_project(model, region, reload=True)\n",
    "base_params = project.param_set.baseline"
   ]
  },
  {
   "cell_type": "code",
   "execution_count": 3,
   "id": "cdad0457",
   "metadata": {},
   "outputs": [
    {
     "data": {
      "text/plain": [
       "WindowsPath('C:/Users/jtrauer/PycharmProjects/AuTuMN/docs/tex_descriptions/projects/sm_sir/bhutan/bhutan/auto_params.tex')"
      ]
     },
     "execution_count": 3,
     "metadata": {},
     "output_type": "execute_result"
    }
   ],
   "source": [
    "file_name = get_params_folder(model, \"bhutan\", region)\n",
    "file_name"
   ]
  },
  {
   "cell_type": "code",
   "execution_count": 4,
   "id": "6b2f6c08",
   "metadata": {},
   "outputs": [
    {
     "data": {
      "text/plain": [
       "90"
      ]
     },
     "execution_count": 4,
     "metadata": {},
     "output_type": "execute_result"
    }
   ],
   "source": [
    "example_nested_param = \"booster_effect_duration\"\n",
    "get_param_from_nest_string(base_params, example_nested_param)"
   ]
  },
  {
   "cell_type": "code",
   "execution_count": 5,
   "id": "8b3f8cea",
   "metadata": {},
   "outputs": [],
   "source": [
    "selected_parameters = [\"booster_effect_duration\", \"detect_prop\", \"contact_rate\"]\n",
    "\n",
    "write_param_table_rows(file_name, project, selected_parameters)"
   ]
  }
 ],
 "metadata": {
  "kernelspec": {
   "display_name": "Python 3 (ipykernel)",
   "language": "python",
   "name": "python3"
  },
  "language_info": {
   "codemirror_mode": {
    "name": "ipython",
    "version": 3
   },
   "file_extension": ".py",
   "mimetype": "text/x-python",
   "name": "python",
   "nbconvert_exporter": "python",
   "pygments_lexer": "ipython3",
   "version": "3.10.3"
  }
 },
 "nbformat": 4,
 "nbformat_minor": 5
}
