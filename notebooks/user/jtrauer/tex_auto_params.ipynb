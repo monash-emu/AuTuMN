{
 "cells": [
  {
   "cell_type": "code",
   "execution_count": 48,
   "id": "e54475cb",
   "metadata": {},
   "outputs": [],
   "source": [
    "from pathlib import Path\n",
    "import os"
   ]
  },
  {
   "cell_type": "code",
   "execution_count": 49,
   "id": "fe486d8c",
   "metadata": {},
   "outputs": [],
   "source": [
    "base_dir = Path().absolute().parent.parent.parent  # Will need to change this\n",
    "projects_dir = base_dir / \"docs\" / \"tex_descriptions\" / \"projects\"\n",
    "country_dir = projects_dir / \"bhutan\"\n",
    "country_dir.mkdir(exist_ok=True)\n",
    "app_dir = country_dir / \"bhutan\"\n",
    "app_dir.mkdir(exist_ok=True)"
   ]
  },
  {
   "cell_type": "code",
   "execution_count": 5,
   "id": "e90368e6",
   "metadata": {},
   "outputs": [],
   "source": [
    "# import os\n",
    "\n",
    "# from autumn.settings import DOCS_PATH\n",
    "\n",
    "# tex_file_path = os.path.join(\n",
    "#     DOCS_PATH, \n",
    "#     \"tex_descriptions\", \n",
    "#     \"projects\", \n",
    "#     \"parameters_auto.tex\"\n",
    "# )\n",
    "# with open(tex_file_path, \"w\") as tex_file:\n",
    "#     tex_file.write(\"something\")"
   ]
  }
 ],
 "metadata": {
  "kernelspec": {
   "display_name": "Python 3 (ipykernel)",
   "language": "python",
   "name": "python3"
  },
  "language_info": {
   "codemirror_mode": {
    "name": "ipython",
    "version": 3
   },
   "file_extension": ".py",
   "mimetype": "text/x-python",
   "name": "python",
   "nbconvert_exporter": "python",
   "pygments_lexer": "ipython3",
   "version": "3.10.3"
  }
 },
 "nbformat": 4,
 "nbformat_minor": 5
}
