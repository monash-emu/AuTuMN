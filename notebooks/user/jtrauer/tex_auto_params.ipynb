{
 "cells": [
  {
   "cell_type": "code",
   "execution_count": 1,
   "id": "ae542ab4",
   "metadata": {},
   "outputs": [],
   "source": [
    "from docs.tex_utils.tex_writing import (\n",
    "    get_params_folder, \n",
    "    write_param_table_rows, \n",
    "    write_prior_table_rows,\n",
    ")\n",
    "\n",
    "from autumn.settings import Region, Models\n",
    "from autumn.core.project import get_project\n",
    "from autumn.core.utils.display import pretty_print"
   ]
  },
  {
   "cell_type": "code",
   "execution_count": 2,
   "id": "fdb5105b",
   "metadata": {},
   "outputs": [],
   "source": [
    "model = Models.SM_SIR\n",
    "region = Region.BHUTAN\n",
    "project = get_project(model, region, reload=True)\n",
    "base_params = project.param_set.baseline"
   ]
  },
  {
   "cell_type": "code",
   "execution_count": 3,
   "id": "8b3f8cea",
   "metadata": {},
   "outputs": [
    {
     "ename": "TypeError",
     "evalue": "unsupported operand type(s) for /: 'str' and 'str'",
     "output_type": "error",
     "traceback": [
      "\u001b[1;31m---------------------------------------------------------------------------\u001b[0m",
      "\u001b[1;31mTypeError\u001b[0m                                 Traceback (most recent call last)",
      "Input \u001b[1;32mIn [3]\u001b[0m, in \u001b[0;36m<cell line: 16>\u001b[1;34m()\u001b[0m\n\u001b[0;32m      1\u001b[0m selected_parameters \u001b[38;5;241m=\u001b[39m [\n\u001b[0;32m      2\u001b[0m     \u001b[38;5;124m\"\u001b[39m\u001b[38;5;124mcontact_rate\u001b[39m\u001b[38;5;124m\"\u001b[39m,\n\u001b[0;32m      3\u001b[0m     \u001b[38;5;124m\"\u001b[39m\u001b[38;5;124mref_mixing_iso3\u001b[39m\u001b[38;5;124m\"\u001b[39m,\n\u001b[1;32m   (...)\u001b[0m\n\u001b[0;32m     14\u001b[0m     \u001b[38;5;124m\"\u001b[39m\u001b[38;5;124mimmunity_stratification.infection_risk_reduction.low\u001b[39m\u001b[38;5;124m\"\u001b[39m, \n\u001b[0;32m     15\u001b[0m ]\n\u001b[1;32m---> 16\u001b[0m fixed_params_filename \u001b[38;5;241m=\u001b[39m \u001b[43mget_params_folder\u001b[49m\u001b[43m(\u001b[49m\u001b[43mmodel\u001b[49m\u001b[43m,\u001b[49m\u001b[43m \u001b[49m\u001b[38;5;124;43m\"\u001b[39;49m\u001b[38;5;124;43mbhutan\u001b[39;49m\u001b[38;5;124;43m\"\u001b[39;49m\u001b[43m,\u001b[49m\u001b[43m \u001b[49m\u001b[43mregion\u001b[49m\u001b[43m,\u001b[49m\u001b[43m \u001b[49m\u001b[38;5;124;43m\"\u001b[39;49m\u001b[38;5;124;43mauto_fixed_params\u001b[39;49m\u001b[38;5;124;43m\"\u001b[39;49m\u001b[43m)\u001b[49m\n\u001b[0;32m     17\u001b[0m write_param_table_rows(fixed_params_filename, project, selected_parameters)\n\u001b[0;32m     19\u001b[0m output_params \u001b[38;5;241m=\u001b[39m [\n\u001b[0;32m     20\u001b[0m     \u001b[38;5;124m\"\u001b[39m\u001b[38;5;124mtime_from_onset_to_event.notification.distribution\u001b[39m\u001b[38;5;124m\"\u001b[39m,\n\u001b[0;32m     21\u001b[0m     \u001b[38;5;124m\"\u001b[39m\u001b[38;5;124mtime_from_onset_to_event.notification.parameters.mean\u001b[39m\u001b[38;5;124m\"\u001b[39m,\n\u001b[1;32m   (...)\u001b[0m\n\u001b[0;32m     38\u001b[0m     \u001b[38;5;124m\"\u001b[39m\u001b[38;5;124mhospital_stay.icu.parameters.shape\u001b[39m\u001b[38;5;124m\"\u001b[39m,\n\u001b[0;32m     39\u001b[0m ]\n",
      "File \u001b[1;32mc:\\users\\jtrauer\\pycharmprojects\\autumn\\docs\\tex_utils\\tex_writing.py:64\u001b[0m, in \u001b[0;36mget_params_folder\u001b[1;34m(model, country, region, file_name)\u001b[0m\n\u001b[0;32m     47\u001b[0m \u001b[38;5;28;01mdef\u001b[39;00m \u001b[38;5;21mget_params_folder\u001b[39m(\n\u001b[0;32m     48\u001b[0m     model: \u001b[38;5;28mstr\u001b[39m,\n\u001b[0;32m     49\u001b[0m     country: \u001b[38;5;28mstr\u001b[39m,\n\u001b[0;32m     50\u001b[0m     region: \u001b[38;5;28mstr\u001b[39m,\n\u001b[0;32m     51\u001b[0m     file_name: \u001b[38;5;28mstr\u001b[39m,\n\u001b[0;32m     52\u001b[0m ) \u001b[38;5;241m-\u001b[39m\u001b[38;5;241m>\u001b[39m Path:\n\u001b[0;32m     53\u001b[0m     \u001b[38;5;124;03m\"\"\"\u001b[39;00m\n\u001b[0;32m     54\u001b[0m \u001b[38;5;124;03m    Find the directory to where we want to keep the files for the parameters,\u001b[39;00m\n\u001b[0;32m     55\u001b[0m \u001b[38;5;124;03m    including add any paths that weren't already present.\u001b[39;00m\n\u001b[1;32m   (...)\u001b[0m\n\u001b[0;32m     61\u001b[0m \u001b[38;5;124;03m    \u001b[39;00m\n\u001b[0;32m     62\u001b[0m \u001b[38;5;124;03m    \"\"\"\u001b[39;00m\n\u001b[1;32m---> 64\u001b[0m     projects_dir \u001b[38;5;241m=\u001b[39m \u001b[43mBASE_PATH\u001b[49m\u001b[43m \u001b[49m\u001b[38;5;241;43m/\u001b[39;49m\u001b[43m \u001b[49m\u001b[38;5;124;43m\"\u001b[39;49m\u001b[38;5;124;43mdocs\u001b[39;49m\u001b[38;5;124;43m\"\u001b[39;49m \u001b[38;5;241m/\u001b[39m \u001b[38;5;124m\"\u001b[39m\u001b[38;5;124mtex_descriptions\u001b[39m\u001b[38;5;124m\"\u001b[39m \u001b[38;5;241m/\u001b[39m \u001b[38;5;124m\"\u001b[39m\u001b[38;5;124mprojects\u001b[39m\u001b[38;5;124m\"\u001b[39m\n\u001b[0;32m     66\u001b[0m     model_dir \u001b[38;5;241m=\u001b[39m projects_dir \u001b[38;5;241m/\u001b[39m model\n\u001b[0;32m     67\u001b[0m     model_dir\u001b[38;5;241m.\u001b[39mmkdir(exist_ok\u001b[38;5;241m=\u001b[39m\u001b[38;5;28;01mTrue\u001b[39;00m)\n",
      "\u001b[1;31mTypeError\u001b[0m: unsupported operand type(s) for /: 'str' and 'str'"
     ]
    }
   ],
   "source": [
    "selected_parameters = [\n",
    "    \"contact_rate\",\n",
    "    \"ref_mixing_iso3\",\n",
    "    \"infectious_seed\",\n",
    "    \"sojourns.active.proportion_early\",\n",
    "    \"asympt_infectiousness_effect\",\n",
    "    \"isolate_infectiousness_effect\",\n",
    "    \"testing_to_detection.assumed_tests_parameter\",\n",
    "    \"testing_to_detection.assumed_cdr_parameter\",\n",
    "    \"testing_to_detection.floor_value\",\n",
    "    \"testing_to_detection.smoothing_period\",    \n",
    "    \"booster_effect_duration\",\n",
    "    \"immunity_stratification.infection_risk_reduction.high\",\n",
    "    \"immunity_stratification.infection_risk_reduction.low\", \n",
    "]\n",
    "fixed_params_filename = get_params_folder(model, \"bhutan\", region, \"auto_fixed_params\")\n",
    "write_param_table_rows(fixed_params_filename, project, selected_parameters)\n",
    "\n",
    "output_params = [\n",
    "    \"time_from_onset_to_event.notification.distribution\",\n",
    "    \"time_from_onset_to_event.notification.parameters.mean\",\n",
    "    \"time_from_onset_to_event.notification.parameters.shape\",   \n",
    "    \"time_from_onset_to_event.death.distribution\",\n",
    "    \"time_from_onset_to_event.death.parameters.mean\",\n",
    "    \"time_from_onset_to_event.death.parameters.shape\",\n",
    "    \"time_from_onset_to_event.hospitalisation.distribution\",\n",
    "    \"time_from_onset_to_event.hospitalisation.parameters.mean\",\n",
    "    \"time_from_onset_to_event.hospitalisation.parameters.shape\",\n",
    "    \"prop_icu_among_hospitalised\",\n",
    "    \"time_from_onset_to_event.icu_admission.distribution\",\n",
    "    \"time_from_onset_to_event.icu_admission.parameters.mean\",\n",
    "    \"time_from_onset_to_event.icu_admission.parameters.shape\",\n",
    "    \"hospital_stay.hospital_all.distribution\",\n",
    "    \"hospital_stay.hospital_all.parameters.mean\",\n",
    "    \"hospital_stay.hospital_all.parameters.shape\",\n",
    "    \"hospital_stay.icu.distribution\",\n",
    "    \"hospital_stay.icu.parameters.mean\",\n",
    "    \"hospital_stay.icu.parameters.shape\",\n",
    "]\n",
    "output_param_filename = get_params_folder(model, \"bhutan\", region, \"auto_output_params\")\n",
    "write_param_table_rows(output_param_filename, project, output_params)"
   ]
  },
  {
   "cell_type": "code",
   "execution_count": 9,
   "id": "5bcd056b",
   "metadata": {},
   "outputs": [
    {
     "data": {
      "text/plain": [
       "WindowsPath('c:/users/jtrauer/pycharmprojects/autumn')"
      ]
     },
     "execution_count": 9,
     "metadata": {},
     "output_type": "execute_result"
    }
   ],
   "source": [
    "from autumn.settings.folders import BASE_PATH\n",
    "from pathlib import Path\n",
    "\n",
    "something = Path(BASE_PATH)\n",
    "something"
   ]
  },
  {
   "cell_type": "code",
   "execution_count": null,
   "id": "beb67f58",
   "metadata": {},
   "outputs": [],
   "source": [
    "prior_param_filename = get_params_folder(model, \"bhutan\", region, \"auto_priors\")\n",
    "write_prior_table_rows(prior_param_filename, project)"
   ]
  }
 ],
 "metadata": {
  "kernelspec": {
   "display_name": "Python 3 (ipykernel)",
   "language": "python",
   "name": "python3"
  },
  "language_info": {
   "codemirror_mode": {
    "name": "ipython",
    "version": 3
   },
   "file_extension": ".py",
   "mimetype": "text/x-python",
   "name": "python",
   "nbconvert_exporter": "python",
   "pygments_lexer": "ipython3",
   "version": "3.10.3"
  }
 },
 "nbformat": 4,
 "nbformat_minor": 5
}
