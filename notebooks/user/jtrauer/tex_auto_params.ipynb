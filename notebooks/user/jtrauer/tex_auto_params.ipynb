{
 "cells": [
  {
   "cell_type": "code",
   "execution_count": null,
   "id": "ae542ab4",
   "metadata": {},
   "outputs": [],
   "source": [
    "from autumn.core.utils.tex_tools import (\n",
    "    get_params_folder, \n",
    "    write_param_table_rows, \n",
    "    write_prior_table_rows,\n",
    ")\n",
    "\n",
    "from autumn.settings import Region, Models\n",
    "from autumn.core.project import get_project\n",
    "from autumn.core.utils.display import pretty_print"
   ]
  },
  {
   "cell_type": "code",
   "execution_count": null,
   "id": "fdb5105b",
   "metadata": {},
   "outputs": [],
   "source": [
    "model = Models.SM_SIR\n",
    "region = Region.NORTHERN_TERRITORY\n",
    "project = get_project(model, region, reload=True)\n",
    "base_params = project.param_set.baseline"
   ]
  },
  {
   "cell_type": "code",
   "execution_count": null,
   "id": "bde1ea47-578d-46f5-8f1e-2bd72d52e7be",
   "metadata": {},
   "outputs": [],
   "source": [
    "pretty_print(base_params)"
   ]
  },
  {
   "cell_type": "code",
   "execution_count": null,
   "id": "8b3f8cea",
   "metadata": {},
   "outputs": [],
   "source": [
    "selected_parameters = [\n",
    "    \"ref_mixing_iso3\",\n",
    "    \"infectious_seed\",\n",
    "    \"sojourns.active.proportion_early\",\n",
    "    \"asympt_infectiousness_effect\",\n",
    "    \"isolate_infectiousness_effect\",\n",
    "    \"immunity_stratification.infection_risk_reduction.high\",\n",
    "    \"immunity_stratification.infection_risk_reduction.low\",\n",
    "    \"age_stratification.cfr.multiplier\",\n",
    "    \"voc_emergence.ba_1.cross_protection.ba_5.early_reinfection\",\n",
    "    \"voc_emergence.ba_2.cross_protection.ba_1.early_reinfection\",\n",
    "    \"voc_emergence.ba_5.cross_protection.ba_1.early_reinfection\",\n",
    "    \"voc_emergence.ba_5.cross_protection.ba_2.early_reinfection\",   \n",
    "]\n",
    "fixed_params_filename = get_params_folder(model, \"northern_territory\", region, \"auto_fixed_params\")\n",
    "write_param_table_rows(fixed_params_filename, project, selected_parameters)\n",
    "\n",
    "output_params = [\n",
    "    \"time_from_onset_to_event.notification.distribution\",\n",
    "    \"time_from_onset_to_event.notification.parameters.mean\",\n",
    "    \"time_from_onset_to_event.notification.parameters.shape\",   \n",
    "    \"time_from_onset_to_event.death.distribution\",\n",
    "    \"time_from_onset_to_event.death.parameters.mean\",\n",
    "    \"time_from_onset_to_event.death.parameters.shape\",\n",
    "    \"time_from_onset_to_event.hospitalisation.distribution\",\n",
    "    \"time_from_onset_to_event.hospitalisation.parameters.mean\",\n",
    "    \"time_from_onset_to_event.hospitalisation.parameters.shape\",\n",
    "    \"prop_icu_among_hospitalised\",\n",
    "    \"time_from_onset_to_event.icu_admission.distribution\",\n",
    "    \"time_from_onset_to_event.icu_admission.parameters.mean\",\n",
    "    \"time_from_onset_to_event.icu_admission.parameters.shape\",\n",
    "    \"hospital_stay.hospital_all.distribution\",\n",
    "    \"hospital_stay.hospital_all.parameters.mean\",\n",
    "    \"hospital_stay.hospital_all.parameters.shape\",\n",
    "    \"hospital_stay.icu.distribution\",\n",
    "    \"hospital_stay.icu.parameters.mean\",\n",
    "    \"hospital_stay.icu.parameters.shape\", \n",
    "]\n",
    "output_param_filename = get_params_folder(model, \"northern_territory\", region, \"auto_output_params\")\n",
    "write_param_table_rows(output_param_filename, project, output_params)"
   ]
  },
  {
   "cell_type": "code",
   "execution_count": null,
   "id": "1ddddedb",
   "metadata": {},
   "outputs": [],
   "source": [
    "prior_param_filename = get_params_folder(model, \"northern_territory\", region, \"auto_priors\")\n",
    "write_prior_table_rows(prior_param_filename, project)"
   ]
  },
  {
   "cell_type": "code",
   "execution_count": null,
   "id": "eeb8c8f5-c649-41ee-8890-7d5cb5d430c2",
   "metadata": {},
   "outputs": [],
   "source": [
    "prior_param_filename"
   ]
  }
 ],
 "metadata": {
  "kernelspec": {
   "display_name": "Python 3 (ipykernel)",
   "language": "python",
   "name": "python3"
  },
  "language_info": {
   "codemirror_mode": {
    "name": "ipython",
    "version": 3
   },
   "file_extension": ".py",
   "mimetype": "text/x-python",
   "name": "python",
   "nbconvert_exporter": "python",
   "pygments_lexer": "ipython3",
   "version": "3.10.4"
  }
 },
 "nbformat": 4,
 "nbformat_minor": 5
}
