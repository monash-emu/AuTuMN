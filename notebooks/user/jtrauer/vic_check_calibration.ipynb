{
 "cells": [
  {
   "cell_type": "code",
   "execution_count": null,
   "metadata": {},
   "outputs": [],
   "source": [
    "import datetime\n",
    "import matplotlib.dates as mdates\n",
    "from matplotlib import pyplot as plt\n",
    "\n",
    "from summer.utils import ref_times_to_dti\n",
    "\n",
    "from autumn.settings import Region\n",
    "from autumn.tools.project import get_project, TimeSeriesSet\n",
    "from autumn.tools.plots.utils import REF_DATE\n",
    "from autumn.models.covid_19.constants import BASE_DATETIME\n",
    "from autumn.tools.calibration.targets import get_target_series\n",
    "import pandas as pd\n",
    "from autumn.tools.utils.pretty import pretty_print\n",
    "from autumn.tools.inputs.covid_au.queries import get_both_vacc_coverage"
   ]
  },
  {
   "cell_type": "markdown",
   "metadata": {},
   "source": [
    "Specify what we're going to run"
   ]
  },
  {
   "cell_type": "code",
   "execution_count": null,
   "metadata": {},
   "outputs": [],
   "source": [
    "region = Region.VICTORIA\n",
    "project = get_project(\"covid_19\", region)\n",
    "targets_path = f\"../../../autumn/projects/covid_19/victoria/victoria/targets.secret.json\"\n",
    "ts_set = TimeSeriesSet.from_file(targets_path)\n",
    "start_time = ref_times_to_dti(REF_DATE, [project.param_set.baseline[\"time\"][\"start\"]])[0]"
   ]
  },
  {
   "cell_type": "code",
   "execution_count": null,
   "metadata": {},
   "outputs": [],
   "source": [
    "new_params = {\n",
    "    \"contact_rate\": 0.073, \n",
    "    \"infectious_seed\": 50,\n",
    "    \"time\": {\"start\": 550},  \n",
    "    \n",
    "    \"mobility\": {\n",
    "        \"microdistancing\": {\n",
    "            \"face_coverings_adjuster\": {\n",
    "                \"parameters\": {\n",
    "                    \"effect\": .15\n",
    "                }\n",
    "            }\n",
    "            \n",
    "        }\n",
    "    },\n",
    "    \n",
    "    \"vaccination\": {\n",
    "        \"program_start_time\": 550,\n",
    "    },\n",
    "    \n",
    "    \"testing_to_detection\": {\n",
    "        \"assumed_cdr_parameter\": .09\n",
    "    },\n",
    "    \n",
    "    \"sojourn\": {\n",
    "        \"compartment_periods_calculated\": {\n",
    "            \"exposed\": {\n",
    "                \"total_period\": 3.  # incubation period shorter for Delta\n",
    "            },\n",
    "            \"active\": {\n",
    "                \"total_period\": 6.\n",
    "            }\n",
    "        }\n",
    "    },\n",
    "    \n",
    "    \"clinical_stratification\": {\n",
    "        \"props\": {\n",
    "            \"hospital\": {\n",
    "                \"multiplier\": 1.5\n",
    "            }\n",
    "        }\n",
    "    }\n",
    "    \n",
    "}"
   ]
  },
  {
   "cell_type": "code",
   "execution_count": null,
   "metadata": {},
   "outputs": [],
   "source": [
    "project.param_set.baseline = project.param_set.baseline.update(new_params)"
   ]
  },
  {
   "cell_type": "markdown",
   "metadata": {},
   "source": [
    "Run the model"
   ]
  },
  {
   "cell_type": "code",
   "execution_count": null,
   "metadata": {},
   "outputs": [],
   "source": [
    "model = project.run_baseline_model(project.param_set.baseline)\n",
    "derived_df = model.get_derived_outputs_df()"
   ]
  },
  {
   "cell_type": "markdown",
   "metadata": {},
   "source": [
    "Specify the outputs"
   ]
  },
  {
   "cell_type": "code",
   "execution_count": null,
   "metadata": {},
   "outputs": [],
   "source": [
    "outputs = (\n",
    "    \"notifications\", \"infection_deaths\", \"hospital_admissions\", \"hospital_occupancy\", \"icu_admissions\", \"icu_occupancy\"\n",
    ")"
   ]
  },
  {
   "cell_type": "markdown",
   "metadata": {},
   "source": [
    "Plot the outputs"
   ]
  },
  {
   "cell_type": "code",
   "execution_count": null,
   "metadata": {},
   "outputs": [],
   "source": [
    "fig, axes = plt.subplots(3, 2, figsize=(12, 15), sharex=\"all\")\n",
    "fig.tight_layout(w_pad=1.5, h_pad=3.5)\n",
    "for i_ax, axis in enumerate(axes.reshape(-1)):\n",
    "    output_name = outputs[i_ax]\n",
    "    output = ts_set.get(output_name)\n",
    "    axis.plot(ref_times_to_dti(REF_DATE, model.times), derived_df[outputs[i_ax]])\n",
    "    axis.plot(derived_df.index, derived_df[outputs[i_ax]])\n",
    "    axis.scatter(ref_times_to_dti(REF_DATE, output.times), output.values, c=\"k\")\n",
    "    axis.tick_params(axis=\"x\", labelrotation=45)\n",
    "    axis.set_title(output_name)\n",
    "    axis.set_xlim(left=start_time)"
   ]
  },
  {
   "cell_type": "markdown",
   "metadata": {},
   "source": [
    "## Inspect the computed value processes around contact tracing"
   ]
  },
  {
   "cell_type": "code",
   "execution_count": null,
   "metadata": {},
   "outputs": [],
   "source": [
    "fig, axes = plt.subplots(2, 2, figsize=(12, 8), sharex=\"all\")\n",
    "fig.tight_layout(w_pad=1.5, h_pad=3.5)\n",
    "\n",
    "derived_df[\"prop_all_traced\"] = derived_df[\"prop_contacts_with_detected_index\"] * derived_df[\"prop_detected_traced\"]\n",
    "\n",
    "computed_processes = (\"prevalence\", \"prop_contacts_with_detected_index\", \"prop_detected_traced\", \"prop_all_traced\")\n",
    "for i_ax, axis in enumerate(axes.reshape(-1)):\n",
    "    process = computed_processes[i_ax]\n",
    "    axis.plot(derived_df.index, derived_df[process])\n",
    "    axis.set_title(process)\n",
    "    axis.tick_params(axis=\"x\", labelrotation=45)\n",
    "    axis.set_xlim(left=start_time)\n",
    "    if i_ax > 0:\n",
    "        axis.set_ylim((0., 1.))"
   ]
  },
  {
   "cell_type": "code",
   "execution_count": null,
   "metadata": {},
   "outputs": [],
   "source": [
    "fig, axis = plt.subplots(1, 1, figsize=(12, 8), sharex=\"all\")\n",
    "\n",
    "axis.fill_between(\n",
    "    derived_df.index, \n",
    "    [0.] * len(derived_df), \n",
    "    derived_df[\"proportion_fully_vaccinated\"], \n",
    "    label=\"fully vaccinated\"\n",
    ")\n",
    "axis.fill_between(\n",
    "    derived_df.index, \n",
    "    derived_df[\"proportion_fully_vaccinated\"], \n",
    "    derived_df[\"at_least_one_dose_prop\"], \n",
    "    label=\"one dose only\"\n",
    ")\n",
    "axis.fill_between(\n",
    "    derived_df.index, \n",
    "    derived_df[\"at_least_one_dose_prop\"], \n",
    "    [1.] * len(derived_df), \n",
    "    label=\"unvaccinated\"\n",
    ")\n",
    "lower_age_limit = 0\n",
    "vacc_times, vacc_coverage = get_both_vacc_coverage(region.upper(), start_age=lower_age_limit)\n",
    "vacc_dates = ref_times_to_dti(BASE_DATETIME, [int(i) for i in vacc_times])  # Converting numpy ints returned\n",
    "lagged_dates = ref_times_to_dti(BASE_DATETIME, [int(i) + 14 for i in vacc_times])\n",
    "axis.plot(vacc_dates, vacc_coverage, color=\"k\", label=\"actual vaccination\")\n",
    "axis.plot(lagged_dates, vacc_coverage, color=\"k\", linestyle=\"--\", label=\"lagged for immunity\")\n",
    "axis.tick_params(axis=\"x\", labelrotation=45)\n",
    "axis.set_title(region)\n",
    "axis.legend()"
   ]
  },
  {
   "cell_type": "code",
   "execution_count": null,
   "metadata": {},
   "outputs": [],
   "source": [
    "[col for col in derived_df if \"pop\" in col]"
   ]
  },
  {
   "cell_type": "code",
   "execution_count": null,
   "metadata": {},
   "outputs": [],
   "source": [
    "derived_df[\"prop_experienced\"] = derived_df[\"propXhistory_experienced\"] / derived_df[\"_total_population\"]"
   ]
  },
  {
   "cell_type": "code",
   "execution_count": null,
   "metadata": {},
   "outputs": [],
   "source": [
    "derived_df[\"prop_experienced\"].plot()"
   ]
  }
 ],
 "metadata": {
  "kernelspec": {
   "display_name": "Python 3",
   "language": "python",
   "name": "python3"
  },
  "language_info": {
   "codemirror_mode": {
    "name": "ipython",
    "version": 3
   },
   "file_extension": ".py",
   "mimetype": "text/x-python",
   "name": "python",
   "nbconvert_exporter": "python",
   "pygments_lexer": "ipython3",
   "version": "3.6.8"
  }
 },
 "nbformat": 4,
 "nbformat_minor": 2
}
