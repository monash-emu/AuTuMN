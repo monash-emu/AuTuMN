{
 "cells": [
  {
   "cell_type": "code",
   "execution_count": null,
   "metadata": {},
   "outputs": [],
   "source": [
    "import datetime\n",
    "import matplotlib.dates as mdates\n",
    "from matplotlib import pyplot as plt\n",
    "import numpy as np\n",
    "import pandas as pd\n",
    "\n",
    "from summer.utils import ref_times_to_dti\n",
    "\n",
    "from autumn.settings import Region\n",
    "from autumn.tools.curve.scale_up import scale_up_function\n",
    "from autumn.tools.project import get_project, TimeSeriesSet\n",
    "from autumn.tools.plots.utils import REF_DATE\n",
    "from autumn.models.covid_19.constants import BASE_DATETIME, AGEGROUP_STRATA\n",
    "from autumn.tools.calibration.targets import get_target_series\n",
    "from autumn.tools.utils.utils import apply_moving_average\n",
    "from autumn.tools.utils.pretty import pretty_print\n",
    "from autumn.tools.inputs.covid_au.queries import get_both_vacc_coverage, get_vic_testing_numbers\n",
    "from autumn.models.covid_19.detection import create_cdr_function\n",
    "from autumn.tools.inputs.demography.queries import get_population_by_agegroup"
   ]
  },
  {
   "cell_type": "markdown",
   "metadata": {},
   "source": [
    "Specify what we're going to run"
   ]
  },
  {
   "cell_type": "code",
   "execution_count": null,
   "metadata": {},
   "outputs": [],
   "source": [
    "region = Region.VICTORIA\n",
    "project = get_project(\"covid_19\", region)\n",
    "targets_path = f\"../../../autumn/projects/covid_19/victoria/victoria/targets.secret.json\"\n",
    "ts_set = TimeSeriesSet.from_file(targets_path)\n",
    "start_time = ref_times_to_dti(REF_DATE, [project.param_set.baseline[\"time\"][\"start\"]])[0]"
   ]
  },
  {
   "cell_type": "code",
   "execution_count": null,
   "metadata": {},
   "outputs": [],
   "source": [
    "new_params = {\n",
    "    \"contact_rate\": 0.043, \n",
    "    \"time\": {\"start\": 525}, \n",
    "    \"vaccination\": {\n",
    "        \"program_start_time\": 525, \n",
    "    },\n",
    "}"
   ]
  },
  {
   "cell_type": "code",
   "execution_count": null,
   "metadata": {},
   "outputs": [],
   "source": [
    "project.param_set.baseline = project.param_set.baseline.update(new_params)"
   ]
  },
  {
   "cell_type": "markdown",
   "metadata": {},
   "source": [
    "Run the model"
   ]
  },
  {
   "cell_type": "code",
   "execution_count": null,
   "metadata": {},
   "outputs": [],
   "source": [
    "model = project.run_baseline_model(project.param_set.baseline)\n",
    "derived_df = model.get_derived_outputs_df()"
   ]
  },
  {
   "cell_type": "markdown",
   "metadata": {},
   "source": [
    "Specify the outputs"
   ]
  },
  {
   "cell_type": "code",
   "execution_count": null,
   "metadata": {},
   "outputs": [],
   "source": [
    "outputs = (\n",
    "    \"notifications\", \"infection_deaths\", \"hospital_admissions\", \"hospital_occupancy\", \"icu_admissions\", \"icu_occupancy\"\n",
    ")"
   ]
  },
  {
   "cell_type": "markdown",
   "metadata": {},
   "source": [
    "Plot the outputs"
   ]
  },
  {
   "cell_type": "code",
   "execution_count": null,
   "metadata": {},
   "outputs": [],
   "source": [
    "fig, axes = plt.subplots(3, 2, figsize=(12, 12), sharex=\"all\")\n",
    "fig.tight_layout(w_pad=1.5, h_pad=3.5)\n",
    "for i_ax, axis in enumerate(axes.reshape(-1)):\n",
    "    output_name = outputs[i_ax]\n",
    "    output = ts_set.get(output_name)\n",
    "    axis.plot(ref_times_to_dti(REF_DATE, model.times), derived_df[outputs[i_ax]])\n",
    "    axis.plot(derived_df.index, derived_df[outputs[i_ax]])\n",
    "    axis.scatter(ref_times_to_dti(REF_DATE, output.times), output.values, c=\"k\")\n",
    "    axis.tick_params(axis=\"x\", labelrotation=45)\n",
    "    axis.set_title(output_name)\n",
    "    axis.set_xlim(left=start_time)"
   ]
  },
  {
   "cell_type": "code",
   "execution_count": null,
   "metadata": {},
   "outputs": [],
   "source": [
    "# Get the CDR function of tests\n",
    "cdr_from_tests_func = create_cdr_function(\n",
    "    project.param_set.baseline[\"testing_to_detection\"][\"assumed_tests_parameter\"],\n",
    "    project.param_set.baseline[\"testing_to_detection\"][\"assumed_cdr_parameter\"],\n",
    ")\n",
    "\n",
    "# Get the denominator population\n",
    "testing_pops = get_population_by_agegroup(\n",
    "    AGEGROUP_STRATA, project.param_set.baseline[\"country\"][\"iso3\"], \"Victoria\", \n",
    "    year=project.param_set.baseline[\"population\"][\"year\"]\n",
    ")\n",
    "\n",
    "# Process the data\n",
    "test_times, test_values = get_vic_testing_numbers()\n",
    "test_dates = ref_times_to_dti(BASE_DATETIME, [int(time) for time in test_times])\n",
    "per_capita_tests = [i_tests / sum(testing_pops) for i_tests in test_values]\n",
    "dummy_tests = np.linspace(0, max(per_capita_tests), 200)\n",
    "if project.param_set.baseline[\"testing_to_detection\"][\"assumed_tests_parameter\"]:\n",
    "    smoothed_per_capita_tests = apply_moving_average(\n",
    "        per_capita_tests, project.param_set.baseline[\"testing_to_detection\"][\"smoothing_period\"]\n",
    "    )\n",
    "else:\n",
    "    smoothed_per_capita_tests = per_capita_tests\n",
    "    \n",
    "cdr_function_of_time = scale_up_function(\n",
    "    test_times,\n",
    "    [cdr_from_tests_func(test_rate) for test_rate in smoothed_per_capita_tests],\n",
    "    smoothness=0.2, method=4, bound_low=0.,\n",
    ")    \n",
    "\n",
    "# Plot\n",
    "fig, axes = plt.subplots(2, 2, figsize=(12, 8))\n",
    "fig.tight_layout(w_pad=1.5, h_pad=5)\n",
    "\n",
    "# Plot daily number of tests\n",
    "axis = axes[0, 0]\n",
    "axis.plot(test_dates, test_values, marker=\"o\")\n",
    "axis.tick_params(axis=\"x\", labelrotation=45)\n",
    "axis.set_title(\"daily testing numbers\")\n",
    "axis.set_xlim(left=start_time)\n",
    "\n",
    "# Plot daily number of tests\n",
    "axis = axes[0, 1]\n",
    "axis.plot(test_dates, per_capita_tests, label=\"raw\")\n",
    "axis.plot(test_dates, smoothed_per_capita_tests, label=\"smoothed\")\n",
    "axis.tick_params(axis=\"x\", labelrotation=45)\n",
    "axis.set_xlim(left=start_time)\n",
    "axis.set_title(\"daily per capita testing rate\")\n",
    "axis.legend()\n",
    "\n",
    "# Plot relationship of daily tests to CDR proportion\n",
    "axis = axes[1, 0]\n",
    "axis.plot(dummy_tests, cdr_from_tests_func(dummy_tests))\n",
    "axis.scatter(per_capita_tests, [cdr_from_tests_func(i_tests) for i_tests in per_capita_tests], color=\"r\")\n",
    "axis.set_ylabel(\"case detection proportion\")\n",
    "axis.set_xlabel(\"per capita testing rate\")\n",
    "axis.set_title(\"daily per capita tests to CDR relationship\")\n",
    "axis.set_ylim([0., 1.])\n",
    "\n",
    "# Plot CDR values\n",
    "axis = axes[1, 1]\n",
    "axis.scatter(test_dates, [cdr_from_tests_func(i_test_rate) for i_test_rate in smoothed_per_capita_tests], color=\"r\")\n",
    "axis.plot(test_dates, [cdr_function_of_time(time) for time in test_times])\n",
    "axis.set_title(\"final case detection rate\")\n",
    "axis.set_ylabel(\"proportion\")\n",
    "axis.tick_params(axis=\"x\", labelrotation=45)\n",
    "axis.set_xlim(left=start_time)\n",
    "axis.set_ylim([0., 1.])\n",
    "\n",
    "fig.tight_layout()"
   ]
  },
  {
   "cell_type": "markdown",
   "metadata": {},
   "source": [
    "## Inspect the computed value processes around contact tracing"
   ]
  },
  {
   "cell_type": "code",
   "execution_count": null,
   "metadata": {},
   "outputs": [],
   "source": [
    "fig, axes = plt.subplots(2, 2, figsize=(12, 8), sharex=\"all\")\n",
    "fig.tight_layout(w_pad=1.5, h_pad=3.5)\n",
    "\n",
    "derived_df[\"prop_all_traced\"] = derived_df[\"prop_contacts_with_detected_index\"] * derived_df[\"prop_detected_traced\"]\n",
    "\n",
    "computed_processes = (\"prevalence\", \"prop_contacts_with_detected_index\", \"prop_detected_traced\", \"prop_all_traced\")\n",
    "for i_ax, axis in enumerate(axes.reshape(-1)):\n",
    "    process = computed_processes[i_ax]\n",
    "    axis.plot(derived_df.index, derived_df[process])\n",
    "    axis.set_title(process)\n",
    "    axis.tick_params(axis=\"x\", labelrotation=45)\n",
    "    axis.set_xlim(left=start_time)\n",
    "    if i_ax > 0:\n",
    "        axis.set_ylim((0., 1.))"
   ]
  },
  {
   "cell_type": "code",
   "execution_count": null,
   "metadata": {},
   "outputs": [],
   "source": [
    "fig, axis = plt.subplots(1, 1, figsize=(12, 8), sharex=\"all\")\n",
    "\n",
    "axis.fill_between(\n",
    "    derived_df.index, \n",
    "    [0.] * len(derived_df), \n",
    "    derived_df[\"proportion_fully_vaccinated\"], \n",
    "    label=\"fully vaccinated\"\n",
    ")\n",
    "axis.fill_between(\n",
    "    derived_df.index, \n",
    "    derived_df[\"proportion_fully_vaccinated\"], \n",
    "    derived_df[\"at_least_one_dose_prop\"], \n",
    "    label=\"one dose only\"\n",
    ")\n",
    "axis.fill_between(\n",
    "    derived_df.index, \n",
    "    derived_df[\"at_least_one_dose_prop\"], \n",
    "    [1.] * len(derived_df), \n",
    "    label=\"unvaccinated\"\n",
    ")\n",
    "lower_age_limit = 0\n",
    "vacc_times, vacc_coverage = get_both_vacc_coverage(region.upper(), start_age=lower_age_limit)\n",
    "vacc_dates = ref_times_to_dti(BASE_DATETIME, [int(i) for i in vacc_times])  # Converting numpy ints returned\n",
    "lagged_dates = ref_times_to_dti(BASE_DATETIME, [int(i) + 14 for i in vacc_times])\n",
    "axis.plot(vacc_dates, vacc_coverage, color=\"k\", label=\"actual vaccination\")\n",
    "axis.plot(lagged_dates, vacc_coverage, color=\"k\", linestyle=\"--\", label=\"lagged for immunity\")\n",
    "axis.tick_params(axis=\"x\", labelrotation=45)\n",
    "axis.set_title(region)\n",
    "axis.legend()"
   ]
  },
  {
   "cell_type": "code",
   "execution_count": null,
   "metadata": {},
   "outputs": [],
   "source": [
    "derived_df[\"prop_ever_infected\"].plot(title=\"prop_ever_infected\")"
   ]
  }
 ],
 "metadata": {
  "kernelspec": {
   "display_name": "Python 3",
   "language": "python",
   "name": "python3"
  },
  "language_info": {
   "codemirror_mode": {
    "name": "ipython",
    "version": 3
   },
   "file_extension": ".py",
   "mimetype": "text/x-python",
   "name": "python",
   "nbconvert_exporter": "python",
   "pygments_lexer": "ipython3",
   "version": "3.6.13"
  }
 },
 "nbformat": 4,
 "nbformat_minor": 2
}
