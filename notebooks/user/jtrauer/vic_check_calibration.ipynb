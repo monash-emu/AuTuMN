{
 "cells": [
  {
   "cell_type": "code",
   "execution_count": null,
   "metadata": {},
   "outputs": [],
   "source": [
    "from autumn.tools.project import get_project\n",
    "from matplotlib import pyplot as plt\n",
    "import matplotlib.dates as mdates\n",
    "\n",
    "from autumn.tools.plots.utils import REF_DATE\n",
    "from autumn.models.covid_19.constants import BASE_DATETIME\n",
    "from autumn.tools.calibration.targets import get_target_series\n",
    "import pandas as pd\n",
    "from autumn.tools.utils.pretty import pretty_print\n",
    "from autumn.tools.inputs.covid_au.queries import get_both_vacc_coverage\n",
    "from summer.utils import ref_times_to_dti"
   ]
  },
  {
   "cell_type": "code",
   "execution_count": null,
   "metadata": {},
   "outputs": [],
   "source": [
    "region = \"barwon-south-west\"\n",
    "project = get_project(\"covid_19\", region)"
   ]
  },
  {
   "cell_type": "code",
   "execution_count": null,
   "metadata": {},
   "outputs": [],
   "source": [
    "custom_params = project.param_set.baseline#.update(dict(contact_rate = 0.125))\n",
    "model = project.run_baseline_model(custom_params)\n",
    "derived_df = model.get_derived_outputs_df()\n",
    "scenarios = project.run_scenario_models(model, project.param_set.scenarios)"
   ]
  },
  {
   "cell_type": "code",
   "execution_count": null,
   "metadata": {},
   "outputs": [],
   "source": [
    "sc_derived_df = scenarios[0].get_derived_outputs_df()"
   ]
  },
  {
   "cell_type": "code",
   "execution_count": null,
   "metadata": {},
   "outputs": [],
   "source": [
    "# pretty_print(project.param_set.baseline)"
   ]
  },
  {
   "cell_type": "code",
   "execution_count": null,
   "metadata": {},
   "outputs": [],
   "source": [
    "outputs = (\"notifications\", \"hospital_admissions\")"
   ]
  },
  {
   "cell_type": "code",
   "execution_count": null,
   "metadata": {},
   "outputs": [],
   "source": [
    "# pretty_print(custom_params)"
   ]
  },
  {
   "cell_type": "code",
   "execution_count": null,
   "metadata": {},
   "outputs": [],
   "source": [
    "fig, axes = plt.subplots(1, 2, figsize=(12, 8), sharex=\"all\")\n",
    "fig.tight_layout(w_pad=1.5, h_pad=3.5)\n",
    "\n",
    "for i_ax, axis in enumerate(axes.reshape(-1)):\n",
    "    out = outputs[i_ax]\n",
    "    target_dates, target_values = get_target_series(project.calibration.targets, REF_DATE, outputs[i_ax])\n",
    "    axis.plot(ref_times_to_dti(REF_DATE, model.times), derived_df[outputs[i_ax]])\n",
    "    axis.plot(ref_times_to_dti(REF_DATE, scenarios[0].times), sc_derived_df[outputs[i_ax]])\n",
    "    axis.scatter(target_dates, target_values, c=\"k\")\n",
    "    axis.tick_params(axis=\"x\", labelrotation=45)\n",
    "    axis.set_title(out)"
   ]
  },
  {
   "cell_type": "code",
   "execution_count": null,
   "metadata": {},
   "outputs": [],
   "source": [
    "fig = plt.figure(figsize=(12, 8))\n",
    "axis = fig.add_subplot()\n",
    "axis.fill_between(derived_df.index, [0.] * len(derived_df), derived_df[\"proportion_fully_vaccinated\"], label=\"fully vaccinated\")\n",
    "axis.fill_between(derived_df.index, derived_df[\"proportion_fully_vaccinated\"], derived_df[\"at_least_one_dose_prop\"], label=\"one dose only\")\n",
    "axis.fill_between(derived_df.index, derived_df[\"at_least_one_dose_prop\"], [1.] * len(derived_df), label=\"unvaccinated\")\n",
    "vacc_times, vacc_coverage = get_both_vacc_coverage(region.upper().replace(\"-\", \"_\"))\n",
    "vacc_dates = ref_times_to_dti(BASE_DATETIME, [int(i) for i in vacc_times])  # Converting numpy ints returned\n",
    "lagged_dates = ref_times_to_dti(BASE_DATETIME, [int(i) + 14 for i in vacc_times])\n",
    "axis.plot(vacc_dates, vacc_coverage, color=\"k\", label=\"actual vaccination\")\n",
    "axis.plot(lagged_dates, vacc_coverage, color=\"k\", linestyle=\"--\", label=\"lagged for immunity\")\n",
    "axis.tick_params(axis=\"x\", labelrotation=45)\n",
    "axis.legend()"
   ]
  }
 ],
 "metadata": {
  "kernelspec": {
   "display_name": "Python 3",
   "language": "python",
   "name": "python3"
  },
  "language_info": {
   "codemirror_mode": {
    "name": "ipython",
    "version": 3
   },
   "file_extension": ".py",
   "mimetype": "text/x-python",
   "name": "python",
   "nbconvert_exporter": "python",
   "pygments_lexer": "ipython3",
   "version": "3.6.13"
  }
 },
 "nbformat": 4,
 "nbformat_minor": 2
}
