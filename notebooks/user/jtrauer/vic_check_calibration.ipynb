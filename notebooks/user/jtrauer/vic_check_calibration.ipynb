{
 "cells": [
  {
   "cell_type": "code",
   "execution_count": null,
   "metadata": {},
   "outputs": [],
   "source": [
    "from autumn.tools.project import get_project\n",
    "from matplotlib import pyplot as plt\n",
    "import matplotlib.dates as mdates\n",
    "\n",
    "from autumn.tools.plots.utils import REF_DATE\n",
    "from autumn.models.covid_19.constants import BASE_DATETIME\n",
    "from autumn.tools.calibration.targets import get_target_series\n",
    "import pandas as pd\n",
    "from autumn.tools.utils.pretty import pretty_print\n",
    "from summer.utils import ref_times_to_dti"
   ]
  },
  {
   "cell_type": "code",
   "execution_count": null,
   "metadata": {},
   "outputs": [],
   "source": [
    "region = \"barwon-south-west\"\n",
    "project = get_project(\"covid_19\", region)"
   ]
  },
  {
   "cell_type": "code",
   "execution_count": null,
   "metadata": {},
   "outputs": [],
   "source": [
    "custom_params = project.param_set.baseline\n",
    "model = project.run_baseline_model(custom_params)\n",
    "derived_df = model.get_derived_outputs_df()"
   ]
  },
  {
   "cell_type": "code",
   "execution_count": null,
   "metadata": {},
   "outputs": [],
   "source": [
    "outputs = (\n",
    "    \"notifications\", \n",
    "    \"infection_deaths\", \n",
    "    \"hospital_admissions\",\n",
    "    \"hospital_occupancy\",\n",
    "    \"icu_admissions\", \n",
    "    \"icu_occupancy\"\n",
    ")"
   ]
  },
  {
   "cell_type": "code",
   "execution_count": null,
   "metadata": {},
   "outputs": [],
   "source": [
    "target_dates, target_values = get_target_series(project.calibration.targets, REF_DATE, \"hospital_occupancy\")"
   ]
  },
  {
   "cell_type": "code",
   "execution_count": null,
   "metadata": {},
   "outputs": [],
   "source": [
    "fig, axes = plt.subplots(3, 2, figsize=(12, 15), sharex=\"all\")\n",
    "fig.tight_layout(w_pad=1.5, h_pad=3.5)\n",
    "\n",
    "for i_ax, axis in enumerate(axes.reshape(-1)):\n",
    "    out = outputs[i_ax]\n",
    "    target_dates, target_values = get_target_series(project.calibration.targets, REF_DATE, outputs[i_ax])\n",
    "    axis.plot(ref_times_to_dti(REF_DATE, model.times), derived_df[outputs[i_ax]])\n",
    "    axis.plot(ref_times_to_dti(REF_DATE, model.times), derived_df[outputs[i_ax]])\n",
    "    axis.scatter(target_dates, target_values, c=\"k\")\n",
    "    axis.tick_params(axis=\"x\", labelrotation=45)\n",
    "    axis.set_title(out)"
   ]
  }
 ],
 "metadata": {
  "kernelspec": {
   "display_name": "Python 3",
   "language": "python",
   "name": "python3"
  },
  "language_info": {
   "codemirror_mode": {
    "name": "ipython",
    "version": 3
   },
   "file_extension": ".py",
   "mimetype": "text/x-python",
   "name": "python",
   "nbconvert_exporter": "python",
   "pygments_lexer": "ipython3",
   "version": "3.6.13"
  }
 },
 "nbformat": 4,
 "nbformat_minor": 2
}
