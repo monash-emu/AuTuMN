{
 "cells": [
  {
   "cell_type": "code",
   "execution_count": null,
   "metadata": {},
   "outputs": [],
   "source": [
    "from autumn.tools.project import get_project\n",
    "from matplotlib import pyplot\n",
    "from autumn.tools.plots.utils import REF_DATE\n",
    "from autumn.models.covid_19.constants import BASE_DATETIME\n",
    "from autumn.tools.calibration.targets import get_target_series\n",
    "import pandas as pd\n",
    "from autumn.tools.utils.pretty import pretty_print\n",
    "from autumn.tools.inputs.covid_au.queries import get_dhhs_vaccination_numbers\n",
    "from summer.utils import ref_times_to_dti"
   ]
  },
  {
   "cell_type": "code",
   "execution_count": null,
   "metadata": {},
   "outputs": [],
   "source": [
    "region = \"north-metro\"\n",
    "project = get_project(\"covid_19\", region)"
   ]
  },
  {
   "cell_type": "code",
   "execution_count": null,
   "metadata": {},
   "outputs": [],
   "source": [
    "custom_params = project.param_set.baseline#.update(dict(contact_rate = 0.1))\n",
    "model = project.run_baseline_model(custom_params)\n",
    "derived_df = model.get_derived_outputs_df()"
   ]
  },
  {
   "cell_type": "code",
   "execution_count": null,
   "metadata": {},
   "outputs": [],
   "source": [
    "output = \"notifications\"\n",
    "notif_dates, notif_values = get_target_series(project.calibration.targets, REF_DATE, output)"
   ]
  },
  {
   "cell_type": "code",
   "execution_count": null,
   "metadata": {},
   "outputs": [],
   "source": [
    "# pretty_print(custom_params)"
   ]
  },
  {
   "cell_type": "code",
   "execution_count": null,
   "metadata": {},
   "outputs": [],
   "source": [
    "fig = pyplot.figure(figsize=(12, 8))\n",
    "axis = fig.add_subplot()\n",
    "axis = derived_df[output].plot()\n",
    "axis.scatter(notif_dates, notif_values, c=\"k\")\n",
    "fig.show()"
   ]
  },
  {
   "cell_type": "code",
   "execution_count": null,
   "metadata": {},
   "outputs": [],
   "source": [
    "fig = pyplot.figure(figsize=(12, 8))\n",
    "axis = fig.add_subplot()\n",
    "axis.fill_between(derived_df.index, [0.] * len(derived_df), derived_df[\"proportion_vaccinated\"], label=\"fully vaccinated\")\n",
    "axis.fill_between(derived_df.index, derived_df[\"proportion_vaccinated\"], derived_df[\"at_least_one_dose_prop\"], label=\"one dose only\")\n",
    "axis.fill_between(derived_df.index, derived_df[\"at_least_one_dose_prop\"], [1.] * len(derived_df), label=\"unvaccinated\")\n",
    "vacc_times, vacc_coverage = get_dhhs_vaccination_numbers(region.upper().replace(\"-\", \"_\"), start_age=0)\n",
    "vacc_dates = ref_times_to_dti(BASE_DATETIME, [int(i) for i in vacc_times])  # Converting numpy ints returned\n",
    "lagged_vacc_dates = ref_times_to_dti(BASE_DATETIME, [int(i) + 14 for i in vacc_times])\n",
    "axis.plot(vacc_dates, vacc_coverage, color=\"k\", label=\"actual vaccination\")\n",
    "axis.plot(lagged_vacc_dates, vacc_coverage, color=\"k\", linestyle=\"--\", label=\"lagged for immunity\")\n",
    "axis.tick_params(axis=\"x\", labelrotation=45)\n",
    "axis.legend()\n"
   ]
  }
 ],
 "metadata": {
  "kernelspec": {
   "display_name": "Python 3",
   "language": "python",
   "name": "python3"
  },
  "language_info": {
   "codemirror_mode": {
    "name": "ipython",
    "version": 3
   },
   "file_extension": ".py",
   "mimetype": "text/x-python",
   "name": "python",
   "nbconvert_exporter": "python",
   "pygments_lexer": "ipython3",
   "version": "3.6.13"
  }
 },
 "nbformat": 4,
 "nbformat_minor": 2
}
