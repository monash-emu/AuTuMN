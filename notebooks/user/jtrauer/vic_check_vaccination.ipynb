{
 "cells": [
  {
   "cell_type": "code",
   "execution_count": null,
   "id": "ca290ba8",
   "metadata": {},
   "outputs": [],
   "source": [
    "from matplotlib import pyplot as plt\n",
    "\n",
    "from summer.utils import ref_times_to_dti\n",
    "\n",
    "from autumn.settings.region import Region\n",
    "from autumn.tools.inputs.covid_au.queries import get_both_vacc_coverage\n",
    "from autumn.tools.project import get_project\n",
    "from autumn.models.covid_19.constants import BASE_DATETIME"
   ]
  },
  {
   "cell_type": "markdown",
   "id": "02784b71",
   "metadata": {},
   "source": [
    "## Run all the cluster models\n",
    "Can't yet run the North-East Metro region, until we have other code issues sorted."
   ]
  },
  {
   "cell_type": "code",
   "execution_count": null,
   "id": "719d0f7e",
   "metadata": {},
   "outputs": [],
   "source": [
    "derived_dfs = {}\n",
    "regions = [region for region in Region.VICTORIA_SUBREGIONS if \"north\" not in region]  # Currently working subregions\n",
    "for region in regions:\n",
    "    project = get_project(\"covid_19\", region)\n",
    "    model = project.run_baseline_model(project.param_set.baseline)\n",
    "    derived_dfs[region] = model.get_derived_outputs_df()"
   ]
  },
  {
   "cell_type": "markdown",
   "id": "4377649c",
   "metadata": {},
   "source": [
    "## Plot the vaccination coverage"
   ]
  },
  {
   "cell_type": "code",
   "execution_count": null,
   "id": "8f9d9877",
   "metadata": {},
   "outputs": [],
   "source": [
    "fig, axes = plt.subplots(4, 2, figsize=(12, 20), sharex=\"all\")\n",
    "fig.tight_layout(w_pad=1.5, h_pad=3.5)\n",
    "\n",
    "for i_ax, axis in enumerate(axes.reshape(-1)[:-1]):\n",
    "    axis.fill_between(\n",
    "        derived_dfs[regions[i_ax]].index, \n",
    "        [0.] * len(derived_dfs[regions[i_ax]]), \n",
    "        derived_dfs[regions[i_ax]][\"proportion_fully_vaccinated\"], \n",
    "        label=\"fully vaccinated\"\n",
    "    )\n",
    "    axis.fill_between(\n",
    "        derived_dfs[regions[i_ax]].index, \n",
    "        derived_dfs[regions[i_ax]][\"proportion_fully_vaccinated\"], \n",
    "        derived_dfs[regions[i_ax]][\"at_least_one_dose_prop\"], \n",
    "        label=\"one dose only\"\n",
    "    )\n",
    "    axis.fill_between(\n",
    "        derived_dfs[regions[i_ax]].index, \n",
    "        derived_dfs[regions[i_ax]][\"at_least_one_dose_prop\"], \n",
    "        [1.] * len(derived_dfs[regions[i_ax]]), \n",
    "        label=\"unvaccinated\"\n",
    "    )\n",
    "    vacc_times, vacc_coverage = get_both_vacc_coverage(regions[i_ax].upper().replace(\"-\", \"_\"))\n",
    "    vacc_dates = ref_times_to_dti(BASE_DATETIME, [int(i) for i in vacc_times])  # Converting numpy ints returned\n",
    "    lagged_dates = ref_times_to_dti(BASE_DATETIME, [int(i) + 14 for i in vacc_times])\n",
    "    axis.plot(vacc_dates, vacc_coverage, color=\"k\", label=\"actual vaccination\")\n",
    "    axis.plot(lagged_dates, vacc_coverage, color=\"k\", linestyle=\"--\", label=\"lagged for immunity\")\n",
    "    axis.tick_params(axis=\"x\", labelrotation=45)\n",
    "    axis.set_title(regions[i_ax])\n",
    "    if i_ax == len(axes.reshape(-1)) - 2:\n",
    "        axis.legend()"
   ]
  },
  {
   "cell_type": "code",
   "execution_count": null,
   "id": "4c01aeea",
   "metadata": {},
   "outputs": [],
   "source": []
  }
 ],
 "metadata": {
  "kernelspec": {
   "display_name": "Python 3",
   "language": "python",
   "name": "python3"
  },
  "language_info": {
   "codemirror_mode": {
    "name": "ipython",
    "version": 3
   },
   "file_extension": ".py",
   "mimetype": "text/x-python",
   "name": "python",
   "nbconvert_exporter": "python",
   "pygments_lexer": "ipython3",
   "version": "3.6.13"
  }
 },
 "nbformat": 4,
 "nbformat_minor": 5
}
