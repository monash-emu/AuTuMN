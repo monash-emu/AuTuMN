{
 "cells": [
  {
   "cell_type": "code",
   "execution_count": null,
   "id": "casual-nightlife",
   "metadata": {},
   "outputs": [],
   "source": [
    "import pandas as pd\n",
    "from matplotlib import pyplot as plt\n",
    "import datetime\n",
    "\n",
    "from summer.utils import ref_times_to_dti\n",
    "\n",
    "from autumn.tools.plots.utils import REF_DATE\n",
    "from autumn.tools.runs import ManagedRun\n",
    "from autumn.tools.runs.calibration.utils import get_posteriors\n",
    "from autumn.tools.utils.pandas import pdfilt\n",
    "from autumn.settings.region import Region"
   ]
  },
  {
   "cell_type": "markdown",
   "id": "f1049ee1",
   "metadata": {},
   "source": [
    "## Specify the runs of interest"
   ]
  },
  {
   "cell_type": "code",
   "execution_count": null,
   "id": "mental-queensland",
   "metadata": {},
   "outputs": [],
   "source": [
    "run_ids, mrs, pbis, results, targets = {}, {}, {}, {}, {}\n",
    "run_ids[\"west-metro\"] = \"covid_19/west-metro/1635166421/153a938\"\n",
    "run_ids[\"barwon-south-west\"] = \"covid_19/barwon-south-west/1635203341/e17f4a0\"\n",
    "run_ids[\"gippsland\"] = \"covid_19/gippsland/1635166443/153a938\"\n",
    "run_ids[\"grampians\"] = \"covid_19/grampians/1635166473/153a938\"\n",
    "run_ids[\"hume\"] = \"covid_19/hume/1635166677/153a938\"\n",
    "run_ids[\"loddon-mallee\"] = \"covid_19/loddon-mallee/1635166635/153a938\"\n",
    "run_ids[\"north-east-metro\"] = \"covid_19/north-east-metro/1635204422/94ea65b\"\n",
    "run_ids[\"south-east-metro\"] = \"covid_19/south-east-metro/1635166421/153a938\""
   ]
  },
  {
   "cell_type": "code",
   "execution_count": null,
   "id": "7367a1be",
   "metadata": {},
   "outputs": [],
   "source": [
    "scenario_names = [\"baseline\", \"roadmap scenario\"]\n",
    "plot_left_date = datetime.date(2021, 8, 2)"
   ]
  },
  {
   "cell_type": "code",
   "execution_count": null,
   "id": "perceived-tracker",
   "metadata": {},
   "outputs": [],
   "source": [
    "for region in Region.VICTORIA_SUBREGIONS:\n",
    "    mrs[region] = ManagedRun(run_ids[region])\n",
    "    pbis[region] = mrs[region].powerbi.get_db()\n",
    "    results[region] = pbis[region].get_uncertainty()\n",
    "    targets[region] = pbis[region].get_targets()"
   ]
  },
  {
   "cell_type": "code",
   "execution_count": null,
   "id": "e54e2753",
   "metadata": {},
   "outputs": [],
   "source": [
    "full_runs = {}\n",
    "for region in Region.VICTORIA_SUBREGIONS:\n",
    "    full_runs[region] = mrs[region].full_run.get_derived_outputs()"
   ]
  },
  {
   "cell_type": "code",
   "execution_count": null,
   "id": "8a0b1405",
   "metadata": {},
   "outputs": [],
   "source": [
    "plot_left_date = datetime.date(2021, 9, 1)\n",
    "fig, axes = plt.subplots(4, 2, figsize=(12, 20), sharex=\"all\")\n",
    "output = \"notifications\"\n",
    "for i_ax, axis in enumerate(axes.reshape(-1)):\n",
    "    region = Region.VICTORIA_SUBREGIONS[i_ax]\n",
    "    full_run = full_runs[region]\n",
    "    scenario_chain = (full_run[\"scenario\"] == 0) & (full_run[\"chain\"] == 0)\n",
    "    for i_run in full_run[scenario_chain][\"run\"].unique():\n",
    "        selection = full_run[(full_run[\"run\"] == i_run) & scenario_chain]\n",
    "        axis.plot(ref_times_to_dti(REF_DATE, selection[\"times\"]), selection[output])\n",
    "    if output in targets[region]:\n",
    "        axis.scatter(targets[region].index, targets[region][output], color=\"k\", s=10, alpha=0.5, zorder=10)\n",
    "    axis.set_title(region)\n",
    "    axis.tick_params(axis=\"x\", labelrotation=45)\n",
    "    axis.set_xlim(left=plot_left_date)"
   ]
  },
  {
   "cell_type": "code",
   "execution_count": null,
   "id": "8374d183",
   "metadata": {},
   "outputs": [],
   "source": [
    "def plot_outputs(output, scenario):\n",
    "    fig, axes = plt.subplots(4, 2, figsize=(12, 20), sharex=\"all\")\n",
    "    colour = (0.2, 0.2, 0.8)\n",
    "    for i_ax, axis in enumerate(axes.reshape(-1)):\n",
    "        region = Region.VICTORIA_SUBREGIONS[i_ax]\n",
    "        results_df = results[region][(output, scenario)]\n",
    "        indices = results_df.index\n",
    "        axis.fill_between(indices, results_df[0.01], results_df[0.99], color=colour, alpha=0.1)\n",
    "        axis.fill_between(indices, results_df[0.025], results_df[0.975], color=colour, alpha=0.5)\n",
    "        axis.fill_between(indices, results_df[0.25], results_df[0.75], color=colour, alpha=0.7)\n",
    "        axis.plot(indices, results_df[0.500], color=\"b\", linestyle=\"--\")\n",
    "        if output in targets[region]:\n",
    "            axis.scatter(targets[region].index, targets[region][output], color=\"k\", alpha=0.5, s=10)\n",
    "        axis.tick_params(axis=\"x\", labelrotation=45)\n",
    "        axis.set_xlim(left=plot_left_date)\n",
    "        axis.set_title(region)\n",
    "    fig.suptitle(f\"{output} under {scenario_names[scenario]} conditions\")\n",
    "    fig.tight_layout()"
   ]
  },
  {
   "cell_type": "code",
   "execution_count": null,
   "id": "fc6f1006",
   "metadata": {},
   "outputs": [],
   "source": [
    "outputs = (\n",
    "    \"notifications\", \"infection_deaths\", \"hospital_admissions\", \"hospital_occupancy\", \"icu_admissions\", \"icu_occupancy\"\n",
    ")\n",
    "\n",
    "for scenario in [0, 1]:\n",
    "    for output in outputs:\n",
    "        plot_outputs(output, scenario)\n",
    "        \n",
    "# plot_outputs(\"notifications\", 0)"
   ]
  },
  {
   "cell_type": "code",
   "execution_count": null,
   "id": "19dc3974",
   "metadata": {},
   "outputs": [],
   "source": [
    "mcmc_params = mrs[region].calibration.get_mcmc_params()\n",
    "\n",
    "fig, axes = plt.subplots(3, 2, figsize=(12, 18))\n",
    "for i_ax, axis in enumerate(axes.reshape(-1)[:5]):\n",
    "    axis.hist(mcmc_params.iloc[:, i_ax])\n",
    "    axis.set_title(mcmc_params.columns[i_ax])"
   ]
  }
 ],
 "metadata": {
  "kernelspec": {
   "display_name": "Python 3",
   "language": "python",
   "name": "python3"
  },
  "language_info": {
   "codemirror_mode": {
    "name": "ipython",
    "version": 3
   },
   "file_extension": ".py",
   "mimetype": "text/x-python",
   "name": "python",
   "nbconvert_exporter": "python",
   "pygments_lexer": "ipython3",
   "version": "3.6.13"
  }
 },
 "nbformat": 4,
 "nbformat_minor": 5
}
