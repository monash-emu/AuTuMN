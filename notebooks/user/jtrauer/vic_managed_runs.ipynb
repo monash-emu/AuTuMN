{
 "cells": [
  {
   "cell_type": "code",
   "execution_count": null,
   "id": "casual-nightlife",
   "metadata": {},
   "outputs": [],
   "source": [
    "import pandas as pd\n",
    "from matplotlib import pyplot as plt\n",
    "import datetime"
   ]
  },
  {
   "cell_type": "code",
   "execution_count": null,
   "id": "running-burton",
   "metadata": {},
   "outputs": [],
   "source": [
    "from autumn.tools.runs import ManagedRun\n",
    "\n",
    "from autumn.tools.runs.calibration.utils import get_posteriors\n",
    "from autumn.tools.utils.pandas import pdfilt"
   ]
  },
  {
   "cell_type": "code",
   "execution_count": null,
   "id": "mental-queensland",
   "metadata": {},
   "outputs": [],
   "source": [
    "run_ids, mrs, mcmc_runs, pbis, results, targets = {}, {}, {}, {}, {}, {}\n",
    "run_ids[\"west-metro\"] = \"covid_19/west-metro/1635166421/153a938\"\n",
    "run_ids[\"barwon-south-west\"] = \"covid_19/barwon-south-west/1635203341/e17f4a0\"\n",
    "run_ids[\"gippsland\"] = \"covid_19/gippsland/1635166443/153a938\"\n",
    "run_ids[\"grampians\"] = \"covid_19/grampians/1635166473/153a938\"\n",
    "run_ids[\"hume\"] = \"covid_19/hume/1635166677/153a938\"\n",
    "run_ids[\"loddon-mallee\"] = \"covid_19/loddon-mallee/1635166635/153a938\"\n",
    "run_ids[\"north-east-metro\"] = \"covid_19/north-east-metro/1635204422/94ea65b\"\n",
    "run_ids[\"south-east-metro\"] = \"covid_19/south-east-metro/1635166421/153a938\""
   ]
  },
  {
   "cell_type": "code",
   "execution_count": null,
   "id": "perceived-tracker",
   "metadata": {},
   "outputs": [],
   "source": [
    "regions = (\"west-metro\", \"barwon-south-west\", \"gippsland\", \"grampians\", \"hume\", \"loddon-mallee\", \"north-east-metro\", \"south-east-metro\")\n",
    "for region in regions:\n",
    "    mrs[region] = ManagedRun(run_ids[region])\n",
    "    mcmc_runs[region] = mrs[region].calibration.get_mcmc_runs()\n",
    "    pbis[region] = mrs[region].powerbi.get_db()\n",
    "    results[region] = pbis[region].get_uncertainty()\n",
    "    targets[region] = pbis[region].get_targets()"
   ]
  },
  {
   "cell_type": "code",
   "execution_count": null,
   "id": "ce65076a",
   "metadata": {},
   "outputs": [],
   "source": [
    "outputs = (\"notifications\",)\n",
    "\n",
    "plot_left_date = datetime.date(2021, 8, 2)\n",
    "\n",
    "\n",
    "\n",
    "for scenario in [0, 1]:\n",
    "    fig, axes = plt.subplots(4, 2, figsize=(12, 20), sharex=\"all\")\n",
    "\n",
    "    for i_ax, axis in enumerate(axes.reshape(-1)[:8]):\n",
    "\n",
    "        output = \"notifications\"\n",
    "        region = regions[i_ax]\n",
    "\n",
    "        colour = (0.2, 0.2, 0.8)\n",
    "\n",
    "        axis.fill_between(results[region].index, results[region][(output, scenario, 0.01)], results[region][(output, scenario, 0.99)], color=colour, alpha=0.1)\n",
    "        axis.fill_between(results[region].index, results[region][(output, scenario, 0.025)], results[region][(output, scenario, 0.975)], color=colour, alpha=0.5)\n",
    "        axis.fill_between(results[region].index, results[region][(output, scenario, 0.25)], results[region][(output, scenario, 0.75)], color=colour, alpha=0.7)\n",
    "        axis.plot(results[region].index, results[region][(output, scenario, 0.500)], color=\"b\", linestyle=\"--\")\n",
    "\n",
    "        axis.scatter(targets[region].index, targets[region][output], color=\"k\", alpha=0.5, s=10)\n",
    "        axis.tick_params(axis=\"x\", labelrotation=45)\n",
    "        axis.set_xlim(left=plot_left_date)\n",
    "        axis.set_title(region)"
   ]
  }
 ],
 "metadata": {
  "kernelspec": {
   "display_name": "Python 3",
   "language": "python",
   "name": "python3"
  },
  "language_info": {
   "codemirror_mode": {
    "name": "ipython",
    "version": 3
   },
   "file_extension": ".py",
   "mimetype": "text/x-python",
   "name": "python",
   "nbconvert_exporter": "python",
   "pygments_lexer": "ipython3",
   "version": "3.6.13"
  }
 },
 "nbformat": 4,
 "nbformat_minor": 5
}
