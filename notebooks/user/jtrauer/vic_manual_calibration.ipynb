{
 "cells": [
  {
   "cell_type": "code",
   "execution_count": null,
   "metadata": {},
   "outputs": [],
   "source": [
    "from autumn.tools.project import get_project\n",
    "from autumn.settings import Region\n",
    "from matplotlib import pyplot\n",
    "from autumn.tools.plots.utils import REF_DATE\n",
    "from autumn.tools.calibration.targets import get_target_series\n",
    "import pandas as pd"
   ]
  },
  {
   "cell_type": "code",
   "execution_count": null,
   "metadata": {},
   "outputs": [],
   "source": [
    "project = get_project(\"covid_19\", \"victoria_2021\")"
   ]
  },
  {
   "cell_type": "code",
   "execution_count": null,
   "metadata": {},
   "outputs": [],
   "source": [
    "model = project.run_baseline_model(project.param_set.baseline)"
   ]
  },
  {
   "cell_type": "code",
   "execution_count": null,
   "metadata": {},
   "outputs": [],
   "source": [
    "derived_df = model.get_derived_outputs_df()"
   ]
  },
  {
   "cell_type": "markdown",
   "metadata": {},
   "source": [
    "# Service-level notifications"
   ]
  },
  {
   "cell_type": "code",
   "execution_count": null,
   "metadata": {},
   "outputs": [],
   "source": [
    "# Preparing\n",
    "pyplot.style.use(\"ggplot\")\n",
    "fig = pyplot.figure(figsize=(14, 8))\n",
    "for i_serv, service in enumerate(Region.VICTORIA_SUBREGIONS):\n",
    "    \n",
    "    # Collating data for plotting\n",
    "    service_name = service.replace(\"-\", \"_\")\n",
    "    output = f\"notifications_for_cluster_{service_name}\"\n",
    "    notif_dates, notif_values = get_target_series(project.calibration.targets, REF_DATE, output)\n",
    "    \n",
    "    # Plotting\n",
    "    axis = fig.add_subplot(3, 3, i_serv + 1)\n",
    "    axis.plot(derived_df[output])\n",
    "    axis.scatter(notif_dates, notif_values, c=\"k\")\n",
    "    \n",
    "    # Finishing up\n",
    "    axis.set_title(service)\n",
    "    pyplot.setp(axis.get_xticklabels(), rotation=45)\n",
    "fig.tight_layout()"
   ]
  },
  {
   "cell_type": "code",
   "execution_count": null,
   "metadata": {},
   "outputs": [],
   "source": [
    "def plot_derived_outputs(requested_outputs):\n",
    "\n",
    "    # Preparing\n",
    "    pyplot.style.use(\"ggplot\")\n",
    "    fig = pyplot.figure(figsize=(14, 8))\n",
    "    for i_out, output in enumerate(requested_outputs):\n",
    "\n",
    "        # Plotting\n",
    "        axis = fig.add_subplot(2, 2, i_out + 1)\n",
    "        axis.plot(derived_df[output])\n",
    "\n",
    "        try:\n",
    "            target_dates, target_values = get_target_series(project.calibration.targets, REF_DATE, output)\n",
    "            axis.scatter(notif_dates, notif_values, c=\"k\")\n",
    "        except:\n",
    "            print(f\"targets not available for {output}\")\n",
    "\n",
    "        # Finishing up\n",
    "        axis.set_title(output)\n",
    "        pyplot.setp(axis.get_xticklabels(), rotation=45)\n",
    "    fig.tight_layout()"
   ]
  },
  {
   "cell_type": "markdown",
   "metadata": {},
   "source": [
    "# Statewide indicators"
   ]
  },
  {
   "cell_type": "code",
   "execution_count": null,
   "metadata": {},
   "outputs": [],
   "source": [
    "plot_derived_outputs((\"notifications\", \"infection_deaths\", \"hospital_admissions\", \"icu_admissions\"))"
   ]
  },
  {
   "cell_type": "markdown",
   "metadata": {},
   "source": [
    "# Contact tracing"
   ]
  },
  {
   "cell_type": "code",
   "execution_count": null,
   "metadata": {},
   "outputs": [],
   "source": [
    "plot_derived_outputs((\"prevalence\", \"prop_detected_traced\", \"prop_contacts_with_detected_index\", \"traced_flow_rate\"))"
   ]
  }
 ],
 "metadata": {
  "kernelspec": {
   "display_name": "Python 3",
   "language": "python",
   "name": "python3"
  },
  "language_info": {
   "codemirror_mode": {
    "name": "ipython",
    "version": 3
   },
   "file_extension": ".py",
   "mimetype": "text/x-python",
   "name": "python",
   "nbconvert_exporter": "python",
   "pygments_lexer": "ipython3",
   "version": "3.6.13"
  }
 },
 "nbformat": 4,
 "nbformat_minor": 2
}
