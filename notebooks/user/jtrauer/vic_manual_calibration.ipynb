{
 "cells": [
  {
   "cell_type": "code",
   "execution_count": 1,
   "metadata": {},
   "outputs": [],
   "source": [
    "from autumn.tools.project import get_project\n",
    "from autumn.settings import Region\n",
    "from matplotlib import pyplot\n",
    "from autumn.tools.plots.utils import REF_DATE\n",
    "from autumn.tools.calibration.targets import get_target_series\n",
    "import pandas as pd\n",
    "from autumn.tools.utils.pretty import pretty_print"
   ]
  },
  {
   "cell_type": "code",
   "execution_count": 2,
   "metadata": {},
   "outputs": [],
   "source": [
    "project = get_project(\"covid_19\", \"victoria_2021\")"
   ]
  },
  {
   "cell_type": "code",
   "execution_count": null,
   "metadata": {},
   "outputs": [],
   "source": [
    "params_baseline = project.param_set.baseline\n",
    "# pretty_print(params_baseline)"
   ]
  },
  {
   "cell_type": "code",
   "execution_count": 4,
   "metadata": {},
   "outputs": [],
   "source": [
    "# updates = {'contact_rate': 0.4}\n",
    "# new_params = params_baseline.update(updates)"
   ]
  },
  {
   "cell_type": "code",
   "execution_count": 5,
   "metadata": {},
   "outputs": [],
   "source": [
    "model = project.run_baseline_model(params_baseline)"
   ]
  },
  {
   "cell_type": "code",
   "execution_count": null,
   "metadata": {},
   "outputs": [],
   "source": [
    "derived_df = model.get_derived_outputs_df().iloc[145: 220]"
   ]
  },
  {
   "cell_type": "markdown",
   "metadata": {},
   "source": [
    "# Service-level notifications"
   ]
  },
  {
   "cell_type": "code",
   "execution_count": 7,
   "metadata": {},
   "outputs": [],
   "source": [
    "# Preparing\n",
    "pyplot.style.use(\"ggplot\")\n",
    "fig = pyplot.figure(figsize=(14, 8))\n",
    "for i_serv, service in enumerate(Region.VICTORIA_SUBREGIONS):\n",
    "    \n",
    "    # Collating data for plotting\n",
    "    service_name = service.replace(\"-\", \"_\")\n",
    "    output = f\"notifications_for_cluster_{service_name}\"\n",
    "    notif_dates, notif_values = get_target_series(project.calibration.targets, REF_DATE, output)\n",
    "    \n",
    "    # Plotting\n",
    "    axis = fig.add_subplot(3, 3, i_serv + 1)\n",
    "    axis.plot(derived_df[output])\n",
    "    axis.scatter(notif_dates, notif_values, c=\"k\")\n",
    "    \n",
    "    # Finishing up\n",
    "    axis.set_title(service)\n",
    "    \n",
    "    pyplot.setp(axis.get_xticklabels(), rotation=45)\n",
    "fig.tight_layout()"
   ]
  },
  {
   "cell_type": "code",
   "execution_count": 8,
   "metadata": {},
   "outputs": [],
   "source": [
    "def plot_derived_outputs(requested_outputs):\n",
    "\n",
    "    # Preparing\n",
    "    pyplot.style.use(\"ggplot\")\n",
    "    fig = pyplot.figure(figsize=(14, 8))\n",
    "    for i_out, output in enumerate(requested_outputs):\n",
    "\n",
    "        # Plotting\n",
    "        axis = fig.add_subplot(2, 2, i_out + 1)\n",
    "        axis.plot(derived_df[output])\n",
    "\n",
    "        try:\n",
    "            target_dates, target_values = get_target_series(project.calibration.targets, REF_DATE, output)\n",
    "            axis.scatter(target_dates, target_values, c=\"k\")\n",
    "        except:\n",
    "            print(f\"targets not available for {output}\")\n",
    "\n",
    "        # Finishing up\n",
    "        axis.set_title(output)\n",
    "        pyplot.setp(axis.get_xticklabels(), rotation=45)\n",
    "    fig.tight_layout()"
   ]
  },
  {
   "cell_type": "markdown",
   "metadata": {},
   "source": [
    "# Statewide indicators"
   ]
  },
  {
   "cell_type": "code",
   "execution_count": 9,
   "metadata": {},
   "outputs": [],
   "source": [
    "plot_derived_outputs((\"notifications\", \"infection_deaths\", \"hospital_admissions\", \"icu_admissions\"))"
   ]
  },
  {
   "cell_type": "markdown",
   "metadata": {},
   "source": [
    "# Contact tracing"
   ]
  },
  {
   "cell_type": "code",
   "execution_count": 10,
   "metadata": {},
   "outputs": [],
   "source": [
    "plot_derived_outputs((\"prevalence\", \"prop_detected_traced\", \"prop_contacts_with_detected_index\", \"cdr\"))"
   ]
  },
  {
   "cell_type": "markdown",
   "metadata": {},
   "source": [
    "# Vaccination coverage\n",
    "Note this is all ages, whereas implementation is based on 15+ years only"
   ]
  },
  {
   "cell_type": "code",
   "execution_count": null,
   "metadata": {},
   "outputs": [],
   "source": [
    "plot_derived_outputs((\"proportion_unvaccinated\", \"proportion_one_dose_only\", \"proportion_vaccinated\", \"at_least_one_dose_prop\"))"
   ]
  }
 ],
 "metadata": {
  "kernelspec": {
   "display_name": "Python 3",
   "language": "python",
   "name": "python3"
  },
  "language_info": {
   "codemirror_mode": {
    "name": "ipython",
    "version": 3
   },
   "file_extension": ".py",
   "mimetype": "text/x-python",
   "name": "python",
   "nbconvert_exporter": "python",
   "pygments_lexer": "ipython3",
   "version": "3.6.13"
  }
 },
 "nbformat": 4,
 "nbformat_minor": 2
}
