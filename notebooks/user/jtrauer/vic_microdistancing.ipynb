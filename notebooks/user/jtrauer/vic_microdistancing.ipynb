{
 "cells": [
  {
   "cell_type": "code",
   "execution_count": null,
   "id": "dd7946cc",
   "metadata": {},
   "outputs": [],
   "source": [
    "from autumn.tools.curve.tanh import tanh_based_scaleup\n",
    "import matplotlib.pyplot as plt\n",
    "from matplotlib.dates import DateFormatter\n",
    "from summer.utils import ref_times_to_dti\n",
    "from autumn.tools.plots.utils import REF_DATE"
   ]
  },
  {
   "cell_type": "code",
   "execution_count": null,
   "id": "3178c43b",
   "metadata": {},
   "outputs": [],
   "source": [
    "# Manually adjusted parameters to approximate proportion complying to physical distancing recommendation\n",
    "fit = tanh_based_scaleup(0.1, 595, 0.165, 0.241)"
   ]
  },
  {
   "cell_type": "code",
   "execution_count": null,
   "id": "634188e9",
   "metadata": {},
   "outputs": [],
   "source": [
    "times = (579, 580, 581, 582, 583, 589, 590, 591, 592, 593, 594, 595, 601, 602, 603, 604, 605, 606, 607, 608, 610, 611)\n",
    "data = (0.166282, 0.163876, 0.165184, 0.165816, 0.164541, 0.169811, 0.174684, 0.186215, 0.195701, 0.194186, 0.198492, 0.196989, 0.198243, 0.201465, 0.210588, 0.215973, 0.218785, 0.231221, 0.240678, 0.242152, 0.240936, 0.241212)"
   ]
  },
  {
   "cell_type": "code",
   "execution_count": null,
   "id": "16145315",
   "metadata": {},
   "outputs": [],
   "source": [
    "fit_times = range(570, 620)\n",
    "fig = plt.figure(figsize=(8, 6))\n",
    "date_form = DateFormatter(\"%d %b\")\n",
    "plt.style.use(\"ggplot\")\n",
    "axis = fig.add_subplot()\n",
    "axis.plot(ref_times_to_dti(REF_DATE, fit_times), [fit(time) for time in fit_times], color=\"k\")\n",
    "axis.scatter(ref_times_to_dti(REF_DATE, times), data)\n",
    "axis.set_ylabel(\"Physical distancing compliance\")\n",
    "axis.xaxis.set_tick_params(rotation=45)\n",
    "axis.xaxis.set_major_formatter(date_form)"
   ]
  }
 ],
 "metadata": {
  "kernelspec": {
   "display_name": "Python 3",
   "language": "python",
   "name": "python3"
  },
  "language_info": {
   "codemirror_mode": {
    "name": "ipython",
    "version": 3
   },
   "file_extension": ".py",
   "mimetype": "text/x-python",
   "name": "python",
   "nbconvert_exporter": "python",
   "pygments_lexer": "ipython3",
   "version": "3.6.13"
  }
 },
 "nbformat": 4,
 "nbformat_minor": 5
}
