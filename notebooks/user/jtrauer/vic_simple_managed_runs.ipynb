{
 "cells": [
  {
   "cell_type": "code",
   "execution_count": null,
   "id": "casual-nightlife",
   "metadata": {},
   "outputs": [],
   "source": [
    "import pandas as pd\n",
    "from matplotlib import pyplot as plt\n",
    "import datetime\n",
    "\n",
    "from summer.utils import ref_times_to_dti\n",
    "\n",
    "from autumn.tools.plots.utils import REF_DATE\n",
    "from autumn.tools.runs import ManagedRun\n",
    "from autumn.tools.runs.calibration.utils import get_posteriors\n",
    "from autumn.tools.utils.pandas import pdfilt\n",
    "from autumn.settings.region import Region"
   ]
  },
  {
   "cell_type": "markdown",
   "id": "f1049ee1",
   "metadata": {},
   "source": [
    "## Specify the runs of interest"
   ]
  },
  {
   "cell_type": "code",
   "execution_count": null,
   "id": "7367a1be",
   "metadata": {},
   "outputs": [],
   "source": [
    "scenario_names = [\"baseline\", \"roadmap scenario\"]\n",
    "plot_left_date = datetime.date(2021, 8, 2)"
   ]
  },
  {
   "cell_type": "code",
   "execution_count": null,
   "id": "perceived-tracker",
   "metadata": {},
   "outputs": [],
   "source": [
    "mr = ManagedRun(\"covid_19/victoria/1639527196/7088603\")\n",
    "pbi = mr.powerbi.get_db()\n",
    "results = pbi.get_uncertainty()\n",
    "targets = pbi.get_targets()"
   ]
  },
  {
   "cell_type": "code",
   "execution_count": null,
   "id": "e54e2753",
   "metadata": {},
   "outputs": [],
   "source": [
    "full_run = mr.full_run.get_derived_outputs()"
   ]
  },
  {
   "cell_type": "code",
   "execution_count": null,
   "id": "8a0b1405",
   "metadata": {},
   "outputs": [],
   "source": [
    "plot_left_date = datetime.date(2021, 9, 1)\n",
    "plot_right_date = datetime.date(2022, 6, 30)\n",
    "fig, axes = plt.subplots(3, 2, figsize=(12, 14), sharex=\"all\")\n",
    "\n",
    "outputs = (\n",
    "    \"notifications\", \"infection_deaths\", \"hospital_admissions\", \"icu_admissions\", \"hospital_occupancy\", \"icu_occupancy\"\n",
    ")\n",
    "\n",
    "for i_ax, axis in enumerate(axes.reshape(-1)):\n",
    "    output = outputs[i_ax]\n",
    "\n",
    "    scenario_chain = (full_run[\"scenario\"] == 0) & (full_run[\"chain\"] == 0)\n",
    "    for i_run in full_run[scenario_chain][\"run\"].unique():\n",
    "        selection = full_run[(full_run[\"run\"] == i_run) & scenario_chain]\n",
    "        axis.plot(ref_times_to_dti(REF_DATE, selection[\"times\"]), selection[output])\n",
    "    if output in targets:\n",
    "        axis.scatter(targets.index, targets[output], color=\"k\", s=10, alpha=0.5, zorder=10)\n",
    "    axis.tick_params(axis=\"x\", labelrotation=45)\n",
    "    axis.set_xlim(left=plot_left_date, right=plot_right_date)\n",
    "    axis.set_title(output.replace(\"_\", \" \"))\n",
    "\n",
    "fig.tight_layout()"
   ]
  },
  {
   "cell_type": "code",
   "execution_count": null,
   "id": "8374d183",
   "metadata": {},
   "outputs": [],
   "source": [
    "fig, axes = plt.subplots(3, 2, figsize=(12, 14), sharex=\"all\")\n",
    "colours = ((0.2, 0.2, 0.8), (0.8, 0.2, 0.2))\n",
    "scenarios = [0, 1]\n",
    "for i_ax, axis in enumerate(axes.reshape(-1)):\n",
    "    output = outputs[i_ax]\n",
    "    indices = results.index\n",
    "\n",
    "    for scenario in scenarios:\n",
    "        results_df = results[(output, scenario)]\n",
    "        colour = colours[scenario]\n",
    "        axis.fill_between(indices, results_df[0.01], results_df[0.99], color=colour, alpha=0.1)\n",
    "        axis.fill_between(indices, results_df[0.025], results_df[0.975], color=colour, alpha=0.5)\n",
    "        axis.fill_between(indices, results_df[0.25], results_df[0.75], color=colour, alpha=0.7)\n",
    "        axis.plot(indices, results_df[0.500], color=\"k\", linestyle=\"--\")\n",
    "\n",
    "    if output in targets:\n",
    "        axis.scatter(targets.index, targets[output], color=\"k\", alpha=0.5, s=10)\n",
    "    axis.tick_params(axis=\"x\", labelrotation=45)\n",
    "    axis.set_xlim(left=plot_left_date)\n",
    "    axis.set_title(output)\n",
    "# fig.suptitle(f\"{output} under {scenario_names[scenario]} conditions\")\n",
    "fig.tight_layout()"
   ]
  },
  {
   "cell_type": "code",
   "execution_count": null,
   "id": "19dc3974",
   "metadata": {},
   "outputs": [],
   "source": [
    "mcmc_params = mr.calibration.get_mcmc_params()\n",
    "\n",
    "param_dict = {\n",
    "    \"contact_rate\": \"contact rate\",\n",
    "    \"infectious_seed\": \"infectious seed\",\n",
    "    \"mobility.microdistancing.face_coverings_adjuster.parameters.effect\": \"face coverings effectiveness\",\n",
    "    \"sojourn.compartment_periods_calculated.exposed.total_period\": \"incubation period\",\n",
    "    \"vaccination.vacc_full_effect_duration\": \"duration of full immunity from vaccination\"\n",
    "}\n",
    "\n",
    "fig, axes = plt.subplots(3, 2, figsize=(12, 18))\n",
    "for i_ax, axis in enumerate(axes.reshape(-1)[:5]):\n",
    "    axis.hist(mcmc_params.iloc[:, i_ax])\n",
    "    axis.set_title(param_dict[mcmc_params.columns[i_ax]])\n",
    "plt.axis(\"off\")"
   ]
  }
 ],
 "metadata": {
  "kernelspec": {
   "display_name": "Python 3",
   "language": "python",
   "name": "python3"
  },
  "language_info": {
   "codemirror_mode": {
    "name": "ipython",
    "version": 3
   },
   "file_extension": ".py",
   "mimetype": "text/x-python",
   "name": "python",
   "nbconvert_exporter": "python",
   "pygments_lexer": "ipython3",
   "version": "3.6.13"
  }
 },
 "nbformat": 4,
 "nbformat_minor": 5
}
