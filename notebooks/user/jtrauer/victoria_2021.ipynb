{
 "cells": [
  {
   "cell_type": "code",
   "execution_count": null,
   "metadata": {},
   "outputs": [],
   "source": [
    "import os\n",
    "\n",
    "from autumn.tools import db, plots\n",
    "from autumn.tools.project import get_project\n",
    "\n",
    "from autumn.tools.plots.calibration.plots import get_posterior\n",
    "\n",
    "from autumn.tools.project import Project, ParameterSet, TimeSeriesSet, build_rel_path, get_all_available_scenario_paths\n",
    "\n",
    "from autumn.models.covid_19 import base_params, build_model\n",
    "\n",
    "from matplotlib import pyplot\n",
    "import pandas as pd\n",
    "from autumn.settings import Models, Region\n",
    "from autumn.settings.folders import OUTPUT_DATA_PATH\n",
    "from autumn.dashboards.calibration_results.plots import get_uncertainty_df"
   ]
  },
  {
   "cell_type": "code",
   "execution_count": null,
   "metadata": {},
   "outputs": [],
   "source": [
    "model = Models.COVID_19\n",
    "region = Region.VICTORIA_2020\n",
    "dirname = \"2021-08-25\"  # Currently this is an arbitrary local folder with the calibrated run we want to use"
   ]
  },
  {
   "cell_type": "code",
   "execution_count": null,
   "metadata": {},
   "outputs": [],
   "source": [
    "project = get_project(model, region)\n",
    "project_calib_dir = os.path.join(\n",
    "    OUTPUT_DATA_PATH, \"calibrate\", project.model_name, project.region_name\n",
    ")\n",
    "calib_path = os.path.join(project_calib_dir, dirname)\n",
    "mcmc_tables = db.load.load_mcmc_tables(calib_path)\n",
    "mcmc_params = db.load.load_mcmc_params_tables(calib_path)\n",
    "uncertainty_df = get_uncertainty_df(calib_path, mcmc_tables, project.plots)"
   ]
  },
  {
   "cell_type": "code",
   "execution_count": null,
   "metadata": {},
   "outputs": [],
   "source": [
    "parameter_names = mcmc_params[0][\"name\"].unique().tolist()\n",
    "parameter_names"
   ]
  },
  {
   "cell_type": "code",
   "execution_count": null,
   "metadata": {},
   "outputs": [],
   "source": [
    "input_params = {}\n",
    "for param in [\"victorian_clusters.intercluster_mixing\"]:\n",
    "    input_params[param] = get_posterior(mcmc_params, mcmc_tables, param, 0).sample().iloc[0, 0]\n",
    "\n",
    "input_params\n",
    "\n",
    "project.param_set.baseline.update(input_params)"
   ]
  },
  {
   "cell_type": "code",
   "execution_count": null,
   "metadata": {},
   "outputs": [],
   "source": []
  },
  {
   "cell_type": "code",
   "execution_count": null,
   "metadata": {},
   "outputs": [],
   "source": []
  }
 ],
 "metadata": {
  "kernelspec": {
   "display_name": "Python 3",
   "language": "python",
   "name": "python3"
  },
  "language_info": {
   "codemirror_mode": {
    "name": "ipython",
    "version": 3
   },
   "file_extension": ".py",
   "mimetype": "text/x-python",
   "name": "python",
   "nbconvert_exporter": "python",
   "pygments_lexer": "ipython3",
   "version": "3.6.12"
  }
 },
 "nbformat": 4,
 "nbformat_minor": 2
}
