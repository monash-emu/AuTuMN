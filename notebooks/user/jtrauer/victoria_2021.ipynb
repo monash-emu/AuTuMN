{
 "cells": [
  {
   "cell_type": "code",
   "execution_count": null,
   "metadata": {},
   "outputs": [],
   "source": [
    "import os\n",
    "from matplotlib import pyplot\n",
    "import pandas as pd\n",
    "from random import choices\n",
    "\n",
    "from autumn.tools import db\n",
    "from autumn.tools.project import get_project\n",
    "from autumn.settings import Models, Region\n",
    "from autumn.settings.folders import OUTPUT_DATA_PATH"
   ]
  },
  {
   "cell_type": "code",
   "execution_count": null,
   "metadata": {},
   "outputs": [],
   "source": [
    "def get_param_dict_from_run_index(params_df, run):\n",
    "    \"\"\"\n",
    "    Pull out the part of the parameters dataframe that corresponds to the run index of interest and \n",
    "    create a parameter dictionary from that single parameter set.\n",
    "    \"\"\"\n",
    "    run_df = params_df[params_df.run == run]\n",
    "    return {\n",
    "        param_name: param_value for \n",
    "        param_name, param_value in \n",
    "        zip(run_df.name, run_df.value)\n",
    "    }"
   ]
  },
  {
   "cell_type": "code",
   "execution_count": null,
   "metadata": {},
   "outputs": [],
   "source": [
    "# A few parameters to play with\n",
    "model = Models.COVID_19\n",
    "region = Region.VICTORIA_2020\n",
    "dirname = \"2021-08-25\"  # Currently this is an arbitrary local folder name for the calibrated run we want to use\n",
    "burn_in = 0\n",
    "n_select = 10"
   ]
  },
  {
   "cell_type": "code",
   "execution_count": null,
   "metadata": {},
   "outputs": [],
   "source": [
    "# Load everything up\n",
    "project = get_project(model, region)\n",
    "calib_path = os.path.join(OUTPUT_DATA_PATH, \"calibrate\", project.model_name, project.region_name, dirname)\n",
    "mcmc_tables = db.load.load_mcmc_tables(calib_path)\n",
    "mcmc_params = db.load.load_mcmc_params_tables(calib_path)\n",
    "\n",
    "# I think this is just about data structures not being ideal\n",
    "mcmc_df = db.load.append_tables(mcmc_tables)\n",
    "params_df = db.load.append_tables(mcmc_params)\n",
    "\n",
    "# Choose the sampled parameters\n",
    "selection = choices(mcmc_df.index, weights=mcmc_df[\"weight\"], k=10)\n",
    "selected_params = []\n",
    "for i_param_set in selection:\n",
    "    selected_params.append(get_param_dict_from_run_index(params_df, i_param_set))\n",
    "\n",
    "# Run one arbitrary selected parameter set to check everything's working\n",
    "final_params = project.param_set.baseline.update(selected_params[0], calibration_format=True)\n",
    "model = project.run_baseline_model(final_params)"
   ]
  }
 ],
 "metadata": {
  "kernelspec": {
   "display_name": "Python 3",
   "language": "python",
   "name": "python3"
  },
  "language_info": {
   "codemirror_mode": {
    "name": "ipython",
    "version": 3
   },
   "file_extension": ".py",
   "mimetype": "text/x-python",
   "name": "python",
   "nbconvert_exporter": "python",
   "pygments_lexer": "ipython3",
   "version": "3.6.12"
  }
 },
 "nbformat": 4,
 "nbformat_minor": 2
}
