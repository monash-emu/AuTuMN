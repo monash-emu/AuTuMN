{
 "cells": [
  {
   "cell_type": "code",
   "execution_count": null,
   "metadata": {},
   "outputs": [],
   "source": [
    "import os\n",
    "from matplotlib import pyplot\n",
    "import pandas as pd\n",
    "\n",
    "from autumn.tools import db, plots\n",
    "from autumn.tools.project import get_project\n",
    "from autumn.tools.utils.pretty import pretty_print\n",
    "from autumn.tools.plots.calibration.plots import get_posterior\n",
    "from autumn.settings import Models, Region\n",
    "from autumn.settings.folders import OUTPUT_DATA_PATH"
   ]
  },
  {
   "cell_type": "code",
   "execution_count": null,
   "metadata": {},
   "outputs": [],
   "source": [
    "model = Models.COVID_19\n",
    "region = Region.VICTORIA_2020\n",
    "dirname = \"2021-08-25\"  # Currently this is an arbitrary local folder name for the calibrated run we want to use\n",
    "burn_in = 0"
   ]
  },
  {
   "cell_type": "code",
   "execution_count": null,
   "metadata": {},
   "outputs": [],
   "source": [
    "project = get_project(model, region)\n",
    "calib_path = os.path.join(OUTPUT_DATA_PATH, \"calibrate\", project.model_name, project.region_name, dirname)\n",
    "mcmc_tables = db.load.load_mcmc_tables(calib_path)\n",
    "mcmc_params = db.load.load_mcmc_params_tables(calib_path)"
   ]
  },
  {
   "cell_type": "code",
   "execution_count": null,
   "metadata": {},
   "outputs": [],
   "source": [
    "parameter_names = mcmc_params[0][\"name\"].unique().tolist()\n",
    "input_params = {param: get_posterior(mcmc_params, mcmc_tables, param, burn_in).sample().iloc[0, 0] for param in parameter_names}"
   ]
  },
  {
   "cell_type": "code",
   "execution_count": null,
   "metadata": {},
   "outputs": [],
   "source": [
    "final_params = project.param_set.baseline.update(input_params, calibration_format=True)\n",
    "model = project.run_baseline_model(final_params)"
   ]
  }
 ],
 "metadata": {
  "kernelspec": {
   "display_name": "Python 3",
   "language": "python",
   "name": "python3"
  },
  "language_info": {
   "codemirror_mode": {
    "name": "ipython",
    "version": 3
   },
   "file_extension": ".py",
   "mimetype": "text/x-python",
   "name": "python",
   "nbconvert_exporter": "python",
   "pygments_lexer": "ipython3",
   "version": "3.6.12"
  }
 },
 "nbformat": 4,
 "nbformat_minor": 2
}
