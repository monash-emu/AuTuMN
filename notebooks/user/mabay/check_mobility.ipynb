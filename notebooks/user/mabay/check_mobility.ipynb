{
 "cells": [
  {
   "cell_type": "code",
   "execution_count": null,
   "metadata": {},
   "outputs": [],
   "source": [
    "import pandas as pd\n",
    "import numpy as np\n",
    "import statsmodels.api as sm\n",
    "import seaborn as sns\n",
    "\n",
    "from matplotlib import pyplot as plt\n",
    "from pathlib import Path\n",
    "\n",
    "from autumn.settings import INPUT_DATA_PATH\n"
   ]
  },
  {
   "cell_type": "markdown",
   "metadata": {},
   "source": [
    "If not in an 'AuTuMN' python environment. Edit and run the cell below to manually create the path to files."
   ]
  },
  {
   "cell_type": "code",
   "execution_count": null,
   "metadata": {},
   "outputs": [],
   "source": [
    "p = Path(\".\")\n",
    "# INPUT_DATA_PATH = p.joinpath('c:\\\\', \"Users\",\"maba0001\", \"AuTuMN\", \"data\", \"inputs\")"
   ]
  },
  {
   "cell_type": "code",
   "execution_count": null,
   "metadata": {},
   "outputs": [],
   "source": [
    "\n",
    "fb = p.joinpath(INPUT_DATA_PATH, \"mobility\", \"movement-range-2021.txt\")\n",
    "gg = p.joinpath(INPUT_DATA_PATH, \"mobility\", \"Google_Mobility_Report.csv\")\n",
    "\n",
    "\n",
    "REGIONS = ['Hanoi', 'Ho Chi Minh City']\n"
   ]
  },
  {
   "cell_type": "code",
   "execution_count": null,
   "metadata": {},
   "outputs": [],
   "source": [
    "fb_mob = pd.read_csv(fb, delimiter=\"\\t\")\n"
   ]
  },
  {
   "cell_type": "code",
   "execution_count": null,
   "metadata": {},
   "outputs": [],
   "source": [
    "gg_mob = pd.read_csv(gg)"
   ]
  },
  {
   "cell_type": "markdown",
   "metadata": {},
   "source": [
    "Get facebook mobility for country and regions of interest."
   ]
  },
  {
   "cell_type": "code",
   "execution_count": null,
   "metadata": {},
   "outputs": [],
   "source": [
    "country = fb_mob[\"country\"] == \"VNM\"\n",
    "fb_mob = fb_mob[country]\n",
    "\n",
    "fb_hcmc = fb_mob[\"polygon_id\"].str.contains(\"VNM.25\")\n",
    "fb_hanoi = fb_mob[\"polygon_id\"].str.contains(\"VNM.27\")\n",
    "\n",
    "fb_mob.loc[fb_hanoi, \"polygon_name\"] = \"Hanoi\"\n",
    "fb_mob.loc[fb_hcmc, \"polygon_name\"] = \"Ho Chi Minh City\"\n",
    "\n",
    "fb_mob = fb_mob[(fb_hcmc) | (fb_hanoi)]\n",
    "fb_mob.rename(columns={'all_day_bing_tiles_visited_relative_change':'visited_tiles', 'all_day_ratio_single_tile_users':'single_tiles'}, inplace =True)\n",
    "fb_mob = fb_mob[\n",
    "    [\n",
    "        \"ds\",\n",
    "        \"polygon_name\",\n",
    "        'visited_tiles',\n",
    "        \"single_tiles\",\n",
    "    ]\n",
    "]\n",
    "fb_mob[\"ds\"] = pd.to_datetime(fb_mob[\"ds\"], format=\"%Y-%m-%d\")\n"
   ]
  },
  {
   "cell_type": "markdown",
   "metadata": {},
   "source": [
    "For now take the mean. But ideally the weighted average based on population should be used.<br>\n",
    "To implement this the population of each sub-region(VNM.25, VNM.27) is required.\n",
    " "
   ]
  },
  {
   "cell_type": "code",
   "execution_count": null,
   "metadata": {},
   "outputs": [],
   "source": [
    "fb_mob = fb_mob.groupby(['ds','polygon_name'], as_index=False).mean()"
   ]
  },
  {
   "cell_type": "code",
   "execution_count": null,
   "metadata": {},
   "outputs": [],
   "source": [
    "MOB_COL = [\"retail_and_recreation\",\n",
    "    \"grocery_and_pharmacy\",\n",
    "    \"parks\",\n",
    "    \"transit_stations\",\n",
    "    \"workplaces\",\n",
    "    \"residential\"]\n",
    "\n",
    "GG_COLS = [\n",
    "    \"date\",\n",
    "    \"sub_region_1\",\n",
    "    \n",
    "] + MOB_COL\n",
    "\n",
    "gg_hcmc = gg_mob[\"sub_region_1\"].str.contains(\"Ho Chi Minh City\")\n",
    "gg_hanoi = gg_mob[\"sub_region_1\"].str.contains(\"Hanoi\")\n",
    "gg_mob = gg_mob[(gg_hcmc) | (gg_hanoi)]\n",
    "gg_mob.rename(columns=lambda x: str(x).replace(\"_percent_change_from_baseline\",\"\"),inplace=True)\n",
    "gg_mob = gg_mob[GG_COLS]\n",
    "gg_mob[\"date\"] = pd.to_datetime(gg_mob[\"date\"], format=\"%Y-%m-%d\")\n"
   ]
  },
  {
   "cell_type": "code",
   "execution_count": null,
   "metadata": {},
   "outputs": [],
   "source": [
    "split_date = '2021-10-20'"
   ]
  },
  {
   "cell_type": "code",
   "execution_count": null,
   "metadata": {},
   "outputs": [],
   "source": [
    "df_mob = pd.merge(fb_mob, gg_mob,  how='left', left_on=['ds', 'polygon_name'], right_on=['date', 'sub_region_1'])\n",
    "df_mob = df_mob[df_mob['ds'] >= '2021-01-01'] # For now, there is FB data for 2021."
   ]
  },
  {
   "cell_type": "code",
   "execution_count": null,
   "metadata": {},
   "outputs": [],
   "source": [
    "corr_plot = df_mob[['visited_tiles','single_tiles','retail_and_recreation','grocery_and_pharmacy','parks','transit_stations','workplaces','residential']].corr()\n",
    "plt.figure(figsize=(5,5))\n",
    "hm = sns.heatmap(corr_plot, annot = True)"
   ]
  },
  {
   "cell_type": "code",
   "execution_count": null,
   "metadata": {},
   "outputs": [],
   "source": [
    "def get_xs(region, split_date, df):\n",
    "    \"Split the data set into test and train and add an intercept component\"\n",
    "\n",
    "    x_train = df[(df['polygon_name'] == region) & (df['ds'] <= split_date)][['visited_tiles', 'single_tiles']].to_numpy()\n",
    "    x_test = df[(df['polygon_name'] == region) & (df['ds'] > split_date)][['visited_tiles', 'single_tiles']].to_numpy()\n",
    "    x_train = sm.add_constant(x_train)\n",
    "    x_test = sm.add_constant(x_test)\n",
    "\n",
    "    return x_test, x_train"
   ]
  },
  {
   "cell_type": "code",
   "execution_count": null,
   "metadata": {},
   "outputs": [],
   "source": [
    "def get_train_y(region, split_date, df, y_col):\n",
    "\n",
    "    y = df[(df['polygon_name'] == region) & (df['ds'] <= split_date)][[y_col]].to_numpy()\n",
    "\n",
    "    return y\n",
    "\n"
   ]
  },
  {
   "cell_type": "code",
   "execution_count": null,
   "metadata": {},
   "outputs": [],
   "source": [
    "for region in REGIONS:\n",
    "\n",
    "    x_test, x_train = get_xs(region,split_date, df_mob )\n",
    "\n",
    "    for mobility_type in MOB_COL:\n",
    "        \n",
    "        y_train = get_train_y(region,split_date, df_mob, mobility_type )\n",
    "\n",
    "        model = sm.OLS(y_train,x_train)\n",
    "        results = model.fit()\n",
    "        print(results.summary())\n",
    "\n",
    "        y_pred = results.predict(x_test)\n",
    "\n",
    "\n",
    "        df_mob.loc[(df_mob[mobility_type].isna()) & (df_mob['polygon_name']==region), mobility_type] = y_pred\n",
    "\n"
   ]
  },
  {
   "cell_type": "code",
   "execution_count": null,
   "metadata": {},
   "outputs": [],
   "source": [
    "df_mob.set_index(df_mob['ds'], inplace= True)"
   ]
  },
  {
   "cell_type": "code",
   "execution_count": null,
   "metadata": {},
   "outputs": [],
   "source": [
    "df_mob[df_mob['polygon_name'] == \"Hanoi\"][MOB_COL].plot(figsize=(20,6))"
   ]
  },
  {
   "cell_type": "code",
   "execution_count": null,
   "metadata": {},
   "outputs": [],
   "source": [
    "df_mob[df_mob['polygon_name'] == \"Ho Chi Minh City\"][MOB_COL].plot(figsize=(20,6))"
   ]
  },
  {
   "cell_type": "markdown",
   "metadata": {},
   "source": [
    "Create a csv for input db."
   ]
  },
  {
   "cell_type": "code",
   "execution_count": null,
   "metadata": {},
   "outputs": [],
   "source": [
    "input_df = df_mob[df_mob['ds'] > split_date][['ds', 'polygon_name']+MOB_COL]"
   ]
  },
  {
   "cell_type": "code",
   "execution_count": null,
   "metadata": {},
   "outputs": [],
   "source": [
    "input_df.rename(columns=lambda x:  f\"{x}_percent_change_from_baseline\" if x not in {'ds',\"polygon_name\"} else x,inplace=True)\n",
    "input_df.rename(columns={'polygon_name':\"sub_region_1\", 'ds':\"date\"}, inplace = True)\n",
    "input_df[\"country_region\"] = \"Vietnam\""
   ]
  },
  {
   "cell_type": "code",
   "execution_count": null,
   "metadata": {},
   "outputs": [],
   "source": [
    "vnm_csv = p.joinpath(INPUT_DATA_PATH, \"mobility\", \"VNM_mobility.csv\")"
   ]
  },
  {
   "cell_type": "code",
   "execution_count": null,
   "metadata": {},
   "outputs": [],
   "source": [
    "input_df.to_csv(vnm_csv, index=False)"
   ]
  }
 ],
 "metadata": {
  "interpreter": {
   "hash": "cb15b685d6dee6da2c6ac6dc3492961404939f66a3ebef9ef1a2d8dc1935d83f"
  },
  "kernelspec": {
   "display_name": "Python 3.7.10 64-bit ('summer': conda)",
   "language": "python",
   "name": "python3"
  },
  "language_info": {
   "codemirror_mode": {
    "name": "ipython",
    "version": 3
   },
   "file_extension": ".py",
   "mimetype": "text/x-python",
   "name": "python",
   "nbconvert_exporter": "python",
   "pygments_lexer": "ipython3",
   "version": "3.9.2"
  },
  "orig_nbformat": 4
 },
 "nbformat": 4,
 "nbformat_minor": 2
}
