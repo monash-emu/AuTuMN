{
 "cells": [
  {
   "cell_type": "code",
   "execution_count": null,
   "metadata": {},
   "outputs": [],
   "source": [
    "import pandas as pd\n",
    "import numpy as np\n",
    "import seaborn as sns\n",
    "\n",
    "from matplotlib import pyplot as plt\n",
    "from matplotlib import style\n",
    "\n",
    "from pathlib import Path\n",
    "\n",
    "from autumn.settings import INPUT_DATA_PATH\n"
   ]
  },
  {
   "cell_type": "markdown",
   "metadata": {},
   "source": [
    "If not in an 'AuTuMN' python environment. Edit and run the cell below to manually create the path to files."
   ]
  },
  {
   "cell_type": "code",
   "execution_count": null,
   "metadata": {},
   "outputs": [],
   "source": [
    "style.use(\"dark_background\")\n",
    "p = Path(\".\")\n",
    "# INPUT_DATA_PATH = p.joinpath('c:\\\\', \"Users\",\"maba0001\", \"AuTuMN\", \"data\", \"inputs\")"
   ]
  },
  {
   "cell_type": "code",
   "execution_count": null,
   "metadata": {},
   "outputs": [],
   "source": [
    "\n",
    "fb_2021 = p.joinpath(INPUT_DATA_PATH, \"mobility\", \"movement-range-2021.txt\")\n",
    "fb_2022 = p.joinpath(INPUT_DATA_PATH, \"mobility\", \"movement-range-2022-04-25.txt\")\n",
    "\n",
    "\n"
   ]
  },
  {
   "cell_type": "code",
   "execution_count": null,
   "metadata": {},
   "outputs": [],
   "source": [
    "df_list = []\n",
    "for file in {fb_2021,fb_2022}:\n",
    "    df = pd.read_csv(file, delimiter=\"\\t\")\n",
    "    df = df[df[\"country\"]==\"BTN\"]\n",
    "    df_list.append(df)\n",
    "\n",
    "fb_mov = pd.concat(df_list)"
   ]
  },
  {
   "cell_type": "markdown",
   "metadata": {},
   "source": [
    "Take the average of all sub regions of Bhutan to arrive at national movement values."
   ]
  },
  {
   "cell_type": "code",
   "execution_count": null,
   "metadata": {},
   "outputs": [],
   "source": [
    "btn_mov = fb_mov.groupby('ds', as_index=False).mean()"
   ]
  },
  {
   "cell_type": "code",
   "execution_count": null,
   "metadata": {},
   "outputs": [],
   "source": [
    "btn_mov.rename(columns={\"all_day_bing_tiles_visited_relative_change\":\"visited_tiles\",\"all_day_ratio_single_tile_users\":\"single_tiles\" }, inplace=True)"
   ]
  },
  {
   "cell_type": "markdown",
   "metadata": {},
   "source": [
    "Change the values of `MAP_FACOTRS` as required. "
   ]
  },
  {
   "cell_type": "code",
   "execution_count": null,
   "metadata": {},
   "outputs": [],
   "source": [
    "MAP_FACTORS = {'retail_and_recreation_percent_change_from_baseline': 30,\n",
    "       'grocery_and_pharmacy_percent_change_from_baseline': 20,\n",
    "       'parks_percent_change_from_baseline': 20,\n",
    "       'transit_stations_percent_change_from_baseline': 40,\n",
    "       'workplaces_percent_change_from_baseline': 50,\n",
    "       'residential_percent_change_from_baseline': 40}"
   ]
  },
  {
   "cell_type": "code",
   "execution_count": null,
   "metadata": {},
   "outputs": [],
   "source": [
    "for col, val in MAP_FACTORS.items():\n",
    "    if col != 'residential_percent_change_from_baseline':\n",
    "        btn_mov[col] = val * btn_mov[\"visited_tiles\"]\n",
    "    else:\n",
    "        btn_mov[col] = val * btn_mov[\"single_tiles\"]\n",
    "        "
   ]
  },
  {
   "cell_type": "code",
   "execution_count": null,
   "metadata": {},
   "outputs": [],
   "source": [
    "btn_mov"
   ]
  },
  {
   "cell_type": "code",
   "execution_count": null,
   "metadata": {},
   "outputs": [],
   "source": [
    "MOB_COL = [col for col in MAP_FACTORS.keys()]"
   ]
  },
  {
   "cell_type": "code",
   "execution_count": null,
   "metadata": {},
   "outputs": [],
   "source": [
    "corr_plot = btn_mov[['visited_tiles', 'single_tiles']].corr()\n",
    "plt.figure(figsize=(5,5))\n",
    "hm = sns.heatmap(corr_plot, annot = True)"
   ]
  },
  {
   "cell_type": "code",
   "execution_count": null,
   "metadata": {},
   "outputs": [],
   "source": [
    "btn_mov.set_index(btn_mov['ds'], inplace= True)"
   ]
  },
  {
   "cell_type": "code",
   "execution_count": null,
   "metadata": {},
   "outputs": [],
   "source": [
    "btn_mov[MOB_COL].plot(figsize=(20,6))"
   ]
  },
  {
   "cell_type": "code",
   "execution_count": null,
   "metadata": {},
   "outputs": [],
   "source": [
    "btn_mov[[\"visited_tiles\",\"single_tiles\"]].plot(figsize=(20,6))"
   ]
  },
  {
   "cell_type": "markdown",
   "metadata": {},
   "source": [
    "Create a csv for input db."
   ]
  },
  {
   "cell_type": "code",
   "execution_count": null,
   "metadata": {},
   "outputs": [],
   "source": [
    "btn_mov"
   ]
  },
  {
   "cell_type": "code",
   "execution_count": null,
   "metadata": {},
   "outputs": [],
   "source": [
    "input_df = btn_mov[['ds']+MOB_COL]\n",
    "input_df[\"sub_region_1\"] = None"
   ]
  },
  {
   "cell_type": "code",
   "execution_count": null,
   "metadata": {},
   "outputs": [],
   "source": [
    "#input_df.rename(columns=lambda x:  f\"{x}_percent_change_from_baseline\" if x not in {'ds',\"polygon_name\"} else x,inplace=True)\n",
    "input_df.rename(columns={'ds':\"date\"}, inplace = True)\n",
    "input_df[\"country_region\"] = \"Bhutan\""
   ]
  },
  {
   "cell_type": "code",
   "execution_count": null,
   "metadata": {},
   "outputs": [],
   "source": [
    "btn_csv = p.joinpath(INPUT_DATA_PATH, \"mobility\", \"BTN_mobility.csv\")"
   ]
  },
  {
   "cell_type": "code",
   "execution_count": null,
   "metadata": {},
   "outputs": [],
   "source": [
    "input_df.to_csv(btn_csv, index=False)"
   ]
  },
  {
   "cell_type": "markdown",
   "metadata": {},
   "source": [
    "Once the CSV is created run<br>\n",
    "`python -m autumn db build`<br>\n",
    "`python -m autumn secrets write data/inputs/inputs.secret.db`<br>\n",
    "Git push the secret hash and the encrpyted db file to master."
   ]
  },
  {
   "cell_type": "markdown",
   "metadata": {},
   "source": []
  }
 ],
 "metadata": {
  "interpreter": {
   "hash": "cb15b685d6dee6da2c6ac6dc3492961404939f66a3ebef9ef1a2d8dc1935d83f"
  },
  "kernelspec": {
   "display_name": "Python 3.7.10 64-bit ('summer': conda)",
   "language": "python",
   "name": "python3"
  },
  "language_info": {
   "codemirror_mode": {
    "name": "ipython",
    "version": 3
   },
   "file_extension": ".py",
   "mimetype": "text/x-python",
   "name": "python",
   "nbconvert_exporter": "python",
   "pygments_lexer": "ipython3",
   "version": "3.10.4"
  }
 },
 "nbformat": 4,
 "nbformat_minor": 2
}
