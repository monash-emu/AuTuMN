{
 "cells": [
  {
   "cell_type": "code",
   "execution_count": null,
   "id": "fb4eba4e",
   "metadata": {},
   "outputs": [],
   "source": [
    "from autumn.tools.project import get_project"
   ]
  },
  {
   "cell_type": "code",
   "execution_count": null,
   "id": "c1ebaa13",
   "metadata": {},
   "outputs": [],
   "source": [
    "p = get_project('covid_19', 'malaysia')"
   ]
  },
  {
   "cell_type": "code",
   "execution_count": null,
   "id": "0baf223a",
   "metadata": {},
   "outputs": [],
   "source": [
    "m = p.run_baseline_model(p.param_set.baseline)"
   ]
  },
  {
   "cell_type": "code",
   "execution_count": null,
   "id": "32fc7f8a",
   "metadata": {},
   "outputs": [],
   "source": []
  }
 ],
 "metadata": {
  "kernelspec": {
   "display_name": "Python 3",
   "language": "python",
   "name": "python3"
  },
  "language_info": {
   "codemirror_mode": {
    "name": "ipython",
    "version": 3
   },
   "file_extension": ".py",
   "mimetype": "text/x-python",
   "name": "python",
   "nbconvert_exporter": "python",
   "pygments_lexer": "ipython3",
   "version": "3.6.13"
  }
 },
 "nbformat": 4,
 "nbformat_minor": 5
}
