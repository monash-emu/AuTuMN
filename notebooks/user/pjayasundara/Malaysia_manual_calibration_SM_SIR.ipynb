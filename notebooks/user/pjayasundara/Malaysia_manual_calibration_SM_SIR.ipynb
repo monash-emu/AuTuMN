{
 "cells": [
  {
   "cell_type": "code",
   "execution_count": null,
   "id": "43c6dc6b",
   "metadata": {},
   "outputs": [],
   "source": [
    "from matplotlib import pyplot\n",
    "import pandas as pd\n",
    "import warnings\n",
    "\n",
    "from summer.utils import ref_times_to_dti\n",
    "\n",
    "from autumn.core.plots.utils import REF_DATE\n",
    "from autumn.core.project import get_project\n",
    "from autumn.core.utils.display import pretty_print\n",
    "from autumn.models.covid_19.mixing_matrix.macrodistancing import weight_mobility_data, get_mobility_data"
   ]
  },
  {
   "cell_type": "code",
   "execution_count": null,
   "id": "64ce09ce",
   "metadata": {},
   "outputs": [],
   "source": [
    "pyplot.style.use(\"ggplot\")\n",
    "warnings.filterwarnings(\"ignore\")\n",
    "\n",
    "region = \"bhutan\"\n",
    "project = get_project(\"sm_sir\", region)"
   ]
  },
  {
   "cell_type": "code",
   "execution_count": null,
   "id": "efbf2f36",
   "metadata": {},
   "outputs": [],
   "source": [
    "# pretty_print(project.param_set.baseline)"
   ]
  },
  {
   "cell_type": "code",
   "execution_count": null,
   "id": "50ea0995",
   "metadata": {},
   "outputs": [],
   "source": [
    "baseline_params = project.param_set.baseline\n",
    "custom_params = project.param_set.baseline.update(\n",
    "    {\n",
    "        \"time\": {\n",
    "            \"end\": 1050.},\n",
    "       \n",
    "    }\n",
    ")"
   ]
  },
  {
   "cell_type": "code",
   "execution_count": null,
   "id": "b7b72f21",
   "metadata": {},
   "outputs": [],
   "source": [
    "model = project.run_baseline_model(custom_params)\n",
    "derived_df = model.get_derived_outputs_df()\n",
    "\n",
    "model_start_time = ref_times_to_dti(REF_DATE, [custom_params[\"time\"][\"start\"]])[0]\n",
    "model_end_time = ref_times_to_dti(REF_DATE, [custom_params[\"time\"][\"end\"]])[0]"
   ]
  },
  {
   "cell_type": "code",
   "execution_count": null,
   "id": "41a3c438",
   "metadata": {},
   "outputs": [],
   "source": [
    "targets_dict = {\n",
    "    t.data.name: pd.Series(t.data.values, index=ref_times_to_dti(model.ref_date, t.data.index)) for \n",
    "    t in project.calibration.targets\n",
    "}\n",
    "\n",
    "death_string = \"accum_deaths\" if region == \"bangladesh\" else \"infection_deaths\"\n",
    "outputs_to_plot = [\"notifications\", \"infection_deaths\", \"icu_occupancy\", \"hospital_occupancy\"]\n",
    "\n",
    "fig = pyplot.figure(figsize=(15, 12))\n",
    "for i_out, output in enumerate(outputs_to_plot):\n",
    "    axis = fig.add_subplot(2, 2, i_out + 1)\n",
    "    if output in targets_dict:\n",
    "        targets_dict[output].plot(ax=axis, style='.')\n",
    "    if output in derived_df:\n",
    "        derived_df[output].plot(ax=axis)\n",
    "    axis.set_title(output.replace(\"_\", \" \"))\n",
    "    axis.set_xlim([model_start_time, model_end_time])"
   ]
  },
  {
   "cell_type": "code",
   "execution_count": null,
   "id": "e2d79b46",
   "metadata": {},
   "outputs": [],
   "source": [
    "fig = pyplot.figure(figsize=(15, 6))\n",
    "pyplot.style.use(\"ggplot\")\n",
    "axis = fig.add_subplot(1,2,1)\n",
    "axis = derived_df[\"cdr\"].plot()\n",
    "axis.set_title(\"cdr\")\n",
    "axis = fig.add_subplot(1,2,2)\n",
    "axis = derived_df[\"prop_ever_infected\"].plot()\n",
    "axis.set_title(\"prop_ever_infected\")"
   ]
  },
  {
   "cell_type": "code",
   "execution_count": null,
   "id": "d2d961b2",
   "metadata": {},
   "outputs": [],
   "source": []
  },
  {
   "cell_type": "code",
   "execution_count": null,
   "id": "ed45bc5f",
   "metadata": {},
   "outputs": [],
   "source": []
  }
 ],
 "metadata": {
  "kernelspec": {
   "display_name": "Python 3 (ipykernel)",
   "language": "python",
   "name": "python3"
  },
  "language_info": {
   "codemirror_mode": {
    "name": "ipython",
    "version": 3
   },
   "file_extension": ".py",
   "mimetype": "text/x-python",
   "name": "python",
   "nbconvert_exporter": "python",
   "pygments_lexer": "ipython3",
   "version": "3.10.4"
  }
 },
 "nbformat": 4,
 "nbformat_minor": 5
}
