{
 "cells": [
  {
   "cell_type": "code",
   "execution_count": null,
   "id": "1e7df4ba",
   "metadata": {},
   "outputs": [],
   "source": [
    "from autumn.tools.project import get_project, ParameterSet\n",
    "from matplotlib import pyplot as plt\n",
    "from autumn.tools.plots.utils import REF_DATE, change_xaxis_to_date\n",
    "import pandas as pd\n",
    "from autumn.tools.inputs.demography.queries import get_population_by_agegroup"
   ]
  },
  {
   "cell_type": "code",
   "execution_count": null,
   "id": "0951931f",
   "metadata": {},
   "outputs": [],
   "source": [
    "project = get_project(\"sm_sir\", \"malaysia\")\n",
    "#project = get_project(\"covid_19\", \"sri_lanka\")"
   ]
  },
  {
   "cell_type": "code",
   "execution_count": null,
   "id": "d9dba2fb",
   "metadata": {},
   "outputs": [],
   "source": [
    "# run baseline model\n",
    "model_0 = project.run_baseline_model(project.param_set.baseline)\n",
    "derived_df = model_0.get_derived_outputs_df()"
   ]
  },
  {
   "cell_type": "code",
   "execution_count": null,
   "id": "834cd7a7",
   "metadata": {},
   "outputs": [],
   "source": [
    "# run scenarios\n",
    "start_times = [\n",
    "    sc_params.to_dict()[\"time\"][\"start\"] for sc_params in project.param_set.scenarios\n",
    "]\n",
    "sc_models = project.run_scenario_models(model_0, project.param_set.scenarios, start_times=start_times)"
   ]
  },
  {
   "cell_type": "code",
   "execution_count": null,
   "id": "de971314",
   "metadata": {},
   "outputs": [],
   "source": [
    "derived_dfs = [m.get_derived_outputs_df() for m in sc_models]"
   ]
  },
  {
   "cell_type": "code",
   "execution_count": null,
   "id": "341fb4ca",
   "metadata": {},
   "outputs": [],
   "source": [
    "outputs = [\"notifications\", \"hospital_occupancy\", \"icu_occupancy\"]"
   ]
  },
  {
   "cell_type": "code",
   "execution_count": null,
   "id": "26411f28",
   "metadata": {},
   "outputs": [],
   "source": [
    "sc_colors = [ \"red\",\"green\", \"orange\", \"purple\", \"cornflowerblue\"]\n",
    "\n",
    "max_y = {\n",
    "    \"notifications\": 6000, \"hospital_occupancy\": 7000, \"icu_occupancy\": 1300,\n",
    "}\n",
    "\n",
    "scenario_lists = [[1,2,3, 4]]\n",
    "\n",
    "scenario_names = [\n",
    "    \"VoC twice as transmissible as Omicron\",\n",
    "    \"VoC more transmissible and completely escapes immunity\",\n",
    "    \"VoC completely escapes immunity\",\n",
    "    \"Waning vaccine-induced immunity\"\n",
    "] \n",
    "\n",
    "label_font_size = 15\n",
    "\n",
    "for i_s, scenario_list in enumerate(scenario_lists):\n",
    "    \n",
    "    for output in outputs:\n",
    "        fig = plt.figure(figsize=(12, 8))\n",
    "        plt.style.use(\"ggplot\")\n",
    "        axis = fig.add_subplot()\n",
    "        axis = derived_df[output].plot(color=\"black\", label=\"baseline\")\n",
    "\n",
    "        for sc_id in scenario_list:\n",
    "            \n",
    "            d = derived_dfs[sc_id - 1]\n",
    "            \n",
    "            if output in d.columns:\n",
    "                d[output].plot(color=sc_colors[sc_id - 1], label=scenario_names[sc_id - 1],linestyle = '--')\n",
    "        \n",
    "      \n",
    "        axis.set_ylabel(output.replace(\"_\", \" \"), fontsize=15)\n",
    "        axis.tick_params(axis=\"x\", labelrotation=45) \n",
    "        plt.setp(axis.get_xticklabels(), fontsize=label_font_size)\n",
    "        plt.setp(axis.get_yticklabels(), fontsize=label_font_size)\n",
    "        plt.legend(fontsize=12, facecolor=\"white\", markerscale=3)\n",
    "\n",
    "        "
   ]
  },
  {
   "cell_type": "markdown",
   "id": "cb964afa",
   "metadata": {},
   "source": [
    "## verify sum(age_specific_prop_infected)=prop_infected"
   ]
  },
  {
   "cell_type": "code",
   "execution_count": null,
   "id": "6198c124",
   "metadata": {},
   "outputs": [],
   "source": [
    "# plt.style.use(\"ggplot\")\n",
    "# AGEGROUP_STRATA = ['0', '15', '25', '50', '70']\n",
    "# total_prop_ever_infected = 0\n",
    "# age_distribution = get_population_by_agegroup(AGEGROUP_STRATA, 'MYS', None)\n",
    "# index = 0\n",
    "# for agegroup in AGEGROUP_STRATA:\n",
    "#     agegroup_string = f\"Xagegroup_{agegroup}\"\n",
    "#     name = f\"ever_infected{agegroup_string}\"\n",
    "    \n",
    " \n",
    "#     fig = plt.figure(figsize=(12, 8))\n",
    "#     axis = fig.add_subplot()\n",
    "#     plt.plot(derived_df[name]/age_distribution[index],label = \"prop_ever_infected\")\n",
    "#     print(age_distribution[index])\n",
    "#     index +=1\n",
    "\n",
    "    \n"
   ]
  },
  {
   "cell_type": "code",
   "execution_count": null,
   "id": "74613c4d",
   "metadata": {},
   "outputs": [],
   "source": []
  }
 ],
 "metadata": {
  "kernelspec": {
   "display_name": "Python 3 (ipykernel)",
   "language": "python",
   "name": "python3"
  },
  "language_info": {
   "codemirror_mode": {
    "name": "ipython",
    "version": 3
   },
   "file_extension": ".py",
   "mimetype": "text/x-python",
   "name": "python",
   "nbconvert_exporter": "python",
   "pygments_lexer": "ipython3",
   "version": "3.10.4"
  }
 },
 "nbformat": 4,
 "nbformat_minor": 5
}
