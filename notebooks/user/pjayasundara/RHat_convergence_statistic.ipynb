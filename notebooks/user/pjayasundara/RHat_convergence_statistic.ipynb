{
 "cells": [
  {
   "cell_type": "code",
   "execution_count": null,
   "id": "02f5ca9e",
   "metadata": {},
   "outputs": [],
   "source": [
    "# Import packages\n",
    "import os\n",
    "from matplotlib import pyplot as plt\n",
    "import pandas as pd\n",
    "import datetime\n",
    "\n",
    "# Import AuTuMN modules\n",
    "from autumn.settings import Models, Region\n",
    "from autumn.settings.folders import OUTPUT_DATA_PATH\n",
    "from autumn.tools.project import get_project\n",
    "from autumn.tools import db\n",
    "from autumn.tools.plots.calibration.plots import calculate_r_hats, get_output_from_run_id\n",
    "from autumn.tools.plots.uncertainty.plots import _plot_uncertainty, _get_target_values\n",
    "from autumn.tools.plots.plotter.base_plotter import COLOR_THEME\n",
    "from autumn.tools.plots.utils import get_plot_text_dict, change_xaxis_to_date, REF_DATE, ALPHAS, COLORS, _apply_transparency, _plot_targets_to_axis\n",
    "from autumn.tools.utils.utils import flatten_list\n",
    "from autumn.dashboards.calibration_results.plots import get_uncertainty_df\n",
    "from numpy import mean\n",
    "from math import floor, sqrt\n",
    "\n",
    "from typing import List"
   ]
  },
  {
   "cell_type": "code",
   "execution_count": null,
   "id": "3cafa36e",
   "metadata": {},
   "outputs": [],
   "source": [
    "# Specify model details\n",
    "model = Models.COVID_19\n",
    "region = Region.SRI_LANKA\n",
    "dirname = \"2022-04-05\""
   ]
  },
  {
   "cell_type": "code",
   "execution_count": null,
   "id": "dcf23425",
   "metadata": {},
   "outputs": [],
   "source": [
    "# get the relevant project and output data\n",
    "project = get_project(model, region)\n",
    "project_calib_dir = os.path.join(\n",
    "    OUTPUT_DATA_PATH, \"calibrate\", project.model_name, project.region_name\n",
    ")\n",
    "calib_path = os.path.join(project_calib_dir, dirname)\n",
    "# Load tables\n",
    "mcmc_tables = db.load.load_mcmc_tables(calib_path)\n",
    "mcmc_params = db.load.load_mcmc_params_tables(calib_path)\n",
    "mcmc_runs = db.load.load_mcmc_run_tables(calib_path)\n",
    "\n",
    "uncertainty_df = get_uncertainty_df(calib_path, mcmc_tables, project.plots)\n",
    "scenario_list = uncertainty_df['scenario'].unique()\n",
    "\n",
    "# make output directories\n",
    "output_dir = f\"{model}_{region}_{dirname}\"\n",
    "base_dir = os.path.join(\"outputs\", output_dir)\n",
    "os.makedirs(base_dir, exist_ok=True)\n",
    "dirs_to_make = [\"calibration\", \"MLE\", \"median\", \"uncertainty\", \"csv_files\"]\n",
    "for dir_to_make in dirs_to_make:\n",
    "    os.makedirs(os.path.join(base_dir, dir_to_make), exist_ok=True)"
   ]
  },
  {
   "cell_type": "code",
   "execution_count": null,
   "id": "91d10b70",
   "metadata": {},
   "outputs": [],
   "source": [
    "def get_posterior(mcmc_params, mcmc_tables, param_name, burn_in=0):\n",
    "    weighted_vals = []\n",
    "    for param_df, run_df in zip(mcmc_params, mcmc_tables):\n",
    "        table_df = param_df.merge(run_df, left_index=True,  right_index=True)\n",
    "        unweighted_vals = table_df[param_name]\n",
    "        weights = table_df.weight\n",
    "        for v, w in zip(unweighted_vals, weights):\n",
    "            weighted_vals += [v] * w\n",
    "\n",
    "    return pd.DataFrame(weighted_vals, columns=[param_name])"
   ]
  },
  {
   "cell_type": "code",
   "execution_count": null,
   "id": "12982d6e",
   "metadata": {},
   "outputs": [],
   "source": [
    "def split_mcmc_outputs_by_chain(mcmc_params, mcmc_runs, mcmc_tables):\n",
    "    chain_ids = mcmc_runs[0][\"chain\"].unique().tolist()\n",
    "    mcmc_params_list, mcmc_tables_list = [], []\n",
    "    for i_chain in chain_ids:\n",
    "        mcmc_params_list.append(\n",
    "            mcmc_runs[0][mcmc_runs[0][\"chain\"] == i_chain]\n",
    "        )\n",
    "        mcmc_tables_list.append(\n",
    "            mcmc_tables[0][mcmc_tables[0][\"chain\"] == i_chain]\n",
    "        )\n",
    "\n",
    "    return mcmc_params_list, mcmc_tables_list"
   ]
  },
  {
   "cell_type": "code",
   "execution_count": null,
   "id": "9e64628f",
   "metadata": {},
   "outputs": [],
   "source": [
    "def calculate_r_hat(posterior_chains):\n",
    "    \"\"\"\n",
    "    Calculate the R_hat statistic for a single parameter. The code below is intended to be compatible with chains of\n",
    "    different lengths. This is why the calculations may look slightly different compared to what is found in classic\n",
    "    textbooks.\n",
    "    :param posterior_chains: a dictionary, The keys are the chains ids and the values contain each chain's posterior\n",
    "    sample.\n",
    "    :return: the R_hat statistic (float)\n",
    "    \"\"\"\n",
    "    m = len(posterior_chains)\n",
    "\n",
    "    # Compute within-chain means\n",
    "    means_per_chain = {}\n",
    "    for j_chain, x_j in posterior_chains.items():\n",
    "        means_per_chain[j_chain] = mean(x_j)\n",
    "\n",
    "    # Compute overall mean\n",
    "    flat_listed_values = sum(list(posterior_chains.values()), [])\n",
    "    overall_mean = mean(flat_listed_values)\n",
    "\n",
    "    # Compute between-chain variation (B / n)\n",
    "    b_over_n = 1 / (m - 1) * sum([(means_per_chain[j_chain] - overall_mean)**2 for j_chain in range(m)])\n",
    "\n",
    "    # Compute within-chain variation for each chain\n",
    "    variation, chain_length = {}, {}\n",
    "    for j_chain, x_j in posterior_chains.items():\n",
    "        n_j = len(x_j)\n",
    "        variation[j_chain] = sum([(x_j[i] - means_per_chain[j_chain])**2 for i in range(n_j)])\n",
    "        chain_length[j_chain] = n_j\n",
    "\n",
    "    # Compute the average of within-chain variances (W)\n",
    "    w = 1 / m * sum([1 / (chain_length[j_chain] - 1) * variation[j_chain] for j_chain in range(m)])\n",
    "\n",
    "    # Calculate the marginal posterior variance\n",
    "    var_hat = 1 / m * sum([1 / chain_length[j_chain] * variation[j_chain] for j_chain in range(m)]) + b_over_n\n",
    "\n",
    "    # Calculate R_hat\n",
    "    r_hat = sqrt(var_hat / w)\n",
    "\n",
    "    return r_hat"
   ]
  },
  {
   "cell_type": "code",
   "execution_count": null,
   "id": "ae6a96c4",
   "metadata": {},
   "outputs": [],
   "source": [
    "def calculate_r_hats(mcmc_params: List[pd.DataFrame], mcmc_tables: List[pd.DataFrame], burn_in: int):\n",
    "    \"\"\"\n",
    "    Calculates the R_hat statistic for all parameters\n",
    "    :return: a dictionary\n",
    "    \"\"\"\n",
    "\n",
    "    # split tables by chain\n",
    "    param_options = mcmc_params[0].columns.tolist()\n",
    "    chain_idx = mcmc_tables[0].chain.unique()\n",
    "\n",
    "    r_hats = {}\n",
    "    for param_name in param_options:\n",
    "        posterior_chains = {}\n",
    "        for chain_id in chain_idx:\n",
    "            mask =  mcmc_tables[0].chain == chain_id\n",
    "            param_vals = mcmc_params[0][mask][param_name].to_list()\n",
    "            weights = mcmc_tables[0][mask].weight.to_list()\n",
    "            posterior_chains[chain_id] = flatten_list([[param_vals[i]] * w for i, w in enumerate(weights)])\n",
    "        r_hats[param_name] = calculate_r_hat(posterior_chains)\n",
    "\n",
    "    return r_hats"
   ]
  },
  {
   "cell_type": "code",
   "execution_count": null,
   "id": "7b7e6e00",
   "metadata": {},
   "outputs": [],
   "source": [
    "r_hats = calculate_r_hats(mcmc_params, mcmc_tables, burn_in=0)"
   ]
  },
  {
   "cell_type": "code",
   "execution_count": null,
   "id": "e4469fb5",
   "metadata": {},
   "outputs": [],
   "source": [
    "print(r_hats)"
   ]
  },
  {
   "cell_type": "code",
   "execution_count": null,
   "id": "87cf9dc2",
   "metadata": {},
   "outputs": [],
   "source": [
    "df = pd.DataFrame(data=r_hats, index=[0])\n",
    "\n",
    "df = (df.T)\n",
    "\n",
    "print (df)\n",
    "\n",
    "df.to_excel(r'C:\\Users\\pjay0011\\Desktop\\r_hat_statistics.xlsx')"
   ]
  },
  {
   "cell_type": "code",
   "execution_count": null,
   "id": "88b39804",
   "metadata": {},
   "outputs": [],
   "source": []
  }
 ],
 "metadata": {
  "kernelspec": {
   "display_name": "Python 3 (ipykernel)",
   "language": "python",
   "name": "python3"
  },
  "language_info": {
   "codemirror_mode": {
    "name": "ipython",
    "version": 3
   },
   "file_extension": ".py",
   "mimetype": "text/x-python",
   "name": "python",
   "nbconvert_exporter": "python",
   "pygments_lexer": "ipython3",
   "version": "3.10.4"
  }
 },
 "nbformat": 4,
 "nbformat_minor": 5
}
