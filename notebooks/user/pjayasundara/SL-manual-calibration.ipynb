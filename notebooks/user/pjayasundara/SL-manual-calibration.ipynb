{
 "cells": [
  {
   "cell_type": "code",
   "execution_count": null,
   "id": "ddcca6cd",
   "metadata": {},
   "outputs": [],
   "source": [
    "from autumn.tools.project import get_project\n",
    "from autumn.settings import Region\n",
    "from matplotlib import pyplot\n",
    "from autumn.tools.plots.utils import REF_DATE\n",
    "from autumn.tools.calibration.targets import get_target_series\n",
    "import pandas as pd\n",
    "from autumn.tools.utils.pretty import pretty_print"
   ]
  },
  {
   "cell_type": "code",
   "execution_count": null,
   "id": "e38bd961",
   "metadata": {},
   "outputs": [],
   "source": [
    "project = get_project(\"covid_19\", \"sri_lanka\")"
   ]
  },
  {
   "cell_type": "code",
   "execution_count": null,
   "id": "5fa7c953",
   "metadata": {},
   "outputs": [],
   "source": [
    "params_baseline = project.param_set.baseline"
   ]
  },
  {
   "cell_type": "code",
   "execution_count": null,
   "id": "94f42203",
   "metadata": {},
   "outputs": [],
   "source": [
    "model = project.run_baseline_model(params_baseline)"
   ]
  },
  {
   "cell_type": "code",
   "execution_count": null,
   "id": "13a197cb",
   "metadata": {},
   "outputs": [],
   "source": [
    "model.compartments"
   ]
  },
  {
   "cell_type": "code",
   "execution_count": null,
   "id": "45d90794",
   "metadata": {},
   "outputs": [],
   "source": [
    "set([i.source.strata[\"history\"] for i in model._flows if i.name==\"recovery\"])"
   ]
  },
  {
   "cell_type": "code",
   "execution_count": null,
   "id": "eba750c9",
   "metadata": {},
   "outputs": [],
   "source": [
    "set([i.source.name for i in model._flows if i.name==\"recovery\"])"
   ]
  },
  {
   "cell_type": "code",
   "execution_count": null,
   "id": "24387ed3",
   "metadata": {},
   "outputs": [],
   "source": [
    "derived_df = model.get_derived_outputs_df()"
   ]
  },
  {
   "cell_type": "code",
   "execution_count": null,
   "id": "c39af1b2",
   "metadata": {},
   "outputs": [],
   "source": [
    "def plot_derived_outputs(requested_outputs):\n",
    "\n",
    "    # Preparing\n",
    "    fig = pyplot.figure(figsize=(14, 8))\n",
    "    for i_out, output in enumerate(requested_outputs):\n",
    "\n",
    "        # Plotting\n",
    "        axis = fig.add_subplot(2, 2, i_out + 1)\n",
    "        axis.plot(derived_df[output])\n",
    "\n",
    "        try:\n",
    "            target_dates, target_values = get_target_series(project.calibration.targets, REF_DATE, output)\n",
    "            axis.scatter(target_dates, target_values, c=\"k\")\n",
    "        except:\n",
    "            print(f\"targets not available for {output}\")\n",
    "\n",
    "        # Finishing up\n",
    "        axis.set_title(output)\n",
    "        axis.set_ylim(bottom=0.)\n",
    "        if \"prop_\" in output:\n",
    "            axis.set_ylim(top=1.)\n",
    "        pyplot.setp(axis.get_xticklabels(), rotation=45)\n",
    "    fig.tight_layout()"
   ]
  }
 ],
 "metadata": {
  "kernelspec": {
   "display_name": "Python 3 (ipykernel)",
   "language": "python",
   "name": "python3"
  },
  "language_info": {
   "codemirror_mode": {
    "name": "ipython",
    "version": 3
   },
   "file_extension": ".py",
   "mimetype": "text/x-python",
   "name": "python",
   "nbconvert_exporter": "python",
   "pygments_lexer": "ipython3",
   "version": "3.7.13"
  }
 },
 "nbformat": 4,
 "nbformat_minor": 5
}
