{
 "cells": [
  {
   "cell_type": "code",
   "execution_count": null,
   "id": "59b8fe31",
   "metadata": {},
   "outputs": [],
   "source": [
    "from autumn.tools.project import get_project\n",
    "from autumn.settings import Region\n",
    "from matplotlib import pyplot\n",
    "from autumn.tools.plots.utils import REF_DATE\n",
    "from autumn.tools.calibration.targets import get_target_series\n",
    "import pandas as pd\n",
    "from autumn.tools.utils.pretty import pretty_print\n",
    "\n",
    "import timeit"
   ]
  },
  {
   "cell_type": "code",
   "execution_count": null,
   "id": "47b497d1",
   "metadata": {},
   "outputs": [],
   "source": [
    "project = get_project(\"covid_19\", \"sri_lanka\")"
   ]
  },
  {
   "cell_type": "code",
   "execution_count": null,
   "id": "d9ec4330",
   "metadata": {},
   "outputs": [],
   "source": [
    "params_baseline = project.param_set.baseline"
   ]
  },
  {
   "cell_type": "code",
   "execution_count": null,
   "id": "13797e1b",
   "metadata": {},
   "outputs": [],
   "source": [
    "model = project.run_baseline_model(params_baseline)"
   ]
  },
  {
   "cell_type": "code",
   "execution_count": null,
   "id": "cdfaabdd",
   "metadata": {},
   "outputs": [],
   "source": [
    "model.compartments"
   ]
  },
  {
   "cell_type": "code",
   "execution_count": null,
   "id": "35f4d766",
   "metadata": {},
   "outputs": [],
   "source": [
    "set([i.source.strata[\"history\"] for i in model._flows if i.name==\"recovery\"])"
   ]
  },
  {
   "cell_type": "code",
   "execution_count": null,
   "id": "00ea8455",
   "metadata": {},
   "outputs": [],
   "source": [
    "set([i.source.name for i in model._flows if i.name==\"recovery\"])"
   ]
  },
  {
   "cell_type": "code",
   "execution_count": null,
   "id": "2aa5fa58",
   "metadata": {},
   "outputs": [],
   "source": [
    "derived_df = model.get_derived_outputs_df()"
   ]
  },
  {
   "cell_type": "code",
   "execution_count": null,
   "id": "3d97d7d5",
   "metadata": {},
   "outputs": [],
   "source": [
    "def plot_derived_outputs(requested_outputs):\n",
    "\n",
    "    # Preparing\n",
    "    fig = pyplot.figure(figsize=(14, 8))\n",
    "    for i_out, output in enumerate(requested_outputs):\n",
    "\n",
    "        # Plotting\n",
    "        axis = fig.add_subplot(2, 2, i_out + 1)\n",
    "        axis.plot(derived_df[output])\n",
    "\n",
    "        try:\n",
    "            target_dates, target_values = get_target_series(project.calibration.targets, REF_DATE, output)\n",
    "            axis.scatter(target_dates, target_values, c=\"k\")\n",
    "        except:\n",
    "            print(f\"targets not available for {output}\")\n",
    "\n",
    "        # Finishing up\n",
    "        axis.set_title(output)\n",
    "        axis.set_ylim(bottom=0.)\n",
    "        if \"prop_\" in output:\n",
    "            axis.set_ylim(top=1.)\n",
    "        pyplot.setp(axis.get_xticklabels(), rotation=45)\n",
    "    fig.tight_layout()"
   ]
  },
  {
   "cell_type": "markdown",
   "id": "771336c4",
   "metadata": {},
   "source": [
    "# vaccine coverage"
   ]
  },
  {
   "cell_type": "code",
   "execution_count": null,
   "id": "38a19425",
   "metadata": {},
   "outputs": [],
   "source": [
    "[col for col in derived_df.columns if \"proportion_\" in col]"
   ]
  },
  {
   "cell_type": "code",
   "execution_count": null,
   "id": "c43874c8",
   "metadata": {},
   "outputs": [],
   "source": [
    "fig = pyplot.figure(figsize=(14, 8))\n",
    "axis = fig.add_subplot(1, 1, 1)\n",
    "\n",
    "at_least_one_dose = derived_df[\"at_least_one_dose_prop\"]\n",
    "\n",
    "axis.fill_between(\n",
    "    derived_df.index,\n",
    "    [0.] * len(derived_df),\n",
    "    derived_df[\"proportion_waned\"],\n",
    "    label=\"waned immunity\"\n",
    ")\n",
    "axis.fill_between(\n",
    "    derived_df.index,\n",
    "    derived_df[\"proportion_waned\"],\n",
    "    derived_df[\"proportion_part_waned\"] + derived_df[\"proportion_waned\"],\n",
    "    label=\"partially waned immunity\"\n",
    ")\n",
    "axis.fill_between(\n",
    "    derived_df.index,\n",
    "    derived_df[\"proportion_waned\"] + derived_df[\"proportion_part_waned\"],\n",
    "    derived_df[\"proportion_fully_vaccinated\"] +derived_df[\"proportion_waned\"] + derived_df[\"proportion_part_waned\"],\n",
    "    label=\"fully vaccinated\"\n",
    ")\n",
    "axis.fill_between(\n",
    "    derived_df.index,\n",
    "    derived_df[\"proportion_fully_vaccinated\"] + derived_df[\"proportion_waned\"] + derived_df[\"proportion_part_waned\"],\n",
    "    derived_df[\"proportion_one_dose\"] + derived_df[\"proportion_fully_vaccinated\"] +derived_df[\"proportion_waned\"] + derived_df[\"proportion_part_waned\"],\n",
    "    label=\"one dose only\"\n",
    ")\n",
    "axis.fill_between(\n",
    "    derived_df.index,\n",
    "    derived_df[\"proportion_one_dose\"] + derived_df[\"proportion_fully_vaccinated\"] + derived_df[\"proportion_waned\"] + derived_df[\"proportion_part_waned\"],\n",
    "    [1.] * len(derived_df),\n",
    "    label=\"unvaccinated\"\n",
    ")\n",
    "axis.legend()"
   ]
  }
 ],
 "metadata": {
  "kernelspec": {
   "display_name": "Python 3 (ipykernel)",
   "language": "python",
   "name": "python3"
  },
  "language_info": {
   "codemirror_mode": {
    "name": "ipython",
    "version": 3
   },
   "file_extension": ".py",
   "mimetype": "text/x-python",
   "name": "python",
   "nbconvert_exporter": "python",
   "pygments_lexer": "ipython3",
   "version": "3.7.13"
  }
 },
 "nbformat": 4,
 "nbformat_minor": 5
}
