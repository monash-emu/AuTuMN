{
 "cells": [
  {
   "cell_type": "code",
   "execution_count": null,
   "id": "41c98465",
   "metadata": {},
   "outputs": [],
   "source": [
    "from autumn.tools.project import get_project\n",
    "from autumn.tools.inputs.covid_lka.preprocess import COVID_BASE_DATETIME\n",
    "from autumn.tools.calibration.targets import get_target_series\n",
    "import pandas as pd\n",
    "\n",
    "from autumn.tools.inputs.covid_lka.queries import get_lka_vac_coverage\n",
    "from matplotlib import pyplot as plt\n",
    "# from summer.utils import ref_times_to_dti"
   ]
  },
  {
   "cell_type": "code",
   "execution_count": null,
   "id": "7d3a8f6c",
   "metadata": {},
   "outputs": [],
   "source": [
    "project = get_project(\"covid_19\", \"sri_lanka\")\n",
    "custom_params = project.param_set.baseline#.update(dict(contact_rate = 0.1))\n",
    "model = project.run_baseline_model(custom_params)\n",
    "derived_df = model.get_derived_outputs_df()"
   ]
  },
  {
   "cell_type": "markdown",
   "id": "64486f06",
   "metadata": {},
   "source": [
    "# plot the vaccine coverage"
   ]
  },
  {
   "cell_type": "code",
   "execution_count": null,
   "id": "d0915ed8",
   "metadata": {},
   "outputs": [],
   "source": [
    "fig, axes = plt.subplots(4, 2, figsize=(12, 20), sharex=\"all\")\n",
    "fig.tight_layout(w_pad=1.5, h_pad=3.5)\n",
    "\n",
    "for i_ax, axis in enumerate(axes.reshape(-1)[:-1]):\n",
    "    axis.fill_between(\n",
    "        derived_dfs[regions[i_ax]].index, \n",
    "        [0.] * len(derived_dfs[regions[i_ax]]), \n",
    "        derived_dfs[regions[i_ax]][\"proportion_fully_vaccinated\"], \n",
    "        label=\"fully vaccinated\"\n",
    "    )\n",
    "    axis.fill_between(\n",
    "        derived_dfs[regions[i_ax]].index, \n",
    "        derived_dfs[regions[i_ax]][\"proportion_fully_vaccinated\"], \n",
    "        derived_dfs[regions[i_ax]][\"at_least_one_dose_prop\"], \n",
    "        label=\"one dose only\"\n",
    "    )\n",
    "    axis.fill_between(\n",
    "        derived_dfs[regions[i_ax]].index, \n",
    "        derived_dfs[regions[i_ax]][\"at_least_one_dose_prop\"], \n",
    "        [1.] * len(derived_dfs[regions[i_ax]]), \n",
    "        label=\"unvaccinated\"\n",
    "    )\n",
    "    vacc_times, vacc_coverage = get_both_vacc_coverage(regions[i_ax].upper().replace(\"-\", \"_\"))\n",
    "    vacc_dates = ref_times_to_dti(BASE_DATETIME, [int(i) for i in vacc_times])  # Converting numpy ints returned\n",
    "    lagged_dates = ref_times_to_dti(BASE_DATETIME, [int(i) + 14 for i in vacc_times])\n",
    "    axis.plot(vacc_dates, vacc_coverage, color=\"k\", label=\"actual vaccination\")\n",
    "    axis.plot(lagged_dates, vacc_coverage, color=\"k\", linestyle=\"--\", label=\"lagged for immunity\")\n",
    "    axis.tick_params(axis=\"x\", labelrotation=45)\n",
    "    axis.set_title(regions[i_ax])\n",
    "    if i_ax == len(axes.reshape(-1)) - 2:\n",
    "        axis.legend()"
   ]
  },
  {
   "cell_type": "code",
   "execution_count": null,
   "id": "00abce94",
   "metadata": {},
   "outputs": [],
   "source": []
  }
 ],
 "metadata": {
  "kernelspec": {
   "display_name": "Python 3 (ipykernel)",
   "language": "python",
   "name": "python3"
  },
  "language_info": {
   "codemirror_mode": {
    "name": "ipython",
    "version": 3
   },
   "file_extension": ".py",
   "mimetype": "text/x-python",
   "name": "python",
   "nbconvert_exporter": "python",
   "pygments_lexer": "ipython3",
   "version": "3.10.4"
  }
 },
 "nbformat": 4,
 "nbformat_minor": 5
}
