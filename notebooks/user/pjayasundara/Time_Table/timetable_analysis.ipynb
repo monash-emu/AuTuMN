{
 "cells": [
  {
   "cell_type": "code",
   "execution_count": null,
   "id": "7f40f4d4",
   "metadata": {},
   "outputs": [],
   "source": [
    "import pandas as pd\n"
   ]
  },
  {
   "cell_type": "code",
   "execution_count": null,
   "id": "487f8cf7",
   "metadata": {},
   "outputs": [],
   "source": [
    "df = pd.read_excel('Science Timetable - Burwood 2022.xlsx', sheet_name='Faculty of Science Timetable', converters={'names':str,'ages':str})\n"
   ]
  },
  {
   "cell_type": "code",
   "execution_count": null,
   "id": "7a08c78a",
   "metadata": {},
   "outputs": [],
   "source": [
    "df.head(5)"
   ]
  },
  {
   "cell_type": "code",
   "execution_count": null,
   "id": "515b57a9",
   "metadata": {},
   "outputs": [],
   "source": [
    "df.dtypes"
   ]
  },
  {
   "cell_type": "code",
   "execution_count": null,
   "id": "4068f0ab",
   "metadata": {},
   "outputs": [],
   "source": [
    "## Splitting the Scheduled Start Time to only have the 24hour format\n",
    "df['Scheduled Start Time'] = df['Scheduled Start Time'].astype('str') \n",
    "df['Converted_24h_format'] = df['Scheduled Start Time'].str.split(':').str[0]\n",
    "df['Converted_24h_format'] = df['Converted_24h_format'].astype(int)\n"
   ]
  },
  {
   "cell_type": "code",
   "execution_count": null,
   "id": "d0f63b41",
   "metadata": {},
   "outputs": [],
   "source": [
    "# Categorise depending on whether the start time is in golden hour or not\n",
    "def golden_hour_check(row):\n",
    "    if (row['Converted_24h_format']>=9) & (row['Converted_24h_format']<=17):\n",
    "        return 'Yes'\n",
    "    else:\n",
    "        return 'No'"
   ]
  },
  {
   "cell_type": "code",
   "execution_count": null,
   "id": "71f31063",
   "metadata": {},
   "outputs": [],
   "source": [
    "df[\"Golden_Hour\"]=df.apply(lambda row:golden_hour_check(row), axis=1)"
   ]
  },
  {
   "cell_type": "code",
   "execution_count": null,
   "id": "c30c2ce4",
   "metadata": {},
   "outputs": [],
   "source": [
    "df.head()"
   ]
  },
  {
   "cell_type": "code",
   "execution_count": null,
   "id": "f46b1066",
   "metadata": {},
   "outputs": [],
   "source": [
    "## Splitting Duration Time to only have the hours\n",
    "df['Duration (Hours)'] = df['Duration (Hours)'].astype('str') \n",
    "df['Converted_duration_1'] = df['Duration (Hours)'].str.split(':').str[0]\n",
    "df['Converted_duration_2'] = df['Duration (Hours)'].str.split(':').str[1]\n",
    "df['Converted_duration_1'] = df['Converted_duration_1'].astype(int)\n",
    "df['Converted_duration_2'] = df['Converted_duration_2'].astype(int)\n",
    "df['Converted_duration_2'] =df['Converted_duration_2']/60\n",
    "df['Converted_duration'] = df['Converted_duration_1']+df['Converted_duration_2']\n",
    "df = df.drop(['Converted_duration_1', 'Converted_duration_2'], axis=1)"
   ]
  },
  {
   "cell_type": "code",
   "execution_count": null,
   "id": "9e44d1b2",
   "metadata": {},
   "outputs": [],
   "source": [
    "df.to_csv(f\"C:/Users/pjay0011/Desktop/time_table.csv\")"
   ]
  },
  {
   "cell_type": "code",
   "execution_count": null,
   "id": "5a8c3c9d",
   "metadata": {},
   "outputs": [],
   "source": [
    "df.head()"
   ]
  },
  {
   "cell_type": "code",
   "execution_count": null,
   "id": "7bcafe51",
   "metadata": {},
   "outputs": [],
   "source": [
    "#tmp1 = df.groupby(['Scheduled Days', 'Golden_Hour'])['Converted_duration'].sum().reset_index()"
   ]
  },
  {
   "cell_type": "code",
   "execution_count": null,
   "id": "bf4cb0e3",
   "metadata": {},
   "outputs": [],
   "source": [
    "week_day_duration = df.groupby(['Scheduled Days'])['Converted_duration'].sum()\n",
    "week_day_duration_golden = df.groupby(['Scheduled Days','Golden_Hour'])['Converted_duration'].sum()\n",
    "prop_week_day_duration_golden = (week_day_duration_golden/week_day_duration)*100"
   ]
  },
  {
   "cell_type": "code",
   "execution_count": null,
   "id": "9376d94d",
   "metadata": {},
   "outputs": [],
   "source": [
    "tmp1 = prop_week_day_duration_golden.reset_index()"
   ]
  },
  {
   "cell_type": "code",
   "execution_count": null,
   "id": "9a67ce86",
   "metadata": {},
   "outputs": [],
   "source": [
    "#tmp2 = df.groupby(['Activity Type Name','Golden_Hour'])['Converted_duration'].mean().reset_index()\n",
    "class_seminar_duration = df.groupby(['Activity Type Name'])['Converted_duration'].sum()\n",
    "class_seminar_golden = df.groupby(['Activity Type Name','Golden_Hour'])['Converted_duration'].sum()\n",
    "prop_class_seminar_golden = (class_seminar_golden/class_seminar_duration)*100\n"
   ]
  },
  {
   "cell_type": "code",
   "execution_count": null,
   "id": "3eb84b18",
   "metadata": {},
   "outputs": [],
   "source": [
    "tmp2 = prop_class_seminar_golden.reset_index()"
   ]
  },
  {
   "cell_type": "code",
   "execution_count": null,
   "id": "ff45aeee",
   "metadata": {},
   "outputs": [],
   "source": [
    "tmp2.head()\n"
   ]
  },
  {
   "cell_type": "code",
   "execution_count": null,
   "id": "1072f26e",
   "metadata": {},
   "outputs": [],
   "source": [
    "tmp1.head()"
   ]
  },
  {
   "cell_type": "code",
   "execution_count": null,
   "id": "de3ccce2",
   "metadata": {},
   "outputs": [],
   "source": [
    "tmp1_final = tmp1[tmp1['Golden_Hour'] == 'Yes']  ## geting only the yes values"
   ]
  },
  {
   "cell_type": "code",
   "execution_count": null,
   "id": "fcc2b857",
   "metadata": {},
   "outputs": [],
   "source": [
    "tmp2_final = tmp2[tmp2['Golden_Hour'] == 'Yes']"
   ]
  },
  {
   "cell_type": "code",
   "execution_count": null,
   "id": "7b32ffe0",
   "metadata": {},
   "outputs": [],
   "source": [
    "tmp1_final.head(5)"
   ]
  },
  {
   "cell_type": "code",
   "execution_count": null,
   "id": "f80038fd",
   "metadata": {},
   "outputs": [],
   "source": [
    "tmp2_final.head(5)"
   ]
  },
  {
   "cell_type": "code",
   "execution_count": null,
   "id": "f4cee856",
   "metadata": {},
   "outputs": [],
   "source": [
    "tmp2_final.rename(columns = {'Converted_duration':'Converted_activity_duration'}, inplace = True)"
   ]
  },
  {
   "cell_type": "code",
   "execution_count": null,
   "id": "a536b09b",
   "metadata": {},
   "outputs": [],
   "source": [
    "df2 = tmp1_final.merge(tmp2_final,on='Golden_Hour',how = 'left')"
   ]
  },
  {
   "cell_type": "code",
   "execution_count": null,
   "id": "21179096",
   "metadata": {},
   "outputs": [],
   "source": [
    "df2.head(5)"
   ]
  },
  {
   "cell_type": "code",
   "execution_count": null,
   "id": "e04774d8",
   "metadata": {},
   "outputs": [],
   "source": [
    "df2.to_csv(f\"C:/Users/pjay0011/Desktop/grouped_data_time_table.csv\")"
   ]
  },
  {
   "cell_type": "code",
   "execution_count": null,
   "id": "fac5e386",
   "metadata": {},
   "outputs": [],
   "source": []
  }
 ],
 "metadata": {
  "kernelspec": {
   "display_name": "Python 3 (ipykernel)",
   "language": "python",
   "name": "python3"
  },
  "language_info": {
   "codemirror_mode": {
    "name": "ipython",
    "version": 3
   },
   "file_extension": ".py",
   "mimetype": "text/x-python",
   "name": "python",
   "nbconvert_exporter": "python",
   "pygments_lexer": "ipython3",
   "version": "3.10.4"
  }
 },
 "nbformat": 4,
 "nbformat_minor": 5
}
