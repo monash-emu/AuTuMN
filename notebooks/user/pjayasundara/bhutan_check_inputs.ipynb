{
 "cells": [
  {
   "cell_type": "code",
   "execution_count": 1,
   "id": "48914d35",
   "metadata": {},
   "outputs": [],
   "source": [
    "import matplotlib.pyplot as plt\n",
    "import matplotlib.cm as cm\n",
    "import matplotlib.dates as mdates\n",
    "from datetime import date\n",
    "from datetime import datetime\n",
    "import numpy as np\n",
    "\n",
    "from summer.utils import ref_times_to_dti\n",
    "\n",
    "from autumn.tools.inputs.demography.queries import get_population_by_agegroup\n",
    "from autumn.models.covid_19.detection import create_cdr_function\n",
    "from autumn.tools.utils.utils import apply_moving_average\n",
    "from autumn.tools.curve.scale_up import scale_up_function\n",
    "from autumn.tools.project import get_project\n",
    "from autumn.settings import Region, Models\n",
    "from autumn.models.covid_19.constants import AGEGROUP_STRATA, GOOGLE_MOBILITY_LOCATIONS\n",
    "from autumn.settings.constants import COVID_BASE_DATETIME\n",
    "from autumn.models.covid_19.mixing_matrix.macrodistancing import weight_mobility_data, get_mobility_data\n",
    "from autumn.tools.plots.utils import REF_DATE\n",
    "from autumn.tools import inputs\n",
    "from autumn.tools.inputs.database import get_input_db\n",
    "from autumn.tools.utils.pretty import pretty_print\n",
    "from autumn.tools.inputs.social_mixing.build_synthetic_matrices import build_synthetic_matrices\n",
    "from autumn.models.covid_19.detection import get_testing_numbers_for_region"
   ]
  },
  {
   "cell_type": "code",
   "execution_count": 2,
   "id": "f7c00980",
   "metadata": {},
   "outputs": [],
   "source": [
    "plt.style.use('ggplot')"
   ]
  },
  {
   "cell_type": "code",
   "execution_count": 3,
   "id": "593e28f4",
   "metadata": {},
   "outputs": [],
   "source": [
    "age_integers = [int(group) for group in AGEGROUP_STRATA]\n",
    "model = Models.SM_SIR\n",
    "region = Region.BHUTAN\n",
    "project = get_project(model, region, reload=True)\n",
    "base_params = project.param_set.baseline"
   ]
  },
  {
   "cell_type": "markdown",
   "id": "bfbd2521",
   "metadata": {},
   "source": [
    "# Population"
   ]
  },
  {
   "cell_type": "code",
   "execution_count": 4,
   "id": "2d52932f",
   "metadata": {},
   "outputs": [
    {
     "name": "stdout",
     "output_type": "stream",
     "text": [
      "total modelled population of bhutan is: 763.247 thousand\n"
     ]
    },
    {
     "data": {
      "text/plain": [
       "Text(0.5, 0.98, 'population distribution by age')"
      ]
     },
     "execution_count": 4,
     "metadata": {},
     "output_type": "execute_result"
    },
    {
     "data": {
      "image/png": "[encoded data removed]",
      "text/plain": [
       "<Figure size 720x432 with 1 Axes>"
      ]
     },
     "metadata": {},
     "output_type": "display_data"
    }
   ],
   "source": [
    "fig, ax = plt.subplots(1, 1, figsize=(10, 6))\n",
    "age_groups = base_params[\"age_groups\"]\n",
    "\n",
    "total_pops = inputs.get_population_by_agegroup(\n",
    "    age_groups, \n",
    "    base_params[\"country\"][\"iso3\"],\n",
    "    None,\n",
    "#     \"FDMN\", \n",
    "    year=base_params[\"population\"][\"year\"]\n",
    ")\n",
    "print(f\"total modelled population of {region} is: {round(sum(total_pops) / 1e3, 3)} thousand\")\n",
    "ax.bar(age_groups, total_pops, width=4)\n",
    "ax.set_title(region)\n",
    "ax.set_ylabel(\"population\")\n",
    "ax.set_xlabel(\"starting age of age bracket\")\n",
    "fig.suptitle(\"population distribution by age\")"
   ]
  },
  {
   "cell_type": "markdown",
   "id": "9e865f83",
   "metadata": {},
   "source": [
    "# Mobility"
   ]
  },
  {
   "cell_type": "code",
   "execution_count": 5,
   "id": "25315d35",
   "metadata": {},
   "outputs": [
    {
     "name": "stdout",
     "output_type": "stream",
     "text": [
      "Whether mobility effects are turned on: True\n"
     ]
    }
   ],
   "source": [
    "print(f\"Whether mobility effects are turned on: {base_params['is_dynamic_mixing_matrix']}\")"
   ]
  },
  {
   "cell_type": "code",
   "execution_count": 6,
   "id": "b380e39e",
   "metadata": {},
   "outputs": [
    {
     "ename": "NameError",
     "evalue": "name 'times' is not defined",
     "output_type": "error",
     "traceback": [
      "\u001b[1;31m---------------------------------------------------------------------------\u001b[0m",
      "\u001b[1;31mNameError\u001b[0m                                 Traceback (most recent call last)",
      "\u001b[1;32mc:\\autumn\\notebooks\\user\\pjayasundara\\bhutan_check_inputs.ipynb Cell 8'\u001b[0m in \u001b[0;36m<cell line: 1>\u001b[1;34m()\u001b[0m\n\u001b[1;32m----> <a href='vscode-notebook-cell:/c%3A/autumn/notebooks/user/pjayasundara/bhutan_check_inputs.ipynb#ch0000007?line=0'>1</a>\u001b[0m times\n",
      "\u001b[1;31mNameError\u001b[0m: name 'times' is not defined"
     ]
    }
   ],
   "source": [
    "times"
   ]
  },
  {
   "cell_type": "code",
   "execution_count": 7,
   "id": "dd3ef4cc",
   "metadata": {},
   "outputs": [
    {
     "ename": "IndexError",
     "evalue": "list index out of range",
     "output_type": "error",
     "traceback": [
      "\u001b[1;31m---------------------------------------------------------------------------\u001b[0m",
      "\u001b[1;31mIndexError\u001b[0m                                Traceback (most recent call last)",
      "\u001b[1;32mc:\\autumn\\notebooks\\user\\pjayasundara\\bhutan_check_inputs.ipynb Cell 9'\u001b[0m in \u001b[0;36m<cell line: 12>\u001b[1;34m()\u001b[0m\n\u001b[0;32m     <a href='vscode-notebook-cell:/c%3A/autumn/notebooks/user/pjayasundara/bhutan_check_inputs.ipynb#ch0000008?line=9'>10</a>\u001b[0m mob_fig, mob_axes \u001b[39m=\u001b[39m plt\u001b[39m.\u001b[39msubplots(\u001b[39m1\u001b[39m, \u001b[39m2\u001b[39m, figsize\u001b[39m=\u001b[39m(\u001b[39m12\u001b[39m, \u001b[39m6\u001b[39m))\n\u001b[0;32m     <a href='vscode-notebook-cell:/c%3A/autumn/notebooks/user/pjayasundara/bhutan_check_inputs.ipynb#ch0000008?line=10'>11</a>\u001b[0m plot_left_date \u001b[39m=\u001b[39m date(\u001b[39m2020\u001b[39m, \u001b[39m1\u001b[39m, \u001b[39m1\u001b[39m)\n\u001b[1;32m---> <a href='vscode-notebook-cell:/c%3A/autumn/notebooks/user/pjayasundara/bhutan_check_inputs.ipynb#ch0000008?line=11'>12</a>\u001b[0m plot_right_date \u001b[39m=\u001b[39m times[\u001b[39m-\u001b[39;49m\u001b[39m1\u001b[39;49m]  \u001b[39m# Not sure why this is necessary\u001b[39;00m\n\u001b[0;32m     <a href='vscode-notebook-cell:/c%3A/autumn/notebooks/user/pjayasundara/bhutan_check_inputs.ipynb#ch0000008?line=13'>14</a>\u001b[0m \u001b[39m# Plot raw mobility data\u001b[39;00m\n\u001b[0;32m     <a href='vscode-notebook-cell:/c%3A/autumn/notebooks/user/pjayasundara/bhutan_check_inputs.ipynb#ch0000008?line=14'>15</a>\u001b[0m ax \u001b[39m=\u001b[39m mob_axes[\u001b[39m0\u001b[39m]\n",
      "\u001b[1;31mIndexError\u001b[0m: list index out of range"
     ]
    },
    {
     "data": {
      "image/png": "[encoded data removed]",
      "text/plain": [
       "<Figure size 864x432 with 2 Axes>"
      ]
     },
     "metadata": {},
     "output_type": "display_data"
    }
   ],
   "source": [
    "y_upper = 2.\n",
    "\n",
    "# Collate data together\n",
    "input_db = get_input_db()\n",
    "mob_df = get_mobility_data(\"BTN\", region=False,base_date = COVID_BASE_DATETIME )[0]\n",
    "times = mob_df[\"date\"].to_list()\n",
    "google_mob_df = weight_mobility_data(mob_df, project.param_set.baseline[\"mobility\"][\"google_mobility_locations\"])\n",
    "\n",
    "# Get plots ready\n",
    "mob_fig, mob_axes = plt.subplots(1, 2, figsize=(12, 6))\n",
    "plot_left_date = date(2020, 1, 1)\n",
    "plot_right_date = times[-1]  # Not sure why this is necessary\n",
    "\n",
    "# Plot raw mobility data\n",
    "ax = mob_axes[0]\n",
    "for mobility_domain in GOOGLE_MOBILITY_LOCATIONS:\n",
    "    ax.plot(times, mob_df[mobility_domain], label=mobility_domain)\n",
    "ax.set_ylim((0., y_upper))\n",
    "ax.tick_params(axis=\"x\", labelrotation=45)\n",
    "ax.set_title(\"raw Google mobility domains\")\n",
    "ax.legend(loc=\"upper right\")\n",
    "ax.set_xlim(left=plot_left_date, right=plot_right_date)\n",
    "\n",
    "# Plot processed mobility data\n",
    "ax = mob_axes[1]\n",
    "for location in list(project.param_set.baseline[\"mobility\"][\"google_mobility_locations\"].keys()):\n",
    "    ax.plot(times, google_mob_df[location], label=location)\n",
    "ax.tick_params(axis=\"x\", labelrotation=45)\n",
    "ax.set_ylim((0., y_upper))\n",
    "ax.legend(loc=\"upper left\")\n",
    "ax.set_title(\"mobility as implemented in the model\")\n",
    "mob_fig.tight_layout(w_pad=1.5, h_pad=3.5)\n",
    "ax.set_xlim(left=plot_left_date, right=plot_right_date)"
   ]
  },
  {
   "cell_type": "markdown",
   "id": "4d045649",
   "metadata": {},
   "source": [
    "# Mixing matrix"
   ]
  },
  {
   "cell_type": "code",
   "execution_count": 8,
   "id": "391451e3",
   "metadata": {},
   "outputs": [
    {
     "name": "stdout",
     "output_type": "stream",
     "text": [
      "Modelled country: BTN\n",
      "Modelled sub-region: None\n",
      "Proxy country: CHN\n",
      "Always age-adjusted under SM-SIR code\n"
     ]
    }
   ],
   "source": [
    "print(f\"Modelled country: {project.param_set.baseline['country']['iso3']}\")\n",
    "print(f\"Modelled sub-region: {project.param_set.baseline['population']['region']}\")\n",
    "print(f\"Proxy country: {project.param_set.baseline['ref_mixing_iso3']}\")\n",
    "print(\"Always age-adjusted under SM-SIR code\")"
   ]
  },
  {
   "cell_type": "code",
   "execution_count": 9,
   "id": "550013f7",
   "metadata": {},
   "outputs": [
    {
     "data": {
      "image/png": "[encoded data removed]",
      "text/plain": [
       "<Figure size 864x576 with 5 Axes>"
      ]
     },
     "metadata": {},
     "output_type": "display_data"
    },
    {
     "data": {
      "image/png": "[encoded data removed]",
      "text/plain": [
       "<Figure size 864x576 with 5 Axes>"
      ]
     },
     "metadata": {},
     "output_type": "display_data"
    }
   ],
   "source": [
    "agegroup_types = {\n",
    "    \"base age groups\": AGEGROUP_STRATA,\n",
    "    \"modelled age groups\": project.param_set.baseline[\"age_groups\"],\n",
    "}\n",
    "\n",
    "for title, agegroups in agegroup_types.items():\n",
    "\n",
    "    mixing_matrix = build_synthetic_matrices(\n",
    "        project.param_set.baseline[\"country\"][\"iso3\"],\n",
    "        project.param_set.baseline[\"ref_mixing_iso3\"],\n",
    "        agegroups,\n",
    "        True,\n",
    "        project.param_set.baseline[\"population\"][\"region\"]\n",
    "    )\n",
    "\n",
    "    fig = plt.figure(figsize=(12, 8))\n",
    "    positions = [1, 2, 3, 5, 6]\n",
    "    for i_loc, location in zip(positions, mixing_matrix.keys()):\n",
    "        ax = fig.add_subplot(2, 3, i_loc)\n",
    "        ax.imshow(\n",
    "            np.flipud(np.transpose(mixing_matrix[location])), \n",
    "            cmap=cm.hot, \n",
    "            vmin=0,\n",
    "            vmax=mixing_matrix[location].max(), \n",
    "            origin=\"lower\"\n",
    "        )\n",
    "        ax.set_title(location.replace(\"_\", \" \"))\n",
    "        ax.set_xticks([])\n",
    "        ax.set_yticks([])\n",
    "    fig.suptitle(title)"
   ]
  },
  {
   "cell_type": "markdown",
   "id": "b3939ea2",
   "metadata": {},
   "source": [
    "# Case detection"
   ]
  },
  {
   "cell_type": "code",
   "execution_count": 10,
   "id": "4811455a",
   "metadata": {},
   "outputs": [
    {
     "name": "stdout",
     "output_type": "stream",
     "text": [
      "Parameter values are: \n",
      "None\n"
     ]
    }
   ],
   "source": [
    "testing_params = project.param_set.baseline[\"testing_to_detection\"]\n",
    "print(\"Parameter values are: \")\n",
    "pretty_print(testing_params)"
   ]
  },
  {
   "cell_type": "code",
   "execution_count": 11,
   "id": "7d23d63f",
   "metadata": {},
   "outputs": [
    {
     "ename": "TypeError",
     "evalue": "'NoneType' object is not subscriptable",
     "output_type": "error",
     "traceback": [
      "\u001b[1;31m---------------------------------------------------------------------------\u001b[0m",
      "\u001b[1;31mTypeError\u001b[0m                                 Traceback (most recent call last)",
      "\u001b[1;32mc:\\autumn\\notebooks\\user\\pjayasundara\\bhutan_check_inputs.ipynb Cell 15'\u001b[0m in \u001b[0;36m<cell line: 2>\u001b[1;34m()\u001b[0m\n\u001b[0;32m      <a href='vscode-notebook-cell:/c%3A/autumn/notebooks/user/pjayasundara/bhutan_check_inputs.ipynb#ch0000014?line=0'>1</a>\u001b[0m \u001b[39m# Get the CDR function of tests\u001b[39;00m\n\u001b[0;32m      <a href='vscode-notebook-cell:/c%3A/autumn/notebooks/user/pjayasundara/bhutan_check_inputs.ipynb#ch0000014?line=1'>2</a>\u001b[0m cdr_from_tests_func \u001b[39m=\u001b[39m create_cdr_function(\n\u001b[1;32m----> <a href='vscode-notebook-cell:/c%3A/autumn/notebooks/user/pjayasundara/bhutan_check_inputs.ipynb#ch0000014?line=2'>3</a>\u001b[0m     testing_params[\u001b[39m\"\u001b[39;49m\u001b[39massumed_tests_parameter\u001b[39;49m\u001b[39m\"\u001b[39;49m],\n\u001b[0;32m      <a href='vscode-notebook-cell:/c%3A/autumn/notebooks/user/pjayasundara/bhutan_check_inputs.ipynb#ch0000014?line=3'>4</a>\u001b[0m     testing_params[\u001b[39m\"\u001b[39m\u001b[39massumed_cdr_parameter\u001b[39m\u001b[39m\"\u001b[39m],\n\u001b[0;32m      <a href='vscode-notebook-cell:/c%3A/autumn/notebooks/user/pjayasundara/bhutan_check_inputs.ipynb#ch0000014?line=4'>5</a>\u001b[0m )\n\u001b[0;32m      <a href='vscode-notebook-cell:/c%3A/autumn/notebooks/user/pjayasundara/bhutan_check_inputs.ipynb#ch0000014?line=6'>7</a>\u001b[0m \u001b[39m# Get the denominator population\u001b[39;00m\n\u001b[0;32m      <a href='vscode-notebook-cell:/c%3A/autumn/notebooks/user/pjayasundara/bhutan_check_inputs.ipynb#ch0000014?line=7'>8</a>\u001b[0m testing_pops \u001b[39m=\u001b[39m get_population_by_agegroup(\n\u001b[0;32m      <a href='vscode-notebook-cell:/c%3A/autumn/notebooks/user/pjayasundara/bhutan_check_inputs.ipynb#ch0000014?line=8'>9</a>\u001b[0m     project\u001b[39m.\u001b[39mparam_set\u001b[39m.\u001b[39mbaseline[\u001b[39m\"\u001b[39m\u001b[39mage_groups\u001b[39m\u001b[39m\"\u001b[39m],\n\u001b[0;32m     <a href='vscode-notebook-cell:/c%3A/autumn/notebooks/user/pjayasundara/bhutan_check_inputs.ipynb#ch0000014?line=9'>10</a>\u001b[0m     project\u001b[39m.\u001b[39mparam_set\u001b[39m.\u001b[39mbaseline[\u001b[39m\"\u001b[39m\u001b[39mcountry\u001b[39m\u001b[39m\"\u001b[39m][\u001b[39m\"\u001b[39m\u001b[39miso3\u001b[39m\u001b[39m\"\u001b[39m],\n\u001b[0;32m     <a href='vscode-notebook-cell:/c%3A/autumn/notebooks/user/pjayasundara/bhutan_check_inputs.ipynb#ch0000014?line=10'>11</a>\u001b[0m     project\u001b[39m.\u001b[39mparam_set\u001b[39m.\u001b[39mbaseline[\u001b[39m\"\u001b[39m\u001b[39mpopulation\u001b[39m\u001b[39m\"\u001b[39m][\u001b[39m\"\u001b[39m\u001b[39mregion\u001b[39m\u001b[39m\"\u001b[39m]\n\u001b[0;32m     <a href='vscode-notebook-cell:/c%3A/autumn/notebooks/user/pjayasundara/bhutan_check_inputs.ipynb#ch0000014?line=11'>12</a>\u001b[0m )\n",
      "\u001b[1;31mTypeError\u001b[0m: 'NoneType' object is not subscriptable"
     ]
    }
   ],
   "source": [
    "# Get the CDR function of tests\n",
    "cdr_from_tests_func = create_cdr_function(\n",
    "    testing_params[\"assumed_tests_parameter\"],\n",
    "    testing_params[\"assumed_cdr_parameter\"],\n",
    ")\n",
    "\n",
    "# Get the denominator population\n",
    "testing_pops = get_population_by_agegroup(\n",
    "    project.param_set.baseline[\"age_groups\"],\n",
    "    project.param_set.baseline[\"country\"][\"iso3\"],\n",
    "    project.param_set.baseline[\"population\"][\"region\"]\n",
    ")\n",
    "\n",
    "# Process the data\n",
    "test_times, test_values = get_testing_numbers_for_region(\"BTN\",\"Bhutan\")\n",
    "test_dates = ref_times_to_dti(COVID_BASE_DATETIME, [int(time) for time in test_times])\n",
    "per_capita_tests = [i_tests / sum(testing_pops) for i_tests in test_values]\n",
    "dummy_tests = np.linspace(0, max(per_capita_tests), 200)\n",
    "if testing_params[\"assumed_tests_parameter\"]:\n",
    "    smoothed_per_capita_tests = apply_moving_average(\n",
    "        per_capita_tests, \n",
    "        testing_params[\"smoothing_period\"]\n",
    "    )\n",
    "else:\n",
    "    smoothed_per_capita_tests = per_capita_tests\n",
    "cdr_function_of_time = scale_up_function(\n",
    "    test_times,\n",
    "    [cdr_from_tests_func(test_rate) for test_rate in smoothed_per_capita_tests],\n",
    "    smoothness=0.2, method=4, bound_low=0.,\n",
    ")    \n",
    "\n",
    "# Plot\n",
    "fig, axes = plt.subplots(2, 2, figsize=(12, 8))\n",
    "fig.tight_layout(w_pad=1.5, h_pad=5)\n",
    "\n",
    "def sort_axis_dates(ax):\n",
    "    axis.tick_params(axis=\"x\", labelrotation=45)\n",
    "    #axis.set_xlim(left=plot_left_date, right=plot_right_date)\n",
    "\n",
    "# Plot daily number of tests\n",
    "axis = axes[0, 0]\n",
    "axis.plot(test_dates, test_values, marker=\"o\")\n",
    "axis.set_title(\"daily testing numbers\")\n",
    "sort_axis_dates(axis)\n",
    "\n",
    "# Plot daily number of tests\n",
    "axis = axes[0, 1]\n",
    "axis.plot(test_dates, per_capita_tests, label=\"raw\")\n",
    "axis.plot(test_dates, smoothed_per_capita_tests, label=\"smoothed\")\n",
    "axis.set_title(\"daily per capita testing rate\")\n",
    "sort_axis_dates(axis)\n",
    "axis.legend()\n",
    "\n",
    "# Plot relationship of daily tests to CDR proportion\n",
    "axis = axes[1, 0]\n",
    "axis.plot(dummy_tests, cdr_from_tests_func(dummy_tests))\n",
    "axis.scatter(per_capita_tests, [cdr_from_tests_func(i_tests) for i_tests in per_capita_tests], color=\"r\")\n",
    "axis.set_ylabel(\"case detection proportion\")\n",
    "axis.set_xlabel(\"per capita testing rate\")\n",
    "axis.set_title(\"daily per capita tests to CDR relationship\")\n",
    "axis.set_ylim(top=1.)\n",
    "\n",
    "# Plot CDR values\n",
    "axis = axes[1, 1]\n",
    "multiplier = 1e2\n",
    "axis.scatter(test_dates, [cdr_from_tests_func(i_test_rate) * multiplier for i_test_rate in smoothed_per_capita_tests], color=\"r\")\n",
    "axis.plot(test_dates, [cdr_function_of_time(time) * multiplier for time in test_times])\n",
    "axis.set_title(\"Final case detection rate\")\n",
    "axis.set_ylabel(\"percentage\")\n",
    "sort_axis_dates(axis)\n",
    "\n",
    "fig.tight_layout()"
   ]
  },
  {
   "cell_type": "code",
   "execution_count": null,
   "id": "991bbd1d",
   "metadata": {},
   "outputs": [],
   "source": []
  }
 ],
 "metadata": {
  "interpreter": {
   "hash": "cdc1db7c93b6868ea0fedcce5cd81a1f74606c1851ad278abbacefb9281e55af"
  },
  "kernelspec": {
   "display_name": "Python 3.8.13 ('autumn')",
   "language": "python",
   "name": "python3"
  },
  "language_info": {
   "codemirror_mode": {
    "name": "ipython",
    "version": 3
   },
   "file_extension": ".py",
   "mimetype": "text/x-python",
   "name": "python",
   "nbconvert_exporter": "python",
   "pygments_lexer": "ipython3",
   "version": "3.8.13"
  }
 },
 "nbformat": 4,
 "nbformat_minor": 5
}
