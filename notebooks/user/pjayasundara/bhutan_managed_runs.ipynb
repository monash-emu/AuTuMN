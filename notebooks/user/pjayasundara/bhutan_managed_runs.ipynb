{
 "cells": [
  {
   "cell_type": "code",
   "execution_count": null,
   "id": "45e62ef8",
   "metadata": {},
   "outputs": [],
   "source": [
    "import pandas as pd\n",
    "from matplotlib import pyplot as plt\n",
    "import datetime\n",
    "import os\n",
    "import warnings\n",
    "\n",
    "from summer.utils import ref_times_to_dti\n",
    "\n",
    "from autumn.core.project.project import get_project\n",
    "from autumn.core.project.timeseries import load_timeseries\n",
    "from autumn.core.plots.utils import REF_DATE\n",
    "from autumn.core.runs.managed import ManagedRun\n",
    "from autumn.core.runs.calibration.utils import get_posteriors\n",
    "from autumn.core.utils.pandas import pdfilt\n",
    "from autumn.settings.region import Region\n",
    "from autumn.core.plots.plotter.base_plotter import COLOR_THEME\n",
    "from autumn.core.plots.utils import get_plot_text_dict, change_xaxis_to_date, REF_DATE, ALPHAS, COLORS, _apply_transparency, _plot_targets_to_axis\n",
    "from autumn.core.plots.uncertainty.plots import _plot_uncertainty, _get_target_values\n",
    "from autumn.calibration.utils import get_uncertainty_df"
   ]
  },
  {
   "cell_type": "code",
   "execution_count": null,
   "id": "2eab7b70",
   "metadata": {},
   "outputs": [],
   "source": [
    "warnings.filterwarnings(\"ignore\", category=DeprecationWarning) "
   ]
  },
  {
   "cell_type": "code",
   "execution_count": null,
   "id": "036eef5a",
   "metadata": {},
   "outputs": [],
   "source": [
    "run_id = \"sm_sir/malaysia/1664889114/ac07778\"\n",
    "region = \"malaysia\""
   ]
  },
  {
   "cell_type": "code",
   "execution_count": null,
   "id": "508eadd8",
   "metadata": {},
   "outputs": [],
   "source": [
    "mr = ManagedRun(run_id)"
   ]
  },
  {
   "cell_type": "code",
   "execution_count": null,
   "id": "b92a0ee1",
   "metadata": {},
   "outputs": [],
   "source": [
    "# full_run = mr.full_run.get_derived_outputs()\n",
    "pbi = mr.powerbi.get_db()\n",
    "targets = pbi.get_targets()\n",
    "results = pbi.get_uncertainty()\n",
    "mcmc_params = mr.calibration.get_mcmc_params()"
   ]
  },
  {
   "cell_type": "code",
   "execution_count": null,
   "id": "08fb810b",
   "metadata": {},
   "outputs": [],
   "source": [
    "project = get_project(\"sm_sir\", region, reload=True)"
   ]
  },
  {
   "cell_type": "code",
   "execution_count": null,
   "id": "a322157c",
   "metadata": {},
   "outputs": [],
   "source": [
    "project_root = os.path.abspath(os.path.join(os.getcwd(), \"..\", \"..\", \"..\"))\n",
    "model, country, run, commit = run_id.split(\"/\")\n",
    "project_file_path = os.path.join(project_root, \"autumn\", \"projects\", model, country, country, \"timeseries.json\")\n",
    "all_targets = load_timeseries(project_file_path)\n",
    "for target in all_targets:\n",
    "    all_targets[target].index = ref_times_to_dti(REF_DATE, all_targets[target].index)"
   ]
  },
  {
   "cell_type": "code",
   "execution_count": null,
   "id": "49a2900c",
   "metadata": {},
   "outputs": [],
   "source": [
    "title_lookup = {\n",
    "    \"notifications\": \"Daily number of notified Covid-19 cases\",\n",
    "    \"infection_deaths\": \"Daily number of Covid-19 deaths\",\n",
    "    \"accum_deaths\": \"Cumulative number of Covid-19 deaths\",\n",
    "    \"incidence\": \"Daily incidence (incl. asymptomatics and undetected)\",\n",
    "    \"hospital_occupancy\": \"Hospital beds occupied by Covid-19 patients\",\n",
    "    \"icu_occupancy\": \"ICU beds occupied by Covid-19 patients\",\n",
    "    \"cdr\": \"Proportion detected among symptomatics\",\n",
    "    \"proportion_vaccinated\": \"Proportion vaccinated\",\n",
    "    \"prop_incidence_strain_delta\": \"Proportion of Delta variant in new cases\",\n",
    "    \"prop_incidence_strain_alpha_beta\":  \"Proportion of Alpha variant in new cases\",\n",
    "    \"prop_ever_infected\": \"Proportion ever infected\",\n",
    "    \"prop_detected_traced\": \"Proportion of cases contact traced\"\n",
    "}\n"
   ]
  },
  {
   "cell_type": "code",
   "execution_count": null,
   "id": "cc5fa255",
   "metadata": {},
   "outputs": [],
   "source": [
    "plot_left_date = datetime.date(2021, 4, 5)\n",
    "plot_right_date = datetime.date(2022, 10, 15)\n",
    "colours = ((0.2, 0.2, 0.8), (0.8, 0.2, 0.2), (0.2, 0.8, 0.2), (0.8, 0.8, 0.2), (0.8, 0.2, 0.2), (0.2, 0.8, 0.2), (0.8, 0.8, 0.2))\n",
    "outputs = (\n",
    "    \"notifications\", \n",
    "    \"cdr\",\n",
    "    \"hospital_admissions\",\n",
    "    \"hospital_occupancy\",\n",
    "    \"icu_admissions\", \n",
    "    \"icu_occupancy\",\n",
    "    \"prop_ever_infected\",\n",
    "    \"incidence\",\n",
    "    \"proportion_seropositive\"\n",
    ")"
   ]
  },
  {
   "cell_type": "code",
   "execution_count": null,
   "id": "37c6b1a9",
   "metadata": {},
   "outputs": [],
   "source": [
    "def plot_outputs(outputs, left_date, right_date):\n",
    "    fig, axes = plt.subplots(2, 2, figsize=(12, 8), sharex=\"all\")\n",
    "    for i_ax, axis in enumerate(axes.reshape(-1)):\n",
    "        output = outputs[i_ax]\n",
    "#         for scenario in [0] + list(range(1, 4)):\n",
    "        for scenario in [0, 2, 4]:\n",
    "            colour = colours[scenario]\n",
    "            results_df = results[(output, scenario)]\n",
    "            indices = results_df.index\n",
    "            interval_label = \"baseline\" if scenario == 0 else project.param_set.scenarios[scenario - 1][\"description\"]\n",
    "            scenario_zorder = 10 if scenario == 0 else scenario\n",
    "#             axis.fill_between(\n",
    "#                 indices, \n",
    "#                 results_df[0.025], results_df[0.975], \n",
    "#                 color=colour, \n",
    "#                 alpha=0.5,\n",
    "#                 label=\"_nolegend_\",\n",
    "#                 zorder=scenario_zorder,\n",
    "#             )\n",
    "#             axis.fill_between(\n",
    "#                 indices, \n",
    "#                 results_df[0.25], results_df[0.75], \n",
    "#                 color=colour, alpha=0.7, \n",
    "#                 label=interval_label,\n",
    "#                 zorder=scenario_zorder\n",
    "#             )\n",
    "            axis.plot(indices, results_df[0.500], color=colour,label=interval_label)\n",
    "            if output in all_targets and len(all_targets[output]) > 0:\n",
    "                all_targets[output].plot.line(\n",
    "                    ax=axis, \n",
    "                    linewidth=0., \n",
    "                    markersize=8.,\n",
    "                    marker=\"o\",\n",
    "                    markerfacecolor=\"w\",\n",
    "                    markeredgecolor=\"w\",\n",
    "                    alpha=0.2,\n",
    "                    label=\"_nolegend_\",\n",
    "                    zorder=11,\n",
    "                )\n",
    "            if output in targets:\n",
    "                targets[output].plot.line(\n",
    "                    ax=axis, \n",
    "                    linewidth=0., \n",
    "                    markersize=5., \n",
    "                    marker=\"o\", \n",
    "                    markerfacecolor=\"k\",\n",
    "                    markeredgecolor=\"k\",\n",
    "                    label=\"_nolegend_\",\n",
    "                    zorder=12,\n",
    "                )\n",
    "            axis.tick_params(axis=\"x\", labelrotation=45)\n",
    "            axis.set_xlim(left=left_date, right = right_date)\n",
    "            axis.set_title(title_lookup[output])\n",
    "        if i_ax == 0:\n",
    "            axis.legend(loc = \"upper left\")\n",
    "    fig.tight_layout()"
   ]
  },
  {
   "cell_type": "code",
   "execution_count": null,
   "id": "a1a2384d",
   "metadata": {},
   "outputs": [],
   "source": [
    "outputs_to_plot = (\n",
    "    \"notifications\", \n",
    "    \"infection_deaths\",\n",
    "    \"hospital_occupancy\",\n",
    "    \"icu_occupancy\",\n",
    "    \n",
    ")\n",
    "plot_outputs(outputs_to_plot, plot_left_date, plot_right_date)"
   ]
  },
  {
   "cell_type": "code",
   "execution_count": null,
   "id": "12d9da1a",
   "metadata": {},
   "outputs": [],
   "source": []
  }
 ],
 "metadata": {
  "kernelspec": {
   "display_name": "Python 3 (ipykernel)",
   "language": "python",
   "name": "python3"
  },
  "language_info": {
   "codemirror_mode": {
    "name": "ipython",
    "version": 3
   },
   "file_extension": ".py",
   "mimetype": "text/x-python",
   "name": "python",
   "nbconvert_exporter": "python",
   "pygments_lexer": "ipython3",
   "version": "3.10.4"
  }
 },
 "nbformat": 4,
 "nbformat_minor": 5
}
