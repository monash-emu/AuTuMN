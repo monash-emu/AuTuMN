{
 "cells": [
  {
   "cell_type": "code",
   "execution_count": null,
   "id": "cd6332a6",
   "metadata": {},
   "outputs": [],
   "source": [
    "import pandas as pd\n",
    "from matplotlib import pyplot as plt\n",
    "import datetime\n",
    "import os\n",
    "import warnings\n",
    "\n",
    "from summer.utils import ref_times_to_dti\n",
    "\n",
    "from autumn.core.project import get_project, load_timeseries\n",
    "from autumn.core.plots.utils import REF_DATE\n",
    "from autumn.core.runs import ManagedRun\n",
    "from autumn.core.runs.calibration.utils import get_posteriors\n",
    "from autumn.core.utils.pandas import pdfilt\n",
    "from autumn.settings.region import Region"
   ]
  },
  {
   "cell_type": "code",
   "execution_count": null,
   "id": "400cc9b7",
   "metadata": {},
   "outputs": [],
   "source": [
    "warnings.filterwarnings(\"ignore\", category=DeprecationWarning) "
   ]
  },
  {
   "cell_type": "code",
   "execution_count": null,
   "id": "e6fa1544",
   "metadata": {},
   "outputs": [],
   "source": [
    "run_id = \"sm_sir/bhutan/1654750774/b66358e\"\n",
    "region = \"bhutan\""
   ]
  },
  {
   "cell_type": "code",
   "execution_count": null,
   "id": "e13b79c2",
   "metadata": {},
   "outputs": [],
   "source": [
    "mr = ManagedRun(run_id)"
   ]
  },
  {
   "cell_type": "code",
   "execution_count": null,
   "id": "47a52751",
   "metadata": {},
   "outputs": [],
   "source": [
    "# full_run = mr.full_run.get_derived_outputs()\n",
    "pbi = mr.powerbi.get_db()\n",
    "targets = pbi.get_targets()\n",
    "results = pbi.get_uncertainty()\n",
    "mcmc_params = mr.calibration.get_mcmc_params()"
   ]
  },
  {
   "cell_type": "markdown",
   "id": "944d6db5",
   "metadata": {},
   "source": [
    "# Calibration parameters are: "
   ]
  },
  {
   "cell_type": "code",
   "execution_count": null,
   "id": "082aba79",
   "metadata": {},
   "outputs": [],
   "source": [
    "list(mcmc_params.columns)"
   ]
  },
  {
   "cell_type": "code",
   "execution_count": null,
   "id": "fc51a6be",
   "metadata": {},
   "outputs": [],
   "source": [
    "plt.style.use(\"ggplot\")\n",
    "\n",
    "param_lookup = {\n",
    "    \"contact_rate\": \"infection risk per contact\",\n",
    "    \"infectious_seed\": \"infectious seed\",\n",
    "    \"mobility.microdistancing.behaviour.parameters.max_effect\": \"microdistancing effect\",\n",
    "    \"sojourns.active.total_time\": \"infectious period\",\n",
    "    \"sojourns.latent.total_time\": \"latent period\",\n",
    "}\n",
    "\n",
    "unit_lookup = {\n",
    "    \"contact_rate\": \"probability\",\n",
    "    \"infectious_seed\": \"persons\",\n",
    "    \"mobility.microdistancing.behaviour.parameters.max_effect\": \"proportional reduction\",\n",
    "    \"sojourns.active.total_time\": \"days\",\n",
    "    \"sojourns.latent.total_time\": \"days\",\n",
    "}\n",
    "\n",
    "fig, axes = plt.subplots(3, 2, figsize=(10, 12))\n",
    "for i_ax, axis in enumerate(axes.reshape(-1)):\n",
    "    if i_ax < 5:\n",
    "        param = mcmc_params.columns[i_ax]\n",
    "        axis.hist(mcmc_params[param])\n",
    "        axis.set_title(param_lookup[param])\n",
    "        axis.set_xlabel(unit_lookup[param])\n",
    "    if i_ax == 5:\n",
    "        axis.set_axis_off()\n",
    "\n",
    "fig.suptitle(\"parameter posterior histograms\", fontsize=15, y=1)\n",
    "fig.tight_layout()"
   ]
  },
  {
   "cell_type": "markdown",
   "id": "7686902b",
   "metadata": {},
   "source": [
    "# Available model outputs are: "
   ]
  },
  {
   "cell_type": "code",
   "execution_count": null,
   "id": "819afdc7",
   "metadata": {},
   "outputs": [],
   "source": [
    "project = get_project(\"sm_sir\", region, reload=True)"
   ]
  },
  {
   "cell_type": "code",
   "execution_count": null,
   "id": "bfda94a9",
   "metadata": {},
   "outputs": [],
   "source": [
    "# Get all targets"
   ]
  },
  {
   "cell_type": "code",
   "execution_count": null,
   "id": "977f5ab6",
   "metadata": {},
   "outputs": [],
   "source": [
    "project_root = os.path.abspath(os.path.join(os.getcwd(), \"..\", \"..\", \"..\"))\n",
    "model, country, run, commit = run_id.split(\"/\")\n",
    "project_file_path = os.path.join(project_root, \"autumn\", \"projects\", model, country, country, \"timeseries.json\")\n",
    "all_targets = load_timeseries(project_file_path)\n",
    "for target in all_targets:\n",
    "    all_targets[target].index = ref_times_to_dti(REF_DATE, all_targets[target].index)"
   ]
  },
  {
   "cell_type": "code",
   "execution_count": null,
   "id": "df32ccd6",
   "metadata": {},
   "outputs": [],
   "source": [
    "title_lookup = {\n",
    "    \"notifications\": \"daily notifications\",\n",
    "    \"infection_deaths\": \"COVID-19-specific deaths\",\n",
    "    \"hospital_admissions\": \"new daily hospital admissions\",\n",
    "    \"icu_admissions\": \"new daily admissions to ICU\",\n",
    "    \"proportion_seropositive\": \"proportion recovered from COVID-19\",\n",
    "    \"incidence\": \"daily new infections\",\n",
    "    \"prop_incidence_strain_delta\": \"proportion of cases due to Delta\",\n",
    "    \"hospital_admissions\": \"daily hospital admissions\",\n",
    "    \"hospital_occupancy\": \"total hospital beds\",\n",
    "    \"icu_admissions\": \"daily ICU admissions\",\n",
    "    \"icu_occupancy\": \"total ICU beds\",\n",
    "    \"prop_ever_infected\": \"ever infected with Delta or Omicron\",\n",
    "    \"cdr\": \"case detection rate\",\n",
    "    \"cumulative_notifications\": \"accumulated notifications\"\n",
    "}\n",
    "\n",
    "#colours = ((0.2, 0.2, 0.8), (0.8, 0.2, 0.2), (0.2, 0.8, 0.2), (0.8, 0.8, 0.2), (0.8, 0.6, 0.2), (0.2, 0.6, 0.4), (0, 0.5, 0.4))\n",
    "colours =     ((0.2, 0.2, 0.8), \n",
    "    (0.2, 0.8, 0.2), \n",
    "    (0.8, 0.2, 0.2), \n",
    "    (0.8, 0.8, 0.2), \n",
    "    (0.8, 0.2, 0.8), \n",
    "    (0.2, 0.8, 0.8), \n",
    "    (0.1, 0.1, 0.2),\n",
    ")\n",
    "outputs = (\n",
    "    \"notifications\", \n",
    "    \"cdr\",\n",
    "    \"hospital_admissions\",\n",
    "    \"hospital_occupancy\",\n",
    "    \"icu_admissions\", \n",
    "    \"icu_occupancy\",\n",
    "    \"prop_ever_infected\",\n",
    "    \"incidence\",\n",
    "    \"cumulative_notifications\"\n",
    ")"
   ]
  },
  {
   "cell_type": "code",
   "execution_count": null,
   "id": "43c9242c",
   "metadata": {},
   "outputs": [],
   "source": [
    "plot_right_date = datetime.date(2023, 2, 1)\n",
    "plot_left_date = datetime.date(2022, 2, 1)"
   ]
  },
  {
   "cell_type": "code",
   "execution_count": null,
   "id": "7b9d84ac",
   "metadata": {},
   "outputs": [],
   "source": [
    "def plot_outputs(outputs, left_date, right_date):\n",
    "    fig, axes = plt.subplots(1, 3, figsize=(12, 5), sharex=\"all\")\n",
    "    for i_ax, axis in enumerate(axes.reshape(-1)):\n",
    "        output = outputs[i_ax]\n",
    "        for scenario in [0, 1, 2]:# + list(range(1, 7)):\n",
    "        #for scenario in [0]:\n",
    "            colour = colours[scenario]\n",
    "            results_df = results[(output, scenario)]\n",
    "            indices = results_df.index\n",
    "            interval_label = \"baseline\" if scenario == 0 else project.param_set.scenarios[scenario - 1][\"description\"]\n",
    "            scenario_zorder = 10 if scenario == 0 else scenario\n",
    "            axis.fill_between(\n",
    "                indices, \n",
    "                results_df[0.025], results_df[0.975], \n",
    "                color=colour, \n",
    "                alpha=0.5,\n",
    "                label=\"_nolegend_\",\n",
    "                zorder=scenario_zorder,\n",
    "            )\n",
    "            axis.fill_between(\n",
    "                indices, \n",
    "                results_df[0.25], results_df[0.75], \n",
    "                color=colour, alpha=0.7, \n",
    "                label=interval_label,\n",
    "                zorder=scenario_zorder\n",
    "            )\n",
    "            #if scenario ==0: #baseline in solid line\n",
    "            axis.plot(indices, results_df[0.500], color=colour, label = interval_label)  #plot the median line\n",
    "\n",
    "            #else: \n",
    "                #axis.plot(indices, results_df[0.500], color=colour, label = interval_label, linestyle = '--')  #plot the median line\n",
    "                \n",
    "            if output in all_targets and len(all_targets[output]) > 0:\n",
    "                all_targets[output].plot.line(\n",
    "                    ax=axis, \n",
    "                    linewidth=0., \n",
    "                    markersize=8.,\n",
    "                    marker=\"o\",\n",
    "                    markerfacecolor=\"w\",\n",
    "                    markeredgecolor=\"w\",\n",
    "                    alpha=0.2,\n",
    "                    label=\"_nolegend_\",\n",
    "                    zorder=11,\n",
    "                )\n",
    "            if output in targets:\n",
    "                targets[output].plot.line(\n",
    "                    ax=axis, \n",
    "                    linewidth=0., \n",
    "                    markersize=5., \n",
    "                    marker=\"o\", \n",
    "                    markerfacecolor=\"k\",\n",
    "                    markeredgecolor=\"k\",\n",
    "                    label=\"_nolegend_\",\n",
    "                    zorder=12,\n",
    "                )\n",
    "            axis.tick_params(axis=\"x\", labelrotation=45)\n",
    "            axis.set_xlim(left=left_date, right = right_date)\n",
    "            axis.set_title(title_lookup[output])\n",
    "        if i_ax == 0:\n",
    "            axis.legend(loc= \"upper left\")\n",
    "    fig.tight_layout()"
   ]
  },
  {
   "cell_type": "code",
   "execution_count": null,
   "id": "3c21ac5f",
   "metadata": {},
   "outputs": [],
   "source": [
    "outputs_to_plot = (\n",
    "    \"notifications\", \n",
    "    \"infection_deaths\",\n",
    "#    \"cumulative_notifications\",\n",
    "#     \"hospital_occupancy\",\n",
    "    \n",
    ")\n",
    "plot_outputs(outputs_to_plot, plot_left_date, plot_right_date)"
   ]
  },
  {
   "cell_type": "code",
   "execution_count": null,
   "id": "c3c93d01",
   "metadata": {},
   "outputs": [],
   "source": []
  }
 ],
 "metadata": {
  "kernelspec": {
   "display_name": "Python 3 (ipykernel)",
   "language": "python",
   "name": "python3"
  },
  "language_info": {
   "codemirror_mode": {
    "name": "ipython",
    "version": 3
   },
   "file_extension": ".py",
   "mimetype": "text/x-python",
   "name": "python",
   "nbconvert_exporter": "python",
   "pygments_lexer": "ipython3",
   "version": "3.10.4"
  }
 },
 "nbformat": 4,
 "nbformat_minor": 5
}
