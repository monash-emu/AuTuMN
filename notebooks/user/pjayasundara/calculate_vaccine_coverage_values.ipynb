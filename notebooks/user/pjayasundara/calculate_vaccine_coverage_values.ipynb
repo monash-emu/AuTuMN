{
 "cells": [
  {
   "cell_type": "markdown",
   "id": "6cc10cb5",
   "metadata": {},
   "source": [
    "# Vaccination target in a certain age group"
   ]
  },
  {
   "cell_type": "code",
   "execution_count": null,
   "id": "2177cf93",
   "metadata": {},
   "outputs": [],
   "source": [
    "# tot_pop is the total population size\n",
    "# tot_coverage is the total population coverage upto a certain time point\n",
    "# above_15_pop is the percentage of 15+ populaiton in that country\n",
    "# final_coverage is the final expected covearge of the 15+ age groups that is expectedto reach\n",
    "final_coverage = 85\n",
    "above_15_pop = 76.44 # for Sri Lanka 76.44% is 15+\n",
    "tot_coverage = 64\n",
    "\n",
    "# calculating the number of 15+ that should be vaccinated to reach a particular total population coverage\n",
    "num_vaccinated = tot_coverage*100/above_15_pop\n",
    "\n",
    "num_vaccinated"
   ]
  },
  {
   "cell_type": "code",
   "execution_count": null,
   "id": "8085eef1",
   "metadata": {},
   "outputs": [],
   "source": [
    "# from the remaining 15+ vaccinating num_vaccinated_2 number of people to reach 80% vaccine coverage in 15+ age groups\n",
    "num_vaccinated_2 = (final_coverage - num_vaccinated)*100/(100 - num_vaccinated)\n",
    "\n",
    "num_vaccinated_2"
   ]
  },
  {
   "cell_type": "code",
   "execution_count": null,
   "id": "91dea55a",
   "metadata": {},
   "outputs": [],
   "source": [
    "# calculating the final total population coverage that is reached\n",
    "final_total_population_coverage = (above_15_pop/100)* (num_vaccinated+((100-num_vaccinated)/100)*num_vaccinated_2)\n",
    "final_total_population_coverage"
   ]
  },
  {
   "cell_type": "markdown",
   "id": "2c07665f",
   "metadata": {},
   "source": [
    "# Vaccination target from the total population"
   ]
  },
  {
   "cell_type": "code",
   "execution_count": null,
   "id": "729cbfcb",
   "metadata": {},
   "outputs": [],
   "source": [
    "\n",
    "# tot_pop is the total population size\n",
    "# tot_coverage is the total population coverage upto a certain time point\n",
    "# above_10_pop is the percentage of 10+ populaiton in that country\n",
    "# final_coverage is the final expected covearge of the total_population that is expected to reach\n",
    "final_coverage = 80\n",
    "above_10_pop = 84.7 # for Malaysia  84.7% is 10+\n",
    "tot_coverage = 75\n",
    "\n",
    "# calculating the number of 15+ that should be vaccinated to reach a particular total population coverage\n",
    "num_vaccinated = tot_coverage*100/above_10_pop\n",
    "\n",
    "num_vaccinated"
   ]
  },
  {
   "cell_type": "code",
   "execution_count": null,
   "id": "a0a5d829",
   "metadata": {},
   "outputs": [],
   "source": [
    "num_vaccinated_2 = 100*100 * (final_coverage - tot_coverage)/(above_10_pop*(100-num_vaccinated))\n",
    "num_vaccinated_2"
   ]
  },
  {
   "cell_type": "code",
   "execution_count": null,
   "id": "d8ffb583",
   "metadata": {},
   "outputs": [],
   "source": []
  }
 ],
 "metadata": {
  "kernelspec": {
   "display_name": "Python 3",
   "language": "python",
   "name": "python3"
  },
  "language_info": {
   "codemirror_mode": {
    "name": "ipython",
    "version": 3
   },
   "file_extension": ".py",
   "mimetype": "text/x-python",
   "name": "python",
   "nbconvert_exporter": "python",
   "pygments_lexer": "ipython3",
   "version": "3.6.13"
  }
 },
 "nbformat": 4,
 "nbformat_minor": 5
}
