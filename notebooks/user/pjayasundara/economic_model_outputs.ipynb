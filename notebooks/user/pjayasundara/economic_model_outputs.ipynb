{
 "cells": [
  {
   "cell_type": "code",
   "execution_count": null,
   "id": "45e62ef8",
   "metadata": {},
   "outputs": [],
   "source": [
    "import pandas as pd\n",
    "from matplotlib import pyplot as plt\n",
    "import datetime\n",
    "import os\n",
    "import warnings\n",
    "\n",
    "from summer.utils import ref_times_to_dti\n",
    "\n",
    "from autumn.core.project.project import get_project\n",
    "\n",
    "from autumn.core.plots.utils import REF_DATE\n",
    "from autumn.core.runs.managed import ManagedRun\n",
    "from autumn.core.utils.pandas import pdfilt\n",
    "from autumn.settings.region import Region\n",
    "from autumn.core.plots.utils import get_plot_text_dict, change_xaxis_to_date, REF_DATE, ALPHAS, COLORS, _apply_transparency, _plot_targets_to_axis\n",
    "from autumn.calibration.utils import get_uncertainty_df\n",
    "\n"
   ]
  },
  {
   "cell_type": "code",
   "execution_count": null,
   "id": "2eab7b70",
   "metadata": {},
   "outputs": [],
   "source": [
    "warnings.filterwarnings(\"ignore\", category=DeprecationWarning) "
   ]
  },
  {
   "cell_type": "code",
   "execution_count": null,
   "id": "036eef5a",
   "metadata": {},
   "outputs": [],
   "source": [
    "run_id = \"sm_sir/malaysia/1670479022/e2df111\"\n",
    "region = \"malaysia\""
   ]
  },
  {
   "cell_type": "code",
   "execution_count": null,
   "id": "508eadd8",
   "metadata": {},
   "outputs": [],
   "source": [
    "mr = ManagedRun(run_id)"
   ]
  },
  {
   "cell_type": "code",
   "execution_count": null,
   "id": "b92a0ee1",
   "metadata": {},
   "outputs": [],
   "source": [
    "full_run = mr.full_run.get_derived_outputs()\n",
    "pbi = mr.powerbi.get_db()\n",
    "targets = pbi.get_targets()\n",
    "results = pbi.get_uncertainty()\n",
    "mcmc_params = mr.calibration.get_mcmc_params()\n"
   ]
  },
  {
   "cell_type": "code",
   "execution_count": null,
   "id": "66c66001",
   "metadata": {},
   "outputs": [],
   "source": [
    "scenarios = [0, 1, 2, 3, 4, 5, 6]\n",
    "quantile = 0.025"
   ]
  },
  {
   "cell_type": "code",
   "execution_count": null,
   "id": "f86459f6",
   "metadata": {},
   "outputs": [],
   "source": [
    "outputs = [\"notifications\",\"hospital_admissions\", \"hospital_occupancy\", \"icu_occupancy\", \"infection_deaths\"]\n",
    "age_groups = [\"0\", \"5\", \"10\", \"15\", \"20\", \"25\", \"30\", \"35\", \"40\", \"45\", \"50\", \"55\", \"60\", \"65\", \"70\", \"75\"]\n",
    "output_name = []\n",
    "for output in outputs + [\"non_hosp_notifications\"]:\n",
    "    for agegroup in age_groups:\n",
    "        appending_output_name = f\"{output}Xagegroup_{agegroup}\"\n",
    "        output_name.append(appending_output_name)\n",
    "        \n",
    "requested_derived_outputs = outputs + output_name \n"
   ]
  },
  {
   "cell_type": "code",
   "execution_count": null,
   "id": "427a2324",
   "metadata": {},
   "outputs": [],
   "source": [
    "results_df = pd.DataFrame()\n",
    "\n",
    "for scenario in scenarios:\n",
    "    for i, output in enumerate(requested_derived_outputs):\n",
    "        results_df[output] = results[(output, scenario, quantile)]\n",
    "   \n",
    "\n",
    "    results_df = results_df['2021-04-01':'2022-08-27']\n",
    "\n",
    "    results_df['date_value'] = pd.to_datetime(results_df.index)\n",
    "    results_df = results_df.set_index('date_value') \n",
    "\n",
    "#   converting to monthly sum\n",
    "    results_df.resample('MS').sum()\n",
    "\n",
    "    results_df.to_csv(f\"C:/Users/pjay0011/Desktop/scenario_{scenario}.csv\")\n"
   ]
  },
  {
   "cell_type": "markdown",
   "id": "a71c5e1f",
   "metadata": {},
   "source": [
    "## Getting the basline and scenarios corresponding to a particular set of parameters\n",
    "\n",
    "### for the sensitivity analsysis (abs_def_output)"
   ]
  },
  {
   "cell_type": "code",
   "execution_count": null,
   "id": "cca0bc7f",
   "metadata": {},
   "outputs": [],
   "source": [
    "scenarios = [0, 1, 2, 3, 4, 5, 6]\n",
    "sensitivity_outputs = [\"scenario\", \"chain\", \"run\", \"times\", \"notifications\", \"hospital_occupancy\",\n",
    "                                  \"infection_deaths\", \"icu_occupancy\" ]\n",
    "for scenario in scenarios:\n",
    "    differnece_outputs = full_run[sensitivity_outputs]\n",
    "    required_outputs = differnece_outputs.loc[(differnece_outputs[\"scenario\"] == scenario)]\n",
    "    required_outputs = required_outputs.iloc[: , 1:]\n",
    "    required_outputs = required_outputs.drop(required_outputs.index[required_outputs[\"times\"] < 457])  # 457-  April 01, 2021\n",
    "    required_outputs[\"dates\"] = (ref_times_to_dti(REF_DATE,required_outputs[\"times\"]))\n",
    "    required_outputs = required_outputs.drop(\"times\", axis = 1)\n",
    "    \n",
    "    required_outputs.dates = pd.to_datetime(required_outputs.dates)\n",
    "    required_outputs.set_index(\"dates\", inplace=True)\n",
    "    required_outputs.resample('MS').sum()\n",
    "    \n",
    "\n",
    "    required_outputs.to_csv(f\"C:/Users/pjay0011/Desktop/sensitivity_scenario_{scenario}.csv\")\n",
    "\n",
    "\n"
   ]
  },
  {
   "cell_type": "code",
   "execution_count": null,
   "id": "706dcf14",
   "metadata": {},
   "outputs": [],
   "source": []
  }
 ],
 "metadata": {
  "kernelspec": {
   "display_name": "Python 3 (ipykernel)",
   "language": "python",
   "name": "python3"
  },
  "language_info": {
   "codemirror_mode": {
    "name": "ipython",
    "version": 3
   },
   "file_extension": ".py",
   "mimetype": "text/x-python",
   "name": "python",
   "nbconvert_exporter": "python",
   "pygments_lexer": "ipython3",
   "version": "3.10.4"
  }
 },
 "nbformat": 4,
 "nbformat_minor": 5
}
