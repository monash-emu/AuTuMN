{
 "cells": [
  {
   "cell_type": "code",
   "execution_count": null,
   "id": "3171cf9e",
   "metadata": {},
   "outputs": [],
   "source": [
    "# Import packages\n",
    "import os\n",
    "from matplotlib import pyplot as plt\n",
    "import pandas as pd\n",
    "import datetime\n",
    "import matplotlib as mpl\n",
    "\n",
    "\n",
    "# Import AuTuMN modules\n",
    "from autumn.settings import Models, Region\n",
    "from autumn.settings.folders import OUTPUT_DATA_PATH\n",
    "from autumn.tools.project import get_project\n",
    "from autumn.tools import db\n",
    "from autumn.tools.plots.calibration.plots import calculate_r_hats, get_output_from_run_id\n",
    "from autumn.tools.plots.uncertainty.plots import _plot_uncertainty, _get_target_values\n",
    "from autumn.tools.plots.plotter.base_plotter import COLOR_THEME\n",
    "from autumn.tools.plots.utils import get_plot_text_dict, change_xaxis_to_date, REF_DATE, ALPHAS, COLORS, _apply_transparency, _plot_targets_to_axis\n",
    "\n",
    "from autumn.dashboards.calibration_results.plots import get_uncertainty_df"
   ]
  },
  {
   "cell_type": "code",
   "execution_count": null,
   "id": "4e37b193",
   "metadata": {},
   "outputs": [],
   "source": [
    "# Specify model details\n",
    "model = Models.COVID_19\n",
    "region = Region.SRI_LANKA\n",
    "dirname = \"2022-08-02\""
   ]
  },
  {
   "cell_type": "code",
   "execution_count": null,
   "id": "5484dd94",
   "metadata": {},
   "outputs": [],
   "source": [
    "# get the relevant project and output data\n",
    "project = get_project(model, region)\n",
    "project_calib_dir = os.path.join(\n",
    "    OUTPUT_DATA_PATH, \"calibrate\", project.model_name, project.region_name\n",
    ")\n",
    "calib_path = os.path.join(project_calib_dir, dirname)\n",
    "# Load tables\n",
    "mcmc_tables = db.load.load_mcmc_tables(calib_path)\n",
    "mcmc_params = db.load.load_mcmc_params_tables(calib_path)\n",
    "\n",
    "uncertainty_df = get_uncertainty_df(calib_path, mcmc_tables, project.plots)\n",
    "scenario_list = uncertainty_df['scenario'].unique()\n",
    "\n",
    "# make output directories\n",
    "output_dir = f\"{model}_{region}_{dirname}\"\n",
    "base_dir = os.path.join(\"outputs\", output_dir)\n",
    "os.makedirs(base_dir, exist_ok=True)\n",
    "dirs_to_make = [\"calibration\", \"MLE\", \"median\", \"uncertainty\", \"csv_files\"]\n",
    "for dir_to_make in dirs_to_make:\n",
    "    os.makedirs(os.path.join(base_dir, dir_to_make), exist_ok=True)"
   ]
  },
  {
   "cell_type": "code",
   "execution_count": null,
   "id": "66a65f40",
   "metadata": {},
   "outputs": [],
   "source": [
    "output_name = \"hospital_admissions\"\n",
    "scenario_idx = 0\n",
    "mask = (\n",
    "(uncertainty_df[\"type\"] == output_name)\n",
    "& (uncertainty_df[\"scenario\"] == scenario_idx)\n",
    ")\n",
    "df = uncertainty_df[mask]\n",
    "times = df.time.unique()[1:]\n",
    "quantiles = {}\n",
    "quantile_vals = df[\"quantile\"].unique().tolist()\n",
    "for q in quantile_vals:\n",
    "    mask = df[\"quantile\"] == q\n",
    "    quantiles[q] = df[mask][\"value\"].tolist()[1:]\n",
    "\n",
    "hospital_admission_vals = quantiles[0.5]  #median hospital admissions\n",
    "\n"
   ]
  },
  {
   "cell_type": "code",
   "execution_count": null,
   "id": "af4b95f9",
   "metadata": {},
   "outputs": [],
   "source": [
    "##get weekly hospital admissions per 100000\n",
    "pop_size = 22.156 * 1e6 # SL populaiton size \n",
    "per_100000_admissions = [x / pop_size for x in hospital_admission_vals]\n",
    "per_100000_admissions = [x * 1e5 for x in [x / pop_size for x in hospital_admission_vals]]\n",
    "\n",
    "weekly_admissions = [x * 7 for x in per_100000_admissions]"
   ]
  },
  {
   "cell_type": "code",
   "execution_count": null,
   "id": "7cb087ce",
   "metadata": {},
   "outputs": [],
   "source": [
    "fig = plt.figure(figsize=(18, 7))\n",
    "plt.style.use(\"ggplot\")\n",
    "axis = fig.add_subplot(1,2,1)\n",
    "label_font_size = 22\n",
    "\n",
    "plt.plot(times,weekly_admissions,color = 'k')\n",
    "axis.set_xticks([495, 507, 599])\n",
    "axis.set_xlim((380, 700))\n",
    "change_xaxis_to_date(axis, REF_DATE)\n",
    "plt.xticks(rotation = 90)\n",
    "# WHO threshold\n",
    "plt.axhline(y = 31, color = 'r', linestyle = '--')\n",
    "plt.text(385, 33, r'WHO threshold', fontsize = 18)\n",
    "\n",
    "# plot the times in which actual lockdowns were implemented in SL\n",
    "# second lockdown implemented on 21st May 2021 -> 508\n",
    "# thrid lockdown implemented - 21st August -> 599\n",
    "times_array = times.tolist()\n",
    "time_index_second_lockdown= times_array.index(50)\n",
    "admissions_second_lockdown = weekly_admissions[time_index_second_lockdown]\n",
    "print(admissions_second_lockdown)\n",
    "\n",
    "\n",
    "\n",
    "# plot the time in which WHO threshold is exceeded\n",
    "plt.vlines(x=[495], ymin=[0], ymax=[31], colors='grey', ls='--', lw=2.5, ) # the timings in which the WHO threshold is exceeded\n",
    "plt.vlines(x=[508, 599], ymin=[0], ymax=[54, 171], colors='purple', ls='--', lw=2.5, ) # the timings in which the actual lockdowns were implemented\n",
    "\n",
    "plt.hlines(y=[54, 171], xmin=[200], xmax=[508, 599], colors='purple', ls='--', lw=2.5, )\n",
    "\n",
    "plt.setp(axis.get_yticklabels(), fontsize=label_font_size)\n",
    "plt.setp(axis.get_xticklabels(), fontsize=label_font_size)\n",
    "plt.ylabel('Daily COVID-19 hospital admissions \\n per 100,000 per week', fontsize=label_font_size)\n",
    "plt.xlabel('Date', fontsize=label_font_size)"
   ]
  },
  {
   "cell_type": "code",
   "execution_count": null,
   "id": "4bc638ff",
   "metadata": {},
   "outputs": [],
   "source": []
  }
 ],
 "metadata": {
  "kernelspec": {
   "display_name": "Python 3 (ipykernel)",
   "language": "python",
   "name": "python3"
  },
  "language_info": {
   "codemirror_mode": {
    "name": "ipython",
    "version": 3
   },
   "file_extension": ".py",
   "mimetype": "text/x-python",
   "name": "python",
   "nbconvert_exporter": "python",
   "pygments_lexer": "ipython3",
   "version": "3.7.13"
  }
 },
 "nbformat": 4,
 "nbformat_minor": 5
}
