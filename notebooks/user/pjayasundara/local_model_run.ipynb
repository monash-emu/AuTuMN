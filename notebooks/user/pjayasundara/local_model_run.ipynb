{
 "cells": [
  {
   "cell_type": "code",
   "execution_count": null,
   "id": "7fe7adf4",
   "metadata": {},
   "outputs": [],
   "source": [
    "from autumn.core.project import get_project, ParameterSet\n",
    "from matplotlib import pyplot as plt\n",
    "from autumn.core.plots.utils import REF_DATE, change_xaxis_to_date\n",
    "import pandas as pd\n",
    "from autumn.core.inputs.demography.queries import get_population_by_agegroup"
   ]
  },
  {
   "cell_type": "code",
   "execution_count": null,
   "id": "1ab04a3a",
   "metadata": {},
   "outputs": [],
   "source": [
    "project = get_project(\"sm_sir\", \"malaysia\")"
   ]
  },
  {
   "cell_type": "code",
   "execution_count": null,
   "id": "355bb76d",
   "metadata": {},
   "outputs": [],
   "source": [
    "# run baseline model\n",
    "model_0 = project.run_baseline_model(project.param_set.baseline)\n",
    "derived_df = model_0.get_derived_outputs_df()"
   ]
  },
  {
   "cell_type": "code",
   "execution_count": null,
   "id": "e1362fdc",
   "metadata": {},
   "outputs": [],
   "source": [
    "# run scenarios\n",
    "start_times = [\n",
    "    sc_params.to_dict()[\"time\"][\"start\"] for sc_params in project.param_set.scenarios\n",
    "]\n",
    "sc_models = project.run_scenario_models(model_0, project.param_set.scenarios, start_times=start_times)"
   ]
  },
  {
   "cell_type": "code",
   "execution_count": null,
   "id": "a9d55358",
   "metadata": {},
   "outputs": [],
   "source": [
    "derived_dfs = [m.get_derived_outputs_df() for m in sc_models]"
   ]
  },
  {
   "cell_type": "code",
   "execution_count": null,
   "id": "175245ec",
   "metadata": {},
   "outputs": [],
   "source": [
    "outputs = [\"notifications\", \"cumulative_infection_deaths\", \"hospital_occupancy\", \"strain_propXstrain_omicron\"]"
   ]
  },
  {
   "cell_type": "code",
   "execution_count": null,
   "id": "5058278f",
   "metadata": {},
   "outputs": [],
   "source": [
    "scenario_names = [\n",
    "    sc_params.to_dict()[\"description\"] for sc_params in project.param_set.scenarios\n",
    "]"
   ]
  },
  {
   "cell_type": "code",
   "execution_count": null,
   "id": "6779cc4e",
   "metadata": {},
   "outputs": [],
   "source": [
    "sc_colors = [ \"red\",\"green\", \"orange\", \"purple\", \"cornflowerblue\", \"red\",\"green\", \"orange\", \"purple\",\n",
    "            \"red\",\"green\", \"orange\", \"purple\"]\n",
    "\n",
    "max_y = {\n",
    "    \"notifications\": 6000, \"hospital_occupancy\": 7000, \"icu_occupancy\": 1300,\n",
    "}\n",
    "\n",
    "scenario_lists = [[3,4,5]]\n",
    "\n",
    "label_font_size = 18\n",
    "\n",
    "for i_s, scenario_list in enumerate(scenario_lists):\n",
    "    \n",
    "    for output in outputs:\n",
    "        fig = plt.figure(figsize=(12, 8))\n",
    "        plt.style.use(\"ggplot\")\n",
    "        axis = fig.add_subplot()\n",
    "        axis = derived_df[output].plot(color=\"black\", label=\"baseline\")\n",
    "\n",
    "        for sc_id in scenario_list:\n",
    "       \n",
    "            d = derived_dfs[sc_id - 1]\n",
    "            \n",
    "            if output in d.columns:\n",
    "                d[output].plot(color=sc_colors[sc_id - 1], label=scenario_names[sc_id - 1],linestyle = '--')\n",
    "        \n",
    "            if output == \"notifications\":\n",
    "                plt.legend(fontsize=label_font_size, facecolor=\"white\", markerscale=3)\n",
    "        axis.set_ylabel(output.replace(\"_\", \" \"), fontsize=22)\n",
    "        axis.tick_params(axis=\"x\", labelrotation=45) \n",
    "        plt.setp(axis.get_xticklabels(), fontsize=label_font_size)\n",
    "        plt.setp(axis.get_yticklabels(), fontsize=label_font_size)\n",
    "        "
   ]
  },
  {
   "cell_type": "markdown",
   "id": "dcba0c24",
   "metadata": {},
   "source": [
    "## plot voc proportions"
   ]
  },
  {
   "cell_type": "code",
   "execution_count": null,
   "id": "c3c35ded",
   "metadata": {},
   "outputs": [],
   "source": [
    "voc_outputs = [ \"strain_propXstrain_beta\", \"strain_propXstrain_delta\", \"strain_propXstrain_omicron\"]"
   ]
  },
  {
   "cell_type": "code",
   "execution_count": null,
   "id": "4a5f5bc3",
   "metadata": {},
   "outputs": [],
   "source": [
    "label_font_size = 18\n",
    "fig = plt.figure(figsize=(12, 8))\n",
    "axis = fig.add_subplot()\n",
    "lower_value = [0.] * len(derived_df)\n",
    "for voc_output in voc_outputs:\n",
    "\n",
    "    \n",
    "    working_value = derived_df[voc_output]\n",
    "    upper_value = lower_value + working_value\n",
    "    axis.fill_between(derived_df.index, lower_value, upper_value, label=voc_output)\n",
    "    lower_value = upper_value\n",
    "    \n",
    "axis.set_ylabel(\"VoC proportions\", fontsize=22)\n",
    "axis.tick_params(axis=\"x\", labelrotation=45) \n",
    "plt.setp(axis.get_xticklabels(), fontsize=label_font_size)\n",
    "plt.setp(axis.get_yticklabels(), fontsize=label_font_size)\n",
    "axis.legend(loc='upper right')\n",
    "plt.style.use(\"ggplot\")"
   ]
  },
  {
   "cell_type": "markdown",
   "id": "f6756fa2",
   "metadata": {},
   "source": [
    "## plot immune proportions"
   ]
  },
  {
   "cell_type": "code",
   "execution_count": null,
   "id": "13e37d6a",
   "metadata": {},
   "outputs": [],
   "source": [
    "immune_outputs = [ \"prop_immune_none\", \"prop_immune_low\", \"prop_immune_high\"]"
   ]
  },
  {
   "cell_type": "code",
   "execution_count": null,
   "id": "604faf3e",
   "metadata": {},
   "outputs": [],
   "source": [
    "label_font_size = 18\n",
    "fig = plt.figure(figsize=(12, 8))\n",
    "axis = fig.add_subplot()\n",
    "lower_value = [0.] * len(derived_df)\n",
    "for immune_output in immune_outputs:\n",
    "\n",
    "    \n",
    "    working_value = derived_df[immune_output]\n",
    "    upper_value = lower_value + working_value\n",
    "    axis.fill_between(derived_df.index, lower_value, upper_value, label=immune_output)\n",
    "    lower_value = upper_value\n",
    "    \n",
    "axis.set_ylabel(\"immune proportions\", fontsize=22)\n",
    "axis.tick_params(axis=\"x\", labelrotation=45) \n",
    "plt.setp(axis.get_xticklabels(), fontsize=label_font_size)\n",
    "plt.setp(axis.get_yticklabels(), fontsize=label_font_size)\n",
    "axis.legend(loc='upper right')\n",
    "plt.style.use(\"ggplot\")"
   ]
  },
  {
   "cell_type": "code",
   "execution_count": null,
   "id": "6317ffb9",
   "metadata": {},
   "outputs": [],
   "source": []
  }
 ],
 "metadata": {
  "kernelspec": {
   "display_name": "Python 3 (ipykernel)",
   "language": "python",
   "name": "python3"
  },
  "language_info": {
   "codemirror_mode": {
    "name": "ipython",
    "version": 3
   },
   "file_extension": ".py",
   "mimetype": "text/x-python",
   "name": "python",
   "nbconvert_exporter": "python",
   "pygments_lexer": "ipython3",
   "version": "3.10.4"
  }
 },
 "nbformat": 4,
 "nbformat_minor": 5
}
