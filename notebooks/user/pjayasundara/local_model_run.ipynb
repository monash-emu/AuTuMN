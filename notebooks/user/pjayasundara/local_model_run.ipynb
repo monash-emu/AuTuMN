{
 "cells": [
  {
   "cell_type": "code",
   "execution_count": null,
   "id": "fc5c08ce",
   "metadata": {},
   "outputs": [],
   "source": [
    "from autumn.tools.project import get_project, ParameterSet\n",
    "from matplotlib import pyplot as plt\n",
    "from autumn.tools.plots.utils import REF_DATE, change_xaxis_to_date\n",
    "import pandas as pd\n",
    "from autumn.tools.inputs.demography.queries import get_population_by_agegroup"
   ]
  },
  {
   "cell_type": "code",
   "execution_count": null,
   "id": "ab23a618",
   "metadata": {},
   "outputs": [],
   "source": [
    "project = get_project(\"covid_19\", \"sri_lanka\")"
   ]
  },
  {
   "cell_type": "code",
   "execution_count": null,
   "id": "c6040b13",
   "metadata": {},
   "outputs": [],
   "source": [
    "# run baseline model\n",
    "model_0 = project.run_baseline_model(project.param_set.baseline)\n",
    "derived_df = model_0.get_derived_outputs_df()"
   ]
  },
  {
   "cell_type": "code",
   "execution_count": null,
   "id": "c1347395",
   "metadata": {},
   "outputs": [],
   "source": [
    "# run scenarios\n",
    "start_times = [\n",
    "    sc_params.to_dict()[\"time\"][\"start\"] for sc_params in project.param_set.scenarios\n",
    "]\n",
    "sc_models = project.run_scenario_models(model_0, project.param_set.scenarios, start_times=start_times)"
   ]
  },
  {
   "cell_type": "code",
   "execution_count": null,
   "id": "e966c6b8",
   "metadata": {},
   "outputs": [],
   "source": [
    "derived_dfs = [m.get_derived_outputs_df() for m in sc_models]"
   ]
  },
  {
   "cell_type": "code",
   "execution_count": null,
   "id": "f5013633",
   "metadata": {},
   "outputs": [],
   "source": [
    "outputs = [\"notifications\", \"hospital_occupancy\", \"icu_occupancy\",\"accum_deaths\"]"
   ]
  },
  {
   "cell_type": "code",
   "execution_count": null,
   "id": "6e8ef4aa",
   "metadata": {},
   "outputs": [],
   "source": [
    "sc_colors = [ \"red\",\"green\", \"orange\", \"purple\", \"cornflowerblue\"]\n",
    "\n",
    "max_y = {\n",
    "    \"notifications\": 6000, \"hospital_occupancy\": 7000, \"icu_occupancy\": 1300,\n",
    "}\n",
    "\n",
    "scenario_lists = [[2,5]]\n",
    "\n",
    "scenario_names = [\n",
    "    \"no lockdown\",\n",
    "    \"early lockdown secondwave April 29 - May 29\",\n",
    "    \"early lockdown third wave - July 21 - Aug 31\",\n",
    "    \"no vaccination\",\n",
    "    \"Second lockdown based on WHO mortalilty threshold\"\n",
    "] \n",
    "\n",
    "label_font_size = 15\n",
    "\n",
    "for i_s, scenario_list in enumerate(scenario_lists):\n",
    "    \n",
    "    for output in outputs:\n",
    "        fig = plt.figure(figsize=(12, 8))\n",
    "        plt.style.use(\"ggplot\")\n",
    "        axis = fig.add_subplot()\n",
    "        axis = derived_df[output].plot(color=\"black\", label=\"baseline\")\n",
    "\n",
    "        for sc_id in scenario_list:\n",
    "            \n",
    "            d = derived_dfs[sc_id - 1]\n",
    "            \n",
    "            if output in d.columns:\n",
    "                d[output].plot(color=sc_colors[sc_id - 1], label=scenario_names[sc_id - 1],linestyle = '--')\n",
    "        \n",
    "      \n",
    "        axis.set_ylabel(output.replace(\"_\", \" \"), fontsize=15)\n",
    "        axis.tick_params(axis=\"x\", labelrotation=45) \n",
    "        plt.setp(axis.get_xticklabels(), fontsize=label_font_size)\n",
    "        plt.setp(axis.get_yticklabels(), fontsize=label_font_size)\n",
    "        plt.legend(fontsize=12, facecolor=\"white\", markerscale=3)"
   ]
  },
  {
   "cell_type": "code",
   "execution_count": null,
   "id": "425384be",
   "metadata": {},
   "outputs": [],
   "source": []
  }
 ],
 "metadata": {
  "kernelspec": {
   "display_name": "Python 3 (ipykernel)",
   "language": "python",
   "name": "python3"
  },
  "language_info": {
   "codemirror_mode": {
    "name": "ipython",
    "version": 3
   },
   "file_extension": ".py",
   "mimetype": "text/x-python",
   "name": "python",
   "nbconvert_exporter": "python",
   "pygments_lexer": "ipython3",
   "version": "3.10.4"
  }
 },
 "nbformat": 4,
 "nbformat_minor": 5
}
