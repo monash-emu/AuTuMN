{
 "cells": [
  {
   "cell_type": "code",
   "execution_count": null,
   "id": "bd0f23f6",
   "metadata": {},
   "outputs": [],
   "source": [
    "from autumn.tools.project import get_project\n",
    "from matplotlib import pyplot\n",
    "from autumn.tools.plots.utils import REF_DATE\n",
    "#from autumn.tools.calibration.targets import get_targets\n",
    "import pandas as pd\n",
    "from autumn.tools.utils.pretty import pretty_print\n",
    "from autumn.models.covid_19.constants import BASE_DATETIME\n",
    "\n",
    "from summer.utils import ref_times_to_dti\n",
    "\n",
    "from autumn.models.covid_19.strat_processing.vaccination import find_vacc_strata\n",
    "from autumn.tools.inputs.covid_lka.queries import get_lka_vac_coverage"
   ]
  },
  {
   "cell_type": "code",
   "execution_count": null,
   "id": "9c7e2e64",
   "metadata": {},
   "outputs": [],
   "source": [
    "project = get_project(\"covid_19\", \"sri_lanka\")"
   ]
  },
  {
   "cell_type": "code",
   "execution_count": null,
   "id": "c1c56549",
   "metadata": {},
   "outputs": [],
   "source": [
    "custom_params = project.param_set.baseline#.update(dict(contact_rate = 0.1))\n",
    "model = project.run_baseline_model(custom_params)\n",
    "derived_df = model.get_derived_outputs_df()"
   ]
  },
  {
   "cell_type": "code",
   "execution_count": null,
   "id": "41092229",
   "metadata": {},
   "outputs": [],
   "source": [
    "model_start_time = ref_times_to_dti(REF_DATE, [custom_params[\"time\"][\"start\"]])[0]\n",
    "model_end_time = ref_times_to_dti(REF_DATE, [custom_params[\"time\"][\"end\"]])[0]"
   ]
  },
  {
   "cell_type": "code",
   "execution_count": null,
   "id": "ff66921f",
   "metadata": {},
   "outputs": [],
   "source": [
    "output = [\"notifications\",\"infection_deaths\"]\n",
    "targets_dict = {\n",
    "    t.data.name: pd.Series(t.data.data, index=ref_times_to_dti(model.ref_date, t.data.index)) for \n",
    "    t in project.calibration.targets\n",
    "}\n"
   ]
  },
  {
   "cell_type": "code",
   "execution_count": null,
   "id": "d037d1df",
   "metadata": {},
   "outputs": [],
   "source": [
    "outputs_to_plot = [\"notifications\", \"infection_deaths\"]\n",
    "\n",
    "plot_end_time = ref_times_to_dti(REF_DATE, [1000.])[0]\n",
    "\n",
    "fig = pyplot.figure(figsize=(15, 12))\n",
    "for i_out, output in enumerate(outputs_to_plot):\n",
    "    axis = fig.add_subplot(2, 2, i_out + 1)\n",
    "    if output in targets_dict:\n",
    "        targets_dict[output].plot(ax=axis, style='.')\n",
    "    if output in derived_df:\n",
    "        derived_df[output].plot(ax=axis)\n",
    "    axis.set_title(output.replace(\"_\", \" \"))\n",
    "    axis.set_xlim([model_start_time, plot_end_time])"
   ]
  },
  {
   "cell_type": "code",
   "execution_count": null,
   "id": "e4b997b2",
   "metadata": {},
   "outputs": [],
   "source": [
    "fig = pyplot.figure(figsize=(12, 8))\n",
    "pyplot.style.use(\"ggplot\")\n",
    "axis = fig.add_subplot()\n",
    "axis = derived_df[\"hospital_occupancy\"].plot()"
   ]
  },
  {
   "cell_type": "code",
   "execution_count": null,
   "id": "723297d8",
   "metadata": {},
   "outputs": [],
   "source": [
    "fig = pyplot.figure(figsize=(15, 6))\n",
    "pyplot.style.use(\"ggplot\")\n",
    "axis = fig.add_subplot(1,2,1)\n",
    "axis = derived_df[\"cdr\"].plot()\n",
    "axis = fig.add_subplot(1,2,2)\n",
    "axis = derived_df[\"prop_ever_infected\"].plot()"
   ]
  },
  {
   "cell_type": "code",
   "execution_count": null,
   "id": "179264f6",
   "metadata": {},
   "outputs": [],
   "source": [
    "fig = pyplot.figure(figsize=(12, 8))\n",
    "pyplot.style.use(\"ggplot\")\n",
    "axis = fig.add_subplot()\n",
    "axis = derived_df[\"prop_ever_infected\"].plot()"
   ]
  },
  {
   "cell_type": "code",
   "execution_count": null,
   "id": "c2699c2c",
   "metadata": {},
   "outputs": [],
   "source": [
    "vacc_strata, _ = find_vacc_strata(True, True, False)"
   ]
  },
  {
   "cell_type": "code",
   "execution_count": null,
   "id": "3aa7ea7e",
   "metadata": {},
   "outputs": [],
   "source": [
    "fig, axis = pyplot.subplots(1, 1, figsize=(12, 8))\n",
    "\n",
    "# Loop over the vaccination types being implemented in the model\n",
    "lower_value = [0.] * len(derived_df)\n",
    "for stratum in vacc_strata[::-1]:\n",
    "    working_value = derived_df[f\"proportion_{stratum}\"]\n",
    "    upper_value = lower_value + working_value\n",
    "    axis.fill_between(derived_df.index, lower_value, upper_value, label=stratum)\n",
    "    lower_value = upper_value\n",
    "\n",
    "vacc_times, vacc_coverage = get_lka_vac_coverage(15)\n",
    "vacc_dates = ref_times_to_dti(BASE_DATETIME, [int(i) for i in vacc_times[1]])  # Converting numpy ints returned\n",
    "\n",
    "lagged_dates = ref_times_to_dti(BASE_DATETIME, [int(i) + 14 for i in vacc_times[1]])\n",
    "axis.plot(vacc_dates, vacc_coverage[1], color=\"k\", label=\"actual vaccination\")\n",
    "axis.plot(lagged_dates, vacc_coverage[1], color=\"k\", linestyle=\"--\", label=\"lagged for immunity\")\n",
    "axis.tick_params(axis=\"x\", labelrotation=45)\n",
    "axis.set_title(\"vaccination check\")\n",
    "axis.legend()"
   ]
  },
  {
   "cell_type": "code",
   "execution_count": null,
   "id": "bccffc9c",
   "metadata": {},
   "outputs": [],
   "source": []
  }
 ],
 "metadata": {
  "kernelspec": {
   "display_name": "Python 3",
   "language": "python",
   "name": "python3"
  },
  "language_info": {
   "codemirror_mode": {
    "name": "ipython",
    "version": 3
   },
   "file_extension": ".py",
   "mimetype": "text/x-python",
   "name": "python",
   "nbconvert_exporter": "python",
   "pygments_lexer": "ipython3",
   "version": "3.6.13"
  }
 },
 "nbformat": 4,
 "nbformat_minor": 5
}
