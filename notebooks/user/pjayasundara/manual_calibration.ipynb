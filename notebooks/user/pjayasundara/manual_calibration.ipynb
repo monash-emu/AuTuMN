{
 "cells": [
  {
   "cell_type": "code",
   "execution_count": null,
   "id": "de412c46",
   "metadata": {},
   "outputs": [],
   "source": [
    "from autumn.tools.project import get_project\n",
    "from matplotlib import pyplot\n",
    "from autumn.tools.plots.utils import REF_DATE\n",
    "from autumn.tools.calibration.targets import get_target_series\n",
    "import pandas as pd\n",
    "from autumn.tools.utils.pretty import pretty_print"
   ]
  },
  {
   "cell_type": "code",
   "execution_count": null,
   "id": "dbfa6697",
   "metadata": {},
   "outputs": [],
   "source": [
    "project = get_project(\"covid_19\", \"malaysia\")"
   ]
  },
  {
   "cell_type": "code",
   "execution_count": null,
   "id": "7839d76a",
   "metadata": {},
   "outputs": [],
   "source": [
    "custom_params = project.param_set.baseline#.update(dict(contact_rate = 0.1))\n",
    "model = project.run_baseline_model(custom_params)\n",
    "derived_df = model.get_derived_outputs_df()"
   ]
  },
  {
   "cell_type": "code",
   "execution_count": null,
   "id": "67fca8c5",
   "metadata": {},
   "outputs": [],
   "source": [
    "output = [\"notifications\",\"infection_deaths\",\"icu_occupancy\"]\n",
    "notif_dates, notif_values = get_target_series(project.calibration.targets, REF_DATE, output[0])\n",
    "deaths_dates, deaths_values = get_target_series(project.calibration.targets, REF_DATE, output[1])\n",
    "icu_dates, icu_values = get_target_series(project.calibration.targets, REF_DATE, output[2])"
   ]
  },
  {
   "cell_type": "code",
   "execution_count": null,
   "id": "205f996f",
   "metadata": {},
   "outputs": [],
   "source": [
    "fig = pyplot.figure(figsize=(16, 5))\n",
    "pyplot.style.use(\"ggplot\")\n",
    "axis = fig.add_subplot(1,3,1)\n",
    "axis = derived_df[output[0]].plot()\n",
    "axis.scatter(notif_dates, notif_values, c=\"k\")\n",
    "pyplot.title(\"COVID notifications\")\n",
    "print(\"notifications maximum: \"+f\"{max(derived_df[output[0]])}\")\n",
    "axis = fig.add_subplot(1,3,2)\n",
    "axis = derived_df[output[1]].plot()\n",
    "axis.scatter(deaths_dates, deaths_values, c=\"k\")\n",
    "pyplot.title(\"COVID deaths\")\n",
    "print(\"deaths maximum: \"+f\"{max(derived_df[output[1]])}\")\n",
    "axis = fig.add_subplot(1,3,3)\n",
    "axis = derived_df[output[2]].plot()\n",
    "axis.scatter(icu_dates, icu_values, c=\"k\")\n",
    "pyplot.title(\"icu occupancy\")\n",
    "print(\"ICU maximum: \"+f\"{max(derived_df[output[2]])}\")\n",
    "fig.show()"
   ]
  },
  {
   "cell_type": "code",
   "execution_count": null,
   "id": "2f0b27ae",
   "metadata": {},
   "outputs": [],
   "source": []
  }
 ],
 "metadata": {
  "kernelspec": {
   "display_name": "Python 3",
   "language": "python",
   "name": "python3"
  },
  "language_info": {
   "codemirror_mode": {
    "name": "ipython",
    "version": 3
   },
   "file_extension": ".py",
   "mimetype": "text/x-python",
   "name": "python",
   "nbconvert_exporter": "python",
   "pygments_lexer": "ipython3",
   "version": "3.6.13"
  }
 },
 "nbformat": 4,
 "nbformat_minor": 5
}
