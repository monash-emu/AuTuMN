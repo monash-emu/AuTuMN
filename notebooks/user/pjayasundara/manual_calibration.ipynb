{
 "cells": [
  {
   "cell_type": "code",
   "execution_count": null,
   "id": "bd0f23f6",
   "metadata": {},
   "outputs": [],
   "source": [
    "from autumn.core.project import get_project, load_timeseries\n",
    "from matplotlib import pyplot\n",
    "from autumn.core.plots.utils import REF_DATE\n",
    "import pandas as pd\n",
    "from autumn.core.utils.display import pretty_print\n",
    "import os\n",
    "from summer.utils import ref_times_to_dti"
   ]
  },
  {
   "cell_type": "code",
   "execution_count": null,
   "id": "9c7e2e64",
   "metadata": {},
   "outputs": [],
   "source": [
    "project = get_project(\"sm_sir\", \"malaysia\")"
   ]
  },
  {
   "cell_type": "code",
   "execution_count": null,
   "id": "c1c56549",
   "metadata": {},
   "outputs": [],
   "source": [
    "custom_params = project.param_set.baseline#.update(dict(contact_rate = 0.1))\n",
    "model = project.run_baseline_model(custom_params)\n",
    "derived_df = model.get_derived_outputs_df()"
   ]
  },
  {
   "cell_type": "code",
   "execution_count": null,
   "id": "ff66921f",
   "metadata": {},
   "outputs": [],
   "source": [
    "output = [\"notifications\",\"infection_deaths\"]\n",
    "\n",
    "all_targets = load_timeseries(os.path.join(project.get_path(), \"timeseries.json\"))\n",
    "for target in all_targets:\n",
    "    all_targets[target].index = ref_times_to_dti(REF_DATE, all_targets[target].index)  \n",
    "    \n",
    "notif_values = all_targets[output[0]]\n",
    "deaths_values = all_targets[output[1]]\n",
    "\n",
    "notif_times = all_targets[output[0]].index\n",
    "death_times = all_targets[output[1]].index\n",
    "\n",
    "#icu_dates, icu_values = get_target_series(project.calibration.targets, REF_DATE, output[2])"
   ]
  },
  {
   "cell_type": "code",
   "execution_count": null,
   "id": "d037d1df",
   "metadata": {},
   "outputs": [],
   "source": [
    "fig = pyplot.figure(figsize=(16, 5))\n",
    "pyplot.style.use(\"ggplot\")\n",
    "axis = fig.add_subplot(1,2,1)\n",
    "axis = derived_df[output[0]].plot()\n",
    "axis.scatter(notif_times,notif_values, c=\"k\")\n",
    "pyplot.title(\"COVID notifications\")\n",
    "print(\"notifications maximum: \"+f\"{max(derived_df[output[0]])}\")\n",
    "axis = fig.add_subplot(1,2,2)\n",
    "axis = derived_df[output[1]].plot()\n",
    "axis.scatter(death_times, deaths_values, c=\"k\")\n",
    "pyplot.title(\"COVID deaths\")\n",
    "print(\"deaths maximum: \"+f\"{max(derived_df[output[1]])}\")\n",
    "# axis = fig.add_subplot(1,3,3)\n",
    "# axis = derived_df[output[2]].plot()\n",
    "# axis.scatter(icu_dates, icu_values, c=\"k\")\n",
    "# pyplot.title(\"icu occupancy\")\n",
    "# print(\"ICU maximum: \"+f\"{max(derived_df[output[2]])}\")\n",
    "# fig.show()"
   ]
  },
  {
   "cell_type": "code",
   "execution_count": null,
   "id": "e4b997b2",
   "metadata": {},
   "outputs": [],
   "source": [
    "fig = pyplot.figure(figsize=(12, 8))\n",
    "pyplot.style.use(\"ggplot\")\n",
    "axis = fig.add_subplot()\n",
    "axis = derived_df[\"hospital_occupancy\"].plot()"
   ]
  },
  {
   "cell_type": "code",
   "execution_count": null,
   "id": "723297d8",
   "metadata": {},
   "outputs": [],
   "source": [
    "fig = pyplot.figure(figsize=(15, 6))\n",
    "pyplot.style.use(\"ggplot\")\n",
    "axis = fig.add_subplot(1,2,1)\n",
    "axis = derived_df[\"cdr\"].plot()\n",
    "axis = fig.add_subplot(1,2,2)\n",
    "axis = derived_df[\"prop_ever_infected\"].plot()"
   ]
  },
  {
   "cell_type": "code",
   "execution_count": null,
   "id": "179264f6",
   "metadata": {},
   "outputs": [],
   "source": [
    "fig = pyplot.figure(figsize=(12, 8))\n",
    "pyplot.style.use(\"ggplot\")\n",
    "axis = fig.add_subplot()\n",
    "axis = derived_df[\"proportion_seropositive\"].plot()"
   ]
  },
  {
   "cell_type": "code",
   "execution_count": null,
   "id": "c2699c2c",
   "metadata": {},
   "outputs": [],
   "source": []
  }
 ],
 "metadata": {
  "kernelspec": {
   "display_name": "Python 3 (ipykernel)",
   "language": "python",
   "name": "python3"
  },
  "language_info": {
   "codemirror_mode": {
    "name": "ipython",
    "version": 3
   },
   "file_extension": ".py",
   "mimetype": "text/x-python",
   "name": "python",
   "nbconvert_exporter": "python",
   "pygments_lexer": "ipython3",
   "version": "3.10.4"
  }
 },
 "nbformat": 4,
 "nbformat_minor": 5
}
