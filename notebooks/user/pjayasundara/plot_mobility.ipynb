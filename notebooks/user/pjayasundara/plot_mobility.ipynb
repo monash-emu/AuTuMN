{
 "cells": [
  {
   "cell_type": "code",
   "execution_count": null,
   "id": "21200139",
   "metadata": {},
   "outputs": [],
   "source": [
    "import matplotlib.pyplot as plt\n",
    "import matplotlib.cm as cm\n",
    "from datetime import date\n",
    "import numpy as np\n",
    "import os\n",
    "import pandas as pd\n",
    "from autumn.core.project import get_project\n",
    "from summer.utils import ref_times_to_dti\n",
    "\n",
    "from autumn.core.inputs.mobility.queries import get_mobility_data\n",
    "from autumn.core.inputs.database import get_input_db\n",
    "\n",
    "from autumn.settings import Region, Models\n",
    "from autumn.settings.constants import COVID_BASE_DATETIME\n",
    "\n",
    "from autumn.models.sm_sir.mixing_matrix.macrodistancing import weight_mobility_data"
   ]
  },
  {
   "cell_type": "code",
   "execution_count": null,
   "id": "cab293a1",
   "metadata": {},
   "outputs": [],
   "source": [
    "model = Models.SM_SIR\n",
    "region = Region.MALAYSIA\n",
    "iso3 = params[\"country\"][\"iso3\"]\n",
    "pop_region = params[\"population\"][\"region\"]\n",
    "project = get_project(model, region)\n",
    "params = project.param_set.baseline"
   ]
  },
  {
   "cell_type": "code",
   "execution_count": null,
   "id": "6408aef3",
   "metadata": {},
   "outputs": [],
   "source": [
    "print(\"Whether the mobility effects are actually turned on at all:\")\n",
    "project.param_set.baseline[\"is_dynamic_mixing_matrix\"]"
   ]
  },
  {
   "cell_type": "code",
   "execution_count": null,
   "id": "0b05a931",
   "metadata": {},
   "outputs": [],
   "source": [
    "y_upper = 2.\n",
    "\n",
    "# Collate data together\n",
    "input_db = get_input_db()\n",
    "\n",
    "mob_df, int_times = get_mobility_data(iso3, pop_region, COVID_BASE_DATETIME)\n",
    "google_mob_df = weight_mobility_data(mob_df, project.param_set.baseline[\"mobility\"][\"google_mobility_locations\"])\n",
    "\n",
    "times = ref_times_to_dti(COVID_BASE_DATETIME, int_times)\n",
    "\n",
    "# Get plots ready\n",
    "mob_fig, mob_axes = plt.subplots(1, 2, figsize=(12, 6))\n",
    "plot_left_date = date(2020, 1, 1)\n",
    "plot_right_date = times[-1]  # Not sure why this is necessary\n",
    "\n",
    "# Plot raw mobility data\n",
    "ax = mob_axes[0]\n",
    "for mobility_domain in [\"grocery_and_pharmacy\", \"residential\", \"parks\", \"retail_and_recreation\", \"transit_stations\"]:\n",
    "    ax.plot(times, mob_df[mobility_domain], label=mobility_domain)\n",
    "ax.set_ylim((0., y_upper))\n",
    "ax.tick_params(axis=\"x\", labelrotation=45)\n",
    "ax.set_title(\"raw Google mobility domains\")\n",
    "ax.legend(loc=\"lower right\")\n",
    "ax.set_xlim(left=plot_left_date, right=plot_right_date)\n",
    "\n",
    "# Plot processed mobility data\n",
    "ax = mob_axes[1]\n",
    "for location in list(project.param_set.baseline[\"mobility\"][\"google_mobility_locations\"].keys()):\n",
    "    ax.plot(times, google_mob_df[location], label=location)\n",
    "ax.tick_params(axis=\"x\", labelrotation=45)\n",
    "ax.set_ylim((0., y_upper))\n",
    "ax.legend(loc=\"lower left\")\n",
    "ax.set_title(\"mobility as implemented in the model\")\n",
    "mob_fig.tight_layout(w_pad=1.5, h_pad=3.5)\n",
    "ax.set_xlim(left=plot_left_date, right=plot_right_date)"
   ]
  },
  {
   "cell_type": "code",
   "execution_count": null,
   "id": "a8c501f3",
   "metadata": {},
   "outputs": [],
   "source": [
    "data = {'time': times,\n",
    "        'work mobility': google_mob_df[\"work\"],\n",
    "        'other mobility': google_mob_df[\"other_locations\"]\n",
    "       \n",
    "       }\n",
    "  \n",
    "# Create DataFrame\n",
    "df = pd.DataFrame(data)"
   ]
  },
  {
   "cell_type": "code",
   "execution_count": null,
   "id": "ef457a7b",
   "metadata": {},
   "outputs": [],
   "source": [
    "df_mask = df[(df['time'] > start_date) & (df['time'] <= end_date)].reset_index(drop=True)"
   ]
  },
  {
   "cell_type": "code",
   "execution_count": null,
   "id": "8127ecc9",
   "metadata": {},
   "outputs": [],
   "source": [
    "df_mask.head()"
   ]
  },
  {
   "cell_type": "code",
   "execution_count": null,
   "id": "b011f92a",
   "metadata": {},
   "outputs": [],
   "source": [
    "df_mask['work mobility'].mean()"
   ]
  },
  {
   "cell_type": "code",
   "execution_count": null,
   "id": "9311fc77",
   "metadata": {},
   "outputs": [],
   "source": []
  }
 ],
 "metadata": {
  "kernelspec": {
   "display_name": "Python 3 (ipykernel)",
   "language": "python",
   "name": "python3"
  },
  "language_info": {
   "codemirror_mode": {
    "name": "ipython",
    "version": 3
   },
   "file_extension": ".py",
   "mimetype": "text/x-python",
   "name": "python",
   "nbconvert_exporter": "python",
   "pygments_lexer": "ipython3",
   "version": "3.10.4"
  }
 },
 "nbformat": 4,
 "nbformat_minor": 5
}
