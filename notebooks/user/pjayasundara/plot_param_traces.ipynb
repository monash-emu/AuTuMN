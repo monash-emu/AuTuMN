{
 "cells": [
  {
   "cell_type": "code",
   "execution_count": null,
   "id": "0f535e96",
   "metadata": {},
   "outputs": [],
   "source": [
    "# Import packages\n",
    "import os\n",
    "from matplotlib import pyplot as plt\n",
    "import pandas as pd\n",
    "import datetime\n",
    "\n",
    "# Import AuTuMN modules\n",
    "from autumn.settings import Models, Region\n",
    "from autumn.settings.folders import OUTPUT_DATA_PATH\n",
    "from autumn.tools.project import get_project\n",
    "from autumn.tools import db\n",
    "from autumn.tools.plots.calibration.plots import calculate_r_hats, get_output_from_run_id\n",
    "from autumn.tools.plots.uncertainty.plots import _plot_uncertainty, _get_target_values\n",
    "from autumn.tools.plots.plotter.base_plotter import COLOR_THEME\n",
    "from autumn.tools.plots.utils import get_plot_text_dict, change_xaxis_to_date, REF_DATE, ALPHAS, COLORS, _apply_transparency, _plot_targets_to_axis\n",
    "from autumn.tools.utils.utils import flatten_list\n",
    "from autumn.dashboards.calibration_results.plots import get_uncertainty_df\n",
    "from numpy import mean\n",
    "from math import floor, sqrt\n",
    "\n",
    "from typing import List"
   ]
  },
  {
   "cell_type": "code",
   "execution_count": null,
   "id": "b45dce21",
   "metadata": {},
   "outputs": [],
   "source": [
    "# Specify model details\n",
    "model = Models.COVID_19\n",
    "region = Region.SRI_LANKA\n",
    "dirname = \"2022-04-12\""
   ]
  },
  {
   "cell_type": "code",
   "execution_count": null,
   "id": "f6848934",
   "metadata": {},
   "outputs": [],
   "source": [
    "# get the relevant project and output data\n",
    "project = get_project(model, region)\n",
    "project_calib_dir = os.path.join(\n",
    "    OUTPUT_DATA_PATH, \"calibrate\", project.model_name, project.region_name\n",
    ")\n",
    "calib_path = os.path.join(project_calib_dir, dirname)\n",
    "# Load tables\n",
    "mcmc_tables = db.load.load_mcmc_tables(calib_path)\n",
    "mcmc_params = db.load.load_mcmc_params_tables(calib_path)\n",
    "mcmc_runs = db.load.load_mcmc_run_tables(calib_path)\n",
    "\n",
    "uncertainty_df = get_uncertainty_df(calib_path, mcmc_tables, project.plots)\n",
    "scenario_list = uncertainty_df['scenario'].unique()\n",
    "\n",
    "# make output directories\n",
    "output_dir = f\"{model}_{region}_{dirname}\"\n",
    "base_dir = os.path.join(\"outputs\", output_dir)\n",
    "os.makedirs(base_dir, exist_ok=True)\n",
    "dirs_to_make = [\"calibration\", \"MLE\", \"median\", \"uncertainty\", \"csv_files\"]\n",
    "for dir_to_make in dirs_to_make:\n",
    "    os.makedirs(os.path.join(base_dir, dir_to_make), exist_ok=True)"
   ]
  },
  {
   "cell_type": "code",
   "execution_count": null,
   "id": "509ddcfe",
   "metadata": {},
   "outputs": [],
   "source": [
    "def param_traces(mcmc_params: List[pd.DataFrame], mcmc_tables: List[pd.DataFrame],burn_in: int,):\n",
    "    \n",
    "    optional_param_request=None\n",
    "    \n",
    "        \n",
    "    # Except not the dispersion parameters - only the epidemiological ones\n",
    "    parameters = [\n",
    "        param\n",
    "        for param in mcmc_params[0].columns.tolist()\n",
    "        if \"dispersion_param\" not in param\n",
    "    ]\n",
    "    params_to_plot = optional_param_request if optional_param_request else parameters\n",
    "\n",
    "#     # split tables by chain\n",
    "    param_options = mcmc_params[0].columns.tolist()\n",
    "    chain_idx = mcmc_tables[0].chain.unique()\n",
    "    \n",
    "    param_name = params_to_plot[1]\n",
    "    fig = plt.figure(figsize=(12, 8))\n",
    "    axis = fig.add_subplot(211)\n",
    "    for chain_id in chain_idx:\n",
    "        mask =  mcmc_tables[0].chain == chain_id\n",
    "        param_vals = mcmc_params[0][mask][param_name].to_list()\n",
    "        weights = mcmc_tables[0][mask].weight.to_list()\n",
    "        posterior_chains = flatten_list([[param_vals[i]] * w for i, w in enumerate(weights)])\n",
    "        plt.plot(posterior_chains,linewidth=0.3)\n",
    "        \n",
    "        axis.set_xlabel(\"iterations\")\n",
    "       \n",
    " "
   ]
  },
  {
   "cell_type": "code",
   "execution_count": null,
   "id": "fd5b851d",
   "metadata": {},
   "outputs": [],
   "source": [
    "param_traces(mcmc_params, mcmc_tables, burn_in=0)"
   ]
  }
 ],
 "metadata": {
  "kernelspec": {
   "display_name": "Python 3 (ipykernel)",
   "language": "python",
   "name": "python3"
  },
  "language_info": {
   "codemirror_mode": {
    "name": "ipython",
    "version": 3
   },
   "file_extension": ".py",
   "mimetype": "text/x-python",
   "name": "python",
   "nbconvert_exporter": "python",
   "pygments_lexer": "ipython3",
   "version": "3.10.4"
  }
 },
 "nbformat": 4,
 "nbformat_minor": 5
}
