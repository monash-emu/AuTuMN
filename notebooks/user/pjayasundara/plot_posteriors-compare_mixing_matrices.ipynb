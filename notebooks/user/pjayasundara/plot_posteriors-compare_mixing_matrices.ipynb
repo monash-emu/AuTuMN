{
 "cells": [
  {
   "cell_type": "code",
   "execution_count": null,
   "id": "515de0cb",
   "metadata": {},
   "outputs": [],
   "source": [
    "# Import packages\n",
    "import os\n",
    "from matplotlib import pyplot as plt\n",
    "import pandas as pd\n",
    "import datetime\n",
    "import numpy as np\n",
    "import math\n",
    "\n",
    "# Import AuTuMN modules\n",
    "from autumn.settings import Models\n",
    "from autumn.settings.region import Region\n",
    "from autumn.settings.folders import OUTPUT_DATA_PATH\n",
    "from autumn.core.project import get_project\n",
    "from autumn.core import db\n",
    "\n",
    "from autumn.core.plots.plotter.base_plotter import COLOR_THEME\n",
    "from autumn.core.plots.calibration.plots import get_posterior, get_epi_params, plot_posterior\n",
    "from autumn.calibration.utils import get_uncertainty_df"
   ]
  },
  {
   "cell_type": "code",
   "execution_count": null,
   "id": "138d433d",
   "metadata": {},
   "outputs": [],
   "source": [
    "# Specify model details\n",
    "model = Models.COVID_19\n",
    "region = Region.SRI_LANKA\n"
   ]
  },
  {
   "cell_type": "code",
   "execution_count": null,
   "id": "1617fe3f",
   "metadata": {},
   "outputs": [],
   "source": [
    "def get_uncertainty_data(dirname):\n",
    "    # get the relevant project and output data\n",
    "    project = get_project(model, region)\n",
    "    project_calib_dir = os.path.join(\n",
    "        OUTPUT_DATA_PATH, \"calibrate\", project.model_name, project.region_name\n",
    "    )\n",
    "    calib_path = os.path.join(project_calib_dir, dirname)\n",
    "    # Load tables\n",
    "    mcmc_tables = db.load.load_mcmc_tables(calib_path)\n",
    "    mcmc_params = db.load.load_mcmc_params_tables(calib_path)\n",
    "    \n",
    "    return mcmc_params, mcmc_tables"
   ]
  },
  {
   "cell_type": "code",
   "execution_count": null,
   "id": "3274abc9",
   "metadata": {},
   "outputs": [],
   "source": [
    "def new_get_posterior(mcmc_params, mcmc_tables, param_name, burn_in=0):\n",
    "    weighted_vals = []\n",
    "    for param_df, run_df in zip(mcmc_params, mcmc_tables):\n",
    "        table_df = param_df.merge(run_df, left_index=True,  right_index=True)\n",
    "        unweighted_vals = table_df[param_name]\n",
    "        weights = table_df.weight\n",
    "        for v, w in zip(unweighted_vals, weights):\n",
    "            weighted_vals += [v] * w\n",
    "\n",
    "    return pd.DataFrame(weighted_vals, columns=[param_name])\n"
   ]
  },
  {
   "cell_type": "code",
   "execution_count": null,
   "id": "31aab0e2",
   "metadata": {},
   "outputs": [],
   "source": [
    "dirCHN = \"2022-06-06\" # China matrix\n",
    "dirHKG = \"2022-06-28\" # Hong Kong matrix\n",
    "\n",
    "param_name = \"contact_rate\"\n",
    "burn_in = 500\n",
    "\n",
    "mcmc_params_CHN, mcmc_tables_CHN = get_uncertainty_data(dirCHN)\n",
    "mcmc_params_HKG, mcmc_tables_HKG = get_uncertainty_data(dirHKG)\n",
    "\n",
    "vals_df_CHN = new_get_posterior(mcmc_params_CHN, mcmc_tables_CHN, param_name, burn_in)[param_name]\n",
    "vals_df_HKG = new_get_posterior(mcmc_params_HKG, mcmc_tables_HKG, param_name, burn_in)[param_name]"
   ]
  },
  {
   "cell_type": "code",
   "execution_count": null,
   "id": "2b2443e9",
   "metadata": {},
   "outputs": [],
   "source": [
    "#plot the posterior distributions\n",
    "num_bins = 16\n",
    "fontsize =24\n",
    "label_font_size =20\n",
    "\n",
    "fig = plt.figure(figsize=(10,8))\n",
    "axis = fig.add_subplot(1, 1, 1)\n",
    "\n",
    "contact_rate_ratio = vals_df_CHN/vals_df_HKG\n",
    "contact_rate_ratio.hist(bins=num_bins, ax=axis, density=True)\n",
    "\n",
    "axis.set_xlabel(\"ratio of contact rate\", fontsize = fontsize)\n",
    "axis.set_ylabel(\"frequency\", fontsize = fontsize)\n",
    "plt.setp(axis.get_yticklabels(), fontsize=label_font_size)\n",
    "plt.setp(axis.get_xticklabels(), fontsize=label_font_size)\n",
    "\n",
    "newlist = [x for x in contact_rate_ratio if math.isnan(x) == False] #removing Nan\n",
    "\n",
    "print(np.quantile(newlist,[0.5,0.025,0.975]))"
   ]
  },
  {
   "cell_type": "code",
   "execution_count": null,
   "id": "2fd40a2a",
   "metadata": {},
   "outputs": [],
   "source": []
  },
  {
   "cell_type": "code",
   "execution_count": null,
   "id": "c7f36fc4",
   "metadata": {},
   "outputs": [],
   "source": []
  },
  {
   "cell_type": "code",
   "execution_count": null,
   "id": "439e18ec",
   "metadata": {},
   "outputs": [],
   "source": []
  }
 ],
 "metadata": {
  "kernelspec": {
   "display_name": "Python 3 (ipykernel)",
   "language": "python",
   "name": "python3"
  },
  "language_info": {
   "codemirror_mode": {
    "name": "ipython",
    "version": 3
   },
   "file_extension": ".py",
   "mimetype": "text/x-python",
   "name": "python",
   "nbconvert_exporter": "python",
   "pygments_lexer": "ipython3",
   "version": "3.10.4"
  }
 },
 "nbformat": 4,
 "nbformat_minor": 5
}
