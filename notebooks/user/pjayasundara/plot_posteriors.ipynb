{
 "cells": [
  {
   "cell_type": "code",
   "execution_count": null,
   "id": "3cc455fc",
   "metadata": {},
   "outputs": [],
   "source": [
    "# Import packages\n",
    "import os\n",
    "from matplotlib import pyplot as plt\n",
    "import pandas as pd\n",
    "import datetime\n",
    "\n",
    "# Import AuTuMN modules\n",
    "from autumn.settings import Models, Region\n",
    "from autumn.settings.folders import OUTPUT_DATA_PATH\n",
    "from autumn.tools.project import get_project\n",
    "from autumn.tools import db\n",
    "\n",
    "from autumn.tools.plots.plotter.base_plotter import COLOR_THEME\n",
    "from autumn.tools.plots.calibration.plots import get_posterior, get_epi_params\n",
    "from autumn.dashboards.calibration_results.plots import get_uncertainty_df"
   ]
  },
  {
   "cell_type": "code",
   "execution_count": null,
   "id": "597a428a",
   "metadata": {},
   "outputs": [],
   "source": [
    "\n",
    "# Specify model details\n",
    "model = Models.COVID_19\n",
    "region = Region.SRI_LANKA\n",
    "dirname = \"2022-08-31\""
   ]
  },
  {
   "cell_type": "code",
   "execution_count": null,
   "id": "d68a535f",
   "metadata": {},
   "outputs": [],
   "source": [
    "# get the relevant project and output data\n",
    "project = get_project(model, region)\n",
    "project_calib_dir = os.path.join(\n",
    "    OUTPUT_DATA_PATH, \"calibrate\", project.model_name, project.region_name\n",
    ")\n",
    "calib_path = os.path.join(project_calib_dir, dirname)\n",
    "# Load tables\n",
    "mcmc_tables = db.load.load_mcmc_tables(calib_path)\n",
    "mcmc_params = db.load.load_mcmc_params_tables(calib_path)"
   ]
  },
  {
   "cell_type": "code",
   "execution_count": null,
   "id": "02573920",
   "metadata": {},
   "outputs": [],
   "source": [
    "def get_epi_params(mcmc_params, strings_to_ignore=(\"dispersion_param\",)):\n",
    "    \"\"\"\n",
    "    Extract only the epidemiological parameters, ignoring the ones that were only used to tune proposal distributions,\n",
    "    which end in dispersion_param.\n",
    "    \"\"\"\n",
    "    # for param in mcmc_params[0].loc[:, \"name\"].unique().tolist():\n",
    "    #     print(param)\n",
    "    #     if not any(string in param for string in strings_to_ignore):\n",
    "    #         return param\n",
    "\n",
    "\n",
    "    return [\n",
    "        param\n",
    "        for param in mcmc_params[0].loc[:, \"name\"].unique().tolist()\n",
    "        if not any(string in param for string in strings_to_ignore)\n",
    "    ]"
   ]
  },
  {
   "cell_type": "code",
   "execution_count": null,
   "id": "c0af78ed",
   "metadata": {},
   "outputs": [],
   "source": [
    "mcmc_params[0].head(5)"
   ]
  },
  {
   "cell_type": "code",
   "execution_count": null,
   "id": "a835d851",
   "metadata": {},
   "outputs": [],
   "source": [
    "mcmc_params[0].columns.tolist()"
   ]
  },
  {
   "cell_type": "code",
   "execution_count": null,
   "id": "3bf61a43",
   "metadata": {},
   "outputs": [],
   "source": [
    "def get_new_epi_params(mcmc_params, strings_to_ignore=(\"dispersion_param\", \"ifr_multiplier\")):\n",
    "    \"\"\"\n",
    "    Extract only the epidemiological parameters, ignoring the ones that were only used to tune proposal distributions,\n",
    "    which end in dispersion_param.\n",
    "    \"\"\"\n",
    "\n",
    "    return [\n",
    "        param\n",
    "        for param in mcmc_params[0].columns.tolist()  ## change this line\n",
    "        if not any(string in param for string in strings_to_ignore)\n",
    "    ]\n",
    "\n"
   ]
  },
  {
   "cell_type": "code",
   "execution_count": null,
   "id": "304fe647",
   "metadata": {},
   "outputs": [],
   "source": [
    "param_names = get_new_epi_params(mcmc_params, strings_to_ignore=(\"dispersion_param\",))"
   ]
  },
  {
   "cell_type": "code",
   "execution_count": null,
   "id": "79317ee8",
   "metadata": {},
   "outputs": [],
   "source": [
    "def get_new_posterior(mcmc_params, mcmc_tables, param_name, burn_in=0):\n",
    "    weighted_vals = []\n",
    "    for param_df, run_df in zip(mcmc_params, mcmc_tables):\n",
    "        table_df = param_df.merge(run_df, left_index=True,  right_index=True)\n",
    "        unweighted_vals = table_df[param_name]\n",
    "        weights = table_df.weight\n",
    "        for v, w in zip(unweighted_vals, weights):\n",
    "            weighted_vals += [v] * w\n"
   ]
  },
  {
   "cell_type": "code",
   "execution_count": null,
   "id": "03225bb0",
   "metadata": {},
   "outputs": [],
   "source": [
    "#get the posteriornew distributions\n",
    "param_names = get_new_epi_params(mcmc_params, strings_to_ignore=(\"dispersion_param\",))\n",
    "burn_in = 5000\n",
    "print(get_new_posterior(mcmc_params, mcmc_tables, \"contact_rate\", burn_in))\n",
    "for param_name in param_names:\n",
    "    if param_name == \"voc_emergence.alpha_beta.contact_rate_multiplier\":\n",
    "        vals_df_alpha = get_posterior(mcmc_params, mcmc_tables, param_name, burn_in)[param_name]\n",
    "    if param_name == \"voc_emergence.delta.contact_rate_multiplier\":\n",
    "        vals_df_delta = get_posterior(mcmc_params, mcmc_tables, param_name, burn_in)[param_name]"
   ]
  },
  {
   "cell_type": "code",
   "execution_count": null,
   "id": "d54155ea",
   "metadata": {},
   "outputs": [],
   "source": [
    "#plot the ratio of Delta and Alpha contact rate multiplier\n",
    "fontsize = 24\n",
    "fig = plt.figure(figsize=(10,8))\n",
    "axis = fig.add_subplot(1, 1, 1)\n",
    "\n",
    "VoC_contact_rate_ratio =vals_df_delta/vals_df_alpha\n",
    "num_bins = 16\n",
    "VoC_contact_rate_ratio.hist(bins=num_bins, ax=axis, density=True, color = \"blue\", ec=\"blue\")\n",
    "print(VoC_contact_rate_ratio.quantile([.025, .5, .975]))\n",
    "axis.spines['top'].set_visible(False)\n",
    "axis.spines['right'].set_visible(False)\n",
    "axis.set_xlabel(\"ratio of Delta:Alpha contact rate multiplier\", fontsize = fontsize)\n",
    "axis.set_ylabel(\"frequency\", fontsize = fontsize)\n",
    "axis.tick_params(axis='both', labelsize=fontsize)\n",
    "axis.grid(False)\n",
    "fig.tight_layout"
   ]
  },
  {
   "cell_type": "code",
   "execution_count": null,
   "id": "5b15cb62",
   "metadata": {},
   "outputs": [],
   "source": []
  }
 ],
 "metadata": {
  "kernelspec": {
   "display_name": "Python 3 (ipykernel)",
   "language": "python",
   "name": "python3"
  },
  "language_info": {
   "codemirror_mode": {
    "name": "ipython",
    "version": 3
   },
   "file_extension": ".py",
   "mimetype": "text/x-python",
   "name": "python",
   "nbconvert_exporter": "python",
   "pygments_lexer": "ipython3",
   "version": "3.7.13"
  }
 },
 "nbformat": 4,
 "nbformat_minor": 5
}
