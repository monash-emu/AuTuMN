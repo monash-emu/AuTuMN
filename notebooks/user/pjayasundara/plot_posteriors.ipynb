{
 "cells": [
  {
   "cell_type": "code",
   "execution_count": null,
   "id": "515de0cb",
   "metadata": {},
   "outputs": [],
   "source": [
    "# Import packages\n",
    "import os\n",
    "from matplotlib import pyplot as plt\n",
    "import pandas as pd\n",
    "import datetime\n",
    "import numpy as np\n",
    "\n",
    "# Import AuTuMN modules\n",
    "from autumn.settings import Models, Region\n",
    "from autumn.settings.folders import OUTPUT_DATA_PATH\n",
    "from autumn.tools.project import get_project\n",
    "from autumn.tools import db\n",
    "\n",
    "from autumn.tools.plots.plotter.base_plotter import COLOR_THEME\n",
    "from autumn.tools.plots.calibration.plots import get_posterior, get_epi_params, plot_posterior\n",
    "from autumn.calibration.utils import get_uncertainty_df"
   ]
  },
  {
   "cell_type": "code",
   "execution_count": null,
   "id": "138d433d",
   "metadata": {},
   "outputs": [],
   "source": [
    "\n",
    "# Specify model details\n",
    "model = Models.COVID_19\n",
    "region = Region.SRI_LANKA\n",
    "dirname = \"2022-04-05\""
   ]
  },
  {
   "cell_type": "code",
   "execution_count": null,
   "id": "1617fe3f",
   "metadata": {},
   "outputs": [],
   "source": [
    "# get the relevant project and output data\n",
    "project = get_project(model, region)\n",
    "project_calib_dir = os.path.join(\n",
    "    OUTPUT_DATA_PATH, \"calibrate\", project.model_name, project.region_name\n",
    ")\n",
    "calib_path = os.path.join(project_calib_dir, dirname)\n",
    "# Load tables\n",
    "mcmc_tables = db.load.load_mcmc_tables(calib_path)\n",
    "mcmc_params = db.load.load_mcmc_params_tables(calib_path)"
   ]
  },
  {
   "cell_type": "code",
   "execution_count": null,
   "id": "3274abc9",
   "metadata": {},
   "outputs": [],
   "source": [
    "def new_get_posterior(mcmc_params, mcmc_tables, param_name, burn_in=0):\n",
    "    weighted_vals = []\n",
    "    for param_df, run_df in zip(mcmc_params, mcmc_tables):\n",
    "        table_df = param_df.merge(run_df, left_index=True,  right_index=True)\n",
    "        unweighted_vals = table_df[param_name]\n",
    "        weights = table_df.weight\n",
    "        for v, w in zip(unweighted_vals, weights):\n",
    "            weighted_vals += [v] * w\n",
    "\n",
    "    return pd.DataFrame(weighted_vals, columns=[param_name])\n"
   ]
  },
  {
   "cell_type": "code",
   "execution_count": null,
   "id": "47c2ce01",
   "metadata": {},
   "outputs": [],
   "source": [
    "#get the quantiles of posterior distributions\n",
    "param_names = list(mcmc_params[0].columns)\n",
    "burn_in = 500\n",
    "quantile_value = [0.025, 0.5, 0.975]\n",
    "param_list = []\n",
    "\n",
    "for param_name in param_names:\n",
    "    posterior_val = new_get_posterior(mcmc_params, mcmc_tables, param_name, burn_in)[param_name]\n",
    "    quantile_val = np.quantile(posterior_val,quantile_value)\n",
    "    #print(param_name + f\"\", quantile_val)\n",
    "    param_list.append([param_name, quantile_val [0],quantile_val [1], quantile_val [2]])\n",
    "\n",
    "df = pd.DataFrame(param_list, columns=['param_name', 'quantile 0.025', 'quantile 0.5', 'quantile 0.975'])\n",
    "df.to_csv(\"C:/Users/pjay0011/Desktop/posterior_quantiles.csv\")\n"
   ]
  },
  {
   "cell_type": "code",
   "execution_count": null,
   "id": "2b2443e9",
   "metadata": {},
   "outputs": [],
   "source": [
    "#plot the posterior distributions\n",
    "num_bins = 16\n",
    "\n",
    "for param_name in param_names:\n",
    "    fig = plt.figure(figsize=(10,8))\n",
    "    axis = fig.add_subplot(1, 1, 1)\n",
    "    posterior_val = new_get_posterior(mcmc_params, mcmc_tables, param_name, burn_in)[param_name]\n",
    "    posterior_val.hist(bins=num_bins, ax=axis, density=True)\n",
    "    if param_name == \"voc_emergence.alpha_beta.contact_rate_multiplier\":\n",
    "        vals_df_alpha = new_get_posterior(mcmc_params, mcmc_tables, param_name, burn_in)[param_name]\n",
    "        \n",
    "    if param_name == \"voc_emergence.delta.contact_rate_multiplier\":\n",
    "        vals_df_delta = new_get_posterior(mcmc_params, mcmc_tables, param_name, burn_in)[param_name]"
   ]
  },
  {
   "cell_type": "code",
   "execution_count": null,
   "id": "5eeb4e06",
   "metadata": {},
   "outputs": [],
   "source": [
    "#plot the ratio of Delta and Alpha contact rate multiplier\n",
    "fontsize = 24\n",
    "fig = plt.figure(figsize=(10,8))\n",
    "axis = fig.add_subplot(1, 1, 1)\n",
    "\n",
    "VoC_contact_rate_ratio =vals_df_delta/vals_df_alpha\n",
    "num_bins = 16\n",
    "VoC_contact_rate_ratio.hist(bins=num_bins, ax=axis, density=True, color = \"red\", ec=\"red\")\n",
    "\n",
    "axis.spines['top'].set_visible(False)\n",
    "axis.spines['right'].set_visible(False)\n",
    "axis.set_xlabel(\"ratio of Delta:Alpha contact rate multiplier\", fontsize = fontsize)\n",
    "axis.set_ylabel(\"frequency\", fontsize = fontsize)\n",
    "axis.tick_params(axis='both', labelsize=fontsize)\n",
    "axis.grid(False)\n",
    "fig.tight_layout"
   ]
  },
  {
   "cell_type": "code",
   "execution_count": null,
   "id": "2fd40a2a",
   "metadata": {},
   "outputs": [],
   "source": []
  }
 ],
 "metadata": {
  "kernelspec": {
   "display_name": "Python 3 (ipykernel)",
   "language": "python",
   "name": "python3"
  },
  "language_info": {
   "codemirror_mode": {
    "name": "ipython",
    "version": 3
   },
   "file_extension": ".py",
   "mimetype": "text/x-python",
   "name": "python",
   "nbconvert_exporter": "python",
   "pygments_lexer": "ipython3",
   "version": "3.10.4"
  }
 },
 "nbformat": 4,
 "nbformat_minor": 5
}
