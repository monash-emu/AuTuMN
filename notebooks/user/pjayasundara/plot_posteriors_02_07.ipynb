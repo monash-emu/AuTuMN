{
 "cells": [
  {
   "cell_type": "code",
   "execution_count": null,
   "id": "3cc455fc",
   "metadata": {},
   "outputs": [],
   "source": [
    "# Import packages\n",
    "import os\n",
    "from matplotlib import pyplot as plt\n",
    "import pandas as pd\n",
    "import datetime\n",
    "\n",
    "# Import AuTuMN modules\n",
    "from autumn.settings import Models, Region\n",
    "from autumn.settings.folders import OUTPUT_DATA_PATH\n",
    "from autumn.tools.project import get_project\n",
    "from autumn.tools import db\n",
    "\n",
    "from autumn.tools.plots.plotter.base_plotter import COLOR_THEME\n",
    "from autumn.tools.plots.calibration.plots import get_posterior, get_epi_params\n",
    "from autumn.dashboards.calibration_results.plots import get_uncertainty_df"
   ]
  },
  {
   "cell_type": "code",
   "execution_count": null,
   "id": "597a428a",
   "metadata": {},
   "outputs": [],
   "source": [
    "\n",
    "# Specify model details\n",
    "model = Models.COVID_19\n",
    "region = Region.SRI_LANKA\n",
    "dirname = \"2022-04-05\""
   ]
  },
  {
   "cell_type": "code",
   "execution_count": null,
   "id": "d68a535f",
   "metadata": {},
   "outputs": [],
   "source": [
    "# get the relevant project and output data\n",
    "project = get_project(model, region)\n",
    "project_calib_dir = os.path.join(\n",
    "    OUTPUT_DATA_PATH, \"calibrate\", project.model_name, project.region_name\n",
    ")\n",
    "calib_path = os.path.join(project_calib_dir, dirname)\n",
    "# Load tables\n",
    "mcmc_tables = db.load.load_mcmc_tables(calib_path)\n",
    "mcmc_params = db.load.load_mcmc_params_tables(calib_path)"
   ]
  },
  {
   "cell_type": "code",
   "execution_count": null,
   "id": "15bdcde3",
   "metadata": {},
   "outputs": [],
   "source": [
    "def get_epi_params(mcmc_params, strings_to_ignore=(\"dispersion_param\",)):\n",
    "    \"\"\"\n",
    "    Extract only the epidemiological parameters, ignoring the ones that were only used to tune proposal distributions,\n",
    "    which end in dispersion_param.\n",
    "    \"\"\"\n",
    "\n",
    "    return [\n",
    "        param\n",
    "        for param in mcmc_params[0].columns.unique().tolist()\n",
    "        if not any(string in param for string in strings_to_ignore)\n",
    "    ]"
   ]
  },
  {
   "cell_type": "code",
   "execution_count": null,
   "id": "e8009379",
   "metadata": {},
   "outputs": [],
   "source": [
    "def new_get_posterior(mcmc_params, mcmc_tables, param_name, burn_in=0):\n",
    "    weighted_vals = []\n",
    "    for param_df, run_df in zip(mcmc_params, mcmc_tables):\n",
    "        table_df = param_df.merge(run_df, left_index=True,  right_index=True)\n",
    "        unweighted_vals = table_df[param_name]\n",
    "        weights = table_df.weight\n",
    "        for v, w in zip(unweighted_vals, weights):\n",
    "            weighted_vals += [v] * w\n",
    "\n",
    "    return pd.DataFrame(weighted_vals, columns=[param_name])"
   ]
  },
  {
   "cell_type": "code",
   "execution_count": null,
   "id": "21649dd7",
   "metadata": {},
   "outputs": [],
   "source": [
    "param_names = get_epi_params(mcmc_params, strings_to_ignore=(\"dispersion_param\",))"
   ]
  },
  {
   "cell_type": "code",
   "execution_count": null,
   "id": "03225bb0",
   "metadata": {},
   "outputs": [],
   "source": [
    "#get the posterior distributions\n",
    "param_names = get_epi_params(mcmc_params, strings_to_ignore=(\"dispersion_param\",))\n",
    "burn_in = 500\n",
    "num_bins = 10\n",
    "fig = plt.figure(figsize=(10,8))\n",
    "\n",
    "\n",
    "for i_out, param_name in enumerate(param_names):\n",
    "    axis = fig.add_subplot(4, 4, i_out+1)\n",
    "    vals_df_posterior = new_get_posterior(mcmc_params, mcmc_tables, param_name, burn_in)[param_name]\n",
    "    axis.set_title(param_name.replace(\"_\", \" \"))\n",
    "    vals_df_posterior.hist(bins=num_bins, ax=axis, density=True, color = \"red\", ec=\"red\")\n",
    "    if param_name == \"voc_emergence.alpha_beta.contact_rate_multiplier\":\n",
    "        vals_df_alpha = new_get_posterior(mcmc_params, mcmc_tables, param_name, burn_in)[param_name]\n",
    "    if param_name == \"voc_emergence.delta.contact_rate_multiplier\":\n",
    "        vals_df_delta = new_get_posterior(mcmc_params, mcmc_tables, param_name, burn_in)[param_name]\n",
    "    "
   ]
  },
  {
   "cell_type": "code",
   "execution_count": null,
   "id": "68f67ef8",
   "metadata": {},
   "outputs": [],
   "source": []
  },
  {
   "cell_type": "code",
   "execution_count": null,
   "id": "d54155ea",
   "metadata": {},
   "outputs": [],
   "source": [
    "#plot the ratio of Delta and Alpha contact rate multiplier\n",
    "fontsize = 24\n",
    "fig = plt.figure(figsize=(10,8))\n",
    "axis = fig.add_subplot(1, 1, 1)\n",
    "\n",
    "VoC_contact_rate_ratio =vals_df_delta/vals_df_alpha\n",
    "num_bins = 16\n",
    "VoC_contact_rate_ratio.hist(bins=num_bins, ax=axis, density=True, color = \"red\", ec=\"red\")\n",
    "\n",
    "axis.spines['top'].set_visible(False)\n",
    "axis.spines['right'].set_visible(False)\n",
    "axis.set_xlabel(\"ratio of Delta:Alpha contact rate multiplier\", fontsize = fontsize)\n",
    "axis.set_ylabel(\"frequency\", fontsize = fontsize)\n",
    "axis.tick_params(axis='both', labelsize=fontsize)\n",
    "axis.grid(False)\n",
    "fig.tight_layout"
   ]
  },
  {
   "cell_type": "code",
   "execution_count": null,
   "id": "5b15cb62",
   "metadata": {},
   "outputs": [],
   "source": [
    "# plot posterior distributions\n",
    "mcmc_params = mr.calibration.get_mcmc_params()\n",
    "\n",
    "param_dict = {\n",
    "    \"contact_rate\": \"contact rate\",\n",
    "    \"infectious_seed\": \"infectious seed\",\n",
    "}\n",
    "\n",
    "fig, axes = plt.subplots(`, 2, figsize=(12, 18))\n",
    "for i_ax, axis in enumerate(axes.reshape(-1)):\n",
    "    axis.hist(mcmc_params.iloc[:, i_ax])\n",
    "    axis.set_title(param_dict[mcmc_params.columns[i_ax]])\n"
   ]
  }
 ],
 "metadata": {
  "kernelspec": {
   "display_name": "Python 3 (ipykernel)",
   "language": "python",
   "name": "python3"
  },
  "language_info": {
   "codemirror_mode": {
    "name": "ipython",
    "version": 3
   },
   "file_extension": ".py",
   "mimetype": "text/x-python",
   "name": "python",
   "nbconvert_exporter": "python",
   "pygments_lexer": "ipython3",
   "version": "3.10.4"
  }
 },
 "nbformat": 4,
 "nbformat_minor": 5
}
