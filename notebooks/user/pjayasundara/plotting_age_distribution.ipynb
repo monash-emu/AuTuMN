{
 "cells": [
  {
   "cell_type": "code",
   "execution_count": null,
   "id": "a1568756",
   "metadata": {},
   "outputs": [],
   "source": [
    "# Import packages\n",
    "import os\n",
    "from matplotlib import pyplot as plt\n",
    "import pandas as pd\n",
    "import datetime\n",
    "\n",
    "# Import AuTuMN modules\n",
    "from autumn.settings import Models, Region\n",
    "from autumn.settings.folders import OUTPUT_DATA_PATH\n",
    "from autumn.tools.project import get_project\n",
    "from autumn.tools import db\n",
    "from autumn.tools.inputs.demography.queries import get_population_by_agegroup"
   ]
  },
  {
   "cell_type": "code",
   "execution_count": null,
   "id": "1dd28ee3",
   "metadata": {},
   "outputs": [],
   "source": [
    "# Specify model details\n",
    "model = Models.COVID_19\n",
    "region = Region.SRI_LANKA\n",
    "dirname = \"2021-10-13\""
   ]
  },
  {
   "cell_type": "code",
   "execution_count": null,
   "id": "4742fcf2",
   "metadata": {},
   "outputs": [],
   "source": [
    "ISO3_MAP = {\n",
    "    \"barwon-south-west\": \"AUS\",\n",
    "    \"belgium\": \"BEL\",\n",
    "    \"calabarzon\": \"PHL\",\n",
    "    \"central-visayas\": \"PHL\",\n",
    "    \"france\": \"FRA\",\n",
    "    \"gippsland\": \"AUS\",\n",
    "    \"grampians\": \"AUS\",\n",
    "    \"hume\": \"AUS\",\n",
    "    \"italy\": \"ITA\",\n",
    "    \"loddon-mallee\": \"AUS\",\n",
    "    \"malaysia\": \"MYS\",\n",
    "    \"manila\": \"PHL\",\n",
    "    \"north-metro\": \"AUS\",\n",
    "    \"philippines\": \"PHL\",\n",
    "    \"sabah\": \"MYS\",\n",
    "    \"south-east-metro\": \"AUS\",\n",
    "    \"south-metro\": \"AUS\",\n",
    "    \"spain\": \"ESP\",\n",
    "    \"sweden\": \"SWE\",\n",
    "    \"united-kingdom\": \"GBR\",\n",
    "    \"victoria\": \"AUS\",\n",
    "    \"west-metro\": \"AUS\",\n",
    "    \"sri_lanka\": \"LKA\"\n",
    "}"
   ]
  },
  {
   "cell_type": "code",
   "execution_count": null,
   "id": "6776c2a3",
   "metadata": {},
   "outputs": [],
   "source": [
    "# get the relevant project and output data\n",
    "project = get_project(model, region)"
   ]
  },
  {
   "cell_type": "code",
   "execution_count": null,
   "id": "cf18f446",
   "metadata": {},
   "outputs": [],
   "source": [
    "def plot_age_distribution(sub_region: str, iso3: str):\n",
    "    fig = plt.figure(figsize=(12,10))\n",
    "    axis = fig.add_subplot()\n",
    "    legend = []\n",
    "\n",
    "    # Set age groups\n",
    "    agegroup_strata = [int(s) for s in range(0, 100, 5)]\n",
    "    age_distribution = get_population_by_agegroup(agegroup_strata, iso3, sub_region)\n",
    "    age_distribution = [each / 10e5 for each in age_distribution]\n",
    "  \n",
    "    #calculating age distribution above a certain age group (for vaccination)\n",
    "    below_10 = age_distribution[1]+age_distribution[2]+age_distribution[3]\n",
    "    total_population = sum(age_distribution[0:])\n",
    "    proportion_below_10 = below_10 / total_population\n",
    "    proportion_above_10 = 1- proportion_below_10\n",
    "    print(proportion_above_10)\n",
    "    \n",
    "    #plotting age distribution in the entire population\n",
    "    axis.set_xlabel(\"Age\", fontsize=18)\n",
    "    axis.set_ylabel(\"Millions\", fontsize=18)\n",
    "    plt.bar(agegroup_strata, height=age_distribution, width=4, align=\"edge\")\n",
    "    plt.xticks(fontsize=18)\n",
    "    plt.yticks(fontsize=18)\n",
    "    axis.spines['top'].set_visible(False)\n",
    "    axis.spines['right'].set_visible(False)\n",
    "    #plotter.save_figure(fig, filename=\"age-distribution\", title_text=\"Age distribution\")"
   ]
  },
  {
   "cell_type": "code",
   "execution_count": null,
   "id": "8077e593",
   "metadata": {},
   "outputs": [],
   "source": [
    "plot_age_distribution(None, \"MYS\")"
   ]
  }
 ],
 "metadata": {
  "kernelspec": {
   "display_name": "Python 3",
   "language": "python",
   "name": "python3"
  },
  "language_info": {
   "codemirror_mode": {
    "name": "ipython",
    "version": 3
   },
   "file_extension": ".py",
   "mimetype": "text/x-python",
   "name": "python",
   "nbconvert_exporter": "python",
   "pygments_lexer": "ipython3",
   "version": "3.6.13"
  }
 },
 "nbformat": 4,
 "nbformat_minor": 5
}
