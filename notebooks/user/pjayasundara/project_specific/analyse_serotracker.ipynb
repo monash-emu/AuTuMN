{
 "cells": [
  {
   "cell_type": "code",
   "execution_count": null,
   "id": "0e7e9bb0",
   "metadata": {},
   "outputs": [],
   "source": [
    "import pandas as pd"
   ]
  },
  {
   "cell_type": "code",
   "execution_count": null,
   "id": "6516c250",
   "metadata": {},
   "outputs": [],
   "source": [
    "df = pd.read_excel('serotracker_dataset.xlsx', sheet_name='serotracker_dataset')"
   ]
  },
  {
   "cell_type": "code",
   "execution_count": null,
   "id": "57b77096",
   "metadata": {},
   "outputs": [],
   "source": [
    "df.head(5)"
   ]
  },
  {
   "cell_type": "code",
   "execution_count": null,
   "id": "2c0d31ec",
   "metadata": {},
   "outputs": [],
   "source": [
    "df.dtypes\n"
   ]
  },
  {
   "cell_type": "code",
   "execution_count": null,
   "id": "d258268d",
   "metadata": {},
   "outputs": [],
   "source": [
    "df_refined = df[(df['is_unity_aligned']== \"Unity-Aligned\") & (df['estimate_grade']== \"National\") & (df['sex']== \"All\")]"
   ]
  },
  {
   "cell_type": "code",
   "execution_count": null,
   "id": "b55545c3",
   "metadata": {},
   "outputs": [],
   "source": [
    "df_refined.head(5)"
   ]
  },
  {
   "cell_type": "code",
   "execution_count": null,
   "id": "5dcccda5",
   "metadata": {},
   "outputs": [],
   "source": []
  }
 ],
 "metadata": {
  "kernelspec": {
   "display_name": "Python 3 (ipykernel)",
   "language": "python",
   "name": "python3"
  },
  "language_info": {
   "codemirror_mode": {
    "name": "ipython",
    "version": 3
   },
   "file_extension": ".py",
   "mimetype": "text/x-python",
   "name": "python",
   "nbconvert_exporter": "python",
   "pygments_lexer": "ipython3",
   "version": "3.10.4"
  }
 },
 "nbformat": 4,
 "nbformat_minor": 5
}
