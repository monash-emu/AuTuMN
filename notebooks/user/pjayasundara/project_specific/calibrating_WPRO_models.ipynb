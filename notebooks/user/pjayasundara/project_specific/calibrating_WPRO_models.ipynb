{
 "cells": [
  {
   "cell_type": "code",
   "execution_count": null,
   "id": "16840a2f",
   "metadata": {},
   "outputs": [],
   "source": [
    "from matplotlib import pyplot\n",
    "import pandas as pd\n",
    "import warnings\n",
    "\n",
    "from summer.utils import ref_times_to_dti\n",
    "\n",
    "from autumn.core.plots.utils import REF_DATE\n",
    "from autumn.core.project import get_project\n",
    "from autumn.core.utils.display import pretty_print\n",
    "from autumn import wpro_list"
   ]
  },
  {
   "cell_type": "code",
   "execution_count": null,
   "id": "4c741064",
   "metadata": {},
   "outputs": [],
   "source": [
    "pyplot.style.use(\"ggplot\")\n",
    "warnings.filterwarnings(\"ignore\")"
   ]
  },
  {
   "cell_type": "code",
   "execution_count": null,
   "id": "bc8247e1",
   "metadata": {},
   "outputs": [],
   "source": [
    "\n",
    "def simulate_WPRO_countries(WPR_country):\n",
    "    region_name = WPR_country\n",
    "    project = get_project(\"WPRO\", region_name)\n",
    "    baseline_params = project.param_set.baseline\n",
    "    custom_params = project.param_set.baseline.update(\n",
    "            {\n",
    "                \"time\": {\n",
    "                    \"end\": 1000.},\n",
    "\n",
    "            }\n",
    "    )\n",
    "    model = project.run_baseline_model(custom_params)\n",
    "    derived_df = model.get_derived_outputs_df()\n",
    "\n",
    "    model_start_time = ref_times_to_dti(REF_DATE, [custom_params[\"time\"][\"start\"]])[0]\n",
    "    model_end_time = ref_times_to_dti(REF_DATE, [custom_params[\"time\"][\"end\"]])[0]\n",
    "\n",
    "    targets_dict = {\n",
    "    t.data.name: pd.Series(t.data.values, index=ref_times_to_dti(model.ref_date, t.data.index)) for \n",
    "    t in project.calibration.targets\n",
    "    }\n",
    "    \n",
    "    return derived_df, targets_dict, model_start_time, model_end_time"
   ]
  },
  {
   "cell_type": "code",
   "execution_count": null,
   "id": "a00216c7",
   "metadata": {},
   "outputs": [],
   "source": [
    "outputs_to_plot = [\"notifications\", \"infection_deaths\", \"cdr\", \"prop_ever_infected\"]\n",
    "def plot_calibration_results(derived_df, targets_dict, model_start_time, model_end_time ):\n",
    "    fig = pyplot.figure(figsize=(15, 12))\n",
    "\n",
    "    for i_out, output in enumerate(outputs_to_plot):\n",
    "        axis = fig.add_subplot(2, 2, i_out + 1)\n",
    "        if output in targets_dict:\n",
    "            targets_dict[output].plot(ax=axis, style='.')\n",
    "        if output in derived_df:\n",
    "            derived_df[output].plot(ax=axis)\n",
    "        axis.set_title(output.replace(\"_\", \" \"))\n",
    "        axis.set_xlim([model_start_time, model_end_time])\n",
    "        \n",
    "    return fig"
   ]
  },
  {
   "cell_type": "code",
   "execution_count": null,
   "id": "5056c48a",
   "metadata": {},
   "outputs": [],
   "source": [
    "wpro_countries = wpro_list[\"region\"]\n",
    "\n",
    "for wpro_project in wpro_countries:\n",
    "    region_name = f\"wpro_{wpro_project.upper()}\"\n",
    "    derived_df, targets_dict, model_start_time, model_end_time = simulate_WPRO_countries(region_name)\n",
    "    plot_calibration_results(derived_df, targets_dict, model_start_time, model_end_time )"
   ]
  }
 ],
 "metadata": {
  "kernelspec": {
   "display_name": "Python 3 (ipykernel)",
   "language": "python",
   "name": "python3"
  },
  "language_info": {
   "codemirror_mode": {
    "name": "ipython",
    "version": 3
   },
   "file_extension": ".py",
   "mimetype": "text/x-python",
   "name": "python",
   "nbconvert_exporter": "python",
   "pygments_lexer": "ipython3",
   "version": "3.10.4"
  }
 },
 "nbformat": 4,
 "nbformat_minor": 5
}
