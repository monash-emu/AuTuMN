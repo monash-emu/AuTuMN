{
 "cells": [
  {
   "cell_type": "code",
   "execution_count": null,
   "id": "75ea456c",
   "metadata": {},
   "outputs": [],
   "source": [
    "from autumn.core.inputs.database import get_input_db"
   ]
  },
  {
   "cell_type": "markdown",
   "id": "59634fa2",
   "metadata": {},
   "source": [
    "## Load the database"
   ]
  },
  {
   "cell_type": "code",
   "execution_count": null,
   "id": "a1f1f9e0",
   "metadata": {},
   "outputs": [],
   "source": [
    "input_db = get_input_db()"
   ]
  },
  {
   "cell_type": "markdown",
   "id": "f563ed8d",
   "metadata": {},
   "source": [
    "# get the tables"
   ]
  },
  {
   "cell_type": "code",
   "execution_count": null,
   "id": "48ecf4d9",
   "metadata": {},
   "outputs": [],
   "source": [
    "input_db.table_names()"
   ]
  },
  {
   "cell_type": "markdown",
   "id": "c222ad2c",
   "metadata": {},
   "source": [
    "## Make a query"
   ]
  },
  {
   "cell_type": "code",
   "execution_count": null,
   "id": "a6a79ab3",
   "metadata": {},
   "outputs": [],
   "source": [
    "input_db.query(\n",
    "    table_name='owid', \n",
    ").iso_code.unique()"
   ]
  },
  {
   "cell_type": "code",
   "execution_count": null,
   "id": "8ea545ab",
   "metadata": {},
   "outputs": [],
   "source": []
  }
 ],
 "metadata": {
  "kernelspec": {
   "display_name": "Python 3 (ipykernel)",
   "language": "python",
   "name": "python3"
  },
  "language_info": {
   "codemirror_mode": {
    "name": "ipython",
    "version": 3
   },
   "file_extension": ".py",
   "mimetype": "text/x-python",
   "name": "python",
   "nbconvert_exporter": "python",
   "pygments_lexer": "ipython3",
   "version": "3.10.4"
  }
 },
 "nbformat": 4,
 "nbformat_minor": 5
}
