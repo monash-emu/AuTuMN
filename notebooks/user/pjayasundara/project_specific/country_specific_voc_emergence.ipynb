{
 "cells": [
  {
   "cell_type": "code",
   "execution_count": null,
   "id": "86d918aa",
   "metadata": {},
   "outputs": [],
   "source": [
    "from autumn.models.sm_covid.stratifications.strains import get_first_variant_report_date\n",
    "from autumn.settings.constants import COVID_BASE_DATETIME\n",
    "from autumn import wpro_list"
   ]
  },
  {
   "cell_type": "code",
   "execution_count": null,
   "id": "e36f5242",
   "metadata": {},
   "outputs": [],
   "source": [
    "\n",
    "wpro_countries = wpro_list[\"region\"]\n",
    "\n",
    "def variant_start_time(variant: str):\n",
    "    variant_times = []\n",
    "    for idx, wpro_project in enumerate(wpro_countries):\n",
    "    \n",
    "        if '-' in wpro_project:\n",
    "            wpro_project = wpro_project.replace('-', \" \")\n",
    "        region_name = f\"{wpro_project.title()}\"\n",
    "\n",
    "        if region_name == \"Viet Nam\":\n",
    "            region_name = \"Vietnam\"\n",
    "\n",
    "        variant_first_time = get_first_variant_report_date(variant, region_name)\n",
    "        first_report_date_as_int = (variant_first_time - COVID_BASE_DATETIME).days\n",
    "        variant_times.append(first_report_date_as_int)\n",
    "\n",
    "    return variant_times   "
   ]
  },
  {
   "cell_type": "code",
   "execution_count": null,
   "id": "25582a15",
   "metadata": {},
   "outputs": [],
   "source": [
    "delta_times = variant_start_time(\"delta\")\n",
    "omicron_times = variant_start_time(\"omicron\")"
   ]
  },
  {
   "cell_type": "code",
   "execution_count": null,
   "id": "cec053fb",
   "metadata": {},
   "outputs": [],
   "source": [
    "print(delta_times)\n",
    "print(omicron_times)"
   ]
  },
  {
   "cell_type": "code",
   "execution_count": null,
   "id": "daea4e23",
   "metadata": {},
   "outputs": [],
   "source": []
  }
 ],
 "metadata": {
  "kernelspec": {
   "display_name": "Python 3 (ipykernel)",
   "language": "python",
   "name": "python3"
  },
  "language_info": {
   "codemirror_mode": {
    "name": "ipython",
    "version": 3
   },
   "file_extension": ".py",
   "mimetype": "text/x-python",
   "name": "python",
   "nbconvert_exporter": "python",
   "pygments_lexer": "ipython3",
   "version": "3.10.4"
  }
 },
 "nbformat": 4,
 "nbformat_minor": 5
}
