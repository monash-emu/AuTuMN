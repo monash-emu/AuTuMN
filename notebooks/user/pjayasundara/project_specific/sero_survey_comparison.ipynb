{
 "cells": [
  {
   "cell_type": "code",
   "execution_count": null,
   "id": "e0ee9fa9",
   "metadata": {},
   "outputs": [],
   "source": [
    "from autumn.core.inputs.database import get_input_db\n",
    "import matplotlib.pyplot as plt\n",
    "import pandas as pd\n",
    "\n",
    "from matplotlib import pyplot\n",
    "import pandas as pd\n",
    "import warnings\n",
    "\n",
    "from summer.utils import ref_times_to_dti\n",
    "\n",
    "from autumn.core.plots.utils import REF_DATE\n",
    "from autumn.core.project import get_project\n",
    "from autumn.core.utils.display import pretty_print\n"
   ]
  },
  {
   "cell_type": "code",
   "execution_count": null,
   "id": "fa6217fb",
   "metadata": {},
   "outputs": [],
   "source": [
    "pyplot.style.use(\"ggplot\")\n",
    "warnings.filterwarnings(\"ignore\")\n",
    "\n",
    "region = \"malaysia\"\n",
    "project = get_project(\"sm_sir\", region)"
   ]
  },
  {
   "cell_type": "code",
   "execution_count": null,
   "id": "56f22c88",
   "metadata": {},
   "outputs": [],
   "source": [
    "baseline_params = project.param_set.baseline\n",
    "custom_params = project.param_set.baseline"
   ]
  },
  {
   "cell_type": "code",
   "execution_count": null,
   "id": "9821409c",
   "metadata": {},
   "outputs": [],
   "source": [
    "model = project.run_baseline_model(custom_params)\n",
    "derived_df = model.get_derived_outputs_df()\n",
    "\n",
    "model_start_time = ref_times_to_dti(REF_DATE, [custom_params[\"time\"][\"start\"]])[0]\n",
    "model_end_time = ref_times_to_dti(REF_DATE, [custom_params[\"time\"][\"end\"]])[0]"
   ]
  },
  {
   "cell_type": "code",
   "execution_count": null,
   "id": "101543b1",
   "metadata": {},
   "outputs": [],
   "source": [
    "targets_dict = {\n",
    "    t.data.name: pd.Series(t.data.values, index=ref_times_to_dti(model.ref_date, t.data.index)) for \n",
    "    t in project.calibration.targets\n",
    "}\n",
    "\n",
    "outputs_to_plot = [\"prop_ever_infected\"]\n",
    "\n"
   ]
  },
  {
   "cell_type": "markdown",
   "id": "13959569",
   "metadata": {},
   "source": [
    "#  Plotting seroprevalence data"
   ]
  },
  {
   "cell_type": "code",
   "execution_count": null,
   "id": "b539b4e5",
   "metadata": {},
   "outputs": [],
   "source": [
    "def get_serosurvey_data(country: str):\n",
    "    input_db = get_input_db()\n",
    "    sero_prevalence = input_db.query(\n",
    "        table_name='sero-survey',\n",
    "        conditions={\"country\": country},\n",
    "        columns=[\"serum_pos_prevalence\", \"estimate_grade\", \"sampling_start_date\", \"sampling_end_date\"]\n",
    "    )\n",
    "\n",
    "    return sero_prevalence"
   ]
  },
  {
   "cell_type": "code",
   "execution_count": null,
   "id": "9f9f93a4",
   "metadata": {},
   "outputs": [],
   "source": [
    "sero_data = get_serosurvey_data(\"Malaysia\")\n",
    "print(type(sero_data[\"sampling_start_date\"]))\n",
    "#filtering the serosurvey studies that are included only during the modelling period\n",
    "sero_data_filtered = sero_data[sero_data[\"sampling_start_date\"]> model_start_time]\n",
    "\n"
   ]
  },
  {
   "cell_type": "code",
   "execution_count": null,
   "id": "b7cb079f",
   "metadata": {},
   "outputs": [],
   "source": [
    "fig = pyplot.figure(figsize=(15, 12))\n",
    "for i_out, output in enumerate(outputs_to_plot):\n",
    "    axis = fig.add_subplot(1, 1, 1)\n",
    "    if output in targets_dict:\n",
    "        targets_dict[output].plot(ax=axis, style='.')\n",
    "    if output in derived_df:\n",
    "        derived_df[output].plot(ax=axis)\n",
    "    axis.set_title(output.replace(\"_\", \" \"))\n",
    "    #model_start_time = min(sero_data.sampling_start_date)\n",
    "    #model_end_time = max(sero_data.sampling_start_date)\n",
    "    axis.set_xlim([model_start_time, model_end_time])\n",
    "    \n",
    "    sero_data.plot(ax=axis, kind='scatter',x = 'sampling_start_date', y='serum_pos_prevalence',color='black')\n",
    "    plt.show()"
   ]
  },
  {
   "cell_type": "code",
   "execution_count": null,
   "id": "8d241df6",
   "metadata": {},
   "outputs": [],
   "source": []
  }
 ],
 "metadata": {
  "kernelspec": {
   "display_name": "Python 3 (ipykernel)",
   "language": "python",
   "name": "python3"
  },
  "language_info": {
   "codemirror_mode": {
    "name": "ipython",
    "version": 3
   },
   "file_extension": ".py",
   "mimetype": "text/x-python",
   "name": "python",
   "nbconvert_exporter": "python",
   "pygments_lexer": "ipython3",
   "version": "3.10.4"
  }
 },
 "nbformat": 4,
 "nbformat_minor": 5
}
