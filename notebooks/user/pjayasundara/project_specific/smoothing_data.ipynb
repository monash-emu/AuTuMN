{
 "cells": [
  {
   "cell_type": "code",
   "execution_count": null,
   "id": "62b83c9b",
   "metadata": {},
   "outputs": [],
   "source": [
    "from matplotlib import pyplot\n",
    "import pandas as pd\n",
    "import warnings\n",
    "import numpy as np\n",
    "\n",
    "from summer.utils import ref_times_to_dti\n",
    "\n",
    "from autumn.core.plots.utils import REF_DATE\n",
    "from autumn.core.project import get_project\n",
    "from autumn.core.utils.display import pretty_print\n",
    "\n",
    "from autumn.core.project import (\n",
    "    Project,\n",
    "    ParameterSet,\n",
    "    build_rel_path,\n",
    "    get_all_available_scenario_paths,\n",
    ")"
   ]
  },
  {
   "cell_type": "code",
   "execution_count": null,
   "id": "f6e58b0d",
   "metadata": {},
   "outputs": [],
   "source": [
    "pyplot.style.use(\"ggplot\")\n",
    "warnings.filterwarnings(\"ignore\")\n",
    "region = \"wpro_new-zealand\"\n",
    "project = get_project(\"sm_sir\", region)"
   ]
  },
  {
   "cell_type": "code",
   "execution_count": null,
   "id": "5030ef41",
   "metadata": {},
   "outputs": [],
   "source": [
    "baseline_params = project.param_set.baseline\n",
    "custom_params = project.param_set.baseline\n",
    "model = project.run_baseline_model(custom_params)"
   ]
  },
  {
   "cell_type": "code",
   "execution_count": null,
   "id": "577696a3",
   "metadata": {},
   "outputs": [],
   "source": [
    "def smooth_data(target_data):\n",
    "    \"\"\"\n",
    "    removing the zeroes in the data to remove day of the week reporting effect\n",
    "    \"\"\"\n",
    "    # convert series to NumPy array\n",
    "    data_values = target_data.loc['2020-09-08':'2023-01-08'].to_numpy()\n",
    "    \n",
    "    #calculate number of consecutive zeroes\n",
    "    zero_indices = np.argwhere(data_values == 0)\n",
    "    for count, value in enumerate(zero_indices):\n",
    "        i = value\n",
    "        num_zeros= 0 \n",
    "        if data_values[i-1] > 0:\n",
    "            while data_values[i] == 0:            \n",
    "                num_zeros = num_zeros + 1\n",
    "                i = i+1\n",
    "            number_of_zeros = num_zeros\n",
    "            if number_of_zeros == 1:\n",
    "                no_of_zeros = number_of_zeros+1\n",
    "                smoothed_value = data_values[i]/no_of_zeros\n",
    "                data_values[i-1] = smoothed_value\n",
    "                data_values[i] = smoothed_value\n",
    "\n",
    "            if number_of_zeros > 1 :\n",
    "                no_of_zeros = number_of_zeros+1\n",
    "                smoothed_value = data_values[i]/no_of_zeros\n",
    "                data_values[value[0]:value[0]+(number_of_zeros+1)] = np.repeat(smoothed_value,(number_of_zeros+1))\n",
    "    smoothed_series = pd.Series(data_values)              \n",
    "    return smoothed_series\n",
    "             "
   ]
  },
  {
   "cell_type": "code",
   "execution_count": null,
   "id": "8490ac6d",
   "metadata": {},
   "outputs": [],
   "source": [
    "targets_dict = {\n",
    "    t.data.name: pd.Series(t.data.values, index=ref_times_to_dti(model.ref_date, t.data.index)) for \n",
    "    t in project.calibration.targets\n",
    "}\n",
    "\n",
    "notifications_ts = targets_dict[\"notifications\"]\n",
    "smoothed_notifications = smooth_data(notifications_ts)\n",
    "\n",
    "print(smoothed_notifications)"
   ]
  },
  {
   "cell_type": "code",
   "execution_count": null,
   "id": "2bb76620",
   "metadata": {},
   "outputs": [],
   "source": [
    "fig = pyplot.figure(figsize=(15, 12))\n",
    "\n",
    "axis = fig.add_subplot(1, 1, 1)\n",
    "\n",
    "#notifications_ts.plot(ax=axis, style='.')\n",
    "smoothed_notifications.plot(ax=axis, style='.')"
   ]
  },
  {
   "cell_type": "code",
   "execution_count": null,
   "id": "1637ad3e",
   "metadata": {},
   "outputs": [],
   "source": []
  }
 ],
 "metadata": {
  "kernelspec": {
   "display_name": "Python 3 (ipykernel)",
   "language": "python",
   "name": "python3"
  },
  "language_info": {
   "codemirror_mode": {
    "name": "ipython",
    "version": 3
   },
   "file_extension": ".py",
   "mimetype": "text/x-python",
   "name": "python",
   "nbconvert_exporter": "python",
   "pygments_lexer": "ipython3",
   "version": "3.10.4"
  }
 },
 "nbformat": 4,
 "nbformat_minor": 5
}
