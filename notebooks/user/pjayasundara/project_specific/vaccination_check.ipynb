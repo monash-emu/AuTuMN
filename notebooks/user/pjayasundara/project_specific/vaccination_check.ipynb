{
 "cells": [
  {
   "cell_type": "code",
   "execution_count": null,
   "id": "b165f7ee",
   "metadata": {},
   "outputs": [],
   "source": [
    "from autumn.core.project.project import get_project\n",
    "from matplotlib import pyplot \n",
    "import pandas as pd\n",
    "from autumn.settings.constants import COVID_BASE_DATETIME\n",
    "from autumn.models.sm_sir.parameters import Parameters\n",
    "from autumn.core import inputs\n",
    "from summer.utils import ref_times_to_dti\n",
    "import datetime\n",
    "from autumn.core.inputs.database import get_input_db"
   ]
  },
  {
   "cell_type": "code",
   "execution_count": null,
   "id": "3d856fdb",
   "metadata": {},
   "outputs": [],
   "source": [
    "project = get_project(\"sm_sir\", \"wpro_singapore\")\n",
    "iso3 = \"SGP\"\n",
    "country = \"Singapore\""
   ]
  },
  {
   "cell_type": "code",
   "execution_count": null,
   "id": "d23d70fd",
   "metadata": {},
   "outputs": [],
   "source": [
    "custom_params = project.param_set.baseline \n",
    "model = project.run_baseline_model(custom_params)\n",
    "derived_df = model.get_derived_outputs_df()"
   ]
  },
  {
   "cell_type": "code",
   "execution_count": null,
   "id": "5ae07fa9",
   "metadata": {},
   "outputs": [],
   "source": [
    " def get_actual_vaccination(iso3):\n",
    "\n",
    "    input_db = get_input_db()\n",
    "    vacc_data = input_db.query(table_name='owid', conditions= {\"iso_code\": iso3}, columns=[\"date\", \"people_fully_vaccinated_per_hundred\"])\n",
    "    vacc_data.dropna(inplace=True)\n",
    "    return vacc_data"
   ]
  },
  {
   "cell_type": "code",
   "execution_count": null,
   "id": "389310f4",
   "metadata": {},
   "outputs": [],
   "source": [
    "vaccine_data = get_actual_vaccination(iso3)\n",
    "df = vaccine_data.reset_index(drop=True)\n",
    "print(df)\n",
    "df.dtypes # to check the data types\n",
    "df['date'] =pd.to_datetime(df['date']) # to convert to date time index to align with modelled derived_df data type"
   ]
  },
  {
   "cell_type": "code",
   "execution_count": null,
   "id": "4382d7eb",
   "metadata": {},
   "outputs": [],
   "source": [
    "\n",
    "vacc_strata = [\"vaccinated\", \"unvaccinated\"]\n",
    "fig, axis = pyplot.subplots(1, 1, figsize=(12, 8))\n",
    "\n",
    "# Loop over the vaccination types being implemented in the model\n",
    "lower_value = [0.] * len(derived_df)\n",
    "for stratum in vacc_strata:\n",
    "    working_value = derived_df[f\"prop_immune_{stratum}\"]\n",
    "    upper_value = lower_value + working_value\n",
    "    axis.fill_between(derived_df.index, lower_value, upper_value, label=stratum)\n",
    "    lower_value = upper_value\n",
    "\n",
    "# import matplotlib.ticker as ticker\n",
    "axis.plot(df.loc[:,\"date\"], df.loc[:,\"people_fully_vaccinated_per_hundred\"]/100, color=\"k\", label=\"actual vaccination\")\n",
    "\n",
    "\n",
    "axis.legend(fontsize = 16)\n",
    "axis.tick_params(axis=\"x\", labelrotation=45, labelsize =15)\n",
    "axis.tick_params(axis=\"y\", labelsize =15)\n",
    "\n",
    "# lower_lim = max(derived_df.index[0],df.date[0])\n",
    "# upper_lim = min(derived_df.index[-1],df.date[df.index[-1]])\n",
    "\n",
    "# axis.set_xlim(lower_lim, upper_lim)\n",
    "axis.set_title(f\"{country}\")\n",
    "\n",
    "fig.show()"
   ]
  },
  {
   "cell_type": "code",
   "execution_count": null,
   "id": "da9b206f",
   "metadata": {},
   "outputs": [],
   "source": []
  }
 ],
 "metadata": {
  "kernelspec": {
   "display_name": "Python 3 (ipykernel)",
   "language": "python",
   "name": "python3"
  },
  "language_info": {
   "codemirror_mode": {
    "name": "ipython",
    "version": 3
   },
   "file_extension": ".py",
   "mimetype": "text/x-python",
   "name": "python",
   "nbconvert_exporter": "python",
   "pygments_lexer": "ipython3",
   "version": "3.10.4"
  }
 },
 "nbformat": 4,
 "nbformat_minor": 5
}
