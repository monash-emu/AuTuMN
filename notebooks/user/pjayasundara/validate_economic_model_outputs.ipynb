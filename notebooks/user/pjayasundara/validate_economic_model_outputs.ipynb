{
 "cells": [
  {
   "cell_type": "code",
   "execution_count": null,
   "id": "4a0fb533",
   "metadata": {},
   "outputs": [],
   "source": [
    "from autumn.tools.project import get_project\n",
    "from matplotlib import pyplot\n",
    "from autumn.tools.plots.utils import REF_DATE\n",
    "from autumn.runners.calibration.targets import get_target_series\n",
    "import pandas as pd\n",
    "from autumn.tools.utils.display import pretty_print"
   ]
  },
  {
   "cell_type": "code",
   "execution_count": null,
   "id": "296dd284",
   "metadata": {},
   "outputs": [],
   "source": [
    "project = get_project(\"covid_19\", \"malaysia\")"
   ]
  },
  {
   "cell_type": "code",
   "execution_count": null,
   "id": "371b2ea1",
   "metadata": {},
   "outputs": [],
   "source": [
    "custom_params = project.param_set.baseline#.update(dict(contact_rate = 0.1))\n",
    "model = project.run_baseline_model(custom_params)\n",
    "derived_df = model.get_derived_outputs_df()\n"
   ]
  },
  {
   "cell_type": "code",
   "execution_count": null,
   "id": "47e6fa07",
   "metadata": {},
   "outputs": [],
   "source": [
    "AGEGROUP_STRATA = [str(breakpoint) for breakpoint in list(range(0, 80, 5))]"
   ]
  },
  {
   "cell_type": "markdown",
   "id": "8e833813",
   "metadata": {},
   "source": [
    "# verify total notifications = age specific non hospitlaised notificaitons + new hospital admissions"
   ]
  },
  {
   "cell_type": "code",
   "execution_count": null,
   "id": "c04c4a84",
   "metadata": {},
   "outputs": [],
   "source": [
    "total_non_hospitalised_notif = 0;\n",
    "for agegroup in AGEGROUP_STRATA:\n",
    "     output_name= \"non_hospitalised_notificationsXagegroup_\"+ f\"{agegroup}\"\n",
    "     total_non_hospitalised_notif += derived_df[output_name]\n",
    "total_hospital_admissions = derived_df[\"hospital_admissions\"]\n",
    "\n",
    "total_notif_derived = total_non_hospitalised_notif + total_hospital_admissions"
   ]
  },
  {
   "cell_type": "code",
   "execution_count": null,
   "id": "236f41ab",
   "metadata": {},
   "outputs": [],
   "source": [
    "fig = pyplot.figure(figsize=(12, 8))\n",
    "pyplot.style.use(\"ggplot\")\n",
    "axis = fig.add_subplot()\n",
    "pyplot.plot(derived_df[\"notifications\"],label = \"notifications\")\n",
    "pyplot.plot(total_notif_derived,label = \"derived notifications\",linestyle=\"--\")\n",
    "pyplot.legend()"
   ]
  },
  {
   "cell_type": "markdown",
   "id": "068849bb",
   "metadata": {},
   "source": [
    "# checking if age specific notifications sums to total notifications"
   ]
  },
  {
   "cell_type": "code",
   "execution_count": null,
   "id": "e23c3b54",
   "metadata": {},
   "outputs": [],
   "source": [
    "total_notif = 0;\n",
    "for agegroup in AGEGROUP_STRATA:\n",
    "     output_name= \"notificationsXagegroup_\"+ f\"{agegroup}\"\n",
    "     total_notif += derived_df[output_name]\n",
    "\n"
   ]
  },
  {
   "cell_type": "code",
   "execution_count": null,
   "id": "1b6e7ee2",
   "metadata": {},
   "outputs": [],
   "source": [
    "fig = pyplot.figure(figsize=(12, 8))\n",
    "pyplot.style.use(\"ggplot\")\n",
    "axis = fig.add_subplot()\n",
    "pyplot.plot(derived_df[\"notifications\"],label = \"notifications\")\n",
    "pyplot.plot(total_notif,label = \"age specific notifications\",linestyle=\"--\")\n",
    "pyplot.legend()"
   ]
  }
 ],
 "metadata": {
  "kernelspec": {
   "display_name": "Python 3",
   "language": "python",
   "name": "python3"
  },
  "language_info": {
   "codemirror_mode": {
    "name": "ipython",
    "version": 3
   },
   "file_extension": ".py",
   "mimetype": "text/x-python",
   "name": "python",
   "nbconvert_exporter": "python",
   "pygments_lexer": "ipython3",
   "version": "3.6.13"
  }
 },
 "nbformat": 4,
 "nbformat_minor": 5
}
