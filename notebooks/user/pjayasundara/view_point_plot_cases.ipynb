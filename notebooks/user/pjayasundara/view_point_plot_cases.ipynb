{
 "cells": [
  {
   "cell_type": "code",
   "execution_count": null,
   "id": "14346a04",
   "metadata": {},
   "outputs": [],
   "source": [
    "# Import packages\n",
    "import os\n",
    "from matplotlib import pyplot as plt\n",
    "import pandas as pd\n",
    "import datetime\n",
    "\n",
    "# Import AuTuMN modules\n",
    "from autumn.settings import Models, Region\n",
    "from autumn.tools.project import get_project\n",
    "from autumn.tools.plots.uncertainty.plots import _plot_uncertainty, _get_target_values\n",
    "\n",
    "from autumn.tools.plots.utils import get_plot_text_dict, change_xaxis_to_date, REF_DATE,_plot_targets_to_axis\n",
    "\n"
   ]
  },
  {
   "cell_type": "code",
   "execution_count": null,
   "id": "98f72712",
   "metadata": {},
   "outputs": [],
   "source": [
    "output_names = [\"notifications\"] #,\"icu_occupancy\",\"infection_deaths\",\"hospital_occupancy\",\"accum_deaths\",\"prop_ever_infected\"]"
   ]
  },
  {
   "cell_type": "code",
   "execution_count": null,
   "id": "1dcd9105",
   "metadata": {},
   "outputs": [],
   "source": [
    "# Specify model details\n",
    "model = Models.SM_SIR\n",
    "region = Region.NCR\n",
    "# get the relevant project and output data\n",
    "project = get_project(model, region)"
   ]
  },
  {
   "cell_type": "code",
   "execution_count": null,
   "id": "3ad0f489",
   "metadata": {},
   "outputs": [],
   "source": [
    "def to_date(x_value, date_str_format=\"%#d-%b-%Y\"):\n",
    "    ref_date = datetime.date(2019, 12, 31)\n",
    "    date = ref_date + datetime.timedelta(days=int(x_value))\n",
    "    return date.strftime(date_str_format)"
   ]
  },
  {
   "cell_type": "code",
   "execution_count": null,
   "id": "472a81a0",
   "metadata": {},
   "outputs": [],
   "source": [
    "# initialise figure\n",
    "fig = plt.figure(figsize=(12, 8))\n",
    "plt.style.use(\"ggplot\")\n",
    "axis = fig.add_subplot()\n",
    "linewidth = 1.5\n",
    "label_font_size = 20\n",
    "\n",
    "targets = project.plots\n",
    "targets = {k: v for k, v in targets.items() if v[\"output_key\"] == output_name}\n",
    "values, times = _get_target_values(targets, output_name)\n",
    "\n",
    "cases_per_million = [x / 1e6 for x in values]\n",
    "\n",
    "axis.plot(times, cases_per_million, color='red', linewidth=linewidth)\n",
    "#_plot_targets_to_axis(axis, values, times, on_uncertainty_plot=True)\n",
    "df = pd.DataFrame(values)\n",
    "moving_average = df.rolling(window=7).mean() # calculate moving average\n",
    "#axis = moving_average[0].plot()\n",
    "\n",
    "change_xaxis_to_date(axis, REF_DATE)\n",
    "#axis.set_title(\"7-day moving average Philipines - NCR\")\n",
    "#axis.set_title(\"Daily notified Covid-19 cases Philipines - NCR\")\n",
    "axis.set_title(\"Notified Covid-19 cases (per million) Philipines - NCR\")\n",
    "\n",
    "plt.setp(axis.get_yticklabels(), fontsize=label_font_size)\n",
    "plt.setp(axis.get_xticklabels(), fontsize=label_font_size)\n",
    "axis.set_xlabel(\"years\", fontsize=label_font_size)\n",
    "axis.set_ylabel(\"notified Covid-19 cases\", fontsize=label_font_size)\n",
    "\n",
    "#axis.plot(times, values, color='red', linewidth=linewidth)"
   ]
  },
  {
   "cell_type": "code",
   "execution_count": null,
   "id": "daf700d7",
   "metadata": {},
   "outputs": [],
   "source": []
  },
  {
   "cell_type": "code",
   "execution_count": null,
   "id": "461076d5",
   "metadata": {},
   "outputs": [],
   "source": []
  }
 ],
 "metadata": {
  "kernelspec": {
   "display_name": "Python 3 (ipykernel)",
   "language": "python",
   "name": "python3"
  },
  "language_info": {
   "codemirror_mode": {
    "name": "ipython",
    "version": 3
   },
   "file_extension": ".py",
   "mimetype": "text/x-python",
   "name": "python",
   "nbconvert_exporter": "python",
   "pygments_lexer": "ipython3",
   "version": "3.10.4"
  }
 },
 "nbformat": 4,
 "nbformat_minor": 5
}
