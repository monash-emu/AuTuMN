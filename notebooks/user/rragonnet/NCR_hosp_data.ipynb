{
 "cells": [
  {
   "cell_type": "code",
   "execution_count": 1,
   "id": "34e75bae",
   "metadata": {},
   "outputs": [],
   "source": [
    "import pandas as pd"
   ]
  },
  {
   "cell_type": "code",
   "execution_count": 7,
   "id": "a82e0ad7",
   "metadata": {},
   "outputs": [],
   "source": [
    "data_df = pd.read_excel('hospital_data.xlsx')\n",
    "region = \"NATIONAL CAPITAL REGION (NCR)\"\n",
    "data_df = data_df[data_df.Regname == region]"
   ]
  },
  {
   "cell_type": "code",
   "execution_count": 16,
   "id": "a5045a81",
   "metadata": {},
   "outputs": [],
   "source": [
    "times = data_df.Date\n",
    "icu_occupancy = data_df.IcuO\n",
    "hospital_occupancy = data_df.IcuO + data_df.BedsWardO\n",
    "hospital_occupancy = hospital_occupancy[data_df.Date < \"2Mar2022\"]"
   ]
  }
 ],
 "metadata": {
  "kernelspec": {
   "display_name": "Python 3 (ipykernel)",
   "language": "python",
   "name": "python3"
  },
  "language_info": {
   "codemirror_mode": {
    "name": "ipython",
    "version": 3
   },
   "file_extension": ".py",
   "mimetype": "text/x-python",
   "name": "python",
   "nbconvert_exporter": "python",
   "pygments_lexer": "ipython3",
   "version": "3.7.11"
  }
 },
 "nbformat": 4,
 "nbformat_minor": 5
}
