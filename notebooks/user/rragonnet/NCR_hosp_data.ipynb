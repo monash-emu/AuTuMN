{
 "cells": [
  {
   "cell_type": "code",
   "execution_count": null,
   "id": "34e75bae",
   "metadata": {},
   "outputs": [],
   "source": [
    "import pandas as pd"
   ]
  },
  {
   "cell_type": "code",
   "execution_count": null,
   "id": "a82e0ad7",
   "metadata": {},
   "outputs": [],
   "source": [
    "data_df = pd.read_excel('hospital_data.xlsx')\n",
    "region = \"NATIONAL CAPITAL REGION (NCR)\"\n",
    "data_df = data_df[data_df.Regname == region]"
   ]
  },
  {
   "cell_type": "code",
   "execution_count": null,
   "id": "a5045a81",
   "metadata": {},
   "outputs": [],
   "source": [
    "times = data_df.Date\n",
    "icu_occupancy = data_df.IcuO\n",
    "hospital_occupancy = data_df.IcuO + data_df.BedsWardO\n",
    "hospital_occupancy = hospital_occupancy[data_df.Date < \"2Mar2022\"]\n",
    "hospital_occupancy_times = times[times < \"2Mar2022\"]"
   ]
  },
  {
   "cell_type": "code",
   "execution_count": null,
   "id": "vital-banana",
   "metadata": {},
   "outputs": [],
   "source": [
    "from autumn.models.covid_19.constants import BASE_DATETIME"
   ]
  },
  {
   "cell_type": "code",
   "execution_count": null,
   "id": "excited-instrument",
   "metadata": {},
   "outputs": [],
   "source": [
    "def get_times_list(times_series):\n",
    "    return [float(t.days) for t in (times_series - BASE_DATETIME)]"
   ]
  },
  {
   "cell_type": "code",
   "execution_count": null,
   "id": "negative-class",
   "metadata": {},
   "outputs": [],
   "source": [
    "import json"
   ]
  },
  {
   "cell_type": "code",
   "execution_count": null,
   "id": "decent-transparency",
   "metadata": {},
   "outputs": [],
   "source": [
    "targets_dict = {\n",
    "    \"hospital_occupancy\": {\n",
    "        \"title\": \"Hospital occupancy\",\n",
    "        \"output_key\": \"hospital_occupancy\",\n",
    "        \"times\": get_times_list(hospital_occupancy_times),\n",
    "        \"values\": list(hospital_occupancy.astype(float))\n",
    "    },\n",
    "    \"icu_occupancy\": {\n",
    "        \"title\": \"ICU occupancy\",\n",
    "        \"output_key\": \"icu_occupancy\",\n",
    "        \"times\": get_times_list(times),\n",
    "        \"values\": list(icu_occupancy.astype(float))\n",
    "    }\n",
    "}"
   ]
  },
  {
   "cell_type": "code",
   "execution_count": null,
   "id": "sticky-bridges",
   "metadata": {},
   "outputs": [],
   "source": [
    "for k, v in targets_dict.items():\n",
    "    print(k)\n",
    "    print(len(v[\"times\"]),len(v[\"values\"]))\n",
    "    assert(len(v[\"times\"]) == len(v[\"values\"]))"
   ]
  },
  {
   "cell_type": "code",
   "execution_count": null,
   "id": "geographic-skating",
   "metadata": {},
   "outputs": [],
   "source": [
    "json.dump(targets_dict, open(\"new_targets.json\", 'w'), indent=2)"
   ]
  },
  {
   "cell_type": "code",
   "execution_count": null,
   "id": "julian-diary",
   "metadata": {},
   "outputs": [],
   "source": []
  }
 ],
 "metadata": {
  "kernelspec": {
   "display_name": "Python 3",
   "language": "python",
   "name": "python3"
  },
  "language_info": {
   "codemirror_mode": {
    "name": "ipython",
    "version": 3
   },
   "file_extension": ".py",
   "mimetype": "text/x-python",
   "name": "python",
   "nbconvert_exporter": "python",
   "pygments_lexer": "ipython3",
   "version": "3.6.13"
  }
 },
 "nbformat": 4,
 "nbformat_minor": 5
}
