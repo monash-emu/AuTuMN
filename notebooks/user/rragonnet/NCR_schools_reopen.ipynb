{
 "cells": [
  {
   "cell_type": "code",
   "execution_count": null,
   "metadata": {},
   "outputs": [],
   "source": [
    "from autumn.tools.project import get_project, ParameterSet\n",
    "from matplotlib import pyplot as plt\n",
    "from autumn.tools.plots.utils import REF_DATE\n",
    "import pandas as pd"
   ]
  },
  {
   "cell_type": "code",
   "execution_count": null,
   "metadata": {},
   "outputs": [],
   "source": [
    "project = get_project(\"covid_19\", \"manila\")"
   ]
  },
  {
   "cell_type": "code",
   "execution_count": null,
   "metadata": {},
   "outputs": [],
   "source": [
    "# run baseline model\n",
    "model_0 = project.run_baseline_model(project.param_set.baseline)\n",
    "derived_df = model_0.get_derived_outputs_df()"
   ]
  },
  {
   "cell_type": "code",
   "execution_count": null,
   "metadata": {},
   "outputs": [],
   "source": [
    "# run scenarios\n",
    "start_times = [\n",
    "    sc_params.to_dict()[\"time\"][\"start\"] for sc_params in project.param_set.scenarios\n",
    "]\n",
    "sc_models = project.run_scenario_models(model_0, project.param_set.scenarios, start_times=start_times)"
   ]
  },
  {
   "cell_type": "code",
   "execution_count": null,
   "metadata": {},
   "outputs": [],
   "source": [
    "derived_dfs = [m.get_derived_outputs_df() for m in sc_models]"
   ]
  },
  {
   "cell_type": "code",
   "execution_count": null,
   "metadata": {},
   "outputs": [],
   "source": [
    "outputs = [\"notifications\", \"hospital_occupancy\", \"icu_occupancy\"]"
   ]
  },
  {
   "cell_type": "code",
   "execution_count": null,
   "metadata": {},
   "outputs": [],
   "source": [
    "sc_colors = [\"blue\", \"red\",\"green\", \"orange\", \"purple\", \"cornflowerblue\"]\n",
    "\n",
    "max_y = {\n",
    "    \"notifications\": 7000, \"hospital_occupancy\": 7000, \"icu_occupancy\": 1500,\n",
    "}\n",
    "\n",
    "scenario_lists = [ [1, 2, 3], [4, 5, 6]]\n",
    "titles = [\"95% of 20+ fully vaccinated by end of 2021\", \"95% of 20+ and 50% of 15-19 fully vaccinated by end of 2021\"]\n",
    "filename_suf = [\"\", \"_young_vacc\"]\n",
    "scenario_names = [\n",
    "    \"no mobility increase\",\n",
    "    \"25% mobility increase\",\n",
    "    \"50% mobility increase\"\n",
    "] * 2\n",
    "\n",
    "\n",
    "for i_s, scenario_list in enumerate(scenario_lists):\n",
    "    \n",
    "    for output in outputs:\n",
    "        fig = plt.figure(figsize=(12, 8))\n",
    "        plt.style.use(\"ggplot\")\n",
    "        axis = fig.add_subplot()\n",
    "        axis = derived_df[output].plot(color=\"black\", label=\"baseline\")\n",
    "\n",
    "        for sc_id in scenario_list:\n",
    "            d = derived_dfs[sc_id - 1]\n",
    "            \n",
    "            if output in d.columns:\n",
    "                d[output].plot(color=sc_colors[sc_id - 1], label=scenario_names[sc_id - 1])\n",
    "        axis.vlines(x=pd.Timestamp(\"2022-01-01\"), ymin=0, ymax=max_y[output], color=\"black\", linestyle=\"dashed\")\n",
    "        \n",
    "\n",
    "        plt.text(x=pd.Timestamp(\"2022-01-05\"), y=max_y[output] * .9, s=\"schools reopen\", ha=\"left\", fontsize=12)\n",
    "\n",
    "        axis.set_ylim((0, max_y[output]))\n",
    "\n",
    "        axis.set_xlim((pd.Timestamp(\"2021-09-01\"), pd.Timestamp(\"2022-06-01\")))\n",
    "        axis.set_ylabel(output.replace(\"_\", \" \"), fontsize=15)\n",
    "        \n",
    "        plt.title(titles[i_s], fontsize=15)\n",
    "        \n",
    "        plt.legend(fontsize=12, facecolor=\"white\", markerscale=3)\n",
    "        \n",
    "        filename = f\"ncr_11oct21_{output}{filename_suf[i_s]}\"\n",
    "        plt.savefig(filename,dpi=300)\n",
    "        "
   ]
  },
  {
   "cell_type": "code",
   "execution_count": null,
   "metadata": {},
   "outputs": [],
   "source": []
  }
 ],
 "metadata": {
  "kernelspec": {
   "display_name": "Python 3",
   "language": "python",
   "name": "python3"
  },
  "language_info": {
   "codemirror_mode": {
    "name": "ipython",
    "version": 3
   },
   "file_extension": ".py",
   "mimetype": "text/x-python",
   "name": "python",
   "nbconvert_exporter": "python",
   "pygments_lexer": "ipython3",
   "version": "3.6.8"
  }
 },
 "nbformat": 4,
 "nbformat_minor": 2
}
