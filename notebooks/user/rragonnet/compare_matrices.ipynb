{
 "cells": [
  {
   "cell_type": "code",
   "execution_count": null,
   "metadata": {},
   "outputs": [],
   "source": [
    "import numpy as np\n",
    "\n",
    "from autumn.tools.inputs.social_mixing.queries import get_prem_mixing_matrices\n",
    "from autumn.tools.inputs.social_mixing.build_synthetic_matrices import build_synthetic_matrices\n",
    "from autumn.tools.inputs.social_mixing.constants import LOCATIONS\n",
    "\n",
    "import matplotlib.pyplot as plt\n",
    "import matplotlib.cm as cm"
   ]
  },
  {
   "cell_type": "code",
   "execution_count": null,
   "metadata": {},
   "outputs": [],
   "source": [
    "model_iso3 = \"MYS\"\n",
    "source_iso_3 = \"VNM\"\n",
    "\n",
    "AGEGROUP_STRATA = [str(5 * i) for i in range(16)]\n",
    "\n",
    "\n",
    "prem_matrices = get_prem_mixing_matrices(model_iso3)\n",
    "new_matrices = build_synthetic_matrices(model_iso3, source_iso_3, AGEGROUP_STRATA)\n",
    "\n",
    "# normalise new_matrices\n",
    "lambdas_prem, _ = np.linalg.eig(prem_matrices[\"all_locations\"])\n",
    "sp_radius_prem = max([abs(l) for l in lambdas_prem])\n",
    "\n",
    "lambdas_new, _ = np.linalg.eig(new_matrices[\"all_locations\"])\n",
    "sp_radius_new = max([abs(l) for l in lambdas_new])\n",
    "\n",
    "for location in LOCATIONS:\n",
    "    prem_matrices[location] = prem_matrices[location] * sp_radius_new / sp_radius_prem\n",
    "    \n",
    "matrices = {\n",
    "    \"prem\": prem_matrices,\n",
    "    \"new\": new_matrices\n",
    "}\n"
   ]
  },
  {
   "cell_type": "code",
   "execution_count": null,
   "metadata": {},
   "outputs": [],
   "source": [
    "def compare_by_location(location):\n",
    "    fig = plt.figure()\n",
    "    fig.set_size_inches(12, 8)\n",
    "    \n",
    "    ticks = [2*i - .5 for i in range(8)]\n",
    "    labels = [str(int(2*i*5)) for i in range(8)] \n",
    "    max_value = max(matrices[\"prem\"][location].max(), matrices[\"new\"][location].max())\n",
    "    \n",
    "    i = 0\n",
    "    for key, mats in matrices.items():\n",
    "        i += 1\n",
    "        ax = fig.add_subplot(1, 2, i)\n",
    "        \n",
    "        #ax1 = fig.add_subplot(121)\n",
    "        ax.imshow(np.transpose(mats[location]), cmap=cm.hot, vmin = 0, vmax=max_value, origin='lower')\n",
    "        \n",
    "        ax.set_title(key)\n",
    "        plt.xlabel(\"index\")\n",
    "        plt.ylabel(\"n_contacts\")\n",
    "        plt.xticks(ticks, labels)\n",
    "        plt.yticks(ticks, labels)\n",
    "\n",
    "\n",
    "    plt.show()\n",
    "\n",
    "    \n",
    "    \n",
    "def compare_location_contributions():\n",
    "    i_ages_illustrate = [2, 6, 14]\n",
    "    \n",
    "    locations_notall = [l for l in LOCATIONS if l != \"all_locations\"]\n",
    "    \n",
    "    for i_age in i_ages_illustrate:\n",
    "        print(f\"Age group age_{i_age * 5}\")\n",
    "        fig = plt.figure()\n",
    "        fig.set_size_inches(12, 8)\n",
    "        i = 0\n",
    "        for key, mat in matrices.items():\n",
    "            i += 1\n",
    "            ax = fig.add_subplot(1, 2, i) \n",
    "            n_contacts = []\n",
    "            for loc in locations_notall:\n",
    "                n_contacts.append(sum(mat[loc][i_age,]))            \n",
    "                \n",
    "            ax.pie(n_contacts, labels=locations_notall, autopct='%1.1f%%', shadow=True, startangle=90)\n",
    "            ax.axis('equal')  # Equal aspect ratio ensures that pie is drawn as a circle.\n",
    "\n",
    "        plt.show()\n",
    "    "
   ]
  },
  {
   "cell_type": "code",
   "execution_count": null,
   "metadata": {},
   "outputs": [],
   "source": [
    "for location in LOCATIONS:\n",
    "    print(location)\n",
    "    compare_by_location(location)"
   ]
  },
  {
   "cell_type": "code",
   "execution_count": null,
   "metadata": {},
   "outputs": [],
   "source": [
    "compare_location_contributions()"
   ]
  },
  {
   "cell_type": "code",
   "execution_count": null,
   "metadata": {},
   "outputs": [],
   "source": []
  }
 ],
 "metadata": {
  "kernelspec": {
   "display_name": "Python 3",
   "language": "python",
   "name": "python3"
  },
  "language_info": {
   "codemirror_mode": {
    "name": "ipython",
    "version": 3
   },
   "file_extension": ".py",
   "mimetype": "text/x-python",
   "name": "python",
   "nbconvert_exporter": "python",
   "pygments_lexer": "ipython3",
   "version": "3.6.8"
  }
 },
 "nbformat": 4,
 "nbformat_minor": 4
}
