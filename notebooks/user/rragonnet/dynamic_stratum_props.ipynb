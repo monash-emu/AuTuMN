{
 "cells": [
  {
   "cell_type": "code",
   "execution_count": null,
   "id": "80b11f7f",
   "metadata": {},
   "outputs": [],
   "source": [
    "import pandas as pd\n",
    "import numpy as np\n",
    "import matplotlib.pyplot as plt\n",
    "\n",
    "from autumn.model_extensions.dynamic_proportions.solve_transitions import calculate_transition_rates_from_dynamic_props, check_requested_proportions\n",
    "from summer import CompartmentalModel"
   ]
  },
  {
   "cell_type": "markdown",
   "id": "bfffb0a0",
   "metadata": {},
   "source": [
    "## Request proportions over time and estimate parameters"
   ]
  },
  {
   "cell_type": "code",
   "execution_count": null,
   "id": "8a20df47",
   "metadata": {},
   "outputs": [],
   "source": [
    "# Requested proportions over time\n",
    "props_df = pd.DataFrame(\n",
    "    data={ \n",
    "        \"A\":[1., .2, .2, .2], \n",
    "        \"B\":[0., .8, .6, .7], \n",
    "        \"C\":[0., .0, .2, .1]\n",
    "    },\n",
    "    index = [0, 100 , 150, 175]\n",
    ")\n",
    "\n",
    "# List of transtion flows\n",
    "active_flows = {\n",
    "    \"vaccination\": (\"A\", \"B\"),\n",
    "    \"booster\": (\"B\", \"C\"),\n",
    "    \"waning\": (\"C\", \"B\")\n",
    "}\n",
    "\n",
    "sc_functions = calculate_transition_rates_from_dynamic_props(props_df, active_flows)"
   ]
  },
  {
   "cell_type": "markdown",
   "id": "2bdb38ee",
   "metadata": {},
   "source": [
    "## Build a dynamic compartmental model and compare outputs to user requests"
   ]
  },
  {
   "cell_type": "code",
   "execution_count": null,
   "id": "266228fa",
   "metadata": {},
   "outputs": [],
   "source": [
    "# Define a basic compartmental model\n",
    "model = CompartmentalModel(\n",
    "    times=[0, 200],\n",
    "    compartments=[\"A\", \"B\", \"C\"],\n",
    "    infectious_compartments=[\"A\"],\n",
    "    timestep=0.1,\n",
    ")\n",
    "model.set_initial_population(distribution={\"A\": 1})\n",
    "model.add_transition_flow(name=\"vaccination\", fractional_rate=sc_functions[\"vaccination\"], source=\"A\", dest=\"B\")\n",
    "model.add_transition_flow(name=\"booster\", fractional_rate=sc_functions[\"booster\"], source=\"B\", dest=\"C\")\n",
    "model.add_transition_flow(name=\"waning\", fractional_rate=sc_functions[\"waning\"], source=\"C\", dest=\"B\")\n",
    "\n",
    "# Run the model\n",
    "model.run()\n",
    "\n",
    "\n",
    "# Visualize the results.\n",
    "subplot = {\"title\": \"ABC Model Outputs\", \"xlabel\": \"Days\", \"ylabel\": \"Compartment size\"}\n",
    "fig, ax = plt.subplots(1, 1, figsize=(8, 4), dpi=120, subplot_kw=subplot)\n",
    "colors = [\"blue\", \"red\", \"green\"]\n",
    "\n",
    "plt.style.use(\"ggplot\")\n",
    "ax.legend([\"A\", \"B\", \"C\"], title=\"User requests\")\n",
    "\n",
    "# Plot the modelled proportions over time\n",
    "for compartment_idx in range(model.outputs.shape[1]):\n",
    "    ax.plot(model.times, model.outputs.T[compartment_idx], color=colors[compartment_idx])\n",
    "\n",
    "ax.set_xticks([0,50,100,150,200])\n",
    "\n",
    "# Plot the requested proportions\n",
    "props_df.plot(ax=ax, marker=\"x\", ms=10, lw=0, color=colors)\n",
    "\n",
    "plt.show()"
   ]
  },
  {
   "cell_type": "code",
   "execution_count": null,
   "id": "99138ceb",
   "metadata": {},
   "outputs": [],
   "source": []
  }
 ],
 "metadata": {
  "kernelspec": {
   "display_name": "Python 3 (ipykernel)",
   "language": "python",
   "name": "python3"
  },
  "language_info": {
   "codemirror_mode": {
    "name": "ipython",
    "version": 3
   },
   "file_extension": ".py",
   "mimetype": "text/x-python",
   "name": "python",
   "nbconvert_exporter": "python",
   "pygments_lexer": "ipython3",
   "version": "3.7.11"
  }
 },
 "nbformat": 4,
 "nbformat_minor": 5
}
