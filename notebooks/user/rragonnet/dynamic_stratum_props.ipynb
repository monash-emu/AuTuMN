{
 "cells": [
  {
   "cell_type": "code",
   "execution_count": 90,
   "id": "19eaf7e1",
   "metadata": {},
   "outputs": [
    {
     "name": "stdout",
     "output_type": "stream",
     "text": [
      "['A_to_B', 'B_to_C', 'C_to_B']\n",
      "{'A_to_B': [0.004700030859341583, 0.22920280892437866], 'B_to_C': [0.003156966610331139, 0.04688094936343767], 'C_to_B': [1.0175118407444169e-05, 0.04584384387186252]}\n"
     ]
    }
   ],
   "source": [
    "import pandas as pd\n",
    "import scipy\n",
    "from scipy.optimize import minimize\n",
    "import numpy as np\n",
    "\n",
    "\n",
    "props_df = pd.DataFrame(\n",
    "    { \n",
    "        \"A\":[1., 1., 1.], \n",
    "        \"B\":[0., 0., 0.], \n",
    "        \"C\":[0., .0, .0]\n",
    "    },\n",
    "    index = [0, 100 , 150]\n",
    ")\n",
    "\n",
    "active_flows = [\n",
    "    \"A_to_B\", \n",
    "    \"B_to_C\", \n",
    "    \"C_to_B\"\n",
    "]\n",
    "\n",
    "\n",
    "def calculate_transition_rates_from_dynamic_props(props_df, active_flows):      \n",
    "    strata = props_df.columns.to_list()\n",
    "    times = props_df.index.to_list()\n",
    "    \n",
    "    tv_rates = {flow : [] for flow in active_flows}\n",
    "    print(active_flows)\n",
    "    for i in range(len(times) - 1):\n",
    "        delta_t = times[i + 1] - times[i]\n",
    "        start_props = props_df.loc[times[i]]\n",
    "        end_props = props_df.loc[times[i + 1]]\n",
    "        \n",
    "        rates = calculate_rates_for_interval(start_props, end_props, delta_t, strata, active_flows)      \n",
    "        for i_flow, flow in enumerate(active_flows):\n",
    "            tv_rates[flow].append(rates[i_flow])\n",
    "            \n",
    "    print(tv_rates)\n",
    "    \n",
    "def calculate_rates_for_interval(start_props, end_props, delta_t, strata, active_flows):\n",
    "    n_strata = len(strata)\n",
    "    n_params = len(active_flows)\n",
    "    \n",
    "    def function_to_zero(params):        \n",
    "        # params are ordered in the same order as active_flows\n",
    "       \n",
    "        m = np.zeros((n_strata, n_strata))        \n",
    "        \n",
    "        for i_row, stratum_row in enumerate(strata):\n",
    "            for i_col, stratum_col in enumerate(strata):\n",
    "                if i_row == i_col:\n",
    "                    relevant_flows = [f for f in active_flows if f.startswith(f\"{stratum_row}_to_\")]\n",
    "                    for f in relevant_flows:\n",
    "                        m[i_row, i_col] -= params[active_flows.index(f)]\n",
    "                else:\n",
    "                    potential_flow = f\"{stratum_col}_to_{stratum_row}\"\n",
    "                    if potential_flow in active_flows:\n",
    "                        m[i_row, i_col] = params[active_flows.index(potential_flow)]\n",
    "                        \n",
    "        exp_mt = scipy.linalg.expm(m * delta_t)\n",
    "        diff = np.matmul(exp_mt, start_props) - end_props\n",
    "        \n",
    "        return scipy.linalg.norm(diff)    \n",
    "    \n",
    "    bounds = [(0., None)] * n_params\n",
    "    solution = minimize(function_to_zero, x0=np.zeros(n_params), bounds=bounds)\n",
    "    \n",
    "    return solution.x\n",
    "        \n",
    "calculate_transition_rates_from_dynamic_props(props, active_flows)"
   ]
  },
  {
   "cell_type": "code",
   "execution_count": 85,
   "id": "4192a2c7",
   "metadata": {},
   "outputs": [
    {
     "data": {
      "text/plain": [
       "0.5000002716229416"
      ]
     },
     "execution_count": 85,
     "metadata": {},
     "output_type": "execute_result"
    }
   ],
   "source": [
    "0.8 * np.exp(-4.70003086e-03 * 100)"
   ]
  },
  {
   "cell_type": "code",
   "execution_count": null,
   "id": "b1515d91",
   "metadata": {},
   "outputs": [],
   "source": []
  }
 ],
 "metadata": {
  "kernelspec": {
   "display_name": "Python 3 (ipykernel)",
   "language": "python",
   "name": "python3"
  },
  "language_info": {
   "codemirror_mode": {
    "name": "ipython",
    "version": 3
   },
   "file_extension": ".py",
   "mimetype": "text/x-python",
   "name": "python",
   "nbconvert_exporter": "python",
   "pygments_lexer": "ipython3",
   "version": "3.7.11"
  }
 },
 "nbformat": 4,
 "nbformat_minor": 5
}
