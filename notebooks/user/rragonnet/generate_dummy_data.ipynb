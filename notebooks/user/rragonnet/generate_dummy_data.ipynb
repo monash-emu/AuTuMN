{
 "cells": [
  {
   "cell_type": "code",
   "execution_count": 14,
   "metadata": {},
   "outputs": [],
   "source": [
    "from autumn.tools.project import get_project\n",
    "from matplotlib import pyplot\n",
    "from autumn.tools.plots.utils import REF_DATE\n",
    "import datetime\n",
    "import pandas as pd\n",
    "import os\n",
    "import json\n",
    "from autumn.settings.folders import PROJECTS_PATH"
   ]
  },
  {
   "cell_type": "code",
   "execution_count": 3,
   "metadata": {},
   "outputs": [],
   "source": [
    "project = get_project(\"hierarchical_sir\", \"multi\")"
   ]
  },
  {
   "cell_type": "code",
   "execution_count": 4,
   "metadata": {},
   "outputs": [],
   "source": [
    "update_params = {\n",
    "    \"beta.AUS\": .1,\n",
    "    \"beta.ITA\": .2,\n",
    "    \"gamma\": .1\n",
    "}\n",
    "params = project.param_set.baseline.update(update_params, calibration_format=True)"
   ]
  },
  {
   "cell_type": "code",
   "execution_count": 5,
   "metadata": {},
   "outputs": [],
   "source": [
    "model = project.run_baseline_model(params)\n",
    "derived_df = model.get_derived_outputs_df()"
   ]
  },
  {
   "cell_type": "code",
   "execution_count": 6,
   "metadata": {},
   "outputs": [],
   "source": [
    "data = derived_df[::30]"
   ]
  },
  {
   "cell_type": "code",
   "execution_count": 12,
   "metadata": {},
   "outputs": [],
   "source": [
    "countries = [\"AUS\", \"ITA\"]\n",
    "\n",
    "timeseries = {}\n",
    "for country in countries:\n",
    "    times=data.index\n",
    "    # plt.plot(times, values)\n",
    "\n",
    "    times = [(t - pd.Timestamp(REF_DATE)).total_seconds() / 3600 / 24 for t in times]\n",
    "    values = [int(v) for v in data[f\"incidence_{country}\"]]\n",
    "    timeseries[f\"incidence_{country}\"] = {\n",
    "        \"output_key\": f\"incidence_{country}\",\n",
    "        \"title\": f\"Incidence of {country}\",\n",
    "        \"times\": times,\n",
    "        \"values\": values,\n",
    "        \"quantiles\": [.025, 0.25, 0.5, 0.75, 0.975]\n",
    "    }\n"
   ]
  },
  {
   "cell_type": "code",
   "execution_count": 15,
   "metadata": {},
   "outputs": [],
   "source": [
    "targets_path = os.path.join(PROJECTS_PATH, \"hierarchical_sir\", \"multi\", \"timeseries.json\")\n",
    " \n",
    "# Writing to sample.json\n",
    "with open(targets_path, \"w\") as outfile:\n",
    "    json.dump(timeseries, outfile, indent=2)"
   ]
  },
  {
   "cell_type": "code",
   "execution_count": null,
   "metadata": {},
   "outputs": [],
   "source": [
    "for output_type in [\"incidence_AUS\", \"incidence_ITA\"]:\n",
    "    outputs = [o for o in derived_df.columns if o.startswith(output_type)]\n",
    "    \n",
    "    fig = pyplot.figure(figsize=(12, 8))\n",
    "    pyplot.style.use(\"ggplot\")\n",
    "    axis = fig.add_subplot()\n",
    "    for output in outputs:\n",
    "        axis = derived_df[output].plot()\n",
    "        \n",
    "    axis.set_title(output_type)\n",
    "    # axis.set_xlim((\"Jan 2020\", \"May 2020\"))\n",
    "    axis.legend()\n",
    "    "
   ]
  },
  {
   "cell_type": "code",
   "execution_count": null,
   "metadata": {},
   "outputs": [],
   "source": []
  }
 ],
 "metadata": {
  "interpreter": {
   "hash": "7afc08b952f75bca94590012dd49682c815a0fa68720c270ce23d7ae27bf110a"
  },
  "kernelspec": {
   "display_name": "Python 3.10.3 ('autumn310')",
   "language": "python",
   "name": "python3"
  },
  "language_info": {
   "codemirror_mode": {
    "name": "ipython",
    "version": 3
   },
   "file_extension": ".py",
   "mimetype": "text/x-python",
   "name": "python",
   "nbconvert_exporter": "python",
   "pygments_lexer": "ipython3",
   "version": "3.10.3"
  }
 },
 "nbformat": 4,
 "nbformat_minor": 2
}
