{
 "cells": [
  {
   "cell_type": "code",
   "execution_count": null,
   "id": "casual-nightlife",
   "metadata": {},
   "outputs": [],
   "source": [
    "from matplotlib import pyplot as plt\n",
    "import os\n",
    "from math import ceil\n",
    "from summer.utils import ref_times_to_dti\n",
    "\n",
    "from autumn.core.project import get_project, load_timeseries\n",
    "from autumn.core.plots.utils import REF_DATE\n",
    "from autumn.core.runs.managed import ManagedRun\n",
    "\n",
    "import numpy as np\n",
    "from random import sample\n",
    "from scipy.stats import truncnorm\n",
    "from itertools import combinations"
   ]
  },
  {
   "cell_type": "markdown",
   "id": "f1049ee1",
   "metadata": {},
   "source": [
    "## Specify the run id and the outputs to plot"
   ]
  },
  {
   "cell_type": "code",
   "execution_count": null,
   "id": "mental-queensland",
   "metadata": {},
   "outputs": [],
   "source": [
    "run_id = \"hierarchical_sir/multi/1653962883/0e2003c\"\n",
    "BURN_IN = 5000\n",
    "\n",
    "# Outputs requested for full run plots\n",
    "outputs_for_full_run_plots = (\n",
    "    \"incidence_AUS\",\n",
    "    \"incidence_ITA\",\n",
    ")\n",
    "\n",
    "# Outputs requested with uncertainty\n",
    "outputs_to_plot_with_uncertainty = (\n",
    "    \"incidence_AUS\",\n",
    "    \"incidence_ITA\",\n",
    ")\n",
    "scenarios_to_plot_with_uncertainty = [0]"
   ]
  },
  {
   "cell_type": "code",
   "execution_count": null,
   "id": "56d950e6",
   "metadata": {},
   "outputs": [],
   "source": [
    "param_lookup = {\n",
    "}\n",
    "\n",
    "title_lookup = {\n",
    "}"
   ]
  },
  {
   "cell_type": "markdown",
   "id": "d568172f",
   "metadata": {},
   "source": [
    "## Load run outputs and pre-process data"
   ]
  },
  {
   "cell_type": "code",
   "execution_count": null,
   "id": "e54e2753",
   "metadata": {},
   "outputs": [],
   "source": [
    "model, region = run_id.split(\"/\")[0:2]\n",
    "mr = ManagedRun(run_id)\n",
    "full_run = mr.full_run.get_derived_outputs()\n",
    "pbi = mr.powerbi.get_db()\n",
    "targets = pbi.get_targets()\n",
    "results = pbi.get_uncertainty()\n",
    "mcmc_params = mr.calibration.get_mcmc_params()\n",
    "mcmc_runs = mr.calibration.get_mcmc_runs()"
   ]
  },
  {
   "cell_type": "code",
   "execution_count": null,
   "id": "a601c450",
   "metadata": {},
   "outputs": [],
   "source": [
    "project = get_project(model, region, reload=True)\n",
    "params_list = list(mcmc_params.columns)\n",
    "chains = mcmc_runs.chain.unique()\n",
    "mcmc_table = mcmc_params.merge(mcmc_runs, on=[\"urun\"])\n",
    "\n",
    "post_burnin_uruns = mcmc_runs[mcmc_runs[\"run\"] >= BURN_IN].index\n",
    "post_burnin_mcmc_table = mcmc_table.filter(items=post_burnin_uruns, axis=0)"
   ]
  },
  {
   "cell_type": "markdown",
   "id": "a9cfe391",
   "metadata": {},
   "source": [
    "## Plot posteriors"
   ]
  },
  {
   "cell_type": "code",
   "execution_count": null,
   "id": "a90524ad",
   "metadata": {},
   "outputs": [],
   "source": [
    "plt.style.use(\"ggplot\")\n",
    "n_params = len(params_list)\n",
    "n_col = 3\n",
    "n_row = ceil(n_params / n_col)\n",
    "fig, axes = plt.subplots(n_row, n_col, figsize=(n_col * 4, n_row * 3.5))\n",
    "\n",
    "for i_ax, axis in enumerate(axes.reshape(-1)):\n",
    "    if i_ax >= n_params:\n",
    "        axis.set_visible(False)\n",
    "    else:\n",
    "        param = mcmc_params.columns[i_ax]\n",
    "        axis.hist(post_burnin_mcmc_table[param], weights=post_burnin_mcmc_table[\"weight\"])\n",
    "\n",
    "        par_name = param if param not in param_lookup else param_lookup[param]\n",
    "        axis.set_title(par_name)\n",
    "        axis.set_xlabel(par_name)\n",
    "\n",
    "fig.suptitle(\"parameter posterior histograms\", fontsize=15, y=1)\n",
    "fig.tight_layout()"
   ]
  },
  {
   "cell_type": "markdown",
   "id": "2d4ad3d8",
   "metadata": {},
   "source": [
    "## Plot traces"
   ]
  },
  {
   "cell_type": "code",
   "execution_count": null,
   "id": "e3258596",
   "metadata": {},
   "outputs": [],
   "source": [
    "n_col = 2\n",
    "n_row = ceil(n_params / n_col)\n",
    "fig, axes = plt.subplots(n_row, n_col, figsize=(8*n_col, 4*n_row))\n",
    "\n",
    "for i_ax, axis in enumerate(axes.reshape(-1)):\n",
    "    if i_ax >= n_params:\n",
    "        axis.set_visible(False)\n",
    "    else:\n",
    "        param = params_list[i_ax]    \n",
    "        for chain in chains:\n",
    "            if chain == 6:\n",
    "                continue\n",
    "            chain_filter = mcmc_table[\"chain\"] == chain\n",
    "            axis.plot(mcmc_table[chain_filter]['run'], mcmc_table[chain_filter][param], lw=.5)\n",
    "        par_name = param if param not in param_lookup else param_lookup[param]\n",
    "        axis.set_title(par_name)"
   ]
  },
  {
   "cell_type": "markdown",
   "id": "3075dd44",
   "metadata": {},
   "source": [
    "# Model outputs"
   ]
  },
  {
   "cell_type": "markdown",
   "id": "769197e2",
   "metadata": {},
   "source": [
    "### Get all targets, including those not used in calibration, to use as a validation"
   ]
  },
  {
   "cell_type": "code",
   "execution_count": null,
   "id": "6816a17d",
   "metadata": {},
   "outputs": [],
   "source": [
    "all_targets = load_timeseries(os.path.join(project.get_path(), \"timeseries.json\"))\n",
    "for target in all_targets:\n",
    "    all_targets[target].index = ref_times_to_dti(REF_DATE, all_targets[target].index)"
   ]
  },
  {
   "cell_type": "markdown",
   "id": "a8114c0c",
   "metadata": {},
   "source": [
    "### Calibration fits with individual model runs"
   ]
  },
  {
   "cell_type": "code",
   "execution_count": null,
   "id": "8a0b1405",
   "metadata": {},
   "outputs": [],
   "source": [
    "n_outputs = len(outputs_for_full_run_plots)\n",
    "n_col = 2\n",
    "n_row = ceil(n_outputs / n_col)\n",
    "fig, axes = plt.subplots(n_row, n_col, figsize=(n_col * 8, n_row * 6), sharex=\"all\")\n",
    "for i_ax, axis in enumerate(axes.reshape(-1)):\n",
    "    if i_ax >= n_outputs:\n",
    "            axis.set_visible(False)\n",
    "    else:\n",
    "        output = outputs_for_full_run_plots[i_ax]\n",
    "        scenario_chain = (full_run[\"scenario\"] == 0) & (full_run[\"chain\"] == 0)\n",
    "        for i_run in full_run[scenario_chain][\"run\"].unique():\n",
    "            selection = full_run[(full_run[\"run\"] == i_run) & scenario_chain]\n",
    "            axis.plot(ref_times_to_dti(REF_DATE, selection[\"times\"]), selection[output])\n",
    "        if output in all_targets and len(all_targets[output]) > 0:\n",
    "            all_targets[output].plot.line(ax=axis, linewidth=0., markersize=10., marker=\"o\")\n",
    "            axis.scatter(all_targets[output].index, all_targets[output], color=\"k\", s=5, alpha=0.5, zorder=10)\n",
    "        if output in targets:\n",
    "            axis.scatter(targets.index, targets[output], facecolors=\"r\", edgecolors=\"k\", s=15, zorder=10)\n",
    "        axis.tick_params(axis=\"x\", labelrotation=45)\n",
    "        \n",
    "        title = output if output not in title_lookup else title_lookup[output]\n",
    "        axis.set_title(title)"
   ]
  },
  {
   "cell_type": "markdown",
   "id": "6d10013a",
   "metadata": {},
   "source": [
    "### Calibration fits with uncertainty"
   ]
  },
  {
   "cell_type": "code",
   "execution_count": null,
   "id": "8374d183",
   "metadata": {},
   "outputs": [],
   "source": [
    "colours = ((0.2, 0.2, 0.8), (0.8, 0.2, 0.2), (0.2, 0.8, 0.2), (0.8, 0.8, 0.2), (0.8, 0.2, 0.2), (0.2, 0.8, 0.2), (0.8, 0.8, 0.2))\n",
    "\n",
    "def plot_outputs_with_uncertainty(outputs, scenarios = [0]):\n",
    "    n_outputs = len(outputs)\n",
    "    n_col = 2\n",
    "    n_row = ceil(n_outputs / n_col)\n",
    "    fig, axes = plt.subplots(n_row, n_col, figsize=(n_col * 8, n_row * 6), sharex=\"all\")\n",
    "    for i_ax, axis in enumerate(axes.reshape(-1)):\n",
    "        if i_ax >= n_outputs:\n",
    "            axis.set_visible(False)\n",
    "        else:\n",
    "            output = outputs[i_ax]\n",
    "            for scenario in scenarios:\n",
    "                colour = colours[scenario]\n",
    "                results_df = results[(output, scenario)]\n",
    "                indices = results_df.index\n",
    "                interval_label = \"baseline\" if scenario == 0 else project.param_set.scenarios[scenario - 1][\"description\"]\n",
    "                scenario_zorder = 10 if scenario == 0 else scenario\n",
    "                axis.fill_between(\n",
    "                    indices, \n",
    "                    results_df[0.025], results_df[0.975], \n",
    "                    color=colour, \n",
    "                    alpha=0.5,\n",
    "                    label=\"_nolegend_\",\n",
    "                    zorder=scenario_zorder,\n",
    "                )\n",
    "                axis.fill_between(\n",
    "                    indices, \n",
    "                    results_df[0.25], results_df[0.75], \n",
    "                    color=colour, alpha=0.7, \n",
    "                    label=interval_label,\n",
    "                    zorder=scenario_zorder\n",
    "                )\n",
    "                axis.plot(indices, results_df[0.500], color=colour)\n",
    "                if output in all_targets and len(all_targets[output]) > 0:\n",
    "                    all_targets[output].plot.line(\n",
    "                        ax=axis, \n",
    "                        linewidth=0., \n",
    "                        markersize=8.,\n",
    "                        marker=\"o\",\n",
    "                        markerfacecolor=\"w\",\n",
    "                        markeredgecolor=\"w\",\n",
    "                        alpha=0.2,\n",
    "                        label=\"_nolegend_\",\n",
    "                        zorder=11,\n",
    "                    )\n",
    "                if output in targets:\n",
    "                    targets[output].plot.line(\n",
    "                        ax=axis, \n",
    "                        linewidth=0., \n",
    "                        markersize=5., \n",
    "                        marker=\"o\", \n",
    "                        markerfacecolor=\"k\",\n",
    "                        markeredgecolor=\"k\",\n",
    "                        label=\"_nolegend_\",\n",
    "                        zorder=12,\n",
    "                    )\n",
    "                axis.tick_params(axis=\"x\", labelrotation=45)\n",
    "                title = output if output not in title_lookup else title_lookup[output]\n",
    "                axis.set_title(title)\n",
    "            if i_ax == 0:\n",
    "                axis.legend()\n",
    "    fig.tight_layout()"
   ]
  },
  {
   "cell_type": "code",
   "execution_count": null,
   "id": "bdb00101",
   "metadata": {},
   "outputs": [],
   "source": [
    "plot_outputs_with_uncertainty(outputs_to_plot_with_uncertainty, scenarios_to_plot_with_uncertainty)"
   ]
  },
  {
   "cell_type": "markdown",
   "id": "04505721",
   "metadata": {},
   "source": [
    "# Exploration of the hierarchical parameterisation"
   ]
  },
  {
   "cell_type": "code",
   "execution_count": null,
   "id": "5fc45801",
   "metadata": {},
   "outputs": [],
   "source": [
    "full_run['urun'] = full_run['chain'].astype(str).str.zfill(2) + '_' + full_run['run'].astype(str).str.zfill(6)\n",
    "uruns = list(full_run.urun.unique())"
   ]
  },
  {
   "cell_type": "code",
   "execution_count": null,
   "id": "2a8dfe5d",
   "metadata": {},
   "outputs": [],
   "source": [
    "min_ll, max_ll = post_burnin_mcmc_table['loglikelihood'].min(), post_burnin_mcmc_table['loglikelihood'].max()\n",
    "max_ap_ll = post_burnin_mcmc_table['ap_loglikelihood'].max()"
   ]
  },
  {
   "cell_type": "code",
   "execution_count": null,
   "id": "f3d00914",
   "metadata": {},
   "outputs": [],
   "source": [
    "def plot_hierarchical_outputs(urun, title=None):\n",
    "    x_vals = np.arange(0, 0.5, 0.001)\n",
    "    fig, axes = plt.subplots(2, 2, figsize=(15, 10))\n",
    "    main_title = f\"Run id: {urun}\" if title is None else title\n",
    "    fig.suptitle(main_title, fontsize=18)\n",
    "    params = post_burnin_mcmc_table.loc[urun]\n",
    "\n",
    "    ### plot model fits to data\n",
    "    for i, loc in enumerate([\"AUS\", \"ITA\"]):\n",
    "        axis = axes[0, i]\n",
    "        output = f\"incidence_{loc}\"\n",
    "        selection = full_run[(full_run[\"urun\"] == urun)]\n",
    "        axis.plot(ref_times_to_dti(REF_DATE, selection[\"times\"]), selection[output])\n",
    "    \n",
    "        all_targets[output].plot.line(ax=axis, linewidth=0., markersize=10., marker=\"o\")\n",
    "        axis.scatter(all_targets[output].index, all_targets[output], color=\"k\", s=5, alpha=0.5, zorder=10)\n",
    "       \n",
    "        axis.get_xaxis().set_visible(False)\n",
    "        axis.set_title(f\"Incidence in {loc}\")\n",
    "\n",
    "    ### plot hierarchical prior\n",
    "    hyper_mu, hyper_sd = params['hyper_beta_mean'], params['hyper_beta_sd']\n",
    "\n",
    "    axis = axes[1, 0]\n",
    "    y_vals = truncnorm.pdf(x_vals, a=-hyper_mu / hyper_sd, b=np.inf, loc=hyper_mu, scale=hyper_sd)\n",
    "    axis.plot(x_vals, y_vals, color=\"blue\")\n",
    "    axis.fill_between(x_vals, y_vals, color=\"blue\", alpha=.1)    \n",
    "    \n",
    "    ymax = max(y_vals)\n",
    "    axis.text(x=.2, y = .8 * ymax, s=f\"mu={round(hyper_mu, 3)}\\nsd={round(hyper_sd,3)}\", color=\"blue\", fontsize=10)\n",
    "\n",
    "    axis.scatter(\n",
    "        x=[params['beta.AUS'], params['beta.ITA']], \n",
    "        y=[0] * 2,\n",
    "        color=[\"red\", \"green\"],\n",
    "        marker=\"o\"\n",
    "    )\n",
    "    axis.scatter(\n",
    "        x=[.1, .2], \n",
    "        y= [-0.03*ymax] * 2,\n",
    "        color= [\"red\", \"green\"],\n",
    "        marker=\"^\"\n",
    "    )\n",
    "    axis.set_xlim((-.05, .5))\n",
    "    axis.set_title(\"Hierarchical prior\")\n",
    "\n",
    "    ### print iteration scores\n",
    "    log_prior_sum = round(sum(truncnorm.logpdf([params['beta.AUS'], params['beta.ITA']], a=-hyper_mu / hyper_sd, b=np.inf, loc=hyper_mu, scale=hyper_sd)), 2)\n",
    "    fit_score = round(100. * ((params['loglikelihood'] - min_ll) / (max_ll - min_ll))**4)\n",
    "\n",
    "    axis = axes[1, 1]\n",
    "    fs = 15\n",
    "    axis.text(.2, .8, s=f\"fitting score = {fit_score}%\",fontsize=fs)\n",
    "    axis.text(.2, .6, s=f\"log-prior = {log_prior_sum}\",fontsize=fs)\n",
    "\n",
    "    axis.set_xlim((0, 1))\n",
    "    axis.set_ylim((0, 1))\n",
    "    axis.set_frame_on(False)\n",
    "    axis.get_xaxis().set_visible(False) \n",
    "    axis.get_yaxis().set_visible(False) "
   ]
  },
  {
   "cell_type": "markdown",
   "id": "0db031c4",
   "metadata": {},
   "source": [
    "### Plot randomly-selected runs"
   ]
  },
  {
   "cell_type": "code",
   "execution_count": null,
   "id": "aab41c4a",
   "metadata": {},
   "outputs": [],
   "source": [
    "n_samples = 2\n",
    "sampled_uruns = sample(uruns, n_samples)\n",
    "for urun in sampled_uruns:\n",
    "    plot_hierarchical_outputs(urun)"
   ]
  },
  {
   "cell_type": "markdown",
   "id": "0db031c4",
   "metadata": {},
   "source": [
    "### Plot highest-likelihood runs"
   ]
  },
  {
   "cell_type": "code",
   "execution_count": null,
   "id": "32487015",
   "metadata": {},
   "outputs": [],
   "source": [
    "# best fit \n",
    "best_fit_urun = post_burnin_mcmc_table[post_burnin_mcmc_table['loglikelihood'] == max_ll].index[0]\n",
    "plot_hierarchical_outputs(best_fit_urun, \"Best model fit (highest likelihood)\")\n",
    "\n",
    "# best ap-likelihood\n",
    "best_ap_urun = post_burnin_mcmc_table[post_burnin_mcmc_table['ap_loglikelihood'] == max_ap_ll].index[0]\n",
    "plot_hierarchical_outputs(best_ap_urun, \"Best a-posteriori likelihood\")"
   ]
  },
  {
   "cell_type": "markdown",
   "id": "56e86faf",
   "metadata": {},
   "source": [
    "### Correlations between parameters"
   ]
  },
  {
   "cell_type": "code",
   "execution_count": null,
   "id": "98dce6a3",
   "metadata": {},
   "outputs": [],
   "source": [
    "params_list = post_burnin_mcmc_table.columns.to_list()[:5]\n",
    "param_pairs = list(combinations(params_list, 2))\n",
    "\n",
    "fig, axes = plt.subplots(4, 3, figsize=(20, 20))\n",
    "\n",
    "for i_ax, axis in enumerate(axes.reshape(-1)):\n",
    "        if i_ax >= len(param_pairs):\n",
    "            axis.set_visible(False)\n",
    "        else:\n",
    "            param_pair = param_pairs[i_ax]\n",
    "            axis.scatter(post_burnin_mcmc_table[param_pair[0]], post_burnin_mcmc_table[param_pair[1]], s=10, color=\"purple\")\n",
    "            axis.set_xlabel(param_pair[0])\n",
    "            axis.set_ylabel(param_pair[1])\n"
   ]
  }
 ],
 "metadata": {
  "interpreter": {
   "hash": "7afc08b952f75bca94590012dd49682c815a0fa68720c270ce23d7ae27bf110a"
  },
  "kernelspec": {
   "display_name": "Python 3.10.3 ('autumn310')",
   "language": "python",
   "name": "python3"
  },
  "language_info": {
   "codemirror_mode": {
    "name": "ipython",
    "version": 3
   },
   "file_extension": ".py",
   "mimetype": "text/x-python",
   "name": "python",
   "nbconvert_exporter": "python",
   "pygments_lexer": "ipython3",
   "version": "3.10.3"
  }
 },
 "nbformat": 4,
 "nbformat_minor": 5
}
