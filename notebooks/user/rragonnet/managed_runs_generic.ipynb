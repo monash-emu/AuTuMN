{
 "cells": [
  {
   "cell_type": "code",
   "execution_count": null,
   "id": "casual-nightlife",
   "metadata": {},
   "outputs": [],
   "source": [
    "from matplotlib import pyplot as plt\n",
    "import os\n",
    "import warnings\n",
    "from math import ceil\n",
    "from summer.utils import ref_times_to_dti\n",
    "\n",
    "from autumn.core.project import get_project, load_timeseries\n",
    "from autumn.core.plots.utils import REF_DATE\n",
    "from autumn.core.runs.managed import ManagedRun\n",
    "from autumn.core.plots.calibration.plots import plot_prior, calculate_r_hats"
   ]
  },
  {
   "cell_type": "code",
   "execution_count": null,
   "id": "895d63ca",
   "metadata": {},
   "outputs": [],
   "source": [
    "warnings.filterwarnings(\"ignore\", category=DeprecationWarning) "
   ]
  },
  {
   "cell_type": "markdown",
   "id": "f1049ee1",
   "metadata": {},
   "source": [
    "## Specify the run id and the outputs to plot"
   ]
  },
  {
   "cell_type": "code",
   "execution_count": null,
   "id": "mental-queensland",
   "metadata": {},
   "outputs": [],
   "source": [
    "run_id = \"sm_covid2/france/1678316952/4a682e4\"\n",
    "BURN_IN = 10\n",
    "\n",
    "# Outputs requested for full run plots\n",
    "outputs_for_full_run_plots = (\n",
    "    \"infection_deaths\",\n",
    "    # \"transformed_random_process\",\n",
    "    # \"cumulative_infection_deaths\",\n",
    "    \"prop_ever_infected\"\n",
    ")\n",
    "\n",
    "# Outputs requested with uncertainty\n",
    "outputs_to_plot_with_uncertainty = (\n",
    "    \"infection_deaths\",\n",
    "    \"transformed_random_process\",\n",
    "    \"cumulative_infection_deaths\",\n",
    "    \"prop_ever_infected\"\n",
    ")\n",
    "scenarios_to_plot_with_uncertainty = [0, 1]"
   ]
  },
  {
   "cell_type": "code",
   "execution_count": null,
   "id": "56d950e6",
   "metadata": {},
   "outputs": [],
   "source": [
    "param_lookup = {\n",
    "    \"contact_rate\": \"infection risk per contact\",\n",
    "    \"testing_to_detection.assumed_cdr_parameter\": \"CDR at one test per 1,000 population per day\",\n",
    "    \"voc_emergence.omicron.new_voc_seed.start_time\": \"Omicron emergence date\",\n",
    "    \"voc_emergence.omicron.contact_rate_multiplier\": \"relative transmissibility Omicron\",\n",
    "    \"age_stratification.cfr.multiplier\": \"modification to fatality rate\",\n",
    "    \"age_stratification.prop_hospital.multiplier\": \"modification to hospitalisation rate\",\n",
    "}\n",
    "\n",
    "title_lookup = {\n",
    "    \"notifications\": \"daily notifications\",\n",
    "    \"infection_deaths\": \"COVID-19-specific deaths\",\n",
    "    \"hospital_admissions\": \"new daily hospital admissions\",\n",
    "    \"icu_admissions\": \"new daily admissions to ICU\",\n",
    "    \"proportion_seropositive\": \"proportion recovered from COVID-19\",\n",
    "    \"incidence\": \"daily new infections\",\n",
    "    \"prop_incidence_strain_delta\": \"proportion of cases due to Delta\",\n",
    "    \"hospital_admissions\": \"daily hospital admissions\",\n",
    "    \"hospital_occupancy\": \"total hospital beds\",\n",
    "    \"icu_admissions\": \"daily ICU admissions\",\n",
    "    \"icu_occupancy\": \"total ICU beds\",\n",
    "    \"prop_ever_infected\": \"ever infected with Delta or Omicron\",\n",
    "    \"cdr\": \"case detection rate\",\n",
    "}"
   ]
  },
  {
   "cell_type": "markdown",
   "id": "d568172f",
   "metadata": {},
   "source": [
    "## Load run outputs and pre-process data"
   ]
  },
  {
   "cell_type": "code",
   "execution_count": null,
   "id": "e54e2753",
   "metadata": {},
   "outputs": [],
   "source": [
    "model, region = run_id.split(\"/\")[0:2]\n",
    "mr = ManagedRun(run_id)\n",
    "full_run = mr.full_run.get_derived_outputs()\n",
    "pbi = mr.powerbi.get_db()\n",
    "targets = pbi.get_targets()\n",
    "results = pbi.get_uncertainty()\n",
    "mcmc_params = mr.calibration.get_mcmc_params()\n",
    "mcmc_runs = mr.calibration.get_mcmc_runs()"
   ]
  },
  {
   "cell_type": "code",
   "execution_count": null,
   "id": "a601c450",
   "metadata": {},
   "outputs": [],
   "source": [
    "project = get_project(model, region, reload=True)\n",
    "params_list = list(mcmc_params.columns)\n",
    "chains = mcmc_runs.chain.unique()\n",
    "mcmc_table = mcmc_params.merge(mcmc_runs, on=[\"urun\"])\n",
    "\n",
    "post_burnin_uruns = mcmc_runs[mcmc_runs[\"run\"] >= BURN_IN].index\n",
    "post_burnin_mcmc_table = mcmc_table.filter(items=post_burnin_uruns, axis=0)"
   ]
  },
  {
   "cell_type": "markdown",
   "id": "1503d60a",
   "metadata": {},
   "source": [
    "### Determine MLE and MAP run details"
   ]
  },
  {
   "cell_type": "code",
   "execution_count": null,
   "id": "8f75e5c9",
   "metadata": {},
   "outputs": [],
   "source": [
    "mle_urun = mcmc_runs[\"loglikelihood\"].idxmax()\n",
    "mle_chain, mle_irun = mle_urun.split(\"_\")\n",
    "mle_chain = mle_chain.lstrip(\"0\")\n",
    "mle_irun = mle_irun.lstrip(\"0\")\n",
    "print(f\"MLE found in chain {mle_chain} run {mle_irun}\")\n",
    "\n",
    "if mcmc_runs.loc[mle_urun][\"accept\"] == 1:\n",
    "    mle_params = mcmc_params.loc[mle_urun]\n",
    "    mle_accepted = True\n",
    "else:\n",
    "    print(\"MLE params were not accepted\")\n",
    "    mle_params = None\n",
    "    mle_accepted = False\n",
    "\n",
    "map_urun = mcmc_runs[\"ap_loglikelihood\"].idxmax()\n",
    "map_chain, map_irun = map_urun.split(\"_\")\n",
    "map_chain = map_chain.lstrip(\"0\")\n",
    "map_irun = map_irun.lstrip(\"0\")\n",
    "map_params = mcmc_params.loc[map_urun]\n",
    "print(f\"MAP found in chain {map_chain} run {map_irun}\")\n",
    "\n",
    "start_params = mcmc_params.loc[mcmc_runs[mcmc_runs[\"run\"] == 0].index]"
   ]
  },
  {
   "cell_type": "markdown",
   "id": "9af13b98",
   "metadata": {},
   "source": [
    "### Calculate R_hats"
   ]
  },
  {
   "cell_type": "code",
   "execution_count": null,
   "id": "b09e2ea7",
   "metadata": {},
   "outputs": [],
   "source": [
    "r_hats = calculate_r_hats([mcmc_params], [mcmc_runs], BURN_IN)\n",
    "r_hats"
   ]
  },
  {
   "cell_type": "markdown",
   "id": "a9cfe391",
   "metadata": {},
   "source": [
    "## Plot posteriors"
   ]
  },
  {
   "cell_type": "code",
   "execution_count": null,
   "id": "a90524ad",
   "metadata": {},
   "outputs": [],
   "source": [
    "plt.style.use(\"ggplot\")\n",
    "n_params = len(params_list)\n",
    "n_col = 3\n",
    "n_row = ceil(n_params / n_col)\n",
    "fig, axes = plt.subplots(n_row, n_col, figsize=(n_col * 5, n_row * 3.5))\n",
    "\n",
    "for i_ax, axis in enumerate(axes.reshape(-1)):\n",
    "    if i_ax >= n_params:\n",
    "        axis.set_visible(False)\n",
    "    else:\n",
    "        param = mcmc_params.columns[i_ax]\n",
    "\n",
    "        prior_dict = [d for d in project.calibration.all_priors if d['param_name'] == param][0]\n",
    "        if prior_dict['distri_params'] is not None:\n",
    "            plot_prior(0, prior_dict, ax=axis, print_distri=False, alpha=.5)\n",
    "\n",
    "        axis.hist(post_burnin_mcmc_table[param], weights=post_burnin_mcmc_table[\"weight\"], density=True, bins=15, color='coral', label=\"posterior\")\n",
    "\n",
    "        # Mark MLE and MAP values\n",
    "        if mle_accepted:\n",
    "            axis.scatter(mle_params[param], 0, color='black', marker=\"*\", label=\"MLE\", zorder=10, clip_on=False)\n",
    "        axis.scatter(map_params[param], 0, color='green', marker=\"*\", label=\"MAP\", zorder=9, clip_on=False)\n",
    "\n",
    "        # Mark MCMC starting points\n",
    "        axis.scatter(start_params[param], [0] * len(start_params[param]), color='blue', marker=2, label=\"seed\", zorder=10, clip_on=False)\n",
    "\n",
    "        par_name = param if param not in param_lookup else param_lookup[param]\n",
    "        axis.set_title(par_name)\n",
    "        axis.set_xlabel(par_name)        \n",
    "\n",
    "        if i_ax == 0:\n",
    "            axis.legend()\n",
    "\n",
    "fig.suptitle(\"parameter posterior histograms\", fontsize=15, y=1)\n",
    "fig.tight_layout()"
   ]
  },
  {
   "cell_type": "markdown",
   "id": "2d4ad3d8",
   "metadata": {},
   "source": [
    "## Plot traces"
   ]
  },
  {
   "cell_type": "code",
   "execution_count": null,
   "id": "e3258596",
   "metadata": {},
   "outputs": [],
   "source": [
    "n_col = 2\n",
    "n_row = ceil(n_params / n_col)\n",
    "fig, axes = plt.subplots(n_row, n_col, figsize=(8*n_col, 4*n_row))\n",
    "\n",
    "for i_ax, axis in enumerate(axes.reshape(-1)):\n",
    "    if i_ax >= n_params:\n",
    "        axis.set_visible(False)\n",
    "    else:\n",
    "        param = params_list[i_ax]    \n",
    "        for chain in chains:\n",
    "            chain_filter = mcmc_table[\"chain\"] == chain\n",
    "            axis.plot(mcmc_table[chain_filter]['run'], mcmc_table[chain_filter][param], lw=.5, label=chain)\n",
    "        par_name = param if param not in param_lookup else param_lookup[param]\n",
    "        axis.set_title(par_name)\n",
    "        if i_ax == 0:\n",
    "            leg = axis.legend(title=\"Chain:\")\n",
    "            # change the line width for the legend\n",
    "            for line in leg.get_lines():\n",
    "                line.set_linewidth(2)"
   ]
  },
  {
   "cell_type": "markdown",
   "id": "3075dd44",
   "metadata": {},
   "source": [
    "# Model outputs"
   ]
  },
  {
   "cell_type": "markdown",
   "id": "769197e2",
   "metadata": {},
   "source": [
    "### Get all targets, including those not used in calibration, to use as a validation"
   ]
  },
  {
   "cell_type": "code",
   "execution_count": null,
   "id": "4f068230",
   "metadata": {},
   "outputs": [],
   "source": [
    "calib_targets = project.calibration.targets"
   ]
  },
  {
   "cell_type": "code",
   "execution_count": null,
   "id": "6816a17d",
   "metadata": {},
   "outputs": [],
   "source": [
    "all_targets = {} \n",
    "for calib_target in calib_targets:    \n",
    "    all_targets[calib_target.data.name] =  calib_target.data    \n",
    "    all_targets[calib_target.data.name].index = ref_times_to_dti(REF_DATE, all_targets[calib_target.data.name].index)"
   ]
  },
  {
   "cell_type": "markdown",
   "id": "a8114c0c",
   "metadata": {},
   "source": [
    "### Calibration fits with individual model runs"
   ]
  },
  {
   "cell_type": "code",
   "execution_count": null,
   "id": "8a0b1405",
   "metadata": {},
   "outputs": [],
   "source": [
    "n_outputs = len(outputs_for_full_run_plots)\n",
    "n_col = 2\n",
    "n_row = ceil(n_outputs / n_col)\n",
    "fig, axes = plt.subplots(n_row, n_col, figsize=(n_col * 8, n_row * 6), sharex=\"all\")\n",
    "for i_ax, axis in enumerate(axes.reshape(-1)):\n",
    "    if i_ax >= n_outputs:\n",
    "            axis.set_visible(False)\n",
    "    else:\n",
    "        output = outputs_for_full_run_plots[i_ax]\n",
    "        scenario_chain = (full_run[\"scenario\"] == 0) & (full_run[\"chain\"] == 0)\n",
    "        for i_run in full_run[scenario_chain][\"run\"].unique():\n",
    "            selection = full_run[(full_run[\"run\"] == i_run) & scenario_chain]\n",
    "            axis.plot(ref_times_to_dti(REF_DATE, selection[\"times\"]), selection[output])\n",
    "        if output in all_targets and len(all_targets[output]) > 0:\n",
    "            axis.scatter(all_targets[output].index, all_targets[output], facecolors=\"black\", edgecolors=\"k\", s=15, zorder=10)\n",
    "        if output in targets:\n",
    "            axis.scatter(targets.index, targets[output], facecolors=\"r\", edgecolors=\"k\", s=15, zorder=10)\n",
    "        \n",
    "        if mle_accepted:\n",
    "            mle_selection = full_run[(full_run[\"run\"] == int(mle_irun)) & (full_run[\"scenario\"] == 0) & (full_run[\"chain\"] == int(mle_chain))]\n",
    "            axis.plot(ref_times_to_dti(REF_DATE, mle_selection[\"times\"]), mle_selection[output], \"--\", color=\"black\", zorder=15, label=\"MLE\", linewidth=2)\n",
    "\n",
    "        map_selection = full_run[(full_run[\"run\"] == int(map_irun)) & (full_run[\"scenario\"] == 0) & (full_run[\"chain\"] == int(map_chain))]\n",
    "        axis.plot(ref_times_to_dti(REF_DATE, map_selection[\"times\"]), map_selection[output], \"--\", color=\"blue\", zorder=15, label=\"MAP\", linewidth=2)\n",
    "        \n",
    "        axis.tick_params(axis=\"x\", labelrotation=45)\n",
    "        title = output if output not in title_lookup else title_lookup[output]\n",
    "        axis.set_title(title)\n",
    "\n",
    "        if i_ax == 0:\n",
    "            axis.legend()\n"
   ]
  },
  {
   "cell_type": "markdown",
   "id": "6d10013a",
   "metadata": {},
   "source": [
    "### Calibration fits with uncertainty"
   ]
  },
  {
   "cell_type": "code",
   "execution_count": null,
   "id": "8374d183",
   "metadata": {},
   "outputs": [],
   "source": [
    "colours = ((0.2, 0.2, 0.8), (0.8, 0.2, 0.2), (0.2, 0.8, 0.2), (0.8, 0.8, 0.2), (0.8, 0.2, 0.2), (0.2, 0.8, 0.2), (0.8, 0.8, 0.2))\n",
    "\n",
    "def plot_outputs_with_uncertainty(outputs, scenarios = [0]):\n",
    "    n_outputs = len(outputs)\n",
    "    n_col = 2\n",
    "    n_row = ceil(n_outputs / n_col)\n",
    "    fig, axes = plt.subplots(n_row, n_col, figsize=(n_col * 8, n_row * 6), sharex=\"all\")\n",
    "    for i_ax, axis in enumerate(axes.reshape(-1)):\n",
    "        if i_ax >= n_outputs:\n",
    "            axis.set_visible(False)\n",
    "        else:\n",
    "            output = outputs[i_ax]\n",
    "            for scenario in scenarios:\n",
    "                colour = colours[scenario]\n",
    "                results_df = results[(output, scenario)]\n",
    "                indices = results_df.index\n",
    "                interval_label = \"baseline\" if scenario == 0 else project.param_set.scenarios[scenario - 1][\"description\"]\n",
    "                scenario_zorder = 10 if scenario == 0 else scenario\n",
    "                axis.fill_between(\n",
    "                    indices, \n",
    "                    results_df[0.025], results_df[0.975], \n",
    "                    color=colour, \n",
    "                    alpha=0.5,\n",
    "                    label=\"_nolegend_\",\n",
    "                    zorder=scenario_zorder,\n",
    "                )\n",
    "                axis.fill_between(\n",
    "                    indices, \n",
    "                    results_df[0.25], results_df[0.75], \n",
    "                    color=colour, alpha=0.7, \n",
    "                    label=interval_label,\n",
    "                    zorder=scenario_zorder\n",
    "                )\n",
    "                axis.plot(indices, results_df[0.500], color=colour)\n",
    "                if output in all_targets and len(all_targets[output]) > 0:\n",
    "                    all_targets[output].plot.line(\n",
    "                        ax=axis, \n",
    "                        linewidth=0., \n",
    "                        markersize=8.,\n",
    "                        marker=\"o\",\n",
    "                        markerfacecolor=\"w\",\n",
    "                        markeredgecolor=\"w\",\n",
    "                        alpha=0.2,\n",
    "                        label=\"_nolegend_\",\n",
    "                        zorder=11,\n",
    "                    )\n",
    "                if output in targets:\n",
    "                    targets[output].plot.line(\n",
    "                        ax=axis, \n",
    "                        linewidth=0., \n",
    "                        markersize=5., \n",
    "                        marker=\"o\", \n",
    "                        markerfacecolor=\"k\",\n",
    "                        markeredgecolor=\"k\",\n",
    "                        label=\"_nolegend_\",\n",
    "                        zorder=12,\n",
    "                    )\n",
    "                axis.tick_params(axis=\"x\", labelrotation=45)\n",
    "                title = output if output not in title_lookup else title_lookup[output]\n",
    "                axis.set_title(title)\n",
    "            if i_ax == 0:\n",
    "                axis.legend()\n",
    "    fig.tight_layout()"
   ]
  },
  {
   "cell_type": "code",
   "execution_count": null,
   "id": "bdb00101",
   "metadata": {},
   "outputs": [],
   "source": [
    "plot_outputs_with_uncertainty(outputs_to_plot_with_uncertainty, scenarios_to_plot_with_uncertainty)"
   ]
  },
  {
   "cell_type": "code",
   "execution_count": null,
   "id": "b3d5b6e4",
   "metadata": {},
   "outputs": [],
   "source": []
  }
 ],
 "metadata": {
  "interpreter": {
   "hash": "7afc08b952f75bca94590012dd49682c815a0fa68720c270ce23d7ae27bf110a"
  },
  "kernelspec": {
   "display_name": "Python 3.10.3 ('autumn310')",
   "language": "python",
   "name": "python3"
  },
  "language_info": {
   "codemirror_mode": {
    "name": "ipython",
    "version": 3
   },
   "file_extension": ".py",
   "mimetype": "text/x-python",
   "name": "python",
   "nbconvert_exporter": "python",
   "pygments_lexer": "ipython3",
   "version": "3.10.3"
  }
 },
 "nbformat": 4,
 "nbformat_minor": 5
}
