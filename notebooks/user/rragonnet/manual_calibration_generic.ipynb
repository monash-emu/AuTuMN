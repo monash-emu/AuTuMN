{
 "cells": [
  {
   "cell_type": "code",
   "execution_count": null,
   "metadata": {},
   "outputs": [],
   "source": [
    "from matplotlib import pyplot\n",
    "from autumn.core.plots.utils import REF_DATE\n",
    "from summer.utils import ref_times_to_dti\n",
    "import pandas as pd\n",
    "import json\n",
    "from autumn.settings import PROJECTS_PATH\n",
    "import os\n",
    "\n",
    "from autumn.core.project import get_project, load_timeseries"
   ]
  },
  {
   "cell_type": "code",
   "execution_count": null,
   "metadata": {},
   "outputs": [],
   "source": [
    "project = get_project(\"sm_sir\", \"national-capital-region\")"
   ]
  },
  {
   "cell_type": "code",
   "execution_count": null,
   "metadata": {},
   "outputs": [],
   "source": [
    "update_params = {\n",
    "\n",
    "}\n",
    "params = project.param_set.baseline.update(update_params, calibration_format=True)\n"
   ]
  },
  {
   "cell_type": "code",
   "execution_count": null,
   "metadata": {},
   "outputs": [],
   "source": [
    "model = project.run_baseline_model(params)\n",
    "derived_df = model.get_derived_outputs_df()"
   ]
  },
  {
   "cell_type": "code",
   "execution_count": null,
   "metadata": {},
   "outputs": [],
   "source": [
    "\n",
    "\n",
    "derived_df.plot(y=[\"nboosted_agegroup_0\", \"nboosted_agegroup_70\"])"
   ]
  },
  {
   "cell_type": "code",
   "execution_count": null,
   "metadata": {},
   "outputs": [],
   "source": [
    "derived_df.plot.area(y=[\"prop_immune_low\", \"prop_immune_high\"])"
   ]
  },
  {
   "cell_type": "code",
   "execution_count": null,
   "metadata": {},
   "outputs": [],
   "source": [
    "outputs = [\"hospital_occupancy\", \"icu_occupancy\", \"notifications\", \"prop_ever_infected\"] #, \"hospital_admissions\", \"hospital_occupancy\", \"icu_admissions\", \"icu_occupancy\"]\n",
    "\n",
    "all_targets = load_timeseries(os.path.join(project.get_path(), \"timeseries.json\"))\n",
    "if project.region_name == \"national-capital-region\":\n",
    "    new_targets = load_timeseries(os.path.join(project.get_path(), \"new_targets.json\"))\n",
    "    all_targets.update(new_targets)\n",
    "\n",
    "for target in all_targets:\n",
    "    all_targets[target].index = ref_times_to_dti(REF_DATE, all_targets[target].index)  \n",
    "\n",
    "    \n",
    "for output in outputs:\n",
    "    fig = pyplot.figure(figsize=(12, 8))\n",
    "    pyplot.style.use(\"ggplot\")\n",
    "    axis = fig.add_subplot()\n",
    "\n",
    "    axis = derived_df[output].plot()\n",
    "    axis.set_title(output)\n",
    "    \n",
    "    if output in project.plots:\n",
    "        # all_targets[output].plot.line(ax=axis, linewidth=0., markersize=10., marker=\"o\")\n",
    "        axis.scatter(all_targets[output].index, all_targets[output], color=\"k\", s=5, alpha=0.5, zorder=10)         \n"
   ]
  },
  {
   "cell_type": "code",
   "execution_count": null,
   "metadata": {},
   "outputs": [],
   "source": []
  }
 ],
 "metadata": {
  "interpreter": {
   "hash": "7afc08b952f75bca94590012dd49682c815a0fa68720c270ce23d7ae27bf110a"
  },
  "kernelspec": {
   "display_name": "Python 3.10.3 ('autumn310')",
   "language": "python",
   "name": "python3"
  },
  "language_info": {
   "codemirror_mode": {
    "name": "ipython",
    "version": 3
   },
   "file_extension": ".py",
   "mimetype": "text/x-python",
   "name": "python",
   "nbconvert_exporter": "python",
   "pygments_lexer": "ipython3",
   "version": "3.10.3"
  }
 },
 "nbformat": 4,
 "nbformat_minor": 2
}
