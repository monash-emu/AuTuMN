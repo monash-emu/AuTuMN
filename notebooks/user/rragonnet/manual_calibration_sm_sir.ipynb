{
 "cells": [
  {
   "cell_type": "code",
   "execution_count": null,
   "metadata": {},
   "outputs": [],
   "source": [
    "from autumn.tools.project import get_project\n",
    "from matplotlib import pyplot\n",
    "from autumn.tools.plots.utils import REF_DATE\n",
    "# from autumn.calibration.targets import get_target_series\n",
    "import pandas as pd\n",
    "import json\n",
    "from autumn.tools.utils.display import pretty_print\n",
    "from autumn.settings import PROJECTS_PATH\n",
    "import os\n",
    "from autumn.tools.plots.uncertainty.plots import _get_target_values, _plot_targets_to_axis"
   ]
  },
  {
   "cell_type": "code",
   "execution_count": null,
   "metadata": {},
   "outputs": [],
   "source": [
    "project = get_project(\"sm_sir\", \"national-capital-region\")"
   ]
  },
  {
   "cell_type": "code",
   "execution_count": null,
   "metadata": {},
   "outputs": [],
   "source": [
    "update_params = {\n",
    "    'booster_effect_duration': 90.\n",
    "}\n",
    "params = project.param_set.baseline.update(update_params, calibration_format=True)\n"
   ]
  },
  {
   "cell_type": "code",
   "execution_count": null,
   "metadata": {},
   "outputs": [],
   "source": [
    "model = project.run_baseline_model(params)\n",
    "derived_df = model.get_derived_outputs_df()"
   ]
  },
  {
   "cell_type": "code",
   "execution_count": null,
   "metadata": {},
   "outputs": [],
   "source": [
    "derived_df.plot.area(y=[\"prop_immune_low\", \"prop_immune_high\"])"
   ]
  },
  {
   "cell_type": "code",
   "execution_count": null,
   "metadata": {},
   "outputs": [],
   "source": [
    "outputs = [\"hospital_occupancy\", \"icu_occupancy\", \"notifications\", \"prop_ever_infected\"] #, \"hospital_admissions\", \"hospital_occupancy\", \"icu_admissions\", \"icu_occupancy\"]\n",
    "\n",
    "if project.region_name == \"national-capital-region\":\n",
    "    new_targets_path = os.path.join(PROJECTS_PATH, \"sm_sir\", \"philippines\", project.region_name, \"new_targets.json\")\n",
    "    f = open(new_targets_path)\n",
    "    new_targets = json.load(f)\n",
    "    \n",
    "for output in outputs:\n",
    "    fig = pyplot.figure(figsize=(12, 8))\n",
    "    pyplot.style.use(\"ggplot\")\n",
    "    axis = fig.add_subplot()\n",
    "\n",
    "    axis = derived_df[output].plot()\n",
    "    axis.set_title(output)\n",
    "    \n",
    "    if output in project.plots:\n",
    "        if output.endswith(\"_occupancy\") and project.region_name == \"national-capital-region\":\n",
    "            values, times = new_targets[output][\"values\"], new_targets[output][\"times\"] \n",
    "        else:\n",
    "            values, times = _get_target_values(project.plots, output)        \n",
    "        \n",
    "        date_times = pd.to_datetime(times, origin=\"01Jan2020\",unit=\"D\") \n",
    "        _plot_targets_to_axis(axis, values, date_times, on_uncertainty_plot=True)\n",
    "         \n"
   ]
  },
  {
   "cell_type": "code",
   "execution_count": null,
   "metadata": {},
   "outputs": [],
   "source": []
  }
 ],
 "metadata": {
  "kernelspec": {
   "display_name": "Python 3 (ipykernel)",
   "language": "python",
   "name": "python3"
  },
  "language_info": {
   "codemirror_mode": {
    "name": "ipython",
    "version": 3
   },
   "file_extension": ".py",
   "mimetype": "text/x-python",
   "name": "python",
   "nbconvert_exporter": "python",
   "pygments_lexer": "ipython3",
   "version": "3.10.3"
  }
 },
 "nbformat": 4,
 "nbformat_minor": 2
}
