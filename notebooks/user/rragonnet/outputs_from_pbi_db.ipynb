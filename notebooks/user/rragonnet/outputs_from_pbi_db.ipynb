{
 "cells": [
  {
   "cell_type": "code",
   "execution_count": null,
   "metadata": {},
   "outputs": [],
   "source": [
    "# Import packages\n",
    "import os\n",
    "from matplotlib import pyplot as plt\n",
    "\n",
    "# Import AuTuMN modules\n",
    "from autumn.settings import Models, Region\n",
    "from autumn.settings.folders import OUTPUT_DATA_PATH\n",
    "from autumn.tools.project import get_project\n",
    "from autumn.tools import db\n",
    "from autumn.tools.plots.calibration.plots import calculate_r_hats, get_output_from_run_id\n",
    "from autumn.tools.plots.uncertainty.plots import _plot_uncertainty\n",
    "from autumn.tools.plots.plotter.base_plotter import COLOR_THEME\n",
    "from autumn.tools.plots.utils import get_plot_text_dict, change_xaxis_to_date, REF_DATE, ALPHAS, COLORS, _apply_transparency\n",
    "from autumn.dashboards.calibration_results.plots import get_uncertainty_df\n"
   ]
  },
  {
   "cell_type": "code",
   "execution_count": null,
   "metadata": {},
   "outputs": [],
   "source": [
    "# Specify model details\n",
    "model = Models.COVID_19\n",
    "region = Region.MANILA\n",
    "dirname = \"2021-08-11\""
   ]
  },
  {
   "cell_type": "code",
   "execution_count": null,
   "metadata": {},
   "outputs": [],
   "source": [
    "# get the relevant project and output data\n",
    "project = get_project(model, region)\n",
    "project_calib_dir = os.path.join(\n",
    "    OUTPUT_DATA_PATH, \"calibrate\", project.model_name, project.region_name\n",
    ")\n",
    "calib_path = os.path.join(project_calib_dir, dirname)\n",
    "# Load tables\n",
    "mcmc_tables = db.load.load_mcmc_tables(calib_path)\n",
    "mcmc_params = db.load.load_mcmc_params_tables(calib_path)\n",
    "\n",
    "uncertainty_df = get_uncertainty_df(calib_path, mcmc_tables, project.plots)"
   ]
  },
  {
   "cell_type": "code",
   "execution_count": null,
   "metadata": {},
   "outputs": [],
   "source": [
    "# get R_hat diagnostics\n",
    "r_hats = calculate_r_hats(mcmc_params, mcmc_tables, burn_in=0)\n",
    "for key, value in r_hats.items():\n",
    "    print(f\"{key}: {value}\")"
   ]
  },
  {
   "cell_type": "code",
   "execution_count": null,
   "metadata": {},
   "outputs": [],
   "source": [
    "# Plot outputs\n",
    "output_type = \"uncertainty\"  # one of [\"MLE\", \"median\", \"uncertainty\"]\n",
    "\n",
    "output_name = \"notifications\"\n",
    "scenario_list = [0, 1, 2, 3]\n",
    "x_min, x_max = 580, 720\n",
    "title = get_plot_text_dict(output_name)\n",
    "title_fontsize = 18\n",
    "label_font_size = 15\n",
    "linewidth = 3\n",
    "\n",
    "# initialise figure\n",
    "fig = plt.figure(figsize=(12, 8))\n",
    "plt.style.use(\"ggplot\")\n",
    "axis = fig.add_subplot()\n",
    "\n",
    "# prepare colors for ucnertainty\n",
    "n_scenarios_to_plot = len(scenario_list)\n",
    "uncertainty_colors = _apply_transparency(COLORS[:n_scenarios_to_plot], ALPHAS[:n_scenarios_to_plot])\n",
    "\n",
    "if output_type == \"MLE\":\n",
    "    derived_output_tables = db.load.load_derived_output_tables(calib_path, column=output_name)\n",
    "for i, scenario in enumerate(scenario_list):    \n",
    "    if output_type in [\"MLE\", \"median\"]:\n",
    "        linestyle = 'dotted' if scenario == 0 else 'solid'\n",
    "    \n",
    "    if output_type == \"MLE\":\n",
    "        times, values = get_output_from_run_id(output_name, mcmc_tables, derived_output_tables, \"MLE\", scenario)\n",
    "        axis.plot(times, values, color=COLOR_THEME[scenario], linestyle=linestyle, linewidth=linewidth)\n",
    "    elif output_type == \"median\":\n",
    "        _plot_uncertainty(\n",
    "            axis,\n",
    "            uncertainty_df,\n",
    "            output_name,\n",
    "            scenario,\n",
    "            x_max,\n",
    "            x_min,\n",
    "            [_, _, _, COLOR_THEME[scenario]],\n",
    "            overlay_uncertainty=False,\n",
    "            start_quantile=0,\n",
    "            zorder=scenario + 1,\n",
    "         )\n",
    "    elif output_type == \"uncertainty\":\n",
    "        scenario_colors = uncertainty_colors[i]         \n",
    "        _plot_uncertainty(\n",
    "            axis,\n",
    "            uncertainty_df,\n",
    "            output_name,\n",
    "            scenario,\n",
    "            x_max,\n",
    "            x_min,\n",
    "            scenario_colors,\n",
    "            overlay_uncertainty=True,\n",
    "            start_quantile=0,\n",
    "            zorder=scenario + 1,\n",
    "         )\n",
    "    else:\n",
    "        print(\"Please use supported output_type option\")\n",
    "\n",
    "    \n",
    "axis.set_xlim((x_min, x_max))\n",
    "axis.set_title(title, fontsize=title_fontsize)\n",
    "plt.setp(axis.get_yticklabels(), fontsize=label_font_size)\n",
    "plt.setp(axis.get_xticklabels(), fontsize=label_font_size)\n",
    "change_xaxis_to_date(axis, REF_DATE)"
   ]
  },
  {
   "cell_type": "code",
   "execution_count": null,
   "metadata": {},
   "outputs": [],
   "source": []
  }
 ],
 "metadata": {
  "kernelspec": {
   "display_name": "Python 3",
   "language": "python",
   "name": "python3"
  },
  "language_info": {
   "codemirror_mode": {
    "name": "ipython",
    "version": 3
   },
   "file_extension": ".py",
   "mimetype": "text/x-python",
   "name": "python",
   "nbconvert_exporter": "python",
   "pygments_lexer": "ipython3",
   "version": "3.6.8"
  }
 },
 "nbformat": 4,
 "nbformat_minor": 1
}
