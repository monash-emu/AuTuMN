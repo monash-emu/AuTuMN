{
 "cells": [
  {
   "cell_type": "code",
   "execution_count": null,
   "metadata": {},
   "outputs": [],
   "source": [
    "from matplotlib import pyplot as plt\n",
    "import os\n",
    "from copy import copy\n",
    "import numpy as np\n",
    "import pandas as pd\n",
    "from datetime import timedelta\n",
    "\n",
    "from autumn.core.runs.managed import ManagedRun\n",
    "from autumn.core.project import get_project"
   ]
  },
  {
   "cell_type": "markdown",
   "metadata": {},
   "source": [
    "### Select the run of interest and some plotting options"
   ]
  },
  {
   "cell_type": "code",
   "execution_count": null,
   "metadata": {},
   "outputs": [],
   "source": [
    "run_id = \"sm_sir/western-visayas/1664191631/86e9fe6\"\n",
    "\n",
    "colours = [\"cornflowerblue\", \"darkorange\", \"mediumseagreen\", \"pink\", \"purple\"]\n",
    "xmin, xmax = pd.to_datetime(\"2021-11-01\"), pd.to_datetime(\"2023-07-01\")"
   ]
  },
  {
   "cell_type": "markdown",
   "metadata": {},
   "source": [
    "### Load project and derived outputs"
   ]
  },
  {
   "cell_type": "code",
   "execution_count": null,
   "metadata": {},
   "outputs": [],
   "source": [
    "model, region = run_id.split(\"/\")[0:2]\n",
    "project = get_project(model, region, reload=True)\n",
    "age_groups = project.param_set.baseline['age_groups']\n",
    "mr = ManagedRun(run_id)\n",
    "pbi = mr.powerbi.get_db()\n",
    "derived_outputs = pbi.get_derived_outputs()\n",
    "scenarios = pbi.scenarios.index.to_list()"
   ]
  },
  {
   "cell_type": "markdown",
   "metadata": {},
   "source": [
    "### Create output directory"
   ]
  },
  {
   "cell_type": "code",
   "execution_count": null,
   "metadata": {},
   "outputs": [],
   "source": [
    "base_dir = os.path.join(\"outputs\", run_id.replace(\"/\", \"#\"), \"incidence_by_age\")\n",
    "os.makedirs(base_dir, exist_ok=True)"
   ]
  },
  {
   "cell_type": "markdown",
   "metadata": {},
   "source": [
    "### Create plotting function"
   ]
  },
  {
   "cell_type": "code",
   "execution_count": null,
   "metadata": {},
   "outputs": [],
   "source": [
    "def plot_incidence_by_age(ax, scenario, as_proportion: bool):\n",
    "    y_label = \"COVID-19 incidence proportion\" if as_proportion else \"COVID-19 incidence\"    \n",
    "\n",
    "    times = derived_outputs[\"incidence\", scenario].index.to_list()\n",
    "    running_total = [0] * len(derived_outputs[\"incidence\", scenario])\n",
    "\n",
    "    for i_age, age_group in enumerate(age_groups):\n",
    "        output_name = f\"incidenceXagegroup_{age_group}\"\n",
    "    \n",
    "        if i_age < len(age_groups) - 1:\n",
    "            upper_age = age_groups[i_age + 1] - 1 if i_age < len(age_groups) - 1 else \"\"\n",
    "            age_group_name = f\"{age_group}-{upper_age}\"\n",
    "        else:\n",
    "            age_group_name = f\"{age_group}+\"\n",
    "\n",
    "        age_group_incidence = derived_outputs[output_name, scenario]\n",
    "        \n",
    "        if as_proportion:\n",
    "            numerator, denominator = age_group_incidence, derived_outputs[\"incidence\", scenario]\n",
    "            age_group_proportion = np.divide(numerator, denominator, out=np.zeros_like(numerator), where=denominator!=0)\n",
    "            new_running_total = age_group_proportion + running_total\n",
    "        else: \n",
    "            new_running_total = age_group_incidence + running_total \n",
    "\n",
    "        ax.fill_between(times, running_total, new_running_total, color=colours[i_age], label=age_group_name)\n",
    "        running_total = copy(new_running_total)\n",
    "\n",
    "    # add dashed line to indicate school reopening for NCR\n",
    "    if region == \"national-capital-region\":\n",
    "        reopening_date = pd.to_datetime(\"2022-08-22\")\n",
    "        ymax = ax.get_ylim()[1]\n",
    "        ax.vlines(x=reopening_date, ymin=0., ymax=ymax, color=\"black\", dashes=\"--\", linewidth=1)\n",
    "        if not as_proportion:\n",
    "            ax.text(x=reopening_date + timedelta(days=5), y=ymax, s=\"school reopening\", fontsize=12)\n",
    "\n",
    "    ax.set_xlim((xmin, xmax))\n",
    "    ax.set_ylabel(y_label)\n",
    "\n",
    "    if not as_proportion:\n",
    "        handles, labels = ax.get_legend_handles_labels()\n",
    "        ax.legend(\n",
    "            reversed(handles),\n",
    "            reversed(labels),\n",
    "            title=\"Age:\",\n",
    "            fontsize=12,\n",
    "            title_fontsize=12,\n",
    "            labelspacing=.5,\n",
    "            facecolor=\"white\"\n",
    "        )"
   ]
  },
  {
   "cell_type": "markdown",
   "metadata": {},
   "source": [
    "### Generate the figures"
   ]
  },
  {
   "cell_type": "code",
   "execution_count": null,
   "metadata": {},
   "outputs": [],
   "source": [
    "plt.style.use(\"ggplot\")\n",
    "for scenario in scenarios:    \n",
    "    fig, axes = plt.subplots(2, 1, figsize=(15, 10), gridspec_kw={'height_ratios': [1.8, 1]})\n",
    "    for i, as_proportion in enumerate([False, True]):\n",
    "        plot_incidence_by_age(axes[i], scenario, as_proportion)\n",
    "\n",
    "    fig.suptitle(f\"COVID-19 incidence by age for Scenario {scenario}\", fontsize=15)\n",
    "    fig.subplots_adjust(top=.92)\n",
    "\n",
    "    plt.tight_layout()\n",
    "    path = os.path.join(base_dir, f\"incidence_by_age_scenario_{scenario}.png\")\n",
    "    plt.savefig(path, dpi=300, facecolor=\"white\")"
   ]
  },
  {
   "cell_type": "code",
   "execution_count": null,
   "metadata": {},
   "outputs": [],
   "source": []
  }
 ],
 "metadata": {
  "kernelspec": {
   "display_name": "Python 3.10.3 ('autumn310')",
   "language": "python",
   "name": "python3"
  },
  "language_info": {
   "codemirror_mode": {
    "name": "ipython",
    "version": 3
   },
   "file_extension": ".py",
   "mimetype": "text/x-python",
   "name": "python",
   "nbconvert_exporter": "python",
   "pygments_lexer": "ipython3",
   "version": "3.10.3"
  },
  "vscode": {
   "interpreter": {
    "hash": "7afc08b952f75bca94590012dd49682c815a0fa68720c270ce23d7ae27bf110a"
   }
  }
 },
 "nbformat": 4,
 "nbformat_minor": 2
}
