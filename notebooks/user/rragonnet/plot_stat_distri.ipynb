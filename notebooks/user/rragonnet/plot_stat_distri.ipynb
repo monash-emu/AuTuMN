{
 "cells": [
  {
   "cell_type": "code",
   "execution_count": null,
   "metadata": {},
   "outputs": [],
   "source": [
    "from scipy import stats\n",
    "from numpy import linspace\n",
    "import matplotlib.pyplot as plt"
   ]
  },
  {
   "cell_type": "code",
   "execution_count": null,
   "metadata": {},
   "outputs": [],
   "source": [
    "distri = stats.norm(loc=0, scale=27)\n",
    "\n",
    "x_min, x_max = distri.ppf(.01), distri.ppf(.99)"
   ]
  },
  {
   "cell_type": "code",
   "execution_count": null,
   "metadata": {},
   "outputs": [],
   "source": [
    "x = linspace(x_min, x_max, 1000)\n",
    "fig, ax = plt.subplots(1, 1)\n",
    "ax.plot(x, distri.pdf(x),\n",
    "       'b-', lw=2, alpha=0.6)\n",
    "\n",
    "ax.fill_between(x, distri.pdf(x),\n",
    "       alpha=0.4)"
   ]
  }
 ],
 "metadata": {
  "interpreter": {
   "hash": "7afc08b952f75bca94590012dd49682c815a0fa68720c270ce23d7ae27bf110a"
  },
  "kernelspec": {
   "display_name": "Python 3.10.3 ('autumn310')",
   "language": "python",
   "name": "python3"
  },
  "language_info": {
   "codemirror_mode": {
    "name": "ipython",
    "version": 3
   },
   "file_extension": ".py",
   "mimetype": "text/x-python",
   "name": "python",
   "nbconvert_exporter": "python",
   "pygments_lexer": "ipython3",
   "version": "3.10.3"
  }
 },
 "nbformat": 4,
 "nbformat_minor": 2
}
