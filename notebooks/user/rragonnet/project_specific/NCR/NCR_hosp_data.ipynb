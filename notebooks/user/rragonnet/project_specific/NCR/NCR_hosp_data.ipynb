{
 "cells": [
  {
   "cell_type": "markdown",
   "metadata": {},
   "source": [
    "### Use this notebook to create the file \"new_targets.json\" based on hospital data sent by Jeffrey"
   ]
  },
  {
   "cell_type": "code",
   "execution_count": 3,
   "metadata": {},
   "outputs": [],
   "source": [
    "import pandas as pd\n",
    "import json\n",
    "\n",
    "from autumn.settings.constants import COVID_BASE_DATETIME"
   ]
  },
  {
   "cell_type": "code",
   "execution_count": 4,
   "metadata": {},
   "outputs": [],
   "source": [
    "data_df = pd.read_excel('hospital_data.xlsx')\n",
    "region = \"NATIONAL CAPITAL REGION (NCR)\"\n",
    "data_df = data_df[data_df.Regname == region]"
   ]
  },
  {
   "cell_type": "code",
   "execution_count": 5,
   "metadata": {},
   "outputs": [],
   "source": [
    "\n",
    "times = data_df.Date\n",
    "icu_occupancy = data_df.IcuO\n",
    "hospital_occupancy = data_df.IcuO + data_df.BedsWardO\n",
    "hospital_occupancy = hospital_occupancy[data_df.Date < \"2Mar2022\"]\n",
    "hospital_occupancy_times = times[times < \"2Mar2022\"]"
   ]
  },
  {
   "cell_type": "code",
   "execution_count": 7,
   "metadata": {},
   "outputs": [
    {
     "name": "stdout",
     "output_type": "stream",
     "text": [
      "hospital_occupancy\n",
      "681 681\n",
      "icu_occupancy\n",
      "791 791\n"
     ]
    }
   ],
   "source": [
    "\n",
    "\n",
    "def get_times_list(times_series):\n",
    "    return [float(t.days) for t in (times_series - COVID_BASE_DATETIME)]\n",
    "\n",
    "targets_dict = {\n",
    "    \"hospital_occupancy\": {\n",
    "        \"title\": \"Hospital occupancy\",\n",
    "        \"output_key\": \"hospital_occupancy\",\n",
    "        \"times\": get_times_list(hospital_occupancy_times),\n",
    "        \"values\": list(hospital_occupancy.astype(float))\n",
    "    },\n",
    "    \"icu_occupancy\": {\n",
    "        \"title\": \"ICU occupancy\",\n",
    "        \"output_key\": \"icu_occupancy\",\n",
    "        \"times\": get_times_list(times),\n",
    "        \"values\": list(icu_occupancy.astype(float))\n",
    "    }\n",
    "}\n",
    "for k, v in targets_dict.items():\n",
    "    print(k)\n",
    "    print(len(v[\"times\"]),len(v[\"values\"]))\n",
    "    assert(len(v[\"times\"]) == len(v[\"values\"]))\n",
    "\n",
    "\n",
    "json.dump(targets_dict, open(\"new_targets.json\", 'w'), indent=2)\n"
   ]
  },
  {
   "cell_type": "code",
   "execution_count": null,
   "metadata": {},
   "outputs": [],
   "source": []
  }
 ],
 "metadata": {
  "kernelspec": {
   "display_name": "Python 3.10.3 ('autumn310')",
   "language": "python",
   "name": "python3"
  },
  "language_info": {
   "codemirror_mode": {
    "name": "ipython",
    "version": 3
   },
   "file_extension": ".py",
   "mimetype": "text/x-python",
   "name": "python",
   "nbconvert_exporter": "python",
   "pygments_lexer": "ipython3",
   "version": "3.10.3"
  },
  "orig_nbformat": 4,
  "vscode": {
   "interpreter": {
    "hash": "7afc08b952f75bca94590012dd49682c815a0fa68720c270ce23d7ae27bf110a"
   }
  }
 },
 "nbformat": 4,
 "nbformat_minor": 2
}
