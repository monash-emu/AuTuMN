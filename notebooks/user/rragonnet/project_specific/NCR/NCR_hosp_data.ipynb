{
 "cells": [
  {
   "cell_type": "markdown",
   "metadata": {},
   "source": [
    "### Use this notebook to create the file \"new_targets.json\" based on hospital data sent by Jeffrey"
   ]
  },
  {
   "cell_type": "code",
   "execution_count": 35,
   "metadata": {},
   "outputs": [],
   "source": [
    "import pandas as pd\n",
    "import json\n",
    "from datetime import datetime\n",
    "from autumn.settings.constants import COVID_BASE_DATETIME\n",
    "\n",
    "from autumn.settings.folders import PROJECTS_PATH\n"
   ]
  },
  {
   "cell_type": "code",
   "execution_count": 38,
   "metadata": {},
   "outputs": [],
   "source": [
    "region = 'west'"
   ]
  },
  {
   "cell_type": "code",
   "execution_count": 39,
   "metadata": {},
   "outputs": [],
   "source": [
    "data_df = pd.read_csv(f'hosp_{region}.csv')\n"
   ]
  },
  {
   "cell_type": "code",
   "execution_count": 40,
   "metadata": {},
   "outputs": [
    {
     "data": {
      "text/html": [
       "<div>\n",
       "<style scoped>\n",
       "    .dataframe tbody tr th:only-of-type {\n",
       "        vertical-align: middle;\n",
       "    }\n",
       "\n",
       "    .dataframe tbody tr th {\n",
       "        vertical-align: top;\n",
       "    }\n",
       "\n",
       "    .dataframe thead th {\n",
       "        text-align: right;\n",
       "    }\n",
       "</style>\n",
       "<table border=\"1\" class=\"dataframe\">\n",
       "  <thead>\n",
       "    <tr style=\"text-align: right;\">\n",
       "      <th></th>\n",
       "      <th>Day of Reportdate</th>\n",
       "      <th>Icu Occupied</th>\n",
       "      <th>Total COVID beds occupied</th>\n",
       "      <th>date</th>\n",
       "      <th>date_int</th>\n",
       "    </tr>\n",
       "  </thead>\n",
       "  <tbody>\n",
       "    <tr>\n",
       "      <th>0</th>\n",
       "      <td>2020-12-10</td>\n",
       "      <td>17</td>\n",
       "      <td>350</td>\n",
       "      <td>2020-12-10</td>\n",
       "      <td>345</td>\n",
       "    </tr>\n",
       "    <tr>\n",
       "      <th>1</th>\n",
       "      <td>2020-12-11</td>\n",
       "      <td>18</td>\n",
       "      <td>340</td>\n",
       "      <td>2020-12-11</td>\n",
       "      <td>346</td>\n",
       "    </tr>\n",
       "    <tr>\n",
       "      <th>2</th>\n",
       "      <td>2020-12-12</td>\n",
       "      <td>15</td>\n",
       "      <td>309</td>\n",
       "      <td>2020-12-12</td>\n",
       "      <td>347</td>\n",
       "    </tr>\n",
       "    <tr>\n",
       "      <th>3</th>\n",
       "      <td>2020-12-13</td>\n",
       "      <td>24</td>\n",
       "      <td>348</td>\n",
       "      <td>2020-12-13</td>\n",
       "      <td>348</td>\n",
       "    </tr>\n",
       "    <tr>\n",
       "      <th>4</th>\n",
       "      <td>2020-12-14</td>\n",
       "      <td>11</td>\n",
       "      <td>347</td>\n",
       "      <td>2020-12-14</td>\n",
       "      <td>349</td>\n",
       "    </tr>\n",
       "    <tr>\n",
       "      <th>...</th>\n",
       "      <td>...</td>\n",
       "      <td>...</td>\n",
       "      <td>...</td>\n",
       "      <td>...</td>\n",
       "      <td>...</td>\n",
       "    </tr>\n",
       "    <tr>\n",
       "      <th>643</th>\n",
       "      <td>2022-09-14</td>\n",
       "      <td>28</td>\n",
       "      <td>810</td>\n",
       "      <td>2022-09-14</td>\n",
       "      <td>988</td>\n",
       "    </tr>\n",
       "    <tr>\n",
       "      <th>644</th>\n",
       "      <td>2022-09-15</td>\n",
       "      <td>30</td>\n",
       "      <td>765</td>\n",
       "      <td>2022-09-15</td>\n",
       "      <td>989</td>\n",
       "    </tr>\n",
       "    <tr>\n",
       "      <th>645</th>\n",
       "      <td>2022-09-16</td>\n",
       "      <td>32</td>\n",
       "      <td>825</td>\n",
       "      <td>2022-09-16</td>\n",
       "      <td>990</td>\n",
       "    </tr>\n",
       "    <tr>\n",
       "      <th>646</th>\n",
       "      <td>2022-09-17</td>\n",
       "      <td>24</td>\n",
       "      <td>795</td>\n",
       "      <td>2022-09-17</td>\n",
       "      <td>991</td>\n",
       "    </tr>\n",
       "    <tr>\n",
       "      <th>647</th>\n",
       "      <td>2022-09-18</td>\n",
       "      <td>23</td>\n",
       "      <td>794</td>\n",
       "      <td>2022-09-18</td>\n",
       "      <td>992</td>\n",
       "    </tr>\n",
       "  </tbody>\n",
       "</table>\n",
       "<p>648 rows × 5 columns</p>\n",
       "</div>"
      ],
      "text/plain": [
       "    Day of Reportdate  Icu Occupied  Total COVID beds occupied       date  \\\n",
       "0          2020-12-10            17                        350 2020-12-10   \n",
       "1          2020-12-11            18                        340 2020-12-11   \n",
       "2          2020-12-12            15                        309 2020-12-12   \n",
       "3          2020-12-13            24                        348 2020-12-13   \n",
       "4          2020-12-14            11                        347 2020-12-14   \n",
       "..                ...           ...                        ...        ...   \n",
       "643        2022-09-14            28                        810 2022-09-14   \n",
       "644        2022-09-15            30                        765 2022-09-15   \n",
       "645        2022-09-16            32                        825 2022-09-16   \n",
       "646        2022-09-17            24                        795 2022-09-17   \n",
       "647        2022-09-18            23                        794 2022-09-18   \n",
       "\n",
       "     date_int  \n",
       "0         345  \n",
       "1         346  \n",
       "2         347  \n",
       "3         348  \n",
       "4         349  \n",
       "..        ...  \n",
       "643       988  \n",
       "644       989  \n",
       "645       990  \n",
       "646       991  \n",
       "647       992  \n",
       "\n",
       "[648 rows x 5 columns]"
      ]
     },
     "execution_count": 40,
     "metadata": {},
     "output_type": "execute_result"
    }
   ],
   "source": [
    "hosp_data = data_df[['Day of Reportdate', 'Icu Occupied', 'Total COVID beds occupied']].dropna()\n",
    "hosp_data['date'] = pd.to_datetime(hosp_data['Day of Reportdate'], format=\"%Y-%m-%d\")\n",
    "hosp_data['date_int'] = (hosp_data['date'] - COVID_BASE_DATETIME).dt.days\n",
    "hosp_data"
   ]
  },
  {
   "cell_type": "code",
   "execution_count": 41,
   "metadata": {},
   "outputs": [],
   "source": [
    "target_path = os.path.join(PROJECTS_PATH, 'sm_sir', 'philippines', 'western-visayas', 'timeseries.json')"
   ]
  },
  {
   "cell_type": "code",
   "execution_count": 42,
   "metadata": {},
   "outputs": [],
   "source": [
    "with open(target_path, mode=\"r\") as f:\n",
    "    targets = json.load(f)\n",
    "\n",
    "    targets[\"hospital_occupancy\"][\"times\"] = list(hosp_data[\"date_int\"])\n",
    "    targets[\"hospital_occupancy\"][\"values\"] = list(hosp_data[\"Total COVID beds occupied\"])\n",
    "    \n",
    "    targets[\"icu_occupancy\"][\"times\"] = list(hosp_data[\"date_int\"])\n",
    "    targets[\"icu_occupancy\"][\"values\"] = list(hosp_data[\"Icu Occupied\"])\n",
    "\n",
    "with open(target_path, \"w\") as f:\n",
    "    json.dump(targets, f, indent=2)"
   ]
  },
  {
   "cell_type": "code",
   "execution_count": null,
   "metadata": {},
   "outputs": [],
   "source": []
  }
 ],
 "metadata": {
  "kernelspec": {
   "display_name": "Python 3.10.3 ('autumn310')",
   "language": "python",
   "name": "python3"
  },
  "language_info": {
   "codemirror_mode": {
    "name": "ipython",
    "version": 3
   },
   "file_extension": ".py",
   "mimetype": "text/x-python",
   "name": "python",
   "nbconvert_exporter": "python",
   "pygments_lexer": "ipython3",
   "version": "3.10.3"
  },
  "vscode": {
   "interpreter": {
    "hash": "7afc08b952f75bca94590012dd49682c815a0fa68720c270ce23d7ae27bf110a"
   }
  }
 },
 "nbformat": 4,
 "nbformat_minor": 2
}
