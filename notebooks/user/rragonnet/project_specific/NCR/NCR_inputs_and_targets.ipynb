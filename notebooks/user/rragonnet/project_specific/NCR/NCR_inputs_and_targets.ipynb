{
 "cells": [
  {
   "cell_type": "code",
   "execution_count": null,
   "metadata": {},
   "outputs": [],
   "source": [
    "import matplotlib.pyplot as plt\n",
    "import matplotlib.cm as cm\n",
    "from datetime import date\n",
    "import numpy as np\n",
    "import os\n",
    "import pandas as pd\n",
    "\n",
    "from summer.utils import ref_times_to_dti\n",
    "\n",
    "from autumn.core.inputs.mobility.queries import get_mobility_data\n",
    "from autumn.core.inputs.demography.queries import get_population_by_agegroup\n",
    "from autumn.core.inputs.database import get_input_db\n",
    "from autumn.core.inputs.social_mixing.build_synthetic_matrices import build_synthetic_matrices, load_socialmixr_matrices\n",
    "from autumn.core.inputs.testing.testing_data import get_testing_numbers_for_region\n",
    "\n",
    "from autumn.core.utils.utils import apply_moving_average\n",
    "from autumn.core.project import get_project, load_timeseries\n",
    "\n",
    "from autumn.model_features.curve.scale_up import scale_up_function\n",
    "\n",
    "from autumn.settings import Region, Models\n",
    "from autumn.settings.constants import COVID_BASE_DATETIME\n",
    "\n",
    "from autumn.models.sm_sir.mixing_matrix.macrodistancing import weight_mobility_data\n",
    "from autumn.models.sm_sir.detection import create_cdr_function"
   ]
  },
  {
   "cell_type": "code",
   "execution_count": null,
   "metadata": {},
   "outputs": [],
   "source": [
    "model = Models.SM_SIR\n",
    "region = Region.NCR\n",
    "\n",
    "project = get_project(model, region)\n",
    "params = project.param_set.baseline\n",
    "iso3 = params[\"country\"][\"iso3\"]\n",
    "pop_region = params[\"population\"][\"region\"]\n",
    "\n",
    "AGEGROUP_STRATA = params['age_groups']\n",
    "age_integers = [int(group) for group in AGEGROUP_STRATA]\n"
   ]
  },
  {
   "cell_type": "markdown",
   "metadata": {},
   "source": [
    "## Population"
   ]
  },
  {
   "cell_type": "code",
   "execution_count": null,
   "metadata": {},
   "outputs": [],
   "source": [
    "fig, ax = plt.subplots(1, 1, figsize=(10, 6))\n",
    "total_pops = get_population_by_agegroup(\n",
    "    AGEGROUP_STRATA, \n",
    "    iso3,\n",
    "    pop_region, \n",
    "    year=project.param_set.baseline[\"population\"][\"year\"]\n",
    ")\n",
    "print(f\"Total modelled population of {region} is: {round(sum(total_pops) / 1e3, 3)} thousand\")\n",
    "ax.bar(age_integers, total_pops, width=4)\n",
    "ax.set_title(region)\n",
    "ax.set_ylabel(\"population\")\n",
    "ax.set_xlabel(\"starting age of age bracket\")\n",
    "fig.suptitle(\"population distribution by age\")"
   ]
  },
  {
   "cell_type": "markdown",
   "metadata": {},
   "source": [
    "## Mobility"
   ]
  },
  {
   "cell_type": "code",
   "execution_count": null,
   "metadata": {},
   "outputs": [],
   "source": [
    "print(\"Whether the mobility effects are actually turned on at all:\")\n",
    "project.param_set.baseline[\"is_dynamic_mixing_matrix\"]"
   ]
  },
  {
   "cell_type": "code",
   "execution_count": null,
   "metadata": {},
   "outputs": [],
   "source": [
    "y_upper = 2.\n",
    "\n",
    "# Collate data together\n",
    "input_db = get_input_db()\n",
    "\n",
    "mob_df, int_times = get_mobility_data(iso3, pop_region, COVID_BASE_DATETIME)\n",
    "google_mob_df = weight_mobility_data(mob_df, project.param_set.baseline[\"mobility\"][\"google_mobility_locations\"])\n",
    "\n",
    "times = ref_times_to_dti(COVID_BASE_DATETIME, int_times)\n",
    "\n",
    "# Get plots ready\n",
    "mob_fig, mob_axes = plt.subplots(1, 2, figsize=(12, 6))\n",
    "plot_left_date = date(2020, 1, 1)\n",
    "plot_right_date = times[-1]  # Not sure why this is necessary\n",
    "\n",
    "# Plot raw mobility data\n",
    "ax = mob_axes[0]\n",
    "for mobility_domain in [\"grocery_and_pharmacy\", \"residential\", \"parks\", \"retail_and_recreation\", \"transit_stations\"]:\n",
    "    ax.plot(times, mob_df[mobility_domain], label=mobility_domain)\n",
    "ax.set_ylim((0., y_upper))\n",
    "ax.tick_params(axis=\"x\", labelrotation=45)\n",
    "ax.set_title(\"raw Google mobility domains\")\n",
    "ax.legend(loc=\"lower right\")\n",
    "ax.set_xlim(left=plot_left_date, right=plot_right_date)\n",
    "\n",
    "# Plot processed mobility data\n",
    "ax = mob_axes[1]\n",
    "for location in list(project.param_set.baseline[\"mobility\"][\"google_mobility_locations\"].keys()):\n",
    "    ax.plot(times, google_mob_df[location], label=location)\n",
    "ax.tick_params(axis=\"x\", labelrotation=45)\n",
    "ax.set_ylim((0., y_upper))\n",
    "ax.legend(loc=\"lower left\")\n",
    "ax.set_title(\"mobility as implemented in the model\")\n",
    "mob_fig.tight_layout(w_pad=1.5, h_pad=3.5)\n",
    "ax.set_xlim(left=plot_left_date, right=plot_right_date)\n",
    "\n",
    "\n",
    "# School mobility profile\n",
    "school_times, school_values = params[\"mobility\"][\"mixing\"][\"school\"][\"times\"], params[\"mobility\"][\"mixing\"][\"school\"][\"values\"]\n",
    "fig, ax = plt.subplots(1, 1, figsize=(10, 6))\n",
    "ax.plot(school_times, school_values, \"bo\")"
   ]
  },
  {
   "cell_type": "markdown",
   "metadata": {},
   "source": [
    "## Mixing matrix\n",
    "### Check how the mixing matrix is specified"
   ]
  },
  {
   "cell_type": "code",
   "execution_count": null,
   "metadata": {},
   "outputs": [],
   "source": [
    "print(f\"Modelled country: {iso3}\")\n",
    "print(f\"Modelled sub-region: {pop_region}\")\n",
    "print(f\"Proxy country: {params['ref_mixing_iso3']}\")\n",
    "print(\"Always age-adjusted under SM-SIR code\")"
   ]
  },
  {
   "cell_type": "markdown",
   "metadata": {},
   "source": [
    "### Display the matrix and the matrix components"
   ]
  },
  {
   "cell_type": "code",
   "execution_count": null,
   "metadata": {},
   "outputs": [],
   "source": [
    "_ , source_age_breaks = load_socialmixr_matrices(project.param_set.baseline[\"ref_mixing_iso3\"], [\"all_locations\"])\n",
    "agegroup_types = {\n",
    "    \"base age groups\": source_age_breaks,\n",
    "    \"modelled age groups\": project.param_set.baseline[\"age_groups\"],\n",
    "}\n",
    "\n",
    "for title, agegroups in agegroup_types.items():\n",
    "\n",
    "    mixing_matrix = build_synthetic_matrices(\n",
    "        project.param_set.baseline[\"country\"][\"iso3\"],\n",
    "        project.param_set.baseline[\"ref_mixing_iso3\"],\n",
    "        agegroups,\n",
    "        True,\n",
    "        project.param_set.baseline[\"population\"][\"region\"]\n",
    "    )\n",
    "\n",
    "    fig = plt.figure(figsize=(12, 8))\n",
    "    positions = [1, 2, 3, 5, 6]\n",
    "    for i_loc, location in zip(positions, mixing_matrix.keys()):\n",
    "        ax = fig.add_subplot(2, 3, i_loc)\n",
    "        ax.imshow(\n",
    "            np.flipud(np.transpose(mixing_matrix[location])), \n",
    "            cmap=cm.hot, \n",
    "            vmin=0,\n",
    "            vmax=mixing_matrix[location].max(), \n",
    "            origin=\"lower\"\n",
    "        )\n",
    "        ax.set_title(location.replace(\"_\", \" \"))\n",
    "        ax.set_xticks([])\n",
    "        ax.set_yticks([])\n",
    "    fig.suptitle(title)"
   ]
  },
  {
   "cell_type": "markdown",
   "metadata": {},
   "source": [
    "## Case detection"
   ]
  },
  {
   "cell_type": "code",
   "execution_count": null,
   "metadata": {},
   "outputs": [],
   "source": [
    "# Get the CDR function of tests\n",
    "cdr_from_tests_func = create_cdr_function(\n",
    "    project.param_set.baseline[\"testing_to_detection\"][\"assumed_tests_parameter\"],\n",
    "    project.param_set.baseline[\"testing_to_detection\"][\"assumed_cdr_parameter\"],\n",
    ")\n",
    "\n",
    "# Get the denominator population\n",
    "testing_pops = get_population_by_agegroup(\n",
    "    project.param_set.baseline[\"age_groups\"],\n",
    "    iso3,\n",
    "    pop_region\n",
    ")\n",
    "\n",
    "# Process the data\n",
    "test_df= get_testing_numbers_for_region(iso3, pop_region)\n",
    "test_times, test_values = test_df.index.to_list(), test_df.to_list()\n",
    "test_dates = ref_times_to_dti(COVID_BASE_DATETIME, [int(time) for time in test_times])\n",
    "per_capita_tests = [i_tests / sum(testing_pops) for i_tests in test_values]\n",
    "dummy_tests = np.linspace(0, max(per_capita_tests), 200)\n",
    "if project.param_set.baseline[\"testing_to_detection\"][\"assumed_tests_parameter\"]:\n",
    "    smoothed_per_capita_tests = apply_moving_average(\n",
    "        per_capita_tests, \n",
    "        project.param_set.baseline[\"testing_to_detection\"][\"smoothing_period\"]\n",
    "    )\n",
    "else:\n",
    "    smoothed_per_capita_tests = per_capita_tests\n",
    "cdr_function_of_time = scale_up_function(\n",
    "    test_times,\n",
    "    [cdr_from_tests_func(test_rate) for test_rate in smoothed_per_capita_tests],\n",
    "    smoothness=0.2, method=4, bound_low=0.,\n",
    ")    \n",
    "\n",
    "# Plot\n",
    "fig, axes = plt.subplots(2, 2, figsize=(12, 8))\n",
    "fig.tight_layout(w_pad=1.5, h_pad=5)\n",
    "\n",
    "def sort_axis_dates(ax):\n",
    "    axis.tick_params(axis=\"x\", labelrotation=45)\n",
    "    axis.set_xlim(left=plot_left_date, right=plot_right_date)\n",
    "\n",
    "# Plot daily number of tests\n",
    "axis = axes[0, 0]\n",
    "axis.plot(test_dates, test_values, marker=\"o\")\n",
    "axis.set_title(\"daily testing numbers\")\n",
    "sort_axis_dates(axis)\n",
    "\n",
    "# Plot daily number of tests\n",
    "axis = axes[0, 1]\n",
    "axis.plot(test_dates, per_capita_tests, label=\"raw\")\n",
    "axis.plot(test_dates, smoothed_per_capita_tests, label=\"smoothed\")\n",
    "axis.set_title(\"daily per capita testing rate\")\n",
    "sort_axis_dates(axis)\n",
    "axis.legend()\n",
    "\n",
    "# Plot relationship of daily tests to CDR proportion\n",
    "axis = axes[1, 0]\n",
    "axis.plot(dummy_tests, cdr_from_tests_func(dummy_tests))\n",
    "axis.scatter(per_capita_tests, [cdr_from_tests_func(i_tests) for i_tests in per_capita_tests], color=\"r\")\n",
    "axis.set_ylabel(\"case detection proportion\")\n",
    "axis.set_xlabel(\"per capita testing rate\")\n",
    "axis.set_title(\"daily per capita tests to CDR relationship\")\n",
    "axis.set_ylim(top=1.)\n",
    "\n",
    "# Plot CDR values\n",
    "axis = axes[1, 1]\n",
    "axis.scatter(test_dates, [cdr_from_tests_func(i_test_rate) for i_test_rate in smoothed_per_capita_tests], color=\"r\")\n",
    "axis.plot(test_dates, [cdr_function_of_time(time) for time in test_times])\n",
    "axis.set_title(\"Final case detection rate\")\n",
    "axis.set_ylabel(\"proportion\")\n",
    "sort_axis_dates(axis)\n",
    "\n",
    "fig.tight_layout()"
   ]
  },
  {
   "cell_type": "markdown",
   "metadata": {},
   "source": [
    "## Calibration Targets"
   ]
  },
  {
   "cell_type": "code",
   "execution_count": null,
   "metadata": {},
   "outputs": [],
   "source": [
    "all_targets = load_timeseries(os.path.join(project.get_path(), \"timeseries.json\"))\n",
    "if project.region_name == \"national-capital-region\":\n",
    "    new_targets = load_timeseries(os.path.join(project.get_path(), \"new_targets.json\"))\n",
    "    all_targets.update(new_targets)\n",
    "\n",
    "for target in all_targets:\n",
    "    all_targets[target].index = ref_times_to_dti(COVID_BASE_DATETIME, all_targets[target].index) \n",
    "\n",
    "calibrated_targets = project.calibration.targets\n",
    "calibrated_targets_names = [t.data.name for t in calibrated_targets]\n",
    "\n",
    "for output in all_targets:\n",
    "    if len(all_targets[output].index) == 0:\n",
    "        continue\n",
    "    fig = plt.figure(figsize=(12, 8))\n",
    "    plt.style.use(\"ggplot\")\n",
    "    axis = fig.add_subplot()\n",
    "\n",
    "    axis.scatter(all_targets[output].index, all_targets[output], color=\"k\", s=5, alpha=0.5, zorder=10)\n",
    "    \n",
    "    if output in calibrated_targets_names:\n",
    "        index = calibrated_targets_names.index(output)\n",
    "        cal_times = calibrated_targets[index].data.index.tolist()\n",
    "        cal_values = calibrated_targets[index].data.tolist()\n",
    "        cal_date_times = pd.to_datetime(cal_times, origin=\"01Jan2020\",unit=\"D\") \n",
    "        \n",
    "        plt.scatter(cal_date_times, cal_values, color=\"red\", s=10.)\n",
    "          \n",
    "    axis.set_title(\"COVID-19 \" + project.plots[output][\"output_key\"] + \" in NCR\")"
   ]
  },
  {
   "cell_type": "code",
   "execution_count": null,
   "metadata": {},
   "outputs": [],
   "source": []
  }
 ],
 "metadata": {
  "kernelspec": {
   "display_name": "Python 3.10.3 ('autumn310')",
   "language": "python",
   "name": "python3"
  },
  "language_info": {
   "codemirror_mode": {
    "name": "ipython",
    "version": 3
   },
   "file_extension": ".py",
   "mimetype": "text/x-python",
   "name": "python",
   "nbconvert_exporter": "python",
   "pygments_lexer": "ipython3",
   "version": "3.10.3"
  },
  "vscode": {
   "interpreter": {
    "hash": "7afc08b952f75bca94590012dd49682c815a0fa68720c270ce23d7ae27bf110a"
   }
  }
 },
 "nbformat": 4,
 "nbformat_minor": 2
}
