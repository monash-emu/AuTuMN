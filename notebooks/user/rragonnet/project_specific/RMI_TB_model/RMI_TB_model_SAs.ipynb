{
 "cells": [
  {
   "cell_type": "code",
   "execution_count": null,
   "metadata": {},
   "outputs": [],
   "source": [
    "from autumn.tools.project import get_project, ParameterSet\n",
    "from matplotlib import pyplot as plt\n",
    "import pandas as pd\n",
    "from autumn.projects.tuberculosis.marshall_islands.project import ANALYSIS\n",
    "from autumn.projects.tuberculosis.marshall_islands.utils import SA_PARAM_VALUES\n",
    "\n",
    "from autumn.projects.tuberculosis.marshall_islands.outputs.utils import OUTPUT_TITLES"
   ]
  },
  {
   "cell_type": "code",
   "execution_count": null,
   "metadata": {},
   "outputs": [],
   "source": [
    "project = get_project(\"tuberculosis\", \"marshall-islands\")\n",
    "assert ANALYSIS != \"main\""
   ]
  },
  {
   "cell_type": "code",
   "execution_count": null,
   "metadata": {},
   "outputs": [],
   "source": [
    "# run baseline model\n",
    "model_0 = project.run_baseline_model(project.param_set.baseline)\n",
    "derived_df = model_0.get_derived_outputs_df()"
   ]
  },
  {
   "cell_type": "code",
   "execution_count": null,
   "metadata": {},
   "outputs": [],
   "source": [
    "# run scenarios\n",
    "start_times = [\n",
    "    sc_params.to_dict()[\"time\"][\"start\"] for sc_params in project.param_set.scenarios\n",
    "]\n",
    "sc_models = project.run_scenario_models(model_0, project.param_set.scenarios, start_times=start_times)"
   ]
  },
  {
   "cell_type": "code",
   "execution_count": null,
   "metadata": {},
   "outputs": [],
   "source": [
    "derived_dfs = [m.get_derived_outputs_df() for m in sc_models]"
   ]
  },
  {
   "cell_type": "code",
   "execution_count": null,
   "metadata": {},
   "outputs": [],
   "source": [
    "outputs = [\"incidence\", \"mortality\", \"percentage_latent\", \"notifications\"]"
   ]
  },
  {
   "cell_type": "code",
   "execution_count": null,
   "metadata": {},
   "outputs": [],
   "source": [
    "n_scenarios = len(SA_PARAM_VALUES[ANALYSIS])\n",
    "low, high = 100, 150 \n",
    "gradient_indices = [low + int((high - low)*i) for i in range(n_scenarios)]\n",
    "\n",
    "sc_colors = {\n",
    "    \"sa_importation\": [plt.get_cmap(\"Greens\")(j) for j in gradient_indices],\n",
    "    \"sa_screening\": [plt.get_cmap(\"Reds\")(j) for j in gradient_indices]\n",
    "}\n",
    "\n",
    "legend_titles = {\n",
    "    \"sa_importation\": \"% LTBI among immigrants:\",\n",
    "    \"sa_screening\": \"Screening sensitivity:\"\n",
    "}\n",
    "\n",
    "n_col = 2\n",
    "n_row = 2\n",
    "panel_h = 5\n",
    "panel_w = 7\n",
    "widths = [panel_w] * n_col\n",
    "heights = [panel_h] * n_row\n",
    "fig = plt.figure(constrained_layout=True, figsize=(sum(widths), sum(heights)))  # (w, h)\n",
    "spec = fig.add_gridspec(ncols=n_col, nrows=n_row, width_ratios=widths, height_ratios=heights)\n",
    "plt.style.use(\"ggplot\")\n",
    "\n",
    "i_row, i_col = 0, 0\n",
    "for output in outputs:\n",
    "    axis = fig.add_subplot(spec[i_row, i_col])   \n",
    "    max_val = 0\n",
    "    for i, d in enumerate(derived_dfs):\n",
    "       \n",
    "        if output in d.columns:\n",
    "            label = f\"{int(100.*SA_PARAM_VALUES[ANALYSIS][i])}%\" \n",
    "            d[output].plot(color=sc_colors[ANALYSIS][i], lw=3, label=label)\n",
    "            max_val = max(max_val, max(d[output]))\n",
    "    \n",
    "    axis.set_ylim([0, max_val*1.1])\n",
    "    axis.set_xlim([2017, 2050])\n",
    "    axis.set_ylabel(OUTPUT_TITLES[output], fontsize=15)\n",
    "    \n",
    "    i_col += 1\n",
    "    if i_col == n_col:\n",
    "        i_col = 0\n",
    "        i_row += 1\n",
    "        \n",
    "    if output == \"mortality\":\n",
    "        \n",
    "        handles, labels = plt.gca().get_legend_handles_labels()\n",
    "        if ANALYSIS == \"sa_importation\":\n",
    "            handles.reverse()\n",
    "            labels.reverse()\n",
    "        plt.legend(handles, labels, title=legend_titles[ANALYSIS], facecolor=\"white\", fontsize=12, title_fontsize=12)\n",
    "        \n",
    "png_path = f\"{ANALYSIS}_.png\"\n",
    "plt.savefig(png_path, dpi=300)"
   ]
  },
  {
   "cell_type": "code",
   "execution_count": null,
   "metadata": {},
   "outputs": [],
   "source": []
  }
 ],
 "metadata": {
  "kernelspec": {
   "display_name": "Python 3",
   "language": "python",
   "name": "python3"
  },
  "language_info": {
   "codemirror_mode": {
    "name": "ipython",
    "version": 3
   },
   "file_extension": ".py",
   "mimetype": "text/x-python",
   "name": "python",
   "nbconvert_exporter": "python",
   "pygments_lexer": "ipython3",
   "version": "3.6.8"
  }
 },
 "nbformat": 4,
 "nbformat_minor": 2
}
