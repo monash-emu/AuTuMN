{
 "cells": [
  {
   "cell_type": "code",
   "execution_count": null,
   "metadata": {},
   "outputs": [],
   "source": [
    "from autumn.projects.sm_covid2.common_school.project_maker import get_school_project_parameter_set\n",
    "import pandas as pd\n",
    "from copy import copy\n",
    "from pathlib import Path"
   ]
  },
  {
   "cell_type": "code",
   "execution_count": null,
   "metadata": {},
   "outputs": [],
   "source": [
    "model_params = get_school_project_parameter_set(\n",
    "    iso3 = \"FRA\",\n",
    "    first_date_with_death = 0,\n",
    "    sero_age_min = 0,\n",
    "    sero_age_max = 100,\n",
    "    analysis='main'\n",
    ").baseline\n",
    "age_params = model_params['age_stratification']"
   ]
  },
  {
   "cell_type": "code",
   "execution_count": null,
   "metadata": {},
   "outputs": [],
   "source": [
    "df = pd.DataFrame()\n",
    "df['ifr'] = pd.Series(age_params['ifr']['values'])\n",
    "df['susceptibility'] = pd.Series(age_params['susceptibility'])\n",
    "df['prop_symptomatic'] = pd.Series(age_params['prop_symptomatic'])\n",
    "df['prop_hospital'] = pd.Series(age_params['prop_hospital']['values'])"
   ]
  },
  {
   "cell_type": "code",
   "execution_count": null,
   "metadata": {},
   "outputs": [],
   "source": [
    "# fill missing values for 80+ category\n",
    "for column in (\"susceptibility\", \"prop_symptomatic\", \"prop_hospital\"):\n",
    "    df[column].loc[80] = df[column].loc[75]"
   ]
  },
  {
   "cell_type": "code",
   "execution_count": null,
   "metadata": {},
   "outputs": [],
   "source": [
    "# new column for age group\n",
    "def get_agegroup_str(idx):\n",
    "    if idx < 80:\n",
    "        return f\"{idx}-{idx + 4}\"\n",
    "    else:\n",
    "        return \"80 and above\"\n",
    "\n",
    "df['agegroup'] = [get_agegroup_str(idx) for idx in df.index]"
   ]
  },
  {
   "cell_type": "code",
   "execution_count": null,
   "metadata": {},
   "outputs": [],
   "source": [
    "pd.set_option('display.max_colwidth', 2)\n",
    "tex_table = df.to_latex(\n",
    "    columns=['agegroup', 'susceptibility', 'prop_symptomatic', 'prop_hospital', 'ifr'],\n",
    "    header=['Age group', \"Rel. suscepitbility to infection (ref. 15-69 y.o.) \\cite{zhang2020a}\", \"Proportion symptomatic \\cite{sah2021}\", \"Proportion of symptomatic patients hospitalised \\cite{rivm2020}\", \"Infection fatality rate \\cite{odriscoll2021}\"],\n",
    "    index=False,\n",
    "    label=\"agespec_table\",\n",
    "    caption=\"Age-specific parameters for wild-type COVID-19\"\n",
    ")"
   ]
  },
  {
   "cell_type": "code",
   "execution_count": null,
   "metadata": {},
   "outputs": [],
   "source": [
    "tex_table = tex_table.replace(\"{lrrrr}\", \"{p{2cm} p{3cm} p{3cm} p{3cm} p{3cm}}\")"
   ]
  },
  {
   "cell_type": "code",
   "execution_count": null,
   "metadata": {},
   "outputs": [],
   "source": [
    "# Handle citations\n",
    "tex_table = tex_table.replace(\"\\\\textbackslash cite\\\\\", r\"\\cite\").replace(\"\\\\}\", \"}\")"
   ]
  },
  {
   "cell_type": "code",
   "execution_count": null,
   "metadata": {},
   "outputs": [],
   "source": [
    "out_path = Path.home() / \"Models\"/ \"AuTuMN_new\" / \"docs\" / \"tex\" / \"tex_descriptions\" / \"projects\" / \"sm_covid\" / \"agespec_table.tex\""
   ]
  },
  {
   "cell_type": "code",
   "execution_count": null,
   "metadata": {},
   "outputs": [],
   "source": [
    "with out_path.open(\"w\") as f:\n",
    "    f.write(tex_table)"
   ]
  }
 ],
 "metadata": {
  "kernelspec": {
   "display_name": "summer2",
   "language": "python",
   "name": "python3"
  },
  "language_info": {
   "codemirror_mode": {
    "name": "ipython",
    "version": 3
   },
   "file_extension": ".py",
   "mimetype": "text/x-python",
   "name": "python",
   "nbconvert_exporter": "python",
   "pygments_lexer": "ipython3",
   "version": "3.10.11"
  },
  "orig_nbformat": 4
 },
 "nbformat": 4,
 "nbformat_minor": 2
}
