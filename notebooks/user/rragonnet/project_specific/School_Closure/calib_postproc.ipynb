{
 "cells": [
  {
   "cell_type": "code",
   "execution_count": null,
   "metadata": {},
   "outputs": [],
   "source": [
    "import arviz as az\n",
    "import pandas as pd\n",
    "import numpy as np\n",
    "\n",
    "import plotly.graph_objects as go\n",
    "import plotly.express as px\n",
    "\n",
    "from estival.model import BayesianCompartmentalModel\n",
    "from estival import targets as est\n",
    "from estival import priors as esp\n",
    "\n",
    "from autumn.core.project import get_project\n",
    "\n",
    "from autumn.projects.sm_covid2.common_school.calibration import get_bcm_object\n",
    "\n",
    "from datetime import datetime\n",
    "from copy import copy\n",
    "\n",
    "COVID_BASE_DATETIME = datetime(2019, 12, 31)"
   ]
  },
  {
   "cell_type": "code",
   "execution_count": null,
   "metadata": {},
   "outputs": [],
   "source": [
    "calibration_file = \"calib_11May.nc\""
   ]
  },
  {
   "cell_type": "code",
   "execution_count": null,
   "metadata": {},
   "outputs": [],
   "source": [
    "\n",
    "idata = az.from_netcdf(calibration_file)\n",
    "chain_length = idata.sample_stats.sizes['draw']\n",
    "n_chains = idata.sample_stats.sizes['chain']\n",
    "print(f\"Found {n_chains} chains, each containing {chain_length} samples.\")"
   ]
  },
  {
   "cell_type": "code",
   "execution_count": null,
   "metadata": {},
   "outputs": [],
   "source": [
    "burn_in = 0"
   ]
  },
  {
   "cell_type": "code",
   "execution_count": null,
   "metadata": {},
   "outputs": [],
   "source": [
    "burnt_idata = idata.sel(draw=range(burn_in, chain_length))  # Discard burn-in\n",
    "calib_df = burnt_idata.to_dataframe(groups=\"posterior\")  # Also get as dataframe"
   ]
  },
  {
   "cell_type": "code",
   "execution_count": null,
   "metadata": {},
   "outputs": [],
   "source": [
    "# Report acceptance ratios\n",
    "(idata.sample_stats.accepted.sum(axis=1) / idata.sample_stats.coords[\"draw\"].size).to_dataframe()"
   ]
  },
  {
   "cell_type": "code",
   "execution_count": null,
   "metadata": {},
   "outputs": [],
   "source": [
    "az.summary(idata)"
   ]
  },
  {
   "cell_type": "code",
   "execution_count": null,
   "metadata": {},
   "outputs": [],
   "source": [
    "az.plot_trace(burnt_idata, figsize=(16, 3.0 * len(burnt_idata.posterior)), compact=False, legend=True);"
   ]
  },
  {
   "cell_type": "code",
   "execution_count": null,
   "metadata": {},
   "outputs": [],
   "source": [
    "az.plot_posterior(burnt_idata);"
   ]
  },
  {
   "cell_type": "code",
   "execution_count": null,
   "metadata": {},
   "outputs": [],
   "source": [
    "\n",
    "def convert_idata_to_df(\n",
    "    idata: az.data.inference_data.InferenceData, \n",
    "    param_names: list,\n",
    ") -> pd.DataFrame:\n",
    "    \"\"\"\n",
    "    Convert arviz inference data to dataframe organised\n",
    "    by draw and chain through multi-indexing.\n",
    "    \n",
    "    Args:\n",
    "        idata: arviz inference data\n",
    "        param_names: String names of the model parameters\n",
    "    \"\"\"\n",
    "    sampled_idata_df = idata.to_dataframe()[param_names]\n",
    "    return sampled_idata_df.sort_index(level=\"draw\").sort_index(level=\"chain\")\n",
    "\n",
    "\n",
    "def get_sampled_results(sampled_df, outputs):\n",
    "    d2_index = pd.Index([index[:2] for index in sampled_df.index]).unique()\n",
    "\n",
    "    sampled_results = {output: pd.DataFrame(index=bcm.model._get_ref_idx(), columns=d2_index) for output in outputs}\n",
    "\n",
    "    for chain, draw in d2_index:\n",
    "        # read rp delta values\n",
    "        delta_values = sampled_df.loc[chain, draw]['random_process.delta_values']\n",
    "        \n",
    "        params_dict = sampled_df.loc[chain, draw, 0].to_dict()\n",
    "        params_dict[\"random_process.delta_values\"] = np.array(delta_values)\n",
    "\n",
    "        run_model = bcm.run(params_dict)\n",
    "\n",
    "        for output in outputs:\n",
    "            sampled_results[output][(chain, draw)] = run_model.derived_outputs[output]\n",
    "\n",
    "    return sampled_results\n",
    "\n",
    "\n",
    "def plot_from_model_runs_df(\n",
    "    model_results, \n",
    "    output_name\n",
    ") -> go.Figure:\n",
    "    \"\"\"\n",
    "    Create interactive plot of model outputs by draw and chain\n",
    "    from standard data structures.\n",
    "    \n",
    "    Args:\n",
    "        model_results: Model outputs generated from run_samples_through_model\n",
    "        sampled_df: Inference data converted to dataframe in output format of convert_idata_to_df\n",
    "    \"\"\"\n",
    "    melted = model_results[output_name].melt(ignore_index=False)\n",
    "    melted.columns = [\"chain\", \"draw\", output]\n",
    "    melted.index = (melted.index  - COVID_BASE_DATETIME).days\n",
    "\n",
    "    fig = px.line(melted, y=output, color=\"chain\", line_group=\"draw\", hover_data=melted.columns)\n",
    "\n",
    "    if output_name in bcm.targets:\n",
    "        fig.add_trace(\n",
    "            go.Scattergl(x=bcm.targets[output_name].data.index, y=bcm.targets[output_name].data, marker=dict(color=\"black\"), name=\"target\", mode=\"markers\"),\n",
    "        )\n",
    "\n",
    "    return fig"
   ]
  },
  {
   "cell_type": "code",
   "execution_count": null,
   "metadata": {},
   "outputs": [],
   "source": [
    "bcm = get_bcm_object(\"france\")"
   ]
  },
  {
   "cell_type": "code",
   "execution_count": null,
   "metadata": {},
   "outputs": [],
   "source": [
    "param_names = list(burnt_idata.posterior.data_vars.keys())\n",
    "\n",
    "num_samples_request = 50\n",
    "sampled_idata = az.extract(burnt_idata, num_samples=num_samples_request)  # Sample from the inference data\n",
    "sampled_df = convert_idata_to_df(sampled_idata, param_names)"
   ]
  },
  {
   "cell_type": "code",
   "execution_count": null,
   "metadata": {},
   "outputs": [],
   "source": [
    "outputs = [\"infection_deaths\", \"transformed_random_process\"]\n",
    "sampled_results = get_sampled_results(sampled_df, outputs)"
   ]
  },
  {
   "cell_type": "code",
   "execution_count": null,
   "metadata": {},
   "outputs": [],
   "source": [
    "for output in outputs:\n",
    "    fig = plot_from_model_runs_df(sampled_results, output)\n",
    "    fig.show()"
   ]
  }
 ],
 "metadata": {
  "kernelspec": {
   "display_name": "summer2",
   "language": "python",
   "name": "python3"
  },
  "language_info": {
   "codemirror_mode": {
    "name": "ipython",
    "version": 3
   },
   "file_extension": ".py",
   "mimetype": "text/x-python",
   "name": "python",
   "nbconvert_exporter": "python",
   "pygments_lexer": "ipython3",
   "version": "3.10.11"
  },
  "orig_nbformat": 4
 },
 "nbformat": 4,
 "nbformat_minor": 2
}
