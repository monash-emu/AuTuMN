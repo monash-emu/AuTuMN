{
 "cells": [
  {
   "cell_type": "code",
   "execution_count": null,
   "metadata": {},
   "outputs": [],
   "source": [
    "from copy import copy \n",
    "from matplotlib import pyplot as plt\n",
    "import datetime\n",
    "\n",
    "import numpy as np\n",
    "import pandas as pd\n",
    "\n",
    "import summer2\n",
    "from summer.utils import ref_times_to_dti\n",
    "\n",
    "from autumn.core.project import get_project, load_timeseries\n",
    "from autumn.core.project.params import get_with_nested_key\n",
    "\n",
    "# Targets represent data we are trying to fit to\n",
    "from estival import targets as est\n",
    "# We specify parameters using (Bayesian) priors\n",
    "from estival import priors as esp\n",
    "# Finally we combine these with our summer2 model in a BayesianCompartmentalModel (BCM)\n",
    "from estival.model import BayesianCompartmentalModel"
   ]
  },
  {
   "attachments": {},
   "cell_type": "markdown",
   "metadata": {},
   "source": [
    "# Some preliminary code"
   ]
  },
  {
   "attachments": {},
   "cell_type": "markdown",
   "metadata": {},
   "source": [
    "### Load project, model and targets"
   ]
  },
  {
   "cell_type": "code",
   "execution_count": null,
   "metadata": {},
   "outputs": [],
   "source": [
    "project = get_project(\"sm_covid2\", \"france\")\n",
    "death_target = project.calibration.targets[0]\n",
    "\n",
    "default_configuration = project.param_set.baseline\n",
    "m = project.build_model(default_configuration.to_dict()) "
   ]
  },
  {
   "cell_type": "code",
   "execution_count": null,
   "metadata": {},
   "outputs": [],
   "source": [
    "targets = [\n",
    "    est.NegativeBinomialTarget(\n",
    "        \"infection_deaths\", \n",
    "        death_target.data, \n",
    "        dispersion_param=esp.UniformPrior(\"infection_deaths_dispersion_param\", (50, 200))\n",
    "    )\n",
    "]"
   ]
  },
  {
   "attachments": {},
   "cell_type": "markdown",
   "metadata": {},
   "source": [
    "### Format priors to use in estival"
   ]
  },
  {
   "cell_type": "code",
   "execution_count": null,
   "metadata": {},
   "outputs": [],
   "source": [
    "def get_estival_uniform_priors(autumn_priors):\n",
    "    estival_priors = []\n",
    "    for prior_dict in autumn_priors:\n",
    "        assert prior_dict[\"distribution\"] == \"uniform\", \"Only uniform priors are currently supported\"\n",
    "        \n",
    "        if not \"random_process.delta_values\" in prior_dict[\"param_name\"] and not \"dispersion_param\" in prior_dict[\"param_name\"]:\n",
    "            estival_priors.append(\n",
    "                esp.UniformPrior(prior_dict[\"param_name\"], prior_dict[\"distri_params\"]),\n",
    "            )\n",
    "            \n",
    "    ndelta_values = len([prior_dict for prior_dict in autumn_priors if prior_dict[\"param_name\"].startswith(\"random_process.delta_values\")])\n",
    "    \n",
    "    estival_priors.append(esp.UniformPrior(\"random_process.delta_values\", [-2.0,2.0], ndelta_values + 1))\n",
    "    \n",
    "    return estival_priors\n",
    "    "
   ]
  },
  {
   "cell_type": "code",
   "execution_count": null,
   "metadata": {},
   "outputs": [],
   "source": [
    "priors = get_estival_uniform_priors(project.calibration.all_priors)"
   ]
  },
  {
   "cell_type": "code",
   "execution_count": null,
   "metadata": {},
   "outputs": [],
   "source": [
    "default_params = m.builder.get_default_parameters()"
   ]
  },
  {
   "attachments": {},
   "cell_type": "markdown",
   "metadata": {},
   "source": [
    "### Create random process log-likelihood function"
   ]
  },
  {
   "cell_type": "code",
   "execution_count": null,
   "metadata": {},
   "outputs": [],
   "source": [
    "from jax import numpy as jnp\n",
    "\n",
    "def rp_loglikelihood(params):\n",
    "    sigma_square = params['random_process.noise_sd'] ** 2\n",
    "    sum_of_squares = jnp.sum(jnp.square(params['random_process.delta_values']))\n",
    "    n = len(params['random_process.delta_values'])\n",
    "    \n",
    "    return - n / 2. * jnp.log(2. * jnp.pi * sigma_square) - 1. / (2. * sigma_square) * sum_of_squares"
   ]
  },
  {
   "attachments": {},
   "cell_type": "markdown",
   "metadata": {},
   "source": [
    "### Create BayesianCompartmentalModel object"
   ]
  },
  {
   "cell_type": "code",
   "execution_count": null,
   "metadata": {},
   "outputs": [],
   "source": [
    "bcm = BayesianCompartmentalModel(m, default_params, priors, targets, extra_ll=rp_loglikelihood)"
   ]
  },
  {
   "attachments": {},
   "cell_type": "markdown",
   "metadata": {},
   "source": [
    "### Helper function to plot model fit to data"
   ]
  },
  {
   "cell_type": "code",
   "execution_count": null,
   "metadata": {},
   "outputs": [],
   "source": [
    "def plot_fit(bcm, params):\n",
    "\n",
    "    REF_DATE = datetime.date(2019,12,31)\n",
    "    datetime_target = copy(bcm.targets[\"infection_deaths\"].data)\n",
    "    datetime_target.index = ref_times_to_dti(REF_DATE, datetime_target.index)\n",
    "\n",
    "    ax = bcm.run(params).derived_outputs[\"infection_deaths\"].plot()\n",
    "    datetime_target.plot(style='.')\n",
    "    ll = bcm.loglikelihood(**params)\n",
    "\n",
    "    text = f\"ll={ll}\"\n",
    "    plt.text(0.8, 0.9, text, transform=ax.transAxes)"
   ]
  },
  {
   "attachments": {},
   "cell_type": "markdown",
   "metadata": {},
   "source": [
    "# Compare model fits"
   ]
  },
  {
   "cell_type": "code",
   "execution_count": null,
   "metadata": {},
   "outputs": [],
   "source": [
    "import numpy as np"
   ]
  },
  {
   "cell_type": "code",
   "execution_count": null,
   "metadata": {},
   "outputs": [],
   "source": [
    "example_params = {\n",
    "    'contact_rate': 0.04104869232093793,\n",
    "    'infectious_seed_time': 30.447925441292778,\n",
    "    'age_stratification.ifr.multiplier': 0.8145117432172231,\n",
    "    'voc_emergence.delta.new_voc_seed.time_from_gisaid_report': 18.52679245171894,\n",
    "    'voc_emergence.omicron.new_voc_seed.time_from_gisaid_report': 0.0,\n",
    "    'random_process.noise_sd': 0.5835215881701278,\n",
    "\n",
    "    'mobility.unesco_partial_opening_value': .2,\n",
    "    'school_multiplier': 1.,\n",
    "\n",
    "    \"random_process.delta_values\": np.array([\n",
    "-1.306496185258189,\n",
    " 0.11250765346332026,\n",
    "0.5009919549420943,\n",
    " -0.06375110616249913,\n",
    " -0.24028730546991617,\n",
    "0.2606697551298094,\n",
    "-0.13194034829544132,\n",
    "-0.3559750720412327,\n",
    "0.04754597441674813,\n",
    " 0.12138039221640762,\n",
    "0.6411075116621299,  \n",
    "        0.0,0.0,0.0,0.0,0.0,0.0,\n",
    "    ]),\n",
    "\n",
    "    'infection_deaths_dispersion_param': 100.\n",
    "}"
   ]
  },
  {
   "cell_type": "code",
   "execution_count": null,
   "metadata": {},
   "outputs": [],
   "source": [
    "plot_fit(bcm, example_params)"
   ]
  },
  {
   "cell_type": "code",
   "execution_count": null,
   "metadata": {},
   "outputs": [],
   "source": [
    "from estival.optimization import nevergrad as eng"
   ]
  },
  {
   "cell_type": "code",
   "execution_count": null,
   "metadata": {},
   "outputs": [],
   "source": [
    "import nevergrad as ng"
   ]
  },
  {
   "cell_type": "code",
   "execution_count": null,
   "metadata": {},
   "outputs": [],
   "source": [
    "opt = eng.optimize_model(bcm, obj_function=bcm.loglikelihood)"
   ]
  },
  {
   "cell_type": "code",
   "execution_count": null,
   "metadata": {},
   "outputs": [],
   "source": [
    "res = opt.minimize(2000)\n",
    "print(res.value[1])\n",
    "plot_fit(bcm, res.value[1])"
   ]
  },
  {
   "cell_type": "code",
   "execution_count": null,
   "metadata": {},
   "outputs": [],
   "source": [
    "res = opt.minimize(6000)\n",
    "print(res.value[1])\n",
    "plot_fit(bcm, res.value[1])"
   ]
  },
  {
   "attachments": {},
   "cell_type": "markdown",
   "metadata": {},
   "source": [
    "### Print params formated for yml file"
   ]
  },
  {
   "cell_type": "code",
   "execution_count": null,
   "metadata": {},
   "outputs": [],
   "source": [
    "for p, val in res.value[1].items():\n",
    "    if p == \"random_process.delta_values\":\n",
    "        for i, deltaval in enumerate(val):\n",
    "            print(f\"random_process.delta_values({i}): {deltaval}\")\n",
    "    else:\n",
    "        \n",
    "        print(f\"{p}: {val}\")"
   ]
  },
  {
   "cell_type": "code",
   "execution_count": null,
   "metadata": {},
   "outputs": [],
   "source": [
    "from estival.calibration import pymc as epm\n",
    "import pymc as pm"
   ]
  },
  {
   "cell_type": "code",
   "execution_count": null,
   "metadata": {},
   "outputs": [],
   "source": [
    "with pm.Model() as model:    \n",
    "    variables = epm.use_model(bcm, include_ll=True)\n",
    "    idata_mh = pm.sample(step=[pm.DEMetropolis(variables)], draws=1000, tune=500,cores=1,chains=1)"
   ]
  },
  {
   "cell_type": "code",
   "execution_count": null,
   "metadata": {},
   "outputs": [],
   "source": []
  }
 ],
 "metadata": {
  "interpreter": {
   "hash": "7afc08b952f75bca94590012dd49682c815a0fa68720c270ce23d7ae27bf110a"
  },
  "kernelspec": {
   "display_name": "Python 3 (ipykernel)",
   "language": "python",
   "name": "python3"
  },
  "language_info": {
   "codemirror_mode": {
    "name": "ipython",
    "version": 3
   },
   "file_extension": ".py",
   "mimetype": "text/x-python",
   "name": "python",
   "nbconvert_exporter": "python",
   "pygments_lexer": "ipython3",
   "version": "3.10.11"
  }
 },
 "nbformat": 4,
 "nbformat_minor": 2
}
