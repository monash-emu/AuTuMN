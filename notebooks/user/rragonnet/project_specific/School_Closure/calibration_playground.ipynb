{
 "cells": [
  {
   "cell_type": "code",
   "execution_count": null,
   "metadata": {},
   "outputs": [],
   "source": [
    "from copy import copy \n",
    "from matplotlib import pyplot as plt\n",
    "import datetime\n",
    "\n",
    "import numpy as np\n",
    "import pandas as pd\n",
    "\n",
    "import summer2\n",
    "from summer.utils import ref_times_to_dti\n",
    "\n",
    "from autumn.core.project import get_project, load_timeseries\n",
    "from autumn.core.project.params import get_with_nested_key\n",
    "\n",
    "# Targets represent data we are trying to fit to\n",
    "from estival import targets as est\n",
    "# We specify parameters using (Bayesian) priors\n",
    "from estival import priors as esp\n",
    "# Finally we combine these with our summer2 model in a BayesianCompartmentalModel (BCM)\n",
    "from estival.model import BayesianCompartmentalModel\n",
    "\n",
    "from autumn.projects.sm_covid2.common_school.calibration import get_bcm_object"
   ]
  },
  {
   "cell_type": "code",
   "execution_count": null,
   "metadata": {},
   "outputs": [],
   "source": [
    "bcm = get_bcm_object(\"france\")"
   ]
  },
  {
   "attachments": {},
   "cell_type": "markdown",
   "metadata": {},
   "source": [
    "### Helper function to plot model fit to data"
   ]
  },
  {
   "cell_type": "code",
   "execution_count": null,
   "metadata": {},
   "outputs": [],
   "source": [
    "def plot_fit(bcm, params):\n",
    "\n",
    "    REF_DATE = datetime.date(2019,12,31)\n",
    "    datetime_target = copy(bcm.targets[\"infection_deaths\"].data)\n",
    "    datetime_target.index = ref_times_to_dti(REF_DATE, datetime_target.index)\n",
    "\n",
    "    ax = bcm.run(params).derived_outputs[\"infection_deaths\"].plot()\n",
    "    datetime_target.plot(style='.')\n",
    "    ll = bcm.loglikelihood(**params)\n",
    "\n",
    "    text = f\"ll={ll}\"\n",
    "    plt.text(0.8, 0.9, text, transform=ax.transAxes)"
   ]
  },
  {
   "attachments": {},
   "cell_type": "markdown",
   "metadata": {},
   "source": [
    "# Compare model fits"
   ]
  },
  {
   "cell_type": "code",
   "execution_count": null,
   "metadata": {},
   "outputs": [],
   "source": [
    "import numpy as np"
   ]
  },
  {
   "cell_type": "code",
   "execution_count": null,
   "metadata": {},
   "outputs": [],
   "source": [
    "example_params = {\n",
    "    'contact_rate': 0.04104869232093793,\n",
    "    'infectious_seed_time': 30.447925441292778,\n",
    "    'age_stratification.ifr.multiplier': 0.8145117432172231,\n",
    "    'voc_emergence.delta.new_voc_seed.time_from_gisaid_report': 18.52679245171894,\n",
    "    'voc_emergence.omicron.new_voc_seed.time_from_gisaid_report': 0.0,\n",
    "    'random_process.noise_sd': 0.5835215881701278,\n",
    "\n",
    "    'mobility.unesco_partial_opening_value': .2,\n",
    "    'school_multiplier': 1.,\n",
    "\n",
    "    \"random_process.delta_values\": np.array([\n",
    "-1.306496185258189,\n",
    " 0.11250765346332026,\n",
    "0.5009919549420943,\n",
    " -0.06375110616249913,\n",
    " -0.24028730546991617,\n",
    "0.2606697551298094,\n",
    "-0.13194034829544132,\n",
    "-0.3559750720412327,\n",
    "0.04754597441674813,\n",
    " 0.12138039221640762,\n",
    "0.6411075116621299,  \n",
    "        0.0,0.0,0.0,0.0,0.0,0.0,\n",
    "    ]),\n",
    "\n",
    "    'infection_deaths_dispersion_param': 100.\n",
    "}"
   ]
  },
  {
   "cell_type": "code",
   "execution_count": null,
   "metadata": {},
   "outputs": [],
   "source": [
    "plot_fit(bcm, example_params)"
   ]
  },
  {
   "cell_type": "code",
   "execution_count": null,
   "metadata": {},
   "outputs": [],
   "source": [
    "from estival.optimization import nevergrad as eng\n",
    "import nevergrad as ng"
   ]
  },
  {
   "cell_type": "code",
   "execution_count": null,
   "metadata": {},
   "outputs": [],
   "source": [
    "opt = eng.optimize_model(bcm, obj_function=bcm.loglikelihood)"
   ]
  },
  {
   "cell_type": "code",
   "execution_count": null,
   "metadata": {},
   "outputs": [],
   "source": [
    "res = opt.minimize(2000)\n",
    "print(res.value[1])\n",
    "plot_fit(bcm, res.value[1])"
   ]
  },
  {
   "cell_type": "code",
   "execution_count": null,
   "metadata": {},
   "outputs": [],
   "source": [
    "plot_fit(bcm, res.value[1])"
   ]
  },
  {
   "cell_type": "code",
   "execution_count": null,
   "metadata": {},
   "outputs": [],
   "source": [
    "res = opt.minimize(6000)\n",
    "print(res.value[1])\n",
    "plot_fit(bcm, res.value[1])"
   ]
  },
  {
   "attachments": {},
   "cell_type": "markdown",
   "metadata": {},
   "source": [
    "### Print params formated for yml file"
   ]
  },
  {
   "cell_type": "code",
   "execution_count": null,
   "metadata": {},
   "outputs": [],
   "source": [
    "for p, val in res.value[1].items():\n",
    "    if p == \"random_process.delta_values\":\n",
    "        for i, deltaval in enumerate(val):\n",
    "            print(f\"random_process.delta_values({i}): {deltaval}\")\n",
    "    else:\n",
    "        \n",
    "        print(f\"{p}: {val}\")"
   ]
  },
  {
   "cell_type": "code",
   "execution_count": null,
   "metadata": {},
   "outputs": [],
   "source": [
    "from estival.calibration import pymc as epm\n",
    "import pymc as pm"
   ]
  },
  {
   "cell_type": "code",
   "execution_count": null,
   "metadata": {},
   "outputs": [],
   "source": [
    "initvals = res.value[1]\n",
    "\n",
    "with pm.Model() as model:    \n",
    "    variables = epm.use_model(bcm)\n",
    "    idata = pm.sample(step=[pm.DEMetropolis(variables)], draws=100, tune=0,cores=4,chains=4, initvals=initvals)"
   ]
  },
  {
   "cell_type": "code",
   "execution_count": null,
   "metadata": {},
   "outputs": [],
   "source": [
    "# Save pymc outputs to disk\n",
    "idata.to_netcdf(\"calib_DATE.nc\")"
   ]
  }
 ],
 "metadata": {
  "interpreter": {
   "hash": "7afc08b952f75bca94590012dd49682c815a0fa68720c270ce23d7ae27bf110a"
  },
  "kernelspec": {
   "display_name": "Python 3 (ipykernel)",
   "language": "python",
   "name": "python3"
  },
  "language_info": {
   "codemirror_mode": {
    "name": "ipython",
    "version": 3
   },
   "file_extension": ".py",
   "mimetype": "text/x-python",
   "name": "python",
   "nbconvert_exporter": "python",
   "pygments_lexer": "ipython3",
   "version": "3.10.11"
  }
 },
 "nbformat": 4,
 "nbformat_minor": 2
}
