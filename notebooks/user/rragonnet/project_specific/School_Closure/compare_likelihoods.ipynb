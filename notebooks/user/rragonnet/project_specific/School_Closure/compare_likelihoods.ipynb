{
 "cells": [
  {
   "cell_type": "code",
   "execution_count": null,
   "metadata": {},
   "outputs": [],
   "source": [
    "from matplotlib import pyplot\n",
    "import os\n",
    "from numpy import exp\n",
    "\n",
    "from summer.utils import ref_times_to_dti\n",
    "from autumn.core.plots.utils import REF_DATE\n",
    "from autumn.core.project import get_project, load_timeseries\n",
    "from autumn.settings.region import Region\n"
   ]
  },
  {
   "cell_type": "code",
   "execution_count": null,
   "metadata": {},
   "outputs": [],
   "source": [
    "project = get_project(\"sm_covid2\", Region.FRANCE)"
   ]
  },
  {
   "cell_type": "code",
   "execution_count": null,
   "metadata": {},
   "outputs": [],
   "source": [
    "all_targets = project.plots\n",
    "for target in all_targets:\n",
    "    all_targets[target]['times'] = ref_times_to_dti(REF_DATE, all_targets[target]['times'])  "
   ]
  },
  {
   "cell_type": "markdown",
   "metadata": {},
   "source": [
    "### Run a calibration to initialise the calibration object so we can then access likelihood methods"
   ]
  },
  {
   "cell_type": "code",
   "execution_count": null,
   "metadata": {},
   "outputs": [],
   "source": [
    "project.calibration.run(\n",
    "    project,1,1,1, \n",
    "    derived_outputs_to_plot=[o for o in project.plots if (o != 'death_missed_school_ratio') and not(\"_diff_\" in o)]\n",
    ")\n",
    "cal = project.calibration"
   ]
  },
  {
   "cell_type": "code",
   "execution_count": null,
   "metadata": {},
   "outputs": [],
   "source": [
    "params_dict = {}"
   ]
  },
  {
   "cell_type": "code",
   "execution_count": null,
   "metadata": {},
   "outputs": [],
   "source": [
    "params_dict[\"MLE\"] = {\n",
    "    \"contact_rate\":0.02995841309828505,\n",
    "    \"age_stratification.ifr.multiplier\": 0.5230259999804419,\n",
    "    \"contact_rate\": 0.02995841309828505,\n",
    "    \"infectious_seed_time\": 11.30050215485564,\n",
    "    \"random_process.delta_values(1)\": -1.0750580960048195,\n",
    "    \"random_process.delta_values(2)\": 0.10748516201969016,\n",
    "    \"random_process.delta_values(3)\": -0.02592371505135227,\n",
    "    \"random_process.delta_values(4)\": 0.14610440885209375,\n",
    "    \"random_process.delta_values(5)\": 0.5837441720378771,\n",
    "    \"random_process.delta_values(6)\": 0.2156486490935401,\n",
    "    \"random_process.delta_values(7)\": -0.5831829534201922,\n",
    "    \"random_process.delta_values(8)\": 0.2863577626289051,\n",
    "    \"random_process.delta_values(9)\":-0.10010896231338395,\n",
    "    \"random_process.delta_values(10)\":  0.06635744365345397,\n",
    "    \"random_process.delta_values(11)\":  -0.32018571814026453,\n",
    "    \"random_process.delta_values(12)\": 0.6020370141695954,\n",
    "    \"random_process.delta_values(13)\":  -0.06375841140441674,\n",
    "    \"random_process.delta_values(14)\": -1.1297818666973602,\n",
    "    \"random_process.delta_values(15)\": 0.7890782568598431,\n",
    "    \"random_process.delta_values(16)\":  0.19870559032908952,\n",
    "    \"random_process.delta_values(17)\":  -0.37801029096815,\n",
    "    \"random_process.delta_values(18)\": -0.39898763083626965,\n",
    "    \"random_process.delta_values(19)\": 0.41529007067837176,\n",
    "    \"random_process.delta_values(20)\":  0.6853125885986571,\n",
    "    \"random_process.delta_values(21)\":  -0.5415914511333617,\n",
    "\n",
    "    \"random_process.noise_sd\": 0.5147739301564118,\n",
    "    \"voc_emergence.delta.new_voc_seed.time_from_gisaid_report\": 20.986017544884035,\n",
    "}"
   ]
  },
  {
   "cell_type": "code",
   "execution_count": null,
   "metadata": {},
   "outputs": [],
   "source": [
    "params_dict[\"manual\"] = {\n",
    "    \"contact_rate\":0.02995841309828505,\n",
    "    \"age_stratification.ifr.multiplier\": 0.5230259999804419,\n",
    "    \"contact_rate\": 0.02995841309828505,\n",
    "    \"infectious_seed_time\": 11.30050215485564,\n",
    "    \"random_process.delta_values(1)\": -1.0750580960048195,\n",
    "    \"random_process.delta_values(2)\": 0.10748516201969016,\n",
    "    \"random_process.delta_values(3)\": -0.02592371505135227,\n",
    "    \"random_process.delta_values(4)\": 0.14610440885209375,\n",
    "    \"random_process.delta_values(5)\": 0.5837441720378771,\n",
    "    \"random_process.delta_values(6)\": 0.2156486490935401,\n",
    "    \"random_process.delta_values(7)\": -0.4,  # -0.5831829534201922,\n",
    "    \"random_process.delta_values(8)\": -.2, # 0.2863577626289051,\n",
    "    \"random_process.delta_values(9)\": 0.2, # -0.10010896231338395,\n",
    "    \"random_process.delta_values(10)\": 0.1, # 0.06635744365345397,\n",
    "    \"random_process.delta_values(11)\": -0.2, # -0.32018571814026453,\n",
    "    \"random_process.delta_values(12)\": .5, # 0.6020370141695954,\n",
    "    \"random_process.delta_values(13)\": -.2,  # -0.06375841140441674,\n",
    "    \"random_process.delta_values(14)\": -1.1297818666973602,\n",
    "    \"random_process.delta_values(15)\": 0.7890782568598431,\n",
    "    \"random_process.delta_values(16)\": .3 , # 0.19870559032908952,\n",
    "    \"random_process.delta_values(17)\": -.5, # -0.37801029096815,\n",
    "    \"random_process.delta_values(18)\": -0.39898763083626965,\n",
    "    \"random_process.delta_values(19)\": .6, #0.41529007067837176,\n",
    "    \"random_process.delta_values(20)\": .6, # 0.6853125885986571,\n",
    "    \"random_process.delta_values(21)\": -.7, # -0.5415914511333617\n",
    "\n",
    "    \"random_process.noise_sd\": 0.5147739301564118,\n",
    "    \"voc_emergence.delta.new_voc_seed.time_from_gisaid_report\": 20.986017544884035,\n",
    "}"
   ]
  },
  {
   "cell_type": "code",
   "execution_count": null,
   "metadata": {},
   "outputs": [],
   "source": [
    "params = {\n",
    "    \"MLE\": project.param_set.baseline.update(params_dict[\"MLE\"], calibration_format=True),\n",
    "    \"manual\": project.param_set.baseline.update(params_dict[\"manual\"], calibration_format=True)\n",
    "}\n",
    "\n",
    "models, derived_dfs = {}, {}\n",
    "for run in [\"MLE\", \"manual\"]:\n",
    "    models[run] = project.run_baseline_model(params[run])  \n",
    "    derived_dfs[run] = model.get_derived_outputs_df()\n"
   ]
  },
  {
   "cell_type": "code",
   "execution_count": null,
   "metadata": {},
   "outputs": [],
   "source": [
    "\n",
    "outputs = [\"infection_deaths\", \"cumulative_infection_deaths\", \"transformed_random_process\"] #, \"hospital_admissions\", \"hospital_occupancy\", \"icu_admissions\", \"icu_occupancy\"]\n",
    "for output in outputs:\n",
    "    fig = pyplot.figure(figsize=(12, 8))\n",
    "    pyplot.style.use(\"ggplot\")\n",
    "    axis = fig.add_subplot()\n",
    "\n",
    "    for run in [\"MLE\", \"manual\"]:\n",
    "        derived_dfs[run][output].plot(label=run)\n",
    "    axis.set_title(output)\n",
    "    \n",
    "    if output in all_targets:\n",
    "        # all_targets[output].plot.line(ax=axis, linewidth=0., markersize=10., marker=\"o\")\n",
    "        axis.scatter(all_targets[output]['times'], all_targets[output]['values'], color=\"k\", s=5, alpha=0.5, zorder=10)         \n",
    "\n",
    "    # add random process indicators\n",
    "    if output == \"transformed_random_process\":\n",
    "        y_text = 1.\n",
    "    else:\n",
    "        y_text = 0.\n",
    "    start_time = params[\"MLE\"]['random_process']['time']['start']\n",
    "    step = params[\"MLE\"]['random_process']['time']['step']\n",
    "    for i in range(len(params[\"MLE\"]['random_process']['delta_values'])):\n",
    "        date = ref_times_to_dti(REF_DATE, [start_time + i * step])[0] \n",
    "        axis.text(x=date, y=1., s=str(i), ha=\"center\", va=\"top\")\n",
    "    \n",
    "    axis.legend()\n",
    "\n",
    "log_likelihoods, log_priors, log_posteriors = {}, {}, {}\n",
    "rp = cal.random_process\n",
    "for run in [\"MLE\", \"manual\"]:\n",
    "    rp.delta_values = params[run][\"random_process\"][\"delta_values\"]\n",
    "    log_likelihoods[run] = cal.loglikelihood(params_dict[run])\n",
    "    log_priors[run] = cal.logprior(params_dict[run]) + rp.evaluate_rp_loglikelihood()\n",
    "    log_posteriors[run] = log_likelihoods[run] + log_priors[run]\n",
    "\n",
    "print(f\"log_priors: {log_priors}\")\n",
    "print(f\"log_likelihoods: {log_likelihoods}\")\n",
    "print(f\"log_posteriors: {log_posteriors}\")\n",
    "# accept proba\n",
    "best = \"manual\" if  log_posteriors[\"manual\"] >= log_posteriors[\"MLE\"] else \"MLE\"\n",
    "print(f\"Best run is: {best}\")\n",
    "accept_proba = 100 * exp(-abs(log_posteriors['MLE'] - log_posteriors['manual']))\n",
    "print(f\"Proba of transition to worse run: {round(accept_proba)}%\")"
   ]
  }
 ],
 "metadata": {
  "interpreter": {
   "hash": "7afc08b952f75bca94590012dd49682c815a0fa68720c270ce23d7ae27bf110a"
  },
  "kernelspec": {
   "display_name": "Python 3.10.3 ('autumn310')",
   "language": "python",
   "name": "python3"
  },
  "language_info": {
   "codemirror_mode": {
    "name": "ipython",
    "version": 3
   },
   "file_extension": ".py",
   "mimetype": "text/x-python",
   "name": "python",
   "nbconvert_exporter": "python",
   "pygments_lexer": "ipython3",
   "version": "3.10.3"
  }
 },
 "nbformat": 4,
 "nbformat_minor": 2
}
