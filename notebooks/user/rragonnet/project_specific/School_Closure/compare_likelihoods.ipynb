{
 "cells": [
  {
   "cell_type": "code",
   "execution_count": null,
   "metadata": {},
   "outputs": [],
   "source": [
    "from copy import copy \n",
    "from matplotlib import pyplot as plt\n",
    "import datetime\n",
    "\n",
    "import summer2\n",
    "from summer.utils import ref_times_to_dti\n",
    "\n",
    "from autumn.core.project import get_project, load_timeseries\n",
    "from autumn.core.project.params import get_with_nested_key\n",
    "\n",
    "# Targets represent data we are trying to fit to\n",
    "from estival import targets as est\n",
    "# We specify parameters using (Bayesian) priors\n",
    "from estival import priors as esp\n",
    "# Finally we combine these with our summer2 model in a BayesianCompartmentalModel (BCM)\n",
    "from estival.model import BayesianCompartmentalModel"
   ]
  },
  {
   "attachments": {},
   "cell_type": "markdown",
   "metadata": {},
   "source": [
    "# Some preliminary code"
   ]
  },
  {
   "attachments": {},
   "cell_type": "markdown",
   "metadata": {},
   "source": [
    "### Load project, model and targets"
   ]
  },
  {
   "cell_type": "code",
   "execution_count": null,
   "metadata": {},
   "outputs": [],
   "source": [
    "project = get_project(\"sm_covid2\", \"france\")\n",
    "death_target = project.calibration.targets[0]\n",
    "\n",
    "default_params = project.param_set.baseline\n",
    "m = project.build_model(default_params.to_dict()) "
   ]
  },
  {
   "cell_type": "code",
   "execution_count": null,
   "metadata": {},
   "outputs": [],
   "source": [
    "death_target.data =  death_target.data[death_target.data > 100].loc[:700]"
   ]
  },
  {
   "cell_type": "code",
   "execution_count": null,
   "metadata": {},
   "outputs": [],
   "source": [
    "targets = [\n",
    "    # est.NegativeBinomialTarget(name=\"infection_deaths\", data=death_target.data, dispersion_param=100.)\n",
    "    est.NormalTarget(name=\"infection_deaths\", data=death_target.data, stdev=100.)\n",
    "]"
   ]
  },
  {
   "attachments": {},
   "cell_type": "markdown",
   "metadata": {},
   "source": [
    "### Format priors to use in estival"
   ]
  },
  {
   "cell_type": "code",
   "execution_count": null,
   "metadata": {},
   "outputs": [],
   "source": [
    "def get_estival_uniform_priors(autumn_priors):\n",
    "    estival_priors = []\n",
    "    for prior_dict in autumn_priors:\n",
    "        assert prior_dict[\"distribution\"] == \"uniform\", \"Only uniform priors are currently supported\"\n",
    "        estival_priors.append(\n",
    "            esp.UniformPrior(prior_dict[\"param_name\"], prior_dict[\"distri_params\"]),\n",
    "        ) \n",
    "    return estival_priors\n",
    "    "
   ]
  },
  {
   "cell_type": "code",
   "execution_count": null,
   "metadata": {},
   "outputs": [],
   "source": [
    "priors = get_estival_uniform_priors(project.calibration.all_priors)"
   ]
  },
  {
   "attachments": {},
   "cell_type": "markdown",
   "metadata": {},
   "source": [
    "### Create BayesianCompartmentalModel object"
   ]
  },
  {
   "cell_type": "code",
   "execution_count": null,
   "metadata": {},
   "outputs": [],
   "source": [
    "bcm = BayesianCompartmentalModel(m, default_params.to_dict(), priors, targets)"
   ]
  },
  {
   "attachments": {},
   "cell_type": "markdown",
   "metadata": {},
   "source": [
    "### Helper function to plot model fit to data"
   ]
  },
  {
   "cell_type": "code",
   "execution_count": null,
   "metadata": {},
   "outputs": [],
   "source": [
    "def plot_fit(bcm, params):\n",
    "\n",
    "    REF_DATE = datetime.date(2019,12,31)\n",
    "    datetime_target = copy(bcm.targets[\"infection_deaths\"].data)\n",
    "    datetime_target.index = ref_times_to_dti(REF_DATE, datetime_target.index)\n",
    "\n",
    "    ax = bcm.run(params).derived_outputs[\"infection_deaths\"].plot()\n",
    "    datetime_target.plot(style='.')\n",
    "    ll = bcm.loglikelihood(**params)\n",
    "\n",
    "    text = f\"ll={round(ll, 4)}\"\n",
    "    plt.text(0.8, 0.9, text, transform=ax.transAxes)"
   ]
  },
  {
   "attachments": {},
   "cell_type": "markdown",
   "metadata": {},
   "source": [
    "# Compare model fits"
   ]
  },
  {
   "cell_type": "code",
   "execution_count": null,
   "metadata": {},
   "outputs": [],
   "source": [
    "mle_file_params = {\n",
    "    \"infection_deaths_dispersion_param\": 62.54504840986004,\n",
    "    \"infectious_seed_time\": 30.447925441292778,\n",
    "    \"random_process.delta_values(1)\": -1.306496185258189,\n",
    "    \"random_process.delta_values(10)\": 0.12138039221640762,\n",
    "    \"random_process.delta_values(11)\": 0.6411075116621299,\n",
    "    \"random_process.delta_values(2)\": 0.11250765346332026,\n",
    "    \"random_process.delta_values(3)\": 0.5009919549420943,\n",
    "    \"random_process.delta_values(4)\": -0.06375110616249913,\n",
    "    \"random_process.delta_values(5)\": -0.24028730546991617,\n",
    "    \"random_process.delta_values(6)\": 0.2606697551298094,\n",
    "    \"random_process.delta_values(7)\": -0.13194034829544132,\n",
    "    \"random_process.delta_values(8)\": -0.3559750720412327,\n",
    "    \"random_process.delta_values(9)\": 0.04754597441674813,\n",
    "    \"random_process.noise_sd\": 0.5835215881701278,\n",
    "    \"voc_emergence.delta.new_voc_seed.time_from_gisaid_report\": 18.52679245171894\n",
    "}"
   ]
  },
  {
   "cell_type": "code",
   "execution_count": null,
   "metadata": {},
   "outputs": [],
   "source": [
    "suggested_params = {}\n",
    "for param_string in bcm.priors:\n",
    "    try:\n",
    "        suggested_params[param_string] = get_with_nested_key(default_params.to_dict(), param_string)\n",
    "    except:\n",
    "        if param_string in mle_file_params:\n",
    "            suggested_params[param_string] = mle_file_params[param_string]\n",
    "        else:\n",
    "            print(f\"No default value found for {param_string}\")\n"
   ]
  },
  {
   "cell_type": "code",
   "execution_count": null,
   "metadata": {},
   "outputs": [],
   "source": [
    "plot_fit(bcm, suggested_params)"
   ]
  },
  {
   "cell_type": "code",
   "execution_count": null,
   "metadata": {},
   "outputs": [],
   "source": [
    "\n",
    "flat_epi_params = copy(suggested_params)\n",
    "flat_epi_params.update({\"contact_rate\": 0.0})"
   ]
  },
  {
   "cell_type": "code",
   "execution_count": null,
   "metadata": {},
   "outputs": [],
   "source": [
    "plot_fit(bcm, flat_epi_params)"
   ]
  }
 ],
 "metadata": {
  "interpreter": {
   "hash": "7afc08b952f75bca94590012dd49682c815a0fa68720c270ce23d7ae27bf110a"
  },
  "kernelspec": {
   "display_name": "Python 3.10.3 ('autumn310')",
   "language": "python",
   "name": "python3"
  },
  "language_info": {
   "codemirror_mode": {
    "name": "ipython",
    "version": 3
   },
   "file_extension": ".py",
   "mimetype": "text/x-python",
   "name": "python",
   "nbconvert_exporter": "python",
   "pygments_lexer": "ipython3",
   "version": "3.10.3"
  }
 },
 "nbformat": 4,
 "nbformat_minor": 2
}
