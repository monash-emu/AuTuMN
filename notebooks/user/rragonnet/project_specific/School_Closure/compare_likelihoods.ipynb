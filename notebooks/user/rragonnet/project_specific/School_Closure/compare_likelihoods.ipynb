{
 "cells": [
  {
   "cell_type": "code",
   "execution_count": null,
   "metadata": {},
   "outputs": [],
   "source": [
    "from matplotlib import pyplot\n",
    "import os\n",
    "from numpy import exp\n",
    "\n",
    "from summer.utils import ref_times_to_dti\n",
    "from autumn.core.plots.utils import REF_DATE\n",
    "from autumn.core.project import get_project, load_timeseries\n",
    "from autumn.settings.region import Region\n"
   ]
  },
  {
   "cell_type": "code",
   "execution_count": null,
   "metadata": {},
   "outputs": [],
   "source": [
    "project = get_project(\"sm_covid2\", Region.FRANCE)"
   ]
  },
  {
   "cell_type": "code",
   "execution_count": null,
   "metadata": {},
   "outputs": [],
   "source": [
    "all_targets = project.plots\n",
    "for target in all_targets:\n",
    "    all_targets[target]['times'] = ref_times_to_dti(REF_DATE, all_targets[target]['times'])  "
   ]
  },
  {
   "cell_type": "markdown",
   "metadata": {},
   "source": [
    "### Run a calibration to initialise the calibration object so we can then access likelihood methods"
   ]
  },
  {
   "cell_type": "code",
   "execution_count": null,
   "metadata": {},
   "outputs": [],
   "source": [
    "project.calibration.run(\n",
    "    project,1,1,1, \n",
    "    derived_outputs_to_plot=[o for o in project.plots if (o != 'death_missed_school_ratio') and not(\"_diff_\" in o)]\n",
    ")\n",
    "cal = project.calibration"
   ]
  },
  {
   "cell_type": "code",
   "execution_count": null,
   "metadata": {},
   "outputs": [],
   "source": [
    "params_dict = {}"
   ]
  },
  {
   "cell_type": "code",
   "execution_count": null,
   "metadata": {},
   "outputs": [],
   "source": [
    "params_dict[\"MLE\"] = {\n",
    "    \"age_stratification.ifr.multiplier\": 0.6251547198659229,\n",
    "    \"contact_rate\": 0.03164074788281637,\n",
    "    \"infectious_seed_time\": 19.04893117520397,\n",
    "    \"random_process.delta_values(1)\": -0.18311593187612196,\n",
    "    \"random_process.delta_values(10)\": 0.4789775730590282,\n",
    "    \"random_process.delta_values(11)\": -0.31119184520705256,\n",
    "    \"random_process.delta_values(12)\": -0.305381101610086,\n",
    "    \"random_process.delta_values(13)\": 0.1470561631388123,\n",
    "    \"random_process.delta_values(14)\": 0.13205418399338864,\n",
    "    \"random_process.delta_values(15)\": 0.09366230292816935,\n",
    "    \"random_process.delta_values(16)\": -0.2806266310059893,\n",
    "    \"random_process.delta_values(17)\": 0.015928866798155195,\n",
    "    \"random_process.delta_values(18)\": 0.08695028608645572,\n",
    "    \"random_process.delta_values(19)\": 0.017006740282116795,\n",
    "    \"random_process.delta_values(2)\": -0.13024041911952744,\n",
    "    \"random_process.delta_values(20)\": -0.012000468861728564,\n",
    "    \"random_process.delta_values(21)\": 0.1043431978884164,\n",
    "    \"random_process.delta_values(22)\": 0.2812843842216628,\n",
    "    \"random_process.delta_values(23)\": -0.3345567730471908,\n",
    "    \"random_process.delta_values(24)\": 0.03645052677553595,\n",
    "    \"random_process.delta_values(25)\": 0.07113806321627703,\n",
    "    \"random_process.delta_values(26)\": -0.034573686994065156,\n",
    "    \"random_process.delta_values(27)\": 0.1792438749670775,\n",
    "    \"random_process.delta_values(28)\": -0.39841289667549495,\n",
    "    \"random_process.delta_values(29)\": 0.22949830881622546,\n",
    "    \"random_process.delta_values(3)\": -0.5668027993286127,\n",
    "    \"random_process.delta_values(30)\": -0.11393810182829278,\n",
    "    \"random_process.delta_values(31)\": -0.6309376285029871,\n",
    "    \"random_process.delta_values(32)\": 0.3933673622046312,\n",
    "    \"random_process.delta_values(33)\": 0.26901543234807423,\n",
    "    \"random_process.delta_values(34)\": -0.019319087259375367,\n",
    "    \"random_process.delta_values(35)\": -0.05520047347714474,\n",
    "    \"random_process.delta_values(36)\": -0.17379319177880292,\n",
    "    \"random_process.delta_values(37)\": -0.2029752912323639,\n",
    "    \"random_process.delta_values(38)\": 0.32268039133362425,\n",
    "    \"random_process.delta_values(39)\": -0.48266233497041133,\n",
    "    \"random_process.delta_values(4)\": -0.5836969423870215,\n",
    "    \"random_process.delta_values(40)\": -0.004616222494904898,\n",
    "    \"random_process.delta_values(41)\": 0.9602355727696343,\n",
    "    \"random_process.delta_values(42)\": -0.1889024490144937,\n",
    "    \"random_process.delta_values(43)\": -0.027964054675037042,\n",
    "    \"random_process.delta_values(44)\": -0.3891547841061338,\n",
    "    \"random_process.delta_values(45)\": 0.44224519504957316,\n",
    "    \"random_process.delta_values(5)\": 0.3545964410088338,\n",
    "    \"random_process.delta_values(6)\": -0.16607901387788715,\n",
    "    \"random_process.delta_values(7)\": 0.49994487800575405,\n",
    "    \"random_process.delta_values(8)\": 0.3344108490198745,\n",
    "    \"random_process.delta_values(9)\": -0.22013880066105562,\n",
    "    \"random_process.noise_sd\": 0.62906649205768,\n",
    "    \"voc_emergence.delta.new_voc_seed.time_from_gisaid_report\": 29.5352965161684\n",
    "}"
   ]
  },
  {
   "cell_type": "code",
   "execution_count": null,
   "metadata": {},
   "outputs": [],
   "source": [
    "params_dict[\"manual\"] = {\n",
    "    \"age_stratification.ifr.multiplier\": 0.6251547198659229,\n",
    "    \"contact_rate\": 0.03164074788281637,\n",
    "    \"infectious_seed_time\": 19.04893117520397,\n",
    "    \"random_process.delta_values(1)\": -0.18311593187612196,\n",
    "    \"random_process.delta_values(10)\": 0.4789775730590282,\n",
    "    \"random_process.delta_values(11)\": -0.31119184520705256,\n",
    "    \"random_process.delta_values(12)\": -0.305381101610086,\n",
    "    \"random_process.delta_values(13)\": 0.1470561631388123,\n",
    "    \"random_process.delta_values(14)\": 0.13205418399338864,\n",
    "    \"random_process.delta_values(15)\":  0.0, # 0.09366230292816935,\n",
    "    \"random_process.delta_values(16)\": -0.2806266310059893,\n",
    "    \"random_process.delta_values(17)\": 0.015928866798155195,\n",
    "    \"random_process.delta_values(18)\": 0.08695028608645572,\n",
    "    \"random_process.delta_values(19)\": 0.017006740282116795,\n",
    "    \"random_process.delta_values(2)\": -0.13024041911952744,\n",
    "    \"random_process.delta_values(20)\": -0.012000468861728564,\n",
    "    \"random_process.delta_values(21)\": 0.1043431978884164,\n",
    "    \"random_process.delta_values(22)\": 0.2812843842216628,\n",
    "    \"random_process.delta_values(23)\": -0.3345567730471908,\n",
    "    \"random_process.delta_values(24)\": 0.03645052677553595,\n",
    "    \"random_process.delta_values(25)\": 0.07113806321627703,\n",
    "    \"random_process.delta_values(26)\": -0.034573686994065156,\n",
    "    \"random_process.delta_values(27)\": 0.1792438749670775,\n",
    "    \"random_process.delta_values(28)\": -0.39841289667549495,\n",
    "    \"random_process.delta_values(29)\": 0.22949830881622546,\n",
    "    \"random_process.delta_values(3)\": -0.5668027993286127,\n",
    "    \"random_process.delta_values(30)\": -0.11393810182829278,\n",
    "    \"random_process.delta_values(31)\": -0.6309376285029871,\n",
    "    \"random_process.delta_values(32)\": 0.3933673622046312,\n",
    "    \"random_process.delta_values(33)\": 0.26901543234807423,\n",
    "    \"random_process.delta_values(34)\": -0.019319087259375367,\n",
    "    \"random_process.delta_values(35)\": -0.05520047347714474,\n",
    "    \"random_process.delta_values(36)\": -0.17379319177880292,\n",
    "    \"random_process.delta_values(37)\": -0.2029752912323639,\n",
    "    \"random_process.delta_values(38)\": 0.32268039133362425,\n",
    "    \"random_process.delta_values(39)\": -0.48266233497041133,\n",
    "    \"random_process.delta_values(4)\": -0.5836969423870215,\n",
    "    \"random_process.delta_values(40)\": -0.004616222494904898,\n",
    "    \"random_process.delta_values(41)\": 0.9602355727696343,\n",
    "    \"random_process.delta_values(42)\": -0.1889024490144937,\n",
    "    \"random_process.delta_values(43)\": -0.027964054675037042,\n",
    "    \"random_process.delta_values(44)\": -0.3891547841061338,\n",
    "    \"random_process.delta_values(45)\": 0.44224519504957316,\n",
    "    \"random_process.delta_values(5)\": 0.3545964410088338,\n",
    "    \"random_process.delta_values(6)\": -0.16607901387788715,\n",
    "    \"random_process.delta_values(7)\": 0.49994487800575405,\n",
    "    \"random_process.delta_values(8)\": 0.3344108490198745,\n",
    "    \"random_process.delta_values(9)\": -0.22013880066105562,\n",
    "    \"random_process.noise_sd\": 0.62906649205768,\n",
    "    \"voc_emergence.delta.new_voc_seed.time_from_gisaid_report\": 29.5352965161684\n",
    "}"
   ]
  },
  {
   "cell_type": "code",
   "execution_count": null,
   "metadata": {},
   "outputs": [],
   "source": [
    "params = {\n",
    "    \"MLE\": project.param_set.baseline.update(params_dict[\"MLE\"], calibration_format=True),\n",
    "    \"manual\": project.param_set.baseline.update(params_dict[\"manual\"], calibration_format=True)\n",
    "}\n",
    "\n",
    "models, derived_dfs = {}, {}\n",
    "for run in [\"MLE\", \"manual\"]:\n",
    "    models[run] = project.run_baseline_model(params[run])  \n",
    "    derived_dfs[run] = models[run].get_derived_outputs_df()\n"
   ]
  },
  {
   "cell_type": "code",
   "execution_count": null,
   "metadata": {},
   "outputs": [],
   "source": [
    "dispersion_params = [10, 60]\n",
    "for i in [0, 1]:    \n",
    "    cal.targets[i].dispersion_param = dispersion_params[i]\n",
    "\n",
    "outputs = [\"infection_deaths\", \"cumulative_infection_deaths\", \"transformed_random_process\"] #, \"hospital_admissions\", \"hospital_occupancy\", \"icu_admissions\", \"icu_occupancy\"]\n",
    "for output in outputs:\n",
    "    fig = pyplot.figure(figsize=(12, 8))\n",
    "    pyplot.style.use(\"ggplot\")\n",
    "    axis = fig.add_subplot()\n",
    "\n",
    "    for run in [\"MLE\", \"manual\"]:\n",
    "        derived_dfs[run][output].plot(label=run)\n",
    "    axis.set_title(output)\n",
    "    \n",
    "    if output in all_targets:\n",
    "        # all_targets[output].plot.line(ax=axis, linewidth=0., markersize=10., marker=\"o\")\n",
    "        axis.scatter(all_targets[output]['times'], all_targets[output]['values'], color=\"k\", s=5, alpha=0.5, zorder=10)         \n",
    "\n",
    "    # add random process indicators\n",
    "    if output == \"transformed_random_process\":\n",
    "        y_text = 1.\n",
    "    else:\n",
    "        y_text = 0.\n",
    "    start_time = params[\"MLE\"]['random_process']['time']['start']\n",
    "    step = params[\"MLE\"]['random_process']['time']['step']\n",
    "    for i in range(len(params[\"MLE\"]['random_process']['delta_values'])):\n",
    "        date = ref_times_to_dti(REF_DATE, [start_time + i * step])[0] \n",
    "        axis.text(x=date, y=1., s=str(i), ha=\"center\", va=\"top\")\n",
    "    \n",
    "    axis.legend()\n",
    "\n",
    "log_likelihoods, log_priors, log_posteriors = {}, {}, {}\n",
    "rp = cal.random_process\n",
    "for run in [\"MLE\", \"manual\"]:\n",
    "    rp.delta_values = params[run][\"random_process\"][\"delta_values\"]\n",
    "    log_likelihoods[run] = cal.loglikelihood(params_dict[run])\n",
    "    log_priors[run] = cal.logprior(params_dict[run]) + rp.evaluate_rp_loglikelihood()\n",
    "    log_posteriors[run] = log_likelihoods[run] + log_priors[run]\n",
    "\n",
    "print(f\"log_priors: {log_priors}\")\n",
    "print(f\"log_likelihoods: {log_likelihoods}\")\n",
    "print(f\"log_posteriors: {log_posteriors}\")\n",
    "# accept proba\n",
    "best = \"manual\" if  log_posteriors[\"manual\"] >= log_posteriors[\"MLE\"] else \"MLE\"\n",
    "print(f\"Best run is: {best}\")\n",
    "accept_proba = 100 * exp(-abs(log_posteriors['MLE'] - log_posteriors['manual']))\n",
    "print(f\"Proba of transition to worse run: {round(accept_proba)}%\")"
   ]
  },
  {
   "cell_type": "markdown",
   "metadata": {},
   "source": [
    "# Check negative binomial distribution"
   ]
  },
  {
   "cell_type": "code",
   "execution_count": null,
   "metadata": {},
   "outputs": [],
   "source": [
    "from scipy import stats\n",
    "from matplotlib import pyplot as plt\n",
    "n = 100  # this is the dispersion parameter\n",
    "\n",
    "mu = 400  # the approximate model output values\n",
    "\n",
    "p = mu / (mu + n)\n",
    "x = [round(mu/50)*i for i in range(100)]\n",
    "y = [stats.nbinom.pmf(round(t), n, 1.0 - p) for t in x]"
   ]
  },
  {
   "cell_type": "code",
   "execution_count": null,
   "metadata": {},
   "outputs": [],
   "source": [
    "plt.plot(x,y)"
   ]
  }
 ],
 "metadata": {
  "interpreter": {
   "hash": "7afc08b952f75bca94590012dd49682c815a0fa68720c270ce23d7ae27bf110a"
  },
  "kernelspec": {
   "display_name": "Python 3.10.3 ('autumn310')",
   "language": "python",
   "name": "python3"
  },
  "language_info": {
   "codemirror_mode": {
    "name": "ipython",
    "version": 3
   },
   "file_extension": ".py",
   "mimetype": "text/x-python",
   "name": "python",
   "nbconvert_exporter": "python",
   "pygments_lexer": "ipython3",
   "version": "3.10.3"
  }
 },
 "nbformat": 4,
 "nbformat_minor": 2
}
