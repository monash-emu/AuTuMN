{
 "cells": [
  {
   "cell_type": "code",
   "execution_count": null,
   "metadata": {},
   "outputs": [],
   "source": [
    "from autumn.core.inputs.database import get_input_db\n",
    "import pycountry\n",
    "import os\n",
    "import pandas as pd\n",
    "from autumn.settings.folders import DATA_PATH\n",
    "from datetime import datetime"
   ]
  },
  {
   "cell_type": "code",
   "execution_count": null,
   "metadata": {},
   "outputs": [],
   "source": [
    "\n",
    "input_db = get_input_db()"
   ]
  },
  {
   "cell_type": "code",
   "execution_count": null,
   "metadata": {},
   "outputs": [],
   "source": [
    "manual_map = {\n",
    "    \"Democratic Republic of the Congo\": \"COD\",\n",
    "    \"Laos\": \"LAO\",\n",
    "    \"U.S. Virgin Islands\": \"VIR\",\n",
    "    \"Bonaire\": \"BOS\",\n",
    "    \"Curacao\": \"CUW\",\n",
    "    \"Iran\": \"IRN\",\n",
    "    \"Reunion\": \"REU\",\n",
    "    \"Sint Maarten\": \"MAF\",\n",
    "    \"Taiwan\": \"TWN\",\n",
    "    \"USA\": \"USA\"\n",
    "}\n",
    "\n",
    "def get_iso3(country):\n",
    "    if country in manual_map:\n",
    "        return manual_map[country]\n",
    "\n",
    "\n",
    "    country_objects = pycountry.countries.search_fuzzy(country)\n",
    "    if len(country_objects) == 1:\n",
    "        return country_objects[0].alpha_3\n",
    "    else:\n",
    "        print(country)\n",
    "        return pycountry.countries.get(name=country).alpha_3"
   ]
  },
  {
   "cell_type": "markdown",
   "metadata": {},
   "source": [
    "### Excluded countries"
   ]
  },
  {
   "cell_type": "code",
   "execution_count": null,
   "metadata": {},
   "outputs": [],
   "source": [
    "excluded_countries = [\"Canary Islands\", \"Crimea\"]"
   ]
  },
  {
   "attachments": {},
   "cell_type": "markdown",
   "metadata": {},
   "source": [
    "# Population size by age (n=201)"
   ]
  },
  {
   "cell_type": "code",
   "execution_count": null,
   "metadata": {},
   "outputs": [],
   "source": [
    "pop = input_db.query(\n",
    "    table_name='population', \n",
    "    conditions= {\"year\": 2020, \"region\": None}\n",
    ")\n",
    "pop_iso3s = pop.iso3.unique()\n",
    "print(len(pop_iso3s))"
   ]
  },
  {
   "attachments": {},
   "cell_type": "markdown",
   "metadata": {},
   "source": [
    "## GISAID (n=204)"
   ]
  },
  {
   "cell_type": "code",
   "execution_count": null,
   "metadata": {},
   "outputs": [],
   "source": [
    "\n",
    "gisaid_countries = input_db.query(\n",
    "    table_name='gisaid', \n",
    "    # conditions= {\"iso_code\": \"AUS\"}\n",
    ").Country.unique()\n",
    "gisaid_countries = [c for c in gisaid_countries if c not in excluded_countries]\n",
    "gisaid_iso3s = [get_iso3(c) for c in gisaid_countries]\n",
    "\n",
    "gisaid_iso3s = list(dict.fromkeys(gisaid_iso3s)) # remove duplicates\n"
   ]
  },
  {
   "cell_type": "code",
   "execution_count": null,
   "metadata": {},
   "outputs": [],
   "source": [
    "len(gisaid_iso3s)"
   ]
  },
  {
   "cell_type": "markdown",
   "metadata": {},
   "source": [
    "## UNESCO (N=210)"
   ]
  },
  {
   "cell_type": "code",
   "execution_count": null,
   "metadata": {},
   "outputs": [],
   "source": [
    "input_db.table_names()"
   ]
  },
  {
   "cell_type": "code",
   "execution_count": null,
   "metadata": {},
   "outputs": [],
   "source": [
    "unesco_iso3s = list(input_db.query(\n",
    "     table_name='school_closure', \n",
    "    # conditions= {\"iso_code\": \"AUS\"}\n",
    ").country_id.unique())\n"
   ]
  },
  {
   "cell_type": "code",
   "execution_count": null,
   "metadata": {},
   "outputs": [],
   "source": [
    "len(unesco_iso3s)"
   ]
  },
  {
   "cell_type": "markdown",
   "metadata": {},
   "source": [
    "## SeroTracker\n",
    "Using both national and sub-national estimates but tagging those that are national"
   ]
  },
  {
   "cell_type": "code",
   "execution_count": null,
   "metadata": {},
   "outputs": [],
   "source": [
    "url=\"https://raw.githubusercontent.com/serotracker/sars-cov-2-data/main/serotracker_dataset.csv\"  # current as at 27 Mar 2023\n",
    "sero_data=pd.read_csv(url)"
   ]
  },
  {
   "cell_type": "code",
   "execution_count": null,
   "metadata": {},
   "outputs": [],
   "source": [
    "sero_data.end_date = pd.to_datetime(sero_data.sampling_end_date, format=\"%Y/%m/%d\")"
   ]
  },
  {
   "cell_type": "code",
   "execution_count": null,
   "metadata": {},
   "outputs": [],
   "source": [
    "unity_filter = sero_data[\"is_unity_aligned\"] == \"Unity-Aligned\"\n",
    "national_filter = sero_data[\"estimate_grade\"] == \"National\"\n",
    "size_filter = sero_data[\"denominator_value\"] >= 599\n",
    "date_filter = sero_data.end_date <= datetime(2021, 5, 1)"
   ]
  },
  {
   "cell_type": "code",
   "execution_count": null,
   "metadata": {},
   "outputs": [],
   "source": [
    "filtered_sero_data = sero_data[unity_filter & size_filter & date_filter]\n",
    "filtered_sero_data_national = sero_data[unity_filter & size_filter & date_filter & national_filter]"
   ]
  },
  {
   "cell_type": "code",
   "execution_count": null,
   "metadata": {},
   "outputs": [],
   "source": [
    "SeroTracker_iso3s = list(sero_data['alpha_3_code'].unique())\n",
    "SeroTracker_iso3s_national = list(filtered_sero_data_national['alpha_3_code'].unique())"
   ]
  },
  {
   "cell_type": "markdown",
   "metadata": {},
   "source": [
    "# Intercept"
   ]
  },
  {
   "cell_type": "code",
   "execution_count": null,
   "metadata": {},
   "outputs": [],
   "source": [
    "included_iso3s = [iso3 for iso3 in gisaid_iso3s if iso3 in pop_iso3s and iso3 in unesco_iso3s and iso3 in SeroTracker_iso3s]\n",
    "included_iso3s_national = [iso3 for iso3 in gisaid_iso3s if  iso3 in pop_iso3s and iso3 in unesco_iso3s and iso3 in SeroTracker_iso3s_national]\n",
    "print(len(included_iso3s))\n",
    "print(len(included_iso3s_national))"
   ]
  },
  {
   "attachments": {},
   "cell_type": "markdown",
   "metadata": {},
   "source": [
    "## Make a map"
   ]
  },
  {
   "attachments": {},
   "cell_type": "markdown",
   "metadata": {},
   "source": [
    "### All countries, including sub-national sero-surveys"
   ]
  },
  {
   "cell_type": "code",
   "execution_count": null,
   "metadata": {},
   "outputs": [],
   "source": [
    "import plotly.express as px\n",
    "\n",
    "print(f\"N counries included: {len(included_iso3s)}\")\n",
    "\n",
    "df = pd.DataFrame({'country':included_iso3s, 'value': [1.]*len(included_iso3s)})\n",
    "fig = px.choropleth(df, locations=\"country\",\n",
    "                    color=\"value\", # lifeExp is a column of gapminder\n",
    "                    # hover_name=\"country\", # column to add to hover information\n",
    ") #color_continuous_scale=px.colors.sequential.Plasma)\n",
    "fig.show()"
   ]
  },
  {
   "attachments": {},
   "cell_type": "markdown",
   "metadata": {},
   "source": [
    "### Only including national sero-surveys"
   ]
  },
  {
   "cell_type": "code",
   "execution_count": null,
   "metadata": {},
   "outputs": [],
   "source": [
    "import plotly.express as px\n",
    "print(f\"N counries included: {len(included_iso3s_national)}\")\n",
    "df = pd.DataFrame({'country':included_iso3s_national, 'value': [1.]*len(included_iso3s_national)})\n",
    "fig = px.choropleth(df, locations=\"country\",\n",
    "                    color=\"value\", # lifeExp is a column of gapminder\n",
    "                    # hover_name=\"country\", # column to add to hover information\n",
    ") #color_continuous_scale=px.colors.sequential.Plasma)\n",
    "fig.show()"
   ]
  },
  {
   "cell_type": "markdown",
   "metadata": {},
   "source": [
    "### Dump list of included countries"
   ]
  },
  {
   "cell_type": "code",
   "execution_count": null,
   "metadata": {},
   "outputs": [],
   "source": [
    "included_countries = [pycountry.countries.get(alpha_3=iso3).name for iso3 in included_iso3s]\n",
    "included_countries_national = [pycountry.countries.get(alpha_3=iso3).name for iso3 in included_iso3s_national]"
   ]
  },
  {
   "cell_type": "code",
   "execution_count": null,
   "metadata": {},
   "outputs": [],
   "source": [
    "included_dict = {\n",
    "    \"all\": {iso3: country_name for (iso3, country_name) in zip(included_iso3s, included_countries)},\n",
    "    \"national\":  {iso3: country_name for (iso3, country_name) in zip(included_iso3s_national, included_countries_national)}\n",
    "}"
   ]
  },
  {
   "cell_type": "code",
   "execution_count": null,
   "metadata": {},
   "outputs": [],
   "source": [
    "import yaml\n",
    "\n",
    "with open('included_countries.yml', 'w') as outfile:\n",
    "    yaml.dump(included_dict, outfile, default_flow_style=False)"
   ]
  }
 ],
 "metadata": {
  "kernelspec": {
   "display_name": "Python 3.10.3 ('autumn310')",
   "language": "python",
   "name": "python3"
  },
  "language_info": {
   "codemirror_mode": {
    "name": "ipython",
    "version": 3
   },
   "file_extension": ".py",
   "mimetype": "text/x-python",
   "name": "python",
   "nbconvert_exporter": "python",
   "pygments_lexer": "ipython3",
   "version": "3.10.3"
  },
  "vscode": {
   "interpreter": {
    "hash": "7afc08b952f75bca94590012dd49682c815a0fa68720c270ce23d7ae27bf110a"
   }
  }
 },
 "nbformat": 4,
 "nbformat_minor": 2
}
