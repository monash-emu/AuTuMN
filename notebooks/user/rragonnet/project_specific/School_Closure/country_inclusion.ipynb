{
 "cells": [
  {
   "cell_type": "code",
   "execution_count": null,
   "metadata": {},
   "outputs": [],
   "source": [
    "from autumn.core.inputs.database import get_input_db\n",
    "import pycountry\n",
    "import pandas as pd\n"
   ]
  },
  {
   "cell_type": "code",
   "execution_count": null,
   "metadata": {},
   "outputs": [],
   "source": [
    "\n",
    "input_db = get_input_db()"
   ]
  },
  {
   "cell_type": "code",
   "execution_count": null,
   "metadata": {},
   "outputs": [],
   "source": [
    "manual_map = {\n",
    "    \"Democratic Republic of the Congo\": \"COD\",\n",
    "    \"Laos\": \"LAO\",\n",
    "    \"U.S. Virgin Islands\": \"VIR\",\n",
    "    \"Bonaire\": \"BOS\",\n",
    "    \"Curacao\": \"CUW\",\n",
    "    \"Iran\": \"IRN\",\n",
    "    \"Reunion\": \"REU\",\n",
    "    \"Sint Maarten\": \"MAF\",\n",
    "    \"Taiwan\": \"TWN\",\n",
    "    \"USA\": \"USA\"\n",
    "}\n",
    "\n",
    "def get_iso3(country):\n",
    "    if country in manual_map:\n",
    "        return manual_map[country]\n",
    "\n",
    "\n",
    "    country_objects = pycountry.countries.search_fuzzy(country)\n",
    "    if len(country_objects) == 1:\n",
    "        return country_objects[0].alpha_3\n",
    "    else:\n",
    "        print(country)\n",
    "        return pycountry.countries.get(name=country).alpha_3"
   ]
  },
  {
   "cell_type": "markdown",
   "metadata": {},
   "source": [
    "### Excluded countries"
   ]
  },
  {
   "cell_type": "code",
   "execution_count": null,
   "metadata": {},
   "outputs": [],
   "source": [
    "excluded_countries = [\"Canary Islands\", \"Crimea\"]"
   ]
  },
  {
   "cell_type": "markdown",
   "metadata": {},
   "source": [
    "## GISAID (n=206)"
   ]
  },
  {
   "cell_type": "code",
   "execution_count": null,
   "metadata": {},
   "outputs": [],
   "source": [
    "\n",
    "gisaid_countries = input_db.query(\n",
    "    table_name='gisaid', \n",
    "    # conditions= {\"iso_code\": \"AUS\"}\n",
    ").Country.unique()\n",
    "gisaid_countries = [c for c in gisaid_countries if c not in excluded_countries]\n",
    "gisaid_iso3s = [get_iso3(c) for c in gisaid_countries]"
   ]
  },
  {
   "cell_type": "markdown",
   "metadata": {},
   "source": [
    "## UNESCO (N=210)"
   ]
  },
  {
   "cell_type": "code",
   "execution_count": null,
   "metadata": {},
   "outputs": [],
   "source": [
    "input_db.table_names()"
   ]
  },
  {
   "cell_type": "code",
   "execution_count": null,
   "metadata": {},
   "outputs": [],
   "source": [
    "unesco_iso3s = list(input_db.query(\n",
    "     table_name='school_closure', \n",
    "    # conditions= {\"iso_code\": \"AUS\"}\n",
    ").country_id.unique())\n"
   ]
  },
  {
   "cell_type": "markdown",
   "metadata": {},
   "source": [
    "## SeroTracker"
   ]
  },
  {
   "cell_type": "code",
   "execution_count": null,
   "metadata": {},
   "outputs": [],
   "source": [
    "sero_data = pd.read_csv(\"SeroTracker_ Serosurveys Reporting Prevalence.csv\")"
   ]
  },
  {
   "cell_type": "code",
   "execution_count": null,
   "metadata": {},
   "outputs": [],
   "source": [
    "national_filter = sero_data[\"Grade of Estimate Scope\"] == \"National\""
   ]
  },
  {
   "cell_type": "code",
   "execution_count": null,
   "metadata": {},
   "outputs": [],
   "source": [
    "categories_included = {\n",
    "    \"Health care workers and caregivers\": \"No\",\n",
    "    \"Household and community samples\": \"Yes\",\n",
    "    \"Residual sera\": \"Yes\",\n",
    "    \"Patients seeking care for non-COVID-19 reasons\": \"Yes\",\n",
    "    \"Blood donors\": \"Yes\",\n",
    "    \"Non-essential workers and unemployed persons\": \"Yes\",\n",
    "    \"Essential non-healthcare workers\": \"No\",\n",
    "    \"Multiple populations\": \"Check\",\n",
    "    \"Assisted living and long-term care facilities\": \"No\",\n",
    "    \"Persons who are incarcerated\": \"No\",\n",
    "    \"Pregnant or parturient women\": \"No\",\n",
    "    \"Contacts of COVID patients\": \"No\",\n",
    "    \"Students and Daycares\": \"No\",\n",
    "    \"Persons experiencing homelessness\": \"No\",\n",
    "    \"Multiple general populations\": \"Yes\",\n",
    "    \"Hospital visitors\": \"Yes\",\n",
    "    \"Perinatal\": \"No\",\n",
    "    \"Family of essential workers\": \"No\",\n",
    "    \"Representative patient population\": \"Yes\",\n",
    "    \"Persons living in slums\": \"No\",\n",
    "    \"Tissue donor\": \"Yes\",\n",
    "}\n",
    "included_subset = [category for category, value in categories_included.items() if value == \"Yes\"]\n",
    "category_filter = sero_data[\"Sample Frame (groups of interest)\"].isin(included_subset)"
   ]
  },
  {
   "cell_type": "code",
   "execution_count": null,
   "metadata": {},
   "outputs": [],
   "source": [
    "filtered_sero_data = sero_data[national_filter][category_filter][size_filter]"
   ]
  },
  {
   "cell_type": "code",
   "execution_count": null,
   "metadata": {},
   "outputs": [],
   "source": [
    "perc_columns = [\"Serum positive prevalence\", \"Serum pos prevalence, 95pct CI Lower\", \"Serum pos prevalence, 95pct CI Upper\"]\n",
    "for col in perc_columns:\n",
    "    filtered_sero_data[col] = filtered_sero_data[col].str.replace(\"%\", \"\").astype(float)"
   ]
  },
  {
   "cell_type": "code",
   "execution_count": null,
   "metadata": {},
   "outputs": [],
   "source": [
    "# a = filtered_sero_data[\"Country\"].unique()\n",
    "SeroTracker_iso3s = list(filtered_sero_data['Alpha3 Code'].unique())\n"
   ]
  },
  {
   "cell_type": "markdown",
   "metadata": {},
   "source": [
    "# Intercept"
   ]
  },
  {
   "cell_type": "code",
   "execution_count": null,
   "metadata": {},
   "outputs": [],
   "source": [
    "included_iso3s = [iso3 for iso3 in gisaid_iso3s if iso3 in unesco_iso3s and iso3 in SeroTracker_iso3s]"
   ]
  },
  {
   "cell_type": "code",
   "execution_count": null,
   "metadata": {},
   "outputs": [],
   "source": [
    "included_countries = [pycountry.countries.get(alpha_3=iso3).name for iso3 in included_iso3s]\n"
   ]
  },
  {
   "cell_type": "code",
   "execution_count": null,
   "metadata": {},
   "outputs": [],
   "source": [
    "import plotly.express as px\n",
    "\n",
    "df = pd.DataFrame({'country':included_iso3s, 'value': [1.]*len(included_iso3s)})\n",
    "\n",
    "fig = px.choropleth(df, locations=\"country\",\n",
    "                    color=\"value\", # lifeExp is a column of gapminder\n",
    "                    # hover_name=\"country\", # column to add to hover information\n",
    ") #color_continuous_scale=px.colors.sequential.Plasma)\n",
    "fig.show()"
   ]
  },
  {
   "cell_type": "code",
   "execution_count": null,
   "metadata": {},
   "outputs": [],
   "source": [
    "output_dict = {iso3: country for (iso3, country) in zip(included_iso3s, included_countries)}"
   ]
  },
  {
   "cell_type": "code",
   "execution_count": null,
   "metadata": {},
   "outputs": [],
   "source": [
    "import yaml\n",
    "\n",
    "with open('included_countries.yml', 'w') as outfile:\n",
    "    yaml.dump(output_dict, outfile, default_flow_style=False)"
   ]
  },
  {
   "cell_type": "code",
   "execution_count": null,
   "metadata": {},
   "outputs": [],
   "source": []
  }
 ],
 "metadata": {
  "kernelspec": {
   "display_name": "Python 3.10.3 ('autumn310')",
   "language": "python",
   "name": "python3"
  },
  "language_info": {
   "codemirror_mode": {
    "name": "ipython",
    "version": 3
   },
   "file_extension": ".py",
   "mimetype": "text/x-python",
   "name": "python",
   "nbconvert_exporter": "python",
   "pygments_lexer": "ipython3",
   "version": "3.10.3"
  },
  "orig_nbformat": 4,
  "vscode": {
   "interpreter": {
    "hash": "7afc08b952f75bca94590012dd49682c815a0fa68720c270ce23d7ae27bf110a"
   }
  }
 },
 "nbformat": 4,
 "nbformat_minor": 2
}
