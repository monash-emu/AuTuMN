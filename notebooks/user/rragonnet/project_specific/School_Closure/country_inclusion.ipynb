{
 "cells": [
  {
   "cell_type": "code",
   "execution_count": null,
   "metadata": {},
   "outputs": [],
   "source": [
    "from autumn.core.inputs.database import get_input_db\n",
    "import pycountry\n",
    "import os\n",
    "import pandas as pd\n",
    "from autumn.settings.folders import DATA_PATH\n",
    "from datetime import datetime"
   ]
  },
  {
   "cell_type": "code",
   "execution_count": null,
   "metadata": {},
   "outputs": [],
   "source": [
    "\n",
    "input_db = get_input_db()"
   ]
  },
  {
   "cell_type": "code",
   "execution_count": null,
   "metadata": {},
   "outputs": [],
   "source": [
    "manual_map = {\n",
    "    \"Democratic Republic of the Congo\": \"COD\",\n",
    "    \"Laos\": \"LAO\",\n",
    "    \"U.S. Virgin Islands\": \"VIR\",\n",
    "    \"Bonaire\": \"BOS\",\n",
    "    \"Curacao\": \"CUW\",\n",
    "    \"Iran\": \"IRN\",\n",
    "    \"Reunion\": \"REU\",\n",
    "    \"Sint Maarten\": \"MAF\",\n",
    "    \"Taiwan\": \"TWN\",\n",
    "    \"USA\": \"USA\"\n",
    "}\n",
    "\n",
    "def get_iso3(country):\n",
    "    if country in manual_map:\n",
    "        return manual_map[country]\n",
    "\n",
    "\n",
    "    country_objects = pycountry.countries.search_fuzzy(country)\n",
    "    if len(country_objects) == 1:\n",
    "        return country_objects[0].alpha_3\n",
    "    else:\n",
    "        print(country)\n",
    "        return pycountry.countries.get(name=country).alpha_3"
   ]
  },
  {
   "attachments": {},
   "cell_type": "markdown",
   "metadata": {},
   "source": [
    "### Excluded countries"
   ]
  },
  {
   "cell_type": "code",
   "execution_count": null,
   "metadata": {},
   "outputs": [],
   "source": [
    "excluded_countries = [\"Canary Islands\", \"Crimea\"]"
   ]
  },
  {
   "attachments": {},
   "cell_type": "markdown",
   "metadata": {},
   "source": [
    "# Population size by age (n=201)"
   ]
  },
  {
   "cell_type": "code",
   "execution_count": null,
   "metadata": {},
   "outputs": [],
   "source": [
    "pop = input_db.query(\n",
    "    table_name='population', \n",
    "    conditions= {\"year\": 2020, \"region\": None}\n",
    ")\n",
    "pop_iso3s = pop.iso3.unique()\n",
    "print(len(pop_iso3s))"
   ]
  },
  {
   "attachments": {},
   "cell_type": "markdown",
   "metadata": {},
   "source": [
    "## GISAID (n=204)"
   ]
  },
  {
   "cell_type": "code",
   "execution_count": null,
   "metadata": {},
   "outputs": [],
   "source": [
    "\n",
    "gisaid_countries = input_db.query(\n",
    "    table_name='gisaid', \n",
    "    # conditions= {\"iso_code\": \"AUS\"}\n",
    ").Country.unique()\n",
    "gisaid_countries = [c for c in gisaid_countries if c not in excluded_countries]\n",
    "gisaid_iso3s = [get_iso3(c) for c in gisaid_countries]\n",
    "\n",
    "gisaid_iso3s = list(dict.fromkeys(gisaid_iso3s)) # remove duplicates\n"
   ]
  },
  {
   "cell_type": "code",
   "execution_count": null,
   "metadata": {},
   "outputs": [],
   "source": [
    "len(gisaid_iso3s)"
   ]
  },
  {
   "attachments": {},
   "cell_type": "markdown",
   "metadata": {},
   "source": [
    "## UNESCO (N=210)"
   ]
  },
  {
   "cell_type": "code",
   "execution_count": null,
   "metadata": {},
   "outputs": [],
   "source": [
    "input_db.table_names()"
   ]
  },
  {
   "cell_type": "code",
   "execution_count": null,
   "metadata": {},
   "outputs": [],
   "source": [
    "unesco_iso3s = list(input_db.query(\n",
    "     table_name='school_closure', \n",
    "    # conditions= {\"iso_code\": \"AUS\"}\n",
    ").country_id.unique())\n"
   ]
  },
  {
   "cell_type": "code",
   "execution_count": null,
   "metadata": {},
   "outputs": [],
   "source": [
    "len(unesco_iso3s)"
   ]
  },
  {
   "attachments": {},
   "cell_type": "markdown",
   "metadata": {},
   "source": [
    "## SeroTracker\n",
    "Using both national and sub-national estimates but tagging those that are national"
   ]
  },
  {
   "cell_type": "code",
   "execution_count": null,
   "metadata": {},
   "outputs": [],
   "source": [
    "sero_data = input_db.query(\n",
    "    table_name='sero-survey', \n",
    "    conditions= {}\n",
    ")  # database updated 27 Mar 2023"
   ]
  },
  {
   "cell_type": "code",
   "execution_count": null,
   "metadata": {},
   "outputs": [],
   "source": [
    "sero_data.end_date = pd.to_datetime(sero_data.sampling_end_date, format=\"%Y/%m/%d\")\n",
    "sero_data.start_date = pd.to_datetime(sero_data.sampling_start_date, format=\"%Y/%m/%d\")\n"
   ]
  },
  {
   "cell_type": "code",
   "execution_count": null,
   "metadata": {},
   "outputs": [],
   "source": [
    "# Eligibility filters\n",
    "unity_filter = sero_data[\"is_unity_aligned\"] == \"Unity-Aligned\"\n",
    "size_filter = sero_data[\"denominator_value\"] >= 599\n",
    "max_date_filter = sero_data.end_date <= datetime(2021, 5, 1)\n",
    "min_date_filter = sero_data.start_date >= datetime(2020, 5, 1)\n",
    "\n",
    "\n",
    "# Pick the primary estimate (always available)\n",
    "subgroup_filter = sero_data.subgroup_var == \"Primary Estimate\"\n",
    "\n",
    "# National-level filter\n",
    "national_filter = sero_data[\"estimate_grade\"] == \"National\""
   ]
  },
  {
   "cell_type": "code",
   "execution_count": null,
   "metadata": {},
   "outputs": [],
   "source": [
    "# More eligibility filters using \"red flags\"\n",
    "red_flags = [\n",
    "   \"210109_Australia_AustralianNationalUniversity\",  # \"Prevalence of asymptomatic\"\n",
    "   \"220131_Australia_UniversityOfSydney_Antenatal\",  # \"only in pregnant women\"\n",
    "   \"210121_BarrioMugica_MinistryOfHealthOfTheCityOfBuenosAires\",  # focusing on slum population\n",
    "   \"211211_Vietnam_UniversityofSydney_TienSubCommune\",  # quarantine workers\n",
    "   \"211211_Vietnam_UniversityofSydney_BacMaSubCommune\",  # quarantine workers\n",
    "   \"221212_USA_RTIInternational_DRC\", # pregnant women\n",
    "   \"221212_USA_RTIInternational_Guatemala\", # pregnant women\n",
    "]\n",
    "redflag_filter = ~sero_data[\"study_name\"].isin(red_flags)"
   ]
  },
  {
   "cell_type": "code",
   "execution_count": null,
   "metadata": {},
   "outputs": [],
   "source": [
    "filtered_sero_data_national = sero_data[unity_filter & size_filter & min_date_filter & max_date_filter & national_filter & subgroup_filter & redflag_filter] "
   ]
  },
  {
   "cell_type": "code",
   "execution_count": null,
   "metadata": {},
   "outputs": [],
   "source": [
    "SeroTracker_iso3s_national = list(filtered_sero_data_national['alpha_3_code'].unique())"
   ]
  },
  {
   "attachments": {},
   "cell_type": "markdown",
   "metadata": {},
   "source": [
    "# Intercept"
   ]
  },
  {
   "cell_type": "code",
   "execution_count": null,
   "metadata": {},
   "outputs": [],
   "source": [
    "included_iso3s = [iso3 for iso3 in gisaid_iso3s if iso3 in pop_iso3s and iso3 in unesco_iso3s]\n",
    "included_iso3s_national_sero = [iso3 for iso3 in gisaid_iso3s if iso3 in pop_iso3s and iso3 in unesco_iso3s and iso3 in SeroTracker_iso3s_national]\n",
    "print(len(included_iso3s))\n",
    "print(len(included_iso3s_national_sero))"
   ]
  },
  {
   "attachments": {},
   "cell_type": "markdown",
   "metadata": {},
   "source": [
    "### Apply preferential filters to select one sero estimate per country and export the results as csv files "
   ]
  },
  {
   "cell_type": "code",
   "execution_count": null,
   "metadata": {},
   "outputs": [],
   "source": [
    "iso3_list = included_iso3s_national_sero\n",
    "full_data = filtered_sero_data_national\n",
    "\n",
    "output_data = pd.DataFrame(columns=full_data.columns)\n",
    "\n",
    "for iso3 in iso3_list:\n",
    "    country_data = full_data[full_data['alpha_3_code'] == iso3]\n",
    "    \n",
    "    # we prefer to use data with the lowest risk of bias possible \n",
    "    country_data = country_data.replace(\n",
    "        [\"['Low']\", \"['Moderate']\", \"['High']\"], \n",
    "        [2, 1, 0]\n",
    "    )        \n",
    "    country_data = country_data[country_data['overall_risk_of_bias'] == max(country_data['overall_risk_of_bias'])]\n",
    "\n",
    "    # we prioritise the largest sample size\n",
    "    country_data = country_data[country_data['denominator_value'] == max(country_data['denominator_value'])]\n",
    "    \n",
    "    assert len(country_data) == 1, \"More than one estimates found\"\n",
    "\n",
    "    output_data = pd.concat([output_data, country_data])\n",
    "\n",
    "output_data.to_csv(f\"serodata_national.csv\")"
   ]
  },
  {
   "attachments": {},
   "cell_type": "markdown",
   "metadata": {},
   "source": [
    "## Make a map"
   ]
  },
  {
   "attachments": {},
   "cell_type": "markdown",
   "metadata": {},
   "source": [
    "### All included countries"
   ]
  },
  {
   "cell_type": "code",
   "execution_count": null,
   "metadata": {},
   "outputs": [],
   "source": [
    "import plotly.express as px\n",
    "\n",
    "print(f\"N counries included: {len(included_iso3s)}\")\n",
    "\n",
    "df = pd.DataFrame({'country':included_iso3s, 'value': [1.]*len(included_iso3s)})\n",
    "fig = px.choropleth(df, locations=\"country\",\n",
    "                    color=\"value\", # lifeExp is a column of gapminder\n",
    "                    # hover_name=\"country\", # column to add to hover information\n",
    ") #color_continuous_scale=px.colors.sequential.Plasma)\n",
    "fig.show()\n",
    "\n",
    "fig.write_image(\"map_all_countries.pdf\")"
   ]
  },
  {
   "attachments": {},
   "cell_type": "markdown",
   "metadata": {},
   "source": [
    "### Only including national sero-surveys"
   ]
  },
  {
   "cell_type": "code",
   "execution_count": null,
   "metadata": {},
   "outputs": [],
   "source": [
    "import plotly.express as px\n",
    "print(f\"N counries included: {len(included_iso3s_national_sero)}\")\n",
    "df = pd.DataFrame({'country':included_iso3s_national_sero, 'value': [1.]*len(included_iso3s_national_sero)})\n",
    "fig = px.choropleth(df, locations=\"country\",\n",
    "                    color=\"value\", # lifeExp is a column of gapminder\n",
    "                    # hover_name=\"country\", # column to add to hover information\n",
    ") #color_continuous_scale=px.colors.sequential.Plasma)\n",
    "fig.show()\n",
    "\n",
    "\n",
    "fig.write_image(\"map_national_sero.pdf\")"
   ]
  },
  {
   "attachments": {},
   "cell_type": "markdown",
   "metadata": {},
   "source": [
    "### Dump list of included countries"
   ]
  },
  {
   "cell_type": "code",
   "execution_count": null,
   "metadata": {},
   "outputs": [],
   "source": [
    "included_countries = [pycountry.countries.get(alpha_3=iso3).name for iso3 in included_iso3s]\n",
    "included_countries_national = [pycountry.countries.get(alpha_3=iso3).name for iso3 in included_iso3s_national_sero]"
   ]
  },
  {
   "cell_type": "code",
   "execution_count": null,
   "metadata": {},
   "outputs": [],
   "source": [
    "included_dict = {\n",
    "    \"all\": {iso3: country_name for (iso3, country_name) in zip(included_iso3s, included_countries)},\n",
    "    \"national_sero\":  {iso3: country_name for (iso3, country_name) in zip(included_iso3s_national_sero, included_countries_national)}\n",
    "}"
   ]
  },
  {
   "cell_type": "code",
   "execution_count": null,
   "metadata": {},
   "outputs": [],
   "source": [
    "import yaml\n",
    "\n",
    "with open('included_countries.yml', 'w') as outfile:\n",
    "    yaml.dump(included_dict, outfile, default_flow_style=False)"
   ]
  },
  {
   "cell_type": "code",
   "execution_count": null,
   "metadata": {},
   "outputs": [],
   "source": []
  }
 ],
 "metadata": {
  "kernelspec": {
   "display_name": "Python 3.10.3 ('autumn310')",
   "language": "python",
   "name": "python3"
  },
  "language_info": {
   "codemirror_mode": {
    "name": "ipython",
    "version": 3
   },
   "file_extension": ".py",
   "mimetype": "text/x-python",
   "name": "python",
   "nbconvert_exporter": "python",
   "pygments_lexer": "ipython3",
   "version": "3.10.11"
  },
  "vscode": {
   "interpreter": {
    "hash": "7afc08b952f75bca94590012dd49682c815a0fa68720c270ce23d7ae27bf110a"
   }
  }
 },
 "nbformat": 4,
 "nbformat_minor": 2
}
