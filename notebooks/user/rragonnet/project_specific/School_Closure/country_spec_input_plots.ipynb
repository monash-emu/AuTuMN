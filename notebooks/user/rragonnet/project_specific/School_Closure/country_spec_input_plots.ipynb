{
 "cells": [
  {
   "cell_type": "code",
   "execution_count": 1,
   "metadata": {},
   "outputs": [],
   "source": [
    "from scipy import stats\n",
    "from numpy import linspace, exp\n",
    "import numpy as np\n",
    "import pandas as pd\n",
    "import matplotlib.pyplot as plt\n",
    "import matplotlib.cm as cm\n",
    "from autumn.settings.constants import COVID_BASE_DATETIME\n",
    "import datetime\n",
    "from summer.utils import ref_times_to_dti\n",
    "from autumn.core.inputs.mobility.queries import get_mobility_data\n",
    "from autumn.models.sm_sir.mixing_matrix.macrodistancing import weight_mobility_data\n",
    "from autumn.core.inputs.database import get_input_db\n",
    "\n",
    "from autumn.core import inputs\n",
    "from notebooks.user.rragonnet.project_specific.School_Closure.plotting_constants import (\n",
    "    SCHOOL_PROJECT_NOTEBOOK_PATH, \n",
    "    FIGURE_WIDTH,\n",
    "    RESOLUTION,\n",
    "    INCLUDED_COUNTRIES,\n",
    "    set_up_style\n",
    ")\n",
    "from autumn.models.sm_covid import base_params\n",
    "from autumn.core.inputs.social_mixing.build_synthetic_matrices import get_matrices_from_conmat\n",
    "import os\n",
    "\n",
    "set_up_style()\n",
    "country_input_fig_path = os.path.join(SCHOOL_PROJECT_NOTEBOOK_PATH, \"country_input_figs\")"
   ]
  },
  {
   "cell_type": "code",
   "execution_count": 3,
   "metadata": {},
   "outputs": [],
   "source": [
    "def save_figure(name, dir_path=country_input_fig_path, formats=[\"png\", \"pdf\"]):\n",
    "    for format in formats:\n",
    "        path = os.path.join(dir_path, f\"{name}.{format}\")\n",
    "        plt.savefig(path, facecolor=\"white\")"
   ]
  },
  {
   "cell_type": "markdown",
   "metadata": {},
   "source": [
    "## Google mobility"
   ]
  },
  {
   "cell_type": "code",
   "execution_count": 7,
   "metadata": {},
   "outputs": [],
   "source": [
    "dir_path = os.path.join(country_input_fig_path, \"mobility\")\n",
    "os.makedirs(dir_path, exist_ok=True)\n",
    "\n",
    "input_db = get_input_db()\n",
    "\n",
    "loc_names = {\n",
    "    \"work\": \"workplace\",\n",
    "    \"other_locations\": \"other locations\"\n",
    "}\n",
    "plot_left_date = datetime.date(2020, 1, 1)\n",
    "# plot_right_date = times[-1]  # Not sure why this is necessary\n",
    "\n",
    "# iso3_list = [\"FRA\"]\n",
    "iso3_list = list(INCLUDED_COUNTRIES.keys())\n",
    "\n",
    "for iso3 in iso3_list:\n",
    "\n",
    "    mob_df, int_times = get_mobility_data(iso3, None, COVID_BASE_DATETIME)\n",
    "    google_mob_df = weight_mobility_data(mob_df, base_params[\"mobility\"][\"google_mobility_locations\"])\n",
    "\n",
    "    times = ref_times_to_dti(COVID_BASE_DATETIME, int_times)\n",
    "    fig, ax = plt.subplots(1, 1, figsize=(0.8 * FIGURE_WIDTH, 0.6 * FIGURE_WIDTH), dpi=RESOLUTION)\n",
    "\n",
    "    for location in list(base_params[\"mobility\"][\"google_mobility_locations\"].keys()):\n",
    "        ax.plot(times, google_mob_df[location].rolling(7).mean(), label=loc_names[location])\n",
    "    ax.tick_params(axis=\"x\", labelrotation=45)\n",
    "    # ax.set_xlim(left=plot_left_date, right=plot_right_date)\n",
    "\n",
    "    # ax.set_ylim((0., y_upper))\n",
    "    ax.set_ylabel(\"mobility level\")\n",
    "\n",
    "    ax.legend(loc=\"upper left\")\n",
    "    ax.set_title(\"Google mobility data\")\n",
    "\n",
    "    plt.tight_layout(w_pad=1.5, h_pad=3.5)\n",
    "    save_figure(f\"mobility_{iso3}\", dir_path)\n",
    "    plt.close()"
   ]
  },
  {
   "cell_type": "markdown",
   "metadata": {},
   "source": [
    "## Mixing matrix"
   ]
  },
  {
   "cell_type": "code",
   "execution_count": 10,
   "metadata": {},
   "outputs": [],
   "source": [
    "dir_path = os.path.join(country_input_fig_path, \"mixing\")\n",
    "\n",
    "age_groups = base_params['age_groups']\n",
    "for iso3, country in INCLUDED_COUNTRIES.items():\n",
    "    mixing_matrices = get_matrices_from_conmat(iso3, [int(age) for age in age_groups])\n",
    "\n",
    "    fig = plt.figure(figsize=(FIGURE_WIDTH, FIGURE_WIDTH), dpi=RESOLUTION)\n",
    "    positions = [1, 2, 3, 5, 6]    \n",
    "    for i_loc, location in zip(positions, mixing_matrices.keys()):\n",
    "        ax = fig.add_subplot(2, 3, i_loc)\n",
    "        ax.imshow(\n",
    "            np.flipud(np.transpose(mixing_matrices[location])), \n",
    "            cmap=cm.hot, \n",
    "            vmin=0,\n",
    "            vmax=mixing_matrices[location].max(), \n",
    "            origin=\"lower\"\n",
    "        )\n",
    "        ax.set_title(location.replace(\"_\", \" \"))\n",
    "        ax.set_xticks([])\n",
    "        ax.set_yticks([])\n",
    "\n",
    "    plt.tight_layout(w_pad=1.5, h_pad=3.5)\n",
    "    save_figure(f\"mixing_{iso3}\", dir_path)\n",
    "    plt.close()\n",
    "    break"
   ]
  },
  {
   "cell_type": "markdown",
   "metadata": {},
   "source": [
    "## Vaccine coverage"
   ]
  },
  {
   "cell_type": "code",
   "execution_count": null,
   "metadata": {},
   "outputs": [],
   "source": []
  },
  {
   "cell_type": "code",
   "execution_count": null,
   "metadata": {},
   "outputs": [],
   "source": []
  }
 ],
 "metadata": {
  "kernelspec": {
   "display_name": "Python 3.10.3 ('autumn310')",
   "language": "python",
   "name": "python3"
  },
  "language_info": {
   "codemirror_mode": {
    "name": "ipython",
    "version": 3
   },
   "file_extension": ".py",
   "mimetype": "text/x-python",
   "name": "python",
   "nbconvert_exporter": "python",
   "pygments_lexer": "ipython3",
   "version": "3.10.3"
  },
  "vscode": {
   "interpreter": {
    "hash": "7afc08b952f75bca94590012dd49682c815a0fa68720c270ce23d7ae27bf110a"
   }
  }
 },
 "nbformat": 4,
 "nbformat_minor": 2
}
