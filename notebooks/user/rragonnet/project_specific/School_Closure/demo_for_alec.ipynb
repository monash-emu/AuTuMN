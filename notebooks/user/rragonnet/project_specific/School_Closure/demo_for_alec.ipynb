{
 "cells": [
  {
   "cell_type": "code",
   "execution_count": null,
   "metadata": {},
   "outputs": [],
   "source": [
    "import os\n",
    "\n",
    "from estival.wrappers import nevergrad as eng\n",
    "\n",
    "from autumn.projects.sm_covid2.common_school.runner_tools import (\n",
    "    INCLUDED_COUNTRIES\n",
    ")\n",
    "from autumn.projects.sm_covid2.common_school.calibration import get_bcm_object, plot_model_fit\n"
   ]
  },
  {
   "cell_type": "code",
   "execution_count": null,
   "metadata": {},
   "outputs": [],
   "source": [
    "iso3_list = list(INCLUDED_COUNTRIES['google_mobility'].keys())"
   ]
  },
  {
   "cell_type": "code",
   "execution_count": null,
   "metadata": {},
   "outputs": [],
   "source": [
    "iso3 = \"PHL\"  # or use anything from iso3_list"
   ]
  },
  {
   "cell_type": "code",
   "execution_count": null,
   "metadata": {},
   "outputs": [],
   "source": [
    "bcm = get_bcm_object(iso3)"
   ]
  },
  {
   "cell_type": "code",
   "execution_count": null,
   "metadata": {},
   "outputs": [],
   "source": [
    "opt = eng.optimize_model(bcm, obj_function=bcm.loglikelihood)\n",
    " \n",
    "# Note that first model call is always very slow, but subsequent iterations are extremely fast\n",
    "res = opt.minimize(1000)\n",
    "res = opt.minimize(5000)\n",
    "best_params = res.value[1]"
   ]
  },
  {
   "cell_type": "code",
   "execution_count": null,
   "metadata": {},
   "outputs": [],
   "source": [
    "plot_model_fit(bcm, best_params, iso3)"
   ]
  },
  {
   "cell_type": "code",
   "execution_count": null,
   "metadata": {},
   "outputs": [],
   "source": []
  }
 ],
 "metadata": {
  "kernelspec": {
   "display_name": "summer2",
   "language": "python",
   "name": "python3"
  },
  "language_info": {
   "codemirror_mode": {
    "name": "ipython",
    "version": 3
   },
   "file_extension": ".py",
   "mimetype": "text/x-python",
   "name": "python",
   "nbconvert_exporter": "python",
   "pygments_lexer": "ipython3",
   "version": "3.10.11"
  },
  "orig_nbformat": 4
 },
 "nbformat": 4,
 "nbformat_minor": 2
}
