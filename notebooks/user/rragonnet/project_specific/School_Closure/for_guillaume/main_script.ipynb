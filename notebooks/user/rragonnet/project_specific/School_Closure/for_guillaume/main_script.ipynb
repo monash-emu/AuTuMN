{
 "cells": [
  {
   "cell_type": "code",
   "execution_count": null,
   "metadata": {},
   "outputs": [],
   "source": [
    "from notebooks.user.rragonnet.project_specific.School_Closure.for_guillaume.opti_toolkits import initialise_opti_pb"
   ]
  },
  {
   "attachments": {},
   "cell_type": "markdown",
   "metadata": {},
   "source": [
    "# Code to be used by Guillaume for testing"
   ]
  },
  {
   "attachments": {},
   "cell_type": "markdown",
   "metadata": {},
   "source": [
    "### Initialise objects"
   ]
  },
  {
   "cell_type": "code",
   "execution_count": null,
   "metadata": {},
   "outputs": [],
   "source": [
    "objective_func, plot_func, bounds, param_names = initialise_opti_pb(\"france\")"
   ]
  },
  {
   "attachments": {},
   "cell_type": "markdown",
   "metadata": {},
   "source": [
    "### Print the parameters' names and bounds"
   ]
  },
  {
   "cell_type": "code",
   "execution_count": null,
   "metadata": {},
   "outputs": [],
   "source": [
    "param_names"
   ]
  },
  {
   "cell_type": "code",
   "execution_count": null,
   "metadata": {},
   "outputs": [],
   "source": [
    "len(bounds)"
   ]
  },
  {
   "attachments": {},
   "cell_type": "markdown",
   "metadata": {},
   "source": [
    "### Calculate the objective and visualise fit with one example set of parameters"
   ]
  },
  {
   "cell_type": "code",
   "execution_count": null,
   "metadata": {},
   "outputs": [],
   "source": [
    "example_params = {\n",
    "    'contact_rate': 0.04104869232093793,\n",
    "    'infectious_seed_time': 30.447925441292778,\n",
    "    'age_stratification.ifr.multiplier': 0.8145117432172231,\n",
    "    'voc_emergence.delta.new_voc_seed.time_from_gisaid_report': 18.52679245171894,\n",
    "    'voc_emergence.omicron.new_voc_seed.time_from_gisaid_report': 0.0,\n",
    "    'infection_deaths_dispersion_param': 62.54504840986004,\n",
    "    'random_process.noise_sd': 0.5835215881701278,\n",
    "    'random_process.delta_values(0)': -1.306496185258189,\n",
    "    'random_process.delta_values(1)': 0.11250765346332026,\n",
    "    'random_process.delta_values(2)': 0.5009919549420943,\n",
    "    'random_process.delta_values(3)': -0.06375110616249913,\n",
    "    'random_process.delta_values(4)': -0.24028730546991617,\n",
    "    'random_process.delta_values(5)': 0.2606697551298094,\n",
    "    'random_process.delta_values(6)': -0.13194034829544132,\n",
    "    'random_process.delta_values(7)': -0.3559750720412327,\n",
    "    'random_process.delta_values(8)': 0.04754597441674813,\n",
    "    'random_process.delta_values(9)': 0.12138039221640762,\n",
    "    'random_process.delta_values(10)': 0.6411075116621299,\n",
    "    'random_process.delta_values(11)': 10.0,\n",
    "    'random_process.delta_values(12)': 20.0,\n",
    "    'random_process.delta_values(13)': 0.0,\n",
    "    'random_process.delta_values(14)': 0.0,\n",
    "    'random_process.delta_values(15)': 0.0,\n",
    "    'random_process.delta_values(16)': 0.0\n",
    "}\n",
    "ex_params_list = list(example_params.values())"
   ]
  },
  {
   "cell_type": "code",
   "execution_count": null,
   "metadata": {},
   "outputs": [],
   "source": [
    "plot_func(ex_params_list)  # first execution may take a few minutes. Subsequent calls will be much much faster."
   ]
  },
  {
   "cell_type": "code",
   "execution_count": null,
   "metadata": {},
   "outputs": [],
   "source": [
    "objective_func(ex_params_list) # first execution may take a few minutes. Subsequent calls will be much much faster."
   ]
  },
  {
   "attachments": {},
   "cell_type": "markdown",
   "metadata": {},
   "source": [
    "### "
   ]
  }
 ],
 "metadata": {
  "interpreter": {
   "hash": "7afc08b952f75bca94590012dd49682c815a0fa68720c270ce23d7ae27bf110a"
  },
  "kernelspec": {
   "display_name": "Python 3.10.3 ('autumn310')",
   "language": "python",
   "name": "python3"
  },
  "language_info": {
   "codemirror_mode": {
    "name": "ipython",
    "version": 3
   },
   "file_extension": ".py",
   "mimetype": "text/x-python",
   "name": "python",
   "nbconvert_exporter": "python",
   "pygments_lexer": "ipython3",
   "version": "3.10.3"
  }
 },
 "nbformat": 4,
 "nbformat_minor": 2
}
