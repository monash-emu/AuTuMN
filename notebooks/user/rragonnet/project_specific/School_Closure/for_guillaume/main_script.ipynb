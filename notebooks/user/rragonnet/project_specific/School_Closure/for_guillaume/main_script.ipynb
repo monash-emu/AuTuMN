{
 "cells": [
  {
   "cell_type": "code",
   "execution_count": null,
   "metadata": {},
   "outputs": [],
   "source": [
    "from opti_toolkits import initialise_opti_pb, params_flat_list_to_dict, params_dict_to_flat_list\n",
    "import numpy as np"
   ]
  },
  {
   "attachments": {},
   "cell_type": "markdown",
   "metadata": {},
   "source": [
    "# Code to be used by Guillaume for testing"
   ]
  },
  {
   "attachments": {},
   "cell_type": "markdown",
   "metadata": {},
   "source": [
    "### Initialise objects"
   ]
  },
  {
   "cell_type": "code",
   "execution_count": null,
   "metadata": {},
   "outputs": [],
   "source": [
    "objective_func, plot_func, bounds, param_names = initialise_opti_pb(\"france\")"
   ]
  },
  {
   "attachments": {},
   "cell_type": "markdown",
   "metadata": {},
   "source": [
    "### Print the parameters' names\n",
    "Note that the last parameter is actually a list of size 17 (i.e. 17 decision vars, each with the same bounds). So we have a total of 23 decision variables."
   ]
  },
  {
   "cell_type": "code",
   "execution_count": null,
   "metadata": {},
   "outputs": [],
   "source": [
    "param_names"
   ]
  },
  {
   "attachments": {},
   "cell_type": "markdown",
   "metadata": {},
   "source": [
    "### Print the decision variables' bounds"
   ]
  },
  {
   "cell_type": "code",
   "execution_count": null,
   "metadata": {},
   "outputs": [],
   "source": [
    "bounds"
   ]
  },
  {
   "attachments": {},
   "cell_type": "markdown",
   "metadata": {},
   "source": [
    "### Calculate the objective and visualise fit with one example set of parameters\n",
    "Start with a dict object, as this is the commion format used internally by the AuTuMN team"
   ]
  },
  {
   "cell_type": "code",
   "execution_count": null,
   "metadata": {},
   "outputs": [],
   "source": [
    "example_params = {\n",
    "    'contact_rate': 0.04104869232093793,\n",
    "    'infectious_seed_time': 30.447925441292778,\n",
    "    'age_stratification.ifr.multiplier': 0.8145117432172231,\n",
    "    'voc_emergence.delta.new_voc_seed.time_from_gisaid_report': 18.52679245171894,\n",
    "    'voc_emergence.omicron.new_voc_seed.time_from_gisaid_report': 0.0,\n",
    "    'random_process.noise_sd': 0.5835215881701278,\n",
    "    'random_process.delta_values': np.array([\n",
    "        -1.306496185258189,\n",
    "        0.11250765346332026,\n",
    "        0.5009919549420943,\n",
    "        -0.06375110616249913,\n",
    "        -0.24028730546991617,\n",
    "        0.2606697551298094,\n",
    "        -0.13194034829544132,\n",
    "        -0.3559750720412327,\n",
    "        0.04754597441674813,\n",
    "        0.12138039221640762,\n",
    "        0.6411075116621299,\n",
    "        10.0,\n",
    "        20.0,\n",
    "        0.0,\n",
    "        0.0,\n",
    "        0.0,\n",
    "        0.0\n",
    "    ])\n",
    "}\n"
   ]
  },
  {
   "attachments": {},
   "cell_type": "markdown",
   "metadata": {},
   "source": [
    "### Transform dict to a flat list of variables (for Guillaume's use)"
   ]
  },
  {
   "cell_type": "code",
   "execution_count": null,
   "metadata": {},
   "outputs": [],
   "source": [
    "ex_params_list = params_dict_to_flat_list(example_params)\n",
    "ex_params_list"
   ]
  },
  {
   "attachments": {},
   "cell_type": "markdown",
   "metadata": {},
   "source": [
    "### If ever needed, the reverse transformation is obtained through params_flat_list_to_dict as follows:"
   ]
  },
  {
   "cell_type": "code",
   "execution_count": null,
   "metadata": {},
   "outputs": [],
   "source": [
    "params_as_dict = params_flat_list_to_dict(ex_params_list, param_names)\n",
    "params_as_dict"
   ]
  },
  {
   "attachments": {},
   "cell_type": "markdown",
   "metadata": {},
   "source": [
    "# Evaluate the objective and plot the model fit to data"
   ]
  },
  {
   "cell_type": "code",
   "execution_count": null,
   "metadata": {},
   "outputs": [],
   "source": [
    "plot_func(ex_params_list)  # first execution may take a few minutes. Subsequent calls will be much much faster."
   ]
  },
  {
   "cell_type": "code",
   "execution_count": null,
   "metadata": {},
   "outputs": [],
   "source": [
    "objective_func(ex_params_list) # first execution may take a few minutes. Subsequent calls will be much much faster.\n",
    "# objective obtained: 47.026013956614\n",
    "# We want to MINIMIZE this objective"
   ]
  },
  {
   "attachments": {},
   "cell_type": "markdown",
   "metadata": {},
   "source": [
    "### "
   ]
  }
 ],
 "metadata": {
  "interpreter": {
   "hash": "7afc08b952f75bca94590012dd49682c815a0fa68720c270ce23d7ae27bf110a"
  },
  "kernelspec": {
   "display_name": "Python 3.10.3 ('autumn310')",
   "language": "python",
   "name": "python3"
  },
  "language_info": {
   "codemirror_mode": {
    "name": "ipython",
    "version": 3
   },
   "file_extension": ".py",
   "mimetype": "text/x-python",
   "name": "python",
   "nbconvert_exporter": "python",
   "pygments_lexer": "ipython3",
   "version": "3.10.11"
  }
 },
 "nbformat": 4,
 "nbformat_minor": 2
}
