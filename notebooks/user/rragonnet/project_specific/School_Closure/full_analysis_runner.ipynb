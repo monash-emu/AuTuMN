{
 "cells": [
  {
   "cell_type": "code",
   "execution_count": null,
   "metadata": {},
   "outputs": [],
   "source": [
    "import os\n",
    "import pandas as pd\n",
    "\n",
    "from autumn.projects.sm_covid2.common_school.runner_tools import run_full_analysis\n",
    "from autumn.projects.sm_covid2.common_school.output_plots.country_spec import make_country_output_tiling"
   ]
  },
  {
   "attachments": {},
   "cell_type": "markdown",
   "metadata": {},
   "source": [
    "### Run full analysis (to be done remotely)\n",
    "Note that the three returned objects will be dumped automatically into the specified output folder (1 .nc file, 2 .csv files)."
   ]
  },
  {
   "cell_type": "code",
   "execution_count": null,
   "metadata": {},
   "outputs": [],
   "source": [
    "ISO3 = \"FRA\"\n",
    "ANALYSIS = \"main\"\n",
    "\n",
    "N_CHAINS = 8\n",
    "N_OPTI_SEARCHES = 2\n",
    "N_BEST_RETAINED = 1\n",
    "OPTI_BUDGET = 100\n",
    "\n",
    "METROPOLIS_TUNE = 100\n",
    "METROPOLIS_DRAWS = 500\n",
    "METROPOLIS_METHOD = \"DEMetropolis\"\n",
    "\n",
    "FULL_RUNS_SAMPLES = 100\n",
    "BURN_IN = 50"
   ]
  },
  {
   "cell_type": "code",
   "execution_count": null,
   "metadata": {},
   "outputs": [],
   "source": [
    "idata, uncertainty_df, diff_quantiles_df = run_full_analysis(\n",
    "    ISO3,\n",
    "    analysis=ANALYSIS, \n",
    "    opti_params={'n_searches': N_OPTI_SEARCHES, \"n_best_retained\": N_BEST_RETAINED, 'num_workers': 8, 'parallel_opti_jobs': 4, 'warmup_iterations': 0, 'search_iterations': OPTI_BUDGET, 'init_method': 'LHS'},\n",
    "    mcmc_params={'draws': METROPOLIS_DRAWS, 'tune': METROPOLIS_TUNE, 'cores': N_CHAINS, 'chains': N_CHAINS, 'method': METROPOLIS_METHOD},\n",
    "    full_run_params={'samples': FULL_RUNS_SAMPLES, 'burn_in': BURN_IN},\n",
    "    output_folder=\"test_full\",\n",
    ")"
   ]
  },
  {
   "attachments": {},
   "cell_type": "markdown",
   "metadata": {},
   "source": [
    "### Plot analysis outputs"
   ]
  },
  {
   "attachments": {},
   "cell_type": "markdown",
   "metadata": {},
   "source": [
    "Load data from previous run if required"
   ]
  },
  {
   "cell_type": "code",
   "execution_count": null,
   "metadata": {},
   "outputs": [],
   "source": [
    "# uncertainty_df = pd.read_parquet(os.path.join(output_folder, \"uncertainty_df.parquet\"))\n",
    "# diff_quantiles_df = pd.read_parquet(os.path.join(output_folder, \"diff_quantiles_df.parquet\"))"
   ]
  },
  {
   "attachments": {},
   "cell_type": "markdown",
   "metadata": {},
   "source": [
    "Make tiling plot"
   ]
  },
  {
   "cell_type": "code",
   "execution_count": null,
   "metadata": {},
   "outputs": [],
   "source": [
    "make_country_output_tiling(iso3, uncertainty_df, diff_quantiles_df, output_folder)"
   ]
  }
 ],
 "metadata": {
  "kernelspec": {
   "display_name": "summer2",
   "language": "python",
   "name": "python3"
  },
  "language_info": {
   "codemirror_mode": {
    "name": "ipython",
    "version": 3
   },
   "file_extension": ".py",
   "mimetype": "text/x-python",
   "name": "python",
   "nbconvert_exporter": "python",
   "pygments_lexer": "ipython3",
   "version": "3.10.11"
  },
  "orig_nbformat": 4
 },
 "nbformat": 4,
 "nbformat_minor": 2
}
