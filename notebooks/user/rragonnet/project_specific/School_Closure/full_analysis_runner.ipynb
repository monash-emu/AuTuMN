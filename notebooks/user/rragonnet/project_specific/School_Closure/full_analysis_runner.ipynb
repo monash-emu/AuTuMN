{
 "cells": [
  {
   "cell_type": "code",
   "execution_count": null,
   "metadata": {},
   "outputs": [],
   "source": [
    "import os\n",
    "import pandas as pd\n",
    "\n",
    "from autumn.projects.sm_covid2.common_school.runner_tools import run_full_analysis\n",
    "from autumn.projects.sm_covid2.common_school.output_plots.country_spec import make_country_output_tiling"
   ]
  },
  {
   "cell_type": "code",
   "execution_count": null,
   "metadata": {},
   "outputs": [],
   "source": [
    "iso3 = \"FRA\"\n",
    "analysis = \"main\"\n",
    "output_folder = f\"test_outputs_{iso3}_{analysis}\"\n",
    "os.makedirs(output_folder, exist_ok=True)"
   ]
  },
  {
   "attachments": {},
   "cell_type": "markdown",
   "metadata": {},
   "source": [
    "### Run full analysis (to be done remotely)\n",
    "Note that the three returned objects will be dumped automatically into the specified output folder (1 .nc file, 2 .csv files)."
   ]
  },
  {
   "cell_type": "code",
   "execution_count": null,
   "metadata": {},
   "outputs": [],
   "source": [
    "idata, uncertainty_df, diff_quantiles_df = run_full_analysis(\n",
    "    iso3,\n",
    "    analysis=analysis, \n",
    "    opti_params={'warmup_iterations': 2000, 'search_iterations': 5000},\n",
    "    mcmc_params={'draws': 5000, 'tune': 1000, 'cores': 4, 'chains': 4},\n",
    "    full_run_params={'samples': 1000, 'burn_in': 0},\n",
    "    output_folder=output_folder\n",
    ")"
   ]
  },
  {
   "attachments": {},
   "cell_type": "markdown",
   "metadata": {},
   "source": [
    "### Plot analysis outputs"
   ]
  },
  {
   "attachments": {},
   "cell_type": "markdown",
   "metadata": {},
   "source": [
    "Load data from previous run if required"
   ]
  },
  {
   "cell_type": "code",
   "execution_count": null,
   "metadata": {},
   "outputs": [],
   "source": [
    "# uncertainty_df = pd.read_parquet(os.path.join(output_folder, \"uncertainty_df.parquet\"))\n",
    "# diff_quantiles_df = pd.read_parquet(os.path.join(output_folder, \"diff_quantiles_df.parquet\"))"
   ]
  },
  {
   "attachments": {},
   "cell_type": "markdown",
   "metadata": {},
   "source": [
    "Make tiling plot"
   ]
  },
  {
   "cell_type": "code",
   "execution_count": null,
   "metadata": {},
   "outputs": [],
   "source": [
    "make_country_output_tiling(iso3, uncertainty_df, diff_quantiles_df, output_folder)"
   ]
  }
 ],
 "metadata": {
  "kernelspec": {
   "display_name": "summer2",
   "language": "python",
   "name": "python3"
  },
  "language_info": {
   "codemirror_mode": {
    "name": "ipython",
    "version": 3
   },
   "file_extension": ".py",
   "mimetype": "text/x-python",
   "name": "python",
   "nbconvert_exporter": "python",
   "pygments_lexer": "ipython3",
   "version": "3.10.11"
  },
  "orig_nbformat": 4
 },
 "nbformat": 4,
 "nbformat_minor": 2
}
