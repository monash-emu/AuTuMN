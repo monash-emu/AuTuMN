{
 "cells": [
  {
   "cell_type": "code",
   "execution_count": null,
   "metadata": {},
   "outputs": [],
   "source": [
    "from autumn.core.project import get_project\n",
    "import yaml\n",
    "import os\n",
    "from autumn.settings.folders import PROJECTS_PATH"
   ]
  },
  {
   "cell_type": "code",
   "execution_count": null,
   "metadata": {},
   "outputs": [],
   "source": [
    "def get_school_country_list(nationbal_only=False):\n",
    "    source = os.path.join(PROJECTS_PATH, \"sm_covid2\", \"common_school\", \"included_countries.yml\")\n",
    "    country_dict = yaml.load(open(source), Loader=yaml.UnsafeLoader)\n",
    "    primary_key = \"national\" if nationbal_only else \"all\"\n",
    "\n",
    "    return country_dict[primary_key]   "
   ]
  },
  {
   "cell_type": "code",
   "execution_count": null,
   "metadata": {},
   "outputs": [],
   "source": [
    "country_list = get_school_country_list()"
   ]
  },
  {
   "cell_type": "code",
   "execution_count": null,
   "metadata": {},
   "outputs": [],
   "source": [
    "c = 0\n",
    "for iso3, country in country_list.items():   \n",
    "    project = get_project(\"sm_covid2\", country)\n",
    "\n",
    "    # try:\n",
    "    #     project = get_project(\"sm_covid2\", country)\n",
    "    # except:\n",
    "    #     c += 1\n",
    "    #     print(f\"{iso3}: {country}\")\n",
    "    #     # print(\"PROBLEM HERE\")\n",
    "print(c)"
   ]
  },
  {
   "cell_type": "code",
   "execution_count": null,
   "metadata": {},
   "outputs": [],
   "source": [
    "\n",
    "project = get_project(\"sm_covid2\", 'belgium')"
   ]
  },
  {
   "cell_type": "code",
   "execution_count": null,
   "metadata": {},
   "outputs": [],
   "source": []
  }
 ],
 "metadata": {
  "kernelspec": {
   "display_name": "autumn310",
   "language": "python",
   "name": "python3"
  },
  "language_info": {
   "codemirror_mode": {
    "name": "ipython",
    "version": 3
   },
   "file_extension": ".py",
   "mimetype": "text/x-python",
   "name": "python",
   "nbconvert_exporter": "python",
   "pygments_lexer": "ipython3",
   "version": "3.10.3"
  },
  "orig_nbformat": 4
 },
 "nbformat": 4,
 "nbformat_minor": 2
}
