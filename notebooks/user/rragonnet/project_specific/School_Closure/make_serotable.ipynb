{
 "cells": [
  {
   "cell_type": "code",
   "execution_count": 1,
   "metadata": {},
   "outputs": [],
   "source": [
    "import pandas as pd\n",
    "from autumn.settings.folders import INPUT_DATA_PATH\n",
    "import os\n",
    "from copy import copy"
   ]
  },
  {
   "cell_type": "code",
   "execution_count": 2,
   "metadata": {},
   "outputs": [],
   "source": [
    "dfs = {\n",
    "    \"national\": pd.read_csv(os.path.join(INPUT_DATA_PATH, \"school-closure\", \"serodata_national.csv\")),\n",
    "    # \"subnational\": pd.read_csv(os.path.join(INPUT_DATA_PATH, \"school-closure\", \"serodata_subnational.csv\")),\n",
    "} "
   ]
  },
  {
   "cell_type": "code",
   "execution_count": 3,
   "metadata": {},
   "outputs": [
    {
     "data": {
      "text/plain": [
       "37"
      ]
     },
     "execution_count": 3,
     "metadata": {},
     "output_type": "execute_result"
    }
   ],
   "source": [
    "df = dfs['national']\n",
    "len(df)"
   ]
  },
  {
   "cell_type": "code",
   "execution_count": 4,
   "metadata": {},
   "outputs": [],
   "source": [
    "columns = [\n",
    "    \"country\",\n",
    "    #\"estimate_name\",\n",
    "    'sampling_start_date', \n",
    "    'sampling_end_date',\n",
    "    #'population_group',\n",
    "    'age_min', 'age_max',\n",
    "    'denominator_value',\n",
    "    'serum_pos_prevalence',\n",
    "    \"estimate_grade\",\n",
    "    'overall_risk_of_bias'\n",
    "]"
   ]
  },
  {
   "cell_type": "code",
   "execution_count": 5,
   "metadata": {},
   "outputs": [],
   "source": [
    "def make_href_code(url):\n",
    "    if type(url) == float:  # url is nan \n",
    "        return \"\\href{https://serotracker.com/en/Explore}\"\n",
    "    else:\n",
    "        return \"\\href{\" + url + \"}\"\n",
    "\n",
    "def make_latex_table(level):\n",
    "    df = copy(dfs[level])\n",
    "    df[\"url\"] = df[\"url\"].transform(make_href_code)\n",
    "    df[\"country\"] = df[\"country\"].transform(lambda s: \"{\\\\textcolor{blue}{\" + s + \"}}\")\n",
    "\n",
    "    df[\"country\"] = df[\"url\"] + df[\"country\"]\n",
    "\n",
    "\n",
    "    df = df[columns]\n",
    "    df['serum_pos_prevalence'] = df['serum_pos_prevalence'].transform(lambda p: f\"{round(100. * p, 2)}\\%\")\n",
    "\n",
    "    df['overall_risk_of_bias'] = df['overall_risk_of_bias'].transform(lambda i: [\"High\", \"Moderate\", \"Low\"][i])\n",
    "\n",
    "    df = df.astype(str)\n",
    "    df['age_min'] = df['age_min'].replace(\"nan\", \"\")\n",
    "    df['age_max'] = df['age_max'].replace(\"nan\", \"\")\n",
    "\n",
    "    df['age_min'] = df['age_min'].replace(\"0.0\", \"\")    \n",
    "\n",
    "    df['age_min'] = df['age_min'].transform(lambda s: s.replace(\".0\", \"\"))\n",
    "    df['age_max'] = df['age_max'].transform(lambda s: s.replace(\".0\", \"\"))\n",
    "\n",
    "    columns_bold = [\"\\\\textbf{\" + c.replace(\"_\", \" \") + \"}\" for c in columns]\n",
    "\n",
    "    latex_str = \" & \".join(columns_bold) + \" \\\\\\ \\n\"\n",
    "    latex_str += \"\\hline \\n\"\n",
    "\n",
    "    for index, row in df.iterrows():\n",
    "        row_as_list = row.to_list()\n",
    "        latex_str += \" & \".join(row_as_list) + \" \\\\\\ \\n\\hline \\n\"\n",
    "\n",
    "    latex_str = latex_str.replace(\"_\", \"\\_\")\n",
    "    latex_str = latex_str.replace(\"United States of America\", \"USA\")\n",
    "    latex_str = latex_str.replace(\"Iran (Islamic Republic of)\", \"Iran\")\n",
    "    latex_str = latex_str.replace(\"Republic\", \"Rep.\")\n",
    "    latex_str = latex_str.replace(\"United Kingdom of Great Britain and Northern Ireland\", \"UK\")\n",
    "    latex_str = latex_str.replace(\"Democratic Rep. of the Congo\", \"Congo (DRC)\")\n",
    "    latex_str = latex_str.replace(\"occupied Palestinian territory - including east Jerusalem\", \"Palestinian territories\")\n",
    "\n",
    "\n",
    "    latex_str = latex_str.replace(\"denominator\", \"denom.\")\n",
    "\n",
    "    print(latex_str)\n",
    "\n",
    "    return latex_str"
   ]
  },
  {
   "cell_type": "code",
   "execution_count": 6,
   "metadata": {},
   "outputs": [
    {
     "name": "stdout",
     "output_type": "stream",
     "text": [
      "\\textbf{country} & \\textbf{sampling start date} & \\textbf{sampling end date} & \\textbf{age min} & \\textbf{age max} & \\textbf{denom. value} & \\textbf{serum pos prevalence} & \\textbf{estimate grade} & \\textbf{overall risk of bias} \\\\ \n",
      "\\hline \n",
      "\\href{https://dx.doi.org/10.5694/mja2.51542}{\\textcolor{blue}{Australia}} & 2020-11-03 & 2021-03-12 &  & 19 & 1685 & 0.23\\% & National & High \\\\ \n",
      "\\hline \n",
      "\\href{https://dx.doi.org/10.1007/s15010-021-01639-0}{\\textcolor{blue}{Austria}} & 2020-06-05 & 2020-12-04 & 18 & 72 & 20228 & 2.5\\% & National & High \\\\ \n",
      "\\hline \n",
      "\\href{https://dx.doi.org/10.2807/1560-7917.ES.2022.27.9.2100419}{\\textcolor{blue}{Belgium}} & 2020-10-12 & 2020-10-17 &  & 101 & 2966 & 4.18\\% & National & Low \\\\ \n",
      "\\hline \n",
      "\\href{https://www.ncbi.nlm.nih.gov/pmc/articles/PMC8225319/}{\\textcolor{blue}{Brazil}} & 2020-05-14 & 2020-06-23 &  &  & 89362 & 2.3\\% & National & Moderate \\\\ \n",
      "\\hline \n",
      "\\href{https://serotracker.com/en/Explore}{\\textcolor{blue}{Canada}} & 2021-04-13 & 2021-04-30 & 17 &  & 16931 & 26.92\\% & National & Moderate \\\\ \n",
      "\\hline \n",
      "\\href{https://dx.doi.org/10.1186/s12879-022-07045-7}{\\textcolor{blue}{Chile}} & 2020-09-25 & 2020-11-25 & 7 & 94 & 2493 & 10.4\\% & National & Low \\\\ \n",
      "\\hline \n",
      "\\href{https://dx.doi.org/10.1016/j.lana.2022.100195}{\\textcolor{blue}{Colombia}} & 2020-09-21 & 2020-12-11 & 5 & 80 & 17863 & 32.53\\% & National & Moderate \\\\ \n",
      "\\hline \n",
      "\\href{https://dx.doi.org/10.3390/pathogens10060774}{\\textcolor{blue}{Croatia}} & 2020-12-15 & 2021-02-15 &  &  & 1436 & 25.1\\% & National & High \\\\ \n",
      "\\hline \n",
      "\\href{https://doi.org/10.1038/s43856-022-00080-0}{\\textcolor{blue}{Czechia}} & 2021-02-01 & 2021-03-31 & 18 &  & 19548 & 51.0\\% & National & High \\\\ \n",
      "\\hline \n",
      "\\href{https://dx.doi.org/10.1007/s10654-021-00796-8}{\\textcolor{blue}{Denmark}} & 2020-12-01 & 2020-12-31 & 12 &  & 4044 & 4.3\\% & National & Low \\\\ \n",
      "\\hline \n",
      "\\href{https://dx.doi.org/10.3389/fmed.2022.933260}{\\textcolor{blue}{Ecuador}} & 2020-10-12 & 2020-10-19 &  &  & 1250 & 11.68\\% & National & Moderate \\\\ \n",
      "\\hline \n",
      "\\href{https://dx.doi.org/10.1186/s41182-022-00448-x}{\\textcolor{blue}{Egypt}} & 2021-01-15 & 2021-06-15 &  &  & 2360 & 46.3\\% & National & Moderate \\\\ \n",
      "\\hline \n",
      "\\href{https://dx.doi.org/10.1038/s41467-021-23233-6}{\\textcolor{blue}{France}} & 2020-05-11 & 2020-05-17 &  &  & 3592 & 4.93\\% & National & Low \\\\ \n",
      "\\hline \n",
      "\\href{https://www.ifo.de/en/publikationen/2020/monograph-authorship/die-deutschen-und-corona}{\\textcolor{blue}{Germany}} & 2020-10-26 & 2020-11-18 & 18 &  & 9929 & 1.1\\% & National & Moderate \\\\ \n",
      "\\hline \n",
      "\\href{https://revistas.ucr.ac.cr/index.php/psm/article/view/43261/46175}{\\textcolor{blue}{Honduras}} & 2020-06-16 & 2020-06-23 & 5 &  & 792 & 6.2\\% & National & Moderate \\\\ \n",
      "\\hline \n",
      "\\href{https://dx.doi.org/10.1007/s11357-020-00226-9}{\\textcolor{blue}{Hungary}} & 2020-05-01 & 2020-05-16 & 14 &  & 10474 & 0.68\\% & National & Low \\\\ \n",
      "\\hline \n",
      "\\href{http://dx.doi.org/10.1016/j.ijid.2021.05.040}{\\textcolor{blue}{India}} & 2020-12-18 & 2021-01-06 & 10 &  & 28598 & 24.1\\% & National & Low \\\\ \n",
      "\\hline \n",
      "\\href{https://dx.doi.org/10.1186/s12889-022-13464-7}{\\textcolor{blue}{Iran}} & 2021-01-15 & 2021-03-15 & 10 & 90 & 7411 & 34.2\\% & National & Low \\\\ \n",
      "\\hline \n",
      "\\href{https://dx.doi.org/10.1007/s10654-021-00749-1}{\\textcolor{blue}{Israel}} & 2020-06-28 & 2020-09-14 &  &  & 54357 & 4.6\\% & National & Moderate \\\\ \n",
      "\\hline \n",
      "\\href{https://www.istat.it/it/files//2020/08/ReportPrimiRisultatiIndagineSiero.pdf}{\\textcolor{blue}{Italy}} & 2020-05-25 & 2020-07-15 &  &  & 64660 & 2.5\\% & National & Moderate \\\\ \n",
      "\\hline \n",
      "\\href{https://dx.doi.org/10.3201/eid2702.204088}{\\textcolor{blue}{Japan}} & 2020-06-01 & 2020-06-07 & 20 &  & 7950 & 0.1\\% & National & Moderate \\\\ \n",
      "\\hline \n",
      "\\href{http://dx.doi.org/10.1016/j.onehlt.2021.100292}{\\textcolor{blue}{Jordan}} & 2020-12-27 & 2021-01-06 &  &  & 5044 & 34.2\\% & National & Moderate \\\\ \n",
      "\\hline \n",
      "\\href{https://dx.doi.org/10.3390/ijerph19042263}{\\textcolor{blue}{Kazakhstan}} & 2020-07-16 & 2021-07-07 &  &  & 85346 & 63.0\\% & National & High \\\\ \n",
      "\\hline \n",
      "\\href{https://dx.doi.org/10.1001/jama.2021.15265}{\\textcolor{blue}{Kenya}} & 2021-01-03 & 2021-03-15 & 16 & 64 & 3018 & 48.5\\% & National & Moderate \\\\ \n",
      "\\hline \n",
      "\\href{https://dx.doi.org/10.1186/s12879-022-07031-z}{\\textcolor{blue}{Lebanon}} & 2020-12-07 & 2021-01-15 &  &  & 2058 & 18.5\\% & National & Low \\\\ \n",
      "\\hline \n",
      "\\href{https://www.journals.vu.lt/AML/article/view/22344}{\\textcolor{blue}{Lithuania}} & 2020-08-10 & 2020-09-10 & 18 & 92 & 3089 & 1.4\\% & National & Moderate \\\\ \n",
      "\\hline \n",
      "\\href{https://saludpublica.mx/index.php/spm/article/view/12847}{\\textcolor{blue}{Mexico}} & 2020-08-15 & 2020-11-15 & 3 & 12 & 944 & 18.7\\% & National & Low \\\\ \n",
      "\\hline \n",
      "\\href{https://mohp.gov.np/attachments/article/708/First%20Sero-prevalence\\_final\\_report\\_04-04-2021.pdf}{\\textcolor{blue}{Nepal}} & 2020-10-09 & 2020-10-22 &  &  & 3040 & 14.4\\% & National & Low \\\\ \n",
      "\\hline \n",
      "\\href{https://bmjopen.bmj.com/content/12/4/e055381.abstract}{\\textcolor{blue}{Pakistan}} & 2020-10-21 & 2020-11-08 &  &  & 4998 & 7.02\\% & National & Moderate \\\\ \n",
      "\\hline \n",
      "\\href{https://wwwnc.cdc.gov/eid/article/27/11/21-0636\\_article}{\\textcolor{blue}{Portugal}} & 2020-09-08 & 2020-10-14 &  &  & 13398 & 2.2\\% & National & Moderate \\\\ \n",
      "\\hline \n",
      "\\href{https://dx.doi.org/10.1016/j.cmi.2021.03.009}{\\textcolor{blue}{Slovenia}} & 2020-10-17 & 2020-11-10 &  & 99 & 1211 & 4.29\\% & National & Low \\\\ \n",
      "\\hline \n",
      "\\href{https://assets.researchsquare.com/files/rs-690372/v2\\_covered.pdf?c=1627923426}{\\textcolor{blue}{South Africa}} & 2021-01-15 & 2021-05-15 & 15 & 69 & 16762 & 47.4\\% & National & Moderate \\\\ \n",
      "\\hline \n",
      "\\href{https://bmjopen.bmj.com/content/11/4/e049837.abstract}{\\textcolor{blue}{Rep. of Korea}} & 2020-09-24 & 2020-12-09 & 18 & 86 & 4085 & 0.39\\% & National & Moderate \\\\ \n",
      "\\hline \n",
      "\\href{https://www.mscbs.gob.es/ciudadanos/ene-covid/docs/ESTUDIO\\_ENE-COVID19\\_INFORME\\_FINAL.pdf}{\\textcolor{blue}{Spain}} & 2020-06-08 & 2020-06-22 &  &  & 62167 & 5.2\\% & National & Low \\\\ \n",
      "\\hline \n",
      "\\href{https://www.folkhalsomyndigheten.se/contentassets/376f9021a4c84da08de18ac597284f0c/pavisning-antikroppar-genomgangen-covid-19-blodgivare-delrapport-2.pdf}{\\textcolor{blue}{Sweden}} & 2020-11-23 & 2020-12-04 &  &  & 3183 & 7.0\\% & National & Moderate \\\\ \n",
      "\\hline \n",
      "\\href{https://dx.doi.org/10.1093/cid/ciab626}{\\textcolor{blue}{USA}} & 2020-08-09 & 2020-12-08 & 18 &  & 4654 & 4.71\\% & National & Low \\\\ \n",
      "\\hline \n",
      "\\href{https://www.gov.uk/government/publications/national-covid-19-surveillance-reports}{\\textcolor{blue}{UK}} & 2020-08-24 & 2020-09-18 & 17 &  & 8230 & 6.1\\% & National & Low \\\\ \n",
      "\\hline \n",
      "\n"
     ]
    }
   ],
   "source": [
    "s = make_latex_table(\"national\")"
   ]
  },
  {
   "cell_type": "code",
   "execution_count": null,
   "metadata": {},
   "outputs": [],
   "source": []
  },
  {
   "cell_type": "code",
   "execution_count": null,
   "metadata": {},
   "outputs": [],
   "source": []
  }
 ],
 "metadata": {
  "kernelspec": {
   "display_name": "summer2",
   "language": "python",
   "name": "python3"
  },
  "language_info": {
   "codemirror_mode": {
    "name": "ipython",
    "version": 3
   },
   "file_extension": ".py",
   "mimetype": "text/x-python",
   "name": "python",
   "nbconvert_exporter": "python",
   "pygments_lexer": "ipython3",
   "version": "3.10.11"
  },
  "orig_nbformat": 4
 },
 "nbformat": 4,
 "nbformat_minor": 2
}
