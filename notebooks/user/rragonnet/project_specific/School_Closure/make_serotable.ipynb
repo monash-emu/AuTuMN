{
 "cells": [
  {
   "cell_type": "code",
   "execution_count": null,
   "metadata": {},
   "outputs": [],
   "source": [
    "import pandas as pd\n",
    "from autumn.settings.folders import INPUT_DATA_PATH\n",
    "import os\n",
    "from copy import copy"
   ]
  },
  {
   "cell_type": "code",
   "execution_count": null,
   "metadata": {},
   "outputs": [],
   "source": [
    "dfs = {\n",
    "    \"national\": pd.read_csv(os.path.join(INPUT_DATA_PATH, \"school-closure\", \"serodata_national.csv\")),\n",
    "    # \"subnational\": pd.read_csv(os.path.join(INPUT_DATA_PATH, \"school-closure\", \"serodata_subnational.csv\")),\n",
    "} "
   ]
  },
  {
   "cell_type": "code",
   "execution_count": null,
   "metadata": {},
   "outputs": [],
   "source": [
    "columns = [\n",
    "    \"country\",\n",
    "    #\"estimate_name\",\n",
    "    'sampling_start_date', \n",
    "    'sampling_end_date',\n",
    "    #'population_group',\n",
    "    'age_min', 'age_max',\n",
    "    'denominator_value',\n",
    "    'serum_pos_prevalence',\n",
    "    \"estimate_grade\",\n",
    "    'overall_risk_of_bias'\n",
    "]"
   ]
  },
  {
   "cell_type": "code",
   "execution_count": null,
   "metadata": {},
   "outputs": [],
   "source": [
    "def make_href_code(url):\n",
    "    if type(url) == float:  # url is nan \n",
    "        return \"\\href{https://serotracker.com/en/Explore}\"\n",
    "    else:\n",
    "        return \"\\href{\" + url + \"}\"\n",
    "\n",
    "def make_latex_table(level):\n",
    "    df = copy(dfs[level])\n",
    "    df[\"url\"] = df[\"url\"].transform(make_href_code)\n",
    "    df[\"country\"] = df[\"country\"].transform(lambda s: \"{\\\\textcolor{blue}{\" + s + \"}}\")\n",
    "\n",
    "    df[\"country\"] = df[\"url\"] + df[\"country\"]\n",
    "\n",
    "\n",
    "    df = df[columns]\n",
    "    df['serum_pos_prevalence'] = round(df['serum_pos_prevalence'], 4)\n",
    "\n",
    "    df['overall_risk_of_bias'] = df['overall_risk_of_bias'].transform(lambda i: [\"High\", \"Moderate\", \"Low\"][i])\n",
    "\n",
    "    df = df.astype(str)\n",
    "    df['age_min'] = df['age_min'].replace(\"nan\", \"\")\n",
    "    df['age_max'] = df['age_max'].replace(\"nan\", \"\")\n",
    "\n",
    "    df['age_min'] = df['age_min'].replace(\"0.0\", \"\")    \n",
    "\n",
    "    df['age_min'] = df['age_min'].transform(lambda s: s.replace(\".0\", \"\"))\n",
    "    df['age_max'] = df['age_max'].transform(lambda s: s.replace(\".0\", \"\"))\n",
    "\n",
    "    columns_bold = [\"\\\\textbf{\" + c.replace(\"_\", \" \") + \"}\" for c in columns]\n",
    "\n",
    "    latex_str = \" & \".join(columns_bold) + \" \\\\\\ \\n\"\n",
    "    latex_str += \"\\hline \\n\"\n",
    "\n",
    "    for index, row in df.iterrows():\n",
    "        row_as_list = row.to_list()\n",
    "        latex_str += \" & \".join(row_as_list) + \" \\\\\\ \\n\\hline \\n\"\n",
    "\n",
    "    latex_str = latex_str.replace(\"_\", \"\\_\")\n",
    "    latex_str = latex_str.replace(\"United States of America\", \"USA\")\n",
    "    latex_str = latex_str.replace(\"Iran (Islamic Republic of)\", \"Iran\")\n",
    "    latex_str = latex_str.replace(\"Republic\", \"Rep.\")\n",
    "    latex_str = latex_str.replace(\"United Kingdom of Great Britain and Northern Ireland\", \"UK\")\n",
    "    latex_str = latex_str.replace(\"Democratic Rep. of the Congo\", \"Congo (DRC)\")\n",
    "    latex_str = latex_str.replace(\"occupied Palestinian territory - including east Jerusalem\", \"Palestinian territories\")\n",
    "\n",
    "\n",
    "    latex_str = latex_str.replace(\"denominator\", \"denom.\")\n",
    "\n",
    "    print(latex_str)\n",
    "\n",
    "    return latex_str"
   ]
  },
  {
   "cell_type": "code",
   "execution_count": null,
   "metadata": {},
   "outputs": [],
   "source": [
    "s = make_latex_table(\"national\")"
   ]
  },
  {
   "cell_type": "code",
   "execution_count": null,
   "metadata": {},
   "outputs": [],
   "source": [
    "type(dfs['national']['url'][3]) == float"
   ]
  },
  {
   "cell_type": "code",
   "execution_count": null,
   "metadata": {},
   "outputs": [],
   "source": []
  }
 ],
 "metadata": {
  "kernelspec": {
   "display_name": "summer2",
   "language": "python",
   "name": "python3"
  },
  "language_info": {
   "codemirror_mode": {
    "name": "ipython",
    "version": 3
   },
   "file_extension": ".py",
   "mimetype": "text/x-python",
   "name": "python",
   "nbconvert_exporter": "python",
   "pygments_lexer": "ipython3",
   "version": "3.10.11"
  },
  "orig_nbformat": 4
 },
 "nbformat": 4,
 "nbformat_minor": 2
}
