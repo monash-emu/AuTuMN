{
 "cells": [
  {
   "cell_type": "code",
   "execution_count": null,
   "metadata": {},
   "outputs": [],
   "source": [
    "from scipy import stats\n",
    "from numpy import linspace, exp\n",
    "import matplotlib.pyplot as plt\n",
    "\n",
    "from notebooks.user.rragonnet.project_specific.School_Closure.plotting_constants import (\n",
    "    SCHOOL_PROJECT_NOTEBOOK_PATH, \n",
    "    FIGURE_WIDTH,\n",
    "    RESOLUTION,\n",
    "    set_up_style\n",
    ")\n",
    "\n",
    "set_up_style()"
   ]
  },
  {
   "cell_type": "markdown",
   "metadata": {},
   "source": [
    "## Sojourn time in latent and active compartments"
   ]
  },
  {
   "cell_type": "code",
   "execution_count": null,
   "metadata": {},
   "outputs": [],
   "source": [
    "fig_path = os.path.join(SCHOOL_PROJECT_NOTEBOOK_PATH, \"input_figs\", \"sojourns.pdf\")\n",
    "\n",
    "sojourn_means = {\n",
    "    \"latent\": 5.5,\n",
    "    \"active\": 8\n",
    "}\n",
    "titles = {\n",
    "    \"latent\": \"incubation period\",\n",
    "    \"active\": \"infectious period\"\n",
    "}\n",
    "colors = {\n",
    "    \"latent\": \"mediumpurple\",\n",
    "    \"active\": \"coral\"\n",
    "}\n",
    "n_replicates = 4\n",
    "fig, axes = plt.subplots(1, 2, figsize = (FIGURE_WIDTH, .42 * FIGURE_WIDTH), dpi=RESOLUTION, sharey=True)\n",
    "for i_ax, ax in enumerate(axes):\n",
    "    state = list(sojourn_means.keys())[i_ax]\n",
    "    distri = stats.gamma(a=n_replicates, scale=sojourn_means[state] / n_replicates)\n",
    "    x_min, x_max = 0., 20\n",
    "    x = linspace(x_min, x_max, 1000)\n",
    "\n",
    "    ax.plot(x, distri.pdf(x), '-', color=\"black\", lw=1.5, alpha=0.6)\n",
    "    ax.fill_between(x, distri.pdf(x), alpha=.5, color= colors[state])\n",
    "    \n",
    "    ax.set_xlabel(\"days\")\n",
    "    if i_ax == 0:\n",
    "        ax.set_ylabel(\"density\")\n",
    "    ax.set_title(titles[state],fontsize=12)\n",
    "    ax.locator_params(nbins=5)\n",
    "\n",
    "plt.tight_layout()\n",
    "plt.savefig(fig_path)"
   ]
  }
 ],
 "metadata": {
  "kernelspec": {
   "display_name": "Python 3.10.3 ('autumn310')",
   "language": "python",
   "name": "python3"
  },
  "language_info": {
   "codemirror_mode": {
    "name": "ipython",
    "version": 3
   },
   "file_extension": ".py",
   "mimetype": "text/x-python",
   "name": "python",
   "nbconvert_exporter": "python",
   "pygments_lexer": "ipython3",
   "version": "3.10.3"
  },
  "orig_nbformat": 4,
  "vscode": {
   "interpreter": {
    "hash": "7afc08b952f75bca94590012dd49682c815a0fa68720c270ce23d7ae27bf110a"
   }
  }
 },
 "nbformat": 4,
 "nbformat_minor": 2
}
