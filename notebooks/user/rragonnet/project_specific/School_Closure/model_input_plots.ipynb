{
 "cells": [
  {
   "cell_type": "code",
   "execution_count": null,
   "metadata": {},
   "outputs": [],
   "source": [
    "from scipy import stats\n",
    "from numpy import linspace, exp\n",
    "import pandas as pd\n",
    "import matplotlib.pyplot as plt\n",
    "from autumn.core import inputs\n",
    "from notebooks.user.rragonnet.project_specific.School_Closure.plotting_constants import (\n",
    "    SCHOOL_PROJECT_NOTEBOOK_PATH, \n",
    "    FIGURE_WIDTH,\n",
    "    RESOLUTION,\n",
    "    set_up_style\n",
    ")\n",
    "\n",
    "set_up_style()"
   ]
  },
  {
   "cell_type": "markdown",
   "metadata": {},
   "source": [
    "## Sojourn time in latent and active compartments"
   ]
  },
  {
   "cell_type": "code",
   "execution_count": null,
   "metadata": {},
   "outputs": [],
   "source": [
    "fig_path = os.path.join(SCHOOL_PROJECT_NOTEBOOK_PATH, \"input_figs\", \"sojourns.pdf\")\n",
    "\n",
    "sojourn_means = {\n",
    "    \"latent\": 5.5,\n",
    "    \"active\": 8\n",
    "}\n",
    "titles = {\n",
    "    \"latent\": \"incubation period\",\n",
    "    \"active\": \"infectious period\"\n",
    "}\n",
    "colors = {\n",
    "    \"latent\": \"mediumpurple\",\n",
    "    \"active\": \"coral\"\n",
    "}\n",
    "n_replicates = 4\n",
    "fig, axes = plt.subplots(1, 2, figsize = (FIGURE_WIDTH, .42 * FIGURE_WIDTH), dpi=RESOLUTION, sharey=True)\n",
    "for i_ax, ax in enumerate(axes):\n",
    "    state = list(sojourn_means.keys())[i_ax]\n",
    "    distri = stats.gamma(a=n_replicates, scale=sojourn_means[state] / n_replicates)\n",
    "    x_min, x_max = 0., 20\n",
    "    x = linspace(x_min, x_max, 1000)\n",
    "\n",
    "    ax.plot(x, distri.pdf(x), '-', color=\"black\", lw=1.5, alpha=0.6)\n",
    "    ax.fill_between(x, distri.pdf(x), alpha=.5, color= colors[state])\n",
    "    \n",
    "    ax.set_xlabel(\"days\")\n",
    "    if i_ax == 0:\n",
    "        ax.set_ylabel(\"density\")\n",
    "    ax.set_title(titles[state],fontsize=12)\n",
    "    ax.locator_params(nbins=5)\n",
    "\n",
    "plt.tight_layout()\n",
    "plt.savefig(fig_path)"
   ]
  },
  {
   "cell_type": "markdown",
   "metadata": {},
   "source": [
    "## Load list of included countries"
   ]
  },
  {
   "cell_type": "code",
   "execution_count": null,
   "metadata": {},
   "outputs": [],
   "source": [
    "import yaml\n",
    "\n",
    "with open('included_countries.yml') as file:\n",
    "    included_countries = yaml.load(file, Loader=yaml.FullLoader)\n",
    "\n",
    "input_db = inputs.database.get_input_db()"
   ]
  },
  {
   "cell_type": "markdown",
   "metadata": {},
   "source": [
    "## UNESCO data"
   ]
  },
  {
   "cell_type": "code",
   "execution_count": 62,
   "metadata": {},
   "outputs": [],
   "source": [
    " # Get the UNSECO school closures data\n",
    "\n",
    "unesco_data = input_db.query(\n",
    "    table_name='school_closure', \n",
    "    columns=[\"date\", \"status\", \"country_id\"],\n",
    ")\n",
    "unesco_data = unesco_data[unesco_data[\"country_id\"].isin(included_countries)]"
   ]
  },
  {
   "cell_type": "code",
   "execution_count": 70,
   "metadata": {},
   "outputs": [],
   "source": [
    "unesco_data[\"country_id\"] = pd.Categorical(unesco_data[\"country_id\"]) \n",
    "unesco_data['order'] = unesco_data.country_id.cat.codes"
   ]
  },
  {
   "cell_type": "code",
   "execution_count": 104,
   "metadata": {},
   "outputs": [],
   "source": [
    "import datetime\n",
    "\n",
    "date_0 = datetime.date(2020, 2, 1)"
   ]
  },
  {
   "cell_type": "code",
   "execution_count": 113,
   "metadata": {},
   "outputs": [],
   "source": [
    "short_country_name = {\n",
    "    \"Russian Federation\": \"Russia\",\n",
    "    \"Iran, Islamic Republic of\": \"Iran\",\n",
    "    \"Korea, Republic of\": \"South Korea\",\n",
    "    \"Lao People's Democratic Republic\": \"Laos\",\n",
    "}"
   ]
  },
  {
   "cell_type": "code",
   "execution_count": 118,
   "metadata": {},
   "outputs": [],
   "source": [
    "colors = {\n",
    "    \"Fully open\": \"green\",\n",
    "    \"Partially open\": \"cornflowerblue\",\n",
    "    \"Closed due to COVID-19\": \"tomato\",\n",
    "    \"Academic break\": \"grey\"\n",
    "\n",
    "}\n",
    "fig, ax = plt.subplots(1, 1, figsize = (FIGURE_WIDTH, 2. * FIGURE_WIDTH), dpi=RESOLUTION)\n",
    "\n",
    "ax.scatter(unesco_data['date'], unesco_data['order'], color=unesco_data['status'].map(colors), marker=\"|\", s=50)\n",
    "\n",
    "for iso3, country in included_countries.items():\n",
    "    order = float(unesco_data[unesco_data['country_id'] == iso3].iloc[0]['order'])\n",
    "    if country in short_country_name:\n",
    "        country_label = short_country_name[country]\n",
    "    else:\n",
    "        country_label = country\n",
    "\n",
    "    ax.text(x=date_0, y=order, s=country_label, ha='right', va='center')\n",
    "\n",
    "ax.set_ylim((-1, 71))\n",
    "ax.get_yaxis().set_visible(False)\n",
    "ax.spines['top'].set_visible(False)\n",
    "ax.spines['right'].set_visible(False)\n",
    "ax.spines['left'].set_visible(False)\n",
    "\n",
    "\n",
    "# plt.legend()\n",
    "plt.tight_layout()\n",
    "plt.savefig(\"unesco.png\")\n",
    "plt.savefig(\"unesco.pdf\")\n",
    "plt.close()\n"
   ]
  }
 ],
 "metadata": {
  "kernelspec": {
   "display_name": "Python 3.10.3 ('autumn310')",
   "language": "python",
   "name": "python3"
  },
  "language_info": {
   "codemirror_mode": {
    "name": "ipython",
    "version": 3
   },
   "file_extension": ".py",
   "mimetype": "text/x-python",
   "name": "python",
   "nbconvert_exporter": "python",
   "pygments_lexer": "ipython3",
   "version": "3.10.3"
  },
  "orig_nbformat": 4,
  "vscode": {
   "interpreter": {
    "hash": "7afc08b952f75bca94590012dd49682c815a0fa68720c270ce23d7ae27bf110a"
   }
  }
 },
 "nbformat": 4,
 "nbformat_minor": 2
}
