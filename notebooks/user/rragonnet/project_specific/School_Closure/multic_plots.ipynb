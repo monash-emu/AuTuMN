{
 "cells": [
  {
   "cell_type": "code",
   "execution_count": null,
   "metadata": {},
   "outputs": [],
   "source": [
    "from matplotlib import pyplot as plt\n",
    "from matplotlib.patches import Rectangle\n",
    "\n",
    "from autumn.projects.sm_covid2.common_school.output_plots.multicountry import plot_multic_relative_outputs, plot_relative_map\n",
    "\n",
    "\n",
    "import pandas as pd\n",
    "from pathlib import Path\n",
    "\n",
    "from autumn.projects.sm_covid2.common_school.runner_tools import INCLUDED_COUNTRIES\n",
    "iso3_list = list(INCLUDED_COUNTRIES['google_mobility'].keys())"
   ]
  },
  {
   "cell_type": "code",
   "execution_count": null,
   "metadata": {},
   "outputs": [],
   "source": [
    "import random\n",
    "\n",
    "run_paths_dict = {}\n",
    "\n",
    "available_iso3s = [\"FRA\", \"BOL\", \"MAR\", \"PHL\", \"AUS\"]\n",
    "for iso3 in iso3_list:\n",
    "    if iso3 in available_iso3s:\n",
    "        run_paths_dict[iso3] = f\"projects/school_project/{iso3}/2023-08-30T1023-fixedbug_main_LHS16_opt10000_mc5000n50000\"\n",
    "    else:        \n",
    "        proxy_iso3 = random.choice(available_iso3s)\n",
    "        run_paths_dict[iso3] = f\"projects/school_project/{proxy_iso3}/2023-08-30T1023-fixedbug_main_LHS16_opt10000_mc5000n50000\""
   ]
  },
  {
   "cell_type": "code",
   "execution_count": null,
   "metadata": {},
   "outputs": [],
   "source": [
    "def get_multic_relative_outputs(run_paths_dict: dict[str, str]) -> dict[str, pd.DataFrame]:\n",
    "    projects_path = Path.home() / \"Models/AuTuMN_new/data/outputs/runs/\"\n",
    "    diff_quantiles_dfs = {\n",
    "        iso3: pd.read_parquet(projects_path / run_path / \"output\" / \"diff_quantiles_df.parquet\") for iso3, run_path in run_paths_dict.items()\n",
    "    }        \n",
    "    return diff_quantiles_dfs"
   ]
  },
  {
   "cell_type": "code",
   "execution_count": null,
   "metadata": {},
   "outputs": [],
   "source": [
    "dfs_dict = get_multic_relative_outputs(run_paths_dict)"
   ]
  },
  {
   "cell_type": "code",
   "execution_count": null,
   "metadata": {},
   "outputs": [],
   "source": [
    "fig = plot_multic_relative_outputs(dfs_dict)"
   ]
  },
  {
   "cell_type": "code",
   "execution_count": null,
   "metadata": {},
   "outputs": [],
   "source": [
    "fig =  plot_relative_map(dfs_dict, \"delta_hospital_peak_relative\")\n",
    "fig.show()"
   ]
  },
  {
   "cell_type": "code",
   "execution_count": null,
   "metadata": {},
   "outputs": [],
   "source": [
    "fig =  plot_relative_map(dfs_dict, \"cases_averted_relative\")\n",
    "fig.show()"
   ]
  },
  {
   "cell_type": "code",
   "execution_count": null,
   "metadata": {},
   "outputs": [],
   "source": [
    "fig.write_image(\"testMAP.pdf\")"
   ]
  }
 ],
 "metadata": {
  "kernelspec": {
   "display_name": "summer2",
   "language": "python",
   "name": "python3"
  },
  "language_info": {
   "codemirror_mode": {
    "name": "ipython",
    "version": 3
   },
   "file_extension": ".py",
   "mimetype": "text/x-python",
   "name": "python",
   "nbconvert_exporter": "python",
   "pygments_lexer": "ipython3",
   "version": "3.10.11"
  },
  "orig_nbformat": 4
 },
 "nbformat": 4,
 "nbformat_minor": 2
}
