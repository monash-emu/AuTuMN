{
 "cells": [
  {
   "cell_type": "code",
   "execution_count": null,
   "metadata": {},
   "outputs": [],
   "source": [
    "from autumn.projects.sm_covid2.common_school.calibration import get_bcm_object, plot_model_fit\n",
    "\n",
    "from autumn.projects.sm_covid2.common_school.runner_tools import optimise_model_fit\n",
    "\n",
    "from scipy.stats import qmc"
   ]
  },
  {
   "cell_type": "code",
   "execution_count": null,
   "metadata": {},
   "outputs": [],
   "source": [
    "iso3 = \"FRA\"\n",
    "n_samples = 4"
   ]
  },
  {
   "cell_type": "code",
   "execution_count": null,
   "metadata": {},
   "outputs": [],
   "source": [
    "bcm = get_bcm_object(iso3, \"main\")"
   ]
  },
  {
   "cell_type": "code",
   "execution_count": null,
   "metadata": {},
   "outputs": [],
   "source": [
    "d = sum([p.size for p in bcm.priors.values()])\n",
    "sampler = qmc.LatinHypercube(d=d)\n",
    "regular_sample = sampler.random(n=n_samples)"
   ]
  },
  {
   "cell_type": "code",
   "execution_count": null,
   "metadata": {},
   "outputs": [],
   "source": [
    "l_bounds = [item for sublist in [ [p.bounds()[0]] * p.size for p in bcm.priors.values()] for item in sublist]\n",
    "u_bounds = [item for sublist in [ [p.bounds()[1]] * p.size for p in bcm.priors.values()] for item in sublist]\n"
   ]
  },
  {
   "cell_type": "code",
   "execution_count": null,
   "metadata": {},
   "outputs": [],
   "source": [
    "sample = qmc.scale(regular_sample, l_bounds, u_bounds)"
   ]
  },
  {
   "cell_type": "code",
   "execution_count": null,
   "metadata": {},
   "outputs": [],
   "source": [
    "def get_sample_as_dict(s, priors):\n",
    "    \n",
    "    i = 0\n",
    "    sample_dict = {}\n",
    "    for param_name, p in priors.items():\n",
    "        if p.size == 1:\n",
    "            sample_dict[param_name] = s[i]\n",
    "        else:\n",
    "            sample_dict[param_name] = list(s[i:(i+p.size)])\n",
    "        i += p.size\n",
    "        \n",
    "    return sample_dict"
   ]
  },
  {
   "cell_type": "code",
   "execution_count": null,
   "metadata": {},
   "outputs": [],
   "source": [
    "sample_as_dicts = [get_sample_as_dict(s, bcm.priors) for s in sample]"
   ]
  },
  {
   "cell_type": "code",
   "execution_count": null,
   "metadata": {},
   "outputs": [],
   "source": [
    "best_params = {}\n",
    "for j, sample_dict in enumerate(sample_as_dicts):\n",
    "    best_p, _ = optimise_model_fit(bcm, 2000, 5000, suggested_start=sample_dict)\n",
    "    best_params[j] = best_p"
   ]
  },
  {
   "cell_type": "code",
   "execution_count": null,
   "metadata": {},
   "outputs": [],
   "source": [
    "for i, params in best_params.items():\n",
    "    plot_model_fit(bcm, params, f\"{iso3}: {i + 1}\")"
   ]
  },
  {
   "cell_type": "code",
   "execution_count": null,
   "metadata": {},
   "outputs": [],
   "source": []
  }
 ],
 "metadata": {
  "kernelspec": {
   "display_name": "summer2",
   "language": "python",
   "name": "python3"
  },
  "language_info": {
   "codemirror_mode": {
    "name": "ipython",
    "version": 3
   },
   "file_extension": ".py",
   "mimetype": "text/x-python",
   "name": "python",
   "nbconvert_exporter": "python",
   "pygments_lexer": "ipython3",
   "version": "3.10.11"
  },
  "orig_nbformat": 4
 },
 "nbformat": 4,
 "nbformat_minor": 2
}
