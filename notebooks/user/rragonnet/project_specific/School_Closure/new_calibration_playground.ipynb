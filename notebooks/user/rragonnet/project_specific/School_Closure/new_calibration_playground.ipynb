{
 "cells": [
  {
   "cell_type": "code",
   "execution_count": null,
   "metadata": {},
   "outputs": [],
   "source": [
    "from autumn.projects.sm_covid2.common_school.runner_tools import (\n",
    "    INCLUDED_COUNTRIES, \n",
    "    optimise_model_fit,\n",
    "    resume_opti_search,\n",
    "    sample_with_pymc\n",
    ")\n",
    "from autumn.projects.sm_covid2.common_school.calibration import get_bcm_object, plot_model_fit"
   ]
  },
  {
   "cell_type": "code",
   "execution_count": null,
   "metadata": {},
   "outputs": [],
   "source": [
    "region = \"france\"\n",
    "\n",
    "# Load BayesianCompartmentalModelObject\n",
    "bcm = get_bcm_object(region)"
   ]
  },
  {
   "cell_type": "code",
   "execution_count": null,
   "metadata": {},
   "outputs": [],
   "source": [
    "# Perform optimisation\n",
    "best_params, opt = optimise_model_fit(bcm, 2000, 5000)"
   ]
  },
  {
   "cell_type": "code",
   "execution_count": null,
   "metadata": {},
   "outputs": [],
   "source": [
    "## Resume search if required\n",
    "# best_params, opt = resume_opti_search(opt, 1000)"
   ]
  },
  {
   "cell_type": "code",
   "execution_count": null,
   "metadata": {},
   "outputs": [],
   "source": [
    "plot_model_fit(bcm, best_params, region)"
   ]
  },
  {
   "cell_type": "code",
   "execution_count": null,
   "metadata": {},
   "outputs": [],
   "source": [
    "idata = sample_with_pymc(bcm, initvals=best_params, draws=1000, tune=500, cores=8, chains=8)"
   ]
  },
  {
   "cell_type": "code",
   "execution_count": null,
   "metadata": {},
   "outputs": [],
   "source": [
    "idata.to_netcdf(\"calib_26May.nc\")"
   ]
  },
  {
   "cell_type": "code",
   "execution_count": null,
   "metadata": {},
   "outputs": [],
   "source": [
    "# def run_scenarios(idata, n_samples: int = 100):\n"
   ]
  }
 ],
 "metadata": {
  "kernelspec": {
   "display_name": "summer2",
   "language": "python",
   "name": "python3"
  },
  "language_info": {
   "codemirror_mode": {
    "name": "ipython",
    "version": 3
   },
   "file_extension": ".py",
   "mimetype": "text/x-python",
   "name": "python",
   "nbconvert_exporter": "python",
   "pygments_lexer": "ipython3",
   "version": "3.10.11"
  },
  "orig_nbformat": 4
 },
 "nbformat": 4,
 "nbformat_minor": 2
}
