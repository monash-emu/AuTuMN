{
 "cells": [
  {
   "cell_type": "code",
   "execution_count": null,
   "id": "e19523e4",
   "metadata": {},
   "outputs": [],
   "source": [
    "# Standard imports, plotting option and constant definition\n",
    "import pandas as pd\n",
    "from scipy import stats\n",
    "import numpy as np\n",
    "from jax import numpy as jnp\n",
    "\n",
    "pd.options.plotting.backend = \"plotly\"\n",
    "\n",
    "import numpyro\n",
    "from numpyro import distributions as dist\n",
    "\n",
    "from numpyro.infer.initialization import init_to_median, init_to_value, init_to_sample\n",
    "from numpyro.infer import MCMC\n",
    "from jax import random\n",
    "\n",
    "from autumn.core.project import get_project\n",
    "from autumn.settings.region import Region"
   ]
  },
  {
   "cell_type": "markdown",
   "id": "13193e25",
   "metadata": {},
   "source": [
    "# Build a model object"
   ]
  },
  {
   "cell_type": "code",
   "execution_count": null,
   "id": "fccc630a",
   "metadata": {},
   "outputs": [],
   "source": [
    "project = get_project(\"sm_covid2\", Region.FRANCE)\n",
    "params = project.param_set.baseline\n",
    "sm_model = project.run_baseline_model(params) "
   ]
  },
  {
   "cell_type": "code",
   "execution_count": null,
   "id": "f96929b1",
   "metadata": {},
   "outputs": [],
   "source": [
    "runner = sm_model.get_runner(params.to_dict(), dyn_params=[\"contact_rate\"])"
   ]
  },
  {
   "cell_type": "markdown",
   "id": "6e3a7690",
   "metadata": {},
   "source": [
    "### Convert targets to pandas Series"
   ]
  },
  {
   "cell_type": "code",
   "execution_count": null,
   "id": "2a4eded3",
   "metadata": {},
   "outputs": [],
   "source": [
    "targets = project.calibration.targets"
   ]
  },
  {
   "cell_type": "code",
   "execution_count": null,
   "id": "37c7a758",
   "metadata": {},
   "outputs": [],
   "source": [
    "def get_target_indices(target_series, model_times):\n",
    "    return jnp.array([np.where(model_times == idx)[0][0] for idx in target_series.index])"
   ]
  },
  {
   "cell_type": "code",
   "execution_count": null,
   "id": "00ac2fd9",
   "metadata": {},
   "outputs": [],
   "source": [
    "np_targets, target_indices = {}, {}\n",
    "for target in targets:\n",
    "    np_targets[target.data.name] = jnp.array(target.data.to_numpy())\n",
    "    target_indices[target.data.name] = get_target_indices(target.data, sm_model.times)"
   ]
  },
  {
   "cell_type": "code",
   "execution_count": null,
   "id": "9b7bf114",
   "metadata": {},
   "outputs": [],
   "source": [
    "priors = {\n",
    "    \"contact_rate\": dist.Uniform(0.01, 0.5),\n",
    "}"
   ]
  },
  {
   "cell_type": "code",
   "execution_count": null,
   "id": "2777426d",
   "metadata": {},
   "outputs": [],
   "source": [
    "all_params = sm_model.builder.get_default_parameters()"
   ]
  },
  {
   "cell_type": "code",
   "execution_count": null,
   "id": "6c03555c",
   "metadata": {},
   "outputs": [],
   "source": [
    "def model():\n",
    "    # numpyro.sample is one of the most common numpyro primitives\n",
    "    # it generates a sample based on the supplied distribution,\n",
    "    # and the PRNGKey supplied by the optimizer (more on this later)\n",
    "    # In most example models the samples would be explicit,\n",
    "    # but here we iterate through our priors dictionary\n",
    "\n",
    "    param_updates = {k:numpyro.sample(k, priors[k]) for k in priors}\n",
    "\n",
    "    \n",
    "    # runer._run_func is a pure compiled jax function - it bypasses\n",
    "    # any additional CPython code, therefore can be used directly in\n",
    "    # numpyro models\n",
    "    results = runner._run_func(all_params | param_updates)\n",
    "    \n",
    "    # Now we assemble our loglikelihood, and collect additional information\n",
    "    for k,obs in np_targets.items():\n",
    "        # Note we can use normal looking python code here on our model outputs;\n",
    "        # internally these are all jax types\n",
    "        modelled = results[\"derived_outputs\"][k][target_indices[k]]\n",
    "        \n",
    "        # For some models, we would use the sample primitive here as well,\n",
    "        # and supply an 'obs' argument\n",
    "        # But, by using the numpyro factor primitive we can assemble a more\n",
    "        # customized ll function, as well as save specific components\n",
    "        # via the deterministic primitive\n",
    "        #k_fac = dist.TruncatedNormal(modelled, jnp.std(obs), low=0.0).log_prob(obs).sum()\n",
    "        k_fac = dist.Normal(modelled, jnp.std(obs)).log_prob(obs).sum()\n",
    "        \n",
    "        numpyro.factor(k, k_fac)\n",
    "        numpyro.deterministic(f\"{k}_ll\", k_fac)\n",
    "        #numpyro.deterministic(f\"{k}_sum\", jnp.sum(modelled))"
   ]
  },
  {
   "cell_type": "code",
   "execution_count": null,
   "id": "a2043f73",
   "metadata": {},
   "outputs": [],
   "source": [
    "initial_parameters = {\n",
    "    \"contact_rate\": jnp.array((0.2,)),\n",
    "}\n",
    "\n",
    "#sa_kernel = numpyro.infer.SA(model, init_strategy=init_to_value(values=initial_parameters))\n",
    "sa_kernel = numpyro.infer.SA(model, dense_mass=True, adapt_state_size=8, init_strategy=init_to_median)"
   ]
  },
  {
   "cell_type": "code",
   "execution_count": null,
   "id": "7301f937",
   "metadata": {},
   "outputs": [],
   "source": [
    "mcmc = MCMC(sa_kernel, num_chains=2, num_samples=1000,num_warmup=1000)#,thinning=1)\n",
    "rng_key = random.PRNGKey(1)\n",
    "mcmc.run(rng_key, extra_fields=(\"accept_prob\",))\n",
    "#mcmc.run(rng_key)#, init_params=initial_parameters)"
   ]
  },
  {
   "cell_type": "code",
   "execution_count": null,
   "id": "e2589dad",
   "metadata": {},
   "outputs": [],
   "source": [
    "pd.Series(mcmc.get_extra_fields()['accept_prob']).plot()"
   ]
  },
  {
   "cell_type": "code",
   "execution_count": null,
   "id": "975f3b6b",
   "metadata": {},
   "outputs": [],
   "source": [
    "mcmc.print_summary(exclude_deterministic=False)"
   ]
  },
  {
   "cell_type": "code",
   "execution_count": null,
   "id": "863ca516",
   "metadata": {},
   "outputs": [],
   "source": [
    "class SampleWrapper:\n",
    "    def __init__(self, samples, params):\n",
    "        self.samples = samples\n",
    "        self.params = params\n",
    "        \n",
    "    def __getitem__(self, idx):\n",
    "        out = {}\n",
    "        for k,v in samples.items():\n",
    "            if k in self.params:\n",
    "                out[k] = v[idx]\n",
    "        return out"
   ]
  },
  {
   "cell_type": "code",
   "execution_count": null,
   "id": "2646ac7e",
   "metadata": {},
   "outputs": [],
   "source": [
    "samples = mcmc.get_samples(False)"
   ]
  },
  {
   "cell_type": "code",
   "execution_count": null,
   "id": "9c13cc28",
   "metadata": {},
   "outputs": [],
   "source": [
    "sw = SampleWrapper(samples, sir_model.get_input_parameters())"
   ]
  },
  {
   "cell_type": "code",
   "execution_count": null,
   "id": "74b6dae1",
   "metadata": {},
   "outputs": [],
   "source": [
    "best_idx = pd.Series(sw.samples['active_cases_ll']).idxmax()"
   ]
  },
  {
   "cell_type": "code",
   "execution_count": null,
   "id": "73cb4f54",
   "metadata": {},
   "outputs": [],
   "source": [
    "runner.run(sw[best_idx])\n",
    "# Plot the model outputs against the data\n",
    "output_df = pd.DataFrame({\n",
    "    \"modelled\": runner.get_derived_outputs_df()[\"active_cases\"],\n",
    "    \"observed\": data.active_cases\n",
    "})\n",
    "output_df.plot(kind='scatter')"
   ]
  },
  {
   "cell_type": "code",
   "execution_count": null,
   "id": "70e193dd",
   "metadata": {},
   "outputs": [],
   "source": [
    "sampled_df = pd.DataFrame(index=runner.get_derived_outputs_df().index)\n",
    "\n",
    "for i in range(100):\n",
    "    runner.run(sw[i*100])\n",
    "    sampled_df[i] = runner.get_derived_outputs_df()['active_cases']"
   ]
  },
  {
   "cell_type": "code",
   "execution_count": null,
   "id": "b145fced",
   "metadata": {},
   "outputs": [],
   "source": [
    "sampled_df.plot()"
   ]
  }
 ],
 "metadata": {
  "kernelspec": {
   "display_name": "Python 3 (ipykernel)",
   "language": "python",
   "name": "python3"
  },
  "language_info": {
   "codemirror_mode": {
    "name": "ipython",
    "version": 3
   },
   "file_extension": ".py",
   "mimetype": "text/x-python",
   "name": "python",
   "nbconvert_exporter": "python",
   "pygments_lexer": "ipython3",
   "version": "3.10.3"
  },
  "vscode": {
   "interpreter": {
    "hash": "7afc08b952f75bca94590012dd49682c815a0fa68720c270ce23d7ae27bf110a"
   }
  }
 },
 "nbformat": 4,
 "nbformat_minor": 5
}
