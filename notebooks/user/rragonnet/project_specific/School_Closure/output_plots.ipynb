{
 "cells": [
  {
   "cell_type": "code",
   "execution_count": null,
   "metadata": {},
   "outputs": [],
   "source": [
    "from matplotlib import pyplot as plt\n",
    "import os\n",
    "import numpy as np\n",
    "import pandas as pd\n",
    "import datetime\n",
    "from matplotlib.patches import Rectangle\n",
    "\n",
    "from summer.utils import ref_times_to_dti\n",
    "from autumn.core.runs.managed import ManagedRun\n",
    "from autumn.models.sm_covid import base_params\n",
    "from autumn.settings.constants import COVID_BASE_DATETIME\n",
    "\n",
    "from autumn.projects.sm_covid.common_school.project_maker import get_school_project_timeseries\n",
    "from notebooks.user.rragonnet.project_specific.School_Closure.plotting_constants import (\n",
    "    SCHOOL_PROJECT_NOTEBOOK_PATH, \n",
    "    FIGURE_WIDTH,\n",
    "    RESOLUTION,\n",
    "    INCLUDED_COUNTRIES,\n",
    "    set_up_style\n",
    ")\n",
    "\n",
    "set_up_style()\n",
    "output_fig_path = os.path.join(SCHOOL_PROJECT_NOTEBOOK_PATH, \"output_figs\")"
   ]
  },
  {
   "cell_type": "code",
   "execution_count": null,
   "metadata": {},
   "outputs": [],
   "source": [
    "run_id = \"sm_covid/france/1660709197/8b139a0\"\n",
    "mr = ManagedRun(run_id)\n",
    "pbi = mr.powerbi.get_db()\n",
    "targets = pbi.get_targets()\n",
    "results = pbi.get_uncertainty()\n",
    "\n",
    "model_dates = pbi.get_derived_outputs().index\n",
    "model_start, model_end = min(model_dates), max(model_dates)"
   ]
  },
  {
   "cell_type": "code",
   "execution_count": null,
   "metadata": {},
   "outputs": [],
   "source": [
    "title_lookup = {\n",
    "    \"infection_deaths\": \"COVID-19-specific deaths\",\n",
    "    \"cumulative_infection_deaths\": \"Cumulative COVID-19-specific deaths\",\n",
    "    \"cumulative_incidence\": \"Cumulative COVID-19 disease incidence\",\n",
    "\n",
    "    \"hospital_admissions\": \"new daily hospital admissions\",\n",
    "    \"icu_admissions\": \"new daily admissions to ICU\",\n",
    "    \"incidence\": \"daily new infections\",\n",
    "    \"hospital_admissions\": \"daily hospital admissions\",\n",
    "    \"hospital_occupancy\": \"total hospital beds\",\n",
    "    \"icu_admissions\": \"daily ICU admissions\",\n",
    "    \"icu_occupancy\": \"total ICU beds\",\n",
    "    \"prop_ever_infected\": \"ever infected with Delta or Omicron\",\n",
    "}\n",
    "sc_colours = [\"black\", \"crimson\"]\n",
    "unc_sc_colours = ((0.2, 0.2, 0.8), (0.8, 0.2, 0.2), (0.2, 0.8, 0.2), (0.8, 0.8, 0.2), (0.8, 0.2, 0.2), (0.2, 0.8, 0.2), (0.8, 0.8, 0.2))\n"
   ]
  },
  {
   "cell_type": "markdown",
   "metadata": {},
   "source": [
    "# Model calibration"
   ]
  },
  {
   "cell_type": "code",
   "execution_count": null,
   "metadata": {},
   "outputs": [],
   "source": [
    "timeseries = get_school_project_timeseries(\"France\")\n",
    "all_targets = {}\n",
    "for k, v in timeseries.items():\n",
    "    all_targets[k] = pd.Series(data=v['values'], index=v['times'], name=v['output_key'])\n",
    "for target in all_targets:\n",
    "    all_targets[target].index = ref_times_to_dti(REF_DATE, all_targets[target].index)\n",
    "\n",
    "    all_targets[target] = all_targets[target][model_start <= all_targets[target].index][all_targets[target].index <= model_end]\n"
   ]
  },
  {
   "cell_type": "code",
   "execution_count": null,
   "metadata": {},
   "outputs": [],
   "source": [
    "\n",
    "def plot_model_fit(results, output_name):\n",
    "    plt.rcParams.update({'font.size': 12})\n",
    "    \n",
    "    fig, axis = plt.subplots(1, 1, figsize=(FIGURE_WIDTH, FIGURE_WIDTH *.7))\n",
    "\n",
    "    colour = unc_sc_colours[0]\n",
    "    \n",
    "    results_df = results[(output_name, 0)]\n",
    "    indices = results_df.index\n",
    "    axis.fill_between(\n",
    "        indices, \n",
    "        results_df[0.025], results_df[0.975], \n",
    "        color=colour, \n",
    "        alpha=0.5,\n",
    "        label=\"_nolegend_\",\n",
    "    )\n",
    "    axis.fill_between(\n",
    "        indices, \n",
    "        results_df[0.25], results_df[0.75], \n",
    "        color=colour, alpha=0.6, \n",
    "    )\n",
    "    axis.plot(indices, results_df[0.500], color=colour, zorder=10)\n",
    "\n",
    "    if output_name in all_targets and len(all_targets[output_name]) > 0:\n",
    "        all_targets[output_name].plot.line(\n",
    "            ax=axis, \n",
    "            linewidth=0., \n",
    "            markersize=2.,\n",
    "            marker=\"o\",\n",
    "            markerfacecolor=\"black\",\n",
    "            markeredgecolor=\"black\",\n",
    "            alpha=1,\n",
    "            label=\"_nolegend_\",\n",
    "            zorder=11,\n",
    "        )\n",
    "    axis.tick_params(axis=\"x\", labelrotation=45)\n",
    "    title = output_name if output_name not in title_lookup else title_lookup[output_name]\n",
    "    axis.set_title(title)\n",
    "    axis.set_xlim((model_start, model_end))\n",
    "    fig.tight_layout()\n",
    "\n",
    "    # axis.set_ylim((0, 1500))"
   ]
  },
  {
   "cell_type": "code",
   "execution_count": null,
   "metadata": {},
   "outputs": [],
   "source": [
    "plot_model_fit(results, \"cumulative_infection_deaths\")"
   ]
  },
  {
   "cell_type": "markdown",
   "metadata": {},
   "source": [
    "# Scenario comparison over time"
   ]
  },
  {
   "cell_type": "code",
   "execution_count": null,
   "metadata": {},
   "outputs": [],
   "source": [
    "\n",
    "def plot_two_scenarios(results, output_name, include_unc=False):\n",
    "    plt.rcParams.update({'font.size': 12})\n",
    "    fig, axis = plt.subplots(1, 1, figsize=(FIGURE_WIDTH, FIGURE_WIDTH *.7))\n",
    "    for scenario in [0, 1]:\n",
    "        colour = sc_colours[scenario]\n",
    "        results_df = results[(output_name, scenario)]\n",
    "        indices = results_df.index\n",
    "        label = \"baseline\" if scenario == 0 else \"schools open\"\n",
    "        scenario_zorder = 10 if scenario == 0 else scenario\n",
    "\n",
    "        if include_unc:\n",
    "            axis.fill_between(\n",
    "                indices, \n",
    "                results_df[0.25], results_df[0.75], \n",
    "                color=colour, alpha=0.7, \n",
    "                # label=interval_label,\n",
    "                zorder=scenario_zorder\n",
    "            )\n",
    "\n",
    "        axis.plot(indices, results_df[0.500], color=colour, label=label, lw=2.)\n",
    "        axis.tick_params(axis=\"x\", labelrotation=45)\n",
    "        title = output_name if output_name not in title_lookup else title_lookup[output_name]\n",
    "        axis.set_title(title)\n",
    "        axis.set_xlim((model_start, model_end))\n",
    "\n",
    "        axis.legend()\n",
    "    fig.tight_layout()\n"
   ]
  },
  {
   "cell_type": "code",
   "execution_count": null,
   "metadata": {},
   "outputs": [],
   "source": [
    "plot_two_scenarios(results, \"infection_deaths\", False)"
   ]
  },
  {
   "cell_type": "markdown",
   "metadata": {},
   "source": [
    "# Scenario comparison final size"
   ]
  },
  {
   "cell_type": "code",
   "execution_count": null,
   "metadata": {},
   "outputs": [],
   "source": [
    "def plot_final_size_compare(results, output_name):\n",
    "\n",
    "    plt.rcParams.update({'font.size': 12})    \n",
    "    fig, axis = plt.subplots(1, 1, figsize=(FIGURE_WIDTH * .6 , FIGURE_WIDTH *.7))\n",
    "    box_width = .7\n",
    "    color = 'black'\n",
    "    box_color= 'coral'\n",
    "    y_max = 0\n",
    "    for i, label in enumerate([\"baseline\", \"schools open\"]):\n",
    "        quantiles = results[(output_name, i)].iloc[-1]\n",
    "        x = 1 + i\n",
    "\n",
    "        # median\n",
    "        axis.hlines(y=quantiles[0.5], xmin=x - box_width / 2. , xmax= x + box_width / 2., lw=2., color=color, zorder=3)    \n",
    "        \n",
    "        # IQR\n",
    "        height = quantiles[0.75] - quantiles[0.25]\n",
    "        rect = Rectangle(xy=(x - box_width / 2., quantiles[0.25]), width=box_width, height=height, zorder=2, facecolor=box_color)\n",
    "        axis.add_patch(rect)\n",
    "\n",
    "        # 95% CI\n",
    "        axis.vlines(x=x, ymin=quantiles[0.025] , ymax=quantiles[0.975], lw=1.3, color=color, zorder=1)\n",
    "\n",
    "        y_max = max(y_max, quantiles[0.975])\n",
    "    title = output_name if output_name not in title_lookup else title_lookup[output_name]\n",
    "    axis.set_title(title)\n",
    "    plt.xticks(ticks=[1, 2], labels=[\"baseline\", \"schools open\"], fontsize=15)\n",
    "\n",
    "    axis.set_xlim((0., 3.))\n",
    "    axis.set_ylim((0, y_max * 1.2))\n",
    "    fig.tight_layout()\n",
    "\n"
   ]
  },
  {
   "cell_type": "code",
   "execution_count": null,
   "metadata": {},
   "outputs": [],
   "source": [
    "plot_final_size_compare(results, \"cumulative_infection_deaths\")"
   ]
  },
  {
   "cell_type": "code",
   "execution_count": null,
   "metadata": {},
   "outputs": [],
   "source": [
    "plot_final_size_compare(results, \"cumulative_incidence\")"
   ]
  },
  {
   "cell_type": "markdown",
   "metadata": {},
   "source": [
    "# Age-specific incidence"
   ]
  },
  {
   "cell_type": "code",
   "execution_count": null,
   "metadata": {},
   "outputs": [],
   "source": []
  }
 ],
 "metadata": {
  "kernelspec": {
   "display_name": "Python 3.10.3 ('autumn310')",
   "language": "python",
   "name": "python3"
  },
  "language_info": {
   "codemirror_mode": {
    "name": "ipython",
    "version": 3
   },
   "file_extension": ".py",
   "mimetype": "text/x-python",
   "name": "python",
   "nbconvert_exporter": "python",
   "pygments_lexer": "ipython3",
   "version": "3.10.3"
  },
  "orig_nbformat": 4,
  "vscode": {
   "interpreter": {
    "hash": "7afc08b952f75bca94590012dd49682c815a0fa68720c270ce23d7ae27bf110a"
   }
  }
 },
 "nbformat": 4,
 "nbformat_minor": 2
}
