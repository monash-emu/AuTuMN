{
 "cells": [
  {
   "cell_type": "code",
   "execution_count": 1,
   "metadata": {},
   "outputs": [
    {
     "name": "stderr",
     "output_type": "stream",
     "text": [
      "c:\\Users\\rrag0004\\.conda\\envs\\summer2\\lib\\site-packages\\summer\\runner\\vectorized_runner.py:363: NumbaDeprecationWarning: \u001b[1mThe 'nopython' keyword argument was not supplied to the 'numba.jit' decorator. The implicit default value for this argument is currently False, but it will be changed to True in Numba 0.59.0. See https://numba.readthedocs.io/en/stable/reference/deprecation.html#deprecation-of-object-mode-fall-back-behaviour-when-using-jit for details.\u001b[0m\n",
      "  def get_strain_infection_values(\n",
      "WARNING (pytensor.tensor.blas): Using NumPy C-API based implementation for BLAS functions.\n"
     ]
    }
   ],
   "source": [
    "from autumn.projects.sm_covid2.common_school.project_maker import get_school_project_parameter_set\n",
    "from autumn.projects.sm_covid2.common_school.calibration import get_bcm_object\n",
    "import pandas as pd\n",
    "from copy import copy\n",
    "from pathlib import Path"
   ]
  },
  {
   "cell_type": "code",
   "execution_count": 2,
   "metadata": {},
   "outputs": [],
   "source": [
    "bcm = get_bcm_object(\"FRA\")"
   ]
  },
  {
   "cell_type": "code",
   "execution_count": 3,
   "metadata": {},
   "outputs": [],
   "source": [
    "params_info = pd.read_excel(\"params_info.xlsx\")"
   ]
  },
  {
   "cell_type": "code",
   "execution_count": 4,
   "metadata": {},
   "outputs": [],
   "source": [
    "iso3 = \"FRA\"\n",
    "first_date_with_death = 0\n",
    "sero_age_min = 0\n",
    "sero_age_max = 100\n",
    "analysis='main'"
   ]
  },
  {
   "cell_type": "code",
   "execution_count": 5,
   "metadata": {},
   "outputs": [],
   "source": [
    "model_params = get_school_project_parameter_set(\n",
    "    iso3,\n",
    "    first_date_with_death,\n",
    "    sero_age_min,\n",
    "    sero_age_max,\n",
    "    analysis\n",
    ").baseline"
   ]
  },
  {
   "cell_type": "code",
   "execution_count": 6,
   "metadata": {},
   "outputs": [],
   "source": [
    "def get_param_val(p_name, model_params):\n",
    "    if \".\" not in p_name:\n",
    "        return model_params[p_name]\n",
    "    else:\n",
    "        nested_par = model_params\n",
    "        nested_keys = p_name.split(\".\")\n",
    "        for k in nested_keys:\n",
    "            nested_par = nested_par[k]        \n",
    "        return nested_par"
   ]
  },
  {
   "cell_type": "code",
   "execution_count": 7,
   "metadata": {},
   "outputs": [],
   "source": [
    "def make_output_params_df(params_info, model_params):\n",
    "    params_df = copy(params_info)\n",
    "\n",
    "    for index in params_df.index:\n",
    "        p_name = params_df.loc[index, 'param_key']\n",
    "        value = params_df.loc[index, 'value']\n",
    "        if value == \"LOAD\":\n",
    "            if p_name in bcm.priors:\n",
    "                p = bcm.priors[p_name]\n",
    "                bounds = p.bounds()\n",
    "                displayed_value = f\"Uniform ({bounds[0]}, {bounds[1]})\"\n",
    "            else:\n",
    "                displayed_value = get_param_val(p_name, model_params)\n",
    "            params_df.loc[index, 'value'] = displayed_value\n",
    "        elif value in (\"HEADER\", \"SUBHEADER\"):\n",
    "            params_df.loc[index, 'value'] = \"\"\n",
    "            params_df.loc[index, 'unit'] = \"\"\n",
    "            params_df.loc[index, 'evidence'] = \"\"\n",
    "\n",
    "            header_name = params_df.loc[index, 'legible_name']\n",
    "            if value == \"HEADER\":\n",
    "                params_df.loc[index, 'legible_name'] = f\"BEGINBOLD{header_name}ENDBOLD\"\n",
    "            else:  # \"SUBHEADER\"\n",
    "                params_df.loc[index, 'legible_name'] = f\"BEGINITAL{header_name}ENDITAL\"\n",
    "\n",
    "        # tag calibrated parameters\n",
    "        if p_name in bcm.priors:\n",
    "            legible_name = params_df.loc[index, 'legible_name']\n",
    "            params_df.loc[index, 'legible_name'] = f\"{legible_name} SUPERC\"\n",
    "\n",
    "    return params_df"
   ]
  },
  {
   "cell_type": "code",
   "execution_count": 8,
   "metadata": {},
   "outputs": [],
   "source": [
    "df = make_output_params_df(params_info, model_params)"
   ]
  },
  {
   "cell_type": "code",
   "execution_count": 9,
   "metadata": {},
   "outputs": [],
   "source": [
    "pd.set_option('display.max_colwidth', None)\n",
    "tex_table = df.to_latex(\n",
    "    columns=['legible_name', 'value', 'evidence'],\n",
    "    header=['Parameter', \"Value/Distribution\", \"Evidence\"],\n",
    "    index=False,\n",
    "    label=\"param_table\",\n",
    "    caption=\"Model parameters\"\n",
    ")"
   ]
  },
  {
   "cell_type": "code",
   "execution_count": 10,
   "metadata": {},
   "outputs": [],
   "source": [
    "# Handle citations\n",
    "tex_table = tex_table.replace(\"\\\\textbackslash cite\\\\\", r\"\\cite\").replace(\"\\\\}\", \"}\")"
   ]
  },
  {
   "cell_type": "code",
   "execution_count": 11,
   "metadata": {},
   "outputs": [],
   "source": [
    "# Equation mode not captured\n",
    "tex_table = tex_table.replace(\"(\\$m\\_S\\$)\", r\"($m_S$)\")\n",
    "tex_table = tex_table.replace(\"(\\$m\\_C\\$)\", r\"($m_C$)\")\n"
   ]
  },
  {
   "cell_type": "code",
   "execution_count": 12,
   "metadata": {},
   "outputs": [],
   "source": [
    "# Use bold and italic font types for headings and sub-headings\n",
    "tex_table = tex_table.replace(\"BEGINBOLD\", r\"\\textbf{\").replace(\"ENDBOLD\", r\"}\")\n",
    "tex_table = tex_table.replace(\"BEGINITAL\", r\"\\quad \\textit{\").replace(\"ENDITAL\", r\"}\")"
   ]
  },
  {
   "cell_type": "code",
   "execution_count": 13,
   "metadata": {},
   "outputs": [],
   "source": [
    "# include superscript C for calibrated parameters\n",
    "tex_table = tex_table.replace(\"SUPERC\", r\"\\textsuperscript{C}\")"
   ]
  },
  {
   "cell_type": "code",
   "execution_count": 14,
   "metadata": {},
   "outputs": [],
   "source": [
    "# Change the table font so its width matches the pagewidth \n",
    "tex_table = tex_table.replace(\"\\\\begin{tabular}\", r\"\\resizebox{\\textwidth}{!}{\\begin{tabular}\")\n",
    "tex_table = tex_table.replace(\"\\\\end{tabular}\", r\"\\end{tabular}}\")"
   ]
  },
  {
   "cell_type": "code",
   "execution_count": 15,
   "metadata": {},
   "outputs": [],
   "source": [
    "out_path = Path.home() / \"Models\"/ \"AuTuMN_new\" / \"docs\" / \"tex\" / \"tex_descriptions\" / \"projects\" / \"sm_covid\" / \"param_table.tex\""
   ]
  },
  {
   "cell_type": "code",
   "execution_count": 16,
   "metadata": {},
   "outputs": [],
   "source": [
    "with out_path.open(\"w\") as f:\n",
    "    f.write(tex_table)"
   ]
  },
  {
   "cell_type": "code",
   "execution_count": null,
   "metadata": {},
   "outputs": [],
   "source": []
  },
  {
   "cell_type": "code",
   "execution_count": null,
   "metadata": {},
   "outputs": [],
   "source": []
  }
 ],
 "metadata": {
  "kernelspec": {
   "display_name": "summer2",
   "language": "python",
   "name": "python3"
  },
  "language_info": {
   "codemirror_mode": {
    "name": "ipython",
    "version": 3
   },
   "file_extension": ".py",
   "mimetype": "text/x-python",
   "name": "python",
   "nbconvert_exporter": "python",
   "pygments_lexer": "ipython3",
   "version": "3.10.11"
  },
  "orig_nbformat": 4
 },
 "nbformat": 4,
 "nbformat_minor": 2
}
