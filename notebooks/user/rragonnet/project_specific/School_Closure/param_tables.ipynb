{
 "cells": [
  {
   "cell_type": "code",
   "execution_count": 110,
   "metadata": {},
   "outputs": [],
   "source": [
    "from autumn.projects.sm_covid2.common_school.project_maker import get_school_project_parameter_set\n",
    "import pandas as pd\n",
    "from copy import copy\n",
    "from pathlib import Path"
   ]
  },
  {
   "cell_type": "code",
   "execution_count": 111,
   "metadata": {},
   "outputs": [],
   "source": [
    "params_info = pd.read_excel(\"params_info.xlsx\")"
   ]
  },
  {
   "cell_type": "code",
   "execution_count": 112,
   "metadata": {},
   "outputs": [],
   "source": [
    "iso3 = \"FRA\"\n",
    "first_date_with_death = 0\n",
    "sero_age_min = 0\n",
    "sero_age_max = 100\n",
    "analysis='main'"
   ]
  },
  {
   "cell_type": "code",
   "execution_count": 113,
   "metadata": {},
   "outputs": [],
   "source": [
    "model_params = get_school_project_parameter_set(\n",
    "    iso3,\n",
    "    first_date_with_death,\n",
    "    sero_age_min,\n",
    "    sero_age_max,\n",
    "    analysis\n",
    ").baseline"
   ]
  },
  {
   "cell_type": "code",
   "execution_count": 114,
   "metadata": {},
   "outputs": [],
   "source": [
    "def get_param_val(p_name, model_params):\n",
    "    if \".\" not in p_name:\n",
    "        return model_params[p_name]\n",
    "    else:\n",
    "        nested_par = model_params\n",
    "        nested_keys = p_name.split(\".\")\n",
    "        for k in nested_keys:\n",
    "            nested_par = nested_par[k]        \n",
    "        return nested_par"
   ]
  },
  {
   "cell_type": "code",
   "execution_count": 115,
   "metadata": {},
   "outputs": [],
   "source": [
    "def make_output_params_df(params_info, model_params):\n",
    "    params_df = copy(params_info)\n",
    "\n",
    "    for index in params_df.index:\n",
    "        if params_df.loc[index, 'value'] == \"LOAD\":\n",
    "            params_df.loc[index, 'value'] = get_param_val(params_df.loc[index, 'param_key'], model_params)\n",
    "\n",
    "    return params_df"
   ]
  },
  {
   "cell_type": "code",
   "execution_count": 116,
   "metadata": {},
   "outputs": [],
   "source": [
    "df = make_output_params_df(params_info, model_params)"
   ]
  },
  {
   "cell_type": "code",
   "execution_count": 117,
   "metadata": {},
   "outputs": [],
   "source": [
    "tex_table = df.to_latex(\n",
    "    columns=['legible_name', 'value', 'unit', 'evidence'],\n",
    "    header=['Parameter', \"Value\", \"Unit\", \"Evidence\"],\n",
    "    index=False\n",
    ")"
   ]
  },
  {
   "cell_type": "code",
   "execution_count": 118,
   "metadata": {},
   "outputs": [],
   "source": [
    "tex_table = tex_table.replace(\"\\\\textbackslash cite\\\\\", r\"\\cite\").replace(\"\\\\}\", \"}\")"
   ]
  },
  {
   "cell_type": "code",
   "execution_count": 119,
   "metadata": {},
   "outputs": [],
   "source": [
    "out_path = Path.home() / \"Models\"/ \"AuTuMN_new\" / \"docs\" / \"tex\" / \"tex_descriptions\" / \"projects\" / \"sm_covid\" / \"param_table.tex\""
   ]
  },
  {
   "cell_type": "code",
   "execution_count": 120,
   "metadata": {},
   "outputs": [],
   "source": [
    "with out_path.open(\"w\") as f:\n",
    "    f.write(tex_table)"
   ]
  },
  {
   "cell_type": "code",
   "execution_count": null,
   "metadata": {},
   "outputs": [],
   "source": []
  }
 ],
 "metadata": {
  "kernelspec": {
   "display_name": "summer2",
   "language": "python",
   "name": "python3"
  },
  "language_info": {
   "codemirror_mode": {
    "name": "ipython",
    "version": 3
   },
   "file_extension": ".py",
   "mimetype": "text/x-python",
   "name": "python",
   "nbconvert_exporter": "python",
   "pygments_lexer": "ipython3",
   "version": "3.10.11"
  },
  "orig_nbformat": 4
 },
 "nbformat": 4,
 "nbformat_minor": 2
}
