{
 "cells": [
  {
   "cell_type": "code",
   "execution_count": null,
   "metadata": {},
   "outputs": [],
   "source": [
    "from autumn.projects.sm_covid2.common_school.calibration import get_bcm_object\n",
    "from autumn.projects.sm_covid2.common_school.runner_tools import INCLUDED_COUNTRIES\n",
    "from matplotlib import pyplot as plt"
   ]
  },
  {
   "cell_type": "code",
   "execution_count": null,
   "metadata": {},
   "outputs": [],
   "source": [
    "iso3_list = list(INCLUDED_COUNTRIES['all'].keys())\n",
    "n = len(iso3_list)"
   ]
  },
  {
   "cell_type": "code",
   "execution_count": null,
   "metadata": {},
   "outputs": [],
   "source": [
    "n"
   ]
  },
  {
   "cell_type": "code",
   "execution_count": null,
   "metadata": {},
   "outputs": [],
   "source": [
    "issues = []\n",
    "for i, iso3 in enumerate(iso3_list):    \n",
    "    print(f\"Done {i} out of {n}. Doing {iso3} now.\")\n",
    "    try:\n",
    "        bcm = get_bcm_object(iso3, \"no_google_mobility\")\n",
    "        fig, ax = plt.subplots(1,1,figsize=(14,5))\n",
    "        bcm.targets[\"infection_deaths\"].data.plot(marker=\".\", linewidth=0, xlabel=\"days\", ylabel=\"COVID-19 deaths\")\n",
    "        plt.tight_layout()\n",
    "        fig.savefig(f\"country_input_figs/death_curves/{iso3}.png\")\n",
    "        plt.close()\n",
    "    except:\n",
    "        print(\"Not successful\")\n",
    "        issues.append(iso3)"
   ]
  },
  {
   "cell_type": "code",
   "execution_count": null,
   "metadata": {},
   "outputs": [],
   "source": [
    "issues"
   ]
  },
  {
   "cell_type": "code",
   "execution_count": null,
   "metadata": {},
   "outputs": [],
   "source": []
  }
 ],
 "metadata": {
  "kernelspec": {
   "display_name": "summer2",
   "language": "python",
   "name": "python3"
  },
  "language_info": {
   "codemirror_mode": {
    "name": "ipython",
    "version": 3
   },
   "file_extension": ".py",
   "mimetype": "text/x-python",
   "name": "python",
   "nbconvert_exporter": "python",
   "pygments_lexer": "ipython3",
   "version": "3.10.11"
  },
  "orig_nbformat": 4
 },
 "nbformat": 4,
 "nbformat_minor": 2
}
