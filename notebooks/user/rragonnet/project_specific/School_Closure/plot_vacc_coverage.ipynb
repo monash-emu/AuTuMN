{
 "cells": [
  {
   "cell_type": "code",
   "execution_count": null,
   "metadata": {},
   "outputs": [],
   "source": [
    "import os\n",
    "import pandas as pd\n",
    "from copy import copy\n",
    "from datetime import datetime\n",
    "from matplotlib import pyplot as plt\n",
    "\n",
    "from autumn.projects.sm_covid2.common_school.runner_tools import INCLUDED_COUNTRIES \n",
    "\n",
    "from autumn.projects.sm_covid2.common_school.project_maker import get_school_project\n",
    "from autumn.core.inputs.database import get_input_db\n",
    "input_db = get_input_db()\n"
   ]
  },
  {
   "cell_type": "code",
   "execution_count": null,
   "metadata": {},
   "outputs": [],
   "source": [
    "modelled_vacces = {}\n",
    "vacc_datas = {}\n",
    "iso3_list = list(INCLUDED_COUNTRIES[\"google_mobility\"].keys())"
   ]
  },
  {
   "cell_type": "code",
   "execution_count": null,
   "metadata": {},
   "outputs": [],
   "source": [
    "for i, iso3 in enumerate(iso3_list):\n",
    "\n",
    "    print(f\"Running {i}-nth country ({iso3})\")\n",
    "\n",
    "\n",
    "    vacc_data = input_db.query(\n",
    "        table_name=\"owid\",\n",
    "        conditions={\"iso_code\": iso3},\n",
    "        columns=[\"date\", \"people_fully_vaccinated_per_hundred\"],\n",
    "    )\n",
    "    vacc_data.dropna(inplace=True)\n",
    "    vacc_data['x'] = pd.to_datetime(vacc_data['date'])\n",
    "    vacc_data['y'] = vacc_data['people_fully_vaccinated_per_hundred'] / 100.\n",
    "    vacc_data = vacc_data.drop([\"date\", \"people_fully_vaccinated_per_hundred\"], axis=1)\n",
    "    sparse_vacc_data = copy(vacc_data)\n",
    "    sparse_vacc_data['keep'] = [True] * len(sparse_vacc_data)\n",
    "    last_plotted_date = sparse_vacc_data.iloc[0]['x']\n",
    "    for idx in sparse_vacc_data.index[1:]:\n",
    "        this_date = sparse_vacc_data.loc[idx]['x']\n",
    "        delta = (this_date - last_plotted_date).days\n",
    "        if delta < 30:\n",
    "            sparse_vacc_data['keep'].loc[idx] = False\n",
    "        else:\n",
    "            last_plotted_date = copy(this_date)\n",
    "    sparse_vacc_data = sparse_vacc_data[sparse_vacc_data['keep'] == True]\n",
    "\n",
    "\n",
    "    project = get_school_project(iso3, \"main\")\n",
    "    default_params = project.param_set.baseline\n",
    "    model = project.build_model(default_params.to_dict()) \n",
    "    model.run(default_params.to_dict())\n",
    "    derived_df = model.get_derived_outputs_df()\n",
    "    modelled_vacc = derived_df['prop_immune_vaccinated']\n",
    "\n",
    "    modelled_vacces[iso3] = copy(modelled_vacc)\n",
    "    vacc_datas[iso3] = copy(sparse_vacc_data)"
   ]
  },
  {
   "cell_type": "code",
   "execution_count": null,
   "metadata": {},
   "outputs": [],
   "source": [
    "def plot_vacc(modelled_vacces, vacc_datas):\n",
    "    n_rows = 13\n",
    "    n_cols = 8\n",
    "    plt.style.use(\"ggplot\")\n",
    "    fig, axs = plt.subplots(n_rows, n_cols, figsize=(15, 20), sharex=True, sharey=True)\n",
    "\n",
    "    i, j = 0, 0\n",
    "    for iso3 in modelled_vacces:\n",
    "        print(iso3)\n",
    "        modelled_vacc = modelled_vacces[iso3]\n",
    "        vacc_data = vacc_datas[iso3]\n",
    "\n",
    "        ax = axs[i, j]\n",
    "        modelled_vacc.plot(ax=ax)\n",
    "        vacc_data.plot(x=\"x\", y=\"y\", ax=ax, marker=\".\", linewidth=0, ms=5)\n",
    "        ax.set_xlim((\"Jan 2021\", \"Dec 2022\"))\n",
    "        ax.set_ylim((0., 1.))\n",
    "        ax.set_xlabel(\"\")\n",
    "        ax.set_ylabel(\"prop. vaccinated\")\n",
    "\n",
    "        ax.set_xticks((\"1 Jan 2021\", \"1 Jan 2022\"))\n",
    "\n",
    "        ax.set_title(iso3)\n",
    "        ax.get_legend().remove()\n",
    "\n",
    "        j += 1\n",
    "        if j == n_cols:\n",
    "            j = 0\n",
    "            i += 1\n",
    "\n",
    "    # turn off remaing axes\n",
    "    for k in range(j, n_cols):\n",
    "        ax = axs[i, k]    \n",
    "        ax.axis('off')\n",
    "\n",
    "    plt.tight_layout()\n",
    "    return fig\n",
    "\n",
    "fig = plot_vacc(modelled_vacces, vacc_datas)\n",
    "\n",
    "fig.savefig(\"vacc_coverage.pdf\")"
   ]
  },
  {
   "cell_type": "code",
   "execution_count": null,
   "metadata": {},
   "outputs": [],
   "source": []
  }
 ],
 "metadata": {
  "kernelspec": {
   "display_name": "summer2",
   "language": "python",
   "name": "python3"
  },
  "language_info": {
   "codemirror_mode": {
    "name": "ipython",
    "version": 3
   },
   "file_extension": ".py",
   "mimetype": "text/x-python",
   "name": "python",
   "nbconvert_exporter": "python",
   "pygments_lexer": "ipython3",
   "version": "3.10.11"
  },
  "orig_nbformat": 4
 },
 "nbformat": 4,
 "nbformat_minor": 2
}
