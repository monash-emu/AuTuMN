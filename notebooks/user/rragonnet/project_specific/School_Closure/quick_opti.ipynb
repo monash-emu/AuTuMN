{
 "cells": [
  {
   "cell_type": "code",
   "execution_count": null,
   "metadata": {},
   "outputs": [],
   "source": [
    "from estival.wrappers import nevergrad as eng\n",
    "from autumn.projects.sm_covid2.common_school.calibration import get_bcm_object\n",
    "from autumn.projects.sm_covid2.common_school.calibration_plots.opti_plots import plot_model_fit"
   ]
  },
  {
   "cell_type": "code",
   "execution_count": null,
   "metadata": {},
   "outputs": [],
   "source": [
    "bcm = get_bcm_object('FRA', 'main')"
   ]
  },
  {
   "cell_type": "code",
   "execution_count": null,
   "metadata": {},
   "outputs": [],
   "source": [
    "opt = eng.optimize_model(bcm, obj_function=bcm.loglikelihood, num_workers=8)\n",
    "res = opt.minimize(10000)\n",
    "best_params = res.value[1]"
   ]
  },
  {
   "cell_type": "code",
   "execution_count": null,
   "metadata": {},
   "outputs": [],
   "source": [
    "plot_model_fit(bcm, best_params, \"some title\")"
   ]
  }
 ],
 "metadata": {
  "kernelspec": {
   "display_name": "summer2",
   "language": "python",
   "name": "python3"
  },
  "language_info": {
   "codemirror_mode": {
    "name": "ipython",
    "version": 3
   },
   "file_extension": ".py",
   "mimetype": "text/x-python",
   "name": "python",
   "nbconvert_exporter": "python",
   "pygments_lexer": "ipython3",
   "version": "3.10.11"
  },
  "orig_nbformat": 4
 },
 "nbformat": 4,
 "nbformat_minor": 2
}
