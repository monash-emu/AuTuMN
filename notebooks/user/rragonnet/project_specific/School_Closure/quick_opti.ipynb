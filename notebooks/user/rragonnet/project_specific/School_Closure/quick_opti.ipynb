{
 "cells": [
  {
   "cell_type": "code",
   "execution_count": null,
   "metadata": {},
   "outputs": [],
   "source": [
    "from estival.wrappers import nevergrad as eng\n",
    "from autumn.projects.sm_covid2.common_school.calibration import get_bcm_object\n",
    "from autumn.projects.sm_covid2.common_school.calibration_plots.opti_plots import plot_model_fit\n",
    "import nevergrad as ng"
   ]
  },
  {
   "cell_type": "code",
   "execution_count": null,
   "metadata": {},
   "outputs": [],
   "source": [
    "opt_class = ng.optimizers.CMA"
   ]
  },
  {
   "cell_type": "code",
   "execution_count": null,
   "metadata": {},
   "outputs": [],
   "source": [
    "iso3 = \"PHL\"\n",
    "bcm = get_bcm_object(iso3, 'main')"
   ]
  },
  {
   "cell_type": "code",
   "execution_count": null,
   "metadata": {},
   "outputs": [],
   "source": [
    "n_params = sum([p.size for p in bcm.priors.values()])\n",
    "n_params"
   ]
  },
  {
   "cell_type": "code",
   "execution_count": null,
   "metadata": {},
   "outputs": [],
   "source": [
    "opt = eng.optimize_model(bcm, obj_function=bcm.loglikelihood, num_workers=8, opt_class=opt_class)\n",
    "res = opt.minimize(5000)\n",
    "best_params = res.value[1]"
   ]
  },
  {
   "cell_type": "code",
   "execution_count": null,
   "metadata": {},
   "outputs": [],
   "source": [
    "_ = plot_model_fit(bcm, best_params, iso3)"
   ]
  },
  {
   "cell_type": "markdown",
   "metadata": {},
   "source": [
    "# Run multiple scenarios"
   ]
  },
  {
   "cell_type": "code",
   "execution_count": null,
   "metadata": {},
   "outputs": [],
   "source": [
    "import pandas as pd\n",
    "from autumn.projects.sm_covid2.common_school.project_maker import get_school_project"
   ]
  },
  {
   "cell_type": "code",
   "execution_count": null,
   "metadata": {},
   "outputs": [],
   "source": [
    "project = get_school_project(iso3, 'main')\n",
    "default_params = project.param_set.baseline\n",
    "model = project.build_model(default_params.to_dict()) "
   ]
  },
  {
   "cell_type": "code",
   "execution_count": null,
   "metadata": {},
   "outputs": [],
   "source": [
    "output_names=['cumulative_incidence', 'cumulative_infection_deaths', 'ever_infected',\n",
    "       'hospital_admissions', 'hospital_occupancy', 'incidence',\n",
    "       'incidenceXagegroup_0', 'incidenceXagegroup_15',\n",
    "       'incidenceXagegroup_25', 'incidenceXagegroup_50',\n",
    "       'incidenceXagegroup_70', 'infection_deaths', 'infection_deaths_ma7',\n",
    "       'n_immune_unvaccinated', 'n_immune_vaccinated',\n",
    "       'peak_hospital_occupancy', 'prop_ever_infected',\n",
    "       'prop_ever_infected_age_matched', 'prop_immune_unvaccinated',\n",
    "       'prop_immune_vaccinated', 'student_weeks_missed', 'total_population',\n",
    "       'transformed_random_process']\n",
    "\n",
    "calibrated_params = default_params.update(best_params, calibration_format=True)"
   ]
  },
  {
   "cell_type": "code",
   "execution_count": null,
   "metadata": {},
   "outputs": [],
   "source": [
    "from matplotlib import pyplot as plt"
   ]
  },
  {
   "cell_type": "code",
   "execution_count": null,
   "metadata": {},
   "outputs": [],
   "source": [
    "df = model.get_derived_outputs_df()"
   ]
  },
  {
   "cell_type": "code",
   "execution_count": null,
   "metadata": {},
   "outputs": [],
   "source": [
    "df.columns"
   ]
  },
  {
   "cell_type": "code",
   "execution_count": null,
   "metadata": {},
   "outputs": [],
   "source": [
    "scenario_params = {\n",
    "    \"baseline\": {},\n",
    "    \"scenario_1\": {\n",
    "        \"mobility\": {\n",
    "            \"unesco_partial_opening_value\": 1.,\n",
    "            \"unesco_full_closure_value\": 1.\n",
    "        }\n",
    "    },\n",
    "}\n",
    "\n",
    "outputs_df = pd.DataFrame(columns=output_names + [\"scenario\"])\n",
    "for sc_name, sc_params in scenario_params.items():\n",
    "    params = calibrated_params.update(sc_params)          \n",
    "    model.run(params.to_dict())\n",
    "    derived_df = model.get_derived_outputs_df()[output_names]\n",
    "    derived_df[\"scenario\"] = [sc_name] * len(derived_df)\n",
    "    \n",
    "    outputs_df = outputs_df.append(derived_df)\n",
    "\n",
    "fig, ax = plt.subplots(figsize=(10,6))\n",
    "for label, grp in outputs_df.groupby('scenario'):\n",
    "    grp['transformed_random_process'].plot(ax=ax, label=label)\n",
    "\n",
    "plt.legend()"
   ]
  },
  {
   "cell_type": "code",
   "execution_count": null,
   "metadata": {},
   "outputs": [],
   "source": [
    "s = model.stratifications['agegroup']"
   ]
  },
  {
   "cell_type": "code",
   "execution_count": null,
   "metadata": {},
   "outputs": [],
   "source": [
    "from copy import copy"
   ]
  },
  {
   "cell_type": "code",
   "execution_count": null,
   "metadata": {},
   "outputs": [],
   "source": [
    "# colours = [\"cornflowerblue\", \"darkorange\", \"mediumseagreen\", \"pink\", \"purple\"]\n",
    "colours = [\"cornflowerblue\", \"slateblue\", \"mediumseagreen\", \"lightcoral\", \"purple\"]\n",
    "\n",
    "def plot_incidence_by_age(derived_outputs, ax, as_proportion: bool):\n",
    "    # update_rcparams()\n",
    "    y_label = \"COVID-19 incidence proportion\" if as_proportion else \"COVID-19 incidence\"    \n",
    "\n",
    "    times = derived_outputs[\"incidence\"].index.to_list()\n",
    "    running_total = [0] * len(derived_outputs[\"incidence\"])\n",
    "    age_groups = [0, 15, 25, 50, 70]\n",
    "\n",
    "    y_max = 1. if as_proportion else max([derived_outputs[\"incidence\"].max() for sc in [0, 1]])\n",
    "\n",
    "    for i_age, age_group in enumerate(age_groups):\n",
    "        output_name = f\"incidenceXagegroup_{age_group}\"\n",
    "    \n",
    "        if i_age < len(age_groups) - 1:\n",
    "            upper_age = age_groups[i_age + 1] - 1 if i_age < len(age_groups) - 1 else \"\"\n",
    "            age_group_name = f\"{age_group}-{upper_age}\"\n",
    "        else:\n",
    "            age_group_name = f\"{age_group}+\"\n",
    "\n",
    "        age_group_incidence = derived_outputs[output_name].to_list()\n",
    "        \n",
    "        if as_proportion:\n",
    "            numerator, denominator = age_group_incidence, derived_outputs[\"incidence\"].to_list()\n",
    "            age_group_proportion = np.divide(numerator, denominator, out=np.zeros_like(numerator), where=denominator!=0)\n",
    "            new_running_total = age_group_proportion + running_total\n",
    "        else: \n",
    "            new_running_total = [sum(x) for x in zip(age_group_incidence, running_total)]  \n",
    "\n",
    "\n",
    "        ax.fill_between(times, running_total, new_running_total, color=colours[i_age], label=age_group_name, zorder=2, alpha=.8)\n",
    "        running_total = copy(new_running_total)\n",
    "\n",
    "    # y_max = max(new_running_total)\n",
    "    plot_ymax = y_max * 1.1\n",
    "    # add_school_closure_patches(ax, ISO3, ymax=plot_ymax)\n",
    "\n",
    "    # work out first time with positive incidence\n",
    "    t_min = derived_outputs['incidence'].gt(0).idxmax()    \n",
    "    # ax.set_xlim((t_min, model_end))\n",
    "    ax.set_ylim((0, plot_ymax))\n",
    "\n",
    "    ax.set_ylabel(y_label)\n",
    "\n",
    "    # if not as_proportion and scenario == 0:\n",
    "    if True:\n",
    "        handles, labels = ax.get_legend_handles_labels()\n",
    "        ax.legend(\n",
    "            reversed(handles),\n",
    "            reversed(labels),\n",
    "            # title=\"Age:\",\n",
    "            # fontsize=12,\n",
    "            # title_fontsize=12,\n",
    "            labelspacing=.2,\n",
    "            handlelength=1.,\n",
    "            handletextpad=.5,\n",
    "            columnspacing=1.,\n",
    "            facecolor=\"white\",\n",
    "            ncol=2,\n",
    "\n",
    "        )"
   ]
  },
  {
   "cell_type": "code",
   "execution_count": null,
   "metadata": {},
   "outputs": [],
   "source": [
    "fig, axes = plt.subplots(2,1,figsize=(15,10))\n",
    "\n",
    "top_ax = axes[0]\n",
    "plot_incidence_by_age(outputs_df[outputs_df['scenario'] == \"baseline\"], ax=top_ax, as_proportion=True)\n",
    "\n",
    "bottom_ax = axes[1]\n",
    "plot_incidence_by_age(outputs_df[outputs_df['scenario'] == \"scenario_1\"], ax=bottom_ax, as_proportion=True)"
   ]
  },
  {
   "cell_type": "code",
   "execution_count": null,
   "metadata": {},
   "outputs": [],
   "source": []
  }
 ],
 "metadata": {
  "kernelspec": {
   "display_name": "summer2",
   "language": "python",
   "name": "python3"
  },
  "language_info": {
   "codemirror_mode": {
    "name": "ipython",
    "version": 3
   },
   "file_extension": ".py",
   "mimetype": "text/x-python",
   "name": "python",
   "nbconvert_exporter": "python",
   "pygments_lexer": "ipython3",
   "version": "3.10.11"
  },
  "orig_nbformat": 4
 },
 "nbformat": 4,
 "nbformat_minor": 2
}
