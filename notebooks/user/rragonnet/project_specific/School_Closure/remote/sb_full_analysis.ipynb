{
 "cells": [
  {
   "cell_type": "code",
   "execution_count": null,
   "id": "f5408fea",
   "metadata": {},
   "outputs": [],
   "source": [
    "from autumn.infrastructure.remote import springboard\n",
    "from autumn.projects.sm_covid2.common_school.runner_tools import run_full_analysis "
   ]
  },
  {
   "attachments": {},
   "cell_type": "markdown",
   "id": "e7255011",
   "metadata": {},
   "source": [
    "### Define task function"
   ]
  },
  {
   "cell_type": "code",
   "execution_count": null,
   "id": "a5f49d54",
   "metadata": {},
   "outputs": [],
   "source": [
    "# ISO3 = \"FRA\"\n",
    "# ANALYSIS = \"main\"\n",
    "\n",
    "# N_CHAINS = 32\n",
    "# N_OPTI_SEARCHES = 8\n",
    "# OPTI_BUDGET = 7000\n",
    "\n",
    "# METROPOLIS_TUNE = 2000\n",
    "# METROPOLIS_DRAWS = 10000\n",
    "# METROPOLIS_METHOD = \"DEMetropolis\"\n",
    "\n",
    "# FULL_RUNS_SAMPLES = 1000\n",
    "# BURN_IN = 5000"
   ]
  },
  {
   "cell_type": "code",
   "execution_count": null,
   "id": "ac0a9fdd",
   "metadata": {},
   "outputs": [],
   "source": [
    "ISO3 = \"FRA\"\n",
    "ANALYSIS = \"main\"\n",
    "\n",
    "N_CHAINS = 32\n",
    "N_OPTI_SEARCHES = 8\n",
    "OPTI_BUDGET = 700\n",
    "\n",
    "METROPOLIS_TUNE = 200\n",
    "METROPOLIS_DRAWS = 1000\n",
    "METROPOLIS_METHOD = \"DEMetropolis\"\n",
    "\n",
    "FULL_RUNS_SAMPLES = 100\n",
    "BURN_IN = 500"
   ]
  },
  {
   "attachments": {},
   "cell_type": "markdown",
   "id": "3a29ac1e",
   "metadata": {},
   "source": [
    "### Check that configuration is relevant"
   ]
  },
  {
   "cell_type": "code",
   "execution_count": null,
   "id": "86180b5e",
   "metadata": {},
   "outputs": [],
   "source": [
    "assert N_CHAINS % N_OPTI_SEARCHES == 0\n",
    "assert (METROPOLIS_DRAWS - BURN_IN) * N_CHAINS >= FULL_RUNS_SAMPLES\n",
    "assert METROPOLIS_METHOD in (\"DEMetropolis\", \"DEMetropolisZ\")"
   ]
  },
  {
   "cell_type": "code",
   "execution_count": null,
   "id": "47d05a73",
   "metadata": {},
   "outputs": [],
   "source": [
    "def remote_full_analysis_task(bridge: springboard.task.TaskBridge, iso3: str = 'FRA', analysis: str = \"main\"):\n",
    "    \n",
    "    import multiprocessing as mp\n",
    "    mp.set_start_method('forkserver')\n",
    "\n",
    "    bridge.logger.info(f\"Running full analysis for {iso3}. Analysis type: {analysis}.\")\n",
    "\n",
    "    idata, uncertainty_df, diff_quantiles_df = run_full_analysis(\n",
    "        iso3,\n",
    "        analysis=analysis, \n",
    "        opti_params={'n_searches': N_OPTI_SEARCHES, 'num_workers': 8, 'parallel_opti_jobs': 4, 'warmup_iterations': 0, 'search_iterations': OPTI_BUDGET, 'init_method': 'LHS'},\n",
    "        mcmc_params={'draws': METROPOLIS_DRAWS, 'tune': METROPOLIS_TUNE, 'cores': N_CHAINS, 'chains': N_CHAINS, 'method': METROPOLIS_METHOD},\n",
    "        full_run_params={'samples': FULL_RUNS_SAMPLES, 'burn_in': BURN_IN},\n",
    "        output_folder=bridge.out_path,\n",
    "        logger=bridge.logger\n",
    "    )\n",
    "   \n",
    "    bridge.logger.info(\"Full analysis complete\")"
   ]
  },
  {
   "cell_type": "code",
   "execution_count": null,
   "id": "1a1207a8",
   "metadata": {},
   "outputs": [],
   "source": [
    "mspec = springboard.EC2MachineSpec(N_CHAINS, 4, \"compute\")\n",
    "task_kwargs = {\n",
    "    \"iso3\": ISO3,\n",
    "    \"analysis\": ANALYSIS\n",
    "}\n",
    "tspec = springboard.TaskSpec(remote_full_analysis_task, task_kwargs)"
   ]
  },
  {
   "cell_type": "code",
   "execution_count": null,
   "id": "e12adbec",
   "metadata": {},
   "outputs": [],
   "source": [
    "analysis_title = \"test_parallel\"\n",
    "config_str = f\"_{ANALYSIS}_LHS{N_OPTI_SEARCHES}_opt{OPTI_BUDGET}_mc{METROPOLIS_TUNE}n{METROPOLIS_DRAWS}_DE\"\n",
    "if METROPOLIS_METHOD == \"DEMetropolisZ\":\n",
    "    config_str += \"Z\"\n",
    "\n",
    "run_path = springboard.launch.get_autumn_project_run_path(\"school_project\", ISO3, analysis_title + config_str)\n",
    "run_path"
   ]
  },
  {
   "cell_type": "code",
   "execution_count": null,
   "id": "16657a60",
   "metadata": {},
   "outputs": [],
   "source": [
    "runner = springboard.launch.launch_synced_autumn_task(tspec, mspec, run_path)"
   ]
  },
  {
   "cell_type": "code",
   "execution_count": null,
   "id": "ff54b087",
   "metadata": {},
   "outputs": [],
   "source": [
    "from time import sleep\n",
    "\n",
    "update_freq = 30\n",
    "status = runner.s3.get_status()\n",
    "print(status)\n",
    "\n",
    "while status in ['INIT', 'LAUNCHING']:\n",
    "    sleep(update_freq)\n",
    "    status = runner.s3.get_status()\n",
    "print(status)\n",
    "\n",
    "while status in ['RUNNING']:\n",
    "    sleep(update_freq)\n",
    "    status = runner.s3.get_status()\n",
    "print(status)"
   ]
  },
  {
   "cell_type": "code",
   "execution_count": null,
   "id": "0d082872",
   "metadata": {},
   "outputs": [],
   "source": [
    "from autumn.core.runs import ManagedRun"
   ]
  },
  {
   "cell_type": "code",
   "execution_count": null,
   "id": "f8019dfb",
   "metadata": {},
   "outputs": [],
   "source": [
    "# run_path = 'projects/school_project/FRA/2023-06-30T1440-main_LHS8_opti10k_mcmc10k_DE_19p'"
   ]
  },
  {
   "cell_type": "code",
   "execution_count": null,
   "id": "b0e88701",
   "metadata": {},
   "outputs": [],
   "source": [
    "mr = ManagedRun(run_path)"
   ]
  },
  {
   "cell_type": "code",
   "execution_count": null,
   "id": "e8ac8b46",
   "metadata": {},
   "outputs": [],
   "source": [
    "for f in mr.remote.list_contents():\n",
    "    mr.remote.download(f)"
   ]
  },
  {
   "cell_type": "code",
   "execution_count": null,
   "id": "1764acaf",
   "metadata": {},
   "outputs": [],
   "source": []
  }
 ],
 "metadata": {
  "kernelspec": {
   "display_name": "Python 3 (ipykernel)",
   "language": "python",
   "name": "python3"
  },
  "language_info": {
   "codemirror_mode": {
    "name": "ipython",
    "version": 3
   },
   "file_extension": ".py",
   "mimetype": "text/x-python",
   "name": "python",
   "nbconvert_exporter": "python",
   "pygments_lexer": "ipython3",
   "version": "3.10.11"
  }
 },
 "nbformat": 4,
 "nbformat_minor": 5
}
