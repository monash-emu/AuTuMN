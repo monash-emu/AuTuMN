{
 "cells": [
  {
   "cell_type": "code",
   "execution_count": null,
   "id": "f5408fea",
   "metadata": {},
   "outputs": [],
   "source": [
    "from autumn.infrastructure.remote import springboard\n",
    "from autumn.projects.sm_covid2.common_school.runner_tools import run_full_analysis "
   ]
  },
  {
   "attachments": {},
   "cell_type": "markdown",
   "id": "e7255011",
   "metadata": {},
   "source": [
    "### Define task function"
   ]
  },
  {
   "cell_type": "code",
   "execution_count": null,
   "id": "47d05a73",
   "metadata": {},
   "outputs": [],
   "source": [
    "N_CHAINS = 4\n",
    "ISO3 = \"FRA\"\n",
    "ANALYSIS = \"main\"\n",
    "\n",
    "def remote_full_analysis_task(bridge: springboard.task.TaskBridge, iso3: str = 'FRA', analysis: str = \"main\"):\n",
    "    \n",
    "    import multiprocessing as mp\n",
    "    mp.set_start_method('forkserver')\n",
    "\n",
    "    bridge.logger.info(f\"Running full analysis for {iso3}. Analysis type: {analysis}.\")\n",
    "\n",
    "    idata, uncertainty_df, diff_quantiles_df = run_full_analysis(\n",
    "        iso3,\n",
    "        analysis=analysis, \n",
    "        opti_params={'warmup_iterations': 200, 'search_iterations': 500},\n",
    "        mcmc_params={'draws': 500, 'tune': 100, 'cores': N_CHAINS, 'chains': N_CHAINS},\n",
    "        full_run_params={'samples': 100, 'burn_in': 0},\n",
    "        output_folder=bridge.out_path,\n",
    "        logger=bridge.logger\n",
    "    )\n",
    "   \n",
    "    bridge.logger.info(\"Full analysis complete\")"
   ]
  },
  {
   "cell_type": "code",
   "execution_count": null,
   "id": "1a1207a8",
   "metadata": {},
   "outputs": [],
   "source": [
    "# Get a compute machine to do.. some computation.\n",
    "mspec = springboard.EC2MachineSpec(N_CHAINS, 4, \"compute\")\n",
    "\n",
    "# Wrap our function; the first argument is supplied by the runner, the rest must be kwargs\n",
    "\n",
    "task_kwargs = {\n",
    "    \"iso3\": ISO3,\n",
    "    \"analysis\": ANALYSIS\n",
    "}\n",
    "\n",
    "tspec = springboard.TaskSpec(remote_full_analysis_task, task_kwargs)"
   ]
  },
  {
   "cell_type": "code",
   "execution_count": null,
   "id": "e12adbec",
   "metadata": {},
   "outputs": [],
   "source": [
    "run_path = springboard.launch.get_autumn_project_run_path(\"school_project\", ISO3, f\"{ANALYSIS}_first_test\")\n",
    "run_path"
   ]
  },
  {
   "cell_type": "code",
   "execution_count": null,
   "id": "16657a60",
   "metadata": {},
   "outputs": [],
   "source": [
    "# This should be fairly resilient to failure, however if you do receive any kind of error or Exception here,\n",
    "# please tell David ASAP!\n",
    "# It is possible you will get some \"SSH connection will waiting, retrying\" messages; please also report these\n",
    "# - they're not a 'failture', just AWS being a bit slow...\n",
    "\n",
    "runner = springboard.launch.launch_synced_autumn_task(tspec, mspec, run_path)"
   ]
  },
  {
   "cell_type": "code",
   "execution_count": null,
   "id": "11090093",
   "metadata": {},
   "outputs": [],
   "source": [
    "runner.instance"
   ]
  },
  {
   "cell_type": "code",
   "execution_count": null,
   "id": "c7224505",
   "metadata": {
    "scrolled": true
   },
   "outputs": [],
   "source": [
    "# Use 'tail' to report the last (n, default=10) lines of command output\n",
    "# This is only valid while the task is actually running, and is included here to demonstrate its use in debugging \n",
    "# Typical runs would just use the wait method instead (see cell below)\n",
    "\n",
    "print(runner.tail())"
   ]
  },
  {
   "cell_type": "code",
   "execution_count": null,
   "id": "2ca73cda",
   "metadata": {},
   "outputs": [],
   "source": [
    "print(runner.top(\"+%CPU\"))"
   ]
  },
  {
   "cell_type": "code",
   "execution_count": null,
   "id": "264260c7",
   "metadata": {},
   "outputs": [],
   "source": [
    "runner.s3.get_status()"
   ]
  },
  {
   "cell_type": "code",
   "execution_count": null,
   "id": "bb2bbb39",
   "metadata": {},
   "outputs": [],
   "source": [
    "runner.wait()"
   ]
  },
  {
   "cell_type": "code",
   "execution_count": null,
   "id": "f8847cd6",
   "metadata": {},
   "outputs": [],
   "source": [
    "# This is the complete 'command line' output from the run\n",
    "print(runner.get_iodump())"
   ]
  },
  {
   "cell_type": "code",
   "execution_count": null,
   "id": "fea4ee2a",
   "metadata": {},
   "outputs": [],
   "source": [
    "# This should print out a log containing the text from our wrapped task...\n",
    "print(runner.get_log())"
   ]
  },
  {
   "cell_type": "code",
   "execution_count": null,
   "id": "0d082872",
   "metadata": {},
   "outputs": [],
   "source": [
    "from autumn.core.runs import ManagedRun"
   ]
  },
  {
   "cell_type": "code",
   "execution_count": null,
   "id": "b0e88701",
   "metadata": {},
   "outputs": [],
   "source": [
    "mr = ManagedRun(run_path)"
   ]
  },
  {
   "cell_type": "code",
   "execution_count": null,
   "id": "cc9c5788",
   "metadata": {},
   "outputs": [],
   "source": [
    "mr.remote.list_contents()"
   ]
  },
  {
   "cell_type": "code",
   "execution_count": null,
   "id": "e8ac8b46",
   "metadata": {},
   "outputs": [],
   "source": [
    "for f in mr.remote.list_contents():\n",
    "    mr.remote.download(f)"
   ]
  },
  {
   "cell_type": "code",
   "execution_count": null,
   "id": "965396bf",
   "metadata": {},
   "outputs": [],
   "source": [
    "print(open(mr.local_path / \".taskmeta/task_spec.yml\").read())"
   ]
  },
  {
   "cell_type": "code",
   "execution_count": null,
   "id": "911f1974",
   "metadata": {},
   "outputs": [],
   "source": []
  }
 ],
 "metadata": {
  "kernelspec": {
   "display_name": "Python 3 (ipykernel)",
   "language": "python",
   "name": "python3"
  },
  "language_info": {
   "codemirror_mode": {
    "name": "ipython",
    "version": 3
   },
   "file_extension": ".py",
   "mimetype": "text/x-python",
   "name": "python",
   "nbconvert_exporter": "python",
   "pygments_lexer": "ipython3",
   "version": "3.10.11"
  }
 },
 "nbformat": 4,
 "nbformat_minor": 5
}
