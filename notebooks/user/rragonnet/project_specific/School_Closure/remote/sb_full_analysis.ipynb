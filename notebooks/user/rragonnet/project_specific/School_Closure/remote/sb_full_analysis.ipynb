{
 "cells": [
  {
   "cell_type": "code",
   "execution_count": null,
   "id": "f5408fea",
   "metadata": {},
   "outputs": [],
   "source": [
    "from autumn.infrastructure.remote import springboard\n",
    "from autumn.projects.sm_covid2.common_school.runner_tools import (\n",
    "    run_full_analysis, \n",
    "    print_continuous_status, \n",
    "    download_analysis,\n",
    "    DEFAULT_RUN_CONFIG,\n",
    ")"
   ]
  },
  {
   "attachments": {},
   "cell_type": "markdown",
   "id": "e7255011",
   "metadata": {},
   "source": [
    "### Define task function"
   ]
  },
  {
   "attachments": {},
   "cell_type": "markdown",
   "id": "2da27a35",
   "metadata": {},
   "source": [
    "#### Standard config"
   ]
  },
  {
   "cell_type": "code",
   "execution_count": null,
   "id": "c4aa031b",
   "metadata": {},
   "outputs": [],
   "source": [
    "DEFAULT_RUN_CONFIG"
   ]
  },
  {
   "cell_type": "code",
   "execution_count": null,
   "id": "a5f49d54",
   "metadata": {},
   "outputs": [],
   "source": [
    "ISO3 = \"FRA\"\n",
    "ANALYSIS = \"main\"\n",
    "\n",
    "N_CHAINS = DEFAULT_RUN_CONFIG['N_CHAINS']\n",
    "N_OPTI_SEARCHES = DEFAULT_RUN_CONFIG['N_OPTI_SEARCHES']\n",
    "OPTI_BUDGET = DEFAULT_RUN_CONFIG['OPTI_BUDGET']\n",
    "\n",
    "METROPOLIS_TUNE = DEFAULT_RUN_CONFIG['METROPOLIS_TUNE']\n",
    "METROPOLIS_DRAWS = DEFAULT_RUN_CONFIG['METROPOLIS_DRAWS']\n",
    "METROPOLIS_METHOD = DEFAULT_RUN_CONFIG['METROPOLIS_METHOD']\n",
    "\n",
    "FULL_RUNS_SAMPLES = DEFAULT_RUN_CONFIG['FULL_RUNS_SAMPLES']\n",
    "BURN_IN = DEFAULT_RUN_CONFIG['BURN_IN']"
   ]
  },
  {
   "attachments": {},
   "cell_type": "markdown",
   "id": "3a29ac1e",
   "metadata": {},
   "source": [
    "### Check that configuration is relevant"
   ]
  },
  {
   "cell_type": "code",
   "execution_count": null,
   "id": "86180b5e",
   "metadata": {},
   "outputs": [],
   "source": [
    "assert (METROPOLIS_DRAWS - BURN_IN) * N_CHAINS >= FULL_RUNS_SAMPLES\n",
    "assert METROPOLIS_METHOD in (\"DEMetropolis\", \"DEMetropolisZ\")"
   ]
  },
  {
   "cell_type": "code",
   "execution_count": null,
   "id": "4810f137",
   "metadata": {},
   "outputs": [],
   "source": [
    "def remote_full_analysis_task(bridge: springboard.task.TaskBridge, iso3: str = 'FRA', analysis: str = \"main\"):\n",
    "    \n",
    "    import multiprocessing as mp\n",
    "    mp.set_start_method('forkserver')\n",
    "\n",
    "    bridge.logger.info(f\"Running full analysis for {iso3}. Analysis type: {analysis}.\")\n",
    "\n",
    "    idata, uncertainty_df, diff_quantiles_df = run_full_analysis(\n",
    "        iso3,\n",
    "        analysis=analysis, \n",
    "        opti_params={'n_searches': N_OPTI_SEARCHES, 'search_iterations': OPTI_BUDGET},\n",
    "        mcmc_params={'draws': METROPOLIS_DRAWS, 'tune': METROPOLIS_TUNE, 'chains': N_CHAINS, 'method': METROPOLIS_METHOD},\n",
    "        full_run_params={'samples': FULL_RUNS_SAMPLES, 'burn_in': BURN_IN},\n",
    "        output_folder=bridge.out_path,\n",
    "        logger=bridge.logger\n",
    "    )\n",
    "   \n",
    "    bridge.logger.info(\"Full analysis complete\")"
   ]
  },
  {
   "cell_type": "code",
   "execution_count": null,
   "id": "1a1207a8",
   "metadata": {},
   "outputs": [],
   "source": [
    "mspec = springboard.EC2MachineSpec(N_CHAINS, 4, \"compute\")\n",
    "task_kwargs = {\n",
    "    \"iso3\": ISO3,\n",
    "    \"analysis\": ANALYSIS\n",
    "}\n",
    "tspec = springboard.TaskSpec(remote_full_analysis_task, task_kwargs)"
   ]
  },
  {
   "cell_type": "code",
   "execution_count": null,
   "id": "e12adbec",
   "metadata": {},
   "outputs": [],
   "source": [
    "analysis_title = \"single_start\"\n",
    "config_str = f\"_{ANALYSIS}_LHS{N_OPTI_SEARCHES}_opt{OPTI_BUDGET}_mc{METROPOLIS_TUNE}n{METROPOLIS_DRAWS}\"\n",
    "\n",
    "run_path = springboard.launch.get_autumn_project_run_path(\"school_project\", ISO3, analysis_title + config_str)\n",
    "run_path"
   ]
  },
  {
   "cell_type": "code",
   "execution_count": null,
   "id": "16657a60",
   "metadata": {},
   "outputs": [],
   "source": [
    "runner = springboard.launch.launch_synced_autumn_task(tspec, mspec, run_path)"
   ]
  },
  {
   "cell_type": "code",
   "execution_count": null,
   "id": "b416f02f",
   "metadata": {},
   "outputs": [],
   "source": [
    "runner.s3.get_status()"
   ]
  },
  {
   "cell_type": "code",
   "execution_count": null,
   "id": "5dfd7dfe",
   "metadata": {},
   "outputs": [],
   "source": [
    "print(runner.top(\"%MEM\"))"
   ]
  },
  {
   "cell_type": "code",
   "execution_count": null,
   "id": "bc0faa03",
   "metadata": {},
   "outputs": [],
   "source": [
    "# wait function with status printing\n",
    "# print_continuous_status(runner)"
   ]
  },
  {
   "cell_type": "code",
   "execution_count": null,
   "id": "f8019dfb",
   "metadata": {},
   "outputs": [],
   "source": [
    "# run_path = 'projects/school_project/FRA/2023-08-22T1004-single_start_main_LHS4_opt10000_mc2000n10000'"
   ]
  },
  {
   "cell_type": "code",
   "execution_count": null,
   "id": "a8d31fe3",
   "metadata": {},
   "outputs": [],
   "source": [
    "download_analysis(run_path)"
   ]
  }
 ],
 "metadata": {
  "kernelspec": {
   "display_name": "Python 3 (ipykernel)",
   "language": "python",
   "name": "python3"
  },
  "language_info": {
   "codemirror_mode": {
    "name": "ipython",
    "version": 3
   },
   "file_extension": ".py",
   "mimetype": "text/x-python",
   "name": "python",
   "nbconvert_exporter": "python",
   "pygments_lexer": "ipython3",
   "version": "3.10.11"
  }
 },
 "nbformat": 4,
 "nbformat_minor": 5
}
