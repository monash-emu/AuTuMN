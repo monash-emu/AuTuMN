{
 "cells": [
  {
   "cell_type": "code",
   "execution_count": null,
   "id": "f5408fea",
   "metadata": {},
   "outputs": [],
   "source": [
    "from autumn.infrastructure.remote import springboard\n",
    "from autumn.projects.sm_covid2.common_school.runner_tools import run_full_analysis "
   ]
  },
  {
   "attachments": {},
   "cell_type": "markdown",
   "id": "e7255011",
   "metadata": {},
   "source": [
    "### Define task function"
   ]
  },
  {
   "cell_type": "code",
   "execution_count": null,
   "id": "47d05a73",
   "metadata": {},
   "outputs": [],
   "source": [
    "N_CHAINS = 32\n",
    "ISO3 = \"FRA\"\n",
    "ANALYSIS = \"main\"\n",
    "\n",
    "def remote_full_analysis_task(bridge: springboard.task.TaskBridge, iso3: str = 'FRA', analysis: str = \"main\"):\n",
    "    \n",
    "    import multiprocessing as mp\n",
    "    mp.set_start_method('forkserver')\n",
    "\n",
    "    bridge.logger.info(f\"Running full analysis for {iso3}. Analysis type: {analysis}.\")\n",
    "\n",
    "    idata, uncertainty_df, diff_quantiles_df = run_full_analysis(\n",
    "        iso3,\n",
    "        analysis=analysis, \n",
    "        opti_params={'n_searches': 8, 'num_workers': 8, 'warmup_iterations': 0, 'search_iterations': 10000, 'init_method': 'LHS'},\n",
    "        mcmc_params={'draws': 10000, 'tune': 0, 'cores': N_CHAINS, 'chains': N_CHAINS},\n",
    "        full_run_params={'samples': 1000, 'burn_in': 5000},\n",
    "        output_folder=bridge.out_path,\n",
    "        logger=bridge.logger\n",
    "    )\n",
    "   \n",
    "    bridge.logger.info(\"Full analysis complete\")"
   ]
  },
  {
   "cell_type": "code",
   "execution_count": null,
   "id": "1a1207a8",
   "metadata": {},
   "outputs": [],
   "source": [
    "mspec = springboard.EC2MachineSpec(N_CHAINS, 4, \"compute\")\n",
    "task_kwargs = {\n",
    "    \"iso3\": ISO3,\n",
    "    \"analysis\": ANALYSIS\n",
    "}\n",
    "tspec = springboard.TaskSpec(remote_full_analysis_task, task_kwargs)"
   ]
  },
  {
   "cell_type": "code",
   "execution_count": null,
   "id": "e12adbec",
   "metadata": {},
   "outputs": [],
   "source": [
    "run_path = springboard.launch.get_autumn_project_run_path(\"school_project\", ISO3, f\"{ANALYSIS}_LHS8_opti10k_4cores\")\n",
    "run_path"
   ]
  },
  {
   "cell_type": "code",
   "execution_count": null,
   "id": "16657a60",
   "metadata": {},
   "outputs": [],
   "source": [
    "runner = springboard.launch.launch_synced_autumn_task(tspec, mspec, run_path)"
   ]
  },
  {
   "cell_type": "code",
   "execution_count": null,
   "id": "ff54b087",
   "metadata": {},
   "outputs": [],
   "source": [
    "from time import sleep\n",
    "\n",
    "update_freq = 10\n",
    "status = runner.s3.get_status()\n",
    "print(status)\n",
    "\n",
    "while status in ['INIT', 'LAUNCHING']:\n",
    "    sleep(update_freq)\n",
    "    status = runner.s3.get_status()\n",
    "print(status)\n",
    "\n",
    "while status in ['RUNNING']:\n",
    "    sleep(update_freq)\n",
    "    status = runner.s3.get_status()\n",
    "print(status)"
   ]
  },
  {
   "cell_type": "code",
   "execution_count": null,
   "id": "0d082872",
   "metadata": {},
   "outputs": [],
   "source": [
    "from autumn.core.runs import ManagedRun"
   ]
  },
  {
   "cell_type": "code",
   "execution_count": null,
   "id": "b0e88701",
   "metadata": {},
   "outputs": [],
   "source": [
    "mr = ManagedRun(run_path)"
   ]
  },
  {
   "cell_type": "code",
   "execution_count": null,
   "id": "e8ac8b46",
   "metadata": {},
   "outputs": [],
   "source": [
    "for f in mr.remote.list_contents():\n",
    "    mr.remote.download(f)"
   ]
  }
 ],
 "metadata": {
  "kernelspec": {
   "display_name": "Python 3 (ipykernel)",
   "language": "python",
   "name": "python3"
  },
  "language_info": {
   "codemirror_mode": {
    "name": "ipython",
    "version": 3
   },
   "file_extension": ".py",
   "mimetype": "text/x-python",
   "name": "python",
   "nbconvert_exporter": "python",
   "pygments_lexer": "ipython3",
   "version": "3.10.11"
  }
 },
 "nbformat": 4,
 "nbformat_minor": 5
}
