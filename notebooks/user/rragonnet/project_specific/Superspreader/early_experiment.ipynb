{
 "cells": [
  {
   "cell_type": "code",
   "execution_count": null,
   "id": "eeeb9ff8",
   "metadata": {},
   "outputs": [],
   "source": [
    "# pip install the required packages if running in Colab\n",
    "try:\n",
    "    import google.colab\n",
    "    IN_COLAB = True\n",
    "    %pip install summerepi2==1.0.4\n",
    "    %pip install estival==0.1.7\n",
    "except:\n",
    "    IN_COLAB = False"
   ]
  },
  {
   "cell_type": "code",
   "execution_count": null,
   "id": "e19523e4",
   "metadata": {},
   "outputs": [],
   "source": [
    "# Standard imports, plotting option and constant definition\n",
    "from datetime import datetime, timedelta\n",
    "from typing import List, Union\n",
    "import pandas as pd\n",
    "import plotly.express as px\n",
    "import numpy as np\n",
    "import pickle\n",
    "\n",
    "from jax import numpy as jnp\n",
    "\n",
    "from summer2.utils import ref_times_to_dti\n",
    "\n",
    "from summer2 import CompartmentalModel, Stratification, StrainStratification, Overwrite\n",
    "from summer2.parameters import Parameter, Function, DerivedOutput, Time, Data\n",
    "\n",
    "pd.options.plotting.backend = \"plotly\"\n",
    "COVID_BASE_DATE = datetime(2019, 12, 31)\n"
   ]
  },
  {
   "cell_type": "code",
   "execution_count": null,
   "id": "89d05eef",
   "metadata": {},
   "outputs": [],
   "source": [
    "# Get a function to access the Malaysia data if running in Colab\n",
    "if IN_COLAB:\n",
    "    !wget https://raw.githubusercontent.com/monash-emu/AuTuMN/master/notebooks/capacity_building/malaysia/get_mys_data.py\n",
    "    import get_mys_data\n",
    "else:\n",
    "    from notebooks.capacity_building.malaysia import get_mys_data \n",
    "\n",
    "# ... and use it to get the actual data\n",
    "df = get_mys_data.fetch_mys_data()\n",
    "initial_population = get_mys_data.get_initial_population(\"Malaysia\")\n",
    "observations = get_mys_data.get_target_observations(df, \"Malaysia\", \"cases\")\n",
    "incidence_target = observations[\"cases_new\"]\n",
    "incidence_target.name = \"incidence\"\n",
    "incidence_target_trimmed = incidence_target.loc[\"jul 2021\": \"nov 2021\"]\n",
    "start_date = datetime(2021, 3, 10)\n",
    "end_date = start_date + timedelta(days=500)\n",
    "start_date_int = (start_date - COVID_BASE_DATE).days\n",
    "end_date_int = (end_date - COVID_BASE_DATE).days"
   ]
  },
  {
   "attachments": {},
   "cell_type": "markdown",
   "id": "7b90cd4d",
   "metadata": {},
   "source": [
    "# Model\n"
   ]
  },
  {
   "cell_type": "code",
   "execution_count": null,
   "id": "12f1dcd8-ebe7-481f-a823-7695ae07f570",
   "metadata": {},
   "outputs": [],
   "source": [
    "unstratified_compartments = [\"S\", \"I\", \"R\"]"
   ]
  },
  {
   "cell_type": "code",
   "execution_count": null,
   "id": "03805af8",
   "metadata": {},
   "outputs": [],
   "source": [
    "def build_unstratified_model() -> CompartmentalModel:\n",
    "    \"\"\"\n",
    "    Create a compartmental model, with compartmental structure needed to run and produce some sort of \n",
    "    meaningful outputs.\n",
    "    \n",
    "    Args:\n",
    "        parameters: Flow parameters\n",
    "    Returns:\n",
    "        A compartmental model currently without stratification applied\n",
    "    \"\"\"\n",
    "    model = CompartmentalModel(\n",
    "        times=(start_date_int, end_date_int),\n",
    "        compartments=unstratified_compartments,\n",
    "        infectious_compartments=[\"I\"],\n",
    "        ref_date=COVID_BASE_DATE\n",
    "    )\n",
    "\n",
    "    infectious_seed = Parameter(\"infectious_seed\")\n",
    "\n",
    "    model.set_initial_population(\n",
    "        distribution=\n",
    "        {\n",
    "            \"S\": initial_population - infectious_seed, \n",
    "            \"I\": infectious_seed,\n",
    "        }\n",
    "    )\n",
    "    \n",
    "    # Susceptible people can get infected\n",
    "    model.add_infection_frequency_flow(\n",
    "        name=\"infection\", \n",
    "        contact_rate=Parameter(\"beta\"), \n",
    "        source=\"S\",\n",
    "        dest=\"I\",\n",
    "    )  \n",
    "\n",
    "    # Infectious people recover after some time spent infectious\n",
    "    model.add_transition_flow(\n",
    "        name=\"recovery\",\n",
    "        fractional_rate=1. / Parameter(\"infectious_period\"),\n",
    "        source=\"I\",\n",
    "        dest=\"R\",\n",
    "    )\n",
    "    \n",
    "    # Only a proportion of new cases are identified as cases\n",
    "    model.request_output_for_flow(\n",
    "        name=\"incidence\",\n",
    "        flow_name=\"infection\",\n",
    "    )\n",
    "\n",
    "    return model"
   ]
  },
  {
   "attachments": {},
   "cell_type": "markdown",
   "id": "a9030f9a",
   "metadata": {},
   "source": [
    "### Helper function to transform parameters defining split proportions"
   ]
  },
  {
   "cell_type": "code",
   "execution_count": null,
   "id": "6715ce97",
   "metadata": {},
   "outputs": [],
   "source": [
    "def transform_split_prop_params(n_infectiousness_levels):\n",
    "    \"\"\"\n",
    "    prop_spreader_i = p_non_0 * ... * p_non_[i-1] * (1 - p_non_[i]) \n",
    "    for last i:  \n",
    "    prop_spreader_i = p_non_0 * ... * p_non_[i-1] \n",
    "    \"\"\"\n",
    "    split_props = {}\n",
    "\n",
    "    running_product = 1.\n",
    "    for i in range(n_infectiousness_levels):\n",
    "        split_prop = running_product\n",
    "        \n",
    "        if i < n_infectiousness_levels - 1:\n",
    "            prop_non_i = Parameter(f\"prop_non_{i}_among_{i}to{n_infectiousness_levels - 1}\")\n",
    "            split_prop *= 1 - prop_non_i\n",
    "\n",
    "            # update running product to prepare next iteration\n",
    "            running_product *= prop_non_i\n",
    "\n",
    "        split_props[f\"spreader_{i}\"] = split_prop\n",
    "\n",
    "    return split_props"
   ]
  },
  {
   "cell_type": "code",
   "execution_count": null,
   "id": "c1e650aa-c564-4383-94f7-7176cd50f8b9",
   "metadata": {},
   "outputs": [],
   "source": [
    "def get_infectiousness_stratification(\n",
    "    compartments_to_stratify: List[str],\n",
    "    n_infectiousness_levels: int\n",
    ") -> Stratification:\n",
    "    \"\"\"\n",
    "    Create a summer stratification object that stratifies all of the infectious compartments into\n",
    "    strata, which are intended to represent different levels of infectiousness.\n",
    "\n",
    "    Returns:\n",
    "        A summer stratification object to represent age stratification (not yet applied)\n",
    "    \"\"\"   \n",
    "    # Some preparation\n",
    "    strata = [f\"spreader_{i}\" for i in range(n_infectiousness_levels)]\n",
    "\n",
    "    # Create the stratification, just naming the age groups by their starting value\n",
    "    strat = Stratification(\n",
    "        name=\"infectiousness\", \n",
    "        strata=strata, \n",
    "        compartments=compartments_to_stratify\n",
    "    )  \n",
    "    \n",
    "    # split between the different spredear categories\n",
    "    split_props = transform_split_prop_params(n_infectiousness_levels)\n",
    "    if n_infectiousness_levels > 1:\n",
    "        strat.set_flow_adjustments(\n",
    "            \"infection\",\n",
    "            split_props\n",
    "        )\n",
    "\n",
    "    # adjust the infectiousness level of the different categories\n",
    "    infectiousness_adjustments = {}\n",
    "    relative_infectiousness = 1.\n",
    "    for i in range(n_infectiousness_levels):      \n",
    "        \n",
    "        if i > 0:\n",
    "            relative_infectiousness *= Parameter(f\"alpha_{i}\")\n",
    "\n",
    "        infectiousness_adjustments[f\"spreader_{i}\"] = relative_infectiousness\n",
    "        \n",
    "    strat.add_infectiousness_adjustments(\n",
    "        \"I\",\n",
    "        adjustments=infectiousness_adjustments\n",
    "    )\n",
    "\n",
    "    return strat\n",
    "\n"
   ]
  },
  {
   "cell_type": "code",
   "execution_count": null,
   "id": "097609b7",
   "metadata": {},
   "outputs": [],
   "source": [
    "def build_full_model(n_infectiousness_levels):\n",
    "\n",
    "    # Get an unstratified model object\n",
    "    model = build_unstratified_model()\n",
    "    \n",
    "    base_compartments = model.compartments\n",
    "\n",
    "    # Get and apply the infectiousness stratification\n",
    "    infectiousness_strat = get_infectiousness_stratification(\n",
    "        [\"I\"], \n",
    "        n_infectiousness_levels,\n",
    "    )\n",
    "    model.stratify_with(infectiousness_strat)\n",
    "    \n",
    "    return model"
   ]
  },
  {
   "attachments": {},
   "cell_type": "markdown",
   "id": "2312ccff",
   "metadata": {},
   "source": [
    "# Example run"
   ]
  },
  {
   "cell_type": "code",
   "execution_count": null,
   "id": "5beb7fb5",
   "metadata": {},
   "outputs": [],
   "source": [
    "model = build_full_model(n_infectiousness_levels=3)"
   ]
  },
  {
   "cell_type": "code",
   "execution_count": null,
   "id": "e0daffc8",
   "metadata": {},
   "outputs": [],
   "source": [
    "model.get_input_parameters()"
   ]
  },
  {
   "cell_type": "code",
   "execution_count": null,
   "id": "b005c754",
   "metadata": {},
   "outputs": [],
   "source": [
    "parameters = {    \n",
    "    'beta': .18, \n",
    "    'infectious_period': 7., \n",
    "    'infectious_seed': 100.,\n",
    "        \n",
    "    # spreader categories\n",
    "    'prop_non_0_among_0to2': .9,\n",
    "    'prop_non_1_among_1to2': .5,\n",
    "    \n",
    "    'alpha_1': 1.5,\n",
    "    'alpha_2': 3.\n",
    "}\n"
   ]
  },
  {
   "cell_type": "code",
   "execution_count": null,
   "id": "5bf5cceb",
   "metadata": {},
   "outputs": [],
   "source": [
    "model.run(parameters)\n",
    "\n",
    "comparison_df = pd.DataFrame({\n",
    "    \"modelled\": model.get_derived_outputs_df()[\"incidence\"],\n",
    "    \"reported\": incidence_target_trimmed,\n",
    "})\n",
    "comparison_df.plot()"
   ]
  },
  {
   "attachments": {},
   "cell_type": "markdown",
   "id": "09c2ae8f",
   "metadata": {},
   "source": [
    "## Automatic calibration"
   ]
  },
  {
   "cell_type": "code",
   "execution_count": null,
   "id": "8989e59e",
   "metadata": {},
   "outputs": [],
   "source": [
    "from estival import priors, targets\n",
    "from estival.calibration.mcmc.adaptive import AdaptiveChain"
   ]
  },
  {
   "cell_type": "code",
   "execution_count": null,
   "id": "1068fb2b",
   "metadata": {},
   "outputs": [],
   "source": []
  },
  {
   "cell_type": "code",
   "execution_count": null,
   "id": "53b790f8",
   "metadata": {},
   "outputs": [],
   "source": [
    "def run_calibration(n_infectiousness_levels, iterations):\n",
    "    # define calibration targets\n",
    "    mcmc_targets = [\n",
    "        targets.NormalTarget(\"incidence\", incidence_target_trimmed, 10.) \n",
    "    ]\n",
    "\n",
    "    # define priors\n",
    "    mcmc_priors = [\n",
    "        priors.UniformPrior(\"beta\", [0.1, 0.3]),\n",
    "        priors.UniformPrior(\"infectious_seed\", [1., 1000.]),\n",
    "    ]         \n",
    "\n",
    "    for i in range(1, n_infectiousness_levels):\n",
    "        # Include relative infectiousness\n",
    "        mcmc_priors.append(\n",
    "            priors.UniformPrior(f\"alpha_{i}\", [1., 5.]),\n",
    "        )\n",
    "        # Include split prop params\n",
    "        mcmc_priors.append(\n",
    "            priors.UniformPrior(f\"prop_non_{i - 1}_among_{i - 1}to{n_infectiousness_levels - 1}\", [0., 1.]),\n",
    "        )\n",
    "\n",
    "    # define initial parameters\n",
    "    parameters = {\n",
    "        'beta': .18, \n",
    "        'infectious_period': 7., \n",
    "        'infectious_seed': 100.,\n",
    "    }\n",
    "    for i in range(1, n_infectiousness_levels):\n",
    "        rel_inf_par_name, split_prop_par_name = f\"alpha_{i}\", f\"prop_non_{i - 1}_among_{i - 1}to{n_infectiousness_levels - 1}\"\n",
    "        parameters.update({rel_inf_par_name: 2., split_prop_par_name: .5})     \n",
    "\n",
    "        mcmc_priors += [\n",
    "            priors.UniformPrior(rel_inf_par_name, [1., 5.]),\n",
    "            priors.UniformPrior(split_prop_par_name, [0., 1.])\n",
    "        ]\n",
    "    \n",
    "    init_p = parameters.copy()\n",
    "\n",
    "    mcmc = AdaptiveChain(build_full_model, parameters, mcmc_priors, mcmc_targets, init_p, {\"n_infectiousness_levels\": n_infectiousness_levels})\n",
    "    mcmc.run(max_iter=iterations)\n",
    "\n",
    "    return mcmc"
   ]
  },
  {
   "cell_type": "code",
   "execution_count": null,
   "id": "65a92e0d",
   "metadata": {},
   "outputs": [],
   "source": [
    "n_infectiousness_levels = 3\n",
    "n_iterations = 1000\n",
    "\n",
    "mcmc = run_calibration(n_infectiousness_levels, n_iterations)"
   ]
  },
  {
   "cell_type": "code",
   "execution_count": null,
   "id": "84d6b129",
   "metadata": {},
   "outputs": [],
   "source": [
    "import arviz as az\n",
    "import random"
   ]
  },
  {
   "cell_type": "code",
   "execution_count": null,
   "id": "1a84d814",
   "metadata": {},
   "outputs": [],
   "source": [
    "# Some values to adjust to produce the desired outputs\n",
    "burn_in_prop = 0.2\n",
    "sample_for_plot = 20"
   ]
  },
  {
   "cell_type": "code",
   "execution_count": null,
   "id": "6c46ba38",
   "metadata": {},
   "outputs": [],
   "source": [
    "burn_in = round(burn_in_prop * iterations)  # Find the integer number of burn-in iterations\n",
    "\n",
    "burnt_results = mcmc.results[burn_in:]  # Get the MCMC results after burn-in\n",
    "accepted_mcmc = [burnt_results[i] for i in range(len(burnt_results)) if burnt_results[i].accept]  # Extract the accepted iterations\n",
    "mcmc_sample = random.sample(accepted_mcmc, sample_for_plot)  # Choose a sample to run for plotting later\n",
    "\n",
    "inf_data = mcmc.to_arviz(burn_in)  # Get the post-burn in chain in arviz format"
   ]
  },
  {
   "cell_type": "code",
   "execution_count": null,
   "id": "86d2d676",
   "metadata": {},
   "outputs": [],
   "source": [
    "out_df = {}\n",
    "recovered_df = {}\n",
    "for i, r in enumerate(mcmc_sample):\n",
    "    cur_params = parameters.copy()\n",
    "    cur_params.update(r.parameters)\n",
    "    model.run(cur_params)\n",
    "    derived_out = model.get_derived_outputs_df()\n",
    "    out_df[i] = derived_out[\"incidence\"]\n"
   ]
  },
  {
   "cell_type": "code",
   "execution_count": null,
   "id": "be6a8164",
   "metadata": {},
   "outputs": [],
   "source": [
    "pd.options.plotting.backend = \"matplotlib\"\n",
    "ax = pd.DataFrame(out_df).plot(style='-', figsize=(15, 6), legend=False)\n",
    "incidence_target_trimmed.plot(style='.', color=\"black\")\n",
    "pd.options.plotting.backend = \"plotly\""
   ]
  },
  {
   "cell_type": "code",
   "execution_count": null,
   "id": "f5adae2a",
   "metadata": {},
   "outputs": [],
   "source": [
    "# Find the parameter set with the highest log likelihood obtained\n",
    "\n",
    "best_ll = -np.inf\n",
    "best_res = None\n",
    "\n",
    "for r in mcmc.results:\n",
    "    if r.ll > best_ll:\n",
    "        best_ll = r.ll\n",
    "        best_res = r\n",
    "        \n",
    "best_res.parameters"
   ]
  },
  {
   "cell_type": "code",
   "execution_count": null,
   "id": "26552121",
   "metadata": {},
   "outputs": [],
   "source": [
    "max_ll_params = parameters.copy()\n",
    "max_ll_params.update(best_res.parameters)\n",
    "\n",
    "model.run(max_ll_params)\n",
    "\n",
    "comparison_df = pd.DataFrame({\n",
    "    \"modelled\": model.get_derived_outputs_df()[\"incidence\"],\n",
    "    \"reported\": incidence_target_trimmed,\n",
    "})\n",
    "comparison_df.plot()"
   ]
  },
  {
   "cell_type": "code",
   "execution_count": null,
   "id": "12feed6a",
   "metadata": {},
   "outputs": [],
   "source": [
    "az.summary(inf_data)"
   ]
  },
  {
   "cell_type": "code",
   "execution_count": null,
   "id": "c8c9f4ac",
   "metadata": {},
   "outputs": [],
   "source": [
    "az.plot_trace(inf_data, figsize=(16, 19));"
   ]
  },
  {
   "cell_type": "code",
   "execution_count": null,
   "id": "105ce85b",
   "metadata": {},
   "outputs": [],
   "source": [
    "az.plot_posterior(inf_data);"
   ]
  },
  {
   "cell_type": "code",
   "execution_count": null,
   "id": "f4034f0a",
   "metadata": {},
   "outputs": [],
   "source": [
    "from estival.utils import to_df, to_arviz"
   ]
  },
  {
   "cell_type": "code",
   "execution_count": null,
   "id": "842d5888",
   "metadata": {},
   "outputs": [],
   "source": [
    "caldf = to_df(mcmc)"
   ]
  },
  {
   "cell_type": "code",
   "execution_count": null,
   "id": "dadb927a",
   "metadata": {},
   "outputs": [],
   "source": [
    "px.line(caldf, x=\"iteration\", y=\"log_likelihood\")"
   ]
  },
  {
   "cell_type": "code",
   "execution_count": null,
   "id": "9bfed010",
   "metadata": {},
   "outputs": [],
   "source": [
    "from concurrent.futures import ThreadPoolExecutor\n",
    "from functools import partial\n",
    "\n",
    "def run_chain(chain_idx, n_iter, rand_init=False):\n",
    "    init_p = parameters.copy()\n",
    "    if rand_init:\n",
    "        for p in mcmc_priors:\n",
    "            init_p[p.name] = p.rv.rvs(1)[0]\n",
    "    \n",
    "    mcmc = AdaptiveChain(build_full_model, parameters, mcmc_priors, mcmc_targets, init_p,{\"config\": config},chain_id=chain_idx)\n",
    "    mcmc.run(max_iter=n_iter)\n",
    "    return mcmc\n",
    "\n"
   ]
  },
  {
   "cell_type": "code",
   "execution_count": null,
   "id": "db008fe8",
   "metadata": {},
   "outputs": [],
   "source": [
    "n_chains = 4\n",
    "\n",
    "run_func = partial(run_chain, rand_init=False,n_iter=2000)\n",
    "\n",
    "with ThreadPoolExecutor(n_chains) as p:\n",
    "    results = p.map(run_func,range(n_chains))\n",
    "\n",
    "multichain_results = list(results)"
   ]
  },
  {
   "cell_type": "code",
   "execution_count": null,
   "id": "616fa48e",
   "metadata": {},
   "outputs": [],
   "source": [
    "def get_chained_var(mcdf, variable):\n",
    "    var_table = mcdf.pivot_table(index=[\"chain\",\"iteration\"])[variable]\n",
    "\n",
    "    return pd.DataFrame(\n",
    "        {c: var_table.loc[c] for c in mcdf[\"chain\"].unique()}\n",
    "    )"
   ]
  },
  {
   "cell_type": "code",
   "execution_count": null,
   "id": "0315315f",
   "metadata": {},
   "outputs": [],
   "source": [
    "mcdf = to_df(multichain_results, full_trace=True)\n",
    "get_chained_var(mcdf, \"log_likelihood\").plot()"
   ]
  },
  {
   "cell_type": "code",
   "execution_count": null,
   "id": "a38c060b",
   "metadata": {},
   "outputs": [],
   "source": [
    "# Burnin matters - the convergence statistics can often be improved by discarding more data...\n",
    "inf_multichain = to_arviz(multichain_results, burnin=500)\n",
    "az.summary(inf_multichain)"
   ]
  },
  {
   "cell_type": "code",
   "execution_count": null,
   "id": "caa5d119",
   "metadata": {},
   "outputs": [],
   "source": [
    "az.plot_trace(inf_multichain, compact=False, legend=True, trace_kwargs={\"alpha\": 0.9}, figsize=(16, 19));"
   ]
  },
  {
   "cell_type": "code",
   "execution_count": null,
   "id": "7c9d549a",
   "metadata": {},
   "outputs": [],
   "source": [
    "az.plot_posterior(inf_multichain);"
   ]
  },
  {
   "cell_type": "code",
   "execution_count": null,
   "id": "4164a46a",
   "metadata": {},
   "outputs": [],
   "source": [
    "px.scatter_matrix(mcdf, dimensions=[p.name for p in mcmc.priors], color=\"log_posterior\", height=1000)"
   ]
  },
  {
   "cell_type": "code",
   "execution_count": null,
   "id": "3febe275",
   "metadata": {},
   "outputs": [],
   "source": [
    "px.scatter(mcdf, x=\"infectious_seed\", y=\"log_posterior\", color=\"chain\")"
   ]
  },
  {
   "cell_type": "code",
   "execution_count": null,
   "id": "f500bb4f",
   "metadata": {},
   "outputs": [],
   "source": [
    "def resume_chain(mcmc, max_iter):\n",
    "    mcmc.run(max_iter=max_iter)\n",
    "    return mcmc\n",
    "\n",
    "resume_func = partial(resume_chain,max_iter=2000)\n",
    "\n",
    "with ThreadPoolExecutor(n_chains) as p:\n",
    "    results = p.map(resume_func,multichain_results)\n",
    "\n",
    "multichain_results = list(results)"
   ]
  },
  {
   "cell_type": "code",
   "execution_count": null,
   "id": "730dbd6f",
   "metadata": {},
   "outputs": [],
   "source": [
    "mcdf = to_df(multichain_results, full_trace=True)\n",
    "get_chained_var(mcdf, \"log_likelihood\").plot()"
   ]
  },
  {
   "cell_type": "code",
   "execution_count": null,
   "id": "f5f472ec",
   "metadata": {},
   "outputs": [],
   "source": [
    "mcdf = to_df(multichain_results, burnin=1500)"
   ]
  },
  {
   "cell_type": "code",
   "execution_count": null,
   "id": "1c0f937c",
   "metadata": {},
   "outputs": [],
   "source": [
    "px.scatter_matrix(mcdf, dimensions=[p.name for p in mcmc.priors], color=\"log_posterior\", height=1000)"
   ]
  },
  {
   "cell_type": "code",
   "execution_count": null,
   "id": "040fd651",
   "metadata": {},
   "outputs": [],
   "source": [
    "px.scatter(mcdf, x=\"beta\", y=\"log_posterior\", color=\"chain\")"
   ]
  },
  {
   "cell_type": "code",
   "execution_count": null,
   "id": "b8e203f7",
   "metadata": {},
   "outputs": [],
   "source": [
    "inf_multichain = to_arviz(multichain_results, burnin=1500)\n",
    "az.summary(inf_multichain)"
   ]
  },
  {
   "cell_type": "code",
   "execution_count": null,
   "id": "38bfe5e5",
   "metadata": {},
   "outputs": [],
   "source": [
    "az.plot_trace(inf_multichain, compact=False, legend=True, trace_kwargs={\"alpha\": 0.9}, figsize=(16, 19));"
   ]
  },
  {
   "cell_type": "code",
   "execution_count": null,
   "id": "99b01011",
   "metadata": {},
   "outputs": [],
   "source": []
  }
 ],
 "metadata": {
  "kernelspec": {
   "display_name": "autumn310",
   "language": "python",
   "name": "python3"
  },
  "language_info": {
   "codemirror_mode": {
    "name": "ipython",
    "version": 3
   },
   "file_extension": ".py",
   "mimetype": "text/x-python",
   "name": "python",
   "nbconvert_exporter": "python",
   "pygments_lexer": "ipython3",
   "version": "3.10.3"
  },
  "vscode": {
   "interpreter": {
    "hash": "7afc08b952f75bca94590012dd49682c815a0fa68720c270ce23d7ae27bf110a"
   }
  }
 },
 "nbformat": 4,
 "nbformat_minor": 5
}
