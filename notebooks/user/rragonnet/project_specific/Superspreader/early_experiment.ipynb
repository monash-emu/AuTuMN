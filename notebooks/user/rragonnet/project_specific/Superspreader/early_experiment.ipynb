{
 "cells": [
  {
   "cell_type": "code",
   "execution_count": null,
   "id": "eeeb9ff8",
   "metadata": {},
   "outputs": [],
   "source": [
    "# pip install the required packages if running in Colab\n",
    "try:\n",
    "    import google.colab\n",
    "    IN_COLAB = True\n",
    "    %pip install summerepi2==1.0.4\n",
    "    %pip install estival==0.1.7\n",
    "except:\n",
    "    IN_COLAB = False"
   ]
  },
  {
   "cell_type": "code",
   "execution_count": null,
   "id": "e19523e4",
   "metadata": {},
   "outputs": [],
   "source": [
    "# Standard imports, plotting option and constant definition\n",
    "from datetime import datetime\n",
    "from typing import List, Union\n",
    "import pandas as pd\n",
    "import plotly.express as px\n",
    "import numpy as np\n",
    "import random\n",
    "\n",
    "from summer2 import CompartmentalModel, Stratification\n",
    "from summer2.parameters import Parameter, Time, Data\n",
    "\n",
    "pd.options.plotting.backend = \"plotly\"\n",
    "random.seed(10)"
   ]
  },
  {
   "cell_type": "code",
   "execution_count": null,
   "id": "c834fdc1",
   "metadata": {},
   "outputs": [],
   "source": [
    "initial_population = 32657100\n",
    "start_date_int = 0\n",
    "end_date_int = 500."
   ]
  },
  {
   "attachments": {},
   "cell_type": "markdown",
   "id": "7b90cd4d",
   "metadata": {},
   "source": [
    "# Model\n"
   ]
  },
  {
   "cell_type": "code",
   "execution_count": null,
   "id": "12f1dcd8-ebe7-481f-a823-7695ae07f570",
   "metadata": {},
   "outputs": [],
   "source": [
    "unstratified_compartments = [\"S\", \"I1\", \"I2\", \"R\"]"
   ]
  },
  {
   "cell_type": "code",
   "execution_count": null,
   "id": "03805af8",
   "metadata": {},
   "outputs": [],
   "source": [
    "def build_unstratified_model() -> CompartmentalModel:\n",
    "    \"\"\"\n",
    "    Create a compartmental model, with compartmental structure needed to run and produce some sort of \n",
    "    meaningful outputs.\n",
    "    \n",
    "    Args:\n",
    "        parameters: Flow parameters\n",
    "    Returns:\n",
    "        A compartmental model currently without stratification applied\n",
    "    \"\"\"\n",
    "    model = CompartmentalModel(\n",
    "        times=(start_date_int, end_date_int),\n",
    "        compartments=unstratified_compartments,\n",
    "        infectious_compartments=[\"I1\", \"I2\"],\n",
    "        ref_date=datetime(2023, 1, 1)\n",
    "    )\n",
    "\n",
    "    infectious_seed = Parameter(\"infectious_seed\")\n",
    "    infectious_period = Parameter(\"infectious_period\")\n",
    "\n",
    "    model.set_initial_population(\n",
    "        distribution=\n",
    "        {\n",
    "            \"S\": initial_population - infectious_seed, \n",
    "            \"I1\": infectious_seed,\n",
    "        }\n",
    "    )\n",
    "    \n",
    "    # Susceptible people can get infected\n",
    "    model.add_infection_frequency_flow(\n",
    "        name=\"infection\", \n",
    "        contact_rate=Parameter(\"beta\"), \n",
    "        source=\"S\",\n",
    "        dest=\"I1\",\n",
    "    )  \n",
    "\n",
    "    # People transition through the different infection stages\n",
    "    model.add_transition_flow(\n",
    "        name=\"progression\",\n",
    "        fractional_rate=2. / infectious_period,\n",
    "        source=\"I1\",\n",
    "        dest=\"I2\",\n",
    "    )\n",
    "\n",
    "    # Infectious people recover after some time spent infectious\n",
    "    model.add_transition_flow(\n",
    "        name=\"recovery\",\n",
    "        fractional_rate=2. / infectious_period,\n",
    "        source=\"I2\",\n",
    "        dest=\"R\",\n",
    "    )\n",
    "    \n",
    "    # Only a proportion of new cases are identified as cases\n",
    "    model.request_output_for_flow(\n",
    "        name=\"incidence\",\n",
    "        flow_name=\"infection\",\n",
    "    )\n",
    "\n",
    "    return model"
   ]
  },
  {
   "cell_type": "code",
   "execution_count": null,
   "id": "c1e650aa-c564-4383-94f7-7176cd50f8b9",
   "metadata": {},
   "outputs": [],
   "source": [
    "def get_infectiousness_stratification() -> Stratification:\n",
    "    \"\"\"\n",
    "    Create a summer stratification object that stratifies all of the infectious compartments into\n",
    "    strata, which are intended to represent different levels of infectiousness.\n",
    "\n",
    "    Returns:\n",
    "        A summer stratification object to represent age stratification (not yet applied)\n",
    "    \"\"\"   \n",
    "    # Some preparation\n",
    "    strata = [\"subspreader\", \"superspreader\"]\n",
    "    infectious_comps = [\"I1\", \"I2\"]\n",
    "\n",
    "    # Create the stratification, just naming the age groups by their starting value\n",
    "    strat = Stratification(\n",
    "        name=\"infectiousness\", \n",
    "        strata=strata, \n",
    "        compartments=infectious_comps\n",
    "    )  \n",
    "    \n",
    "    # split between the different spredear categories (c := prop of superspreader)\n",
    "    c = Parameter(\"c\")\n",
    "    split_props = {\n",
    "        \"subspreader\": 1 - c,\n",
    "        \"superspreader\": c\n",
    "    }\n",
    "    strat.set_flow_adjustments(\n",
    "        \"infection\",\n",
    "        split_props\n",
    "    )\n",
    "\n",
    "    rho = Parameter(\"rho\")\n",
    "    # adjust the infectiousness level of the different categories\n",
    "    infectiousness_adjustments = {\n",
    "        \"subspreader\": rho,\n",
    "        \"superspreader\": 1.\n",
    "    }        \n",
    "    for infectious_comp in infectious_comps:\n",
    "        strat.add_infectiousness_adjustments(\n",
    "            infectious_comp,\n",
    "            adjustments=infectiousness_adjustments\n",
    "        )\n",
    "\n",
    "    return strat\n",
    "\n"
   ]
  },
  {
   "cell_type": "code",
   "execution_count": null,
   "id": "097609b7",
   "metadata": {},
   "outputs": [],
   "source": [
    "def build_full_model():\n",
    "\n",
    "    # Get an unstratified model object\n",
    "    model = build_unstratified_model()\n",
    "    \n",
    "    base_compartments = model.compartments\n",
    "\n",
    "    # Get and apply the infectiousness stratification\n",
    "    infectiousness_strat = get_infectiousness_stratification()\n",
    "    model.stratify_with(infectiousness_strat)\n",
    "    \n",
    "    return model"
   ]
  },
  {
   "attachments": {},
   "cell_type": "markdown",
   "id": "2312ccff",
   "metadata": {},
   "source": [
    "# Example run, also used to generate dummy data"
   ]
  },
  {
   "cell_type": "code",
   "execution_count": null,
   "id": "5beb7fb5",
   "metadata": {},
   "outputs": [],
   "source": [
    "model = build_full_model()"
   ]
  },
  {
   "cell_type": "code",
   "execution_count": null,
   "id": "e0daffc8",
   "metadata": {},
   "outputs": [],
   "source": [
    "model.get_input_parameters()"
   ]
  },
  {
   "cell_type": "code",
   "execution_count": null,
   "id": "b005c754",
   "metadata": {},
   "outputs": [],
   "source": [
    "parameters = {    \n",
    "    'beta': .2, \n",
    "    'infectious_period': 7., \n",
    "    'infectious_seed': 100.,\n",
    "        \n",
    "    # spreader categories\n",
    "    'c': .75,\n",
    "    'rho': .5\n",
    "}\n"
   ]
  },
  {
   "cell_type": "code",
   "execution_count": null,
   "id": "5bf5cceb",
   "metadata": {},
   "outputs": [],
   "source": [
    "model.run(parameters)\n",
    "raw_incidence_target = model.get_derived_outputs_df()[\"incidence\"] \n",
    "raw_incidence_target.plot()"
   ]
  },
  {
   "attachments": {},
   "cell_type": "markdown",
   "id": "c156b6f0",
   "metadata": {},
   "source": [
    "### Add some noise to the data"
   ]
  },
  {
   "cell_type": "code",
   "execution_count": null,
   "id": "f6d06383",
   "metadata": {},
   "outputs": [],
   "source": [
    "incidence_target = raw_incidence_target + np.random.normal(loc=0,scale=2000,size=len(raw_incidence_target))\n",
    "incidence_target[incidence_target < 0.] = 0.\n",
    "incidence_target.plot()"
   ]
  },
  {
   "attachments": {},
   "cell_type": "markdown",
   "id": "09c2ae8f",
   "metadata": {},
   "source": [
    "## Automatic calibration"
   ]
  },
  {
   "cell_type": "code",
   "execution_count": null,
   "id": "8989e59e",
   "metadata": {},
   "outputs": [],
   "source": [
    "from estival import priors, targets\n",
    "from estival.calibration.mcmc.adaptive import AdaptiveChain"
   ]
  },
  {
   "cell_type": "code",
   "execution_count": null,
   "id": "53b790f8",
   "metadata": {},
   "outputs": [],
   "source": [
    "def run_calibration(iterations):\n",
    "    # define calibration targets\n",
    "    mcmc_targets = [\n",
    "        targets.NormalTarget(\"incidence\", incidence_target, priors.UniformPrior(\"target_sd\", [1000, 10000])) \n",
    "    ]\n",
    "\n",
    "    # define priors\n",
    "    mcmc_priors = [\n",
    "        priors.UniformPrior(\"beta\", [0.1, 0.5]),\n",
    "        priors.UniformPrior(\"c\", [0., 1.]),\n",
    "        priors.UniformPrior(\"rho\", [0., 1.]),\n",
    "    ]         \n",
    "\n",
    "    # define initial parameters\n",
    "    parameters = {\n",
    "        'beta': .3, \n",
    "        'infectious_period': 7., \n",
    "        'infectious_seed': 100.,\n",
    "        'c': .75,\n",
    "        'rho': .5,\n",
    "        'target_sd': 5000\n",
    "    }\n",
    "    init_p = parameters.copy()\n",
    "\n",
    "    mcmc = AdaptiveChain(build_full_model, parameters, mcmc_priors, mcmc_targets, init_p, adaptive_proposal=False)\n",
    "    mcmc.run(max_iter=iterations)\n",
    "\n",
    "    return mcmc"
   ]
  },
  {
   "cell_type": "code",
   "execution_count": null,
   "id": "65a92e0d",
   "metadata": {},
   "outputs": [],
   "source": [
    "n_iterations = 20000\n",
    "mcmc = run_calibration(n_iterations)"
   ]
  },
  {
   "cell_type": "code",
   "execution_count": null,
   "id": "3a48e018",
   "metadata": {},
   "outputs": [],
   "source": [
    "mcmc.n_accepted"
   ]
  },
  {
   "cell_type": "code",
   "execution_count": null,
   "id": "84d6b129",
   "metadata": {},
   "outputs": [],
   "source": [
    "import arviz as az"
   ]
  },
  {
   "cell_type": "code",
   "execution_count": null,
   "id": "1a84d814",
   "metadata": {},
   "outputs": [],
   "source": [
    "# Some values to adjust to produce the desired outputs\n",
    "burn_in_prop = 0.5\n",
    "sample_for_plot = 50"
   ]
  },
  {
   "cell_type": "code",
   "execution_count": null,
   "id": "6c46ba38",
   "metadata": {},
   "outputs": [],
   "source": [
    "burn_in = round(burn_in_prop * n_iterations)  # Find the integer number of burn-in iterations\n",
    "\n",
    "burnt_results = mcmc.results[burn_in:]  # Get the MCMC results after burn-in\n",
    "accepted_mcmc = [burnt_results[i] for i in range(len(burnt_results)) if burnt_results[i].accept]  # Extract the accepted iterations\n"
   ]
  },
  {
   "cell_type": "code",
   "execution_count": null,
   "id": "51191bb4",
   "metadata": {},
   "outputs": [],
   "source": [
    "mcmc_sample = random.sample(accepted_mcmc, sample_for_plot)  # Choose a sample to run for plotting later\n",
    "\n",
    "inf_data = mcmc.to_arviz(burn_in)  # Get the post-burn in chain in arviz format"
   ]
  },
  {
   "cell_type": "code",
   "execution_count": null,
   "id": "86d2d676",
   "metadata": {},
   "outputs": [],
   "source": [
    "out_df = {}\n",
    "recovered_df = {}\n",
    "for i, r in enumerate(mcmc_sample):\n",
    "    cur_params = parameters.copy()\n",
    "    cur_params.update(r.parameters)\n",
    "    model.run(cur_params)\n",
    "    derived_out = model.get_derived_outputs_df()\n",
    "    out_df[i] = derived_out[\"incidence\"]\n"
   ]
  },
  {
   "cell_type": "code",
   "execution_count": null,
   "id": "be6a8164",
   "metadata": {},
   "outputs": [],
   "source": [
    "pd.options.plotting.backend = \"matplotlib\"\n",
    "ax = pd.DataFrame(out_df).plot(style='-', figsize=(15, 6), legend=False)\n",
    "incidence_target.plot(style='.', color=\"black\")\n",
    "pd.options.plotting.backend = \"plotly\""
   ]
  },
  {
   "cell_type": "code",
   "execution_count": null,
   "id": "f5adae2a",
   "metadata": {},
   "outputs": [],
   "source": [
    "# Find the parameter set with the highest log likelihood obtained\n",
    "\n",
    "best_ll = -np.inf\n",
    "best_res = None\n",
    "\n",
    "for r in mcmc.results:\n",
    "    if r.ll > best_ll:\n",
    "        best_ll = r.ll\n",
    "        best_res = r\n",
    "        \n",
    "best_res.parameters"
   ]
  },
  {
   "cell_type": "code",
   "execution_count": null,
   "id": "26552121",
   "metadata": {},
   "outputs": [],
   "source": [
    "max_ll_params = parameters.copy()\n",
    "max_ll_params.update(best_res.parameters)\n",
    "\n",
    "model.run(max_ll_params)\n",
    "\n",
    "comparison_df = pd.DataFrame({\n",
    "    \"modelled\": model.get_derived_outputs_df()[\"incidence\"],\n",
    "    \"reported\": incidence_target,\n",
    "})\n",
    "comparison_df.plot()"
   ]
  },
  {
   "cell_type": "code",
   "execution_count": null,
   "id": "12feed6a",
   "metadata": {},
   "outputs": [],
   "source": [
    "az.summary(inf_data)"
   ]
  },
  {
   "cell_type": "code",
   "execution_count": null,
   "id": "c8c9f4ac",
   "metadata": {},
   "outputs": [],
   "source": [
    "az.plot_trace(inf_data, figsize=(16, 19));"
   ]
  },
  {
   "cell_type": "code",
   "execution_count": null,
   "id": "105ce85b",
   "metadata": {},
   "outputs": [],
   "source": [
    "az.plot_posterior(inf_data);"
   ]
  },
  {
   "cell_type": "code",
   "execution_count": null,
   "id": "8cfb58a6",
   "metadata": {},
   "outputs": [],
   "source": [
    "az.plot_pair(inf_data)"
   ]
  },
  {
   "cell_type": "code",
   "execution_count": null,
   "id": "f4034f0a",
   "metadata": {},
   "outputs": [],
   "source": [
    "from estival.utils import to_df, to_arviz"
   ]
  },
  {
   "cell_type": "code",
   "execution_count": null,
   "id": "842d5888",
   "metadata": {},
   "outputs": [],
   "source": [
    "caldf = to_df(mcmc)"
   ]
  },
  {
   "cell_type": "code",
   "execution_count": null,
   "id": "dadb927a",
   "metadata": {},
   "outputs": [],
   "source": [
    "px.line(caldf, x=\"iteration\", y=\"log_likelihood\")"
   ]
  }
 ],
 "metadata": {
  "kernelspec": {
   "display_name": "autumn310",
   "language": "python",
   "name": "python3"
  },
  "language_info": {
   "codemirror_mode": {
    "name": "ipython",
    "version": 3
   },
   "file_extension": ".py",
   "mimetype": "text/x-python",
   "name": "python",
   "nbconvert_exporter": "python",
   "pygments_lexer": "ipython3",
   "version": "3.10.3"
  },
  "vscode": {
   "interpreter": {
    "hash": "7afc08b952f75bca94590012dd49682c815a0fa68720c270ce23d7ae27bf110a"
   }
  }
 },
 "nbformat": 4,
 "nbformat_minor": 5
}
