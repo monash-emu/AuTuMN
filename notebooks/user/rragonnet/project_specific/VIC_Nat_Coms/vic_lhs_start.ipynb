{
 "cells": [
  {
   "cell_type": "code",
   "execution_count": null,
   "metadata": {},
   "outputs": [],
   "source": [
    "# Import packages\n",
    "import os\n",
    "from math import log\n",
    "\n",
    "from matplotlib import pyplot as plt\n",
    "import pandas as pd\n",
    "import numpy as np\n",
    "\n",
    "# Import AuTuMN modules\n",
    "from autumn.settings import Models, Region\n",
    "from autumn.settings.folders import OUTPUT_DATA_PATH\n",
    "from autumn.tools.project import get_project\n",
    "from autumn.tools import db\n",
    "from autumn.tools.plots.calibration.plots import calculate_r_hats, get_output_from_run_id, get_posterior\n",
    "from autumn.tools.plots.uncertainty.plots import _plot_uncertainty, _get_target_values\n",
    "from autumn.tools.plots.plotter.base_plotter import COLOR_THEME\n",
    "from autumn.tools.plots.utils import get_plot_text_dict, change_xaxis_to_date, REF_DATE, ALPHAS, COLORS, _apply_transparency, _plot_targets_to_axis, split_mcmc_outputs_by_chain\n",
    "\n",
    "from autumn.calibration.utils import get_uncertainty_df\n",
    "import yaml\n"
   ]
  },
  {
   "cell_type": "code",
   "execution_count": null,
   "metadata": {},
   "outputs": [],
   "source": [
    "# Specify model details\n",
    "model = Models.COVID_19\n",
    "region = Region.VICTORIA_2020\n",
    "dirname_lhs = \"2021-09-05\"\n",
    "\n",
    "dirname_main = \"2021-09-04\"\n",
    "main_burn_in = 8000"
   ]
  },
  {
   "cell_type": "code",
   "execution_count": null,
   "metadata": {},
   "outputs": [],
   "source": [
    "# get the relevant project and output data\n",
    "project = get_project(model, region)\n",
    "project_calib_dir = os.path.join(\n",
    "    OUTPUT_DATA_PATH, \"calibrate\", project.model_name, project.region_name\n",
    ")\n",
    "\n",
    "# load data from LHS analysis\n",
    "calib_path = os.path.join(project_calib_dir, dirname_lhs)\n",
    "mcmc_tables = db.load.load_mcmc_tables(calib_path)\n",
    "mcmc_params = db.load.load_mcmc_params_tables(calib_path)\n",
    "\n",
    "# Load data from main analysis\n",
    "main_calib_path = os.path.join(project_calib_dir, dirname_main)\n",
    "main_mcmc_tables = db.load.load_mcmc_tables(main_calib_path)\n",
    "main_mcmc_params = db.load.load_mcmc_params_tables(main_calib_path)\n",
    "\n",
    "# param_names = list(mcmc_params[0][\"name\"].unique())\n",
    "param_names = ['victorian_clusters.metro.mobility.microdistancing.face_coverings_adjuster.parameters.effect', 'sojourn.compartment_periods_calculated.active.total_period', 'contact_rate', 'victorian_clusters.intercluster_mixing', 'infectious_seed', 'infection_fatality.top_bracket_overwrite', 'clinical_stratification.props.hospital.multiplier', 'testing_to_detection.assumed_cdr_parameter', 'sojourn.compartment_periods.icu_early', 'victorian_clusters.metro.mobility.microdistancing.behaviour_adjuster.parameters.effect']"
   ]
  },
  {
   "cell_type": "markdown",
   "metadata": {},
   "source": [
    "# Param traces"
   ]
  },
  {
   "cell_type": "code",
   "execution_count": null,
   "metadata": {},
   "outputs": [],
   "source": [
    "# Get median estimates\n",
    "medians, lower, upper = {}, {}, {}\n",
    "\n",
    "for param_name in param_names:\n",
    "    param_values = get_posterior(main_mcmc_params, main_mcmc_tables, param_name, burn_in=main_burn_in)\n",
    "    medians[param_name] = np.quantile(param_values, 0.5)\n",
    "    lower[param_name] = np.quantile(param_values, 0.025)\n",
    "    upper[param_name] = np.quantile(param_values, 0.975)\n",
    "\n",
    "    "
   ]
  },
  {
   "cell_type": "code",
   "execution_count": null,
   "metadata": {},
   "outputs": [],
   "source": [
    "n_rows, n_cols = 5, 2\n",
    "fig, axes = plt.subplots(n_rows, n_cols, sharex=True, sharey=False, figsize=(15, 18))\n",
    "plt.style.use(\"ggplot\")\n",
    "\n",
    "\n",
    "chain_ids = list(mcmc_params[0][\"chain\"].unique())\n",
    "\n",
    "mcmc_params_list, mcmc_tables_list = split_mcmc_outputs_by_chain(mcmc_params, mcmc_tables)\n",
    "\n",
    "i_row, i_col = 0, 0\n",
    "for param_name in param_names:\n",
    "    axis = axes[i_row, i_col]\n",
    "    \n",
    "    for i_chain in range(len(mcmc_params_list)):            \n",
    "        param_values = get_posterior([mcmc_params_list[i_chain]], [mcmc_tables_list[i_chain]], param_name, burn_in=0)\n",
    "        axis.plot(param_values, alpha=0.8, linewidth=0.5)  #, color=COLOR_THEME[i_chain])   \n",
    "        \n",
    "    h_color = \"black\"\n",
    "    axis.hlines(y=medians[param_name], xmin = 0, xmax=len(param_values), zorder=100, color=h_color,  linestyle=\"solid\")\n",
    "    axis.hlines(y=lower[param_name], xmin = 0, xmax=len(param_values), zorder=100, color=h_color, linestyle=\"dotted\")\n",
    "    axis.hlines(y=upper[param_name], xmin = 0, xmax=len(param_values), zorder=100, color=h_color, linestyle=\"dotted\")\n",
    "    \n",
    "    i_col += 1\n",
    "    if i_col == n_cols:\n",
    "        i_row += 1 \n",
    "        i_col = 0\n",
    "    \n",
    "    axis.set_ylabel(get_plot_text_dict(param_name), fontsize=15) \n",
    "    \n",
    "    # axis.set_ylim((min_ll - 2, 3))\n",
    "\n",
    "plt.tight_layout()\n",
    "plt.savefig(\"lhs_start_traces_median.png\", dpi=150)\n",
    "plt.savefig(\"lhs_start_traces_median.pdf\")"
   ]
  },
  {
   "cell_type": "markdown",
   "metadata": {},
   "source": [
    "# Posterior vs params"
   ]
  },
  {
   "cell_type": "code",
   "execution_count": null,
   "metadata": {},
   "outputs": [],
   "source": [
    "def plot_param_vs_loglike(mcmc_tables, mcmc_params, param_name, burn_in, axis, posterior=False):\n",
    "    var_key = \"ap_loglikelihood\" if posterior else \"loglikelihood\"\n",
    "    for mcmc_df, param_df in zip(mcmc_tables, mcmc_params):\n",
    "        df = param_df.merge(mcmc_df, on=[\"run\", \"chain\"])\n",
    "        mask = (df[\"accept\"] == 1) & (df[\"name\"] == param_name) & (df[\"run\"] > burn_in)\n",
    "        df = df[mask]\n",
    "\n",
    "        max_loglike = max(df[var_key]) + 1\n",
    "        min_loglike = min(df[var_key])\n",
    "        \n",
    "        chain_ids = list(df[\"chain\"].unique())\n",
    "#         chain_ids.reverse()\n",
    "\n",
    "        for chain_id in chain_ids:\n",
    "            chain_df = df[df[\"chain\"] == chain_id]\n",
    "\n",
    "            param_values = chain_df[\"value\"]\n",
    "\n",
    "            # apply transformation to improve readability\n",
    "            # trans_loglikelihood_values = [-log(-v + max_loglike) for v in chain_df[var_key]]\n",
    "\n",
    "            trans_loglikelihood_values = [-log(-v + max_loglike) for v in chain_df[var_key]]\n",
    "            zorders = list(np.random.randint(0, 10, size=len(param_values)))\n",
    "            \n",
    "            axis.plot(list(param_values)[0], list(trans_loglikelihood_values)[0], \"*\", color=\"violet\",  markersize=15)\n",
    "            axis.plot(param_values, trans_loglikelihood_values, \".\", color=COLOR_THEME[chain_id], markersize=5)\n",
    "\n",
    "            \n",
    "        return -log(-min_loglike + max_loglike)"
   ]
  },
  {
   "cell_type": "code",
   "execution_count": null,
   "metadata": {},
   "outputs": [],
   "source": [
    "n_rows, n_cols = 4, 3\n",
    "fig, axes = plt.subplots(n_rows, n_cols, sharex=False, sharey=True, figsize=(15, 18))\n",
    "\n",
    "\n",
    "# fig = plt.figure(figsize=(12, 8))\n",
    "plt.style.use(\"ggplot\")\n",
    "\n",
    "i_row, i_col = 0, 0\n",
    "for param_name in param_names:\n",
    "    axis = axes[i_row, i_col]\n",
    "    min_ll = plot_param_vs_loglike(mcmc_tables, mcmc_params, param_name, 0, axis, posterior=False)\n",
    "\n",
    "    i_col += 1\n",
    "    if i_col == n_cols:\n",
    "        i_row += 1 \n",
    "        i_col = 0\n",
    "    \n",
    "    axis.set_title(get_plot_text_dict(param_name)) \n",
    "    if i_col == 1:\n",
    "        axis.set_ylabel(\"likelihood (transformed)\")\n",
    "    axis.set_ylim((min_ll - 2, 0.5))\n",
    "    \n",
    "axis_to_shut = [ [3, 1], [3, 2] ]\n",
    "for ax_ids in axis_to_shut:\n",
    "    axis = axes[ax_ids[0], ax_ids[1]]\n",
    "    axis.set_axis_off()\n",
    "    \n",
    "plt.tight_layout()\n",
    "plt.savefig(\"likelihood_against_params.png\", dpi=150)\n",
    "plt.savefig(\"likelihood_against_params.pdf\")"
   ]
  },
  {
   "cell_type": "code",
   "execution_count": null,
   "metadata": {},
   "outputs": [],
   "source": []
  }
 ],
 "metadata": {
  "kernelspec": {
   "display_name": "Python 3",
   "language": "python",
   "name": "python3"
  },
  "language_info": {
   "codemirror_mode": {
    "name": "ipython",
    "version": 3
   },
   "file_extension": ".py",
   "mimetype": "text/x-python",
   "name": "python",
   "nbconvert_exporter": "python",
   "pygments_lexer": "ipython3",
   "version": "3.6.8"
  }
 },
 "nbformat": 4,
 "nbformat_minor": 1
}
