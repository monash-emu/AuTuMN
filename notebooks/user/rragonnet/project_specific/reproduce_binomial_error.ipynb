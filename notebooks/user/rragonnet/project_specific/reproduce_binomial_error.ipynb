{
 "cells": [
  {
   "cell_type": "code",
   "execution_count": null,
   "metadata": {},
   "outputs": [],
   "source": [
    "import numpy as np\n",
    "\n",
    "from autumn.projects.sm_covid2.common_school.calibration import get_bcm_object"
   ]
  },
  {
   "cell_type": "code",
   "execution_count": null,
   "metadata": {},
   "outputs": [],
   "source": [
    "bcm = get_bcm_object(\"france\")"
   ]
  },
  {
   "cell_type": "code",
   "execution_count": null,
   "metadata": {},
   "outputs": [],
   "source": [
    "bcm.targets"
   ]
  },
  {
   "cell_type": "code",
   "execution_count": null,
   "metadata": {},
   "outputs": [],
   "source": [
    "example_params = {\n",
    "    'contact_rate': 0.04104869232093793,\n",
    "    'infectious_seed_time': 30.447925441292778,\n",
    "    'age_stratification.ifr.multiplier': 0.8145117432172231,\n",
    "    'voc_emergence.delta.new_voc_seed.time_from_gisaid_report': 18.52679245171894,\n",
    "    'voc_emergence.omicron.new_voc_seed.time_from_gisaid_report': 0.0,\n",
    "    'random_process.noise_sd': 0.5835215881701278,\n",
    "\n",
    "    'mobility.unesco_partial_opening_value': .2,\n",
    "    'school_multiplier': 1.,\n",
    "\n",
    "    \"random_process.delta_values\": np.array([\n",
    "        -1.306496185258189,\n",
    "        0.11250765346332026,\n",
    "        0.5009919549420943,\n",
    "        -0.06375110616249913,\n",
    "        -0.24028730546991617,\n",
    "        0.2606697551298094,\n",
    "        -0.13194034829544132,\n",
    "        -0.3559750720412327,\n",
    "        0.04754597441674813,\n",
    "        0.12138039221640762,\n",
    "        0.6411075116621299,  \n",
    "        0.0,0.0,0.0,0.0,0.0,0.0,\n",
    "    ]),\n",
    "    'infection_deaths_dispersion_param': 100.\n",
    "}"
   ]
  },
  {
   "cell_type": "code",
   "execution_count": null,
   "metadata": {},
   "outputs": [],
   "source": [
    "bcm.loglikelihood(**example_params)"
   ]
  },
  {
   "cell_type": "code",
   "execution_count": null,
   "metadata": {},
   "outputs": [],
   "source": []
  }
 ],
 "metadata": {
  "kernelspec": {
   "display_name": "summer2",
   "language": "python",
   "name": "python3"
  },
  "language_info": {
   "codemirror_mode": {
    "name": "ipython",
    "version": 3
   },
   "file_extension": ".py",
   "mimetype": "text/x-python",
   "name": "python",
   "nbconvert_exporter": "python",
   "pygments_lexer": "ipython3",
   "version": "3.10.11"
  },
  "orig_nbformat": 4
 },
 "nbformat": 4,
 "nbformat_minor": 2
}
