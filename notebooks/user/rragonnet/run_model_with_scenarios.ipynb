{
 "cells": [
  {
   "cell_type": "code",
   "execution_count": null,
   "id": "caaa718d",
   "metadata": {},
   "outputs": [],
   "source": [
    "from autumn.tools.project import get_project\n",
    "from matplotlib import pyplot\n",
    "from autumn.tools.plots.utils import REF_DATE\n",
    "# from autumn.tools.calibration.targets import get_target_series\n",
    "import pandas as pd\n",
    "from autumn.tools.utils.pretty import pretty_print\n",
    "\n",
    "from autumn.tools.plots.uncertainty.plots import _get_target_values, _plot_targets_to_axis"
   ]
  },
  {
   "cell_type": "code",
   "execution_count": null,
   "id": "2bef4130",
   "metadata": {},
   "outputs": [],
   "source": [
    "project = get_project(\"sm_sir\", \"national-capital-region\")"
   ]
  },
  {
   "cell_type": "code",
   "execution_count": null,
   "id": "2f290f38",
   "metadata": {},
   "outputs": [],
   "source": [
    "# run baseline model\n",
    "model_0 = project.run_baseline_model(project.param_set.baseline)\n",
    "derived_df = model_0.get_derived_outputs_df()"
   ]
  },
  {
   "cell_type": "code",
   "execution_count": null,
   "id": "ea4d7aaf",
   "metadata": {},
   "outputs": [],
   "source": [
    "# run scenarios\n",
    "start_times = [\n",
    "    sc_params.to_dict()[\"time\"][\"start\"] for sc_params in project.param_set.scenarios\n",
    "]\n",
    "sc_models = project.run_scenario_models(model_0, project.param_set.scenarios, start_times=start_times)\n",
    "derived_dfs = [m.get_derived_outputs_df() for m in sc_models]"
   ]
  },
  {
   "cell_type": "code",
   "execution_count": null,
   "id": "22efab62",
   "metadata": {},
   "outputs": [],
   "source": [
    "outputs = [\"icu_occupancy\", \"hospital_occupancy\"]\n",
    "\n",
    "sc_colors = [\"blue\", \"green\", \"red\"]\n",
    "\n",
    "for output in outputs:\n",
    "    fig = pyplot.figure(figsize=(12, 8))\n",
    "    pyplot.style.use(\"ggplot\")\n",
    "    axis = fig.add_subplot()\n",
    "    # axis = derived_df[output].plot()\n",
    "    \n",
    "    # plot baseline\n",
    "    derived_df[output].plot(color=\"black\")\n",
    "    for i, d in enumerate(derived_dfs):       \n",
    "        d[output].plot(color=sc_colors[i])\n",
    "    #     axis.vlines(x=pd.Timestamp(\"2021-11-01\"), ymin=0, ymax=max(d[output]), color=\"black\", linestyle=\"dashed\")\n",
    "    axis.set_xlim((pd.Timestamp(\"2021-12-01\"), pd.Timestamp(\"2022-12-31\")))\n",
    "    axis.set_ylabel(output.replace(\"_\", \" \"), fontsize=15)"
   ]
  },
  {
   "cell_type": "raw",
   "id": "37f8475e",
   "metadata": {},
   "source": []
  },
  {
   "cell_type": "code",
   "execution_count": null,
   "id": "2a328a25",
   "metadata": {},
   "outputs": [],
   "source": [
    "len(derived_dfs)"
   ]
  },
  {
   "cell_type": "code",
   "execution_count": null,
   "id": "364dfe2a",
   "metadata": {},
   "outputs": [],
   "source": []
  }
 ],
 "metadata": {
  "kernelspec": {
   "display_name": "Python 3 (ipykernel)",
   "language": "python",
   "name": "python3"
  },
  "language_info": {
   "codemirror_mode": {
    "name": "ipython",
    "version": 3
   },
   "file_extension": ".py",
   "mimetype": "text/x-python",
   "name": "python",
   "nbconvert_exporter": "python",
   "pygments_lexer": "ipython3",
   "version": "3.7.11"
  }
 },
 "nbformat": 4,
 "nbformat_minor": 5
}
