{
 "cells": [
  {
   "cell_type": "code",
   "execution_count": null,
   "id": "caaa718d",
   "metadata": {},
   "outputs": [],
   "source": [
    "from matplotlib import pyplot\n",
    "import pandas as pd\n",
    "\n",
    "from autumn.core.plots.utils import REF_DATE\n",
    "from autumn.core.project import get_project\n",
    "from autumn.settings.region import Region"
   ]
  },
  {
   "cell_type": "code",
   "execution_count": null,
   "id": "2bef4130",
   "metadata": {},
   "outputs": [],
   "source": [
    "project = get_project(\"sm_sir\", Region.NCR)"
   ]
  },
  {
   "cell_type": "markdown",
   "id": "3d916a35",
   "metadata": {},
   "source": [
    "### Run baseline model\n"
   ]
  },
  {
   "cell_type": "code",
   "execution_count": null,
   "id": "2f290f38",
   "metadata": {},
   "outputs": [],
   "source": [
    "model_0 = project.run_baseline_model(project.param_set.baseline)\n",
    "derived_df = model_0.get_derived_outputs_df()"
   ]
  },
  {
   "cell_type": "markdown",
   "id": "65308d90",
   "metadata": {},
   "source": [
    "### Run scenarios"
   ]
  },
  {
   "cell_type": "code",
   "execution_count": null,
   "id": "ea4d7aaf",
   "metadata": {},
   "outputs": [],
   "source": [
    "start_times = [\n",
    "    sc_params.to_dict()[\"time\"][\"start\"] for sc_params in project.param_set.scenarios\n",
    "]\n",
    "sc_models = project.run_scenario_models(model_0, project.param_set.scenarios, start_times=start_times)\n",
    "derived_dfs = [m.get_derived_outputs_df() for m in sc_models]"
   ]
  },
  {
   "cell_type": "markdown",
   "id": "2b971d3f",
   "metadata": {},
   "source": [
    "### List scenario descriptions (index 0 = scenario 1)"
   ]
  },
  {
   "cell_type": "code",
   "execution_count": null,
   "id": "bb6fdd68",
   "metadata": {},
   "outputs": [],
   "source": [
    "for i, sc_p in enumerate(project.param_set.scenarios):\n",
    "    print(f\"{i}: {sc_p['description']}\")"
   ]
  },
  {
   "cell_type": "markdown",
   "id": "115b77b0",
   "metadata": {},
   "source": [
    "### Plot outputs"
   ]
  },
  {
   "cell_type": "code",
   "execution_count": null,
   "id": "22efab62",
   "metadata": {},
   "outputs": [],
   "source": [
    "outputs = [\"icu_occupancy\", \"hospital_occupancy\"]\n",
    "sc_to_plots = [1]\n",
    "\n",
    "sc_colors = [\"blue\", \"green\", \"red\", \"orange\", \"turquoise\"] * 3\n",
    "\n",
    "for output in outputs:\n",
    "    fig = pyplot.figure(figsize=(12, 8))\n",
    "    pyplot.style.use(\"ggplot\")\n",
    "    axis = fig.add_subplot()\n",
    "    # axis = derived_df[output].plot()\n",
    "    \n",
    "    # plot baseline\n",
    "    derived_df[output].plot(color=\"black\")\n",
    "    for i, d in enumerate(derived_dfs):    \n",
    "        if i in sc_to_plots:\n",
    "            d[output].plot(color=sc_colors[i])\n",
    "    #     axis.vlines(x=pd.Timestamp(\"2021-11-01\"), ymin=0, ymax=max(d[output]), color=\"black\", linestyle=\"dashed\")\n",
    "    axis.set_xlim((pd.Timestamp(\"2021-12-01\"), pd.Timestamp(\"2022-12-31\")))\n",
    "    axis.set_ylabel(output.replace(\"_\", \" \"), fontsize=15)"
   ]
  }
 ],
 "metadata": {
  "kernelspec": {
   "display_name": "Python 3.10.3 ('autumn310')",
   "language": "python",
   "name": "python3"
  },
  "language_info": {
   "codemirror_mode": {
    "name": "ipython",
    "version": 3
   },
   "file_extension": ".py",
   "mimetype": "text/x-python",
   "name": "python",
   "nbconvert_exporter": "python",
   "pygments_lexer": "ipython3",
   "version": "3.10.3"
  },
  "vscode": {
   "interpreter": {
    "hash": "7afc08b952f75bca94590012dd49682c815a0fa68720c270ce23d7ae27bf110a"
   }
  }
 },
 "nbformat": 4,
 "nbformat_minor": 5
}
