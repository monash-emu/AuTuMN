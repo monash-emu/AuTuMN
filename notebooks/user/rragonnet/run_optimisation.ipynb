{
 "cells": [
  {
   "cell_type": "code",
   "execution_count": 4,
   "id": "66bc3bd9",
   "metadata": {},
   "outputs": [
    {
     "data": {
      "text/plain": [
       "11.939746153795173"
      ]
     },
     "execution_count": 4,
     "metadata": {},
     "output_type": "execute_result"
    }
   ],
   "source": [
    "from autumn.settings import Region, Models\n",
    "from autumn.tools.optimisation.opti_tools import get_calibration_object, calculate_objective_to_minimize\n",
    "\n",
    "# Select the simulator\n",
    "model, region = Models.COVID_19, Region.SRI_LANKA\n",
    "\n",
    "# Or select a faster simulator for testing:\n",
    "# model, region = Models.SM_SIR, Region.NCR\n",
    "\n",
    "# Prepare the simulator\n",
    "calib = get_calibration_object(model, region)\n",
    "var_bounds = {\n",
    "    prior['param_name']: prior['distri_params'] for prior in calib.all_priors\n",
    "}\n",
    "\n",
    "# Now everything is ready to go.\n",
    "# The decision variables and their bounds can be found in var_bounds\n",
    "# The objective function is called using calculate_objective_to_minimize\n",
    "# See example below evaluating the objective at the variables' midpoints\n",
    "\n",
    "params_dict = {\n",
    "    param: (interval[0] + interval[1]) / 2. for param, interval in var_bounds.items()\n",
    "}\n",
    "\n",
    "y = calculate_objective_to_minimize(calib, params_dict)\n",
    "# I obtained y = 12.463345415696706 on my laptop for the COVID_19 / SRI_LANKA model\n",
    "# I obtained y = 229.01292047573264 on my laptop for the SM_SIR / NCR model\n",
    "y"
   ]
  },
  {
   "cell_type": "code",
   "execution_count": null,
   "id": "b15f0f67",
   "metadata": {},
   "outputs": [],
   "source": []
  }
 ],
 "metadata": {
  "kernelspec": {
   "display_name": "Python 3 (ipykernel)",
   "language": "python",
   "name": "python3"
  },
  "language_info": {
   "codemirror_mode": {
    "name": "ipython",
    "version": 3
   },
   "file_extension": ".py",
   "mimetype": "text/x-python",
   "name": "python",
   "nbconvert_exporter": "python",
   "pygments_lexer": "ipython3",
   "version": "3.10.3"
  }
 },
 "nbformat": 4,
 "nbformat_minor": 5
}
