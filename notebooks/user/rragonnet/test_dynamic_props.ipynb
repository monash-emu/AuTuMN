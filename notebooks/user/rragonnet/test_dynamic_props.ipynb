{
 "cells": [
  {
   "cell_type": "code",
   "execution_count": null,
   "id": "bc585558",
   "metadata": {},
   "outputs": [],
   "source": [
    "import pandas as pd\n",
    "import numpy as np\n",
    "\n",
    "from autumn.model_extensions.dynamic_proportions.solve_transitions import calculate_transition_rates_from_dynamic_props\n",
    "from summer import CompartmentalModel"
   ]
  },
  {
   "cell_type": "code",
   "execution_count": null,
   "id": "3963ff5c",
   "metadata": {},
   "outputs": [],
   "source": [
    "def test_dynamic_props_with_single_flow(n_props_to_test=10, error=1e-4):\n",
    "    \"\"\"\n",
    "    Test the dynamic proportion module in the case of a single flow for which we know the exact solution.\n",
    "    \"\"\"\n",
    "    tested_props = np.random.uniform(size=n_props_to_test)\n",
    "    active_flows = [\"A_to_B\"]\n",
    "    \n",
    "    for prop_final_in_a in tested_props:        \n",
    "        props_df = pd.DataFrame(\n",
    "            data={ \n",
    "                \"A\":[1., prop_final_in_a], \n",
    "                \"B\":[0., 1. - prop_final_in_a]\n",
    "            },\n",
    "            index = [0, 100]\n",
    "        )\n",
    "        sc_functions = calculate_transition_rates_from_dynamic_props(props_df, active_flows)\n",
    "        estimated_rate = sc_functions[\"A_to_B\"](50.)\n",
    "        true_rate = - np.log(prop_final_in_a) / 100.\n",
    "        \n",
    "        assert abs(estimated_rate - true_rate) <= error"
   ]
  },
  {
   "cell_type": "code",
   "execution_count": null,
   "id": "d3c6dfe7",
   "metadata": {},
   "outputs": [],
   "source": [
    "def test_dynamic_props_using_ode_model(n_props_to_test=2, error=5e-2):\n",
    "    \"\"\"\n",
    "    Test the dynamic proportion module by solving the transition rates first and then running an ODE model using these\n",
    "    parameters. The requested proportions are then compared to the model outputs.\n",
    "    \"\"\"\n",
    "    # List of transtion flows\n",
    "    active_flows = [\n",
    "        \"unvaccinated_to_vaccinated\", \n",
    "        \"vaccinated_to_boosted\", \n",
    "        \"boosted_to_vaccinated\"\n",
    "    ]\n",
    "    \n",
    "    tested_p_vacc = np.random.uniform(size=n_props_to_test)\n",
    "    tested_p_boost = np.random.uniform(size=n_props_to_test)\n",
    "    tested_p_waned = np.random.uniform(size=n_props_to_test)\n",
    "    \n",
    "    for p_vacc in tested_p_vacc:\n",
    "        for p_boost in tested_p_boost:\n",
    "            for p_waned in tested_p_waned:    \n",
    "                test_props_df = pd.DataFrame(\n",
    "                    data={ \n",
    "                        \"unvaccinated\":[1., 1. - p_vacc, 1. - p_vacc, 1. - p_vacc], \n",
    "                        \"vaccinated\":[0., p_vacc, p_vacc - p_vacc * p_boost, p_vacc - p_vacc * p_boost + p_vacc * p_boost * p_waned], \n",
    "                        \"boosted\":[0., .0, p_vacc * p_boost, p_vacc * p_boost - p_vacc * p_boost * p_waned]\n",
    "                    },\n",
    "                    index = [0, 100 , 150, 200]\n",
    "                )\n",
    "                sc_functions = calculate_transition_rates_from_dynamic_props(test_props_df, active_flows)\n",
    "                                \n",
    "                # FIXME: Most of the code below should not be repeated within the loop\n",
    "                # Define a basic compartmental model\n",
    "                model = CompartmentalModel(\n",
    "                    times=[0, 200],\n",
    "                    compartments=[\"unvaccinated\", \"vaccinated\", \"boosted\"],\n",
    "                    infectious_compartments=[\"unvaccinated\"],\n",
    "                    timestep=0.1,\n",
    "                )\n",
    "                model.set_initial_population(distribution={\"unvaccinated\": 1})                \n",
    "                model.add_transition_flow(name=\"unvaccinated_to_vaccinated\", fractional_rate=sc_functions[\"unvaccinated_to_vaccinated\"], source=\"unvaccinated\", dest=\"vaccinated\")\n",
    "                model.add_transition_flow(name=\"vaccinated_to_boosted\", fractional_rate=sc_functions[\"vaccinated_to_boosted\"], source=\"vaccinated\", dest=\"boosted\")\n",
    "                model.add_transition_flow(name=\"boosted_to_vaccinated\", fractional_rate=sc_functions[\"boosted_to_vaccinated\"], source=\"boosted\", dest=\"vaccinated\")\n",
    "\n",
    "                # Run the model\n",
    "                model.run()\n",
    "                output_df = model.get_outputs_df()\n",
    "                \n",
    "                # Check the outputs against the user requests\n",
    "                for time in test_props_df.index.to_list():\n",
    "                    for compartment in test_props_df.columns.to_list():\n",
    "                        requested_prop = test_props_df.loc[time][compartment]                \n",
    "                        modelled_prop = output_df.loc[time][compartment]\n",
    "                        \n",
    "                        assert abs(modelled_prop - requested_prop) <= error\n"
   ]
  },
  {
   "cell_type": "code",
   "execution_count": null,
   "id": "9c309399",
   "metadata": {},
   "outputs": [],
   "source": []
  }
 ],
 "metadata": {
  "kernelspec": {
   "display_name": "Python 3 (ipykernel)",
   "language": "python",
   "name": "python3"
  },
  "language_info": {
   "codemirror_mode": {
    "name": "ipython",
    "version": 3
   },
   "file_extension": ".py",
   "mimetype": "text/x-python",
   "name": "python",
   "nbconvert_exporter": "python",
   "pygments_lexer": "ipython3",
   "version": "3.7.11"
  }
 },
 "nbformat": 4,
 "nbformat_minor": 5
}
