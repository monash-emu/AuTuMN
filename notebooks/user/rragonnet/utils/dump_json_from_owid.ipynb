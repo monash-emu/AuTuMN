{
 "cells": [
  {
   "cell_type": "code",
   "execution_count": 15,
   "metadata": {},
   "outputs": [],
   "source": [
    "import os\n",
    "import json\n",
    "import pandas as pd\n",
    "\n",
    "from autumn.settings.folders import PROJECTS_PATH\n",
    "from autumn.core.inputs.database import get_input_db\n",
    "from autumn.settings.constants import COVID_BASE_DATETIME\n"
   ]
  },
  {
   "cell_type": "code",
   "execution_count": 16,
   "metadata": {},
   "outputs": [],
   "source": [
    "extra_uncertainty_outputs = {\n",
    "    \"cumulative_incidence\": \"Cumulative number of infections\",\n",
    "    \"transformed_random_process\": \"Transformed random process\",\n",
    "    \"prop_ever_infected\": \"Proportion ever infected\"\n",
    "}"
   ]
  },
  {
   "cell_type": "code",
   "execution_count": 17,
   "metadata": {},
   "outputs": [],
   "source": [
    "input_db = get_input_db()\n",
    "\n",
    "iso3s = [\"PHL\"]\n",
    "timeseries = {}\n",
    "for iso3 in iso3s:\n",
    "    # new deaths\n",
    "    data = input_db.query(\n",
    "        table_name='owid', \n",
    "        conditions= {\"iso_code\": iso3},\n",
    "        columns=[\"date\", \"new_deaths\"]\n",
    "    )\n",
    "\n",
    "\n",
    "    data[\"smoothed_new_deaths\"] = data[\"new_deaths\"].rolling(14).mean()\n",
    "    data.dropna(inplace=True)\n",
    "\n",
    "    timeseries[\"infection_deaths\"] = {\n",
    "        \"output_key\": \"infection_deaths\",\n",
    "        \"title\": \"Daily number of deaths\",\n",
    "        \"times\": (pd.to_datetime(data[\"date\"])- COVID_BASE_DATETIME).dt.days.to_list(),\n",
    "        \"values\": data[\"smoothed_new_deaths\"].to_list(),\n",
    "        \"quantiles\": [.025, .25, .5, .75, .975]\n",
    "    }\n",
    "\n",
    "    # cumulated deaths\n",
    "    data = input_db.query(\n",
    "        table_name='owid', \n",
    "        conditions= {\"iso_code\": iso3},\n",
    "        columns=[\"date\", \"total_deaths\"]\n",
    "    )\n",
    "    data.dropna(inplace=True)\n",
    "\n",
    "    timeseries[\"cumulative_infection_deaths\"] = {\n",
    "        \"output_key\": \"cumulative_infection_deaths\",\n",
    "        \"title\": \"Cumulative number of deaths\",\n",
    "        \"times\": (pd.to_datetime(data[\"date\"])- COVID_BASE_DATETIME).dt.days.to_list(),\n",
    "        \"values\": data[\"total_deaths\"].to_list(),\n",
    "        \"quantiles\": [.025, .25, .5, .75, .975]\n",
    "    }\n",
    "\n",
    "\n",
    "    for output_key, title in extra_uncertainty_outputs.items():\n",
    "        timeseries[output_key] = {\n",
    "            \"output_key\": output_key,\n",
    "            \"title\": title,\n",
    "            \"times\": [],\n",
    "            \"values\": [],\n",
    "            \"quantiles\": [.025, .25, .5, .75, .975]\n",
    "        }\n",
    "\n",
    "    targets_path = os.path.join(PROJECTS_PATH, \"sm_covid\", \"philippines\", \"timeseries.json\")\n",
    " \n",
    "    # Writing to json\n",
    "    with open(targets_path, \"w\") as outfile:\n",
    "        json.dump(timeseries, outfile, indent=2)\n"
   ]
  }
 ],
 "metadata": {
  "interpreter": {
   "hash": "7afc08b952f75bca94590012dd49682c815a0fa68720c270ce23d7ae27bf110a"
  },
  "kernelspec": {
   "display_name": "Python 3.10.3 ('autumn310')",
   "language": "python",
   "name": "python3"
  },
  "language_info": {
   "codemirror_mode": {
    "name": "ipython",
    "version": 3
   },
   "file_extension": ".py",
   "mimetype": "text/x-python",
   "name": "python",
   "nbconvert_exporter": "python",
   "pygments_lexer": "ipython3",
   "version": "3.10.3"
  },
  "orig_nbformat": 4
 },
 "nbformat": 4,
 "nbformat_minor": 2
}
