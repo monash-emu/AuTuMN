{
 "cells": [
  {
   "cell_type": "code",
   "execution_count": 1,
   "metadata": {},
   "outputs": [],
   "source": [
    "import os\n",
    "import json\n",
    "import pandas as pd\n",
    "\n",
    "from autumn.settings.folders import PROJECTS_PATH\n",
    "from autumn.core.inputs.database import get_input_db\n",
    "from autumn.settings.constants import COVID_BASE_DATETIME\n"
   ]
  },
  {
   "cell_type": "code",
   "execution_count": 2,
   "metadata": {},
   "outputs": [],
   "source": [
    "input_db = get_input_db()\n",
    "\n",
    "iso3s = [\"PHL\"]\n",
    "timeseries = {}\n",
    "for iso3 in iso3s:\n",
    "    data = input_db.query(\n",
    "        table_name='owid', \n",
    "        conditions= {\"iso_code\": iso3},\n",
    "        columns=[\"date\", \"new_deaths\"]\n",
    "    )\n",
    "\n",
    "    data[\"smoothed_new_deaths\"] = data[\"new_deaths\"].rolling(14).mean()\n",
    "    data.dropna(inplace=True)\n",
    "\n",
    "    timeseries[\"infection_deaths\"] = {\n",
    "        \"output_key\": \"infection_deaths\",\n",
    "        \"times\": (pd.to_datetime(data[\"date\"])- COVID_BASE_DATETIME).dt.days.to_list(),\n",
    "        \"values\": data[\"smoothed_new_deaths\"].to_list(),\n",
    "        \"quantiles\": [.025, .25, .5, .75, .975]\n",
    "    }\n",
    "\n",
    "    targets_path = os.path.join(PROJECTS_PATH, \"sm_covid\", \"philippines\", \"timeseries.json\")\n",
    " \n",
    "    # Writing to sample.json\n",
    "    with open(targets_path, \"w\") as outfile:\n",
    "        json.dump(timeseries, outfile, indent=2)\n"
   ]
  }
 ],
 "metadata": {
  "interpreter": {
   "hash": "7afc08b952f75bca94590012dd49682c815a0fa68720c270ce23d7ae27bf110a"
  },
  "kernelspec": {
   "display_name": "Python 3.10.3 ('autumn310')",
   "language": "python",
   "name": "python3"
  },
  "language_info": {
   "codemirror_mode": {
    "name": "ipython",
    "version": 3
   },
   "file_extension": ".py",
   "mimetype": "text/x-python",
   "name": "python",
   "nbconvert_exporter": "python",
   "pygments_lexer": "ipython3",
   "version": "3.10.3"
  },
  "orig_nbformat": 4
 },
 "nbformat": 4,
 "nbformat_minor": 2
}
