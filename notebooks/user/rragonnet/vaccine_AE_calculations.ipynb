{
 "cells": [
  {
   "cell_type": "code",
   "execution_count": null,
   "metadata": {},
   "outputs": [],
   "source": [
    "from autumn.tools.project import get_project, ParameterSet\n",
    "from matplotlib import pyplot as plt\n",
    "from autumn.tools.plots.utils import REF_DATE\n",
    "import pandas as pd"
   ]
  },
  {
   "cell_type": "code",
   "execution_count": null,
   "metadata": {},
   "outputs": [],
   "source": [
    "project = get_project(\"covid_19\", \"manila\")"
   ]
  },
  {
   "cell_type": "code",
   "execution_count": null,
   "metadata": {},
   "outputs": [],
   "source": [
    "# run baseline model\n",
    "model_0 = project.run_baseline_model(project.param_set.baseline)\n",
    "derived_df = model_0.get_derived_outputs_df()"
   ]
  },
  {
   "cell_type": "code",
   "execution_count": null,
   "metadata": {},
   "outputs": [],
   "source": [
    "# run scenarios\n",
    "start_times = [\n",
    "    sc_params.to_dict()[\"time\"][\"start\"] for sc_params in project.param_set.scenarios\n",
    "]\n",
    "sc_models = project.run_scenario_models(model_0, project.param_set.scenarios, start_times=start_times)"
   ]
  },
  {
   "cell_type": "code",
   "execution_count": null,
   "metadata": {},
   "outputs": [],
   "source": [
    "derived_dfs = [m.get_derived_outputs_df() for m in sc_models]"
   ]
  },
  {
   "cell_type": "code",
   "execution_count": null,
   "metadata": {},
   "outputs": [],
   "source": [
    "outputs = [\"new_hospital_admissions\", \"proportion_vaccinated\"]"
   ]
  },
  {
   "cell_type": "code",
   "execution_count": null,
   "metadata": {},
   "outputs": [],
   "source": [
    "sc_colors = [\"blue\", \"green\"]\n",
    "\n",
    "for output in outputs:\n",
    "    fig = plt.figure(figsize=(12, 8))\n",
    "    plt.style.use(\"ggplot\")\n",
    "    axis = fig.add_subplot()\n",
    "    # axis = derived_df[output].plot()\n",
    "    \n",
    "    for i, d in enumerate(derived_dfs):\n",
    "       \n",
    "        if output in d.columns:\n",
    "            d[output].plot(color=sc_colors[i])\n",
    "    \n",
    "    axis.vlines(x=pd.Timestamp(\"2021-11-01\"), ymin=0, ymax=max(d[output]), color=\"black\", linestyle=\"dashed\")\n",
    "    axis.set_xlim((pd.Timestamp(\"2021-09-01\"), pd.Timestamp(\"2022-06-01\")))\n",
    "    axis.set_ylabel(output.replace(\"_\", \" \"), fontsize=15)"
   ]
  },
  {
   "cell_type": "markdown",
   "metadata": {},
   "source": [
    "# Cumulative TTS calculations"
   ]
  },
  {
   "cell_type": "code",
   "execution_count": null,
   "metadata": {},
   "outputs": [],
   "source": [
    "diff_output = {}\n",
    "for output in [\"incidence\", \"new_hospital_admissions\", \"new_icu_admissions\",  \"infection_deaths\"]:\n",
    "    cum_output = [sum(d[output]) for d in derived_dfs]\n",
    "    diff_output[output] = cum_output[0] - cum_output[1]\n",
    "    \n",
    "agegroups = [f\"agegroup_{int(5*i)}\" for i in range(16)]\n",
    "diff_output[\"tts_cases\"] = sum([sum(derived_dfs[1][f\"tts_casesX{agegroup}\"]) for agegroup in agegroups])\n",
    "diff_output[\"tts_deaths\"] = sum([sum(derived_dfs[1][f\"tts_deathsX{agegroup}\"]) for agegroup in agegroups])"
   ]
  },
  {
   "cell_type": "code",
   "execution_count": null,
   "metadata": {},
   "outputs": [],
   "source": [
    "[ print(f\"{name}: {round(value)}\") for name, value in diff_output.items()]\n"
   ]
  },
  {
   "cell_type": "code",
   "execution_count": null,
   "metadata": {},
   "outputs": [],
   "source": [
    "fig = plt.figure(figsize=(12, 8))\n",
    "plt.style.use(\"ggplot\")\n",
    "axis = fig.add_subplot()\n",
    "\n",
    "xticks_vals, xticks_labs = [], []\n",
    "for i, output in enumerate(list(diff_output.keys())):\n",
    "    val = diff_output[output]\n",
    "    col = \"coral\"\n",
    "    pref = \"\"\n",
    "    if output.startswith(\"tts\"):\n",
    "        col = \"blueviolet\"\n",
    "    else:\n",
    "        pref = \"adverted \"\n",
    "        \n",
    "    axis.hlines(y=-i, xmin=0, xmax=val, linewidth=20, color=col)\n",
    "    axis.text(x=1.2 * val, y=-i, s=round(val))\n",
    "    \n",
    "    \n",
    "    xticks_vals.append(-i)\n",
    "    xticks_labs.append(pref + output.replace(\"_\", \" \"))\n",
    "\n",
    "axis.set_xscale('log')\n",
    "axis.set_xlabel(\"log(N)\")\n",
    "plt.yticks(xticks_vals,xticks_labs, fontsize=13)\n",
    "plt.show()"
   ]
  },
  {
   "cell_type": "code",
   "execution_count": null,
   "metadata": {},
   "outputs": [],
   "source": []
  }
 ],
 "metadata": {
  "kernelspec": {
   "display_name": "Python 3",
   "language": "python",
   "name": "python3"
  },
  "language_info": {
   "codemirror_mode": {
    "name": "ipython",
    "version": 3
   },
   "file_extension": ".py",
   "mimetype": "text/x-python",
   "name": "python",
   "nbconvert_exporter": "python",
   "pygments_lexer": "ipython3",
   "version": "3.6.8"
  }
 },
 "nbformat": 4,
 "nbformat_minor": 2
}
