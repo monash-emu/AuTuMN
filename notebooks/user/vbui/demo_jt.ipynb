{
 "cells": [
  {
   "cell_type": "code",
   "execution_count": null,
   "metadata": {},
   "outputs": [],
   "source": [
    "import warnings\n",
    "import pandas as pd\n",
    "pd.options.plotting.backend = 'plotly'\n",
    "warnings.filterwarnings('ignore')"
   ]
  },
  {
   "cell_type": "code",
   "execution_count": null,
   "metadata": {},
   "outputs": [],
   "source": [
    "years = [1952.5, 1957.5, 1962.5, 1967.5, 1972.5, 1977.5, 1982.5, 1987.5, 1992.5, 1997.5, 2002.5, 2007.5, 2012.5, 2017.5]\n",
    "death_rate_data = {\n",
    "    0: [0.04891194320512563, 0.033918668027576884, 0.024432727316924446, 0.019408181689238014, 0.018148370056426787, 0.014535299525724738, 0.013035498777442808, 0.011254176500418787, 0.00931061542295055, 0.006118489529305104, 0.005678373734277731, 0.005333479069860507, 0.004783694403203202, 0.0043347634430972014],\n",
    "    5: [0.005654833192668025, 0.005297274566250849, 0.0044664893264966974, 0.003846307644222109, 0.005107979016750706, 0.002711430406000275, 0.002147435231479338, 0.0016691038222857585, 0.0013164357375949395, 0.0010181764308804923, 0.0007447183497013854, 0.0005658632755602, 0.0005441317519979431, 0.0005100562239187423],\n",
    "    15: [0.0030517485729701097, 0.002700755057428503, 0.002489838533286184, 0.002584612327589561, 0.004088806859043201, 0.0023927769572424534, 0.002209771395787853, 0.001885328047816437, 0.0016581044683420282, 0.0015277277213098862, 0.001427063312059633, 0.0012953587483924324, 0.0012356506891999784, 0.0011729827102219131],\n",
    "    35: [0.009386682178966717, 0.007892734017957679, 0.006517135357865979, 0.006260889686458326, 0.008689175571776193, 0.00479116361370093, 0.004179181883878279, 0.004093556688069908, 0.004031166261049662, 0.003907751109471642, 0.0034886248607591164, 0.003155553373359392, 0.003040343537587886, 0.002980208830203494],\n",
    "    50: [0.1417162315914261, 0.14004771975249025, 0.14050114600763583, 0.13991314779584452, 0.1446541208480976, 0.12199942887738785, 0.11497764682078969, 0.10618998428462792, 0.09778759372213668, 0.09191279368157758, 0.08603053502488202, 0.08429645911423628, 0.08132411751977145, 0.08108759595140565]\n",
    "}\n",
    "raw_death_rates = pd.DataFrame(death_rate_data, index=years).transpose()"
   ]
  },
  {
   "cell_type": "code",
   "execution_count": null,
   "metadata": {},
   "outputs": [],
   "source": [
    "def adapt_death_rates_for_lifetable(\n",
    "    upper_age: int, \n",
    "    rates: pd.Series,\n",
    ") -> pd.Series:\n",
    "    \"\"\"Get the death rates applicable to each year of age.\n",
    "    \n",
    "    Args:\n",
    "        upper_age: The top year of age to consider\n",
    "        rates: The raw data for the death rates\n",
    "    \n",
    "    Returns:\n",
    "        The death rates by year of age\n",
    "        \n",
    "    \"\"\"\n",
    "    ages = range(upper_age)\n",
    "    revised_rates = pd.Series(index=ages)\n",
    "    for a in ages:\n",
    "        idx = next((i for i, age in enumerate(rates.index) if age > a), 0)  # The zero is a trick to get the last element when one is subtracted\n",
    "        revised_rates.loc[a] = rates.iloc[idx - 1]\n",
    "    return revised_rates\n",
    "\n",
    "\n",
    "def get_lifetable_from_rates(\n",
    "    rates: pd.Series,\n",
    ") -> pd.Series:\n",
    "    \"\"\"Calculate cohort sizes - note this only works for increments of one year\n",
    "    (intended to be used with adapt_death_rates_for_lifetable above).\n",
    "    \n",
    "    Args:\n",
    "        rates: Annual death rates from adapt_death_rates_for_lifetable\n",
    "    \n",
    "    Returns:\n",
    "        The life table\n",
    "        \n",
    "    \"\"\"\n",
    "    lifetable = pd.Series(index=rates.index)\n",
    "    cohort_size = 100000\n",
    "    for a in rates.index:\n",
    "        lifetable[a] = cohort_size\n",
    "        cohort_size -= cohort_size * age_rates.loc[a]\n",
    "    return lifetable"
   ]
  },
  {
   "cell_type": "code",
   "execution_count": null,
   "metadata": {},
   "outputs": [],
   "source": [
    "all_rates = pd.DataFrame(columns=years)\n",
    "lifetables = pd.DataFrame(columns=years)\n",
    "for year in years:\n",
    "    all_rates[year] = adapt_death_rates_for_lifetable(100, raw_death_rates[year])\n",
    "    lifetables[year] = get_lifetable_from_rates(all_rates[year])"
   ]
  },
  {
   "cell_type": "code",
   "execution_count": null,
   "metadata": {},
   "outputs": [],
   "source": [
    "lifetable.plot(labels={'value': 'survivng', 'index': 'age'}, height=500, title='life table').update_layout(showlegend=False)"
   ]
  }
 ],
 "metadata": {
  "kernelspec": {
   "display_name": "Python 3 (ipykernel)",
   "language": "python",
   "name": "python3"
  },
  "language_info": {
   "codemirror_mode": {
    "name": "ipython",
    "version": 3
   },
   "file_extension": ".py",
   "mimetype": "text/x-python",
   "name": "python",
   "nbconvert_exporter": "python",
   "pygments_lexer": "ipython3",
   "version": "3.10.12"
  }
 },
 "nbformat": 4,
 "nbformat_minor": 4
}
