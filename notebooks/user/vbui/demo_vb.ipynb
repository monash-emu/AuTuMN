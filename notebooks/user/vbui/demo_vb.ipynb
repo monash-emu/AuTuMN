{
 "cells": [
  {
   "cell_type": "code",
   "execution_count": null,
   "metadata": {},
   "outputs": [],
   "source": [
    "import warnings\n",
    "import pandas as pd\n",
    "pd.options.plotting.backend = 'plotly'\n",
    "warnings.filterwarnings('ignore')"
   ]
  },
  {
   "cell_type": "code",
   "execution_count": null,
   "metadata": {},
   "outputs": [],
   "source": [
    "# Values in 1952, queried from the autumn database, hard-coded\n",
    "death_rates = pd.Series(\n",
    "    [0.048912, 0.005655, 0.003052, 0.009387, 0.0141716], \n",
    "    index=[0, 5, 15, 35, 50]\n",
    ")"
   ]
  },
  {
   "cell_type": "code",
   "execution_count": null,
   "metadata": {},
   "outputs": [],
   "source": [
    "upper_age = 100\n",
    "ages = range(upper_age)"
   ]
  },
  {
   "cell_type": "code",
   "execution_count": null,
   "metadata": {},
   "outputs": [],
   "source": [
    "# Get the death rates applicable to each age\n",
    "life_table = pd.DataFrame(index=ages, columns=['death_rate'])\n",
    "for a in ages:\n",
    "    idx = next((i for i, age in enumerate(death_rates.index) if age > a), 0)  # The zero is a trick to get the last element when one is subtracted\n",
    "    life_table.loc[a, 'death_rate'] = death_rates.iloc[idx - 1]"
   ]
  },
  {
   "cell_type": "code",
   "execution_count": null,
   "metadata": {},
   "outputs": [],
   "source": [
    "df = life_table.reset_index()\n",
    "df = df.rename(columns={'index': 'age', 'death_rate': 'qx'}) \n",
    "# qx: is the probability that a person aged exactly x dies before exact age (x+1), i.e., the probability of dying in the next year. Hence: qx= dx / lx\n",
    "# lx: is the number of persons alive aged x in a life table.\n",
    "df['lx'] = 100000\n",
    "# dx: is the number of persons who die aged x last birthday.\n",
    "for i in range(1, len(df)):\n",
    "    df.loc[i, 'lx'] = df.loc[i - 1, 'lx'] - (df.loc[i - 1, 'qx'] * df.loc[i - 1, 'lx'])\n",
    "    df[\"dx\"] = 0\n",
    "for x in range(100):\n",
    "    if x >=99:\n",
    "        df[\"dx\"][x] = df[\"lx\"][x]\n",
    "    else:\n",
    "        df[\"dx\"][x] = df[\"lx\"][x]-df[\"lx\"][x+1]\n",
    "#μx: is the force of mortality, i.e., represents the instantaneous rate at which people are dying.\n",
    "df[\"μx\"] = 0\n",
    "df[\"μx\"][0] = 2.0692602739726 * df[\"dx\"][0] /(2*df[\"lx\"][0])\n",
    "for x in range(1,100):\n",
    "    df[\"μx\"][x] = (df[\"dx\"][x-1]+df[\"dx\"][x])/(2*df[\"lx\"][x])\n",
    "\n",
    "#Tx: is the total years of life to be lived by those aged exactly x (not the random variable Tx) until they all die\n",
    "df[\"Tx\"] = 0.000\n",
    "for x in range(100):\n",
    "    df[\"Tx\"][x] = 0\n",
    "    for y in range(x,100):\n",
    "        df[\"Tx\"][x] += df[\"lx\"][y]\n",
    "# e0x: is the complete expectation of life, i.e., the expectation of life allowing for the whole of the lifetime of the individual (years and days).\n",
    "df[\"e0x\"] = df[\"Tx\"]/df[\"lx\"] - 0.5\n",
    "# total life expectancy, Lx: is the number of years of life lived between ages x and (x+1) of those currently aged x.\n",
    "df[\"Lx\"] = 0.000\n",
    "for x in range(100):\n",
    "    df[\"Lx\"][x] = df[\"Tx\"][x]-df[\"lx\"][x]\n",
    "# ex: is the curtate expectation of life, i.e., the expectation of life where only complete years of life count.\n",
    "df[\"ex\"] = df[\"Lx\"]/df[\"lx\"]\n",
    "df"
   ]
  },
  {
   "cell_type": "code",
   "execution_count": null,
   "metadata": {},
   "outputs": [],
   "source": []
  }
 ],
 "metadata": {
  "kernelspec": {
   "display_name": "Python 3 (ipykernel)",
   "language": "python",
   "name": "python3"
  },
  "language_info": {
   "codemirror_mode": {
    "name": "ipython",
    "version": 3
   },
   "file_extension": ".py",
   "mimetype": "text/x-python",
   "name": "python",
   "nbconvert_exporter": "python",
   "pygments_lexer": "ipython3",
   "version": "3.10.0"
  }
 },
 "nbformat": 4,
 "nbformat_minor": 4
}
