{
 "cells": [
  {
   "cell_type": "code",
   "execution_count": null,
   "metadata": {},
   "outputs": [],
   "source": [
    "import pandas as pd\n",
    "import plotly.express as px\n",
    "import plotly.graph_objects as go\n",
    "from plotly.subplots import make_subplots\n",
    "from summer2 import CompartmentalModel\n",
    "from summer2.parameters import Parameter, DerivedOutput\n",
    "from summer2 import Stratification, Multiply\n",
    "\n",
    "import itertools\n",
    "\n",
    "pd.options.plotting.backend = \"plotly\"\n"
   ]
  },
  {
   "cell_type": "code",
   "execution_count": null,
   "metadata": {},
   "outputs": [],
   "source": [
    "class Compartment:\n",
    "    \"\"\"\n",
    "    A tuberculosis model compartment.\n",
    "    \"\"\"\n",
    "    SUSCEPTIBLE = \"susceptible\"\n",
    "    EARLY_LATENT = \"early_latent\"\n",
    "    LATE_LATENT = \"late_latent\"\n",
    "    INFECTIOUS = \"infectious\"\n",
    "    ON_TREATMENT = \"on_treatment\"\n",
    "    RECOVERED = \"recovered\"\n",
    "\n",
    "\n",
    "\n",
    "#REPLICABLE_COMPARTMENTS = [Compartment.LATENT, Compartment.INFECTIOUS]\n",
    "\n",
    "BASE_COMPARTMENTS = [\n",
    "    Compartment.SUSCEPTIBLE,\n",
    "    Compartment.EARLY_LATENT,\n",
    "    Compartment.LATE_LATENT,\n",
    "    Compartment.INFECTIOUS,\n",
    "    Compartment.ON_TREATMENT,\n",
    "    Compartment.RECOVERED,\n",
    "]\n",
    "INFECTIOUS_COMPS = [\n",
    "    Compartment.INFECTIOUS,\n",
    "    Compartment.ON_TREATMENT,\n",
    "]\n",
    "\n",
    "LATENT_COMPS = [\n",
    "    Compartment.EARLY_LATENT,\n",
    "    Compartment.LATE_LATENT,\n",
    "]"
   ]
  },
  {
   "cell_type": "code",
   "execution_count": null,
   "metadata": {},
   "outputs": [],
   "source": [
    "model = CompartmentalModel(\n",
    "    times=(1800, 2020),\n",
    "    compartments=BASE_COMPARTMENTS,\n",
    "    infectious_compartments=INFECTIOUS_COMPS,\n",
    "    timestep=0.1,\n",
    ")"
   ]
  },
  {
   "cell_type": "code",
   "execution_count": null,
   "metadata": {},
   "outputs": [],
   "source": [
    "model.set_initial_population(\n",
    "    distribution=\n",
    "    {\n",
    "        Compartment.INFECTIOUS: 9900.0, \n",
    "        Compartment.SUSCEPTIBLE: 100.0,\n",
    "    },\n",
    ")\n",
    "age_groups= [0, 5, 15, 35, 50]\n"
   ]
  },
  {
   "cell_type": "code",
   "execution_count": null,
   "metadata": {},
   "outputs": [],
   "source": [
    "model.add_infection_frequency_flow(\n",
    "    name=\"infection\",\n",
    "    contact_rate=1,\n",
    "    source=Compartment.SUSCEPTIBLE,\n",
    "    dest=Compartment.EARLY_LATENT,\n",
    ")\n",
    "\n",
    "model.add_infection_frequency_flow(\n",
    "    \"infection_from_latent\",\n",
    "    0.3,\n",
    "    Compartment.LATE_LATENT,\n",
    "    Compartment.EARLY_LATENT,\n",
    ")\n",
    "model.add_infection_frequency_flow(\n",
    "    \"infection_from_recovered\",\n",
    "    0.5,\n",
    "    Compartment.RECOVERED,\n",
    "    Compartment.EARLY_LATENT,\n",
    ")\n",
    "model.add_transition_flow(\n",
    "    \"self_recovery\",\n",
    "    0.21,\n",
    "    Compartment.INFECTIOUS,\n",
    "    Compartment.RECOVERED,\n",
    ")\n",
    "model.add_death_flow(\n",
    "    name=\"infection_death\",\n",
    "    death_rate=0.01,\n",
    "    source=Compartment.INFECTIOUS\n",
    ")"
   ]
  },
  {
   "cell_type": "code",
   "execution_count": null,
   "metadata": {},
   "outputs": [],
   "source": [
    "early_activation_dict = {\n",
    "    0: 2.4107,\n",
    "    5: 0.9862,\n",
    "    15: 0.0986,\n",
    "}\n",
    "late_activation_dict = {\n",
    "    0: 6.939769e-9,\n",
    "    5: 0.0023,\n",
    "    15: 0.0012 ,\n",
    "}\n",
    "stabilisation_dict = {\n",
    "    0: 4.383,\n",
    "    5: 4.383,\n",
    "    15: 1.972,\n",
    "}"
   ]
  },
  {
   "cell_type": "code",
   "execution_count": null,
   "metadata": {},
   "outputs": [],
   "source": [
    "#Mapping param values\n",
    "def map_params(input_dict, targets):\n",
    "    results = {}\n",
    "    for t in targets:\n",
    "        keys = [k for k in input_dict.keys() if k <= t]\n",
    "        results[t] = input_dict[max(keys)] if keys else None\n",
    "    results = {str(k): v for k,v in results.items()}\n",
    "    return results\n"
   ]
  },
  {
   "cell_type": "code",
   "execution_count": null,
   "metadata": {},
   "outputs": [],
   "source": [
    "stabilisation_rate = 1\n",
    "early_activation_rate = 1\n",
    "late_activation_rate = 1\n",
    "model.add_transition_flow(\n",
    "    \"stabilisation\",\n",
    "    stabilisation_rate,\n",
    "    Compartment.EARLY_LATENT,\n",
    "    Compartment.LATE_LATENT,\n",
    ")\n",
    "model.add_transition_flow(\n",
    "    \"early_activation\",\n",
    "    early_activation_rate,\n",
    "    Compartment.EARLY_LATENT,\n",
    "    Compartment.INFECTIOUS,\n",
    ")\n",
    "model.add_transition_flow(\n",
    "    \"late_activation\",\n",
    "    late_activation_rate,\n",
    "    Compartment.LATE_LATENT,\n",
    "    Compartment.INFECTIOUS,\n",
    "    )\n",
    "    # Add post-diseases flows\n",
    "model.add_transition_flow(\n",
    "    \"self_recovery\",\n",
    "    0.21,\n",
    "    Compartment.INFECTIOUS,\n",
    "    Compartment.RECOVERED,\n",
    ")"
   ]
  },
  {
   "cell_type": "code",
   "execution_count": null,
   "metadata": {},
   "outputs": [],
   "source": [
    "def get_age_stratification() -> Stratification:\n",
    "    # Create the stratification\n",
    "    strat = Stratification(name=\"age\", strata=age_groups, compartments=BASE_COMPARTMENTS)\n",
    "    return strat\n",
    "age_strat = get_age_stratification()\n",
    "age_strat.set_flow_adjustments(\n",
    "    \"stabilisation\", map_params(stabilisation_dict, age_groups)\n",
    ")\n",
    "age_strat.set_flow_adjustments(\n",
    "    \"early_activation\", map_params(early_activation_dict, age_groups)\n",
    ")\n",
    "age_strat.set_flow_adjustments(\n",
    "    \"late_activation\", map_params(late_activation_dict, age_groups)\n",
    ")\n"
   ]
  },
  {
   "cell_type": "code",
   "execution_count": null,
   "metadata": {},
   "outputs": [],
   "source": [
    "model.stratify_with(age_strat)"
   ]
  },
  {
   "cell_type": "code",
   "execution_count": null,
   "metadata": {},
   "outputs": [],
   "source": [
    "model.request_output_for_flow(\"Early LTBI to infectious\", \"early_activation\")\n",
    "model.run()\n",
    "outputs_df = model.get_outputs_df()\n",
    "outputs_df.plot()"
   ]
  }
 ],
 "metadata": {
  "kernelspec": {
   "display_name": "autumn",
   "language": "python",
   "name": "python3"
  },
  "language_info": {
   "codemirror_mode": {
    "name": "ipython",
    "version": 3
   },
   "file_extension": ".py",
   "mimetype": "text/x-python",
   "name": "python",
   "nbconvert_exporter": "python",
   "pygments_lexer": "ipython3",
   "version": "3.10.4"
  },
  "orig_nbformat": 4,
  "vscode": {
   "interpreter": {
    "hash": "32546788be758822ecff2a88079b35480b7d02e1a3a7c2c2e0e8f52550974ab3"
   }
  }
 },
 "nbformat": 4,
 "nbformat_minor": 2
}
