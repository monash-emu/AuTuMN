{
 "cells": [
  {
   "cell_type": "code",
   "execution_count": 1,
   "id": "9e2126c2-7b7a-4ce5-979f-cf0427e3cd26",
   "metadata": {},
   "outputs": [],
   "source": [
    "from autumn.core.project import get_project\n",
    "from autumn.settings import Region, Models"
   ]
  },
  {
   "cell_type": "code",
   "execution_count": 2,
   "id": "397e04c8-45ee-46f1-8aa9-b8440481c045",
   "metadata": {},
   "outputs": [],
   "source": [
    "region = Region.CAMAU\n",
    "model = Models.TBD2\n",
    "p = get_project(model, region, reload=True)\n",
    "baseline_params = p.param_set.baseline"
   ]
  },
  {
   "cell_type": "code",
   "execution_count": 3,
   "id": "800f64ff-bfe5-4b94-8e23-6eefbedc0e9e",
   "metadata": {},
   "outputs": [
    {
     "name": "stdout",
     "output_type": "stream",
     "text": [
      "9.018599388614656e-06\n",
      "0.06931017816607285\n",
      "0.9653426410750605\n",
      "0.9999999998625898\n",
      "1.0\n",
      "7.214879510891726e-07\n",
      "0.005544814253285828\n",
      "0.07722741128600484\n",
      "0.07999999998900718\n",
      "0.08\n"
     ]
    }
   ],
   "source": [
    "update_params = {\n",
    "    'cdr_adjustment': 0.9989336153456185,\n",
    "    'contact_rate': 0.002499838468496036,\n",
    "    'infect_death_rate_dict.smear_negative': 0.02754383816456201,\n",
    "    'infect_death_rate_dict.smear_positive': 0.3926589361017188,\n",
    "    'progression_multiplier': 1.1294148455406332,\n",
    "    'rr_infection_latent': 0.208636783534153,\n",
    "    'rr_infection_recovered': 0.49810794455100427,\n",
    "    'self_recovery_rate_dict.smear_positive': 0.12866522713915401,\n",
    "    'self_recovery_rate_dict.smear_negative': 0.22346767430010847,\n",
    "    'start_population_size': 224157.46301270014,\n",
    "    'time.end': 1902,\n",
    "}\n",
    "params = baseline_params.update(update_params, calibration_format=True)\n",
    "model = p.build_model(params.to_dict())"
   ]
  },
  {
   "cell_type": "code",
   "execution_count": 4,
   "id": "8c9c30c4-c8a3-446e-8338-05b8cb8bf270",
   "metadata": {},
   "outputs": [],
   "source": [
    "# model.run(params.to_dict())\n",
    "# derived_df = model.get_derived_outputs_df()\n",
    "# derived_df[\"notifications\"].plot()"
   ]
  }
 ],
 "metadata": {
  "kernelspec": {
   "display_name": "Python 3 (ipykernel)",
   "language": "python",
   "name": "python3"
  },
  "language_info": {
   "codemirror_mode": {
    "name": "ipython",
    "version": 3
   },
   "file_extension": ".py",
   "mimetype": "text/x-python",
   "name": "python",
   "nbconvert_exporter": "python",
   "pygments_lexer": "ipython3",
   "version": "3.10.4"
  }
 },
 "nbformat": 4,
 "nbformat_minor": 5
}
