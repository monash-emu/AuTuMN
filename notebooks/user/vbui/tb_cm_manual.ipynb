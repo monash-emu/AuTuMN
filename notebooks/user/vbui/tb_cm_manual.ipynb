{
 "cells": [
  {
   "cell_type": "code",
   "execution_count": 1,
   "metadata": {},
   "outputs": [],
   "source": [
    "import warnings\n",
    "from typing import List\n",
    "\n",
    "import pandas as pd\n",
    "import plotly.graph_objects as go\n",
    "import plotly.express as px\n",
    "from plotly.subplots import make_subplots\n",
    "from autumn.core.inputs.database import get_input_db\n",
    "from autumn.core.project import get_project, build_rel_path\n",
    "from autumn.settings import Region, Models\n",
    "from autumn.core import inputs\n",
    "from autumn.core.inputs.social_mixing.build_synthetic_matrices import build_synthetic_matrices\n",
    "from autumn.core.utils.display import pretty_print\n",
    "from autumn.core.inputs.tb_camau import queries\n",
    "import pathlib"
   ]
  },
  {
   "cell_type": "code",
   "execution_count": 2,
   "metadata": {},
   "outputs": [],
   "source": [
    "warnings.filterwarnings(\"ignore\")\n",
    "pd.options.plotting.backend = \"plotly\""
   ]
  },
  {
   "cell_type": "code",
   "execution_count": 3,
   "metadata": {},
   "outputs": [],
   "source": [
    "region = Region.CAMAU\n",
    "model = Models.TBD2\n",
    "p = get_project(model, region, reload=True)\n",
    "baseline_params = p.param_set.baseline\n",
    "plots = p.plots\n",
    "iso3 = baseline_params['country']['iso3']\n",
    "source_iso3 = baseline_params['age_mixing']['source_iso3']\n",
    "age_adjust = baseline_params['age_mixing']['age_adjust']\n",
    "age_string_map = {\n",
    "    0: \"0-4\",\n",
    "    5: \"5-14\",\n",
    "    15: \"15-34\",\n",
    "    35: \"35-49\",\n",
    "    50: \"50+\",\n",
    "}"
   ]
  },
  {
   "cell_type": "markdown",
   "metadata": {},
   "source": [
    "## Population"
   ]
  },
  {
   "cell_type": "code",
   "execution_count": 4,
   "metadata": {},
   "outputs": [
    {
     "name": "stdout",
     "output_type": "stream",
     "text": [
      "Modelled age groups are [0, 5, 15, 35, 50]\n"
     ]
    }
   ],
   "source": [
    "modelled_age_groups = baseline_params[\"age_breakpoints\"]\n",
    "print(f\"Modelled age groups are {modelled_age_groups}\")"
   ]
  },
  {
   "cell_type": "code",
   "execution_count": 5,
   "metadata": {},
   "outputs": [],
   "source": [
    "csv_path = pathlib.Path('camau.csv')"
   ]
  },
  {
   "cell_type": "code",
   "execution_count": 6,
   "metadata": {},
   "outputs": [
    {
     "data": {
      "application/vnd.plotly.v1+json": {
       "config": {
        "plotlyServerURL": "https://plot.ly"
       },
       "data": [
        {
         "hovertemplate": "variable=population<br>year=%{x}<br>value=%{y}<extra></extra>",
         "legendgroup": "population",
         "line": {
          "color": "#636efa",
          "dash": "solid"
         },
         "marker": {
          "symbol": "circle"
         },
         "mode": "lines",
         "name": "population",
         "orientation": "v",
         "showlegend": true,
         "type": "scatter",
         "x": [
          1995,
          1996,
          1997,
          1998,
          1999,
          2000,
          2001,
          2002,
          2003,
          2004,
          2005,
          2006,
          2007,
          2008,
          2009,
          2010,
          2011,
          2012,
          2013,
          2014,
          2015,
          2016,
          2017,
          2018,
          2019
         ],
         "xaxis": "x",
         "y": [
          1041800,
          1061600,
          1081100,
          1101800,
          1123500,
          1133900,
          1145200,
          1155300,
          1164500,
          1174400,
          1182900,
          1188700,
          1195200,
          1201700,
          1207100,
          1205840,
          1204500,
          1203460,
          1202070,
          1200740,
          1199500,
          1198100,
          1197000,
          1195600,
          1194300
         ],
         "yaxis": "y"
        }
       ],
       "layout": {
        "legend": {
         "title": {
          "text": "variable"
         },
         "tracegroupgap": 0
        },
        "margin": {
         "t": 60
        },
        "template": {
         "data": {
          "bar": [
           {
            "error_x": {
             "color": "#2a3f5f"
            },
            "error_y": {
             "color": "#2a3f5f"
            },
            "marker": {
             "line": {
              "color": "#E5ECF6",
              "width": 0.5
             },
             "pattern": {
              "fillmode": "overlay",
              "size": 10,
              "solidity": 0.2
             }
            },
            "type": "bar"
           }
          ],
          "barpolar": [
           {
            "marker": {
             "line": {
              "color": "#E5ECF6",
              "width": 0.5
             },
             "pattern": {
              "fillmode": "overlay",
              "size": 10,
              "solidity": 0.2
             }
            },
            "type": "barpolar"
           }
          ],
          "carpet": [
           {
            "aaxis": {
             "endlinecolor": "#2a3f5f",
             "gridcolor": "white",
             "linecolor": "white",
             "minorgridcolor": "white",
             "startlinecolor": "#2a3f5f"
            },
            "baxis": {
             "endlinecolor": "#2a3f5f",
             "gridcolor": "white",
             "linecolor": "white",
             "minorgridcolor": "white",
             "startlinecolor": "#2a3f5f"
            },
            "type": "carpet"
           }
          ],
          "choropleth": [
           {
            "colorbar": {
             "outlinewidth": 0,
             "ticks": ""
            },
            "type": "choropleth"
           }
          ],
          "contour": [
           {
            "colorbar": {
             "outlinewidth": 0,
             "ticks": ""
            },
            "colorscale": [
             [
              0,
              "#0d0887"
             ],
             [
              0.1111111111111111,
              "#46039f"
             ],
             [
              0.2222222222222222,
              "#7201a8"
             ],
             [
              0.3333333333333333,
              "#9c179e"
             ],
             [
              0.4444444444444444,
              "#bd3786"
             ],
             [
              0.5555555555555556,
              "#d8576b"
             ],
             [
              0.6666666666666666,
              "#ed7953"
             ],
             [
              0.7777777777777778,
              "#fb9f3a"
             ],
             [
              0.8888888888888888,
              "#fdca26"
             ],
             [
              1,
              "#f0f921"
             ]
            ],
            "type": "contour"
           }
          ],
          "contourcarpet": [
           {
            "colorbar": {
             "outlinewidth": 0,
             "ticks": ""
            },
            "type": "contourcarpet"
           }
          ],
          "heatmap": [
           {
            "colorbar": {
             "outlinewidth": 0,
             "ticks": ""
            },
            "colorscale": [
             [
              0,
              "#0d0887"
             ],
             [
              0.1111111111111111,
              "#46039f"
             ],
             [
              0.2222222222222222,
              "#7201a8"
             ],
             [
              0.3333333333333333,
              "#9c179e"
             ],
             [
              0.4444444444444444,
              "#bd3786"
             ],
             [
              0.5555555555555556,
              "#d8576b"
             ],
             [
              0.6666666666666666,
              "#ed7953"
             ],
             [
              0.7777777777777778,
              "#fb9f3a"
             ],
             [
              0.8888888888888888,
              "#fdca26"
             ],
             [
              1,
              "#f0f921"
             ]
            ],
            "type": "heatmap"
           }
          ],
          "heatmapgl": [
           {
            "colorbar": {
             "outlinewidth": 0,
             "ticks": ""
            },
            "colorscale": [
             [
              0,
              "#0d0887"
             ],
             [
              0.1111111111111111,
              "#46039f"
             ],
             [
              0.2222222222222222,
              "#7201a8"
             ],
             [
              0.3333333333333333,
              "#9c179e"
             ],
             [
              0.4444444444444444,
              "#bd3786"
             ],
             [
              0.5555555555555556,
              "#d8576b"
             ],
             [
              0.6666666666666666,
              "#ed7953"
             ],
             [
              0.7777777777777778,
              "#fb9f3a"
             ],
             [
              0.8888888888888888,
              "#fdca26"
             ],
             [
              1,
              "#f0f921"
             ]
            ],
            "type": "heatmapgl"
           }
          ],
          "histogram": [
           {
            "marker": {
             "pattern": {
              "fillmode": "overlay",
              "size": 10,
              "solidity": 0.2
             }
            },
            "type": "histogram"
           }
          ],
          "histogram2d": [
           {
            "colorbar": {
             "outlinewidth": 0,
             "ticks": ""
            },
            "colorscale": [
             [
              0,
              "#0d0887"
             ],
             [
              0.1111111111111111,
              "#46039f"
             ],
             [
              0.2222222222222222,
              "#7201a8"
             ],
             [
              0.3333333333333333,
              "#9c179e"
             ],
             [
              0.4444444444444444,
              "#bd3786"
             ],
             [
              0.5555555555555556,
              "#d8576b"
             ],
             [
              0.6666666666666666,
              "#ed7953"
             ],
             [
              0.7777777777777778,
              "#fb9f3a"
             ],
             [
              0.8888888888888888,
              "#fdca26"
             ],
             [
              1,
              "#f0f921"
             ]
            ],
            "type": "histogram2d"
           }
          ],
          "histogram2dcontour": [
           {
            "colorbar": {
             "outlinewidth": 0,
             "ticks": ""
            },
            "colorscale": [
             [
              0,
              "#0d0887"
             ],
             [
              0.1111111111111111,
              "#46039f"
             ],
             [
              0.2222222222222222,
              "#7201a8"
             ],
             [
              0.3333333333333333,
              "#9c179e"
             ],
             [
              0.4444444444444444,
              "#bd3786"
             ],
             [
              0.5555555555555556,
              "#d8576b"
             ],
             [
              0.6666666666666666,
              "#ed7953"
             ],
             [
              0.7777777777777778,
              "#fb9f3a"
             ],
             [
              0.8888888888888888,
              "#fdca26"
             ],
             [
              1,
              "#f0f921"
             ]
            ],
            "type": "histogram2dcontour"
           }
          ],
          "mesh3d": [
           {
            "colorbar": {
             "outlinewidth": 0,
             "ticks": ""
            },
            "type": "mesh3d"
           }
          ],
          "parcoords": [
           {
            "line": {
             "colorbar": {
              "outlinewidth": 0,
              "ticks": ""
             }
            },
            "type": "parcoords"
           }
          ],
          "pie": [
           {
            "automargin": true,
            "type": "pie"
           }
          ],
          "scatter": [
           {
            "fillpattern": {
             "fillmode": "overlay",
             "size": 10,
             "solidity": 0.2
            },
            "type": "scatter"
           }
          ],
          "scatter3d": [
           {
            "line": {
             "colorbar": {
              "outlinewidth": 0,
              "ticks": ""
             }
            },
            "marker": {
             "colorbar": {
              "outlinewidth": 0,
              "ticks": ""
             }
            },
            "type": "scatter3d"
           }
          ],
          "scattercarpet": [
           {
            "marker": {
             "colorbar": {
              "outlinewidth": 0,
              "ticks": ""
             }
            },
            "type": "scattercarpet"
           }
          ],
          "scattergeo": [
           {
            "marker": {
             "colorbar": {
              "outlinewidth": 0,
              "ticks": ""
             }
            },
            "type": "scattergeo"
           }
          ],
          "scattergl": [
           {
            "marker": {
             "colorbar": {
              "outlinewidth": 0,
              "ticks": ""
             }
            },
            "type": "scattergl"
           }
          ],
          "scattermapbox": [
           {
            "marker": {
             "colorbar": {
              "outlinewidth": 0,
              "ticks": ""
             }
            },
            "type": "scattermapbox"
           }
          ],
          "scatterpolar": [
           {
            "marker": {
             "colorbar": {
              "outlinewidth": 0,
              "ticks": ""
             }
            },
            "type": "scatterpolar"
           }
          ],
          "scatterpolargl": [
           {
            "marker": {
             "colorbar": {
              "outlinewidth": 0,
              "ticks": ""
             }
            },
            "type": "scatterpolargl"
           }
          ],
          "scatterternary": [
           {
            "marker": {
             "colorbar": {
              "outlinewidth": 0,
              "ticks": ""
             }
            },
            "type": "scatterternary"
           }
          ],
          "surface": [
           {
            "colorbar": {
             "outlinewidth": 0,
             "ticks": ""
            },
            "colorscale": [
             [
              0,
              "#0d0887"
             ],
             [
              0.1111111111111111,
              "#46039f"
             ],
             [
              0.2222222222222222,
              "#7201a8"
             ],
             [
              0.3333333333333333,
              "#9c179e"
             ],
             [
              0.4444444444444444,
              "#bd3786"
             ],
             [
              0.5555555555555556,
              "#d8576b"
             ],
             [
              0.6666666666666666,
              "#ed7953"
             ],
             [
              0.7777777777777778,
              "#fb9f3a"
             ],
             [
              0.8888888888888888,
              "#fdca26"
             ],
             [
              1,
              "#f0f921"
             ]
            ],
            "type": "surface"
           }
          ],
          "table": [
           {
            "cells": {
             "fill": {
              "color": "#EBF0F8"
             },
             "line": {
              "color": "white"
             }
            },
            "header": {
             "fill": {
              "color": "#C8D4E3"
             },
             "line": {
              "color": "white"
             }
            },
            "type": "table"
           }
          ]
         },
         "layout": {
          "annotationdefaults": {
           "arrowcolor": "#2a3f5f",
           "arrowhead": 0,
           "arrowwidth": 1
          },
          "autotypenumbers": "strict",
          "coloraxis": {
           "colorbar": {
            "outlinewidth": 0,
            "ticks": ""
           }
          },
          "colorscale": {
           "diverging": [
            [
             0,
             "#8e0152"
            ],
            [
             0.1,
             "#c51b7d"
            ],
            [
             0.2,
             "#de77ae"
            ],
            [
             0.3,
             "#f1b6da"
            ],
            [
             0.4,
             "#fde0ef"
            ],
            [
             0.5,
             "#f7f7f7"
            ],
            [
             0.6,
             "#e6f5d0"
            ],
            [
             0.7,
             "#b8e186"
            ],
            [
             0.8,
             "#7fbc41"
            ],
            [
             0.9,
             "#4d9221"
            ],
            [
             1,
             "#276419"
            ]
           ],
           "sequential": [
            [
             0,
             "#0d0887"
            ],
            [
             0.1111111111111111,
             "#46039f"
            ],
            [
             0.2222222222222222,
             "#7201a8"
            ],
            [
             0.3333333333333333,
             "#9c179e"
            ],
            [
             0.4444444444444444,
             "#bd3786"
            ],
            [
             0.5555555555555556,
             "#d8576b"
            ],
            [
             0.6666666666666666,
             "#ed7953"
            ],
            [
             0.7777777777777778,
             "#fb9f3a"
            ],
            [
             0.8888888888888888,
             "#fdca26"
            ],
            [
             1,
             "#f0f921"
            ]
           ],
           "sequentialminus": [
            [
             0,
             "#0d0887"
            ],
            [
             0.1111111111111111,
             "#46039f"
            ],
            [
             0.2222222222222222,
             "#7201a8"
            ],
            [
             0.3333333333333333,
             "#9c179e"
            ],
            [
             0.4444444444444444,
             "#bd3786"
            ],
            [
             0.5555555555555556,
             "#d8576b"
            ],
            [
             0.6666666666666666,
             "#ed7953"
            ],
            [
             0.7777777777777778,
             "#fb9f3a"
            ],
            [
             0.8888888888888888,
             "#fdca26"
            ],
            [
             1,
             "#f0f921"
            ]
           ]
          },
          "colorway": [
           "#636efa",
           "#EF553B",
           "#00cc96",
           "#ab63fa",
           "#FFA15A",
           "#19d3f3",
           "#FF6692",
           "#B6E880",
           "#FF97FF",
           "#FECB52"
          ],
          "font": {
           "color": "#2a3f5f"
          },
          "geo": {
           "bgcolor": "white",
           "lakecolor": "white",
           "landcolor": "#E5ECF6",
           "showlakes": true,
           "showland": true,
           "subunitcolor": "white"
          },
          "hoverlabel": {
           "align": "left"
          },
          "hovermode": "closest",
          "mapbox": {
           "style": "light"
          },
          "paper_bgcolor": "white",
          "plot_bgcolor": "#E5ECF6",
          "polar": {
           "angularaxis": {
            "gridcolor": "white",
            "linecolor": "white",
            "ticks": ""
           },
           "bgcolor": "#E5ECF6",
           "radialaxis": {
            "gridcolor": "white",
            "linecolor": "white",
            "ticks": ""
           }
          },
          "scene": {
           "xaxis": {
            "backgroundcolor": "#E5ECF6",
            "gridcolor": "white",
            "gridwidth": 2,
            "linecolor": "white",
            "showbackground": true,
            "ticks": "",
            "zerolinecolor": "white"
           },
           "yaxis": {
            "backgroundcolor": "#E5ECF6",
            "gridcolor": "white",
            "gridwidth": 2,
            "linecolor": "white",
            "showbackground": true,
            "ticks": "",
            "zerolinecolor": "white"
           },
           "zaxis": {
            "backgroundcolor": "#E5ECF6",
            "gridcolor": "white",
            "gridwidth": 2,
            "linecolor": "white",
            "showbackground": true,
            "ticks": "",
            "zerolinecolor": "white"
           }
          },
          "shapedefaults": {
           "line": {
            "color": "#2a3f5f"
           }
          },
          "ternary": {
           "aaxis": {
            "gridcolor": "white",
            "linecolor": "white",
            "ticks": ""
           },
           "baxis": {
            "gridcolor": "white",
            "linecolor": "white",
            "ticks": ""
           },
           "bgcolor": "#E5ECF6",
           "caxis": {
            "gridcolor": "white",
            "linecolor": "white",
            "ticks": ""
           }
          },
          "title": {
           "x": 0.05
          },
          "xaxis": {
           "automargin": true,
           "gridcolor": "white",
           "linecolor": "white",
           "ticks": "",
           "title": {
            "standoff": 15
           },
           "zerolinecolor": "white",
           "zerolinewidth": 2
          },
          "yaxis": {
           "automargin": true,
           "gridcolor": "white",
           "linecolor": "white",
           "ticks": "",
           "title": {
            "standoff": 15
           },
           "zerolinecolor": "white",
           "zerolinewidth": 2
          }
         }
        },
        "xaxis": {
         "anchor": "y",
         "domain": [
          0,
          1
         ],
         "title": {
          "text": "year"
         }
        },
        "yaxis": {
         "anchor": "x",
         "domain": [
          0,
          1
         ],
         "title": {
          "text": "value"
         }
        }
       }
      }
     },
     "metadata": {},
     "output_type": "display_data"
    }
   ],
   "source": [
    "pop_df = pd.read_csv(csv_path)\n",
    "pop_df = pop_df.set_index(['year'])\n",
    "pop_df['population'].plot()"
   ]
  },
  {
   "cell_type": "markdown",
   "metadata": {},
   "source": [
    "### Birth rate"
   ]
  },
  {
   "cell_type": "code",
   "execution_count": 7,
   "metadata": {},
   "outputs": [
    {
     "data": {
      "application/vnd.plotly.v1+json": {
       "config": {
        "plotlyServerURL": "https://plot.ly"
       },
       "data": [
        {
         "hovertemplate": "variable=0<br>mean_year=%{x}<br>value=%{y}<extra></extra>",
         "legendgroup": "0",
         "line": {
          "color": "#636efa",
          "dash": "solid"
         },
         "marker": {
          "symbol": "circle"
         },
         "mode": "markers+lines",
         "name": "0",
         "orientation": "v",
         "showlegend": true,
         "type": "scatter",
         "x": [
          1952.5,
          1957.5,
          1962.5,
          1967.5,
          1972.5,
          1977.5,
          1982.5,
          1987.5,
          1992.5,
          1997.5,
          2002.5,
          2007.5,
          2012.5,
          2017.5
         ],
         "xaxis": "x",
         "y": [
          0.039776000000000006,
          0.042731000000000005,
          0.040619999999999996,
          0.037357,
          0.035531,
          0.032790999999999994,
          0.031293,
          0.029655,
          0.026611,
          0.019188,
          0.016832999999999997,
          0.017184,
          0.017283,
          0.016945
         ],
         "yaxis": "y"
        }
       ],
       "layout": {
        "legend": {
         "title": {
          "text": "variable"
         },
         "tracegroupgap": 0
        },
        "margin": {
         "t": 60
        },
        "showlegend": false,
        "template": {
         "data": {
          "bar": [
           {
            "error_x": {
             "color": "#2a3f5f"
            },
            "error_y": {
             "color": "#2a3f5f"
            },
            "marker": {
             "line": {
              "color": "#E5ECF6",
              "width": 0.5
             },
             "pattern": {
              "fillmode": "overlay",
              "size": 10,
              "solidity": 0.2
             }
            },
            "type": "bar"
           }
          ],
          "barpolar": [
           {
            "marker": {
             "line": {
              "color": "#E5ECF6",
              "width": 0.5
             },
             "pattern": {
              "fillmode": "overlay",
              "size": 10,
              "solidity": 0.2
             }
            },
            "type": "barpolar"
           }
          ],
          "carpet": [
           {
            "aaxis": {
             "endlinecolor": "#2a3f5f",
             "gridcolor": "white",
             "linecolor": "white",
             "minorgridcolor": "white",
             "startlinecolor": "#2a3f5f"
            },
            "baxis": {
             "endlinecolor": "#2a3f5f",
             "gridcolor": "white",
             "linecolor": "white",
             "minorgridcolor": "white",
             "startlinecolor": "#2a3f5f"
            },
            "type": "carpet"
           }
          ],
          "choropleth": [
           {
            "colorbar": {
             "outlinewidth": 0,
             "ticks": ""
            },
            "type": "choropleth"
           }
          ],
          "contour": [
           {
            "colorbar": {
             "outlinewidth": 0,
             "ticks": ""
            },
            "colorscale": [
             [
              0,
              "#0d0887"
             ],
             [
              0.1111111111111111,
              "#46039f"
             ],
             [
              0.2222222222222222,
              "#7201a8"
             ],
             [
              0.3333333333333333,
              "#9c179e"
             ],
             [
              0.4444444444444444,
              "#bd3786"
             ],
             [
              0.5555555555555556,
              "#d8576b"
             ],
             [
              0.6666666666666666,
              "#ed7953"
             ],
             [
              0.7777777777777778,
              "#fb9f3a"
             ],
             [
              0.8888888888888888,
              "#fdca26"
             ],
             [
              1,
              "#f0f921"
             ]
            ],
            "type": "contour"
           }
          ],
          "contourcarpet": [
           {
            "colorbar": {
             "outlinewidth": 0,
             "ticks": ""
            },
            "type": "contourcarpet"
           }
          ],
          "heatmap": [
           {
            "colorbar": {
             "outlinewidth": 0,
             "ticks": ""
            },
            "colorscale": [
             [
              0,
              "#0d0887"
             ],
             [
              0.1111111111111111,
              "#46039f"
             ],
             [
              0.2222222222222222,
              "#7201a8"
             ],
             [
              0.3333333333333333,
              "#9c179e"
             ],
             [
              0.4444444444444444,
              "#bd3786"
             ],
             [
              0.5555555555555556,
              "#d8576b"
             ],
             [
              0.6666666666666666,
              "#ed7953"
             ],
             [
              0.7777777777777778,
              "#fb9f3a"
             ],
             [
              0.8888888888888888,
              "#fdca26"
             ],
             [
              1,
              "#f0f921"
             ]
            ],
            "type": "heatmap"
           }
          ],
          "heatmapgl": [
           {
            "colorbar": {
             "outlinewidth": 0,
             "ticks": ""
            },
            "colorscale": [
             [
              0,
              "#0d0887"
             ],
             [
              0.1111111111111111,
              "#46039f"
             ],
             [
              0.2222222222222222,
              "#7201a8"
             ],
             [
              0.3333333333333333,
              "#9c179e"
             ],
             [
              0.4444444444444444,
              "#bd3786"
             ],
             [
              0.5555555555555556,
              "#d8576b"
             ],
             [
              0.6666666666666666,
              "#ed7953"
             ],
             [
              0.7777777777777778,
              "#fb9f3a"
             ],
             [
              0.8888888888888888,
              "#fdca26"
             ],
             [
              1,
              "#f0f921"
             ]
            ],
            "type": "heatmapgl"
           }
          ],
          "histogram": [
           {
            "marker": {
             "pattern": {
              "fillmode": "overlay",
              "size": 10,
              "solidity": 0.2
             }
            },
            "type": "histogram"
           }
          ],
          "histogram2d": [
           {
            "colorbar": {
             "outlinewidth": 0,
             "ticks": ""
            },
            "colorscale": [
             [
              0,
              "#0d0887"
             ],
             [
              0.1111111111111111,
              "#46039f"
             ],
             [
              0.2222222222222222,
              "#7201a8"
             ],
             [
              0.3333333333333333,
              "#9c179e"
             ],
             [
              0.4444444444444444,
              "#bd3786"
             ],
             [
              0.5555555555555556,
              "#d8576b"
             ],
             [
              0.6666666666666666,
              "#ed7953"
             ],
             [
              0.7777777777777778,
              "#fb9f3a"
             ],
             [
              0.8888888888888888,
              "#fdca26"
             ],
             [
              1,
              "#f0f921"
             ]
            ],
            "type": "histogram2d"
           }
          ],
          "histogram2dcontour": [
           {
            "colorbar": {
             "outlinewidth": 0,
             "ticks": ""
            },
            "colorscale": [
             [
              0,
              "#0d0887"
             ],
             [
              0.1111111111111111,
              "#46039f"
             ],
             [
              0.2222222222222222,
              "#7201a8"
             ],
             [
              0.3333333333333333,
              "#9c179e"
             ],
             [
              0.4444444444444444,
              "#bd3786"
             ],
             [
              0.5555555555555556,
              "#d8576b"
             ],
             [
              0.6666666666666666,
              "#ed7953"
             ],
             [
              0.7777777777777778,
              "#fb9f3a"
             ],
             [
              0.8888888888888888,
              "#fdca26"
             ],
             [
              1,
              "#f0f921"
             ]
            ],
            "type": "histogram2dcontour"
           }
          ],
          "mesh3d": [
           {
            "colorbar": {
             "outlinewidth": 0,
             "ticks": ""
            },
            "type": "mesh3d"
           }
          ],
          "parcoords": [
           {
            "line": {
             "colorbar": {
              "outlinewidth": 0,
              "ticks": ""
             }
            },
            "type": "parcoords"
           }
          ],
          "pie": [
           {
            "automargin": true,
            "type": "pie"
           }
          ],
          "scatter": [
           {
            "fillpattern": {
             "fillmode": "overlay",
             "size": 10,
             "solidity": 0.2
            },
            "type": "scatter"
           }
          ],
          "scatter3d": [
           {
            "line": {
             "colorbar": {
              "outlinewidth": 0,
              "ticks": ""
             }
            },
            "marker": {
             "colorbar": {
              "outlinewidth": 0,
              "ticks": ""
             }
            },
            "type": "scatter3d"
           }
          ],
          "scattercarpet": [
           {
            "marker": {
             "colorbar": {
              "outlinewidth": 0,
              "ticks": ""
             }
            },
            "type": "scattercarpet"
           }
          ],
          "scattergeo": [
           {
            "marker": {
             "colorbar": {
              "outlinewidth": 0,
              "ticks": ""
             }
            },
            "type": "scattergeo"
           }
          ],
          "scattergl": [
           {
            "marker": {
             "colorbar": {
              "outlinewidth": 0,
              "ticks": ""
             }
            },
            "type": "scattergl"
           }
          ],
          "scattermapbox": [
           {
            "marker": {
             "colorbar": {
              "outlinewidth": 0,
              "ticks": ""
             }
            },
            "type": "scattermapbox"
           }
          ],
          "scatterpolar": [
           {
            "marker": {
             "colorbar": {
              "outlinewidth": 0,
              "ticks": ""
             }
            },
            "type": "scatterpolar"
           }
          ],
          "scatterpolargl": [
           {
            "marker": {
             "colorbar": {
              "outlinewidth": 0,
              "ticks": ""
             }
            },
            "type": "scatterpolargl"
           }
          ],
          "scatterternary": [
           {
            "marker": {
             "colorbar": {
              "outlinewidth": 0,
              "ticks": ""
             }
            },
            "type": "scatterternary"
           }
          ],
          "surface": [
           {
            "colorbar": {
             "outlinewidth": 0,
             "ticks": ""
            },
            "colorscale": [
             [
              0,
              "#0d0887"
             ],
             [
              0.1111111111111111,
              "#46039f"
             ],
             [
              0.2222222222222222,
              "#7201a8"
             ],
             [
              0.3333333333333333,
              "#9c179e"
             ],
             [
              0.4444444444444444,
              "#bd3786"
             ],
             [
              0.5555555555555556,
              "#d8576b"
             ],
             [
              0.6666666666666666,
              "#ed7953"
             ],
             [
              0.7777777777777778,
              "#fb9f3a"
             ],
             [
              0.8888888888888888,
              "#fdca26"
             ],
             [
              1,
              "#f0f921"
             ]
            ],
            "type": "surface"
           }
          ],
          "table": [
           {
            "cells": {
             "fill": {
              "color": "#EBF0F8"
             },
             "line": {
              "color": "white"
             }
            },
            "header": {
             "fill": {
              "color": "#C8D4E3"
             },
             "line": {
              "color": "white"
             }
            },
            "type": "table"
           }
          ]
         },
         "layout": {
          "annotationdefaults": {
           "arrowcolor": "#2a3f5f",
           "arrowhead": 0,
           "arrowwidth": 1
          },
          "autotypenumbers": "strict",
          "coloraxis": {
           "colorbar": {
            "outlinewidth": 0,
            "ticks": ""
           }
          },
          "colorscale": {
           "diverging": [
            [
             0,
             "#8e0152"
            ],
            [
             0.1,
             "#c51b7d"
            ],
            [
             0.2,
             "#de77ae"
            ],
            [
             0.3,
             "#f1b6da"
            ],
            [
             0.4,
             "#fde0ef"
            ],
            [
             0.5,
             "#f7f7f7"
            ],
            [
             0.6,
             "#e6f5d0"
            ],
            [
             0.7,
             "#b8e186"
            ],
            [
             0.8,
             "#7fbc41"
            ],
            [
             0.9,
             "#4d9221"
            ],
            [
             1,
             "#276419"
            ]
           ],
           "sequential": [
            [
             0,
             "#0d0887"
            ],
            [
             0.1111111111111111,
             "#46039f"
            ],
            [
             0.2222222222222222,
             "#7201a8"
            ],
            [
             0.3333333333333333,
             "#9c179e"
            ],
            [
             0.4444444444444444,
             "#bd3786"
            ],
            [
             0.5555555555555556,
             "#d8576b"
            ],
            [
             0.6666666666666666,
             "#ed7953"
            ],
            [
             0.7777777777777778,
             "#fb9f3a"
            ],
            [
             0.8888888888888888,
             "#fdca26"
            ],
            [
             1,
             "#f0f921"
            ]
           ],
           "sequentialminus": [
            [
             0,
             "#0d0887"
            ],
            [
             0.1111111111111111,
             "#46039f"
            ],
            [
             0.2222222222222222,
             "#7201a8"
            ],
            [
             0.3333333333333333,
             "#9c179e"
            ],
            [
             0.4444444444444444,
             "#bd3786"
            ],
            [
             0.5555555555555556,
             "#d8576b"
            ],
            [
             0.6666666666666666,
             "#ed7953"
            ],
            [
             0.7777777777777778,
             "#fb9f3a"
            ],
            [
             0.8888888888888888,
             "#fdca26"
            ],
            [
             1,
             "#f0f921"
            ]
           ]
          },
          "colorway": [
           "#636efa",
           "#EF553B",
           "#00cc96",
           "#ab63fa",
           "#FFA15A",
           "#19d3f3",
           "#FF6692",
           "#B6E880",
           "#FF97FF",
           "#FECB52"
          ],
          "font": {
           "color": "#2a3f5f"
          },
          "geo": {
           "bgcolor": "white",
           "lakecolor": "white",
           "landcolor": "#E5ECF6",
           "showlakes": true,
           "showland": true,
           "subunitcolor": "white"
          },
          "hoverlabel": {
           "align": "left"
          },
          "hovermode": "closest",
          "mapbox": {
           "style": "light"
          },
          "paper_bgcolor": "white",
          "plot_bgcolor": "#E5ECF6",
          "polar": {
           "angularaxis": {
            "gridcolor": "white",
            "linecolor": "white",
            "ticks": ""
           },
           "bgcolor": "#E5ECF6",
           "radialaxis": {
            "gridcolor": "white",
            "linecolor": "white",
            "ticks": ""
           }
          },
          "scene": {
           "xaxis": {
            "backgroundcolor": "#E5ECF6",
            "gridcolor": "white",
            "gridwidth": 2,
            "linecolor": "white",
            "showbackground": true,
            "ticks": "",
            "zerolinecolor": "white"
           },
           "yaxis": {
            "backgroundcolor": "#E5ECF6",
            "gridcolor": "white",
            "gridwidth": 2,
            "linecolor": "white",
            "showbackground": true,
            "ticks": "",
            "zerolinecolor": "white"
           },
           "zaxis": {
            "backgroundcolor": "#E5ECF6",
            "gridcolor": "white",
            "gridwidth": 2,
            "linecolor": "white",
            "showbackground": true,
            "ticks": "",
            "zerolinecolor": "white"
           }
          },
          "shapedefaults": {
           "line": {
            "color": "#2a3f5f"
           }
          },
          "ternary": {
           "aaxis": {
            "gridcolor": "white",
            "linecolor": "white",
            "ticks": ""
           },
           "baxis": {
            "gridcolor": "white",
            "linecolor": "white",
            "ticks": ""
           },
           "bgcolor": "#E5ECF6",
           "caxis": {
            "gridcolor": "white",
            "linecolor": "white",
            "ticks": ""
           }
          },
          "title": {
           "x": 0.05
          },
          "xaxis": {
           "automargin": true,
           "gridcolor": "white",
           "linecolor": "white",
           "ticks": "",
           "title": {
            "standoff": 15
           },
           "zerolinecolor": "white",
           "zerolinewidth": 2
          },
          "yaxis": {
           "automargin": true,
           "gridcolor": "white",
           "linecolor": "white",
           "ticks": "",
           "title": {
            "standoff": 15
           },
           "zerolinecolor": "white",
           "zerolinewidth": 2
          }
         }
        },
        "title": {
         "text": "Crude birth rate of Ca Mau",
         "x": 0.5
        },
        "xaxis": {
         "anchor": "y",
         "domain": [
          0,
          1
         ],
         "title": {
          "text": "Year"
         }
        },
        "yaxis": {
         "anchor": "x",
         "domain": [
          0,
          1
         ],
         "title": {
          "text": "Crude birth rate"
         }
        }
       }
      }
     },
     "metadata": {},
     "output_type": "display_data"
    }
   ],
   "source": [
    "birth_rates, years = inputs.get_crude_birth_rate(\"VNM\")\n",
    "birth_rates = [b / 1000.0 for b in birth_rates]  # Birth rates are provided / 1000 population\n",
    "birth_rates_series = pd.Series(birth_rates, index=years)\n",
    "br_fig= px.line(birth_rates_series)\n",
    "br_fig.update_traces(mode='markers+lines')\n",
    "br_fig.update_layout(\n",
    "    title=\"Crude birth rate of Ca Mau\",\n",
    "    title_x=0.5,\n",
    "    xaxis_title=\"Year\",\n",
    "    yaxis_title=\"Crude birth rate\",\n",
    "    showlegend=False,\n",
    ")"
   ]
  },
  {
   "cell_type": "markdown",
   "metadata": {},
   "source": [
    "### Death rate"
   ]
  },
  {
   "cell_type": "code",
   "execution_count": 8,
   "metadata": {},
   "outputs": [
    {
     "data": {
      "application/vnd.plotly.v1+json": {
       "config": {
        "plotlyServerURL": "https://plot.ly"
       },
       "data": [
        {
         "hovertemplate": "variable=0<br>index=%{x}<br>value=%{y}<extra></extra>",
         "legendgroup": "0",
         "line": {
          "color": "#636efa",
          "dash": "solid"
         },
         "marker": {
          "symbol": "circle"
         },
         "mode": "markers+lines",
         "name": "0",
         "orientation": "v",
         "showlegend": true,
         "type": "scatter",
         "x": [
          2005,
          2007,
          2008,
          2009,
          2010,
          2011,
          2012,
          2013,
          2014,
          2015,
          2016,
          2017,
          2018,
          2019,
          2020,
          2021
         ],
         "xaxis": "x",
         "y": [
          0.0048,
          0.0048,
          0.0044,
          0.0056,
          0.0056,
          0.0058,
          0.0053,
          0.006,
          0.0074,
          0.0054,
          0.0048,
          0.0066,
          0.005,
          0.0054,
          0.00521,
          0.00539
         ],
         "yaxis": "y"
        }
       ],
       "layout": {
        "legend": {
         "title": {
          "text": "variable"
         },
         "tracegroupgap": 0
        },
        "margin": {
         "t": 60
        },
        "showlegend": false,
        "template": {
         "data": {
          "bar": [
           {
            "error_x": {
             "color": "#2a3f5f"
            },
            "error_y": {
             "color": "#2a3f5f"
            },
            "marker": {
             "line": {
              "color": "#E5ECF6",
              "width": 0.5
             },
             "pattern": {
              "fillmode": "overlay",
              "size": 10,
              "solidity": 0.2
             }
            },
            "type": "bar"
           }
          ],
          "barpolar": [
           {
            "marker": {
             "line": {
              "color": "#E5ECF6",
              "width": 0.5
             },
             "pattern": {
              "fillmode": "overlay",
              "size": 10,
              "solidity": 0.2
             }
            },
            "type": "barpolar"
           }
          ],
          "carpet": [
           {
            "aaxis": {
             "endlinecolor": "#2a3f5f",
             "gridcolor": "white",
             "linecolor": "white",
             "minorgridcolor": "white",
             "startlinecolor": "#2a3f5f"
            },
            "baxis": {
             "endlinecolor": "#2a3f5f",
             "gridcolor": "white",
             "linecolor": "white",
             "minorgridcolor": "white",
             "startlinecolor": "#2a3f5f"
            },
            "type": "carpet"
           }
          ],
          "choropleth": [
           {
            "colorbar": {
             "outlinewidth": 0,
             "ticks": ""
            },
            "type": "choropleth"
           }
          ],
          "contour": [
           {
            "colorbar": {
             "outlinewidth": 0,
             "ticks": ""
            },
            "colorscale": [
             [
              0,
              "#0d0887"
             ],
             [
              0.1111111111111111,
              "#46039f"
             ],
             [
              0.2222222222222222,
              "#7201a8"
             ],
             [
              0.3333333333333333,
              "#9c179e"
             ],
             [
              0.4444444444444444,
              "#bd3786"
             ],
             [
              0.5555555555555556,
              "#d8576b"
             ],
             [
              0.6666666666666666,
              "#ed7953"
             ],
             [
              0.7777777777777778,
              "#fb9f3a"
             ],
             [
              0.8888888888888888,
              "#fdca26"
             ],
             [
              1,
              "#f0f921"
             ]
            ],
            "type": "contour"
           }
          ],
          "contourcarpet": [
           {
            "colorbar": {
             "outlinewidth": 0,
             "ticks": ""
            },
            "type": "contourcarpet"
           }
          ],
          "heatmap": [
           {
            "colorbar": {
             "outlinewidth": 0,
             "ticks": ""
            },
            "colorscale": [
             [
              0,
              "#0d0887"
             ],
             [
              0.1111111111111111,
              "#46039f"
             ],
             [
              0.2222222222222222,
              "#7201a8"
             ],
             [
              0.3333333333333333,
              "#9c179e"
             ],
             [
              0.4444444444444444,
              "#bd3786"
             ],
             [
              0.5555555555555556,
              "#d8576b"
             ],
             [
              0.6666666666666666,
              "#ed7953"
             ],
             [
              0.7777777777777778,
              "#fb9f3a"
             ],
             [
              0.8888888888888888,
              "#fdca26"
             ],
             [
              1,
              "#f0f921"
             ]
            ],
            "type": "heatmap"
           }
          ],
          "heatmapgl": [
           {
            "colorbar": {
             "outlinewidth": 0,
             "ticks": ""
            },
            "colorscale": [
             [
              0,
              "#0d0887"
             ],
             [
              0.1111111111111111,
              "#46039f"
             ],
             [
              0.2222222222222222,
              "#7201a8"
             ],
             [
              0.3333333333333333,
              "#9c179e"
             ],
             [
              0.4444444444444444,
              "#bd3786"
             ],
             [
              0.5555555555555556,
              "#d8576b"
             ],
             [
              0.6666666666666666,
              "#ed7953"
             ],
             [
              0.7777777777777778,
              "#fb9f3a"
             ],
             [
              0.8888888888888888,
              "#fdca26"
             ],
             [
              1,
              "#f0f921"
             ]
            ],
            "type": "heatmapgl"
           }
          ],
          "histogram": [
           {
            "marker": {
             "pattern": {
              "fillmode": "overlay",
              "size": 10,
              "solidity": 0.2
             }
            },
            "type": "histogram"
           }
          ],
          "histogram2d": [
           {
            "colorbar": {
             "outlinewidth": 0,
             "ticks": ""
            },
            "colorscale": [
             [
              0,
              "#0d0887"
             ],
             [
              0.1111111111111111,
              "#46039f"
             ],
             [
              0.2222222222222222,
              "#7201a8"
             ],
             [
              0.3333333333333333,
              "#9c179e"
             ],
             [
              0.4444444444444444,
              "#bd3786"
             ],
             [
              0.5555555555555556,
              "#d8576b"
             ],
             [
              0.6666666666666666,
              "#ed7953"
             ],
             [
              0.7777777777777778,
              "#fb9f3a"
             ],
             [
              0.8888888888888888,
              "#fdca26"
             ],
             [
              1,
              "#f0f921"
             ]
            ],
            "type": "histogram2d"
           }
          ],
          "histogram2dcontour": [
           {
            "colorbar": {
             "outlinewidth": 0,
             "ticks": ""
            },
            "colorscale": [
             [
              0,
              "#0d0887"
             ],
             [
              0.1111111111111111,
              "#46039f"
             ],
             [
              0.2222222222222222,
              "#7201a8"
             ],
             [
              0.3333333333333333,
              "#9c179e"
             ],
             [
              0.4444444444444444,
              "#bd3786"
             ],
             [
              0.5555555555555556,
              "#d8576b"
             ],
             [
              0.6666666666666666,
              "#ed7953"
             ],
             [
              0.7777777777777778,
              "#fb9f3a"
             ],
             [
              0.8888888888888888,
              "#fdca26"
             ],
             [
              1,
              "#f0f921"
             ]
            ],
            "type": "histogram2dcontour"
           }
          ],
          "mesh3d": [
           {
            "colorbar": {
             "outlinewidth": 0,
             "ticks": ""
            },
            "type": "mesh3d"
           }
          ],
          "parcoords": [
           {
            "line": {
             "colorbar": {
              "outlinewidth": 0,
              "ticks": ""
             }
            },
            "type": "parcoords"
           }
          ],
          "pie": [
           {
            "automargin": true,
            "type": "pie"
           }
          ],
          "scatter": [
           {
            "fillpattern": {
             "fillmode": "overlay",
             "size": 10,
             "solidity": 0.2
            },
            "type": "scatter"
           }
          ],
          "scatter3d": [
           {
            "line": {
             "colorbar": {
              "outlinewidth": 0,
              "ticks": ""
             }
            },
            "marker": {
             "colorbar": {
              "outlinewidth": 0,
              "ticks": ""
             }
            },
            "type": "scatter3d"
           }
          ],
          "scattercarpet": [
           {
            "marker": {
             "colorbar": {
              "outlinewidth": 0,
              "ticks": ""
             }
            },
            "type": "scattercarpet"
           }
          ],
          "scattergeo": [
           {
            "marker": {
             "colorbar": {
              "outlinewidth": 0,
              "ticks": ""
             }
            },
            "type": "scattergeo"
           }
          ],
          "scattergl": [
           {
            "marker": {
             "colorbar": {
              "outlinewidth": 0,
              "ticks": ""
             }
            },
            "type": "scattergl"
           }
          ],
          "scattermapbox": [
           {
            "marker": {
             "colorbar": {
              "outlinewidth": 0,
              "ticks": ""
             }
            },
            "type": "scattermapbox"
           }
          ],
          "scatterpolar": [
           {
            "marker": {
             "colorbar": {
              "outlinewidth": 0,
              "ticks": ""
             }
            },
            "type": "scatterpolar"
           }
          ],
          "scatterpolargl": [
           {
            "marker": {
             "colorbar": {
              "outlinewidth": 0,
              "ticks": ""
             }
            },
            "type": "scatterpolargl"
           }
          ],
          "scatterternary": [
           {
            "marker": {
             "colorbar": {
              "outlinewidth": 0,
              "ticks": ""
             }
            },
            "type": "scatterternary"
           }
          ],
          "surface": [
           {
            "colorbar": {
             "outlinewidth": 0,
             "ticks": ""
            },
            "colorscale": [
             [
              0,
              "#0d0887"
             ],
             [
              0.1111111111111111,
              "#46039f"
             ],
             [
              0.2222222222222222,
              "#7201a8"
             ],
             [
              0.3333333333333333,
              "#9c179e"
             ],
             [
              0.4444444444444444,
              "#bd3786"
             ],
             [
              0.5555555555555556,
              "#d8576b"
             ],
             [
              0.6666666666666666,
              "#ed7953"
             ],
             [
              0.7777777777777778,
              "#fb9f3a"
             ],
             [
              0.8888888888888888,
              "#fdca26"
             ],
             [
              1,
              "#f0f921"
             ]
            ],
            "type": "surface"
           }
          ],
          "table": [
           {
            "cells": {
             "fill": {
              "color": "#EBF0F8"
             },
             "line": {
              "color": "white"
             }
            },
            "header": {
             "fill": {
              "color": "#C8D4E3"
             },
             "line": {
              "color": "white"
             }
            },
            "type": "table"
           }
          ]
         },
         "layout": {
          "annotationdefaults": {
           "arrowcolor": "#2a3f5f",
           "arrowhead": 0,
           "arrowwidth": 1
          },
          "autotypenumbers": "strict",
          "coloraxis": {
           "colorbar": {
            "outlinewidth": 0,
            "ticks": ""
           }
          },
          "colorscale": {
           "diverging": [
            [
             0,
             "#8e0152"
            ],
            [
             0.1,
             "#c51b7d"
            ],
            [
             0.2,
             "#de77ae"
            ],
            [
             0.3,
             "#f1b6da"
            ],
            [
             0.4,
             "#fde0ef"
            ],
            [
             0.5,
             "#f7f7f7"
            ],
            [
             0.6,
             "#e6f5d0"
            ],
            [
             0.7,
             "#b8e186"
            ],
            [
             0.8,
             "#7fbc41"
            ],
            [
             0.9,
             "#4d9221"
            ],
            [
             1,
             "#276419"
            ]
           ],
           "sequential": [
            [
             0,
             "#0d0887"
            ],
            [
             0.1111111111111111,
             "#46039f"
            ],
            [
             0.2222222222222222,
             "#7201a8"
            ],
            [
             0.3333333333333333,
             "#9c179e"
            ],
            [
             0.4444444444444444,
             "#bd3786"
            ],
            [
             0.5555555555555556,
             "#d8576b"
            ],
            [
             0.6666666666666666,
             "#ed7953"
            ],
            [
             0.7777777777777778,
             "#fb9f3a"
            ],
            [
             0.8888888888888888,
             "#fdca26"
            ],
            [
             1,
             "#f0f921"
            ]
           ],
           "sequentialminus": [
            [
             0,
             "#0d0887"
            ],
            [
             0.1111111111111111,
             "#46039f"
            ],
            [
             0.2222222222222222,
             "#7201a8"
            ],
            [
             0.3333333333333333,
             "#9c179e"
            ],
            [
             0.4444444444444444,
             "#bd3786"
            ],
            [
             0.5555555555555556,
             "#d8576b"
            ],
            [
             0.6666666666666666,
             "#ed7953"
            ],
            [
             0.7777777777777778,
             "#fb9f3a"
            ],
            [
             0.8888888888888888,
             "#fdca26"
            ],
            [
             1,
             "#f0f921"
            ]
           ]
          },
          "colorway": [
           "#636efa",
           "#EF553B",
           "#00cc96",
           "#ab63fa",
           "#FFA15A",
           "#19d3f3",
           "#FF6692",
           "#B6E880",
           "#FF97FF",
           "#FECB52"
          ],
          "font": {
           "color": "#2a3f5f"
          },
          "geo": {
           "bgcolor": "white",
           "lakecolor": "white",
           "landcolor": "#E5ECF6",
           "showlakes": true,
           "showland": true,
           "subunitcolor": "white"
          },
          "hoverlabel": {
           "align": "left"
          },
          "hovermode": "closest",
          "mapbox": {
           "style": "light"
          },
          "paper_bgcolor": "white",
          "plot_bgcolor": "#E5ECF6",
          "polar": {
           "angularaxis": {
            "gridcolor": "white",
            "linecolor": "white",
            "ticks": ""
           },
           "bgcolor": "#E5ECF6",
           "radialaxis": {
            "gridcolor": "white",
            "linecolor": "white",
            "ticks": ""
           }
          },
          "scene": {
           "xaxis": {
            "backgroundcolor": "#E5ECF6",
            "gridcolor": "white",
            "gridwidth": 2,
            "linecolor": "white",
            "showbackground": true,
            "ticks": "",
            "zerolinecolor": "white"
           },
           "yaxis": {
            "backgroundcolor": "#E5ECF6",
            "gridcolor": "white",
            "gridwidth": 2,
            "linecolor": "white",
            "showbackground": true,
            "ticks": "",
            "zerolinecolor": "white"
           },
           "zaxis": {
            "backgroundcolor": "#E5ECF6",
            "gridcolor": "white",
            "gridwidth": 2,
            "linecolor": "white",
            "showbackground": true,
            "ticks": "",
            "zerolinecolor": "white"
           }
          },
          "shapedefaults": {
           "line": {
            "color": "#2a3f5f"
           }
          },
          "ternary": {
           "aaxis": {
            "gridcolor": "white",
            "linecolor": "white",
            "ticks": ""
           },
           "baxis": {
            "gridcolor": "white",
            "linecolor": "white",
            "ticks": ""
           },
           "bgcolor": "#E5ECF6",
           "caxis": {
            "gridcolor": "white",
            "linecolor": "white",
            "ticks": ""
           }
          },
          "title": {
           "x": 0.05
          },
          "xaxis": {
           "automargin": true,
           "gridcolor": "white",
           "linecolor": "white",
           "ticks": "",
           "title": {
            "standoff": 15
           },
           "zerolinecolor": "white",
           "zerolinewidth": 2
          },
          "yaxis": {
           "automargin": true,
           "gridcolor": "white",
           "linecolor": "white",
           "ticks": "",
           "title": {
            "standoff": 15
           },
           "zerolinecolor": "white",
           "zerolinewidth": 2
          }
         }
        },
        "title": {
         "text": "Crude death rate of Ca Mau",
         "x": 0.5
        },
        "xaxis": {
         "anchor": "y",
         "domain": [
          0,
          1
         ],
         "title": {
          "text": "Year"
         }
        },
        "yaxis": {
         "anchor": "x",
         "domain": [
          0,
          1
         ],
         "title": {
          "text": "Crude death rate"
         }
        }
       }
      }
     },
     "metadata": {},
     "output_type": "display_data"
    }
   ],
   "source": [
    "#Query and visualize the crude birth rate from database\n",
    "years, death_rates = queries.get_camau_death_rate()\n",
    "death_rates = [b / 1000.0 for b in death_rates]  # Birth rates are provided / 1000 population\n",
    "death_rates_series = pd.Series(death_rates, index=years)\n",
    "dr_fig= px.line(death_rates_series)\n",
    "dr_fig.update_traces(mode='markers+lines')\n",
    "dr_fig.update_layout(\n",
    "    title=\"Crude death rate of Ca Mau\",\n",
    "    title_x=0.5,\n",
    "    xaxis_title=\"Year\",\n",
    "    yaxis_title=\"Crude death rate\",\n",
    "    showlegend=False,\n",
    ")"
   ]
  },
  {
   "cell_type": "markdown",
   "metadata": {},
   "source": [
    "### Mixing matrix"
   ]
  },
  {
   "cell_type": "code",
   "execution_count": 9,
   "metadata": {},
   "outputs": [
    {
     "name": "stdout",
     "output_type": "stream",
     "text": [
      "Target region: CAMAU (VNM)\n",
      "Proxy country: VNM\n",
      "Always age-adjusted to target population\n"
     ]
    }
   ],
   "source": [
    "print(f\"Target region: {region.upper()} ({iso3})\")\n",
    "print(f\"Proxy country: {source_iso3}\")\n",
    "print(\"Always age-adjusted to target population\")"
   ]
  },
  {
   "cell_type": "code",
   "execution_count": 10,
   "metadata": {},
   "outputs": [],
   "source": [
    "update_params = {\n",
    "    'contact_rate': 0.0097,\n",
    "    #'infectious_seed': 166,\n",
    "    'progression_multiplier': 0.10153895460253357,\n",
    "    'rr_infection_latent': 0.20423005349997295,\n",
    "    'rr_infection_recovered': 0.2257150581707663,\n",
    "    'start_population_size':299694.87713113584,\n",
    "    'cdr_adjustment': 0.9430786462921992\n",
    "\n",
    "}\n",
    "params = baseline_params.update(update_params,calibration_format=True)\n",
    "model_0  =  p.build_model(params.to_dict())\n",
    "model_0.run(params.to_dict())\n",
    "derived_df_0 = model_0.get_derived_outputs_df()"
   ]
  },
  {
   "cell_type": "code",
   "execution_count": 11,
   "metadata": {},
   "outputs": [
    {
     "name": "stdout",
     "output_type": "stream",
     "text": [
      "[[ 398.43289672  261.82020387  643.68286218  401.62199159  356.13449939]\n",
      " [ 165.78966683  881.63067677  532.84120554  550.75979227  285.62836724]\n",
      " [ 231.75164317  311.38983781  915.52884268  673.30894113  664.14577066]\n",
      " [ 141.94492435  310.88835505  786.13676958 1134.31076003  938.03403291]\n",
      " [  67.30073632  170.46333134  647.30153978 1018.81243422 1763.57657715]]\n"
     ]
    },
    {
     "data": {
      "application/vnd.plotly.v1+json": {
       "config": {
        "plotlyServerURL": "https://plot.ly"
       },
       "data": [
        {
         "coloraxis": "coloraxis",
         "hovertemplate": "x: %{x}<br>y: %{y}<br>color: %{z}<extra></extra>",
         "name": "0",
         "type": "heatmap",
         "xaxis": "x",
         "yaxis": "y",
         "z": [
          [
           398.43289671715854,
           261.82020387348075,
           643.6828621777573,
           401.62199158977194,
           356.13449938807395
          ],
          [
           165.78966683273993,
           881.6306767735196,
           532.8412055425431,
           550.7597922690397,
           285.6283672428183
          ],
          [
           231.75164316722984,
           311.3898378099071,
           915.5288426752608,
           673.3089411339307,
           664.1457706557599
          ],
          [
           141.94492435330548,
           310.8883550484485,
           786.1367695812622,
           1134.3107600305705,
           938.0340329110602
          ],
          [
           67.30073631874295,
           170.46333134386853,
           647.3015397795145,
           1018.8124342209532,
           1763.576577145928
          ]
         ]
        }
       ],
       "layout": {
        "coloraxis": {
         "colorscale": [
          [
           0,
           "#0d0887"
          ],
          [
           0.1111111111111111,
           "#46039f"
          ],
          [
           0.2222222222222222,
           "#7201a8"
          ],
          [
           0.3333333333333333,
           "#9c179e"
          ],
          [
           0.4444444444444444,
           "#bd3786"
          ],
          [
           0.5555555555555556,
           "#d8576b"
          ],
          [
           0.6666666666666666,
           "#ed7953"
          ],
          [
           0.7777777777777778,
           "#fb9f3a"
          ],
          [
           0.8888888888888888,
           "#fdca26"
          ],
          [
           1,
           "#f0f921"
          ]
         ]
        },
        "margin": {
         "t": 60
        },
        "template": {
         "data": {
          "bar": [
           {
            "error_x": {
             "color": "#2a3f5f"
            },
            "error_y": {
             "color": "#2a3f5f"
            },
            "marker": {
             "line": {
              "color": "#E5ECF6",
              "width": 0.5
             },
             "pattern": {
              "fillmode": "overlay",
              "size": 10,
              "solidity": 0.2
             }
            },
            "type": "bar"
           }
          ],
          "barpolar": [
           {
            "marker": {
             "line": {
              "color": "#E5ECF6",
              "width": 0.5
             },
             "pattern": {
              "fillmode": "overlay",
              "size": 10,
              "solidity": 0.2
             }
            },
            "type": "barpolar"
           }
          ],
          "carpet": [
           {
            "aaxis": {
             "endlinecolor": "#2a3f5f",
             "gridcolor": "white",
             "linecolor": "white",
             "minorgridcolor": "white",
             "startlinecolor": "#2a3f5f"
            },
            "baxis": {
             "endlinecolor": "#2a3f5f",
             "gridcolor": "white",
             "linecolor": "white",
             "minorgridcolor": "white",
             "startlinecolor": "#2a3f5f"
            },
            "type": "carpet"
           }
          ],
          "choropleth": [
           {
            "colorbar": {
             "outlinewidth": 0,
             "ticks": ""
            },
            "type": "choropleth"
           }
          ],
          "contour": [
           {
            "colorbar": {
             "outlinewidth": 0,
             "ticks": ""
            },
            "colorscale": [
             [
              0,
              "#0d0887"
             ],
             [
              0.1111111111111111,
              "#46039f"
             ],
             [
              0.2222222222222222,
              "#7201a8"
             ],
             [
              0.3333333333333333,
              "#9c179e"
             ],
             [
              0.4444444444444444,
              "#bd3786"
             ],
             [
              0.5555555555555556,
              "#d8576b"
             ],
             [
              0.6666666666666666,
              "#ed7953"
             ],
             [
              0.7777777777777778,
              "#fb9f3a"
             ],
             [
              0.8888888888888888,
              "#fdca26"
             ],
             [
              1,
              "#f0f921"
             ]
            ],
            "type": "contour"
           }
          ],
          "contourcarpet": [
           {
            "colorbar": {
             "outlinewidth": 0,
             "ticks": ""
            },
            "type": "contourcarpet"
           }
          ],
          "heatmap": [
           {
            "colorbar": {
             "outlinewidth": 0,
             "ticks": ""
            },
            "colorscale": [
             [
              0,
              "#0d0887"
             ],
             [
              0.1111111111111111,
              "#46039f"
             ],
             [
              0.2222222222222222,
              "#7201a8"
             ],
             [
              0.3333333333333333,
              "#9c179e"
             ],
             [
              0.4444444444444444,
              "#bd3786"
             ],
             [
              0.5555555555555556,
              "#d8576b"
             ],
             [
              0.6666666666666666,
              "#ed7953"
             ],
             [
              0.7777777777777778,
              "#fb9f3a"
             ],
             [
              0.8888888888888888,
              "#fdca26"
             ],
             [
              1,
              "#f0f921"
             ]
            ],
            "type": "heatmap"
           }
          ],
          "heatmapgl": [
           {
            "colorbar": {
             "outlinewidth": 0,
             "ticks": ""
            },
            "colorscale": [
             [
              0,
              "#0d0887"
             ],
             [
              0.1111111111111111,
              "#46039f"
             ],
             [
              0.2222222222222222,
              "#7201a8"
             ],
             [
              0.3333333333333333,
              "#9c179e"
             ],
             [
              0.4444444444444444,
              "#bd3786"
             ],
             [
              0.5555555555555556,
              "#d8576b"
             ],
             [
              0.6666666666666666,
              "#ed7953"
             ],
             [
              0.7777777777777778,
              "#fb9f3a"
             ],
             [
              0.8888888888888888,
              "#fdca26"
             ],
             [
              1,
              "#f0f921"
             ]
            ],
            "type": "heatmapgl"
           }
          ],
          "histogram": [
           {
            "marker": {
             "pattern": {
              "fillmode": "overlay",
              "size": 10,
              "solidity": 0.2
             }
            },
            "type": "histogram"
           }
          ],
          "histogram2d": [
           {
            "colorbar": {
             "outlinewidth": 0,
             "ticks": ""
            },
            "colorscale": [
             [
              0,
              "#0d0887"
             ],
             [
              0.1111111111111111,
              "#46039f"
             ],
             [
              0.2222222222222222,
              "#7201a8"
             ],
             [
              0.3333333333333333,
              "#9c179e"
             ],
             [
              0.4444444444444444,
              "#bd3786"
             ],
             [
              0.5555555555555556,
              "#d8576b"
             ],
             [
              0.6666666666666666,
              "#ed7953"
             ],
             [
              0.7777777777777778,
              "#fb9f3a"
             ],
             [
              0.8888888888888888,
              "#fdca26"
             ],
             [
              1,
              "#f0f921"
             ]
            ],
            "type": "histogram2d"
           }
          ],
          "histogram2dcontour": [
           {
            "colorbar": {
             "outlinewidth": 0,
             "ticks": ""
            },
            "colorscale": [
             [
              0,
              "#0d0887"
             ],
             [
              0.1111111111111111,
              "#46039f"
             ],
             [
              0.2222222222222222,
              "#7201a8"
             ],
             [
              0.3333333333333333,
              "#9c179e"
             ],
             [
              0.4444444444444444,
              "#bd3786"
             ],
             [
              0.5555555555555556,
              "#d8576b"
             ],
             [
              0.6666666666666666,
              "#ed7953"
             ],
             [
              0.7777777777777778,
              "#fb9f3a"
             ],
             [
              0.8888888888888888,
              "#fdca26"
             ],
             [
              1,
              "#f0f921"
             ]
            ],
            "type": "histogram2dcontour"
           }
          ],
          "mesh3d": [
           {
            "colorbar": {
             "outlinewidth": 0,
             "ticks": ""
            },
            "type": "mesh3d"
           }
          ],
          "parcoords": [
           {
            "line": {
             "colorbar": {
              "outlinewidth": 0,
              "ticks": ""
             }
            },
            "type": "parcoords"
           }
          ],
          "pie": [
           {
            "automargin": true,
            "type": "pie"
           }
          ],
          "scatter": [
           {
            "fillpattern": {
             "fillmode": "overlay",
             "size": 10,
             "solidity": 0.2
            },
            "type": "scatter"
           }
          ],
          "scatter3d": [
           {
            "line": {
             "colorbar": {
              "outlinewidth": 0,
              "ticks": ""
             }
            },
            "marker": {
             "colorbar": {
              "outlinewidth": 0,
              "ticks": ""
             }
            },
            "type": "scatter3d"
           }
          ],
          "scattercarpet": [
           {
            "marker": {
             "colorbar": {
              "outlinewidth": 0,
              "ticks": ""
             }
            },
            "type": "scattercarpet"
           }
          ],
          "scattergeo": [
           {
            "marker": {
             "colorbar": {
              "outlinewidth": 0,
              "ticks": ""
             }
            },
            "type": "scattergeo"
           }
          ],
          "scattergl": [
           {
            "marker": {
             "colorbar": {
              "outlinewidth": 0,
              "ticks": ""
             }
            },
            "type": "scattergl"
           }
          ],
          "scattermapbox": [
           {
            "marker": {
             "colorbar": {
              "outlinewidth": 0,
              "ticks": ""
             }
            },
            "type": "scattermapbox"
           }
          ],
          "scatterpolar": [
           {
            "marker": {
             "colorbar": {
              "outlinewidth": 0,
              "ticks": ""
             }
            },
            "type": "scatterpolar"
           }
          ],
          "scatterpolargl": [
           {
            "marker": {
             "colorbar": {
              "outlinewidth": 0,
              "ticks": ""
             }
            },
            "type": "scatterpolargl"
           }
          ],
          "scatterternary": [
           {
            "marker": {
             "colorbar": {
              "outlinewidth": 0,
              "ticks": ""
             }
            },
            "type": "scatterternary"
           }
          ],
          "surface": [
           {
            "colorbar": {
             "outlinewidth": 0,
             "ticks": ""
            },
            "colorscale": [
             [
              0,
              "#0d0887"
             ],
             [
              0.1111111111111111,
              "#46039f"
             ],
             [
              0.2222222222222222,
              "#7201a8"
             ],
             [
              0.3333333333333333,
              "#9c179e"
             ],
             [
              0.4444444444444444,
              "#bd3786"
             ],
             [
              0.5555555555555556,
              "#d8576b"
             ],
             [
              0.6666666666666666,
              "#ed7953"
             ],
             [
              0.7777777777777778,
              "#fb9f3a"
             ],
             [
              0.8888888888888888,
              "#fdca26"
             ],
             [
              1,
              "#f0f921"
             ]
            ],
            "type": "surface"
           }
          ],
          "table": [
           {
            "cells": {
             "fill": {
              "color": "#EBF0F8"
             },
             "line": {
              "color": "white"
             }
            },
            "header": {
             "fill": {
              "color": "#C8D4E3"
             },
             "line": {
              "color": "white"
             }
            },
            "type": "table"
           }
          ]
         },
         "layout": {
          "annotationdefaults": {
           "arrowcolor": "#2a3f5f",
           "arrowhead": 0,
           "arrowwidth": 1
          },
          "autotypenumbers": "strict",
          "coloraxis": {
           "colorbar": {
            "outlinewidth": 0,
            "ticks": ""
           }
          },
          "colorscale": {
           "diverging": [
            [
             0,
             "#8e0152"
            ],
            [
             0.1,
             "#c51b7d"
            ],
            [
             0.2,
             "#de77ae"
            ],
            [
             0.3,
             "#f1b6da"
            ],
            [
             0.4,
             "#fde0ef"
            ],
            [
             0.5,
             "#f7f7f7"
            ],
            [
             0.6,
             "#e6f5d0"
            ],
            [
             0.7,
             "#b8e186"
            ],
            [
             0.8,
             "#7fbc41"
            ],
            [
             0.9,
             "#4d9221"
            ],
            [
             1,
             "#276419"
            ]
           ],
           "sequential": [
            [
             0,
             "#0d0887"
            ],
            [
             0.1111111111111111,
             "#46039f"
            ],
            [
             0.2222222222222222,
             "#7201a8"
            ],
            [
             0.3333333333333333,
             "#9c179e"
            ],
            [
             0.4444444444444444,
             "#bd3786"
            ],
            [
             0.5555555555555556,
             "#d8576b"
            ],
            [
             0.6666666666666666,
             "#ed7953"
            ],
            [
             0.7777777777777778,
             "#fb9f3a"
            ],
            [
             0.8888888888888888,
             "#fdca26"
            ],
            [
             1,
             "#f0f921"
            ]
           ],
           "sequentialminus": [
            [
             0,
             "#0d0887"
            ],
            [
             0.1111111111111111,
             "#46039f"
            ],
            [
             0.2222222222222222,
             "#7201a8"
            ],
            [
             0.3333333333333333,
             "#9c179e"
            ],
            [
             0.4444444444444444,
             "#bd3786"
            ],
            [
             0.5555555555555556,
             "#d8576b"
            ],
            [
             0.6666666666666666,
             "#ed7953"
            ],
            [
             0.7777777777777778,
             "#fb9f3a"
            ],
            [
             0.8888888888888888,
             "#fdca26"
            ],
            [
             1,
             "#f0f921"
            ]
           ]
          },
          "colorway": [
           "#636efa",
           "#EF553B",
           "#00cc96",
           "#ab63fa",
           "#FFA15A",
           "#19d3f3",
           "#FF6692",
           "#B6E880",
           "#FF97FF",
           "#FECB52"
          ],
          "font": {
           "color": "#2a3f5f"
          },
          "geo": {
           "bgcolor": "white",
           "lakecolor": "white",
           "landcolor": "#E5ECF6",
           "showlakes": true,
           "showland": true,
           "subunitcolor": "white"
          },
          "hoverlabel": {
           "align": "left"
          },
          "hovermode": "closest",
          "mapbox": {
           "style": "light"
          },
          "paper_bgcolor": "white",
          "plot_bgcolor": "#E5ECF6",
          "polar": {
           "angularaxis": {
            "gridcolor": "white",
            "linecolor": "white",
            "ticks": ""
           },
           "bgcolor": "#E5ECF6",
           "radialaxis": {
            "gridcolor": "white",
            "linecolor": "white",
            "ticks": ""
           }
          },
          "scene": {
           "xaxis": {
            "backgroundcolor": "#E5ECF6",
            "gridcolor": "white",
            "gridwidth": 2,
            "linecolor": "white",
            "showbackground": true,
            "ticks": "",
            "zerolinecolor": "white"
           },
           "yaxis": {
            "backgroundcolor": "#E5ECF6",
            "gridcolor": "white",
            "gridwidth": 2,
            "linecolor": "white",
            "showbackground": true,
            "ticks": "",
            "zerolinecolor": "white"
           },
           "zaxis": {
            "backgroundcolor": "#E5ECF6",
            "gridcolor": "white",
            "gridwidth": 2,
            "linecolor": "white",
            "showbackground": true,
            "ticks": "",
            "zerolinecolor": "white"
           }
          },
          "shapedefaults": {
           "line": {
            "color": "#2a3f5f"
           }
          },
          "ternary": {
           "aaxis": {
            "gridcolor": "white",
            "linecolor": "white",
            "ticks": ""
           },
           "baxis": {
            "gridcolor": "white",
            "linecolor": "white",
            "ticks": ""
           },
           "bgcolor": "#E5ECF6",
           "caxis": {
            "gridcolor": "white",
            "linecolor": "white",
            "ticks": ""
           }
          },
          "title": {
           "x": 0.05
          },
          "xaxis": {
           "automargin": true,
           "gridcolor": "white",
           "linecolor": "white",
           "ticks": "",
           "title": {
            "standoff": 15
           },
           "zerolinecolor": "white",
           "zerolinewidth": 2
          },
          "yaxis": {
           "automargin": true,
           "gridcolor": "white",
           "linecolor": "white",
           "ticks": "",
           "title": {
            "standoff": 15
           },
           "zerolinecolor": "white",
           "zerolinewidth": 2
          }
         }
        },
        "xaxis": {
         "anchor": "y",
         "constrain": "domain",
         "domain": [
          0,
          1
         ],
         "scaleanchor": "y"
        },
        "yaxis": {
         "anchor": "x",
         "autorange": "reversed",
         "constrain": "domain",
         "domain": [
          0,
          1
         ]
        }
       }
      }
     },
     "metadata": {},
     "output_type": "display_data"
    }
   ],
   "source": [
    "#get the step test object\n",
    "res = model_0._get_step_test(params.to_dict(), 2000)\n",
    "print(res.ts_graph_vals['age_mixing_matrix'])\n",
    "# it is the \"real\" age_mixing matrix\n",
    "px.imshow(res.ts_graph_vals['age_mixing_matrix'])"
   ]
  },
  {
   "cell_type": "code",
   "execution_count": null,
   "metadata": {},
   "outputs": [],
   "source": [
    "model_0.graph.draw()"
   ]
  },
  {
   "cell_type": "code",
   "execution_count": 12,
   "metadata": {},
   "outputs": [
    {
     "data": {
      "application/vnd.plotly.v1+json": {
       "config": {
        "plotlyServerURL": "https://plot.ly"
       },
       "data": [
        {
         "hovertemplate": "index=%{x}<br>total_population=%{y}<extra></extra>",
         "legendgroup": "",
         "line": {
          "color": "#636efa",
          "dash": "solid"
         },
         "marker": {
          "symbol": "circle"
         },
         "mode": "lines",
         "name": "",
         "showlegend": false,
         "type": "scattergl",
         "x": [
          1900,
          1900.1,
          1900.2,
          1900.3,
          1900.4,
          1900.5,
          1900.6,
          1900.7,
          1900.8,
          1900.9,
          1901,
          1901.1,
          1901.2,
          1901.3,
          1901.4,
          1901.5,
          1901.6,
          1901.7,
          1901.8,
          1901.9,
          1902,
          1902.1,
          1902.2,
          1902.3,
          1902.4,
          1902.5,
          1902.6,
          1902.7,
          1902.8,
          1902.9,
          1903,
          1903.1,
          1903.2,
          1903.3,
          1903.4,
          1903.5,
          1903.6,
          1903.7,
          1903.8,
          1903.9,
          1904,
          1904.1,
          1904.2,
          1904.3,
          1904.4,
          1904.5,
          1904.6,
          1904.7,
          1904.8,
          1904.9,
          1905,
          1905.1,
          1905.2,
          1905.3,
          1905.4,
          1905.5,
          1905.6,
          1905.7,
          1905.8,
          1905.9,
          1906,
          1906.1,
          1906.2,
          1906.3,
          1906.4,
          1906.5,
          1906.6,
          1906.7,
          1906.8,
          1906.9,
          1907,
          1907.1,
          1907.2,
          1907.3,
          1907.4,
          1907.5,
          1907.6,
          1907.7,
          1907.8,
          1907.9,
          1908,
          1908.1,
          1908.2,
          1908.3,
          1908.4,
          1908.5,
          1908.6,
          1908.7,
          1908.8,
          1908.9,
          1909,
          1909.1,
          1909.2,
          1909.3,
          1909.4,
          1909.5,
          1909.6,
          1909.7,
          1909.8,
          1909.9,
          1910,
          1910.1,
          1910.2,
          1910.3,
          1910.4,
          1910.5,
          1910.6,
          1910.7,
          1910.8,
          1910.9,
          1911,
          1911.1,
          1911.2,
          1911.3,
          1911.4,
          1911.5,
          1911.6,
          1911.7,
          1911.8,
          1911.9,
          1912,
          1912.1,
          1912.2,
          1912.3,
          1912.4,
          1912.5,
          1912.6,
          1912.7,
          1912.8,
          1912.9,
          1913,
          1913.1,
          1913.2,
          1913.3,
          1913.4,
          1913.5,
          1913.6,
          1913.7,
          1913.8,
          1913.9,
          1914,
          1914.1,
          1914.2,
          1914.3,
          1914.4,
          1914.5,
          1914.6,
          1914.7,
          1914.8,
          1914.9,
          1915,
          1915.1,
          1915.2,
          1915.3,
          1915.4,
          1915.5,
          1915.6,
          1915.7,
          1915.8,
          1915.9,
          1916,
          1916.1,
          1916.2,
          1916.3,
          1916.4,
          1916.5,
          1916.6,
          1916.7,
          1916.8,
          1916.9,
          1917,
          1917.1,
          1917.2,
          1917.3,
          1917.4,
          1917.5,
          1917.6,
          1917.7,
          1917.8,
          1917.9,
          1918,
          1918.1,
          1918.2,
          1918.3,
          1918.4,
          1918.5,
          1918.6,
          1918.7,
          1918.8,
          1918.9,
          1919,
          1919.1,
          1919.2,
          1919.3,
          1919.4,
          1919.5,
          1919.6,
          1919.7,
          1919.8,
          1919.9,
          1920,
          1920.1,
          1920.2,
          1920.3,
          1920.4,
          1920.5,
          1920.6,
          1920.7,
          1920.8,
          1920.9,
          1921,
          1921.1,
          1921.2,
          1921.3,
          1921.4,
          1921.5,
          1921.6,
          1921.7,
          1921.8,
          1921.9,
          1922,
          1922.1,
          1922.2,
          1922.3,
          1922.4,
          1922.5,
          1922.6,
          1922.7,
          1922.8,
          1922.9,
          1923,
          1923.1,
          1923.2,
          1923.3,
          1923.4,
          1923.5,
          1923.6,
          1923.7,
          1923.8,
          1923.9,
          1924,
          1924.1,
          1924.2,
          1924.3,
          1924.4,
          1924.5,
          1924.6,
          1924.7,
          1924.8,
          1924.9,
          1925,
          1925.1,
          1925.2,
          1925.3,
          1925.4,
          1925.5,
          1925.6,
          1925.7,
          1925.8,
          1925.9,
          1926,
          1926.1,
          1926.2,
          1926.3,
          1926.4,
          1926.5,
          1926.6,
          1926.7,
          1926.8,
          1926.9,
          1927,
          1927.1,
          1927.2,
          1927.3,
          1927.4,
          1927.5,
          1927.6,
          1927.7,
          1927.8,
          1927.9,
          1928,
          1928.1,
          1928.2,
          1928.3,
          1928.4,
          1928.5,
          1928.6,
          1928.7,
          1928.8,
          1928.9,
          1929,
          1929.1,
          1929.2,
          1929.3,
          1929.4,
          1929.5,
          1929.6,
          1929.7,
          1929.8,
          1929.9,
          1930,
          1930.1,
          1930.2,
          1930.3,
          1930.4,
          1930.5,
          1930.6,
          1930.7,
          1930.8,
          1930.9,
          1931,
          1931.1,
          1931.2,
          1931.3,
          1931.4,
          1931.5,
          1931.6,
          1931.7,
          1931.8,
          1931.9,
          1932,
          1932.1,
          1932.2,
          1932.3,
          1932.4,
          1932.5,
          1932.6,
          1932.7,
          1932.8,
          1932.9,
          1933,
          1933.1,
          1933.2,
          1933.3,
          1933.4,
          1933.5,
          1933.6,
          1933.7,
          1933.8,
          1933.9,
          1934,
          1934.1,
          1934.2,
          1934.3,
          1934.4,
          1934.5,
          1934.6,
          1934.7,
          1934.8,
          1934.9,
          1935,
          1935.1,
          1935.2,
          1935.3,
          1935.4,
          1935.5,
          1935.6,
          1935.7,
          1935.8,
          1935.9,
          1936,
          1936.1,
          1936.2,
          1936.3,
          1936.4,
          1936.5,
          1936.6,
          1936.7,
          1936.8,
          1936.9,
          1937,
          1937.1,
          1937.2,
          1937.3,
          1937.4,
          1937.5,
          1937.6,
          1937.7,
          1937.8,
          1937.9,
          1938,
          1938.1,
          1938.2,
          1938.3,
          1938.4,
          1938.5,
          1938.6,
          1938.7,
          1938.8,
          1938.9,
          1939,
          1939.1,
          1939.2,
          1939.3,
          1939.4,
          1939.5,
          1939.6,
          1939.7,
          1939.8,
          1939.9,
          1940,
          1940.1,
          1940.2,
          1940.3,
          1940.4,
          1940.5,
          1940.6,
          1940.7,
          1940.8,
          1940.9,
          1941,
          1941.1,
          1941.2,
          1941.3,
          1941.4,
          1941.5,
          1941.6,
          1941.7,
          1941.8,
          1941.9,
          1942,
          1942.1,
          1942.2,
          1942.3,
          1942.4,
          1942.5,
          1942.6,
          1942.7,
          1942.8,
          1942.9,
          1943,
          1943.1,
          1943.2,
          1943.3,
          1943.4,
          1943.5,
          1943.6,
          1943.7,
          1943.8,
          1943.9,
          1944,
          1944.1,
          1944.2,
          1944.3,
          1944.4,
          1944.5,
          1944.6,
          1944.7,
          1944.8,
          1944.9,
          1945,
          1945.1,
          1945.2,
          1945.3,
          1945.4,
          1945.5,
          1945.6,
          1945.7,
          1945.8,
          1945.9,
          1946,
          1946.1,
          1946.2,
          1946.3,
          1946.4,
          1946.5,
          1946.6,
          1946.7,
          1946.8,
          1946.9,
          1947,
          1947.1,
          1947.2,
          1947.3,
          1947.4,
          1947.5,
          1947.6,
          1947.7,
          1947.8,
          1947.9,
          1948,
          1948.1,
          1948.2,
          1948.3,
          1948.4,
          1948.5,
          1948.6,
          1948.7,
          1948.8,
          1948.9,
          1949,
          1949.1,
          1949.2,
          1949.3,
          1949.4,
          1949.5,
          1949.6,
          1949.7,
          1949.8,
          1949.9,
          1950,
          1950.1,
          1950.2,
          1950.3,
          1950.4,
          1950.5,
          1950.6,
          1950.7,
          1950.8,
          1950.9,
          1951,
          1951.1,
          1951.2,
          1951.3,
          1951.4,
          1951.5,
          1951.6,
          1951.7,
          1951.8,
          1951.9,
          1952,
          1952.1,
          1952.2,
          1952.3,
          1952.4,
          1952.5,
          1952.6,
          1952.7,
          1952.8,
          1952.9,
          1953,
          1953.1,
          1953.2,
          1953.3,
          1953.4,
          1953.5,
          1953.6,
          1953.7,
          1953.8,
          1953.9,
          1954,
          1954.1,
          1954.2,
          1954.3,
          1954.4,
          1954.5,
          1954.6,
          1954.7,
          1954.8,
          1954.9,
          1955,
          1955.1,
          1955.2,
          1955.3,
          1955.4,
          1955.5,
          1955.6,
          1955.7,
          1955.8,
          1955.9,
          1956,
          1956.1,
          1956.2,
          1956.3,
          1956.4,
          1956.5,
          1956.6,
          1956.7,
          1956.8,
          1956.9,
          1957,
          1957.1,
          1957.2,
          1957.3,
          1957.4,
          1957.5,
          1957.6,
          1957.7,
          1957.8,
          1957.9,
          1958,
          1958.1,
          1958.2,
          1958.3,
          1958.4,
          1958.5,
          1958.6,
          1958.7,
          1958.8,
          1958.9,
          1959,
          1959.1,
          1959.2,
          1959.3,
          1959.4,
          1959.5,
          1959.6,
          1959.7,
          1959.8,
          1959.9,
          1960,
          1960.1,
          1960.2,
          1960.3,
          1960.4,
          1960.5,
          1960.6,
          1960.7,
          1960.8,
          1960.9,
          1961,
          1961.1,
          1961.2,
          1961.3,
          1961.4,
          1961.5,
          1961.6,
          1961.7,
          1961.8,
          1961.9,
          1962,
          1962.1,
          1962.2,
          1962.3,
          1962.4,
          1962.5,
          1962.6,
          1962.7,
          1962.8,
          1962.9,
          1963,
          1963.1,
          1963.2,
          1963.3,
          1963.4,
          1963.5,
          1963.6,
          1963.7,
          1963.8,
          1963.9,
          1964,
          1964.1,
          1964.2,
          1964.3,
          1964.4,
          1964.5,
          1964.6,
          1964.7,
          1964.8,
          1964.9,
          1965,
          1965.1,
          1965.2,
          1965.3,
          1965.4,
          1965.5,
          1965.6,
          1965.7,
          1965.8,
          1965.9,
          1966,
          1966.1,
          1966.2,
          1966.3,
          1966.4,
          1966.5,
          1966.6,
          1966.7,
          1966.8,
          1966.9,
          1967,
          1967.1,
          1967.2,
          1967.3,
          1967.4,
          1967.5,
          1967.6,
          1967.7,
          1967.8,
          1967.9,
          1968,
          1968.1,
          1968.2,
          1968.3,
          1968.4,
          1968.5,
          1968.6,
          1968.7,
          1968.8,
          1968.9,
          1969,
          1969.1,
          1969.2,
          1969.3,
          1969.4,
          1969.5,
          1969.6,
          1969.7,
          1969.8,
          1969.9,
          1970,
          1970.1,
          1970.2,
          1970.3,
          1970.4,
          1970.5,
          1970.6,
          1970.7,
          1970.8,
          1970.9,
          1971,
          1971.1,
          1971.2,
          1971.3,
          1971.4,
          1971.5,
          1971.6,
          1971.7,
          1971.8,
          1971.9,
          1972,
          1972.1,
          1972.2,
          1972.3,
          1972.4,
          1972.5,
          1972.6,
          1972.7,
          1972.8,
          1972.9,
          1973,
          1973.1,
          1973.2,
          1973.3,
          1973.4,
          1973.5,
          1973.6,
          1973.7,
          1973.8,
          1973.9,
          1974,
          1974.1,
          1974.2,
          1974.3,
          1974.4,
          1974.5,
          1974.6,
          1974.7,
          1974.8,
          1974.9,
          1975,
          1975.1,
          1975.2,
          1975.3,
          1975.4,
          1975.5,
          1975.6,
          1975.7,
          1975.8,
          1975.9,
          1976,
          1976.1,
          1976.2,
          1976.3,
          1976.4,
          1976.5,
          1976.6,
          1976.7,
          1976.8,
          1976.9,
          1977,
          1977.1,
          1977.2,
          1977.3,
          1977.4,
          1977.5,
          1977.6,
          1977.7,
          1977.8,
          1977.9,
          1978,
          1978.1,
          1978.2,
          1978.3,
          1978.4,
          1978.5,
          1978.6,
          1978.7,
          1978.8,
          1978.9,
          1979,
          1979.1,
          1979.2,
          1979.3,
          1979.4,
          1979.5,
          1979.6,
          1979.7,
          1979.8,
          1979.9,
          1980,
          1980.1,
          1980.2,
          1980.3,
          1980.4,
          1980.5,
          1980.6,
          1980.7,
          1980.8,
          1980.9,
          1981,
          1981.1,
          1981.2,
          1981.3,
          1981.4,
          1981.5,
          1981.6,
          1981.7,
          1981.8,
          1981.9,
          1982,
          1982.1,
          1982.2,
          1982.3,
          1982.4,
          1982.5,
          1982.6,
          1982.7,
          1982.8,
          1982.9,
          1983,
          1983.1,
          1983.2,
          1983.3,
          1983.4,
          1983.5,
          1983.6,
          1983.7,
          1983.8,
          1983.9,
          1984,
          1984.1,
          1984.2,
          1984.3,
          1984.4,
          1984.5,
          1984.6,
          1984.7,
          1984.8,
          1984.9,
          1985,
          1985.1,
          1985.2,
          1985.3,
          1985.4,
          1985.5,
          1985.6,
          1985.7,
          1985.8,
          1985.9,
          1986,
          1986.1,
          1986.2,
          1986.3,
          1986.4,
          1986.5,
          1986.6,
          1986.7,
          1986.8,
          1986.9,
          1987,
          1987.1,
          1987.2,
          1987.3,
          1987.4,
          1987.5,
          1987.6,
          1987.7,
          1987.8,
          1987.9,
          1988,
          1988.1,
          1988.2,
          1988.3,
          1988.4,
          1988.5,
          1988.6,
          1988.7,
          1988.8,
          1988.9,
          1989,
          1989.1,
          1989.2,
          1989.3,
          1989.4,
          1989.5,
          1989.6,
          1989.7,
          1989.8,
          1989.9,
          1990,
          1990.1,
          1990.2,
          1990.3,
          1990.4,
          1990.5,
          1990.6,
          1990.7,
          1990.8,
          1990.9,
          1991,
          1991.1,
          1991.2,
          1991.3,
          1991.4,
          1991.5,
          1991.6,
          1991.7,
          1991.8,
          1991.9,
          1992,
          1992.1,
          1992.2,
          1992.3,
          1992.4,
          1992.5,
          1992.6,
          1992.7,
          1992.8,
          1992.9,
          1993,
          1993.1,
          1993.2,
          1993.3,
          1993.4,
          1993.5,
          1993.6,
          1993.7,
          1993.8,
          1993.9,
          1994,
          1994.1,
          1994.2,
          1994.3,
          1994.4,
          1994.5,
          1994.6,
          1994.7,
          1994.8,
          1994.9,
          1995,
          1995.1,
          1995.2,
          1995.3,
          1995.4,
          1995.5,
          1995.6,
          1995.7,
          1995.8,
          1995.9,
          1996,
          1996.1,
          1996.2,
          1996.3,
          1996.4,
          1996.5,
          1996.6,
          1996.7,
          1996.8,
          1996.9,
          1997,
          1997.1,
          1997.2,
          1997.3,
          1997.4,
          1997.5,
          1997.6,
          1997.7,
          1997.8,
          1997.9,
          1998,
          1998.1,
          1998.2,
          1998.3,
          1998.4,
          1998.5,
          1998.6,
          1998.7,
          1998.8,
          1998.9,
          1999,
          1999.1,
          1999.2,
          1999.3,
          1999.4,
          1999.5,
          1999.6,
          1999.7,
          1999.8,
          1999.9,
          2000,
          2000.1,
          2000.2,
          2000.3,
          2000.4,
          2000.5,
          2000.6,
          2000.7,
          2000.8,
          2000.9,
          2001,
          2001.1,
          2001.2,
          2001.3,
          2001.4,
          2001.5,
          2001.6,
          2001.7,
          2001.8,
          2001.9,
          2002,
          2002.1,
          2002.2,
          2002.3,
          2002.4,
          2002.5,
          2002.6,
          2002.7,
          2002.8,
          2002.9,
          2003,
          2003.1,
          2003.2,
          2003.3,
          2003.4,
          2003.5,
          2003.6,
          2003.7,
          2003.8,
          2003.9,
          2004,
          2004.1,
          2004.2,
          2004.3,
          2004.4,
          2004.5,
          2004.6,
          2004.7,
          2004.8,
          2004.9,
          2005,
          2005.1,
          2005.2,
          2005.3,
          2005.4,
          2005.5,
          2005.6,
          2005.7,
          2005.8,
          2005.9,
          2006,
          2006.1,
          2006.2,
          2006.3,
          2006.4,
          2006.5,
          2006.6,
          2006.7,
          2006.8,
          2006.9,
          2007,
          2007.1,
          2007.2,
          2007.3,
          2007.4,
          2007.5,
          2007.6,
          2007.7,
          2007.8,
          2007.9,
          2008,
          2008.1,
          2008.2,
          2008.3,
          2008.4,
          2008.5,
          2008.6,
          2008.7,
          2008.8,
          2008.9,
          2009,
          2009.1,
          2009.2,
          2009.3,
          2009.4,
          2009.5,
          2009.6,
          2009.7,
          2009.8,
          2009.9,
          2010,
          2010.1,
          2010.2,
          2010.3,
          2010.4,
          2010.5,
          2010.6,
          2010.7,
          2010.8,
          2010.9,
          2011,
          2011.1,
          2011.2,
          2011.3,
          2011.4,
          2011.5,
          2011.6,
          2011.7,
          2011.8,
          2011.9,
          2012,
          2012.1,
          2012.2,
          2012.3,
          2012.4,
          2012.5,
          2012.6,
          2012.7,
          2012.8,
          2012.9,
          2013,
          2013.1,
          2013.2,
          2013.3,
          2013.4,
          2013.5,
          2013.6,
          2013.7,
          2013.8,
          2013.9,
          2014,
          2014.1,
          2014.2,
          2014.3,
          2014.4,
          2014.5,
          2014.6,
          2014.7,
          2014.8,
          2014.9,
          2015,
          2015.1,
          2015.2,
          2015.3,
          2015.4,
          2015.5,
          2015.6,
          2015.7,
          2015.8,
          2015.9,
          2016,
          2016.1,
          2016.2,
          2016.3,
          2016.4,
          2016.5,
          2016.6,
          2016.7,
          2016.8,
          2016.9,
          2017,
          2017.1,
          2017.2,
          2017.3,
          2017.4,
          2017.5,
          2017.6,
          2017.7,
          2017.8,
          2017.9,
          2018,
          2018.1,
          2018.2,
          2018.3,
          2018.4,
          2018.5,
          2018.6,
          2018.7,
          2018.8,
          2018.9,
          2019,
          2019.1,
          2019.2,
          2019.3,
          2019.4,
          2019.5,
          2019.6,
          2019.7,
          2019.8,
          2019.9,
          2020
         ],
         "xaxis": "x",
         "y": [
          299694.87713113584,
          299639.5296463523,
          299591.45158210554,
          299550.5650869546,
          299516.7938321396,
          299490.06276226277,
          299470.29795450746,
          299457.42658590496,
          299451.3768512154,
          299452.07795149443,
          299459.4600771558,
          299473.4543541983,
          299493.99285622477,
          299521.0085934356,
          299554.4354600931,
          299594.20822772465,
          299640.2625456167,
          299692.53495310753,
          299750.9628038023,
          299815.48425512697,
          299886.0382682847,
          299962.56461790355,
          300045.0038821983,
          300133.297378731,
          300227.3871553575,
          300327.21599805926,
          300432.72745289904,
          300543.8657604551,
          300660.57583239133,
          300782.80325203575,
          300910.4942995139,
          301043.59592580143,
          301182.0556943409,
          301325.82177791966,
          301474.84296809154,
          301629.06870703935,
          301788.4490120022,
          301952.9344459869,
          302122.47611853515,
          302297.02572556934,
          302476.535538684,
          302660.95831811224,
          302850.24730574246,
          303044.35623734974,
          303243.2394093543,
          303446.8515871707,
          303655.14795208,
          303868.08410129737,
          304085.6161008832,
          304307.7005116786,
          304534.29425606393,
          304765.3546020431,
          305000.8391734411,
          305240.7060554564,
          305484.9137031416,
          305733.42084186134,
          305986.1864660234,
          306243.1698927722,
          306504.33085299685,
          306769.6292988889,
          307039.0253653057,
          307312.4793755977,
          307589.95197920006,
          307871.4040952758,
          308156.79673201335,
          308446.09097999724,
          308739.24805518973,
          309036.2294795111,
          309336.99683951825,
          309641.5116802609,
          309949.73550589517,
          310261.62991751754,
          310577.1567213174,
          310896.2775692751,
          311218.9539087173,
          311545.14699480473,
          311874.8181918284,
          312207.9288716768,
          312544.4400062173,
          312884.31214860623,
          313227.5055042925,
          313573.9804343929,
          313923.69697585306,
          314276.61447549326,
          314632.69158801076,
          314991.8865287459,
          315354.15766677866,
          315719.46257439256,
          316087.75778233196,
          316458.99878696894,
          316833.1407281757,
          317210.13868254167,
          317589.94636130915,
          317972.5159849207,
          318357.7983635877,
          318745.74426671804,
          319136.3038547209,
          319529.4252544393,
          319925.0545197832,
          320323.1360153834,
          320723.6146025588,
          321126.43356601725,
          321531.5333592707,
          321938.85160429485,
          322348.32441153703,
          322759.8889086271,
          323173.4792469543,
          323589.0257519828,
          324006.4549820425,
          324425.69328664505,
          324846.66794085864,
          325269.30152521905,
          325693.5114826768,
          326119.2109311531,
          326546.31606249313,
          326974.74065733416,
          327404.39247460273,
          327835.17362871807,
          328266.98663724324,
          328699.73453496903,
          329133.3142345291,
          329567.6163715555,
          330002.5287833752,
          330437.9440935405,
          330873.7496312498,
          331309.82496342144,
          331746.0428383907,
          332182.2828773117,
          332618.4268350437,
          333054.3468036935,
          333489.9049485163,
          333924.9633175496,
          334359.40106237377,
          334793.0894802944,
          335225.88733925164,
          335657.64456605527,
          336088.2345094345,
          336517.5310861258,
          336945.396376277,
          337371.68517386564,
          337796.2731150681,
          338219.04036200437,
          338639.8573901808,
          339058.58846777555,
          339475.1235475784,
          339889.3623126113,
          340301.1936136857,
          340710.49778701086,
          341117.1863063277,
          341521.19038832467,
          341922.4288787347,
          342320.8091515913,
          342716.26970156457,
          343108.781889049,
          343498.3039437439,
          343884.7800610238,
          344268.1803141437,
          344648.52098442096,
          345025.80555345764,
          345400.02155985043,
          345771.1729600667,
          346139.320531073,
          346504.51399457635,
          346866.78590740706,
          347226.1742871236,
          347582.7782227411,
          347936.68955837016,
          348287.982201691,
          348636.72629245976,
          348983.0486023356,
          349327.07466295967,
          349668.9118102857,
          350008.6572585577,
          350346.453777244,
          350682.4493298844,
          351016.77414868405,
          351349.5447007317,
          351680.9080932491,
          352011.0245737799,
          352340.03709033463,
          352668.07220272504,
          352995.26737583237,
          353321.78616048355,
          353647.77642150084,
          353973.36916874925,
          354298.6849847038,
          354623.87416193367,
          354949.08387189667,
          355274.44372725283,
          355600.0664988822,
          355926.06828205753,
          356252.5884722123,
          356579.750573227,
          356907.66181165446,
          357236.41446511465,
          357566.1171885309,
          357896.88533245656,
          358228.81753297563,
          358561.9971901511,
          358896.49802175694,
          359232.4154491418,
          359569.8384939877,
          359908.84145668463,
          360249.4846898919,
          360591.82762221777,
          360935.94777101174,
          361281.9100372113,
          361629.7665620814,
          361979.5572625503,
          362331.3315701448,
          362685.14694119664,
          363041.0479881385,
          363399.0675304416,
          363759.22962636733,
          364121.5751263609,
          364486.1435051243,
          364852.9622992094,
          365222.0478229874,
          365593.4138841283,
          365967.09321943467,
          366343.11024687166,
          366721.4782384679,
          367102.19961065234,
          367485.28444128454,
          367870.75640098396,
          368258.62792633486,
          368648.90028029546,
          369041.56563889387,
          369436.634381165,
          369834.12130768684,
          370234.02895277616,
          370636.3482359035,
          371041.0661709514,
          371448.19478819217,
          371857.7406524448,
          372269.69775724015,
          372684.0478351612,
          373100.7798418149,
          373519.90524186357,
          373941.4234964415,
          374365.32090705767,
          374791.5722346012,
          375220.17394664144,
          375651.1340693622,
          376084.445808204,
          376520.0882069691,
          376958.0351471825,
          377398.2927091545,
          377840.85775249766,
          378285.71499027044,
          378732.8412434473,
          379182.23141323676,
          379633.88003580755,
          380087.7739875549,
          380543.8940040357,
          381002.227763132,
          381462.77031349007,
          381925.5109507872,
          382390.4331333864,
          382857.5159427961,
          383326.75127105013,
          383798.1359817248,
          384271.65875697543,
          384747.2999102881,
          385225.03489588154,
          385704.8610136965,
          386186.77394854167,
          386670.75936731684,
          387156.7947341872,
          387644.8686296819,
          388134.9768638273,
          388627.10786961537,
          389121.2438969399,
          389617.3671928408,
          390115.4735253388,
          390615.5550608781,
          391117.59790110606,
          391621.5822120374,
          392127.49421450763,
          392635.3328363486,
          393145.09045547154,
          393656.7514868125,
          394170.29313775385,
          394685.70727647695,
          395202.99325257493,
          395722.1408440535,
          396243.1318677405,
          396765.9502973765,
          397290.59474286746,
          397817.0575077412,
          398345.32502790116,
          398875.37962214404,
          399407.2153602118,
          399940.8284180872,
          400476.20907811576,
          401013.3419718518,
          401552.2109839386,
          402092.8150210966,
          402635.15052458725,
          403179.20682544704,
          403724.9661950585,
          404272.4135879546,
          404821.55254818156,
          405372.3805147504,
          405924.8855536374,
          406479.04652679554,
          407034.8545118433,
          407592.313651008,
          408151.4169562086,
          408712.1495656597,
          409274.4990378436,
          409838.46523934905,
          410404.04208192247,
          410971.2189455612,
          411539.98322042846,
          412110.3318971968,
          412682.26143149525,
          413255.7640932625,
          413830.82805339526,
          414407.441811205,
          414985.60579755524,
          415565.31823523203,
          416146.57123135426,
          416729.35077924543,
          417313.64436427533,
          417899.4562587906,
          418486.7836367859,
          419075.6169417784,
          419665.9424689841,
          420257.7590390138,
          420851.0649867742,
          421445.85370479536,
          422042.1142929342,
          422639.83985419804,
          423239.0306185838,
          423839.6829221984,
          424441.7888879986,
          425045.336858437,
          425650.32263067656,
          426256.74852194166,
          426864.6113923259,
          427473.9022513846,
          428084.6072352827,
          428696.7254179132,
          429310.25938024797,
          429925.2044116108,
          430541.5497455371,
          431159.2878040214,
          431778.4207736662,
          432398.94583371707,
          433020.8559399207,
          433644.1413888634,
          434268.80134907603,
          434894.83582797257,
          435522.2406640161,
          436151.00769036653,
          436781.1277682926,
          437412.6028245711,
          438045.4338016562,
          438679.61624116625,
          439315.14032058563,
          439951.99654793553,
          440590.1898644939,
          441229.72008051706,
          441870.58121875685,
          442512.76278094837,
          443156.2640515888,
          443801.0864120991,
          444447.2264784196,
          445094.6767862693,
          445743.4307376877,
          446393.4905334356,
          447044.85546475166,
          447697.52093759767,
          448351.4785355638,
          449006.72367115674,
          449663.2601478525,
          450321.0876243857,
          450980.2006963572,
          451640.58908339834,
          452302.2502125533,
          452965.1887896564,
          453629.40318710095,
          454294.8864571489,
          454961.63038108835,
          455629.6380946962,
          456298.90980831714,
          456969.44158987846,
          457641.2257639222,
          458314.2598143317,
          458988.5463441554,
          459664.08409239573,
          460340.8680033585,
          461018.8899878659,
          461698.1499443933,
          462378.6513644933,
          463060.3928895409,
          463743.36830056104,
          464427.5681870083,
          465112.995245558,
          465799.6525677932,
          466487.53747627925,
          467176.6421832994,
          467866.96234726004,
          468558.501910937,
          469251.2603024313,
          469945.23302208696,
          470640.41281846236,
          471336.8005086226,
          472034.3982486489,
          472733.2042283876,
          473433.21287676017,
          474134.41726032924,
          474836.8204410831,
          475540.42498833145,
          476245.22864967,
          476951.2244181878,
          477658.4042101884,
          478366.77358085546,
          479076.3366430724,
          479787.09078911575,
          480499.02675391635,
          481212.13652750675,
          481926.428691237,
          482641.90430421254,
          483358.5583665596,
          484076.382972142,
          484795.38116376294,
          485515.5538579136,
          486236.89834629354,
          486959.40902927425,
          487683.08480403357,
          488407.92763847066,
          489133.936667915,
          489861.10828017484,
          490589.436488073,
          491318.9209070505,
          492049.565689226,
          492781.3709059863,
          493514.3321760422,
          494248.4408107839,
          494983.6959969906,
          495720.1038664158,
          496457.66381799965,
          497196.3699129497,
          497936.21654261544,
          498677.2078921215,
          499419.3442666783,
          500162.62258303375,
          500907.0370731577,
          501652.5879400356,
          502399.27762513456,
          503147.10530760256,
          503896.06701217405,
          504646.1563758326,
          505397.37456444366,
          506149.72615762125,
          506903.21097248734,
          507657.8239058052,
          508413.55579001945,
          509170.40917589335,
          509928.3894156594,
          510687.4951407681,
          511447.71948503924,
          512209.0590550078,
          512971.5182935864,
          513735.0971475189,
          514499.79205457127,
          515265.59744621604,
          516032.5152012595,
          516800.5475010382,
          517569.693152027,
          518339.9477011442,
          519111.3052454893,
          519883.7691477632,
          520657.34343366534,
          521432.0271516763,
          522207.81436985056,
          522984.69656436954,
          523762.67935955524,
          524541.7668778929,
          525321.9568849768,
          526103.2418169904,
          526885.6208729772,
          527669.0983368185,
          528453.6738221273,
          529239.3432362131,
          530026.1015101738,
          530813.9519523405,
          531602.896576463,
          532392.9338585178,
          533184.0587936261,
          533976.2662912359,
          534769.5615003449,
          535563.9480007795,
          536359.4241607606,
          537155.9831436514,
          537953.6178262304,
          538752.3361177593,
          539552.1410604003,
          540353.0295563041,
          541154.9936975146,
          541958.0353012433,
          542762.1583697269,
          543567.3621701287,
          544373.642027864,
          545180.993940375,
          545989.4224014797,
          546798.9292480394,
          547609.5125908946,
          548421.1668251547,
          549233.8884605776,
          550047.6840041185,
          550862.556564655,
          551678.5037936576,
          552495.517885175,
          553313.5943763091,
          554132.7424218166,
          554952.9641597744,
          555774.2555970966,
          556596.6090459516,
          557420.0289081462,
          558244.5188230426,
          559070.0777008674,
          559896.7002019901,
          560724.3833830074,
          561553.1526711066,
          562383.0362950311,
          563214.0566380413,
          564046.2308133163,
          564879.5918581949,
          565714.1916285139,
          566550.1001629115,
          567387.4099991015,
          568226.2365703427,
          569066.7509287975,
          569909.1876088742,
          570753.8739172564,
          571601.2491256557,
          572451.8907849329,
          573306.5819013938,
          574166.3652535869,
          575032.6321292032,
          575907.1213785665,
          576791.9925322825,
          577690.009266631,
          578604.1807294479,
          579537.6941006912,
          580493.8707215941,
          581475.5678425359,
          582484.7759252813,
          583522.2586510669,
          584587.4911679511,
          585678.6979202651,
          586793.2231754814,
          587927.8811300292,
          589079.5525712036,
          590245.2575128783,
          591422.296049889,
          592608.5299841881,
          593802.199816737,
          595001.9064953197,
          596206.6009705329,
          597415.4944610876,
          598628.0120369468,
          599843.7034036644,
          601062.2317505411,
          602283.3681596823,
          603506.9477427432,
          604732.8609008312,
          605961.0212720238,
          607191.3612148031,
          608423.8317334922,
          609658.4090046496,
          610895.0937799386,
          612133.8742843259,
          613374.720779044,
          614617.6120782694,
          615862.571222173,
          617109.6110918362,
          618358.7392964298,
          619609.9592039081,
          620863.2826398115,
          622118.724255544,
          623376.2929101067,
          624635.9917906267,
          625897.8192192409,
          627161.7823486399,
          628427.892055238,
          629696.1482954707,
          630966.5396018758,
          632239.0438186171,
          633513.648087874,
          634790.3383047873,
          636069.0823131682,
          637349.8315599415,
          638632.5334938532,
          639917.1437620952,
          641203.6168146383,
          642491.9150380035,
          643782.0100966338,
          645073.9089931784,
          646367.653386507,
          647663.2963554544,
          648960.9015506097,
          650260.5423817383,
          651562.299382702,
          652866.2551645405,
          654172.4760563129,
          655481.0103421523,
          656791.8886461534,
          658105.1496967543,
          659420.8370820871,
          660738.9765301407,
          662059.579810034,
          663382.6589781349,
          664708.2380285403,
          666036.3318470266,
          667366.9486558489,
          668700.0925763407,
          670035.7781175147,
          671374.0193942247,
          672714.8252456277,
          674058.1993894227,
          675404.1441901473,
          676752.6728834583,
          678103.7914214974,
          679457.4975381794,
          680813.7810906728,
          682172.6251999517,
          683534.0284878394,
          684897.987868962,
          686264.4780991239,
          687633.4529572086,
          689004.8571833048,
          690378.630071168,
          691754.6673301823,
          693132.8163100737,
          694512.8701289727,
          695894.5679155432,
          697277.556912482,
          698661.3327775064,
          700045.2376946983,
          701428.4641254724,
          702809.9587033265,
          704188.4327954286,
          705562.4780554194,
          706930.569444332,
          708291.0899622178,
          709642.6825658673,
          710984.4081802049,
          712315.8960489768,
          713637.3799779864,
          714949.6538756269,
          716254.0364488314,
          717551.985189073,
          718844.959421407,
          720134.4053708575,
          721421.5763319178,
          722707.5035930037,
          723993.0335097956,
          725278.8244423618,
          726565.3619899014,
          727853.0392934,
          729142.1524228117,
          730432.925793645,
          731725.5149562112,
          733020.02187434,
          734316.5530340165,
          735615.1838855895,
          736915.9638371886,
          738218.918601065,
          739524.0802213798,
          740831.4822363186,
          742141.1443163409,
          743453.0745724288,
          744767.2717021574,
          746083.7390551886,
          747402.4743601986,
          748723.4616580383,
          750046.6712597834,
          751372.0649245427,
          752699.6141294944,
          754029.2632685378,
          755360.916095636,
          756694.4357240035,
          758029.6446717026,
          759366.3311238958,
          760704.1767155901,
          762042.7260176888,
          763381.3819447415,
          764719.3713989786,
          766055.6865947434,
          767388.9961831481,
          768717.637202342,
          770039.6654142507,
          771352.6912534771,
          772654.2136421349,
          773941.9154796492,
          775213.6646655713,
          776467.8184585903,
          777703.9539640194,
          778922.5090339733,
          780124.69277453,
          781312.4855457498,
          782488.3557022085,
          783654.7152765411,
          784813.821835737,
          785967.6286755685,
          787117.7871824512,
          788265.6290462133,
          789412.1868578464,
          790558.2739932059,
          791704.4895439487,
          792851.2703592773,
          793998.9615630629,
          795147.8182258422,
          796298.0289491897,
          797449.7165340582,
          798602.9762828088,
          799757.8949581587,
          800914.5324892605,
          802072.9257515722,
          803233.088787436,
          804395.039255968,
          805558.824598257,
          806724.4776465035,
          807892.0108216658,
          809061.4175826198,
          810232.7153184549,
          811405.9346293916,
          812581.094867217,
          813758.2089018981,
          814937.3050218103,
          816118.4381195334,
          817301.6717937705,
          818487.0853080313,
          819674.7825309532,
          820864.9170116319,
          822057.6915128772,
          823253.3850928297,
          824452.3544254976,
          825655.0452697711,
          826862.0749966408,
          828074.2108662858,
          829292.3385191706,
          830517.4618181274,
          831750.6880616948,
          832993.1133630887,
          834245.6917460142,
          835508.9951988198,
          836783.1890575399,
          838068.0257260795,
          839362.7421955517,
          840666.3434748868,
          841977.702606849,
          843295.5824911306,
          844618.8779780035,
          845946.6484305135,
          847278.0952578055,
          848612.568799039,
          849949.5648946338,
          851288.7172907477,
          852629.7617355973,
          853972.4838502211,
          855316.7165410059,
          856662.3426615687,
          858009.3015078896,
          859357.5493198645,
          860707.0454988832,
          862057.7534909014,
          863409.6622708777,
          864762.7759190293,
          866117.0930422248,
          867472.6079340002,
          868829.3150078894,
          870187.222832591,
          871546.3389208412,
          872906.6664385091,
          874268.2042749161,
          875630.9529828466,
          876994.9293660946,
          878360.1434029323,
          879726.591762805,
          881094.2578071699,
          882463.1223842786,
          883833.1862006295,
          885204.4290877911,
          886576.8054813773,
          887950.2458781151,
          889324.6777746067,
          890700.0060385334,
          892076.0863565552,
          893452.7248632932,
          894829.6874334917,
          896206.6902024109,
          897583.4048641896,
          898959.4850640066,
          900334.566578949,
          901708.313002727,
          903080.5148231643,
          904451.0757620276,
          905820.0199753582,
          907187.4920534635,
          908553.7465690651,
          909919.1094268522,
          911283.9047966531,
          912648.4219208572,
          914012.9163265114,
          915377.6187847368,
          916742.7177573489,
          918108.3597284092,
          919474.6506848916,
          920841.6697536253,
          922209.4958063449,
          923578.1872037872,
          924947.7844229911,
          926318.3101598015,
          927689.7859849029,
          929062.2473227272,
          930435.7183911334,
          931810.2111430581,
          933185.7253292776,
          934562.2675273375,
          935939.8682109311,
          937318.5457353174,
          938698.3028814042,
          940079.1270760471,
          941461.0232840772,
          942844.0163008233,
          944228.1118179536,
          945613.3014554316,
          946999.5762090718,
          948386.9455677285,
          949775.4052223664,
          951164.9381508653,
          952555.5159464425,
          953947.1142437974,
          955339.6987881898,
          956733.207354992,
          958127.5493105324,
          959522.605475746,
          960918.2337028217,
          962314.2513342081,
          963710.4162835272,
          965106.4265107278,
          966501.9244657806,
          967896.5464844767,
          969289.9208333587,
          970681.7297031799,
          972071.7225741273,
          973459.7624875196,
          974845.9024786467,
          976230.2934419374,
          977613.1673317263,
          978994.8286037927,
          980375.6024472925,
          981755.8002987691,
          983135.6858840886,
          984515.4731136645,
          985895.3383998432,
          987275.4440314767,
          988655.9082416742,
          990036.8169281948,
          991418.2404474418,
          992800.2344478488,
          994182.8681226588,
          995566.4321133625,
          996951.363553156,
          998338.1030033323,
          999727.0030350701,
          1001118.3316876158,
          1002512.2811947927,
          1003909.0038221262,
          1005308.6135580144,
          1006711.1747562543,
          1008116.7773320611,
          1009525.5577673523,
          1010937.7298969924,
          1012353.4842737339,
          1013772.9470200839,
          1015196.2150659383,
          1016623.329327155,
          1018054.2974760185,
          1019489.0994204512,
          1020927.6376358856,
          1022369.7807117964,
          1023815.410615824,
          1025264.3739213463,
          1026716.3773195266,
          1028170.9944275167,
          1029627.6535135068,
          1031085.5789585077,
          1032543.7296411365,
          1034000.8204873396,
          1035455.315414146,
          1036905.4194442416,
          1038349.2493638352,
          1039784.9905435942,
          1041211.0180670309,
          1042626.164596536,
          1044029.9419630204,
          1045422.577913285,
          1046804.9915997956,
          1048178.5986605182,
          1049545.008995441,
          1050905.979041527,
          1052263.1596950123,
          1053618.0133892866,
          1054971.7503906286,
          1056325.3373052762,
          1057679.5138470903,
          1059034.8464262898,
          1060391.7509002283,
          1061750.5203394126,
          1063111.3716312423,
          1064474.4813644735,
          1065839.9862312921,
          1067207.9822881469,
          1068578.536113565,
          1069951.6906361987,
          1071327.464917164,
          1072705.8546891739,
          1074086.8631409763,
          1075470.4859545438,
          1076856.6680073522,
          1078245.3018999507,
          1079636.255045078,
          1081029.4232546869,
          1082424.6963214835,
          1083821.9606111527,
          1085221.1160748177,
          1086622.0441201983,
          1088024.5679348807,
          1089428.4102372683,
          1090833.1716816372,
          1092238.2852085428,
          1093643.0135540033,
          1095046.3883264572,
          1096447.1205566353,
          1097843.5073714394,
          1099233.3335722114,
          1100613.6773692614,
          1101980.8321404308,
          1103330.1703525127,
          1104656.0978876587,
          1105952.289521268,
          1107211.829285265,
          1108427.8342680107,
          1109594.4587750945,
          1110707.566691579,
          1111765.5074033877,
          1112769.4296847435,
          1113723.021465662,
          1114631.7638217204,
          1115502.184758418,
          1116341.0161924665,
          1117154.5320311822,
          1117948.1500921727,
          1118726.3359015593,
          1119492.6547405813,
          1120249.8899784419,
          1121000.1742774362,
          1121745.1011887952,
          1122485.8567934122,
          1123223.3033292769,
          1123958.062030234,
          1124690.5829827702,
          1125421.1792482617,
          1126150.0695092878,
          1126877.4006773487,
          1127603.2533627138,
          1128327.665358016,
          1129050.6530020433,
          1129772.2253544042,
          1130492.3931673348,
          1131211.182624147,
          1131928.6024979854,
          1132644.6259632257,
          1133359.2213036946,
          1134072.35850604,
          1134784.010278832,
          1135494.148309111,
          1136202.729502394,
          1136909.6849701235,
          1137614.9157129664,
          1138318.2919200137,
          1139019.6378729613,
          1139718.7172760933,
          1140415.2175262629,
          1141108.7239607973,
          1141798.6965370993,
          1142484.4340246615,
          1143165.0458213165,
          1143839.42707828,
          1144506.256190121,
          1145164.0206449048,
          1145811.0816935773,
          1146445.8431256893,
          1147066.896791403,
          1147673.2582321782,
          1148264.5436161933,
          1148841.0008162083,
          1149403.481481028,
          1149953.2614890877,
          1150491.868969086,
          1151020.8565489934,
          1151541.666316855,
          1152055.5532556477,
          1152563.5623496696,
          1153066.529751121,
          1153565.1076595995,
          1154059.79500746,
          1154550.9633880747,
          1155038.8890151787,
          1155523.7679540734,
          1156005.7436712282,
          1156484.9315185347,
          1156961.4197109311,
          1157435.268434328,
          1157906.5210135996,
          1158375.2087625547,
          1158841.356086313,
          1159304.9815526074,
          1159766.0999892831,
          1160224.7235328816,
          1160680.8854168698,
          1161134.5996246657,
          1161585.8668878328,
          1162034.6927115405,
          1162481.0866535972,
          1162925.062967482,
          1163366.6416614878,
          1163805.848494083,
          1164242.7176515597,
          1164677.2945697415,
          1165109.6422978814,
          1165539.8481376502,
          1165968.028736099,
          1166394.3424589115,
          1166818.9992244393,
          1167242.2747284516,
          1167664.5334127482,
          1168086.2397663123,
          1168507.9770317904,
          1168930.4478997341,
          1169354.4604753153,
          1169780.8772065195,
          1170210.5541936297,
          1170644.2273257438,
          1171082.3995954252,
          1171525.2586833555,
          1171972.637678023,
          1172424.044277954,
          1172878.7462450748,
          1173335.9026752843,
          1173794.6461465363,
          1174254.1771311443,
          1174713.7976391048,
          1175172.9268004482,
          1175631.0976080901,
          1176087.9453712837,
          1176543.1891732693,
          1176996.6177737205,
          1177448.0713427968,
          1177897.424084653,
          1178344.5824327855,
          1178789.4921891545,
          1179232.1174065382,
          1179672.4307631718,
          1180110.4119278938,
          1180546.0472287184,
          1180979.3288343416,
          1181410.2526813112,
          1181838.8178717545,
          1182265.0287548397,
          1182688.888703294,
          1183110.3972401,
          1183529.5566621248,
          1183946.374518211,
          1184360.8623705695,
          1184773.035962624,
          1185182.9155010644,
          1185590.5267905593,
          1185995.903209471,
          1186399.0889754253,
          1186800.142462027,
          1187199.1403666313,
          1187596.1837915697,
          1187991.4112435055,
          1188385.0032365404,
          1188777.1956631632,
          1189168.2933482244,
          1189558.6937284183,
          1189948.8884613803,
          1190339.4636262117,
          1190731.0989457893,
          1191124.5199080356,
          1191520.4415367506,
          1191919.4859966799,
          1192322.0622079792,
          1192728.3266062909,
          1193138.1274251502,
          1193551.0512725697,
          1193966.4820612667,
          1194383.7072205022,
          1194802.0051874497,
          1195220.693823759,
          1195639.1804858672,
          1196056.9740625557,
          1196473.6833487295,
          1196889.0029526118,
          1197302.7016927311,
          1197714.6064479987,
          1198124.5849037245,
          1198532.5353260257,
          1198938.3828822288,
          1199342.0813296551,
          1199743.6057405155,
          1200142.93593691,
          1200540.0583415146,
          1200934.9645414287,
          1201327.6518345806,
          1201718.1197123295,
          1202106.3674294408,
          1202492.3899824945,
          1202876.179211997,
          1203257.7426618666,
          1203637.0970892063,
          1204014.250561209,
          1204389.2084705196,
          1204761.9723298675,
          1205132.5396131917,
          1205500.907391152,
          1205867.0742385036,
          1206231.0424035098,
          1206592.8093515728,
          1206952.3511132733,
          1207309.634080232,
          1207664.6166935235,
          1208017.2451539952,
          1208367.447112827,
          1208715.1256471337,
          1209060.15319062,
          1209402.3660955096,
          1209741.5657737257,
          1210077.5210357439,
          1210409.974730387,
          1210738.6715882393,
          1211063.3956682112,
          1211383.998746178,
          1211700.4290178157,
          1212012.7401875462,
          1212321.0838244902,
          1212625.6800217025,
          1212926.786280494,
          1213224.6677876334,
          1213519.5705395115,
          1213811.7113809884,
          1214101.2714553073,
          1214388.3979987425,
          1214673.2075348727,
          1214955.7900094008,
          1215236.2150556827,
          1215514.5380475617,
          1215790.801617576,
          1216065.0394952835,
          1216337.2791297063,
          1216607.5423180677,
          1216875.8476363875,
          1217142.2118083823,
          1217406.649917129,
          1217669.176467931,
          1217929.8049192242,
          1218188.5450466347,
          1218445.4026097292,
          1218700.3849292807,
          1218953.50507895,
          1219204.7760373515,
          1219454.2071338987,
          1219701.806678332,
          1219947.5817795359,
          1220191.5385447743,
          1220433.683645668,
          1220674.0241576845,
          1220912.5675581014,
          1221149.3221584503,
          1221384.2969745134,
          1221617.5006366167,
          1221848.9417468796,
          1222078.6283404473,
          1222306.5684522996,
          1222532.7694088863,
          1222757.238184716,
          1222979.98254865,
          1223201.0104456795,
          1223420.3291589345,
          1223637.946176278,
          1223853.8685437378,
          1224068.1035177014,
          1224280.6589370477
         ],
         "yaxis": "y"
        },
        {
         "hovertemplate": "x=%{x}<br>y=%{y}<extra></extra>",
         "legendgroup": "",
         "marker": {
          "color": "red",
          "symbol": "circle"
         },
         "mode": "markers",
         "name": "",
         "orientation": "v",
         "showlegend": false,
         "type": "scatter",
         "x": [
          2009,
          2019
         ],
         "xaxis": "x",
         "y": [
          1207100,
          1194300
         ],
         "yaxis": "y"
        }
       ],
       "layout": {
        "template": {
         "data": {
          "bar": [
           {
            "error_x": {
             "color": "#2a3f5f"
            },
            "error_y": {
             "color": "#2a3f5f"
            },
            "marker": {
             "line": {
              "color": "#E5ECF6",
              "width": 0.5
             },
             "pattern": {
              "fillmode": "overlay",
              "size": 10,
              "solidity": 0.2
             }
            },
            "type": "bar"
           }
          ],
          "barpolar": [
           {
            "marker": {
             "line": {
              "color": "#E5ECF6",
              "width": 0.5
             },
             "pattern": {
              "fillmode": "overlay",
              "size": 10,
              "solidity": 0.2
             }
            },
            "type": "barpolar"
           }
          ],
          "carpet": [
           {
            "aaxis": {
             "endlinecolor": "#2a3f5f",
             "gridcolor": "white",
             "linecolor": "white",
             "minorgridcolor": "white",
             "startlinecolor": "#2a3f5f"
            },
            "baxis": {
             "endlinecolor": "#2a3f5f",
             "gridcolor": "white",
             "linecolor": "white",
             "minorgridcolor": "white",
             "startlinecolor": "#2a3f5f"
            },
            "type": "carpet"
           }
          ],
          "choropleth": [
           {
            "colorbar": {
             "outlinewidth": 0,
             "ticks": ""
            },
            "type": "choropleth"
           }
          ],
          "contour": [
           {
            "colorbar": {
             "outlinewidth": 0,
             "ticks": ""
            },
            "colorscale": [
             [
              0,
              "#0d0887"
             ],
             [
              0.1111111111111111,
              "#46039f"
             ],
             [
              0.2222222222222222,
              "#7201a8"
             ],
             [
              0.3333333333333333,
              "#9c179e"
             ],
             [
              0.4444444444444444,
              "#bd3786"
             ],
             [
              0.5555555555555556,
              "#d8576b"
             ],
             [
              0.6666666666666666,
              "#ed7953"
             ],
             [
              0.7777777777777778,
              "#fb9f3a"
             ],
             [
              0.8888888888888888,
              "#fdca26"
             ],
             [
              1,
              "#f0f921"
             ]
            ],
            "type": "contour"
           }
          ],
          "contourcarpet": [
           {
            "colorbar": {
             "outlinewidth": 0,
             "ticks": ""
            },
            "type": "contourcarpet"
           }
          ],
          "heatmap": [
           {
            "colorbar": {
             "outlinewidth": 0,
             "ticks": ""
            },
            "colorscale": [
             [
              0,
              "#0d0887"
             ],
             [
              0.1111111111111111,
              "#46039f"
             ],
             [
              0.2222222222222222,
              "#7201a8"
             ],
             [
              0.3333333333333333,
              "#9c179e"
             ],
             [
              0.4444444444444444,
              "#bd3786"
             ],
             [
              0.5555555555555556,
              "#d8576b"
             ],
             [
              0.6666666666666666,
              "#ed7953"
             ],
             [
              0.7777777777777778,
              "#fb9f3a"
             ],
             [
              0.8888888888888888,
              "#fdca26"
             ],
             [
              1,
              "#f0f921"
             ]
            ],
            "type": "heatmap"
           }
          ],
          "heatmapgl": [
           {
            "colorbar": {
             "outlinewidth": 0,
             "ticks": ""
            },
            "colorscale": [
             [
              0,
              "#0d0887"
             ],
             [
              0.1111111111111111,
              "#46039f"
             ],
             [
              0.2222222222222222,
              "#7201a8"
             ],
             [
              0.3333333333333333,
              "#9c179e"
             ],
             [
              0.4444444444444444,
              "#bd3786"
             ],
             [
              0.5555555555555556,
              "#d8576b"
             ],
             [
              0.6666666666666666,
              "#ed7953"
             ],
             [
              0.7777777777777778,
              "#fb9f3a"
             ],
             [
              0.8888888888888888,
              "#fdca26"
             ],
             [
              1,
              "#f0f921"
             ]
            ],
            "type": "heatmapgl"
           }
          ],
          "histogram": [
           {
            "marker": {
             "pattern": {
              "fillmode": "overlay",
              "size": 10,
              "solidity": 0.2
             }
            },
            "type": "histogram"
           }
          ],
          "histogram2d": [
           {
            "colorbar": {
             "outlinewidth": 0,
             "ticks": ""
            },
            "colorscale": [
             [
              0,
              "#0d0887"
             ],
             [
              0.1111111111111111,
              "#46039f"
             ],
             [
              0.2222222222222222,
              "#7201a8"
             ],
             [
              0.3333333333333333,
              "#9c179e"
             ],
             [
              0.4444444444444444,
              "#bd3786"
             ],
             [
              0.5555555555555556,
              "#d8576b"
             ],
             [
              0.6666666666666666,
              "#ed7953"
             ],
             [
              0.7777777777777778,
              "#fb9f3a"
             ],
             [
              0.8888888888888888,
              "#fdca26"
             ],
             [
              1,
              "#f0f921"
             ]
            ],
            "type": "histogram2d"
           }
          ],
          "histogram2dcontour": [
           {
            "colorbar": {
             "outlinewidth": 0,
             "ticks": ""
            },
            "colorscale": [
             [
              0,
              "#0d0887"
             ],
             [
              0.1111111111111111,
              "#46039f"
             ],
             [
              0.2222222222222222,
              "#7201a8"
             ],
             [
              0.3333333333333333,
              "#9c179e"
             ],
             [
              0.4444444444444444,
              "#bd3786"
             ],
             [
              0.5555555555555556,
              "#d8576b"
             ],
             [
              0.6666666666666666,
              "#ed7953"
             ],
             [
              0.7777777777777778,
              "#fb9f3a"
             ],
             [
              0.8888888888888888,
              "#fdca26"
             ],
             [
              1,
              "#f0f921"
             ]
            ],
            "type": "histogram2dcontour"
           }
          ],
          "mesh3d": [
           {
            "colorbar": {
             "outlinewidth": 0,
             "ticks": ""
            },
            "type": "mesh3d"
           }
          ],
          "parcoords": [
           {
            "line": {
             "colorbar": {
              "outlinewidth": 0,
              "ticks": ""
             }
            },
            "type": "parcoords"
           }
          ],
          "pie": [
           {
            "automargin": true,
            "type": "pie"
           }
          ],
          "scatter": [
           {
            "fillpattern": {
             "fillmode": "overlay",
             "size": 10,
             "solidity": 0.2
            },
            "type": "scatter"
           }
          ],
          "scatter3d": [
           {
            "line": {
             "colorbar": {
              "outlinewidth": 0,
              "ticks": ""
             }
            },
            "marker": {
             "colorbar": {
              "outlinewidth": 0,
              "ticks": ""
             }
            },
            "type": "scatter3d"
           }
          ],
          "scattercarpet": [
           {
            "marker": {
             "colorbar": {
              "outlinewidth": 0,
              "ticks": ""
             }
            },
            "type": "scattercarpet"
           }
          ],
          "scattergeo": [
           {
            "marker": {
             "colorbar": {
              "outlinewidth": 0,
              "ticks": ""
             }
            },
            "type": "scattergeo"
           }
          ],
          "scattergl": [
           {
            "marker": {
             "colorbar": {
              "outlinewidth": 0,
              "ticks": ""
             }
            },
            "type": "scattergl"
           }
          ],
          "scattermapbox": [
           {
            "marker": {
             "colorbar": {
              "outlinewidth": 0,
              "ticks": ""
             }
            },
            "type": "scattermapbox"
           }
          ],
          "scatterpolar": [
           {
            "marker": {
             "colorbar": {
              "outlinewidth": 0,
              "ticks": ""
             }
            },
            "type": "scatterpolar"
           }
          ],
          "scatterpolargl": [
           {
            "marker": {
             "colorbar": {
              "outlinewidth": 0,
              "ticks": ""
             }
            },
            "type": "scatterpolargl"
           }
          ],
          "scatterternary": [
           {
            "marker": {
             "colorbar": {
              "outlinewidth": 0,
              "ticks": ""
             }
            },
            "type": "scatterternary"
           }
          ],
          "surface": [
           {
            "colorbar": {
             "outlinewidth": 0,
             "ticks": ""
            },
            "colorscale": [
             [
              0,
              "#0d0887"
             ],
             [
              0.1111111111111111,
              "#46039f"
             ],
             [
              0.2222222222222222,
              "#7201a8"
             ],
             [
              0.3333333333333333,
              "#9c179e"
             ],
             [
              0.4444444444444444,
              "#bd3786"
             ],
             [
              0.5555555555555556,
              "#d8576b"
             ],
             [
              0.6666666666666666,
              "#ed7953"
             ],
             [
              0.7777777777777778,
              "#fb9f3a"
             ],
             [
              0.8888888888888888,
              "#fdca26"
             ],
             [
              1,
              "#f0f921"
             ]
            ],
            "type": "surface"
           }
          ],
          "table": [
           {
            "cells": {
             "fill": {
              "color": "#EBF0F8"
             },
             "line": {
              "color": "white"
             }
            },
            "header": {
             "fill": {
              "color": "#C8D4E3"
             },
             "line": {
              "color": "white"
             }
            },
            "type": "table"
           }
          ]
         },
         "layout": {
          "annotationdefaults": {
           "arrowcolor": "#2a3f5f",
           "arrowhead": 0,
           "arrowwidth": 1
          },
          "autotypenumbers": "strict",
          "coloraxis": {
           "colorbar": {
            "outlinewidth": 0,
            "ticks": ""
           }
          },
          "colorscale": {
           "diverging": [
            [
             0,
             "#8e0152"
            ],
            [
             0.1,
             "#c51b7d"
            ],
            [
             0.2,
             "#de77ae"
            ],
            [
             0.3,
             "#f1b6da"
            ],
            [
             0.4,
             "#fde0ef"
            ],
            [
             0.5,
             "#f7f7f7"
            ],
            [
             0.6,
             "#e6f5d0"
            ],
            [
             0.7,
             "#b8e186"
            ],
            [
             0.8,
             "#7fbc41"
            ],
            [
             0.9,
             "#4d9221"
            ],
            [
             1,
             "#276419"
            ]
           ],
           "sequential": [
            [
             0,
             "#0d0887"
            ],
            [
             0.1111111111111111,
             "#46039f"
            ],
            [
             0.2222222222222222,
             "#7201a8"
            ],
            [
             0.3333333333333333,
             "#9c179e"
            ],
            [
             0.4444444444444444,
             "#bd3786"
            ],
            [
             0.5555555555555556,
             "#d8576b"
            ],
            [
             0.6666666666666666,
             "#ed7953"
            ],
            [
             0.7777777777777778,
             "#fb9f3a"
            ],
            [
             0.8888888888888888,
             "#fdca26"
            ],
            [
             1,
             "#f0f921"
            ]
           ],
           "sequentialminus": [
            [
             0,
             "#0d0887"
            ],
            [
             0.1111111111111111,
             "#46039f"
            ],
            [
             0.2222222222222222,
             "#7201a8"
            ],
            [
             0.3333333333333333,
             "#9c179e"
            ],
            [
             0.4444444444444444,
             "#bd3786"
            ],
            [
             0.5555555555555556,
             "#d8576b"
            ],
            [
             0.6666666666666666,
             "#ed7953"
            ],
            [
             0.7777777777777778,
             "#fb9f3a"
            ],
            [
             0.8888888888888888,
             "#fdca26"
            ],
            [
             1,
             "#f0f921"
            ]
           ]
          },
          "colorway": [
           "#636efa",
           "#EF553B",
           "#00cc96",
           "#ab63fa",
           "#FFA15A",
           "#19d3f3",
           "#FF6692",
           "#B6E880",
           "#FF97FF",
           "#FECB52"
          ],
          "font": {
           "color": "#2a3f5f"
          },
          "geo": {
           "bgcolor": "white",
           "lakecolor": "white",
           "landcolor": "#E5ECF6",
           "showlakes": true,
           "showland": true,
           "subunitcolor": "white"
          },
          "hoverlabel": {
           "align": "left"
          },
          "hovermode": "closest",
          "mapbox": {
           "style": "light"
          },
          "paper_bgcolor": "white",
          "plot_bgcolor": "#E5ECF6",
          "polar": {
           "angularaxis": {
            "gridcolor": "white",
            "linecolor": "white",
            "ticks": ""
           },
           "bgcolor": "#E5ECF6",
           "radialaxis": {
            "gridcolor": "white",
            "linecolor": "white",
            "ticks": ""
           }
          },
          "scene": {
           "xaxis": {
            "backgroundcolor": "#E5ECF6",
            "gridcolor": "white",
            "gridwidth": 2,
            "linecolor": "white",
            "showbackground": true,
            "ticks": "",
            "zerolinecolor": "white"
           },
           "yaxis": {
            "backgroundcolor": "#E5ECF6",
            "gridcolor": "white",
            "gridwidth": 2,
            "linecolor": "white",
            "showbackground": true,
            "ticks": "",
            "zerolinecolor": "white"
           },
           "zaxis": {
            "backgroundcolor": "#E5ECF6",
            "gridcolor": "white",
            "gridwidth": 2,
            "linecolor": "white",
            "showbackground": true,
            "ticks": "",
            "zerolinecolor": "white"
           }
          },
          "shapedefaults": {
           "line": {
            "color": "#2a3f5f"
           }
          },
          "ternary": {
           "aaxis": {
            "gridcolor": "white",
            "linecolor": "white",
            "ticks": ""
           },
           "baxis": {
            "gridcolor": "white",
            "linecolor": "white",
            "ticks": ""
           },
           "bgcolor": "#E5ECF6",
           "caxis": {
            "gridcolor": "white",
            "linecolor": "white",
            "ticks": ""
           }
          },
          "title": {
           "x": 0.05
          },
          "xaxis": {
           "automargin": true,
           "gridcolor": "white",
           "linecolor": "white",
           "ticks": "",
           "title": {
            "standoff": 15
           },
           "zerolinecolor": "white",
           "zerolinewidth": 2
          },
          "yaxis": {
           "automargin": true,
           "gridcolor": "white",
           "linecolor": "white",
           "ticks": "",
           "title": {
            "standoff": 15
           },
           "zerolinecolor": "white",
           "zerolinewidth": 2
          }
         }
        },
        "title": {
         "text": "Modelled vs Data",
         "x": 0.5
        },
        "xaxis": {
         "title": {
          "text": "Year"
         }
        },
        "yaxis": {
         "title": {
          "text": "Population"
         }
        }
       }
      }
     },
     "metadata": {},
     "output_type": "display_data"
    }
   ],
   "source": [
    "fig2_1 = px.line(\n",
    "    derived_df_0,\n",
    "    x=derived_df_0.index,\n",
    "    y=\"total_population\",\n",
    ")\n",
    "fig2_2 = px.scatter(x= plots['total_population']['times'], y = plots['total_population']['values'])\n",
    "fig2_2.update_traces(marker=dict(color=\"red\"))\n",
    "fig2_3 = go.Figure(\n",
    "    data=fig2_1.data + fig2_2.data,\n",
    ")\n",
    "fig2_3.update_layout(\n",
    "    title=\"Modelled vs Data\", title_x=0.5, xaxis_title=\"Year\", yaxis_title=\"Population\"\n",
    ")\n",
    "fig2_3.show()"
   ]
  },
  {
   "cell_type": "code",
   "execution_count": 13,
   "metadata": {},
   "outputs": [
    {
     "data": {
      "application/vnd.plotly.v1+json": {
       "config": {
        "plotlyServerURL": "https://plot.ly"
       },
       "data": [
        {
         "hovertemplate": "index=%{x}<br>percentage_latent=%{y}<extra></extra>",
         "legendgroup": "",
         "line": {
          "color": "#636efa",
          "dash": "solid"
         },
         "marker": {
          "symbol": "circle"
         },
         "mode": "lines",
         "name": "",
         "showlegend": false,
         "type": "scattergl",
         "x": [
          1900,
          1900.1,
          1900.2,
          1900.3,
          1900.4,
          1900.5,
          1900.6,
          1900.7,
          1900.8,
          1900.9,
          1901,
          1901.1,
          1901.2,
          1901.3,
          1901.4,
          1901.5,
          1901.6,
          1901.7,
          1901.8,
          1901.9,
          1902,
          1902.1,
          1902.2,
          1902.3,
          1902.4,
          1902.5,
          1902.6,
          1902.7,
          1902.8,
          1902.9,
          1903,
          1903.1,
          1903.2,
          1903.3,
          1903.4,
          1903.5,
          1903.6,
          1903.7,
          1903.8,
          1903.9,
          1904,
          1904.1,
          1904.2,
          1904.3,
          1904.4,
          1904.5,
          1904.6,
          1904.7,
          1904.8,
          1904.9,
          1905,
          1905.1,
          1905.2,
          1905.3,
          1905.4,
          1905.5,
          1905.6,
          1905.7,
          1905.8,
          1905.9,
          1906,
          1906.1,
          1906.2,
          1906.3,
          1906.4,
          1906.5,
          1906.6,
          1906.7,
          1906.8,
          1906.9,
          1907,
          1907.1,
          1907.2,
          1907.3,
          1907.4,
          1907.5,
          1907.6,
          1907.7,
          1907.8,
          1907.9,
          1908,
          1908.1,
          1908.2,
          1908.3,
          1908.4,
          1908.5,
          1908.6,
          1908.7,
          1908.8,
          1908.9,
          1909,
          1909.1,
          1909.2,
          1909.3,
          1909.4,
          1909.5,
          1909.6,
          1909.7,
          1909.8,
          1909.9,
          1910,
          1910.1,
          1910.2,
          1910.3,
          1910.4,
          1910.5,
          1910.6,
          1910.7,
          1910.8,
          1910.9,
          1911,
          1911.1,
          1911.2,
          1911.3,
          1911.4,
          1911.5,
          1911.6,
          1911.7,
          1911.8,
          1911.9,
          1912,
          1912.1,
          1912.2,
          1912.3,
          1912.4,
          1912.5,
          1912.6,
          1912.7,
          1912.8,
          1912.9,
          1913,
          1913.1,
          1913.2,
          1913.3,
          1913.4,
          1913.5,
          1913.6,
          1913.7,
          1913.8,
          1913.9,
          1914,
          1914.1,
          1914.2,
          1914.3,
          1914.4,
          1914.5,
          1914.6,
          1914.7,
          1914.8,
          1914.9,
          1915,
          1915.1,
          1915.2,
          1915.3,
          1915.4,
          1915.5,
          1915.6,
          1915.7,
          1915.8,
          1915.9,
          1916,
          1916.1,
          1916.2,
          1916.3,
          1916.4,
          1916.5,
          1916.6,
          1916.7,
          1916.8,
          1916.9,
          1917,
          1917.1,
          1917.2,
          1917.3,
          1917.4,
          1917.5,
          1917.6,
          1917.7,
          1917.8,
          1917.9,
          1918,
          1918.1,
          1918.2,
          1918.3,
          1918.4,
          1918.5,
          1918.6,
          1918.7,
          1918.8,
          1918.9,
          1919,
          1919.1,
          1919.2,
          1919.3,
          1919.4,
          1919.5,
          1919.6,
          1919.7,
          1919.8,
          1919.9,
          1920,
          1920.1,
          1920.2,
          1920.3,
          1920.4,
          1920.5,
          1920.6,
          1920.7,
          1920.8,
          1920.9,
          1921,
          1921.1,
          1921.2,
          1921.3,
          1921.4,
          1921.5,
          1921.6,
          1921.7,
          1921.8,
          1921.9,
          1922,
          1922.1,
          1922.2,
          1922.3,
          1922.4,
          1922.5,
          1922.6,
          1922.7,
          1922.8,
          1922.9,
          1923,
          1923.1,
          1923.2,
          1923.3,
          1923.4,
          1923.5,
          1923.6,
          1923.7,
          1923.8,
          1923.9,
          1924,
          1924.1,
          1924.2,
          1924.3,
          1924.4,
          1924.5,
          1924.6,
          1924.7,
          1924.8,
          1924.9,
          1925,
          1925.1,
          1925.2,
          1925.3,
          1925.4,
          1925.5,
          1925.6,
          1925.7,
          1925.8,
          1925.9,
          1926,
          1926.1,
          1926.2,
          1926.3,
          1926.4,
          1926.5,
          1926.6,
          1926.7,
          1926.8,
          1926.9,
          1927,
          1927.1,
          1927.2,
          1927.3,
          1927.4,
          1927.5,
          1927.6,
          1927.7,
          1927.8,
          1927.9,
          1928,
          1928.1,
          1928.2,
          1928.3,
          1928.4,
          1928.5,
          1928.6,
          1928.7,
          1928.8,
          1928.9,
          1929,
          1929.1,
          1929.2,
          1929.3,
          1929.4,
          1929.5,
          1929.6,
          1929.7,
          1929.8,
          1929.9,
          1930,
          1930.1,
          1930.2,
          1930.3,
          1930.4,
          1930.5,
          1930.6,
          1930.7,
          1930.8,
          1930.9,
          1931,
          1931.1,
          1931.2,
          1931.3,
          1931.4,
          1931.5,
          1931.6,
          1931.7,
          1931.8,
          1931.9,
          1932,
          1932.1,
          1932.2,
          1932.3,
          1932.4,
          1932.5,
          1932.6,
          1932.7,
          1932.8,
          1932.9,
          1933,
          1933.1,
          1933.2,
          1933.3,
          1933.4,
          1933.5,
          1933.6,
          1933.7,
          1933.8,
          1933.9,
          1934,
          1934.1,
          1934.2,
          1934.3,
          1934.4,
          1934.5,
          1934.6,
          1934.7,
          1934.8,
          1934.9,
          1935,
          1935.1,
          1935.2,
          1935.3,
          1935.4,
          1935.5,
          1935.6,
          1935.7,
          1935.8,
          1935.9,
          1936,
          1936.1,
          1936.2,
          1936.3,
          1936.4,
          1936.5,
          1936.6,
          1936.7,
          1936.8,
          1936.9,
          1937,
          1937.1,
          1937.2,
          1937.3,
          1937.4,
          1937.5,
          1937.6,
          1937.7,
          1937.8,
          1937.9,
          1938,
          1938.1,
          1938.2,
          1938.3,
          1938.4,
          1938.5,
          1938.6,
          1938.7,
          1938.8,
          1938.9,
          1939,
          1939.1,
          1939.2,
          1939.3,
          1939.4,
          1939.5,
          1939.6,
          1939.7,
          1939.8,
          1939.9,
          1940,
          1940.1,
          1940.2,
          1940.3,
          1940.4,
          1940.5,
          1940.6,
          1940.7,
          1940.8,
          1940.9,
          1941,
          1941.1,
          1941.2,
          1941.3,
          1941.4,
          1941.5,
          1941.6,
          1941.7,
          1941.8,
          1941.9,
          1942,
          1942.1,
          1942.2,
          1942.3,
          1942.4,
          1942.5,
          1942.6,
          1942.7,
          1942.8,
          1942.9,
          1943,
          1943.1,
          1943.2,
          1943.3,
          1943.4,
          1943.5,
          1943.6,
          1943.7,
          1943.8,
          1943.9,
          1944,
          1944.1,
          1944.2,
          1944.3,
          1944.4,
          1944.5,
          1944.6,
          1944.7,
          1944.8,
          1944.9,
          1945,
          1945.1,
          1945.2,
          1945.3,
          1945.4,
          1945.5,
          1945.6,
          1945.7,
          1945.8,
          1945.9,
          1946,
          1946.1,
          1946.2,
          1946.3,
          1946.4,
          1946.5,
          1946.6,
          1946.7,
          1946.8,
          1946.9,
          1947,
          1947.1,
          1947.2,
          1947.3,
          1947.4,
          1947.5,
          1947.6,
          1947.7,
          1947.8,
          1947.9,
          1948,
          1948.1,
          1948.2,
          1948.3,
          1948.4,
          1948.5,
          1948.6,
          1948.7,
          1948.8,
          1948.9,
          1949,
          1949.1,
          1949.2,
          1949.3,
          1949.4,
          1949.5,
          1949.6,
          1949.7,
          1949.8,
          1949.9,
          1950,
          1950.1,
          1950.2,
          1950.3,
          1950.4,
          1950.5,
          1950.6,
          1950.7,
          1950.8,
          1950.9,
          1951,
          1951.1,
          1951.2,
          1951.3,
          1951.4,
          1951.5,
          1951.6,
          1951.7,
          1951.8,
          1951.9,
          1952,
          1952.1,
          1952.2,
          1952.3,
          1952.4,
          1952.5,
          1952.6,
          1952.7,
          1952.8,
          1952.9,
          1953,
          1953.1,
          1953.2,
          1953.3,
          1953.4,
          1953.5,
          1953.6,
          1953.7,
          1953.8,
          1953.9,
          1954,
          1954.1,
          1954.2,
          1954.3,
          1954.4,
          1954.5,
          1954.6,
          1954.7,
          1954.8,
          1954.9,
          1955,
          1955.1,
          1955.2,
          1955.3,
          1955.4,
          1955.5,
          1955.6,
          1955.7,
          1955.8,
          1955.9,
          1956,
          1956.1,
          1956.2,
          1956.3,
          1956.4,
          1956.5,
          1956.6,
          1956.7,
          1956.8,
          1956.9,
          1957,
          1957.1,
          1957.2,
          1957.3,
          1957.4,
          1957.5,
          1957.6,
          1957.7,
          1957.8,
          1957.9,
          1958,
          1958.1,
          1958.2,
          1958.3,
          1958.4,
          1958.5,
          1958.6,
          1958.7,
          1958.8,
          1958.9,
          1959,
          1959.1,
          1959.2,
          1959.3,
          1959.4,
          1959.5,
          1959.6,
          1959.7,
          1959.8,
          1959.9,
          1960,
          1960.1,
          1960.2,
          1960.3,
          1960.4,
          1960.5,
          1960.6,
          1960.7,
          1960.8,
          1960.9,
          1961,
          1961.1,
          1961.2,
          1961.3,
          1961.4,
          1961.5,
          1961.6,
          1961.7,
          1961.8,
          1961.9,
          1962,
          1962.1,
          1962.2,
          1962.3,
          1962.4,
          1962.5,
          1962.6,
          1962.7,
          1962.8,
          1962.9,
          1963,
          1963.1,
          1963.2,
          1963.3,
          1963.4,
          1963.5,
          1963.6,
          1963.7,
          1963.8,
          1963.9,
          1964,
          1964.1,
          1964.2,
          1964.3,
          1964.4,
          1964.5,
          1964.6,
          1964.7,
          1964.8,
          1964.9,
          1965,
          1965.1,
          1965.2,
          1965.3,
          1965.4,
          1965.5,
          1965.6,
          1965.7,
          1965.8,
          1965.9,
          1966,
          1966.1,
          1966.2,
          1966.3,
          1966.4,
          1966.5,
          1966.6,
          1966.7,
          1966.8,
          1966.9,
          1967,
          1967.1,
          1967.2,
          1967.3,
          1967.4,
          1967.5,
          1967.6,
          1967.7,
          1967.8,
          1967.9,
          1968,
          1968.1,
          1968.2,
          1968.3,
          1968.4,
          1968.5,
          1968.6,
          1968.7,
          1968.8,
          1968.9,
          1969,
          1969.1,
          1969.2,
          1969.3,
          1969.4,
          1969.5,
          1969.6,
          1969.7,
          1969.8,
          1969.9,
          1970,
          1970.1,
          1970.2,
          1970.3,
          1970.4,
          1970.5,
          1970.6,
          1970.7,
          1970.8,
          1970.9,
          1971,
          1971.1,
          1971.2,
          1971.3,
          1971.4,
          1971.5,
          1971.6,
          1971.7,
          1971.8,
          1971.9,
          1972,
          1972.1,
          1972.2,
          1972.3,
          1972.4,
          1972.5,
          1972.6,
          1972.7,
          1972.8,
          1972.9,
          1973,
          1973.1,
          1973.2,
          1973.3,
          1973.4,
          1973.5,
          1973.6,
          1973.7,
          1973.8,
          1973.9,
          1974,
          1974.1,
          1974.2,
          1974.3,
          1974.4,
          1974.5,
          1974.6,
          1974.7,
          1974.8,
          1974.9,
          1975,
          1975.1,
          1975.2,
          1975.3,
          1975.4,
          1975.5,
          1975.6,
          1975.7,
          1975.8,
          1975.9,
          1976,
          1976.1,
          1976.2,
          1976.3,
          1976.4,
          1976.5,
          1976.6,
          1976.7,
          1976.8,
          1976.9,
          1977,
          1977.1,
          1977.2,
          1977.3,
          1977.4,
          1977.5,
          1977.6,
          1977.7,
          1977.8,
          1977.9,
          1978,
          1978.1,
          1978.2,
          1978.3,
          1978.4,
          1978.5,
          1978.6,
          1978.7,
          1978.8,
          1978.9,
          1979,
          1979.1,
          1979.2,
          1979.3,
          1979.4,
          1979.5,
          1979.6,
          1979.7,
          1979.8,
          1979.9,
          1980,
          1980.1,
          1980.2,
          1980.3,
          1980.4,
          1980.5,
          1980.6,
          1980.7,
          1980.8,
          1980.9,
          1981,
          1981.1,
          1981.2,
          1981.3,
          1981.4,
          1981.5,
          1981.6,
          1981.7,
          1981.8,
          1981.9,
          1982,
          1982.1,
          1982.2,
          1982.3,
          1982.4,
          1982.5,
          1982.6,
          1982.7,
          1982.8,
          1982.9,
          1983,
          1983.1,
          1983.2,
          1983.3,
          1983.4,
          1983.5,
          1983.6,
          1983.7,
          1983.8,
          1983.9,
          1984,
          1984.1,
          1984.2,
          1984.3,
          1984.4,
          1984.5,
          1984.6,
          1984.7,
          1984.8,
          1984.9,
          1985,
          1985.1,
          1985.2,
          1985.3,
          1985.4,
          1985.5,
          1985.6,
          1985.7,
          1985.8,
          1985.9,
          1986,
          1986.1,
          1986.2,
          1986.3,
          1986.4,
          1986.5,
          1986.6,
          1986.7,
          1986.8,
          1986.9,
          1987,
          1987.1,
          1987.2,
          1987.3,
          1987.4,
          1987.5,
          1987.6,
          1987.7,
          1987.8,
          1987.9,
          1988,
          1988.1,
          1988.2,
          1988.3,
          1988.4,
          1988.5,
          1988.6,
          1988.7,
          1988.8,
          1988.9,
          1989,
          1989.1,
          1989.2,
          1989.3,
          1989.4,
          1989.5,
          1989.6,
          1989.7,
          1989.8,
          1989.9,
          1990,
          1990.1,
          1990.2,
          1990.3,
          1990.4,
          1990.5,
          1990.6,
          1990.7,
          1990.8,
          1990.9,
          1991,
          1991.1,
          1991.2,
          1991.3,
          1991.4,
          1991.5,
          1991.6,
          1991.7,
          1991.8,
          1991.9,
          1992,
          1992.1,
          1992.2,
          1992.3,
          1992.4,
          1992.5,
          1992.6,
          1992.7,
          1992.8,
          1992.9,
          1993,
          1993.1,
          1993.2,
          1993.3,
          1993.4,
          1993.5,
          1993.6,
          1993.7,
          1993.8,
          1993.9,
          1994,
          1994.1,
          1994.2,
          1994.3,
          1994.4,
          1994.5,
          1994.6,
          1994.7,
          1994.8,
          1994.9,
          1995,
          1995.1,
          1995.2,
          1995.3,
          1995.4,
          1995.5,
          1995.6,
          1995.7,
          1995.8,
          1995.9,
          1996,
          1996.1,
          1996.2,
          1996.3,
          1996.4,
          1996.5,
          1996.6,
          1996.7,
          1996.8,
          1996.9,
          1997,
          1997.1,
          1997.2,
          1997.3,
          1997.4,
          1997.5,
          1997.6,
          1997.7,
          1997.8,
          1997.9,
          1998,
          1998.1,
          1998.2,
          1998.3,
          1998.4,
          1998.5,
          1998.6,
          1998.7,
          1998.8,
          1998.9,
          1999,
          1999.1,
          1999.2,
          1999.3,
          1999.4,
          1999.5,
          1999.6,
          1999.7,
          1999.8,
          1999.9,
          2000,
          2000.1,
          2000.2,
          2000.3,
          2000.4,
          2000.5,
          2000.6,
          2000.7,
          2000.8,
          2000.9,
          2001,
          2001.1,
          2001.2,
          2001.3,
          2001.4,
          2001.5,
          2001.6,
          2001.7,
          2001.8,
          2001.9,
          2002,
          2002.1,
          2002.2,
          2002.3,
          2002.4,
          2002.5,
          2002.6,
          2002.7,
          2002.8,
          2002.9,
          2003,
          2003.1,
          2003.2,
          2003.3,
          2003.4,
          2003.5,
          2003.6,
          2003.7,
          2003.8,
          2003.9,
          2004,
          2004.1,
          2004.2,
          2004.3,
          2004.4,
          2004.5,
          2004.6,
          2004.7,
          2004.8,
          2004.9,
          2005,
          2005.1,
          2005.2,
          2005.3,
          2005.4,
          2005.5,
          2005.6,
          2005.7,
          2005.8,
          2005.9,
          2006,
          2006.1,
          2006.2,
          2006.3,
          2006.4,
          2006.5,
          2006.6,
          2006.7,
          2006.8,
          2006.9,
          2007,
          2007.1,
          2007.2,
          2007.3,
          2007.4,
          2007.5,
          2007.6,
          2007.7,
          2007.8,
          2007.9,
          2008,
          2008.1,
          2008.2,
          2008.3,
          2008.4,
          2008.5,
          2008.6,
          2008.7,
          2008.8,
          2008.9,
          2009,
          2009.1,
          2009.2,
          2009.3,
          2009.4,
          2009.5,
          2009.6,
          2009.7,
          2009.8,
          2009.9,
          2010,
          2010.1,
          2010.2,
          2010.3,
          2010.4,
          2010.5,
          2010.6,
          2010.7,
          2010.8,
          2010.9,
          2011,
          2011.1,
          2011.2,
          2011.3,
          2011.4,
          2011.5,
          2011.6,
          2011.7,
          2011.8,
          2011.9,
          2012,
          2012.1,
          2012.2,
          2012.3,
          2012.4,
          2012.5,
          2012.6,
          2012.7,
          2012.8,
          2012.9,
          2013,
          2013.1,
          2013.2,
          2013.3,
          2013.4,
          2013.5,
          2013.6,
          2013.7,
          2013.8,
          2013.9,
          2014,
          2014.1,
          2014.2,
          2014.3,
          2014.4,
          2014.5,
          2014.6,
          2014.7,
          2014.8,
          2014.9,
          2015,
          2015.1,
          2015.2,
          2015.3,
          2015.4,
          2015.5,
          2015.6,
          2015.7,
          2015.8,
          2015.9,
          2016,
          2016.1,
          2016.2,
          2016.3,
          2016.4,
          2016.5,
          2016.6,
          2016.7,
          2016.8,
          2016.9,
          2017,
          2017.1,
          2017.2,
          2017.3,
          2017.4,
          2017.5,
          2017.6,
          2017.7,
          2017.8,
          2017.9,
          2018,
          2018.1,
          2018.2,
          2018.3,
          2018.4,
          2018.5,
          2018.6,
          2018.7,
          2018.8,
          2018.9,
          2019,
          2019.1,
          2019.2,
          2019.3,
          2019.4,
          2019.5,
          2019.6,
          2019.7,
          2019.8,
          2019.9,
          2020
         ],
         "xaxis": "x",
         "y": [
          0,
          0.0007018261049727082,
          0.0013632290837843509,
          0.002008676752915318,
          0.0026542342741856808,
          0.0033110850863857237,
          0.0039876854686583365,
          0.004690312618625374,
          0.005424307408997806,
          0.0061942152935439065,
          0.007003916008565459,
          0.007857385915138411,
          0.008758320649959307,
          0.009710162525782825,
          0.010716616811218443,
          0.011781665924785531,
          0.012909236507610682,
          0.014103203548480978,
          0.015367802425916387,
          0.016707650191577845,
          0.018127737814225338,
          0.019633086067004524,
          0.021228827150145138,
          0.02292061150225196,
          0.024714587080252072,
          0.026617252411292754,
          0.02863518457511919,
          0.030775492563224625,
          0.0330458787428947,
          0.0354546120203677,
          0.03801019380050276,
          0.04072155697997497,
          0.043598392292336266,
          0.046651151664906104,
          0.04989089671107682,
          0.05332893137798774,
          0.05697740869603062,
          0.060849492747661466,
          0.06495933924934871,
          0.06932160188819785,
          0.07395151695485301,
          0.0788656136768081,
          0.08408174491039659,
          0.08961892506615626,
          0.09549656642780115,
          0.10173537527438542,
          0.10835778492235844,
          0.11538794164209928,
          0.12285108095423977,
          0.1307732303721166,
          0.13918252267343473,
          0.14810931584220613,
          0.1575860626227561,
          0.16764612094243803,
          0.17832471625900453,
          0.1896599375909831,
          0.20169272968561636,
          0.21446627949551653,
          0.22802499539022963,
          0.24241657311696715,
          0.2576923819301307,
          0.27390737977858637,
          0.2911185814095121,
          0.3093856513367472,
          0.3287728900030147,
          0.34934928213928085,
          0.3711880062754098,
          0.3943644103483202,
          0.41895868100793077,
          0.44505704661716305,
          0.4727517345881259,
          0.5021394407566807,
          0.5333200496452302,
          0.5664007193407297,
          0.601496447792691,
          0.6387298922448424,
          0.6782279901320769,
          0.7201229964728613,
          0.7645571825234941,
          0.8116830087484137,
          0.8616622899740828,
          0.914660458869094,
          0.9708518621753008,
          1.0304240075955098,
          1.0935775091194302,
          1.1605231944021057,
          1.2314751304486589,
          1.3066613052356206,
          1.3863264538430882,
          1.4707318679644477,
          1.5601475553326334,
          1.6548483184699152,
          1.7551285296345176,
          1.8613034991071533,
          1.973708408915619,
          2.092682113500934,
          2.2185727301621188,
          2.3517538168988987,
          2.4926246695033805,
          2.6416056058294224,
          2.799111405554532,
          2.9655739761276045,
          3.1414564605955757,
          3.3272530328792103,
          3.523472724520386,
          3.7306074878091047,
          3.9491768637358087,
          4.179737264139554,
          4.422881007298289,
          4.679192536058507,
          4.949231222609853,
          5.233594568112065,
          5.532922771057787,
          5.847888642375484,
          6.179106090128053,
          6.527188961753001,
          6.892791406292581,
          7.276603098264454,
          7.679274488467687,
          8.10140547048574,
          8.543622600588389,
          9.006581129252783,
          9.4909198050548,
          9.997156167646867,
          10.5258057248437,
          11.077412179128578,
          11.652535208689565,
          12.251572330787203,
          12.87480763303363,
          13.52255605568512,
          14.195166491231745,
          14.892901696151764,
          15.615715771291974,
          16.36355477876475,
          17.136415888250436,
          17.934304511012467,
          18.756848603922478,
          19.60355906473172,
          20.473990079735035,
          21.367689734064424,
          22.283869589767253,
          23.221591456084848,
          24.179960739764386,
          25.158090104697717,
          26.154725858933308,
          27.16844060698716,
          28.19790748639354,
          29.24187713664931,
          30.29873019279442,
          31.366613550554344,
          32.443848771001505,
          33.52892680653257,
          34.620044729005095,
          35.7150890614057,
          36.81219027133577,
          37.90973999603926,
          39.00596700989223,
          40.0987178598683,
          41.186130405393854,
          42.26667695138878,
          43.33882468130483,
          44.40060708242899,
          45.45036016852942,
          46.486795114775795,
          47.50876194117851,
          48.51466790693213,
          49.503187619900636,
          50.4733757162463,
          51.424519008341306,
          52.35551109288942,
          53.26543301334621,
          54.15371849740154,
          55.02006936927094,
          55.86388390623933,
          56.684648010383654,
          57.48214942573972,
          58.256435049254435,
          59.00735849937107,
          59.734740342249474,
          60.43864741069623,
          61.11938025624298,
          61.77719685250318,
          62.412154699754076,
          63.02449706751709,
          63.61465632942885,
          64.18318932841215,
          64.7303802389342,
          65.2565468103101,
          65.76216515391192,
          66.24786154000414,
          66.71421584019836,
          67.16156422856655,
          67.59036426725737,
          68.00119406282364,
          68.39473911763525,
          68.77149132988373,
          69.13183668012714,
          69.4762745930429,
          69.80540308069618,
          70.1198655691327,
          70.42005046934541,
          70.70635697245429,
          70.97927519396451,
          71.23937855740986,
          71.48719986758643,
          71.72304905741413,
          71.94730771021347,
          72.16043212567398,
          72.36294795707316,
          72.55524365811354,
          72.73758457564522,
          72.91031597172001,
          73.07385370660761,
          73.22865532844827,
          73.37497776549033,
          73.51305186424725,
          73.64318645395775,
          73.76576147684067,
          73.88114566257758,
          73.98949449984687,
          74.09101126469731,
          74.18597571395487,
          74.2747409988163,
          74.35756000270256,
          74.43453084943998,
          74.50583358386095,
          74.57173003470797,
          74.63254400653332,
          74.68840727899763,
          74.73939017866265,
          74.78565937676193,
          74.82747154048499,
          74.86510171337974,
          74.89857657114757,
          74.92795874685737,
          74.95341339939134,
          74.97520481388106,
          74.99351738305094,
          75.0083165773692,
          75.01966765654466,
          75.02774615688489,
          75.03282253264007,
          75.03495930454382,
          75.03410525273794,
          75.0303367259588,
          75.02385105546881,
          75.01488449600093,
          75.00337484565547,
          74.98933775377938,
          74.97289309428024,
          74.95422612325545,
          74.93335409129214,
          74.91029319785373,
          74.8851244257801,
          74.85797960298157,
          74.82892454921554,
          74.79795600959794,
          74.76511929877427,
          74.73050881700313,
          74.69425485003048,
          74.65637158094398,
          74.61682729484029,
          74.57566103792908,
          74.53298385312159,
          74.48894750437528,
          74.44350990604434,
          74.39664224415415,
          74.34840283368972,
          74.29892071206447,
          74.2482263101757,
          74.19628628467932,
          74.14313136994129,
          74.0888455576167,
          74.03351209205368,
          73.9770964134611,
          73.91959529842545,
          73.8610579014524,
          73.80158430087678,
          73.7412220250189,
          73.67990924566075,
          73.61764095711919,
          73.55448076777698,
          73.49055398171103,
          73.42586019458925,
          73.36033541049245,
          73.29399815860687,
          73.22693527706548,
          73.15921521858967,
          73.09078211296209,
          73.02163457113535,
          72.95182151829317,
          72.88142702875365,
          72.81043603304045,
          72.73881650960088,
          72.66658687302731,
          72.59381357380721,
          72.52056963736925,
          72.44680249953234,
          72.37248120960456,
          72.29763513616325,
          72.22235313247576,
          72.14670194293855,
          72.07059379342478,
          71.99399287252439,
          71.91694224157636,
          71.83956188642324,
          71.76187056057476,
          71.6837793862896,
          71.60529280827619,
          71.52648109893539,
          71.44739484301886,
          71.36798363289182,
          71.28824711662877,
          71.2082228424627,
          71.12796513059368,
          71.04745019378396,
          70.96665955045879,
          70.88560956371326,
          70.80435048284924,
          70.72293031266379,
          70.64130080259376,
          70.55943249434425,
          70.47734619968753,
          70.39511262895745,
          70.31279075064614,
          70.23030462654407,
          70.14763642486857,
          70.06482324464181,
          69.98193595512585,
          69.8989450678581,
          69.81582582507832,
          69.7325937493882,
          69.64929915144495,
          69.56596069409831,
          69.48254084524547,
          69.39903380780983,
          69.31546777931763,
          69.23190128492132,
          69.14833414947444,
          69.06471522637104,
          68.98103723724144,
          68.89733956699341,
          68.81370024262786,
          68.73009572420543,
          68.64647551568768,
          68.5628470992523,
          68.4792658771738,
          68.39576244512668,
          68.31229140826022,
          68.22884718578536,
          68.145457576739,
          68.06217134317886,
          67.97896852681825,
          67.8958232615027,
          67.81274250432638,
          67.72976452474079,
          67.64693529050884,
          67.56421569679233,
          67.48157481983161,
          67.39902380098661,
          67.31661525766619,
          67.23439936640605,
          67.15231595169313,
          67.07034472860583,
          66.98851009921943,
          66.9068711644761,
          66.82541251683517,
          66.7441032551457,
          66.66294917397336,
          66.58198729154114,
          66.50124817004797,
          66.42069603448587,
          66.34031759211543,
          66.26012918950607,
          66.18017612062197,
          66.10047496965355,
          66.02097958275583,
          65.94167539054779,
          65.86258605176631,
          65.78377177285539,
          65.70523521436546,
          65.62692504651292,
          65.54883760144762,
          65.4710090210838,
          65.39348491159105,
          65.31622672350933,
          65.23921801878046,
          65.16247328258555,
          65.086034749337,
          65.00990662887264,
          64.93405569213851,
          64.85847748264256,
          64.78319558808512,
          64.70825586194444,
          64.63364572058848,
          64.55932661631704,
          64.4852957611586,
          64.4115859375804,
          64.33825310986052,
          64.26526524684827,
          64.19258779542764,
          64.12022832641837,
          64.0482314669473,
          63.97661687088294,
          63.905344535867236,
          63.83440733337776,
          63.763826544557226,
          63.69364321113248,
          63.62384048127198,
          63.55439216711915,
          63.48530069150182,
          63.41659540953907,
          63.34831533312057,
          63.28042831373489,
          63.21290600453722,
          63.14575452331631,
          63.07901371964096,
          63.01273093529995,
          62.9468570869794,
          62.88135363904805,
          62.81622968680297,
          62.75154115629833,
          62.687334935523495,
          62.62354147866652,
          62.56014436688445,
          62.49716970439508,
          62.43466380427679,
          62.37259651532731,
          62.310952738796175,
          62.24974271923964,
          62.18899676774439,
          62.12871395456647,
          62.068872201831255,
          62.009469183748664,
          61.95052159117129,
          61.89206242588981,
          61.83408606594682,
          61.77655585558953,
          61.719463371341725,
          61.662830755820494,
          61.60670949569322,
          61.55109712232772,
          61.495943932992894,
          61.44124635271493,
          61.387037124366174,
          61.33334660601901,
          61.28013871349633,
          61.22740385008543,
          61.17515539278284,
          61.12342477731085,
          61.07220310767306,
          61.02146653571473,
          60.9712132825315,
          60.92146275053271,
          60.8722502361294,
          60.823560569277035,
          60.775355932240664,
          60.72763048155729,
          60.68041115894091,
          60.6337517618336,
          60.587628106279126,
          60.54199763304851,
          60.49686248847063,
          60.452261118008536,
          60.40820887775613,
          60.36466948913029,
          60.32163645641469,
          60.27912636857826,
          60.237168882447854,
          60.195744785184736,
          60.15483302315139,
          60.11443470018996,
          60.07457216132975,
          60.035277066071984,
          59.9965207477324,
          59.958270432764394,
          59.92052578072285,
          59.883318662888726,
          59.84669750635651,
          59.810619298506914,
          59.775050966811456,
          59.740000494841055,
          59.705510024505216,
          59.67157814794427,
          59.638170963994604,
          59.60528461757389,
          59.572938929417205,
          59.541159837023635,
          59.5099198845689,
          59.47920001799958,
          59.44900374185976,
          59.41935659118137,
          59.39028451029423,
          59.36174869690863,
          59.33372048996571,
          59.30620420936479,
          59.27923686833653,
          59.252857079488884,
          59.22700909916999,
          59.20166797983148,
          59.17684728740851,
          59.15259052310815,
          59.128880410334176,
          59.10568622088518,
          59.083006828467475,
          59.06086557192229,
          59.03928152141074,
          59.01822116368057,
          58.99766761084143,
          58.97762706350383,
          58.95812857619738,
          58.939188074766406,
          58.9207601105409,
          58.902820353134935,
          58.88537802734851,
          58.868475664672694,
          58.85213520002825,
          58.836295576935726,
          58.820938798149584,
          58.80608423169586,
          58.79177356757659,
          58.77797513026496,
          58.76466208836594,
          58.75183635248848,
          58.73952503614728,
          58.72773696823107,
          58.716433847991695,
          58.705598760792306,
          58.69523906229856,
          58.685385388749616,
          58.67603758585703,
          58.667143561518145,
          58.658678195280245,
          58.65064862362198,
          58.64309329705359,
          58.63599771989512,
          58.629286055903876,
          58.62292095685048,
          58.616894103358405,
          58.611196347807585,
          58.60572506093893,
          58.60037836717421,
          58.59505618242609,
          58.589657521763456,
          58.58401620833952,
          58.57788519184157,
          58.57102801684381,
          58.56322496911758,
          58.55427243325878,
          58.54395283057941,
          58.53208454234317,
          58.518620636477486,
          58.50365395871324,
          58.48740237924206,
          58.470056331647704,
          58.4518342829452,
          58.432991384233375,
          58.413806725499676,
          58.39451427692707,
          58.37523788652568,
          58.3561035348622,
          58.33723268562092,
          58.31873749300546,
          58.300661813653036,
          58.283018828738236,
          58.265835940252856,
          58.24915429778403,
          58.233024571601476,
          58.21744010275897,
          58.20236050698032,
          58.18777813359874,
          58.173719788465554,
          58.16024352926495,
          58.147331348055374,
          58.13492312712311,
          58.123011922467306,
          58.11163412678163,
          58.100817864621895,
          58.09051232884667,
          58.08070013619431,
          58.07139131595934,
          58.062617544963736,
          58.05436219001868,
          58.04659128615912,
          58.039297932711094,
          58.03250108265249,
          58.026240125736365,
          58.02049807490971,
          58.01522935251615,
          58.01042914223241,
          58.006134730469924,
          58.00242087430308,
          57.99928336664723,
          57.99668926690021,
          57.99466693628657,
          57.99329583800779,
          57.992649592842646,
          57.9927302968481,
          57.99357152348434,
          57.99522367965953,
          57.99774798071995,
          58.00113463918258,
          58.00532978548633,
          58.01029094578731,
          58.015986608679746,
          58.02239424795725,
          58.02944046463869,
          58.03701132821559,
          58.0450409175812,
          58.05351594703976,
          58.062473360177954,
          58.07187292283972,
          58.08162026728024,
          58.091692173093186,
          58.102118649675916,
          58.112912752690505,
          58.12401685355883,
          58.13541264856416,
          58.14711015260635,
          58.15913486733818,
          58.171456502764926,
          58.1840443659957,
          58.196892931422596,
          58.21002088487411,
          58.22346066181037,
          58.237175753346264,
          58.25111523591886,
          58.2652690127038,
          58.27966796443656,
          58.294376221595584,
          58.30935380925119,
          58.32453922652749,
          58.33993233436077,
          58.35558200429909,
          58.371502279282005,
          58.38764871588052,
          58.40401878527354,
          58.420642716017696,
          58.43756900262695,
          58.454790411113486,
          58.472310438047465,
          58.490173019870866,
          58.5084616266521,
          58.52728492333886,
          58.54670145950231,
          58.56678391519335,
          58.587653511072304,
          58.60947937445659,
          58.63246558347901,
          58.656684679066345,
          58.68215606689329,
          58.70889740400712,
          58.73691266516314,
          58.76612688339071,
          58.79634283685293,
          58.82739029520097,
          58.859134493485584,
          58.89146894464922,
          58.9242416273019,
          58.95730364097815,
          58.990562431166076,
          59.02398110128139,
          59.057558990986955,
          59.091209413255875,
          59.124849909338224,
          59.158454409288815,
          59.19205170167249,
          59.225684241366785,
          59.259267693680584,
          59.29275597866268,
          59.326155782513155,
          59.35951873454612,
          59.39282602900626,
          59.42602406894476,
          59.45910231721905,
          59.492085555634986,
          59.52500518834717,
          59.55781361086685,
          59.59048025642949,
          59.62300791771628,
          59.65543192899661,
          59.687777902013636,
          59.7199866661934,
          59.75202493277661,
          59.78390310927023,
          59.815674919854956,
          59.84737254132531,
          59.878926144564915,
          59.91031884985428,
          59.94158422410618,
          59.97279437746787,
          60.00393959051564,
          60.03500677345682,
          60.06603243467094,
          60.09709739039003,
          60.12828570563012,
          60.159618602406994,
          60.19114441590938,
          60.2229366074219,
          60.25509332754347,
          60.28767739809211,
          60.3206372044266,
          60.353923975695935,
          60.38750605277357,
          60.4213685788576,
          60.45545232943146,
          60.48960698519369,
          60.523738083273145,
          60.55780751394468,
          60.591817084523576,
          60.625686437357864,
          60.65934389811918,
          60.69276465744575,
          60.72596641468223,
          60.75895593461512,
          60.791670898527556,
          60.82408128628819,
          60.85619324587856,
          60.88804780506396,
          60.9196461935962,
          60.95092604901461,
          60.98186385810287,
          61.01247905705314,
          61.04283189954742,
          61.0729223906775,
          61.10267008232698,
          61.132048363980026,
          61.16108970228536,
          61.18987956886824,
          61.2183918273363,
          61.24655590849533,
          61.27437197084272,
          61.30189318250327,
          61.32914502449866,
          61.356083195846175,
          61.38270806714663,
          61.40905340624817,
          61.43517122335531,
          61.46105854390242,
          61.48672541421352,
          61.5122218520821,
          61.5376369434367,
          61.56308365612478,
          61.58863085556315,
          61.614372804649776,
          61.6404623276315,
          61.66711031994593,
          61.69456957202429,
          61.7229820859808,
          61.752461695027925,
          61.78310674538512,
          61.81498870170796,
          61.84807593343923,
          61.882176991989276,
          61.91709977637353,
          61.952663020428496,
          61.98869209230143,
          62.02497121403379,
          62.06129326289297,
          62.09751380188481,
          62.133551394234374,
          62.1693717544264,
          62.20487078146415,
          62.23994969753971,
          62.27456889432951,
          62.30874631326079,
          62.34252400057155,
          62.375823611293356,
          62.40859959323366,
          62.44085865555111,
          62.472651745752714,
          62.50396840784662,
          62.534764490782166,
          62.56503548088782,
          62.59480839864193,
          62.624116291508585,
          62.65292330577073,
          62.68120872667469,
          62.70898066931012,
          62.73627540236738,
          62.76312369453968,
          62.78948063015509,
          62.81532117321017,
          62.84065905111105,
          62.86554644247263,
          62.8900273486232,
          62.91404558188792,
          62.93758917994261,
          62.96069259157676,
          62.983427814361406,
          63.00579952513237,
          63.02780415956477,
          63.04948419145648,
          63.07092283624752,
          63.09221264288512,
          63.11339724590122,
          63.13454850608998,
          63.155766345708145,
          63.177178313597025,
          63.19889137368629,
          63.22090868507499,
          63.243220406165264,
          63.2658144166721,
          63.28867631973994,
          63.31174893810694,
          63.33487145196553,
          63.3579233536291,
          63.38083432920116,
          63.403574863333176,
          63.42605672564735,
          63.4481939499179,
          63.469946527566364,
          63.49131554770328,
          63.512307340635374,
          63.53286588032676,
          63.55296107357861,
          63.5725951719928,
          63.59180228019832,
          63.61059669754662,
          63.628927977945835,
          63.6467754055179,
          63.664155261637276,
          63.68112032492361,
          63.69769217010929,
          63.71380442137945,
          63.72943074806596,
          63.744596058909934,
          63.759375330857644,
          63.77377541935459,
          63.78772923029429,
          63.80123392594007,
          63.81433177758447,
          63.82705999865769,
          63.83938093921709,
          63.851291766658626,
          63.862815647929125,
          63.873993318409745,
          63.88482068187601,
          63.895291627477135,
          63.90542862914707,
          63.91528189495309,
          63.924921337859665,
          63.93437007794648,
          63.94365069149284,
          63.9528329105438,
          63.962033804876356,
          63.971409471522,
          63.98103627330917,
          63.99097708705168,
          64.00131800740145,
          64.01215638463785,
          64.02352754449359,
          64.03535508759725,
          64.04756164290417,
          64.06007023785511,
          64.07279859131876,
          64.08560571296653,
          64.09834625304516,
          64.11092472666293,
          64.12329605849601,
          64.13542077251947,
          64.14719421678792,
          64.15856242079917,
          64.16946939684215,
          64.17976244790508,
          64.18896027210302,
          64.19614827085965,
          64.20057446680632,
          64.20208601363265,
          64.20082883970979,
          64.19695691114003,
          64.19059079234397,
          64.18177095117271,
          64.1705562289314,
          64.15695461854504,
          64.14072996216605,
          64.12158580480703,
          64.09926703228912,
          64.07375265631255,
          64.04514090159248,
          64.01360713063697,
          63.979257984479304,
          63.94218134989464,
          63.902493932881214,
          63.860306998872886,
          63.81560859681895,
          63.76835552160201,
          63.718512070889815,
          63.66613911824511,
          63.611446659979855,
          63.55461405866949,
          63.49580202186737,
          63.43517898878826,
          63.372971533721596,
          63.309359519682324,
          63.24445050069824,
          63.17835472642314,
          63.11124372844889,
          63.04328985927953,
          62.97472878528178,
          62.905776619886964,
          62.83653573951644,
          62.76701684413791,
          62.69715486306993,
          62.626814863377604,
          62.555765854992,
          62.483685206250364,
          62.410310220582254,
          62.335517041872684,
          62.2592240790433,
          62.18140341197145,
          62.102036427003945,
          62.02111269677027,
          61.938641014329434,
          61.85460772721462,
          61.76896946793661,
          61.68168114529861,
          61.5926999175681,
          61.50204244838914,
          61.40973207804401,
          61.31579942337658,
          61.22029509360813,
          61.123276555197364,
          61.02475297897009,
          60.92476369975017,
          60.823389566650704,
          60.720750766474104,
          60.61695345319137,
          60.51199652830654,
          60.4056633745338,
          60.29744603673761,
          60.18701737907105,
          60.07500648788572,
          59.9620006273835,
          59.84813848651024,
          59.73341073491257,
          59.617884369952726,
          59.50160564587948,
          59.384638169152474,
          59.267055181421625,
          59.14893649064297,
          59.030413403250186,
          58.91168124003048,
          58.79299102013376,
          58.67462666456312,
          58.556912185513426,
          58.44020205158806,
          58.32487520419515,
          58.21131938048407,
          58.09976465853956,
          57.99018623641035,
          57.88250835424294,
          57.776936904282,
          57.67350611115309,
          57.57189802904274,
          57.471604269591815,
          57.37203957888938,
          57.2726722443551,
          57.17316081629128,
          57.07325207072126,
          56.972706129158134,
          56.87135966242606,
          56.76926847673037,
          56.66649789424557,
          56.56304880996232,
          56.45890939308019,
          56.354089399913114,
          56.24860315661273,
          56.14248722648894,
          56.035855064137685,
          55.928952175502054,
          55.82194121084069,
          55.71457938017695,
          55.60666100880508,
          55.49817154054599,
          55.38914948212176,
          55.27962239180983,
          55.16961751269109,
          55.059143980017375,
          54.94817132857295,
          54.836512107908874,
          54.724098843124665,
          54.61117906565194,
          54.49795670473882,
          54.384486134400326,
          54.2707796397102,
          54.15684124680141,
          54.04268796453288,
          53.928349598314284,
          53.81387499306336,
          53.699334146640176,
          53.58480120122159,
          53.47032422734397,
          53.355969796130154,
          53.24183901691862,
          53.128050432811406,
          53.01473098379194,
          52.90201858843879,
          52.79005900998293,
          52.678999507494254,
          52.56900058356792,
          52.46011201227993,
          52.352251622716686,
          52.24527597579471,
          52.13900830997405,
          52.03314817881836,
          51.92745347942347,
          51.82196446349271,
          51.716732255844875,
          51.61171976539663,
          51.50685994268453,
          51.40210011615422,
          51.29739778762283,
          51.19272538289918,
          51.08806218753548,
          50.98339074543254,
          50.87870384939454,
          50.77400405678665,
          50.66929669221789,
          50.564572259629855,
          50.45981172377643,
          50.35500150579168,
          50.25016969112298,
          50.145337449669185,
          50.040483020089965,
          49.935511223923996,
          49.83036212038372,
          49.72511896989028,
          49.61987730489267,
          49.514658303616415,
          49.40943687082241,
          49.304202208309526,
          49.198984318398125,
          49.09381009130111,
          48.988673514238535,
          48.883533666110054,
          48.778360373172994,
          48.673197281117254,
          48.568088668200694,
          48.46305706245686,
          48.35812414717654,
          48.25330434157609,
          48.148577203926266,
          48.04392209457444,
          47.93937541369458,
          47.83505793008184,
          47.731049822033334,
          47.62724096541647,
          47.523493639581936,
          47.41976848961338,
          47.31605543608251,
          47.21235481354055,
          47.108677280774586,
          47.00503223083379,
          46.901385034364345,
          46.797628411086905,
          46.69366661511953,
          46.58963891882237,
          46.48568034277693,
          46.38183638705465,
          46.27812066470881,
          46.17453831408977,
          46.071087923112266,
          45.96776774207975,
          45.86458676548114,
          45.761567571828195,
          45.65873234683656,
          45.556067921386585,
          45.453559515008116,
          45.35120125365827,
          45.24898984425578,
          45.146924445583466,
          45.04501114539402,
          44.943261162713924,
          44.841693031831504,
          44.74037476191285,
          44.63934151686432,
          44.53853640412174,
          44.437905886314915,
          44.3374330185868,
          44.2371210080996,
          44.136974266049435,
          44.036992368917616,
          43.937175455477956,
          43.83752436623334,
          43.73804006393194,
          43.63872414385753,
          43.53957770233623,
          43.44060150406673,
          43.34179680907053,
          43.24316462780946,
          43.14470724888321,
          43.046429028434126,
          42.94832624252898,
          42.850386463431086,
          42.752584426076176,
          42.654898713557884,
          42.5573627272543,
          42.46001981304421,
          42.362880364402265,
          42.26594172966194,
          42.16919520782358,
          42.07264272512767,
          41.9762791653121,
          41.88008132713711,
          41.783990073038616,
          41.687965434255254,
          41.59203462556003,
          41.496236282069475,
          41.400577299045004,
          41.305048758977605,
          41.20964559764482,
          41.11437450405097,
          41.01924425481309,
          40.92427411164919,
          40.82950738915581,
          40.73497388553542,
          40.64065461252296,
          40.546505567466156,
          40.4525177431009,
          40.35868958670618,
          40.265023290276844,
          40.17152260346435,
          40.07818998021276,
          39.98502428008676,
          39.892016358205275,
          39.79916266966927,
          39.70647806577061,
          39.613984584197816,
          39.5216999874765,
          39.429663035185335,
          39.33790160994668,
          39.24637336646667,
          39.15503942619652,
          39.06389540970629,
          38.972951075628984,
          38.882211137208955,
          38.791665572058214,
          38.70130440721934,
          38.611116561933876,
          38.521070884607646,
          38.43114712751274,
          38.341391733250106,
          38.25184766563208,
          38.16252668344484,
          38.07342691151832,
          37.98454927531502,
          37.89591074656896,
          37.8075321049014,
          37.719428613623634,
          37.63161646404448,
          37.54410387027615,
          37.45687701326679,
          37.36991584218234,
          37.28318130639301,
          37.19658171968444,
          37.110052826200764,
          37.0236339283524,
          36.93739551979466,
          36.85135930241654,
          36.765531139827104,
          36.6799114606465,
          36.59448820855134,
          36.50925049020475,
          36.42419170388775,
          36.33930729895817,
          36.25459476917403,
          36.17005521281539,
          36.08569269843985,
          36.00149862066912,
          35.9174516203424,
          35.83354463169346,
          35.749793685404434,
          35.66621784582077,
          35.58279259752969,
          35.499443483408974,
          35.41611879105298,
          35.332872393248635,
          35.24978563014597,
          35.166883691947895,
          35.08418132183427,
          35.001684481957405,
          34.919381007682276,
          34.83725591934562,
          34.75529213062037,
          34.673444438316196,
          34.59167940267984,
          34.5100343195569,
          34.428553125325,
          34.34725258284655,
          34.26613899161882,
          34.18521583314616,
          34.10447863852067,
          34.02392932626098,
          33.94360692096816,
          33.86361112377305,
          33.783993054128125,
          33.70469618238949,
          33.625640952913116,
          33.54677796322198,
          33.468089974747315
         ],
         "yaxis": "y"
        },
        {
         "hovertemplate": "x=%{x}<br>y=%{y}<extra></extra>",
         "legendgroup": "",
         "marker": {
          "color": "red",
          "symbol": "circle"
         },
         "mode": "markers",
         "name": "",
         "orientation": "v",
         "showlegend": false,
         "type": "scatter",
         "x": [
          2016
         ],
         "xaxis": "x",
         "y": [
          36.8
         ],
         "yaxis": "y"
        }
       ],
       "layout": {
        "template": {
         "data": {
          "bar": [
           {
            "error_x": {
             "color": "#2a3f5f"
            },
            "error_y": {
             "color": "#2a3f5f"
            },
            "marker": {
             "line": {
              "color": "#E5ECF6",
              "width": 0.5
             },
             "pattern": {
              "fillmode": "overlay",
              "size": 10,
              "solidity": 0.2
             }
            },
            "type": "bar"
           }
          ],
          "barpolar": [
           {
            "marker": {
             "line": {
              "color": "#E5ECF6",
              "width": 0.5
             },
             "pattern": {
              "fillmode": "overlay",
              "size": 10,
              "solidity": 0.2
             }
            },
            "type": "barpolar"
           }
          ],
          "carpet": [
           {
            "aaxis": {
             "endlinecolor": "#2a3f5f",
             "gridcolor": "white",
             "linecolor": "white",
             "minorgridcolor": "white",
             "startlinecolor": "#2a3f5f"
            },
            "baxis": {
             "endlinecolor": "#2a3f5f",
             "gridcolor": "white",
             "linecolor": "white",
             "minorgridcolor": "white",
             "startlinecolor": "#2a3f5f"
            },
            "type": "carpet"
           }
          ],
          "choropleth": [
           {
            "colorbar": {
             "outlinewidth": 0,
             "ticks": ""
            },
            "type": "choropleth"
           }
          ],
          "contour": [
           {
            "colorbar": {
             "outlinewidth": 0,
             "ticks": ""
            },
            "colorscale": [
             [
              0,
              "#0d0887"
             ],
             [
              0.1111111111111111,
              "#46039f"
             ],
             [
              0.2222222222222222,
              "#7201a8"
             ],
             [
              0.3333333333333333,
              "#9c179e"
             ],
             [
              0.4444444444444444,
              "#bd3786"
             ],
             [
              0.5555555555555556,
              "#d8576b"
             ],
             [
              0.6666666666666666,
              "#ed7953"
             ],
             [
              0.7777777777777778,
              "#fb9f3a"
             ],
             [
              0.8888888888888888,
              "#fdca26"
             ],
             [
              1,
              "#f0f921"
             ]
            ],
            "type": "contour"
           }
          ],
          "contourcarpet": [
           {
            "colorbar": {
             "outlinewidth": 0,
             "ticks": ""
            },
            "type": "contourcarpet"
           }
          ],
          "heatmap": [
           {
            "colorbar": {
             "outlinewidth": 0,
             "ticks": ""
            },
            "colorscale": [
             [
              0,
              "#0d0887"
             ],
             [
              0.1111111111111111,
              "#46039f"
             ],
             [
              0.2222222222222222,
              "#7201a8"
             ],
             [
              0.3333333333333333,
              "#9c179e"
             ],
             [
              0.4444444444444444,
              "#bd3786"
             ],
             [
              0.5555555555555556,
              "#d8576b"
             ],
             [
              0.6666666666666666,
              "#ed7953"
             ],
             [
              0.7777777777777778,
              "#fb9f3a"
             ],
             [
              0.8888888888888888,
              "#fdca26"
             ],
             [
              1,
              "#f0f921"
             ]
            ],
            "type": "heatmap"
           }
          ],
          "heatmapgl": [
           {
            "colorbar": {
             "outlinewidth": 0,
             "ticks": ""
            },
            "colorscale": [
             [
              0,
              "#0d0887"
             ],
             [
              0.1111111111111111,
              "#46039f"
             ],
             [
              0.2222222222222222,
              "#7201a8"
             ],
             [
              0.3333333333333333,
              "#9c179e"
             ],
             [
              0.4444444444444444,
              "#bd3786"
             ],
             [
              0.5555555555555556,
              "#d8576b"
             ],
             [
              0.6666666666666666,
              "#ed7953"
             ],
             [
              0.7777777777777778,
              "#fb9f3a"
             ],
             [
              0.8888888888888888,
              "#fdca26"
             ],
             [
              1,
              "#f0f921"
             ]
            ],
            "type": "heatmapgl"
           }
          ],
          "histogram": [
           {
            "marker": {
             "pattern": {
              "fillmode": "overlay",
              "size": 10,
              "solidity": 0.2
             }
            },
            "type": "histogram"
           }
          ],
          "histogram2d": [
           {
            "colorbar": {
             "outlinewidth": 0,
             "ticks": ""
            },
            "colorscale": [
             [
              0,
              "#0d0887"
             ],
             [
              0.1111111111111111,
              "#46039f"
             ],
             [
              0.2222222222222222,
              "#7201a8"
             ],
             [
              0.3333333333333333,
              "#9c179e"
             ],
             [
              0.4444444444444444,
              "#bd3786"
             ],
             [
              0.5555555555555556,
              "#d8576b"
             ],
             [
              0.6666666666666666,
              "#ed7953"
             ],
             [
              0.7777777777777778,
              "#fb9f3a"
             ],
             [
              0.8888888888888888,
              "#fdca26"
             ],
             [
              1,
              "#f0f921"
             ]
            ],
            "type": "histogram2d"
           }
          ],
          "histogram2dcontour": [
           {
            "colorbar": {
             "outlinewidth": 0,
             "ticks": ""
            },
            "colorscale": [
             [
              0,
              "#0d0887"
             ],
             [
              0.1111111111111111,
              "#46039f"
             ],
             [
              0.2222222222222222,
              "#7201a8"
             ],
             [
              0.3333333333333333,
              "#9c179e"
             ],
             [
              0.4444444444444444,
              "#bd3786"
             ],
             [
              0.5555555555555556,
              "#d8576b"
             ],
             [
              0.6666666666666666,
              "#ed7953"
             ],
             [
              0.7777777777777778,
              "#fb9f3a"
             ],
             [
              0.8888888888888888,
              "#fdca26"
             ],
             [
              1,
              "#f0f921"
             ]
            ],
            "type": "histogram2dcontour"
           }
          ],
          "mesh3d": [
           {
            "colorbar": {
             "outlinewidth": 0,
             "ticks": ""
            },
            "type": "mesh3d"
           }
          ],
          "parcoords": [
           {
            "line": {
             "colorbar": {
              "outlinewidth": 0,
              "ticks": ""
             }
            },
            "type": "parcoords"
           }
          ],
          "pie": [
           {
            "automargin": true,
            "type": "pie"
           }
          ],
          "scatter": [
           {
            "fillpattern": {
             "fillmode": "overlay",
             "size": 10,
             "solidity": 0.2
            },
            "type": "scatter"
           }
          ],
          "scatter3d": [
           {
            "line": {
             "colorbar": {
              "outlinewidth": 0,
              "ticks": ""
             }
            },
            "marker": {
             "colorbar": {
              "outlinewidth": 0,
              "ticks": ""
             }
            },
            "type": "scatter3d"
           }
          ],
          "scattercarpet": [
           {
            "marker": {
             "colorbar": {
              "outlinewidth": 0,
              "ticks": ""
             }
            },
            "type": "scattercarpet"
           }
          ],
          "scattergeo": [
           {
            "marker": {
             "colorbar": {
              "outlinewidth": 0,
              "ticks": ""
             }
            },
            "type": "scattergeo"
           }
          ],
          "scattergl": [
           {
            "marker": {
             "colorbar": {
              "outlinewidth": 0,
              "ticks": ""
             }
            },
            "type": "scattergl"
           }
          ],
          "scattermapbox": [
           {
            "marker": {
             "colorbar": {
              "outlinewidth": 0,
              "ticks": ""
             }
            },
            "type": "scattermapbox"
           }
          ],
          "scatterpolar": [
           {
            "marker": {
             "colorbar": {
              "outlinewidth": 0,
              "ticks": ""
             }
            },
            "type": "scatterpolar"
           }
          ],
          "scatterpolargl": [
           {
            "marker": {
             "colorbar": {
              "outlinewidth": 0,
              "ticks": ""
             }
            },
            "type": "scatterpolargl"
           }
          ],
          "scatterternary": [
           {
            "marker": {
             "colorbar": {
              "outlinewidth": 0,
              "ticks": ""
             }
            },
            "type": "scatterternary"
           }
          ],
          "surface": [
           {
            "colorbar": {
             "outlinewidth": 0,
             "ticks": ""
            },
            "colorscale": [
             [
              0,
              "#0d0887"
             ],
             [
              0.1111111111111111,
              "#46039f"
             ],
             [
              0.2222222222222222,
              "#7201a8"
             ],
             [
              0.3333333333333333,
              "#9c179e"
             ],
             [
              0.4444444444444444,
              "#bd3786"
             ],
             [
              0.5555555555555556,
              "#d8576b"
             ],
             [
              0.6666666666666666,
              "#ed7953"
             ],
             [
              0.7777777777777778,
              "#fb9f3a"
             ],
             [
              0.8888888888888888,
              "#fdca26"
             ],
             [
              1,
              "#f0f921"
             ]
            ],
            "type": "surface"
           }
          ],
          "table": [
           {
            "cells": {
             "fill": {
              "color": "#EBF0F8"
             },
             "line": {
              "color": "white"
             }
            },
            "header": {
             "fill": {
              "color": "#C8D4E3"
             },
             "line": {
              "color": "white"
             }
            },
            "type": "table"
           }
          ]
         },
         "layout": {
          "annotationdefaults": {
           "arrowcolor": "#2a3f5f",
           "arrowhead": 0,
           "arrowwidth": 1
          },
          "autotypenumbers": "strict",
          "coloraxis": {
           "colorbar": {
            "outlinewidth": 0,
            "ticks": ""
           }
          },
          "colorscale": {
           "diverging": [
            [
             0,
             "#8e0152"
            ],
            [
             0.1,
             "#c51b7d"
            ],
            [
             0.2,
             "#de77ae"
            ],
            [
             0.3,
             "#f1b6da"
            ],
            [
             0.4,
             "#fde0ef"
            ],
            [
             0.5,
             "#f7f7f7"
            ],
            [
             0.6,
             "#e6f5d0"
            ],
            [
             0.7,
             "#b8e186"
            ],
            [
             0.8,
             "#7fbc41"
            ],
            [
             0.9,
             "#4d9221"
            ],
            [
             1,
             "#276419"
            ]
           ],
           "sequential": [
            [
             0,
             "#0d0887"
            ],
            [
             0.1111111111111111,
             "#46039f"
            ],
            [
             0.2222222222222222,
             "#7201a8"
            ],
            [
             0.3333333333333333,
             "#9c179e"
            ],
            [
             0.4444444444444444,
             "#bd3786"
            ],
            [
             0.5555555555555556,
             "#d8576b"
            ],
            [
             0.6666666666666666,
             "#ed7953"
            ],
            [
             0.7777777777777778,
             "#fb9f3a"
            ],
            [
             0.8888888888888888,
             "#fdca26"
            ],
            [
             1,
             "#f0f921"
            ]
           ],
           "sequentialminus": [
            [
             0,
             "#0d0887"
            ],
            [
             0.1111111111111111,
             "#46039f"
            ],
            [
             0.2222222222222222,
             "#7201a8"
            ],
            [
             0.3333333333333333,
             "#9c179e"
            ],
            [
             0.4444444444444444,
             "#bd3786"
            ],
            [
             0.5555555555555556,
             "#d8576b"
            ],
            [
             0.6666666666666666,
             "#ed7953"
            ],
            [
             0.7777777777777778,
             "#fb9f3a"
            ],
            [
             0.8888888888888888,
             "#fdca26"
            ],
            [
             1,
             "#f0f921"
            ]
           ]
          },
          "colorway": [
           "#636efa",
           "#EF553B",
           "#00cc96",
           "#ab63fa",
           "#FFA15A",
           "#19d3f3",
           "#FF6692",
           "#B6E880",
           "#FF97FF",
           "#FECB52"
          ],
          "font": {
           "color": "#2a3f5f"
          },
          "geo": {
           "bgcolor": "white",
           "lakecolor": "white",
           "landcolor": "#E5ECF6",
           "showlakes": true,
           "showland": true,
           "subunitcolor": "white"
          },
          "hoverlabel": {
           "align": "left"
          },
          "hovermode": "closest",
          "mapbox": {
           "style": "light"
          },
          "paper_bgcolor": "white",
          "plot_bgcolor": "#E5ECF6",
          "polar": {
           "angularaxis": {
            "gridcolor": "white",
            "linecolor": "white",
            "ticks": ""
           },
           "bgcolor": "#E5ECF6",
           "radialaxis": {
            "gridcolor": "white",
            "linecolor": "white",
            "ticks": ""
           }
          },
          "scene": {
           "xaxis": {
            "backgroundcolor": "#E5ECF6",
            "gridcolor": "white",
            "gridwidth": 2,
            "linecolor": "white",
            "showbackground": true,
            "ticks": "",
            "zerolinecolor": "white"
           },
           "yaxis": {
            "backgroundcolor": "#E5ECF6",
            "gridcolor": "white",
            "gridwidth": 2,
            "linecolor": "white",
            "showbackground": true,
            "ticks": "",
            "zerolinecolor": "white"
           },
           "zaxis": {
            "backgroundcolor": "#E5ECF6",
            "gridcolor": "white",
            "gridwidth": 2,
            "linecolor": "white",
            "showbackground": true,
            "ticks": "",
            "zerolinecolor": "white"
           }
          },
          "shapedefaults": {
           "line": {
            "color": "#2a3f5f"
           }
          },
          "ternary": {
           "aaxis": {
            "gridcolor": "white",
            "linecolor": "white",
            "ticks": ""
           },
           "baxis": {
            "gridcolor": "white",
            "linecolor": "white",
            "ticks": ""
           },
           "bgcolor": "#E5ECF6",
           "caxis": {
            "gridcolor": "white",
            "linecolor": "white",
            "ticks": ""
           }
          },
          "title": {
           "x": 0.05
          },
          "xaxis": {
           "automargin": true,
           "gridcolor": "white",
           "linecolor": "white",
           "ticks": "",
           "title": {
            "standoff": 15
           },
           "zerolinecolor": "white",
           "zerolinewidth": 2
          },
          "yaxis": {
           "automargin": true,
           "gridcolor": "white",
           "linecolor": "white",
           "ticks": "",
           "title": {
            "standoff": 15
           },
           "zerolinecolor": "white",
           "zerolinewidth": 2
          }
         }
        },
        "title": {
         "text": "Modelled vs Data",
         "x": 0.5
        },
        "xaxis": {
         "title": {
          "text": "Year"
         }
        },
        "yaxis": {
         "title": {
          "text": "Population"
         }
        }
       }
      }
     },
     "metadata": {},
     "output_type": "display_data"
    }
   ],
   "source": [
    "latent_1 = px.line(\n",
    "    derived_df_0,\n",
    "    x=derived_df_0.index,\n",
    "    y=\"percentage_latent\",\n",
    ")\n",
    "latent_2 = px.scatter(x= plots['percentage_latent']['times'], y = plots['percentage_latent']['values'])\n",
    "latent_2.update_traces(marker=dict(color=\"red\"))\n",
    "latent_plot = go.Figure(\n",
    "    data=latent_1.data + latent_2.data,\n",
    ")\n",
    "latent_plot.update_layout(\n",
    "    title=\"Modelled vs Data\", title_x=0.5, xaxis_title=\"Year\", yaxis_title=\"Population\"\n",
    ")\n",
    "latent_plot.show()"
   ]
  },
  {
   "cell_type": "code",
   "execution_count": 14,
   "metadata": {},
   "outputs": [
    {
     "data": {
      "application/vnd.plotly.v1+json": {
       "config": {
        "plotlyServerURL": "https://plot.ly"
       },
       "data": [
        {
         "hovertemplate": "index=%{x}<br>notifications=%{y}<extra></extra>",
         "legendgroup": "",
         "line": {
          "color": "#636efa",
          "dash": "solid"
         },
         "marker": {
          "symbol": "circle"
         },
         "mode": "lines",
         "name": "",
         "showlegend": false,
         "type": "scattergl",
         "x": [
          1900,
          1900.1,
          1900.2,
          1900.3,
          1900.4,
          1900.5,
          1900.6,
          1900.7,
          1900.8,
          1900.9,
          1901,
          1901.1,
          1901.2,
          1901.3,
          1901.4,
          1901.5,
          1901.6,
          1901.7,
          1901.8,
          1901.9,
          1902,
          1902.1,
          1902.2,
          1902.3,
          1902.4,
          1902.5,
          1902.6,
          1902.7,
          1902.8,
          1902.9,
          1903,
          1903.1,
          1903.2,
          1903.3,
          1903.4,
          1903.5,
          1903.6,
          1903.7,
          1903.8,
          1903.9,
          1904,
          1904.1,
          1904.2,
          1904.3,
          1904.4,
          1904.5,
          1904.6,
          1904.7,
          1904.8,
          1904.9,
          1905,
          1905.1,
          1905.2,
          1905.3,
          1905.4,
          1905.5,
          1905.6,
          1905.7,
          1905.8,
          1905.9,
          1906,
          1906.1,
          1906.2,
          1906.3,
          1906.4,
          1906.5,
          1906.6,
          1906.7,
          1906.8,
          1906.9,
          1907,
          1907.1,
          1907.2,
          1907.3,
          1907.4,
          1907.5,
          1907.6,
          1907.7,
          1907.8,
          1907.9,
          1908,
          1908.1,
          1908.2,
          1908.3,
          1908.4,
          1908.5,
          1908.6,
          1908.7,
          1908.8,
          1908.9,
          1909,
          1909.1,
          1909.2,
          1909.3,
          1909.4,
          1909.5,
          1909.6,
          1909.7,
          1909.8,
          1909.9,
          1910,
          1910.1,
          1910.2,
          1910.3,
          1910.4,
          1910.5,
          1910.6,
          1910.7,
          1910.8,
          1910.9,
          1911,
          1911.1,
          1911.2,
          1911.3,
          1911.4,
          1911.5,
          1911.6,
          1911.7,
          1911.8,
          1911.9,
          1912,
          1912.1,
          1912.2,
          1912.3,
          1912.4,
          1912.5,
          1912.6,
          1912.7,
          1912.8,
          1912.9,
          1913,
          1913.1,
          1913.2,
          1913.3,
          1913.4,
          1913.5,
          1913.6,
          1913.7,
          1913.8,
          1913.9,
          1914,
          1914.1,
          1914.2,
          1914.3,
          1914.4,
          1914.5,
          1914.6,
          1914.7,
          1914.8,
          1914.9,
          1915,
          1915.1,
          1915.2,
          1915.3,
          1915.4,
          1915.5,
          1915.6,
          1915.7,
          1915.8,
          1915.9,
          1916,
          1916.1,
          1916.2,
          1916.3,
          1916.4,
          1916.5,
          1916.6,
          1916.7,
          1916.8,
          1916.9,
          1917,
          1917.1,
          1917.2,
          1917.3,
          1917.4,
          1917.5,
          1917.6,
          1917.7,
          1917.8,
          1917.9,
          1918,
          1918.1,
          1918.2,
          1918.3,
          1918.4,
          1918.5,
          1918.6,
          1918.7,
          1918.8,
          1918.9,
          1919,
          1919.1,
          1919.2,
          1919.3,
          1919.4,
          1919.5,
          1919.6,
          1919.7,
          1919.8,
          1919.9,
          1920,
          1920.1,
          1920.2,
          1920.3,
          1920.4,
          1920.5,
          1920.6,
          1920.7,
          1920.8,
          1920.9,
          1921,
          1921.1,
          1921.2,
          1921.3,
          1921.4,
          1921.5,
          1921.6,
          1921.7,
          1921.8,
          1921.9,
          1922,
          1922.1,
          1922.2,
          1922.3,
          1922.4,
          1922.5,
          1922.6,
          1922.7,
          1922.8,
          1922.9,
          1923,
          1923.1,
          1923.2,
          1923.3,
          1923.4,
          1923.5,
          1923.6,
          1923.7,
          1923.8,
          1923.9,
          1924,
          1924.1,
          1924.2,
          1924.3,
          1924.4,
          1924.5,
          1924.6,
          1924.7,
          1924.8,
          1924.9,
          1925,
          1925.1,
          1925.2,
          1925.3,
          1925.4,
          1925.5,
          1925.6,
          1925.7,
          1925.8,
          1925.9,
          1926,
          1926.1,
          1926.2,
          1926.3,
          1926.4,
          1926.5,
          1926.6,
          1926.7,
          1926.8,
          1926.9,
          1927,
          1927.1,
          1927.2,
          1927.3,
          1927.4,
          1927.5,
          1927.6,
          1927.7,
          1927.8,
          1927.9,
          1928,
          1928.1,
          1928.2,
          1928.3,
          1928.4,
          1928.5,
          1928.6,
          1928.7,
          1928.8,
          1928.9,
          1929,
          1929.1,
          1929.2,
          1929.3,
          1929.4,
          1929.5,
          1929.6,
          1929.7,
          1929.8,
          1929.9,
          1930,
          1930.1,
          1930.2,
          1930.3,
          1930.4,
          1930.5,
          1930.6,
          1930.7,
          1930.8,
          1930.9,
          1931,
          1931.1,
          1931.2,
          1931.3,
          1931.4,
          1931.5,
          1931.6,
          1931.7,
          1931.8,
          1931.9,
          1932,
          1932.1,
          1932.2,
          1932.3,
          1932.4,
          1932.5,
          1932.6,
          1932.7,
          1932.8,
          1932.9,
          1933,
          1933.1,
          1933.2,
          1933.3,
          1933.4,
          1933.5,
          1933.6,
          1933.7,
          1933.8,
          1933.9,
          1934,
          1934.1,
          1934.2,
          1934.3,
          1934.4,
          1934.5,
          1934.6,
          1934.7,
          1934.8,
          1934.9,
          1935,
          1935.1,
          1935.2,
          1935.3,
          1935.4,
          1935.5,
          1935.6,
          1935.7,
          1935.8,
          1935.9,
          1936,
          1936.1,
          1936.2,
          1936.3,
          1936.4,
          1936.5,
          1936.6,
          1936.7,
          1936.8,
          1936.9,
          1937,
          1937.1,
          1937.2,
          1937.3,
          1937.4,
          1937.5,
          1937.6,
          1937.7,
          1937.8,
          1937.9,
          1938,
          1938.1,
          1938.2,
          1938.3,
          1938.4,
          1938.5,
          1938.6,
          1938.7,
          1938.8,
          1938.9,
          1939,
          1939.1,
          1939.2,
          1939.3,
          1939.4,
          1939.5,
          1939.6,
          1939.7,
          1939.8,
          1939.9,
          1940,
          1940.1,
          1940.2,
          1940.3,
          1940.4,
          1940.5,
          1940.6,
          1940.7,
          1940.8,
          1940.9,
          1941,
          1941.1,
          1941.2,
          1941.3,
          1941.4,
          1941.5,
          1941.6,
          1941.7,
          1941.8,
          1941.9,
          1942,
          1942.1,
          1942.2,
          1942.3,
          1942.4,
          1942.5,
          1942.6,
          1942.7,
          1942.8,
          1942.9,
          1943,
          1943.1,
          1943.2,
          1943.3,
          1943.4,
          1943.5,
          1943.6,
          1943.7,
          1943.8,
          1943.9,
          1944,
          1944.1,
          1944.2,
          1944.3,
          1944.4,
          1944.5,
          1944.6,
          1944.7,
          1944.8,
          1944.9,
          1945,
          1945.1,
          1945.2,
          1945.3,
          1945.4,
          1945.5,
          1945.6,
          1945.7,
          1945.8,
          1945.9,
          1946,
          1946.1,
          1946.2,
          1946.3,
          1946.4,
          1946.5,
          1946.6,
          1946.7,
          1946.8,
          1946.9,
          1947,
          1947.1,
          1947.2,
          1947.3,
          1947.4,
          1947.5,
          1947.6,
          1947.7,
          1947.8,
          1947.9,
          1948,
          1948.1,
          1948.2,
          1948.3,
          1948.4,
          1948.5,
          1948.6,
          1948.7,
          1948.8,
          1948.9,
          1949,
          1949.1,
          1949.2,
          1949.3,
          1949.4,
          1949.5,
          1949.6,
          1949.7,
          1949.8,
          1949.9,
          1950,
          1950.1,
          1950.2,
          1950.3,
          1950.4,
          1950.5,
          1950.6,
          1950.7,
          1950.8,
          1950.9,
          1951,
          1951.1,
          1951.2,
          1951.3,
          1951.4,
          1951.5,
          1951.6,
          1951.7,
          1951.8,
          1951.9,
          1952,
          1952.1,
          1952.2,
          1952.3,
          1952.4,
          1952.5,
          1952.6,
          1952.7,
          1952.8,
          1952.9,
          1953,
          1953.1,
          1953.2,
          1953.3,
          1953.4,
          1953.5,
          1953.6,
          1953.7,
          1953.8,
          1953.9,
          1954,
          1954.1,
          1954.2,
          1954.3,
          1954.4,
          1954.5,
          1954.6,
          1954.7,
          1954.8,
          1954.9,
          1955,
          1955.1,
          1955.2,
          1955.3,
          1955.4,
          1955.5,
          1955.6,
          1955.7,
          1955.8,
          1955.9,
          1956,
          1956.1,
          1956.2,
          1956.3,
          1956.4,
          1956.5,
          1956.6,
          1956.7,
          1956.8,
          1956.9,
          1957,
          1957.1,
          1957.2,
          1957.3,
          1957.4,
          1957.5,
          1957.6,
          1957.7,
          1957.8,
          1957.9,
          1958,
          1958.1,
          1958.2,
          1958.3,
          1958.4,
          1958.5,
          1958.6,
          1958.7,
          1958.8,
          1958.9,
          1959,
          1959.1,
          1959.2,
          1959.3,
          1959.4,
          1959.5,
          1959.6,
          1959.7,
          1959.8,
          1959.9,
          1960,
          1960.1,
          1960.2,
          1960.3,
          1960.4,
          1960.5,
          1960.6,
          1960.7,
          1960.8,
          1960.9,
          1961,
          1961.1,
          1961.2,
          1961.3,
          1961.4,
          1961.5,
          1961.6,
          1961.7,
          1961.8,
          1961.9,
          1962,
          1962.1,
          1962.2,
          1962.3,
          1962.4,
          1962.5,
          1962.6,
          1962.7,
          1962.8,
          1962.9,
          1963,
          1963.1,
          1963.2,
          1963.3,
          1963.4,
          1963.5,
          1963.6,
          1963.7,
          1963.8,
          1963.9,
          1964,
          1964.1,
          1964.2,
          1964.3,
          1964.4,
          1964.5,
          1964.6,
          1964.7,
          1964.8,
          1964.9,
          1965,
          1965.1,
          1965.2,
          1965.3,
          1965.4,
          1965.5,
          1965.6,
          1965.7,
          1965.8,
          1965.9,
          1966,
          1966.1,
          1966.2,
          1966.3,
          1966.4,
          1966.5,
          1966.6,
          1966.7,
          1966.8,
          1966.9,
          1967,
          1967.1,
          1967.2,
          1967.3,
          1967.4,
          1967.5,
          1967.6,
          1967.7,
          1967.8,
          1967.9,
          1968,
          1968.1,
          1968.2,
          1968.3,
          1968.4,
          1968.5,
          1968.6,
          1968.7,
          1968.8,
          1968.9,
          1969,
          1969.1,
          1969.2,
          1969.3,
          1969.4,
          1969.5,
          1969.6,
          1969.7,
          1969.8,
          1969.9,
          1970,
          1970.1,
          1970.2,
          1970.3,
          1970.4,
          1970.5,
          1970.6,
          1970.7,
          1970.8,
          1970.9,
          1971,
          1971.1,
          1971.2,
          1971.3,
          1971.4,
          1971.5,
          1971.6,
          1971.7,
          1971.8,
          1971.9,
          1972,
          1972.1,
          1972.2,
          1972.3,
          1972.4,
          1972.5,
          1972.6,
          1972.7,
          1972.8,
          1972.9,
          1973,
          1973.1,
          1973.2,
          1973.3,
          1973.4,
          1973.5,
          1973.6,
          1973.7,
          1973.8,
          1973.9,
          1974,
          1974.1,
          1974.2,
          1974.3,
          1974.4,
          1974.5,
          1974.6,
          1974.7,
          1974.8,
          1974.9,
          1975,
          1975.1,
          1975.2,
          1975.3,
          1975.4,
          1975.5,
          1975.6,
          1975.7,
          1975.8,
          1975.9,
          1976,
          1976.1,
          1976.2,
          1976.3,
          1976.4,
          1976.5,
          1976.6,
          1976.7,
          1976.8,
          1976.9,
          1977,
          1977.1,
          1977.2,
          1977.3,
          1977.4,
          1977.5,
          1977.6,
          1977.7,
          1977.8,
          1977.9,
          1978,
          1978.1,
          1978.2,
          1978.3,
          1978.4,
          1978.5,
          1978.6,
          1978.7,
          1978.8,
          1978.9,
          1979,
          1979.1,
          1979.2,
          1979.3,
          1979.4,
          1979.5,
          1979.6,
          1979.7,
          1979.8,
          1979.9,
          1980,
          1980.1,
          1980.2,
          1980.3,
          1980.4,
          1980.5,
          1980.6,
          1980.7,
          1980.8,
          1980.9,
          1981,
          1981.1,
          1981.2,
          1981.3,
          1981.4,
          1981.5,
          1981.6,
          1981.7,
          1981.8,
          1981.9,
          1982,
          1982.1,
          1982.2,
          1982.3,
          1982.4,
          1982.5,
          1982.6,
          1982.7,
          1982.8,
          1982.9,
          1983,
          1983.1,
          1983.2,
          1983.3,
          1983.4,
          1983.5,
          1983.6,
          1983.7,
          1983.8,
          1983.9,
          1984,
          1984.1,
          1984.2,
          1984.3,
          1984.4,
          1984.5,
          1984.6,
          1984.7,
          1984.8,
          1984.9,
          1985,
          1985.1,
          1985.2,
          1985.3,
          1985.4,
          1985.5,
          1985.6,
          1985.7,
          1985.8,
          1985.9,
          1986,
          1986.1,
          1986.2,
          1986.3,
          1986.4,
          1986.5,
          1986.6,
          1986.7,
          1986.8,
          1986.9,
          1987,
          1987.1,
          1987.2,
          1987.3,
          1987.4,
          1987.5,
          1987.6,
          1987.7,
          1987.8,
          1987.9,
          1988,
          1988.1,
          1988.2,
          1988.3,
          1988.4,
          1988.5,
          1988.6,
          1988.7,
          1988.8,
          1988.9,
          1989,
          1989.1,
          1989.2,
          1989.3,
          1989.4,
          1989.5,
          1989.6,
          1989.7,
          1989.8,
          1989.9,
          1990,
          1990.1,
          1990.2,
          1990.3,
          1990.4,
          1990.5,
          1990.6,
          1990.7,
          1990.8,
          1990.9,
          1991,
          1991.1,
          1991.2,
          1991.3,
          1991.4,
          1991.5,
          1991.6,
          1991.7,
          1991.8,
          1991.9,
          1992,
          1992.1,
          1992.2,
          1992.3,
          1992.4,
          1992.5,
          1992.6,
          1992.7,
          1992.8,
          1992.9,
          1993,
          1993.1,
          1993.2,
          1993.3,
          1993.4,
          1993.5,
          1993.6,
          1993.7,
          1993.8,
          1993.9,
          1994,
          1994.1,
          1994.2,
          1994.3,
          1994.4,
          1994.5,
          1994.6,
          1994.7,
          1994.8,
          1994.9,
          1995,
          1995.1,
          1995.2,
          1995.3,
          1995.4,
          1995.5,
          1995.6,
          1995.7,
          1995.8,
          1995.9,
          1996,
          1996.1,
          1996.2,
          1996.3,
          1996.4,
          1996.5,
          1996.6,
          1996.7,
          1996.8,
          1996.9,
          1997,
          1997.1,
          1997.2,
          1997.3,
          1997.4,
          1997.5,
          1997.6,
          1997.7,
          1997.8,
          1997.9,
          1998,
          1998.1,
          1998.2,
          1998.3,
          1998.4,
          1998.5,
          1998.6,
          1998.7,
          1998.8,
          1998.9,
          1999,
          1999.1,
          1999.2,
          1999.3,
          1999.4,
          1999.5,
          1999.6,
          1999.7,
          1999.8,
          1999.9,
          2000,
          2000.1,
          2000.2,
          2000.3,
          2000.4,
          2000.5,
          2000.6,
          2000.7,
          2000.8,
          2000.9,
          2001,
          2001.1,
          2001.2,
          2001.3,
          2001.4,
          2001.5,
          2001.6,
          2001.7,
          2001.8,
          2001.9,
          2002,
          2002.1,
          2002.2,
          2002.3,
          2002.4,
          2002.5,
          2002.6,
          2002.7,
          2002.8,
          2002.9,
          2003,
          2003.1,
          2003.2,
          2003.3,
          2003.4,
          2003.5,
          2003.6,
          2003.7,
          2003.8,
          2003.9,
          2004,
          2004.1,
          2004.2,
          2004.3,
          2004.4,
          2004.5,
          2004.6,
          2004.7,
          2004.8,
          2004.9,
          2005,
          2005.1,
          2005.2,
          2005.3,
          2005.4,
          2005.5,
          2005.6,
          2005.7,
          2005.8,
          2005.9,
          2006,
          2006.1,
          2006.2,
          2006.3,
          2006.4,
          2006.5,
          2006.6,
          2006.7,
          2006.8,
          2006.9,
          2007,
          2007.1,
          2007.2,
          2007.3,
          2007.4,
          2007.5,
          2007.6,
          2007.7,
          2007.8,
          2007.9,
          2008,
          2008.1,
          2008.2,
          2008.3,
          2008.4,
          2008.5,
          2008.6,
          2008.7,
          2008.8,
          2008.9,
          2009,
          2009.1,
          2009.2,
          2009.3,
          2009.4,
          2009.5,
          2009.6,
          2009.7,
          2009.8,
          2009.9,
          2010,
          2010.1,
          2010.2,
          2010.3,
          2010.4,
          2010.5,
          2010.6,
          2010.7,
          2010.8,
          2010.9,
          2011,
          2011.1,
          2011.2,
          2011.3,
          2011.4,
          2011.5,
          2011.6,
          2011.7,
          2011.8,
          2011.9,
          2012,
          2012.1,
          2012.2,
          2012.3,
          2012.4,
          2012.5,
          2012.6,
          2012.7,
          2012.8,
          2012.9,
          2013,
          2013.1,
          2013.2,
          2013.3,
          2013.4,
          2013.5,
          2013.6,
          2013.7,
          2013.8,
          2013.9,
          2014,
          2014.1,
          2014.2,
          2014.3,
          2014.4,
          2014.5,
          2014.6,
          2014.7,
          2014.8,
          2014.9,
          2015,
          2015.1,
          2015.2,
          2015.3,
          2015.4,
          2015.5,
          2015.6,
          2015.7,
          2015.8,
          2015.9,
          2016,
          2016.1,
          2016.2,
          2016.3,
          2016.4,
          2016.5,
          2016.6,
          2016.7,
          2016.8,
          2016.9,
          2017,
          2017.1,
          2017.2,
          2017.3,
          2017.4,
          2017.5,
          2017.6,
          2017.7,
          2017.8,
          2017.9,
          2018,
          2018.1,
          2018.2,
          2018.3,
          2018.4,
          2018.5,
          2018.6,
          2018.7,
          2018.8,
          2018.9,
          2019,
          2019.1,
          2019.2,
          2019.3,
          2019.4,
          2019.5,
          2019.6,
          2019.7,
          2019.8,
          2019.9,
          2020
         ],
         "xaxis": "x",
         "y": [
          0.9195016801348943,
          0.915816624826058,
          0.9362230952639085,
          0.9987367610038591,
          1.0834980727531127,
          1.1810388501056124,
          1.286696734926781,
          1.3984259750262265,
          1.5155705752054751,
          1.6379604959423362,
          1.765948006439515,
          1.8999631436585096,
          2.0404012276015653,
          2.187913858546498,
          2.3431750662150512,
          2.506689087898104,
          2.6789874307778216,
          2.86087589288041,
          3.0532463454103365,
          3.2568095010447182,
          3.4720811254219224,
          3.699706591665504,
          3.940808227994641,
          4.19657467019379,
          4.4678136444162595,
          4.755178981418837,
          5.059840495163962,
          5.383314393845778,
          5.726813000936215,
          6.091246026571046,
          6.477834861535776,
          6.888410624207976,
          7.324763611177873,
          7.788263471108399,
          8.280142085705162,
          8.80239426234384,
          9.357570385142088,
          9.94779733755765,
          10.574658956539832,
          11.240099413575892,
          11.947196002339771,
          12.699180631094942,
          13.498547695522207,
          14.347339693727266,
          15.248748155745758,
          16.207155526186845,
          17.226430656296913,
          18.309504614827457,
          19.459518051158852,
          20.681461531322086,
          21.981004548124005,
          23.362744148431915,
          24.830375649136684,
          26.389008166576062,
          28.045876631389266,
          29.807890492014902,
          31.68057347405496,
          33.669240201978596,
          35.781881510022174,
          38.028157061100245,
          40.416390577004876,
          42.95344991505189,
          45.647656674436696,
          48.5107375356537,
          51.554755807772075,
          54.78988375201554,
          58.225385627450656,
          61.87406116510924,
          65.75209171216117,
          69.87435956920221,
          74.2534418697255,
          78.90258189102386,
          83.8406164028068,
          89.08896218853045,
          94.66622297797365,
          100.58811335274197,
          106.87374262194275,
          113.55001549426986,
          120.64467793343168,
          128.1808623225158,
          136.17854733515938,
          144.66552446972358,
          153.67924901674758,
          163.25476810442916,
          173.4202825173353,
          184.20225213152648,
          195.64106349647494,
          207.78710050969394,
          220.68356378654116,
          234.36400080264002,
          248.86524695561604,
          264.24524324329286,
          280.5690339175653,
          297.8885386652744,
          316.2429878833308,
          335.6850252488533,
          356.2960605564625,
          378.1569026261727,
          401.3273132824435,
          425.8528872863581,
          451.809705069225,
          479.30892795557395,
          508.4464973621326,
          539.2859086880792,
          571.8814814028314,
          606.343412514578,
          642.8171952704336,
          681.4096103432087,
          722.1782534180611,
          765.1923970647756,
          810.6108643368739,
          858.6126968710812,
          909.3036791510065,
          962.7236605626882,
          1018.9807298556998,
          1078.2835429195457,
          1140.7971179160531,
          1206.593487342137,
          1275.7555880255632,
          1348.4751924043326,
          1424.9484323124743,
          1505.268859620036,
          1589.480117962596,
          1677.748791299258,
          1770.320941123241,
          1867.3210157825674,
          1968.7267282694615,
          2074.5953090098255,
          2185.197293987029,
          2300.7470087008437,
          2421.206485683222,
          2546.4310100419284,
          2676.585052819013,
          2812.0051587807484,
          2952.718459264689,
          3098.420915520505,
          3249.032020189245,
          3404.8229398054127,
          3565.8412288796676,
          3731.7745467329123,
          3902.4521411623737,
          4078.006958314791,
          4258.372491245841,
          4443.101732306632,
          4631.9050975724185,
          4824.87442999647,
          5021.888795454886,
          5222.3165743491745,
          5425.656435674741,
          5631.955258076009,
          5841.108831130459,
          6052.363734301927,
          6264.987172182509,
          6478.941262691125,
          6694.178844580307,
          6909.907515946865,
          7125.195999354064,
          7339.904082574881,
          7554.075286646648,
          7766.973471423043,
          7977.543050032902,
          8185.542425031364,
          8391.121809957158,
          8593.686534947057,
          8792.165413860825,
          8986.23687207015,
          9176.14506412649,
          9361.493391162709,
          9541.315716680037,
          9715.249826950794,
          9883.595030821678,
          10046.175147862643,
          10202.221592668227,
          10351.3797822655,
          10493.966039841584,
          10630.01014334794,
          10758.98304667779,
          10880.563131975721,
          10995.070362914088,
          11102.74393165058,
          11203.304504498501,
          11296.403641403136,
          11382.298402005654,
          11461.453818432925,
          11533.889874455881,
          11599.270221717024,
          11657.642440444577,
          11709.564982357888,
          11755.372630739508,
          11794.964756104633,
          11828.139547297957,
          11855.242643980582,
          11876.867127872061,
          11893.219806746918,
          11904.134850728615,
          11909.605010053665,
          11910.139985138743,
          11906.227272230537,
          11897.966936272547,
          11885.185270106398,
          11868.047030581329,
          11847.112198439281,
          11822.725381396458,
          11794.88184478509,
          11763.457039069308,
          11728.745979493613,
          11691.264440128249,
          11651.219864129893,
          11608.512183310992,
          11563.109705007273,
          11515.393042221309,
          11465.769927403257,
          11414.32866364823,
          11360.904899672674,
          11305.567072953992,
          11248.740438972203,
          11190.710411309406,
          11131.447810548474,
          11070.768086578582,
          11008.843393847917,
          10946.100003377866,
          10882.699612684157,
          10818.492628045851,
          10753.336135446041,
          10687.507111304058,
          10621.37758829978,
          10554.989570631888,
          10488.089996946483,
          10420.625607200891,
          10352.968774876234,
          10285.399299691839,
          10217.83086402527,
          10149.951018558255,
          10081.8353684907,
          10013.918867362436,
          9946.3615734608,
          9878.933223638258,
          9811.343907430984,
          9743.82432237494,
          9676.801914391428,
          9610.30250851667,
          9543.95752178116,
          9477.58459019413,
          9411.571161884407,
          9346.263937497408,
          9281.539278272985,
          9216.963624204616,
          9152.563526182514,
          9088.75691196887,
          9025.614805708341,
          8962.88286449323,
          8900.48256744977,
          8838.635281194958,
          8777.434200446689,
          8716.747990797523,
          8656.462448441567,
          8596.70354868037,
          8537.626411664221,
          8479.196319890412,
          8421.211410059612,
          8363.610241171407,
          8306.625431961114,
          8250.436614765746,
          8194.95012967504,
          8139.853745930635,
          8085.114492131785,
          8031.031788961163,
          7977.711682221616,
          7924.95786564459,
          7872.620277028582,
          7820.849153485183,
          7769.789686055767,
          7719.361098652833,
          7669.3782244733675,
          7619.87540512052,
          7571.046801217179,
          7522.924407204353,
          7475.339990054506,
          7428.123968908612,
          7381.41121180376,
          7335.43395044111,
          7290.182459147925,
          7245.394255643949,
          7200.925501278074,
          7156.992190283695,
          7113.7720452691965,
          7071.150601168447,
          7028.914109480214,
          6987.120973307702,
          6945.962297703492,
          6905.425065248037,
          6865.3284514087545,
          6825.613011219557,
          6786.442392854883,
          6747.9138868304335,
          6709.93170380682,
          6672.29134571342,
          6635.018169847446,
          6598.339139700524,
          6562.320300479376,
          6526.791565940219,
          6491.507184278595,
          6456.566346920225,
          6422.269163929212,
          6388.657864696902,
          6355.46577111359,
          6322.4719372214095,
          6289.867032640148,
          6257.869712610035,
          6226.382401895387,
          6195.2142649779835,
          6164.413097880144,
          6134.127361767601,
          6104.329629785107,
          6074.882164424014,
          6045.768607126278,
          6017.117414772794,
          5988.97621527104,
          5961.254051419935,
          5933.7951260046775,
          5906.640698942333,
          5879.987668061758,
          5853.893651904455,
          5828.213118439908,
          5802.721809750694,
          5777.491673552278,
          5752.7503897471115,
          5728.495947392539,
          5704.544695567389,
          5680.847808976356,
          5657.551237420911,
          5634.708814552988,
          5612.220135297862,
          5589.977470421314,
          5568.0527821915975,
          5546.568129017471,
          5525.510197178264,
          5504.73232163242,
          5484.145465479032,
          5463.886907841608,
          5444.10884472183,
          5424.775739854193,
          5405.67387302617,
          5386.719423060047,
          5368.09608043598,
          5349.923154066765,
          5332.098336449517,
          5314.4700415461575,
          5297.097488576535,
          5280.115817654622,
          5263.506322458958,
          5247.135249998041,
          5230.968914526085,
          5215.130930103511,
          5199.68814885754,
          5184.57145934924,
          5169.628247431265,
          5154.869612909623,
          5140.470184728862,
          5126.497967249417,
          5112.842442926347,
          5099.308680508712,
          5085.942584399083,
          5072.941244788192,
          5060.320564547525,
          5047.925134681296,
          5035.684626098054,
          5023.722616985444,
          5012.1171046643385,
          5000.7990429736365,
          4989.645094506822,
          4978.6894168881045,
          4968.061455383986,
          4957.777485367413,
          4947.725747357275,
          4937.793241036487,
          4928.066509068459,
          4918.70056359376,
          4909.697675173413,
          4900.895336676632,
          4892.176383090262,
          4883.669097623626,
          4875.516130978349,
          4867.6669729777595,
          4859.96134205095,
          4852.404043317923,
          4845.1376269363345,
          4838.187019171333,
          4831.446163791325,
          4824.831332649727,
          4818.427062451549,
          4812.337470055228,
          4806.53954330389,
          4800.896861396887,
          4795.353651749504,
          4790.043952741882,
          4785.080155420339,
          4780.413731778949,
          4775.862563094939,
          4771.390629162793,
          4767.1671856799685,
          4763.272035202526,
          4759.6046561085,
          4756.0362869195515,
          4752.630955176472,
          4749.51407553449,
          4746.670983601298,
          4743.976075550234,
          4741.390767392917,
          4739.030946501417,
          4736.968413734087,
          4735.146816703982,
          4733.424614525446,
          4731.802043465683,
          4730.435481475068,
          4729.392966867268,
          4728.583857070368,
          4727.820629604674,
          4727.122548819262,
          4726.70969312022,
          4726.666772381229,
          4726.856933419192,
          4727.053518103276,
          4727.32417728821,
          4727.885869812642,
          4728.73059576503,
          4729.701649266421,
          4730.774768186178,
          4732.0710033084215,
          4733.61583980566,
          4735.32660732042,
          4737.146708703612,
          4739.144099289597,
          4741.390180186472,
          4743.863731672832,
          4746.458482952908,
          4749.1210321080125,
          4751.965048342488,
          4755.111317594663,
          4758.539204966901,
          4762.082905664787,
          4765.635160781972,
          4769.333257207845,
          4773.317609180869,
          4777.528677356117,
          4781.823725300028,
          4786.227051206056,
          4790.860364173947,
          4795.724796131313,
          4800.720673469704,
          4805.8023005451705,
          4811.05937593497,
          4816.564299428436,
          4822.282994165209,
          4828.089367363595,
          4833.941989018657,
          4839.980064384413,
          4846.3201480566395,
          4852.9182744449,
          4859.581502742972,
          4866.243151670464,
          4873.076391648766,
          4880.189215000444,
          4887.487116779531,
          4894.841737836265,
          4902.311487644006,
          4910.009697096025,
          4917.91689209244,
          4925.92198422622,
          4934.0035651783055,
          4942.268121857274,
          4950.770951621185,
          4959.45720108109,
          4968.193719090288,
          4976.976337735551,
          4985.9648486944325,
          4995.247285169911,
          5004.74650879284,
          5014.259686088022,
          5023.774865459853,
          5033.489018616656,
          5043.468677521458,
          5053.586580578745,
          5063.73879554469,
          5074.017082654177,
          5084.5196747832,
          5095.20576022676,
          5105.956611302982,
          5116.775588996216,
          5127.78288355556,
          5139.0182798409005,
          5150.404946069111,
          5161.806574552964,
          5173.254504277067,
          5184.923163795842,
          5196.8742863201915,
          5208.996716531051,
          5221.087934251944,
          5233.189038571056,
          5245.508919418533,
          5258.07378961831,
          5270.72812790255,
          5283.397262657094,
          5296.20315743718,
          5309.225063555127,
          5322.398087175818,
          5335.6026784938595,
          5348.87051853326,
          5362.3294176351665,
          5376.000975522731,
          5389.783037928995,
          5403.546377876248,
          5417.36169211613,
          5431.408337999852,
          5445.718490679584,
          5460.143049103367,
          5474.497305662557,
          5488.876678426095,
          5503.4852209883375,
          5518.3087292597065,
          5533.169724085415,
          5548.029015893308,
          5563.034235531293,
          5578.241454351139,
          5593.558668491014,
          5608.874202044488,
          5624.251145633505,
          5639.817623305618,
          5655.575268264997,
          5671.394766840099,
          5687.1647108026555,
          5702.997771543614,
          5719.06919911843,
          5735.37945519827,
          5751.7397251141565,
          5768.004472665554,
          5784.325273453538,
          5800.8858436631,
          5817.635851184618,
          5834.391618644177,
          5851.164429438257,
          5868.131763670282,
          5885.337282278069,
          5902.677160061714,
          5920.077512694269,
          5937.67105179198,
          5955.623600110053,
          5973.950869491498,
          5992.527366559951,
          6011.317320613869,
          6030.538400783624,
          6050.392700260407,
          6070.848179366953,
          6091.663322919951,
          6112.770111011095,
          6134.386875751421,
          6156.620854180681,
          6179.330634014568,
          6202.3175537693,
          6225.6291266824155,
          6249.404776462907,
          6273.614175946296,
          6298.098579389884,
          6322.784609097039,
          6347.781879267257,
          6373.1708668832125,
          6398.893616021633,
          6424.77091346319,
          6450.726500070064,
          6476.9303597995,
          6503.539173628191,
          6530.498941572087,
          6557.548499976341,
          6584.551423378848,
          6611.717880378539,
          6639.223794576842,
          6666.961267282333,
          6694.718359571969,
          6722.536707093024,
          6750.590206885422,
          6778.872284646701,
          6807.228969256489,
          6835.588474201727,
          6864.080989831766,
          6892.8117169299985,
          6921.729963363797,
          6950.648511351612,
          6979.4974133394735,
          7008.477611338404,
          7037.7697391920465,
          7067.321947233877,
          7096.858346084349,
          7126.259498485165,
          7155.7800319112375,
          7185.6199835334155,
          7215.67655471502,
          7245.746367041397,
          7275.906367306584,
          7306.366849872284,
          7337.138053470585,
          7368.070614184588,
          7399.093177191612,
          7430.332766594215,
          7461.880259496652,
          7493.659402726994,
          7525.440646664736,
          7557.091277358131,
          7588.795163892415,
          7620.756352222307,
          7652.909432846504,
          7684.912040888744,
          7716.557687571547,
          7748.107145462616,
          7779.802703279003,
          7811.5120451733455,
          7843.00702607564,
          7874.360202910975,
          7905.75802907071,
          7937.17563690861,
          7968.451249818594,
          7999.559297895932,
          8030.661743998986,
          8061.842188600308,
          8093.023180949936,
          8124.001881187385,
          8154.758035570938,
          8185.551495350048,
          8216.559240801369,
          8247.687527821283,
          8278.59449617345,
          8309.17518369256,
          8339.748270237604,
          8370.505577846576,
          8401.275227339622,
          8431.845027705687,
          8462.32763298591,
          8492.909548726926,
          8523.550380594157,
          8554.06602071035,
          8584.436932943856,
          8614.847979259814,
          8645.386899040372,
          8675.96250689394,
          8706.354580385267,
          8736.557994663055,
          8766.850181161595,
          8797.398189959504,
          8828.094619724172,
          8858.59303647292,
          8888.8100006713,
          8919.062242779133,
          8949.507131980015,
          8979.942157692565,
          9010.086940326608,
          9040.010045944724,
          9069.907058534096,
          9099.72118251987,
          9129.19045901647,
          9158.2067819394,
          9186.979301313679,
          9215.660926122444,
          9244.142342941084,
          9272.117051259653,
          9299.558527500507,
          9326.80925719106,
          9354.05548957306,
          9381.129688125977,
          9407.657184555625,
          9433.69466761033,
          9459.633956600783,
          9485.55452705567,
          9511.193263927533,
          9536.385852469313,
          9561.353454967728,
          9586.291673064465,
          9611.114447212478,
          9635.583704897104,
          9659.726364492428,
          9683.800176216739,
          9707.88321386746,
          9731.813377029604,
          9755.345350250047,
          9778.582674301193,
          9801.84999530406,
          9825.22264171284,
          9848.460978634828,
          9871.251604583118,
          9893.750025796831,
          9916.312035123157,
          9938.934746548297,
          9961.31150748127,
          9983.332487064848,
          10005.254289614992,
          10027.221999574329,
          10049.097977592044,
          10070.63007580477,
          10091.869964335618,
          10113.063077307641,
          10134.241188510703,
          10155.195370030002,
          10175.670852369389,
          10195.780443855518,
          10215.821018103365,
          10235.826799864968,
          10255.525399492308,
          10274.60778860148,
          10293.246425720408,
          10311.786203087067,
          10330.201607879557,
          10348.173147950227,
          10365.624404880473,
          10382.842664782907,
          10399.965501874754,
          10416.836952853824,
          10433.224205491355,
          10449.238289536133,
          10465.157437975904,
          10481.012219632992,
          10496.570558916712,
          10511.630298246306,
          10526.40042124166,
          10541.192996543996,
          10556.004659725619,
          10570.50597622403,
          10584.444766034814,
          10598.125252758027,
          10611.962781048087,
          10625.932941787933,
          10639.57133370759,
          10652.646966417466,
          10665.549901712628,
          10678.57337238262,
          10691.528147247987,
          10704.133868937299,
          10716.511315614162,
          10728.902680944875,
          10741.269013060475,
          10753.400786319213,
          10765.280634283872,
          10777.121382279836,
          10789.019511813076,
          10800.872955556952,
          10812.450026156785,
          10823.776262830888,
          10835.171365583643,
          10846.81256585528,
          10858.58223615665,
          10870.118783028061,
          10881.381872568898,
          10892.754201504435,
          10904.411554326194,
          10916.13351210238,
          10927.628383702297,
          10938.98579084963,
          10950.409839063414,
          10961.82205359262,
          10972.918723504934,
          10983.562217109706,
          10993.966362092538,
          11004.290781350093,
          11014.410828972077,
          11023.977678843421,
          11032.93624050008,
          11041.660983414164,
          11050.379953400756,
          11058.925055695632,
          11066.869168413745,
          11074.245569572926,
          11081.49185415844,
          11088.719500381943,
          11095.655991082134,
          11102.117673547957,
          11108.333493670809,
          11114.516064395857,
          11120.582996366646,
          11126.295896678277,
          11131.685095352123,
          11137.014230666478,
          11142.366278713038,
          11147.585157758236,
          11152.420685496698,
          11156.971632485682,
          11161.579786047721,
          11166.343195358413,
          11171.03540642568,
          11175.307312679182,
          11179.289451548222,
          11183.374209564354,
          11187.591541141614,
          11191.640945244191,
          11195.393085209758,
          11199.103566188107,
          11202.941726206727,
          11206.793060320673,
          11210.417057387036,
          11213.868765722718,
          11217.41234829784,
          11221.109716905146,
          11224.78389757549,
          11228.185968215774,
          11231.421298935282,
          11234.803787570167,
          11238.391708720985,
          11241.929439061985,
          11245.061153017723,
          11247.903224366655,
          11250.809021288695,
          11253.773503160292,
          11256.47372870693,
          11258.779349116412,
          11260.949508970403,
          11263.145462454622,
          11265.23455969118,
          11266.96366727029,
          11268.404002030722,
          11269.83996588366,
          11271.329890752393,
          11272.670242596974,
          11273.625974780189,
          11274.360530942962,
          11275.207573949272,
          11276.206245651203,
          11277.066494475213,
          11277.477810728615,
          11277.675797478889,
          11278.118197481663,
          11278.849696755107,
          11279.453246278163,
          11279.59619596144,
          11279.601099443094,
          11279.838941026655,
          11280.180719829656,
          11280.31589251417,
          11280.308918794428,
          11280.418898974978,
          11280.636182260587,
          11280.763100067452,
          11280.745331938197,
          11280.775265243352,
          11280.97057099144,
          11281.245341417525,
          11281.353735021357,
          11281.262566045683,
          11281.27375240998,
          11281.595135038511,
          11282.119332670998,
          11282.455661171829,
          11282.49509066339,
          11282.600707762742,
          11282.974744645946,
          11283.405647892085,
          11283.616170130139,
          11283.711962119305,
          11283.904370575818,
          11284.116200774379,
          11284.049996777258,
          11283.610259461393,
          11283.049763331914,
          11282.505486545262,
          11281.763895081132,
          11280.46247831602,
          11290.71246704767,
          11359.629682641425,
          11697.018449400715,
          13138.48103894978,
          17273.00797064429,
          23129.214548605527,
          27003.683795692763,
          28101.879552492846,
          28106.13329862307,
          27861.882651455846,
          27578.75861813619,
          27319.461109597687,
          27182.413870922785,
          27518.92758169679,
          28982.534827775035,
          31133.98828892353,
          32407.56123717765,
          32492.367589814818,
          32117.242427250458,
          31642.66027634495,
          31156.68202918343,
          30687.780285426634,
          30285.474940224332,
          30129.26779643176,
          30550.25694279756,
          31315.269581051107,
          31623.154373826103,
          31327.953361529464,
          30808.52913717523,
          30247.961878187918,
          29693.23393109111,
          29162.279770042296,
          28694.873936391123,
          28438.948758093975,
          28666.460829376156,
          29182.017610449693,
          29323.362711677342,
          28970.477649947898,
          28438.625619565602,
          27881.12863037851,
          27334.97456925048,
          26815.06104018946,
          26358.165040038748,
          26104.10078914405,
          26311.632600404086,
          26790.000617227408,
          26905.35629353417,
          26547.80713103257,
          26020.040427474018,
          25467.993211596375,
          24925.664270562225,
          24402.729564001427,
          23916.865398185633,
          23530.893382215072,
          23359.362436325377,
          23314.534763283926,
          23107.788449391464,
          22688.768102916103,
          22196.02452567762,
          21696.732418347136,
          21205.03721957487,
          20717.389762221654,
          20213.860562515612,
          19619.62092603666,
          18793.360041885117,
          17835.52956094744,
          17091.873975124414,
          16623.69657010207,
          16263.815517823907,
          15928.375516320797,
          15592.746884899936,
          15247.94601176251,
          14889.358348047326,
          14501.694627635694,
          14052.808325621563,
          13574.112213889468,
          13159.445341739081,
          12825.152414738313,
          12526.503132989925,
          12241.69587039353,
          11965.559749714925,
          11697.711691211622,
          11442.032255199803,
          11215.041922416885,
          11046.304001387596,
          10913.165521002911,
          10741.906578182978,
          10519.585795584695,
          10281.196664289,
          10042.23705668845,
          9805.727933308212,
          9577.580723147643,
          9390.350110268244,
          9369.221369680996,
          9734.855780710404,
          10308.925709422314,
          10542.865580680971,
          10357.629994641138,
          10023.982989430646,
          9669.044380315689,
          9320.953773275149,
          8984.19491724111,
          8659.809038124004,
          8348.385913712113,
          8050.536643212779,
          7766.227164349064,
          7495.164268663603,
          7237.0751436809405,
          6991.652917351185,
          6759.928426858123,
          6544.448889955665,
          6347.035135961705,
          6166.9541574871,
          6003.647863859744,
          5859.5936246987,
          5728.271358849603,
          5594.104731611889,
          5454.216474806251,
          5315.099796696591,
          5178.588197097253,
          5042.942297060828,
          4906.50285361512,
          4771.269080184615,
          4644.819013381019,
          4537.879633009131,
          4444.329842301508,
          4342.628438023831,
          4229.5805318817265,
          4115.948493458028,
          4006.7751404038677,
          3903.4485135284813,
          3806.5549159008124,
          3717.665066745199,
          3643.750992308539,
          3597.8075978189713,
          3568.549173814441,
          3521.7865722468114,
          3452.153734748802,
          3376.191484660573,
          3302.1631490429586,
          3232.566974003396,
          3168.19132007774,
          3108.635330037506,
          3052.622235342791,
          2998.605171808581,
          2944.89604570722,
          2890.337926433257,
          2835.1771501181865,
          2780.454446860454,
          2726.9960139861823,
          2675.2591815787832,
          2625.527326491977,
          2577.9369943481424,
          2532.473368065666,
          2489.2151269705123,
          2448.2111908532024,
          2409.3041090582938,
          2372.204740754969,
          2336.6692131061845,
          2302.4544617815936,
          2269.1246133481286,
          2236.3339756995474,
          2204.15114506365,
          2172.7749800219144,
          2142.051570807793,
          2111.42348476168,
          2080.493030722028,
          2049.502969817776,
          2018.9775367845843,
          1989.156540394799,
          1959.9157721279203,
          1931.0786035507658,
          1902.7903295284086,
          1875.4021953393494,
          1849.099242042112,
          1823.7403772145717,
          1799.137170618049,
          1775.3122461248188,
          1752.4635899251714,
          1730.9403892903879,
          1711.0955984579252,
          1693.1746272856346,
          1677.1408710933956,
          1662.6963615219688,
          1649.7899246728439,
          1638.9399926231138,
          1630.6836222383686,
          1624.811924667201,
          1620.6106921267212,
          1617.2762440437305,
          1614.1864215960175,
          1611.0734521139918,
          1607.7696426581351,
          1604.1892403929476,
          1600.0872557124212,
          1594.6987076124185,
          1587.371614341316,
          1578.254313162311,
          1568.0593514917794,
          1557.5578278233543,
          1547.2988458810871,
          1537.5646428379137,
          1528.4912465776497,
          1520.138562751828,
          1512.6320202513043,
          1506.2413654531224,
          1500.992656002663,
          1496.6042166779391,
          1492.7928658860537,
          1489.3553393783893,
          1486.1146634685688,
          1482.9628852936846,
          1479.9145392295,
          1477.00759094001,
          1474.3748611395113,
          1472.3220162318366,
          1471.1948380051608,
          1471.0471712631545,
          1471.6200793974103,
          1472.6081217291369,
          1473.805960814238,
          1475.1320172187707,
          1476.511412433429,
          1477.872670690608,
          1479.1907777684137,
          1480.4439718047583,
          1481.6100081131726,
          1482.7036955508481,
          1483.740908272731,
          1484.7079250422737,
          1485.5944855258467,
          1486.4505980146098,
          1487.3167100814767,
          1488.1267068573939,
          1488.7127368897186,
          1488.8695989330324,
          1488.44542309476,
          1487.4687550265226,
          1486.106872718612,
          1484.4964289103045,
          1482.7023763543605,
          1480.7336436196952,
          1478.6189370098552,
          1476.39668747822,
          1473.933494475649,
          1470.9082083387832,
          1467.1073613784124,
          1462.6757960696887,
          1457.9203006936655,
          1453.0389390834675,
          1448.0978561534876,
          1443.1288565116733,
          1438.2014181041916,
          1433.4786487617419,
          1429.339138318364,
          1426.2147709052283,
          1424.2832702225846,
          1423.3625621132974,
          1423.0848471055338,
          1423.1618293807542,
          1423.3559454246033,
          1423.5255678537628,
          1423.6946767653071,
          1423.8973515638622,
          1424.2207014813166,
          1424.773689918852,
          1425.5041002776247,
          1426.2639230950967,
          1427.0156532739759,
          1428.0676067047534,
          1430.120683521629,
          1433.6875182064414,
          1438.5862319640519,
          1444.193216352458,
          1449.858748076554,
          1455.168880269033,
          1460.0406203850287,
          1464.592357993962,
          1468.8465472408063,
          1472.5295787033438,
          1475.1236108577255,
          1476.1814502045358,
          1475.8305779467787,
          1474.6349129776204,
          1473.0118732406038,
          1471.0836480386718,
          1468.9597716074106,
          1466.8206421478299,
          1464.8119465854245,
          1463.0766507969508,
          1461.7545467775244,
          1460.9592896969962,
          1460.6627640353945,
          1460.725695205292,
          1460.989100088304,
          1461.3264266663414,
          1461.6682710565397,
          1461.9556227105943,
          1462.185401698522,
          1462.4335370274173,
          1462.8401283146115,
          1463.5320302308746,
          1464.464797229834,
          1465.5140023659533,
          1466.6071221714003,
          1467.6932072721147,
          1468.7512365319744,
          1469.7373241729804,
          1470.5942960060343,
          1471.2081441216244,
          1471.2871614598805,
          1470.5597987073077,
          1469.126325314377,
          1467.3322846426754,
          1465.4771948493387,
          1463.6802279331541,
          1461.87063567929,
          1459.995909041756,
          1458.0904972812582,
          1456.3002084098166,
          1454.876739040418,
          1453.9692939278452,
          1453.5417416785826,
          1453.4527582076344,
          1453.4990570114883,
          1453.4686932765069,
          1453.2374387634168,
          1452.7872536529114,
          1452.1883584010475,
          1451.5584008264746,
          1451.0402340168218,
          1450.743936124035,
          1450.627497406451,
          1450.6315101585733,
          1450.7815272409268,
          1451.1036815240295,
          1451.6340916122795,
          1452.3877051818095,
          1453.3314535501902,
          1454.3365000419078
         ],
         "yaxis": "y"
        },
        {
         "hovertemplate": "x=%{x}<br>y=%{y}<extra></extra>",
         "legendgroup": "",
         "marker": {
          "color": "red",
          "symbol": "circle"
         },
         "mode": "markers",
         "name": "",
         "orientation": "v",
         "showlegend": false,
         "type": "scatter",
         "x": [
          2011,
          2012,
          2013,
          2014,
          2015,
          2016,
          2017,
          2018,
          2019
         ],
         "xaxis": "x",
         "y": [
          1409,
          1485,
          1369,
          1405,
          1642,
          1555,
          1440,
          1468,
          1417
         ],
         "yaxis": "y"
        }
       ],
       "layout": {
        "template": {
         "data": {
          "bar": [
           {
            "error_x": {
             "color": "#2a3f5f"
            },
            "error_y": {
             "color": "#2a3f5f"
            },
            "marker": {
             "line": {
              "color": "#E5ECF6",
              "width": 0.5
             },
             "pattern": {
              "fillmode": "overlay",
              "size": 10,
              "solidity": 0.2
             }
            },
            "type": "bar"
           }
          ],
          "barpolar": [
           {
            "marker": {
             "line": {
              "color": "#E5ECF6",
              "width": 0.5
             },
             "pattern": {
              "fillmode": "overlay",
              "size": 10,
              "solidity": 0.2
             }
            },
            "type": "barpolar"
           }
          ],
          "carpet": [
           {
            "aaxis": {
             "endlinecolor": "#2a3f5f",
             "gridcolor": "white",
             "linecolor": "white",
             "minorgridcolor": "white",
             "startlinecolor": "#2a3f5f"
            },
            "baxis": {
             "endlinecolor": "#2a3f5f",
             "gridcolor": "white",
             "linecolor": "white",
             "minorgridcolor": "white",
             "startlinecolor": "#2a3f5f"
            },
            "type": "carpet"
           }
          ],
          "choropleth": [
           {
            "colorbar": {
             "outlinewidth": 0,
             "ticks": ""
            },
            "type": "choropleth"
           }
          ],
          "contour": [
           {
            "colorbar": {
             "outlinewidth": 0,
             "ticks": ""
            },
            "colorscale": [
             [
              0,
              "#0d0887"
             ],
             [
              0.1111111111111111,
              "#46039f"
             ],
             [
              0.2222222222222222,
              "#7201a8"
             ],
             [
              0.3333333333333333,
              "#9c179e"
             ],
             [
              0.4444444444444444,
              "#bd3786"
             ],
             [
              0.5555555555555556,
              "#d8576b"
             ],
             [
              0.6666666666666666,
              "#ed7953"
             ],
             [
              0.7777777777777778,
              "#fb9f3a"
             ],
             [
              0.8888888888888888,
              "#fdca26"
             ],
             [
              1,
              "#f0f921"
             ]
            ],
            "type": "contour"
           }
          ],
          "contourcarpet": [
           {
            "colorbar": {
             "outlinewidth": 0,
             "ticks": ""
            },
            "type": "contourcarpet"
           }
          ],
          "heatmap": [
           {
            "colorbar": {
             "outlinewidth": 0,
             "ticks": ""
            },
            "colorscale": [
             [
              0,
              "#0d0887"
             ],
             [
              0.1111111111111111,
              "#46039f"
             ],
             [
              0.2222222222222222,
              "#7201a8"
             ],
             [
              0.3333333333333333,
              "#9c179e"
             ],
             [
              0.4444444444444444,
              "#bd3786"
             ],
             [
              0.5555555555555556,
              "#d8576b"
             ],
             [
              0.6666666666666666,
              "#ed7953"
             ],
             [
              0.7777777777777778,
              "#fb9f3a"
             ],
             [
              0.8888888888888888,
              "#fdca26"
             ],
             [
              1,
              "#f0f921"
             ]
            ],
            "type": "heatmap"
           }
          ],
          "heatmapgl": [
           {
            "colorbar": {
             "outlinewidth": 0,
             "ticks": ""
            },
            "colorscale": [
             [
              0,
              "#0d0887"
             ],
             [
              0.1111111111111111,
              "#46039f"
             ],
             [
              0.2222222222222222,
              "#7201a8"
             ],
             [
              0.3333333333333333,
              "#9c179e"
             ],
             [
              0.4444444444444444,
              "#bd3786"
             ],
             [
              0.5555555555555556,
              "#d8576b"
             ],
             [
              0.6666666666666666,
              "#ed7953"
             ],
             [
              0.7777777777777778,
              "#fb9f3a"
             ],
             [
              0.8888888888888888,
              "#fdca26"
             ],
             [
              1,
              "#f0f921"
             ]
            ],
            "type": "heatmapgl"
           }
          ],
          "histogram": [
           {
            "marker": {
             "pattern": {
              "fillmode": "overlay",
              "size": 10,
              "solidity": 0.2
             }
            },
            "type": "histogram"
           }
          ],
          "histogram2d": [
           {
            "colorbar": {
             "outlinewidth": 0,
             "ticks": ""
            },
            "colorscale": [
             [
              0,
              "#0d0887"
             ],
             [
              0.1111111111111111,
              "#46039f"
             ],
             [
              0.2222222222222222,
              "#7201a8"
             ],
             [
              0.3333333333333333,
              "#9c179e"
             ],
             [
              0.4444444444444444,
              "#bd3786"
             ],
             [
              0.5555555555555556,
              "#d8576b"
             ],
             [
              0.6666666666666666,
              "#ed7953"
             ],
             [
              0.7777777777777778,
              "#fb9f3a"
             ],
             [
              0.8888888888888888,
              "#fdca26"
             ],
             [
              1,
              "#f0f921"
             ]
            ],
            "type": "histogram2d"
           }
          ],
          "histogram2dcontour": [
           {
            "colorbar": {
             "outlinewidth": 0,
             "ticks": ""
            },
            "colorscale": [
             [
              0,
              "#0d0887"
             ],
             [
              0.1111111111111111,
              "#46039f"
             ],
             [
              0.2222222222222222,
              "#7201a8"
             ],
             [
              0.3333333333333333,
              "#9c179e"
             ],
             [
              0.4444444444444444,
              "#bd3786"
             ],
             [
              0.5555555555555556,
              "#d8576b"
             ],
             [
              0.6666666666666666,
              "#ed7953"
             ],
             [
              0.7777777777777778,
              "#fb9f3a"
             ],
             [
              0.8888888888888888,
              "#fdca26"
             ],
             [
              1,
              "#f0f921"
             ]
            ],
            "type": "histogram2dcontour"
           }
          ],
          "mesh3d": [
           {
            "colorbar": {
             "outlinewidth": 0,
             "ticks": ""
            },
            "type": "mesh3d"
           }
          ],
          "parcoords": [
           {
            "line": {
             "colorbar": {
              "outlinewidth": 0,
              "ticks": ""
             }
            },
            "type": "parcoords"
           }
          ],
          "pie": [
           {
            "automargin": true,
            "type": "pie"
           }
          ],
          "scatter": [
           {
            "fillpattern": {
             "fillmode": "overlay",
             "size": 10,
             "solidity": 0.2
            },
            "type": "scatter"
           }
          ],
          "scatter3d": [
           {
            "line": {
             "colorbar": {
              "outlinewidth": 0,
              "ticks": ""
             }
            },
            "marker": {
             "colorbar": {
              "outlinewidth": 0,
              "ticks": ""
             }
            },
            "type": "scatter3d"
           }
          ],
          "scattercarpet": [
           {
            "marker": {
             "colorbar": {
              "outlinewidth": 0,
              "ticks": ""
             }
            },
            "type": "scattercarpet"
           }
          ],
          "scattergeo": [
           {
            "marker": {
             "colorbar": {
              "outlinewidth": 0,
              "ticks": ""
             }
            },
            "type": "scattergeo"
           }
          ],
          "scattergl": [
           {
            "marker": {
             "colorbar": {
              "outlinewidth": 0,
              "ticks": ""
             }
            },
            "type": "scattergl"
           }
          ],
          "scattermapbox": [
           {
            "marker": {
             "colorbar": {
              "outlinewidth": 0,
              "ticks": ""
             }
            },
            "type": "scattermapbox"
           }
          ],
          "scatterpolar": [
           {
            "marker": {
             "colorbar": {
              "outlinewidth": 0,
              "ticks": ""
             }
            },
            "type": "scatterpolar"
           }
          ],
          "scatterpolargl": [
           {
            "marker": {
             "colorbar": {
              "outlinewidth": 0,
              "ticks": ""
             }
            },
            "type": "scatterpolargl"
           }
          ],
          "scatterternary": [
           {
            "marker": {
             "colorbar": {
              "outlinewidth": 0,
              "ticks": ""
             }
            },
            "type": "scatterternary"
           }
          ],
          "surface": [
           {
            "colorbar": {
             "outlinewidth": 0,
             "ticks": ""
            },
            "colorscale": [
             [
              0,
              "#0d0887"
             ],
             [
              0.1111111111111111,
              "#46039f"
             ],
             [
              0.2222222222222222,
              "#7201a8"
             ],
             [
              0.3333333333333333,
              "#9c179e"
             ],
             [
              0.4444444444444444,
              "#bd3786"
             ],
             [
              0.5555555555555556,
              "#d8576b"
             ],
             [
              0.6666666666666666,
              "#ed7953"
             ],
             [
              0.7777777777777778,
              "#fb9f3a"
             ],
             [
              0.8888888888888888,
              "#fdca26"
             ],
             [
              1,
              "#f0f921"
             ]
            ],
            "type": "surface"
           }
          ],
          "table": [
           {
            "cells": {
             "fill": {
              "color": "#EBF0F8"
             },
             "line": {
              "color": "white"
             }
            },
            "header": {
             "fill": {
              "color": "#C8D4E3"
             },
             "line": {
              "color": "white"
             }
            },
            "type": "table"
           }
          ]
         },
         "layout": {
          "annotationdefaults": {
           "arrowcolor": "#2a3f5f",
           "arrowhead": 0,
           "arrowwidth": 1
          },
          "autotypenumbers": "strict",
          "coloraxis": {
           "colorbar": {
            "outlinewidth": 0,
            "ticks": ""
           }
          },
          "colorscale": {
           "diverging": [
            [
             0,
             "#8e0152"
            ],
            [
             0.1,
             "#c51b7d"
            ],
            [
             0.2,
             "#de77ae"
            ],
            [
             0.3,
             "#f1b6da"
            ],
            [
             0.4,
             "#fde0ef"
            ],
            [
             0.5,
             "#f7f7f7"
            ],
            [
             0.6,
             "#e6f5d0"
            ],
            [
             0.7,
             "#b8e186"
            ],
            [
             0.8,
             "#7fbc41"
            ],
            [
             0.9,
             "#4d9221"
            ],
            [
             1,
             "#276419"
            ]
           ],
           "sequential": [
            [
             0,
             "#0d0887"
            ],
            [
             0.1111111111111111,
             "#46039f"
            ],
            [
             0.2222222222222222,
             "#7201a8"
            ],
            [
             0.3333333333333333,
             "#9c179e"
            ],
            [
             0.4444444444444444,
             "#bd3786"
            ],
            [
             0.5555555555555556,
             "#d8576b"
            ],
            [
             0.6666666666666666,
             "#ed7953"
            ],
            [
             0.7777777777777778,
             "#fb9f3a"
            ],
            [
             0.8888888888888888,
             "#fdca26"
            ],
            [
             1,
             "#f0f921"
            ]
           ],
           "sequentialminus": [
            [
             0,
             "#0d0887"
            ],
            [
             0.1111111111111111,
             "#46039f"
            ],
            [
             0.2222222222222222,
             "#7201a8"
            ],
            [
             0.3333333333333333,
             "#9c179e"
            ],
            [
             0.4444444444444444,
             "#bd3786"
            ],
            [
             0.5555555555555556,
             "#d8576b"
            ],
            [
             0.6666666666666666,
             "#ed7953"
            ],
            [
             0.7777777777777778,
             "#fb9f3a"
            ],
            [
             0.8888888888888888,
             "#fdca26"
            ],
            [
             1,
             "#f0f921"
            ]
           ]
          },
          "colorway": [
           "#636efa",
           "#EF553B",
           "#00cc96",
           "#ab63fa",
           "#FFA15A",
           "#19d3f3",
           "#FF6692",
           "#B6E880",
           "#FF97FF",
           "#FECB52"
          ],
          "font": {
           "color": "#2a3f5f"
          },
          "geo": {
           "bgcolor": "white",
           "lakecolor": "white",
           "landcolor": "#E5ECF6",
           "showlakes": true,
           "showland": true,
           "subunitcolor": "white"
          },
          "hoverlabel": {
           "align": "left"
          },
          "hovermode": "closest",
          "mapbox": {
           "style": "light"
          },
          "paper_bgcolor": "white",
          "plot_bgcolor": "#E5ECF6",
          "polar": {
           "angularaxis": {
            "gridcolor": "white",
            "linecolor": "white",
            "ticks": ""
           },
           "bgcolor": "#E5ECF6",
           "radialaxis": {
            "gridcolor": "white",
            "linecolor": "white",
            "ticks": ""
           }
          },
          "scene": {
           "xaxis": {
            "backgroundcolor": "#E5ECF6",
            "gridcolor": "white",
            "gridwidth": 2,
            "linecolor": "white",
            "showbackground": true,
            "ticks": "",
            "zerolinecolor": "white"
           },
           "yaxis": {
            "backgroundcolor": "#E5ECF6",
            "gridcolor": "white",
            "gridwidth": 2,
            "linecolor": "white",
            "showbackground": true,
            "ticks": "",
            "zerolinecolor": "white"
           },
           "zaxis": {
            "backgroundcolor": "#E5ECF6",
            "gridcolor": "white",
            "gridwidth": 2,
            "linecolor": "white",
            "showbackground": true,
            "ticks": "",
            "zerolinecolor": "white"
           }
          },
          "shapedefaults": {
           "line": {
            "color": "#2a3f5f"
           }
          },
          "ternary": {
           "aaxis": {
            "gridcolor": "white",
            "linecolor": "white",
            "ticks": ""
           },
           "baxis": {
            "gridcolor": "white",
            "linecolor": "white",
            "ticks": ""
           },
           "bgcolor": "#E5ECF6",
           "caxis": {
            "gridcolor": "white",
            "linecolor": "white",
            "ticks": ""
           }
          },
          "title": {
           "x": 0.05
          },
          "xaxis": {
           "automargin": true,
           "gridcolor": "white",
           "linecolor": "white",
           "ticks": "",
           "title": {
            "standoff": 15
           },
           "zerolinecolor": "white",
           "zerolinewidth": 2
          },
          "yaxis": {
           "automargin": true,
           "gridcolor": "white",
           "linecolor": "white",
           "ticks": "",
           "title": {
            "standoff": 15
           },
           "zerolinecolor": "white",
           "zerolinewidth": 2
          }
         }
        },
        "title": {
         "text": "Modelled vs Data",
         "x": 0.5
        },
        "xaxis": {
         "title": {
          "text": "Year"
         }
        },
        "yaxis": {
         "title": {
          "text": "Population"
         }
        }
       }
      }
     },
     "metadata": {},
     "output_type": "display_data"
    }
   ],
   "source": [
    "notif_1 = px.line(\n",
    "    derived_df_0,\n",
    "    x=derived_df_0.index,\n",
    "    y=\"notifications\",\n",
    ")\n",
    "notif_2 = px.scatter(x= plots['notifications']['times'], y = plots['notifications']['values'])\n",
    "notif_2.update_traces(marker=dict(color=\"red\"))\n",
    "notif_plot = go.Figure(\n",
    "    data=notif_1.data + notif_2.data,\n",
    ")\n",
    "notif_plot.update_layout(\n",
    "    title=\"Modelled vs Data\", title_x=0.5, xaxis_title=\"Year\", yaxis_title=\"Population\"\n",
    ")\n",
    "notif_plot.show()"
   ]
  }
 ],
 "metadata": {
  "kernelspec": {
   "display_name": "autumn",
   "language": "python",
   "name": "python3"
  },
  "language_info": {
   "codemirror_mode": {
    "name": "ipython",
    "version": 3
   },
   "file_extension": ".py",
   "mimetype": "text/x-python",
   "name": "python",
   "nbconvert_exporter": "python",
   "pygments_lexer": "ipython3",
   "version": "3.10.0"
  },
  "orig_nbformat": 4,
  "vscode": {
   "interpreter": {
    "hash": "cdc1db7c93b6868ea0fedcce5cd81a1f74606c1851ad278abbacefb9281e55af"
   }
  }
 },
 "nbformat": 4,
 "nbformat_minor": 2
}
