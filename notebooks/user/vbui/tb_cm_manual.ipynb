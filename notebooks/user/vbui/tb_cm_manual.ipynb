{
 "cells": [
  {
   "cell_type": "code",
   "execution_count": 1,
   "metadata": {},
   "outputs": [],
   "source": [
    "import warnings\n",
    "from typing import List\n",
    "\n",
    "import pandas as pd\n",
    "import plotly.graph_objects as go\n",
    "import plotly.express as px\n",
    "from autumn.core.project import get_project\n",
    "from autumn.settings import Region, Models\n",
    "from autumn.core import inputs\n",
    "from autumn.core.utils.display import pretty_print\n",
    "from autumn.core.inputs.tb_camau import queries\n",
    "from autumn.core.inputs import get_death_rates_by_agegroup\n",
    "import pathlib"
   ]
  },
  {
   "cell_type": "code",
   "execution_count": 2,
   "metadata": {},
   "outputs": [],
   "source": [
    "warnings.filterwarnings(\"ignore\")\n",
    "pd.options.plotting.backend = \"plotly\""
   ]
  },
  {
   "cell_type": "code",
   "execution_count": 3,
   "metadata": {},
   "outputs": [],
   "source": [
    "region = Region.CAMAU\n",
    "model = Models.TBD2\n",
    "p = get_project(model, region, reload=True)\n",
    "baseline_params = p.param_set.baseline\n",
    "plots = p.plots\n",
    "iso3 = baseline_params['country']['iso3']\n",
    "source_iso3 = baseline_params['age_mixing']['source_iso3']\n",
    "age_adjust = baseline_params['age_mixing']['age_adjust']\n",
    "age_string_map = {\n",
    "    0: \"0-4\",\n",
    "    5: \"5-14\",\n",
    "    15: \"15-34\",\n",
    "    35: \"35-49\",\n",
    "    50: \"50+\",\n",
    "}"
   ]
  },
  {
   "cell_type": "markdown",
   "metadata": {},
   "source": [
    "## Population"
   ]
  },
  {
   "cell_type": "code",
   "execution_count": 4,
   "metadata": {},
   "outputs": [
    {
     "name": "stdout",
     "output_type": "stream",
     "text": [
      "Modelled age groups are [0, 5, 15, 35, 50]\n"
     ]
    }
   ],
   "source": [
    "modelled_age_groups = baseline_params[\"age_breakpoints\"]\n",
    "print(f\"Modelled age groups are {modelled_age_groups}\")"
   ]
  },
  {
   "cell_type": "code",
   "execution_count": 5,
   "metadata": {},
   "outputs": [],
   "source": [
    "csv_path = pathlib.Path('camau.csv')"
   ]
  },
  {
   "cell_type": "code",
   "execution_count": 6,
   "metadata": {},
   "outputs": [
    {
     "data": {
      "application/vnd.plotly.v1+json": {
       "config": {
        "plotlyServerURL": "https://plot.ly"
       },
       "data": [
        {
         "hovertemplate": "variable=population<br>year=%{x}<br>value=%{y}<extra></extra>",
         "legendgroup": "population",
         "line": {
          "color": "#636efa",
          "dash": "solid"
         },
         "marker": {
          "symbol": "circle"
         },
         "mode": "lines",
         "name": "population",
         "orientation": "v",
         "showlegend": true,
         "type": "scatter",
         "x": [
          1995,
          1996,
          1997,
          1998,
          1999,
          2000,
          2001,
          2002,
          2003,
          2004,
          2005,
          2006,
          2007,
          2008,
          2009,
          2010,
          2011,
          2012,
          2013,
          2014,
          2015,
          2016,
          2017,
          2018,
          2019
         ],
         "xaxis": "x",
         "y": [
          1041800,
          1061600,
          1081100,
          1101800,
          1123500,
          1133900,
          1145200,
          1155300,
          1164500,
          1174400,
          1182900,
          1188700,
          1195200,
          1201700,
          1207100,
          1205840,
          1204500,
          1203460,
          1202070,
          1200740,
          1199500,
          1198100,
          1197000,
          1195600,
          1194300
         ],
         "yaxis": "y"
        }
       ],
       "layout": {
        "legend": {
         "title": {
          "text": "variable"
         },
         "tracegroupgap": 0
        },
        "margin": {
         "t": 60
        },
        "template": {
         "data": {
          "bar": [
           {
            "error_x": {
             "color": "#2a3f5f"
            },
            "error_y": {
             "color": "#2a3f5f"
            },
            "marker": {
             "line": {
              "color": "#E5ECF6",
              "width": 0.5
             },
             "pattern": {
              "fillmode": "overlay",
              "size": 10,
              "solidity": 0.2
             }
            },
            "type": "bar"
           }
          ],
          "barpolar": [
           {
            "marker": {
             "line": {
              "color": "#E5ECF6",
              "width": 0.5
             },
             "pattern": {
              "fillmode": "overlay",
              "size": 10,
              "solidity": 0.2
             }
            },
            "type": "barpolar"
           }
          ],
          "carpet": [
           {
            "aaxis": {
             "endlinecolor": "#2a3f5f",
             "gridcolor": "white",
             "linecolor": "white",
             "minorgridcolor": "white",
             "startlinecolor": "#2a3f5f"
            },
            "baxis": {
             "endlinecolor": "#2a3f5f",
             "gridcolor": "white",
             "linecolor": "white",
             "minorgridcolor": "white",
             "startlinecolor": "#2a3f5f"
            },
            "type": "carpet"
           }
          ],
          "choropleth": [
           {
            "colorbar": {
             "outlinewidth": 0,
             "ticks": ""
            },
            "type": "choropleth"
           }
          ],
          "contour": [
           {
            "colorbar": {
             "outlinewidth": 0,
             "ticks": ""
            },
            "colorscale": [
             [
              0,
              "#0d0887"
             ],
             [
              0.1111111111111111,
              "#46039f"
             ],
             [
              0.2222222222222222,
              "#7201a8"
             ],
             [
              0.3333333333333333,
              "#9c179e"
             ],
             [
              0.4444444444444444,
              "#bd3786"
             ],
             [
              0.5555555555555556,
              "#d8576b"
             ],
             [
              0.6666666666666666,
              "#ed7953"
             ],
             [
              0.7777777777777778,
              "#fb9f3a"
             ],
             [
              0.8888888888888888,
              "#fdca26"
             ],
             [
              1,
              "#f0f921"
             ]
            ],
            "type": "contour"
           }
          ],
          "contourcarpet": [
           {
            "colorbar": {
             "outlinewidth": 0,
             "ticks": ""
            },
            "type": "contourcarpet"
           }
          ],
          "heatmap": [
           {
            "colorbar": {
             "outlinewidth": 0,
             "ticks": ""
            },
            "colorscale": [
             [
              0,
              "#0d0887"
             ],
             [
              0.1111111111111111,
              "#46039f"
             ],
             [
              0.2222222222222222,
              "#7201a8"
             ],
             [
              0.3333333333333333,
              "#9c179e"
             ],
             [
              0.4444444444444444,
              "#bd3786"
             ],
             [
              0.5555555555555556,
              "#d8576b"
             ],
             [
              0.6666666666666666,
              "#ed7953"
             ],
             [
              0.7777777777777778,
              "#fb9f3a"
             ],
             [
              0.8888888888888888,
              "#fdca26"
             ],
             [
              1,
              "#f0f921"
             ]
            ],
            "type": "heatmap"
           }
          ],
          "heatmapgl": [
           {
            "colorbar": {
             "outlinewidth": 0,
             "ticks": ""
            },
            "colorscale": [
             [
              0,
              "#0d0887"
             ],
             [
              0.1111111111111111,
              "#46039f"
             ],
             [
              0.2222222222222222,
              "#7201a8"
             ],
             [
              0.3333333333333333,
              "#9c179e"
             ],
             [
              0.4444444444444444,
              "#bd3786"
             ],
             [
              0.5555555555555556,
              "#d8576b"
             ],
             [
              0.6666666666666666,
              "#ed7953"
             ],
             [
              0.7777777777777778,
              "#fb9f3a"
             ],
             [
              0.8888888888888888,
              "#fdca26"
             ],
             [
              1,
              "#f0f921"
             ]
            ],
            "type": "heatmapgl"
           }
          ],
          "histogram": [
           {
            "marker": {
             "pattern": {
              "fillmode": "overlay",
              "size": 10,
              "solidity": 0.2
             }
            },
            "type": "histogram"
           }
          ],
          "histogram2d": [
           {
            "colorbar": {
             "outlinewidth": 0,
             "ticks": ""
            },
            "colorscale": [
             [
              0,
              "#0d0887"
             ],
             [
              0.1111111111111111,
              "#46039f"
             ],
             [
              0.2222222222222222,
              "#7201a8"
             ],
             [
              0.3333333333333333,
              "#9c179e"
             ],
             [
              0.4444444444444444,
              "#bd3786"
             ],
             [
              0.5555555555555556,
              "#d8576b"
             ],
             [
              0.6666666666666666,
              "#ed7953"
             ],
             [
              0.7777777777777778,
              "#fb9f3a"
             ],
             [
              0.8888888888888888,
              "#fdca26"
             ],
             [
              1,
              "#f0f921"
             ]
            ],
            "type": "histogram2d"
           }
          ],
          "histogram2dcontour": [
           {
            "colorbar": {
             "outlinewidth": 0,
             "ticks": ""
            },
            "colorscale": [
             [
              0,
              "#0d0887"
             ],
             [
              0.1111111111111111,
              "#46039f"
             ],
             [
              0.2222222222222222,
              "#7201a8"
             ],
             [
              0.3333333333333333,
              "#9c179e"
             ],
             [
              0.4444444444444444,
              "#bd3786"
             ],
             [
              0.5555555555555556,
              "#d8576b"
             ],
             [
              0.6666666666666666,
              "#ed7953"
             ],
             [
              0.7777777777777778,
              "#fb9f3a"
             ],
             [
              0.8888888888888888,
              "#fdca26"
             ],
             [
              1,
              "#f0f921"
             ]
            ],
            "type": "histogram2dcontour"
           }
          ],
          "mesh3d": [
           {
            "colorbar": {
             "outlinewidth": 0,
             "ticks": ""
            },
            "type": "mesh3d"
           }
          ],
          "parcoords": [
           {
            "line": {
             "colorbar": {
              "outlinewidth": 0,
              "ticks": ""
             }
            },
            "type": "parcoords"
           }
          ],
          "pie": [
           {
            "automargin": true,
            "type": "pie"
           }
          ],
          "scatter": [
           {
            "fillpattern": {
             "fillmode": "overlay",
             "size": 10,
             "solidity": 0.2
            },
            "type": "scatter"
           }
          ],
          "scatter3d": [
           {
            "line": {
             "colorbar": {
              "outlinewidth": 0,
              "ticks": ""
             }
            },
            "marker": {
             "colorbar": {
              "outlinewidth": 0,
              "ticks": ""
             }
            },
            "type": "scatter3d"
           }
          ],
          "scattercarpet": [
           {
            "marker": {
             "colorbar": {
              "outlinewidth": 0,
              "ticks": ""
             }
            },
            "type": "scattercarpet"
           }
          ],
          "scattergeo": [
           {
            "marker": {
             "colorbar": {
              "outlinewidth": 0,
              "ticks": ""
             }
            },
            "type": "scattergeo"
           }
          ],
          "scattergl": [
           {
            "marker": {
             "colorbar": {
              "outlinewidth": 0,
              "ticks": ""
             }
            },
            "type": "scattergl"
           }
          ],
          "scattermapbox": [
           {
            "marker": {
             "colorbar": {
              "outlinewidth": 0,
              "ticks": ""
             }
            },
            "type": "scattermapbox"
           }
          ],
          "scatterpolar": [
           {
            "marker": {
             "colorbar": {
              "outlinewidth": 0,
              "ticks": ""
             }
            },
            "type": "scatterpolar"
           }
          ],
          "scatterpolargl": [
           {
            "marker": {
             "colorbar": {
              "outlinewidth": 0,
              "ticks": ""
             }
            },
            "type": "scatterpolargl"
           }
          ],
          "scatterternary": [
           {
            "marker": {
             "colorbar": {
              "outlinewidth": 0,
              "ticks": ""
             }
            },
            "type": "scatterternary"
           }
          ],
          "surface": [
           {
            "colorbar": {
             "outlinewidth": 0,
             "ticks": ""
            },
            "colorscale": [
             [
              0,
              "#0d0887"
             ],
             [
              0.1111111111111111,
              "#46039f"
             ],
             [
              0.2222222222222222,
              "#7201a8"
             ],
             [
              0.3333333333333333,
              "#9c179e"
             ],
             [
              0.4444444444444444,
              "#bd3786"
             ],
             [
              0.5555555555555556,
              "#d8576b"
             ],
             [
              0.6666666666666666,
              "#ed7953"
             ],
             [
              0.7777777777777778,
              "#fb9f3a"
             ],
             [
              0.8888888888888888,
              "#fdca26"
             ],
             [
              1,
              "#f0f921"
             ]
            ],
            "type": "surface"
           }
          ],
          "table": [
           {
            "cells": {
             "fill": {
              "color": "#EBF0F8"
             },
             "line": {
              "color": "white"
             }
            },
            "header": {
             "fill": {
              "color": "#C8D4E3"
             },
             "line": {
              "color": "white"
             }
            },
            "type": "table"
           }
          ]
         },
         "layout": {
          "annotationdefaults": {
           "arrowcolor": "#2a3f5f",
           "arrowhead": 0,
           "arrowwidth": 1
          },
          "autotypenumbers": "strict",
          "coloraxis": {
           "colorbar": {
            "outlinewidth": 0,
            "ticks": ""
           }
          },
          "colorscale": {
           "diverging": [
            [
             0,
             "#8e0152"
            ],
            [
             0.1,
             "#c51b7d"
            ],
            [
             0.2,
             "#de77ae"
            ],
            [
             0.3,
             "#f1b6da"
            ],
            [
             0.4,
             "#fde0ef"
            ],
            [
             0.5,
             "#f7f7f7"
            ],
            [
             0.6,
             "#e6f5d0"
            ],
            [
             0.7,
             "#b8e186"
            ],
            [
             0.8,
             "#7fbc41"
            ],
            [
             0.9,
             "#4d9221"
            ],
            [
             1,
             "#276419"
            ]
           ],
           "sequential": [
            [
             0,
             "#0d0887"
            ],
            [
             0.1111111111111111,
             "#46039f"
            ],
            [
             0.2222222222222222,
             "#7201a8"
            ],
            [
             0.3333333333333333,
             "#9c179e"
            ],
            [
             0.4444444444444444,
             "#bd3786"
            ],
            [
             0.5555555555555556,
             "#d8576b"
            ],
            [
             0.6666666666666666,
             "#ed7953"
            ],
            [
             0.7777777777777778,
             "#fb9f3a"
            ],
            [
             0.8888888888888888,
             "#fdca26"
            ],
            [
             1,
             "#f0f921"
            ]
           ],
           "sequentialminus": [
            [
             0,
             "#0d0887"
            ],
            [
             0.1111111111111111,
             "#46039f"
            ],
            [
             0.2222222222222222,
             "#7201a8"
            ],
            [
             0.3333333333333333,
             "#9c179e"
            ],
            [
             0.4444444444444444,
             "#bd3786"
            ],
            [
             0.5555555555555556,
             "#d8576b"
            ],
            [
             0.6666666666666666,
             "#ed7953"
            ],
            [
             0.7777777777777778,
             "#fb9f3a"
            ],
            [
             0.8888888888888888,
             "#fdca26"
            ],
            [
             1,
             "#f0f921"
            ]
           ]
          },
          "colorway": [
           "#636efa",
           "#EF553B",
           "#00cc96",
           "#ab63fa",
           "#FFA15A",
           "#19d3f3",
           "#FF6692",
           "#B6E880",
           "#FF97FF",
           "#FECB52"
          ],
          "font": {
           "color": "#2a3f5f"
          },
          "geo": {
           "bgcolor": "white",
           "lakecolor": "white",
           "landcolor": "#E5ECF6",
           "showlakes": true,
           "showland": true,
           "subunitcolor": "white"
          },
          "hoverlabel": {
           "align": "left"
          },
          "hovermode": "closest",
          "mapbox": {
           "style": "light"
          },
          "paper_bgcolor": "white",
          "plot_bgcolor": "#E5ECF6",
          "polar": {
           "angularaxis": {
            "gridcolor": "white",
            "linecolor": "white",
            "ticks": ""
           },
           "bgcolor": "#E5ECF6",
           "radialaxis": {
            "gridcolor": "white",
            "linecolor": "white",
            "ticks": ""
           }
          },
          "scene": {
           "xaxis": {
            "backgroundcolor": "#E5ECF6",
            "gridcolor": "white",
            "gridwidth": 2,
            "linecolor": "white",
            "showbackground": true,
            "ticks": "",
            "zerolinecolor": "white"
           },
           "yaxis": {
            "backgroundcolor": "#E5ECF6",
            "gridcolor": "white",
            "gridwidth": 2,
            "linecolor": "white",
            "showbackground": true,
            "ticks": "",
            "zerolinecolor": "white"
           },
           "zaxis": {
            "backgroundcolor": "#E5ECF6",
            "gridcolor": "white",
            "gridwidth": 2,
            "linecolor": "white",
            "showbackground": true,
            "ticks": "",
            "zerolinecolor": "white"
           }
          },
          "shapedefaults": {
           "line": {
            "color": "#2a3f5f"
           }
          },
          "ternary": {
           "aaxis": {
            "gridcolor": "white",
            "linecolor": "white",
            "ticks": ""
           },
           "baxis": {
            "gridcolor": "white",
            "linecolor": "white",
            "ticks": ""
           },
           "bgcolor": "#E5ECF6",
           "caxis": {
            "gridcolor": "white",
            "linecolor": "white",
            "ticks": ""
           }
          },
          "title": {
           "x": 0.05
          },
          "xaxis": {
           "automargin": true,
           "gridcolor": "white",
           "linecolor": "white",
           "ticks": "",
           "title": {
            "standoff": 15
           },
           "zerolinecolor": "white",
           "zerolinewidth": 2
          },
          "yaxis": {
           "automargin": true,
           "gridcolor": "white",
           "linecolor": "white",
           "ticks": "",
           "title": {
            "standoff": 15
           },
           "zerolinecolor": "white",
           "zerolinewidth": 2
          }
         }
        },
        "xaxis": {
         "anchor": "y",
         "domain": [
          0,
          1
         ],
         "title": {
          "text": "year"
         }
        },
        "yaxis": {
         "anchor": "x",
         "domain": [
          0,
          1
         ],
         "title": {
          "text": "value"
         }
        }
       }
      }
     },
     "metadata": {},
     "output_type": "display_data"
    }
   ],
   "source": [
    "pop_df = pd.read_csv(csv_path)\n",
    "pop_df = pop_df.set_index(['year'])\n",
    "pop_df['population'].plot()"
   ]
  },
  {
   "cell_type": "markdown",
   "metadata": {},
   "source": [
    "### Birth rate"
   ]
  },
  {
   "cell_type": "code",
   "execution_count": 7,
   "metadata": {},
   "outputs": [
    {
     "data": {
      "application/vnd.plotly.v1+json": {
       "config": {
        "plotlyServerURL": "https://plot.ly"
       },
       "data": [
        {
         "hovertemplate": "variable=0<br>mean_year=%{x}<br>value=%{y}<extra></extra>",
         "legendgroup": "0",
         "line": {
          "color": "#636efa",
          "dash": "solid"
         },
         "marker": {
          "symbol": "circle"
         },
         "mode": "markers+lines",
         "name": "0",
         "orientation": "v",
         "showlegend": true,
         "type": "scatter",
         "x": [
          1952.5,
          1957.5,
          1962.5,
          1967.5,
          1972.5,
          1977.5,
          1982.5,
          1987.5,
          1992.5,
          1997.5,
          2002.5,
          2007.5,
          2012.5,
          2017.5
         ],
         "xaxis": "x",
         "y": [
          0.039776000000000006,
          0.042731000000000005,
          0.040619999999999996,
          0.037357,
          0.035531,
          0.032790999999999994,
          0.031293,
          0.029655,
          0.026611,
          0.019188,
          0.016832999999999997,
          0.017184,
          0.017283,
          0.016945
         ],
         "yaxis": "y"
        }
       ],
       "layout": {
        "legend": {
         "title": {
          "text": "variable"
         },
         "tracegroupgap": 0
        },
        "margin": {
         "t": 60
        },
        "showlegend": false,
        "template": {
         "data": {
          "bar": [
           {
            "error_x": {
             "color": "#2a3f5f"
            },
            "error_y": {
             "color": "#2a3f5f"
            },
            "marker": {
             "line": {
              "color": "#E5ECF6",
              "width": 0.5
             },
             "pattern": {
              "fillmode": "overlay",
              "size": 10,
              "solidity": 0.2
             }
            },
            "type": "bar"
           }
          ],
          "barpolar": [
           {
            "marker": {
             "line": {
              "color": "#E5ECF6",
              "width": 0.5
             },
             "pattern": {
              "fillmode": "overlay",
              "size": 10,
              "solidity": 0.2
             }
            },
            "type": "barpolar"
           }
          ],
          "carpet": [
           {
            "aaxis": {
             "endlinecolor": "#2a3f5f",
             "gridcolor": "white",
             "linecolor": "white",
             "minorgridcolor": "white",
             "startlinecolor": "#2a3f5f"
            },
            "baxis": {
             "endlinecolor": "#2a3f5f",
             "gridcolor": "white",
             "linecolor": "white",
             "minorgridcolor": "white",
             "startlinecolor": "#2a3f5f"
            },
            "type": "carpet"
           }
          ],
          "choropleth": [
           {
            "colorbar": {
             "outlinewidth": 0,
             "ticks": ""
            },
            "type": "choropleth"
           }
          ],
          "contour": [
           {
            "colorbar": {
             "outlinewidth": 0,
             "ticks": ""
            },
            "colorscale": [
             [
              0,
              "#0d0887"
             ],
             [
              0.1111111111111111,
              "#46039f"
             ],
             [
              0.2222222222222222,
              "#7201a8"
             ],
             [
              0.3333333333333333,
              "#9c179e"
             ],
             [
              0.4444444444444444,
              "#bd3786"
             ],
             [
              0.5555555555555556,
              "#d8576b"
             ],
             [
              0.6666666666666666,
              "#ed7953"
             ],
             [
              0.7777777777777778,
              "#fb9f3a"
             ],
             [
              0.8888888888888888,
              "#fdca26"
             ],
             [
              1,
              "#f0f921"
             ]
            ],
            "type": "contour"
           }
          ],
          "contourcarpet": [
           {
            "colorbar": {
             "outlinewidth": 0,
             "ticks": ""
            },
            "type": "contourcarpet"
           }
          ],
          "heatmap": [
           {
            "colorbar": {
             "outlinewidth": 0,
             "ticks": ""
            },
            "colorscale": [
             [
              0,
              "#0d0887"
             ],
             [
              0.1111111111111111,
              "#46039f"
             ],
             [
              0.2222222222222222,
              "#7201a8"
             ],
             [
              0.3333333333333333,
              "#9c179e"
             ],
             [
              0.4444444444444444,
              "#bd3786"
             ],
             [
              0.5555555555555556,
              "#d8576b"
             ],
             [
              0.6666666666666666,
              "#ed7953"
             ],
             [
              0.7777777777777778,
              "#fb9f3a"
             ],
             [
              0.8888888888888888,
              "#fdca26"
             ],
             [
              1,
              "#f0f921"
             ]
            ],
            "type": "heatmap"
           }
          ],
          "heatmapgl": [
           {
            "colorbar": {
             "outlinewidth": 0,
             "ticks": ""
            },
            "colorscale": [
             [
              0,
              "#0d0887"
             ],
             [
              0.1111111111111111,
              "#46039f"
             ],
             [
              0.2222222222222222,
              "#7201a8"
             ],
             [
              0.3333333333333333,
              "#9c179e"
             ],
             [
              0.4444444444444444,
              "#bd3786"
             ],
             [
              0.5555555555555556,
              "#d8576b"
             ],
             [
              0.6666666666666666,
              "#ed7953"
             ],
             [
              0.7777777777777778,
              "#fb9f3a"
             ],
             [
              0.8888888888888888,
              "#fdca26"
             ],
             [
              1,
              "#f0f921"
             ]
            ],
            "type": "heatmapgl"
           }
          ],
          "histogram": [
           {
            "marker": {
             "pattern": {
              "fillmode": "overlay",
              "size": 10,
              "solidity": 0.2
             }
            },
            "type": "histogram"
           }
          ],
          "histogram2d": [
           {
            "colorbar": {
             "outlinewidth": 0,
             "ticks": ""
            },
            "colorscale": [
             [
              0,
              "#0d0887"
             ],
             [
              0.1111111111111111,
              "#46039f"
             ],
             [
              0.2222222222222222,
              "#7201a8"
             ],
             [
              0.3333333333333333,
              "#9c179e"
             ],
             [
              0.4444444444444444,
              "#bd3786"
             ],
             [
              0.5555555555555556,
              "#d8576b"
             ],
             [
              0.6666666666666666,
              "#ed7953"
             ],
             [
              0.7777777777777778,
              "#fb9f3a"
             ],
             [
              0.8888888888888888,
              "#fdca26"
             ],
             [
              1,
              "#f0f921"
             ]
            ],
            "type": "histogram2d"
           }
          ],
          "histogram2dcontour": [
           {
            "colorbar": {
             "outlinewidth": 0,
             "ticks": ""
            },
            "colorscale": [
             [
              0,
              "#0d0887"
             ],
             [
              0.1111111111111111,
              "#46039f"
             ],
             [
              0.2222222222222222,
              "#7201a8"
             ],
             [
              0.3333333333333333,
              "#9c179e"
             ],
             [
              0.4444444444444444,
              "#bd3786"
             ],
             [
              0.5555555555555556,
              "#d8576b"
             ],
             [
              0.6666666666666666,
              "#ed7953"
             ],
             [
              0.7777777777777778,
              "#fb9f3a"
             ],
             [
              0.8888888888888888,
              "#fdca26"
             ],
             [
              1,
              "#f0f921"
             ]
            ],
            "type": "histogram2dcontour"
           }
          ],
          "mesh3d": [
           {
            "colorbar": {
             "outlinewidth": 0,
             "ticks": ""
            },
            "type": "mesh3d"
           }
          ],
          "parcoords": [
           {
            "line": {
             "colorbar": {
              "outlinewidth": 0,
              "ticks": ""
             }
            },
            "type": "parcoords"
           }
          ],
          "pie": [
           {
            "automargin": true,
            "type": "pie"
           }
          ],
          "scatter": [
           {
            "fillpattern": {
             "fillmode": "overlay",
             "size": 10,
             "solidity": 0.2
            },
            "type": "scatter"
           }
          ],
          "scatter3d": [
           {
            "line": {
             "colorbar": {
              "outlinewidth": 0,
              "ticks": ""
             }
            },
            "marker": {
             "colorbar": {
              "outlinewidth": 0,
              "ticks": ""
             }
            },
            "type": "scatter3d"
           }
          ],
          "scattercarpet": [
           {
            "marker": {
             "colorbar": {
              "outlinewidth": 0,
              "ticks": ""
             }
            },
            "type": "scattercarpet"
           }
          ],
          "scattergeo": [
           {
            "marker": {
             "colorbar": {
              "outlinewidth": 0,
              "ticks": ""
             }
            },
            "type": "scattergeo"
           }
          ],
          "scattergl": [
           {
            "marker": {
             "colorbar": {
              "outlinewidth": 0,
              "ticks": ""
             }
            },
            "type": "scattergl"
           }
          ],
          "scattermapbox": [
           {
            "marker": {
             "colorbar": {
              "outlinewidth": 0,
              "ticks": ""
             }
            },
            "type": "scattermapbox"
           }
          ],
          "scatterpolar": [
           {
            "marker": {
             "colorbar": {
              "outlinewidth": 0,
              "ticks": ""
             }
            },
            "type": "scatterpolar"
           }
          ],
          "scatterpolargl": [
           {
            "marker": {
             "colorbar": {
              "outlinewidth": 0,
              "ticks": ""
             }
            },
            "type": "scatterpolargl"
           }
          ],
          "scatterternary": [
           {
            "marker": {
             "colorbar": {
              "outlinewidth": 0,
              "ticks": ""
             }
            },
            "type": "scatterternary"
           }
          ],
          "surface": [
           {
            "colorbar": {
             "outlinewidth": 0,
             "ticks": ""
            },
            "colorscale": [
             [
              0,
              "#0d0887"
             ],
             [
              0.1111111111111111,
              "#46039f"
             ],
             [
              0.2222222222222222,
              "#7201a8"
             ],
             [
              0.3333333333333333,
              "#9c179e"
             ],
             [
              0.4444444444444444,
              "#bd3786"
             ],
             [
              0.5555555555555556,
              "#d8576b"
             ],
             [
              0.6666666666666666,
              "#ed7953"
             ],
             [
              0.7777777777777778,
              "#fb9f3a"
             ],
             [
              0.8888888888888888,
              "#fdca26"
             ],
             [
              1,
              "#f0f921"
             ]
            ],
            "type": "surface"
           }
          ],
          "table": [
           {
            "cells": {
             "fill": {
              "color": "#EBF0F8"
             },
             "line": {
              "color": "white"
             }
            },
            "header": {
             "fill": {
              "color": "#C8D4E3"
             },
             "line": {
              "color": "white"
             }
            },
            "type": "table"
           }
          ]
         },
         "layout": {
          "annotationdefaults": {
           "arrowcolor": "#2a3f5f",
           "arrowhead": 0,
           "arrowwidth": 1
          },
          "autotypenumbers": "strict",
          "coloraxis": {
           "colorbar": {
            "outlinewidth": 0,
            "ticks": ""
           }
          },
          "colorscale": {
           "diverging": [
            [
             0,
             "#8e0152"
            ],
            [
             0.1,
             "#c51b7d"
            ],
            [
             0.2,
             "#de77ae"
            ],
            [
             0.3,
             "#f1b6da"
            ],
            [
             0.4,
             "#fde0ef"
            ],
            [
             0.5,
             "#f7f7f7"
            ],
            [
             0.6,
             "#e6f5d0"
            ],
            [
             0.7,
             "#b8e186"
            ],
            [
             0.8,
             "#7fbc41"
            ],
            [
             0.9,
             "#4d9221"
            ],
            [
             1,
             "#276419"
            ]
           ],
           "sequential": [
            [
             0,
             "#0d0887"
            ],
            [
             0.1111111111111111,
             "#46039f"
            ],
            [
             0.2222222222222222,
             "#7201a8"
            ],
            [
             0.3333333333333333,
             "#9c179e"
            ],
            [
             0.4444444444444444,
             "#bd3786"
            ],
            [
             0.5555555555555556,
             "#d8576b"
            ],
            [
             0.6666666666666666,
             "#ed7953"
            ],
            [
             0.7777777777777778,
             "#fb9f3a"
            ],
            [
             0.8888888888888888,
             "#fdca26"
            ],
            [
             1,
             "#f0f921"
            ]
           ],
           "sequentialminus": [
            [
             0,
             "#0d0887"
            ],
            [
             0.1111111111111111,
             "#46039f"
            ],
            [
             0.2222222222222222,
             "#7201a8"
            ],
            [
             0.3333333333333333,
             "#9c179e"
            ],
            [
             0.4444444444444444,
             "#bd3786"
            ],
            [
             0.5555555555555556,
             "#d8576b"
            ],
            [
             0.6666666666666666,
             "#ed7953"
            ],
            [
             0.7777777777777778,
             "#fb9f3a"
            ],
            [
             0.8888888888888888,
             "#fdca26"
            ],
            [
             1,
             "#f0f921"
            ]
           ]
          },
          "colorway": [
           "#636efa",
           "#EF553B",
           "#00cc96",
           "#ab63fa",
           "#FFA15A",
           "#19d3f3",
           "#FF6692",
           "#B6E880",
           "#FF97FF",
           "#FECB52"
          ],
          "font": {
           "color": "#2a3f5f"
          },
          "geo": {
           "bgcolor": "white",
           "lakecolor": "white",
           "landcolor": "#E5ECF6",
           "showlakes": true,
           "showland": true,
           "subunitcolor": "white"
          },
          "hoverlabel": {
           "align": "left"
          },
          "hovermode": "closest",
          "mapbox": {
           "style": "light"
          },
          "paper_bgcolor": "white",
          "plot_bgcolor": "#E5ECF6",
          "polar": {
           "angularaxis": {
            "gridcolor": "white",
            "linecolor": "white",
            "ticks": ""
           },
           "bgcolor": "#E5ECF6",
           "radialaxis": {
            "gridcolor": "white",
            "linecolor": "white",
            "ticks": ""
           }
          },
          "scene": {
           "xaxis": {
            "backgroundcolor": "#E5ECF6",
            "gridcolor": "white",
            "gridwidth": 2,
            "linecolor": "white",
            "showbackground": true,
            "ticks": "",
            "zerolinecolor": "white"
           },
           "yaxis": {
            "backgroundcolor": "#E5ECF6",
            "gridcolor": "white",
            "gridwidth": 2,
            "linecolor": "white",
            "showbackground": true,
            "ticks": "",
            "zerolinecolor": "white"
           },
           "zaxis": {
            "backgroundcolor": "#E5ECF6",
            "gridcolor": "white",
            "gridwidth": 2,
            "linecolor": "white",
            "showbackground": true,
            "ticks": "",
            "zerolinecolor": "white"
           }
          },
          "shapedefaults": {
           "line": {
            "color": "#2a3f5f"
           }
          },
          "ternary": {
           "aaxis": {
            "gridcolor": "white",
            "linecolor": "white",
            "ticks": ""
           },
           "baxis": {
            "gridcolor": "white",
            "linecolor": "white",
            "ticks": ""
           },
           "bgcolor": "#E5ECF6",
           "caxis": {
            "gridcolor": "white",
            "linecolor": "white",
            "ticks": ""
           }
          },
          "title": {
           "x": 0.05
          },
          "xaxis": {
           "automargin": true,
           "gridcolor": "white",
           "linecolor": "white",
           "ticks": "",
           "title": {
            "standoff": 15
           },
           "zerolinecolor": "white",
           "zerolinewidth": 2
          },
          "yaxis": {
           "automargin": true,
           "gridcolor": "white",
           "linecolor": "white",
           "ticks": "",
           "title": {
            "standoff": 15
           },
           "zerolinecolor": "white",
           "zerolinewidth": 2
          }
         }
        },
        "title": {
         "text": "Crude birth rate of Ca Mau",
         "x": 0.5
        },
        "xaxis": {
         "anchor": "y",
         "domain": [
          0,
          1
         ],
         "title": {
          "text": "Year"
         }
        },
        "yaxis": {
         "anchor": "x",
         "domain": [
          0,
          1
         ],
         "title": {
          "text": "Crude birth rate"
         }
        }
       }
      }
     },
     "metadata": {},
     "output_type": "display_data"
    }
   ],
   "source": [
    "birth_rates, years = inputs.get_crude_birth_rate(\"VNM\")\n",
    "birth_rates = [b / 1000.0 for b in birth_rates]  # Birth rates are provided / 1000 population\n",
    "birth_rates_series = pd.Series(birth_rates, index=years)\n",
    "br_fig= px.line(birth_rates_series)\n",
    "br_fig.update_traces(mode='markers+lines')\n",
    "br_fig.update_layout(\n",
    "    title=\"Crude birth rate of Ca Mau\",\n",
    "    title_x=0.5,\n",
    "    xaxis_title=\"Year\",\n",
    "    yaxis_title=\"Crude birth rate\",\n",
    "    showlegend=False,\n",
    ")"
   ]
  },
  {
   "attachments": {},
   "cell_type": "markdown",
   "metadata": {},
   "source": [
    "### Life expectancy"
   ]
  },
  {
   "cell_type": "code",
   "execution_count": 8,
   "metadata": {},
   "outputs": [
    {
     "data": {
      "application/vnd.plotly.v1+json": {
       "config": {
        "plotlyServerURL": "https://plot.ly"
       },
       "data": [
        {
         "hovertemplate": "variable=0<br>index=%{x}<br>value=%{y}<extra></extra>",
         "legendgroup": "0",
         "line": {
          "color": "#636efa",
          "dash": "solid"
         },
         "marker": {
          "symbol": "circle"
         },
         "mode": "lines",
         "name": "0",
         "orientation": "v",
         "showlegend": true,
         "type": "scatter",
         "x": [
          1952.5,
          1957.5,
          1962.5,
          1967.5,
          1972.5,
          1977.5,
          1982.5,
          1987.5,
          1992.5,
          1997.5,
          2002.5,
          2007.5,
          2012.5,
          2017.5
         ],
         "xaxis": "x",
         "y": [
          20.444904341792885,
          29.482289787646447,
          40.92870955537183,
          51.524661918973464,
          55.101367058904295,
          68.79803186925655,
          76.71359700715429,
          88.85590162574651,
          107.40428581498624,
          163.43903102398104,
          176.10675992731154,
          187.4948765902168,
          209.04345380641195,
          230.69309620399886
         ],
         "yaxis": "y"
        },
        {
         "hovertemplate": "variable=5<br>index=%{x}<br>value=%{y}<extra></extra>",
         "legendgroup": "5",
         "line": {
          "color": "#EF553B",
          "dash": "solid"
         },
         "marker": {
          "symbol": "circle"
         },
         "mode": "lines",
         "name": "5",
         "orientation": "v",
         "showlegend": true,
         "type": "scatter",
         "x": [
          1952.5,
          1957.5,
          1962.5,
          1967.5,
          1972.5,
          1977.5,
          1982.5,
          1987.5,
          1992.5,
          1997.5,
          2002.5,
          2007.5,
          2012.5,
          2017.5
         ],
         "xaxis": "x",
         "y": [
          176.83987589529352,
          188.77632025552168,
          223.88948610437018,
          259.9896036663088,
          195.77214329202965,
          368.8090233800744,
          465.6717862038214,
          599.123905084914,
          759.6269012165749,
          982.1480537859496,
          1342.7895262698664,
          1767.211344489547,
          1837.7901975545442,
          1960.5681748514673
         ],
         "yaxis": "y"
        },
        {
         "hovertemplate": "variable=15<br>index=%{x}<br>value=%{y}<extra></extra>",
         "legendgroup": "15",
         "line": {
          "color": "#00cc96",
          "dash": "solid"
         },
         "marker": {
          "symbol": "circle"
         },
         "mode": "lines",
         "name": "15",
         "orientation": "v",
         "showlegend": true,
         "type": "scatter",
         "x": [
          1952.5,
          1957.5,
          1962.5,
          1967.5,
          1972.5,
          1977.5,
          1982.5,
          1987.5,
          1992.5,
          1997.5,
          2002.5,
          2007.5,
          2012.5,
          2017.5
         ],
         "xaxis": "x",
         "y": [
          327.68099208997137,
          370.26682491974674,
          401.63246998999637,
          386.905219527685,
          244.57012387080678,
          417.9244525793353,
          452.53549842583084,
          530.4116708804005,
          603.0983083954414,
          654.5669009282569,
          700.7397580397,
          771.9869119199767,
          809.2902053471516,
          852.5274850903924
         ],
         "yaxis": "y"
        },
        {
         "hovertemplate": "variable=35<br>index=%{x}<br>value=%{y}<extra></extra>",
         "legendgroup": "35",
         "line": {
          "color": "#ab63fa",
          "dash": "solid"
         },
         "marker": {
          "symbol": "circle"
         },
         "mode": "lines",
         "name": "35",
         "orientation": "v",
         "showlegend": true,
         "type": "scatter",
         "x": [
          1952.5,
          1957.5,
          1962.5,
          1967.5,
          1972.5,
          1977.5,
          1982.5,
          1987.5,
          1992.5,
          1997.5,
          2002.5,
          2007.5,
          2012.5,
          2017.5
         ],
         "xaxis": "x",
         "y": [
          106.53391485233813,
          126.69880902166264,
          153.44164960346131,
          159.72170890710618,
          115.08571690600395,
          208.71756438047228,
          239.2812822666623,
          244.28634466315282,
          248.06716846742344,
          255.90166107974255,
          286.6458962808636,
          316.9016276011846,
          328.9101996655841,
          335.54695559093363
         ],
         "yaxis": "y"
        },
        {
         "hovertemplate": "variable=50<br>index=%{x}<br>value=%{y}<extra></extra>",
         "legendgroup": "50",
         "line": {
          "color": "#FFA15A",
          "dash": "solid"
         },
         "marker": {
          "symbol": "circle"
         },
         "mode": "lines",
         "name": "50",
         "orientation": "v",
         "showlegend": true,
         "type": "scatter",
         "x": [
          1952.5,
          1957.5,
          1962.5,
          1967.5,
          1972.5,
          1977.5,
          1982.5,
          1987.5,
          1992.5,
          1997.5,
          2002.5,
          2007.5,
          2012.5,
          2017.5
         ],
         "xaxis": "x",
         "y": [
          7.056354722182018,
          7.14042329119906,
          7.117379668530624,
          7.147291128487501,
          6.913041910849589,
          8.196759683236078,
          8.697342724004898,
          9.417083981476397,
          10.226246110948376,
          10.879878196983078,
          11.623779855731188,
          11.862894485814962,
          12.296475270781523,
          12.332342428788765
         ],
         "yaxis": "y"
        }
       ],
       "layout": {
        "legend": {
         "title": {
          "text": "variable"
         },
         "tracegroupgap": 0
        },
        "margin": {
         "t": 60
        },
        "template": {
         "data": {
          "bar": [
           {
            "error_x": {
             "color": "#2a3f5f"
            },
            "error_y": {
             "color": "#2a3f5f"
            },
            "marker": {
             "line": {
              "color": "#E5ECF6",
              "width": 0.5
             },
             "pattern": {
              "fillmode": "overlay",
              "size": 10,
              "solidity": 0.2
             }
            },
            "type": "bar"
           }
          ],
          "barpolar": [
           {
            "marker": {
             "line": {
              "color": "#E5ECF6",
              "width": 0.5
             },
             "pattern": {
              "fillmode": "overlay",
              "size": 10,
              "solidity": 0.2
             }
            },
            "type": "barpolar"
           }
          ],
          "carpet": [
           {
            "aaxis": {
             "endlinecolor": "#2a3f5f",
             "gridcolor": "white",
             "linecolor": "white",
             "minorgridcolor": "white",
             "startlinecolor": "#2a3f5f"
            },
            "baxis": {
             "endlinecolor": "#2a3f5f",
             "gridcolor": "white",
             "linecolor": "white",
             "minorgridcolor": "white",
             "startlinecolor": "#2a3f5f"
            },
            "type": "carpet"
           }
          ],
          "choropleth": [
           {
            "colorbar": {
             "outlinewidth": 0,
             "ticks": ""
            },
            "type": "choropleth"
           }
          ],
          "contour": [
           {
            "colorbar": {
             "outlinewidth": 0,
             "ticks": ""
            },
            "colorscale": [
             [
              0,
              "#0d0887"
             ],
             [
              0.1111111111111111,
              "#46039f"
             ],
             [
              0.2222222222222222,
              "#7201a8"
             ],
             [
              0.3333333333333333,
              "#9c179e"
             ],
             [
              0.4444444444444444,
              "#bd3786"
             ],
             [
              0.5555555555555556,
              "#d8576b"
             ],
             [
              0.6666666666666666,
              "#ed7953"
             ],
             [
              0.7777777777777778,
              "#fb9f3a"
             ],
             [
              0.8888888888888888,
              "#fdca26"
             ],
             [
              1,
              "#f0f921"
             ]
            ],
            "type": "contour"
           }
          ],
          "contourcarpet": [
           {
            "colorbar": {
             "outlinewidth": 0,
             "ticks": ""
            },
            "type": "contourcarpet"
           }
          ],
          "heatmap": [
           {
            "colorbar": {
             "outlinewidth": 0,
             "ticks": ""
            },
            "colorscale": [
             [
              0,
              "#0d0887"
             ],
             [
              0.1111111111111111,
              "#46039f"
             ],
             [
              0.2222222222222222,
              "#7201a8"
             ],
             [
              0.3333333333333333,
              "#9c179e"
             ],
             [
              0.4444444444444444,
              "#bd3786"
             ],
             [
              0.5555555555555556,
              "#d8576b"
             ],
             [
              0.6666666666666666,
              "#ed7953"
             ],
             [
              0.7777777777777778,
              "#fb9f3a"
             ],
             [
              0.8888888888888888,
              "#fdca26"
             ],
             [
              1,
              "#f0f921"
             ]
            ],
            "type": "heatmap"
           }
          ],
          "heatmapgl": [
           {
            "colorbar": {
             "outlinewidth": 0,
             "ticks": ""
            },
            "colorscale": [
             [
              0,
              "#0d0887"
             ],
             [
              0.1111111111111111,
              "#46039f"
             ],
             [
              0.2222222222222222,
              "#7201a8"
             ],
             [
              0.3333333333333333,
              "#9c179e"
             ],
             [
              0.4444444444444444,
              "#bd3786"
             ],
             [
              0.5555555555555556,
              "#d8576b"
             ],
             [
              0.6666666666666666,
              "#ed7953"
             ],
             [
              0.7777777777777778,
              "#fb9f3a"
             ],
             [
              0.8888888888888888,
              "#fdca26"
             ],
             [
              1,
              "#f0f921"
             ]
            ],
            "type": "heatmapgl"
           }
          ],
          "histogram": [
           {
            "marker": {
             "pattern": {
              "fillmode": "overlay",
              "size": 10,
              "solidity": 0.2
             }
            },
            "type": "histogram"
           }
          ],
          "histogram2d": [
           {
            "colorbar": {
             "outlinewidth": 0,
             "ticks": ""
            },
            "colorscale": [
             [
              0,
              "#0d0887"
             ],
             [
              0.1111111111111111,
              "#46039f"
             ],
             [
              0.2222222222222222,
              "#7201a8"
             ],
             [
              0.3333333333333333,
              "#9c179e"
             ],
             [
              0.4444444444444444,
              "#bd3786"
             ],
             [
              0.5555555555555556,
              "#d8576b"
             ],
             [
              0.6666666666666666,
              "#ed7953"
             ],
             [
              0.7777777777777778,
              "#fb9f3a"
             ],
             [
              0.8888888888888888,
              "#fdca26"
             ],
             [
              1,
              "#f0f921"
             ]
            ],
            "type": "histogram2d"
           }
          ],
          "histogram2dcontour": [
           {
            "colorbar": {
             "outlinewidth": 0,
             "ticks": ""
            },
            "colorscale": [
             [
              0,
              "#0d0887"
             ],
             [
              0.1111111111111111,
              "#46039f"
             ],
             [
              0.2222222222222222,
              "#7201a8"
             ],
             [
              0.3333333333333333,
              "#9c179e"
             ],
             [
              0.4444444444444444,
              "#bd3786"
             ],
             [
              0.5555555555555556,
              "#d8576b"
             ],
             [
              0.6666666666666666,
              "#ed7953"
             ],
             [
              0.7777777777777778,
              "#fb9f3a"
             ],
             [
              0.8888888888888888,
              "#fdca26"
             ],
             [
              1,
              "#f0f921"
             ]
            ],
            "type": "histogram2dcontour"
           }
          ],
          "mesh3d": [
           {
            "colorbar": {
             "outlinewidth": 0,
             "ticks": ""
            },
            "type": "mesh3d"
           }
          ],
          "parcoords": [
           {
            "line": {
             "colorbar": {
              "outlinewidth": 0,
              "ticks": ""
             }
            },
            "type": "parcoords"
           }
          ],
          "pie": [
           {
            "automargin": true,
            "type": "pie"
           }
          ],
          "scatter": [
           {
            "fillpattern": {
             "fillmode": "overlay",
             "size": 10,
             "solidity": 0.2
            },
            "type": "scatter"
           }
          ],
          "scatter3d": [
           {
            "line": {
             "colorbar": {
              "outlinewidth": 0,
              "ticks": ""
             }
            },
            "marker": {
             "colorbar": {
              "outlinewidth": 0,
              "ticks": ""
             }
            },
            "type": "scatter3d"
           }
          ],
          "scattercarpet": [
           {
            "marker": {
             "colorbar": {
              "outlinewidth": 0,
              "ticks": ""
             }
            },
            "type": "scattercarpet"
           }
          ],
          "scattergeo": [
           {
            "marker": {
             "colorbar": {
              "outlinewidth": 0,
              "ticks": ""
             }
            },
            "type": "scattergeo"
           }
          ],
          "scattergl": [
           {
            "marker": {
             "colorbar": {
              "outlinewidth": 0,
              "ticks": ""
             }
            },
            "type": "scattergl"
           }
          ],
          "scattermapbox": [
           {
            "marker": {
             "colorbar": {
              "outlinewidth": 0,
              "ticks": ""
             }
            },
            "type": "scattermapbox"
           }
          ],
          "scatterpolar": [
           {
            "marker": {
             "colorbar": {
              "outlinewidth": 0,
              "ticks": ""
             }
            },
            "type": "scatterpolar"
           }
          ],
          "scatterpolargl": [
           {
            "marker": {
             "colorbar": {
              "outlinewidth": 0,
              "ticks": ""
             }
            },
            "type": "scatterpolargl"
           }
          ],
          "scatterternary": [
           {
            "marker": {
             "colorbar": {
              "outlinewidth": 0,
              "ticks": ""
             }
            },
            "type": "scatterternary"
           }
          ],
          "surface": [
           {
            "colorbar": {
             "outlinewidth": 0,
             "ticks": ""
            },
            "colorscale": [
             [
              0,
              "#0d0887"
             ],
             [
              0.1111111111111111,
              "#46039f"
             ],
             [
              0.2222222222222222,
              "#7201a8"
             ],
             [
              0.3333333333333333,
              "#9c179e"
             ],
             [
              0.4444444444444444,
              "#bd3786"
             ],
             [
              0.5555555555555556,
              "#d8576b"
             ],
             [
              0.6666666666666666,
              "#ed7953"
             ],
             [
              0.7777777777777778,
              "#fb9f3a"
             ],
             [
              0.8888888888888888,
              "#fdca26"
             ],
             [
              1,
              "#f0f921"
             ]
            ],
            "type": "surface"
           }
          ],
          "table": [
           {
            "cells": {
             "fill": {
              "color": "#EBF0F8"
             },
             "line": {
              "color": "white"
             }
            },
            "header": {
             "fill": {
              "color": "#C8D4E3"
             },
             "line": {
              "color": "white"
             }
            },
            "type": "table"
           }
          ]
         },
         "layout": {
          "annotationdefaults": {
           "arrowcolor": "#2a3f5f",
           "arrowhead": 0,
           "arrowwidth": 1
          },
          "autotypenumbers": "strict",
          "coloraxis": {
           "colorbar": {
            "outlinewidth": 0,
            "ticks": ""
           }
          },
          "colorscale": {
           "diverging": [
            [
             0,
             "#8e0152"
            ],
            [
             0.1,
             "#c51b7d"
            ],
            [
             0.2,
             "#de77ae"
            ],
            [
             0.3,
             "#f1b6da"
            ],
            [
             0.4,
             "#fde0ef"
            ],
            [
             0.5,
             "#f7f7f7"
            ],
            [
             0.6,
             "#e6f5d0"
            ],
            [
             0.7,
             "#b8e186"
            ],
            [
             0.8,
             "#7fbc41"
            ],
            [
             0.9,
             "#4d9221"
            ],
            [
             1,
             "#276419"
            ]
           ],
           "sequential": [
            [
             0,
             "#0d0887"
            ],
            [
             0.1111111111111111,
             "#46039f"
            ],
            [
             0.2222222222222222,
             "#7201a8"
            ],
            [
             0.3333333333333333,
             "#9c179e"
            ],
            [
             0.4444444444444444,
             "#bd3786"
            ],
            [
             0.5555555555555556,
             "#d8576b"
            ],
            [
             0.6666666666666666,
             "#ed7953"
            ],
            [
             0.7777777777777778,
             "#fb9f3a"
            ],
            [
             0.8888888888888888,
             "#fdca26"
            ],
            [
             1,
             "#f0f921"
            ]
           ],
           "sequentialminus": [
            [
             0,
             "#0d0887"
            ],
            [
             0.1111111111111111,
             "#46039f"
            ],
            [
             0.2222222222222222,
             "#7201a8"
            ],
            [
             0.3333333333333333,
             "#9c179e"
            ],
            [
             0.4444444444444444,
             "#bd3786"
            ],
            [
             0.5555555555555556,
             "#d8576b"
            ],
            [
             0.6666666666666666,
             "#ed7953"
            ],
            [
             0.7777777777777778,
             "#fb9f3a"
            ],
            [
             0.8888888888888888,
             "#fdca26"
            ],
            [
             1,
             "#f0f921"
            ]
           ]
          },
          "colorway": [
           "#636efa",
           "#EF553B",
           "#00cc96",
           "#ab63fa",
           "#FFA15A",
           "#19d3f3",
           "#FF6692",
           "#B6E880",
           "#FF97FF",
           "#FECB52"
          ],
          "font": {
           "color": "#2a3f5f"
          },
          "geo": {
           "bgcolor": "white",
           "lakecolor": "white",
           "landcolor": "#E5ECF6",
           "showlakes": true,
           "showland": true,
           "subunitcolor": "white"
          },
          "hoverlabel": {
           "align": "left"
          },
          "hovermode": "closest",
          "mapbox": {
           "style": "light"
          },
          "paper_bgcolor": "white",
          "plot_bgcolor": "#E5ECF6",
          "polar": {
           "angularaxis": {
            "gridcolor": "white",
            "linecolor": "white",
            "ticks": ""
           },
           "bgcolor": "#E5ECF6",
           "radialaxis": {
            "gridcolor": "white",
            "linecolor": "white",
            "ticks": ""
           }
          },
          "scene": {
           "xaxis": {
            "backgroundcolor": "#E5ECF6",
            "gridcolor": "white",
            "gridwidth": 2,
            "linecolor": "white",
            "showbackground": true,
            "ticks": "",
            "zerolinecolor": "white"
           },
           "yaxis": {
            "backgroundcolor": "#E5ECF6",
            "gridcolor": "white",
            "gridwidth": 2,
            "linecolor": "white",
            "showbackground": true,
            "ticks": "",
            "zerolinecolor": "white"
           },
           "zaxis": {
            "backgroundcolor": "#E5ECF6",
            "gridcolor": "white",
            "gridwidth": 2,
            "linecolor": "white",
            "showbackground": true,
            "ticks": "",
            "zerolinecolor": "white"
           }
          },
          "shapedefaults": {
           "line": {
            "color": "#2a3f5f"
           }
          },
          "ternary": {
           "aaxis": {
            "gridcolor": "white",
            "linecolor": "white",
            "ticks": ""
           },
           "baxis": {
            "gridcolor": "white",
            "linecolor": "white",
            "ticks": ""
           },
           "bgcolor": "#E5ECF6",
           "caxis": {
            "gridcolor": "white",
            "linecolor": "white",
            "ticks": ""
           }
          },
          "title": {
           "x": 0.05
          },
          "xaxis": {
           "automargin": true,
           "gridcolor": "white",
           "linecolor": "white",
           "ticks": "",
           "title": {
            "standoff": 15
           },
           "zerolinecolor": "white",
           "zerolinewidth": 2
          },
          "yaxis": {
           "automargin": true,
           "gridcolor": "white",
           "linecolor": "white",
           "ticks": "",
           "title": {
            "standoff": 15
           },
           "zerolinecolor": "white",
           "zerolinewidth": 2
          }
         }
        },
        "xaxis": {
         "anchor": "y",
         "domain": [
          0,
          1
         ],
         "title": {
          "text": "index"
         }
        },
        "yaxis": {
         "anchor": "x",
         "domain": [
          0,
          1
         ],
         "title": {
          "text": "value"
         },
         "type": "log"
        }
       }
      }
     },
     "metadata": {},
     "output_type": "display_data"
    }
   ],
   "source": [
    "# Currently used in model:\n",
    "death_rates_from_db = get_death_rates_by_agegroup(modelled_age_groups, \"VNM\")\n",
    "death_rates_df = pd.DataFrame(death_rates_from_db[0], index=death_rates_from_db[1])\n",
    "life_exp_at_age_df = 1.0 / death_rates_df\n",
    "death_rates_df.plot()\n",
    "life_exp_at_age_df.plot(log_y=True)"
   ]
  },
  {
   "cell_type": "code",
   "execution_count": 9,
   "metadata": {},
   "outputs": [
    {
     "data": {
      "application/vnd.plotly.v1+json": {
       "config": {
        "plotlyServerURL": "https://plot.ly"
       },
       "data": [
        {
         "hovertemplate": "variable=0<br>index=%{x}<br>value=%{y}<extra></extra>",
         "legendgroup": "0",
         "line": {
          "color": "#636efa",
          "dash": "solid"
         },
         "marker": {
          "symbol": "circle"
         },
         "mode": "markers+lines",
         "name": "0",
         "orientation": "v",
         "showlegend": true,
         "type": "scatter",
         "x": [
          2005,
          2007,
          2008,
          2009,
          2010,
          2011,
          2012,
          2013,
          2014,
          2015,
          2016,
          2017,
          2018,
          2019,
          2020,
          2021
         ],
         "xaxis": "x",
         "y": [
          0.0048,
          0.0048,
          0.0044,
          0.0056,
          0.0056,
          0.0058,
          0.0053,
          0.006,
          0.0074,
          0.0054,
          0.0048,
          0.0066,
          0.005,
          0.0054,
          0.00521,
          0.00539
         ],
         "yaxis": "y"
        }
       ],
       "layout": {
        "legend": {
         "title": {
          "text": "variable"
         },
         "tracegroupgap": 0
        },
        "margin": {
         "t": 60
        },
        "showlegend": false,
        "template": {
         "data": {
          "bar": [
           {
            "error_x": {
             "color": "#2a3f5f"
            },
            "error_y": {
             "color": "#2a3f5f"
            },
            "marker": {
             "line": {
              "color": "#E5ECF6",
              "width": 0.5
             },
             "pattern": {
              "fillmode": "overlay",
              "size": 10,
              "solidity": 0.2
             }
            },
            "type": "bar"
           }
          ],
          "barpolar": [
           {
            "marker": {
             "line": {
              "color": "#E5ECF6",
              "width": 0.5
             },
             "pattern": {
              "fillmode": "overlay",
              "size": 10,
              "solidity": 0.2
             }
            },
            "type": "barpolar"
           }
          ],
          "carpet": [
           {
            "aaxis": {
             "endlinecolor": "#2a3f5f",
             "gridcolor": "white",
             "linecolor": "white",
             "minorgridcolor": "white",
             "startlinecolor": "#2a3f5f"
            },
            "baxis": {
             "endlinecolor": "#2a3f5f",
             "gridcolor": "white",
             "linecolor": "white",
             "minorgridcolor": "white",
             "startlinecolor": "#2a3f5f"
            },
            "type": "carpet"
           }
          ],
          "choropleth": [
           {
            "colorbar": {
             "outlinewidth": 0,
             "ticks": ""
            },
            "type": "choropleth"
           }
          ],
          "contour": [
           {
            "colorbar": {
             "outlinewidth": 0,
             "ticks": ""
            },
            "colorscale": [
             [
              0,
              "#0d0887"
             ],
             [
              0.1111111111111111,
              "#46039f"
             ],
             [
              0.2222222222222222,
              "#7201a8"
             ],
             [
              0.3333333333333333,
              "#9c179e"
             ],
             [
              0.4444444444444444,
              "#bd3786"
             ],
             [
              0.5555555555555556,
              "#d8576b"
             ],
             [
              0.6666666666666666,
              "#ed7953"
             ],
             [
              0.7777777777777778,
              "#fb9f3a"
             ],
             [
              0.8888888888888888,
              "#fdca26"
             ],
             [
              1,
              "#f0f921"
             ]
            ],
            "type": "contour"
           }
          ],
          "contourcarpet": [
           {
            "colorbar": {
             "outlinewidth": 0,
             "ticks": ""
            },
            "type": "contourcarpet"
           }
          ],
          "heatmap": [
           {
            "colorbar": {
             "outlinewidth": 0,
             "ticks": ""
            },
            "colorscale": [
             [
              0,
              "#0d0887"
             ],
             [
              0.1111111111111111,
              "#46039f"
             ],
             [
              0.2222222222222222,
              "#7201a8"
             ],
             [
              0.3333333333333333,
              "#9c179e"
             ],
             [
              0.4444444444444444,
              "#bd3786"
             ],
             [
              0.5555555555555556,
              "#d8576b"
             ],
             [
              0.6666666666666666,
              "#ed7953"
             ],
             [
              0.7777777777777778,
              "#fb9f3a"
             ],
             [
              0.8888888888888888,
              "#fdca26"
             ],
             [
              1,
              "#f0f921"
             ]
            ],
            "type": "heatmap"
           }
          ],
          "heatmapgl": [
           {
            "colorbar": {
             "outlinewidth": 0,
             "ticks": ""
            },
            "colorscale": [
             [
              0,
              "#0d0887"
             ],
             [
              0.1111111111111111,
              "#46039f"
             ],
             [
              0.2222222222222222,
              "#7201a8"
             ],
             [
              0.3333333333333333,
              "#9c179e"
             ],
             [
              0.4444444444444444,
              "#bd3786"
             ],
             [
              0.5555555555555556,
              "#d8576b"
             ],
             [
              0.6666666666666666,
              "#ed7953"
             ],
             [
              0.7777777777777778,
              "#fb9f3a"
             ],
             [
              0.8888888888888888,
              "#fdca26"
             ],
             [
              1,
              "#f0f921"
             ]
            ],
            "type": "heatmapgl"
           }
          ],
          "histogram": [
           {
            "marker": {
             "pattern": {
              "fillmode": "overlay",
              "size": 10,
              "solidity": 0.2
             }
            },
            "type": "histogram"
           }
          ],
          "histogram2d": [
           {
            "colorbar": {
             "outlinewidth": 0,
             "ticks": ""
            },
            "colorscale": [
             [
              0,
              "#0d0887"
             ],
             [
              0.1111111111111111,
              "#46039f"
             ],
             [
              0.2222222222222222,
              "#7201a8"
             ],
             [
              0.3333333333333333,
              "#9c179e"
             ],
             [
              0.4444444444444444,
              "#bd3786"
             ],
             [
              0.5555555555555556,
              "#d8576b"
             ],
             [
              0.6666666666666666,
              "#ed7953"
             ],
             [
              0.7777777777777778,
              "#fb9f3a"
             ],
             [
              0.8888888888888888,
              "#fdca26"
             ],
             [
              1,
              "#f0f921"
             ]
            ],
            "type": "histogram2d"
           }
          ],
          "histogram2dcontour": [
           {
            "colorbar": {
             "outlinewidth": 0,
             "ticks": ""
            },
            "colorscale": [
             [
              0,
              "#0d0887"
             ],
             [
              0.1111111111111111,
              "#46039f"
             ],
             [
              0.2222222222222222,
              "#7201a8"
             ],
             [
              0.3333333333333333,
              "#9c179e"
             ],
             [
              0.4444444444444444,
              "#bd3786"
             ],
             [
              0.5555555555555556,
              "#d8576b"
             ],
             [
              0.6666666666666666,
              "#ed7953"
             ],
             [
              0.7777777777777778,
              "#fb9f3a"
             ],
             [
              0.8888888888888888,
              "#fdca26"
             ],
             [
              1,
              "#f0f921"
             ]
            ],
            "type": "histogram2dcontour"
           }
          ],
          "mesh3d": [
           {
            "colorbar": {
             "outlinewidth": 0,
             "ticks": ""
            },
            "type": "mesh3d"
           }
          ],
          "parcoords": [
           {
            "line": {
             "colorbar": {
              "outlinewidth": 0,
              "ticks": ""
             }
            },
            "type": "parcoords"
           }
          ],
          "pie": [
           {
            "automargin": true,
            "type": "pie"
           }
          ],
          "scatter": [
           {
            "fillpattern": {
             "fillmode": "overlay",
             "size": 10,
             "solidity": 0.2
            },
            "type": "scatter"
           }
          ],
          "scatter3d": [
           {
            "line": {
             "colorbar": {
              "outlinewidth": 0,
              "ticks": ""
             }
            },
            "marker": {
             "colorbar": {
              "outlinewidth": 0,
              "ticks": ""
             }
            },
            "type": "scatter3d"
           }
          ],
          "scattercarpet": [
           {
            "marker": {
             "colorbar": {
              "outlinewidth": 0,
              "ticks": ""
             }
            },
            "type": "scattercarpet"
           }
          ],
          "scattergeo": [
           {
            "marker": {
             "colorbar": {
              "outlinewidth": 0,
              "ticks": ""
             }
            },
            "type": "scattergeo"
           }
          ],
          "scattergl": [
           {
            "marker": {
             "colorbar": {
              "outlinewidth": 0,
              "ticks": ""
             }
            },
            "type": "scattergl"
           }
          ],
          "scattermapbox": [
           {
            "marker": {
             "colorbar": {
              "outlinewidth": 0,
              "ticks": ""
             }
            },
            "type": "scattermapbox"
           }
          ],
          "scatterpolar": [
           {
            "marker": {
             "colorbar": {
              "outlinewidth": 0,
              "ticks": ""
             }
            },
            "type": "scatterpolar"
           }
          ],
          "scatterpolargl": [
           {
            "marker": {
             "colorbar": {
              "outlinewidth": 0,
              "ticks": ""
             }
            },
            "type": "scatterpolargl"
           }
          ],
          "scatterternary": [
           {
            "marker": {
             "colorbar": {
              "outlinewidth": 0,
              "ticks": ""
             }
            },
            "type": "scatterternary"
           }
          ],
          "surface": [
           {
            "colorbar": {
             "outlinewidth": 0,
             "ticks": ""
            },
            "colorscale": [
             [
              0,
              "#0d0887"
             ],
             [
              0.1111111111111111,
              "#46039f"
             ],
             [
              0.2222222222222222,
              "#7201a8"
             ],
             [
              0.3333333333333333,
              "#9c179e"
             ],
             [
              0.4444444444444444,
              "#bd3786"
             ],
             [
              0.5555555555555556,
              "#d8576b"
             ],
             [
              0.6666666666666666,
              "#ed7953"
             ],
             [
              0.7777777777777778,
              "#fb9f3a"
             ],
             [
              0.8888888888888888,
              "#fdca26"
             ],
             [
              1,
              "#f0f921"
             ]
            ],
            "type": "surface"
           }
          ],
          "table": [
           {
            "cells": {
             "fill": {
              "color": "#EBF0F8"
             },
             "line": {
              "color": "white"
             }
            },
            "header": {
             "fill": {
              "color": "#C8D4E3"
             },
             "line": {
              "color": "white"
             }
            },
            "type": "table"
           }
          ]
         },
         "layout": {
          "annotationdefaults": {
           "arrowcolor": "#2a3f5f",
           "arrowhead": 0,
           "arrowwidth": 1
          },
          "autotypenumbers": "strict",
          "coloraxis": {
           "colorbar": {
            "outlinewidth": 0,
            "ticks": ""
           }
          },
          "colorscale": {
           "diverging": [
            [
             0,
             "#8e0152"
            ],
            [
             0.1,
             "#c51b7d"
            ],
            [
             0.2,
             "#de77ae"
            ],
            [
             0.3,
             "#f1b6da"
            ],
            [
             0.4,
             "#fde0ef"
            ],
            [
             0.5,
             "#f7f7f7"
            ],
            [
             0.6,
             "#e6f5d0"
            ],
            [
             0.7,
             "#b8e186"
            ],
            [
             0.8,
             "#7fbc41"
            ],
            [
             0.9,
             "#4d9221"
            ],
            [
             1,
             "#276419"
            ]
           ],
           "sequential": [
            [
             0,
             "#0d0887"
            ],
            [
             0.1111111111111111,
             "#46039f"
            ],
            [
             0.2222222222222222,
             "#7201a8"
            ],
            [
             0.3333333333333333,
             "#9c179e"
            ],
            [
             0.4444444444444444,
             "#bd3786"
            ],
            [
             0.5555555555555556,
             "#d8576b"
            ],
            [
             0.6666666666666666,
             "#ed7953"
            ],
            [
             0.7777777777777778,
             "#fb9f3a"
            ],
            [
             0.8888888888888888,
             "#fdca26"
            ],
            [
             1,
             "#f0f921"
            ]
           ],
           "sequentialminus": [
            [
             0,
             "#0d0887"
            ],
            [
             0.1111111111111111,
             "#46039f"
            ],
            [
             0.2222222222222222,
             "#7201a8"
            ],
            [
             0.3333333333333333,
             "#9c179e"
            ],
            [
             0.4444444444444444,
             "#bd3786"
            ],
            [
             0.5555555555555556,
             "#d8576b"
            ],
            [
             0.6666666666666666,
             "#ed7953"
            ],
            [
             0.7777777777777778,
             "#fb9f3a"
            ],
            [
             0.8888888888888888,
             "#fdca26"
            ],
            [
             1,
             "#f0f921"
            ]
           ]
          },
          "colorway": [
           "#636efa",
           "#EF553B",
           "#00cc96",
           "#ab63fa",
           "#FFA15A",
           "#19d3f3",
           "#FF6692",
           "#B6E880",
           "#FF97FF",
           "#FECB52"
          ],
          "font": {
           "color": "#2a3f5f"
          },
          "geo": {
           "bgcolor": "white",
           "lakecolor": "white",
           "landcolor": "#E5ECF6",
           "showlakes": true,
           "showland": true,
           "subunitcolor": "white"
          },
          "hoverlabel": {
           "align": "left"
          },
          "hovermode": "closest",
          "mapbox": {
           "style": "light"
          },
          "paper_bgcolor": "white",
          "plot_bgcolor": "#E5ECF6",
          "polar": {
           "angularaxis": {
            "gridcolor": "white",
            "linecolor": "white",
            "ticks": ""
           },
           "bgcolor": "#E5ECF6",
           "radialaxis": {
            "gridcolor": "white",
            "linecolor": "white",
            "ticks": ""
           }
          },
          "scene": {
           "xaxis": {
            "backgroundcolor": "#E5ECF6",
            "gridcolor": "white",
            "gridwidth": 2,
            "linecolor": "white",
            "showbackground": true,
            "ticks": "",
            "zerolinecolor": "white"
           },
           "yaxis": {
            "backgroundcolor": "#E5ECF6",
            "gridcolor": "white",
            "gridwidth": 2,
            "linecolor": "white",
            "showbackground": true,
            "ticks": "",
            "zerolinecolor": "white"
           },
           "zaxis": {
            "backgroundcolor": "#E5ECF6",
            "gridcolor": "white",
            "gridwidth": 2,
            "linecolor": "white",
            "showbackground": true,
            "ticks": "",
            "zerolinecolor": "white"
           }
          },
          "shapedefaults": {
           "line": {
            "color": "#2a3f5f"
           }
          },
          "ternary": {
           "aaxis": {
            "gridcolor": "white",
            "linecolor": "white",
            "ticks": ""
           },
           "baxis": {
            "gridcolor": "white",
            "linecolor": "white",
            "ticks": ""
           },
           "bgcolor": "#E5ECF6",
           "caxis": {
            "gridcolor": "white",
            "linecolor": "white",
            "ticks": ""
           }
          },
          "title": {
           "x": 0.05
          },
          "xaxis": {
           "automargin": true,
           "gridcolor": "white",
           "linecolor": "white",
           "ticks": "",
           "title": {
            "standoff": 15
           },
           "zerolinecolor": "white",
           "zerolinewidth": 2
          },
          "yaxis": {
           "automargin": true,
           "gridcolor": "white",
           "linecolor": "white",
           "ticks": "",
           "title": {
            "standoff": 15
           },
           "zerolinecolor": "white",
           "zerolinewidth": 2
          }
         }
        },
        "title": {
         "text": "Crude death rate of Ca Mau",
         "x": 0.5
        },
        "xaxis": {
         "anchor": "y",
         "domain": [
          0,
          1
         ],
         "title": {
          "text": "Year"
         }
        },
        "yaxis": {
         "anchor": "x",
         "domain": [
          0,
          1
         ],
         "title": {
          "text": "Crude death rate"
         }
        }
       }
      }
     },
     "metadata": {},
     "output_type": "display_data"
    }
   ],
   "source": [
    "# Query and visualize the crude birth rate from database\n",
    "years, death_rates = queries.get_camau_death_rate()\n",
    "death_rates = [b / 1000.0 for b in death_rates]  # Birth rates are provided / 1000 population\n",
    "death_rates_series = pd.Series(death_rates, index=years)\n",
    "dr_fig= px.line(death_rates_series)\n",
    "dr_fig.update_traces(mode='markers+lines')\n",
    "dr_fig.update_layout(\n",
    "    title=\"Crude death rate of Ca Mau\",\n",
    "    title_x=0.5,\n",
    "    xaxis_title=\"Year\",\n",
    "    yaxis_title=\"Crude death rate\",\n",
    "    showlegend=False,\n",
    ")"
   ]
  },
  {
   "cell_type": "markdown",
   "metadata": {},
   "source": [
    "### Mixing matrix"
   ]
  },
  {
   "cell_type": "code",
   "execution_count": 10,
   "metadata": {},
   "outputs": [
    {
     "name": "stdout",
     "output_type": "stream",
     "text": [
      "Target region: CAMAU (VNM)\n",
      "Proxy country: VNM\n",
      "Always age-adjusted to target population\n"
     ]
    }
   ],
   "source": [
    "print(f\"Target region: {region.upper()} ({iso3})\")\n",
    "print(f\"Proxy country: {source_iso3}\")\n",
    "print(\"Always age-adjusted to target population\")"
   ]
  },
  {
   "cell_type": "code",
   "execution_count": 11,
   "metadata": {},
   "outputs": [],
   "source": [
    "update_params = {\n",
    "    'cdr_adjustment': 0.6003452159878636,\n",
    "    'contact_rate': 0.013414102898074345,\n",
    "    'gender.adjustments.infection.male': 2.6408657914674176,\n",
    "    'infect_death_rate_dict.smear_negative': 0.027588310343242016,\n",
    "    'infect_death_rate_dict.smear_positive': 0.364337776897486,\n",
    "    'progression_multiplier': 0.11085543897109104,\n",
    "    'rr_infection_latent': 0.20278196465900813,\n",
    "    'rr_infection_recovered': 0.21190687223342505,\n",
    "    'self_recovery_rate_dict.smear_positive': 0.20344728302826143,\n",
    "    'self_recovery_rate_dict.smear_negative': 0.22723824998716693,\n",
    "    'start_population_size': 267252.06827576435\n",
    "}\n",
    "params = baseline_params.update(update_params,calibration_format=True)\n",
    "model_0  =  p.build_model(params.to_dict())\n",
    "model_0.run(params.to_dict())\n",
    "derived_df_0 = model_0.get_derived_outputs_df()"
   ]
  },
  {
   "cell_type": "code",
   "execution_count": 12,
   "metadata": {},
   "outputs": [
    {
     "data": {
      "text/plain": [
       "[Stratification: age, Stratification: organ]"
      ]
     },
     "execution_count": 12,
     "metadata": {},
     "output_type": "execute_result"
    }
   ],
   "source": [
    "model_0._stratifications"
   ]
  },
  {
   "cell_type": "code",
   "execution_count": 13,
   "metadata": {},
   "outputs": [
    {
     "data": {
      "text/plain": [
       "[array([[ 398.43289672,  261.82020387,  643.68286218,  401.62199159,\n",
       "          356.13449939],\n",
       "        [ 165.78966683,  881.63067677,  532.84120554,  550.75979227,\n",
       "          285.62836724],\n",
       "        [ 231.75164317,  311.38983781,  915.52884268,  673.30894113,\n",
       "          664.14577066],\n",
       "        [ 141.94492435,  310.88835505,  786.13676958, 1134.31076003,\n",
       "          938.03403291],\n",
       "        [  67.30073632,  170.46333134,  647.30153978, 1018.81243422,\n",
       "         1763.57657715]])]"
      ]
     },
     "execution_count": 13,
     "metadata": {},
     "output_type": "execute_result"
    }
   ],
   "source": [
    "model_0._mixing_matrices"
   ]
  },
  {
   "cell_type": "code",
   "execution_count": 14,
   "metadata": {},
   "outputs": [
    {
     "data": {
      "application/vnd.plotly.v1+json": {
       "config": {
        "plotlyServerURL": "https://plot.ly"
       },
       "data": [
        {
         "hovertemplate": "index=%{x}<br>total_population=%{y}<extra></extra>",
         "legendgroup": "",
         "line": {
          "color": "#636efa",
          "dash": "solid"
         },
         "marker": {
          "symbol": "circle"
         },
         "mode": "lines",
         "name": "",
         "showlegend": false,
         "type": "scattergl",
         "x": [
          1900,
          1900.1,
          1900.2,
          1900.3,
          1900.4,
          1900.5,
          1900.6,
          1900.7,
          1900.8,
          1900.9,
          1901,
          1901.1,
          1901.2,
          1901.3,
          1901.4,
          1901.5,
          1901.6,
          1901.7,
          1901.8,
          1901.9,
          1902,
          1902.1,
          1902.2,
          1902.3,
          1902.4,
          1902.5,
          1902.6,
          1902.7,
          1902.8,
          1902.9,
          1903,
          1903.1,
          1903.2,
          1903.3,
          1903.4,
          1903.5,
          1903.6,
          1903.7,
          1903.8,
          1903.9,
          1904,
          1904.1,
          1904.2,
          1904.3,
          1904.4,
          1904.5,
          1904.6,
          1904.7,
          1904.8,
          1904.9,
          1905,
          1905.1,
          1905.2,
          1905.3,
          1905.4,
          1905.5,
          1905.6,
          1905.7,
          1905.8,
          1905.9,
          1906,
          1906.1,
          1906.2,
          1906.3,
          1906.4,
          1906.5,
          1906.6,
          1906.7,
          1906.8,
          1906.9,
          1907,
          1907.1,
          1907.2,
          1907.3,
          1907.4,
          1907.5,
          1907.6,
          1907.7,
          1907.8,
          1907.9,
          1908,
          1908.1,
          1908.2,
          1908.3,
          1908.4,
          1908.5,
          1908.6,
          1908.7,
          1908.8,
          1908.9,
          1909,
          1909.1,
          1909.2,
          1909.3,
          1909.4,
          1909.5,
          1909.6,
          1909.7,
          1909.8,
          1909.9,
          1910,
          1910.1,
          1910.2,
          1910.3,
          1910.4,
          1910.5,
          1910.6,
          1910.7,
          1910.8,
          1910.9,
          1911,
          1911.1,
          1911.2,
          1911.3,
          1911.4,
          1911.5,
          1911.6,
          1911.7,
          1911.8,
          1911.9,
          1912,
          1912.1,
          1912.2,
          1912.3,
          1912.4,
          1912.5,
          1912.6,
          1912.7,
          1912.8,
          1912.9,
          1913,
          1913.1,
          1913.2,
          1913.3,
          1913.4,
          1913.5,
          1913.6,
          1913.7,
          1913.8,
          1913.9,
          1914,
          1914.1,
          1914.2,
          1914.3,
          1914.4,
          1914.5,
          1914.6,
          1914.7,
          1914.8,
          1914.9,
          1915,
          1915.1,
          1915.2,
          1915.3,
          1915.4,
          1915.5,
          1915.6,
          1915.7,
          1915.8,
          1915.9,
          1916,
          1916.1,
          1916.2,
          1916.3,
          1916.4,
          1916.5,
          1916.6,
          1916.7,
          1916.8,
          1916.9,
          1917,
          1917.1,
          1917.2,
          1917.3,
          1917.4,
          1917.5,
          1917.6,
          1917.7,
          1917.8,
          1917.9,
          1918,
          1918.1,
          1918.2,
          1918.3,
          1918.4,
          1918.5,
          1918.6,
          1918.7,
          1918.8,
          1918.9,
          1919,
          1919.1,
          1919.2,
          1919.3,
          1919.4,
          1919.5,
          1919.6,
          1919.7,
          1919.8,
          1919.9,
          1920,
          1920.1,
          1920.2,
          1920.3,
          1920.4,
          1920.5,
          1920.6,
          1920.7,
          1920.8,
          1920.9,
          1921,
          1921.1,
          1921.2,
          1921.3,
          1921.4,
          1921.5,
          1921.6,
          1921.7,
          1921.8,
          1921.9,
          1922,
          1922.1,
          1922.2,
          1922.3,
          1922.4,
          1922.5,
          1922.6,
          1922.7,
          1922.8,
          1922.9,
          1923,
          1923.1,
          1923.2,
          1923.3,
          1923.4,
          1923.5,
          1923.6,
          1923.7,
          1923.8,
          1923.9,
          1924,
          1924.1,
          1924.2,
          1924.3,
          1924.4,
          1924.5,
          1924.6,
          1924.7,
          1924.8,
          1924.9,
          1925,
          1925.1,
          1925.2,
          1925.3,
          1925.4,
          1925.5,
          1925.6,
          1925.7,
          1925.8,
          1925.9,
          1926,
          1926.1,
          1926.2,
          1926.3,
          1926.4,
          1926.5,
          1926.6,
          1926.7,
          1926.8,
          1926.9,
          1927,
          1927.1,
          1927.2,
          1927.3,
          1927.4,
          1927.5,
          1927.6,
          1927.7,
          1927.8,
          1927.9,
          1928,
          1928.1,
          1928.2,
          1928.3,
          1928.4,
          1928.5,
          1928.6,
          1928.7,
          1928.8,
          1928.9,
          1929,
          1929.1,
          1929.2,
          1929.3,
          1929.4,
          1929.5,
          1929.6,
          1929.7,
          1929.8,
          1929.9,
          1930,
          1930.1,
          1930.2,
          1930.3,
          1930.4,
          1930.5,
          1930.6,
          1930.7,
          1930.8,
          1930.9,
          1931,
          1931.1,
          1931.2,
          1931.3,
          1931.4,
          1931.5,
          1931.6,
          1931.7,
          1931.8,
          1931.9,
          1932,
          1932.1,
          1932.2,
          1932.3,
          1932.4,
          1932.5,
          1932.6,
          1932.7,
          1932.8,
          1932.9,
          1933,
          1933.1,
          1933.2,
          1933.3,
          1933.4,
          1933.5,
          1933.6,
          1933.7,
          1933.8,
          1933.9,
          1934,
          1934.1,
          1934.2,
          1934.3,
          1934.4,
          1934.5,
          1934.6,
          1934.7,
          1934.8,
          1934.9,
          1935,
          1935.1,
          1935.2,
          1935.3,
          1935.4,
          1935.5,
          1935.6,
          1935.7,
          1935.8,
          1935.9,
          1936,
          1936.1,
          1936.2,
          1936.3,
          1936.4,
          1936.5,
          1936.6,
          1936.7,
          1936.8,
          1936.9,
          1937,
          1937.1,
          1937.2,
          1937.3,
          1937.4,
          1937.5,
          1937.6,
          1937.7,
          1937.8,
          1937.9,
          1938,
          1938.1,
          1938.2,
          1938.3,
          1938.4,
          1938.5,
          1938.6,
          1938.7,
          1938.8,
          1938.9,
          1939,
          1939.1,
          1939.2,
          1939.3,
          1939.4,
          1939.5,
          1939.6,
          1939.7,
          1939.8,
          1939.9,
          1940,
          1940.1,
          1940.2,
          1940.3,
          1940.4,
          1940.5,
          1940.6,
          1940.7,
          1940.8,
          1940.9,
          1941,
          1941.1,
          1941.2,
          1941.3,
          1941.4,
          1941.5,
          1941.6,
          1941.7,
          1941.8,
          1941.9,
          1942,
          1942.1,
          1942.2,
          1942.3,
          1942.4,
          1942.5,
          1942.6,
          1942.7,
          1942.8,
          1942.9,
          1943,
          1943.1,
          1943.2,
          1943.3,
          1943.4,
          1943.5,
          1943.6,
          1943.7,
          1943.8,
          1943.9,
          1944,
          1944.1,
          1944.2,
          1944.3,
          1944.4,
          1944.5,
          1944.6,
          1944.7,
          1944.8,
          1944.9,
          1945,
          1945.1,
          1945.2,
          1945.3,
          1945.4,
          1945.5,
          1945.6,
          1945.7,
          1945.8,
          1945.9,
          1946,
          1946.1,
          1946.2,
          1946.3,
          1946.4,
          1946.5,
          1946.6,
          1946.7,
          1946.8,
          1946.9,
          1947,
          1947.1,
          1947.2,
          1947.3,
          1947.4,
          1947.5,
          1947.6,
          1947.7,
          1947.8,
          1947.9,
          1948,
          1948.1,
          1948.2,
          1948.3,
          1948.4,
          1948.5,
          1948.6,
          1948.7,
          1948.8,
          1948.9,
          1949,
          1949.1,
          1949.2,
          1949.3,
          1949.4,
          1949.5,
          1949.6,
          1949.7,
          1949.8,
          1949.9,
          1950,
          1950.1,
          1950.2,
          1950.3,
          1950.4,
          1950.5,
          1950.6,
          1950.7,
          1950.8,
          1950.9,
          1951,
          1951.1,
          1951.2,
          1951.3,
          1951.4,
          1951.5,
          1951.6,
          1951.7,
          1951.8,
          1951.9,
          1952,
          1952.1,
          1952.2,
          1952.3,
          1952.4,
          1952.5,
          1952.6,
          1952.7,
          1952.8,
          1952.9,
          1953,
          1953.1,
          1953.2,
          1953.3,
          1953.4,
          1953.5,
          1953.6,
          1953.7,
          1953.8,
          1953.9,
          1954,
          1954.1,
          1954.2,
          1954.3,
          1954.4,
          1954.5,
          1954.6,
          1954.7,
          1954.8,
          1954.9,
          1955,
          1955.1,
          1955.2,
          1955.3,
          1955.4,
          1955.5,
          1955.6,
          1955.7,
          1955.8,
          1955.9,
          1956,
          1956.1,
          1956.2,
          1956.3,
          1956.4,
          1956.5,
          1956.6,
          1956.7,
          1956.8,
          1956.9,
          1957,
          1957.1,
          1957.2,
          1957.3,
          1957.4,
          1957.5,
          1957.6,
          1957.7,
          1957.8,
          1957.9,
          1958,
          1958.1,
          1958.2,
          1958.3,
          1958.4,
          1958.5,
          1958.6,
          1958.7,
          1958.8,
          1958.9,
          1959,
          1959.1,
          1959.2,
          1959.3,
          1959.4,
          1959.5,
          1959.6,
          1959.7,
          1959.8,
          1959.9,
          1960,
          1960.1,
          1960.2,
          1960.3,
          1960.4,
          1960.5,
          1960.6,
          1960.7,
          1960.8,
          1960.9,
          1961,
          1961.1,
          1961.2,
          1961.3,
          1961.4,
          1961.5,
          1961.6,
          1961.7,
          1961.8,
          1961.9,
          1962,
          1962.1,
          1962.2,
          1962.3,
          1962.4,
          1962.5,
          1962.6,
          1962.7,
          1962.8,
          1962.9,
          1963,
          1963.1,
          1963.2,
          1963.3,
          1963.4,
          1963.5,
          1963.6,
          1963.7,
          1963.8,
          1963.9,
          1964,
          1964.1,
          1964.2,
          1964.3,
          1964.4,
          1964.5,
          1964.6,
          1964.7,
          1964.8,
          1964.9,
          1965,
          1965.1,
          1965.2,
          1965.3,
          1965.4,
          1965.5,
          1965.6,
          1965.7,
          1965.8,
          1965.9,
          1966,
          1966.1,
          1966.2,
          1966.3,
          1966.4,
          1966.5,
          1966.6,
          1966.7,
          1966.8,
          1966.9,
          1967,
          1967.1,
          1967.2,
          1967.3,
          1967.4,
          1967.5,
          1967.6,
          1967.7,
          1967.8,
          1967.9,
          1968,
          1968.1,
          1968.2,
          1968.3,
          1968.4,
          1968.5,
          1968.6,
          1968.7,
          1968.8,
          1968.9,
          1969,
          1969.1,
          1969.2,
          1969.3,
          1969.4,
          1969.5,
          1969.6,
          1969.7,
          1969.8,
          1969.9,
          1970,
          1970.1,
          1970.2,
          1970.3,
          1970.4,
          1970.5,
          1970.6,
          1970.7,
          1970.8,
          1970.9,
          1971,
          1971.1,
          1971.2,
          1971.3,
          1971.4,
          1971.5,
          1971.6,
          1971.7,
          1971.8,
          1971.9,
          1972,
          1972.1,
          1972.2,
          1972.3,
          1972.4,
          1972.5,
          1972.6,
          1972.7,
          1972.8,
          1972.9,
          1973,
          1973.1,
          1973.2,
          1973.3,
          1973.4,
          1973.5,
          1973.6,
          1973.7,
          1973.8,
          1973.9,
          1974,
          1974.1,
          1974.2,
          1974.3,
          1974.4,
          1974.5,
          1974.6,
          1974.7,
          1974.8,
          1974.9,
          1975,
          1975.1,
          1975.2,
          1975.3,
          1975.4,
          1975.5,
          1975.6,
          1975.7,
          1975.8,
          1975.9,
          1976,
          1976.1,
          1976.2,
          1976.3,
          1976.4,
          1976.5,
          1976.6,
          1976.7,
          1976.8,
          1976.9,
          1977,
          1977.1,
          1977.2,
          1977.3,
          1977.4,
          1977.5,
          1977.6,
          1977.7,
          1977.8,
          1977.9,
          1978,
          1978.1,
          1978.2,
          1978.3,
          1978.4,
          1978.5,
          1978.6,
          1978.7,
          1978.8,
          1978.9,
          1979,
          1979.1,
          1979.2,
          1979.3,
          1979.4,
          1979.5,
          1979.6,
          1979.7,
          1979.8,
          1979.9,
          1980,
          1980.1,
          1980.2,
          1980.3,
          1980.4,
          1980.5,
          1980.6,
          1980.7,
          1980.8,
          1980.9,
          1981,
          1981.1,
          1981.2,
          1981.3,
          1981.4,
          1981.5,
          1981.6,
          1981.7,
          1981.8,
          1981.9,
          1982,
          1982.1,
          1982.2,
          1982.3,
          1982.4,
          1982.5,
          1982.6,
          1982.7,
          1982.8,
          1982.9,
          1983,
          1983.1,
          1983.2,
          1983.3,
          1983.4,
          1983.5,
          1983.6,
          1983.7,
          1983.8,
          1983.9,
          1984,
          1984.1,
          1984.2,
          1984.3,
          1984.4,
          1984.5,
          1984.6,
          1984.7,
          1984.8,
          1984.9,
          1985,
          1985.1,
          1985.2,
          1985.3,
          1985.4,
          1985.5,
          1985.6,
          1985.7,
          1985.8,
          1985.9,
          1986,
          1986.1,
          1986.2,
          1986.3,
          1986.4,
          1986.5,
          1986.6,
          1986.7,
          1986.8,
          1986.9,
          1987,
          1987.1,
          1987.2,
          1987.3,
          1987.4,
          1987.5,
          1987.6,
          1987.7,
          1987.8,
          1987.9,
          1988,
          1988.1,
          1988.2,
          1988.3,
          1988.4,
          1988.5,
          1988.6,
          1988.7,
          1988.8,
          1988.9,
          1989,
          1989.1,
          1989.2,
          1989.3,
          1989.4,
          1989.5,
          1989.6,
          1989.7,
          1989.8,
          1989.9,
          1990,
          1990.1,
          1990.2,
          1990.3,
          1990.4,
          1990.5,
          1990.6,
          1990.7,
          1990.8,
          1990.9,
          1991,
          1991.1,
          1991.2,
          1991.3,
          1991.4,
          1991.5,
          1991.6,
          1991.7,
          1991.8,
          1991.9,
          1992,
          1992.1,
          1992.2,
          1992.3,
          1992.4,
          1992.5,
          1992.6,
          1992.7,
          1992.8,
          1992.9,
          1993,
          1993.1,
          1993.2,
          1993.3,
          1993.4,
          1993.5,
          1993.6,
          1993.7,
          1993.8,
          1993.9,
          1994,
          1994.1,
          1994.2,
          1994.3,
          1994.4,
          1994.5,
          1994.6,
          1994.7,
          1994.8,
          1994.9,
          1995,
          1995.1,
          1995.2,
          1995.3,
          1995.4,
          1995.5,
          1995.6,
          1995.7,
          1995.8,
          1995.9,
          1996,
          1996.1,
          1996.2,
          1996.3,
          1996.4,
          1996.5,
          1996.6,
          1996.7,
          1996.8,
          1996.9,
          1997,
          1997.1,
          1997.2,
          1997.3,
          1997.4,
          1997.5,
          1997.6,
          1997.7,
          1997.8,
          1997.9,
          1998,
          1998.1,
          1998.2,
          1998.3,
          1998.4,
          1998.5,
          1998.6,
          1998.7,
          1998.8,
          1998.9,
          1999,
          1999.1,
          1999.2,
          1999.3,
          1999.4,
          1999.5,
          1999.6,
          1999.7,
          1999.8,
          1999.9,
          2000,
          2000.1,
          2000.2,
          2000.3,
          2000.4,
          2000.5,
          2000.6,
          2000.7,
          2000.8,
          2000.9,
          2001,
          2001.1,
          2001.2,
          2001.3,
          2001.4,
          2001.5,
          2001.6,
          2001.7,
          2001.8,
          2001.9,
          2002,
          2002.1,
          2002.2,
          2002.3,
          2002.4,
          2002.5,
          2002.6,
          2002.7,
          2002.8,
          2002.9,
          2003,
          2003.1,
          2003.2,
          2003.3,
          2003.4,
          2003.5,
          2003.6,
          2003.7,
          2003.8,
          2003.9,
          2004,
          2004.1,
          2004.2,
          2004.3,
          2004.4,
          2004.5,
          2004.6,
          2004.7,
          2004.8,
          2004.9,
          2005,
          2005.1,
          2005.2,
          2005.3,
          2005.4,
          2005.5,
          2005.6,
          2005.7,
          2005.8,
          2005.9,
          2006,
          2006.1,
          2006.2,
          2006.3,
          2006.4,
          2006.5,
          2006.6,
          2006.7,
          2006.8,
          2006.9,
          2007,
          2007.1,
          2007.2,
          2007.3,
          2007.4,
          2007.5,
          2007.6,
          2007.7,
          2007.8,
          2007.9,
          2008,
          2008.1,
          2008.2,
          2008.3,
          2008.4,
          2008.5,
          2008.6,
          2008.7,
          2008.8,
          2008.9,
          2009,
          2009.1,
          2009.2,
          2009.3,
          2009.4,
          2009.5,
          2009.6,
          2009.7,
          2009.8,
          2009.9,
          2010,
          2010.1,
          2010.2,
          2010.3,
          2010.4,
          2010.5,
          2010.6,
          2010.7,
          2010.8,
          2010.9,
          2011,
          2011.1,
          2011.2,
          2011.3,
          2011.4,
          2011.5,
          2011.6,
          2011.7,
          2011.8,
          2011.9,
          2012,
          2012.1,
          2012.2,
          2012.3,
          2012.4,
          2012.5,
          2012.6,
          2012.7,
          2012.8,
          2012.9,
          2013,
          2013.1,
          2013.2,
          2013.3,
          2013.4,
          2013.5,
          2013.6,
          2013.7,
          2013.8,
          2013.9,
          2014,
          2014.1,
          2014.2,
          2014.3,
          2014.4,
          2014.5,
          2014.6,
          2014.7,
          2014.8,
          2014.9,
          2015,
          2015.1,
          2015.2,
          2015.3,
          2015.4,
          2015.5,
          2015.6,
          2015.7,
          2015.8,
          2015.9,
          2016,
          2016.1,
          2016.2,
          2016.3,
          2016.4,
          2016.5,
          2016.6,
          2016.7,
          2016.8,
          2016.9,
          2017,
          2017.1,
          2017.2,
          2017.3,
          2017.4,
          2017.5,
          2017.6,
          2017.7,
          2017.8,
          2017.9,
          2018,
          2018.1,
          2018.2,
          2018.3,
          2018.4,
          2018.5,
          2018.6,
          2018.7,
          2018.8,
          2018.9,
          2019,
          2019.1,
          2019.2,
          2019.3,
          2019.4,
          2019.5,
          2019.6,
          2019.7,
          2019.8,
          2019.9,
          2020
         ],
         "xaxis": "x",
         "y": [
          267252.06827576435,
          267202.71625914954,
          267159.84710381116,
          267123.3915279953,
          267093.28159403405,
          267069.4504303164,
          267051.8322115367,
          267040.3620332562,
          267034.97594933247,
          267035.6108921855,
          267042.204660025,
          267054.6959382171,
          267073.0242397928,
          267097.12989069213,
          267126.95403344464,
          267162.43864167196,
          267203.52645391866,
          267250.16096162307,
          267302.28640866565,
          267359.84779434185,
          267422.7908816877,
          267491.0621313193,
          267564.60868849984,
          267643.3783826097,
          267727.3197420654,
          267816.3820104173,
          267910.5150620462,
          268009.6693887045,
          268113.7961001503,
          268222.84697066696,
          268336.77442538145,
          268455.5314571313,
          268579.07162497385,
          268707.3490789855,
          268840.31859167066,
          268977.93547798897,
          269120.1555853438,
          269266.93529691955,
          269418.2315694177,
          269574.00189570745,
          269734.2042605991,
          269898.79713986156,
          270067.73950787476,
          270240.99088444666,
          270418.5112703593,
          270600.26110776496,
          270786.2012799968,
          270976.2931373575,
          271170.4985538659,
          271368.77982116805,
          271571.0996290511,
          271777.4210706989,
          271987.7077179341,
          272201.9235758115,
          272420.0330182026,
          272642.000788399,
          272867.7920240233,
          273097.3723147974,
          273330.70760764106,
          273567.7641833334,
          273808.5086567953,
          274052.9080265929,
          274300.92971195903,
          274552.5414355002,
          274807.71120769304,
          275066.4073284785,
          275328.59847941564,
          275594.25374232064,
          275863.34244368086,
          276135.834142377,
          276411.69863615755,
          276690.9061274003,
          276973.42719165527,
          277259.23258062475,
          277548.29321461666,
          277840.58021026326,
          278136.0651541135,
          278434.71988506994,
          278736.516362598,
          279041.4266796809,
          279349.4232358919,
          279660.4787635727,
          279974.56611066713,
          280291.65825004375,
          280611.7283143859,
          280934.74976766645,
          281260.6962366789,
          281589.54143151955,
          281921.25914618233,
          282255.82330017455,
          282593.20816371514,
          282933.38812731364,
          283276.33756463736,
          283622.03083208477,
          283970.44233664306,
          284321.54693420074,
          284675.3195274285,
          285031.73488143313,
          285390.76763036,
          285752.392589772,
          286116.5849269541,
          286483.31964164536,
          286852.5715530842,
          287224.3153296503,
          287598.5259504122,
          287975.17852217634,
          288354.2478723391,
          288735.7085429054,
          289119.5348391457,
          289505.7014765181,
          289894.1832757798,
          290284.95457381225,
          290677.9892098386,
          291073.26058590197,
          291470.7427212634,
          291870.40990955435,
          292272.23562882346,
          292676.19250536815,
          293082.25246057194,
          293490.3885857254,
          293900.5738744548,
          294312.7801917673,
          294726.9783694359,
          295143.1393313967,
          295561.2346443603,
          295981.2348483295,
          296403.10949812434,
          296826.827350139,
          297252.3578185249,
          297679.66999543365,
          298108.73176007863,
          298539.5097755421,
          298971.969726503,
          299406.07856118405,
          299841.80303005036,
          300279.10796860093,
          300717.95627429016,
          301158.3093511192,
          301600.1312358665,
          302043.38536432583,
          302488.03254343703,
          302934.03110009874,
          303381.33972636977,
          303829.91895878816,
          304279.7269149569,
          304730.7192229719,
          305182.8495045057,
          305636.0738449441,
          306090.3482434789,
          306545.6256315149,
          307001.8558498474,
          307458.9869716031,
          307916.97214779747,
          308375.76354078756,
          308835.3088517089,
          309295.5513174534,
          309756.4338181218,
          310217.90735584375,
          310679.9187035057,
          311142.40955741465,
          311605.3175929596,
          312068.58741208917,
          312532.1646839208,
          312995.98999650293,
          313459.99904005375,
          313924.12873406266,
          314388.3249964887,
          314852.52968524874,
          315316.67877150036,
          315780.7031355472,
          316244.5438360645,
          316708.14863848186,
          317171.45791848784,
          317634.4043635479,
          318096.91823195555,
          318558.9509835938,
          319020.45327794575,
          319481.3657883154,
          319941.6194057491,
          320401.15672668046,
          320859.93945633934,
          321317.9189712585,
          321775.0376319177,
          322231.2395335804,
          322686.49207375903,
          323140.7578779502,
          323593.9920044616,
          324046.1457179419,
          324497.19361151155,
          324947.115566599,
          325395.8826140339,
          325843.457167807,
          326289.81452177494,
          326734.9563517015,
          327178.8756521986,
          327621.5541366384,
          328062.96776244574,
          328503.12930407416,
          328942.0587781228,
          329379.7620918323,
          329816.2314861492,
          330251.4727660484,
          330685.53095202975,
          331118.438655465,
          331550.2128416026,
          331980.8597564392,
          332410.4277789418,
          332838.97709699336,
          333266.5499398199,
          333693.1715507215,
          334118.87529808475,
          334543.7405422117,
          334967.83277507423,
          335391.1998652947,
          335813.8753060513,
          336235.9299261561,
          336657.4497302063,
          337078.5017338766,
          337499.1355000383,
          337919.4015739256,
          338339.39357080724,
          338759.1927825693,
          339178.8636945466,
          339598.4557581117,
          340018.04446149984,
          340437.72089185676,
          340857.55912742286,
          341277.61810161197,
          341697.9526423852,
          342118.6502113774,
          342539.78946928144,
          342961.43526948325,
          343383.639636476,
          343806.46820110094,
          344230.00063062826,
          344654.30345087376,
          345079.43138682586,
          345505.4312405299,
          345932.37098673393,
          346360.31803493446,
          346789.32768159243,
          347219.4437751411,
          347650.70687429537,
          348083.1804935143,
          348516.9212436422,
          348951.9731786581,
          349388.36799565156,
          349826.13940680795,
          350265.34501566185,
          350706.03121091647,
          351148.23038956075,
          351591.96111477143,
          352037.25229022856,
          352484.15542359336,
          352932.70706484525,
          353382.92761498224,
          353834.8228958446,
          354288.424139879,
          354743.77046021115,
          355200.88337620575,
          355659.7709692611,
          356120.4482283781,
          356582.9434774356,
          357047.27419759135,
          357513.4500527769,
          357981.477565603,
          358451.37569405336,
          358923.1598078171,
          359396.8387968927,
          359872.4151949421,
          360349.8907607666,
          360829.2819814886,
          361310.6016580941,
          361793.8533926659,
          362279.03159013094,
          362766.12955350615,
          363255.1644752018,
          363746.1443149552,
          364239.06598559767,
          364733.9185713901,
          365230.70790730015,
          365729.4399415113,
          366230.11270061915,
          366732.7174141958,
          367237.2491349914,
          367743.7134725618,
          368252.1102778338,
          368762.4329446705,
          369274.66873439704,
          369788.81323485915,
          370304.8732736386,
          370822.84766160295,
          371342.72605729813,
          371864.48976810346,
          372388.1369022279,
          372913.6735793478,
          373441.0942753796,
          373970.3840847218,
          374501.5319064547,
          375034.54081856913,
          375569.4063913684,
          376106.1179988357,
          376644.66140994645,
          377185.0349012304,
          377727.2370115758,
          378271.26026920014,
          378817.0913801941,
          379364.716480208,
          379914.1373617311,
          380465.35315662227,
          381018.35505033616,
          381573.12630648405,
          382129.6530881545,
          382687.94088197843,
          383247.9860821268,
          383809.7769440834,
          384373.2969296896,
          384938.54511321755,
          385505.5194127304,
          386074.2115251914,
          386644.6076901931,
          387216.69957005506,
          387790.48730896064,
          388365.9659557055,
          388943.1252413274,
          389521.9504597851,
          390102.43740016816,
          390684.58767890284,
          391268.3961277982,
          391853.850671238,
          392440.9348221372,
          393029.64926802984,
          393619.994613942,
          394211.96354309126,
          394805.5419338461,
          395400.72242490656,
          395997.5063664329,
          396595.889063459,
          397195.8607404278,
          397797.4095487655,
          398400.53510200704,
          399005.2360031947,
          399611.5058989082,
          400219.3336164787,
          400828.7094840477,
          401439.63608541345,
          402052.1122155972,
          402666.13064285315,
          403281.6781481022,
          403898.7478781991,
          404517.3440668853,
          405137.46380616236,
          405759.0981065848,
          406382.23533061903,
          407006.87681514473,
          407633.0218821562,
          408260.6649215261,
          408889.79586012696,
          409520.4096147367,
          410152.5080057709,
          410786.08850670676,
          411421.14421064116,
          412057.6647022437,
          412695.6486298449,
          413335.098531002,
          413976.011565956,
          414618.37957334716,
          415262.19101907057,
          415907.44774251676,
          416554.1538074367,
          417202.30616832623,
          417851.89481502795,
          418502.9081455825,
          419155.35256781173,
          419809.2289989594,
          420464.53186211764,
          421121.2513018247,
          421779.3878698769,
          422438.94227188185,
          423099.91107920196,
          423762.28752437467,
          424426.06816675403,
          425091.25452483154,
          425757.84520496,
          426425.8357895154,
          427095.21912801353,
          427765.9934078067,
          428438.1621068046,
          429111.7246453714,
          429786.6759335511,
          430463.00664039596,
          431140.7159488625,
          431819.80866320047,
          432500.2833213862,
          433182.133475918,
          433865.35354678874,
          434549.9470321778,
          435235.9136412831,
          435923.24979737576,
          436611.94944739726,
          437302.0127508328,
          437993.4416036745,
          438686.2346917185,
          439380.3876155095,
          440075.8942122348,
          440772.75645788485,
          441470.97761841107,
          442170.55656241137,
          442871.4877653188,
          443573.76350328606,
          444277.38816858444,
          444982.3646908195,
          445688.69077369757,
          446396.35974464746,
          447105.37067295774,
          447815.72682498454,
          448527.4275738897,
          449240.46916396864,
          449954.84714684007,
          450670.56416613626,
          451387.621618221,
          452106.01793312386,
          452825.74861874664,
          453546.8098381643,
          454269.205856668,
          454992.93890107924,
          455718.0071239779,
          456444.40460483823,
          457172.1270847578,
          457901.18080010614,
          458631.5671492904,
          459363.28311410925,
          460096.322718389,
          460830.68838334,
          461566.382613236,
          462303.40443857585,
          463041.7498568811,
          463781.4166136206,
          464522.40822712396,
          465264.7257143284,
          466008.3672290027,
          466753.3281510469,
          467499.60735355766,
          468247.20961357345,
          468996.13639458764,
          469746.385240421,
          470497.94990788907,
          471250.8302365513,
          472005.0318601313,
          472760.5553078264,
          473517.39688973146,
          474275.5520593516,
          475035.0250651875,
          475795.8176685955,
          476557.9285024746,
          477321.3534049977,
          478086.09231244243,
          478852.1487735946,
          479619.5234241966,
          480388.21405120374,
          481158.21609706,
          481929.53088841547,
          482702.16294616094,
          483476.1130279775,
          484251.378044503,
          485027.9519442588,
          485805.83776749944,
          486585.0400991909,
          487365.5587002832,
          488147.38917119236,
          488930.5290215046,
          489714.9829875645,
          490500.7522788974,
          491287.8350577774,
          492076.2271728325,
          492865.93036177725,
          493656.94790657226,
          494449.28003067255,
          495242.92405213206,
          496037.8757068546,
          496834.13824111695,
          497631.71565707336,
          498430.6080378742,
          499230.8115875843,
          500032.3209341521,
          500835.1413010376,
          501639.2762340923,
          502444.7247295053,
          503251.4817407484,
          504059.5469922461,
          504868.9249860819,
          505679.61645899946,
          506491.61900860025,
          507304.92871818447,
          508119.54874610616,
          508935.48195406276,
          509752.72808553523,
          510571.283874993,
          511391.1456897445,
          512212.3181726468,
          513034.8046933603,
          513858.60462116613,
          514683.7133479615,
          515510.1267621246,
          516337.8513534716,
          517166.88971256587,
          517997.24002145755,
          518828.89680309966,
          519661.8617877047,
          520496.13904215075,
          521331.72878319,
          522168.6279420317,
          523006.83313550043,
          523846.34854960034,
          524687.1765861419,
          525529.3164446659,
          526372.7641574786,
          527217.5171619619,
          528063.5809377292,
          528910.9582342278,
          529759.6476538738,
          530609.643653226,
          531460.9438323264,
          532313.5545282019,
          533167.4791889891,
          534022.7193875256,
          534879.2801970697,
          535737.1933997581,
          536596.4815871951,
          537457.169568236,
          538319.2872089127,
          539182.8790811365,
          540048.0090596597,
          540914.7661435171,
          541783.273771704,
          542653.6907289553,
          543526.2446664376,
          544401.2267878987,
          545279.0603001537,
          546160.3265636878,
          547045.7669545917,
          547936.3736748579,
          548833.4533700711,
          549738.6967281835,
          550654.2093308053,
          551582.4789667355,
          552526.5031743809,
          553489.4967370231,
          554474.436602956,
          555484.0467530137,
          556520.3482901348,
          557583.9749003801,
          558674.4479874232,
          559790.2081202317,
          560928.659526788,
          562086.795875417,
          563261.5267672304,
          564450.0315647899,
          565649.8328839069,
          566858.801285329,
          568075.2595248006,
          569297.9311664585,
          570525.7901365006,
          571758.053836613,
          572994.1695965246,
          574233.7263078474,
          575476.4302623669,
          576722.0518306238,
          577970.4199242782,
          579221.4201726376,
          580474.9806736927,
          581731.0508514352,
          582989.5899618116,
          584250.567384998,
          585513.972057753,
          586779.792267506,
          588048.016500387,
          589318.6370376659,
          590591.6543327088,
          591867.0843188942,
          593144.9402459707,
          594425.2313460382,
          595707.9629043344,
          596993.1399924775,
          598280.7774010749,
          599570.8868491307,
          600863.4733169494,
          602158.535047615,
          603456.0678873361,
          604756.0802713261,
          606058.5725668151,
          607363.5336528034,
          608670.941790672,
          609980.7780387803,
          611293.0198144094,
          612607.6333555522,
          613924.5750265262,
          615243.7968242714,
          616565.2623328199,
          617888.9432610273,
          619214.8271003714,
          620542.917443226,
          621873.2366866107,
          623205.8450701722,
          624540.8148024532,
          625878.2128630863,
          627218.1009036876,
          628560.5375137911,
          629905.5875850318,
          631253.3038523785,
          632603.7235875112,
          633956.8696920722,
          635312.7686463513,
          636671.4475214893,
          638032.9240847866,
          639397.2083545583,
          640764.3068909735,
          642134.2358147193,
          643507.0079798017,
          644882.6308656769,
          646261.1066457401,
          647642.4370025356,
          649026.6368675778,
          650413.7183449427,
          651803.6860985658,
          653196.5373600407,
          654592.2642446547,
          655990.870203468,
          657392.3576781143,
          658796.7175935524,
          660203.9300493654,
          661613.9812696899,
          663026.8552104286,
          664442.5150566023,
          665860.9031698616,
          667281.9400740705,
          668705.5357270178,
          670131.5560059999,
          671559.7977135166,
          672989.9884043395,
          674421.7688098415,
          675854.6817081715,
          677288.1125395718,
          678721.2455507428,
          680153.0637211269,
          681582.3690785337,
          683007.7322229897,
          684427.6273782848,
          685840.6128263961,
          687245.3440820184,
          688640.8725783195,
          690026.8708177248,
          691403.5503546649,
          692771.6662163691,
          694132.4405488113,
          695487.3141204866,
          696837.7650897634,
          698185.1263981216,
          699530.5818157352,
          700875.1525440179,
          702219.6378120655,
          703564.671864277,
          704910.7522830922,
          706258.240017872,
          707607.3909707956,
          708958.4292452784,
          710311.5136766062,
          711666.7564799685,
          713024.2285078561,
          714383.9985363361,
          715746.1194139225,
          717110.626172864,
          718477.5378764686,
          719846.8698652596,
          721218.6485599983,
          722592.8883728983,
          723969.5886000523,
          725348.7336234782,
          726730.3100335045,
          728114.3165430216,
          729500.7350250839,
          730889.5276179931,
          732280.6367440328,
          733673.9972275621,
          735069.5398752552,
          736467.1438209548,
          737866.6296536851,
          739267.7562759472,
          740670.2248505419,
          742073.6210910757,
          743477.353751047,
          744880.6524118471,
          746282.5276926771,
          747681.6957734172,
          749076.5524310869,
          750465.1672177635,
          751845.2993138233,
          753214.5724264199,
          754570.4431969849,
          755910.9049864894,
          757234.6354420636,
          758540.9972550139,
          759830.2899051707,
          761103.967405619,
          762363.913660672,
          763612.3299739885,
          764851.6447530083,
          766084.0507760632,
          767311.4692903449,
          768535.5017941768,
          769757.4265124247,
          770978.2520275938,
          772198.7461188915,
          773419.5049795364,
          774640.977658821,
          775863.4705826674,
          777087.2245883462,
          778312.4276644897,
          779539.2170245629,
          780767.6859508852,
          781997.8867506541,
          783229.8764765444,
          784463.7101246875,
          785699.4203334098,
          786937.0188266004,
          788176.5031829672,
          789417.9169065527,
          790661.2943092888,
          791906.6478283951,
          793153.9736277892,
          794403.284137452,
          795654.6074878646,
          796907.9690100353,
          798163.3950842061,
          799420.9230288595,
          800680.6168620965,
          801942.5593742055,
          803206.8610766893,
          804473.6603135451,
          805743.146919159,
          807015.5845133602,
          808291.3235209102,
          809570.8246436454,
          810854.6588672724,
          812143.5155100385,
          813438.2922464558,
          814740.0031190919,
          816049.6765602144,
          817368.3475741654,
          818696.9191159579,
          820035.9919701868,
          821385.7400324427,
          822745.8885696335,
          824115.7619533305,
          825494.3628677876,
          826880.554265391,
          828273.237123855,
          829671.3527554082,
          831073.9250060298,
          832480.2190290149,
          833889.6388419966,
          835301.6948116685,
          836716.0040430326,
          838132.2902468368,
          839550.3714454136,
          840970.1097733871,
          842391.3917938353,
          843814.130252245,
          845238.281657001,
          846663.8198022147,
          848090.7206323775,
          849518.9628733437,
          850948.5364401871,
          852379.451459077,
          853811.7135641917,
          855245.3197140164,
          856680.2583653188,
          858116.5282768806,
          859554.1518034921,
          860993.1431010371,
          862433.5048556491,
          863875.2282837325,
          865318.3082401676,
          866762.7644287379,
          868208.5982941552,
          869655.7936531806,
          871104.3211000139,
          872554.1650073783,
          874005.2947835086,
          875457.6516861225,
          876911.1493272893,
          878365.679796138,
          879821.1124926199,
          881277.2650637146,
          882733.899191113,
          884190.7218956029,
          885647.4115598509,
          887103.5934403257,
          888558.9195501459,
          890013.0943653905,
          891465.8748250703,
          892917.123777503,
          894366.9156327434,
          895815.4158443032,
          897262.8632045791,
          898709.5652001832,
          900155.8560931195,
          901602.0479509386,
          903048.405866006,
          904495.146877331,
          905942.4541899523,
          907390.4816003732,
          908839.3482717008,
          910289.1421334138,
          911739.9204827386,
          913191.735842953,
          914644.6443185246,
          916098.6851152976,
          917553.8809713838,
          919010.2385542996,
          920467.7774338857,
          921926.5306060477,
          923386.515298472,
          924847.7359088219,
          926310.1927365733,
          927773.9092852086,
          929238.9013172871,
          930705.1746129799,
          932172.7257587468,
          933641.560157581,
          935111.6933936027,
          936583.1312789753,
          938055.8697159516,
          939529.8952628849,
          941005.2037096223,
          942481.7984313916,
          943959.6633597504,
          945438.7613555386,
          946919.0348829671,
          948400.4288847818,
          949882.8771093362,
          951366.265885206,
          952850.4333327557,
          954335.1785773066,
          955820.2644543457,
          957305.3954045434,
          958790.227146258,
          960274.3708076838,
          961757.4506310569,
          963239.1279957644,
          964719.1691315693,
          966197.459343533,
          967674.0022374092,
          969148.9591752106,
          970622.6232274701,
          972095.2961637052,
          973567.2794956159,
          975038.8742743441,
          976510.3668651127,
          977981.9961780779,
          979453.9489825568,
          980926.36482174,
          982399.3767640432,
          983873.0590246582,
          985347.5743279608,
          986823.2084598585,
          988300.4689125259,
          989779.8288971846,
          991261.4998662729,
          992745.5137483706,
          994231.8533461901,
          995720.5174198488,
          997211.4852445684,
          998704.7510476651,
          1000200.3647351392,
          1001698.4276708695,
          1003199.0974154475,
          1004702.5544459838,
          1006208.8620222567,
          1007718.0177610076,
          1009229.9685771653,
          1010744.6697052132,
          1012262.0805693304,
          1013782.1401616028,
          1015304.7713214158,
          1016829.9147259793,
          1018357.5217428687,
          1019887.4635022536,
          1021419.5213376321,
          1022953.334881076,
          1024488.409761838,
          1026024.1007902853,
          1027559.5993162831,
          1029093.8742146187,
          1030625.628266472,
          1032153.3619030011,
          1033675.3934999236,
          1035189.8459582629,
          1036694.8450223828,
          1038188.7643912807,
          1039670.37299159,
          1041139.1610676114,
          1042595.3379392644,
          1044039.8084464035,
          1045474.0033499753,
          1046899.691022008,
          1048318.6256046706,
          1049732.5074598584,
          1051142.8118797883,
          1052550.6861510752,
          1053957.0752716195,
          1055362.714699202,
          1056768.1452225503,
          1058173.7866924468,
          1059579.9605966138,
          1060986.9297215608,
          1062394.9007011997,
          1063804.0240609744,
          1065214.3989120184,
          1066626.0943841846,
          1068039.161247422,
          1069453.632380535,
          1070869.5227711727,
          1072286.836037617,
          1073705.5913430783,
          1075125.7543363739,
          1076547.262113281,
          1077970.0300290473,
          1079393.9619455219,
          1080819.0166050065,
          1082245.1418081145,
          1083672.2659351141,
          1085100.3080611916,
          1086529.128561146,
          1087958.4795561475,
          1089387.9999861615,
          1090817.1663809188,
          1092245.2665809013,
          1093671.3643638038,
          1095094.2110088714,
          1096512.1272087188,
          1097922.9017985086,
          1099323.6739067133,
          1100710.750654692,
          1102079.513304018,
          1103424.474169684,
          1104739.121457668,
          1106016.6303513048,
          1107250.3577861353,
          1108434.239786575,
          1109564.184161642,
          1110638.596240752,
          1111658.6353202458,
          1112627.998660645,
          1113552.1895712551,
          1114437.7400493731,
          1115291.3858710516,
          1116119.403453404,
          1116927.2141924095,
          1117719.291668295,
          1118499.2101731778,
          1119269.764904392,
          1120033.0997300774,
          1120790.8197773937,
          1121544.1245693173,
          1122293.8866876021,
          1123040.7350528683,
          1123785.1316354603,
          1124527.4000669413,
          1125267.7641055693,
          1126006.3798618654,
          1126743.3333385943,
          1127478.662284101,
          1128212.3859695257,
          1128944.5191754608,
          1129675.0792837036,
          1130404.1023894642,
          1131131.6034612271,
          1131857.5650517563,
          1132581.963154693,
          1133304.7760495478,
          1134025.9887344253,
          1134745.585119304,
          1135463.5343961737,
          1136179.7757882709,
          1136894.2157903174,
          1137606.727047607,
          1138317.138130491,
          1139025.2131244582,
          1139730.6392638509,
          1140433.0047253834,
          1141131.7646059904,
          1141826.2174042496,
          1142515.4704442858,
          1143198.4171339637,
          1143873.7332131225,
          1144539.9086817233,
          1145195.2742543817,
          1145838.2585162888,
          1146467.453265169,
          1147081.8592760763,
          1147681.0875752564,
          1148265.3917177164,
          1148835.6262662204,
          1149393.0757286109,
          1149939.2795135523,
          1150475.8113805938,
          1151004.1204393483,
          1151525.4710128293,
          1152040.9155386582,
          1152551.29898809,
          1153057.2708864678,
          1153559.3348828768,
          1154057.8688645163,
          1154553.1424710075,
          1155045.3483531573,
          1155534.6316116557,
          1156021.1074549027,
          1156504.8664444291,
          1156985.9728789616,
          1157464.4693041814,
          1157940.388311535,
          1158413.7564666194,
          1158884.5933464086,
          1159352.9149198688,
          1159818.7425542334,
          1160282.1061763212,
          1160743.0245028615,
          1161201.4962376147,
          1161657.5267279,
          1162111.1255411194,
          1162562.3070801066,
          1163011.0917114948,
          1163457.5050736195,
          1163901.5800252825,
          1164343.361679796,
          1164782.9119224276,
          1165220.3172451337,
          1165655.6948156166,
          1166089.199056179,
          1166521.0397584818,
          1166951.4910132724,
          1167380.910272537,
          1167809.760010945,
          1168238.6199580655,
          1168668.188849719,
          1169099.2699404943,
          1169532.7195682826,
          1169969.3854645775,
          1170410.0033660303,
          1170855.0726477713,
          1171304.7814650943,
          1171758.9640246134,
          1172217.131518567,
          1172678.5542457444,
          1173142.39404191,
          1173607.7899090056,
          1174073.9481092596,
          1174540.1763211726,
          1175005.8969614794,
          1175470.6444542063,
          1175934.054739438,
          1176395.8465669116,
          1176855.807270428,
          1177313.774877178,
          1177769.62039791,
          1178223.2469729101,
          1178674.599591335,
          1179123.6435987772,
          1179570.3518801809,
          1180014.703738887,
          1180456.6859726205,
          1180896.2900961523,
          1181333.5117720636,
          1181768.3512985162,
          1182200.8117358016,
          1182630.89763672,
          1183058.605806412,
          1183483.93499017,
          1183906.892168946,
          1184327.4882455464,
          1184745.7384995408,
          1185161.6624340026,
          1185575.286095953,
          1185986.643376594,
          1186395.7783705248,
          1186802.7479165383,
          1187207.6295573856,
          1187610.527273102,
          1188011.576043948,
          1188410.9535516354,
          1188808.8953041579,
          1189205.7136031983,
          1189601.7981215601,
          1189997.6353627408,
          1190393.8209929895,
          1190791.0206460578,
          1191189.9615995078,
          1191591.3648022127,
          1191995.8433644164,
          1192403.8082518047,
          1192815.4155712717,
          1193230.5162225387,
          1193648.6969271954,
          1194069.3422716334,
          1194491.74685205,
          1194915.1896019003,
          1195338.9926269932,
          1195762.566025716,
          1196185.4200828706,
          1196607.1649532872,
          1197027.496099614,
          1197446.1832741757,
          1197863.0536021336,
          1198277.9742915202,
          1198690.8428745028,
          1199101.5837498184,
          1199510.1487193229,
          1199916.5115797264,
          1200320.6521960003,
          1200722.5567707808,
          1201122.216826227,
          1201519.6294692038,
          1201914.794787081,
          1202307.7115599408,
          1202698.3755632294,
          1203086.780478465,
          1203472.9303137145,
          1203856.8407142397,
          1204238.5236343998,
          1204617.9816880994,
          1204995.2151905978,
          1205370.2216477515,
          1205742.9956566424,
          1206113.534910152,
          1206481.8417039178,
          1206847.9143293283,
          1207211.7292872889,
          1207573.253716449,
          1207932.4463362927,
          1208289.2534067626,
          1208643.604835583,
          1208995.40455189,
          1209344.5266367018,
          1209690.807915066,
          1210034.0503415796,
          1210374.0218050731,
          1210710.4661081678,
          1211043.126722746,
          1211371.7878026385,
          1211696.300696096,
          1212016.6133595423,
          1212332.7775818196,
          1212644.9441733398,
          1212953.3355760782,
          1213258.2076389743,
          1213559.8247700771,
          1213858.434764422,
          1214154.2542297638,
          1214447.4653240312,
          1214738.2144401937,
          1215026.6181361077,
          1215312.7674497515,
          1215596.7310473814,
          1215878.564051368,
          1216158.3093767236,
          1216436.0008259374,
          1216711.6659729232,
          1216985.3271022472,
          1217257.0026638992,
          1217526.7096445344,
          1217794.4641475328,
          1218060.2815793108,
          1218324.1759890278,
          1218586.1578580914,
          1218846.233623276,
          1219104.409987713,
          1219360.7002965724,
          1219615.1173201685,
          1219867.6705236596,
          1220118.3683474662,
          1220367.2171242665,
          1220614.2227896801,
          1220859.3914230866,
          1221102.7301149557,
          1221344.2460839148,
          1221583.9476856657,
          1221821.8446920004,
          1222057.9459160462,
          1222292.2602598085,
          1222524.795779742,
          1222755.5604312543,
          1222984.561576455,
          1223211.8062109475,
          1223437.3017622118,
          1223661.0559866638,
          1223883.0762763426,
          1224103.3699139915,
          1224321.94383499,
          1224538.8049789823,
          1224753.9612216747
         ],
         "yaxis": "y"
        },
        {
         "hovertemplate": "x=%{x}<br>y=%{y}<extra></extra>",
         "legendgroup": "",
         "marker": {
          "color": "red",
          "symbol": "circle"
         },
         "mode": "markers",
         "name": "",
         "orientation": "v",
         "showlegend": false,
         "type": "scatter",
         "x": [
          2009,
          2019
         ],
         "xaxis": "x",
         "y": [
          1207100,
          1194300
         ],
         "yaxis": "y"
        }
       ],
       "layout": {
        "template": {
         "data": {
          "bar": [
           {
            "error_x": {
             "color": "#2a3f5f"
            },
            "error_y": {
             "color": "#2a3f5f"
            },
            "marker": {
             "line": {
              "color": "#E5ECF6",
              "width": 0.5
             },
             "pattern": {
              "fillmode": "overlay",
              "size": 10,
              "solidity": 0.2
             }
            },
            "type": "bar"
           }
          ],
          "barpolar": [
           {
            "marker": {
             "line": {
              "color": "#E5ECF6",
              "width": 0.5
             },
             "pattern": {
              "fillmode": "overlay",
              "size": 10,
              "solidity": 0.2
             }
            },
            "type": "barpolar"
           }
          ],
          "carpet": [
           {
            "aaxis": {
             "endlinecolor": "#2a3f5f",
             "gridcolor": "white",
             "linecolor": "white",
             "minorgridcolor": "white",
             "startlinecolor": "#2a3f5f"
            },
            "baxis": {
             "endlinecolor": "#2a3f5f",
             "gridcolor": "white",
             "linecolor": "white",
             "minorgridcolor": "white",
             "startlinecolor": "#2a3f5f"
            },
            "type": "carpet"
           }
          ],
          "choropleth": [
           {
            "colorbar": {
             "outlinewidth": 0,
             "ticks": ""
            },
            "type": "choropleth"
           }
          ],
          "contour": [
           {
            "colorbar": {
             "outlinewidth": 0,
             "ticks": ""
            },
            "colorscale": [
             [
              0,
              "#0d0887"
             ],
             [
              0.1111111111111111,
              "#46039f"
             ],
             [
              0.2222222222222222,
              "#7201a8"
             ],
             [
              0.3333333333333333,
              "#9c179e"
             ],
             [
              0.4444444444444444,
              "#bd3786"
             ],
             [
              0.5555555555555556,
              "#d8576b"
             ],
             [
              0.6666666666666666,
              "#ed7953"
             ],
             [
              0.7777777777777778,
              "#fb9f3a"
             ],
             [
              0.8888888888888888,
              "#fdca26"
             ],
             [
              1,
              "#f0f921"
             ]
            ],
            "type": "contour"
           }
          ],
          "contourcarpet": [
           {
            "colorbar": {
             "outlinewidth": 0,
             "ticks": ""
            },
            "type": "contourcarpet"
           }
          ],
          "heatmap": [
           {
            "colorbar": {
             "outlinewidth": 0,
             "ticks": ""
            },
            "colorscale": [
             [
              0,
              "#0d0887"
             ],
             [
              0.1111111111111111,
              "#46039f"
             ],
             [
              0.2222222222222222,
              "#7201a8"
             ],
             [
              0.3333333333333333,
              "#9c179e"
             ],
             [
              0.4444444444444444,
              "#bd3786"
             ],
             [
              0.5555555555555556,
              "#d8576b"
             ],
             [
              0.6666666666666666,
              "#ed7953"
             ],
             [
              0.7777777777777778,
              "#fb9f3a"
             ],
             [
              0.8888888888888888,
              "#fdca26"
             ],
             [
              1,
              "#f0f921"
             ]
            ],
            "type": "heatmap"
           }
          ],
          "heatmapgl": [
           {
            "colorbar": {
             "outlinewidth": 0,
             "ticks": ""
            },
            "colorscale": [
             [
              0,
              "#0d0887"
             ],
             [
              0.1111111111111111,
              "#46039f"
             ],
             [
              0.2222222222222222,
              "#7201a8"
             ],
             [
              0.3333333333333333,
              "#9c179e"
             ],
             [
              0.4444444444444444,
              "#bd3786"
             ],
             [
              0.5555555555555556,
              "#d8576b"
             ],
             [
              0.6666666666666666,
              "#ed7953"
             ],
             [
              0.7777777777777778,
              "#fb9f3a"
             ],
             [
              0.8888888888888888,
              "#fdca26"
             ],
             [
              1,
              "#f0f921"
             ]
            ],
            "type": "heatmapgl"
           }
          ],
          "histogram": [
           {
            "marker": {
             "pattern": {
              "fillmode": "overlay",
              "size": 10,
              "solidity": 0.2
             }
            },
            "type": "histogram"
           }
          ],
          "histogram2d": [
           {
            "colorbar": {
             "outlinewidth": 0,
             "ticks": ""
            },
            "colorscale": [
             [
              0,
              "#0d0887"
             ],
             [
              0.1111111111111111,
              "#46039f"
             ],
             [
              0.2222222222222222,
              "#7201a8"
             ],
             [
              0.3333333333333333,
              "#9c179e"
             ],
             [
              0.4444444444444444,
              "#bd3786"
             ],
             [
              0.5555555555555556,
              "#d8576b"
             ],
             [
              0.6666666666666666,
              "#ed7953"
             ],
             [
              0.7777777777777778,
              "#fb9f3a"
             ],
             [
              0.8888888888888888,
              "#fdca26"
             ],
             [
              1,
              "#f0f921"
             ]
            ],
            "type": "histogram2d"
           }
          ],
          "histogram2dcontour": [
           {
            "colorbar": {
             "outlinewidth": 0,
             "ticks": ""
            },
            "colorscale": [
             [
              0,
              "#0d0887"
             ],
             [
              0.1111111111111111,
              "#46039f"
             ],
             [
              0.2222222222222222,
              "#7201a8"
             ],
             [
              0.3333333333333333,
              "#9c179e"
             ],
             [
              0.4444444444444444,
              "#bd3786"
             ],
             [
              0.5555555555555556,
              "#d8576b"
             ],
             [
              0.6666666666666666,
              "#ed7953"
             ],
             [
              0.7777777777777778,
              "#fb9f3a"
             ],
             [
              0.8888888888888888,
              "#fdca26"
             ],
             [
              1,
              "#f0f921"
             ]
            ],
            "type": "histogram2dcontour"
           }
          ],
          "mesh3d": [
           {
            "colorbar": {
             "outlinewidth": 0,
             "ticks": ""
            },
            "type": "mesh3d"
           }
          ],
          "parcoords": [
           {
            "line": {
             "colorbar": {
              "outlinewidth": 0,
              "ticks": ""
             }
            },
            "type": "parcoords"
           }
          ],
          "pie": [
           {
            "automargin": true,
            "type": "pie"
           }
          ],
          "scatter": [
           {
            "fillpattern": {
             "fillmode": "overlay",
             "size": 10,
             "solidity": 0.2
            },
            "type": "scatter"
           }
          ],
          "scatter3d": [
           {
            "line": {
             "colorbar": {
              "outlinewidth": 0,
              "ticks": ""
             }
            },
            "marker": {
             "colorbar": {
              "outlinewidth": 0,
              "ticks": ""
             }
            },
            "type": "scatter3d"
           }
          ],
          "scattercarpet": [
           {
            "marker": {
             "colorbar": {
              "outlinewidth": 0,
              "ticks": ""
             }
            },
            "type": "scattercarpet"
           }
          ],
          "scattergeo": [
           {
            "marker": {
             "colorbar": {
              "outlinewidth": 0,
              "ticks": ""
             }
            },
            "type": "scattergeo"
           }
          ],
          "scattergl": [
           {
            "marker": {
             "colorbar": {
              "outlinewidth": 0,
              "ticks": ""
             }
            },
            "type": "scattergl"
           }
          ],
          "scattermapbox": [
           {
            "marker": {
             "colorbar": {
              "outlinewidth": 0,
              "ticks": ""
             }
            },
            "type": "scattermapbox"
           }
          ],
          "scatterpolar": [
           {
            "marker": {
             "colorbar": {
              "outlinewidth": 0,
              "ticks": ""
             }
            },
            "type": "scatterpolar"
           }
          ],
          "scatterpolargl": [
           {
            "marker": {
             "colorbar": {
              "outlinewidth": 0,
              "ticks": ""
             }
            },
            "type": "scatterpolargl"
           }
          ],
          "scatterternary": [
           {
            "marker": {
             "colorbar": {
              "outlinewidth": 0,
              "ticks": ""
             }
            },
            "type": "scatterternary"
           }
          ],
          "surface": [
           {
            "colorbar": {
             "outlinewidth": 0,
             "ticks": ""
            },
            "colorscale": [
             [
              0,
              "#0d0887"
             ],
             [
              0.1111111111111111,
              "#46039f"
             ],
             [
              0.2222222222222222,
              "#7201a8"
             ],
             [
              0.3333333333333333,
              "#9c179e"
             ],
             [
              0.4444444444444444,
              "#bd3786"
             ],
             [
              0.5555555555555556,
              "#d8576b"
             ],
             [
              0.6666666666666666,
              "#ed7953"
             ],
             [
              0.7777777777777778,
              "#fb9f3a"
             ],
             [
              0.8888888888888888,
              "#fdca26"
             ],
             [
              1,
              "#f0f921"
             ]
            ],
            "type": "surface"
           }
          ],
          "table": [
           {
            "cells": {
             "fill": {
              "color": "#EBF0F8"
             },
             "line": {
              "color": "white"
             }
            },
            "header": {
             "fill": {
              "color": "#C8D4E3"
             },
             "line": {
              "color": "white"
             }
            },
            "type": "table"
           }
          ]
         },
         "layout": {
          "annotationdefaults": {
           "arrowcolor": "#2a3f5f",
           "arrowhead": 0,
           "arrowwidth": 1
          },
          "autotypenumbers": "strict",
          "coloraxis": {
           "colorbar": {
            "outlinewidth": 0,
            "ticks": ""
           }
          },
          "colorscale": {
           "diverging": [
            [
             0,
             "#8e0152"
            ],
            [
             0.1,
             "#c51b7d"
            ],
            [
             0.2,
             "#de77ae"
            ],
            [
             0.3,
             "#f1b6da"
            ],
            [
             0.4,
             "#fde0ef"
            ],
            [
             0.5,
             "#f7f7f7"
            ],
            [
             0.6,
             "#e6f5d0"
            ],
            [
             0.7,
             "#b8e186"
            ],
            [
             0.8,
             "#7fbc41"
            ],
            [
             0.9,
             "#4d9221"
            ],
            [
             1,
             "#276419"
            ]
           ],
           "sequential": [
            [
             0,
             "#0d0887"
            ],
            [
             0.1111111111111111,
             "#46039f"
            ],
            [
             0.2222222222222222,
             "#7201a8"
            ],
            [
             0.3333333333333333,
             "#9c179e"
            ],
            [
             0.4444444444444444,
             "#bd3786"
            ],
            [
             0.5555555555555556,
             "#d8576b"
            ],
            [
             0.6666666666666666,
             "#ed7953"
            ],
            [
             0.7777777777777778,
             "#fb9f3a"
            ],
            [
             0.8888888888888888,
             "#fdca26"
            ],
            [
             1,
             "#f0f921"
            ]
           ],
           "sequentialminus": [
            [
             0,
             "#0d0887"
            ],
            [
             0.1111111111111111,
             "#46039f"
            ],
            [
             0.2222222222222222,
             "#7201a8"
            ],
            [
             0.3333333333333333,
             "#9c179e"
            ],
            [
             0.4444444444444444,
             "#bd3786"
            ],
            [
             0.5555555555555556,
             "#d8576b"
            ],
            [
             0.6666666666666666,
             "#ed7953"
            ],
            [
             0.7777777777777778,
             "#fb9f3a"
            ],
            [
             0.8888888888888888,
             "#fdca26"
            ],
            [
             1,
             "#f0f921"
            ]
           ]
          },
          "colorway": [
           "#636efa",
           "#EF553B",
           "#00cc96",
           "#ab63fa",
           "#FFA15A",
           "#19d3f3",
           "#FF6692",
           "#B6E880",
           "#FF97FF",
           "#FECB52"
          ],
          "font": {
           "color": "#2a3f5f"
          },
          "geo": {
           "bgcolor": "white",
           "lakecolor": "white",
           "landcolor": "#E5ECF6",
           "showlakes": true,
           "showland": true,
           "subunitcolor": "white"
          },
          "hoverlabel": {
           "align": "left"
          },
          "hovermode": "closest",
          "mapbox": {
           "style": "light"
          },
          "paper_bgcolor": "white",
          "plot_bgcolor": "#E5ECF6",
          "polar": {
           "angularaxis": {
            "gridcolor": "white",
            "linecolor": "white",
            "ticks": ""
           },
           "bgcolor": "#E5ECF6",
           "radialaxis": {
            "gridcolor": "white",
            "linecolor": "white",
            "ticks": ""
           }
          },
          "scene": {
           "xaxis": {
            "backgroundcolor": "#E5ECF6",
            "gridcolor": "white",
            "gridwidth": 2,
            "linecolor": "white",
            "showbackground": true,
            "ticks": "",
            "zerolinecolor": "white"
           },
           "yaxis": {
            "backgroundcolor": "#E5ECF6",
            "gridcolor": "white",
            "gridwidth": 2,
            "linecolor": "white",
            "showbackground": true,
            "ticks": "",
            "zerolinecolor": "white"
           },
           "zaxis": {
            "backgroundcolor": "#E5ECF6",
            "gridcolor": "white",
            "gridwidth": 2,
            "linecolor": "white",
            "showbackground": true,
            "ticks": "",
            "zerolinecolor": "white"
           }
          },
          "shapedefaults": {
           "line": {
            "color": "#2a3f5f"
           }
          },
          "ternary": {
           "aaxis": {
            "gridcolor": "white",
            "linecolor": "white",
            "ticks": ""
           },
           "baxis": {
            "gridcolor": "white",
            "linecolor": "white",
            "ticks": ""
           },
           "bgcolor": "#E5ECF6",
           "caxis": {
            "gridcolor": "white",
            "linecolor": "white",
            "ticks": ""
           }
          },
          "title": {
           "x": 0.05
          },
          "xaxis": {
           "automargin": true,
           "gridcolor": "white",
           "linecolor": "white",
           "ticks": "",
           "title": {
            "standoff": 15
           },
           "zerolinecolor": "white",
           "zerolinewidth": 2
          },
          "yaxis": {
           "automargin": true,
           "gridcolor": "white",
           "linecolor": "white",
           "ticks": "",
           "title": {
            "standoff": 15
           },
           "zerolinecolor": "white",
           "zerolinewidth": 2
          }
         }
        },
        "title": {
         "text": "Modelled vs Data",
         "x": 0.5
        },
        "xaxis": {
         "title": {
          "text": "Year"
         }
        },
        "yaxis": {
         "title": {
          "text": "Population"
         }
        }
       }
      }
     },
     "metadata": {},
     "output_type": "display_data"
    }
   ],
   "source": [
    "fig2_1 = px.line(\n",
    "    derived_df_0,\n",
    "    x=derived_df_0.index,\n",
    "    y=\"total_population\",\n",
    ")\n",
    "fig2_2 = px.scatter(x= plots['total_population']['times'], y = plots['total_population']['values'])\n",
    "fig2_2.update_traces(marker=dict(color=\"red\"))\n",
    "fig2_3 = go.Figure(\n",
    "    data=fig2_1.data + fig2_2.data,\n",
    ")\n",
    "fig2_3.update_layout(\n",
    "    title=\"Modelled vs Data\", title_x=0.5, xaxis_title=\"Year\", yaxis_title=\"Population\"\n",
    ")\n",
    "fig2_3.show()"
   ]
  },
  {
   "cell_type": "code",
   "execution_count": 15,
   "metadata": {},
   "outputs": [
    {
     "data": {
      "application/vnd.plotly.v1+json": {
       "config": {
        "plotlyServerURL": "https://plot.ly"
       },
       "data": [
        {
         "hovertemplate": "index=%{x}<br>percentage_latent=%{y}<extra></extra>",
         "legendgroup": "",
         "line": {
          "color": "#636efa",
          "dash": "solid"
         },
         "marker": {
          "symbol": "circle"
         },
         "mode": "lines",
         "name": "",
         "showlegend": false,
         "type": "scattergl",
         "x": [
          1900,
          1900.1,
          1900.2,
          1900.3,
          1900.4,
          1900.5,
          1900.6,
          1900.7,
          1900.8,
          1900.9,
          1901,
          1901.1,
          1901.2,
          1901.3,
          1901.4,
          1901.5,
          1901.6,
          1901.7,
          1901.8,
          1901.9,
          1902,
          1902.1,
          1902.2,
          1902.3,
          1902.4,
          1902.5,
          1902.6,
          1902.7,
          1902.8,
          1902.9,
          1903,
          1903.1,
          1903.2,
          1903.3,
          1903.4,
          1903.5,
          1903.6,
          1903.7,
          1903.8,
          1903.9,
          1904,
          1904.1,
          1904.2,
          1904.3,
          1904.4,
          1904.5,
          1904.6,
          1904.7,
          1904.8,
          1904.9,
          1905,
          1905.1,
          1905.2,
          1905.3,
          1905.4,
          1905.5,
          1905.6,
          1905.7,
          1905.8,
          1905.9,
          1906,
          1906.1,
          1906.2,
          1906.3,
          1906.4,
          1906.5,
          1906.6,
          1906.7,
          1906.8,
          1906.9,
          1907,
          1907.1,
          1907.2,
          1907.3,
          1907.4,
          1907.5,
          1907.6,
          1907.7,
          1907.8,
          1907.9,
          1908,
          1908.1,
          1908.2,
          1908.3,
          1908.4,
          1908.5,
          1908.6,
          1908.7,
          1908.8,
          1908.9,
          1909,
          1909.1,
          1909.2,
          1909.3,
          1909.4,
          1909.5,
          1909.6,
          1909.7,
          1909.8,
          1909.9,
          1910,
          1910.1,
          1910.2,
          1910.3,
          1910.4,
          1910.5,
          1910.6,
          1910.7,
          1910.8,
          1910.9,
          1911,
          1911.1,
          1911.2,
          1911.3,
          1911.4,
          1911.5,
          1911.6,
          1911.7,
          1911.8,
          1911.9,
          1912,
          1912.1,
          1912.2,
          1912.3,
          1912.4,
          1912.5,
          1912.6,
          1912.7,
          1912.8,
          1912.9,
          1913,
          1913.1,
          1913.2,
          1913.3,
          1913.4,
          1913.5,
          1913.6,
          1913.7,
          1913.8,
          1913.9,
          1914,
          1914.1,
          1914.2,
          1914.3,
          1914.4,
          1914.5,
          1914.6,
          1914.7,
          1914.8,
          1914.9,
          1915,
          1915.1,
          1915.2,
          1915.3,
          1915.4,
          1915.5,
          1915.6,
          1915.7,
          1915.8,
          1915.9,
          1916,
          1916.1,
          1916.2,
          1916.3,
          1916.4,
          1916.5,
          1916.6,
          1916.7,
          1916.8,
          1916.9,
          1917,
          1917.1,
          1917.2,
          1917.3,
          1917.4,
          1917.5,
          1917.6,
          1917.7,
          1917.8,
          1917.9,
          1918,
          1918.1,
          1918.2,
          1918.3,
          1918.4,
          1918.5,
          1918.6,
          1918.7,
          1918.8,
          1918.9,
          1919,
          1919.1,
          1919.2,
          1919.3,
          1919.4,
          1919.5,
          1919.6,
          1919.7,
          1919.8,
          1919.9,
          1920,
          1920.1,
          1920.2,
          1920.3,
          1920.4,
          1920.5,
          1920.6,
          1920.7,
          1920.8,
          1920.9,
          1921,
          1921.1,
          1921.2,
          1921.3,
          1921.4,
          1921.5,
          1921.6,
          1921.7,
          1921.8,
          1921.9,
          1922,
          1922.1,
          1922.2,
          1922.3,
          1922.4,
          1922.5,
          1922.6,
          1922.7,
          1922.8,
          1922.9,
          1923,
          1923.1,
          1923.2,
          1923.3,
          1923.4,
          1923.5,
          1923.6,
          1923.7,
          1923.8,
          1923.9,
          1924,
          1924.1,
          1924.2,
          1924.3,
          1924.4,
          1924.5,
          1924.6,
          1924.7,
          1924.8,
          1924.9,
          1925,
          1925.1,
          1925.2,
          1925.3,
          1925.4,
          1925.5,
          1925.6,
          1925.7,
          1925.8,
          1925.9,
          1926,
          1926.1,
          1926.2,
          1926.3,
          1926.4,
          1926.5,
          1926.6,
          1926.7,
          1926.8,
          1926.9,
          1927,
          1927.1,
          1927.2,
          1927.3,
          1927.4,
          1927.5,
          1927.6,
          1927.7,
          1927.8,
          1927.9,
          1928,
          1928.1,
          1928.2,
          1928.3,
          1928.4,
          1928.5,
          1928.6,
          1928.7,
          1928.8,
          1928.9,
          1929,
          1929.1,
          1929.2,
          1929.3,
          1929.4,
          1929.5,
          1929.6,
          1929.7,
          1929.8,
          1929.9,
          1930,
          1930.1,
          1930.2,
          1930.3,
          1930.4,
          1930.5,
          1930.6,
          1930.7,
          1930.8,
          1930.9,
          1931,
          1931.1,
          1931.2,
          1931.3,
          1931.4,
          1931.5,
          1931.6,
          1931.7,
          1931.8,
          1931.9,
          1932,
          1932.1,
          1932.2,
          1932.3,
          1932.4,
          1932.5,
          1932.6,
          1932.7,
          1932.8,
          1932.9,
          1933,
          1933.1,
          1933.2,
          1933.3,
          1933.4,
          1933.5,
          1933.6,
          1933.7,
          1933.8,
          1933.9,
          1934,
          1934.1,
          1934.2,
          1934.3,
          1934.4,
          1934.5,
          1934.6,
          1934.7,
          1934.8,
          1934.9,
          1935,
          1935.1,
          1935.2,
          1935.3,
          1935.4,
          1935.5,
          1935.6,
          1935.7,
          1935.8,
          1935.9,
          1936,
          1936.1,
          1936.2,
          1936.3,
          1936.4,
          1936.5,
          1936.6,
          1936.7,
          1936.8,
          1936.9,
          1937,
          1937.1,
          1937.2,
          1937.3,
          1937.4,
          1937.5,
          1937.6,
          1937.7,
          1937.8,
          1937.9,
          1938,
          1938.1,
          1938.2,
          1938.3,
          1938.4,
          1938.5,
          1938.6,
          1938.7,
          1938.8,
          1938.9,
          1939,
          1939.1,
          1939.2,
          1939.3,
          1939.4,
          1939.5,
          1939.6,
          1939.7,
          1939.8,
          1939.9,
          1940,
          1940.1,
          1940.2,
          1940.3,
          1940.4,
          1940.5,
          1940.6,
          1940.7,
          1940.8,
          1940.9,
          1941,
          1941.1,
          1941.2,
          1941.3,
          1941.4,
          1941.5,
          1941.6,
          1941.7,
          1941.8,
          1941.9,
          1942,
          1942.1,
          1942.2,
          1942.3,
          1942.4,
          1942.5,
          1942.6,
          1942.7,
          1942.8,
          1942.9,
          1943,
          1943.1,
          1943.2,
          1943.3,
          1943.4,
          1943.5,
          1943.6,
          1943.7,
          1943.8,
          1943.9,
          1944,
          1944.1,
          1944.2,
          1944.3,
          1944.4,
          1944.5,
          1944.6,
          1944.7,
          1944.8,
          1944.9,
          1945,
          1945.1,
          1945.2,
          1945.3,
          1945.4,
          1945.5,
          1945.6,
          1945.7,
          1945.8,
          1945.9,
          1946,
          1946.1,
          1946.2,
          1946.3,
          1946.4,
          1946.5,
          1946.6,
          1946.7,
          1946.8,
          1946.9,
          1947,
          1947.1,
          1947.2,
          1947.3,
          1947.4,
          1947.5,
          1947.6,
          1947.7,
          1947.8,
          1947.9,
          1948,
          1948.1,
          1948.2,
          1948.3,
          1948.4,
          1948.5,
          1948.6,
          1948.7,
          1948.8,
          1948.9,
          1949,
          1949.1,
          1949.2,
          1949.3,
          1949.4,
          1949.5,
          1949.6,
          1949.7,
          1949.8,
          1949.9,
          1950,
          1950.1,
          1950.2,
          1950.3,
          1950.4,
          1950.5,
          1950.6,
          1950.7,
          1950.8,
          1950.9,
          1951,
          1951.1,
          1951.2,
          1951.3,
          1951.4,
          1951.5,
          1951.6,
          1951.7,
          1951.8,
          1951.9,
          1952,
          1952.1,
          1952.2,
          1952.3,
          1952.4,
          1952.5,
          1952.6,
          1952.7,
          1952.8,
          1952.9,
          1953,
          1953.1,
          1953.2,
          1953.3,
          1953.4,
          1953.5,
          1953.6,
          1953.7,
          1953.8,
          1953.9,
          1954,
          1954.1,
          1954.2,
          1954.3,
          1954.4,
          1954.5,
          1954.6,
          1954.7,
          1954.8,
          1954.9,
          1955,
          1955.1,
          1955.2,
          1955.3,
          1955.4,
          1955.5,
          1955.6,
          1955.7,
          1955.8,
          1955.9,
          1956,
          1956.1,
          1956.2,
          1956.3,
          1956.4,
          1956.5,
          1956.6,
          1956.7,
          1956.8,
          1956.9,
          1957,
          1957.1,
          1957.2,
          1957.3,
          1957.4,
          1957.5,
          1957.6,
          1957.7,
          1957.8,
          1957.9,
          1958,
          1958.1,
          1958.2,
          1958.3,
          1958.4,
          1958.5,
          1958.6,
          1958.7,
          1958.8,
          1958.9,
          1959,
          1959.1,
          1959.2,
          1959.3,
          1959.4,
          1959.5,
          1959.6,
          1959.7,
          1959.8,
          1959.9,
          1960,
          1960.1,
          1960.2,
          1960.3,
          1960.4,
          1960.5,
          1960.6,
          1960.7,
          1960.8,
          1960.9,
          1961,
          1961.1,
          1961.2,
          1961.3,
          1961.4,
          1961.5,
          1961.6,
          1961.7,
          1961.8,
          1961.9,
          1962,
          1962.1,
          1962.2,
          1962.3,
          1962.4,
          1962.5,
          1962.6,
          1962.7,
          1962.8,
          1962.9,
          1963,
          1963.1,
          1963.2,
          1963.3,
          1963.4,
          1963.5,
          1963.6,
          1963.7,
          1963.8,
          1963.9,
          1964,
          1964.1,
          1964.2,
          1964.3,
          1964.4,
          1964.5,
          1964.6,
          1964.7,
          1964.8,
          1964.9,
          1965,
          1965.1,
          1965.2,
          1965.3,
          1965.4,
          1965.5,
          1965.6,
          1965.7,
          1965.8,
          1965.9,
          1966,
          1966.1,
          1966.2,
          1966.3,
          1966.4,
          1966.5,
          1966.6,
          1966.7,
          1966.8,
          1966.9,
          1967,
          1967.1,
          1967.2,
          1967.3,
          1967.4,
          1967.5,
          1967.6,
          1967.7,
          1967.8,
          1967.9,
          1968,
          1968.1,
          1968.2,
          1968.3,
          1968.4,
          1968.5,
          1968.6,
          1968.7,
          1968.8,
          1968.9,
          1969,
          1969.1,
          1969.2,
          1969.3,
          1969.4,
          1969.5,
          1969.6,
          1969.7,
          1969.8,
          1969.9,
          1970,
          1970.1,
          1970.2,
          1970.3,
          1970.4,
          1970.5,
          1970.6,
          1970.7,
          1970.8,
          1970.9,
          1971,
          1971.1,
          1971.2,
          1971.3,
          1971.4,
          1971.5,
          1971.6,
          1971.7,
          1971.8,
          1971.9,
          1972,
          1972.1,
          1972.2,
          1972.3,
          1972.4,
          1972.5,
          1972.6,
          1972.7,
          1972.8,
          1972.9,
          1973,
          1973.1,
          1973.2,
          1973.3,
          1973.4,
          1973.5,
          1973.6,
          1973.7,
          1973.8,
          1973.9,
          1974,
          1974.1,
          1974.2,
          1974.3,
          1974.4,
          1974.5,
          1974.6,
          1974.7,
          1974.8,
          1974.9,
          1975,
          1975.1,
          1975.2,
          1975.3,
          1975.4,
          1975.5,
          1975.6,
          1975.7,
          1975.8,
          1975.9,
          1976,
          1976.1,
          1976.2,
          1976.3,
          1976.4,
          1976.5,
          1976.6,
          1976.7,
          1976.8,
          1976.9,
          1977,
          1977.1,
          1977.2,
          1977.3,
          1977.4,
          1977.5,
          1977.6,
          1977.7,
          1977.8,
          1977.9,
          1978,
          1978.1,
          1978.2,
          1978.3,
          1978.4,
          1978.5,
          1978.6,
          1978.7,
          1978.8,
          1978.9,
          1979,
          1979.1,
          1979.2,
          1979.3,
          1979.4,
          1979.5,
          1979.6,
          1979.7,
          1979.8,
          1979.9,
          1980,
          1980.1,
          1980.2,
          1980.3,
          1980.4,
          1980.5,
          1980.6,
          1980.7,
          1980.8,
          1980.9,
          1981,
          1981.1,
          1981.2,
          1981.3,
          1981.4,
          1981.5,
          1981.6,
          1981.7,
          1981.8,
          1981.9,
          1982,
          1982.1,
          1982.2,
          1982.3,
          1982.4,
          1982.5,
          1982.6,
          1982.7,
          1982.8,
          1982.9,
          1983,
          1983.1,
          1983.2,
          1983.3,
          1983.4,
          1983.5,
          1983.6,
          1983.7,
          1983.8,
          1983.9,
          1984,
          1984.1,
          1984.2,
          1984.3,
          1984.4,
          1984.5,
          1984.6,
          1984.7,
          1984.8,
          1984.9,
          1985,
          1985.1,
          1985.2,
          1985.3,
          1985.4,
          1985.5,
          1985.6,
          1985.7,
          1985.8,
          1985.9,
          1986,
          1986.1,
          1986.2,
          1986.3,
          1986.4,
          1986.5,
          1986.6,
          1986.7,
          1986.8,
          1986.9,
          1987,
          1987.1,
          1987.2,
          1987.3,
          1987.4,
          1987.5,
          1987.6,
          1987.7,
          1987.8,
          1987.9,
          1988,
          1988.1,
          1988.2,
          1988.3,
          1988.4,
          1988.5,
          1988.6,
          1988.7,
          1988.8,
          1988.9,
          1989,
          1989.1,
          1989.2,
          1989.3,
          1989.4,
          1989.5,
          1989.6,
          1989.7,
          1989.8,
          1989.9,
          1990,
          1990.1,
          1990.2,
          1990.3,
          1990.4,
          1990.5,
          1990.6,
          1990.7,
          1990.8,
          1990.9,
          1991,
          1991.1,
          1991.2,
          1991.3,
          1991.4,
          1991.5,
          1991.6,
          1991.7,
          1991.8,
          1991.9,
          1992,
          1992.1,
          1992.2,
          1992.3,
          1992.4,
          1992.5,
          1992.6,
          1992.7,
          1992.8,
          1992.9,
          1993,
          1993.1,
          1993.2,
          1993.3,
          1993.4,
          1993.5,
          1993.6,
          1993.7,
          1993.8,
          1993.9,
          1994,
          1994.1,
          1994.2,
          1994.3,
          1994.4,
          1994.5,
          1994.6,
          1994.7,
          1994.8,
          1994.9,
          1995,
          1995.1,
          1995.2,
          1995.3,
          1995.4,
          1995.5,
          1995.6,
          1995.7,
          1995.8,
          1995.9,
          1996,
          1996.1,
          1996.2,
          1996.3,
          1996.4,
          1996.5,
          1996.6,
          1996.7,
          1996.8,
          1996.9,
          1997,
          1997.1,
          1997.2,
          1997.3,
          1997.4,
          1997.5,
          1997.6,
          1997.7,
          1997.8,
          1997.9,
          1998,
          1998.1,
          1998.2,
          1998.3,
          1998.4,
          1998.5,
          1998.6,
          1998.7,
          1998.8,
          1998.9,
          1999,
          1999.1,
          1999.2,
          1999.3,
          1999.4,
          1999.5,
          1999.6,
          1999.7,
          1999.8,
          1999.9,
          2000,
          2000.1,
          2000.2,
          2000.3,
          2000.4,
          2000.5,
          2000.6,
          2000.7,
          2000.8,
          2000.9,
          2001,
          2001.1,
          2001.2,
          2001.3,
          2001.4,
          2001.5,
          2001.6,
          2001.7,
          2001.8,
          2001.9,
          2002,
          2002.1,
          2002.2,
          2002.3,
          2002.4,
          2002.5,
          2002.6,
          2002.7,
          2002.8,
          2002.9,
          2003,
          2003.1,
          2003.2,
          2003.3,
          2003.4,
          2003.5,
          2003.6,
          2003.7,
          2003.8,
          2003.9,
          2004,
          2004.1,
          2004.2,
          2004.3,
          2004.4,
          2004.5,
          2004.6,
          2004.7,
          2004.8,
          2004.9,
          2005,
          2005.1,
          2005.2,
          2005.3,
          2005.4,
          2005.5,
          2005.6,
          2005.7,
          2005.8,
          2005.9,
          2006,
          2006.1,
          2006.2,
          2006.3,
          2006.4,
          2006.5,
          2006.6,
          2006.7,
          2006.8,
          2006.9,
          2007,
          2007.1,
          2007.2,
          2007.3,
          2007.4,
          2007.5,
          2007.6,
          2007.7,
          2007.8,
          2007.9,
          2008,
          2008.1,
          2008.2,
          2008.3,
          2008.4,
          2008.5,
          2008.6,
          2008.7,
          2008.8,
          2008.9,
          2009,
          2009.1,
          2009.2,
          2009.3,
          2009.4,
          2009.5,
          2009.6,
          2009.7,
          2009.8,
          2009.9,
          2010,
          2010.1,
          2010.2,
          2010.3,
          2010.4,
          2010.5,
          2010.6,
          2010.7,
          2010.8,
          2010.9,
          2011,
          2011.1,
          2011.2,
          2011.3,
          2011.4,
          2011.5,
          2011.6,
          2011.7,
          2011.8,
          2011.9,
          2012,
          2012.1,
          2012.2,
          2012.3,
          2012.4,
          2012.5,
          2012.6,
          2012.7,
          2012.8,
          2012.9,
          2013,
          2013.1,
          2013.2,
          2013.3,
          2013.4,
          2013.5,
          2013.6,
          2013.7,
          2013.8,
          2013.9,
          2014,
          2014.1,
          2014.2,
          2014.3,
          2014.4,
          2014.5,
          2014.6,
          2014.7,
          2014.8,
          2014.9,
          2015,
          2015.1,
          2015.2,
          2015.3,
          2015.4,
          2015.5,
          2015.6,
          2015.7,
          2015.8,
          2015.9,
          2016,
          2016.1,
          2016.2,
          2016.3,
          2016.4,
          2016.5,
          2016.6,
          2016.7,
          2016.8,
          2016.9,
          2017,
          2017.1,
          2017.2,
          2017.3,
          2017.4,
          2017.5,
          2017.6,
          2017.7,
          2017.8,
          2017.9,
          2018,
          2018.1,
          2018.2,
          2018.3,
          2018.4,
          2018.5,
          2018.6,
          2018.7,
          2018.8,
          2018.9,
          2019,
          2019.1,
          2019.2,
          2019.3,
          2019.4,
          2019.5,
          2019.6,
          2019.7,
          2019.8,
          2019.9,
          2020
         ],
         "xaxis": "x",
         "y": [
          0,
          0.0004513329204092086,
          0.0008718584261828966,
          0.0012774280713705546,
          0.0016778461275781028,
          0.0020801734480637877,
          0.0024890851350545737,
          0.0029084611912791112,
          0.0033408971831908082,
          0.0037886763449963136,
          0.004253880305950551,
          0.004737977316221621,
          0.005242445686771736,
          0.005768887419690494,
          0.00631873854555138,
          0.0068931720385799105,
          0.007493492241697576,
          0.00812116234368441,
          0.008777797416561392,
          0.009464865571516037,
          0.010183710308491545,
          0.010935871955836233,
          0.011723078379838199,
          0.012547240312437489,
          0.01341018734483093,
          0.014313564210089474,
          0.015259269368947947,
          0.016249494422545887,
          0.01728671542910521,
          0.018373184722181482,
          0.01951099148116368,
          0.020702620578018107,
          0.021950907001842834,
          0.023258755167028,
          0.024628818058832755,
          0.026064069682176404,
          0.027567785183362798,
          0.029143486314762913,
          0.030794548112733588,
          0.03252448385673522,
          0.03433714823982043,
          0.03623673319915502,
          0.038227656749469215,
          0.04031410384383778,
          0.04250051505862252,
          0.044791805745026364,
          0.04719336380052914,
          0.04971077303483134,
          0.05234923186193333,
          0.05511445099727076,
          0.05801273900626084,
          0.06105094131422915,
          0.06423567769766367,
          0.0675737474392794,
          0.07107259572275017,
          0.07474028642876154,
          0.0785852320027244,
          0.08261563297059016,
          0.08684028435164842,
          0.09126871094031803,
          0.09591115915813819,
          0.10077808109279353,
          0.10587978575987003,
          0.11122743841509504,
          0.11683316189637237,
          0.12271001330423563,
          0.12887106176255597,
          0.135329213091549,
          0.14209858899000355,
          0.1491946114913453,
          0.15663392955661243,
          0.16443280307489125,
          0.17260740344584952,
          0.18117560052315498,
          0.19015700969936247,
          0.1995727143719771,
          0.20944264276390614,
          0.21978761842936112,
          0.23063054994068796,
          0.24199628976920526,
          0.25390997978577284,
          0.266396793547413,
          0.27948394697697015,
          0.2932005877745133,
          0.3075774513949389,
          0.32264522237224147,
          0.33843610679338676,
          0.35498456450162347,
          0.3723272874619057,
          0.3905027876240238,
          0.40954923622101547,
          0.42950664592739585,
          0.45041815858712153,
          0.4723300270990013,
          0.4952909493362598,
          0.5193482841404432,
          0.5445518634733182,
          0.570955706477488,
          0.5986179272229922,
          0.6275978042213124,
          0.657954138664116,
          0.6897501406337889,
          0.723053547788182,
          0.7579363213979172,
          0.79447029614233,
          0.8327288167477795,
          0.8727906398478822,
          0.9147399650295934,
          0.958665943708027,
          1.0046565337784699,
          1.0528012992510885,
          1.1031970230713732,
          1.1559477920634362,
          1.2111643785702102,
          1.2689542855446705,
          1.3294248753685223,
          1.3926935939099698,
          1.458888240953735,
          1.5281455341431784,
          1.6005936165830656,
          1.6763636603750098,
          1.755599416893061,
          1.8384562571558385,
          1.925090781722714,
          2.01565525423927,
          2.110313079673974,
          2.2092385153585647,
          2.3126148772006108,
          2.4206203428879256,
          2.5334366294196418,
          2.651257832780154,
          2.774290394985319,
          2.9027506334669484,
          3.0368423212226934,
          3.1767703934119202,
          3.322757418084218,
          3.4750436869655013,
          3.6338827604546986,
          3.7995011387904944,
          3.9721285404698095,
          4.152016673005607,
          4.339437616993154,
          4.534657136359152,
          4.7379185232012055,
          4.9494825441269485,
          5.169628490892733,
          5.398649455854741,
          5.636807544570187,
          5.884356166981625,
          6.141569780203692,
          6.408744053836789,
          6.686182438390277,
          6.97412649900591,
          7.272813776376231,
          7.582511486232873,
          7.903516355438304,
          8.236114525129723,
          8.580496569774082,
          8.936874706835587,
          9.305491034405371,
          9.68660764593425,
          10.080401017356024,
          10.487011847922421,
          10.906607181832717,
          11.33937905564762,
          11.785485170131372,
          12.244966218192552,
          12.717874592306655,
          13.204294389475866,
          13.70433367744388,
          14.217974154705187,
          14.745099561433689,
          15.285636915546501,
          15.83955985153482,
          16.40683925473002,
          16.987214686476786,
          17.580402054433367,
          18.18618672697474,
          18.804421429985346,
          19.4348282183739,
          20.07692309554314,
          20.73029656605001,
          21.394605225999648,
          22.069475975297703,
          22.754301939981538,
          23.448506019081233,
          24.151577256440643,
          24.86303723161951,
          25.582187029373618,
          26.308274103027564,
          27.040638489908073,
          27.778710999288432,
          28.52181857823188,
          29.269056083224296,
          30.019619812542928,
          30.772835245768267,
          31.528108188922175,
          32.28454615829089,
          33.04122225013291,
          33.79737574875098,
          34.55240797555814,
          35.305647450390786,
          36.05612403035807,
          36.80302362736128,
          37.54571967053823,
          38.28373055794228,
          39.016270051762696,
          39.74250305819942,
          40.46180320525449,
          41.17374404813125,
          41.877888487109495,
          42.57346991818074,
          43.25989130177672,
          43.93675644297552,
          44.60384210411967,
          45.26067040812306,
          45.90668818625766,
          46.54154484674255,
          47.16507849648468,
          47.77716444046187,
          48.37737082909619,
          48.9654037592806,
          49.541139971808256,
          50.104611565048344,
          50.655673619032996,
          51.19408558720674,
          51.71976647716932,
          52.232778108025045,
          52.73323590886917,
          53.22101482246167,
          53.696074422070524,
          54.158494007266626,
          54.60846411180089,
          55.046076272765426,
          55.471318673358816,
          55.884284710883946,
          56.28516064094902,
          56.67419446144754,
          57.051467262860186,
          57.41706177446993,
          57.77114850628924,
          58.11397985685805,
          58.44582599472846,
          58.766770812888154,
          59.07694225875604,
          59.37655385755275,
          59.66590266355638,
          59.94525767791674,
          60.21469137703505,
          60.47434971459439,
          60.72447228024728,
          60.965390547280954,
          61.197341788219866,
          61.42037587381399,
          61.634643275074886,
          61.84040335875573,
          62.03801174864656,
          62.2276148486117,
          62.40928506180232,
          62.58321494390549,
          62.749684849408396,
          62.90890816628166,
          63.060983450262555,
          63.206078410425484,
          63.34440666737147,
          63.476192296947254,
          63.60155274286093,
          63.72062057893027,
          63.833565562875776,
          63.940593478148934,
          64.04190425968649,
          64.13757618223116,
          64.22770513663785,
          64.31244617946884,
          64.39201313138915,
          64.46661784520741,
          64.53628459935369,
          64.60109842571,
          64.66121830494791,
          64.71685283802798,
          64.7680782876419,
          64.81496294622518,
          64.8576268139292,
          64.89623298045623,
          64.93090951026527,
          64.9617006269023,
          64.9886872788559,
          65.01199212944053,
          65.03177691063756,
          65.04813708846498,
          65.06108137242776,
          65.07067267553808,
          65.07703607096333,
          65.08035255772236,
          65.08067697471071,
          65.07800265454803,
          65.07240390075992,
          65.06401918222988,
          65.05295591692358,
          65.03921645249315,
          65.02285453700951,
          65.00396560845373,
          64.982668017335,
          64.95898820766634,
          64.93294873325274,
          64.90461295451398,
          64.8740834070188,
          64.84146444184208,
          64.80674773690102,
          64.76994243490479,
          64.73111239461966,
          64.69037561721942,
          64.64782793352924,
          64.60342809520868,
          64.55719784834162,
          64.50921495541611,
          64.45958941164649,
          64.40832091738501,
          64.35541662998416,
          64.30092635506796,
          64.24493692397408,
          64.18749659507282,
          64.12859431064733,
          64.06825390665689,
          64.00653537774762,
          63.94352855966619,
          63.87925049342485,
          63.813677945280475,
          63.74683411987805,
          63.67878916617766,
          63.609642804087805,
          63.53937707992194,
          63.46797460640891,
          63.39547197256317,
          63.321951773893524,
          63.24745028890791,
          63.1719446756458,
          63.09545317776288,
          63.018028294425534,
          62.93973626583084,
          62.86056601620939,
          62.78051348662715,
          62.69960799897827,
          62.61791107856788,
          62.53547405670282,
          62.45226646985613,
          62.368283444513295,
          62.283560410222705,
          62.198172524482054,
          62.112152574583995,
          62.02546000479682,
          61.93810192684265,
          61.85012581885783,
          61.76159657950347,
          61.67249358856222,
          61.582809864404936,
          61.49257109059033,
          61.40183228684833,
          61.31061579296073,
          61.218899048387456,
          61.12668823057743,
          61.03401824146428,
          60.940946825717546,
          60.847472933640496,
          60.753570610600676,
          60.659249096550454,
          60.56455219702643,
          60.46954546852078,
          60.37420834208108,
          60.27850631136515,
          60.182450988743014,
          60.086098824380905,
          59.989516390905536,
          59.89265509023174,
          59.79550188862917,
          59.698085498981655,
          59.600461956694126,
          59.50262110504263,
          59.40455215173111,
          59.3062708097961,
          59.20781405552072,
          59.10919791008562,
          59.01040734644617,
          58.91144598511699,
          58.81233663537203,
          58.713119322187815,
          58.61380073506771,
          58.51435473331767,
          58.41478085486628,
          58.315106934658964,
          58.21538720657928,
          58.115623045636546,
          58.01578119269589,
          57.91586756785534,
          57.815919090524034,
          57.7159673234862,
          57.615987927894814,
          57.515980229720704,
          57.41596394861951,
          57.31597407136468,
          57.216007555406456,
          57.116050965964114,
          57.01611072690565,
          56.916212199713755,
          56.816391503422324,
          56.716635342802206,
          56.616922851789475,
          56.51726008079653,
          56.417679756423894,
          56.318227844150215,
          56.218877260248675,
          56.119610018055866,
          56.020439793511024,
          55.921406583859955,
          55.82251592819454,
          55.723748393097026,
          55.62510805445101,
          55.52661775883333,
          55.428304482501275,
          55.330153060912814,
          55.232155955854466,
          55.13432337379231,
          55.03668286075132,
          54.93925806857451,
          54.842024909707625,
          54.7449715524252,
          54.64811028544222,
          54.55147731533623,
          54.455099028012384,
          54.35894044174022,
          54.26299511556673,
          54.16728249265621,
          54.071839208863125,
          53.97665301923535,
          53.88171136884978,
          53.787021993528874,
          53.69261020992871,
          53.5984911920316,
          53.50464685249697,
          53.41107369248463,
          53.31778476543843,
          53.22480903080729,
          53.132155367613905,
          53.039798942066724,
          52.9477340559118,
          52.85597744693947,
          52.76456735230369,
          52.673507325296804,
          52.58276812481861,
          52.49234964180248,
          52.40227566993053,
          52.312574750785615,
          52.22322578609874,
          52.13422184825875,
          52.045573674833705,
          51.95730765513055,
          51.86942714198076,
          51.78191533501735,
          51.69477183639953,
          51.60801216211168,
          51.52166480983399,
          51.43572549253098,
          51.35017229289423,
          51.26500428915271,
          51.18024184818711,
          51.09592157453508,
          51.01202984445101,
          50.928544663355794,
          50.845470672904,
          50.76283530247481,
          50.680655400217105,
          50.59890828383077,
          50.51759066206974,
          50.43671587231298,
          50.35630976028946,
          50.276366090006434,
          50.196870321047584,
          50.11782455978556,
          50.039246598164205,
          49.96116265614376,
          49.883558400556154,
          49.80641554365399,
          49.72973693887506,
          49.65354619514703,
          49.57787520182497,
          49.5026991257992,
          49.42800223523624,
          49.353793097167255,
          49.28010168864087,
          49.206932512033276,
          49.13426476224296,
          49.062097659538054,
          48.99044698468059,
          48.91933638841811,
          48.848752174199916,
          48.77868228718874,
          48.70913108276728,
          48.64011862179619,
          48.5716667449613,
          48.50375399751185,
          48.436365682874175,
          48.36950797615644,
          48.3032076352196,
          48.23748866001141,
          48.1723200624406,
          48.10769117222369,
          48.04361409311957,
          47.98011966146908,
          47.917201471227095,
          47.85484115910485,
          47.79304017436009,
          47.731816730957675,
          47.671190506825646,
          47.61114246746909,
          47.55166275784379,
          47.4927578234445,
          47.43445010050761,
          47.37675474055906,
          47.31964613547508,
          47.26311259268193,
          47.207163354198,
          47.15182842124014,
          47.097120470783146,
          47.04300720607782,
          46.989481478353554,
          46.93655846912006,
          46.8842673303553,
          46.832590278865965,
          46.78151018407496,
          46.73102888813743,
          46.68116489447293,
          46.63192862750784,
          46.58329396386025,
          46.535246965958436,
          46.48778788429581,
          46.4409306550608,
          46.394666829403626,
          46.348950077219534,
          46.30374365841059,
          46.259021860076395,
          46.214768959078384,
          46.170920200004595,
          46.12736067225567,
          46.083977947570446,
          46.04065663612751,
          45.99726522935895,
          45.953590852109045,
          45.90941986551348,
          45.864576932381176,
          45.81892428940279,
          45.77235303838761,
          45.72481841878153,
          45.6763664914592,
          45.62713095157371,
          45.577325771566265,
          45.52715289241298,
          45.47680074977102,
          45.42645777579746,
          45.37630683693756,
          45.32651989426615,
          45.27719288190086,
          45.22838313444988,
          45.18015525630965,
          45.13258068945715,
          45.085729657928596,
          45.03960441980763,
          44.99419230557125,
          44.949506544700775,
          44.90558551534468,
          44.862472978069235,
          44.82013413498053,
          44.77855069682455,
          44.73773317247473,
          44.69771583063704,
          44.658493572995056,
          44.62004236129464,
          44.58236079810852,
          44.54546493110711,
          44.50937251871403,
          44.474061126623766,
          44.43951737706765,
          44.405744188635765,
          44.37276040437996,
          44.34058322489111,
          44.30918421167628,
          44.278544708465546,
          44.24867012941037,
          44.219589689701166,
          44.19133567415315,
          44.16387371237352,
          44.1371915995957,
          44.11130899678703,
          44.08627310046966,
          44.06209490975282,
          44.03877134098859,
          44.016326968848375,
          43.994809335558685,
          43.97427345574356,
          43.95473068109209,
          43.93619389537457,
          43.91868116727038,
          43.90221514448542,
          43.88680951843735,
          43.872409265703325,
          43.8589537716141,
          43.846407285670416,
          43.83475868008844,
          43.82400595259777,
          43.81407698803728,
          43.804919194181466,
          43.79651799510611,
          43.78889125048814,
          43.7820193880905,
          43.77586280431668,
          43.77040919409088,
          43.76566820242544,
          43.761654647904805,
          43.758338346892714,
          43.755698460393575,
          43.7537337778738,
          43.7524622636834,
          43.75190170346688,
          43.75201456803424,
          43.75277283852513,
          43.754176666868204,
          43.75625404738683,
          43.75903557601023,
          43.76247112878407,
          43.76653507222407,
          43.7712354558789,
          43.776608024558826,
          43.782639566057135,
          43.7892991813813,
          43.79658367780389,
          43.80451275532343,
          43.81310970762454,
          43.82234951508879,
          43.832221207909505,
          43.84273939947673,
          43.85394384435413,
          43.865877196680685,
          43.87853120058634,
          43.891921804482315,
          43.90610817076914,
          43.92119223639019,
          43.93728551835367,
          43.954434351056655,
          43.97271992368872,
          43.99224880134905,
          44.0131466392528,
          44.03545768910944,
          44.059161034220615,
          44.08422380560684,
          44.110596107736626,
          44.13820061794664,
          44.166890976674146,
          44.19652582659172,
          44.227000903417505,
          44.25824872408475,
          44.29021595528867,
          44.32279375601089,
          44.35589770511291,
          44.38949059448337,
          44.423581890654496,
          44.45817860719978,
          44.4931978214539,
          44.52860240615658,
          44.5643955720838,
          44.600607771968384,
          44.63720143875187,
          44.67414103337377,
          44.71141981065486,
          44.74905557189283,
          44.787050249994145,
          44.82536352902707,
          44.863975396029275,
          44.9028881730692,
          44.942125659910566,
          44.98168549985758,
          45.02151730243349,
          45.0615968864806,
          45.10193216922916,
          45.14256262913389,
          45.183488402965715,
          45.22464900329999,
          45.266027999362656,
          45.307645902373835,
          45.34953898367341,
          45.391670526030104,
          45.43402042220086,
          45.47659944816196,
          45.51944660397143,
          45.5625806650054,
          45.60598759181946,
          45.64968318272769,
          45.69371375790159,
          45.738154207561465,
          45.783046512258586,
          45.82839369925714,
          45.87421574784847,
          45.92054925063023,
          45.96744588779395,
          46.01488561629861,
          46.06277559957168,
          46.11105634956299,
          46.159697467933185,
          46.20867457562932,
          46.25789174413053,
          46.307276302470925,
          46.356792136746535,
          46.40643744411611,
          46.456186189630145,
          46.50597515012918,
          46.55577194890163,
          46.60557489052543,
          46.65540922108753,
          46.70525138177984,
          46.755045608430514,
          46.804771172408024,
          46.854442494644985,
          46.90410301456402,
          46.95372409315454,
          47.00323936706354,
          47.05262935413943,
          47.101921433608155,
          47.151174598977114,
          47.20033522111647,
          47.249352951867095,
          47.29822832963377,
          47.34700140476377,
          47.39566530022229,
          47.44417953633273,
          47.492537345793906,
          47.54075727306765,
          47.58886126180376,
          47.63682266123307,
          47.684630973648815,
          47.73230193486003,
          47.77987717843491,
          47.827403023589035,
          47.87487355595314,
          47.9223096046049,
          47.96978264624109,
          48.01741437109678,
          48.065350734632055,
          48.11367016479889,
          48.16249662885835,
          48.21199749577134,
          48.262374877281545,
          48.31375245207372,
          48.36618338409037,
          48.41968453524958,
          48.474226875330224,
          48.52972428022353,
          48.58598312737528,
          48.642797129256124,
          48.699992555477266,
          48.757428113515424,
          48.814980694309234,
          48.87248641289548,
          48.92980914606776,
          48.98687154648568,
          49.04365453178753,
          49.10016126038415,
          49.156291485844996,
          49.21199058870062,
          49.26725305134485,
          49.32210833410987,
          49.37652111064606,
          49.43045602091003,
          49.48390731484411,
          49.53689331074899,
          49.589417558899264,
          49.64144675178778,
          49.69296628109076,
          49.74398161196809,
          49.79451784383079,
          49.844581574180076,
          49.894128677890386,
          49.943137768353196,
          49.99161927438434,
          50.039615178348825,
          50.08715032039955,
          50.13416512778827,
          50.18064473477893,
          50.226612384162934,
          50.27211328702385,
          50.31712472828088,
          50.361635012899264,
          50.40566250380672,
          50.44925221488559,
          50.49243578726723,
          50.53521669894672,
          50.577627986417674,
          50.619734034844726,
          50.661629562199465,
          50.703393189275374,
          50.74507072774319,
          50.78672181693378,
          50.828419748129974,
          50.87025134173546,
          50.91225374744609,
          50.954345199617684,
          50.99646148546806,
          51.0385535088557,
          51.08057383137156,
          51.122407074045206,
          51.163952307459624,
          51.20514577988527,
          51.245958378888766,
          51.286352470704145,
          51.3262616544917,
          51.365647972684116,
          51.4045023569484,
          51.44284333600978,
          51.480662592084414,
          51.51791130786694,
          51.55456989930054,
          51.59065123445521,
          51.626199303747846,
          51.66121045005329,
          51.69563649660319,
          51.729470269505626,
          51.76273805867822,
          51.795474469170394,
          51.82764508125948,
          51.85923455575272,
          51.89025229924375,
          51.920730009512525,
          51.950671207127535,
          51.980048756874375,
          52.008858063060586,
          52.037116676810165,
          52.064861908984206,
          52.092093551271624,
          52.11877996376934,
          52.14491972795241,
          52.170543428328116,
          52.19571055787635,
          52.220426766716145,
          52.24467461075443,
          52.26848326817706,
          52.29192273173712,
          52.31507138255772,
          52.337958270636484,
          52.3606476383108,
          52.38323550836501,
          52.40584584623128,
          52.4285652826305,
          52.451447394595746,
          52.474536063364624,
          52.49786114538025,
          52.5214355789996,
          52.54518915191559,
          52.56899204601838,
          52.592742613978245,
          52.616371197075374,
          52.639832277915055,
          52.66301221879315,
          52.68580597671547,
          52.708161782554946,
          52.73006568232202,
          52.751450635605764,
          52.772310423237485,
          52.79247992298046,
          52.81157716768538,
          52.82885226262277,
          52.843692942241134,
          52.85590099270091,
          52.86553314626045,
          52.872733380595086,
          52.877579249101046,
          52.8801885695952,
          52.88063255441827,
          52.87887360663223,
          52.87480466787914,
          52.868238527820694,
          52.85894890258333,
          52.846915872373586,
          52.83222143093661,
          52.81501973107167,
          52.79543130497379,
          52.77354387986334,
          52.749457948527954,
          52.72327935152584,
          52.69503228080354,
          52.66467687920164,
          52.63221787340957,
          52.5976961585808,
          52.561248455960204,
          52.523061037384394,
          52.483291602147155,
          52.44207175308684,
          52.39956930879348,
          52.35598513652523,
          52.31144851064268,
          52.266020825637575,
          52.219835726863046,
          52.17309833300158,
          52.125988178626116,
          52.07867269576382,
          52.031264497584985,
          51.98378565148359,
          51.93618275466745,
          51.88835119491821,
          51.8400807351546,
          51.79113854111329,
          51.741284198400976,
          51.69038768974242,
          51.63840532000263,
          51.58530043047788,
          51.53106380740899,
          51.47570841057788,
          51.419228209326896,
          51.36160113856984,
          51.302800479823055,
          51.24279477307776,
          51.1815516463038,
          51.11908240430294,
          51.05539931626514,
          50.99051955922928,
          50.92447315572077,
          50.85730288355508,
          50.78905277970859,
          50.719725752448575,
          50.649393860193435,
          50.578135981156514,
          50.50602483754213,
          50.43312591195906,
          50.35920500480508,
          50.28380391628085,
          50.20677536066332,
          50.1285167035989,
          50.04945303371017,
          49.96973475209622,
          49.88933712172967,
          49.80827980141171,
          49.726616049104614,
          49.64437532880792,
          49.56161055172568,
          49.47838413173117,
          49.394790161990244,
          49.310986255100396,
          49.227166659340426,
          49.14356977524443,
          49.06046083936082,
          48.97813319517417,
          48.89689841034513,
          48.81704835259885,
          48.73882278795625,
          48.66211917420563,
          48.58687222278077,
          48.51327782805331,
          48.441381358639475,
          48.37089665479437,
          48.301382030879026,
          48.23231304502359,
          48.16321321390281,
          48.093787814467746,
          48.023821080295555,
          47.95310624452379,
          47.88150309329935,
          47.80907903223302,
          47.735904184730686,
          47.66198972616913,
          47.58732892546505,
          47.51193788069371,
          47.43583290892305,
          47.35905207023421,
          47.281709748113244,
          47.204061828285354,
          47.12627631051484,
          47.048110881309,
          46.96934751278818,
          46.889968360502166,
          46.810010114320306,
          46.729497842104934,
          46.64845685962533,
          46.56689350520343,
          46.48476314589768,
          46.4018778553702,
          46.31812542659647,
          46.23377663569579,
          46.149063298767665,
          46.06403807253805,
          45.97870780837185,
          45.89307472876435,
          45.80714715338607,
          45.720954197997344,
          45.6345380668376,
          45.54797434361868,
          45.461326969912314,
          45.37463273680201,
          45.28794731934877,
          45.20135391933701,
          45.11495728348637,
          45.02886430318635,
          44.94319205016318,
          44.858070427678875,
          44.77363658529835,
          44.69004194084187,
          44.607366407028195,
          44.52550509409765,
          44.444308749225215,
          44.363592736955596,
          44.28302760089113,
          44.20232919172502,
          44.121617252576456,
          44.041014574218984,
          43.96051270362367,
          43.88005280220364,
          43.799591923176756,
          43.71909525243787,
          43.63853300207085,
          43.55788877556174,
          43.477148611104845,
          43.39630673439411,
          43.31537108577568,
          43.23435045140669,
          43.15323558859572,
          43.071998639114376,
          42.99062320584786,
          42.909143860514874,
          42.82758830923325,
          42.74592366733317,
          42.66401764601007,
          42.58178740160436,
          42.49934027111979,
          42.4168122043694,
          42.33422832897006,
          42.2515639847608,
          42.16879390335504,
          42.085961389767775,
          42.003100122215926,
          41.92020081454011,
          41.837205438049246,
          41.754077247790434,
          41.670869162413844,
          41.58764694947889,
          41.50443919552558,
          41.42127655771042,
          41.338178327937975,
          41.25511531148316,
          41.17207062236341,
          41.08909389491919,
          41.006355672356825,
          40.92396476062353,
          40.841777372219774,
          40.75961147360846,
          40.677418634939386,
          40.595186795522366,
          40.51291765232212,
          40.430623953487256,
          40.3483146247252,
          40.26593454870488,
          40.183339082327564,
          40.100395636322126,
          40.01728449732045,
          39.93418218335329,
          39.85114575295192,
          39.768190228413836,
          39.68531954884746,
          39.60253023996334,
          39.519819222408714,
          39.43719821572641,
          39.35469604850158,
          39.27233911573233,
          39.190114043997326,
          39.10800006617438,
          39.025988157961585,
          38.944075065554614,
          38.86225922345035,
          38.78054808789749,
          38.698954707737485,
          38.617514831149514,
          38.53629240842167,
          38.45534451148035,
          38.37460367104014,
          38.29399305033754,
          38.21349377609243,
          38.13310976073849,
          38.052845544006445,
          37.97270221560468,
          37.89267879720878,
          37.812776469987654,
          37.732997626084355,
          37.65334286715845,
          37.57381284618342,
          37.494409130171334,
          37.415133520291164,
          37.335986622722956,
          37.256969457394646,
          37.17808252325762,
          37.0993274392522,
          37.02069311317599,
          36.942122354923264,
          36.86360236616507,
          36.7851764727771,
          36.70689120948197,
          36.62875776415826,
          36.55077027652233,
          36.47291911162985,
          36.39520585656071,
          36.31762583250893,
          36.24014897573476,
          36.16271359716158,
          36.085263522543784,
          36.007840097766234,
          35.93049134872767,
          35.85322693149004,
          35.77603798774656,
          35.698920237265554,
          35.621881863355654,
          35.54493450640953,
          35.46810259096224,
          35.39144006033057,
          35.314977903018814,
          35.23869659919197,
          35.162547945266155,
          35.08651643092456,
          35.01060226298197,
          34.934808122378264,
          34.85913919655416,
          34.783598740359174,
          34.70818474586255,
          34.63288574062179,
          34.557702530585814,
          34.4826494450656,
          34.40774737743556,
          34.33301998454988,
          34.258528499743576,
          34.18428427622356,
          34.11023981824596,
          34.03635483695755,
          33.96262474666617,
          33.88906086482512,
          33.81566836554642,
          33.74243590939399,
          33.669351829953214,
          33.59640167595578,
          33.52355178480839,
          33.45077960668895,
          33.37812972019411,
          33.30565584020961,
          33.23336762229029,
          33.16126006862024,
          33.08933166027344,
          33.01759893356709,
          32.94608270672915,
          32.874798755498176,
          32.80376275971186,
          32.732982349202665,
          32.66244666207863,
          32.59213084367521,
          32.52198764455705,
          32.4519201410994,
          32.381829416973225,
          32.31178974021255,
          32.241887383084,
          32.17214884016601,
          32.10258449275429,
          32.03319655734208,
          31.963973556093602,
          31.894899782608086,
          31.825970988264704,
          31.75718202290768,
          31.68852899594003,
          31.62001536022343,
          31.551644077704044,
          31.48341066586162,
          31.415284673732355,
          31.34725912837166,
          31.279357178498902,
          31.211595070562836,
          31.143946374187525,
          31.076323427654998,
          31.00865282465851,
          30.941010058619813,
          30.8734883420621,
          30.806119320309726,
          30.738918405079485,
          30.67189189170781,
          30.605027464256764,
          30.538307111366766,
          30.47171103500331,
          30.405186897717957,
          30.33869220105528,
          30.272275206988745,
          30.205984774095988,
          30.139841450690852,
          30.073852603769463,
          30.00802108401493,
          29.942346380292925,
          29.876822986779178,
          29.81149906351684,
          29.746491788098773,
          29.681892042381445,
          29.617595728198342,
          29.553510526028695,
          29.489590062218685,
          29.42581333046438
         ],
         "yaxis": "y"
        },
        {
         "hovertemplate": "x=%{x}<br>y=%{y}<extra></extra>",
         "legendgroup": "",
         "marker": {
          "color": "red",
          "symbol": "circle"
         },
         "mode": "markers",
         "name": "",
         "orientation": "v",
         "showlegend": false,
         "type": "scatter",
         "x": [
          2016
         ],
         "xaxis": "x",
         "y": [
          30.8
         ],
         "yaxis": "y"
        }
       ],
       "layout": {
        "template": {
         "data": {
          "bar": [
           {
            "error_x": {
             "color": "#2a3f5f"
            },
            "error_y": {
             "color": "#2a3f5f"
            },
            "marker": {
             "line": {
              "color": "#E5ECF6",
              "width": 0.5
             },
             "pattern": {
              "fillmode": "overlay",
              "size": 10,
              "solidity": 0.2
             }
            },
            "type": "bar"
           }
          ],
          "barpolar": [
           {
            "marker": {
             "line": {
              "color": "#E5ECF6",
              "width": 0.5
             },
             "pattern": {
              "fillmode": "overlay",
              "size": 10,
              "solidity": 0.2
             }
            },
            "type": "barpolar"
           }
          ],
          "carpet": [
           {
            "aaxis": {
             "endlinecolor": "#2a3f5f",
             "gridcolor": "white",
             "linecolor": "white",
             "minorgridcolor": "white",
             "startlinecolor": "#2a3f5f"
            },
            "baxis": {
             "endlinecolor": "#2a3f5f",
             "gridcolor": "white",
             "linecolor": "white",
             "minorgridcolor": "white",
             "startlinecolor": "#2a3f5f"
            },
            "type": "carpet"
           }
          ],
          "choropleth": [
           {
            "colorbar": {
             "outlinewidth": 0,
             "ticks": ""
            },
            "type": "choropleth"
           }
          ],
          "contour": [
           {
            "colorbar": {
             "outlinewidth": 0,
             "ticks": ""
            },
            "colorscale": [
             [
              0,
              "#0d0887"
             ],
             [
              0.1111111111111111,
              "#46039f"
             ],
             [
              0.2222222222222222,
              "#7201a8"
             ],
             [
              0.3333333333333333,
              "#9c179e"
             ],
             [
              0.4444444444444444,
              "#bd3786"
             ],
             [
              0.5555555555555556,
              "#d8576b"
             ],
             [
              0.6666666666666666,
              "#ed7953"
             ],
             [
              0.7777777777777778,
              "#fb9f3a"
             ],
             [
              0.8888888888888888,
              "#fdca26"
             ],
             [
              1,
              "#f0f921"
             ]
            ],
            "type": "contour"
           }
          ],
          "contourcarpet": [
           {
            "colorbar": {
             "outlinewidth": 0,
             "ticks": ""
            },
            "type": "contourcarpet"
           }
          ],
          "heatmap": [
           {
            "colorbar": {
             "outlinewidth": 0,
             "ticks": ""
            },
            "colorscale": [
             [
              0,
              "#0d0887"
             ],
             [
              0.1111111111111111,
              "#46039f"
             ],
             [
              0.2222222222222222,
              "#7201a8"
             ],
             [
              0.3333333333333333,
              "#9c179e"
             ],
             [
              0.4444444444444444,
              "#bd3786"
             ],
             [
              0.5555555555555556,
              "#d8576b"
             ],
             [
              0.6666666666666666,
              "#ed7953"
             ],
             [
              0.7777777777777778,
              "#fb9f3a"
             ],
             [
              0.8888888888888888,
              "#fdca26"
             ],
             [
              1,
              "#f0f921"
             ]
            ],
            "type": "heatmap"
           }
          ],
          "heatmapgl": [
           {
            "colorbar": {
             "outlinewidth": 0,
             "ticks": ""
            },
            "colorscale": [
             [
              0,
              "#0d0887"
             ],
             [
              0.1111111111111111,
              "#46039f"
             ],
             [
              0.2222222222222222,
              "#7201a8"
             ],
             [
              0.3333333333333333,
              "#9c179e"
             ],
             [
              0.4444444444444444,
              "#bd3786"
             ],
             [
              0.5555555555555556,
              "#d8576b"
             ],
             [
              0.6666666666666666,
              "#ed7953"
             ],
             [
              0.7777777777777778,
              "#fb9f3a"
             ],
             [
              0.8888888888888888,
              "#fdca26"
             ],
             [
              1,
              "#f0f921"
             ]
            ],
            "type": "heatmapgl"
           }
          ],
          "histogram": [
           {
            "marker": {
             "pattern": {
              "fillmode": "overlay",
              "size": 10,
              "solidity": 0.2
             }
            },
            "type": "histogram"
           }
          ],
          "histogram2d": [
           {
            "colorbar": {
             "outlinewidth": 0,
             "ticks": ""
            },
            "colorscale": [
             [
              0,
              "#0d0887"
             ],
             [
              0.1111111111111111,
              "#46039f"
             ],
             [
              0.2222222222222222,
              "#7201a8"
             ],
             [
              0.3333333333333333,
              "#9c179e"
             ],
             [
              0.4444444444444444,
              "#bd3786"
             ],
             [
              0.5555555555555556,
              "#d8576b"
             ],
             [
              0.6666666666666666,
              "#ed7953"
             ],
             [
              0.7777777777777778,
              "#fb9f3a"
             ],
             [
              0.8888888888888888,
              "#fdca26"
             ],
             [
              1,
              "#f0f921"
             ]
            ],
            "type": "histogram2d"
           }
          ],
          "histogram2dcontour": [
           {
            "colorbar": {
             "outlinewidth": 0,
             "ticks": ""
            },
            "colorscale": [
             [
              0,
              "#0d0887"
             ],
             [
              0.1111111111111111,
              "#46039f"
             ],
             [
              0.2222222222222222,
              "#7201a8"
             ],
             [
              0.3333333333333333,
              "#9c179e"
             ],
             [
              0.4444444444444444,
              "#bd3786"
             ],
             [
              0.5555555555555556,
              "#d8576b"
             ],
             [
              0.6666666666666666,
              "#ed7953"
             ],
             [
              0.7777777777777778,
              "#fb9f3a"
             ],
             [
              0.8888888888888888,
              "#fdca26"
             ],
             [
              1,
              "#f0f921"
             ]
            ],
            "type": "histogram2dcontour"
           }
          ],
          "mesh3d": [
           {
            "colorbar": {
             "outlinewidth": 0,
             "ticks": ""
            },
            "type": "mesh3d"
           }
          ],
          "parcoords": [
           {
            "line": {
             "colorbar": {
              "outlinewidth": 0,
              "ticks": ""
             }
            },
            "type": "parcoords"
           }
          ],
          "pie": [
           {
            "automargin": true,
            "type": "pie"
           }
          ],
          "scatter": [
           {
            "fillpattern": {
             "fillmode": "overlay",
             "size": 10,
             "solidity": 0.2
            },
            "type": "scatter"
           }
          ],
          "scatter3d": [
           {
            "line": {
             "colorbar": {
              "outlinewidth": 0,
              "ticks": ""
             }
            },
            "marker": {
             "colorbar": {
              "outlinewidth": 0,
              "ticks": ""
             }
            },
            "type": "scatter3d"
           }
          ],
          "scattercarpet": [
           {
            "marker": {
             "colorbar": {
              "outlinewidth": 0,
              "ticks": ""
             }
            },
            "type": "scattercarpet"
           }
          ],
          "scattergeo": [
           {
            "marker": {
             "colorbar": {
              "outlinewidth": 0,
              "ticks": ""
             }
            },
            "type": "scattergeo"
           }
          ],
          "scattergl": [
           {
            "marker": {
             "colorbar": {
              "outlinewidth": 0,
              "ticks": ""
             }
            },
            "type": "scattergl"
           }
          ],
          "scattermapbox": [
           {
            "marker": {
             "colorbar": {
              "outlinewidth": 0,
              "ticks": ""
             }
            },
            "type": "scattermapbox"
           }
          ],
          "scatterpolar": [
           {
            "marker": {
             "colorbar": {
              "outlinewidth": 0,
              "ticks": ""
             }
            },
            "type": "scatterpolar"
           }
          ],
          "scatterpolargl": [
           {
            "marker": {
             "colorbar": {
              "outlinewidth": 0,
              "ticks": ""
             }
            },
            "type": "scatterpolargl"
           }
          ],
          "scatterternary": [
           {
            "marker": {
             "colorbar": {
              "outlinewidth": 0,
              "ticks": ""
             }
            },
            "type": "scatterternary"
           }
          ],
          "surface": [
           {
            "colorbar": {
             "outlinewidth": 0,
             "ticks": ""
            },
            "colorscale": [
             [
              0,
              "#0d0887"
             ],
             [
              0.1111111111111111,
              "#46039f"
             ],
             [
              0.2222222222222222,
              "#7201a8"
             ],
             [
              0.3333333333333333,
              "#9c179e"
             ],
             [
              0.4444444444444444,
              "#bd3786"
             ],
             [
              0.5555555555555556,
              "#d8576b"
             ],
             [
              0.6666666666666666,
              "#ed7953"
             ],
             [
              0.7777777777777778,
              "#fb9f3a"
             ],
             [
              0.8888888888888888,
              "#fdca26"
             ],
             [
              1,
              "#f0f921"
             ]
            ],
            "type": "surface"
           }
          ],
          "table": [
           {
            "cells": {
             "fill": {
              "color": "#EBF0F8"
             },
             "line": {
              "color": "white"
             }
            },
            "header": {
             "fill": {
              "color": "#C8D4E3"
             },
             "line": {
              "color": "white"
             }
            },
            "type": "table"
           }
          ]
         },
         "layout": {
          "annotationdefaults": {
           "arrowcolor": "#2a3f5f",
           "arrowhead": 0,
           "arrowwidth": 1
          },
          "autotypenumbers": "strict",
          "coloraxis": {
           "colorbar": {
            "outlinewidth": 0,
            "ticks": ""
           }
          },
          "colorscale": {
           "diverging": [
            [
             0,
             "#8e0152"
            ],
            [
             0.1,
             "#c51b7d"
            ],
            [
             0.2,
             "#de77ae"
            ],
            [
             0.3,
             "#f1b6da"
            ],
            [
             0.4,
             "#fde0ef"
            ],
            [
             0.5,
             "#f7f7f7"
            ],
            [
             0.6,
             "#e6f5d0"
            ],
            [
             0.7,
             "#b8e186"
            ],
            [
             0.8,
             "#7fbc41"
            ],
            [
             0.9,
             "#4d9221"
            ],
            [
             1,
             "#276419"
            ]
           ],
           "sequential": [
            [
             0,
             "#0d0887"
            ],
            [
             0.1111111111111111,
             "#46039f"
            ],
            [
             0.2222222222222222,
             "#7201a8"
            ],
            [
             0.3333333333333333,
             "#9c179e"
            ],
            [
             0.4444444444444444,
             "#bd3786"
            ],
            [
             0.5555555555555556,
             "#d8576b"
            ],
            [
             0.6666666666666666,
             "#ed7953"
            ],
            [
             0.7777777777777778,
             "#fb9f3a"
            ],
            [
             0.8888888888888888,
             "#fdca26"
            ],
            [
             1,
             "#f0f921"
            ]
           ],
           "sequentialminus": [
            [
             0,
             "#0d0887"
            ],
            [
             0.1111111111111111,
             "#46039f"
            ],
            [
             0.2222222222222222,
             "#7201a8"
            ],
            [
             0.3333333333333333,
             "#9c179e"
            ],
            [
             0.4444444444444444,
             "#bd3786"
            ],
            [
             0.5555555555555556,
             "#d8576b"
            ],
            [
             0.6666666666666666,
             "#ed7953"
            ],
            [
             0.7777777777777778,
             "#fb9f3a"
            ],
            [
             0.8888888888888888,
             "#fdca26"
            ],
            [
             1,
             "#f0f921"
            ]
           ]
          },
          "colorway": [
           "#636efa",
           "#EF553B",
           "#00cc96",
           "#ab63fa",
           "#FFA15A",
           "#19d3f3",
           "#FF6692",
           "#B6E880",
           "#FF97FF",
           "#FECB52"
          ],
          "font": {
           "color": "#2a3f5f"
          },
          "geo": {
           "bgcolor": "white",
           "lakecolor": "white",
           "landcolor": "#E5ECF6",
           "showlakes": true,
           "showland": true,
           "subunitcolor": "white"
          },
          "hoverlabel": {
           "align": "left"
          },
          "hovermode": "closest",
          "mapbox": {
           "style": "light"
          },
          "paper_bgcolor": "white",
          "plot_bgcolor": "#E5ECF6",
          "polar": {
           "angularaxis": {
            "gridcolor": "white",
            "linecolor": "white",
            "ticks": ""
           },
           "bgcolor": "#E5ECF6",
           "radialaxis": {
            "gridcolor": "white",
            "linecolor": "white",
            "ticks": ""
           }
          },
          "scene": {
           "xaxis": {
            "backgroundcolor": "#E5ECF6",
            "gridcolor": "white",
            "gridwidth": 2,
            "linecolor": "white",
            "showbackground": true,
            "ticks": "",
            "zerolinecolor": "white"
           },
           "yaxis": {
            "backgroundcolor": "#E5ECF6",
            "gridcolor": "white",
            "gridwidth": 2,
            "linecolor": "white",
            "showbackground": true,
            "ticks": "",
            "zerolinecolor": "white"
           },
           "zaxis": {
            "backgroundcolor": "#E5ECF6",
            "gridcolor": "white",
            "gridwidth": 2,
            "linecolor": "white",
            "showbackground": true,
            "ticks": "",
            "zerolinecolor": "white"
           }
          },
          "shapedefaults": {
           "line": {
            "color": "#2a3f5f"
           }
          },
          "ternary": {
           "aaxis": {
            "gridcolor": "white",
            "linecolor": "white",
            "ticks": ""
           },
           "baxis": {
            "gridcolor": "white",
            "linecolor": "white",
            "ticks": ""
           },
           "bgcolor": "#E5ECF6",
           "caxis": {
            "gridcolor": "white",
            "linecolor": "white",
            "ticks": ""
           }
          },
          "title": {
           "x": 0.05
          },
          "xaxis": {
           "automargin": true,
           "gridcolor": "white",
           "linecolor": "white",
           "ticks": "",
           "title": {
            "standoff": 15
           },
           "zerolinecolor": "white",
           "zerolinewidth": 2
          },
          "yaxis": {
           "automargin": true,
           "gridcolor": "white",
           "linecolor": "white",
           "ticks": "",
           "title": {
            "standoff": 15
           },
           "zerolinecolor": "white",
           "zerolinewidth": 2
          }
         }
        },
        "title": {
         "text": "Modelled vs Data",
         "x": 0.5
        },
        "xaxis": {
         "title": {
          "text": "Year"
         }
        },
        "yaxis": {
         "title": {
          "text": "Percentage latent"
         }
        }
       }
      }
     },
     "metadata": {},
     "output_type": "display_data"
    }
   ],
   "source": [
    "latent_1 = px.line(\n",
    "    derived_df_0,\n",
    "    x=derived_df_0.index,\n",
    "    y=\"percentage_latent\",\n",
    ")\n",
    "latent_2 = px.scatter(x= plots['percentage_latent']['times'], y = plots['percentage_latent']['values'])\n",
    "latent_2.update_traces(marker=dict(color=\"red\"))\n",
    "latent_plot = go.Figure(\n",
    "    data=latent_1.data + latent_2.data,\n",
    ")\n",
    "latent_plot.update_layout(\n",
    "    title=\"Modelled vs Data\", title_x=0.5, xaxis_title=\"Year\", yaxis_title=\"Percentage latent\"\n",
    ")\n",
    "latent_plot.show()"
   ]
  },
  {
   "cell_type": "code",
   "execution_count": 16,
   "metadata": {},
   "outputs": [
    {
     "data": {
      "application/vnd.plotly.v1+json": {
       "config": {
        "plotlyServerURL": "https://plot.ly"
       },
       "data": [
        {
         "hovertemplate": "index=%{x}<br>notifications=%{y}<extra></extra>",
         "legendgroup": "",
         "line": {
          "color": "#636efa",
          "dash": "solid"
         },
         "marker": {
          "symbol": "circle"
         },
         "mode": "lines",
         "name": "",
         "showlegend": false,
         "type": "scattergl",
         "x": [
          1900,
          1900.1,
          1900.2,
          1900.3,
          1900.4,
          1900.5,
          1900.6,
          1900.7,
          1900.8,
          1900.9,
          1901,
          1901.1,
          1901.2,
          1901.3,
          1901.4,
          1901.5,
          1901.6,
          1901.7,
          1901.8,
          1901.9,
          1902,
          1902.1,
          1902.2,
          1902.3,
          1902.4,
          1902.5,
          1902.6,
          1902.7,
          1902.8,
          1902.9,
          1903,
          1903.1,
          1903.2,
          1903.3,
          1903.4,
          1903.5,
          1903.6,
          1903.7,
          1903.8,
          1903.9,
          1904,
          1904.1,
          1904.2,
          1904.3,
          1904.4,
          1904.5,
          1904.6,
          1904.7,
          1904.8,
          1904.9,
          1905,
          1905.1,
          1905.2,
          1905.3,
          1905.4,
          1905.5,
          1905.6,
          1905.7,
          1905.8,
          1905.9,
          1906,
          1906.1,
          1906.2,
          1906.3,
          1906.4,
          1906.5,
          1906.6,
          1906.7,
          1906.8,
          1906.9,
          1907,
          1907.1,
          1907.2,
          1907.3,
          1907.4,
          1907.5,
          1907.6,
          1907.7,
          1907.8,
          1907.9,
          1908,
          1908.1,
          1908.2,
          1908.3,
          1908.4,
          1908.5,
          1908.6,
          1908.7,
          1908.8,
          1908.9,
          1909,
          1909.1,
          1909.2,
          1909.3,
          1909.4,
          1909.5,
          1909.6,
          1909.7,
          1909.8,
          1909.9,
          1910,
          1910.1,
          1910.2,
          1910.3,
          1910.4,
          1910.5,
          1910.6,
          1910.7,
          1910.8,
          1910.9,
          1911,
          1911.1,
          1911.2,
          1911.3,
          1911.4,
          1911.5,
          1911.6,
          1911.7,
          1911.8,
          1911.9,
          1912,
          1912.1,
          1912.2,
          1912.3,
          1912.4,
          1912.5,
          1912.6,
          1912.7,
          1912.8,
          1912.9,
          1913,
          1913.1,
          1913.2,
          1913.3,
          1913.4,
          1913.5,
          1913.6,
          1913.7,
          1913.8,
          1913.9,
          1914,
          1914.1,
          1914.2,
          1914.3,
          1914.4,
          1914.5,
          1914.6,
          1914.7,
          1914.8,
          1914.9,
          1915,
          1915.1,
          1915.2,
          1915.3,
          1915.4,
          1915.5,
          1915.6,
          1915.7,
          1915.8,
          1915.9,
          1916,
          1916.1,
          1916.2,
          1916.3,
          1916.4,
          1916.5,
          1916.6,
          1916.7,
          1916.8,
          1916.9,
          1917,
          1917.1,
          1917.2,
          1917.3,
          1917.4,
          1917.5,
          1917.6,
          1917.7,
          1917.8,
          1917.9,
          1918,
          1918.1,
          1918.2,
          1918.3,
          1918.4,
          1918.5,
          1918.6,
          1918.7,
          1918.8,
          1918.9,
          1919,
          1919.1,
          1919.2,
          1919.3,
          1919.4,
          1919.5,
          1919.6,
          1919.7,
          1919.8,
          1919.9,
          1920,
          1920.1,
          1920.2,
          1920.3,
          1920.4,
          1920.5,
          1920.6,
          1920.7,
          1920.8,
          1920.9,
          1921,
          1921.1,
          1921.2,
          1921.3,
          1921.4,
          1921.5,
          1921.6,
          1921.7,
          1921.8,
          1921.9,
          1922,
          1922.1,
          1922.2,
          1922.3,
          1922.4,
          1922.5,
          1922.6,
          1922.7,
          1922.8,
          1922.9,
          1923,
          1923.1,
          1923.2,
          1923.3,
          1923.4,
          1923.5,
          1923.6,
          1923.7,
          1923.8,
          1923.9,
          1924,
          1924.1,
          1924.2,
          1924.3,
          1924.4,
          1924.5,
          1924.6,
          1924.7,
          1924.8,
          1924.9,
          1925,
          1925.1,
          1925.2,
          1925.3,
          1925.4,
          1925.5,
          1925.6,
          1925.7,
          1925.8,
          1925.9,
          1926,
          1926.1,
          1926.2,
          1926.3,
          1926.4,
          1926.5,
          1926.6,
          1926.7,
          1926.8,
          1926.9,
          1927,
          1927.1,
          1927.2,
          1927.3,
          1927.4,
          1927.5,
          1927.6,
          1927.7,
          1927.8,
          1927.9,
          1928,
          1928.1,
          1928.2,
          1928.3,
          1928.4,
          1928.5,
          1928.6,
          1928.7,
          1928.8,
          1928.9,
          1929,
          1929.1,
          1929.2,
          1929.3,
          1929.4,
          1929.5,
          1929.6,
          1929.7,
          1929.8,
          1929.9,
          1930,
          1930.1,
          1930.2,
          1930.3,
          1930.4,
          1930.5,
          1930.6,
          1930.7,
          1930.8,
          1930.9,
          1931,
          1931.1,
          1931.2,
          1931.3,
          1931.4,
          1931.5,
          1931.6,
          1931.7,
          1931.8,
          1931.9,
          1932,
          1932.1,
          1932.2,
          1932.3,
          1932.4,
          1932.5,
          1932.6,
          1932.7,
          1932.8,
          1932.9,
          1933,
          1933.1,
          1933.2,
          1933.3,
          1933.4,
          1933.5,
          1933.6,
          1933.7,
          1933.8,
          1933.9,
          1934,
          1934.1,
          1934.2,
          1934.3,
          1934.4,
          1934.5,
          1934.6,
          1934.7,
          1934.8,
          1934.9,
          1935,
          1935.1,
          1935.2,
          1935.3,
          1935.4,
          1935.5,
          1935.6,
          1935.7,
          1935.8,
          1935.9,
          1936,
          1936.1,
          1936.2,
          1936.3,
          1936.4,
          1936.5,
          1936.6,
          1936.7,
          1936.8,
          1936.9,
          1937,
          1937.1,
          1937.2,
          1937.3,
          1937.4,
          1937.5,
          1937.6,
          1937.7,
          1937.8,
          1937.9,
          1938,
          1938.1,
          1938.2,
          1938.3,
          1938.4,
          1938.5,
          1938.6,
          1938.7,
          1938.8,
          1938.9,
          1939,
          1939.1,
          1939.2,
          1939.3,
          1939.4,
          1939.5,
          1939.6,
          1939.7,
          1939.8,
          1939.9,
          1940,
          1940.1,
          1940.2,
          1940.3,
          1940.4,
          1940.5,
          1940.6,
          1940.7,
          1940.8,
          1940.9,
          1941,
          1941.1,
          1941.2,
          1941.3,
          1941.4,
          1941.5,
          1941.6,
          1941.7,
          1941.8,
          1941.9,
          1942,
          1942.1,
          1942.2,
          1942.3,
          1942.4,
          1942.5,
          1942.6,
          1942.7,
          1942.8,
          1942.9,
          1943,
          1943.1,
          1943.2,
          1943.3,
          1943.4,
          1943.5,
          1943.6,
          1943.7,
          1943.8,
          1943.9,
          1944,
          1944.1,
          1944.2,
          1944.3,
          1944.4,
          1944.5,
          1944.6,
          1944.7,
          1944.8,
          1944.9,
          1945,
          1945.1,
          1945.2,
          1945.3,
          1945.4,
          1945.5,
          1945.6,
          1945.7,
          1945.8,
          1945.9,
          1946,
          1946.1,
          1946.2,
          1946.3,
          1946.4,
          1946.5,
          1946.6,
          1946.7,
          1946.8,
          1946.9,
          1947,
          1947.1,
          1947.2,
          1947.3,
          1947.4,
          1947.5,
          1947.6,
          1947.7,
          1947.8,
          1947.9,
          1948,
          1948.1,
          1948.2,
          1948.3,
          1948.4,
          1948.5,
          1948.6,
          1948.7,
          1948.8,
          1948.9,
          1949,
          1949.1,
          1949.2,
          1949.3,
          1949.4,
          1949.5,
          1949.6,
          1949.7,
          1949.8,
          1949.9,
          1950,
          1950.1,
          1950.2,
          1950.3,
          1950.4,
          1950.5,
          1950.6,
          1950.7,
          1950.8,
          1950.9,
          1951,
          1951.1,
          1951.2,
          1951.3,
          1951.4,
          1951.5,
          1951.6,
          1951.7,
          1951.8,
          1951.9,
          1952,
          1952.1,
          1952.2,
          1952.3,
          1952.4,
          1952.5,
          1952.6,
          1952.7,
          1952.8,
          1952.9,
          1953,
          1953.1,
          1953.2,
          1953.3,
          1953.4,
          1953.5,
          1953.6,
          1953.7,
          1953.8,
          1953.9,
          1954,
          1954.1,
          1954.2,
          1954.3,
          1954.4,
          1954.5,
          1954.6,
          1954.7,
          1954.8,
          1954.9,
          1955,
          1955.1,
          1955.2,
          1955.3,
          1955.4,
          1955.5,
          1955.6,
          1955.7,
          1955.8,
          1955.9,
          1956,
          1956.1,
          1956.2,
          1956.3,
          1956.4,
          1956.5,
          1956.6,
          1956.7,
          1956.8,
          1956.9,
          1957,
          1957.1,
          1957.2,
          1957.3,
          1957.4,
          1957.5,
          1957.6,
          1957.7,
          1957.8,
          1957.9,
          1958,
          1958.1,
          1958.2,
          1958.3,
          1958.4,
          1958.5,
          1958.6,
          1958.7,
          1958.8,
          1958.9,
          1959,
          1959.1,
          1959.2,
          1959.3,
          1959.4,
          1959.5,
          1959.6,
          1959.7,
          1959.8,
          1959.9,
          1960,
          1960.1,
          1960.2,
          1960.3,
          1960.4,
          1960.5,
          1960.6,
          1960.7,
          1960.8,
          1960.9,
          1961,
          1961.1,
          1961.2,
          1961.3,
          1961.4,
          1961.5,
          1961.6,
          1961.7,
          1961.8,
          1961.9,
          1962,
          1962.1,
          1962.2,
          1962.3,
          1962.4,
          1962.5,
          1962.6,
          1962.7,
          1962.8,
          1962.9,
          1963,
          1963.1,
          1963.2,
          1963.3,
          1963.4,
          1963.5,
          1963.6,
          1963.7,
          1963.8,
          1963.9,
          1964,
          1964.1,
          1964.2,
          1964.3,
          1964.4,
          1964.5,
          1964.6,
          1964.7,
          1964.8,
          1964.9,
          1965,
          1965.1,
          1965.2,
          1965.3,
          1965.4,
          1965.5,
          1965.6,
          1965.7,
          1965.8,
          1965.9,
          1966,
          1966.1,
          1966.2,
          1966.3,
          1966.4,
          1966.5,
          1966.6,
          1966.7,
          1966.8,
          1966.9,
          1967,
          1967.1,
          1967.2,
          1967.3,
          1967.4,
          1967.5,
          1967.6,
          1967.7,
          1967.8,
          1967.9,
          1968,
          1968.1,
          1968.2,
          1968.3,
          1968.4,
          1968.5,
          1968.6,
          1968.7,
          1968.8,
          1968.9,
          1969,
          1969.1,
          1969.2,
          1969.3,
          1969.4,
          1969.5,
          1969.6,
          1969.7,
          1969.8,
          1969.9,
          1970,
          1970.1,
          1970.2,
          1970.3,
          1970.4,
          1970.5,
          1970.6,
          1970.7,
          1970.8,
          1970.9,
          1971,
          1971.1,
          1971.2,
          1971.3,
          1971.4,
          1971.5,
          1971.6,
          1971.7,
          1971.8,
          1971.9,
          1972,
          1972.1,
          1972.2,
          1972.3,
          1972.4,
          1972.5,
          1972.6,
          1972.7,
          1972.8,
          1972.9,
          1973,
          1973.1,
          1973.2,
          1973.3,
          1973.4,
          1973.5,
          1973.6,
          1973.7,
          1973.8,
          1973.9,
          1974,
          1974.1,
          1974.2,
          1974.3,
          1974.4,
          1974.5,
          1974.6,
          1974.7,
          1974.8,
          1974.9,
          1975,
          1975.1,
          1975.2,
          1975.3,
          1975.4,
          1975.5,
          1975.6,
          1975.7,
          1975.8,
          1975.9,
          1976,
          1976.1,
          1976.2,
          1976.3,
          1976.4,
          1976.5,
          1976.6,
          1976.7,
          1976.8,
          1976.9,
          1977,
          1977.1,
          1977.2,
          1977.3,
          1977.4,
          1977.5,
          1977.6,
          1977.7,
          1977.8,
          1977.9,
          1978,
          1978.1,
          1978.2,
          1978.3,
          1978.4,
          1978.5,
          1978.6,
          1978.7,
          1978.8,
          1978.9,
          1979,
          1979.1,
          1979.2,
          1979.3,
          1979.4,
          1979.5,
          1979.6,
          1979.7,
          1979.8,
          1979.9,
          1980,
          1980.1,
          1980.2,
          1980.3,
          1980.4,
          1980.5,
          1980.6,
          1980.7,
          1980.8,
          1980.9,
          1981,
          1981.1,
          1981.2,
          1981.3,
          1981.4,
          1981.5,
          1981.6,
          1981.7,
          1981.8,
          1981.9,
          1982,
          1982.1,
          1982.2,
          1982.3,
          1982.4,
          1982.5,
          1982.6,
          1982.7,
          1982.8,
          1982.9,
          1983,
          1983.1,
          1983.2,
          1983.3,
          1983.4,
          1983.5,
          1983.6,
          1983.7,
          1983.8,
          1983.9,
          1984,
          1984.1,
          1984.2,
          1984.3,
          1984.4,
          1984.5,
          1984.6,
          1984.7,
          1984.8,
          1984.9,
          1985,
          1985.1,
          1985.2,
          1985.3,
          1985.4,
          1985.5,
          1985.6,
          1985.7,
          1985.8,
          1985.9,
          1986,
          1986.1,
          1986.2,
          1986.3,
          1986.4,
          1986.5,
          1986.6,
          1986.7,
          1986.8,
          1986.9,
          1987,
          1987.1,
          1987.2,
          1987.3,
          1987.4,
          1987.5,
          1987.6,
          1987.7,
          1987.8,
          1987.9,
          1988,
          1988.1,
          1988.2,
          1988.3,
          1988.4,
          1988.5,
          1988.6,
          1988.7,
          1988.8,
          1988.9,
          1989,
          1989.1,
          1989.2,
          1989.3,
          1989.4,
          1989.5,
          1989.6,
          1989.7,
          1989.8,
          1989.9,
          1990,
          1990.1,
          1990.2,
          1990.3,
          1990.4,
          1990.5,
          1990.6,
          1990.7,
          1990.8,
          1990.9,
          1991,
          1991.1,
          1991.2,
          1991.3,
          1991.4,
          1991.5,
          1991.6,
          1991.7,
          1991.8,
          1991.9,
          1992,
          1992.1,
          1992.2,
          1992.3,
          1992.4,
          1992.5,
          1992.6,
          1992.7,
          1992.8,
          1992.9,
          1993,
          1993.1,
          1993.2,
          1993.3,
          1993.4,
          1993.5,
          1993.6,
          1993.7,
          1993.8,
          1993.9,
          1994,
          1994.1,
          1994.2,
          1994.3,
          1994.4,
          1994.5,
          1994.6,
          1994.7,
          1994.8,
          1994.9,
          1995,
          1995.1,
          1995.2,
          1995.3,
          1995.4,
          1995.5,
          1995.6,
          1995.7,
          1995.8,
          1995.9,
          1996,
          1996.1,
          1996.2,
          1996.3,
          1996.4,
          1996.5,
          1996.6,
          1996.7,
          1996.8,
          1996.9,
          1997,
          1997.1,
          1997.2,
          1997.3,
          1997.4,
          1997.5,
          1997.6,
          1997.7,
          1997.8,
          1997.9,
          1998,
          1998.1,
          1998.2,
          1998.3,
          1998.4,
          1998.5,
          1998.6,
          1998.7,
          1998.8,
          1998.9,
          1999,
          1999.1,
          1999.2,
          1999.3,
          1999.4,
          1999.5,
          1999.6,
          1999.7,
          1999.8,
          1999.9,
          2000,
          2000.1,
          2000.2,
          2000.3,
          2000.4,
          2000.5,
          2000.6,
          2000.7,
          2000.8,
          2000.9,
          2001,
          2001.1,
          2001.2,
          2001.3,
          2001.4,
          2001.5,
          2001.6,
          2001.7,
          2001.8,
          2001.9,
          2002,
          2002.1,
          2002.2,
          2002.3,
          2002.4,
          2002.5,
          2002.6,
          2002.7,
          2002.8,
          2002.9,
          2003,
          2003.1,
          2003.2,
          2003.3,
          2003.4,
          2003.5,
          2003.6,
          2003.7,
          2003.8,
          2003.9,
          2004,
          2004.1,
          2004.2,
          2004.3,
          2004.4,
          2004.5,
          2004.6,
          2004.7,
          2004.8,
          2004.9,
          2005,
          2005.1,
          2005.2,
          2005.3,
          2005.4,
          2005.5,
          2005.6,
          2005.7,
          2005.8,
          2005.9,
          2006,
          2006.1,
          2006.2,
          2006.3,
          2006.4,
          2006.5,
          2006.6,
          2006.7,
          2006.8,
          2006.9,
          2007,
          2007.1,
          2007.2,
          2007.3,
          2007.4,
          2007.5,
          2007.6,
          2007.7,
          2007.8,
          2007.9,
          2008,
          2008.1,
          2008.2,
          2008.3,
          2008.4,
          2008.5,
          2008.6,
          2008.7,
          2008.8,
          2008.9,
          2009,
          2009.1,
          2009.2,
          2009.3,
          2009.4,
          2009.5,
          2009.6,
          2009.7,
          2009.8,
          2009.9,
          2010,
          2010.1,
          2010.2,
          2010.3,
          2010.4,
          2010.5,
          2010.6,
          2010.7,
          2010.8,
          2010.9,
          2011,
          2011.1,
          2011.2,
          2011.3,
          2011.4,
          2011.5,
          2011.6,
          2011.7,
          2011.8,
          2011.9,
          2012,
          2012.1,
          2012.2,
          2012.3,
          2012.4,
          2012.5,
          2012.6,
          2012.7,
          2012.8,
          2012.9,
          2013,
          2013.1,
          2013.2,
          2013.3,
          2013.4,
          2013.5,
          2013.6,
          2013.7,
          2013.8,
          2013.9,
          2014,
          2014.1,
          2014.2,
          2014.3,
          2014.4,
          2014.5,
          2014.6,
          2014.7,
          2014.8,
          2014.9,
          2015,
          2015.1,
          2015.2,
          2015.3,
          2015.4,
          2015.5,
          2015.6,
          2015.7,
          2015.8,
          2015.9,
          2016,
          2016.1,
          2016.2,
          2016.3,
          2016.4,
          2016.5,
          2016.6,
          2016.7,
          2016.8,
          2016.9,
          2017,
          2017.1,
          2017.2,
          2017.3,
          2017.4,
          2017.5,
          2017.6,
          2017.7,
          2017.8,
          2017.9,
          2018,
          2018.1,
          2018.2,
          2018.3,
          2018.4,
          2018.5,
          2018.6,
          2018.7,
          2018.8,
          2018.9,
          2019,
          2019.1,
          2019.2,
          2019.3,
          2019.4,
          2019.5,
          2019.6,
          2019.7,
          2019.8,
          2019.9,
          2020
         ],
         "xaxis": "x",
         "y": [
          0.7804487807842225,
          0.7719600553256473,
          0.7687091140644078,
          0.7859239456964404,
          0.8136368761682535,
          0.8471172414811066,
          0.8840392044782721,
          0.9233040692969186,
          0.9644171831321392,
          1.0073806110646175,
          1.0521100634320533,
          1.098713764337981,
          1.1474468030672442,
          1.1983992241936394,
          1.251636087479735,
          1.3073856853832222,
          1.365921335194672,
          1.4274009573210087,
          1.491863985592333,
          1.5593742304445923,
          1.6302386164783544,
          1.7048351759667542,
          1.7833380774752172,
          1.865695848758024,
          1.951908512447654,
          2.042442892957106,
          2.1379003819396774,
          2.2384943830060338,
          2.344010938827173,
          2.4544066372879025,
          2.570336575732205,
          2.692463982963482,
          2.8208849981431605,
          2.9555111664639035,
          3.096775696982424,
          3.2453642544477086,
          3.4015980331228097,
          3.5655292116223207,
          3.7374737888245404,
          3.918157443155434,
          4.108178344032922,
          4.307796305115362,
          4.517075092749435,
          4.7365695629490485,
          4.967319054417389,
          5.2100595833761005,
          5.464992338590963,
          5.732118027549944,
          6.012272430020358,
          6.306795378949253,
          6.6164212173342225,
          6.941273094822891,
          7.281849925297785,
          7.639480842713125,
          8.015359651214586,
          8.410074671513907,
          8.823976118001072,
          9.258187571468222,
          9.714374473357603,
          10.193709518342759,
          10.696753396173651,
          11.224107978829496,
          11.777482785421668,
          12.35900474394322,
          12.97001311328648,
          13.610987567340526,
          14.282720246192484,
          14.98767567013813,
          15.728665261038453,
          16.507229403694925,
          17.323642247493034,
          18.17898757083317,
          19.076797878888918,
          20.0207057874145,
          21.01240325656719,
          22.051928815495145,
          23.141210630630876,
          24.28487242861468,
          25.486526751210114,
          26.7476448082612,
          28.069764133716877,
          29.45686676615751,
          30.91347029492438,
          32.44255307362961,
          34.04617061716675,
          35.72792607056861,
          37.493199207859995,
          39.34666235147838,
          41.291609720088275,
          43.33054022017278,
          45.468375998290185,
          47.71262260267004,
          50.06957442092157,
          52.54300731575002,
          55.135008478662954,
          57.85154635335495,
          60.702692131227806,
          63.69630882054635,
          66.83635247499636,
          70.12664796993019,
          73.57654434529316,
          77.19734679664852,
          80.99677772076222,
          84.97935024911658,
          89.15215320359748,
          93.52823954780219,
          98.12047325076469,
          102.93739477660354,
          107.98382696190154,
          113.26903493606684,
          118.81086440791623,
          124.62627513331515,
          130.72517994578033,
          137.11108583383157,
          143.79399777890282,
          150.7987069277949,
          158.1493879110964,
          165.85774840774135,
          173.92439177425732,
          182.36181520386845,
          191.20167753482804,
          200.46981857243713,
          210.17648068433544,
          220.33024443516726,
          230.95701299625674,
          242.08824869661487,
          253.7437528438847,
          265.93460781424943,
          278.68173382706493,
          292.02155431622043,
          305.9862802599624,
          320.59490032558335,
          335.8559928141773,
          351.79542186967046,
          368.46531647909273,
          385.9101641675197,
          404.14859806127504,
          423.1781116769477,
          443.0256212900058,
          463.75778044376784,
          485.424006266058,
          508.03651630387276,
          531.6035003634665,
          556.1766283637025,
          581.8209391222163,
          608.5682334499695,
          636.4219542416158,
          665.411213042043,
          695.6114802974378,
          727.0847622844337,
          759.8475695899529,
          793.8849866142533,
          829.2387276915838,
          866.0151076772452,
          904.2816275436458,
          944.0293387366785,
          985.2169540549727,
          1027.906070340724,
          1072.2181876392447,
          1118.1909758131956,
          1165.779962735331,
          1214.9875904030014,
          1265.9162480044856,
          1318.6363743720035,
          1373.1211521513565,
          1429.313510680963,
          1487.2732897516198,
          1547.1171269934089,
          1608.8559845973375,
          1672.3831882786517,
          1737.6440754464963,
          1804.758948458658,
          1873.8307670400818,
          1944.7875948813048,
          2017.4343816624305,
          2091.7589782635746,
          2167.944917344693,
          2246.032133856312,
          2325.817592843206,
          2407.085933199279,
          2489.9149354008796,
          2574.4333459023064,
          2660.5146110784767,
          2747.9045282867546,
          2836.5644167991973,
          2926.5952723957707,
          3017.9029192849453,
          3110.207332698079,
          3203.3692785797916,
          3297.482019518079,
          3392.5247994804995,
          3488.2137132526464,
          3584.2312298497936,
          3680.5949004928407,
          3777.425434684087,
          3874.5451469461227,
          3971.5087033738328,
          4068.114174265107,
          4164.540057360714,
          4260.802978440877,
          4356.535391455875,
          4451.28188758776,
          4545.064475672681,
          4638.1063508971165,
          4730.248384231463,
          4820.968711892921,
          4910.004422068118,
          4997.595293502571,
          5083.84344530765,
          5168.408594119439,
          5250.790824977162,
          5331.011591456885,
          5409.381556006771,
          5485.821726450695,
          5559.861214324732,
          5631.234422354069,
          5700.204526161635,
          5766.96076269587,
          5831.271385230859,
          5892.702422526373,
          5951.278501150105,
          6007.343697301523,
          6060.917256338555,
          6111.667363488621,
          6159.380949887089,
          6204.30187678407,
          6246.666289229388,
          6286.371135770864,
          6323.116829992232,
          6356.934248876803,
          6388.137163198737,
          6416.815750939123,
          6442.793859935432,
          6465.932722206562,
          6486.430567455111,
          6504.529738224028,
          6520.231968053569,
          6533.356394544703,
          6543.907771172061,
          6552.160988024274,
          6558.290733077556,
          6562.249024220557,
          6563.8639697908075,
          6563.227451972376,
          6560.655987804476,
          6556.290120241902,
          6550.031393124302,
          6541.706823368158,
          6531.4797494929535,
          6519.700256038914,
          6506.474352849289,
          6491.633101193647,
          6475.0081540866795,
          6456.8451803345415,
          6437.516074423049,
          6417.077347293731,
          6395.273737583998,
          6372.008810887074,
          6347.598911466719,
          6322.284449292503,
          6295.98693270837,
          6268.585344138237,
          6240.219059574376,
          6211.085904274603,
          6181.200035935619,
          6150.477909098152,
          6118.9685536598645,
          6086.848335626562,
          6054.203006073007,
          6020.9938941416785,
          5987.122989788368,
          5952.673843308887,
          5917.8769919575325,
          5882.83463724069,
          5847.4570874368965,
          5811.554928593749,
          5775.214755495435,
          5738.705211148452,
          5702.079318255559,
          5665.190636186133,
          5628.006419896654,
          5590.696745951902,
          5553.355198431632,
          5515.919883254741,
          5478.305428348614,
          5440.598351549917,
          5402.948343451585,
          5365.375405504633,
          5327.765303766537,
          5290.035773323114,
          5252.331395792739,
          5214.839018231382,
          5177.55805740166,
          5140.296687201812,
          5102.962649226185,
          5065.746200242352,
          5028.800751809217,
          4992.047745136376,
          4955.349403757305,
          4918.77200141985,
          4882.458950105063,
          4846.402598280691,
          4810.487730927049,
          4774.700247187273,
          4739.169994149737,
          4703.963764879816,
          4669.017321452651,
          4634.195961939969,
          4599.533571906509,
          4565.2090742388755,
          4531.283378603411,
          4497.640742836713,
          4464.109380099287,
          4430.764470978751,
          4397.794592907227,
          4365.195945020911,
          4332.820061503079,
          4300.638096045476,
          4268.781082582905,
          4237.296893794255,
          4206.1024930905305,
          4175.11333544584,
          4144.397974999005,
          4114.061102944132,
          4084.0904759053965,
          4054.3642803643984,
          4024.826339409349,
          3995.599792367134,
          3966.795520940608,
          3938.3709797525357,
          3910.1564805980724,
          3882.1220772857505,
          3854.425586345435,
          3827.134281981646,
          3800.150169327289,
          3773.372985895064,
          3746.8723116378587,
          3720.745356172929,
          3694.9640578607923,
          3669.419237053966,
          3644.103896116143,
          3619.12482938277,
          3594.520792208117,
          3570.220520011663,
          3546.114167533958,
          3522.242182238516,
          3498.7367685265444,
          3475.6196264365185,
          3452.7776256235147,
          3430.099949410902,
          3407.667165757003,
          3385.601696340084,
          3363.877583186527,
          3342.3702533554183,
          3321.067854619671,
          3300.0781743463813,
          3279.4301409728296,
          3259.0468508363683,
          3238.8555443163714,
          3218.913385108871,
          3199.3040168577177,
          3180.0128071286986,
          3160.9361964308982,
          3142.0304202325487,
          3123.3933405713497,
          3105.1046927677794,
          3087.1241929933103,
          3069.313712807526,
          3051.644261123681,
          3034.258070360929,
          3017.241735527887,
          3000.5242761669456,
          2983.9383098247004,
          2967.49710366344,
          2951.3513608892276,
          2935.517313791986,
          2919.8901137163307,
          2904.431627148623,
          2889.219571277821,
          2874.286034254587,
          2859.578899352609,
          2845.0446721195112,
          2830.72029949591,
          2816.6639934815657,
          2802.8670549625995,
          2789.2559444762287,
          2775.7846913316507,
          2762.523607120269,
          2749.5554445838343,
          2736.867023510631,
          2724.347194612741,
          2711.930938718972,
          2699.708663210409,
          2687.7625866051153,
          2676.049042029136,
          2664.4776015792327,
          2653.0672269524284,
          2641.894520906925,
          2630.9565335173866,
          2620.185432110165,
          2609.5538929502018,
          2599.1217349243325,
          2588.9314418693757,
          2578.954852682965,
          2569.1092033074096,
          2559.3814790209226,
          2549.8622855054546,
          2540.6069365039316,
          2531.5724289027703,
          2522.6418123674084,
          2513.807351823441,
          2505.1787774533404,
          2496.7908018218627,
          2488.570645784684,
          2480.4599944639895,
          2472.5102821090986,
          2464.775560891359,
          2457.2311440735716,
          2449.809223307229,
          2442.512420221814,
          2435.4075747251163,
          2428.5140630315127,
          2421.785280899968,
          2415.148842384164,
          2408.6289884155503,
          2402.316701822237,
          2396.2344941590927,
          2390.3137929186123,
          2384.4586686473936,
          2378.7077724153587,
          2373.162133209187,
          2367.819342634486,
          2362.594406741733,
          2357.4623971666206,
          2352.4922760916525,
          2347.7147725170867,
          2343.0877557933195,
          2338.554368731562,
          2334.14098960036,
          2329.9099349974217,
          2325.8634288199946,
          2321.940602517615,
          2318.0881918684636,
          2314.357083622911,
          2310.826610227941,
          2307.495251187992,
          2304.2753582767937,
          2301.104484822292,
          2298.052077289551,
          2295.194945303476,
          2292.505726515172,
          2289.900196152384,
          2287.3822914061734,
          2285.0259330354966,
          2282.8421779308665,
          2280.775818663549,
          2278.78591484305,
          2276.917168429018,
          2275.2218091749774,
          2273.6876402667976,
          2272.24437999824,
          2270.8609539769586,
          2269.6072202128234,
          2268.5464895317814,
          2267.657059202168,
          2266.8411380690786,
          2266.069064868021,
          2265.429569495619,
          2264.974654705959,
          2264.6559621326255,
          2264.3998642915067,
          2264.2344732548227,
          2264.2290125546415,
          2264.379238804295,
          2264.6209808254516,
          2264.929818264049,
          2265.3641110700955,
          2265.9652064636175,
          2266.7078207926797,
          2267.516506946001,
          2268.381839224607,
          2269.3865074079345,
          2270.577826362757,
          2271.9160227390803,
          2273.3003733240653,
          2274.73071109245,
          2276.306307728441,
          2278.056881911825,
          2279.916193172211,
          2281.826068226824,
          2283.834851108739,
          2286.0021340942308,
          2288.3103977091514,
          2290.6901359449766,
          2293.133872145946,
          2295.709758510404,
          2298.4477979653057,
          2301.309564757808,
          2304.2189141797253,
          2307.18796437212,
          2310.306992416137,
          2313.607386270688,
          2317.0314482021954,
          2320.4826018473614,
          2323.9881709579936,
          2327.650308238298,
          2331.4784045877313,
          2335.391765287419,
          2339.349311304797,
          2343.4165376559918,
          2347.642048233226,
          2351.9947683596724,
          2356.4034248554535,
          2360.8777702778452,
          2365.492178745981,
          2370.2653496678986,
          2375.144853023843,
          2380.0585862766898,
          2385.0399781090655,
          2390.1818086411545,
          2395.500062543592,
          2400.9181126367985,
          2406.351122770686,
          2411.8523656132716,
          2417.5190861730443,
          2423.3422014751654,
          2429.229792421888,
          2435.1594710221884,
          2441.2111473281293,
          2447.421516638239,
          2453.744910338603,
          2460.112624199196,
          2466.5525158329415,
          2473.1416350604177,
          2479.8878376396033,
          2486.724318833478,
          2493.588307288527,
          2500.5360956655877,
          2507.660583802336,
          2514.9643235477934,
          2522.3542130339088,
          2529.7670809174115,
          2537.2873203754375,
          2545.0091070849194,
          2552.9129544646157,
          2560.9105557312273,
          2569.0161107644412,
          2577.338941908105,
          2585.919067331172,
          2594.70832890535,
          2603.661679715065,
          2612.844416903732,
          2622.3418886163754,
          2632.149218407353,
          2642.17785005761,
          2652.383707785415,
          2662.8416522983343,
          2673.6138377571865,
          2684.666798135713,
          2695.8864478597725,
          2707.233327993813,
          2718.805160740918,
          2730.6699460590526,
          2742.78133006791,
          2755.002589269265,
          2767.305214488889,
          2779.8215738909284,
          2792.629249831068,
          2805.6615861735318,
          2818.75808134409,
          2831.9218950567256,
          2845.2993156173943,
          2858.920873318015,
          2872.683866704411,
          2886.519045914065,
          2900.499035889843,
          2914.6882081194517,
          2929.050939139651,
          2943.5017243243733,
          2958.0475775421546,
          2972.772180176057,
          2987.6976390193727,
          3002.766690208515,
          3017.8870731651714,
          3033.085832594022,
          3048.4823748843514,
          3064.1156334843554,
          3079.9086151570577,
          3095.7208892471044,
          3111.5795461816606,
          3127.63508770094,
          3143.916097524024,
          3160.3168114273303,
          3176.772360137519,
          3193.3713374938143,
          3210.193654536831,
          3227.211699573554,
          3244.336583160657,
          3261.5790032034897,
          3279.0436133452195,
          3296.7688555531804,
          3314.6989887274294,
          3332.720177474722,
          3350.837743163607,
          3369.178231026203,
          3387.7898647955517,
          3406.583227665647,
          3425.37450244088,
          3444.158291404731,
          3463.0969886968105,
          3482.2292538416323,
          3501.4329266994655,
          3520.6218471455536,
          3539.8812325328518,
          3559.291497155739,
          3578.8122844131117,
          3598.339158898375,
          3617.880450537516,
          3637.5445944393214,
          3657.3655054891424,
          3677.274301438614,
          3697.1516887491143,
          3717.029216977299,
          3737.063664527643,
          3757.3104532305233,
          3777.6722692715543,
          3797.9682200114235,
          3818.232818714253,
          3838.65607896967,
          3859.268762083242,
          3879.933139713134,
          3900.5708656751904,
          3921.2898633773084,
          3942.1746857487733,
          3963.1750230457565,
          3984.1730958986645,
          4005.1839436103796,
          4026.331293616414,
          4047.649478740373,
          4069.0557937364374,
          4090.4180676586648,
          4111.7794170278175,
          4133.312741312575,
          4155.070884166931,
          4176.940081067488,
          4198.730827945027,
          4220.496830622352,
          4242.4431712487085,
          4264.593618297008,
          4286.792803861839,
          4308.951039473795,
          4331.1799949906845,
          4353.562821203941,
          4376.032857239683,
          4398.436269099275,
          4420.761212888467,
          4443.139367808989,
          4465.610783610372,
          4488.068835231001,
          4510.330438206796,
          4532.426476435211,
          4554.571347753739,
          4576.835686336308,
          4599.070864387517,
          4621.049295696153,
          4642.852526087996,
          4664.717914162231,
          4686.648236907184,
          4708.460302095727,
          4730.103428701467,
          4751.731320495641,
          4773.411510642099,
          4795.055648428725,
          4816.551875762948,
          4837.964364245995,
          4859.424524008472,
          4880.936590952296,
          4902.372954633549,
          4923.621008018642,
          4944.794580497215,
          4966.075287941375,
          4987.468796775943,
          5008.787051813088,
          5029.866194102922,
          5050.850489367018,
          5071.939614016264,
          5093.090497698582,
          5114.103700202423,
          5134.964435964644,
          5155.8446853544865,
          5176.788408315647,
          5197.678325878103,
          5218.397647587008,
          5239.029513880443,
          5259.707445901948,
          5280.417873897618,
          5301.002191108988,
          5321.343081371097,
          5341.568035127648,
          5361.846943450366,
          5382.158039822132,
          5402.28172488582,
          5422.064475374404,
          5441.669532766866,
          5461.279215222921,
          5480.827208457142,
          5500.098646039552,
          5519.092445928863,
          5538.001865732072,
          5556.8719930109455,
          5575.566342361126,
          5593.958830472013,
          5612.15933939402,
          5630.32891869193,
          5648.452599606944,
          5666.348717971203,
          5683.921406254035,
          5701.347818254802,
          5718.80438287143,
          5736.245358658289,
          5753.420191478686,
          5770.221606913337,
          5786.903588953923,
          5803.693221682765,
          5820.51232319764,
          5837.025411589674,
          5853.165983417781,
          5869.232484643654,
          5885.348357565276,
          5901.339682636325,
          5917.058803319934,
          5932.62876684908,
          5948.179177695458,
          5963.652458875866,
          5978.905900923284,
          5993.959909979469,
          6008.962215339818,
          6023.950291539648,
          6038.823928779129,
          6053.425526255318,
          6067.81424616818,
          6082.214530131309,
          6096.705010136095,
          6111.153215827853,
          6125.302437358167,
          6139.2029295808015,
          6153.143071573533,
          6167.188823383891,
          6181.159267397253,
          6194.945356948445,
          6208.693107662513,
          6222.514627744913,
          6236.3331145133925,
          6249.96714052744,
          6263.401112752441,
          6276.778621568451,
          6290.132106082587,
          6303.327367744885,
          6316.132593178174,
          6328.56421341981,
          6340.88481203571,
          6353.202799524972,
          6365.351874732542,
          6377.009668644221,
          6388.229608740265,
          6399.33190314272,
          6410.358081885765,
          6421.0948984152765,
          6431.465366160629,
          6441.642555863477,
          6451.711427697557,
          6461.579178526175,
          6471.129122827013,
          6480.4348770661045,
          6489.640162705902,
          6498.753566494151,
          6507.643088153564,
          6516.175892218354,
          6524.472930239431,
          6532.760187855931,
          6541.071034324848,
          6549.213224920615,
          6556.944441379583,
          6564.392424538872,
          6571.835287907968,
          6579.261154571033,
          6586.450339465409,
          6593.362596288804,
          6600.182897040654,
          6606.974681907027,
          6613.628384589164,
          6620.025868744717,
          6626.253323307363,
          6632.458986550405,
          6638.6459679982745,
          6644.669685367934,
          6650.399029873232,
          6655.966021499953,
          6661.591318282601,
          6667.294553629473,
          6672.869459725587,
          6678.087974476077,
          6683.08525376631,
          6688.110834846056,
          6693.127018165253,
          6697.896498748967,
          6702.371647984011,
          6706.736712806249,
          6711.050628402547,
          6715.187789008032,
          6719.010080732156,
          6722.60711606923,
          6726.143364974012,
          6729.620096772095,
          6732.872579694633,
          6735.772260261279,
          6738.474074544357,
          6741.196421769555,
          6743.937193524009,
          6746.462863070656,
          6748.612083661097,
          6750.5829589358245,
          6752.592343298943,
          6754.574740836317,
          6756.305749509379,
          6757.796887550525,
          6759.255336630654,
          6760.722468410078,
          6762.060173681834,
          6763.155150553655,
          6764.124533111555,
          6765.120532442207,
          6766.126015897555,
          6766.964572149807,
          6767.535675252698,
          6768.015895511573,
          6768.599114732893,
          6769.255067056163,
          6769.73434542164,
          6769.914316781826,
          6770.0159269837895,
          6770.222358661747,
          6770.43990620949,
          6770.452807005781,
          6770.303264199912,
          6770.194464815963,
          6770.145143102005,
          6770.002046778723,
          6769.669342346575,
          6769.27973752009,
          6768.965631807228,
          6768.680376428476,
          6768.215829837855,
          6767.472008510542,
          6766.643062355984,
          6765.906369941558,
          6765.1735975872725,
          6764.11770367282,
          6762.642423278313,
          6761.01560970008,
          6759.3478113563115,
          6764.578947281991,
          6804.490241608566,
          7005.515228467928,
          7869.147534343461,
          10348.064604155998,
          13862.69665528162,
          16192.77993850777,
          16855.38735029438,
          16855.82989249478,
          16702.668478557724,
          16523.903527207163,
          16358.559421415046,
          16266.260931336896,
          16457.315416988255,
          17326.588822389924,
          18613.111176177736,
          19376.161635821016,
          19427.428743673026,
          19202.789058707524,
          18919.159093372295,
          18629.765029298513,
          18352.405314887324,
          18117.67235204907,
          18032.745941479487,
          18296.656609049576,
          18773.188062836074,
          18981.713791193837,
          18828.86306332091,
          18541.14906554077,
          18230.105119034273,
          17923.191078805536,
          17631.940033600888,
          17381.338146358692,
          17261.272995519936,
          17438.951682733903,
          17797.268578729432,
          17931.0246802474,
          17763.968411991642,
          17486.756937592552,
          17193.39430639999,
          16907.084418541905,
          16637.037781741183,
          16407.139587533853,
          16306.465282513342,
          16496.35052537917,
          16859.61891128452,
          16999.77306296315,
          16843.517312233467,
          16578.22114480303,
          16295.489291687547,
          16018.054933504125,
          15752.56792416779,
          15510.354821901312,
          15331.784733179262,
          15294.276413071202,
          15343.99151094339,
          15289.986650870034,
          15095.283198578876,
          14849.752415475574,
          14597.929108423818,
          14349.690210080687,
          14103.495517990104,
          13844.364509202169,
          13517.367266485127,
          13024.708676583332,
          12436.511416552421,
          11993.114435522533,
          11738.576296202857,
          11557.335677224664,
          11391.849130558849,
          11224.853139801096,
          11049.556179808656,
          10862.163477022641,
          10650.665425476418,
          10390.284000069929,
          10103.415446965017,
          9859.55797343258,
          9671.944281508111,
          9508.207129438926,
          9352.055579867294,
          9199.556004560905,
          9050.559227844553,
          8908.434603659662,
          8786.260109040255,
          8707.733244637731,
          8655.950429279954,
          8572.651352305704,
          8446.479086918289,
          8304.691129727085,
          8159.9069779909205,
          8014.937896203942,
          7874.831607056308,
          7766.669315934858,
          7795.892693569183,
          8151.290013275939,
          8689.75347887307,
          8949.48150408207,
          8855.67266820613,
          8631.94109274946,
          8385.392027292042,
          8140.3896464906775,
          7901.252448980676,
          7669.232367508652,
          7445.065436249981,
          7229.532172607676,
          7022.77403415397,
          6824.6764728742455,
          6635.344338962859,
          6454.6431301612465,
          6283.478913707721,
          6124.4255525678445,
          5979.289897144306,
          5847.590524406358,
          5729.369650093289,
          5627.539655884533,
          5536.235666442524,
          5440.5636083787795,
          5337.621769333392,
          5233.649267386231,
          5130.532577306229,
          5026.765722265475,
          4920.837424105489,
          4814.67669285318,
          4715.857000798577,
          4635.500744855773,
          4567.5867851169805,
          4490.026989417703,
          4399.2224725056385,
          4306.074731117758,
          4215.883606351061,
          4130.108370360642,
          4049.4739401534316,
          3975.892097730443,
          3917.144011684887,
          3887.568625767416,
          3875.411614528598,
          3843.703468340156,
          3786.145694067878,
          3720.4422000306727,
          3655.5216081286762,
          3594.161682518924,
          3537.3429071509363,
          3484.7281600259707,
          3435.0408878738767,
          3386.6062288884455,
          3337.5494188817593,
          3286.617103690041,
          3234.1188368703806,
          3181.282840215647,
          3129.1952418614446,
          3078.4215842289814,
          3029.1310026121437,
          2981.6253558084845,
          2936.091027167779,
          2892.5496446834504,
          2851.078135102184,
          2811.5311411694383,
          2773.617364713541,
          2737.094876560228,
          2701.6196620933406,
          2666.7372415015075,
          2632.137627952692,
          2597.873771106778,
          2564.139461195105,
          2530.7960200641924,
          2497.1869360361634,
          2462.8216984513892,
          2428.000274599256,
          2393.360785578161,
          2359.2742579023075,
          2325.6603115855046,
          2292.3440803508092,
          2259.47872815625,
          2227.4297332421393,
          2196.426268831323,
          2166.3498745177394,
          2136.961738742938,
          2108.308524172716,
          2080.6106108024146,
          2054.2092927532112,
          2029.6484080635478,
          2007.2154515922985,
          1986.7686820626286,
          1968.0243775421138,
          1950.9864217942009,
          1936.2722996272119,
          1924.4851742180892,
          1915.406311588938,
          1908.216609584038,
          1902.0096341421622,
          1896.0728436514296,
          1890.0842454691065,
          1883.8748428587814,
          1877.3224230741403,
          1870.1371860898155,
          1861.4614731268666,
          1850.5590646746991,
          1837.6026299200048,
          1823.4078940397853,
          1808.824243674042,
          1794.4988562636183,
          1780.766914369999,
          1767.7518609928547,
          1755.5618935593634,
          1744.3744255505158,
          1734.4802356029477,
          1725.9101408035779,
          1718.308218001898,
          1711.328917452162,
          1704.7715329854464,
          1698.4805449476362,
          1692.3496489852205,
          1686.3352796942904,
          1680.4828146997984,
          1674.9306151801047,
          1670.038042016032,
          1666.1965333175451,
          1663.4163957533046,
          1661.438528107725,
          1659.9716014001442,
          1658.7936234911954,
          1657.7621317759663,
          1656.7989055128628,
          1655.860341577181,
          1654.87447829529,
          1653.8202225626594,
          1652.7329533513675,
          1651.6145194572796,
          1650.4248086378882,
          1649.1700412301452,
          1647.8978329695706,
          1646.619130248414,
          1645.3106074200268,
          1643.9509525670053,
          1642.413470943651,
          1640.4601521011784,
          1637.9128842485638,
          1634.7979936959205,
          1631.3013855082136,
          1627.586061899256,
          1623.706905844598,
          1619.6658942788486,
          1615.497566686875,
          1611.2287204514394,
          1606.7353416501908,
          1601.6787856004132,
          1595.8451677113485,
          1589.393255288198,
          1582.6221438812022,
          1575.7330431330734,
          1568.80618660982,
          1561.8778056127912,
          1555.0130810856465,
          1548.3867886498715,
          1542.3999156560935,
          1537.467894223776,
          1533.71780345967,
          1531.0091455922839,
          1528.9928983389837,
          1527.3450725044454,
          1525.8526302446012,
          1524.3663081930972,
          1522.8872907084767,
          1521.471556838568,
          1520.2209731279909,
          1519.2084799665513,
          1518.365601615355,
          1517.5556882654655,
          1516.7642274984107,
          1516.3286441674077,
          1516.8313786394822,
          1518.8138585969853,
          1522.1892371493027,
          1526.2676208458686,
          1530.4010841624395,
          1534.208714327783,
          1537.6162452581702,
          1540.7457024655941,
          1543.63255556234,
          1545.9903052977231,
          1547.3273528591044,
          1547.2307452657633,
          1545.7798719427421,
          1543.4854596884516,
          1540.7872347187515,
          1537.8231385342485,
          1534.6810711652404,
          1531.5462005364507,
          1528.5579898156284,
          1525.8690189538981,
          1523.6069920915022,
          1521.8268983024427,
          1520.542075195047,
          1519.6436376084441,
          1518.9736717063097,
          1518.38778552455,
          1517.7800559931388,
          1517.1208707796404,
          1516.4021028459724,
          1515.697272065288,
          1515.1578424230752,
          1514.8891710320308,
          1514.8667575593183,
          1514.997131765535,
          1515.183286084332,
          1515.3461777578364,
          1515.4729127669884,
          1515.5593974933493,
          1515.5638956751186,
          1515.3329151468374,
          1514.590097643188,
          1513.1026489303467,
          1510.9441044296186,
          1508.4513989342854,
          1505.9195444774168,
          1503.4329652855563,
          1500.9235884701711,
          1498.3379461997754,
          1495.7003529261872,
          1493.1803575922982,
          1491.0004888428457,
          1489.2992205819835,
          1488.0620188645507,
          1487.1627064903846,
          1486.4124771669083,
          1485.584195578274,
          1484.5638135069305,
          1483.3452970585022,
          1481.9902447952263,
          1480.6123255611515,
          1479.3352607204768,
          1478.2644079679626,
          1477.3960190622347,
          1476.67372353957,
          1476.0821835929692,
          1475.647811000912,
          1475.4342563285102,
          1475.470294101896,
          1475.7141340048265,
          1476.040587194384
         ],
         "yaxis": "y"
        },
        {
         "hovertemplate": "x=%{x}<br>y=%{y}<extra></extra>",
         "legendgroup": "",
         "marker": {
          "color": "red",
          "symbol": "circle"
         },
         "mode": "markers",
         "name": "",
         "orientation": "v",
         "showlegend": false,
         "type": "scatter",
         "x": [
          2011,
          2012,
          2013,
          2014,
          2015,
          2016,
          2017,
          2018,
          2019
         ],
         "xaxis": "x",
         "y": [
          1495,
          1485,
          1369,
          1405,
          1642,
          1555,
          1440,
          1468,
          1417
         ],
         "yaxis": "y"
        }
       ],
       "layout": {
        "template": {
         "data": {
          "bar": [
           {
            "error_x": {
             "color": "#2a3f5f"
            },
            "error_y": {
             "color": "#2a3f5f"
            },
            "marker": {
             "line": {
              "color": "#E5ECF6",
              "width": 0.5
             },
             "pattern": {
              "fillmode": "overlay",
              "size": 10,
              "solidity": 0.2
             }
            },
            "type": "bar"
           }
          ],
          "barpolar": [
           {
            "marker": {
             "line": {
              "color": "#E5ECF6",
              "width": 0.5
             },
             "pattern": {
              "fillmode": "overlay",
              "size": 10,
              "solidity": 0.2
             }
            },
            "type": "barpolar"
           }
          ],
          "carpet": [
           {
            "aaxis": {
             "endlinecolor": "#2a3f5f",
             "gridcolor": "white",
             "linecolor": "white",
             "minorgridcolor": "white",
             "startlinecolor": "#2a3f5f"
            },
            "baxis": {
             "endlinecolor": "#2a3f5f",
             "gridcolor": "white",
             "linecolor": "white",
             "minorgridcolor": "white",
             "startlinecolor": "#2a3f5f"
            },
            "type": "carpet"
           }
          ],
          "choropleth": [
           {
            "colorbar": {
             "outlinewidth": 0,
             "ticks": ""
            },
            "type": "choropleth"
           }
          ],
          "contour": [
           {
            "colorbar": {
             "outlinewidth": 0,
             "ticks": ""
            },
            "colorscale": [
             [
              0,
              "#0d0887"
             ],
             [
              0.1111111111111111,
              "#46039f"
             ],
             [
              0.2222222222222222,
              "#7201a8"
             ],
             [
              0.3333333333333333,
              "#9c179e"
             ],
             [
              0.4444444444444444,
              "#bd3786"
             ],
             [
              0.5555555555555556,
              "#d8576b"
             ],
             [
              0.6666666666666666,
              "#ed7953"
             ],
             [
              0.7777777777777778,
              "#fb9f3a"
             ],
             [
              0.8888888888888888,
              "#fdca26"
             ],
             [
              1,
              "#f0f921"
             ]
            ],
            "type": "contour"
           }
          ],
          "contourcarpet": [
           {
            "colorbar": {
             "outlinewidth": 0,
             "ticks": ""
            },
            "type": "contourcarpet"
           }
          ],
          "heatmap": [
           {
            "colorbar": {
             "outlinewidth": 0,
             "ticks": ""
            },
            "colorscale": [
             [
              0,
              "#0d0887"
             ],
             [
              0.1111111111111111,
              "#46039f"
             ],
             [
              0.2222222222222222,
              "#7201a8"
             ],
             [
              0.3333333333333333,
              "#9c179e"
             ],
             [
              0.4444444444444444,
              "#bd3786"
             ],
             [
              0.5555555555555556,
              "#d8576b"
             ],
             [
              0.6666666666666666,
              "#ed7953"
             ],
             [
              0.7777777777777778,
              "#fb9f3a"
             ],
             [
              0.8888888888888888,
              "#fdca26"
             ],
             [
              1,
              "#f0f921"
             ]
            ],
            "type": "heatmap"
           }
          ],
          "heatmapgl": [
           {
            "colorbar": {
             "outlinewidth": 0,
             "ticks": ""
            },
            "colorscale": [
             [
              0,
              "#0d0887"
             ],
             [
              0.1111111111111111,
              "#46039f"
             ],
             [
              0.2222222222222222,
              "#7201a8"
             ],
             [
              0.3333333333333333,
              "#9c179e"
             ],
             [
              0.4444444444444444,
              "#bd3786"
             ],
             [
              0.5555555555555556,
              "#d8576b"
             ],
             [
              0.6666666666666666,
              "#ed7953"
             ],
             [
              0.7777777777777778,
              "#fb9f3a"
             ],
             [
              0.8888888888888888,
              "#fdca26"
             ],
             [
              1,
              "#f0f921"
             ]
            ],
            "type": "heatmapgl"
           }
          ],
          "histogram": [
           {
            "marker": {
             "pattern": {
              "fillmode": "overlay",
              "size": 10,
              "solidity": 0.2
             }
            },
            "type": "histogram"
           }
          ],
          "histogram2d": [
           {
            "colorbar": {
             "outlinewidth": 0,
             "ticks": ""
            },
            "colorscale": [
             [
              0,
              "#0d0887"
             ],
             [
              0.1111111111111111,
              "#46039f"
             ],
             [
              0.2222222222222222,
              "#7201a8"
             ],
             [
              0.3333333333333333,
              "#9c179e"
             ],
             [
              0.4444444444444444,
              "#bd3786"
             ],
             [
              0.5555555555555556,
              "#d8576b"
             ],
             [
              0.6666666666666666,
              "#ed7953"
             ],
             [
              0.7777777777777778,
              "#fb9f3a"
             ],
             [
              0.8888888888888888,
              "#fdca26"
             ],
             [
              1,
              "#f0f921"
             ]
            ],
            "type": "histogram2d"
           }
          ],
          "histogram2dcontour": [
           {
            "colorbar": {
             "outlinewidth": 0,
             "ticks": ""
            },
            "colorscale": [
             [
              0,
              "#0d0887"
             ],
             [
              0.1111111111111111,
              "#46039f"
             ],
             [
              0.2222222222222222,
              "#7201a8"
             ],
             [
              0.3333333333333333,
              "#9c179e"
             ],
             [
              0.4444444444444444,
              "#bd3786"
             ],
             [
              0.5555555555555556,
              "#d8576b"
             ],
             [
              0.6666666666666666,
              "#ed7953"
             ],
             [
              0.7777777777777778,
              "#fb9f3a"
             ],
             [
              0.8888888888888888,
              "#fdca26"
             ],
             [
              1,
              "#f0f921"
             ]
            ],
            "type": "histogram2dcontour"
           }
          ],
          "mesh3d": [
           {
            "colorbar": {
             "outlinewidth": 0,
             "ticks": ""
            },
            "type": "mesh3d"
           }
          ],
          "parcoords": [
           {
            "line": {
             "colorbar": {
              "outlinewidth": 0,
              "ticks": ""
             }
            },
            "type": "parcoords"
           }
          ],
          "pie": [
           {
            "automargin": true,
            "type": "pie"
           }
          ],
          "scatter": [
           {
            "fillpattern": {
             "fillmode": "overlay",
             "size": 10,
             "solidity": 0.2
            },
            "type": "scatter"
           }
          ],
          "scatter3d": [
           {
            "line": {
             "colorbar": {
              "outlinewidth": 0,
              "ticks": ""
             }
            },
            "marker": {
             "colorbar": {
              "outlinewidth": 0,
              "ticks": ""
             }
            },
            "type": "scatter3d"
           }
          ],
          "scattercarpet": [
           {
            "marker": {
             "colorbar": {
              "outlinewidth": 0,
              "ticks": ""
             }
            },
            "type": "scattercarpet"
           }
          ],
          "scattergeo": [
           {
            "marker": {
             "colorbar": {
              "outlinewidth": 0,
              "ticks": ""
             }
            },
            "type": "scattergeo"
           }
          ],
          "scattergl": [
           {
            "marker": {
             "colorbar": {
              "outlinewidth": 0,
              "ticks": ""
             }
            },
            "type": "scattergl"
           }
          ],
          "scattermapbox": [
           {
            "marker": {
             "colorbar": {
              "outlinewidth": 0,
              "ticks": ""
             }
            },
            "type": "scattermapbox"
           }
          ],
          "scatterpolar": [
           {
            "marker": {
             "colorbar": {
              "outlinewidth": 0,
              "ticks": ""
             }
            },
            "type": "scatterpolar"
           }
          ],
          "scatterpolargl": [
           {
            "marker": {
             "colorbar": {
              "outlinewidth": 0,
              "ticks": ""
             }
            },
            "type": "scatterpolargl"
           }
          ],
          "scatterternary": [
           {
            "marker": {
             "colorbar": {
              "outlinewidth": 0,
              "ticks": ""
             }
            },
            "type": "scatterternary"
           }
          ],
          "surface": [
           {
            "colorbar": {
             "outlinewidth": 0,
             "ticks": ""
            },
            "colorscale": [
             [
              0,
              "#0d0887"
             ],
             [
              0.1111111111111111,
              "#46039f"
             ],
             [
              0.2222222222222222,
              "#7201a8"
             ],
             [
              0.3333333333333333,
              "#9c179e"
             ],
             [
              0.4444444444444444,
              "#bd3786"
             ],
             [
              0.5555555555555556,
              "#d8576b"
             ],
             [
              0.6666666666666666,
              "#ed7953"
             ],
             [
              0.7777777777777778,
              "#fb9f3a"
             ],
             [
              0.8888888888888888,
              "#fdca26"
             ],
             [
              1,
              "#f0f921"
             ]
            ],
            "type": "surface"
           }
          ],
          "table": [
           {
            "cells": {
             "fill": {
              "color": "#EBF0F8"
             },
             "line": {
              "color": "white"
             }
            },
            "header": {
             "fill": {
              "color": "#C8D4E3"
             },
             "line": {
              "color": "white"
             }
            },
            "type": "table"
           }
          ]
         },
         "layout": {
          "annotationdefaults": {
           "arrowcolor": "#2a3f5f",
           "arrowhead": 0,
           "arrowwidth": 1
          },
          "autotypenumbers": "strict",
          "coloraxis": {
           "colorbar": {
            "outlinewidth": 0,
            "ticks": ""
           }
          },
          "colorscale": {
           "diverging": [
            [
             0,
             "#8e0152"
            ],
            [
             0.1,
             "#c51b7d"
            ],
            [
             0.2,
             "#de77ae"
            ],
            [
             0.3,
             "#f1b6da"
            ],
            [
             0.4,
             "#fde0ef"
            ],
            [
             0.5,
             "#f7f7f7"
            ],
            [
             0.6,
             "#e6f5d0"
            ],
            [
             0.7,
             "#b8e186"
            ],
            [
             0.8,
             "#7fbc41"
            ],
            [
             0.9,
             "#4d9221"
            ],
            [
             1,
             "#276419"
            ]
           ],
           "sequential": [
            [
             0,
             "#0d0887"
            ],
            [
             0.1111111111111111,
             "#46039f"
            ],
            [
             0.2222222222222222,
             "#7201a8"
            ],
            [
             0.3333333333333333,
             "#9c179e"
            ],
            [
             0.4444444444444444,
             "#bd3786"
            ],
            [
             0.5555555555555556,
             "#d8576b"
            ],
            [
             0.6666666666666666,
             "#ed7953"
            ],
            [
             0.7777777777777778,
             "#fb9f3a"
            ],
            [
             0.8888888888888888,
             "#fdca26"
            ],
            [
             1,
             "#f0f921"
            ]
           ],
           "sequentialminus": [
            [
             0,
             "#0d0887"
            ],
            [
             0.1111111111111111,
             "#46039f"
            ],
            [
             0.2222222222222222,
             "#7201a8"
            ],
            [
             0.3333333333333333,
             "#9c179e"
            ],
            [
             0.4444444444444444,
             "#bd3786"
            ],
            [
             0.5555555555555556,
             "#d8576b"
            ],
            [
             0.6666666666666666,
             "#ed7953"
            ],
            [
             0.7777777777777778,
             "#fb9f3a"
            ],
            [
             0.8888888888888888,
             "#fdca26"
            ],
            [
             1,
             "#f0f921"
            ]
           ]
          },
          "colorway": [
           "#636efa",
           "#EF553B",
           "#00cc96",
           "#ab63fa",
           "#FFA15A",
           "#19d3f3",
           "#FF6692",
           "#B6E880",
           "#FF97FF",
           "#FECB52"
          ],
          "font": {
           "color": "#2a3f5f"
          },
          "geo": {
           "bgcolor": "white",
           "lakecolor": "white",
           "landcolor": "#E5ECF6",
           "showlakes": true,
           "showland": true,
           "subunitcolor": "white"
          },
          "hoverlabel": {
           "align": "left"
          },
          "hovermode": "closest",
          "mapbox": {
           "style": "light"
          },
          "paper_bgcolor": "white",
          "plot_bgcolor": "#E5ECF6",
          "polar": {
           "angularaxis": {
            "gridcolor": "white",
            "linecolor": "white",
            "ticks": ""
           },
           "bgcolor": "#E5ECF6",
           "radialaxis": {
            "gridcolor": "white",
            "linecolor": "white",
            "ticks": ""
           }
          },
          "scene": {
           "xaxis": {
            "backgroundcolor": "#E5ECF6",
            "gridcolor": "white",
            "gridwidth": 2,
            "linecolor": "white",
            "showbackground": true,
            "ticks": "",
            "zerolinecolor": "white"
           },
           "yaxis": {
            "backgroundcolor": "#E5ECF6",
            "gridcolor": "white",
            "gridwidth": 2,
            "linecolor": "white",
            "showbackground": true,
            "ticks": "",
            "zerolinecolor": "white"
           },
           "zaxis": {
            "backgroundcolor": "#E5ECF6",
            "gridcolor": "white",
            "gridwidth": 2,
            "linecolor": "white",
            "showbackground": true,
            "ticks": "",
            "zerolinecolor": "white"
           }
          },
          "shapedefaults": {
           "line": {
            "color": "#2a3f5f"
           }
          },
          "ternary": {
           "aaxis": {
            "gridcolor": "white",
            "linecolor": "white",
            "ticks": ""
           },
           "baxis": {
            "gridcolor": "white",
            "linecolor": "white",
            "ticks": ""
           },
           "bgcolor": "#E5ECF6",
           "caxis": {
            "gridcolor": "white",
            "linecolor": "white",
            "ticks": ""
           }
          },
          "title": {
           "x": 0.05
          },
          "xaxis": {
           "automargin": true,
           "gridcolor": "white",
           "linecolor": "white",
           "ticks": "",
           "title": {
            "standoff": 15
           },
           "zerolinecolor": "white",
           "zerolinewidth": 2
          },
          "yaxis": {
           "automargin": true,
           "gridcolor": "white",
           "linecolor": "white",
           "ticks": "",
           "title": {
            "standoff": 15
           },
           "zerolinecolor": "white",
           "zerolinewidth": 2
          }
         }
        },
        "title": {
         "text": "Modelled vs Data (with James' equation)",
         "x": 0.5
        },
        "xaxis": {
         "title": {
          "text": "Year"
         }
        },
        "yaxis": {
         "title": {
          "text": "Notifications"
         }
        }
       }
      }
     },
     "metadata": {},
     "output_type": "display_data"
    }
   ],
   "source": [
    "notif_1 = px.line(\n",
    "    derived_df_0,\n",
    "    x=derived_df_0.index,\n",
    "    y=\"notifications\",\n",
    ")\n",
    "notif_2 = px.scatter(x= plots['notifications']['times'], y = plots['notifications']['values'])\n",
    "notif_2.update_traces(marker=dict(color=\"red\"))\n",
    "notif_plot = go.Figure(\n",
    "    data=notif_1.data + notif_2.data,\n",
    ")\n",
    "notif_plot.update_layout(\n",
    "    title=\"Modelled vs Data (with James' equation)\", title_x=0.5, xaxis_title=\"Year\", yaxis_title=\"Notifications\"\n",
    ")\n",
    "notif_plot.show()"
   ]
  },
  {
   "cell_type": "code",
   "execution_count": 17,
   "metadata": {},
   "outputs": [
    {
     "data": {
      "application/vnd.plotly.v1+json": {
       "config": {
        "plotlyServerURL": "https://plot.ly"
       },
       "data": [
        {
         "hovertemplate": "index=%{x}<br>prevalence_infectious=%{y}<extra></extra>",
         "legendgroup": "",
         "line": {
          "color": "#636efa",
          "dash": "solid"
         },
         "marker": {
          "symbol": "circle"
         },
         "mode": "lines",
         "name": "",
         "showlegend": false,
         "type": "scattergl",
         "x": [
          1900,
          1900.1,
          1900.2,
          1900.3,
          1900.4,
          1900.5,
          1900.6,
          1900.7,
          1900.8,
          1900.9,
          1901,
          1901.1,
          1901.2,
          1901.3,
          1901.4,
          1901.5,
          1901.6,
          1901.7,
          1901.8,
          1901.9,
          1902,
          1902.1,
          1902.2,
          1902.3,
          1902.4,
          1902.5,
          1902.6,
          1902.7,
          1902.8,
          1902.9,
          1903,
          1903.1,
          1903.2,
          1903.3,
          1903.4,
          1903.5,
          1903.6,
          1903.7,
          1903.8,
          1903.9,
          1904,
          1904.1,
          1904.2,
          1904.3,
          1904.4,
          1904.5,
          1904.6,
          1904.7,
          1904.8,
          1904.9,
          1905,
          1905.1,
          1905.2,
          1905.3,
          1905.4,
          1905.5,
          1905.6,
          1905.7,
          1905.8,
          1905.9,
          1906,
          1906.1,
          1906.2,
          1906.3,
          1906.4,
          1906.5,
          1906.6,
          1906.7,
          1906.8,
          1906.9,
          1907,
          1907.1,
          1907.2,
          1907.3,
          1907.4,
          1907.5,
          1907.6,
          1907.7,
          1907.8,
          1907.9,
          1908,
          1908.1,
          1908.2,
          1908.3,
          1908.4,
          1908.5,
          1908.6,
          1908.7,
          1908.8,
          1908.9,
          1909,
          1909.1,
          1909.2,
          1909.3,
          1909.4,
          1909.5,
          1909.6,
          1909.7,
          1909.8,
          1909.9,
          1910,
          1910.1,
          1910.2,
          1910.3,
          1910.4,
          1910.5,
          1910.6,
          1910.7,
          1910.8,
          1910.9,
          1911,
          1911.1,
          1911.2,
          1911.3,
          1911.4,
          1911.5,
          1911.6,
          1911.7,
          1911.8,
          1911.9,
          1912,
          1912.1,
          1912.2,
          1912.3,
          1912.4,
          1912.5,
          1912.6,
          1912.7,
          1912.8,
          1912.9,
          1913,
          1913.1,
          1913.2,
          1913.3,
          1913.4,
          1913.5,
          1913.6,
          1913.7,
          1913.8,
          1913.9,
          1914,
          1914.1,
          1914.2,
          1914.3,
          1914.4,
          1914.5,
          1914.6,
          1914.7,
          1914.8,
          1914.9,
          1915,
          1915.1,
          1915.2,
          1915.3,
          1915.4,
          1915.5,
          1915.6,
          1915.7,
          1915.8,
          1915.9,
          1916,
          1916.1,
          1916.2,
          1916.3,
          1916.4,
          1916.5,
          1916.6,
          1916.7,
          1916.8,
          1916.9,
          1917,
          1917.1,
          1917.2,
          1917.3,
          1917.4,
          1917.5,
          1917.6,
          1917.7,
          1917.8,
          1917.9,
          1918,
          1918.1,
          1918.2,
          1918.3,
          1918.4,
          1918.5,
          1918.6,
          1918.7,
          1918.8,
          1918.9,
          1919,
          1919.1,
          1919.2,
          1919.3,
          1919.4,
          1919.5,
          1919.6,
          1919.7,
          1919.8,
          1919.9,
          1920,
          1920.1,
          1920.2,
          1920.3,
          1920.4,
          1920.5,
          1920.6,
          1920.7,
          1920.8,
          1920.9,
          1921,
          1921.1,
          1921.2,
          1921.3,
          1921.4,
          1921.5,
          1921.6,
          1921.7,
          1921.8,
          1921.9,
          1922,
          1922.1,
          1922.2,
          1922.3,
          1922.4,
          1922.5,
          1922.6,
          1922.7,
          1922.8,
          1922.9,
          1923,
          1923.1,
          1923.2,
          1923.3,
          1923.4,
          1923.5,
          1923.6,
          1923.7,
          1923.8,
          1923.9,
          1924,
          1924.1,
          1924.2,
          1924.3,
          1924.4,
          1924.5,
          1924.6,
          1924.7,
          1924.8,
          1924.9,
          1925,
          1925.1,
          1925.2,
          1925.3,
          1925.4,
          1925.5,
          1925.6,
          1925.7,
          1925.8,
          1925.9,
          1926,
          1926.1,
          1926.2,
          1926.3,
          1926.4,
          1926.5,
          1926.6,
          1926.7,
          1926.8,
          1926.9,
          1927,
          1927.1,
          1927.2,
          1927.3,
          1927.4,
          1927.5,
          1927.6,
          1927.7,
          1927.8,
          1927.9,
          1928,
          1928.1,
          1928.2,
          1928.3,
          1928.4,
          1928.5,
          1928.6,
          1928.7,
          1928.8,
          1928.9,
          1929,
          1929.1,
          1929.2,
          1929.3,
          1929.4,
          1929.5,
          1929.6,
          1929.7,
          1929.8,
          1929.9,
          1930,
          1930.1,
          1930.2,
          1930.3,
          1930.4,
          1930.5,
          1930.6,
          1930.7,
          1930.8,
          1930.9,
          1931,
          1931.1,
          1931.2,
          1931.3,
          1931.4,
          1931.5,
          1931.6,
          1931.7,
          1931.8,
          1931.9,
          1932,
          1932.1,
          1932.2,
          1932.3,
          1932.4,
          1932.5,
          1932.6,
          1932.7,
          1932.8,
          1932.9,
          1933,
          1933.1,
          1933.2,
          1933.3,
          1933.4,
          1933.5,
          1933.6,
          1933.7,
          1933.8,
          1933.9,
          1934,
          1934.1,
          1934.2,
          1934.3,
          1934.4,
          1934.5,
          1934.6,
          1934.7,
          1934.8,
          1934.9,
          1935,
          1935.1,
          1935.2,
          1935.3,
          1935.4,
          1935.5,
          1935.6,
          1935.7,
          1935.8,
          1935.9,
          1936,
          1936.1,
          1936.2,
          1936.3,
          1936.4,
          1936.5,
          1936.6,
          1936.7,
          1936.8,
          1936.9,
          1937,
          1937.1,
          1937.2,
          1937.3,
          1937.4,
          1937.5,
          1937.6,
          1937.7,
          1937.8,
          1937.9,
          1938,
          1938.1,
          1938.2,
          1938.3,
          1938.4,
          1938.5,
          1938.6,
          1938.7,
          1938.8,
          1938.9,
          1939,
          1939.1,
          1939.2,
          1939.3,
          1939.4,
          1939.5,
          1939.6,
          1939.7,
          1939.8,
          1939.9,
          1940,
          1940.1,
          1940.2,
          1940.3,
          1940.4,
          1940.5,
          1940.6,
          1940.7,
          1940.8,
          1940.9,
          1941,
          1941.1,
          1941.2,
          1941.3,
          1941.4,
          1941.5,
          1941.6,
          1941.7,
          1941.8,
          1941.9,
          1942,
          1942.1,
          1942.2,
          1942.3,
          1942.4,
          1942.5,
          1942.6,
          1942.7,
          1942.8,
          1942.9,
          1943,
          1943.1,
          1943.2,
          1943.3,
          1943.4,
          1943.5,
          1943.6,
          1943.7,
          1943.8,
          1943.9,
          1944,
          1944.1,
          1944.2,
          1944.3,
          1944.4,
          1944.5,
          1944.6,
          1944.7,
          1944.8,
          1944.9,
          1945,
          1945.1,
          1945.2,
          1945.3,
          1945.4,
          1945.5,
          1945.6,
          1945.7,
          1945.8,
          1945.9,
          1946,
          1946.1,
          1946.2,
          1946.3,
          1946.4,
          1946.5,
          1946.6,
          1946.7,
          1946.8,
          1946.9,
          1947,
          1947.1,
          1947.2,
          1947.3,
          1947.4,
          1947.5,
          1947.6,
          1947.7,
          1947.8,
          1947.9,
          1948,
          1948.1,
          1948.2,
          1948.3,
          1948.4,
          1948.5,
          1948.6,
          1948.7,
          1948.8,
          1948.9,
          1949,
          1949.1,
          1949.2,
          1949.3,
          1949.4,
          1949.5,
          1949.6,
          1949.7,
          1949.8,
          1949.9,
          1950,
          1950.1,
          1950.2,
          1950.3,
          1950.4,
          1950.5,
          1950.6,
          1950.7,
          1950.8,
          1950.9,
          1951,
          1951.1,
          1951.2,
          1951.3,
          1951.4,
          1951.5,
          1951.6,
          1951.7,
          1951.8,
          1951.9,
          1952,
          1952.1,
          1952.2,
          1952.3,
          1952.4,
          1952.5,
          1952.6,
          1952.7,
          1952.8,
          1952.9,
          1953,
          1953.1,
          1953.2,
          1953.3,
          1953.4,
          1953.5,
          1953.6,
          1953.7,
          1953.8,
          1953.9,
          1954,
          1954.1,
          1954.2,
          1954.3,
          1954.4,
          1954.5,
          1954.6,
          1954.7,
          1954.8,
          1954.9,
          1955,
          1955.1,
          1955.2,
          1955.3,
          1955.4,
          1955.5,
          1955.6,
          1955.7,
          1955.8,
          1955.9,
          1956,
          1956.1,
          1956.2,
          1956.3,
          1956.4,
          1956.5,
          1956.6,
          1956.7,
          1956.8,
          1956.9,
          1957,
          1957.1,
          1957.2,
          1957.3,
          1957.4,
          1957.5,
          1957.6,
          1957.7,
          1957.8,
          1957.9,
          1958,
          1958.1,
          1958.2,
          1958.3,
          1958.4,
          1958.5,
          1958.6,
          1958.7,
          1958.8,
          1958.9,
          1959,
          1959.1,
          1959.2,
          1959.3,
          1959.4,
          1959.5,
          1959.6,
          1959.7,
          1959.8,
          1959.9,
          1960,
          1960.1,
          1960.2,
          1960.3,
          1960.4,
          1960.5,
          1960.6,
          1960.7,
          1960.8,
          1960.9,
          1961,
          1961.1,
          1961.2,
          1961.3,
          1961.4,
          1961.5,
          1961.6,
          1961.7,
          1961.8,
          1961.9,
          1962,
          1962.1,
          1962.2,
          1962.3,
          1962.4,
          1962.5,
          1962.6,
          1962.7,
          1962.8,
          1962.9,
          1963,
          1963.1,
          1963.2,
          1963.3,
          1963.4,
          1963.5,
          1963.6,
          1963.7,
          1963.8,
          1963.9,
          1964,
          1964.1,
          1964.2,
          1964.3,
          1964.4,
          1964.5,
          1964.6,
          1964.7,
          1964.8,
          1964.9,
          1965,
          1965.1,
          1965.2,
          1965.3,
          1965.4,
          1965.5,
          1965.6,
          1965.7,
          1965.8,
          1965.9,
          1966,
          1966.1,
          1966.2,
          1966.3,
          1966.4,
          1966.5,
          1966.6,
          1966.7,
          1966.8,
          1966.9,
          1967,
          1967.1,
          1967.2,
          1967.3,
          1967.4,
          1967.5,
          1967.6,
          1967.7,
          1967.8,
          1967.9,
          1968,
          1968.1,
          1968.2,
          1968.3,
          1968.4,
          1968.5,
          1968.6,
          1968.7,
          1968.8,
          1968.9,
          1969,
          1969.1,
          1969.2,
          1969.3,
          1969.4,
          1969.5,
          1969.6,
          1969.7,
          1969.8,
          1969.9,
          1970,
          1970.1,
          1970.2,
          1970.3,
          1970.4,
          1970.5,
          1970.6,
          1970.7,
          1970.8,
          1970.9,
          1971,
          1971.1,
          1971.2,
          1971.3,
          1971.4,
          1971.5,
          1971.6,
          1971.7,
          1971.8,
          1971.9,
          1972,
          1972.1,
          1972.2,
          1972.3,
          1972.4,
          1972.5,
          1972.6,
          1972.7,
          1972.8,
          1972.9,
          1973,
          1973.1,
          1973.2,
          1973.3,
          1973.4,
          1973.5,
          1973.6,
          1973.7,
          1973.8,
          1973.9,
          1974,
          1974.1,
          1974.2,
          1974.3,
          1974.4,
          1974.5,
          1974.6,
          1974.7,
          1974.8,
          1974.9,
          1975,
          1975.1,
          1975.2,
          1975.3,
          1975.4,
          1975.5,
          1975.6,
          1975.7,
          1975.8,
          1975.9,
          1976,
          1976.1,
          1976.2,
          1976.3,
          1976.4,
          1976.5,
          1976.6,
          1976.7,
          1976.8,
          1976.9,
          1977,
          1977.1,
          1977.2,
          1977.3,
          1977.4,
          1977.5,
          1977.6,
          1977.7,
          1977.8,
          1977.9,
          1978,
          1978.1,
          1978.2,
          1978.3,
          1978.4,
          1978.5,
          1978.6,
          1978.7,
          1978.8,
          1978.9,
          1979,
          1979.1,
          1979.2,
          1979.3,
          1979.4,
          1979.5,
          1979.6,
          1979.7,
          1979.8,
          1979.9,
          1980,
          1980.1,
          1980.2,
          1980.3,
          1980.4,
          1980.5,
          1980.6,
          1980.7,
          1980.8,
          1980.9,
          1981,
          1981.1,
          1981.2,
          1981.3,
          1981.4,
          1981.5,
          1981.6,
          1981.7,
          1981.8,
          1981.9,
          1982,
          1982.1,
          1982.2,
          1982.3,
          1982.4,
          1982.5,
          1982.6,
          1982.7,
          1982.8,
          1982.9,
          1983,
          1983.1,
          1983.2,
          1983.3,
          1983.4,
          1983.5,
          1983.6,
          1983.7,
          1983.8,
          1983.9,
          1984,
          1984.1,
          1984.2,
          1984.3,
          1984.4,
          1984.5,
          1984.6,
          1984.7,
          1984.8,
          1984.9,
          1985,
          1985.1,
          1985.2,
          1985.3,
          1985.4,
          1985.5,
          1985.6,
          1985.7,
          1985.8,
          1985.9,
          1986,
          1986.1,
          1986.2,
          1986.3,
          1986.4,
          1986.5,
          1986.6,
          1986.7,
          1986.8,
          1986.9,
          1987,
          1987.1,
          1987.2,
          1987.3,
          1987.4,
          1987.5,
          1987.6,
          1987.7,
          1987.8,
          1987.9,
          1988,
          1988.1,
          1988.2,
          1988.3,
          1988.4,
          1988.5,
          1988.6,
          1988.7,
          1988.8,
          1988.9,
          1989,
          1989.1,
          1989.2,
          1989.3,
          1989.4,
          1989.5,
          1989.6,
          1989.7,
          1989.8,
          1989.9,
          1990,
          1990.1,
          1990.2,
          1990.3,
          1990.4,
          1990.5,
          1990.6,
          1990.7,
          1990.8,
          1990.9,
          1991,
          1991.1,
          1991.2,
          1991.3,
          1991.4,
          1991.5,
          1991.6,
          1991.7,
          1991.8,
          1991.9,
          1992,
          1992.1,
          1992.2,
          1992.3,
          1992.4,
          1992.5,
          1992.6,
          1992.7,
          1992.8,
          1992.9,
          1993,
          1993.1,
          1993.2,
          1993.3,
          1993.4,
          1993.5,
          1993.6,
          1993.7,
          1993.8,
          1993.9,
          1994,
          1994.1,
          1994.2,
          1994.3,
          1994.4,
          1994.5,
          1994.6,
          1994.7,
          1994.8,
          1994.9,
          1995,
          1995.1,
          1995.2,
          1995.3,
          1995.4,
          1995.5,
          1995.6,
          1995.7,
          1995.8,
          1995.9,
          1996,
          1996.1,
          1996.2,
          1996.3,
          1996.4,
          1996.5,
          1996.6,
          1996.7,
          1996.8,
          1996.9,
          1997,
          1997.1,
          1997.2,
          1997.3,
          1997.4,
          1997.5,
          1997.6,
          1997.7,
          1997.8,
          1997.9,
          1998,
          1998.1,
          1998.2,
          1998.3,
          1998.4,
          1998.5,
          1998.6,
          1998.7,
          1998.8,
          1998.9,
          1999,
          1999.1,
          1999.2,
          1999.3,
          1999.4,
          1999.5,
          1999.6,
          1999.7,
          1999.8,
          1999.9,
          2000,
          2000.1,
          2000.2,
          2000.3,
          2000.4,
          2000.5,
          2000.6,
          2000.7,
          2000.8,
          2000.9,
          2001,
          2001.1,
          2001.2,
          2001.3,
          2001.4,
          2001.5,
          2001.6,
          2001.7,
          2001.8,
          2001.9,
          2002,
          2002.1,
          2002.2,
          2002.3,
          2002.4,
          2002.5,
          2002.6,
          2002.7,
          2002.8,
          2002.9,
          2003,
          2003.1,
          2003.2,
          2003.3,
          2003.4,
          2003.5,
          2003.6,
          2003.7,
          2003.8,
          2003.9,
          2004,
          2004.1,
          2004.2,
          2004.3,
          2004.4,
          2004.5,
          2004.6,
          2004.7,
          2004.8,
          2004.9,
          2005,
          2005.1,
          2005.2,
          2005.3,
          2005.4,
          2005.5,
          2005.6,
          2005.7,
          2005.8,
          2005.9,
          2006,
          2006.1,
          2006.2,
          2006.3,
          2006.4,
          2006.5,
          2006.6,
          2006.7,
          2006.8,
          2006.9,
          2007,
          2007.1,
          2007.2,
          2007.3,
          2007.4,
          2007.5,
          2007.6,
          2007.7,
          2007.8,
          2007.9,
          2008,
          2008.1,
          2008.2,
          2008.3,
          2008.4,
          2008.5,
          2008.6,
          2008.7,
          2008.8,
          2008.9,
          2009,
          2009.1,
          2009.2,
          2009.3,
          2009.4,
          2009.5,
          2009.6,
          2009.7,
          2009.8,
          2009.9,
          2010,
          2010.1,
          2010.2,
          2010.3,
          2010.4,
          2010.5,
          2010.6,
          2010.7,
          2010.8,
          2010.9,
          2011,
          2011.1,
          2011.2,
          2011.3,
          2011.4,
          2011.5,
          2011.6,
          2011.7,
          2011.8,
          2011.9,
          2012,
          2012.1,
          2012.2,
          2012.3,
          2012.4,
          2012.5,
          2012.6,
          2012.7,
          2012.8,
          2012.9,
          2013,
          2013.1,
          2013.2,
          2013.3,
          2013.4,
          2013.5,
          2013.6,
          2013.7,
          2013.8,
          2013.9,
          2014,
          2014.1,
          2014.2,
          2014.3,
          2014.4,
          2014.5,
          2014.6,
          2014.7,
          2014.8,
          2014.9,
          2015,
          2015.1,
          2015.2,
          2015.3,
          2015.4,
          2015.5,
          2015.6,
          2015.7,
          2015.8,
          2015.9,
          2016,
          2016.1,
          2016.2,
          2016.3,
          2016.4,
          2016.5,
          2016.6,
          2016.7,
          2016.8,
          2016.9,
          2017,
          2017.1,
          2017.2,
          2017.3,
          2017.4,
          2017.5,
          2017.6,
          2017.7,
          2017.8,
          2017.9,
          2018,
          2018.1,
          2018.2,
          2018.3,
          2018.4,
          2018.5,
          2018.6,
          2018.7,
          2018.8,
          2018.9,
          2019,
          2019.1,
          2019.2,
          2019.3,
          2019.4,
          2019.5,
          2019.6,
          2019.7,
          2019.8,
          2019.9,
          2020
         ],
         "xaxis": "x",
         "y": [
          0.37417858220956735,
          0.3689101278129108,
          0.37664342200542955,
          0.3907659667353171,
          0.408457572479799,
          0.4280626785005201,
          0.4490386810420889,
          0.47089311435111414,
          0.49365660296440933,
          0.5173082426913437,
          0.5417975697262468,
          0.5672868237868857,
          0.5938652952876626,
          0.6215391149703405,
          0.6503741493798414,
          0.6805316703714741,
          0.7121205179824858,
          0.7451925715177107,
          0.779744347497323,
          0.8158510368370159,
          0.8537398164377838,
          0.8935532457484361,
          0.9353252756616858,
          0.9789848618490821,
          1.0246149865237784,
          1.0725865544265474,
          1.1231096355679093,
          1.1761878991298844,
          1.2316275847198632,
          1.2895940422097945,
          1.3505535663588795,
          1.414678755464352,
          1.4819003815384977,
          1.5522172754398782,
          1.6260524343038194,
          1.7036424822838792,
          1.785066673347121,
          1.8703085207324242,
          1.9596959034757602,
          2.053597689168272,
          2.152221380234031,
          2.255617732034059,
          2.363810581042986,
          2.4773119567796424,
          2.5965997242761185,
          2.72190059133075,
          2.8531912892782727,
          2.9905116820979654,
          3.134620098000126,
          3.2860267641917447,
          3.4449230265079134,
          3.6112488632361592,
          3.785546761334182,
          3.96853021045677,
          4.16061419431663,
          4.361948004019252,
          4.572725746393593,
          4.793815361802842,
          5.0259127758714515,
          5.269426954603792,
          5.52448631506304,
          5.791538690953943,
          6.0717368544189165,
          6.365912041270658,
          6.674486996297883,
          6.997499913672126,
          7.335662784860625,
          7.690552872747474,
          8.063197124473371,
          8.45400089037383,
          8.862829211150908,
          9.290831983481196,
          9.740116085375094,
          10.211916270531118,
          10.70655987986501,
          11.223773035097974,
          11.76560934375145,
          12.334248668285671,
          12.930815211808968,
          13.555537604922728,
          14.209601117888232,
          14.895451202232982,
          15.614751811995145,
          16.368547738722015,
          17.15766662812636,
          17.98454978968047,
          18.851622335877913,
          19.76067819996374,
          20.712895755343883,
          21.709352628190416,
          22.753401260568097,
          23.848427195321538,
          24.996682186765952,
          26.19928916377288,
          27.45699111983386,
          28.774375200548203,
          30.155830246575274,
          31.603954756609035,
          33.11965261957206,
          34.70540589950411,
          36.36701320096835,
          38.108669675694784,
          39.93298108033987,
          41.84129965259474,
          43.83850153609323,
          45.931181402077016,
          48.12401911908683,
          50.41978479280862,
          52.81988951310197,
          55.330995607935236,
          57.9620050468656,
          60.718760861764146,
          63.60397884657892,
          66.61791500450707,
          69.76894840318435,
          73.07016539791019,
          76.52934130194589,
          80.14869933265055,
          83.92640300134151,
          87.87497410796905,
          92.00909176248925,
          96.33617344387854,
          100.8574180141432,
          105.57881358376278,
          110.51641814567778,
          115.68092166863721,
          121.07832298811203,
          126.71183549548424,
          132.59584257349823,
          138.74672100703324,
          145.1751705669818,
          151.88626253151702,
          158.88185384950833,
          166.18165729450033,
          173.80967656694622,
          181.7790111577582,
          190.09174919147628,
          198.74319662159587,
          207.76021951504958,
          217.17142150588967,
          226.9890051845595,
          237.21031184681044,
          247.84419012080082,
          258.9242671259739,
          270.4703806642037,
          282.4882990640232,
          294.97425517856885,
          307.9553301970318,
          321.46607450080467,
          335.52217636765397,
          350.12043469249977,
          365.25064660143124,
          380.9562932737719,
          397.2801315987473,
          414.23338529483436,
          431.79595311449907,
          449.95270264936835,
          468.7677198974141,
          488.2745254047722,
          508.4684279051419,
          529.316036787055,
          550.8509005017113,
          573.1206463663216,
          596.1325136680424,
          619.8552137672675,
          644.2716557535712,
          669.4448926422165,
          695.4032444354781,
          722.1242892355106,
          749.5418938727205,
          777.6755842774362,
          806.5992426387681,
          836.3179218794639,
          866.7654560039995,
          897.8490457016462,
          929.6484327897881,
          962.2260529640744,
          995.5468096310946,
          1029.4804332170056,
          1063.9826016342047,
          1099.1549344339126,
          1134.9927305899967,
          1171.395804859391,
          1208.2593083297272,
          1245.6527224940473,
          1283.5805052924586,
          1321.9585919881767,
          1360.6462250217435,
          1399.6697432893654,
          1439.0696680745739,
          1478.7828230298394,
          1518.644944084149,
          1558.5673647297294,
          1598.6460790464491,
          1638.871785839945,
          1679.1089954940194,
          1719.1421758051604,
          1759.02443824198,
          1798.8333727903514,
          1838.4966258454724,
          1877.7965287541754,
          1916.5943253140756,
          1955.0389222842377,
          1993.1450723112075,
          2030.76866713567,
          2067.6482798781203,
          2103.8384002047555,
          2139.460654473943,
          2174.463991143353,
          2208.634009189528,
          2241.7998226362943,
          2274.1429665875607,
          2305.7111510838968,
          2336.39076399701,
          2365.9345564007763,
          2394.3849852787575,
          2421.8934142964517,
          2448.4461132237448,
          2473.878312496245,
          2498.0258617515237,
          2521.06860634452,
          2543.081466916311,
          2564.001037079492,
          2583.6409485446293,
          2602.0275604011927,
          2619.315361890101,
          2635.5246794206337,
          2650.5580839760514,
          2664.2911467523813,
          2676.872256929453,
          2688.386564777535,
          2698.81686933,
          2708.0522206985006,
          2716.103954214327,
          2723.1098997463064,
          2729.1137268368243,
          2734.0764254541104,
          2737.908387316894,
          2740.707416705754,
          2742.5819094523204,
          2743.55609147919,
          2743.575859230724,
          2742.5758052929154,
          2740.6945866333103,
          2738.0302208474372,
          2734.5930050180764,
          2730.3076626562233,
          2725.131216418894,
          2719.2323544447077,
          2712.702848288336,
          2705.5344802022983,
          2697.6209508955476,
          2688.955239513773,
          2679.7292344704333,
          2670.026016621885,
          2659.810397343264,
          2648.9423706829075,
          2637.501159086667,
          2625.641967294987,
          2613.389028038615,
          2600.669771305904,
          2587.4784955361647,
          2573.928030148846,
          2560.0538294830876,
          2545.8379784774907,
          2531.2468040362596,
          2516.356314168022,
          2501.2226144683295,
          2485.8572552802457,
          2470.2284746032055,
          2454.306235243176,
          2438.1864680048566,
          2421.941922721929,
          2405.57784448811,
          2389.0324332749724,
          2372.241572144922,
          2355.3363824157823,
          2338.3792672978557,
          2321.3503913273275,
          2304.173404131689,
          2286.90763006199,
          2269.6172632344546,
          2252.3080636568798,
          2234.9364320274003,
          2217.4920243674587,
          2200.049782992879,
          2182.6424640704663,
          2165.255299427706,
          2147.82882374141,
          2130.3704121993746,
          2112.975901016118,
          2095.6809729739452,
          2078.4528565641117,
          2061.1969119812006,
          2043.9485566716066,
          2026.805263524837,
          2009.7767431702255,
          1992.8027108428282,
          1975.8529661008004,
          1959.0053522502662,
          1942.28143400005,
          1925.6567009747546,
          1909.0803246047733,
          1892.5959276519745,
          1876.2491952112373,
          1860.0409847585497,
          1843.9290512460327,
          1827.8673491599593,
          1811.9263307695749,
          1796.1563519020722,
          1780.548695293916,
          1765.0361771853877,
          1749.5732486049762,
          1734.2566227415587,
          1719.1154544285937,
          1704.118733218528,
          1689.2002361390225,
          1674.4080274766832,
          1659.7810280291062,
          1645.3122125430043,
          1630.9545149148091,
          1616.7001204572318,
          1602.6021760708927,
          1588.676174253242,
          1574.898673773538,
          1561.2139257176432,
          1547.6414264747214,
          1534.2418333221028,
          1521.0262505285227,
          1507.9557145733797,
          1494.959394169732,
          1482.0888487674506,
          1469.3941992910848,
          1456.8682357556938,
          1444.454768806047,
          1432.1454003903866,
          1419.9928866246505,
          1408.0062437833728,
          1396.1579468275631,
          1384.4054312211997,
          1372.7864343569097,
          1361.3306702591108,
          1350.0323400968305,
          1338.851366935326,
          1327.757789381328,
          1316.806672595918,
          1306.0257516716142,
          1295.4000769176464,
          1284.8726114740768,
          1274.4302006520493,
          1264.135996500343,
          1254.0027736678594,
          1244.0005835968113,
          1234.0808085562514,
          1224.2840121021968,
          1214.6360113568614,
          1205.1280402108098,
          1195.7202399884968,
          1186.4066358018724,
          1177.2278425960349,
          1168.1940380563292,
          1159.2850136194284,
          1150.4563321528788,
          1141.7247936711135,
          1133.1329178672881,
          1124.6860832940592,
          1116.3531892674157,
          1108.0800752978214,
          1099.9025230754432,
          1091.8706335124245,
          1083.9859190089753,
          1076.2026386342495,
          1068.4641981218597,
          1060.8345326384108,
          1053.3400294863761,
          1045.9630579626212,
          1038.6571068736728,
          1031.4449202395917,
          1024.3496377169595,
          1017.3664161932938,
          1010.4679410065352,
          1003.6487047762141,
          996.9354663563121,
          990.3352679399685,
          983.8349098872415,
          977.4030139867273,
          971.0429334312631,
          964.7921985617608,
          958.6612916720828,
          952.6309058134092,
          946.6539284852557,
          940.7384969037796,
          934.9289155065121,
          929.2282536336443,
          923.6069012337576,
          918.0407606181622,
          912.5642730248044,
          907.1868813932172,
          901.8965211519159,
          896.6650037774917,
          891.5039331434796,
          886.4356375906963,
          881.4615197007964,
          876.5630303053973,
          871.710243292468,
          866.924942966115,
          862.2367369793251,
          857.6468951316906,
          853.1285969636758,
          848.6410338875122,
          844.2200044802814,
          839.8916618681349,
          835.6487957827532,
          831.4564384856774,
          827.3157882817477,
          823.2541751558614,
          819.2741336641405,
          815.3584025683252,
          811.4853205551394,
          807.6774182189894,
          803.9491051836809,
          800.2960923529993,
          796.6958154885812,
          793.1297378724305,
          789.6293974376885,
          786.2133802028206,
          782.8748562087511,
          779.5817880759444,
          776.3124055434201,
          773.109417456318,
          769.9854470450963,
          766.9258097332072,
          763.8976650052725,
          760.9195914099747,
          758.0104070273183,
          755.1675197322926,
          752.3697826280068,
          749.6066872607075,
          746.9026579577653,
          744.2667036041366,
          741.6903715809008,
          739.1484250708278,
          736.6367156383797,
          734.1865255794897,
          731.8089416489984,
          729.4913777624962,
          727.1985577199665,
          724.931699657172,
          722.7265305576897,
          720.5880303372196,
          718.4959324632414,
          716.4249263676442,
          714.4020040499216,
          712.4391578994953,
          710.5297176844376,
          708.6504723796434,
          706.8024692606068,
          705.0079472936086,
          703.2718115664394,
          701.5821531975314,
          699.9133385272976,
          698.2742686565451,
          696.692398825617,
          695.1729998872224,
          693.6988453023405,
          692.2355377189895,
          690.801650651636,
          689.424559630758,
          688.1034839197338,
          686.8135427652049,
          685.5409984999088,
          684.3138219441868,
          683.1394667589914,
          682.0077924166186,
          680.8954144269991,
          679.8128003016577,
          678.7791481023446,
          677.7960402377698,
          676.8484576239346,
          675.9124436477306,
          675.0068503655925,
          674.1546777669362,
          673.356551922183,
          672.5911290553469,
          671.8282782081337,
          671.0977925977478,
          670.419816006452,
          669.7887667525438,
          669.1763880977448,
          668.5813293865665,
          668.028971089413,
          667.5234821275179,
          667.0514819099018,
          666.5912303515566,
          666.1604589130044,
          665.7751316151622,
          665.4338176384824,
          665.1184346081859,
          664.80897942586,
          664.5312285277283,
          664.3037783423124,
          664.1231007830487,
          663.9638463335053,
          663.8035459032332,
          663.6779010705083,
          663.6010764583723,
          663.563090257043,
          663.5340897301587,
          663.5236126830453,
          663.5538286246931,
          663.6258912833473,
          663.7231615404226,
          663.8274076216047,
          663.9613633818682,
          664.1380096354917,
          664.3530193458679,
          664.5850839934271,
          664.8205676352976,
          665.088984225706,
          665.4050700038,
          665.7613375617254,
          666.1282596519109,
          666.4946402462093,
          666.8969166705498,
          667.344681888145,
          667.8236301390076,
          668.30413328306,
          668.8049661793555,
          669.3448947140348,
          669.9221040511061,
          670.5164719486987,
          671.1154541266726,
          671.7443797121591,
          672.4136570210522,
          673.115957819096,
          673.8267263846147,
          674.5405686134305,
          675.2883712661452,
          676.0814066137947,
          676.9080406607842,
          677.7348702802367,
          678.5638704710144,
          679.4293201849462,
          680.336710147859,
          681.2668247950652,
          682.1926858983674,
          683.1413113263867,
          684.1284847401557,
          685.149273979179,
          686.1797038751823,
          687.2175141592097,
          688.2914672491953,
          689.4111171024812,
          690.5665945949279,
          691.7320779135738,
          692.9196610262189,
          694.1577578688726,
          695.4522627442294,
          696.7877591440827,
          698.1333786593127,
          699.5064128173997,
          700.9362444140731,
          702.425851296144,
          703.9530713020238,
          705.4805098475533,
          707.0337610477691,
          708.6461384515889,
          710.3184754689399,
          712.0203862531474,
          713.7117277429869,
          715.4339598870667,
          717.2093142948803,
          719.0283452718432,
          720.855339917526,
          722.6956080713849,
          724.574974625962,
          726.4949680098711,
          728.4381574747175,
          730.3847662105575,
          732.357223819114,
          734.368529027832,
          736.4145668345924,
          738.4744978639604,
          740.529548847861,
          742.6097040987481,
          744.7351968731211,
          746.901669853842,
          749.080449534639,
          751.2408161005825,
          753.4247407130555,
          755.6531385459267,
          757.9166311033031,
          760.1801526416615,
          762.4516821919235,
          764.7601031090499,
          767.1096182113583,
          769.4845177555933,
          771.8639117181876,
          774.273309136783,
          776.7303388917101,
          779.2329243246236,
          781.7599071649032,
          784.2855241707084,
          786.8371539651681,
          789.4380292617698,
          792.0833034301023,
          794.740395721112,
          797.3666631590999,
          800.0018669697744,
          802.6709228501245,
          805.3635680979112,
          808.0403754490278,
          810.705849545228,
          813.3891436183405,
          816.0926683688559,
          818.7974777011475,
          821.4807971508935,
          824.1685045925204,
          826.877299714821,
          829.6034458540158,
          832.3232398341552,
          835.013446134408,
          837.7096008905803,
          840.437232799585,
          843.191984723274,
          845.9399618377353,
          848.6447624805744,
          851.356221231479,
          854.0978880515572,
          856.8577339638665,
          859.5945506712417,
          862.3194334736924,
          865.0626704247994,
          867.8261745031532,
          870.5886775244844,
          873.3266682541121,
          876.069591656407,
          878.8351434038914,
          881.6188012708752,
          884.3942681305159,
          887.1388922917781,
          889.8927346736799,
          892.682015632056,
          895.5019400115938,
          898.3170485782795,
          901.0952499655347,
          903.8924265908751,
          906.7329655411679,
          909.6051363583964,
          912.4669318348041,
          915.3304768377897,
          918.2265681188669,
          921.1549238054253,
          924.0897199575087,
          926.997553752242,
          929.9037030443923,
          932.8266550363429,
          935.758201396406,
          938.663982604215,
          941.5088491037109,
          944.3366390218839,
          947.1788656773487,
          950.0275570817182,
          952.8357579927206,
          955.5679385578238,
          958.2884002903871,
          961.0172767937648,
          963.7348587095455,
          966.3953018899058,
          969.0263858092871,
          971.6548837717502,
          974.2777952649969,
          976.8667814022793,
          979.4108013280593,
          981.9436454965314,
          984.4777559841534,
          987.0020997399499,
          989.4830882650069,
          991.9152353943304,
          994.3440292228742,
          996.7873154201678,
          999.2291517505156,
          1001.6203824958645,
          1003.9538858332784,
          1006.2871605626059,
          1008.6319528156025,
          1010.9620069993329,
          1013.2357176244849,
          1015.4905974847206,
          1017.7491789545097,
          1020.005293399462,
          1022.226974642997,
          1024.4090005921323,
          1026.588133330025,
          1028.776858082648,
          1030.962786717313,
          1033.110396277173,
          1035.2221140867177,
          1037.3452993008675,
          1039.4958407802274,
          1041.654915799268,
          1043.7705367319045,
          1045.844166486878,
          1047.926808840605,
          1050.0238393123009,
          1052.1023356866456,
          1054.1178426870147,
          1056.1085334633276,
          1058.0948802994312,
          1060.066595490112,
          1061.9851510854871,
          1063.8447151334194,
          1065.6851309340427,
          1067.51772223416,
          1069.324862278191,
          1071.0638634370196,
          1072.745676845846,
          1074.4168787013762,
          1076.0880265004262,
          1077.733370797882,
          1079.2973176278294,
          1080.800954085204,
          1082.3056234192193,
          1083.8233305380995,
          1085.316730389455,
          1086.7153104598228,
          1088.068583200437,
          1089.423178542849,
          1090.7720970226515,
          1092.0667693633936,
          1093.3088546570877,
          1094.5362603039498,
          1095.752526947859,
          1096.935882259106,
          1098.0629718881491,
          1099.163842352828,
          1100.25533049841,
          1101.3323708147145,
          1102.3683081337747,
          1103.3401305413092,
          1104.2893717076765,
          1105.2446064682872,
          1106.2011091921004,
          1107.1211165817092,
          1107.9611562238663,
          1108.7791682835766,
          1109.6054055637512,
          1110.4280615392945,
          1111.2007065669923,
          1111.9341903048178,
          1112.6615696489,
          1113.3837087502195,
          1114.0761206522316,
          1114.7084776150753,
          1115.308205316802,
          1115.8942666110077,
          1116.4598810652521,
          1116.972956405983,
          1117.3970680784953,
          1117.7757475009712,
          1118.147018145502,
          1118.5068989839133,
          1118.80980068561,
          1119.004671167017,
          1119.15970462349,
          1119.3041316697766,
          1119.421628310092,
          1119.4647929659156,
          1119.4584412334773,
          1119.430175238771,
          1119.3781602010836,
          1119.2768114010228,
          1119.117334151501,
          1118.930907699428,
          1118.7294393358734,
          1118.5038103381903,
          1118.2243559399099,
          1117.8819446662906,
          1117.521929560865,
          1117.165905680839,
          1116.802224411522,
          1116.3862705036304,
          1115.8920801147885,
          1115.3836060804995,
          1114.8786313492953,
          1114.3561141840805,
          1113.7734404732682,
          1113.1620288210324,
          1112.5447146718218,
          1111.9174605776261,
          1111.2530643064997,
          1110.5452627629318,
          1109.8259818179038,
          1109.1067931402354,
          1108.3778348659746,
          1107.6085028230254,
          1106.7931404262379,
          1105.9766438746901,
          1105.178466396848,
          1104.3857088005982,
          1103.5533836305344,
          1102.6624733365618,
          1101.770772047785,
          1100.8909833384118,
          1099.9990508021785,
          1099.0512282991153,
          1098.07706969249,
          1097.0981537561377,
          1096.1086697402204,
          1095.07854468714,
          1093.998797275232,
          1092.9032948590464,
          1091.8039337241612,
          1090.688970922453,
          1089.5242675545308,
          1088.3084343956014,
          1087.0861083221769,
          1085.8732730455004,
          1084.653342632901,
          1083.378547768343,
          1082.05253047834,
          1080.7265780256894,
          1079.4092139378977,
          1078.0740237712962,
          1076.6861808008716,
          1075.2840097581964,
          1073.8860772968897,
          1072.485237332986,
          1071.0512210098423,
          1069.5838124436445,
          1068.115355733971,
          1066.6549697201906,
          1065.189019613189,
          1063.683717749072,
          1062.1461161104305,
          1060.617082102614,
          1059.1080805238878,
          1057.5996277160982,
          1056.0446455852286,
          1054.4578928424269,
          1052.8841881848662,
          1051.3279935778035,
          1049.760305872757,
          1048.1534178608647,
          1046.5471167775488,
          1044.9564262403392,
          1043.372175396153,
          1041.7640749402437,
          1040.13830357984,
          1038.5247571087948,
          1036.9291204890574,
          1035.3337699009048,
          1033.7018123631142,
          1032.0437777629438,
          1030.3993140407376,
          1028.7741097189619,
          1027.1383528984652,
          1025.4359394430537,
          1023.6972828595143,
          1021.9596630565435,
          1020.2144684256067,
          1018.4182391596886,
          1016.5756656016985,
          1014.7076853175865,
          1012.8065979245146,
          1010.8443827320326,
          1008.8033288045094,
          1006.5773842254521,
          1004.0974751640786,
          1001.3643902855484,
          998.3304485611935,
          995.0081104590427,
          991.3614333509854,
          987.3883459149771,
          983.1325228854126,
          978.5940554851156,
          973.7347657808217,
          968.5480761133417,
          963.0417362503995,
          957.208102723544,
          951.0291231980349,
          944.5243565381721,
          937.7409189426254,
          930.703817381977,
          923.4165453137431,
          915.915030987703,
          908.2154252934506,
          900.3315522055614,
          892.3068865784786,
          884.1635257495157,
          875.8915342150049,
          867.5141972934354,
          859.0902661917066,
          850.6452292513763,
          842.1658107651994,
          833.675175559767,
          825.2171180272651,
          816.77384821232,
          808.330152394576,
          799.9136554129524,
          791.5398864943605,
          783.1946332275534,
          774.8837322556933,
          766.6224204702361,
          758.4118217245248,
          750.2408759215533,
          742.105958744084,
          734.010564777806,
          725.9378125932185,
          717.8838274235749,
          709.850837873399,
          701.8330068288301,
          693.8230721038045,
          685.8319100125941,
          677.8607633237083,
          669.9086756204061,
          661.9735829844565,
          654.0504048975955,
          646.1246804903731,
          638.2085695053177,
          630.3101996773985,
          622.4264274385657,
          614.542911660543,
          606.639778618813,
          598.7371010625136,
          590.8520369459939,
          582.9907417245098,
          575.1518319089929,
          567.330901802177,
          559.5234983701354,
          551.6647130349552,
          543.644247542169,
          535.4183375612478,
          527.0677305923675,
          518.6802231032856,
          510.345005564586,
          502.0892134507846,
          493.92250448922505,
          485.86881103207327,
          477.9267578306558,
          470.0960700599188,
          462.3720964375047,
          454.758222986513,
          447.2640091698494,
          439.8846104942284,
          432.6139543502518,
          425.46253061770653,
          418.42893645461976,
          411.50474644306786,
          404.67850850150666,
          397.9029346828664,
          391.11912015330324,
          384.293703041764,
          377.4656996642798,
          370.6844816585889,
          363.9804346273507,
          357.3494432603462,
          350.7884504200784,
          344.2858405917798,
          337.8329524846889,
          331.4155095121968,
          325.0121167422842,
          318.61974424986244,
          312.2614385031966,
          305.9653725996646,
          299.7559340450096,
          293.63789300718014,
          287.62511090444565,
          281.7284110462294,
          275.95268040886407,
          270.3466435989432,
          264.97617402368,
          259.8600609210305,
          254.9556705115447,
          250.20997578477042,
          245.5870859855578,
          241.0724442175313,
          236.65148214406793,
          232.32194133020695,
          228.07001399462058,
          223.8602457247269,
          219.640120792437,
          215.3852914729557,
          211.13578630082873,
          206.9398330567413,
          202.82389802034987,
          198.80181168738883,
          194.88128529548672,
          191.06165219838113,
          187.34481699554374,
          183.73286958626113,
          180.23065608184706,
          176.83841071055716,
          173.5505512860015,
          170.36070544451928,
          167.2594297539756,
          164.24234354803968,
          161.30671206697932,
          158.45022818095566,
          155.67309977327608,
          152.9846276429097,
          150.40115595704347,
          147.92808554982096,
          145.54932245844705,
          143.24096748720848,
          140.9710998196259,
          138.70588642779117,
          136.4316863974673,
          134.16646837274894,
          131.92876414920968,
          129.73378337375678,
          127.5846883117846,
          125.48465460727382,
          123.44058032619368,
          121.452210773323,
          119.52189116459715,
          117.65097605803173,
          115.83423910350093,
          114.06777885553797,
          112.34743894453099,
          110.6657083715096,
          109.01413400448689,
          107.38914350705097,
          105.79422966543333,
          104.23100263514567,
          102.69201992404541,
          101.16100272849668,
          99.63509653965457,
          98.12418536520468,
          96.6377231439652,
          95.17765962817595,
          93.7386373608377,
          92.31924650246133,
          90.92508571384751,
          89.56235778694398,
          88.23256365428755,
          86.93046852951265,
          85.6533425515776,
          84.40507801063441,
          83.18909154933793,
          82.01371842177566,
          80.8893548279499,
          79.81684768252052,
          78.79257863155688,
          77.81201755955905,
          76.88071734249196,
          76.01479278178985,
          75.22038447905165,
          74.48682416050266,
          73.79931590854126,
          73.14303552923946,
          72.50843367570339,
          71.89226948033273,
          71.28999774865333,
          70.70001084273754,
          70.1117831386671,
          69.50461607020397,
          68.87054964074551,
          68.21820004403808,
          67.56202251453652,
          66.91320410422563,
          66.28070776967006,
          65.66656874441311,
          65.07322588108156,
          64.50215074387725,
          63.95837085097735,
          63.44738460314947,
          62.965987149522014,
          62.50687926226878,
          62.06644553890774,
          61.64152699864183,
          61.229725259409875,
          60.82931448258577,
          60.43993876252254,
          60.0627968285977,
          59.70078294658248,
          59.36241827325665,
          59.05229337792107,
          58.76727627072646,
          58.50267413110621,
          58.25369006904513,
          58.01763229551044,
          57.792091236214375,
          57.57620944195418,
          57.36854154456144,
          57.16743653962948,
          56.97300091621033,
          56.78531110915368,
          56.60354870134167,
          56.42660718892174,
          56.25508577242179,
          56.08914686029147,
          55.928333492561805,
          55.77181502200343,
          55.61918789696374,
          55.46607105696104,
          55.308229162597556,
          55.14288367256162,
          54.97225650332025,
          54.79909225891603,
          54.62519940792585,
          54.449954389515185,
          54.273576577744365,
          54.096607465243835,
          53.91915538510169,
          53.73684176085818,
          53.542538717885606,
          53.33534377017613,
          53.12003097274684,
          52.90082940584959,
          52.67985999131318,
          52.45756818269047,
          52.23468659093085,
          52.01273946499578,
          51.79618558942779,
          51.59399717385817,
          51.41197517394346,
          51.250463394993936,
          51.106149794656325,
          50.97223844466642,
          50.84572332648216,
          50.7229717748529,
          50.60281928490182,
          50.48609670677702,
          50.37348527082425,
          50.267528477167296,
          50.16808123938658,
          50.07315722426642,
          49.980258633382995,
          49.89105333444893,
          49.81478147800199,
          49.76175091903554,
          49.740267640199505,
          49.74107093544439,
          49.75284281057542,
          49.766432040408255,
          49.77803228730594,
          49.78800067937645,
          49.79892058603314,
          49.808495211542635,
          49.809110595142755,
          49.79116289010633,
          49.7488764258497,
          49.688292244618516,
          49.61784826363204,
          49.54211778578896,
          49.46052421603235,
          49.376268428095315,
          49.29202331772851,
          49.20988196842803,
          49.13301628596069,
          49.06303945984767,
          49.00104246876922,
          48.94707661808864,
          48.898243608988984,
          48.85287509920036,
          48.808312233611765,
          48.763872192547716,
          48.719096744078755,
          48.67403154936567,
          48.63085114684394,
          48.59220815252161,
          48.55904618780398,
          48.530064698025974,
          48.50383198396404,
          48.47873482625011,
          48.45387838854212,
          48.42958363805332,
          48.40522321715386,
          48.38000337011523,
          48.34954667947805,
          48.30882639935434,
          48.2545549673556,
          48.191240540190016,
          48.1242317917484,
          48.05724767986885,
          47.98943827752587,
          47.919674642301445,
          47.847347707496304,
          47.77388751993399,
          47.70331395840121,
          47.639039643498194,
          47.58281067548101,
          47.533227916503286,
          47.488291062244706,
          47.444423209340194,
          47.39819775894816,
          47.34912767734107,
          47.29710977394301,
          47.243948910969856,
          47.19130933182875,
          47.14146937082702,
          47.09562420564578,
          47.05279449156633,
          47.01250146944668,
          46.974900261592985,
          46.94081436885674,
          46.91163592385281,
          46.88716124791256,
          46.86662119371065,
          46.847018953814164
         ],
         "yaxis": "y"
        }
       ],
       "layout": {
        "legend": {
         "tracegroupgap": 0
        },
        "margin": {
         "t": 60
        },
        "template": {
         "data": {
          "bar": [
           {
            "error_x": {
             "color": "#2a3f5f"
            },
            "error_y": {
             "color": "#2a3f5f"
            },
            "marker": {
             "line": {
              "color": "#E5ECF6",
              "width": 0.5
             },
             "pattern": {
              "fillmode": "overlay",
              "size": 10,
              "solidity": 0.2
             }
            },
            "type": "bar"
           }
          ],
          "barpolar": [
           {
            "marker": {
             "line": {
              "color": "#E5ECF6",
              "width": 0.5
             },
             "pattern": {
              "fillmode": "overlay",
              "size": 10,
              "solidity": 0.2
             }
            },
            "type": "barpolar"
           }
          ],
          "carpet": [
           {
            "aaxis": {
             "endlinecolor": "#2a3f5f",
             "gridcolor": "white",
             "linecolor": "white",
             "minorgridcolor": "white",
             "startlinecolor": "#2a3f5f"
            },
            "baxis": {
             "endlinecolor": "#2a3f5f",
             "gridcolor": "white",
             "linecolor": "white",
             "minorgridcolor": "white",
             "startlinecolor": "#2a3f5f"
            },
            "type": "carpet"
           }
          ],
          "choropleth": [
           {
            "colorbar": {
             "outlinewidth": 0,
             "ticks": ""
            },
            "type": "choropleth"
           }
          ],
          "contour": [
           {
            "colorbar": {
             "outlinewidth": 0,
             "ticks": ""
            },
            "colorscale": [
             [
              0,
              "#0d0887"
             ],
             [
              0.1111111111111111,
              "#46039f"
             ],
             [
              0.2222222222222222,
              "#7201a8"
             ],
             [
              0.3333333333333333,
              "#9c179e"
             ],
             [
              0.4444444444444444,
              "#bd3786"
             ],
             [
              0.5555555555555556,
              "#d8576b"
             ],
             [
              0.6666666666666666,
              "#ed7953"
             ],
             [
              0.7777777777777778,
              "#fb9f3a"
             ],
             [
              0.8888888888888888,
              "#fdca26"
             ],
             [
              1,
              "#f0f921"
             ]
            ],
            "type": "contour"
           }
          ],
          "contourcarpet": [
           {
            "colorbar": {
             "outlinewidth": 0,
             "ticks": ""
            },
            "type": "contourcarpet"
           }
          ],
          "heatmap": [
           {
            "colorbar": {
             "outlinewidth": 0,
             "ticks": ""
            },
            "colorscale": [
             [
              0,
              "#0d0887"
             ],
             [
              0.1111111111111111,
              "#46039f"
             ],
             [
              0.2222222222222222,
              "#7201a8"
             ],
             [
              0.3333333333333333,
              "#9c179e"
             ],
             [
              0.4444444444444444,
              "#bd3786"
             ],
             [
              0.5555555555555556,
              "#d8576b"
             ],
             [
              0.6666666666666666,
              "#ed7953"
             ],
             [
              0.7777777777777778,
              "#fb9f3a"
             ],
             [
              0.8888888888888888,
              "#fdca26"
             ],
             [
              1,
              "#f0f921"
             ]
            ],
            "type": "heatmap"
           }
          ],
          "heatmapgl": [
           {
            "colorbar": {
             "outlinewidth": 0,
             "ticks": ""
            },
            "colorscale": [
             [
              0,
              "#0d0887"
             ],
             [
              0.1111111111111111,
              "#46039f"
             ],
             [
              0.2222222222222222,
              "#7201a8"
             ],
             [
              0.3333333333333333,
              "#9c179e"
             ],
             [
              0.4444444444444444,
              "#bd3786"
             ],
             [
              0.5555555555555556,
              "#d8576b"
             ],
             [
              0.6666666666666666,
              "#ed7953"
             ],
             [
              0.7777777777777778,
              "#fb9f3a"
             ],
             [
              0.8888888888888888,
              "#fdca26"
             ],
             [
              1,
              "#f0f921"
             ]
            ],
            "type": "heatmapgl"
           }
          ],
          "histogram": [
           {
            "marker": {
             "pattern": {
              "fillmode": "overlay",
              "size": 10,
              "solidity": 0.2
             }
            },
            "type": "histogram"
           }
          ],
          "histogram2d": [
           {
            "colorbar": {
             "outlinewidth": 0,
             "ticks": ""
            },
            "colorscale": [
             [
              0,
              "#0d0887"
             ],
             [
              0.1111111111111111,
              "#46039f"
             ],
             [
              0.2222222222222222,
              "#7201a8"
             ],
             [
              0.3333333333333333,
              "#9c179e"
             ],
             [
              0.4444444444444444,
              "#bd3786"
             ],
             [
              0.5555555555555556,
              "#d8576b"
             ],
             [
              0.6666666666666666,
              "#ed7953"
             ],
             [
              0.7777777777777778,
              "#fb9f3a"
             ],
             [
              0.8888888888888888,
              "#fdca26"
             ],
             [
              1,
              "#f0f921"
             ]
            ],
            "type": "histogram2d"
           }
          ],
          "histogram2dcontour": [
           {
            "colorbar": {
             "outlinewidth": 0,
             "ticks": ""
            },
            "colorscale": [
             [
              0,
              "#0d0887"
             ],
             [
              0.1111111111111111,
              "#46039f"
             ],
             [
              0.2222222222222222,
              "#7201a8"
             ],
             [
              0.3333333333333333,
              "#9c179e"
             ],
             [
              0.4444444444444444,
              "#bd3786"
             ],
             [
              0.5555555555555556,
              "#d8576b"
             ],
             [
              0.6666666666666666,
              "#ed7953"
             ],
             [
              0.7777777777777778,
              "#fb9f3a"
             ],
             [
              0.8888888888888888,
              "#fdca26"
             ],
             [
              1,
              "#f0f921"
             ]
            ],
            "type": "histogram2dcontour"
           }
          ],
          "mesh3d": [
           {
            "colorbar": {
             "outlinewidth": 0,
             "ticks": ""
            },
            "type": "mesh3d"
           }
          ],
          "parcoords": [
           {
            "line": {
             "colorbar": {
              "outlinewidth": 0,
              "ticks": ""
             }
            },
            "type": "parcoords"
           }
          ],
          "pie": [
           {
            "automargin": true,
            "type": "pie"
           }
          ],
          "scatter": [
           {
            "fillpattern": {
             "fillmode": "overlay",
             "size": 10,
             "solidity": 0.2
            },
            "type": "scatter"
           }
          ],
          "scatter3d": [
           {
            "line": {
             "colorbar": {
              "outlinewidth": 0,
              "ticks": ""
             }
            },
            "marker": {
             "colorbar": {
              "outlinewidth": 0,
              "ticks": ""
             }
            },
            "type": "scatter3d"
           }
          ],
          "scattercarpet": [
           {
            "marker": {
             "colorbar": {
              "outlinewidth": 0,
              "ticks": ""
             }
            },
            "type": "scattercarpet"
           }
          ],
          "scattergeo": [
           {
            "marker": {
             "colorbar": {
              "outlinewidth": 0,
              "ticks": ""
             }
            },
            "type": "scattergeo"
           }
          ],
          "scattergl": [
           {
            "marker": {
             "colorbar": {
              "outlinewidth": 0,
              "ticks": ""
             }
            },
            "type": "scattergl"
           }
          ],
          "scattermapbox": [
           {
            "marker": {
             "colorbar": {
              "outlinewidth": 0,
              "ticks": ""
             }
            },
            "type": "scattermapbox"
           }
          ],
          "scatterpolar": [
           {
            "marker": {
             "colorbar": {
              "outlinewidth": 0,
              "ticks": ""
             }
            },
            "type": "scatterpolar"
           }
          ],
          "scatterpolargl": [
           {
            "marker": {
             "colorbar": {
              "outlinewidth": 0,
              "ticks": ""
             }
            },
            "type": "scatterpolargl"
           }
          ],
          "scatterternary": [
           {
            "marker": {
             "colorbar": {
              "outlinewidth": 0,
              "ticks": ""
             }
            },
            "type": "scatterternary"
           }
          ],
          "surface": [
           {
            "colorbar": {
             "outlinewidth": 0,
             "ticks": ""
            },
            "colorscale": [
             [
              0,
              "#0d0887"
             ],
             [
              0.1111111111111111,
              "#46039f"
             ],
             [
              0.2222222222222222,
              "#7201a8"
             ],
             [
              0.3333333333333333,
              "#9c179e"
             ],
             [
              0.4444444444444444,
              "#bd3786"
             ],
             [
              0.5555555555555556,
              "#d8576b"
             ],
             [
              0.6666666666666666,
              "#ed7953"
             ],
             [
              0.7777777777777778,
              "#fb9f3a"
             ],
             [
              0.8888888888888888,
              "#fdca26"
             ],
             [
              1,
              "#f0f921"
             ]
            ],
            "type": "surface"
           }
          ],
          "table": [
           {
            "cells": {
             "fill": {
              "color": "#EBF0F8"
             },
             "line": {
              "color": "white"
             }
            },
            "header": {
             "fill": {
              "color": "#C8D4E3"
             },
             "line": {
              "color": "white"
             }
            },
            "type": "table"
           }
          ]
         },
         "layout": {
          "annotationdefaults": {
           "arrowcolor": "#2a3f5f",
           "arrowhead": 0,
           "arrowwidth": 1
          },
          "autotypenumbers": "strict",
          "coloraxis": {
           "colorbar": {
            "outlinewidth": 0,
            "ticks": ""
           }
          },
          "colorscale": {
           "diverging": [
            [
             0,
             "#8e0152"
            ],
            [
             0.1,
             "#c51b7d"
            ],
            [
             0.2,
             "#de77ae"
            ],
            [
             0.3,
             "#f1b6da"
            ],
            [
             0.4,
             "#fde0ef"
            ],
            [
             0.5,
             "#f7f7f7"
            ],
            [
             0.6,
             "#e6f5d0"
            ],
            [
             0.7,
             "#b8e186"
            ],
            [
             0.8,
             "#7fbc41"
            ],
            [
             0.9,
             "#4d9221"
            ],
            [
             1,
             "#276419"
            ]
           ],
           "sequential": [
            [
             0,
             "#0d0887"
            ],
            [
             0.1111111111111111,
             "#46039f"
            ],
            [
             0.2222222222222222,
             "#7201a8"
            ],
            [
             0.3333333333333333,
             "#9c179e"
            ],
            [
             0.4444444444444444,
             "#bd3786"
            ],
            [
             0.5555555555555556,
             "#d8576b"
            ],
            [
             0.6666666666666666,
             "#ed7953"
            ],
            [
             0.7777777777777778,
             "#fb9f3a"
            ],
            [
             0.8888888888888888,
             "#fdca26"
            ],
            [
             1,
             "#f0f921"
            ]
           ],
           "sequentialminus": [
            [
             0,
             "#0d0887"
            ],
            [
             0.1111111111111111,
             "#46039f"
            ],
            [
             0.2222222222222222,
             "#7201a8"
            ],
            [
             0.3333333333333333,
             "#9c179e"
            ],
            [
             0.4444444444444444,
             "#bd3786"
            ],
            [
             0.5555555555555556,
             "#d8576b"
            ],
            [
             0.6666666666666666,
             "#ed7953"
            ],
            [
             0.7777777777777778,
             "#fb9f3a"
            ],
            [
             0.8888888888888888,
             "#fdca26"
            ],
            [
             1,
             "#f0f921"
            ]
           ]
          },
          "colorway": [
           "#636efa",
           "#EF553B",
           "#00cc96",
           "#ab63fa",
           "#FFA15A",
           "#19d3f3",
           "#FF6692",
           "#B6E880",
           "#FF97FF",
           "#FECB52"
          ],
          "font": {
           "color": "#2a3f5f"
          },
          "geo": {
           "bgcolor": "white",
           "lakecolor": "white",
           "landcolor": "#E5ECF6",
           "showlakes": true,
           "showland": true,
           "subunitcolor": "white"
          },
          "hoverlabel": {
           "align": "left"
          },
          "hovermode": "closest",
          "mapbox": {
           "style": "light"
          },
          "paper_bgcolor": "white",
          "plot_bgcolor": "#E5ECF6",
          "polar": {
           "angularaxis": {
            "gridcolor": "white",
            "linecolor": "white",
            "ticks": ""
           },
           "bgcolor": "#E5ECF6",
           "radialaxis": {
            "gridcolor": "white",
            "linecolor": "white",
            "ticks": ""
           }
          },
          "scene": {
           "xaxis": {
            "backgroundcolor": "#E5ECF6",
            "gridcolor": "white",
            "gridwidth": 2,
            "linecolor": "white",
            "showbackground": true,
            "ticks": "",
            "zerolinecolor": "white"
           },
           "yaxis": {
            "backgroundcolor": "#E5ECF6",
            "gridcolor": "white",
            "gridwidth": 2,
            "linecolor": "white",
            "showbackground": true,
            "ticks": "",
            "zerolinecolor": "white"
           },
           "zaxis": {
            "backgroundcolor": "#E5ECF6",
            "gridcolor": "white",
            "gridwidth": 2,
            "linecolor": "white",
            "showbackground": true,
            "ticks": "",
            "zerolinecolor": "white"
           }
          },
          "shapedefaults": {
           "line": {
            "color": "#2a3f5f"
           }
          },
          "ternary": {
           "aaxis": {
            "gridcolor": "white",
            "linecolor": "white",
            "ticks": ""
           },
           "baxis": {
            "gridcolor": "white",
            "linecolor": "white",
            "ticks": ""
           },
           "bgcolor": "#E5ECF6",
           "caxis": {
            "gridcolor": "white",
            "linecolor": "white",
            "ticks": ""
           }
          },
          "title": {
           "x": 0.05
          },
          "xaxis": {
           "automargin": true,
           "gridcolor": "white",
           "linecolor": "white",
           "ticks": "",
           "title": {
            "standoff": 15
           },
           "zerolinecolor": "white",
           "zerolinewidth": 2
          },
          "yaxis": {
           "automargin": true,
           "gridcolor": "white",
           "linecolor": "white",
           "ticks": "",
           "title": {
            "standoff": 15
           },
           "zerolinecolor": "white",
           "zerolinewidth": 2
          }
         }
        },
        "xaxis": {
         "anchor": "y",
         "domain": [
          0,
          1
         ],
         "title": {
          "text": "index"
         }
        },
        "yaxis": {
         "anchor": "x",
         "domain": [
          0,
          1
         ],
         "title": {
          "text": "prevalence_infectious"
         }
        }
       }
      }
     },
     "metadata": {},
     "output_type": "display_data"
    }
   ],
   "source": [
    "notif_1 = px.line(\n",
    "    derived_df_0,\n",
    "    x=derived_df_0.index,\n",
    "    y=\"prevalence_infectious\",\n",
    ")\n",
    "notif_1.show()\n",
    "# notif_2 = px.scatter(x= plots['notifications']['times'], y = plots['notifications']['values'])\n",
    "# notif_2.update_traces(marker=dict(color=\"red\"))\n",
    "# notif_plot = go.Figure(\n",
    "#     data=notif_1.data + notif_2.data,\n",
    "# )\n",
    "# notif_plot.update_layout(\n",
    "#     title=\"Modelled vs Data\", title_x=0.5, xaxis_title=\"Year\", yaxis_title=\"Population\"\n",
    "# )\n",
    "# notif_plot.show()"
   ]
  },
  {
   "cell_type": "code",
   "execution_count": 18,
   "metadata": {},
   "outputs": [
    {
     "data": {
      "text/html": [
       "<div>\n",
       "<style scoped>\n",
       "    .dataframe tbody tr th:only-of-type {\n",
       "        vertical-align: middle;\n",
       "    }\n",
       "\n",
       "    .dataframe tbody tr th {\n",
       "        vertical-align: top;\n",
       "    }\n",
       "\n",
       "    .dataframe thead th {\n",
       "        text-align: right;\n",
       "    }\n",
       "</style>\n",
       "<table border=\"1\" class=\"dataframe\">\n",
       "  <thead>\n",
       "    <tr style=\"text-align: right;\">\n",
       "      <th></th>\n",
       "      <th>cumulative_deaths</th>\n",
       "      <th>cumulative_diseased</th>\n",
       "      <th>incidence</th>\n",
       "      <th>incidence_early</th>\n",
       "      <th>incidence_late</th>\n",
       "      <th>notifications</th>\n",
       "      <th>percentage_latent</th>\n",
       "      <th>prevalence_infectious</th>\n",
       "      <th>total_population</th>\n",
       "    </tr>\n",
       "  </thead>\n",
       "  <tbody>\n",
       "    <tr>\n",
       "      <th>1900.0</th>\n",
       "      <td>0.000000</td>\n",
       "      <td>0.000000</td>\n",
       "      <td>0.000000</td>\n",
       "      <td>0.000000</td>\n",
       "      <td>0.000000</td>\n",
       "      <td>0.780449</td>\n",
       "      <td>0.000000</td>\n",
       "      <td>0.374179</td>\n",
       "      <td>2.672521e+05</td>\n",
       "    </tr>\n",
       "    <tr>\n",
       "      <th>1900.1</th>\n",
       "      <td>0.000000</td>\n",
       "      <td>0.000000</td>\n",
       "      <td>0.869260</td>\n",
       "      <td>2.322593</td>\n",
       "      <td>0.000094</td>\n",
       "      <td>0.771960</td>\n",
       "      <td>0.000451</td>\n",
       "      <td>0.368910</td>\n",
       "      <td>2.672027e+05</td>\n",
       "    </tr>\n",
       "    <tr>\n",
       "      <th>1900.2</th>\n",
       "      <td>0.000000</td>\n",
       "      <td>0.000000</td>\n",
       "      <td>2.204147</td>\n",
       "      <td>5.888167</td>\n",
       "      <td>0.000430</td>\n",
       "      <td>0.768709</td>\n",
       "      <td>0.000872</td>\n",
       "      <td>0.376643</td>\n",
       "      <td>2.671598e+05</td>\n",
       "    </tr>\n",
       "    <tr>\n",
       "      <th>1900.3</th>\n",
       "      <td>0.000000</td>\n",
       "      <td>0.000000</td>\n",
       "      <td>2.942511</td>\n",
       "      <td>7.859117</td>\n",
       "      <td>0.001018</td>\n",
       "      <td>0.785924</td>\n",
       "      <td>0.001277</td>\n",
       "      <td>0.390766</td>\n",
       "      <td>2.671234e+05</td>\n",
       "    </tr>\n",
       "    <tr>\n",
       "      <th>1900.4</th>\n",
       "      <td>0.000000</td>\n",
       "      <td>0.000000</td>\n",
       "      <td>3.387961</td>\n",
       "      <td>9.047228</td>\n",
       "      <td>0.001789</td>\n",
       "      <td>0.813637</td>\n",
       "      <td>0.001678</td>\n",
       "      <td>0.408458</td>\n",
       "      <td>2.670933e+05</td>\n",
       "    </tr>\n",
       "    <tr>\n",
       "      <th>...</th>\n",
       "      <td>...</td>\n",
       "      <td>...</td>\n",
       "      <td>...</td>\n",
       "      <td>...</td>\n",
       "      <td>...</td>\n",
       "      <td>...</td>\n",
       "      <td>...</td>\n",
       "      <td>...</td>\n",
       "      <td>...</td>\n",
       "    </tr>\n",
       "    <tr>\n",
       "      <th>2019.6</th>\n",
       "      <td>60425.830487</td>\n",
       "      <td>191075.532611</td>\n",
       "      <td>214.965659</td>\n",
       "      <td>2138.538773</td>\n",
       "      <td>492.389545</td>\n",
       "      <td>1475.647811</td>\n",
       "      <td>29.681892</td>\n",
       "      <td>46.940814</td>\n",
       "      <td>1.223883e+06</td>\n",
       "    </tr>\n",
       "    <tr>\n",
       "      <th>2019.7</th>\n",
       "      <td>60486.324072</td>\n",
       "      <td>191339.054380</td>\n",
       "      <td>215.277382</td>\n",
       "      <td>2143.882957</td>\n",
       "      <td>491.334728</td>\n",
       "      <td>1475.434256</td>\n",
       "      <td>29.617596</td>\n",
       "      <td>46.911636</td>\n",
       "      <td>1.224103e+06</td>\n",
       "    </tr>\n",
       "    <tr>\n",
       "      <th>2019.8</th>\n",
       "      <td>60546.824722</td>\n",
       "      <td>191603.030314</td>\n",
       "      <td>215.609902</td>\n",
       "      <td>2149.476059</td>\n",
       "      <td>490.283281</td>\n",
       "      <td>1475.470294</td>\n",
       "      <td>29.553511</td>\n",
       "      <td>46.887161</td>\n",
       "      <td>1.224322e+06</td>\n",
       "    </tr>\n",
       "    <tr>\n",
       "      <th>2019.9</th>\n",
       "      <td>60607.341600</td>\n",
       "      <td>191867.400651</td>\n",
       "      <td>215.893801</td>\n",
       "      <td>2154.468170</td>\n",
       "      <td>489.235207</td>\n",
       "      <td>1475.714134</td>\n",
       "      <td>29.489590</td>\n",
       "      <td>46.866621</td>\n",
       "      <td>1.224539e+06</td>\n",
       "    </tr>\n",
       "    <tr>\n",
       "      <th>2020.0</th>\n",
       "      <td>60667.878031</td>\n",
       "      <td>192131.881976</td>\n",
       "      <td>215.946494</td>\n",
       "      <td>2156.622866</td>\n",
       "      <td>488.190378</td>\n",
       "      <td>1476.040587</td>\n",
       "      <td>29.425813</td>\n",
       "      <td>46.847019</td>\n",
       "      <td>1.224754e+06</td>\n",
       "    </tr>\n",
       "  </tbody>\n",
       "</table>\n",
       "<p>1201 rows × 9 columns</p>\n",
       "</div>"
      ],
      "text/plain": [
       "        cumulative_deaths  cumulative_diseased   incidence  incidence_early  \\\n",
       "1900.0           0.000000             0.000000    0.000000         0.000000   \n",
       "1900.1           0.000000             0.000000    0.869260         2.322593   \n",
       "1900.2           0.000000             0.000000    2.204147         5.888167   \n",
       "1900.3           0.000000             0.000000    2.942511         7.859117   \n",
       "1900.4           0.000000             0.000000    3.387961         9.047228   \n",
       "...                   ...                  ...         ...              ...   \n",
       "2019.6       60425.830487        191075.532611  214.965659      2138.538773   \n",
       "2019.7       60486.324072        191339.054380  215.277382      2143.882957   \n",
       "2019.8       60546.824722        191603.030314  215.609902      2149.476059   \n",
       "2019.9       60607.341600        191867.400651  215.893801      2154.468170   \n",
       "2020.0       60667.878031        192131.881976  215.946494      2156.622866   \n",
       "\n",
       "        incidence_late  notifications  percentage_latent  \\\n",
       "1900.0        0.000000       0.780449           0.000000   \n",
       "1900.1        0.000094       0.771960           0.000451   \n",
       "1900.2        0.000430       0.768709           0.000872   \n",
       "1900.3        0.001018       0.785924           0.001277   \n",
       "1900.4        0.001789       0.813637           0.001678   \n",
       "...                ...            ...                ...   \n",
       "2019.6      492.389545    1475.647811          29.681892   \n",
       "2019.7      491.334728    1475.434256          29.617596   \n",
       "2019.8      490.283281    1475.470294          29.553511   \n",
       "2019.9      489.235207    1475.714134          29.489590   \n",
       "2020.0      488.190378    1476.040587          29.425813   \n",
       "\n",
       "        prevalence_infectious  total_population  \n",
       "1900.0               0.374179      2.672521e+05  \n",
       "1900.1               0.368910      2.672027e+05  \n",
       "1900.2               0.376643      2.671598e+05  \n",
       "1900.3               0.390766      2.671234e+05  \n",
       "1900.4               0.408458      2.670933e+05  \n",
       "...                       ...               ...  \n",
       "2019.6              46.940814      1.223883e+06  \n",
       "2019.7              46.911636      1.224103e+06  \n",
       "2019.8              46.887161      1.224322e+06  \n",
       "2019.9              46.866621      1.224539e+06  \n",
       "2020.0              46.847019      1.224754e+06  \n",
       "\n",
       "[1201 rows x 9 columns]"
      ]
     },
     "execution_count": 18,
     "metadata": {},
     "output_type": "execute_result"
    }
   ],
   "source": [
    "model_0.get_derived_outputs_df()"
   ]
  }
 ],
 "metadata": {
  "kernelspec": {
   "display_name": "autumn",
   "language": "python",
   "name": "python3"
  },
  "language_info": {
   "codemirror_mode": {
    "name": "ipython",
    "version": 3
   },
   "file_extension": ".py",
   "mimetype": "text/x-python",
   "name": "python",
   "nbconvert_exporter": "python",
   "pygments_lexer": "ipython3",
   "version": "3.10.0"
  },
  "vscode": {
   "interpreter": {
    "hash": "32546788be758822ecff2a88079b35480b7d02e1a3a7c2c2e0e8f52550974ab3"
   }
  }
 },
 "nbformat": 4,
 "nbformat_minor": 4
}
