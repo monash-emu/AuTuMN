{
 "cells": [
  {
   "cell_type": "markdown",
   "metadata": {},
   "source": [
    "import warnings\n",
    "from typing import List\n",
    "\n",
    "import pandas as pd\n",
    "import plotly.graph_objects as go\n",
    "import plotly.express as px\n",
    "from autumn.core.project import get_project\n",
    "from autumn.settings import Region, Models\n",
    "from autumn.core import inputs\n",
    "from autumn.core.utils.display import pretty_print\n",
    "from autumn.core.inputs.tb_camau import queries\n",
    "import pathlib"
   ]
  },
  {
   "cell_type": "code",
   "execution_count": 2,
   "metadata": {},
   "outputs": [],
   "source": [
    "warnings.filterwarnings(\"ignore\")\n",
    "pd.options.plotting.backend = \"plotly\""
   ]
  },
  {
   "cell_type": "code",
   "execution_count": 3,
   "metadata": {},
   "outputs": [],
   "source": [
    "region = Region.CAMAU\n",
    "model = Models.TBD2\n",
    "p = get_project(model, region, reload=True)\n",
    "baseline_params = p.param_set.baseline\n",
    "plots = p.plots\n",
    "iso3 = baseline_params['country']['iso3']\n",
    "source_iso3 = baseline_params['age_mixing']['source_iso3']\n",
    "age_adjust = baseline_params['age_mixing']['age_adjust']\n",
    "age_string_map = {\n",
    "    0: \"0-4\",\n",
    "    5: \"5-14\",\n",
    "    15: \"15-34\",\n",
    "    35: \"35-49\",\n",
    "    50: \"50+\",\n",
    "}"
   ]
  },
  {
   "cell_type": "markdown",
   "metadata": {},
   "source": [
    "## Population"
   ]
  },
  {
   "cell_type": "code",
   "execution_count": 4,
   "metadata": {},
   "outputs": [
    {
     "name": "stdout",
     "output_type": "stream",
     "text": [
      "Modelled age groups are [0, 5, 15, 35, 50]\n"
     ]
    }
   ],
   "source": [
    "modelled_age_groups = baseline_params[\"age_breakpoints\"]\n",
    "print(f\"Modelled age groups are {modelled_age_groups}\")"
   ]
  },
  {
   "cell_type": "code",
   "execution_count": 5,
   "metadata": {},
   "outputs": [],
   "source": [
    "csv_path = pathlib.Path('camau.csv')"
   ]
  },
  {
   "cell_type": "code",
   "execution_count": 6,
   "metadata": {},
   "outputs": [
    {
     "data": {
      "application/vnd.plotly.v1+json": {
       "config": {
        "plotlyServerURL": "https://plot.ly"
       },
       "data": [
        {
         "hovertemplate": "variable=population<br>year=%{x}<br>value=%{y}<extra></extra>",
         "legendgroup": "population",
         "line": {
          "color": "#636efa",
          "dash": "solid"
         },
         "marker": {
          "symbol": "circle"
         },
         "mode": "lines",
         "name": "population",
         "orientation": "v",
         "showlegend": true,
         "type": "scatter",
         "x": [
          1995,
          1996,
          1997,
          1998,
          1999,
          2000,
          2001,
          2002,
          2003,
          2004,
          2005,
          2006,
          2007,
          2008,
          2009,
          2010,
          2011,
          2012,
          2013,
          2014,
          2015,
          2016,
          2017,
          2018,
          2019
         ],
         "xaxis": "x",
         "y": [
          1041800,
          1061600,
          1081100,
          1101800,
          1123500,
          1133900,
          1145200,
          1155300,
          1164500,
          1174400,
          1182900,
          1188700,
          1195200,
          1201700,
          1207100,
          1205840,
          1204500,
          1203460,
          1202070,
          1200740,
          1199500,
          1198100,
          1197000,
          1195600,
          1194300
         ],
         "yaxis": "y"
        }
       ],
       "layout": {
        "legend": {
         "title": {
          "text": "variable"
         },
         "tracegroupgap": 0
        },
        "margin": {
         "t": 60
        },
        "template": {
         "data": {
          "bar": [
           {
            "error_x": {
             "color": "#2a3f5f"
            },
            "error_y": {
             "color": "#2a3f5f"
            },
            "marker": {
             "line": {
              "color": "#E5ECF6",
              "width": 0.5
             },
             "pattern": {
              "fillmode": "overlay",
              "size": 10,
              "solidity": 0.2
             }
            },
            "type": "bar"
           }
          ],
          "barpolar": [
           {
            "marker": {
             "line": {
              "color": "#E5ECF6",
              "width": 0.5
             },
             "pattern": {
              "fillmode": "overlay",
              "size": 10,
              "solidity": 0.2
             }
            },
            "type": "barpolar"
           }
          ],
          "carpet": [
           {
            "aaxis": {
             "endlinecolor": "#2a3f5f",
             "gridcolor": "white",
             "linecolor": "white",
             "minorgridcolor": "white",
             "startlinecolor": "#2a3f5f"
            },
            "baxis": {
             "endlinecolor": "#2a3f5f",
             "gridcolor": "white",
             "linecolor": "white",
             "minorgridcolor": "white",
             "startlinecolor": "#2a3f5f"
            },
            "type": "carpet"
           }
          ],
          "choropleth": [
           {
            "colorbar": {
             "outlinewidth": 0,
             "ticks": ""
            },
            "type": "choropleth"
           }
          ],
          "contour": [
           {
            "colorbar": {
             "outlinewidth": 0,
             "ticks": ""
            },
            "colorscale": [
             [
              0,
              "#0d0887"
             ],
             [
              0.1111111111111111,
              "#46039f"
             ],
             [
              0.2222222222222222,
              "#7201a8"
             ],
             [
              0.3333333333333333,
              "#9c179e"
             ],
             [
              0.4444444444444444,
              "#bd3786"
             ],
             [
              0.5555555555555556,
              "#d8576b"
             ],
             [
              0.6666666666666666,
              "#ed7953"
             ],
             [
              0.7777777777777778,
              "#fb9f3a"
             ],
             [
              0.8888888888888888,
              "#fdca26"
             ],
             [
              1,
              "#f0f921"
             ]
            ],
            "type": "contour"
           }
          ],
          "contourcarpet": [
           {
            "colorbar": {
             "outlinewidth": 0,
             "ticks": ""
            },
            "type": "contourcarpet"
           }
          ],
          "heatmap": [
           {
            "colorbar": {
             "outlinewidth": 0,
             "ticks": ""
            },
            "colorscale": [
             [
              0,
              "#0d0887"
             ],
             [
              0.1111111111111111,
              "#46039f"
             ],
             [
              0.2222222222222222,
              "#7201a8"
             ],
             [
              0.3333333333333333,
              "#9c179e"
             ],
             [
              0.4444444444444444,
              "#bd3786"
             ],
             [
              0.5555555555555556,
              "#d8576b"
             ],
             [
              0.6666666666666666,
              "#ed7953"
             ],
             [
              0.7777777777777778,
              "#fb9f3a"
             ],
             [
              0.8888888888888888,
              "#fdca26"
             ],
             [
              1,
              "#f0f921"
             ]
            ],
            "type": "heatmap"
           }
          ],
          "heatmapgl": [
           {
            "colorbar": {
             "outlinewidth": 0,
             "ticks": ""
            },
            "colorscale": [
             [
              0,
              "#0d0887"
             ],
             [
              0.1111111111111111,
              "#46039f"
             ],
             [
              0.2222222222222222,
              "#7201a8"
             ],
             [
              0.3333333333333333,
              "#9c179e"
             ],
             [
              0.4444444444444444,
              "#bd3786"
             ],
             [
              0.5555555555555556,
              "#d8576b"
             ],
             [
              0.6666666666666666,
              "#ed7953"
             ],
             [
              0.7777777777777778,
              "#fb9f3a"
             ],
             [
              0.8888888888888888,
              "#fdca26"
             ],
             [
              1,
              "#f0f921"
             ]
            ],
            "type": "heatmapgl"
           }
          ],
          "histogram": [
           {
            "marker": {
             "pattern": {
              "fillmode": "overlay",
              "size": 10,
              "solidity": 0.2
             }
            },
            "type": "histogram"
           }
          ],
          "histogram2d": [
           {
            "colorbar": {
             "outlinewidth": 0,
             "ticks": ""
            },
            "colorscale": [
             [
              0,
              "#0d0887"
             ],
             [
              0.1111111111111111,
              "#46039f"
             ],
             [
              0.2222222222222222,
              "#7201a8"
             ],
             [
              0.3333333333333333,
              "#9c179e"
             ],
             [
              0.4444444444444444,
              "#bd3786"
             ],
             [
              0.5555555555555556,
              "#d8576b"
             ],
             [
              0.6666666666666666,
              "#ed7953"
             ],
             [
              0.7777777777777778,
              "#fb9f3a"
             ],
             [
              0.8888888888888888,
              "#fdca26"
             ],
             [
              1,
              "#f0f921"
             ]
            ],
            "type": "histogram2d"
           }
          ],
          "histogram2dcontour": [
           {
            "colorbar": {
             "outlinewidth": 0,
             "ticks": ""
            },
            "colorscale": [
             [
              0,
              "#0d0887"
             ],
             [
              0.1111111111111111,
              "#46039f"
             ],
             [
              0.2222222222222222,
              "#7201a8"
             ],
             [
              0.3333333333333333,
              "#9c179e"
             ],
             [
              0.4444444444444444,
              "#bd3786"
             ],
             [
              0.5555555555555556,
              "#d8576b"
             ],
             [
              0.6666666666666666,
              "#ed7953"
             ],
             [
              0.7777777777777778,
              "#fb9f3a"
             ],
             [
              0.8888888888888888,
              "#fdca26"
             ],
             [
              1,
              "#f0f921"
             ]
            ],
            "type": "histogram2dcontour"
           }
          ],
          "mesh3d": [
           {
            "colorbar": {
             "outlinewidth": 0,
             "ticks": ""
            },
            "type": "mesh3d"
           }
          ],
          "parcoords": [
           {
            "line": {
             "colorbar": {
              "outlinewidth": 0,
              "ticks": ""
             }
            },
            "type": "parcoords"
           }
          ],
          "pie": [
           {
            "automargin": true,
            "type": "pie"
           }
          ],
          "scatter": [
           {
            "fillpattern": {
             "fillmode": "overlay",
             "size": 10,
             "solidity": 0.2
            },
            "type": "scatter"
           }
          ],
          "scatter3d": [
           {
            "line": {
             "colorbar": {
              "outlinewidth": 0,
              "ticks": ""
             }
            },
            "marker": {
             "colorbar": {
              "outlinewidth": 0,
              "ticks": ""
             }
            },
            "type": "scatter3d"
           }
          ],
          "scattercarpet": [
           {
            "marker": {
             "colorbar": {
              "outlinewidth": 0,
              "ticks": ""
             }
            },
            "type": "scattercarpet"
           }
          ],
          "scattergeo": [
           {
            "marker": {
             "colorbar": {
              "outlinewidth": 0,
              "ticks": ""
             }
            },
            "type": "scattergeo"
           }
          ],
          "scattergl": [
           {
            "marker": {
             "colorbar": {
              "outlinewidth": 0,
              "ticks": ""
             }
            },
            "type": "scattergl"
           }
          ],
          "scattermapbox": [
           {
            "marker": {
             "colorbar": {
              "outlinewidth": 0,
              "ticks": ""
             }
            },
            "type": "scattermapbox"
           }
          ],
          "scatterpolar": [
           {
            "marker": {
             "colorbar": {
              "outlinewidth": 0,
              "ticks": ""
             }
            },
            "type": "scatterpolar"
           }
          ],
          "scatterpolargl": [
           {
            "marker": {
             "colorbar": {
              "outlinewidth": 0,
              "ticks": ""
             }
            },
            "type": "scatterpolargl"
           }
          ],
          "scatterternary": [
           {
            "marker": {
             "colorbar": {
              "outlinewidth": 0,
              "ticks": ""
             }
            },
            "type": "scatterternary"
           }
          ],
          "surface": [
           {
            "colorbar": {
             "outlinewidth": 0,
             "ticks": ""
            },
            "colorscale": [
             [
              0,
              "#0d0887"
             ],
             [
              0.1111111111111111,
              "#46039f"
             ],
             [
              0.2222222222222222,
              "#7201a8"
             ],
             [
              0.3333333333333333,
              "#9c179e"
             ],
             [
              0.4444444444444444,
              "#bd3786"
             ],
             [
              0.5555555555555556,
              "#d8576b"
             ],
             [
              0.6666666666666666,
              "#ed7953"
             ],
             [
              0.7777777777777778,
              "#fb9f3a"
             ],
             [
              0.8888888888888888,
              "#fdca26"
             ],
             [
              1,
              "#f0f921"
             ]
            ],
            "type": "surface"
           }
          ],
          "table": [
           {
            "cells": {
             "fill": {
              "color": "#EBF0F8"
             },
             "line": {
              "color": "white"
             }
            },
            "header": {
             "fill": {
              "color": "#C8D4E3"
             },
             "line": {
              "color": "white"
             }
            },
            "type": "table"
           }
          ]
         },
         "layout": {
          "annotationdefaults": {
           "arrowcolor": "#2a3f5f",
           "arrowhead": 0,
           "arrowwidth": 1
          },
          "autotypenumbers": "strict",
          "coloraxis": {
           "colorbar": {
            "outlinewidth": 0,
            "ticks": ""
           }
          },
          "colorscale": {
           "diverging": [
            [
             0,
             "#8e0152"
            ],
            [
             0.1,
             "#c51b7d"
            ],
            [
             0.2,
             "#de77ae"
            ],
            [
             0.3,
             "#f1b6da"
            ],
            [
             0.4,
             "#fde0ef"
            ],
            [
             0.5,
             "#f7f7f7"
            ],
            [
             0.6,
             "#e6f5d0"
            ],
            [
             0.7,
             "#b8e186"
            ],
            [
             0.8,
             "#7fbc41"
            ],
            [
             0.9,
             "#4d9221"
            ],
            [
             1,
             "#276419"
            ]
           ],
           "sequential": [
            [
             0,
             "#0d0887"
            ],
            [
             0.1111111111111111,
             "#46039f"
            ],
            [
             0.2222222222222222,
             "#7201a8"
            ],
            [
             0.3333333333333333,
             "#9c179e"
            ],
            [
             0.4444444444444444,
             "#bd3786"
            ],
            [
             0.5555555555555556,
             "#d8576b"
            ],
            [
             0.6666666666666666,
             "#ed7953"
            ],
            [
             0.7777777777777778,
             "#fb9f3a"
            ],
            [
             0.8888888888888888,
             "#fdca26"
            ],
            [
             1,
             "#f0f921"
            ]
           ],
           "sequentialminus": [
            [
             0,
             "#0d0887"
            ],
            [
             0.1111111111111111,
             "#46039f"
            ],
            [
             0.2222222222222222,
             "#7201a8"
            ],
            [
             0.3333333333333333,
             "#9c179e"
            ],
            [
             0.4444444444444444,
             "#bd3786"
            ],
            [
             0.5555555555555556,
             "#d8576b"
            ],
            [
             0.6666666666666666,
             "#ed7953"
            ],
            [
             0.7777777777777778,
             "#fb9f3a"
            ],
            [
             0.8888888888888888,
             "#fdca26"
            ],
            [
             1,
             "#f0f921"
            ]
           ]
          },
          "colorway": [
           "#636efa",
           "#EF553B",
           "#00cc96",
           "#ab63fa",
           "#FFA15A",
           "#19d3f3",
           "#FF6692",
           "#B6E880",
           "#FF97FF",
           "#FECB52"
          ],
          "font": {
           "color": "#2a3f5f"
          },
          "geo": {
           "bgcolor": "white",
           "lakecolor": "white",
           "landcolor": "#E5ECF6",
           "showlakes": true,
           "showland": true,
           "subunitcolor": "white"
          },
          "hoverlabel": {
           "align": "left"
          },
          "hovermode": "closest",
          "mapbox": {
           "style": "light"
          },
          "paper_bgcolor": "white",
          "plot_bgcolor": "#E5ECF6",
          "polar": {
           "angularaxis": {
            "gridcolor": "white",
            "linecolor": "white",
            "ticks": ""
           },
           "bgcolor": "#E5ECF6",
           "radialaxis": {
            "gridcolor": "white",
            "linecolor": "white",
            "ticks": ""
           }
          },
          "scene": {
           "xaxis": {
            "backgroundcolor": "#E5ECF6",
            "gridcolor": "white",
            "gridwidth": 2,
            "linecolor": "white",
            "showbackground": true,
            "ticks": "",
            "zerolinecolor": "white"
           },
           "yaxis": {
            "backgroundcolor": "#E5ECF6",
            "gridcolor": "white",
            "gridwidth": 2,
            "linecolor": "white",
            "showbackground": true,
            "ticks": "",
            "zerolinecolor": "white"
           },
           "zaxis": {
            "backgroundcolor": "#E5ECF6",
            "gridcolor": "white",
            "gridwidth": 2,
            "linecolor": "white",
            "showbackground": true,
            "ticks": "",
            "zerolinecolor": "white"
           }
          },
          "shapedefaults": {
           "line": {
            "color": "#2a3f5f"
           }
          },
          "ternary": {
           "aaxis": {
            "gridcolor": "white",
            "linecolor": "white",
            "ticks": ""
           },
           "baxis": {
            "gridcolor": "white",
            "linecolor": "white",
            "ticks": ""
           },
           "bgcolor": "#E5ECF6",
           "caxis": {
            "gridcolor": "white",
            "linecolor": "white",
            "ticks": ""
           }
          },
          "title": {
           "x": 0.05
          },
          "xaxis": {
           "automargin": true,
           "gridcolor": "white",
           "linecolor": "white",
           "ticks": "",
           "title": {
            "standoff": 15
           },
           "zerolinecolor": "white",
           "zerolinewidth": 2
          },
          "yaxis": {
           "automargin": true,
           "gridcolor": "white",
           "linecolor": "white",
           "ticks": "",
           "title": {
            "standoff": 15
           },
           "zerolinecolor": "white",
           "zerolinewidth": 2
          }
         }
        },
        "xaxis": {
         "anchor": "y",
         "domain": [
          0,
          1
         ],
         "title": {
          "text": "year"
         }
        },
        "yaxis": {
         "anchor": "x",
         "domain": [
          0,
          1
         ],
         "title": {
          "text": "value"
         }
        }
       }
      }
     },
     "metadata": {},
     "output_type": "display_data"
    }
   ],
   "source": [
    "pop_df = pd.read_csv(csv_path)\n",
    "pop_df = pop_df.set_index(['year'])\n",
    "pop_df['population'].plot()"
   ]
  },
  {
   "cell_type": "markdown",
   "metadata": {},
   "source": [
    "### Birth rate"
   ]
  },
  {
   "cell_type": "code",
   "execution_count": 7,
   "metadata": {},
   "outputs": [
    {
     "data": {
      "application/vnd.plotly.v1+json": {
       "config": {
        "plotlyServerURL": "https://plot.ly"
       },
       "data": [
        {
         "hovertemplate": "variable=0<br>mean_year=%{x}<br>value=%{y}<extra></extra>",
         "legendgroup": "0",
         "line": {
          "color": "#636efa",
          "dash": "solid"
         },
         "marker": {
          "symbol": "circle"
         },
         "mode": "markers+lines",
         "name": "0",
         "orientation": "v",
         "showlegend": true,
         "type": "scatter",
         "x": [
          1952.5,
          1957.5,
          1962.5,
          1967.5,
          1972.5,
          1977.5,
          1982.5,
          1987.5,
          1992.5,
          1997.5,
          2002.5,
          2007.5,
          2012.5,
          2017.5
         ],
         "xaxis": "x",
         "y": [
          0.039776000000000006,
          0.042731000000000005,
          0.040619999999999996,
          0.037357,
          0.035531,
          0.032790999999999994,
          0.031293,
          0.029655,
          0.026611,
          0.019188,
          0.016832999999999997,
          0.017184,
          0.017283,
          0.016945
         ],
         "yaxis": "y"
        }
       ],
       "layout": {
        "legend": {
         "title": {
          "text": "variable"
         },
         "tracegroupgap": 0
        },
        "margin": {
         "t": 60
        },
        "showlegend": false,
        "template": {
         "data": {
          "bar": [
           {
            "error_x": {
             "color": "#2a3f5f"
            },
            "error_y": {
             "color": "#2a3f5f"
            },
            "marker": {
             "line": {
              "color": "#E5ECF6",
              "width": 0.5
             },
             "pattern": {
              "fillmode": "overlay",
              "size": 10,
              "solidity": 0.2
             }
            },
            "type": "bar"
           }
          ],
          "barpolar": [
           {
            "marker": {
             "line": {
              "color": "#E5ECF6",
              "width": 0.5
             },
             "pattern": {
              "fillmode": "overlay",
              "size": 10,
              "solidity": 0.2
             }
            },
            "type": "barpolar"
           }
          ],
          "carpet": [
           {
            "aaxis": {
             "endlinecolor": "#2a3f5f",
             "gridcolor": "white",
             "linecolor": "white",
             "minorgridcolor": "white",
             "startlinecolor": "#2a3f5f"
            },
            "baxis": {
             "endlinecolor": "#2a3f5f",
             "gridcolor": "white",
             "linecolor": "white",
             "minorgridcolor": "white",
             "startlinecolor": "#2a3f5f"
            },
            "type": "carpet"
           }
          ],
          "choropleth": [
           {
            "colorbar": {
             "outlinewidth": 0,
             "ticks": ""
            },
            "type": "choropleth"
           }
          ],
          "contour": [
           {
            "colorbar": {
             "outlinewidth": 0,
             "ticks": ""
            },
            "colorscale": [
             [
              0,
              "#0d0887"
             ],
             [
              0.1111111111111111,
              "#46039f"
             ],
             [
              0.2222222222222222,
              "#7201a8"
             ],
             [
              0.3333333333333333,
              "#9c179e"
             ],
             [
              0.4444444444444444,
              "#bd3786"
             ],
             [
              0.5555555555555556,
              "#d8576b"
             ],
             [
              0.6666666666666666,
              "#ed7953"
             ],
             [
              0.7777777777777778,
              "#fb9f3a"
             ],
             [
              0.8888888888888888,
              "#fdca26"
             ],
             [
              1,
              "#f0f921"
             ]
            ],
            "type": "contour"
           }
          ],
          "contourcarpet": [
           {
            "colorbar": {
             "outlinewidth": 0,
             "ticks": ""
            },
            "type": "contourcarpet"
           }
          ],
          "heatmap": [
           {
            "colorbar": {
             "outlinewidth": 0,
             "ticks": ""
            },
            "colorscale": [
             [
              0,
              "#0d0887"
             ],
             [
              0.1111111111111111,
              "#46039f"
             ],
             [
              0.2222222222222222,
              "#7201a8"
             ],
             [
              0.3333333333333333,
              "#9c179e"
             ],
             [
              0.4444444444444444,
              "#bd3786"
             ],
             [
              0.5555555555555556,
              "#d8576b"
             ],
             [
              0.6666666666666666,
              "#ed7953"
             ],
             [
              0.7777777777777778,
              "#fb9f3a"
             ],
             [
              0.8888888888888888,
              "#fdca26"
             ],
             [
              1,
              "#f0f921"
             ]
            ],
            "type": "heatmap"
           }
          ],
          "heatmapgl": [
           {
            "colorbar": {
             "outlinewidth": 0,
             "ticks": ""
            },
            "colorscale": [
             [
              0,
              "#0d0887"
             ],
             [
              0.1111111111111111,
              "#46039f"
             ],
             [
              0.2222222222222222,
              "#7201a8"
             ],
             [
              0.3333333333333333,
              "#9c179e"
             ],
             [
              0.4444444444444444,
              "#bd3786"
             ],
             [
              0.5555555555555556,
              "#d8576b"
             ],
             [
              0.6666666666666666,
              "#ed7953"
             ],
             [
              0.7777777777777778,
              "#fb9f3a"
             ],
             [
              0.8888888888888888,
              "#fdca26"
             ],
             [
              1,
              "#f0f921"
             ]
            ],
            "type": "heatmapgl"
           }
          ],
          "histogram": [
           {
            "marker": {
             "pattern": {
              "fillmode": "overlay",
              "size": 10,
              "solidity": 0.2
             }
            },
            "type": "histogram"
           }
          ],
          "histogram2d": [
           {
            "colorbar": {
             "outlinewidth": 0,
             "ticks": ""
            },
            "colorscale": [
             [
              0,
              "#0d0887"
             ],
             [
              0.1111111111111111,
              "#46039f"
             ],
             [
              0.2222222222222222,
              "#7201a8"
             ],
             [
              0.3333333333333333,
              "#9c179e"
             ],
             [
              0.4444444444444444,
              "#bd3786"
             ],
             [
              0.5555555555555556,
              "#d8576b"
             ],
             [
              0.6666666666666666,
              "#ed7953"
             ],
             [
              0.7777777777777778,
              "#fb9f3a"
             ],
             [
              0.8888888888888888,
              "#fdca26"
             ],
             [
              1,
              "#f0f921"
             ]
            ],
            "type": "histogram2d"
           }
          ],
          "histogram2dcontour": [
           {
            "colorbar": {
             "outlinewidth": 0,
             "ticks": ""
            },
            "colorscale": [
             [
              0,
              "#0d0887"
             ],
             [
              0.1111111111111111,
              "#46039f"
             ],
             [
              0.2222222222222222,
              "#7201a8"
             ],
             [
              0.3333333333333333,
              "#9c179e"
             ],
             [
              0.4444444444444444,
              "#bd3786"
             ],
             [
              0.5555555555555556,
              "#d8576b"
             ],
             [
              0.6666666666666666,
              "#ed7953"
             ],
             [
              0.7777777777777778,
              "#fb9f3a"
             ],
             [
              0.8888888888888888,
              "#fdca26"
             ],
             [
              1,
              "#f0f921"
             ]
            ],
            "type": "histogram2dcontour"
           }
          ],
          "mesh3d": [
           {
            "colorbar": {
             "outlinewidth": 0,
             "ticks": ""
            },
            "type": "mesh3d"
           }
          ],
          "parcoords": [
           {
            "line": {
             "colorbar": {
              "outlinewidth": 0,
              "ticks": ""
             }
            },
            "type": "parcoords"
           }
          ],
          "pie": [
           {
            "automargin": true,
            "type": "pie"
           }
          ],
          "scatter": [
           {
            "fillpattern": {
             "fillmode": "overlay",
             "size": 10,
             "solidity": 0.2
            },
            "type": "scatter"
           }
          ],
          "scatter3d": [
           {
            "line": {
             "colorbar": {
              "outlinewidth": 0,
              "ticks": ""
             }
            },
            "marker": {
             "colorbar": {
              "outlinewidth": 0,
              "ticks": ""
             }
            },
            "type": "scatter3d"
           }
          ],
          "scattercarpet": [
           {
            "marker": {
             "colorbar": {
              "outlinewidth": 0,
              "ticks": ""
             }
            },
            "type": "scattercarpet"
           }
          ],
          "scattergeo": [
           {
            "marker": {
             "colorbar": {
              "outlinewidth": 0,
              "ticks": ""
             }
            },
            "type": "scattergeo"
           }
          ],
          "scattergl": [
           {
            "marker": {
             "colorbar": {
              "outlinewidth": 0,
              "ticks": ""
             }
            },
            "type": "scattergl"
           }
          ],
          "scattermapbox": [
           {
            "marker": {
             "colorbar": {
              "outlinewidth": 0,
              "ticks": ""
             }
            },
            "type": "scattermapbox"
           }
          ],
          "scatterpolar": [
           {
            "marker": {
             "colorbar": {
              "outlinewidth": 0,
              "ticks": ""
             }
            },
            "type": "scatterpolar"
           }
          ],
          "scatterpolargl": [
           {
            "marker": {
             "colorbar": {
              "outlinewidth": 0,
              "ticks": ""
             }
            },
            "type": "scatterpolargl"
           }
          ],
          "scatterternary": [
           {
            "marker": {
             "colorbar": {
              "outlinewidth": 0,
              "ticks": ""
             }
            },
            "type": "scatterternary"
           }
          ],
          "surface": [
           {
            "colorbar": {
             "outlinewidth": 0,
             "ticks": ""
            },
            "colorscale": [
             [
              0,
              "#0d0887"
             ],
             [
              0.1111111111111111,
              "#46039f"
             ],
             [
              0.2222222222222222,
              "#7201a8"
             ],
             [
              0.3333333333333333,
              "#9c179e"
             ],
             [
              0.4444444444444444,
              "#bd3786"
             ],
             [
              0.5555555555555556,
              "#d8576b"
             ],
             [
              0.6666666666666666,
              "#ed7953"
             ],
             [
              0.7777777777777778,
              "#fb9f3a"
             ],
             [
              0.8888888888888888,
              "#fdca26"
             ],
             [
              1,
              "#f0f921"
             ]
            ],
            "type": "surface"
           }
          ],
          "table": [
           {
            "cells": {
             "fill": {
              "color": "#EBF0F8"
             },
             "line": {
              "color": "white"
             }
            },
            "header": {
             "fill": {
              "color": "#C8D4E3"
             },
             "line": {
              "color": "white"
             }
            },
            "type": "table"
           }
          ]
         },
         "layout": {
          "annotationdefaults": {
           "arrowcolor": "#2a3f5f",
           "arrowhead": 0,
           "arrowwidth": 1
          },
          "autotypenumbers": "strict",
          "coloraxis": {
           "colorbar": {
            "outlinewidth": 0,
            "ticks": ""
           }
          },
          "colorscale": {
           "diverging": [
            [
             0,
             "#8e0152"
            ],
            [
             0.1,
             "#c51b7d"
            ],
            [
             0.2,
             "#de77ae"
            ],
            [
             0.3,
             "#f1b6da"
            ],
            [
             0.4,
             "#fde0ef"
            ],
            [
             0.5,
             "#f7f7f7"
            ],
            [
             0.6,
             "#e6f5d0"
            ],
            [
             0.7,
             "#b8e186"
            ],
            [
             0.8,
             "#7fbc41"
            ],
            [
             0.9,
             "#4d9221"
            ],
            [
             1,
             "#276419"
            ]
           ],
           "sequential": [
            [
             0,
             "#0d0887"
            ],
            [
             0.1111111111111111,
             "#46039f"
            ],
            [
             0.2222222222222222,
             "#7201a8"
            ],
            [
             0.3333333333333333,
             "#9c179e"
            ],
            [
             0.4444444444444444,
             "#bd3786"
            ],
            [
             0.5555555555555556,
             "#d8576b"
            ],
            [
             0.6666666666666666,
             "#ed7953"
            ],
            [
             0.7777777777777778,
             "#fb9f3a"
            ],
            [
             0.8888888888888888,
             "#fdca26"
            ],
            [
             1,
             "#f0f921"
            ]
           ],
           "sequentialminus": [
            [
             0,
             "#0d0887"
            ],
            [
             0.1111111111111111,
             "#46039f"
            ],
            [
             0.2222222222222222,
             "#7201a8"
            ],
            [
             0.3333333333333333,
             "#9c179e"
            ],
            [
             0.4444444444444444,
             "#bd3786"
            ],
            [
             0.5555555555555556,
             "#d8576b"
            ],
            [
             0.6666666666666666,
             "#ed7953"
            ],
            [
             0.7777777777777778,
             "#fb9f3a"
            ],
            [
             0.8888888888888888,
             "#fdca26"
            ],
            [
             1,
             "#f0f921"
            ]
           ]
          },
          "colorway": [
           "#636efa",
           "#EF553B",
           "#00cc96",
           "#ab63fa",
           "#FFA15A",
           "#19d3f3",
           "#FF6692",
           "#B6E880",
           "#FF97FF",
           "#FECB52"
          ],
          "font": {
           "color": "#2a3f5f"
          },
          "geo": {
           "bgcolor": "white",
           "lakecolor": "white",
           "landcolor": "#E5ECF6",
           "showlakes": true,
           "showland": true,
           "subunitcolor": "white"
          },
          "hoverlabel": {
           "align": "left"
          },
          "hovermode": "closest",
          "mapbox": {
           "style": "light"
          },
          "paper_bgcolor": "white",
          "plot_bgcolor": "#E5ECF6",
          "polar": {
           "angularaxis": {
            "gridcolor": "white",
            "linecolor": "white",
            "ticks": ""
           },
           "bgcolor": "#E5ECF6",
           "radialaxis": {
            "gridcolor": "white",
            "linecolor": "white",
            "ticks": ""
           }
          },
          "scene": {
           "xaxis": {
            "backgroundcolor": "#E5ECF6",
            "gridcolor": "white",
            "gridwidth": 2,
            "linecolor": "white",
            "showbackground": true,
            "ticks": "",
            "zerolinecolor": "white"
           },
           "yaxis": {
            "backgroundcolor": "#E5ECF6",
            "gridcolor": "white",
            "gridwidth": 2,
            "linecolor": "white",
            "showbackground": true,
            "ticks": "",
            "zerolinecolor": "white"
           },
           "zaxis": {
            "backgroundcolor": "#E5ECF6",
            "gridcolor": "white",
            "gridwidth": 2,
            "linecolor": "white",
            "showbackground": true,
            "ticks": "",
            "zerolinecolor": "white"
           }
          },
          "shapedefaults": {
           "line": {
            "color": "#2a3f5f"
           }
          },
          "ternary": {
           "aaxis": {
            "gridcolor": "white",
            "linecolor": "white",
            "ticks": ""
           },
           "baxis": {
            "gridcolor": "white",
            "linecolor": "white",
            "ticks": ""
           },
           "bgcolor": "#E5ECF6",
           "caxis": {
            "gridcolor": "white",
            "linecolor": "white",
            "ticks": ""
           }
          },
          "title": {
           "x": 0.05
          },
          "xaxis": {
           "automargin": true,
           "gridcolor": "white",
           "linecolor": "white",
           "ticks": "",
           "title": {
            "standoff": 15
           },
           "zerolinecolor": "white",
           "zerolinewidth": 2
          },
          "yaxis": {
           "automargin": true,
           "gridcolor": "white",
           "linecolor": "white",
           "ticks": "",
           "title": {
            "standoff": 15
           },
           "zerolinecolor": "white",
           "zerolinewidth": 2
          }
         }
        },
        "title": {
         "text": "Crude birth rate of Ca Mau",
         "x": 0.5
        },
        "xaxis": {
         "anchor": "y",
         "domain": [
          0,
          1
         ],
         "title": {
          "text": "Year"
         }
        },
        "yaxis": {
         "anchor": "x",
         "domain": [
          0,
          1
         ],
         "title": {
          "text": "Crude birth rate"
         }
        }
       }
      }
     },
     "metadata": {},
     "output_type": "display_data"
    }
   ],
   "source": [
    "birth_rates, years = inputs.get_crude_birth_rate(\"VNM\")\n",
    "birth_rates = [b / 1000.0 for b in birth_rates]  # Birth rates are provided / 1000 population\n",
    "birth_rates_series = pd.Series(birth_rates, index=years)\n",
    "br_fig= px.line(birth_rates_series)\n",
    "br_fig.update_traces(mode='markers+lines')\n",
    "br_fig.update_layout(\n",
    "    title=\"Crude birth rate of Ca Mau\",\n",
    "    title_x=0.5,\n",
    "    xaxis_title=\"Year\",\n",
    "    yaxis_title=\"Crude birth rate\",\n",
    "    showlegend=False,\n",
    ")"
   ]
  },
  {
   "cell_type": "markdown",
   "metadata": {},
   "source": [
    "### Death rate"
   ]
  },
  {
   "cell_type": "code",
   "execution_count": 8,
   "metadata": {},
   "outputs": [
    {
     "data": {
      "application/vnd.plotly.v1+json": {
       "config": {
        "plotlyServerURL": "https://plot.ly"
       },
       "data": [
        {
         "hovertemplate": "variable=0<br>index=%{x}<br>value=%{y}<extra></extra>",
         "legendgroup": "0",
         "line": {
          "color": "#636efa",
          "dash": "solid"
         },
         "marker": {
          "symbol": "circle"
         },
         "mode": "markers+lines",
         "name": "0",
         "orientation": "v",
         "showlegend": true,
         "type": "scatter",
         "x": [
          2005,
          2007,
          2008,
          2009,
          2010,
          2011,
          2012,
          2013,
          2014,
          2015,
          2016,
          2017,
          2018,
          2019,
          2020,
          2021
         ],
         "xaxis": "x",
         "y": [
          0.0048,
          0.0048,
          0.0044,
          0.0056,
          0.0056,
          0.0058,
          0.0053,
          0.006,
          0.0074,
          0.0054,
          0.0048,
          0.0066,
          0.005,
          0.0054,
          0.00521,
          0.00539
         ],
         "yaxis": "y"
        }
       ],
       "layout": {
        "legend": {
         "title": {
          "text": "variable"
         },
         "tracegroupgap": 0
        },
        "margin": {
         "t": 60
        },
        "showlegend": false,
        "template": {
         "data": {
          "bar": [
           {
            "error_x": {
             "color": "#2a3f5f"
            },
            "error_y": {
             "color": "#2a3f5f"
            },
            "marker": {
             "line": {
              "color": "#E5ECF6",
              "width": 0.5
             },
             "pattern": {
              "fillmode": "overlay",
              "size": 10,
              "solidity": 0.2
             }
            },
            "type": "bar"
           }
          ],
          "barpolar": [
           {
            "marker": {
             "line": {
              "color": "#E5ECF6",
              "width": 0.5
             },
             "pattern": {
              "fillmode": "overlay",
              "size": 10,
              "solidity": 0.2
             }
            },
            "type": "barpolar"
           }
          ],
          "carpet": [
           {
            "aaxis": {
             "endlinecolor": "#2a3f5f",
             "gridcolor": "white",
             "linecolor": "white",
             "minorgridcolor": "white",
             "startlinecolor": "#2a3f5f"
            },
            "baxis": {
             "endlinecolor": "#2a3f5f",
             "gridcolor": "white",
             "linecolor": "white",
             "minorgridcolor": "white",
             "startlinecolor": "#2a3f5f"
            },
            "type": "carpet"
           }
          ],
          "choropleth": [
           {
            "colorbar": {
             "outlinewidth": 0,
             "ticks": ""
            },
            "type": "choropleth"
           }
          ],
          "contour": [
           {
            "colorbar": {
             "outlinewidth": 0,
             "ticks": ""
            },
            "colorscale": [
             [
              0,
              "#0d0887"
             ],
             [
              0.1111111111111111,
              "#46039f"
             ],
             [
              0.2222222222222222,
              "#7201a8"
             ],
             [
              0.3333333333333333,
              "#9c179e"
             ],
             [
              0.4444444444444444,
              "#bd3786"
             ],
             [
              0.5555555555555556,
              "#d8576b"
             ],
             [
              0.6666666666666666,
              "#ed7953"
             ],
             [
              0.7777777777777778,
              "#fb9f3a"
             ],
             [
              0.8888888888888888,
              "#fdca26"
             ],
             [
              1,
              "#f0f921"
             ]
            ],
            "type": "contour"
           }
          ],
          "contourcarpet": [
           {
            "colorbar": {
             "outlinewidth": 0,
             "ticks": ""
            },
            "type": "contourcarpet"
           }
          ],
          "heatmap": [
           {
            "colorbar": {
             "outlinewidth": 0,
             "ticks": ""
            },
            "colorscale": [
             [
              0,
              "#0d0887"
             ],
             [
              0.1111111111111111,
              "#46039f"
             ],
             [
              0.2222222222222222,
              "#7201a8"
             ],
             [
              0.3333333333333333,
              "#9c179e"
             ],
             [
              0.4444444444444444,
              "#bd3786"
             ],
             [
              0.5555555555555556,
              "#d8576b"
             ],
             [
              0.6666666666666666,
              "#ed7953"
             ],
             [
              0.7777777777777778,
              "#fb9f3a"
             ],
             [
              0.8888888888888888,
              "#fdca26"
             ],
             [
              1,
              "#f0f921"
             ]
            ],
            "type": "heatmap"
           }
          ],
          "heatmapgl": [
           {
            "colorbar": {
             "outlinewidth": 0,
             "ticks": ""
            },
            "colorscale": [
             [
              0,
              "#0d0887"
             ],
             [
              0.1111111111111111,
              "#46039f"
             ],
             [
              0.2222222222222222,
              "#7201a8"
             ],
             [
              0.3333333333333333,
              "#9c179e"
             ],
             [
              0.4444444444444444,
              "#bd3786"
             ],
             [
              0.5555555555555556,
              "#d8576b"
             ],
             [
              0.6666666666666666,
              "#ed7953"
             ],
             [
              0.7777777777777778,
              "#fb9f3a"
             ],
             [
              0.8888888888888888,
              "#fdca26"
             ],
             [
              1,
              "#f0f921"
             ]
            ],
            "type": "heatmapgl"
           }
          ],
          "histogram": [
           {
            "marker": {
             "pattern": {
              "fillmode": "overlay",
              "size": 10,
              "solidity": 0.2
             }
            },
            "type": "histogram"
           }
          ],
          "histogram2d": [
           {
            "colorbar": {
             "outlinewidth": 0,
             "ticks": ""
            },
            "colorscale": [
             [
              0,
              "#0d0887"
             ],
             [
              0.1111111111111111,
              "#46039f"
             ],
             [
              0.2222222222222222,
              "#7201a8"
             ],
             [
              0.3333333333333333,
              "#9c179e"
             ],
             [
              0.4444444444444444,
              "#bd3786"
             ],
             [
              0.5555555555555556,
              "#d8576b"
             ],
             [
              0.6666666666666666,
              "#ed7953"
             ],
             [
              0.7777777777777778,
              "#fb9f3a"
             ],
             [
              0.8888888888888888,
              "#fdca26"
             ],
             [
              1,
              "#f0f921"
             ]
            ],
            "type": "histogram2d"
           }
          ],
          "histogram2dcontour": [
           {
            "colorbar": {
             "outlinewidth": 0,
             "ticks": ""
            },
            "colorscale": [
             [
              0,
              "#0d0887"
             ],
             [
              0.1111111111111111,
              "#46039f"
             ],
             [
              0.2222222222222222,
              "#7201a8"
             ],
             [
              0.3333333333333333,
              "#9c179e"
             ],
             [
              0.4444444444444444,
              "#bd3786"
             ],
             [
              0.5555555555555556,
              "#d8576b"
             ],
             [
              0.6666666666666666,
              "#ed7953"
             ],
             [
              0.7777777777777778,
              "#fb9f3a"
             ],
             [
              0.8888888888888888,
              "#fdca26"
             ],
             [
              1,
              "#f0f921"
             ]
            ],
            "type": "histogram2dcontour"
           }
          ],
          "mesh3d": [
           {
            "colorbar": {
             "outlinewidth": 0,
             "ticks": ""
            },
            "type": "mesh3d"
           }
          ],
          "parcoords": [
           {
            "line": {
             "colorbar": {
              "outlinewidth": 0,
              "ticks": ""
             }
            },
            "type": "parcoords"
           }
          ],
          "pie": [
           {
            "automargin": true,
            "type": "pie"
           }
          ],
          "scatter": [
           {
            "fillpattern": {
             "fillmode": "overlay",
             "size": 10,
             "solidity": 0.2
            },
            "type": "scatter"
           }
          ],
          "scatter3d": [
           {
            "line": {
             "colorbar": {
              "outlinewidth": 0,
              "ticks": ""
             }
            },
            "marker": {
             "colorbar": {
              "outlinewidth": 0,
              "ticks": ""
             }
            },
            "type": "scatter3d"
           }
          ],
          "scattercarpet": [
           {
            "marker": {
             "colorbar": {
              "outlinewidth": 0,
              "ticks": ""
             }
            },
            "type": "scattercarpet"
           }
          ],
          "scattergeo": [
           {
            "marker": {
             "colorbar": {
              "outlinewidth": 0,
              "ticks": ""
             }
            },
            "type": "scattergeo"
           }
          ],
          "scattergl": [
           {
            "marker": {
             "colorbar": {
              "outlinewidth": 0,
              "ticks": ""
             }
            },
            "type": "scattergl"
           }
          ],
          "scattermapbox": [
           {
            "marker": {
             "colorbar": {
              "outlinewidth": 0,
              "ticks": ""
             }
            },
            "type": "scattermapbox"
           }
          ],
          "scatterpolar": [
           {
            "marker": {
             "colorbar": {
              "outlinewidth": 0,
              "ticks": ""
             }
            },
            "type": "scatterpolar"
           }
          ],
          "scatterpolargl": [
           {
            "marker": {
             "colorbar": {
              "outlinewidth": 0,
              "ticks": ""
             }
            },
            "type": "scatterpolargl"
           }
          ],
          "scatterternary": [
           {
            "marker": {
             "colorbar": {
              "outlinewidth": 0,
              "ticks": ""
             }
            },
            "type": "scatterternary"
           }
          ],
          "surface": [
           {
            "colorbar": {
             "outlinewidth": 0,
             "ticks": ""
            },
            "colorscale": [
             [
              0,
              "#0d0887"
             ],
             [
              0.1111111111111111,
              "#46039f"
             ],
             [
              0.2222222222222222,
              "#7201a8"
             ],
             [
              0.3333333333333333,
              "#9c179e"
             ],
             [
              0.4444444444444444,
              "#bd3786"
             ],
             [
              0.5555555555555556,
              "#d8576b"
             ],
             [
              0.6666666666666666,
              "#ed7953"
             ],
             [
              0.7777777777777778,
              "#fb9f3a"
             ],
             [
              0.8888888888888888,
              "#fdca26"
             ],
             [
              1,
              "#f0f921"
             ]
            ],
            "type": "surface"
           }
          ],
          "table": [
           {
            "cells": {
             "fill": {
              "color": "#EBF0F8"
             },
             "line": {
              "color": "white"
             }
            },
            "header": {
             "fill": {
              "color": "#C8D4E3"
             },
             "line": {
              "color": "white"
             }
            },
            "type": "table"
           }
          ]
         },
         "layout": {
          "annotationdefaults": {
           "arrowcolor": "#2a3f5f",
           "arrowhead": 0,
           "arrowwidth": 1
          },
          "autotypenumbers": "strict",
          "coloraxis": {
           "colorbar": {
            "outlinewidth": 0,
            "ticks": ""
           }
          },
          "colorscale": {
           "diverging": [
            [
             0,
             "#8e0152"
            ],
            [
             0.1,
             "#c51b7d"
            ],
            [
             0.2,
             "#de77ae"
            ],
            [
             0.3,
             "#f1b6da"
            ],
            [
             0.4,
             "#fde0ef"
            ],
            [
             0.5,
             "#f7f7f7"
            ],
            [
             0.6,
             "#e6f5d0"
            ],
            [
             0.7,
             "#b8e186"
            ],
            [
             0.8,
             "#7fbc41"
            ],
            [
             0.9,
             "#4d9221"
            ],
            [
             1,
             "#276419"
            ]
           ],
           "sequential": [
            [
             0,
             "#0d0887"
            ],
            [
             0.1111111111111111,
             "#46039f"
            ],
            [
             0.2222222222222222,
             "#7201a8"
            ],
            [
             0.3333333333333333,
             "#9c179e"
            ],
            [
             0.4444444444444444,
             "#bd3786"
            ],
            [
             0.5555555555555556,
             "#d8576b"
            ],
            [
             0.6666666666666666,
             "#ed7953"
            ],
            [
             0.7777777777777778,
             "#fb9f3a"
            ],
            [
             0.8888888888888888,
             "#fdca26"
            ],
            [
             1,
             "#f0f921"
            ]
           ],
           "sequentialminus": [
            [
             0,
             "#0d0887"
            ],
            [
             0.1111111111111111,
             "#46039f"
            ],
            [
             0.2222222222222222,
             "#7201a8"
            ],
            [
             0.3333333333333333,
             "#9c179e"
            ],
            [
             0.4444444444444444,
             "#bd3786"
            ],
            [
             0.5555555555555556,
             "#d8576b"
            ],
            [
             0.6666666666666666,
             "#ed7953"
            ],
            [
             0.7777777777777778,
             "#fb9f3a"
            ],
            [
             0.8888888888888888,
             "#fdca26"
            ],
            [
             1,
             "#f0f921"
            ]
           ]
          },
          "colorway": [
           "#636efa",
           "#EF553B",
           "#00cc96",
           "#ab63fa",
           "#FFA15A",
           "#19d3f3",
           "#FF6692",
           "#B6E880",
           "#FF97FF",
           "#FECB52"
          ],
          "font": {
           "color": "#2a3f5f"
          },
          "geo": {
           "bgcolor": "white",
           "lakecolor": "white",
           "landcolor": "#E5ECF6",
           "showlakes": true,
           "showland": true,
           "subunitcolor": "white"
          },
          "hoverlabel": {
           "align": "left"
          },
          "hovermode": "closest",
          "mapbox": {
           "style": "light"
          },
          "paper_bgcolor": "white",
          "plot_bgcolor": "#E5ECF6",
          "polar": {
           "angularaxis": {
            "gridcolor": "white",
            "linecolor": "white",
            "ticks": ""
           },
           "bgcolor": "#E5ECF6",
           "radialaxis": {
            "gridcolor": "white",
            "linecolor": "white",
            "ticks": ""
           }
          },
          "scene": {
           "xaxis": {
            "backgroundcolor": "#E5ECF6",
            "gridcolor": "white",
            "gridwidth": 2,
            "linecolor": "white",
            "showbackground": true,
            "ticks": "",
            "zerolinecolor": "white"
           },
           "yaxis": {
            "backgroundcolor": "#E5ECF6",
            "gridcolor": "white",
            "gridwidth": 2,
            "linecolor": "white",
            "showbackground": true,
            "ticks": "",
            "zerolinecolor": "white"
           },
           "zaxis": {
            "backgroundcolor": "#E5ECF6",
            "gridcolor": "white",
            "gridwidth": 2,
            "linecolor": "white",
            "showbackground": true,
            "ticks": "",
            "zerolinecolor": "white"
           }
          },
          "shapedefaults": {
           "line": {
            "color": "#2a3f5f"
           }
          },
          "ternary": {
           "aaxis": {
            "gridcolor": "white",
            "linecolor": "white",
            "ticks": ""
           },
           "baxis": {
            "gridcolor": "white",
            "linecolor": "white",
            "ticks": ""
           },
           "bgcolor": "#E5ECF6",
           "caxis": {
            "gridcolor": "white",
            "linecolor": "white",
            "ticks": ""
           }
          },
          "title": {
           "x": 0.05
          },
          "xaxis": {
           "automargin": true,
           "gridcolor": "white",
           "linecolor": "white",
           "ticks": "",
           "title": {
            "standoff": 15
           },
           "zerolinecolor": "white",
           "zerolinewidth": 2
          },
          "yaxis": {
           "automargin": true,
           "gridcolor": "white",
           "linecolor": "white",
           "ticks": "",
           "title": {
            "standoff": 15
           },
           "zerolinecolor": "white",
           "zerolinewidth": 2
          }
         }
        },
        "title": {
         "text": "Crude death rate of Ca Mau",
         "x": 0.5
        },
        "xaxis": {
         "anchor": "y",
         "domain": [
          0,
          1
         ],
         "title": {
          "text": "Year"
         }
        },
        "yaxis": {
         "anchor": "x",
         "domain": [
          0,
          1
         ],
         "title": {
          "text": "Crude death rate"
         }
        }
       }
      }
     },
     "metadata": {},
     "output_type": "display_data"
    }
   ],
   "source": [
    "#Query and visualize the crude birth rate from database\n",
    "years, death_rates = queries.get_camau_death_rate()\n",
    "death_rates = [b / 1000.0 for b in death_rates]  # Birth rates are provided / 1000 population\n",
    "death_rates_series = pd.Series(death_rates, index=years)\n",
    "dr_fig= px.line(death_rates_series)\n",
    "dr_fig.update_traces(mode='markers+lines')\n",
    "dr_fig.update_layout(\n",
    "    title=\"Crude death rate of Ca Mau\",\n",
    "    title_x=0.5,\n",
    "    xaxis_title=\"Year\",\n",
    "    yaxis_title=\"Crude death rate\",\n",
    "    showlegend=False,\n",
    ")"
   ]
  },
  {
   "cell_type": "markdown",
   "metadata": {},
   "source": [
    "### Mixing matrix"
   ]
  },
  {
   "cell_type": "code",
   "execution_count": 9,
   "metadata": {},
   "outputs": [
    {
     "name": "stdout",
     "output_type": "stream",
     "text": [
      "Target region: CAMAU (VNM)\n",
      "Proxy country: VNM\n",
      "Always age-adjusted to target population\n"
     ]
    }
   ],
   "source": [
    "print(f\"Target region: {region.upper()} ({iso3})\")\n",
    "print(f\"Proxy country: {source_iso3}\")\n",
    "print(\"Always age-adjusted to target population\")"
   ]
  },
  {
   "cell_type": "code",
   "execution_count": 24,
   "metadata": {},
   "outputs": [],
   "source": [
    "update_params = {\n",
    "    'cdr_adjustment': 0.6295918893492545,\n",
    "    'contact_rate': 0.009970201117109802,\n",
    "    'infect_death_rate_dict.smear_negative': 0.024995732286672893,\n",
    "    'infect_death_rate_dict.smear_positive': 0.4246639838592316,\n",
    "    'progression_multiplier': 0.14091304837274432,\n",
    "    'rr_infection_latent': 0.49953104535376774,\n",
    "    'rr_infection_recovered': 0.4998976215151779,\n",
    "    'self_recovery_rate_dict.smear_positive': 0.0920841798502894,\n",
    "    'self_recovery_rate_dict.smear_negative': 0.2539862375150063,\n",
    "    'start_population_size': 310000\n",
    "}\n",
    "params = baseline_params.update(update_params,calibration_format=True)\n",
    "model_0  =  p.build_model(params.to_dict())\n",
    "model_0.run(params.to_dict())\n",
    "derived_df_0 = model_0.get_derived_outputs_df()"
   ]
  },
  {
   "cell_type": "code",
   "execution_count": 30,
   "metadata": {},
   "outputs": [
    {
     "data": {
      "text/plain": [
       "[Stratification: age, Stratification: organ]"
      ]
     },
     "execution_count": 30,
     "metadata": {},
     "output_type": "execute_result"
    }
   ],
   "source": [
    "model_0._stratifications"
   ]
  },
  {
   "cell_type": "code",
   "execution_count": 38,
   "metadata": {},
   "outputs": [
    {
     "data": {
      "text/plain": [
       "[array([[ 398.43289672,  261.82020387,  643.68286218,  401.62199159,\n",
       "          356.13449939],\n",
       "        [ 165.78966683,  881.63067677,  532.84120554,  550.75979227,\n",
       "          285.62836724],\n",
       "        [ 231.75164317,  311.38983781,  915.52884268,  673.30894113,\n",
       "          664.14577066],\n",
       "        [ 141.94492435,  310.88835505,  786.13676958, 1134.31076003,\n",
       "          938.03403291],\n",
       "        [  67.30073632,  170.46333134,  647.30153978, 1018.81243422,\n",
       "         1763.57657715]])]"
      ]
     },
     "execution_count": 38,
     "metadata": {},
     "output_type": "execute_result"
    }
   ],
   "source": [
    "model_0._mixing_matrices"
   ]
  },
  {
   "cell_type": "code",
   "execution_count": 25,
   "metadata": {},
   "outputs": [
    {
     "data": {
      "application/vnd.plotly.v1+json": {
       "config": {
        "plotlyServerURL": "https://plot.ly"
       },
       "data": [
        {
         "hovertemplate": "index=%{x}<br>total_population=%{y}<extra></extra>",
         "legendgroup": "",
         "line": {
          "color": "#636efa",
          "dash": "solid"
         },
         "marker": {
          "symbol": "circle"
         },
         "mode": "lines",
         "name": "",
         "showlegend": false,
         "type": "scattergl",
         "x": [
          1900,
          1900.1,
          1900.2,
          1900.3,
          1900.4,
          1900.5,
          1900.6,
          1900.7,
          1900.8,
          1900.9,
          1901,
          1901.1,
          1901.2,
          1901.3,
          1901.4,
          1901.5,
          1901.6,
          1901.7,
          1901.8,
          1901.9,
          1902,
          1902.1,
          1902.2,
          1902.3,
          1902.4,
          1902.5,
          1902.6,
          1902.7,
          1902.8,
          1902.9,
          1903,
          1903.1,
          1903.2,
          1903.3,
          1903.4,
          1903.5,
          1903.6,
          1903.7,
          1903.8,
          1903.9,
          1904,
          1904.1,
          1904.2,
          1904.3,
          1904.4,
          1904.5,
          1904.6,
          1904.7,
          1904.8,
          1904.9,
          1905,
          1905.1,
          1905.2,
          1905.3,
          1905.4,
          1905.5,
          1905.6,
          1905.7,
          1905.8,
          1905.9,
          1906,
          1906.1,
          1906.2,
          1906.3,
          1906.4,
          1906.5,
          1906.6,
          1906.7,
          1906.8,
          1906.9,
          1907,
          1907.1,
          1907.2,
          1907.3,
          1907.4,
          1907.5,
          1907.6,
          1907.7,
          1907.8,
          1907.9,
          1908,
          1908.1,
          1908.2,
          1908.3,
          1908.4,
          1908.5,
          1908.6,
          1908.7,
          1908.8,
          1908.9,
          1909,
          1909.1,
          1909.2,
          1909.3,
          1909.4,
          1909.5,
          1909.6,
          1909.7,
          1909.8,
          1909.9,
          1910,
          1910.1,
          1910.2,
          1910.3,
          1910.4,
          1910.5,
          1910.6,
          1910.7,
          1910.8,
          1910.9,
          1911,
          1911.1,
          1911.2,
          1911.3,
          1911.4,
          1911.5,
          1911.6,
          1911.7,
          1911.8,
          1911.9,
          1912,
          1912.1,
          1912.2,
          1912.3,
          1912.4,
          1912.5,
          1912.6,
          1912.7,
          1912.8,
          1912.9,
          1913,
          1913.1,
          1913.2,
          1913.3,
          1913.4,
          1913.5,
          1913.6,
          1913.7,
          1913.8,
          1913.9,
          1914,
          1914.1,
          1914.2,
          1914.3,
          1914.4,
          1914.5,
          1914.6,
          1914.7,
          1914.8,
          1914.9,
          1915,
          1915.1,
          1915.2,
          1915.3,
          1915.4,
          1915.5,
          1915.6,
          1915.7,
          1915.8,
          1915.9,
          1916,
          1916.1,
          1916.2,
          1916.3,
          1916.4,
          1916.5,
          1916.6,
          1916.7,
          1916.8,
          1916.9,
          1917,
          1917.1,
          1917.2,
          1917.3,
          1917.4,
          1917.5,
          1917.6,
          1917.7,
          1917.8,
          1917.9,
          1918,
          1918.1,
          1918.2,
          1918.3,
          1918.4,
          1918.5,
          1918.6,
          1918.7,
          1918.8,
          1918.9,
          1919,
          1919.1,
          1919.2,
          1919.3,
          1919.4,
          1919.5,
          1919.6,
          1919.7,
          1919.8,
          1919.9,
          1920,
          1920.1,
          1920.2,
          1920.3,
          1920.4,
          1920.5,
          1920.6,
          1920.7,
          1920.8,
          1920.9,
          1921,
          1921.1,
          1921.2,
          1921.3,
          1921.4,
          1921.5,
          1921.6,
          1921.7,
          1921.8,
          1921.9,
          1922,
          1922.1,
          1922.2,
          1922.3,
          1922.4,
          1922.5,
          1922.6,
          1922.7,
          1922.8,
          1922.9,
          1923,
          1923.1,
          1923.2,
          1923.3,
          1923.4,
          1923.5,
          1923.6,
          1923.7,
          1923.8,
          1923.9,
          1924,
          1924.1,
          1924.2,
          1924.3,
          1924.4,
          1924.5,
          1924.6,
          1924.7,
          1924.8,
          1924.9,
          1925,
          1925.1,
          1925.2,
          1925.3,
          1925.4,
          1925.5,
          1925.6,
          1925.7,
          1925.8,
          1925.9,
          1926,
          1926.1,
          1926.2,
          1926.3,
          1926.4,
          1926.5,
          1926.6,
          1926.7,
          1926.8,
          1926.9,
          1927,
          1927.1,
          1927.2,
          1927.3,
          1927.4,
          1927.5,
          1927.6,
          1927.7,
          1927.8,
          1927.9,
          1928,
          1928.1,
          1928.2,
          1928.3,
          1928.4,
          1928.5,
          1928.6,
          1928.7,
          1928.8,
          1928.9,
          1929,
          1929.1,
          1929.2,
          1929.3,
          1929.4,
          1929.5,
          1929.6,
          1929.7,
          1929.8,
          1929.9,
          1930,
          1930.1,
          1930.2,
          1930.3,
          1930.4,
          1930.5,
          1930.6,
          1930.7,
          1930.8,
          1930.9,
          1931,
          1931.1,
          1931.2,
          1931.3,
          1931.4,
          1931.5,
          1931.6,
          1931.7,
          1931.8,
          1931.9,
          1932,
          1932.1,
          1932.2,
          1932.3,
          1932.4,
          1932.5,
          1932.6,
          1932.7,
          1932.8,
          1932.9,
          1933,
          1933.1,
          1933.2,
          1933.3,
          1933.4,
          1933.5,
          1933.6,
          1933.7,
          1933.8,
          1933.9,
          1934,
          1934.1,
          1934.2,
          1934.3,
          1934.4,
          1934.5,
          1934.6,
          1934.7,
          1934.8,
          1934.9,
          1935,
          1935.1,
          1935.2,
          1935.3,
          1935.4,
          1935.5,
          1935.6,
          1935.7,
          1935.8,
          1935.9,
          1936,
          1936.1,
          1936.2,
          1936.3,
          1936.4,
          1936.5,
          1936.6,
          1936.7,
          1936.8,
          1936.9,
          1937,
          1937.1,
          1937.2,
          1937.3,
          1937.4,
          1937.5,
          1937.6,
          1937.7,
          1937.8,
          1937.9,
          1938,
          1938.1,
          1938.2,
          1938.3,
          1938.4,
          1938.5,
          1938.6,
          1938.7,
          1938.8,
          1938.9,
          1939,
          1939.1,
          1939.2,
          1939.3,
          1939.4,
          1939.5,
          1939.6,
          1939.7,
          1939.8,
          1939.9,
          1940,
          1940.1,
          1940.2,
          1940.3,
          1940.4,
          1940.5,
          1940.6,
          1940.7,
          1940.8,
          1940.9,
          1941,
          1941.1,
          1941.2,
          1941.3,
          1941.4,
          1941.5,
          1941.6,
          1941.7,
          1941.8,
          1941.9,
          1942,
          1942.1,
          1942.2,
          1942.3,
          1942.4,
          1942.5,
          1942.6,
          1942.7,
          1942.8,
          1942.9,
          1943,
          1943.1,
          1943.2,
          1943.3,
          1943.4,
          1943.5,
          1943.6,
          1943.7,
          1943.8,
          1943.9,
          1944,
          1944.1,
          1944.2,
          1944.3,
          1944.4,
          1944.5,
          1944.6,
          1944.7,
          1944.8,
          1944.9,
          1945,
          1945.1,
          1945.2,
          1945.3,
          1945.4,
          1945.5,
          1945.6,
          1945.7,
          1945.8,
          1945.9,
          1946,
          1946.1,
          1946.2,
          1946.3,
          1946.4,
          1946.5,
          1946.6,
          1946.7,
          1946.8,
          1946.9,
          1947,
          1947.1,
          1947.2,
          1947.3,
          1947.4,
          1947.5,
          1947.6,
          1947.7,
          1947.8,
          1947.9,
          1948,
          1948.1,
          1948.2,
          1948.3,
          1948.4,
          1948.5,
          1948.6,
          1948.7,
          1948.8,
          1948.9,
          1949,
          1949.1,
          1949.2,
          1949.3,
          1949.4,
          1949.5,
          1949.6,
          1949.7,
          1949.8,
          1949.9,
          1950,
          1950.1,
          1950.2,
          1950.3,
          1950.4,
          1950.5,
          1950.6,
          1950.7,
          1950.8,
          1950.9,
          1951,
          1951.1,
          1951.2,
          1951.3,
          1951.4,
          1951.5,
          1951.6,
          1951.7,
          1951.8,
          1951.9,
          1952,
          1952.1,
          1952.2,
          1952.3,
          1952.4,
          1952.5,
          1952.6,
          1952.7,
          1952.8,
          1952.9,
          1953,
          1953.1,
          1953.2,
          1953.3,
          1953.4,
          1953.5,
          1953.6,
          1953.7,
          1953.8,
          1953.9,
          1954,
          1954.1,
          1954.2,
          1954.3,
          1954.4,
          1954.5,
          1954.6,
          1954.7,
          1954.8,
          1954.9,
          1955,
          1955.1,
          1955.2,
          1955.3,
          1955.4,
          1955.5,
          1955.6,
          1955.7,
          1955.8,
          1955.9,
          1956,
          1956.1,
          1956.2,
          1956.3,
          1956.4,
          1956.5,
          1956.6,
          1956.7,
          1956.8,
          1956.9,
          1957,
          1957.1,
          1957.2,
          1957.3,
          1957.4,
          1957.5,
          1957.6,
          1957.7,
          1957.8,
          1957.9,
          1958,
          1958.1,
          1958.2,
          1958.3,
          1958.4,
          1958.5,
          1958.6,
          1958.7,
          1958.8,
          1958.9,
          1959,
          1959.1,
          1959.2,
          1959.3,
          1959.4,
          1959.5,
          1959.6,
          1959.7,
          1959.8,
          1959.9,
          1960,
          1960.1,
          1960.2,
          1960.3,
          1960.4,
          1960.5,
          1960.6,
          1960.7,
          1960.8,
          1960.9,
          1961,
          1961.1,
          1961.2,
          1961.3,
          1961.4,
          1961.5,
          1961.6,
          1961.7,
          1961.8,
          1961.9,
          1962,
          1962.1,
          1962.2,
          1962.3,
          1962.4,
          1962.5,
          1962.6,
          1962.7,
          1962.8,
          1962.9,
          1963,
          1963.1,
          1963.2,
          1963.3,
          1963.4,
          1963.5,
          1963.6,
          1963.7,
          1963.8,
          1963.9,
          1964,
          1964.1,
          1964.2,
          1964.3,
          1964.4,
          1964.5,
          1964.6,
          1964.7,
          1964.8,
          1964.9,
          1965,
          1965.1,
          1965.2,
          1965.3,
          1965.4,
          1965.5,
          1965.6,
          1965.7,
          1965.8,
          1965.9,
          1966,
          1966.1,
          1966.2,
          1966.3,
          1966.4,
          1966.5,
          1966.6,
          1966.7,
          1966.8,
          1966.9,
          1967,
          1967.1,
          1967.2,
          1967.3,
          1967.4,
          1967.5,
          1967.6,
          1967.7,
          1967.8,
          1967.9,
          1968,
          1968.1,
          1968.2,
          1968.3,
          1968.4,
          1968.5,
          1968.6,
          1968.7,
          1968.8,
          1968.9,
          1969,
          1969.1,
          1969.2,
          1969.3,
          1969.4,
          1969.5,
          1969.6,
          1969.7,
          1969.8,
          1969.9,
          1970,
          1970.1,
          1970.2,
          1970.3,
          1970.4,
          1970.5,
          1970.6,
          1970.7,
          1970.8,
          1970.9,
          1971,
          1971.1,
          1971.2,
          1971.3,
          1971.4,
          1971.5,
          1971.6,
          1971.7,
          1971.8,
          1971.9,
          1972,
          1972.1,
          1972.2,
          1972.3,
          1972.4,
          1972.5,
          1972.6,
          1972.7,
          1972.8,
          1972.9,
          1973,
          1973.1,
          1973.2,
          1973.3,
          1973.4,
          1973.5,
          1973.6,
          1973.7,
          1973.8,
          1973.9,
          1974,
          1974.1,
          1974.2,
          1974.3,
          1974.4,
          1974.5,
          1974.6,
          1974.7,
          1974.8,
          1974.9,
          1975,
          1975.1,
          1975.2,
          1975.3,
          1975.4,
          1975.5,
          1975.6,
          1975.7,
          1975.8,
          1975.9,
          1976,
          1976.1,
          1976.2,
          1976.3,
          1976.4,
          1976.5,
          1976.6,
          1976.7,
          1976.8,
          1976.9,
          1977,
          1977.1,
          1977.2,
          1977.3,
          1977.4,
          1977.5,
          1977.6,
          1977.7,
          1977.8,
          1977.9,
          1978,
          1978.1,
          1978.2,
          1978.3,
          1978.4,
          1978.5,
          1978.6,
          1978.7,
          1978.8,
          1978.9,
          1979,
          1979.1,
          1979.2,
          1979.3,
          1979.4,
          1979.5,
          1979.6,
          1979.7,
          1979.8,
          1979.9,
          1980,
          1980.1,
          1980.2,
          1980.3,
          1980.4,
          1980.5,
          1980.6,
          1980.7,
          1980.8,
          1980.9,
          1981,
          1981.1,
          1981.2,
          1981.3,
          1981.4,
          1981.5,
          1981.6,
          1981.7,
          1981.8,
          1981.9,
          1982,
          1982.1,
          1982.2,
          1982.3,
          1982.4,
          1982.5,
          1982.6,
          1982.7,
          1982.8,
          1982.9,
          1983,
          1983.1,
          1983.2,
          1983.3,
          1983.4,
          1983.5,
          1983.6,
          1983.7,
          1983.8,
          1983.9,
          1984,
          1984.1,
          1984.2,
          1984.3,
          1984.4,
          1984.5,
          1984.6,
          1984.7,
          1984.8,
          1984.9,
          1985,
          1985.1,
          1985.2,
          1985.3,
          1985.4,
          1985.5,
          1985.6,
          1985.7,
          1985.8,
          1985.9,
          1986,
          1986.1,
          1986.2,
          1986.3,
          1986.4,
          1986.5,
          1986.6,
          1986.7,
          1986.8,
          1986.9,
          1987,
          1987.1,
          1987.2,
          1987.3,
          1987.4,
          1987.5,
          1987.6,
          1987.7,
          1987.8,
          1987.9,
          1988,
          1988.1,
          1988.2,
          1988.3,
          1988.4,
          1988.5,
          1988.6,
          1988.7,
          1988.8,
          1988.9,
          1989,
          1989.1,
          1989.2,
          1989.3,
          1989.4,
          1989.5,
          1989.6,
          1989.7,
          1989.8,
          1989.9,
          1990,
          1990.1,
          1990.2,
          1990.3,
          1990.4,
          1990.5,
          1990.6,
          1990.7,
          1990.8,
          1990.9,
          1991,
          1991.1,
          1991.2,
          1991.3,
          1991.4,
          1991.5,
          1991.6,
          1991.7,
          1991.8,
          1991.9,
          1992,
          1992.1,
          1992.2,
          1992.3,
          1992.4,
          1992.5,
          1992.6,
          1992.7,
          1992.8,
          1992.9,
          1993,
          1993.1,
          1993.2,
          1993.3,
          1993.4,
          1993.5,
          1993.6,
          1993.7,
          1993.8,
          1993.9,
          1994,
          1994.1,
          1994.2,
          1994.3,
          1994.4,
          1994.5,
          1994.6,
          1994.7,
          1994.8,
          1994.9,
          1995,
          1995.1,
          1995.2,
          1995.3,
          1995.4,
          1995.5,
          1995.6,
          1995.7,
          1995.8,
          1995.9,
          1996,
          1996.1,
          1996.2,
          1996.3,
          1996.4,
          1996.5,
          1996.6,
          1996.7,
          1996.8,
          1996.9,
          1997,
          1997.1,
          1997.2,
          1997.3,
          1997.4,
          1997.5,
          1997.6,
          1997.7,
          1997.8,
          1997.9,
          1998,
          1998.1,
          1998.2,
          1998.3,
          1998.4,
          1998.5,
          1998.6,
          1998.7,
          1998.8,
          1998.9,
          1999,
          1999.1,
          1999.2,
          1999.3,
          1999.4,
          1999.5,
          1999.6,
          1999.7,
          1999.8,
          1999.9,
          2000,
          2000.1,
          2000.2,
          2000.3,
          2000.4,
          2000.5,
          2000.6,
          2000.7,
          2000.8,
          2000.9,
          2001,
          2001.1,
          2001.2,
          2001.3,
          2001.4,
          2001.5,
          2001.6,
          2001.7,
          2001.8,
          2001.9,
          2002,
          2002.1,
          2002.2,
          2002.3,
          2002.4,
          2002.5,
          2002.6,
          2002.7,
          2002.8,
          2002.9,
          2003,
          2003.1,
          2003.2,
          2003.3,
          2003.4,
          2003.5,
          2003.6,
          2003.7,
          2003.8,
          2003.9,
          2004,
          2004.1,
          2004.2,
          2004.3,
          2004.4,
          2004.5,
          2004.6,
          2004.7,
          2004.8,
          2004.9,
          2005,
          2005.1,
          2005.2,
          2005.3,
          2005.4,
          2005.5,
          2005.6,
          2005.7,
          2005.8,
          2005.9,
          2006,
          2006.1,
          2006.2,
          2006.3,
          2006.4,
          2006.5,
          2006.6,
          2006.7,
          2006.8,
          2006.9,
          2007,
          2007.1,
          2007.2,
          2007.3,
          2007.4,
          2007.5,
          2007.6,
          2007.7,
          2007.8,
          2007.9,
          2008,
          2008.1,
          2008.2,
          2008.3,
          2008.4,
          2008.5,
          2008.6,
          2008.7,
          2008.8,
          2008.9,
          2009,
          2009.1,
          2009.2,
          2009.3,
          2009.4,
          2009.5,
          2009.6,
          2009.7,
          2009.8,
          2009.9,
          2010,
          2010.1,
          2010.2,
          2010.3,
          2010.4,
          2010.5,
          2010.6,
          2010.7,
          2010.8,
          2010.9,
          2011,
          2011.1,
          2011.2,
          2011.3,
          2011.4,
          2011.5,
          2011.6,
          2011.7,
          2011.8,
          2011.9,
          2012,
          2012.1,
          2012.2,
          2012.3,
          2012.4,
          2012.5,
          2012.6,
          2012.7,
          2012.8,
          2012.9,
          2013,
          2013.1,
          2013.2,
          2013.3,
          2013.4,
          2013.5,
          2013.6,
          2013.7,
          2013.8,
          2013.9,
          2014,
          2014.1,
          2014.2,
          2014.3,
          2014.4,
          2014.5,
          2014.6,
          2014.7,
          2014.8,
          2014.9,
          2015,
          2015.1,
          2015.2,
          2015.3,
          2015.4,
          2015.5,
          2015.6,
          2015.7,
          2015.8,
          2015.9,
          2016,
          2016.1,
          2016.2,
          2016.3,
          2016.4,
          2016.5,
          2016.6,
          2016.7,
          2016.8,
          2016.9,
          2017,
          2017.1,
          2017.2,
          2017.3,
          2017.4,
          2017.5,
          2017.6,
          2017.7,
          2017.8,
          2017.9,
          2018,
          2018.1,
          2018.2,
          2018.3,
          2018.4,
          2018.5,
          2018.6,
          2018.7,
          2018.8,
          2018.9,
          2019,
          2019.1,
          2019.2,
          2019.3,
          2019.4,
          2019.5,
          2019.6,
          2019.7,
          2019.8,
          2019.9,
          2020
         ],
         "xaxis": "x",
         "y": [
          310000,
          309942.7543138404,
          309893.02858472656,
          309850.7426477523,
          309815.81779493316,
          309788.1765186528,
          309767.7425014718,
          309754.4405004572,
          309748.1963550199,
          309748.9369592293,
          309756.5901994553,
          309771.08497383766,
          309792.3511813092,
          309820.31966201385,
          309854.9221906666,
          309896.0914753023,
          309943.7611822265,
          309997.8658523204,
          310058.34088553616,
          310125.12254089775,
          310198.1479367384,
          310277.35506896384,
          310362.68275140045,
          310454.0705788874,
          310551.4589270891,
          310654.7889571791,
          310764.00265553803,
          310879.0427569926,
          310999.8527054963,
          311126.3766540959,
          311258.5594847159,
          311396.3468532529,
          311539.68508782866,
          311688.52117027435,
          311842.80274208006,
          312002.47815579164,
          312167.49642287876,
          312337.8071707472,
          312513.3606429457,
          312694.1077177764,
          312879.9999257929,
          313070.9893815264,
          313267.0287714795,
          313468.07135414454,
          313674.0709864891,
          313884.9821350258,
          314100.75979756773,
          314321.35949343385,
          314546.7372643803,
          314776.8497270556,
          315011.6540600677,
          315251.10792424873,
          315495.16946196964,
          315743.7973175383,
          315996.95068811945,
          316254.58924181946,
          316516.67310256296,
          316783.16285167483,
          317054.0195681717,
          317329.20481880533,
          317608.68059854046,
          317892.40932742786,
          318180.3538537879,
          318472.4775061758,
          318768.7440643433,
          319069.11769745965,
          319373.5629620252,
          319682.0448103156,
          319994.52867035597,
          320310.98037556023,
          320631.3661144693,
          320955.6524326701,
          321283.8062793925,
          321615.7950388481,
          321951.5864382564,
          322291.1485444222,
          322634.44976913446,
          322981.4589338391,
          323332.14522976615,
          323686.47816499823,
          324044.4275641739,
          324405.96357948397,
          324771.05676719494,
          325139.67802025884,
          325511.7985171654,
          325887.38972172624,
          326266.4234003468,
          326648.871733308,
          327034.7072159442,
          327423.90259039286,
          327816.4308454914,
          328212.2652581257,
          328611.3795415636,
          329013.7476557144,
          329419.3437863365,
          329828.14235816,
          330240.1181610509,
          330655.2462744249,
          331073.50200390967,
          331494.8608875514,
          331919.2987401799,
          332346.79170300066,
          332777.3161462286,
          333210.8486581146,
          333647.3660450026,
          334086.84537828714,
          334529.2640657665,
          334974.59972023877,
          335422.8301337592,
          335873.9332776459,
          336327.887366114,
          336784.67099646165,
          337244.2629269841,
          337706.642060029,
          338171.7874554683,
          338639.67850766925,
          339110.29485348315,
          339583.6162699527,
          340059.6226815382,
          340538.29420841107,
          341019.61129711504,
          341503.55455965834,
          341990.1047372806,
          342479.242700714,
          342970.9495069132,
          343465.2065690276,
          343961.99544777785,
          344461.2977834273,
          344963.0952958033,
          345467.3698664383,
          345974.10381209414,
          346483.27953792573,
          346994.87948541756,
          347508.8861441014,
          348025.28231391363,
          348544.051060132,
          349065.1754830931,
          349588.6387305606,
          350114.42404562986,
          350642.51502832916,
          351172.8954105451,
          351705.5489476127,
          352240.4594201953,
          352777.6106947503,
          353316.98704938224,
          353858.57288542076,
          354402.35255802015,
          354948.31037609704,
          355496.4306877468,
          356046.6983875332,
          356599.0984281553,
          357153.6156460308,
          357710.2347746766,
          358268.94078759506,
          358829.7190693237,
          359392.5549021222,
          359957.43347417936,
          360524.33991415874,
          361093.2597491287,
          361664.1786989486,
          362237.0823518875,
          362811.9561668984,
          363388.78552384686,
          363967.55630025506,
          364548.2545813287,
          365130.8662158151,
          365715.3768104412,
          366301.7718038066,
          366890.0373500364,
          367480.15975050384,
          368072.12494556955,
          368665.91854432627,
          369261.5262067183,
          369858.9343500898,
          370458.12912699947,
          371059.0963695415,
          371661.8216078823,
          372266.2907626631,
          372872.4902007937,
          373480.4059299803,
          374090.023578965,
          374701.3284310401,
          375314.30633875536,
          375928.9436624372,
          376545.2262393805,
          377163.13934367406,
          377782.66771983664,
          378403.796884634,
          379026.51326194115,
          379650.80247632996,
          380276.6492591469,
          380904.03751707415,
          381532.9525856891,
          382163.380464922,
          382795.30600691907,
          383428.7131200102,
          384063.5858267943,
          384699.90941394004,
          385337.6683683434,
          385976.84647872794,
          386617.42699535296,
          387259.39407583204,
          387902.7319582183,
          388547.4241259855,
          389193.4533135565,
          389840.8016494907,
          390489.45253262675,
          391139.38982225856,
          391790.5961774155,
          392443.0530162993,
          393096.74062302493,
          393751.6413011078,
          394407.7382384245,
          395065.01281461236,
          395723.4448086373,
          396383.0138452134,
          397043.7019239994,
          397705.48977858934,
          398368.3568015967,
          399032.28117274726,
          399697.2424103007,
          400363.2209248012,
          401030.1956635437,
          401698.1440671444,
          402367.0422282359,
          403036.86830438266,
          403707.60200251645,
          404379.220871723,
          405051.7001475782,
          405725.01296217914,
          406399.1361214021,
          407074.04807271034,
          407749.7241651951,
          408426.1370008562,
          409103.25890116027,
          409781.0666084756,
          410459.5347768647,
          411138.6357149797,
          411818.33961490233,
          412498.6192630854,
          413179.44929835864,
          413860.8018318742,
          414542.6463726627,
          415224.95026056573,
          415907.6852573951,
          416590.8253386307,
          417274.34080932627,
          417958.19816154963,
          418642.3609571095,
          419326.8006455365,
          420011.48960290983,
          420696.3953600904,
          421381.4810700891,
          422066.7113594289,
          422752.05777113617,
          423437.48810975964,
          424122.9663941211,
          424808.453628173,
          425493.9171633784,
          426179.3264845839,
          426864.6468408482,
          427549.83926409174,
          428234.86247288494,
          428919.6853786918,
          429604.27764487994,
          430288.603016172,
          430972.61933316954,
          431656.2831406115,
          432339.5663626921,
          433022.4371479742,
          433704.8568570089,
          434386.78082960204,
          435068.17335225927,
          435749.00520879956,
          436429.24096157996,
          437108.8394438677,
          437787.7577733091,
          438465.9670332967,
          439143.4368994798,
          439820.13065051555,
          440496.00524467416,
          441171.0207686348,
          441845.15404418274,
          442518.376542507,
          443190.65129002294,
          443861.9330277631,
          444532.1862996966,
          445201.39521273074,
          445869.5342765068,
          446536.5663560381,
          447202.4440985997,
          447867.14396137383,
          448530.6521623532,
          449192.94150356104,
          449853.9740524662,
          450513.7189635831,
          451172.16380388575,
          451829.2876122709,
          452485.06192352023,
          453139.4550382381,
          453792.45458484726,
          454444.04918564804,
          455094.2194162391,
          455742.9379205394,
          456390.1792944476,
          457035.9442761583,
          457680.22928039357,
          458323.0187016711,
          458964.2849184872,
          459604.0095811079,
          460242.2061849108,
          460878.87379972404,
          461513.99838978116,
          462147.55882592767,
          462779.56408924435,
          463410.023070827,
          464038.9334907553,
          464666.2829737217,
          465292.07015902677,
          465916.31487635116,
          466539.02746157546,
          467160.2072994961,
          467779.84451353573,
          468397.95305525535,
          469014.5627356883,
          469629.6889764965,
          470243.3323224353,
          470855.48274245544,
          471466.1687165721,
          472075.4315633783,
          472683.2915084281,
          473289.7477667109,
          473894.7919434095,
          474498.4730192176,
          475100.82772887894,
          475701.87199607433,
          476301.6074686019,
          476900.06803036225,
          477497.2919457005,
          478093.3040154926,
          478688.11813182005,
          479281.7582127609,
          479874.2675099019,
          480465.67990736134,
          481056.0186726501,
          481645.2972859721,
          482233.54755257413,
          482820.82260231744,
          483407.16106867016,
          483992.5849375678,
          484577.100411918,
          485160.7442942512,
          485743.5759251274,
          486325.63133363746,
          486906.92772277613,
          487487.48432035034,
          488067.3557402929,
          488646.58260366897,
          489225.1924564961,
          489803.20261277555,
          490380.65392626036,
          490957.59521825105,
          491534.06221413135,
          492110.0779471377,
          492685.65769242524,
          493260.848733542,
          493835.7042090282,
          494410.25905727845,
          494984.5299863657,
          495558.5240890722,
          496132.2970207753,
          496705.89897312934,
          497279.3580906511,
          497852.68375415675,
          498425.90791953285,
          498999.08077950147,
          499572.2356250859,
          500145.39191899286,
          500718.5650101866,
          501291.80007000436,
          501865.13707596477,
          502438.60266805463,
          503012.2103747839,
          503585.97532443726,
          504159.9472263154,
          504734.1669147863,
          505308.6570064836,
          505883.4219103378,
          506458.472265909,
          507033.8639022462,
          507609.63134684286,
          508185.7890720833,
          508762.33787763375,
          509339.3150268818,
          509916.75774827035,
          510494.687255896,
          511073.11069467274,
          511652.0425424956,
          512231.5224045473,
          512811.5781172386,
          513392.2241879373,
          513973.4622363306,
          514555.30946185905,
          515137.80853143585,
          515720.98653869604,
          516304.85239824496,
          516889.3976304671,
          517474.64224133646,
          518060.6300432408,
          518647.3812340048,
          519234.89628376474,
          519823.1731786838,
          520412.24881847383,
          521002.14695934026,
          521592.8768458004,
          522184.43503703584,
          522776.83859810623,
          523370.11791148694,
          523964.2895105328,
          524559.356582101,
          525155.3122459181,
          525752.178685023,
          526349.988458984,
          526948.7562407769,
          527548.4787052216,
          528149.140762062,
          528750.7721275798,
          529353.4026480571,
          529957.0401822034,
          530561.6733752523,
          531167.3068407078,
          531773.9709019702,
          532381.678904884,
          532990.4300821119,
          533600.215705197,
          534211.0568724462,
          534822.9747386313,
          535435.9765773447,
          536050.0563223076,
          536665.2052434918,
          537281.4503869537,
          537898.8140624107,
          538517.3006835225,
          539136.8968767221,
          539757.5907197975,
          540379.4170084563,
          541002.3930583212,
          541626.5165681482,
          542251.7697357564,
          542878.1674013837,
          543505.7312487654,
          544134.466561591,
          544764.3645832569,
          545395.4185375387,
          546027.6515213295,
          546661.0767567707,
          547295.6941370236,
          547931.4903755955,
          548568.463328334,
          549206.6403381862,
          549846.0349521607,
          550486.6431812452,
          551128.4438710609,
          551771.4393213487,
          552415.6598101605,
          553061.1134710205,
          553707.789643634,
          554355.6716158042,
          555004.7820648643,
          555655.1344319899,
          556306.7274667702,
          556959.546601214,
          557613.5936877746,
          558268.8892731495,
          558925.4405123051,
          559583.2412939714,
          560242.2744293064,
          560902.5488909256,
          561564.0879610339,
          562226.8978957591,
          562890.967671432,
          563556.2738784562,
          564222.834420681,
          564890.6710044914,
          565559.7843605466,
          566230.1568069482,
          566901.781690414,
          567574.682186466,
          568248.8654268207,
          568924.3246548444,
          569601.0434023167,
          570279.0332540378,
          570958.3101642474,
          571638.8761484037,
          572320.7199873088,
          573003.825706727,
          573688.2123180437,
          574373.896978415,
          575060.8795993159,
          575749.1430536988,
          576438.6696148921,
          577129.4868317401,
          577821.607667722,
          578515.0263616514,
          579209.7213470035,
          579905.6997351638,
          580602.9799899743,
          581301.5643301232,
          582001.4411406034,
          582702.5972988654,
          583405.0511495719,
          584108.8135048783,
          584813.8818051723,
          585520.2402914442,
          586227.8808461857,
          586936.826782075,
          587647.0891349913,
          588358.6621135218,
          589071.5232842542,
          589785.6696693437,
          590501.128054989,
          591217.9046746896,
          591935.9878982696,
          592655.3580682933,
          593376.0329095451,
          594098.0290136889,
          594821.3594055423,
          595546.034954729,
          596272.0788354867,
          596999.5330697458,
          597728.4414554643,
          598458.8499581943,
          599190.8093906117,
          599924.4205746942,
          600659.827302126,
          601397.2207302242,
          602136.8457995765,
          602879.0107226233,
          603624.1825669425,
          604372.9792386636,
          605126.254187319,
          605885.1146172751,
          606650.938839388,
          607425.5923315012,
          608211.4151365139,
          609011.1654940275,
          609828.0101766256,
          610665.4058567338,
          611526.898616829,
          612415.322915066,
          613332.6874254565,
          614279.96621274,
          615256.3632955063,
          616260.0483480794,
          617288.4092676528,
          618338.0706151177,
          619405.5656318446,
          620487.787457657,
          621581.9899848638,
          622685.8638969635,
          623797.53655608,
          624915.5566623613,
          626038.8560424236,
          627166.5955399207,
          628298.1221384577,
          629432.9645554095,
          630570.8012180602,
          631711.4015550024,
          632854.5790541128,
          634000.1889250258,
          635148.1353576094,
          636298.3757984578,
          637450.8756092254,
          638605.5987036508,
          639762.5079761047,
          640921.5905725748,
          642082.8515508631,
          643246.2878744379,
          644411.8914048858,
          645579.6495641398,
          646749.576790998,
          647921.7147473728,
          649096.0824444314,
          650272.6732343792,
          651451.459221614,
          652632.4647712496,
          653815.722167075,
          655001.2331449792,
          656188.9753768964,
          657378.9428725856,
          658571.1479602492,
          659765.5792002584,
          660962.2053867743,
          662160.9860259771,
          663361.8949135201,
          664564.8910294973,
          665769.9176546596,
          666976.902515171,
          668185.7754426793,
          669396.508607306,
          670609.090328995,
          671823.5221677064,
          673039.8189297303,
          674258.0178237404,
          675478.2232599759,
          676700.5384580744,
          677925.0425507952,
          679151.7934079291,
          680380.8675573616,
          681612.3429230232,
          682846.2716690839,
          684082.682848022,
          685321.5956208464,
          686563.054965862,
          687807.0942235833,
          689053.7298500609,
          690302.9615592584,
          691554.7908053972,
          692809.2543681293,
          694066.3772009455,
          695326.1645220522,
          696588.60181517,
          697853.6838726011,
          699121.4516355178,
          700391.9216885047,
          701665.0884476642,
          702940.9293568168,
          704219.4524735939,
          705500.6696123525,
          706784.5728978384,
          708071.1355194448,
          709360.331405999,
          710652.1561586381,
          711946.5786114504,
          713243.5345674041,
          714542.9265747367,
          715844.6386666894,
          717148.5556886481,
          718454.476181013,
          719762.0957084063,
          721071.0068244335,
          722380.7044815847,
          723690.5533098899,
          724999.6943174712,
          726307.0309372109,
          727611.2601590414,
          728910.8683208126,
          730204.2129999745,
          731489.7572411078,
          732766.0796238931,
          734032.1306737224,
          735287.6082529997,
          736532.7623854588,
          737768.3721815342,
          738995.7358951815,
          740216.401562311,
          741431.9789091051,
          742643.9321961256,
          743853.5175918462,
          745061.783522354,
          746269.6058387405,
          747477.683525791,
          748686.5485894808,
          749896.5852661614,
          751108.0683548736,
          752321.2425486099,
          753536.2809184229,
          754753.3035707895,
          755972.382997326,
          757193.5941817285,
          758417.0008005301,
          759642.6432206597,
          760870.5401143053,
          762100.6927630638,
          763333.1294976934,
          764567.8836840354,
          765804.961699082,
          767044.3424905757,
          768285.9815357127,
          769529.8771418266,
          770776.0309345588,
          772024.4056581326,
          773274.929220282,
          774527.5242285547,
          775782.1225016277,
          777038.5954134231,
          778296.7484632423,
          779556.3172404171,
          780816.9840189595,
          782078.3238498565,
          783339.7090553824,
          784600.3052999321,
          785859.0648792095,
          787114.6328393607,
          788365.3059131217,
          789609.0607988758,
          790843.5547711547,
          792066.1819684773,
          793274.4326334915,
          794466.096675851,
          795639.7360277298,
          796794.7296457598,
          797931.4293356356,
          799051.372543807,
          800156.558975062,
          801249.3094518364,
          802332.1865022753,
          803407.5140857209,
          804477.3245303031,
          805543.311759852,
          806606.8239749983,
          807668.8990420925,
          808730.3673061599,
          809791.8558387379,
          810853.8404000304,
          811916.6470101578,
          812980.4885335831,
          814045.5857776267,
          815112.0885081209,
          816180.0902024563,
          817249.6345710172,
          818320.7821822886,
          819393.5882857562,
          820468.080672008,
          821544.2639255486,
          822622.140676049,
          823701.7551460238,
          824783.1381537642,
          825866.2987603679,
          826951.2243653485,
          828037.912498831,
          829126.4035351669,
          830216.7314080411,
          831308.9210129603,
          832402.9882072718,
          833498.9788926988,
          834597.0043402081,
          835697.1845211313,
          836799.6614494771,
          837904.6122109223,
          839012.32611676,
          840123.1774201405,
          841237.648686483,
          842356.3352131494,
          843479.9715713919,
          844609.5386388018,
          845746.0933959852,
          846890.7130790951,
          848044.4926648817,
          849208.393291316,
          850383.0383216427,
          851568.6106336355,
          852764.8191170999,
          853970.8990059714,
          855185.772750127,
          856408.2438007185,
          857637.1031585899,
          858871.2176547165,
          860109.5511267202,
          861351.3055014736,
          862595.8438453949,
          863842.6420310301,
          865091.2900080984,
          866341.4937040281,
          867593.0630245934,
          868845.8456853725,
          870099.7143616951,
          871354.5672616508,
          872610.3517002142,
          873867.0550050422,
          875124.6570337848,
          876383.126912284,
          877642.4248978569,
          878902.5527768573,
          880163.5451821091,
          881425.4095527965,
          882688.1239563456,
          883951.6439523022,
          885215.9962771154,
          886481.214909739,
          887747.3004350103,
          889014.2282281173,
          890281.996252821,
          891550.62246969,
          892820.1012274568,
          894090.4078887298,
          895361.5093394248,
          896633.3933638392,
          897906.0272759522,
          899179.3465949058,
          900453.2550853582,
          901727.6313571482,
          903002.3520742333,
          904277.244222801,
          905552.0673021581,
          906826.5133221943,
          908100.2256423624,
          909372.8666731613,
          910644.0854082434,
          911913.5706996683,
          913181.0593160851,
          914446.440032622,
          915709.777158791,
          916971.2199501487,
          918231.0001665021,
          919489.4206684595,
          920746.8167169688,
          922003.5002285835,
          923259.7298450466,
          924515.7107001854,
          925771.6099756135,
          927027.5946359346,
          928283.7941867461,
          929540.2944483286,
          930797.1375924753,
          932054.3503142266,
          933312.0110324398,
          934570.1646190117,
          935828.8261891466,
          937087.9892836966,
          938347.6860476782,
          939607.9458618591,
          940868.7794952503,
          942130.1818607559,
          943392.1563964359,
          944654.730668544,
          945917.9190567652,
          947181.721365304,
          948446.1231002626,
          949711.1228405326,
          950976.7496127029,
          952243.0152144795,
          953509.9092974211,
          954777.3993685478,
          956045.4681561852,
          957314.1376213949,
          958583.3940587307,
          959853.1910507355,
          961123.4605802088,
          962394.163179689,
          963665.227995402,
          964936.535188754,
          966207.9173360115,
          967479.181968938,
          968750.0987717662,
          970020.3791864754,
          971289.6793699604,
          972557.6041577974,
          973823.7835526462,
          975087.8989563888,
          976349.7240127916,
          977609.1384251157,
          978866.1285773454,
          980120.8436691153,
          981373.5787832447,
          982624.6319818603,
          983874.2932183776,
          985122.8542045001,
          986370.6046881294,
          987617.7798655112,
          988864.5564934998,
          990111.0620395178,
          991357.4340348934,
          992603.7774513791,
          993850.1803150228,
          995096.7722456525,
          996343.8249053869,
          997591.8119714914,
          998841.2838019695,
          1000092.7201483429,
          1001346.5062145537,
          1002602.9334549922,
          1003862.2199145703,
          1005124.5343090503,
          1006390.0141270899,
          1007658.7860295443,
          1008931.0234578307,
          1010206.9610043662,
          1011486.8718068647,
          1012770.9740414969,
          1014059.4249533945,
          1015352.3382188522,
          1016649.7755236946,
          1017951.7623772386,
          1019258.2771490578,
          1020569.2593312957,
          1021884.6493549573,
          1023204.3665121036,
          1024528.2550394385,
          1025856.0467969027,
          1027187.3369859065,
          1028521.547122011,
          1029857.8638065483,
          1031195.2558971071,
          1032532.4778154283,
          1033867.9810717228,
          1035199.9606846413,
          1036526.6077885405,
          1037846.1400781297,
          1039156.9172700669,
          1040457.7661537577,
          1041748.2135347839,
          1043028.4811820559,
          1044299.477948915,
          1045562.5984392929,
          1046819.4687323596,
          1048071.8787715449,
          1049321.503864187,
          1050569.8206592626,
          1051818.048276679,
          1053067.1511645662,
          1054317.8739043088,
          1055570.7798767523,
          1056826.278824855,
          1058084.6678201265,
          1059346.1880845653,
          1060611.0307846318,
          1061879.3483267406,
          1063151.2586320527,
          1064426.8433606406,
          1065706.1494144497,
          1066989.1903622802,
          1068275.976289712,
          1069566.507164242,
          1070860.7497066446,
          1072158.6378374342,
          1073460.0626373799,
          1074764.8351988597,
          1076072.814204471,
          1077383.8772866465,
          1078697.9181671597,
          1080014.8654119296,
          1081334.6362394593,
          1082657.0901181854,
          1083981.9614893936,
          1085308.8308731022,
          1086637.0905856183,
          1087965.9765439124,
          1089294.496840731,
          1090621.3454878202,
          1091944.8103879457,
          1093262.6729674041,
          1094572.0121634398,
          1095869.1217157652,
          1097149.4044629168,
          1098407.2547939776,
          1099636.4052782247,
          1100830.0125339762,
          1101981.2345883616,
          1103084.1502202144,
          1104134.77344638,
          1105131.3972291008,
          1106075.218050396,
          1106969.8844348132,
          1107820.903643709,
          1108634.7770197866,
          1109418.3206486234,
          1110177.8451007153,
          1110918.7545134013,
          1111645.4520196754,
          1112361.4506565037,
          1113069.4818716627,
          1113771.6423990545,
          1114469.492761878,
          1115164.1745347544,
          1115856.522120145,
          1116547.1192991256,
          1117236.377290334,
          1117924.5812334383,
          1118611.9120575495,
          1119298.4795568904,
          1119984.3251175683,
          1120669.4280591211,
          1121353.7598869673,
          1122037.2979553258,
          1122720.0252579113,
          1123401.9622557606,
          1124083.098982975,
          1124763.3991388765,
          1125442.8196828458,
          1126121.3197113497,
          1126798.879057404,
          1127475.4733708622,
          1128151.066598639,
          1128825.5867353545,
          1129498.9289842364,
          1130170.9518415567,
          1130841.471366213,
          1131510.235888434,
          1132176.9164631716,
          1132841.0870265185,
          1133502.190453523,
          1134159.514579671,
          1134812.160437049,
          1135459.020108794,
          1136098.7760861106,
          1136729.915142221,
          1137350.830074196,
          1137959.9196335,
          1138555.7717228683,
          1139137.405826446,
          1139704.4251932215,
          1140257.0501295084,
          1140796.136539866,
          1141322.909197686,
          1141838.8843895288,
          1142345.6165400045,
          1142844.524064304,
          1143336.8432041393,
          1143823.6025698383,
          1144305.6285488908,
          1144783.5583207824,
          1145257.8768563443,
          1145728.9481999616,
          1146197.031401135,
          1146662.3096671354,
          1147124.9143170614,
          1147584.9545918268,
          1148042.51689239,
          1148497.6578627825,
          1148950.4136281097,
          1149400.8125665227,
          1149848.8753278516,
          1150294.6170543889,
          1150738.049538208,
          1151179.1907831917,
          1151618.0669374587,
          1152054.6906515511,
          1152489.0564558457,
          1152921.165495695,
          1153351.0233968776,
          1153778.640826047,
          1154204.0350895608,
          1154627.2284696226,
          1155048.2502809386,
          1155467.1421424618,
          1155883.962171756,
          1156298.7931973645,
          1156711.748755863,
          1157122.9792455665,
          1157532.69053328,
          1157941.1523208492,
          1158348.7169681846,
          1158755.8417710674,
          1159163.1009126047,
          1159571.187106563,
          1159980.8972863064,
          1160393.0811662632,
          1160808.5796891577,
          1161228.12340225,
          1161652.2061459548,
          1162081.0134604464,
          1162514.3769986352,
          1162951.8103803243,
          1163392.585400773,
          1163835.8634479335,
          1164280.7899972324,
          1164726.5712835698,
          1165172.5182903938,
          1165618.0544086457,
          1166062.7156447899,
          1166506.1382285766,
          1166948.0426073042,
          1167388.2148248325,
          1167826.494136881,
          1168262.7477925976,
          1168696.878004528,
          1169128.8305775144,
          1169558.5719884636,
          1169986.0745609843,
          1170411.3167965286,
          1170834.284307192,
          1171254.9691232324,
          1171673.3660571324,
          1172089.4747460738,
          1172503.3001580809,
          1172914.8447795964,
          1173324.1057631574,
          1173731.0808582816,
          1174135.7760021908,
          1174538.2020449776,
          1174938.3739858114,
          1175336.310950271,
          1175732.037952569,
          1176125.5884272172,
          1176517.0062322207,
          1176906.348759484,
          1177293.6911852886,
          1177679.1362996062,
          1178062.820027345,
          1178444.9220162593,
          1178825.6722046484,
          1179205.3791837106,
          1179584.438219874,
          1179963.3311245004,
          1180342.6448670772,
          1180723.0574509685,
          1181105.2804627097,
          1181490.0321162043,
          1181877.9271175787,
          1182269.375290257,
          1182664.5287848688,
          1183063.2365476792,
          1183465.0883497766,
          1183869.4740654842,
          1184275.6841043944,
          1184683.0039005943,
          1185090.7567386525,
          1185498.3529716488,
          1185905.304313976,
          1186311.2213988178,
          1186715.8022724984,
          1187118.8159740337,
          1187520.0893844732,
          1187919.4914448487,
          1188316.917631203,
          1188712.2890089762,
          1189105.5621707356,
          1189496.7107874462,
          1189885.7149539478,
          1190272.5608295496,
          1190657.2400467056,
          1191039.7498132715,
          1191420.0893309861,
          1191798.2573491193,
          1192174.2464920394,
          1192548.047176361,
          1192919.6678524357,
          1193289.12689937,
          1193656.4323844814,
          1194021.5894216562,
          1194384.598920086,
          1194745.4561908762,
          1195104.1572210274,
          1195460.7006099522,
          1195815.089676766,
          1196167.3238912874,
          1196517.379275698,
          1196865.2214452387,
          1197210.8095711707,
          1197554.0900940052,
          1197894.9931466326,
          1198233.4242174984,
          1198569.258142553,
          1198902.3336783373,
          1199232.4553418988,
          1199559.3941783253,
          1199882.8957993635,
          1200202.705698581,
          1200518.6100791325,
          1200830.4617601503,
          1201138.2091852187,
          1201441.9040056493,
          1201741.6955959308,
          1202037.8043161628,
          1202330.4830929984,
          1202619.9942384756,
          1202906.5827587848,
          1203190.4628856878,
          1203471.8149325112,
          1203750.7835999406,
          1204027.4845496,
          1204302.007423396,
          1204574.4204362575,
          1204844.7781063945,
          1205113.122710728,
          1205379.4877144918,
          1205643.9002894275,
          1205906.382299271,
          1206166.9519706424,
          1206425.6260459546,
          1206682.4201301574,
          1206937.3490401695,
          1207190.4264008082,
          1207441.6622487104,
          1207691.062249125,
          1207938.632346711,
          1208184.3858790242,
          1208428.3361189803,
          1208670.49215296,
          1208910.862287809,
          1209149.4529788077,
          1209386.2699401157,
          1209621.3193981247,
          1209854.6081913288,
          1210086.1435225785,
          1210315.933533441,
          1210543.987517598,
          1210770.3139883417,
          1210994.9215625888,
          1211217.8180947467,
          1211439.0113570904,
          1211658.5086026052,
          1211876.316811763,
          1212092.4432969238,
          1212306.8955802117,
          1212519.681013786,
          1212730.8068929403,
          1212940.2802085371,
          1213148.107840409,
          1213354.2976085064
         ],
         "yaxis": "y"
        },
        {
         "hovertemplate": "x=%{x}<br>y=%{y}<extra></extra>",
         "legendgroup": "",
         "marker": {
          "color": "red",
          "symbol": "circle"
         },
         "mode": "markers",
         "name": "",
         "orientation": "v",
         "showlegend": false,
         "type": "scatter",
         "x": [
          2009,
          2019
         ],
         "xaxis": "x",
         "y": [
          1207100,
          1194300
         ],
         "yaxis": "y"
        }
       ],
       "layout": {
        "template": {
         "data": {
          "bar": [
           {
            "error_x": {
             "color": "#2a3f5f"
            },
            "error_y": {
             "color": "#2a3f5f"
            },
            "marker": {
             "line": {
              "color": "#E5ECF6",
              "width": 0.5
             },
             "pattern": {
              "fillmode": "overlay",
              "size": 10,
              "solidity": 0.2
             }
            },
            "type": "bar"
           }
          ],
          "barpolar": [
           {
            "marker": {
             "line": {
              "color": "#E5ECF6",
              "width": 0.5
             },
             "pattern": {
              "fillmode": "overlay",
              "size": 10,
              "solidity": 0.2
             }
            },
            "type": "barpolar"
           }
          ],
          "carpet": [
           {
            "aaxis": {
             "endlinecolor": "#2a3f5f",
             "gridcolor": "white",
             "linecolor": "white",
             "minorgridcolor": "white",
             "startlinecolor": "#2a3f5f"
            },
            "baxis": {
             "endlinecolor": "#2a3f5f",
             "gridcolor": "white",
             "linecolor": "white",
             "minorgridcolor": "white",
             "startlinecolor": "#2a3f5f"
            },
            "type": "carpet"
           }
          ],
          "choropleth": [
           {
            "colorbar": {
             "outlinewidth": 0,
             "ticks": ""
            },
            "type": "choropleth"
           }
          ],
          "contour": [
           {
            "colorbar": {
             "outlinewidth": 0,
             "ticks": ""
            },
            "colorscale": [
             [
              0,
              "#0d0887"
             ],
             [
              0.1111111111111111,
              "#46039f"
             ],
             [
              0.2222222222222222,
              "#7201a8"
             ],
             [
              0.3333333333333333,
              "#9c179e"
             ],
             [
              0.4444444444444444,
              "#bd3786"
             ],
             [
              0.5555555555555556,
              "#d8576b"
             ],
             [
              0.6666666666666666,
              "#ed7953"
             ],
             [
              0.7777777777777778,
              "#fb9f3a"
             ],
             [
              0.8888888888888888,
              "#fdca26"
             ],
             [
              1,
              "#f0f921"
             ]
            ],
            "type": "contour"
           }
          ],
          "contourcarpet": [
           {
            "colorbar": {
             "outlinewidth": 0,
             "ticks": ""
            },
            "type": "contourcarpet"
           }
          ],
          "heatmap": [
           {
            "colorbar": {
             "outlinewidth": 0,
             "ticks": ""
            },
            "colorscale": [
             [
              0,
              "#0d0887"
             ],
             [
              0.1111111111111111,
              "#46039f"
             ],
             [
              0.2222222222222222,
              "#7201a8"
             ],
             [
              0.3333333333333333,
              "#9c179e"
             ],
             [
              0.4444444444444444,
              "#bd3786"
             ],
             [
              0.5555555555555556,
              "#d8576b"
             ],
             [
              0.6666666666666666,
              "#ed7953"
             ],
             [
              0.7777777777777778,
              "#fb9f3a"
             ],
             [
              0.8888888888888888,
              "#fdca26"
             ],
             [
              1,
              "#f0f921"
             ]
            ],
            "type": "heatmap"
           }
          ],
          "heatmapgl": [
           {
            "colorbar": {
             "outlinewidth": 0,
             "ticks": ""
            },
            "colorscale": [
             [
              0,
              "#0d0887"
             ],
             [
              0.1111111111111111,
              "#46039f"
             ],
             [
              0.2222222222222222,
              "#7201a8"
             ],
             [
              0.3333333333333333,
              "#9c179e"
             ],
             [
              0.4444444444444444,
              "#bd3786"
             ],
             [
              0.5555555555555556,
              "#d8576b"
             ],
             [
              0.6666666666666666,
              "#ed7953"
             ],
             [
              0.7777777777777778,
              "#fb9f3a"
             ],
             [
              0.8888888888888888,
              "#fdca26"
             ],
             [
              1,
              "#f0f921"
             ]
            ],
            "type": "heatmapgl"
           }
          ],
          "histogram": [
           {
            "marker": {
             "pattern": {
              "fillmode": "overlay",
              "size": 10,
              "solidity": 0.2
             }
            },
            "type": "histogram"
           }
          ],
          "histogram2d": [
           {
            "colorbar": {
             "outlinewidth": 0,
             "ticks": ""
            },
            "colorscale": [
             [
              0,
              "#0d0887"
             ],
             [
              0.1111111111111111,
              "#46039f"
             ],
             [
              0.2222222222222222,
              "#7201a8"
             ],
             [
              0.3333333333333333,
              "#9c179e"
             ],
             [
              0.4444444444444444,
              "#bd3786"
             ],
             [
              0.5555555555555556,
              "#d8576b"
             ],
             [
              0.6666666666666666,
              "#ed7953"
             ],
             [
              0.7777777777777778,
              "#fb9f3a"
             ],
             [
              0.8888888888888888,
              "#fdca26"
             ],
             [
              1,
              "#f0f921"
             ]
            ],
            "type": "histogram2d"
           }
          ],
          "histogram2dcontour": [
           {
            "colorbar": {
             "outlinewidth": 0,
             "ticks": ""
            },
            "colorscale": [
             [
              0,
              "#0d0887"
             ],
             [
              0.1111111111111111,
              "#46039f"
             ],
             [
              0.2222222222222222,
              "#7201a8"
             ],
             [
              0.3333333333333333,
              "#9c179e"
             ],
             [
              0.4444444444444444,
              "#bd3786"
             ],
             [
              0.5555555555555556,
              "#d8576b"
             ],
             [
              0.6666666666666666,
              "#ed7953"
             ],
             [
              0.7777777777777778,
              "#fb9f3a"
             ],
             [
              0.8888888888888888,
              "#fdca26"
             ],
             [
              1,
              "#f0f921"
             ]
            ],
            "type": "histogram2dcontour"
           }
          ],
          "mesh3d": [
           {
            "colorbar": {
             "outlinewidth": 0,
             "ticks": ""
            },
            "type": "mesh3d"
           }
          ],
          "parcoords": [
           {
            "line": {
             "colorbar": {
              "outlinewidth": 0,
              "ticks": ""
             }
            },
            "type": "parcoords"
           }
          ],
          "pie": [
           {
            "automargin": true,
            "type": "pie"
           }
          ],
          "scatter": [
           {
            "fillpattern": {
             "fillmode": "overlay",
             "size": 10,
             "solidity": 0.2
            },
            "type": "scatter"
           }
          ],
          "scatter3d": [
           {
            "line": {
             "colorbar": {
              "outlinewidth": 0,
              "ticks": ""
             }
            },
            "marker": {
             "colorbar": {
              "outlinewidth": 0,
              "ticks": ""
             }
            },
            "type": "scatter3d"
           }
          ],
          "scattercarpet": [
           {
            "marker": {
             "colorbar": {
              "outlinewidth": 0,
              "ticks": ""
             }
            },
            "type": "scattercarpet"
           }
          ],
          "scattergeo": [
           {
            "marker": {
             "colorbar": {
              "outlinewidth": 0,
              "ticks": ""
             }
            },
            "type": "scattergeo"
           }
          ],
          "scattergl": [
           {
            "marker": {
             "colorbar": {
              "outlinewidth": 0,
              "ticks": ""
             }
            },
            "type": "scattergl"
           }
          ],
          "scattermapbox": [
           {
            "marker": {
             "colorbar": {
              "outlinewidth": 0,
              "ticks": ""
             }
            },
            "type": "scattermapbox"
           }
          ],
          "scatterpolar": [
           {
            "marker": {
             "colorbar": {
              "outlinewidth": 0,
              "ticks": ""
             }
            },
            "type": "scatterpolar"
           }
          ],
          "scatterpolargl": [
           {
            "marker": {
             "colorbar": {
              "outlinewidth": 0,
              "ticks": ""
             }
            },
            "type": "scatterpolargl"
           }
          ],
          "scatterternary": [
           {
            "marker": {
             "colorbar": {
              "outlinewidth": 0,
              "ticks": ""
             }
            },
            "type": "scatterternary"
           }
          ],
          "surface": [
           {
            "colorbar": {
             "outlinewidth": 0,
             "ticks": ""
            },
            "colorscale": [
             [
              0,
              "#0d0887"
             ],
             [
              0.1111111111111111,
              "#46039f"
             ],
             [
              0.2222222222222222,
              "#7201a8"
             ],
             [
              0.3333333333333333,
              "#9c179e"
             ],
             [
              0.4444444444444444,
              "#bd3786"
             ],
             [
              0.5555555555555556,
              "#d8576b"
             ],
             [
              0.6666666666666666,
              "#ed7953"
             ],
             [
              0.7777777777777778,
              "#fb9f3a"
             ],
             [
              0.8888888888888888,
              "#fdca26"
             ],
             [
              1,
              "#f0f921"
             ]
            ],
            "type": "surface"
           }
          ],
          "table": [
           {
            "cells": {
             "fill": {
              "color": "#EBF0F8"
             },
             "line": {
              "color": "white"
             }
            },
            "header": {
             "fill": {
              "color": "#C8D4E3"
             },
             "line": {
              "color": "white"
             }
            },
            "type": "table"
           }
          ]
         },
         "layout": {
          "annotationdefaults": {
           "arrowcolor": "#2a3f5f",
           "arrowhead": 0,
           "arrowwidth": 1
          },
          "autotypenumbers": "strict",
          "coloraxis": {
           "colorbar": {
            "outlinewidth": 0,
            "ticks": ""
           }
          },
          "colorscale": {
           "diverging": [
            [
             0,
             "#8e0152"
            ],
            [
             0.1,
             "#c51b7d"
            ],
            [
             0.2,
             "#de77ae"
            ],
            [
             0.3,
             "#f1b6da"
            ],
            [
             0.4,
             "#fde0ef"
            ],
            [
             0.5,
             "#f7f7f7"
            ],
            [
             0.6,
             "#e6f5d0"
            ],
            [
             0.7,
             "#b8e186"
            ],
            [
             0.8,
             "#7fbc41"
            ],
            [
             0.9,
             "#4d9221"
            ],
            [
             1,
             "#276419"
            ]
           ],
           "sequential": [
            [
             0,
             "#0d0887"
            ],
            [
             0.1111111111111111,
             "#46039f"
            ],
            [
             0.2222222222222222,
             "#7201a8"
            ],
            [
             0.3333333333333333,
             "#9c179e"
            ],
            [
             0.4444444444444444,
             "#bd3786"
            ],
            [
             0.5555555555555556,
             "#d8576b"
            ],
            [
             0.6666666666666666,
             "#ed7953"
            ],
            [
             0.7777777777777778,
             "#fb9f3a"
            ],
            [
             0.8888888888888888,
             "#fdca26"
            ],
            [
             1,
             "#f0f921"
            ]
           ],
           "sequentialminus": [
            [
             0,
             "#0d0887"
            ],
            [
             0.1111111111111111,
             "#46039f"
            ],
            [
             0.2222222222222222,
             "#7201a8"
            ],
            [
             0.3333333333333333,
             "#9c179e"
            ],
            [
             0.4444444444444444,
             "#bd3786"
            ],
            [
             0.5555555555555556,
             "#d8576b"
            ],
            [
             0.6666666666666666,
             "#ed7953"
            ],
            [
             0.7777777777777778,
             "#fb9f3a"
            ],
            [
             0.8888888888888888,
             "#fdca26"
            ],
            [
             1,
             "#f0f921"
            ]
           ]
          },
          "colorway": [
           "#636efa",
           "#EF553B",
           "#00cc96",
           "#ab63fa",
           "#FFA15A",
           "#19d3f3",
           "#FF6692",
           "#B6E880",
           "#FF97FF",
           "#FECB52"
          ],
          "font": {
           "color": "#2a3f5f"
          },
          "geo": {
           "bgcolor": "white",
           "lakecolor": "white",
           "landcolor": "#E5ECF6",
           "showlakes": true,
           "showland": true,
           "subunitcolor": "white"
          },
          "hoverlabel": {
           "align": "left"
          },
          "hovermode": "closest",
          "mapbox": {
           "style": "light"
          },
          "paper_bgcolor": "white",
          "plot_bgcolor": "#E5ECF6",
          "polar": {
           "angularaxis": {
            "gridcolor": "white",
            "linecolor": "white",
            "ticks": ""
           },
           "bgcolor": "#E5ECF6",
           "radialaxis": {
            "gridcolor": "white",
            "linecolor": "white",
            "ticks": ""
           }
          },
          "scene": {
           "xaxis": {
            "backgroundcolor": "#E5ECF6",
            "gridcolor": "white",
            "gridwidth": 2,
            "linecolor": "white",
            "showbackground": true,
            "ticks": "",
            "zerolinecolor": "white"
           },
           "yaxis": {
            "backgroundcolor": "#E5ECF6",
            "gridcolor": "white",
            "gridwidth": 2,
            "linecolor": "white",
            "showbackground": true,
            "ticks": "",
            "zerolinecolor": "white"
           },
           "zaxis": {
            "backgroundcolor": "#E5ECF6",
            "gridcolor": "white",
            "gridwidth": 2,
            "linecolor": "white",
            "showbackground": true,
            "ticks": "",
            "zerolinecolor": "white"
           }
          },
          "shapedefaults": {
           "line": {
            "color": "#2a3f5f"
           }
          },
          "ternary": {
           "aaxis": {
            "gridcolor": "white",
            "linecolor": "white",
            "ticks": ""
           },
           "baxis": {
            "gridcolor": "white",
            "linecolor": "white",
            "ticks": ""
           },
           "bgcolor": "#E5ECF6",
           "caxis": {
            "gridcolor": "white",
            "linecolor": "white",
            "ticks": ""
           }
          },
          "title": {
           "x": 0.05
          },
          "xaxis": {
           "automargin": true,
           "gridcolor": "white",
           "linecolor": "white",
           "ticks": "",
           "title": {
            "standoff": 15
           },
           "zerolinecolor": "white",
           "zerolinewidth": 2
          },
          "yaxis": {
           "automargin": true,
           "gridcolor": "white",
           "linecolor": "white",
           "ticks": "",
           "title": {
            "standoff": 15
           },
           "zerolinecolor": "white",
           "zerolinewidth": 2
          }
         }
        },
        "title": {
         "text": "Modelled vs Data",
         "x": 0.5
        },
        "xaxis": {
         "title": {
          "text": "Year"
         }
        },
        "yaxis": {
         "title": {
          "text": "Population"
         }
        }
       }
      }
     },
     "metadata": {},
     "output_type": "display_data"
    }
   ],
   "source": [
    "fig2_1 = px.line(\n",
    "    derived_df_0,\n",
    "    x=derived_df_0.index,\n",
    "    y=\"total_population\",\n",
    ")\n",
    "fig2_2 = px.scatter(x= plots['total_population']['times'], y = plots['total_population']['values'])\n",
    "fig2_2.update_traces(marker=dict(color=\"red\"))\n",
    "fig2_3 = go.Figure(\n",
    "    data=fig2_1.data + fig2_2.data,\n",
    ")\n",
    "fig2_3.update_layout(\n",
    "    title=\"Modelled vs Data\", title_x=0.5, xaxis_title=\"Year\", yaxis_title=\"Population\"\n",
    ")\n",
    "fig2_3.show()"
   ]
  },
  {
   "cell_type": "code",
   "execution_count": 26,
   "metadata": {},
   "outputs": [
    {
     "data": {
      "application/vnd.plotly.v1+json": {
       "config": {
        "plotlyServerURL": "https://plot.ly"
       },
       "data": [
        {
         "hovertemplate": "index=%{x}<br>percentage_latent=%{y}<extra></extra>",
         "legendgroup": "",
         "line": {
          "color": "#636efa",
          "dash": "solid"
         },
         "marker": {
          "symbol": "circle"
         },
         "mode": "lines",
         "name": "",
         "showlegend": false,
         "type": "scattergl",
         "x": [
          1900,
          1900.1,
          1900.2,
          1900.3,
          1900.4,
          1900.5,
          1900.6,
          1900.7,
          1900.8,
          1900.9,
          1901,
          1901.1,
          1901.2,
          1901.3,
          1901.4,
          1901.5,
          1901.6,
          1901.7,
          1901.8,
          1901.9,
          1902,
          1902.1,
          1902.2,
          1902.3,
          1902.4,
          1902.5,
          1902.6,
          1902.7,
          1902.8,
          1902.9,
          1903,
          1903.1,
          1903.2,
          1903.3,
          1903.4,
          1903.5,
          1903.6,
          1903.7,
          1903.8,
          1903.9,
          1904,
          1904.1,
          1904.2,
          1904.3,
          1904.4,
          1904.5,
          1904.6,
          1904.7,
          1904.8,
          1904.9,
          1905,
          1905.1,
          1905.2,
          1905.3,
          1905.4,
          1905.5,
          1905.6,
          1905.7,
          1905.8,
          1905.9,
          1906,
          1906.1,
          1906.2,
          1906.3,
          1906.4,
          1906.5,
          1906.6,
          1906.7,
          1906.8,
          1906.9,
          1907,
          1907.1,
          1907.2,
          1907.3,
          1907.4,
          1907.5,
          1907.6,
          1907.7,
          1907.8,
          1907.9,
          1908,
          1908.1,
          1908.2,
          1908.3,
          1908.4,
          1908.5,
          1908.6,
          1908.7,
          1908.8,
          1908.9,
          1909,
          1909.1,
          1909.2,
          1909.3,
          1909.4,
          1909.5,
          1909.6,
          1909.7,
          1909.8,
          1909.9,
          1910,
          1910.1,
          1910.2,
          1910.3,
          1910.4,
          1910.5,
          1910.6,
          1910.7,
          1910.8,
          1910.9,
          1911,
          1911.1,
          1911.2,
          1911.3,
          1911.4,
          1911.5,
          1911.6,
          1911.7,
          1911.8,
          1911.9,
          1912,
          1912.1,
          1912.2,
          1912.3,
          1912.4,
          1912.5,
          1912.6,
          1912.7,
          1912.8,
          1912.9,
          1913,
          1913.1,
          1913.2,
          1913.3,
          1913.4,
          1913.5,
          1913.6,
          1913.7,
          1913.8,
          1913.9,
          1914,
          1914.1,
          1914.2,
          1914.3,
          1914.4,
          1914.5,
          1914.6,
          1914.7,
          1914.8,
          1914.9,
          1915,
          1915.1,
          1915.2,
          1915.3,
          1915.4,
          1915.5,
          1915.6,
          1915.7,
          1915.8,
          1915.9,
          1916,
          1916.1,
          1916.2,
          1916.3,
          1916.4,
          1916.5,
          1916.6,
          1916.7,
          1916.8,
          1916.9,
          1917,
          1917.1,
          1917.2,
          1917.3,
          1917.4,
          1917.5,
          1917.6,
          1917.7,
          1917.8,
          1917.9,
          1918,
          1918.1,
          1918.2,
          1918.3,
          1918.4,
          1918.5,
          1918.6,
          1918.7,
          1918.8,
          1918.9,
          1919,
          1919.1,
          1919.2,
          1919.3,
          1919.4,
          1919.5,
          1919.6,
          1919.7,
          1919.8,
          1919.9,
          1920,
          1920.1,
          1920.2,
          1920.3,
          1920.4,
          1920.5,
          1920.6,
          1920.7,
          1920.8,
          1920.9,
          1921,
          1921.1,
          1921.2,
          1921.3,
          1921.4,
          1921.5,
          1921.6,
          1921.7,
          1921.8,
          1921.9,
          1922,
          1922.1,
          1922.2,
          1922.3,
          1922.4,
          1922.5,
          1922.6,
          1922.7,
          1922.8,
          1922.9,
          1923,
          1923.1,
          1923.2,
          1923.3,
          1923.4,
          1923.5,
          1923.6,
          1923.7,
          1923.8,
          1923.9,
          1924,
          1924.1,
          1924.2,
          1924.3,
          1924.4,
          1924.5,
          1924.6,
          1924.7,
          1924.8,
          1924.9,
          1925,
          1925.1,
          1925.2,
          1925.3,
          1925.4,
          1925.5,
          1925.6,
          1925.7,
          1925.8,
          1925.9,
          1926,
          1926.1,
          1926.2,
          1926.3,
          1926.4,
          1926.5,
          1926.6,
          1926.7,
          1926.8,
          1926.9,
          1927,
          1927.1,
          1927.2,
          1927.3,
          1927.4,
          1927.5,
          1927.6,
          1927.7,
          1927.8,
          1927.9,
          1928,
          1928.1,
          1928.2,
          1928.3,
          1928.4,
          1928.5,
          1928.6,
          1928.7,
          1928.8,
          1928.9,
          1929,
          1929.1,
          1929.2,
          1929.3,
          1929.4,
          1929.5,
          1929.6,
          1929.7,
          1929.8,
          1929.9,
          1930,
          1930.1,
          1930.2,
          1930.3,
          1930.4,
          1930.5,
          1930.6,
          1930.7,
          1930.8,
          1930.9,
          1931,
          1931.1,
          1931.2,
          1931.3,
          1931.4,
          1931.5,
          1931.6,
          1931.7,
          1931.8,
          1931.9,
          1932,
          1932.1,
          1932.2,
          1932.3,
          1932.4,
          1932.5,
          1932.6,
          1932.7,
          1932.8,
          1932.9,
          1933,
          1933.1,
          1933.2,
          1933.3,
          1933.4,
          1933.5,
          1933.6,
          1933.7,
          1933.8,
          1933.9,
          1934,
          1934.1,
          1934.2,
          1934.3,
          1934.4,
          1934.5,
          1934.6,
          1934.7,
          1934.8,
          1934.9,
          1935,
          1935.1,
          1935.2,
          1935.3,
          1935.4,
          1935.5,
          1935.6,
          1935.7,
          1935.8,
          1935.9,
          1936,
          1936.1,
          1936.2,
          1936.3,
          1936.4,
          1936.5,
          1936.6,
          1936.7,
          1936.8,
          1936.9,
          1937,
          1937.1,
          1937.2,
          1937.3,
          1937.4,
          1937.5,
          1937.6,
          1937.7,
          1937.8,
          1937.9,
          1938,
          1938.1,
          1938.2,
          1938.3,
          1938.4,
          1938.5,
          1938.6,
          1938.7,
          1938.8,
          1938.9,
          1939,
          1939.1,
          1939.2,
          1939.3,
          1939.4,
          1939.5,
          1939.6,
          1939.7,
          1939.8,
          1939.9,
          1940,
          1940.1,
          1940.2,
          1940.3,
          1940.4,
          1940.5,
          1940.6,
          1940.7,
          1940.8,
          1940.9,
          1941,
          1941.1,
          1941.2,
          1941.3,
          1941.4,
          1941.5,
          1941.6,
          1941.7,
          1941.8,
          1941.9,
          1942,
          1942.1,
          1942.2,
          1942.3,
          1942.4,
          1942.5,
          1942.6,
          1942.7,
          1942.8,
          1942.9,
          1943,
          1943.1,
          1943.2,
          1943.3,
          1943.4,
          1943.5,
          1943.6,
          1943.7,
          1943.8,
          1943.9,
          1944,
          1944.1,
          1944.2,
          1944.3,
          1944.4,
          1944.5,
          1944.6,
          1944.7,
          1944.8,
          1944.9,
          1945,
          1945.1,
          1945.2,
          1945.3,
          1945.4,
          1945.5,
          1945.6,
          1945.7,
          1945.8,
          1945.9,
          1946,
          1946.1,
          1946.2,
          1946.3,
          1946.4,
          1946.5,
          1946.6,
          1946.7,
          1946.8,
          1946.9,
          1947,
          1947.1,
          1947.2,
          1947.3,
          1947.4,
          1947.5,
          1947.6,
          1947.7,
          1947.8,
          1947.9,
          1948,
          1948.1,
          1948.2,
          1948.3,
          1948.4,
          1948.5,
          1948.6,
          1948.7,
          1948.8,
          1948.9,
          1949,
          1949.1,
          1949.2,
          1949.3,
          1949.4,
          1949.5,
          1949.6,
          1949.7,
          1949.8,
          1949.9,
          1950,
          1950.1,
          1950.2,
          1950.3,
          1950.4,
          1950.5,
          1950.6,
          1950.7,
          1950.8,
          1950.9,
          1951,
          1951.1,
          1951.2,
          1951.3,
          1951.4,
          1951.5,
          1951.6,
          1951.7,
          1951.8,
          1951.9,
          1952,
          1952.1,
          1952.2,
          1952.3,
          1952.4,
          1952.5,
          1952.6,
          1952.7,
          1952.8,
          1952.9,
          1953,
          1953.1,
          1953.2,
          1953.3,
          1953.4,
          1953.5,
          1953.6,
          1953.7,
          1953.8,
          1953.9,
          1954,
          1954.1,
          1954.2,
          1954.3,
          1954.4,
          1954.5,
          1954.6,
          1954.7,
          1954.8,
          1954.9,
          1955,
          1955.1,
          1955.2,
          1955.3,
          1955.4,
          1955.5,
          1955.6,
          1955.7,
          1955.8,
          1955.9,
          1956,
          1956.1,
          1956.2,
          1956.3,
          1956.4,
          1956.5,
          1956.6,
          1956.7,
          1956.8,
          1956.9,
          1957,
          1957.1,
          1957.2,
          1957.3,
          1957.4,
          1957.5,
          1957.6,
          1957.7,
          1957.8,
          1957.9,
          1958,
          1958.1,
          1958.2,
          1958.3,
          1958.4,
          1958.5,
          1958.6,
          1958.7,
          1958.8,
          1958.9,
          1959,
          1959.1,
          1959.2,
          1959.3,
          1959.4,
          1959.5,
          1959.6,
          1959.7,
          1959.8,
          1959.9,
          1960,
          1960.1,
          1960.2,
          1960.3,
          1960.4,
          1960.5,
          1960.6,
          1960.7,
          1960.8,
          1960.9,
          1961,
          1961.1,
          1961.2,
          1961.3,
          1961.4,
          1961.5,
          1961.6,
          1961.7,
          1961.8,
          1961.9,
          1962,
          1962.1,
          1962.2,
          1962.3,
          1962.4,
          1962.5,
          1962.6,
          1962.7,
          1962.8,
          1962.9,
          1963,
          1963.1,
          1963.2,
          1963.3,
          1963.4,
          1963.5,
          1963.6,
          1963.7,
          1963.8,
          1963.9,
          1964,
          1964.1,
          1964.2,
          1964.3,
          1964.4,
          1964.5,
          1964.6,
          1964.7,
          1964.8,
          1964.9,
          1965,
          1965.1,
          1965.2,
          1965.3,
          1965.4,
          1965.5,
          1965.6,
          1965.7,
          1965.8,
          1965.9,
          1966,
          1966.1,
          1966.2,
          1966.3,
          1966.4,
          1966.5,
          1966.6,
          1966.7,
          1966.8,
          1966.9,
          1967,
          1967.1,
          1967.2,
          1967.3,
          1967.4,
          1967.5,
          1967.6,
          1967.7,
          1967.8,
          1967.9,
          1968,
          1968.1,
          1968.2,
          1968.3,
          1968.4,
          1968.5,
          1968.6,
          1968.7,
          1968.8,
          1968.9,
          1969,
          1969.1,
          1969.2,
          1969.3,
          1969.4,
          1969.5,
          1969.6,
          1969.7,
          1969.8,
          1969.9,
          1970,
          1970.1,
          1970.2,
          1970.3,
          1970.4,
          1970.5,
          1970.6,
          1970.7,
          1970.8,
          1970.9,
          1971,
          1971.1,
          1971.2,
          1971.3,
          1971.4,
          1971.5,
          1971.6,
          1971.7,
          1971.8,
          1971.9,
          1972,
          1972.1,
          1972.2,
          1972.3,
          1972.4,
          1972.5,
          1972.6,
          1972.7,
          1972.8,
          1972.9,
          1973,
          1973.1,
          1973.2,
          1973.3,
          1973.4,
          1973.5,
          1973.6,
          1973.7,
          1973.8,
          1973.9,
          1974,
          1974.1,
          1974.2,
          1974.3,
          1974.4,
          1974.5,
          1974.6,
          1974.7,
          1974.8,
          1974.9,
          1975,
          1975.1,
          1975.2,
          1975.3,
          1975.4,
          1975.5,
          1975.6,
          1975.7,
          1975.8,
          1975.9,
          1976,
          1976.1,
          1976.2,
          1976.3,
          1976.4,
          1976.5,
          1976.6,
          1976.7,
          1976.8,
          1976.9,
          1977,
          1977.1,
          1977.2,
          1977.3,
          1977.4,
          1977.5,
          1977.6,
          1977.7,
          1977.8,
          1977.9,
          1978,
          1978.1,
          1978.2,
          1978.3,
          1978.4,
          1978.5,
          1978.6,
          1978.7,
          1978.8,
          1978.9,
          1979,
          1979.1,
          1979.2,
          1979.3,
          1979.4,
          1979.5,
          1979.6,
          1979.7,
          1979.8,
          1979.9,
          1980,
          1980.1,
          1980.2,
          1980.3,
          1980.4,
          1980.5,
          1980.6,
          1980.7,
          1980.8,
          1980.9,
          1981,
          1981.1,
          1981.2,
          1981.3,
          1981.4,
          1981.5,
          1981.6,
          1981.7,
          1981.8,
          1981.9,
          1982,
          1982.1,
          1982.2,
          1982.3,
          1982.4,
          1982.5,
          1982.6,
          1982.7,
          1982.8,
          1982.9,
          1983,
          1983.1,
          1983.2,
          1983.3,
          1983.4,
          1983.5,
          1983.6,
          1983.7,
          1983.8,
          1983.9,
          1984,
          1984.1,
          1984.2,
          1984.3,
          1984.4,
          1984.5,
          1984.6,
          1984.7,
          1984.8,
          1984.9,
          1985,
          1985.1,
          1985.2,
          1985.3,
          1985.4,
          1985.5,
          1985.6,
          1985.7,
          1985.8,
          1985.9,
          1986,
          1986.1,
          1986.2,
          1986.3,
          1986.4,
          1986.5,
          1986.6,
          1986.7,
          1986.8,
          1986.9,
          1987,
          1987.1,
          1987.2,
          1987.3,
          1987.4,
          1987.5,
          1987.6,
          1987.7,
          1987.8,
          1987.9,
          1988,
          1988.1,
          1988.2,
          1988.3,
          1988.4,
          1988.5,
          1988.6,
          1988.7,
          1988.8,
          1988.9,
          1989,
          1989.1,
          1989.2,
          1989.3,
          1989.4,
          1989.5,
          1989.6,
          1989.7,
          1989.8,
          1989.9,
          1990,
          1990.1,
          1990.2,
          1990.3,
          1990.4,
          1990.5,
          1990.6,
          1990.7,
          1990.8,
          1990.9,
          1991,
          1991.1,
          1991.2,
          1991.3,
          1991.4,
          1991.5,
          1991.6,
          1991.7,
          1991.8,
          1991.9,
          1992,
          1992.1,
          1992.2,
          1992.3,
          1992.4,
          1992.5,
          1992.6,
          1992.7,
          1992.8,
          1992.9,
          1993,
          1993.1,
          1993.2,
          1993.3,
          1993.4,
          1993.5,
          1993.6,
          1993.7,
          1993.8,
          1993.9,
          1994,
          1994.1,
          1994.2,
          1994.3,
          1994.4,
          1994.5,
          1994.6,
          1994.7,
          1994.8,
          1994.9,
          1995,
          1995.1,
          1995.2,
          1995.3,
          1995.4,
          1995.5,
          1995.6,
          1995.7,
          1995.8,
          1995.9,
          1996,
          1996.1,
          1996.2,
          1996.3,
          1996.4,
          1996.5,
          1996.6,
          1996.7,
          1996.8,
          1996.9,
          1997,
          1997.1,
          1997.2,
          1997.3,
          1997.4,
          1997.5,
          1997.6,
          1997.7,
          1997.8,
          1997.9,
          1998,
          1998.1,
          1998.2,
          1998.3,
          1998.4,
          1998.5,
          1998.6,
          1998.7,
          1998.8,
          1998.9,
          1999,
          1999.1,
          1999.2,
          1999.3,
          1999.4,
          1999.5,
          1999.6,
          1999.7,
          1999.8,
          1999.9,
          2000,
          2000.1,
          2000.2,
          2000.3,
          2000.4,
          2000.5,
          2000.6,
          2000.7,
          2000.8,
          2000.9,
          2001,
          2001.1,
          2001.2,
          2001.3,
          2001.4,
          2001.5,
          2001.6,
          2001.7,
          2001.8,
          2001.9,
          2002,
          2002.1,
          2002.2,
          2002.3,
          2002.4,
          2002.5,
          2002.6,
          2002.7,
          2002.8,
          2002.9,
          2003,
          2003.1,
          2003.2,
          2003.3,
          2003.4,
          2003.5,
          2003.6,
          2003.7,
          2003.8,
          2003.9,
          2004,
          2004.1,
          2004.2,
          2004.3,
          2004.4,
          2004.5,
          2004.6,
          2004.7,
          2004.8,
          2004.9,
          2005,
          2005.1,
          2005.2,
          2005.3,
          2005.4,
          2005.5,
          2005.6,
          2005.7,
          2005.8,
          2005.9,
          2006,
          2006.1,
          2006.2,
          2006.3,
          2006.4,
          2006.5,
          2006.6,
          2006.7,
          2006.8,
          2006.9,
          2007,
          2007.1,
          2007.2,
          2007.3,
          2007.4,
          2007.5,
          2007.6,
          2007.7,
          2007.8,
          2007.9,
          2008,
          2008.1,
          2008.2,
          2008.3,
          2008.4,
          2008.5,
          2008.6,
          2008.7,
          2008.8,
          2008.9,
          2009,
          2009.1,
          2009.2,
          2009.3,
          2009.4,
          2009.5,
          2009.6,
          2009.7,
          2009.8,
          2009.9,
          2010,
          2010.1,
          2010.2,
          2010.3,
          2010.4,
          2010.5,
          2010.6,
          2010.7,
          2010.8,
          2010.9,
          2011,
          2011.1,
          2011.2,
          2011.3,
          2011.4,
          2011.5,
          2011.6,
          2011.7,
          2011.8,
          2011.9,
          2012,
          2012.1,
          2012.2,
          2012.3,
          2012.4,
          2012.5,
          2012.6,
          2012.7,
          2012.8,
          2012.9,
          2013,
          2013.1,
          2013.2,
          2013.3,
          2013.4,
          2013.5,
          2013.6,
          2013.7,
          2013.8,
          2013.9,
          2014,
          2014.1,
          2014.2,
          2014.3,
          2014.4,
          2014.5,
          2014.6,
          2014.7,
          2014.8,
          2014.9,
          2015,
          2015.1,
          2015.2,
          2015.3,
          2015.4,
          2015.5,
          2015.6,
          2015.7,
          2015.8,
          2015.9,
          2016,
          2016.1,
          2016.2,
          2016.3,
          2016.4,
          2016.5,
          2016.6,
          2016.7,
          2016.8,
          2016.9,
          2017,
          2017.1,
          2017.2,
          2017.3,
          2017.4,
          2017.5,
          2017.6,
          2017.7,
          2017.8,
          2017.9,
          2018,
          2018.1,
          2018.2,
          2018.3,
          2018.4,
          2018.5,
          2018.6,
          2018.7,
          2018.8,
          2018.9,
          2019,
          2019.1,
          2019.2,
          2019.3,
          2019.4,
          2019.5,
          2019.6,
          2019.7,
          2019.8,
          2019.9,
          2020
         ],
         "xaxis": "x",
         "y": [
          0,
          0.0002893788235873812,
          0.0005582155288313339,
          0.000815428401332409,
          0.001066366158635189,
          0.001314867156884112,
          0.0015633509663246056,
          0.0018137640991934608,
          0.00206746609487303,
          0.002325372111873475,
          0.002588408693339136,
          0.0028572401287262792,
          0.003132287013491598,
          0.003414019251808559,
          0.0037029614133030054,
          0.003999509756081576,
          0.0043038872798457795,
          0.004616374035688502,
          0.004937321336843789,
          0.005267151636998501,
          0.005606262471217016,
          0.005954824126267599,
          0.006313080682026065,
          0.006681377161735732,
          0.007060158428275309,
          0.007449866831293565,
          0.007850676345899055,
          0.008262825961379386,
          0.008686710631388954,
          0.009122880875001675,
          0.009571874935005152,
          0.010033839082837392,
          0.010509095367697665,
          0.010998146840661915,
          0.01150161952502455,
          0.012019851605141142,
          0.012553199513356766,
          0.01310215755606586,
          0.013667340346446694,
          0.014249295907534498,
          0.01484840636635001,
          0.01546516316017419,
          0.016100177548244828,
          0.01675417511452269,
          0.017427753274861353,
          0.0181213204369951,
          0.018835437995831976,
          0.019570843288118787,
          0.020328440711997447,
          0.0211088864997093,
          0.02191264683532979,
          0.022740423271609952,
          0.02359312242141997,
          0.024471687092991357,
          0.025376713303954614,
          0.026308945597185548,
          0.027269291673833303,
          0.0282588042179341,
          0.029278356707743074,
          0.030328714117103254,
          0.031410807080280365,
          0.03252572883935768,
          0.033674701650336925,
          0.034858676425980305,
          0.03607852133360181,
          0.03733532615138051,
          0.038630404021993026,
          0.03996522369810541,
          0.04134080796604286,
          0.042758198324165164,
          0.044218718289701885,
          0.04572394995220092,
          0.04727537625450014,
          0.048874154942358125,
          0.05052168442184978,
          0.05221958555687945,
          0.05396965538895645,
          0.05577338563905274,
          0.05763223101751536,
          0.0595478860071857,
          0.06152227636985204,
          0.06355746861577591,
          0.06565511331055214,
          0.06781689169366162,
          0.07004479365267736,
          0.07234111384018789,
          0.07470831696789136,
          0.07714823744759398,
          0.07966274826611391,
          0.08225416694455,
          0.08492525057372266,
          0.08767889535068163,
          0.09051707542571055,
          0.09344214067233723,
          0.09645691359449848,
          0.09956459029157273,
          0.10276784205582133,
          0.10606933123191181,
          0.10947209292903873,
          0.11297948222557747,
          0.11659484692450894,
          0.12032119082133622,
          0.12416179213438444,
          0.1281202473213877,
          0.1322004680114689,
          0.13640633319125528,
          0.14074121060302425,
          0.14520880189189414,
          0.1498132909867964,
          0.15455934061862517,
          0.1594516432243369,
          0.16449394507652773,
          0.16969054290659225,
          0.17504636575140173,
          0.18056687603346594,
          0.1862568467952377,
          0.1921209854751623,
          0.19816458418541266,
          0.20439346035320724,
          0.21081361626840153,
          0.21743035169398317,
          0.22424932801547265,
          0.2312767777169119,
          0.23851949794781904,
          0.2459844530176447,
          0.2536776308064472,
          0.26160542099917583,
          0.26977503798217184,
          0.2781945142465304,
          0.28687213968166103,
          0.2958146228459697,
          0.3050293958402841,
          0.31452492915227853,
          0.3243106443655153,
          0.3343951568704574,
          0.3447865774907409,
          0.3554940054085762,
          0.3665274314090141,
          0.37789741051544595,
          0.38961332902098084,
          0.40168488059385266,
          0.41412274621833584,
          0.4269385727580638,
          0.4401445634896614,
          0.453751337917122,
          0.4677698132175403,
          0.4822122780284653,
          0.4970923810847358,
          0.512424562367044,
          0.5282207454518625,
          0.5444935088732593,
          0.5612571862390867,
          0.5785277642415826,
          0.5963206525119804,
          0.614649582130394,
          0.633529894116758,
          0.6529784653811871,
          0.6730134731249476,
          0.6936514442978337,
          0.7149085741067561,
          0.7368027752358152,
          0.7593536468787145,
          0.7825821385663062,
          0.8065068622095137,
          0.8311459415637826,
          0.8565198065763125,
          0.8826512077701311,
          0.9095647289344447,
          0.9372811867762362,
          0.9658212255890202,
          0.9952084942220986,
          1.0254694325895213,
          1.056630851659979,
          1.0887154932653176,
          1.1217484268726179,
          1.1557573725670711,
          1.1907725631514947,
          1.2268224018925724,
          1.2639331035969148,
          1.302133697581049,
          1.341456125285236,
          1.3819350073498955,
          1.4236019429512377,
          1.4664858856141374,
          1.5106195041907666,
          1.5560393970239816,
          1.6027858515356623,
          1.6508948000537043,
          1.7003969955588059,
          1.7513284678492478,
          1.803731049357804,
          1.857651908995389,
          1.9131297740192712,
          1.970199587768918,
          2.028903514316065,
          2.0892896430835526,
          2.151405543108974,
          2.2152912486284304,
          2.2809917344670962,
          2.3485562852697703,
          2.418037497277432,
          2.4894824655077565,
          2.562937706895194,
          2.638454235948099,
          2.716087498860094,
          2.795896461976658,
          2.8779321756833594,
          2.9622426389148626,
          3.0488827803174297,
          3.1379146430975164,
          3.2294066854898187,
          3.3234148172901974,
          3.419989164416674,
          3.51919006264907,
          3.6210867249315477,
          3.7257486469339627,
          3.833230502602563,
          3.943593598158339,
          4.056906348174384,
          4.173243467049561,
          4.292670756384325,
          4.415247481721126,
          4.5410404210596464,
          4.6701240895309,
          4.802579730861255,
          4.938474924900275,
          5.077866505668542,
          5.22082243764333,
          5.367422639475381,
          5.517757657586309,
          5.671894681698551,
          5.829889281850406,
          5.991813005045762,
          6.157751197859047,
          6.327788701028225,
          6.501982280626232,
          6.680398146559119,
          6.8631136181919015,
          7.050215731097674,
          7.2417737027284055,
          7.437842616734092,
          7.638489207389102,
          7.843792286115151,
          8.05384012930173,
          8.268691821470624,
          8.488389762948858,
          8.712993923805431,
          8.942582549338017,
          9.17724695505909,
          9.41702913218999,
          9.661961364104796,
          9.912099316614581,
          10.167519215823841,
          10.428284740310996,
          10.694415244281,
          10.96594636586363,
          11.242930687824243,
          11.525433299690013,
          11.813478132870733,
          12.107071017746854,
          12.406236926187967,
          12.711019854223315,
          13.021471895524755,
          13.3375814844753,
          13.659326822945387,
          13.986714315959226,
          14.319778318285886,
          14.658555135459721,
          15.002988936215097,
          15.353039097996744,
          15.708697501649613,
          16.069984123152587,
          16.436864237030193,
          16.809260434773517,
          17.18712473913005,
          17.570436175969615,
          17.959178594858127,
          18.353252603969754,
          18.75256093456781,
          19.157037763564574,
          19.56664811944943,
          19.981335671999425,
          20.40094633373702,
          20.825351543398273,
          21.254466004290986,
          21.688246543487004,
          22.126593502912165,
          22.56929663640007,
          23.016195590631277,
          23.46719127282237,
          23.922237834234284,
          24.38115987818069,
          24.84372740165855,
          25.309781967402234,
          25.779222329012654,
          26.251909959294103,
          26.727607171151977,
          27.20612272350667,
          27.687307615772315,
          28.17103239433052,
          28.6570656896088,
          29.14517235128582,
          29.635164538733047,
          30.12690091159117,
          30.620233909855486,
          31.114880161070577,
          31.610584244366038,
          32.10716043103987,
          32.60449223351794,
          33.10242063757045,
          33.60062568727426,
          34.098870017239186,
          34.59699216763884,
          35.09487529885219,
          35.59225458617561,
          36.08887313936522,
          36.58454141102067,
          37.07913142975662,
          37.57246786219128,
          38.06427437843638,
          38.554333782622415,
          39.04249586391675,
          39.52866836249622,
          40.01264693457171,
          40.49415602329638,
          40.973004682933386,
          41.449088699598946,
          41.92236830351884,
          42.392618998423956,
          42.85956203005674,
          43.32303639066777,
          43.782997774505695,
          44.23945071468558,
          44.69212214339226,
          45.14081096498125,
          45.58543093251478,
          46.025977453661916,
          46.46229508632985,
          46.89421621313868,
          47.32165036268346,
          47.744571175192746,
          48.16291174152439,
          48.57651782001805,
          48.98529066868665,
          49.389192981122,
          49.78824440940381,
          50.18238174507246,
          50.57144438308991,
          50.95535079179509,
          51.334108544422406,
          51.70780960256465,
          52.07640222880322,
          52.43973050726651,
          52.79775875160313,
          53.15054889815792,
          53.498158222288666,
          53.84047631902507,
          54.177465803231094,
          54.50915736196261,
          54.835635539703155,
          55.15687409604259,
          55.472811744991276,
          55.78345391584656,
          56.08887040338832,
          56.3891710994669,
          56.6843133601482,
          56.97422864101836,
          57.258938066835626,
          57.53855208467329,
          57.81322855862569,
          58.08289278045092,
          58.34749743062512,
          58.60710175958145,
          58.8618553003755,
          59.11179942692602,
          59.356888368955005,
          59.59715718197765,
          59.832706616282884,
          60.06365639830888,
          60.28998329674354,
          60.51168823970355,
          60.728834703425484,
          60.94154731024174,
          61.14994165158926,
          61.35396786656528,
          61.553617024555145,
          61.74896499250797,
          61.940171943612576,
          62.12736653881025,
          62.31046221899974,
          62.48947139333483,
          62.66449904400355,
          62.83571222518957,
          63.00310417838945,
          63.16666639150968,
          63.32646347074776,
          63.482623645509236,
          63.63523828340565,
          63.78427883851323,
          63.92976970673204,
          64.07179522276618,
          64.21049728457872,
          64.3459425242988,
          64.47807666570324,
          64.60691581261682,
          64.73255817212566,
          64.85517997585885,
          64.97482262155395,
          65.09141501153181,
          65.20499328315874,
          65.31568230133573,
          65.42361569059453,
          65.5287451267991,
          65.63108081374467,
          65.73069750280794,
          65.82772576160112,
          65.92219947729488,
          66.01408928168543,
          66.10342729673602,
          66.19030451922092,
          66.2748555283204,
          66.35707977037076,
          66.43692745159514,
          66.51442852491937,
          66.58969276622962,
          66.66288103079658,
          66.73394838286474,
          66.80284770068245,
          66.86962983264019,
          66.93443051685234,
          66.99731108479835,
          67.05821494002836,
          67.11716059536164,
          67.17422839395057,
          67.2295325201159,
          67.28305116089025,
          67.33476080673762,
          67.38469878233391,
          67.43296048759063,
          67.47965136143081,
          67.52471521430253,
          67.56811586321608,
          67.6098956931579,
          67.65017473013248,
          67.68906470905058,
          67.72646821183373,
          67.76236455280286,
          67.79681882928381,
          67.82996323153998,
          67.86178398217189,
          67.8922360364798,
          67.92134577565969,
          67.94920021691493,
          67.97587622785093,
          68.00131807363191,
          68.02551261739289,
          68.04850425005836,
          68.07039390643415,
          68.0912324167742,
          68.11094069736664,
          68.12949934870335,
          68.14696462362937,
          68.16346637739223,
          68.17903110702929,
          68.19356293651099,
          68.20706170207593,
          68.21960789273292,
          68.23130706988894,
          68.24209340537034,
          68.2519405486739,
          68.26088493835438,
          68.2690195217896,
          68.27636556461124,
          68.28286331541939,
          68.28851016049552,
          68.29335976012018,
          68.29751235355893,
          68.30095532617742,
          68.30361448794507,
          68.30548808688731,
          68.30664746755019,
          68.3072158234446,
          68.30713974740554,
          68.30634947836354,
          68.30486404480405,
          68.30277989060139,
          68.30014593326135,
          68.29688445866576,
          68.29298539634705,
          68.28849684317989,
          68.28350714338757,
          68.27798594011958,
          68.2718843161817,
          68.26521168021483,
          68.25803247172335,
          68.2504303703151,
          68.24234218345663,
          68.23371244321065,
          68.22455751146646,
          68.21496428861518,
          68.20502145677712,
          68.19462900577737,
          68.18374761855665,
          68.17241546246031,
          68.16073564697994,
          68.14869203593447,
          68.13622147887676,
          68.1233278562252,
          68.1100717482369,
          68.09651941348415,
          68.08260735079676,
          68.06830305418885,
          68.05362874777992,
          68.03866034944355,
          68.02344198798335,
          68.00788911619286,
          67.99196746078297,
          67.97571124732448,
          67.95922203081675,
          67.94252169047405,
          67.92551110374212,
          67.90817474086307,
          67.89056928004558,
          67.87278474428723,
          67.85475729826572,
          67.83644477398953,
          67.8178638870918,
          67.79908484408074,
          67.78012910502775,
          67.76092590105394,
          67.74145449524325,
          67.72174579951931,
          67.70187656071525,
          67.681830443598,
          67.66151777060416,
          67.6409084445257,
          67.62003298339192,
          67.59897122458307,
          67.57765610196039,
          67.55593075591779,
          67.53370878576624,
          67.51097409482568,
          67.48774834200725,
          67.46379195710301,
          67.43884074907173,
          67.41269623887221,
          67.38519998896142,
          67.3560654098725,
          67.32496326521542,
          67.29168745387433,
          67.25615073009924,
          67.21833235087306,
          67.17827995456979,
          67.13616005121428,
          67.09224069720368,
          67.04688695425551,
          67.00041445125667,
          66.95302755961872,
          66.9049420146026,
          66.8563860641178,
          66.80760019142421,
          66.75872594004947,
          66.70976216662997,
          66.66075930626481,
          66.61181617173762,
          66.56305292748256,
          66.51444160923275,
          66.46595274194556,
          66.41760996260832,
          66.3694852775909,
          66.32162303341572,
          66.27395352753638,
          66.22645003500865,
          66.17913934014602,
          66.13209991502117,
          66.08534698595948,
          66.03879075987423,
          65.99240261688551,
          65.94622207874215,
          65.90035208342644,
          65.85478914363509,
          65.80941372844708,
          65.76419389564504,
          65.71919045397527,
          65.67453978743768,
          65.63018218106824,
          65.58602526920474,
          65.54208214238436,
          65.49844620403778,
          65.45514066456474,
          65.41210994510716,
          65.36936680500887,
          65.32697526444117,
          65.28501220029449,
          65.24347053544079,
          65.20237221191239,
          65.16178144487819,
          65.12180389494117,
          65.0825400704469,
          65.04397227519064,
          65.0060843463802,
          64.96889040456234,
          64.93243457450318,
          64.89675369978801,
          64.86169675894429,
          64.8271414430697,
          64.79304345569298,
          64.75942379908668,
          64.7262127124084,
          64.69330311973516,
          64.66065473193427,
          64.62828420765803,
          64.59622088955823,
          64.56438818861623,
          64.53273799284695,
          64.50127265604553,
          64.47004409905577,
          64.43909121831226,
          64.40832663436744,
          64.37770082510757,
          64.34723018720878,
          64.31699643383799,
          64.28704707217005,
          64.25727050761628,
          64.22763451075315,
          64.1981771669092,
          64.16898261599675,
          64.14000048692563,
          64.1111813500789,
          64.08253209558079,
          64.05410881727755,
          64.02594151187125,
          63.99796703261748,
          63.970164157802934,
          63.94255968441445,
          63.91522691337117,
          63.88819025472471,
          63.86137987229534,
          63.834785241107895,
          63.808466611635936,
          63.782553051159596,
          63.75709762367082,
          63.73206746696579,
          63.70752990607999,
          63.68364029218989,
          63.66059576341252,
          63.63847501836345,
          63.617398410076376,
          63.597520799299865,
          63.57902589377206,
          63.56201075943864,
          63.54642778148873,
          63.53221458819181,
          63.51929675466605,
          63.507587431273535,
          63.49692307694561,
          63.4870456281977,
          63.47776740911042,
          63.468989321428914,
          63.46069892758281,
          63.452806543269325,
          63.44513556402126,
          63.43761825714195,
          63.430272093174516,
          63.42312279435318,
          63.41607434949339,
          63.4090886424591,
          63.402175099897725,
          63.39537897915227,
          63.38866906519099,
          63.381996090020834,
          63.375351766265815,
          63.36876663868855,
          63.36229769689319,
          63.35590585312503,
          63.34952127791614,
          63.3431323191015,
          63.33678619181989,
          63.330576694513155,
          63.324452620232606,
          63.3183360858594,
          63.31223040735626,
          63.30620559594338,
          63.30028752809178,
          63.29440971168183,
          63.288561760337736,
          63.28277754954426,
          63.27711746299374,
          63.27155425338534,
          63.266059838352476,
          63.26065300768298,
          63.25539771833612,
          63.25038220417471,
          63.24559561068689,
          63.24102928919034,
          63.23674155269655,
          63.23285707438859,
          63.22953942729716,
          63.22678843335006,
          63.224606062208515,
          63.22304153988695,
          63.2221792681153,
          63.22200807715974,
          63.222407693952505,
          63.22329830217744,
          63.22463420624899,
          63.22638416230218,
          63.228428118088175,
          63.23065708633067,
          63.23301842242952,
          63.23551463615396,
          63.238168648517785,
          63.2408861186263,
          63.24359026467964,
          63.24627143321965,
          63.2489862528475,
          63.2517973472796,
          63.254599159221875,
          63.25734469812919,
          63.26005557996868,
          63.262807579371426,
          63.26556993981212,
          63.26828722221225,
          63.270957222783,
          63.27362168336092,
          63.27631620408017,
          63.27898373794064,
          63.28159750619995,
          63.28417136184623,
          63.286759348047674,
          63.289390963682294,
          63.291993732604894,
          63.294534390253155,
          63.29703778052687,
          63.299586474812884,
          63.30222451768644,
          63.304868069472214,
          63.30751125991396,
          63.31021778437857,
          63.31309682644466,
          63.31614636255337,
          63.31938763240828,
          63.322912382694106,
          63.32687736493962,
          63.3314335559412,
          63.336692777209755,
          63.34281793538641,
          63.35001516526587,
          63.35853205592526,
          63.368544963550875,
          63.38008427468528,
          63.39314734584271,
          63.40770173435351,
          63.42368532262747,
          63.44092266312388,
          63.45910685526362,
          63.47800227605651,
          63.49745110391138,
          63.517344623208075,
          63.537483754721364,
          63.55771390699868,
          63.57795306542237,
          63.59818720833354,
          63.618381852485705,
          63.63843760383689,
          63.6583060592781,
          63.677989587270844,
          63.697537176677585,
          63.7169310217336,
          63.73609277982657,
          63.75499862576182,
          63.773680568700556,
          63.79221993856382,
          63.81059670792879,
          63.828714473352946,
          63.846550079754635,
          63.86415558737328,
          63.881641087510566,
          63.89894660299646,
          63.91599719631546,
          63.93280242187956,
          63.949435819875006,
          63.9659043136994,
          63.98215507701053,
          63.99818754727318,
          64.01403920532407,
          64.02975276398695,
          64.04529648618185,
          64.0606606802275,
          64.07587223846218,
          64.09099416424534,
          64.10609305077384,
          64.12115251577384,
          64.13618454408082,
          64.15126240146677,
          64.16652020787474,
          64.18211557924913,
          64.19806618708272,
          64.21442339003397,
          64.23128020697511,
          64.24875850571975,
          64.26685991035872,
          64.28550467261314,
          64.3046300427119,
          64.32418298311097,
          64.34409521551328,
          64.36421698666811,
          64.38442279651905,
          64.40463854314791,
          64.42484105308793,
          64.44501776641415,
          64.46505937920583,
          64.48488748554898,
          64.50448791206455,
          64.52391023151577,
          64.54320170472037,
          64.5622569397905,
          64.5810368836644,
          64.59956551595361,
          64.61790926648479,
          64.63602786448807,
          64.653882360303,
          64.67147742570923,
          64.68885434884648,
          64.70602959875727,
          64.72295682740219,
          64.73962011586886,
          64.75603691190139,
          64.77225710016555,
          64.78829475005507,
          64.804086129203,
          64.8196062994647,
          64.8348804852082,
          64.849983737993,
          64.86494398954393,
          64.87967976346773,
          64.89418079116578,
          64.90849581115678,
          64.92270096395445,
          64.93676507488641,
          64.9506853699679,
          64.964508742057,
          64.9783271056526,
          64.9922038112924,
          65.00616706312088,
          65.02029091498888,
          65.03469443921126,
          65.0495380410211,
          65.06492296692514,
          65.08087559326295,
          65.0974292403285,
          65.11462475680916,
          65.13250836792582,
          65.15099857968623,
          65.16990849891151,
          65.18911353642666,
          65.20854390453083,
          65.22812554314658,
          65.24769357478533,
          65.26713861753065,
          65.28641206123922,
          65.3055034519188,
          65.32432001521437,
          65.34278346662215,
          65.36075270737157,
          65.37775628937645,
          65.39291444148415,
          65.40551439522184,
          65.4154477323476,
          65.42287505975598,
          65.42793943528801,
          65.43076768312757,
          65.43140083575702,
          65.42986320718474,
          65.42616056425322,
          65.42007554038562,
          65.41128483138934,
          65.39952343802152,
          65.38478329144522,
          65.36717508519753,
          65.3468504632912,
          65.32389050289122,
          65.29839531553324,
          65.2704963177309,
          65.24025530238933,
          65.20766792960599,
          65.17267552482268,
          65.13522383267731,
          65.0954506300598,
          65.05352515407411,
          65.00959482475157,
          64.96383294605975,
          64.91646517103342,
          64.86767107209587,
          64.8175809163072,
          64.76635231333374,
          64.71412487586342,
          64.66102140145837,
          64.60718275922038,
          64.55290174724176,
          64.49838103308711,
          64.44371644311238,
          64.38890816253267,
          64.33388836430746,
          64.27851615427878,
          64.22253674954203,
          64.16559541472589,
          64.10742751404038,
          64.04789099999773,
          63.98689988170113,
          63.924426606873,
          63.8604407742208,
          63.79492986059714,
          63.72788231399428,
          63.65927911741096,
          63.58907795687691,
          63.51721057038053,
          63.44361245996098,
          63.368299484285124,
          63.29130092688535,
          63.21264414525177,
          63.132356773429585,
          63.050475039625205,
          62.967013665982925,
          62.88201519480826,
          62.79555958583705,
          62.70776353273303,
          62.6187461325049,
          62.528473569495084,
          62.436678985525624,
          62.342719292583354,
          62.24612785972373,
          62.14768995974688,
          62.04815092656947,
          61.94765650406299,
          61.84619431924552,
          61.74382544003168,
          61.64058564985102,
          61.536537553233295,
          61.43174565128128,
          61.32627694334527,
          61.22026013673946,
          61.11389416535598,
          61.00743728628537,
          60.901178713141014,
          60.79544768040363,
          60.690601355983745,
          60.587018576578615,
          60.4850811984242,
          60.38500249266628,
          60.286699253195614,
          60.18999746728601,
          60.09522412859857,
          60.002478425686725,
          59.911439763041706,
          59.8215621902701,
          59.73218660763093,
          59.64274795782604,
          59.55287499646582,
          59.462312689732094,
          59.37078575292047,
          59.27813076867048,
          59.184435261944756,
          59.08981759152555,
          58.99429279188549,
          58.897851580501296,
          58.80050264159747,
          58.70227419491009,
          58.60321117551206,
          58.50347041308312,
          58.40337870294315,
          58.303173442446734,
          58.20250256722684,
          58.10107317315183,
          57.99885631930487,
          57.89590091022443,
          57.79223688676763,
          57.68789545833352,
          57.582886052900975,
          57.47713696611177,
          57.37042528496295,
          57.26261524340472,
          57.154012688199934,
          57.044949806164745,
          56.93548347209154,
          56.82561665224176,
          56.71535525941756,
          56.604708804567366,
          56.493712862476244,
          56.38241880410369,
          56.27091468979608,
          56.15928319110723,
          56.04756405155078,
          55.935822546998565,
          55.824162295189346,
          55.7127103319213,
          55.60159591895395,
          55.49096248447962,
          55.3809633497414,
          55.27177564582427,
          55.163574564184,
          55.05642521888394,
          54.95022852847378,
          54.84482340327908,
          54.739978857519894,
          54.63535611466359,
          54.530678119455374,
          54.42601064302144,
          54.32148317188696,
          54.217064179012084,
          54.11268963297595,
          54.008302339856535,
          53.90386280501178,
          53.79934058919023,
          53.694715090207026,
          53.589970497716,
          53.48509809229851,
          53.38010548167197,
          53.27499917552213,
          53.16977143030357,
          53.06439468654553,
          52.958853987398825,
          52.85318037651462,
          52.74741137949455,
          52.6415161752279,
          52.53537591469275,
          52.42891439020367,
          52.3222391311478,
          52.21547337897847,
          52.108642678732195,
          52.00172213507462,
          51.89469051977349,
          51.78759043521419,
          51.680456939606216,
          51.57328330828666,
          51.466018173063645,
          51.3586304423796,
          51.251168112972486,
          51.143691175704106,
          51.0362263894391,
          50.92880286389416,
          50.82143873149237,
          50.71410514269029,
          50.606784105908716,
          50.4995172034524,
          50.39245151986243,
          50.28567919509744,
          50.179068907842996,
          50.072459299859055,
          49.965804985623784,
          49.85909330918907,
          49.75232573939253,
          49.645515779049276,
          49.53867485275476,
          49.431759241337325,
          49.32464412493809,
          49.217235013751655,
          49.10967907417098,
          49.00213786873229,
          48.8946623910091,
          48.78726917412521,
          48.67996360892909,
          48.572743633092244,
          48.46560948204295,
          48.35856838173702,
          48.25165097921721,
          48.14487754329368,
          48.038234617620006,
          47.93170551211441,
          47.82528396936791,
          47.71896648358177,
          47.61275264023747,
          47.50664981807179,
          47.40066929054696,
          47.29483710414622,
          47.18922042845744,
          47.083853086671404,
          46.9786838664961,
          46.873650629569966,
          46.76873436123781,
          46.66394021407664,
          46.55927167355758,
          46.45472990094829,
          46.350314753830666,
          46.246026772993915,
          46.14186779302462,
          46.03783993137081,
          45.9339438751887,
          45.83018088812432,
          45.726552767514384,
          45.62306100912954,
          45.519708521027084,
          45.41649642744489,
          45.313422934075106,
          45.21048171509226,
          45.10764214357393,
          45.00488553886777,
          44.90223824979496,
          44.7997532194964,
          44.69743986027413,
          44.595295658025265,
          44.493313034535724,
          44.39149412872259,
          44.289834037138775,
          44.18831283927063,
          44.08686865235563,
          43.98546134487366,
          43.88412428707494,
          43.782893302175054,
          43.68177656755524,
          43.58076630309997,
          43.4798569693049,
          43.37905560392183,
          43.27837266709557,
          43.17782640455137,
          43.07745666733495,
          42.97730260849276,
          42.87733058678442,
          42.77750598104331,
          42.67781850473617,
          42.578266974177524,
          42.47885289921178,
          42.379580270267795,
          42.280451642341184,
          42.181466219735746,
          42.08261489630773,
          41.983893972600356,
          41.88531757765965,
          41.78690654905291,
          41.68867844658327,
          41.590669332695654,
          41.492907020523006,
          41.395349796453104,
          41.297960652228234,
          41.20073514927121,
          41.10368286710339,
          41.0068081464367,
          40.91010230363504,
          40.81355647843522,
          40.71715880233824,
          40.620881886627195,
          40.52470829773833,
          40.4286791953191,
          40.33283705860459,
          40.237194016820006,
          40.14174920220004,
          40.04650517944309,
          39.95147923291432,
          39.856692047136804,
          39.762159574220235,
          39.66789659626384,
          39.57391007896403,
          39.48019004759599,
          39.38671361026957,
          39.293443661643366,
          39.20030430010819,
          39.10721827265802,
          39.01423794304806,
          38.92141958496218,
          38.828779883795924,
          38.736325706286465,
          38.644056809248205,
          38.551961750577135,
          38.46002816466003,
          38.368251660758624,
          38.276627983831375,
          38.18515398381845,
          38.093831462389204,
          38.002662813564704,
          37.911642244439,
          37.82074659974451,
          37.72997153145443,
          37.63933361173896,
          37.54884628883426,
          37.45849080722484,
          37.36820379271703,
          37.27793352387645,
          37.18773243269615,
          37.09767122677101,
          37.0077720974628,
          36.91804787629061,
          36.82850334770719,
          36.739128639912956,
          36.64991024871502,
          36.56083356535585,
          36.47186049284432,
          36.38296089700053,
          36.29416971729476,
          36.20552268396396,
          36.11703502247156,
          36.02871238025888,
          35.94055673701443,
          35.85256792468364,
          35.764741101787216,
          35.67710925781375,
          35.58975454054946,
          35.50274430600951,
          35.416001182444745,
          35.32945736640321,
          35.24308144977918,
          35.15685726329378
         ],
         "yaxis": "y"
        },
        {
         "hovertemplate": "x=%{x}<br>y=%{y}<extra></extra>",
         "legendgroup": "",
         "marker": {
          "color": "red",
          "symbol": "circle"
         },
         "mode": "markers",
         "name": "",
         "orientation": "v",
         "showlegend": false,
         "type": "scatter",
         "x": [
          2016
         ],
         "xaxis": "x",
         "y": [
          36.8
         ],
         "yaxis": "y"
        }
       ],
       "layout": {
        "template": {
         "data": {
          "bar": [
           {
            "error_x": {
             "color": "#2a3f5f"
            },
            "error_y": {
             "color": "#2a3f5f"
            },
            "marker": {
             "line": {
              "color": "#E5ECF6",
              "width": 0.5
             },
             "pattern": {
              "fillmode": "overlay",
              "size": 10,
              "solidity": 0.2
             }
            },
            "type": "bar"
           }
          ],
          "barpolar": [
           {
            "marker": {
             "line": {
              "color": "#E5ECF6",
              "width": 0.5
             },
             "pattern": {
              "fillmode": "overlay",
              "size": 10,
              "solidity": 0.2
             }
            },
            "type": "barpolar"
           }
          ],
          "carpet": [
           {
            "aaxis": {
             "endlinecolor": "#2a3f5f",
             "gridcolor": "white",
             "linecolor": "white",
             "minorgridcolor": "white",
             "startlinecolor": "#2a3f5f"
            },
            "baxis": {
             "endlinecolor": "#2a3f5f",
             "gridcolor": "white",
             "linecolor": "white",
             "minorgridcolor": "white",
             "startlinecolor": "#2a3f5f"
            },
            "type": "carpet"
           }
          ],
          "choropleth": [
           {
            "colorbar": {
             "outlinewidth": 0,
             "ticks": ""
            },
            "type": "choropleth"
           }
          ],
          "contour": [
           {
            "colorbar": {
             "outlinewidth": 0,
             "ticks": ""
            },
            "colorscale": [
             [
              0,
              "#0d0887"
             ],
             [
              0.1111111111111111,
              "#46039f"
             ],
             [
              0.2222222222222222,
              "#7201a8"
             ],
             [
              0.3333333333333333,
              "#9c179e"
             ],
             [
              0.4444444444444444,
              "#bd3786"
             ],
             [
              0.5555555555555556,
              "#d8576b"
             ],
             [
              0.6666666666666666,
              "#ed7953"
             ],
             [
              0.7777777777777778,
              "#fb9f3a"
             ],
             [
              0.8888888888888888,
              "#fdca26"
             ],
             [
              1,
              "#f0f921"
             ]
            ],
            "type": "contour"
           }
          ],
          "contourcarpet": [
           {
            "colorbar": {
             "outlinewidth": 0,
             "ticks": ""
            },
            "type": "contourcarpet"
           }
          ],
          "heatmap": [
           {
            "colorbar": {
             "outlinewidth": 0,
             "ticks": ""
            },
            "colorscale": [
             [
              0,
              "#0d0887"
             ],
             [
              0.1111111111111111,
              "#46039f"
             ],
             [
              0.2222222222222222,
              "#7201a8"
             ],
             [
              0.3333333333333333,
              "#9c179e"
             ],
             [
              0.4444444444444444,
              "#bd3786"
             ],
             [
              0.5555555555555556,
              "#d8576b"
             ],
             [
              0.6666666666666666,
              "#ed7953"
             ],
             [
              0.7777777777777778,
              "#fb9f3a"
             ],
             [
              0.8888888888888888,
              "#fdca26"
             ],
             [
              1,
              "#f0f921"
             ]
            ],
            "type": "heatmap"
           }
          ],
          "heatmapgl": [
           {
            "colorbar": {
             "outlinewidth": 0,
             "ticks": ""
            },
            "colorscale": [
             [
              0,
              "#0d0887"
             ],
             [
              0.1111111111111111,
              "#46039f"
             ],
             [
              0.2222222222222222,
              "#7201a8"
             ],
             [
              0.3333333333333333,
              "#9c179e"
             ],
             [
              0.4444444444444444,
              "#bd3786"
             ],
             [
              0.5555555555555556,
              "#d8576b"
             ],
             [
              0.6666666666666666,
              "#ed7953"
             ],
             [
              0.7777777777777778,
              "#fb9f3a"
             ],
             [
              0.8888888888888888,
              "#fdca26"
             ],
             [
              1,
              "#f0f921"
             ]
            ],
            "type": "heatmapgl"
           }
          ],
          "histogram": [
           {
            "marker": {
             "pattern": {
              "fillmode": "overlay",
              "size": 10,
              "solidity": 0.2
             }
            },
            "type": "histogram"
           }
          ],
          "histogram2d": [
           {
            "colorbar": {
             "outlinewidth": 0,
             "ticks": ""
            },
            "colorscale": [
             [
              0,
              "#0d0887"
             ],
             [
              0.1111111111111111,
              "#46039f"
             ],
             [
              0.2222222222222222,
              "#7201a8"
             ],
             [
              0.3333333333333333,
              "#9c179e"
             ],
             [
              0.4444444444444444,
              "#bd3786"
             ],
             [
              0.5555555555555556,
              "#d8576b"
             ],
             [
              0.6666666666666666,
              "#ed7953"
             ],
             [
              0.7777777777777778,
              "#fb9f3a"
             ],
             [
              0.8888888888888888,
              "#fdca26"
             ],
             [
              1,
              "#f0f921"
             ]
            ],
            "type": "histogram2d"
           }
          ],
          "histogram2dcontour": [
           {
            "colorbar": {
             "outlinewidth": 0,
             "ticks": ""
            },
            "colorscale": [
             [
              0,
              "#0d0887"
             ],
             [
              0.1111111111111111,
              "#46039f"
             ],
             [
              0.2222222222222222,
              "#7201a8"
             ],
             [
              0.3333333333333333,
              "#9c179e"
             ],
             [
              0.4444444444444444,
              "#bd3786"
             ],
             [
              0.5555555555555556,
              "#d8576b"
             ],
             [
              0.6666666666666666,
              "#ed7953"
             ],
             [
              0.7777777777777778,
              "#fb9f3a"
             ],
             [
              0.8888888888888888,
              "#fdca26"
             ],
             [
              1,
              "#f0f921"
             ]
            ],
            "type": "histogram2dcontour"
           }
          ],
          "mesh3d": [
           {
            "colorbar": {
             "outlinewidth": 0,
             "ticks": ""
            },
            "type": "mesh3d"
           }
          ],
          "parcoords": [
           {
            "line": {
             "colorbar": {
              "outlinewidth": 0,
              "ticks": ""
             }
            },
            "type": "parcoords"
           }
          ],
          "pie": [
           {
            "automargin": true,
            "type": "pie"
           }
          ],
          "scatter": [
           {
            "fillpattern": {
             "fillmode": "overlay",
             "size": 10,
             "solidity": 0.2
            },
            "type": "scatter"
           }
          ],
          "scatter3d": [
           {
            "line": {
             "colorbar": {
              "outlinewidth": 0,
              "ticks": ""
             }
            },
            "marker": {
             "colorbar": {
              "outlinewidth": 0,
              "ticks": ""
             }
            },
            "type": "scatter3d"
           }
          ],
          "scattercarpet": [
           {
            "marker": {
             "colorbar": {
              "outlinewidth": 0,
              "ticks": ""
             }
            },
            "type": "scattercarpet"
           }
          ],
          "scattergeo": [
           {
            "marker": {
             "colorbar": {
              "outlinewidth": 0,
              "ticks": ""
             }
            },
            "type": "scattergeo"
           }
          ],
          "scattergl": [
           {
            "marker": {
             "colorbar": {
              "outlinewidth": 0,
              "ticks": ""
             }
            },
            "type": "scattergl"
           }
          ],
          "scattermapbox": [
           {
            "marker": {
             "colorbar": {
              "outlinewidth": 0,
              "ticks": ""
             }
            },
            "type": "scattermapbox"
           }
          ],
          "scatterpolar": [
           {
            "marker": {
             "colorbar": {
              "outlinewidth": 0,
              "ticks": ""
             }
            },
            "type": "scatterpolar"
           }
          ],
          "scatterpolargl": [
           {
            "marker": {
             "colorbar": {
              "outlinewidth": 0,
              "ticks": ""
             }
            },
            "type": "scatterpolargl"
           }
          ],
          "scatterternary": [
           {
            "marker": {
             "colorbar": {
              "outlinewidth": 0,
              "ticks": ""
             }
            },
            "type": "scatterternary"
           }
          ],
          "surface": [
           {
            "colorbar": {
             "outlinewidth": 0,
             "ticks": ""
            },
            "colorscale": [
             [
              0,
              "#0d0887"
             ],
             [
              0.1111111111111111,
              "#46039f"
             ],
             [
              0.2222222222222222,
              "#7201a8"
             ],
             [
              0.3333333333333333,
              "#9c179e"
             ],
             [
              0.4444444444444444,
              "#bd3786"
             ],
             [
              0.5555555555555556,
              "#d8576b"
             ],
             [
              0.6666666666666666,
              "#ed7953"
             ],
             [
              0.7777777777777778,
              "#fb9f3a"
             ],
             [
              0.8888888888888888,
              "#fdca26"
             ],
             [
              1,
              "#f0f921"
             ]
            ],
            "type": "surface"
           }
          ],
          "table": [
           {
            "cells": {
             "fill": {
              "color": "#EBF0F8"
             },
             "line": {
              "color": "white"
             }
            },
            "header": {
             "fill": {
              "color": "#C8D4E3"
             },
             "line": {
              "color": "white"
             }
            },
            "type": "table"
           }
          ]
         },
         "layout": {
          "annotationdefaults": {
           "arrowcolor": "#2a3f5f",
           "arrowhead": 0,
           "arrowwidth": 1
          },
          "autotypenumbers": "strict",
          "coloraxis": {
           "colorbar": {
            "outlinewidth": 0,
            "ticks": ""
           }
          },
          "colorscale": {
           "diverging": [
            [
             0,
             "#8e0152"
            ],
            [
             0.1,
             "#c51b7d"
            ],
            [
             0.2,
             "#de77ae"
            ],
            [
             0.3,
             "#f1b6da"
            ],
            [
             0.4,
             "#fde0ef"
            ],
            [
             0.5,
             "#f7f7f7"
            ],
            [
             0.6,
             "#e6f5d0"
            ],
            [
             0.7,
             "#b8e186"
            ],
            [
             0.8,
             "#7fbc41"
            ],
            [
             0.9,
             "#4d9221"
            ],
            [
             1,
             "#276419"
            ]
           ],
           "sequential": [
            [
             0,
             "#0d0887"
            ],
            [
             0.1111111111111111,
             "#46039f"
            ],
            [
             0.2222222222222222,
             "#7201a8"
            ],
            [
             0.3333333333333333,
             "#9c179e"
            ],
            [
             0.4444444444444444,
             "#bd3786"
            ],
            [
             0.5555555555555556,
             "#d8576b"
            ],
            [
             0.6666666666666666,
             "#ed7953"
            ],
            [
             0.7777777777777778,
             "#fb9f3a"
            ],
            [
             0.8888888888888888,
             "#fdca26"
            ],
            [
             1,
             "#f0f921"
            ]
           ],
           "sequentialminus": [
            [
             0,
             "#0d0887"
            ],
            [
             0.1111111111111111,
             "#46039f"
            ],
            [
             0.2222222222222222,
             "#7201a8"
            ],
            [
             0.3333333333333333,
             "#9c179e"
            ],
            [
             0.4444444444444444,
             "#bd3786"
            ],
            [
             0.5555555555555556,
             "#d8576b"
            ],
            [
             0.6666666666666666,
             "#ed7953"
            ],
            [
             0.7777777777777778,
             "#fb9f3a"
            ],
            [
             0.8888888888888888,
             "#fdca26"
            ],
            [
             1,
             "#f0f921"
            ]
           ]
          },
          "colorway": [
           "#636efa",
           "#EF553B",
           "#00cc96",
           "#ab63fa",
           "#FFA15A",
           "#19d3f3",
           "#FF6692",
           "#B6E880",
           "#FF97FF",
           "#FECB52"
          ],
          "font": {
           "color": "#2a3f5f"
          },
          "geo": {
           "bgcolor": "white",
           "lakecolor": "white",
           "landcolor": "#E5ECF6",
           "showlakes": true,
           "showland": true,
           "subunitcolor": "white"
          },
          "hoverlabel": {
           "align": "left"
          },
          "hovermode": "closest",
          "mapbox": {
           "style": "light"
          },
          "paper_bgcolor": "white",
          "plot_bgcolor": "#E5ECF6",
          "polar": {
           "angularaxis": {
            "gridcolor": "white",
            "linecolor": "white",
            "ticks": ""
           },
           "bgcolor": "#E5ECF6",
           "radialaxis": {
            "gridcolor": "white",
            "linecolor": "white",
            "ticks": ""
           }
          },
          "scene": {
           "xaxis": {
            "backgroundcolor": "#E5ECF6",
            "gridcolor": "white",
            "gridwidth": 2,
            "linecolor": "white",
            "showbackground": true,
            "ticks": "",
            "zerolinecolor": "white"
           },
           "yaxis": {
            "backgroundcolor": "#E5ECF6",
            "gridcolor": "white",
            "gridwidth": 2,
            "linecolor": "white",
            "showbackground": true,
            "ticks": "",
            "zerolinecolor": "white"
           },
           "zaxis": {
            "backgroundcolor": "#E5ECF6",
            "gridcolor": "white",
            "gridwidth": 2,
            "linecolor": "white",
            "showbackground": true,
            "ticks": "",
            "zerolinecolor": "white"
           }
          },
          "shapedefaults": {
           "line": {
            "color": "#2a3f5f"
           }
          },
          "ternary": {
           "aaxis": {
            "gridcolor": "white",
            "linecolor": "white",
            "ticks": ""
           },
           "baxis": {
            "gridcolor": "white",
            "linecolor": "white",
            "ticks": ""
           },
           "bgcolor": "#E5ECF6",
           "caxis": {
            "gridcolor": "white",
            "linecolor": "white",
            "ticks": ""
           }
          },
          "title": {
           "x": 0.05
          },
          "xaxis": {
           "automargin": true,
           "gridcolor": "white",
           "linecolor": "white",
           "ticks": "",
           "title": {
            "standoff": 15
           },
           "zerolinecolor": "white",
           "zerolinewidth": 2
          },
          "yaxis": {
           "automargin": true,
           "gridcolor": "white",
           "linecolor": "white",
           "ticks": "",
           "title": {
            "standoff": 15
           },
           "zerolinecolor": "white",
           "zerolinewidth": 2
          }
         }
        },
        "title": {
         "text": "Modelled vs Data",
         "x": 0.5
        },
        "xaxis": {
         "title": {
          "text": "Year"
         }
        },
        "yaxis": {
         "title": {
          "text": "Population"
         }
        }
       }
      }
     },
     "metadata": {},
     "output_type": "display_data"
    }
   ],
   "source": [
    "latent_1 = px.line(\n",
    "    derived_df_0,\n",
    "    x=derived_df_0.index,\n",
    "    y=\"percentage_latent\",\n",
    ")\n",
    "latent_2 = px.scatter(x= plots['percentage_latent']['times'], y = plots['percentage_latent']['values'])\n",
    "latent_2.update_traces(marker=dict(color=\"red\"))\n",
    "latent_plot = go.Figure(\n",
    "    data=latent_1.data + latent_2.data,\n",
    ")\n",
    "latent_plot.update_layout(\n",
    "    title=\"Modelled vs Data\", title_x=0.5, xaxis_title=\"Year\", yaxis_title=\"Population\"\n",
    ")\n",
    "latent_plot.show()"
   ]
  },
  {
   "cell_type": "code",
   "execution_count": 27,
   "metadata": {},
   "outputs": [
    {
     "data": {
      "application/vnd.plotly.v1+json": {
       "config": {
        "plotlyServerURL": "https://plot.ly"
       },
       "data": [
        {
         "hovertemplate": "index=%{x}<br>notifications=%{y}<extra></extra>",
         "legendgroup": "",
         "line": {
          "color": "#636efa",
          "dash": "solid"
         },
         "marker": {
          "symbol": "circle"
         },
         "mode": "lines",
         "name": "",
         "showlegend": false,
         "type": "scattergl",
         "x": [
          1900,
          1900.1,
          1900.2,
          1900.3,
          1900.4,
          1900.5,
          1900.6,
          1900.7,
          1900.8,
          1900.9,
          1901,
          1901.1,
          1901.2,
          1901.3,
          1901.4,
          1901.5,
          1901.6,
          1901.7,
          1901.8,
          1901.9,
          1902,
          1902.1,
          1902.2,
          1902.3,
          1902.4,
          1902.5,
          1902.6,
          1902.7,
          1902.8,
          1902.9,
          1903,
          1903.1,
          1903.2,
          1903.3,
          1903.4,
          1903.5,
          1903.6,
          1903.7,
          1903.8,
          1903.9,
          1904,
          1904.1,
          1904.2,
          1904.3,
          1904.4,
          1904.5,
          1904.6,
          1904.7,
          1904.8,
          1904.9,
          1905,
          1905.1,
          1905.2,
          1905.3,
          1905.4,
          1905.5,
          1905.6,
          1905.7,
          1905.8,
          1905.9,
          1906,
          1906.1,
          1906.2,
          1906.3,
          1906.4,
          1906.5,
          1906.6,
          1906.7,
          1906.8,
          1906.9,
          1907,
          1907.1,
          1907.2,
          1907.3,
          1907.4,
          1907.5,
          1907.6,
          1907.7,
          1907.8,
          1907.9,
          1908,
          1908.1,
          1908.2,
          1908.3,
          1908.4,
          1908.5,
          1908.6,
          1908.7,
          1908.8,
          1908.9,
          1909,
          1909.1,
          1909.2,
          1909.3,
          1909.4,
          1909.5,
          1909.6,
          1909.7,
          1909.8,
          1909.9,
          1910,
          1910.1,
          1910.2,
          1910.3,
          1910.4,
          1910.5,
          1910.6,
          1910.7,
          1910.8,
          1910.9,
          1911,
          1911.1,
          1911.2,
          1911.3,
          1911.4,
          1911.5,
          1911.6,
          1911.7,
          1911.8,
          1911.9,
          1912,
          1912.1,
          1912.2,
          1912.3,
          1912.4,
          1912.5,
          1912.6,
          1912.7,
          1912.8,
          1912.9,
          1913,
          1913.1,
          1913.2,
          1913.3,
          1913.4,
          1913.5,
          1913.6,
          1913.7,
          1913.8,
          1913.9,
          1914,
          1914.1,
          1914.2,
          1914.3,
          1914.4,
          1914.5,
          1914.6,
          1914.7,
          1914.8,
          1914.9,
          1915,
          1915.1,
          1915.2,
          1915.3,
          1915.4,
          1915.5,
          1915.6,
          1915.7,
          1915.8,
          1915.9,
          1916,
          1916.1,
          1916.2,
          1916.3,
          1916.4,
          1916.5,
          1916.6,
          1916.7,
          1916.8,
          1916.9,
          1917,
          1917.1,
          1917.2,
          1917.3,
          1917.4,
          1917.5,
          1917.6,
          1917.7,
          1917.8,
          1917.9,
          1918,
          1918.1,
          1918.2,
          1918.3,
          1918.4,
          1918.5,
          1918.6,
          1918.7,
          1918.8,
          1918.9,
          1919,
          1919.1,
          1919.2,
          1919.3,
          1919.4,
          1919.5,
          1919.6,
          1919.7,
          1919.8,
          1919.9,
          1920,
          1920.1,
          1920.2,
          1920.3,
          1920.4,
          1920.5,
          1920.6,
          1920.7,
          1920.8,
          1920.9,
          1921,
          1921.1,
          1921.2,
          1921.3,
          1921.4,
          1921.5,
          1921.6,
          1921.7,
          1921.8,
          1921.9,
          1922,
          1922.1,
          1922.2,
          1922.3,
          1922.4,
          1922.5,
          1922.6,
          1922.7,
          1922.8,
          1922.9,
          1923,
          1923.1,
          1923.2,
          1923.3,
          1923.4,
          1923.5,
          1923.6,
          1923.7,
          1923.8,
          1923.9,
          1924,
          1924.1,
          1924.2,
          1924.3,
          1924.4,
          1924.5,
          1924.6,
          1924.7,
          1924.8,
          1924.9,
          1925,
          1925.1,
          1925.2,
          1925.3,
          1925.4,
          1925.5,
          1925.6,
          1925.7,
          1925.8,
          1925.9,
          1926,
          1926.1,
          1926.2,
          1926.3,
          1926.4,
          1926.5,
          1926.6,
          1926.7,
          1926.8,
          1926.9,
          1927,
          1927.1,
          1927.2,
          1927.3,
          1927.4,
          1927.5,
          1927.6,
          1927.7,
          1927.8,
          1927.9,
          1928,
          1928.1,
          1928.2,
          1928.3,
          1928.4,
          1928.5,
          1928.6,
          1928.7,
          1928.8,
          1928.9,
          1929,
          1929.1,
          1929.2,
          1929.3,
          1929.4,
          1929.5,
          1929.6,
          1929.7,
          1929.8,
          1929.9,
          1930,
          1930.1,
          1930.2,
          1930.3,
          1930.4,
          1930.5,
          1930.6,
          1930.7,
          1930.8,
          1930.9,
          1931,
          1931.1,
          1931.2,
          1931.3,
          1931.4,
          1931.5,
          1931.6,
          1931.7,
          1931.8,
          1931.9,
          1932,
          1932.1,
          1932.2,
          1932.3,
          1932.4,
          1932.5,
          1932.6,
          1932.7,
          1932.8,
          1932.9,
          1933,
          1933.1,
          1933.2,
          1933.3,
          1933.4,
          1933.5,
          1933.6,
          1933.7,
          1933.8,
          1933.9,
          1934,
          1934.1,
          1934.2,
          1934.3,
          1934.4,
          1934.5,
          1934.6,
          1934.7,
          1934.8,
          1934.9,
          1935,
          1935.1,
          1935.2,
          1935.3,
          1935.4,
          1935.5,
          1935.6,
          1935.7,
          1935.8,
          1935.9,
          1936,
          1936.1,
          1936.2,
          1936.3,
          1936.4,
          1936.5,
          1936.6,
          1936.7,
          1936.8,
          1936.9,
          1937,
          1937.1,
          1937.2,
          1937.3,
          1937.4,
          1937.5,
          1937.6,
          1937.7,
          1937.8,
          1937.9,
          1938,
          1938.1,
          1938.2,
          1938.3,
          1938.4,
          1938.5,
          1938.6,
          1938.7,
          1938.8,
          1938.9,
          1939,
          1939.1,
          1939.2,
          1939.3,
          1939.4,
          1939.5,
          1939.6,
          1939.7,
          1939.8,
          1939.9,
          1940,
          1940.1,
          1940.2,
          1940.3,
          1940.4,
          1940.5,
          1940.6,
          1940.7,
          1940.8,
          1940.9,
          1941,
          1941.1,
          1941.2,
          1941.3,
          1941.4,
          1941.5,
          1941.6,
          1941.7,
          1941.8,
          1941.9,
          1942,
          1942.1,
          1942.2,
          1942.3,
          1942.4,
          1942.5,
          1942.6,
          1942.7,
          1942.8,
          1942.9,
          1943,
          1943.1,
          1943.2,
          1943.3,
          1943.4,
          1943.5,
          1943.6,
          1943.7,
          1943.8,
          1943.9,
          1944,
          1944.1,
          1944.2,
          1944.3,
          1944.4,
          1944.5,
          1944.6,
          1944.7,
          1944.8,
          1944.9,
          1945,
          1945.1,
          1945.2,
          1945.3,
          1945.4,
          1945.5,
          1945.6,
          1945.7,
          1945.8,
          1945.9,
          1946,
          1946.1,
          1946.2,
          1946.3,
          1946.4,
          1946.5,
          1946.6,
          1946.7,
          1946.8,
          1946.9,
          1947,
          1947.1,
          1947.2,
          1947.3,
          1947.4,
          1947.5,
          1947.6,
          1947.7,
          1947.8,
          1947.9,
          1948,
          1948.1,
          1948.2,
          1948.3,
          1948.4,
          1948.5,
          1948.6,
          1948.7,
          1948.8,
          1948.9,
          1949,
          1949.1,
          1949.2,
          1949.3,
          1949.4,
          1949.5,
          1949.6,
          1949.7,
          1949.8,
          1949.9,
          1950,
          1950.1,
          1950.2,
          1950.3,
          1950.4,
          1950.5,
          1950.6,
          1950.7,
          1950.8,
          1950.9,
          1951,
          1951.1,
          1951.2,
          1951.3,
          1951.4,
          1951.5,
          1951.6,
          1951.7,
          1951.8,
          1951.9,
          1952,
          1952.1,
          1952.2,
          1952.3,
          1952.4,
          1952.5,
          1952.6,
          1952.7,
          1952.8,
          1952.9,
          1953,
          1953.1,
          1953.2,
          1953.3,
          1953.4,
          1953.5,
          1953.6,
          1953.7,
          1953.8,
          1953.9,
          1954,
          1954.1,
          1954.2,
          1954.3,
          1954.4,
          1954.5,
          1954.6,
          1954.7,
          1954.8,
          1954.9,
          1955,
          1955.1,
          1955.2,
          1955.3,
          1955.4,
          1955.5,
          1955.6,
          1955.7,
          1955.8,
          1955.9,
          1956,
          1956.1,
          1956.2,
          1956.3,
          1956.4,
          1956.5,
          1956.6,
          1956.7,
          1956.8,
          1956.9,
          1957,
          1957.1,
          1957.2,
          1957.3,
          1957.4,
          1957.5,
          1957.6,
          1957.7,
          1957.8,
          1957.9,
          1958,
          1958.1,
          1958.2,
          1958.3,
          1958.4,
          1958.5,
          1958.6,
          1958.7,
          1958.8,
          1958.9,
          1959,
          1959.1,
          1959.2,
          1959.3,
          1959.4,
          1959.5,
          1959.6,
          1959.7,
          1959.8,
          1959.9,
          1960,
          1960.1,
          1960.2,
          1960.3,
          1960.4,
          1960.5,
          1960.6,
          1960.7,
          1960.8,
          1960.9,
          1961,
          1961.1,
          1961.2,
          1961.3,
          1961.4,
          1961.5,
          1961.6,
          1961.7,
          1961.8,
          1961.9,
          1962,
          1962.1,
          1962.2,
          1962.3,
          1962.4,
          1962.5,
          1962.6,
          1962.7,
          1962.8,
          1962.9,
          1963,
          1963.1,
          1963.2,
          1963.3,
          1963.4,
          1963.5,
          1963.6,
          1963.7,
          1963.8,
          1963.9,
          1964,
          1964.1,
          1964.2,
          1964.3,
          1964.4,
          1964.5,
          1964.6,
          1964.7,
          1964.8,
          1964.9,
          1965,
          1965.1,
          1965.2,
          1965.3,
          1965.4,
          1965.5,
          1965.6,
          1965.7,
          1965.8,
          1965.9,
          1966,
          1966.1,
          1966.2,
          1966.3,
          1966.4,
          1966.5,
          1966.6,
          1966.7,
          1966.8,
          1966.9,
          1967,
          1967.1,
          1967.2,
          1967.3,
          1967.4,
          1967.5,
          1967.6,
          1967.7,
          1967.8,
          1967.9,
          1968,
          1968.1,
          1968.2,
          1968.3,
          1968.4,
          1968.5,
          1968.6,
          1968.7,
          1968.8,
          1968.9,
          1969,
          1969.1,
          1969.2,
          1969.3,
          1969.4,
          1969.5,
          1969.6,
          1969.7,
          1969.8,
          1969.9,
          1970,
          1970.1,
          1970.2,
          1970.3,
          1970.4,
          1970.5,
          1970.6,
          1970.7,
          1970.8,
          1970.9,
          1971,
          1971.1,
          1971.2,
          1971.3,
          1971.4,
          1971.5,
          1971.6,
          1971.7,
          1971.8,
          1971.9,
          1972,
          1972.1,
          1972.2,
          1972.3,
          1972.4,
          1972.5,
          1972.6,
          1972.7,
          1972.8,
          1972.9,
          1973,
          1973.1,
          1973.2,
          1973.3,
          1973.4,
          1973.5,
          1973.6,
          1973.7,
          1973.8,
          1973.9,
          1974,
          1974.1,
          1974.2,
          1974.3,
          1974.4,
          1974.5,
          1974.6,
          1974.7,
          1974.8,
          1974.9,
          1975,
          1975.1,
          1975.2,
          1975.3,
          1975.4,
          1975.5,
          1975.6,
          1975.7,
          1975.8,
          1975.9,
          1976,
          1976.1,
          1976.2,
          1976.3,
          1976.4,
          1976.5,
          1976.6,
          1976.7,
          1976.8,
          1976.9,
          1977,
          1977.1,
          1977.2,
          1977.3,
          1977.4,
          1977.5,
          1977.6,
          1977.7,
          1977.8,
          1977.9,
          1978,
          1978.1,
          1978.2,
          1978.3,
          1978.4,
          1978.5,
          1978.6,
          1978.7,
          1978.8,
          1978.9,
          1979,
          1979.1,
          1979.2,
          1979.3,
          1979.4,
          1979.5,
          1979.6,
          1979.7,
          1979.8,
          1979.9,
          1980,
          1980.1,
          1980.2,
          1980.3,
          1980.4,
          1980.5,
          1980.6,
          1980.7,
          1980.8,
          1980.9,
          1981,
          1981.1,
          1981.2,
          1981.3,
          1981.4,
          1981.5,
          1981.6,
          1981.7,
          1981.8,
          1981.9,
          1982,
          1982.1,
          1982.2,
          1982.3,
          1982.4,
          1982.5,
          1982.6,
          1982.7,
          1982.8,
          1982.9,
          1983,
          1983.1,
          1983.2,
          1983.3,
          1983.4,
          1983.5,
          1983.6,
          1983.7,
          1983.8,
          1983.9,
          1984,
          1984.1,
          1984.2,
          1984.3,
          1984.4,
          1984.5,
          1984.6,
          1984.7,
          1984.8,
          1984.9,
          1985,
          1985.1,
          1985.2,
          1985.3,
          1985.4,
          1985.5,
          1985.6,
          1985.7,
          1985.8,
          1985.9,
          1986,
          1986.1,
          1986.2,
          1986.3,
          1986.4,
          1986.5,
          1986.6,
          1986.7,
          1986.8,
          1986.9,
          1987,
          1987.1,
          1987.2,
          1987.3,
          1987.4,
          1987.5,
          1987.6,
          1987.7,
          1987.8,
          1987.9,
          1988,
          1988.1,
          1988.2,
          1988.3,
          1988.4,
          1988.5,
          1988.6,
          1988.7,
          1988.8,
          1988.9,
          1989,
          1989.1,
          1989.2,
          1989.3,
          1989.4,
          1989.5,
          1989.6,
          1989.7,
          1989.8,
          1989.9,
          1990,
          1990.1,
          1990.2,
          1990.3,
          1990.4,
          1990.5,
          1990.6,
          1990.7,
          1990.8,
          1990.9,
          1991,
          1991.1,
          1991.2,
          1991.3,
          1991.4,
          1991.5,
          1991.6,
          1991.7,
          1991.8,
          1991.9,
          1992,
          1992.1,
          1992.2,
          1992.3,
          1992.4,
          1992.5,
          1992.6,
          1992.7,
          1992.8,
          1992.9,
          1993,
          1993.1,
          1993.2,
          1993.3,
          1993.4,
          1993.5,
          1993.6,
          1993.7,
          1993.8,
          1993.9,
          1994,
          1994.1,
          1994.2,
          1994.3,
          1994.4,
          1994.5,
          1994.6,
          1994.7,
          1994.8,
          1994.9,
          1995,
          1995.1,
          1995.2,
          1995.3,
          1995.4,
          1995.5,
          1995.6,
          1995.7,
          1995.8,
          1995.9,
          1996,
          1996.1,
          1996.2,
          1996.3,
          1996.4,
          1996.5,
          1996.6,
          1996.7,
          1996.8,
          1996.9,
          1997,
          1997.1,
          1997.2,
          1997.3,
          1997.4,
          1997.5,
          1997.6,
          1997.7,
          1997.8,
          1997.9,
          1998,
          1998.1,
          1998.2,
          1998.3,
          1998.4,
          1998.5,
          1998.6,
          1998.7,
          1998.8,
          1998.9,
          1999,
          1999.1,
          1999.2,
          1999.3,
          1999.4,
          1999.5,
          1999.6,
          1999.7,
          1999.8,
          1999.9,
          2000,
          2000.1,
          2000.2,
          2000.3,
          2000.4,
          2000.5,
          2000.6,
          2000.7,
          2000.8,
          2000.9,
          2001,
          2001.1,
          2001.2,
          2001.3,
          2001.4,
          2001.5,
          2001.6,
          2001.7,
          2001.8,
          2001.9,
          2002,
          2002.1,
          2002.2,
          2002.3,
          2002.4,
          2002.5,
          2002.6,
          2002.7,
          2002.8,
          2002.9,
          2003,
          2003.1,
          2003.2,
          2003.3,
          2003.4,
          2003.5,
          2003.6,
          2003.7,
          2003.8,
          2003.9,
          2004,
          2004.1,
          2004.2,
          2004.3,
          2004.4,
          2004.5,
          2004.6,
          2004.7,
          2004.8,
          2004.9,
          2005,
          2005.1,
          2005.2,
          2005.3,
          2005.4,
          2005.5,
          2005.6,
          2005.7,
          2005.8,
          2005.9,
          2006,
          2006.1,
          2006.2,
          2006.3,
          2006.4,
          2006.5,
          2006.6,
          2006.7,
          2006.8,
          2006.9,
          2007,
          2007.1,
          2007.2,
          2007.3,
          2007.4,
          2007.5,
          2007.6,
          2007.7,
          2007.8,
          2007.9,
          2008,
          2008.1,
          2008.2,
          2008.3,
          2008.4,
          2008.5,
          2008.6,
          2008.7,
          2008.8,
          2008.9,
          2009,
          2009.1,
          2009.2,
          2009.3,
          2009.4,
          2009.5,
          2009.6,
          2009.7,
          2009.8,
          2009.9,
          2010,
          2010.1,
          2010.2,
          2010.3,
          2010.4,
          2010.5,
          2010.6,
          2010.7,
          2010.8,
          2010.9,
          2011,
          2011.1,
          2011.2,
          2011.3,
          2011.4,
          2011.5,
          2011.6,
          2011.7,
          2011.8,
          2011.9,
          2012,
          2012.1,
          2012.2,
          2012.3,
          2012.4,
          2012.5,
          2012.6,
          2012.7,
          2012.8,
          2012.9,
          2013,
          2013.1,
          2013.2,
          2013.3,
          2013.4,
          2013.5,
          2013.6,
          2013.7,
          2013.8,
          2013.9,
          2014,
          2014.1,
          2014.2,
          2014.3,
          2014.4,
          2014.5,
          2014.6,
          2014.7,
          2014.8,
          2014.9,
          2015,
          2015.1,
          2015.2,
          2015.3,
          2015.4,
          2015.5,
          2015.6,
          2015.7,
          2015.8,
          2015.9,
          2016,
          2016.1,
          2016.2,
          2016.3,
          2016.4,
          2016.5,
          2016.6,
          2016.7,
          2016.8,
          2016.9,
          2017,
          2017.1,
          2017.2,
          2017.3,
          2017.4,
          2017.5,
          2017.6,
          2017.7,
          2017.8,
          2017.9,
          2018,
          2018.1,
          2018.2,
          2018.3,
          2018.4,
          2018.5,
          2018.6,
          2018.7,
          2018.8,
          2018.9,
          2019,
          2019.1,
          2019.2,
          2019.3,
          2019.4,
          2019.5,
          2019.6,
          2019.7,
          2019.8,
          2019.9,
          2020
         ],
         "xaxis": "x",
         "y": [
          0.8184694561540308,
          0.8069351923593462,
          0.7950477156616162,
          0.7998740644580626,
          0.8133226975209286,
          0.8314370637334395,
          0.8521688692303669,
          0.8745284956807519,
          0.8978948514754787,
          0.9221286474250914,
          0.9471348352821003,
          0.9727904153721343,
          0.9991820078743676,
          1.0264099748260194,
          1.054435583085948,
          1.083216254700386,
          1.1128676741659973,
          1.143552789654367,
          1.1753255561663751,
          1.2081222344278473,
          1.24182547620536,
          1.2765368426355028,
          1.3125325165104167,
          1.3499271038899352,
          1.3885903615091755,
          1.4282797760597306,
          1.469135139746476,
          1.511598080519969,
          1.5558396143861457,
          1.6016304235415597,
          1.6485728071543222,
          1.6968601054489862,
          1.7470196788079708,
          1.7991200604507143,
          1.8528429630318721,
          1.9081371362542698,
          1.965366705679614,
          2.024719733365214,
          2.086066031118395,
          2.1492431397728162,
          2.214458552277594,
          2.2820463411005276,
          2.3520687168006043,
          2.4243084330875555,
          2.498617944552744,
          2.5753478521957525,
          2.654955034296523,
          2.7374917592206973,
          2.822584735657927,
          2.9100332034749194,
          3.000315475863572,
          3.093911178088793,
          3.1907457297803066,
          3.2904706998904802,
          3.3932450569262556,
          3.4995807937914822,
          3.609625218356434,
          3.723165671126184,
          3.8401157824193555,
          3.960878607727282,
          4.08586193116225,
          4.215095543965177,
          4.348282198251242,
          4.485418295856778,
          4.627100441772461,
          4.77382778764893,
          4.9255675813785595,
          5.081847350029038,
          5.242715822677393,
          5.408945354310088,
          5.580994815895258,
          5.758667118496563,
          5.941655907675819,
          6.1303887528010526,
          6.325546294436819,
          6.5272791553248535,
          6.735299800354266,
          6.9496470802516335,
          7.171000941663591,
          7.399902560169704,
          7.636369542809933,
          7.880037798714666,
          8.131106328855314,
          8.390505796034239,
          8.658854206994226,
          8.936060977313494,
          9.221526236375968,
          9.515512212036812,
          9.819346207779219,
          10.13386073800866,
          10.458809551703517,
          10.793310524377953,
          11.137851842472628,
          11.493959250912786,
          11.862156858630538,
          12.241970044214883,
          12.633397449577739,
          13.037486399493844,
          13.455022358040335,
          13.8860482070785,
          14.330428283038188,
          14.788840811621949,
          15.262375119608356,
          15.7515624826746,
          16.25631516846013,
          16.776454411391267,
          17.312954836628762,
          17.867414893497244,
          18.44059064273136,
          19.032176835462863,
          19.641483634174396,
          20.269596108865162,
          20.918614233530622,
          21.589292660041725,
          22.28106726361993,
          22.994055533336564,
          23.729979375891624,
          24.490263602915686,
          25.275154425865807,
          26.084325257418477,
          26.91875426122193,
          27.780479598873,
          28.670690166975362,
          29.589422499054308,
          30.53617777758692,
          31.51229542083588,
          32.52062321002231,
          33.56279405437873,
          34.63859290440623,
          35.74681967095577,
          36.8890085633354,
          38.068748385198006,
          39.287673472895094,
          40.54511585100383,
          41.84096570647689,
          43.177950938349134,
          44.55889728491517,
          45.98459270410576,
          47.45444331451418,
          48.96969904899148,
          50.53388625780289,
          52.149496062270586,
          53.81698082243088,
          55.535420535503505,
          57.30654206770056,
          59.13516585144228,
          61.02462880112859,
          62.97513833287936,
          64.98466442400824,
          67.05509024414765,
          69.1924850034037,
          71.40040652404417,
          73.67833471120208,
          76.02537560775869,
          78.44558637082446,
          80.94455924396797,
          83.52436893102016,
          86.18406403412007,
          88.92477537363597,
          91.75235511098137,
          94.6720706375975,
          97.6854420563823,
          100.790809875837,
          103.9898244288139,
          107.29044394910245,
          110.69955942233547,
          114.21853626904706,
          117.84393484542532,
          121.57739032837996,
          125.42893180029282,
          129.40609541170875,
          133.50915207940636,
          137.73537958585956,
          142.09028061292742,
          146.58445845466633,
          151.22275117178225,
          156.00394979388892,
          160.9281459685673,
          166.00443435439996,
          171.24339492829375,
          176.64886939682282,
          182.2181555795926,
          187.95177808786917,
          193.86226348735536,
          199.963159143663,
          206.25832199956102,
          212.74189390975266,
          219.4120319653777,
          226.28566181785163,
          233.38260646695457,
          240.70742450948308,
          248.2491969917254,
          256.00535704022315,
          263.997038759019,
          272.2429121995237,
          280.7429167467525,
          289.49127364844617,
          298.499149506805,
          307.785453890971,
          317.35702726799383,
          327.2114651835426,
          337.35357260476167,
          347.8017056770823,
          358.5711077226202,
          369.665776517686,
          381.0800312393323,
          392.81908299878455,
          404.9099134136222,
          417.3765021621156,
          430.2228647397794,
          443.4337442394856,
          457.00777241742867,
          470.9781249531303,
          485.3738808626347,
          500.1949279336196,
          515.4289008113404,
          531.0917489029325,
          547.2165163492042,
          563.8157992009135,
          580.8825005168098,
          598.4171525413042,
          616.4492260911351,
          635.0088972896822,
          654.1031301621372,
          673.7169207264321,
          693.8494809989381,
          714.5435430582386,
          735.8428412508225,
          757.7533117698849,
          780.2436763554441,
          803.3060960879188,
          826.9941810159073,
          851.3544951249164,
          876.3821366101183,
          902.0494403705625,
          928.3787815394173,
          955.424109284892,
          983.2024393014649,
          1011.6938090896165,
          1040.8913321000553,
          1070.8410579728713,
          1101.5901283502567,
          1133.1421081627761,
          1165.4606638770126,
          1198.5402462592278,
          1232.4500374629843,
          1267.2522886736049,
          1302.9415989379077,
          1339.4523679273493,
          1376.776700067326,
          1415.0031189295173,
          1454.1877356495286,
          1494.3003970382606,
          1535.2886813458053,
          1577.1918807714878,
          1620.0876355138694,
          1663.9835719900611,
          1708.8247627401836,
          1754.5957361519181,
          1801.3715669978194,
          1849.2106743526615,
          1898.0909663874922,
          1947.929100526399,
          1998.7247755340964,
          2050.5907837135896,
          2103.5904180287826,
          2157.67020692017,
          2212.7062728282767,
          2268.7179341824562,
          2325.8418738298014,
          2384.108018127389,
          2443.4163472832106,
          2503.6956282287724,
          2565.028648577734,
          2627.497863970715,
          2691.061846734552,
          2755.600672363613,
          2821.1132725884436,
          2887.718965250001,
          2955.451876809841,
          3024.211605196792,
          3093.858406665272,
          3164.4434564203357,
          3236.1223986691834,
          3308.90166242586,
          3382.608663527386,
          3457.074581025447,
          3532.4134820815325,
          3608.8258958081547,
          3686.2834101670205,
          3764.5220078757507,
          3843.3993663708384,
          3923.0953525764266,
          4003.7347402833593,
          4085.1792593646996,
          4167.235131937479,
          4249.946760718705,
          4333.437017272649,
          4417.645376788725,
          4502.3819346641,
          4587.596508577498,
          4673.419098283787,
          4759.8845962907835,
          4846.84423001002,
          4934.065341104189,
          5021.5713677314325,
          5109.578178302254,
          5198.111718516998,
          5286.930773392546,
          5375.740382618952,
          5464.631984442287,
          5553.8449271862355,
          5643.313710050575,
          5732.741472348691,
          5822.037042591283,
          5911.384521832459,
          6000.826156219681,
          6090.162684675425,
          6179.177678218801,
          6267.951912815435,
          6356.65626050358,
          6445.229549859807,
          6533.381589174987,
          6620.943256662233,
          6708.119301444421,
          6795.103992482602,
          6881.7721796067235,
          6967.717837680706,
          7052.793785068529,
          7137.349427198201,
          7221.628388811872,
          7305.425454636323,
          7388.22360981705,
          7469.991677560316,
          7551.137881091265,
          7631.7148074341,
          7711.398955103243,
          7790.033245284526,
          7867.817239184134,
          7944.841567193521,
          8020.934267521502,
          8095.901024291781,
          8169.832057730398,
          8242.905467936042,
          8315.085764984487,
          8386.120547959858,
          8455.833995646271,
          8524.44294181758,
          8592.225256452846,
          8659.135462185985,
          8724.791751769651,
          8788.957013222785,
          8851.93052366333,
          8913.999684666178,
          8975.01755866357,
          9034.662288305863,
          9092.993337289066,
          9150.28766662032,
          9206.544064280046,
          9261.522619177738,
          9315.120452018215,
          9367.55827038028,
          9419.00571715619,
          9469.37093796327,
          9518.355414552858,
          9565.912398249195,
          9612.387269169196,
          9658.003241608121,
          9702.614268475787,
          9745.793256094536,
          9787.519102981887,
          9828.22019452421,
          9868.048269565552,
          9906.741040541076,
          9944.082620365605,
          9980.285420041582,
          10015.583133403834,
          10049.900305614745,
          10082.984449729396,
          10114.85668153102,
          10145.800719709347,
          10175.917674898054,
          10205.04449917272,
          10232.908160203955,
          10259.618343290138,
          10285.55956367627,
          10310.845705363812,
          10335.223415523378,
          10358.324851623149,
          10380.323377521672,
          10401.64899770029,
          10422.313367549341,
          10441.988479345633,
          10460.591761592339,
          10478.42732361823,
          10495.642574514863,
          10512.082761166039,
          10527.532689967447,
          10542.12276361302,
          10556.131105139402,
          10569.584962560702,
          10582.248993991503,
          10593.924731908273,
          10604.848113409944,
          10615.366556620684,
          10625.486305562332,
          10634.85346452695,
          10643.23762596795,
          10650.958883818457,
          10658.34764887225,
          10665.293178868047,
          10671.46249900593,
          10676.908209380952,
          10681.957923894897,
          10686.660201319964,
          10690.789076404735,
          10694.20703535192,
          10697.134658622861,
          10699.794217805622,
          10702.132833022804,
          10703.861613074458,
          10704.895416563559,
          10705.564818616163,
          10706.128978020155,
          10706.481128021547,
          10706.212025523826,
          10705.261128879638,
          10704.039801131696,
          10702.73854114337,
          10701.126319049226,
          10698.943954192591,
          10696.369764856063,
          10693.677913943957,
          10690.825332035065,
          10687.545073191628,
          10683.801781191385,
          10679.874771962986,
          10675.904692864506,
          10671.754415483574,
          10667.125297001916,
          10662.066336112188,
          10656.952574503088,
          10651.928480935914,
          10646.772554930838,
          10641.097850384125,
          10635.020489993221,
          10628.963309041515,
          10622.968215211393,
          10616.716663910038,
          10610.071096797597,
          10603.306422173991,
          10596.601725419972,
          10589.823728247324,
          10582.717184240755,
          10575.359851574565,
          10568.039582028607,
          10560.806530314134,
          10553.438830439827,
          10545.6961129201,
          10537.76150891529,
          10529.983173063723,
          10522.38700236977,
          10514.6417053563,
          10506.483383253317,
          10498.183080221277,
          10490.074361994984,
          10482.068790817062,
          10473.822579748967,
          10465.339125116338,
          10456.9359715908,
          10448.68464771983,
          10440.368345779332,
          10431.804076757991,
          10423.174131619553,
          10414.717294541279,
          10406.397809685588,
          10397.92932817552,
          10389.183130048019,
          10380.450933631968,
          10371.997662100115,
          10363.734332792508,
          10355.266091712347,
          10346.498791847858,
          10337.806534976344,
          10329.386761218379,
          10321.030246136943,
          10312.452394002717,
          10303.792583877803,
          10295.333876045795,
          10287.050438877404,
          10278.673088225318,
          10270.123385878524,
          10261.659338680569,
          10253.44072753964,
          10245.346892471553,
          10237.071775782973,
          10228.622935454994,
          10220.351521285736,
          10212.411703668513,
          10204.60352836828,
          10196.54517025248,
          10188.317752379236,
          10180.320584106386,
          10172.608845476943,
          10164.880952290057,
          10156.96907417004,
          10149.120124924817,
          10141.530873191725,
          10134.087328383517,
          10126.517237291453,
          10118.858780352293,
          10111.398191424745,
          10104.2058214532,
          10097.077522994414,
          10089.75203957157,
          10082.372691500324,
          10075.281284357114,
          10068.518864000778,
          10061.780560205349,
          10054.790925305451,
          10047.783989692762,
          10041.08935440597,
          10034.639462291765,
          10028.095696617822,
          10021.426131552875,
          10014.93594400254,
          10008.720945050647,
          10002.583083117544,
          9996.308290109913,
          9990.045232138615,
          9984.049311046041,
          9978.307721729869,
          9972.548288248858,
          9966.610456290371,
          9960.753069167426,
          9955.252982464628,
          9950.047888236588,
          9944.758309648267,
          9939.215681185678,
          9933.815369321064,
          9928.92483924937,
          9924.435377265037,
          9919.840047719721,
          9915.070639613905,
          9910.625711439297,
          9906.715902810327,
          9903.106413482907,
          9899.667865857256,
          9896.673722567311,
          9894.344573192204,
          9892.609175530699,
          9891.321515290107,
          9890.594276389931,
          9890.643503149633,
          9891.469482710003,
          9892.848174999974,
          9894.583086173296,
          9896.822817881655,
          9899.801448658729,
          9903.488814177523,
          9907.571674100074,
          9911.76617601755,
          9916.26346417323,
          9921.363629808602,
          9926.99351077841,
          9932.79961560748,
          9938.70245048161,
          9944.983625126944,
          9951.751734449688,
          9958.81283447353,
          9965.893449160956,
          9973.093663538086,
          9980.700646615165,
          9988.730853921903,
          9996.904985306257,
          10004.96995906732,
          10013.13999821273,
          10021.754805876988,
          10030.792459881612,
          10039.858514737814,
          10048.674795924455,
          10057.58683032651,
          10067.024989144897,
          10076.919176050225,
          10086.728707344191,
          10096.254284227365,
          10105.947399328685,
          10116.066075426768,
          10126.35616792522,
          10136.548751848393,
          10146.816585429198,
          10157.39090055913,
          10168.199012126386,
          10179.022284771178,
          10189.894208430207,
          10201.060664006844,
          10212.602965688675,
          10224.390941988786,
          10236.200581603043,
          10248.129556203734,
          10260.5236045118,
          10273.499581096812,
          10286.841213758402,
          10300.111316353345,
          10313.311494546491,
          10326.829506172966,
          10340.726805410213,
          10354.66364084571,
          10368.410631068135,
          10382.176443771074,
          10396.14587430933,
          10410.191803444068,
          10424.029637812822,
          10437.689662984694,
          10451.46190781895,
          10465.425081603296,
          10479.377205188626,
          10493.020681280348,
          10506.482724051248,
          10520.16238970662,
          10534.15432253935,
          10548.162093109897,
          10561.796448454937,
          10575.2514043755,
          10588.964166814194,
          10602.922296625966,
          10616.761122702328,
          10630.38687109366,
          10644.114313697208,
          10658.085662186073,
          10672.12315096624,
          10685.980191288167,
          10699.77860891935,
          10713.804520808206,
          10728.079044275284,
          10742.34323730221,
          10756.360310506527,
          10770.35470369654,
          10784.691097579689,
          10799.379895549919,
          10814.048242678102,
          10828.407433526034,
          10842.761221630662,
          10857.480544220609,
          10872.47387196053,
          10887.364834878745,
          10902.149599499016,
          10917.169700863808,
          10932.507030305633,
          10947.940791388826,
          10963.254197844235,
          10978.593923213411,
          10994.185840748622,
          11009.98453935748,
          11025.67933248918,
          11041.008549827857,
          11056.195577163126,
          11071.597884624796,
          11087.187966243659,
          11102.515912401068,
          11117.244069763417,
          11131.711957392328,
          11146.313227725115,
          11160.907932583366,
          11175.134538520237,
          11189.061581186324,
          11203.008804891491,
          11216.986125537887,
          11230.756853779392,
          11244.235975148094,
          11257.660629430686,
          11271.202841211794,
          11284.779243050523,
          11298.096461162728,
          11311.092942699866,
          11324.126553444414,
          11337.467692141949,
          11351.003093408845,
          11364.271299321605,
          11377.138178367257,
          11390.041838323461,
          11403.242180598721,
          11416.508224036894,
          11429.535042815987,
          11442.477631313632,
          11455.619528649826,
          11468.917454251103,
          11482.100389489906,
          11495.116635818185,
          11508.232320809695,
          11521.589111373254,
          11535.055698236001,
          11548.303895167594,
          11561.313750004581,
          11574.464932783048,
          11587.966695538413,
          11601.630570755391,
          11614.957835734238,
          11627.889638823795,
          11640.875970974193,
          11654.074852069083,
          11667.181576677518,
          11679.904995841458,
          11692.435991381775,
          11705.034024158918,
          11717.621996741305,
          11729.899802697812,
          11741.836433058856,
          11753.740575610711,
          11765.760494869028,
          11777.732231243175,
          11789.300613217521,
          11800.511151083754,
          11811.8091974491,
          11823.382364537756,
          11834.979590688625,
          11846.121230314546,
          11856.914527239152,
          11867.8642886663,
          11879.038010390348,
          11890.076329906333,
          11900.809135941821,
          11911.533788281165,
          11922.449879286321,
          11933.414221647785,
          11944.149766957044,
          11954.734440701213,
          11965.474799368292,
          11976.428423542691,
          11987.364887787291,
          11997.999286860877,
          12008.503560447865,
          12019.28270075679,
          12030.405437054758,
          12041.537147632453,
          12052.289458806612,
          12062.896248142797,
          12073.807496410558,
          12084.991957725,
          12096.06105216515,
          12106.939722892857,
          12117.974397269936,
          12129.311066078899,
          12140.767586525692,
          12152.111544967123,
          12163.500088251541,
          12175.245007447675,
          12187.386418335791,
          12199.68677260882,
          12211.927542039306,
          12224.334090019285,
          12237.25671372675,
          12250.689165769052,
          12264.238422771386,
          12277.519095855463,
          12290.73602221326,
          12304.234834866089,
          12317.89454430136,
          12331.270035806905,
          12344.278797094536,
          12357.25646362182,
          12370.30688495887,
          12383.18675591339,
          12395.631592417765,
          12407.816298699032,
          12420.055535304473,
          12432.345885150502,
          12444.371042074537,
          12455.931667041643,
          12467.335278398077,
          12478.932393307934,
          12490.670747419425,
          12502.110262039869,
          12513.01518228147,
          12523.829479682188,
          12535.01423019833,
          12546.468892368197,
          12557.585478675346,
          12568.18721353522,
          12578.810227017642,
          12589.728461187206,
          12600.648586199697,
          12611.289245405591,
          12621.858913866274,
          12632.602718625394,
          12643.427969072854,
          12654.086580832829,
          12664.612876764022,
          12675.266825454248,
          12686.117488059956,
          12696.993786166047,
          12707.617895108655,
          12718.087997484876,
          12728.80106675655,
          12739.901201132352,
          12751.155439401582,
          12762.0921463529,
          12772.771088855781,
          12783.691659208584,
          12794.963726570546,
          12806.247252302901,
          12817.326785253845,
          12828.443270592627,
          12839.784519693165,
          12851.20922795382,
          12862.411876235092,
          12873.407248717562,
          12884.483660419904,
          12895.716668875384,
          12906.886214645867,
          12917.636257678785,
          12928.066504037368,
          12938.638165111379,
          12949.5013146475,
          12960.349675920737,
          12970.681387281213,
          12980.653305063895,
          12990.794031879617,
          13001.130722110978,
          13011.277906864729,
          13021.120375455972,
          13030.977367782196,
          13040.991859018452,
          13050.984435341292,
          13060.729842837009,
          13070.36158888287,
          13080.14819977582,
          13090.10153606987,
          13099.967019897489,
          13109.505502504246,
          13118.945099206028,
          13128.678067603472,
          13138.737263230818,
          13148.748614218139,
          13158.333083459229,
          13167.766550531771,
          13177.496612073035,
          13187.45435606443,
          13197.239374283308,
          13206.818516507983,
          13216.536215189863,
          13226.481314230705,
          13236.428760735498,
          13246.174539279027,
          13255.903561910949,
          13265.87983093302,
          13276.082301766815,
          13286.21223865358,
          13296.065855447898,
          13305.93152384756,
          13316.169235032092,
          13326.730927791075,
          13337.14546096485,
          13347.097112430603,
          13356.923110311185,
          13366.952072572603,
          13376.968154508368,
          13386.538900015545,
          13395.723300470556,
          13404.860143241029,
          13413.896223439373,
          13436.771385864295,
          13529.474205463506,
          13942.623738154529,
          15675.914674515025,
          20632.976212717425,
          27670.55265261146,
          32366.71671812855,
          33752.796238488896,
          33829.140675061506,
          33605.31627638676,
          33333.03555499552,
          33088.18718445814,
          32990.89134843509,
          33471.05227819292,
          35333.54721274444,
          38052.27589912282,
          39714.73479748502,
          39930.32345437792,
          39581.78769862315,
          39108.56198698179,
          38619.441613717674,
          38149.72275891996,
          37761.515794879924,
          37679.59805616293,
          38322.03026766506,
          39406.80536790298,
          39930.156940495086,
          39694.723262882486,
          39170.00324129351,
          38589.5185602366,
          38012.319067318494,
          37460.379813306674,
          36984.72369452968,
          36779.35994141246,
          37203.15504628755,
          38008.88653029796,
          38330.69248151775,
          38005.2328546362,
          37441.376987714364,
          36837.040586211646,
          36241.41536129013,
          35674.5731013223,
          35186.31452427595,
          34966.28855931566,
          35366.34679990951,
          36135.67520973639,
          36420.94423786767,
          36067.09998328439,
          35477.03424218611,
          34846.89063725219,
          34223.581953609,
          33620.83262901194,
          33062.57789581019,
          32637.033286698203,
          32509.999403835394,
          32562.2514985035,
          32387.45756819425,
          31911.10667746541,
          31325.030135064862,
          30723.8588815374,
          30128.07728169053,
          29534.505169609045,
          28914.38557410577,
          28155.173334067666,
          27050.576849642184,
          25748.499534541013,
          24748.804227474233,
          24140.736464649475,
          23685.62093419273,
          23264.048621053254,
          22842.60815646743,
          22409.19450983238,
          21956.27315416751,
          21459.2922657177,
          20867.760371515513,
          20226.365636429236,
          19674.817331857143,
          19238.49888713883,
          18851.582266295598,
          18481.829180138142,
          18121.699544700354,
          17770.815412276366,
          17435.245686893562,
          17140.680796879533,
          16933.151022150643,
          16778.45464571044,
          16563.457955948084,
          16267.652868525647,
          15944.569085386838,
          15618.956923250824,
          15296.24369709115,
          14986.594690993279,
          14741.487251441675,
          14758.62167991569,
          15390.611628350423,
          16363.901118012534,
          16808.23193219265,
          16587.29825996278,
          16125.401099551778,
          15623.794318371969,
          15128.214500230944,
          14646.600583546251,
          14180.850654694928,
          13731.394506018587,
          13298.931293375079,
          12883.71433400465,
          12485.272202931184,
          12103.28995507648,
          11737.613705952721,
          11389.212907876565,
          11061.550193613648,
          10757.143411876441,
          10475.284677705771,
          10217.110395013593,
          9988.502627353464,
          9779.259659451416,
          9563.343572432452,
          9335.987672203239,
          9108.467687722352,
          8884.556866006755,
          8662.607807792267,
          8440.84730929821,
          8222.112487959304,
          8018.101642981932,
          7846.860357848591,
          7697.488992689306,
          7532.366171724448,
          7345.7253492440395,
          7156.054996382547,
          6972.211837235631,
          6796.4840981338475,
          6629.992533836836,
          6475.772775718204,
          6346.264899422299,
          6264.307922139714,
          6210.874440772248,
          6126.58031447734,
          6001.570179862954,
          5864.67362540256,
          5730.104515317602,
          5601.854003596665,
          5481.056123871203,
          5367.288824988156,
          5259.07210561531,
          5154.253133752334,
          5050.601070430676,
          4946.894517852577,
          4843.44175810736,
          4741.362607942761,
          4641.704469784936,
          4545.1309287376525,
          4451.845996792299,
          4361.94640746471,
          4275.508162687818,
          4192.577835084585,
          4113.233567327708,
          4037.2993100833773,
          3964.3592572009484,
          3894.045227815002,
          3825.983013253791,
          3759.713710005645,
          3694.839637926044,
          3631.3098625266684,
          3569.3214506224203,
          3508.7535319350027,
          3448.932393504414,
          3389.3752287938596,
          3330.35222980179,
          3272.45606751223,
          3216.018708769353,
          3160.885767624456,
          3106.834746402223,
          3053.9998661778563,
          3002.723426471441,
          2953.2277689811394,
          2905.3931747573397,
          2858.9685609751277,
          2813.976020502841,
          2770.5897596410405,
          2729.103177899505,
          2690.025606224074,
          2653.608747840116,
          2619.677458130878,
          2587.918632769951,
          2558.2822773767566,
          2531.2897675494783,
          2507.450319850835,
          2486.5350091230493,
          2467.7784171015796,
          2450.3393718546113,
          2433.5255472364643,
          2417.0272130112744,
          2400.703598371501,
          2384.411528130735,
          2367.8677297973218,
          2350.3210258314134,
          2331.105228598894,
          2310.3753773052536,
          2288.8638586806424,
          2267.281178424694,
          2246.193036526652,
          2225.936284030606,
          2206.581071909936,
          2188.1816726545,
          2170.9592714848955,
          2155.210278288965,
          2140.918900096828,
          2127.7416635448913,
          2115.3675755470767,
          2103.5575870640014,
          2092.100017056657,
          2080.9162987820373,
          2070.0011614664054,
          2059.3758711936903,
          2049.1491241695976,
          2039.5862281791176,
          2031.0286544733622,
          2023.5042743329539,
          2016.7735670975007,
          2010.5910082727673,
          2004.7828535597412,
          1999.2415076171858,
          1993.8560205238791,
          1988.5818085535147,
          1983.3961032326238,
          1978.2431956076402,
          1973.1156295418214,
          1968.038421916101,
          1963.0035517603892,
          1957.9920628236882,
          1953.0199088825007,
          1948.1166787802488,
          1943.2710431769137,
          1938.4286766465702,
          1933.4922482628535,
          1928.2806016152335,
          1922.625189168335,
          1916.5369999037446,
          1910.1706014254619,
          1903.654549334452,
          1897.0344413648363,
          1890.3206576703863,
          1883.5518323502042,
          1876.7578182690731,
          1869.7925674361682,
          1862.3394811351945,
          1854.2259688191248,
          1845.600481476618,
          1836.7262052672731,
          1827.8121359841934,
          1818.9339430817986,
          1810.0948840228307,
          1801.3644167772345,
          1792.8943463965913,
          1784.9842187591855,
          1778.1250553277146,
          1772.4950425931302,
          1767.8077942692255,
          1763.7226987119625,
          1759.9767821118003,
          1756.376293107955,
          1752.813028252516,
          1749.292478959253,
          1745.8417790581723,
          1742.563888649583,
          1739.5929835016036,
          1736.8854578221858,
          1734.2750681931193,
          1731.6899742142523,
          1729.3695358625484,
          1727.9201119676738,
          1727.7752690500533,
          1728.7646873215526,
          1730.3666558180569,
          1731.9945026730954,
          1733.2533517628285,
          1734.076969128484,
          1734.594281392193,
          1734.8689904465916,
          1734.675010047028,
          1733.568536767982,
          1731.2007672553466,
          1727.6776337310935,
          1723.4384300364209,
          1718.8341979599381,
          1713.9590047123966,
          1708.886639208748,
          1703.791574392286,
          1698.8055426138258,
          1694.064657410142,
          1689.6789591005022,
          1685.7083359043133,
          1682.1598570700298,
          1678.9360907779144,
          1675.9076966752443,
          1672.9567578482347,
          1670.004766318873,
          1667.0288281297974,
          1664.0174511649884,
          1661.0339684382427,
          1658.2059039068179,
          1655.6143481162467,
          1653.2335525785882,
          1650.9865906831437,
          1648.7876719290916,
          1646.5712045808477,
          1644.3314183849611,
          1642.0584820626684,
          1639.712091239545,
          1637.17149568293,
          1634.213216765243,
          1630.6353139254816,
          1626.4998442369053,
          1622.0957170456386,
          1617.6790402883544,
          1613.3334555654396,
          1609.0181747291322,
          1604.6920070090312,
          1600.3488905923546,
          1596.1065206602257,
          1592.153390563611,
          1588.5957530209268,
          1585.4134680983188,
          1582.5015347601504,
          1579.7046834841829,
          1576.8502709946865,
          1573.847781287501,
          1570.6893867504427,
          1567.423646941863,
          1564.1408197253818,
          1560.9382602991593,
          1557.8988792009898,
          1555.0218184637706,
          1552.2637328251255,
          1549.6039914932367,
          1547.0522169195988,
          1544.6574990983818,
          1542.4463156836719,
          1540.3762471623913,
          1538.3496567629718
         ],
         "yaxis": "y"
        },
        {
         "hovertemplate": "x=%{x}<br>y=%{y}<extra></extra>",
         "legendgroup": "",
         "marker": {
          "color": "red",
          "symbol": "circle"
         },
         "mode": "markers",
         "name": "",
         "orientation": "v",
         "showlegend": false,
         "type": "scatter",
         "x": [
          2011,
          2012,
          2013,
          2014,
          2015,
          2016,
          2017,
          2018,
          2019
         ],
         "xaxis": "x",
         "y": [
          1495,
          1485,
          1369,
          1405,
          1642,
          1555,
          1440,
          1468,
          1417
         ],
         "yaxis": "y"
        }
       ],
       "layout": {
        "template": {
         "data": {
          "bar": [
           {
            "error_x": {
             "color": "#2a3f5f"
            },
            "error_y": {
             "color": "#2a3f5f"
            },
            "marker": {
             "line": {
              "color": "#E5ECF6",
              "width": 0.5
             },
             "pattern": {
              "fillmode": "overlay",
              "size": 10,
              "solidity": 0.2
             }
            },
            "type": "bar"
           }
          ],
          "barpolar": [
           {
            "marker": {
             "line": {
              "color": "#E5ECF6",
              "width": 0.5
             },
             "pattern": {
              "fillmode": "overlay",
              "size": 10,
              "solidity": 0.2
             }
            },
            "type": "barpolar"
           }
          ],
          "carpet": [
           {
            "aaxis": {
             "endlinecolor": "#2a3f5f",
             "gridcolor": "white",
             "linecolor": "white",
             "minorgridcolor": "white",
             "startlinecolor": "#2a3f5f"
            },
            "baxis": {
             "endlinecolor": "#2a3f5f",
             "gridcolor": "white",
             "linecolor": "white",
             "minorgridcolor": "white",
             "startlinecolor": "#2a3f5f"
            },
            "type": "carpet"
           }
          ],
          "choropleth": [
           {
            "colorbar": {
             "outlinewidth": 0,
             "ticks": ""
            },
            "type": "choropleth"
           }
          ],
          "contour": [
           {
            "colorbar": {
             "outlinewidth": 0,
             "ticks": ""
            },
            "colorscale": [
             [
              0,
              "#0d0887"
             ],
             [
              0.1111111111111111,
              "#46039f"
             ],
             [
              0.2222222222222222,
              "#7201a8"
             ],
             [
              0.3333333333333333,
              "#9c179e"
             ],
             [
              0.4444444444444444,
              "#bd3786"
             ],
             [
              0.5555555555555556,
              "#d8576b"
             ],
             [
              0.6666666666666666,
              "#ed7953"
             ],
             [
              0.7777777777777778,
              "#fb9f3a"
             ],
             [
              0.8888888888888888,
              "#fdca26"
             ],
             [
              1,
              "#f0f921"
             ]
            ],
            "type": "contour"
           }
          ],
          "contourcarpet": [
           {
            "colorbar": {
             "outlinewidth": 0,
             "ticks": ""
            },
            "type": "contourcarpet"
           }
          ],
          "heatmap": [
           {
            "colorbar": {
             "outlinewidth": 0,
             "ticks": ""
            },
            "colorscale": [
             [
              0,
              "#0d0887"
             ],
             [
              0.1111111111111111,
              "#46039f"
             ],
             [
              0.2222222222222222,
              "#7201a8"
             ],
             [
              0.3333333333333333,
              "#9c179e"
             ],
             [
              0.4444444444444444,
              "#bd3786"
             ],
             [
              0.5555555555555556,
              "#d8576b"
             ],
             [
              0.6666666666666666,
              "#ed7953"
             ],
             [
              0.7777777777777778,
              "#fb9f3a"
             ],
             [
              0.8888888888888888,
              "#fdca26"
             ],
             [
              1,
              "#f0f921"
             ]
            ],
            "type": "heatmap"
           }
          ],
          "heatmapgl": [
           {
            "colorbar": {
             "outlinewidth": 0,
             "ticks": ""
            },
            "colorscale": [
             [
              0,
              "#0d0887"
             ],
             [
              0.1111111111111111,
              "#46039f"
             ],
             [
              0.2222222222222222,
              "#7201a8"
             ],
             [
              0.3333333333333333,
              "#9c179e"
             ],
             [
              0.4444444444444444,
              "#bd3786"
             ],
             [
              0.5555555555555556,
              "#d8576b"
             ],
             [
              0.6666666666666666,
              "#ed7953"
             ],
             [
              0.7777777777777778,
              "#fb9f3a"
             ],
             [
              0.8888888888888888,
              "#fdca26"
             ],
             [
              1,
              "#f0f921"
             ]
            ],
            "type": "heatmapgl"
           }
          ],
          "histogram": [
           {
            "marker": {
             "pattern": {
              "fillmode": "overlay",
              "size": 10,
              "solidity": 0.2
             }
            },
            "type": "histogram"
           }
          ],
          "histogram2d": [
           {
            "colorbar": {
             "outlinewidth": 0,
             "ticks": ""
            },
            "colorscale": [
             [
              0,
              "#0d0887"
             ],
             [
              0.1111111111111111,
              "#46039f"
             ],
             [
              0.2222222222222222,
              "#7201a8"
             ],
             [
              0.3333333333333333,
              "#9c179e"
             ],
             [
              0.4444444444444444,
              "#bd3786"
             ],
             [
              0.5555555555555556,
              "#d8576b"
             ],
             [
              0.6666666666666666,
              "#ed7953"
             ],
             [
              0.7777777777777778,
              "#fb9f3a"
             ],
             [
              0.8888888888888888,
              "#fdca26"
             ],
             [
              1,
              "#f0f921"
             ]
            ],
            "type": "histogram2d"
           }
          ],
          "histogram2dcontour": [
           {
            "colorbar": {
             "outlinewidth": 0,
             "ticks": ""
            },
            "colorscale": [
             [
              0,
              "#0d0887"
             ],
             [
              0.1111111111111111,
              "#46039f"
             ],
             [
              0.2222222222222222,
              "#7201a8"
             ],
             [
              0.3333333333333333,
              "#9c179e"
             ],
             [
              0.4444444444444444,
              "#bd3786"
             ],
             [
              0.5555555555555556,
              "#d8576b"
             ],
             [
              0.6666666666666666,
              "#ed7953"
             ],
             [
              0.7777777777777778,
              "#fb9f3a"
             ],
             [
              0.8888888888888888,
              "#fdca26"
             ],
             [
              1,
              "#f0f921"
             ]
            ],
            "type": "histogram2dcontour"
           }
          ],
          "mesh3d": [
           {
            "colorbar": {
             "outlinewidth": 0,
             "ticks": ""
            },
            "type": "mesh3d"
           }
          ],
          "parcoords": [
           {
            "line": {
             "colorbar": {
              "outlinewidth": 0,
              "ticks": ""
             }
            },
            "type": "parcoords"
           }
          ],
          "pie": [
           {
            "automargin": true,
            "type": "pie"
           }
          ],
          "scatter": [
           {
            "fillpattern": {
             "fillmode": "overlay",
             "size": 10,
             "solidity": 0.2
            },
            "type": "scatter"
           }
          ],
          "scatter3d": [
           {
            "line": {
             "colorbar": {
              "outlinewidth": 0,
              "ticks": ""
             }
            },
            "marker": {
             "colorbar": {
              "outlinewidth": 0,
              "ticks": ""
             }
            },
            "type": "scatter3d"
           }
          ],
          "scattercarpet": [
           {
            "marker": {
             "colorbar": {
              "outlinewidth": 0,
              "ticks": ""
             }
            },
            "type": "scattercarpet"
           }
          ],
          "scattergeo": [
           {
            "marker": {
             "colorbar": {
              "outlinewidth": 0,
              "ticks": ""
             }
            },
            "type": "scattergeo"
           }
          ],
          "scattergl": [
           {
            "marker": {
             "colorbar": {
              "outlinewidth": 0,
              "ticks": ""
             }
            },
            "type": "scattergl"
           }
          ],
          "scattermapbox": [
           {
            "marker": {
             "colorbar": {
              "outlinewidth": 0,
              "ticks": ""
             }
            },
            "type": "scattermapbox"
           }
          ],
          "scatterpolar": [
           {
            "marker": {
             "colorbar": {
              "outlinewidth": 0,
              "ticks": ""
             }
            },
            "type": "scatterpolar"
           }
          ],
          "scatterpolargl": [
           {
            "marker": {
             "colorbar": {
              "outlinewidth": 0,
              "ticks": ""
             }
            },
            "type": "scatterpolargl"
           }
          ],
          "scatterternary": [
           {
            "marker": {
             "colorbar": {
              "outlinewidth": 0,
              "ticks": ""
             }
            },
            "type": "scatterternary"
           }
          ],
          "surface": [
           {
            "colorbar": {
             "outlinewidth": 0,
             "ticks": ""
            },
            "colorscale": [
             [
              0,
              "#0d0887"
             ],
             [
              0.1111111111111111,
              "#46039f"
             ],
             [
              0.2222222222222222,
              "#7201a8"
             ],
             [
              0.3333333333333333,
              "#9c179e"
             ],
             [
              0.4444444444444444,
              "#bd3786"
             ],
             [
              0.5555555555555556,
              "#d8576b"
             ],
             [
              0.6666666666666666,
              "#ed7953"
             ],
             [
              0.7777777777777778,
              "#fb9f3a"
             ],
             [
              0.8888888888888888,
              "#fdca26"
             ],
             [
              1,
              "#f0f921"
             ]
            ],
            "type": "surface"
           }
          ],
          "table": [
           {
            "cells": {
             "fill": {
              "color": "#EBF0F8"
             },
             "line": {
              "color": "white"
             }
            },
            "header": {
             "fill": {
              "color": "#C8D4E3"
             },
             "line": {
              "color": "white"
             }
            },
            "type": "table"
           }
          ]
         },
         "layout": {
          "annotationdefaults": {
           "arrowcolor": "#2a3f5f",
           "arrowhead": 0,
           "arrowwidth": 1
          },
          "autotypenumbers": "strict",
          "coloraxis": {
           "colorbar": {
            "outlinewidth": 0,
            "ticks": ""
           }
          },
          "colorscale": {
           "diverging": [
            [
             0,
             "#8e0152"
            ],
            [
             0.1,
             "#c51b7d"
            ],
            [
             0.2,
             "#de77ae"
            ],
            [
             0.3,
             "#f1b6da"
            ],
            [
             0.4,
             "#fde0ef"
            ],
            [
             0.5,
             "#f7f7f7"
            ],
            [
             0.6,
             "#e6f5d0"
            ],
            [
             0.7,
             "#b8e186"
            ],
            [
             0.8,
             "#7fbc41"
            ],
            [
             0.9,
             "#4d9221"
            ],
            [
             1,
             "#276419"
            ]
           ],
           "sequential": [
            [
             0,
             "#0d0887"
            ],
            [
             0.1111111111111111,
             "#46039f"
            ],
            [
             0.2222222222222222,
             "#7201a8"
            ],
            [
             0.3333333333333333,
             "#9c179e"
            ],
            [
             0.4444444444444444,
             "#bd3786"
            ],
            [
             0.5555555555555556,
             "#d8576b"
            ],
            [
             0.6666666666666666,
             "#ed7953"
            ],
            [
             0.7777777777777778,
             "#fb9f3a"
            ],
            [
             0.8888888888888888,
             "#fdca26"
            ],
            [
             1,
             "#f0f921"
            ]
           ],
           "sequentialminus": [
            [
             0,
             "#0d0887"
            ],
            [
             0.1111111111111111,
             "#46039f"
            ],
            [
             0.2222222222222222,
             "#7201a8"
            ],
            [
             0.3333333333333333,
             "#9c179e"
            ],
            [
             0.4444444444444444,
             "#bd3786"
            ],
            [
             0.5555555555555556,
             "#d8576b"
            ],
            [
             0.6666666666666666,
             "#ed7953"
            ],
            [
             0.7777777777777778,
             "#fb9f3a"
            ],
            [
             0.8888888888888888,
             "#fdca26"
            ],
            [
             1,
             "#f0f921"
            ]
           ]
          },
          "colorway": [
           "#636efa",
           "#EF553B",
           "#00cc96",
           "#ab63fa",
           "#FFA15A",
           "#19d3f3",
           "#FF6692",
           "#B6E880",
           "#FF97FF",
           "#FECB52"
          ],
          "font": {
           "color": "#2a3f5f"
          },
          "geo": {
           "bgcolor": "white",
           "lakecolor": "white",
           "landcolor": "#E5ECF6",
           "showlakes": true,
           "showland": true,
           "subunitcolor": "white"
          },
          "hoverlabel": {
           "align": "left"
          },
          "hovermode": "closest",
          "mapbox": {
           "style": "light"
          },
          "paper_bgcolor": "white",
          "plot_bgcolor": "#E5ECF6",
          "polar": {
           "angularaxis": {
            "gridcolor": "white",
            "linecolor": "white",
            "ticks": ""
           },
           "bgcolor": "#E5ECF6",
           "radialaxis": {
            "gridcolor": "white",
            "linecolor": "white",
            "ticks": ""
           }
          },
          "scene": {
           "xaxis": {
            "backgroundcolor": "#E5ECF6",
            "gridcolor": "white",
            "gridwidth": 2,
            "linecolor": "white",
            "showbackground": true,
            "ticks": "",
            "zerolinecolor": "white"
           },
           "yaxis": {
            "backgroundcolor": "#E5ECF6",
            "gridcolor": "white",
            "gridwidth": 2,
            "linecolor": "white",
            "showbackground": true,
            "ticks": "",
            "zerolinecolor": "white"
           },
           "zaxis": {
            "backgroundcolor": "#E5ECF6",
            "gridcolor": "white",
            "gridwidth": 2,
            "linecolor": "white",
            "showbackground": true,
            "ticks": "",
            "zerolinecolor": "white"
           }
          },
          "shapedefaults": {
           "line": {
            "color": "#2a3f5f"
           }
          },
          "ternary": {
           "aaxis": {
            "gridcolor": "white",
            "linecolor": "white",
            "ticks": ""
           },
           "baxis": {
            "gridcolor": "white",
            "linecolor": "white",
            "ticks": ""
           },
           "bgcolor": "#E5ECF6",
           "caxis": {
            "gridcolor": "white",
            "linecolor": "white",
            "ticks": ""
           }
          },
          "title": {
           "x": 0.05
          },
          "xaxis": {
           "automargin": true,
           "gridcolor": "white",
           "linecolor": "white",
           "ticks": "",
           "title": {
            "standoff": 15
           },
           "zerolinecolor": "white",
           "zerolinewidth": 2
          },
          "yaxis": {
           "automargin": true,
           "gridcolor": "white",
           "linecolor": "white",
           "ticks": "",
           "title": {
            "standoff": 15
           },
           "zerolinecolor": "white",
           "zerolinewidth": 2
          }
         }
        },
        "title": {
         "text": "Modelled vs Data",
         "x": 0.5
        },
        "xaxis": {
         "title": {
          "text": "Year"
         }
        },
        "yaxis": {
         "title": {
          "text": "Population"
         }
        }
       }
      }
     },
     "metadata": {},
     "output_type": "display_data"
    }
   ],
   "source": [
    "notif_1 = px.line(\n",
    "    derived_df_0,\n",
    "    x=derived_df_0.index,\n",
    "    y=\"notifications\",\n",
    ")\n",
    "notif_2 = px.scatter(x= plots['notifications']['times'], y = plots['notifications']['values'])\n",
    "notif_2.update_traces(marker=dict(color=\"red\"))\n",
    "notif_plot = go.Figure(\n",
    "    data=notif_1.data + notif_2.data,\n",
    ")\n",
    "notif_plot.update_layout(\n",
    "    title=\"Modelled vs Data\", title_x=0.5, xaxis_title=\"Year\", yaxis_title=\"Population\"\n",
    ")\n",
    "notif_plot.show()"
   ]
  }
 ],
 "metadata": {
  "kernelspec": {
   "display_name": "autumn",
   "language": "python",
   "name": "python3"
  },
  "language_info": {
   "codemirror_mode": {
    "name": "ipython",
    "version": 3
   },
   "file_extension": ".py",
   "mimetype": "text/x-python",
   "name": "python",
   "nbconvert_exporter": "python",
   "pygments_lexer": "ipython3",
   "version": "3.10.0"
  },
  "orig_nbformat": 4,
  "vscode": {
   "interpreter": {
    "hash": "cdc1db7c93b6868ea0fedcce5cd81a1f74606c1851ad278abbacefb9281e55af"
   }
  }
 },
 "nbformat": 4,
 "nbformat_minor": 2
}
