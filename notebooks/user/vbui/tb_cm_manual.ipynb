{
 "cells": [
  {
   "cell_type": "code",
   "execution_count": 1,
   "metadata": {},
   "outputs": [],
   "source": [
    "import warnings\n",
    "from typing import List\n",
    "\n",
    "import pandas as pd\n",
    "import plotly.graph_objects as go\n",
    "import plotly.express as px\n",
    "from autumn.core.project import get_project\n",
    "from autumn.settings import Region, Models\n",
    "from autumn.core import inputs\n",
    "from autumn.core.utils.display import pretty_print\n",
    "from autumn.core.inputs.tb_camau import queries\n",
    "from autumn.core.inputs import get_death_rates_by_agegroup\n",
    "import pathlib"
   ]
  },
  {
   "cell_type": "code",
   "execution_count": 2,
   "metadata": {},
   "outputs": [],
   "source": [
    "warnings.filterwarnings(\"ignore\")\n",
    "pd.options.plotting.backend = \"plotly\""
   ]
  },
  {
   "cell_type": "code",
   "execution_count": 3,
   "metadata": {},
   "outputs": [],
   "source": [
    "region = Region.CAMAU\n",
    "model = Models.TBD2\n",
    "p = get_project(model, region, reload=True)\n",
    "baseline_params = p.param_set.baseline\n",
    "plots = p.plots\n",
    "iso3 = baseline_params['country']['iso3']\n",
    "source_iso3 = baseline_params['age_mixing']['source_iso3']\n",
    "age_adjust = baseline_params['age_mixing']['age_adjust']\n",
    "age_string_map = {\n",
    "    0: \"0-4\",\n",
    "    5: \"5-14\",\n",
    "    15: \"15-34\",\n",
    "    35: \"35-49\",\n",
    "    50: \"50+\",\n",
    "}"
   ]
  },
  {
   "cell_type": "markdown",
   "metadata": {},
   "source": [
    "## Population"
   ]
  },
  {
   "cell_type": "code",
   "execution_count": 4,
   "metadata": {},
   "outputs": [
    {
     "name": "stdout",
     "output_type": "stream",
     "text": [
      "Modelled age groups are [0, 5, 15, 35, 50]\n"
     ]
    }
   ],
   "source": [
    "modelled_age_groups = baseline_params[\"age_breakpoints\"]\n",
    "print(f\"Modelled age groups are {modelled_age_groups}\")"
   ]
  },
  {
   "cell_type": "code",
   "execution_count": 5,
   "metadata": {},
   "outputs": [],
   "source": [
    "csv_path = pathlib.Path('camau.csv')"
   ]
  },
  {
   "cell_type": "code",
   "execution_count": 6,
   "metadata": {},
   "outputs": [
    {
     "data": {
      "application/vnd.plotly.v1+json": {
       "config": {
        "plotlyServerURL": "https://plot.ly"
       },
       "data": [
        {
         "hovertemplate": "variable=population<br>year=%{x}<br>value=%{y}<extra></extra>",
         "legendgroup": "population",
         "line": {
          "color": "#636efa",
          "dash": "solid"
         },
         "marker": {
          "symbol": "circle"
         },
         "mode": "lines",
         "name": "population",
         "orientation": "v",
         "showlegend": true,
         "type": "scatter",
         "x": [
          1995,
          1996,
          1997,
          1998,
          1999,
          2000,
          2001,
          2002,
          2003,
          2004,
          2005,
          2006,
          2007,
          2008,
          2009,
          2010,
          2011,
          2012,
          2013,
          2014,
          2015,
          2016,
          2017,
          2018,
          2019
         ],
         "xaxis": "x",
         "y": [
          1041800,
          1061600,
          1081100,
          1101800,
          1123500,
          1133900,
          1145200,
          1155300,
          1164500,
          1174400,
          1182900,
          1188700,
          1195200,
          1201700,
          1207100,
          1205840,
          1204500,
          1203460,
          1202070,
          1200740,
          1199500,
          1198100,
          1197000,
          1195600,
          1194300
         ],
         "yaxis": "y"
        }
       ],
       "layout": {
        "legend": {
         "title": {
          "text": "variable"
         },
         "tracegroupgap": 0
        },
        "margin": {
         "t": 60
        },
        "template": {
         "data": {
          "bar": [
           {
            "error_x": {
             "color": "#2a3f5f"
            },
            "error_y": {
             "color": "#2a3f5f"
            },
            "marker": {
             "line": {
              "color": "#E5ECF6",
              "width": 0.5
             },
             "pattern": {
              "fillmode": "overlay",
              "size": 10,
              "solidity": 0.2
             }
            },
            "type": "bar"
           }
          ],
          "barpolar": [
           {
            "marker": {
             "line": {
              "color": "#E5ECF6",
              "width": 0.5
             },
             "pattern": {
              "fillmode": "overlay",
              "size": 10,
              "solidity": 0.2
             }
            },
            "type": "barpolar"
           }
          ],
          "carpet": [
           {
            "aaxis": {
             "endlinecolor": "#2a3f5f",
             "gridcolor": "white",
             "linecolor": "white",
             "minorgridcolor": "white",
             "startlinecolor": "#2a3f5f"
            },
            "baxis": {
             "endlinecolor": "#2a3f5f",
             "gridcolor": "white",
             "linecolor": "white",
             "minorgridcolor": "white",
             "startlinecolor": "#2a3f5f"
            },
            "type": "carpet"
           }
          ],
          "choropleth": [
           {
            "colorbar": {
             "outlinewidth": 0,
             "ticks": ""
            },
            "type": "choropleth"
           }
          ],
          "contour": [
           {
            "colorbar": {
             "outlinewidth": 0,
             "ticks": ""
            },
            "colorscale": [
             [
              0,
              "#0d0887"
             ],
             [
              0.1111111111111111,
              "#46039f"
             ],
             [
              0.2222222222222222,
              "#7201a8"
             ],
             [
              0.3333333333333333,
              "#9c179e"
             ],
             [
              0.4444444444444444,
              "#bd3786"
             ],
             [
              0.5555555555555556,
              "#d8576b"
             ],
             [
              0.6666666666666666,
              "#ed7953"
             ],
             [
              0.7777777777777778,
              "#fb9f3a"
             ],
             [
              0.8888888888888888,
              "#fdca26"
             ],
             [
              1,
              "#f0f921"
             ]
            ],
            "type": "contour"
           }
          ],
          "contourcarpet": [
           {
            "colorbar": {
             "outlinewidth": 0,
             "ticks": ""
            },
            "type": "contourcarpet"
           }
          ],
          "heatmap": [
           {
            "colorbar": {
             "outlinewidth": 0,
             "ticks": ""
            },
            "colorscale": [
             [
              0,
              "#0d0887"
             ],
             [
              0.1111111111111111,
              "#46039f"
             ],
             [
              0.2222222222222222,
              "#7201a8"
             ],
             [
              0.3333333333333333,
              "#9c179e"
             ],
             [
              0.4444444444444444,
              "#bd3786"
             ],
             [
              0.5555555555555556,
              "#d8576b"
             ],
             [
              0.6666666666666666,
              "#ed7953"
             ],
             [
              0.7777777777777778,
              "#fb9f3a"
             ],
             [
              0.8888888888888888,
              "#fdca26"
             ],
             [
              1,
              "#f0f921"
             ]
            ],
            "type": "heatmap"
           }
          ],
          "heatmapgl": [
           {
            "colorbar": {
             "outlinewidth": 0,
             "ticks": ""
            },
            "colorscale": [
             [
              0,
              "#0d0887"
             ],
             [
              0.1111111111111111,
              "#46039f"
             ],
             [
              0.2222222222222222,
              "#7201a8"
             ],
             [
              0.3333333333333333,
              "#9c179e"
             ],
             [
              0.4444444444444444,
              "#bd3786"
             ],
             [
              0.5555555555555556,
              "#d8576b"
             ],
             [
              0.6666666666666666,
              "#ed7953"
             ],
             [
              0.7777777777777778,
              "#fb9f3a"
             ],
             [
              0.8888888888888888,
              "#fdca26"
             ],
             [
              1,
              "#f0f921"
             ]
            ],
            "type": "heatmapgl"
           }
          ],
          "histogram": [
           {
            "marker": {
             "pattern": {
              "fillmode": "overlay",
              "size": 10,
              "solidity": 0.2
             }
            },
            "type": "histogram"
           }
          ],
          "histogram2d": [
           {
            "colorbar": {
             "outlinewidth": 0,
             "ticks": ""
            },
            "colorscale": [
             [
              0,
              "#0d0887"
             ],
             [
              0.1111111111111111,
              "#46039f"
             ],
             [
              0.2222222222222222,
              "#7201a8"
             ],
             [
              0.3333333333333333,
              "#9c179e"
             ],
             [
              0.4444444444444444,
              "#bd3786"
             ],
             [
              0.5555555555555556,
              "#d8576b"
             ],
             [
              0.6666666666666666,
              "#ed7953"
             ],
             [
              0.7777777777777778,
              "#fb9f3a"
             ],
             [
              0.8888888888888888,
              "#fdca26"
             ],
             [
              1,
              "#f0f921"
             ]
            ],
            "type": "histogram2d"
           }
          ],
          "histogram2dcontour": [
           {
            "colorbar": {
             "outlinewidth": 0,
             "ticks": ""
            },
            "colorscale": [
             [
              0,
              "#0d0887"
             ],
             [
              0.1111111111111111,
              "#46039f"
             ],
             [
              0.2222222222222222,
              "#7201a8"
             ],
             [
              0.3333333333333333,
              "#9c179e"
             ],
             [
              0.4444444444444444,
              "#bd3786"
             ],
             [
              0.5555555555555556,
              "#d8576b"
             ],
             [
              0.6666666666666666,
              "#ed7953"
             ],
             [
              0.7777777777777778,
              "#fb9f3a"
             ],
             [
              0.8888888888888888,
              "#fdca26"
             ],
             [
              1,
              "#f0f921"
             ]
            ],
            "type": "histogram2dcontour"
           }
          ],
          "mesh3d": [
           {
            "colorbar": {
             "outlinewidth": 0,
             "ticks": ""
            },
            "type": "mesh3d"
           }
          ],
          "parcoords": [
           {
            "line": {
             "colorbar": {
              "outlinewidth": 0,
              "ticks": ""
             }
            },
            "type": "parcoords"
           }
          ],
          "pie": [
           {
            "automargin": true,
            "type": "pie"
           }
          ],
          "scatter": [
           {
            "fillpattern": {
             "fillmode": "overlay",
             "size": 10,
             "solidity": 0.2
            },
            "type": "scatter"
           }
          ],
          "scatter3d": [
           {
            "line": {
             "colorbar": {
              "outlinewidth": 0,
              "ticks": ""
             }
            },
            "marker": {
             "colorbar": {
              "outlinewidth": 0,
              "ticks": ""
             }
            },
            "type": "scatter3d"
           }
          ],
          "scattercarpet": [
           {
            "marker": {
             "colorbar": {
              "outlinewidth": 0,
              "ticks": ""
             }
            },
            "type": "scattercarpet"
           }
          ],
          "scattergeo": [
           {
            "marker": {
             "colorbar": {
              "outlinewidth": 0,
              "ticks": ""
             }
            },
            "type": "scattergeo"
           }
          ],
          "scattergl": [
           {
            "marker": {
             "colorbar": {
              "outlinewidth": 0,
              "ticks": ""
             }
            },
            "type": "scattergl"
           }
          ],
          "scattermapbox": [
           {
            "marker": {
             "colorbar": {
              "outlinewidth": 0,
              "ticks": ""
             }
            },
            "type": "scattermapbox"
           }
          ],
          "scatterpolar": [
           {
            "marker": {
             "colorbar": {
              "outlinewidth": 0,
              "ticks": ""
             }
            },
            "type": "scatterpolar"
           }
          ],
          "scatterpolargl": [
           {
            "marker": {
             "colorbar": {
              "outlinewidth": 0,
              "ticks": ""
             }
            },
            "type": "scatterpolargl"
           }
          ],
          "scatterternary": [
           {
            "marker": {
             "colorbar": {
              "outlinewidth": 0,
              "ticks": ""
             }
            },
            "type": "scatterternary"
           }
          ],
          "surface": [
           {
            "colorbar": {
             "outlinewidth": 0,
             "ticks": ""
            },
            "colorscale": [
             [
              0,
              "#0d0887"
             ],
             [
              0.1111111111111111,
              "#46039f"
             ],
             [
              0.2222222222222222,
              "#7201a8"
             ],
             [
              0.3333333333333333,
              "#9c179e"
             ],
             [
              0.4444444444444444,
              "#bd3786"
             ],
             [
              0.5555555555555556,
              "#d8576b"
             ],
             [
              0.6666666666666666,
              "#ed7953"
             ],
             [
              0.7777777777777778,
              "#fb9f3a"
             ],
             [
              0.8888888888888888,
              "#fdca26"
             ],
             [
              1,
              "#f0f921"
             ]
            ],
            "type": "surface"
           }
          ],
          "table": [
           {
            "cells": {
             "fill": {
              "color": "#EBF0F8"
             },
             "line": {
              "color": "white"
             }
            },
            "header": {
             "fill": {
              "color": "#C8D4E3"
             },
             "line": {
              "color": "white"
             }
            },
            "type": "table"
           }
          ]
         },
         "layout": {
          "annotationdefaults": {
           "arrowcolor": "#2a3f5f",
           "arrowhead": 0,
           "arrowwidth": 1
          },
          "autotypenumbers": "strict",
          "coloraxis": {
           "colorbar": {
            "outlinewidth": 0,
            "ticks": ""
           }
          },
          "colorscale": {
           "diverging": [
            [
             0,
             "#8e0152"
            ],
            [
             0.1,
             "#c51b7d"
            ],
            [
             0.2,
             "#de77ae"
            ],
            [
             0.3,
             "#f1b6da"
            ],
            [
             0.4,
             "#fde0ef"
            ],
            [
             0.5,
             "#f7f7f7"
            ],
            [
             0.6,
             "#e6f5d0"
            ],
            [
             0.7,
             "#b8e186"
            ],
            [
             0.8,
             "#7fbc41"
            ],
            [
             0.9,
             "#4d9221"
            ],
            [
             1,
             "#276419"
            ]
           ],
           "sequential": [
            [
             0,
             "#0d0887"
            ],
            [
             0.1111111111111111,
             "#46039f"
            ],
            [
             0.2222222222222222,
             "#7201a8"
            ],
            [
             0.3333333333333333,
             "#9c179e"
            ],
            [
             0.4444444444444444,
             "#bd3786"
            ],
            [
             0.5555555555555556,
             "#d8576b"
            ],
            [
             0.6666666666666666,
             "#ed7953"
            ],
            [
             0.7777777777777778,
             "#fb9f3a"
            ],
            [
             0.8888888888888888,
             "#fdca26"
            ],
            [
             1,
             "#f0f921"
            ]
           ],
           "sequentialminus": [
            [
             0,
             "#0d0887"
            ],
            [
             0.1111111111111111,
             "#46039f"
            ],
            [
             0.2222222222222222,
             "#7201a8"
            ],
            [
             0.3333333333333333,
             "#9c179e"
            ],
            [
             0.4444444444444444,
             "#bd3786"
            ],
            [
             0.5555555555555556,
             "#d8576b"
            ],
            [
             0.6666666666666666,
             "#ed7953"
            ],
            [
             0.7777777777777778,
             "#fb9f3a"
            ],
            [
             0.8888888888888888,
             "#fdca26"
            ],
            [
             1,
             "#f0f921"
            ]
           ]
          },
          "colorway": [
           "#636efa",
           "#EF553B",
           "#00cc96",
           "#ab63fa",
           "#FFA15A",
           "#19d3f3",
           "#FF6692",
           "#B6E880",
           "#FF97FF",
           "#FECB52"
          ],
          "font": {
           "color": "#2a3f5f"
          },
          "geo": {
           "bgcolor": "white",
           "lakecolor": "white",
           "landcolor": "#E5ECF6",
           "showlakes": true,
           "showland": true,
           "subunitcolor": "white"
          },
          "hoverlabel": {
           "align": "left"
          },
          "hovermode": "closest",
          "mapbox": {
           "style": "light"
          },
          "paper_bgcolor": "white",
          "plot_bgcolor": "#E5ECF6",
          "polar": {
           "angularaxis": {
            "gridcolor": "white",
            "linecolor": "white",
            "ticks": ""
           },
           "bgcolor": "#E5ECF6",
           "radialaxis": {
            "gridcolor": "white",
            "linecolor": "white",
            "ticks": ""
           }
          },
          "scene": {
           "xaxis": {
            "backgroundcolor": "#E5ECF6",
            "gridcolor": "white",
            "gridwidth": 2,
            "linecolor": "white",
            "showbackground": true,
            "ticks": "",
            "zerolinecolor": "white"
           },
           "yaxis": {
            "backgroundcolor": "#E5ECF6",
            "gridcolor": "white",
            "gridwidth": 2,
            "linecolor": "white",
            "showbackground": true,
            "ticks": "",
            "zerolinecolor": "white"
           },
           "zaxis": {
            "backgroundcolor": "#E5ECF6",
            "gridcolor": "white",
            "gridwidth": 2,
            "linecolor": "white",
            "showbackground": true,
            "ticks": "",
            "zerolinecolor": "white"
           }
          },
          "shapedefaults": {
           "line": {
            "color": "#2a3f5f"
           }
          },
          "ternary": {
           "aaxis": {
            "gridcolor": "white",
            "linecolor": "white",
            "ticks": ""
           },
           "baxis": {
            "gridcolor": "white",
            "linecolor": "white",
            "ticks": ""
           },
           "bgcolor": "#E5ECF6",
           "caxis": {
            "gridcolor": "white",
            "linecolor": "white",
            "ticks": ""
           }
          },
          "title": {
           "x": 0.05
          },
          "xaxis": {
           "automargin": true,
           "gridcolor": "white",
           "linecolor": "white",
           "ticks": "",
           "title": {
            "standoff": 15
           },
           "zerolinecolor": "white",
           "zerolinewidth": 2
          },
          "yaxis": {
           "automargin": true,
           "gridcolor": "white",
           "linecolor": "white",
           "ticks": "",
           "title": {
            "standoff": 15
           },
           "zerolinecolor": "white",
           "zerolinewidth": 2
          }
         }
        },
        "xaxis": {
         "anchor": "y",
         "domain": [
          0,
          1
         ],
         "title": {
          "text": "year"
         }
        },
        "yaxis": {
         "anchor": "x",
         "domain": [
          0,
          1
         ],
         "title": {
          "text": "value"
         }
        }
       }
      }
     },
     "metadata": {},
     "output_type": "display_data"
    }
   ],
   "source": [
    "pop_df = pd.read_csv(csv_path)\n",
    "pop_df = pop_df.set_index(['year'])\n",
    "pop_df['population'].plot()"
   ]
  },
  {
   "cell_type": "markdown",
   "metadata": {},
   "source": [
    "### Birth rate"
   ]
  },
  {
   "cell_type": "code",
   "execution_count": 7,
   "metadata": {},
   "outputs": [
    {
     "data": {
      "application/vnd.plotly.v1+json": {
       "config": {
        "plotlyServerURL": "https://plot.ly"
       },
       "data": [
        {
         "hovertemplate": "variable=0<br>mean_year=%{x}<br>value=%{y}<extra></extra>",
         "legendgroup": "0",
         "line": {
          "color": "#636efa",
          "dash": "solid"
         },
         "marker": {
          "symbol": "circle"
         },
         "mode": "markers+lines",
         "name": "0",
         "orientation": "v",
         "showlegend": true,
         "type": "scatter",
         "x": [
          1952.5,
          1957.5,
          1962.5,
          1967.5,
          1972.5,
          1977.5,
          1982.5,
          1987.5,
          1992.5,
          1997.5,
          2002.5,
          2007.5,
          2012.5,
          2017.5
         ],
         "xaxis": "x",
         "y": [
          0.039776000000000006,
          0.042731000000000005,
          0.040619999999999996,
          0.037357,
          0.035531,
          0.032790999999999994,
          0.031293,
          0.029655,
          0.026611,
          0.019188,
          0.016832999999999997,
          0.017184,
          0.017283,
          0.016945
         ],
         "yaxis": "y"
        }
       ],
       "layout": {
        "legend": {
         "title": {
          "text": "variable"
         },
         "tracegroupgap": 0
        },
        "margin": {
         "t": 60
        },
        "showlegend": false,
        "template": {
         "data": {
          "bar": [
           {
            "error_x": {
             "color": "#2a3f5f"
            },
            "error_y": {
             "color": "#2a3f5f"
            },
            "marker": {
             "line": {
              "color": "#E5ECF6",
              "width": 0.5
             },
             "pattern": {
              "fillmode": "overlay",
              "size": 10,
              "solidity": 0.2
             }
            },
            "type": "bar"
           }
          ],
          "barpolar": [
           {
            "marker": {
             "line": {
              "color": "#E5ECF6",
              "width": 0.5
             },
             "pattern": {
              "fillmode": "overlay",
              "size": 10,
              "solidity": 0.2
             }
            },
            "type": "barpolar"
           }
          ],
          "carpet": [
           {
            "aaxis": {
             "endlinecolor": "#2a3f5f",
             "gridcolor": "white",
             "linecolor": "white",
             "minorgridcolor": "white",
             "startlinecolor": "#2a3f5f"
            },
            "baxis": {
             "endlinecolor": "#2a3f5f",
             "gridcolor": "white",
             "linecolor": "white",
             "minorgridcolor": "white",
             "startlinecolor": "#2a3f5f"
            },
            "type": "carpet"
           }
          ],
          "choropleth": [
           {
            "colorbar": {
             "outlinewidth": 0,
             "ticks": ""
            },
            "type": "choropleth"
           }
          ],
          "contour": [
           {
            "colorbar": {
             "outlinewidth": 0,
             "ticks": ""
            },
            "colorscale": [
             [
              0,
              "#0d0887"
             ],
             [
              0.1111111111111111,
              "#46039f"
             ],
             [
              0.2222222222222222,
              "#7201a8"
             ],
             [
              0.3333333333333333,
              "#9c179e"
             ],
             [
              0.4444444444444444,
              "#bd3786"
             ],
             [
              0.5555555555555556,
              "#d8576b"
             ],
             [
              0.6666666666666666,
              "#ed7953"
             ],
             [
              0.7777777777777778,
              "#fb9f3a"
             ],
             [
              0.8888888888888888,
              "#fdca26"
             ],
             [
              1,
              "#f0f921"
             ]
            ],
            "type": "contour"
           }
          ],
          "contourcarpet": [
           {
            "colorbar": {
             "outlinewidth": 0,
             "ticks": ""
            },
            "type": "contourcarpet"
           }
          ],
          "heatmap": [
           {
            "colorbar": {
             "outlinewidth": 0,
             "ticks": ""
            },
            "colorscale": [
             [
              0,
              "#0d0887"
             ],
             [
              0.1111111111111111,
              "#46039f"
             ],
             [
              0.2222222222222222,
              "#7201a8"
             ],
             [
              0.3333333333333333,
              "#9c179e"
             ],
             [
              0.4444444444444444,
              "#bd3786"
             ],
             [
              0.5555555555555556,
              "#d8576b"
             ],
             [
              0.6666666666666666,
              "#ed7953"
             ],
             [
              0.7777777777777778,
              "#fb9f3a"
             ],
             [
              0.8888888888888888,
              "#fdca26"
             ],
             [
              1,
              "#f0f921"
             ]
            ],
            "type": "heatmap"
           }
          ],
          "heatmapgl": [
           {
            "colorbar": {
             "outlinewidth": 0,
             "ticks": ""
            },
            "colorscale": [
             [
              0,
              "#0d0887"
             ],
             [
              0.1111111111111111,
              "#46039f"
             ],
             [
              0.2222222222222222,
              "#7201a8"
             ],
             [
              0.3333333333333333,
              "#9c179e"
             ],
             [
              0.4444444444444444,
              "#bd3786"
             ],
             [
              0.5555555555555556,
              "#d8576b"
             ],
             [
              0.6666666666666666,
              "#ed7953"
             ],
             [
              0.7777777777777778,
              "#fb9f3a"
             ],
             [
              0.8888888888888888,
              "#fdca26"
             ],
             [
              1,
              "#f0f921"
             ]
            ],
            "type": "heatmapgl"
           }
          ],
          "histogram": [
           {
            "marker": {
             "pattern": {
              "fillmode": "overlay",
              "size": 10,
              "solidity": 0.2
             }
            },
            "type": "histogram"
           }
          ],
          "histogram2d": [
           {
            "colorbar": {
             "outlinewidth": 0,
             "ticks": ""
            },
            "colorscale": [
             [
              0,
              "#0d0887"
             ],
             [
              0.1111111111111111,
              "#46039f"
             ],
             [
              0.2222222222222222,
              "#7201a8"
             ],
             [
              0.3333333333333333,
              "#9c179e"
             ],
             [
              0.4444444444444444,
              "#bd3786"
             ],
             [
              0.5555555555555556,
              "#d8576b"
             ],
             [
              0.6666666666666666,
              "#ed7953"
             ],
             [
              0.7777777777777778,
              "#fb9f3a"
             ],
             [
              0.8888888888888888,
              "#fdca26"
             ],
             [
              1,
              "#f0f921"
             ]
            ],
            "type": "histogram2d"
           }
          ],
          "histogram2dcontour": [
           {
            "colorbar": {
             "outlinewidth": 0,
             "ticks": ""
            },
            "colorscale": [
             [
              0,
              "#0d0887"
             ],
             [
              0.1111111111111111,
              "#46039f"
             ],
             [
              0.2222222222222222,
              "#7201a8"
             ],
             [
              0.3333333333333333,
              "#9c179e"
             ],
             [
              0.4444444444444444,
              "#bd3786"
             ],
             [
              0.5555555555555556,
              "#d8576b"
             ],
             [
              0.6666666666666666,
              "#ed7953"
             ],
             [
              0.7777777777777778,
              "#fb9f3a"
             ],
             [
              0.8888888888888888,
              "#fdca26"
             ],
             [
              1,
              "#f0f921"
             ]
            ],
            "type": "histogram2dcontour"
           }
          ],
          "mesh3d": [
           {
            "colorbar": {
             "outlinewidth": 0,
             "ticks": ""
            },
            "type": "mesh3d"
           }
          ],
          "parcoords": [
           {
            "line": {
             "colorbar": {
              "outlinewidth": 0,
              "ticks": ""
             }
            },
            "type": "parcoords"
           }
          ],
          "pie": [
           {
            "automargin": true,
            "type": "pie"
           }
          ],
          "scatter": [
           {
            "fillpattern": {
             "fillmode": "overlay",
             "size": 10,
             "solidity": 0.2
            },
            "type": "scatter"
           }
          ],
          "scatter3d": [
           {
            "line": {
             "colorbar": {
              "outlinewidth": 0,
              "ticks": ""
             }
            },
            "marker": {
             "colorbar": {
              "outlinewidth": 0,
              "ticks": ""
             }
            },
            "type": "scatter3d"
           }
          ],
          "scattercarpet": [
           {
            "marker": {
             "colorbar": {
              "outlinewidth": 0,
              "ticks": ""
             }
            },
            "type": "scattercarpet"
           }
          ],
          "scattergeo": [
           {
            "marker": {
             "colorbar": {
              "outlinewidth": 0,
              "ticks": ""
             }
            },
            "type": "scattergeo"
           }
          ],
          "scattergl": [
           {
            "marker": {
             "colorbar": {
              "outlinewidth": 0,
              "ticks": ""
             }
            },
            "type": "scattergl"
           }
          ],
          "scattermapbox": [
           {
            "marker": {
             "colorbar": {
              "outlinewidth": 0,
              "ticks": ""
             }
            },
            "type": "scattermapbox"
           }
          ],
          "scatterpolar": [
           {
            "marker": {
             "colorbar": {
              "outlinewidth": 0,
              "ticks": ""
             }
            },
            "type": "scatterpolar"
           }
          ],
          "scatterpolargl": [
           {
            "marker": {
             "colorbar": {
              "outlinewidth": 0,
              "ticks": ""
             }
            },
            "type": "scatterpolargl"
           }
          ],
          "scatterternary": [
           {
            "marker": {
             "colorbar": {
              "outlinewidth": 0,
              "ticks": ""
             }
            },
            "type": "scatterternary"
           }
          ],
          "surface": [
           {
            "colorbar": {
             "outlinewidth": 0,
             "ticks": ""
            },
            "colorscale": [
             [
              0,
              "#0d0887"
             ],
             [
              0.1111111111111111,
              "#46039f"
             ],
             [
              0.2222222222222222,
              "#7201a8"
             ],
             [
              0.3333333333333333,
              "#9c179e"
             ],
             [
              0.4444444444444444,
              "#bd3786"
             ],
             [
              0.5555555555555556,
              "#d8576b"
             ],
             [
              0.6666666666666666,
              "#ed7953"
             ],
             [
              0.7777777777777778,
              "#fb9f3a"
             ],
             [
              0.8888888888888888,
              "#fdca26"
             ],
             [
              1,
              "#f0f921"
             ]
            ],
            "type": "surface"
           }
          ],
          "table": [
           {
            "cells": {
             "fill": {
              "color": "#EBF0F8"
             },
             "line": {
              "color": "white"
             }
            },
            "header": {
             "fill": {
              "color": "#C8D4E3"
             },
             "line": {
              "color": "white"
             }
            },
            "type": "table"
           }
          ]
         },
         "layout": {
          "annotationdefaults": {
           "arrowcolor": "#2a3f5f",
           "arrowhead": 0,
           "arrowwidth": 1
          },
          "autotypenumbers": "strict",
          "coloraxis": {
           "colorbar": {
            "outlinewidth": 0,
            "ticks": ""
           }
          },
          "colorscale": {
           "diverging": [
            [
             0,
             "#8e0152"
            ],
            [
             0.1,
             "#c51b7d"
            ],
            [
             0.2,
             "#de77ae"
            ],
            [
             0.3,
             "#f1b6da"
            ],
            [
             0.4,
             "#fde0ef"
            ],
            [
             0.5,
             "#f7f7f7"
            ],
            [
             0.6,
             "#e6f5d0"
            ],
            [
             0.7,
             "#b8e186"
            ],
            [
             0.8,
             "#7fbc41"
            ],
            [
             0.9,
             "#4d9221"
            ],
            [
             1,
             "#276419"
            ]
           ],
           "sequential": [
            [
             0,
             "#0d0887"
            ],
            [
             0.1111111111111111,
             "#46039f"
            ],
            [
             0.2222222222222222,
             "#7201a8"
            ],
            [
             0.3333333333333333,
             "#9c179e"
            ],
            [
             0.4444444444444444,
             "#bd3786"
            ],
            [
             0.5555555555555556,
             "#d8576b"
            ],
            [
             0.6666666666666666,
             "#ed7953"
            ],
            [
             0.7777777777777778,
             "#fb9f3a"
            ],
            [
             0.8888888888888888,
             "#fdca26"
            ],
            [
             1,
             "#f0f921"
            ]
           ],
           "sequentialminus": [
            [
             0,
             "#0d0887"
            ],
            [
             0.1111111111111111,
             "#46039f"
            ],
            [
             0.2222222222222222,
             "#7201a8"
            ],
            [
             0.3333333333333333,
             "#9c179e"
            ],
            [
             0.4444444444444444,
             "#bd3786"
            ],
            [
             0.5555555555555556,
             "#d8576b"
            ],
            [
             0.6666666666666666,
             "#ed7953"
            ],
            [
             0.7777777777777778,
             "#fb9f3a"
            ],
            [
             0.8888888888888888,
             "#fdca26"
            ],
            [
             1,
             "#f0f921"
            ]
           ]
          },
          "colorway": [
           "#636efa",
           "#EF553B",
           "#00cc96",
           "#ab63fa",
           "#FFA15A",
           "#19d3f3",
           "#FF6692",
           "#B6E880",
           "#FF97FF",
           "#FECB52"
          ],
          "font": {
           "color": "#2a3f5f"
          },
          "geo": {
           "bgcolor": "white",
           "lakecolor": "white",
           "landcolor": "#E5ECF6",
           "showlakes": true,
           "showland": true,
           "subunitcolor": "white"
          },
          "hoverlabel": {
           "align": "left"
          },
          "hovermode": "closest",
          "mapbox": {
           "style": "light"
          },
          "paper_bgcolor": "white",
          "plot_bgcolor": "#E5ECF6",
          "polar": {
           "angularaxis": {
            "gridcolor": "white",
            "linecolor": "white",
            "ticks": ""
           },
           "bgcolor": "#E5ECF6",
           "radialaxis": {
            "gridcolor": "white",
            "linecolor": "white",
            "ticks": ""
           }
          },
          "scene": {
           "xaxis": {
            "backgroundcolor": "#E5ECF6",
            "gridcolor": "white",
            "gridwidth": 2,
            "linecolor": "white",
            "showbackground": true,
            "ticks": "",
            "zerolinecolor": "white"
           },
           "yaxis": {
            "backgroundcolor": "#E5ECF6",
            "gridcolor": "white",
            "gridwidth": 2,
            "linecolor": "white",
            "showbackground": true,
            "ticks": "",
            "zerolinecolor": "white"
           },
           "zaxis": {
            "backgroundcolor": "#E5ECF6",
            "gridcolor": "white",
            "gridwidth": 2,
            "linecolor": "white",
            "showbackground": true,
            "ticks": "",
            "zerolinecolor": "white"
           }
          },
          "shapedefaults": {
           "line": {
            "color": "#2a3f5f"
           }
          },
          "ternary": {
           "aaxis": {
            "gridcolor": "white",
            "linecolor": "white",
            "ticks": ""
           },
           "baxis": {
            "gridcolor": "white",
            "linecolor": "white",
            "ticks": ""
           },
           "bgcolor": "#E5ECF6",
           "caxis": {
            "gridcolor": "white",
            "linecolor": "white",
            "ticks": ""
           }
          },
          "title": {
           "x": 0.05
          },
          "xaxis": {
           "automargin": true,
           "gridcolor": "white",
           "linecolor": "white",
           "ticks": "",
           "title": {
            "standoff": 15
           },
           "zerolinecolor": "white",
           "zerolinewidth": 2
          },
          "yaxis": {
           "automargin": true,
           "gridcolor": "white",
           "linecolor": "white",
           "ticks": "",
           "title": {
            "standoff": 15
           },
           "zerolinecolor": "white",
           "zerolinewidth": 2
          }
         }
        },
        "title": {
         "text": "Crude birth rate of Ca Mau",
         "x": 0.5
        },
        "xaxis": {
         "anchor": "y",
         "domain": [
          0,
          1
         ],
         "title": {
          "text": "Year"
         }
        },
        "yaxis": {
         "anchor": "x",
         "domain": [
          0,
          1
         ],
         "title": {
          "text": "Crude birth rate"
         }
        }
       }
      }
     },
     "metadata": {},
     "output_type": "display_data"
    }
   ],
   "source": [
    "birth_rates, years = inputs.get_crude_birth_rate(\"VNM\")\n",
    "birth_rates = [b / 1000.0 for b in birth_rates]  # Birth rates are provided / 1000 population\n",
    "birth_rates_series = pd.Series(birth_rates, index=years)\n",
    "br_fig= px.line(birth_rates_series)\n",
    "br_fig.update_traces(mode='markers+lines')\n",
    "br_fig.update_layout(\n",
    "    title=\"Crude birth rate of Ca Mau\",\n",
    "    title_x=0.5,\n",
    "    xaxis_title=\"Year\",\n",
    "    yaxis_title=\"Crude birth rate\",\n",
    "    showlegend=False,\n",
    ")"
   ]
  },
  {
   "cell_type": "markdown",
   "metadata": {},
   "source": [
    "### Death rate"
   ]
  },
  {
   "cell_type": "code",
   "execution_count": 8,
   "metadata": {},
   "outputs": [
    {
     "data": {
      "application/vnd.plotly.v1+json": {
       "config": {
        "plotlyServerURL": "https://plot.ly"
       },
       "data": [
        {
         "hovertemplate": "variable=0<br>index=%{x}<br>value=%{y}<extra></extra>",
         "legendgroup": "0",
         "line": {
          "color": "#636efa",
          "dash": "solid"
         },
         "marker": {
          "symbol": "circle"
         },
         "mode": "lines",
         "name": "0",
         "orientation": "v",
         "showlegend": true,
         "type": "scatter",
         "x": [
          1952.5,
          1957.5,
          1962.5,
          1967.5,
          1972.5,
          1977.5,
          1982.5,
          1987.5,
          1992.5,
          1997.5,
          2002.5,
          2007.5,
          2012.5,
          2017.5
         ],
         "xaxis": "x",
         "y": [
          20.444904341792885,
          29.482289787646447,
          40.92870955537183,
          51.524661918973464,
          55.101367058904295,
          68.79803186925655,
          76.71359700715429,
          88.85590162574651,
          107.40428581498624,
          163.43903102398104,
          176.10675992731154,
          187.4948765902168,
          209.04345380641195,
          230.69309620399886
         ],
         "yaxis": "y"
        },
        {
         "hovertemplate": "variable=5<br>index=%{x}<br>value=%{y}<extra></extra>",
         "legendgroup": "5",
         "line": {
          "color": "#EF553B",
          "dash": "solid"
         },
         "marker": {
          "symbol": "circle"
         },
         "mode": "lines",
         "name": "5",
         "orientation": "v",
         "showlegend": true,
         "type": "scatter",
         "x": [
          1952.5,
          1957.5,
          1962.5,
          1967.5,
          1972.5,
          1977.5,
          1982.5,
          1987.5,
          1992.5,
          1997.5,
          2002.5,
          2007.5,
          2012.5,
          2017.5
         ],
         "xaxis": "x",
         "y": [
          176.83987589529352,
          188.77632025552168,
          223.88948610437018,
          259.9896036663088,
          195.77214329202965,
          368.8090233800744,
          465.6717862038214,
          599.123905084914,
          759.6269012165749,
          982.1480537859496,
          1342.7895262698664,
          1767.211344489547,
          1837.7901975545442,
          1960.5681748514673
         ],
         "yaxis": "y"
        },
        {
         "hovertemplate": "variable=15<br>index=%{x}<br>value=%{y}<extra></extra>",
         "legendgroup": "15",
         "line": {
          "color": "#00cc96",
          "dash": "solid"
         },
         "marker": {
          "symbol": "circle"
         },
         "mode": "lines",
         "name": "15",
         "orientation": "v",
         "showlegend": true,
         "type": "scatter",
         "x": [
          1952.5,
          1957.5,
          1962.5,
          1967.5,
          1972.5,
          1977.5,
          1982.5,
          1987.5,
          1992.5,
          1997.5,
          2002.5,
          2007.5,
          2012.5,
          2017.5
         ],
         "xaxis": "x",
         "y": [
          327.68099208997137,
          370.26682491974674,
          401.63246998999637,
          386.905219527685,
          244.57012387080678,
          417.9244525793353,
          452.53549842583084,
          530.4116708804005,
          603.0983083954414,
          654.5669009282569,
          700.7397580397,
          771.9869119199767,
          809.2902053471516,
          852.5274850903924
         ],
         "yaxis": "y"
        },
        {
         "hovertemplate": "variable=35<br>index=%{x}<br>value=%{y}<extra></extra>",
         "legendgroup": "35",
         "line": {
          "color": "#ab63fa",
          "dash": "solid"
         },
         "marker": {
          "symbol": "circle"
         },
         "mode": "lines",
         "name": "35",
         "orientation": "v",
         "showlegend": true,
         "type": "scatter",
         "x": [
          1952.5,
          1957.5,
          1962.5,
          1967.5,
          1972.5,
          1977.5,
          1982.5,
          1987.5,
          1992.5,
          1997.5,
          2002.5,
          2007.5,
          2012.5,
          2017.5
         ],
         "xaxis": "x",
         "y": [
          106.53391485233813,
          126.69880902166264,
          153.44164960346131,
          159.72170890710618,
          115.08571690600395,
          208.71756438047228,
          239.2812822666623,
          244.28634466315282,
          248.06716846742344,
          255.90166107974255,
          286.6458962808636,
          316.9016276011846,
          328.9101996655841,
          335.54695559093363
         ],
         "yaxis": "y"
        },
        {
         "hovertemplate": "variable=50<br>index=%{x}<br>value=%{y}<extra></extra>",
         "legendgroup": "50",
         "line": {
          "color": "#FFA15A",
          "dash": "solid"
         },
         "marker": {
          "symbol": "circle"
         },
         "mode": "lines",
         "name": "50",
         "orientation": "v",
         "showlegend": true,
         "type": "scatter",
         "x": [
          1952.5,
          1957.5,
          1962.5,
          1967.5,
          1972.5,
          1977.5,
          1982.5,
          1987.5,
          1992.5,
          1997.5,
          2002.5,
          2007.5,
          2012.5,
          2017.5
         ],
         "xaxis": "x",
         "y": [
          7.056354722182018,
          7.14042329119906,
          7.117379668530624,
          7.147291128487501,
          6.913041910849589,
          8.196759683236078,
          8.697342724004898,
          9.417083981476397,
          10.226246110948376,
          10.879878196983078,
          11.623779855731188,
          11.862894485814962,
          12.296475270781523,
          12.332342428788765
         ],
         "yaxis": "y"
        }
       ],
       "layout": {
        "legend": {
         "title": {
          "text": "variable"
         },
         "tracegroupgap": 0
        },
        "margin": {
         "t": 60
        },
        "template": {
         "data": {
          "bar": [
           {
            "error_x": {
             "color": "#2a3f5f"
            },
            "error_y": {
             "color": "#2a3f5f"
            },
            "marker": {
             "line": {
              "color": "#E5ECF6",
              "width": 0.5
             },
             "pattern": {
              "fillmode": "overlay",
              "size": 10,
              "solidity": 0.2
             }
            },
            "type": "bar"
           }
          ],
          "barpolar": [
           {
            "marker": {
             "line": {
              "color": "#E5ECF6",
              "width": 0.5
             },
             "pattern": {
              "fillmode": "overlay",
              "size": 10,
              "solidity": 0.2
             }
            },
            "type": "barpolar"
           }
          ],
          "carpet": [
           {
            "aaxis": {
             "endlinecolor": "#2a3f5f",
             "gridcolor": "white",
             "linecolor": "white",
             "minorgridcolor": "white",
             "startlinecolor": "#2a3f5f"
            },
            "baxis": {
             "endlinecolor": "#2a3f5f",
             "gridcolor": "white",
             "linecolor": "white",
             "minorgridcolor": "white",
             "startlinecolor": "#2a3f5f"
            },
            "type": "carpet"
           }
          ],
          "choropleth": [
           {
            "colorbar": {
             "outlinewidth": 0,
             "ticks": ""
            },
            "type": "choropleth"
           }
          ],
          "contour": [
           {
            "colorbar": {
             "outlinewidth": 0,
             "ticks": ""
            },
            "colorscale": [
             [
              0,
              "#0d0887"
             ],
             [
              0.1111111111111111,
              "#46039f"
             ],
             [
              0.2222222222222222,
              "#7201a8"
             ],
             [
              0.3333333333333333,
              "#9c179e"
             ],
             [
              0.4444444444444444,
              "#bd3786"
             ],
             [
              0.5555555555555556,
              "#d8576b"
             ],
             [
              0.6666666666666666,
              "#ed7953"
             ],
             [
              0.7777777777777778,
              "#fb9f3a"
             ],
             [
              0.8888888888888888,
              "#fdca26"
             ],
             [
              1,
              "#f0f921"
             ]
            ],
            "type": "contour"
           }
          ],
          "contourcarpet": [
           {
            "colorbar": {
             "outlinewidth": 0,
             "ticks": ""
            },
            "type": "contourcarpet"
           }
          ],
          "heatmap": [
           {
            "colorbar": {
             "outlinewidth": 0,
             "ticks": ""
            },
            "colorscale": [
             [
              0,
              "#0d0887"
             ],
             [
              0.1111111111111111,
              "#46039f"
             ],
             [
              0.2222222222222222,
              "#7201a8"
             ],
             [
              0.3333333333333333,
              "#9c179e"
             ],
             [
              0.4444444444444444,
              "#bd3786"
             ],
             [
              0.5555555555555556,
              "#d8576b"
             ],
             [
              0.6666666666666666,
              "#ed7953"
             ],
             [
              0.7777777777777778,
              "#fb9f3a"
             ],
             [
              0.8888888888888888,
              "#fdca26"
             ],
             [
              1,
              "#f0f921"
             ]
            ],
            "type": "heatmap"
           }
          ],
          "heatmapgl": [
           {
            "colorbar": {
             "outlinewidth": 0,
             "ticks": ""
            },
            "colorscale": [
             [
              0,
              "#0d0887"
             ],
             [
              0.1111111111111111,
              "#46039f"
             ],
             [
              0.2222222222222222,
              "#7201a8"
             ],
             [
              0.3333333333333333,
              "#9c179e"
             ],
             [
              0.4444444444444444,
              "#bd3786"
             ],
             [
              0.5555555555555556,
              "#d8576b"
             ],
             [
              0.6666666666666666,
              "#ed7953"
             ],
             [
              0.7777777777777778,
              "#fb9f3a"
             ],
             [
              0.8888888888888888,
              "#fdca26"
             ],
             [
              1,
              "#f0f921"
             ]
            ],
            "type": "heatmapgl"
           }
          ],
          "histogram": [
           {
            "marker": {
             "pattern": {
              "fillmode": "overlay",
              "size": 10,
              "solidity": 0.2
             }
            },
            "type": "histogram"
           }
          ],
          "histogram2d": [
           {
            "colorbar": {
             "outlinewidth": 0,
             "ticks": ""
            },
            "colorscale": [
             [
              0,
              "#0d0887"
             ],
             [
              0.1111111111111111,
              "#46039f"
             ],
             [
              0.2222222222222222,
              "#7201a8"
             ],
             [
              0.3333333333333333,
              "#9c179e"
             ],
             [
              0.4444444444444444,
              "#bd3786"
             ],
             [
              0.5555555555555556,
              "#d8576b"
             ],
             [
              0.6666666666666666,
              "#ed7953"
             ],
             [
              0.7777777777777778,
              "#fb9f3a"
             ],
             [
              0.8888888888888888,
              "#fdca26"
             ],
             [
              1,
              "#f0f921"
             ]
            ],
            "type": "histogram2d"
           }
          ],
          "histogram2dcontour": [
           {
            "colorbar": {
             "outlinewidth": 0,
             "ticks": ""
            },
            "colorscale": [
             [
              0,
              "#0d0887"
             ],
             [
              0.1111111111111111,
              "#46039f"
             ],
             [
              0.2222222222222222,
              "#7201a8"
             ],
             [
              0.3333333333333333,
              "#9c179e"
             ],
             [
              0.4444444444444444,
              "#bd3786"
             ],
             [
              0.5555555555555556,
              "#d8576b"
             ],
             [
              0.6666666666666666,
              "#ed7953"
             ],
             [
              0.7777777777777778,
              "#fb9f3a"
             ],
             [
              0.8888888888888888,
              "#fdca26"
             ],
             [
              1,
              "#f0f921"
             ]
            ],
            "type": "histogram2dcontour"
           }
          ],
          "mesh3d": [
           {
            "colorbar": {
             "outlinewidth": 0,
             "ticks": ""
            },
            "type": "mesh3d"
           }
          ],
          "parcoords": [
           {
            "line": {
             "colorbar": {
              "outlinewidth": 0,
              "ticks": ""
             }
            },
            "type": "parcoords"
           }
          ],
          "pie": [
           {
            "automargin": true,
            "type": "pie"
           }
          ],
          "scatter": [
           {
            "fillpattern": {
             "fillmode": "overlay",
             "size": 10,
             "solidity": 0.2
            },
            "type": "scatter"
           }
          ],
          "scatter3d": [
           {
            "line": {
             "colorbar": {
              "outlinewidth": 0,
              "ticks": ""
             }
            },
            "marker": {
             "colorbar": {
              "outlinewidth": 0,
              "ticks": ""
             }
            },
            "type": "scatter3d"
           }
          ],
          "scattercarpet": [
           {
            "marker": {
             "colorbar": {
              "outlinewidth": 0,
              "ticks": ""
             }
            },
            "type": "scattercarpet"
           }
          ],
          "scattergeo": [
           {
            "marker": {
             "colorbar": {
              "outlinewidth": 0,
              "ticks": ""
             }
            },
            "type": "scattergeo"
           }
          ],
          "scattergl": [
           {
            "marker": {
             "colorbar": {
              "outlinewidth": 0,
              "ticks": ""
             }
            },
            "type": "scattergl"
           }
          ],
          "scattermapbox": [
           {
            "marker": {
             "colorbar": {
              "outlinewidth": 0,
              "ticks": ""
             }
            },
            "type": "scattermapbox"
           }
          ],
          "scatterpolar": [
           {
            "marker": {
             "colorbar": {
              "outlinewidth": 0,
              "ticks": ""
             }
            },
            "type": "scatterpolar"
           }
          ],
          "scatterpolargl": [
           {
            "marker": {
             "colorbar": {
              "outlinewidth": 0,
              "ticks": ""
             }
            },
            "type": "scatterpolargl"
           }
          ],
          "scatterternary": [
           {
            "marker": {
             "colorbar": {
              "outlinewidth": 0,
              "ticks": ""
             }
            },
            "type": "scatterternary"
           }
          ],
          "surface": [
           {
            "colorbar": {
             "outlinewidth": 0,
             "ticks": ""
            },
            "colorscale": [
             [
              0,
              "#0d0887"
             ],
             [
              0.1111111111111111,
              "#46039f"
             ],
             [
              0.2222222222222222,
              "#7201a8"
             ],
             [
              0.3333333333333333,
              "#9c179e"
             ],
             [
              0.4444444444444444,
              "#bd3786"
             ],
             [
              0.5555555555555556,
              "#d8576b"
             ],
             [
              0.6666666666666666,
              "#ed7953"
             ],
             [
              0.7777777777777778,
              "#fb9f3a"
             ],
             [
              0.8888888888888888,
              "#fdca26"
             ],
             [
              1,
              "#f0f921"
             ]
            ],
            "type": "surface"
           }
          ],
          "table": [
           {
            "cells": {
             "fill": {
              "color": "#EBF0F8"
             },
             "line": {
              "color": "white"
             }
            },
            "header": {
             "fill": {
              "color": "#C8D4E3"
             },
             "line": {
              "color": "white"
             }
            },
            "type": "table"
           }
          ]
         },
         "layout": {
          "annotationdefaults": {
           "arrowcolor": "#2a3f5f",
           "arrowhead": 0,
           "arrowwidth": 1
          },
          "autotypenumbers": "strict",
          "coloraxis": {
           "colorbar": {
            "outlinewidth": 0,
            "ticks": ""
           }
          },
          "colorscale": {
           "diverging": [
            [
             0,
             "#8e0152"
            ],
            [
             0.1,
             "#c51b7d"
            ],
            [
             0.2,
             "#de77ae"
            ],
            [
             0.3,
             "#f1b6da"
            ],
            [
             0.4,
             "#fde0ef"
            ],
            [
             0.5,
             "#f7f7f7"
            ],
            [
             0.6,
             "#e6f5d0"
            ],
            [
             0.7,
             "#b8e186"
            ],
            [
             0.8,
             "#7fbc41"
            ],
            [
             0.9,
             "#4d9221"
            ],
            [
             1,
             "#276419"
            ]
           ],
           "sequential": [
            [
             0,
             "#0d0887"
            ],
            [
             0.1111111111111111,
             "#46039f"
            ],
            [
             0.2222222222222222,
             "#7201a8"
            ],
            [
             0.3333333333333333,
             "#9c179e"
            ],
            [
             0.4444444444444444,
             "#bd3786"
            ],
            [
             0.5555555555555556,
             "#d8576b"
            ],
            [
             0.6666666666666666,
             "#ed7953"
            ],
            [
             0.7777777777777778,
             "#fb9f3a"
            ],
            [
             0.8888888888888888,
             "#fdca26"
            ],
            [
             1,
             "#f0f921"
            ]
           ],
           "sequentialminus": [
            [
             0,
             "#0d0887"
            ],
            [
             0.1111111111111111,
             "#46039f"
            ],
            [
             0.2222222222222222,
             "#7201a8"
            ],
            [
             0.3333333333333333,
             "#9c179e"
            ],
            [
             0.4444444444444444,
             "#bd3786"
            ],
            [
             0.5555555555555556,
             "#d8576b"
            ],
            [
             0.6666666666666666,
             "#ed7953"
            ],
            [
             0.7777777777777778,
             "#fb9f3a"
            ],
            [
             0.8888888888888888,
             "#fdca26"
            ],
            [
             1,
             "#f0f921"
            ]
           ]
          },
          "colorway": [
           "#636efa",
           "#EF553B",
           "#00cc96",
           "#ab63fa",
           "#FFA15A",
           "#19d3f3",
           "#FF6692",
           "#B6E880",
           "#FF97FF",
           "#FECB52"
          ],
          "font": {
           "color": "#2a3f5f"
          },
          "geo": {
           "bgcolor": "white",
           "lakecolor": "white",
           "landcolor": "#E5ECF6",
           "showlakes": true,
           "showland": true,
           "subunitcolor": "white"
          },
          "hoverlabel": {
           "align": "left"
          },
          "hovermode": "closest",
          "mapbox": {
           "style": "light"
          },
          "paper_bgcolor": "white",
          "plot_bgcolor": "#E5ECF6",
          "polar": {
           "angularaxis": {
            "gridcolor": "white",
            "linecolor": "white",
            "ticks": ""
           },
           "bgcolor": "#E5ECF6",
           "radialaxis": {
            "gridcolor": "white",
            "linecolor": "white",
            "ticks": ""
           }
          },
          "scene": {
           "xaxis": {
            "backgroundcolor": "#E5ECF6",
            "gridcolor": "white",
            "gridwidth": 2,
            "linecolor": "white",
            "showbackground": true,
            "ticks": "",
            "zerolinecolor": "white"
           },
           "yaxis": {
            "backgroundcolor": "#E5ECF6",
            "gridcolor": "white",
            "gridwidth": 2,
            "linecolor": "white",
            "showbackground": true,
            "ticks": "",
            "zerolinecolor": "white"
           },
           "zaxis": {
            "backgroundcolor": "#E5ECF6",
            "gridcolor": "white",
            "gridwidth": 2,
            "linecolor": "white",
            "showbackground": true,
            "ticks": "",
            "zerolinecolor": "white"
           }
          },
          "shapedefaults": {
           "line": {
            "color": "#2a3f5f"
           }
          },
          "ternary": {
           "aaxis": {
            "gridcolor": "white",
            "linecolor": "white",
            "ticks": ""
           },
           "baxis": {
            "gridcolor": "white",
            "linecolor": "white",
            "ticks": ""
           },
           "bgcolor": "#E5ECF6",
           "caxis": {
            "gridcolor": "white",
            "linecolor": "white",
            "ticks": ""
           }
          },
          "title": {
           "x": 0.05
          },
          "xaxis": {
           "automargin": true,
           "gridcolor": "white",
           "linecolor": "white",
           "ticks": "",
           "title": {
            "standoff": 15
           },
           "zerolinecolor": "white",
           "zerolinewidth": 2
          },
          "yaxis": {
           "automargin": true,
           "gridcolor": "white",
           "linecolor": "white",
           "ticks": "",
           "title": {
            "standoff": 15
           },
           "zerolinecolor": "white",
           "zerolinewidth": 2
          }
         }
        },
        "xaxis": {
         "anchor": "y",
         "domain": [
          0,
          1
         ],
         "title": {
          "text": "index"
         }
        },
        "yaxis": {
         "anchor": "x",
         "domain": [
          0,
          1
         ],
         "title": {
          "text": "value"
         },
         "type": "log"
        }
       }
      }
     },
     "metadata": {},
     "output_type": "display_data"
    }
   ],
   "source": [
    "# Currently used in model:\n",
    "death_rates_from_db = get_death_rates_by_agegroup(modelled_age_groups, \"VNM\")\n",
    "death_rates_df = pd.DataFrame(death_rates_from_db[0], index=death_rates_from_db[1])\n",
    "life_exp_at_age_df = 1.0 / death_rates_df\n",
    "death_rates_df.plot()\n",
    "life_exp_at_age_df.plot(log_y=True)"
   ]
  },
  {
   "cell_type": "code",
   "execution_count": 9,
   "metadata": {},
   "outputs": [
    {
     "data": {
      "application/vnd.plotly.v1+json": {
       "config": {
        "plotlyServerURL": "https://plot.ly"
       },
       "data": [
        {
         "hovertemplate": "variable=0<br>index=%{x}<br>value=%{y}<extra></extra>",
         "legendgroup": "0",
         "line": {
          "color": "#636efa",
          "dash": "solid"
         },
         "marker": {
          "symbol": "circle"
         },
         "mode": "markers+lines",
         "name": "0",
         "orientation": "v",
         "showlegend": true,
         "type": "scatter",
         "x": [
          2005,
          2007,
          2008,
          2009,
          2010,
          2011,
          2012,
          2013,
          2014,
          2015,
          2016,
          2017,
          2018,
          2019,
          2020,
          2021
         ],
         "xaxis": "x",
         "y": [
          0.0048,
          0.0048,
          0.0044,
          0.0056,
          0.0056,
          0.0058,
          0.0053,
          0.006,
          0.0074,
          0.0054,
          0.0048,
          0.0066,
          0.005,
          0.0054,
          0.00521,
          0.00539
         ],
         "yaxis": "y"
        }
       ],
       "layout": {
        "legend": {
         "title": {
          "text": "variable"
         },
         "tracegroupgap": 0
        },
        "margin": {
         "t": 60
        },
        "showlegend": false,
        "template": {
         "data": {
          "bar": [
           {
            "error_x": {
             "color": "#2a3f5f"
            },
            "error_y": {
             "color": "#2a3f5f"
            },
            "marker": {
             "line": {
              "color": "#E5ECF6",
              "width": 0.5
             },
             "pattern": {
              "fillmode": "overlay",
              "size": 10,
              "solidity": 0.2
             }
            },
            "type": "bar"
           }
          ],
          "barpolar": [
           {
            "marker": {
             "line": {
              "color": "#E5ECF6",
              "width": 0.5
             },
             "pattern": {
              "fillmode": "overlay",
              "size": 10,
              "solidity": 0.2
             }
            },
            "type": "barpolar"
           }
          ],
          "carpet": [
           {
            "aaxis": {
             "endlinecolor": "#2a3f5f",
             "gridcolor": "white",
             "linecolor": "white",
             "minorgridcolor": "white",
             "startlinecolor": "#2a3f5f"
            },
            "baxis": {
             "endlinecolor": "#2a3f5f",
             "gridcolor": "white",
             "linecolor": "white",
             "minorgridcolor": "white",
             "startlinecolor": "#2a3f5f"
            },
            "type": "carpet"
           }
          ],
          "choropleth": [
           {
            "colorbar": {
             "outlinewidth": 0,
             "ticks": ""
            },
            "type": "choropleth"
           }
          ],
          "contour": [
           {
            "colorbar": {
             "outlinewidth": 0,
             "ticks": ""
            },
            "colorscale": [
             [
              0,
              "#0d0887"
             ],
             [
              0.1111111111111111,
              "#46039f"
             ],
             [
              0.2222222222222222,
              "#7201a8"
             ],
             [
              0.3333333333333333,
              "#9c179e"
             ],
             [
              0.4444444444444444,
              "#bd3786"
             ],
             [
              0.5555555555555556,
              "#d8576b"
             ],
             [
              0.6666666666666666,
              "#ed7953"
             ],
             [
              0.7777777777777778,
              "#fb9f3a"
             ],
             [
              0.8888888888888888,
              "#fdca26"
             ],
             [
              1,
              "#f0f921"
             ]
            ],
            "type": "contour"
           }
          ],
          "contourcarpet": [
           {
            "colorbar": {
             "outlinewidth": 0,
             "ticks": ""
            },
            "type": "contourcarpet"
           }
          ],
          "heatmap": [
           {
            "colorbar": {
             "outlinewidth": 0,
             "ticks": ""
            },
            "colorscale": [
             [
              0,
              "#0d0887"
             ],
             [
              0.1111111111111111,
              "#46039f"
             ],
             [
              0.2222222222222222,
              "#7201a8"
             ],
             [
              0.3333333333333333,
              "#9c179e"
             ],
             [
              0.4444444444444444,
              "#bd3786"
             ],
             [
              0.5555555555555556,
              "#d8576b"
             ],
             [
              0.6666666666666666,
              "#ed7953"
             ],
             [
              0.7777777777777778,
              "#fb9f3a"
             ],
             [
              0.8888888888888888,
              "#fdca26"
             ],
             [
              1,
              "#f0f921"
             ]
            ],
            "type": "heatmap"
           }
          ],
          "heatmapgl": [
           {
            "colorbar": {
             "outlinewidth": 0,
             "ticks": ""
            },
            "colorscale": [
             [
              0,
              "#0d0887"
             ],
             [
              0.1111111111111111,
              "#46039f"
             ],
             [
              0.2222222222222222,
              "#7201a8"
             ],
             [
              0.3333333333333333,
              "#9c179e"
             ],
             [
              0.4444444444444444,
              "#bd3786"
             ],
             [
              0.5555555555555556,
              "#d8576b"
             ],
             [
              0.6666666666666666,
              "#ed7953"
             ],
             [
              0.7777777777777778,
              "#fb9f3a"
             ],
             [
              0.8888888888888888,
              "#fdca26"
             ],
             [
              1,
              "#f0f921"
             ]
            ],
            "type": "heatmapgl"
           }
          ],
          "histogram": [
           {
            "marker": {
             "pattern": {
              "fillmode": "overlay",
              "size": 10,
              "solidity": 0.2
             }
            },
            "type": "histogram"
           }
          ],
          "histogram2d": [
           {
            "colorbar": {
             "outlinewidth": 0,
             "ticks": ""
            },
            "colorscale": [
             [
              0,
              "#0d0887"
             ],
             [
              0.1111111111111111,
              "#46039f"
             ],
             [
              0.2222222222222222,
              "#7201a8"
             ],
             [
              0.3333333333333333,
              "#9c179e"
             ],
             [
              0.4444444444444444,
              "#bd3786"
             ],
             [
              0.5555555555555556,
              "#d8576b"
             ],
             [
              0.6666666666666666,
              "#ed7953"
             ],
             [
              0.7777777777777778,
              "#fb9f3a"
             ],
             [
              0.8888888888888888,
              "#fdca26"
             ],
             [
              1,
              "#f0f921"
             ]
            ],
            "type": "histogram2d"
           }
          ],
          "histogram2dcontour": [
           {
            "colorbar": {
             "outlinewidth": 0,
             "ticks": ""
            },
            "colorscale": [
             [
              0,
              "#0d0887"
             ],
             [
              0.1111111111111111,
              "#46039f"
             ],
             [
              0.2222222222222222,
              "#7201a8"
             ],
             [
              0.3333333333333333,
              "#9c179e"
             ],
             [
              0.4444444444444444,
              "#bd3786"
             ],
             [
              0.5555555555555556,
              "#d8576b"
             ],
             [
              0.6666666666666666,
              "#ed7953"
             ],
             [
              0.7777777777777778,
              "#fb9f3a"
             ],
             [
              0.8888888888888888,
              "#fdca26"
             ],
             [
              1,
              "#f0f921"
             ]
            ],
            "type": "histogram2dcontour"
           }
          ],
          "mesh3d": [
           {
            "colorbar": {
             "outlinewidth": 0,
             "ticks": ""
            },
            "type": "mesh3d"
           }
          ],
          "parcoords": [
           {
            "line": {
             "colorbar": {
              "outlinewidth": 0,
              "ticks": ""
             }
            },
            "type": "parcoords"
           }
          ],
          "pie": [
           {
            "automargin": true,
            "type": "pie"
           }
          ],
          "scatter": [
           {
            "fillpattern": {
             "fillmode": "overlay",
             "size": 10,
             "solidity": 0.2
            },
            "type": "scatter"
           }
          ],
          "scatter3d": [
           {
            "line": {
             "colorbar": {
              "outlinewidth": 0,
              "ticks": ""
             }
            },
            "marker": {
             "colorbar": {
              "outlinewidth": 0,
              "ticks": ""
             }
            },
            "type": "scatter3d"
           }
          ],
          "scattercarpet": [
           {
            "marker": {
             "colorbar": {
              "outlinewidth": 0,
              "ticks": ""
             }
            },
            "type": "scattercarpet"
           }
          ],
          "scattergeo": [
           {
            "marker": {
             "colorbar": {
              "outlinewidth": 0,
              "ticks": ""
             }
            },
            "type": "scattergeo"
           }
          ],
          "scattergl": [
           {
            "marker": {
             "colorbar": {
              "outlinewidth": 0,
              "ticks": ""
             }
            },
            "type": "scattergl"
           }
          ],
          "scattermapbox": [
           {
            "marker": {
             "colorbar": {
              "outlinewidth": 0,
              "ticks": ""
             }
            },
            "type": "scattermapbox"
           }
          ],
          "scatterpolar": [
           {
            "marker": {
             "colorbar": {
              "outlinewidth": 0,
              "ticks": ""
             }
            },
            "type": "scatterpolar"
           }
          ],
          "scatterpolargl": [
           {
            "marker": {
             "colorbar": {
              "outlinewidth": 0,
              "ticks": ""
             }
            },
            "type": "scatterpolargl"
           }
          ],
          "scatterternary": [
           {
            "marker": {
             "colorbar": {
              "outlinewidth": 0,
              "ticks": ""
             }
            },
            "type": "scatterternary"
           }
          ],
          "surface": [
           {
            "colorbar": {
             "outlinewidth": 0,
             "ticks": ""
            },
            "colorscale": [
             [
              0,
              "#0d0887"
             ],
             [
              0.1111111111111111,
              "#46039f"
             ],
             [
              0.2222222222222222,
              "#7201a8"
             ],
             [
              0.3333333333333333,
              "#9c179e"
             ],
             [
              0.4444444444444444,
              "#bd3786"
             ],
             [
              0.5555555555555556,
              "#d8576b"
             ],
             [
              0.6666666666666666,
              "#ed7953"
             ],
             [
              0.7777777777777778,
              "#fb9f3a"
             ],
             [
              0.8888888888888888,
              "#fdca26"
             ],
             [
              1,
              "#f0f921"
             ]
            ],
            "type": "surface"
           }
          ],
          "table": [
           {
            "cells": {
             "fill": {
              "color": "#EBF0F8"
             },
             "line": {
              "color": "white"
             }
            },
            "header": {
             "fill": {
              "color": "#C8D4E3"
             },
             "line": {
              "color": "white"
             }
            },
            "type": "table"
           }
          ]
         },
         "layout": {
          "annotationdefaults": {
           "arrowcolor": "#2a3f5f",
           "arrowhead": 0,
           "arrowwidth": 1
          },
          "autotypenumbers": "strict",
          "coloraxis": {
           "colorbar": {
            "outlinewidth": 0,
            "ticks": ""
           }
          },
          "colorscale": {
           "diverging": [
            [
             0,
             "#8e0152"
            ],
            [
             0.1,
             "#c51b7d"
            ],
            [
             0.2,
             "#de77ae"
            ],
            [
             0.3,
             "#f1b6da"
            ],
            [
             0.4,
             "#fde0ef"
            ],
            [
             0.5,
             "#f7f7f7"
            ],
            [
             0.6,
             "#e6f5d0"
            ],
            [
             0.7,
             "#b8e186"
            ],
            [
             0.8,
             "#7fbc41"
            ],
            [
             0.9,
             "#4d9221"
            ],
            [
             1,
             "#276419"
            ]
           ],
           "sequential": [
            [
             0,
             "#0d0887"
            ],
            [
             0.1111111111111111,
             "#46039f"
            ],
            [
             0.2222222222222222,
             "#7201a8"
            ],
            [
             0.3333333333333333,
             "#9c179e"
            ],
            [
             0.4444444444444444,
             "#bd3786"
            ],
            [
             0.5555555555555556,
             "#d8576b"
            ],
            [
             0.6666666666666666,
             "#ed7953"
            ],
            [
             0.7777777777777778,
             "#fb9f3a"
            ],
            [
             0.8888888888888888,
             "#fdca26"
            ],
            [
             1,
             "#f0f921"
            ]
           ],
           "sequentialminus": [
            [
             0,
             "#0d0887"
            ],
            [
             0.1111111111111111,
             "#46039f"
            ],
            [
             0.2222222222222222,
             "#7201a8"
            ],
            [
             0.3333333333333333,
             "#9c179e"
            ],
            [
             0.4444444444444444,
             "#bd3786"
            ],
            [
             0.5555555555555556,
             "#d8576b"
            ],
            [
             0.6666666666666666,
             "#ed7953"
            ],
            [
             0.7777777777777778,
             "#fb9f3a"
            ],
            [
             0.8888888888888888,
             "#fdca26"
            ],
            [
             1,
             "#f0f921"
            ]
           ]
          },
          "colorway": [
           "#636efa",
           "#EF553B",
           "#00cc96",
           "#ab63fa",
           "#FFA15A",
           "#19d3f3",
           "#FF6692",
           "#B6E880",
           "#FF97FF",
           "#FECB52"
          ],
          "font": {
           "color": "#2a3f5f"
          },
          "geo": {
           "bgcolor": "white",
           "lakecolor": "white",
           "landcolor": "#E5ECF6",
           "showlakes": true,
           "showland": true,
           "subunitcolor": "white"
          },
          "hoverlabel": {
           "align": "left"
          },
          "hovermode": "closest",
          "mapbox": {
           "style": "light"
          },
          "paper_bgcolor": "white",
          "plot_bgcolor": "#E5ECF6",
          "polar": {
           "angularaxis": {
            "gridcolor": "white",
            "linecolor": "white",
            "ticks": ""
           },
           "bgcolor": "#E5ECF6",
           "radialaxis": {
            "gridcolor": "white",
            "linecolor": "white",
            "ticks": ""
           }
          },
          "scene": {
           "xaxis": {
            "backgroundcolor": "#E5ECF6",
            "gridcolor": "white",
            "gridwidth": 2,
            "linecolor": "white",
            "showbackground": true,
            "ticks": "",
            "zerolinecolor": "white"
           },
           "yaxis": {
            "backgroundcolor": "#E5ECF6",
            "gridcolor": "white",
            "gridwidth": 2,
            "linecolor": "white",
            "showbackground": true,
            "ticks": "",
            "zerolinecolor": "white"
           },
           "zaxis": {
            "backgroundcolor": "#E5ECF6",
            "gridcolor": "white",
            "gridwidth": 2,
            "linecolor": "white",
            "showbackground": true,
            "ticks": "",
            "zerolinecolor": "white"
           }
          },
          "shapedefaults": {
           "line": {
            "color": "#2a3f5f"
           }
          },
          "ternary": {
           "aaxis": {
            "gridcolor": "white",
            "linecolor": "white",
            "ticks": ""
           },
           "baxis": {
            "gridcolor": "white",
            "linecolor": "white",
            "ticks": ""
           },
           "bgcolor": "#E5ECF6",
           "caxis": {
            "gridcolor": "white",
            "linecolor": "white",
            "ticks": ""
           }
          },
          "title": {
           "x": 0.05
          },
          "xaxis": {
           "automargin": true,
           "gridcolor": "white",
           "linecolor": "white",
           "ticks": "",
           "title": {
            "standoff": 15
           },
           "zerolinecolor": "white",
           "zerolinewidth": 2
          },
          "yaxis": {
           "automargin": true,
           "gridcolor": "white",
           "linecolor": "white",
           "ticks": "",
           "title": {
            "standoff": 15
           },
           "zerolinecolor": "white",
           "zerolinewidth": 2
          }
         }
        },
        "title": {
         "text": "Crude death rate of Ca Mau",
         "x": 0.5
        },
        "xaxis": {
         "anchor": "y",
         "domain": [
          0,
          1
         ],
         "title": {
          "text": "Year"
         }
        },
        "yaxis": {
         "anchor": "x",
         "domain": [
          0,
          1
         ],
         "title": {
          "text": "Crude death rate"
         }
        }
       }
      }
     },
     "metadata": {},
     "output_type": "display_data"
    }
   ],
   "source": [
    "# Query and visualize the crude birth rate from database\n",
    "years, death_rates = queries.get_camau_death_rate()\n",
    "death_rates = [b / 1000.0 for b in death_rates]  # Birth rates are provided / 1000 population\n",
    "death_rates_series = pd.Series(death_rates, index=years)\n",
    "dr_fig= px.line(death_rates_series)\n",
    "dr_fig.update_traces(mode='markers+lines')\n",
    "dr_fig.update_layout(\n",
    "    title=\"Crude death rate of Ca Mau\",\n",
    "    title_x=0.5,\n",
    "    xaxis_title=\"Year\",\n",
    "    yaxis_title=\"Crude death rate\",\n",
    "    showlegend=False,\n",
    ")"
   ]
  },
  {
   "cell_type": "markdown",
   "metadata": {},
   "source": [
    "### Mixing matrix"
   ]
  },
  {
   "cell_type": "code",
   "execution_count": 10,
   "metadata": {},
   "outputs": [
    {
     "name": "stdout",
     "output_type": "stream",
     "text": [
      "Target region: CAMAU (VNM)\n",
      "Proxy country: VNM\n",
      "Always age-adjusted to target population\n"
     ]
    }
   ],
   "source": [
    "print(f\"Target region: {region.upper()} ({iso3})\")\n",
    "print(f\"Proxy country: {source_iso3}\")\n",
    "print(\"Always age-adjusted to target population\")"
   ]
  },
  {
   "cell_type": "code",
   "execution_count": 11,
   "metadata": {},
   "outputs": [],
   "source": [
    "update_params = {\n",
    "    'cdr_adjustment': 0.9989336153456185,\n",
    "    'contact_rate': 0.002499838468496036,\n",
    "   # 'gender.adjustments.infection.male': 3.8847794242408167,\n",
    "    'infect_death_rate_dict.smear_negative': 0.02754383816456201,\n",
    "    'infect_death_rate_dict.smear_positive': 0.3926589361017188,\n",
    "    'progression_multiplier': 1.1294148455406332,\n",
    "    'rr_infection_latent': 0.208636783534153,\n",
    "    'rr_infection_recovered': 0.49810794455100427,\n",
    "    'self_recovery_rate_dict.smear_positive': 0.12866522713915401,\n",
    "    'self_recovery_rate_dict.smear_negative': 0.22346767430010847,\n",
    "    'start_population_size': 224157.46301270014\n",
    "}\n",
    "params = baseline_params.update(update_params,calibration_format=True)\n",
    "model_0  =  p.build_model(params.to_dict())\n",
    "model_0.run(params.to_dict())\n",
    "derived_df_0 = model_0.get_derived_outputs_df()"
   ]
  },
  {
   "cell_type": "code",
   "execution_count": 12,
   "metadata": {},
   "outputs": [
    {
     "data": {
      "text/plain": [
       "[Stratification: age, Stratification: organ]"
      ]
     },
     "execution_count": 12,
     "metadata": {},
     "output_type": "execute_result"
    }
   ],
   "source": [
    "model_0._stratifications"
   ]
  },
  {
   "cell_type": "code",
   "execution_count": 13,
   "metadata": {},
   "outputs": [
    {
     "data": {
      "text/plain": [
       "[array([[ 398.43289672,  261.82020387,  643.68286218,  401.62199159,\n",
       "          356.13449939],\n",
       "        [ 165.78966683,  881.63067677,  532.84120554,  550.75979227,\n",
       "          285.62836724],\n",
       "        [ 231.75164317,  311.38983781,  915.52884268,  673.30894113,\n",
       "          664.14577066],\n",
       "        [ 141.94492435,  310.88835505,  786.13676958, 1134.31076003,\n",
       "          938.03403291],\n",
       "        [  67.30073632,  170.46333134,  647.30153978, 1018.81243422,\n",
       "         1763.57657715]])]"
      ]
     },
     "execution_count": 13,
     "metadata": {},
     "output_type": "execute_result"
    }
   ],
   "source": [
    "model_0._mixing_matrices"
   ]
  },
  {
   "cell_type": "code",
   "execution_count": 14,
   "metadata": {},
   "outputs": [
    {
     "data": {
      "application/vnd.plotly.v1+json": {
       "config": {
        "plotlyServerURL": "https://plot.ly"
       },
       "data": [
        {
         "hovertemplate": "index=%{x}<br>total_population=%{y}<extra></extra>",
         "legendgroup": "",
         "line": {
          "color": "#636efa",
          "dash": "solid"
         },
         "marker": {
          "symbol": "circle"
         },
         "mode": "lines",
         "name": "",
         "showlegend": false,
         "type": "scattergl",
         "x": [
          1900,
          1900.1,
          1900.2,
          1900.3,
          1900.4,
          1900.5,
          1900.6,
          1900.7,
          1900.8,
          1900.9,
          1901,
          1901.1,
          1901.2,
          1901.3,
          1901.4,
          1901.5,
          1901.6,
          1901.7,
          1901.8,
          1901.9,
          1902,
          1902.1,
          1902.2,
          1902.3,
          1902.4,
          1902.5,
          1902.6,
          1902.7,
          1902.8,
          1902.9,
          1903,
          1903.1,
          1903.2,
          1903.3,
          1903.4,
          1903.5,
          1903.6,
          1903.7,
          1903.8,
          1903.9,
          1904,
          1904.1,
          1904.2,
          1904.3,
          1904.4,
          1904.5,
          1904.6,
          1904.7,
          1904.8,
          1904.9,
          1905,
          1905.1,
          1905.2,
          1905.3,
          1905.4,
          1905.5,
          1905.6,
          1905.7,
          1905.8,
          1905.9,
          1906,
          1906.1,
          1906.2,
          1906.3,
          1906.4,
          1906.5,
          1906.6,
          1906.7,
          1906.8,
          1906.9,
          1907,
          1907.1,
          1907.2,
          1907.3,
          1907.4,
          1907.5,
          1907.6,
          1907.7,
          1907.8,
          1907.9,
          1908,
          1908.1,
          1908.2,
          1908.3,
          1908.4,
          1908.5,
          1908.6,
          1908.7,
          1908.8,
          1908.9,
          1909,
          1909.1,
          1909.2,
          1909.3,
          1909.4,
          1909.5,
          1909.6,
          1909.7,
          1909.8,
          1909.9,
          1910,
          1910.1,
          1910.2,
          1910.3,
          1910.4,
          1910.5,
          1910.6,
          1910.7,
          1910.8,
          1910.9,
          1911,
          1911.1,
          1911.2,
          1911.3,
          1911.4,
          1911.5,
          1911.6,
          1911.7,
          1911.8,
          1911.9,
          1912,
          1912.1,
          1912.2,
          1912.3,
          1912.4,
          1912.5,
          1912.6,
          1912.7,
          1912.8,
          1912.9,
          1913,
          1913.1,
          1913.2,
          1913.3,
          1913.4,
          1913.5,
          1913.6,
          1913.7,
          1913.8,
          1913.9,
          1914,
          1914.1,
          1914.2,
          1914.3,
          1914.4,
          1914.5,
          1914.6,
          1914.7,
          1914.8,
          1914.9,
          1915,
          1915.1,
          1915.2,
          1915.3,
          1915.4,
          1915.5,
          1915.6,
          1915.7,
          1915.8,
          1915.9,
          1916,
          1916.1,
          1916.2,
          1916.3,
          1916.4,
          1916.5,
          1916.6,
          1916.7,
          1916.8,
          1916.9,
          1917,
          1917.1,
          1917.2,
          1917.3,
          1917.4,
          1917.5,
          1917.6,
          1917.7,
          1917.8,
          1917.9,
          1918,
          1918.1,
          1918.2,
          1918.3,
          1918.4,
          1918.5,
          1918.6,
          1918.7,
          1918.8,
          1918.9,
          1919,
          1919.1,
          1919.2,
          1919.3,
          1919.4,
          1919.5,
          1919.6,
          1919.7,
          1919.8,
          1919.9,
          1920,
          1920.1,
          1920.2,
          1920.3,
          1920.4,
          1920.5,
          1920.6,
          1920.7,
          1920.8,
          1920.9,
          1921,
          1921.1,
          1921.2,
          1921.3,
          1921.4,
          1921.5,
          1921.6,
          1921.7,
          1921.8,
          1921.9,
          1922,
          1922.1,
          1922.2,
          1922.3,
          1922.4,
          1922.5,
          1922.6,
          1922.7,
          1922.8,
          1922.9,
          1923,
          1923.1,
          1923.2,
          1923.3,
          1923.4,
          1923.5,
          1923.6,
          1923.7,
          1923.8,
          1923.9,
          1924,
          1924.1,
          1924.2,
          1924.3,
          1924.4,
          1924.5,
          1924.6,
          1924.7,
          1924.8,
          1924.9,
          1925,
          1925.1,
          1925.2,
          1925.3,
          1925.4,
          1925.5,
          1925.6,
          1925.7,
          1925.8,
          1925.9,
          1926,
          1926.1,
          1926.2,
          1926.3,
          1926.4,
          1926.5,
          1926.6,
          1926.7,
          1926.8,
          1926.9,
          1927,
          1927.1,
          1927.2,
          1927.3,
          1927.4,
          1927.5,
          1927.6,
          1927.7,
          1927.8,
          1927.9,
          1928,
          1928.1,
          1928.2,
          1928.3,
          1928.4,
          1928.5,
          1928.6,
          1928.7,
          1928.8,
          1928.9,
          1929,
          1929.1,
          1929.2,
          1929.3,
          1929.4,
          1929.5,
          1929.6,
          1929.7,
          1929.8,
          1929.9,
          1930,
          1930.1,
          1930.2,
          1930.3,
          1930.4,
          1930.5,
          1930.6,
          1930.7,
          1930.8,
          1930.9,
          1931,
          1931.1,
          1931.2,
          1931.3,
          1931.4,
          1931.5,
          1931.6,
          1931.7,
          1931.8,
          1931.9,
          1932,
          1932.1,
          1932.2,
          1932.3,
          1932.4,
          1932.5,
          1932.6,
          1932.7,
          1932.8,
          1932.9,
          1933,
          1933.1,
          1933.2,
          1933.3,
          1933.4,
          1933.5,
          1933.6,
          1933.7,
          1933.8,
          1933.9,
          1934,
          1934.1,
          1934.2,
          1934.3,
          1934.4,
          1934.5,
          1934.6,
          1934.7,
          1934.8,
          1934.9,
          1935,
          1935.1,
          1935.2,
          1935.3,
          1935.4,
          1935.5,
          1935.6,
          1935.7,
          1935.8,
          1935.9,
          1936,
          1936.1,
          1936.2,
          1936.3,
          1936.4,
          1936.5,
          1936.6,
          1936.7,
          1936.8,
          1936.9,
          1937,
          1937.1,
          1937.2,
          1937.3,
          1937.4,
          1937.5,
          1937.6,
          1937.7,
          1937.8,
          1937.9,
          1938,
          1938.1,
          1938.2,
          1938.3,
          1938.4,
          1938.5,
          1938.6,
          1938.7,
          1938.8,
          1938.9,
          1939,
          1939.1,
          1939.2,
          1939.3,
          1939.4,
          1939.5,
          1939.6,
          1939.7,
          1939.8,
          1939.9,
          1940,
          1940.1,
          1940.2,
          1940.3,
          1940.4,
          1940.5,
          1940.6,
          1940.7,
          1940.8,
          1940.9,
          1941,
          1941.1,
          1941.2,
          1941.3,
          1941.4,
          1941.5,
          1941.6,
          1941.7,
          1941.8,
          1941.9,
          1942,
          1942.1,
          1942.2,
          1942.3,
          1942.4,
          1942.5,
          1942.6,
          1942.7,
          1942.8,
          1942.9,
          1943,
          1943.1,
          1943.2,
          1943.3,
          1943.4,
          1943.5,
          1943.6,
          1943.7,
          1943.8,
          1943.9,
          1944,
          1944.1,
          1944.2,
          1944.3,
          1944.4,
          1944.5,
          1944.6,
          1944.7,
          1944.8,
          1944.9,
          1945,
          1945.1,
          1945.2,
          1945.3,
          1945.4,
          1945.5,
          1945.6,
          1945.7,
          1945.8,
          1945.9,
          1946,
          1946.1,
          1946.2,
          1946.3,
          1946.4,
          1946.5,
          1946.6,
          1946.7,
          1946.8,
          1946.9,
          1947,
          1947.1,
          1947.2,
          1947.3,
          1947.4,
          1947.5,
          1947.6,
          1947.7,
          1947.8,
          1947.9,
          1948,
          1948.1,
          1948.2,
          1948.3,
          1948.4,
          1948.5,
          1948.6,
          1948.7,
          1948.8,
          1948.9,
          1949,
          1949.1,
          1949.2,
          1949.3,
          1949.4,
          1949.5,
          1949.6,
          1949.7,
          1949.8,
          1949.9,
          1950,
          1950.1,
          1950.2,
          1950.3,
          1950.4,
          1950.5,
          1950.6,
          1950.7,
          1950.8,
          1950.9,
          1951,
          1951.1,
          1951.2,
          1951.3,
          1951.4,
          1951.5,
          1951.6,
          1951.7,
          1951.8,
          1951.9,
          1952,
          1952.1,
          1952.2,
          1952.3,
          1952.4,
          1952.5,
          1952.6,
          1952.7,
          1952.8,
          1952.9,
          1953,
          1953.1,
          1953.2,
          1953.3,
          1953.4,
          1953.5,
          1953.6,
          1953.7,
          1953.8,
          1953.9,
          1954,
          1954.1,
          1954.2,
          1954.3,
          1954.4,
          1954.5,
          1954.6,
          1954.7,
          1954.8,
          1954.9,
          1955,
          1955.1,
          1955.2,
          1955.3,
          1955.4,
          1955.5,
          1955.6,
          1955.7,
          1955.8,
          1955.9,
          1956,
          1956.1,
          1956.2,
          1956.3,
          1956.4,
          1956.5,
          1956.6,
          1956.7,
          1956.8,
          1956.9,
          1957,
          1957.1,
          1957.2,
          1957.3,
          1957.4,
          1957.5,
          1957.6,
          1957.7,
          1957.8,
          1957.9,
          1958,
          1958.1,
          1958.2,
          1958.3,
          1958.4,
          1958.5,
          1958.6,
          1958.7,
          1958.8,
          1958.9,
          1959,
          1959.1,
          1959.2,
          1959.3,
          1959.4,
          1959.5,
          1959.6,
          1959.7,
          1959.8,
          1959.9,
          1960,
          1960.1,
          1960.2,
          1960.3,
          1960.4,
          1960.5,
          1960.6,
          1960.7,
          1960.8,
          1960.9,
          1961,
          1961.1,
          1961.2,
          1961.3,
          1961.4,
          1961.5,
          1961.6,
          1961.7,
          1961.8,
          1961.9,
          1962,
          1962.1,
          1962.2,
          1962.3,
          1962.4,
          1962.5,
          1962.6,
          1962.7,
          1962.8,
          1962.9,
          1963,
          1963.1,
          1963.2,
          1963.3,
          1963.4,
          1963.5,
          1963.6,
          1963.7,
          1963.8,
          1963.9,
          1964,
          1964.1,
          1964.2,
          1964.3,
          1964.4,
          1964.5,
          1964.6,
          1964.7,
          1964.8,
          1964.9,
          1965,
          1965.1,
          1965.2,
          1965.3,
          1965.4,
          1965.5,
          1965.6,
          1965.7,
          1965.8,
          1965.9,
          1966,
          1966.1,
          1966.2,
          1966.3,
          1966.4,
          1966.5,
          1966.6,
          1966.7,
          1966.8,
          1966.9,
          1967,
          1967.1,
          1967.2,
          1967.3,
          1967.4,
          1967.5,
          1967.6,
          1967.7,
          1967.8,
          1967.9,
          1968,
          1968.1,
          1968.2,
          1968.3,
          1968.4,
          1968.5,
          1968.6,
          1968.7,
          1968.8,
          1968.9,
          1969,
          1969.1,
          1969.2,
          1969.3,
          1969.4,
          1969.5,
          1969.6,
          1969.7,
          1969.8,
          1969.9,
          1970,
          1970.1,
          1970.2,
          1970.3,
          1970.4,
          1970.5,
          1970.6,
          1970.7,
          1970.8,
          1970.9,
          1971,
          1971.1,
          1971.2,
          1971.3,
          1971.4,
          1971.5,
          1971.6,
          1971.7,
          1971.8,
          1971.9,
          1972,
          1972.1,
          1972.2,
          1972.3,
          1972.4,
          1972.5,
          1972.6,
          1972.7,
          1972.8,
          1972.9,
          1973,
          1973.1,
          1973.2,
          1973.3,
          1973.4,
          1973.5,
          1973.6,
          1973.7,
          1973.8,
          1973.9,
          1974,
          1974.1,
          1974.2,
          1974.3,
          1974.4,
          1974.5,
          1974.6,
          1974.7,
          1974.8,
          1974.9,
          1975,
          1975.1,
          1975.2,
          1975.3,
          1975.4,
          1975.5,
          1975.6,
          1975.7,
          1975.8,
          1975.9,
          1976,
          1976.1,
          1976.2,
          1976.3,
          1976.4,
          1976.5,
          1976.6,
          1976.7,
          1976.8,
          1976.9,
          1977,
          1977.1,
          1977.2,
          1977.3,
          1977.4,
          1977.5,
          1977.6,
          1977.7,
          1977.8,
          1977.9,
          1978,
          1978.1,
          1978.2,
          1978.3,
          1978.4,
          1978.5,
          1978.6,
          1978.7,
          1978.8,
          1978.9,
          1979,
          1979.1,
          1979.2,
          1979.3,
          1979.4,
          1979.5,
          1979.6,
          1979.7,
          1979.8,
          1979.9,
          1980,
          1980.1,
          1980.2,
          1980.3,
          1980.4,
          1980.5,
          1980.6,
          1980.7,
          1980.8,
          1980.9,
          1981,
          1981.1,
          1981.2,
          1981.3,
          1981.4,
          1981.5,
          1981.6,
          1981.7,
          1981.8,
          1981.9,
          1982,
          1982.1,
          1982.2,
          1982.3,
          1982.4,
          1982.5,
          1982.6,
          1982.7,
          1982.8,
          1982.9,
          1983,
          1983.1,
          1983.2,
          1983.3,
          1983.4,
          1983.5,
          1983.6,
          1983.7,
          1983.8,
          1983.9,
          1984,
          1984.1,
          1984.2,
          1984.3,
          1984.4,
          1984.5,
          1984.6,
          1984.7,
          1984.8,
          1984.9,
          1985,
          1985.1,
          1985.2,
          1985.3,
          1985.4,
          1985.5,
          1985.6,
          1985.7,
          1985.8,
          1985.9,
          1986,
          1986.1,
          1986.2,
          1986.3,
          1986.4,
          1986.5,
          1986.6,
          1986.7,
          1986.8,
          1986.9,
          1987,
          1987.1,
          1987.2,
          1987.3,
          1987.4,
          1987.5,
          1987.6,
          1987.7,
          1987.8,
          1987.9,
          1988,
          1988.1,
          1988.2,
          1988.3,
          1988.4,
          1988.5,
          1988.6,
          1988.7,
          1988.8,
          1988.9,
          1989,
          1989.1,
          1989.2,
          1989.3,
          1989.4,
          1989.5,
          1989.6,
          1989.7,
          1989.8,
          1989.9,
          1990,
          1990.1,
          1990.2,
          1990.3,
          1990.4,
          1990.5,
          1990.6,
          1990.7,
          1990.8,
          1990.9,
          1991,
          1991.1,
          1991.2,
          1991.3,
          1991.4,
          1991.5,
          1991.6,
          1991.7,
          1991.8,
          1991.9,
          1992,
          1992.1,
          1992.2,
          1992.3,
          1992.4,
          1992.5,
          1992.6,
          1992.7,
          1992.8,
          1992.9,
          1993,
          1993.1,
          1993.2,
          1993.3,
          1993.4,
          1993.5,
          1993.6,
          1993.7,
          1993.8,
          1993.9,
          1994,
          1994.1,
          1994.2,
          1994.3,
          1994.4,
          1994.5,
          1994.6,
          1994.7,
          1994.8,
          1994.9,
          1995,
          1995.1,
          1995.2,
          1995.3,
          1995.4,
          1995.5,
          1995.6,
          1995.7,
          1995.8,
          1995.9,
          1996,
          1996.1,
          1996.2,
          1996.3,
          1996.4,
          1996.5,
          1996.6,
          1996.7,
          1996.8,
          1996.9,
          1997,
          1997.1,
          1997.2,
          1997.3,
          1997.4,
          1997.5,
          1997.6,
          1997.7,
          1997.8,
          1997.9,
          1998,
          1998.1,
          1998.2,
          1998.3,
          1998.4,
          1998.5,
          1998.6,
          1998.7,
          1998.8,
          1998.9,
          1999,
          1999.1,
          1999.2,
          1999.3,
          1999.4,
          1999.5,
          1999.6,
          1999.7,
          1999.8,
          1999.9,
          2000,
          2000.1,
          2000.2,
          2000.3,
          2000.4,
          2000.5,
          2000.6,
          2000.7,
          2000.8,
          2000.9,
          2001,
          2001.1,
          2001.2,
          2001.3,
          2001.4,
          2001.5,
          2001.6,
          2001.7,
          2001.8,
          2001.9,
          2002,
          2002.1,
          2002.2,
          2002.3,
          2002.4,
          2002.5,
          2002.6,
          2002.7,
          2002.8,
          2002.9,
          2003,
          2003.1,
          2003.2,
          2003.3,
          2003.4,
          2003.5,
          2003.6,
          2003.7,
          2003.8,
          2003.9,
          2004,
          2004.1,
          2004.2,
          2004.3,
          2004.4,
          2004.5,
          2004.6,
          2004.7,
          2004.8,
          2004.9,
          2005,
          2005.1,
          2005.2,
          2005.3,
          2005.4,
          2005.5,
          2005.6,
          2005.7,
          2005.8,
          2005.9,
          2006,
          2006.1,
          2006.2,
          2006.3,
          2006.4,
          2006.5,
          2006.6,
          2006.7,
          2006.8,
          2006.9,
          2007,
          2007.1,
          2007.2,
          2007.3,
          2007.4,
          2007.5,
          2007.6,
          2007.7,
          2007.8,
          2007.9,
          2008,
          2008.1,
          2008.2,
          2008.3,
          2008.4,
          2008.5,
          2008.6,
          2008.7,
          2008.8,
          2008.9,
          2009,
          2009.1,
          2009.2,
          2009.3,
          2009.4,
          2009.5,
          2009.6,
          2009.7,
          2009.8,
          2009.9,
          2010,
          2010.1,
          2010.2,
          2010.3,
          2010.4,
          2010.5,
          2010.6,
          2010.7,
          2010.8,
          2010.9,
          2011,
          2011.1,
          2011.2,
          2011.3,
          2011.4,
          2011.5,
          2011.6,
          2011.7,
          2011.8,
          2011.9,
          2012,
          2012.1,
          2012.2,
          2012.3,
          2012.4,
          2012.5,
          2012.6,
          2012.7,
          2012.8,
          2012.9,
          2013,
          2013.1,
          2013.2,
          2013.3,
          2013.4,
          2013.5,
          2013.6,
          2013.7,
          2013.8,
          2013.9,
          2014,
          2014.1,
          2014.2,
          2014.3,
          2014.4,
          2014.5,
          2014.6,
          2014.7,
          2014.8,
          2014.9,
          2015,
          2015.1,
          2015.2,
          2015.3,
          2015.4,
          2015.5,
          2015.6,
          2015.7,
          2015.8,
          2015.9,
          2016,
          2016.1,
          2016.2,
          2016.3,
          2016.4,
          2016.5,
          2016.6,
          2016.7,
          2016.8,
          2016.9,
          2017,
          2017.1,
          2017.2,
          2017.3,
          2017.4,
          2017.5,
          2017.6,
          2017.7,
          2017.8,
          2017.9,
          2018,
          2018.1,
          2018.2,
          2018.3,
          2018.4,
          2018.5,
          2018.6,
          2018.7,
          2018.8,
          2018.9,
          2019,
          2019.1,
          2019.2,
          2019.3,
          2019.4,
          2019.5,
          2019.6,
          2019.7,
          2019.8,
          2019.9,
          2020
         ],
         "xaxis": "x",
         "y": [
          224157.46301270014,
          224116.06598812042,
          224080.10714110697,
          224049.52878980964,
          224024.27407630545,
          224004.28705272786,
          223989.51253187616,
          223979.8961258626,
          223975.3842188857,
          223975.92392858505,
          223981.46311352757,
          223991.95037928448,
          224007.3350269908,
          224027.56704458746,
          224052.59709932664,
          224082.37655949377,
          224116.85747106175,
          224155.99250503542,
          224199.7349566281,
          224248.03874526222,
          224300.85841977163,
          224358.14916898953,
          224419.8667652317,
          224485.9675466768,
          224556.40841730378,
          224631.14685814385,
          224710.14094857406,
          224793.34929970544,
          224880.73103879052,
          224972.24580922758,
          225067.85379363602,
          225167.5157272646,
          225271.1928277824,
          225378.84678924148,
          225490.4397875308,
          225605.93451657443,
          225725.2941442527,
          225848.48228543188,
          225975.4630021177,
          226106.20081766724,
          226240.6607295134,
          226378.8081589234,
          226520.6089423574,
          226666.02933155544,
          226815.036012675,
          226967.59611340365,
          227123.6771487382,
          227283.24701422206,
          227446.2739865368,
          227612.7267573455,
          227782.5744242254,
          227955.78643863584,
          228132.33260555816,
          228312.18309483223,
          228495.30847264605,
          228681.6796510793,
          228871.26787692928,
          229064.0447324203,
          229259.9821571839,
          229459.0524450484,
          229661.22820574176,
          229866.48236229125,
          230074.7881521971,
          230286.1191544296,
          230500.44927737192,
          230717.75271975133,
          230938.00396877632,
          231161.1778030992,
          231387.24933359498,
          231616.1939713659,
          231847.9873956365,
          232082.6055549856,
          232320.02468764407,
          232560.22133847076,
          232803.17231233235,
          233048.85467145458,
          233297.245737591,
          233548.3231192394,
          233802.06469341085,
          234058.44857983864,
          234317.45314057908,
          234579.05698387767,
          234843.23899484775,
          235109.978307487,
          235379.2542799554,
          235651.04649431788,
          235925.33476441714,
          236202.0991764376,
          236481.3200408082,
          236762.97787704243,
          237047.05341524776,
          237333.52762586597,
          237622.38171673394,
          237913.59709751763,
          238207.15538015217,
          238503.03838424166,
          238801.22816511628,
          239101.70698415814,
          239404.45729414048,
          239709.46173934027,
          240016.70316422524,
          240326.16464145487,
          240637.82943398601,
          240951.68098205965,
          241267.70290322148,
          241585.87900823457,
          241906.19333149254,
          242228.63007763398,
          242553.1736179015,
          242879.8084930078,
          243208.5194489839,
          243539.29141555462,
          243872.10948314276,
          244206.9589039936,
          244543.8251028421,
          244882.69369976246,
          245223.55047519266,
          245566.3813634176,
          245911.17245262183,
          246257.91000089148,
          246606.58045357207,
          246957.1704041506,
          247309.66658863422,
          247664.05588564323,
          248020.3253436129,
          248378.46218980916,
          248738.45378500305,
          249100.28762424225,
          249463.95134354968,
          249829.4327564606,
          250196.71981846972,
          250565.80061540697,
          250936.66336427955,
          251309.2964311988,
          251683.68834240115,
          252059.82775140012,
          252437.70343676824,
          252817.30430270295,
          253198.61940297912,
          253581.6379424345,
          253966.34924344585,
          254352.74274411777,
          254740.8079997256,
          255130.53471931294,
          255521.9127509367,
          255914.93204998362,
          256309.58268089913,
          256705.854830389,
          257103.73883712085,
          257503.22514985868,
          257904.3043241823,
          258306.96702348383,
          258711.20404379227,
          259117.00631031234,
          259524.36485078704,
          259933.27079522243,
          260343.71537927582,
          260755.68997369477,
          261169.1860590065,
          261584.19521599798,
          262000.70912734137,
          262418.7195812557,
          262838.21848981443,
          263259.1978606836,
          263681.6498018639,
          264105.56652380107,
          264530.9403422336,
          264957.76368230965,
          265386.02905703336,
          265815.7290812159,
          266246.85647213383,
          266679.4040414242,
          267113.36470408353,
          267548.73146381753,
          267985.4974098553,
          268423.6557300355,
          268863.19972175866,
          269304.1227672552,
          269746.41833158716,
          270190.0799631077,
          270635.10131355084,
          271081.4761259804,
          271529.19822459,
          271978.26152011374,
          272428.6600098336,
          272880.3877816541,
          273333.4390062374,
          273787.80793138716,
          274243.4888926946,
          274700.47631082445,
          275158.7646849815,
          275618.34860228875,
          276079.2227211605,
          276541.38176989165,
          277004.8205634769,
          277469.53401105833,
          277935.5170901565,
          278402.7648453839,
          278871.272389773,
          279341.03493148484,
          279812.04774530395,
          280284.3061751656,
          280757.8056426005,
          281232.5416467531,
          281708.50975965284,
          282185.70560940466,
          282664.1248970015,
          283143.7634017976,
          283624.6169735931,
          284106.6815241136,
          284589.9530403201,
          285074.4275664974,
          285560.1012043905,
          286046.970135269,
          286535.0306174071,
          287024.27896375983,
          287514.71154180367,
          288006.32477729605,
          288499.11518137413,
          288993.079314232,
          289488.21379671525,
          289984.5153153878,
          290481.98062258924,
          290980.6065284097,
          291480.38989006024,
          291981.327628345,
          292483.41673000215,
          292986.65423669736,
          293491.037247871,
          293996.56292234885,
          294503.2284647101,
          295011.03112768003,
          295519.96823820635,
          296030.03718189884,
          296541.2353890949,
          297053.5603355274,
          297567.0095490013,
          298081.58062881156,
          298597.2712123557,
          299114.07898950175,
          299632.0017045612,
          300151.0371567079,
          300671.1831924891,
          301192.43769930664,
          301714.79861811304,
          302238.2639441132,
          302762.8317170847,
          303288.50002859323,
          303815.2670152934,
          304343.1308530972,
          304872.089761244,
          305402.14202195004,
          305933.28596081893,
          306465.51994188345,
          306998.8423680048,
          307533.25168992876,
          308068.74641307077,
          308605.32507498725,
          309142.98625792057,
          309681.72858917224,
          310221.5507423062,
          310762.4514291843,
          311304.4293968717,
          311847.4834371377,
          312391.61238607555,
          312936.8151179312,
          313483.0905495712,
          314030.4376336443,
          314578.8553566716,
          315128.34274467576,
          315678.8988738048,
          316230.5228534338,
          316783.2138261226,
          317336.9709676932,
          317891.79349794734,
          318447.6806755498,
          319004.63178839674,
          319562.64616147924,
          320121.72315687797,
          320681.8621765772,
          321243.0626524068,
          321805.3240467225,
          322368.645858749,
          322933.0276239855,
          323498.4689112772,
          324064.96932258486,
          324632.5284895348,
          325201.14607308846,
          325770.8217700967,
          326341.5553144994,
          326913.3464674286,
          327486.19501862826,
          328060.1007867713,
          328635.06362897006,
          329211.0834295192,
          329788.1600992714,
          330366.2935794515,
          330945.48384188605,
          331525.7308933195,
          332107.0347628223,
          332689.39550591947,
          333272.8132081885,
          333857.2879855111,
          334442.81998229236,
          335029.40936793236,
          335617.05633735174,
          336205.7611112244,
          336795.52394140087,
          337386.345105829,
          337978.2249059407,
          338571.1636679538,
          339165.1617436781,
          339760.21951603465,
          340356.3373881146,
          340953.5157861931,
          341551.75516118336,
          342151.0559896643,
          342751.4187786368,
          343352.8440514889,
          343955.3323540631,
          344558.8842564499,
          345163.5003553431,
          345769.18126991607,
          346375.9276387597,
          346983.7401229774,
          347592.6194066202,
          348202.5661986263,
          348813.58122627455,
          349425.66523777205,
          350038.8190030573,
          350653.0433146722,
          351268.33898841805,
          351884.70685651654,
          352502.14777060476,
          353120.6626020984,
          353740.25224134873,
          354360.9176095668,
          354982.6596544447,
          355605.47932625795,
          356229.3775769252,
          356854.3553773868,
          357480.4137665747,
          358107.55377692974,
          358735.77644928,
          359365.0828375697,
          359995.4740318818,
          360626.95114151173,
          361259.51528345374,
          361893.1675834083,
          362527.90919276344,
          363163.7412927823,
          363800.66507416265,
          364438.6817367847,
          365077.79249124945,
          365717.99858178326,
          366359.3012639821,
          367001.7018054768,
          367645.2014909295,
          368289.8016220316,
          368935.50352020503,
          369582.3085217142,
          370230.2179731822,
          370879.2332337994,
          371529.35567812255,
          372180.58670588,
          372832.9277279504,
          373486.38016516744,
          374140.94544887723,
          374796.6250314816,
          375453.420384056,
          376111.3329870921,
          376770.3643312284,
          377430.51591836783,
          378091.7892745837,
          378754.18593664456,
          379417.7074509546,
          380082.3553755881,
          380748.1312807761,
          381415.03675970365,
          382083.07341598684,
          382752.2428600598,
          383422.5467119875,
          384093.9866078078,
          384766.5642032491,
          385440.28115977935,
          386115.1391499758,
          386791.13985806017,
          387468.2849843081,
          388146.5762393196,
          388826.01534360973,
          389506.6040282919,
          390188.34403615753,
          390871.2371267878,
          391555.2850679533,
          392240.48963578825,
          392926.852615236,
          393614.3758020736,
          394303.061014934,
          394992.9100768337,
          395683.9248166011,
          396376.107070419,
          397069.4586929454,
          397763.9815495572,
          398459.67751087673,
          399156.54845923465,
          399854.596288983,
          400553.8229041993,
          401254.2302148904,
          401955.82014179294,
          402658.59461677587,
          403362.5555825766,
          404067.7049920847,
          404774.04480622965,
          405481.57699214265,
          406190.30352312326,
          406900.2263837458,
          407611.3475804179,
          408323.6691193889,
          409037.1930114434,
          409751.92127333133,
          410467.8559424429,
          411184.9990584714,
          411903.35266797175,
          412622.91882943106,
          413343.69961275323,
          414065.697090842,
          414788.9133418591,
          415513.3504552415,
          416239.0105317906,
          416965.8956805857,
          417694.008017299,
          418423.3496652824,
          419153.9227519021,
          419885.7294085213,
          420618.7717807324,
          421353.0520319523,
          422088.57232306234,
          422825.3348179238,
          423563.341686463,
          424302.5951197262,
          425043.0973046767,
          425784.8504374593,
          426527.85672653053,
          427272.1183897302,
          428017.63764193445,
          428764.4167049299,
          429512.4578121317,
          430261.7632084805,
          431012.33514277183,
          431764.1758703562,
          432517.2876525857,
          433271.672753122,
          434027.3334381953,
          434784.2719931084,
          435542.49071384093,
          436301.99189365417,
          437062.7778270996,
          437824.8508171011,
          438588.2131848316,
          439352.86724425823,
          440118.8153208901,
          440886.059753028,
          441654.6028838531,
          442424.44705130206,
          443195.59460230754,
          443968.0478949342,
          444741.80929767276,
          445516.8811797873,
          446293.26591869484,
          447070.9658952063,
          447849.98349099985,
          448630.3210888453,
          449411.9810917029,
          450194.965927065,
          450979.278009154,
          451764.91973547824,
          452551.8934940346,
          453340.20173787104,
          454129.84691786085,
          454920.8314684233,
          455713.1578160703,
          456506.8284134044,
          457301.8457261585,
          458098.2122148605,
          458895.93034149415,
          459695.00257352676,
          460495.4313942134,
          461297.21928962803,
          462100.3687456374,
          462904.8822479403,
          463710.7622943464,
          464518.0113956005,
          465326.6320607614,
          466136.62680154183,
          466947.9981323214,
          467760.74857497844,
          468574.88067050895,
          469390.39695694443,
          470207.2999683256,
          471025.592237841,
          471845.2763241563,
          472666.35478244716,
          473488.83017105795,
          474312.7050561839,
          475137.9820108718,
          475964.66360834433,
          476792.75242593494,
          477622.2510478277,
          478453.1620650184,
          479285.4880727013,
          480119.231674158,
          480954.39547535725,
          481790.982081452,
          482628.9940967744,
          483468.43413988064,
          484309.30484852253,
          485151.6088524613,
          485995.3487770276,
          486840.5272502653,
          487687.1469258971,
          488535.2104465125,
          489384.72046307474,
          490235.67967500497,
          491088.0921792329,
          491941.95776815806,
          492797.2824580661,
          493654.0829839063,
          494512.38641682634,
          495372.21636697004,
          496233.5942467398,
          497096.55436265946,
          497961.14395193156,
          498827.42366244725,
          499695.47698072577,
          500565.41209436645,
          501437.3873263076,
          502311.61754966795,
          503188.3885803013,
          504068.0784831066,
          504951.20638769376,
          505838.4930700113,
          506730.8641035617,
          507629.5257985702,
          508536.0460769352,
          509452.37653862464,
          510380.8609907033,
          511324.1966707896,
          512285.31217281683,
          513267.2845550333,
          514272.5193078764,
          515302.66043798573,
          516358.5694369097,
          517439.79569009086,
          518544.67040633515,
          519670.98935361893,
          520816.047741205,
          521976.90860090527,
          523150.95776834653,
          524335.8834541802,
          525529.7563188816,
          526731.0242101703,
          527938.4762362044,
          529151.2054786647,
          530368.4981611522,
          531589.820720567,
          532814.8065941135,
          534043.178155493,
          535274.738273641,
          536509.3379203202,
          537746.872744901,
          538987.2786329543,
          540230.5087852548,
          541476.534038677,
          542725.3354349217,
          543976.903484933,
          545231.2347678895,
          546488.319026143,
          547748.1541757713,
          549010.7481239046,
          550276.1176476532,
          551544.2777971516,
          552815.2419813133,
          554089.0235729013,
          555365.635451627,
          556645.0898097402,
          557927.3982174471,
          559212.5709254525,
          560500.6166092529,
          561791.5423207239,
          563085.3526053438,
          564382.0495203935,
          565681.6306690394,
          566984.088679831,
          568289.4112066912,
          569597.5806951951,
          570908.5717976507,
          572222.3561246512,
          573538.904475785,
          574858.1881123532,
          576180.187618583,
          577504.8982533913,
          578832.3344122289,
          580162.529880439,
          581495.5348031609,
          582831.4138751562,
          584170.233200006,
          585512.0565351673,
          586856.9451696515,
          588204.9529857178,
          589556.1239451802,
          590910.4958265643,
          592268.1002946169,
          593628.9629306823,
          594993.1050480655,
          596360.5449944006,
          597731.2987986031,
          599105.3806598649,
          600482.8031442948,
          601863.5779729616,
          603247.7161187815,
          604635.2280901909,
          606026.1239251124,
          607420.4133577206,
          608818.1067453945,
          610219.2129054966,
          611623.738631152,
          613031.6880746392,
          614443.059039118,
          615857.8521576835,
          617276.0653316816,
          618697.6920713919,
          620122.7211644766,
          621551.1334276315,
          622982.9007607872,
          624417.97707259,
          625856.2967036713,
          627297.767823879,
          628742.2670205554,
          630189.6170706787,
          631639.5665736657,
          633091.7875391223,
          634545.8400595747,
          636001.1506934047,
          637456.9654123024,
          638912.3403602246,
          640366.1575285374,
          641817.101508794,
          643263.6689257083,
          644704.5139956716,
          646138.4781567551,
          647564.6156023311,
          648982.5738952899,
          650392.6234989654,
          651795.454809512,
          653192.1754476445,
          654584.1590833577,
          655972.7758945256,
          657359.3029670741,
          658744.8524081192,
          660130.3713004405,
          661516.6173292993,
          662904.170607484,
          664293.4959769027,
          665684.947493702,
          667078.7765046259,
          668475.1767963599,
          669874.2903916483,
          671276.228333546,
          672681.0726478505,
          674088.8791974193,
          675499.6925209258,
          676913.5456097352,
          678330.4647277318,
          679750.4698957568,
          681173.5759324688,
          682599.7943758402,
          684029.128382477,
          685461.5743080397,
          686897.1219548361,
          688335.75756288,
          689777.4621975512,
          691222.2057058951,
          692669.946238368,
          694120.6235328189,
          695574.1619181785,
          697030.446114546,
          698489.3113870153,
          699950.541790419,
          701413.8347354162,
          702878.8146912245,
          704344.9353765531,
          705811.4510095625,
          707277.4163078554,
          708741.6494598906,
          710202.5999849356,
          711658.4325905516,
          713107.0613709559,
          714546.1924954915,
          715973.5381533228,
          717387.0787784574,
          718785.5165133397,
          720168.3071223418,
          721535.7170518575,
          722889.1156105899,
          724230.3110639229,
          725561.3385274976,
          726884.4540421542,
          728201.8003792533,
          729515.1488064514,
          730826.0130778885,
          732135.6243500407,
          733444.9315949088,
          734754.656135539,
          736065.3453144977,
          737377.4175099308,
          738691.1879215951,
          740006.8762042589,
          741324.6481733883,
          742644.6250182384,
          743966.8992526254,
          745291.536064474,
          746618.5814588234,
          747948.0697209353,
          749280.0264189705,
          750614.4708003398,
          751951.4171691086,
          753290.8944079751,
          754632.9189893175,
          755977.500918179,
          757324.6500668778,
          758674.3763778112,
          760026.6944535467,
          761381.6242339335,
          762739.1948635131,
          764099.4460953712,
          765462.4312161389,
          766828.220754076,
          768196.91253657,
          769568.6455830887,
          770943.6011179234,
          772322.0224429745,
          773704.2239238046,
          775090.6305846488,
          776481.7892367163,
          777878.3635912405,
          779281.1572791424,
          780691.1544134034,
          782109.3240215953,
          783536.5953776608,
          784973.8452765855,
          786421.6426009968,
          787880.1168500207,
          789349.0344012755,
          790827.7963928239,
          792315.4586663386,
          793810.9580708381,
          795313.2093653182,
          796821.2288501548,
          798334.1565735673,
          799851.2578649264,
          801371.9521080083,
          802895.7930759572,
          804422.427611173,
          805951.5938548757,
          807483.101912423,
          809016.8108845447,
          810552.6157617938,
          812090.4397408946,
          813630.2319875042,
          815171.9558205762,
          816715.5865453873,
          818261.1067204906,
          819808.5057856297,
          821357.7794665165,
          822908.9246921962,
          824461.93850417,
          826016.819117015,
          827573.5659243334,
          829132.1801101757,
          830692.6661904249,
          832255.0273837858,
          833819.2650624244,
          835385.3787726484,
          836953.3652777727,
          838523.2184358164,
          840094.9258132182,
          841668.4678047583,
          843243.8160983643,
          844820.9307898068,
          846399.7559836607,
          847980.209440452,
          849562.182137238,
          851145.5346114663,
          852730.0790238541,
          854315.5798053893,
          855901.7554301511,
          857488.2783939544,
          859074.7922051995,
          860660.9280282698,
          862246.3634726396,
          863830.8857097502,
          865414.3921615758,
          866996.894256912,
          868578.5688112923,
          870159.6781940064,
          871740.5094970384,
          873321.3741032537,
          874902.5891855062,
          876484.4115200719,
          878067.0600019767,
          879650.7158059123,
          881235.522077266,
          882821.5862927396,
          884408.9930319713,
          885997.8065589631,
          887588.0781791966,
          889179.8468638579,
          890773.1416114914,
          892367.9862369304,
          893964.3998774309,
          895562.3986865192,
          897161.9958574361,
          898763.2026820909,
          900366.0293277018,
          901970.4849720036,
          903576.578027358,
          905184.3160177069,
          906793.7043524142,
          908404.7475164545,
          910017.4490042295,
          911631.8111408763,
          913247.8348079792,
          914865.5189833391,
          916484.8599546159,
          918105.8489631421,
          919728.4720826858,
          921352.7082148943,
          922978.5278302499,
          924605.8870867977,
          926234.7213003277,
          927864.9448379448,
          929496.4431161684,
          931129.0641760633,
          932762.6087720128,
          934396.825632792,
          936031.4132631526,
          937666.0240199482,
          939300.2536504469,
          940933.7311347958,
          942566.1336515695,
          944197.1928974432,
          945826.7902191053,
          947454.966595008,
          949081.8673382493,
          950707.7406914441,
          952332.915956997,
          953957.7175290737,
          955582.4533921122,
          957207.3917264867,
          958832.7599752526,
          960458.7446871802,
          962085.4884494464,
          963713.104705856,
          965341.6832667573,
          966971.2905257931,
          968601.9771293777,
          970233.7826317691,
          971866.7387494363,
          973500.8710216649,
          975136.199073286,
          976772.7394703423,
          978410.5062902641,
          980049.5119822986,
          981689.7675888228,
          983331.2842745687,
          984974.0697602315,
          986618.1215810505,
          988263.4360458639,
          989910.0086577226,
          991557.8322909238,
          993206.8953443519,
          994857.1781014416,
          996508.6484780768,
          998161.2618584466,
          999814.9476520407,
          1001469.6299503883,
          1003125.1887284411,
          1004781.4375118593,
          1006438.1233770002,
          1008094.9268928089,
          1009751.4090042649,
          1011406.9971371078,
          1013060.9299051897,
          1014712.2028705537,
          1016359.5685434616,
          1018001.5363823625,
          1019636.4784404725,
          1021262.3757626188,
          1022877.2908907844,
          1024479.7469468017,
          1026068.7277084211,
          1027643.6770461287,
          1029204.6519365414,
          1030752.8409383094,
          1032289.7484778145,
          1033816.942598335,
          1035336.0549600691,
          1036848.7808401255,
          1038356.7242815089,
          1039860.9871557663,
          1041362.4686202131,
          1042861.929284977,
          1044359.9910842888,
          1045857.1372764732,
          1047353.7124439732,
          1048849.9224933223,
          1050345.9085093003,
          1051841.8358417104,
          1053337.8029578947,
          1054833.888586234,
          1056330.1520733442,
          1057826.6332993433,
          1059323.3563145169,
          1060820.3568421535,
          1062317.6591250717,
          1063815.2665958996,
          1065313.161877095,
          1066811.3067855989,
          1068309.6552636616,
          1069808.1735136718,
          1071306.7976338933,
          1072805.4248527712,
          1074303.9135289246,
          1075802.0831511326,
          1077299.6532178596,
          1078796.318117221,
          1080291.6406724555,
          1081784.9202538142,
          1083275.1927587204,
          1084761.2306117963,
          1086241.4767205832,
          1087713.7421747404,
          1089175.2331662069,
          1090622.284191848,
          1092050.3332103144,
          1093453.921642015,
          1094826.7399479412,
          1096162.325036196,
          1097453.1811533473,
          1098693.3641002593,
          1099879.242788556,
          1101009.4992406403,
          1102085.128589686,
          1103109.3046481851,
          1104087.7373879978,
          1105027.2975989275,
          1105934.3503073691,
          1106814.7217849689,
          1107673.6995486172,
          1108516.0367538775,
          1109345.5983061749,
          1110164.813845154,
          1110975.6507673373,
          1111779.7735457243,
          1112578.5437298066,
          1113373.0199455512,
          1114163.957895416,
          1114951.8103583416,
          1115736.7304827597,
          1116518.9404037164,
          1117298.7160490172,
          1118076.1904883808,
          1118851.470925531,
          1119624.6386981944,
          1120395.7492781107,
          1121164.8343674252,
          1121931.9472992104,
          1122697.1073625456,
          1123460.3092839802,
          1124221.540921039,
          1124980.783262211,
          1125738.0104269604,
          1126493.1885482324,
          1127246.2154073536,
          1127997.0724525186,
          1128745.7382114094,
          1129492.110240943,
          1130236.005127265,
          1130977.1584857455,
          1131715.2249609914,
          1132449.7782268324,
          1133180.3109863312,
          1133906.2424678877,
          1134627.200327635,
          1135341.6636597498,
          1136047.747054965,
          1136743.7867122667,
          1137428.3404388882,
          1138100.1876503057,
          1138758.3293702493,
          1139401.9882306908,
          1140030.6084718544,
          1140643.8596266017,
          1141242.3204212224,
          1141827.7805589421,
          1142401.9403117853,
          1142966.3315509737,
          1143522.3177469247,
          1144071.0939692452,
          1144613.686886742,
          1145150.9547674113,
          1145683.5874784465,
          1146212.1072565306,
          1146736.923993314,
          1147258.2943117926,
          1147776.398006239,
          1148291.389390173,
          1148803.3972963577,
          1149312.5250767968,
          1149818.850602742,
          1150322.4262646844,
          1150823.2789723612,
          1151321.4104510164,
          1151816.8329197443,
          1152309.5729784477,
          1152799.6475265496,
          1153287.0727894534,
          1153771.8643185408,
          1154254.0369911685,
          1154733.6050106753,
          1155210.5819063736,
          1155684.9805335565,
          1156156.8135007657,
          1156626.121309929,
          1157092.9276715852,
          1157557.2636099556,
          1158019.194659166,
          1158478.8208632453,
          1158936.2767761191,
          1159391.73146162,
          1159845.3884934771,
          1160297.4701983598,
          1160748.292433577,
          1161198.4621901894,
          1161648.6388415953,
          1162099.5092906242,
          1162551.7879695431,
          1163006.2168400532,
          1163463.5653932872,
          1163924.630649817,
          1164390.241594791,
          1164860.725008608,
          1165335.477447029,
          1165813.8157734596,
          1166295.0551600512,
          1166778.5090876888,
          1167263.4893459997,
          1167749.3060333508,
          1168235.2675568452,
          1168720.6806323293,
          1169204.8831400485,
          1169687.5716328605,
          1170168.5526084616,
          1170647.640008203,
          1171124.6762428158,
          1171599.5321924002,
          1172072.1072064352,
          1172542.3291037742,
          1173010.1541726415,
          1173475.5671706412,
          1173938.5751187042,
          1174399.1538537182,
          1174857.2903108133,
          1175312.979667862,
          1175766.21979546,
          1176217.011256921,
          1176665.357308283,
          1177111.263898302,
          1177554.7396684545,
          1177995.7959529397,
          1178434.4498686153,
          1178870.7281503666,
          1179304.6326235835,
          1179736.1775632969,
          1180165.395512865,
          1180592.3372839661,
          1181017.0719566047,
          1181439.686879109,
          1181860.2876681276,
          1182278.9982086373,
          1182695.9521235763,
          1183111.336442447,
          1183525.5541570636,
          1183939.0679234788,
          1184352.3783521643,
          1184766.0240080021,
          1185180.5814102893,
          1185596.6650327381,
          1186014.9273034702,
          1186436.058605026,
          1186860.780705828,
          1187289.3262540144,
          1187721.1748919748,
          1188155.7507392105,
          1188592.4771692327,
          1189030.7768095532,
          1189470.0715416942,
          1189909.7825011832,
          1190349.3300775504,
          1190788.1339143356,
          1191225.6422511828,
          1191661.6105702324,
          1192095.8712092564,
          1192528.2635922465,
          1192958.6548598078,
          1193386.9398691533,
          1193813.0411941102,
          1194236.9091251162,
          1194658.521669217,
          1195077.8753220646,
          1195494.9466447718,
          1195909.730485794,
          1196322.2253122714,
          1196732.4305218689,
          1197140.3464427833,
          1197545.9743337354,
          1197949.3163839763,
          1198350.3757132853,
          1198749.156034522,
          1199145.6620832654,
          1199539.9034937492,
          1199931.8872134949,
          1200321.6164496185,
          1200709.0906688268,
          1201094.3055974268,
          1201477.2532213156,
          1201857.9217859865,
          1202236.295796529,
          1202612.3532658315,
          1202986.0481197122,
          1203357.3315366039,
          1203726.1292825267,
          1204092.3366636734,
          1204455.8185264124,
          1204816.40925729,
          1205173.9127830227,
          1205528.102570508,
          1205878.7216268159,
          1206225.4766698515,
          1206568.1019411543,
          1206906.5464586117,
          1207240.8280814006,
          1207571.010795588,
          1207897.2047141285,
          1208219.5660768703,
          1208538.2972505484,
          1208853.6467287901,
          1209165.909132112,
          1209475.4077792107,
          1209782.2954835873,
          1210086.6774536828,
          1210388.660246145,
          1210688.3361731488,
          1210985.7833023958,
          1211281.065457119,
          1211574.232216076,
          1211865.318913556,
          1212154.3466393752,
          1212441.3250261124,
          1212726.2783349608,
          1213009.2234464393,
          1213290.1731912647,
          1213569.139837962,
          1213846.1350928657,
          1214121.1701001201,
          1214394.255441678,
          1214665.401137302,
          1214934.6166445646,
          1215201.910816566,
          1215467.2917580246,
          1215730.767726902,
          1215992.3470469767,
          1216252.038036429,
          1216509.849007837,
          1216765.788268183,
          1217019.8641188464,
          1217272.0848556098,
          1217522.4587686562,
          1217770.9941425747,
          1218017.6992582856,
          1218262.5823931487,
          1218505.6518167835,
          1218746.9157907257,
          1218986.3825684225,
          1219224.0603952387,
          1219459.95750845,
          1219694.0821372506,
          1219926.4425027464,
          1220157.0468176887,
          1220385.9032859677,
          1220613.0201057787
         ],
         "yaxis": "y"
        },
        {
         "hovertemplate": "x=%{x}<br>y=%{y}<extra></extra>",
         "legendgroup": "",
         "marker": {
          "color": "red",
          "symbol": "circle"
         },
         "mode": "markers",
         "name": "",
         "orientation": "v",
         "showlegend": false,
         "type": "scatter",
         "x": [
          2009,
          2019
         ],
         "xaxis": "x",
         "y": [
          1207100,
          1194300
         ],
         "yaxis": "y"
        }
       ],
       "layout": {
        "template": {
         "data": {
          "bar": [
           {
            "error_x": {
             "color": "#2a3f5f"
            },
            "error_y": {
             "color": "#2a3f5f"
            },
            "marker": {
             "line": {
              "color": "#E5ECF6",
              "width": 0.5
             },
             "pattern": {
              "fillmode": "overlay",
              "size": 10,
              "solidity": 0.2
             }
            },
            "type": "bar"
           }
          ],
          "barpolar": [
           {
            "marker": {
             "line": {
              "color": "#E5ECF6",
              "width": 0.5
             },
             "pattern": {
              "fillmode": "overlay",
              "size": 10,
              "solidity": 0.2
             }
            },
            "type": "barpolar"
           }
          ],
          "carpet": [
           {
            "aaxis": {
             "endlinecolor": "#2a3f5f",
             "gridcolor": "white",
             "linecolor": "white",
             "minorgridcolor": "white",
             "startlinecolor": "#2a3f5f"
            },
            "baxis": {
             "endlinecolor": "#2a3f5f",
             "gridcolor": "white",
             "linecolor": "white",
             "minorgridcolor": "white",
             "startlinecolor": "#2a3f5f"
            },
            "type": "carpet"
           }
          ],
          "choropleth": [
           {
            "colorbar": {
             "outlinewidth": 0,
             "ticks": ""
            },
            "type": "choropleth"
           }
          ],
          "contour": [
           {
            "colorbar": {
             "outlinewidth": 0,
             "ticks": ""
            },
            "colorscale": [
             [
              0,
              "#0d0887"
             ],
             [
              0.1111111111111111,
              "#46039f"
             ],
             [
              0.2222222222222222,
              "#7201a8"
             ],
             [
              0.3333333333333333,
              "#9c179e"
             ],
             [
              0.4444444444444444,
              "#bd3786"
             ],
             [
              0.5555555555555556,
              "#d8576b"
             ],
             [
              0.6666666666666666,
              "#ed7953"
             ],
             [
              0.7777777777777778,
              "#fb9f3a"
             ],
             [
              0.8888888888888888,
              "#fdca26"
             ],
             [
              1,
              "#f0f921"
             ]
            ],
            "type": "contour"
           }
          ],
          "contourcarpet": [
           {
            "colorbar": {
             "outlinewidth": 0,
             "ticks": ""
            },
            "type": "contourcarpet"
           }
          ],
          "heatmap": [
           {
            "colorbar": {
             "outlinewidth": 0,
             "ticks": ""
            },
            "colorscale": [
             [
              0,
              "#0d0887"
             ],
             [
              0.1111111111111111,
              "#46039f"
             ],
             [
              0.2222222222222222,
              "#7201a8"
             ],
             [
              0.3333333333333333,
              "#9c179e"
             ],
             [
              0.4444444444444444,
              "#bd3786"
             ],
             [
              0.5555555555555556,
              "#d8576b"
             ],
             [
              0.6666666666666666,
              "#ed7953"
             ],
             [
              0.7777777777777778,
              "#fb9f3a"
             ],
             [
              0.8888888888888888,
              "#fdca26"
             ],
             [
              1,
              "#f0f921"
             ]
            ],
            "type": "heatmap"
           }
          ],
          "heatmapgl": [
           {
            "colorbar": {
             "outlinewidth": 0,
             "ticks": ""
            },
            "colorscale": [
             [
              0,
              "#0d0887"
             ],
             [
              0.1111111111111111,
              "#46039f"
             ],
             [
              0.2222222222222222,
              "#7201a8"
             ],
             [
              0.3333333333333333,
              "#9c179e"
             ],
             [
              0.4444444444444444,
              "#bd3786"
             ],
             [
              0.5555555555555556,
              "#d8576b"
             ],
             [
              0.6666666666666666,
              "#ed7953"
             ],
             [
              0.7777777777777778,
              "#fb9f3a"
             ],
             [
              0.8888888888888888,
              "#fdca26"
             ],
             [
              1,
              "#f0f921"
             ]
            ],
            "type": "heatmapgl"
           }
          ],
          "histogram": [
           {
            "marker": {
             "pattern": {
              "fillmode": "overlay",
              "size": 10,
              "solidity": 0.2
             }
            },
            "type": "histogram"
           }
          ],
          "histogram2d": [
           {
            "colorbar": {
             "outlinewidth": 0,
             "ticks": ""
            },
            "colorscale": [
             [
              0,
              "#0d0887"
             ],
             [
              0.1111111111111111,
              "#46039f"
             ],
             [
              0.2222222222222222,
              "#7201a8"
             ],
             [
              0.3333333333333333,
              "#9c179e"
             ],
             [
              0.4444444444444444,
              "#bd3786"
             ],
             [
              0.5555555555555556,
              "#d8576b"
             ],
             [
              0.6666666666666666,
              "#ed7953"
             ],
             [
              0.7777777777777778,
              "#fb9f3a"
             ],
             [
              0.8888888888888888,
              "#fdca26"
             ],
             [
              1,
              "#f0f921"
             ]
            ],
            "type": "histogram2d"
           }
          ],
          "histogram2dcontour": [
           {
            "colorbar": {
             "outlinewidth": 0,
             "ticks": ""
            },
            "colorscale": [
             [
              0,
              "#0d0887"
             ],
             [
              0.1111111111111111,
              "#46039f"
             ],
             [
              0.2222222222222222,
              "#7201a8"
             ],
             [
              0.3333333333333333,
              "#9c179e"
             ],
             [
              0.4444444444444444,
              "#bd3786"
             ],
             [
              0.5555555555555556,
              "#d8576b"
             ],
             [
              0.6666666666666666,
              "#ed7953"
             ],
             [
              0.7777777777777778,
              "#fb9f3a"
             ],
             [
              0.8888888888888888,
              "#fdca26"
             ],
             [
              1,
              "#f0f921"
             ]
            ],
            "type": "histogram2dcontour"
           }
          ],
          "mesh3d": [
           {
            "colorbar": {
             "outlinewidth": 0,
             "ticks": ""
            },
            "type": "mesh3d"
           }
          ],
          "parcoords": [
           {
            "line": {
             "colorbar": {
              "outlinewidth": 0,
              "ticks": ""
             }
            },
            "type": "parcoords"
           }
          ],
          "pie": [
           {
            "automargin": true,
            "type": "pie"
           }
          ],
          "scatter": [
           {
            "fillpattern": {
             "fillmode": "overlay",
             "size": 10,
             "solidity": 0.2
            },
            "type": "scatter"
           }
          ],
          "scatter3d": [
           {
            "line": {
             "colorbar": {
              "outlinewidth": 0,
              "ticks": ""
             }
            },
            "marker": {
             "colorbar": {
              "outlinewidth": 0,
              "ticks": ""
             }
            },
            "type": "scatter3d"
           }
          ],
          "scattercarpet": [
           {
            "marker": {
             "colorbar": {
              "outlinewidth": 0,
              "ticks": ""
             }
            },
            "type": "scattercarpet"
           }
          ],
          "scattergeo": [
           {
            "marker": {
             "colorbar": {
              "outlinewidth": 0,
              "ticks": ""
             }
            },
            "type": "scattergeo"
           }
          ],
          "scattergl": [
           {
            "marker": {
             "colorbar": {
              "outlinewidth": 0,
              "ticks": ""
             }
            },
            "type": "scattergl"
           }
          ],
          "scattermapbox": [
           {
            "marker": {
             "colorbar": {
              "outlinewidth": 0,
              "ticks": ""
             }
            },
            "type": "scattermapbox"
           }
          ],
          "scatterpolar": [
           {
            "marker": {
             "colorbar": {
              "outlinewidth": 0,
              "ticks": ""
             }
            },
            "type": "scatterpolar"
           }
          ],
          "scatterpolargl": [
           {
            "marker": {
             "colorbar": {
              "outlinewidth": 0,
              "ticks": ""
             }
            },
            "type": "scatterpolargl"
           }
          ],
          "scatterternary": [
           {
            "marker": {
             "colorbar": {
              "outlinewidth": 0,
              "ticks": ""
             }
            },
            "type": "scatterternary"
           }
          ],
          "surface": [
           {
            "colorbar": {
             "outlinewidth": 0,
             "ticks": ""
            },
            "colorscale": [
             [
              0,
              "#0d0887"
             ],
             [
              0.1111111111111111,
              "#46039f"
             ],
             [
              0.2222222222222222,
              "#7201a8"
             ],
             [
              0.3333333333333333,
              "#9c179e"
             ],
             [
              0.4444444444444444,
              "#bd3786"
             ],
             [
              0.5555555555555556,
              "#d8576b"
             ],
             [
              0.6666666666666666,
              "#ed7953"
             ],
             [
              0.7777777777777778,
              "#fb9f3a"
             ],
             [
              0.8888888888888888,
              "#fdca26"
             ],
             [
              1,
              "#f0f921"
             ]
            ],
            "type": "surface"
           }
          ],
          "table": [
           {
            "cells": {
             "fill": {
              "color": "#EBF0F8"
             },
             "line": {
              "color": "white"
             }
            },
            "header": {
             "fill": {
              "color": "#C8D4E3"
             },
             "line": {
              "color": "white"
             }
            },
            "type": "table"
           }
          ]
         },
         "layout": {
          "annotationdefaults": {
           "arrowcolor": "#2a3f5f",
           "arrowhead": 0,
           "arrowwidth": 1
          },
          "autotypenumbers": "strict",
          "coloraxis": {
           "colorbar": {
            "outlinewidth": 0,
            "ticks": ""
           }
          },
          "colorscale": {
           "diverging": [
            [
             0,
             "#8e0152"
            ],
            [
             0.1,
             "#c51b7d"
            ],
            [
             0.2,
             "#de77ae"
            ],
            [
             0.3,
             "#f1b6da"
            ],
            [
             0.4,
             "#fde0ef"
            ],
            [
             0.5,
             "#f7f7f7"
            ],
            [
             0.6,
             "#e6f5d0"
            ],
            [
             0.7,
             "#b8e186"
            ],
            [
             0.8,
             "#7fbc41"
            ],
            [
             0.9,
             "#4d9221"
            ],
            [
             1,
             "#276419"
            ]
           ],
           "sequential": [
            [
             0,
             "#0d0887"
            ],
            [
             0.1111111111111111,
             "#46039f"
            ],
            [
             0.2222222222222222,
             "#7201a8"
            ],
            [
             0.3333333333333333,
             "#9c179e"
            ],
            [
             0.4444444444444444,
             "#bd3786"
            ],
            [
             0.5555555555555556,
             "#d8576b"
            ],
            [
             0.6666666666666666,
             "#ed7953"
            ],
            [
             0.7777777777777778,
             "#fb9f3a"
            ],
            [
             0.8888888888888888,
             "#fdca26"
            ],
            [
             1,
             "#f0f921"
            ]
           ],
           "sequentialminus": [
            [
             0,
             "#0d0887"
            ],
            [
             0.1111111111111111,
             "#46039f"
            ],
            [
             0.2222222222222222,
             "#7201a8"
            ],
            [
             0.3333333333333333,
             "#9c179e"
            ],
            [
             0.4444444444444444,
             "#bd3786"
            ],
            [
             0.5555555555555556,
             "#d8576b"
            ],
            [
             0.6666666666666666,
             "#ed7953"
            ],
            [
             0.7777777777777778,
             "#fb9f3a"
            ],
            [
             0.8888888888888888,
             "#fdca26"
            ],
            [
             1,
             "#f0f921"
            ]
           ]
          },
          "colorway": [
           "#636efa",
           "#EF553B",
           "#00cc96",
           "#ab63fa",
           "#FFA15A",
           "#19d3f3",
           "#FF6692",
           "#B6E880",
           "#FF97FF",
           "#FECB52"
          ],
          "font": {
           "color": "#2a3f5f"
          },
          "geo": {
           "bgcolor": "white",
           "lakecolor": "white",
           "landcolor": "#E5ECF6",
           "showlakes": true,
           "showland": true,
           "subunitcolor": "white"
          },
          "hoverlabel": {
           "align": "left"
          },
          "hovermode": "closest",
          "mapbox": {
           "style": "light"
          },
          "paper_bgcolor": "white",
          "plot_bgcolor": "#E5ECF6",
          "polar": {
           "angularaxis": {
            "gridcolor": "white",
            "linecolor": "white",
            "ticks": ""
           },
           "bgcolor": "#E5ECF6",
           "radialaxis": {
            "gridcolor": "white",
            "linecolor": "white",
            "ticks": ""
           }
          },
          "scene": {
           "xaxis": {
            "backgroundcolor": "#E5ECF6",
            "gridcolor": "white",
            "gridwidth": 2,
            "linecolor": "white",
            "showbackground": true,
            "ticks": "",
            "zerolinecolor": "white"
           },
           "yaxis": {
            "backgroundcolor": "#E5ECF6",
            "gridcolor": "white",
            "gridwidth": 2,
            "linecolor": "white",
            "showbackground": true,
            "ticks": "",
            "zerolinecolor": "white"
           },
           "zaxis": {
            "backgroundcolor": "#E5ECF6",
            "gridcolor": "white",
            "gridwidth": 2,
            "linecolor": "white",
            "showbackground": true,
            "ticks": "",
            "zerolinecolor": "white"
           }
          },
          "shapedefaults": {
           "line": {
            "color": "#2a3f5f"
           }
          },
          "ternary": {
           "aaxis": {
            "gridcolor": "white",
            "linecolor": "white",
            "ticks": ""
           },
           "baxis": {
            "gridcolor": "white",
            "linecolor": "white",
            "ticks": ""
           },
           "bgcolor": "#E5ECF6",
           "caxis": {
            "gridcolor": "white",
            "linecolor": "white",
            "ticks": ""
           }
          },
          "title": {
           "x": 0.05
          },
          "xaxis": {
           "automargin": true,
           "gridcolor": "white",
           "linecolor": "white",
           "ticks": "",
           "title": {
            "standoff": 15
           },
           "zerolinecolor": "white",
           "zerolinewidth": 2
          },
          "yaxis": {
           "automargin": true,
           "gridcolor": "white",
           "linecolor": "white",
           "ticks": "",
           "title": {
            "standoff": 15
           },
           "zerolinecolor": "white",
           "zerolinewidth": 2
          }
         }
        },
        "title": {
         "text": "Modelled vs Data",
         "x": 0.5
        },
        "xaxis": {
         "title": {
          "text": "Year"
         }
        },
        "yaxis": {
         "title": {
          "text": "Population"
         }
        }
       }
      }
     },
     "metadata": {},
     "output_type": "display_data"
    }
   ],
   "source": [
    "fig2_1 = px.line(\n",
    "    derived_df_0,\n",
    "    x=derived_df_0.index,\n",
    "    y=\"total_population\",\n",
    ")\n",
    "fig2_2 = px.scatter(x= plots['total_population']['times'], y = plots['total_population']['values'])\n",
    "fig2_2.update_traces(marker=dict(color=\"red\"))\n",
    "fig2_3 = go.Figure(\n",
    "    data=fig2_1.data + fig2_2.data,\n",
    ")\n",
    "fig2_3.update_layout(\n",
    "    title=\"Modelled vs Data\", title_x=0.5, xaxis_title=\"Year\", yaxis_title=\"Population\"\n",
    ")\n",
    "fig2_3.show()"
   ]
  },
  {
   "cell_type": "code",
   "execution_count": 15,
   "metadata": {},
   "outputs": [
    {
     "data": {
      "application/vnd.plotly.v1+json": {
       "config": {
        "plotlyServerURL": "https://plot.ly"
       },
       "data": [
        {
         "hovertemplate": "index=%{x}<br>percentage_latent=%{y}<extra></extra>",
         "legendgroup": "",
         "line": {
          "color": "#636efa",
          "dash": "solid"
         },
         "marker": {
          "symbol": "circle"
         },
         "mode": "lines",
         "name": "",
         "showlegend": false,
         "type": "scattergl",
         "x": [
          1900,
          1900.1,
          1900.2,
          1900.3,
          1900.4,
          1900.5,
          1900.6,
          1900.7,
          1900.8,
          1900.9,
          1901,
          1901.1,
          1901.2,
          1901.3,
          1901.4,
          1901.5,
          1901.6,
          1901.7,
          1901.8,
          1901.9,
          1902,
          1902.1,
          1902.2,
          1902.3,
          1902.4,
          1902.5,
          1902.6,
          1902.7,
          1902.8,
          1902.9,
          1903,
          1903.1,
          1903.2,
          1903.3,
          1903.4,
          1903.5,
          1903.6,
          1903.7,
          1903.8,
          1903.9,
          1904,
          1904.1,
          1904.2,
          1904.3,
          1904.4,
          1904.5,
          1904.6,
          1904.7,
          1904.8,
          1904.9,
          1905,
          1905.1,
          1905.2,
          1905.3,
          1905.4,
          1905.5,
          1905.6,
          1905.7,
          1905.8,
          1905.9,
          1906,
          1906.1,
          1906.2,
          1906.3,
          1906.4,
          1906.5,
          1906.6,
          1906.7,
          1906.8,
          1906.9,
          1907,
          1907.1,
          1907.2,
          1907.3,
          1907.4,
          1907.5,
          1907.6,
          1907.7,
          1907.8,
          1907.9,
          1908,
          1908.1,
          1908.2,
          1908.3,
          1908.4,
          1908.5,
          1908.6,
          1908.7,
          1908.8,
          1908.9,
          1909,
          1909.1,
          1909.2,
          1909.3,
          1909.4,
          1909.5,
          1909.6,
          1909.7,
          1909.8,
          1909.9,
          1910,
          1910.1,
          1910.2,
          1910.3,
          1910.4,
          1910.5,
          1910.6,
          1910.7,
          1910.8,
          1910.9,
          1911,
          1911.1,
          1911.2,
          1911.3,
          1911.4,
          1911.5,
          1911.6,
          1911.7,
          1911.8,
          1911.9,
          1912,
          1912.1,
          1912.2,
          1912.3,
          1912.4,
          1912.5,
          1912.6,
          1912.7,
          1912.8,
          1912.9,
          1913,
          1913.1,
          1913.2,
          1913.3,
          1913.4,
          1913.5,
          1913.6,
          1913.7,
          1913.8,
          1913.9,
          1914,
          1914.1,
          1914.2,
          1914.3,
          1914.4,
          1914.5,
          1914.6,
          1914.7,
          1914.8,
          1914.9,
          1915,
          1915.1,
          1915.2,
          1915.3,
          1915.4,
          1915.5,
          1915.6,
          1915.7,
          1915.8,
          1915.9,
          1916,
          1916.1,
          1916.2,
          1916.3,
          1916.4,
          1916.5,
          1916.6,
          1916.7,
          1916.8,
          1916.9,
          1917,
          1917.1,
          1917.2,
          1917.3,
          1917.4,
          1917.5,
          1917.6,
          1917.7,
          1917.8,
          1917.9,
          1918,
          1918.1,
          1918.2,
          1918.3,
          1918.4,
          1918.5,
          1918.6,
          1918.7,
          1918.8,
          1918.9,
          1919,
          1919.1,
          1919.2,
          1919.3,
          1919.4,
          1919.5,
          1919.6,
          1919.7,
          1919.8,
          1919.9,
          1920,
          1920.1,
          1920.2,
          1920.3,
          1920.4,
          1920.5,
          1920.6,
          1920.7,
          1920.8,
          1920.9,
          1921,
          1921.1,
          1921.2,
          1921.3,
          1921.4,
          1921.5,
          1921.6,
          1921.7,
          1921.8,
          1921.9,
          1922,
          1922.1,
          1922.2,
          1922.3,
          1922.4,
          1922.5,
          1922.6,
          1922.7,
          1922.8,
          1922.9,
          1923,
          1923.1,
          1923.2,
          1923.3,
          1923.4,
          1923.5,
          1923.6,
          1923.7,
          1923.8,
          1923.9,
          1924,
          1924.1,
          1924.2,
          1924.3,
          1924.4,
          1924.5,
          1924.6,
          1924.7,
          1924.8,
          1924.9,
          1925,
          1925.1,
          1925.2,
          1925.3,
          1925.4,
          1925.5,
          1925.6,
          1925.7,
          1925.8,
          1925.9,
          1926,
          1926.1,
          1926.2,
          1926.3,
          1926.4,
          1926.5,
          1926.6,
          1926.7,
          1926.8,
          1926.9,
          1927,
          1927.1,
          1927.2,
          1927.3,
          1927.4,
          1927.5,
          1927.6,
          1927.7,
          1927.8,
          1927.9,
          1928,
          1928.1,
          1928.2,
          1928.3,
          1928.4,
          1928.5,
          1928.6,
          1928.7,
          1928.8,
          1928.9,
          1929,
          1929.1,
          1929.2,
          1929.3,
          1929.4,
          1929.5,
          1929.6,
          1929.7,
          1929.8,
          1929.9,
          1930,
          1930.1,
          1930.2,
          1930.3,
          1930.4,
          1930.5,
          1930.6,
          1930.7,
          1930.8,
          1930.9,
          1931,
          1931.1,
          1931.2,
          1931.3,
          1931.4,
          1931.5,
          1931.6,
          1931.7,
          1931.8,
          1931.9,
          1932,
          1932.1,
          1932.2,
          1932.3,
          1932.4,
          1932.5,
          1932.6,
          1932.7,
          1932.8,
          1932.9,
          1933,
          1933.1,
          1933.2,
          1933.3,
          1933.4,
          1933.5,
          1933.6,
          1933.7,
          1933.8,
          1933.9,
          1934,
          1934.1,
          1934.2,
          1934.3,
          1934.4,
          1934.5,
          1934.6,
          1934.7,
          1934.8,
          1934.9,
          1935,
          1935.1,
          1935.2,
          1935.3,
          1935.4,
          1935.5,
          1935.6,
          1935.7,
          1935.8,
          1935.9,
          1936,
          1936.1,
          1936.2,
          1936.3,
          1936.4,
          1936.5,
          1936.6,
          1936.7,
          1936.8,
          1936.9,
          1937,
          1937.1,
          1937.2,
          1937.3,
          1937.4,
          1937.5,
          1937.6,
          1937.7,
          1937.8,
          1937.9,
          1938,
          1938.1,
          1938.2,
          1938.3,
          1938.4,
          1938.5,
          1938.6,
          1938.7,
          1938.8,
          1938.9,
          1939,
          1939.1,
          1939.2,
          1939.3,
          1939.4,
          1939.5,
          1939.6,
          1939.7,
          1939.8,
          1939.9,
          1940,
          1940.1,
          1940.2,
          1940.3,
          1940.4,
          1940.5,
          1940.6,
          1940.7,
          1940.8,
          1940.9,
          1941,
          1941.1,
          1941.2,
          1941.3,
          1941.4,
          1941.5,
          1941.6,
          1941.7,
          1941.8,
          1941.9,
          1942,
          1942.1,
          1942.2,
          1942.3,
          1942.4,
          1942.5,
          1942.6,
          1942.7,
          1942.8,
          1942.9,
          1943,
          1943.1,
          1943.2,
          1943.3,
          1943.4,
          1943.5,
          1943.6,
          1943.7,
          1943.8,
          1943.9,
          1944,
          1944.1,
          1944.2,
          1944.3,
          1944.4,
          1944.5,
          1944.6,
          1944.7,
          1944.8,
          1944.9,
          1945,
          1945.1,
          1945.2,
          1945.3,
          1945.4,
          1945.5,
          1945.6,
          1945.7,
          1945.8,
          1945.9,
          1946,
          1946.1,
          1946.2,
          1946.3,
          1946.4,
          1946.5,
          1946.6,
          1946.7,
          1946.8,
          1946.9,
          1947,
          1947.1,
          1947.2,
          1947.3,
          1947.4,
          1947.5,
          1947.6,
          1947.7,
          1947.8,
          1947.9,
          1948,
          1948.1,
          1948.2,
          1948.3,
          1948.4,
          1948.5,
          1948.6,
          1948.7,
          1948.8,
          1948.9,
          1949,
          1949.1,
          1949.2,
          1949.3,
          1949.4,
          1949.5,
          1949.6,
          1949.7,
          1949.8,
          1949.9,
          1950,
          1950.1,
          1950.2,
          1950.3,
          1950.4,
          1950.5,
          1950.6,
          1950.7,
          1950.8,
          1950.9,
          1951,
          1951.1,
          1951.2,
          1951.3,
          1951.4,
          1951.5,
          1951.6,
          1951.7,
          1951.8,
          1951.9,
          1952,
          1952.1,
          1952.2,
          1952.3,
          1952.4,
          1952.5,
          1952.6,
          1952.7,
          1952.8,
          1952.9,
          1953,
          1953.1,
          1953.2,
          1953.3,
          1953.4,
          1953.5,
          1953.6,
          1953.7,
          1953.8,
          1953.9,
          1954,
          1954.1,
          1954.2,
          1954.3,
          1954.4,
          1954.5,
          1954.6,
          1954.7,
          1954.8,
          1954.9,
          1955,
          1955.1,
          1955.2,
          1955.3,
          1955.4,
          1955.5,
          1955.6,
          1955.7,
          1955.8,
          1955.9,
          1956,
          1956.1,
          1956.2,
          1956.3,
          1956.4,
          1956.5,
          1956.6,
          1956.7,
          1956.8,
          1956.9,
          1957,
          1957.1,
          1957.2,
          1957.3,
          1957.4,
          1957.5,
          1957.6,
          1957.7,
          1957.8,
          1957.9,
          1958,
          1958.1,
          1958.2,
          1958.3,
          1958.4,
          1958.5,
          1958.6,
          1958.7,
          1958.8,
          1958.9,
          1959,
          1959.1,
          1959.2,
          1959.3,
          1959.4,
          1959.5,
          1959.6,
          1959.7,
          1959.8,
          1959.9,
          1960,
          1960.1,
          1960.2,
          1960.3,
          1960.4,
          1960.5,
          1960.6,
          1960.7,
          1960.8,
          1960.9,
          1961,
          1961.1,
          1961.2,
          1961.3,
          1961.4,
          1961.5,
          1961.6,
          1961.7,
          1961.8,
          1961.9,
          1962,
          1962.1,
          1962.2,
          1962.3,
          1962.4,
          1962.5,
          1962.6,
          1962.7,
          1962.8,
          1962.9,
          1963,
          1963.1,
          1963.2,
          1963.3,
          1963.4,
          1963.5,
          1963.6,
          1963.7,
          1963.8,
          1963.9,
          1964,
          1964.1,
          1964.2,
          1964.3,
          1964.4,
          1964.5,
          1964.6,
          1964.7,
          1964.8,
          1964.9,
          1965,
          1965.1,
          1965.2,
          1965.3,
          1965.4,
          1965.5,
          1965.6,
          1965.7,
          1965.8,
          1965.9,
          1966,
          1966.1,
          1966.2,
          1966.3,
          1966.4,
          1966.5,
          1966.6,
          1966.7,
          1966.8,
          1966.9,
          1967,
          1967.1,
          1967.2,
          1967.3,
          1967.4,
          1967.5,
          1967.6,
          1967.7,
          1967.8,
          1967.9,
          1968,
          1968.1,
          1968.2,
          1968.3,
          1968.4,
          1968.5,
          1968.6,
          1968.7,
          1968.8,
          1968.9,
          1969,
          1969.1,
          1969.2,
          1969.3,
          1969.4,
          1969.5,
          1969.6,
          1969.7,
          1969.8,
          1969.9,
          1970,
          1970.1,
          1970.2,
          1970.3,
          1970.4,
          1970.5,
          1970.6,
          1970.7,
          1970.8,
          1970.9,
          1971,
          1971.1,
          1971.2,
          1971.3,
          1971.4,
          1971.5,
          1971.6,
          1971.7,
          1971.8,
          1971.9,
          1972,
          1972.1,
          1972.2,
          1972.3,
          1972.4,
          1972.5,
          1972.6,
          1972.7,
          1972.8,
          1972.9,
          1973,
          1973.1,
          1973.2,
          1973.3,
          1973.4,
          1973.5,
          1973.6,
          1973.7,
          1973.8,
          1973.9,
          1974,
          1974.1,
          1974.2,
          1974.3,
          1974.4,
          1974.5,
          1974.6,
          1974.7,
          1974.8,
          1974.9,
          1975,
          1975.1,
          1975.2,
          1975.3,
          1975.4,
          1975.5,
          1975.6,
          1975.7,
          1975.8,
          1975.9,
          1976,
          1976.1,
          1976.2,
          1976.3,
          1976.4,
          1976.5,
          1976.6,
          1976.7,
          1976.8,
          1976.9,
          1977,
          1977.1,
          1977.2,
          1977.3,
          1977.4,
          1977.5,
          1977.6,
          1977.7,
          1977.8,
          1977.9,
          1978,
          1978.1,
          1978.2,
          1978.3,
          1978.4,
          1978.5,
          1978.6,
          1978.7,
          1978.8,
          1978.9,
          1979,
          1979.1,
          1979.2,
          1979.3,
          1979.4,
          1979.5,
          1979.6,
          1979.7,
          1979.8,
          1979.9,
          1980,
          1980.1,
          1980.2,
          1980.3,
          1980.4,
          1980.5,
          1980.6,
          1980.7,
          1980.8,
          1980.9,
          1981,
          1981.1,
          1981.2,
          1981.3,
          1981.4,
          1981.5,
          1981.6,
          1981.7,
          1981.8,
          1981.9,
          1982,
          1982.1,
          1982.2,
          1982.3,
          1982.4,
          1982.5,
          1982.6,
          1982.7,
          1982.8,
          1982.9,
          1983,
          1983.1,
          1983.2,
          1983.3,
          1983.4,
          1983.5,
          1983.6,
          1983.7,
          1983.8,
          1983.9,
          1984,
          1984.1,
          1984.2,
          1984.3,
          1984.4,
          1984.5,
          1984.6,
          1984.7,
          1984.8,
          1984.9,
          1985,
          1985.1,
          1985.2,
          1985.3,
          1985.4,
          1985.5,
          1985.6,
          1985.7,
          1985.8,
          1985.9,
          1986,
          1986.1,
          1986.2,
          1986.3,
          1986.4,
          1986.5,
          1986.6,
          1986.7,
          1986.8,
          1986.9,
          1987,
          1987.1,
          1987.2,
          1987.3,
          1987.4,
          1987.5,
          1987.6,
          1987.7,
          1987.8,
          1987.9,
          1988,
          1988.1,
          1988.2,
          1988.3,
          1988.4,
          1988.5,
          1988.6,
          1988.7,
          1988.8,
          1988.9,
          1989,
          1989.1,
          1989.2,
          1989.3,
          1989.4,
          1989.5,
          1989.6,
          1989.7,
          1989.8,
          1989.9,
          1990,
          1990.1,
          1990.2,
          1990.3,
          1990.4,
          1990.5,
          1990.6,
          1990.7,
          1990.8,
          1990.9,
          1991,
          1991.1,
          1991.2,
          1991.3,
          1991.4,
          1991.5,
          1991.6,
          1991.7,
          1991.8,
          1991.9,
          1992,
          1992.1,
          1992.2,
          1992.3,
          1992.4,
          1992.5,
          1992.6,
          1992.7,
          1992.8,
          1992.9,
          1993,
          1993.1,
          1993.2,
          1993.3,
          1993.4,
          1993.5,
          1993.6,
          1993.7,
          1993.8,
          1993.9,
          1994,
          1994.1,
          1994.2,
          1994.3,
          1994.4,
          1994.5,
          1994.6,
          1994.7,
          1994.8,
          1994.9,
          1995,
          1995.1,
          1995.2,
          1995.3,
          1995.4,
          1995.5,
          1995.6,
          1995.7,
          1995.8,
          1995.9,
          1996,
          1996.1,
          1996.2,
          1996.3,
          1996.4,
          1996.5,
          1996.6,
          1996.7,
          1996.8,
          1996.9,
          1997,
          1997.1,
          1997.2,
          1997.3,
          1997.4,
          1997.5,
          1997.6,
          1997.7,
          1997.8,
          1997.9,
          1998,
          1998.1,
          1998.2,
          1998.3,
          1998.4,
          1998.5,
          1998.6,
          1998.7,
          1998.8,
          1998.9,
          1999,
          1999.1,
          1999.2,
          1999.3,
          1999.4,
          1999.5,
          1999.6,
          1999.7,
          1999.8,
          1999.9,
          2000,
          2000.1,
          2000.2,
          2000.3,
          2000.4,
          2000.5,
          2000.6,
          2000.7,
          2000.8,
          2000.9,
          2001,
          2001.1,
          2001.2,
          2001.3,
          2001.4,
          2001.5,
          2001.6,
          2001.7,
          2001.8,
          2001.9,
          2002,
          2002.1,
          2002.2,
          2002.3,
          2002.4,
          2002.5,
          2002.6,
          2002.7,
          2002.8,
          2002.9,
          2003,
          2003.1,
          2003.2,
          2003.3,
          2003.4,
          2003.5,
          2003.6,
          2003.7,
          2003.8,
          2003.9,
          2004,
          2004.1,
          2004.2,
          2004.3,
          2004.4,
          2004.5,
          2004.6,
          2004.7,
          2004.8,
          2004.9,
          2005,
          2005.1,
          2005.2,
          2005.3,
          2005.4,
          2005.5,
          2005.6,
          2005.7,
          2005.8,
          2005.9,
          2006,
          2006.1,
          2006.2,
          2006.3,
          2006.4,
          2006.5,
          2006.6,
          2006.7,
          2006.8,
          2006.9,
          2007,
          2007.1,
          2007.2,
          2007.3,
          2007.4,
          2007.5,
          2007.6,
          2007.7,
          2007.8,
          2007.9,
          2008,
          2008.1,
          2008.2,
          2008.3,
          2008.4,
          2008.5,
          2008.6,
          2008.7,
          2008.8,
          2008.9,
          2009,
          2009.1,
          2009.2,
          2009.3,
          2009.4,
          2009.5,
          2009.6,
          2009.7,
          2009.8,
          2009.9,
          2010,
          2010.1,
          2010.2,
          2010.3,
          2010.4,
          2010.5,
          2010.6,
          2010.7,
          2010.8,
          2010.9,
          2011,
          2011.1,
          2011.2,
          2011.3,
          2011.4,
          2011.5,
          2011.6,
          2011.7,
          2011.8,
          2011.9,
          2012,
          2012.1,
          2012.2,
          2012.3,
          2012.4,
          2012.5,
          2012.6,
          2012.7,
          2012.8,
          2012.9,
          2013,
          2013.1,
          2013.2,
          2013.3,
          2013.4,
          2013.5,
          2013.6,
          2013.7,
          2013.8,
          2013.9,
          2014,
          2014.1,
          2014.2,
          2014.3,
          2014.4,
          2014.5,
          2014.6,
          2014.7,
          2014.8,
          2014.9,
          2015,
          2015.1,
          2015.2,
          2015.3,
          2015.4,
          2015.5,
          2015.6,
          2015.7,
          2015.8,
          2015.9,
          2016,
          2016.1,
          2016.2,
          2016.3,
          2016.4,
          2016.5,
          2016.6,
          2016.7,
          2016.8,
          2016.9,
          2017,
          2017.1,
          2017.2,
          2017.3,
          2017.4,
          2017.5,
          2017.6,
          2017.7,
          2017.8,
          2017.9,
          2018,
          2018.1,
          2018.2,
          2018.3,
          2018.4,
          2018.5,
          2018.6,
          2018.7,
          2018.8,
          2018.9,
          2019,
          2019.1,
          2019.2,
          2019.3,
          2019.4,
          2019.5,
          2019.6,
          2019.7,
          2019.8,
          2019.9,
          2020
         ],
         "xaxis": "x",
         "y": [
          0,
          0.00009993080746596668,
          0.00019109293918612781,
          0.0002755091186872901,
          0.00035487929618473137,
          0.000429788899303599,
          0.0005009622698160447,
          0.0005688188274717475,
          0.0006336236536985944,
          0.0006957206748733571,
          0.0007553533491123838,
          0.0008126121885905195,
          0.0008676277137914372,
          0.0009205719598554344,
          0.0009716298134247382,
          0.001020835946187152,
          0.0010681964114048052,
          0.0011137712262101463,
          0.0011576745779657003,
          0.0012000747492371957,
          0.0012410801046626179,
          0.0012805893559856305,
          0.001318583197904013,
          0.0013551511774429752,
          0.0013904905754841806,
          0.0014247043287389772,
          0.0014576301830794727,
          0.0014892161630536856,
          0.001519558500622931,
          0.001548901300383172,
          0.001577348847674111,
          0.001604677785464601,
          0.0016308595888107115,
          0.0016560294224086329,
          0.001680408414422591,
          0.0017038800009171896,
          0.001726366125130391,
          0.0017479160399359608,
          0.0017686929444623025,
          0.001788765970075211,
          0.0018080028813627009,
          0.001826373646433875,
          0.0018439576368705843,
          0.0018609380009038292,
          0.001877343504057535,
          0.0018929945183025377,
          0.0019078441587495683,
          0.0019219955549253573,
          0.001935693513473879,
          0.0019489264450132826,
          0.0019614869791691556,
          0.001973363508500754,
          0.0019847059346582165,
          0.0019956828651731236,
          0.0020061293420901433,
          0.0020159857858061876,
          0.002025310748644927,
          0.0020342670335118554,
          0.002042851082718378,
          0.0020509328272358927,
          0.0020584939514726535,
          0.0020656238841544484,
          0.0020724982932535515,
          0.0020790632677608273,
          0.0020851519239335737,
          0.0020907411036519695,
          0.00209595327899794,
          0.0021010204670770024,
          0.0021058251450588646,
          0.0021101992344373694,
          0.0021141572839407617,
          0.0021178705397178446,
          0.0021214289863217537,
          0.0021246594078277743,
          0.002127522447875852,
          0.0021300919058564204,
          0.0021325241815898133,
          0.0021347523731044516,
          0.002136661174753354,
          0.0021382480056719275,
          0.002139616730502488,
          0.0021409252198133005,
          0.0021420523500575903,
          0.0021428567939752578,
          0.0021433412024629934,
          0.002143649937736509,
          0.0021439797651897647,
          0.00214413811402191,
          0.0021440026844805936,
          0.0021436160413256574,
          0.0021431649802227675,
          0.002142651702665745,
          0.002141921506523998,
          0.0021409547641457146,
          0.0021398428353320118,
          0.002138722271528695,
          0.0021374773423483754,
          0.002136015159985859,
          0.002134351301264177,
          0.0021326058635941785,
          0.00213090005227942,
          0.0021290683153232493,
          0.00212700135024278,
          0.002124728488450311,
          0.002122416286056314,
          0.0021201962697226136,
          0.0021178427217867475,
          0.002115276643957648,
          0.002112568453148844,
          0.0021099050926701207,
          0.0021072115584660316,
          0.0021043614544531035,
          0.002101355753605636,
          0.002098304030571218,
          0.002095305167393042,
          0.0020922167386116966,
          0.0020889696322075636,
          0.0020855982554596583,
          0.0020822390127866975,
          0.0020789545724389435,
          0.002075565822495086,
          0.002071994588523913,
          0.0020682962666347788,
          0.0020646578351161235,
          0.002061115051554555,
          0.002057456864474225,
          0.002053638198587149,
          0.0020497561363440283,
          0.002045978452342648,
          0.0020421727461498403,
          0.0020382438638023494,
          0.0020342131922508047,
          0.0020302075503532873,
          0.002026270550102239,
          0.00202225829693376,
          0.0020181228697330393,
          0.0020139174533256553,
          0.0020097890179472987,
          0.0020057317222914404,
          0.002001575959629172,
          0.001997273313088314,
          0.0019929041138856325,
          0.0019886616425539875,
          0.0019844860729144437,
          0.0019802025240971068,
          0.001975796518546952,
          0.001971390277736088,
          0.0019671088891600953,
          0.0019627896333928837,
          0.0019583669486718165,
          0.001953882299826448,
          0.001949472770544518,
          0.0019451234569650409,
          0.0019407023090372288,
          0.0019361815909440543,
          0.0019316329121676695,
          0.0019272029025579247,
          0.0019228209344388783,
          0.0019183400429400239,
          0.001913739715895781,
          0.0019091237634589692,
          0.0019046830140753699,
          0.0019003044476641063,
          0.0018957900272412508,
          0.001891117466197662,
          0.0018864377127449288,
          0.0018819862328750064,
          0.001877548296604761,
          0.0018729911067460257,
          0.001868360173058534,
          0.0018638294555910436,
          0.0018593434341348642,
          0.00185479796205066,
          0.0018501975797286414,
          0.0018456297463986106,
          0.0018411363986871392,
          0.0018366166754914726,
          0.0018320325576633469,
          0.001827416168376831,
          0.0018228683295051342,
          0.0018184253954527684,
          0.0018139388318486856,
          0.00180933786745158,
          0.0018046635499983292,
          0.0018000678253343716,
          0.0017956468198855335,
          0.001791184912992483,
          0.0017866192906010104,
          0.0017820236613817057,
          0.0017775521441717736,
          0.001773100702714807,
          0.001768587787651996,
          0.0017640293983801783,
          0.0017595252575295594,
          0.001755101636939654,
          0.0017506476218270915,
          0.0017461265281682409,
          0.0017415798981770534,
          0.0017371235266298404,
          0.0017327670199066563,
          0.0017283570921696125,
          0.0017238376990343302,
          0.0017192678782775466,
          0.0017148190601840182,
          0.0017105004690027826,
          0.0017061214167017928,
          0.0017016502136029256,
          0.0016971834523825595,
          0.0016928469516513565,
          0.0016885071770885228,
          0.001684104971849823,
          0.0016796708485795518,
          0.0016753133233986873,
          0.0016710219478389733,
          0.0016666910250696266,
          0.0016622964430510017,
          0.001657893054311744,
          0.0016536014943075623,
          0.0016493821843242794,
          0.0016450951904110947,
          0.0016407083043546201,
          0.0016363008291301571,
          0.0016320457269675894,
          0.0016278687397744377,
          0.0016236187273600334,
          0.0016192912888920723,
          0.001615004116674878,
          0.0016108340930560353,
          0.0016066416077771919,
          0.0016023874927353033,
          0.0015981173331752671,
          0.0015939414389754202,
          0.0015898109893463512,
          0.001585632223538138,
          0.0015813949586394858,
          0.0015771678763718915,
          0.001573066611969488,
          0.0015690059120928971,
          0.0015648666414145428,
          0.0015606392168010896,
          0.0015564222895462876,
          0.00155237211173915,
          0.0015483528781805142,
          0.0015442532975815189,
          0.0015400936059814156,
          0.0015360080869649285,
          0.0015320124451679038,
          0.001527981192132343,
          0.0015238915457274301,
          0.0015198041030316746,
          0.0015158210458149103,
          0.0015118600001613035,
          0.0015078438650689531,
          0.0015037771544151044,
          0.0014997423769041215,
          0.0014958361102653764,
          0.0014919383969101798,
          0.0014879554205534196,
          0.001483899487692445,
          0.0014798874864975077,
          0.0014760368248963064,
          0.0014721778260730898,
          0.001468236272743061,
          0.0014642552760779728,
          0.00146037467597735,
          0.0014565529819904072,
          0.0014526854482377802,
          0.0014487655237211878,
          0.001444868504472506,
          0.0014410759128927458,
          0.0014372831732968605,
          0.0014334311373786976,
          0.0014295389955087002,
          0.0014257028125309137,
          0.0014219837583535392,
          0.001418246130102081,
          0.001414420913230253,
          0.0014105410431873246,
          0.0014067405173970142,
          0.0014030737669586128,
          0.0013993715646711052,
          0.0013955894090335321,
          0.0013917916133576035,
          0.001388109769205547,
          0.0013844559963404784,
          0.0013807493691732858,
          0.0013769992577240264,
          0.0013732950768822229,
          0.0013696829729258188,
          0.001366052822543401,
          0.0013623620551337103,
          0.0013586443366975691,
          0.0013550064917399183,
          0.0013514623132805997,
          0.0013478786223967603,
          0.0013442092778672367,
          0.001340506622702103,
          0.0013369152687567256,
          0.001333416420543523,
          0.0013298652979378187,
          0.0013262412914596124,
          0.0013226283663490953,
          0.0013191334723441758,
          0.001315639435191934,
          0.0013120888571030258,
          0.0013085065790586008,
          0.0013049921729000552,
          0.0013015492727936188,
          0.0012980743956271291,
          0.0012945405501275846,
          0.0012909955177371386,
          0.0012875498156767634,
          0.0012841682743233703,
          0.0012807316157635053,
          0.0012772152459830852,
          0.0012736897023444983,
          0.001270296218481963,
          0.0012669534997790176,
          0.00126354743217397,
          0.0012600796218241398,
          0.0012566522339190005,
          0.0012533288592649016,
          0.0012499860389915073,
          0.0012465863036788117,
          0.001243169419449448,
          0.0012398376704988593,
          0.0012365532347761467,
          0.001233226199205571,
          0.001229844798199767,
          0.0012264704673307007,
          0.0012232070837404473,
          0.0012199766436397008,
          0.0012166804852996827,
          0.001213314275443145,
          0.001209965568810331,
          0.001206768079511281,
          0.0012036054782368145,
          0.0012003453236915562,
          0.001196986213819045,
          0.0011936549493300973,
          0.001190505966389152,
          0.001187354309921164,
          0.0011841215503180964,
          0.0011808542636714747,
          0.0011776817157198405,
          0.0011745376709711352,
          0.001171355178768366,
          0.0011681443766483883,
          0.0011649757896269588,
          0.0011618621163766042,
          0.0011587303924631314,
          0.0011555589855167655,
          0.001152377732708211,
          0.0011492647336620594,
          0.0011462220060954363,
          0.0011431420790954576,
          0.0011399851514042434,
          0.001136791915522927,
          0.0011336827746675695,
          0.0011306871247554586,
          0.0011276536032229815,
          0.0011245496155733216,
          0.0011214414322583658,
          0.0011184347245961686,
          0.001115435324562812,
          0.0011123912661733539,
          0.0011093210243650654,
          0.0011063045856177236,
          0.0011033451519384886,
          0.001100360734730276,
          0.0010973294591594995,
          0.0010942887723133106,
          0.0010913284834996296,
          0.0010884311440511139,
          0.001085488207352916,
          0.0010824698423560271,
          0.001079430209075181,
          0.0010764992253281254,
          0.0010736410157078376,
          0.0010707316175155885,
          0.0010677600388165334,
          0.0010648089674545017,
          0.0010619549545817484,
          0.00105909056017271,
          0.0010561788981044175,
          0.0010532495542651754,
          0.001050387636248915,
          0.0010475691071488184,
          0.0010447172842480785,
          0.0010418195860341605,
          0.0010389239113313899,
          0.001036120289552183,
          0.001033355895336205,
          0.0010305361515843862,
          0.0010276485403682405,
          0.0010247620528082719,
          0.0010219978297898139,
          0.0010192668202147885,
          0.0010164767806560887,
          0.0010136366263915194,
          0.0010108435842262292,
          0.0010081291070922155,
          0.001005391350393959,
          0.0010026066352429625,
          0.0009998162652655647,
          0.0009971038274532477,
          0.0009944174559278207,
          0.000991690766575445,
          0.000988921819050554,
          0.0009861694493235173,
          0.0009835146740739611,
          0.0009808749580169076,
          0.0009781732180980808,
          0.0009754133172401957,
          0.0009726785147579654,
          0.0009700659178077423,
          0.0009674543065797481,
          0.0009647804201916675,
          0.0009620710830290009,
          0.000959431269949657,
          0.0009568461126032802,
          0.0009542281188270387,
          0.0009515665504939027,
          0.0009489143874242305,
          0.000946344009469801,
          0.0009437810748106039,
          0.0009411731049356366,
          0.0009385296951931277,
          0.0009359205040226452,
          0.000933404592427704,
          0.000930881369577597,
          0.000928292789691018,
          0.0009256585779933568,
          0.0009230754535369416,
          0.0009205988045218874,
          0.0009180998891313932,
          0.0009155392961064181,
          0.0009129602650281887,
          0.0009104658864136526,
          0.0009080017156069644,
          0.0009054979957254631,
          0.000902956670112835,
          0.0009004420273580953,
          0.0008980038179994783,
          0.0008955568382131939,
          0.000893062729377167,
          0.0008905426409491561,
          0.0008880759464733274,
          0.0008856869491575757,
          0.0008832730271864193,
          0.0008807939908623278,
          0.0008782846661628542,
          0.0008758520391037694,
          0.0008734964265019845,
          0.000871104186751593,
          0.0008686545217825439,
          0.0008662059175323393,
          0.0008638476031485085,
          0.0008614969280311893,
          0.0008591027593341849,
          0.0008566793266546105,
          0.0008543007043516705,
          0.0008519842587864368,
          0.0008496469029052889,
          0.000847262751012267,
          0.0008448641620509023,
          0.0008425356870406625,
          0.0008402634428482278,
          0.000837953054324294,
          0.00083558099629039,
          0.000833196237202514,
          0.0008309103863934919,
          0.000828693221281553,
          0.0008264159978155826,
          0.000824049971567323,
          0.0008216690760590684,
          0.0008194221541715218,
          0.0008172168051881442,
          0.0008149520658189219,
          0.0008126401062311224,
          0.0008103790388544273,
          0.0008081697716093471,
          0.0008059359920087781,
          0.00080367124446485,
          0.0008014192341741814,
          0.0007992237667031251,
          0.0007970265059156415,
          0.0007947976639573288,
          0.0007925491983031006,
          0.0007903342438107061,
          0.000788190791505971,
          0.0007860380042034872,
          0.0007838269035701697,
          0.0007815721576063875,
          0.0007793515291293626,
          0.0007772398136340084,
          0.0007751212610124104,
          0.0007729459559946537,
          0.0007707448385920843,
          0.0007686120685343784,
          0.000766511830320278,
          0.0007643806015669704,
          0.0007622181236339628,
          0.0007600762572982119,
          0.0007579962205420829,
          0.0007559098001453148,
          0.0007537855622208024,
          0.0007516399132466976,
          0.0007495363920006645,
          0.0007475035558189623,
          0.0007454527589866533,
          0.0007433425334789638,
          0.0007411976513695781,
          0.0007391085444671199,
          0.0007371077263404349,
          0.000735081101948825,
          0.0007329999301278125,
          0.0007309092961057506,
          0.0007288963158549389,
          0.000726897978746982,
          0.0007248638830409453,
          0.0007228026042208574,
          0.0007207748854044462,
          0.0007188024960274947,
          0.0007168150111919267,
          0.00071478818793939,
          0.0007127466356700682,
          0.000710760701757381,
          0.0007088304815465446,
          0.0007068703900920997,
          0.0007048533799193515,
          0.0007028165522799251,
          0.0007008559707675687,
          0.0006989523661997246,
          0.0006970112998260709,
          0.0006950207831439297,
          0.0006930386928311129,
          0.0006911334603797726,
          0.0006892244308899196,
          0.0006872747983766375,
          0.0006853019901349389,
          0.0006833721928017735,
          0.0006814814247122093,
          0.000679560914647571,
          0.000677592839355659,
          0.0006756082345747208,
          0.000673677054902858,
          0.0006717668559311691,
          0.0006697988116204833,
          0.0006677573404851382,
          0.0006656896589834233,
          0.0006636865286649884,
          0.0006616893630874147,
          0.0006596282952015902,
          0.0006575088535582468,
          0.000655402888274072,
          0.0006533529970477082,
          0.0006512800700760042,
          0.0006491621353364864,
          0.0006470280995256526,
          0.0006449477634351621,
          0.0006428967065405242,
          0.0006408163155458594,
          0.0006386996862618535,
          0.0006365880385215594,
          0.0006345498759873381,
          0.0006325335979353684,
          0.0006304757406259245,
          0.0006283740646251223,
          0.0006262856499659757,
          0.0006242968878726004,
          0.0006223314047081501,
          0.0006203022812620648,
          0.0006182096650462416,
          0.000616138940823856,
          0.0006141905659382953,
          0.0006122407628363378,
          0.0006102388783086815,
          0.0006082146603418862,
          0.0006062535703802753,
          0.0006043156682009111,
          0.0006023536762246477,
          0.0006003723577586614,
          0.0005984174391611374,
          0.0005965041212636254,
          0.0005945820971551888,
          0.0005926344794625503,
          0.0005906790484149223,
          0.0005887667238323353,
          0.000586905490228088,
          0.0005850250357334912,
          0.0005830969913478213,
          0.000581145270239249,
          0.0005792454686460675,
          0.0005774241086743196,
          0.0005755835391554581,
          0.0005737001191300492,
          0.0005718131530618051,
          0.0005699950226098642,
          0.0005681910720157771,
          0.0005663626711654053,
          0.000564518370896003,
          0.0005627080067570244,
          0.0005609439554884314,
          0.0005591703966120168,
          0.0005573690161846451,
          0.0005555600809413569,
          0.0005537998372944011,
          0.0005520881172376752,
          0.0005503538310016789,
          0.0005485732799786809,
          0.0005467756900127889,
          0.0005450405365435648,
          0.0005433613896536057,
          0.0005416547379564787,
          0.000539907436833109,
          0.0005381650280504745,
          0.0005364884588636494,
          0.0005348141140800918,
          0.0005331103391658017,
          0.000531390086237416,
          0.0005297063783380967,
          0.000528061547633867,
          0.0005264008580733664,
          0.0005247097937145403,
          0.0005230129781534596,
          0.0005213687068031943,
          0.0005197621117766088,
          0.0005181276948510203,
          0.0005164497717784814,
          0.0005147636255480796,
          0.0005131468593695839,
          0.0005115666638428108,
          0.0005099546345899823,
          0.0005083070296841241,
          0.0005066752148293515,
          0.0005051049782855232,
          0.0005035294276147304,
          0.000501924358497352,
          0.000500307735735428,
          0.0004987343921602814,
          0.0004971944268640296,
          0.0004956368498910117,
          0.0004940522050480139,
          0.0004924701263230783,
          0.0004909489886189549,
          0.0004894600366523829,
          0.0004879461828151121,
          0.0004864001674606906,
          0.0004848635679117339,
          0.0004834084835207534,
          0.00048198258268799166,
          0.00048053104355251996,
          0.00047905736926916534,
          0.0004776167234410653,
          0.00047623461653534125,
          0.0004748455065112689,
          0.000473430163291463,
          0.00047200995231026354,
          0.0004706379935474612,
          0.0004692909173718844,
          0.0004679219074822091,
          0.00046652522225714603,
          0.0004651333783297142,
          0.0004637999585188016,
          0.0004624825791162838,
          0.0004611308820006788,
          0.000459743099819248,
          0.0004583646091289038,
          0.00045706450373941474,
          0.0004557821386368786,
          0.00045444696586845326,
          0.0004530584470181473,
          0.00045168474968213375,
          0.0004504087615703486,
          0.0004491315211316895,
          0.00044781079496160385,
          0.0004464693498483374,
          0.000445175990339602,
          0.0004439010853594868,
          0.0004426056659529931,
          0.00044129277219221087,
          0.0004399982064006916,
          0.00043873612206867907,
          0.000437466355655089,
          0.0004361747504416339,
          0.00043487460349828815,
          0.000433605746490098,
          0.0004323776362251342,
          0.0004311343088010018,
          0.0004298515815174191,
          0.00042854674718075805,
          0.0004272781421515604,
          0.0004260739978742914,
          0.00042485523037710197,
          0.0004236000486021309,
          0.0004223371530885627,
          0.00042112664330236257,
          0.0004199297079875274,
          0.0004187121676363427,
          0.0004174788115894266,
          0.00041626816262692475,
          0.0004150964615252764,
          0.00041391818732048203,
          0.0004127164338068483,
          0.00041150540797867585,
          0.00041032924203734624,
          0.0004091949183032473,
          0.00040804441849291,
          0.0004068555682241893,
          0.00040564883542045654,
          0.0004044863481900184,
          0.00040337376006302137,
          0.00040224049765756695,
          0.00040107213991863287,
          0.0003999018435879685,
          0.0003987838408364953,
          0.0003976713791764319,
          0.00039653434362703626,
          0.00039538025915862704,
          0.0003942505417055307,
          0.0003931554932868432,
          0.0003920489874169422,
          0.00039091634757840453,
          0.000389774863145843,
          0.0003886711738257747,
          0.00038760170273923785,
          0.0003865116399742868,
          0.000385384926276064,
          0.0003842466884996603,
          0.0003831591596131791,
          0.0003821067706489288,
          0.0003810297058354081,
          0.00037992074674424474,
          0.00037881765381170057,
          0.0003777664536891388,
          0.00037671503067272804,
          0.00037563842026621183,
          0.0003745478039626421,
          0.0003734874747850082,
          0.0003724602901538897,
          0.0003714211979389595,
          0.0003703589444763265,
          0.0003692950118759979,
          0.0003682784931228063,
          0.0003672961938871935,
          0.00036629929055016785,
          0.00036527901835043444,
          0.00036426647209388983,
          0.00036332556472706455,
          0.00036243447243234934,
          0.00036152222015960834,
          0.0003605739187320446,
          0.00035963172347901944,
          0.0003587791777550763,
          0.0003579685490926601,
          0.00035713071494287654,
          0.0003562539803355268,
          0.00035537572301599035,
          0.000354566075544935,
          0.0003537757036705424,
          0.0003529540125113485,
          0.0003521053847552984,
          0.00035128028859903024,
          0.0003504907436360899,
          0.0003496872877671011,
          0.00034886052573700346,
          0.0003480316804354218,
          0.0003472373576586549,
          0.00034644857089159177,
          0.00034563893824199457,
          0.0003448100277815683,
          0.00034398994015711454,
          0.0003432121568586643,
          0.0003424360006224875,
          0.0003416278022263304,
          0.00034079041855318104,
          0.00033996273322097967,
          0.00033919220843466074,
          0.00033842230466938944,
          0.0003376197861429822,
          0.00033679572166063395,
          0.00033600075157504594,
          0.0003352344390255583,
          0.0003344513983456388,
          0.00033364421424582206,
          0.0003328366227481036,
          0.00033206663758061325,
          0.00033130199956228986,
          0.000330515049033484,
          0.00032970833469092467,
          0.0003289131788726397,
          0.00032816269800845904,
          0.00032741241550167453,
          0.00032663230337583014,
          0.0003258290323368837,
          0.00032504542440433263,
          0.00032432675118376645,
          0.000323611175739466,
          0.0003228532996775296,
          0.0003220609810010103,
          0.000321294617183492,
          0.00032059988383442744,
          0.0003199055870941913,
          0.0003191970010674618,
          0.00031847706796838863,
          0.0003177646747737481,
          0.0003170821655155358,
          0.00031640288688798696,
          0.0003157024759804789,
          0.00031498198482804576,
          0.00031426763164302637,
          0.0003135964024206441,
          0.0003129314715546636,
          0.0003122400873029573,
          0.00031152543084275573,
          0.00031082477738477083,
          0.0003101660932196406,
          0.0003094994674417096,
          0.00030880353172565555,
          0.00030809089406290304,
          0.00030740674805323115,
          0.00030675533363104426,
          0.000306086751212926,
          0.0003053872768952451,
          0.0003046785075392409,
          0.0003040108407729515,
          0.0003033648293412457,
          0.0003026933554810891,
          0.00030199026598195963,
          0.00030128788163541633,
          0.00030063698512715743,
          0.0002999937687212194,
          0.0002993189263952747,
          0.00029861531795045374,
          0.0002979256145610075,
          0.00029728990235074155,
          0.0002966480802918565,
          0.00029596861957121597,
          0.0002952646842151807,
          0.0002945929856391761,
          0.00029396769377150825,
          0.0002933266798313189,
          0.0002926519031199265,
          0.0002919647484675078,
          0.0002913215833157906,
          0.0002907113703671836,
          0.00029007977228516876,
          0.0002894169728038206,
          0.0002887551784031353,
          0.00028815193780500504,
          0.0002875673621667684,
          0.0002869601939482614,
          0.00028632961548214755,
          0.0002857110280186039,
          0.0002851460209520841,
          0.000284582937451676,
          0.0002839885315311902,
          0.0002833706214083772,
          0.00028277696275903216,
          0.0002822304594898739,
          0.00028167179538319387,
          0.00028107985428793135,
          0.00028047077806438517,
          0.0002798956042214184,
          0.00027935023665023417,
          0.0002787768896529466,
          0.00027816004001367755,
          0.00027752469367423597,
          0.000276925457448089,
          0.0002763339420156304,
          0.0002757114224806434,
          0.00027505559351900203,
          0.000274395252082217,
          0.000273770456051801,
          0.0002731422173247741,
          0.00027247964614657397,
          0.0002717851256177612,
          0.0002710928149837169,
          0.00027042597651490743,
          0.0002697478642452628,
          0.00026905246560851625,
          0.0002683438002761542,
          0.0002676355288921702,
          0.000266944113525191,
          0.00026624663755322217,
          0.0002655219916598205,
          0.0002647675876639272,
          0.00026399920593095914,
          0.00026325080431941324,
          0.0002625268573311485,
          0.0002617993352691134,
          0.00026106366534670136,
          0.00026031957358975643,
          0.00025957104891262764,
          0.0002588263077371033,
          0.000258095014464989,
          0.0002573657364231289,
          0.0002566262908490207,
          0.00025587584979188814,
          0.00025512485375442633,
          0.0002543947041017548,
          0.00025367954315616353,
          0.0002529690181809225,
          0.00025226766526360736,
          0.0002515740626128183,
          0.000250880874767846,
          0.00025017489571828614,
          0.0002494565145675954,
          0.00024874019568008987,
          0.0002480246698240433,
          0.0002473092274531464,
          0.0002465937612648789,
          0.0002458787614051705,
          0.00024516531072532735,
          0.00024445508008328525,
          0.00024374993432472867,
          0.00024304163836462968,
          0.00024232174817724418,
          0.00024158971156410482,
          0.00024085283017706615,
          0.00024012611611825586,
          0.0002394145658247318,
          0.0002386986834251939,
          0.0002379671383502899,
          0.00023721996842003255,
          0.00023646849988095145,
          0.0002357349572352967,
          0.0002350156780490254,
          0.00023429424488927289,
          0.00023356865477449105,
          0.00023283852235053424,
          0.00023210506847341073,
          0.00023137110888674241,
          0.0002306420418966925,
          0.0002299154326514027,
          0.00022918607410310485,
          0.00022845255574002485,
          0.000227717237290021,
          0.00022698622192731776,
          0.00022626655970821072,
          0.00022555220435021138,
          0.0002248391623235162,
          0.00022412651268032162,
          0.00022341574490488314,
          0.00022271074037403038,
          0.00022201781744613397,
          0.00022134177453492863,
          0.00022067613536561607,
          0.00022001605420031935,
          0.00021936110375426107,
          0.0002187152572946327,
          0.0002180868738894227,
          0.00021747930081157112,
          0.00021688128587210717,
          0.0002162955365760173,
          0.0002157214664932522,
          0.0002151543995171075,
          0.00021458558356842857,
          0.00021400329151101226,
          0.00021341468371999977,
          0.00021282692539288677,
          0.00021224177544309483,
          0.00021166015106566124,
          0.00021108213003168613,
          0.00021050695289430123,
          0.00020993302514343086,
          0.00020935791933041442,
          0.00020877852714075727,
          0.0002082016918941301,
          0.00020762709084959035,
          0.00020704911353313355,
          0.00020646538486437902,
          0.00020587675381128896,
          0.00020528728218716322,
          0.00020470368033148687,
          0.0002041222462822321,
          0.00020354210255343202,
          0.00020296510312820952,
          0.0002023915628757464,
          0.00020182026276023546,
          0.00020124845498843358,
          0.0002006719666042365,
          0.00020009406536874213,
          0.00019951793678360313,
          0.0001989427583713311,
          0.00019836812552212,
          0.00019779404989654084,
          0.0001972209578477689,
          0.00019664968886555392,
          0.00019608149404623553,
          0.0001955180345950595,
          0.0001949613281243126,
          0.00019440901176190372,
          0.00019385855260674033,
          0.00019330986432555323,
          0.0001927630317741605,
          0.00019221831103520342,
          0.00019167612947714052,
          0.0001911370858402565,
          0.0001906019503531366,
          0.0001900716648806557,
          0.00018954733923528584,
          0.0001890292809261461,
          0.00018851603920866757,
          0.0001880062660456548,
          0.00018749893517951808,
          0.0001869933408120505,
          0.00018648909635722032,
          0.0001859861332495304,
          0.00018548469979398256,
          0.00018498536004701583,
          0.00018448904005395365,
          0.00018399908040764851,
          0.0001835129914983202,
          0.0001830263155634675,
          0.00018253611236369548,
          0.00018204095562656235,
          0.00018154092956622488,
          0.00018103762547140196,
          0.0001805341383566066,
          0.00018003506367390956,
          0.0001795463617253747,
          0.0001790633374855099,
          0.00017858085111232115,
          0.00017809938018474965,
          0.00017761919702121605,
          0.00017714036912027347,
          0.00017666275959305196,
          0.00017618602758762736,
          0.00017570962870547244,
          0.00017523281541008447,
          0.0001747547276332822,
          0.00017428033883267084,
          0.00017380897965460788,
          0.0001733363512876371,
          0.00017285991062581583,
          0.0001723788667683539,
          0.00017189417758548925,
          0.00017140854634579755,
          0.0001709264183965674,
          0.00017045207853766205,
          0.00016998004800752165,
          0.00016950953374298777,
          0.00016904083042340769,
          0.0001685740778921528,
          0.0001681092615007993,
          0.00016764621245250817,
          0.0001671846081479176,
          0.0001667239725370953,
          0.0001662635591902748,
          0.00016580277332273774,
          0.00016534296007614824,
          0.00016488522296599344,
          0.00016443013453727856,
          0.00016397773744601104,
          0.00016352754556141964,
          0.0001630785450779372,
          0.0001626291956259533,
          0.00016217743137036548,
          0.00016172162117782536,
          0.0001612663502749991,
          0.00016081254491447688,
          0.00016036009411547511,
          0.00015990895278333837,
          0.0001594591416308922,
          0.00015901074710116854,
          0.00015856392129176067,
          0.00015811888188091154,
          0.00015767591205533054,
          0.00015723490207367804,
          0.00015679352099568771,
          0.00015635245861165734,
          0.00015591267003952383,
          0.00015547472246971836,
          0.00015503879593348514,
          0.00015460468405727203,
          0.00015417179480328028,
          0.0001537391511962859,
          0.00015330539203690756,
          0.00015286855002858755,
          0.00015242765285287786,
          0.00015198661785024038,
          0.00015154887537219416,
          0.00015111671386135853,
          0.00015069128201653173,
          0.00015027259091709243,
          0.00014985951610802921,
          0.00014944979964809024,
          0.0001490400521247551,
          0.00014862669475642812,
          0.00014821265060632334,
          0.0001477986507439981,
          0.0001473845411626289,
          0.0001469702445067515,
          0.00014655576000501433,
          0.00014614116340365115,
          0.00014572660689947866,
          0.00014531231907102655,
          0.0001448986048062393,
          0.00014448587661853104,
          0.0001440744897049808,
          0.00014366418372374092,
          0.00014325470373295385,
          0.00014284588247232832,
          0.00014243764020887268,
          0.00014202998457938764,
          0.00014162301043123897,
          0.00014121689966289222,
          0.00014081192106568828,
          0.0001404093818183476,
          0.0001400132341482963,
          0.00013961834909235088,
          0.00013922010718783056,
          0.00013881606705721963,
          0.00013840596146538173,
          0.00013799169343853453,
          0.00013757733245162344,
          0.00013716911068714668,
          0.00013677175151458336,
          0.00013637651416418964,
          0.00013598206258298452,
          0.00013558828088397007,
          0.0001351951233201243,
          0.00013480261416421441,
          0.00013441084759087111,
          0.0001340199875608861,
          0.00013363026770773934,
          0.00013324268851783186,
          0.000132861070181331,
          0.00013248209297339272,
          0.00013210223527730015,
          0.00013171927383980427,
          0.00013133228160411726,
          0.0001309416255835735,
          0.0001305489647757234,
          0.00013015724811686055,
          0.0001297707124773141,
          0.00012939352341829718,
          0.00012901913954192935,
          0.0001286453151973454,
          0.00012827180795347166,
          0.00012789850763280375,
          0.00012752543605965325,
          0.0001271527468131443,
          0.00012678072498549693,
          0.0001264097869463155,
          0.0001260404801138809,
          0.0001256732742211029,
          0.00012530719290503042,
          0.00012494227145531798,
          0.00012457873472696826,
          0.00012421666668882735,
          0.00012385601069008644,
          0.00012349656971839967,
          0.00012313800665019595,
          0.00012277984449408883,
          0.00012242146662870462,
          0.00012206373134861359,
          0.00012171529288463165,
          0.00012137054873669908,
          0.0001210230244649073,
          0.00012066859837281715,
          0.00012030549847597508,
          0.0001199342995454069,
          0.00011955792021983818,
          0.0001191816201823001,
          0.00011881299739877371,
          0.00011845954215827327,
          0.00011810991713695742,
          0.00011776108747382514,
          0.00011741332457087312,
          0.00011706676292177202,
          0.00011672140027159974,
          0.00011637709777299069,
          0.00011603358013877608,
          0.00011569043579114561,
          0.00011534711700739682,
          0.00011500318713120477,
          0.00011465999957399244,
          0.00011431775684695082,
          0.00011397632274729644,
          0.00011363560146182946,
          0.00011329553752196074,
          0.00011295611575973786,
          0.00011261736126487832,
          0.00011227933934277288,
          0.0001119421554734667,
          0.00011160584555377755,
          0.00011126993380496389,
          0.00011093488595708357,
          0.0001106011843934199,
          0.00011026910896006535,
          0.00010993873717190574,
          0.00010960994441383313,
          0.00010928240413726703,
          0.00010895558805202112,
          0.00010862876631359563,
          0.00010830124270391646,
          0.0001079742259830026,
          0.00010764822179079035
         ],
         "yaxis": "y"
        },
        {
         "hovertemplate": "x=%{x}<br>y=%{y}<extra></extra>",
         "legendgroup": "",
         "marker": {
          "color": "red",
          "symbol": "circle"
         },
         "mode": "markers",
         "name": "",
         "orientation": "v",
         "showlegend": false,
         "type": "scatter",
         "x": [
          2016
         ],
         "xaxis": "x",
         "y": [
          36.8
         ],
         "yaxis": "y"
        }
       ],
       "layout": {
        "template": {
         "data": {
          "bar": [
           {
            "error_x": {
             "color": "#2a3f5f"
            },
            "error_y": {
             "color": "#2a3f5f"
            },
            "marker": {
             "line": {
              "color": "#E5ECF6",
              "width": 0.5
             },
             "pattern": {
              "fillmode": "overlay",
              "size": 10,
              "solidity": 0.2
             }
            },
            "type": "bar"
           }
          ],
          "barpolar": [
           {
            "marker": {
             "line": {
              "color": "#E5ECF6",
              "width": 0.5
             },
             "pattern": {
              "fillmode": "overlay",
              "size": 10,
              "solidity": 0.2
             }
            },
            "type": "barpolar"
           }
          ],
          "carpet": [
           {
            "aaxis": {
             "endlinecolor": "#2a3f5f",
             "gridcolor": "white",
             "linecolor": "white",
             "minorgridcolor": "white",
             "startlinecolor": "#2a3f5f"
            },
            "baxis": {
             "endlinecolor": "#2a3f5f",
             "gridcolor": "white",
             "linecolor": "white",
             "minorgridcolor": "white",
             "startlinecolor": "#2a3f5f"
            },
            "type": "carpet"
           }
          ],
          "choropleth": [
           {
            "colorbar": {
             "outlinewidth": 0,
             "ticks": ""
            },
            "type": "choropleth"
           }
          ],
          "contour": [
           {
            "colorbar": {
             "outlinewidth": 0,
             "ticks": ""
            },
            "colorscale": [
             [
              0,
              "#0d0887"
             ],
             [
              0.1111111111111111,
              "#46039f"
             ],
             [
              0.2222222222222222,
              "#7201a8"
             ],
             [
              0.3333333333333333,
              "#9c179e"
             ],
             [
              0.4444444444444444,
              "#bd3786"
             ],
             [
              0.5555555555555556,
              "#d8576b"
             ],
             [
              0.6666666666666666,
              "#ed7953"
             ],
             [
              0.7777777777777778,
              "#fb9f3a"
             ],
             [
              0.8888888888888888,
              "#fdca26"
             ],
             [
              1,
              "#f0f921"
             ]
            ],
            "type": "contour"
           }
          ],
          "contourcarpet": [
           {
            "colorbar": {
             "outlinewidth": 0,
             "ticks": ""
            },
            "type": "contourcarpet"
           }
          ],
          "heatmap": [
           {
            "colorbar": {
             "outlinewidth": 0,
             "ticks": ""
            },
            "colorscale": [
             [
              0,
              "#0d0887"
             ],
             [
              0.1111111111111111,
              "#46039f"
             ],
             [
              0.2222222222222222,
              "#7201a8"
             ],
             [
              0.3333333333333333,
              "#9c179e"
             ],
             [
              0.4444444444444444,
              "#bd3786"
             ],
             [
              0.5555555555555556,
              "#d8576b"
             ],
             [
              0.6666666666666666,
              "#ed7953"
             ],
             [
              0.7777777777777778,
              "#fb9f3a"
             ],
             [
              0.8888888888888888,
              "#fdca26"
             ],
             [
              1,
              "#f0f921"
             ]
            ],
            "type": "heatmap"
           }
          ],
          "heatmapgl": [
           {
            "colorbar": {
             "outlinewidth": 0,
             "ticks": ""
            },
            "colorscale": [
             [
              0,
              "#0d0887"
             ],
             [
              0.1111111111111111,
              "#46039f"
             ],
             [
              0.2222222222222222,
              "#7201a8"
             ],
             [
              0.3333333333333333,
              "#9c179e"
             ],
             [
              0.4444444444444444,
              "#bd3786"
             ],
             [
              0.5555555555555556,
              "#d8576b"
             ],
             [
              0.6666666666666666,
              "#ed7953"
             ],
             [
              0.7777777777777778,
              "#fb9f3a"
             ],
             [
              0.8888888888888888,
              "#fdca26"
             ],
             [
              1,
              "#f0f921"
             ]
            ],
            "type": "heatmapgl"
           }
          ],
          "histogram": [
           {
            "marker": {
             "pattern": {
              "fillmode": "overlay",
              "size": 10,
              "solidity": 0.2
             }
            },
            "type": "histogram"
           }
          ],
          "histogram2d": [
           {
            "colorbar": {
             "outlinewidth": 0,
             "ticks": ""
            },
            "colorscale": [
             [
              0,
              "#0d0887"
             ],
             [
              0.1111111111111111,
              "#46039f"
             ],
             [
              0.2222222222222222,
              "#7201a8"
             ],
             [
              0.3333333333333333,
              "#9c179e"
             ],
             [
              0.4444444444444444,
              "#bd3786"
             ],
             [
              0.5555555555555556,
              "#d8576b"
             ],
             [
              0.6666666666666666,
              "#ed7953"
             ],
             [
              0.7777777777777778,
              "#fb9f3a"
             ],
             [
              0.8888888888888888,
              "#fdca26"
             ],
             [
              1,
              "#f0f921"
             ]
            ],
            "type": "histogram2d"
           }
          ],
          "histogram2dcontour": [
           {
            "colorbar": {
             "outlinewidth": 0,
             "ticks": ""
            },
            "colorscale": [
             [
              0,
              "#0d0887"
             ],
             [
              0.1111111111111111,
              "#46039f"
             ],
             [
              0.2222222222222222,
              "#7201a8"
             ],
             [
              0.3333333333333333,
              "#9c179e"
             ],
             [
              0.4444444444444444,
              "#bd3786"
             ],
             [
              0.5555555555555556,
              "#d8576b"
             ],
             [
              0.6666666666666666,
              "#ed7953"
             ],
             [
              0.7777777777777778,
              "#fb9f3a"
             ],
             [
              0.8888888888888888,
              "#fdca26"
             ],
             [
              1,
              "#f0f921"
             ]
            ],
            "type": "histogram2dcontour"
           }
          ],
          "mesh3d": [
           {
            "colorbar": {
             "outlinewidth": 0,
             "ticks": ""
            },
            "type": "mesh3d"
           }
          ],
          "parcoords": [
           {
            "line": {
             "colorbar": {
              "outlinewidth": 0,
              "ticks": ""
             }
            },
            "type": "parcoords"
           }
          ],
          "pie": [
           {
            "automargin": true,
            "type": "pie"
           }
          ],
          "scatter": [
           {
            "fillpattern": {
             "fillmode": "overlay",
             "size": 10,
             "solidity": 0.2
            },
            "type": "scatter"
           }
          ],
          "scatter3d": [
           {
            "line": {
             "colorbar": {
              "outlinewidth": 0,
              "ticks": ""
             }
            },
            "marker": {
             "colorbar": {
              "outlinewidth": 0,
              "ticks": ""
             }
            },
            "type": "scatter3d"
           }
          ],
          "scattercarpet": [
           {
            "marker": {
             "colorbar": {
              "outlinewidth": 0,
              "ticks": ""
             }
            },
            "type": "scattercarpet"
           }
          ],
          "scattergeo": [
           {
            "marker": {
             "colorbar": {
              "outlinewidth": 0,
              "ticks": ""
             }
            },
            "type": "scattergeo"
           }
          ],
          "scattergl": [
           {
            "marker": {
             "colorbar": {
              "outlinewidth": 0,
              "ticks": ""
             }
            },
            "type": "scattergl"
           }
          ],
          "scattermapbox": [
           {
            "marker": {
             "colorbar": {
              "outlinewidth": 0,
              "ticks": ""
             }
            },
            "type": "scattermapbox"
           }
          ],
          "scatterpolar": [
           {
            "marker": {
             "colorbar": {
              "outlinewidth": 0,
              "ticks": ""
             }
            },
            "type": "scatterpolar"
           }
          ],
          "scatterpolargl": [
           {
            "marker": {
             "colorbar": {
              "outlinewidth": 0,
              "ticks": ""
             }
            },
            "type": "scatterpolargl"
           }
          ],
          "scatterternary": [
           {
            "marker": {
             "colorbar": {
              "outlinewidth": 0,
              "ticks": ""
             }
            },
            "type": "scatterternary"
           }
          ],
          "surface": [
           {
            "colorbar": {
             "outlinewidth": 0,
             "ticks": ""
            },
            "colorscale": [
             [
              0,
              "#0d0887"
             ],
             [
              0.1111111111111111,
              "#46039f"
             ],
             [
              0.2222222222222222,
              "#7201a8"
             ],
             [
              0.3333333333333333,
              "#9c179e"
             ],
             [
              0.4444444444444444,
              "#bd3786"
             ],
             [
              0.5555555555555556,
              "#d8576b"
             ],
             [
              0.6666666666666666,
              "#ed7953"
             ],
             [
              0.7777777777777778,
              "#fb9f3a"
             ],
             [
              0.8888888888888888,
              "#fdca26"
             ],
             [
              1,
              "#f0f921"
             ]
            ],
            "type": "surface"
           }
          ],
          "table": [
           {
            "cells": {
             "fill": {
              "color": "#EBF0F8"
             },
             "line": {
              "color": "white"
             }
            },
            "header": {
             "fill": {
              "color": "#C8D4E3"
             },
             "line": {
              "color": "white"
             }
            },
            "type": "table"
           }
          ]
         },
         "layout": {
          "annotationdefaults": {
           "arrowcolor": "#2a3f5f",
           "arrowhead": 0,
           "arrowwidth": 1
          },
          "autotypenumbers": "strict",
          "coloraxis": {
           "colorbar": {
            "outlinewidth": 0,
            "ticks": ""
           }
          },
          "colorscale": {
           "diverging": [
            [
             0,
             "#8e0152"
            ],
            [
             0.1,
             "#c51b7d"
            ],
            [
             0.2,
             "#de77ae"
            ],
            [
             0.3,
             "#f1b6da"
            ],
            [
             0.4,
             "#fde0ef"
            ],
            [
             0.5,
             "#f7f7f7"
            ],
            [
             0.6,
             "#e6f5d0"
            ],
            [
             0.7,
             "#b8e186"
            ],
            [
             0.8,
             "#7fbc41"
            ],
            [
             0.9,
             "#4d9221"
            ],
            [
             1,
             "#276419"
            ]
           ],
           "sequential": [
            [
             0,
             "#0d0887"
            ],
            [
             0.1111111111111111,
             "#46039f"
            ],
            [
             0.2222222222222222,
             "#7201a8"
            ],
            [
             0.3333333333333333,
             "#9c179e"
            ],
            [
             0.4444444444444444,
             "#bd3786"
            ],
            [
             0.5555555555555556,
             "#d8576b"
            ],
            [
             0.6666666666666666,
             "#ed7953"
            ],
            [
             0.7777777777777778,
             "#fb9f3a"
            ],
            [
             0.8888888888888888,
             "#fdca26"
            ],
            [
             1,
             "#f0f921"
            ]
           ],
           "sequentialminus": [
            [
             0,
             "#0d0887"
            ],
            [
             0.1111111111111111,
             "#46039f"
            ],
            [
             0.2222222222222222,
             "#7201a8"
            ],
            [
             0.3333333333333333,
             "#9c179e"
            ],
            [
             0.4444444444444444,
             "#bd3786"
            ],
            [
             0.5555555555555556,
             "#d8576b"
            ],
            [
             0.6666666666666666,
             "#ed7953"
            ],
            [
             0.7777777777777778,
             "#fb9f3a"
            ],
            [
             0.8888888888888888,
             "#fdca26"
            ],
            [
             1,
             "#f0f921"
            ]
           ]
          },
          "colorway": [
           "#636efa",
           "#EF553B",
           "#00cc96",
           "#ab63fa",
           "#FFA15A",
           "#19d3f3",
           "#FF6692",
           "#B6E880",
           "#FF97FF",
           "#FECB52"
          ],
          "font": {
           "color": "#2a3f5f"
          },
          "geo": {
           "bgcolor": "white",
           "lakecolor": "white",
           "landcolor": "#E5ECF6",
           "showlakes": true,
           "showland": true,
           "subunitcolor": "white"
          },
          "hoverlabel": {
           "align": "left"
          },
          "hovermode": "closest",
          "mapbox": {
           "style": "light"
          },
          "paper_bgcolor": "white",
          "plot_bgcolor": "#E5ECF6",
          "polar": {
           "angularaxis": {
            "gridcolor": "white",
            "linecolor": "white",
            "ticks": ""
           },
           "bgcolor": "#E5ECF6",
           "radialaxis": {
            "gridcolor": "white",
            "linecolor": "white",
            "ticks": ""
           }
          },
          "scene": {
           "xaxis": {
            "backgroundcolor": "#E5ECF6",
            "gridcolor": "white",
            "gridwidth": 2,
            "linecolor": "white",
            "showbackground": true,
            "ticks": "",
            "zerolinecolor": "white"
           },
           "yaxis": {
            "backgroundcolor": "#E5ECF6",
            "gridcolor": "white",
            "gridwidth": 2,
            "linecolor": "white",
            "showbackground": true,
            "ticks": "",
            "zerolinecolor": "white"
           },
           "zaxis": {
            "backgroundcolor": "#E5ECF6",
            "gridcolor": "white",
            "gridwidth": 2,
            "linecolor": "white",
            "showbackground": true,
            "ticks": "",
            "zerolinecolor": "white"
           }
          },
          "shapedefaults": {
           "line": {
            "color": "#2a3f5f"
           }
          },
          "ternary": {
           "aaxis": {
            "gridcolor": "white",
            "linecolor": "white",
            "ticks": ""
           },
           "baxis": {
            "gridcolor": "white",
            "linecolor": "white",
            "ticks": ""
           },
           "bgcolor": "#E5ECF6",
           "caxis": {
            "gridcolor": "white",
            "linecolor": "white",
            "ticks": ""
           }
          },
          "title": {
           "x": 0.05
          },
          "xaxis": {
           "automargin": true,
           "gridcolor": "white",
           "linecolor": "white",
           "ticks": "",
           "title": {
            "standoff": 15
           },
           "zerolinecolor": "white",
           "zerolinewidth": 2
          },
          "yaxis": {
           "automargin": true,
           "gridcolor": "white",
           "linecolor": "white",
           "ticks": "",
           "title": {
            "standoff": 15
           },
           "zerolinecolor": "white",
           "zerolinewidth": 2
          }
         }
        },
        "title": {
         "text": "Modelled vs Data",
         "x": 0.5
        },
        "xaxis": {
         "title": {
          "text": "Year"
         }
        },
        "yaxis": {
         "title": {
          "text": "LTBI percentage"
         }
        }
       }
      }
     },
     "metadata": {},
     "output_type": "display_data"
    }
   ],
   "source": [
    "latent_1 = px.line(\n",
    "    derived_df_0,\n",
    "    x=derived_df_0.index,\n",
    "    y=\"percentage_latent\",\n",
    ")\n",
    "latent_2 = px.scatter(x= plots['percentage_latent']['times'], y = plots['percentage_latent']['values'])\n",
    "latent_2.update_traces(marker=dict(color=\"red\"))\n",
    "latent_plot = go.Figure(\n",
    "    data=latent_1.data + latent_2.data,\n",
    ")\n",
    "latent_plot.update_layout(\n",
    "    title=\"Modelled vs Data\", title_x=0.5, xaxis_title=\"Year\", yaxis_title=\"LTBI percentage\"\n",
    ")\n",
    "latent_plot.show()"
   ]
  },
  {
   "cell_type": "code",
   "execution_count": 25,
   "metadata": {},
   "outputs": [
    {
     "data": {
      "application/vnd.plotly.v1+json": {
       "config": {
        "plotlyServerURL": "https://plot.ly"
       },
       "data": [
        {
         "hovertemplate": "index=%{x}<br>notifications=%{y}<extra></extra>",
         "legendgroup": "",
         "line": {
          "color": "#636efa",
          "dash": "solid"
         },
         "marker": {
          "symbol": "circle"
         },
         "mode": "lines",
         "name": "",
         "showlegend": false,
         "type": "scattergl",
         "x": [
          1900,
          1900.1,
          1900.2,
          1900.3,
          1900.4,
          1900.5,
          1900.6,
          1900.7,
          1900.8,
          1900.9,
          1901,
          1901.1,
          1901.2,
          1901.3,
          1901.4,
          1901.5,
          1901.6,
          1901.7,
          1901.8,
          1901.9,
          1902,
          1902.1,
          1902.2,
          1902.3,
          1902.4,
          1902.5,
          1902.6,
          1902.7,
          1902.8,
          1902.9,
          1903,
          1903.1,
          1903.2,
          1903.3,
          1903.4,
          1903.5,
          1903.6,
          1903.7,
          1903.8,
          1903.9,
          1904,
          1904.1,
          1904.2,
          1904.3,
          1904.4,
          1904.5,
          1904.6,
          1904.7,
          1904.8,
          1904.9,
          1905,
          1905.1,
          1905.2,
          1905.3,
          1905.4,
          1905.5,
          1905.6,
          1905.7,
          1905.8,
          1905.9,
          1906,
          1906.1,
          1906.2,
          1906.3,
          1906.4,
          1906.5,
          1906.6,
          1906.7,
          1906.8,
          1906.9,
          1907,
          1907.1,
          1907.2,
          1907.3,
          1907.4,
          1907.5,
          1907.6,
          1907.7,
          1907.8,
          1907.9,
          1908,
          1908.1,
          1908.2,
          1908.3,
          1908.4,
          1908.5,
          1908.6,
          1908.7,
          1908.8,
          1908.9,
          1909,
          1909.1,
          1909.2,
          1909.3,
          1909.4,
          1909.5,
          1909.6,
          1909.7,
          1909.8,
          1909.9,
          1910,
          1910.1,
          1910.2,
          1910.3,
          1910.4,
          1910.5,
          1910.6,
          1910.7,
          1910.8,
          1910.9,
          1911,
          1911.1,
          1911.2,
          1911.3,
          1911.4,
          1911.5,
          1911.6,
          1911.7,
          1911.8,
          1911.9,
          1912,
          1912.1,
          1912.2,
          1912.3,
          1912.4,
          1912.5,
          1912.6,
          1912.7,
          1912.8,
          1912.9,
          1913,
          1913.1,
          1913.2,
          1913.3,
          1913.4,
          1913.5,
          1913.6,
          1913.7,
          1913.8,
          1913.9,
          1914,
          1914.1,
          1914.2,
          1914.3,
          1914.4,
          1914.5,
          1914.6,
          1914.7,
          1914.8,
          1914.9,
          1915,
          1915.1,
          1915.2,
          1915.3,
          1915.4,
          1915.5,
          1915.6,
          1915.7,
          1915.8,
          1915.9,
          1916,
          1916.1,
          1916.2,
          1916.3,
          1916.4,
          1916.5,
          1916.6,
          1916.7,
          1916.8,
          1916.9,
          1917,
          1917.1,
          1917.2,
          1917.3,
          1917.4,
          1917.5,
          1917.6,
          1917.7,
          1917.8,
          1917.9,
          1918,
          1918.1,
          1918.2,
          1918.3,
          1918.4,
          1918.5,
          1918.6,
          1918.7,
          1918.8,
          1918.9,
          1919,
          1919.1,
          1919.2,
          1919.3,
          1919.4,
          1919.5,
          1919.6,
          1919.7,
          1919.8,
          1919.9,
          1920,
          1920.1,
          1920.2,
          1920.3,
          1920.4,
          1920.5,
          1920.6,
          1920.7,
          1920.8,
          1920.9,
          1921,
          1921.1,
          1921.2,
          1921.3,
          1921.4,
          1921.5,
          1921.6,
          1921.7,
          1921.8,
          1921.9,
          1922,
          1922.1,
          1922.2,
          1922.3,
          1922.4,
          1922.5,
          1922.6,
          1922.7,
          1922.8,
          1922.9,
          1923,
          1923.1,
          1923.2,
          1923.3,
          1923.4,
          1923.5,
          1923.6,
          1923.7,
          1923.8,
          1923.9,
          1924,
          1924.1,
          1924.2,
          1924.3,
          1924.4,
          1924.5,
          1924.6,
          1924.7,
          1924.8,
          1924.9,
          1925,
          1925.1,
          1925.2,
          1925.3,
          1925.4,
          1925.5,
          1925.6,
          1925.7,
          1925.8,
          1925.9,
          1926,
          1926.1,
          1926.2,
          1926.3,
          1926.4,
          1926.5,
          1926.6,
          1926.7,
          1926.8,
          1926.9,
          1927,
          1927.1,
          1927.2,
          1927.3,
          1927.4,
          1927.5,
          1927.6,
          1927.7,
          1927.8,
          1927.9,
          1928,
          1928.1,
          1928.2,
          1928.3,
          1928.4,
          1928.5,
          1928.6,
          1928.7,
          1928.8,
          1928.9,
          1929,
          1929.1,
          1929.2,
          1929.3,
          1929.4,
          1929.5,
          1929.6,
          1929.7,
          1929.8,
          1929.9,
          1930,
          1930.1,
          1930.2,
          1930.3,
          1930.4,
          1930.5,
          1930.6,
          1930.7,
          1930.8,
          1930.9,
          1931,
          1931.1,
          1931.2,
          1931.3,
          1931.4,
          1931.5,
          1931.6,
          1931.7,
          1931.8,
          1931.9,
          1932,
          1932.1,
          1932.2,
          1932.3,
          1932.4,
          1932.5,
          1932.6,
          1932.7,
          1932.8,
          1932.9,
          1933,
          1933.1,
          1933.2,
          1933.3,
          1933.4,
          1933.5,
          1933.6,
          1933.7,
          1933.8,
          1933.9,
          1934,
          1934.1,
          1934.2,
          1934.3,
          1934.4,
          1934.5,
          1934.6,
          1934.7,
          1934.8,
          1934.9,
          1935,
          1935.1,
          1935.2,
          1935.3,
          1935.4,
          1935.5,
          1935.6,
          1935.7,
          1935.8,
          1935.9,
          1936,
          1936.1,
          1936.2,
          1936.3,
          1936.4,
          1936.5,
          1936.6,
          1936.7,
          1936.8,
          1936.9,
          1937,
          1937.1,
          1937.2,
          1937.3,
          1937.4,
          1937.5,
          1937.6,
          1937.7,
          1937.8,
          1937.9,
          1938,
          1938.1,
          1938.2,
          1938.3,
          1938.4,
          1938.5,
          1938.6,
          1938.7,
          1938.8,
          1938.9,
          1939,
          1939.1,
          1939.2,
          1939.3,
          1939.4,
          1939.5,
          1939.6,
          1939.7,
          1939.8,
          1939.9,
          1940,
          1940.1,
          1940.2,
          1940.3,
          1940.4,
          1940.5,
          1940.6,
          1940.7,
          1940.8,
          1940.9,
          1941,
          1941.1,
          1941.2,
          1941.3,
          1941.4,
          1941.5,
          1941.6,
          1941.7,
          1941.8,
          1941.9,
          1942,
          1942.1,
          1942.2,
          1942.3,
          1942.4,
          1942.5,
          1942.6,
          1942.7,
          1942.8,
          1942.9,
          1943,
          1943.1,
          1943.2,
          1943.3,
          1943.4,
          1943.5,
          1943.6,
          1943.7,
          1943.8,
          1943.9,
          1944,
          1944.1,
          1944.2,
          1944.3,
          1944.4,
          1944.5,
          1944.6,
          1944.7,
          1944.8,
          1944.9,
          1945,
          1945.1,
          1945.2,
          1945.3,
          1945.4,
          1945.5,
          1945.6,
          1945.7,
          1945.8,
          1945.9,
          1946,
          1946.1,
          1946.2,
          1946.3,
          1946.4,
          1946.5,
          1946.6,
          1946.7,
          1946.8,
          1946.9,
          1947,
          1947.1,
          1947.2,
          1947.3,
          1947.4,
          1947.5,
          1947.6,
          1947.7,
          1947.8,
          1947.9,
          1948,
          1948.1,
          1948.2,
          1948.3,
          1948.4,
          1948.5,
          1948.6,
          1948.7,
          1948.8,
          1948.9,
          1949,
          1949.1,
          1949.2,
          1949.3,
          1949.4,
          1949.5,
          1949.6,
          1949.7,
          1949.8,
          1949.9,
          1950,
          1950.1,
          1950.2,
          1950.3,
          1950.4,
          1950.5,
          1950.6,
          1950.7,
          1950.8,
          1950.9,
          1951,
          1951.1,
          1951.2,
          1951.3,
          1951.4,
          1951.5,
          1951.6,
          1951.7,
          1951.8,
          1951.9,
          1952,
          1952.1,
          1952.2,
          1952.3,
          1952.4,
          1952.5,
          1952.6,
          1952.7,
          1952.8,
          1952.9,
          1953,
          1953.1,
          1953.2,
          1953.3,
          1953.4,
          1953.5,
          1953.6,
          1953.7,
          1953.8,
          1953.9,
          1954,
          1954.1,
          1954.2,
          1954.3,
          1954.4,
          1954.5,
          1954.6,
          1954.7,
          1954.8,
          1954.9,
          1955,
          1955.1,
          1955.2,
          1955.3,
          1955.4,
          1955.5,
          1955.6,
          1955.7,
          1955.8,
          1955.9,
          1956,
          1956.1,
          1956.2,
          1956.3,
          1956.4,
          1956.5,
          1956.6,
          1956.7,
          1956.8,
          1956.9,
          1957,
          1957.1,
          1957.2,
          1957.3,
          1957.4,
          1957.5,
          1957.6,
          1957.7,
          1957.8,
          1957.9,
          1958,
          1958.1,
          1958.2,
          1958.3,
          1958.4,
          1958.5,
          1958.6,
          1958.7,
          1958.8,
          1958.9,
          1959,
          1959.1,
          1959.2,
          1959.3,
          1959.4,
          1959.5,
          1959.6,
          1959.7,
          1959.8,
          1959.9,
          1960,
          1960.1,
          1960.2,
          1960.3,
          1960.4,
          1960.5,
          1960.6,
          1960.7,
          1960.8,
          1960.9,
          1961,
          1961.1,
          1961.2,
          1961.3,
          1961.4,
          1961.5,
          1961.6,
          1961.7,
          1961.8,
          1961.9,
          1962,
          1962.1,
          1962.2,
          1962.3,
          1962.4,
          1962.5,
          1962.6,
          1962.7,
          1962.8,
          1962.9,
          1963,
          1963.1,
          1963.2,
          1963.3,
          1963.4,
          1963.5,
          1963.6,
          1963.7,
          1963.8,
          1963.9,
          1964,
          1964.1,
          1964.2,
          1964.3,
          1964.4,
          1964.5,
          1964.6,
          1964.7,
          1964.8,
          1964.9,
          1965,
          1965.1,
          1965.2,
          1965.3,
          1965.4,
          1965.5,
          1965.6,
          1965.7,
          1965.8,
          1965.9,
          1966,
          1966.1,
          1966.2,
          1966.3,
          1966.4,
          1966.5,
          1966.6,
          1966.7,
          1966.8,
          1966.9,
          1967,
          1967.1,
          1967.2,
          1967.3,
          1967.4,
          1967.5,
          1967.6,
          1967.7,
          1967.8,
          1967.9,
          1968,
          1968.1,
          1968.2,
          1968.3,
          1968.4,
          1968.5,
          1968.6,
          1968.7,
          1968.8,
          1968.9,
          1969,
          1969.1,
          1969.2,
          1969.3,
          1969.4,
          1969.5,
          1969.6,
          1969.7,
          1969.8,
          1969.9,
          1970,
          1970.1,
          1970.2,
          1970.3,
          1970.4,
          1970.5,
          1970.6,
          1970.7,
          1970.8,
          1970.9,
          1971,
          1971.1,
          1971.2,
          1971.3,
          1971.4,
          1971.5,
          1971.6,
          1971.7,
          1971.8,
          1971.9,
          1972,
          1972.1,
          1972.2,
          1972.3,
          1972.4,
          1972.5,
          1972.6,
          1972.7,
          1972.8,
          1972.9,
          1973,
          1973.1,
          1973.2,
          1973.3,
          1973.4,
          1973.5,
          1973.6,
          1973.7,
          1973.8,
          1973.9,
          1974,
          1974.1,
          1974.2,
          1974.3,
          1974.4,
          1974.5,
          1974.6,
          1974.7,
          1974.8,
          1974.9,
          1975,
          1975.1,
          1975.2,
          1975.3,
          1975.4,
          1975.5,
          1975.6,
          1975.7,
          1975.8,
          1975.9,
          1976,
          1976.1,
          1976.2,
          1976.3,
          1976.4,
          1976.5,
          1976.6,
          1976.7,
          1976.8,
          1976.9,
          1977,
          1977.1,
          1977.2,
          1977.3,
          1977.4,
          1977.5,
          1977.6,
          1977.7,
          1977.8,
          1977.9,
          1978,
          1978.1,
          1978.2,
          1978.3,
          1978.4,
          1978.5,
          1978.6,
          1978.7,
          1978.8,
          1978.9,
          1979,
          1979.1,
          1979.2,
          1979.3,
          1979.4,
          1979.5,
          1979.6,
          1979.7,
          1979.8,
          1979.9,
          1980,
          1980.1,
          1980.2,
          1980.3,
          1980.4,
          1980.5,
          1980.6,
          1980.7,
          1980.8,
          1980.9,
          1981,
          1981.1,
          1981.2,
          1981.3,
          1981.4,
          1981.5,
          1981.6,
          1981.7,
          1981.8,
          1981.9,
          1982,
          1982.1,
          1982.2,
          1982.3,
          1982.4,
          1982.5,
          1982.6,
          1982.7,
          1982.8,
          1982.9,
          1983,
          1983.1,
          1983.2,
          1983.3,
          1983.4,
          1983.5,
          1983.6,
          1983.7,
          1983.8,
          1983.9,
          1984,
          1984.1,
          1984.2,
          1984.3,
          1984.4,
          1984.5,
          1984.6,
          1984.7,
          1984.8,
          1984.9,
          1985,
          1985.1,
          1985.2,
          1985.3,
          1985.4,
          1985.5,
          1985.6,
          1985.7,
          1985.8,
          1985.9,
          1986,
          1986.1,
          1986.2,
          1986.3,
          1986.4,
          1986.5,
          1986.6,
          1986.7,
          1986.8,
          1986.9,
          1987,
          1987.1,
          1987.2,
          1987.3,
          1987.4,
          1987.5,
          1987.6,
          1987.7,
          1987.8,
          1987.9,
          1988,
          1988.1,
          1988.2,
          1988.3,
          1988.4,
          1988.5,
          1988.6,
          1988.7,
          1988.8,
          1988.9,
          1989,
          1989.1,
          1989.2,
          1989.3,
          1989.4,
          1989.5,
          1989.6,
          1989.7,
          1989.8,
          1989.9,
          1990,
          1990.1,
          1990.2,
          1990.3,
          1990.4,
          1990.5,
          1990.6,
          1990.7,
          1990.8,
          1990.9,
          1991,
          1991.1,
          1991.2,
          1991.3,
          1991.4,
          1991.5,
          1991.6,
          1991.7,
          1991.8,
          1991.9,
          1992,
          1992.1,
          1992.2,
          1992.3,
          1992.4,
          1992.5,
          1992.6,
          1992.7,
          1992.8,
          1992.9,
          1993,
          1993.1,
          1993.2,
          1993.3,
          1993.4,
          1993.5,
          1993.6,
          1993.7,
          1993.8,
          1993.9,
          1994,
          1994.1,
          1994.2,
          1994.3,
          1994.4,
          1994.5,
          1994.6,
          1994.7,
          1994.8,
          1994.9,
          1995,
          1995.1,
          1995.2,
          1995.3,
          1995.4,
          1995.5,
          1995.6,
          1995.7,
          1995.8,
          1995.9,
          1996,
          1996.1,
          1996.2,
          1996.3,
          1996.4,
          1996.5,
          1996.6,
          1996.7,
          1996.8,
          1996.9,
          1997,
          1997.1,
          1997.2,
          1997.3,
          1997.4,
          1997.5,
          1997.6,
          1997.7,
          1997.8,
          1997.9,
          1998,
          1998.1,
          1998.2,
          1998.3,
          1998.4,
          1998.5,
          1998.6,
          1998.7,
          1998.8,
          1998.9,
          1999,
          1999.1,
          1999.2,
          1999.3,
          1999.4,
          1999.5,
          1999.6,
          1999.7,
          1999.8,
          1999.9,
          2000,
          2000.1,
          2000.2,
          2000.3,
          2000.4,
          2000.5,
          2000.6,
          2000.7,
          2000.8,
          2000.9,
          2001,
          2001.1,
          2001.2,
          2001.3,
          2001.4,
          2001.5,
          2001.6,
          2001.7,
          2001.8,
          2001.9,
          2002,
          2002.1,
          2002.2,
          2002.3,
          2002.4,
          2002.5,
          2002.6,
          2002.7,
          2002.8,
          2002.9,
          2003,
          2003.1,
          2003.2,
          2003.3,
          2003.4,
          2003.5,
          2003.6,
          2003.7,
          2003.8,
          2003.9,
          2004,
          2004.1,
          2004.2,
          2004.3,
          2004.4,
          2004.5,
          2004.6,
          2004.7,
          2004.8,
          2004.9,
          2005,
          2005.1,
          2005.2,
          2005.3,
          2005.4,
          2005.5,
          2005.6,
          2005.7,
          2005.8,
          2005.9,
          2006,
          2006.1,
          2006.2,
          2006.3,
          2006.4,
          2006.5,
          2006.6,
          2006.7,
          2006.8,
          2006.9,
          2007,
          2007.1,
          2007.2,
          2007.3,
          2007.4,
          2007.5,
          2007.6,
          2007.7,
          2007.8,
          2007.9,
          2008,
          2008.1,
          2008.2,
          2008.3,
          2008.4,
          2008.5,
          2008.6,
          2008.7,
          2008.8,
          2008.9,
          2009,
          2009.1,
          2009.2,
          2009.3,
          2009.4,
          2009.5,
          2009.6,
          2009.7,
          2009.8,
          2009.9,
          2010,
          2010.1,
          2010.2,
          2010.3,
          2010.4,
          2010.5,
          2010.6,
          2010.7,
          2010.8,
          2010.9,
          2011,
          2011.1,
          2011.2,
          2011.3,
          2011.4,
          2011.5,
          2011.6,
          2011.7,
          2011.8,
          2011.9,
          2012,
          2012.1,
          2012.2,
          2012.3,
          2012.4,
          2012.5,
          2012.6,
          2012.7,
          2012.8,
          2012.9,
          2013,
          2013.1,
          2013.2,
          2013.3,
          2013.4,
          2013.5,
          2013.6,
          2013.7,
          2013.8,
          2013.9,
          2014,
          2014.1,
          2014.2,
          2014.3,
          2014.4,
          2014.5,
          2014.6,
          2014.7,
          2014.8,
          2014.9,
          2015,
          2015.1,
          2015.2,
          2015.3,
          2015.4,
          2015.5,
          2015.6,
          2015.7,
          2015.8,
          2015.9,
          2016,
          2016.1,
          2016.2,
          2016.3,
          2016.4,
          2016.5,
          2016.6,
          2016.7,
          2016.8,
          2016.9,
          2017,
          2017.1,
          2017.2,
          2017.3,
          2017.4,
          2017.5,
          2017.6,
          2017.7,
          2017.8,
          2017.9,
          2018,
          2018.1,
          2018.2,
          2018.3,
          2018.4,
          2018.5,
          2018.6,
          2018.7,
          2018.8,
          2018.9,
          2019,
          2019.1,
          2019.2,
          2019.3,
          2019.4,
          2019.5,
          2019.6,
          2019.7,
          2019.8,
          2019.9,
          2020
         ],
         "xaxis": "x",
         "y": [
          129861.36999493041,
          126950.32548222781,
          121745.1326553319,
          117546.01641899323,
          113929.68131159114,
          110671.37622032188,
          107679.36347591064,
          104867.32203514304,
          102204.55414201543,
          99660.86434297248,
          97201.05551549277,
          94819.43398419175,
          92520.43410147892,
          90292.90113308835,
          88114.70623099818,
          85979.97456090007,
          83905.43054101718,
          81902.10194707302,
          79963.80259207833,
          78067.09710489104,
          76187.75448485382,
          74340.68244097164,
          72559.64040808818,
          70848.33064011564,
          69175.40637403564,
          67506.61835200692,
          65864.08197761218,
          64293.98658678653,
          62800.93558820436,
          61341.853679227606,
          59871.862072847354,
          58420.218762126875,
          57037.0363589161,
          55714.82817801792,
          54405.79127065004,
          53102.02858810821,
          51843.232689640514,
          50642.291727057614,
          49473.140391322624,
          48306.203374748016,
          47159.03059781333,
          46064.883869945195,
          45022.84087034614,
          43997.44426288678,
          42961.08856300117,
          41944.34345103896,
          40989.83509052546,
          40094.48458503631,
          39207.912901601085,
          38297.97748900042,
          37405.39126029085,
          36570.795903771956,
          35776.92646188703,
          34977.10346905397,
          34175.45158791567,
          33412.980908717815,
          32694.371346246677,
          31988.01628635556,
          31272.198917195055,
          30572.708102558383,
          29917.68559949032,
          29299.43170709058,
          28678.41801921495,
          28038.31964935144,
          27418.691210290872,
          26854.07028248623,
          26331.58081027134,
          25796.32277487326,
          25232.551169869595,
          24690.134096854596,
          24197.28617021475,
          23726.33865221406,
          23237.004428432432,
          22745.639344751027,
          22289.930060015697,
          21866.7746586645,
          21440.562978465874,
          20998.81756212715,
          20574.020822580373,
          20188.024141835707,
          19826.249743213935,
          19447.274372323238,
          19046.970205010246,
          18671.04644550746,
          18344.66103592062,
          18045.234926937665,
          17717.52492326604,
          17362.521235321143,
          17034.68866019343,
          16749.164277489777,
          16469.092125277348,
          16164.226315539001,
          15861.73607293925,
          15592.534084780098,
          15346.03061598504,
          15085.103343951307,
          14807.544738220051,
          14550.013502844611,
          14326.986790671956,
          14116.732226980197,
          13879.382261290672,
          13623.597313659693,
          13397.389211485499,
          13215.638556506048,
          13046.020667390323,
          12838.501171452035,
          12610.155967150815,
          12414.267132980025,
          12253.376828095918,
          12084.159976995385,
          11888.18355039337,
          11701.03898107555,
          11545.309500809879,
          11402.767968052533,
          11238.07863748361,
          11059.524967883704,
          10904.621539479036,
          10780.23689069556,
          10657.37693192931,
          10501.943967254823,
          10334.886829760393,
          10201.90322269714,
          10107.753332836499,
          10010.585067115377,
          9871.781340118148,
          9722.682658750964,
          9609.01440264987,
          9522.260703262675,
          9416.152189851548,
          9284.882941741998,
          9169.255871387331,
          9082.931435955537,
          9000.09301537483,
          8890.816250018845,
          8773.36974180485,
          8682.45909871287,
          8617.663878790554,
          8543.56920418261,
          8435.177976669313,
          8324.324048992661,
          8250.659716217086,
          8208.93287548647,
          8150.139289788594,
          8050.401376634983,
          7952.45206665035,
          7890.998830342621,
          7846.893890547435,
          7775.445114151895,
          7683.725165601524,
          7613.639969949527,
          7569.960138323221,
          7520.3171846841815,
          7442.520510426405,
          7363.736678078254,
          7313.627163650976,
          7284.4501312351595,
          7236.313534325651,
          7155.6489464736205,
          7082.187473586899,
          7046.127071140257,
          7032.737519480879,
          6989.567333492567,
          6903.470906589753,
          6829.805950003383,
          6806.891923359553,
          6811.997884661881,
          6777.446968544349,
          6700.483294875033,
          6642.418175224755,
          6618.140689823844,
          6589.354288693092,
          6535.480113635965,
          6485.370144054852,
          6457.431197202539,
          6434.395327023978,
          6391.768999407156,
          6340.849868867671,
          6308.257627786355,
          6295.315255804443,
          6276.764090055238,
          6227.22602067077,
          6167.756921198536,
          6138.246810735297,
          6143.990670521439,
          6150.162727641311,
          6112.317606639393,
          6052.592814604021,
          6021.067547227659,
          6015.445882159747,
          5994.801043255327,
          5950.286219742518,
          5916.421789731898,
          5905.850462567176,
          5896.033975361278,
          5862.283668120982,
          5821.241142048022,
          5802.043114405505,
          5803.8865266458215,
          5795.889740840159,
          5754.383182072679,
          5706.803467722085,
          5691.495385326094,
          5707.703003575699,
          5713.459971571431,
          5676.508023196102,
          5630.424652823859,
          5615.282757508977,
          5618.939711480391,
          5600.732261409782,
          5562.428606752309,
          5540.751331870486,
          5541.491643336352,
          5536.611022342011,
          5506.226459373339,
          5473.883947085534,
          5466.041456788168,
          5476.56587833662,
          5469.9664976833665,
          5430.610932448735,
          5393.680815402121,
          5391.5069987815305,
          5415.035276871424,
          5416.798631942861,
          5378.901467221958,
          5344.165772338171,
          5341.379155708088,
          5348.928274490609,
          5329.807657355641,
          5296.488021273996,
          5284.468472485332,
          5292.5265530685465,
          5288.152971325363,
          5258.494695515519,
          5233.276431284285,
          5234.190977416399,
          5249.128671328683,
          5240.025006029954,
          5201.071065265646,
          5173.383993186629,
          5181.853204419806,
          5208.879161041184,
          5204.626157365973,
          5165.750209391828,
          5140.87023599929,
          5147.313193216767,
          5154.536122700391,
          5132.895456716422,
          5104.731646032099,
          5100.478587848553,
          5112.162672295634,
          5105.26706701322,
          5075.610808683332,
          5056.992855576454,
          5064.770414100597,
          5080.51599200124,
          5066.649848820881,
          5028.357540703551,
          5009.679420047932,
          5026.7872334272915,
          5053.272776753346,
          5041.6761504801325,
          5003.2398800519595,
          4987.634222841562,
          5000.7105808107,
          5004.9390191136235,
          4980.257704990811,
          4957.3051982574925,
          4959.5836641149135,
          4972.243596219964,
          4961.4384912130035,
          4932.206534600535,
          4919.883882617605,
          4933.041118248965,
          4946.724584599638,
          4927.348925349779,
          4891.105596450885,
          4881.232503770809,
          4904.982364035832,
          4927.012428059949,
          4907.902971621271,
          4872.424120698722,
          4865.5679801458555,
          4882.729230569372,
          4882.224438450838,
          4854.989065312647,
          4837.48031142682,
          4845.180761231147,
          4856.276684425424,
          4840.95236158431,
          4813.40405737315,
          4807.240525842071,
          4824.342830215281,
          4833.611676356113,
          4808.787639455083,
          4776.29164333685,
          4775.0031009431705,
          4803.2784097609865,
          4817.975434334725,
          4792.057406090517,
          4761.763378534109,
          4763.0206535083125,
          4781.56985531867,
          4775.328471146135,
          4746.867016241269,
          4735.0433185604115,
          4746.99528730909,
          4754.6301958238855,
          4734.813101051896,
          4710.162245409619,
          4709.989802550364,
          4729.495305049376,
          4732.831947838942,
          4703.309214387112,
          4675.954398534784,
          4682.850525210303,
          4713.368079082908,
          4719.531597097715,
          4688.303486716906,
          4664.337322349799,
          4672.814495405075,
          4689.777659021643,
          4677.449028092702,
          4649.8373769321815,
          4643.81206357889,
          4658.661318953967,
          4661.5706645657765,
          4637.850186430195,
          4617.084064359272,
          4622.589764086441,
          4642.748348549809,
          4639.227618902472,
          4606.3710723872055,
          4585.336095180493,
          4599.7504833450075,
          4629.918500366105,
          4623.8327779705205,
          4577.978250137371,
          4552.179994858614,
          4578.430471848855,
          4625.467473777935,
          4624.091710284691,
          4582.565927212708,
          4565.76059758318,
          4580.9179021813625,
          4584.909071783693,
          4562.459672747092,
          4546.800954608448,
          4552.287161241144,
          4558.287746577809,
          4543.393125199804,
          4523.04567821701,
          4521.632237936497,
          4537.110686594598,
          4541.717865349965,
          4515.6359427291245,
          4485.268770328985,
          4486.165391015779,
          4517.855665315492,
          4541.251540193711,
          4520.373388520225,
          4485.567766915517,
          4481.781390911595,
          4500.225412782049,
          4497.9457222823185,
          4472.328326659438,
          4460.2742830447405,
          4470.222175813613,
          4476.949186117287,
          4459.195825216505,
          4437.182296614177,
          4437.490578149402,
          4456.094643341343,
          4460.2860341418045,
          4431.939305095936,
          4403.238764105841,
          4408.739365242005,
          4442.027579780998,
          4456.482903334114,
          4428.807979183413,
          4400.080764090098,
          4404.396272591589,
          4422.977448916738,
          4414.858821268845,
          4388.297580453485,
          4380.540561803231,
          4393.311354596151,
          4396.900642513937,
          4375.628174365478,
          4355.657770176321,
          4360.023735087645,
          4379.455410786688,
          4378.034702287256,
          4346.423754840879,
          4323.0991739598085,
          4335.559763561534,
          4368.799721280847,
          4372.998605726648,
          4340.3271305545995,
          4318.811805391588,
          4330.053419219911,
          4345.543502761111,
          4331.280952646431,
          4306.217732750234,
          4303.426368318075,
          4318.08058541303,
          4317.293911161535,
          4292.921135214286,
          4276.181480210417,
          4284.903013681343,
          4303.910875536065,
          4296.1401654513,
          4262.3557548496,
          4245.290421512954,
          4264.283051399888,
          4295.498254483007,
          4290.051734586539,
          4255.116682657977,
          4241.155340171724,
          4257.698127681108,
          4268.268839414785,
          4248.467110631365,
          4226.494187263388,
          4228.744761299136,
          4243.67358146643,
          4237.6060709323665,
          4211.325955841682,
          4198.9881570078705,
          4211.909428217008,
          4228.514773541991,
          4213.9204407467405,
          4179.867480319879,
          4170.053983523429,
          4194.806312842064,
          4221.21265898023,
          4206.724977928249,
          4172.611013325316,
          4166.348685638879,
          4186.418024544847,
          4191.051574690099,
          4166.862499834577,
          4148.963398467862,
          4155.859411635413,
          4169.144929853317,
          4157.563540535639,
          4131.156494996267,
          4123.901721887416,
          4140.284491120666,
          4152.298835308212,
          4131.16715051335,
          4099.330584620935,
          4097.356815601032,
          4126.443822712046,
          4145.154839332244,
          4122.6418876686475,
          4092.5126351601707,
          4093.891506427313,
          4115.303866344046,
          4113.302141216212,
          4086.3662483496405,
          4073.2942336016918,
          4084.1820345856413,
          4093.9719500364886,
          4077.0825050483954,
          4052.3698489595,
          4050.5560934240793,
          4069.536655714673,
          4075.7329961821283,
          4049.0151416138365,
          4021.2748969207946,
          4027.1358137785683,
          4058.6324789691016,
          4067.1682891872674,
          4028.382994976939,
          3991.8084669245063,
          4006.424483872662,
          4057.350019883655,
          4073.302249289019,
          4036.9711383678896,
          4010.166942341092,
          4020.405372405604,
          4032.7911485509085,
          4016.451986835509,
          3995.326275029309,
          3995.382490819616,
          4004.875885269373,
          3996.2004707136957,
          3973.965293896582,
          3966.2123078924906,
          3978.6901950761116,
          3990.4411806961143,
          3972.7014646603,
          3939.2727365815813,
          3930.4841433123893,
          3956.586951554094,
          3988.725297312929,
          3979.5809122185487,
          3942.6505327081404,
          3930.107216122325,
          3947.4545152332794,
          3954.48848576237,
          3932.959740173038,
          3914.5433399711105,
          3918.98700879044,
          3930.1417721988514,
          3919.2071325299116,
          3894.753636824488,
          3887.7289586805987,
          3902.643354358278,
          3914.3464093937578,
          3894.0167054353865,
          3861.0202687329183,
          3856.7211532207434,
          3886.1281048506926,
          3911.694832879767,
          3893.8053776195925,
          3859.6825134399987,
          3855.9471593104868,
          3876.73864904404,
          3878.326939328064,
          3853.2209108664483,
          3838.3327720240263,
          3846.5709218397865,
          3856.040470161251,
          3841.055875646421,
          3817.1462447741283,
          3813.954706838917,
          3831.111926830332,
          3838.3347189754068,
          3813.234044372317,
          3783.847011733632,
          3787.0166994136935,
          3818.9986145908138,
          3834.842235701386,
          3809.1343788391932,
          3780.7252781002912,
          3785.2923361542507,
          3806.6358757855537,
          3801.536591183448,
          3774.3062663779942,
          3764.1916727888824,
          3776.820988949443,
          3783.9786861016005,
          3764.715409437082,
          3742.326479136274,
          3744.040707558594,
          3763.8266215532954,
          3766.300980419675,
          3737.363003176127,
          3713.0031701003854,
          3723.5565082091875,
          3756.519755275866,
          3763.094416026477,
          3732.734279645391,
          3711.7975045911166,
          3724.1523070182793,
          3744.098972403142,
          3733.601319491668,
          3707.958902598341,
          3704.2180944203133,
          3721.250690674482,
          3726.2150761296475,
          3704.7245634525316,
          3686.373968481485,
          3694.1675603115327,
          3716.440789133381,
          3715.1731296995563,
          3685.0123214449536,
          3667.031772787247,
          3684.5702204536246,
          3717.6161454861553,
          3713.8815910703192,
          3670.255503704427,
          3647.960193798943,
          3679.5452467420687,
          3731.77908783262,
          3733.0942213400645,
          3693.0511832537472,
          3678.627693407188,
          3697.259114916714,
          3705.1322030293304,
          3685.2627204564105,
          3670.803976651828,
          3677.6830709971355,
          3686.8833752069904,
          3675.3919272314533,
          3656.541727273856,
          3655.995871131039,
          3673.4507912497525,
          3682.395884264469,
          3660.602451592923,
          3632.0431713394405,
          3633.786300418112,
          3667.3514121437315,
          3695.0965539638637,
          3678.7126197700663,
          3646.132334739874,
          3644.0410772585615,
          3666.1957003374987,
          3669.2628698172066,
          3646.915748425424,
          3635.523641295853,
          3646.446531999196,
          3657.3364682783877,
          3644.4298474367065,
          3624.20525209953,
          3624.6838602878793,
          3644.6912832319413,
          3654.253825044908,
          3631.5223641954262,
          3604.303934778486,
          3609.4097051890835,
          3644.2235282987426,
          3665.2251512076623,
          3643.5780375792997,
          3615.714157556426,
          3620.219240733136,
          3643.5636266607025,
          3642.523535035384,
          3618.475053613614,
          3609.617902627763,
          3623.0207295235805,
          3632.6879851667245,
          3617.038871482115,
          3596.859519065015,
          3599.33016209646,
          3620.2770338996884,
          3626.566060096176,
          3600.990280513783,
          3576.3218211972353,
          3585.5862615475876,
          3620.4101004705153,
          3633.6897541694843,
          3607.212544453869,
          3583.7654235679615,
          3593.3978989222164,
          3615.686348289478,
          3609.7499403554116,
          3584.8388643770263,
          3578.8643040021243,
          3594.1898460648913,
          3601.391426443055,
          3582.730168447036,
          3563.507752345649,
          3568.626092440967,
          3590.1912242903513,
          3592.51202041672,
          3564.3318453285196,
          3542.9717641920074,
          3556.688050891459,
          3591.145042628742,
          3597.383823572162,
          3567.6202028277066,
          3548.96694308741,
          3563.135709884673,
          3583.1102654622227,
          3572.508038915681,
          3548.09922134703,
          3545.5446875853536,
          3562.759446186868,
          3567.128991395655,
          3545.602474319959,
          3527.9076036464257,
          3536.000041548926,
          3557.851867244463,
          3555.859461929699,
          3525.3102188703597,
          3507.2156239914716,
          3524.5598473105024,
          3557.2763923306115,
          3553.070110967006,
          3508.5618593956297,
          3485.120559063915,
          3515.9563162273894,
          3568.3065585783042,
          3569.6846982717775,
          3528.400885423212,
          3512.1413143068203,
          3529.666041554857,
          3537.349870821271,
          3516.8843980688007,
          3500.900795055842,
          3506.2140104534446,
          3514.6016822848364,
          3502.5996936366223,
          3482.5190105386655,
          3480.1432979535925,
          3495.9083670774776,
          3504.3363127244806,
          3482.228692175567,
          3451.913769265055,
          3451.0375991049104,
          3482.6568625832165,
          3510.936289048608,
          3495.1286489094696,
          3460.277687253096,
          3454.9884364541062,
          3475.70247954057,
          3479.262238424357,
          3455.9688733188273,
          3441.2780995461508,
          3448.9317830542564,
          3458.714856195382,
          3445.2439734655286,
          3422.259246151851,
          3418.636866350449,
          3435.2027939105587,
          3444.0575727648984,
          3420.7594321460574,
          3389.8929981112396,
          3390.117195876105,
          3421.769321150548,
          3443.531504220814,
          3421.9369033196244,
          3389.876336250336,
          3389.731604992653,
          3411.5651787022794,
          3411.0545789841635,
          3384.7979130808835,
          3371.27680370363,
          3381.2330369716,
          3390.666454566244,
          3374.5702820049883,
          3350.6437902905914,
          3348.4080679492604,
          3366.3545248809487,
          3372.9509263641535,
          3347.1120827814643,
          3318.3435945015112,
          3322.298647361632,
          3354.0132411036866,
          3368.3521904569566,
          3341.7149897707186,
          3313.6483109424685,
          3318.76719638012,
          3340.7669788836083,
          3335.8495541291272,
          3307.7279034409444,
          3296.704287146756,
          3309.780873248211,
          3318.689870604541,
          3299.9190837623746,
          3275.9344405168404,
          3276.20516553434,
          3296.213216625446,
          3300.6252961988075,
          3272.6110081265288,
          3246.6465391323695,
          3254.746133104898,
          3286.590384368904,
          3292.935481697647,
          3252.7808731068753,
          3218.1361160042866,
          3236.3987171898057,
          3290.5614800209382,
          3307.0386082490563,
          3264.0477571993715,
          3226.1005982425763,
          3236.023043453038,
          3276.901662348727,
          3286.152786811631,
          3251.217691836165,
          3227.716906245343,
          3240.3811759655587,
          3257.402555248773,
          3243.6309572738833,
          3219.7669074185496,
          3217.5683942254905,
          3230.3275720379906,
          3227.23176370602,
          3204.4140275811774,
          3191.216356534971,
          3200.5038082730016,
          3216.351584748074,
          3205.815609925001,
          3173.1240848539383,
          3159.0278795623144,
          3180.3681022954447,
          3213.44631073927,
          3209.5776266930325,
          3174.538848485295,
          3159.784876820513,
          3177.693718878715,
          3192.1129291253633,
          3174.2989316551375,
          3151.051148150742,
          3152.3788093328603,
          3168.897209607548,
          3165.840875340969,
          3140.4062954970323,
          3126.6510921396734,
          3138.6603542218522,
          3157.3146383307994,
          3146.300570435737,
          3112.9698321784795,
          3100.957988651649,
          3124.1931210516123,
          3153.952241034196,
          3138.563987104127,
          3089.5040509257456,
          3073.5611013932876,
          3114.3450526840597,
          3168.2586502340764,
          3167.7881313374987,
          3129.4529957616082,
          3107.263141058833,
          3107.446487315991,
          3115.525219942115,
          3105.476316751122,
          3079.3590290693737,
          3066.841669279257,
          3080.747606012697,
          3104.6129542730114,
          3101.099430778842,
          3070.3369132305306,
          3053.734231549381,
          3068.6255708999147,
          3089.974350623692,
          3078.0377971856215,
          3046.714205104858,
          3039.6318837726553,
          3061.760113145245,
          3077.1969788317247,
          3055.6766088874965,
          3026.0499854024383,
          3027.8632264739435,
          3055.804672213413,
          3064.228336190152,
          3034.0021157221136,
          3007.902595290802,
          3019.7136465548315,
          3052.2527420635233,
          3051.737102304777,
          3014.232416680965,
          2994.223242551215,
          3015.285157618396,
          3047.0703851700778,
          3034.9259309550143,
          2992.872442479682,
          2982.1659553626146,
          3014.803199639075,
          3043.6808182365867,
          3021.763232722861,
          2982.2661127330407,
          2979.3445673385218,
          3010.9325134270484,
          3025.23963990822,
          2993.0144344470373,
          2959.9460446692183,
          2970.2950727321436,
          3009.1700741720133,
          3015.5904247251224,
          2978.4621170009414,
          2953.408390672706,
          2968.0565702440454,
          2997.8900436209947,
          2989.6571843720644,
          2949.753930201273,
          2935.364009050887,
          2962.6097152724847,
          2991.9793998948808,
          2973.9863534311917,
          2937.2552969031076,
          2949.857733992387,
          3069.8796028955553,
          3468.0545766814926,
          4501.803787343205,
          5947.598726042306,
          6946.044969632333,
          7301.9164162755615,
          7305.588102010187,
          7132.007120274076,
          6970.271774403125,
          6916.457261448045,
          6944.469395008201,
          7007.42248346252,
          7260.92128461534,
          7736.635714852013,
          8116.14859119347,
          8231.826617501714,
          8114.987973866663,
          7900.4575606571525,
          7726.757068942052,
          7605.934458971961,
          7510.518855018486,
          7411.287091376527,
          7402.553253078798,
          7544.367155830508,
          7714.311397424883,
          7837.56012450423,
          7851.925423541835,
          7692.744737880588,
          7458.083149387455,
          7260.505582315628,
          7127.0798774927025,
          7084.948258710081,
          7166.238779699829,
          7265.904616209825,
          7229.083761576573,
          7115.721791657802,
          7058.03138930985,
          7065.461488253074,
          7036.564037755867,
          6922.208437876545,
          6793.424869631301,
          6706.288095064637,
          6707.935056957787,
          6768.058010760241,
          6783.996612979121,
          6765.699180747673,
          6736.390636676642,
          6679.653446384706,
          6601.8909029678925,
          6505.619261476565,
          6397.465687722655,
          6298.908050445939,
          6248.555200405753,
          6217.393758676908,
          6132.298106589961,
          6026.468809593456,
          5972.591896725351,
          5965.334860143351,
          5925.892793664049,
          5776.604798491476,
          5571.019232542743,
          5415.805076914993,
          5315.602136449615,
          5244.162259871888,
          5167.031465271415,
          5041.580873904917,
          4904.550270384748,
          4801.146511042963,
          4731.095504916353,
          4687.19416578255,
          4650.568335384908,
          4583.506260829745,
          4469.037465067142,
          4355.123897522751,
          4302.625710183506,
          4314.018766256569,
          4337.764814021755,
          4308.089548837572,
          4224.743609848411,
          4141.965812679317,
          4090.637607384935,
          4082.1838145285665,
          4112.92198784066,
          4138.239222002097,
          4092.047373724755,
          3995.9455615726615,
          3933.684137981383,
          3945.4781726577653,
          4016.862988794089,
          4084.005563016953,
          4092.3625658243323,
          4128.945738704174,
          4328.570425122448,
          4585.238555547437,
          4649.543001427462,
          4522.353373077119,
          4411.170375200068,
          4391.387738335198,
          4400.6128872747995,
          4390.005325082255,
          4341.968146881602,
          4249.877309628742,
          4118.771403729183,
          3965.351653037864,
          3817.9819148587103,
          3715.7334489052546,
          3638.4671116863324,
          3567.2657402494665,
          3517.4565268401743,
          3479.948553873253,
          3507.5672156509904,
          3600.8280494507935,
          3664.4480401662113,
          3675.1427037292906,
          3657.962135332358,
          3614.525549791931,
          3541.2622903868014,
          3446.845307115509,
          3352.6570576753934,
          3293.517269185401,
          3270.1055066592344,
          3249.516863346954,
          3230.591266527679,
          3222.318946880997,
          3217.3545783676814,
          3216.106180714261,
          3224.8727266562223,
          3241.679895628337,
          3257.1792918928454,
          3256.9936889022542,
          3236.255710623678,
          3211.2322626822956,
          3205.057905716589,
          3214.3187651925596,
          3211.9206449697604,
          3193.6021382861327,
          3174.3447384914807,
          3161.1046192351905,
          3154.375474127377,
          3152.049966745468,
          3147.8754709141103,
          3136.6368343489326,
          3119.9105958830987,
          3101.0891605820793,
          3082.2956943111385,
          3064.384123735447,
          3046.9391363200016,
          3028.2761803296453,
          3005.4414648290926,
          2973.904902762792,
          2911.414539869408,
          2810.2176947386984,
          2706.4139441330562,
          2640.1448437158056,
          2634.4903176809603,
          2695.468658753519,
          2812.036528189487,
          2956.0889557755036,
          3082.4593398290945,
          3129.6597454639314,
          3089.4419479546236,
          3021.3849915737424,
          2959.8275424528492,
          2906.525246724213,
          2862.142549538244,
          2826.252695063851,
          2797.337726488237,
          2772.788486016901,
          2748.9046148737207,
          2720.552378222417,
          2663.6073230309967,
          2591.281162243417,
          2555.7047377376166,
          2543.9334142067687,
          2525.5677386344046,
          2570.4603987990045,
          2693.303437225144,
          2804.5683249110693,
          2841.4006967264327,
          2820.879103587484,
          2794.5594169836345,
          2766.6833266121234,
          2734.3085291374036,
          2697.007166106727,
          2656.865823949992,
          2618.485533979987,
          2588.981772392241,
          2577.078013337999,
          2582.703461105177,
          2594.7413405736174,
          2602.4315138563024,
          2599.0410592203957,
          2581.376344714642,
          2549.7830281693114,
          2508.146057196124,
          2463.889669188436,
          2427.977391321114,
          2412.453158812102,
          2411.9399312044543,
          2412.1220530859105,
          2409.4113456062832,
          2403.420652211891,
          2394.296155562083,
          2382.717377529229,
          2369.8971791986814,
          2357.581760868849,
          2348.050662051151,
          2344.6109949824386,
          2350.981568882893,
          2363.232919110884,
          2371.156312554999,
          2367.7255972391704,
          2350.2401849452394,
          2320.325051212904,
          2283.9307353396443,
          2253.1106509955707,
          2238.911843764632,
          2256.5314051873574,
          2297.7845303859876,
          2336.3709549935206,
          2365.125253985709,
          2382.327326235221,
          2387.6039266539083,
          2381.928666192728,
          2367.6220118417687,
          2348.3512866302744,
          2329.1306696266133,
          2315.480333894242,
          2306.6046667956166,
          2298.420003748023,
          2290.279275662884,
          2279.143420597931,
          2262.044097224086,
          2242.8794207977094,
          2226.3973342935146,
          2213.7949054810197,
          2206.989146644556,
          2208.873313333408,
          2217.0250153588427,
          2225.32751348827,
          2230.0963478824137,
          2229.295731725613,
          2221.9313452160136,
          2208.0503355655346,
          2188.741316999839,
          2166.134370758418,
          2143.4010450945248,
          2117.459246074018,
          2068.916118389978,
          2018.7362295016592,
          1993.2870694082933,
          1987.8192465026482,
          2006.8323543893612,
          2098.4604716807394,
          2262.613843428526,
          2397.9365820969647,
          2420.8973115436143,
          2365.9325867509374,
          2307.799947213147,
          2257.7439634639127,
          2217.3173673948677,
          2186.6358709602396,
          2164.37816617684,
          2147.7859251241575,
          2132.663799944235,
          2109.5121279975156,
          2050.377596600723,
          1977.864683493277,
          1941.1755174035675,
          1927.303774712764,
          1917.7650881411932,
          1949.0636825732363,
          2058.0111561159856,
          2203.6574443866775,
          2315.7369602457925,
          2337.7247977646434,
          2288.6897576520983,
          2230.6144782733527,
          2179.9505901828443,
          2138.574212706509,
          2107.0593931668345,
          2084.6781068826804,
          2069.400257169258,
          2057.8936753382172,
          2045.5241206975475,
          2027.2975729534116,
          2005.4470080261244,
          1985.1410212927872,
          1966.3552067497028,
          1948.0935869602902,
          1929.802803669062,
          1911.372117801539,
          1893.1334094642693,
          1875.8611779448504,
          1860.7725417118506,
          1843.200880847038,
          1830.9549535902504,
          1828.344395481224,
          1824.5146429404008,
          1816.4199397152424,
          1802.8014447748994,
          1784.1872323101647,
          1877.304070596558,
          2107.3143909761047,
          2310.086524165548,
          2366.09368202043,
          2305.1865500344875,
          2227.9377090826774,
          2160.5883710639155,
          2105.757421716097,
          2064.229492606572,
          2034.9549611319073,
          2015.049950517863,
          1999.7963298195014,
          1982.64171392106,
          1956.4546786419137,
          1924.1736289440491,
          1893.9027075409692,
          1867.3510634039098,
          1844.3628142022299,
          1824.7099957449461,
          1808.092561980628,
          1794.1383849974027,
          1782.4032550229915,
          1772.370880424643,
          1763.8602986313394,
          1758.6867341509287,
          1756.2843159618103,
          1752.1865332643342,
          1743.014855774386,
          1727.3561685623329,
          1705.7627720529686,
          1680.7523820255667,
          1656.8081296138641,
          1640.3785613059842,
          1638.8641115549842,
          1650.2344610331666,
          1664.2375461454806
         ],
         "yaxis": "y"
        },
        {
         "hovertemplate": "x=%{x}<br>y=%{y}<extra></extra>",
         "legendgroup": "",
         "marker": {
          "color": "red",
          "symbol": "circle"
         },
         "mode": "markers",
         "name": "",
         "orientation": "v",
         "showlegend": false,
         "type": "scatter",
         "x": [
          2012,
          2013,
          2014,
          2015,
          2016,
          2017,
          2018,
          2019,
          2020,
          2021,
          2022
         ],
         "xaxis": "x",
         "y": [
          1485,
          1369,
          1405,
          1642,
          1555,
          1440,
          1468,
          1417,
          1360,
          1016,
          1503
         ],
         "yaxis": "y"
        }
       ],
       "layout": {
        "template": {
         "data": {
          "bar": [
           {
            "error_x": {
             "color": "#2a3f5f"
            },
            "error_y": {
             "color": "#2a3f5f"
            },
            "marker": {
             "line": {
              "color": "#E5ECF6",
              "width": 0.5
             },
             "pattern": {
              "fillmode": "overlay",
              "size": 10,
              "solidity": 0.2
             }
            },
            "type": "bar"
           }
          ],
          "barpolar": [
           {
            "marker": {
             "line": {
              "color": "#E5ECF6",
              "width": 0.5
             },
             "pattern": {
              "fillmode": "overlay",
              "size": 10,
              "solidity": 0.2
             }
            },
            "type": "barpolar"
           }
          ],
          "carpet": [
           {
            "aaxis": {
             "endlinecolor": "#2a3f5f",
             "gridcolor": "white",
             "linecolor": "white",
             "minorgridcolor": "white",
             "startlinecolor": "#2a3f5f"
            },
            "baxis": {
             "endlinecolor": "#2a3f5f",
             "gridcolor": "white",
             "linecolor": "white",
             "minorgridcolor": "white",
             "startlinecolor": "#2a3f5f"
            },
            "type": "carpet"
           }
          ],
          "choropleth": [
           {
            "colorbar": {
             "outlinewidth": 0,
             "ticks": ""
            },
            "type": "choropleth"
           }
          ],
          "contour": [
           {
            "colorbar": {
             "outlinewidth": 0,
             "ticks": ""
            },
            "colorscale": [
             [
              0,
              "#0d0887"
             ],
             [
              0.1111111111111111,
              "#46039f"
             ],
             [
              0.2222222222222222,
              "#7201a8"
             ],
             [
              0.3333333333333333,
              "#9c179e"
             ],
             [
              0.4444444444444444,
              "#bd3786"
             ],
             [
              0.5555555555555556,
              "#d8576b"
             ],
             [
              0.6666666666666666,
              "#ed7953"
             ],
             [
              0.7777777777777778,
              "#fb9f3a"
             ],
             [
              0.8888888888888888,
              "#fdca26"
             ],
             [
              1,
              "#f0f921"
             ]
            ],
            "type": "contour"
           }
          ],
          "contourcarpet": [
           {
            "colorbar": {
             "outlinewidth": 0,
             "ticks": ""
            },
            "type": "contourcarpet"
           }
          ],
          "heatmap": [
           {
            "colorbar": {
             "outlinewidth": 0,
             "ticks": ""
            },
            "colorscale": [
             [
              0,
              "#0d0887"
             ],
             [
              0.1111111111111111,
              "#46039f"
             ],
             [
              0.2222222222222222,
              "#7201a8"
             ],
             [
              0.3333333333333333,
              "#9c179e"
             ],
             [
              0.4444444444444444,
              "#bd3786"
             ],
             [
              0.5555555555555556,
              "#d8576b"
             ],
             [
              0.6666666666666666,
              "#ed7953"
             ],
             [
              0.7777777777777778,
              "#fb9f3a"
             ],
             [
              0.8888888888888888,
              "#fdca26"
             ],
             [
              1,
              "#f0f921"
             ]
            ],
            "type": "heatmap"
           }
          ],
          "heatmapgl": [
           {
            "colorbar": {
             "outlinewidth": 0,
             "ticks": ""
            },
            "colorscale": [
             [
              0,
              "#0d0887"
             ],
             [
              0.1111111111111111,
              "#46039f"
             ],
             [
              0.2222222222222222,
              "#7201a8"
             ],
             [
              0.3333333333333333,
              "#9c179e"
             ],
             [
              0.4444444444444444,
              "#bd3786"
             ],
             [
              0.5555555555555556,
              "#d8576b"
             ],
             [
              0.6666666666666666,
              "#ed7953"
             ],
             [
              0.7777777777777778,
              "#fb9f3a"
             ],
             [
              0.8888888888888888,
              "#fdca26"
             ],
             [
              1,
              "#f0f921"
             ]
            ],
            "type": "heatmapgl"
           }
          ],
          "histogram": [
           {
            "marker": {
             "pattern": {
              "fillmode": "overlay",
              "size": 10,
              "solidity": 0.2
             }
            },
            "type": "histogram"
           }
          ],
          "histogram2d": [
           {
            "colorbar": {
             "outlinewidth": 0,
             "ticks": ""
            },
            "colorscale": [
             [
              0,
              "#0d0887"
             ],
             [
              0.1111111111111111,
              "#46039f"
             ],
             [
              0.2222222222222222,
              "#7201a8"
             ],
             [
              0.3333333333333333,
              "#9c179e"
             ],
             [
              0.4444444444444444,
              "#bd3786"
             ],
             [
              0.5555555555555556,
              "#d8576b"
             ],
             [
              0.6666666666666666,
              "#ed7953"
             ],
             [
              0.7777777777777778,
              "#fb9f3a"
             ],
             [
              0.8888888888888888,
              "#fdca26"
             ],
             [
              1,
              "#f0f921"
             ]
            ],
            "type": "histogram2d"
           }
          ],
          "histogram2dcontour": [
           {
            "colorbar": {
             "outlinewidth": 0,
             "ticks": ""
            },
            "colorscale": [
             [
              0,
              "#0d0887"
             ],
             [
              0.1111111111111111,
              "#46039f"
             ],
             [
              0.2222222222222222,
              "#7201a8"
             ],
             [
              0.3333333333333333,
              "#9c179e"
             ],
             [
              0.4444444444444444,
              "#bd3786"
             ],
             [
              0.5555555555555556,
              "#d8576b"
             ],
             [
              0.6666666666666666,
              "#ed7953"
             ],
             [
              0.7777777777777778,
              "#fb9f3a"
             ],
             [
              0.8888888888888888,
              "#fdca26"
             ],
             [
              1,
              "#f0f921"
             ]
            ],
            "type": "histogram2dcontour"
           }
          ],
          "mesh3d": [
           {
            "colorbar": {
             "outlinewidth": 0,
             "ticks": ""
            },
            "type": "mesh3d"
           }
          ],
          "parcoords": [
           {
            "line": {
             "colorbar": {
              "outlinewidth": 0,
              "ticks": ""
             }
            },
            "type": "parcoords"
           }
          ],
          "pie": [
           {
            "automargin": true,
            "type": "pie"
           }
          ],
          "scatter": [
           {
            "fillpattern": {
             "fillmode": "overlay",
             "size": 10,
             "solidity": 0.2
            },
            "type": "scatter"
           }
          ],
          "scatter3d": [
           {
            "line": {
             "colorbar": {
              "outlinewidth": 0,
              "ticks": ""
             }
            },
            "marker": {
             "colorbar": {
              "outlinewidth": 0,
              "ticks": ""
             }
            },
            "type": "scatter3d"
           }
          ],
          "scattercarpet": [
           {
            "marker": {
             "colorbar": {
              "outlinewidth": 0,
              "ticks": ""
             }
            },
            "type": "scattercarpet"
           }
          ],
          "scattergeo": [
           {
            "marker": {
             "colorbar": {
              "outlinewidth": 0,
              "ticks": ""
             }
            },
            "type": "scattergeo"
           }
          ],
          "scattergl": [
           {
            "marker": {
             "colorbar": {
              "outlinewidth": 0,
              "ticks": ""
             }
            },
            "type": "scattergl"
           }
          ],
          "scattermapbox": [
           {
            "marker": {
             "colorbar": {
              "outlinewidth": 0,
              "ticks": ""
             }
            },
            "type": "scattermapbox"
           }
          ],
          "scatterpolar": [
           {
            "marker": {
             "colorbar": {
              "outlinewidth": 0,
              "ticks": ""
             }
            },
            "type": "scatterpolar"
           }
          ],
          "scatterpolargl": [
           {
            "marker": {
             "colorbar": {
              "outlinewidth": 0,
              "ticks": ""
             }
            },
            "type": "scatterpolargl"
           }
          ],
          "scatterternary": [
           {
            "marker": {
             "colorbar": {
              "outlinewidth": 0,
              "ticks": ""
             }
            },
            "type": "scatterternary"
           }
          ],
          "surface": [
           {
            "colorbar": {
             "outlinewidth": 0,
             "ticks": ""
            },
            "colorscale": [
             [
              0,
              "#0d0887"
             ],
             [
              0.1111111111111111,
              "#46039f"
             ],
             [
              0.2222222222222222,
              "#7201a8"
             ],
             [
              0.3333333333333333,
              "#9c179e"
             ],
             [
              0.4444444444444444,
              "#bd3786"
             ],
             [
              0.5555555555555556,
              "#d8576b"
             ],
             [
              0.6666666666666666,
              "#ed7953"
             ],
             [
              0.7777777777777778,
              "#fb9f3a"
             ],
             [
              0.8888888888888888,
              "#fdca26"
             ],
             [
              1,
              "#f0f921"
             ]
            ],
            "type": "surface"
           }
          ],
          "table": [
           {
            "cells": {
             "fill": {
              "color": "#EBF0F8"
             },
             "line": {
              "color": "white"
             }
            },
            "header": {
             "fill": {
              "color": "#C8D4E3"
             },
             "line": {
              "color": "white"
             }
            },
            "type": "table"
           }
          ]
         },
         "layout": {
          "annotationdefaults": {
           "arrowcolor": "#2a3f5f",
           "arrowhead": 0,
           "arrowwidth": 1
          },
          "autotypenumbers": "strict",
          "coloraxis": {
           "colorbar": {
            "outlinewidth": 0,
            "ticks": ""
           }
          },
          "colorscale": {
           "diverging": [
            [
             0,
             "#8e0152"
            ],
            [
             0.1,
             "#c51b7d"
            ],
            [
             0.2,
             "#de77ae"
            ],
            [
             0.3,
             "#f1b6da"
            ],
            [
             0.4,
             "#fde0ef"
            ],
            [
             0.5,
             "#f7f7f7"
            ],
            [
             0.6,
             "#e6f5d0"
            ],
            [
             0.7,
             "#b8e186"
            ],
            [
             0.8,
             "#7fbc41"
            ],
            [
             0.9,
             "#4d9221"
            ],
            [
             1,
             "#276419"
            ]
           ],
           "sequential": [
            [
             0,
             "#0d0887"
            ],
            [
             0.1111111111111111,
             "#46039f"
            ],
            [
             0.2222222222222222,
             "#7201a8"
            ],
            [
             0.3333333333333333,
             "#9c179e"
            ],
            [
             0.4444444444444444,
             "#bd3786"
            ],
            [
             0.5555555555555556,
             "#d8576b"
            ],
            [
             0.6666666666666666,
             "#ed7953"
            ],
            [
             0.7777777777777778,
             "#fb9f3a"
            ],
            [
             0.8888888888888888,
             "#fdca26"
            ],
            [
             1,
             "#f0f921"
            ]
           ],
           "sequentialminus": [
            [
             0,
             "#0d0887"
            ],
            [
             0.1111111111111111,
             "#46039f"
            ],
            [
             0.2222222222222222,
             "#7201a8"
            ],
            [
             0.3333333333333333,
             "#9c179e"
            ],
            [
             0.4444444444444444,
             "#bd3786"
            ],
            [
             0.5555555555555556,
             "#d8576b"
            ],
            [
             0.6666666666666666,
             "#ed7953"
            ],
            [
             0.7777777777777778,
             "#fb9f3a"
            ],
            [
             0.8888888888888888,
             "#fdca26"
            ],
            [
             1,
             "#f0f921"
            ]
           ]
          },
          "colorway": [
           "#636efa",
           "#EF553B",
           "#00cc96",
           "#ab63fa",
           "#FFA15A",
           "#19d3f3",
           "#FF6692",
           "#B6E880",
           "#FF97FF",
           "#FECB52"
          ],
          "font": {
           "color": "#2a3f5f"
          },
          "geo": {
           "bgcolor": "white",
           "lakecolor": "white",
           "landcolor": "#E5ECF6",
           "showlakes": true,
           "showland": true,
           "subunitcolor": "white"
          },
          "hoverlabel": {
           "align": "left"
          },
          "hovermode": "closest",
          "mapbox": {
           "style": "light"
          },
          "paper_bgcolor": "white",
          "plot_bgcolor": "#E5ECF6",
          "polar": {
           "angularaxis": {
            "gridcolor": "white",
            "linecolor": "white",
            "ticks": ""
           },
           "bgcolor": "#E5ECF6",
           "radialaxis": {
            "gridcolor": "white",
            "linecolor": "white",
            "ticks": ""
           }
          },
          "scene": {
           "xaxis": {
            "backgroundcolor": "#E5ECF6",
            "gridcolor": "white",
            "gridwidth": 2,
            "linecolor": "white",
            "showbackground": true,
            "ticks": "",
            "zerolinecolor": "white"
           },
           "yaxis": {
            "backgroundcolor": "#E5ECF6",
            "gridcolor": "white",
            "gridwidth": 2,
            "linecolor": "white",
            "showbackground": true,
            "ticks": "",
            "zerolinecolor": "white"
           },
           "zaxis": {
            "backgroundcolor": "#E5ECF6",
            "gridcolor": "white",
            "gridwidth": 2,
            "linecolor": "white",
            "showbackground": true,
            "ticks": "",
            "zerolinecolor": "white"
           }
          },
          "shapedefaults": {
           "line": {
            "color": "#2a3f5f"
           }
          },
          "ternary": {
           "aaxis": {
            "gridcolor": "white",
            "linecolor": "white",
            "ticks": ""
           },
           "baxis": {
            "gridcolor": "white",
            "linecolor": "white",
            "ticks": ""
           },
           "bgcolor": "#E5ECF6",
           "caxis": {
            "gridcolor": "white",
            "linecolor": "white",
            "ticks": ""
           }
          },
          "title": {
           "x": 0.05
          },
          "xaxis": {
           "automargin": true,
           "gridcolor": "white",
           "linecolor": "white",
           "ticks": "",
           "title": {
            "standoff": 15
           },
           "zerolinecolor": "white",
           "zerolinewidth": 2
          },
          "yaxis": {
           "automargin": true,
           "gridcolor": "white",
           "linecolor": "white",
           "ticks": "",
           "title": {
            "standoff": 15
           },
           "zerolinecolor": "white",
           "zerolinewidth": 2
          }
         }
        },
        "title": {
         "text": "Modelled vs Data",
         "x": 0.5
        },
        "xaxis": {
         "title": {
          "text": "Year"
         }
        },
        "yaxis": {
         "title": {
          "text": "Notifications"
         }
        }
       }
      }
     },
     "metadata": {},
     "output_type": "display_data"
    }
   ],
   "source": [
    "notif_1 = px.line(\n",
    "    derived_df_0,\n",
    "    x=derived_df_0.index,\n",
    "    y=\"notifications\",\n",
    ")\n",
    "notif_2 = px.scatter(x= plots['notifications']['times'], y = plots['notifications']['values'])\n",
    "notif_2.update_traces(marker=dict(color=\"red\"))\n",
    "notif_plot = go.Figure(\n",
    "    data=notif_1.data + notif_2.data,\n",
    ")\n",
    "notif_plot.update_layout(\n",
    "    title=\"Modelled vs Data\", title_x=0.5, xaxis_title=\"Year\", yaxis_title=\"Notifications\"\n",
    ")\n",
    "notif_plot.show()"
   ]
  },
  {
   "cell_type": "code",
   "execution_count": 17,
   "metadata": {},
   "outputs": [
    {
     "data": {
      "application/vnd.plotly.v1+json": {
       "config": {
        "plotlyServerURL": "https://plot.ly"
       },
       "data": [
        {
         "hovertemplate": "index=%{x}<br>incidence=%{y}<extra></extra>",
         "legendgroup": "",
         "line": {
          "color": "#636efa",
          "dash": "solid"
         },
         "marker": {
          "symbol": "circle"
         },
         "mode": "lines",
         "name": "",
         "showlegend": false,
         "type": "scattergl",
         "x": [
          1900,
          1900.1,
          1900.2,
          1900.3,
          1900.4,
          1900.5,
          1900.6,
          1900.7,
          1900.8,
          1900.9,
          1901,
          1901.1,
          1901.2,
          1901.3,
          1901.4,
          1901.5,
          1901.6,
          1901.7,
          1901.8,
          1901.9,
          1902,
          1902.1,
          1902.2,
          1902.3,
          1902.4,
          1902.5,
          1902.6,
          1902.7,
          1902.8,
          1902.9,
          1903,
          1903.1,
          1903.2,
          1903.3,
          1903.4,
          1903.5,
          1903.6,
          1903.7,
          1903.8,
          1903.9,
          1904,
          1904.1,
          1904.2,
          1904.3,
          1904.4,
          1904.5,
          1904.6,
          1904.7,
          1904.8,
          1904.9,
          1905,
          1905.1,
          1905.2,
          1905.3,
          1905.4,
          1905.5,
          1905.6,
          1905.7,
          1905.8,
          1905.9,
          1906,
          1906.1,
          1906.2,
          1906.3,
          1906.4,
          1906.5,
          1906.6,
          1906.7,
          1906.8,
          1906.9,
          1907,
          1907.1,
          1907.2,
          1907.3,
          1907.4,
          1907.5,
          1907.6,
          1907.7,
          1907.8,
          1907.9,
          1908,
          1908.1,
          1908.2,
          1908.3,
          1908.4,
          1908.5,
          1908.6,
          1908.7,
          1908.8,
          1908.9,
          1909,
          1909.1,
          1909.2,
          1909.3,
          1909.4,
          1909.5,
          1909.6,
          1909.7,
          1909.8,
          1909.9,
          1910,
          1910.1,
          1910.2,
          1910.3,
          1910.4,
          1910.5,
          1910.6,
          1910.7,
          1910.8,
          1910.9,
          1911,
          1911.1,
          1911.2,
          1911.3,
          1911.4,
          1911.5,
          1911.6,
          1911.7,
          1911.8,
          1911.9,
          1912,
          1912.1,
          1912.2,
          1912.3,
          1912.4,
          1912.5,
          1912.6,
          1912.7,
          1912.8,
          1912.9,
          1913,
          1913.1,
          1913.2,
          1913.3,
          1913.4,
          1913.5,
          1913.6,
          1913.7,
          1913.8,
          1913.9,
          1914,
          1914.1,
          1914.2,
          1914.3,
          1914.4,
          1914.5,
          1914.6,
          1914.7,
          1914.8,
          1914.9,
          1915,
          1915.1,
          1915.2,
          1915.3,
          1915.4,
          1915.5,
          1915.6,
          1915.7,
          1915.8,
          1915.9,
          1916,
          1916.1,
          1916.2,
          1916.3,
          1916.4,
          1916.5,
          1916.6,
          1916.7,
          1916.8,
          1916.9,
          1917,
          1917.1,
          1917.2,
          1917.3,
          1917.4,
          1917.5,
          1917.6,
          1917.7,
          1917.8,
          1917.9,
          1918,
          1918.1,
          1918.2,
          1918.3,
          1918.4,
          1918.5,
          1918.6,
          1918.7,
          1918.8,
          1918.9,
          1919,
          1919.1,
          1919.2,
          1919.3,
          1919.4,
          1919.5,
          1919.6,
          1919.7,
          1919.8,
          1919.9,
          1920,
          1920.1,
          1920.2,
          1920.3,
          1920.4,
          1920.5,
          1920.6,
          1920.7,
          1920.8,
          1920.9,
          1921,
          1921.1,
          1921.2,
          1921.3,
          1921.4,
          1921.5,
          1921.6,
          1921.7,
          1921.8,
          1921.9,
          1922,
          1922.1,
          1922.2,
          1922.3,
          1922.4,
          1922.5,
          1922.6,
          1922.7,
          1922.8,
          1922.9,
          1923,
          1923.1,
          1923.2,
          1923.3,
          1923.4,
          1923.5,
          1923.6,
          1923.7,
          1923.8,
          1923.9,
          1924,
          1924.1,
          1924.2,
          1924.3,
          1924.4,
          1924.5,
          1924.6,
          1924.7,
          1924.8,
          1924.9,
          1925,
          1925.1,
          1925.2,
          1925.3,
          1925.4,
          1925.5,
          1925.6,
          1925.7,
          1925.8,
          1925.9,
          1926,
          1926.1,
          1926.2,
          1926.3,
          1926.4,
          1926.5,
          1926.6,
          1926.7,
          1926.8,
          1926.9,
          1927,
          1927.1,
          1927.2,
          1927.3,
          1927.4,
          1927.5,
          1927.6,
          1927.7,
          1927.8,
          1927.9,
          1928,
          1928.1,
          1928.2,
          1928.3,
          1928.4,
          1928.5,
          1928.6,
          1928.7,
          1928.8,
          1928.9,
          1929,
          1929.1,
          1929.2,
          1929.3,
          1929.4,
          1929.5,
          1929.6,
          1929.7,
          1929.8,
          1929.9,
          1930,
          1930.1,
          1930.2,
          1930.3,
          1930.4,
          1930.5,
          1930.6,
          1930.7,
          1930.8,
          1930.9,
          1931,
          1931.1,
          1931.2,
          1931.3,
          1931.4,
          1931.5,
          1931.6,
          1931.7,
          1931.8,
          1931.9,
          1932,
          1932.1,
          1932.2,
          1932.3,
          1932.4,
          1932.5,
          1932.6,
          1932.7,
          1932.8,
          1932.9,
          1933,
          1933.1,
          1933.2,
          1933.3,
          1933.4,
          1933.5,
          1933.6,
          1933.7,
          1933.8,
          1933.9,
          1934,
          1934.1,
          1934.2,
          1934.3,
          1934.4,
          1934.5,
          1934.6,
          1934.7,
          1934.8,
          1934.9,
          1935,
          1935.1,
          1935.2,
          1935.3,
          1935.4,
          1935.5,
          1935.6,
          1935.7,
          1935.8,
          1935.9,
          1936,
          1936.1,
          1936.2,
          1936.3,
          1936.4,
          1936.5,
          1936.6,
          1936.7,
          1936.8,
          1936.9,
          1937,
          1937.1,
          1937.2,
          1937.3,
          1937.4,
          1937.5,
          1937.6,
          1937.7,
          1937.8,
          1937.9,
          1938,
          1938.1,
          1938.2,
          1938.3,
          1938.4,
          1938.5,
          1938.6,
          1938.7,
          1938.8,
          1938.9,
          1939,
          1939.1,
          1939.2,
          1939.3,
          1939.4,
          1939.5,
          1939.6,
          1939.7,
          1939.8,
          1939.9,
          1940,
          1940.1,
          1940.2,
          1940.3,
          1940.4,
          1940.5,
          1940.6,
          1940.7,
          1940.8,
          1940.9,
          1941,
          1941.1,
          1941.2,
          1941.3,
          1941.4,
          1941.5,
          1941.6,
          1941.7,
          1941.8,
          1941.9,
          1942,
          1942.1,
          1942.2,
          1942.3,
          1942.4,
          1942.5,
          1942.6,
          1942.7,
          1942.8,
          1942.9,
          1943,
          1943.1,
          1943.2,
          1943.3,
          1943.4,
          1943.5,
          1943.6,
          1943.7,
          1943.8,
          1943.9,
          1944,
          1944.1,
          1944.2,
          1944.3,
          1944.4,
          1944.5,
          1944.6,
          1944.7,
          1944.8,
          1944.9,
          1945,
          1945.1,
          1945.2,
          1945.3,
          1945.4,
          1945.5,
          1945.6,
          1945.7,
          1945.8,
          1945.9,
          1946,
          1946.1,
          1946.2,
          1946.3,
          1946.4,
          1946.5,
          1946.6,
          1946.7,
          1946.8,
          1946.9,
          1947,
          1947.1,
          1947.2,
          1947.3,
          1947.4,
          1947.5,
          1947.6,
          1947.7,
          1947.8,
          1947.9,
          1948,
          1948.1,
          1948.2,
          1948.3,
          1948.4,
          1948.5,
          1948.6,
          1948.7,
          1948.8,
          1948.9,
          1949,
          1949.1,
          1949.2,
          1949.3,
          1949.4,
          1949.5,
          1949.6,
          1949.7,
          1949.8,
          1949.9,
          1950,
          1950.1,
          1950.2,
          1950.3,
          1950.4,
          1950.5,
          1950.6,
          1950.7,
          1950.8,
          1950.9,
          1951,
          1951.1,
          1951.2,
          1951.3,
          1951.4,
          1951.5,
          1951.6,
          1951.7,
          1951.8,
          1951.9,
          1952,
          1952.1,
          1952.2,
          1952.3,
          1952.4,
          1952.5,
          1952.6,
          1952.7,
          1952.8,
          1952.9,
          1953,
          1953.1,
          1953.2,
          1953.3,
          1953.4,
          1953.5,
          1953.6,
          1953.7,
          1953.8,
          1953.9,
          1954,
          1954.1,
          1954.2,
          1954.3,
          1954.4,
          1954.5,
          1954.6,
          1954.7,
          1954.8,
          1954.9,
          1955,
          1955.1,
          1955.2,
          1955.3,
          1955.4,
          1955.5,
          1955.6,
          1955.7,
          1955.8,
          1955.9,
          1956,
          1956.1,
          1956.2,
          1956.3,
          1956.4,
          1956.5,
          1956.6,
          1956.7,
          1956.8,
          1956.9,
          1957,
          1957.1,
          1957.2,
          1957.3,
          1957.4,
          1957.5,
          1957.6,
          1957.7,
          1957.8,
          1957.9,
          1958,
          1958.1,
          1958.2,
          1958.3,
          1958.4,
          1958.5,
          1958.6,
          1958.7,
          1958.8,
          1958.9,
          1959,
          1959.1,
          1959.2,
          1959.3,
          1959.4,
          1959.5,
          1959.6,
          1959.7,
          1959.8,
          1959.9,
          1960,
          1960.1,
          1960.2,
          1960.3,
          1960.4,
          1960.5,
          1960.6,
          1960.7,
          1960.8,
          1960.9,
          1961,
          1961.1,
          1961.2,
          1961.3,
          1961.4,
          1961.5,
          1961.6,
          1961.7,
          1961.8,
          1961.9,
          1962,
          1962.1,
          1962.2,
          1962.3,
          1962.4,
          1962.5,
          1962.6,
          1962.7,
          1962.8,
          1962.9,
          1963,
          1963.1,
          1963.2,
          1963.3,
          1963.4,
          1963.5,
          1963.6,
          1963.7,
          1963.8,
          1963.9,
          1964,
          1964.1,
          1964.2,
          1964.3,
          1964.4,
          1964.5,
          1964.6,
          1964.7,
          1964.8,
          1964.9,
          1965,
          1965.1,
          1965.2,
          1965.3,
          1965.4,
          1965.5,
          1965.6,
          1965.7,
          1965.8,
          1965.9,
          1966,
          1966.1,
          1966.2,
          1966.3,
          1966.4,
          1966.5,
          1966.6,
          1966.7,
          1966.8,
          1966.9,
          1967,
          1967.1,
          1967.2,
          1967.3,
          1967.4,
          1967.5,
          1967.6,
          1967.7,
          1967.8,
          1967.9,
          1968,
          1968.1,
          1968.2,
          1968.3,
          1968.4,
          1968.5,
          1968.6,
          1968.7,
          1968.8,
          1968.9,
          1969,
          1969.1,
          1969.2,
          1969.3,
          1969.4,
          1969.5,
          1969.6,
          1969.7,
          1969.8,
          1969.9,
          1970,
          1970.1,
          1970.2,
          1970.3,
          1970.4,
          1970.5,
          1970.6,
          1970.7,
          1970.8,
          1970.9,
          1971,
          1971.1,
          1971.2,
          1971.3,
          1971.4,
          1971.5,
          1971.6,
          1971.7,
          1971.8,
          1971.9,
          1972,
          1972.1,
          1972.2,
          1972.3,
          1972.4,
          1972.5,
          1972.6,
          1972.7,
          1972.8,
          1972.9,
          1973,
          1973.1,
          1973.2,
          1973.3,
          1973.4,
          1973.5,
          1973.6,
          1973.7,
          1973.8,
          1973.9,
          1974,
          1974.1,
          1974.2,
          1974.3,
          1974.4,
          1974.5,
          1974.6,
          1974.7,
          1974.8,
          1974.9,
          1975,
          1975.1,
          1975.2,
          1975.3,
          1975.4,
          1975.5,
          1975.6,
          1975.7,
          1975.8,
          1975.9,
          1976,
          1976.1,
          1976.2,
          1976.3,
          1976.4,
          1976.5,
          1976.6,
          1976.7,
          1976.8,
          1976.9,
          1977,
          1977.1,
          1977.2,
          1977.3,
          1977.4,
          1977.5,
          1977.6,
          1977.7,
          1977.8,
          1977.9,
          1978,
          1978.1,
          1978.2,
          1978.3,
          1978.4,
          1978.5,
          1978.6,
          1978.7,
          1978.8,
          1978.9,
          1979,
          1979.1,
          1979.2,
          1979.3,
          1979.4,
          1979.5,
          1979.6,
          1979.7,
          1979.8,
          1979.9,
          1980,
          1980.1,
          1980.2,
          1980.3,
          1980.4,
          1980.5,
          1980.6,
          1980.7,
          1980.8,
          1980.9,
          1981,
          1981.1,
          1981.2,
          1981.3,
          1981.4,
          1981.5,
          1981.6,
          1981.7,
          1981.8,
          1981.9,
          1982,
          1982.1,
          1982.2,
          1982.3,
          1982.4,
          1982.5,
          1982.6,
          1982.7,
          1982.8,
          1982.9,
          1983,
          1983.1,
          1983.2,
          1983.3,
          1983.4,
          1983.5,
          1983.6,
          1983.7,
          1983.8,
          1983.9,
          1984,
          1984.1,
          1984.2,
          1984.3,
          1984.4,
          1984.5,
          1984.6,
          1984.7,
          1984.8,
          1984.9,
          1985,
          1985.1,
          1985.2,
          1985.3,
          1985.4,
          1985.5,
          1985.6,
          1985.7,
          1985.8,
          1985.9,
          1986,
          1986.1,
          1986.2,
          1986.3,
          1986.4,
          1986.5,
          1986.6,
          1986.7,
          1986.8,
          1986.9,
          1987,
          1987.1,
          1987.2,
          1987.3,
          1987.4,
          1987.5,
          1987.6,
          1987.7,
          1987.8,
          1987.9,
          1988,
          1988.1,
          1988.2,
          1988.3,
          1988.4,
          1988.5,
          1988.6,
          1988.7,
          1988.8,
          1988.9,
          1989,
          1989.1,
          1989.2,
          1989.3,
          1989.4,
          1989.5,
          1989.6,
          1989.7,
          1989.8,
          1989.9,
          1990,
          1990.1,
          1990.2,
          1990.3,
          1990.4,
          1990.5,
          1990.6,
          1990.7,
          1990.8,
          1990.9,
          1991,
          1991.1,
          1991.2,
          1991.3,
          1991.4,
          1991.5,
          1991.6,
          1991.7,
          1991.8,
          1991.9,
          1992,
          1992.1,
          1992.2,
          1992.3,
          1992.4,
          1992.5,
          1992.6,
          1992.7,
          1992.8,
          1992.9,
          1993,
          1993.1,
          1993.2,
          1993.3,
          1993.4,
          1993.5,
          1993.6,
          1993.7,
          1993.8,
          1993.9,
          1994,
          1994.1,
          1994.2,
          1994.3,
          1994.4,
          1994.5,
          1994.6,
          1994.7,
          1994.8,
          1994.9,
          1995,
          1995.1,
          1995.2,
          1995.3,
          1995.4,
          1995.5,
          1995.6,
          1995.7,
          1995.8,
          1995.9,
          1996,
          1996.1,
          1996.2,
          1996.3,
          1996.4,
          1996.5,
          1996.6,
          1996.7,
          1996.8,
          1996.9,
          1997,
          1997.1,
          1997.2,
          1997.3,
          1997.4,
          1997.5,
          1997.6,
          1997.7,
          1997.8,
          1997.9,
          1998,
          1998.1,
          1998.2,
          1998.3,
          1998.4,
          1998.5,
          1998.6,
          1998.7,
          1998.8,
          1998.9,
          1999,
          1999.1,
          1999.2,
          1999.3,
          1999.4,
          1999.5,
          1999.6,
          1999.7,
          1999.8,
          1999.9,
          2000,
          2000.1,
          2000.2,
          2000.3,
          2000.4,
          2000.5,
          2000.6,
          2000.7,
          2000.8,
          2000.9,
          2001,
          2001.1,
          2001.2,
          2001.3,
          2001.4,
          2001.5,
          2001.6,
          2001.7,
          2001.8,
          2001.9,
          2002,
          2002.1,
          2002.2,
          2002.3,
          2002.4,
          2002.5,
          2002.6,
          2002.7,
          2002.8,
          2002.9,
          2003,
          2003.1,
          2003.2,
          2003.3,
          2003.4,
          2003.5,
          2003.6,
          2003.7,
          2003.8,
          2003.9,
          2004,
          2004.1,
          2004.2,
          2004.3,
          2004.4,
          2004.5,
          2004.6,
          2004.7,
          2004.8,
          2004.9,
          2005,
          2005.1,
          2005.2,
          2005.3,
          2005.4,
          2005.5,
          2005.6,
          2005.7,
          2005.8,
          2005.9,
          2006,
          2006.1,
          2006.2,
          2006.3,
          2006.4,
          2006.5,
          2006.6,
          2006.7,
          2006.8,
          2006.9,
          2007,
          2007.1,
          2007.2,
          2007.3,
          2007.4,
          2007.5,
          2007.6,
          2007.7,
          2007.8,
          2007.9,
          2008,
          2008.1,
          2008.2,
          2008.3,
          2008.4,
          2008.5,
          2008.6,
          2008.7,
          2008.8,
          2008.9,
          2009,
          2009.1,
          2009.2,
          2009.3,
          2009.4,
          2009.5,
          2009.6,
          2009.7,
          2009.8,
          2009.9,
          2010,
          2010.1,
          2010.2,
          2010.3,
          2010.4,
          2010.5,
          2010.6,
          2010.7,
          2010.8,
          2010.9,
          2011,
          2011.1,
          2011.2,
          2011.3,
          2011.4,
          2011.5,
          2011.6,
          2011.7,
          2011.8,
          2011.9,
          2012,
          2012.1,
          2012.2,
          2012.3,
          2012.4,
          2012.5,
          2012.6,
          2012.7,
          2012.8,
          2012.9,
          2013,
          2013.1,
          2013.2,
          2013.3,
          2013.4,
          2013.5,
          2013.6,
          2013.7,
          2013.8,
          2013.9,
          2014,
          2014.1,
          2014.2,
          2014.3,
          2014.4,
          2014.5,
          2014.6,
          2014.7,
          2014.8,
          2014.9,
          2015,
          2015.1,
          2015.2,
          2015.3,
          2015.4,
          2015.5,
          2015.6,
          2015.7,
          2015.8,
          2015.9,
          2016,
          2016.1,
          2016.2,
          2016.3,
          2016.4,
          2016.5,
          2016.6,
          2016.7,
          2016.8,
          2016.9,
          2017,
          2017.1,
          2017.2,
          2017.3,
          2017.4,
          2017.5,
          2017.6,
          2017.7,
          2017.8,
          2017.9,
          2018,
          2018.1,
          2018.2,
          2018.3,
          2018.4,
          2018.5,
          2018.6,
          2018.7,
          2018.8,
          2018.9,
          2019,
          2019.1,
          2019.2,
          2019.3,
          2019.4,
          2019.5,
          2019.6,
          2019.7,
          2019.8,
          2019.9,
          2020
         ],
         "xaxis": "x",
         "y": [
          0,
          0.1938905553116177,
          0.4881927830661701,
          0.6350866175123673,
          0.7092467101150624,
          0.7476070062969363,
          0.7619483345374546,
          0.7648684919655865,
          0.7589903389787769,
          0.7476837852734242,
          0.7358669607810245,
          0.7231829852607019,
          0.7077060063525804,
          0.6907319162746686,
          0.6758544568504017,
          0.6636648774795074,
          0.6503691585094643,
          0.6333439554908378,
          0.6135279379124984,
          0.595428655926097,
          0.583808175253999,
          0.5753048815978262,
          0.562515269169775,
          0.5444110481765788,
          0.5275735012624337,
          0.5192314386591814,
          0.514367489902008,
          0.5027203680198216,
          0.4831002205298835,
          0.464724618121615,
          0.457195430671022,
          0.4539306572727005,
          0.4438090472330297,
          0.4282950547812467,
          0.41765274614604736,
          0.4134220129141874,
          0.4067642717906476,
          0.3947042532189045,
          0.38276284991483955,
          0.3772151401758466,
          0.3740676152140248,
          0.3659214110143535,
          0.3528296183805798,
          0.34235089082952275,
          0.34032262263193,
          0.3399459264409498,
          0.33182785329562037,
          0.3165091246831401,
          0.30477589911867103,
          0.30343972673709807,
          0.3035384977710079,
          0.2961543160827565,
          0.284904792336363,
          0.279747120686931,
          0.2796546815987478,
          0.2756595527675249,
          0.2666470043476945,
          0.2593140309255896,
          0.2582121311927939,
          0.25767888366441033,
          0.25156936252443085,
          0.24144548830517584,
          0.23568256154271985,
          0.2376633338083066,
          0.2388150653925,
          0.23167047392816872,
          0.21890964092034385,
          0.21216317407365018,
          0.21468049164698152,
          0.21574059062704742,
          0.2092689621029944,
          0.2010838279796642,
          0.19965875708691902,
          0.20143160704023189,
          0.19834133955564426,
          0.19098771946071577,
          0.18683694881069068,
          0.18844398251184435,
          0.18887772451048754,
          0.1834772079549698,
          0.17526539601593732,
          0.1728934972775214,
          0.17714927377043904,
          0.17837179193035635,
          0.17124822757028385,
          0.1604752336517329,
          0.15755277379086136,
          0.16219568032969875,
          0.16297687359780327,
          0.15671069512725397,
          0.15103801412849813,
          0.15219182502353917,
          0.1544678380489003,
          0.1514150586157824,
          0.1452020580647432,
          0.1434707392534964,
          0.14662032568226455,
          0.14703767716222144,
          0.14171527443898288,
          0.13510672262400478,
          0.13536793932295704,
          0.14066207383194937,
          0.14110286614880957,
          0.133632900481983,
          0.12485474462021129,
          0.12495033280251922,
          0.13037578194654253,
          0.1302397193795718,
          0.12401957892085458,
          0.12050407538337596,
          0.12339114791099602,
          0.12542620715913105,
          0.12202355417698435,
          0.11685964479273633,
          0.11703967360642786,
          0.12085134833020221,
          0.12071733738918804,
          0.11525376224165419,
          0.11027287261529216,
          0.11257642831784767,
          0.11792690577947414,
          0.11717186962795283,
          0.10936977940626205,
          0.1028612324725059,
          0.10529686229389708,
          0.11040188374018718,
          0.10908763884427819,
          0.10305054388319257,
          0.10143670192922946,
          0.10535676181451896,
          0.10673366029271743,
          0.10287697491486322,
          0.09886629615533782,
          0.1005572814257241,
          0.1043337328713825,
          0.10338718854670013,
          0.09780822951554806,
          0.09450948715633317,
          0.098334607746705,
          0.10305256332756242,
          0.10095282233905602,
          0.09307311208611029,
          0.08891035249471595,
          0.09304998219399144,
          0.09720138812645394,
          0.09467044256849126,
          0.0891603879134666,
          0.0892564744622907,
          0.09356800379355343,
          0.0940458625308598,
          0.08978771783455582,
          0.08698352336831056,
          0.08984598783864636,
          0.09317347876073963,
          0.09132321907254949,
          0.08578017896552108,
          0.08413135347648736,
          0.08898021679476452,
          0.0926636060946067,
          0.08927915957247794,
          0.08169878973804398,
          0.08018768421745498,
          0.08741676483563608,
          0.0924638579973325,
          0.08758947564665052,
          0.0772590392300102,
          0.0749499357489316,
          0.08133893230209127,
          0.08424078226554148,
          0.08057400014135675,
          0.07798505313492599,
          0.08057936561039226,
          0.08274163073605105,
          0.08096156996765538,
          0.07843242152173854,
          0.07965319822741915,
          0.08253164398009001,
          0.08218456338121344,
          0.07838300945059062,
          0.07575691520660958,
          0.0790805295799753,
          0.0844017043283671,
          0.08402965059870693,
          0.07690641834787264,
          0.0697641196873696,
          0.07125772423109503,
          0.07718132433309993,
          0.07778388533400211,
          0.07343239246014513,
          0.07207998559437492,
          0.07545557071636859,
          0.07705380855080392,
          0.07456949035133636,
          0.07203984041991132,
          0.07385744919920083,
          0.07704319211543484,
          0.0764217339504959,
          0.07215293243005622,
          0.06973226621707945,
          0.07353205990888687,
          0.0785100817216918,
          0.07733646990954271,
          0.07010786676053032,
          0.06487580970300416,
          0.06794363653230147,
          0.07295210675934685,
          0.07212098454719487,
          0.06771450986347552,
          0.06750316169354188,
          0.07120287385150206,
          0.07206979978912526,
          0.06909750695024762,
          0.06714632022186616,
          0.06963772627068837,
          0.0724986649971247,
          0.07118347777216506,
          0.06676449772074583,
          0.06537855442195606,
          0.06985116819627248,
          0.07389461746389002,
          0.07148628879565322,
          0.0642708334257143,
          0.0610671779823967,
          0.0653159700293446,
          0.06913029720207804,
          0.06707162916492615,
          0.06310115758175693,
          0.06401897756448512,
          0.06762268069528028,
          0.06765965603775413,
          0.06435427399882075,
          0.06316083314529314,
          0.0662236391451826,
          0.06855002368527678,
          0.06650330189508023,
          0.06213056264188982,
          0.061879970771334766,
          0.06680636744305568,
          0.06975755455368907,
          0.06623317270730449,
          0.059348890071590825,
          0.058018221954133836,
          0.06294674379596782,
          0.0654941265050637,
          0.06247894150601707,
          0.0593067085153808,
          0.061218773119302225,
          0.06437140657439805,
          0.06358106040977797,
          0.06017271961335876,
          0.059842405603721546,
          0.06327733362487976,
          0.06489792276345235,
          0.06216671364487069,
          0.05813028496676001,
          0.05905391610249548,
          0.06411324110654591,
          0.06583194305254789,
          0.061362400063980464,
          0.05522513843294548,
          0.05561318471868635,
          0.06069081590071903,
          0.061932904461257036,
          0.05825533955470606,
          0.05605893773779567,
          0.05877859867254577,
          0.06129905209853216,
          0.059730816554909555,
          0.056481816617591975,
          0.05703907808771371,
          0.06059140568444697,
          0.06141328154480172,
          0.058109699179088974,
          0.05471546051948106,
          0.0567303450439065,
          0.061542428640248455,
          0.06199471525658657,
          0.0568290955447411,
          0.05188658047336655,
          0.053754772488958824,
          0.05841389442357225,
          0.05839496785210457,
          0.05439490904392578,
          0.053267497248586766,
          0.05653621541631458,
          0.058298926295303505,
          0.056056375697953395,
          0.053267542361679,
          0.054674514144496096,
          0.05803604622619884,
          0.05801391399457199,
          0.05429975770062684,
          0.05181105912005023,
          0.05476514709082265,
          0.058983477217600604,
          0.05819859364098443,
          0.052631253398856,
          0.0491724980391524,
          0.05221828517812424,
          0.05604617052245522,
          0.05487766134433367,
          0.05093260690094789,
          0.050889392489071934,
          0.054385237525104026,
          0.05531794592199539,
          0.052552224660260376,
          0.0504432747905098,
          0.052599832710831046,
          0.055527740195195165,
          0.05466661640075537,
          0.050746841449139775,
          0.0493082701985953,
          0.0529833224459918,
          0.056369506062653944,
          0.05443959306852725,
          0.04880416690801798,
          0.04687193935265084,
          0.050733473061300535,
          0.053555929551790865,
          0.05140982184213869,
          0.04792834838921405,
          0.04890840883710203,
          0.052252137670060705,
          0.052335132519068864,
          0.04924101387236786,
          0.04794132623481089,
          0.05068826843393794,
          0.05301419346274973,
          0.05136608448915053,
          0.04748431464651477,
          0.04715316755385681,
          0.05127368600856556,
          0.05366853536990942,
          0.050740082433380046,
          0.04540247652749888,
          0.04539568062805793,
          0.05132088799856808,
          0.05448045698660284,
          0.050201136421022655,
          0.04287477511481778,
          0.04233846375858841,
          0.04751339116504148,
          0.04919184409786162,
          0.046265655435138615,
          0.04488851657713594,
          0.04725975218817702,
          0.04872153995798325,
          0.04728987176925287,
          0.045790469203617234,
          0.047135058160985774,
          0.049213343357772825,
          0.048717864221930814,
          0.045938539769733826,
          0.04465501976981875,
          0.047668879299396616,
          0.051288862814920864,
          0.050367255110442585,
          0.04493847674877854,
          0.04063917332668948,
          0.04270598893649332,
          0.04686981348033373,
          0.046703064725369496,
          0.04338799155705078,
          0.042940252604024516,
          0.0457572103851147,
          0.046730060112894746,
          0.04469045532734436,
          0.04308604033035665,
          0.0448261834808214,
          0.04715339614709634,
          0.04643701818099444,
          0.04322462605131301,
          0.041970674986525174,
          0.04520415890572014,
          0.0485167224682977,
          0.047072625385563206,
          0.04172630898262766,
          0.03891823251028481,
          0.04193285598237325,
          0.04517909298703572,
          0.04394249248294455,
          0.04073460155126254,
          0.041125328933421294,
          0.0440297923931741,
          0.0444032802482254,
          0.04199332911543136,
          0.040814545163640775,
          0.04300130231087429,
          0.04503034041484523,
          0.04378211929181036,
          0.040494648684394605,
          0.03999459374573952,
          0.04358013321188586,
          0.0460962231347979,
          0.04380139940926621,
          0.03867410412792554,
          0.0373657630643697,
          0.04099292632286261,
          0.04321669646506898,
          0.04112756885136127,
          0.03844142367151498,
          0.039657525915803196,
          0.042310926805635356,
          0.04201471620903806,
          0.03938803606465445,
          0.03880128989094821,
          0.04136138896659637,
          0.04293341001509422,
          0.04113033979347996,
          0.037944621427079515,
          0.03826906694456093,
          0.04204703234359671,
          0.043698097670581935,
          0.04066546819134089,
          0.03599932892682357,
          0.03600837596223741,
          0.03984339761201235,
          0.04105588577726686,
          0.03837577620403571,
          0.03641582502149162,
          0.03832453978922551,
          0.040520696436397774,
          0.0395718399261957,
          0.03695787826127539,
          0.03706465897552769,
          0.03982071917328663,
          0.04079266715382087,
          0.03848319323194299,
          0.03566639862788687,
          0.036844467880976485,
          0.04056176389737469,
          0.04127354548143342,
          0.03764336938134802,
          0.033746733010673144,
          0.03490230050025906,
          0.038539858406224765,
          0.038782866539092166,
          0.03576909508335043,
          0.03461883842998467,
          0.03702935382277113,
          0.038657253334279384,
          0.037133661370634036,
          0.0347772582570077,
          0.03557682733124116,
          0.0382900617278404,
          0.038598319234224195,
          0.03590203960470786,
          0.03371884382460254,
          0.0356737279869375,
          0.039025705271310954,
          0.038784118232217585,
          0.03476492492472235,
          0.0319305568075515,
          0.03403071497912429,
          0.03709950097463458,
          0.03643954125960284,
          0.03337255828283269,
          0.03306630248545709,
          0.03574629595849431,
          0.03673543846665349,
          0.03474562632865415,
          0.032867148180301314,
          0.034297214472855254,
          0.03673617190936172,
          0.036375868956218964,
          0.03344488937100293,
          0.03203363009806238,
          0.03461149478360943,
          0.03739198537030929,
          0.036255790293144616,
          0.032096094696720354,
          0.03052924862820224,
          0.034388373274838166,
          0.038125435795847984,
          0.03626476134516731,
          0.03038322119232953,
          0.02823063678638568,
          0.03176559341400958,
          0.034258751828377926,
          0.03261953199168267,
          0.030700930045445968,
          0.03195712032215015,
          0.03375094228090637,
          0.03319259290450061,
          0.031586401958556505,
          0.03199302818189877,
          0.03390211851534892,
          0.03423333540637609,
          0.032364952134994476,
          0.03057606878029425,
          0.03205439481893309,
          0.03529856476510963,
          0.035770610376091534,
          0.032273641455216044,
          0.028042555322846073,
          0.028412578578801483,
          0.03194631523854317,
          0.032853760869163216,
          0.030475399502257413,
          0.029189297110724852,
          0.031032507939091722,
          0.0325303909017573,
          0.03145472061299584,
          0.02961246641763462,
          0.030259726978155387,
          0.032450413299832025,
          0.032701479045631116,
          0.030489345458361787,
          0.028612062995483575,
          0.030290328540652237,
          0.03342050642245757,
          0.033455264598461605,
          0.029814017649700958,
          0.026528521391028324,
          0.027896903150314074,
          0.031062079219386043,
          0.031032742296735933,
          0.028384229228003467,
          0.02774219719795249,
          0.029945529492911883,
          0.031028653830583654,
          0.029531080313165575,
          0.02787895950504991,
          0.02895776760488,
          0.03106464812358484,
          0.030891310078668497,
          0.028453178648711355,
          0.027074274900045388,
          0.029218619430445982,
          0.03189715454196966,
          0.03117633951419944,
          0.027413860978993277,
          0.025273206810966217,
          0.02744188567700614,
          0.02994853146119141,
          0.029084869875072812,
          0.02647287570007048,
          0.026549274711964308,
          0.02890653728848796,
          0.029471135751934555,
          0.027612586577242294,
          0.02631646348967451,
          0.0278335272979152,
          0.02971774387606115,
          0.029067926066532777,
          0.026499266565505327,
          0.025720668841283247,
          0.028234689791701885,
          0.030352954483750808,
          0.028957069525954282,
          0.025280288974421646,
          0.024214886382820582,
          0.026868462516581617,
          0.0286461743141687,
          0.027138847178618614,
          0.02485914235082956,
          0.025589833297674967,
          0.027838257960473293,
          0.0278872063228352,
          0.025824307907591614,
          0.024975387905855635,
          0.026823844946267276,
          0.02838935678277194,
          0.027325679948065264,
          0.02479106847063574,
          0.02459232772274075,
          0.027294251878478178,
          0.0288579840262014,
          0.02697818949175191,
          0.023567628910912714,
          0.023631468139960848,
          0.027502542381092336,
          0.029502621427764372,
          0.026634976066165657,
          0.021967291901081706,
          0.02171369984765754,
          0.025063248458200477,
          0.02618957747266988,
          0.024262214445515795,
          0.02329840114557728,
          0.024879484805284666,
          0.02596273181123149,
          0.025066837975847925,
          0.023957946867749085,
          0.024764512275269886,
          0.02625761406380528,
          0.02608971930804288,
          0.024292667722302187,
          0.023268559394783377,
          0.025072756334492442,
          0.02751903739379632,
          0.027153228512157734,
          0.023813314393192047,
          0.020969289851663454,
          0.022175212216165266,
          0.024921025639026866,
          0.024947870769093636,
          0.0227837745304667,
          0.022312367551055718,
          0.02412680889522611,
          0.024949756481131517,
          0.02372455171587106,
          0.02249870686599902,
          0.02346061782985824,
          0.025111361655897037,
          0.02488747954596764,
          0.022886849581847054,
          0.021814366357941123,
          0.02365465778814776,
          0.025934663579445003,
          0.02535928828739683,
          0.022138506812666808,
          0.020086948896487163,
          0.021763897378959264,
          0.02402758102712743,
          0.023506550352530964,
          0.021340937391130268,
          0.021259037265517408,
          0.023165148305379916,
          0.023730902218086238,
          0.022305891367277477,
          0.02120066431786276,
          0.022351036466745047,
          0.023924091642794965,
          0.0235009891044407,
          0.021437828817469796,
          0.020636679776619878,
          0.02261431042930822,
          0.024559432106561578,
          0.023636119345935864,
          0.020532377352072164,
          0.019197624135048538,
          0.0211931901537416,
          0.022977240878183258,
          0.02202816665172169,
          0.020011188880093476,
          0.020319552391421206,
          0.02220465200208167,
          0.02247389438622202,
          0.020898436888408995,
          0.020008810622781974,
          0.021352251093118405,
          0.022769570551908386,
          0.022111016144897775,
          0.020035638049565995,
          0.019564351812108055,
          0.021662477469157494,
          0.023250516456620664,
          0.02200437303198022,
          0.019061975881971626,
          0.01834886986969606,
          0.02052488847702975,
          0.021852018102074305,
          0.02057746976531892,
          0.01881781105692084,
          0.019474223636178827,
          0.021229569971464708,
          0.021202464982657297,
          0.019541905357674198,
          0.018916259316712373,
          0.020414697368479853,
          0.021621978443607286,
          0.0207323754268159,
          0.01870772716618199,
          0.018577812985551993,
          0.020744268169801627,
          0.021973752712920954,
          0.02045294728844777,
          0.017714863339051166,
          0.017760452230299487,
          0.020875798059518856,
          0.022506554143312804,
          0.02020405989880942,
          0.016483453379363914,
          0.01620553308915288,
          0.018814649974204307,
          0.019784174306358076,
          0.01826292157820908,
          0.017441230188587217,
          0.018678827319769876,
          0.019582080820103827,
          0.018898246420919477,
          0.01798501994930179,
          0.018586939248354972,
          0.019792883418216545,
          0.01970443112699013,
          0.01829157596840841,
          0.017411912036356194,
          0.018786058581651402,
          0.020782751600482288,
          0.02059686592627135,
          0.017983589581612003,
          0.015581886160244385,
          0.016408543749664724,
          0.01866913426742345,
          0.01882333513857039,
          0.017097956940330374,
          0.016581173182818282,
          0.017994140593272104,
          0.018765423617220826,
          0.0178547999483346,
          0.016771873832037484,
          0.01743246099327074,
          0.01882025830827436,
          0.018768980791147697,
          0.017204217932474397,
          0.01618847168598365,
          0.01752985402667585,
          0.01946035922947874,
          0.019192286373412932,
          0.016680807571944286,
          0.014827276754547054,
          0.01600895853260663,
          0.017958551559992805,
          0.017709913086051285,
          0.015924414148302354,
          0.015663038847447557,
          0.01718633471116995,
          0.017807356447232796,
          0.016738528623149153,
          0.01569419961262975,
          0.016483882267429785,
          0.017853939599682796,
          0.017679338272309348,
          0.016053207924046735,
          0.015213426034770591,
          0.0166651576415081,
          0.01836455606997322,
          0.017833943934037647,
          0.015391728362755737,
          0.014094533378038916,
          0.015570752140307783,
          0.01717978600588106,
          0.016575921686201527,
          0.014825304632505485,
          0.014853516136858558,
          0.01643605021220763,
          0.016865894500317804,
          0.015646261683023424,
          0.014697328654255687,
          0.015638720239179844,
          0.016955410334919995,
          0.01662903733400934,
          0.014953194185368784,
          0.014316553665278876,
          0.015875198888068865,
          0.017340375230405238,
          0.01657113533884379,
          0.01422747569196006,
          0.013514902990197713,
          0.015798241025937514,
          0.017817405858163556,
          0.016633780379297414,
          0.013450370177460941,
          0.012293262863403782,
          0.014536616841483076,
          0.016700651492052156,
          0.015924468354393307,
          0.013283794171615848,
          0.012503260006767623,
          0.014386705874420333,
          0.015637752747249316,
          0.014638825251140807,
          0.01334657631936446,
          0.01397066522656118,
          0.01522096973060833,
          0.015057153191172769,
          0.01390497387496627,
          0.013794712031380645,
          0.01499629869309917,
          0.015577708678496774,
          0.014674574120051272,
          0.013327044037026997,
          0.013690047676001092,
          0.015510270442306446,
          0.016188432929321307,
          0.014648533259712592,
          0.012352887950465128,
          0.012319449190385552,
          0.014225790620188356,
          0.014933166032485186,
          0.013665980173475045,
          0.012583188163289905,
          0.01343719658516463,
          0.014620701532961185,
          0.014284877822430082,
          0.01299794468231016,
          0.01291558487313503,
          0.014230419778357007,
          0.014838276294691399,
          0.013850569579097872,
          0.012438242299641605,
          0.012836625239816477,
          0.014621501664736568,
          0.015156650608822235,
          0.01358993423448589,
          0.011611723890185532,
          0.01224254811810178,
          0.014848086465401809,
          0.01568040462136565,
          0.013426934974254913,
          0.010961758900135916,
          0.010817604315106638,
          0.012146776220415729,
          0.013145425116298454,
          0.01290510837079024,
          0.012228830896286666,
          0.012592630618597661,
          0.013890706455412011,
          0.014387784467003863,
          0.013302528311656977,
          0.011609783943691124,
          0.011530748422023568,
          0.013082336189820255,
          0.013847161935012554,
          0.012800988832376556,
          0.011364449058705508,
          0.011821150791910161,
          0.013403409849383457,
          0.013621600763641797,
          0.012171905955127904,
          0.011077895670259756,
          0.012067148575168501,
          0.013540543368792833,
          0.013274079914610486,
          0.01154454057810276,
          0.010870106383746228,
          0.01232695696495696,
          0.013590406020250143,
          0.012807562621274308,
          0.010888737375117084,
          0.010722866404303498,
          0.012549605151841276,
          0.013473815752035566,
          0.012223094402846356,
          0.010418642539651286,
          0.010874450229297124,
          0.012883048903771122,
          0.013323916048639707,
          0.011524564172671376,
          0.009887409477517048,
          0.010849090153216527,
          0.012730722062190367,
          0.012727419604556273,
          0.010925356394401835,
          0.009996743916524475,
          0.011471011507989046,
          0.013021855822261888,
          0.012374702246270602,
          0.010374695951016463,
          0.009884762111176393,
          0.011499401762300987,
          0.012620952879356759,
          0.011699661154642767,
          0.010010984871536397,
          0.010231116845214208,
          0.0120583603903357,
          0.012650094657202087,
          0.011144639370872168,
          0.009519876793558646,
          0.0102341472067024,
          0.012046416865882273,
          0.012200169636927171,
          0.010531731755836172,
          0.009428260699378828,
          0.010617154582057519,
          0.012148850502330036,
          0.01170700169956858,
          0.009793184115203234,
          0.009051029847874746,
          0.010333108485629697,
          0.01138265501174907,
          0.010684841164766751,
          0.009187442278141267,
          0.00910797251695967,
          0.01048641859109322,
          0.011091554915887388,
          0.009926349708036337,
          0.008550115878642104,
          0.008424021152282843,
          0.009032693411949793,
          0.009361820118460311,
          0.009043385153169043,
          0.008658887494560154,
          0.009213419725146626,
          0.010470766324672245,
          0.010938781091470132,
          0.009816703617794386,
          0.008046454872825373,
          0.007225170968334108,
          0.007208229042101222,
          0.007232796852141767,
          0.007454922276644436,
          0.007678168633606949,
          0.007561753801035806,
          0.007407895716141082,
          0.007774447287144365,
          0.008572016599811591,
          0.008924896001144702,
          0.008302142081132634,
          0.0071943142682346405,
          0.006628668731601632,
          0.006581809389521737,
          0.00654658221669024,
          0.0066708695302770404,
          0.007273482223792324,
          0.008155113675550867,
          0.008541941223574902,
          0.008042212269709852,
          0.007192851600133812,
          0.00682642801735596,
          0.006780018262720853,
          0.006512544636615087,
          0.0060213085230498365,
          0.005613632017058631,
          0.005636138426218269,
          0.006076174553314658,
          0.006645960915733,
          0.006924700548867871,
          0.006650498472457823,
          0.006004572313288793,
          0.005607140856714093,
          0.006040884778515132,
          0.006885024912540115,
          0.0071929120822904116,
          0.006590535594182574,
          0.005539525319377727,
          0.00499201116649563,
          0.005172606182921271,
          0.005549383884320736,
          0.0058145784719005325,
          0.005986362854316782,
          0.006051362954887018,
          0.005954766285727184,
          0.0058293266739395935,
          0.005816907748358477,
          0.005824014934437464,
          0.00569126108092205,
          0.00540928733888606,
          0.0052130916140493725,
          0.005133620420678692,
          0.005182165565429309,
          0.005356611264031509,
          0.005445974271671313,
          0.0054137527233497846,
          0.005290591364174144,
          0.005178369645651388,
          0.005255210941091854,
          0.005480442520316048,
          0.005571328042171599,
          0.0053639401847261755,
          0.0049180856376427615,
          0.00470806345345287,
          0.004617229493618172,
          0.004333690680134518,
          0.004163061677066077,
          0.004379963622933452,
          0.004976778263304286,
          0.0055790743894602954,
          0.005667197830154406,
          0.005144263146553806,
          0.004464462291644752,
          0.004029137178203966,
          0.0039018074934444595,
          0.003879116827498253,
          0.003956322315367111,
          0.004180871129803338,
          0.004412382211351678,
          0.004493538649675863,
          0.0046064788785500944,
          0.00492642090308073,
          0.0051758498862434065,
          0.005071882668492533,
          0.0046449324753003885,
          0.004487333555000187,
          0.0045182153085364515,
          0.00426674694369051,
          0.003961881269049172,
          0.0037922048299213517,
          0.0038105494036986065,
          0.003986037683080872,
          0.0042043657779847485,
          0.0042698116558624434,
          0.004092803968636018,
          0.003805994207974241,
          0.0036318599961507334,
          0.0036477790400424996,
          0.0036928333576293016,
          0.003647417619865093,
          0.0035913386884024482,
          0.0036812699289412282,
          0.0038529087151030154,
          0.003912256558821017,
          0.003815436237649124,
          0.003721935239940811,
          0.003763848413129114,
          0.0038638080433911555,
          0.003893584811209897,
          0.0038709207047263623,
          0.003845126496139598,
          0.003900517136103755,
          0.004028769790687057,
          0.004015408276784968,
          0.003820799136113265,
          0.003560520248058281,
          0.003398730311309694,
          0.003417234287927694,
          0.003472303099807398,
          0.003431494127090786,
          0.0033072907161354327,
          0.0032186051828645484,
          0.003242366177523094,
          0.003299738709375221,
          0.0034045948915720618,
          0.0036889751029161037,
          0.004102533885860453,
          0.0044019979821958806,
          0.00442471596345499,
          0.004132635520438437,
          0.0035670658067536226,
          0.0031685461275572156,
          0.0031072978343393834,
          0.0030996904354643117,
          0.0030898406167133804,
          0.0030765858357867807,
          0.0030624944341731833,
          0.0030506616363758375,
          0.0030428831796588058,
          0.0030396580985514537,
          0.0030401914576780632,
          0.0030423970337891456,
          0.003042899947809876,
          0.0030370987669226497,
          0.0032000640332006704,
          0.0036289137781375415,
          0.0040589308056716835,
          0.004205588768677172,
          0.003987166063548367,
          0.0034801494801718433,
          0.0032143732642261375,
          0.0032687719544413503,
          0.003224353192795169,
          0.0030998768642334393,
          0.002973794732925873,
          0.0029143864285927972,
          0.0029054044448056,
          0.0028957456404819833,
          0.0029357329139553237,
          0.0030292146232367037,
          0.0031023569090781666,
          0.003100610333412339,
          0.0030250619346683235,
          0.0029283396599137754,
          0.002848001387650698,
          0.002811457050573061,
          0.00281384911941433,
          0.0028526325361285187,
          0.002927570196567836,
          0.003006243930310009,
          0.0030516976498635644,
          0.0030225534884685615,
          0.0029315850508153138,
          0.0028302296354004415,
          0.0027718404313127874,
          0.002756510478839457,
          0.0027456888306894717,
          0.002735432787499951,
          0.0027417371083862017,
          0.002779808559511596,
          0.0028214367715922966,
          0.002824602078264111,
          0.0027825020714945287,
          0.0027217818534237908,
          0.0026872535339208916,
          0.0026791229674419307,
          0.0027156553215959404,
          0.002850457361529738,
          0.003047533282994915,
          0.0032266919766124834,
          0.003306316934529107,
          0.0031951838069438783,
          0.0029232951143110153,
          0.0026866115836060157,
          0.002593707534931235,
          0.002576215348391544,
          0.002571677013012674,
          0.002572619525787619,
          0.00259063266123087,
          0.002648537594185749,
          0.002715236096494595,
          0.0027294124240222245,
          0.002688721209550503,
          0.0026291656727719056,
          0.0025934006669817385,
          0.0026075500445598755,
          0.002645817140353114,
          0.002676060498168353,
          0.002711719576782134,
          0.0027632921968012685,
          0.002790973276783846,
          0.0027446035945840126,
          0.002642942105915434,
          0.002547059181178574,
          0.002514709475750077,
          0.0025283675764756494,
          0.0025263183453186305,
          0.0024988018230065966,
          0.0024529613327101975,
          0.0024163737371956755,
          0.002404552951500145,
          0.002442062309968697,
          0.0027267568405223075,
          0.0032387213142004477,
          0.0036407161922927677,
          0.0037011085836650527,
          0.0033290110937477524,
          0.0026851185984719276,
          0.0023339415332714166,
          0.0023261774711366406,
          0.0023184934221144255,
          0.002310514884808481,
          0.0023026096105756826,
          0.0022948064363267086,
          0.0022871035243902217,
          0.002279513787632691,
          0.0022720648644717354,
          0.0022647990943609787,
          0.002257773493743035,
          0.0022791627185613384,
          0.0024489121336825448,
          0.0027727424021800158,
          0.0030786819199124533,
          0.003226461110425591,
          0.003138907296987022,
          0.0028018408863049104,
          0.00239013612241198,
          0.0022057299072297146,
          0.0022024747649533414,
          0.00219815136489676,
          0.002192902286945279,
          0.002187321629875381,
          0.00218134466354208,
          0.002174826519929877,
          0.0021677390932170397,
          0.0021601708603196683,
          0.0021523267056201083,
          0.0021445277505004754,
          0.0021372111885054053,
          0.0021306353469911646,
          0.0021232352592942,
          0.002114170939307,
          0.00210510954254655,
          0.0020975533551795024,
          0.0020922825490820762,
          0.0020893561945455794,
          0.0020881132338105676,
          0.00208717341874967,
          0.0020865511156086774,
          0.0021410615649853555,
          0.002547736428874704,
          0.0033448406778612055,
          0.004104896763893352,
          0.0044637518092306054,
          0.004219680037616896,
          0.003333178354096637,
          0.0023749225043620007,
          0.002013100558827707,
          0.0020082647964089063,
          0.0020020136087587083,
          0.001993436856280534,
          0.001983315390411195,
          0.0019735621939036855,
          0.0019655771312900206,
          0.0019600688512749222,
          0.0019570555921859323,
          0.001955865969449572,
          0.00195513974537088,
          0.0019528285814695804,
          0.0019465697978173222,
          0.0019370884813372027,
          0.0019331242196265128,
          0.0019364990897687974,
          0.0019400618980055708,
          0.0019420135383187256,
          0.0019428021289310453,
          0.0019424610676422897,
          0.0019406094684220488,
          0.0019364525879666309,
          0.0019276795166188083,
          0.0019073150161875558,
          0.001877833426383113,
          0.0018546377528594821,
          0.001847325569104345,
          0.0018605852875987097,
          0.0018942010852200256,
          0.0019395846578640834,
          0.0019825611632175943,
          0.002002680069907459,
          0.001976875822339979,
          0.001913782654725917,
          0.0018445928534070331
         ],
         "yaxis": "y"
        }
       ],
       "layout": {
        "legend": {
         "tracegroupgap": 0
        },
        "margin": {
         "t": 60
        },
        "template": {
         "data": {
          "bar": [
           {
            "error_x": {
             "color": "#2a3f5f"
            },
            "error_y": {
             "color": "#2a3f5f"
            },
            "marker": {
             "line": {
              "color": "#E5ECF6",
              "width": 0.5
             },
             "pattern": {
              "fillmode": "overlay",
              "size": 10,
              "solidity": 0.2
             }
            },
            "type": "bar"
           }
          ],
          "barpolar": [
           {
            "marker": {
             "line": {
              "color": "#E5ECF6",
              "width": 0.5
             },
             "pattern": {
              "fillmode": "overlay",
              "size": 10,
              "solidity": 0.2
             }
            },
            "type": "barpolar"
           }
          ],
          "carpet": [
           {
            "aaxis": {
             "endlinecolor": "#2a3f5f",
             "gridcolor": "white",
             "linecolor": "white",
             "minorgridcolor": "white",
             "startlinecolor": "#2a3f5f"
            },
            "baxis": {
             "endlinecolor": "#2a3f5f",
             "gridcolor": "white",
             "linecolor": "white",
             "minorgridcolor": "white",
             "startlinecolor": "#2a3f5f"
            },
            "type": "carpet"
           }
          ],
          "choropleth": [
           {
            "colorbar": {
             "outlinewidth": 0,
             "ticks": ""
            },
            "type": "choropleth"
           }
          ],
          "contour": [
           {
            "colorbar": {
             "outlinewidth": 0,
             "ticks": ""
            },
            "colorscale": [
             [
              0,
              "#0d0887"
             ],
             [
              0.1111111111111111,
              "#46039f"
             ],
             [
              0.2222222222222222,
              "#7201a8"
             ],
             [
              0.3333333333333333,
              "#9c179e"
             ],
             [
              0.4444444444444444,
              "#bd3786"
             ],
             [
              0.5555555555555556,
              "#d8576b"
             ],
             [
              0.6666666666666666,
              "#ed7953"
             ],
             [
              0.7777777777777778,
              "#fb9f3a"
             ],
             [
              0.8888888888888888,
              "#fdca26"
             ],
             [
              1,
              "#f0f921"
             ]
            ],
            "type": "contour"
           }
          ],
          "contourcarpet": [
           {
            "colorbar": {
             "outlinewidth": 0,
             "ticks": ""
            },
            "type": "contourcarpet"
           }
          ],
          "heatmap": [
           {
            "colorbar": {
             "outlinewidth": 0,
             "ticks": ""
            },
            "colorscale": [
             [
              0,
              "#0d0887"
             ],
             [
              0.1111111111111111,
              "#46039f"
             ],
             [
              0.2222222222222222,
              "#7201a8"
             ],
             [
              0.3333333333333333,
              "#9c179e"
             ],
             [
              0.4444444444444444,
              "#bd3786"
             ],
             [
              0.5555555555555556,
              "#d8576b"
             ],
             [
              0.6666666666666666,
              "#ed7953"
             ],
             [
              0.7777777777777778,
              "#fb9f3a"
             ],
             [
              0.8888888888888888,
              "#fdca26"
             ],
             [
              1,
              "#f0f921"
             ]
            ],
            "type": "heatmap"
           }
          ],
          "heatmapgl": [
           {
            "colorbar": {
             "outlinewidth": 0,
             "ticks": ""
            },
            "colorscale": [
             [
              0,
              "#0d0887"
             ],
             [
              0.1111111111111111,
              "#46039f"
             ],
             [
              0.2222222222222222,
              "#7201a8"
             ],
             [
              0.3333333333333333,
              "#9c179e"
             ],
             [
              0.4444444444444444,
              "#bd3786"
             ],
             [
              0.5555555555555556,
              "#d8576b"
             ],
             [
              0.6666666666666666,
              "#ed7953"
             ],
             [
              0.7777777777777778,
              "#fb9f3a"
             ],
             [
              0.8888888888888888,
              "#fdca26"
             ],
             [
              1,
              "#f0f921"
             ]
            ],
            "type": "heatmapgl"
           }
          ],
          "histogram": [
           {
            "marker": {
             "pattern": {
              "fillmode": "overlay",
              "size": 10,
              "solidity": 0.2
             }
            },
            "type": "histogram"
           }
          ],
          "histogram2d": [
           {
            "colorbar": {
             "outlinewidth": 0,
             "ticks": ""
            },
            "colorscale": [
             [
              0,
              "#0d0887"
             ],
             [
              0.1111111111111111,
              "#46039f"
             ],
             [
              0.2222222222222222,
              "#7201a8"
             ],
             [
              0.3333333333333333,
              "#9c179e"
             ],
             [
              0.4444444444444444,
              "#bd3786"
             ],
             [
              0.5555555555555556,
              "#d8576b"
             ],
             [
              0.6666666666666666,
              "#ed7953"
             ],
             [
              0.7777777777777778,
              "#fb9f3a"
             ],
             [
              0.8888888888888888,
              "#fdca26"
             ],
             [
              1,
              "#f0f921"
             ]
            ],
            "type": "histogram2d"
           }
          ],
          "histogram2dcontour": [
           {
            "colorbar": {
             "outlinewidth": 0,
             "ticks": ""
            },
            "colorscale": [
             [
              0,
              "#0d0887"
             ],
             [
              0.1111111111111111,
              "#46039f"
             ],
             [
              0.2222222222222222,
              "#7201a8"
             ],
             [
              0.3333333333333333,
              "#9c179e"
             ],
             [
              0.4444444444444444,
              "#bd3786"
             ],
             [
              0.5555555555555556,
              "#d8576b"
             ],
             [
              0.6666666666666666,
              "#ed7953"
             ],
             [
              0.7777777777777778,
              "#fb9f3a"
             ],
             [
              0.8888888888888888,
              "#fdca26"
             ],
             [
              1,
              "#f0f921"
             ]
            ],
            "type": "histogram2dcontour"
           }
          ],
          "mesh3d": [
           {
            "colorbar": {
             "outlinewidth": 0,
             "ticks": ""
            },
            "type": "mesh3d"
           }
          ],
          "parcoords": [
           {
            "line": {
             "colorbar": {
              "outlinewidth": 0,
              "ticks": ""
             }
            },
            "type": "parcoords"
           }
          ],
          "pie": [
           {
            "automargin": true,
            "type": "pie"
           }
          ],
          "scatter": [
           {
            "fillpattern": {
             "fillmode": "overlay",
             "size": 10,
             "solidity": 0.2
            },
            "type": "scatter"
           }
          ],
          "scatter3d": [
           {
            "line": {
             "colorbar": {
              "outlinewidth": 0,
              "ticks": ""
             }
            },
            "marker": {
             "colorbar": {
              "outlinewidth": 0,
              "ticks": ""
             }
            },
            "type": "scatter3d"
           }
          ],
          "scattercarpet": [
           {
            "marker": {
             "colorbar": {
              "outlinewidth": 0,
              "ticks": ""
             }
            },
            "type": "scattercarpet"
           }
          ],
          "scattergeo": [
           {
            "marker": {
             "colorbar": {
              "outlinewidth": 0,
              "ticks": ""
             }
            },
            "type": "scattergeo"
           }
          ],
          "scattergl": [
           {
            "marker": {
             "colorbar": {
              "outlinewidth": 0,
              "ticks": ""
             }
            },
            "type": "scattergl"
           }
          ],
          "scattermapbox": [
           {
            "marker": {
             "colorbar": {
              "outlinewidth": 0,
              "ticks": ""
             }
            },
            "type": "scattermapbox"
           }
          ],
          "scatterpolar": [
           {
            "marker": {
             "colorbar": {
              "outlinewidth": 0,
              "ticks": ""
             }
            },
            "type": "scatterpolar"
           }
          ],
          "scatterpolargl": [
           {
            "marker": {
             "colorbar": {
              "outlinewidth": 0,
              "ticks": ""
             }
            },
            "type": "scatterpolargl"
           }
          ],
          "scatterternary": [
           {
            "marker": {
             "colorbar": {
              "outlinewidth": 0,
              "ticks": ""
             }
            },
            "type": "scatterternary"
           }
          ],
          "surface": [
           {
            "colorbar": {
             "outlinewidth": 0,
             "ticks": ""
            },
            "colorscale": [
             [
              0,
              "#0d0887"
             ],
             [
              0.1111111111111111,
              "#46039f"
             ],
             [
              0.2222222222222222,
              "#7201a8"
             ],
             [
              0.3333333333333333,
              "#9c179e"
             ],
             [
              0.4444444444444444,
              "#bd3786"
             ],
             [
              0.5555555555555556,
              "#d8576b"
             ],
             [
              0.6666666666666666,
              "#ed7953"
             ],
             [
              0.7777777777777778,
              "#fb9f3a"
             ],
             [
              0.8888888888888888,
              "#fdca26"
             ],
             [
              1,
              "#f0f921"
             ]
            ],
            "type": "surface"
           }
          ],
          "table": [
           {
            "cells": {
             "fill": {
              "color": "#EBF0F8"
             },
             "line": {
              "color": "white"
             }
            },
            "header": {
             "fill": {
              "color": "#C8D4E3"
             },
             "line": {
              "color": "white"
             }
            },
            "type": "table"
           }
          ]
         },
         "layout": {
          "annotationdefaults": {
           "arrowcolor": "#2a3f5f",
           "arrowhead": 0,
           "arrowwidth": 1
          },
          "autotypenumbers": "strict",
          "coloraxis": {
           "colorbar": {
            "outlinewidth": 0,
            "ticks": ""
           }
          },
          "colorscale": {
           "diverging": [
            [
             0,
             "#8e0152"
            ],
            [
             0.1,
             "#c51b7d"
            ],
            [
             0.2,
             "#de77ae"
            ],
            [
             0.3,
             "#f1b6da"
            ],
            [
             0.4,
             "#fde0ef"
            ],
            [
             0.5,
             "#f7f7f7"
            ],
            [
             0.6,
             "#e6f5d0"
            ],
            [
             0.7,
             "#b8e186"
            ],
            [
             0.8,
             "#7fbc41"
            ],
            [
             0.9,
             "#4d9221"
            ],
            [
             1,
             "#276419"
            ]
           ],
           "sequential": [
            [
             0,
             "#0d0887"
            ],
            [
             0.1111111111111111,
             "#46039f"
            ],
            [
             0.2222222222222222,
             "#7201a8"
            ],
            [
             0.3333333333333333,
             "#9c179e"
            ],
            [
             0.4444444444444444,
             "#bd3786"
            ],
            [
             0.5555555555555556,
             "#d8576b"
            ],
            [
             0.6666666666666666,
             "#ed7953"
            ],
            [
             0.7777777777777778,
             "#fb9f3a"
            ],
            [
             0.8888888888888888,
             "#fdca26"
            ],
            [
             1,
             "#f0f921"
            ]
           ],
           "sequentialminus": [
            [
             0,
             "#0d0887"
            ],
            [
             0.1111111111111111,
             "#46039f"
            ],
            [
             0.2222222222222222,
             "#7201a8"
            ],
            [
             0.3333333333333333,
             "#9c179e"
            ],
            [
             0.4444444444444444,
             "#bd3786"
            ],
            [
             0.5555555555555556,
             "#d8576b"
            ],
            [
             0.6666666666666666,
             "#ed7953"
            ],
            [
             0.7777777777777778,
             "#fb9f3a"
            ],
            [
             0.8888888888888888,
             "#fdca26"
            ],
            [
             1,
             "#f0f921"
            ]
           ]
          },
          "colorway": [
           "#636efa",
           "#EF553B",
           "#00cc96",
           "#ab63fa",
           "#FFA15A",
           "#19d3f3",
           "#FF6692",
           "#B6E880",
           "#FF97FF",
           "#FECB52"
          ],
          "font": {
           "color": "#2a3f5f"
          },
          "geo": {
           "bgcolor": "white",
           "lakecolor": "white",
           "landcolor": "#E5ECF6",
           "showlakes": true,
           "showland": true,
           "subunitcolor": "white"
          },
          "hoverlabel": {
           "align": "left"
          },
          "hovermode": "closest",
          "mapbox": {
           "style": "light"
          },
          "paper_bgcolor": "white",
          "plot_bgcolor": "#E5ECF6",
          "polar": {
           "angularaxis": {
            "gridcolor": "white",
            "linecolor": "white",
            "ticks": ""
           },
           "bgcolor": "#E5ECF6",
           "radialaxis": {
            "gridcolor": "white",
            "linecolor": "white",
            "ticks": ""
           }
          },
          "scene": {
           "xaxis": {
            "backgroundcolor": "#E5ECF6",
            "gridcolor": "white",
            "gridwidth": 2,
            "linecolor": "white",
            "showbackground": true,
            "ticks": "",
            "zerolinecolor": "white"
           },
           "yaxis": {
            "backgroundcolor": "#E5ECF6",
            "gridcolor": "white",
            "gridwidth": 2,
            "linecolor": "white",
            "showbackground": true,
            "ticks": "",
            "zerolinecolor": "white"
           },
           "zaxis": {
            "backgroundcolor": "#E5ECF6",
            "gridcolor": "white",
            "gridwidth": 2,
            "linecolor": "white",
            "showbackground": true,
            "ticks": "",
            "zerolinecolor": "white"
           }
          },
          "shapedefaults": {
           "line": {
            "color": "#2a3f5f"
           }
          },
          "ternary": {
           "aaxis": {
            "gridcolor": "white",
            "linecolor": "white",
            "ticks": ""
           },
           "baxis": {
            "gridcolor": "white",
            "linecolor": "white",
            "ticks": ""
           },
           "bgcolor": "#E5ECF6",
           "caxis": {
            "gridcolor": "white",
            "linecolor": "white",
            "ticks": ""
           }
          },
          "title": {
           "x": 0.05
          },
          "xaxis": {
           "automargin": true,
           "gridcolor": "white",
           "linecolor": "white",
           "ticks": "",
           "title": {
            "standoff": 15
           },
           "zerolinecolor": "white",
           "zerolinewidth": 2
          },
          "yaxis": {
           "automargin": true,
           "gridcolor": "white",
           "linecolor": "white",
           "ticks": "",
           "title": {
            "standoff": 15
           },
           "zerolinecolor": "white",
           "zerolinewidth": 2
          }
         }
        },
        "title": {
         "text": "",
         "x": 0.5
        },
        "xaxis": {
         "anchor": "y",
         "domain": [
          0,
          1
         ],
         "title": {
          "text": "Year"
         }
        },
        "yaxis": {
         "anchor": "x",
         "domain": [
          0,
          1
         ],
         "title": {
          "text": "Incidence per 100,000 population"
         }
        }
       }
      }
     },
     "metadata": {},
     "output_type": "display_data"
    }
   ],
   "source": [
    "inci_plot = px.line(\n",
    "    derived_df_0,\n",
    "    x=derived_df_0.index,\n",
    "    y=\"incidence\",\n",
    ")\n",
    "inci_plot.update_layout(\n",
    "    title=\"\", title_x=0.5, xaxis_title=\"Year\", yaxis_title=\"Incidence per 100,000 population\"\n",
    ")\n",
    "inci_plot.show()"
   ]
  },
  {
   "cell_type": "code",
   "execution_count": 18,
   "metadata": {},
   "outputs": [
    {
     "data": {
      "application/vnd.plotly.v1+json": {
       "config": {
        "plotlyServerURL": "https://plot.ly"
       },
       "data": [
        {
         "hovertemplate": "index=%{x}<br>prevalence_infectious=%{y}<extra></extra>",
         "legendgroup": "",
         "line": {
          "color": "#636efa",
          "dash": "solid"
         },
         "marker": {
          "symbol": "circle"
         },
         "mode": "lines",
         "name": "",
         "showlegend": false,
         "type": "scattergl",
         "x": [
          1900,
          1900.1,
          1900.2,
          1900.3,
          1900.4,
          1900.5,
          1900.6,
          1900.7,
          1900.8,
          1900.9,
          1901,
          1901.1,
          1901.2,
          1901.3,
          1901.4,
          1901.5,
          1901.6,
          1901.7,
          1901.8,
          1901.9,
          1902,
          1902.1,
          1902.2,
          1902.3,
          1902.4,
          1902.5,
          1902.6,
          1902.7,
          1902.8,
          1902.9,
          1903,
          1903.1,
          1903.2,
          1903.3,
          1903.4,
          1903.5,
          1903.6,
          1903.7,
          1903.8,
          1903.9,
          1904,
          1904.1,
          1904.2,
          1904.3,
          1904.4,
          1904.5,
          1904.6,
          1904.7,
          1904.8,
          1904.9,
          1905,
          1905.1,
          1905.2,
          1905.3,
          1905.4,
          1905.5,
          1905.6,
          1905.7,
          1905.8,
          1905.9,
          1906,
          1906.1,
          1906.2,
          1906.3,
          1906.4,
          1906.5,
          1906.6,
          1906.7,
          1906.8,
          1906.9,
          1907,
          1907.1,
          1907.2,
          1907.3,
          1907.4,
          1907.5,
          1907.6,
          1907.7,
          1907.8,
          1907.9,
          1908,
          1908.1,
          1908.2,
          1908.3,
          1908.4,
          1908.5,
          1908.6,
          1908.7,
          1908.8,
          1908.9,
          1909,
          1909.1,
          1909.2,
          1909.3,
          1909.4,
          1909.5,
          1909.6,
          1909.7,
          1909.8,
          1909.9,
          1910,
          1910.1,
          1910.2,
          1910.3,
          1910.4,
          1910.5,
          1910.6,
          1910.7,
          1910.8,
          1910.9,
          1911,
          1911.1,
          1911.2,
          1911.3,
          1911.4,
          1911.5,
          1911.6,
          1911.7,
          1911.8,
          1911.9,
          1912,
          1912.1,
          1912.2,
          1912.3,
          1912.4,
          1912.5,
          1912.6,
          1912.7,
          1912.8,
          1912.9,
          1913,
          1913.1,
          1913.2,
          1913.3,
          1913.4,
          1913.5,
          1913.6,
          1913.7,
          1913.8,
          1913.9,
          1914,
          1914.1,
          1914.2,
          1914.3,
          1914.4,
          1914.5,
          1914.6,
          1914.7,
          1914.8,
          1914.9,
          1915,
          1915.1,
          1915.2,
          1915.3,
          1915.4,
          1915.5,
          1915.6,
          1915.7,
          1915.8,
          1915.9,
          1916,
          1916.1,
          1916.2,
          1916.3,
          1916.4,
          1916.5,
          1916.6,
          1916.7,
          1916.8,
          1916.9,
          1917,
          1917.1,
          1917.2,
          1917.3,
          1917.4,
          1917.5,
          1917.6,
          1917.7,
          1917.8,
          1917.9,
          1918,
          1918.1,
          1918.2,
          1918.3,
          1918.4,
          1918.5,
          1918.6,
          1918.7,
          1918.8,
          1918.9,
          1919,
          1919.1,
          1919.2,
          1919.3,
          1919.4,
          1919.5,
          1919.6,
          1919.7,
          1919.8,
          1919.9,
          1920,
          1920.1,
          1920.2,
          1920.3,
          1920.4,
          1920.5,
          1920.6,
          1920.7,
          1920.8,
          1920.9,
          1921,
          1921.1,
          1921.2,
          1921.3,
          1921.4,
          1921.5,
          1921.6,
          1921.7,
          1921.8,
          1921.9,
          1922,
          1922.1,
          1922.2,
          1922.3,
          1922.4,
          1922.5,
          1922.6,
          1922.7,
          1922.8,
          1922.9,
          1923,
          1923.1,
          1923.2,
          1923.3,
          1923.4,
          1923.5,
          1923.6,
          1923.7,
          1923.8,
          1923.9,
          1924,
          1924.1,
          1924.2,
          1924.3,
          1924.4,
          1924.5,
          1924.6,
          1924.7,
          1924.8,
          1924.9,
          1925,
          1925.1,
          1925.2,
          1925.3,
          1925.4,
          1925.5,
          1925.6,
          1925.7,
          1925.8,
          1925.9,
          1926,
          1926.1,
          1926.2,
          1926.3,
          1926.4,
          1926.5,
          1926.6,
          1926.7,
          1926.8,
          1926.9,
          1927,
          1927.1,
          1927.2,
          1927.3,
          1927.4,
          1927.5,
          1927.6,
          1927.7,
          1927.8,
          1927.9,
          1928,
          1928.1,
          1928.2,
          1928.3,
          1928.4,
          1928.5,
          1928.6,
          1928.7,
          1928.8,
          1928.9,
          1929,
          1929.1,
          1929.2,
          1929.3,
          1929.4,
          1929.5,
          1929.6,
          1929.7,
          1929.8,
          1929.9,
          1930,
          1930.1,
          1930.2,
          1930.3,
          1930.4,
          1930.5,
          1930.6,
          1930.7,
          1930.8,
          1930.9,
          1931,
          1931.1,
          1931.2,
          1931.3,
          1931.4,
          1931.5,
          1931.6,
          1931.7,
          1931.8,
          1931.9,
          1932,
          1932.1,
          1932.2,
          1932.3,
          1932.4,
          1932.5,
          1932.6,
          1932.7,
          1932.8,
          1932.9,
          1933,
          1933.1,
          1933.2,
          1933.3,
          1933.4,
          1933.5,
          1933.6,
          1933.7,
          1933.8,
          1933.9,
          1934,
          1934.1,
          1934.2,
          1934.3,
          1934.4,
          1934.5,
          1934.6,
          1934.7,
          1934.8,
          1934.9,
          1935,
          1935.1,
          1935.2,
          1935.3,
          1935.4,
          1935.5,
          1935.6,
          1935.7,
          1935.8,
          1935.9,
          1936,
          1936.1,
          1936.2,
          1936.3,
          1936.4,
          1936.5,
          1936.6,
          1936.7,
          1936.8,
          1936.9,
          1937,
          1937.1,
          1937.2,
          1937.3,
          1937.4,
          1937.5,
          1937.6,
          1937.7,
          1937.8,
          1937.9,
          1938,
          1938.1,
          1938.2,
          1938.3,
          1938.4,
          1938.5,
          1938.6,
          1938.7,
          1938.8,
          1938.9,
          1939,
          1939.1,
          1939.2,
          1939.3,
          1939.4,
          1939.5,
          1939.6,
          1939.7,
          1939.8,
          1939.9,
          1940,
          1940.1,
          1940.2,
          1940.3,
          1940.4,
          1940.5,
          1940.6,
          1940.7,
          1940.8,
          1940.9,
          1941,
          1941.1,
          1941.2,
          1941.3,
          1941.4,
          1941.5,
          1941.6,
          1941.7,
          1941.8,
          1941.9,
          1942,
          1942.1,
          1942.2,
          1942.3,
          1942.4,
          1942.5,
          1942.6,
          1942.7,
          1942.8,
          1942.9,
          1943,
          1943.1,
          1943.2,
          1943.3,
          1943.4,
          1943.5,
          1943.6,
          1943.7,
          1943.8,
          1943.9,
          1944,
          1944.1,
          1944.2,
          1944.3,
          1944.4,
          1944.5,
          1944.6,
          1944.7,
          1944.8,
          1944.9,
          1945,
          1945.1,
          1945.2,
          1945.3,
          1945.4,
          1945.5,
          1945.6,
          1945.7,
          1945.8,
          1945.9,
          1946,
          1946.1,
          1946.2,
          1946.3,
          1946.4,
          1946.5,
          1946.6,
          1946.7,
          1946.8,
          1946.9,
          1947,
          1947.1,
          1947.2,
          1947.3,
          1947.4,
          1947.5,
          1947.6,
          1947.7,
          1947.8,
          1947.9,
          1948,
          1948.1,
          1948.2,
          1948.3,
          1948.4,
          1948.5,
          1948.6,
          1948.7,
          1948.8,
          1948.9,
          1949,
          1949.1,
          1949.2,
          1949.3,
          1949.4,
          1949.5,
          1949.6,
          1949.7,
          1949.8,
          1949.9,
          1950,
          1950.1,
          1950.2,
          1950.3,
          1950.4,
          1950.5,
          1950.6,
          1950.7,
          1950.8,
          1950.9,
          1951,
          1951.1,
          1951.2,
          1951.3,
          1951.4,
          1951.5,
          1951.6,
          1951.7,
          1951.8,
          1951.9,
          1952,
          1952.1,
          1952.2,
          1952.3,
          1952.4,
          1952.5,
          1952.6,
          1952.7,
          1952.8,
          1952.9,
          1953,
          1953.1,
          1953.2,
          1953.3,
          1953.4,
          1953.5,
          1953.6,
          1953.7,
          1953.8,
          1953.9,
          1954,
          1954.1,
          1954.2,
          1954.3,
          1954.4,
          1954.5,
          1954.6,
          1954.7,
          1954.8,
          1954.9,
          1955,
          1955.1,
          1955.2,
          1955.3,
          1955.4,
          1955.5,
          1955.6,
          1955.7,
          1955.8,
          1955.9,
          1956,
          1956.1,
          1956.2,
          1956.3,
          1956.4,
          1956.5,
          1956.6,
          1956.7,
          1956.8,
          1956.9,
          1957,
          1957.1,
          1957.2,
          1957.3,
          1957.4,
          1957.5,
          1957.6,
          1957.7,
          1957.8,
          1957.9,
          1958,
          1958.1,
          1958.2,
          1958.3,
          1958.4,
          1958.5,
          1958.6,
          1958.7,
          1958.8,
          1958.9,
          1959,
          1959.1,
          1959.2,
          1959.3,
          1959.4,
          1959.5,
          1959.6,
          1959.7,
          1959.8,
          1959.9,
          1960,
          1960.1,
          1960.2,
          1960.3,
          1960.4,
          1960.5,
          1960.6,
          1960.7,
          1960.8,
          1960.9,
          1961,
          1961.1,
          1961.2,
          1961.3,
          1961.4,
          1961.5,
          1961.6,
          1961.7,
          1961.8,
          1961.9,
          1962,
          1962.1,
          1962.2,
          1962.3,
          1962.4,
          1962.5,
          1962.6,
          1962.7,
          1962.8,
          1962.9,
          1963,
          1963.1,
          1963.2,
          1963.3,
          1963.4,
          1963.5,
          1963.6,
          1963.7,
          1963.8,
          1963.9,
          1964,
          1964.1,
          1964.2,
          1964.3,
          1964.4,
          1964.5,
          1964.6,
          1964.7,
          1964.8,
          1964.9,
          1965,
          1965.1,
          1965.2,
          1965.3,
          1965.4,
          1965.5,
          1965.6,
          1965.7,
          1965.8,
          1965.9,
          1966,
          1966.1,
          1966.2,
          1966.3,
          1966.4,
          1966.5,
          1966.6,
          1966.7,
          1966.8,
          1966.9,
          1967,
          1967.1,
          1967.2,
          1967.3,
          1967.4,
          1967.5,
          1967.6,
          1967.7,
          1967.8,
          1967.9,
          1968,
          1968.1,
          1968.2,
          1968.3,
          1968.4,
          1968.5,
          1968.6,
          1968.7,
          1968.8,
          1968.9,
          1969,
          1969.1,
          1969.2,
          1969.3,
          1969.4,
          1969.5,
          1969.6,
          1969.7,
          1969.8,
          1969.9,
          1970,
          1970.1,
          1970.2,
          1970.3,
          1970.4,
          1970.5,
          1970.6,
          1970.7,
          1970.8,
          1970.9,
          1971,
          1971.1,
          1971.2,
          1971.3,
          1971.4,
          1971.5,
          1971.6,
          1971.7,
          1971.8,
          1971.9,
          1972,
          1972.1,
          1972.2,
          1972.3,
          1972.4,
          1972.5,
          1972.6,
          1972.7,
          1972.8,
          1972.9,
          1973,
          1973.1,
          1973.2,
          1973.3,
          1973.4,
          1973.5,
          1973.6,
          1973.7,
          1973.8,
          1973.9,
          1974,
          1974.1,
          1974.2,
          1974.3,
          1974.4,
          1974.5,
          1974.6,
          1974.7,
          1974.8,
          1974.9,
          1975,
          1975.1,
          1975.2,
          1975.3,
          1975.4,
          1975.5,
          1975.6,
          1975.7,
          1975.8,
          1975.9,
          1976,
          1976.1,
          1976.2,
          1976.3,
          1976.4,
          1976.5,
          1976.6,
          1976.7,
          1976.8,
          1976.9,
          1977,
          1977.1,
          1977.2,
          1977.3,
          1977.4,
          1977.5,
          1977.6,
          1977.7,
          1977.8,
          1977.9,
          1978,
          1978.1,
          1978.2,
          1978.3,
          1978.4,
          1978.5,
          1978.6,
          1978.7,
          1978.8,
          1978.9,
          1979,
          1979.1,
          1979.2,
          1979.3,
          1979.4,
          1979.5,
          1979.6,
          1979.7,
          1979.8,
          1979.9,
          1980,
          1980.1,
          1980.2,
          1980.3,
          1980.4,
          1980.5,
          1980.6,
          1980.7,
          1980.8,
          1980.9,
          1981,
          1981.1,
          1981.2,
          1981.3,
          1981.4,
          1981.5,
          1981.6,
          1981.7,
          1981.8,
          1981.9,
          1982,
          1982.1,
          1982.2,
          1982.3,
          1982.4,
          1982.5,
          1982.6,
          1982.7,
          1982.8,
          1982.9,
          1983,
          1983.1,
          1983.2,
          1983.3,
          1983.4,
          1983.5,
          1983.6,
          1983.7,
          1983.8,
          1983.9,
          1984,
          1984.1,
          1984.2,
          1984.3,
          1984.4,
          1984.5,
          1984.6,
          1984.7,
          1984.8,
          1984.9,
          1985,
          1985.1,
          1985.2,
          1985.3,
          1985.4,
          1985.5,
          1985.6,
          1985.7,
          1985.8,
          1985.9,
          1986,
          1986.1,
          1986.2,
          1986.3,
          1986.4,
          1986.5,
          1986.6,
          1986.7,
          1986.8,
          1986.9,
          1987,
          1987.1,
          1987.2,
          1987.3,
          1987.4,
          1987.5,
          1987.6,
          1987.7,
          1987.8,
          1987.9,
          1988,
          1988.1,
          1988.2,
          1988.3,
          1988.4,
          1988.5,
          1988.6,
          1988.7,
          1988.8,
          1988.9,
          1989,
          1989.1,
          1989.2,
          1989.3,
          1989.4,
          1989.5,
          1989.6,
          1989.7,
          1989.8,
          1989.9,
          1990,
          1990.1,
          1990.2,
          1990.3,
          1990.4,
          1990.5,
          1990.6,
          1990.7,
          1990.8,
          1990.9,
          1991,
          1991.1,
          1991.2,
          1991.3,
          1991.4,
          1991.5,
          1991.6,
          1991.7,
          1991.8,
          1991.9,
          1992,
          1992.1,
          1992.2,
          1992.3,
          1992.4,
          1992.5,
          1992.6,
          1992.7,
          1992.8,
          1992.9,
          1993,
          1993.1,
          1993.2,
          1993.3,
          1993.4,
          1993.5,
          1993.6,
          1993.7,
          1993.8,
          1993.9,
          1994,
          1994.1,
          1994.2,
          1994.3,
          1994.4,
          1994.5,
          1994.6,
          1994.7,
          1994.8,
          1994.9,
          1995,
          1995.1,
          1995.2,
          1995.3,
          1995.4,
          1995.5,
          1995.6,
          1995.7,
          1995.8,
          1995.9,
          1996,
          1996.1,
          1996.2,
          1996.3,
          1996.4,
          1996.5,
          1996.6,
          1996.7,
          1996.8,
          1996.9,
          1997,
          1997.1,
          1997.2,
          1997.3,
          1997.4,
          1997.5,
          1997.6,
          1997.7,
          1997.8,
          1997.9,
          1998,
          1998.1,
          1998.2,
          1998.3,
          1998.4,
          1998.5,
          1998.6,
          1998.7,
          1998.8,
          1998.9,
          1999,
          1999.1,
          1999.2,
          1999.3,
          1999.4,
          1999.5,
          1999.6,
          1999.7,
          1999.8,
          1999.9,
          2000,
          2000.1,
          2000.2,
          2000.3,
          2000.4,
          2000.5,
          2000.6,
          2000.7,
          2000.8,
          2000.9,
          2001,
          2001.1,
          2001.2,
          2001.3,
          2001.4,
          2001.5,
          2001.6,
          2001.7,
          2001.8,
          2001.9,
          2002,
          2002.1,
          2002.2,
          2002.3,
          2002.4,
          2002.5,
          2002.6,
          2002.7,
          2002.8,
          2002.9,
          2003,
          2003.1,
          2003.2,
          2003.3,
          2003.4,
          2003.5,
          2003.6,
          2003.7,
          2003.8,
          2003.9,
          2004,
          2004.1,
          2004.2,
          2004.3,
          2004.4,
          2004.5,
          2004.6,
          2004.7,
          2004.8,
          2004.9,
          2005,
          2005.1,
          2005.2,
          2005.3,
          2005.4,
          2005.5,
          2005.6,
          2005.7,
          2005.8,
          2005.9,
          2006,
          2006.1,
          2006.2,
          2006.3,
          2006.4,
          2006.5,
          2006.6,
          2006.7,
          2006.8,
          2006.9,
          2007,
          2007.1,
          2007.2,
          2007.3,
          2007.4,
          2007.5,
          2007.6,
          2007.7,
          2007.8,
          2007.9,
          2008,
          2008.1,
          2008.2,
          2008.3,
          2008.4,
          2008.5,
          2008.6,
          2008.7,
          2008.8,
          2008.9,
          2009,
          2009.1,
          2009.2,
          2009.3,
          2009.4,
          2009.5,
          2009.6,
          2009.7,
          2009.8,
          2009.9,
          2010,
          2010.1,
          2010.2,
          2010.3,
          2010.4,
          2010.5,
          2010.6,
          2010.7,
          2010.8,
          2010.9,
          2011,
          2011.1,
          2011.2,
          2011.3,
          2011.4,
          2011.5,
          2011.6,
          2011.7,
          2011.8,
          2011.9,
          2012,
          2012.1,
          2012.2,
          2012.3,
          2012.4,
          2012.5,
          2012.6,
          2012.7,
          2012.8,
          2012.9,
          2013,
          2013.1,
          2013.2,
          2013.3,
          2013.4,
          2013.5,
          2013.6,
          2013.7,
          2013.8,
          2013.9,
          2014,
          2014.1,
          2014.2,
          2014.3,
          2014.4,
          2014.5,
          2014.6,
          2014.7,
          2014.8,
          2014.9,
          2015,
          2015.1,
          2015.2,
          2015.3,
          2015.4,
          2015.5,
          2015.6,
          2015.7,
          2015.8,
          2015.9,
          2016,
          2016.1,
          2016.2,
          2016.3,
          2016.4,
          2016.5,
          2016.6,
          2016.7,
          2016.8,
          2016.9,
          2017,
          2017.1,
          2017.2,
          2017.3,
          2017.4,
          2017.5,
          2017.6,
          2017.7,
          2017.8,
          2017.9,
          2018,
          2018.1,
          2018.2,
          2018.3,
          2018.4,
          2018.5,
          2018.6,
          2018.7,
          2018.8,
          2018.9,
          2019,
          2019.1,
          2019.2,
          2019.3,
          2019.4,
          2019.5,
          2019.6,
          2019.7,
          2019.8,
          2019.9,
          2020
         ],
         "xaxis": "x",
         "y": [
          0.4461149705032764,
          0.4310288766625775,
          0.4186356442226688,
          0.40782201141495045,
          0.39758901755760717,
          0.3879364176937324,
          0.3786024108215682,
          0.3695322819453151,
          0.3607471867038687,
          0.35215498168496046,
          0.34372035721858174,
          0.3355010431491591,
          0.3275019131823481,
          0.3196819511180669,
          0.31197580903474226,
          0.30442943998915756,
          0.29710712680528834,
          0.2900193791232554,
          0.2831226383544791,
          0.2763193343416839,
          0.26955787742862464,
          0.26298659072184827,
          0.25667655664091094,
          0.250582492354801,
          0.24454389645197896,
          0.23849604506371394,
          0.23265045430553713,
          0.22710125502673456,
          0.2217847972989946,
          0.2164799968015032,
          0.21111156863811134,
          0.20594836822760185,
          0.20105254117368623,
          0.1963121860430193,
          0.191523458386778,
          0.18683808839054075,
          0.18236608887223824,
          0.17808205691052909,
          0.1738392912884949,
          0.16958957822732235,
          0.1654965532582877,
          0.161615085108671,
          0.15788370095477902,
          0.1541305305971865,
          0.15034609874647276,
          0.14674040171977384,
          0.14338253742426846,
          0.14018247136464423,
          0.1368998452954858,
          0.13356462926050466,
          0.1304130884511116,
          0.1274740927591642,
          0.12460532241681702,
          0.12164417767900756,
          0.11878003898870003,
          0.11609045424890864,
          0.11352769403602064,
          0.11093342138628409,
          0.10832466686696073,
          0.10585171761883036,
          0.10354638074042004,
          0.10132622802326963,
          0.09901732291775174,
          0.0966879689308902,
          0.09452549195452238,
          0.09256501021745674,
          0.09068742519974736,
          0.08865755589328596,
          0.0866092921446343,
          0.08472964911904338,
          0.08301236732315369,
          0.08128531659109843,
          0.07946197278355671,
          0.07773369060287588,
          0.07615011497939843,
          0.07464106993723325,
          0.07304885075445493,
          0.0714515052958647,
          0.06997800666204558,
          0.06863799224161181,
          0.06732840147734047,
          0.06588889635886115,
          0.06445378349786239,
          0.06317852921601977,
          0.0620662629408893,
          0.060970173566506164,
          0.05968789388933986,
          0.05842834829103976,
          0.05732603440649626,
          0.05634106075318615,
          0.055280953716830825,
          0.05414817774051929,
          0.053110873463822816,
          0.05219429189986472,
          0.05130625310929977,
          0.050306684265584996,
          0.04932200903884927,
          0.04845438560645895,
          0.04769122337076528,
          0.04690935175448785,
          0.045984315378466936,
          0.045094613258167424,
          0.04435919060770691,
          0.04375037272011885,
          0.043095354629799486,
          0.042258255055966115,
          0.04148066472689826,
          0.04084901837950581,
          0.04029174708513113,
          0.03961403886204614,
          0.03889784966065245,
          0.03827937040883716,
          0.0377600980798246,
          0.03722667157829562,
          0.03657695625893278,
          0.0359637856353622,
          0.03546243820578179,
          0.03503871443938625,
          0.0345505458488027,
          0.03393373273962444,
          0.03337955720026124,
          0.03297255864613568,
          0.03265604362820301,
          0.032234187656208314,
          0.03167094123531912,
          0.031191064395523414,
          0.030843839116796865,
          0.030528243971833572,
          0.030068490094816366,
          0.0296060113138431,
          0.029242828357807407,
          0.028957739222339584,
          0.028618061094970258,
          0.028179015017177237,
          0.0277939688555277,
          0.027514810966666463,
          0.02728652561965801,
          0.02695493077746775,
          0.02652732525160633,
          0.02618406971046814,
          0.025977396172706103,
          0.02582341905481246,
          0.025518834406355287,
          0.025127836769705775,
          0.02483620294215837,
          0.024660135879951917,
          0.02447131964976025,
          0.02413838070411907,
          0.023834130005428653,
          0.023628657561767602,
          0.023478900657581254,
          0.02324070201495294,
          0.022930531994709475,
          0.02268866304692067,
          0.022545084185100345,
          0.022424753132023093,
          0.022173912414236295,
          0.021868806265724308,
          0.021661255011112632,
          0.021572381903215535,
          0.021495823636113916,
          0.021237194113859853,
          0.020915705674507498,
          0.020730091751036996,
          0.02070158658575605,
          0.020677719277886197,
          0.02042293385756604,
          0.020157300528756333,
          0.0200116493612383,
          0.01993989372021127,
          0.019769531134166036,
          0.01955644064632953,
          0.019408224460855307,
          0.019320391955081315,
          0.0192007831192589,
          0.01900536781507656,
          0.01884108260396244,
          0.018748418491208715,
          0.018693706763556583,
          0.018570847295632433,
          0.018345442524927688,
          0.018168802573406976,
          0.01811122079986169,
          0.018131153546501997,
          0.01807614118958495,
          0.017852278411957696,
          0.017676746231088048,
          0.017610009620877092,
          0.01757846253705894,
          0.017429395725805978,
          0.017267202495915943,
          0.017176899705951817,
          0.017141709777469476,
          0.017056337145099028,
          0.01689315090564867,
          0.01676955961230741,
          0.01672448876102965,
          0.016714161427188956,
          0.016616803132200014,
          0.016426977923177842,
          0.016297972146456816,
          0.01628375880745497,
          0.016325612084915175,
          0.016254797684758817,
          0.01606597694828985,
          0.015946301153678556,
          0.015924867887348065,
          0.015906734435648953,
          0.015768501021981584,
          0.015643407938057904,
          0.015593542259470017,
          0.015586676894989217,
          0.015508113708416725,
          0.0153689539991318,
          0.015281004933226868,
          0.015269816118630741,
          0.015277454187898182,
          0.015177604122982353,
          0.015015197217607136,
          0.01492893573230587,
          0.014949424413099687,
          0.01499791660130711,
          0.01490426983985813,
          0.014745309050623958,
          0.014668493128412195,
          0.014676613300907661,
          0.01465383569600903,
          0.014524059796692005,
          0.014428178595596407,
          0.014407583700873274,
          0.014414064066795839,
          0.014331078368297934,
          0.014210417265388745,
          0.01415052468775114,
          0.0141620088954614,
          0.014172795466853755,
          0.014063307252424072,
          0.013923908706547174,
          0.013872185424590355,
          0.013916621854118844,
          0.01395887036453647,
          0.013844813192794894,
          0.013712005360745266,
          0.013668903884044412,
          0.013694310584304576,
          0.013655304291216424,
          0.013536360276219406,
          0.013464948609955426,
          0.013464608689382518,
          0.013472000118196274,
          0.013380739808237615,
          0.01327696558905734,
          0.013240357308368074,
          0.01326602588964778,
          0.013268369025570987,
          0.013149339338854931,
          0.01303257493970841,
          0.013010331479325322,
          0.013069449447721712,
          0.01309306060045686,
          0.012965676520219172,
          0.01285812855343262,
          0.012842456481230514,
          0.012874889440032473,
          0.012816374777127455,
          0.012708951804471506,
          0.01265893397534823,
          0.012672716747605573,
          0.012672502192719383,
          0.01257468153299539,
          0.01248717244598392,
          0.012470216722043724,
          0.01250383871819638,
          0.012489367667141303,
          0.012366289084396328,
          0.01227220263484435,
          0.012274857844274158,
          0.012340542171893114,
          0.012334964816752286,
          0.012205865525400556,
          0.012122985623967478,
          0.012129200872882181,
          0.012159605535675529,
          0.012082991469704646,
          0.011988330688063443,
          0.011957309436288532,
          0.011979941531124536,
          0.011964782127841926,
          0.011865464761510942,
          0.011794258027887751,
          0.011793925310630768,
          0.011829901854709897,
          0.011793534759609437,
          0.011672873519250887,
          0.011601611831692515,
          0.011624857682031167,
          0.011689477153031801,
          0.01165042764934038,
          0.011529062703675746,
          0.01147008731494366,
          0.011492875956859758,
          0.011512765490269892,
          0.011423135124716906,
          0.011342512722920488,
          0.011328251352162602,
          0.011354770653073595,
          0.011321205794565975,
          0.011224851587632097,
          0.011170019907236975,
          0.01118338066854251,
          0.01121637533806381,
          0.011157655025228082,
          0.011044401063701624,
          0.010995678601027027,
          0.011035173759601512,
          0.01109146788057721,
          0.011022952638714114,
          0.010913659422684954,
          0.010877330095270095,
          0.01091129880731919,
          0.010912457014666201,
          0.010817970900672661,
          0.010752344440575016,
          0.010752450958188602,
          0.010777923953064776,
          0.01072611546076266,
          0.010636063025993306,
          0.010597423669250977,
          0.010621405167242876,
          0.010646108251816971,
          0.010567811753844199,
          0.010466076565685661,
          0.010439060639177808,
          0.01049022457675843,
          0.010530972938408316,
          0.010426572752072547,
          0.010296736549325511,
          0.010278042104519396,
          0.01037063839933519,
          0.010440953505373963,
          0.010328362429686561,
          0.010228272828106606,
          0.010220146849681009,
          0.010255196043561106,
          0.010200377444287262,
          0.010124616550032835,
          0.010098070710403391,
          0.010109983506402655,
          0.010085753107734395,
          0.010011924737286928,
          0.009965619121783318,
          0.009969684933692918,
          0.009992554697620736,
          0.009952092809209882,
          0.009848985471269282,
          0.00979127437517461,
          0.00981777792652301,
          0.009887292715810967,
          0.009879373592444292,
          0.009766370467932977,
          0.009701039296019185,
          0.009715234967822995,
          0.009740966626588026,
          0.009671016304591273,
          0.009602084811958322,
          0.009587159799465722,
          0.009606981902161022,
          0.009579224315612334,
          0.009501063588152853,
          0.009456569542665641,
          0.009467897250688233,
          0.00949642932848665,
          0.009450231236597658,
          0.009348921956637132,
          0.009301620863486761,
          0.009337460405509231,
          0.009401261724143323,
          0.009361950928007137,
          0.009257886411669582,
          0.009214285938954573,
          0.009241270164302583,
          0.009254258770074632,
          0.009176188889029234,
          0.009116760218808256,
          0.009112641533964747,
          0.009133599304169277,
          0.009093678256242287,
          0.009017886956171946,
          0.008983327096211743,
          0.009002278221422175,
          0.009026125613420193,
          0.008964252524480363,
          0.008871241074763033,
          0.008841736657380759,
          0.008887538024936624,
          0.008938423936139061,
          0.008872217329615217,
          0.008781026200326971,
          0.008757651138590518,
          0.008792140225462895,
          0.008785218118806257,
          0.008706343567705246,
          0.008658440576071031,
          0.00866444697343006,
          0.008682793463700305,
          0.008630297913745848,
          0.008559546152980543,
          0.008536165384615295,
          0.008561591660738707,
          0.008576901554446174,
          0.008501620120876132,
          0.008419306986763084,
          0.008406992535342248,
          0.008459990515014785,
          0.008493479451419301,
          0.0084097306333017,
          0.008333297511677462,
          0.00832751540629872,
          0.008364315686346395,
          0.008336653662518775,
          0.008261419309024498,
          0.008225939503326958,
          0.00824014393297235,
          0.008251307876545079,
          0.008188351721627357,
          0.008125494268302284,
          0.008113879251552984,
          0.008143512403848906,
          0.00814530671983254,
          0.008061208297018098,
          0.007992263391417164,
          0.007996429994627765,
          0.008052976991200262,
          0.008063267758335942,
          0.007972247648218345,
          0.007911738657629064,
          0.007920904640083454,
          0.007954988911234208,
          0.00790910549793243,
          0.007840278134005787,
          0.007817082517326136,
          0.007836945804541516,
          0.007836494099964592,
          0.007767758722987571,
          0.007714720279309233,
          0.007714240898669822,
          0.0077450700791683305,
          0.007729097341626423,
          0.007642867208140617,
          0.007589230602498693,
          0.007608182486105767,
          0.007663659294876201,
          0.007646485622950321,
          0.007558021531244046,
          0.0075142240474517135,
          0.0075354267388746884,
          0.0075613106533963335,
          0.007501582105481555,
          0.007441309490863124,
          0.007429793174675015,
          0.007452541320368846,
          0.007437153975625791,
          0.007367791375304387,
          0.007325591313914212,
          0.007335178083413444,
          0.007364390325025288,
          0.007330174280516505,
          0.007246886269021095,
          0.007209251612720243,
          0.00724043407662594,
          0.007289953544576609,
          0.0072436249677707825,
          0.007133297163638396,
          0.007094086575614038,
          0.007155568778396388,
          0.0072382683378984305,
          0.00718368550331708,
          0.0070921905301961395,
          0.00706916084395972,
          0.007101045679086786,
          0.007085352144270408,
          0.00702213613928985,
          0.006990543436793541,
          0.006996953045864744,
          0.0069962952444318684,
          0.006943457035007659,
          0.006898778921036908,
          0.006893190024906856,
          0.006914138544889676,
          0.00690618431803907,
          0.006831419123936028,
          0.006772643538325902,
          0.006778521449787353,
          0.006833658546710399,
          0.006859157421148365,
          0.006780043226071928,
          0.006715179296542602,
          0.006714917457328281,
          0.006746693418463346,
          0.00671350465444873,
          0.0066536267316266075,
          0.006630554335787418,
          0.00664402809367885,
          0.006642412352413492,
          0.00658536354970463,
          0.006540793341436236,
          0.006539423241306647,
          0.006564605338459089,
          0.006553024792533004,
          0.006476698071802132,
          0.006425100218319214,
          0.00643971525116795,
          0.0064946726500139116,
          0.006497337650967252,
          0.006415700012160222,
          0.006367261140294456,
          0.006380747807628242,
          0.006409076510267506,
          0.006362949129944279,
          0.006308295752413604,
          0.006294141864786786,
          0.006311557072448735,
          0.00630116881647425,
          0.006242641759233508,
          0.006204715845291839,
          0.006210463355122184,
          0.006235407027970616,
          0.006210518892224811,
          0.006136040916944295,
          0.006098038760782068,
          0.0061233892943999705,
          0.006173546305099644,
          0.006149923771150256,
          0.006073709823536963,
          0.006041747140817276,
          0.006065441145531319,
          0.006084346424302892,
          0.006028489969637733,
          0.005980817537508538,
          0.005976540077456888,
          0.005997223368152046,
          0.0059764362767206515,
          0.0059178820372304194,
          0.0058877490484813,
          0.005901147308402739,
          0.005924680269799396,
          0.005886316769386059,
          0.005816230100558028,
          0.00579111938971703,
          0.005824034177959347,
          0.005864708834888922,
          0.005819583029866821,
          0.005751202465218353,
          0.005733165025641266,
          0.0057617867929297744,
          0.0057656999596646654,
          0.005705611872137767,
          0.005665414738344058,
          0.00566876385710647,
          0.005688538667465921,
          0.005656947930082427,
          0.005600517378145148,
          0.005578086201999358,
          0.005596736928157975,
          0.005615689154532848,
          0.005567125914382869,
          0.005503793245560802,
          0.005489998993732869,
          0.005527567429074545,
          0.005557723573342493,
          0.00549171399255059,
          0.005409629831504486,
          0.005403149118004954,
          0.005471380903992275,
          0.005522628058600127,
          0.005450203840255175,
          0.005387047159884319,
          0.005385395458867448,
          0.005413597721514919,
          0.0053824602707463805,
          0.005334502178001498,
          0.005318161006873877,
          0.005328329591388203,
          0.005318287326385083,
          0.005272565881429887,
          0.005242850207440977,
          0.005246485857973816,
          0.005265009679371183,
          0.005245834995358172,
          0.00518200014655946,
          0.005144898669322051,
          0.005162762164805355,
          0.0052110999970718325,
          0.005213303370209601,
          0.005143665603045799,
          0.005102578885619222,
          0.005113981700422362,
          0.005137245495942698,
          0.005098453002356186,
          0.0050548950073050205,
          0.005045047760397932,
          0.005060071962772502,
          0.005050116230048198,
          0.005003090085517302,
          0.004974260288224901,
          0.004981172395510046,
          0.005002924920888888,
          0.004982789116903192,
          0.004921186926735432,
          0.004889629049685751,
          0.004911444125101957,
          0.004956248239492923,
          0.004942702814658046,
          0.004878467271920734,
          0.00484899578788971,
          0.004867088221168776,
          0.004885464682037634,
          0.004842056163162376,
          0.004802487535078409,
          0.004797520631588014,
          0.004814004615274888,
          0.004799589058388422,
          0.004752643534002204,
          0.00472705698586758,
          0.0047367523108127595,
          0.004757112749971199,
          0.004730377733443368,
          0.004671837351934708,
          0.004647467425432319,
          0.004672724175597332,
          0.004711234504434008,
          0.004683741944014407,
          0.0046250096163987335,
          0.004604882534944808,
          0.004626676177762615,
          0.00463734991689636,
          0.004590951090983266,
          0.004555903132428826,
          0.004555435296797619,
          0.004571829925991468,
          0.0045517236378063266,
          0.004505960609751973,
          0.004484692186472189,
          0.004497355553188248,
          0.0045153766508965205,
          0.004482245157629505,
          0.0044279354231302375,
          0.00441115215230216,
          0.00443986300977013,
          0.004472080438313611,
          0.004434817759174286,
          0.004382894740041304,
          0.004371723739516486,
          0.004396450551422449,
          0.004399011472317072,
          0.0043530600919902485,
          0.004323857648923158,
          0.004328685440838135,
          0.004345230303403388,
          0.004320411901648195,
          0.0042773766749471896,
          0.004261518472980377,
          0.004277721021138036,
          0.0042933239707701396,
          0.004255098354025,
          0.004205690126840129,
          0.004195841563461978,
          0.004226812455421176,
          0.004251762175424246,
          0.004199656060038446,
          0.004133959041225997,
          0.004128871117912942,
          0.004184361150487291,
          0.004227414770311172,
          0.004170153291314835,
          0.004118673273366713,
          0.004116682951457707,
          0.004139905524567574,
          0.0041163592797231864,
          0.004077735345440387,
          0.004064004834836844,
          0.004071877831545146,
          0.004064829958376348,
          0.004028512625490608,
          0.004004105177623427,
          0.004006105411656441,
          0.004020738224917946,
          0.004006955709717921,
          0.003955902696996337,
          0.0039246018564300005,
          0.003937256231461316,
          0.00397603742089023,
          0.003981521549506951,
          0.0039257248294877305,
          0.003890379895692846,
          0.0038977517489142506,
          0.003917960160976529,
          0.003889216900734154,
          0.0038527531336089616,
          0.003842511784460896,
          0.003853580408623412,
          0.003847989044488485,
          0.003810180015774725,
          0.003784826035908483,
          0.0037879958901796684,
          0.0038051438869817736,
          0.003792265827244852,
          0.0037423093798714447,
          0.0037137486638578014,
          0.0037286735959981433,
          0.003765526298056033,
          0.003760115842609482,
          0.0037073492487512487,
          0.0036802366068234577,
          0.0036931895893327752,
          0.0037113463587623427,
          0.0036786858017460724,
          0.0036442297351768726,
          0.00363767627446837,
          0.003651210947987069,
          0.0036435776566458,
          0.0036051329448794404,
          0.0035816531947919297,
          0.003587334383444516,
          0.003604762107584565,
          0.0035874895574611325,
          0.0035394179431828183,
          0.003516254788216752,
          0.0035341083139071917,
          0.0035667674334917505,
          0.003549962215174103,
          0.003500706962866769,
          0.0034809425708510412,
          0.003497769185513778,
          0.003511661239353949,
          0.003475310919449531,
          0.0034433430669779273,
          0.0034407808009758256,
          0.0034563341251384427,
          0.003445598829740917,
          0.0034068127177553148,
          0.003385904803169866,
          0.003394687607186569,
          0.0034123694380225754,
          0.0033907230632617058,
          0.0033451655749911326,
          0.003327488640401131,
          0.003348202740397464,
          0.003376642539334459,
          0.0033481213991472746,
          0.003286785614977223,
          0.0032684959883020055,
          0.0033082113263199734,
          0.003358567518369337,
          0.0033271760841591326,
          0.0032647334594840976,
          0.0032425766307225133,
          0.0032706233351717457,
          0.003307005674658121,
          0.0032756535097416294,
          0.0032288235423066757,
          0.003218866000948319,
          0.00324006544740288,
          0.0032384206318001652,
          0.00320196429132874,
          0.003181438368443407,
          0.0031855902537227393,
          0.003193021646262558,
          0.003167509260285647,
          0.0031381645089363823,
          0.0031306843655133617,
          0.003143235657447539,
          0.003147924935252023,
          0.003111550640249709,
          0.0030752342751582656,
          0.0030732759222531314,
          0.0031023732176733926,
          0.003122109099385,
          0.0030835588475786424,
          0.0030461696269098695,
          0.0030445267484576397,
          0.003066621781372473,
          0.0030588847824970966,
          0.003022757801685304,
          0.0030052234996371836,
          0.003013524924914511,
          0.0030234102623521403,
          0.0029965189792523416,
          0.0029662117795006228,
          0.0029603420738349775,
          0.0029762540773061157,
          0.0029823015178473728,
          0.002945289491331196,
          0.002911544162836576,
          0.002912476942636354,
          0.0029413881321077215,
          0.0029540270916042625,
          0.002903468538290928,
          0.0028567413318980562,
          0.002863789807772281,
          0.0029158629223951568,
          0.0029462615543433854,
          0.002905000109996502,
          0.0028701335742215934,
          0.0028562864086445136,
          0.0028594893658815492,
          0.002859099867937364,
          0.002831452141047991,
          0.002803690585486908,
          0.002799577036466841,
          0.0028174351140766414,
          0.0028304333944971466,
          0.0028011358427288986,
          0.002767237936613095,
          0.002762205361060061,
          0.002782303469660197,
          0.0027884381909552966,
          0.002751870699190622,
          0.002724955083172434,
          0.0027295762448003623,
          0.0027522772112375895,
          0.0027457273551298005,
          0.002706069119509852,
          0.0026857562858706684,
          0.002698922001197406,
          0.0027225122293087108,
          0.0027032456778005847,
          0.0026623536183163167,
          0.002649815543532158,
          0.002671884004909784,
          0.0026938387728665356,
          0.0026615190337755043,
          0.00262242851689087,
          0.0026187059900578294,
          0.0026470057917529406,
          0.002661052475375666,
          0.0026178465543750793,
          0.0025830214068090036,
          0.002590633101155565,
          0.0026262227350885,
          0.00262807601853819,
          0.0025817273200582367,
          0.0025550265642474363,
          0.0025675310010757004,
          0.002596442451776109,
          0.0025814414356139033,
          0.002535773111741449,
          0.0025191997299043073,
          0.0025428227918355213,
          0.002571889973166764,
          0.0025442451132651708,
          0.0025041536436955125,
          0.0024955056051356303,
          0.0025183914419541573,
          0.0025339299861487337,
          0.0024968025777318283,
          0.0024622456339143217,
          0.0024651422264549247,
          0.0024960782648328727,
          0.0025025714081508377,
          0.0024596590916994314,
          0.0024317637709878395,
          0.002441302752264251,
          0.002469853301614619,
          0.0024607178110210184,
          0.0024152529791469763,
          0.00239056664159363,
          0.0023997283869523532,
          0.0024142351195367193,
          0.002376044719998842,
          0.002319096887893017,
          0.002286336702853163,
          0.00228120904305333,
          0.002273812842622648,
          0.002221916367723603,
          0.002166750895671894,
          0.002140524128513282,
          0.0021394770880829627,
          0.002125468053881195,
          0.002074177850458262,
          0.0020271936172167916,
          0.0019908695105509476,
          0.001962063153437415,
          0.0019285664559456626,
          0.0018739347813609437,
          0.0018214753940081338,
          0.0017931561390374618,
          0.0017914237818771079,
          0.0017993645673435173,
          0.0017809076533391237,
          0.001733048990222758,
          0.0016869242310395339,
          0.00164765819746231,
          0.0016163474117391477,
          0.0015900929041000214,
          0.0015620325385574043,
          0.0015218427855347378,
          0.001481734477604321,
          0.0014567197233199864,
          0.001448867492864309,
          0.001447403360116349,
          0.0014290564191955393,
          0.001400624259422507,
          0.0013734759245224149,
          0.0013417830288460272,
          0.0013057230954431063,
          0.0012714350283064841,
          0.0012509757187153415,
          0.0012420165509923256,
          0.0012297833925805992,
          0.0012167823260676698,
          0.0012042653171171658,
          0.0011921883638127586,
          0.0011792207789551637,
          0.0011627543724156966,
          0.0011389125493112909,
          0.0011047035994743173,
          0.0010730486883166947,
          0.001055816986363564,
          0.0010536576803295663,
          0.0010560629166468504,
          0.0010416508202878403,
          0.0010069597913185881,
          0.0009769215994570452,
          0.000963967694150988,
          0.0009682223473509136,
          0.0009775891405060183,
          0.0009681812782998227,
          0.000944519047659181,
          0.0009238139593754135,
          0.000907450243018888,
          0.0008955377646665814,
          0.0008869209160105995,
          0.0008791874297711153,
          0.0008659998365955012,
          0.0008508855749598017,
          0.0008416488586797474,
          0.0008405487572218407,
          0.0008443361543230973,
          0.0008442916132514734,
          0.0008303951888951741,
          0.0008126884184763783,
          0.0007986536123732414,
          0.0007911007951337421,
          0.0007891251529753025,
          0.0007881316154628652,
          0.0007798845192024612,
          0.0007612220955631292,
          0.0007442350306566709,
          0.00073709359664252,
          0.0007411094871889801,
          0.0007507753649730783,
          0.0007537988779070606,
          0.0007435823033710861,
          0.0007340954810521402,
          0.0007212245390610142,
          0.0007034309684224602,
          0.000682769476435243,
          0.0006648738956741678,
          0.000658120260705049,
          0.0006568509145655544,
          0.0006552187321763783,
          0.0006515206763977207,
          0.0006447902781585447,
          0.0006347949131592332,
          0.0006220331637502885,
          0.000607732231690028,
          0.000593845381755967,
          0.0005830440252233806,
          0.0005763229996780063,
          0.0005698902973253994,
          0.0005610818502351315,
          0.0005493745310599963,
          0.0005363787095433617,
          0.0005258309014676215,
          0.0005232177330732546,
          0.0005251037784017447,
          0.0005260949075665841,
          0.0005242139548730956,
          0.0005188592965979049,
          0.0005108001742108091,
          0.0005021720724157626,
          0.000496748000612367,
          0.0005142248258722069,
          0.0005465164053320719,
          0.0005734020220761885,
          0.0005813125454936025,
          0.000563308128808812,
          0.0005190561575310099,
          0.0004548094668051802,
          0.0003833848784012641,
          0.0003241421404436123,
          0.00030244110068938047,
          0.00030136741931176514,
          0.00030013421655104573,
          0.00029999173874597254,
          0.0003017456973552353,
          0.0003057587319345318,
          0.0003119518207685898,
          0.0003198056175753144,
          0.000328361698885737,
          0.00033622371281222046,
          0.0003415730773943267,
          0.0003442593729735366,
          0.00034621010427876743,
          0.0003486982737417686,
          0.00035250986428863934,
          0.00035794512761209334,
          0.00036481979447878544,
          0.0003724662293211261,
          0.00037973454620142193,
          0.0003849936981285602,
          0.0003860510949170896,
          0.0003769950604539693,
          0.0003629975753359814,
          0.000352431818792685,
          0.0003506134117893032,
          0.0003598074526035834,
          0.000379235402068379,
          0.00040508183304605017,
          0.0004305010538793331,
          0.00044562361078543403,
          0.00043782188852134745,
          0.000416537475544501,
          0.0003956085005303881,
          0.0003774796688105067,
          0.0003637490924617479,
          0.00035517012460873466,
          0.00035165315968919064,
          0.0003522674002826198,
          0.00035524259106295647,
          0.0003579707203957183,
          0.00035703279172768804,
          0.0003518832540033457,
          0.00034579991432242576,
          0.00034098035179936314,
          0.00033876997008064515,
          0.0003396637331421995,
          0.0003433078683525199,
          0.0003485015390144703,
          0.0003531984903479104,
          0.0003542952886616833,
          0.00035086853922278443,
          0.00034741410026268015,
          0.0003471400864005431,
          0.0003514051529373776,
          0.00035972205513569363,
          0.00036976120952089713,
          0.00037735429716606746,
          0.00037649795172112687,
          0.00036160039409284105,
          0.0003430739214006891,
          0.00032552832946516956,
          0.00031069127636624644,
          0.0002997142248598963,
          0.0002931736089554184,
          0.00029107202927936216,
          0.00029283946529854755,
          0.00029733449249327577,
          0.00030284549259383995,
          0.000307857689146896,
          0.0003148022351109664,
          0.0003220088774395972,
          0.0003274928299711866,
          0.0003299670089480272,
          0.00032884058161174943,
          0.00032421753517246035,
          0.0003168952692229058,
          0.00030836321347246125,
          0.0003008014714871268,
          0.0002966799992808839,
          0.00029504968574198693,
          0.00029469544876556316,
          0.00029491870132101106,
          0.0002952429087863475,
          0.00029541314890360143,
          0.0002953956796573155,
          0.000295377515052641,
          0.0002957660087346957,
          0.00029718844535624856,
          0.0003036620140690569,
          0.0003296365954720544,
          0.0003610105767608839,
          0.0003835682808805976,
          0.00038827278029543243,
          0.00037125625452990506,
          0.0003338105290658194,
          0.00028237778906944005,
          0.00022854145589710597,
          0.0001890172088307569,
          0.00017950069685760707,
          0.00017517150501514622,
          0.0001713393700061943,
          0.0001694669942933504,
          0.00017038105376873376,
          0.00017427330235130707,
          0.00018070166713616962,
          0.000188591343987763,
          0.00019623590483210793,
          0.0002012984292577089,
          0.00020140563270829397,
          0.00019927377167276703,
          0.00019741849252560145,
          0.0001972346086307736,
          0.00019946647256256002,
          0.00020420915784892174,
          0.0002109096598197814,
          0.00021836810445743725,
          0.0002247389541829177,
          0.00022753219954944556,
          0.0002233189861034635,
          0.0002115520201578983,
          0.00020016592919145924,
          0.00019523641352851495,
          0.00019985925067002517,
          0.00021415575143045936,
          0.00023527813037672426,
          0.00025741478171968413,
          0.00027179545667416313,
          0.0002716244831789692,
          0.00026898811814681585,
          0.0002667986348393217,
          0.0002659479376179493,
          0.0002668015675320066,
          0.0002691996161538007,
          0.0002724576224476074,
          0.0002753674527585316,
          0.0002761981640345267,
          0.0002728345618246891,
          0.0002659358521297921,
          0.0002587068336217305,
          0.0002535418772120752,
          0.0002518820248469347,
          0.0002542165725837192,
          0.0002600846238779593,
          0.0002680766132476833,
          0.0002758358002742034,
          0.00028005973369014996,
          0.0002771892777805495,
          0.00027055863743913366,
          0.00026384039901370505,
          0.00025911706973519755,
          0.00025754424929442745,
          0.00025935207464500407,
          0.0002638466345399892,
          0.00026941135050699815,
          0.00027350831934776383,
          0.0002726796106370657,
          0.0002635326909410729,
          0.00025148905895569805,
          0.00024033643121301987,
          0.00023189446490830384,
          0.00022719423471925703,
          0.0002264793591709887,
          0.00022920708245981197,
          0.00023404931408010685,
          0.0002388936306832399,
          0.00024084424667339648,
          0.00023535250769968587,
          0.0002176136446016167,
          0.0001974205670851175,
          0.00018362836489093715,
          0.00018164443387887354,
          0.00019343287372413438,
          0.00021751877698373913,
          0.0002489924184596239,
          0.0002795133509198822,
          0.0002973144103848619,
          0.00029085657233519685,
          0.0002780056266100363,
          0.0002659320614125907,
          0.00025620039891649006,
          0.0002497052701160986,
          0.0002466722044646106,
          0.00024665840193347535,
          0.00024855348777734937,
          0.00025058025026494454,
          0.00025029536161320416,
          0.00024499033910021465,
          0.00023669878789718763,
          0.00022884845129517988,
          0.00022362332704806059,
          0.00022221095225209966,
          0.00022480349295085465,
          0.00023059880907439704,
          0.00023780149502215892,
          0.0002436238961965731,
          0.00024428710179201366,
          0.00023613784941954938,
          0.00022527577280556606,
          0.00021552366670712366,
          0.00020855142205493117,
          0.0002052598022778595,
          0.00020578122331295603,
          0.00020948051554938043,
          0.00021495566793693383,
          0.0002200385544880592,
          0.00022179564340034746,
          0.00021719148108794754,
          0.0002097114467134856,
          0.00020278240499729222
         ],
         "yaxis": "y"
        }
       ],
       "layout": {
        "legend": {
         "tracegroupgap": 0
        },
        "margin": {
         "t": 60
        },
        "template": {
         "data": {
          "bar": [
           {
            "error_x": {
             "color": "#2a3f5f"
            },
            "error_y": {
             "color": "#2a3f5f"
            },
            "marker": {
             "line": {
              "color": "#E5ECF6",
              "width": 0.5
             },
             "pattern": {
              "fillmode": "overlay",
              "size": 10,
              "solidity": 0.2
             }
            },
            "type": "bar"
           }
          ],
          "barpolar": [
           {
            "marker": {
             "line": {
              "color": "#E5ECF6",
              "width": 0.5
             },
             "pattern": {
              "fillmode": "overlay",
              "size": 10,
              "solidity": 0.2
             }
            },
            "type": "barpolar"
           }
          ],
          "carpet": [
           {
            "aaxis": {
             "endlinecolor": "#2a3f5f",
             "gridcolor": "white",
             "linecolor": "white",
             "minorgridcolor": "white",
             "startlinecolor": "#2a3f5f"
            },
            "baxis": {
             "endlinecolor": "#2a3f5f",
             "gridcolor": "white",
             "linecolor": "white",
             "minorgridcolor": "white",
             "startlinecolor": "#2a3f5f"
            },
            "type": "carpet"
           }
          ],
          "choropleth": [
           {
            "colorbar": {
             "outlinewidth": 0,
             "ticks": ""
            },
            "type": "choropleth"
           }
          ],
          "contour": [
           {
            "colorbar": {
             "outlinewidth": 0,
             "ticks": ""
            },
            "colorscale": [
             [
              0,
              "#0d0887"
             ],
             [
              0.1111111111111111,
              "#46039f"
             ],
             [
              0.2222222222222222,
              "#7201a8"
             ],
             [
              0.3333333333333333,
              "#9c179e"
             ],
             [
              0.4444444444444444,
              "#bd3786"
             ],
             [
              0.5555555555555556,
              "#d8576b"
             ],
             [
              0.6666666666666666,
              "#ed7953"
             ],
             [
              0.7777777777777778,
              "#fb9f3a"
             ],
             [
              0.8888888888888888,
              "#fdca26"
             ],
             [
              1,
              "#f0f921"
             ]
            ],
            "type": "contour"
           }
          ],
          "contourcarpet": [
           {
            "colorbar": {
             "outlinewidth": 0,
             "ticks": ""
            },
            "type": "contourcarpet"
           }
          ],
          "heatmap": [
           {
            "colorbar": {
             "outlinewidth": 0,
             "ticks": ""
            },
            "colorscale": [
             [
              0,
              "#0d0887"
             ],
             [
              0.1111111111111111,
              "#46039f"
             ],
             [
              0.2222222222222222,
              "#7201a8"
             ],
             [
              0.3333333333333333,
              "#9c179e"
             ],
             [
              0.4444444444444444,
              "#bd3786"
             ],
             [
              0.5555555555555556,
              "#d8576b"
             ],
             [
              0.6666666666666666,
              "#ed7953"
             ],
             [
              0.7777777777777778,
              "#fb9f3a"
             ],
             [
              0.8888888888888888,
              "#fdca26"
             ],
             [
              1,
              "#f0f921"
             ]
            ],
            "type": "heatmap"
           }
          ],
          "heatmapgl": [
           {
            "colorbar": {
             "outlinewidth": 0,
             "ticks": ""
            },
            "colorscale": [
             [
              0,
              "#0d0887"
             ],
             [
              0.1111111111111111,
              "#46039f"
             ],
             [
              0.2222222222222222,
              "#7201a8"
             ],
             [
              0.3333333333333333,
              "#9c179e"
             ],
             [
              0.4444444444444444,
              "#bd3786"
             ],
             [
              0.5555555555555556,
              "#d8576b"
             ],
             [
              0.6666666666666666,
              "#ed7953"
             ],
             [
              0.7777777777777778,
              "#fb9f3a"
             ],
             [
              0.8888888888888888,
              "#fdca26"
             ],
             [
              1,
              "#f0f921"
             ]
            ],
            "type": "heatmapgl"
           }
          ],
          "histogram": [
           {
            "marker": {
             "pattern": {
              "fillmode": "overlay",
              "size": 10,
              "solidity": 0.2
             }
            },
            "type": "histogram"
           }
          ],
          "histogram2d": [
           {
            "colorbar": {
             "outlinewidth": 0,
             "ticks": ""
            },
            "colorscale": [
             [
              0,
              "#0d0887"
             ],
             [
              0.1111111111111111,
              "#46039f"
             ],
             [
              0.2222222222222222,
              "#7201a8"
             ],
             [
              0.3333333333333333,
              "#9c179e"
             ],
             [
              0.4444444444444444,
              "#bd3786"
             ],
             [
              0.5555555555555556,
              "#d8576b"
             ],
             [
              0.6666666666666666,
              "#ed7953"
             ],
             [
              0.7777777777777778,
              "#fb9f3a"
             ],
             [
              0.8888888888888888,
              "#fdca26"
             ],
             [
              1,
              "#f0f921"
             ]
            ],
            "type": "histogram2d"
           }
          ],
          "histogram2dcontour": [
           {
            "colorbar": {
             "outlinewidth": 0,
             "ticks": ""
            },
            "colorscale": [
             [
              0,
              "#0d0887"
             ],
             [
              0.1111111111111111,
              "#46039f"
             ],
             [
              0.2222222222222222,
              "#7201a8"
             ],
             [
              0.3333333333333333,
              "#9c179e"
             ],
             [
              0.4444444444444444,
              "#bd3786"
             ],
             [
              0.5555555555555556,
              "#d8576b"
             ],
             [
              0.6666666666666666,
              "#ed7953"
             ],
             [
              0.7777777777777778,
              "#fb9f3a"
             ],
             [
              0.8888888888888888,
              "#fdca26"
             ],
             [
              1,
              "#f0f921"
             ]
            ],
            "type": "histogram2dcontour"
           }
          ],
          "mesh3d": [
           {
            "colorbar": {
             "outlinewidth": 0,
             "ticks": ""
            },
            "type": "mesh3d"
           }
          ],
          "parcoords": [
           {
            "line": {
             "colorbar": {
              "outlinewidth": 0,
              "ticks": ""
             }
            },
            "type": "parcoords"
           }
          ],
          "pie": [
           {
            "automargin": true,
            "type": "pie"
           }
          ],
          "scatter": [
           {
            "fillpattern": {
             "fillmode": "overlay",
             "size": 10,
             "solidity": 0.2
            },
            "type": "scatter"
           }
          ],
          "scatter3d": [
           {
            "line": {
             "colorbar": {
              "outlinewidth": 0,
              "ticks": ""
             }
            },
            "marker": {
             "colorbar": {
              "outlinewidth": 0,
              "ticks": ""
             }
            },
            "type": "scatter3d"
           }
          ],
          "scattercarpet": [
           {
            "marker": {
             "colorbar": {
              "outlinewidth": 0,
              "ticks": ""
             }
            },
            "type": "scattercarpet"
           }
          ],
          "scattergeo": [
           {
            "marker": {
             "colorbar": {
              "outlinewidth": 0,
              "ticks": ""
             }
            },
            "type": "scattergeo"
           }
          ],
          "scattergl": [
           {
            "marker": {
             "colorbar": {
              "outlinewidth": 0,
              "ticks": ""
             }
            },
            "type": "scattergl"
           }
          ],
          "scattermapbox": [
           {
            "marker": {
             "colorbar": {
              "outlinewidth": 0,
              "ticks": ""
             }
            },
            "type": "scattermapbox"
           }
          ],
          "scatterpolar": [
           {
            "marker": {
             "colorbar": {
              "outlinewidth": 0,
              "ticks": ""
             }
            },
            "type": "scatterpolar"
           }
          ],
          "scatterpolargl": [
           {
            "marker": {
             "colorbar": {
              "outlinewidth": 0,
              "ticks": ""
             }
            },
            "type": "scatterpolargl"
           }
          ],
          "scatterternary": [
           {
            "marker": {
             "colorbar": {
              "outlinewidth": 0,
              "ticks": ""
             }
            },
            "type": "scatterternary"
           }
          ],
          "surface": [
           {
            "colorbar": {
             "outlinewidth": 0,
             "ticks": ""
            },
            "colorscale": [
             [
              0,
              "#0d0887"
             ],
             [
              0.1111111111111111,
              "#46039f"
             ],
             [
              0.2222222222222222,
              "#7201a8"
             ],
             [
              0.3333333333333333,
              "#9c179e"
             ],
             [
              0.4444444444444444,
              "#bd3786"
             ],
             [
              0.5555555555555556,
              "#d8576b"
             ],
             [
              0.6666666666666666,
              "#ed7953"
             ],
             [
              0.7777777777777778,
              "#fb9f3a"
             ],
             [
              0.8888888888888888,
              "#fdca26"
             ],
             [
              1,
              "#f0f921"
             ]
            ],
            "type": "surface"
           }
          ],
          "table": [
           {
            "cells": {
             "fill": {
              "color": "#EBF0F8"
             },
             "line": {
              "color": "white"
             }
            },
            "header": {
             "fill": {
              "color": "#C8D4E3"
             },
             "line": {
              "color": "white"
             }
            },
            "type": "table"
           }
          ]
         },
         "layout": {
          "annotationdefaults": {
           "arrowcolor": "#2a3f5f",
           "arrowhead": 0,
           "arrowwidth": 1
          },
          "autotypenumbers": "strict",
          "coloraxis": {
           "colorbar": {
            "outlinewidth": 0,
            "ticks": ""
           }
          },
          "colorscale": {
           "diverging": [
            [
             0,
             "#8e0152"
            ],
            [
             0.1,
             "#c51b7d"
            ],
            [
             0.2,
             "#de77ae"
            ],
            [
             0.3,
             "#f1b6da"
            ],
            [
             0.4,
             "#fde0ef"
            ],
            [
             0.5,
             "#f7f7f7"
            ],
            [
             0.6,
             "#e6f5d0"
            ],
            [
             0.7,
             "#b8e186"
            ],
            [
             0.8,
             "#7fbc41"
            ],
            [
             0.9,
             "#4d9221"
            ],
            [
             1,
             "#276419"
            ]
           ],
           "sequential": [
            [
             0,
             "#0d0887"
            ],
            [
             0.1111111111111111,
             "#46039f"
            ],
            [
             0.2222222222222222,
             "#7201a8"
            ],
            [
             0.3333333333333333,
             "#9c179e"
            ],
            [
             0.4444444444444444,
             "#bd3786"
            ],
            [
             0.5555555555555556,
             "#d8576b"
            ],
            [
             0.6666666666666666,
             "#ed7953"
            ],
            [
             0.7777777777777778,
             "#fb9f3a"
            ],
            [
             0.8888888888888888,
             "#fdca26"
            ],
            [
             1,
             "#f0f921"
            ]
           ],
           "sequentialminus": [
            [
             0,
             "#0d0887"
            ],
            [
             0.1111111111111111,
             "#46039f"
            ],
            [
             0.2222222222222222,
             "#7201a8"
            ],
            [
             0.3333333333333333,
             "#9c179e"
            ],
            [
             0.4444444444444444,
             "#bd3786"
            ],
            [
             0.5555555555555556,
             "#d8576b"
            ],
            [
             0.6666666666666666,
             "#ed7953"
            ],
            [
             0.7777777777777778,
             "#fb9f3a"
            ],
            [
             0.8888888888888888,
             "#fdca26"
            ],
            [
             1,
             "#f0f921"
            ]
           ]
          },
          "colorway": [
           "#636efa",
           "#EF553B",
           "#00cc96",
           "#ab63fa",
           "#FFA15A",
           "#19d3f3",
           "#FF6692",
           "#B6E880",
           "#FF97FF",
           "#FECB52"
          ],
          "font": {
           "color": "#2a3f5f"
          },
          "geo": {
           "bgcolor": "white",
           "lakecolor": "white",
           "landcolor": "#E5ECF6",
           "showlakes": true,
           "showland": true,
           "subunitcolor": "white"
          },
          "hoverlabel": {
           "align": "left"
          },
          "hovermode": "closest",
          "mapbox": {
           "style": "light"
          },
          "paper_bgcolor": "white",
          "plot_bgcolor": "#E5ECF6",
          "polar": {
           "angularaxis": {
            "gridcolor": "white",
            "linecolor": "white",
            "ticks": ""
           },
           "bgcolor": "#E5ECF6",
           "radialaxis": {
            "gridcolor": "white",
            "linecolor": "white",
            "ticks": ""
           }
          },
          "scene": {
           "xaxis": {
            "backgroundcolor": "#E5ECF6",
            "gridcolor": "white",
            "gridwidth": 2,
            "linecolor": "white",
            "showbackground": true,
            "ticks": "",
            "zerolinecolor": "white"
           },
           "yaxis": {
            "backgroundcolor": "#E5ECF6",
            "gridcolor": "white",
            "gridwidth": 2,
            "linecolor": "white",
            "showbackground": true,
            "ticks": "",
            "zerolinecolor": "white"
           },
           "zaxis": {
            "backgroundcolor": "#E5ECF6",
            "gridcolor": "white",
            "gridwidth": 2,
            "linecolor": "white",
            "showbackground": true,
            "ticks": "",
            "zerolinecolor": "white"
           }
          },
          "shapedefaults": {
           "line": {
            "color": "#2a3f5f"
           }
          },
          "ternary": {
           "aaxis": {
            "gridcolor": "white",
            "linecolor": "white",
            "ticks": ""
           },
           "baxis": {
            "gridcolor": "white",
            "linecolor": "white",
            "ticks": ""
           },
           "bgcolor": "#E5ECF6",
           "caxis": {
            "gridcolor": "white",
            "linecolor": "white",
            "ticks": ""
           }
          },
          "title": {
           "x": 0.05
          },
          "xaxis": {
           "automargin": true,
           "gridcolor": "white",
           "linecolor": "white",
           "ticks": "",
           "title": {
            "standoff": 15
           },
           "zerolinecolor": "white",
           "zerolinewidth": 2
          },
          "yaxis": {
           "automargin": true,
           "gridcolor": "white",
           "linecolor": "white",
           "ticks": "",
           "title": {
            "standoff": 15
           },
           "zerolinecolor": "white",
           "zerolinewidth": 2
          }
         }
        },
        "title": {
         "text": "",
         "x": 0.5
        },
        "xaxis": {
         "anchor": "y",
         "domain": [
          0,
          1
         ],
         "title": {
          "text": "Year"
         }
        },
        "yaxis": {
         "anchor": "x",
         "domain": [
          0,
          1
         ],
         "title": {
          "text": "Prevalance per 100,000 population"
         }
        }
       }
      }
     },
     "metadata": {},
     "output_type": "display_data"
    }
   ],
   "source": [
    "prev_plot = px.line(\n",
    "    derived_df_0,\n",
    "    x=derived_df_0.index,\n",
    "    y=\"prevalence_infectious\",\n",
    ")\n",
    "prev_plot.update_layout(\n",
    "    title=\"\", title_x=0.5, xaxis_title=\"Year\", yaxis_title=\"Prevalance per 100,000 population\"\n",
    ")\n",
    "prev_plot.show()"
   ]
  },
  {
   "cell_type": "code",
   "execution_count": 19,
   "metadata": {},
   "outputs": [],
   "source": [
    "output = model_0.get_outputs_df()"
   ]
  },
  {
   "cell_type": "code",
   "execution_count": 20,
   "metadata": {},
   "outputs": [
    {
     "data": {
      "text/html": [
       "<div>\n",
       "<style scoped>\n",
       "    .dataframe tbody tr th:only-of-type {\n",
       "        vertical-align: middle;\n",
       "    }\n",
       "\n",
       "    .dataframe tbody tr th {\n",
       "        vertical-align: top;\n",
       "    }\n",
       "\n",
       "    .dataframe thead th {\n",
       "        text-align: right;\n",
       "    }\n",
       "</style>\n",
       "<table border=\"1\" class=\"dataframe\">\n",
       "  <thead>\n",
       "    <tr style=\"text-align: right;\">\n",
       "      <th></th>\n",
       "      <th>cumulative_deaths</th>\n",
       "      <th>cumulative_diseased</th>\n",
       "      <th>incidence</th>\n",
       "      <th>incidence_early</th>\n",
       "      <th>incidence_late</th>\n",
       "      <th>notifications</th>\n",
       "      <th>percentage_latent</th>\n",
       "      <th>prevalence_infectious</th>\n",
       "      <th>total_population</th>\n",
       "    </tr>\n",
       "  </thead>\n",
       "  <tbody>\n",
       "    <tr>\n",
       "      <th>1900.0</th>\n",
       "      <td>0.000000</td>\n",
       "      <td>0.000000</td>\n",
       "      <td>0.000000</td>\n",
       "      <td>0.000000</td>\n",
       "      <td>0.000000</td>\n",
       "      <td>129861.369995</td>\n",
       "      <td>0.000000</td>\n",
       "      <td>0.446115</td>\n",
       "      <td>2.241575e+05</td>\n",
       "    </tr>\n",
       "    <tr>\n",
       "      <th>1900.1</th>\n",
       "      <td>0.000000</td>\n",
       "      <td>0.000000</td>\n",
       "      <td>0.193891</td>\n",
       "      <td>0.434363</td>\n",
       "      <td>0.000177</td>\n",
       "      <td>126950.325482</td>\n",
       "      <td>0.000100</td>\n",
       "      <td>0.431029</td>\n",
       "      <td>2.241161e+05</td>\n",
       "    </tr>\n",
       "    <tr>\n",
       "      <th>1900.2</th>\n",
       "      <td>0.000000</td>\n",
       "      <td>0.000000</td>\n",
       "      <td>0.488193</td>\n",
       "      <td>1.093135</td>\n",
       "      <td>0.000808</td>\n",
       "      <td>121745.132655</td>\n",
       "      <td>0.000191</td>\n",
       "      <td>0.418636</td>\n",
       "      <td>2.240801e+05</td>\n",
       "    </tr>\n",
       "    <tr>\n",
       "      <th>1900.3</th>\n",
       "      <td>0.000000</td>\n",
       "      <td>0.000000</td>\n",
       "      <td>0.635087</td>\n",
       "      <td>1.421005</td>\n",
       "      <td>0.001904</td>\n",
       "      <td>117546.016419</td>\n",
       "      <td>0.000276</td>\n",
       "      <td>0.407822</td>\n",
       "      <td>2.240495e+05</td>\n",
       "    </tr>\n",
       "    <tr>\n",
       "      <th>1900.4</th>\n",
       "      <td>0.000000</td>\n",
       "      <td>0.000000</td>\n",
       "      <td>0.709247</td>\n",
       "      <td>1.585573</td>\n",
       "      <td>0.003312</td>\n",
       "      <td>113929.681312</td>\n",
       "      <td>0.000355</td>\n",
       "      <td>0.397589</td>\n",
       "      <td>2.240243e+05</td>\n",
       "    </tr>\n",
       "    <tr>\n",
       "      <th>...</th>\n",
       "      <td>...</td>\n",
       "      <td>...</td>\n",
       "      <td>...</td>\n",
       "      <td>...</td>\n",
       "      <td>...</td>\n",
       "      <td>...</td>\n",
       "      <td>...</td>\n",
       "      <td>...</td>\n",
       "      <td>...</td>\n",
       "    </tr>\n",
       "    <tr>\n",
       "      <th>2019.6</th>\n",
       "      <td>0.282339</td>\n",
       "      <td>1.199777</td>\n",
       "      <td>0.001983</td>\n",
       "      <td>0.006009</td>\n",
       "      <td>0.018173</td>\n",
       "      <td>1656.808130</td>\n",
       "      <td>0.000109</td>\n",
       "      <td>0.000220</td>\n",
       "      <td>1.219694e+06</td>\n",
       "    </tr>\n",
       "    <tr>\n",
       "      <th>2019.7</th>\n",
       "      <td>0.282793</td>\n",
       "      <td>1.202220</td>\n",
       "      <td>0.002003</td>\n",
       "      <td>0.006312</td>\n",
       "      <td>0.018120</td>\n",
       "      <td>1640.378561</td>\n",
       "      <td>0.000109</td>\n",
       "      <td>0.000222</td>\n",
       "      <td>1.219926e+06</td>\n",
       "    </tr>\n",
       "    <tr>\n",
       "      <th>2019.8</th>\n",
       "      <td>0.283246</td>\n",
       "      <td>1.204633</td>\n",
       "      <td>0.001977</td>\n",
       "      <td>0.006053</td>\n",
       "      <td>0.018068</td>\n",
       "      <td>1638.864112</td>\n",
       "      <td>0.000108</td>\n",
       "      <td>0.000217</td>\n",
       "      <td>1.220157e+06</td>\n",
       "    </tr>\n",
       "    <tr>\n",
       "      <th>2019.9</th>\n",
       "      <td>0.283703</td>\n",
       "      <td>1.206968</td>\n",
       "      <td>0.001914</td>\n",
       "      <td>0.005337</td>\n",
       "      <td>0.018018</td>\n",
       "      <td>1650.234461</td>\n",
       "      <td>0.000108</td>\n",
       "      <td>0.000210</td>\n",
       "      <td>1.220386e+06</td>\n",
       "    </tr>\n",
       "    <tr>\n",
       "      <th>2020.0</th>\n",
       "      <td>0.284164</td>\n",
       "      <td>1.209220</td>\n",
       "      <td>0.001845</td>\n",
       "      <td>0.004547</td>\n",
       "      <td>0.017969</td>\n",
       "      <td>1664.237546</td>\n",
       "      <td>0.000108</td>\n",
       "      <td>0.000203</td>\n",
       "      <td>1.220613e+06</td>\n",
       "    </tr>\n",
       "  </tbody>\n",
       "</table>\n",
       "<p>1201 rows × 9 columns</p>\n",
       "</div>"
      ],
      "text/plain": [
       "        cumulative_deaths  cumulative_diseased  incidence  incidence_early  \\\n",
       "1900.0           0.000000             0.000000   0.000000         0.000000   \n",
       "1900.1           0.000000             0.000000   0.193891         0.434363   \n",
       "1900.2           0.000000             0.000000   0.488193         1.093135   \n",
       "1900.3           0.000000             0.000000   0.635087         1.421005   \n",
       "1900.4           0.000000             0.000000   0.709247         1.585573   \n",
       "...                   ...                  ...        ...              ...   \n",
       "2019.6           0.282339             1.199777   0.001983         0.006009   \n",
       "2019.7           0.282793             1.202220   0.002003         0.006312   \n",
       "2019.8           0.283246             1.204633   0.001977         0.006053   \n",
       "2019.9           0.283703             1.206968   0.001914         0.005337   \n",
       "2020.0           0.284164             1.209220   0.001845         0.004547   \n",
       "\n",
       "        incidence_late  notifications  percentage_latent  \\\n",
       "1900.0        0.000000  129861.369995           0.000000   \n",
       "1900.1        0.000177  126950.325482           0.000100   \n",
       "1900.2        0.000808  121745.132655           0.000191   \n",
       "1900.3        0.001904  117546.016419           0.000276   \n",
       "1900.4        0.003312  113929.681312           0.000355   \n",
       "...                ...            ...                ...   \n",
       "2019.6        0.018173    1656.808130           0.000109   \n",
       "2019.7        0.018120    1640.378561           0.000109   \n",
       "2019.8        0.018068    1638.864112           0.000108   \n",
       "2019.9        0.018018    1650.234461           0.000108   \n",
       "2020.0        0.017969    1664.237546           0.000108   \n",
       "\n",
       "        prevalence_infectious  total_population  \n",
       "1900.0               0.446115      2.241575e+05  \n",
       "1900.1               0.431029      2.241161e+05  \n",
       "1900.2               0.418636      2.240801e+05  \n",
       "1900.3               0.407822      2.240495e+05  \n",
       "1900.4               0.397589      2.240243e+05  \n",
       "...                       ...               ...  \n",
       "2019.6               0.000220      1.219694e+06  \n",
       "2019.7               0.000222      1.219926e+06  \n",
       "2019.8               0.000217      1.220157e+06  \n",
       "2019.9               0.000210      1.220386e+06  \n",
       "2020.0               0.000203      1.220613e+06  \n",
       "\n",
       "[1201 rows x 9 columns]"
      ]
     },
     "execution_count": 20,
     "metadata": {},
     "output_type": "execute_result"
    }
   ],
   "source": [
    "derived_df_0"
   ]
  }
 ],
 "metadata": {
  "kernelspec": {
   "display_name": "autumn",
   "language": "python",
   "name": "python3"
  },
  "language_info": {
   "codemirror_mode": {
    "name": "ipython",
    "version": 3
   },
   "file_extension": ".py",
   "mimetype": "text/x-python",
   "name": "python",
   "nbconvert_exporter": "python",
   "pygments_lexer": "ipython3",
   "version": "3.10.0"
  },
  "vscode": {
   "interpreter": {
    "hash": "32546788be758822ecff2a88079b35480b7d02e1a3a7c2c2e0e8f52550974ab3"
   }
  }
 },
 "nbformat": 4,
 "nbformat_minor": 4
}
