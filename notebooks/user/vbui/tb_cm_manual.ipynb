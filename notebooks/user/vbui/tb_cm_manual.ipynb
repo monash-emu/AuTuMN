{
 "cells": [
  {
   "cell_type": "code",
   "execution_count": 39,
   "metadata": {},
   "outputs": [],
   "source": [
    "import warnings\n",
    "from typing import List\n",
    "\n",
    "import pandas as pd\n",
    "import plotly.graph_objects as go\n",
    "import plotly.express as px\n",
    "from plotly.subplots import make_subplots\n",
    "from autumn.core.inputs.database import get_input_db\n",
    "from autumn.core.project import get_project\n",
    "from autumn.settings import Region, Models\n",
    "from autumn.core import inputs\n",
    "from autumn.core.inputs.social_mixing.build_synthetic_matrices import build_synthetic_matrices\n",
    "from autumn.core.utils.display import pretty_print\n",
    "from autumn.core.inputs.tb_camau import queries\n",
    "import pathlib\n",
    "from autumn.model_features.curve.interpolate import build_static_sigmoidal_multicurve\n",
    "from summer2.parameters.params import Function\n",
    "import jax\n",
    "import numpy as np"
   ]
  },
  {
   "cell_type": "code",
   "execution_count": 2,
   "metadata": {},
   "outputs": [],
   "source": [
    "warnings.filterwarnings(\"ignore\")\n",
    "pd.options.plotting.backend = \"plotly\""
   ]
  },
  {
   "cell_type": "code",
   "execution_count": 3,
   "metadata": {},
   "outputs": [],
   "source": [
    "csv_path = pathlib.Path(\"camau.csv\")"
   ]
  },
  {
   "cell_type": "code",
   "execution_count": 4,
   "metadata": {},
   "outputs": [],
   "source": [
    "region = Region.CAMAU\n",
    "model = Models.TBD2\n",
    "p = get_project(model, region, reload=True)\n",
    "baseline_params = p.param_set.baseline"
   ]
  },
  {
   "cell_type": "code",
   "execution_count": 5,
   "metadata": {},
   "outputs": [],
   "source": [
    "iso3 = baseline_params['country']['iso3']\n",
    "source_iso3 = baseline_params['age_mixing']['source_iso3']\n",
    "age_adjust = baseline_params['age_mixing']['age_adjust']\n",
    "age_string_map = {\n",
    "    0: \"0-4\",\n",
    "    5: \"5-14\",\n",
    "    15: \"15-34\",\n",
    "    35: \"35-49\",\n",
    "    50: \"50+\",\n",
    "}"
   ]
  },
  {
   "cell_type": "markdown",
   "metadata": {},
   "source": [
    "## Population"
   ]
  },
  {
   "cell_type": "code",
   "execution_count": 6,
   "metadata": {},
   "outputs": [
    {
     "name": "stdout",
     "output_type": "stream",
     "text": [
      "Modelled age groups are [0, 5, 15, 35, 50]\n"
     ]
    }
   ],
   "source": [
    "modelled_age_groups = baseline_params[\"age_breakpoints\"]\n",
    "print(f\"Modelled age groups are {modelled_age_groups}\")"
   ]
  },
  {
   "cell_type": "code",
   "execution_count": 7,
   "metadata": {},
   "outputs": [
    {
     "data": {
      "application/vnd.plotly.v1+json": {
       "config": {
        "plotlyServerURL": "https://plot.ly"
       },
       "data": [
        {
         "hovertemplate": "variable=population<br>year=%{x}<br>value=%{y}<extra></extra>",
         "legendgroup": "population",
         "line": {
          "color": "#636efa",
          "dash": "solid"
         },
         "marker": {
          "symbol": "circle"
         },
         "mode": "lines",
         "name": "population",
         "orientation": "v",
         "showlegend": true,
         "type": "scatter",
         "x": [
          1995,
          1996,
          1997,
          1998,
          1999,
          2000,
          2001,
          2002,
          2003,
          2004,
          2005,
          2006,
          2007,
          2008,
          2009,
          2010,
          2011,
          2012,
          2013,
          2014,
          2015,
          2016,
          2017,
          2018,
          2019
         ],
         "xaxis": "x",
         "y": [
          1041800,
          1061600,
          1081100,
          1101800,
          1123500,
          1133900,
          1145200,
          1155300,
          1164500,
          1174400,
          1182900,
          1188700,
          1195200,
          1201700,
          1207100,
          1205840,
          1204500,
          1203460,
          1202070,
          1200740,
          1199500,
          1198100,
          1197000,
          1195600,
          1194300
         ],
         "yaxis": "y"
        }
       ],
       "layout": {
        "legend": {
         "title": {
          "text": "variable"
         },
         "tracegroupgap": 0
        },
        "margin": {
         "t": 60
        },
        "template": {
         "data": {
          "bar": [
           {
            "error_x": {
             "color": "#2a3f5f"
            },
            "error_y": {
             "color": "#2a3f5f"
            },
            "marker": {
             "line": {
              "color": "#E5ECF6",
              "width": 0.5
             },
             "pattern": {
              "fillmode": "overlay",
              "size": 10,
              "solidity": 0.2
             }
            },
            "type": "bar"
           }
          ],
          "barpolar": [
           {
            "marker": {
             "line": {
              "color": "#E5ECF6",
              "width": 0.5
             },
             "pattern": {
              "fillmode": "overlay",
              "size": 10,
              "solidity": 0.2
             }
            },
            "type": "barpolar"
           }
          ],
          "carpet": [
           {
            "aaxis": {
             "endlinecolor": "#2a3f5f",
             "gridcolor": "white",
             "linecolor": "white",
             "minorgridcolor": "white",
             "startlinecolor": "#2a3f5f"
            },
            "baxis": {
             "endlinecolor": "#2a3f5f",
             "gridcolor": "white",
             "linecolor": "white",
             "minorgridcolor": "white",
             "startlinecolor": "#2a3f5f"
            },
            "type": "carpet"
           }
          ],
          "choropleth": [
           {
            "colorbar": {
             "outlinewidth": 0,
             "ticks": ""
            },
            "type": "choropleth"
           }
          ],
          "contour": [
           {
            "colorbar": {
             "outlinewidth": 0,
             "ticks": ""
            },
            "colorscale": [
             [
              0,
              "#0d0887"
             ],
             [
              0.1111111111111111,
              "#46039f"
             ],
             [
              0.2222222222222222,
              "#7201a8"
             ],
             [
              0.3333333333333333,
              "#9c179e"
             ],
             [
              0.4444444444444444,
              "#bd3786"
             ],
             [
              0.5555555555555556,
              "#d8576b"
             ],
             [
              0.6666666666666666,
              "#ed7953"
             ],
             [
              0.7777777777777778,
              "#fb9f3a"
             ],
             [
              0.8888888888888888,
              "#fdca26"
             ],
             [
              1,
              "#f0f921"
             ]
            ],
            "type": "contour"
           }
          ],
          "contourcarpet": [
           {
            "colorbar": {
             "outlinewidth": 0,
             "ticks": ""
            },
            "type": "contourcarpet"
           }
          ],
          "heatmap": [
           {
            "colorbar": {
             "outlinewidth": 0,
             "ticks": ""
            },
            "colorscale": [
             [
              0,
              "#0d0887"
             ],
             [
              0.1111111111111111,
              "#46039f"
             ],
             [
              0.2222222222222222,
              "#7201a8"
             ],
             [
              0.3333333333333333,
              "#9c179e"
             ],
             [
              0.4444444444444444,
              "#bd3786"
             ],
             [
              0.5555555555555556,
              "#d8576b"
             ],
             [
              0.6666666666666666,
              "#ed7953"
             ],
             [
              0.7777777777777778,
              "#fb9f3a"
             ],
             [
              0.8888888888888888,
              "#fdca26"
             ],
             [
              1,
              "#f0f921"
             ]
            ],
            "type": "heatmap"
           }
          ],
          "heatmapgl": [
           {
            "colorbar": {
             "outlinewidth": 0,
             "ticks": ""
            },
            "colorscale": [
             [
              0,
              "#0d0887"
             ],
             [
              0.1111111111111111,
              "#46039f"
             ],
             [
              0.2222222222222222,
              "#7201a8"
             ],
             [
              0.3333333333333333,
              "#9c179e"
             ],
             [
              0.4444444444444444,
              "#bd3786"
             ],
             [
              0.5555555555555556,
              "#d8576b"
             ],
             [
              0.6666666666666666,
              "#ed7953"
             ],
             [
              0.7777777777777778,
              "#fb9f3a"
             ],
             [
              0.8888888888888888,
              "#fdca26"
             ],
             [
              1,
              "#f0f921"
             ]
            ],
            "type": "heatmapgl"
           }
          ],
          "histogram": [
           {
            "marker": {
             "pattern": {
              "fillmode": "overlay",
              "size": 10,
              "solidity": 0.2
             }
            },
            "type": "histogram"
           }
          ],
          "histogram2d": [
           {
            "colorbar": {
             "outlinewidth": 0,
             "ticks": ""
            },
            "colorscale": [
             [
              0,
              "#0d0887"
             ],
             [
              0.1111111111111111,
              "#46039f"
             ],
             [
              0.2222222222222222,
              "#7201a8"
             ],
             [
              0.3333333333333333,
              "#9c179e"
             ],
             [
              0.4444444444444444,
              "#bd3786"
             ],
             [
              0.5555555555555556,
              "#d8576b"
             ],
             [
              0.6666666666666666,
              "#ed7953"
             ],
             [
              0.7777777777777778,
              "#fb9f3a"
             ],
             [
              0.8888888888888888,
              "#fdca26"
             ],
             [
              1,
              "#f0f921"
             ]
            ],
            "type": "histogram2d"
           }
          ],
          "histogram2dcontour": [
           {
            "colorbar": {
             "outlinewidth": 0,
             "ticks": ""
            },
            "colorscale": [
             [
              0,
              "#0d0887"
             ],
             [
              0.1111111111111111,
              "#46039f"
             ],
             [
              0.2222222222222222,
              "#7201a8"
             ],
             [
              0.3333333333333333,
              "#9c179e"
             ],
             [
              0.4444444444444444,
              "#bd3786"
             ],
             [
              0.5555555555555556,
              "#d8576b"
             ],
             [
              0.6666666666666666,
              "#ed7953"
             ],
             [
              0.7777777777777778,
              "#fb9f3a"
             ],
             [
              0.8888888888888888,
              "#fdca26"
             ],
             [
              1,
              "#f0f921"
             ]
            ],
            "type": "histogram2dcontour"
           }
          ],
          "mesh3d": [
           {
            "colorbar": {
             "outlinewidth": 0,
             "ticks": ""
            },
            "type": "mesh3d"
           }
          ],
          "parcoords": [
           {
            "line": {
             "colorbar": {
              "outlinewidth": 0,
              "ticks": ""
             }
            },
            "type": "parcoords"
           }
          ],
          "pie": [
           {
            "automargin": true,
            "type": "pie"
           }
          ],
          "scatter": [
           {
            "fillpattern": {
             "fillmode": "overlay",
             "size": 10,
             "solidity": 0.2
            },
            "type": "scatter"
           }
          ],
          "scatter3d": [
           {
            "line": {
             "colorbar": {
              "outlinewidth": 0,
              "ticks": ""
             }
            },
            "marker": {
             "colorbar": {
              "outlinewidth": 0,
              "ticks": ""
             }
            },
            "type": "scatter3d"
           }
          ],
          "scattercarpet": [
           {
            "marker": {
             "colorbar": {
              "outlinewidth": 0,
              "ticks": ""
             }
            },
            "type": "scattercarpet"
           }
          ],
          "scattergeo": [
           {
            "marker": {
             "colorbar": {
              "outlinewidth": 0,
              "ticks": ""
             }
            },
            "type": "scattergeo"
           }
          ],
          "scattergl": [
           {
            "marker": {
             "colorbar": {
              "outlinewidth": 0,
              "ticks": ""
             }
            },
            "type": "scattergl"
           }
          ],
          "scattermapbox": [
           {
            "marker": {
             "colorbar": {
              "outlinewidth": 0,
              "ticks": ""
             }
            },
            "type": "scattermapbox"
           }
          ],
          "scatterpolar": [
           {
            "marker": {
             "colorbar": {
              "outlinewidth": 0,
              "ticks": ""
             }
            },
            "type": "scatterpolar"
           }
          ],
          "scatterpolargl": [
           {
            "marker": {
             "colorbar": {
              "outlinewidth": 0,
              "ticks": ""
             }
            },
            "type": "scatterpolargl"
           }
          ],
          "scatterternary": [
           {
            "marker": {
             "colorbar": {
              "outlinewidth": 0,
              "ticks": ""
             }
            },
            "type": "scatterternary"
           }
          ],
          "surface": [
           {
            "colorbar": {
             "outlinewidth": 0,
             "ticks": ""
            },
            "colorscale": [
             [
              0,
              "#0d0887"
             ],
             [
              0.1111111111111111,
              "#46039f"
             ],
             [
              0.2222222222222222,
              "#7201a8"
             ],
             [
              0.3333333333333333,
              "#9c179e"
             ],
             [
              0.4444444444444444,
              "#bd3786"
             ],
             [
              0.5555555555555556,
              "#d8576b"
             ],
             [
              0.6666666666666666,
              "#ed7953"
             ],
             [
              0.7777777777777778,
              "#fb9f3a"
             ],
             [
              0.8888888888888888,
              "#fdca26"
             ],
             [
              1,
              "#f0f921"
             ]
            ],
            "type": "surface"
           }
          ],
          "table": [
           {
            "cells": {
             "fill": {
              "color": "#EBF0F8"
             },
             "line": {
              "color": "white"
             }
            },
            "header": {
             "fill": {
              "color": "#C8D4E3"
             },
             "line": {
              "color": "white"
             }
            },
            "type": "table"
           }
          ]
         },
         "layout": {
          "annotationdefaults": {
           "arrowcolor": "#2a3f5f",
           "arrowhead": 0,
           "arrowwidth": 1
          },
          "autotypenumbers": "strict",
          "coloraxis": {
           "colorbar": {
            "outlinewidth": 0,
            "ticks": ""
           }
          },
          "colorscale": {
           "diverging": [
            [
             0,
             "#8e0152"
            ],
            [
             0.1,
             "#c51b7d"
            ],
            [
             0.2,
             "#de77ae"
            ],
            [
             0.3,
             "#f1b6da"
            ],
            [
             0.4,
             "#fde0ef"
            ],
            [
             0.5,
             "#f7f7f7"
            ],
            [
             0.6,
             "#e6f5d0"
            ],
            [
             0.7,
             "#b8e186"
            ],
            [
             0.8,
             "#7fbc41"
            ],
            [
             0.9,
             "#4d9221"
            ],
            [
             1,
             "#276419"
            ]
           ],
           "sequential": [
            [
             0,
             "#0d0887"
            ],
            [
             0.1111111111111111,
             "#46039f"
            ],
            [
             0.2222222222222222,
             "#7201a8"
            ],
            [
             0.3333333333333333,
             "#9c179e"
            ],
            [
             0.4444444444444444,
             "#bd3786"
            ],
            [
             0.5555555555555556,
             "#d8576b"
            ],
            [
             0.6666666666666666,
             "#ed7953"
            ],
            [
             0.7777777777777778,
             "#fb9f3a"
            ],
            [
             0.8888888888888888,
             "#fdca26"
            ],
            [
             1,
             "#f0f921"
            ]
           ],
           "sequentialminus": [
            [
             0,
             "#0d0887"
            ],
            [
             0.1111111111111111,
             "#46039f"
            ],
            [
             0.2222222222222222,
             "#7201a8"
            ],
            [
             0.3333333333333333,
             "#9c179e"
            ],
            [
             0.4444444444444444,
             "#bd3786"
            ],
            [
             0.5555555555555556,
             "#d8576b"
            ],
            [
             0.6666666666666666,
             "#ed7953"
            ],
            [
             0.7777777777777778,
             "#fb9f3a"
            ],
            [
             0.8888888888888888,
             "#fdca26"
            ],
            [
             1,
             "#f0f921"
            ]
           ]
          },
          "colorway": [
           "#636efa",
           "#EF553B",
           "#00cc96",
           "#ab63fa",
           "#FFA15A",
           "#19d3f3",
           "#FF6692",
           "#B6E880",
           "#FF97FF",
           "#FECB52"
          ],
          "font": {
           "color": "#2a3f5f"
          },
          "geo": {
           "bgcolor": "white",
           "lakecolor": "white",
           "landcolor": "#E5ECF6",
           "showlakes": true,
           "showland": true,
           "subunitcolor": "white"
          },
          "hoverlabel": {
           "align": "left"
          },
          "hovermode": "closest",
          "mapbox": {
           "style": "light"
          },
          "paper_bgcolor": "white",
          "plot_bgcolor": "#E5ECF6",
          "polar": {
           "angularaxis": {
            "gridcolor": "white",
            "linecolor": "white",
            "ticks": ""
           },
           "bgcolor": "#E5ECF6",
           "radialaxis": {
            "gridcolor": "white",
            "linecolor": "white",
            "ticks": ""
           }
          },
          "scene": {
           "xaxis": {
            "backgroundcolor": "#E5ECF6",
            "gridcolor": "white",
            "gridwidth": 2,
            "linecolor": "white",
            "showbackground": true,
            "ticks": "",
            "zerolinecolor": "white"
           },
           "yaxis": {
            "backgroundcolor": "#E5ECF6",
            "gridcolor": "white",
            "gridwidth": 2,
            "linecolor": "white",
            "showbackground": true,
            "ticks": "",
            "zerolinecolor": "white"
           },
           "zaxis": {
            "backgroundcolor": "#E5ECF6",
            "gridcolor": "white",
            "gridwidth": 2,
            "linecolor": "white",
            "showbackground": true,
            "ticks": "",
            "zerolinecolor": "white"
           }
          },
          "shapedefaults": {
           "line": {
            "color": "#2a3f5f"
           }
          },
          "ternary": {
           "aaxis": {
            "gridcolor": "white",
            "linecolor": "white",
            "ticks": ""
           },
           "baxis": {
            "gridcolor": "white",
            "linecolor": "white",
            "ticks": ""
           },
           "bgcolor": "#E5ECF6",
           "caxis": {
            "gridcolor": "white",
            "linecolor": "white",
            "ticks": ""
           }
          },
          "title": {
           "x": 0.05
          },
          "xaxis": {
           "automargin": true,
           "gridcolor": "white",
           "linecolor": "white",
           "ticks": "",
           "title": {
            "standoff": 15
           },
           "zerolinecolor": "white",
           "zerolinewidth": 2
          },
          "yaxis": {
           "automargin": true,
           "gridcolor": "white",
           "linecolor": "white",
           "ticks": "",
           "title": {
            "standoff": 15
           },
           "zerolinecolor": "white",
           "zerolinewidth": 2
          }
         }
        },
        "xaxis": {
         "anchor": "y",
         "domain": [
          0,
          1
         ],
         "title": {
          "text": "year"
         }
        },
        "yaxis": {
         "anchor": "x",
         "domain": [
          0,
          1
         ],
         "title": {
          "text": "value"
         }
        }
       }
      }
     },
     "metadata": {},
     "output_type": "display_data"
    }
   ],
   "source": [
    "pop_df = pd.read_csv(csv_path)\n",
    "pop_df = pop_df.set_index(['year'])\n",
    "pop_df['population'].plot()"
   ]
  },
  {
   "cell_type": "markdown",
   "metadata": {},
   "source": [
    "### Birth rate"
   ]
  },
  {
   "cell_type": "code",
   "execution_count": 8,
   "metadata": {},
   "outputs": [
    {
     "data": {
      "application/vnd.plotly.v1+json": {
       "config": {
        "plotlyServerURL": "https://plot.ly"
       },
       "data": [
        {
         "hovertemplate": "variable=0<br>mean_year=%{x}<br>value=%{y}<extra></extra>",
         "legendgroup": "0",
         "line": {
          "color": "#636efa",
          "dash": "solid"
         },
         "marker": {
          "symbol": "circle"
         },
         "mode": "markers+lines",
         "name": "0",
         "orientation": "v",
         "showlegend": true,
         "type": "scatter",
         "x": [
          1952.5,
          1957.5,
          1962.5,
          1967.5,
          1972.5,
          1977.5,
          1982.5,
          1987.5,
          1992.5,
          1997.5,
          2002.5,
          2007.5,
          2012.5,
          2017.5
         ],
         "xaxis": "x",
         "y": [
          0.039776000000000006,
          0.042731000000000005,
          0.040619999999999996,
          0.037357,
          0.035531,
          0.032790999999999994,
          0.031293,
          0.029655,
          0.026611,
          0.019188,
          0.016832999999999997,
          0.017184,
          0.017283,
          0.016945
         ],
         "yaxis": "y"
        }
       ],
       "layout": {
        "legend": {
         "title": {
          "text": "variable"
         },
         "tracegroupgap": 0
        },
        "margin": {
         "t": 60
        },
        "showlegend": false,
        "template": {
         "data": {
          "bar": [
           {
            "error_x": {
             "color": "#2a3f5f"
            },
            "error_y": {
             "color": "#2a3f5f"
            },
            "marker": {
             "line": {
              "color": "#E5ECF6",
              "width": 0.5
             },
             "pattern": {
              "fillmode": "overlay",
              "size": 10,
              "solidity": 0.2
             }
            },
            "type": "bar"
           }
          ],
          "barpolar": [
           {
            "marker": {
             "line": {
              "color": "#E5ECF6",
              "width": 0.5
             },
             "pattern": {
              "fillmode": "overlay",
              "size": 10,
              "solidity": 0.2
             }
            },
            "type": "barpolar"
           }
          ],
          "carpet": [
           {
            "aaxis": {
             "endlinecolor": "#2a3f5f",
             "gridcolor": "white",
             "linecolor": "white",
             "minorgridcolor": "white",
             "startlinecolor": "#2a3f5f"
            },
            "baxis": {
             "endlinecolor": "#2a3f5f",
             "gridcolor": "white",
             "linecolor": "white",
             "minorgridcolor": "white",
             "startlinecolor": "#2a3f5f"
            },
            "type": "carpet"
           }
          ],
          "choropleth": [
           {
            "colorbar": {
             "outlinewidth": 0,
             "ticks": ""
            },
            "type": "choropleth"
           }
          ],
          "contour": [
           {
            "colorbar": {
             "outlinewidth": 0,
             "ticks": ""
            },
            "colorscale": [
             [
              0,
              "#0d0887"
             ],
             [
              0.1111111111111111,
              "#46039f"
             ],
             [
              0.2222222222222222,
              "#7201a8"
             ],
             [
              0.3333333333333333,
              "#9c179e"
             ],
             [
              0.4444444444444444,
              "#bd3786"
             ],
             [
              0.5555555555555556,
              "#d8576b"
             ],
             [
              0.6666666666666666,
              "#ed7953"
             ],
             [
              0.7777777777777778,
              "#fb9f3a"
             ],
             [
              0.8888888888888888,
              "#fdca26"
             ],
             [
              1,
              "#f0f921"
             ]
            ],
            "type": "contour"
           }
          ],
          "contourcarpet": [
           {
            "colorbar": {
             "outlinewidth": 0,
             "ticks": ""
            },
            "type": "contourcarpet"
           }
          ],
          "heatmap": [
           {
            "colorbar": {
             "outlinewidth": 0,
             "ticks": ""
            },
            "colorscale": [
             [
              0,
              "#0d0887"
             ],
             [
              0.1111111111111111,
              "#46039f"
             ],
             [
              0.2222222222222222,
              "#7201a8"
             ],
             [
              0.3333333333333333,
              "#9c179e"
             ],
             [
              0.4444444444444444,
              "#bd3786"
             ],
             [
              0.5555555555555556,
              "#d8576b"
             ],
             [
              0.6666666666666666,
              "#ed7953"
             ],
             [
              0.7777777777777778,
              "#fb9f3a"
             ],
             [
              0.8888888888888888,
              "#fdca26"
             ],
             [
              1,
              "#f0f921"
             ]
            ],
            "type": "heatmap"
           }
          ],
          "heatmapgl": [
           {
            "colorbar": {
             "outlinewidth": 0,
             "ticks": ""
            },
            "colorscale": [
             [
              0,
              "#0d0887"
             ],
             [
              0.1111111111111111,
              "#46039f"
             ],
             [
              0.2222222222222222,
              "#7201a8"
             ],
             [
              0.3333333333333333,
              "#9c179e"
             ],
             [
              0.4444444444444444,
              "#bd3786"
             ],
             [
              0.5555555555555556,
              "#d8576b"
             ],
             [
              0.6666666666666666,
              "#ed7953"
             ],
             [
              0.7777777777777778,
              "#fb9f3a"
             ],
             [
              0.8888888888888888,
              "#fdca26"
             ],
             [
              1,
              "#f0f921"
             ]
            ],
            "type": "heatmapgl"
           }
          ],
          "histogram": [
           {
            "marker": {
             "pattern": {
              "fillmode": "overlay",
              "size": 10,
              "solidity": 0.2
             }
            },
            "type": "histogram"
           }
          ],
          "histogram2d": [
           {
            "colorbar": {
             "outlinewidth": 0,
             "ticks": ""
            },
            "colorscale": [
             [
              0,
              "#0d0887"
             ],
             [
              0.1111111111111111,
              "#46039f"
             ],
             [
              0.2222222222222222,
              "#7201a8"
             ],
             [
              0.3333333333333333,
              "#9c179e"
             ],
             [
              0.4444444444444444,
              "#bd3786"
             ],
             [
              0.5555555555555556,
              "#d8576b"
             ],
             [
              0.6666666666666666,
              "#ed7953"
             ],
             [
              0.7777777777777778,
              "#fb9f3a"
             ],
             [
              0.8888888888888888,
              "#fdca26"
             ],
             [
              1,
              "#f0f921"
             ]
            ],
            "type": "histogram2d"
           }
          ],
          "histogram2dcontour": [
           {
            "colorbar": {
             "outlinewidth": 0,
             "ticks": ""
            },
            "colorscale": [
             [
              0,
              "#0d0887"
             ],
             [
              0.1111111111111111,
              "#46039f"
             ],
             [
              0.2222222222222222,
              "#7201a8"
             ],
             [
              0.3333333333333333,
              "#9c179e"
             ],
             [
              0.4444444444444444,
              "#bd3786"
             ],
             [
              0.5555555555555556,
              "#d8576b"
             ],
             [
              0.6666666666666666,
              "#ed7953"
             ],
             [
              0.7777777777777778,
              "#fb9f3a"
             ],
             [
              0.8888888888888888,
              "#fdca26"
             ],
             [
              1,
              "#f0f921"
             ]
            ],
            "type": "histogram2dcontour"
           }
          ],
          "mesh3d": [
           {
            "colorbar": {
             "outlinewidth": 0,
             "ticks": ""
            },
            "type": "mesh3d"
           }
          ],
          "parcoords": [
           {
            "line": {
             "colorbar": {
              "outlinewidth": 0,
              "ticks": ""
             }
            },
            "type": "parcoords"
           }
          ],
          "pie": [
           {
            "automargin": true,
            "type": "pie"
           }
          ],
          "scatter": [
           {
            "fillpattern": {
             "fillmode": "overlay",
             "size": 10,
             "solidity": 0.2
            },
            "type": "scatter"
           }
          ],
          "scatter3d": [
           {
            "line": {
             "colorbar": {
              "outlinewidth": 0,
              "ticks": ""
             }
            },
            "marker": {
             "colorbar": {
              "outlinewidth": 0,
              "ticks": ""
             }
            },
            "type": "scatter3d"
           }
          ],
          "scattercarpet": [
           {
            "marker": {
             "colorbar": {
              "outlinewidth": 0,
              "ticks": ""
             }
            },
            "type": "scattercarpet"
           }
          ],
          "scattergeo": [
           {
            "marker": {
             "colorbar": {
              "outlinewidth": 0,
              "ticks": ""
             }
            },
            "type": "scattergeo"
           }
          ],
          "scattergl": [
           {
            "marker": {
             "colorbar": {
              "outlinewidth": 0,
              "ticks": ""
             }
            },
            "type": "scattergl"
           }
          ],
          "scattermapbox": [
           {
            "marker": {
             "colorbar": {
              "outlinewidth": 0,
              "ticks": ""
             }
            },
            "type": "scattermapbox"
           }
          ],
          "scatterpolar": [
           {
            "marker": {
             "colorbar": {
              "outlinewidth": 0,
              "ticks": ""
             }
            },
            "type": "scatterpolar"
           }
          ],
          "scatterpolargl": [
           {
            "marker": {
             "colorbar": {
              "outlinewidth": 0,
              "ticks": ""
             }
            },
            "type": "scatterpolargl"
           }
          ],
          "scatterternary": [
           {
            "marker": {
             "colorbar": {
              "outlinewidth": 0,
              "ticks": ""
             }
            },
            "type": "scatterternary"
           }
          ],
          "surface": [
           {
            "colorbar": {
             "outlinewidth": 0,
             "ticks": ""
            },
            "colorscale": [
             [
              0,
              "#0d0887"
             ],
             [
              0.1111111111111111,
              "#46039f"
             ],
             [
              0.2222222222222222,
              "#7201a8"
             ],
             [
              0.3333333333333333,
              "#9c179e"
             ],
             [
              0.4444444444444444,
              "#bd3786"
             ],
             [
              0.5555555555555556,
              "#d8576b"
             ],
             [
              0.6666666666666666,
              "#ed7953"
             ],
             [
              0.7777777777777778,
              "#fb9f3a"
             ],
             [
              0.8888888888888888,
              "#fdca26"
             ],
             [
              1,
              "#f0f921"
             ]
            ],
            "type": "surface"
           }
          ],
          "table": [
           {
            "cells": {
             "fill": {
              "color": "#EBF0F8"
             },
             "line": {
              "color": "white"
             }
            },
            "header": {
             "fill": {
              "color": "#C8D4E3"
             },
             "line": {
              "color": "white"
             }
            },
            "type": "table"
           }
          ]
         },
         "layout": {
          "annotationdefaults": {
           "arrowcolor": "#2a3f5f",
           "arrowhead": 0,
           "arrowwidth": 1
          },
          "autotypenumbers": "strict",
          "coloraxis": {
           "colorbar": {
            "outlinewidth": 0,
            "ticks": ""
           }
          },
          "colorscale": {
           "diverging": [
            [
             0,
             "#8e0152"
            ],
            [
             0.1,
             "#c51b7d"
            ],
            [
             0.2,
             "#de77ae"
            ],
            [
             0.3,
             "#f1b6da"
            ],
            [
             0.4,
             "#fde0ef"
            ],
            [
             0.5,
             "#f7f7f7"
            ],
            [
             0.6,
             "#e6f5d0"
            ],
            [
             0.7,
             "#b8e186"
            ],
            [
             0.8,
             "#7fbc41"
            ],
            [
             0.9,
             "#4d9221"
            ],
            [
             1,
             "#276419"
            ]
           ],
           "sequential": [
            [
             0,
             "#0d0887"
            ],
            [
             0.1111111111111111,
             "#46039f"
            ],
            [
             0.2222222222222222,
             "#7201a8"
            ],
            [
             0.3333333333333333,
             "#9c179e"
            ],
            [
             0.4444444444444444,
             "#bd3786"
            ],
            [
             0.5555555555555556,
             "#d8576b"
            ],
            [
             0.6666666666666666,
             "#ed7953"
            ],
            [
             0.7777777777777778,
             "#fb9f3a"
            ],
            [
             0.8888888888888888,
             "#fdca26"
            ],
            [
             1,
             "#f0f921"
            ]
           ],
           "sequentialminus": [
            [
             0,
             "#0d0887"
            ],
            [
             0.1111111111111111,
             "#46039f"
            ],
            [
             0.2222222222222222,
             "#7201a8"
            ],
            [
             0.3333333333333333,
             "#9c179e"
            ],
            [
             0.4444444444444444,
             "#bd3786"
            ],
            [
             0.5555555555555556,
             "#d8576b"
            ],
            [
             0.6666666666666666,
             "#ed7953"
            ],
            [
             0.7777777777777778,
             "#fb9f3a"
            ],
            [
             0.8888888888888888,
             "#fdca26"
            ],
            [
             1,
             "#f0f921"
            ]
           ]
          },
          "colorway": [
           "#636efa",
           "#EF553B",
           "#00cc96",
           "#ab63fa",
           "#FFA15A",
           "#19d3f3",
           "#FF6692",
           "#B6E880",
           "#FF97FF",
           "#FECB52"
          ],
          "font": {
           "color": "#2a3f5f"
          },
          "geo": {
           "bgcolor": "white",
           "lakecolor": "white",
           "landcolor": "#E5ECF6",
           "showlakes": true,
           "showland": true,
           "subunitcolor": "white"
          },
          "hoverlabel": {
           "align": "left"
          },
          "hovermode": "closest",
          "mapbox": {
           "style": "light"
          },
          "paper_bgcolor": "white",
          "plot_bgcolor": "#E5ECF6",
          "polar": {
           "angularaxis": {
            "gridcolor": "white",
            "linecolor": "white",
            "ticks": ""
           },
           "bgcolor": "#E5ECF6",
           "radialaxis": {
            "gridcolor": "white",
            "linecolor": "white",
            "ticks": ""
           }
          },
          "scene": {
           "xaxis": {
            "backgroundcolor": "#E5ECF6",
            "gridcolor": "white",
            "gridwidth": 2,
            "linecolor": "white",
            "showbackground": true,
            "ticks": "",
            "zerolinecolor": "white"
           },
           "yaxis": {
            "backgroundcolor": "#E5ECF6",
            "gridcolor": "white",
            "gridwidth": 2,
            "linecolor": "white",
            "showbackground": true,
            "ticks": "",
            "zerolinecolor": "white"
           },
           "zaxis": {
            "backgroundcolor": "#E5ECF6",
            "gridcolor": "white",
            "gridwidth": 2,
            "linecolor": "white",
            "showbackground": true,
            "ticks": "",
            "zerolinecolor": "white"
           }
          },
          "shapedefaults": {
           "line": {
            "color": "#2a3f5f"
           }
          },
          "ternary": {
           "aaxis": {
            "gridcolor": "white",
            "linecolor": "white",
            "ticks": ""
           },
           "baxis": {
            "gridcolor": "white",
            "linecolor": "white",
            "ticks": ""
           },
           "bgcolor": "#E5ECF6",
           "caxis": {
            "gridcolor": "white",
            "linecolor": "white",
            "ticks": ""
           }
          },
          "title": {
           "x": 0.05
          },
          "xaxis": {
           "automargin": true,
           "gridcolor": "white",
           "linecolor": "white",
           "ticks": "",
           "title": {
            "standoff": 15
           },
           "zerolinecolor": "white",
           "zerolinewidth": 2
          },
          "yaxis": {
           "automargin": true,
           "gridcolor": "white",
           "linecolor": "white",
           "ticks": "",
           "title": {
            "standoff": 15
           },
           "zerolinecolor": "white",
           "zerolinewidth": 2
          }
         }
        },
        "title": {
         "text": "Crude birth rate of Ca Mau",
         "x": 0.5
        },
        "xaxis": {
         "anchor": "y",
         "domain": [
          0,
          1
         ],
         "title": {
          "text": "Year"
         }
        },
        "yaxis": {
         "anchor": "x",
         "domain": [
          0,
          1
         ],
         "title": {
          "text": "Crude birth rate"
         }
        }
       }
      }
     },
     "metadata": {},
     "output_type": "display_data"
    }
   ],
   "source": [
    "birth_rates, years = inputs.get_crude_birth_rate(\"VNM\")\n",
    "birth_rates = [b / 1000.0 for b in birth_rates]  # Birth rates are provided / 1000 population\n",
    "birth_rates_series = pd.Series(birth_rates, index=years)\n",
    "br_fig= px.line(birth_rates_series)\n",
    "br_fig.update_traces(mode='markers+lines')\n",
    "br_fig.update_layout(\n",
    "    title=\"Crude birth rate of Ca Mau\",\n",
    "    title_x=0.5,\n",
    "    xaxis_title=\"Year\",\n",
    "    yaxis_title=\"Crude birth rate\",\n",
    "    showlegend=False,\n",
    ")"
   ]
  },
  {
   "cell_type": "markdown",
   "metadata": {},
   "source": [
    "### Death rate"
   ]
  },
  {
   "cell_type": "code",
   "execution_count": 9,
   "metadata": {},
   "outputs": [
    {
     "data": {
      "application/vnd.plotly.v1+json": {
       "config": {
        "plotlyServerURL": "https://plot.ly"
       },
       "data": [
        {
         "hovertemplate": "variable=0<br>index=%{x}<br>value=%{y}<extra></extra>",
         "legendgroup": "0",
         "line": {
          "color": "#636efa",
          "dash": "solid"
         },
         "marker": {
          "symbol": "circle"
         },
         "mode": "markers+lines",
         "name": "0",
         "orientation": "v",
         "showlegend": true,
         "type": "scatter",
         "x": [
          2005,
          2007,
          2008,
          2009,
          2010,
          2011,
          2012,
          2013,
          2014,
          2015,
          2016,
          2017,
          2018,
          2019,
          2020,
          2021
         ],
         "xaxis": "x",
         "y": [
          0.0048,
          0.0048,
          0.0044,
          0.0056,
          0.0056,
          0.0058,
          0.0053,
          0.006,
          0.0074,
          0.0054,
          0.0048,
          0.0066,
          0.005,
          0.0054,
          0.00521,
          0.00539
         ],
         "yaxis": "y"
        }
       ],
       "layout": {
        "legend": {
         "title": {
          "text": "variable"
         },
         "tracegroupgap": 0
        },
        "margin": {
         "t": 60
        },
        "showlegend": false,
        "template": {
         "data": {
          "bar": [
           {
            "error_x": {
             "color": "#2a3f5f"
            },
            "error_y": {
             "color": "#2a3f5f"
            },
            "marker": {
             "line": {
              "color": "#E5ECF6",
              "width": 0.5
             },
             "pattern": {
              "fillmode": "overlay",
              "size": 10,
              "solidity": 0.2
             }
            },
            "type": "bar"
           }
          ],
          "barpolar": [
           {
            "marker": {
             "line": {
              "color": "#E5ECF6",
              "width": 0.5
             },
             "pattern": {
              "fillmode": "overlay",
              "size": 10,
              "solidity": 0.2
             }
            },
            "type": "barpolar"
           }
          ],
          "carpet": [
           {
            "aaxis": {
             "endlinecolor": "#2a3f5f",
             "gridcolor": "white",
             "linecolor": "white",
             "minorgridcolor": "white",
             "startlinecolor": "#2a3f5f"
            },
            "baxis": {
             "endlinecolor": "#2a3f5f",
             "gridcolor": "white",
             "linecolor": "white",
             "minorgridcolor": "white",
             "startlinecolor": "#2a3f5f"
            },
            "type": "carpet"
           }
          ],
          "choropleth": [
           {
            "colorbar": {
             "outlinewidth": 0,
             "ticks": ""
            },
            "type": "choropleth"
           }
          ],
          "contour": [
           {
            "colorbar": {
             "outlinewidth": 0,
             "ticks": ""
            },
            "colorscale": [
             [
              0,
              "#0d0887"
             ],
             [
              0.1111111111111111,
              "#46039f"
             ],
             [
              0.2222222222222222,
              "#7201a8"
             ],
             [
              0.3333333333333333,
              "#9c179e"
             ],
             [
              0.4444444444444444,
              "#bd3786"
             ],
             [
              0.5555555555555556,
              "#d8576b"
             ],
             [
              0.6666666666666666,
              "#ed7953"
             ],
             [
              0.7777777777777778,
              "#fb9f3a"
             ],
             [
              0.8888888888888888,
              "#fdca26"
             ],
             [
              1,
              "#f0f921"
             ]
            ],
            "type": "contour"
           }
          ],
          "contourcarpet": [
           {
            "colorbar": {
             "outlinewidth": 0,
             "ticks": ""
            },
            "type": "contourcarpet"
           }
          ],
          "heatmap": [
           {
            "colorbar": {
             "outlinewidth": 0,
             "ticks": ""
            },
            "colorscale": [
             [
              0,
              "#0d0887"
             ],
             [
              0.1111111111111111,
              "#46039f"
             ],
             [
              0.2222222222222222,
              "#7201a8"
             ],
             [
              0.3333333333333333,
              "#9c179e"
             ],
             [
              0.4444444444444444,
              "#bd3786"
             ],
             [
              0.5555555555555556,
              "#d8576b"
             ],
             [
              0.6666666666666666,
              "#ed7953"
             ],
             [
              0.7777777777777778,
              "#fb9f3a"
             ],
             [
              0.8888888888888888,
              "#fdca26"
             ],
             [
              1,
              "#f0f921"
             ]
            ],
            "type": "heatmap"
           }
          ],
          "heatmapgl": [
           {
            "colorbar": {
             "outlinewidth": 0,
             "ticks": ""
            },
            "colorscale": [
             [
              0,
              "#0d0887"
             ],
             [
              0.1111111111111111,
              "#46039f"
             ],
             [
              0.2222222222222222,
              "#7201a8"
             ],
             [
              0.3333333333333333,
              "#9c179e"
             ],
             [
              0.4444444444444444,
              "#bd3786"
             ],
             [
              0.5555555555555556,
              "#d8576b"
             ],
             [
              0.6666666666666666,
              "#ed7953"
             ],
             [
              0.7777777777777778,
              "#fb9f3a"
             ],
             [
              0.8888888888888888,
              "#fdca26"
             ],
             [
              1,
              "#f0f921"
             ]
            ],
            "type": "heatmapgl"
           }
          ],
          "histogram": [
           {
            "marker": {
             "pattern": {
              "fillmode": "overlay",
              "size": 10,
              "solidity": 0.2
             }
            },
            "type": "histogram"
           }
          ],
          "histogram2d": [
           {
            "colorbar": {
             "outlinewidth": 0,
             "ticks": ""
            },
            "colorscale": [
             [
              0,
              "#0d0887"
             ],
             [
              0.1111111111111111,
              "#46039f"
             ],
             [
              0.2222222222222222,
              "#7201a8"
             ],
             [
              0.3333333333333333,
              "#9c179e"
             ],
             [
              0.4444444444444444,
              "#bd3786"
             ],
             [
              0.5555555555555556,
              "#d8576b"
             ],
             [
              0.6666666666666666,
              "#ed7953"
             ],
             [
              0.7777777777777778,
              "#fb9f3a"
             ],
             [
              0.8888888888888888,
              "#fdca26"
             ],
             [
              1,
              "#f0f921"
             ]
            ],
            "type": "histogram2d"
           }
          ],
          "histogram2dcontour": [
           {
            "colorbar": {
             "outlinewidth": 0,
             "ticks": ""
            },
            "colorscale": [
             [
              0,
              "#0d0887"
             ],
             [
              0.1111111111111111,
              "#46039f"
             ],
             [
              0.2222222222222222,
              "#7201a8"
             ],
             [
              0.3333333333333333,
              "#9c179e"
             ],
             [
              0.4444444444444444,
              "#bd3786"
             ],
             [
              0.5555555555555556,
              "#d8576b"
             ],
             [
              0.6666666666666666,
              "#ed7953"
             ],
             [
              0.7777777777777778,
              "#fb9f3a"
             ],
             [
              0.8888888888888888,
              "#fdca26"
             ],
             [
              1,
              "#f0f921"
             ]
            ],
            "type": "histogram2dcontour"
           }
          ],
          "mesh3d": [
           {
            "colorbar": {
             "outlinewidth": 0,
             "ticks": ""
            },
            "type": "mesh3d"
           }
          ],
          "parcoords": [
           {
            "line": {
             "colorbar": {
              "outlinewidth": 0,
              "ticks": ""
             }
            },
            "type": "parcoords"
           }
          ],
          "pie": [
           {
            "automargin": true,
            "type": "pie"
           }
          ],
          "scatter": [
           {
            "fillpattern": {
             "fillmode": "overlay",
             "size": 10,
             "solidity": 0.2
            },
            "type": "scatter"
           }
          ],
          "scatter3d": [
           {
            "line": {
             "colorbar": {
              "outlinewidth": 0,
              "ticks": ""
             }
            },
            "marker": {
             "colorbar": {
              "outlinewidth": 0,
              "ticks": ""
             }
            },
            "type": "scatter3d"
           }
          ],
          "scattercarpet": [
           {
            "marker": {
             "colorbar": {
              "outlinewidth": 0,
              "ticks": ""
             }
            },
            "type": "scattercarpet"
           }
          ],
          "scattergeo": [
           {
            "marker": {
             "colorbar": {
              "outlinewidth": 0,
              "ticks": ""
             }
            },
            "type": "scattergeo"
           }
          ],
          "scattergl": [
           {
            "marker": {
             "colorbar": {
              "outlinewidth": 0,
              "ticks": ""
             }
            },
            "type": "scattergl"
           }
          ],
          "scattermapbox": [
           {
            "marker": {
             "colorbar": {
              "outlinewidth": 0,
              "ticks": ""
             }
            },
            "type": "scattermapbox"
           }
          ],
          "scatterpolar": [
           {
            "marker": {
             "colorbar": {
              "outlinewidth": 0,
              "ticks": ""
             }
            },
            "type": "scatterpolar"
           }
          ],
          "scatterpolargl": [
           {
            "marker": {
             "colorbar": {
              "outlinewidth": 0,
              "ticks": ""
             }
            },
            "type": "scatterpolargl"
           }
          ],
          "scatterternary": [
           {
            "marker": {
             "colorbar": {
              "outlinewidth": 0,
              "ticks": ""
             }
            },
            "type": "scatterternary"
           }
          ],
          "surface": [
           {
            "colorbar": {
             "outlinewidth": 0,
             "ticks": ""
            },
            "colorscale": [
             [
              0,
              "#0d0887"
             ],
             [
              0.1111111111111111,
              "#46039f"
             ],
             [
              0.2222222222222222,
              "#7201a8"
             ],
             [
              0.3333333333333333,
              "#9c179e"
             ],
             [
              0.4444444444444444,
              "#bd3786"
             ],
             [
              0.5555555555555556,
              "#d8576b"
             ],
             [
              0.6666666666666666,
              "#ed7953"
             ],
             [
              0.7777777777777778,
              "#fb9f3a"
             ],
             [
              0.8888888888888888,
              "#fdca26"
             ],
             [
              1,
              "#f0f921"
             ]
            ],
            "type": "surface"
           }
          ],
          "table": [
           {
            "cells": {
             "fill": {
              "color": "#EBF0F8"
             },
             "line": {
              "color": "white"
             }
            },
            "header": {
             "fill": {
              "color": "#C8D4E3"
             },
             "line": {
              "color": "white"
             }
            },
            "type": "table"
           }
          ]
         },
         "layout": {
          "annotationdefaults": {
           "arrowcolor": "#2a3f5f",
           "arrowhead": 0,
           "arrowwidth": 1
          },
          "autotypenumbers": "strict",
          "coloraxis": {
           "colorbar": {
            "outlinewidth": 0,
            "ticks": ""
           }
          },
          "colorscale": {
           "diverging": [
            [
             0,
             "#8e0152"
            ],
            [
             0.1,
             "#c51b7d"
            ],
            [
             0.2,
             "#de77ae"
            ],
            [
             0.3,
             "#f1b6da"
            ],
            [
             0.4,
             "#fde0ef"
            ],
            [
             0.5,
             "#f7f7f7"
            ],
            [
             0.6,
             "#e6f5d0"
            ],
            [
             0.7,
             "#b8e186"
            ],
            [
             0.8,
             "#7fbc41"
            ],
            [
             0.9,
             "#4d9221"
            ],
            [
             1,
             "#276419"
            ]
           ],
           "sequential": [
            [
             0,
             "#0d0887"
            ],
            [
             0.1111111111111111,
             "#46039f"
            ],
            [
             0.2222222222222222,
             "#7201a8"
            ],
            [
             0.3333333333333333,
             "#9c179e"
            ],
            [
             0.4444444444444444,
             "#bd3786"
            ],
            [
             0.5555555555555556,
             "#d8576b"
            ],
            [
             0.6666666666666666,
             "#ed7953"
            ],
            [
             0.7777777777777778,
             "#fb9f3a"
            ],
            [
             0.8888888888888888,
             "#fdca26"
            ],
            [
             1,
             "#f0f921"
            ]
           ],
           "sequentialminus": [
            [
             0,
             "#0d0887"
            ],
            [
             0.1111111111111111,
             "#46039f"
            ],
            [
             0.2222222222222222,
             "#7201a8"
            ],
            [
             0.3333333333333333,
             "#9c179e"
            ],
            [
             0.4444444444444444,
             "#bd3786"
            ],
            [
             0.5555555555555556,
             "#d8576b"
            ],
            [
             0.6666666666666666,
             "#ed7953"
            ],
            [
             0.7777777777777778,
             "#fb9f3a"
            ],
            [
             0.8888888888888888,
             "#fdca26"
            ],
            [
             1,
             "#f0f921"
            ]
           ]
          },
          "colorway": [
           "#636efa",
           "#EF553B",
           "#00cc96",
           "#ab63fa",
           "#FFA15A",
           "#19d3f3",
           "#FF6692",
           "#B6E880",
           "#FF97FF",
           "#FECB52"
          ],
          "font": {
           "color": "#2a3f5f"
          },
          "geo": {
           "bgcolor": "white",
           "lakecolor": "white",
           "landcolor": "#E5ECF6",
           "showlakes": true,
           "showland": true,
           "subunitcolor": "white"
          },
          "hoverlabel": {
           "align": "left"
          },
          "hovermode": "closest",
          "mapbox": {
           "style": "light"
          },
          "paper_bgcolor": "white",
          "plot_bgcolor": "#E5ECF6",
          "polar": {
           "angularaxis": {
            "gridcolor": "white",
            "linecolor": "white",
            "ticks": ""
           },
           "bgcolor": "#E5ECF6",
           "radialaxis": {
            "gridcolor": "white",
            "linecolor": "white",
            "ticks": ""
           }
          },
          "scene": {
           "xaxis": {
            "backgroundcolor": "#E5ECF6",
            "gridcolor": "white",
            "gridwidth": 2,
            "linecolor": "white",
            "showbackground": true,
            "ticks": "",
            "zerolinecolor": "white"
           },
           "yaxis": {
            "backgroundcolor": "#E5ECF6",
            "gridcolor": "white",
            "gridwidth": 2,
            "linecolor": "white",
            "showbackground": true,
            "ticks": "",
            "zerolinecolor": "white"
           },
           "zaxis": {
            "backgroundcolor": "#E5ECF6",
            "gridcolor": "white",
            "gridwidth": 2,
            "linecolor": "white",
            "showbackground": true,
            "ticks": "",
            "zerolinecolor": "white"
           }
          },
          "shapedefaults": {
           "line": {
            "color": "#2a3f5f"
           }
          },
          "ternary": {
           "aaxis": {
            "gridcolor": "white",
            "linecolor": "white",
            "ticks": ""
           },
           "baxis": {
            "gridcolor": "white",
            "linecolor": "white",
            "ticks": ""
           },
           "bgcolor": "#E5ECF6",
           "caxis": {
            "gridcolor": "white",
            "linecolor": "white",
            "ticks": ""
           }
          },
          "title": {
           "x": 0.05
          },
          "xaxis": {
           "automargin": true,
           "gridcolor": "white",
           "linecolor": "white",
           "ticks": "",
           "title": {
            "standoff": 15
           },
           "zerolinecolor": "white",
           "zerolinewidth": 2
          },
          "yaxis": {
           "automargin": true,
           "gridcolor": "white",
           "linecolor": "white",
           "ticks": "",
           "title": {
            "standoff": 15
           },
           "zerolinecolor": "white",
           "zerolinewidth": 2
          }
         }
        },
        "title": {
         "text": "Crude death rate of Ca Mau",
         "x": 0.5
        },
        "xaxis": {
         "anchor": "y",
         "domain": [
          0,
          1
         ],
         "title": {
          "text": "Year"
         }
        },
        "yaxis": {
         "anchor": "x",
         "domain": [
          0,
          1
         ],
         "title": {
          "text": "Crude death rate"
         }
        }
       }
      }
     },
     "metadata": {},
     "output_type": "display_data"
    }
   ],
   "source": [
    "#Query and visualize the crude birth rate from database\n",
    "years, death_rates = queries.get_camau_death_rate()\n",
    "death_rates = [b / 1000.0 for b in death_rates]  # Birth rates are provided / 1000 population\n",
    "death_rates_series = pd.Series(death_rates, index=years)\n",
    "dr_fig= px.line(death_rates_series)\n",
    "dr_fig.update_traces(mode='markers+lines')\n",
    "dr_fig.update_layout(\n",
    "    title=\"Crude death rate of Ca Mau\",\n",
    "    title_x=0.5,\n",
    "    xaxis_title=\"Year\",\n",
    "    yaxis_title=\"Crude death rate\",\n",
    "    showlegend=False,\n",
    ")"
   ]
  },
  {
   "cell_type": "markdown",
   "metadata": {},
   "source": [
    "### Mixing matrix"
   ]
  },
  {
   "cell_type": "code",
   "execution_count": 10,
   "metadata": {},
   "outputs": [
    {
     "name": "stdout",
     "output_type": "stream",
     "text": [
      "Target region: CAMAU (VNM)\n",
      "Proxy country: VNM\n",
      "Always age-adjusted to target population\n"
     ]
    }
   ],
   "source": [
    "print(f\"Target region: {region.upper()} ({iso3})\")\n",
    "print(f\"Proxy country: {source_iso3}\")\n",
    "print(\"Always age-adjusted to target population\")"
   ]
  },
  {
   "cell_type": "code",
   "execution_count": 11,
   "metadata": {},
   "outputs": [],
   "source": [
    "update_params = {\n",
    "    'contact_rate': 0.009873800321330462,\n",
    "    'infectious_seed': 1923.5388128488319,\n",
    "    'progression_multiplier': 0.65,\n",
    "    'rr_infection_latent': 0.3,\n",
    "    'rr_infection_recovered': 0.5,\n",
    "    'start_population_size':233198.,\n",
    "    #'time.start': 1950\n",
    "\n",
    "}\n",
    "params = baseline_params.update(update_params,calibration_format=True)\n",
    "model_0  =  p.build_model(params.to_dict())\n",
    "model_0.run(params.to_dict())\n",
    "derived_df_0 = model_0.get_derived_outputs_df()"
   ]
  },
  {
   "cell_type": "code",
   "execution_count": 12,
   "metadata": {},
   "outputs": [
    {
     "name": "stdout",
     "output_type": "stream",
     "text": [
      "[[ 398.43289672  261.82020387  643.68286218  401.62199159  356.13449939]\n",
      " [ 165.78966683  881.63067677  532.84120554  550.75979227  285.62836724]\n",
      " [ 231.75164317  311.38983781  915.52884268  673.30894113  664.14577066]\n",
      " [ 141.94492435  310.88835505  786.13676958 1134.31076003  938.03403291]\n",
      " [  67.30073632  170.46333134  647.30153978 1018.81243422 1763.57657715]]\n"
     ]
    },
    {
     "data": {
      "application/vnd.plotly.v1+json": {
       "config": {
        "plotlyServerURL": "https://plot.ly"
       },
       "data": [
        {
         "coloraxis": "coloraxis",
         "hovertemplate": "x: %{x}<br>y: %{y}<br>color: %{z}<extra></extra>",
         "name": "0",
         "type": "heatmap",
         "xaxis": "x",
         "yaxis": "y",
         "z": [
          [
           398.43289671715854,
           261.82020387348075,
           643.6828621777573,
           401.62199158977194,
           356.13449938807395
          ],
          [
           165.78966683273993,
           881.6306767735196,
           532.8412055425431,
           550.7597922690397,
           285.6283672428183
          ],
          [
           231.75164316722984,
           311.3898378099071,
           915.5288426752608,
           673.3089411339307,
           664.1457706557599
          ],
          [
           141.94492435330548,
           310.8883550484485,
           786.1367695812622,
           1134.3107600305705,
           938.0340329110602
          ],
          [
           67.30073631874295,
           170.46333134386853,
           647.3015397795145,
           1018.8124342209532,
           1763.576577145928
          ]
         ]
        }
       ],
       "layout": {
        "coloraxis": {
         "colorscale": [
          [
           0,
           "#0d0887"
          ],
          [
           0.1111111111111111,
           "#46039f"
          ],
          [
           0.2222222222222222,
           "#7201a8"
          ],
          [
           0.3333333333333333,
           "#9c179e"
          ],
          [
           0.4444444444444444,
           "#bd3786"
          ],
          [
           0.5555555555555556,
           "#d8576b"
          ],
          [
           0.6666666666666666,
           "#ed7953"
          ],
          [
           0.7777777777777778,
           "#fb9f3a"
          ],
          [
           0.8888888888888888,
           "#fdca26"
          ],
          [
           1,
           "#f0f921"
          ]
         ]
        },
        "margin": {
         "t": 60
        },
        "template": {
         "data": {
          "bar": [
           {
            "error_x": {
             "color": "#2a3f5f"
            },
            "error_y": {
             "color": "#2a3f5f"
            },
            "marker": {
             "line": {
              "color": "#E5ECF6",
              "width": 0.5
             },
             "pattern": {
              "fillmode": "overlay",
              "size": 10,
              "solidity": 0.2
             }
            },
            "type": "bar"
           }
          ],
          "barpolar": [
           {
            "marker": {
             "line": {
              "color": "#E5ECF6",
              "width": 0.5
             },
             "pattern": {
              "fillmode": "overlay",
              "size": 10,
              "solidity": 0.2
             }
            },
            "type": "barpolar"
           }
          ],
          "carpet": [
           {
            "aaxis": {
             "endlinecolor": "#2a3f5f",
             "gridcolor": "white",
             "linecolor": "white",
             "minorgridcolor": "white",
             "startlinecolor": "#2a3f5f"
            },
            "baxis": {
             "endlinecolor": "#2a3f5f",
             "gridcolor": "white",
             "linecolor": "white",
             "minorgridcolor": "white",
             "startlinecolor": "#2a3f5f"
            },
            "type": "carpet"
           }
          ],
          "choropleth": [
           {
            "colorbar": {
             "outlinewidth": 0,
             "ticks": ""
            },
            "type": "choropleth"
           }
          ],
          "contour": [
           {
            "colorbar": {
             "outlinewidth": 0,
             "ticks": ""
            },
            "colorscale": [
             [
              0,
              "#0d0887"
             ],
             [
              0.1111111111111111,
              "#46039f"
             ],
             [
              0.2222222222222222,
              "#7201a8"
             ],
             [
              0.3333333333333333,
              "#9c179e"
             ],
             [
              0.4444444444444444,
              "#bd3786"
             ],
             [
              0.5555555555555556,
              "#d8576b"
             ],
             [
              0.6666666666666666,
              "#ed7953"
             ],
             [
              0.7777777777777778,
              "#fb9f3a"
             ],
             [
              0.8888888888888888,
              "#fdca26"
             ],
             [
              1,
              "#f0f921"
             ]
            ],
            "type": "contour"
           }
          ],
          "contourcarpet": [
           {
            "colorbar": {
             "outlinewidth": 0,
             "ticks": ""
            },
            "type": "contourcarpet"
           }
          ],
          "heatmap": [
           {
            "colorbar": {
             "outlinewidth": 0,
             "ticks": ""
            },
            "colorscale": [
             [
              0,
              "#0d0887"
             ],
             [
              0.1111111111111111,
              "#46039f"
             ],
             [
              0.2222222222222222,
              "#7201a8"
             ],
             [
              0.3333333333333333,
              "#9c179e"
             ],
             [
              0.4444444444444444,
              "#bd3786"
             ],
             [
              0.5555555555555556,
              "#d8576b"
             ],
             [
              0.6666666666666666,
              "#ed7953"
             ],
             [
              0.7777777777777778,
              "#fb9f3a"
             ],
             [
              0.8888888888888888,
              "#fdca26"
             ],
             [
              1,
              "#f0f921"
             ]
            ],
            "type": "heatmap"
           }
          ],
          "heatmapgl": [
           {
            "colorbar": {
             "outlinewidth": 0,
             "ticks": ""
            },
            "colorscale": [
             [
              0,
              "#0d0887"
             ],
             [
              0.1111111111111111,
              "#46039f"
             ],
             [
              0.2222222222222222,
              "#7201a8"
             ],
             [
              0.3333333333333333,
              "#9c179e"
             ],
             [
              0.4444444444444444,
              "#bd3786"
             ],
             [
              0.5555555555555556,
              "#d8576b"
             ],
             [
              0.6666666666666666,
              "#ed7953"
             ],
             [
              0.7777777777777778,
              "#fb9f3a"
             ],
             [
              0.8888888888888888,
              "#fdca26"
             ],
             [
              1,
              "#f0f921"
             ]
            ],
            "type": "heatmapgl"
           }
          ],
          "histogram": [
           {
            "marker": {
             "pattern": {
              "fillmode": "overlay",
              "size": 10,
              "solidity": 0.2
             }
            },
            "type": "histogram"
           }
          ],
          "histogram2d": [
           {
            "colorbar": {
             "outlinewidth": 0,
             "ticks": ""
            },
            "colorscale": [
             [
              0,
              "#0d0887"
             ],
             [
              0.1111111111111111,
              "#46039f"
             ],
             [
              0.2222222222222222,
              "#7201a8"
             ],
             [
              0.3333333333333333,
              "#9c179e"
             ],
             [
              0.4444444444444444,
              "#bd3786"
             ],
             [
              0.5555555555555556,
              "#d8576b"
             ],
             [
              0.6666666666666666,
              "#ed7953"
             ],
             [
              0.7777777777777778,
              "#fb9f3a"
             ],
             [
              0.8888888888888888,
              "#fdca26"
             ],
             [
              1,
              "#f0f921"
             ]
            ],
            "type": "histogram2d"
           }
          ],
          "histogram2dcontour": [
           {
            "colorbar": {
             "outlinewidth": 0,
             "ticks": ""
            },
            "colorscale": [
             [
              0,
              "#0d0887"
             ],
             [
              0.1111111111111111,
              "#46039f"
             ],
             [
              0.2222222222222222,
              "#7201a8"
             ],
             [
              0.3333333333333333,
              "#9c179e"
             ],
             [
              0.4444444444444444,
              "#bd3786"
             ],
             [
              0.5555555555555556,
              "#d8576b"
             ],
             [
              0.6666666666666666,
              "#ed7953"
             ],
             [
              0.7777777777777778,
              "#fb9f3a"
             ],
             [
              0.8888888888888888,
              "#fdca26"
             ],
             [
              1,
              "#f0f921"
             ]
            ],
            "type": "histogram2dcontour"
           }
          ],
          "mesh3d": [
           {
            "colorbar": {
             "outlinewidth": 0,
             "ticks": ""
            },
            "type": "mesh3d"
           }
          ],
          "parcoords": [
           {
            "line": {
             "colorbar": {
              "outlinewidth": 0,
              "ticks": ""
             }
            },
            "type": "parcoords"
           }
          ],
          "pie": [
           {
            "automargin": true,
            "type": "pie"
           }
          ],
          "scatter": [
           {
            "fillpattern": {
             "fillmode": "overlay",
             "size": 10,
             "solidity": 0.2
            },
            "type": "scatter"
           }
          ],
          "scatter3d": [
           {
            "line": {
             "colorbar": {
              "outlinewidth": 0,
              "ticks": ""
             }
            },
            "marker": {
             "colorbar": {
              "outlinewidth": 0,
              "ticks": ""
             }
            },
            "type": "scatter3d"
           }
          ],
          "scattercarpet": [
           {
            "marker": {
             "colorbar": {
              "outlinewidth": 0,
              "ticks": ""
             }
            },
            "type": "scattercarpet"
           }
          ],
          "scattergeo": [
           {
            "marker": {
             "colorbar": {
              "outlinewidth": 0,
              "ticks": ""
             }
            },
            "type": "scattergeo"
           }
          ],
          "scattergl": [
           {
            "marker": {
             "colorbar": {
              "outlinewidth": 0,
              "ticks": ""
             }
            },
            "type": "scattergl"
           }
          ],
          "scattermapbox": [
           {
            "marker": {
             "colorbar": {
              "outlinewidth": 0,
              "ticks": ""
             }
            },
            "type": "scattermapbox"
           }
          ],
          "scatterpolar": [
           {
            "marker": {
             "colorbar": {
              "outlinewidth": 0,
              "ticks": ""
             }
            },
            "type": "scatterpolar"
           }
          ],
          "scatterpolargl": [
           {
            "marker": {
             "colorbar": {
              "outlinewidth": 0,
              "ticks": ""
             }
            },
            "type": "scatterpolargl"
           }
          ],
          "scatterternary": [
           {
            "marker": {
             "colorbar": {
              "outlinewidth": 0,
              "ticks": ""
             }
            },
            "type": "scatterternary"
           }
          ],
          "surface": [
           {
            "colorbar": {
             "outlinewidth": 0,
             "ticks": ""
            },
            "colorscale": [
             [
              0,
              "#0d0887"
             ],
             [
              0.1111111111111111,
              "#46039f"
             ],
             [
              0.2222222222222222,
              "#7201a8"
             ],
             [
              0.3333333333333333,
              "#9c179e"
             ],
             [
              0.4444444444444444,
              "#bd3786"
             ],
             [
              0.5555555555555556,
              "#d8576b"
             ],
             [
              0.6666666666666666,
              "#ed7953"
             ],
             [
              0.7777777777777778,
              "#fb9f3a"
             ],
             [
              0.8888888888888888,
              "#fdca26"
             ],
             [
              1,
              "#f0f921"
             ]
            ],
            "type": "surface"
           }
          ],
          "table": [
           {
            "cells": {
             "fill": {
              "color": "#EBF0F8"
             },
             "line": {
              "color": "white"
             }
            },
            "header": {
             "fill": {
              "color": "#C8D4E3"
             },
             "line": {
              "color": "white"
             }
            },
            "type": "table"
           }
          ]
         },
         "layout": {
          "annotationdefaults": {
           "arrowcolor": "#2a3f5f",
           "arrowhead": 0,
           "arrowwidth": 1
          },
          "autotypenumbers": "strict",
          "coloraxis": {
           "colorbar": {
            "outlinewidth": 0,
            "ticks": ""
           }
          },
          "colorscale": {
           "diverging": [
            [
             0,
             "#8e0152"
            ],
            [
             0.1,
             "#c51b7d"
            ],
            [
             0.2,
             "#de77ae"
            ],
            [
             0.3,
             "#f1b6da"
            ],
            [
             0.4,
             "#fde0ef"
            ],
            [
             0.5,
             "#f7f7f7"
            ],
            [
             0.6,
             "#e6f5d0"
            ],
            [
             0.7,
             "#b8e186"
            ],
            [
             0.8,
             "#7fbc41"
            ],
            [
             0.9,
             "#4d9221"
            ],
            [
             1,
             "#276419"
            ]
           ],
           "sequential": [
            [
             0,
             "#0d0887"
            ],
            [
             0.1111111111111111,
             "#46039f"
            ],
            [
             0.2222222222222222,
             "#7201a8"
            ],
            [
             0.3333333333333333,
             "#9c179e"
            ],
            [
             0.4444444444444444,
             "#bd3786"
            ],
            [
             0.5555555555555556,
             "#d8576b"
            ],
            [
             0.6666666666666666,
             "#ed7953"
            ],
            [
             0.7777777777777778,
             "#fb9f3a"
            ],
            [
             0.8888888888888888,
             "#fdca26"
            ],
            [
             1,
             "#f0f921"
            ]
           ],
           "sequentialminus": [
            [
             0,
             "#0d0887"
            ],
            [
             0.1111111111111111,
             "#46039f"
            ],
            [
             0.2222222222222222,
             "#7201a8"
            ],
            [
             0.3333333333333333,
             "#9c179e"
            ],
            [
             0.4444444444444444,
             "#bd3786"
            ],
            [
             0.5555555555555556,
             "#d8576b"
            ],
            [
             0.6666666666666666,
             "#ed7953"
            ],
            [
             0.7777777777777778,
             "#fb9f3a"
            ],
            [
             0.8888888888888888,
             "#fdca26"
            ],
            [
             1,
             "#f0f921"
            ]
           ]
          },
          "colorway": [
           "#636efa",
           "#EF553B",
           "#00cc96",
           "#ab63fa",
           "#FFA15A",
           "#19d3f3",
           "#FF6692",
           "#B6E880",
           "#FF97FF",
           "#FECB52"
          ],
          "font": {
           "color": "#2a3f5f"
          },
          "geo": {
           "bgcolor": "white",
           "lakecolor": "white",
           "landcolor": "#E5ECF6",
           "showlakes": true,
           "showland": true,
           "subunitcolor": "white"
          },
          "hoverlabel": {
           "align": "left"
          },
          "hovermode": "closest",
          "mapbox": {
           "style": "light"
          },
          "paper_bgcolor": "white",
          "plot_bgcolor": "#E5ECF6",
          "polar": {
           "angularaxis": {
            "gridcolor": "white",
            "linecolor": "white",
            "ticks": ""
           },
           "bgcolor": "#E5ECF6",
           "radialaxis": {
            "gridcolor": "white",
            "linecolor": "white",
            "ticks": ""
           }
          },
          "scene": {
           "xaxis": {
            "backgroundcolor": "#E5ECF6",
            "gridcolor": "white",
            "gridwidth": 2,
            "linecolor": "white",
            "showbackground": true,
            "ticks": "",
            "zerolinecolor": "white"
           },
           "yaxis": {
            "backgroundcolor": "#E5ECF6",
            "gridcolor": "white",
            "gridwidth": 2,
            "linecolor": "white",
            "showbackground": true,
            "ticks": "",
            "zerolinecolor": "white"
           },
           "zaxis": {
            "backgroundcolor": "#E5ECF6",
            "gridcolor": "white",
            "gridwidth": 2,
            "linecolor": "white",
            "showbackground": true,
            "ticks": "",
            "zerolinecolor": "white"
           }
          },
          "shapedefaults": {
           "line": {
            "color": "#2a3f5f"
           }
          },
          "ternary": {
           "aaxis": {
            "gridcolor": "white",
            "linecolor": "white",
            "ticks": ""
           },
           "baxis": {
            "gridcolor": "white",
            "linecolor": "white",
            "ticks": ""
           },
           "bgcolor": "#E5ECF6",
           "caxis": {
            "gridcolor": "white",
            "linecolor": "white",
            "ticks": ""
           }
          },
          "title": {
           "x": 0.05
          },
          "xaxis": {
           "automargin": true,
           "gridcolor": "white",
           "linecolor": "white",
           "ticks": "",
           "title": {
            "standoff": 15
           },
           "zerolinecolor": "white",
           "zerolinewidth": 2
          },
          "yaxis": {
           "automargin": true,
           "gridcolor": "white",
           "linecolor": "white",
           "ticks": "",
           "title": {
            "standoff": 15
           },
           "zerolinecolor": "white",
           "zerolinewidth": 2
          }
         }
        },
        "xaxis": {
         "anchor": "y",
         "constrain": "domain",
         "domain": [
          0,
          1
         ],
         "scaleanchor": "y"
        },
        "yaxis": {
         "anchor": "x",
         "autorange": "reversed",
         "constrain": "domain",
         "domain": [
          0,
          1
         ]
        }
       }
      }
     },
     "metadata": {},
     "output_type": "display_data"
    }
   ],
   "source": [
    "#get the step test object\n",
    "res = model_0._get_step_test(params.to_dict(), 2000)\n",
    "print(res.ts_graph_vals['age_mixing_matrix'])\n",
    "# it is the \"real\" age_mixing matrix\n",
    "px.imshow(res.ts_graph_vals['age_mixing_matrix'])"
   ]
  },
  {
   "cell_type": "code",
   "execution_count": 13,
   "metadata": {},
   "outputs": [
    {
     "data": {
      "application/vnd.plotly.v1+json": {
       "config": {
        "plotlyServerURL": "https://plot.ly"
       },
       "data": [
        {
         "hoverinfo": "none",
         "line": {
          "color": "#888",
          "width": 1
         },
         "mode": "lines",
         "textposition": "top center",
         "type": "scatter",
         "x": [
          0.22442775447369748,
          0.3661726535522456,
          null,
          0.22442775447369748,
          0.5301236037881383,
          null,
          0.22442775447369748,
          -0.7371237456078901,
          null,
          0.22442775447369748,
          0.057778744081153736,
          null,
          0.22442775447369748,
          0.5411222791320908,
          null,
          0.22442775447369748,
          0.9729111509232818,
          null,
          0.3155965010573248,
          0.3661726535522456,
          null,
          -0.0887968353724863,
          0.3155965010573248,
          null,
          -0.0887968353724863,
          0.5662903095995883,
          null,
          -0.0887968353724863,
          -0.6143140726012511,
          null,
          -0.0887968353724863,
          -0.40972115222921934,
          null,
          -0.0887968353724863,
          -0.2672136801316862,
          null,
          -0.0887968353724863,
          -0.09923734632684227,
          null,
          -0.0887968353724863,
          -0.1348415151337246,
          null,
          -0.0887968353724863,
          -0.47652121353466664,
          null,
          -0.0887968353724863,
          -0.14767006840192246,
          null,
          -0.0887968353724863,
          0.04157541831592222,
          null,
          -0.0887968353724863,
          0.04188566696745142,
          null,
          0.3661726535522456,
          0.5372264984889173,
          null,
          0.5662903095995883,
          0.5301236037881383,
          null,
          0.5301236037881383,
          0.6036740855662079,
          null,
          -0.6143140726012511,
          -0.7371237456078901,
          null,
          -0.7371237456078901,
          -0.9001012303886955,
          null,
          0.04404906702750348,
          0.057778744081153736,
          null,
          0.057778744081153736,
          0.0758303202326912,
          null,
          0.494224690700044,
          0.5411222791320908,
          null,
          0.5411222791320908,
          0.5458045230742803,
          null,
          -0.013937329816855687,
          0.35403485088229386,
          null,
          -0.013937329816855687,
          0.20496800965403472,
          null,
          -0.013937329816855687,
          0.38058940516912015,
          null,
          -0.013937329816855687,
          0.07208478925177927,
          null,
          -0.013937329816855687,
          -0.8199352792623,
          null,
          -0.013937329816855687,
          -0.46073192423513043,
          null,
          -0.013937329816855687,
          0.7339998001341675,
          null,
          -0.013937329816855687,
          0.22839677302495565,
          null,
          -0.013937329816855687,
          -0.8654484343436298,
          null,
          -0.013937329816855687,
          -0.1437789405374556,
          null,
          -0.013937329816855687,
          0.6183194900607609,
          null,
          -0.013937329816855687,
          -0.3080462346991545,
          null,
          -0.013937329816855687,
          0.7571126028207874,
          null,
          -0.013937329816855687,
          -0.7430414639616068,
          null,
          -0.013937329816855687,
          0.15919908820240902,
          null,
          -0.013937329816855687,
          -0.7991951303021022,
          null,
          -0.013937329816855687,
          0.40718105876974714,
          null,
          -0.013937329816855687,
          -0.7486267631454189,
          null,
          -0.013937329816855687,
          0.8095339686917468,
          null,
          -0.013937329816855687,
          -0.5548925149865368,
          null,
          -0.013937329816855687,
          0.7401915642000297,
          null,
          -0.013937329816855687,
          -0.28268488298625055,
          null,
          -0.013937329816855687,
          -0.5804029117548624,
          null,
          -0.013937329816855687,
          0.16741762118542347,
          null,
          0.3313306545818913,
          0.35403485088229386,
          null,
          0.35403485088229386,
          0.43382387849065446,
          null,
          0.17005359383655444,
          0.20496800965403472,
          null,
          0.20496800965403472,
          0.19347858234195303,
          null,
          0.3039238085875098,
          0.38058940516912015,
          null,
          -0.03587253220354312,
          0.3039238085875098,
          null,
          -0.03587253220354312,
          0.06178426805563269,
          null,
          -0.03587253220354312,
          -0.821692383466095,
          null,
          -0.03587253220354312,
          -0.40187754915681984,
          null,
          -0.03587253220354312,
          0.5978282485986719,
          null,
          -0.03587253220354312,
          0.20518765850725107,
          null,
          0.38058940516912015,
          0.43495936718333095,
          null,
          0.06178426805563269,
          0.07208478925177927,
          null,
          0.07208478925177927,
          0.08861724250264603,
          null,
          -0.821692383466095,
          -0.8199352792623,
          null,
          -0.8199352792623,
          -0.9674105867425288,
          null,
          -0.40187754915681984,
          -0.46073192423513043,
          null,
          -0.46073192423513043,
          -0.485496385524405,
          null,
          0.5978282485986719,
          0.7339998001341675,
          null,
          0.7339998001341675,
          0.7831711216494391,
          null,
          0.20518765850725107,
          0.22839677302495565,
          null,
          0.22839677302495565,
          0.3232093442184941,
          null,
          -0.7750025006625109,
          -0.8105472466431372,
          null,
          -0.40972115222921934,
          -0.4338024687960667,
          null,
          -0.1302304704787652,
          -0.8654484343436298,
          null,
          -0.1302304704787652,
          -0.6170303493529936,
          null,
          -0.1302304704787652,
          0.7648570062242814,
          null,
          -0.2672136801316862,
          -0.1302304704787652,
          null,
          -0.2672136801316862,
          -0.6170303493529936,
          null,
          -0.2672136801316862,
          -0.14463925614155138,
          null,
          -0.09923734632684227,
          -0.1302304704787652,
          null,
          -0.09923734632684227,
          -0.11877065460156731,
          null,
          -0.09923734632684227,
          0.10163594740859692,
          null,
          -0.09923734632684227,
          -0.0720505556893975,
          null,
          -0.09923734632684227,
          -0.0684210719912923,
          null,
          -0.09923734632684227,
          -0.6170303493529936,
          null,
          -0.09923734632684227,
          0.12679582158503092,
          null,
          -0.09923734632684227,
          -0.733913200615766,
          null,
          -0.09923734632684227,
          0.33825710425371586,
          null,
          -0.09923734632684227,
          -0.6358701951699817,
          null,
          -0.09923734632684227,
          0.7648570062242814,
          null,
          -0.09923734632684227,
          -0.49533168953711953,
          null,
          -0.09923734632684227,
          0.6560461782590434,
          null,
          -0.09923734632684227,
          -0.2521136691115087,
          null,
          -0.09923734632684227,
          -0.6125577021453288,
          null,
          -0.8654484343436298,
          -0.9837811982109618,
          null,
          -0.11877065460156731,
          -0.1437789405374556,
          null,
          -0.11877065460156731,
          0.12679582158503092,
          null,
          -0.11877065460156731,
          -0.49533168953711953,
          null,
          -0.1348415151337246,
          -0.11877065460156731,
          null,
          -0.1348415151337246,
          0.12679582158503092,
          null,
          -0.1348415151337246,
          -0.32340031060120417,
          null,
          -0.1437789405374556,
          -0.17137973544857776,
          null,
          0.10163594740859692,
          0.6183194900607609,
          null,
          0.10163594740859692,
          -0.733913200615766,
          null,
          0.10163594740859692,
          0.6560461782590434,
          null,
          -0.47652121353466664,
          0.10163594740859692,
          null,
          -0.47652121353466664,
          -0.733913200615766,
          null,
          -0.47652121353466664,
          -0.9884103754455463,
          null,
          0.6183194900607609,
          0.6124410803743235,
          null,
          -0.0720505556893975,
          -0.3080462346991545,
          null,
          -0.0720505556893975,
          0.33825710425371586,
          null,
          -0.0720505556893975,
          -0.2521136691115087,
          null,
          -0.14767006840192246,
          -0.0720505556893975,
          null,
          -0.14767006840192246,
          0.33825710425371586,
          null,
          -0.14767006840192246,
          -0.6715819025933052,
          null,
          -0.3080462346991545,
          -0.4033439536132365,
          null,
          -0.0684210719912923,
          0.7571126028207874,
          null,
          -0.0684210719912923,
          -0.6358701951699817,
          null,
          -0.0684210719912923,
          -0.6125577021453288,
          null,
          0.04157541831592222,
          -0.0684210719912923,
          null,
          0.04157541831592222,
          -0.6358701951699817,
          null,
          0.04157541831592222,
          0.7271868583452663,
          null,
          0.7571126028207874,
          0.8318669009052276,
          null,
          -0.6170303493529936,
          -0.7430414639616068,
          null,
          -0.7430414639616068,
          -0.8289217401503446,
          null,
          0.12679582158503092,
          0.15919908820240902,
          null,
          0.15919908820240902,
          0.22422372410443056,
          null,
          -0.733913200615766,
          -0.7991951303021022,
          null,
          -0.7991951303021022,
          -0.9173849578721406,
          null,
          0.33825710425371586,
          0.40718105876974714,
          null,
          0.40718105876974714,
          0.42215283276490045,
          null,
          -0.6358701951699817,
          -0.7486267631454189,
          null,
          -0.7486267631454189,
          -0.8951628594774153,
          null,
          0.7648570062242814,
          0.8095339686917468,
          null,
          0.8095339686917468,
          0.9026859465200513,
          null,
          -0.49533168953711953,
          -0.5548925149865368,
          null,
          -0.5548925149865368,
          -0.6122297285567457,
          null,
          0.6560461782590434,
          0.7401915642000297,
          null,
          0.7401915642000297,
          0.8653290449418749,
          null,
          -0.2521136691115087,
          -0.28268488298625055,
          null,
          -0.28268488298625055,
          -0.39072154664299424,
          null,
          -0.6125577021453288,
          -0.5804029117548624,
          null,
          -0.5804029117548624,
          -0.6407475911477624,
          null,
          0.04188566696745142,
          0.10016104354056442,
          null,
          0.04188566696745142,
          -0.015779970395651786,
          null,
          0.7456103564735331,
          0.9289701773611276,
          null,
          0.8293430169672322,
          0.957701756863475,
          null,
          -0.5343369633738866,
          -0.6357203214632807,
          null,
          -0.10092271550580162,
          0.6931693114123765,
          null,
          -0.10092271550580162,
          -0.8944335445394946,
          null,
          0.5641437179010582,
          0.6931693114123765,
          null,
          0.6931693114123765,
          0.7740870945169556,
          null,
          0.753822737339899,
          0.8490184691884619,
          null,
          0.8900147463898371,
          0.9713993365679553,
          null,
          -0.0008560997768405632,
          0.031304227988065196,
          null,
          -0.21607342463561907,
          -0.2466411300665708,
          null,
          0.8791293717830915,
          0.929789620319935,
          null,
          -0.18863806948902573,
          -0.2507857083501602,
          null,
          -0.6471451012048175,
          -0.8054598640842144,
          null,
          -0.3989865579878995,
          -0.5068730652638603,
          null,
          0.5660535056522403,
          0.6256226575152921,
          null,
          -0.8775481495833866,
          -0.879511292525962,
          null,
          0.10968036203147068,
          -0.6320789443078887,
          null,
          0.10968036203147068,
          0.852187879684401,
          null,
          -0.6320789443078887,
          -0.7436690688022949,
          null,
          0.10016104354056442,
          0.06764113614141701,
          null,
          0.06764113614141701,
          0.3155965010573248,
          null,
          0.06764113614141701,
          0.5662903095995883,
          null,
          0.06764113614141701,
          -0.6143140726012511,
          null
         ],
         "y": [
          -0.008775865734717683,
          -0.47126523488063865,
          null,
          -0.008775865734717683,
          0.6591136619825201,
          null,
          -0.008775865734717683,
          -0.32133211350866137,
          null,
          -0.008775865734717683,
          -0.7314008927132909,
          null,
          -0.008775865734717683,
          0.6152208446875164,
          null,
          -0.008775865734717683,
          0.18957597265484774,
          null,
          -0.38621298272414073,
          -0.47126523488063865,
          null,
          0.10602206697744114,
          -0.38621298272414073,
          null,
          0.10602206697744114,
          0.6476723396177242,
          null,
          0.10602206697744114,
          -0.2633143151217994,
          null,
          0.10602206697744114,
          0.8684788925503342,
          null,
          0.10602206697744114,
          -0.43054345487678014,
          null,
          0.10602206697744114,
          0.11246832926088506,
          null,
          0.10602206697744114,
          -0.3257818673729031,
          null,
          0.10602206697744114,
          0.272052934138194,
          null,
          0.10602206697744114,
          0.5229670897589739,
          null,
          0.10602206697744114,
          -0.05677347412759201,
          null,
          0.10602206697744114,
          -0.3985557182449084,
          null,
          -0.47126523488063865,
          -0.7075524962778442,
          null,
          0.6476723396177242,
          0.6591136619825201,
          null,
          0.6591136619825201,
          0.7259655165453188,
          null,
          -0.2633143151217994,
          -0.32133211350866137,
          null,
          -0.32133211350866137,
          -0.3904741946955454,
          null,
          -0.6207015118345985,
          -0.7314008927132909,
          null,
          -0.7314008927132909,
          -0.903924450218315,
          null,
          0.538965657774107,
          0.6152208446875164,
          null,
          0.6152208446875164,
          0.6504006849221124,
          null,
          0.06474956705838901,
          -0.6667209967267467,
          null,
          0.06474956705838901,
          0.9056438220813314,
          null,
          0.06474956705838901,
          -0.6185164180685572,
          null,
          0.06474956705838901,
          0.8313020089599868,
          null,
          0.06474956705838901,
          0.18539097347595548,
          null,
          0.06474956705838901,
          -0.6682033174082104,
          null,
          0.06474956705838901,
          -0.5635919775463887,
          null,
          0.06474956705838901,
          -0.5800926303952246,
          null,
          0.06474956705838901,
          -0.06498941480345595,
          null,
          0.06474956705838901,
          0.9727824021852173,
          null,
          0.06474956705838901,
          0.8684567954313414,
          null,
          0.06474956705838901,
          -0.6106369568357035,
          null,
          0.06474956705838901,
          0.597254381312454,
          null,
          0.06474956705838901,
          -0.4480939960332393,
          null,
          0.06474956705838901,
          -0.6512059605482206,
          null,
          0.06474956705838901,
          0.3501712515550553,
          null,
          0.06474956705838901,
          0.8674248230253023,
          null,
          0.06474956705838901,
          0.24672086403686183,
          null,
          0.06474956705838901,
          0.3302163659596922,
          null,
          0.06474956705838901,
          0.660731358838425,
          null,
          0.06474956705838901,
          0.13649863041808444,
          null,
          0.06474956705838901,
          0.7036185051399904,
          null,
          0.06474956705838901,
          -0.6269327910877153,
          null,
          0.06474956705838901,
          -0.8448901409549554,
          null,
          -0.61908387077422,
          -0.6667209967267467,
          null,
          -0.6667209967267467,
          -0.8164948788407292,
          null,
          0.7916342310543156,
          0.9056438220813314,
          null,
          0.9056438220813314,
          0.8601461821790408,
          null,
          -0.4809051956829949,
          -0.6185164180685572,
          null,
          -0.061271076849172317,
          -0.4809051956829949,
          null,
          -0.061271076849172317,
          0.8663750295362753,
          null,
          -0.061271076849172317,
          0.15486116434433692,
          null,
          -0.061271076849172317,
          -0.5581376886373627,
          null,
          -0.061271076849172317,
          -0.44863773348380137,
          null,
          -0.061271076849172317,
          -0.5011536731015004,
          null,
          -0.6185164180685572,
          -0.7135253193115983,
          null,
          0.8663750295362753,
          0.8313020089599868,
          null,
          0.8313020089599868,
          1,
          null,
          0.15486116434433692,
          0.18539097347595548,
          null,
          0.18539097347595548,
          0.20363868667779655,
          null,
          -0.5581376886373627,
          -0.6682033174082104,
          null,
          -0.6682033174082104,
          -0.708903834168717,
          null,
          -0.44863773348380137,
          -0.5635919775463887,
          null,
          -0.5635919775463887,
          -0.6035876354052097,
          null,
          -0.5011536731015004,
          -0.5800926303952246,
          null,
          -0.5800926303952246,
          -0.8432815066132165,
          null,
          0.46007587437316605,
          0.4639841239397489,
          null,
          0.8684788925503342,
          0.8996121750731298,
          null,
          0.007436732222825888,
          -0.06498941480345595,
          null,
          0.007436732222825888,
          -0.3723147625703969,
          null,
          0.007436732222825888,
          0.31330569819790666,
          null,
          -0.43054345487678014,
          0.007436732222825888,
          null,
          -0.43054345487678014,
          -0.3723147625703969,
          null,
          -0.43054345487678014,
          -0.895197563982335,
          null,
          0.11246832926088506,
          0.007436732222825888,
          null,
          0.11246832926088506,
          0.2562605910693139,
          null,
          0.11246832926088506,
          0.4321995971382383,
          null,
          0.11246832926088506,
          0.151033793004254,
          null,
          0.11246832926088506,
          0.060317924107944926,
          null,
          0.11246832926088506,
          -0.3723147625703969,
          null,
          0.11246832926088506,
          -0.552126328628849,
          null,
          0.11246832926088506,
          0.3275243052120859,
          null,
          0.11246832926088506,
          0.6939577962297679,
          null,
          0.11246832926088506,
          0.21413738406251268,
          null,
          0.11246832926088506,
          0.31330569819790666,
          null,
          0.11246832926088506,
          0.591542330735729,
          null,
          0.11246832926088506,
          0.10988100079037921,
          null,
          0.11246832926088506,
          0.6195427971417278,
          null,
          0.11246832926088506,
          -0.6390966503837743,
          null,
          -0.06498941480345595,
          -0.0761245184837396,
          null,
          0.2562605910693139,
          0.9727824021852173,
          null,
          0.2562605910693139,
          -0.552126328628849,
          null,
          0.2562605910693139,
          0.591542330735729,
          null,
          -0.3257818673729031,
          0.2562605910693139,
          null,
          -0.3257818673729031,
          -0.552126328628849,
          null,
          -0.3257818673729031,
          -0.8199339163967704,
          null,
          0.9727824021852173,
          0.9896321052997916,
          null,
          0.4321995971382383,
          0.8684567954313414,
          null,
          0.4321995971382383,
          0.3275243052120859,
          null,
          0.4321995971382383,
          0.10988100079037921,
          null,
          0.272052934138194,
          0.4321995971382383,
          null,
          0.272052934138194,
          0.3275243052120859,
          null,
          0.272052934138194,
          0.07204632120014082,
          null,
          0.8684567954313414,
          0.9021088007952179,
          null,
          0.151033793004254,
          -0.6106369568357035,
          null,
          0.151033793004254,
          0.6939577962297679,
          null,
          0.151033793004254,
          0.6195427971417278,
          null,
          0.5229670897589739,
          0.151033793004254,
          null,
          0.5229670897589739,
          0.6939577962297679,
          null,
          0.5229670897589739,
          0.6271463600514449,
          null,
          -0.6106369568357035,
          -0.8176140203232886,
          null,
          0.060317924107944926,
          0.597254381312454,
          null,
          0.060317924107944926,
          0.21413738406251268,
          null,
          0.060317924107944926,
          -0.6390966503837743,
          null,
          -0.05677347412759201,
          0.060317924107944926,
          null,
          -0.05677347412759201,
          0.21413738406251268,
          null,
          -0.05677347412759201,
          -0.3465856921107992,
          null,
          0.597254381312454,
          0.6499925852155831,
          null,
          -0.3723147625703969,
          -0.4480939960332393,
          null,
          -0.4480939960332393,
          -0.4968520334418618,
          null,
          -0.552126328628849,
          -0.6512059605482206,
          null,
          -0.6512059605482206,
          -0.8811704151597147,
          null,
          0.3275243052120859,
          0.3501712515550553,
          null,
          0.3501712515550553,
          0.39920867617552513,
          null,
          0.6939577962297679,
          0.8674248230253023,
          null,
          0.8674248230253023,
          0.9080314391906219,
          null,
          0.21413738406251268,
          0.24672086403686183,
          null,
          0.24672086403686183,
          0.2848450661108617,
          null,
          0.31330569819790666,
          0.3302163659596922,
          null,
          0.3302163659596922,
          0.3673913876307186,
          null,
          0.591542330735729,
          0.660731358838425,
          null,
          0.660731358838425,
          0.7257479492424365,
          null,
          0.10988100079037921,
          0.13649863041808444,
          null,
          0.13649863041808444,
          0.1716566132009333,
          null,
          0.6195427971417278,
          0.7036185051399904,
          null,
          0.7036185051399904,
          0.9969312497703476,
          null,
          -0.6390966503837743,
          -0.6269327910877153,
          null,
          -0.6269327910877153,
          -0.6922109146594998,
          null,
          -0.3985557182449084,
          0.07255752859406672,
          null,
          -0.3985557182449084,
          -0.870958192422603,
          null,
          0.07268464169103138,
          0.09248684748541812,
          null,
          0.0053086744117243475,
          0.002143268338816198,
          null,
          0.7327320967287727,
          0.8626364934994112,
          null,
          0.08047174715050953,
          0.4392406324215016,
          null,
          0.08047174715050953,
          -0.2778414789738717,
          null,
          0.362330547805476,
          0.4392406324215016,
          null,
          0.4392406324215016,
          0.4834356203065533,
          null,
          -0.2914492295974355,
          -0.3504209834645822,
          null,
          -0.1011554682220234,
          -0.11308624555849367,
          null,
          -0.8311841703825332,
          -0.8208761399871988,
          null,
          -0.7545525667785575,
          -0.8715017475114138,
          null,
          -0.27305395151370887,
          -0.29328915969703506,
          null,
          0.7565678741146785,
          0.9995330334188554,
          null,
          0.4455465139339879,
          0.5738293596782144,
          null,
          -0.5957466839461718,
          -0.7777060897486471,
          null,
          -0.6301259761728515,
          -0.6923009267571292,
          null,
          -0.17561015024673643,
          -0.2075310398280794,
          null,
          -0.47748441841662287,
          -0.4865617073322756,
          null,
          -0.47748441841662287,
          -0.47009527345835156,
          null,
          -0.4865617073322756,
          -0.5698737579137676,
          null,
          0.07255752859406672,
          0.05352116877859309,
          null,
          0.05352116877859309,
          -0.38621298272414073,
          null,
          0.05352116877859309,
          0.6476723396177242,
          null,
          0.05352116877859309,
          -0.2633143151217994,
          null
         ]
        },
        {
         "hoverinfo": "text",
         "hovertext": [
          "parameters.contact_rate<br>contact_rate(0.009873800321330463)",
          "_var1<br>bcg_multiplier_func<br>args:<br>&nbsp;&nbsp;&nbsp;&nbsp;Variable: graph_locals[model_variables.time]<br>&nbsp;&nbsp;&nbsp;&nbsp;Variable: graph_locals[computed_values]<br>kwargs:",
          "model_variables.time<br>ModelVariable time",
          "_var3<br>multiply<br>args:<br>&nbsp;&nbsp;&nbsp;&nbsp;Variable: graph_locals[parameters.contact_rate]<br>&nbsp;&nbsp;&nbsp;&nbsp;Variable: graph_locals[_var1]<br>kwargs:",
          "_var4<br>bcg_multiplier_func<br>args:<br>&nbsp;&nbsp;&nbsp;&nbsp;Variable: graph_locals[model_variables.time]<br>&nbsp;&nbsp;&nbsp;&nbsp;Variable: graph_locals[computed_values]<br>kwargs:",
          "_var5<br>multiply<br>args:<br>&nbsp;&nbsp;&nbsp;&nbsp;Variable: graph_locals[parameters.contact_rate]<br>&nbsp;&nbsp;&nbsp;&nbsp;Variable: graph_locals[_var4]<br>kwargs:",
          "_var6<br>bcg_multiplier_func<br>args:<br>&nbsp;&nbsp;&nbsp;&nbsp;Variable: graph_locals[model_variables.time]<br>&nbsp;&nbsp;&nbsp;&nbsp;Variable: graph_locals[computed_values]<br>kwargs:",
          "_var7<br>multiply<br>args:<br>&nbsp;&nbsp;&nbsp;&nbsp;Variable: graph_locals[parameters.contact_rate]<br>&nbsp;&nbsp;&nbsp;&nbsp;Variable: graph_locals[_var6]<br>kwargs:",
          "parameters.rr_infection_latent<br>rr_infection_latent(0.3)",
          "_var9<br>multiply<br>args:<br>&nbsp;&nbsp;&nbsp;&nbsp;Variable: graph_locals[parameters.contact_rate]<br>&nbsp;&nbsp;&nbsp;&nbsp;Variable: graph_locals[parameters.rr_infection_latent]<br>kwargs:",
          "parameters.rr_infection_recovered<br>rr_infection_recovered(0.5)",
          "_var11<br>multiply<br>args:<br>&nbsp;&nbsp;&nbsp;&nbsp;Variable: graph_locals[parameters.contact_rate]<br>&nbsp;&nbsp;&nbsp;&nbsp;Variable: graph_locals[parameters.rr_infection_recovered]<br>kwargs:",
          "_var12<br>Data: 1.0",
          "_var13<br>Data: 4.383",
          "_var14<br>multiply<br>args:<br>&nbsp;&nbsp;&nbsp;&nbsp;Variable: graph_locals[_var12]<br>&nbsp;&nbsp;&nbsp;&nbsp;Variable: graph_locals[_var13]<br>kwargs:",
          "_var15<br>Data: 1.972",
          "_var16<br>multiply<br>args:<br>&nbsp;&nbsp;&nbsp;&nbsp;Variable: graph_locals[_var12]<br>&nbsp;&nbsp;&nbsp;&nbsp;Variable: graph_locals[_var15]<br>kwargs:",
          "_var17<br>multiply<br>args:<br>&nbsp;&nbsp;&nbsp;&nbsp;2.4107<br>&nbsp;&nbsp;&nbsp;&nbsp;Variable: graph_locals[parameters.progression_multiplier]<br>kwargs:",
          "parameters.progression_multiplier<br>progression_multiplier(0.65)",
          "_var19<br>multiply<br>args:<br>&nbsp;&nbsp;&nbsp;&nbsp;Variable: graph_locals[_var12]<br>&nbsp;&nbsp;&nbsp;&nbsp;Variable: graph_locals[_var17]<br>kwargs:",
          "_var20<br>multiply<br>args:<br>&nbsp;&nbsp;&nbsp;&nbsp;0.9862<br>&nbsp;&nbsp;&nbsp;&nbsp;Variable: graph_locals[parameters.progression_multiplier]<br>kwargs:",
          "_var21<br>multiply<br>args:<br>&nbsp;&nbsp;&nbsp;&nbsp;Variable: graph_locals[_var12]<br>&nbsp;&nbsp;&nbsp;&nbsp;Variable: graph_locals[_var20]<br>kwargs:",
          "_var22<br>multiply<br>args:<br>&nbsp;&nbsp;&nbsp;&nbsp;0.0986<br>&nbsp;&nbsp;&nbsp;&nbsp;Variable: graph_locals[parameters.progression_multiplier]<br>kwargs:",
          "_var23<br>multiply<br>args:<br>&nbsp;&nbsp;&nbsp;&nbsp;Variable: graph_locals[_var12]<br>&nbsp;&nbsp;&nbsp;&nbsp;Variable: graph_locals[_var22]<br>kwargs:",
          "_var24<br>multiply<br>args:<br>&nbsp;&nbsp;&nbsp;&nbsp;6.939769e-09<br>&nbsp;&nbsp;&nbsp;&nbsp;Variable: graph_locals[parameters.progression_multiplier]<br>kwargs:",
          "_var25<br>multiply<br>args:<br>&nbsp;&nbsp;&nbsp;&nbsp;Variable: graph_locals[_var12]<br>&nbsp;&nbsp;&nbsp;&nbsp;Variable: graph_locals[_var24]<br>kwargs:",
          "_var26<br>multiply<br>args:<br>&nbsp;&nbsp;&nbsp;&nbsp;0.0023<br>&nbsp;&nbsp;&nbsp;&nbsp;Variable: graph_locals[parameters.progression_multiplier]<br>kwargs:",
          "_var27<br>multiply<br>args:<br>&nbsp;&nbsp;&nbsp;&nbsp;Variable: graph_locals[_var12]<br>&nbsp;&nbsp;&nbsp;&nbsp;Variable: graph_locals[_var26]<br>kwargs:",
          "_var28<br>multiply<br>args:<br>&nbsp;&nbsp;&nbsp;&nbsp;0.0012<br>&nbsp;&nbsp;&nbsp;&nbsp;Variable: graph_locals[parameters.progression_multiplier]<br>kwargs:",
          "_var29<br>multiply<br>args:<br>&nbsp;&nbsp;&nbsp;&nbsp;Variable: graph_locals[_var12]<br>&nbsp;&nbsp;&nbsp;&nbsp;Variable: graph_locals[_var28]<br>kwargs:",
          "_var30<br>Data: 0.2",
          "_var31<br>scaled_curve<br>args:<br>&nbsp;&nbsp;&nbsp;&nbsp;Variable: graph_locals[model_variables.time]<br>kwargs:",
          "_var32<br>get_treatment_recovery_rate<br>args:<br>&nbsp;&nbsp;&nbsp;&nbsp;0.5<br>&nbsp;&nbsp;&nbsp;&nbsp;0.2<br>&nbsp;&nbsp;&nbsp;&nbsp;Variable: graph_locals[_var33]<br>&nbsp;&nbsp;&nbsp;&nbsp;Variable: graph_locals[_var34]<br>kwargs:",
          "_var33<br>scaled_curve<br>args:<br>&nbsp;&nbsp;&nbsp;&nbsp;Variable: graph_locals[model_variables.time]<br>kwargs:",
          "_var34<br>scaled_curve<br>args:<br>&nbsp;&nbsp;&nbsp;&nbsp;Variable: graph_locals[model_variables.time]<br>kwargs:",
          "_var35<br>multiply<br>args:<br>&nbsp;&nbsp;&nbsp;&nbsp;Variable: graph_locals[_var12]<br>&nbsp;&nbsp;&nbsp;&nbsp;Variable: graph_locals[_var32]<br>kwargs:",
          "_var36<br>get_treatment_recovery_rate<br>args:<br>&nbsp;&nbsp;&nbsp;&nbsp;0.5<br>&nbsp;&nbsp;&nbsp;&nbsp;0.2<br>&nbsp;&nbsp;&nbsp;&nbsp;Variable: graph_locals[_var37]<br>&nbsp;&nbsp;&nbsp;&nbsp;Variable: graph_locals[_var34]<br>kwargs:",
          "_var37<br>scaled_curve<br>args:<br>&nbsp;&nbsp;&nbsp;&nbsp;Variable: graph_locals[model_variables.time]<br>kwargs:",
          "_var38<br>multiply<br>args:<br>&nbsp;&nbsp;&nbsp;&nbsp;Variable: graph_locals[_var12]<br>&nbsp;&nbsp;&nbsp;&nbsp;Variable: graph_locals[_var36]<br>kwargs:",
          "_var39<br>get_treatment_recovery_rate<br>args:<br>&nbsp;&nbsp;&nbsp;&nbsp;0.5<br>&nbsp;&nbsp;&nbsp;&nbsp;0.2<br>&nbsp;&nbsp;&nbsp;&nbsp;Variable: graph_locals[_var40]<br>&nbsp;&nbsp;&nbsp;&nbsp;Variable: graph_locals[_var34]<br>kwargs:",
          "_var40<br>scaled_curve<br>args:<br>&nbsp;&nbsp;&nbsp;&nbsp;Variable: graph_locals[model_variables.time]<br>kwargs:",
          "_var41<br>multiply<br>args:<br>&nbsp;&nbsp;&nbsp;&nbsp;Variable: graph_locals[_var12]<br>&nbsp;&nbsp;&nbsp;&nbsp;Variable: graph_locals[_var39]<br>kwargs:",
          "_var42<br>get_treatment_recovery_rate<br>args:<br>&nbsp;&nbsp;&nbsp;&nbsp;0.5<br>&nbsp;&nbsp;&nbsp;&nbsp;0.2<br>&nbsp;&nbsp;&nbsp;&nbsp;Variable: graph_locals[_var43]<br>&nbsp;&nbsp;&nbsp;&nbsp;Variable: graph_locals[_var34]<br>kwargs:",
          "_var43<br>scaled_curve<br>args:<br>&nbsp;&nbsp;&nbsp;&nbsp;Variable: graph_locals[model_variables.time]<br>kwargs:",
          "_var44<br>multiply<br>args:<br>&nbsp;&nbsp;&nbsp;&nbsp;Variable: graph_locals[_var12]<br>&nbsp;&nbsp;&nbsp;&nbsp;Variable: graph_locals[_var42]<br>kwargs:",
          "_var45<br>get_treatment_recovery_rate<br>args:<br>&nbsp;&nbsp;&nbsp;&nbsp;0.5<br>&nbsp;&nbsp;&nbsp;&nbsp;0.2<br>&nbsp;&nbsp;&nbsp;&nbsp;Variable: graph_locals[_var46]<br>&nbsp;&nbsp;&nbsp;&nbsp;Variable: graph_locals[_var34]<br>kwargs:",
          "_var46<br>scaled_curve<br>args:<br>&nbsp;&nbsp;&nbsp;&nbsp;Variable: graph_locals[model_variables.time]<br>kwargs:",
          "_var47<br>multiply<br>args:<br>&nbsp;&nbsp;&nbsp;&nbsp;Variable: graph_locals[_var12]<br>&nbsp;&nbsp;&nbsp;&nbsp;Variable: graph_locals[_var45]<br>kwargs:",
          "_var48<br>get_treatment_death_rate<br>args:<br>&nbsp;&nbsp;&nbsp;&nbsp;0.2<br>&nbsp;&nbsp;&nbsp;&nbsp;Variable: graph_locals[_var33]<br>&nbsp;&nbsp;&nbsp;&nbsp;Variable: graph_locals[_var32]<br>&nbsp;&nbsp;&nbsp;&nbsp;Variable: graph_locals[_var34]<br>kwargs:",
          "_var49<br>multiply<br>args:<br>&nbsp;&nbsp;&nbsp;&nbsp;Variable: graph_locals[_var12]<br>&nbsp;&nbsp;&nbsp;&nbsp;Variable: graph_locals[_var48]<br>kwargs:",
          "_var50<br>get_treatment_death_rate<br>args:<br>&nbsp;&nbsp;&nbsp;&nbsp;0.2<br>&nbsp;&nbsp;&nbsp;&nbsp;Variable: graph_locals[_var37]<br>&nbsp;&nbsp;&nbsp;&nbsp;Variable: graph_locals[_var36]<br>&nbsp;&nbsp;&nbsp;&nbsp;Variable: graph_locals[_var34]<br>kwargs:",
          "_var51<br>multiply<br>args:<br>&nbsp;&nbsp;&nbsp;&nbsp;Variable: graph_locals[_var12]<br>&nbsp;&nbsp;&nbsp;&nbsp;Variable: graph_locals[_var50]<br>kwargs:",
          "_var52<br>get_treatment_death_rate<br>args:<br>&nbsp;&nbsp;&nbsp;&nbsp;0.2<br>&nbsp;&nbsp;&nbsp;&nbsp;Variable: graph_locals[_var40]<br>&nbsp;&nbsp;&nbsp;&nbsp;Variable: graph_locals[_var39]<br>&nbsp;&nbsp;&nbsp;&nbsp;Variable: graph_locals[_var34]<br>kwargs:",
          "_var53<br>multiply<br>args:<br>&nbsp;&nbsp;&nbsp;&nbsp;Variable: graph_locals[_var12]<br>&nbsp;&nbsp;&nbsp;&nbsp;Variable: graph_locals[_var52]<br>kwargs:",
          "_var54<br>get_treatment_death_rate<br>args:<br>&nbsp;&nbsp;&nbsp;&nbsp;0.2<br>&nbsp;&nbsp;&nbsp;&nbsp;Variable: graph_locals[_var43]<br>&nbsp;&nbsp;&nbsp;&nbsp;Variable: graph_locals[_var42]<br>&nbsp;&nbsp;&nbsp;&nbsp;Variable: graph_locals[_var34]<br>kwargs:",
          "_var55<br>multiply<br>args:<br>&nbsp;&nbsp;&nbsp;&nbsp;Variable: graph_locals[_var12]<br>&nbsp;&nbsp;&nbsp;&nbsp;Variable: graph_locals[_var54]<br>kwargs:",
          "_var56<br>get_treatment_death_rate<br>args:<br>&nbsp;&nbsp;&nbsp;&nbsp;0.2<br>&nbsp;&nbsp;&nbsp;&nbsp;Variable: graph_locals[_var46]<br>&nbsp;&nbsp;&nbsp;&nbsp;Variable: graph_locals[_var45]<br>&nbsp;&nbsp;&nbsp;&nbsp;Variable: graph_locals[_var34]<br>kwargs:",
          "_var57<br>multiply<br>args:<br>&nbsp;&nbsp;&nbsp;&nbsp;Variable: graph_locals[_var12]<br>&nbsp;&nbsp;&nbsp;&nbsp;Variable: graph_locals[_var56]<br>kwargs:",
          "_var58<br>get_treatment_relapse_rate<br>args:<br>&nbsp;&nbsp;&nbsp;&nbsp;0.2<br>&nbsp;&nbsp;&nbsp;&nbsp;Variable: graph_locals[_var32]<br>&nbsp;&nbsp;&nbsp;&nbsp;Variable: graph_locals[_var34]<br>kwargs:",
          "_var59<br>multiply<br>args:<br>&nbsp;&nbsp;&nbsp;&nbsp;Variable: graph_locals[_var12]<br>&nbsp;&nbsp;&nbsp;&nbsp;Variable: graph_locals[_var58]<br>kwargs:",
          "_var60<br>get_treatment_relapse_rate<br>args:<br>&nbsp;&nbsp;&nbsp;&nbsp;0.2<br>&nbsp;&nbsp;&nbsp;&nbsp;Variable: graph_locals[_var36]<br>&nbsp;&nbsp;&nbsp;&nbsp;Variable: graph_locals[_var34]<br>kwargs:",
          "_var61<br>multiply<br>args:<br>&nbsp;&nbsp;&nbsp;&nbsp;Variable: graph_locals[_var12]<br>&nbsp;&nbsp;&nbsp;&nbsp;Variable: graph_locals[_var60]<br>kwargs:",
          "_var62<br>get_treatment_relapse_rate<br>args:<br>&nbsp;&nbsp;&nbsp;&nbsp;0.2<br>&nbsp;&nbsp;&nbsp;&nbsp;Variable: graph_locals[_var39]<br>&nbsp;&nbsp;&nbsp;&nbsp;Variable: graph_locals[_var34]<br>kwargs:",
          "_var63<br>multiply<br>args:<br>&nbsp;&nbsp;&nbsp;&nbsp;Variable: graph_locals[_var12]<br>&nbsp;&nbsp;&nbsp;&nbsp;Variable: graph_locals[_var62]<br>kwargs:",
          "_var64<br>get_treatment_relapse_rate<br>args:<br>&nbsp;&nbsp;&nbsp;&nbsp;0.2<br>&nbsp;&nbsp;&nbsp;&nbsp;Variable: graph_locals[_var42]<br>&nbsp;&nbsp;&nbsp;&nbsp;Variable: graph_locals[_var34]<br>kwargs:",
          "_var65<br>multiply<br>args:<br>&nbsp;&nbsp;&nbsp;&nbsp;Variable: graph_locals[_var12]<br>&nbsp;&nbsp;&nbsp;&nbsp;Variable: graph_locals[_var64]<br>kwargs:",
          "_var66<br>get_treatment_relapse_rate<br>args:<br>&nbsp;&nbsp;&nbsp;&nbsp;0.2<br>&nbsp;&nbsp;&nbsp;&nbsp;Variable: graph_locals[_var45]<br>&nbsp;&nbsp;&nbsp;&nbsp;Variable: graph_locals[_var34]<br>kwargs:",
          "_var67<br>multiply<br>args:<br>&nbsp;&nbsp;&nbsp;&nbsp;Variable: graph_locals[_var12]<br>&nbsp;&nbsp;&nbsp;&nbsp;Variable: graph_locals[_var66]<br>kwargs:",
          "_var68<br>scaled_curve<br>args:<br>&nbsp;&nbsp;&nbsp;&nbsp;Variable: graph_locals[model_variables.time]<br>kwargs:",
          "_var69<br>Data: 0.1",
          "_var70<br>Data: 0.05",
          "_var71<br>Data: 0.06666666666666667",
          "parameters.infectious_seed<br>infectious_seed(1923.5388128488319)",
          "parameters.start_population_size<br>start_population_size(233198.0)",
          "_var74<br>subtract<br>args:<br>&nbsp;&nbsp;&nbsp;&nbsp;Variable: graph_locals[parameters.start_population_size]<br>&nbsp;&nbsp;&nbsp;&nbsp;Variable: graph_locals[parameters.infectious_seed]<br>kwargs:",
          "_var75<br>Data: 0.0",
          "_var76<br>Data: 9.018599388614656e-06",
          "_var77<br>Data: 0.06931017816607285",
          "_var78<br>Data: 0.9653426410750605",
          "_var79<br>Data: 0.9999999998625898",
          "_var80<br>Data: 7.214879510891726e-07",
          "_var81<br>Data: 0.005544814253285828",
          "_var82<br>Data: 0.07722741128600484",
          "_var83<br>Data: 0.07999999998900718",
          "_var84<br>Data: 0.08",
          "_var85<br>Data: array([[ 398....63.57657715]])",
          "_var86<br>assign<br>args:<br>&nbsp;&nbsp;&nbsp;&nbsp;Variable: graph_locals[_var85]<br>kwargs:",
          "gather_cv<br>capture_kwargs<br>args:<br>kwargs:<br>&nbsp;&nbsp;&nbsp;&nbsp;sigmoid_param: Variable: graph_locals[_var68]",
          "infection_rate<br>assign<br>args:<br>&nbsp;&nbsp;&nbsp;&nbsp;Variable: graph_locals[_var3]<br>kwargs:",
          "infection_rate_1<br>assign<br>args:<br>&nbsp;&nbsp;&nbsp;&nbsp;Variable: graph_locals[_var5]<br>kwargs:",
          "infection_rate_2<br>assign<br>args:<br>&nbsp;&nbsp;&nbsp;&nbsp;Variable: graph_locals[_var7]<br>kwargs:",
          "infection_rate_3<br>assign<br>args:<br>&nbsp;&nbsp;&nbsp;&nbsp;Variable: graph_locals[parameters.contact_rate]<br>kwargs:",
          "infection_from_latent_rate<br>assign<br>args:<br>&nbsp;&nbsp;&nbsp;&nbsp;Variable: graph_locals[_var9]<br>kwargs:",
          "infection_from_recovered_rate<br>assign<br>args:<br>&nbsp;&nbsp;&nbsp;&nbsp;Variable: graph_locals[_var11]<br>kwargs:",
          "stabilisation_rate<br>assign<br>args:<br>&nbsp;&nbsp;&nbsp;&nbsp;Variable: graph_locals[_var14]<br>kwargs:",
          "stabilisation_rate_7<br>assign<br>args:<br>&nbsp;&nbsp;&nbsp;&nbsp;Variable: graph_locals[_var16]<br>kwargs:",
          "early_activation_rate<br>assign<br>args:<br>&nbsp;&nbsp;&nbsp;&nbsp;Variable: graph_locals[_var19]<br>kwargs:",
          "early_activation_rate_9<br>assign<br>args:<br>&nbsp;&nbsp;&nbsp;&nbsp;Variable: graph_locals[_var21]<br>kwargs:",
          "early_activation_rate_10<br>assign<br>args:<br>&nbsp;&nbsp;&nbsp;&nbsp;Variable: graph_locals[_var23]<br>kwargs:",
          "late_activation_rate<br>assign<br>args:<br>&nbsp;&nbsp;&nbsp;&nbsp;Variable: graph_locals[_var25]<br>kwargs:",
          "late_activation_rate_12<br>assign<br>args:<br>&nbsp;&nbsp;&nbsp;&nbsp;Variable: graph_locals[_var27]<br>kwargs:",
          "late_activation_rate_13<br>assign<br>args:<br>&nbsp;&nbsp;&nbsp;&nbsp;Variable: graph_locals[_var29]<br>kwargs:",
          "self_recovery_rate<br>assign<br>args:<br>&nbsp;&nbsp;&nbsp;&nbsp;Variable: graph_locals[_var30]<br>kwargs:",
          "detection_rate<br>assign<br>args:<br>&nbsp;&nbsp;&nbsp;&nbsp;Variable: graph_locals[_var31]<br>kwargs:",
          "treatment_recovery_rate<br>assign<br>args:<br>&nbsp;&nbsp;&nbsp;&nbsp;Variable: graph_locals[_var35]<br>kwargs:",
          "treatment_recovery_rate_17<br>assign<br>args:<br>&nbsp;&nbsp;&nbsp;&nbsp;Variable: graph_locals[_var38]<br>kwargs:",
          "treatment_recovery_rate_18<br>assign<br>args:<br>&nbsp;&nbsp;&nbsp;&nbsp;Variable: graph_locals[_var41]<br>kwargs:",
          "treatment_recovery_rate_19<br>assign<br>args:<br>&nbsp;&nbsp;&nbsp;&nbsp;Variable: graph_locals[_var44]<br>kwargs:",
          "treatment_recovery_rate_20<br>assign<br>args:<br>&nbsp;&nbsp;&nbsp;&nbsp;Variable: graph_locals[_var47]<br>kwargs:",
          "treatment_death_rate<br>assign<br>args:<br>&nbsp;&nbsp;&nbsp;&nbsp;Variable: graph_locals[_var49]<br>kwargs:",
          "treatment_death_rate_22<br>assign<br>args:<br>&nbsp;&nbsp;&nbsp;&nbsp;Variable: graph_locals[_var51]<br>kwargs:",
          "treatment_death_rate_23<br>assign<br>args:<br>&nbsp;&nbsp;&nbsp;&nbsp;Variable: graph_locals[_var53]<br>kwargs:",
          "treatment_death_rate_24<br>assign<br>args:<br>&nbsp;&nbsp;&nbsp;&nbsp;Variable: graph_locals[_var55]<br>kwargs:",
          "treatment_death_rate_25<br>assign<br>args:<br>&nbsp;&nbsp;&nbsp;&nbsp;Variable: graph_locals[_var57]<br>kwargs:",
          "relapse_rate<br>assign<br>args:<br>&nbsp;&nbsp;&nbsp;&nbsp;Variable: graph_locals[_var59]<br>kwargs:",
          "relapse_rate_27<br>assign<br>args:<br>&nbsp;&nbsp;&nbsp;&nbsp;Variable: graph_locals[_var61]<br>kwargs:",
          "relapse_rate_28<br>assign<br>args:<br>&nbsp;&nbsp;&nbsp;&nbsp;Variable: graph_locals[_var63]<br>kwargs:",
          "relapse_rate_29<br>assign<br>args:<br>&nbsp;&nbsp;&nbsp;&nbsp;Variable: graph_locals[_var65]<br>kwargs:",
          "relapse_rate_30<br>assign<br>args:<br>&nbsp;&nbsp;&nbsp;&nbsp;Variable: graph_locals[_var67]<br>kwargs:",
          "birth_rate<br>assign<br>args:<br>&nbsp;&nbsp;&nbsp;&nbsp;Variable: graph_locals[_var68]<br>kwargs:",
          "universal_death_rate<br>assign<br>args:<br>&nbsp;&nbsp;&nbsp;&nbsp;Variable: graph_locals[_var33]<br>kwargs:",
          "universal_death_rate_33<br>assign<br>args:<br>&nbsp;&nbsp;&nbsp;&nbsp;Variable: graph_locals[_var37]<br>kwargs:",
          "universal_death_rate_34<br>assign<br>args:<br>&nbsp;&nbsp;&nbsp;&nbsp;Variable: graph_locals[_var40]<br>kwargs:",
          "universal_death_rate_35<br>assign<br>args:<br>&nbsp;&nbsp;&nbsp;&nbsp;Variable: graph_locals[_var43]<br>kwargs:",
          "universal_death_rate_36<br>assign<br>args:<br>&nbsp;&nbsp;&nbsp;&nbsp;Variable: graph_locals[_var46]<br>kwargs:",
          "ageing_susceptibleXage_5_to_susceptibleXage_15_rate<br>assign<br>args:<br>&nbsp;&nbsp;&nbsp;&nbsp;Variable: graph_locals[_var69]<br>kwargs:",
          "ageing_susceptibleXage_15_to_susceptibleXage_35_rate<br>assign<br>args:<br>&nbsp;&nbsp;&nbsp;&nbsp;Variable: graph_locals[_var70]<br>kwargs:",
          "ageing_susceptibleXage_35_to_susceptibleXage_50_rate<br>assign<br>args:<br>&nbsp;&nbsp;&nbsp;&nbsp;Variable: graph_locals[_var71]<br>kwargs:",
          "init_pop_dist_infectious<br>assign<br>args:<br>&nbsp;&nbsp;&nbsp;&nbsp;Variable: graph_locals[parameters.infectious_seed]<br>kwargs:",
          "init_pop_dist_susceptible<br>assign<br>args:<br>&nbsp;&nbsp;&nbsp;&nbsp;Variable: graph_locals[_var74]<br>kwargs:",
          "init_pop_dist_early_latent<br>assign<br>args:<br>&nbsp;&nbsp;&nbsp;&nbsp;Variable: graph_locals[_var75]<br>kwargs:",
          "age_iadj_infectious_0<br>assign<br>args:<br>&nbsp;&nbsp;&nbsp;&nbsp;Variable: graph_locals[_var76]<br>kwargs:",
          "age_iadj_infectious_5<br>assign<br>args:<br>&nbsp;&nbsp;&nbsp;&nbsp;Variable: graph_locals[_var77]<br>kwargs:",
          "age_iadj_infectious_15<br>assign<br>args:<br>&nbsp;&nbsp;&nbsp;&nbsp;Variable: graph_locals[_var78]<br>kwargs:",
          "age_iadj_infectious_35<br>assign<br>args:<br>&nbsp;&nbsp;&nbsp;&nbsp;Variable: graph_locals[_var79]<br>kwargs:",
          "age_iadj_infectious_50<br>assign<br>args:<br>&nbsp;&nbsp;&nbsp;&nbsp;Variable: graph_locals[_var12]<br>kwargs:",
          "age_iadj_on_treatment_0<br>assign<br>args:<br>&nbsp;&nbsp;&nbsp;&nbsp;Variable: graph_locals[_var80]<br>kwargs:",
          "age_iadj_on_treatment_5<br>assign<br>args:<br>&nbsp;&nbsp;&nbsp;&nbsp;Variable: graph_locals[_var81]<br>kwargs:",
          "age_iadj_on_treatment_15<br>assign<br>args:<br>&nbsp;&nbsp;&nbsp;&nbsp;Variable: graph_locals[_var82]<br>kwargs:",
          "age_iadj_on_treatment_35<br>assign<br>args:<br>&nbsp;&nbsp;&nbsp;&nbsp;Variable: graph_locals[_var83]<br>kwargs:",
          "age_iadj_on_treatment_50<br>assign<br>args:<br>&nbsp;&nbsp;&nbsp;&nbsp;Variable: graph_locals[_var84]<br>kwargs:",
          "age_mixing_matrix<br>assign<br>args:<br>&nbsp;&nbsp;&nbsp;&nbsp;Variable: graph_locals[_var85]<br>kwargs:",
          "mixing_matrix<br>assign<br>args:<br>&nbsp;&nbsp;&nbsp;&nbsp;Variable: graph_locals[_var86]<br>kwargs:",
          "computed_values<br>assign<br>args:<br>&nbsp;&nbsp;&nbsp;&nbsp;Variable: graph_locals[gather_cv]<br>kwargs:"
         ],
         "marker": {
          "color": [
           "lightgreen",
           "lightblue",
           "lightgreen",
           "lightblue",
           "lightblue",
           "lightblue",
           "lightblue",
           "lightblue",
           "lightgreen",
           "lightblue",
           "lightgreen",
           "lightblue",
           "red",
           "red",
           "lightblue",
           "red",
           "lightblue",
           "lightblue",
           "lightgreen",
           "lightblue",
           "lightblue",
           "lightblue",
           "lightblue",
           "lightblue",
           "lightblue",
           "lightblue",
           "lightblue",
           "lightblue",
           "lightblue",
           "lightblue",
           "red",
           "lightblue",
           "lightblue",
           "lightblue",
           "lightblue",
           "lightblue",
           "lightblue",
           "lightblue",
           "lightblue",
           "lightblue",
           "lightblue",
           "lightblue",
           "lightblue",
           "lightblue",
           "lightblue",
           "lightblue",
           "lightblue",
           "lightblue",
           "lightblue",
           "lightblue",
           "lightblue",
           "lightblue",
           "lightblue",
           "lightblue",
           "lightblue",
           "lightblue",
           "lightblue",
           "lightblue",
           "lightblue",
           "lightblue",
           "lightblue",
           "lightblue",
           "lightblue",
           "lightblue",
           "lightblue",
           "lightblue",
           "lightblue",
           "lightblue",
           "lightblue",
           "red",
           "red",
           "red",
           "lightgreen",
           "lightgreen",
           "lightblue",
           "red",
           "red",
           "red",
           "red",
           "red",
           "red",
           "red",
           "red",
           "red",
           "red",
           "red",
           "lightblue",
           "lightblue",
           "#ee88ee",
           "#ee88ee",
           "#ee88ee",
           "#ee88ee",
           "#ee88ee",
           "#ee88ee",
           "#ee88ee",
           "#ee88ee",
           "#ee88ee",
           "#ee88ee",
           "#ee88ee",
           "#ee88ee",
           "#ee88ee",
           "#ee88ee",
           "#ee88ee",
           "#ee88ee",
           "#ee88ee",
           "#ee88ee",
           "#ee88ee",
           "#ee88ee",
           "#ee88ee",
           "#ee88ee",
           "#ee88ee",
           "#ee88ee",
           "#ee88ee",
           "#ee88ee",
           "#ee88ee",
           "#ee88ee",
           "#ee88ee",
           "#ee88ee",
           "#ee88ee",
           "#ee88ee",
           "#ee88ee",
           "#ee88ee",
           "#ee88ee",
           "#ee88ee",
           "#ee88ee",
           "#ee88ee",
           "#ee88ee",
           "#ee88ee",
           "#ee88ee",
           "#ee88ee",
           "#ee88ee",
           "#ee88ee",
           "#ee88ee",
           "#ee88ee",
           "#ee88ee",
           "#ee88ee",
           "#ee88ee",
           "#ee88ee",
           "#ee88ee",
           "#ee88ee",
           "#ee88ee",
           "#ee88ee",
           "#ee88ee",
           "#ee88ee"
          ],
          "colorscale": [
           [
            0,
            "rgb(255,255,217)"
           ],
           [
            0.125,
            "rgb(237,248,177)"
           ],
           [
            0.25,
            "rgb(199,233,180)"
           ],
           [
            0.375,
            "rgb(127,205,187)"
           ],
           [
            0.5,
            "rgb(65,182,196)"
           ],
           [
            0.625,
            "rgb(29,145,192)"
           ],
           [
            0.75,
            "rgb(34,94,168)"
           ],
           [
            0.875,
            "rgb(37,52,148)"
           ],
           [
            1,
            "rgb(8,29,88)"
           ]
          ],
          "line": {
           "width": 0.5
          },
          "reversescale": true,
          "showscale": false,
          "size": 10
         },
         "mode": "markers+text",
         "text": [
          "parameters.contact_rate",
          "_var1",
          "model_variables.time",
          "_var3",
          "_var4",
          "_var5",
          "_var6",
          "_var7",
          "parameters.rr_infection_latent",
          "_var9",
          "parameters.rr_infection_recovered",
          "_var11",
          "_var12",
          "_var13",
          "_var14",
          "_var15",
          "_var16",
          "_var17",
          "parameters.progression_multiplier",
          "_var19",
          "_var20",
          "_var21",
          "_var22",
          "_var23",
          "_var24",
          "_var25",
          "_var26",
          "_var27",
          "_var28",
          "_var29",
          "_var30",
          "_var31",
          "_var32",
          "_var33",
          "_var34",
          "_var35",
          "_var36",
          "_var37",
          "_var38",
          "_var39",
          "_var40",
          "_var41",
          "_var42",
          "_var43",
          "_var44",
          "_var45",
          "_var46",
          "_var47",
          "_var48",
          "_var49",
          "_var50",
          "_var51",
          "_var52",
          "_var53",
          "_var54",
          "_var55",
          "_var56",
          "_var57",
          "_var58",
          "_var59",
          "_var60",
          "_var61",
          "_var62",
          "_var63",
          "_var64",
          "_var65",
          "_var66",
          "_var67",
          "_var68",
          "_var69",
          "_var70",
          "_var71",
          "parameters.infectious_seed",
          "parameters.start_population_size",
          "_var74",
          "_var75",
          "_var76",
          "_var77",
          "_var78",
          "_var79",
          "_var80",
          "_var81",
          "_var82",
          "_var83",
          "_var84",
          "_var85",
          "_var86",
          "gather_cv",
          "infection_rate",
          "infection_rate_1",
          "infection_rate_2",
          "infection_rate_3",
          "infection_from_latent_rate",
          "infection_from_recovered_rate",
          "stabilisation_rate",
          "stabilisation_rate_7",
          "early_activation_rate",
          "early_activation_rate_9",
          "early_activation_rate_10",
          "late_activation_rate",
          "late_activation_rate_12",
          "late_activation_rate_13",
          "self_recovery_rate",
          "detection_rate",
          "treatment_recovery_rate",
          "treatment_recovery_rate_17",
          "treatment_recovery_rate_18",
          "treatment_recovery_rate_19",
          "treatment_recovery_rate_20",
          "treatment_death_rate",
          "treatment_death_rate_22",
          "treatment_death_rate_23",
          "treatment_death_rate_24",
          "treatment_death_rate_25",
          "relapse_rate",
          "relapse_rate_27",
          "relapse_rate_28",
          "relapse_rate_29",
          "relapse_rate_30",
          "birth_rate",
          "universal_death_rate",
          "universal_death_rate_33",
          "universal_death_rate_34",
          "universal_death_rate_35",
          "universal_death_rate_36",
          "ageing_susceptibleXage_5_to_susceptibleXage_15_rate",
          "ageing_susceptibleXage_15_to_susceptibleXage_35_rate",
          "ageing_susceptibleXage_35_to_susceptibleXage_50_rate",
          "init_pop_dist_infectious",
          "init_pop_dist_susceptible",
          "init_pop_dist_early_latent",
          "age_iadj_infectious_0",
          "age_iadj_infectious_5",
          "age_iadj_infectious_15",
          "age_iadj_infectious_35",
          "age_iadj_infectious_50",
          "age_iadj_on_treatment_0",
          "age_iadj_on_treatment_5",
          "age_iadj_on_treatment_15",
          "age_iadj_on_treatment_35",
          "age_iadj_on_treatment_50",
          "age_mixing_matrix",
          "mixing_matrix",
          "computed_values"
         ],
         "textposition": "top center",
         "type": "scatter",
         "x": [
          0.22442775447369748,
          0.3155965010573248,
          -0.0887968353724863,
          0.3661726535522456,
          0.5662903095995883,
          0.5301236037881383,
          -0.6143140726012511,
          -0.7371237456078901,
          0.04404906702750348,
          0.057778744081153736,
          0.494224690700044,
          0.5411222791320908,
          -0.013937329816855687,
          0.3313306545818913,
          0.35403485088229386,
          0.17005359383655444,
          0.20496800965403472,
          0.3039238085875098,
          -0.03587253220354312,
          0.38058940516912015,
          0.06178426805563269,
          0.07208478925177927,
          -0.821692383466095,
          -0.8199352792623,
          -0.40187754915681984,
          -0.46073192423513043,
          0.5978282485986719,
          0.7339998001341675,
          0.20518765850725107,
          0.22839677302495565,
          -0.7750025006625109,
          -0.40972115222921934,
          -0.1302304704787652,
          -0.2672136801316862,
          -0.09923734632684227,
          -0.8654484343436298,
          -0.11877065460156731,
          -0.1348415151337246,
          -0.1437789405374556,
          0.10163594740859692,
          -0.47652121353466664,
          0.6183194900607609,
          -0.0720505556893975,
          -0.14767006840192246,
          -0.3080462346991545,
          -0.0684210719912923,
          0.04157541831592222,
          0.7571126028207874,
          -0.6170303493529936,
          -0.7430414639616068,
          0.12679582158503092,
          0.15919908820240902,
          -0.733913200615766,
          -0.7991951303021022,
          0.33825710425371586,
          0.40718105876974714,
          -0.6358701951699817,
          -0.7486267631454189,
          0.7648570062242814,
          0.8095339686917468,
          -0.49533168953711953,
          -0.5548925149865368,
          0.6560461782590434,
          0.7401915642000297,
          -0.2521136691115087,
          -0.28268488298625055,
          -0.6125577021453288,
          -0.5804029117548624,
          0.04188566696745142,
          0.7456103564735331,
          0.8293430169672322,
          -0.5343369633738866,
          -0.10092271550580162,
          0.5641437179010582,
          0.6931693114123765,
          0.753822737339899,
          0.8900147463898371,
          -0.0008560997768405632,
          -0.21607342463561907,
          0.8791293717830915,
          -0.18863806948902573,
          -0.6471451012048175,
          -0.3989865579878995,
          0.5660535056522403,
          -0.8775481495833866,
          0.10968036203147068,
          -0.6320789443078887,
          0.10016104354056442,
          0.5372264984889173,
          0.6036740855662079,
          -0.9001012303886955,
          0.9729111509232818,
          0.0758303202326912,
          0.5458045230742803,
          0.43382387849065446,
          0.19347858234195303,
          0.43495936718333095,
          0.08861724250264603,
          -0.9674105867425288,
          -0.485496385524405,
          0.7831711216494391,
          0.3232093442184941,
          -0.8105472466431372,
          -0.4338024687960667,
          -0.9837811982109618,
          -0.17137973544857776,
          0.6124410803743235,
          -0.4033439536132365,
          0.8318669009052276,
          -0.8289217401503446,
          0.22422372410443056,
          -0.9173849578721406,
          0.42215283276490045,
          -0.8951628594774153,
          0.9026859465200513,
          -0.6122297285567457,
          0.8653290449418749,
          -0.39072154664299424,
          -0.6407475911477624,
          -0.015779970395651786,
          -0.14463925614155138,
          -0.32340031060120417,
          -0.9884103754455463,
          -0.6715819025933052,
          0.7271868583452663,
          0.9289701773611276,
          0.957701756863475,
          -0.6357203214632807,
          -0.8944335445394946,
          0.7740870945169556,
          0.8490184691884619,
          0.9713993365679553,
          0.031304227988065196,
          -0.2466411300665708,
          0.929789620319935,
          0.16741762118542347,
          -0.2507857083501602,
          -0.8054598640842144,
          -0.5068730652638603,
          0.6256226575152921,
          -0.879511292525962,
          0.852187879684401,
          -0.7436690688022949,
          0.06764113614141701
         ],
         "y": [
          -0.008775865734717683,
          -0.38621298272414073,
          0.10602206697744114,
          -0.47126523488063865,
          0.6476723396177242,
          0.6591136619825201,
          -0.2633143151217994,
          -0.32133211350866137,
          -0.6207015118345985,
          -0.7314008927132909,
          0.538965657774107,
          0.6152208446875164,
          0.06474956705838901,
          -0.61908387077422,
          -0.6667209967267467,
          0.7916342310543156,
          0.9056438220813314,
          -0.4809051956829949,
          -0.061271076849172317,
          -0.6185164180685572,
          0.8663750295362753,
          0.8313020089599868,
          0.15486116434433692,
          0.18539097347595548,
          -0.5581376886373627,
          -0.6682033174082104,
          -0.44863773348380137,
          -0.5635919775463887,
          -0.5011536731015004,
          -0.5800926303952246,
          0.46007587437316605,
          0.8684788925503342,
          0.007436732222825888,
          -0.43054345487678014,
          0.11246832926088506,
          -0.06498941480345595,
          0.2562605910693139,
          -0.3257818673729031,
          0.9727824021852173,
          0.4321995971382383,
          0.272052934138194,
          0.8684567954313414,
          0.151033793004254,
          0.5229670897589739,
          -0.6106369568357035,
          0.060317924107944926,
          -0.05677347412759201,
          0.597254381312454,
          -0.3723147625703969,
          -0.4480939960332393,
          -0.552126328628849,
          -0.6512059605482206,
          0.3275243052120859,
          0.3501712515550553,
          0.6939577962297679,
          0.8674248230253023,
          0.21413738406251268,
          0.24672086403686183,
          0.31330569819790666,
          0.3302163659596922,
          0.591542330735729,
          0.660731358838425,
          0.10988100079037921,
          0.13649863041808444,
          0.6195427971417278,
          0.7036185051399904,
          -0.6390966503837743,
          -0.6269327910877153,
          -0.3985557182449084,
          0.07268464169103138,
          0.0053086744117243475,
          0.7327320967287727,
          0.08047174715050953,
          0.362330547805476,
          0.4392406324215016,
          -0.2914492295974355,
          -0.1011554682220234,
          -0.8311841703825332,
          -0.7545525667785575,
          -0.27305395151370887,
          0.7565678741146785,
          0.4455465139339879,
          -0.5957466839461718,
          -0.6301259761728515,
          -0.17561015024673643,
          -0.47748441841662287,
          -0.4865617073322756,
          0.07255752859406672,
          -0.7075524962778442,
          0.7259655165453188,
          -0.3904741946955454,
          0.18957597265484774,
          -0.903924450218315,
          0.6504006849221124,
          -0.8164948788407292,
          0.8601461821790408,
          -0.7135253193115983,
          1,
          0.20363868667779655,
          -0.708903834168717,
          -0.6035876354052097,
          -0.8432815066132165,
          0.4639841239397489,
          0.8996121750731298,
          -0.0761245184837396,
          0.9896321052997916,
          0.9021088007952179,
          -0.8176140203232886,
          0.6499925852155831,
          -0.4968520334418618,
          -0.8811704151597147,
          0.39920867617552513,
          0.9080314391906219,
          0.2848450661108617,
          0.3673913876307186,
          0.7257479492424365,
          0.1716566132009333,
          0.9969312497703476,
          -0.6922109146594998,
          -0.870958192422603,
          -0.895197563982335,
          -0.8199339163967704,
          0.07204632120014082,
          0.6271463600514449,
          -0.3465856921107992,
          0.09248684748541812,
          0.002143268338816198,
          0.8626364934994112,
          -0.2778414789738717,
          0.4834356203065533,
          -0.3504209834645822,
          -0.11308624555849367,
          -0.8208761399871988,
          -0.8715017475114138,
          -0.29328915969703506,
          -0.8448901409549554,
          0.9995330334188554,
          0.5738293596782144,
          -0.7777060897486471,
          -0.6923009267571292,
          -0.2075310398280794,
          -0.47009527345835156,
          -0.5698737579137676,
          0.05352116877859309
         ]
        }
       ],
       "layout": {
        "height": 800,
        "hovermode": "closest",
        "showlegend": false,
        "template": {
         "data": {
          "bar": [
           {
            "error_x": {
             "color": "#2a3f5f"
            },
            "error_y": {
             "color": "#2a3f5f"
            },
            "marker": {
             "line": {
              "color": "#E5ECF6",
              "width": 0.5
             },
             "pattern": {
              "fillmode": "overlay",
              "size": 10,
              "solidity": 0.2
             }
            },
            "type": "bar"
           }
          ],
          "barpolar": [
           {
            "marker": {
             "line": {
              "color": "#E5ECF6",
              "width": 0.5
             },
             "pattern": {
              "fillmode": "overlay",
              "size": 10,
              "solidity": 0.2
             }
            },
            "type": "barpolar"
           }
          ],
          "carpet": [
           {
            "aaxis": {
             "endlinecolor": "#2a3f5f",
             "gridcolor": "white",
             "linecolor": "white",
             "minorgridcolor": "white",
             "startlinecolor": "#2a3f5f"
            },
            "baxis": {
             "endlinecolor": "#2a3f5f",
             "gridcolor": "white",
             "linecolor": "white",
             "minorgridcolor": "white",
             "startlinecolor": "#2a3f5f"
            },
            "type": "carpet"
           }
          ],
          "choropleth": [
           {
            "colorbar": {
             "outlinewidth": 0,
             "ticks": ""
            },
            "type": "choropleth"
           }
          ],
          "contour": [
           {
            "colorbar": {
             "outlinewidth": 0,
             "ticks": ""
            },
            "colorscale": [
             [
              0,
              "#0d0887"
             ],
             [
              0.1111111111111111,
              "#46039f"
             ],
             [
              0.2222222222222222,
              "#7201a8"
             ],
             [
              0.3333333333333333,
              "#9c179e"
             ],
             [
              0.4444444444444444,
              "#bd3786"
             ],
             [
              0.5555555555555556,
              "#d8576b"
             ],
             [
              0.6666666666666666,
              "#ed7953"
             ],
             [
              0.7777777777777778,
              "#fb9f3a"
             ],
             [
              0.8888888888888888,
              "#fdca26"
             ],
             [
              1,
              "#f0f921"
             ]
            ],
            "type": "contour"
           }
          ],
          "contourcarpet": [
           {
            "colorbar": {
             "outlinewidth": 0,
             "ticks": ""
            },
            "type": "contourcarpet"
           }
          ],
          "heatmap": [
           {
            "colorbar": {
             "outlinewidth": 0,
             "ticks": ""
            },
            "colorscale": [
             [
              0,
              "#0d0887"
             ],
             [
              0.1111111111111111,
              "#46039f"
             ],
             [
              0.2222222222222222,
              "#7201a8"
             ],
             [
              0.3333333333333333,
              "#9c179e"
             ],
             [
              0.4444444444444444,
              "#bd3786"
             ],
             [
              0.5555555555555556,
              "#d8576b"
             ],
             [
              0.6666666666666666,
              "#ed7953"
             ],
             [
              0.7777777777777778,
              "#fb9f3a"
             ],
             [
              0.8888888888888888,
              "#fdca26"
             ],
             [
              1,
              "#f0f921"
             ]
            ],
            "type": "heatmap"
           }
          ],
          "heatmapgl": [
           {
            "colorbar": {
             "outlinewidth": 0,
             "ticks": ""
            },
            "colorscale": [
             [
              0,
              "#0d0887"
             ],
             [
              0.1111111111111111,
              "#46039f"
             ],
             [
              0.2222222222222222,
              "#7201a8"
             ],
             [
              0.3333333333333333,
              "#9c179e"
             ],
             [
              0.4444444444444444,
              "#bd3786"
             ],
             [
              0.5555555555555556,
              "#d8576b"
             ],
             [
              0.6666666666666666,
              "#ed7953"
             ],
             [
              0.7777777777777778,
              "#fb9f3a"
             ],
             [
              0.8888888888888888,
              "#fdca26"
             ],
             [
              1,
              "#f0f921"
             ]
            ],
            "type": "heatmapgl"
           }
          ],
          "histogram": [
           {
            "marker": {
             "pattern": {
              "fillmode": "overlay",
              "size": 10,
              "solidity": 0.2
             }
            },
            "type": "histogram"
           }
          ],
          "histogram2d": [
           {
            "colorbar": {
             "outlinewidth": 0,
             "ticks": ""
            },
            "colorscale": [
             [
              0,
              "#0d0887"
             ],
             [
              0.1111111111111111,
              "#46039f"
             ],
             [
              0.2222222222222222,
              "#7201a8"
             ],
             [
              0.3333333333333333,
              "#9c179e"
             ],
             [
              0.4444444444444444,
              "#bd3786"
             ],
             [
              0.5555555555555556,
              "#d8576b"
             ],
             [
              0.6666666666666666,
              "#ed7953"
             ],
             [
              0.7777777777777778,
              "#fb9f3a"
             ],
             [
              0.8888888888888888,
              "#fdca26"
             ],
             [
              1,
              "#f0f921"
             ]
            ],
            "type": "histogram2d"
           }
          ],
          "histogram2dcontour": [
           {
            "colorbar": {
             "outlinewidth": 0,
             "ticks": ""
            },
            "colorscale": [
             [
              0,
              "#0d0887"
             ],
             [
              0.1111111111111111,
              "#46039f"
             ],
             [
              0.2222222222222222,
              "#7201a8"
             ],
             [
              0.3333333333333333,
              "#9c179e"
             ],
             [
              0.4444444444444444,
              "#bd3786"
             ],
             [
              0.5555555555555556,
              "#d8576b"
             ],
             [
              0.6666666666666666,
              "#ed7953"
             ],
             [
              0.7777777777777778,
              "#fb9f3a"
             ],
             [
              0.8888888888888888,
              "#fdca26"
             ],
             [
              1,
              "#f0f921"
             ]
            ],
            "type": "histogram2dcontour"
           }
          ],
          "mesh3d": [
           {
            "colorbar": {
             "outlinewidth": 0,
             "ticks": ""
            },
            "type": "mesh3d"
           }
          ],
          "parcoords": [
           {
            "line": {
             "colorbar": {
              "outlinewidth": 0,
              "ticks": ""
             }
            },
            "type": "parcoords"
           }
          ],
          "pie": [
           {
            "automargin": true,
            "type": "pie"
           }
          ],
          "scatter": [
           {
            "fillpattern": {
             "fillmode": "overlay",
             "size": 10,
             "solidity": 0.2
            },
            "type": "scatter"
           }
          ],
          "scatter3d": [
           {
            "line": {
             "colorbar": {
              "outlinewidth": 0,
              "ticks": ""
             }
            },
            "marker": {
             "colorbar": {
              "outlinewidth": 0,
              "ticks": ""
             }
            },
            "type": "scatter3d"
           }
          ],
          "scattercarpet": [
           {
            "marker": {
             "colorbar": {
              "outlinewidth": 0,
              "ticks": ""
             }
            },
            "type": "scattercarpet"
           }
          ],
          "scattergeo": [
           {
            "marker": {
             "colorbar": {
              "outlinewidth": 0,
              "ticks": ""
             }
            },
            "type": "scattergeo"
           }
          ],
          "scattergl": [
           {
            "marker": {
             "colorbar": {
              "outlinewidth": 0,
              "ticks": ""
             }
            },
            "type": "scattergl"
           }
          ],
          "scattermapbox": [
           {
            "marker": {
             "colorbar": {
              "outlinewidth": 0,
              "ticks": ""
             }
            },
            "type": "scattermapbox"
           }
          ],
          "scatterpolar": [
           {
            "marker": {
             "colorbar": {
              "outlinewidth": 0,
              "ticks": ""
             }
            },
            "type": "scatterpolar"
           }
          ],
          "scatterpolargl": [
           {
            "marker": {
             "colorbar": {
              "outlinewidth": 0,
              "ticks": ""
             }
            },
            "type": "scatterpolargl"
           }
          ],
          "scatterternary": [
           {
            "marker": {
             "colorbar": {
              "outlinewidth": 0,
              "ticks": ""
             }
            },
            "type": "scatterternary"
           }
          ],
          "surface": [
           {
            "colorbar": {
             "outlinewidth": 0,
             "ticks": ""
            },
            "colorscale": [
             [
              0,
              "#0d0887"
             ],
             [
              0.1111111111111111,
              "#46039f"
             ],
             [
              0.2222222222222222,
              "#7201a8"
             ],
             [
              0.3333333333333333,
              "#9c179e"
             ],
             [
              0.4444444444444444,
              "#bd3786"
             ],
             [
              0.5555555555555556,
              "#d8576b"
             ],
             [
              0.6666666666666666,
              "#ed7953"
             ],
             [
              0.7777777777777778,
              "#fb9f3a"
             ],
             [
              0.8888888888888888,
              "#fdca26"
             ],
             [
              1,
              "#f0f921"
             ]
            ],
            "type": "surface"
           }
          ],
          "table": [
           {
            "cells": {
             "fill": {
              "color": "#EBF0F8"
             },
             "line": {
              "color": "white"
             }
            },
            "header": {
             "fill": {
              "color": "#C8D4E3"
             },
             "line": {
              "color": "white"
             }
            },
            "type": "table"
           }
          ]
         },
         "layout": {
          "annotationdefaults": {
           "arrowcolor": "#2a3f5f",
           "arrowhead": 0,
           "arrowwidth": 1
          },
          "autotypenumbers": "strict",
          "coloraxis": {
           "colorbar": {
            "outlinewidth": 0,
            "ticks": ""
           }
          },
          "colorscale": {
           "diverging": [
            [
             0,
             "#8e0152"
            ],
            [
             0.1,
             "#c51b7d"
            ],
            [
             0.2,
             "#de77ae"
            ],
            [
             0.3,
             "#f1b6da"
            ],
            [
             0.4,
             "#fde0ef"
            ],
            [
             0.5,
             "#f7f7f7"
            ],
            [
             0.6,
             "#e6f5d0"
            ],
            [
             0.7,
             "#b8e186"
            ],
            [
             0.8,
             "#7fbc41"
            ],
            [
             0.9,
             "#4d9221"
            ],
            [
             1,
             "#276419"
            ]
           ],
           "sequential": [
            [
             0,
             "#0d0887"
            ],
            [
             0.1111111111111111,
             "#46039f"
            ],
            [
             0.2222222222222222,
             "#7201a8"
            ],
            [
             0.3333333333333333,
             "#9c179e"
            ],
            [
             0.4444444444444444,
             "#bd3786"
            ],
            [
             0.5555555555555556,
             "#d8576b"
            ],
            [
             0.6666666666666666,
             "#ed7953"
            ],
            [
             0.7777777777777778,
             "#fb9f3a"
            ],
            [
             0.8888888888888888,
             "#fdca26"
            ],
            [
             1,
             "#f0f921"
            ]
           ],
           "sequentialminus": [
            [
             0,
             "#0d0887"
            ],
            [
             0.1111111111111111,
             "#46039f"
            ],
            [
             0.2222222222222222,
             "#7201a8"
            ],
            [
             0.3333333333333333,
             "#9c179e"
            ],
            [
             0.4444444444444444,
             "#bd3786"
            ],
            [
             0.5555555555555556,
             "#d8576b"
            ],
            [
             0.6666666666666666,
             "#ed7953"
            ],
            [
             0.7777777777777778,
             "#fb9f3a"
            ],
            [
             0.8888888888888888,
             "#fdca26"
            ],
            [
             1,
             "#f0f921"
            ]
           ]
          },
          "colorway": [
           "#636efa",
           "#EF553B",
           "#00cc96",
           "#ab63fa",
           "#FFA15A",
           "#19d3f3",
           "#FF6692",
           "#B6E880",
           "#FF97FF",
           "#FECB52"
          ],
          "font": {
           "color": "#2a3f5f"
          },
          "geo": {
           "bgcolor": "white",
           "lakecolor": "white",
           "landcolor": "#E5ECF6",
           "showlakes": true,
           "showland": true,
           "subunitcolor": "white"
          },
          "hoverlabel": {
           "align": "left"
          },
          "hovermode": "closest",
          "mapbox": {
           "style": "light"
          },
          "paper_bgcolor": "white",
          "plot_bgcolor": "#E5ECF6",
          "polar": {
           "angularaxis": {
            "gridcolor": "white",
            "linecolor": "white",
            "ticks": ""
           },
           "bgcolor": "#E5ECF6",
           "radialaxis": {
            "gridcolor": "white",
            "linecolor": "white",
            "ticks": ""
           }
          },
          "scene": {
           "xaxis": {
            "backgroundcolor": "#E5ECF6",
            "gridcolor": "white",
            "gridwidth": 2,
            "linecolor": "white",
            "showbackground": true,
            "ticks": "",
            "zerolinecolor": "white"
           },
           "yaxis": {
            "backgroundcolor": "#E5ECF6",
            "gridcolor": "white",
            "gridwidth": 2,
            "linecolor": "white",
            "showbackground": true,
            "ticks": "",
            "zerolinecolor": "white"
           },
           "zaxis": {
            "backgroundcolor": "#E5ECF6",
            "gridcolor": "white",
            "gridwidth": 2,
            "linecolor": "white",
            "showbackground": true,
            "ticks": "",
            "zerolinecolor": "white"
           }
          },
          "shapedefaults": {
           "line": {
            "color": "#2a3f5f"
           }
          },
          "ternary": {
           "aaxis": {
            "gridcolor": "white",
            "linecolor": "white",
            "ticks": ""
           },
           "baxis": {
            "gridcolor": "white",
            "linecolor": "white",
            "ticks": ""
           },
           "bgcolor": "#E5ECF6",
           "caxis": {
            "gridcolor": "white",
            "linecolor": "white",
            "ticks": ""
           }
          },
          "title": {
           "x": 0.05
          },
          "xaxis": {
           "automargin": true,
           "gridcolor": "white",
           "linecolor": "white",
           "ticks": "",
           "title": {
            "standoff": 15
           },
           "zerolinecolor": "white",
           "zerolinewidth": 2
          },
          "yaxis": {
           "automargin": true,
           "gridcolor": "white",
           "linecolor": "white",
           "ticks": "",
           "title": {
            "standoff": 15
           },
           "zerolinecolor": "white",
           "zerolinewidth": 2
          }
         }
        },
        "title": {
         "font": {
          "size": 16
         },
         "text": "ComputeGraph"
        },
        "width": 800,
        "xaxis": {
         "showgrid": false,
         "showticklabels": false,
         "zeroline": false
        },
        "yaxis": {
         "showgrid": false,
         "showticklabels": false,
         "visible": false,
         "zeroline": false
        }
       }
      }
     },
     "metadata": {},
     "output_type": "display_data"
    }
   ],
   "source": [
    "model_0.graph.draw()"
   ]
  },
  {
   "cell_type": "code",
   "execution_count": 14,
   "metadata": {},
   "outputs": [
    {
     "data": {
      "application/vnd.plotly.v1+json": {
       "config": {
        "plotlyServerURL": "https://plot.ly"
       },
       "data": [
        {
         "hovertemplate": "index=%{x}<br>total_population=%{y}<extra></extra>",
         "legendgroup": "",
         "line": {
          "color": "#636efa",
          "dash": "solid"
         },
         "marker": {
          "symbol": "circle"
         },
         "mode": "lines",
         "name": "",
         "showlegend": false,
         "type": "scattergl",
         "x": [
          1900,
          1900.1,
          1900.2,
          1900.3,
          1900.4,
          1900.5,
          1900.6,
          1900.7,
          1900.8,
          1900.9,
          1901,
          1901.1,
          1901.2,
          1901.3,
          1901.4,
          1901.5,
          1901.6,
          1901.7,
          1901.8,
          1901.9,
          1902,
          1902.1,
          1902.2,
          1902.3,
          1902.4,
          1902.5,
          1902.6,
          1902.7,
          1902.8,
          1902.9,
          1903,
          1903.1,
          1903.2,
          1903.3,
          1903.4,
          1903.5,
          1903.6,
          1903.7,
          1903.8,
          1903.9,
          1904,
          1904.1,
          1904.2,
          1904.3,
          1904.4,
          1904.5,
          1904.6,
          1904.7,
          1904.8,
          1904.9,
          1905,
          1905.1,
          1905.2,
          1905.3,
          1905.4,
          1905.5,
          1905.6,
          1905.7,
          1905.8,
          1905.9,
          1906,
          1906.1,
          1906.2,
          1906.3,
          1906.4,
          1906.5,
          1906.6,
          1906.7,
          1906.8,
          1906.9,
          1907,
          1907.1,
          1907.2,
          1907.3,
          1907.4,
          1907.5,
          1907.6,
          1907.7,
          1907.8,
          1907.9,
          1908,
          1908.1,
          1908.2,
          1908.3,
          1908.4,
          1908.5,
          1908.6,
          1908.7,
          1908.8,
          1908.9,
          1909,
          1909.1,
          1909.2,
          1909.3,
          1909.4,
          1909.5,
          1909.6,
          1909.7,
          1909.8,
          1909.9,
          1910,
          1910.1,
          1910.2,
          1910.3,
          1910.4,
          1910.5,
          1910.6,
          1910.7,
          1910.8,
          1910.9,
          1911,
          1911.1,
          1911.2,
          1911.3,
          1911.4,
          1911.5,
          1911.6,
          1911.7,
          1911.8,
          1911.9,
          1912,
          1912.1,
          1912.2,
          1912.3,
          1912.4,
          1912.5,
          1912.6,
          1912.7,
          1912.8,
          1912.9,
          1913,
          1913.1,
          1913.2,
          1913.3,
          1913.4,
          1913.5,
          1913.6,
          1913.7,
          1913.8,
          1913.9,
          1914,
          1914.1,
          1914.2,
          1914.3,
          1914.4,
          1914.5,
          1914.6,
          1914.7,
          1914.8,
          1914.9,
          1915,
          1915.1,
          1915.2,
          1915.3,
          1915.4,
          1915.5,
          1915.6,
          1915.7,
          1915.8,
          1915.9,
          1916,
          1916.1,
          1916.2,
          1916.3,
          1916.4,
          1916.5,
          1916.6,
          1916.7,
          1916.8,
          1916.9,
          1917,
          1917.1,
          1917.2,
          1917.3,
          1917.4,
          1917.5,
          1917.6,
          1917.7,
          1917.8,
          1917.9,
          1918,
          1918.1,
          1918.2,
          1918.3,
          1918.4,
          1918.5,
          1918.6,
          1918.7,
          1918.8,
          1918.9,
          1919,
          1919.1,
          1919.2,
          1919.3,
          1919.4,
          1919.5,
          1919.6,
          1919.7,
          1919.8,
          1919.9,
          1920,
          1920.1,
          1920.2,
          1920.3,
          1920.4,
          1920.5,
          1920.6,
          1920.7,
          1920.8,
          1920.9,
          1921,
          1921.1,
          1921.2,
          1921.3,
          1921.4,
          1921.5,
          1921.6,
          1921.7,
          1921.8,
          1921.9,
          1922,
          1922.1,
          1922.2,
          1922.3,
          1922.4,
          1922.5,
          1922.6,
          1922.7,
          1922.8,
          1922.9,
          1923,
          1923.1,
          1923.2,
          1923.3,
          1923.4,
          1923.5,
          1923.6,
          1923.7,
          1923.8,
          1923.9,
          1924,
          1924.1,
          1924.2,
          1924.3,
          1924.4,
          1924.5,
          1924.6,
          1924.7,
          1924.8,
          1924.9,
          1925,
          1925.1,
          1925.2,
          1925.3,
          1925.4,
          1925.5,
          1925.6,
          1925.7,
          1925.8,
          1925.9,
          1926,
          1926.1,
          1926.2,
          1926.3,
          1926.4,
          1926.5,
          1926.6,
          1926.7,
          1926.8,
          1926.9,
          1927,
          1927.1,
          1927.2,
          1927.3,
          1927.4,
          1927.5,
          1927.6,
          1927.7,
          1927.8,
          1927.9,
          1928,
          1928.1,
          1928.2,
          1928.3,
          1928.4,
          1928.5,
          1928.6,
          1928.7,
          1928.8,
          1928.9,
          1929,
          1929.1,
          1929.2,
          1929.3,
          1929.4,
          1929.5,
          1929.6,
          1929.7,
          1929.8,
          1929.9,
          1930,
          1930.1,
          1930.2,
          1930.3,
          1930.4,
          1930.5,
          1930.6,
          1930.7,
          1930.8,
          1930.9,
          1931,
          1931.1,
          1931.2,
          1931.3,
          1931.4,
          1931.5,
          1931.6,
          1931.7,
          1931.8,
          1931.9,
          1932,
          1932.1,
          1932.2,
          1932.3,
          1932.4,
          1932.5,
          1932.6,
          1932.7,
          1932.8,
          1932.9,
          1933,
          1933.1,
          1933.2,
          1933.3,
          1933.4,
          1933.5,
          1933.6,
          1933.7,
          1933.8,
          1933.9,
          1934,
          1934.1,
          1934.2,
          1934.3,
          1934.4,
          1934.5,
          1934.6,
          1934.7,
          1934.8,
          1934.9,
          1935,
          1935.1,
          1935.2,
          1935.3,
          1935.4,
          1935.5,
          1935.6,
          1935.7,
          1935.8,
          1935.9,
          1936,
          1936.1,
          1936.2,
          1936.3,
          1936.4,
          1936.5,
          1936.6,
          1936.7,
          1936.8,
          1936.9,
          1937,
          1937.1,
          1937.2,
          1937.3,
          1937.4,
          1937.5,
          1937.6,
          1937.7,
          1937.8,
          1937.9,
          1938,
          1938.1,
          1938.2,
          1938.3,
          1938.4,
          1938.5,
          1938.6,
          1938.7,
          1938.8,
          1938.9,
          1939,
          1939.1,
          1939.2,
          1939.3,
          1939.4,
          1939.5,
          1939.6,
          1939.7,
          1939.8,
          1939.9,
          1940,
          1940.1,
          1940.2,
          1940.3,
          1940.4,
          1940.5,
          1940.6,
          1940.7,
          1940.8,
          1940.9,
          1941,
          1941.1,
          1941.2,
          1941.3,
          1941.4,
          1941.5,
          1941.6,
          1941.7,
          1941.8,
          1941.9,
          1942,
          1942.1,
          1942.2,
          1942.3,
          1942.4,
          1942.5,
          1942.6,
          1942.7,
          1942.8,
          1942.9,
          1943,
          1943.1,
          1943.2,
          1943.3,
          1943.4,
          1943.5,
          1943.6,
          1943.7,
          1943.8,
          1943.9,
          1944,
          1944.1,
          1944.2,
          1944.3,
          1944.4,
          1944.5,
          1944.6,
          1944.7,
          1944.8,
          1944.9,
          1945,
          1945.1,
          1945.2,
          1945.3,
          1945.4,
          1945.5,
          1945.6,
          1945.7,
          1945.8,
          1945.9,
          1946,
          1946.1,
          1946.2,
          1946.3,
          1946.4,
          1946.5,
          1946.6,
          1946.7,
          1946.8,
          1946.9,
          1947,
          1947.1,
          1947.2,
          1947.3,
          1947.4,
          1947.5,
          1947.6,
          1947.7,
          1947.8,
          1947.9,
          1948,
          1948.1,
          1948.2,
          1948.3,
          1948.4,
          1948.5,
          1948.6,
          1948.7,
          1948.8,
          1948.9,
          1949,
          1949.1,
          1949.2,
          1949.3,
          1949.4,
          1949.5,
          1949.6,
          1949.7,
          1949.8,
          1949.9,
          1950,
          1950.1,
          1950.2,
          1950.3,
          1950.4,
          1950.5,
          1950.6,
          1950.7,
          1950.8,
          1950.9,
          1951,
          1951.1,
          1951.2,
          1951.3,
          1951.4,
          1951.5,
          1951.6,
          1951.7,
          1951.8,
          1951.9,
          1952,
          1952.1,
          1952.2,
          1952.3,
          1952.4,
          1952.5,
          1952.6,
          1952.7,
          1952.8,
          1952.9,
          1953,
          1953.1,
          1953.2,
          1953.3,
          1953.4,
          1953.5,
          1953.6,
          1953.7,
          1953.8,
          1953.9,
          1954,
          1954.1,
          1954.2,
          1954.3,
          1954.4,
          1954.5,
          1954.6,
          1954.7,
          1954.8,
          1954.9,
          1955,
          1955.1,
          1955.2,
          1955.3,
          1955.4,
          1955.5,
          1955.6,
          1955.7,
          1955.8,
          1955.9,
          1956,
          1956.1,
          1956.2,
          1956.3,
          1956.4,
          1956.5,
          1956.6,
          1956.7,
          1956.8,
          1956.9,
          1957,
          1957.1,
          1957.2,
          1957.3,
          1957.4,
          1957.5,
          1957.6,
          1957.7,
          1957.8,
          1957.9,
          1958,
          1958.1,
          1958.2,
          1958.3,
          1958.4,
          1958.5,
          1958.6,
          1958.7,
          1958.8,
          1958.9,
          1959,
          1959.1,
          1959.2,
          1959.3,
          1959.4,
          1959.5,
          1959.6,
          1959.7,
          1959.8,
          1959.9,
          1960,
          1960.1,
          1960.2,
          1960.3,
          1960.4,
          1960.5,
          1960.6,
          1960.7,
          1960.8,
          1960.9,
          1961,
          1961.1,
          1961.2,
          1961.3,
          1961.4,
          1961.5,
          1961.6,
          1961.7,
          1961.8,
          1961.9,
          1962,
          1962.1,
          1962.2,
          1962.3,
          1962.4,
          1962.5,
          1962.6,
          1962.7,
          1962.8,
          1962.9,
          1963,
          1963.1,
          1963.2,
          1963.3,
          1963.4,
          1963.5,
          1963.6,
          1963.7,
          1963.8,
          1963.9,
          1964,
          1964.1,
          1964.2,
          1964.3,
          1964.4,
          1964.5,
          1964.6,
          1964.7,
          1964.8,
          1964.9,
          1965,
          1965.1,
          1965.2,
          1965.3,
          1965.4,
          1965.5,
          1965.6,
          1965.7,
          1965.8,
          1965.9,
          1966,
          1966.1,
          1966.2,
          1966.3,
          1966.4,
          1966.5,
          1966.6,
          1966.7,
          1966.8,
          1966.9,
          1967,
          1967.1,
          1967.2,
          1967.3,
          1967.4,
          1967.5,
          1967.6,
          1967.7,
          1967.8,
          1967.9,
          1968,
          1968.1,
          1968.2,
          1968.3,
          1968.4,
          1968.5,
          1968.6,
          1968.7,
          1968.8,
          1968.9,
          1969,
          1969.1,
          1969.2,
          1969.3,
          1969.4,
          1969.5,
          1969.6,
          1969.7,
          1969.8,
          1969.9,
          1970,
          1970.1,
          1970.2,
          1970.3,
          1970.4,
          1970.5,
          1970.6,
          1970.7,
          1970.8,
          1970.9,
          1971,
          1971.1,
          1971.2,
          1971.3,
          1971.4,
          1971.5,
          1971.6,
          1971.7,
          1971.8,
          1971.9,
          1972,
          1972.1,
          1972.2,
          1972.3,
          1972.4,
          1972.5,
          1972.6,
          1972.7,
          1972.8,
          1972.9,
          1973,
          1973.1,
          1973.2,
          1973.3,
          1973.4,
          1973.5,
          1973.6,
          1973.7,
          1973.8,
          1973.9,
          1974,
          1974.1,
          1974.2,
          1974.3,
          1974.4,
          1974.5,
          1974.6,
          1974.7,
          1974.8,
          1974.9,
          1975,
          1975.1,
          1975.2,
          1975.3,
          1975.4,
          1975.5,
          1975.6,
          1975.7,
          1975.8,
          1975.9,
          1976,
          1976.1,
          1976.2,
          1976.3,
          1976.4,
          1976.5,
          1976.6,
          1976.7,
          1976.8,
          1976.9,
          1977,
          1977.1,
          1977.2,
          1977.3,
          1977.4,
          1977.5,
          1977.6,
          1977.7,
          1977.8,
          1977.9,
          1978,
          1978.1,
          1978.2,
          1978.3,
          1978.4,
          1978.5,
          1978.6,
          1978.7,
          1978.8,
          1978.9,
          1979,
          1979.1,
          1979.2,
          1979.3,
          1979.4,
          1979.5,
          1979.6,
          1979.7,
          1979.8,
          1979.9,
          1980,
          1980.1,
          1980.2,
          1980.3,
          1980.4,
          1980.5,
          1980.6,
          1980.7,
          1980.8,
          1980.9,
          1981,
          1981.1,
          1981.2,
          1981.3,
          1981.4,
          1981.5,
          1981.6,
          1981.7,
          1981.8,
          1981.9,
          1982,
          1982.1,
          1982.2,
          1982.3,
          1982.4,
          1982.5,
          1982.6,
          1982.7,
          1982.8,
          1982.9,
          1983,
          1983.1,
          1983.2,
          1983.3,
          1983.4,
          1983.5,
          1983.6,
          1983.7,
          1983.8,
          1983.9,
          1984,
          1984.1,
          1984.2,
          1984.3,
          1984.4,
          1984.5,
          1984.6,
          1984.7,
          1984.8,
          1984.9,
          1985,
          1985.1,
          1985.2,
          1985.3,
          1985.4,
          1985.5,
          1985.6,
          1985.7,
          1985.8,
          1985.9,
          1986,
          1986.1,
          1986.2,
          1986.3,
          1986.4,
          1986.5,
          1986.6,
          1986.7,
          1986.8,
          1986.9,
          1987,
          1987.1,
          1987.2,
          1987.3,
          1987.4,
          1987.5,
          1987.6,
          1987.7,
          1987.8,
          1987.9,
          1988,
          1988.1,
          1988.2,
          1988.3,
          1988.4,
          1988.5,
          1988.6,
          1988.7,
          1988.8,
          1988.9,
          1989,
          1989.1,
          1989.2,
          1989.3,
          1989.4,
          1989.5,
          1989.6,
          1989.7,
          1989.8,
          1989.9,
          1990,
          1990.1,
          1990.2,
          1990.3,
          1990.4,
          1990.5,
          1990.6,
          1990.7,
          1990.8,
          1990.9,
          1991,
          1991.1,
          1991.2,
          1991.3,
          1991.4,
          1991.5,
          1991.6,
          1991.7,
          1991.8,
          1991.9,
          1992,
          1992.1,
          1992.2,
          1992.3,
          1992.4,
          1992.5,
          1992.6,
          1992.7,
          1992.8,
          1992.9,
          1993,
          1993.1,
          1993.2,
          1993.3,
          1993.4,
          1993.5,
          1993.6,
          1993.7,
          1993.8,
          1993.9,
          1994,
          1994.1,
          1994.2,
          1994.3,
          1994.4,
          1994.5,
          1994.6,
          1994.7,
          1994.8,
          1994.9,
          1995,
          1995.1,
          1995.2,
          1995.3,
          1995.4,
          1995.5,
          1995.6,
          1995.7,
          1995.8,
          1995.9,
          1996,
          1996.1,
          1996.2,
          1996.3,
          1996.4,
          1996.5,
          1996.6,
          1996.7,
          1996.8,
          1996.9,
          1997,
          1997.1,
          1997.2,
          1997.3,
          1997.4,
          1997.5,
          1997.6,
          1997.7,
          1997.8,
          1997.9,
          1998,
          1998.1,
          1998.2,
          1998.3,
          1998.4,
          1998.5,
          1998.6,
          1998.7,
          1998.8,
          1998.9,
          1999,
          1999.1,
          1999.2,
          1999.3,
          1999.4,
          1999.5,
          1999.6,
          1999.7,
          1999.8,
          1999.9,
          2000,
          2000.1,
          2000.2,
          2000.3,
          2000.4,
          2000.5,
          2000.6,
          2000.7,
          2000.8,
          2000.9,
          2001,
          2001.1,
          2001.2,
          2001.3,
          2001.4,
          2001.5,
          2001.6,
          2001.7,
          2001.8,
          2001.9,
          2002,
          2002.1,
          2002.2,
          2002.3,
          2002.4,
          2002.5,
          2002.6,
          2002.7,
          2002.8,
          2002.9,
          2003,
          2003.1,
          2003.2,
          2003.3,
          2003.4,
          2003.5,
          2003.6,
          2003.7,
          2003.8,
          2003.9,
          2004,
          2004.1,
          2004.2,
          2004.3,
          2004.4,
          2004.5,
          2004.6,
          2004.7,
          2004.8,
          2004.9,
          2005,
          2005.1,
          2005.2,
          2005.3,
          2005.4,
          2005.5,
          2005.6,
          2005.7,
          2005.8,
          2005.9,
          2006,
          2006.1,
          2006.2,
          2006.3,
          2006.4,
          2006.5,
          2006.6,
          2006.7,
          2006.8,
          2006.9,
          2007,
          2007.1,
          2007.2,
          2007.3,
          2007.4,
          2007.5,
          2007.6,
          2007.7,
          2007.8,
          2007.9,
          2008,
          2008.1,
          2008.2,
          2008.3,
          2008.4,
          2008.5,
          2008.6,
          2008.7,
          2008.8,
          2008.9,
          2009,
          2009.1,
          2009.2,
          2009.3,
          2009.4,
          2009.5,
          2009.6,
          2009.7,
          2009.8,
          2009.9,
          2010,
          2010.1,
          2010.2,
          2010.3,
          2010.4,
          2010.5,
          2010.6,
          2010.7,
          2010.8,
          2010.9,
          2011,
          2011.1,
          2011.2,
          2011.3,
          2011.4,
          2011.5,
          2011.6,
          2011.7,
          2011.8,
          2011.9,
          2012,
          2012.1,
          2012.2,
          2012.3,
          2012.4,
          2012.5,
          2012.6,
          2012.7,
          2012.8,
          2012.9,
          2013,
          2013.1,
          2013.2,
          2013.3,
          2013.4,
          2013.5,
          2013.6,
          2013.7,
          2013.8,
          2013.9,
          2014,
          2014.1,
          2014.2,
          2014.3,
          2014.4,
          2014.5,
          2014.6,
          2014.7,
          2014.8,
          2014.9,
          2015,
          2015.1,
          2015.2,
          2015.3,
          2015.4,
          2015.5,
          2015.6,
          2015.7,
          2015.8,
          2015.9,
          2016,
          2016.1,
          2016.2,
          2016.3,
          2016.4,
          2016.5,
          2016.6,
          2016.7,
          2016.8,
          2016.9,
          2017,
          2017.1,
          2017.2,
          2017.3,
          2017.4,
          2017.5,
          2017.6,
          2017.7,
          2017.8,
          2017.9,
          2018,
          2018.1,
          2018.2,
          2018.3,
          2018.4,
          2018.5,
          2018.6,
          2018.7,
          2018.8,
          2018.9,
          2019,
          2019.1,
          2019.2,
          2019.3,
          2019.4,
          2019.5,
          2019.6,
          2019.7,
          2019.8,
          2019.9,
          2020
         ],
         "xaxis": "x",
         "y": [
          233198,
          233116.86622682493,
          233041.25261632,
          232970.30904951217,
          232903.653590483,
          232841.1400928904,
          232782.7436771033,
          232728.48501056517,
          232678.41076061514,
          232632.5653673615,
          232590.99618901117,
          232553.7379431061,
          232520.82256209548,
          232492.27417458172,
          232468.10922438145,
          232448.34030937537,
          232432.97450567252,
          232422.01539529077,
          232415.46356324572,
          232413.3159757265,
          232415.56608826044,
          232422.20619654187,
          232433.22751857986,
          232448.6201993826,
          232468.37134181854,
          232492.46514524892,
          232520.88565055953,
          232553.61685866464,
          232590.64273050678,
          232631.94718547707,
          232677.51189183578,
          232727.31479400583,
          232781.33461672,
          232839.55096121912,
          232901.9443052533,
          232968.49504376622,
          233039.17869570802,
          233113.97017460587,
          233192.84595477558,
          233275.78406144842,
          233362.76400701178,
          233453.76137660665,
          233548.74806653755,
          233647.6983456227,
          233750.58825880894,
          233857.3954515996,
          233968.0939073436,
          234082.65531614027,
          234201.0530946623,
          234323.26201073898,
          234449.25806637626,
          234579.0145922952,
          234712.50261048955,
          234849.69457187894,
          234990.56428888274,
          235135.08693541793,
          235283.236779622,
          235434.98389952362,
          235590.29956807868,
          235749.1567362588,
          235911.53003270976,
          236077.39508075494,
          236246.72257790304,
          236419.48240498052,
          236595.64662482895,
          236775.1893796372,
          236958.0868409716,
          237144.31169985712,
          237333.83350038234,
          237526.62448964195,
          237722.65866911897,
          237921.91150127217,
          238124.3552897246,
          238329.96172966814,
          238538.70398192346,
          238750.55630238456,
          238965.49374964074,
          239183.48932955906,
          239404.5157383777,
          239628.5467051563,
          239855.5569177915,
          240085.52201755656,
          240318.41701782765,
          240554.21479487894,
          240792.8891458377,
          241034.4151242634,
          241278.76904015115,
          241525.9282720666,
          241775.86735622468,
          242028.5601570231,
          242283.98224967628,
          242542.11055894004,
          242802.92310710205,
          243066.39564272828,
          243332.503680905,
          243601.22393374937,
          243872.53408077103,
          244146.4126613654,
          244422.83691734786,
          244701.78351075275,
          244983.23006344945,
          245267.15508031746,
          245553.53794924478,
          245842.35816964315,
          246133.59326943386,
          246427.22132205128,
          246723.2214946253,
          247021.57404350434,
          247322.26028697754,
          247625.26003675163,
          247930.5517484626,
          248238.11535478625,
          248547.931919563,
          248859.9836006239,
          249174.25141068484,
          249490.71541081005,
          249809.3567528428,
          250130.15741717466,
          250453.10020642323,
          250778.1674746289,
          251105.3405377369,
          251434.60149216477,
          251765.93318730214,
          252099.31922550825,
          252434.74371280844,
          252772.1893001049,
          253111.6385265797,
          253453.0748648201,
          253796.48270746792,
          254141.8473672254,
          254489.153927401,
          254838.38537834532,
          255189.5258610675,
          255542.56049617578,
          255897.47536946196,
          256254.25651573023,
          256612.8883063973,
          256973.35600066223,
          257335.64558663085,
          257699.74377262528,
          258065.63750156894,
          258433.31240707185,
          258802.7545450078,
          259173.9506495705,
          259546.8881185891,
          259921.5549777946,
          260297.9384886786,
          260676.02506114976,
          261055.80187329423,
          261437.25691842617,
          261820.3790050813,
          262205.1573855676,
          262591.5792897797,
          262979.63230463344,
          263369.30498341966,
          263760.5867356219,
          264153.4675064191,
          264547.9356249461,
          264943.979664725,
          265341.5889336866,
          265740.75338534993,
          266141.46349708503,
          266543.70873080817,
          266947.47833455354,
          267352.76220410323,
          267759.55083673017,
          268167.83533120475,
          268577.60670562607,
          268988.8546309351,
          269401.5692502389,
          269815.74145165813,
          270231.36286793416,
          270648.4258185536,
          271066.92127561866,
          271486.83953424665,
          271908.171872226,
          272330.9103522547,
          272755.04777711007,
          273180.57594681194,
          273607.4860194394,
          274035.7699151016,
          274465.4201519159,
          274896.42984010105,
          275328.79166254494,
          275762.4974128522,
          276197.5394535622,
          276633.9107100887,
          277071.6046707161,
          277510.6151627892,
          277950.9347188282,
          278392.55575933814,
          278835.4714179427,
          279279.6755289601,
          279725.16262740066,
          280171.92684988724,
          280619.9606661241,
          281069.2574495195,
          281519.811317473,
          281971.6171282575,
          282424.66959505866,
          282878.9619588977,
          283334.48814346455,
          283791.2426480291,
          284249.22054224485,
          284708.41705490724,
          285168.8261479289,
          285630.44205855374,
          286093.25957980374,
          286557.27404601534,
          287022.4812993453,
          287488.87639235816,
          287956.453530741,
          288425.20755991637,
          288895.1340008918,
          289366.2290502661,
          289838.4891869772,
          290311.9089747654,
          290786.48330043367,
          291262.2078463959,
          291739.0790119134,
          292217.0936290402,
          292696.24695797334,
          293176.53436999646,
          293657.95187505835,
          294140.496041733,
          294624.1639032766,
          295108.9514750888,
          295594.8543906975,
          296081.868862294,
          296569.99163593,
          297059.21999150875,
          297549.55109810876,
          298040.98069558886,
          298533.50491301244,
          299027.1205465482,
          299521.8250582317,
          300017.616511314,
          300514.4915786045,
          301012.4462398652,
          301511.47735224385,
          302011.5824804696,
          302512.7598653514,
          303015.0067706592,
          303518.31963650166,
          304022.6956120876,
          304528.1324038506,
          305034.6282745553,
          305542.1811163924,
          306050.7876951965,
          306560.4452899655,
          307071.15171486925,
          307582.90531925764,
          308095.70479304204,
          308609.54745699605,
          309124.430374741,
          309640.35129258723,
          310157.30862235045,
          310675.30144134787,
          311194.32861702517,
          311714.3869660737,
          312235.47380587034,
          312757.5873772509,
          313280.72684275586,
          313804.8921684624,
          314330.0810956429,
          314856.29073917476,
          315383.5194154213,
          315911.7662653354,
          316441.0309439939,
          316971.3113853562,
          317502.6056956173,
          318034.9125668321,
          318568.2311598886,
          319102.56087949616,
          319637.90010581847,
          320174.2472342368,
          320711.6010806711,
          321249.96086201374,
          321789.3261955053,
          322329.6964848775,
          322871.0698863592,
          323413.4448694272,
          323956.8205330292,
          324501.1966055803,
          325046.5734440374,
          325592.95044270717,
          326140.32546652446,
          326688.69744475785,
          327238.06606227614,
          327788.4317304476,
          328339.79387447046,
          328892.1510789281,
          329445.5026158677,
          329999.8482428197,
          330555.18819302425,
          331111.52220010816,
          331668.84913658357,
          332227.16831496684,
          332786.47950485983,
          333346.78293295886,
          333908.07915389107,
          334470.36749669496,
          335033.64675477525,
          335597.9163988851,
          336163.1765964258,
          336729.4282114373,
          337296.6722266234,
          337864.90720590483,
          338434.13232083997,
          339004.34761498513,
          339575.55391209736,
          340147.75210486585,
          340720.9412740081,
          341295.12106947426,
          341870.29167557816,
          342446.4537817348,
          343023.60821502976,
          343601.7545250409,
          344180.8924029352,
          344761.02202275244,
          345342.1440280022,
          345924.2595236752,
          346507.3690610331,
          347091.471890266,
          347676.5677705277,
          348262.65716256783,
          348849.741228742,
          349437.821736212,
          350026.8985719285,
          350616.9709616853,
          351208.03917260206,
          351800.10426203744,
          352393.1679294245,
          352987.23029488086,
          353582.2911376838,
          354178.3509233478,
          354775.41064487136,
          355373.4717655799,
          355972.5348247661,
          356572.5997283677,
          357173.6669062623,
          357775.73728340573,
          358378.81227982807,
          358982.8934478512,
          359587.9807238698,
          360194.0739993171,
          360801.1738928032,
          361409.2817469281,
          362018.3996282771,
          362628.52897446835,
          363239.6690684493,
          363851.82026934007,
          364464.98375037435,
          365079.1614936967,
          365694.35494174034,
          366310.56394723116,
          366927.78913652274,
          367546.0316876785,
          368165.2933304652,
          368785.5756495844,
          369406.8788335621,
          370029.2034543136,
          370652.550605081,
          371276.9218986278,
          371902.319405585,
          372528.74408373504,
          373156.19591634546,
          373784.675576959,
          374414.1844844017,
          375044.72480279225,
          375676.29901501583,
          376308.9070852285,
          376942.5492449415,
          377577.2266861989,
          378212.9414299129,
          378849.6958970145,
          379487.49046420463,
          380126.3257312621,
          380766.20296342036,
          381407.1240034923,
          382049.09109302884,
          382692.1051068153,
          383336.1666251994,
          383981.27681477636,
          384627.4373882998,
          385274.6506046709,
          385922.91847135976,
          386572.2412396883,
          387222.619548084,
          387874.05480431736,
          388526.54918539687,
          389180.10559633886,
          389834.72526977066,
          390490.4082082209,
          391147.1555397753,
          391804.96924365463,
          392463.8521054511,
          393123.8055923674,
          393784.8301552725,
          394446.92706388247,
          395110.09819257533,
          395774.346014026,
          396439.6723789628,
          397106.07789112563,
          397773.56371337693,
          398442.1315807248,
          399111.7838003332,
          399782.52303221036,
          400454.3502617084,
          401127.26601640595,
          401801.2716209719,
          402476.3691931828,
          403152.5616439178,
          403829.85159713356,
          404508.2390646093,
          405187.72501274414,
          405868.31131095445,
          406550.00070290954,
          407232.7958710468,
          407916.69730604516,
          408601.7061897687,
          409287.82435982174,
          409975.0542863833,
          410663.3986517133,
          411352.85841317876,
          412043.43463241047,
          412735.1289989727,
          413427.9438037773,
          414121.88192435505,
          414816.9453968399,
          415513.1347233139,
          416210.4510801122,
          416908.8964623699,
          417608.4736840174,
          418309.18611446244,
          419011.03461427963,
          419714.0197929428,
          420418.1433484312,
          421123.40787755087,
          421829.81666889857,
          422537.371008473,
          423246.07181097346,
          423955.9208164046,
          424666.9204253484,
          425379.0736432321,
          426092.3823137728,
          426806.8473490461,
          427522.47033643484,
          428239.25349171576,
          428957.1996590711,
          429676.3117908874,
          430396.59077765455,
          431118.0375840499,
          431840.6540273361,
          432564.44276738475,
          433289.4073042161,
          434015.54994895915,
          434742.8709786212,
          435471.3718652434,
          436201.0550035333,
          436931.92371075496,
          437663.9805854164,
          438397.22630675783,
          439131.6624649792,
          439867.2913376288,
          440604.1158895888,
          441342.13900131633,
          442081.3616691579,
          442821.7853220407,
          443563.4120502616,
          444306.24459720607,
          445050.28628277767,
          445795.539015331,
          446542.0035529756,
          447289.6814860178,
          448038.5752679198,
          448788.68821531045,
          449540.0238807151,
          450292.5828991458,
          451046.36636239174,
          451801.3764098268,
          452557.61612505617,
          453315.0890941288,
          454073.79647865286,
          454833.7395598022,
          455594.9204432179,
          456357.34194553405,
          457121.00745831453,
          457885.9188022989,
          458652.0771583484,
          459419.4844476672,
          460188.1432642333,
          460958.0568747937,
          461729.2283869744,
          462501.6587239734,
          463275.3492025724,
          464050.3020201852,
          464826.52025129105,
          465604.00780813134,
          466382.76681523555,
          467162.7978734704,
          467944.10281301447,
          468726.6844247183,
          469510.5464504046,
          470295.6915079166,
          471082.12051170453,
          471869.8353505146,
          472658.83864162036,
          473449.1337308179,
          474240.7237261127,
          475033.60978257726,
          475827.7936132504,
          476623.27761858096,
          477420.06488251704,
          478218.1590645074,
          479017.5622160057,
          479818.2753569728,
          480620.3003829349,
          481423.6400688409,
          482228.2980690747,
          483034.27820746315,
          483841.5813129864,
          484650.20876108523,
          485460.1629850043,
          486271.44738583214,
          487084.0679515135,
          487898.0424941111,
          488713.39108182135,
          489530.1372185284,
          490348.30857845553,
          491167.93793126434,
          491989.0707049261,
          492811.75906238443,
          493636.08608133026,
          494462.1706970689,
          495290.16770250566,
          496120.2896175688,
          496952.80525029724,
          497788.07085868245,
          498626.62487624504,
          499469.18974381924,
          500316.67193098454,
          501170.2260108672,
          502031.43549198884,
          502902.2449781933,
          503784.9374027699,
          504682.13402846723,
          505596.77432712365,
          506531.71495916997,
          507489.5370916053,
          508471.9262611647,
          509479.52096635173,
          510511.92716443946,
          511567.66815830825,
          512644.2641019744,
          513739.09015217633,
          514849.4793443009,
          515972.7370603059,
          517106.5269897811,
          518249.0130655914,
          519398.6596762259,
          520554.23643332196,
          521714.8181716567,
          522879.7507238374,
          524048.5142876944,
          525220.7463820914,
          526396.1619828624,
          527574.5473963997,
          528755.7602596462,
          529939.7184360718,
          531126.3474329428,
          532315.600157506,
          533507.4449510426,
          534701.8637898586,
          535898.8533649492,
          537098.4097754622,
          538300.5159216446,
          539505.1666687476,
          540712.3704748899,
          541922.1482799558,
          543134.51493429,
          544349.4819076716,
          545567.0619326658,
          546787.2676245,
          548010.1114810854,
          549235.6054021621,
          550463.7586270438,
          551694.5791538507,
          552928.0729677392,
          554164.2439261437,
          555403.0937587534,
          556644.6216082956,
          557888.8184772158,
          559135.6692240654,
          560385.1541708214,
          561637.2488152251,
          562891.9242551955,
          564149.1476985771,
          565408.8849388673,
          566671.1162562262,
          567935.8382148602,
          569203.0635338861,
          570472.8222248041,
          571745.1699433089,
          573020.1689333768,
          574297.8832663698,
          575578.378841056,
          576861.7220497068,
          578147.9661074956,
          579437.1545668149,
          580729.325884125,
          582024.5131393335,
          583322.7440357856,
          584624.0410238843,
          585928.422135144,
          587235.9025691838,
          588546.4968084581,
          589860.2187804043,
          591177.0818059702,
          592497.0968641111,
          593820.2734069675,
          595146.62137552,
          596476.1511361137,
          597808.8734804511,
          599144.8007175912,
          600483.9385797594,
          601826.2866255989,
          603171.8448230521,
          604520.6135868498,
          605872.5933971759,
          607227.7779948253,
          608586.1573337034,
          609947.711849076,
          611312.4100925474,
          612680.2087320817,
          614051.0472776481,
          615424.8358697585,
          616801.4539152571,
          618180.7197912481,
          619562.389048083,
          620946.1454945266,
          622331.5560421674,
          623718.0576981542,
          625104.908116517,
          626491.1813594146,
          627875.7841784762,
          629257.448420599,
          630634.6538312878,
          632006.065037729,
          633370.5849427276,
          634727.3547246825,
          636075.8820297841,
          637416.5179048885,
          638750.028703298,
          640077.4200791841,
          641399.9369828273,
          642719.0276941806,
          644035.9520842708,
          645351.7874553272,
          646667.4571477288,
          647983.7141283654,
          649301.1410004902,
          650620.1814650613,
          651941.1681168816,
          653264.3531593701,
          654589.9369491729,
          655918.0679961857,
          657248.8460227642,
          658582.3477962916,
          659918.6303125559,
          661257.7388311506,
          662599.7084254632,
          663944.5635832469,
          665292.3235820815,
          666643.0052206266,
          667996.6184438241,
          669353.1662422997,
          670712.6441172839,
          672075.0439052844,
          673440.3527187428,
          674808.5496458035,
          676179.6057367296,
          677553.481548278,
          678930.1176841317,
          680309.4437930676,
          681691.3446853363,
          683075.6557678682,
          684462.1630442638,
          685850.5855422853,
          687240.5319609579,
          688631.4833061087,
          690022.7160465581,
          691413.2986466783,
          692802.0820767207,
          694187.5435911111,
          695567.8581712971,
          696941.0115069635,
          698304.8010910626,
          699656.9616713929,
          700995.5617016862,
          702319.2420730046,
          703627.496545715,
          704920.6782197381,
          706199.9746268389,
          707467.1607789196,
          708724.4562286937,
          709973.9892246772,
          711217.7138850421,
          712457.410197608,
          713694.6308325895,
          714930.5220021239,
          716165.9968939318,
          717401.7920871663,
          718638.4673375309,
          719876.4099771472,
          721115.9140439854,
          722357.1982940191,
          723600.4291789498,
          724845.7317453584,
          726093.1911454019,
          727342.8693321286,
          728594.8108235212,
          729849.050251681,
          731105.6138415727,
          732364.5182431793,
          733625.7755028572,
          734889.4121614303,
          736155.4495894369,
          737423.9014102749,
          738694.7735081142,
          739968.0732655927,
          741243.8135870388,
          742522.0125545741,
          743802.6994227266,
          745085.9146184504,
          746371.7104465953,
          747660.1576628089,
          748951.3448242595,
          750245.405645996,
          751542.5242365736,
          752842.9366520348,
          754146.9564639212,
          755454.9891131186,
          756767.564826199,
          758085.3455696314,
          759409.120813383,
          760739.7658136329,
          762078.3484914869,
          763425.8124328468,
          764782.892898075,
          766150.11682197,
          767527.760691185,
          768915.5062027366,
          770312.6669944018,
          771718.4133683877,
          773131.7741573546,
          774551.6440426646,
          775977.0144649466,
          777407.0609027055,
          778841.0740088541,
          780278.4771624074,
          781718.8264685053,
          783161.793885837,
          784607.1219167294,
          786054.6241117729,
          787504.1552068284,
          788955.6101457071,
          790408.9232026398,
          791864.0437526444,
          793320.9330630635,
          794779.5654148597,
          796239.924455609,
          797702.0023209272,
          799165.7923505614,
          800631.2925846003,
          802098.5009549719,
          803567.4141035785,
          805038.0283475653,
          806510.3470755819,
          807984.3738492192,
          809460.110860143,
          810937.5593947627,
          812416.719834221,
          813897.588862025,
          815380.1593911061,
          816864.4193084508,
          818350.3481865372,
          819837.917283264,
          821327.0894905013,
          822817.8089312572,
          824309.9983957971,
          825803.552035994,
          827298.3280132541,
          828794.1486435253,
          830290.7942850443,
          831787.9730939337,
          833285.3659782262,
          834782.6400917795,
          836279.4489033141,
          837775.4718294374,
          839270.4940029586,
          840764.4155560633,
          842257.2595791293,
          843749.172120718,
          845240.4117287489,
          846731.2725238786,
          848222.0666429766,
          849713.0781352546,
          851204.5570934571,
          852696.7196538865,
          854189.7454654436,
          855683.7653670823,
          857178.881885937,
          858675.1796164328,
          860172.7252494057,
          861671.5676491056,
          863171.7420898718,
          864673.2755934893,
          866176.1909326741,
          867680.5078637925,
          869186.2430011531,
          870693.4082349485,
          872202.0133515507,
          873712.0679710709,
          875223.5814824451,
          876736.5629285161,
          878251.0188316049,
          879766.9533763577,
          881284.3703457678,
          882803.2731860338,
          884323.6650065299,
          885845.5470289497,
          887368.9172786524,
          888893.7712781621,
          890420.0998342454,
          891947.8890176133,
          893477.1201629434,
          895007.7646785534,
          896539.7783875604,
          898073.100973418,
          899607.6468697839,
          901143.3051578511,
          902679.9317208494,
          904217.3306025891,
          905755.2587147051,
          907293.42566362,
          908831.4937505085,
          910369.1009099107,
          911905.8582353875,
          913441.4275753337,
          914975.587154657,
          916508.2316983496,
          918039.3707463071,
          919569.1459228267,
          921097.8380004459,
          922625.742365232,
          924153.153169741,
          925680.3633330042,
          927207.6559037621,
          928735.2444723927,
          930263.301210908,
          931791.9692463308,
          933321.3613929412,
          934851.5614571621,
          936382.6331188097,
          937914.6244203317,
          939447.5751010111,
          940981.5172862303,
          942516.475655819,
          944052.4693340472,
          945589.513319472,
          947127.621322946,
          948666.8061826021,
          950207.0798638423,
          951748.4552689871,
          953290.937874057,
          954834.5244591946,
          956379.2115440697,
          957924.9954639676,
          959471.8722582575,
          961019.8301292893,
          962568.8502260038,
          964118.9029600843,
          965669.9441374908,
          967221.9147072037,
          968774.7259653246,
          970328.2659271577,
          971882.365871379,
          973436.784947518,
          974991.2101748334,
          976545.2195608986,
          978098.2605455569,
          979649.5960201231,
          981198.2582311988,
          982743.0487806987,
          984282.5672452562,
          985815.1558308093,
          987338.853333552,
          988851.9495921027,
          990353.032559474,
          991840.9883030463,
          993315.1964987046,
          994776.0590295634,
          996224.4983114854,
          997661.8170289929,
          999089.6931352474,
          1000509.8843596437,
          1001923.969783238,
          1003333.3464493429,
          1004739.1859464005,
          1006142.4364301584,
          1007543.8473575212,
          1008943.979569101,
          1010343.2831702695,
          1011742.1124388388,
          1013140.725844598,
          1014539.3151377888,
          1015938.0368274956,
          1017337.0140043978,
          1018736.3509012582,
          1020136.1328928975,
          1021536.4284923433,
          1022937.2978928463,
          1024338.7948335147,
          1025740.9696686564,
          1027143.8689768655,
          1028547.5026595118,
          1029951.8624726117,
          1031356.9399005837,
          1032762.715232428,
          1034169.1551007347,
          1035576.2097571171,
          1036983.801004984,
          1038391.797360724,
          1039799.9783700358,
          1041208.0195050645,
          1042615.4387187194,
          1044021.5832114592,
          1045425.5795594027,
          1046826.2379641826,
          1048221.9625038058,
          1049610.6622856143,
          1050989.5859846848,
          1052355.1826067914,
          1053703.09703843,
          1055027.9122812112,
          1056323.5391293247,
          1057583.4991341028,
          1058801.1878550677,
          1059970.8791310878,
          1061088.649325385,
          1062153.022015046,
          1063165.0153983873,
          1064128.1662315563,
          1065047.6931483792,
          1065929.8053655091,
          1066780.8312370994,
          1067606.669531573,
          1068412.4891814583,
          1069202.5831219633,
          1069980.3961207408,
          1070748.6186502976,
          1071509.320410048,
          1072264.0539654305,
          1073013.9804523163,
          1073759.9573339566,
          1074502.6065001818,
          1075242.3865133396,
          1075979.6279093446,
          1076714.5648120567,
          1077447.3641593426,
          1078178.1377851984,
          1078906.9498084167,
          1079633.84456211,
          1080358.8554619234,
          1081082.00855537,
          1081803.3457329927,
          1082522.8946621027,
          1083240.63988495,
          1083956.5696164907,
          1084670.6675074724,
          1085382.919715007,
          1086093.311031066,
          1086801.8105916863,
          1087508.3629949824,
          1088212.8849878502,
          1088915.2566796045,
          1089615.3167750821,
          1090312.8474116412,
          1091007.5557009792,
          1091699.0543039562,
          1092386.8313197184,
          1093070.2167676669,
          1093748.3604692174,
          1094420.2020294522,
          1095084.4688626828,
          1095739.6970381225,
          1096384.3014107249,
          1097016.750323389,
          1097635.6873014807,
          1098240.1701187708,
          1098829.8343352932,
          1099404.929160233,
          1099966.2899824202,
          1100515.1579836276,
          1101053.0222580307,
          1101581.4109112793,
          1102101.718524174,
          1102615.1646582491,
          1103122.7639390642,
          1103625.334905167,
          1104123.513084101,
          1104617.7814076,
          1105108.507212629,
          1105595.9571625092,
          1106080.3107830817,
          1106561.7088837496,
          1107040.2693046595,
          1107516.0857411963,
          1107989.2238511401,
          1108459.7282191503,
          1108927.6323666952,
          1109392.9644797407,
          1109855.7462181146,
          1110315.9975544217,
          1110773.7470196611,
          1111229.0318504751,
          1111681.8664802348,
          1112132.2486732588,
          1112580.1843331922,
          1113025.6842883863,
          1113468.763992229,
          1113909.444915789,
          1114347.7535864986,
          1114783.7232262373,
          1115217.3987315833,
          1115648.8409435896,
          1116078.1342653146,
          1116505.3922158584,
          1116930.7639759753,
          1117354.4506267612,
          1117776.715782074,
          1118197.9010330967,
          1118618.4490225494,
          1119038.9142335586,
          1119459.9646946522,
          1119882.3667561503,
          1120306.9399245142,
          1120734.4925565652,
          1121165.727274846,
          1121601.123661423,
          1122040.8620085032,
          1122484.7859924138,
          1122932.4310656344,
          1123383.1017694387,
          1123835.9994019803,
          1124290.3054492434,
          1124745.2640211128,
          1125200.2175708027,
          1125654.6166097492,
          1126108.0179763585,
          1126560.0748357275,
          1127010.5190287079,
          1127459.1461933383,
          1127905.796618244,
          1128350.32961922,
          1128792.641654392,
          1129232.6884220284,
          1129670.4522187489,
          1130105.912890029,
          1130539.0517448809,
          1130969.8570310401,
          1131398.3216516145,
          1131824.4435252799,
          1132248.2259626586,
          1132669.6797202856,
          1133088.8186310288,
          1133505.6323200108,
          1133920.1124207452,
          1134332.262617647,
          1134742.093438562,
          1135149.6195979447,
          1135554.8608187623,
          1135957.8427442196,
          1136358.5983267059,
          1136757.170138185,
          1137153.6145150026,
          1137548.0065167262,
          1137940.4448699807,
          1138331.0566847087,
          1138720.0151069516,
          1139107.5504690192,
          1139493.9489406422,
          1139879.5855651123,
          1140264.9469576278,
          1140650.58845303,
          1141037.1316385996,
          1141425.2643540546,
          1141815.702065088,
          1142209.022551663,
          1142605.6187837461,
          1143005.637692738,
          1143408.9356474872,
          1143815.1228155321,
          1144223.6180593923,
          1144633.7524697303,
          1145044.8495725808,
          1145456.2572454496,
          1145867.4053025811,
          1146277.8241675133,
          1146687.140567906,
          1147095.0653450615,
          1147501.3771469148,
          1147905.9098013397,
          1148308.5362898826,
          1148709.1536879777,
          1149107.6834636354,
          1149504.084733529,
          1149898.3337542242,
          1150290.4116927045,
          1150680.3052667528,
          1151068.0066562302,
          1151453.513255951,
          1151836.8258726462,
          1152217.9469203686,
          1152596.8809054536,
          1152973.6275284789,
          1153348.1901860521,
          1153720.5772859156,
          1154090.7951229187,
          1154458.8455309218,
          1154824.72815395,
          1155188.439533583,
          1155549.9721265784,
          1155909.3200584706,
          1156266.476680426,
          1156621.4330051278,
          1156974.1719210579,
          1157324.6692845814,
          1157672.8899294473,
          1158018.783283339,
          1158362.2836479254,
          1158703.302015012,
          1159041.719019582,
          1159377.3779422804,
          1159710.086286071,
          1160039.6173809248,
          1160365.7285607618,
          1160688.1787577032,
          1161006.7598150324,
          1161321.3318090306,
          1161631.8435656093,
          1161938.3453476268,
          1162240.9806775823,
          1162539.9629349823,
          1162835.5376330889,
          1163127.9587151373,
          1163417.4641162474,
          1163704.2619493627,
          1163988.5272338586,
          1164270.4008403013,
          1164549.9945935137,
          1164827.395915728,
          1165102.6704249666,
          1165375.871078376,
          1165647.039415467,
          1165916.207749655,
          1166183.402885945,
          1166448.646675291,
          1166711.9570921264,
          1166973.3505629292,
          1167232.8430719292,
          1167490.450772105,
          1167746.1886772995,
          1168000.068413478,
          1168252.1007137157,
          1168502.2963007898,
          1168750.665948291,
          1168997.2186807636,
          1169241.9621888397,
          1169484.9037776345,
          1169726.0501255973,
          1169965.4055441243,
          1170202.9756270219,
          1170438.766561624,
          1170672.7855849753,
          1170905.04037492,
          1171135.5404162167,
          1171364.2949948097,
          1171591.3121751463,
          1171816.600240857,
          1172040.1664985649,
          1172262.0180244774,
          1172482.1615654,
          1172700.6044579216,
          1172917.3537522757,
          1173132.416345836,
          1173345.799338356,
          1173557.509493977,
          1173767.5533824065,
          1173975.93847738
         ],
         "yaxis": "y"
        },
        {
         "hovertemplate": "year=%{x}<br>population=%{y}<extra></extra>",
         "legendgroup": "",
         "marker": {
          "color": "red",
          "symbol": "circle"
         },
         "mode": "markers",
         "name": "",
         "orientation": "v",
         "showlegend": false,
         "type": "scatter",
         "x": [
          1995,
          1996,
          1997,
          1998,
          1999,
          2000,
          2001,
          2002,
          2003,
          2004,
          2005,
          2006,
          2007,
          2008,
          2009,
          2010,
          2011,
          2012,
          2013,
          2014,
          2015,
          2016,
          2017,
          2018,
          2019
         ],
         "xaxis": "x",
         "y": [
          1041800,
          1061600,
          1081100,
          1101800,
          1123500,
          1133900,
          1145200,
          1155300,
          1164500,
          1174400,
          1182900,
          1188700,
          1195200,
          1201700,
          1207100,
          1205840,
          1204500,
          1203460,
          1202070,
          1200740,
          1199500,
          1198100,
          1197000,
          1195600,
          1194300
         ],
         "yaxis": "y"
        }
       ],
       "layout": {
        "template": {
         "data": {
          "bar": [
           {
            "error_x": {
             "color": "#2a3f5f"
            },
            "error_y": {
             "color": "#2a3f5f"
            },
            "marker": {
             "line": {
              "color": "#E5ECF6",
              "width": 0.5
             },
             "pattern": {
              "fillmode": "overlay",
              "size": 10,
              "solidity": 0.2
             }
            },
            "type": "bar"
           }
          ],
          "barpolar": [
           {
            "marker": {
             "line": {
              "color": "#E5ECF6",
              "width": 0.5
             },
             "pattern": {
              "fillmode": "overlay",
              "size": 10,
              "solidity": 0.2
             }
            },
            "type": "barpolar"
           }
          ],
          "carpet": [
           {
            "aaxis": {
             "endlinecolor": "#2a3f5f",
             "gridcolor": "white",
             "linecolor": "white",
             "minorgridcolor": "white",
             "startlinecolor": "#2a3f5f"
            },
            "baxis": {
             "endlinecolor": "#2a3f5f",
             "gridcolor": "white",
             "linecolor": "white",
             "minorgridcolor": "white",
             "startlinecolor": "#2a3f5f"
            },
            "type": "carpet"
           }
          ],
          "choropleth": [
           {
            "colorbar": {
             "outlinewidth": 0,
             "ticks": ""
            },
            "type": "choropleth"
           }
          ],
          "contour": [
           {
            "colorbar": {
             "outlinewidth": 0,
             "ticks": ""
            },
            "colorscale": [
             [
              0,
              "#0d0887"
             ],
             [
              0.1111111111111111,
              "#46039f"
             ],
             [
              0.2222222222222222,
              "#7201a8"
             ],
             [
              0.3333333333333333,
              "#9c179e"
             ],
             [
              0.4444444444444444,
              "#bd3786"
             ],
             [
              0.5555555555555556,
              "#d8576b"
             ],
             [
              0.6666666666666666,
              "#ed7953"
             ],
             [
              0.7777777777777778,
              "#fb9f3a"
             ],
             [
              0.8888888888888888,
              "#fdca26"
             ],
             [
              1,
              "#f0f921"
             ]
            ],
            "type": "contour"
           }
          ],
          "contourcarpet": [
           {
            "colorbar": {
             "outlinewidth": 0,
             "ticks": ""
            },
            "type": "contourcarpet"
           }
          ],
          "heatmap": [
           {
            "colorbar": {
             "outlinewidth": 0,
             "ticks": ""
            },
            "colorscale": [
             [
              0,
              "#0d0887"
             ],
             [
              0.1111111111111111,
              "#46039f"
             ],
             [
              0.2222222222222222,
              "#7201a8"
             ],
             [
              0.3333333333333333,
              "#9c179e"
             ],
             [
              0.4444444444444444,
              "#bd3786"
             ],
             [
              0.5555555555555556,
              "#d8576b"
             ],
             [
              0.6666666666666666,
              "#ed7953"
             ],
             [
              0.7777777777777778,
              "#fb9f3a"
             ],
             [
              0.8888888888888888,
              "#fdca26"
             ],
             [
              1,
              "#f0f921"
             ]
            ],
            "type": "heatmap"
           }
          ],
          "heatmapgl": [
           {
            "colorbar": {
             "outlinewidth": 0,
             "ticks": ""
            },
            "colorscale": [
             [
              0,
              "#0d0887"
             ],
             [
              0.1111111111111111,
              "#46039f"
             ],
             [
              0.2222222222222222,
              "#7201a8"
             ],
             [
              0.3333333333333333,
              "#9c179e"
             ],
             [
              0.4444444444444444,
              "#bd3786"
             ],
             [
              0.5555555555555556,
              "#d8576b"
             ],
             [
              0.6666666666666666,
              "#ed7953"
             ],
             [
              0.7777777777777778,
              "#fb9f3a"
             ],
             [
              0.8888888888888888,
              "#fdca26"
             ],
             [
              1,
              "#f0f921"
             ]
            ],
            "type": "heatmapgl"
           }
          ],
          "histogram": [
           {
            "marker": {
             "pattern": {
              "fillmode": "overlay",
              "size": 10,
              "solidity": 0.2
             }
            },
            "type": "histogram"
           }
          ],
          "histogram2d": [
           {
            "colorbar": {
             "outlinewidth": 0,
             "ticks": ""
            },
            "colorscale": [
             [
              0,
              "#0d0887"
             ],
             [
              0.1111111111111111,
              "#46039f"
             ],
             [
              0.2222222222222222,
              "#7201a8"
             ],
             [
              0.3333333333333333,
              "#9c179e"
             ],
             [
              0.4444444444444444,
              "#bd3786"
             ],
             [
              0.5555555555555556,
              "#d8576b"
             ],
             [
              0.6666666666666666,
              "#ed7953"
             ],
             [
              0.7777777777777778,
              "#fb9f3a"
             ],
             [
              0.8888888888888888,
              "#fdca26"
             ],
             [
              1,
              "#f0f921"
             ]
            ],
            "type": "histogram2d"
           }
          ],
          "histogram2dcontour": [
           {
            "colorbar": {
             "outlinewidth": 0,
             "ticks": ""
            },
            "colorscale": [
             [
              0,
              "#0d0887"
             ],
             [
              0.1111111111111111,
              "#46039f"
             ],
             [
              0.2222222222222222,
              "#7201a8"
             ],
             [
              0.3333333333333333,
              "#9c179e"
             ],
             [
              0.4444444444444444,
              "#bd3786"
             ],
             [
              0.5555555555555556,
              "#d8576b"
             ],
             [
              0.6666666666666666,
              "#ed7953"
             ],
             [
              0.7777777777777778,
              "#fb9f3a"
             ],
             [
              0.8888888888888888,
              "#fdca26"
             ],
             [
              1,
              "#f0f921"
             ]
            ],
            "type": "histogram2dcontour"
           }
          ],
          "mesh3d": [
           {
            "colorbar": {
             "outlinewidth": 0,
             "ticks": ""
            },
            "type": "mesh3d"
           }
          ],
          "parcoords": [
           {
            "line": {
             "colorbar": {
              "outlinewidth": 0,
              "ticks": ""
             }
            },
            "type": "parcoords"
           }
          ],
          "pie": [
           {
            "automargin": true,
            "type": "pie"
           }
          ],
          "scatter": [
           {
            "fillpattern": {
             "fillmode": "overlay",
             "size": 10,
             "solidity": 0.2
            },
            "type": "scatter"
           }
          ],
          "scatter3d": [
           {
            "line": {
             "colorbar": {
              "outlinewidth": 0,
              "ticks": ""
             }
            },
            "marker": {
             "colorbar": {
              "outlinewidth": 0,
              "ticks": ""
             }
            },
            "type": "scatter3d"
           }
          ],
          "scattercarpet": [
           {
            "marker": {
             "colorbar": {
              "outlinewidth": 0,
              "ticks": ""
             }
            },
            "type": "scattercarpet"
           }
          ],
          "scattergeo": [
           {
            "marker": {
             "colorbar": {
              "outlinewidth": 0,
              "ticks": ""
             }
            },
            "type": "scattergeo"
           }
          ],
          "scattergl": [
           {
            "marker": {
             "colorbar": {
              "outlinewidth": 0,
              "ticks": ""
             }
            },
            "type": "scattergl"
           }
          ],
          "scattermapbox": [
           {
            "marker": {
             "colorbar": {
              "outlinewidth": 0,
              "ticks": ""
             }
            },
            "type": "scattermapbox"
           }
          ],
          "scatterpolar": [
           {
            "marker": {
             "colorbar": {
              "outlinewidth": 0,
              "ticks": ""
             }
            },
            "type": "scatterpolar"
           }
          ],
          "scatterpolargl": [
           {
            "marker": {
             "colorbar": {
              "outlinewidth": 0,
              "ticks": ""
             }
            },
            "type": "scatterpolargl"
           }
          ],
          "scatterternary": [
           {
            "marker": {
             "colorbar": {
              "outlinewidth": 0,
              "ticks": ""
             }
            },
            "type": "scatterternary"
           }
          ],
          "surface": [
           {
            "colorbar": {
             "outlinewidth": 0,
             "ticks": ""
            },
            "colorscale": [
             [
              0,
              "#0d0887"
             ],
             [
              0.1111111111111111,
              "#46039f"
             ],
             [
              0.2222222222222222,
              "#7201a8"
             ],
             [
              0.3333333333333333,
              "#9c179e"
             ],
             [
              0.4444444444444444,
              "#bd3786"
             ],
             [
              0.5555555555555556,
              "#d8576b"
             ],
             [
              0.6666666666666666,
              "#ed7953"
             ],
             [
              0.7777777777777778,
              "#fb9f3a"
             ],
             [
              0.8888888888888888,
              "#fdca26"
             ],
             [
              1,
              "#f0f921"
             ]
            ],
            "type": "surface"
           }
          ],
          "table": [
           {
            "cells": {
             "fill": {
              "color": "#EBF0F8"
             },
             "line": {
              "color": "white"
             }
            },
            "header": {
             "fill": {
              "color": "#C8D4E3"
             },
             "line": {
              "color": "white"
             }
            },
            "type": "table"
           }
          ]
         },
         "layout": {
          "annotationdefaults": {
           "arrowcolor": "#2a3f5f",
           "arrowhead": 0,
           "arrowwidth": 1
          },
          "autotypenumbers": "strict",
          "coloraxis": {
           "colorbar": {
            "outlinewidth": 0,
            "ticks": ""
           }
          },
          "colorscale": {
           "diverging": [
            [
             0,
             "#8e0152"
            ],
            [
             0.1,
             "#c51b7d"
            ],
            [
             0.2,
             "#de77ae"
            ],
            [
             0.3,
             "#f1b6da"
            ],
            [
             0.4,
             "#fde0ef"
            ],
            [
             0.5,
             "#f7f7f7"
            ],
            [
             0.6,
             "#e6f5d0"
            ],
            [
             0.7,
             "#b8e186"
            ],
            [
             0.8,
             "#7fbc41"
            ],
            [
             0.9,
             "#4d9221"
            ],
            [
             1,
             "#276419"
            ]
           ],
           "sequential": [
            [
             0,
             "#0d0887"
            ],
            [
             0.1111111111111111,
             "#46039f"
            ],
            [
             0.2222222222222222,
             "#7201a8"
            ],
            [
             0.3333333333333333,
             "#9c179e"
            ],
            [
             0.4444444444444444,
             "#bd3786"
            ],
            [
             0.5555555555555556,
             "#d8576b"
            ],
            [
             0.6666666666666666,
             "#ed7953"
            ],
            [
             0.7777777777777778,
             "#fb9f3a"
            ],
            [
             0.8888888888888888,
             "#fdca26"
            ],
            [
             1,
             "#f0f921"
            ]
           ],
           "sequentialminus": [
            [
             0,
             "#0d0887"
            ],
            [
             0.1111111111111111,
             "#46039f"
            ],
            [
             0.2222222222222222,
             "#7201a8"
            ],
            [
             0.3333333333333333,
             "#9c179e"
            ],
            [
             0.4444444444444444,
             "#bd3786"
            ],
            [
             0.5555555555555556,
             "#d8576b"
            ],
            [
             0.6666666666666666,
             "#ed7953"
            ],
            [
             0.7777777777777778,
             "#fb9f3a"
            ],
            [
             0.8888888888888888,
             "#fdca26"
            ],
            [
             1,
             "#f0f921"
            ]
           ]
          },
          "colorway": [
           "#636efa",
           "#EF553B",
           "#00cc96",
           "#ab63fa",
           "#FFA15A",
           "#19d3f3",
           "#FF6692",
           "#B6E880",
           "#FF97FF",
           "#FECB52"
          ],
          "font": {
           "color": "#2a3f5f"
          },
          "geo": {
           "bgcolor": "white",
           "lakecolor": "white",
           "landcolor": "#E5ECF6",
           "showlakes": true,
           "showland": true,
           "subunitcolor": "white"
          },
          "hoverlabel": {
           "align": "left"
          },
          "hovermode": "closest",
          "mapbox": {
           "style": "light"
          },
          "paper_bgcolor": "white",
          "plot_bgcolor": "#E5ECF6",
          "polar": {
           "angularaxis": {
            "gridcolor": "white",
            "linecolor": "white",
            "ticks": ""
           },
           "bgcolor": "#E5ECF6",
           "radialaxis": {
            "gridcolor": "white",
            "linecolor": "white",
            "ticks": ""
           }
          },
          "scene": {
           "xaxis": {
            "backgroundcolor": "#E5ECF6",
            "gridcolor": "white",
            "gridwidth": 2,
            "linecolor": "white",
            "showbackground": true,
            "ticks": "",
            "zerolinecolor": "white"
           },
           "yaxis": {
            "backgroundcolor": "#E5ECF6",
            "gridcolor": "white",
            "gridwidth": 2,
            "linecolor": "white",
            "showbackground": true,
            "ticks": "",
            "zerolinecolor": "white"
           },
           "zaxis": {
            "backgroundcolor": "#E5ECF6",
            "gridcolor": "white",
            "gridwidth": 2,
            "linecolor": "white",
            "showbackground": true,
            "ticks": "",
            "zerolinecolor": "white"
           }
          },
          "shapedefaults": {
           "line": {
            "color": "#2a3f5f"
           }
          },
          "ternary": {
           "aaxis": {
            "gridcolor": "white",
            "linecolor": "white",
            "ticks": ""
           },
           "baxis": {
            "gridcolor": "white",
            "linecolor": "white",
            "ticks": ""
           },
           "bgcolor": "#E5ECF6",
           "caxis": {
            "gridcolor": "white",
            "linecolor": "white",
            "ticks": ""
           }
          },
          "title": {
           "x": 0.05
          },
          "xaxis": {
           "automargin": true,
           "gridcolor": "white",
           "linecolor": "white",
           "ticks": "",
           "title": {
            "standoff": 15
           },
           "zerolinecolor": "white",
           "zerolinewidth": 2
          },
          "yaxis": {
           "automargin": true,
           "gridcolor": "white",
           "linecolor": "white",
           "ticks": "",
           "title": {
            "standoff": 15
           },
           "zerolinecolor": "white",
           "zerolinewidth": 2
          }
         }
        },
        "title": {
         "text": "Modelled vs Data",
         "x": 0.5
        },
        "xaxis": {
         "title": {
          "text": "Year"
         }
        },
        "yaxis": {
         "title": {
          "text": "Population"
         }
        }
       }
      }
     },
     "metadata": {},
     "output_type": "display_data"
    }
   ],
   "source": [
    "fig2_1 = px.line(\n",
    "    derived_df_0,\n",
    "    x=derived_df_0.index,\n",
    "    y=\"total_population\",\n",
    ")\n",
    "fig2_2 = px.scatter(pop_df.reset_index(), x=\"year\", y=\"population\")\n",
    "fig2_2.update_traces(marker=dict(color=\"red\"))\n",
    "fig2_3 = go.Figure(\n",
    "    data=fig2_1.data + fig2_2.data,\n",
    ")\n",
    "fig2_3.update_layout(\n",
    "    title=\"Modelled vs Data\", title_x=0.5, xaxis_title=\"Year\", yaxis_title=\"Population\"\n",
    ")\n",
    "fig2_3.show()"
   ]
  },
  {
   "cell_type": "code",
   "execution_count": 15,
   "metadata": {},
   "outputs": [
    {
     "data": {
      "application/vnd.plotly.v1+json": {
       "config": {
        "plotlyServerURL": "https://plot.ly"
       },
       "data": [
        {
         "hovertemplate": "variable=incidence<br>index=%{x}<br>value=%{y}<extra></extra>",
         "legendgroup": "incidence",
         "line": {
          "color": "#636efa",
          "dash": "solid"
         },
         "marker": {
          "symbol": "circle"
         },
         "mode": "lines",
         "name": "incidence",
         "showlegend": true,
         "type": "scattergl",
         "x": [
          1900,
          1900.1,
          1900.2,
          1900.3,
          1900.4,
          1900.5,
          1900.6,
          1900.7,
          1900.8,
          1900.9,
          1901,
          1901.1,
          1901.2,
          1901.3,
          1901.4,
          1901.5,
          1901.6,
          1901.7,
          1901.8,
          1901.9,
          1902,
          1902.1,
          1902.2,
          1902.3,
          1902.4,
          1902.5,
          1902.6,
          1902.7,
          1902.8,
          1902.9,
          1903,
          1903.1,
          1903.2,
          1903.3,
          1903.4,
          1903.5,
          1903.6,
          1903.7,
          1903.8,
          1903.9,
          1904,
          1904.1,
          1904.2,
          1904.3,
          1904.4,
          1904.5,
          1904.6,
          1904.7,
          1904.8,
          1904.9,
          1905,
          1905.1,
          1905.2,
          1905.3,
          1905.4,
          1905.5,
          1905.6,
          1905.7,
          1905.8,
          1905.9,
          1906,
          1906.1,
          1906.2,
          1906.3,
          1906.4,
          1906.5,
          1906.6,
          1906.7,
          1906.8,
          1906.9,
          1907,
          1907.1,
          1907.2,
          1907.3,
          1907.4,
          1907.5,
          1907.6,
          1907.7,
          1907.8,
          1907.9,
          1908,
          1908.1,
          1908.2,
          1908.3,
          1908.4,
          1908.5,
          1908.6,
          1908.7,
          1908.8,
          1908.9,
          1909,
          1909.1,
          1909.2,
          1909.3,
          1909.4,
          1909.5,
          1909.6,
          1909.7,
          1909.8,
          1909.9,
          1910,
          1910.1,
          1910.2,
          1910.3,
          1910.4,
          1910.5,
          1910.6,
          1910.7,
          1910.8,
          1910.9,
          1911,
          1911.1,
          1911.2,
          1911.3,
          1911.4,
          1911.5,
          1911.6,
          1911.7,
          1911.8,
          1911.9,
          1912,
          1912.1,
          1912.2,
          1912.3,
          1912.4,
          1912.5,
          1912.6,
          1912.7,
          1912.8,
          1912.9,
          1913,
          1913.1,
          1913.2,
          1913.3,
          1913.4,
          1913.5,
          1913.6,
          1913.7,
          1913.8,
          1913.9,
          1914,
          1914.1,
          1914.2,
          1914.3,
          1914.4,
          1914.5,
          1914.6,
          1914.7,
          1914.8,
          1914.9,
          1915,
          1915.1,
          1915.2,
          1915.3,
          1915.4,
          1915.5,
          1915.6,
          1915.7,
          1915.8,
          1915.9,
          1916,
          1916.1,
          1916.2,
          1916.3,
          1916.4,
          1916.5,
          1916.6,
          1916.7,
          1916.8,
          1916.9,
          1917,
          1917.1,
          1917.2,
          1917.3,
          1917.4,
          1917.5,
          1917.6,
          1917.7,
          1917.8,
          1917.9,
          1918,
          1918.1,
          1918.2,
          1918.3,
          1918.4,
          1918.5,
          1918.6,
          1918.7,
          1918.8,
          1918.9,
          1919,
          1919.1,
          1919.2,
          1919.3,
          1919.4,
          1919.5,
          1919.6,
          1919.7,
          1919.8,
          1919.9,
          1920,
          1920.1,
          1920.2,
          1920.3,
          1920.4,
          1920.5,
          1920.6,
          1920.7,
          1920.8,
          1920.9,
          1921,
          1921.1,
          1921.2,
          1921.3,
          1921.4,
          1921.5,
          1921.6,
          1921.7,
          1921.8,
          1921.9,
          1922,
          1922.1,
          1922.2,
          1922.3,
          1922.4,
          1922.5,
          1922.6,
          1922.7,
          1922.8,
          1922.9,
          1923,
          1923.1,
          1923.2,
          1923.3,
          1923.4,
          1923.5,
          1923.6,
          1923.7,
          1923.8,
          1923.9,
          1924,
          1924.1,
          1924.2,
          1924.3,
          1924.4,
          1924.5,
          1924.6,
          1924.7,
          1924.8,
          1924.9,
          1925,
          1925.1,
          1925.2,
          1925.3,
          1925.4,
          1925.5,
          1925.6,
          1925.7,
          1925.8,
          1925.9,
          1926,
          1926.1,
          1926.2,
          1926.3,
          1926.4,
          1926.5,
          1926.6,
          1926.7,
          1926.8,
          1926.9,
          1927,
          1927.1,
          1927.2,
          1927.3,
          1927.4,
          1927.5,
          1927.6,
          1927.7,
          1927.8,
          1927.9,
          1928,
          1928.1,
          1928.2,
          1928.3,
          1928.4,
          1928.5,
          1928.6,
          1928.7,
          1928.8,
          1928.9,
          1929,
          1929.1,
          1929.2,
          1929.3,
          1929.4,
          1929.5,
          1929.6,
          1929.7,
          1929.8,
          1929.9,
          1930,
          1930.1,
          1930.2,
          1930.3,
          1930.4,
          1930.5,
          1930.6,
          1930.7,
          1930.8,
          1930.9,
          1931,
          1931.1,
          1931.2,
          1931.3,
          1931.4,
          1931.5,
          1931.6,
          1931.7,
          1931.8,
          1931.9,
          1932,
          1932.1,
          1932.2,
          1932.3,
          1932.4,
          1932.5,
          1932.6,
          1932.7,
          1932.8,
          1932.9,
          1933,
          1933.1,
          1933.2,
          1933.3,
          1933.4,
          1933.5,
          1933.6,
          1933.7,
          1933.8,
          1933.9,
          1934,
          1934.1,
          1934.2,
          1934.3,
          1934.4,
          1934.5,
          1934.6,
          1934.7,
          1934.8,
          1934.9,
          1935,
          1935.1,
          1935.2,
          1935.3,
          1935.4,
          1935.5,
          1935.6,
          1935.7,
          1935.8,
          1935.9,
          1936,
          1936.1,
          1936.2,
          1936.3,
          1936.4,
          1936.5,
          1936.6,
          1936.7,
          1936.8,
          1936.9,
          1937,
          1937.1,
          1937.2,
          1937.3,
          1937.4,
          1937.5,
          1937.6,
          1937.7,
          1937.8,
          1937.9,
          1938,
          1938.1,
          1938.2,
          1938.3,
          1938.4,
          1938.5,
          1938.6,
          1938.7,
          1938.8,
          1938.9,
          1939,
          1939.1,
          1939.2,
          1939.3,
          1939.4,
          1939.5,
          1939.6,
          1939.7,
          1939.8,
          1939.9,
          1940,
          1940.1,
          1940.2,
          1940.3,
          1940.4,
          1940.5,
          1940.6,
          1940.7,
          1940.8,
          1940.9,
          1941,
          1941.1,
          1941.2,
          1941.3,
          1941.4,
          1941.5,
          1941.6,
          1941.7,
          1941.8,
          1941.9,
          1942,
          1942.1,
          1942.2,
          1942.3,
          1942.4,
          1942.5,
          1942.6,
          1942.7,
          1942.8,
          1942.9,
          1943,
          1943.1,
          1943.2,
          1943.3,
          1943.4,
          1943.5,
          1943.6,
          1943.7,
          1943.8,
          1943.9,
          1944,
          1944.1,
          1944.2,
          1944.3,
          1944.4,
          1944.5,
          1944.6,
          1944.7,
          1944.8,
          1944.9,
          1945,
          1945.1,
          1945.2,
          1945.3,
          1945.4,
          1945.5,
          1945.6,
          1945.7,
          1945.8,
          1945.9,
          1946,
          1946.1,
          1946.2,
          1946.3,
          1946.4,
          1946.5,
          1946.6,
          1946.7,
          1946.8,
          1946.9,
          1947,
          1947.1,
          1947.2,
          1947.3,
          1947.4,
          1947.5,
          1947.6,
          1947.7,
          1947.8,
          1947.9,
          1948,
          1948.1,
          1948.2,
          1948.3,
          1948.4,
          1948.5,
          1948.6,
          1948.7,
          1948.8,
          1948.9,
          1949,
          1949.1,
          1949.2,
          1949.3,
          1949.4,
          1949.5,
          1949.6,
          1949.7,
          1949.8,
          1949.9,
          1950,
          1950.1,
          1950.2,
          1950.3,
          1950.4,
          1950.5,
          1950.6,
          1950.7,
          1950.8,
          1950.9,
          1951,
          1951.1,
          1951.2,
          1951.3,
          1951.4,
          1951.5,
          1951.6,
          1951.7,
          1951.8,
          1951.9,
          1952,
          1952.1,
          1952.2,
          1952.3,
          1952.4,
          1952.5,
          1952.6,
          1952.7,
          1952.8,
          1952.9,
          1953,
          1953.1,
          1953.2,
          1953.3,
          1953.4,
          1953.5,
          1953.6,
          1953.7,
          1953.8,
          1953.9,
          1954,
          1954.1,
          1954.2,
          1954.3,
          1954.4,
          1954.5,
          1954.6,
          1954.7,
          1954.8,
          1954.9,
          1955,
          1955.1,
          1955.2,
          1955.3,
          1955.4,
          1955.5,
          1955.6,
          1955.7,
          1955.8,
          1955.9,
          1956,
          1956.1,
          1956.2,
          1956.3,
          1956.4,
          1956.5,
          1956.6,
          1956.7,
          1956.8,
          1956.9,
          1957,
          1957.1,
          1957.2,
          1957.3,
          1957.4,
          1957.5,
          1957.6,
          1957.7,
          1957.8,
          1957.9,
          1958,
          1958.1,
          1958.2,
          1958.3,
          1958.4,
          1958.5,
          1958.6,
          1958.7,
          1958.8,
          1958.9,
          1959,
          1959.1,
          1959.2,
          1959.3,
          1959.4,
          1959.5,
          1959.6,
          1959.7,
          1959.8,
          1959.9,
          1960,
          1960.1,
          1960.2,
          1960.3,
          1960.4,
          1960.5,
          1960.6,
          1960.7,
          1960.8,
          1960.9,
          1961,
          1961.1,
          1961.2,
          1961.3,
          1961.4,
          1961.5,
          1961.6,
          1961.7,
          1961.8,
          1961.9,
          1962,
          1962.1,
          1962.2,
          1962.3,
          1962.4,
          1962.5,
          1962.6,
          1962.7,
          1962.8,
          1962.9,
          1963,
          1963.1,
          1963.2,
          1963.3,
          1963.4,
          1963.5,
          1963.6,
          1963.7,
          1963.8,
          1963.9,
          1964,
          1964.1,
          1964.2,
          1964.3,
          1964.4,
          1964.5,
          1964.6,
          1964.7,
          1964.8,
          1964.9,
          1965,
          1965.1,
          1965.2,
          1965.3,
          1965.4,
          1965.5,
          1965.6,
          1965.7,
          1965.8,
          1965.9,
          1966,
          1966.1,
          1966.2,
          1966.3,
          1966.4,
          1966.5,
          1966.6,
          1966.7,
          1966.8,
          1966.9,
          1967,
          1967.1,
          1967.2,
          1967.3,
          1967.4,
          1967.5,
          1967.6,
          1967.7,
          1967.8,
          1967.9,
          1968,
          1968.1,
          1968.2,
          1968.3,
          1968.4,
          1968.5,
          1968.6,
          1968.7,
          1968.8,
          1968.9,
          1969,
          1969.1,
          1969.2,
          1969.3,
          1969.4,
          1969.5,
          1969.6,
          1969.7,
          1969.8,
          1969.9,
          1970,
          1970.1,
          1970.2,
          1970.3,
          1970.4,
          1970.5,
          1970.6,
          1970.7,
          1970.8,
          1970.9,
          1971,
          1971.1,
          1971.2,
          1971.3,
          1971.4,
          1971.5,
          1971.6,
          1971.7,
          1971.8,
          1971.9,
          1972,
          1972.1,
          1972.2,
          1972.3,
          1972.4,
          1972.5,
          1972.6,
          1972.7,
          1972.8,
          1972.9,
          1973,
          1973.1,
          1973.2,
          1973.3,
          1973.4,
          1973.5,
          1973.6,
          1973.7,
          1973.8,
          1973.9,
          1974,
          1974.1,
          1974.2,
          1974.3,
          1974.4,
          1974.5,
          1974.6,
          1974.7,
          1974.8,
          1974.9,
          1975,
          1975.1,
          1975.2,
          1975.3,
          1975.4,
          1975.5,
          1975.6,
          1975.7,
          1975.8,
          1975.9,
          1976,
          1976.1,
          1976.2,
          1976.3,
          1976.4,
          1976.5,
          1976.6,
          1976.7,
          1976.8,
          1976.9,
          1977,
          1977.1,
          1977.2,
          1977.3,
          1977.4,
          1977.5,
          1977.6,
          1977.7,
          1977.8,
          1977.9,
          1978,
          1978.1,
          1978.2,
          1978.3,
          1978.4,
          1978.5,
          1978.6,
          1978.7,
          1978.8,
          1978.9,
          1979,
          1979.1,
          1979.2,
          1979.3,
          1979.4,
          1979.5,
          1979.6,
          1979.7,
          1979.8,
          1979.9,
          1980,
          1980.1,
          1980.2,
          1980.3,
          1980.4,
          1980.5,
          1980.6,
          1980.7,
          1980.8,
          1980.9,
          1981,
          1981.1,
          1981.2,
          1981.3,
          1981.4,
          1981.5,
          1981.6,
          1981.7,
          1981.8,
          1981.9,
          1982,
          1982.1,
          1982.2,
          1982.3,
          1982.4,
          1982.5,
          1982.6,
          1982.7,
          1982.8,
          1982.9,
          1983,
          1983.1,
          1983.2,
          1983.3,
          1983.4,
          1983.5,
          1983.6,
          1983.7,
          1983.8,
          1983.9,
          1984,
          1984.1,
          1984.2,
          1984.3,
          1984.4,
          1984.5,
          1984.6,
          1984.7,
          1984.8,
          1984.9,
          1985,
          1985.1,
          1985.2,
          1985.3,
          1985.4,
          1985.5,
          1985.6,
          1985.7,
          1985.8,
          1985.9,
          1986,
          1986.1,
          1986.2,
          1986.3,
          1986.4,
          1986.5,
          1986.6,
          1986.7,
          1986.8,
          1986.9,
          1987,
          1987.1,
          1987.2,
          1987.3,
          1987.4,
          1987.5,
          1987.6,
          1987.7,
          1987.8,
          1987.9,
          1988,
          1988.1,
          1988.2,
          1988.3,
          1988.4,
          1988.5,
          1988.6,
          1988.7,
          1988.8,
          1988.9,
          1989,
          1989.1,
          1989.2,
          1989.3,
          1989.4,
          1989.5,
          1989.6,
          1989.7,
          1989.8,
          1989.9,
          1990,
          1990.1,
          1990.2,
          1990.3,
          1990.4,
          1990.5,
          1990.6,
          1990.7,
          1990.8,
          1990.9,
          1991,
          1991.1,
          1991.2,
          1991.3,
          1991.4,
          1991.5,
          1991.6,
          1991.7,
          1991.8,
          1991.9,
          1992,
          1992.1,
          1992.2,
          1992.3,
          1992.4,
          1992.5,
          1992.6,
          1992.7,
          1992.8,
          1992.9,
          1993,
          1993.1,
          1993.2,
          1993.3,
          1993.4,
          1993.5,
          1993.6,
          1993.7,
          1993.8,
          1993.9,
          1994,
          1994.1,
          1994.2,
          1994.3,
          1994.4,
          1994.5,
          1994.6,
          1994.7,
          1994.8,
          1994.9,
          1995,
          1995.1,
          1995.2,
          1995.3,
          1995.4,
          1995.5,
          1995.6,
          1995.7,
          1995.8,
          1995.9,
          1996,
          1996.1,
          1996.2,
          1996.3,
          1996.4,
          1996.5,
          1996.6,
          1996.7,
          1996.8,
          1996.9,
          1997,
          1997.1,
          1997.2,
          1997.3,
          1997.4,
          1997.5,
          1997.6,
          1997.7,
          1997.8,
          1997.9,
          1998,
          1998.1,
          1998.2,
          1998.3,
          1998.4,
          1998.5,
          1998.6,
          1998.7,
          1998.8,
          1998.9,
          1999,
          1999.1,
          1999.2,
          1999.3,
          1999.4,
          1999.5,
          1999.6,
          1999.7,
          1999.8,
          1999.9,
          2000,
          2000.1,
          2000.2,
          2000.3,
          2000.4,
          2000.5,
          2000.6,
          2000.7,
          2000.8,
          2000.9,
          2001,
          2001.1,
          2001.2,
          2001.3,
          2001.4,
          2001.5,
          2001.6,
          2001.7,
          2001.8,
          2001.9,
          2002,
          2002.1,
          2002.2,
          2002.3,
          2002.4,
          2002.5,
          2002.6,
          2002.7,
          2002.8,
          2002.9,
          2003,
          2003.1,
          2003.2,
          2003.3,
          2003.4,
          2003.5,
          2003.6,
          2003.7,
          2003.8,
          2003.9,
          2004,
          2004.1,
          2004.2,
          2004.3,
          2004.4,
          2004.5,
          2004.6,
          2004.7,
          2004.8,
          2004.9,
          2005,
          2005.1,
          2005.2,
          2005.3,
          2005.4,
          2005.5,
          2005.6,
          2005.7,
          2005.8,
          2005.9,
          2006,
          2006.1,
          2006.2,
          2006.3,
          2006.4,
          2006.5,
          2006.6,
          2006.7,
          2006.8,
          2006.9,
          2007,
          2007.1,
          2007.2,
          2007.3,
          2007.4,
          2007.5,
          2007.6,
          2007.7,
          2007.8,
          2007.9,
          2008,
          2008.1,
          2008.2,
          2008.3,
          2008.4,
          2008.5,
          2008.6,
          2008.7,
          2008.8,
          2008.9,
          2009,
          2009.1,
          2009.2,
          2009.3,
          2009.4,
          2009.5,
          2009.6,
          2009.7,
          2009.8,
          2009.9,
          2010,
          2010.1,
          2010.2,
          2010.3,
          2010.4,
          2010.5,
          2010.6,
          2010.7,
          2010.8,
          2010.9,
          2011,
          2011.1,
          2011.2,
          2011.3,
          2011.4,
          2011.5,
          2011.6,
          2011.7,
          2011.8,
          2011.9,
          2012,
          2012.1,
          2012.2,
          2012.3,
          2012.4,
          2012.5,
          2012.6,
          2012.7,
          2012.8,
          2012.9,
          2013,
          2013.1,
          2013.2,
          2013.3,
          2013.4,
          2013.5,
          2013.6,
          2013.7,
          2013.8,
          2013.9,
          2014,
          2014.1,
          2014.2,
          2014.3,
          2014.4,
          2014.5,
          2014.6,
          2014.7,
          2014.8,
          2014.9,
          2015,
          2015.1,
          2015.2,
          2015.3,
          2015.4,
          2015.5,
          2015.6,
          2015.7,
          2015.8,
          2015.9,
          2016,
          2016.1,
          2016.2,
          2016.3,
          2016.4,
          2016.5,
          2016.6,
          2016.7,
          2016.8,
          2016.9,
          2017,
          2017.1,
          2017.2,
          2017.3,
          2017.4,
          2017.5,
          2017.6,
          2017.7,
          2017.8,
          2017.9,
          2018,
          2018.1,
          2018.2,
          2018.3,
          2018.4,
          2018.5,
          2018.6,
          2018.7,
          2018.8,
          2018.9,
          2019,
          2019.1,
          2019.2,
          2019.3,
          2019.4,
          2019.5,
          2019.6,
          2019.7,
          2019.8,
          2019.9,
          2020
         ],
         "xaxis": "x",
         "y": [
          0,
          2173.6277668494995,
          5485.964926500504,
          7207.835548534087,
          8080.500833094223,
          8504.569319794839,
          8693.956721581246,
          8762.869859500011,
          8771.603983867053,
          8751.46586485411,
          8718.038319608755,
          8678.927397035059,
          8638.36787758214,
          8596.638458803638,
          8554.682750322974,
          8512.919287586148,
          8470.489849479553,
          8427.03150419644,
          8382.69195119858,
          8337.327355931211,
          8290.617521242095,
          8242.49953194731,
          8192.91793578482,
          8141.726885955643,
          8088.730765790713,
          8034.200931764464,
          7978.6808301928495,
          7922.347998100203,
          7864.9721159166365,
          7805.9155083368005,
          7744.607223412861,
          7681.7137771733405,
          7618.531235164452,
          7555.451751270893,
          7491.735364933266,
          7425.900528617334,
          7358.0463413478265,
          7290.087555463132,
          7223.2105091957355,
          7157.031329572791,
          7089.629346897731,
          7019.797632158718,
          6949.168254197159,
          6879.653998432587,
          6811.239605930436,
          6742.308518777023,
          6671.897594022547,
          6601.295347557278,
          6531.835696404224,
          6463.437171711481,
          6394.817852408006,
          6325.1557392708,
          6255.533118004792,
          6187.267853423614,
          6120.4470349117855,
          6053.9656072290545,
          5986.460419606422,
          5918.575831850224,
          5852.109645419407,
          5787.6442955268685,
          5724.366264506949,
          5660.350967428361,
          5595.263191114629,
          5531.09355471926,
          5469.272630604057,
          5409.510863277162,
          5349.868385924272,
          5289.03095462802,
          5228.419341743189,
          5169.672805826827,
          5112.6692345568845,
          5056.041450131731,
          4999.185657496176,
          4943.099991934309,
          4888.509749016763,
          4835.192974985871,
          4782.256517568081,
          4729.414882539176,
          4677.436622404767,
          4626.904052100087,
          4577.715937609593,
          4529.123968558711,
          4480.375882602587,
          4431.959342619147,
          4384.979730057881,
          4339.803655456443,
          4295.930279666576,
          4252.071229284255,
          4207.801056936233,
          4164.254440465473,
          4122.298708006969,
          4081.728293651814,
          4041.5161136397232,
          4001.270383180184,
          3961.7656910598976,
          3923.5522855175764,
          3886.479899768806,
          3849.8363706673495,
          3813.2550797902672,
          3777.2889959857343,
          3742.5083578946064,
          3708.9187128059016,
          3675.994581643877,
          3642.989308823086,
          3610.0717189667353,
          3578.150103856345,
          3547.6522212954474,
          3518.311915745388,
          3489.1858542499403,
          3459.684029352362,
          3430.5229488859,
          3402.540818117931,
          3375.716338630805,
          3349.3244787613417,
          3322.8338882845464,
          3296.70920737823,
          3271.528828806339,
          3247.284490277291,
          3223.488867424655,
          3199.676931593613,
          3176.1337864620336,
          3153.410432312412,
          3131.620055580556,
          3110.4498260132573,
          3089.2604947100467,
          3067.94674369,
          3047.172900191189,
          3027.4393859815805,
          3008.6814485641007,
          2990.277946908176,
          2971.4983415303423,
          2952.663523379534,
          2934.6063048750693,
          2917.4858409621193,
          2900.8626784830394,
          2884.095994468814,
          2867.3480913686917,
          2851.2207022627026,
          2835.8380241539644,
          2820.911264781076,
          2805.928691122114,
          2790.927197218986,
          2776.417514267513,
          2762.625240075358,
          2749.398382727334,
          2736.2289635460456,
          2722.7933162937084,
          2709.5080016672814,
          2696.946363283279,
          2685.2082430117607,
          2673.9051276894156,
          2662.3024622274356,
          2650.3806666264813,
          2638.860950622138,
          2628.08570170122,
          2617.8344678504936,
          2607.487290233979,
          2596.940833411314,
          2586.7119892353685,
          2577.064699267867,
          2567.861278465716,
          2558.6423964219384,
          2549.238511243056,
          2540.0384707861544,
          2531.374530877571,
          2523.221404149182,
          2515.2154321368234,
          2506.9052694045145,
          2498.4614777762604,
          2490.469895383339,
          2483.1668233736164,
          2476.3416941297587,
          2469.3615280708277,
          2461.928234371409,
          2454.5663819957786,
          2447.777500921323,
          2441.51385328531,
          2435.269271644961,
          2428.7208902156854,
          2422.2208014793905,
          2416.160806675614,
          2410.528590461019,
          2404.970633738714,
          2399.1578746786868,
          2393.3101978296027,
          2387.838952485556,
          2382.830274222707,
          2378.048900037948,
          2373.019270779998,
          2367.6796492364024,
          2362.5367010239925,
          2357.95610597709,
          2353.877825537911,
          2349.823715262453,
          2345.283392709049,
          2340.5373008279807,
          2336.1973418826074,
          2332.3671763817165,
          2328.7019939891275,
          2324.718720547277,
          2320.5596720545,
          2316.7020578066495,
          2313.2501070666785,
          2309.975618192752,
          2306.463003852897,
          2302.7387587951753,
          2299.2278945918347,
          2296.1279780867853,
          2293.3191941081964,
          2290.3831386614825,
          2287.0561915894737,
          2283.6868864698213,
          2280.7468128485807,
          2278.314198514718,
          2276.064697244328,
          2273.406813522791,
          2270.3535207478626,
          2267.503146622524,
          2265.1264422549516,
          2263.0368540866803,
          2260.7150861146774,
          2258.0733305103495,
          2255.558395915205,
          2253.4129466555505,
          2251.5278689694724,
          2249.5025441964253,
          2247.1673658265013,
          2244.860804441578,
          2242.8990427306326,
          2241.274085829499,
          2239.6709477542963,
          2237.6810288116994,
          2235.4444302112297,
          2233.481822953448,
          2232.007209411702,
          2230.8398364722934,
          2229.428824280724,
          2227.522474867312,
          2225.5843486854924,
          2224.054038873129,
          2222.8947991980176,
          2221.6621172076398,
          2220.0482712415833,
          2218.3622987599683,
          2216.984206914562,
          2215.921854158156,
          2214.8625733594135,
          2213.4713271122237,
          2211.926268511116,
          2210.6333336806433,
          2209.696459450592,
          2208.912735542974,
          2207.8363974299023,
          2206.381541568886,
          2205.007292629926,
          2204.067285553028,
          2203.520087320428,
          2202.937811140891,
          2201.7830854104263,
          2200.258345615204,
          2199.0777503901973,
          2198.5361783195417,
          2198.3814377685794,
          2197.8560211966796,
          2196.675801518167,
          2195.468036255515,
          2194.7055193024744,
          2194.2601492607396,
          2193.6192916249593,
          2192.670782740539,
          2191.8042488728047,
          2191.200181440011,
          2190.740546397296,
          2190.115524770671,
          2189.2798845444117,
          2188.520195487561,
          2188.0127966659693,
          2187.707251053856,
          2187.334318452882,
          2186.59321133108,
          2185.648791218514,
          2184.968833860878,
          2184.756658803631,
          2184.8581842854055,
          2184.7651988451794,
          2184.094310349195,
          2183.2299078659184,
          2182.7133020788037,
          2182.561168885185,
          2182.3701288396946,
          2181.836595099074,
          2181.2197448909824,
          2180.8419291727228,
          2180.6964605581315,
          2180.5126137063985,
          2180.0473468446903,
          2179.4774654060802,
          2179.1205075578446,
          2179.0473958723105,
          2179.079356894754,
          2178.827631656609,
          2178.1848936545666,
          2177.5737805205877,
          2177.3900467118765,
          2177.6454588273878,
          2177.9653986816124,
          2177.7589005858663,
          2177.1180281765696,
          2176.6712820244543,
          2176.6337740717886,
          2176.760984773147,
          2176.5824012425983,
          2176.1439740571877,
          2175.860925467746,
          2175.8461964779995,
          2175.930988417189,
          2175.7796540154804,
          2175.396094768813,
          2175.1197102393035,
          2175.1251666421367,
          2175.3310717059685,
          2175.408131322354,
          2175.0685675720474,
          2174.5601923101267,
          2174.364154407774,
          2174.6326180517412,
          2175.13760156221,
          2175.3011599900005,
          2174.9169744994933,
          2174.4988774984467,
          2174.4640568906125,
          2174.7317500311797,
          2174.8377588207227,
          2174.5911864112795,
          2174.3427335804336,
          2174.357163019935,
          2174.5754910229853,
          2174.676817275285,
          2174.477426720311,
          2174.230970853274,
          2174.2299391587358,
          2174.497978693382,
          2174.7999410400766,
          2174.7424007534796,
          2174.3464749524546,
          2174.0921871489318,
          2174.282129208395,
          2174.835608139318,
          2175.2927133840853,
          2175.180694986727,
          2174.785526051459,
          2174.6891609194126,
          2174.973871243788,
          2175.297610392197,
          2175.257933212627,
          2175.0299337842953,
          2175.0128464323857,
          2175.2607687961327,
          2175.544138001587,
          2175.536007262207,
          2175.3261972351775,
          2175.278694461726,
          2175.525488609432,
          2175.9326858122463,
          2176.119345728095,
          2175.886105510802,
          2175.5873670941055,
          2175.6568684653807,
          2176.15960112352,
          2176.7805834504716,
          2176.938573960553,
          2176.6327138174584,
          2176.450858996291,
          2176.667403412426,
          2177.101251568572,
          2177.2636504766724,
          2177.0977988625855,
          2177.0205085447647,
          2177.225294974419,
          2177.5936159060675,
          2177.7654310396306,
          2177.635838809887,
          2177.5289957285217,
          2177.699207718297,
          2178.1185571120654,
          2178.4893816284043,
          2178.4477256789296,
          2178.1437690489806,
          2178.076906671542,
          2178.458708975791,
          2179.1194802066934,
          2179.5217933684758,
          2179.373363468037,
          2179.1131819152197,
          2179.2088504543754,
          2179.6390557251484,
          2179.976814548817,
          2179.930115543911,
          2179.791518920174,
          2179.905635981127,
          2180.2689330556896,
          2180.5868137426382,
          2180.577499149182,
          2180.424978201227,
          2180.485839701802,
          2180.842535906492,
          2181.3023363998095,
          2181.4531000462966,
          2181.211831719419,
          2181.018705715975,
          2181.233215887562,
          2181.832090577677,
          2182.413466607752,
          2182.460541466795,
          2182.162427358546,
          2182.1097508417515,
          2182.447728115161,
          2182.899131105768,
          2182.9983681002136,
          2182.824992149714,
          2182.8198441925415,
          2183.1044380241838,
          2183.4974306300646,
          2183.6223437495228,
          2183.467370175832,
          2183.40788118122,
          2183.647876590888,
          2184.10414157162,
          2184.418353620851,
          2184.2981694709956,
          2184.0139052006125,
          2184.039080928563,
          2184.49882849185,
          2185.139036707616,
          2185.390844650922,
          2185.146888619733,
          2184.9446380741765,
          2185.127473464493,
          2185.5802729838847,
          2185.8248326860476,
          2185.6916720976237,
          2185.562211006694,
          2185.7144604810887,
          2186.087000425077,
          2186.33225566979,
          2186.235506540664,
          2186.064686517026,
          2186.147728025492,
          2186.516860789921,
          2186.921664556148,
          2186.9494066842963,
          2186.6356635595107,
          2186.468354471321,
          2186.726101812319,
          2187.3067175036094,
          2187.7331751841925,
          2187.612941823596,
          2187.281665797673,
          2187.2635716086324,
          2187.6092373610136,
          2187.9603131078916,
          2187.9183018155754,
          2187.676676429803,
          2187.654443748355,
          2187.9165915762965,
          2188.226321443603,
          2188.2179739793473,
          2187.965306581486,
          2187.864241758956,
          2188.0704710767345,
          2188.452778273397,
          2188.6140193718375,
          2188.3451231138074,
          2188.0009470911496,
          2188.0062718483223,
          2188.4166284423186,
          2188.914597680497,
          2188.949043555324,
          2188.5561407871646,
          2188.3067780230435,
          2188.4460375350704,
          2188.7908368426806,
          2188.8507243997947,
          2188.553863323366,
          2188.3260127412264,
          2188.390916627866,
          2188.6451247897594,
          2188.7139003728084,
          2188.439764193513,
          2188.1397240570136,
          2188.1103794389883,
          2188.3490359450107,
          2188.570395956019,
          2188.384887421621,
          2187.9033081038783,
          2187.616382874938,
          2187.7460929925387,
          2188.1460575694696,
          2188.313595633347,
          2187.950978661591,
          2187.45771502164,
          2187.2949585040456,
          2187.467211095158,
          2187.584040027462,
          2187.2959582620683,
          2186.844762949418,
          2186.6248050464606,
          2186.6786267055554,
          2186.7502046571785,
          2186.486461635471,
          2185.990491085323,
          2185.654923567964,
          2185.617146066971,
          2185.7349913221074,
          2185.6119604818778,
          2185.0679329888985,
          2184.466068828202,
          2184.2022467791976,
          2184.3153897393727,
          2184.489544522279,
          2184.2008430974142,
          2183.5037985184827,
          2182.9505283929543,
          2182.7689981884746,
          2182.780875140068,
          2182.507788873779,
          2181.8702782574383,
          2181.282383518334,
          2180.9738303493323,
          2180.8557917719045,
          2180.5686222741942,
          2179.9317647238813,
          2179.2343150494216,
          2178.7791452227243,
          2178.5834360267613,
          2178.3978411432827,
          2177.837917137282,
          2176.9599881627287,
          2176.21774570033,
          2175.8503221589194,
          2175.762170587382,
          2175.528531512624,
          2174.7308923446462,
          2173.644957321728,
          2172.8980163749047,
          2172.7126919515736,
          2172.8490585888912,
          2172.641933992995,
          2171.8640871679445,
          2171.096109252129,
          2170.783208568715,
          2170.8509146219544,
          2170.8519018847837,
          2170.607079794102,
          2170.441697059429,
          2170.5790006194884,
          2170.9512338830214,
          2171.267809786045,
          2171.354618486647,
          2171.413883606163,
          2171.688154952709,
          2172.1935001818115,
          2172.7257480288044,
          2172.9255903579397,
          2172.7612076272662,
          2172.632127145262,
          2172.836652626905,
          2173.354968439616,
          2173.853503725392,
          2173.833258011219,
          2173.3826654944496,
          2173.0495130785966,
          2173.040271771471,
          2173.1724145418953,
          2172.997482358734,
          2172.4709081969368,
          2171.9700448374256,
          2171.667599174807,
          2171.4786658533058,
          2171.108545403727,
          2170.4307668218707,
          2169.679455934119,
          2169.0763528414736,
          2168.639487313604,
          2168.2032199715245,
          2167.4638936119754,
          2166.3784117855357,
          2165.287752799358,
          2164.4752689902107,
          2163.9558884357593,
          2163.478806517817,
          2162.5842318258456,
          2161.2310253748387,
          2159.8955835302622,
          2158.8633576205007,
          2158.0298665339624,
          2156.9810231835163,
          2155.5710239712375,
          2154.125255351621,
          2152.880144415975,
          2151.7904557861507,
          2150.5726227206396,
          2149.024081519804,
          2147.3352361080656,
          2145.7731989211134,
          2144.38560994355,
          2143.021420527215,
          2141.3711870398583,
          2139.3708905173085,
          2137.3319948422773,
          2135.5133241556346,
          2133.9342977791175,
          2132.3838359407496,
          2130.4787652412715,
          2128.196061556743,
          2125.9418272907606,
          2123.9621321424365,
          2122.180506395391,
          2120.2345928550253,
          2117.921214014103,
          2115.515404072778,
          2113.3161465329194,
          2111.336844369641,
          2109.3405250466744,
          2107.0094362883287,
          2104.4401790140264,
          2102.0018451616893,
          2099.834988093573,
          2097.8204994584235,
          2095.5949767379216,
          2092.9543561891705,
          2090.2114709683246,
          2087.7541190362917,
          2085.6367539446815,
          2083.5828592606917,
          2081.1164709070636,
          2078.2783177886613,
          2075.5579149493587,
          2073.153364371452,
          2070.9032527936915,
          2068.3939776928064,
          2065.5754493881936,
          2062.8130822685503,
          2060.2923000628152,
          2057.917750184905,
          2055.3615301046757,
          2052.4902309343483,
          2049.5948777758217,
          2046.9451650188828,
          2044.5213187516995,
          2042.023293846632,
          2039.102954197234,
          2035.917972806026,
          2032.912753864949,
          2030.2289252448631,
          2027.6606596695501,
          2024.7181205761196,
          2021.295162599438,
          2017.870293279627,
          2014.8032998972524,
          2012.0544473170382,
          2009.2061985367689,
          2005.8203121678896,
          2002.1550890347005,
          1998.8019979793526,
          1995.9302194857505,
          1993.2575413499717,
          1990.1695562216769,
          1986.6322786568885,
          1983.2064762694688,
          1980.1250451476712,
          1977.1975950436126,
          1974.0328280997262,
          1970.6634005031394,
          1967.4208342454288,
          1964.3814775996104,
          1961.3952109324744,
          1958.2213057428833,
          1954.9102397488016,
          1951.719140786131,
          1948.740652987084,
          1945.8715434791936,
          1942.8331101744936,
          1939.5084216168266,
          1936.1791070723257,
          1933.147016611776,
          1930.4304234238102,
          1927.7588122914344,
          1924.7153927060842,
          1921.383064439796,
          1918.2126587999642,
          1915.3463069482439,
          1912.5901379914897,
          1909.5956261480408,
          1906.4148364940693,
          1903.3754022158423,
          1900.5647561817061,
          1897.8314153683941,
          1894.8896082640033,
          1891.758616960295,
          1888.7415321499043,
          1885.9775573077313,
          1883.3583536060967,
          1880.5524920266314,
          1877.4132856176045,
          1874.2385612677597,
          1871.3343966608297,
          1868.7093855357753,
          1866.0814165503002,
          1863.0601011654014,
          1859.7611534503312,
          1856.6683946888884,
          1853.9811673831393,
          1851.5340776848057,
          1848.8369583245549,
          1845.7315337738485,
          1842.6382752897377,
          1839.8600411678342,
          1837.313375286415,
          1834.6326086127021,
          1831.7061845025721,
          1828.8244819136537,
          1826.169490623057,
          1823.6719254776453,
          1821.0684478792155,
          1818.262763081598,
          1815.4861447365827,
          1812.9355955596418,
          1810.5910017516828,
          1808.2238871118873,
          1805.573499385903,
          1802.7715033427144,
          1800.1840128636834,
          1797.947049250505,
          1795.9100409149764,
          1793.6607850949954,
          1791.0484147230557,
          1788.434488659503,
          1786.116814458651,
          1784.0433862123407,
          1781.8764465416668,
          1779.4454221527462,
          1777.006466879999,
          1774.795722836364,
          1772.783551650685,
          1770.7104274171709,
          1768.3778164437447,
          1765.9750641933613,
          1763.7848825286349,
          1761.841545008689,
          1759.927789127019,
          1757.6950066751463,
          1755.1881814887884,
          1752.8022989379563,
          1750.7280061436754,
          1748.8488599046668,
          1746.7615492622317,
          1744.2511568975938,
          1741.6595506717936,
          1739.3779536403615,
          1737.4464803364322,
          1735.5721030856112,
          1733.2953187461353,
          1730.6916574162178,
          1728.2877039441057,
          1726.3272789132204,
          1724.6626165943053,
          1722.7864102642252,
          1720.4877170742645,
          1718.173692516295,
          1716.1709768029175,
          1714.4103073617757,
          1712.5461406080035,
          1710.464813542089,
          1708.427144835579,
          1706.5936478375431,
          1704.901235991587,
          1703.1229685267297,
          1701.1829789402307,
          1699.2785185917376,
          1697.5695109451221,
          1696.0385262938187,
          1694.4982883300568,
          1692.7141372879566,
          1690.7770997405705,
          1689.0148043399054,
          1687.5775148020641,
          1686.3650498441846,
          1685.030274596696,
          1683.3292261436854,
          1681.5241729878448,
          1679.9613564413085,
          1678.6504931025795,
          1677.3259830802717,
          1675.7670161375725,
          1674.140418747489,
          1672.6872122261473,
          1671.4161836649712,
          1670.1391261898261,
          1668.6486358976176,
          1667.0485588079841,
          1665.5907004500386,
          1664.3428739270903,
          1663.174524657335,
          1661.795916634258,
          1660.1457726714486,
          1658.516335616057,
          1657.138989721239,
          1655.999201469272,
          1654.8433877996792,
          1653.3296877152804,
          1651.5592890125993,
          1649.9708654691535,
          1648.7641471602678,
          1647.8119859817439,
          1646.6744678357986,
          1645.12813238249,
          1643.5195026029667,
          1642.1732440859341,
          1641.0448119454607,
          1639.8323808310718,
          1638.41587223742,
          1637.0136422911546,
          1635.7742166227877,
          1634.6505399983732,
          1633.452189822206,
          1632.1036999511061,
          1630.7653582285698,
          1629.5799353045772,
          1628.5423584245968,
          1627.5061452473421,
          1626.255578604119,
          1624.8322384630787,
          1623.52399683207,
          1622.4974951963782,
          1621.6969995078814,
          1620.8463526204025,
          1619.647120930067,
          1618.2636464172779,
          1617.0595933215754,
          1616.0924707103602,
          1615.161822322106,
          1614.0254044232518,
          1612.781645937906,
          1611.6647363698792,
          1610.7054590497717,
          1609.7668285685804,
          1608.6515666810226,
          1607.4107557366156,
          1606.2677964853985,
          1605.3069118267542,
          1604.4398266586816,
          1603.4186101715554,
          1602.1184601097443,
          1600.7630999863597,
          1599.6158463725478,
          1598.712600717263,
          1597.8595438310938,
          1596.7167924076102,
          1595.3068060922985,
          1593.9797590834823,
          1592.8851478638776,
          1591.9197581076799,
          1590.80003411939,
          1589.4823595347136,
          1588.211320549148,
          1587.1163216565353,
          1586.1396977807942,
          1585.0686477948784,
          1583.8104153602826,
          1582.545517928293,
          1581.4482365675935,
          1580.5195673284668,
          1579.5952344192726,
          1578.4409003647468,
          1577.1116619877814,
          1575.900619446345,
          1574.9493685299303,
          1574.1756886283742,
          1573.2792990895036,
          1572.06883306296,
          1570.7748445055759,
          1569.6758457729122,
          1568.773861863152,
          1567.8373095535771,
          1566.669388191752,
          1565.415423162041,
          1564.2958337192247,
          1563.3244538859362,
          1562.336587980666,
          1561.129936545431,
          1559.78489938342,
          1558.540793525947,
          1557.4686569321284,
          1556.4482120781586,
          1555.1960591374711,
          1553.6241806072658,
          1552.0177225284162,
          1550.6287415020229,
          1549.4222290070181,
          1548.0757735395025,
          1546.2625854619391,
          1544.1637714972408,
          1542.131316776763,
          1540.1777810524507,
          1538.040744813094,
          1535.5142629732843,
          1532.7567125995297,
          1529.9715098052038,
          1527.1324082491694,
          1524.0185565501154,
          1520.4615305010252,
          1516.6211691583437,
          1512.7255737287346,
          1508.7610403458252,
          1504.4584394406786,
          1499.4949576408383,
          1493.9988686247489,
          1488.3633812018968,
          1482.6794290741088,
          1476.6591975366825,
          1469.8239988549383,
          1462.2318209889424,
          1454.3057650308735,
          1446.1198238521763,
          1437.4132706883365,
          1427.9974217545334,
          1417.9614067188347,
          1406.9974849133398,
          1393.9133775159437,
          1375.5392388907608,
          1348.8502935385038,
          1317.7681293826506,
          1289.8822405125547,
          1267.619135500866,
          1249.2183183736008,
          1233.063764464887,
          1218.169523159962,
          1203.767562853638,
          1189.5715098019057,
          1175.3114590516943,
          1160.796838690554,
          1146.139039969592,
          1131.5905809603312,
          1117.341331724142,
          1103.3825201488828,
          1089.672850738689,
          1076.1549447160612,
          1062.8005154782402,
          1048.7030013178162,
          1031.7468292788067,
          1011.2515942004017,
          989.6654934101492,
          970.2485901461266,
          954.0926742787867,
          940.3991245554561,
          928.3483585846355,
          917.3620635747608,
          906.9669161503151,
          896.7770030143545,
          885.9659068556801,
          873.880330113256,
          861.3573815960508,
          849.9266076651807,
          840.112107143495,
          831.5137737465911,
          823.7160665191856,
          816.5844420234879,
          810.0396528433464,
          804.7938494074288,
          802.7173347285919,
          805.286976322884,
          810.2307264777605,
          813.3706070160393,
          813.416575723216,
          811.2357911099663,
          807.8137628773225,
          803.7195895635056,
          799.2048237431088,
          793.7768268152399,
          785.6487624685487,
          773.3458346476119,
          759.0885934926057,
          746.8783160647531,
          738.0027767563822,
          731.5833127170141,
          726.6928594362877,
          722.73489697235,
          719.3338270285935,
          716.4055189459876,
          714.0683846000178,
          712.4829980152836,
          711.3541393012432,
          710.0926963478676,
          708.4646230474638,
          706.5899443725996,
          704.633403225288,
          702.6698302158143,
          700.7907424515499,
          699.2597982139719,
          698.9772339857054,
          700.6169366460821,
          703.0807216161054,
          704.6834986163075,
          704.5298306580036,
          701.8534478649595,
          696.0594674542474,
          688.3352133928831,
          681.2095445285673,
          675.8424194851856,
          671.8839639172103,
          668.8178465860819,
          666.3183495750242,
          664.2086520735555,
          662.3056911475693,
          660.491988138497,
          658.7095137941928,
          656.9830437040613,
          655.3546875486163,
          653.674191405159,
          651.4927247778973,
          648.4385939771636,
          644.9395800743381,
          641.8158536962932,
          639.1215150112644,
          635.9000526689548,
          631.1960915286005,
          625.6204082280366,
          620.6440552784823,
          616.6717296244963,
          612.9620639222178,
          608.7342438047082,
          604.3095760072374,
          600.5918884782759,
          597.7360923180419,
          595.0854543067768,
          592.0141062908884,
          588.7292510212148,
          585.8942246405611,
          583.9274424884429,
          583.1325116164641,
          583.6720253289476,
          584.9441555912034,
          586.035262859635,
          586.9732344559756,
          588.9969061434582,
          593.3514331800296,
          599.0483284293534,
          603.8215978171565,
          606.7775763628225,
          608.1289250411718,
          608.2695426491357,
          607.6496735321591,
          606.7233691652018,
          605.31952634988,
          602.3123729350161,
          596.6190196111818,
          589.3643584417614,
          583.0011493014067,
          578.4906156524823,
          575.5969505836373,
          573.8691918802076,
          572.8412352079258,
          572.1166802649668,
          571.5248948748919,
          571.2070618941424,
          571.3301389728034,
          571.7393260027421,
          572.1010144022459,
          572.219710001445,
          572.0285366513252,
          571.5125689692028,
          570.8118656949036,
          570.1858166122802,
          569.959319417514,
          570.6040220288405,
          572.5128829845529,
          575.1444699893232,
          577.3741231111597,
          578.7748531968748,
          579.537772459451,
          579.948572620839,
          580.1422100379589,
          580.1241703251128,
          579.9305490049411,
          579.6270552723364,
          579.2436789669129,
          578.8039424201365,
          578.3504628602417,
          577.8919394504862,
          577.4139866880728,
          576.9185386091517,
          576.45925111111,
          576.0544552904221,
          575.3763597057113,
          574.0118375382852,
          571.9368920148772,
          569.5454235070687,
          567.4706169601617,
          565.8849341491452,
          564.4886252053234,
          563.0358259906435,
          561.5549202032058,
          560.2283196557689,
          559.0092407274095,
          557.421053248455,
          554.9929674035326,
          552.0954165589744,
          549.4813125374815,
          547.4132949223916,
          545.6571097668509,
          543.923177933374,
          542.2419987486011,
          540.8276697987629,
          539.8651512405407,
          539.6165439368352,
          540.3011518283441,
          541.5406147771005,
          542.6067800649993,
          543.1810446864455,
          543.2901842992138,
          543.0457740756958,
          542.6068542270266,
          542.0920274238368,
          541.5322456195621,
          540.8413346827601,
          539.9284880892333,
          538.8886912921862,
          537.8999027945083,
          537.4502045559867,
          538.5506942592655,
          541.5726382769255,
          545.3244199311912,
          548.3100033864309,
          550.0934622353292,
          551.0702832054036,
          551.6420468028468,
          551.965606619217,
          552.0304709632835,
          551.5717768834187,
          549.9578785692496,
          546.6775608386024,
          542.5207240797038,
          538.9733602640077,
          536.5621385035776,
          534.8899367628088,
          533.540625468054,
          532.4009633812321,
          531.480590706682,
          530.8330833006382,
          530.5663112178485,
          530.7478341564411,
          531.1791878998497,
          531.4933381624951,
          531.5237042801645,
          531.276417998006,
          530.7696902022542,
          530.0649648944593,
          529.2775986468239,
          528.5502283953525,
          528.0685674067822,
          527.9630912555366,
          528.1031274286552,
          528.1532618202083,
          527.9461919585141,
          527.5429173539386,
          527.0428201741676,
          526.4957286251587,
          525.8733572302814,
          525.0880638020282,
          523.7665681360285,
          521.541110284537,
          518.8121703901961,
          516.4464917950683,
          514.7216975540507,
          513.2462920905359,
          511.6550133890145,
          509.9714214336072,
          508.440609413962,
          507.2584143363829,
          506.5830678339315,
          506.49509143514763,
          506.7336856415192,
          506.85523541580795,
          506.6472752205143,
          506.03772017051807,
          505.0006734701631,
          503.7121256496181,
          502.4515861794422,
          501.39291473551924,
          500.60985519677916,
          500.12385783545096,
          499.8113602112809,
          499.4852702094152,
          499.08745557996156,
          498.69785411258977,
          498.47308267081803,
          498.42040177743456,
          498.3824959587202,
          498.222982687796,
          497.72911613456864
         ],
         "yaxis": "y"
        }
       ],
       "layout": {
        "legend": {
         "title": {
          "text": "variable"
         },
         "tracegroupgap": 0
        },
        "margin": {
         "t": 60
        },
        "template": {
         "data": {
          "bar": [
           {
            "error_x": {
             "color": "#2a3f5f"
            },
            "error_y": {
             "color": "#2a3f5f"
            },
            "marker": {
             "line": {
              "color": "#E5ECF6",
              "width": 0.5
             },
             "pattern": {
              "fillmode": "overlay",
              "size": 10,
              "solidity": 0.2
             }
            },
            "type": "bar"
           }
          ],
          "barpolar": [
           {
            "marker": {
             "line": {
              "color": "#E5ECF6",
              "width": 0.5
             },
             "pattern": {
              "fillmode": "overlay",
              "size": 10,
              "solidity": 0.2
             }
            },
            "type": "barpolar"
           }
          ],
          "carpet": [
           {
            "aaxis": {
             "endlinecolor": "#2a3f5f",
             "gridcolor": "white",
             "linecolor": "white",
             "minorgridcolor": "white",
             "startlinecolor": "#2a3f5f"
            },
            "baxis": {
             "endlinecolor": "#2a3f5f",
             "gridcolor": "white",
             "linecolor": "white",
             "minorgridcolor": "white",
             "startlinecolor": "#2a3f5f"
            },
            "type": "carpet"
           }
          ],
          "choropleth": [
           {
            "colorbar": {
             "outlinewidth": 0,
             "ticks": ""
            },
            "type": "choropleth"
           }
          ],
          "contour": [
           {
            "colorbar": {
             "outlinewidth": 0,
             "ticks": ""
            },
            "colorscale": [
             [
              0,
              "#0d0887"
             ],
             [
              0.1111111111111111,
              "#46039f"
             ],
             [
              0.2222222222222222,
              "#7201a8"
             ],
             [
              0.3333333333333333,
              "#9c179e"
             ],
             [
              0.4444444444444444,
              "#bd3786"
             ],
             [
              0.5555555555555556,
              "#d8576b"
             ],
             [
              0.6666666666666666,
              "#ed7953"
             ],
             [
              0.7777777777777778,
              "#fb9f3a"
             ],
             [
              0.8888888888888888,
              "#fdca26"
             ],
             [
              1,
              "#f0f921"
             ]
            ],
            "type": "contour"
           }
          ],
          "contourcarpet": [
           {
            "colorbar": {
             "outlinewidth": 0,
             "ticks": ""
            },
            "type": "contourcarpet"
           }
          ],
          "heatmap": [
           {
            "colorbar": {
             "outlinewidth": 0,
             "ticks": ""
            },
            "colorscale": [
             [
              0,
              "#0d0887"
             ],
             [
              0.1111111111111111,
              "#46039f"
             ],
             [
              0.2222222222222222,
              "#7201a8"
             ],
             [
              0.3333333333333333,
              "#9c179e"
             ],
             [
              0.4444444444444444,
              "#bd3786"
             ],
             [
              0.5555555555555556,
              "#d8576b"
             ],
             [
              0.6666666666666666,
              "#ed7953"
             ],
             [
              0.7777777777777778,
              "#fb9f3a"
             ],
             [
              0.8888888888888888,
              "#fdca26"
             ],
             [
              1,
              "#f0f921"
             ]
            ],
            "type": "heatmap"
           }
          ],
          "heatmapgl": [
           {
            "colorbar": {
             "outlinewidth": 0,
             "ticks": ""
            },
            "colorscale": [
             [
              0,
              "#0d0887"
             ],
             [
              0.1111111111111111,
              "#46039f"
             ],
             [
              0.2222222222222222,
              "#7201a8"
             ],
             [
              0.3333333333333333,
              "#9c179e"
             ],
             [
              0.4444444444444444,
              "#bd3786"
             ],
             [
              0.5555555555555556,
              "#d8576b"
             ],
             [
              0.6666666666666666,
              "#ed7953"
             ],
             [
              0.7777777777777778,
              "#fb9f3a"
             ],
             [
              0.8888888888888888,
              "#fdca26"
             ],
             [
              1,
              "#f0f921"
             ]
            ],
            "type": "heatmapgl"
           }
          ],
          "histogram": [
           {
            "marker": {
             "pattern": {
              "fillmode": "overlay",
              "size": 10,
              "solidity": 0.2
             }
            },
            "type": "histogram"
           }
          ],
          "histogram2d": [
           {
            "colorbar": {
             "outlinewidth": 0,
             "ticks": ""
            },
            "colorscale": [
             [
              0,
              "#0d0887"
             ],
             [
              0.1111111111111111,
              "#46039f"
             ],
             [
              0.2222222222222222,
              "#7201a8"
             ],
             [
              0.3333333333333333,
              "#9c179e"
             ],
             [
              0.4444444444444444,
              "#bd3786"
             ],
             [
              0.5555555555555556,
              "#d8576b"
             ],
             [
              0.6666666666666666,
              "#ed7953"
             ],
             [
              0.7777777777777778,
              "#fb9f3a"
             ],
             [
              0.8888888888888888,
              "#fdca26"
             ],
             [
              1,
              "#f0f921"
             ]
            ],
            "type": "histogram2d"
           }
          ],
          "histogram2dcontour": [
           {
            "colorbar": {
             "outlinewidth": 0,
             "ticks": ""
            },
            "colorscale": [
             [
              0,
              "#0d0887"
             ],
             [
              0.1111111111111111,
              "#46039f"
             ],
             [
              0.2222222222222222,
              "#7201a8"
             ],
             [
              0.3333333333333333,
              "#9c179e"
             ],
             [
              0.4444444444444444,
              "#bd3786"
             ],
             [
              0.5555555555555556,
              "#d8576b"
             ],
             [
              0.6666666666666666,
              "#ed7953"
             ],
             [
              0.7777777777777778,
              "#fb9f3a"
             ],
             [
              0.8888888888888888,
              "#fdca26"
             ],
             [
              1,
              "#f0f921"
             ]
            ],
            "type": "histogram2dcontour"
           }
          ],
          "mesh3d": [
           {
            "colorbar": {
             "outlinewidth": 0,
             "ticks": ""
            },
            "type": "mesh3d"
           }
          ],
          "parcoords": [
           {
            "line": {
             "colorbar": {
              "outlinewidth": 0,
              "ticks": ""
             }
            },
            "type": "parcoords"
           }
          ],
          "pie": [
           {
            "automargin": true,
            "type": "pie"
           }
          ],
          "scatter": [
           {
            "fillpattern": {
             "fillmode": "overlay",
             "size": 10,
             "solidity": 0.2
            },
            "type": "scatter"
           }
          ],
          "scatter3d": [
           {
            "line": {
             "colorbar": {
              "outlinewidth": 0,
              "ticks": ""
             }
            },
            "marker": {
             "colorbar": {
              "outlinewidth": 0,
              "ticks": ""
             }
            },
            "type": "scatter3d"
           }
          ],
          "scattercarpet": [
           {
            "marker": {
             "colorbar": {
              "outlinewidth": 0,
              "ticks": ""
             }
            },
            "type": "scattercarpet"
           }
          ],
          "scattergeo": [
           {
            "marker": {
             "colorbar": {
              "outlinewidth": 0,
              "ticks": ""
             }
            },
            "type": "scattergeo"
           }
          ],
          "scattergl": [
           {
            "marker": {
             "colorbar": {
              "outlinewidth": 0,
              "ticks": ""
             }
            },
            "type": "scattergl"
           }
          ],
          "scattermapbox": [
           {
            "marker": {
             "colorbar": {
              "outlinewidth": 0,
              "ticks": ""
             }
            },
            "type": "scattermapbox"
           }
          ],
          "scatterpolar": [
           {
            "marker": {
             "colorbar": {
              "outlinewidth": 0,
              "ticks": ""
             }
            },
            "type": "scatterpolar"
           }
          ],
          "scatterpolargl": [
           {
            "marker": {
             "colorbar": {
              "outlinewidth": 0,
              "ticks": ""
             }
            },
            "type": "scatterpolargl"
           }
          ],
          "scatterternary": [
           {
            "marker": {
             "colorbar": {
              "outlinewidth": 0,
              "ticks": ""
             }
            },
            "type": "scatterternary"
           }
          ],
          "surface": [
           {
            "colorbar": {
             "outlinewidth": 0,
             "ticks": ""
            },
            "colorscale": [
             [
              0,
              "#0d0887"
             ],
             [
              0.1111111111111111,
              "#46039f"
             ],
             [
              0.2222222222222222,
              "#7201a8"
             ],
             [
              0.3333333333333333,
              "#9c179e"
             ],
             [
              0.4444444444444444,
              "#bd3786"
             ],
             [
              0.5555555555555556,
              "#d8576b"
             ],
             [
              0.6666666666666666,
              "#ed7953"
             ],
             [
              0.7777777777777778,
              "#fb9f3a"
             ],
             [
              0.8888888888888888,
              "#fdca26"
             ],
             [
              1,
              "#f0f921"
             ]
            ],
            "type": "surface"
           }
          ],
          "table": [
           {
            "cells": {
             "fill": {
              "color": "#EBF0F8"
             },
             "line": {
              "color": "white"
             }
            },
            "header": {
             "fill": {
              "color": "#C8D4E3"
             },
             "line": {
              "color": "white"
             }
            },
            "type": "table"
           }
          ]
         },
         "layout": {
          "annotationdefaults": {
           "arrowcolor": "#2a3f5f",
           "arrowhead": 0,
           "arrowwidth": 1
          },
          "autotypenumbers": "strict",
          "coloraxis": {
           "colorbar": {
            "outlinewidth": 0,
            "ticks": ""
           }
          },
          "colorscale": {
           "diverging": [
            [
             0,
             "#8e0152"
            ],
            [
             0.1,
             "#c51b7d"
            ],
            [
             0.2,
             "#de77ae"
            ],
            [
             0.3,
             "#f1b6da"
            ],
            [
             0.4,
             "#fde0ef"
            ],
            [
             0.5,
             "#f7f7f7"
            ],
            [
             0.6,
             "#e6f5d0"
            ],
            [
             0.7,
             "#b8e186"
            ],
            [
             0.8,
             "#7fbc41"
            ],
            [
             0.9,
             "#4d9221"
            ],
            [
             1,
             "#276419"
            ]
           ],
           "sequential": [
            [
             0,
             "#0d0887"
            ],
            [
             0.1111111111111111,
             "#46039f"
            ],
            [
             0.2222222222222222,
             "#7201a8"
            ],
            [
             0.3333333333333333,
             "#9c179e"
            ],
            [
             0.4444444444444444,
             "#bd3786"
            ],
            [
             0.5555555555555556,
             "#d8576b"
            ],
            [
             0.6666666666666666,
             "#ed7953"
            ],
            [
             0.7777777777777778,
             "#fb9f3a"
            ],
            [
             0.8888888888888888,
             "#fdca26"
            ],
            [
             1,
             "#f0f921"
            ]
           ],
           "sequentialminus": [
            [
             0,
             "#0d0887"
            ],
            [
             0.1111111111111111,
             "#46039f"
            ],
            [
             0.2222222222222222,
             "#7201a8"
            ],
            [
             0.3333333333333333,
             "#9c179e"
            ],
            [
             0.4444444444444444,
             "#bd3786"
            ],
            [
             0.5555555555555556,
             "#d8576b"
            ],
            [
             0.6666666666666666,
             "#ed7953"
            ],
            [
             0.7777777777777778,
             "#fb9f3a"
            ],
            [
             0.8888888888888888,
             "#fdca26"
            ],
            [
             1,
             "#f0f921"
            ]
           ]
          },
          "colorway": [
           "#636efa",
           "#EF553B",
           "#00cc96",
           "#ab63fa",
           "#FFA15A",
           "#19d3f3",
           "#FF6692",
           "#B6E880",
           "#FF97FF",
           "#FECB52"
          ],
          "font": {
           "color": "#2a3f5f"
          },
          "geo": {
           "bgcolor": "white",
           "lakecolor": "white",
           "landcolor": "#E5ECF6",
           "showlakes": true,
           "showland": true,
           "subunitcolor": "white"
          },
          "hoverlabel": {
           "align": "left"
          },
          "hovermode": "closest",
          "mapbox": {
           "style": "light"
          },
          "paper_bgcolor": "white",
          "plot_bgcolor": "#E5ECF6",
          "polar": {
           "angularaxis": {
            "gridcolor": "white",
            "linecolor": "white",
            "ticks": ""
           },
           "bgcolor": "#E5ECF6",
           "radialaxis": {
            "gridcolor": "white",
            "linecolor": "white",
            "ticks": ""
           }
          },
          "scene": {
           "xaxis": {
            "backgroundcolor": "#E5ECF6",
            "gridcolor": "white",
            "gridwidth": 2,
            "linecolor": "white",
            "showbackground": true,
            "ticks": "",
            "zerolinecolor": "white"
           },
           "yaxis": {
            "backgroundcolor": "#E5ECF6",
            "gridcolor": "white",
            "gridwidth": 2,
            "linecolor": "white",
            "showbackground": true,
            "ticks": "",
            "zerolinecolor": "white"
           },
           "zaxis": {
            "backgroundcolor": "#E5ECF6",
            "gridcolor": "white",
            "gridwidth": 2,
            "linecolor": "white",
            "showbackground": true,
            "ticks": "",
            "zerolinecolor": "white"
           }
          },
          "shapedefaults": {
           "line": {
            "color": "#2a3f5f"
           }
          },
          "ternary": {
           "aaxis": {
            "gridcolor": "white",
            "linecolor": "white",
            "ticks": ""
           },
           "baxis": {
            "gridcolor": "white",
            "linecolor": "white",
            "ticks": ""
           },
           "bgcolor": "#E5ECF6",
           "caxis": {
            "gridcolor": "white",
            "linecolor": "white",
            "ticks": ""
           }
          },
          "title": {
           "x": 0.05
          },
          "xaxis": {
           "automargin": true,
           "gridcolor": "white",
           "linecolor": "white",
           "ticks": "",
           "title": {
            "standoff": 15
           },
           "zerolinecolor": "white",
           "zerolinewidth": 2
          },
          "yaxis": {
           "automargin": true,
           "gridcolor": "white",
           "linecolor": "white",
           "ticks": "",
           "title": {
            "standoff": 15
           },
           "zerolinecolor": "white",
           "zerolinewidth": 2
          }
         }
        },
        "xaxis": {
         "anchor": "y",
         "domain": [
          0,
          1
         ],
         "title": {
          "text": "index"
         }
        },
        "yaxis": {
         "anchor": "x",
         "domain": [
          0,
          1
         ],
         "title": {
          "text": "value"
         }
        }
       }
      }
     },
     "metadata": {},
     "output_type": "display_data"
    }
   ],
   "source": [
    "derived_df_0.incidence.plot()"
   ]
  },
  {
   "cell_type": "code",
   "execution_count": 16,
   "metadata": {},
   "outputs": [
    {
     "data": {
      "application/vnd.plotly.v1+json": {
       "config": {
        "plotlyServerURL": "https://plot.ly"
       },
       "data": [
        {
         "hovertemplate": "variable=percentage_latent<br>index=%{x}<br>value=%{y}<extra></extra>",
         "legendgroup": "percentage_latent",
         "line": {
          "color": "#636efa",
          "dash": "solid"
         },
         "marker": {
          "symbol": "circle"
         },
         "mode": "lines",
         "name": "percentage_latent",
         "showlegend": true,
         "type": "scattergl",
         "x": [
          1900,
          1900.1,
          1900.2,
          1900.3,
          1900.4,
          1900.5,
          1900.6,
          1900.7,
          1900.8,
          1900.9,
          1901,
          1901.1,
          1901.2,
          1901.3,
          1901.4,
          1901.5,
          1901.6,
          1901.7,
          1901.8,
          1901.9,
          1902,
          1902.1,
          1902.2,
          1902.3,
          1902.4,
          1902.5,
          1902.6,
          1902.7,
          1902.8,
          1902.9,
          1903,
          1903.1,
          1903.2,
          1903.3,
          1903.4,
          1903.5,
          1903.6,
          1903.7,
          1903.8,
          1903.9,
          1904,
          1904.1,
          1904.2,
          1904.3,
          1904.4,
          1904.5,
          1904.6,
          1904.7,
          1904.8,
          1904.9,
          1905,
          1905.1,
          1905.2,
          1905.3,
          1905.4,
          1905.5,
          1905.6,
          1905.7,
          1905.8,
          1905.9,
          1906,
          1906.1,
          1906.2,
          1906.3,
          1906.4,
          1906.5,
          1906.6,
          1906.7,
          1906.8,
          1906.9,
          1907,
          1907.1,
          1907.2,
          1907.3,
          1907.4,
          1907.5,
          1907.6,
          1907.7,
          1907.8,
          1907.9,
          1908,
          1908.1,
          1908.2,
          1908.3,
          1908.4,
          1908.5,
          1908.6,
          1908.7,
          1908.8,
          1908.9,
          1909,
          1909.1,
          1909.2,
          1909.3,
          1909.4,
          1909.5,
          1909.6,
          1909.7,
          1909.8,
          1909.9,
          1910,
          1910.1,
          1910.2,
          1910.3,
          1910.4,
          1910.5,
          1910.6,
          1910.7,
          1910.8,
          1910.9,
          1911,
          1911.1,
          1911.2,
          1911.3,
          1911.4,
          1911.5,
          1911.6,
          1911.7,
          1911.8,
          1911.9,
          1912,
          1912.1,
          1912.2,
          1912.3,
          1912.4,
          1912.5,
          1912.6,
          1912.7,
          1912.8,
          1912.9,
          1913,
          1913.1,
          1913.2,
          1913.3,
          1913.4,
          1913.5,
          1913.6,
          1913.7,
          1913.8,
          1913.9,
          1914,
          1914.1,
          1914.2,
          1914.3,
          1914.4,
          1914.5,
          1914.6,
          1914.7,
          1914.8,
          1914.9,
          1915,
          1915.1,
          1915.2,
          1915.3,
          1915.4,
          1915.5,
          1915.6,
          1915.7,
          1915.8,
          1915.9,
          1916,
          1916.1,
          1916.2,
          1916.3,
          1916.4,
          1916.5,
          1916.6,
          1916.7,
          1916.8,
          1916.9,
          1917,
          1917.1,
          1917.2,
          1917.3,
          1917.4,
          1917.5,
          1917.6,
          1917.7,
          1917.8,
          1917.9,
          1918,
          1918.1,
          1918.2,
          1918.3,
          1918.4,
          1918.5,
          1918.6,
          1918.7,
          1918.8,
          1918.9,
          1919,
          1919.1,
          1919.2,
          1919.3,
          1919.4,
          1919.5,
          1919.6,
          1919.7,
          1919.8,
          1919.9,
          1920,
          1920.1,
          1920.2,
          1920.3,
          1920.4,
          1920.5,
          1920.6,
          1920.7,
          1920.8,
          1920.9,
          1921,
          1921.1,
          1921.2,
          1921.3,
          1921.4,
          1921.5,
          1921.6,
          1921.7,
          1921.8,
          1921.9,
          1922,
          1922.1,
          1922.2,
          1922.3,
          1922.4,
          1922.5,
          1922.6,
          1922.7,
          1922.8,
          1922.9,
          1923,
          1923.1,
          1923.2,
          1923.3,
          1923.4,
          1923.5,
          1923.6,
          1923.7,
          1923.8,
          1923.9,
          1924,
          1924.1,
          1924.2,
          1924.3,
          1924.4,
          1924.5,
          1924.6,
          1924.7,
          1924.8,
          1924.9,
          1925,
          1925.1,
          1925.2,
          1925.3,
          1925.4,
          1925.5,
          1925.6,
          1925.7,
          1925.8,
          1925.9,
          1926,
          1926.1,
          1926.2,
          1926.3,
          1926.4,
          1926.5,
          1926.6,
          1926.7,
          1926.8,
          1926.9,
          1927,
          1927.1,
          1927.2,
          1927.3,
          1927.4,
          1927.5,
          1927.6,
          1927.7,
          1927.8,
          1927.9,
          1928,
          1928.1,
          1928.2,
          1928.3,
          1928.4,
          1928.5,
          1928.6,
          1928.7,
          1928.8,
          1928.9,
          1929,
          1929.1,
          1929.2,
          1929.3,
          1929.4,
          1929.5,
          1929.6,
          1929.7,
          1929.8,
          1929.9,
          1930,
          1930.1,
          1930.2,
          1930.3,
          1930.4,
          1930.5,
          1930.6,
          1930.7,
          1930.8,
          1930.9,
          1931,
          1931.1,
          1931.2,
          1931.3,
          1931.4,
          1931.5,
          1931.6,
          1931.7,
          1931.8,
          1931.9,
          1932,
          1932.1,
          1932.2,
          1932.3,
          1932.4,
          1932.5,
          1932.6,
          1932.7,
          1932.8,
          1932.9,
          1933,
          1933.1,
          1933.2,
          1933.3,
          1933.4,
          1933.5,
          1933.6,
          1933.7,
          1933.8,
          1933.9,
          1934,
          1934.1,
          1934.2,
          1934.3,
          1934.4,
          1934.5,
          1934.6,
          1934.7,
          1934.8,
          1934.9,
          1935,
          1935.1,
          1935.2,
          1935.3,
          1935.4,
          1935.5,
          1935.6,
          1935.7,
          1935.8,
          1935.9,
          1936,
          1936.1,
          1936.2,
          1936.3,
          1936.4,
          1936.5,
          1936.6,
          1936.7,
          1936.8,
          1936.9,
          1937,
          1937.1,
          1937.2,
          1937.3,
          1937.4,
          1937.5,
          1937.6,
          1937.7,
          1937.8,
          1937.9,
          1938,
          1938.1,
          1938.2,
          1938.3,
          1938.4,
          1938.5,
          1938.6,
          1938.7,
          1938.8,
          1938.9,
          1939,
          1939.1,
          1939.2,
          1939.3,
          1939.4,
          1939.5,
          1939.6,
          1939.7,
          1939.8,
          1939.9,
          1940,
          1940.1,
          1940.2,
          1940.3,
          1940.4,
          1940.5,
          1940.6,
          1940.7,
          1940.8,
          1940.9,
          1941,
          1941.1,
          1941.2,
          1941.3,
          1941.4,
          1941.5,
          1941.6,
          1941.7,
          1941.8,
          1941.9,
          1942,
          1942.1,
          1942.2,
          1942.3,
          1942.4,
          1942.5,
          1942.6,
          1942.7,
          1942.8,
          1942.9,
          1943,
          1943.1,
          1943.2,
          1943.3,
          1943.4,
          1943.5,
          1943.6,
          1943.7,
          1943.8,
          1943.9,
          1944,
          1944.1,
          1944.2,
          1944.3,
          1944.4,
          1944.5,
          1944.6,
          1944.7,
          1944.8,
          1944.9,
          1945,
          1945.1,
          1945.2,
          1945.3,
          1945.4,
          1945.5,
          1945.6,
          1945.7,
          1945.8,
          1945.9,
          1946,
          1946.1,
          1946.2,
          1946.3,
          1946.4,
          1946.5,
          1946.6,
          1946.7,
          1946.8,
          1946.9,
          1947,
          1947.1,
          1947.2,
          1947.3,
          1947.4,
          1947.5,
          1947.6,
          1947.7,
          1947.8,
          1947.9,
          1948,
          1948.1,
          1948.2,
          1948.3,
          1948.4,
          1948.5,
          1948.6,
          1948.7,
          1948.8,
          1948.9,
          1949,
          1949.1,
          1949.2,
          1949.3,
          1949.4,
          1949.5,
          1949.6,
          1949.7,
          1949.8,
          1949.9,
          1950,
          1950.1,
          1950.2,
          1950.3,
          1950.4,
          1950.5,
          1950.6,
          1950.7,
          1950.8,
          1950.9,
          1951,
          1951.1,
          1951.2,
          1951.3,
          1951.4,
          1951.5,
          1951.6,
          1951.7,
          1951.8,
          1951.9,
          1952,
          1952.1,
          1952.2,
          1952.3,
          1952.4,
          1952.5,
          1952.6,
          1952.7,
          1952.8,
          1952.9,
          1953,
          1953.1,
          1953.2,
          1953.3,
          1953.4,
          1953.5,
          1953.6,
          1953.7,
          1953.8,
          1953.9,
          1954,
          1954.1,
          1954.2,
          1954.3,
          1954.4,
          1954.5,
          1954.6,
          1954.7,
          1954.8,
          1954.9,
          1955,
          1955.1,
          1955.2,
          1955.3,
          1955.4,
          1955.5,
          1955.6,
          1955.7,
          1955.8,
          1955.9,
          1956,
          1956.1,
          1956.2,
          1956.3,
          1956.4,
          1956.5,
          1956.6,
          1956.7,
          1956.8,
          1956.9,
          1957,
          1957.1,
          1957.2,
          1957.3,
          1957.4,
          1957.5,
          1957.6,
          1957.7,
          1957.8,
          1957.9,
          1958,
          1958.1,
          1958.2,
          1958.3,
          1958.4,
          1958.5,
          1958.6,
          1958.7,
          1958.8,
          1958.9,
          1959,
          1959.1,
          1959.2,
          1959.3,
          1959.4,
          1959.5,
          1959.6,
          1959.7,
          1959.8,
          1959.9,
          1960,
          1960.1,
          1960.2,
          1960.3,
          1960.4,
          1960.5,
          1960.6,
          1960.7,
          1960.8,
          1960.9,
          1961,
          1961.1,
          1961.2,
          1961.3,
          1961.4,
          1961.5,
          1961.6,
          1961.7,
          1961.8,
          1961.9,
          1962,
          1962.1,
          1962.2,
          1962.3,
          1962.4,
          1962.5,
          1962.6,
          1962.7,
          1962.8,
          1962.9,
          1963,
          1963.1,
          1963.2,
          1963.3,
          1963.4,
          1963.5,
          1963.6,
          1963.7,
          1963.8,
          1963.9,
          1964,
          1964.1,
          1964.2,
          1964.3,
          1964.4,
          1964.5,
          1964.6,
          1964.7,
          1964.8,
          1964.9,
          1965,
          1965.1,
          1965.2,
          1965.3,
          1965.4,
          1965.5,
          1965.6,
          1965.7,
          1965.8,
          1965.9,
          1966,
          1966.1,
          1966.2,
          1966.3,
          1966.4,
          1966.5,
          1966.6,
          1966.7,
          1966.8,
          1966.9,
          1967,
          1967.1,
          1967.2,
          1967.3,
          1967.4,
          1967.5,
          1967.6,
          1967.7,
          1967.8,
          1967.9,
          1968,
          1968.1,
          1968.2,
          1968.3,
          1968.4,
          1968.5,
          1968.6,
          1968.7,
          1968.8,
          1968.9,
          1969,
          1969.1,
          1969.2,
          1969.3,
          1969.4,
          1969.5,
          1969.6,
          1969.7,
          1969.8,
          1969.9,
          1970,
          1970.1,
          1970.2,
          1970.3,
          1970.4,
          1970.5,
          1970.6,
          1970.7,
          1970.8,
          1970.9,
          1971,
          1971.1,
          1971.2,
          1971.3,
          1971.4,
          1971.5,
          1971.6,
          1971.7,
          1971.8,
          1971.9,
          1972,
          1972.1,
          1972.2,
          1972.3,
          1972.4,
          1972.5,
          1972.6,
          1972.7,
          1972.8,
          1972.9,
          1973,
          1973.1,
          1973.2,
          1973.3,
          1973.4,
          1973.5,
          1973.6,
          1973.7,
          1973.8,
          1973.9,
          1974,
          1974.1,
          1974.2,
          1974.3,
          1974.4,
          1974.5,
          1974.6,
          1974.7,
          1974.8,
          1974.9,
          1975,
          1975.1,
          1975.2,
          1975.3,
          1975.4,
          1975.5,
          1975.6,
          1975.7,
          1975.8,
          1975.9,
          1976,
          1976.1,
          1976.2,
          1976.3,
          1976.4,
          1976.5,
          1976.6,
          1976.7,
          1976.8,
          1976.9,
          1977,
          1977.1,
          1977.2,
          1977.3,
          1977.4,
          1977.5,
          1977.6,
          1977.7,
          1977.8,
          1977.9,
          1978,
          1978.1,
          1978.2,
          1978.3,
          1978.4,
          1978.5,
          1978.6,
          1978.7,
          1978.8,
          1978.9,
          1979,
          1979.1,
          1979.2,
          1979.3,
          1979.4,
          1979.5,
          1979.6,
          1979.7,
          1979.8,
          1979.9,
          1980,
          1980.1,
          1980.2,
          1980.3,
          1980.4,
          1980.5,
          1980.6,
          1980.7,
          1980.8,
          1980.9,
          1981,
          1981.1,
          1981.2,
          1981.3,
          1981.4,
          1981.5,
          1981.6,
          1981.7,
          1981.8,
          1981.9,
          1982,
          1982.1,
          1982.2,
          1982.3,
          1982.4,
          1982.5,
          1982.6,
          1982.7,
          1982.8,
          1982.9,
          1983,
          1983.1,
          1983.2,
          1983.3,
          1983.4,
          1983.5,
          1983.6,
          1983.7,
          1983.8,
          1983.9,
          1984,
          1984.1,
          1984.2,
          1984.3,
          1984.4,
          1984.5,
          1984.6,
          1984.7,
          1984.8,
          1984.9,
          1985,
          1985.1,
          1985.2,
          1985.3,
          1985.4,
          1985.5,
          1985.6,
          1985.7,
          1985.8,
          1985.9,
          1986,
          1986.1,
          1986.2,
          1986.3,
          1986.4,
          1986.5,
          1986.6,
          1986.7,
          1986.8,
          1986.9,
          1987,
          1987.1,
          1987.2,
          1987.3,
          1987.4,
          1987.5,
          1987.6,
          1987.7,
          1987.8,
          1987.9,
          1988,
          1988.1,
          1988.2,
          1988.3,
          1988.4,
          1988.5,
          1988.6,
          1988.7,
          1988.8,
          1988.9,
          1989,
          1989.1,
          1989.2,
          1989.3,
          1989.4,
          1989.5,
          1989.6,
          1989.7,
          1989.8,
          1989.9,
          1990,
          1990.1,
          1990.2,
          1990.3,
          1990.4,
          1990.5,
          1990.6,
          1990.7,
          1990.8,
          1990.9,
          1991,
          1991.1,
          1991.2,
          1991.3,
          1991.4,
          1991.5,
          1991.6,
          1991.7,
          1991.8,
          1991.9,
          1992,
          1992.1,
          1992.2,
          1992.3,
          1992.4,
          1992.5,
          1992.6,
          1992.7,
          1992.8,
          1992.9,
          1993,
          1993.1,
          1993.2,
          1993.3,
          1993.4,
          1993.5,
          1993.6,
          1993.7,
          1993.8,
          1993.9,
          1994,
          1994.1,
          1994.2,
          1994.3,
          1994.4,
          1994.5,
          1994.6,
          1994.7,
          1994.8,
          1994.9,
          1995,
          1995.1,
          1995.2,
          1995.3,
          1995.4,
          1995.5,
          1995.6,
          1995.7,
          1995.8,
          1995.9,
          1996,
          1996.1,
          1996.2,
          1996.3,
          1996.4,
          1996.5,
          1996.6,
          1996.7,
          1996.8,
          1996.9,
          1997,
          1997.1,
          1997.2,
          1997.3,
          1997.4,
          1997.5,
          1997.6,
          1997.7,
          1997.8,
          1997.9,
          1998,
          1998.1,
          1998.2,
          1998.3,
          1998.4,
          1998.5,
          1998.6,
          1998.7,
          1998.8,
          1998.9,
          1999,
          1999.1,
          1999.2,
          1999.3,
          1999.4,
          1999.5,
          1999.6,
          1999.7,
          1999.8,
          1999.9,
          2000,
          2000.1,
          2000.2,
          2000.3,
          2000.4,
          2000.5,
          2000.6,
          2000.7,
          2000.8,
          2000.9,
          2001,
          2001.1,
          2001.2,
          2001.3,
          2001.4,
          2001.5,
          2001.6,
          2001.7,
          2001.8,
          2001.9,
          2002,
          2002.1,
          2002.2,
          2002.3,
          2002.4,
          2002.5,
          2002.6,
          2002.7,
          2002.8,
          2002.9,
          2003,
          2003.1,
          2003.2,
          2003.3,
          2003.4,
          2003.5,
          2003.6,
          2003.7,
          2003.8,
          2003.9,
          2004,
          2004.1,
          2004.2,
          2004.3,
          2004.4,
          2004.5,
          2004.6,
          2004.7,
          2004.8,
          2004.9,
          2005,
          2005.1,
          2005.2,
          2005.3,
          2005.4,
          2005.5,
          2005.6,
          2005.7,
          2005.8,
          2005.9,
          2006,
          2006.1,
          2006.2,
          2006.3,
          2006.4,
          2006.5,
          2006.6,
          2006.7,
          2006.8,
          2006.9,
          2007,
          2007.1,
          2007.2,
          2007.3,
          2007.4,
          2007.5,
          2007.6,
          2007.7,
          2007.8,
          2007.9,
          2008,
          2008.1,
          2008.2,
          2008.3,
          2008.4,
          2008.5,
          2008.6,
          2008.7,
          2008.8,
          2008.9,
          2009,
          2009.1,
          2009.2,
          2009.3,
          2009.4,
          2009.5,
          2009.6,
          2009.7,
          2009.8,
          2009.9,
          2010,
          2010.1,
          2010.2,
          2010.3,
          2010.4,
          2010.5,
          2010.6,
          2010.7,
          2010.8,
          2010.9,
          2011,
          2011.1,
          2011.2,
          2011.3,
          2011.4,
          2011.5,
          2011.6,
          2011.7,
          2011.8,
          2011.9,
          2012,
          2012.1,
          2012.2,
          2012.3,
          2012.4,
          2012.5,
          2012.6,
          2012.7,
          2012.8,
          2012.9,
          2013,
          2013.1,
          2013.2,
          2013.3,
          2013.4,
          2013.5,
          2013.6,
          2013.7,
          2013.8,
          2013.9,
          2014,
          2014.1,
          2014.2,
          2014.3,
          2014.4,
          2014.5,
          2014.6,
          2014.7,
          2014.8,
          2014.9,
          2015,
          2015.1,
          2015.2,
          2015.3,
          2015.4,
          2015.5,
          2015.6,
          2015.7,
          2015.8,
          2015.9,
          2016,
          2016.1,
          2016.2,
          2016.3,
          2016.4,
          2016.5,
          2016.6,
          2016.7,
          2016.8,
          2016.9,
          2017,
          2017.1,
          2017.2,
          2017.3,
          2017.4,
          2017.5,
          2017.6,
          2017.7,
          2017.8,
          2017.9,
          2018,
          2018.1,
          2018.2,
          2018.3,
          2018.4,
          2018.5,
          2018.6,
          2018.7,
          2018.8,
          2018.9,
          2019,
          2019.1,
          2019.2,
          2019.3,
          2019.4,
          2019.5,
          2019.6,
          2019.7,
          2019.8,
          2019.9,
          2020
         ],
         "xaxis": "x",
         "y": [
          0,
          1.7053401246943385,
          3.2164439325181733,
          4.591784738619612,
          5.869420273769748,
          7.074554812872091,
          8.223940307997058,
          9.329085903743172,
          10.39771899147286,
          11.43536478301052,
          12.445637467140331,
          13.431359618634527,
          14.394305434570326,
          15.335765556017494,
          16.256860454211587,
          17.158235005321753,
          18.04032531046397,
          18.903582835344736,
          19.748433692141216,
          20.57507361427362,
          21.383659432159178,
          22.174385664826104,
          22.94748282828879,
          23.703191666863994,
          24.441642826691027,
          25.162987036592313,
          25.867396368661282,
          26.55505874410364,
          27.226177877683533,
          27.880973159883872,
          28.51964030129325,
          29.142388988215945,
          29.74945309883578,
          30.34105349198815,
          30.91739795730248,
          31.47869216835052,
          32.025203979705374,
          32.55721085203043,
          33.074964927398675,
          33.578692910476015,
          34.068596946284046,
          34.544932150546245,
          35.00800426657011,
          35.45808146519831,
          35.89540237077503,
          36.32017851289229,
          36.73266957808945,
          37.1331658729423,
          37.52192845424523,
          37.89919386584365,
          38.26517581184942,
          38.62012239668753,
          38.96431260489931,
          39.29799995056744,
          39.62141302102612,
          39.93475549244196,
          40.238239849382786,
          40.53213651131756,
          40.81669425867448,
          41.092133133085774,
          41.35864448312192,
          41.61640100783441,
          41.86564302525424,
          42.106618842593456,
          42.33954199306636,
          42.56459286163784,
          42.781919472645264,
          42.99171575967164,
          43.194217208124854,
          43.38961837455145,
          43.57808646927753,
          43.75976548583034,
          43.93484066225205,
          44.10350392728943,
          44.265924521234545,
          44.422254066378606,
          44.572630701624604,
          44.71721965189444,
          44.85618942130344,
          44.98969241219617,
          45.117865948811634,
          45.24083240327671,
          45.358722066059606,
          45.47169451471166,
          45.579895525692905,
          45.68345264339412,
          45.782475247477386,
          45.87705725797289,
          45.96733173431189,
          46.0534404797551,
          46.13550168338518,
          46.21361517264015,
          46.28786587793037,
          46.35836934695752,
          46.425244590047775,
          46.488594736636784,
          46.54851015258774,
          46.60506994252163,
          46.65837113094395,
          46.708519227397694,
          46.755607453007464,
          46.79971780733534,
          46.840921120881674,
          46.87928755108674,
          46.91491453061257,
          46.947893002478885,
          46.97830034361373,
          47.00620049682655,
          47.03164440373995,
          47.054703980808114,
          47.07546997247811,
          47.094014835558326,
          47.11039746952028,
          47.12466377310124,
          47.136875669853666,
          47.14710865898341,
          47.15542536938428,
          47.161878985150864,
          47.16651338084979,
          47.16937954024256,
          47.17054319156438,
          47.1700613547683,
          47.167982724334856,
          47.164347718524944,
          47.15919173206411,
          47.15257021827812,
          47.14454138860929,
          47.13515295878,
          47.124442391000194,
          47.11243695926954,
          47.099168328792196,
          47.08469598958613,
          47.069066280787304,
          47.05231467339427,
          47.03446602317557,
          47.01554729445186,
          46.995607632959235,
          46.974686512826096,
          46.952815741125185,
          46.93001961653586,
          46.90632098553428,
          46.881760346933376,
          46.85637435484426,
          46.83019265824095,
          46.80323812885436,
          46.775527346974464,
          46.74708771935915,
          46.71795845319077,
          46.68817065831787,
          46.657746830730694,
          46.62670091375218,
          46.59504286989776,
          46.56280860492631,
          46.530030951468184,
          46.496732318734196,
          46.462926098010726,
          46.428620581808495,
          46.39384484507648,
          46.35862627011154,
          46.32298465566704,
          46.286933332144784,
          46.25048066093536,
          46.21364841304259,
          46.176462125457334,
          46.138940796423135,
          46.10109747856221,
          46.06293932337143,
          46.02447568389864,
          45.98573304420207,
          45.94673341977414,
          45.907491162956546,
          45.8680130258109,
          45.82829889634827,
          45.788365650096345,
          45.74823917549887,
          45.70793491075581,
          45.66746022213359,
          45.6268149872422,
          45.58601187786532,
          45.54507207410351,
          45.50400891882688,
          45.4628298666014,
          45.4215365975661,
          45.380136792027095,
          45.33864939341854,
          45.297087751610384,
          45.25545972467989,
          45.21376772205199,
          45.17201129938822,
          45.130205799860086,
          45.08836875781519,
          45.04651047272214,
          45.00463420547325,
          44.96273623447755,
          44.92081833355123,
          44.87890204299188,
          44.836999514565505,
          44.79511536782131,
          44.753246785416245,
          44.71139350758884,
          44.66957266993182,
          44.627794548127476,
          44.586063794302916,
          44.54437954014124,
          44.50274001264993,
          44.46115837454209,
          44.41964548871545,
          44.37820681181218,
          44.33684259731056,
          44.29554830666716,
          44.25432892683623,
          44.21319952603524,
          44.172168822312294,
          44.13123883496711,
          44.090404939220164,
          44.049660214148076,
          44.0090194205372,
          43.968494444102284,
          43.92808916069875,
          43.88780035538665,
          43.84762085731645,
          43.807561253974406,
          43.7676315601227,
          43.72783551517182,
          43.68817149508464,
          43.648633564967106,
          43.609227411667675,
          43.56996343464416,
          43.53084641524337,
          43.491876038182376,
          43.45304693370674,
          43.41435557095365,
          43.375814242905136,
          43.33743164295595,
          43.29920993810795,
          43.26114483594495,
          43.22322632006507,
          43.18545966681429,
          43.14785798394116,
          43.11042564185263,
          43.073160120995006,
          43.03605239872463,
          42.999104266535085,
          42.962326638873755,
          42.92572350344343,
          42.88929355275595,
          42.853030237643075,
          42.816931406236904,
          42.781007082366166,
          42.74526242519724,
          42.70969753475981,
          42.674307494180916,
          42.639084408505724,
          42.604034953452306,
          42.569168871036226,
          42.5344893219749,
          42.49999311452514,
          42.46567075771653,
          42.4315154096315,
          42.39754154077323,
          42.363758891325276,
          42.33016822193399,
          42.29676140651893,
          42.26352269811842,
          42.23045927119326,
          42.197584963834174,
          42.16490187276525,
          42.13240422386724,
          42.100081541730056,
          42.06794099743938,
          42.03598838935631,
          42.00422402973424,
          41.97264395214583,
          41.94124217639802,
          41.910023275341345,
          41.878992010691455,
          41.84814932163277,
          41.81749254892077,
          41.78701547126121,
          41.756714352553345,
          41.726598053961624,
          41.69667265342176,
          41.666938374145886,
          41.637389633839554,
          41.60801510276811,
          41.57881320429849,
          41.54979752626259,
          41.52097157671251,
          41.49233184744917,
          41.463868153925915,
          41.4355801852528,
          41.40747602135375,
          41.3795573838654,
          41.351821622432006,
          41.32426184505779,
          41.29687626485144,
          41.26967160601264,
          41.24265063761022,
          41.21581204050812,
          41.189150441827245,
          41.16265767096863,
          41.136337466224504,
          41.11019886422496,
          41.08424471519694,
          41.05847155247316,
          41.03286964578952,
          41.00742847115571,
          40.98216045954906,
          40.95707252746594,
          40.932163651376925,
          40.90742578885337,
          40.882850547784315,
          40.85844664106862,
          40.83421768083739,
          40.810162538111996,
          40.786275652697476,
          40.76255045551589,
          40.738992396672636,
          40.715605807441115,
          40.69239077290536,
          40.66934329011379,
          40.64645537529696,
          40.623724350248644,
          40.60115962868599,
          40.57876612583011,
          40.55654253416459,
          40.534481375879736,
          40.51256993312863,
          40.490812794655085,
          40.469220688543345,
          40.447795073433,
          40.42653048012987,
          40.40541589887913,
          40.3844547169779,
          40.36365352540777,
          40.34301291943524,
          40.32252896271879,
          40.30219373363388,
          40.28200773712463,
          40.26197725891511,
          40.24210406879704,
          40.22238571220159,
          40.20281554582656,
          40.18338596565452,
          40.164103779807675,
          40.144976301589644,
          40.126004576070265,
          40.10718346050473,
          40.08850167654534,
          40.06995365160738,
          40.0515527431787,
          40.033303015721735,
          40.01520158843485,
          39.997238738752515,
          39.979409612162996,
          39.96172323930656,
          39.944182062936854,
          39.9267838983483,
          39.909521972373945,
          39.892390930963565,
          39.875397529951655,
          39.858545333767346,
          39.84183356233834,
          39.825257142959344,
          39.80880727018896,
          39.79248475860932,
          39.77629879198297,
          39.760252773970954,
          39.74434391137927,
          39.7285632663113,
          39.71289939492926,
          39.69736219195895,
          39.681959356788724,
          39.66669060827837,
          39.651548851563255,
          39.636523811231775,
          39.621622406656904,
          39.60684976308108,
          39.592205551918916,
          39.577684764270465,
          39.563279228788986,
          39.54899221296124,
          39.53482949023126,
          39.520792067666875,
          39.50687655479627,
          39.493075200611216,
          39.47938245881589,
          39.4658072680632,
          39.452355440715,
          39.43902657313928,
          39.42581409863386,
          39.41270567404785,
          39.39970268035185,
          39.38681652884095,
          39.374049548668225,
          39.361397274875664,
          39.34884886496222,
          39.336404217048056,
          39.32407150300308,
          39.31185234204518,
          39.2997435474195,
          39.28773721797917,
          39.27583056034384,
          39.26403086062585,
          39.25234098787021,
          39.24075932925153,
          39.229279827674716,
          39.21789375209565,
          39.20660571526591,
          39.19542397720566,
          39.18435054580783,
          39.173381260371656,
          39.16250584338336,
          39.151716399577026,
          39.14102555378473,
          39.130438471975445,
          39.119953323740354,
          39.10956156434529,
          39.099255246086244,
          39.08904351142134,
          39.07893016372226,
          39.06891398212069,
          39.058988941969275,
          39.04914748903322,
          39.03939542801629,
          39.02973778831011,
          39.02017481813566,
          39.010702227444966,
          39.00131133830033,
          38.991999997103036,
          38.982777788328804,
          38.97364917135311,
          38.96461242674885,
          38.95565970800445,
          38.94677908159737,
          38.937977664292944,
          38.929264470434184,
          38.92064032869668,
          38.91209937319447,
          38.90363064969831,
          38.89523829971364,
          38.88692926329368,
          38.878704335389166,
          38.87055944157571,
          38.86248609267982,
          38.85448451885843,
          38.84656189876807,
          38.83872042131253,
          38.83095767177379,
          38.823266670331286,
          38.815639735477596,
          38.80808442393465,
          38.800607747075524,
          38.793210476922475,
          38.78588727112713,
          38.778626742007,
          38.7714262789345,
          38.76429811882113,
          38.75724579158698,
          38.750266165402806,
          38.74334950307359,
          38.73649136287619,
          38.729701210392605,
          38.72298193935528,
          38.71633152844132,
          38.70974308234054,
          38.70321039709268,
          38.696740823566614,
          38.69033862208381,
          38.68400335186393,
          38.67772996899016,
          38.67150940875543,
          38.66534271703258,
          38.65923912020512,
          38.653201942390965,
          38.64722843518866,
          38.64130982839036,
          38.635435791026254,
          38.62961658145641,
          38.62385922969963,
          38.61816343021144,
          38.61252232498353,
          38.60692563688379,
          38.60138006845737,
          38.5958914931045,
          38.59046006231956,
          38.585081038266146,
          38.57974577500887,
          38.57445656730993,
          38.56922015411494,
          38.56403817053825,
          38.55890765238253,
          38.553821074539094,
          38.5487720881368,
          38.54376936991052,
          38.53881889233625,
          38.53392062131768,
          38.52906859042956,
          38.52425121748739,
          38.5194691596956,
          38.514733426357296,
          38.510046683055954,
          38.50540513384402,
          38.5007986403681,
          38.496224720492805,
          38.49169238968657,
          38.48720411467554,
          38.482757503817815,
          38.47834534761694,
          38.473962103324844,
          38.46961532194408,
          38.465308839027735,
          38.46104193140097,
          38.45680938095142,
          38.45260222724795,
          38.44842223975748,
          38.4442780338306,
          38.44017243510896,
          38.4361025004068,
          38.43205956579894,
          38.4280339500313,
          38.424035680124064,
          38.42007118718823,
          38.41614000026627,
          38.412235389805396,
          38.408347036503706,
          38.404480086794344,
          38.400639179005864,
          38.39682321135729,
          38.39302616490478,
          38.38923771506666,
          38.38545651154151,
          38.381686107636085,
          38.37792333539645,
          38.37415860620765,
          38.37037596591947,
          38.36655596640473,
          38.36269001204123,
          38.358762907567694,
          38.35474327424967,
          38.35058366297123,
          38.3462207084974,
          38.341582120849985,
          38.33658727967303,
          38.33112944454587,
          38.32507554163224,
          38.31826646247876,
          38.31051965146881,
          38.30167984926352,
          38.291616109721836,
          38.280242557132176,
          38.26753015098485,
          38.25350645079886,
          38.238276531828866,
          38.222005672650624,
          38.204860326156705,
          38.18700355844539,
          38.168594581459026,
          38.149776530110096,
          38.13066649067403,
          38.11135896212525,
          38.091925995684626,
          38.072417485303504,
          38.05286547173541,
          38.03330571105385,
          38.01376637346357,
          37.99426581452886,
          37.974813080978116,
          37.955408026948135,
          37.936046671270645,
          37.91674353827596,
          37.89750721123757,
          37.87833883514174,
          37.85923291277027,
          37.84018047005384,
          37.82118805453503,
          37.802261139098896,
          37.7834000200542,
          37.76460053244715,
          37.74585484958582,
          37.727163926973056,
          37.70853203757808,
          37.68996009742149,
          37.67144640275011,
          37.6529866591881,
          37.634575560962716,
          37.61621808912031,
          37.59792203864825,
          37.57969257655614,
          37.56153234042658,
          37.54344146602275,
          37.525419439404764,
          37.50748480362921,
          37.489660554800636,
          37.47196673853762,
          37.45442169737425,
          37.437042996890455,
          37.419862778487364,
          37.40291708468926,
          37.38622908800455,
          37.369809085332975,
          37.35365486737011,
          37.33775925499006,
          37.32210434318338,
          37.30666403675912,
          37.29140741881275,
          37.27629880559821,
          37.261299723282974,
          37.24638760689269,
          37.231547092964,
          37.216762216476646,
          37.20201680683942,
          37.18729449028968,
          37.17258021377722,
          37.15787331597546,
          37.143175138607084,
          37.128482564967264,
          37.11378854822637,
          37.099082557256544,
          37.084363770907785,
          37.06963743107334,
          37.05490396900177,
          37.04016001770793,
          37.02539845434142,
          37.01061356680057,
          36.9958115518848,
          36.9809959511432,
          36.9661663112176,
          36.95131825725747,
          36.93644391499309,
          36.921544372608494,
          36.90662846424517,
          36.891700488569235,
          36.876760364999804,
          36.86180368091774,
          36.84682606654848,
          36.83184225556113,
          36.816865832475216,
          36.801908453153835,
          36.78698053688923,
          36.772094538950874,
          36.75728442338082,
          36.742591503389434,
          36.72806381105957,
          36.71375686569219,
          36.69973331827121,
          36.68607565265008,
          36.672885788802716,
          36.66024751802907,
          36.648223417552195,
          36.63685511944665,
          36.62616241504418,
          36.61612263043945,
          36.60668246937432,
          36.59776844957092,
          36.58928711513046,
          36.58112946029118,
          36.57321547953653,
          36.56548088540962,
          36.55786561797799,
          36.5503154031498,
          36.54278168430532,
          36.53523049625332,
          36.52765184992732,
          36.520035038343,
          36.512365733300236,
          36.5046260195384,
          36.496797823466196,
          36.48888616753772,
          36.48089450726662,
          36.472819666348215,
          36.46465324520773,
          36.45638704804715,
          36.44802719286713,
          36.43957572796058,
          36.431031006925835,
          36.422387954733246,
          36.41364242217341,
          36.40479950807015,
          36.395862209429204,
          36.38683059277406,
          36.377701841165546,
          36.36847088633951,
          36.35914055535639,
          36.34971889399975,
          36.340210393016065,
          36.330615842597624,
          36.320932366066664,
          36.31115815580066,
          36.30130917574462,
          36.29139939534123,
          36.28144069958906,
          36.27144336416273,
          36.26142148149264,
          36.25140802001956,
          36.24143717875696,
          36.23154225962327,
          36.2217557730416,
          36.21211043897923,
          36.20264340322271,
          36.19338068341241,
          36.18432963830465,
          36.175479153479046,
          36.16680093254273,
          36.15826619059348,
          36.14984403552349,
          36.14150056467478,
          36.13320040835658,
          36.12490672744931,
          36.116587883994505,
          36.108234292524166,
          36.09983716719129,
          36.091384887034,
          36.08286306101105,
          36.074255604401905,
          36.06556331658112,
          36.05679166559129,
          36.0479399068552,
          36.039002672172735,
          36.02997150137455,
          36.02085032906083,
          36.011644452517814,
          36.00235482113345,
          35.99297892416468,
          35.98351165158176,
          35.97395612917209,
          35.964319113857194,
          35.954603884616645,
          35.94481036281046,
          35.93493514296237,
          35.92497767369166,
          35.914948306106595,
          35.90485549544165,
          35.894704451209165,
          35.884497165647446,
          35.87423331131394,
          35.86392816426391,
          35.85360407477438,
          35.843283303267924,
          35.832990185471715,
          35.82275203243796,
          35.812617448770474,
          35.80265253552554,
          35.79293629216245,
          35.78356249030722,
          35.77463911888317,
          35.76629197944566,
          35.7586814416152,
          35.75194530657601,
          35.74618679883439,
          35.74147484007695,
          35.73784224264625,
          35.73525060539898,
          35.73360791603116,
          35.73279700755788,
          35.7326761522813,
          35.73308082190781,
          35.73387149124843,
          35.73494301723673,
          35.73620056889059,
          35.73756238836935,
          35.73895967503229,
          35.74033981593884,
          35.741678554444256,
          35.74295860893703,
          35.74416160332432,
          35.74526810288913,
          35.74625832498092,
          35.747130399987945,
          35.74788937088786,
          35.74853397990658,
          35.74905876987849,
          35.74945547820251,
          35.74972779265832,
          35.74988070525487,
          35.749915221464796,
          35.749829331026625,
          35.74961903688205,
          35.749288314553645,
          35.74884308994109,
          35.748286442957685,
          35.74761888038728,
          35.74683835924237,
          35.745944663404266,
          35.74494735280075,
          35.74385524786031,
          35.74267469997588,
          35.741409613675785,
          35.740061516972105,
          35.73864248353251,
          35.737177306826304,
          35.73568976987713,
          35.73420578183478,
          35.73275343264074,
          35.731373879104844,
          35.73012784240655,
          35.72907600032261,
          35.72827737198737,
          35.72778932946243,
          35.7276653621785,
          35.72794426663187,
          35.72863932845595,
          35.72973673187366,
          35.73119579883984,
          35.7329525164626,
          35.73494637827118,
          35.7371167326682,
          35.739405665539735,
          35.74175928369159,
          35.7441276800815,
          35.746469944163614,
          35.74876822631677,
          35.75100841789866,
          35.75317513034275,
          35.75525173195918,
          35.757220662036104,
          35.759078614606636,
          35.76083031373194,
          35.76247438499981,
          35.76400562189773,
          35.765415971977774,
          35.766707473767525,
          35.76788395850523,
          35.76894576280819,
          35.769890738967554,
          35.77071490080269,
          35.77142024668835,
          35.77201107301909,
          35.77248936271269,
          35.772854954105306,
          35.773105559358946,
          35.773239296457305,
          35.773262843701104,
          35.773183068884975,
          35.773004310723884,
          35.7727284061366,
          35.77235471156447,
          35.771887244485605,
          35.7713447043589,
          35.77074350703526,
          35.77010098368921,
          35.76943546882408,
          35.76877436582775,
          35.76816310202491,
          35.76765234856992,
          35.76729895908618,
          35.767165917504556,
          35.76732064752424,
          35.767841205626276,
          35.76879184560823,
          35.77020859305382,
          35.7720994619083,
          35.77444543094559,
          35.7772060838113,
          35.78031735612731,
          35.783710119613914,
          35.7873135097967,
          35.7910549390878,
          35.794864450348975,
          35.798700446041124,
          35.80252924975266,
          35.806319974631656,
          35.810045256262946,
          35.8136825674371,
          35.81722334618579,
          35.82066237067432,
          35.823993242551865,
          35.82720867265515,
          35.83030093904006,
          35.83326948750103,
          35.836117396958635,
          35.83884519314399,
          35.841450964659956,
          35.843930382756604,
          35.846279634273486,
          35.84850440689127,
          35.85060966628712,
          35.85259674279641,
          35.854463374437294,
          35.856203851814385,
          35.85781995166822,
          35.859320662628,
          35.860710378209006,
          35.861990362159794,
          35.86315886058218,
          35.864220786821086,
          35.86518915214641,
          35.86607669907637,
          35.866897603998694,
          35.86766746596193,
          35.8684104338415,
          35.86916776862595,
          35.86999042141515,
          35.87094059129981,
          35.87209164001117,
          35.87352687591881,
          35.87535561811119,
          35.877711342547045,
          35.88070201241976,
          35.884406765864426,
          35.888876149633134,
          35.894129500944935,
          35.900128523994056,
          35.90679028004351,
          35.91399868781182,
          35.921605277762914,
          35.92946252713749,
          35.937444306888494,
          35.94543061665717,
          35.953310442417674,
          35.96098173841056,
          35.96836115077656,
          35.97538858536159,
          35.98200302500019,
          35.988139726431626,
          35.993730252148,
          35.998711977201715,
          36.00304411640973,
          36.006679652964,
          36.00955971463476,
          36.01161365631688,
          36.012769008963055,
          36.01298091683256,
          36.012195183013944,
          36.010348128992035,
          36.00736718973609,
          36.00318800593621,
          35.99776523786644,
          35.99098324486706,
          35.9826360678299,
          35.972239241470604,
          35.95942270601629,
          35.9446144778229,
          35.9282852304559,
          35.91051328784947,
          35.89127476649998,
          35.87056539454807,
          35.848388530832956,
          35.824769006429456,
          35.799746290775744,
          35.77336667711432,
          35.74571357758497,
          35.71692526646571,
          35.68717768771016,
          35.65667574783112,
          35.62565941038423,
          35.594398483659425,
          35.563174023587514,
          35.53229191833375,
          35.5018517992213,
          35.471807495838476,
          35.4422098464714,
          35.413223394688515,
          35.38497371772228,
          35.35734705501665,
          35.33012002270074,
          35.303069602133206,
          35.2759831892216,
          35.24868255423198,
          35.2209961210135,
          35.19272750777133,
          35.163745999921545,
          35.13410260315728,
          35.10387664366108,
          35.07308153414186,
          35.04171410999834,
          35.0097817366078,
          34.977302753098186,
          34.94430933398408,
          34.910934841270446,
          34.877424196348656,
          34.84400105300034,
          34.81041069859629,
          34.776414151874526,
          34.7419721085054,
          34.7071115362567,
          34.67186394578208,
          34.63625285221001,
          34.600286103688745,
          34.563899845416934,
          34.52686808225313,
          34.48904064665917,
          34.45069128713513,
          34.41209887581755,
          34.37334351729102,
          34.33443978204855,
          34.29540247670201,
          34.256246124865484,
          34.21699577127974,
          34.17769129296756,
          34.13839892190632,
          34.09918406183451,
          34.06006714282564,
          34.02106971014613,
          33.9822589508067,
          33.94372221886346,
          33.90555963051574,
          33.86787650222106,
          33.83078322295318,
          33.7943938009859,
          33.75890296673529,
          33.72437555312009,
          33.690685350408586,
          33.65765866006773,
          33.62505157127182,
          33.59241163003171,
          33.55938796681141,
          33.52613954258494,
          33.49301453219108,
          33.46004422725812,
          33.42720246274497,
          33.39444613732145,
          33.36174837998024,
          33.32908580719849,
          33.29644007179502,
          33.26379191080141,
          33.23114011588825,
          33.19850316306031,
          33.16589514238902,
          33.13329694237105,
          33.10065096133465,
          33.06791759058435,
          33.035146431815605,
          33.00237589515825,
          32.969536684073965,
          32.936375711826464,
          32.902689280289074,
          32.86868557143907,
          32.83460202305636,
          32.80049170708552,
          32.766302447054215,
          32.731986395000874,
          32.697609394095565,
          32.663231529525945,
          32.6288309799758,
          32.59428678046778,
          32.55951524479772,
          32.524615584662484,
          32.48971353443084,
          32.45486707162054,
          32.420134753536765,
          32.385561434872685,
          32.35108930433463,
          32.31668750865669,
          32.2824646113369,
          32.248765218436986,
          32.2158786116429,
          32.183468196509594,
          32.15117914119165,
          32.11889552682982,
          32.08658272010656,
          32.054233654601916,
          32.02186435590082,
          31.989477693547236,
          31.956932606763694,
          31.92389376501708,
          31.890052035886775,
          31.8557579103631,
          31.8213927679556,
          31.78707659356767,
          31.752838979735465,
          31.718685815129756,
          31.68460280525013,
          31.650579345145356,
          31.616634105939735,
          31.582837832201434,
          31.54924806011482,
          31.5158437331166,
          31.482573793018826,
          31.44941176356507,
          31.4163408534817,
          31.383348547457224,
          31.350445038055074,
          31.317654503447095,
          31.285045374563744,
          31.25275465653129,
          31.220925505366907,
          31.189382712463438,
          31.157946095730203,
          31.12656645486205,
          31.095243837251385,
          31.063985016174197,
          31.032787200431688,
          31.001645783783864,
          30.970560725011087,
          30.939532638602046,
          30.90856132292629,
          30.877647543744242,
          30.84679218102512,
          30.815995305410123,
          30.785257633993115,
          30.75458019161584,
          30.723981987064317,
          30.693459879598056,
          30.662894633539963,
          30.632221691633884,
          30.601443121026204,
          30.570627510007565,
          30.539880468011088,
          30.50922044117514,
          30.47863997842919,
          30.44812310265504,
          30.41768305744875,
          30.387318704309415,
          30.356990528315464,
          30.326537734918613,
          30.295854809630352,
          30.26503754590019,
          30.234194248882467,
          30.20335682687265,
          30.1725112996527,
          30.141643566875597,
          30.110770582294013,
          30.079916459008814,
          30.049131158365295,
          30.018520100880995,
          29.98819045742915,
          29.958050371553007,
          29.92799409171375,
          29.897985492932914,
          29.868012967814444,
          29.83807282630868,
          29.808170481009846,
          29.77830818810862,
          29.748474860960144,
          29.71863535715886,
          29.688767899967335,
          29.658892732526866,
          29.629048651011903,
          29.59931099626385,
          29.56979692371252,
          29.54052529400466,
          29.511414616484423,
          29.48236769498709,
          29.45336475285755,
          29.424431753882242,
          29.39558968078695,
          29.366821856536777,
          29.338100375246643,
          29.309387219852344,
          29.280592559959345,
          29.251658860152357,
          29.222674675563212,
          29.193743465095775,
          29.164885972228863,
          29.136083731734164,
          29.107327093422263,
          29.07864098274158,
          29.05005943739858,
          29.021603715047213,
          28.993301104287006,
          28.96516637162258,
          28.937172613302117,
          28.90927411417212,
          28.881369646484487,
          28.853236357797766,
          28.824647983320844,
          28.79580605533144,
          28.76692821289134,
          28.738089623488094,
          28.709321235964357,
          28.680635073379648,
          28.652012668407938,
          28.62342075912914,
          28.594850068834194,
          28.566289146410174,
          28.537728404419,
          28.509177255194896,
          28.48064110013963,
          28.452110241673807,
          28.423528568678737,
          28.39486103038753,
          28.36615014560855,
          28.337444178209164,
          28.308682807577377,
          28.27965014559355,
          28.25019775258481,
          28.220470433401832,
          28.190689923761475,
          28.160927108814903,
          28.131221341759744,
          28.101592067835202,
          28.07200992553898,
          28.04243970651665,
          28.012830529365832,
          27.983069632393807,
          27.953058413021814,
          27.922900180846494,
          27.892714479883978,
          27.8625433017063,
          27.832403914182567,
          27.80230606916121,
          27.772245084912832,
          27.742230555569932,
          27.71234683002268,
          27.682833894217627,
          27.653942287618765,
          27.625436127594554,
          27.59706801932124,
          27.568741662824312,
          27.54042049157088
         ],
         "yaxis": "y"
        }
       ],
       "layout": {
        "legend": {
         "title": {
          "text": "variable"
         },
         "tracegroupgap": 0
        },
        "margin": {
         "t": 60
        },
        "template": {
         "data": {
          "bar": [
           {
            "error_x": {
             "color": "#2a3f5f"
            },
            "error_y": {
             "color": "#2a3f5f"
            },
            "marker": {
             "line": {
              "color": "#E5ECF6",
              "width": 0.5
             },
             "pattern": {
              "fillmode": "overlay",
              "size": 10,
              "solidity": 0.2
             }
            },
            "type": "bar"
           }
          ],
          "barpolar": [
           {
            "marker": {
             "line": {
              "color": "#E5ECF6",
              "width": 0.5
             },
             "pattern": {
              "fillmode": "overlay",
              "size": 10,
              "solidity": 0.2
             }
            },
            "type": "barpolar"
           }
          ],
          "carpet": [
           {
            "aaxis": {
             "endlinecolor": "#2a3f5f",
             "gridcolor": "white",
             "linecolor": "white",
             "minorgridcolor": "white",
             "startlinecolor": "#2a3f5f"
            },
            "baxis": {
             "endlinecolor": "#2a3f5f",
             "gridcolor": "white",
             "linecolor": "white",
             "minorgridcolor": "white",
             "startlinecolor": "#2a3f5f"
            },
            "type": "carpet"
           }
          ],
          "choropleth": [
           {
            "colorbar": {
             "outlinewidth": 0,
             "ticks": ""
            },
            "type": "choropleth"
           }
          ],
          "contour": [
           {
            "colorbar": {
             "outlinewidth": 0,
             "ticks": ""
            },
            "colorscale": [
             [
              0,
              "#0d0887"
             ],
             [
              0.1111111111111111,
              "#46039f"
             ],
             [
              0.2222222222222222,
              "#7201a8"
             ],
             [
              0.3333333333333333,
              "#9c179e"
             ],
             [
              0.4444444444444444,
              "#bd3786"
             ],
             [
              0.5555555555555556,
              "#d8576b"
             ],
             [
              0.6666666666666666,
              "#ed7953"
             ],
             [
              0.7777777777777778,
              "#fb9f3a"
             ],
             [
              0.8888888888888888,
              "#fdca26"
             ],
             [
              1,
              "#f0f921"
             ]
            ],
            "type": "contour"
           }
          ],
          "contourcarpet": [
           {
            "colorbar": {
             "outlinewidth": 0,
             "ticks": ""
            },
            "type": "contourcarpet"
           }
          ],
          "heatmap": [
           {
            "colorbar": {
             "outlinewidth": 0,
             "ticks": ""
            },
            "colorscale": [
             [
              0,
              "#0d0887"
             ],
             [
              0.1111111111111111,
              "#46039f"
             ],
             [
              0.2222222222222222,
              "#7201a8"
             ],
             [
              0.3333333333333333,
              "#9c179e"
             ],
             [
              0.4444444444444444,
              "#bd3786"
             ],
             [
              0.5555555555555556,
              "#d8576b"
             ],
             [
              0.6666666666666666,
              "#ed7953"
             ],
             [
              0.7777777777777778,
              "#fb9f3a"
             ],
             [
              0.8888888888888888,
              "#fdca26"
             ],
             [
              1,
              "#f0f921"
             ]
            ],
            "type": "heatmap"
           }
          ],
          "heatmapgl": [
           {
            "colorbar": {
             "outlinewidth": 0,
             "ticks": ""
            },
            "colorscale": [
             [
              0,
              "#0d0887"
             ],
             [
              0.1111111111111111,
              "#46039f"
             ],
             [
              0.2222222222222222,
              "#7201a8"
             ],
             [
              0.3333333333333333,
              "#9c179e"
             ],
             [
              0.4444444444444444,
              "#bd3786"
             ],
             [
              0.5555555555555556,
              "#d8576b"
             ],
             [
              0.6666666666666666,
              "#ed7953"
             ],
             [
              0.7777777777777778,
              "#fb9f3a"
             ],
             [
              0.8888888888888888,
              "#fdca26"
             ],
             [
              1,
              "#f0f921"
             ]
            ],
            "type": "heatmapgl"
           }
          ],
          "histogram": [
           {
            "marker": {
             "pattern": {
              "fillmode": "overlay",
              "size": 10,
              "solidity": 0.2
             }
            },
            "type": "histogram"
           }
          ],
          "histogram2d": [
           {
            "colorbar": {
             "outlinewidth": 0,
             "ticks": ""
            },
            "colorscale": [
             [
              0,
              "#0d0887"
             ],
             [
              0.1111111111111111,
              "#46039f"
             ],
             [
              0.2222222222222222,
              "#7201a8"
             ],
             [
              0.3333333333333333,
              "#9c179e"
             ],
             [
              0.4444444444444444,
              "#bd3786"
             ],
             [
              0.5555555555555556,
              "#d8576b"
             ],
             [
              0.6666666666666666,
              "#ed7953"
             ],
             [
              0.7777777777777778,
              "#fb9f3a"
             ],
             [
              0.8888888888888888,
              "#fdca26"
             ],
             [
              1,
              "#f0f921"
             ]
            ],
            "type": "histogram2d"
           }
          ],
          "histogram2dcontour": [
           {
            "colorbar": {
             "outlinewidth": 0,
             "ticks": ""
            },
            "colorscale": [
             [
              0,
              "#0d0887"
             ],
             [
              0.1111111111111111,
              "#46039f"
             ],
             [
              0.2222222222222222,
              "#7201a8"
             ],
             [
              0.3333333333333333,
              "#9c179e"
             ],
             [
              0.4444444444444444,
              "#bd3786"
             ],
             [
              0.5555555555555556,
              "#d8576b"
             ],
             [
              0.6666666666666666,
              "#ed7953"
             ],
             [
              0.7777777777777778,
              "#fb9f3a"
             ],
             [
              0.8888888888888888,
              "#fdca26"
             ],
             [
              1,
              "#f0f921"
             ]
            ],
            "type": "histogram2dcontour"
           }
          ],
          "mesh3d": [
           {
            "colorbar": {
             "outlinewidth": 0,
             "ticks": ""
            },
            "type": "mesh3d"
           }
          ],
          "parcoords": [
           {
            "line": {
             "colorbar": {
              "outlinewidth": 0,
              "ticks": ""
             }
            },
            "type": "parcoords"
           }
          ],
          "pie": [
           {
            "automargin": true,
            "type": "pie"
           }
          ],
          "scatter": [
           {
            "fillpattern": {
             "fillmode": "overlay",
             "size": 10,
             "solidity": 0.2
            },
            "type": "scatter"
           }
          ],
          "scatter3d": [
           {
            "line": {
             "colorbar": {
              "outlinewidth": 0,
              "ticks": ""
             }
            },
            "marker": {
             "colorbar": {
              "outlinewidth": 0,
              "ticks": ""
             }
            },
            "type": "scatter3d"
           }
          ],
          "scattercarpet": [
           {
            "marker": {
             "colorbar": {
              "outlinewidth": 0,
              "ticks": ""
             }
            },
            "type": "scattercarpet"
           }
          ],
          "scattergeo": [
           {
            "marker": {
             "colorbar": {
              "outlinewidth": 0,
              "ticks": ""
             }
            },
            "type": "scattergeo"
           }
          ],
          "scattergl": [
           {
            "marker": {
             "colorbar": {
              "outlinewidth": 0,
              "ticks": ""
             }
            },
            "type": "scattergl"
           }
          ],
          "scattermapbox": [
           {
            "marker": {
             "colorbar": {
              "outlinewidth": 0,
              "ticks": ""
             }
            },
            "type": "scattermapbox"
           }
          ],
          "scatterpolar": [
           {
            "marker": {
             "colorbar": {
              "outlinewidth": 0,
              "ticks": ""
             }
            },
            "type": "scatterpolar"
           }
          ],
          "scatterpolargl": [
           {
            "marker": {
             "colorbar": {
              "outlinewidth": 0,
              "ticks": ""
             }
            },
            "type": "scatterpolargl"
           }
          ],
          "scatterternary": [
           {
            "marker": {
             "colorbar": {
              "outlinewidth": 0,
              "ticks": ""
             }
            },
            "type": "scatterternary"
           }
          ],
          "surface": [
           {
            "colorbar": {
             "outlinewidth": 0,
             "ticks": ""
            },
            "colorscale": [
             [
              0,
              "#0d0887"
             ],
             [
              0.1111111111111111,
              "#46039f"
             ],
             [
              0.2222222222222222,
              "#7201a8"
             ],
             [
              0.3333333333333333,
              "#9c179e"
             ],
             [
              0.4444444444444444,
              "#bd3786"
             ],
             [
              0.5555555555555556,
              "#d8576b"
             ],
             [
              0.6666666666666666,
              "#ed7953"
             ],
             [
              0.7777777777777778,
              "#fb9f3a"
             ],
             [
              0.8888888888888888,
              "#fdca26"
             ],
             [
              1,
              "#f0f921"
             ]
            ],
            "type": "surface"
           }
          ],
          "table": [
           {
            "cells": {
             "fill": {
              "color": "#EBF0F8"
             },
             "line": {
              "color": "white"
             }
            },
            "header": {
             "fill": {
              "color": "#C8D4E3"
             },
             "line": {
              "color": "white"
             }
            },
            "type": "table"
           }
          ]
         },
         "layout": {
          "annotationdefaults": {
           "arrowcolor": "#2a3f5f",
           "arrowhead": 0,
           "arrowwidth": 1
          },
          "autotypenumbers": "strict",
          "coloraxis": {
           "colorbar": {
            "outlinewidth": 0,
            "ticks": ""
           }
          },
          "colorscale": {
           "diverging": [
            [
             0,
             "#8e0152"
            ],
            [
             0.1,
             "#c51b7d"
            ],
            [
             0.2,
             "#de77ae"
            ],
            [
             0.3,
             "#f1b6da"
            ],
            [
             0.4,
             "#fde0ef"
            ],
            [
             0.5,
             "#f7f7f7"
            ],
            [
             0.6,
             "#e6f5d0"
            ],
            [
             0.7,
             "#b8e186"
            ],
            [
             0.8,
             "#7fbc41"
            ],
            [
             0.9,
             "#4d9221"
            ],
            [
             1,
             "#276419"
            ]
           ],
           "sequential": [
            [
             0,
             "#0d0887"
            ],
            [
             0.1111111111111111,
             "#46039f"
            ],
            [
             0.2222222222222222,
             "#7201a8"
            ],
            [
             0.3333333333333333,
             "#9c179e"
            ],
            [
             0.4444444444444444,
             "#bd3786"
            ],
            [
             0.5555555555555556,
             "#d8576b"
            ],
            [
             0.6666666666666666,
             "#ed7953"
            ],
            [
             0.7777777777777778,
             "#fb9f3a"
            ],
            [
             0.8888888888888888,
             "#fdca26"
            ],
            [
             1,
             "#f0f921"
            ]
           ],
           "sequentialminus": [
            [
             0,
             "#0d0887"
            ],
            [
             0.1111111111111111,
             "#46039f"
            ],
            [
             0.2222222222222222,
             "#7201a8"
            ],
            [
             0.3333333333333333,
             "#9c179e"
            ],
            [
             0.4444444444444444,
             "#bd3786"
            ],
            [
             0.5555555555555556,
             "#d8576b"
            ],
            [
             0.6666666666666666,
             "#ed7953"
            ],
            [
             0.7777777777777778,
             "#fb9f3a"
            ],
            [
             0.8888888888888888,
             "#fdca26"
            ],
            [
             1,
             "#f0f921"
            ]
           ]
          },
          "colorway": [
           "#636efa",
           "#EF553B",
           "#00cc96",
           "#ab63fa",
           "#FFA15A",
           "#19d3f3",
           "#FF6692",
           "#B6E880",
           "#FF97FF",
           "#FECB52"
          ],
          "font": {
           "color": "#2a3f5f"
          },
          "geo": {
           "bgcolor": "white",
           "lakecolor": "white",
           "landcolor": "#E5ECF6",
           "showlakes": true,
           "showland": true,
           "subunitcolor": "white"
          },
          "hoverlabel": {
           "align": "left"
          },
          "hovermode": "closest",
          "mapbox": {
           "style": "light"
          },
          "paper_bgcolor": "white",
          "plot_bgcolor": "#E5ECF6",
          "polar": {
           "angularaxis": {
            "gridcolor": "white",
            "linecolor": "white",
            "ticks": ""
           },
           "bgcolor": "#E5ECF6",
           "radialaxis": {
            "gridcolor": "white",
            "linecolor": "white",
            "ticks": ""
           }
          },
          "scene": {
           "xaxis": {
            "backgroundcolor": "#E5ECF6",
            "gridcolor": "white",
            "gridwidth": 2,
            "linecolor": "white",
            "showbackground": true,
            "ticks": "",
            "zerolinecolor": "white"
           },
           "yaxis": {
            "backgroundcolor": "#E5ECF6",
            "gridcolor": "white",
            "gridwidth": 2,
            "linecolor": "white",
            "showbackground": true,
            "ticks": "",
            "zerolinecolor": "white"
           },
           "zaxis": {
            "backgroundcolor": "#E5ECF6",
            "gridcolor": "white",
            "gridwidth": 2,
            "linecolor": "white",
            "showbackground": true,
            "ticks": "",
            "zerolinecolor": "white"
           }
          },
          "shapedefaults": {
           "line": {
            "color": "#2a3f5f"
           }
          },
          "ternary": {
           "aaxis": {
            "gridcolor": "white",
            "linecolor": "white",
            "ticks": ""
           },
           "baxis": {
            "gridcolor": "white",
            "linecolor": "white",
            "ticks": ""
           },
           "bgcolor": "#E5ECF6",
           "caxis": {
            "gridcolor": "white",
            "linecolor": "white",
            "ticks": ""
           }
          },
          "title": {
           "x": 0.05
          },
          "xaxis": {
           "automargin": true,
           "gridcolor": "white",
           "linecolor": "white",
           "ticks": "",
           "title": {
            "standoff": 15
           },
           "zerolinecolor": "white",
           "zerolinewidth": 2
          },
          "yaxis": {
           "automargin": true,
           "gridcolor": "white",
           "linecolor": "white",
           "ticks": "",
           "title": {
            "standoff": 15
           },
           "zerolinecolor": "white",
           "zerolinewidth": 2
          }
         }
        },
        "xaxis": {
         "anchor": "y",
         "domain": [
          0,
          1
         ],
         "title": {
          "text": "index"
         }
        },
        "yaxis": {
         "anchor": "x",
         "domain": [
          0,
          1
         ],
         "title": {
          "text": "value"
         }
        }
       }
      }
     },
     "metadata": {},
     "output_type": "display_data"
    }
   ],
   "source": [
    "derived_df_0.percentage_latent.plot()"
   ]
  },
  {
   "cell_type": "code",
   "execution_count": 17,
   "metadata": {},
   "outputs": [],
   "source": [
    "#from autumn.model_features.curve.interpolate import build_static_sigmoidal_multicurve"
   ]
  },
  {
   "cell_type": "code",
   "execution_count": 40,
   "metadata": {},
   "outputs": [
    {
     "data": {
      "text/plain": [
       "array([0.6 , 0.6 , 0.6 , ..., 0.92, 0.92, 0.92])"
      ]
     },
     "execution_count": 40,
     "metadata": {},
     "output_type": "execute_result"
    }
   ],
   "source": [
    "tfunc = build_static_sigmoidal_multicurve([float(k) for k in params['time_variant_tb_screening_rate'].keys()], [float(v) for v in params['time_variant_tb_screening_rate'].values()])\n",
    "np.array(jax.numpy.asarray([tfunc(t) for t in model_0.times])\n",
    "derived_df_0.sigmoid_param\n",
    "\n",
    "\n",
    "\n",
    "\n",
    "\n",
    "\n"
   ]
  },
  {
   "cell_type": "code",
   "execution_count": 41,
   "metadata": {},
   "outputs": [
    {
     "data": {
      "text/plain": [
       "1900.0    0.039776\n",
       "1900.1    0.039776\n",
       "1900.2    0.039776\n",
       "1900.3    0.039776\n",
       "1900.4    0.039776\n",
       "            ...   \n",
       "2019.6    0.016945\n",
       "2019.7    0.016945\n",
       "2019.8    0.016945\n",
       "2019.9    0.016945\n",
       "2020.0    0.016945\n",
       "Name: sigmoid_param, Length: 1201, dtype: float64"
      ]
     },
     "execution_count": 41,
     "metadata": {},
     "output_type": "execute_result"
    }
   ],
   "source": [
    "derived_df_0.sigmoid_param"
   ]
  }
 ],
 "metadata": {
  "kernelspec": {
   "display_name": "autumn",
   "language": "python",
   "name": "python3"
  },
  "language_info": {
   "codemirror_mode": {
    "name": "ipython",
    "version": 3
   },
   "file_extension": ".py",
   "mimetype": "text/x-python",
   "name": "python",
   "nbconvert_exporter": "python",
   "pygments_lexer": "ipython3",
   "version": "3.10.4"
  },
  "orig_nbformat": 4,
  "vscode": {
   "interpreter": {
    "hash": "32546788be758822ecff2a88079b35480b7d02e1a3a7c2c2e0e8f52550974ab3"
   }
  }
 },
 "nbformat": 4,
 "nbformat_minor": 2
}
