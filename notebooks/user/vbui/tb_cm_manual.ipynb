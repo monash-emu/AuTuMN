{
 "cells": [
  {
   "cell_type": "code",
   "execution_count": 1,
   "metadata": {},
   "outputs": [],
   "source": [
    "import warnings\n",
    "from typing import List\n",
    "\n",
    "import pandas as pd\n",
    "import plotly.graph_objects as go\n",
    "import plotly.express as px\n",
    "from plotly.subplots import make_subplots\n",
    "from autumn.core.inputs.database import get_input_db\n",
    "from autumn.core.project import get_project\n",
    "from autumn.settings import Region, Models\n",
    "from autumn.core import inputs\n",
    "from autumn.core.inputs.social_mixing.build_synthetic_matrices import build_synthetic_matrices\n",
    "from autumn.core.utils.display import pretty_print\n",
    "from autumn.core.inputs.tb_camau import queries\n",
    "import pathlib\n",
    "from autumn.model_features.curve.interpolate import build_static_sigmoidal_multicurve"
   ]
  },
  {
   "cell_type": "code",
   "execution_count": 3,
   "metadata": {},
   "outputs": [],
   "source": [
    "warnings.filterwarnings(\"ignore\")\n",
    "pd.options.plotting.backend = \"plotly\""
   ]
  },
  {
   "cell_type": "code",
   "execution_count": 4,
   "metadata": {},
   "outputs": [],
   "source": [
    "csv_path = pathlib.Path(\"camau.csv\")"
   ]
  },
  {
   "cell_type": "code",
   "execution_count": 5,
   "metadata": {},
   "outputs": [],
   "source": [
    "region = Region.CAMAU\n",
    "model = Models.TBD2\n",
    "p = get_project(model, region, reload=True)\n",
    "baseline_params = p.param_set.baseline"
   ]
  },
  {
   "cell_type": "code",
   "execution_count": 6,
   "metadata": {},
   "outputs": [],
   "source": [
    "iso3 = baseline_params['country']['iso3']\n",
    "source_iso3 = baseline_params['age_mixing']['source_iso3']\n",
    "age_adjust = baseline_params['age_mixing']['age_adjust']\n",
    "age_string_map = {\n",
    "    0: \"0-4\",\n",
    "    5: \"5-14\",\n",
    "    15: \"15-34\",\n",
    "    35: \"35-49\",\n",
    "    50: \"50+\",\n",
    "}"
   ]
  },
  {
   "cell_type": "markdown",
   "metadata": {},
   "source": [
    "## Population"
   ]
  },
  {
   "cell_type": "code",
   "execution_count": 7,
   "metadata": {},
   "outputs": [
    {
     "name": "stdout",
     "output_type": "stream",
     "text": [
      "Modelled age groups are [0, 5, 15, 35, 50]\n"
     ]
    }
   ],
   "source": [
    "modelled_age_groups = baseline_params[\"age_breakpoints\"]\n",
    "print(f\"Modelled age groups are {modelled_age_groups}\")"
   ]
  },
  {
   "cell_type": "code",
   "execution_count": 8,
   "metadata": {},
   "outputs": [
    {
     "data": {
      "application/vnd.plotly.v1+json": {
       "config": {
        "plotlyServerURL": "https://plot.ly"
       },
       "data": [
        {
         "hovertemplate": "variable=population<br>year=%{x}<br>value=%{y}<extra></extra>",
         "legendgroup": "population",
         "line": {
          "color": "#636efa",
          "dash": "solid"
         },
         "marker": {
          "symbol": "circle"
         },
         "mode": "lines",
         "name": "population",
         "orientation": "v",
         "showlegend": true,
         "type": "scatter",
         "x": [
          1995,
          1996,
          1997,
          1998,
          1999,
          2000,
          2001,
          2002,
          2003,
          2004,
          2005,
          2006,
          2007,
          2008,
          2009,
          2010,
          2011,
          2012,
          2013,
          2014,
          2015,
          2016,
          2017,
          2018,
          2019
         ],
         "xaxis": "x",
         "y": [
          1041800,
          1061600,
          1081100,
          1101800,
          1123500,
          1133900,
          1145200,
          1155300,
          1164500,
          1174400,
          1182900,
          1188700,
          1195200,
          1201700,
          1207100,
          1205840,
          1204500,
          1203460,
          1202070,
          1200740,
          1199500,
          1198100,
          1197000,
          1195600,
          1194300
         ],
         "yaxis": "y"
        }
       ],
       "layout": {
        "legend": {
         "title": {
          "text": "variable"
         },
         "tracegroupgap": 0
        },
        "margin": {
         "t": 60
        },
        "template": {
         "data": {
          "bar": [
           {
            "error_x": {
             "color": "#2a3f5f"
            },
            "error_y": {
             "color": "#2a3f5f"
            },
            "marker": {
             "line": {
              "color": "#E5ECF6",
              "width": 0.5
             },
             "pattern": {
              "fillmode": "overlay",
              "size": 10,
              "solidity": 0.2
             }
            },
            "type": "bar"
           }
          ],
          "barpolar": [
           {
            "marker": {
             "line": {
              "color": "#E5ECF6",
              "width": 0.5
             },
             "pattern": {
              "fillmode": "overlay",
              "size": 10,
              "solidity": 0.2
             }
            },
            "type": "barpolar"
           }
          ],
          "carpet": [
           {
            "aaxis": {
             "endlinecolor": "#2a3f5f",
             "gridcolor": "white",
             "linecolor": "white",
             "minorgridcolor": "white",
             "startlinecolor": "#2a3f5f"
            },
            "baxis": {
             "endlinecolor": "#2a3f5f",
             "gridcolor": "white",
             "linecolor": "white",
             "minorgridcolor": "white",
             "startlinecolor": "#2a3f5f"
            },
            "type": "carpet"
           }
          ],
          "choropleth": [
           {
            "colorbar": {
             "outlinewidth": 0,
             "ticks": ""
            },
            "type": "choropleth"
           }
          ],
          "contour": [
           {
            "colorbar": {
             "outlinewidth": 0,
             "ticks": ""
            },
            "colorscale": [
             [
              0,
              "#0d0887"
             ],
             [
              0.1111111111111111,
              "#46039f"
             ],
             [
              0.2222222222222222,
              "#7201a8"
             ],
             [
              0.3333333333333333,
              "#9c179e"
             ],
             [
              0.4444444444444444,
              "#bd3786"
             ],
             [
              0.5555555555555556,
              "#d8576b"
             ],
             [
              0.6666666666666666,
              "#ed7953"
             ],
             [
              0.7777777777777778,
              "#fb9f3a"
             ],
             [
              0.8888888888888888,
              "#fdca26"
             ],
             [
              1,
              "#f0f921"
             ]
            ],
            "type": "contour"
           }
          ],
          "contourcarpet": [
           {
            "colorbar": {
             "outlinewidth": 0,
             "ticks": ""
            },
            "type": "contourcarpet"
           }
          ],
          "heatmap": [
           {
            "colorbar": {
             "outlinewidth": 0,
             "ticks": ""
            },
            "colorscale": [
             [
              0,
              "#0d0887"
             ],
             [
              0.1111111111111111,
              "#46039f"
             ],
             [
              0.2222222222222222,
              "#7201a8"
             ],
             [
              0.3333333333333333,
              "#9c179e"
             ],
             [
              0.4444444444444444,
              "#bd3786"
             ],
             [
              0.5555555555555556,
              "#d8576b"
             ],
             [
              0.6666666666666666,
              "#ed7953"
             ],
             [
              0.7777777777777778,
              "#fb9f3a"
             ],
             [
              0.8888888888888888,
              "#fdca26"
             ],
             [
              1,
              "#f0f921"
             ]
            ],
            "type": "heatmap"
           }
          ],
          "heatmapgl": [
           {
            "colorbar": {
             "outlinewidth": 0,
             "ticks": ""
            },
            "colorscale": [
             [
              0,
              "#0d0887"
             ],
             [
              0.1111111111111111,
              "#46039f"
             ],
             [
              0.2222222222222222,
              "#7201a8"
             ],
             [
              0.3333333333333333,
              "#9c179e"
             ],
             [
              0.4444444444444444,
              "#bd3786"
             ],
             [
              0.5555555555555556,
              "#d8576b"
             ],
             [
              0.6666666666666666,
              "#ed7953"
             ],
             [
              0.7777777777777778,
              "#fb9f3a"
             ],
             [
              0.8888888888888888,
              "#fdca26"
             ],
             [
              1,
              "#f0f921"
             ]
            ],
            "type": "heatmapgl"
           }
          ],
          "histogram": [
           {
            "marker": {
             "pattern": {
              "fillmode": "overlay",
              "size": 10,
              "solidity": 0.2
             }
            },
            "type": "histogram"
           }
          ],
          "histogram2d": [
           {
            "colorbar": {
             "outlinewidth": 0,
             "ticks": ""
            },
            "colorscale": [
             [
              0,
              "#0d0887"
             ],
             [
              0.1111111111111111,
              "#46039f"
             ],
             [
              0.2222222222222222,
              "#7201a8"
             ],
             [
              0.3333333333333333,
              "#9c179e"
             ],
             [
              0.4444444444444444,
              "#bd3786"
             ],
             [
              0.5555555555555556,
              "#d8576b"
             ],
             [
              0.6666666666666666,
              "#ed7953"
             ],
             [
              0.7777777777777778,
              "#fb9f3a"
             ],
             [
              0.8888888888888888,
              "#fdca26"
             ],
             [
              1,
              "#f0f921"
             ]
            ],
            "type": "histogram2d"
           }
          ],
          "histogram2dcontour": [
           {
            "colorbar": {
             "outlinewidth": 0,
             "ticks": ""
            },
            "colorscale": [
             [
              0,
              "#0d0887"
             ],
             [
              0.1111111111111111,
              "#46039f"
             ],
             [
              0.2222222222222222,
              "#7201a8"
             ],
             [
              0.3333333333333333,
              "#9c179e"
             ],
             [
              0.4444444444444444,
              "#bd3786"
             ],
             [
              0.5555555555555556,
              "#d8576b"
             ],
             [
              0.6666666666666666,
              "#ed7953"
             ],
             [
              0.7777777777777778,
              "#fb9f3a"
             ],
             [
              0.8888888888888888,
              "#fdca26"
             ],
             [
              1,
              "#f0f921"
             ]
            ],
            "type": "histogram2dcontour"
           }
          ],
          "mesh3d": [
           {
            "colorbar": {
             "outlinewidth": 0,
             "ticks": ""
            },
            "type": "mesh3d"
           }
          ],
          "parcoords": [
           {
            "line": {
             "colorbar": {
              "outlinewidth": 0,
              "ticks": ""
             }
            },
            "type": "parcoords"
           }
          ],
          "pie": [
           {
            "automargin": true,
            "type": "pie"
           }
          ],
          "scatter": [
           {
            "fillpattern": {
             "fillmode": "overlay",
             "size": 10,
             "solidity": 0.2
            },
            "type": "scatter"
           }
          ],
          "scatter3d": [
           {
            "line": {
             "colorbar": {
              "outlinewidth": 0,
              "ticks": ""
             }
            },
            "marker": {
             "colorbar": {
              "outlinewidth": 0,
              "ticks": ""
             }
            },
            "type": "scatter3d"
           }
          ],
          "scattercarpet": [
           {
            "marker": {
             "colorbar": {
              "outlinewidth": 0,
              "ticks": ""
             }
            },
            "type": "scattercarpet"
           }
          ],
          "scattergeo": [
           {
            "marker": {
             "colorbar": {
              "outlinewidth": 0,
              "ticks": ""
             }
            },
            "type": "scattergeo"
           }
          ],
          "scattergl": [
           {
            "marker": {
             "colorbar": {
              "outlinewidth": 0,
              "ticks": ""
             }
            },
            "type": "scattergl"
           }
          ],
          "scattermapbox": [
           {
            "marker": {
             "colorbar": {
              "outlinewidth": 0,
              "ticks": ""
             }
            },
            "type": "scattermapbox"
           }
          ],
          "scatterpolar": [
           {
            "marker": {
             "colorbar": {
              "outlinewidth": 0,
              "ticks": ""
             }
            },
            "type": "scatterpolar"
           }
          ],
          "scatterpolargl": [
           {
            "marker": {
             "colorbar": {
              "outlinewidth": 0,
              "ticks": ""
             }
            },
            "type": "scatterpolargl"
           }
          ],
          "scatterternary": [
           {
            "marker": {
             "colorbar": {
              "outlinewidth": 0,
              "ticks": ""
             }
            },
            "type": "scatterternary"
           }
          ],
          "surface": [
           {
            "colorbar": {
             "outlinewidth": 0,
             "ticks": ""
            },
            "colorscale": [
             [
              0,
              "#0d0887"
             ],
             [
              0.1111111111111111,
              "#46039f"
             ],
             [
              0.2222222222222222,
              "#7201a8"
             ],
             [
              0.3333333333333333,
              "#9c179e"
             ],
             [
              0.4444444444444444,
              "#bd3786"
             ],
             [
              0.5555555555555556,
              "#d8576b"
             ],
             [
              0.6666666666666666,
              "#ed7953"
             ],
             [
              0.7777777777777778,
              "#fb9f3a"
             ],
             [
              0.8888888888888888,
              "#fdca26"
             ],
             [
              1,
              "#f0f921"
             ]
            ],
            "type": "surface"
           }
          ],
          "table": [
           {
            "cells": {
             "fill": {
              "color": "#EBF0F8"
             },
             "line": {
              "color": "white"
             }
            },
            "header": {
             "fill": {
              "color": "#C8D4E3"
             },
             "line": {
              "color": "white"
             }
            },
            "type": "table"
           }
          ]
         },
         "layout": {
          "annotationdefaults": {
           "arrowcolor": "#2a3f5f",
           "arrowhead": 0,
           "arrowwidth": 1
          },
          "autotypenumbers": "strict",
          "coloraxis": {
           "colorbar": {
            "outlinewidth": 0,
            "ticks": ""
           }
          },
          "colorscale": {
           "diverging": [
            [
             0,
             "#8e0152"
            ],
            [
             0.1,
             "#c51b7d"
            ],
            [
             0.2,
             "#de77ae"
            ],
            [
             0.3,
             "#f1b6da"
            ],
            [
             0.4,
             "#fde0ef"
            ],
            [
             0.5,
             "#f7f7f7"
            ],
            [
             0.6,
             "#e6f5d0"
            ],
            [
             0.7,
             "#b8e186"
            ],
            [
             0.8,
             "#7fbc41"
            ],
            [
             0.9,
             "#4d9221"
            ],
            [
             1,
             "#276419"
            ]
           ],
           "sequential": [
            [
             0,
             "#0d0887"
            ],
            [
             0.1111111111111111,
             "#46039f"
            ],
            [
             0.2222222222222222,
             "#7201a8"
            ],
            [
             0.3333333333333333,
             "#9c179e"
            ],
            [
             0.4444444444444444,
             "#bd3786"
            ],
            [
             0.5555555555555556,
             "#d8576b"
            ],
            [
             0.6666666666666666,
             "#ed7953"
            ],
            [
             0.7777777777777778,
             "#fb9f3a"
            ],
            [
             0.8888888888888888,
             "#fdca26"
            ],
            [
             1,
             "#f0f921"
            ]
           ],
           "sequentialminus": [
            [
             0,
             "#0d0887"
            ],
            [
             0.1111111111111111,
             "#46039f"
            ],
            [
             0.2222222222222222,
             "#7201a8"
            ],
            [
             0.3333333333333333,
             "#9c179e"
            ],
            [
             0.4444444444444444,
             "#bd3786"
            ],
            [
             0.5555555555555556,
             "#d8576b"
            ],
            [
             0.6666666666666666,
             "#ed7953"
            ],
            [
             0.7777777777777778,
             "#fb9f3a"
            ],
            [
             0.8888888888888888,
             "#fdca26"
            ],
            [
             1,
             "#f0f921"
            ]
           ]
          },
          "colorway": [
           "#636efa",
           "#EF553B",
           "#00cc96",
           "#ab63fa",
           "#FFA15A",
           "#19d3f3",
           "#FF6692",
           "#B6E880",
           "#FF97FF",
           "#FECB52"
          ],
          "font": {
           "color": "#2a3f5f"
          },
          "geo": {
           "bgcolor": "white",
           "lakecolor": "white",
           "landcolor": "#E5ECF6",
           "showlakes": true,
           "showland": true,
           "subunitcolor": "white"
          },
          "hoverlabel": {
           "align": "left"
          },
          "hovermode": "closest",
          "mapbox": {
           "style": "light"
          },
          "paper_bgcolor": "white",
          "plot_bgcolor": "#E5ECF6",
          "polar": {
           "angularaxis": {
            "gridcolor": "white",
            "linecolor": "white",
            "ticks": ""
           },
           "bgcolor": "#E5ECF6",
           "radialaxis": {
            "gridcolor": "white",
            "linecolor": "white",
            "ticks": ""
           }
          },
          "scene": {
           "xaxis": {
            "backgroundcolor": "#E5ECF6",
            "gridcolor": "white",
            "gridwidth": 2,
            "linecolor": "white",
            "showbackground": true,
            "ticks": "",
            "zerolinecolor": "white"
           },
           "yaxis": {
            "backgroundcolor": "#E5ECF6",
            "gridcolor": "white",
            "gridwidth": 2,
            "linecolor": "white",
            "showbackground": true,
            "ticks": "",
            "zerolinecolor": "white"
           },
           "zaxis": {
            "backgroundcolor": "#E5ECF6",
            "gridcolor": "white",
            "gridwidth": 2,
            "linecolor": "white",
            "showbackground": true,
            "ticks": "",
            "zerolinecolor": "white"
           }
          },
          "shapedefaults": {
           "line": {
            "color": "#2a3f5f"
           }
          },
          "ternary": {
           "aaxis": {
            "gridcolor": "white",
            "linecolor": "white",
            "ticks": ""
           },
           "baxis": {
            "gridcolor": "white",
            "linecolor": "white",
            "ticks": ""
           },
           "bgcolor": "#E5ECF6",
           "caxis": {
            "gridcolor": "white",
            "linecolor": "white",
            "ticks": ""
           }
          },
          "title": {
           "x": 0.05
          },
          "xaxis": {
           "automargin": true,
           "gridcolor": "white",
           "linecolor": "white",
           "ticks": "",
           "title": {
            "standoff": 15
           },
           "zerolinecolor": "white",
           "zerolinewidth": 2
          },
          "yaxis": {
           "automargin": true,
           "gridcolor": "white",
           "linecolor": "white",
           "ticks": "",
           "title": {
            "standoff": 15
           },
           "zerolinecolor": "white",
           "zerolinewidth": 2
          }
         }
        },
        "xaxis": {
         "anchor": "y",
         "domain": [
          0,
          1
         ],
         "title": {
          "text": "year"
         }
        },
        "yaxis": {
         "anchor": "x",
         "domain": [
          0,
          1
         ],
         "title": {
          "text": "value"
         }
        }
       }
      }
     },
     "metadata": {},
     "output_type": "display_data"
    }
   ],
   "source": [
    "pop_df = pd.read_csv(csv_path)\n",
    "pop_df = pop_df.set_index(['year'])\n",
    "pop_df['population'].plot()"
   ]
  },
  {
   "cell_type": "markdown",
   "metadata": {},
   "source": [
    "### Birth rate"
   ]
  },
  {
   "cell_type": "code",
   "execution_count": 9,
   "metadata": {},
   "outputs": [
    {
     "data": {
      "application/vnd.plotly.v1+json": {
       "config": {
        "plotlyServerURL": "https://plot.ly"
       },
       "data": [
        {
         "hovertemplate": "variable=0<br>mean_year=%{x}<br>value=%{y}<extra></extra>",
         "legendgroup": "0",
         "line": {
          "color": "#636efa",
          "dash": "solid"
         },
         "marker": {
          "symbol": "circle"
         },
         "mode": "markers+lines",
         "name": "0",
         "orientation": "v",
         "showlegend": true,
         "type": "scatter",
         "x": [
          1952.5,
          1957.5,
          1962.5,
          1967.5,
          1972.5,
          1977.5,
          1982.5,
          1987.5,
          1992.5,
          1997.5,
          2002.5,
          2007.5,
          2012.5,
          2017.5
         ],
         "xaxis": "x",
         "y": [
          0.039776000000000006,
          0.042731000000000005,
          0.040619999999999996,
          0.037357,
          0.035531,
          0.032790999999999994,
          0.031293,
          0.029655,
          0.026611,
          0.019188,
          0.016832999999999997,
          0.017184,
          0.017283,
          0.016945
         ],
         "yaxis": "y"
        }
       ],
       "layout": {
        "legend": {
         "title": {
          "text": "variable"
         },
         "tracegroupgap": 0
        },
        "margin": {
         "t": 60
        },
        "showlegend": false,
        "template": {
         "data": {
          "bar": [
           {
            "error_x": {
             "color": "#2a3f5f"
            },
            "error_y": {
             "color": "#2a3f5f"
            },
            "marker": {
             "line": {
              "color": "#E5ECF6",
              "width": 0.5
             },
             "pattern": {
              "fillmode": "overlay",
              "size": 10,
              "solidity": 0.2
             }
            },
            "type": "bar"
           }
          ],
          "barpolar": [
           {
            "marker": {
             "line": {
              "color": "#E5ECF6",
              "width": 0.5
             },
             "pattern": {
              "fillmode": "overlay",
              "size": 10,
              "solidity": 0.2
             }
            },
            "type": "barpolar"
           }
          ],
          "carpet": [
           {
            "aaxis": {
             "endlinecolor": "#2a3f5f",
             "gridcolor": "white",
             "linecolor": "white",
             "minorgridcolor": "white",
             "startlinecolor": "#2a3f5f"
            },
            "baxis": {
             "endlinecolor": "#2a3f5f",
             "gridcolor": "white",
             "linecolor": "white",
             "minorgridcolor": "white",
             "startlinecolor": "#2a3f5f"
            },
            "type": "carpet"
           }
          ],
          "choropleth": [
           {
            "colorbar": {
             "outlinewidth": 0,
             "ticks": ""
            },
            "type": "choropleth"
           }
          ],
          "contour": [
           {
            "colorbar": {
             "outlinewidth": 0,
             "ticks": ""
            },
            "colorscale": [
             [
              0,
              "#0d0887"
             ],
             [
              0.1111111111111111,
              "#46039f"
             ],
             [
              0.2222222222222222,
              "#7201a8"
             ],
             [
              0.3333333333333333,
              "#9c179e"
             ],
             [
              0.4444444444444444,
              "#bd3786"
             ],
             [
              0.5555555555555556,
              "#d8576b"
             ],
             [
              0.6666666666666666,
              "#ed7953"
             ],
             [
              0.7777777777777778,
              "#fb9f3a"
             ],
             [
              0.8888888888888888,
              "#fdca26"
             ],
             [
              1,
              "#f0f921"
             ]
            ],
            "type": "contour"
           }
          ],
          "contourcarpet": [
           {
            "colorbar": {
             "outlinewidth": 0,
             "ticks": ""
            },
            "type": "contourcarpet"
           }
          ],
          "heatmap": [
           {
            "colorbar": {
             "outlinewidth": 0,
             "ticks": ""
            },
            "colorscale": [
             [
              0,
              "#0d0887"
             ],
             [
              0.1111111111111111,
              "#46039f"
             ],
             [
              0.2222222222222222,
              "#7201a8"
             ],
             [
              0.3333333333333333,
              "#9c179e"
             ],
             [
              0.4444444444444444,
              "#bd3786"
             ],
             [
              0.5555555555555556,
              "#d8576b"
             ],
             [
              0.6666666666666666,
              "#ed7953"
             ],
             [
              0.7777777777777778,
              "#fb9f3a"
             ],
             [
              0.8888888888888888,
              "#fdca26"
             ],
             [
              1,
              "#f0f921"
             ]
            ],
            "type": "heatmap"
           }
          ],
          "heatmapgl": [
           {
            "colorbar": {
             "outlinewidth": 0,
             "ticks": ""
            },
            "colorscale": [
             [
              0,
              "#0d0887"
             ],
             [
              0.1111111111111111,
              "#46039f"
             ],
             [
              0.2222222222222222,
              "#7201a8"
             ],
             [
              0.3333333333333333,
              "#9c179e"
             ],
             [
              0.4444444444444444,
              "#bd3786"
             ],
             [
              0.5555555555555556,
              "#d8576b"
             ],
             [
              0.6666666666666666,
              "#ed7953"
             ],
             [
              0.7777777777777778,
              "#fb9f3a"
             ],
             [
              0.8888888888888888,
              "#fdca26"
             ],
             [
              1,
              "#f0f921"
             ]
            ],
            "type": "heatmapgl"
           }
          ],
          "histogram": [
           {
            "marker": {
             "pattern": {
              "fillmode": "overlay",
              "size": 10,
              "solidity": 0.2
             }
            },
            "type": "histogram"
           }
          ],
          "histogram2d": [
           {
            "colorbar": {
             "outlinewidth": 0,
             "ticks": ""
            },
            "colorscale": [
             [
              0,
              "#0d0887"
             ],
             [
              0.1111111111111111,
              "#46039f"
             ],
             [
              0.2222222222222222,
              "#7201a8"
             ],
             [
              0.3333333333333333,
              "#9c179e"
             ],
             [
              0.4444444444444444,
              "#bd3786"
             ],
             [
              0.5555555555555556,
              "#d8576b"
             ],
             [
              0.6666666666666666,
              "#ed7953"
             ],
             [
              0.7777777777777778,
              "#fb9f3a"
             ],
             [
              0.8888888888888888,
              "#fdca26"
             ],
             [
              1,
              "#f0f921"
             ]
            ],
            "type": "histogram2d"
           }
          ],
          "histogram2dcontour": [
           {
            "colorbar": {
             "outlinewidth": 0,
             "ticks": ""
            },
            "colorscale": [
             [
              0,
              "#0d0887"
             ],
             [
              0.1111111111111111,
              "#46039f"
             ],
             [
              0.2222222222222222,
              "#7201a8"
             ],
             [
              0.3333333333333333,
              "#9c179e"
             ],
             [
              0.4444444444444444,
              "#bd3786"
             ],
             [
              0.5555555555555556,
              "#d8576b"
             ],
             [
              0.6666666666666666,
              "#ed7953"
             ],
             [
              0.7777777777777778,
              "#fb9f3a"
             ],
             [
              0.8888888888888888,
              "#fdca26"
             ],
             [
              1,
              "#f0f921"
             ]
            ],
            "type": "histogram2dcontour"
           }
          ],
          "mesh3d": [
           {
            "colorbar": {
             "outlinewidth": 0,
             "ticks": ""
            },
            "type": "mesh3d"
           }
          ],
          "parcoords": [
           {
            "line": {
             "colorbar": {
              "outlinewidth": 0,
              "ticks": ""
             }
            },
            "type": "parcoords"
           }
          ],
          "pie": [
           {
            "automargin": true,
            "type": "pie"
           }
          ],
          "scatter": [
           {
            "fillpattern": {
             "fillmode": "overlay",
             "size": 10,
             "solidity": 0.2
            },
            "type": "scatter"
           }
          ],
          "scatter3d": [
           {
            "line": {
             "colorbar": {
              "outlinewidth": 0,
              "ticks": ""
             }
            },
            "marker": {
             "colorbar": {
              "outlinewidth": 0,
              "ticks": ""
             }
            },
            "type": "scatter3d"
           }
          ],
          "scattercarpet": [
           {
            "marker": {
             "colorbar": {
              "outlinewidth": 0,
              "ticks": ""
             }
            },
            "type": "scattercarpet"
           }
          ],
          "scattergeo": [
           {
            "marker": {
             "colorbar": {
              "outlinewidth": 0,
              "ticks": ""
             }
            },
            "type": "scattergeo"
           }
          ],
          "scattergl": [
           {
            "marker": {
             "colorbar": {
              "outlinewidth": 0,
              "ticks": ""
             }
            },
            "type": "scattergl"
           }
          ],
          "scattermapbox": [
           {
            "marker": {
             "colorbar": {
              "outlinewidth": 0,
              "ticks": ""
             }
            },
            "type": "scattermapbox"
           }
          ],
          "scatterpolar": [
           {
            "marker": {
             "colorbar": {
              "outlinewidth": 0,
              "ticks": ""
             }
            },
            "type": "scatterpolar"
           }
          ],
          "scatterpolargl": [
           {
            "marker": {
             "colorbar": {
              "outlinewidth": 0,
              "ticks": ""
             }
            },
            "type": "scatterpolargl"
           }
          ],
          "scatterternary": [
           {
            "marker": {
             "colorbar": {
              "outlinewidth": 0,
              "ticks": ""
             }
            },
            "type": "scatterternary"
           }
          ],
          "surface": [
           {
            "colorbar": {
             "outlinewidth": 0,
             "ticks": ""
            },
            "colorscale": [
             [
              0,
              "#0d0887"
             ],
             [
              0.1111111111111111,
              "#46039f"
             ],
             [
              0.2222222222222222,
              "#7201a8"
             ],
             [
              0.3333333333333333,
              "#9c179e"
             ],
             [
              0.4444444444444444,
              "#bd3786"
             ],
             [
              0.5555555555555556,
              "#d8576b"
             ],
             [
              0.6666666666666666,
              "#ed7953"
             ],
             [
              0.7777777777777778,
              "#fb9f3a"
             ],
             [
              0.8888888888888888,
              "#fdca26"
             ],
             [
              1,
              "#f0f921"
             ]
            ],
            "type": "surface"
           }
          ],
          "table": [
           {
            "cells": {
             "fill": {
              "color": "#EBF0F8"
             },
             "line": {
              "color": "white"
             }
            },
            "header": {
             "fill": {
              "color": "#C8D4E3"
             },
             "line": {
              "color": "white"
             }
            },
            "type": "table"
           }
          ]
         },
         "layout": {
          "annotationdefaults": {
           "arrowcolor": "#2a3f5f",
           "arrowhead": 0,
           "arrowwidth": 1
          },
          "autotypenumbers": "strict",
          "coloraxis": {
           "colorbar": {
            "outlinewidth": 0,
            "ticks": ""
           }
          },
          "colorscale": {
           "diverging": [
            [
             0,
             "#8e0152"
            ],
            [
             0.1,
             "#c51b7d"
            ],
            [
             0.2,
             "#de77ae"
            ],
            [
             0.3,
             "#f1b6da"
            ],
            [
             0.4,
             "#fde0ef"
            ],
            [
             0.5,
             "#f7f7f7"
            ],
            [
             0.6,
             "#e6f5d0"
            ],
            [
             0.7,
             "#b8e186"
            ],
            [
             0.8,
             "#7fbc41"
            ],
            [
             0.9,
             "#4d9221"
            ],
            [
             1,
             "#276419"
            ]
           ],
           "sequential": [
            [
             0,
             "#0d0887"
            ],
            [
             0.1111111111111111,
             "#46039f"
            ],
            [
             0.2222222222222222,
             "#7201a8"
            ],
            [
             0.3333333333333333,
             "#9c179e"
            ],
            [
             0.4444444444444444,
             "#bd3786"
            ],
            [
             0.5555555555555556,
             "#d8576b"
            ],
            [
             0.6666666666666666,
             "#ed7953"
            ],
            [
             0.7777777777777778,
             "#fb9f3a"
            ],
            [
             0.8888888888888888,
             "#fdca26"
            ],
            [
             1,
             "#f0f921"
            ]
           ],
           "sequentialminus": [
            [
             0,
             "#0d0887"
            ],
            [
             0.1111111111111111,
             "#46039f"
            ],
            [
             0.2222222222222222,
             "#7201a8"
            ],
            [
             0.3333333333333333,
             "#9c179e"
            ],
            [
             0.4444444444444444,
             "#bd3786"
            ],
            [
             0.5555555555555556,
             "#d8576b"
            ],
            [
             0.6666666666666666,
             "#ed7953"
            ],
            [
             0.7777777777777778,
             "#fb9f3a"
            ],
            [
             0.8888888888888888,
             "#fdca26"
            ],
            [
             1,
             "#f0f921"
            ]
           ]
          },
          "colorway": [
           "#636efa",
           "#EF553B",
           "#00cc96",
           "#ab63fa",
           "#FFA15A",
           "#19d3f3",
           "#FF6692",
           "#B6E880",
           "#FF97FF",
           "#FECB52"
          ],
          "font": {
           "color": "#2a3f5f"
          },
          "geo": {
           "bgcolor": "white",
           "lakecolor": "white",
           "landcolor": "#E5ECF6",
           "showlakes": true,
           "showland": true,
           "subunitcolor": "white"
          },
          "hoverlabel": {
           "align": "left"
          },
          "hovermode": "closest",
          "mapbox": {
           "style": "light"
          },
          "paper_bgcolor": "white",
          "plot_bgcolor": "#E5ECF6",
          "polar": {
           "angularaxis": {
            "gridcolor": "white",
            "linecolor": "white",
            "ticks": ""
           },
           "bgcolor": "#E5ECF6",
           "radialaxis": {
            "gridcolor": "white",
            "linecolor": "white",
            "ticks": ""
           }
          },
          "scene": {
           "xaxis": {
            "backgroundcolor": "#E5ECF6",
            "gridcolor": "white",
            "gridwidth": 2,
            "linecolor": "white",
            "showbackground": true,
            "ticks": "",
            "zerolinecolor": "white"
           },
           "yaxis": {
            "backgroundcolor": "#E5ECF6",
            "gridcolor": "white",
            "gridwidth": 2,
            "linecolor": "white",
            "showbackground": true,
            "ticks": "",
            "zerolinecolor": "white"
           },
           "zaxis": {
            "backgroundcolor": "#E5ECF6",
            "gridcolor": "white",
            "gridwidth": 2,
            "linecolor": "white",
            "showbackground": true,
            "ticks": "",
            "zerolinecolor": "white"
           }
          },
          "shapedefaults": {
           "line": {
            "color": "#2a3f5f"
           }
          },
          "ternary": {
           "aaxis": {
            "gridcolor": "white",
            "linecolor": "white",
            "ticks": ""
           },
           "baxis": {
            "gridcolor": "white",
            "linecolor": "white",
            "ticks": ""
           },
           "bgcolor": "#E5ECF6",
           "caxis": {
            "gridcolor": "white",
            "linecolor": "white",
            "ticks": ""
           }
          },
          "title": {
           "x": 0.05
          },
          "xaxis": {
           "automargin": true,
           "gridcolor": "white",
           "linecolor": "white",
           "ticks": "",
           "title": {
            "standoff": 15
           },
           "zerolinecolor": "white",
           "zerolinewidth": 2
          },
          "yaxis": {
           "automargin": true,
           "gridcolor": "white",
           "linecolor": "white",
           "ticks": "",
           "title": {
            "standoff": 15
           },
           "zerolinecolor": "white",
           "zerolinewidth": 2
          }
         }
        },
        "title": {
         "text": "Crude birth rate of Ca Mau",
         "x": 0.5
        },
        "xaxis": {
         "anchor": "y",
         "domain": [
          0,
          1
         ],
         "title": {
          "text": "Year"
         }
        },
        "yaxis": {
         "anchor": "x",
         "domain": [
          0,
          1
         ],
         "title": {
          "text": "Crude birth rate"
         }
        }
       }
      }
     },
     "metadata": {},
     "output_type": "display_data"
    }
   ],
   "source": [
    "birth_rates, years = inputs.get_crude_birth_rate(\"VNM\")\n",
    "birth_rates = [b / 1000.0 for b in birth_rates]  # Birth rates are provided / 1000 population\n",
    "birth_rates_series = pd.Series(birth_rates, index=years)\n",
    "br_fig= px.line(birth_rates_series)\n",
    "br_fig.update_traces(mode='markers+lines')\n",
    "br_fig.update_layout(\n",
    "    title=\"Crude birth rate of Ca Mau\",\n",
    "    title_x=0.5,\n",
    "    xaxis_title=\"Year\",\n",
    "    yaxis_title=\"Crude birth rate\",\n",
    "    showlegend=False,\n",
    ")"
   ]
  },
  {
   "cell_type": "markdown",
   "metadata": {},
   "source": [
    "### Death rate"
   ]
  },
  {
   "cell_type": "code",
   "execution_count": 10,
   "metadata": {},
   "outputs": [
    {
     "data": {
      "application/vnd.plotly.v1+json": {
       "config": {
        "plotlyServerURL": "https://plot.ly"
       },
       "data": [
        {
         "hovertemplate": "variable=0<br>index=%{x}<br>value=%{y}<extra></extra>",
         "legendgroup": "0",
         "line": {
          "color": "#636efa",
          "dash": "solid"
         },
         "marker": {
          "symbol": "circle"
         },
         "mode": "markers+lines",
         "name": "0",
         "orientation": "v",
         "showlegend": true,
         "type": "scatter",
         "x": [
          2005,
          2007,
          2008,
          2009,
          2010,
          2011,
          2012,
          2013,
          2014,
          2015,
          2016,
          2017,
          2018,
          2019,
          2020,
          2021
         ],
         "xaxis": "x",
         "y": [
          0.0048,
          0.0048,
          0.0044,
          0.0056,
          0.0056,
          0.0058,
          0.0053,
          0.006,
          0.0074,
          0.0054,
          0.0048,
          0.0066,
          0.005,
          0.0054,
          0.00521,
          0.00539
         ],
         "yaxis": "y"
        }
       ],
       "layout": {
        "legend": {
         "title": {
          "text": "variable"
         },
         "tracegroupgap": 0
        },
        "margin": {
         "t": 60
        },
        "showlegend": false,
        "template": {
         "data": {
          "bar": [
           {
            "error_x": {
             "color": "#2a3f5f"
            },
            "error_y": {
             "color": "#2a3f5f"
            },
            "marker": {
             "line": {
              "color": "#E5ECF6",
              "width": 0.5
             },
             "pattern": {
              "fillmode": "overlay",
              "size": 10,
              "solidity": 0.2
             }
            },
            "type": "bar"
           }
          ],
          "barpolar": [
           {
            "marker": {
             "line": {
              "color": "#E5ECF6",
              "width": 0.5
             },
             "pattern": {
              "fillmode": "overlay",
              "size": 10,
              "solidity": 0.2
             }
            },
            "type": "barpolar"
           }
          ],
          "carpet": [
           {
            "aaxis": {
             "endlinecolor": "#2a3f5f",
             "gridcolor": "white",
             "linecolor": "white",
             "minorgridcolor": "white",
             "startlinecolor": "#2a3f5f"
            },
            "baxis": {
             "endlinecolor": "#2a3f5f",
             "gridcolor": "white",
             "linecolor": "white",
             "minorgridcolor": "white",
             "startlinecolor": "#2a3f5f"
            },
            "type": "carpet"
           }
          ],
          "choropleth": [
           {
            "colorbar": {
             "outlinewidth": 0,
             "ticks": ""
            },
            "type": "choropleth"
           }
          ],
          "contour": [
           {
            "colorbar": {
             "outlinewidth": 0,
             "ticks": ""
            },
            "colorscale": [
             [
              0,
              "#0d0887"
             ],
             [
              0.1111111111111111,
              "#46039f"
             ],
             [
              0.2222222222222222,
              "#7201a8"
             ],
             [
              0.3333333333333333,
              "#9c179e"
             ],
             [
              0.4444444444444444,
              "#bd3786"
             ],
             [
              0.5555555555555556,
              "#d8576b"
             ],
             [
              0.6666666666666666,
              "#ed7953"
             ],
             [
              0.7777777777777778,
              "#fb9f3a"
             ],
             [
              0.8888888888888888,
              "#fdca26"
             ],
             [
              1,
              "#f0f921"
             ]
            ],
            "type": "contour"
           }
          ],
          "contourcarpet": [
           {
            "colorbar": {
             "outlinewidth": 0,
             "ticks": ""
            },
            "type": "contourcarpet"
           }
          ],
          "heatmap": [
           {
            "colorbar": {
             "outlinewidth": 0,
             "ticks": ""
            },
            "colorscale": [
             [
              0,
              "#0d0887"
             ],
             [
              0.1111111111111111,
              "#46039f"
             ],
             [
              0.2222222222222222,
              "#7201a8"
             ],
             [
              0.3333333333333333,
              "#9c179e"
             ],
             [
              0.4444444444444444,
              "#bd3786"
             ],
             [
              0.5555555555555556,
              "#d8576b"
             ],
             [
              0.6666666666666666,
              "#ed7953"
             ],
             [
              0.7777777777777778,
              "#fb9f3a"
             ],
             [
              0.8888888888888888,
              "#fdca26"
             ],
             [
              1,
              "#f0f921"
             ]
            ],
            "type": "heatmap"
           }
          ],
          "heatmapgl": [
           {
            "colorbar": {
             "outlinewidth": 0,
             "ticks": ""
            },
            "colorscale": [
             [
              0,
              "#0d0887"
             ],
             [
              0.1111111111111111,
              "#46039f"
             ],
             [
              0.2222222222222222,
              "#7201a8"
             ],
             [
              0.3333333333333333,
              "#9c179e"
             ],
             [
              0.4444444444444444,
              "#bd3786"
             ],
             [
              0.5555555555555556,
              "#d8576b"
             ],
             [
              0.6666666666666666,
              "#ed7953"
             ],
             [
              0.7777777777777778,
              "#fb9f3a"
             ],
             [
              0.8888888888888888,
              "#fdca26"
             ],
             [
              1,
              "#f0f921"
             ]
            ],
            "type": "heatmapgl"
           }
          ],
          "histogram": [
           {
            "marker": {
             "pattern": {
              "fillmode": "overlay",
              "size": 10,
              "solidity": 0.2
             }
            },
            "type": "histogram"
           }
          ],
          "histogram2d": [
           {
            "colorbar": {
             "outlinewidth": 0,
             "ticks": ""
            },
            "colorscale": [
             [
              0,
              "#0d0887"
             ],
             [
              0.1111111111111111,
              "#46039f"
             ],
             [
              0.2222222222222222,
              "#7201a8"
             ],
             [
              0.3333333333333333,
              "#9c179e"
             ],
             [
              0.4444444444444444,
              "#bd3786"
             ],
             [
              0.5555555555555556,
              "#d8576b"
             ],
             [
              0.6666666666666666,
              "#ed7953"
             ],
             [
              0.7777777777777778,
              "#fb9f3a"
             ],
             [
              0.8888888888888888,
              "#fdca26"
             ],
             [
              1,
              "#f0f921"
             ]
            ],
            "type": "histogram2d"
           }
          ],
          "histogram2dcontour": [
           {
            "colorbar": {
             "outlinewidth": 0,
             "ticks": ""
            },
            "colorscale": [
             [
              0,
              "#0d0887"
             ],
             [
              0.1111111111111111,
              "#46039f"
             ],
             [
              0.2222222222222222,
              "#7201a8"
             ],
             [
              0.3333333333333333,
              "#9c179e"
             ],
             [
              0.4444444444444444,
              "#bd3786"
             ],
             [
              0.5555555555555556,
              "#d8576b"
             ],
             [
              0.6666666666666666,
              "#ed7953"
             ],
             [
              0.7777777777777778,
              "#fb9f3a"
             ],
             [
              0.8888888888888888,
              "#fdca26"
             ],
             [
              1,
              "#f0f921"
             ]
            ],
            "type": "histogram2dcontour"
           }
          ],
          "mesh3d": [
           {
            "colorbar": {
             "outlinewidth": 0,
             "ticks": ""
            },
            "type": "mesh3d"
           }
          ],
          "parcoords": [
           {
            "line": {
             "colorbar": {
              "outlinewidth": 0,
              "ticks": ""
             }
            },
            "type": "parcoords"
           }
          ],
          "pie": [
           {
            "automargin": true,
            "type": "pie"
           }
          ],
          "scatter": [
           {
            "fillpattern": {
             "fillmode": "overlay",
             "size": 10,
             "solidity": 0.2
            },
            "type": "scatter"
           }
          ],
          "scatter3d": [
           {
            "line": {
             "colorbar": {
              "outlinewidth": 0,
              "ticks": ""
             }
            },
            "marker": {
             "colorbar": {
              "outlinewidth": 0,
              "ticks": ""
             }
            },
            "type": "scatter3d"
           }
          ],
          "scattercarpet": [
           {
            "marker": {
             "colorbar": {
              "outlinewidth": 0,
              "ticks": ""
             }
            },
            "type": "scattercarpet"
           }
          ],
          "scattergeo": [
           {
            "marker": {
             "colorbar": {
              "outlinewidth": 0,
              "ticks": ""
             }
            },
            "type": "scattergeo"
           }
          ],
          "scattergl": [
           {
            "marker": {
             "colorbar": {
              "outlinewidth": 0,
              "ticks": ""
             }
            },
            "type": "scattergl"
           }
          ],
          "scattermapbox": [
           {
            "marker": {
             "colorbar": {
              "outlinewidth": 0,
              "ticks": ""
             }
            },
            "type": "scattermapbox"
           }
          ],
          "scatterpolar": [
           {
            "marker": {
             "colorbar": {
              "outlinewidth": 0,
              "ticks": ""
             }
            },
            "type": "scatterpolar"
           }
          ],
          "scatterpolargl": [
           {
            "marker": {
             "colorbar": {
              "outlinewidth": 0,
              "ticks": ""
             }
            },
            "type": "scatterpolargl"
           }
          ],
          "scatterternary": [
           {
            "marker": {
             "colorbar": {
              "outlinewidth": 0,
              "ticks": ""
             }
            },
            "type": "scatterternary"
           }
          ],
          "surface": [
           {
            "colorbar": {
             "outlinewidth": 0,
             "ticks": ""
            },
            "colorscale": [
             [
              0,
              "#0d0887"
             ],
             [
              0.1111111111111111,
              "#46039f"
             ],
             [
              0.2222222222222222,
              "#7201a8"
             ],
             [
              0.3333333333333333,
              "#9c179e"
             ],
             [
              0.4444444444444444,
              "#bd3786"
             ],
             [
              0.5555555555555556,
              "#d8576b"
             ],
             [
              0.6666666666666666,
              "#ed7953"
             ],
             [
              0.7777777777777778,
              "#fb9f3a"
             ],
             [
              0.8888888888888888,
              "#fdca26"
             ],
             [
              1,
              "#f0f921"
             ]
            ],
            "type": "surface"
           }
          ],
          "table": [
           {
            "cells": {
             "fill": {
              "color": "#EBF0F8"
             },
             "line": {
              "color": "white"
             }
            },
            "header": {
             "fill": {
              "color": "#C8D4E3"
             },
             "line": {
              "color": "white"
             }
            },
            "type": "table"
           }
          ]
         },
         "layout": {
          "annotationdefaults": {
           "arrowcolor": "#2a3f5f",
           "arrowhead": 0,
           "arrowwidth": 1
          },
          "autotypenumbers": "strict",
          "coloraxis": {
           "colorbar": {
            "outlinewidth": 0,
            "ticks": ""
           }
          },
          "colorscale": {
           "diverging": [
            [
             0,
             "#8e0152"
            ],
            [
             0.1,
             "#c51b7d"
            ],
            [
             0.2,
             "#de77ae"
            ],
            [
             0.3,
             "#f1b6da"
            ],
            [
             0.4,
             "#fde0ef"
            ],
            [
             0.5,
             "#f7f7f7"
            ],
            [
             0.6,
             "#e6f5d0"
            ],
            [
             0.7,
             "#b8e186"
            ],
            [
             0.8,
             "#7fbc41"
            ],
            [
             0.9,
             "#4d9221"
            ],
            [
             1,
             "#276419"
            ]
           ],
           "sequential": [
            [
             0,
             "#0d0887"
            ],
            [
             0.1111111111111111,
             "#46039f"
            ],
            [
             0.2222222222222222,
             "#7201a8"
            ],
            [
             0.3333333333333333,
             "#9c179e"
            ],
            [
             0.4444444444444444,
             "#bd3786"
            ],
            [
             0.5555555555555556,
             "#d8576b"
            ],
            [
             0.6666666666666666,
             "#ed7953"
            ],
            [
             0.7777777777777778,
             "#fb9f3a"
            ],
            [
             0.8888888888888888,
             "#fdca26"
            ],
            [
             1,
             "#f0f921"
            ]
           ],
           "sequentialminus": [
            [
             0,
             "#0d0887"
            ],
            [
             0.1111111111111111,
             "#46039f"
            ],
            [
             0.2222222222222222,
             "#7201a8"
            ],
            [
             0.3333333333333333,
             "#9c179e"
            ],
            [
             0.4444444444444444,
             "#bd3786"
            ],
            [
             0.5555555555555556,
             "#d8576b"
            ],
            [
             0.6666666666666666,
             "#ed7953"
            ],
            [
             0.7777777777777778,
             "#fb9f3a"
            ],
            [
             0.8888888888888888,
             "#fdca26"
            ],
            [
             1,
             "#f0f921"
            ]
           ]
          },
          "colorway": [
           "#636efa",
           "#EF553B",
           "#00cc96",
           "#ab63fa",
           "#FFA15A",
           "#19d3f3",
           "#FF6692",
           "#B6E880",
           "#FF97FF",
           "#FECB52"
          ],
          "font": {
           "color": "#2a3f5f"
          },
          "geo": {
           "bgcolor": "white",
           "lakecolor": "white",
           "landcolor": "#E5ECF6",
           "showlakes": true,
           "showland": true,
           "subunitcolor": "white"
          },
          "hoverlabel": {
           "align": "left"
          },
          "hovermode": "closest",
          "mapbox": {
           "style": "light"
          },
          "paper_bgcolor": "white",
          "plot_bgcolor": "#E5ECF6",
          "polar": {
           "angularaxis": {
            "gridcolor": "white",
            "linecolor": "white",
            "ticks": ""
           },
           "bgcolor": "#E5ECF6",
           "radialaxis": {
            "gridcolor": "white",
            "linecolor": "white",
            "ticks": ""
           }
          },
          "scene": {
           "xaxis": {
            "backgroundcolor": "#E5ECF6",
            "gridcolor": "white",
            "gridwidth": 2,
            "linecolor": "white",
            "showbackground": true,
            "ticks": "",
            "zerolinecolor": "white"
           },
           "yaxis": {
            "backgroundcolor": "#E5ECF6",
            "gridcolor": "white",
            "gridwidth": 2,
            "linecolor": "white",
            "showbackground": true,
            "ticks": "",
            "zerolinecolor": "white"
           },
           "zaxis": {
            "backgroundcolor": "#E5ECF6",
            "gridcolor": "white",
            "gridwidth": 2,
            "linecolor": "white",
            "showbackground": true,
            "ticks": "",
            "zerolinecolor": "white"
           }
          },
          "shapedefaults": {
           "line": {
            "color": "#2a3f5f"
           }
          },
          "ternary": {
           "aaxis": {
            "gridcolor": "white",
            "linecolor": "white",
            "ticks": ""
           },
           "baxis": {
            "gridcolor": "white",
            "linecolor": "white",
            "ticks": ""
           },
           "bgcolor": "#E5ECF6",
           "caxis": {
            "gridcolor": "white",
            "linecolor": "white",
            "ticks": ""
           }
          },
          "title": {
           "x": 0.05
          },
          "xaxis": {
           "automargin": true,
           "gridcolor": "white",
           "linecolor": "white",
           "ticks": "",
           "title": {
            "standoff": 15
           },
           "zerolinecolor": "white",
           "zerolinewidth": 2
          },
          "yaxis": {
           "automargin": true,
           "gridcolor": "white",
           "linecolor": "white",
           "ticks": "",
           "title": {
            "standoff": 15
           },
           "zerolinecolor": "white",
           "zerolinewidth": 2
          }
         }
        },
        "title": {
         "text": "Crude death rate of Ca Mau",
         "x": 0.5
        },
        "xaxis": {
         "anchor": "y",
         "domain": [
          0,
          1
         ],
         "title": {
          "text": "Year"
         }
        },
        "yaxis": {
         "anchor": "x",
         "domain": [
          0,
          1
         ],
         "title": {
          "text": "Crude death rate"
         }
        }
       }
      }
     },
     "metadata": {},
     "output_type": "display_data"
    }
   ],
   "source": [
    "#Query and visualize the crude birth rate from database\n",
    "years, death_rates = queries.get_camau_death_rate()\n",
    "death_rates = [b / 1000.0 for b in death_rates]  # Birth rates are provided / 1000 population\n",
    "death_rates_series = pd.Series(death_rates, index=years)\n",
    "dr_fig= px.line(death_rates_series)\n",
    "dr_fig.update_traces(mode='markers+lines')\n",
    "dr_fig.update_layout(\n",
    "    title=\"Crude death rate of Ca Mau\",\n",
    "    title_x=0.5,\n",
    "    xaxis_title=\"Year\",\n",
    "    yaxis_title=\"Crude death rate\",\n",
    "    showlegend=False,\n",
    ")"
   ]
  },
  {
   "cell_type": "markdown",
   "metadata": {},
   "source": [
    "### Mixing matrix"
   ]
  },
  {
   "cell_type": "code",
   "execution_count": 11,
   "metadata": {},
   "outputs": [
    {
     "name": "stdout",
     "output_type": "stream",
     "text": [
      "Target region: CAMAU (VNM)\n",
      "Proxy country: VNM\n",
      "Always age-adjusted to target population\n"
     ]
    }
   ],
   "source": [
    "print(f\"Target region: {region.upper()} ({iso3})\")\n",
    "print(f\"Proxy country: {source_iso3}\")\n",
    "print(\"Always age-adjusted to target population\")"
   ]
  },
  {
   "cell_type": "code",
   "execution_count": 12,
   "metadata": {},
   "outputs": [
    {
     "name": "stdout",
     "output_type": "stream",
     "text": [
      "Total daily contacts for each age group is [ 5.64459085  6.61640819  7.65535217  9.06586113 10.04091602]\n"
     ]
    },
    {
     "data": {
      "application/vnd.plotly.v1+json": {
       "config": {
        "plotlyServerURL": "https://plot.ly"
       },
       "data": [
        {
         "coloraxis": "coloraxis",
         "hovertemplate": "x: %{x}<br>y: %{y}<br>color: %{z}<extra></extra>",
         "name": "0",
         "type": "heatmap",
         "xaxis": "x",
         "yaxis": "y",
         "z": [
          [
           1.0908468333205346,
           0.716822688708534,
           1.7623028059546926,
           1.0995780753229203,
           0.9750404499592717
          ],
          [
           0.45390612710913847,
           2.4137666338313095,
           1.4588357199365454,
           1.507894002395722,
           0.7820057090680609
          ],
          [
           0.6344996814991057,
           0.8525365784348492,
           2.506574499933637,
           1.8434143674731371,
           1.8183270426522034
          ],
          [
           0.3886229588784301,
           0.8511635972206743,
           2.1523192806625095,
           3.1055651046282433,
           2.568190184040729
          ],
          [
           0.18425886943154968,
           0.4667018881368389,
           1.772210178150134,
           2.7893487881510337,
           4.828396300478104
          ]
         ]
        }
       ],
       "layout": {
        "coloraxis": {
         "colorscale": [
          [
           0,
           "#0d0887"
          ],
          [
           0.1111111111111111,
           "#46039f"
          ],
          [
           0.2222222222222222,
           "#7201a8"
          ],
          [
           0.3333333333333333,
           "#9c179e"
          ],
          [
           0.4444444444444444,
           "#bd3786"
          ],
          [
           0.5555555555555556,
           "#d8576b"
          ],
          [
           0.6666666666666666,
           "#ed7953"
          ],
          [
           0.7777777777777778,
           "#fb9f3a"
          ],
          [
           0.8888888888888888,
           "#fdca26"
          ],
          [
           1,
           "#f0f921"
          ]
         ]
        },
        "margin": {
         "t": 60
        },
        "template": {
         "data": {
          "bar": [
           {
            "error_x": {
             "color": "#2a3f5f"
            },
            "error_y": {
             "color": "#2a3f5f"
            },
            "marker": {
             "line": {
              "color": "#E5ECF6",
              "width": 0.5
             },
             "pattern": {
              "fillmode": "overlay",
              "size": 10,
              "solidity": 0.2
             }
            },
            "type": "bar"
           }
          ],
          "barpolar": [
           {
            "marker": {
             "line": {
              "color": "#E5ECF6",
              "width": 0.5
             },
             "pattern": {
              "fillmode": "overlay",
              "size": 10,
              "solidity": 0.2
             }
            },
            "type": "barpolar"
           }
          ],
          "carpet": [
           {
            "aaxis": {
             "endlinecolor": "#2a3f5f",
             "gridcolor": "white",
             "linecolor": "white",
             "minorgridcolor": "white",
             "startlinecolor": "#2a3f5f"
            },
            "baxis": {
             "endlinecolor": "#2a3f5f",
             "gridcolor": "white",
             "linecolor": "white",
             "minorgridcolor": "white",
             "startlinecolor": "#2a3f5f"
            },
            "type": "carpet"
           }
          ],
          "choropleth": [
           {
            "colorbar": {
             "outlinewidth": 0,
             "ticks": ""
            },
            "type": "choropleth"
           }
          ],
          "contour": [
           {
            "colorbar": {
             "outlinewidth": 0,
             "ticks": ""
            },
            "colorscale": [
             [
              0,
              "#0d0887"
             ],
             [
              0.1111111111111111,
              "#46039f"
             ],
             [
              0.2222222222222222,
              "#7201a8"
             ],
             [
              0.3333333333333333,
              "#9c179e"
             ],
             [
              0.4444444444444444,
              "#bd3786"
             ],
             [
              0.5555555555555556,
              "#d8576b"
             ],
             [
              0.6666666666666666,
              "#ed7953"
             ],
             [
              0.7777777777777778,
              "#fb9f3a"
             ],
             [
              0.8888888888888888,
              "#fdca26"
             ],
             [
              1,
              "#f0f921"
             ]
            ],
            "type": "contour"
           }
          ],
          "contourcarpet": [
           {
            "colorbar": {
             "outlinewidth": 0,
             "ticks": ""
            },
            "type": "contourcarpet"
           }
          ],
          "heatmap": [
           {
            "colorbar": {
             "outlinewidth": 0,
             "ticks": ""
            },
            "colorscale": [
             [
              0,
              "#0d0887"
             ],
             [
              0.1111111111111111,
              "#46039f"
             ],
             [
              0.2222222222222222,
              "#7201a8"
             ],
             [
              0.3333333333333333,
              "#9c179e"
             ],
             [
              0.4444444444444444,
              "#bd3786"
             ],
             [
              0.5555555555555556,
              "#d8576b"
             ],
             [
              0.6666666666666666,
              "#ed7953"
             ],
             [
              0.7777777777777778,
              "#fb9f3a"
             ],
             [
              0.8888888888888888,
              "#fdca26"
             ],
             [
              1,
              "#f0f921"
             ]
            ],
            "type": "heatmap"
           }
          ],
          "heatmapgl": [
           {
            "colorbar": {
             "outlinewidth": 0,
             "ticks": ""
            },
            "colorscale": [
             [
              0,
              "#0d0887"
             ],
             [
              0.1111111111111111,
              "#46039f"
             ],
             [
              0.2222222222222222,
              "#7201a8"
             ],
             [
              0.3333333333333333,
              "#9c179e"
             ],
             [
              0.4444444444444444,
              "#bd3786"
             ],
             [
              0.5555555555555556,
              "#d8576b"
             ],
             [
              0.6666666666666666,
              "#ed7953"
             ],
             [
              0.7777777777777778,
              "#fb9f3a"
             ],
             [
              0.8888888888888888,
              "#fdca26"
             ],
             [
              1,
              "#f0f921"
             ]
            ],
            "type": "heatmapgl"
           }
          ],
          "histogram": [
           {
            "marker": {
             "pattern": {
              "fillmode": "overlay",
              "size": 10,
              "solidity": 0.2
             }
            },
            "type": "histogram"
           }
          ],
          "histogram2d": [
           {
            "colorbar": {
             "outlinewidth": 0,
             "ticks": ""
            },
            "colorscale": [
             [
              0,
              "#0d0887"
             ],
             [
              0.1111111111111111,
              "#46039f"
             ],
             [
              0.2222222222222222,
              "#7201a8"
             ],
             [
              0.3333333333333333,
              "#9c179e"
             ],
             [
              0.4444444444444444,
              "#bd3786"
             ],
             [
              0.5555555555555556,
              "#d8576b"
             ],
             [
              0.6666666666666666,
              "#ed7953"
             ],
             [
              0.7777777777777778,
              "#fb9f3a"
             ],
             [
              0.8888888888888888,
              "#fdca26"
             ],
             [
              1,
              "#f0f921"
             ]
            ],
            "type": "histogram2d"
           }
          ],
          "histogram2dcontour": [
           {
            "colorbar": {
             "outlinewidth": 0,
             "ticks": ""
            },
            "colorscale": [
             [
              0,
              "#0d0887"
             ],
             [
              0.1111111111111111,
              "#46039f"
             ],
             [
              0.2222222222222222,
              "#7201a8"
             ],
             [
              0.3333333333333333,
              "#9c179e"
             ],
             [
              0.4444444444444444,
              "#bd3786"
             ],
             [
              0.5555555555555556,
              "#d8576b"
             ],
             [
              0.6666666666666666,
              "#ed7953"
             ],
             [
              0.7777777777777778,
              "#fb9f3a"
             ],
             [
              0.8888888888888888,
              "#fdca26"
             ],
             [
              1,
              "#f0f921"
             ]
            ],
            "type": "histogram2dcontour"
           }
          ],
          "mesh3d": [
           {
            "colorbar": {
             "outlinewidth": 0,
             "ticks": ""
            },
            "type": "mesh3d"
           }
          ],
          "parcoords": [
           {
            "line": {
             "colorbar": {
              "outlinewidth": 0,
              "ticks": ""
             }
            },
            "type": "parcoords"
           }
          ],
          "pie": [
           {
            "automargin": true,
            "type": "pie"
           }
          ],
          "scatter": [
           {
            "fillpattern": {
             "fillmode": "overlay",
             "size": 10,
             "solidity": 0.2
            },
            "type": "scatter"
           }
          ],
          "scatter3d": [
           {
            "line": {
             "colorbar": {
              "outlinewidth": 0,
              "ticks": ""
             }
            },
            "marker": {
             "colorbar": {
              "outlinewidth": 0,
              "ticks": ""
             }
            },
            "type": "scatter3d"
           }
          ],
          "scattercarpet": [
           {
            "marker": {
             "colorbar": {
              "outlinewidth": 0,
              "ticks": ""
             }
            },
            "type": "scattercarpet"
           }
          ],
          "scattergeo": [
           {
            "marker": {
             "colorbar": {
              "outlinewidth": 0,
              "ticks": ""
             }
            },
            "type": "scattergeo"
           }
          ],
          "scattergl": [
           {
            "marker": {
             "colorbar": {
              "outlinewidth": 0,
              "ticks": ""
             }
            },
            "type": "scattergl"
           }
          ],
          "scattermapbox": [
           {
            "marker": {
             "colorbar": {
              "outlinewidth": 0,
              "ticks": ""
             }
            },
            "type": "scattermapbox"
           }
          ],
          "scatterpolar": [
           {
            "marker": {
             "colorbar": {
              "outlinewidth": 0,
              "ticks": ""
             }
            },
            "type": "scatterpolar"
           }
          ],
          "scatterpolargl": [
           {
            "marker": {
             "colorbar": {
              "outlinewidth": 0,
              "ticks": ""
             }
            },
            "type": "scatterpolargl"
           }
          ],
          "scatterternary": [
           {
            "marker": {
             "colorbar": {
              "outlinewidth": 0,
              "ticks": ""
             }
            },
            "type": "scatterternary"
           }
          ],
          "surface": [
           {
            "colorbar": {
             "outlinewidth": 0,
             "ticks": ""
            },
            "colorscale": [
             [
              0,
              "#0d0887"
             ],
             [
              0.1111111111111111,
              "#46039f"
             ],
             [
              0.2222222222222222,
              "#7201a8"
             ],
             [
              0.3333333333333333,
              "#9c179e"
             ],
             [
              0.4444444444444444,
              "#bd3786"
             ],
             [
              0.5555555555555556,
              "#d8576b"
             ],
             [
              0.6666666666666666,
              "#ed7953"
             ],
             [
              0.7777777777777778,
              "#fb9f3a"
             ],
             [
              0.8888888888888888,
              "#fdca26"
             ],
             [
              1,
              "#f0f921"
             ]
            ],
            "type": "surface"
           }
          ],
          "table": [
           {
            "cells": {
             "fill": {
              "color": "#EBF0F8"
             },
             "line": {
              "color": "white"
             }
            },
            "header": {
             "fill": {
              "color": "#C8D4E3"
             },
             "line": {
              "color": "white"
             }
            },
            "type": "table"
           }
          ]
         },
         "layout": {
          "annotationdefaults": {
           "arrowcolor": "#2a3f5f",
           "arrowhead": 0,
           "arrowwidth": 1
          },
          "autotypenumbers": "strict",
          "coloraxis": {
           "colorbar": {
            "outlinewidth": 0,
            "ticks": ""
           }
          },
          "colorscale": {
           "diverging": [
            [
             0,
             "#8e0152"
            ],
            [
             0.1,
             "#c51b7d"
            ],
            [
             0.2,
             "#de77ae"
            ],
            [
             0.3,
             "#f1b6da"
            ],
            [
             0.4,
             "#fde0ef"
            ],
            [
             0.5,
             "#f7f7f7"
            ],
            [
             0.6,
             "#e6f5d0"
            ],
            [
             0.7,
             "#b8e186"
            ],
            [
             0.8,
             "#7fbc41"
            ],
            [
             0.9,
             "#4d9221"
            ],
            [
             1,
             "#276419"
            ]
           ],
           "sequential": [
            [
             0,
             "#0d0887"
            ],
            [
             0.1111111111111111,
             "#46039f"
            ],
            [
             0.2222222222222222,
             "#7201a8"
            ],
            [
             0.3333333333333333,
             "#9c179e"
            ],
            [
             0.4444444444444444,
             "#bd3786"
            ],
            [
             0.5555555555555556,
             "#d8576b"
            ],
            [
             0.6666666666666666,
             "#ed7953"
            ],
            [
             0.7777777777777778,
             "#fb9f3a"
            ],
            [
             0.8888888888888888,
             "#fdca26"
            ],
            [
             1,
             "#f0f921"
            ]
           ],
           "sequentialminus": [
            [
             0,
             "#0d0887"
            ],
            [
             0.1111111111111111,
             "#46039f"
            ],
            [
             0.2222222222222222,
             "#7201a8"
            ],
            [
             0.3333333333333333,
             "#9c179e"
            ],
            [
             0.4444444444444444,
             "#bd3786"
            ],
            [
             0.5555555555555556,
             "#d8576b"
            ],
            [
             0.6666666666666666,
             "#ed7953"
            ],
            [
             0.7777777777777778,
             "#fb9f3a"
            ],
            [
             0.8888888888888888,
             "#fdca26"
            ],
            [
             1,
             "#f0f921"
            ]
           ]
          },
          "colorway": [
           "#636efa",
           "#EF553B",
           "#00cc96",
           "#ab63fa",
           "#FFA15A",
           "#19d3f3",
           "#FF6692",
           "#B6E880",
           "#FF97FF",
           "#FECB52"
          ],
          "font": {
           "color": "#2a3f5f"
          },
          "geo": {
           "bgcolor": "white",
           "lakecolor": "white",
           "landcolor": "#E5ECF6",
           "showlakes": true,
           "showland": true,
           "subunitcolor": "white"
          },
          "hoverlabel": {
           "align": "left"
          },
          "hovermode": "closest",
          "mapbox": {
           "style": "light"
          },
          "paper_bgcolor": "white",
          "plot_bgcolor": "#E5ECF6",
          "polar": {
           "angularaxis": {
            "gridcolor": "white",
            "linecolor": "white",
            "ticks": ""
           },
           "bgcolor": "#E5ECF6",
           "radialaxis": {
            "gridcolor": "white",
            "linecolor": "white",
            "ticks": ""
           }
          },
          "scene": {
           "xaxis": {
            "backgroundcolor": "#E5ECF6",
            "gridcolor": "white",
            "gridwidth": 2,
            "linecolor": "white",
            "showbackground": true,
            "ticks": "",
            "zerolinecolor": "white"
           },
           "yaxis": {
            "backgroundcolor": "#E5ECF6",
            "gridcolor": "white",
            "gridwidth": 2,
            "linecolor": "white",
            "showbackground": true,
            "ticks": "",
            "zerolinecolor": "white"
           },
           "zaxis": {
            "backgroundcolor": "#E5ECF6",
            "gridcolor": "white",
            "gridwidth": 2,
            "linecolor": "white",
            "showbackground": true,
            "ticks": "",
            "zerolinecolor": "white"
           }
          },
          "shapedefaults": {
           "line": {
            "color": "#2a3f5f"
           }
          },
          "ternary": {
           "aaxis": {
            "gridcolor": "white",
            "linecolor": "white",
            "ticks": ""
           },
           "baxis": {
            "gridcolor": "white",
            "linecolor": "white",
            "ticks": ""
           },
           "bgcolor": "#E5ECF6",
           "caxis": {
            "gridcolor": "white",
            "linecolor": "white",
            "ticks": ""
           }
          },
          "title": {
           "x": 0.05
          },
          "xaxis": {
           "automargin": true,
           "gridcolor": "white",
           "linecolor": "white",
           "ticks": "",
           "title": {
            "standoff": 15
           },
           "zerolinecolor": "white",
           "zerolinewidth": 2
          },
          "yaxis": {
           "automargin": true,
           "gridcolor": "white",
           "linecolor": "white",
           "ticks": "",
           "title": {
            "standoff": 15
           },
           "zerolinecolor": "white",
           "zerolinewidth": 2
          }
         }
        },
        "xaxis": {
         "anchor": "y",
         "constrain": "domain",
         "domain": [
          0,
          1
         ],
         "scaleanchor": "y"
        },
        "yaxis": {
         "anchor": "x",
         "autorange": "reversed",
         "constrain": "domain",
         "domain": [
          0,
          1
         ]
        }
       }
      }
     },
     "metadata": {},
     "output_type": "display_data"
    }
   ],
   "source": [
    "mixing_matrices = build_synthetic_matrices(\n",
    "    iso3, source_iso3, modelled_age_groups, age_adjust, requested_locations=['all_locations']\n",
    ")\n",
    "print(f\"Total daily contacts for each age group is {mixing_matrices['all_locations'].sum(axis=1)}\")\n",
    "px.imshow(mixing_matrices[\"all_locations\"])"
   ]
  },
  {
   "cell_type": "code",
   "execution_count": 13,
   "metadata": {},
   "outputs": [],
   "source": [
    "update_params = {\n",
    "    'start_population_size':40000,\n",
    "    'infectious_seed': 300,\n",
    "    #'contact_rate':0.002\n",
    "}\n",
    "params = baseline_params.update(update_params,calibration_format=True)\n",
    "model_0 = p.run_baseline_model(params)\n",
    "derived_df_0 = model_0.get_derived_outputs_df()"
   ]
  },
  {
   "cell_type": "code",
   "execution_count": null,
   "metadata": {},
   "outputs": [],
   "source": [
    "#pretty_print(baseline_params)"
   ]
  },
  {
   "cell_type": "code",
   "execution_count": 14,
   "metadata": {},
   "outputs": [
    {
     "data": {
      "application/vnd.plotly.v1+json": {
       "config": {
        "plotlyServerURL": "https://plot.ly"
       },
       "data": [
        {
         "hovertemplate": "index=%{x}<br>total_population=%{y}<extra></extra>",
         "legendgroup": "",
         "line": {
          "color": "#636efa",
          "dash": "solid"
         },
         "marker": {
          "symbol": "circle"
         },
         "mode": "lines",
         "name": "",
         "showlegend": false,
         "type": "scattergl",
         "x": [
          1800,
          1800.1,
          1800.2,
          1800.3,
          1800.4,
          1800.5,
          1800.6,
          1800.7,
          1800.8,
          1800.9,
          1801,
          1801.1,
          1801.2,
          1801.3,
          1801.4,
          1801.5,
          1801.6,
          1801.7,
          1801.8,
          1801.9,
          1802,
          1802.1,
          1802.2,
          1802.3,
          1802.4,
          1802.5,
          1802.6,
          1802.7,
          1802.8,
          1802.9,
          1803,
          1803.1,
          1803.2,
          1803.3,
          1803.4,
          1803.5,
          1803.6,
          1803.7,
          1803.8,
          1803.9,
          1804,
          1804.1,
          1804.2,
          1804.3,
          1804.4,
          1804.5,
          1804.6,
          1804.7,
          1804.8,
          1804.9,
          1805,
          1805.1,
          1805.2,
          1805.3,
          1805.4,
          1805.5,
          1805.6,
          1805.7,
          1805.8,
          1805.9,
          1806,
          1806.1,
          1806.2,
          1806.3,
          1806.4,
          1806.5,
          1806.6,
          1806.7,
          1806.8,
          1806.9,
          1807,
          1807.1,
          1807.2,
          1807.3,
          1807.4,
          1807.5,
          1807.6,
          1807.7,
          1807.8,
          1807.9,
          1808,
          1808.1,
          1808.2,
          1808.3,
          1808.4,
          1808.5,
          1808.6,
          1808.7,
          1808.8,
          1808.9,
          1809,
          1809.1,
          1809.2,
          1809.3,
          1809.4,
          1809.5,
          1809.6,
          1809.7,
          1809.8,
          1809.9,
          1810,
          1810.1,
          1810.2,
          1810.3,
          1810.4,
          1810.5,
          1810.6,
          1810.7,
          1810.8,
          1810.9,
          1811,
          1811.1,
          1811.2,
          1811.3,
          1811.4,
          1811.5,
          1811.6,
          1811.7,
          1811.8,
          1811.9,
          1812,
          1812.1,
          1812.2,
          1812.3,
          1812.4,
          1812.5,
          1812.6,
          1812.7,
          1812.8,
          1812.9,
          1813,
          1813.1,
          1813.2,
          1813.3,
          1813.4,
          1813.5,
          1813.6,
          1813.7,
          1813.8,
          1813.9,
          1814,
          1814.1,
          1814.2,
          1814.3,
          1814.4,
          1814.5,
          1814.6,
          1814.7,
          1814.8,
          1814.9,
          1815,
          1815.1,
          1815.2,
          1815.3,
          1815.4,
          1815.5,
          1815.6,
          1815.7,
          1815.8,
          1815.9,
          1816,
          1816.1,
          1816.2,
          1816.3,
          1816.4,
          1816.5,
          1816.6,
          1816.7,
          1816.8,
          1816.9,
          1817,
          1817.1,
          1817.2,
          1817.3,
          1817.4,
          1817.5,
          1817.6,
          1817.7,
          1817.8,
          1817.9,
          1818,
          1818.1,
          1818.2,
          1818.3,
          1818.4,
          1818.5,
          1818.6,
          1818.7,
          1818.8,
          1818.9,
          1819,
          1819.1,
          1819.2,
          1819.3,
          1819.4,
          1819.5,
          1819.6,
          1819.7,
          1819.8,
          1819.9,
          1820,
          1820.1,
          1820.2,
          1820.3,
          1820.4,
          1820.5,
          1820.6,
          1820.7,
          1820.8,
          1820.9,
          1821,
          1821.1,
          1821.2,
          1821.3,
          1821.4,
          1821.5,
          1821.6,
          1821.7,
          1821.8,
          1821.9,
          1822,
          1822.1,
          1822.2,
          1822.3,
          1822.4,
          1822.5,
          1822.6,
          1822.7,
          1822.8,
          1822.9,
          1823,
          1823.1,
          1823.2,
          1823.3,
          1823.4,
          1823.5,
          1823.6,
          1823.7,
          1823.8,
          1823.9,
          1824,
          1824.1,
          1824.2,
          1824.3,
          1824.4,
          1824.5,
          1824.6,
          1824.7,
          1824.8,
          1824.9,
          1825,
          1825.1,
          1825.2,
          1825.3,
          1825.4,
          1825.5,
          1825.6,
          1825.7,
          1825.8,
          1825.9,
          1826,
          1826.1,
          1826.2,
          1826.3,
          1826.4,
          1826.5,
          1826.6,
          1826.7,
          1826.8,
          1826.9,
          1827,
          1827.1,
          1827.2,
          1827.3,
          1827.4,
          1827.5,
          1827.6,
          1827.7,
          1827.8,
          1827.9,
          1828,
          1828.1,
          1828.2,
          1828.3,
          1828.4,
          1828.5,
          1828.6,
          1828.7,
          1828.8,
          1828.9,
          1829,
          1829.1,
          1829.2,
          1829.3,
          1829.4,
          1829.5,
          1829.6,
          1829.7,
          1829.8,
          1829.9,
          1830,
          1830.1,
          1830.2,
          1830.3,
          1830.4,
          1830.5,
          1830.6,
          1830.7,
          1830.8,
          1830.9,
          1831,
          1831.1,
          1831.2,
          1831.3,
          1831.4,
          1831.5,
          1831.6,
          1831.7,
          1831.8,
          1831.9,
          1832,
          1832.1,
          1832.2,
          1832.3,
          1832.4,
          1832.5,
          1832.6,
          1832.7,
          1832.8,
          1832.9,
          1833,
          1833.1,
          1833.2,
          1833.3,
          1833.4,
          1833.5,
          1833.6,
          1833.7,
          1833.8,
          1833.9,
          1834,
          1834.1,
          1834.2,
          1834.3,
          1834.4,
          1834.5,
          1834.6,
          1834.7,
          1834.8,
          1834.9,
          1835,
          1835.1,
          1835.2,
          1835.3,
          1835.4,
          1835.5,
          1835.6,
          1835.7,
          1835.8,
          1835.9,
          1836,
          1836.1,
          1836.2,
          1836.3,
          1836.4,
          1836.5,
          1836.6,
          1836.7,
          1836.8,
          1836.9,
          1837,
          1837.1,
          1837.2,
          1837.3,
          1837.4,
          1837.5,
          1837.6,
          1837.7,
          1837.8,
          1837.9,
          1838,
          1838.1,
          1838.2,
          1838.3,
          1838.4,
          1838.5,
          1838.6,
          1838.7,
          1838.8,
          1838.9,
          1839,
          1839.1,
          1839.2,
          1839.3,
          1839.4,
          1839.5,
          1839.6,
          1839.7,
          1839.8,
          1839.9,
          1840,
          1840.1,
          1840.2,
          1840.3,
          1840.4,
          1840.5,
          1840.6,
          1840.7,
          1840.8,
          1840.9,
          1841,
          1841.1,
          1841.2,
          1841.3,
          1841.4,
          1841.5,
          1841.6,
          1841.7,
          1841.8,
          1841.9,
          1842,
          1842.1,
          1842.2,
          1842.3,
          1842.4,
          1842.5,
          1842.6,
          1842.7,
          1842.8,
          1842.9,
          1843,
          1843.1,
          1843.2,
          1843.3,
          1843.4,
          1843.5,
          1843.6,
          1843.7,
          1843.8,
          1843.9,
          1844,
          1844.1,
          1844.2,
          1844.3,
          1844.4,
          1844.5,
          1844.6,
          1844.7,
          1844.8,
          1844.9,
          1845,
          1845.1,
          1845.2,
          1845.3,
          1845.4,
          1845.5,
          1845.6,
          1845.7,
          1845.8,
          1845.9,
          1846,
          1846.1,
          1846.2,
          1846.3,
          1846.4,
          1846.5,
          1846.6,
          1846.7,
          1846.8,
          1846.9,
          1847,
          1847.1,
          1847.2,
          1847.3,
          1847.4,
          1847.5,
          1847.6,
          1847.7,
          1847.8,
          1847.9,
          1848,
          1848.1,
          1848.2,
          1848.3,
          1848.4,
          1848.5,
          1848.6,
          1848.7,
          1848.8,
          1848.9,
          1849,
          1849.1,
          1849.2,
          1849.3,
          1849.4,
          1849.5,
          1849.6,
          1849.7,
          1849.8,
          1849.9,
          1850,
          1850.1,
          1850.2,
          1850.3,
          1850.4,
          1850.5,
          1850.6,
          1850.7,
          1850.8,
          1850.9,
          1851,
          1851.1,
          1851.2,
          1851.3,
          1851.4,
          1851.5,
          1851.6,
          1851.7,
          1851.8,
          1851.9,
          1852,
          1852.1,
          1852.2,
          1852.3,
          1852.4,
          1852.5,
          1852.6,
          1852.7,
          1852.8,
          1852.9,
          1853,
          1853.1,
          1853.2,
          1853.3,
          1853.4,
          1853.5,
          1853.6,
          1853.7,
          1853.8,
          1853.9,
          1854,
          1854.1,
          1854.2,
          1854.3,
          1854.4,
          1854.5,
          1854.6,
          1854.7,
          1854.8,
          1854.9,
          1855,
          1855.1,
          1855.2,
          1855.3,
          1855.4,
          1855.5,
          1855.6,
          1855.7,
          1855.8,
          1855.9,
          1856,
          1856.1,
          1856.2,
          1856.3,
          1856.4,
          1856.5,
          1856.6,
          1856.7,
          1856.8,
          1856.9,
          1857,
          1857.1,
          1857.2,
          1857.3,
          1857.4,
          1857.5,
          1857.6,
          1857.7,
          1857.8,
          1857.9,
          1858,
          1858.1,
          1858.2,
          1858.3,
          1858.4,
          1858.5,
          1858.6,
          1858.7,
          1858.8,
          1858.9,
          1859,
          1859.1,
          1859.2,
          1859.3,
          1859.4,
          1859.5,
          1859.6,
          1859.7,
          1859.8,
          1859.9,
          1860,
          1860.1,
          1860.2,
          1860.3,
          1860.4,
          1860.5,
          1860.6,
          1860.7,
          1860.8,
          1860.9,
          1861,
          1861.1,
          1861.2,
          1861.3,
          1861.4,
          1861.5,
          1861.6,
          1861.7,
          1861.8,
          1861.9,
          1862,
          1862.1,
          1862.2,
          1862.3,
          1862.4,
          1862.5,
          1862.6,
          1862.7,
          1862.8,
          1862.9,
          1863,
          1863.1,
          1863.2,
          1863.3,
          1863.4,
          1863.5,
          1863.6,
          1863.7,
          1863.8,
          1863.9,
          1864,
          1864.1,
          1864.2,
          1864.3,
          1864.4,
          1864.5,
          1864.6,
          1864.7,
          1864.8,
          1864.9,
          1865,
          1865.1,
          1865.2,
          1865.3,
          1865.4,
          1865.5,
          1865.6,
          1865.7,
          1865.8,
          1865.9,
          1866,
          1866.1,
          1866.2,
          1866.3,
          1866.4,
          1866.5,
          1866.6,
          1866.7,
          1866.8,
          1866.9,
          1867,
          1867.1,
          1867.2,
          1867.3,
          1867.4,
          1867.5,
          1867.6,
          1867.7,
          1867.8,
          1867.9,
          1868,
          1868.1,
          1868.2,
          1868.3,
          1868.4,
          1868.5,
          1868.6,
          1868.7,
          1868.8,
          1868.9,
          1869,
          1869.1,
          1869.2,
          1869.3,
          1869.4,
          1869.5,
          1869.6,
          1869.7,
          1869.8,
          1869.9,
          1870,
          1870.1,
          1870.2,
          1870.3,
          1870.4,
          1870.5,
          1870.6,
          1870.7,
          1870.8,
          1870.9,
          1871,
          1871.1,
          1871.2,
          1871.3,
          1871.4,
          1871.5,
          1871.6,
          1871.7,
          1871.8,
          1871.9,
          1872,
          1872.1,
          1872.2,
          1872.3,
          1872.4,
          1872.5,
          1872.6,
          1872.7,
          1872.8,
          1872.9,
          1873,
          1873.1,
          1873.2,
          1873.3,
          1873.4,
          1873.5,
          1873.6,
          1873.7,
          1873.8,
          1873.9,
          1874,
          1874.1,
          1874.2,
          1874.3,
          1874.4,
          1874.5,
          1874.6,
          1874.7,
          1874.8,
          1874.9,
          1875,
          1875.1,
          1875.2,
          1875.3,
          1875.4,
          1875.5,
          1875.6,
          1875.7,
          1875.8,
          1875.9,
          1876,
          1876.1,
          1876.2,
          1876.3,
          1876.4,
          1876.5,
          1876.6,
          1876.7,
          1876.8,
          1876.9,
          1877,
          1877.1,
          1877.2,
          1877.3,
          1877.4,
          1877.5,
          1877.6,
          1877.7,
          1877.8,
          1877.9,
          1878,
          1878.1,
          1878.2,
          1878.3,
          1878.4,
          1878.5,
          1878.6,
          1878.7,
          1878.8,
          1878.9,
          1879,
          1879.1,
          1879.2,
          1879.3,
          1879.4,
          1879.5,
          1879.6,
          1879.7,
          1879.8,
          1879.9,
          1880,
          1880.1,
          1880.2,
          1880.3,
          1880.4,
          1880.5,
          1880.6,
          1880.7,
          1880.8,
          1880.9,
          1881,
          1881.1,
          1881.2,
          1881.3,
          1881.4,
          1881.5,
          1881.6,
          1881.7,
          1881.8,
          1881.9,
          1882,
          1882.1,
          1882.2,
          1882.3,
          1882.4,
          1882.5,
          1882.6,
          1882.7,
          1882.8,
          1882.9,
          1883,
          1883.1,
          1883.2,
          1883.3,
          1883.4,
          1883.5,
          1883.6,
          1883.7,
          1883.8,
          1883.9,
          1884,
          1884.1,
          1884.2,
          1884.3,
          1884.4,
          1884.5,
          1884.6,
          1884.7,
          1884.8,
          1884.9,
          1885,
          1885.1,
          1885.2,
          1885.3,
          1885.4,
          1885.5,
          1885.6,
          1885.7,
          1885.8,
          1885.9,
          1886,
          1886.1,
          1886.2,
          1886.3,
          1886.4,
          1886.5,
          1886.6,
          1886.7,
          1886.8,
          1886.9,
          1887,
          1887.1,
          1887.2,
          1887.3,
          1887.4,
          1887.5,
          1887.6,
          1887.7,
          1887.8,
          1887.9,
          1888,
          1888.1,
          1888.2,
          1888.3,
          1888.4,
          1888.5,
          1888.6,
          1888.7,
          1888.8,
          1888.9,
          1889,
          1889.1,
          1889.2,
          1889.3,
          1889.4,
          1889.5,
          1889.6,
          1889.7,
          1889.8,
          1889.9,
          1890,
          1890.1,
          1890.2,
          1890.3,
          1890.4,
          1890.5,
          1890.6,
          1890.7,
          1890.8,
          1890.9,
          1891,
          1891.1,
          1891.2,
          1891.3,
          1891.4,
          1891.5,
          1891.6,
          1891.7,
          1891.8,
          1891.9,
          1892,
          1892.1,
          1892.2,
          1892.3,
          1892.4,
          1892.5,
          1892.6,
          1892.7,
          1892.8,
          1892.9,
          1893,
          1893.1,
          1893.2,
          1893.3,
          1893.4,
          1893.5,
          1893.6,
          1893.7,
          1893.8,
          1893.9,
          1894,
          1894.1,
          1894.2,
          1894.3,
          1894.4,
          1894.5,
          1894.6,
          1894.7,
          1894.8,
          1894.9,
          1895,
          1895.1,
          1895.2,
          1895.3,
          1895.4,
          1895.5,
          1895.6,
          1895.7,
          1895.8,
          1895.9,
          1896,
          1896.1,
          1896.2,
          1896.3,
          1896.4,
          1896.5,
          1896.6,
          1896.7,
          1896.8,
          1896.9,
          1897,
          1897.1,
          1897.2,
          1897.3,
          1897.4,
          1897.5,
          1897.6,
          1897.7,
          1897.8,
          1897.9,
          1898,
          1898.1,
          1898.2,
          1898.3,
          1898.4,
          1898.5,
          1898.6,
          1898.7,
          1898.8,
          1898.9,
          1899,
          1899.1,
          1899.2,
          1899.3,
          1899.4,
          1899.5,
          1899.6,
          1899.7,
          1899.8,
          1899.9,
          1900,
          1900.1,
          1900.2,
          1900.3,
          1900.4,
          1900.5,
          1900.6,
          1900.7,
          1900.8,
          1900.9,
          1901,
          1901.1,
          1901.2,
          1901.3,
          1901.4,
          1901.5,
          1901.6,
          1901.7,
          1901.8,
          1901.9,
          1902,
          1902.1,
          1902.2,
          1902.3,
          1902.4,
          1902.5,
          1902.6,
          1902.7,
          1902.8,
          1902.9,
          1903,
          1903.1,
          1903.2,
          1903.3,
          1903.4,
          1903.5,
          1903.6,
          1903.7,
          1903.8,
          1903.9,
          1904,
          1904.1,
          1904.2,
          1904.3,
          1904.4,
          1904.5,
          1904.6,
          1904.7,
          1904.8,
          1904.9,
          1905,
          1905.1,
          1905.2,
          1905.3,
          1905.4,
          1905.5,
          1905.6,
          1905.7,
          1905.8,
          1905.9,
          1906,
          1906.1,
          1906.2,
          1906.3,
          1906.4,
          1906.5,
          1906.6,
          1906.7,
          1906.8,
          1906.9,
          1907,
          1907.1,
          1907.2,
          1907.3,
          1907.4,
          1907.5,
          1907.6,
          1907.7,
          1907.8,
          1907.9,
          1908,
          1908.1,
          1908.2,
          1908.3,
          1908.4,
          1908.5,
          1908.6,
          1908.7,
          1908.8,
          1908.9,
          1909,
          1909.1,
          1909.2,
          1909.3,
          1909.4,
          1909.5,
          1909.6,
          1909.7,
          1909.8,
          1909.9,
          1910,
          1910.1,
          1910.2,
          1910.3,
          1910.4,
          1910.5,
          1910.6,
          1910.7,
          1910.8,
          1910.9,
          1911,
          1911.1,
          1911.2,
          1911.3,
          1911.4,
          1911.5,
          1911.6,
          1911.7,
          1911.8,
          1911.9,
          1912,
          1912.1,
          1912.2,
          1912.3,
          1912.4,
          1912.5,
          1912.6,
          1912.7,
          1912.8,
          1912.9,
          1913,
          1913.1,
          1913.2,
          1913.3,
          1913.4,
          1913.5,
          1913.6,
          1913.7,
          1913.8,
          1913.9,
          1914,
          1914.1,
          1914.2,
          1914.3,
          1914.4,
          1914.5,
          1914.6,
          1914.7,
          1914.8,
          1914.9,
          1915,
          1915.1,
          1915.2,
          1915.3,
          1915.4,
          1915.5,
          1915.6,
          1915.7,
          1915.8,
          1915.9,
          1916,
          1916.1,
          1916.2,
          1916.3,
          1916.4,
          1916.5,
          1916.6,
          1916.7,
          1916.8,
          1916.9,
          1917,
          1917.1,
          1917.2,
          1917.3,
          1917.4,
          1917.5,
          1917.6,
          1917.7,
          1917.8,
          1917.9,
          1918,
          1918.1,
          1918.2,
          1918.3,
          1918.4,
          1918.5,
          1918.6,
          1918.7,
          1918.8,
          1918.9,
          1919,
          1919.1,
          1919.2,
          1919.3,
          1919.4,
          1919.5,
          1919.6,
          1919.7,
          1919.8,
          1919.9,
          1920,
          1920.1,
          1920.2,
          1920.3,
          1920.4,
          1920.5,
          1920.6,
          1920.7,
          1920.8,
          1920.9,
          1921,
          1921.1,
          1921.2,
          1921.3,
          1921.4,
          1921.5,
          1921.6,
          1921.7,
          1921.8,
          1921.9,
          1922,
          1922.1,
          1922.2,
          1922.3,
          1922.4,
          1922.5,
          1922.6,
          1922.7,
          1922.8,
          1922.9,
          1923,
          1923.1,
          1923.2,
          1923.3,
          1923.4,
          1923.5,
          1923.6,
          1923.7,
          1923.8,
          1923.9,
          1924,
          1924.1,
          1924.2,
          1924.3,
          1924.4,
          1924.5,
          1924.6,
          1924.7,
          1924.8,
          1924.9,
          1925,
          1925.1,
          1925.2,
          1925.3,
          1925.4,
          1925.5,
          1925.6,
          1925.7,
          1925.8,
          1925.9,
          1926,
          1926.1,
          1926.2,
          1926.3,
          1926.4,
          1926.5,
          1926.6,
          1926.7,
          1926.8,
          1926.9,
          1927,
          1927.1,
          1927.2,
          1927.3,
          1927.4,
          1927.5,
          1927.6,
          1927.7,
          1927.8,
          1927.9,
          1928,
          1928.1,
          1928.2,
          1928.3,
          1928.4,
          1928.5,
          1928.6,
          1928.7,
          1928.8,
          1928.9,
          1929,
          1929.1,
          1929.2,
          1929.3,
          1929.4,
          1929.5,
          1929.6,
          1929.7,
          1929.8,
          1929.9,
          1930,
          1930.1,
          1930.2,
          1930.3,
          1930.4,
          1930.5,
          1930.6,
          1930.7,
          1930.8,
          1930.9,
          1931,
          1931.1,
          1931.2,
          1931.3,
          1931.4,
          1931.5,
          1931.6,
          1931.7,
          1931.8,
          1931.9,
          1932,
          1932.1,
          1932.2,
          1932.3,
          1932.4,
          1932.5,
          1932.6,
          1932.7,
          1932.8,
          1932.9,
          1933,
          1933.1,
          1933.2,
          1933.3,
          1933.4,
          1933.5,
          1933.6,
          1933.7,
          1933.8,
          1933.9,
          1934,
          1934.1,
          1934.2,
          1934.3,
          1934.4,
          1934.5,
          1934.6,
          1934.7,
          1934.8,
          1934.9,
          1935,
          1935.1,
          1935.2,
          1935.3,
          1935.4,
          1935.5,
          1935.6,
          1935.7,
          1935.8,
          1935.9,
          1936,
          1936.1,
          1936.2,
          1936.3,
          1936.4,
          1936.5,
          1936.6,
          1936.7,
          1936.8,
          1936.9,
          1937,
          1937.1,
          1937.2,
          1937.3,
          1937.4,
          1937.5,
          1937.6,
          1937.7,
          1937.8,
          1937.9,
          1938,
          1938.1,
          1938.2,
          1938.3,
          1938.4,
          1938.5,
          1938.6,
          1938.7,
          1938.8,
          1938.9,
          1939,
          1939.1,
          1939.2,
          1939.3,
          1939.4,
          1939.5,
          1939.6,
          1939.7,
          1939.8,
          1939.9,
          1940,
          1940.1,
          1940.2,
          1940.3,
          1940.4,
          1940.5,
          1940.6,
          1940.7,
          1940.8,
          1940.9,
          1941,
          1941.1,
          1941.2,
          1941.3,
          1941.4,
          1941.5,
          1941.6,
          1941.7,
          1941.8,
          1941.9,
          1942,
          1942.1,
          1942.2,
          1942.3,
          1942.4,
          1942.5,
          1942.6,
          1942.7,
          1942.8,
          1942.9,
          1943,
          1943.1,
          1943.2,
          1943.3,
          1943.4,
          1943.5,
          1943.6,
          1943.7,
          1943.8,
          1943.9,
          1944,
          1944.1,
          1944.2,
          1944.3,
          1944.4,
          1944.5,
          1944.6,
          1944.7,
          1944.8,
          1944.9,
          1945,
          1945.1,
          1945.2,
          1945.3,
          1945.4,
          1945.5,
          1945.6,
          1945.7,
          1945.8,
          1945.9,
          1946,
          1946.1,
          1946.2,
          1946.3,
          1946.4,
          1946.5,
          1946.6,
          1946.7,
          1946.8,
          1946.9,
          1947,
          1947.1,
          1947.2,
          1947.3,
          1947.4,
          1947.5,
          1947.6,
          1947.7,
          1947.8,
          1947.9,
          1948,
          1948.1,
          1948.2,
          1948.3,
          1948.4,
          1948.5,
          1948.6,
          1948.7,
          1948.8,
          1948.9,
          1949,
          1949.1,
          1949.2,
          1949.3,
          1949.4,
          1949.5,
          1949.6,
          1949.7,
          1949.8,
          1949.9,
          1950,
          1950.1,
          1950.2,
          1950.3,
          1950.4,
          1950.5,
          1950.6,
          1950.7,
          1950.8,
          1950.9,
          1951,
          1951.1,
          1951.2,
          1951.3,
          1951.4,
          1951.5,
          1951.6,
          1951.7,
          1951.8,
          1951.9,
          1952,
          1952.1,
          1952.2,
          1952.3,
          1952.4,
          1952.5,
          1952.6,
          1952.7,
          1952.8,
          1952.9,
          1953,
          1953.1,
          1953.2,
          1953.3,
          1953.4,
          1953.5,
          1953.6,
          1953.7,
          1953.8,
          1953.9,
          1954,
          1954.1,
          1954.2,
          1954.3,
          1954.4,
          1954.5,
          1954.6,
          1954.7,
          1954.8,
          1954.9,
          1955,
          1955.1,
          1955.2,
          1955.3,
          1955.4,
          1955.5,
          1955.6,
          1955.7,
          1955.8,
          1955.9,
          1956,
          1956.1,
          1956.2,
          1956.3,
          1956.4,
          1956.5,
          1956.6,
          1956.7,
          1956.8,
          1956.9,
          1957,
          1957.1,
          1957.2,
          1957.3,
          1957.4,
          1957.5,
          1957.6,
          1957.7,
          1957.8,
          1957.9,
          1958,
          1958.1,
          1958.2,
          1958.3,
          1958.4,
          1958.5,
          1958.6,
          1958.7,
          1958.8,
          1958.9,
          1959,
          1959.1,
          1959.2,
          1959.3,
          1959.4,
          1959.5,
          1959.6,
          1959.7,
          1959.8,
          1959.9,
          1960,
          1960.1,
          1960.2,
          1960.3,
          1960.4,
          1960.5,
          1960.6,
          1960.7,
          1960.8,
          1960.9,
          1961,
          1961.1,
          1961.2,
          1961.3,
          1961.4,
          1961.5,
          1961.6,
          1961.7,
          1961.8,
          1961.9,
          1962,
          1962.1,
          1962.2,
          1962.3,
          1962.4,
          1962.5,
          1962.6,
          1962.7,
          1962.8,
          1962.9,
          1963,
          1963.1,
          1963.2,
          1963.3,
          1963.4,
          1963.5,
          1963.6,
          1963.7,
          1963.8,
          1963.9,
          1964,
          1964.1,
          1964.2,
          1964.3,
          1964.4,
          1964.5,
          1964.6,
          1964.7,
          1964.8,
          1964.9,
          1965,
          1965.1,
          1965.2,
          1965.3,
          1965.4,
          1965.5,
          1965.6,
          1965.7,
          1965.8,
          1965.9,
          1966,
          1966.1,
          1966.2,
          1966.3,
          1966.4,
          1966.5,
          1966.6,
          1966.7,
          1966.8,
          1966.9,
          1967,
          1967.1,
          1967.2,
          1967.3,
          1967.4,
          1967.5,
          1967.6,
          1967.7,
          1967.8,
          1967.9,
          1968,
          1968.1,
          1968.2,
          1968.3,
          1968.4,
          1968.5,
          1968.6,
          1968.7,
          1968.8,
          1968.9,
          1969,
          1969.1,
          1969.2,
          1969.3,
          1969.4,
          1969.5,
          1969.6,
          1969.7,
          1969.8,
          1969.9,
          1970,
          1970.1,
          1970.2,
          1970.3,
          1970.4,
          1970.5,
          1970.6,
          1970.7,
          1970.8,
          1970.9,
          1971,
          1971.1,
          1971.2,
          1971.3,
          1971.4,
          1971.5,
          1971.6,
          1971.7,
          1971.8,
          1971.9,
          1972,
          1972.1,
          1972.2,
          1972.3,
          1972.4,
          1972.5,
          1972.6,
          1972.7,
          1972.8,
          1972.9,
          1973,
          1973.1,
          1973.2,
          1973.3,
          1973.4,
          1973.5,
          1973.6,
          1973.7,
          1973.8,
          1973.9,
          1974,
          1974.1,
          1974.2,
          1974.3,
          1974.4,
          1974.5,
          1974.6,
          1974.7,
          1974.8,
          1974.9,
          1975,
          1975.1,
          1975.2,
          1975.3,
          1975.4,
          1975.5,
          1975.6,
          1975.7,
          1975.8,
          1975.9,
          1976,
          1976.1,
          1976.2,
          1976.3,
          1976.4,
          1976.5,
          1976.6,
          1976.7,
          1976.8,
          1976.9,
          1977,
          1977.1,
          1977.2,
          1977.3,
          1977.4,
          1977.5,
          1977.6,
          1977.7,
          1977.8,
          1977.9,
          1978,
          1978.1,
          1978.2,
          1978.3,
          1978.4,
          1978.5,
          1978.6,
          1978.7,
          1978.8,
          1978.9,
          1979,
          1979.1,
          1979.2,
          1979.3,
          1979.4,
          1979.5,
          1979.6,
          1979.7,
          1979.8,
          1979.9,
          1980,
          1980.1,
          1980.2,
          1980.3,
          1980.4,
          1980.5,
          1980.6,
          1980.7,
          1980.8,
          1980.9,
          1981,
          1981.1,
          1981.2,
          1981.3,
          1981.4,
          1981.5,
          1981.6,
          1981.7,
          1981.8,
          1981.9,
          1982,
          1982.1,
          1982.2,
          1982.3,
          1982.4,
          1982.5,
          1982.6,
          1982.7,
          1982.8,
          1982.9,
          1983,
          1983.1,
          1983.2,
          1983.3,
          1983.4,
          1983.5,
          1983.6,
          1983.7,
          1983.8,
          1983.9,
          1984,
          1984.1,
          1984.2,
          1984.3,
          1984.4,
          1984.5,
          1984.6,
          1984.7,
          1984.8,
          1984.9,
          1985,
          1985.1,
          1985.2,
          1985.3,
          1985.4,
          1985.5,
          1985.6,
          1985.7,
          1985.8,
          1985.9,
          1986,
          1986.1,
          1986.2,
          1986.3,
          1986.4,
          1986.5,
          1986.6,
          1986.7,
          1986.8,
          1986.9,
          1987,
          1987.1,
          1987.2,
          1987.3,
          1987.4,
          1987.5,
          1987.6,
          1987.7,
          1987.8,
          1987.9,
          1988,
          1988.1,
          1988.2,
          1988.3,
          1988.4,
          1988.5,
          1988.6,
          1988.7,
          1988.8,
          1988.9,
          1989,
          1989.1,
          1989.2,
          1989.3,
          1989.4,
          1989.5,
          1989.6,
          1989.7,
          1989.8,
          1989.9,
          1990,
          1990.1,
          1990.2,
          1990.3,
          1990.4,
          1990.5,
          1990.6,
          1990.7,
          1990.8,
          1990.9,
          1991,
          1991.1,
          1991.2,
          1991.3,
          1991.4,
          1991.5,
          1991.6,
          1991.7,
          1991.8,
          1991.9,
          1992,
          1992.1,
          1992.2,
          1992.3,
          1992.4,
          1992.5,
          1992.6,
          1992.7,
          1992.8,
          1992.9,
          1993,
          1993.1,
          1993.2,
          1993.3,
          1993.4,
          1993.5,
          1993.6,
          1993.7,
          1993.8,
          1993.9,
          1994,
          1994.1,
          1994.2,
          1994.3,
          1994.4,
          1994.5,
          1994.6,
          1994.7,
          1994.8,
          1994.9,
          1995,
          1995.1,
          1995.2,
          1995.3,
          1995.4,
          1995.5,
          1995.6,
          1995.7,
          1995.8,
          1995.9,
          1996,
          1996.1,
          1996.2,
          1996.3,
          1996.4,
          1996.5,
          1996.6,
          1996.7,
          1996.8,
          1996.9,
          1997,
          1997.1,
          1997.2,
          1997.3,
          1997.4,
          1997.5,
          1997.6,
          1997.7,
          1997.8,
          1997.9,
          1998,
          1998.1,
          1998.2,
          1998.3,
          1998.4,
          1998.5,
          1998.6,
          1998.7,
          1998.8,
          1998.9,
          1999,
          1999.1,
          1999.2,
          1999.3,
          1999.4,
          1999.5,
          1999.6,
          1999.7,
          1999.8,
          1999.9,
          2000,
          2000.1,
          2000.2,
          2000.3,
          2000.4,
          2000.5,
          2000.6,
          2000.7,
          2000.8,
          2000.9,
          2001,
          2001.1,
          2001.2,
          2001.3,
          2001.4,
          2001.5,
          2001.6,
          2001.7,
          2001.8,
          2001.9,
          2002,
          2002.1,
          2002.2,
          2002.3,
          2002.4,
          2002.5,
          2002.6,
          2002.7,
          2002.8,
          2002.9,
          2003,
          2003.1,
          2003.2,
          2003.3,
          2003.4,
          2003.5,
          2003.6,
          2003.7,
          2003.8,
          2003.9,
          2004,
          2004.1,
          2004.2,
          2004.3,
          2004.4,
          2004.5,
          2004.6,
          2004.7,
          2004.8,
          2004.9,
          2005,
          2005.1,
          2005.2,
          2005.3,
          2005.4,
          2005.5,
          2005.6,
          2005.7,
          2005.8,
          2005.9,
          2006,
          2006.1,
          2006.2,
          2006.3,
          2006.4,
          2006.5,
          2006.6,
          2006.7,
          2006.8,
          2006.9,
          2007,
          2007.1,
          2007.2,
          2007.3,
          2007.4,
          2007.5,
          2007.6,
          2007.7,
          2007.8,
          2007.9,
          2008,
          2008.1,
          2008.2,
          2008.3,
          2008.4,
          2008.5,
          2008.6,
          2008.7,
          2008.8,
          2008.9,
          2009,
          2009.1,
          2009.2,
          2009.3,
          2009.4,
          2009.5,
          2009.6,
          2009.7,
          2009.8,
          2009.9,
          2010,
          2010.1,
          2010.2,
          2010.3,
          2010.4,
          2010.5,
          2010.6,
          2010.7,
          2010.8,
          2010.9,
          2011,
          2011.1,
          2011.2,
          2011.3,
          2011.4,
          2011.5,
          2011.6,
          2011.7,
          2011.8,
          2011.9,
          2012,
          2012.1,
          2012.2,
          2012.3,
          2012.4,
          2012.5,
          2012.6,
          2012.7,
          2012.8,
          2012.9,
          2013,
          2013.1,
          2013.2,
          2013.3,
          2013.4,
          2013.5,
          2013.6,
          2013.7,
          2013.8,
          2013.9,
          2014,
          2014.1,
          2014.2,
          2014.3,
          2014.4,
          2014.5,
          2014.6,
          2014.7,
          2014.8,
          2014.9,
          2015,
          2015.1,
          2015.2,
          2015.3,
          2015.4,
          2015.5,
          2015.6,
          2015.7,
          2015.8,
          2015.9,
          2016,
          2016.1,
          2016.2,
          2016.3,
          2016.4,
          2016.5,
          2016.6,
          2016.7,
          2016.8,
          2016.9,
          2017,
          2017.1,
          2017.2,
          2017.3,
          2017.4,
          2017.5,
          2017.6,
          2017.7,
          2017.8,
          2017.9,
          2018,
          2018.1,
          2018.2,
          2018.3,
          2018.4,
          2018.5,
          2018.6,
          2018.7,
          2018.8,
          2018.9,
          2019,
          2019.1,
          2019.2,
          2019.3,
          2019.4,
          2019.5,
          2019.6,
          2019.7,
          2019.8,
          2019.9,
          2020
         ],
         "xaxis": "x",
         "y": [
          40000,
          39986.72971524302,
          39974.601469670604,
          39963.54926179773,
          39953.53165123948,
          39944.52047369162,
          39936.49541269157,
          39929.44017562333,
          39923.34138137166,
          39918.18695116762,
          39913.966258725835,
          39910.66896542692,
          39908.28552873865,
          39906.80678700137,
          39906.223629204535,
          39906.5272883444,
          39907.70929080712,
          39909.76121064834,
          39912.67467202871,
          39916.44146742551,
          39921.05352197372,
          39926.50280592943,
          39932.78139624186,
          39939.881476553244,
          39947.79530972908,
          39956.51510480776,
          39966.03316846758,
          39976.34198604671,
          39987.434188827196,
          39999.30227351478,
          40011.93878953195,
          40025.336457119556,
          40039.48815967677,
          40054.38678410445,
          40070.02511803227,
          40086.39610604228,
          40103.492859235856,
          40121.308633316745,
          40139.8365579347,
          40159.0697768362,
          40179.001616166956,
          40199.625579639855,
          40220.935251510535,
          40242.92402262726,
          40265.58541852862,
          40288.91315119854,
          40312.90111437495,
          40337.54313984499,
          40362.832944481735,
          40388.76443506794,
          40415.331706439174,
          40442.529003694646,
          40470.350375888804,
          40498.78990631298,
          40527.841875035134,
          40557.50075037381,
          40587.76105540325,
          40618.61708833251,
          40650.06330390197,
          40682.0943440807,
          40714.70503094068,
          40747.890082809914,
          40781.64411535457,
          40815.961935283194,
          40850.838531867324,
          40886.269027525406,
          40922.248324763386,
          40958.77137989039,
          40995.833335250165,
          41033.429510946866,
          41071.555251375146,
          41110.205687270405,
          41149.376107556855,
          41189.06197362095,
          41229.258907236595,
          41269.96238517021,
          41311.16786300958,
          41352.87096522082,
          41395.06745286949,
          41437.753074173634,
          41480.923528488485,
          41524.57463209971,
          41568.70229765755,
          41613.302493151736,
          41658.371139263894,
          41703.904227789426,
          41749.89783552877,
          41796.348123766445,
          41843.25127944682,
          41890.60343617589,
          41938.40080573018,
          41986.63969877256,
          42035.31652485191,
          42084.42770589765,
          42133.96956595215,
          42183.938543488846,
          42234.33118211853,
          42285.14410282796,
          42336.37384398254,
          42388.01699736698,
          42440.07024160722,
          42492.53033642859,
          42545.3940425161,
          42598.65809283207,
          42652.31929611025,
          42706.374538061034,
          42760.8207780912,
          42815.654948184885,
          42870.873953646915,
          42926.474785449616,
          42982.454524015666,
          43038.81033286586,
          43095.53930093847,
          43152.63850760577,
          43210.105134843085,
          43267.93645498513,
          43326.129757838935,
          43384.682265715266,
          43443.59127938466,
          43502.854170474,
          43562.46837160953,
          43622.43127349532,
          43682.74028130674,
          43743.392868341,
          43804.38657393293,
          43865.71898543438,
          43927.38762735509,
          43989.39004830038,
          44051.72387387589,
          44114.38680621039,
          44177.376592539025,
          44240.6908776885,
          44304.32736149189,
          44368.28382602074,
          44432.558127736775,
          44497.1480827673,
          44562.05149185561,
          44627.266225961605,
          44692.79021816551,
          44758.6214362924,
          44824.75779288756,
          44891.19724088284,
          44957.93779225051,
          45024.97751736378,
          45092.31450196917,
          45159.946768784976,
          45227.87239032778,
          45296.0895068434,
          45364.5963262972,
          45433.39105242586,
          45502.4718104806,
          45571.83680177181,
          45641.48429688138,
          45711.4126187621,
          45781.62002028238,
          45852.10477864923,
          45922.865230769385,
          45993.89976889667,
          46065.20678713015,
          46136.78463725082,
          46208.63172040248,
          46280.74649006589,
          46353.12745073458,
          46425.77308560476,
          46498.681839733195,
          46571.85221481468,
          46645.28277336103,
          46718.97213572482,
          46792.91886856269,
          46867.12151083244,
          46941.57867223635,
          47016.28902485704,
          47091.2512638179,
          47166.46401148519,
          47241.92593740307,
          47317.63576224895,
          47393.59225431544,
          47469.79415332988,
          47546.24018044735,
          47622.92910581304,
          47699.859747246424,
          47777.03096318468,
          47854.441562340275,
          47932.09034478776,
          48009.9761663212,
          48088.097938275714,
          48166.45461338438,
          48245.04506170026,
          48323.86816804224,
          48402.92287953534,
          48482.208200248395,
          48561.72312053028,
          48641.466580865505,
          48721.43757347943,
          48801.6351369103,
          48882.05834631199,
          48962.706226929884,
          49043.57780893088,
          49124.67216824387,
          49205.98842485692,
          49287.52572408656,
          49369.28314613522,
          49451.259788431475,
          49533.45480040326,
          49615.86738293366,
          49698.4967538677,
          49781.34204244412,
          49864.40242124159,
          49947.67711746392,
          50031.165407615015,
          50114.86652182771,
          50198.77967067988,
          50282.90411368087,
          50367.23915356692,
          50451.78411407849,
          50536.53825964583,
          50621.5008784082,
          50706.67130045797,
          50792.048897144494,
          50877.633043497844,
          50963.42305049482,
          51049.41826347349,
          51135.61807607088,
          51222.021930202085,
          51308.629260978545,
          51395.439416073015,
          51482.45178835388,
          51569.6658330377,
          51657.081067528765,
          51744.696965005685,
          51832.51291946335,
          51920.52840029233,
          52008.74293270552,
          52097.15605279756,
          52185.767226376374,
          52274.57596149907,
          52363.58180155533,
          52452.78431697451,
          52542.18304087504,
          52631.777509036445,
          52721.56728874657,
          52811.55197778096,
          52901.73119615403,
          52992.10451587881,
          53082.67150402665,
          53173.43177002768,
          53264.38496616879,
          53355.53078070704,
          53446.8688236381,
          53538.398697626544,
          53630.12006288346,
          53722.03262826153,
          53814.13608111425,
          53906.43006481601,
          53998.91426368091,
          54091.58839554079,
          54184.45219935877,
          54277.50536727994,
          54370.74759971785,
          54464.1786293225,
          54557.79822026109,
          54651.60615399186,
          54745.60215109908,
          54839.78593682645,
          54934.1572804625,
          55028.71599533464,
          55123.46191988729,
          55218.39479494213,
          55313.51438323874,
          55408.820500494374,
          55504.31300698073,
          55599.99171687179,
          55695.85642143434,
          55791.90695145252,
          55888.14317026815,
          55984.564950642154,
          56081.17211495428,
          56177.96450494741,
          56274.941992820946,
          56372.104481035705,
          56469.4518745148,
          56566.98401513759,
          56664.700766100956,
          56762.602032621544,
          56860.6877619301,
          56958.957904004455,
          57057.412312470246,
          57156.05088567809,
          57254.87356943979,
          57353.88034562358,
          57453.071130677294,
          57552.4458404701,
          57652.004427565305,
          57751.746876395155,
          57851.67316559353,
          57951.78322765639,
          58052.077020660494,
          58152.55453252174,
          58253.215780752515,
          58354.060766937364,
          58455.08943695989,
          58556.30176777038,
          58657.69777740465,
          58759.277524982084,
          58861.04104173411,
          58962.98828366132,
          59065.11926020221,
          59167.434025597744,
          59269.93265728861,
          59372.61515659245,
          59475.48154355588,
          59578.53187207237,
          59681.76622661068,
          59785.18466817866,
          59888.78722259436,
          59992.57394459222,
          60096.54491842725,
          60200.70025598549,
          60305.040032809025,
          60409.56428414611,
          60514.273081918844,
          60619.166538341036,
          60724.24480379003,
          60829.50796775036,
          60934.95607855746,
          61040.58923716938,
          61146.407588386806,
          61252.41128134879,
          61358.60039038052,
          61464.975022079285,
          61571.53531474057,
          61678.28143424487,
          61785.213505972555,
          61892.33163461098,
          61999.63595529585,
          62107.126632555235,
          62214.80385413506,
          62322.66775273768,
          62430.71844041124,
          62538.95606836725,
          62647.38082755579,
          62755.992939326985,
          62864.79253892925,
          62973.77975425242,
          63082.95476281129,
          63192.317785129984,
          63301.869020213795,
          63411.608608668335,
          63521.53672815483,
          63631.65358745488,
          63741.959417233156,
          63852.45439362899,
          63963.138688197585,
          64074.01250316011,
          64185.076070142524,
          64296.329635738824,
          64407.77337809362,
          64519.40747526734,
          64631.23214494232,
          64743.24764416054,
          64855.45424608815,
          64967.85212483998,
          65080.441476376436,
          65193.222542533644,
          65306.195605361674,
          65419.36089910315,
          65532.71862306939,
          65646.26901401707,
          65760.0123398588,
          65873.94888085204,
          65988.07885456868,
          66102.40248927208,
          66216.92004342924,
          66331.63180504003,
          66446.5380635637,
          66561.63903580482,
          66676.9349562861,
          66792.42609874032,
          66908.11277602472,
          67023.99529463655,
          67140.07386605818,
          67256.34874365425,
          67372.82022366267,
          67489.48863600416,
          67606.35424131174,
          67723.41728997939,
          67840.67806858191,
          67958.13689499578,
          68075.79408480121,
          68193.64989184997,
          68311.70459230545,
          68429.95849214941,
          68548.41192699138,
          68667.06521412784,
          68785.91860659218,
          68904.97238677232,
          69024.22687606972,
          69143.68243471812,
          69263.33938481966,
          69383.19797840633,
          69503.25851618085,
          69623.52134082298,
          69743.98681703454,
          69864.6552272228,
          69985.52686619826,
          70106.60206294758,
          70227.88117766325,
          70349.36454844936,
          70471.05246339647,
          70592.94523898748,
          70715.04322177553,
          70837.34678664892,
          70959.85626787321,
          71082.57195289858,
          71205.49416513793,
          71328.62326700434,
          71451.95965642045,
          71575.50366205549,
          71699.25557590641,
          71823.2157389483,
          71947.38453399936,
          72071.76234759287,
          72196.34948349044,
          72321.14627478275,
          72446.15308704501,
          72571.37031515886,
          72696.7983116481,
          72822.43739625432,
          72948.28792021984,
          73074.3502652367,
          73200.62483713763,
          73327.11198055674,
          73453.81201560871,
          73580.7253014411,
          73707.85223627635,
          73835.19324511672,
          73962.74866070952,
          74090.51881236114,
          74218.50407631526,
          74346.70487056104,
          74475.12159045551,
          74603.75456469577,
          74732.60415873211,
          74861.6707702274,
          74990.95482121715,
          75120.45667391505,
          75250.1766775283,
          75380.11521383516,
          75510.27269549426,
          75640.6495507027,
          75771.24613180986,
          75902.06278983613,
          76033.0999156068,
          76164.3579391627,
          76295.83730140464,
          76427.53834116012,
          76559.46142199571,
          76691.60695160218,
          76823.97537729765,
          76956.56709578533,
          77089.3824623714,
          77222.42187078384,
          77355.6857473836,
          77489.17453362263,
          77622.88859992649,
          77756.82832300704,
          77890.99411201535,
          78025.38640746177,
          78160.00565077619,
          78294.85220328627,
          78429.92644486831,
          78565.22879498769,
          78700.75971252688,
          78836.51965137248,
          78972.50895767806,
          79108.72800607313,
          79245.17722629903,
          79381.85710309871,
          79518.76808743698,
          79655.9105148105,
          79793.2847897447,
          79930.89136587716,
          80068.73071054868,
          80206.80320257935,
          80345.10924954967,
          80483.64928798699,
          80622.42377669955,
          80761.43313147535,
          80900.67775315235,
          81040.15806691296,
          81179.87452118876,
          81319.82758244593,
          81460.01766469958,
          81600.4451562939,
          81741.11048111462,
          81882.01410010879,
          82023.15650814198,
          82164.53812311243,
          82306.15932466158,
          82448.02054746311,
          82590.12227064221,
          82732.46495968074,
          82875.04900925876,
          83017.8748493027,
          83160.94293796083,
          83304.25375348682,
          83447.80772121462,
          83591.60525703231,
          83735.64680430284,
          83879.93283288166,
          84024.46382990401,
          84169.24021611986,
          84314.26239551877,
          84459.53081218527,
          84605.04595080584,
          84750.80832549288,
          84896.81834725387,
          85043.07642114196,
          85189.58300573086,
          85336.33860399156,
          85483.3436798577,
          85630.59864630057,
          85778.10395354185,
          85925.86008085938,
          86073.86752033289,
          86222.126702753,
          86370.63806421375,
          86519.40206840717,
          86668.41920593788,
          86817.68997473126,
          86967.21479715235,
          87116.99410035175,
          87267.0283518131,
          87417.31805928012,
          87567.86374402004,
          87718.66581315661,
          87869.72470006015,
          88021.04088721392,
          88172.61489741872,
          88324.44719032176,
          88476.53819917055,
          88628.88839407163,
          88781.49827501434,
          88934.3683438942,
          89087.49903903513,
          89240.89081560093,
          89394.54415685423,
          89548.45957399151,
          89702.63757124312,
          89857.07857688834,
          90011.78304001612,
          90166.75145049635,
          90321.98433897857,
          90477.482225754,
          90633.24552289913,
          90789.27469022642,
          90945.57023367722,
          91102.13269147286,
          91258.96252015916,
          91416.0601742727,
          91573.42614382866,
          91731.06094948054,
          91888.965097488,
          92047.13903745307,
          92205.5832436067,
          92364.29821898196,
          92523.28449497606,
          92682.54257598014,
          92842.07290148352,
          93001.87594272413,
          93161.95221208346,
          93322.30226294106,
          93482.9266040952,
          93643.82566468185,
          93804.9999286805,
          93966.44992549841,
          94128.17620310311,
          94290.17921849308,
          94452.45944813636,
          94615.01740225073,
          94777.85362136163,
          94940.96861277605,
          95104.36284067298,
          95268.03679853179,
          95431.99100951875,
          95596.22602383378,
          95760.74234291915,
          95925.54042199255,
          96090.62075464406,
          96255.98387602897,
          96421.6303592954,
          96587.56069914831,
          96753.77534830985,
          96920.27481428329,
          97087.05965019533,
          97254.13040682593,
          97421.4875480617,
          97589.13157218373,
          97757.06301012514,
          97925.28242057287,
          98093.79031061973,
          98262.58716173269,
          98431.67348724505,
          98601.04983103697,
          98770.71675950756,
          98940.67477053488,
          99110.92433885808,
          99281.46598089572,
          99452.3002550556,
          99623.42774886826,
          99794.84894621001,
          99966.56432617173,
          100138.57442020327,
          100310.87980535006,
          100483.48102751508,
          100656.37856625466,
          100829.57294082623,
          101003.0647035673,
          101176.85442863658,
          101350.9426235915,
          101525.32978951655,
          101700.01646034908,
          101875.00320142713,
          102050.29059138475,
          102225.87912676274,
          102401.76930463957,
          102577.96166488389,
          102754.45678979713,
          102931.2552741934,
          103108.35759796758,
          103285.76426794357,
          103463.47584009645,
          103641.49291327805,
          103819.81602656047,
          103998.44567988222,
          104177.38241394048,
          104356.62680329417,
          104536.17943371976,
          104716.0408161203,
          104896.21147293798,
          105076.69195958652,
          105257.48286372409,
          105438.58477073564,
          105619.99818107339,
          105801.72361584315,
          105983.7616391101,
          106166.11285782888,
          106348.77786514844,
          106531.75714756128,
          106715.0512394443,
          106898.66072200189,
          107082.58621207888,
          107266.82824356772,
          107451.38733963607,
          107636.26406334674,
          107821.4590123966,
          108006.97277896905,
          108192.80588269401,
          108378.95886830357,
          108565.43231365453,
          108752.22682945256,
          108939.34300135798,
          109126.78134154364,
          109314.54239575793,
          109502.6267531071,
          109691.03504559575,
          109879.76785514246,
          110068.82568795861,
          110258.20910456961,
          110447.9187122126,
          110637.95514040023,
          110828.318922296,
          111019.01060616996,
          111210.03077844389,
          111401.38006049559,
          111593.0590455402,
          111785.06826872154,
          111977.40829746389,
          112170.07973309548,
          112363.08320852321,
          112556.4193063362,
          112750.08855673783,
          112944.09153095064,
          113138.42884403159,
          113333.10114989473,
          113528.1090183954,
          113723.45298182259,
          113919.13362727156,
          114115.15158888321,
          114311.50750184097,
          114508.20190610825,
          114705.23537576412,
          114902.60852164404,
          115100.3219875918,
          115298.37636621874,
          115496.77221259182,
          115695.51011786779,
          115894.59070793062,
          116094.01463539232,
          116293.78247957357,
          116493.89479358005,
          116694.35217506312,
          116895.15526600127,
          117096.30473672955,
          117297.80114917259,
          117499.64506512921,
          117701.83709917234,
          117904.37791314645,
          118107.26813947356,
          118310.50833539538,
          118514.09910030896,
          118718.04107055426,
          118922.33490986368,
          119126.98121099475,
          119331.9805524326,
          119537.33355018754,
          119743.04085581683,
          119949.10313744844,
          120155.52097406985,
          120362.29494521776,
          120569.42567596867,
          120776.91383623045,
          120984.76011255327,
          121192.96506856126,
          121401.52927349132,
          121610.45336006524,
          121819.73802376624,
          122029.38396204043,
          122239.3917130543,
          122449.76187856411,
          122660.49511936991,
          122871.59213094789,
          123083.05351041826,
          123294.87986711052,
          123507.07184661804,
          123719.63012388554,
          123932.55533986913,
          124145.84810113859,
          124359.50904107332,
          124573.53881958284,
          124787.93812114264,
          125002.7075880887,
          125217.84781252392,
          125433.35942336102,
          125649.24309191623,
          125865.49953170553,
          126082.12940216207,
          126299.13327920754,
          126516.51180264562,
          126734.26566322293,
          126952.39556269509,
          127170.90210698252,
          127389.78593298087,
          127609.04771120429,
          127828.68814101435,
          128048.7078759012,
          128269.10753926166,
          128489.88778546281,
          128711.04929928649,
          128932.59279184495,
          129154.51891606132,
          129376.82828117395,
          129599.52153991003,
          129822.59939164703,
          130046.06257874437,
          130269.91175301587,
          130494.1475186687,
          130718.770544745,
          130943.78155237864,
          131169.18125001315,
          131394.97025995108,
          131621.1492458561,
          131847.71890491515,
          132074.67995888574,
          132302.03306829123,
          132529.778881384,
          132757.91807875462,
          132986.45137203953,
          133215.37949288977,
          133444.70309619058,
          133674.42281906004,
          133904.53934459246,
          134135.053402303,
          134365.96575436313,
          134597.27704481498,
          134828.98791337624,
          135061.09906046154,
          135293.61123766596,
          135526.5251528777,
          135759.84145312052,
          135993.5608289854,
          136227.6840056232,
          136462.21172524712,
          136697.14465798915,
          136932.48347803784,
          137168.22889287616,
          137404.38164233183,
          137640.9424761872,
          137877.91205575145,
          138115.29104741223,
          138353.08016484595,
          138591.28016888938,
          138829.89183544336,
          139068.9158092144,
          139308.3527662846,
          139548.20343932384,
          139788.46860813175,
          140029.14898036915,
          140270.24523127955,
          140511.7580797348,
          140753.6882802144,
          140996.03659164542,
          141238.80369720052,
          141481.99029905713,
          141725.5971331257,
          141969.6249687673,
          142214.07456825787,
          142458.94660495056,
          142704.2417767656,
          142949.9608293332,
          143196.10455598595,
          143442.67373690326,
          143689.6690290738,
          143937.09114506288,
          144184.9408509159,
          144433.21895076527,
          144681.92615442508,
          144931.06316818742,
          145180.6307405661,
          145430.62965668735,
          145681.06068720794,
          145931.92453418535,
          146183.22192875211,
          146434.9536366054,
          146687.12045754233,
          146939.7231606863,
          147192.76243901916,
          147446.23902299991,
          147700.15369138712,
          147954.5072709901,
          148209.30053565768,
          148464.53416951696,
          148720.20892007166,
          148976.32558784558,
          149232.88499583106,
          149489.8878611363,
          149747.33492294935,
          150005.22696079186,
          150263.56479065798,
          150522.34919151184,
          150781.58088958904,
          151041.26064611116,
          151301.38925795042,
          151561.96755461223,
          151822.99630915193,
          152084.47624045316,
          152346.40811272382,
          152608.79273907255,
          152871.63097699924,
          153134.92359224206,
          153398.67130398934,
          153662.8748949864,
          153927.53520137398,
          154192.65305768698,
          154458.22919655015,
          154724.26439074616,
          154990.75945216342,
          155257.71522644412,
          155525.1324999608,
          155793.0120271517,
          156061.35460072174,
          156330.16105009682,
          156599.4322321303,
          156869.16892372994,
          157139.37187479934,
          157410.04188450586,
          157681.17980153224,
          157952.7865084387,
          158224.86276720837,
          158497.40933595016,
          158770.4270337748,
          159043.91673334068,
          159317.87927219298,
          159592.3154093632,
          159867.22595084057,
          160142.611742243,
          160418.47365627985,
          160694.81248792194,
          160971.62902317639,
          161248.92408763536,
          161526.69854466265,
          161804.9532742993,
          162083.68906035315,
          162362.9066875551,
          162642.6069912664,
          162922.79085698462,
          163203.45918450394,
          163484.6127404153,
          163766.2523238047,
          164048.37879130695,
          164330.9930501773,
          164614.09593881122,
          164897.6882488018,
          165181.77082026078,
          165466.34453391365,
          165751.4102854185,
          166036.9688819994,
          166323.0211437502,
          166609.5679305505,
          166896.61014110217,
          167184.14867253875,
          167472.18432203282,
          167760.71791149984,
          168049.75031373877,
          168339.28245232892,
          168629.3152341547,
          168919.84944303017,
          169210.88591916795,
          169502.42555790526,
          169794.46929702492,
          170087.01797783517,
          170380.0724282294,
          170673.633523838,
          170967.7021818759,
          171262.27931512424,
          171557.36574955803,
          171852.9623408172,
          172149.06998449037,
          172445.6896157865,
          172742.82214147056,
          173040.46838155217,
          173338.62919611382,
          173637.30549666865,
          173936.4982455423,
          174236.2083459765,
          174536.43661428583,
          174837.18393053435,
          175138.45122998144,
          175440.23947498784,
          175742.54951505494,
          176045.38221689095,
          176348.73849304896,
          176652.6192982159,
          176957.0255558534,
          177261.9581191181,
          177567.41787984277,
          177873.4057707555,
          178179.9227628337,
          178486.96976858756,
          178794.5476385396,
          179102.65727211226,
          179411.29962082847,
          179720.47568223573,
          180030.18635529454,
          180340.43249619345,
          180651.21502564484,
          180962.53492007736,
          181274.39315844642,
          181586.79060728874,
          181899.7281732359,
          182213.2068071879,
          182527.22750016308,
          182841.7911842206,
          183156.89874527437,
          183472.5511127191,
          183788.74925787235,
          184105.49418473637,
          184422.78681138493,
          184740.6280247502,
          185059.0187649109,
          185377.96002472405,
          185697.45283556922,
          186017.4981067642,
          186338.09671126655,
          186659.249596104,
          186980.95778204745,
          187303.22232899483,
          187626.0441117799,
          187949.4240375105,
          188273.36308997698,
          188597.86230940823,
          188922.922643244,
          189248.54501783845,
          189574.73040704607,
          189901.4798214836,
          190228.79425564938,
          190556.67464439166,
          190885.12195029625,
          191214.1371674267,
          191543.7213210483,
          191873.87541304695,
          192204.60036559933,
          192535.89713457713,
          192867.76672590975,
          193200.2101955904,
          193533.22858211276,
          193866.8227864679,
          194200.99377647418,
          194535.7425810855,
          194871.07026636312,
          195206.97778977721,
          195543.46611971466,
          195880.53626786105,
          196218.1892835979,
          196556.4261873422,
          196895.247940971,
          197234.65553962786,
          197574.65001455322,
          197915.2324321428,
          198256.40381942582,
          198598.16512442185,
          198940.5173387595,
          199283.461509202,
          199626.99873755383,
          199971.13006749714,
          200315.85643356218,
          200661.17884752262,
          201007.09838269505,
          201353.616131844,
          201700.73307121254,
          202048.4502105826,
          202396.7686016644,
          202745.6893326383,
          203095.21344102354,
          203445.34192410312,
          203796.07581662422,
          204147.4161902433,
          204499.36414906362,
          204851.92073091198,
          205205.0869209877,
          205558.86375558548,
          205913.25232596902,
          206268.25377424003,
          206623.86913935858,
          206980.0994032698,
          207336.94562358927,
          207694.40891958814,
          208052.49040151923,
          208411.19107321033,
          208770.51198679564,
          209130.45423568078,
          209491.01894582497,
          209852.20717315783,
          210214.01995268514,
          210576.4583595342,
          210939.52350733354,
          211303.21653659016,
          211667.538498599,
          212032.4904192212,
          212398.0733796098,
          212764.28851685103,
          213131.13700844094,
          213498.61989473965,
          213866.73820819534,
          214235.49305341393,
          214604.88559646398,
          214974.91695769434,
          215345.5881789653,
          215716.90035475188,
          216088.85462194006,
          216461.4521417047,
          216834.69398983632,
          217208.58124255252,
          217583.11501736523,
          217958.29647167647,
          218334.12677807044,
          218710.60700419694,
          219087.7382209941,
          219465.52155630713,
          219843.95819466948,
          220223.04934059567,
          220602.79604474048,
          220983.19939261404,
          221364.26053731784,
          221745.98068944292,
          222128.3609786134,
          222511.40248995216,
          222895.10636188995,
          223279.47377655737,
          223664.50592633596,
          224050.2039110222,
          224436.5688504696,
          224823.60190637058,
          225211.30428169415,
          225599.67717513666,
          225988.7216775003,
          226378.4389073811,
          226768.83004090414,
          227159.89631168882,
          227551.63894071302,
          227944.0590024468,
          228337.15763587382,
          228730.93604410646,
          229125.39547807674,
          229520.53707930088,
          229916.36197994353,
          230312.8713642023,
          230710.06646125557,
          231107.94848885635,
          231506.51857776844,
          231905.77789306466,
          232305.72764246326,
          232706.3690759586,
          233107.70341117083,
          233509.73177157986,
          233912.45532493523,
          234315.8752973033,
          234719.99297283654,
          235124.80957635422,
          235530.3262238349,
          235936.5441063094,
          236343.4644784664,
          236751.08862544489,
          237159.41770649544,
          237568.4529035127,
          237978.19544829332,
          238388.64661797014,
          238799.80765061034,
          239211.6797154531,
          239624.26402411656,
          240037.5618322073,
          240451.57443631216,
          240866.3030691859,
          241281.74889499377,
          241697.91313228823,
          242114.79705876776,
          242532.40200635194,
          242950.72920101768,
          243369.77981037938,
          243789.5550780677,
          244210.0563119648,
          244631.284823101,
          245053.2417980339,
          245475.9284697063,
          245899.34611938486,
          246323.49607112104,
          246748.37958194915,
          247173.997864922,
          247600.35218010278,
          248027.44383288873,
          248455.2741640424,
          248883.84442112537,
          249313.15581558185,
          249743.20961847945,
          250174.00716089373,
          250605.54981625982,
          251037.83881659072,
          251470.87538623903,
          251904.66082306378,
          252339.19648969118,
          252774.48371272895,
          253210.52371937325,
          253647.31779348967,
          254084.8672677061,
          254523.17351035294,
          254962.2377986173,
          255402.0613939278,
          255842.6456067371,
          256283.9917941564,
          256726.10133658344,
          257168.97549981906,
          257612.6155476418,
          258057.02280540703,
          258502.19865934353,
          258948.14451554453,
          259394.8616217432,
          259842.35126202475,
          260290.61479017802,
          260739.65362209154,
          261189.4690962657,
          261640.06248924282,
          262091.4351369354,
          262543.5884252771,
          262996.5237623906,
          263450.24244980153,
          263904.7458008714,
          264360.03517841356,
          264816.11199323117,
          265272.9776584845,
          265730.63346578524,
          266189.08073458966,
          266648.32084635226,
          267108.35524429637,
          267569.1853555221,
          268030.81245830446,
          268493.2378972059,
          268956.46308369655,
          269420.4894826296,
          269885.31844654935,
          270350.9513064286,
          270817.3894522023,
          271284.634325088,
          271752.68736647227,
          272221.54990984144,
          272691.22332281555,
          273161.7090225811,
          273633.0084754975,
          274105.1231185709,
          274578.05428083567,
          275051.8033390337,
          275526.37173258275,
          276001.76096302684,
          276477.97246555926,
          276955.0075675918,
          277432.867673073,
          277911.55425296567,
          278391.0688145432,
          278871.4127304284,
          279352.5873896578,
          279834.59423822066,
          280317.4347743862,
          280801.1104647619,
          281285.6226855598,
          281770.9728597574,
          282257.1624609822,
          282744.1930109202,
          283232.065965237,
          283720.782700452,
          284210.3446522587,
          284700.75331996835,
          285192.01026206155,
          285684.1169381138,
          286177.0747065308,
          286670.88500860095,
          287165.54937425576,
          287661.06940866687,
          288157.4465364701,
          288654.68214511045,
          289152.77772475046,
          289651.73484311276,
          290151.5550036246,
          290652.2396329068,
          291153.7902192666,
          291656.20829574583,
          292159.495405017,
          292663.653004105,
          293168.682571223,
          293674.58562323026,
          294181.3637152665,
          294689.01840449724,
          295197.55114077055,
          295706.9633925713,
          296217.2566889014,
          296728.4326192721,
          297240.49279420293,
          297753.43864860013,
          298267.27166003216,
          298781.9933853128,
          299297.60544456134,
          299814.10935674154,
          300331.5066090451,
          300849.7987458186,
          301368.98735797714,
          301889.07403528335,
          302410.06027547823,
          302931.94760597695,
          303454.73759816226,
          303978.4318673057,
          304503.0320187202,
          305028.53954008385,
          305554.9559525441,
          306082.2828439493,
          306610.5218688452,
          307139.6746729873,
          307669.74272359244,
          308200.7275650505,
          308732.6308183312,
          309265.4541569766,
          309799.199126421,
          310333.86727413605,
          310869.460203517,
          311405.97956598847,
          311943.42698673013,
          312481.8040120345,
          313021.1122281396,
          313561.35326622735,
          314102.52880166017,
          314644.6404686959,
          315187.6898026042,
          315731.6783896556,
          316276.6078827375,
          316822.48000133986,
          317369.2964039536,
          317917.05861238606,
          318465.76823977084,
          319015.4269739087,
          319566.03653407935,
          320117.5984979478,
          320670.1144767277,
          321223.58613527584,
          321778.01518613857,
          322333.40328928374,
          322889.75204421394,
          323447.0630970018,
          324005.33814068144,
          324564.5789113015,
          325124.7870719042,
          325685.96421242034,
          326248.11198456073,
          326811.2321079501,
          327375.3263662387,
          327940.3964269376,
          328506.4438795594,
          329073.47040549375,
          329641.47776150244,
          330210.46770447853,
          330780.44185484137,
          331351.4018890652,
          331923.34953600506,
          332496.286568619,
          333070.2146807592,
          333645.1355306105,
          334221.05082696385,
          334797.9623273177,
          335375.87182625063,
          335954.7810148338,
          336534.69154516066,
          337115.60513708496,
          337697.52357939,
          338280.44871349016,
          338864.3822208945,
          339449.3257650321,
          340035.28109780926,
          340622.25004692504,
          341210.23439646454,
          341799.23582371575,
          342389.2560707188,
          342980.296932892,
          343572.3602412932,
          344165.4477255776,
          344759.56110721815,
          345354.7021602881,
          345950.872709345,
          346548.0746033836,
          347146.3095652491,
          347745.5793148681,
          348345.8856425573,
          348947.23040867044,
          349549.6155034176,
          350153.04263270186,
          350757.51353768556,
          351363.03004303627,
          351969.5940459651,
          352577.2073550503,
          353185.87171301636,
          353795.5889294188,
          354406.3608688389,
          355018.18941623496,
          355631.0763418012,
          356245.02343420143,
          356860.0325354549,
          357476.10553981154,
          358093.24434404745,
          358711.4507106409,
          359330.7264315303,
          359951.0733699472,
          360572.49346027616,
          361194.98862944986,
          361818.56062362465,
          362443.21126325,
          363068.9424480918,
          363695.7561406727,
          364323.6541767382,
          364952.6383699978,
          365582.7106001948,
          366213.8728037234,
          366846.1269130786,
          367479.4747472544,
          368113.9181648564,
          368749.45907856297,
          369386.09945483267,
          370023.84122941305,
          370662.686216551,
          371302.6362826161,
          371943.69336627086,
          372585.85947837424,
          373229.13656749733,
          373873.526441642,
          374519.03099960857,
          375165.6522186904,
          375813.392120145,
          376462.2525735264,
          377112.2354677674,
          377763.3427555034,
          378415.57644717547,
          379068.9385154806,
          379723.43083904823,
          380379.0553482896,
          381035.8140292895,
          381693.7089212112,
          382352.7419933057,
          383012.9151226571,
          383674.2302524803,
          384336.6893994342,
          385000.2946489355,
          385665.047965944,
          386330.9512349672,
          386998.0064339258,
          387666.21562013245,
          388335.58086436626,
          389006.1040811716,
          389677.78723730537,
          390350.63236107957,
          391024.64153671387,
          391699.81677471584,
          392376.16002116486,
          393053.6732809852,
          393732.35861649684,
          394412.2181375229,
          395093.2538459472,
          395775.46769071254,
          396458.8616945,
          397143.43795462535,
          397829.1986244409,
          398516.14569061354,
          399204.2811214058,
          399893.60697639757,
          400584.1253955172,
          401275.8384869151,
          401968.748226417,
          402662.8566592929,
          403358.165892367,
          404054.67808132526,
          404752.39527550095,
          405451.31949500996,
          406151.45282216894,
          406852.79739841266,
          407555.3553996027,
          408259.12886396045,
          408964.1198194943,
          409670.3303710481,
          410377.7626993184,
          411086.4190157994,
          411796.30134003283,
          412507.41172878863,
          413219.7523259345,
          413933.325353918,
          414648.1329512323,
          415364.17716861464,
          416081.46013112314,
          416799.98402699886,
          417519.751078829,
          418240.7633794876,
          418963.02302848315,
          419686.532188488,
          420411.2930830023,
          421137.3079464499,
          421864.5788621932,
          422593.1079424256,
          423322.8973769482,
          424053.94943264365,
          424786.26636592316,
          425519.850246697,
          426254.70322225976,
          426990.8275235028,
          427728.2254512056,
          428466.8991762393,
          429206.8508315633,
          429948.0826249868,
          430690.5968291642,
          431434.3957265046,
          432179.48146236094,
          432925.8562195243,
          433673.5222440344,
          434422.4818444744,
          435172.73730335804,
          435924.2907634358,
          436677.14442397055,
          437431.3005625757,
          438186.7615350532,
          438943.52964853286,
          439701.6070253703,
          440460.99586850946,
          441221.6984896878,
          441983.71730819927,
          442747.05461409444,
          443511.7125409567,
          444277.6933580432,
          445044.9994319994,
          445813.63312336494,
          446583.59663822217,
          447354.8922563409,
          448127.5223134297,
          448901.4891819458,
          449676.7951380986,
          450453.44245347066,
          451231.4334491796,
          452010.77049397706,
          452791.4559850863,
          453573.4922017309,
          454356.88140354975,
          455141.6259241616,
          455927.72817193595,
          456715.1906136881,
          457504.01553371083,
          458294.205194035,
          459085.761962928,
          459878.6882969542,
          460672.9865889834,
          461468.65912972967,
          462265.70828315814,
          463064.1364710497,
          463863.9461456508,
          464665.1396464076,
          465467.71931940457,
          466271.68756670255,
          467077.0468449335,
          467883.7996344426,
          468691.9482734062,
          469501.49509920063,
          470312.44253161084,
          471124.7930728452,
          471938.54926694377,
          472753.71343768126,
          473570.28794459533,
          474388.27525001176,
          475207.6779013625,
          476028.4983368156,
          476850.73893335403,
          477674.40214293794,
          478499.49047758064,
          479326.0064479191,
          480153.952406539,
          480983.3308549299,
          481814.14452533534,
          482646.3963803954,
          483480.1048202831,
          484315.2971188889,
          485151.9913051118,
          485990.2130822236,
          486829.9958615804,
          487671.383273941,
          488514.4336072254,
          489359.22765954223,
          490205.8798821015,
          491054.54156947543,
          491905.41714238503,
          492758.77742194565,
          493615.0133675976,
          494474.6421070519,
          495338.34959172463,
          496207.0272835069,
          497081.8668520915,
          497964.4181791234,
          498856.58751299715,
          499760.5928736497,
          500679.27813155705,
          501615.51455849456,
          502571.96283569984,
          503551.0730538889,
          504554.79013461043,
          505583.6848148247,
          506637.30683374614,
          507714.2438190627,
          508812.16951026116,
          509928.36462733516,
          511060.03464359074,
          512204.63285861665,
          513359.9050797051,
          514523.9214456987,
          515695.1934847192,
          516872.53849426715,
          518055.0241775737,
          519241.9682139829,
          520432.87450839306,
          521627.3730611037,
          522825.18899982626,
          524026.11623657355,
          525230.0170494469,
          526436.7970165977,
          527646.3882106588,
          528858.744000201,
          530073.8329889583,
          531291.6390619994,
          532512.1556986804,
          533735.3717723293,
          534961.2807024315,
          536189.8826007016,
          537421.1859374654,
          538655.2052385424,
          539891.9541880758,
          541131.4461850135,
          542373.6942872925,
          543618.7109492791,
          544866.5080419951,
          546117.0964718198,
          547370.4861421114,
          548626.6856914219,
          549885.7018944832,
          551147.5393846955,
          552412.1992148311,
          553679.6787839172,
          554949.9717314426,
          556223.0657762811,
          557498.9423686304,
          558777.5782324602,
          560058.9454440187,
          561343.0143416681,
          562629.7556482976,
          563919.1512674983,
          565211.1979976642,
          566505.9075715914,
          567803.3137724379,
          569103.468416635,
          570406.4295684447,
          571712.2610849597,
          573021.0299825278,
          574332.794307312,
          575647.6053243233,
          576965.507193149,
          578286.5368515339,
          579610.724374406,
          580938.0947215107,
          582268.6687384429,
          583602.4645865202,
          584939.4978321352,
          586279.7820176485,
          587623.3293366025,
          588970.1511692671,
          590320.2582836256,
          591673.6608513264,
          593030.368550405,
          594390.3907636564,
          595753.7367877766,
          597120.4158459612,
          598490.4361401392,
          599863.7995530382,
          601240.5052816698,
          602620.5517981708,
          604003.9368226666,
          605390.6555470333,
          606780.6970681038,
          608174.0434199423,
          609570.6634676184,
          610970.5126902892,
          612373.5292046816,
          613779.6252108237,
          615188.675457151,
          616600.5012424603,
          618014.8653838673,
          619431.4477392001,
          620849.8212212598,
          622269.4083028351,
          623689.4791840888,
          625109.1328013968,
          626527.2082985358,
          627942.4368188509,
          629353.4764108179,
          630758.9231164872,
          632157.557028066,
          633548.5398219915,
          634931.5338917034,
          636306.7334570254,
          637674.8636320261,
          639037.0401638545,
          640394.5859207091,
          641748.822135879,
          643100.9840035922,
          644452.1966237143,
          645803.3673384794,
          647155.2333274221,
          648508.3835681743,
          649863.2614811964,
          651220.2036065949,
          652579.4581375608,
          653941.2193017338,
          655305.6340221121,
          656672.803361004,
          658042.8040338997,
          659415.6927605489,
          660791.513743564,
          662170.3013412831,
          663552.0800658884,
          664936.8669167417,
          666324.6795647269,
          667715.5291721969,
          669109.4177904358,
          670506.3395556983,
          671906.2865649753,
          673309.2456463277,
          674715.1963848434,
          676124.1101311012,
          677535.9462182354,
          678950.6514935272,
          680368.1425403439,
          681788.3036032094,
          683210.9807527738,
          684635.9613015776,
          686062.9755674871,
          687491.6182596431,
          688921.3399911498,
          690351.4460259827,
          691781.0244340148,
          693208.8816703222,
          694633.5303416703,
          696053.1763944221,
          697465.7789917322,
          698869.0147110949,
          700260.6856527711,
          701638.9635662438,
          703002.413988192,
          704350.5003254369,
          705683.6949607267,
          707003.0955174806,
          708310.4085205592,
          709607.8572851658,
          710897.6031916821,
          712181.6756291286,
          713461.8360084536,
          714739.5608990459,
          716016.0448970493,
          717292.217632236,
          718568.7828575973,
          719846.2927269734,
          721125.1547652158,
          722405.6616754011,
          723688.033110834,
          724972.4335650911,
          726258.9866608531,
          727547.7771277755,
          728838.8679919094,
          730132.3048192102,
          731428.1226230729,
          732726.3469853111,
          734026.991837877,
          735330.0716355045,
          736635.6166692423,
          737943.6482133891,
          739254.1770335147,
          740567.2056305753,
          741882.7445361428,
          743200.8084903986,
          744521.4183996175,
          745844.6022089936,
          747170.3982812257,
          748498.855829314,
          749830.0472615416,
          751164.0720255304,
          752501.0613990043,
          753841.190100545,
          755184.6898706581,
          756531.8839707242,
          757883.1889191077,
          759239.1163160766,
          760600.3400199405,
          761967.668926056,
          763341.9872774074,
          764724.25378433,
          766115.4556047922,
          767516.4088705108,
          768927.6571298941,
          770349.3530412058,
          771781.2584939081,
          773222.7566897452,
          774672.9135647698,
          776130.7310268439,
          777595.1773764567,
          779065.2402110304,
          780540.0829699527,
          782018.9999665417,
          783501.4164486665,
          784986.8887656378,
          786475.0818175344,
          787965.7447264983,
          789458.6887726038,
          790953.768104649,
          792450.8797401778,
          793949.9571748871,
          795450.9473676775,
          796953.8141144642,
          798458.5318166845,
          799965.0848622584,
          801473.4635733955,
          802983.6625113722,
          804495.6790408804,
          806009.5129335563,
          807525.1601441666,
          809042.6167251278,
          810561.8873525365,
          812082.9759063725,
          813605.8854160547,
          815130.6173159189,
          816657.1716030687,
          818185.5452014745,
          819715.7306785735,
          821247.7162452403,
          822781.4837377826,
          824317.0062267577,
          825854.2435901844,
          827393.1379038373,
          828933.6121776452,
          830475.561571506,
          832018.8473342439,
          833563.2860871396,
          835108.6488101928,
          836654.6658209086,
          838200.997718462,
          839747.2944379352,
          841293.2245153828,
          842838.4754257349,
          844382.8057708078,
          845926.1301737202,
          847468.4789483031,
          849009.9926019899,
          850550.9215098319,
          852091.5754744452,
          853632.2636378487,
          855173.2759732287,
          856714.8674098866,
          858257.2568640301,
          859800.6177661517,
          861345.0870186649,
          862890.7743701204,
          864437.7626789032,
          865986.1145721219,
          867535.8779275616,
          869087.0907538813,
          870639.7834684995,
          872193.9790080145,
          873749.695752525,
          875306.9488341983,
          876865.7512953371,
          878426.1146391941,
          879988.0488273317,
          881551.5625935636,
          883116.6642788409,
          884683.3609389166,
          886251.658124119,
          887821.5599727212,
          889393.0700268341,
          890966.1906800856,
          892540.922615373,
          894117.2647005417,
          895695.2126955271,
          897274.759554386,
          898855.891464797,
          900438.5869374078,
          902022.8160318519,
          903608.535077788,
          905195.6866779713,
          906784.1850939632,
          908373.9140311959,
          909964.7262331771,
          911556.4291806014,
          913148.7750123756,
          914741.4688041424,
          916334.1688529901,
          917926.5029168696,
          919518.0842196235,
          921108.5818366602,
          922697.7668235066,
          924285.512245768,
          925871.8372728961,
          927456.919402075,
          929040.9975767607,
          930624.3633962403,
          932207.3516848746,
          933790.262816854,
          935373.35877552,
          936956.8622476712,
          938540.954581379,
          940125.7773087432,
          941711.440688603,
          943298.028067441,
          944885.6066665666,
          946474.2285248227,
          948063.9312992564,
          949654.7452310035,
          951246.6945067811,
          952839.79920795,
          954434.0757226947,
          956029.5376989765,
          957626.1969999669,
          959224.0644043079,
          960823.149751423,
          962423.4619414329,
          964025.000588423,
          965627.7604233066,
          967231.7355714301,
          968836.9195291424,
          970443.3001080544,
          972050.8599295687,
          973659.5696369378,
          975269.3828069734,
          976880.2359500725,
          978492.043094993,
          980104.6833134637,
          981717.9872328948,
          983331.7139256039,
          984945.5458838226,
          986559.0556789944,
          988171.6799233758,
          989782.655698245,
          991391.0131792772,
          992995.5784289545,
          994594.8262901099,
          996187.0658378471,
          997770.5463987761,
          999343.458381504,
          1000904.1620644181,
          1002451.5751312972,
          1003985.2426920615,
          1005505.3920718873,
          1007012.9328111991,
          1008509.3053288315,
          1009996.1916688269,
          1011475.2920389593,
          1012948.1799655595,
          1014416.286646032,
          1015880.7768390897,
          1017342.5842166914,
          1018802.4583266751,
          1020260.965477951,
          1021718.5316092063,
          1023175.4718526077,
          1024632.0299970676,
          1026088.3925224651,
          1027544.6892249102,
          1029001.0158465914,
          1030457.4445920608,
          1031914.0308405997,
          1033370.8180475731,
          1034827.8377444203,
          1036285.1090995442,
          1037742.6590073289,
          1039200.4999200589,
          1040658.6121676926,
          1042116.9514509989,
          1043575.486927648,
          1045034.1735666463,
          1046492.9426753059,
          1047951.7010095704,
          1049410.3164527654,
          1050868.6236137734,
          1052326.3670752407,
          1053783.1891988912,
          1055238.6214437215,
          1056692.0081425835,
          1058142.5369102056,
          1059588.9972571088,
          1061029.7334166982,
          1062462.643692048,
          1063885.0078897206,
          1065293.247682018,
          1066682.9192646337,
          1068048.6720878105,
          1069384.4093514762,
          1070683.2536295906,
          1071938.6262291395,
          1073145.1100856692,
          1074298.5084530883,
          1075397.2073758652,
          1076442.6224522705,
          1077438.0503476262,
          1078388.6079029427,
          1079300.872975584,
          1080181.2411436124,
          1081035.7247883668,
          1081869.5251437055,
          1082687.0064271465,
          1083491.7164703466,
          1084286.360938399,
          1085073.0094974635,
          1085853.303958201,
          1086628.4616026673,
          1087399.31369377,
          1088166.513311948,
          1088930.5358972247,
          1089691.7430319407,
          1090450.389674723,
          1091206.6560936267,
          1091960.6765585742,
          1092712.5512661322,
          1093462.3544318734,
          1094210.1321080404,
          1094955.9232933624,
          1095699.781155225,
          1096441.732662853,
          1097181.7758352973,
          1097919.886605124,
          1098656.049918674,
          1099390.2428579223,
          1100122.430755988,
          1100852.5675027925,
          1101580.5908429688,
          1102306.41897111,
          1103029.9392479341,
          1103750.9871451384,
          1104469.3458156378,
          1105184.7318726408,
          1105896.7631916394,
          1106604.927459359,
          1107308.5473481023,
          1108006.7781024324,
          1108698.5435393879,
          1109382.5449069857,
          1110057.329460635,
          1110721.304438891,
          1111372.8994735929,
          1112010.6962579193,
          1112633.785826169,
          1113241.8314495652,
          1113835.0570685957,
          1114414.2991727728,
          1114980.9243065338,
          1115536.3627745346,
          1116082.0678183327,
          1116619.5073858406,
          1117149.946338424,
          1117674.3888465988,
          1118193.6677730193,
          1118708.434410495,
          1119219.1763097788,
          1119726.263801426,
          1120229.9753769492,
          1120730.5254121323,
          1121228.0653484634,
          1121722.7057324892,
          1122214.5282241285,
          1122703.5952378514,
          1123189.9538663225,
          1123673.6364532856,
          1124154.6672674369,
          1124633.0635499223,
          1125108.8410821117,
          1125582.0153772116,
          1126052.6023062654,
          1126520.6200645135,
          1126986.077560258,
          1127448.9839829644,
          1127909.3510615355,
          1128367.193961005,
          1128822.5314716839,
          1129275.3898768504,
          1129725.8054023029,
          1130173.8252959994,
          1130619.5129201831,
          1131062.949409852,
          1131504.2535044423,
          1131943.5839368883,
          1132381.144128021,
          1132817.205840891,
          1133252.1203915812,
          1133686.3473753666,
          1134120.4569238757,
          1134555.1232906282,
          1134991.1375342174,
          1135429.3700027189,
          1135870.6158029235,
          1136315.5837709154,
          1136764.8032217845,
          1137218.4227863392,
          1137676.2857887556,
          1138137.9448073537,
          1138602.6807654249,
          1139069.6678599415,
          1139538.0588667814,
          1140007.0877703733,
          1140476.081819177,
          1140944.4644120075,
          1141411.7872330118,
          1141877.704350743,
          1142341.9398410143,
          1142804.2871474111,
          1143264.603362004,
          1143722.7783066847,
          1144178.7325610323,
          1144632.4068334084,
          1145083.7608181566,
          1145532.7672184352,
          1145979.406951785,
          1146423.667095132,
          1146865.5395610344,
          1147305.0209321685,
          1147742.1093473893,
          1148176.804202366,
          1148609.1082838827,
          1149039.027831973,
          1149466.5723129187,
          1149891.7521335506,
          1150314.579894899,
          1150735.071903045,
          1151153.248182426,
          1151569.133622827,
          1151982.7595989457,
          1152394.1678076154,
          1152803.4156650966,
          1153210.5770283486,
          1153615.7502834587,
          1154019.0616267032,
          1154420.687809805,
          1154820.8606611209,
          1155219.8709785468,
          1155618.1003976096,
          1156016.0240905003,
          1156414.2029442706,
          1156813.283542015,
          1157213.9603446643,
          1157616.945474904,
          1158022.8394477586,
          1158432.0124998132,
          1158844.6038733805,
          1159260.50788656,
          1159679.2891256937,
          1160100.3549672887,
          1160523.0482375731,
          1160946.653122114,
          1161370.5062463817,
          1161794.0453097576,
          1162216.7967970073,
          1162638.3813581,
          1163058.5071031805,
          1163476.9530328922,
          1163893.5539029625,
          1164308.182414412,
          1164720.7488954843,
          1165131.1929759642,
          1165539.46985711,
          1165945.5490492904,
          1166349.4090604798,
          1166751.037392462,
          1167150.4281195635,
          1167547.578142648,
          1167942.4875554834,
          1168335.1584324408,
          1168725.5948282164,
          1169113.796899772,
          1169499.76577789,
          1169883.5081345318,
          1170265.0301587486,
          1170644.3373468122,
          1171021.4341090212,
          1171396.3234029517,
          1171769.00600086,
          1172139.4802169388,
          1172507.7406674842,
          1172873.778117408,
          1173237.5747033437,
          1173599.1033235777,
          1173958.3264877521,
          1174315.1904532302,
          1174669.6239066652,
          1175021.5261065953,
          1175370.7656114083,
          1175717.180422881,
          1176060.5754414962,
          1176400.7126073795,
          1176737.3494390883,
          1177070.2482188856,
          1177399.1914693885,
          1177724.0393841926,
          1178044.7437379826,
          1178361.356011568,
          1178674.024419489,
          1178982.9657233185,
          1179288.4404307778,
          1179590.6994212742,
          1179889.9772502298,
          1180186.4907539268,
          1180480.417350854,
          1180771.8964166888,
          1181061.043321637,
          1181347.949612542,
          1181632.6832608616,
          1181915.2969544842,
          1182195.8326017002,
          1182474.3238224697,
          1182750.7975225493,
          1183025.274858907,
          1183297.7736700664,
          1183568.3092468132,
          1183836.8951727182,
          1184103.5434049014,
          1184368.2648299795,
          1184631.0693246613,
          1184891.9667993027,
          1185150.9673506168,
          1185408.0810366455,
          1185663.316059776,
          1185916.6803553596,
          1186168.182038573,
          1186417.8292972897,
          1186665.6303803436,
          1186911.5933571917,
          1187155.7262396032,
          1187398.0371372253,
          1187638.5342395394,
          1187877.2257015433,
          1188114.1195239306,
          1188349.2237707833,
          1188582.5465566088,
          1188814.096033368,
          1189043.8802393905,
          1189271.907174242,
          1189498.1848855424,
          1189722.7214663026,
          1189945.5250386386,
          1190166.6035858819,
          1190385.9650421161,
          1190603.6174084365,
          1190819.568753695
         ],
         "yaxis": "y"
        },
        {
         "hovertemplate": "year=%{x}<br>population=%{y}<extra></extra>",
         "legendgroup": "",
         "marker": {
          "color": "red",
          "symbol": "circle"
         },
         "mode": "markers",
         "name": "",
         "orientation": "v",
         "showlegend": false,
         "type": "scatter",
         "x": [
          1995,
          1996,
          1997,
          1998,
          1999,
          2000,
          2001,
          2002,
          2003,
          2004,
          2005,
          2006,
          2007,
          2008,
          2009,
          2010,
          2011,
          2012,
          2013,
          2014,
          2015,
          2016,
          2017,
          2018,
          2019
         ],
         "xaxis": "x",
         "y": [
          1041800,
          1061600,
          1081100,
          1101800,
          1123500,
          1133900,
          1145200,
          1155300,
          1164500,
          1174400,
          1182900,
          1188700,
          1195200,
          1201700,
          1207100,
          1205840,
          1204500,
          1203460,
          1202070,
          1200740,
          1199500,
          1198100,
          1197000,
          1195600,
          1194300
         ],
         "yaxis": "y"
        }
       ],
       "layout": {
        "template": {
         "data": {
          "bar": [
           {
            "error_x": {
             "color": "#2a3f5f"
            },
            "error_y": {
             "color": "#2a3f5f"
            },
            "marker": {
             "line": {
              "color": "#E5ECF6",
              "width": 0.5
             },
             "pattern": {
              "fillmode": "overlay",
              "size": 10,
              "solidity": 0.2
             }
            },
            "type": "bar"
           }
          ],
          "barpolar": [
           {
            "marker": {
             "line": {
              "color": "#E5ECF6",
              "width": 0.5
             },
             "pattern": {
              "fillmode": "overlay",
              "size": 10,
              "solidity": 0.2
             }
            },
            "type": "barpolar"
           }
          ],
          "carpet": [
           {
            "aaxis": {
             "endlinecolor": "#2a3f5f",
             "gridcolor": "white",
             "linecolor": "white",
             "minorgridcolor": "white",
             "startlinecolor": "#2a3f5f"
            },
            "baxis": {
             "endlinecolor": "#2a3f5f",
             "gridcolor": "white",
             "linecolor": "white",
             "minorgridcolor": "white",
             "startlinecolor": "#2a3f5f"
            },
            "type": "carpet"
           }
          ],
          "choropleth": [
           {
            "colorbar": {
             "outlinewidth": 0,
             "ticks": ""
            },
            "type": "choropleth"
           }
          ],
          "contour": [
           {
            "colorbar": {
             "outlinewidth": 0,
             "ticks": ""
            },
            "colorscale": [
             [
              0,
              "#0d0887"
             ],
             [
              0.1111111111111111,
              "#46039f"
             ],
             [
              0.2222222222222222,
              "#7201a8"
             ],
             [
              0.3333333333333333,
              "#9c179e"
             ],
             [
              0.4444444444444444,
              "#bd3786"
             ],
             [
              0.5555555555555556,
              "#d8576b"
             ],
             [
              0.6666666666666666,
              "#ed7953"
             ],
             [
              0.7777777777777778,
              "#fb9f3a"
             ],
             [
              0.8888888888888888,
              "#fdca26"
             ],
             [
              1,
              "#f0f921"
             ]
            ],
            "type": "contour"
           }
          ],
          "contourcarpet": [
           {
            "colorbar": {
             "outlinewidth": 0,
             "ticks": ""
            },
            "type": "contourcarpet"
           }
          ],
          "heatmap": [
           {
            "colorbar": {
             "outlinewidth": 0,
             "ticks": ""
            },
            "colorscale": [
             [
              0,
              "#0d0887"
             ],
             [
              0.1111111111111111,
              "#46039f"
             ],
             [
              0.2222222222222222,
              "#7201a8"
             ],
             [
              0.3333333333333333,
              "#9c179e"
             ],
             [
              0.4444444444444444,
              "#bd3786"
             ],
             [
              0.5555555555555556,
              "#d8576b"
             ],
             [
              0.6666666666666666,
              "#ed7953"
             ],
             [
              0.7777777777777778,
              "#fb9f3a"
             ],
             [
              0.8888888888888888,
              "#fdca26"
             ],
             [
              1,
              "#f0f921"
             ]
            ],
            "type": "heatmap"
           }
          ],
          "heatmapgl": [
           {
            "colorbar": {
             "outlinewidth": 0,
             "ticks": ""
            },
            "colorscale": [
             [
              0,
              "#0d0887"
             ],
             [
              0.1111111111111111,
              "#46039f"
             ],
             [
              0.2222222222222222,
              "#7201a8"
             ],
             [
              0.3333333333333333,
              "#9c179e"
             ],
             [
              0.4444444444444444,
              "#bd3786"
             ],
             [
              0.5555555555555556,
              "#d8576b"
             ],
             [
              0.6666666666666666,
              "#ed7953"
             ],
             [
              0.7777777777777778,
              "#fb9f3a"
             ],
             [
              0.8888888888888888,
              "#fdca26"
             ],
             [
              1,
              "#f0f921"
             ]
            ],
            "type": "heatmapgl"
           }
          ],
          "histogram": [
           {
            "marker": {
             "pattern": {
              "fillmode": "overlay",
              "size": 10,
              "solidity": 0.2
             }
            },
            "type": "histogram"
           }
          ],
          "histogram2d": [
           {
            "colorbar": {
             "outlinewidth": 0,
             "ticks": ""
            },
            "colorscale": [
             [
              0,
              "#0d0887"
             ],
             [
              0.1111111111111111,
              "#46039f"
             ],
             [
              0.2222222222222222,
              "#7201a8"
             ],
             [
              0.3333333333333333,
              "#9c179e"
             ],
             [
              0.4444444444444444,
              "#bd3786"
             ],
             [
              0.5555555555555556,
              "#d8576b"
             ],
             [
              0.6666666666666666,
              "#ed7953"
             ],
             [
              0.7777777777777778,
              "#fb9f3a"
             ],
             [
              0.8888888888888888,
              "#fdca26"
             ],
             [
              1,
              "#f0f921"
             ]
            ],
            "type": "histogram2d"
           }
          ],
          "histogram2dcontour": [
           {
            "colorbar": {
             "outlinewidth": 0,
             "ticks": ""
            },
            "colorscale": [
             [
              0,
              "#0d0887"
             ],
             [
              0.1111111111111111,
              "#46039f"
             ],
             [
              0.2222222222222222,
              "#7201a8"
             ],
             [
              0.3333333333333333,
              "#9c179e"
             ],
             [
              0.4444444444444444,
              "#bd3786"
             ],
             [
              0.5555555555555556,
              "#d8576b"
             ],
             [
              0.6666666666666666,
              "#ed7953"
             ],
             [
              0.7777777777777778,
              "#fb9f3a"
             ],
             [
              0.8888888888888888,
              "#fdca26"
             ],
             [
              1,
              "#f0f921"
             ]
            ],
            "type": "histogram2dcontour"
           }
          ],
          "mesh3d": [
           {
            "colorbar": {
             "outlinewidth": 0,
             "ticks": ""
            },
            "type": "mesh3d"
           }
          ],
          "parcoords": [
           {
            "line": {
             "colorbar": {
              "outlinewidth": 0,
              "ticks": ""
             }
            },
            "type": "parcoords"
           }
          ],
          "pie": [
           {
            "automargin": true,
            "type": "pie"
           }
          ],
          "scatter": [
           {
            "fillpattern": {
             "fillmode": "overlay",
             "size": 10,
             "solidity": 0.2
            },
            "type": "scatter"
           }
          ],
          "scatter3d": [
           {
            "line": {
             "colorbar": {
              "outlinewidth": 0,
              "ticks": ""
             }
            },
            "marker": {
             "colorbar": {
              "outlinewidth": 0,
              "ticks": ""
             }
            },
            "type": "scatter3d"
           }
          ],
          "scattercarpet": [
           {
            "marker": {
             "colorbar": {
              "outlinewidth": 0,
              "ticks": ""
             }
            },
            "type": "scattercarpet"
           }
          ],
          "scattergeo": [
           {
            "marker": {
             "colorbar": {
              "outlinewidth": 0,
              "ticks": ""
             }
            },
            "type": "scattergeo"
           }
          ],
          "scattergl": [
           {
            "marker": {
             "colorbar": {
              "outlinewidth": 0,
              "ticks": ""
             }
            },
            "type": "scattergl"
           }
          ],
          "scattermapbox": [
           {
            "marker": {
             "colorbar": {
              "outlinewidth": 0,
              "ticks": ""
             }
            },
            "type": "scattermapbox"
           }
          ],
          "scatterpolar": [
           {
            "marker": {
             "colorbar": {
              "outlinewidth": 0,
              "ticks": ""
             }
            },
            "type": "scatterpolar"
           }
          ],
          "scatterpolargl": [
           {
            "marker": {
             "colorbar": {
              "outlinewidth": 0,
              "ticks": ""
             }
            },
            "type": "scatterpolargl"
           }
          ],
          "scatterternary": [
           {
            "marker": {
             "colorbar": {
              "outlinewidth": 0,
              "ticks": ""
             }
            },
            "type": "scatterternary"
           }
          ],
          "surface": [
           {
            "colorbar": {
             "outlinewidth": 0,
             "ticks": ""
            },
            "colorscale": [
             [
              0,
              "#0d0887"
             ],
             [
              0.1111111111111111,
              "#46039f"
             ],
             [
              0.2222222222222222,
              "#7201a8"
             ],
             [
              0.3333333333333333,
              "#9c179e"
             ],
             [
              0.4444444444444444,
              "#bd3786"
             ],
             [
              0.5555555555555556,
              "#d8576b"
             ],
             [
              0.6666666666666666,
              "#ed7953"
             ],
             [
              0.7777777777777778,
              "#fb9f3a"
             ],
             [
              0.8888888888888888,
              "#fdca26"
             ],
             [
              1,
              "#f0f921"
             ]
            ],
            "type": "surface"
           }
          ],
          "table": [
           {
            "cells": {
             "fill": {
              "color": "#EBF0F8"
             },
             "line": {
              "color": "white"
             }
            },
            "header": {
             "fill": {
              "color": "#C8D4E3"
             },
             "line": {
              "color": "white"
             }
            },
            "type": "table"
           }
          ]
         },
         "layout": {
          "annotationdefaults": {
           "arrowcolor": "#2a3f5f",
           "arrowhead": 0,
           "arrowwidth": 1
          },
          "autotypenumbers": "strict",
          "coloraxis": {
           "colorbar": {
            "outlinewidth": 0,
            "ticks": ""
           }
          },
          "colorscale": {
           "diverging": [
            [
             0,
             "#8e0152"
            ],
            [
             0.1,
             "#c51b7d"
            ],
            [
             0.2,
             "#de77ae"
            ],
            [
             0.3,
             "#f1b6da"
            ],
            [
             0.4,
             "#fde0ef"
            ],
            [
             0.5,
             "#f7f7f7"
            ],
            [
             0.6,
             "#e6f5d0"
            ],
            [
             0.7,
             "#b8e186"
            ],
            [
             0.8,
             "#7fbc41"
            ],
            [
             0.9,
             "#4d9221"
            ],
            [
             1,
             "#276419"
            ]
           ],
           "sequential": [
            [
             0,
             "#0d0887"
            ],
            [
             0.1111111111111111,
             "#46039f"
            ],
            [
             0.2222222222222222,
             "#7201a8"
            ],
            [
             0.3333333333333333,
             "#9c179e"
            ],
            [
             0.4444444444444444,
             "#bd3786"
            ],
            [
             0.5555555555555556,
             "#d8576b"
            ],
            [
             0.6666666666666666,
             "#ed7953"
            ],
            [
             0.7777777777777778,
             "#fb9f3a"
            ],
            [
             0.8888888888888888,
             "#fdca26"
            ],
            [
             1,
             "#f0f921"
            ]
           ],
           "sequentialminus": [
            [
             0,
             "#0d0887"
            ],
            [
             0.1111111111111111,
             "#46039f"
            ],
            [
             0.2222222222222222,
             "#7201a8"
            ],
            [
             0.3333333333333333,
             "#9c179e"
            ],
            [
             0.4444444444444444,
             "#bd3786"
            ],
            [
             0.5555555555555556,
             "#d8576b"
            ],
            [
             0.6666666666666666,
             "#ed7953"
            ],
            [
             0.7777777777777778,
             "#fb9f3a"
            ],
            [
             0.8888888888888888,
             "#fdca26"
            ],
            [
             1,
             "#f0f921"
            ]
           ]
          },
          "colorway": [
           "#636efa",
           "#EF553B",
           "#00cc96",
           "#ab63fa",
           "#FFA15A",
           "#19d3f3",
           "#FF6692",
           "#B6E880",
           "#FF97FF",
           "#FECB52"
          ],
          "font": {
           "color": "#2a3f5f"
          },
          "geo": {
           "bgcolor": "white",
           "lakecolor": "white",
           "landcolor": "#E5ECF6",
           "showlakes": true,
           "showland": true,
           "subunitcolor": "white"
          },
          "hoverlabel": {
           "align": "left"
          },
          "hovermode": "closest",
          "mapbox": {
           "style": "light"
          },
          "paper_bgcolor": "white",
          "plot_bgcolor": "#E5ECF6",
          "polar": {
           "angularaxis": {
            "gridcolor": "white",
            "linecolor": "white",
            "ticks": ""
           },
           "bgcolor": "#E5ECF6",
           "radialaxis": {
            "gridcolor": "white",
            "linecolor": "white",
            "ticks": ""
           }
          },
          "scene": {
           "xaxis": {
            "backgroundcolor": "#E5ECF6",
            "gridcolor": "white",
            "gridwidth": 2,
            "linecolor": "white",
            "showbackground": true,
            "ticks": "",
            "zerolinecolor": "white"
           },
           "yaxis": {
            "backgroundcolor": "#E5ECF6",
            "gridcolor": "white",
            "gridwidth": 2,
            "linecolor": "white",
            "showbackground": true,
            "ticks": "",
            "zerolinecolor": "white"
           },
           "zaxis": {
            "backgroundcolor": "#E5ECF6",
            "gridcolor": "white",
            "gridwidth": 2,
            "linecolor": "white",
            "showbackground": true,
            "ticks": "",
            "zerolinecolor": "white"
           }
          },
          "shapedefaults": {
           "line": {
            "color": "#2a3f5f"
           }
          },
          "ternary": {
           "aaxis": {
            "gridcolor": "white",
            "linecolor": "white",
            "ticks": ""
           },
           "baxis": {
            "gridcolor": "white",
            "linecolor": "white",
            "ticks": ""
           },
           "bgcolor": "#E5ECF6",
           "caxis": {
            "gridcolor": "white",
            "linecolor": "white",
            "ticks": ""
           }
          },
          "title": {
           "x": 0.05
          },
          "xaxis": {
           "automargin": true,
           "gridcolor": "white",
           "linecolor": "white",
           "ticks": "",
           "title": {
            "standoff": 15
           },
           "zerolinecolor": "white",
           "zerolinewidth": 2
          },
          "yaxis": {
           "automargin": true,
           "gridcolor": "white",
           "linecolor": "white",
           "ticks": "",
           "title": {
            "standoff": 15
           },
           "zerolinecolor": "white",
           "zerolinewidth": 2
          }
         }
        },
        "title": {
         "text": "Modelled vs Data",
         "x": 0.5
        },
        "xaxis": {
         "title": {
          "text": "Year"
         }
        },
        "yaxis": {
         "title": {
          "text": "Population"
         }
        }
       }
      }
     },
     "metadata": {},
     "output_type": "display_data"
    }
   ],
   "source": [
    "fig2_1 = px.line(\n",
    "    derived_df_0,\n",
    "    x=derived_df_0.index,\n",
    "    y=\"total_population\",\n",
    ")\n",
    "fig2_2 = px.scatter(pop_df.reset_index(), x=\"year\", y=\"population\")\n",
    "fig2_2.update_traces(marker=dict(color=\"red\"))\n",
    "fig2_3 = go.Figure(\n",
    "    data=fig2_1.data + fig2_2.data,\n",
    ")\n",
    "fig2_3.update_layout(\n",
    "    title=\"Modelled vs Data\", title_x=0.5, xaxis_title=\"Year\", yaxis_title=\"Population\"\n",
    ")\n",
    "fig2_3.show()"
   ]
  },
  {
   "cell_type": "code",
   "execution_count": 15,
   "metadata": {},
   "outputs": [
    {
     "data": {
      "application/vnd.plotly.v1+json": {
       "config": {
        "plotlyServerURL": "https://plot.ly"
       },
       "data": [
        {
         "hovertemplate": "variable=incidence<br>index=%{x}<br>value=%{y}<extra></extra>",
         "legendgroup": "incidence",
         "line": {
          "color": "#636efa",
          "dash": "solid"
         },
         "marker": {
          "symbol": "circle"
         },
         "mode": "lines",
         "name": "incidence",
         "showlegend": true,
         "type": "scattergl",
         "x": [
          1800,
          1800.1,
          1800.2,
          1800.3,
          1800.4,
          1800.5,
          1800.6,
          1800.7,
          1800.8,
          1800.9,
          1801,
          1801.1,
          1801.2,
          1801.3,
          1801.4,
          1801.5,
          1801.6,
          1801.7,
          1801.8,
          1801.9,
          1802,
          1802.1,
          1802.2,
          1802.3,
          1802.4,
          1802.5,
          1802.6,
          1802.7,
          1802.8,
          1802.9,
          1803,
          1803.1,
          1803.2,
          1803.3,
          1803.4,
          1803.5,
          1803.6,
          1803.7,
          1803.8,
          1803.9,
          1804,
          1804.1,
          1804.2,
          1804.3,
          1804.4,
          1804.5,
          1804.6,
          1804.7,
          1804.8,
          1804.9,
          1805,
          1805.1,
          1805.2,
          1805.3,
          1805.4,
          1805.5,
          1805.6,
          1805.7,
          1805.8,
          1805.9,
          1806,
          1806.1,
          1806.2,
          1806.3,
          1806.4,
          1806.5,
          1806.6,
          1806.7,
          1806.8,
          1806.9,
          1807,
          1807.1,
          1807.2,
          1807.3,
          1807.4,
          1807.5,
          1807.6,
          1807.7,
          1807.8,
          1807.9,
          1808,
          1808.1,
          1808.2,
          1808.3,
          1808.4,
          1808.5,
          1808.6,
          1808.7,
          1808.8,
          1808.9,
          1809,
          1809.1,
          1809.2,
          1809.3,
          1809.4,
          1809.5,
          1809.6,
          1809.7,
          1809.8,
          1809.9,
          1810,
          1810.1,
          1810.2,
          1810.3,
          1810.4,
          1810.5,
          1810.6,
          1810.7,
          1810.8,
          1810.9,
          1811,
          1811.1,
          1811.2,
          1811.3,
          1811.4,
          1811.5,
          1811.6,
          1811.7,
          1811.8,
          1811.9,
          1812,
          1812.1,
          1812.2,
          1812.3,
          1812.4,
          1812.5,
          1812.6,
          1812.7,
          1812.8,
          1812.9,
          1813,
          1813.1,
          1813.2,
          1813.3,
          1813.4,
          1813.5,
          1813.6,
          1813.7,
          1813.8,
          1813.9,
          1814,
          1814.1,
          1814.2,
          1814.3,
          1814.4,
          1814.5,
          1814.6,
          1814.7,
          1814.8,
          1814.9,
          1815,
          1815.1,
          1815.2,
          1815.3,
          1815.4,
          1815.5,
          1815.6,
          1815.7,
          1815.8,
          1815.9,
          1816,
          1816.1,
          1816.2,
          1816.3,
          1816.4,
          1816.5,
          1816.6,
          1816.7,
          1816.8,
          1816.9,
          1817,
          1817.1,
          1817.2,
          1817.3,
          1817.4,
          1817.5,
          1817.6,
          1817.7,
          1817.8,
          1817.9,
          1818,
          1818.1,
          1818.2,
          1818.3,
          1818.4,
          1818.5,
          1818.6,
          1818.7,
          1818.8,
          1818.9,
          1819,
          1819.1,
          1819.2,
          1819.3,
          1819.4,
          1819.5,
          1819.6,
          1819.7,
          1819.8,
          1819.9,
          1820,
          1820.1,
          1820.2,
          1820.3,
          1820.4,
          1820.5,
          1820.6,
          1820.7,
          1820.8,
          1820.9,
          1821,
          1821.1,
          1821.2,
          1821.3,
          1821.4,
          1821.5,
          1821.6,
          1821.7,
          1821.8,
          1821.9,
          1822,
          1822.1,
          1822.2,
          1822.3,
          1822.4,
          1822.5,
          1822.6,
          1822.7,
          1822.8,
          1822.9,
          1823,
          1823.1,
          1823.2,
          1823.3,
          1823.4,
          1823.5,
          1823.6,
          1823.7,
          1823.8,
          1823.9,
          1824,
          1824.1,
          1824.2,
          1824.3,
          1824.4,
          1824.5,
          1824.6,
          1824.7,
          1824.8,
          1824.9,
          1825,
          1825.1,
          1825.2,
          1825.3,
          1825.4,
          1825.5,
          1825.6,
          1825.7,
          1825.8,
          1825.9,
          1826,
          1826.1,
          1826.2,
          1826.3,
          1826.4,
          1826.5,
          1826.6,
          1826.7,
          1826.8,
          1826.9,
          1827,
          1827.1,
          1827.2,
          1827.3,
          1827.4,
          1827.5,
          1827.6,
          1827.7,
          1827.8,
          1827.9,
          1828,
          1828.1,
          1828.2,
          1828.3,
          1828.4,
          1828.5,
          1828.6,
          1828.7,
          1828.8,
          1828.9,
          1829,
          1829.1,
          1829.2,
          1829.3,
          1829.4,
          1829.5,
          1829.6,
          1829.7,
          1829.8,
          1829.9,
          1830,
          1830.1,
          1830.2,
          1830.3,
          1830.4,
          1830.5,
          1830.6,
          1830.7,
          1830.8,
          1830.9,
          1831,
          1831.1,
          1831.2,
          1831.3,
          1831.4,
          1831.5,
          1831.6,
          1831.7,
          1831.8,
          1831.9,
          1832,
          1832.1,
          1832.2,
          1832.3,
          1832.4,
          1832.5,
          1832.6,
          1832.7,
          1832.8,
          1832.9,
          1833,
          1833.1,
          1833.2,
          1833.3,
          1833.4,
          1833.5,
          1833.6,
          1833.7,
          1833.8,
          1833.9,
          1834,
          1834.1,
          1834.2,
          1834.3,
          1834.4,
          1834.5,
          1834.6,
          1834.7,
          1834.8,
          1834.9,
          1835,
          1835.1,
          1835.2,
          1835.3,
          1835.4,
          1835.5,
          1835.6,
          1835.7,
          1835.8,
          1835.9,
          1836,
          1836.1,
          1836.2,
          1836.3,
          1836.4,
          1836.5,
          1836.6,
          1836.7,
          1836.8,
          1836.9,
          1837,
          1837.1,
          1837.2,
          1837.3,
          1837.4,
          1837.5,
          1837.6,
          1837.7,
          1837.8,
          1837.9,
          1838,
          1838.1,
          1838.2,
          1838.3,
          1838.4,
          1838.5,
          1838.6,
          1838.7,
          1838.8,
          1838.9,
          1839,
          1839.1,
          1839.2,
          1839.3,
          1839.4,
          1839.5,
          1839.6,
          1839.7,
          1839.8,
          1839.9,
          1840,
          1840.1,
          1840.2,
          1840.3,
          1840.4,
          1840.5,
          1840.6,
          1840.7,
          1840.8,
          1840.9,
          1841,
          1841.1,
          1841.2,
          1841.3,
          1841.4,
          1841.5,
          1841.6,
          1841.7,
          1841.8,
          1841.9,
          1842,
          1842.1,
          1842.2,
          1842.3,
          1842.4,
          1842.5,
          1842.6,
          1842.7,
          1842.8,
          1842.9,
          1843,
          1843.1,
          1843.2,
          1843.3,
          1843.4,
          1843.5,
          1843.6,
          1843.7,
          1843.8,
          1843.9,
          1844,
          1844.1,
          1844.2,
          1844.3,
          1844.4,
          1844.5,
          1844.6,
          1844.7,
          1844.8,
          1844.9,
          1845,
          1845.1,
          1845.2,
          1845.3,
          1845.4,
          1845.5,
          1845.6,
          1845.7,
          1845.8,
          1845.9,
          1846,
          1846.1,
          1846.2,
          1846.3,
          1846.4,
          1846.5,
          1846.6,
          1846.7,
          1846.8,
          1846.9,
          1847,
          1847.1,
          1847.2,
          1847.3,
          1847.4,
          1847.5,
          1847.6,
          1847.7,
          1847.8,
          1847.9,
          1848,
          1848.1,
          1848.2,
          1848.3,
          1848.4,
          1848.5,
          1848.6,
          1848.7,
          1848.8,
          1848.9,
          1849,
          1849.1,
          1849.2,
          1849.3,
          1849.4,
          1849.5,
          1849.6,
          1849.7,
          1849.8,
          1849.9,
          1850,
          1850.1,
          1850.2,
          1850.3,
          1850.4,
          1850.5,
          1850.6,
          1850.7,
          1850.8,
          1850.9,
          1851,
          1851.1,
          1851.2,
          1851.3,
          1851.4,
          1851.5,
          1851.6,
          1851.7,
          1851.8,
          1851.9,
          1852,
          1852.1,
          1852.2,
          1852.3,
          1852.4,
          1852.5,
          1852.6,
          1852.7,
          1852.8,
          1852.9,
          1853,
          1853.1,
          1853.2,
          1853.3,
          1853.4,
          1853.5,
          1853.6,
          1853.7,
          1853.8,
          1853.9,
          1854,
          1854.1,
          1854.2,
          1854.3,
          1854.4,
          1854.5,
          1854.6,
          1854.7,
          1854.8,
          1854.9,
          1855,
          1855.1,
          1855.2,
          1855.3,
          1855.4,
          1855.5,
          1855.6,
          1855.7,
          1855.8,
          1855.9,
          1856,
          1856.1,
          1856.2,
          1856.3,
          1856.4,
          1856.5,
          1856.6,
          1856.7,
          1856.8,
          1856.9,
          1857,
          1857.1,
          1857.2,
          1857.3,
          1857.4,
          1857.5,
          1857.6,
          1857.7,
          1857.8,
          1857.9,
          1858,
          1858.1,
          1858.2,
          1858.3,
          1858.4,
          1858.5,
          1858.6,
          1858.7,
          1858.8,
          1858.9,
          1859,
          1859.1,
          1859.2,
          1859.3,
          1859.4,
          1859.5,
          1859.6,
          1859.7,
          1859.8,
          1859.9,
          1860,
          1860.1,
          1860.2,
          1860.3,
          1860.4,
          1860.5,
          1860.6,
          1860.7,
          1860.8,
          1860.9,
          1861,
          1861.1,
          1861.2,
          1861.3,
          1861.4,
          1861.5,
          1861.6,
          1861.7,
          1861.8,
          1861.9,
          1862,
          1862.1,
          1862.2,
          1862.3,
          1862.4,
          1862.5,
          1862.6,
          1862.7,
          1862.8,
          1862.9,
          1863,
          1863.1,
          1863.2,
          1863.3,
          1863.4,
          1863.5,
          1863.6,
          1863.7,
          1863.8,
          1863.9,
          1864,
          1864.1,
          1864.2,
          1864.3,
          1864.4,
          1864.5,
          1864.6,
          1864.7,
          1864.8,
          1864.9,
          1865,
          1865.1,
          1865.2,
          1865.3,
          1865.4,
          1865.5,
          1865.6,
          1865.7,
          1865.8,
          1865.9,
          1866,
          1866.1,
          1866.2,
          1866.3,
          1866.4,
          1866.5,
          1866.6,
          1866.7,
          1866.8,
          1866.9,
          1867,
          1867.1,
          1867.2,
          1867.3,
          1867.4,
          1867.5,
          1867.6,
          1867.7,
          1867.8,
          1867.9,
          1868,
          1868.1,
          1868.2,
          1868.3,
          1868.4,
          1868.5,
          1868.6,
          1868.7,
          1868.8,
          1868.9,
          1869,
          1869.1,
          1869.2,
          1869.3,
          1869.4,
          1869.5,
          1869.6,
          1869.7,
          1869.8,
          1869.9,
          1870,
          1870.1,
          1870.2,
          1870.3,
          1870.4,
          1870.5,
          1870.6,
          1870.7,
          1870.8,
          1870.9,
          1871,
          1871.1,
          1871.2,
          1871.3,
          1871.4,
          1871.5,
          1871.6,
          1871.7,
          1871.8,
          1871.9,
          1872,
          1872.1,
          1872.2,
          1872.3,
          1872.4,
          1872.5,
          1872.6,
          1872.7,
          1872.8,
          1872.9,
          1873,
          1873.1,
          1873.2,
          1873.3,
          1873.4,
          1873.5,
          1873.6,
          1873.7,
          1873.8,
          1873.9,
          1874,
          1874.1,
          1874.2,
          1874.3,
          1874.4,
          1874.5,
          1874.6,
          1874.7,
          1874.8,
          1874.9,
          1875,
          1875.1,
          1875.2,
          1875.3,
          1875.4,
          1875.5,
          1875.6,
          1875.7,
          1875.8,
          1875.9,
          1876,
          1876.1,
          1876.2,
          1876.3,
          1876.4,
          1876.5,
          1876.6,
          1876.7,
          1876.8,
          1876.9,
          1877,
          1877.1,
          1877.2,
          1877.3,
          1877.4,
          1877.5,
          1877.6,
          1877.7,
          1877.8,
          1877.9,
          1878,
          1878.1,
          1878.2,
          1878.3,
          1878.4,
          1878.5,
          1878.6,
          1878.7,
          1878.8,
          1878.9,
          1879,
          1879.1,
          1879.2,
          1879.3,
          1879.4,
          1879.5,
          1879.6,
          1879.7,
          1879.8,
          1879.9,
          1880,
          1880.1,
          1880.2,
          1880.3,
          1880.4,
          1880.5,
          1880.6,
          1880.7,
          1880.8,
          1880.9,
          1881,
          1881.1,
          1881.2,
          1881.3,
          1881.4,
          1881.5,
          1881.6,
          1881.7,
          1881.8,
          1881.9,
          1882,
          1882.1,
          1882.2,
          1882.3,
          1882.4,
          1882.5,
          1882.6,
          1882.7,
          1882.8,
          1882.9,
          1883,
          1883.1,
          1883.2,
          1883.3,
          1883.4,
          1883.5,
          1883.6,
          1883.7,
          1883.8,
          1883.9,
          1884,
          1884.1,
          1884.2,
          1884.3,
          1884.4,
          1884.5,
          1884.6,
          1884.7,
          1884.8,
          1884.9,
          1885,
          1885.1,
          1885.2,
          1885.3,
          1885.4,
          1885.5,
          1885.6,
          1885.7,
          1885.8,
          1885.9,
          1886,
          1886.1,
          1886.2,
          1886.3,
          1886.4,
          1886.5,
          1886.6,
          1886.7,
          1886.8,
          1886.9,
          1887,
          1887.1,
          1887.2,
          1887.3,
          1887.4,
          1887.5,
          1887.6,
          1887.7,
          1887.8,
          1887.9,
          1888,
          1888.1,
          1888.2,
          1888.3,
          1888.4,
          1888.5,
          1888.6,
          1888.7,
          1888.8,
          1888.9,
          1889,
          1889.1,
          1889.2,
          1889.3,
          1889.4,
          1889.5,
          1889.6,
          1889.7,
          1889.8,
          1889.9,
          1890,
          1890.1,
          1890.2,
          1890.3,
          1890.4,
          1890.5,
          1890.6,
          1890.7,
          1890.8,
          1890.9,
          1891,
          1891.1,
          1891.2,
          1891.3,
          1891.4,
          1891.5,
          1891.6,
          1891.7,
          1891.8,
          1891.9,
          1892,
          1892.1,
          1892.2,
          1892.3,
          1892.4,
          1892.5,
          1892.6,
          1892.7,
          1892.8,
          1892.9,
          1893,
          1893.1,
          1893.2,
          1893.3,
          1893.4,
          1893.5,
          1893.6,
          1893.7,
          1893.8,
          1893.9,
          1894,
          1894.1,
          1894.2,
          1894.3,
          1894.4,
          1894.5,
          1894.6,
          1894.7,
          1894.8,
          1894.9,
          1895,
          1895.1,
          1895.2,
          1895.3,
          1895.4,
          1895.5,
          1895.6,
          1895.7,
          1895.8,
          1895.9,
          1896,
          1896.1,
          1896.2,
          1896.3,
          1896.4,
          1896.5,
          1896.6,
          1896.7,
          1896.8,
          1896.9,
          1897,
          1897.1,
          1897.2,
          1897.3,
          1897.4,
          1897.5,
          1897.6,
          1897.7,
          1897.8,
          1897.9,
          1898,
          1898.1,
          1898.2,
          1898.3,
          1898.4,
          1898.5,
          1898.6,
          1898.7,
          1898.8,
          1898.9,
          1899,
          1899.1,
          1899.2,
          1899.3,
          1899.4,
          1899.5,
          1899.6,
          1899.7,
          1899.8,
          1899.9,
          1900,
          1900.1,
          1900.2,
          1900.3,
          1900.4,
          1900.5,
          1900.6,
          1900.7,
          1900.8,
          1900.9,
          1901,
          1901.1,
          1901.2,
          1901.3,
          1901.4,
          1901.5,
          1901.6,
          1901.7,
          1901.8,
          1901.9,
          1902,
          1902.1,
          1902.2,
          1902.3,
          1902.4,
          1902.5,
          1902.6,
          1902.7,
          1902.8,
          1902.9,
          1903,
          1903.1,
          1903.2,
          1903.3,
          1903.4,
          1903.5,
          1903.6,
          1903.7,
          1903.8,
          1903.9,
          1904,
          1904.1,
          1904.2,
          1904.3,
          1904.4,
          1904.5,
          1904.6,
          1904.7,
          1904.8,
          1904.9,
          1905,
          1905.1,
          1905.2,
          1905.3,
          1905.4,
          1905.5,
          1905.6,
          1905.7,
          1905.8,
          1905.9,
          1906,
          1906.1,
          1906.2,
          1906.3,
          1906.4,
          1906.5,
          1906.6,
          1906.7,
          1906.8,
          1906.9,
          1907,
          1907.1,
          1907.2,
          1907.3,
          1907.4,
          1907.5,
          1907.6,
          1907.7,
          1907.8,
          1907.9,
          1908,
          1908.1,
          1908.2,
          1908.3,
          1908.4,
          1908.5,
          1908.6,
          1908.7,
          1908.8,
          1908.9,
          1909,
          1909.1,
          1909.2,
          1909.3,
          1909.4,
          1909.5,
          1909.6,
          1909.7,
          1909.8,
          1909.9,
          1910,
          1910.1,
          1910.2,
          1910.3,
          1910.4,
          1910.5,
          1910.6,
          1910.7,
          1910.8,
          1910.9,
          1911,
          1911.1,
          1911.2,
          1911.3,
          1911.4,
          1911.5,
          1911.6,
          1911.7,
          1911.8,
          1911.9,
          1912,
          1912.1,
          1912.2,
          1912.3,
          1912.4,
          1912.5,
          1912.6,
          1912.7,
          1912.8,
          1912.9,
          1913,
          1913.1,
          1913.2,
          1913.3,
          1913.4,
          1913.5,
          1913.6,
          1913.7,
          1913.8,
          1913.9,
          1914,
          1914.1,
          1914.2,
          1914.3,
          1914.4,
          1914.5,
          1914.6,
          1914.7,
          1914.8,
          1914.9,
          1915,
          1915.1,
          1915.2,
          1915.3,
          1915.4,
          1915.5,
          1915.6,
          1915.7,
          1915.8,
          1915.9,
          1916,
          1916.1,
          1916.2,
          1916.3,
          1916.4,
          1916.5,
          1916.6,
          1916.7,
          1916.8,
          1916.9,
          1917,
          1917.1,
          1917.2,
          1917.3,
          1917.4,
          1917.5,
          1917.6,
          1917.7,
          1917.8,
          1917.9,
          1918,
          1918.1,
          1918.2,
          1918.3,
          1918.4,
          1918.5,
          1918.6,
          1918.7,
          1918.8,
          1918.9,
          1919,
          1919.1,
          1919.2,
          1919.3,
          1919.4,
          1919.5,
          1919.6,
          1919.7,
          1919.8,
          1919.9,
          1920,
          1920.1,
          1920.2,
          1920.3,
          1920.4,
          1920.5,
          1920.6,
          1920.7,
          1920.8,
          1920.9,
          1921,
          1921.1,
          1921.2,
          1921.3,
          1921.4,
          1921.5,
          1921.6,
          1921.7,
          1921.8,
          1921.9,
          1922,
          1922.1,
          1922.2,
          1922.3,
          1922.4,
          1922.5,
          1922.6,
          1922.7,
          1922.8,
          1922.9,
          1923,
          1923.1,
          1923.2,
          1923.3,
          1923.4,
          1923.5,
          1923.6,
          1923.7,
          1923.8,
          1923.9,
          1924,
          1924.1,
          1924.2,
          1924.3,
          1924.4,
          1924.5,
          1924.6,
          1924.7,
          1924.8,
          1924.9,
          1925,
          1925.1,
          1925.2,
          1925.3,
          1925.4,
          1925.5,
          1925.6,
          1925.7,
          1925.8,
          1925.9,
          1926,
          1926.1,
          1926.2,
          1926.3,
          1926.4,
          1926.5,
          1926.6,
          1926.7,
          1926.8,
          1926.9,
          1927,
          1927.1,
          1927.2,
          1927.3,
          1927.4,
          1927.5,
          1927.6,
          1927.7,
          1927.8,
          1927.9,
          1928,
          1928.1,
          1928.2,
          1928.3,
          1928.4,
          1928.5,
          1928.6,
          1928.7,
          1928.8,
          1928.9,
          1929,
          1929.1,
          1929.2,
          1929.3,
          1929.4,
          1929.5,
          1929.6,
          1929.7,
          1929.8,
          1929.9,
          1930,
          1930.1,
          1930.2,
          1930.3,
          1930.4,
          1930.5,
          1930.6,
          1930.7,
          1930.8,
          1930.9,
          1931,
          1931.1,
          1931.2,
          1931.3,
          1931.4,
          1931.5,
          1931.6,
          1931.7,
          1931.8,
          1931.9,
          1932,
          1932.1,
          1932.2,
          1932.3,
          1932.4,
          1932.5,
          1932.6,
          1932.7,
          1932.8,
          1932.9,
          1933,
          1933.1,
          1933.2,
          1933.3,
          1933.4,
          1933.5,
          1933.6,
          1933.7,
          1933.8,
          1933.9,
          1934,
          1934.1,
          1934.2,
          1934.3,
          1934.4,
          1934.5,
          1934.6,
          1934.7,
          1934.8,
          1934.9,
          1935,
          1935.1,
          1935.2,
          1935.3,
          1935.4,
          1935.5,
          1935.6,
          1935.7,
          1935.8,
          1935.9,
          1936,
          1936.1,
          1936.2,
          1936.3,
          1936.4,
          1936.5,
          1936.6,
          1936.7,
          1936.8,
          1936.9,
          1937,
          1937.1,
          1937.2,
          1937.3,
          1937.4,
          1937.5,
          1937.6,
          1937.7,
          1937.8,
          1937.9,
          1938,
          1938.1,
          1938.2,
          1938.3,
          1938.4,
          1938.5,
          1938.6,
          1938.7,
          1938.8,
          1938.9,
          1939,
          1939.1,
          1939.2,
          1939.3,
          1939.4,
          1939.5,
          1939.6,
          1939.7,
          1939.8,
          1939.9,
          1940,
          1940.1,
          1940.2,
          1940.3,
          1940.4,
          1940.5,
          1940.6,
          1940.7,
          1940.8,
          1940.9,
          1941,
          1941.1,
          1941.2,
          1941.3,
          1941.4,
          1941.5,
          1941.6,
          1941.7,
          1941.8,
          1941.9,
          1942,
          1942.1,
          1942.2,
          1942.3,
          1942.4,
          1942.5,
          1942.6,
          1942.7,
          1942.8,
          1942.9,
          1943,
          1943.1,
          1943.2,
          1943.3,
          1943.4,
          1943.5,
          1943.6,
          1943.7,
          1943.8,
          1943.9,
          1944,
          1944.1,
          1944.2,
          1944.3,
          1944.4,
          1944.5,
          1944.6,
          1944.7,
          1944.8,
          1944.9,
          1945,
          1945.1,
          1945.2,
          1945.3,
          1945.4,
          1945.5,
          1945.6,
          1945.7,
          1945.8,
          1945.9,
          1946,
          1946.1,
          1946.2,
          1946.3,
          1946.4,
          1946.5,
          1946.6,
          1946.7,
          1946.8,
          1946.9,
          1947,
          1947.1,
          1947.2,
          1947.3,
          1947.4,
          1947.5,
          1947.6,
          1947.7,
          1947.8,
          1947.9,
          1948,
          1948.1,
          1948.2,
          1948.3,
          1948.4,
          1948.5,
          1948.6,
          1948.7,
          1948.8,
          1948.9,
          1949,
          1949.1,
          1949.2,
          1949.3,
          1949.4,
          1949.5,
          1949.6,
          1949.7,
          1949.8,
          1949.9,
          1950,
          1950.1,
          1950.2,
          1950.3,
          1950.4,
          1950.5,
          1950.6,
          1950.7,
          1950.8,
          1950.9,
          1951,
          1951.1,
          1951.2,
          1951.3,
          1951.4,
          1951.5,
          1951.6,
          1951.7,
          1951.8,
          1951.9,
          1952,
          1952.1,
          1952.2,
          1952.3,
          1952.4,
          1952.5,
          1952.6,
          1952.7,
          1952.8,
          1952.9,
          1953,
          1953.1,
          1953.2,
          1953.3,
          1953.4,
          1953.5,
          1953.6,
          1953.7,
          1953.8,
          1953.9,
          1954,
          1954.1,
          1954.2,
          1954.3,
          1954.4,
          1954.5,
          1954.6,
          1954.7,
          1954.8,
          1954.9,
          1955,
          1955.1,
          1955.2,
          1955.3,
          1955.4,
          1955.5,
          1955.6,
          1955.7,
          1955.8,
          1955.9,
          1956,
          1956.1,
          1956.2,
          1956.3,
          1956.4,
          1956.5,
          1956.6,
          1956.7,
          1956.8,
          1956.9,
          1957,
          1957.1,
          1957.2,
          1957.3,
          1957.4,
          1957.5,
          1957.6,
          1957.7,
          1957.8,
          1957.9,
          1958,
          1958.1,
          1958.2,
          1958.3,
          1958.4,
          1958.5,
          1958.6,
          1958.7,
          1958.8,
          1958.9,
          1959,
          1959.1,
          1959.2,
          1959.3,
          1959.4,
          1959.5,
          1959.6,
          1959.7,
          1959.8,
          1959.9,
          1960,
          1960.1,
          1960.2,
          1960.3,
          1960.4,
          1960.5,
          1960.6,
          1960.7,
          1960.8,
          1960.9,
          1961,
          1961.1,
          1961.2,
          1961.3,
          1961.4,
          1961.5,
          1961.6,
          1961.7,
          1961.8,
          1961.9,
          1962,
          1962.1,
          1962.2,
          1962.3,
          1962.4,
          1962.5,
          1962.6,
          1962.7,
          1962.8,
          1962.9,
          1963,
          1963.1,
          1963.2,
          1963.3,
          1963.4,
          1963.5,
          1963.6,
          1963.7,
          1963.8,
          1963.9,
          1964,
          1964.1,
          1964.2,
          1964.3,
          1964.4,
          1964.5,
          1964.6,
          1964.7,
          1964.8,
          1964.9,
          1965,
          1965.1,
          1965.2,
          1965.3,
          1965.4,
          1965.5,
          1965.6,
          1965.7,
          1965.8,
          1965.9,
          1966,
          1966.1,
          1966.2,
          1966.3,
          1966.4,
          1966.5,
          1966.6,
          1966.7,
          1966.8,
          1966.9,
          1967,
          1967.1,
          1967.2,
          1967.3,
          1967.4,
          1967.5,
          1967.6,
          1967.7,
          1967.8,
          1967.9,
          1968,
          1968.1,
          1968.2,
          1968.3,
          1968.4,
          1968.5,
          1968.6,
          1968.7,
          1968.8,
          1968.9,
          1969,
          1969.1,
          1969.2,
          1969.3,
          1969.4,
          1969.5,
          1969.6,
          1969.7,
          1969.8,
          1969.9,
          1970,
          1970.1,
          1970.2,
          1970.3,
          1970.4,
          1970.5,
          1970.6,
          1970.7,
          1970.8,
          1970.9,
          1971,
          1971.1,
          1971.2,
          1971.3,
          1971.4,
          1971.5,
          1971.6,
          1971.7,
          1971.8,
          1971.9,
          1972,
          1972.1,
          1972.2,
          1972.3,
          1972.4,
          1972.5,
          1972.6,
          1972.7,
          1972.8,
          1972.9,
          1973,
          1973.1,
          1973.2,
          1973.3,
          1973.4,
          1973.5,
          1973.6,
          1973.7,
          1973.8,
          1973.9,
          1974,
          1974.1,
          1974.2,
          1974.3,
          1974.4,
          1974.5,
          1974.6,
          1974.7,
          1974.8,
          1974.9,
          1975,
          1975.1,
          1975.2,
          1975.3,
          1975.4,
          1975.5,
          1975.6,
          1975.7,
          1975.8,
          1975.9,
          1976,
          1976.1,
          1976.2,
          1976.3,
          1976.4,
          1976.5,
          1976.6,
          1976.7,
          1976.8,
          1976.9,
          1977,
          1977.1,
          1977.2,
          1977.3,
          1977.4,
          1977.5,
          1977.6,
          1977.7,
          1977.8,
          1977.9,
          1978,
          1978.1,
          1978.2,
          1978.3,
          1978.4,
          1978.5,
          1978.6,
          1978.7,
          1978.8,
          1978.9,
          1979,
          1979.1,
          1979.2,
          1979.3,
          1979.4,
          1979.5,
          1979.6,
          1979.7,
          1979.8,
          1979.9,
          1980,
          1980.1,
          1980.2,
          1980.3,
          1980.4,
          1980.5,
          1980.6,
          1980.7,
          1980.8,
          1980.9,
          1981,
          1981.1,
          1981.2,
          1981.3,
          1981.4,
          1981.5,
          1981.6,
          1981.7,
          1981.8,
          1981.9,
          1982,
          1982.1,
          1982.2,
          1982.3,
          1982.4,
          1982.5,
          1982.6,
          1982.7,
          1982.8,
          1982.9,
          1983,
          1983.1,
          1983.2,
          1983.3,
          1983.4,
          1983.5,
          1983.6,
          1983.7,
          1983.8,
          1983.9,
          1984,
          1984.1,
          1984.2,
          1984.3,
          1984.4,
          1984.5,
          1984.6,
          1984.7,
          1984.8,
          1984.9,
          1985,
          1985.1,
          1985.2,
          1985.3,
          1985.4,
          1985.5,
          1985.6,
          1985.7,
          1985.8,
          1985.9,
          1986,
          1986.1,
          1986.2,
          1986.3,
          1986.4,
          1986.5,
          1986.6,
          1986.7,
          1986.8,
          1986.9,
          1987,
          1987.1,
          1987.2,
          1987.3,
          1987.4,
          1987.5,
          1987.6,
          1987.7,
          1987.8,
          1987.9,
          1988,
          1988.1,
          1988.2,
          1988.3,
          1988.4,
          1988.5,
          1988.6,
          1988.7,
          1988.8,
          1988.9,
          1989,
          1989.1,
          1989.2,
          1989.3,
          1989.4,
          1989.5,
          1989.6,
          1989.7,
          1989.8,
          1989.9,
          1990,
          1990.1,
          1990.2,
          1990.3,
          1990.4,
          1990.5,
          1990.6,
          1990.7,
          1990.8,
          1990.9,
          1991,
          1991.1,
          1991.2,
          1991.3,
          1991.4,
          1991.5,
          1991.6,
          1991.7,
          1991.8,
          1991.9,
          1992,
          1992.1,
          1992.2,
          1992.3,
          1992.4,
          1992.5,
          1992.6,
          1992.7,
          1992.8,
          1992.9,
          1993,
          1993.1,
          1993.2,
          1993.3,
          1993.4,
          1993.5,
          1993.6,
          1993.7,
          1993.8,
          1993.9,
          1994,
          1994.1,
          1994.2,
          1994.3,
          1994.4,
          1994.5,
          1994.6,
          1994.7,
          1994.8,
          1994.9,
          1995,
          1995.1,
          1995.2,
          1995.3,
          1995.4,
          1995.5,
          1995.6,
          1995.7,
          1995.8,
          1995.9,
          1996,
          1996.1,
          1996.2,
          1996.3,
          1996.4,
          1996.5,
          1996.6,
          1996.7,
          1996.8,
          1996.9,
          1997,
          1997.1,
          1997.2,
          1997.3,
          1997.4,
          1997.5,
          1997.6,
          1997.7,
          1997.8,
          1997.9,
          1998,
          1998.1,
          1998.2,
          1998.3,
          1998.4,
          1998.5,
          1998.6,
          1998.7,
          1998.8,
          1998.9,
          1999,
          1999.1,
          1999.2,
          1999.3,
          1999.4,
          1999.5,
          1999.6,
          1999.7,
          1999.8,
          1999.9,
          2000,
          2000.1,
          2000.2,
          2000.3,
          2000.4,
          2000.5,
          2000.6,
          2000.7,
          2000.8,
          2000.9,
          2001,
          2001.1,
          2001.2,
          2001.3,
          2001.4,
          2001.5,
          2001.6,
          2001.7,
          2001.8,
          2001.9,
          2002,
          2002.1,
          2002.2,
          2002.3,
          2002.4,
          2002.5,
          2002.6,
          2002.7,
          2002.8,
          2002.9,
          2003,
          2003.1,
          2003.2,
          2003.3,
          2003.4,
          2003.5,
          2003.6,
          2003.7,
          2003.8,
          2003.9,
          2004,
          2004.1,
          2004.2,
          2004.3,
          2004.4,
          2004.5,
          2004.6,
          2004.7,
          2004.8,
          2004.9,
          2005,
          2005.1,
          2005.2,
          2005.3,
          2005.4,
          2005.5,
          2005.6,
          2005.7,
          2005.8,
          2005.9,
          2006,
          2006.1,
          2006.2,
          2006.3,
          2006.4,
          2006.5,
          2006.6,
          2006.7,
          2006.8,
          2006.9,
          2007,
          2007.1,
          2007.2,
          2007.3,
          2007.4,
          2007.5,
          2007.6,
          2007.7,
          2007.8,
          2007.9,
          2008,
          2008.1,
          2008.2,
          2008.3,
          2008.4,
          2008.5,
          2008.6,
          2008.7,
          2008.8,
          2008.9,
          2009,
          2009.1,
          2009.2,
          2009.3,
          2009.4,
          2009.5,
          2009.6,
          2009.7,
          2009.8,
          2009.9,
          2010,
          2010.1,
          2010.2,
          2010.3,
          2010.4,
          2010.5,
          2010.6,
          2010.7,
          2010.8,
          2010.9,
          2011,
          2011.1,
          2011.2,
          2011.3,
          2011.4,
          2011.5,
          2011.6,
          2011.7,
          2011.8,
          2011.9,
          2012,
          2012.1,
          2012.2,
          2012.3,
          2012.4,
          2012.5,
          2012.6,
          2012.7,
          2012.8,
          2012.9,
          2013,
          2013.1,
          2013.2,
          2013.3,
          2013.4,
          2013.5,
          2013.6,
          2013.7,
          2013.8,
          2013.9,
          2014,
          2014.1,
          2014.2,
          2014.3,
          2014.4,
          2014.5,
          2014.6,
          2014.7,
          2014.8,
          2014.9,
          2015,
          2015.1,
          2015.2,
          2015.3,
          2015.4,
          2015.5,
          2015.6,
          2015.7,
          2015.8,
          2015.9,
          2016,
          2016.1,
          2016.2,
          2016.3,
          2016.4,
          2016.5,
          2016.6,
          2016.7,
          2016.8,
          2016.9,
          2017,
          2017.1,
          2017.2,
          2017.3,
          2017.4,
          2017.5,
          2017.6,
          2017.7,
          2017.8,
          2017.9,
          2018,
          2018.1,
          2018.2,
          2018.3,
          2018.4,
          2018.5,
          2018.6,
          2018.7,
          2018.8,
          2018.9,
          2019,
          2019.1,
          2019.2,
          2019.3,
          2019.4,
          2019.5,
          2019.6,
          2019.7,
          2019.8,
          2019.9,
          2020
         ],
         "xaxis": "x",
         "y": [
          0,
          551.8543781130675,
          1401.0910494304967,
          1859.410826999495,
          2107.360317725432,
          2240.2519697254506,
          2308.625063890263,
          2339.8444342606617,
          2349.0889006940997,
          2344.975931800644,
          2332.4223195395903,
          2314.3769443283404,
          2292.963537149742,
          2269.0737511830844,
          2243.575070313108,
          2217.221527524048,
          2190.305586676678,
          2163.0279825312464,
          2135.6263864162593,
          2108.1898466692337,
          2080.8528154239825,
          2053.958403735289,
          2027.6708014918186,
          2001.7546009075606,
          1975.7902157229335,
          1949.9763833188663,
          1924.9088716576764,
          1900.621956060648,
          1876.5472650155023,
          1852.5142279952584,
          1829.0425221790313,
          1806.3803205800173,
          1784.1670199432972,
          1761.9510843662963,
          1739.9949985075368,
          1718.8064277052522,
          1698.330266578672,
          1677.9892859478437,
          1657.569017648148,
          1637.6098900938218,
          1618.4781414312579,
          1599.877983501078,
          1581.157409755118,
          1562.413141926267,
          1544.3267730591524,
          1527.033857106346,
          1509.9859999198827,
          1492.6849273659595,
          1475.555930432302,
          1459.2011631770858,
          1443.5050001395978,
          1427.7516897038229,
          1411.7499178979042,
          1396.1687030988114,
          1381.3831988287009,
          1367.0228353443663,
          1352.3858433994967,
          1337.6391369514783,
          1323.5168420557166,
          1310.1180841274495,
          1296.838411675987,
          1283.2111643615515,
          1269.7213328032403,
          1256.9477465677685,
          1244.7357092501538,
          1232.3647492978428,
          1219.703848435246,
          1207.4340281837285,
          1195.8771786902155,
          1184.6384935818307,
          1173.069756822909,
          1161.384548161086,
          1150.2695354438586,
          1139.778128259625,
          1129.3243679161908,
          1118.5843223859276,
          1108.0068818850013,
          1097.9175648530872,
          1088.0685423056786,
          1078.1518010693405,
          1068.3211064776447,
          1058.8205467108626,
          1049.5693729755696,
          1040.3340197963762,
          1031.1328004230393,
          1022.1881232337953,
          1013.5468475833445,
          1005.0394096152417,
          996.4466704689416,
          987.8867754163051,
          979.6623499531478,
          971.8267025004774,
          964.1253159851105,
          956.2382581504193,
          948.3263071885254,
          940.7406345586871,
          933.4547186247353,
          926.167628909054,
          918.8217543091123,
          911.6655106212773,
          904.7814842975182,
          898.0078748505845,
          891.1741074576379,
          884.3984720407141,
          877.8785904447541,
          871.5997722505582,
          865.340579430672,
          858.9574840181837,
          852.6564955934442,
          846.6801695552963,
          840.9881394785225,
          835.2651842790862,
          829.3651311734101,
          823.5579805742011,
          818.0468071594805,
          812.6967399648274,
          807.2644757523809,
          801.820849492774,
          796.5834579218784,
          791.5427525448572,
          786.5084526686223,
          781.4102197527111,
          776.4196574291575,
          771.653342293826,
          767.0333415579388,
          762.3411729729751,
          757.5586623572782,
          752.9283910080173,
          748.5801105271428,
          744.391130298072,
          740.071538611879,
          735.6336247893893,
          731.3621350844644,
          727.3270423718352,
          723.3327872462996,
          719.2387351872569,
          715.19154905673,
          711.3338161475008,
          707.6005716514596,
          703.8118710806004,
          699.9765953208988,
          696.2752546450073,
          692.7614101869311,
          689.3146062330629,
          685.7532997928071,
          682.1463085328498,
          678.7213012056247,
          675.5265579078176,
          672.3853910407912,
          669.0808431130886,
          665.727305514434,
          662.5624212182959,
          659.5692371027932,
          656.5371948937606,
          653.4154957913925,
          650.3817908352979,
          647.5113269045705,
          644.6981296074406,
          641.8012300517396,
          638.8896207910664,
          636.120245439499,
          633.4984307518611,
          630.8742100972586,
          628.1265199789653,
          625.384478803377,
          622.8302983209832,
          620.4513028740076,
          618.0380223902406,
          615.4684325188524,
          612.9178196063399,
          610.5482493299057,
          608.2854164667477,
          605.9372409022766,
          603.5259605018448,
          601.226351449562,
          599.0599329347189,
          596.8942353075539,
          594.6378817776953,
          592.4009651119621,
          590.3036980942189,
          588.3140666675582,
          586.2689765641787,
          584.1103236566199,
          582.0025764155256,
          580.0755244875953,
          578.2687445557312,
          576.3673295321557,
          574.3341592237899,
          572.3715619072084,
          570.5715817804,
          568.8151764202659,
          566.9547361790885,
          565.0680901494308,
          563.3002473773251,
          561.6335260191945,
          559.9242204145083,
          558.1306927646284,
          556.3868630551344,
          554.7742604854114,
          553.2293810650342,
          551.5926143478886,
          549.8645434016836,
          548.2230413502582,
          546.7470617101717,
          545.3367689643977,
          543.7964285116759,
          542.1603570518266,
          540.6291468814499,
          539.2354574915533,
          537.8309791454243,
          536.3208757787944,
          534.8217476615027,
          533.439668020187,
          532.1250784444572,
          530.7378683491816,
          529.2826714003055,
          527.9009662542725,
          526.6378363435076,
          525.4021567160112,
          524.054556617063,
          522.6466990937431,
          521.3495549103076,
          520.1971383543581,
          519.0557463317181,
          517.7494127835243,
          516.3656135729015,
          515.1355956177908,
          514.0960576422635,
          513.052306451378,
          511.81840362194924,
          510.53243324687816,
          509.38647315965494,
          508.32497877403904,
          507.18988330540776,
          506.00098943156394,
          504.8845031320938,
          503.8379299166676,
          502.7643431031495,
          501.6330102179961,
          500.5321805764712,
          499.51627026822564,
          498.544523899298,
          497.50195961591817,
          496.37116418469435,
          495.2904694954812,
          494.3552265628214,
          493.5136594496406,
          492.5819264840258,
          491.5072395037782,
          490.4600043572464,
          489.5382975680083,
          488.6473669423349,
          487.67108299668035,
          486.67082951376966,
          485.74967238756,
          484.88556324830625,
          483.97449107607014,
          483.0023452673488,
          482.0712705177387,
          481.23005199097594,
          480.42477648390025,
          479.5312483221709,
          478.55074053892616,
          477.63532401049156,
          476.86490406187926,
          476.1645446876194,
          475.3454890905694,
          474.4028675093151,
          473.5204997908794,
          472.7542035634347,
          471.98530768704,
          471.12827524254453,
          470.27047423214475,
          469.4926225825308,
          468.75350417038504,
          467.9530915462725,
          467.1041369145833,
          466.3104428848348,
          465.59926533645364,
          464.89930497514297,
          464.0988159934919,
          463.2367729718396,
          462.46278430289266,
          461.82134176790515,
          461.21033071330055,
          460.46204570714116,
          459.6242887029076,
          458.8732051399401,
          458.2210203603076,
          457.5347013412772,
          456.76455057172313,
          456.0170125314886,
          455.34790697772166,
          454.6974912743592,
          453.97636690972416,
          453.2214876117968,
          452.53222701354787,
          451.91815064302557,
          451.29164389632666,
          450.55942126952857,
          449.7914218325701,
          449.12622203035704,
          448.57898350621156,
          448.02264818996423,
          447.3247429559007,
          446.575649810558,
          445.927019675062,
          445.3560668170014,
          444.72598377808407,
          444.0226355664336,
          443.3620333349388,
          442.7752014562818,
          442.1857116692959,
          441.52148600674116,
          440.84182845308135,
          440.23496258025136,
          439.6927721723868,
          439.11401764059724,
          438.43147362650734,
          437.7417407802646,
          437.16388307483976,
          436.68498850533024,
          436.15840870802833,
          435.49740192843143,
          434.8251856592699,
          434.2575915775677,
          433.7419572135522,
          433.14975437861904,
          432.501063344441,
          431.9105086955339,
          431.38589939549456,
          430.8378085290523,
          430.2156301009178,
          429.59748299500336,
          429.0563870078631,
          428.566683028859,
          428.0182872609224,
          427.3741946112901,
          426.7511275668967,
          426.24357870511744,
          425.8121518883475,
          425.30085417781027,
          424.669783280009,
          424.06343056312926,
          423.55979250571113,
          423.0784845345888,
          422.5121650291535,
          421.9118724428555,
          421.378738095712,
          420.9004595465423,
          420.3797552422308,
          419.79033863177995,
          419.2241415517151,
          418.7361557017805,
          418.28326606246407,
          417.75332675049174,
          417.14160050025737,
          416.5767607474488,
          416.1259404738158,
          415.72457206816216,
          415.21945043606803,
          414.61609545329895,
          414.0671017121333,
          413.6133208005117,
          413.1521431757625,
          412.6044920159939,
          412.04733575865,
          411.56184316388664,
          411.1168269761728,
          410.6137819061157,
          410.052078058081,
          409.5309353349918,
          409.0859790092764,
          408.65678506450536,
          408.13776331908537,
          407.5562601070066,
          407.0430930684922,
          406.6375795555937,
          406.2511892259629,
          405.74734818851545,
          405.1731224518253,
          404.6744897733436,
          404.2583928134564,
          403.80792869270533,
          403.2754708563084,
          402.7571136739876,
          402.31131288353475,
          401.88832537500997,
          401.396545814601,
          400.8607952504507,
          400.37953261713795,
          399.96918645769324,
          399.5524419918421,
          399.04017019232305,
          398.4895494126151,
          398.0226239745936,
          397.6523685868812,
          397.2677145447523,
          396.7635496378916,
          396.22236188732364,
          395.7679376430669,
          395.3785677541189,
          394.93250190898226,
          394.4147324681806,
          393.93194210669105,
          393.5190009989087,
          393.1085128775457,
          392.6242733459325,
          392.11476970571425,
          391.6692413603079,
          391.2860966536434,
          390.8737551020471,
          390.3667455544079,
          389.84787034747376,
          389.42232252406063,
          389.0780906565417,
          388.687680961608,
          388.1842077467137,
          387.67740077911895,
          387.26141731390794,
          386.88854621027986,
          386.4431208650356,
          385.9419381888514,
          385.4920627008351,
          385.1057690683657,
          384.7013493623012,
          384.22310468552735,
          383.73982640290143,
          383.32642971114234,
          382.9636350749379,
          382.55040289459885,
          382.04933166087034,
          381.56279599602675,
          381.17395411246025,
          380.8469471224415,
          380.44712785917187,
          379.94748312267876,
          379.4749081309286,
          379.0916745243158,
          378.7255658482559,
          378.27917664436745,
          377.7983625374708,
          377.3789614201078,
          377.01337844967503,
          376.6105685658588,
          376.1385970998034,
          375.68162922980775,
          375.2969630698057,
          374.9479113712354,
          374.5306737219356,
          374.037992335512,
          373.58403197193957,
          373.22716430299005,
          372.9087659775789,
          372.49814696402456,
          372.0072064321603,
          371.5681903735481,
          371.211890832266,
          370.8460460138085,
          370.39892959172374,
          369.9408607214187,
          369.5494484920688,
          369.198679385789,
          368.7946536514488,
          368.33078616489877,
          367.90015070945543,
          367.54077847365437,
          367.19889359238215,
          366.7763856328277,
          366.2960216375659,
          365.8743613791747,
          365.54451249458384,
          365.22612363983944,
          364.79183211753406,
          364.2834097336642,
          363.8612996119563,
          363.5656227020954,
          363.27850222573403,
          362.85484587423144,
          362.37036463626174,
          361.9704737820432,
          361.6312583553307,
          361.2409197260926,
          360.7992092487665,
          360.3947593880377,
          360.0353007060305,
          359.657644248627,
          359.2314648245017,
          358.812298700543,
          358.44453621887925,
          358.107005014574,
          357.72251199612305,
          357.2659228218733,
          356.8257249077567,
          356.4783853558465,
          356.1997185414394,
          355.86803830858037,
          355.4256852539293,
          354.980002401189,
          354.6165261990114,
          354.2832023629314,
          353.8876732509916,
          353.45864672247103,
          353.07665575650304,
          352.73572312906936,
          352.365138521028,
          351.94259866117386,
          351.53472423866083,
          351.18510909379836,
          350.86489239603327,
          350.487426225399,
          350.0365378366862,
          349.6126706122906,
          349.2858866074084,
          349.0176083274818,
          348.67612550188267,
          348.23338909336906,
          347.8122897467815,
          347.472466584829,
          347.14252149659876,
          346.7465090123455,
          346.3329165186524,
          345.9706143079994,
          345.64083862323093,
          345.2708286306686,
          344.8556133761404,
          344.4674801912178,
          344.13634564449603,
          343.8212364141449,
          343.43794160420464,
          342.9958171575657,
          342.60034971976245,
          342.29855125375695,
          342.0324618999037,
          341.67550158661254,
          341.23687034134514,
          340.84361474819553,
          340.52485481326903,
          340.1941376184662,
          339.7976022003114,
          339.4010115379807,
          339.05806297635894,
          338.73708292497247,
          338.36726059840083,
          337.96045092938067,
          337.5910880058881,
          337.276904628927,
          336.9650707278783,
          336.57805768871907,
          336.1477192381016,
          335.77862143458447,
          335.497509182665,
          335.2283711837702,
          334.858764517523,
          334.4304775864845,
          334.06411580591686,
          333.76191828697745,
          333.42841558032666,
          333.03342062535904,
          332.6549030407378,
          332.32992745583476,
          332.01379090142296,
          331.64356843431153,
          331.24808053054113,
          330.8981057201961,
          330.59888422529457,
          330.28600305501914,
          329.89571740780696,
          329.4812625510821,
          329.1387025357184,
          328.8747586375423,
          328.5960974017054,
          328.2163709375915,
          327.8053505824416,
          327.4648663692865,
          327.1743916215888,
          326.83672302344314,
          326.4461343294436,
          326.0864780398222,
          325.77779281972977,
          325.46360741582777,
          325.09326984206587,
          324.71130911481094,
          324.38063407009446,
          324.0940299770252,
          323.7775044662093,
          323.38571233851724,
          322.9901427259407,
          322.67312591361366,
          322.4221377203171,
          322.13106782682377,
          321.74488883335505,
          321.35493288701684,
          321.0384778979748,
          320.7543899025098,
          320.4121519079898,
          320.02978814860927,
          319.68934688548694,
          319.39475685187034,
          319.08035041462483,
          318.7109038498988,
          318.3442796461358,
          318.0324571829365,
          317.7556173245917,
          317.4337177900378,
          317.0429497190359,
          316.66859956838863,
          316.3755963858026,
          316.1328591664076,
          315.82871601917367,
          315.44058248359374,
          315.0734762606843,
          314.77853505064513,
          314.4953233864242,
          314.14901015879553,
          313.7792644554258,
          313.4579261255836,
          313.17475479646856,
          312.85859265603654,
          312.4917719915268,
          312.14192918873505,
          311.84804662045684,
          311.5776565050071,
          311.24964112171114,
          310.8632063678537,
          310.51162338203153,
          310.2404606873027,
          310.00078748535907,
          309.68404141985866,
          309.2992471844113,
          308.95585205672467,
          308.6792560923047,
          308.3937192141197,
          308.0447144563281,
          307.6900583185188,
          307.3872108986531,
          307.1122913606104,
          306.7934984626764,
          306.431753249853,
          306.09972757591726,
          305.82239621009046,
          305.55467040297447,
          305.2207061933791,
          304.8426272150707,
          304.5146010248608,
          304.26250371566954,
          304.0202556403693,
          303.69241604033,
          303.3169760990226,
          302.99728783656786,
          302.73526213396826,
          302.4454789189727,
          302.09602783790467,
          301.7580138306276,
          301.47253220745455,
          301.2022190062889,
          300.88060395500804,
          300.52707707424713,
          300.21344727817757,
          299.950792385914,
          299.68173345438777,
          299.3428503618264,
          298.9775660863422,
          298.67314227861095,
          298.4367595051325,
          298.1863632760774,
          297.849899045288,
          297.4900006484238,
          297.19320417051046,
          296.94141325788985,
          296.6463264593411,
          296.2995025406592,
          295.9791602840155,
          295.709403695324,
          295.44005937609654,
          295.11612157912464,
          294.774154504693,
          294.4790161825128,
          294.2286782578756,
          293.95552510403814,
          293.6135586451669,
          293.264443063297,
          292.98295355970765,
          292.75839426722547,
          292.4975425595098,
          292.1557971410481,
          291.81457613335175,
          291.5391037808593,
          291.29269962215346,
          290.99211285161175,
          290.65177765398147,
          290.34959706308416,
          290.0934159706025,
          289.82273446479417,
          289.4976599206321,
          289.16946380339584,
          288.8924153910863,
          288.65155896428126,
          288.372642732763,
          288.0301801759439,
          287.6996580852216,
          287.43975700847653,
          287.2226281794841,
          286.9506413972742,
          286.6077595999243,
          286.2869114592684,
          286.0305014265887,
          285.7843025428978,
          285.4788653827465,
          285.1494932091935,
          284.8654195851107,
          284.6201693789224,
          284.34658463098475,
          284.02223647831653,
          283.7094751809042,
          283.44961446292336,
          283.21494270518974,
          282.92954529062564,
          282.589872288044,
          282.27953780343336,
          282.0392418265872,
          281.82468845785604,
          281.53497390109135,
          281.1733471632287,
          280.8568432973492,
          280.63783100283274,
          280.45025236438573,
          280.169014846705,
          279.8208181562638,
          279.5245885139546,
          279.2846064146654,
          279.0187374317557,
          278.7072446243912,
          278.4133547640407,
          278.1563521191109,
          277.89591561632824,
          277.59826585317956,
          277.29556013531516,
          277.0287247576303,
          276.7907676245696,
          276.52927145940043,
          276.2103941653017,
          275.88788059137806,
          275.62943736061277,
          275.4312558600464,
          275.21366718812476,
          274.91040304849804,
          274.58373602045083,
          274.31542104209007,
          274.0836952905785,
          273.8123893613062,
          273.5050345834817,
          273.2260395641185,
          272.98271210895916,
          272.7276813496461,
          272.4312457108741,
          272.13442943729433,
          271.87914075009553,
          271.65373479143284,
          271.39764201436384,
          271.08122535144656,
          270.7681786829333,
          270.5238930579698,
          270.33487780236044,
          270.10989034828054,
          269.8025486009759,
          269.49132930538286,
          269.2408747325357,
          269.013956192293,
          268.74078402453915,
          268.44110008281524,
          268.17586766529695,
          267.9418398618229,
          267.6868293972342,
          267.3930603958624,
          267.1090640944434,
          266.8675074869471,
          266.6476209013147,
          266.38636590596917,
          266.07234950434537,
          265.7781105875692,
          265.55327191493296,
          265.3693359900004,
          265.13183099587667,
          264.82243522037885,
          264.53008649586315,
          264.29676324516214,
          264.070391083395,
          263.7948447136951,
          263.50554709442457,
          263.2543851663448,
          263.0284691765207,
          262.7731801116047,
          262.4828553852096,
          262.2113726935146,
          261.98269663613297,
          261.7673009456531,
          261.5022646136295,
          261.19301907746797,
          260.916856215983,
          260.70870062028837,
          260.5263190786391,
          260.2778606919107,
          259.9707785538517,
          259.6974284012295,
          259.4785391949321,
          259.25078178566287,
          258.97393237072123,
          258.69633711252015,
          258.4587665164844,
          258.23852649772357,
          257.9821791716076,
          257.69710386039236,
          257.4390647869301,
          257.2223567453618,
          257.008381361135,
          256.73933508468104,
          256.4378407703977,
          256.18057847125795,
          255.98716065117154,
          255.80191747514309,
          255.54367161540796,
          255.24366974042024,
          254.98933373391466,
          254.78191329423524,
          254.55124841963715,
          254.27466151216444,
          254.00979788826544,
          253.78504758133226,
          253.56784812582126,
          253.3102663073037,
          253.03260950794993,
          252.7883579466414,
          252.5823127562332,
          252.36705087582197,
          252.09478197997086,
          251.80407290749827,
          251.5655973351235,
          251.38431217279322,
          251.1917498754328,
          250.9257569534277,
          250.63789056728123,
          250.40187790750318,
          250.2024884406823,
          249.9680400951516,
          249.69396126799703,
          249.44252055022287,
          249.2294006657804,
          249.01300780221936,
          248.75447660425695,
          248.4861466607438,
          248.25575146193196,
          248.0586607337959,
          247.8401255445946,
          247.56595263603808,
          247.28841730136864,
          247.06817697818522,
          246.89600558565854,
          246.69409777064666,
          246.42301670909222,
          246.15001104756732,
          245.93107254383608,
          245.73586005295286,
          245.49736997701504,
          245.22867532220167,
          244.99099078402998,
          244.78792024578763,
          244.57073112384435,
          244.31204125685122,
          244.0544600278328,
          243.83762943271458,
          243.64740531501616,
          243.42433585404945,
          243.15016269710324,
          242.887579593461,
          242.6845018199118,
          242.5180095256888,
          242.3062361672448,
          242.03334514558205,
          241.7765476888705,
          241.5728912129355,
          241.37780456248257,
          241.1356533028476,
          240.87564531681969,
          240.65167029214663,
          240.45667553146012,
          240.23752873315135,
          239.9799835346599,
          239.73428099062932,
          239.53036038367046,
          239.34453659443017,
          239.11635319610346,
          238.84463013049142,
          238.59819108043646,
          238.41071883857103,
          238.24608592161314,
          238.02473108273634,
          237.75388380952796,
          237.51395534589352,
          237.32328677769144,
          237.12591315889642,
          236.88111391205484,
          236.63169365476318,
          236.42099229841097,
          236.23171820926535,
          236.00993073043892,
          235.75534718880735,
          235.52232468774903,
          235.33028895450806,
          235.14603464745602,
          234.91281860234747,
          234.6465142481985,
          234.41683548119946,
          234.2429480918175,
          234.07599911181046,
          233.84610266565144,
          233.58168759240414,
          233.3586458717158,
          233.17820650961886,
          232.9770945377397,
          232.73128491406533,
          232.4936297338485,
          232.29537426519101,
          232.10909665430842,
          231.8844851986734,
          231.6351884380389,
          231.41529679270712,
          231.23375041506372,
          231.04804208042637,
          230.81050444423505,
          230.55291677200742,
          230.34006079306593,
          230.1773009440751,
          230.00394402432644,
          229.76724949304884,
          229.5137387316728,
          229.307003220674,
          229.13360737533202,
          228.9279352161614,
          228.68336079760417,
          228.45825359513108,
          228.27122745321358,
          228.08514843946207,
          227.85804027601753,
          227.61657297420757,
          227.40989864147244,
          227.23708021372474,
          227.0478017494749,
          226.80724892208352,
          226.56089214538204,
          226.36439289002803,
          226.2098946496867,
          226.02842318809383,
          225.78732318754464,
          225.5469626451816,
          225.35539829210015,
          225.18546983639152,
          224.97504775594695,
          224.73453962677732,
          224.52236127497565,
          224.3449666723334,
          224.15728096238576,
          223.92851494671868,
          223.69657479001356,
          223.50283333551351,
          223.33662379048056,
          223.142476613846,
          222.90077644566293,
          222.66745739782309,
          222.48634822740775,
          222.33686584096404,
          222.1436871629077,
          221.8860502475776,
          221.64381623054848,
          221.47495400071082,
          221.34755300956965,
          221.16219577232405,
          220.91225094165569,
          220.68730105914156,
          220.51135688530763,
          220.32858739775529,
          220.10786829179577,
          219.89000482310786,
          219.70143582160603,
          219.51909285285456,
          219.30954833734418,
          219.08768689619717,
          218.8896961406022,
          218.71770764582206,
          218.53799885807277,
          218.31440632062538,
          218.07516102717798,
          217.8780198998594,
          217.7321134983838,
          217.58855696801442,
          217.3813661891096,
          217.13962977397495,
          216.93642364310696,
          216.77020942557434,
          216.58313819654236,
          216.36220518458305,
          216.15437595283564,
          215.97629883287638,
          215.79876406711435,
          215.58966864327604,
          215.3706339192517,
          215.18001763035335,
          215.01731854464802,
          214.84240347971803,
          214.61992418920286,
          214.38583701234654,
          214.1985028594526,
          214.06056567661966,
          213.91279835076335,
          213.7002138094321,
          213.46693670454812,
          213.27724992228806,
          213.11710509189882,
          212.92802744459993,
          212.70971728460108,
          212.51147936748018,
          212.34115897233264,
          212.16382896682455,
          211.9549412616509,
          211.74389672487223,
          211.56351955673864,
          211.40627981965642,
          211.2274837077113,
          211.00391399842292,
          210.781651976313,
          210.60937639854743,
          210.47784568933812,
          210.3205423612068,
          210.10276330183822,
          209.88168470701615,
          209.70572418916592,
          209.54846463251687,
          209.3564296935361,
          209.1426938986119,
          208.9545258399296,
          208.7913284261266,
          208.6137589063326,
          208.40547369166686,
          208.20238582636165,
          208.031659059696,
          207.87916905330496,
          207.69711554025054,
          207.4741753992001,
          207.2637559480739,
          207.1046748943914,
          206.977010611815,
          206.81069110371305,
          206.59063435839474,
          206.382437995392,
          206.2185807392264,
          206.06128209593595,
          205.86659370776172,
          205.65970285510062,
          205.48156220854213,
          205.3239822638082,
          205.14520558370228,
          204.93843597036613,
          204.7442628258548,
          204.58284747238102,
          204.43314144387176,
          204.24708817646618,
          204.0265267058816,
          203.82905390486013,
          203.68216624199817,
          203.55540064195972,
          203.38024615736444,
          203.16098034835767,
          202.96625676714905,
          202.8127258740061,
          202.65366898656515,
          202.456978252768,
          202.2581041758336,
          202.08973397145056,
          201.9360802304396,
          201.75558946622436,
          201.55159379474034,
          201.36687007791957,
          201.214081230871,
          201.065126469173,
          200.8751606858719,
          200.65916601326188,
          200.47504131258037,
          200.3387807771209,
          200.2096951898233,
          200.02660601649538,
          199.811646465775,
          199.63042740119883,
          199.4850470895042,
          199.3230725397,
          199.12555684502144,
          198.93554495724416,
          198.7763833913439,
          198.6246286365379,
          198.44223991160516,
          198.24271017962536,
          198.06779421059818,
          197.92266082990832,
          197.77224678500042,
          197.57886414273605,
          197.36986723391198,
          197.1991605743848,
          197.07164322067408,
          196.93681781907665,
          196.74719992851035,
          196.54035575801103,
          196.3722289858395,
          196.23248169679724,
          196.06687964276102,
          195.87020640367052,
          195.68965251538228,
          195.5388442300716,
          195.3871134267433,
          195.20301807955943,
          195.0096056882603,
          194.84459935978037,
          194.70586033615984,
          194.55240477961436,
          194.35657066235333,
          194.15648165099296,
          193.9988575186939,
          193.87786103245566,
          193.73562911624876,
          193.54140030516112,
          193.3448439254274,
          193.18895923458263,
          193.05200431029144,
          192.88254100434597,
          192.68886255822304,
          192.5180888793105,
          192.3744787578467,
          192.22149287485718,
          192.03626723494935,
          191.85014350043468,
          191.69488538779316,
          191.56098833901854,
          191.40346144440468,
          191.20658220478046,
          191.0168467502899,
          190.8715879898553,
          190.75457384753017,
          190.60444381884977,
          190.40800159439078,
          190.2228372871045,
          190.07793501528906,
          189.9406920797643,
          189.7676165225582,
          189.5794944775247,
          189.41853563941973,
          189.28067180639275,
          189.12549612948771,
          188.94011017671275,
          188.76221913546047,
          188.61627185132355,
          188.48537825523576,
          188.32327513772694,
          188.12718086727446,
          187.948799735519,
          187.814818153815,
          187.6989500494961,
          187.54104512176866,
          187.34523895993843,
          187.17205799739267,
          187.0364947048364,
          186.89696650254615,
          186.72100908719196,
          186.54009873003147,
          186.38869366825335,
          186.25483244194368,
          186.09690058168061,
          185.9127196793502,
          185.7437545070932,
          185.60639926730664,
          185.47639065266887,
          185.3097116828241,
          185.11663526949667,
          184.95017566446919,
          184.8260287619224,
          184.7081922219523,
          184.54321341665087,
          184.35131450941236,
          184.19022623911067,
          184.0620011506431,
          183.91904116881724,
          183.7414081771421,
          183.56869203380074,
          183.4262810571117,
          183.29439468408336,
          183.13352443173395,
          182.95230625523965,
          182.7926923939425,
          182.66292745232232,
          182.53147614319204,
          182.36070519492637,
          182.17319875683177,
          182.01880899329961,
          181.90271801065123,
          181.77977471497724,
          181.60896369712887,
          181.42440081433415,
          181.27506342392726,
          181.1518444795732,
          181.00478290194926,
          180.82714619861224,
          180.66330638853617,
          180.5290322475584,
          180.3969244597007,
          180.2333261772072,
          180.05710802883578,
          179.90699255093867,
          179.78353508070217,
          179.64892340349502,
          179.47500299956056,
          179.29510833593238,
          179.15253536516207,
          179.04240454797463,
          178.91207757009906,
          178.72743705653843,
          178.5376020760121,
          178.40079447370866,
          178.30773771847998,
          178.1853134258973,
          178.00526852945154,
          177.82893229398346,
          177.69302971316583,
          177.56402998548845,
          177.4053955507528,
          177.23910211776064,
          177.0950445070051,
          176.9627216738895,
          176.81221773594564,
          176.64594992650038,
          176.49383020097008,
          176.36403491598736,
          176.2364641074394,
          176.07737674277286,
          175.8966155881486,
          175.74073208121027,
          175.62707868850154,
          175.5277215164175,
          175.38522181664624,
          175.20470928517423,
          175.04494282694668,
          174.91909550892535,
          174.78716103373407,
          174.6260815867792,
          174.46625777174557,
          174.33016888949035,
          174.20235049325896,
          174.05208179569655,
          173.88658115651515,
          173.73890187594864,
          173.61583048383937,
          173.49270271557353,
          173.3341775440996,
          173.1556433851147,
          173.00633032571068,
          172.89929691196917,
          172.79919764185402,
          172.6511554649946,
          172.47322150928653,
          172.32345888238234,
          172.203928448045,
          172.0703846970261,
          171.90917027671173,
          171.75581236913962,
          171.62606450992362,
          171.49898001816567,
          171.34772846665288,
          171.18667096955048,
          171.04653038549276,
          170.92853208472494,
          170.80309803191895,
          170.6417795118527,
          170.46983864733136,
          170.33201746826055,
          170.2317527532887,
          170.12583019975855,
          169.9713458137398,
          169.79973831762334,
          169.6607772835879,
          169.5457042483134,
          169.40942038503758,
          169.24902816622492,
          169.10272269151756,
          168.97906780427658,
          168.85216574307242,
          168.70010886414664,
          168.54373122325322,
          168.4107530558871,
          168.29734081211356,
          168.16964790369485,
          168.00679687831902,
          167.8420549355205,
          167.71453739182687,
          167.6192031618786,
          167.50644061707143,
          167.34743420485214,
          167.18404693820787,
          167.05502666657088,
          166.9421706674829,
          166.80298517721252,
          166.64504671281674,
          166.5060372634512,
          166.3876128088294,
          166.25987904058158,
          166.1073715665704,
          165.956615406737,
          165.83083671564387,
          165.7208151775967,
          165.5898351323312,
          165.42638316154503,
          165.27010026848205,
          165.1525282442334,
          165.06018581572368,
          164.9401359475203,
          164.77851481110193,
          164.62431788880394,
          164.50429263336352,
          164.3912233085049,
          164.24921989433898,
          164.0956447951702,
          163.9640153838448,
          163.8498014426294,
          163.72056238429982,
          163.5682609373832,
          163.4237726093786,
          163.30492704545406,
          163.19699242725696,
          163.0623628922715,
          162.8996714035527,
          162.75258899829305,
          162.64411833341137,
          162.55257123437937,
          162.42537692408078,
          162.2634528809884,
          162.1189658285485,
          162.00664680251072,
          161.89185293358312,
          161.74751926911404,
          161.5994668037773,
          161.47507637350827,
          161.3637903474784,
          161.2325921625428,
          161.0814763358271,
          160.94378991067146,
          160.83140628817904,
          160.7239784369382,
          160.58565414750828,
          160.42541385923826,
          160.28801269188958,
          160.1875497111517,
          160.094345936311,
          159.9605653814041,
          159.80098861062672,
          159.66636771078748,
          159.56017951380466,
          159.44270695109438,
          159.29690981153414,
          159.1551306780869,
          159.037614205759,
          158.92773793078138,
          158.79440212593107,
          158.64576739312787,
          158.51523349342642,
          158.40861523996614,
          158.29994118432427,
          158.15825713446597,
          158.00242411272055,
          157.87486266269417,
          157.78103326518433,
          157.68351786917924,
          157.5441385919686,
          157.38985854404683,
          157.26489818713506,
          157.1629885019892,
          157.04223543267074,
          156.89622465321222,
          156.76127006684507,
          156.65002975568908,
          156.53995802159676,
          156.404594550817,
          156.25990699022773,
          156.13668291375765,
          156.0349058491946,
          155.92363060106655,
          155.77927982990602,
          155.6294886723598,
          155.51161797715048,
          155.4227842742037,
          155.31941901102687,
          155.17583086978544,
          155.02877240689043,
          154.91292568124172,
          154.8131827072003,
          154.68891293705204,
          154.54431438175388,
          154.41651985966155,
          154.31072344729986,
          154.19936129106958,
          154.06238035830714,
          153.92268352761755,
          153.80671823786912,
          153.70863043083847,
          153.59387011116695,
          153.44789381179132,
          153.30537852867394,
          153.19674682260418,
          153.11101862346146,
          153.00131694460197,
          152.85529187749844,
          152.71641674177224,
          152.60881373054323,
          152.50888426014532,
          152.38123495224536,
          152.24004004380615,
          152.1195145305065,
          152.01809578081551,
          151.90465325918132,
          151.7667722885757,
          151.6328938257108,
          151.52391954679803,
          151.42814314482428,
          151.30942430945743,
          151.16319786334375,
          151.0288453851895,
          150.92870840266008,
          150.84395670598286,
          150.72791189113914,
          150.58158260013587,
          150.45145559883662,
          150.35092270068625,
          150.24900156553352,
          150.11848347116108,
          149.9822657414101,
          149.86888532985412,
          149.77054711483459,
          149.65452291478204,
          149.51676892923166,
          149.38933745793696,
          149.28686469875134,
          149.19179988307965,
          149.06904529599515,
          148.92426345141396,
          148.7986218975083,
          148.7059546360253,
          148.6198256751581,
          148.49788360111063,
          148.35372112037246,
          148.23253257273316,
          148.13761177335047,
          148.03274332756942,
          147.9002371684418,
          147.76985352148566,
          147.66325879555404,
          147.5664780583498,
          147.44767167834897,
          147.31138002758274,
          147.1908125963213,
          147.09412833616096,
          146.99796567064746,
          146.87147811656797,
          146.7301326608691,
          146.61342233618163,
          146.5269322174457,
          146.43690767806288,
          146.30409961341513,
          146.15305573783434,
          146.03760040228244,
          145.9635521290422,
          145.88207576060037,
          145.75240156265713,
          145.61068306798907,
          145.500304258313,
          145.40577803745768,
          145.29007740654592,
          145.1601144916692,
          145.04571581053648,
          144.94507415872243,
          144.8345478023814,
          144.70803547267883,
          144.5874625697321,
          144.4851406182228,
          144.39046969903958,
          144.2755205040469,
          144.13746707449508,
          144.0106193125452,
          143.917273823134,
          143.84386748015936,
          143.74522197338393,
          143.60992829757674,
          143.4804491836202,
          143.37983665018044,
          143.28407006594088,
          143.16516849026326,
          143.0390125276645,
          142.93067203320948,
          142.83433443485134,
          142.7242533317302,
          142.59743157129904,
          142.47935736345076,
          142.38185588845937,
          142.29132920441668,
          142.1769615674115,
          142.03946810261098,
          141.916873449874,
          141.8289106524214,
          141.75673047500848,
          141.6531899942606,
          141.51722734983053,
          141.39495487725222,
          141.30041257481662,
          141.20382574033422,
          141.08356055664618,
          140.96157353050725,
          140.85838728665954,
          140.7637720342414,
          140.65240643961496,
          140.52728458984686,
          140.41470012879591,
          140.3218002333673,
          140.23078486418683,
          140.11316274874784,
          139.97833886361408,
          139.8643489634175,
          139.78298751119493,
          139.70883078701397,
          139.59888100693325,
          139.4644118852569,
          139.35051037777328,
          139.26117811419303,
          139.16274841444834,
          139.04161977972103,
          138.9246214954224,
          138.82680320114366,
          138.7335750366423,
          138.62176675285602,
          138.499988538638,
          138.39365120573967,
          138.30593029559742,
          138.21584350497068,
          138.0998709646934,
          137.9740518310068,
          137.87264804776666,
          137.8012529536247,
          137.73218363580315,
          137.63109492021192,
          137.51656733161292,
          137.42874401294958,
          137.36711419712108,
          137.2974757031721,
          137.20747380175732,
          137.12591642043188,
          137.0692604847829,
          137.02129276332212,
          136.952459104489,
          136.86998057773752,
          136.80518930433806,
          136.7632548212784,
          136.71864251297,
          136.64373276996528,
          136.55729228672132,
          136.49547619841027,
          136.45976214705507,
          136.41467163776466,
          136.32953875161715,
          136.23377557402992,
          136.1718454912092,
          136.14183431228892,
          136.09555526193424,
          136.0071470459641,
          135.91598021932484,
          135.85391993730033,
          135.802384823661,
          135.72723233584512,
          135.63827885020416,
          135.56506281783328,
          135.50573703102103,
          135.435572110516,
          135.34700621345348,
          135.26279065254838,
          135.19706828069968,
          135.13970441301123,
          135.062147269381,
          134.96069549062037,
          134.86881587037746,
          134.808093419433,
          134.76502770704533,
          134.69652317445414,
          134.5941436351945,
          134.4991113379312,
          134.43176291446673,
          134.36834041962294,
          134.28064697357465,
          134.1846158191704,
          134.10705407635962,
          134.04295216165266,
          133.9646166839334,
          133.8666476483104,
          133.77535792693143,
          133.70433647146032,
          133.64010835124412,
          133.55193828205773,
          133.44107997735128,
          133.34279961355523,
          133.27316421525225,
          133.2142211108591,
          133.12589414569993,
          133.01059587436797,
          132.90955892878142,
          132.83468014817322,
          132.75887562443128,
          132.6564925277776,
          132.54718125092367,
          132.45829815133692,
          132.3845433383214,
          132.29589256753238,
          132.185064793982,
          132.08082371194487,
          132.00001025455146,
          131.9292198655286,
          131.83468391845477,
          131.71611693177675,
          131.611065228555,
          131.53678860471967,
          131.4730430611232,
          131.37538553326203,
          131.24626274891256,
          131.13723193635846,
          131.07044273143796,
          131.01662096303895,
          130.92145416847683,
          130.79701151067314,
          130.695137740313,
          130.61784169233616,
          130.52917217090916,
          130.41973888055213,
          130.3173317450423,
          130.23138803716364,
          130.14449496510167,
          130.04018092708557,
          129.93221009575578,
          129.84061075075746,
          129.76298080174348,
          129.67483509347014,
          129.55844064238562,
          129.43799834108393,
          129.3463068076548,
          129.28148674936267,
          129.2045366217239,
          129.0858272581331,
          128.9557648780935,
          128.85030511639474,
          128.75853477864564,
          128.64716303845483,
          128.519182083776,
          128.40254276939353,
          128.29970237244447,
          128.19115852350782,
          128.06539861299717,
          127.9395457104765,
          127.83057516383491,
          127.73416533575678,
          127.62602094110106,
          127.49120157253374,
          127.35505782981235,
          127.24885827643594,
          127.17071573138925,
          127.0836999725597,
          126.95770099573345,
          126.82134384676402,
          126.71086354090059,
          126.61563291521124,
          126.50350473069953,
          126.37758067525823,
          126.26427016354182,
          126.16473790833489,
          126.0589985811837,
          125.9373655345457,
          125.8177235280121,
          125.71512573955991,
          125.6234458775911,
          125.51768987892879,
          125.38730990323967,
          125.2599296782084,
          125.16243982919663,
          125.08886789089246,
          125.00057831321335,
          124.8761932608242,
          124.74855142824,
          124.64677538074754,
          124.55581473608022,
          124.446045057461,
          124.32518893427894,
          124.21864125402713,
          124.12484501802301,
          124.0217196283435,
          123.90182474594384,
          123.7854761620662,
          123.686097242855,
          123.59452277938898,
          123.4841876188491,
          123.35115727504234,
          123.22541721535845,
          123.12643078236404,
          123.04276225132973,
          122.93709160636983,
          122.80220703845315,
          122.67386855535679,
          122.56999342556924,
          122.47085714403245,
          122.35044885734601,
          122.22130956824336,
          122.10838786557679,
          122.00920576606347,
          121.89996927860939,
          121.77287933063833,
          121.65023570967585,
          121.54704104210099,
          121.45390315285155,
          121.34276912946977,
          121.20959113166396,
          121.08553950865277,
          120.98973208715356,
          120.90851814563445,
          120.80356803349456,
          120.67216790752694,
          120.55137652438256,
          120.4546013342457,
          120.35889710760323,
          120.24179958838748,
          120.11945658490578,
          120.01403556927237,
          119.9202049892321,
          119.81383732978554,
          119.6914102690451,
          119.57648916507893,
          119.48047554666658,
          119.39096343099114,
          119.2806280317185,
          119.15144674272908,
          119.0359395430989,
          118.94811480344443,
          118.8692120944726,
          118.762035256561,
          118.63239159517822,
          118.51780880925627,
          118.42400472380548,
          118.323458221312,
          118.201659138119,
          118.0798460522382,
          117.97315097245536,
          117.8713271662026,
          117.75392583398721,
          117.6256423292789,
          117.50773838484099,
          117.40451346664268,
          117.30137063926807,
          117.17760111493001,
          117.04244040088983,
          116.924672707386,
          116.83212105790132,
          116.74499880303975,
          116.63056623253927,
          116.49761482937421,
          116.3812185611608,
          116.28523653946266,
          116.18349927405848,
          116.06359124102778,
          115.94629629861387,
          115.84545392467406,
          115.75071083582773,
          115.64141544730585,
          115.52208272666991,
          115.41486571816569,
          115.32455914983305,
          115.23501552946276,
          115.12373442771761,
          115.00084650675805,
          114.89650142888603,
          114.81746792765675,
          114.7409386735117,
          114.63603333913997,
          114.51640975461831,
          114.4155597279288,
          114.33292392728684,
          114.24104110427302,
          114.13186420516922,
          114.02810207416098,
          113.94036242575642,
          113.85569910950916,
          113.75536422761523,
          113.64751794327806,
          113.55333542266418,
          113.47460228676069,
          113.39209817756677,
          113.2868558927656,
          113.17440656463603,
          113.08242111307815,
          113.01216003295484,
          112.93583925850864,
          112.83063301195946,
          112.71789661105082,
          112.6251094133056,
          112.54588345779851,
          112.45279675667514,
          112.34443603990175,
          112.24482630593546,
          112.1602021786941,
          112.07518889781066,
          111.974428732925,
          111.8695560952123,
          111.7792873434594,
          111.7027557140654,
          111.61987091091642,
          111.51593119406652,
          111.40926973611779,
          111.32427323018129,
          111.25932621423377,
          111.18614508831293,
          111.0864934865564,
          110.98363778850052,
          110.90133585461203,
          110.83063112167625,
          110.74534075289615,
          110.6473462531567,
          110.55999547792791,
          110.48680415062131,
          110.41090805657925,
          110.3196324759925,
          110.22682938486616,
          110.1490872843942,
          110.08327527283117,
          110.00821758650403,
          109.91322181117863,
          109.81925581307242,
          109.74733515499503,
          109.69239697121967,
          109.62490022267251,
          109.53274851203285,
          109.44215658775389,
          109.3718960501677,
          109.30928370325117,
          109.23019174443186,
          109.14096171578508,
          109.06405038272885,
          108.99981063598047,
          108.92910189730314,
          108.84247209743121,
          108.75664454730827,
          108.68561467861576,
          108.62318919723208,
          108.54735559145205,
          108.45379400807701,
          108.36561430623706,
          108.29748099264796,
          108.24010781142432,
          108.16466261007517,
          108.06505519023074,
          107.97290050080545,
          107.90983368106825,
          107.8632756798618,
          107.79446870869224,
          107.70018058235328,
          107.61556096368211,
          107.55119371212585,
          107.48564338542762,
          107.40513316827953,
          107.32509045731753,
          107.2573777258491,
          107.19388369467967,
          107.12009381434245,
          107.04037307857216,
          106.97004732467543,
          106.91136514571312,
          106.85197534650892,
          106.77558690490937,
          106.6907787099104,
          106.62155203610978,
          106.57409642062687,
          106.53126933233638,
          106.46457442114541,
          106.38133124794926,
          106.31174468124068,
          106.25890641502502,
          106.20080051717947,
          106.12837677518704,
          106.05897437630986,
          106.00227626431735,
          105.94871167020926,
          105.88278434578898,
          105.81016303545154,
          105.74845554132546,
          105.70002069398129,
          105.64956402853237,
          105.57861075052963,
          105.49832813363871,
          105.43517931027701,
          105.3931153369483,
          105.34862902125349,
          105.27588443487743,
          105.19079333826251,
          105.1215442767169,
          105.06463343881711,
          104.99677398661801,
          104.91558928374259,
          104.84034949708204,
          104.77601473712801,
          104.7109878502061,
          104.63442441878763,
          104.5554325132895,
          104.48762637666427,
          104.43035932177314,
          104.36877967710774,
          104.28962645007711,
          104.20637730229284,
          104.14170018967194,
          104.09754225812438,
          104.05240078713926,
          103.98224714154864,
          103.90173423869207,
          103.8378215338582,
          103.78704358139738,
          103.72731754234715,
          103.65674553928399,
          103.59328906225245,
          103.54069524090245,
          103.48686406728572,
          103.42216731825117,
          103.356488658543,
          103.30228942071342,
          103.2576838135174,
          103.20692556508075,
          103.13912797170003,
          103.06989276987316,
          103.01984699996544,
          102.98810562032547,
          102.95082363366599,
          102.88924007620881,
          102.82201791774455,
          102.77169702967817,
          102.73061557691854,
          102.67738741618932,
          102.61461481830956,
          102.56064024850379,
          102.5155228502143,
          102.46257748324614,
          102.39452307959475,
          102.32567793178364,
          102.26626667323636,
          102.20876780233125,
          102.13482865708265,
          102.04558967129422,
          101.95984285367958,
          101.88458922264346,
          101.81141883329458,
          101.72297541724262,
          101.62166927992862,
          101.52851762486007,
          101.45241152763666,
          101.38327990809947,
          101.29860566438508,
          101.19981900615973,
          101.11024969426843,
          101.03663050707473,
          100.96377038612434,
          100.87756901005216,
          100.78910217060057,
          100.71332202733169,
          100.64705811604303,
          100.57364558139577,
          100.48946674042136,
          100.41055117493596,
          100.34581711761265,
          100.28750118014334,
          100.21705000020238,
          100.13502765857692,
          100.0621324342889,
          100.00708442359225,
          99.95811168346299,
          99.89133535513552,
          99.80967118205541,
          99.74103388349558,
          99.69577347302607,
          99.65677892041755,
          99.59622351459265,
          99.52277961063193,
          99.46319246749864,
          99.41656194194252,
          99.36371755785952,
          99.30146122395199,
          99.24482109191112,
          99.19737624136228,
          99.14888293101612,
          99.09153660714342,
          99.03380695533517,
          98.98551595081302,
          98.94391167490073,
          98.89479177576544,
          98.83206354525728,
          98.77005150164032,
          98.72196367542661,
          98.6841724180768,
          98.63722626601417,
          98.57324043705908,
          98.50981200872286,
          98.45999493404375,
          98.41637466345654,
          98.36243970886284,
          98.30120586717804,
          98.24818179334707,
          98.2050827642462,
          98.16030345140153,
          98.10545703691379,
          98.05024657002627,
          98.00606424246092,
          97.97078604919737,
          97.92987698165662,
          97.87613350424144,
          97.82374032643024,
          97.78654319192002,
          97.76085451183738,
          97.72699725123675,
          97.6781346216707,
          97.63184213487324,
          97.59929622567235,
          97.57167219009648,
          97.53399393495359,
          97.4910700585069,
          97.45686609153009,
          97.43118919609715,
          97.40205324780527,
          97.36411090023628,
          97.32807516049822,
          97.302398891871,
          97.28304912221705,
          97.25606002024792,
          97.21850138202423,
          97.18533172537144,
          97.16645589266999,
          97.15579781905086,
          97.134729899153,
          97.1010236890742,
          97.07259857202405,
          97.05698726251116,
          97.04371729264624,
          97.02028490174278,
          96.99364566538378,
          96.97622730026117,
          96.96660431201374,
          96.95253758369218,
          96.93012943735931,
          96.91085201847349,
          96.90224941283077,
          96.89928906453494,
          96.88769385983919,
          96.8660980070321,
          96.85015793248344,
          96.84839160063497,
          96.85317313659895,
          96.84609265786266,
          96.82774965309532,
          96.81635697125947,
          96.81693873381548,
          96.817456540731,
          96.80757027337538,
          96.79610105384023,
          96.79377286310246,
          96.79759222987052,
          96.79525085105584,
          96.78523713339096,
          96.77955764020783,
          96.78374346812205,
          96.79141499134586,
          96.78924241527349,
          96.77877792267921,
          96.77559877816401,
          96.78568213300598,
          96.79982682772969,
          96.8011013099894,
          96.79305056176551,
          96.79333344068989,
          96.80467635675738,
          96.81405941231864,
          96.81312352526305,
          96.8120753572195,
          96.82033410156549,
          96.8338215085988,
          96.84021277384124,
          96.83942212490904,
          96.84386593134391,
          96.85810155880378,
          96.8747973786252,
          96.88102277332139,
          96.87998598626866,
          96.88727405656945,
          96.90746359293027,
          96.93014840999699,
          96.93959175570167,
          96.94145829837557,
          96.95276987183097,
          96.9745690881391,
          96.99308700370392,
          97.00152936261902,
          97.01114962100371,
          97.03030655799212,
          97.05391791205157,
          97.06968621809082,
          97.07881254725311,
          97.09398079662685,
          97.11880425612048,
          97.14492347315084,
          97.1599800007466,
          97.16882333299031,
          97.18680108589152,
          97.2170246149759,
          97.24769178427708,
          97.2626706877024,
          97.26930029020775,
          97.28865409596047,
          97.32480699485876,
          97.36107786564372,
          97.37920585223465,
          97.39043660433141,
          97.41353476521866,
          97.44483645877193,
          97.46924352630859,
          97.48691982432165,
          97.50995887010197,
          97.53949944898908,
          97.56698461065717,
          97.58792705931016,
          97.60973947996685,
          97.6388293340087,
          97.67268526645054,
          97.70088284251675,
          97.71908318090907,
          97.73882379594241,
          97.7712986203429,
          97.8141444990207,
          97.85132427240828,
          97.87309950726338,
          97.89300670017603,
          97.92430988830971,
          97.9613406169429,
          97.99035643034321,
          98.0135786230907,
          98.04285162256902,
          98.07860075389132,
          98.11145401335955,
          98.1366476266971,
          98.16245219287293,
          98.19610700591376,
          98.2349826138429,
          98.26771141320191,
          98.28964976447328,
          98.31298708727857,
          98.34914962576087,
          98.39532262579014,
          98.43478408563324,
          98.45928860088303,
          98.48338463726877,
          98.51906865463953,
          98.5598106911547,
          98.59201651846978,
          98.61871828245171,
          98.65197596178257,
          98.6919996669053,
          98.72903270246599,
          98.7582688634357,
          98.78841460819747,
          98.82694880773774,
          98.87097468239108,
          98.9085471793684,
          98.93528743834534,
          98.9639862988134,
          99.00580435991057,
          99.05715346610111,
          99.10062786811008,
          99.12955406723414,
          99.15949321335219,
          99.20112806290516,
          99.24680060881046,
          99.28338829926766,
          99.31507246529989,
          99.35373699670748,
          99.39895054815972,
          99.4404567340587,
          99.47411579948684,
          99.50928730749143,
          99.55301094465094,
          99.60173638766118,
          99.64315860990295,
          99.67410021089925,
          99.7080883268214,
          99.75525695843803,
          99.81089978847966
         ],
         "yaxis": "y"
        }
       ],
       "layout": {
        "legend": {
         "title": {
          "text": "variable"
         },
         "tracegroupgap": 0
        },
        "margin": {
         "t": 60
        },
        "template": {
         "data": {
          "bar": [
           {
            "error_x": {
             "color": "#2a3f5f"
            },
            "error_y": {
             "color": "#2a3f5f"
            },
            "marker": {
             "line": {
              "color": "#E5ECF6",
              "width": 0.5
             },
             "pattern": {
              "fillmode": "overlay",
              "size": 10,
              "solidity": 0.2
             }
            },
            "type": "bar"
           }
          ],
          "barpolar": [
           {
            "marker": {
             "line": {
              "color": "#E5ECF6",
              "width": 0.5
             },
             "pattern": {
              "fillmode": "overlay",
              "size": 10,
              "solidity": 0.2
             }
            },
            "type": "barpolar"
           }
          ],
          "carpet": [
           {
            "aaxis": {
             "endlinecolor": "#2a3f5f",
             "gridcolor": "white",
             "linecolor": "white",
             "minorgridcolor": "white",
             "startlinecolor": "#2a3f5f"
            },
            "baxis": {
             "endlinecolor": "#2a3f5f",
             "gridcolor": "white",
             "linecolor": "white",
             "minorgridcolor": "white",
             "startlinecolor": "#2a3f5f"
            },
            "type": "carpet"
           }
          ],
          "choropleth": [
           {
            "colorbar": {
             "outlinewidth": 0,
             "ticks": ""
            },
            "type": "choropleth"
           }
          ],
          "contour": [
           {
            "colorbar": {
             "outlinewidth": 0,
             "ticks": ""
            },
            "colorscale": [
             [
              0,
              "#0d0887"
             ],
             [
              0.1111111111111111,
              "#46039f"
             ],
             [
              0.2222222222222222,
              "#7201a8"
             ],
             [
              0.3333333333333333,
              "#9c179e"
             ],
             [
              0.4444444444444444,
              "#bd3786"
             ],
             [
              0.5555555555555556,
              "#d8576b"
             ],
             [
              0.6666666666666666,
              "#ed7953"
             ],
             [
              0.7777777777777778,
              "#fb9f3a"
             ],
             [
              0.8888888888888888,
              "#fdca26"
             ],
             [
              1,
              "#f0f921"
             ]
            ],
            "type": "contour"
           }
          ],
          "contourcarpet": [
           {
            "colorbar": {
             "outlinewidth": 0,
             "ticks": ""
            },
            "type": "contourcarpet"
           }
          ],
          "heatmap": [
           {
            "colorbar": {
             "outlinewidth": 0,
             "ticks": ""
            },
            "colorscale": [
             [
              0,
              "#0d0887"
             ],
             [
              0.1111111111111111,
              "#46039f"
             ],
             [
              0.2222222222222222,
              "#7201a8"
             ],
             [
              0.3333333333333333,
              "#9c179e"
             ],
             [
              0.4444444444444444,
              "#bd3786"
             ],
             [
              0.5555555555555556,
              "#d8576b"
             ],
             [
              0.6666666666666666,
              "#ed7953"
             ],
             [
              0.7777777777777778,
              "#fb9f3a"
             ],
             [
              0.8888888888888888,
              "#fdca26"
             ],
             [
              1,
              "#f0f921"
             ]
            ],
            "type": "heatmap"
           }
          ],
          "heatmapgl": [
           {
            "colorbar": {
             "outlinewidth": 0,
             "ticks": ""
            },
            "colorscale": [
             [
              0,
              "#0d0887"
             ],
             [
              0.1111111111111111,
              "#46039f"
             ],
             [
              0.2222222222222222,
              "#7201a8"
             ],
             [
              0.3333333333333333,
              "#9c179e"
             ],
             [
              0.4444444444444444,
              "#bd3786"
             ],
             [
              0.5555555555555556,
              "#d8576b"
             ],
             [
              0.6666666666666666,
              "#ed7953"
             ],
             [
              0.7777777777777778,
              "#fb9f3a"
             ],
             [
              0.8888888888888888,
              "#fdca26"
             ],
             [
              1,
              "#f0f921"
             ]
            ],
            "type": "heatmapgl"
           }
          ],
          "histogram": [
           {
            "marker": {
             "pattern": {
              "fillmode": "overlay",
              "size": 10,
              "solidity": 0.2
             }
            },
            "type": "histogram"
           }
          ],
          "histogram2d": [
           {
            "colorbar": {
             "outlinewidth": 0,
             "ticks": ""
            },
            "colorscale": [
             [
              0,
              "#0d0887"
             ],
             [
              0.1111111111111111,
              "#46039f"
             ],
             [
              0.2222222222222222,
              "#7201a8"
             ],
             [
              0.3333333333333333,
              "#9c179e"
             ],
             [
              0.4444444444444444,
              "#bd3786"
             ],
             [
              0.5555555555555556,
              "#d8576b"
             ],
             [
              0.6666666666666666,
              "#ed7953"
             ],
             [
              0.7777777777777778,
              "#fb9f3a"
             ],
             [
              0.8888888888888888,
              "#fdca26"
             ],
             [
              1,
              "#f0f921"
             ]
            ],
            "type": "histogram2d"
           }
          ],
          "histogram2dcontour": [
           {
            "colorbar": {
             "outlinewidth": 0,
             "ticks": ""
            },
            "colorscale": [
             [
              0,
              "#0d0887"
             ],
             [
              0.1111111111111111,
              "#46039f"
             ],
             [
              0.2222222222222222,
              "#7201a8"
             ],
             [
              0.3333333333333333,
              "#9c179e"
             ],
             [
              0.4444444444444444,
              "#bd3786"
             ],
             [
              0.5555555555555556,
              "#d8576b"
             ],
             [
              0.6666666666666666,
              "#ed7953"
             ],
             [
              0.7777777777777778,
              "#fb9f3a"
             ],
             [
              0.8888888888888888,
              "#fdca26"
             ],
             [
              1,
              "#f0f921"
             ]
            ],
            "type": "histogram2dcontour"
           }
          ],
          "mesh3d": [
           {
            "colorbar": {
             "outlinewidth": 0,
             "ticks": ""
            },
            "type": "mesh3d"
           }
          ],
          "parcoords": [
           {
            "line": {
             "colorbar": {
              "outlinewidth": 0,
              "ticks": ""
             }
            },
            "type": "parcoords"
           }
          ],
          "pie": [
           {
            "automargin": true,
            "type": "pie"
           }
          ],
          "scatter": [
           {
            "fillpattern": {
             "fillmode": "overlay",
             "size": 10,
             "solidity": 0.2
            },
            "type": "scatter"
           }
          ],
          "scatter3d": [
           {
            "line": {
             "colorbar": {
              "outlinewidth": 0,
              "ticks": ""
             }
            },
            "marker": {
             "colorbar": {
              "outlinewidth": 0,
              "ticks": ""
             }
            },
            "type": "scatter3d"
           }
          ],
          "scattercarpet": [
           {
            "marker": {
             "colorbar": {
              "outlinewidth": 0,
              "ticks": ""
             }
            },
            "type": "scattercarpet"
           }
          ],
          "scattergeo": [
           {
            "marker": {
             "colorbar": {
              "outlinewidth": 0,
              "ticks": ""
             }
            },
            "type": "scattergeo"
           }
          ],
          "scattergl": [
           {
            "marker": {
             "colorbar": {
              "outlinewidth": 0,
              "ticks": ""
             }
            },
            "type": "scattergl"
           }
          ],
          "scattermapbox": [
           {
            "marker": {
             "colorbar": {
              "outlinewidth": 0,
              "ticks": ""
             }
            },
            "type": "scattermapbox"
           }
          ],
          "scatterpolar": [
           {
            "marker": {
             "colorbar": {
              "outlinewidth": 0,
              "ticks": ""
             }
            },
            "type": "scatterpolar"
           }
          ],
          "scatterpolargl": [
           {
            "marker": {
             "colorbar": {
              "outlinewidth": 0,
              "ticks": ""
             }
            },
            "type": "scatterpolargl"
           }
          ],
          "scatterternary": [
           {
            "marker": {
             "colorbar": {
              "outlinewidth": 0,
              "ticks": ""
             }
            },
            "type": "scatterternary"
           }
          ],
          "surface": [
           {
            "colorbar": {
             "outlinewidth": 0,
             "ticks": ""
            },
            "colorscale": [
             [
              0,
              "#0d0887"
             ],
             [
              0.1111111111111111,
              "#46039f"
             ],
             [
              0.2222222222222222,
              "#7201a8"
             ],
             [
              0.3333333333333333,
              "#9c179e"
             ],
             [
              0.4444444444444444,
              "#bd3786"
             ],
             [
              0.5555555555555556,
              "#d8576b"
             ],
             [
              0.6666666666666666,
              "#ed7953"
             ],
             [
              0.7777777777777778,
              "#fb9f3a"
             ],
             [
              0.8888888888888888,
              "#fdca26"
             ],
             [
              1,
              "#f0f921"
             ]
            ],
            "type": "surface"
           }
          ],
          "table": [
           {
            "cells": {
             "fill": {
              "color": "#EBF0F8"
             },
             "line": {
              "color": "white"
             }
            },
            "header": {
             "fill": {
              "color": "#C8D4E3"
             },
             "line": {
              "color": "white"
             }
            },
            "type": "table"
           }
          ]
         },
         "layout": {
          "annotationdefaults": {
           "arrowcolor": "#2a3f5f",
           "arrowhead": 0,
           "arrowwidth": 1
          },
          "autotypenumbers": "strict",
          "coloraxis": {
           "colorbar": {
            "outlinewidth": 0,
            "ticks": ""
           }
          },
          "colorscale": {
           "diverging": [
            [
             0,
             "#8e0152"
            ],
            [
             0.1,
             "#c51b7d"
            ],
            [
             0.2,
             "#de77ae"
            ],
            [
             0.3,
             "#f1b6da"
            ],
            [
             0.4,
             "#fde0ef"
            ],
            [
             0.5,
             "#f7f7f7"
            ],
            [
             0.6,
             "#e6f5d0"
            ],
            [
             0.7,
             "#b8e186"
            ],
            [
             0.8,
             "#7fbc41"
            ],
            [
             0.9,
             "#4d9221"
            ],
            [
             1,
             "#276419"
            ]
           ],
           "sequential": [
            [
             0,
             "#0d0887"
            ],
            [
             0.1111111111111111,
             "#46039f"
            ],
            [
             0.2222222222222222,
             "#7201a8"
            ],
            [
             0.3333333333333333,
             "#9c179e"
            ],
            [
             0.4444444444444444,
             "#bd3786"
            ],
            [
             0.5555555555555556,
             "#d8576b"
            ],
            [
             0.6666666666666666,
             "#ed7953"
            ],
            [
             0.7777777777777778,
             "#fb9f3a"
            ],
            [
             0.8888888888888888,
             "#fdca26"
            ],
            [
             1,
             "#f0f921"
            ]
           ],
           "sequentialminus": [
            [
             0,
             "#0d0887"
            ],
            [
             0.1111111111111111,
             "#46039f"
            ],
            [
             0.2222222222222222,
             "#7201a8"
            ],
            [
             0.3333333333333333,
             "#9c179e"
            ],
            [
             0.4444444444444444,
             "#bd3786"
            ],
            [
             0.5555555555555556,
             "#d8576b"
            ],
            [
             0.6666666666666666,
             "#ed7953"
            ],
            [
             0.7777777777777778,
             "#fb9f3a"
            ],
            [
             0.8888888888888888,
             "#fdca26"
            ],
            [
             1,
             "#f0f921"
            ]
           ]
          },
          "colorway": [
           "#636efa",
           "#EF553B",
           "#00cc96",
           "#ab63fa",
           "#FFA15A",
           "#19d3f3",
           "#FF6692",
           "#B6E880",
           "#FF97FF",
           "#FECB52"
          ],
          "font": {
           "color": "#2a3f5f"
          },
          "geo": {
           "bgcolor": "white",
           "lakecolor": "white",
           "landcolor": "#E5ECF6",
           "showlakes": true,
           "showland": true,
           "subunitcolor": "white"
          },
          "hoverlabel": {
           "align": "left"
          },
          "hovermode": "closest",
          "mapbox": {
           "style": "light"
          },
          "paper_bgcolor": "white",
          "plot_bgcolor": "#E5ECF6",
          "polar": {
           "angularaxis": {
            "gridcolor": "white",
            "linecolor": "white",
            "ticks": ""
           },
           "bgcolor": "#E5ECF6",
           "radialaxis": {
            "gridcolor": "white",
            "linecolor": "white",
            "ticks": ""
           }
          },
          "scene": {
           "xaxis": {
            "backgroundcolor": "#E5ECF6",
            "gridcolor": "white",
            "gridwidth": 2,
            "linecolor": "white",
            "showbackground": true,
            "ticks": "",
            "zerolinecolor": "white"
           },
           "yaxis": {
            "backgroundcolor": "#E5ECF6",
            "gridcolor": "white",
            "gridwidth": 2,
            "linecolor": "white",
            "showbackground": true,
            "ticks": "",
            "zerolinecolor": "white"
           },
           "zaxis": {
            "backgroundcolor": "#E5ECF6",
            "gridcolor": "white",
            "gridwidth": 2,
            "linecolor": "white",
            "showbackground": true,
            "ticks": "",
            "zerolinecolor": "white"
           }
          },
          "shapedefaults": {
           "line": {
            "color": "#2a3f5f"
           }
          },
          "ternary": {
           "aaxis": {
            "gridcolor": "white",
            "linecolor": "white",
            "ticks": ""
           },
           "baxis": {
            "gridcolor": "white",
            "linecolor": "white",
            "ticks": ""
           },
           "bgcolor": "#E5ECF6",
           "caxis": {
            "gridcolor": "white",
            "linecolor": "white",
            "ticks": ""
           }
          },
          "title": {
           "x": 0.05
          },
          "xaxis": {
           "automargin": true,
           "gridcolor": "white",
           "linecolor": "white",
           "ticks": "",
           "title": {
            "standoff": 15
           },
           "zerolinecolor": "white",
           "zerolinewidth": 2
          },
          "yaxis": {
           "automargin": true,
           "gridcolor": "white",
           "linecolor": "white",
           "ticks": "",
           "title": {
            "standoff": 15
           },
           "zerolinecolor": "white",
           "zerolinewidth": 2
          }
         }
        },
        "xaxis": {
         "anchor": "y",
         "domain": [
          0,
          1
         ],
         "title": {
          "text": "index"
         }
        },
        "yaxis": {
         "anchor": "x",
         "domain": [
          0,
          1
         ],
         "title": {
          "text": "value"
         }
        }
       }
      }
     },
     "metadata": {},
     "output_type": "display_data"
    }
   ],
   "source": [
    "derived_df_0.incidence.plot()"
   ]
  }
 ],
 "metadata": {
  "kernelspec": {
   "display_name": "autumn",
   "language": "python",
   "name": "python3"
  },
  "language_info": {
   "codemirror_mode": {
    "name": "ipython",
    "version": 3
   },
   "file_extension": ".py",
   "mimetype": "text/x-python",
   "name": "python",
   "nbconvert_exporter": "python",
   "pygments_lexer": "ipython3",
   "version": "3.10.4"
  },
  "orig_nbformat": 4,
  "vscode": {
   "interpreter": {
    "hash": "32546788be758822ecff2a88079b35480b7d02e1a3a7c2c2e0e8f52550974ab3"
   }
  }
 },
 "nbformat": 4,
 "nbformat_minor": 2
}
