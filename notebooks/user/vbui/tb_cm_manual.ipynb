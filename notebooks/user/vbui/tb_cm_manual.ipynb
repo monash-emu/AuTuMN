{
 "cells": [
  {
   "cell_type": "code",
   "execution_count": null,
   "metadata": {},
   "outputs": [],
   "source": [
    "import warnings\n",
    "from typing import List\n",
    "\n",
    "import pandas as pd\n",
    "import plotly.graph_objects as go\n",
    "import plotly.express as px\n",
    "from autumn.core.project import get_project\n",
    "from autumn.settings import Region, Models\n",
    "from autumn.core import inputs\n",
    "from autumn.core.utils.display import pretty_print\n",
    "from autumn.core.inputs.tb_camau import queries\n",
    "from autumn.core.inputs import get_death_rates_by_agegroup\n",
    "import pathlib"
   ]
  },
  {
   "cell_type": "code",
   "execution_count": null,
   "metadata": {},
   "outputs": [],
   "source": [
    "warnings.filterwarnings(\"ignore\")\n",
    "pd.options.plotting.backend = \"plotly\""
   ]
  },
  {
   "cell_type": "code",
   "execution_count": null,
   "metadata": {},
   "outputs": [],
   "source": [
    "region = Region.CAMAU\n",
    "model = Models.TBD2\n",
    "p = get_project(model, region, reload=True)\n",
    "baseline_params = p.param_set.baseline\n",
    "plots = p.plots\n",
    "iso3 = baseline_params['country']['iso3']\n",
    "source_iso3 = baseline_params['age_mixing']['source_iso3']\n",
    "age_adjust = baseline_params['age_mixing']['age_adjust']\n",
    "age_string_map = {\n",
    "    0: \"0-4\",\n",
    "    5: \"5-14\",\n",
    "    15: \"15-34\",\n",
    "    35: \"35-49\",\n",
    "    50: \"50+\",\n",
    "}"
   ]
  },
  {
   "attachments": {},
   "cell_type": "markdown",
   "metadata": {},
   "source": [
    "## Population"
   ]
  },
  {
   "cell_type": "code",
   "execution_count": null,
   "metadata": {},
   "outputs": [],
   "source": [
    "modelled_age_groups = baseline_params[\"age_breakpoints\"]\n",
    "print(f\"Modelled age groups are {modelled_age_groups}\")"
   ]
  },
  {
   "cell_type": "code",
   "execution_count": null,
   "metadata": {},
   "outputs": [],
   "source": [
    "csv_path = pathlib.Path('camau.csv')"
   ]
  },
  {
   "cell_type": "code",
   "execution_count": null,
   "metadata": {},
   "outputs": [],
   "source": [
    "pop_df = pd.read_csv(csv_path)\n",
    "pop_df = pop_df.set_index(['year'])\n",
    "pop_df['population'].plot()"
   ]
  },
  {
   "attachments": {},
   "cell_type": "markdown",
   "metadata": {},
   "source": [
    "### Birth rate"
   ]
  },
  {
   "cell_type": "code",
   "execution_count": null,
   "metadata": {},
   "outputs": [],
   "source": [
    "birth_rates, years = inputs.get_crude_birth_rate(\"VNM\")\n",
    "birth_rates = [b / 1000.0 for b in birth_rates]  # Birth rates are provided / 1000 population\n",
    "birth_rates_series = pd.Series(birth_rates, index=years)\n",
    "br_fig= px.line(birth_rates_series)\n",
    "br_fig.update_traces(mode='markers+lines')\n",
    "br_fig.update_layout(\n",
    "    title=\"Crude birth rate of Ca Mau\",\n",
    "    title_x=0.5,\n",
    "    xaxis_title=\"Year\",\n",
    "    yaxis_title=\"Crude birth rate\",\n",
    "    showlegend=False,\n",
    ")"
   ]
  },
  {
   "attachments": {},
   "cell_type": "markdown",
   "metadata": {},
   "source": [
    "### Life expectancy"
   ]
  },
  {
   "cell_type": "code",
   "execution_count": null,
   "metadata": {},
   "outputs": [],
   "source": [
    "# Currently used in model:\n",
    "death_rates_from_db = get_death_rates_by_agegroup(modelled_age_groups, \"VNM\")\n",
    "death_rates_df = pd.DataFrame(death_rates_from_db[0], index=death_rates_from_db[1])\n",
    "life_exp_at_age_df = 1.0 / death_rates_df\n",
    "death_rates_df.plot()\n",
    "life_exp_at_age_df.plot(log_y=True)"
   ]
  },
  {
   "cell_type": "code",
   "execution_count": null,
   "metadata": {},
   "outputs": [],
   "source": [
    "# Query and visualize the crude birth rate from database\n",
    "years, death_rates = queries.get_camau_death_rate()\n",
    "death_rates = [b / 1000.0 for b in death_rates]  # Birth rates are provided / 1000 population\n",
    "death_rates_series = pd.Series(death_rates, index=years)\n",
    "dr_fig= px.line(death_rates_series)\n",
    "dr_fig.update_traces(mode='markers+lines')\n",
    "dr_fig.update_layout(\n",
    "    title=\"Crude death rate of Ca Mau\",\n",
    "    title_x=0.5,\n",
    "    xaxis_title=\"Year\",\n",
    "    yaxis_title=\"Crude death rate\",\n",
    "    showlegend=False,\n",
    ")"
   ]
  },
  {
   "attachments": {},
   "cell_type": "markdown",
   "metadata": {},
   "source": [
    "### Mixing matrix"
   ]
  },
  {
   "cell_type": "code",
   "execution_count": null,
   "metadata": {},
   "outputs": [],
   "source": [
    "print(f\"Target region: {region.upper()} ({iso3})\")\n",
    "print(f\"Proxy country: {source_iso3}\")\n",
    "print(\"Always age-adjusted to target population\")"
   ]
  },
  {
   "cell_type": "code",
   "execution_count": null,
   "metadata": {},
   "outputs": [],
   "source": [
    "update_params = {\n",
    "    'cdr_adjustment': 0.8003452159878636,\n",
    "    'contact_rate': 0.013414102898074345,\n",
    "    'gender.adjustments.infection.male': 2.6408657914674176,\n",
    "    'infect_death_rate_dict.smear_negative': 0.027588310343242016,\n",
    "    'infect_death_rate_dict.smear_positive': 0.364337776897486,\n",
    "    'progression_multiplier': 1.1,\n",
    "    'rr_infection_latent': 0.20278196465900813,\n",
    "    'rr_infection_recovered': 0.21190687223342505,\n",
    "    'self_recovery_rate_dict.smear_positive': 0.20344728302826143,\n",
    "    'self_recovery_rate_dict.smear_negative': 0.22723824998716693,\n",
    "    'start_population_size': 267252.06827576435\n",
    "}\n",
    "params = baseline_params.update(update_params,calibration_format=True)\n",
    "model_0  =  p.build_model(params.to_dict())\n",
    "model_0.run(params.to_dict())\n",
    "derived_df_0 = model_0.get_derived_outputs_df()"
   ]
  },
  {
   "cell_type": "code",
   "execution_count": null,
   "metadata": {},
   "outputs": [],
   "source": [
    "model_0._stratifications"
   ]
  },
  {
   "cell_type": "code",
   "execution_count": null,
   "metadata": {},
   "outputs": [],
   "source": [
    "model_0._mixing_matrices"
   ]
  },
  {
   "cell_type": "code",
   "execution_count": null,
   "metadata": {},
   "outputs": [],
   "source": [
    "fig2_1 = px.line(\n",
    "    derived_df_0,\n",
    "    x=derived_df_0.index,\n",
    "    y=\"total_population\",\n",
    ")\n",
    "fig2_2 = px.scatter(x= plots['total_population']['times'], y = plots['total_population']['values'])\n",
    "fig2_2.update_traces(marker=dict(color=\"red\"))\n",
    "fig2_3 = go.Figure(\n",
    "    data=fig2_1.data + fig2_2.data,\n",
    ")\n",
    "fig2_3.update_layout(\n",
    "    title=\"Modelled vs Data\", title_x=0.5, xaxis_title=\"Year\", yaxis_title=\"Population\"\n",
    ")\n",
    "fig2_3.show()"
   ]
  },
  {
   "cell_type": "code",
   "execution_count": null,
   "metadata": {},
   "outputs": [],
   "source": [
    "latent_1 = px.line(\n",
    "    derived_df_0,\n",
    "    x=derived_df_0.index,\n",
    "    y=\"percentage_latent\",\n",
    ")\n",
    "latent_2 = px.scatter(x= plots['percentage_latent']['times'], y = plots['percentage_latent']['values'])\n",
    "latent_2.update_traces(marker=dict(color=\"red\"))\n",
    "latent_plot = go.Figure(\n",
    "    data=latent_1.data + latent_2.data,\n",
    ")\n",
    "latent_plot.update_layout(\n",
    "    title=\"Modelled vs Data\", title_x=0.5, xaxis_title=\"Year\", yaxis_title=\"Percentage latent\"\n",
    ")\n",
    "latent_plot.show()"
   ]
  },
  {
   "cell_type": "code",
   "execution_count": null,
   "metadata": {},
   "outputs": [],
   "source": [
    "notif_1 = px.line(\n",
    "    derived_df_0,\n",
    "    x=derived_df_0.index,\n",
    "    y=\"notifications\",\n",
    ")\n",
    "notif_2 = px.scatter(x= plots['notifications']['times'], y = plots['notifications']['values'])\n",
    "notif_2.update_traces(marker=dict(color=\"red\"))\n",
    "notif_plot = go.Figure(\n",
    "    data=notif_1.data + notif_2.data,\n",
    ")\n",
    "notif_plot.update_layout(\n",
    "    title=\"Modelled vs Data (with James' equation)\", title_x=0.5, xaxis_title=\"Year\", yaxis_title=\"Notifications\"\n",
    ")\n",
    "notif_plot.show()"
   ]
  },
  {
   "cell_type": "code",
   "execution_count": null,
   "metadata": {},
   "outputs": [],
   "source": [
    "notif_1 = px.line(\n",
    "    derived_df_0,\n",
    "    x=derived_df_0.index,\n",
    "    y=\"prevalence_infectious\",\n",
    ")\n",
    "notif_1.show()\n",
    "# notif_2 = px.scatter(x= plots['notifications']['times'], y = plots['notifications']['values'])\n",
    "# notif_2.update_traces(marker=dict(color=\"red\"))\n",
    "# notif_plot = go.Figure(\n",
    "#     data=notif_1.data + notif_2.data,\n",
    "# )\n",
    "# notif_plot.update_layout(\n",
    "#     title=\"Modelled vs Data\", title_x=0.5, xaxis_title=\"Year\", yaxis_title=\"Population\"\n",
    "# )\n",
    "# notif_plot.show()"
   ]
  },
  {
   "cell_type": "code",
   "execution_count": 1,
   "metadata": {},
   "outputs": [
    {
     "name": "stderr",
     "output_type": "stream",
     "text": [
      "c:\\tools\\Anaconda3\\envs\\autumn\\lib\\site-packages\\summer\\runner\\vectorized_runner.py:363: NumbaDeprecationWarning: \u001b[1mThe 'nopython' keyword argument was not supplied to the 'numba.jit' decorator. The implicit default value for this argument is currently False, but it will be changed to True in Numba 0.59.0. See https://numba.readthedocs.io/en/stable/reference/deprecation.html#deprecation-of-object-mode-fall-back-behaviour-when-using-jit for details.\u001b[0m\n",
      "  def get_strain_infection_values(\n"
     ]
    }
   ],
   "source": [
    "from autumn.core.inputs import get_death_rates_by_agegroup"
   ]
  },
  {
   "cell_type": "code",
   "execution_count": 2,
   "metadata": {},
   "outputs": [],
   "source": [
    "death_rates_by_age, death_rate_years = get_death_rates_by_agegroup([0, 5, 15, 35, 50], \"VNM\")"
   ]
  },
  {
   "cell_type": "code",
   "execution_count": 7,
   "metadata": {},
   "outputs": [
    {
     "data": {
      "text/plain": [
       "{0: [0.04891194320512563,\n",
       "  0.033918668027576884,\n",
       "  0.024432727316924446,\n",
       "  0.019408181689238014,\n",
       "  0.018148370056426787,\n",
       "  0.014535299525724738,\n",
       "  0.013035498777442808,\n",
       "  0.011254176500418787,\n",
       "  0.00931061542295055,\n",
       "  0.006118489529305104,\n",
       "  0.005678373734277731,\n",
       "  0.005333479069860507,\n",
       "  0.004783694403203202,\n",
       "  0.0043347634430972014],\n",
       " 5: [0.005654833192668025,\n",
       "  0.005297274566250849,\n",
       "  0.0044664893264966974,\n",
       "  0.003846307644222109,\n",
       "  0.005107979016750706,\n",
       "  0.002711430406000275,\n",
       "  0.002147435231479338,\n",
       "  0.0016691038222857585,\n",
       "  0.0013164357375949395,\n",
       "  0.0010181764308804923,\n",
       "  0.0007447183497013854,\n",
       "  0.0005658632755602,\n",
       "  0.0005441317519979431,\n",
       "  0.0005100562239187423],\n",
       " 15: [0.0030517485729701097,\n",
       "  0.002700755057428503,\n",
       "  0.002489838533286184,\n",
       "  0.002584612327589561,\n",
       "  0.004088806859043201,\n",
       "  0.0023927769572424534,\n",
       "  0.002209771395787853,\n",
       "  0.001885328047816437,\n",
       "  0.0016581044683420282,\n",
       "  0.0015277277213098862,\n",
       "  0.001427063312059633,\n",
       "  0.0012953587483924324,\n",
       "  0.0012356506891999784,\n",
       "  0.0011729827102219131],\n",
       " 35: [0.009386682178966717,\n",
       "  0.007892734017957679,\n",
       "  0.006517135357865979,\n",
       "  0.006260889686458326,\n",
       "  0.008689175571776193,\n",
       "  0.00479116361370093,\n",
       "  0.004179181883878279,\n",
       "  0.004093556688069908,\n",
       "  0.004031166261049662,\n",
       "  0.003907751109471642,\n",
       "  0.0034886248607591164,\n",
       "  0.003155553373359392,\n",
       "  0.003040343537587886,\n",
       "  0.002980208830203494],\n",
       " 50: [0.1417162315914261,\n",
       "  0.14004771975249025,\n",
       "  0.14050114600763583,\n",
       "  0.13991314779584452,\n",
       "  0.1446541208480976,\n",
       "  0.12199942887738785,\n",
       "  0.11497764682078969,\n",
       "  0.10618998428462792,\n",
       "  0.09778759372213668,\n",
       "  0.09191279368157758,\n",
       "  0.08603053502488202,\n",
       "  0.08429645911423628,\n",
       "  0.08132411751977145,\n",
       "  0.08108759595140565]}"
      ]
     },
     "execution_count": 7,
     "metadata": {},
     "output_type": "execute_result"
    }
   ],
   "source": [
    "death_rates_by_age"
   ]
  },
  {
   "cell_type": "code",
   "execution_count": 3,
   "metadata": {},
   "outputs": [
    {
     "data": {
      "text/plain": [
       "[1952.5,\n",
       " 1957.5,\n",
       " 1962.5,\n",
       " 1967.5,\n",
       " 1972.5,\n",
       " 1977.5,\n",
       " 1982.5,\n",
       " 1987.5,\n",
       " 1992.5,\n",
       " 1997.5,\n",
       " 2002.5,\n",
       " 2007.5,\n",
       " 2012.5,\n",
       " 2017.5]"
      ]
     },
     "execution_count": 3,
     "metadata": {},
     "output_type": "execute_result"
    }
   ],
   "source": [
    "death_rate_years"
   ]
  }
 ],
 "metadata": {
  "kernelspec": {
   "display_name": "autumn",
   "language": "python",
   "name": "python3"
  },
  "language_info": {
   "codemirror_mode": {
    "name": "ipython",
    "version": 3
   },
   "file_extension": ".py",
   "mimetype": "text/x-python",
   "name": "python",
   "nbconvert_exporter": "python",
   "pygments_lexer": "ipython3",
   "version": "3.10.0"
  },
  "vscode": {
   "interpreter": {
    "hash": "32546788be758822ecff2a88079b35480b7d02e1a3a7c2c2e0e8f52550974ab3"
   }
  }
 },
 "nbformat": 4,
 "nbformat_minor": 4
}
