{
 "cells": [
  {
   "cell_type": "code",
   "execution_count": 1,
   "metadata": {},
   "outputs": [],
   "source": [
    "import warnings\n",
    "from typing import List\n",
    "\n",
    "import pandas as pd\n",
    "import plotly.graph_objects as go\n",
    "import plotly.express as px\n",
    "from autumn.core.project import get_project\n",
    "from autumn.settings import Region, Models\n",
    "from autumn.core import inputs\n",
    "from autumn.core.utils.display import pretty_print\n",
    "from autumn.core.inputs.tb_camau import queries\n",
    "from autumn.core.inputs import get_death_rates_by_agegroup\n",
    "import pathlib"
   ]
  },
  {
   "cell_type": "code",
   "execution_count": 2,
   "metadata": {},
   "outputs": [],
   "source": [
    "warnings.filterwarnings(\"ignore\")\n",
    "pd.options.plotting.backend = \"plotly\""
   ]
  },
  {
   "cell_type": "code",
   "execution_count": 3,
   "metadata": {},
   "outputs": [],
   "source": [
    "region = Region.CAMAU\n",
    "model = Models.TBD2\n",
    "p = get_project(model, region, reload=True)\n",
    "baseline_params = p.param_set.baseline\n",
    "plots = p.plots\n",
    "iso3 = baseline_params['country']['iso3']\n",
    "source_iso3 = baseline_params['age_mixing']['source_iso3']\n",
    "age_adjust = baseline_params['age_mixing']['age_adjust']\n",
    "age_string_map = {\n",
    "    0: \"0-4\",\n",
    "    5: \"5-14\",\n",
    "    15: \"15-34\",\n",
    "    35: \"35-49\",\n",
    "    50: \"50+\",\n",
    "}"
   ]
  },
  {
   "cell_type": "markdown",
   "metadata": {},
   "source": [
    "## Population"
   ]
  },
  {
   "cell_type": "code",
   "execution_count": 4,
   "metadata": {},
   "outputs": [
    {
     "name": "stdout",
     "output_type": "stream",
     "text": [
      "Modelled age groups are [0, 5, 15, 35, 50]\n"
     ]
    }
   ],
   "source": [
    "modelled_age_groups = baseline_params[\"age_breakpoints\"]\n",
    "print(f\"Modelled age groups are {modelled_age_groups}\")"
   ]
  },
  {
   "cell_type": "code",
   "execution_count": 5,
   "metadata": {},
   "outputs": [],
   "source": [
    "csv_path = pathlib.Path('camau.csv')"
   ]
  },
  {
   "cell_type": "code",
   "execution_count": 6,
   "metadata": {},
   "outputs": [
    {
     "data": {
      "application/vnd.plotly.v1+json": {
       "config": {
        "plotlyServerURL": "https://plot.ly"
       },
       "data": [
        {
         "hovertemplate": "variable=population<br>year=%{x}<br>value=%{y}<extra></extra>",
         "legendgroup": "population",
         "line": {
          "color": "#636efa",
          "dash": "solid"
         },
         "marker": {
          "symbol": "circle"
         },
         "mode": "lines",
         "name": "population",
         "orientation": "v",
         "showlegend": true,
         "type": "scatter",
         "x": [
          1995,
          1996,
          1997,
          1998,
          1999,
          2000,
          2001,
          2002,
          2003,
          2004,
          2005,
          2006,
          2007,
          2008,
          2009,
          2010,
          2011,
          2012,
          2013,
          2014,
          2015,
          2016,
          2017,
          2018,
          2019
         ],
         "xaxis": "x",
         "y": [
          1041800,
          1061600,
          1081100,
          1101800,
          1123500,
          1133900,
          1145200,
          1155300,
          1164500,
          1174400,
          1182900,
          1188700,
          1195200,
          1201700,
          1207100,
          1205840,
          1204500,
          1203460,
          1202070,
          1200740,
          1199500,
          1198100,
          1197000,
          1195600,
          1194300
         ],
         "yaxis": "y"
        }
       ],
       "layout": {
        "legend": {
         "title": {
          "text": "variable"
         },
         "tracegroupgap": 0
        },
        "margin": {
         "t": 60
        },
        "template": {
         "data": {
          "bar": [
           {
            "error_x": {
             "color": "#2a3f5f"
            },
            "error_y": {
             "color": "#2a3f5f"
            },
            "marker": {
             "line": {
              "color": "#E5ECF6",
              "width": 0.5
             },
             "pattern": {
              "fillmode": "overlay",
              "size": 10,
              "solidity": 0.2
             }
            },
            "type": "bar"
           }
          ],
          "barpolar": [
           {
            "marker": {
             "line": {
              "color": "#E5ECF6",
              "width": 0.5
             },
             "pattern": {
              "fillmode": "overlay",
              "size": 10,
              "solidity": 0.2
             }
            },
            "type": "barpolar"
           }
          ],
          "carpet": [
           {
            "aaxis": {
             "endlinecolor": "#2a3f5f",
             "gridcolor": "white",
             "linecolor": "white",
             "minorgridcolor": "white",
             "startlinecolor": "#2a3f5f"
            },
            "baxis": {
             "endlinecolor": "#2a3f5f",
             "gridcolor": "white",
             "linecolor": "white",
             "minorgridcolor": "white",
             "startlinecolor": "#2a3f5f"
            },
            "type": "carpet"
           }
          ],
          "choropleth": [
           {
            "colorbar": {
             "outlinewidth": 0,
             "ticks": ""
            },
            "type": "choropleth"
           }
          ],
          "contour": [
           {
            "colorbar": {
             "outlinewidth": 0,
             "ticks": ""
            },
            "colorscale": [
             [
              0,
              "#0d0887"
             ],
             [
              0.1111111111111111,
              "#46039f"
             ],
             [
              0.2222222222222222,
              "#7201a8"
             ],
             [
              0.3333333333333333,
              "#9c179e"
             ],
             [
              0.4444444444444444,
              "#bd3786"
             ],
             [
              0.5555555555555556,
              "#d8576b"
             ],
             [
              0.6666666666666666,
              "#ed7953"
             ],
             [
              0.7777777777777778,
              "#fb9f3a"
             ],
             [
              0.8888888888888888,
              "#fdca26"
             ],
             [
              1,
              "#f0f921"
             ]
            ],
            "type": "contour"
           }
          ],
          "contourcarpet": [
           {
            "colorbar": {
             "outlinewidth": 0,
             "ticks": ""
            },
            "type": "contourcarpet"
           }
          ],
          "heatmap": [
           {
            "colorbar": {
             "outlinewidth": 0,
             "ticks": ""
            },
            "colorscale": [
             [
              0,
              "#0d0887"
             ],
             [
              0.1111111111111111,
              "#46039f"
             ],
             [
              0.2222222222222222,
              "#7201a8"
             ],
             [
              0.3333333333333333,
              "#9c179e"
             ],
             [
              0.4444444444444444,
              "#bd3786"
             ],
             [
              0.5555555555555556,
              "#d8576b"
             ],
             [
              0.6666666666666666,
              "#ed7953"
             ],
             [
              0.7777777777777778,
              "#fb9f3a"
             ],
             [
              0.8888888888888888,
              "#fdca26"
             ],
             [
              1,
              "#f0f921"
             ]
            ],
            "type": "heatmap"
           }
          ],
          "heatmapgl": [
           {
            "colorbar": {
             "outlinewidth": 0,
             "ticks": ""
            },
            "colorscale": [
             [
              0,
              "#0d0887"
             ],
             [
              0.1111111111111111,
              "#46039f"
             ],
             [
              0.2222222222222222,
              "#7201a8"
             ],
             [
              0.3333333333333333,
              "#9c179e"
             ],
             [
              0.4444444444444444,
              "#bd3786"
             ],
             [
              0.5555555555555556,
              "#d8576b"
             ],
             [
              0.6666666666666666,
              "#ed7953"
             ],
             [
              0.7777777777777778,
              "#fb9f3a"
             ],
             [
              0.8888888888888888,
              "#fdca26"
             ],
             [
              1,
              "#f0f921"
             ]
            ],
            "type": "heatmapgl"
           }
          ],
          "histogram": [
           {
            "marker": {
             "pattern": {
              "fillmode": "overlay",
              "size": 10,
              "solidity": 0.2
             }
            },
            "type": "histogram"
           }
          ],
          "histogram2d": [
           {
            "colorbar": {
             "outlinewidth": 0,
             "ticks": ""
            },
            "colorscale": [
             [
              0,
              "#0d0887"
             ],
             [
              0.1111111111111111,
              "#46039f"
             ],
             [
              0.2222222222222222,
              "#7201a8"
             ],
             [
              0.3333333333333333,
              "#9c179e"
             ],
             [
              0.4444444444444444,
              "#bd3786"
             ],
             [
              0.5555555555555556,
              "#d8576b"
             ],
             [
              0.6666666666666666,
              "#ed7953"
             ],
             [
              0.7777777777777778,
              "#fb9f3a"
             ],
             [
              0.8888888888888888,
              "#fdca26"
             ],
             [
              1,
              "#f0f921"
             ]
            ],
            "type": "histogram2d"
           }
          ],
          "histogram2dcontour": [
           {
            "colorbar": {
             "outlinewidth": 0,
             "ticks": ""
            },
            "colorscale": [
             [
              0,
              "#0d0887"
             ],
             [
              0.1111111111111111,
              "#46039f"
             ],
             [
              0.2222222222222222,
              "#7201a8"
             ],
             [
              0.3333333333333333,
              "#9c179e"
             ],
             [
              0.4444444444444444,
              "#bd3786"
             ],
             [
              0.5555555555555556,
              "#d8576b"
             ],
             [
              0.6666666666666666,
              "#ed7953"
             ],
             [
              0.7777777777777778,
              "#fb9f3a"
             ],
             [
              0.8888888888888888,
              "#fdca26"
             ],
             [
              1,
              "#f0f921"
             ]
            ],
            "type": "histogram2dcontour"
           }
          ],
          "mesh3d": [
           {
            "colorbar": {
             "outlinewidth": 0,
             "ticks": ""
            },
            "type": "mesh3d"
           }
          ],
          "parcoords": [
           {
            "line": {
             "colorbar": {
              "outlinewidth": 0,
              "ticks": ""
             }
            },
            "type": "parcoords"
           }
          ],
          "pie": [
           {
            "automargin": true,
            "type": "pie"
           }
          ],
          "scatter": [
           {
            "fillpattern": {
             "fillmode": "overlay",
             "size": 10,
             "solidity": 0.2
            },
            "type": "scatter"
           }
          ],
          "scatter3d": [
           {
            "line": {
             "colorbar": {
              "outlinewidth": 0,
              "ticks": ""
             }
            },
            "marker": {
             "colorbar": {
              "outlinewidth": 0,
              "ticks": ""
             }
            },
            "type": "scatter3d"
           }
          ],
          "scattercarpet": [
           {
            "marker": {
             "colorbar": {
              "outlinewidth": 0,
              "ticks": ""
             }
            },
            "type": "scattercarpet"
           }
          ],
          "scattergeo": [
           {
            "marker": {
             "colorbar": {
              "outlinewidth": 0,
              "ticks": ""
             }
            },
            "type": "scattergeo"
           }
          ],
          "scattergl": [
           {
            "marker": {
             "colorbar": {
              "outlinewidth": 0,
              "ticks": ""
             }
            },
            "type": "scattergl"
           }
          ],
          "scattermapbox": [
           {
            "marker": {
             "colorbar": {
              "outlinewidth": 0,
              "ticks": ""
             }
            },
            "type": "scattermapbox"
           }
          ],
          "scatterpolar": [
           {
            "marker": {
             "colorbar": {
              "outlinewidth": 0,
              "ticks": ""
             }
            },
            "type": "scatterpolar"
           }
          ],
          "scatterpolargl": [
           {
            "marker": {
             "colorbar": {
              "outlinewidth": 0,
              "ticks": ""
             }
            },
            "type": "scatterpolargl"
           }
          ],
          "scatterternary": [
           {
            "marker": {
             "colorbar": {
              "outlinewidth": 0,
              "ticks": ""
             }
            },
            "type": "scatterternary"
           }
          ],
          "surface": [
           {
            "colorbar": {
             "outlinewidth": 0,
             "ticks": ""
            },
            "colorscale": [
             [
              0,
              "#0d0887"
             ],
             [
              0.1111111111111111,
              "#46039f"
             ],
             [
              0.2222222222222222,
              "#7201a8"
             ],
             [
              0.3333333333333333,
              "#9c179e"
             ],
             [
              0.4444444444444444,
              "#bd3786"
             ],
             [
              0.5555555555555556,
              "#d8576b"
             ],
             [
              0.6666666666666666,
              "#ed7953"
             ],
             [
              0.7777777777777778,
              "#fb9f3a"
             ],
             [
              0.8888888888888888,
              "#fdca26"
             ],
             [
              1,
              "#f0f921"
             ]
            ],
            "type": "surface"
           }
          ],
          "table": [
           {
            "cells": {
             "fill": {
              "color": "#EBF0F8"
             },
             "line": {
              "color": "white"
             }
            },
            "header": {
             "fill": {
              "color": "#C8D4E3"
             },
             "line": {
              "color": "white"
             }
            },
            "type": "table"
           }
          ]
         },
         "layout": {
          "annotationdefaults": {
           "arrowcolor": "#2a3f5f",
           "arrowhead": 0,
           "arrowwidth": 1
          },
          "autotypenumbers": "strict",
          "coloraxis": {
           "colorbar": {
            "outlinewidth": 0,
            "ticks": ""
           }
          },
          "colorscale": {
           "diverging": [
            [
             0,
             "#8e0152"
            ],
            [
             0.1,
             "#c51b7d"
            ],
            [
             0.2,
             "#de77ae"
            ],
            [
             0.3,
             "#f1b6da"
            ],
            [
             0.4,
             "#fde0ef"
            ],
            [
             0.5,
             "#f7f7f7"
            ],
            [
             0.6,
             "#e6f5d0"
            ],
            [
             0.7,
             "#b8e186"
            ],
            [
             0.8,
             "#7fbc41"
            ],
            [
             0.9,
             "#4d9221"
            ],
            [
             1,
             "#276419"
            ]
           ],
           "sequential": [
            [
             0,
             "#0d0887"
            ],
            [
             0.1111111111111111,
             "#46039f"
            ],
            [
             0.2222222222222222,
             "#7201a8"
            ],
            [
             0.3333333333333333,
             "#9c179e"
            ],
            [
             0.4444444444444444,
             "#bd3786"
            ],
            [
             0.5555555555555556,
             "#d8576b"
            ],
            [
             0.6666666666666666,
             "#ed7953"
            ],
            [
             0.7777777777777778,
             "#fb9f3a"
            ],
            [
             0.8888888888888888,
             "#fdca26"
            ],
            [
             1,
             "#f0f921"
            ]
           ],
           "sequentialminus": [
            [
             0,
             "#0d0887"
            ],
            [
             0.1111111111111111,
             "#46039f"
            ],
            [
             0.2222222222222222,
             "#7201a8"
            ],
            [
             0.3333333333333333,
             "#9c179e"
            ],
            [
             0.4444444444444444,
             "#bd3786"
            ],
            [
             0.5555555555555556,
             "#d8576b"
            ],
            [
             0.6666666666666666,
             "#ed7953"
            ],
            [
             0.7777777777777778,
             "#fb9f3a"
            ],
            [
             0.8888888888888888,
             "#fdca26"
            ],
            [
             1,
             "#f0f921"
            ]
           ]
          },
          "colorway": [
           "#636efa",
           "#EF553B",
           "#00cc96",
           "#ab63fa",
           "#FFA15A",
           "#19d3f3",
           "#FF6692",
           "#B6E880",
           "#FF97FF",
           "#FECB52"
          ],
          "font": {
           "color": "#2a3f5f"
          },
          "geo": {
           "bgcolor": "white",
           "lakecolor": "white",
           "landcolor": "#E5ECF6",
           "showlakes": true,
           "showland": true,
           "subunitcolor": "white"
          },
          "hoverlabel": {
           "align": "left"
          },
          "hovermode": "closest",
          "mapbox": {
           "style": "light"
          },
          "paper_bgcolor": "white",
          "plot_bgcolor": "#E5ECF6",
          "polar": {
           "angularaxis": {
            "gridcolor": "white",
            "linecolor": "white",
            "ticks": ""
           },
           "bgcolor": "#E5ECF6",
           "radialaxis": {
            "gridcolor": "white",
            "linecolor": "white",
            "ticks": ""
           }
          },
          "scene": {
           "xaxis": {
            "backgroundcolor": "#E5ECF6",
            "gridcolor": "white",
            "gridwidth": 2,
            "linecolor": "white",
            "showbackground": true,
            "ticks": "",
            "zerolinecolor": "white"
           },
           "yaxis": {
            "backgroundcolor": "#E5ECF6",
            "gridcolor": "white",
            "gridwidth": 2,
            "linecolor": "white",
            "showbackground": true,
            "ticks": "",
            "zerolinecolor": "white"
           },
           "zaxis": {
            "backgroundcolor": "#E5ECF6",
            "gridcolor": "white",
            "gridwidth": 2,
            "linecolor": "white",
            "showbackground": true,
            "ticks": "",
            "zerolinecolor": "white"
           }
          },
          "shapedefaults": {
           "line": {
            "color": "#2a3f5f"
           }
          },
          "ternary": {
           "aaxis": {
            "gridcolor": "white",
            "linecolor": "white",
            "ticks": ""
           },
           "baxis": {
            "gridcolor": "white",
            "linecolor": "white",
            "ticks": ""
           },
           "bgcolor": "#E5ECF6",
           "caxis": {
            "gridcolor": "white",
            "linecolor": "white",
            "ticks": ""
           }
          },
          "title": {
           "x": 0.05
          },
          "xaxis": {
           "automargin": true,
           "gridcolor": "white",
           "linecolor": "white",
           "ticks": "",
           "title": {
            "standoff": 15
           },
           "zerolinecolor": "white",
           "zerolinewidth": 2
          },
          "yaxis": {
           "automargin": true,
           "gridcolor": "white",
           "linecolor": "white",
           "ticks": "",
           "title": {
            "standoff": 15
           },
           "zerolinecolor": "white",
           "zerolinewidth": 2
          }
         }
        },
        "xaxis": {
         "anchor": "y",
         "domain": [
          0,
          1
         ],
         "title": {
          "text": "year"
         }
        },
        "yaxis": {
         "anchor": "x",
         "domain": [
          0,
          1
         ],
         "title": {
          "text": "value"
         }
        }
       }
      }
     },
     "metadata": {},
     "output_type": "display_data"
    }
   ],
   "source": [
    "pop_df = pd.read_csv(csv_path)\n",
    "pop_df = pop_df.set_index(['year'])\n",
    "pop_df['population'].plot()"
   ]
  },
  {
   "cell_type": "markdown",
   "metadata": {},
   "source": [
    "### Birth rate"
   ]
  },
  {
   "cell_type": "code",
   "execution_count": 7,
   "metadata": {},
   "outputs": [
    {
     "data": {
      "application/vnd.plotly.v1+json": {
       "config": {
        "plotlyServerURL": "https://plot.ly"
       },
       "data": [
        {
         "hovertemplate": "variable=0<br>mean_year=%{x}<br>value=%{y}<extra></extra>",
         "legendgroup": "0",
         "line": {
          "color": "#636efa",
          "dash": "solid"
         },
         "marker": {
          "symbol": "circle"
         },
         "mode": "markers+lines",
         "name": "0",
         "orientation": "v",
         "showlegend": true,
         "type": "scatter",
         "x": [
          1952.5,
          1957.5,
          1962.5,
          1967.5,
          1972.5,
          1977.5,
          1982.5,
          1987.5,
          1992.5,
          1997.5,
          2002.5,
          2007.5,
          2012.5,
          2017.5
         ],
         "xaxis": "x",
         "y": [
          0.039776000000000006,
          0.042731000000000005,
          0.040619999999999996,
          0.037357,
          0.035531,
          0.032790999999999994,
          0.031293,
          0.029655,
          0.026611,
          0.019188,
          0.016832999999999997,
          0.017184,
          0.017283,
          0.016945
         ],
         "yaxis": "y"
        }
       ],
       "layout": {
        "legend": {
         "title": {
          "text": "variable"
         },
         "tracegroupgap": 0
        },
        "margin": {
         "t": 60
        },
        "showlegend": false,
        "template": {
         "data": {
          "bar": [
           {
            "error_x": {
             "color": "#2a3f5f"
            },
            "error_y": {
             "color": "#2a3f5f"
            },
            "marker": {
             "line": {
              "color": "#E5ECF6",
              "width": 0.5
             },
             "pattern": {
              "fillmode": "overlay",
              "size": 10,
              "solidity": 0.2
             }
            },
            "type": "bar"
           }
          ],
          "barpolar": [
           {
            "marker": {
             "line": {
              "color": "#E5ECF6",
              "width": 0.5
             },
             "pattern": {
              "fillmode": "overlay",
              "size": 10,
              "solidity": 0.2
             }
            },
            "type": "barpolar"
           }
          ],
          "carpet": [
           {
            "aaxis": {
             "endlinecolor": "#2a3f5f",
             "gridcolor": "white",
             "linecolor": "white",
             "minorgridcolor": "white",
             "startlinecolor": "#2a3f5f"
            },
            "baxis": {
             "endlinecolor": "#2a3f5f",
             "gridcolor": "white",
             "linecolor": "white",
             "minorgridcolor": "white",
             "startlinecolor": "#2a3f5f"
            },
            "type": "carpet"
           }
          ],
          "choropleth": [
           {
            "colorbar": {
             "outlinewidth": 0,
             "ticks": ""
            },
            "type": "choropleth"
           }
          ],
          "contour": [
           {
            "colorbar": {
             "outlinewidth": 0,
             "ticks": ""
            },
            "colorscale": [
             [
              0,
              "#0d0887"
             ],
             [
              0.1111111111111111,
              "#46039f"
             ],
             [
              0.2222222222222222,
              "#7201a8"
             ],
             [
              0.3333333333333333,
              "#9c179e"
             ],
             [
              0.4444444444444444,
              "#bd3786"
             ],
             [
              0.5555555555555556,
              "#d8576b"
             ],
             [
              0.6666666666666666,
              "#ed7953"
             ],
             [
              0.7777777777777778,
              "#fb9f3a"
             ],
             [
              0.8888888888888888,
              "#fdca26"
             ],
             [
              1,
              "#f0f921"
             ]
            ],
            "type": "contour"
           }
          ],
          "contourcarpet": [
           {
            "colorbar": {
             "outlinewidth": 0,
             "ticks": ""
            },
            "type": "contourcarpet"
           }
          ],
          "heatmap": [
           {
            "colorbar": {
             "outlinewidth": 0,
             "ticks": ""
            },
            "colorscale": [
             [
              0,
              "#0d0887"
             ],
             [
              0.1111111111111111,
              "#46039f"
             ],
             [
              0.2222222222222222,
              "#7201a8"
             ],
             [
              0.3333333333333333,
              "#9c179e"
             ],
             [
              0.4444444444444444,
              "#bd3786"
             ],
             [
              0.5555555555555556,
              "#d8576b"
             ],
             [
              0.6666666666666666,
              "#ed7953"
             ],
             [
              0.7777777777777778,
              "#fb9f3a"
             ],
             [
              0.8888888888888888,
              "#fdca26"
             ],
             [
              1,
              "#f0f921"
             ]
            ],
            "type": "heatmap"
           }
          ],
          "heatmapgl": [
           {
            "colorbar": {
             "outlinewidth": 0,
             "ticks": ""
            },
            "colorscale": [
             [
              0,
              "#0d0887"
             ],
             [
              0.1111111111111111,
              "#46039f"
             ],
             [
              0.2222222222222222,
              "#7201a8"
             ],
             [
              0.3333333333333333,
              "#9c179e"
             ],
             [
              0.4444444444444444,
              "#bd3786"
             ],
             [
              0.5555555555555556,
              "#d8576b"
             ],
             [
              0.6666666666666666,
              "#ed7953"
             ],
             [
              0.7777777777777778,
              "#fb9f3a"
             ],
             [
              0.8888888888888888,
              "#fdca26"
             ],
             [
              1,
              "#f0f921"
             ]
            ],
            "type": "heatmapgl"
           }
          ],
          "histogram": [
           {
            "marker": {
             "pattern": {
              "fillmode": "overlay",
              "size": 10,
              "solidity": 0.2
             }
            },
            "type": "histogram"
           }
          ],
          "histogram2d": [
           {
            "colorbar": {
             "outlinewidth": 0,
             "ticks": ""
            },
            "colorscale": [
             [
              0,
              "#0d0887"
             ],
             [
              0.1111111111111111,
              "#46039f"
             ],
             [
              0.2222222222222222,
              "#7201a8"
             ],
             [
              0.3333333333333333,
              "#9c179e"
             ],
             [
              0.4444444444444444,
              "#bd3786"
             ],
             [
              0.5555555555555556,
              "#d8576b"
             ],
             [
              0.6666666666666666,
              "#ed7953"
             ],
             [
              0.7777777777777778,
              "#fb9f3a"
             ],
             [
              0.8888888888888888,
              "#fdca26"
             ],
             [
              1,
              "#f0f921"
             ]
            ],
            "type": "histogram2d"
           }
          ],
          "histogram2dcontour": [
           {
            "colorbar": {
             "outlinewidth": 0,
             "ticks": ""
            },
            "colorscale": [
             [
              0,
              "#0d0887"
             ],
             [
              0.1111111111111111,
              "#46039f"
             ],
             [
              0.2222222222222222,
              "#7201a8"
             ],
             [
              0.3333333333333333,
              "#9c179e"
             ],
             [
              0.4444444444444444,
              "#bd3786"
             ],
             [
              0.5555555555555556,
              "#d8576b"
             ],
             [
              0.6666666666666666,
              "#ed7953"
             ],
             [
              0.7777777777777778,
              "#fb9f3a"
             ],
             [
              0.8888888888888888,
              "#fdca26"
             ],
             [
              1,
              "#f0f921"
             ]
            ],
            "type": "histogram2dcontour"
           }
          ],
          "mesh3d": [
           {
            "colorbar": {
             "outlinewidth": 0,
             "ticks": ""
            },
            "type": "mesh3d"
           }
          ],
          "parcoords": [
           {
            "line": {
             "colorbar": {
              "outlinewidth": 0,
              "ticks": ""
             }
            },
            "type": "parcoords"
           }
          ],
          "pie": [
           {
            "automargin": true,
            "type": "pie"
           }
          ],
          "scatter": [
           {
            "fillpattern": {
             "fillmode": "overlay",
             "size": 10,
             "solidity": 0.2
            },
            "type": "scatter"
           }
          ],
          "scatter3d": [
           {
            "line": {
             "colorbar": {
              "outlinewidth": 0,
              "ticks": ""
             }
            },
            "marker": {
             "colorbar": {
              "outlinewidth": 0,
              "ticks": ""
             }
            },
            "type": "scatter3d"
           }
          ],
          "scattercarpet": [
           {
            "marker": {
             "colorbar": {
              "outlinewidth": 0,
              "ticks": ""
             }
            },
            "type": "scattercarpet"
           }
          ],
          "scattergeo": [
           {
            "marker": {
             "colorbar": {
              "outlinewidth": 0,
              "ticks": ""
             }
            },
            "type": "scattergeo"
           }
          ],
          "scattergl": [
           {
            "marker": {
             "colorbar": {
              "outlinewidth": 0,
              "ticks": ""
             }
            },
            "type": "scattergl"
           }
          ],
          "scattermapbox": [
           {
            "marker": {
             "colorbar": {
              "outlinewidth": 0,
              "ticks": ""
             }
            },
            "type": "scattermapbox"
           }
          ],
          "scatterpolar": [
           {
            "marker": {
             "colorbar": {
              "outlinewidth": 0,
              "ticks": ""
             }
            },
            "type": "scatterpolar"
           }
          ],
          "scatterpolargl": [
           {
            "marker": {
             "colorbar": {
              "outlinewidth": 0,
              "ticks": ""
             }
            },
            "type": "scatterpolargl"
           }
          ],
          "scatterternary": [
           {
            "marker": {
             "colorbar": {
              "outlinewidth": 0,
              "ticks": ""
             }
            },
            "type": "scatterternary"
           }
          ],
          "surface": [
           {
            "colorbar": {
             "outlinewidth": 0,
             "ticks": ""
            },
            "colorscale": [
             [
              0,
              "#0d0887"
             ],
             [
              0.1111111111111111,
              "#46039f"
             ],
             [
              0.2222222222222222,
              "#7201a8"
             ],
             [
              0.3333333333333333,
              "#9c179e"
             ],
             [
              0.4444444444444444,
              "#bd3786"
             ],
             [
              0.5555555555555556,
              "#d8576b"
             ],
             [
              0.6666666666666666,
              "#ed7953"
             ],
             [
              0.7777777777777778,
              "#fb9f3a"
             ],
             [
              0.8888888888888888,
              "#fdca26"
             ],
             [
              1,
              "#f0f921"
             ]
            ],
            "type": "surface"
           }
          ],
          "table": [
           {
            "cells": {
             "fill": {
              "color": "#EBF0F8"
             },
             "line": {
              "color": "white"
             }
            },
            "header": {
             "fill": {
              "color": "#C8D4E3"
             },
             "line": {
              "color": "white"
             }
            },
            "type": "table"
           }
          ]
         },
         "layout": {
          "annotationdefaults": {
           "arrowcolor": "#2a3f5f",
           "arrowhead": 0,
           "arrowwidth": 1
          },
          "autotypenumbers": "strict",
          "coloraxis": {
           "colorbar": {
            "outlinewidth": 0,
            "ticks": ""
           }
          },
          "colorscale": {
           "diverging": [
            [
             0,
             "#8e0152"
            ],
            [
             0.1,
             "#c51b7d"
            ],
            [
             0.2,
             "#de77ae"
            ],
            [
             0.3,
             "#f1b6da"
            ],
            [
             0.4,
             "#fde0ef"
            ],
            [
             0.5,
             "#f7f7f7"
            ],
            [
             0.6,
             "#e6f5d0"
            ],
            [
             0.7,
             "#b8e186"
            ],
            [
             0.8,
             "#7fbc41"
            ],
            [
             0.9,
             "#4d9221"
            ],
            [
             1,
             "#276419"
            ]
           ],
           "sequential": [
            [
             0,
             "#0d0887"
            ],
            [
             0.1111111111111111,
             "#46039f"
            ],
            [
             0.2222222222222222,
             "#7201a8"
            ],
            [
             0.3333333333333333,
             "#9c179e"
            ],
            [
             0.4444444444444444,
             "#bd3786"
            ],
            [
             0.5555555555555556,
             "#d8576b"
            ],
            [
             0.6666666666666666,
             "#ed7953"
            ],
            [
             0.7777777777777778,
             "#fb9f3a"
            ],
            [
             0.8888888888888888,
             "#fdca26"
            ],
            [
             1,
             "#f0f921"
            ]
           ],
           "sequentialminus": [
            [
             0,
             "#0d0887"
            ],
            [
             0.1111111111111111,
             "#46039f"
            ],
            [
             0.2222222222222222,
             "#7201a8"
            ],
            [
             0.3333333333333333,
             "#9c179e"
            ],
            [
             0.4444444444444444,
             "#bd3786"
            ],
            [
             0.5555555555555556,
             "#d8576b"
            ],
            [
             0.6666666666666666,
             "#ed7953"
            ],
            [
             0.7777777777777778,
             "#fb9f3a"
            ],
            [
             0.8888888888888888,
             "#fdca26"
            ],
            [
             1,
             "#f0f921"
            ]
           ]
          },
          "colorway": [
           "#636efa",
           "#EF553B",
           "#00cc96",
           "#ab63fa",
           "#FFA15A",
           "#19d3f3",
           "#FF6692",
           "#B6E880",
           "#FF97FF",
           "#FECB52"
          ],
          "font": {
           "color": "#2a3f5f"
          },
          "geo": {
           "bgcolor": "white",
           "lakecolor": "white",
           "landcolor": "#E5ECF6",
           "showlakes": true,
           "showland": true,
           "subunitcolor": "white"
          },
          "hoverlabel": {
           "align": "left"
          },
          "hovermode": "closest",
          "mapbox": {
           "style": "light"
          },
          "paper_bgcolor": "white",
          "plot_bgcolor": "#E5ECF6",
          "polar": {
           "angularaxis": {
            "gridcolor": "white",
            "linecolor": "white",
            "ticks": ""
           },
           "bgcolor": "#E5ECF6",
           "radialaxis": {
            "gridcolor": "white",
            "linecolor": "white",
            "ticks": ""
           }
          },
          "scene": {
           "xaxis": {
            "backgroundcolor": "#E5ECF6",
            "gridcolor": "white",
            "gridwidth": 2,
            "linecolor": "white",
            "showbackground": true,
            "ticks": "",
            "zerolinecolor": "white"
           },
           "yaxis": {
            "backgroundcolor": "#E5ECF6",
            "gridcolor": "white",
            "gridwidth": 2,
            "linecolor": "white",
            "showbackground": true,
            "ticks": "",
            "zerolinecolor": "white"
           },
           "zaxis": {
            "backgroundcolor": "#E5ECF6",
            "gridcolor": "white",
            "gridwidth": 2,
            "linecolor": "white",
            "showbackground": true,
            "ticks": "",
            "zerolinecolor": "white"
           }
          },
          "shapedefaults": {
           "line": {
            "color": "#2a3f5f"
           }
          },
          "ternary": {
           "aaxis": {
            "gridcolor": "white",
            "linecolor": "white",
            "ticks": ""
           },
           "baxis": {
            "gridcolor": "white",
            "linecolor": "white",
            "ticks": ""
           },
           "bgcolor": "#E5ECF6",
           "caxis": {
            "gridcolor": "white",
            "linecolor": "white",
            "ticks": ""
           }
          },
          "title": {
           "x": 0.05
          },
          "xaxis": {
           "automargin": true,
           "gridcolor": "white",
           "linecolor": "white",
           "ticks": "",
           "title": {
            "standoff": 15
           },
           "zerolinecolor": "white",
           "zerolinewidth": 2
          },
          "yaxis": {
           "automargin": true,
           "gridcolor": "white",
           "linecolor": "white",
           "ticks": "",
           "title": {
            "standoff": 15
           },
           "zerolinecolor": "white",
           "zerolinewidth": 2
          }
         }
        },
        "title": {
         "text": "Crude birth rate of Ca Mau",
         "x": 0.5
        },
        "xaxis": {
         "anchor": "y",
         "domain": [
          0,
          1
         ],
         "title": {
          "text": "Year"
         }
        },
        "yaxis": {
         "anchor": "x",
         "domain": [
          0,
          1
         ],
         "title": {
          "text": "Crude birth rate"
         }
        }
       }
      }
     },
     "metadata": {},
     "output_type": "display_data"
    }
   ],
   "source": [
    "birth_rates, years = inputs.get_crude_birth_rate(\"VNM\")\n",
    "birth_rates = [b / 1000.0 for b in birth_rates]  # Birth rates are provided / 1000 population\n",
    "birth_rates_series = pd.Series(birth_rates, index=years)\n",
    "br_fig= px.line(birth_rates_series)\n",
    "br_fig.update_traces(mode='markers+lines')\n",
    "br_fig.update_layout(\n",
    "    title=\"Crude birth rate of Ca Mau\",\n",
    "    title_x=0.5,\n",
    "    xaxis_title=\"Year\",\n",
    "    yaxis_title=\"Crude birth rate\",\n",
    "    showlegend=False,\n",
    ")"
   ]
  },
  {
   "cell_type": "markdown",
   "metadata": {},
   "source": [
    "### Death rate"
   ]
  },
  {
   "cell_type": "code",
   "execution_count": 8,
   "metadata": {},
   "outputs": [
    {
     "data": {
      "application/vnd.plotly.v1+json": {
       "config": {
        "plotlyServerURL": "https://plot.ly"
       },
       "data": [
        {
         "hovertemplate": "variable=0<br>index=%{x}<br>value=%{y}<extra></extra>",
         "legendgroup": "0",
         "line": {
          "color": "#636efa",
          "dash": "solid"
         },
         "marker": {
          "symbol": "circle"
         },
         "mode": "lines",
         "name": "0",
         "orientation": "v",
         "showlegend": true,
         "type": "scatter",
         "x": [
          1952.5,
          1957.5,
          1962.5,
          1967.5,
          1972.5,
          1977.5,
          1982.5,
          1987.5,
          1992.5,
          1997.5,
          2002.5,
          2007.5,
          2012.5,
          2017.5
         ],
         "xaxis": "x",
         "y": [
          20.444904341792885,
          29.482289787646447,
          40.92870955537183,
          51.524661918973464,
          55.101367058904295,
          68.79803186925655,
          76.71359700715429,
          88.85590162574651,
          107.40428581498624,
          163.43903102398104,
          176.10675992731154,
          187.4948765902168,
          209.04345380641195,
          230.69309620399886
         ],
         "yaxis": "y"
        },
        {
         "hovertemplate": "variable=5<br>index=%{x}<br>value=%{y}<extra></extra>",
         "legendgroup": "5",
         "line": {
          "color": "#EF553B",
          "dash": "solid"
         },
         "marker": {
          "symbol": "circle"
         },
         "mode": "lines",
         "name": "5",
         "orientation": "v",
         "showlegend": true,
         "type": "scatter",
         "x": [
          1952.5,
          1957.5,
          1962.5,
          1967.5,
          1972.5,
          1977.5,
          1982.5,
          1987.5,
          1992.5,
          1997.5,
          2002.5,
          2007.5,
          2012.5,
          2017.5
         ],
         "xaxis": "x",
         "y": [
          176.83987589529352,
          188.77632025552168,
          223.88948610437018,
          259.9896036663088,
          195.77214329202965,
          368.8090233800744,
          465.6717862038214,
          599.123905084914,
          759.6269012165749,
          982.1480537859496,
          1342.7895262698664,
          1767.211344489547,
          1837.7901975545442,
          1960.5681748514673
         ],
         "yaxis": "y"
        },
        {
         "hovertemplate": "variable=15<br>index=%{x}<br>value=%{y}<extra></extra>",
         "legendgroup": "15",
         "line": {
          "color": "#00cc96",
          "dash": "solid"
         },
         "marker": {
          "symbol": "circle"
         },
         "mode": "lines",
         "name": "15",
         "orientation": "v",
         "showlegend": true,
         "type": "scatter",
         "x": [
          1952.5,
          1957.5,
          1962.5,
          1967.5,
          1972.5,
          1977.5,
          1982.5,
          1987.5,
          1992.5,
          1997.5,
          2002.5,
          2007.5,
          2012.5,
          2017.5
         ],
         "xaxis": "x",
         "y": [
          327.68099208997137,
          370.26682491974674,
          401.63246998999637,
          386.905219527685,
          244.57012387080678,
          417.9244525793353,
          452.53549842583084,
          530.4116708804005,
          603.0983083954414,
          654.5669009282569,
          700.7397580397,
          771.9869119199767,
          809.2902053471516,
          852.5274850903924
         ],
         "yaxis": "y"
        },
        {
         "hovertemplate": "variable=35<br>index=%{x}<br>value=%{y}<extra></extra>",
         "legendgroup": "35",
         "line": {
          "color": "#ab63fa",
          "dash": "solid"
         },
         "marker": {
          "symbol": "circle"
         },
         "mode": "lines",
         "name": "35",
         "orientation": "v",
         "showlegend": true,
         "type": "scatter",
         "x": [
          1952.5,
          1957.5,
          1962.5,
          1967.5,
          1972.5,
          1977.5,
          1982.5,
          1987.5,
          1992.5,
          1997.5,
          2002.5,
          2007.5,
          2012.5,
          2017.5
         ],
         "xaxis": "x",
         "y": [
          106.53391485233813,
          126.69880902166264,
          153.44164960346131,
          159.72170890710618,
          115.08571690600395,
          208.71756438047228,
          239.2812822666623,
          244.28634466315282,
          248.06716846742344,
          255.90166107974255,
          286.6458962808636,
          316.9016276011846,
          328.9101996655841,
          335.54695559093363
         ],
         "yaxis": "y"
        },
        {
         "hovertemplate": "variable=50<br>index=%{x}<br>value=%{y}<extra></extra>",
         "legendgroup": "50",
         "line": {
          "color": "#FFA15A",
          "dash": "solid"
         },
         "marker": {
          "symbol": "circle"
         },
         "mode": "lines",
         "name": "50",
         "orientation": "v",
         "showlegend": true,
         "type": "scatter",
         "x": [
          1952.5,
          1957.5,
          1962.5,
          1967.5,
          1972.5,
          1977.5,
          1982.5,
          1987.5,
          1992.5,
          1997.5,
          2002.5,
          2007.5,
          2012.5,
          2017.5
         ],
         "xaxis": "x",
         "y": [
          7.056354722182018,
          7.14042329119906,
          7.117379668530624,
          7.147291128487501,
          6.913041910849589,
          8.196759683236078,
          8.697342724004898,
          9.417083981476397,
          10.226246110948376,
          10.879878196983078,
          11.623779855731188,
          11.862894485814962,
          12.296475270781523,
          12.332342428788765
         ],
         "yaxis": "y"
        }
       ],
       "layout": {
        "legend": {
         "title": {
          "text": "variable"
         },
         "tracegroupgap": 0
        },
        "margin": {
         "t": 60
        },
        "template": {
         "data": {
          "bar": [
           {
            "error_x": {
             "color": "#2a3f5f"
            },
            "error_y": {
             "color": "#2a3f5f"
            },
            "marker": {
             "line": {
              "color": "#E5ECF6",
              "width": 0.5
             },
             "pattern": {
              "fillmode": "overlay",
              "size": 10,
              "solidity": 0.2
             }
            },
            "type": "bar"
           }
          ],
          "barpolar": [
           {
            "marker": {
             "line": {
              "color": "#E5ECF6",
              "width": 0.5
             },
             "pattern": {
              "fillmode": "overlay",
              "size": 10,
              "solidity": 0.2
             }
            },
            "type": "barpolar"
           }
          ],
          "carpet": [
           {
            "aaxis": {
             "endlinecolor": "#2a3f5f",
             "gridcolor": "white",
             "linecolor": "white",
             "minorgridcolor": "white",
             "startlinecolor": "#2a3f5f"
            },
            "baxis": {
             "endlinecolor": "#2a3f5f",
             "gridcolor": "white",
             "linecolor": "white",
             "minorgridcolor": "white",
             "startlinecolor": "#2a3f5f"
            },
            "type": "carpet"
           }
          ],
          "choropleth": [
           {
            "colorbar": {
             "outlinewidth": 0,
             "ticks": ""
            },
            "type": "choropleth"
           }
          ],
          "contour": [
           {
            "colorbar": {
             "outlinewidth": 0,
             "ticks": ""
            },
            "colorscale": [
             [
              0,
              "#0d0887"
             ],
             [
              0.1111111111111111,
              "#46039f"
             ],
             [
              0.2222222222222222,
              "#7201a8"
             ],
             [
              0.3333333333333333,
              "#9c179e"
             ],
             [
              0.4444444444444444,
              "#bd3786"
             ],
             [
              0.5555555555555556,
              "#d8576b"
             ],
             [
              0.6666666666666666,
              "#ed7953"
             ],
             [
              0.7777777777777778,
              "#fb9f3a"
             ],
             [
              0.8888888888888888,
              "#fdca26"
             ],
             [
              1,
              "#f0f921"
             ]
            ],
            "type": "contour"
           }
          ],
          "contourcarpet": [
           {
            "colorbar": {
             "outlinewidth": 0,
             "ticks": ""
            },
            "type": "contourcarpet"
           }
          ],
          "heatmap": [
           {
            "colorbar": {
             "outlinewidth": 0,
             "ticks": ""
            },
            "colorscale": [
             [
              0,
              "#0d0887"
             ],
             [
              0.1111111111111111,
              "#46039f"
             ],
             [
              0.2222222222222222,
              "#7201a8"
             ],
             [
              0.3333333333333333,
              "#9c179e"
             ],
             [
              0.4444444444444444,
              "#bd3786"
             ],
             [
              0.5555555555555556,
              "#d8576b"
             ],
             [
              0.6666666666666666,
              "#ed7953"
             ],
             [
              0.7777777777777778,
              "#fb9f3a"
             ],
             [
              0.8888888888888888,
              "#fdca26"
             ],
             [
              1,
              "#f0f921"
             ]
            ],
            "type": "heatmap"
           }
          ],
          "heatmapgl": [
           {
            "colorbar": {
             "outlinewidth": 0,
             "ticks": ""
            },
            "colorscale": [
             [
              0,
              "#0d0887"
             ],
             [
              0.1111111111111111,
              "#46039f"
             ],
             [
              0.2222222222222222,
              "#7201a8"
             ],
             [
              0.3333333333333333,
              "#9c179e"
             ],
             [
              0.4444444444444444,
              "#bd3786"
             ],
             [
              0.5555555555555556,
              "#d8576b"
             ],
             [
              0.6666666666666666,
              "#ed7953"
             ],
             [
              0.7777777777777778,
              "#fb9f3a"
             ],
             [
              0.8888888888888888,
              "#fdca26"
             ],
             [
              1,
              "#f0f921"
             ]
            ],
            "type": "heatmapgl"
           }
          ],
          "histogram": [
           {
            "marker": {
             "pattern": {
              "fillmode": "overlay",
              "size": 10,
              "solidity": 0.2
             }
            },
            "type": "histogram"
           }
          ],
          "histogram2d": [
           {
            "colorbar": {
             "outlinewidth": 0,
             "ticks": ""
            },
            "colorscale": [
             [
              0,
              "#0d0887"
             ],
             [
              0.1111111111111111,
              "#46039f"
             ],
             [
              0.2222222222222222,
              "#7201a8"
             ],
             [
              0.3333333333333333,
              "#9c179e"
             ],
             [
              0.4444444444444444,
              "#bd3786"
             ],
             [
              0.5555555555555556,
              "#d8576b"
             ],
             [
              0.6666666666666666,
              "#ed7953"
             ],
             [
              0.7777777777777778,
              "#fb9f3a"
             ],
             [
              0.8888888888888888,
              "#fdca26"
             ],
             [
              1,
              "#f0f921"
             ]
            ],
            "type": "histogram2d"
           }
          ],
          "histogram2dcontour": [
           {
            "colorbar": {
             "outlinewidth": 0,
             "ticks": ""
            },
            "colorscale": [
             [
              0,
              "#0d0887"
             ],
             [
              0.1111111111111111,
              "#46039f"
             ],
             [
              0.2222222222222222,
              "#7201a8"
             ],
             [
              0.3333333333333333,
              "#9c179e"
             ],
             [
              0.4444444444444444,
              "#bd3786"
             ],
             [
              0.5555555555555556,
              "#d8576b"
             ],
             [
              0.6666666666666666,
              "#ed7953"
             ],
             [
              0.7777777777777778,
              "#fb9f3a"
             ],
             [
              0.8888888888888888,
              "#fdca26"
             ],
             [
              1,
              "#f0f921"
             ]
            ],
            "type": "histogram2dcontour"
           }
          ],
          "mesh3d": [
           {
            "colorbar": {
             "outlinewidth": 0,
             "ticks": ""
            },
            "type": "mesh3d"
           }
          ],
          "parcoords": [
           {
            "line": {
             "colorbar": {
              "outlinewidth": 0,
              "ticks": ""
             }
            },
            "type": "parcoords"
           }
          ],
          "pie": [
           {
            "automargin": true,
            "type": "pie"
           }
          ],
          "scatter": [
           {
            "fillpattern": {
             "fillmode": "overlay",
             "size": 10,
             "solidity": 0.2
            },
            "type": "scatter"
           }
          ],
          "scatter3d": [
           {
            "line": {
             "colorbar": {
              "outlinewidth": 0,
              "ticks": ""
             }
            },
            "marker": {
             "colorbar": {
              "outlinewidth": 0,
              "ticks": ""
             }
            },
            "type": "scatter3d"
           }
          ],
          "scattercarpet": [
           {
            "marker": {
             "colorbar": {
              "outlinewidth": 0,
              "ticks": ""
             }
            },
            "type": "scattercarpet"
           }
          ],
          "scattergeo": [
           {
            "marker": {
             "colorbar": {
              "outlinewidth": 0,
              "ticks": ""
             }
            },
            "type": "scattergeo"
           }
          ],
          "scattergl": [
           {
            "marker": {
             "colorbar": {
              "outlinewidth": 0,
              "ticks": ""
             }
            },
            "type": "scattergl"
           }
          ],
          "scattermapbox": [
           {
            "marker": {
             "colorbar": {
              "outlinewidth": 0,
              "ticks": ""
             }
            },
            "type": "scattermapbox"
           }
          ],
          "scatterpolar": [
           {
            "marker": {
             "colorbar": {
              "outlinewidth": 0,
              "ticks": ""
             }
            },
            "type": "scatterpolar"
           }
          ],
          "scatterpolargl": [
           {
            "marker": {
             "colorbar": {
              "outlinewidth": 0,
              "ticks": ""
             }
            },
            "type": "scatterpolargl"
           }
          ],
          "scatterternary": [
           {
            "marker": {
             "colorbar": {
              "outlinewidth": 0,
              "ticks": ""
             }
            },
            "type": "scatterternary"
           }
          ],
          "surface": [
           {
            "colorbar": {
             "outlinewidth": 0,
             "ticks": ""
            },
            "colorscale": [
             [
              0,
              "#0d0887"
             ],
             [
              0.1111111111111111,
              "#46039f"
             ],
             [
              0.2222222222222222,
              "#7201a8"
             ],
             [
              0.3333333333333333,
              "#9c179e"
             ],
             [
              0.4444444444444444,
              "#bd3786"
             ],
             [
              0.5555555555555556,
              "#d8576b"
             ],
             [
              0.6666666666666666,
              "#ed7953"
             ],
             [
              0.7777777777777778,
              "#fb9f3a"
             ],
             [
              0.8888888888888888,
              "#fdca26"
             ],
             [
              1,
              "#f0f921"
             ]
            ],
            "type": "surface"
           }
          ],
          "table": [
           {
            "cells": {
             "fill": {
              "color": "#EBF0F8"
             },
             "line": {
              "color": "white"
             }
            },
            "header": {
             "fill": {
              "color": "#C8D4E3"
             },
             "line": {
              "color": "white"
             }
            },
            "type": "table"
           }
          ]
         },
         "layout": {
          "annotationdefaults": {
           "arrowcolor": "#2a3f5f",
           "arrowhead": 0,
           "arrowwidth": 1
          },
          "autotypenumbers": "strict",
          "coloraxis": {
           "colorbar": {
            "outlinewidth": 0,
            "ticks": ""
           }
          },
          "colorscale": {
           "diverging": [
            [
             0,
             "#8e0152"
            ],
            [
             0.1,
             "#c51b7d"
            ],
            [
             0.2,
             "#de77ae"
            ],
            [
             0.3,
             "#f1b6da"
            ],
            [
             0.4,
             "#fde0ef"
            ],
            [
             0.5,
             "#f7f7f7"
            ],
            [
             0.6,
             "#e6f5d0"
            ],
            [
             0.7,
             "#b8e186"
            ],
            [
             0.8,
             "#7fbc41"
            ],
            [
             0.9,
             "#4d9221"
            ],
            [
             1,
             "#276419"
            ]
           ],
           "sequential": [
            [
             0,
             "#0d0887"
            ],
            [
             0.1111111111111111,
             "#46039f"
            ],
            [
             0.2222222222222222,
             "#7201a8"
            ],
            [
             0.3333333333333333,
             "#9c179e"
            ],
            [
             0.4444444444444444,
             "#bd3786"
            ],
            [
             0.5555555555555556,
             "#d8576b"
            ],
            [
             0.6666666666666666,
             "#ed7953"
            ],
            [
             0.7777777777777778,
             "#fb9f3a"
            ],
            [
             0.8888888888888888,
             "#fdca26"
            ],
            [
             1,
             "#f0f921"
            ]
           ],
           "sequentialminus": [
            [
             0,
             "#0d0887"
            ],
            [
             0.1111111111111111,
             "#46039f"
            ],
            [
             0.2222222222222222,
             "#7201a8"
            ],
            [
             0.3333333333333333,
             "#9c179e"
            ],
            [
             0.4444444444444444,
             "#bd3786"
            ],
            [
             0.5555555555555556,
             "#d8576b"
            ],
            [
             0.6666666666666666,
             "#ed7953"
            ],
            [
             0.7777777777777778,
             "#fb9f3a"
            ],
            [
             0.8888888888888888,
             "#fdca26"
            ],
            [
             1,
             "#f0f921"
            ]
           ]
          },
          "colorway": [
           "#636efa",
           "#EF553B",
           "#00cc96",
           "#ab63fa",
           "#FFA15A",
           "#19d3f3",
           "#FF6692",
           "#B6E880",
           "#FF97FF",
           "#FECB52"
          ],
          "font": {
           "color": "#2a3f5f"
          },
          "geo": {
           "bgcolor": "white",
           "lakecolor": "white",
           "landcolor": "#E5ECF6",
           "showlakes": true,
           "showland": true,
           "subunitcolor": "white"
          },
          "hoverlabel": {
           "align": "left"
          },
          "hovermode": "closest",
          "mapbox": {
           "style": "light"
          },
          "paper_bgcolor": "white",
          "plot_bgcolor": "#E5ECF6",
          "polar": {
           "angularaxis": {
            "gridcolor": "white",
            "linecolor": "white",
            "ticks": ""
           },
           "bgcolor": "#E5ECF6",
           "radialaxis": {
            "gridcolor": "white",
            "linecolor": "white",
            "ticks": ""
           }
          },
          "scene": {
           "xaxis": {
            "backgroundcolor": "#E5ECF6",
            "gridcolor": "white",
            "gridwidth": 2,
            "linecolor": "white",
            "showbackground": true,
            "ticks": "",
            "zerolinecolor": "white"
           },
           "yaxis": {
            "backgroundcolor": "#E5ECF6",
            "gridcolor": "white",
            "gridwidth": 2,
            "linecolor": "white",
            "showbackground": true,
            "ticks": "",
            "zerolinecolor": "white"
           },
           "zaxis": {
            "backgroundcolor": "#E5ECF6",
            "gridcolor": "white",
            "gridwidth": 2,
            "linecolor": "white",
            "showbackground": true,
            "ticks": "",
            "zerolinecolor": "white"
           }
          },
          "shapedefaults": {
           "line": {
            "color": "#2a3f5f"
           }
          },
          "ternary": {
           "aaxis": {
            "gridcolor": "white",
            "linecolor": "white",
            "ticks": ""
           },
           "baxis": {
            "gridcolor": "white",
            "linecolor": "white",
            "ticks": ""
           },
           "bgcolor": "#E5ECF6",
           "caxis": {
            "gridcolor": "white",
            "linecolor": "white",
            "ticks": ""
           }
          },
          "title": {
           "x": 0.05
          },
          "xaxis": {
           "automargin": true,
           "gridcolor": "white",
           "linecolor": "white",
           "ticks": "",
           "title": {
            "standoff": 15
           },
           "zerolinecolor": "white",
           "zerolinewidth": 2
          },
          "yaxis": {
           "automargin": true,
           "gridcolor": "white",
           "linecolor": "white",
           "ticks": "",
           "title": {
            "standoff": 15
           },
           "zerolinecolor": "white",
           "zerolinewidth": 2
          }
         }
        },
        "xaxis": {
         "anchor": "y",
         "domain": [
          0,
          1
         ],
         "title": {
          "text": "index"
         }
        },
        "yaxis": {
         "anchor": "x",
         "domain": [
          0,
          1
         ],
         "title": {
          "text": "value"
         },
         "type": "log"
        }
       }
      }
     },
     "metadata": {},
     "output_type": "display_data"
    }
   ],
   "source": [
    "# Currently used in model:\n",
    "death_rates_from_db = get_death_rates_by_agegroup(modelled_age_groups, \"VNM\")\n",
    "death_rates_df = pd.DataFrame(death_rates_from_db[0], index=death_rates_from_db[1])\n",
    "life_exp_at_age_df = 1.0 / death_rates_df\n",
    "death_rates_df.plot()\n",
    "life_exp_at_age_df.plot(log_y=True)"
   ]
  },
  {
   "cell_type": "code",
   "execution_count": 9,
   "metadata": {},
   "outputs": [
    {
     "data": {
      "application/vnd.plotly.v1+json": {
       "config": {
        "plotlyServerURL": "https://plot.ly"
       },
       "data": [
        {
         "hovertemplate": "variable=0<br>index=%{x}<br>value=%{y}<extra></extra>",
         "legendgroup": "0",
         "line": {
          "color": "#636efa",
          "dash": "solid"
         },
         "marker": {
          "symbol": "circle"
         },
         "mode": "markers+lines",
         "name": "0",
         "orientation": "v",
         "showlegend": true,
         "type": "scatter",
         "x": [
          2005,
          2007,
          2008,
          2009,
          2010,
          2011,
          2012,
          2013,
          2014,
          2015,
          2016,
          2017,
          2018,
          2019,
          2020,
          2021
         ],
         "xaxis": "x",
         "y": [
          0.0048,
          0.0048,
          0.0044,
          0.0056,
          0.0056,
          0.0058,
          0.0053,
          0.006,
          0.0074,
          0.0054,
          0.0048,
          0.0066,
          0.005,
          0.0054,
          0.00521,
          0.00539
         ],
         "yaxis": "y"
        }
       ],
       "layout": {
        "legend": {
         "title": {
          "text": "variable"
         },
         "tracegroupgap": 0
        },
        "margin": {
         "t": 60
        },
        "showlegend": false,
        "template": {
         "data": {
          "bar": [
           {
            "error_x": {
             "color": "#2a3f5f"
            },
            "error_y": {
             "color": "#2a3f5f"
            },
            "marker": {
             "line": {
              "color": "#E5ECF6",
              "width": 0.5
             },
             "pattern": {
              "fillmode": "overlay",
              "size": 10,
              "solidity": 0.2
             }
            },
            "type": "bar"
           }
          ],
          "barpolar": [
           {
            "marker": {
             "line": {
              "color": "#E5ECF6",
              "width": 0.5
             },
             "pattern": {
              "fillmode": "overlay",
              "size": 10,
              "solidity": 0.2
             }
            },
            "type": "barpolar"
           }
          ],
          "carpet": [
           {
            "aaxis": {
             "endlinecolor": "#2a3f5f",
             "gridcolor": "white",
             "linecolor": "white",
             "minorgridcolor": "white",
             "startlinecolor": "#2a3f5f"
            },
            "baxis": {
             "endlinecolor": "#2a3f5f",
             "gridcolor": "white",
             "linecolor": "white",
             "minorgridcolor": "white",
             "startlinecolor": "#2a3f5f"
            },
            "type": "carpet"
           }
          ],
          "choropleth": [
           {
            "colorbar": {
             "outlinewidth": 0,
             "ticks": ""
            },
            "type": "choropleth"
           }
          ],
          "contour": [
           {
            "colorbar": {
             "outlinewidth": 0,
             "ticks": ""
            },
            "colorscale": [
             [
              0,
              "#0d0887"
             ],
             [
              0.1111111111111111,
              "#46039f"
             ],
             [
              0.2222222222222222,
              "#7201a8"
             ],
             [
              0.3333333333333333,
              "#9c179e"
             ],
             [
              0.4444444444444444,
              "#bd3786"
             ],
             [
              0.5555555555555556,
              "#d8576b"
             ],
             [
              0.6666666666666666,
              "#ed7953"
             ],
             [
              0.7777777777777778,
              "#fb9f3a"
             ],
             [
              0.8888888888888888,
              "#fdca26"
             ],
             [
              1,
              "#f0f921"
             ]
            ],
            "type": "contour"
           }
          ],
          "contourcarpet": [
           {
            "colorbar": {
             "outlinewidth": 0,
             "ticks": ""
            },
            "type": "contourcarpet"
           }
          ],
          "heatmap": [
           {
            "colorbar": {
             "outlinewidth": 0,
             "ticks": ""
            },
            "colorscale": [
             [
              0,
              "#0d0887"
             ],
             [
              0.1111111111111111,
              "#46039f"
             ],
             [
              0.2222222222222222,
              "#7201a8"
             ],
             [
              0.3333333333333333,
              "#9c179e"
             ],
             [
              0.4444444444444444,
              "#bd3786"
             ],
             [
              0.5555555555555556,
              "#d8576b"
             ],
             [
              0.6666666666666666,
              "#ed7953"
             ],
             [
              0.7777777777777778,
              "#fb9f3a"
             ],
             [
              0.8888888888888888,
              "#fdca26"
             ],
             [
              1,
              "#f0f921"
             ]
            ],
            "type": "heatmap"
           }
          ],
          "heatmapgl": [
           {
            "colorbar": {
             "outlinewidth": 0,
             "ticks": ""
            },
            "colorscale": [
             [
              0,
              "#0d0887"
             ],
             [
              0.1111111111111111,
              "#46039f"
             ],
             [
              0.2222222222222222,
              "#7201a8"
             ],
             [
              0.3333333333333333,
              "#9c179e"
             ],
             [
              0.4444444444444444,
              "#bd3786"
             ],
             [
              0.5555555555555556,
              "#d8576b"
             ],
             [
              0.6666666666666666,
              "#ed7953"
             ],
             [
              0.7777777777777778,
              "#fb9f3a"
             ],
             [
              0.8888888888888888,
              "#fdca26"
             ],
             [
              1,
              "#f0f921"
             ]
            ],
            "type": "heatmapgl"
           }
          ],
          "histogram": [
           {
            "marker": {
             "pattern": {
              "fillmode": "overlay",
              "size": 10,
              "solidity": 0.2
             }
            },
            "type": "histogram"
           }
          ],
          "histogram2d": [
           {
            "colorbar": {
             "outlinewidth": 0,
             "ticks": ""
            },
            "colorscale": [
             [
              0,
              "#0d0887"
             ],
             [
              0.1111111111111111,
              "#46039f"
             ],
             [
              0.2222222222222222,
              "#7201a8"
             ],
             [
              0.3333333333333333,
              "#9c179e"
             ],
             [
              0.4444444444444444,
              "#bd3786"
             ],
             [
              0.5555555555555556,
              "#d8576b"
             ],
             [
              0.6666666666666666,
              "#ed7953"
             ],
             [
              0.7777777777777778,
              "#fb9f3a"
             ],
             [
              0.8888888888888888,
              "#fdca26"
             ],
             [
              1,
              "#f0f921"
             ]
            ],
            "type": "histogram2d"
           }
          ],
          "histogram2dcontour": [
           {
            "colorbar": {
             "outlinewidth": 0,
             "ticks": ""
            },
            "colorscale": [
             [
              0,
              "#0d0887"
             ],
             [
              0.1111111111111111,
              "#46039f"
             ],
             [
              0.2222222222222222,
              "#7201a8"
             ],
             [
              0.3333333333333333,
              "#9c179e"
             ],
             [
              0.4444444444444444,
              "#bd3786"
             ],
             [
              0.5555555555555556,
              "#d8576b"
             ],
             [
              0.6666666666666666,
              "#ed7953"
             ],
             [
              0.7777777777777778,
              "#fb9f3a"
             ],
             [
              0.8888888888888888,
              "#fdca26"
             ],
             [
              1,
              "#f0f921"
             ]
            ],
            "type": "histogram2dcontour"
           }
          ],
          "mesh3d": [
           {
            "colorbar": {
             "outlinewidth": 0,
             "ticks": ""
            },
            "type": "mesh3d"
           }
          ],
          "parcoords": [
           {
            "line": {
             "colorbar": {
              "outlinewidth": 0,
              "ticks": ""
             }
            },
            "type": "parcoords"
           }
          ],
          "pie": [
           {
            "automargin": true,
            "type": "pie"
           }
          ],
          "scatter": [
           {
            "fillpattern": {
             "fillmode": "overlay",
             "size": 10,
             "solidity": 0.2
            },
            "type": "scatter"
           }
          ],
          "scatter3d": [
           {
            "line": {
             "colorbar": {
              "outlinewidth": 0,
              "ticks": ""
             }
            },
            "marker": {
             "colorbar": {
              "outlinewidth": 0,
              "ticks": ""
             }
            },
            "type": "scatter3d"
           }
          ],
          "scattercarpet": [
           {
            "marker": {
             "colorbar": {
              "outlinewidth": 0,
              "ticks": ""
             }
            },
            "type": "scattercarpet"
           }
          ],
          "scattergeo": [
           {
            "marker": {
             "colorbar": {
              "outlinewidth": 0,
              "ticks": ""
             }
            },
            "type": "scattergeo"
           }
          ],
          "scattergl": [
           {
            "marker": {
             "colorbar": {
              "outlinewidth": 0,
              "ticks": ""
             }
            },
            "type": "scattergl"
           }
          ],
          "scattermapbox": [
           {
            "marker": {
             "colorbar": {
              "outlinewidth": 0,
              "ticks": ""
             }
            },
            "type": "scattermapbox"
           }
          ],
          "scatterpolar": [
           {
            "marker": {
             "colorbar": {
              "outlinewidth": 0,
              "ticks": ""
             }
            },
            "type": "scatterpolar"
           }
          ],
          "scatterpolargl": [
           {
            "marker": {
             "colorbar": {
              "outlinewidth": 0,
              "ticks": ""
             }
            },
            "type": "scatterpolargl"
           }
          ],
          "scatterternary": [
           {
            "marker": {
             "colorbar": {
              "outlinewidth": 0,
              "ticks": ""
             }
            },
            "type": "scatterternary"
           }
          ],
          "surface": [
           {
            "colorbar": {
             "outlinewidth": 0,
             "ticks": ""
            },
            "colorscale": [
             [
              0,
              "#0d0887"
             ],
             [
              0.1111111111111111,
              "#46039f"
             ],
             [
              0.2222222222222222,
              "#7201a8"
             ],
             [
              0.3333333333333333,
              "#9c179e"
             ],
             [
              0.4444444444444444,
              "#bd3786"
             ],
             [
              0.5555555555555556,
              "#d8576b"
             ],
             [
              0.6666666666666666,
              "#ed7953"
             ],
             [
              0.7777777777777778,
              "#fb9f3a"
             ],
             [
              0.8888888888888888,
              "#fdca26"
             ],
             [
              1,
              "#f0f921"
             ]
            ],
            "type": "surface"
           }
          ],
          "table": [
           {
            "cells": {
             "fill": {
              "color": "#EBF0F8"
             },
             "line": {
              "color": "white"
             }
            },
            "header": {
             "fill": {
              "color": "#C8D4E3"
             },
             "line": {
              "color": "white"
             }
            },
            "type": "table"
           }
          ]
         },
         "layout": {
          "annotationdefaults": {
           "arrowcolor": "#2a3f5f",
           "arrowhead": 0,
           "arrowwidth": 1
          },
          "autotypenumbers": "strict",
          "coloraxis": {
           "colorbar": {
            "outlinewidth": 0,
            "ticks": ""
           }
          },
          "colorscale": {
           "diverging": [
            [
             0,
             "#8e0152"
            ],
            [
             0.1,
             "#c51b7d"
            ],
            [
             0.2,
             "#de77ae"
            ],
            [
             0.3,
             "#f1b6da"
            ],
            [
             0.4,
             "#fde0ef"
            ],
            [
             0.5,
             "#f7f7f7"
            ],
            [
             0.6,
             "#e6f5d0"
            ],
            [
             0.7,
             "#b8e186"
            ],
            [
             0.8,
             "#7fbc41"
            ],
            [
             0.9,
             "#4d9221"
            ],
            [
             1,
             "#276419"
            ]
           ],
           "sequential": [
            [
             0,
             "#0d0887"
            ],
            [
             0.1111111111111111,
             "#46039f"
            ],
            [
             0.2222222222222222,
             "#7201a8"
            ],
            [
             0.3333333333333333,
             "#9c179e"
            ],
            [
             0.4444444444444444,
             "#bd3786"
            ],
            [
             0.5555555555555556,
             "#d8576b"
            ],
            [
             0.6666666666666666,
             "#ed7953"
            ],
            [
             0.7777777777777778,
             "#fb9f3a"
            ],
            [
             0.8888888888888888,
             "#fdca26"
            ],
            [
             1,
             "#f0f921"
            ]
           ],
           "sequentialminus": [
            [
             0,
             "#0d0887"
            ],
            [
             0.1111111111111111,
             "#46039f"
            ],
            [
             0.2222222222222222,
             "#7201a8"
            ],
            [
             0.3333333333333333,
             "#9c179e"
            ],
            [
             0.4444444444444444,
             "#bd3786"
            ],
            [
             0.5555555555555556,
             "#d8576b"
            ],
            [
             0.6666666666666666,
             "#ed7953"
            ],
            [
             0.7777777777777778,
             "#fb9f3a"
            ],
            [
             0.8888888888888888,
             "#fdca26"
            ],
            [
             1,
             "#f0f921"
            ]
           ]
          },
          "colorway": [
           "#636efa",
           "#EF553B",
           "#00cc96",
           "#ab63fa",
           "#FFA15A",
           "#19d3f3",
           "#FF6692",
           "#B6E880",
           "#FF97FF",
           "#FECB52"
          ],
          "font": {
           "color": "#2a3f5f"
          },
          "geo": {
           "bgcolor": "white",
           "lakecolor": "white",
           "landcolor": "#E5ECF6",
           "showlakes": true,
           "showland": true,
           "subunitcolor": "white"
          },
          "hoverlabel": {
           "align": "left"
          },
          "hovermode": "closest",
          "mapbox": {
           "style": "light"
          },
          "paper_bgcolor": "white",
          "plot_bgcolor": "#E5ECF6",
          "polar": {
           "angularaxis": {
            "gridcolor": "white",
            "linecolor": "white",
            "ticks": ""
           },
           "bgcolor": "#E5ECF6",
           "radialaxis": {
            "gridcolor": "white",
            "linecolor": "white",
            "ticks": ""
           }
          },
          "scene": {
           "xaxis": {
            "backgroundcolor": "#E5ECF6",
            "gridcolor": "white",
            "gridwidth": 2,
            "linecolor": "white",
            "showbackground": true,
            "ticks": "",
            "zerolinecolor": "white"
           },
           "yaxis": {
            "backgroundcolor": "#E5ECF6",
            "gridcolor": "white",
            "gridwidth": 2,
            "linecolor": "white",
            "showbackground": true,
            "ticks": "",
            "zerolinecolor": "white"
           },
           "zaxis": {
            "backgroundcolor": "#E5ECF6",
            "gridcolor": "white",
            "gridwidth": 2,
            "linecolor": "white",
            "showbackground": true,
            "ticks": "",
            "zerolinecolor": "white"
           }
          },
          "shapedefaults": {
           "line": {
            "color": "#2a3f5f"
           }
          },
          "ternary": {
           "aaxis": {
            "gridcolor": "white",
            "linecolor": "white",
            "ticks": ""
           },
           "baxis": {
            "gridcolor": "white",
            "linecolor": "white",
            "ticks": ""
           },
           "bgcolor": "#E5ECF6",
           "caxis": {
            "gridcolor": "white",
            "linecolor": "white",
            "ticks": ""
           }
          },
          "title": {
           "x": 0.05
          },
          "xaxis": {
           "automargin": true,
           "gridcolor": "white",
           "linecolor": "white",
           "ticks": "",
           "title": {
            "standoff": 15
           },
           "zerolinecolor": "white",
           "zerolinewidth": 2
          },
          "yaxis": {
           "automargin": true,
           "gridcolor": "white",
           "linecolor": "white",
           "ticks": "",
           "title": {
            "standoff": 15
           },
           "zerolinecolor": "white",
           "zerolinewidth": 2
          }
         }
        },
        "title": {
         "text": "Crude death rate of Ca Mau",
         "x": 0.5
        },
        "xaxis": {
         "anchor": "y",
         "domain": [
          0,
          1
         ],
         "title": {
          "text": "Year"
         }
        },
        "yaxis": {
         "anchor": "x",
         "domain": [
          0,
          1
         ],
         "title": {
          "text": "Crude death rate"
         }
        }
       }
      }
     },
     "metadata": {},
     "output_type": "display_data"
    }
   ],
   "source": [
    "# Query and visualize the crude birth rate from database\n",
    "years, death_rates = queries.get_camau_death_rate()\n",
    "death_rates = [b / 1000.0 for b in death_rates]  # Birth rates are provided / 1000 population\n",
    "death_rates_series = pd.Series(death_rates, index=years)\n",
    "dr_fig= px.line(death_rates_series)\n",
    "dr_fig.update_traces(mode='markers+lines')\n",
    "dr_fig.update_layout(\n",
    "    title=\"Crude death rate of Ca Mau\",\n",
    "    title_x=0.5,\n",
    "    xaxis_title=\"Year\",\n",
    "    yaxis_title=\"Crude death rate\",\n",
    "    showlegend=False,\n",
    ")"
   ]
  },
  {
   "cell_type": "markdown",
   "metadata": {},
   "source": [
    "### Mixing matrix"
   ]
  },
  {
   "cell_type": "code",
   "execution_count": 10,
   "metadata": {},
   "outputs": [
    {
     "name": "stdout",
     "output_type": "stream",
     "text": [
      "Target region: CAMAU (VNM)\n",
      "Proxy country: VNM\n",
      "Always age-adjusted to target population\n"
     ]
    }
   ],
   "source": [
    "print(f\"Target region: {region.upper()} ({iso3})\")\n",
    "print(f\"Proxy country: {source_iso3}\")\n",
    "print(\"Always age-adjusted to target population\")"
   ]
  },
  {
   "cell_type": "code",
   "execution_count": 11,
   "metadata": {},
   "outputs": [],
   "source": [
    "update_params = {\n",
    "    'cdr_adjustment': 0.781297481378072,\n",
    "    'contact_rate': 0.009970201117109802,\n",
    "    'infect_death_rate_dict.smear_negative': 0.024995732286672893,\n",
    "    'infect_death_rate_dict.smear_positive': 0.4374233558323563,\n",
    "    'progression_multiplier': 0.12206487367166488,\n",
    "    'rr_infection_latent': 0.48193872958821177,\n",
    "    'rr_infection_recovered': 0.23345947728785726,\n",
    "    'self_recovery_rate_dict.smear_positive': 0.18727973587244693,\n",
    "    'self_recovery_rate_dict.smear_negative': 0.0882238241945665,\n",
    "    'start_population_size': 330000\n",
    "}\n",
    "params = baseline_params.update(update_params,calibration_format=True)\n",
    "model_0  =  p.build_model(params.to_dict())\n",
    "model_0.run(params.to_dict())\n",
    "derived_df_0 = model_0.get_derived_outputs_df()"
   ]
  },
  {
   "cell_type": "code",
   "execution_count": 12,
   "metadata": {},
   "outputs": [
    {
     "data": {
      "text/plain": [
       "[Stratification: age, Stratification: gender, Stratification: organ]"
      ]
     },
     "execution_count": 12,
     "metadata": {},
     "output_type": "execute_result"
    }
   ],
   "source": [
    "model_0._stratifications"
   ]
  },
  {
   "cell_type": "code",
   "execution_count": 13,
   "metadata": {},
   "outputs": [
    {
     "data": {
      "text/plain": [
       "[array([[ 398.43289672,  261.82020387,  643.68286218,  401.62199159,\n",
       "          356.13449939],\n",
       "        [ 165.78966683,  881.63067677,  532.84120554,  550.75979227,\n",
       "          285.62836724],\n",
       "        [ 231.75164317,  311.38983781,  915.52884268,  673.30894113,\n",
       "          664.14577066],\n",
       "        [ 141.94492435,  310.88835505,  786.13676958, 1134.31076003,\n",
       "          938.03403291],\n",
       "        [  67.30073632,  170.46333134,  647.30153978, 1018.81243422,\n",
       "         1763.57657715]])]"
      ]
     },
     "execution_count": 13,
     "metadata": {},
     "output_type": "execute_result"
    }
   ],
   "source": [
    "model_0._mixing_matrices"
   ]
  },
  {
   "cell_type": "code",
   "execution_count": 14,
   "metadata": {},
   "outputs": [
    {
     "data": {
      "application/vnd.plotly.v1+json": {
       "config": {
        "plotlyServerURL": "https://plot.ly"
       },
       "data": [
        {
         "hovertemplate": "index=%{x}<br>total_population=%{y}<extra></extra>",
         "legendgroup": "",
         "line": {
          "color": "#636efa",
          "dash": "solid"
         },
         "marker": {
          "symbol": "circle"
         },
         "mode": "lines",
         "name": "",
         "showlegend": false,
         "type": "scattergl",
         "x": [
          1900,
          1900.1,
          1900.2,
          1900.3,
          1900.4,
          1900.5,
          1900.6,
          1900.7,
          1900.8,
          1900.9,
          1901,
          1901.1,
          1901.2,
          1901.3,
          1901.4,
          1901.5,
          1901.6,
          1901.7,
          1901.8,
          1901.9,
          1902,
          1902.1,
          1902.2,
          1902.3,
          1902.4,
          1902.5,
          1902.6,
          1902.7,
          1902.8,
          1902.9,
          1903,
          1903.1,
          1903.2,
          1903.3,
          1903.4,
          1903.5,
          1903.6,
          1903.7,
          1903.8,
          1903.9,
          1904,
          1904.1,
          1904.2,
          1904.3,
          1904.4,
          1904.5,
          1904.6,
          1904.7,
          1904.8,
          1904.9,
          1905,
          1905.1,
          1905.2,
          1905.3,
          1905.4,
          1905.5,
          1905.6,
          1905.7,
          1905.8,
          1905.9,
          1906,
          1906.1,
          1906.2,
          1906.3,
          1906.4,
          1906.5,
          1906.6,
          1906.7,
          1906.8,
          1906.9,
          1907,
          1907.1,
          1907.2,
          1907.3,
          1907.4,
          1907.5,
          1907.6,
          1907.7,
          1907.8,
          1907.9,
          1908,
          1908.1,
          1908.2,
          1908.3,
          1908.4,
          1908.5,
          1908.6,
          1908.7,
          1908.8,
          1908.9,
          1909,
          1909.1,
          1909.2,
          1909.3,
          1909.4,
          1909.5,
          1909.6,
          1909.7,
          1909.8,
          1909.9,
          1910,
          1910.1,
          1910.2,
          1910.3,
          1910.4,
          1910.5,
          1910.6,
          1910.7,
          1910.8,
          1910.9,
          1911,
          1911.1,
          1911.2,
          1911.3,
          1911.4,
          1911.5,
          1911.6,
          1911.7,
          1911.8,
          1911.9,
          1912,
          1912.1,
          1912.2,
          1912.3,
          1912.4,
          1912.5,
          1912.6,
          1912.7,
          1912.8,
          1912.9,
          1913,
          1913.1,
          1913.2,
          1913.3,
          1913.4,
          1913.5,
          1913.6,
          1913.7,
          1913.8,
          1913.9,
          1914,
          1914.1,
          1914.2,
          1914.3,
          1914.4,
          1914.5,
          1914.6,
          1914.7,
          1914.8,
          1914.9,
          1915,
          1915.1,
          1915.2,
          1915.3,
          1915.4,
          1915.5,
          1915.6,
          1915.7,
          1915.8,
          1915.9,
          1916,
          1916.1,
          1916.2,
          1916.3,
          1916.4,
          1916.5,
          1916.6,
          1916.7,
          1916.8,
          1916.9,
          1917,
          1917.1,
          1917.2,
          1917.3,
          1917.4,
          1917.5,
          1917.6,
          1917.7,
          1917.8,
          1917.9,
          1918,
          1918.1,
          1918.2,
          1918.3,
          1918.4,
          1918.5,
          1918.6,
          1918.7,
          1918.8,
          1918.9,
          1919,
          1919.1,
          1919.2,
          1919.3,
          1919.4,
          1919.5,
          1919.6,
          1919.7,
          1919.8,
          1919.9,
          1920,
          1920.1,
          1920.2,
          1920.3,
          1920.4,
          1920.5,
          1920.6,
          1920.7,
          1920.8,
          1920.9,
          1921,
          1921.1,
          1921.2,
          1921.3,
          1921.4,
          1921.5,
          1921.6,
          1921.7,
          1921.8,
          1921.9,
          1922,
          1922.1,
          1922.2,
          1922.3,
          1922.4,
          1922.5,
          1922.6,
          1922.7,
          1922.8,
          1922.9,
          1923,
          1923.1,
          1923.2,
          1923.3,
          1923.4,
          1923.5,
          1923.6,
          1923.7,
          1923.8,
          1923.9,
          1924,
          1924.1,
          1924.2,
          1924.3,
          1924.4,
          1924.5,
          1924.6,
          1924.7,
          1924.8,
          1924.9,
          1925,
          1925.1,
          1925.2,
          1925.3,
          1925.4,
          1925.5,
          1925.6,
          1925.7,
          1925.8,
          1925.9,
          1926,
          1926.1,
          1926.2,
          1926.3,
          1926.4,
          1926.5,
          1926.6,
          1926.7,
          1926.8,
          1926.9,
          1927,
          1927.1,
          1927.2,
          1927.3,
          1927.4,
          1927.5,
          1927.6,
          1927.7,
          1927.8,
          1927.9,
          1928,
          1928.1,
          1928.2,
          1928.3,
          1928.4,
          1928.5,
          1928.6,
          1928.7,
          1928.8,
          1928.9,
          1929,
          1929.1,
          1929.2,
          1929.3,
          1929.4,
          1929.5,
          1929.6,
          1929.7,
          1929.8,
          1929.9,
          1930,
          1930.1,
          1930.2,
          1930.3,
          1930.4,
          1930.5,
          1930.6,
          1930.7,
          1930.8,
          1930.9,
          1931,
          1931.1,
          1931.2,
          1931.3,
          1931.4,
          1931.5,
          1931.6,
          1931.7,
          1931.8,
          1931.9,
          1932,
          1932.1,
          1932.2,
          1932.3,
          1932.4,
          1932.5,
          1932.6,
          1932.7,
          1932.8,
          1932.9,
          1933,
          1933.1,
          1933.2,
          1933.3,
          1933.4,
          1933.5,
          1933.6,
          1933.7,
          1933.8,
          1933.9,
          1934,
          1934.1,
          1934.2,
          1934.3,
          1934.4,
          1934.5,
          1934.6,
          1934.7,
          1934.8,
          1934.9,
          1935,
          1935.1,
          1935.2,
          1935.3,
          1935.4,
          1935.5,
          1935.6,
          1935.7,
          1935.8,
          1935.9,
          1936,
          1936.1,
          1936.2,
          1936.3,
          1936.4,
          1936.5,
          1936.6,
          1936.7,
          1936.8,
          1936.9,
          1937,
          1937.1,
          1937.2,
          1937.3,
          1937.4,
          1937.5,
          1937.6,
          1937.7,
          1937.8,
          1937.9,
          1938,
          1938.1,
          1938.2,
          1938.3,
          1938.4,
          1938.5,
          1938.6,
          1938.7,
          1938.8,
          1938.9,
          1939,
          1939.1,
          1939.2,
          1939.3,
          1939.4,
          1939.5,
          1939.6,
          1939.7,
          1939.8,
          1939.9,
          1940,
          1940.1,
          1940.2,
          1940.3,
          1940.4,
          1940.5,
          1940.6,
          1940.7,
          1940.8,
          1940.9,
          1941,
          1941.1,
          1941.2,
          1941.3,
          1941.4,
          1941.5,
          1941.6,
          1941.7,
          1941.8,
          1941.9,
          1942,
          1942.1,
          1942.2,
          1942.3,
          1942.4,
          1942.5,
          1942.6,
          1942.7,
          1942.8,
          1942.9,
          1943,
          1943.1,
          1943.2,
          1943.3,
          1943.4,
          1943.5,
          1943.6,
          1943.7,
          1943.8,
          1943.9,
          1944,
          1944.1,
          1944.2,
          1944.3,
          1944.4,
          1944.5,
          1944.6,
          1944.7,
          1944.8,
          1944.9,
          1945,
          1945.1,
          1945.2,
          1945.3,
          1945.4,
          1945.5,
          1945.6,
          1945.7,
          1945.8,
          1945.9,
          1946,
          1946.1,
          1946.2,
          1946.3,
          1946.4,
          1946.5,
          1946.6,
          1946.7,
          1946.8,
          1946.9,
          1947,
          1947.1,
          1947.2,
          1947.3,
          1947.4,
          1947.5,
          1947.6,
          1947.7,
          1947.8,
          1947.9,
          1948,
          1948.1,
          1948.2,
          1948.3,
          1948.4,
          1948.5,
          1948.6,
          1948.7,
          1948.8,
          1948.9,
          1949,
          1949.1,
          1949.2,
          1949.3,
          1949.4,
          1949.5,
          1949.6,
          1949.7,
          1949.8,
          1949.9,
          1950,
          1950.1,
          1950.2,
          1950.3,
          1950.4,
          1950.5,
          1950.6,
          1950.7,
          1950.8,
          1950.9,
          1951,
          1951.1,
          1951.2,
          1951.3,
          1951.4,
          1951.5,
          1951.6,
          1951.7,
          1951.8,
          1951.9,
          1952,
          1952.1,
          1952.2,
          1952.3,
          1952.4,
          1952.5,
          1952.6,
          1952.7,
          1952.8,
          1952.9,
          1953,
          1953.1,
          1953.2,
          1953.3,
          1953.4,
          1953.5,
          1953.6,
          1953.7,
          1953.8,
          1953.9,
          1954,
          1954.1,
          1954.2,
          1954.3,
          1954.4,
          1954.5,
          1954.6,
          1954.7,
          1954.8,
          1954.9,
          1955,
          1955.1,
          1955.2,
          1955.3,
          1955.4,
          1955.5,
          1955.6,
          1955.7,
          1955.8,
          1955.9,
          1956,
          1956.1,
          1956.2,
          1956.3,
          1956.4,
          1956.5,
          1956.6,
          1956.7,
          1956.8,
          1956.9,
          1957,
          1957.1,
          1957.2,
          1957.3,
          1957.4,
          1957.5,
          1957.6,
          1957.7,
          1957.8,
          1957.9,
          1958,
          1958.1,
          1958.2,
          1958.3,
          1958.4,
          1958.5,
          1958.6,
          1958.7,
          1958.8,
          1958.9,
          1959,
          1959.1,
          1959.2,
          1959.3,
          1959.4,
          1959.5,
          1959.6,
          1959.7,
          1959.8,
          1959.9,
          1960,
          1960.1,
          1960.2,
          1960.3,
          1960.4,
          1960.5,
          1960.6,
          1960.7,
          1960.8,
          1960.9,
          1961,
          1961.1,
          1961.2,
          1961.3,
          1961.4,
          1961.5,
          1961.6,
          1961.7,
          1961.8,
          1961.9,
          1962,
          1962.1,
          1962.2,
          1962.3,
          1962.4,
          1962.5,
          1962.6,
          1962.7,
          1962.8,
          1962.9,
          1963,
          1963.1,
          1963.2,
          1963.3,
          1963.4,
          1963.5,
          1963.6,
          1963.7,
          1963.8,
          1963.9,
          1964,
          1964.1,
          1964.2,
          1964.3,
          1964.4,
          1964.5,
          1964.6,
          1964.7,
          1964.8,
          1964.9,
          1965,
          1965.1,
          1965.2,
          1965.3,
          1965.4,
          1965.5,
          1965.6,
          1965.7,
          1965.8,
          1965.9,
          1966,
          1966.1,
          1966.2,
          1966.3,
          1966.4,
          1966.5,
          1966.6,
          1966.7,
          1966.8,
          1966.9,
          1967,
          1967.1,
          1967.2,
          1967.3,
          1967.4,
          1967.5,
          1967.6,
          1967.7,
          1967.8,
          1967.9,
          1968,
          1968.1,
          1968.2,
          1968.3,
          1968.4,
          1968.5,
          1968.6,
          1968.7,
          1968.8,
          1968.9,
          1969,
          1969.1,
          1969.2,
          1969.3,
          1969.4,
          1969.5,
          1969.6,
          1969.7,
          1969.8,
          1969.9,
          1970,
          1970.1,
          1970.2,
          1970.3,
          1970.4,
          1970.5,
          1970.6,
          1970.7,
          1970.8,
          1970.9,
          1971,
          1971.1,
          1971.2,
          1971.3,
          1971.4,
          1971.5,
          1971.6,
          1971.7,
          1971.8,
          1971.9,
          1972,
          1972.1,
          1972.2,
          1972.3,
          1972.4,
          1972.5,
          1972.6,
          1972.7,
          1972.8,
          1972.9,
          1973,
          1973.1,
          1973.2,
          1973.3,
          1973.4,
          1973.5,
          1973.6,
          1973.7,
          1973.8,
          1973.9,
          1974,
          1974.1,
          1974.2,
          1974.3,
          1974.4,
          1974.5,
          1974.6,
          1974.7,
          1974.8,
          1974.9,
          1975,
          1975.1,
          1975.2,
          1975.3,
          1975.4,
          1975.5,
          1975.6,
          1975.7,
          1975.8,
          1975.9,
          1976,
          1976.1,
          1976.2,
          1976.3,
          1976.4,
          1976.5,
          1976.6,
          1976.7,
          1976.8,
          1976.9,
          1977,
          1977.1,
          1977.2,
          1977.3,
          1977.4,
          1977.5,
          1977.6,
          1977.7,
          1977.8,
          1977.9,
          1978,
          1978.1,
          1978.2,
          1978.3,
          1978.4,
          1978.5,
          1978.6,
          1978.7,
          1978.8,
          1978.9,
          1979,
          1979.1,
          1979.2,
          1979.3,
          1979.4,
          1979.5,
          1979.6,
          1979.7,
          1979.8,
          1979.9,
          1980,
          1980.1,
          1980.2,
          1980.3,
          1980.4,
          1980.5,
          1980.6,
          1980.7,
          1980.8,
          1980.9,
          1981,
          1981.1,
          1981.2,
          1981.3,
          1981.4,
          1981.5,
          1981.6,
          1981.7,
          1981.8,
          1981.9,
          1982,
          1982.1,
          1982.2,
          1982.3,
          1982.4,
          1982.5,
          1982.6,
          1982.7,
          1982.8,
          1982.9,
          1983,
          1983.1,
          1983.2,
          1983.3,
          1983.4,
          1983.5,
          1983.6,
          1983.7,
          1983.8,
          1983.9,
          1984,
          1984.1,
          1984.2,
          1984.3,
          1984.4,
          1984.5,
          1984.6,
          1984.7,
          1984.8,
          1984.9,
          1985,
          1985.1,
          1985.2,
          1985.3,
          1985.4,
          1985.5,
          1985.6,
          1985.7,
          1985.8,
          1985.9,
          1986,
          1986.1,
          1986.2,
          1986.3,
          1986.4,
          1986.5,
          1986.6,
          1986.7,
          1986.8,
          1986.9,
          1987,
          1987.1,
          1987.2,
          1987.3,
          1987.4,
          1987.5,
          1987.6,
          1987.7,
          1987.8,
          1987.9,
          1988,
          1988.1,
          1988.2,
          1988.3,
          1988.4,
          1988.5,
          1988.6,
          1988.7,
          1988.8,
          1988.9,
          1989,
          1989.1,
          1989.2,
          1989.3,
          1989.4,
          1989.5,
          1989.6,
          1989.7,
          1989.8,
          1989.9,
          1990,
          1990.1,
          1990.2,
          1990.3,
          1990.4,
          1990.5,
          1990.6,
          1990.7,
          1990.8,
          1990.9,
          1991,
          1991.1,
          1991.2,
          1991.3,
          1991.4,
          1991.5,
          1991.6,
          1991.7,
          1991.8,
          1991.9,
          1992,
          1992.1,
          1992.2,
          1992.3,
          1992.4,
          1992.5,
          1992.6,
          1992.7,
          1992.8,
          1992.9,
          1993,
          1993.1,
          1993.2,
          1993.3,
          1993.4,
          1993.5,
          1993.6,
          1993.7,
          1993.8,
          1993.9,
          1994,
          1994.1,
          1994.2,
          1994.3,
          1994.4,
          1994.5,
          1994.6,
          1994.7,
          1994.8,
          1994.9,
          1995,
          1995.1,
          1995.2,
          1995.3,
          1995.4,
          1995.5,
          1995.6,
          1995.7,
          1995.8,
          1995.9,
          1996,
          1996.1,
          1996.2,
          1996.3,
          1996.4,
          1996.5,
          1996.6,
          1996.7,
          1996.8,
          1996.9,
          1997,
          1997.1,
          1997.2,
          1997.3,
          1997.4,
          1997.5,
          1997.6,
          1997.7,
          1997.8,
          1997.9,
          1998,
          1998.1,
          1998.2,
          1998.3,
          1998.4,
          1998.5,
          1998.6,
          1998.7,
          1998.8,
          1998.9,
          1999,
          1999.1,
          1999.2,
          1999.3,
          1999.4,
          1999.5,
          1999.6,
          1999.7,
          1999.8,
          1999.9,
          2000,
          2000.1,
          2000.2,
          2000.3,
          2000.4,
          2000.5,
          2000.6,
          2000.7,
          2000.8,
          2000.9,
          2001,
          2001.1,
          2001.2,
          2001.3,
          2001.4,
          2001.5,
          2001.6,
          2001.7,
          2001.8,
          2001.9,
          2002,
          2002.1,
          2002.2,
          2002.3,
          2002.4,
          2002.5,
          2002.6,
          2002.7,
          2002.8,
          2002.9,
          2003,
          2003.1,
          2003.2,
          2003.3,
          2003.4,
          2003.5,
          2003.6,
          2003.7,
          2003.8,
          2003.9,
          2004,
          2004.1,
          2004.2,
          2004.3,
          2004.4,
          2004.5,
          2004.6,
          2004.7,
          2004.8,
          2004.9,
          2005,
          2005.1,
          2005.2,
          2005.3,
          2005.4,
          2005.5,
          2005.6,
          2005.7,
          2005.8,
          2005.9,
          2006,
          2006.1,
          2006.2,
          2006.3,
          2006.4,
          2006.5,
          2006.6,
          2006.7,
          2006.8,
          2006.9,
          2007,
          2007.1,
          2007.2,
          2007.3,
          2007.4,
          2007.5,
          2007.6,
          2007.7,
          2007.8,
          2007.9,
          2008,
          2008.1,
          2008.2,
          2008.3,
          2008.4,
          2008.5,
          2008.6,
          2008.7,
          2008.8,
          2008.9,
          2009,
          2009.1,
          2009.2,
          2009.3,
          2009.4,
          2009.5,
          2009.6,
          2009.7,
          2009.8,
          2009.9,
          2010,
          2010.1,
          2010.2,
          2010.3,
          2010.4,
          2010.5,
          2010.6,
          2010.7,
          2010.8,
          2010.9,
          2011,
          2011.1,
          2011.2,
          2011.3,
          2011.4,
          2011.5,
          2011.6,
          2011.7,
          2011.8,
          2011.9,
          2012,
          2012.1,
          2012.2,
          2012.3,
          2012.4,
          2012.5,
          2012.6,
          2012.7,
          2012.8,
          2012.9,
          2013,
          2013.1,
          2013.2,
          2013.3,
          2013.4,
          2013.5,
          2013.6,
          2013.7,
          2013.8,
          2013.9,
          2014,
          2014.1,
          2014.2,
          2014.3,
          2014.4,
          2014.5,
          2014.6,
          2014.7,
          2014.8,
          2014.9,
          2015,
          2015.1,
          2015.2,
          2015.3,
          2015.4,
          2015.5,
          2015.6,
          2015.7,
          2015.8,
          2015.9,
          2016,
          2016.1,
          2016.2,
          2016.3,
          2016.4,
          2016.5,
          2016.6,
          2016.7,
          2016.8,
          2016.9,
          2017,
          2017.1,
          2017.2,
          2017.3,
          2017.4,
          2017.5,
          2017.6,
          2017.7,
          2017.8,
          2017.9,
          2018,
          2018.1,
          2018.2,
          2018.3,
          2018.4,
          2018.5,
          2018.6,
          2018.7,
          2018.8,
          2018.9,
          2019,
          2019.1,
          2019.2,
          2019.3,
          2019.4,
          2019.5,
          2019.6,
          2019.7,
          2019.8,
          2019.9,
          2020
         ],
         "xaxis": "x",
         "y": [
          330000,
          329939.0616743935,
          329886.1285665126,
          329841.1153112844,
          329803.93808407284,
          329774.51440164354,
          329752.76297912985,
          329738.60374543146,
          329731.957710784,
          329732.7470326944,
          329740.89496296895,
          329756.3257838888,
          329778.96481292794,
          329808.7384403476,
          329845.574053654,
          329889.4000011349,
          329940.1455912739,
          329997.74107432284,
          330062.1177277933,
          330133.20774191286,
          330210.94416575844,
          330295.2609072565,
          330386.09273318324,
          330483.3753174436,
          330587.0452566428,
          330697.03992038843,
          330813.29745081434,
          330935.7567977363,
          331064.3577755059,
          331199.04094741604,
          331339.7476112135,
          331486.41980162414,
          331639.0003403144,
          331797.4328007183,
          331961.661435962,
          332131.6311761924,
          332307.28762911086,
          332488.57714155194,
          332675.44678192295,
          332867.8442262399,
          333065.7177515642,
          333269.01623890904,
          333477.68929175194,
          333691.6871833613,
          333910.96072709066,
          334135.46128592856,
          334365.14084568655,
          334599.9520422134,
          334839.84804211656,
          335084.7825441272,
          335334.7097926773,
          335589.5846442515,
          335849.3624907106,
          336113.9992192343,
          336383.45121227927,
          336657.67536078824,
          336936.62914847006,
          337220.2705578252,
          337508.55800919567,
          337801.4503605166,
          338098.90693110786,
          338400.88764354266,
          338707.35286346416,
          339018.2633453166,
          339333.5802410242,
          339653.26521977346,
          339977.2804301017,
          340305.58839749586,
          340638.15202960506,
          340974.934645689,
          341315.9000622535,
          341661.01248037606,
          342010.23645456374,
          342363.5368928887,
          342720.87909304694,
          343082.2288454488,
          343447.5522889962,
          343816.8158644013,
          344189.9863141832,
          344567.03074382467,
          344947.9167784512,
          345332.61232793157,
          345721.0855602553,
          346113.30491372285,
          346509.239276228,
          346908.85789977986,
          347312.13028145314,
          347719.02617056295,
          348129.5156164451,
          348543.56910278846,
          348961.157378233,
          349382.2514164624,
          349806.82241653476,
          350234.84186581714,
          350666.2816957194,
          351101.1140646239,
          351539.31129853387,
          351980.84589107987,
          352425.69060418115,
          352873.8186970555,
          353325.2035804904,
          353779.81877961854,
          354237.6379461031,
          354698.63513039396,
          355162.78470376384,
          355630.06113318366,
          356100.438991249,
          356573.8930091205,
          357050.3983487306,
          357529.9303518369,
          358012.4644278296,
          358497.9760556486,
          358986.4408585285,
          359477.8349325311,
          359972.13451261027,
          360469.31581970805,
          360969.35506106546,
          361472.2285162175,
          361977.91307414655,
          362486.3857803382,
          362997.6235241612,
          363511.6030382162,
          364028.30106675037,
          364547.69519627775,
          365069.76294735394,
          365594.4816030123,
          366121.8282636815,
          366651.78050586383,
          367184.31614464766,
          367719.41280304966,
          368257.04795521754,
          368797.1991030015,
          369339.84419591323,
          369884.9610994235,
          370432.527487931,
          370982.52084518224,
          371534.91860606486,
          372089.6988232154,
          372646.83948467474,
          373206.31816804974,
          373768.1120401642,
          374332.19798988814,
          374898.5538903647,
          375467.15757455956,
          376037.9862001449,
          376611.0162959933,
          377186.22460583446,
          377763.5885924251,
          378343.0851097558,
          378924.6904275708,
          379508.3803188608,
          380094.1311799597,
          380681.91953924584,
          381271.7212168251,
          381863.5113191829,
          382457.264319788,
          383052.9555313296,
          383650.56071858114,
          384250.0545537053,
          384851.4105585071,
          385454.60118581867,
          386059.6002965802,
          386666.38240461104,
          387274.92041585146,
          387885.1857484436,
          388497.1492877671,
          389110.7838858032,
          389726.0612851838,
          390342.95181090536,
          390961.4244302844,
          391581.44874074333,
          392202.995379534,
          392826.03346103674,
          393450.53044889163,
          394076.4522222947,
          394703.7658354173,
          395332.4400646297,
          395962.44150805386,
          396593.73430740926,
          397226.2802401463,
          397860.04353685735,
          398494.990523969,
          399131.0843233878,
          399768.28506995254,
          400406.5514807123,
          401045.84664759587,
          401686.13198420557,
          402327.36602261744,
          402969.50452746067,
          403612.5045206363,
          404256.32613241463,
          404900.92661402334,
          405546.25993018155,
          406192.2769530061,
          406838.9319245877,
          407486.1828971776,
          408133.98370433075,
          408782.28353054746,
          409431.02751971956,
          410080.16831152665,
          410729.66102954984,
          411379.45502114395,
          412029.4943318919,
          412679.722851677,
          413330.0936961295,
          413980.5560140137,
          414631.05400073563,
          415281.5274491191,
          415931.922843925,
          416582.19129465154,
          417232.27840273455,
          417882.12408787,
          418531.6647365773,
          419180.849825234,
          419829.63069567067,
          420477.9510127231,
          421125.7467840942,
          421772.95215732884,
          422419.5225223268,
          423065.41124666785,
          423710.5610722382,
          424354.90418485313,
          424998.37901515595,
          425640.9479657122,
          426282.5617657271,
          426923.1612834852,
          427562.6838425206,
          428201.088668947,
          428838.3321615842,
          429474.36303475534,
          430109.12360891886,
          430742.56973547325,
          431374.6680888006,
          432005.37750626693,
          432634.64853467874,
          433262.4280086517,
          433888.6893752237,
          434513.4102433807,
          435136.5558779465,
          435758.07919939427,
          436377.93573858845,
          436996.1190996008,
          437612.6124275031,
          438227.3854998952,
          438840.3986115138,
          439451.6415234655,
          440061.1115406975,
          440668.79384850117,
          441274.6625922808,
          441878.7007528867,
          442480.9201059855,
          443081.32345722825,
          443679.9012630711,
          444276.633642077,
          444871.5291014652,
          445464.61452607706,
          446055.9009934819,
          446645.38342955033,
          447233.0492340398,
          447818.9333255403,
          448403.07431801205,
          448985.4894469045,
          449566.17504290177,
          450145.13112082053,
          450722.41745895235,
          451298.07961122843,
          451872.1371308734,
          452444.58428962645,
          453015.451077949,
          453584.80439281603,
          454152.68178430194,
          454719.09943217726,
          455284.0806236735,
          455847.6857697364,
          456409.9590058946,
          456970.93096469017,
          457530.6261760226,
          458089.09936710517,
          458646.40479126415,
          459202.5832549994,
          459757.66235187266,
          460311.671555329,
          460864.67821901385,
          461416.7416509045,
          461967.90156441496,
          462518.1780813886,
          463067.5985506389,
          463616.2408451871,
          464164.15955717326,
          464711.3875132928,
          465257.94338364206,
          465803.8861003299,
          466349.2738064078,
          466894.14706108265,
          467438.53075389506,
          467982.46010451106,
          468525.99681196373,
          469069.18872345204,
          469612.0681540372,
          470154.65291306877,
          470696.98283826944,
          471239.1218864419,
          471781.1149666817,
          472322.98623842373,
          472864.7415575652,
          473406.4262329295,
          473948.101181971,
          474489.8014222525,
          475031.54002972774,
          475573.33374023833,
          476115.2382337502,
          476657.29154613113,
          477199.51540055056,
          477741.9183699054,
          478284.5362896213,
          478827.41364634724,
          479370.57871962956,
          479914.04432141175,
          480457.8144599516,
          481001.92976166005,
          481546.4336206056,
          482091.34907157,
          482636.6789975403,
          483182.41900342924,
          483728.61670592823,
          484275.30846779887,
          484822.5076293192,
          485370.207352374,
          485918.42727382225,
          486467.20572765754,
          487016.56184647285,
          487566.4986107034,
          488117.0136085415,
          488668.1393135028,
          489219.90231012716,
          489772.31348551303,
          490325.3683697146,
          490879.06547587307,
          491433.44166667236,
          491988.52221421746,
          492544.3125177915,
          493100.79811355914,
          493657.9774345567,
          494215.8919840916,
          494774.55962381687,
          495333.9769837419,
          495894.1272119724,
          496455.0349499743,
          497016.72335904825,
          497579.1977769286,
          498142.4475440748,
          498706.4709510439,
          499271.2956341841,
          499836.935498949,
          500403.3891643832,
          500970.64071939216,
          501538.6948156238,
          502107.58201576106,
          502677.3148924595,
          503247.886332712,
          503819.2716446811,
          504391.48339875665,
          504964.55193719023,
          505538.48307995556,
          506113.2616074076,
          506688.87295354437,
          507265.3449440075,
          507842.6897936431,
          508420.90345923766,
          508999.9677349678,
          509579.8896348029,
          510160.6908535615,
          510742.37699764036,
          511324.9383198996,
          511908.35470359365,
          512492.64188080106,
          513077.82324268407,
          513663.9022813582,
          514250.86284315865,
          514838.6798757948,
          515427.37987150054,
          516016.98242551147,
          516607.48444630124,
          517198.86253106623,
          517791.1157239791,
          518384.26835651696,
          518978.32572275645,
          519573.2769491377,
          520169.1030573956,
          520765.821072678,
          521363.4466037126,
          521961.979146566,
          522561.40269137756,
          523161.7010624923,
          523762.8992032993,
          524365.0131663657,
          524968.0392364037,
          525571.954017656,
          526176.7434344208,
          526782.4400549699,
          527389.0544564342,
          527996.5762030846,
          528604.9795398697,
          529214.2787729217,
          529824.4921967282,
          530435.6196118884,
          531047.6444824431,
          531660.5547943211,
          532274.3732225193,
          532889.1098178533,
          533504.7589161989,
          534121.2995121272,
          534738.727909381,
          535357.0710699689,
          535976.3386447127,
          536596.5205231628,
          537217.5878295766,
          537839.5407731542,
          538462.4157355307,
          539086.2240089577,
          539710.9493920775,
          540336.5522260468,
          540963.0497734388,
          541590.4729711441,
          542218.8209297198,
          542848.068855827,
          543478.2134846693,
          544109.2765593913,
          544741.260947821,
          545374.155878126,
          546007.9489191688,
          546642.6559561574,
          547278.2863167608,
          547914.837631429,
          548552.295924552,
          549190.6493764851,
          549829.9210374077,
          550470.126600082,
          551111.2631433973,
          551753.3091323806,
          552396.2419084139,
          553040.0951723815,
          553684.8838977958,
          554330.5995713704,
          554977.2168892706,
          555624.7487364225,
          556273.2112150051,
          556922.6038047412,
          557572.912009652,
          558224.1287482831,
          558876.2732053788,
          559529.3535284048,
          560183.3646780798,
          560838.2886047957,
          561494.119732336,
          562150.8855756432,
          562808.5988755911,
          563467.2520034139,
          564126.816965718,
          564787.2859586733,
          565448.6952509799,
          566111.0526947641,
          566774.3434796744,
          567438.545903249,
          568103.6827627567,
          568769.7649894832,
          569436.7882808693,
          570104.7353420788,
          570773.6094864194,
          571443.4289485399,
          572114.198341674,
          572785.9089268398,
          573458.5408363201,
          574132.1021350133,
          574806.6186850336,
          575482.0972052654,
          576158.5242293328,
          576835.8689351785,
          577514.1454571662,
          578193.3825710393,
          578873.5816047757,
          579554.7213051945,
          580236.7919753316,
          580919.81849903,
          581603.807338065,
          582288.7501628431,
          582974.6294527531,
          583661.4582804245,
          584349.2521944318,
          585038.0123787407,
          585727.7261915216,
          586418.3751476553,
          587109.9793160816,
          587802.5602573007,
          588496.1190493118,
          589190.6363281969,
          589886.084774671,
          590582.4950404306,
          591279.8868355146,
          591978.2549989657,
          592677.5738683284,
          593377.8493753831,
          594079.1027664298,
          594781.3365807529,
          595484.5381832876,
          596188.6941044338,
          596893.8243788106,
          597599.9407277284,
          598307.0405488943,
          599015.1070120307,
          599724.1287840093,
          600434.1333134685,
          601145.1364357858,
          601857.133356572,
          602570.0986516845,
          603284.0178789705,
          603998.9282013209,
          604714.8407826438,
          605431.7438736616,
          606149.6122477127,
          606868.4653062876,
          607588.3188046014,
          608309.171101265,
          609031.0051271348,
          609753.8138577007,
          610477.6285264835,
          611202.4751178138,
          611928.3687633772,
          612655.3147436796,
          613383.3435945262,
          614112.5176465386,
          614842.9002200004,
          615574.5554750577,
          616307.5502683475,
          617042.0263065461,
          617778.1935490663,
          618516.3156294611,
          619256.7254249551,
          619999.873598607,
          620746.4049391496,
          621497.1784041176,
          622253.3397619877,
          623016.3270684087,
          623788.0286191483,
          624570.8711370501,
          625367.6836576592,
          626181.6882810199,
          627016.4165932668,
          627875.4104093881,
          628761.8511447834,
          629677.7210034339,
          630623.7475432251,
          631599.414606378,
          632602.785283946,
          633630.9192544483,
          634680.5705398306,
          635748.2290576762,
          636830.5830542363,
          637924.8545970654,
          639028.6775025992,
          640140.1297540044,
          641257.7139965708,
          642380.3201297335,
          643507.1094473568,
          644637.4146271546,
          645770.7381966588,
          646906.7318633242,
          648045.1650477224,
          649185.8779694568,
          650328.730957831,
          651473.6040147772,
          652620.4082780513,
          653769.1348322311,
          654919.7744954438,
          656072.3005184452,
          657226.6718616253,
          658382.8752689329,
          659540.9262005234,
          660700.8304477178,
          661862.5830404381,
          663026.1846028445,
          664191.6668911824,
          665359.0507794464,
          666528.3411736984,
          667699.5270352161,
          668872.6039077746,
          670047.6086957442,
          671224.5621172789,
          672403.4580025866,
          673584.2632939491,
          674766.9507731393,
          675951.5492470192,
          677138.049566028,
          678326.4064069038,
          679516.5493395824,
          680708.4471438904,
          681902.0548230524,
          683097.3082428905,
          684294.1273547816,
          685492.455729661,
          686692.2887560418,
          687893.6363696712,
          689096.5240677994,
          690300.9928408646,
          691507.11833207,
          692715.027874452,
          693924.8280479449,
          695136.5928211,
          696350.3635510767,
          697566.1920849311,
          698784.1782642168,
          700004.3767911292,
          701226.8059944006,
          702451.4685357077,
          703678.4162242579,
          704907.6816961745,
          706139.2770013817,
          707373.1968856517,
          708609.459956807,
          709848.0982098441,
          711089.1270574112,
          712332.5458234787,
          713578.3397288867,
          714826.5255370978,
          716077.1452991366,
          717330.2132126179,
          718585.7131013953,
          719843.6000996068,
          721103.878815674,
          722366.5842211961,
          723631.7084042215,
          724899.2083291942,
          726169.0390365414,
          727441.19334975,
          728715.6223393925,
          729992.2336337417,
          731270.8925635187,
          732551.4576317577,
          733833.7447478378,
          735117.4563110783,
          736402.1780392538,
          737687.375327696,
          738972.3815174464,
          740256.3441915364,
          741538.1665193571,
          742816.504726778,
          744089.7871392582,
          745356.3779748492,
          746614.6109466688,
          747863.1220505266,
          749100.9027470632,
          750327.4604009835,
          751543.1773030318,
          752748.915129924,
          753945.9159007028,
          755135.7665222528,
          756320.0930263052,
          757500.4213793469,
          758678.0613058441,
          759854.0920323101,
          761029.3756103761,
          762204.6278386445,
          763380.4064171945,
          764557.1318972043,
          765735.0904284129,
          766914.4607937427,
          768095.4561692019,
          769278.2282609248,
          770462.8659745152,
          771649.4039869104,
          772837.902280609,
          774028.4254528043,
          775221.0052018149,
          776415.6464700911,
          777612.3499476503,
          778811.1515693227,
          780012.0659857815,
          781215.0828175351,
          782420.1667280226,
          783627.2838725667,
          784836.4449923171,
          786047.6324132682,
          787260.785597624,
          788475.8011437911,
          789692.5619920574,
          790910.984447368,
          792130.8986614175,
          793352.0314250429,
          794574.0085109259,
          795796.3937460853,
          797018.5998854126,
          798239.7844112669,
          799458.8457889649,
          800674.4234658643,
          801884.7695461698,
          803087.8103117964,
          804281.1942413711,
          805462.2989926476,
          806628.5637501398,
          807777.7176961306,
          808908.2654795334,
          810019.6579979132,
          811112.2922678518,
          812187.5060278048,
          813247.5425404599,
          814294.8446413017,
          815331.8488895632,
          816360.9517193304,
          817384.2371583858,
          818403.4314408448,
          819419.926555519,
          820434.7792448839,
          821448.8089675931,
          822462.6600834264,
          823476.8168816209,
          824491.6298481408,
          825507.3198650593,
          826524.0767801218,
          827542.0716996595,
          828561.4172168027,
          829582.172679569,
          830604.3488673258,
          831627.9990823319,
          832653.1862795654,
          833679.9331839031,
          834708.2284079802,
          835738.0744984433,
          836769.5330611507,
          837802.6213365461,
          838837.3371081854,
          839873.6619623717,
          840911.6175441131,
          841951.2504782134,
          842992.5968454252,
          844035.6843257706,
          845080.5406694119,
          846127.2639292168,
          847175.990123817,
          848226.8802439064,
          849280.1228849813,
          850335.9514975809,
          851394.7640703828,
          852457.0667135405,
          853523.4791625824,
          854594.7407448047,
          855671.7491354631,
          856755.6503538976,
          857847.5776461316,
          858948.5822453903,
          860059.6198060458,
          861181.3305217726,
          862313.8811982695,
          863456.9884733245,
          864609.9177573144,
          865771.5392049472,
          866940.646222858,
          868116.0134543973,
          869296.514800069,
          870481.1339982741,
          871668.983348913,
          872859.4411487437,
          874052.0256454158,
          875246.3293961838,
          876442.0237413053,
          877638.8994469657,
          878836.8283134855,
          880035.6962436637,
          881235.4028549785,
          882435.874742836,
          883637.0975940515,
          884839.0596866953,
          886041.7390391453,
          887245.1034906106,
          888449.1324996161,
          889653.8568344676,
          890859.2944343924,
          892065.437548364,
          893272.2527350946,
          894479.7160323455,
          895687.8791699616,
          896896.7611143065,
          898106.3488640584,
          899316.6057929803,
          900527.5465474349,
          901739.1858434667,
          902951.5083320944,
          904164.4716080669,
          905378.0311969143,
          906592.1733686408,
          907806.8491900943,
          909021.96530076,
          910237.3840461138,
          911452.9504359772,
          912668.5066395109,
          913883.8274620861,
          915098.6131281067,
          916312.4893394874,
          917525.0804702071,
          918736.0524190656,
          919945.0973241439,
          921151.9741020339,
          922356.525047388,
          923558.8118105512,
          924759.025132551,
          925957.4022097895,
          927154.2266427404,
          928349.8218448174,
          929544.5187555831,
          930738.5964285514,
          931932.2704182882,
          933125.6938230633,
          934319.0106504529,
          935512.3709708505,
          936705.8772285152,
          937899.5840459567,
          939093.5006717853,
          940287.6768865356,
          941482.1854700177,
          942677.0568135972,
          943872.2864125336,
          945067.8652805489,
          946263.8420723965,
          947460.2417730332,
          948657.066367152,
          949854.2978985409,
          951051.9512554244,
          952250.058765264,
          953448.6306137488,
          954647.6559855284,
          955847.1081478631,
          957047.0043809543,
          958247.3765405065,
          959448.2270678331,
          960649.5287381501,
          961851.2326038941,
          963053.3512518562,
          964255.8947698651,
          965458.8282139793,
          966662.0750795587,
          967865.5601344334,
          969069.2346411383,
          970272.9917932344,
          971476.6645594314,
          972680.0322955229,
          973882.864118827,
          975084.8769633723,
          976285.7345116555,
          977485.050310081,
          978682.4122834515,
          979877.5119881616,
          981070.1309018416,
          982260.1560059873,
          983447.5823092721,
          984632.5256310445,
          985815.2831028883,
          986996.188602182,
          988175.5425290215,
          989353.6140553914,
          990530.6845480999,
          991707.0138613004,
          992882.7950312853,
          994058.1553509918,
          995233.1967827944,
          996408.0410433548,
          997582.6910431032,
          998756.9488419652,
          999930.4975187539,
          1001103.5283116348,
          1002276.9597490511,
          1003451.813715156,
          1004628.9528560842,
          1005809.0341645582,
          1006992.5384000993,
          1008179.8050435615,
          1009371.0794811398,
          1010566.4327950361,
          1011765.8412160391,
          1012969.4959809156,
          1014177.8369918099,
          1015391.3358487715,
          1016610.3551555375,
          1017835.1587613451,
          1019065.8861039793,
          1020302.6212974974,
          1021545.4033483699,
          1022794.0874072874,
          1024048.4489053955,
          1025308.375378058,
          1026573.8069945859,
          1027844.5342723783,
          1029120.196988798,
          1030400.281659249,
          1031684.029290569,
          1032970.376669346,
          1034258.0046895267,
          1035545.3250862992,
          1036830.4540896099,
          1038111.4701804814,
          1039386.5926072479,
          1040654.2717527349,
          1041913.39098837,
          1043163.4952829801,
          1044404.8043294463,
          1045638.26728949,
          1046865.2099779202,
          1048087.2313578299,
          1049306.0244545387,
          1050523.2243101383,
          1051740.338824096,
          1052958.6610669242,
          1054179.2027898182,
          1055402.746028827,
          1056629.8693376,
          1057860.9794529013,
          1059096.3750401211,
          1060336.269136867,
          1061580.8063192037,
          1062830.130706738,
          1064084.364398707,
          1065343.594615953,
          1066607.8696403264,
          1067877.2067971372,
          1069151.6024767447,
          1070431.034347648,
          1071715.462565447,
          1073004.7972027047,
          1074298.8872628643,
          1075597.5207194542,
          1076900.4727572184,
          1078207.5915919638,
          1079518.7357285211,
          1080833.7655124795,
          1082152.5516833288,
          1083474.9199617582,
          1084800.5640850146,
          1086128.995928593,
          1087459.5457172422,
          1088791.41004874,
          1090123.5455846693,
          1091454.6050770502,
          1092782.8435119323,
          1094105.995713214,
          1095421.0971331613,
          1096724.4330189603,
          1098011.3302036112,
          1099276.2280421043,
          1100512.777641275,
          1101714.0887465153,
          1102873.2525620987,
          1103984.4970412452,
          1105043.6223672638,
          1106048.997770643,
          1107001.759731442,
          1107905.5771480692,
          1108765.8941906665,
          1109589.2366087385,
          1110382.3966202696,
          1111151.6647671973,
          1111902.4383623477,
          1112639.0996289712,
          1113365.1428685826,
          1114083.283040479,
          1114795.6005216145,
          1115503.6396844378,
          1116208.5273161521,
          1116911.0849723653,
          1117611.8847432844,
          1118311.3273269704,
          1119009.688773798,
          1119707.1425641426,
          1120403.7926368453,
          1121099.6785672924,
          1121794.7817860164,
          1122489.0765494767,
          1123182.5416527,
          1123875.1591861455,
          1124566.948252785,
          1125257.896516657,
          1125947.9646983808,
          1126637.107225409,
          1127325.278999864,
          1128012.452697388,
          1128698.593904889,
          1129383.656065831,
          1130067.5600939333,
          1130750.1962190801,
          1131431.4191454626,
          1132111.041739055,
          1132788.8111584303,
          1133464.3978094268,
          1134137.3758602885,
          1134807.189226414,
          1135473.1267687567,
          1136134.290810743,
          1136789.5737703484,
          1137437.657025309,
          1138077.0245841788,
          1138706.0654230646,
          1139323.1770714954,
          1139926.9469013116,
          1140516.3950051526,
          1141091.1291978038,
          1141651.3767775733,
          1142197.9851862013,
          1142732.1963280723,
          1143255.5308225728,
          1143769.5355521007,
          1144275.6249354307,
          1144775.0328812518,
          1145268.7866425784,
          1145757.7121948143,
          1146242.4473527917,
          1146723.4786035286,
          1147201.1717897237,
          1147675.7881835776,
          1148147.5124872904,
          1148616.480293311,
          1149082.8022680068,
          1149546.5648544035,
          1150007.8275044137,
          1150466.6271019294,
          1150922.992051524,
          1151376.9434671123,
          1151828.4964194493,
          1152277.662472451,
          1152724.4596778029,
          1153168.9128813676,
          1153611.0324083883,
          1154050.8141016476,
          1154488.2587546145,
          1154923.372535727,
          1155356.1669525923,
          1155786.6591323107,
          1156214.872138372,
          1156640.8365826453,
          1157064.5951652094,
          1157486.2083114223,
          1157905.7596341884,
          1158323.364030246,
          1158739.1751604734,
          1159153.3990531699,
          1159566.3108551006,
          1159978.2671235735,
          1160389.7288910393,
          1160801.2747059201,
          1161213.60398215,
          1161627.5142329673,
          1162043.8662685074,
          1162463.5103866616,
          1162887.1707374654,
          1163315.354995534,
          1163748.2478081554,
          1164185.681967899,
          1164627.1666107462,
          1165071.9709923214,
          1165519.2646301198,
          1165968.1797230123,
          1166417.922017809,
          1166867.796700812,
          1167317.2252109954,
          1167765.7417874066,
          1168212.982888978,
          1168658.6685444117,
          1169102.5868205968,
          1169544.5772294744,
          1169984.5117736147,
          1170422.2959602994,
          1170857.875166879,
          1171291.215650699,
          1171722.2905720135,
          1172151.0795410005,
          1172577.5694090999,
          1173001.752072388,
          1173423.6224722727,
          1173843.1808809615,
          1174260.4323355462,
          1174675.3798366108,
          1175088.0232290034,
          1175498.3639502916,
          1175906.4092481034,
          1176312.1706989808,
          1176715.6640266434,
          1177116.9093034025,
          1177515.932391489,
          1177912.7665640921,
          1178307.4554714838,
          1178700.057512239,
          1179090.6496756957,
          1179479.331363779,
          1179866.2389443303,
          1180251.554769072,
          1180635.5125011764,
          1181018.4180839704,
          1181400.6631521855,
          1181782.7362732626,
          1182165.2228605023,
          1182548.7970437016,
          1182934.1849880733,
          1183322.0934278243,
          1183713.1385038192,
          1184107.7354602697,
          1184506.0331962067,
          1184907.8824734618,
          1185312.8629355554,
          1185720.3775182087,
          1186129.708875697,
          1186540.1331703467,
          1186950.9794898583,
          1187361.6546406387,
          1187771.6697068624,
          1188180.6338859168,
          1188588.2440753211,
          1188994.2704865572,
          1189398.5388284214,
          1189800.9189096193,
          1190201.3073235103,
          1190599.627638212,
          1190995.8373741754,
          1191389.9106083505,
          1191781.8278392225,
          1192171.5754383476,
          1192559.1459575333,
          1192944.536916494,
          1193327.747207872,
          1193708.7769280076,
          1194087.6173663836,
          1194464.2642017638,
          1194838.724657192,
          1195211.013507614,
          1195581.1402513883,
          1195949.1104578283,
          1196314.9252445798,
          1196678.5832297234,
          1197040.0820004966,
          1197399.4211620816,
          1197756.6032385454,
          1198111.6267591575,
          1198464.4688770082,
          1198815.0954512944,
          1199163.4661150784,
          1199509.5265678805,
          1199853.2053124132,
          1200194.405850449,
          1200533.0007664848,
          1200868.826983417,
          1201201.6879581986,
          1201531.3527157998,
          1201857.5672766757,
          1202180.0771190242,
          1202498.6671739488,
          1202813.1914107334,
          1203123.5981526915,
          1203429.9402162088,
          1203732.367100338,
          1204031.1003986464,
          1204326.393474011,
          1204618.5095342263,
          1204907.6940255803,
          1205194.1615657948,
          1205478.0928353001,
          1205759.6328437976,
          1206038.8976138863,
          1206315.9775164025,
          1206590.9412156092,
          1206863.843446548,
          1207134.7267835562,
          1207403.6246948119,
          1207670.564322867,
          1207935.5676553934,
          1208198.6528328618,
          1208459.8361311676,
          1208719.1326115625,
          1208976.5562994306,
          1209232.1198615534,
          1209485.8327847319,
          1209737.700843963,
          1209987.7309867574,
          1210235.9355962868,
          1210482.3273727857,
          1210726.9153217275,
          1210969.7077203603,
          1211210.7116442285,
          1211449.9332772344,
          1211687.3795297844,
          1211923.0575482855,
          1212156.9749554181,
          1212389.1397480932,
          1212619.5610660515,
          1212848.2473520907,
          1213075.2069751644,
          1213300.4479367381,
          1213523.9779706313,
          1213745.8045595172,
          1213965.9351084398,
          1214184.377285011,
          1214401.1384628806,
          1214616.2259519577,
          1214829.6473774754,
          1215041.4100722107,
          1215251.5210482646,
          1215459.9876737085
         ],
         "yaxis": "y"
        },
        {
         "hovertemplate": "x=%{x}<br>y=%{y}<extra></extra>",
         "legendgroup": "",
         "marker": {
          "color": "red",
          "symbol": "circle"
         },
         "mode": "markers",
         "name": "",
         "orientation": "v",
         "showlegend": false,
         "type": "scatter",
         "x": [
          2009,
          2019
         ],
         "xaxis": "x",
         "y": [
          1207100,
          1194300
         ],
         "yaxis": "y"
        }
       ],
       "layout": {
        "template": {
         "data": {
          "bar": [
           {
            "error_x": {
             "color": "#2a3f5f"
            },
            "error_y": {
             "color": "#2a3f5f"
            },
            "marker": {
             "line": {
              "color": "#E5ECF6",
              "width": 0.5
             },
             "pattern": {
              "fillmode": "overlay",
              "size": 10,
              "solidity": 0.2
             }
            },
            "type": "bar"
           }
          ],
          "barpolar": [
           {
            "marker": {
             "line": {
              "color": "#E5ECF6",
              "width": 0.5
             },
             "pattern": {
              "fillmode": "overlay",
              "size": 10,
              "solidity": 0.2
             }
            },
            "type": "barpolar"
           }
          ],
          "carpet": [
           {
            "aaxis": {
             "endlinecolor": "#2a3f5f",
             "gridcolor": "white",
             "linecolor": "white",
             "minorgridcolor": "white",
             "startlinecolor": "#2a3f5f"
            },
            "baxis": {
             "endlinecolor": "#2a3f5f",
             "gridcolor": "white",
             "linecolor": "white",
             "minorgridcolor": "white",
             "startlinecolor": "#2a3f5f"
            },
            "type": "carpet"
           }
          ],
          "choropleth": [
           {
            "colorbar": {
             "outlinewidth": 0,
             "ticks": ""
            },
            "type": "choropleth"
           }
          ],
          "contour": [
           {
            "colorbar": {
             "outlinewidth": 0,
             "ticks": ""
            },
            "colorscale": [
             [
              0,
              "#0d0887"
             ],
             [
              0.1111111111111111,
              "#46039f"
             ],
             [
              0.2222222222222222,
              "#7201a8"
             ],
             [
              0.3333333333333333,
              "#9c179e"
             ],
             [
              0.4444444444444444,
              "#bd3786"
             ],
             [
              0.5555555555555556,
              "#d8576b"
             ],
             [
              0.6666666666666666,
              "#ed7953"
             ],
             [
              0.7777777777777778,
              "#fb9f3a"
             ],
             [
              0.8888888888888888,
              "#fdca26"
             ],
             [
              1,
              "#f0f921"
             ]
            ],
            "type": "contour"
           }
          ],
          "contourcarpet": [
           {
            "colorbar": {
             "outlinewidth": 0,
             "ticks": ""
            },
            "type": "contourcarpet"
           }
          ],
          "heatmap": [
           {
            "colorbar": {
             "outlinewidth": 0,
             "ticks": ""
            },
            "colorscale": [
             [
              0,
              "#0d0887"
             ],
             [
              0.1111111111111111,
              "#46039f"
             ],
             [
              0.2222222222222222,
              "#7201a8"
             ],
             [
              0.3333333333333333,
              "#9c179e"
             ],
             [
              0.4444444444444444,
              "#bd3786"
             ],
             [
              0.5555555555555556,
              "#d8576b"
             ],
             [
              0.6666666666666666,
              "#ed7953"
             ],
             [
              0.7777777777777778,
              "#fb9f3a"
             ],
             [
              0.8888888888888888,
              "#fdca26"
             ],
             [
              1,
              "#f0f921"
             ]
            ],
            "type": "heatmap"
           }
          ],
          "heatmapgl": [
           {
            "colorbar": {
             "outlinewidth": 0,
             "ticks": ""
            },
            "colorscale": [
             [
              0,
              "#0d0887"
             ],
             [
              0.1111111111111111,
              "#46039f"
             ],
             [
              0.2222222222222222,
              "#7201a8"
             ],
             [
              0.3333333333333333,
              "#9c179e"
             ],
             [
              0.4444444444444444,
              "#bd3786"
             ],
             [
              0.5555555555555556,
              "#d8576b"
             ],
             [
              0.6666666666666666,
              "#ed7953"
             ],
             [
              0.7777777777777778,
              "#fb9f3a"
             ],
             [
              0.8888888888888888,
              "#fdca26"
             ],
             [
              1,
              "#f0f921"
             ]
            ],
            "type": "heatmapgl"
           }
          ],
          "histogram": [
           {
            "marker": {
             "pattern": {
              "fillmode": "overlay",
              "size": 10,
              "solidity": 0.2
             }
            },
            "type": "histogram"
           }
          ],
          "histogram2d": [
           {
            "colorbar": {
             "outlinewidth": 0,
             "ticks": ""
            },
            "colorscale": [
             [
              0,
              "#0d0887"
             ],
             [
              0.1111111111111111,
              "#46039f"
             ],
             [
              0.2222222222222222,
              "#7201a8"
             ],
             [
              0.3333333333333333,
              "#9c179e"
             ],
             [
              0.4444444444444444,
              "#bd3786"
             ],
             [
              0.5555555555555556,
              "#d8576b"
             ],
             [
              0.6666666666666666,
              "#ed7953"
             ],
             [
              0.7777777777777778,
              "#fb9f3a"
             ],
             [
              0.8888888888888888,
              "#fdca26"
             ],
             [
              1,
              "#f0f921"
             ]
            ],
            "type": "histogram2d"
           }
          ],
          "histogram2dcontour": [
           {
            "colorbar": {
             "outlinewidth": 0,
             "ticks": ""
            },
            "colorscale": [
             [
              0,
              "#0d0887"
             ],
             [
              0.1111111111111111,
              "#46039f"
             ],
             [
              0.2222222222222222,
              "#7201a8"
             ],
             [
              0.3333333333333333,
              "#9c179e"
             ],
             [
              0.4444444444444444,
              "#bd3786"
             ],
             [
              0.5555555555555556,
              "#d8576b"
             ],
             [
              0.6666666666666666,
              "#ed7953"
             ],
             [
              0.7777777777777778,
              "#fb9f3a"
             ],
             [
              0.8888888888888888,
              "#fdca26"
             ],
             [
              1,
              "#f0f921"
             ]
            ],
            "type": "histogram2dcontour"
           }
          ],
          "mesh3d": [
           {
            "colorbar": {
             "outlinewidth": 0,
             "ticks": ""
            },
            "type": "mesh3d"
           }
          ],
          "parcoords": [
           {
            "line": {
             "colorbar": {
              "outlinewidth": 0,
              "ticks": ""
             }
            },
            "type": "parcoords"
           }
          ],
          "pie": [
           {
            "automargin": true,
            "type": "pie"
           }
          ],
          "scatter": [
           {
            "fillpattern": {
             "fillmode": "overlay",
             "size": 10,
             "solidity": 0.2
            },
            "type": "scatter"
           }
          ],
          "scatter3d": [
           {
            "line": {
             "colorbar": {
              "outlinewidth": 0,
              "ticks": ""
             }
            },
            "marker": {
             "colorbar": {
              "outlinewidth": 0,
              "ticks": ""
             }
            },
            "type": "scatter3d"
           }
          ],
          "scattercarpet": [
           {
            "marker": {
             "colorbar": {
              "outlinewidth": 0,
              "ticks": ""
             }
            },
            "type": "scattercarpet"
           }
          ],
          "scattergeo": [
           {
            "marker": {
             "colorbar": {
              "outlinewidth": 0,
              "ticks": ""
             }
            },
            "type": "scattergeo"
           }
          ],
          "scattergl": [
           {
            "marker": {
             "colorbar": {
              "outlinewidth": 0,
              "ticks": ""
             }
            },
            "type": "scattergl"
           }
          ],
          "scattermapbox": [
           {
            "marker": {
             "colorbar": {
              "outlinewidth": 0,
              "ticks": ""
             }
            },
            "type": "scattermapbox"
           }
          ],
          "scatterpolar": [
           {
            "marker": {
             "colorbar": {
              "outlinewidth": 0,
              "ticks": ""
             }
            },
            "type": "scatterpolar"
           }
          ],
          "scatterpolargl": [
           {
            "marker": {
             "colorbar": {
              "outlinewidth": 0,
              "ticks": ""
             }
            },
            "type": "scatterpolargl"
           }
          ],
          "scatterternary": [
           {
            "marker": {
             "colorbar": {
              "outlinewidth": 0,
              "ticks": ""
             }
            },
            "type": "scatterternary"
           }
          ],
          "surface": [
           {
            "colorbar": {
             "outlinewidth": 0,
             "ticks": ""
            },
            "colorscale": [
             [
              0,
              "#0d0887"
             ],
             [
              0.1111111111111111,
              "#46039f"
             ],
             [
              0.2222222222222222,
              "#7201a8"
             ],
             [
              0.3333333333333333,
              "#9c179e"
             ],
             [
              0.4444444444444444,
              "#bd3786"
             ],
             [
              0.5555555555555556,
              "#d8576b"
             ],
             [
              0.6666666666666666,
              "#ed7953"
             ],
             [
              0.7777777777777778,
              "#fb9f3a"
             ],
             [
              0.8888888888888888,
              "#fdca26"
             ],
             [
              1,
              "#f0f921"
             ]
            ],
            "type": "surface"
           }
          ],
          "table": [
           {
            "cells": {
             "fill": {
              "color": "#EBF0F8"
             },
             "line": {
              "color": "white"
             }
            },
            "header": {
             "fill": {
              "color": "#C8D4E3"
             },
             "line": {
              "color": "white"
             }
            },
            "type": "table"
           }
          ]
         },
         "layout": {
          "annotationdefaults": {
           "arrowcolor": "#2a3f5f",
           "arrowhead": 0,
           "arrowwidth": 1
          },
          "autotypenumbers": "strict",
          "coloraxis": {
           "colorbar": {
            "outlinewidth": 0,
            "ticks": ""
           }
          },
          "colorscale": {
           "diverging": [
            [
             0,
             "#8e0152"
            ],
            [
             0.1,
             "#c51b7d"
            ],
            [
             0.2,
             "#de77ae"
            ],
            [
             0.3,
             "#f1b6da"
            ],
            [
             0.4,
             "#fde0ef"
            ],
            [
             0.5,
             "#f7f7f7"
            ],
            [
             0.6,
             "#e6f5d0"
            ],
            [
             0.7,
             "#b8e186"
            ],
            [
             0.8,
             "#7fbc41"
            ],
            [
             0.9,
             "#4d9221"
            ],
            [
             1,
             "#276419"
            ]
           ],
           "sequential": [
            [
             0,
             "#0d0887"
            ],
            [
             0.1111111111111111,
             "#46039f"
            ],
            [
             0.2222222222222222,
             "#7201a8"
            ],
            [
             0.3333333333333333,
             "#9c179e"
            ],
            [
             0.4444444444444444,
             "#bd3786"
            ],
            [
             0.5555555555555556,
             "#d8576b"
            ],
            [
             0.6666666666666666,
             "#ed7953"
            ],
            [
             0.7777777777777778,
             "#fb9f3a"
            ],
            [
             0.8888888888888888,
             "#fdca26"
            ],
            [
             1,
             "#f0f921"
            ]
           ],
           "sequentialminus": [
            [
             0,
             "#0d0887"
            ],
            [
             0.1111111111111111,
             "#46039f"
            ],
            [
             0.2222222222222222,
             "#7201a8"
            ],
            [
             0.3333333333333333,
             "#9c179e"
            ],
            [
             0.4444444444444444,
             "#bd3786"
            ],
            [
             0.5555555555555556,
             "#d8576b"
            ],
            [
             0.6666666666666666,
             "#ed7953"
            ],
            [
             0.7777777777777778,
             "#fb9f3a"
            ],
            [
             0.8888888888888888,
             "#fdca26"
            ],
            [
             1,
             "#f0f921"
            ]
           ]
          },
          "colorway": [
           "#636efa",
           "#EF553B",
           "#00cc96",
           "#ab63fa",
           "#FFA15A",
           "#19d3f3",
           "#FF6692",
           "#B6E880",
           "#FF97FF",
           "#FECB52"
          ],
          "font": {
           "color": "#2a3f5f"
          },
          "geo": {
           "bgcolor": "white",
           "lakecolor": "white",
           "landcolor": "#E5ECF6",
           "showlakes": true,
           "showland": true,
           "subunitcolor": "white"
          },
          "hoverlabel": {
           "align": "left"
          },
          "hovermode": "closest",
          "mapbox": {
           "style": "light"
          },
          "paper_bgcolor": "white",
          "plot_bgcolor": "#E5ECF6",
          "polar": {
           "angularaxis": {
            "gridcolor": "white",
            "linecolor": "white",
            "ticks": ""
           },
           "bgcolor": "#E5ECF6",
           "radialaxis": {
            "gridcolor": "white",
            "linecolor": "white",
            "ticks": ""
           }
          },
          "scene": {
           "xaxis": {
            "backgroundcolor": "#E5ECF6",
            "gridcolor": "white",
            "gridwidth": 2,
            "linecolor": "white",
            "showbackground": true,
            "ticks": "",
            "zerolinecolor": "white"
           },
           "yaxis": {
            "backgroundcolor": "#E5ECF6",
            "gridcolor": "white",
            "gridwidth": 2,
            "linecolor": "white",
            "showbackground": true,
            "ticks": "",
            "zerolinecolor": "white"
           },
           "zaxis": {
            "backgroundcolor": "#E5ECF6",
            "gridcolor": "white",
            "gridwidth": 2,
            "linecolor": "white",
            "showbackground": true,
            "ticks": "",
            "zerolinecolor": "white"
           }
          },
          "shapedefaults": {
           "line": {
            "color": "#2a3f5f"
           }
          },
          "ternary": {
           "aaxis": {
            "gridcolor": "white",
            "linecolor": "white",
            "ticks": ""
           },
           "baxis": {
            "gridcolor": "white",
            "linecolor": "white",
            "ticks": ""
           },
           "bgcolor": "#E5ECF6",
           "caxis": {
            "gridcolor": "white",
            "linecolor": "white",
            "ticks": ""
           }
          },
          "title": {
           "x": 0.05
          },
          "xaxis": {
           "automargin": true,
           "gridcolor": "white",
           "linecolor": "white",
           "ticks": "",
           "title": {
            "standoff": 15
           },
           "zerolinecolor": "white",
           "zerolinewidth": 2
          },
          "yaxis": {
           "automargin": true,
           "gridcolor": "white",
           "linecolor": "white",
           "ticks": "",
           "title": {
            "standoff": 15
           },
           "zerolinecolor": "white",
           "zerolinewidth": 2
          }
         }
        },
        "title": {
         "text": "Modelled vs Data",
         "x": 0.5
        },
        "xaxis": {
         "title": {
          "text": "Year"
         }
        },
        "yaxis": {
         "title": {
          "text": "Population"
         }
        }
       }
      }
     },
     "metadata": {},
     "output_type": "display_data"
    }
   ],
   "source": [
    "fig2_1 = px.line(\n",
    "    derived_df_0,\n",
    "    x=derived_df_0.index,\n",
    "    y=\"total_population\",\n",
    ")\n",
    "fig2_2 = px.scatter(x= plots['total_population']['times'], y = plots['total_population']['values'])\n",
    "fig2_2.update_traces(marker=dict(color=\"red\"))\n",
    "fig2_3 = go.Figure(\n",
    "    data=fig2_1.data + fig2_2.data,\n",
    ")\n",
    "fig2_3.update_layout(\n",
    "    title=\"Modelled vs Data\", title_x=0.5, xaxis_title=\"Year\", yaxis_title=\"Population\"\n",
    ")\n",
    "fig2_3.show()"
   ]
  },
  {
   "cell_type": "code",
   "execution_count": 15,
   "metadata": {},
   "outputs": [
    {
     "data": {
      "application/vnd.plotly.v1+json": {
       "config": {
        "plotlyServerURL": "https://plot.ly"
       },
       "data": [
        {
         "hovertemplate": "index=%{x}<br>percentage_latent=%{y}<extra></extra>",
         "legendgroup": "",
         "line": {
          "color": "#636efa",
          "dash": "solid"
         },
         "marker": {
          "symbol": "circle"
         },
         "mode": "lines",
         "name": "",
         "showlegend": false,
         "type": "scattergl",
         "x": [
          1900,
          1900.1,
          1900.2,
          1900.3,
          1900.4,
          1900.5,
          1900.6,
          1900.7,
          1900.8,
          1900.9,
          1901,
          1901.1,
          1901.2,
          1901.3,
          1901.4,
          1901.5,
          1901.6,
          1901.7,
          1901.8,
          1901.9,
          1902,
          1902.1,
          1902.2,
          1902.3,
          1902.4,
          1902.5,
          1902.6,
          1902.7,
          1902.8,
          1902.9,
          1903,
          1903.1,
          1903.2,
          1903.3,
          1903.4,
          1903.5,
          1903.6,
          1903.7,
          1903.8,
          1903.9,
          1904,
          1904.1,
          1904.2,
          1904.3,
          1904.4,
          1904.5,
          1904.6,
          1904.7,
          1904.8,
          1904.9,
          1905,
          1905.1,
          1905.2,
          1905.3,
          1905.4,
          1905.5,
          1905.6,
          1905.7,
          1905.8,
          1905.9,
          1906,
          1906.1,
          1906.2,
          1906.3,
          1906.4,
          1906.5,
          1906.6,
          1906.7,
          1906.8,
          1906.9,
          1907,
          1907.1,
          1907.2,
          1907.3,
          1907.4,
          1907.5,
          1907.6,
          1907.7,
          1907.8,
          1907.9,
          1908,
          1908.1,
          1908.2,
          1908.3,
          1908.4,
          1908.5,
          1908.6,
          1908.7,
          1908.8,
          1908.9,
          1909,
          1909.1,
          1909.2,
          1909.3,
          1909.4,
          1909.5,
          1909.6,
          1909.7,
          1909.8,
          1909.9,
          1910,
          1910.1,
          1910.2,
          1910.3,
          1910.4,
          1910.5,
          1910.6,
          1910.7,
          1910.8,
          1910.9,
          1911,
          1911.1,
          1911.2,
          1911.3,
          1911.4,
          1911.5,
          1911.6,
          1911.7,
          1911.8,
          1911.9,
          1912,
          1912.1,
          1912.2,
          1912.3,
          1912.4,
          1912.5,
          1912.6,
          1912.7,
          1912.8,
          1912.9,
          1913,
          1913.1,
          1913.2,
          1913.3,
          1913.4,
          1913.5,
          1913.6,
          1913.7,
          1913.8,
          1913.9,
          1914,
          1914.1,
          1914.2,
          1914.3,
          1914.4,
          1914.5,
          1914.6,
          1914.7,
          1914.8,
          1914.9,
          1915,
          1915.1,
          1915.2,
          1915.3,
          1915.4,
          1915.5,
          1915.6,
          1915.7,
          1915.8,
          1915.9,
          1916,
          1916.1,
          1916.2,
          1916.3,
          1916.4,
          1916.5,
          1916.6,
          1916.7,
          1916.8,
          1916.9,
          1917,
          1917.1,
          1917.2,
          1917.3,
          1917.4,
          1917.5,
          1917.6,
          1917.7,
          1917.8,
          1917.9,
          1918,
          1918.1,
          1918.2,
          1918.3,
          1918.4,
          1918.5,
          1918.6,
          1918.7,
          1918.8,
          1918.9,
          1919,
          1919.1,
          1919.2,
          1919.3,
          1919.4,
          1919.5,
          1919.6,
          1919.7,
          1919.8,
          1919.9,
          1920,
          1920.1,
          1920.2,
          1920.3,
          1920.4,
          1920.5,
          1920.6,
          1920.7,
          1920.8,
          1920.9,
          1921,
          1921.1,
          1921.2,
          1921.3,
          1921.4,
          1921.5,
          1921.6,
          1921.7,
          1921.8,
          1921.9,
          1922,
          1922.1,
          1922.2,
          1922.3,
          1922.4,
          1922.5,
          1922.6,
          1922.7,
          1922.8,
          1922.9,
          1923,
          1923.1,
          1923.2,
          1923.3,
          1923.4,
          1923.5,
          1923.6,
          1923.7,
          1923.8,
          1923.9,
          1924,
          1924.1,
          1924.2,
          1924.3,
          1924.4,
          1924.5,
          1924.6,
          1924.7,
          1924.8,
          1924.9,
          1925,
          1925.1,
          1925.2,
          1925.3,
          1925.4,
          1925.5,
          1925.6,
          1925.7,
          1925.8,
          1925.9,
          1926,
          1926.1,
          1926.2,
          1926.3,
          1926.4,
          1926.5,
          1926.6,
          1926.7,
          1926.8,
          1926.9,
          1927,
          1927.1,
          1927.2,
          1927.3,
          1927.4,
          1927.5,
          1927.6,
          1927.7,
          1927.8,
          1927.9,
          1928,
          1928.1,
          1928.2,
          1928.3,
          1928.4,
          1928.5,
          1928.6,
          1928.7,
          1928.8,
          1928.9,
          1929,
          1929.1,
          1929.2,
          1929.3,
          1929.4,
          1929.5,
          1929.6,
          1929.7,
          1929.8,
          1929.9,
          1930,
          1930.1,
          1930.2,
          1930.3,
          1930.4,
          1930.5,
          1930.6,
          1930.7,
          1930.8,
          1930.9,
          1931,
          1931.1,
          1931.2,
          1931.3,
          1931.4,
          1931.5,
          1931.6,
          1931.7,
          1931.8,
          1931.9,
          1932,
          1932.1,
          1932.2,
          1932.3,
          1932.4,
          1932.5,
          1932.6,
          1932.7,
          1932.8,
          1932.9,
          1933,
          1933.1,
          1933.2,
          1933.3,
          1933.4,
          1933.5,
          1933.6,
          1933.7,
          1933.8,
          1933.9,
          1934,
          1934.1,
          1934.2,
          1934.3,
          1934.4,
          1934.5,
          1934.6,
          1934.7,
          1934.8,
          1934.9,
          1935,
          1935.1,
          1935.2,
          1935.3,
          1935.4,
          1935.5,
          1935.6,
          1935.7,
          1935.8,
          1935.9,
          1936,
          1936.1,
          1936.2,
          1936.3,
          1936.4,
          1936.5,
          1936.6,
          1936.7,
          1936.8,
          1936.9,
          1937,
          1937.1,
          1937.2,
          1937.3,
          1937.4,
          1937.5,
          1937.6,
          1937.7,
          1937.8,
          1937.9,
          1938,
          1938.1,
          1938.2,
          1938.3,
          1938.4,
          1938.5,
          1938.6,
          1938.7,
          1938.8,
          1938.9,
          1939,
          1939.1,
          1939.2,
          1939.3,
          1939.4,
          1939.5,
          1939.6,
          1939.7,
          1939.8,
          1939.9,
          1940,
          1940.1,
          1940.2,
          1940.3,
          1940.4,
          1940.5,
          1940.6,
          1940.7,
          1940.8,
          1940.9,
          1941,
          1941.1,
          1941.2,
          1941.3,
          1941.4,
          1941.5,
          1941.6,
          1941.7,
          1941.8,
          1941.9,
          1942,
          1942.1,
          1942.2,
          1942.3,
          1942.4,
          1942.5,
          1942.6,
          1942.7,
          1942.8,
          1942.9,
          1943,
          1943.1,
          1943.2,
          1943.3,
          1943.4,
          1943.5,
          1943.6,
          1943.7,
          1943.8,
          1943.9,
          1944,
          1944.1,
          1944.2,
          1944.3,
          1944.4,
          1944.5,
          1944.6,
          1944.7,
          1944.8,
          1944.9,
          1945,
          1945.1,
          1945.2,
          1945.3,
          1945.4,
          1945.5,
          1945.6,
          1945.7,
          1945.8,
          1945.9,
          1946,
          1946.1,
          1946.2,
          1946.3,
          1946.4,
          1946.5,
          1946.6,
          1946.7,
          1946.8,
          1946.9,
          1947,
          1947.1,
          1947.2,
          1947.3,
          1947.4,
          1947.5,
          1947.6,
          1947.7,
          1947.8,
          1947.9,
          1948,
          1948.1,
          1948.2,
          1948.3,
          1948.4,
          1948.5,
          1948.6,
          1948.7,
          1948.8,
          1948.9,
          1949,
          1949.1,
          1949.2,
          1949.3,
          1949.4,
          1949.5,
          1949.6,
          1949.7,
          1949.8,
          1949.9,
          1950,
          1950.1,
          1950.2,
          1950.3,
          1950.4,
          1950.5,
          1950.6,
          1950.7,
          1950.8,
          1950.9,
          1951,
          1951.1,
          1951.2,
          1951.3,
          1951.4,
          1951.5,
          1951.6,
          1951.7,
          1951.8,
          1951.9,
          1952,
          1952.1,
          1952.2,
          1952.3,
          1952.4,
          1952.5,
          1952.6,
          1952.7,
          1952.8,
          1952.9,
          1953,
          1953.1,
          1953.2,
          1953.3,
          1953.4,
          1953.5,
          1953.6,
          1953.7,
          1953.8,
          1953.9,
          1954,
          1954.1,
          1954.2,
          1954.3,
          1954.4,
          1954.5,
          1954.6,
          1954.7,
          1954.8,
          1954.9,
          1955,
          1955.1,
          1955.2,
          1955.3,
          1955.4,
          1955.5,
          1955.6,
          1955.7,
          1955.8,
          1955.9,
          1956,
          1956.1,
          1956.2,
          1956.3,
          1956.4,
          1956.5,
          1956.6,
          1956.7,
          1956.8,
          1956.9,
          1957,
          1957.1,
          1957.2,
          1957.3,
          1957.4,
          1957.5,
          1957.6,
          1957.7,
          1957.8,
          1957.9,
          1958,
          1958.1,
          1958.2,
          1958.3,
          1958.4,
          1958.5,
          1958.6,
          1958.7,
          1958.8,
          1958.9,
          1959,
          1959.1,
          1959.2,
          1959.3,
          1959.4,
          1959.5,
          1959.6,
          1959.7,
          1959.8,
          1959.9,
          1960,
          1960.1,
          1960.2,
          1960.3,
          1960.4,
          1960.5,
          1960.6,
          1960.7,
          1960.8,
          1960.9,
          1961,
          1961.1,
          1961.2,
          1961.3,
          1961.4,
          1961.5,
          1961.6,
          1961.7,
          1961.8,
          1961.9,
          1962,
          1962.1,
          1962.2,
          1962.3,
          1962.4,
          1962.5,
          1962.6,
          1962.7,
          1962.8,
          1962.9,
          1963,
          1963.1,
          1963.2,
          1963.3,
          1963.4,
          1963.5,
          1963.6,
          1963.7,
          1963.8,
          1963.9,
          1964,
          1964.1,
          1964.2,
          1964.3,
          1964.4,
          1964.5,
          1964.6,
          1964.7,
          1964.8,
          1964.9,
          1965,
          1965.1,
          1965.2,
          1965.3,
          1965.4,
          1965.5,
          1965.6,
          1965.7,
          1965.8,
          1965.9,
          1966,
          1966.1,
          1966.2,
          1966.3,
          1966.4,
          1966.5,
          1966.6,
          1966.7,
          1966.8,
          1966.9,
          1967,
          1967.1,
          1967.2,
          1967.3,
          1967.4,
          1967.5,
          1967.6,
          1967.7,
          1967.8,
          1967.9,
          1968,
          1968.1,
          1968.2,
          1968.3,
          1968.4,
          1968.5,
          1968.6,
          1968.7,
          1968.8,
          1968.9,
          1969,
          1969.1,
          1969.2,
          1969.3,
          1969.4,
          1969.5,
          1969.6,
          1969.7,
          1969.8,
          1969.9,
          1970,
          1970.1,
          1970.2,
          1970.3,
          1970.4,
          1970.5,
          1970.6,
          1970.7,
          1970.8,
          1970.9,
          1971,
          1971.1,
          1971.2,
          1971.3,
          1971.4,
          1971.5,
          1971.6,
          1971.7,
          1971.8,
          1971.9,
          1972,
          1972.1,
          1972.2,
          1972.3,
          1972.4,
          1972.5,
          1972.6,
          1972.7,
          1972.8,
          1972.9,
          1973,
          1973.1,
          1973.2,
          1973.3,
          1973.4,
          1973.5,
          1973.6,
          1973.7,
          1973.8,
          1973.9,
          1974,
          1974.1,
          1974.2,
          1974.3,
          1974.4,
          1974.5,
          1974.6,
          1974.7,
          1974.8,
          1974.9,
          1975,
          1975.1,
          1975.2,
          1975.3,
          1975.4,
          1975.5,
          1975.6,
          1975.7,
          1975.8,
          1975.9,
          1976,
          1976.1,
          1976.2,
          1976.3,
          1976.4,
          1976.5,
          1976.6,
          1976.7,
          1976.8,
          1976.9,
          1977,
          1977.1,
          1977.2,
          1977.3,
          1977.4,
          1977.5,
          1977.6,
          1977.7,
          1977.8,
          1977.9,
          1978,
          1978.1,
          1978.2,
          1978.3,
          1978.4,
          1978.5,
          1978.6,
          1978.7,
          1978.8,
          1978.9,
          1979,
          1979.1,
          1979.2,
          1979.3,
          1979.4,
          1979.5,
          1979.6,
          1979.7,
          1979.8,
          1979.9,
          1980,
          1980.1,
          1980.2,
          1980.3,
          1980.4,
          1980.5,
          1980.6,
          1980.7,
          1980.8,
          1980.9,
          1981,
          1981.1,
          1981.2,
          1981.3,
          1981.4,
          1981.5,
          1981.6,
          1981.7,
          1981.8,
          1981.9,
          1982,
          1982.1,
          1982.2,
          1982.3,
          1982.4,
          1982.5,
          1982.6,
          1982.7,
          1982.8,
          1982.9,
          1983,
          1983.1,
          1983.2,
          1983.3,
          1983.4,
          1983.5,
          1983.6,
          1983.7,
          1983.8,
          1983.9,
          1984,
          1984.1,
          1984.2,
          1984.3,
          1984.4,
          1984.5,
          1984.6,
          1984.7,
          1984.8,
          1984.9,
          1985,
          1985.1,
          1985.2,
          1985.3,
          1985.4,
          1985.5,
          1985.6,
          1985.7,
          1985.8,
          1985.9,
          1986,
          1986.1,
          1986.2,
          1986.3,
          1986.4,
          1986.5,
          1986.6,
          1986.7,
          1986.8,
          1986.9,
          1987,
          1987.1,
          1987.2,
          1987.3,
          1987.4,
          1987.5,
          1987.6,
          1987.7,
          1987.8,
          1987.9,
          1988,
          1988.1,
          1988.2,
          1988.3,
          1988.4,
          1988.5,
          1988.6,
          1988.7,
          1988.8,
          1988.9,
          1989,
          1989.1,
          1989.2,
          1989.3,
          1989.4,
          1989.5,
          1989.6,
          1989.7,
          1989.8,
          1989.9,
          1990,
          1990.1,
          1990.2,
          1990.3,
          1990.4,
          1990.5,
          1990.6,
          1990.7,
          1990.8,
          1990.9,
          1991,
          1991.1,
          1991.2,
          1991.3,
          1991.4,
          1991.5,
          1991.6,
          1991.7,
          1991.8,
          1991.9,
          1992,
          1992.1,
          1992.2,
          1992.3,
          1992.4,
          1992.5,
          1992.6,
          1992.7,
          1992.8,
          1992.9,
          1993,
          1993.1,
          1993.2,
          1993.3,
          1993.4,
          1993.5,
          1993.6,
          1993.7,
          1993.8,
          1993.9,
          1994,
          1994.1,
          1994.2,
          1994.3,
          1994.4,
          1994.5,
          1994.6,
          1994.7,
          1994.8,
          1994.9,
          1995,
          1995.1,
          1995.2,
          1995.3,
          1995.4,
          1995.5,
          1995.6,
          1995.7,
          1995.8,
          1995.9,
          1996,
          1996.1,
          1996.2,
          1996.3,
          1996.4,
          1996.5,
          1996.6,
          1996.7,
          1996.8,
          1996.9,
          1997,
          1997.1,
          1997.2,
          1997.3,
          1997.4,
          1997.5,
          1997.6,
          1997.7,
          1997.8,
          1997.9,
          1998,
          1998.1,
          1998.2,
          1998.3,
          1998.4,
          1998.5,
          1998.6,
          1998.7,
          1998.8,
          1998.9,
          1999,
          1999.1,
          1999.2,
          1999.3,
          1999.4,
          1999.5,
          1999.6,
          1999.7,
          1999.8,
          1999.9,
          2000,
          2000.1,
          2000.2,
          2000.3,
          2000.4,
          2000.5,
          2000.6,
          2000.7,
          2000.8,
          2000.9,
          2001,
          2001.1,
          2001.2,
          2001.3,
          2001.4,
          2001.5,
          2001.6,
          2001.7,
          2001.8,
          2001.9,
          2002,
          2002.1,
          2002.2,
          2002.3,
          2002.4,
          2002.5,
          2002.6,
          2002.7,
          2002.8,
          2002.9,
          2003,
          2003.1,
          2003.2,
          2003.3,
          2003.4,
          2003.5,
          2003.6,
          2003.7,
          2003.8,
          2003.9,
          2004,
          2004.1,
          2004.2,
          2004.3,
          2004.4,
          2004.5,
          2004.6,
          2004.7,
          2004.8,
          2004.9,
          2005,
          2005.1,
          2005.2,
          2005.3,
          2005.4,
          2005.5,
          2005.6,
          2005.7,
          2005.8,
          2005.9,
          2006,
          2006.1,
          2006.2,
          2006.3,
          2006.4,
          2006.5,
          2006.6,
          2006.7,
          2006.8,
          2006.9,
          2007,
          2007.1,
          2007.2,
          2007.3,
          2007.4,
          2007.5,
          2007.6,
          2007.7,
          2007.8,
          2007.9,
          2008,
          2008.1,
          2008.2,
          2008.3,
          2008.4,
          2008.5,
          2008.6,
          2008.7,
          2008.8,
          2008.9,
          2009,
          2009.1,
          2009.2,
          2009.3,
          2009.4,
          2009.5,
          2009.6,
          2009.7,
          2009.8,
          2009.9,
          2010,
          2010.1,
          2010.2,
          2010.3,
          2010.4,
          2010.5,
          2010.6,
          2010.7,
          2010.8,
          2010.9,
          2011,
          2011.1,
          2011.2,
          2011.3,
          2011.4,
          2011.5,
          2011.6,
          2011.7,
          2011.8,
          2011.9,
          2012,
          2012.1,
          2012.2,
          2012.3,
          2012.4,
          2012.5,
          2012.6,
          2012.7,
          2012.8,
          2012.9,
          2013,
          2013.1,
          2013.2,
          2013.3,
          2013.4,
          2013.5,
          2013.6,
          2013.7,
          2013.8,
          2013.9,
          2014,
          2014.1,
          2014.2,
          2014.3,
          2014.4,
          2014.5,
          2014.6,
          2014.7,
          2014.8,
          2014.9,
          2015,
          2015.1,
          2015.2,
          2015.3,
          2015.4,
          2015.5,
          2015.6,
          2015.7,
          2015.8,
          2015.9,
          2016,
          2016.1,
          2016.2,
          2016.3,
          2016.4,
          2016.5,
          2016.6,
          2016.7,
          2016.8,
          2016.9,
          2017,
          2017.1,
          2017.2,
          2017.3,
          2017.4,
          2017.5,
          2017.6,
          2017.7,
          2017.8,
          2017.9,
          2018,
          2018.1,
          2018.2,
          2018.3,
          2018.4,
          2018.5,
          2018.6,
          2018.7,
          2018.8,
          2018.9,
          2019,
          2019.1,
          2019.2,
          2019.3,
          2019.4,
          2019.5,
          2019.6,
          2019.7,
          2019.8,
          2019.9,
          2020
         ],
         "xaxis": "x",
         "y": [
          0,
          0.0003229084172914982,
          0.0006231073650215362,
          0.0009112103922614004,
          0.0011939632323077706,
          0.0014758658619483246,
          0.0017602659786735068,
          0.002049289048387243,
          0.0023449754888959606,
          0.0026486350476522063,
          0.00296119840814415,
          0.0032837102335383983,
          0.0036171576359232214,
          0.003962072404037461,
          0.004319007745590825,
          0.00468863925183756,
          0.005071764499471688,
          0.005469127695789504,
          0.0058810880995233085,
          0.0063080821470469185,
          0.006750725719827339,
          0.007209813852484194,
          0.007686320389396705,
          0.00818099051374299,
          0.008694112094237268,
          0.009226363207048335,
          0.009778703700810075,
          0.010352105163395653,
          0.010947161323076339,
          0.011564669247632896,
          0.012205597310427774,
          0.01287104594212221,
          0.013561889840619908,
          0.014278972190647774,
          0.015023316980638341,
          0.015796127595323336,
          0.016598764419452954,
          0.017432301186155928,
          0.018297621958960803,
          0.019195912295382044,
          0.0201286786364217,
          0.021097726642954957,
          0.0221043464080856,
          0.02314959634496206,
          0.02423500309978882,
          0.025362467915081024,
          0.026533753371270567,
          0.0277502967021707,
          0.029013846714988762,
          0.030326400090500024,
          0.03169008865605166,
          0.033106742128636575,
          0.034578310816265924,
          0.03610699524702839,
          0.03769524252530266,
          0.039345629827017295,
          0.041060318912154725,
          0.04284158123242415,
          0.04469207579334249,
          0.04661484770813062,
          0.048613163575123935,
          0.050689555588707115,
          0.052846806381412384,
          0.05508821424500373,
          0.05741752697256026,
          0.059838137644317266,
          0.062353320315682324,
          0.06496678932916303,
          0.06768264388158349,
          0.07050515720801319,
          0.07343822250631127,
          0.07648601646395445,
          0.0796531264358485,
          0.08294454647114921,
          0.08636541913368026,
          0.08992037777492953,
          0.09361440397853277,
          0.09745306682817803,
          0.10144251923849051,
          0.10558909093162605,
          0.1098982645711099,
          0.11437613924694716,
          0.11902954997418258,
          0.12386598201742925,
          0.1288924070049166,
          0.13411582086800522,
          0.13954393636255985,
          0.1451851234700672,
          0.1510480904968656,
          0.15714102725466253,
          0.16347264446371884,
          0.1700523805123691,
          0.1768903938576827,
          0.1839971459601089,
          0.1913824174073679,
          0.19905664276788085,
          0.20703124740332246,
          0.21531864037907666,
          0.22393156624538013,
          0.2328816552529543,
          0.24218157643785235,
          0.25184523674549353,
          0.26188769480833474,
          0.27232344397964087,
          0.28316689866320655,
          0.2944337653152813,
          0.3061409655808852,
          0.31830629509500885,
          0.33094672111140294,
          0.34407993354990607,
          0.3577250157951552,
          0.3719024216596432,
          0.38663349871369834,
          0.40193844468363527,
          0.4178383696399975,
          0.4343562200177036,
          0.45151676253269585,
          0.46934603852989815,
          0.4878680476777431,
          0.5071075400615442,
          0.5270919165546012,
          0.5478512123577752,
          0.5694170479925276,
          0.5918175489301967,
          0.6150828967454939,
          0.6392463544270082,
          0.6643439102205771,
          0.6904102707455504,
          0.7174802835054586,
          0.7455915576948167,
          0.7747841875545975,
          0.8050996713379366,
          0.8365783203308028,
          0.8692624893014385,
          0.9031972435593452,
          0.9384303344287152,
          0.9750113165075147,
          1.0129874366243556,
          1.0524078013322296,
          1.0933254856839947,
          1.1357975035502998,
          1.1798839691670855,
          1.2256404221723618,
          1.2731240347443855,
          1.322397403335467,
          1.3735282233696187,
          1.4265842448694475,
          1.4816301572266923,
          1.5387355338274045,
          1.597974699159882,
          1.6594261756464024,
          1.7231658929200906,
          1.7892699765078226,
          1.8578199050925048,
          1.9289025167322216,
          2.0026094766720264,
          2.079028257155297,
          2.158244359552233,
          2.240350652069861,
          2.325447662106568,
          2.413643025088831,
          2.505036517887441,
          2.5997244543334332,
          2.6978131010541073,
          2.799417871319711,
          2.9046576614788817,
          3.0136397852216255,
          3.1264779263531817,
          3.243294126607213,
          3.3642183753763195,
          3.489376591055772,
          3.61888746032788,
          3.7528779962536625,
          3.891484343476835,
          4.034851299830823,
          4.183115235673076,
          4.336400239050074,
          4.494841672788178,
          4.658587767072795,
          4.827798965123247,
          5.002618656580857,
          5.183174721832264,
          5.369610972250023,
          5.562085688090197,
          5.760762366305988,
          5.9657746872366,
          6.177261357564211,
          6.395373849451102,
          6.620275671002471,
          6.8521179426257115,
          7.091026245610479,
          7.337137173636845,
          7.590601056494013,
          7.8515806784679345,
          8.120211115915291,
          8.396595563718208,
          8.680854316233068,
          8.973127314435363,
          9.273570359109353,
          9.582285086803696,
          9.89934743578493,
          10.22485717937659,
          10.558934998085785,
          10.901692470588642,
          11.253174137610173,
          11.613434894932894,
          11.982547538353455,
          12.360599496029662,
          12.747625626338667,
          13.143617030896394,
          13.548584698978749,
          13.962560973379754,
          14.385586599010622,
          14.817608862793854,
          15.25854775573732,
          15.708355420269468,
          16.167015951944986,
          16.634511281089647,
          17.110683105233054,
          17.59536965843669,
          18.088458184994895,
          18.58988426632151,
          19.09953563214069,
          19.617147991421774,
          20.14251109725187,
          20.675460249290683,
          21.215841322264282,
          21.763364900516034,
          22.317745428014835,
          22.87873530593806,
          23.446117883323062,
          24.019592610448047,
          24.59878609521716,
          25.183368343173115,
          25.773056476245614,
          26.36758838291352,
          26.96654640548543,
          27.569488120309916,
          28.176045556325025,
          28.78592488895471,
          29.398822880553045,
          30.01422805881491,
          30.631693999900673,
          31.25085784152367,
          31.871419172103643,
          32.4929285450222,
          33.11490424090428,
          33.73694644061178,
          34.358731760508775,
          34.979905825439936,
          35.59997144092248,
          36.2184985661323,
          36.83514491166533,
          37.44964466640304,
          38.06159946150309,
          38.670531834592154,
          39.27607162252733,
          39.87795753893079,
          40.47599114904189,
          41.069746262225785,
          41.65879998700099,
          42.24286498844532,
          42.82178628623369,
          43.395413483763676,
          43.96331041687801,
          44.52513710753318,
          45.08070990760473,
          45.62999699606647,
          46.172806920438646,
          46.70878137032903,
          47.23773204448825,
          47.75959946276292,
          48.27430863782131,
          48.781615819470154,
          49.281377467923626,
          49.773536290326035,
          50.25808330680585,
          50.734873350796136,
          51.20377863834202,
          51.66475343676893,
          52.11783245493242,
          52.56305394277098,
          53.00027898365032,
          53.42942012972204,
          53.85049724851764,
          54.263636964647475,
          54.66893922498728,
          55.06626234762185,
          55.45558670114637,
          55.83700590039795,
          56.21068886754087,
          56.57661216165086,
          56.93476049195873,
          57.28520814978812,
          57.62810917873049,
          57.9635695683367,
          58.29156798388227,
          58.61215185540092,
          58.92544489322561,
          59.2316416919167,
          59.53082953178852,
          59.8229782436316,
          60.10814897128595,
          60.3865017778208,
          60.65828332930629,
          60.92354756222475,
          61.18227078993002,
          61.434551661601866,
          61.68059149614465,
          61.92057065328545,
          62.15447880607089,
          62.38238702111476,
          62.60444093942122,
          62.820845243377356,
          63.03166982732383,
          63.23693913610072,
          63.436751041859935,
          63.63127293931736,
          63.82070963698062,
          64.00508677520115,
          64.18441253343148,
          64.35878770407687,
          64.52840423191077,
          64.693483717249,
          64.85399634153809,
          65.00996142151602,
          65.16150298243151,
          65.30883578992841,
          65.45204476622798,
          65.59112219094351,
          65.7261468566256,
          65.85726932975976,
          65.98466102955966,
          66.10832494829907,
          66.22828783790345,
          66.34464626480914,
          66.4575646483851,
          66.56718919101473,
          66.67348268639611,
          66.77645870950798,
          66.87622012326055,
          66.9729585506109,
          67.06680155312645,
          67.15767276823573,
          67.24560282567768,
          67.33071770569576,
          67.41320234522024,
          67.49304601163408,
          67.57024199765591,
          67.64486326885634,
          67.71705362282687,
          67.7869124293662,
          67.85440096427251,
          67.91954138961407,
          67.98242367046907,
          68.04320173550245,
          68.10193237579114,
          68.15855127497046,
          68.21307461294062,
          68.2656064169335,
          68.31632846560211,
          68.36525000683972,
          68.41229746809383,
          68.45750734455304,
          68.50100979546187,
          68.5429297536963,
          68.58319786476629,
          68.62181416202557,
          68.6588507034414,
          68.69444171195303,
          68.72860562617636,
          68.7612932257889,
          68.79252664071704,
          68.82239567274799,
          68.85103504300497,
          68.87841685384734,
          68.90447783692963,
          68.9292429939386,
          68.95282397477044,
          68.97537060883221,
          68.99680115642039,
          69.01706400658738,
          69.03620782056699,
          69.05437040975032,
          69.07158845486336,
          69.08778548846942,
          69.10296892190125,
          69.11721689795793,
          69.1306422692563,
          69.14319773660097,
          69.1548417547946,
          69.16560328337548,
          69.1755787190148,
          69.18486412346306,
          69.19337405979981,
          69.2010618832566,
          69.20796717900014,
          69.2142148869628,
          69.21988814494551,
          69.22486570471933,
          69.22912224327949,
          69.23272356898264,
          69.23580134835035,
          69.23831225256308,
          69.24019543762986,
          69.24147008537646,
          69.24222561149364,
          69.2425311116646,
          69.24230523857928,
          69.24152112858901,
          69.24021942047972,
          69.23850625892292,
          69.23641261378845,
          69.23383742240969,
          69.2307540394902,
          69.22722030675078,
          69.22337380454326,
          69.21922696897037,
          69.21463758654576,
          69.20957081756323,
          69.2041088128959,
          69.19843287421709,
          69.19248150359633,
          69.18613528632672,
          69.17941003278149,
          69.17242246500733,
          69.1651975845442,
          69.15765451690521,
          69.14979221018653,
          69.14166692112477,
          69.13334147775973,
          69.1247592692997,
          69.11589133754431,
          69.1067577750432,
          69.09742705797274,
          69.08795820063827,
          69.07826413851083,
          69.06828880532534,
          69.05805387487248,
          69.04765830792746,
          69.03720517206834,
          69.02656287391824,
          69.01567803424471,
          69.00459475255337,
          68.99342632463787,
          68.98212756941473,
          68.97064015318006,
          68.95897449058508,
          68.9471984405877,
          68.93534896621344,
          68.9233548490642,
          68.91119044219906,
          68.8988842170308,
          68.8865177238757,
          68.87412105290737,
          68.86158891420367,
          68.84887674036194,
          68.83602313610031,
          68.82314937003882,
          68.8102940023831,
          68.7973163835002,
          68.78419174358945,
          68.77098720020442,
          68.75779740116545,
          68.74453664480262,
          68.73116749707738,
          68.71771408801497,
          68.70425272176625,
          68.69077640494945,
          68.6772181904049,
          68.66356607690216,
          68.64986160674374,
          68.63619064829771,
          68.62252693509866,
          68.60877321230376,
          68.59490902335358,
          68.58099441023948,
          68.56715817740131,
          68.5533497847234,
          68.53946077157836,
          68.52549201574058,
          68.51153381216245,
          68.49763028390389,
          68.48368867094307,
          68.46968934125589,
          68.455671044706,
          68.44170851615749,
          68.42775579693424,
          68.41375740181496,
          68.39971444697592,
          68.38568220400006,
          68.37173853471504,
          68.357810189522,
          68.34381842484814,
          68.32976473689232,
          68.31573022932598,
          68.30182655829397,
          68.28793954520756,
          68.2739980079802,
          68.26002751226184,
          68.24613287814495,
          68.23229621224212,
          68.21844053002593,
          68.20456138059302,
          68.1907128014576,
          68.17695177163759,
          68.16320617182036,
          68.14943613785029,
          68.13565691999062,
          68.12193818987271,
          68.10832824103588,
          68.09472691088513,
          68.08107883168697,
          68.06740754141425,
          68.05381501550053,
          68.04036096248912,
          68.0269087455727,
          68.01342102047366,
          67.99994745158625,
          67.98658847525593,
          67.97327530075405,
          67.95995322620038,
          67.94663341834617,
          67.93338470915103,
          67.92022739539051,
          67.9070837623442,
          67.89392713201123,
          67.88078558461824,
          67.86773845556598,
          67.85478366655462,
          67.84181666402404,
          67.82880050241415,
          67.81577447254774,
          67.80284893809616,
          67.78999285120376,
          67.7770766518695,
          67.76406807231704,
          67.75101277381636,
          67.73794423840475,
          67.7247188380872,
          67.71123726939588,
          67.69743716658448,
          67.68328275611309,
          67.66860539365332,
          67.65314754520016,
          67.636681891427,
          67.61901059988082,
          67.59995357787663,
          67.57919475549237,
          67.55641508524461,
          67.53147913874315,
          67.50443872219881,
          67.47548628190768,
          67.44470405988308,
          67.41228329338152,
          67.37852961493708,
          67.34384399626293,
          67.30849954559,
          67.27265172428818,
          67.23648942626163,
          67.2002157762853,
          67.16401019134304,
          67.1279013712867,
          67.09191502531728,
          67.05611166693672,
          67.02058570544389,
          66.98542600352076,
          66.95056545215971,
          66.91594455624099,
          66.88157937277319,
          66.84756085051121,
          66.81399948405515,
          66.78077186772161,
          66.74780987175399,
          66.71514254069338,
          66.68287410392121,
          66.65097259974429,
          66.61936700865607,
          66.58805517723712,
          66.55709077055273,
          66.52651592854934,
          66.49625615718939,
          66.46627544712358,
          66.43659097993891,
          66.40727256914303,
          66.37836347426291,
          66.34976216775644,
          66.32141643545877,
          66.29335732957335,
          66.26569843469551,
          66.23852132084633,
          66.21169999203137,
          66.1852180966156,
          66.1591581405152,
          66.13366409421252,
          66.1087182219883,
          66.08432609187479,
          66.06055765658239,
          66.03753738488952,
          66.01533458671724,
          65.9939073213863,
          65.97323566806195,
          65.95332187843778,
          65.93418967951935,
          65.91579511217533,
          65.89795293526517,
          65.88054035693403,
          65.86352446659606,
          65.84696145050054,
          65.83084920531216,
          65.81499550775132,
          65.79933715171374,
          65.78391185039769,
          65.76879097173322,
          65.75387298541061,
          65.73910994440246,
          65.7245143509067,
          65.71014821076926,
          65.69599114420228,
          65.68197582063834,
          65.66808643354857,
          65.65435693326003,
          65.64086312226297,
          65.62757743006397,
          65.61439774931999,
          65.60129639797987,
          65.58832505422171,
          65.57560910754025,
          65.56311929288242,
          65.55073136611765,
          65.53843643344129,
          65.52631645592444,
          65.51443088780361,
          65.50268780708316,
          65.49106768578505,
          65.47960943147515,
          65.46839433990047,
          65.4574001396555,
          65.44658810235006,
          65.43598248534865,
          65.42566827945821,
          65.41577359070058,
          65.4063119136388,
          65.3972816641119,
          65.38877827618306,
          65.3809944589302,
          65.37419979271948,
          65.36847936836914,
          65.3638934376217,
          65.36056713763254,
          65.35866856133141,
          65.35826079197831,
          65.35919068571836,
          65.36132662791115,
          65.36455516869246,
          65.36876891858353,
          65.37374809410787,
          65.37925870647442,
          65.38515289288804,
          65.39136896515446,
          65.3979037587868,
          65.40461088585394,
          65.41133849436797,
          65.41803807228558,
          65.4247630909937,
          65.4316107946704,
          65.43843840902409,
          65.44516011337066,
          65.45179248010646,
          65.45843434361855,
          65.46505606510772,
          65.47157821635058,
          65.47799436837505,
          65.48435591012701,
          65.49071061799496,
          65.49698528822397,
          65.50314285951268,
          65.50919839637484,
          65.51521848646561,
          65.52124445755848,
          65.52718000809722,
          65.5329738873645,
          65.53864985595354,
          65.54430611054777,
          65.55000743988026,
          65.55562466115973,
          65.56112358708702,
          65.56655705374978,
          65.57203559523468,
          65.57751342465589,
          65.58295212439825,
          65.58838579757955,
          65.59391250545002,
          65.59960558158575,
          65.60544712723502,
          65.6114752196998,
          65.61778721898916,
          65.62453815410962,
          65.63182583530913,
          65.63962309518658,
          65.64793230156302,
          65.65679367321003,
          65.66628485796097,
          65.67637879296186,
          65.68687167495577,
          65.69764845370416,
          65.70867598748713,
          65.71996191079413,
          65.7313591218154,
          65.74275667522924,
          65.75411992079582,
          65.76548437281483,
          65.7768388929421,
          65.7880818308531,
          65.79917197803732,
          65.81012972098118,
          65.82103131278727,
          65.83185856392058,
          65.84251059571953,
          65.85295893776913,
          65.86325043011055,
          65.8734954815662,
          65.88364835774348,
          65.89361076163705,
          65.90337724093068,
          65.91302166246724,
          65.92260853333077,
          65.93204406510887,
          65.94129604928906,
          65.95039334178676,
          65.95941776203415,
          65.96835490426078,
          65.97713574075073,
          65.98575349386469,
          65.9942606136907,
          66.00275208080166,
          66.01119443475977,
          66.01952368845488,
          66.02775874740169,
          66.03600048411539,
          66.04440024733503,
          66.05293747130456,
          66.06162096383005,
          66.07056956732269,
          66.08000353930123,
          66.09010624163949,
          66.10097876322924,
          66.11279195529612,
          66.1257612290649,
          66.14012652361542,
          66.1559489101232,
          66.17318628049168,
          66.19177742784188,
          66.21163832534499,
          66.23264952173042,
          66.25453578543761,
          66.27699506286591,
          66.29982564288338,
          66.32292762660639,
          66.34626444310253,
          66.3696221924198,
          66.39284114571919,
          66.41587247754345,
          66.43876118646024,
          66.46145997795996,
          66.4838703711893,
          66.5059671617354,
          66.5277833159648,
          66.54936117841946,
          66.57063167231244,
          66.5915555512715,
          66.6121425235218,
          66.63245051368594,
          66.65252414188039,
          66.67227794451634,
          66.691662086337,
          66.71069504141164,
          66.72946313484597,
          66.74803406796386,
          66.76629180850385,
          66.78419952927929,
          66.80179794420462,
          66.8191831078583,
          66.83631289231046,
          66.85313689121351,
          66.86966664101065,
          66.88596691005672,
          66.90208467425597,
          66.9179659338465,
          66.93360176835414,
          66.94903835356314,
          66.96437613763004,
          66.97968232899255,
          66.99492280652659,
          67.01012622198579,
          67.02540019143166,
          67.04093068913183,
          67.05684266032536,
          67.07312256455047,
          67.08982369541954,
          67.10704167022705,
          67.12487999419722,
          67.14324572144073,
          67.16202326363397,
          67.18113608357457,
          67.20054158130591,
          67.22015637741994,
          67.2398117498608,
          67.25939711806889,
          67.2788695836676,
          67.29825135929741,
          67.31750703354562,
          67.33651128971314,
          67.35520957469664,
          67.37362488496044,
          67.39185169767583,
          67.40985969705729,
          67.42754555992842,
          67.44489664289296,
          67.46197473159677,
          67.4788429208404,
          67.49541855295507,
          67.51167237304907,
          67.52762799427843,
          67.54335430816096,
          67.55883857157592,
          67.57402205600023,
          67.58889663623398,
          67.60350209020945,
          67.61791344125783,
          67.63209723843158,
          67.64598244524508,
          67.65956270089252,
          67.67289626779679,
          67.68608597652656,
          67.69907541632485,
          67.71179924186737,
          67.72427557935065,
          67.73659621419196,
          67.74881403385712,
          67.76087598434644,
          67.77279919865269,
          67.78466349104468,
          67.79659600765518,
          67.80863553638393,
          67.82081933980346,
          67.83324328780483,
          67.8460581629311,
          67.8594394445604,
          67.87341464182902,
          67.88797473700315,
          67.90313146440468,
          67.91891581832162,
          67.93533560261025,
          67.95218826635337,
          67.96929536951913,
          67.98655879290567,
          68.00394842505904,
          68.02134074325998,
          68.03857328606925,
          68.05556481605801,
          68.07230971593485,
          68.0887773851289,
          68.10483913588574,
          68.12031298049119,
          68.13463800264533,
          68.14673628449256,
          68.15574617885922,
          68.16159611610472,
          68.16451920832101,
          68.16470155637715,
          68.16229941751547,
          68.1573920744972,
          68.14999186655999,
          68.14010044733836,
          68.12749489335391,
          68.11175990229562,
          68.09260710503064,
          68.07004651551242,
          68.04420976488693,
          68.0153104139574,
          67.98347670916266,
          67.9487976974619,
          67.91141010987306,
          67.87145799600104,
          67.82891329049272,
          67.78371783144881,
          67.73583959010075,
          67.68536465461712,
          67.63253727255078,
          67.57756226816605,
          67.52063276786627,
          67.46192870555953,
          67.40171129551103,
          67.34017341908861,
          67.2773954471497,
          67.21346266604166,
          67.14855105486566,
          67.08285644670319,
          67.01665376221573,
          66.95015576726048,
          66.8834760067305,
          66.81662163778554,
          66.74953717376971,
          66.68206801592429,
          66.61393453469138,
          66.544763844211,
          66.47429157379477,
          66.40235357137975,
          66.32889357905836,
          66.25388031499963,
          66.1772956668556,
          66.09912960582503,
          66.0193721002637,
          65.93800621170031,
          65.85498604544566,
          65.77021649496156,
          65.68365516042576,
          65.59530861571422,
          65.50519059290266,
          65.41335463696998,
          65.31983203968495,
          65.22465515254424,
          65.12784165685449,
          65.02944390722196,
          64.92957321125945,
          64.82834011649653,
          64.72585488437231,
          64.62222733355269,
          64.51681223579111,
          64.40903495289227,
          64.29881203171078,
          64.18666558349884,
          64.07338435546791,
          63.95914289149422,
          63.84395102303763,
          63.72786632841437,
          63.61092276466697,
          63.49319458967334,
          63.37474353673557,
          63.2556452002132,
          63.13603118159729,
          63.01610739700625,
          62.89614277281917,
          62.77643744843311,
          62.65733073466938,
          62.53918751123321,
          62.42240547105466,
          62.30739790783365,
          62.19436914252538,
          62.08324857594057,
          61.97391692431104,
          61.86666022175045,
          61.761583428752765,
          61.658360230530846,
          61.55641093461296,
          61.45508179610693,
          61.35379484929602,
          61.25217790344798,
          61.14998498594964,
          61.04695435501514,
          60.94293114665503,
          60.83799025460398,
          60.732237025266535,
          60.625681320907,
          60.51831170893792,
          60.41013442351253,
          60.30117450719805,
          60.19147143174141,
          60.08116431058533,
          59.970534793824925,
          59.859786770986844,
          59.74861211294753,
          59.636760991895834,
          59.52421155368003,
          59.41100897984005,
          59.29718087226886,
          59.18275623955215,
          59.06774706755084,
          58.952098175249425,
          58.8356320997445,
          58.71824974853672,
          58.60020156594906,
          58.481765640585266,
          58.36299028437444,
          58.243880973294445,
          58.12444620833795,
          58.00469839960007,
          57.884672926420386,
          57.76441946134577,
          57.64401724712083,
          57.52354466992335,
          57.403049674394545,
          57.282603831241445,
          57.16231292663518,
          57.04230440448607,
          56.922710866404806,
          56.80367817955787,
          56.6853599751749,
          56.567923627151835,
          56.45152352464892,
          56.336214716604324,
          56.22191941271203,
          56.10849184270114,
          55.99574168741298,
          55.88339557639753,
          55.77121241266486,
          55.65919657301364,
          55.547403414552875,
          55.43577995260435,
          55.324258666169584,
          55.21278275689674,
          55.101312329123445,
          54.98981701941539,
          54.87827646181933,
          54.766676015254454,
          54.65500799475528,
          54.543275765930886,
          54.43148308839758,
          54.31962316491666,
          54.20767764600207,
          54.09563677522022,
          53.983525584847214,
          53.87136685059605,
          53.75914398925875,
          53.646779970026294,
          53.53422532521589,
          53.421554679058715,
          53.308844339723876,
          53.196113374890516,
          53.08334750857587,
          52.97053293479178,
          52.85769957972851,
          52.744871828725806,
          52.63204563250131,
          52.51919239504189,
          52.40628718894487,
          52.29336762076971,
          52.180468584318504,
          52.067608683276966,
          51.95480806537632,
          51.842075331239485,
          51.72939172997565,
          51.61674456039643,
          51.50415398087344,
          51.3917204155697,
          51.2794927784248,
          51.167379849465966,
          51.05528307556681,
          50.9431660815231,
          50.831022297407884,
          50.71884929178914,
          50.60665926179533,
          50.49446254773797,
          50.382238776264856,
          50.269914577325366,
          50.15742284487687,
          50.04487347048415,
          49.93236846462865,
          49.81994517379364,
          49.70761664770516,
          49.59538878281481,
          49.48326251790937,
          49.371238237096954,
          49.25932409366391,
          49.147538901068316,
          49.03589731248024,
          48.92439382528511,
          48.81301801878776,
          48.70176512489218,
          48.5906336711116,
          48.47962345626501,
          48.36873906363749,
          48.25798765464282,
          48.14738701880346,
          48.03698568994549,
          47.92679750029093,
          47.8167905633695,
          47.70692719986201,
          47.59719544037119,
          47.487597459753076,
          47.37813746259345,
          47.26881521412948,
          47.15963110825718,
          47.05058624189497,
          46.94168161130016,
          46.83291857771106,
          46.72429867262128,
          46.61582282114679,
          46.50749234033046,
          46.3993090480937,
          46.29127426119036,
          46.1833917210211,
          46.07566353581793,
          45.96808192901798,
          45.860628995340825,
          45.75329248872366,
          45.64610153488393,
          45.539084346519516,
          45.432251020890014,
          45.32560039617261,
          45.219128555380344,
          45.11283579025444,
          45.00671793502296,
          44.900756439962876,
          44.79491152922745,
          44.68915812087084,
          44.583504582482135,
          44.47797813409534,
          44.37258290703475,
          44.26731327976417,
          44.16216432827428,
          44.05714036346255,
          43.95224874700286,
          43.8474996543239,
          43.742925869441,
          43.63855050909033,
          43.53435254412838,
          43.43030996253142,
          43.32641563343082,
          43.222668755117546,
          43.11907077204657,
          43.01562393537531,
          42.91233069884688,
          42.809191245261474,
          42.706197832704014,
          42.60335093584874,
          42.50066275298549,
          42.398144426459325,
          42.29580936578971,
          42.193682726705575,
          42.09178235000316,
          41.9900812794076,
          41.888553217187116,
          41.787195049666,
          41.68601379966467,
          41.58501102301136,
          41.48418099811599,
          41.3835179132552,
          41.28301485478335,
          41.18265367452397,
          41.08242475359711,
          40.98235782873715,
          40.88248460364396,
          40.78281667683571,
          40.68335610054333,
          40.584108711629476,
          40.48508960602182,
          40.38631711473104,
          40.28780578433069,
          40.18956837907303,
          40.091610494802424,
          39.99392361734583,
          39.8964895810824,
          39.79927596906392,
          39.70221739182829,
          39.60524731461166,
          39.50840717792259,
          39.41174089948315,
          39.31526052930759,
          39.21896915905597,
          39.12286519571125,
          39.02693966273752,
          38.93118279878501,
          38.835590870389396,
          38.740160070770926,
          38.644887541779994,
          38.549774891915256,
          38.45482356223325,
          38.36003126382222,
          38.26538077414356,
          38.17086772850507,
          38.07650515173841,
          37.98230223624143,
          37.88824323432302,
          37.79427614596261,
          37.700363702396345,
          37.60654417427343,
          37.51287571946249,
          37.41937541219608,
          37.32605299230931,
          37.232911895259285,
          37.1399448641701,
          37.04714251913799,
          36.95449298408025,
          36.86196734489899,
          36.76953946700772,
          36.67723865227625,
          36.585092834740934,
          36.49311353363968,
          36.40130539269479,
          36.30966983160657,
          36.218207269547605,
          36.126916793112805,
          36.03582192304689,
          35.94498826731982,
          35.85448224486492,
          35.76424207257357,
          35.67420222171088,
          35.584334025457224,
          35.49463226318483
         ],
         "yaxis": "y"
        },
        {
         "hovertemplate": "x=%{x}<br>y=%{y}<extra></extra>",
         "legendgroup": "",
         "marker": {
          "color": "red",
          "symbol": "circle"
         },
         "mode": "markers",
         "name": "",
         "orientation": "v",
         "showlegend": false,
         "type": "scatter",
         "x": [
          2016
         ],
         "xaxis": "x",
         "y": [
          36.8
         ],
         "yaxis": "y"
        }
       ],
       "layout": {
        "template": {
         "data": {
          "bar": [
           {
            "error_x": {
             "color": "#2a3f5f"
            },
            "error_y": {
             "color": "#2a3f5f"
            },
            "marker": {
             "line": {
              "color": "#E5ECF6",
              "width": 0.5
             },
             "pattern": {
              "fillmode": "overlay",
              "size": 10,
              "solidity": 0.2
             }
            },
            "type": "bar"
           }
          ],
          "barpolar": [
           {
            "marker": {
             "line": {
              "color": "#E5ECF6",
              "width": 0.5
             },
             "pattern": {
              "fillmode": "overlay",
              "size": 10,
              "solidity": 0.2
             }
            },
            "type": "barpolar"
           }
          ],
          "carpet": [
           {
            "aaxis": {
             "endlinecolor": "#2a3f5f",
             "gridcolor": "white",
             "linecolor": "white",
             "minorgridcolor": "white",
             "startlinecolor": "#2a3f5f"
            },
            "baxis": {
             "endlinecolor": "#2a3f5f",
             "gridcolor": "white",
             "linecolor": "white",
             "minorgridcolor": "white",
             "startlinecolor": "#2a3f5f"
            },
            "type": "carpet"
           }
          ],
          "choropleth": [
           {
            "colorbar": {
             "outlinewidth": 0,
             "ticks": ""
            },
            "type": "choropleth"
           }
          ],
          "contour": [
           {
            "colorbar": {
             "outlinewidth": 0,
             "ticks": ""
            },
            "colorscale": [
             [
              0,
              "#0d0887"
             ],
             [
              0.1111111111111111,
              "#46039f"
             ],
             [
              0.2222222222222222,
              "#7201a8"
             ],
             [
              0.3333333333333333,
              "#9c179e"
             ],
             [
              0.4444444444444444,
              "#bd3786"
             ],
             [
              0.5555555555555556,
              "#d8576b"
             ],
             [
              0.6666666666666666,
              "#ed7953"
             ],
             [
              0.7777777777777778,
              "#fb9f3a"
             ],
             [
              0.8888888888888888,
              "#fdca26"
             ],
             [
              1,
              "#f0f921"
             ]
            ],
            "type": "contour"
           }
          ],
          "contourcarpet": [
           {
            "colorbar": {
             "outlinewidth": 0,
             "ticks": ""
            },
            "type": "contourcarpet"
           }
          ],
          "heatmap": [
           {
            "colorbar": {
             "outlinewidth": 0,
             "ticks": ""
            },
            "colorscale": [
             [
              0,
              "#0d0887"
             ],
             [
              0.1111111111111111,
              "#46039f"
             ],
             [
              0.2222222222222222,
              "#7201a8"
             ],
             [
              0.3333333333333333,
              "#9c179e"
             ],
             [
              0.4444444444444444,
              "#bd3786"
             ],
             [
              0.5555555555555556,
              "#d8576b"
             ],
             [
              0.6666666666666666,
              "#ed7953"
             ],
             [
              0.7777777777777778,
              "#fb9f3a"
             ],
             [
              0.8888888888888888,
              "#fdca26"
             ],
             [
              1,
              "#f0f921"
             ]
            ],
            "type": "heatmap"
           }
          ],
          "heatmapgl": [
           {
            "colorbar": {
             "outlinewidth": 0,
             "ticks": ""
            },
            "colorscale": [
             [
              0,
              "#0d0887"
             ],
             [
              0.1111111111111111,
              "#46039f"
             ],
             [
              0.2222222222222222,
              "#7201a8"
             ],
             [
              0.3333333333333333,
              "#9c179e"
             ],
             [
              0.4444444444444444,
              "#bd3786"
             ],
             [
              0.5555555555555556,
              "#d8576b"
             ],
             [
              0.6666666666666666,
              "#ed7953"
             ],
             [
              0.7777777777777778,
              "#fb9f3a"
             ],
             [
              0.8888888888888888,
              "#fdca26"
             ],
             [
              1,
              "#f0f921"
             ]
            ],
            "type": "heatmapgl"
           }
          ],
          "histogram": [
           {
            "marker": {
             "pattern": {
              "fillmode": "overlay",
              "size": 10,
              "solidity": 0.2
             }
            },
            "type": "histogram"
           }
          ],
          "histogram2d": [
           {
            "colorbar": {
             "outlinewidth": 0,
             "ticks": ""
            },
            "colorscale": [
             [
              0,
              "#0d0887"
             ],
             [
              0.1111111111111111,
              "#46039f"
             ],
             [
              0.2222222222222222,
              "#7201a8"
             ],
             [
              0.3333333333333333,
              "#9c179e"
             ],
             [
              0.4444444444444444,
              "#bd3786"
             ],
             [
              0.5555555555555556,
              "#d8576b"
             ],
             [
              0.6666666666666666,
              "#ed7953"
             ],
             [
              0.7777777777777778,
              "#fb9f3a"
             ],
             [
              0.8888888888888888,
              "#fdca26"
             ],
             [
              1,
              "#f0f921"
             ]
            ],
            "type": "histogram2d"
           }
          ],
          "histogram2dcontour": [
           {
            "colorbar": {
             "outlinewidth": 0,
             "ticks": ""
            },
            "colorscale": [
             [
              0,
              "#0d0887"
             ],
             [
              0.1111111111111111,
              "#46039f"
             ],
             [
              0.2222222222222222,
              "#7201a8"
             ],
             [
              0.3333333333333333,
              "#9c179e"
             ],
             [
              0.4444444444444444,
              "#bd3786"
             ],
             [
              0.5555555555555556,
              "#d8576b"
             ],
             [
              0.6666666666666666,
              "#ed7953"
             ],
             [
              0.7777777777777778,
              "#fb9f3a"
             ],
             [
              0.8888888888888888,
              "#fdca26"
             ],
             [
              1,
              "#f0f921"
             ]
            ],
            "type": "histogram2dcontour"
           }
          ],
          "mesh3d": [
           {
            "colorbar": {
             "outlinewidth": 0,
             "ticks": ""
            },
            "type": "mesh3d"
           }
          ],
          "parcoords": [
           {
            "line": {
             "colorbar": {
              "outlinewidth": 0,
              "ticks": ""
             }
            },
            "type": "parcoords"
           }
          ],
          "pie": [
           {
            "automargin": true,
            "type": "pie"
           }
          ],
          "scatter": [
           {
            "fillpattern": {
             "fillmode": "overlay",
             "size": 10,
             "solidity": 0.2
            },
            "type": "scatter"
           }
          ],
          "scatter3d": [
           {
            "line": {
             "colorbar": {
              "outlinewidth": 0,
              "ticks": ""
             }
            },
            "marker": {
             "colorbar": {
              "outlinewidth": 0,
              "ticks": ""
             }
            },
            "type": "scatter3d"
           }
          ],
          "scattercarpet": [
           {
            "marker": {
             "colorbar": {
              "outlinewidth": 0,
              "ticks": ""
             }
            },
            "type": "scattercarpet"
           }
          ],
          "scattergeo": [
           {
            "marker": {
             "colorbar": {
              "outlinewidth": 0,
              "ticks": ""
             }
            },
            "type": "scattergeo"
           }
          ],
          "scattergl": [
           {
            "marker": {
             "colorbar": {
              "outlinewidth": 0,
              "ticks": ""
             }
            },
            "type": "scattergl"
           }
          ],
          "scattermapbox": [
           {
            "marker": {
             "colorbar": {
              "outlinewidth": 0,
              "ticks": ""
             }
            },
            "type": "scattermapbox"
           }
          ],
          "scatterpolar": [
           {
            "marker": {
             "colorbar": {
              "outlinewidth": 0,
              "ticks": ""
             }
            },
            "type": "scatterpolar"
           }
          ],
          "scatterpolargl": [
           {
            "marker": {
             "colorbar": {
              "outlinewidth": 0,
              "ticks": ""
             }
            },
            "type": "scatterpolargl"
           }
          ],
          "scatterternary": [
           {
            "marker": {
             "colorbar": {
              "outlinewidth": 0,
              "ticks": ""
             }
            },
            "type": "scatterternary"
           }
          ],
          "surface": [
           {
            "colorbar": {
             "outlinewidth": 0,
             "ticks": ""
            },
            "colorscale": [
             [
              0,
              "#0d0887"
             ],
             [
              0.1111111111111111,
              "#46039f"
             ],
             [
              0.2222222222222222,
              "#7201a8"
             ],
             [
              0.3333333333333333,
              "#9c179e"
             ],
             [
              0.4444444444444444,
              "#bd3786"
             ],
             [
              0.5555555555555556,
              "#d8576b"
             ],
             [
              0.6666666666666666,
              "#ed7953"
             ],
             [
              0.7777777777777778,
              "#fb9f3a"
             ],
             [
              0.8888888888888888,
              "#fdca26"
             ],
             [
              1,
              "#f0f921"
             ]
            ],
            "type": "surface"
           }
          ],
          "table": [
           {
            "cells": {
             "fill": {
              "color": "#EBF0F8"
             },
             "line": {
              "color": "white"
             }
            },
            "header": {
             "fill": {
              "color": "#C8D4E3"
             },
             "line": {
              "color": "white"
             }
            },
            "type": "table"
           }
          ]
         },
         "layout": {
          "annotationdefaults": {
           "arrowcolor": "#2a3f5f",
           "arrowhead": 0,
           "arrowwidth": 1
          },
          "autotypenumbers": "strict",
          "coloraxis": {
           "colorbar": {
            "outlinewidth": 0,
            "ticks": ""
           }
          },
          "colorscale": {
           "diverging": [
            [
             0,
             "#8e0152"
            ],
            [
             0.1,
             "#c51b7d"
            ],
            [
             0.2,
             "#de77ae"
            ],
            [
             0.3,
             "#f1b6da"
            ],
            [
             0.4,
             "#fde0ef"
            ],
            [
             0.5,
             "#f7f7f7"
            ],
            [
             0.6,
             "#e6f5d0"
            ],
            [
             0.7,
             "#b8e186"
            ],
            [
             0.8,
             "#7fbc41"
            ],
            [
             0.9,
             "#4d9221"
            ],
            [
             1,
             "#276419"
            ]
           ],
           "sequential": [
            [
             0,
             "#0d0887"
            ],
            [
             0.1111111111111111,
             "#46039f"
            ],
            [
             0.2222222222222222,
             "#7201a8"
            ],
            [
             0.3333333333333333,
             "#9c179e"
            ],
            [
             0.4444444444444444,
             "#bd3786"
            ],
            [
             0.5555555555555556,
             "#d8576b"
            ],
            [
             0.6666666666666666,
             "#ed7953"
            ],
            [
             0.7777777777777778,
             "#fb9f3a"
            ],
            [
             0.8888888888888888,
             "#fdca26"
            ],
            [
             1,
             "#f0f921"
            ]
           ],
           "sequentialminus": [
            [
             0,
             "#0d0887"
            ],
            [
             0.1111111111111111,
             "#46039f"
            ],
            [
             0.2222222222222222,
             "#7201a8"
            ],
            [
             0.3333333333333333,
             "#9c179e"
            ],
            [
             0.4444444444444444,
             "#bd3786"
            ],
            [
             0.5555555555555556,
             "#d8576b"
            ],
            [
             0.6666666666666666,
             "#ed7953"
            ],
            [
             0.7777777777777778,
             "#fb9f3a"
            ],
            [
             0.8888888888888888,
             "#fdca26"
            ],
            [
             1,
             "#f0f921"
            ]
           ]
          },
          "colorway": [
           "#636efa",
           "#EF553B",
           "#00cc96",
           "#ab63fa",
           "#FFA15A",
           "#19d3f3",
           "#FF6692",
           "#B6E880",
           "#FF97FF",
           "#FECB52"
          ],
          "font": {
           "color": "#2a3f5f"
          },
          "geo": {
           "bgcolor": "white",
           "lakecolor": "white",
           "landcolor": "#E5ECF6",
           "showlakes": true,
           "showland": true,
           "subunitcolor": "white"
          },
          "hoverlabel": {
           "align": "left"
          },
          "hovermode": "closest",
          "mapbox": {
           "style": "light"
          },
          "paper_bgcolor": "white",
          "plot_bgcolor": "#E5ECF6",
          "polar": {
           "angularaxis": {
            "gridcolor": "white",
            "linecolor": "white",
            "ticks": ""
           },
           "bgcolor": "#E5ECF6",
           "radialaxis": {
            "gridcolor": "white",
            "linecolor": "white",
            "ticks": ""
           }
          },
          "scene": {
           "xaxis": {
            "backgroundcolor": "#E5ECF6",
            "gridcolor": "white",
            "gridwidth": 2,
            "linecolor": "white",
            "showbackground": true,
            "ticks": "",
            "zerolinecolor": "white"
           },
           "yaxis": {
            "backgroundcolor": "#E5ECF6",
            "gridcolor": "white",
            "gridwidth": 2,
            "linecolor": "white",
            "showbackground": true,
            "ticks": "",
            "zerolinecolor": "white"
           },
           "zaxis": {
            "backgroundcolor": "#E5ECF6",
            "gridcolor": "white",
            "gridwidth": 2,
            "linecolor": "white",
            "showbackground": true,
            "ticks": "",
            "zerolinecolor": "white"
           }
          },
          "shapedefaults": {
           "line": {
            "color": "#2a3f5f"
           }
          },
          "ternary": {
           "aaxis": {
            "gridcolor": "white",
            "linecolor": "white",
            "ticks": ""
           },
           "baxis": {
            "gridcolor": "white",
            "linecolor": "white",
            "ticks": ""
           },
           "bgcolor": "#E5ECF6",
           "caxis": {
            "gridcolor": "white",
            "linecolor": "white",
            "ticks": ""
           }
          },
          "title": {
           "x": 0.05
          },
          "xaxis": {
           "automargin": true,
           "gridcolor": "white",
           "linecolor": "white",
           "ticks": "",
           "title": {
            "standoff": 15
           },
           "zerolinecolor": "white",
           "zerolinewidth": 2
          },
          "yaxis": {
           "automargin": true,
           "gridcolor": "white",
           "linecolor": "white",
           "ticks": "",
           "title": {
            "standoff": 15
           },
           "zerolinecolor": "white",
           "zerolinewidth": 2
          }
         }
        },
        "title": {
         "text": "Modelled vs Data",
         "x": 0.5
        },
        "xaxis": {
         "title": {
          "text": "Year"
         }
        },
        "yaxis": {
         "title": {
          "text": "Population"
         }
        }
       }
      }
     },
     "metadata": {},
     "output_type": "display_data"
    }
   ],
   "source": [
    "latent_1 = px.line(\n",
    "    derived_df_0,\n",
    "    x=derived_df_0.index,\n",
    "    y=\"percentage_latent\",\n",
    ")\n",
    "latent_2 = px.scatter(x= plots['percentage_latent']['times'], y = plots['percentage_latent']['values'])\n",
    "latent_2.update_traces(marker=dict(color=\"red\"))\n",
    "latent_plot = go.Figure(\n",
    "    data=latent_1.data + latent_2.data,\n",
    ")\n",
    "latent_plot.update_layout(\n",
    "    title=\"Modelled vs Data\", title_x=0.5, xaxis_title=\"Year\", yaxis_title=\"Population\"\n",
    ")\n",
    "latent_plot.show()"
   ]
  },
  {
   "cell_type": "code",
   "execution_count": 16,
   "metadata": {},
   "outputs": [
    {
     "data": {
      "application/vnd.plotly.v1+json": {
       "config": {
        "plotlyServerURL": "https://plot.ly"
       },
       "data": [
        {
         "hovertemplate": "index=%{x}<br>notifications=%{y}<extra></extra>",
         "legendgroup": "",
         "line": {
          "color": "#636efa",
          "dash": "solid"
         },
         "marker": {
          "symbol": "circle"
         },
         "mode": "lines",
         "name": "",
         "showlegend": false,
         "type": "scattergl",
         "x": [
          1900,
          1900.1,
          1900.2,
          1900.3,
          1900.4,
          1900.5,
          1900.6,
          1900.7,
          1900.8,
          1900.9,
          1901,
          1901.1,
          1901.2,
          1901.3,
          1901.4,
          1901.5,
          1901.6,
          1901.7,
          1901.8,
          1901.9,
          1902,
          1902.1,
          1902.2,
          1902.3,
          1902.4,
          1902.5,
          1902.6,
          1902.7,
          1902.8,
          1902.9,
          1903,
          1903.1,
          1903.2,
          1903.3,
          1903.4,
          1903.5,
          1903.6,
          1903.7,
          1903.8,
          1903.9,
          1904,
          1904.1,
          1904.2,
          1904.3,
          1904.4,
          1904.5,
          1904.6,
          1904.7,
          1904.8,
          1904.9,
          1905,
          1905.1,
          1905.2,
          1905.3,
          1905.4,
          1905.5,
          1905.6,
          1905.7,
          1905.8,
          1905.9,
          1906,
          1906.1,
          1906.2,
          1906.3,
          1906.4,
          1906.5,
          1906.6,
          1906.7,
          1906.8,
          1906.9,
          1907,
          1907.1,
          1907.2,
          1907.3,
          1907.4,
          1907.5,
          1907.6,
          1907.7,
          1907.8,
          1907.9,
          1908,
          1908.1,
          1908.2,
          1908.3,
          1908.4,
          1908.5,
          1908.6,
          1908.7,
          1908.8,
          1908.9,
          1909,
          1909.1,
          1909.2,
          1909.3,
          1909.4,
          1909.5,
          1909.6,
          1909.7,
          1909.8,
          1909.9,
          1910,
          1910.1,
          1910.2,
          1910.3,
          1910.4,
          1910.5,
          1910.6,
          1910.7,
          1910.8,
          1910.9,
          1911,
          1911.1,
          1911.2,
          1911.3,
          1911.4,
          1911.5,
          1911.6,
          1911.7,
          1911.8,
          1911.9,
          1912,
          1912.1,
          1912.2,
          1912.3,
          1912.4,
          1912.5,
          1912.6,
          1912.7,
          1912.8,
          1912.9,
          1913,
          1913.1,
          1913.2,
          1913.3,
          1913.4,
          1913.5,
          1913.6,
          1913.7,
          1913.8,
          1913.9,
          1914,
          1914.1,
          1914.2,
          1914.3,
          1914.4,
          1914.5,
          1914.6,
          1914.7,
          1914.8,
          1914.9,
          1915,
          1915.1,
          1915.2,
          1915.3,
          1915.4,
          1915.5,
          1915.6,
          1915.7,
          1915.8,
          1915.9,
          1916,
          1916.1,
          1916.2,
          1916.3,
          1916.4,
          1916.5,
          1916.6,
          1916.7,
          1916.8,
          1916.9,
          1917,
          1917.1,
          1917.2,
          1917.3,
          1917.4,
          1917.5,
          1917.6,
          1917.7,
          1917.8,
          1917.9,
          1918,
          1918.1,
          1918.2,
          1918.3,
          1918.4,
          1918.5,
          1918.6,
          1918.7,
          1918.8,
          1918.9,
          1919,
          1919.1,
          1919.2,
          1919.3,
          1919.4,
          1919.5,
          1919.6,
          1919.7,
          1919.8,
          1919.9,
          1920,
          1920.1,
          1920.2,
          1920.3,
          1920.4,
          1920.5,
          1920.6,
          1920.7,
          1920.8,
          1920.9,
          1921,
          1921.1,
          1921.2,
          1921.3,
          1921.4,
          1921.5,
          1921.6,
          1921.7,
          1921.8,
          1921.9,
          1922,
          1922.1,
          1922.2,
          1922.3,
          1922.4,
          1922.5,
          1922.6,
          1922.7,
          1922.8,
          1922.9,
          1923,
          1923.1,
          1923.2,
          1923.3,
          1923.4,
          1923.5,
          1923.6,
          1923.7,
          1923.8,
          1923.9,
          1924,
          1924.1,
          1924.2,
          1924.3,
          1924.4,
          1924.5,
          1924.6,
          1924.7,
          1924.8,
          1924.9,
          1925,
          1925.1,
          1925.2,
          1925.3,
          1925.4,
          1925.5,
          1925.6,
          1925.7,
          1925.8,
          1925.9,
          1926,
          1926.1,
          1926.2,
          1926.3,
          1926.4,
          1926.5,
          1926.6,
          1926.7,
          1926.8,
          1926.9,
          1927,
          1927.1,
          1927.2,
          1927.3,
          1927.4,
          1927.5,
          1927.6,
          1927.7,
          1927.8,
          1927.9,
          1928,
          1928.1,
          1928.2,
          1928.3,
          1928.4,
          1928.5,
          1928.6,
          1928.7,
          1928.8,
          1928.9,
          1929,
          1929.1,
          1929.2,
          1929.3,
          1929.4,
          1929.5,
          1929.6,
          1929.7,
          1929.8,
          1929.9,
          1930,
          1930.1,
          1930.2,
          1930.3,
          1930.4,
          1930.5,
          1930.6,
          1930.7,
          1930.8,
          1930.9,
          1931,
          1931.1,
          1931.2,
          1931.3,
          1931.4,
          1931.5,
          1931.6,
          1931.7,
          1931.8,
          1931.9,
          1932,
          1932.1,
          1932.2,
          1932.3,
          1932.4,
          1932.5,
          1932.6,
          1932.7,
          1932.8,
          1932.9,
          1933,
          1933.1,
          1933.2,
          1933.3,
          1933.4,
          1933.5,
          1933.6,
          1933.7,
          1933.8,
          1933.9,
          1934,
          1934.1,
          1934.2,
          1934.3,
          1934.4,
          1934.5,
          1934.6,
          1934.7,
          1934.8,
          1934.9,
          1935,
          1935.1,
          1935.2,
          1935.3,
          1935.4,
          1935.5,
          1935.6,
          1935.7,
          1935.8,
          1935.9,
          1936,
          1936.1,
          1936.2,
          1936.3,
          1936.4,
          1936.5,
          1936.6,
          1936.7,
          1936.8,
          1936.9,
          1937,
          1937.1,
          1937.2,
          1937.3,
          1937.4,
          1937.5,
          1937.6,
          1937.7,
          1937.8,
          1937.9,
          1938,
          1938.1,
          1938.2,
          1938.3,
          1938.4,
          1938.5,
          1938.6,
          1938.7,
          1938.8,
          1938.9,
          1939,
          1939.1,
          1939.2,
          1939.3,
          1939.4,
          1939.5,
          1939.6,
          1939.7,
          1939.8,
          1939.9,
          1940,
          1940.1,
          1940.2,
          1940.3,
          1940.4,
          1940.5,
          1940.6,
          1940.7,
          1940.8,
          1940.9,
          1941,
          1941.1,
          1941.2,
          1941.3,
          1941.4,
          1941.5,
          1941.6,
          1941.7,
          1941.8,
          1941.9,
          1942,
          1942.1,
          1942.2,
          1942.3,
          1942.4,
          1942.5,
          1942.6,
          1942.7,
          1942.8,
          1942.9,
          1943,
          1943.1,
          1943.2,
          1943.3,
          1943.4,
          1943.5,
          1943.6,
          1943.7,
          1943.8,
          1943.9,
          1944,
          1944.1,
          1944.2,
          1944.3,
          1944.4,
          1944.5,
          1944.6,
          1944.7,
          1944.8,
          1944.9,
          1945,
          1945.1,
          1945.2,
          1945.3,
          1945.4,
          1945.5,
          1945.6,
          1945.7,
          1945.8,
          1945.9,
          1946,
          1946.1,
          1946.2,
          1946.3,
          1946.4,
          1946.5,
          1946.6,
          1946.7,
          1946.8,
          1946.9,
          1947,
          1947.1,
          1947.2,
          1947.3,
          1947.4,
          1947.5,
          1947.6,
          1947.7,
          1947.8,
          1947.9,
          1948,
          1948.1,
          1948.2,
          1948.3,
          1948.4,
          1948.5,
          1948.6,
          1948.7,
          1948.8,
          1948.9,
          1949,
          1949.1,
          1949.2,
          1949.3,
          1949.4,
          1949.5,
          1949.6,
          1949.7,
          1949.8,
          1949.9,
          1950,
          1950.1,
          1950.2,
          1950.3,
          1950.4,
          1950.5,
          1950.6,
          1950.7,
          1950.8,
          1950.9,
          1951,
          1951.1,
          1951.2,
          1951.3,
          1951.4,
          1951.5,
          1951.6,
          1951.7,
          1951.8,
          1951.9,
          1952,
          1952.1,
          1952.2,
          1952.3,
          1952.4,
          1952.5,
          1952.6,
          1952.7,
          1952.8,
          1952.9,
          1953,
          1953.1,
          1953.2,
          1953.3,
          1953.4,
          1953.5,
          1953.6,
          1953.7,
          1953.8,
          1953.9,
          1954,
          1954.1,
          1954.2,
          1954.3,
          1954.4,
          1954.5,
          1954.6,
          1954.7,
          1954.8,
          1954.9,
          1955,
          1955.1,
          1955.2,
          1955.3,
          1955.4,
          1955.5,
          1955.6,
          1955.7,
          1955.8,
          1955.9,
          1956,
          1956.1,
          1956.2,
          1956.3,
          1956.4,
          1956.5,
          1956.6,
          1956.7,
          1956.8,
          1956.9,
          1957,
          1957.1,
          1957.2,
          1957.3,
          1957.4,
          1957.5,
          1957.6,
          1957.7,
          1957.8,
          1957.9,
          1958,
          1958.1,
          1958.2,
          1958.3,
          1958.4,
          1958.5,
          1958.6,
          1958.7,
          1958.8,
          1958.9,
          1959,
          1959.1,
          1959.2,
          1959.3,
          1959.4,
          1959.5,
          1959.6,
          1959.7,
          1959.8,
          1959.9,
          1960,
          1960.1,
          1960.2,
          1960.3,
          1960.4,
          1960.5,
          1960.6,
          1960.7,
          1960.8,
          1960.9,
          1961,
          1961.1,
          1961.2,
          1961.3,
          1961.4,
          1961.5,
          1961.6,
          1961.7,
          1961.8,
          1961.9,
          1962,
          1962.1,
          1962.2,
          1962.3,
          1962.4,
          1962.5,
          1962.6,
          1962.7,
          1962.8,
          1962.9,
          1963,
          1963.1,
          1963.2,
          1963.3,
          1963.4,
          1963.5,
          1963.6,
          1963.7,
          1963.8,
          1963.9,
          1964,
          1964.1,
          1964.2,
          1964.3,
          1964.4,
          1964.5,
          1964.6,
          1964.7,
          1964.8,
          1964.9,
          1965,
          1965.1,
          1965.2,
          1965.3,
          1965.4,
          1965.5,
          1965.6,
          1965.7,
          1965.8,
          1965.9,
          1966,
          1966.1,
          1966.2,
          1966.3,
          1966.4,
          1966.5,
          1966.6,
          1966.7,
          1966.8,
          1966.9,
          1967,
          1967.1,
          1967.2,
          1967.3,
          1967.4,
          1967.5,
          1967.6,
          1967.7,
          1967.8,
          1967.9,
          1968,
          1968.1,
          1968.2,
          1968.3,
          1968.4,
          1968.5,
          1968.6,
          1968.7,
          1968.8,
          1968.9,
          1969,
          1969.1,
          1969.2,
          1969.3,
          1969.4,
          1969.5,
          1969.6,
          1969.7,
          1969.8,
          1969.9,
          1970,
          1970.1,
          1970.2,
          1970.3,
          1970.4,
          1970.5,
          1970.6,
          1970.7,
          1970.8,
          1970.9,
          1971,
          1971.1,
          1971.2,
          1971.3,
          1971.4,
          1971.5,
          1971.6,
          1971.7,
          1971.8,
          1971.9,
          1972,
          1972.1,
          1972.2,
          1972.3,
          1972.4,
          1972.5,
          1972.6,
          1972.7,
          1972.8,
          1972.9,
          1973,
          1973.1,
          1973.2,
          1973.3,
          1973.4,
          1973.5,
          1973.6,
          1973.7,
          1973.8,
          1973.9,
          1974,
          1974.1,
          1974.2,
          1974.3,
          1974.4,
          1974.5,
          1974.6,
          1974.7,
          1974.8,
          1974.9,
          1975,
          1975.1,
          1975.2,
          1975.3,
          1975.4,
          1975.5,
          1975.6,
          1975.7,
          1975.8,
          1975.9,
          1976,
          1976.1,
          1976.2,
          1976.3,
          1976.4,
          1976.5,
          1976.6,
          1976.7,
          1976.8,
          1976.9,
          1977,
          1977.1,
          1977.2,
          1977.3,
          1977.4,
          1977.5,
          1977.6,
          1977.7,
          1977.8,
          1977.9,
          1978,
          1978.1,
          1978.2,
          1978.3,
          1978.4,
          1978.5,
          1978.6,
          1978.7,
          1978.8,
          1978.9,
          1979,
          1979.1,
          1979.2,
          1979.3,
          1979.4,
          1979.5,
          1979.6,
          1979.7,
          1979.8,
          1979.9,
          1980,
          1980.1,
          1980.2,
          1980.3,
          1980.4,
          1980.5,
          1980.6,
          1980.7,
          1980.8,
          1980.9,
          1981,
          1981.1,
          1981.2,
          1981.3,
          1981.4,
          1981.5,
          1981.6,
          1981.7,
          1981.8,
          1981.9,
          1982,
          1982.1,
          1982.2,
          1982.3,
          1982.4,
          1982.5,
          1982.6,
          1982.7,
          1982.8,
          1982.9,
          1983,
          1983.1,
          1983.2,
          1983.3,
          1983.4,
          1983.5,
          1983.6,
          1983.7,
          1983.8,
          1983.9,
          1984,
          1984.1,
          1984.2,
          1984.3,
          1984.4,
          1984.5,
          1984.6,
          1984.7,
          1984.8,
          1984.9,
          1985,
          1985.1,
          1985.2,
          1985.3,
          1985.4,
          1985.5,
          1985.6,
          1985.7,
          1985.8,
          1985.9,
          1986,
          1986.1,
          1986.2,
          1986.3,
          1986.4,
          1986.5,
          1986.6,
          1986.7,
          1986.8,
          1986.9,
          1987,
          1987.1,
          1987.2,
          1987.3,
          1987.4,
          1987.5,
          1987.6,
          1987.7,
          1987.8,
          1987.9,
          1988,
          1988.1,
          1988.2,
          1988.3,
          1988.4,
          1988.5,
          1988.6,
          1988.7,
          1988.8,
          1988.9,
          1989,
          1989.1,
          1989.2,
          1989.3,
          1989.4,
          1989.5,
          1989.6,
          1989.7,
          1989.8,
          1989.9,
          1990,
          1990.1,
          1990.2,
          1990.3,
          1990.4,
          1990.5,
          1990.6,
          1990.7,
          1990.8,
          1990.9,
          1991,
          1991.1,
          1991.2,
          1991.3,
          1991.4,
          1991.5,
          1991.6,
          1991.7,
          1991.8,
          1991.9,
          1992,
          1992.1,
          1992.2,
          1992.3,
          1992.4,
          1992.5,
          1992.6,
          1992.7,
          1992.8,
          1992.9,
          1993,
          1993.1,
          1993.2,
          1993.3,
          1993.4,
          1993.5,
          1993.6,
          1993.7,
          1993.8,
          1993.9,
          1994,
          1994.1,
          1994.2,
          1994.3,
          1994.4,
          1994.5,
          1994.6,
          1994.7,
          1994.8,
          1994.9,
          1995,
          1995.1,
          1995.2,
          1995.3,
          1995.4,
          1995.5,
          1995.6,
          1995.7,
          1995.8,
          1995.9,
          1996,
          1996.1,
          1996.2,
          1996.3,
          1996.4,
          1996.5,
          1996.6,
          1996.7,
          1996.8,
          1996.9,
          1997,
          1997.1,
          1997.2,
          1997.3,
          1997.4,
          1997.5,
          1997.6,
          1997.7,
          1997.8,
          1997.9,
          1998,
          1998.1,
          1998.2,
          1998.3,
          1998.4,
          1998.5,
          1998.6,
          1998.7,
          1998.8,
          1998.9,
          1999,
          1999.1,
          1999.2,
          1999.3,
          1999.4,
          1999.5,
          1999.6,
          1999.7,
          1999.8,
          1999.9,
          2000,
          2000.1,
          2000.2,
          2000.3,
          2000.4,
          2000.5,
          2000.6,
          2000.7,
          2000.8,
          2000.9,
          2001,
          2001.1,
          2001.2,
          2001.3,
          2001.4,
          2001.5,
          2001.6,
          2001.7,
          2001.8,
          2001.9,
          2002,
          2002.1,
          2002.2,
          2002.3,
          2002.4,
          2002.5,
          2002.6,
          2002.7,
          2002.8,
          2002.9,
          2003,
          2003.1,
          2003.2,
          2003.3,
          2003.4,
          2003.5,
          2003.6,
          2003.7,
          2003.8,
          2003.9,
          2004,
          2004.1,
          2004.2,
          2004.3,
          2004.4,
          2004.5,
          2004.6,
          2004.7,
          2004.8,
          2004.9,
          2005,
          2005.1,
          2005.2,
          2005.3,
          2005.4,
          2005.5,
          2005.6,
          2005.7,
          2005.8,
          2005.9,
          2006,
          2006.1,
          2006.2,
          2006.3,
          2006.4,
          2006.5,
          2006.6,
          2006.7,
          2006.8,
          2006.9,
          2007,
          2007.1,
          2007.2,
          2007.3,
          2007.4,
          2007.5,
          2007.6,
          2007.7,
          2007.8,
          2007.9,
          2008,
          2008.1,
          2008.2,
          2008.3,
          2008.4,
          2008.5,
          2008.6,
          2008.7,
          2008.8,
          2008.9,
          2009,
          2009.1,
          2009.2,
          2009.3,
          2009.4,
          2009.5,
          2009.6,
          2009.7,
          2009.8,
          2009.9,
          2010,
          2010.1,
          2010.2,
          2010.3,
          2010.4,
          2010.5,
          2010.6,
          2010.7,
          2010.8,
          2010.9,
          2011,
          2011.1,
          2011.2,
          2011.3,
          2011.4,
          2011.5,
          2011.6,
          2011.7,
          2011.8,
          2011.9,
          2012,
          2012.1,
          2012.2,
          2012.3,
          2012.4,
          2012.5,
          2012.6,
          2012.7,
          2012.8,
          2012.9,
          2013,
          2013.1,
          2013.2,
          2013.3,
          2013.4,
          2013.5,
          2013.6,
          2013.7,
          2013.8,
          2013.9,
          2014,
          2014.1,
          2014.2,
          2014.3,
          2014.4,
          2014.5,
          2014.6,
          2014.7,
          2014.8,
          2014.9,
          2015,
          2015.1,
          2015.2,
          2015.3,
          2015.4,
          2015.5,
          2015.6,
          2015.7,
          2015.8,
          2015.9,
          2016,
          2016.1,
          2016.2,
          2016.3,
          2016.4,
          2016.5,
          2016.6,
          2016.7,
          2016.8,
          2016.9,
          2017,
          2017.1,
          2017.2,
          2017.3,
          2017.4,
          2017.5,
          2017.6,
          2017.7,
          2017.8,
          2017.9,
          2018,
          2018.1,
          2018.2,
          2018.3,
          2018.4,
          2018.5,
          2018.6,
          2018.7,
          2018.8,
          2018.9,
          2019,
          2019.1,
          2019.2,
          2019.3,
          2019.4,
          2019.5,
          2019.6,
          2019.7,
          2019.8,
          2019.9,
          2020
         ],
         "xaxis": "x",
         "y": [
          1.0156867257914937,
          1.0044487327051344,
          0.9965822123724917,
          1.0106338326323685,
          1.0358911015704102,
          1.0674044135556473,
          1.1026284490957967,
          1.1404173727579798,
          1.180137576364941,
          1.2213103433468135,
          1.2640978871340813,
          1.3085622118970681,
          1.3545091331429147,
          1.4020335923659122,
          1.4514657620624822,
          1.5029445497221603,
          1.556386313744086,
          1.611558169267333,
          1.6686800595539126,
          1.7284242187697942,
          1.7911837636600012,
          1.8568693635539082,
          1.9249092403655266,
          1.9948656608308335,
          2.0674603700549503,
          2.143623296838273,
          2.2232444087738976,
          2.3057822337439733,
          2.391479823621875,
          2.4810211970883436,
          2.5745288029438744,
          2.6716964580934546,
          2.772527009479634,
          2.87764260495504,
          2.987542075420607,
          3.1022152835484844,
          3.2211869421700534,
          3.3443906255948397,
          3.4728221913275235,
          3.6074566211448755,
          3.748306700406144,
          3.894424694488716,
          4.0454685060913445,
          4.202705517029486,
          4.36718964716428,
          4.5386371865665796,
          4.716563184699216,
          4.901598160763182,
          5.0946626327946385,
          5.2959069889784525,
          5.505044952129393,
          5.7223942305783435,
          5.948919678221888,
          6.185214779838946,
          6.431272681351807,
          6.686715824215444,
          6.952059520448869,
          7.228769409544514,
          7.517769749563747,
          7.8189323210060095,
          8.131387795394728,
          8.455668595182377,
          8.793680967230364,
          9.146358377618718,
          9.51329663696653,
          9.894414555252977,
          10.291055217841937,
          10.704508319277707,
          11.135074704600312,
          11.58258000873587,
          12.047854008214973,
          12.532554987186998,
          13.037698113210894,
          13.563433998824607,
          14.109561969383297,
          14.67731727263779,
          15.269027979250755,
          15.886057645332713,
          16.52836810084835,
          17.195313374871937,
          17.88844495503649,
          18.610716356432846,
          19.363471631679904,
          20.146401231817002,
          20.95998289175587,
          21.80673862670407,
          22.688916533170843,
          23.60731129474675,
          24.562012571968026,
          25.554733033844865,
          26.588517534795308,
          27.66539711033374,
          28.78603415263825,
          29.950573520501152,
          31.161438884407634,
          32.42272434518944,
          33.73702337859303,
          35.104817015607836,
          36.52577061809123,
          38.00294572063791,
          39.54151652696355,
          41.14423337854343,
          42.8112433750418,
          44.54369745512029,
          46.346259622701226,
          48.22356255931659,
          50.177762133573005,
          52.20938600898617,
          54.32146284776934,
          56.5199269024982,
          58.80937015890761,
          61.19186033684804,
          63.667953054253424,
          66.24181293393163,
          68.92130385520423,
          71.71223453282758,
          74.61666070096283,
          77.63400982409334,
          80.76894554820946,
          84.0325659884794,
          87.43322137066698,
          90.9728814867229,
          94.64925146561527,
          98.4682825795399,
          102.44342938225839,
          106.58258740680367,
          110.8868669542201,
          115.35951251266597,
          120.01125191914291,
          124.85236360096368,
          129.88819613121794,
          135.12200929964618,
          140.56245089268006,
          146.22242659781477,
          152.11165319509288,
          158.23556306042948,
          164.59719224739402,
          171.20729413472725,
          178.0843891008533,
          185.24263198151093,
          192.6878584983366,
          200.4192497677823,
          208.4467445109545,
          216.79427239400178,
          225.47977349967127,
          234.50834046079882,
          243.8833261082223,
          253.62306434593225,
          263.75117227041534,
          274.28111113142404,
          285.21778745392106,
          296.5725664128489,
          308.3711668137965,
          320.6379348729518,
          333.38611202669676,
          346.6188713026631,
          360.34855886126365,
          374.6101402257842,
          389.43825478390283,
          404.8483881165072,
          420.83724308623357,
          437.4141869853468,
          454.6225954044099,
          472.50367654482955,
          491.07096901432226,
          510.3236872853513,
          530.2890577684555,
          551.0156794870694,
          572.533023897515,
          594.8488953747495,
          617.9745905975014,
          641.9540713311394,
          666.838378922938,
          692.653932921118,
          719.4020116990068,
          747.0931706574788,
          775.7872814370785,
          805.5535498648519,
          836.4208723252176,
          868.3757410004386,
          901.4216903274212,
          935.6333681671335,
          971.0886023374758,
          1007.8074479179654,
          1045.774000563255,
          1085.0255134945287,
          1125.6491738786528,
          1167.6948177511988,
          1211.162297433749,
          1256.051462120305,
          1302.4324536126805,
          1350.3958023072403,
          1399.9761083704134,
          1451.1496633345791,
          1503.9139994352786,
          1558.370051573528,
          1614.6308907298358,
          1672.720373260994,
          1732.5752498816655,
          1794.1902290278938,
          1857.695416312627,
          1923.1964214395543,
          1990.6804139568876,
          2060.083461116729,
          2131.4640188540843,
          2204.9555174621382,
          2280.5954181472907,
          2358.3199848873164,
          2438.102752510242,
          2520.0603650365438,
          2604.3049443224645,
          2690.820422673668,
          2779.4857516682687,
          2870.2967182034718,
          2963.427857342016,
          3058.9829487877023,
          3156.880259620527,
          3256.921167781021,
          3359.13254943861,
          3463.762111164755,
          3570.8954086328436,
          3680.3522439619055,
          3791.8875621843663,
          3905.601746835791,
          4021.722723042307,
          4140.198532662221,
          4260.793712233989,
          4383.4681097141665,
          4508.38115399514,
          4635.535223227485,
          4764.733266337725,
          4895.829937760811,
          5028.931872065716,
          5164.140737445997,
          5301.326486310938,
          5440.175785987742,
          5580.601972788352,
          5722.835014419235,
          5866.9588690034425,
          6012.715096771012,
          6159.6795429242975,
          6307.858229797889,
          6457.530038702473,
          6608.634460516834,
          6760.782304065505,
          6913.766594860972,
          7067.762583830841,
          7222.830922847481,
          7378.698438209629,
          7535.008261216268,
          7691.791115724845,
          7849.252393911984,
          8007.2862388320555,
          8165.460843519088,
          8323.501805662936,
          8481.631980178856,
          8640.048066552503,
          8798.512942385754,
          8956.454703028074,
          9113.725733243838,
          9270.737386533985,
          9427.640475160693,
          9584.032966243083,
          9739.260866963394,
          9893.38679894367,
          10046.977054614057,
          10200.074687818593,
          10352.067600609844,
          10502.433927194788,
          10651.493619464196,
          10799.625602395285,
          10946.566846848473,
          11091.855558880594,
          11235.539885935541,
          11377.89615993144,
          11518.821440289785,
          11657.960136644326,
          11795.230856695263,
          11930.893959360055,
          12065.031077121715,
          12197.396921734218,
          12327.603399211224,
          12455.733068453972,
          12582.222512821872,
          12707.175452113315,
          12830.224854273021,
          12950.85620758763,
          13069.255140032255,
          13185.94188691356,
          13300.898115156673,
          13413.67651209989,
          13524.157069583816,
          13632.71032256473,
          13739.494385993781,
          13844.275672809566,
          13946.769624421271,
          14047.154224311336,
          14145.77611186808,
          14242.64056497921,
          14337.404111222182,
          14429.8322199527,
          14520.271309459637,
          14609.14853340451,
          14696.423761284568,
          14781.598459768891,
          14864.452463928146,
          14945.460173393534,
          15024.990272866904,
          15102.844219827999,
          15178.61913552089,
          15252.456509362546,
          15324.7801291028,
          15395.616403428794,
          15464.649545926213,
          15531.75767626316,
          15597.281053952534,
          15661.48677201275,
          15724.271476907714,
          15785.252325903843,
          15844.408264043668,
          15902.222733001458,
          15958.981079287467,
          16014.487113646755,
          16068.224279924854,
          16120.245641047812,
          16171.124732136976,
          16221.028983610136,
          16269.608646731049,
          16316.60795396996,
          16362.345254856577,
          16407.14818116391,
          16450.922286648816,
          16493.321407672855,
          16534.378319562085,
          16574.49835232694,
          16613.83335257223,
          16652.164012203677,
          16689.130638652136,
          16724.89718801961,
          16759.970725852054,
          16794.480527323034,
          16828.075290205456,
          16860.328344396723,
          16891.51594575733,
          16922.164871694444,
          16952.25634102562,
          16981.351367435895,
          17009.366589002108,
          17036.722574805273,
          17063.609418028074,
          17089.806579673277,
          17115.01399077444,
          17139.413105686384,
          17163.38592486403,
          17186.962013770077,
          17209.808354398592,
          17231.672893773306,
          17252.88499401581,
          17273.877922814758,
          17294.623998870058,
          17314.63956736259,
          17333.689664325895,
          17352.225327967586,
          17370.618673741265,
          17388.682311700173,
          17405.98075136863,
          17422.615168434928,
          17439.021998420936,
          17455.246894196465,
          17470.962423734487,
          17485.981221509133,
          17500.6128734132,
          17515.152529676605,
          17529.508909053384,
          17543.274997226697,
          17556.36158973441,
          17569.220296650088,
          17582.153478669487,
          17594.97618470748,
          17607.1522370286,
          17618.674981489065,
          17630.091925954595,
          17641.58617883207,
          17652.81042107907,
          17663.445160974712,
          17673.762763066617,
          17684.114180628872,
          17694.41598194308,
          17704.285525379375,
          17713.686283379197,
          17723.010545152436,
          17732.434608381478,
          17741.744369839813,
          17750.532570072588,
          17758.899206186055,
          17767.34354007727,
          17776.01085899954,
          17784.558976494758,
          17792.517995397015,
          17800.110583008118,
          17807.864647139024,
          17815.776521896252,
          17823.39347456205,
          17830.568945695963,
          17837.70129885937,
          17845.0096616006,
          17852.28252506277,
          17859.162340715066,
          17865.776496672257,
          17872.52526749631,
          17879.45846702923,
          17886.24182361079,
          17892.565340753383,
          17898.71208730498,
          17905.130071577103,
          17911.80877068375,
          17918.261150871498,
          17924.12762808151,
          17929.855300874173,
          17936.028101144362,
          17942.579641755856,
          17948.813400854862,
          17954.446354038515,
          17960.068018717597,
          17966.0432546729,
          17972.047702741424,
          17977.727375236467,
          17983.30331319377,
          17989.072100922782,
          17994.928083931914,
          18000.57618977471,
          18006.05059357728,
          18011.654166163506,
          18017.46381379126,
          18023.268061255665,
          18028.73831152319,
          18034.003366050765,
          18039.53181046959,
          18045.47087776632,
          18051.507313199054,
          18057.083575051205,
          18062.324580468467,
          18067.820097759075,
          18073.63778560183,
          18079.34715450076,
          18084.781893469335,
          18090.287168233102,
          18096.042148943485,
          18101.847512618657,
          18107.422541824566,
          18112.902501390894,
          18118.61057898866,
          18124.57027258679,
          18130.48101184457,
          18136.035305498495,
          18141.488509172417,
          18147.322068830355,
          18153.582815907663,
          18159.81388217529,
          18165.555962827202,
          18171.14367559713,
          18177.104855065438,
          18183.335809680877,
          18189.367342197853,
          18195.194769698923,
          18201.216452377397,
          18207.495594680517,
          18213.746340973565,
          18219.776715299406,
          18225.833566273148,
          18232.17956750261,
          18238.743841403106,
          18245.15276847948,
          18251.240161229296,
          18257.404702575408,
          18264.02822404485,
          18271.006367636834,
          18277.770677234574,
          18284.093558097607,
          18290.48366638624,
          18297.291214386674,
          18304.248018197344,
          18310.949476399062,
          18317.560915919912,
          18324.447151046028,
          18331.562411909876,
          18338.56442247282,
          18345.375197185826,
          18352.325193538083,
          18359.597804269062,
          18367.02794994216,
          18374.20737187421,
          18381.13183122774,
          18388.291732993534,
          18395.942688960225,
          18403.83452455043,
          18411.366061299006,
          18418.55396624139,
          18425.995856688583,
          18433.84673022247,
          18441.700848290548,
          18449.289415622465,
          18456.923108532723,
          18464.870566161204,
          18472.981696686926,
          18480.90850908336,
          18488.70654897023,
          18496.742488600343,
          18505.1032173961,
          18513.522781285574,
          18521.62726705495,
          18529.58972184642,
          18537.91875627414,
          18546.72454095397,
          18555.607416470375,
          18564.0484466223,
          18572.301858021317,
          18580.938153257644,
          18589.923461104005,
          18598.77423944759,
          18607.39173938233,
          18616.183459145184,
          18625.296846776004,
          18634.475080526492,
          18643.43098671112,
          18652.354837685703,
          18661.586420971413,
          18671.115566092558,
          18680.580574235828,
          18689.715948132816,
          18698.86066923857,
          18708.464311105898,
          18718.491655754355,
          18728.407670826913,
          18737.893697688618,
          18747.407031711933,
          18757.37981135989,
          18767.618991255546,
          18777.659377569962,
          18787.600056976877,
          18797.889927730837,
          18808.575823022467,
          18819.342007310403,
          18830.0498917347,
          18841.073727266375,
          18852.762123875233,
          18865.075242388684,
          18877.652828082642,
          18890.492361342946,
          18904.20628189858,
          18919.23608299569,
          18935.421671822412,
          18952.150481793116,
          18969.413438805554,
          18987.83185313079,
          19007.56800525814,
          19028.163874133446,
          19049.246127442453,
          19071.05882722526,
          19093.85163437647,
          19117.448038223392,
          19141.444118860712,
          19165.81213810113,
          19190.87756722881,
          19216.72681775202,
          19243.10428293397,
          19269.560736430318,
          19296.145709700995,
          19323.386789297725,
          19351.49263063959,
          19380.12355186777,
          19408.58516344738,
          19436.920720010043,
          19465.796106845148,
          19495.337491005914,
          19525.058553990893,
          19554.690042742164,
          19584.58379003204,
          19614.981573911413,
          19645.67960730317,
          19676.314440993552,
          19706.98119516257,
          19738.05911566425,
          19769.60580750125,
          19801.304381275724,
          19832.74935753973,
          19864.159091957026,
          19896.110218676724,
          19928.72341403302,
          19961.541571582446,
          19993.94723240191,
          20026.227997552916,
          20059.07839836529,
          20092.495371143166,
          20125.95252290017,
          20159.358817899076,
          20193.203149172652,
          20227.688522065,
          20262.579866337102,
          20297.605450200786,
          20332.98189262536,
          20369.063735380565,
          20405.829148806337,
          20442.874836735686,
          20479.788128824737,
          20516.81914889304,
          20554.483854621896,
          20592.776289232042,
          20631.080849704453,
          20668.731321827618,
          20706.082668596857,
          20743.806245871958,
          20781.771712424288,
          20819.39561627176,
          20856.663762129774,
          20894.045916304352,
          20931.60510631874,
          20969.00477812837,
          21006.046752579656,
          21043.035521500053,
          21080.266491554612,
          21117.653219022097,
          21154.76083646212,
          21191.391673552425,
          21228.0331418881,
          21265.177694986494,
          21302.73035530394,
          21340.006499348114,
          21376.63442460038,
          21413.211380106008,
          21450.261267756876,
          21487.511496077386,
          21524.426535870072,
          21561.15638726445,
          21598.173118938983,
          21635.455663314933,
          21672.60764134967,
          21709.499911766852,
          21746.512701078143,
          21783.90283724115,
          21821.516847751875,
          21858.870847837818,
          21895.8757145745,
          21933.106259190154,
          21970.975963530575,
          22009.29249312715,
          22047.326830957027,
          22084.895406082927,
          22122.694375098636,
          22161.105981651108,
          22199.746215339295,
          22238.081680642168,
          22276.2971188351,
          22314.80235476383,
          22353.482230456557,
          22391.823064178054,
          22429.621179093003,
          22467.272757554674,
          22505.045234431076,
          22542.704027025648,
          22579.623829135293,
          22615.717711113048,
          22651.680100196758,
          22687.933272284783,
          22724.152984493143,
          22759.503110648227,
          22794.019902055985,
          22828.537852841873,
          22863.267781602633,
          22897.679211580198,
          22931.451015264774,
          22965.015734367837,
          22998.719583653467,
          23032.369957561925,
          23065.551723355766,
          23098.37248432909,
          23131.29663096468,
          23164.42318910976,
          23197.420112883774,
          23229.846728246957,
          23261.949559453424,
          23294.36914555612,
          23327.244409811592,
          23360.084455985383,
          23392.22634626061,
          23423.979809888897,
          23456.08925747796,
          23488.54257086498,
          23520.728617354453,
          23552.482234677773,
          23584.311641703178,
          23616.43507382245,
          23648.546623156246,
          23680.2362998948,
          23711.684214881516,
          23743.318392659716,
          23775.139319694244,
          23806.70052444505,
          23837.56846830429,
          23868.044099017152,
          23898.685555464,
          23929.503645220655,
          23959.901128248785,
          23989.30556163343,
          24018.13359434814,
          24047.049339129517,
          24075.94886818817,
          24104.203923697467,
          24131.757030742272,
          24159.188431814655,
          24186.68860367482,
          24213.898882458227,
          24240.443215236537,
          24266.622499643934,
          24292.924862527343,
          24319.336981562297,
          24345.35671195985,
          24370.677728746952,
          24395.798362699188,
          24421.276579878013,
          24447.021335690715,
          24472.327055224072,
          24496.905363901442,
          24521.40525873078,
          24546.299782569797,
          24571.29193545018,
          24595.773255298256,
          24619.896715590192,
          24644.254939948914,
          24668.890094373317,
          24693.333189906913,
          24717.315495954972,
          24741.25856506056,
          24765.564164743926,
          24790.103318970792,
          24814.30557174106,
          24838.01973910552,
          24861.857528930137,
          24886.25756839201,
          24910.994062585232,
          24935.327149699668,
          24959.198013722496,
          24983.37132977434,
          25008.184579130728,
          25033.242338442502,
          25058.079687420643,
          25083.054460124265,
          25108.751477026653,
          25135.171198137905,
          25161.85683857056,
          25188.6786092751,
          25216.09482318625,
          25244.362513234428,
          25273.212628352758,
          25301.967438457887,
          25330.425658332235,
          25359.130855683852,
          25388.391097537657,
          25417.813385574154,
          25446.48342247431,
          25474.310848396417,
          25502.077966636494,
          25530.019439210308,
          25557.593323053225,
          25584.40938174659,
          25610.87164139246,
          25637.364377330105,
          25663.712858649553,
          25689.473790701988,
          25714.724582000024,
          25739.95507900988,
          25765.2993666314,
          25790.441128798004,
          25814.907136826314,
          25838.914347731334,
          25863.1355900446,
          25887.75222083969,
          25912.296594584986,
          25936.06689804547,
          25959.338539370518,
          25982.89518567887,
          26006.769574428916,
          26030.35517991874,
          26053.44989775938,
          26076.56873146062,
          26099.98085933499,
          26123.413187382193,
          26146.440272521195,
          26169.240431751903,
          26192.30483983371,
          26215.69699192846,
          26239.01239483717,
          26261.820103593716,
          26284.458331513662,
          26307.582261705447,
          26331.273405200605,
          26354.95793673329,
          26378.061729319146,
          26401.026418763795,
          26424.549897440902,
          26448.533742985557,
          26472.317497679687,
          26495.77679805475,
          26519.438051236153,
          26543.457925033515,
          26567.448405206895,
          26590.943727849062,
          26614.153753277602,
          26637.558381933995,
          26661.150182253314,
          26684.407453099826,
          26706.91020382883,
          26729.104694734713,
          26751.6329579486,
          26774.46123132884,
          26796.865696072473,
          26818.440050206606,
          26839.809989431225,
          26861.536671935464,
          26883.362995397918,
          26904.65989212683,
          26925.5411882714,
          26946.597619565393,
          26967.88465559708,
          26988.959481898342,
          27009.56581612659,
          27030.10329468572,
          27050.95372365936,
          27071.997687779385,
          27092.690214644772,
          27112.863831195435,
          27133.10589981904,
          27153.87207742093,
          27174.960157884023,
          27195.61142540365,
          27215.671692252305,
          27235.868664771333,
          27256.568553960682,
          27277.36396615115,
          27297.714411017914,
          27317.890365125466,
          27338.430714148286,
          27359.291911278226,
          27379.971225042907,
          27400.319216206815,
          27420.82980519957,
          27441.826338086867,
          27463.1064918604,
          27484.089298405917,
          27504.73982136018,
          27525.714352295938,
          27547.33838011558,
          27569.234264120925,
          27590.563099260733,
          27611.315724299548,
          27632.215591822962,
          27653.365179221582,
          27674.106600059826,
          27693.999671431295,
          27713.532512390542,
          27733.086020562823,
          27781.796585530537,
          27974.70259117093,
          28829.56058908982,
          32410.084004862438,
          42633.779179717196,
          57093.60266267591,
          66643.00533486399,
          69329.34361351845,
          69318.53743051527,
          68700.76402508146,
          67993.73549096605,
          67350.91035384963,
          67014.0607568943,
          67847.85504702629,
          71464.6570224232,
          76768.31531349088,
          79892.21249794171,
          80087.4181884036,
          79157.34284935742,
          77990.44689212361,
          76804.32935766976,
          75668.04468089514,
          74702.36475203646,
          74347.61770093265,
          75418.89177660493,
          77338.33871285574,
          78125.07639871087,
          77420.46832721459,
          76163.81158410788,
          74808.08082548075,
          73467.75294790063,
          72184.92212585283,
          71057.92550488819,
          70452.47114837357,
          71039.02739955166,
          72327.13283566944,
          72676.22868933258,
          71796.3757062531,
          70469.71928330077,
          69076.22159882102,
          67708.84629305845,
          66403.02818705457,
          65250.95296675564,
          64599.78518290274,
          65080.65925259278,
          66212.91952876157,
          66435.81290797573,
          65487.31304703845,
          64116.82861247333,
          62685.512907033626,
          61278.417731535315,
          59918.191200901674,
          58646.65195369556,
          57619.677643708645,
          57119.708951789944,
          56922.35863276838,
          56318.51346069909,
          55193.630454656246,
          53890.27061271516,
          52571.91599086632,
          51272.07383007585,
          49985.924903170686,
          48661.95564045798,
          47117.29739191987,
          45027.66916689274,
          42642.74985758195,
          40780.16690608641,
          39575.44688941517,
          38628.26100976062,
          37742.99444547425,
          36866.11638863721,
          35979.9436726345,
          35072.63220474954,
          34104.94414742118,
          32997.37814620495,
          31822.487924701956,
          30799.88634978903,
          29965.590896409125,
          29213.9420647948,
          28493.978530145607,
          27793.79586774896,
          27112.684923808294,
          26460.11268807133,
          25873.681693915063,
          25420.992473040547,
          25049.765901967483,
          24590.213919230664,
          24014.015178955335,
          23403.088280973236,
          22794.577423362385,
          22198.020691030142,
          21628.575122012917,
          21158.72746555502,
          21066.03764872916,
          21837.271752004548,
          23065.09217558697,
          23518.95126552557,
          23031.214269341537,
          22216.764665169994,
          21360.533793776358,
          20526.281230815544,
          19724.325922083837,
          18956.22952447478,
          18221.369845499878,
          17519.540399478443,
          16850.12097180518,
          16211.701035808997,
          15603.111354655372,
          15023.437928010346,
          14472.980120250384,
          13954.761471740703,
          13470.78136012276,
          13019.736610248947,
          12603.021399769626,
          12227.572679960258,
          11880.321885955438,
          11529.52412048112,
          11169.907073914259,
          10815.407767979888,
          10470.737452857891,
          10134.27988315883,
          9804.219686149674,
          9483.500096256068,
          9184.69062736943,
          8927.193396893908,
          8697.415231425575,
          8452.530704301982,
          8186.6982911373525,
          7921.088595092226,
          7665.505310328467,
          7422.218076863428,
          7192.156908392926,
          6978.319441241692,
          6793.616361179979,
          6661.3976904664005,
          6560.255073673605,
          6427.384296833211,
          6253.602832336437,
          6070.019782013262,
          5891.542893522765,
          5722.043558036098,
          5562.41575993322,
          5412.03418725576,
          5269.263886788474,
          5132.009859987955,
          4998.204701649785,
          4866.667117424921,
          4737.668897171351,
          4612.19413780403,
          4491.061219675067,
          4374.725781868612,
          4263.219951267545,
          4156.511326141488,
          4054.5882349009335,
          3957.4526832323068,
          3865.129313935944,
          3777.3440573957573,
          3693.585923565518,
          3613.401713692424,
          3536.3445144680713,
          3461.931012816806,
          3389.7830841572704,
          3319.858214118567,
          3252.2351376472984,
          3186.7022174941008,
          3122.6377664840575,
          3059.6513607952097,
          2997.9953965878894,
          2938.1320755288693,
          2880.282640296683,
          2824.2787904212946,
          2769.911970139514,
          2717.246793909754,
          2666.5358583537454,
          2617.889004640511,
          2571.177535543309,
          2526.2027144235344,
          2482.9168120928903,
          2441.4578014690455,
          2402.0197769019405,
          2364.9245568452206,
          2330.3934910550597,
          2298.2145613287817,
          2268.0725610657505,
          2239.961979798053,
          2214.254713555396,
          2191.3057502225042,
          2170.886589306964,
          2152.320567524018,
          2134.9350808034537,
          2118.300303304337,
          2102.119694528994,
          2086.1696636366905,
          2070.4275068126008,
          2054.7030753457534,
          2038.3632133951053,
          2020.898685913373,
          2002.4366931389568,
          1983.5375103238553,
          1964.7944562259738,
          1946.6575619766127,
          1929.334470147403,
          1912.882205249066,
          1897.381088370216,
          1883.0103473651584,
          1870.031687516244,
          1858.4392109424998,
          1847.8781334533319,
          1837.9889620313836,
          1828.571157763061,
          1819.5026060454547,
          1810.7231888977572,
          1802.176747731869,
          1793.8595076814534,
          1785.8539648133342,
          1778.3342272770597,
          1771.5827904526127,
          1765.673052456752,
          1760.4214432108988,
          1755.614349946773,
          1751.0962794525612,
          1746.7936037317565,
          1742.650311040204,
          1738.6076206925127,
          1734.6392704232694,
          1730.7356959010917,
          1726.8702870843492,
          1723.0419535526535,
          1719.2699617572594,
          1715.5545216681664,
          1711.872430154815,
          1708.2234770587932,
          1704.6525250668942,
          1701.1517268939024,
          1697.590020404125,
          1693.7699411981503,
          1689.593746029468,
          1685.0967243733526,
          1680.3943552387625,
          1675.5903752127597,
          1670.7109915525964,
          1665.7570005067164,
          1660.772569103349,
          1655.7739305807872,
          1650.60112937548,
          1644.998876481352,
          1638.8314400510294,
          1632.2176780147504,
          1625.4098829035672,
          1618.5730000875715,
          1611.7666777629684,
          1605.0114150904874,
          1598.364503397937,
          1591.9535952145957,
          1586.0818859665699,
          1581.1742355396166,
          1577.3636857042154,
          1574.3832069859905,
          1571.8906254105243,
          1569.6358021410178,
          1567.4431639804993,
          1565.2685472726318,
          1563.1118549569787,
          1560.9770507577377,
          1559.0279086872067,
          1557.4399954711132,
          1556.1403142129075,
          1554.9213709771511,
          1553.710004010012,
          1552.7413974598733,
          1552.4707149329702,
          1553.243787300686,
          1554.9509355231821,
          1557.126405893534,
          1559.213102347681,
          1560.835812715679,
          1561.9639808323877,
          1562.7484393731515,
          1563.2979073550362,
          1563.4429554624694,
          1562.801648090557,
          1561.0953394721716,
          1558.4328937580763,
          1555.1709576041346,
          1551.6036513058948,
          1547.8032545397655,
          1543.8097068148209,
          1539.8004468742715,
          1535.9035956979349,
          1532.2266160828779,
          1528.8808655631353,
          1525.9135945254286,
          1523.3024152730945,
          1520.9619970494327,
          1518.7855580889786,
          1516.658485851346,
          1514.5054697299063,
          1512.3061942033407,
          1510.0536609670282,
          1507.8072729851278,
          1505.6815888761885,
          1503.7491568001205,
          1501.9875199868977,
          1500.3323296011786,
          1498.7144207285403,
          1497.0741879953846,
          1495.4072839385794,
          1493.7119504614243,
          1491.9584492634372,
          1490.0374056679125,
          1487.753741741418,
          1484.9509463415075,
          1481.688363137349,
          1478.2055366218028,
          1474.749122402966,
          1471.42547421853,
          1468.173367151403,
          1464.922560396194,
          1461.657062040264,
          1458.4683330936396,
          1455.527570797994,
          1452.9232146442723,
          1450.629670226403,
          1448.556845650047,
          1446.5725483226315,
          1444.5232373826916,
          1442.325813781245,
          1439.9862543041806,
          1437.5434801555707,
          1435.0777072107896,
          1432.6750130935848,
          1430.3994726746907,
          1428.2590634086368,
          1426.2388745479366,
          1424.3205512705174,
          1422.4785797990585,
          1420.7695212957738,
          1419.2739815757536,
          1417.9488330818954,
          1416.6525446871287
         ],
         "yaxis": "y"
        },
        {
         "hovertemplate": "x=%{x}<br>y=%{y}<extra></extra>",
         "legendgroup": "",
         "marker": {
          "color": "red",
          "symbol": "circle"
         },
         "mode": "markers",
         "name": "",
         "orientation": "v",
         "showlegend": false,
         "type": "scatter",
         "x": [
          2011,
          2012,
          2013,
          2014,
          2015,
          2016,
          2017,
          2018,
          2019
         ],
         "xaxis": "x",
         "y": [
          1495,
          1485,
          1369,
          1405,
          1642,
          1555,
          1440,
          1468,
          1417
         ],
         "yaxis": "y"
        }
       ],
       "layout": {
        "template": {
         "data": {
          "bar": [
           {
            "error_x": {
             "color": "#2a3f5f"
            },
            "error_y": {
             "color": "#2a3f5f"
            },
            "marker": {
             "line": {
              "color": "#E5ECF6",
              "width": 0.5
             },
             "pattern": {
              "fillmode": "overlay",
              "size": 10,
              "solidity": 0.2
             }
            },
            "type": "bar"
           }
          ],
          "barpolar": [
           {
            "marker": {
             "line": {
              "color": "#E5ECF6",
              "width": 0.5
             },
             "pattern": {
              "fillmode": "overlay",
              "size": 10,
              "solidity": 0.2
             }
            },
            "type": "barpolar"
           }
          ],
          "carpet": [
           {
            "aaxis": {
             "endlinecolor": "#2a3f5f",
             "gridcolor": "white",
             "linecolor": "white",
             "minorgridcolor": "white",
             "startlinecolor": "#2a3f5f"
            },
            "baxis": {
             "endlinecolor": "#2a3f5f",
             "gridcolor": "white",
             "linecolor": "white",
             "minorgridcolor": "white",
             "startlinecolor": "#2a3f5f"
            },
            "type": "carpet"
           }
          ],
          "choropleth": [
           {
            "colorbar": {
             "outlinewidth": 0,
             "ticks": ""
            },
            "type": "choropleth"
           }
          ],
          "contour": [
           {
            "colorbar": {
             "outlinewidth": 0,
             "ticks": ""
            },
            "colorscale": [
             [
              0,
              "#0d0887"
             ],
             [
              0.1111111111111111,
              "#46039f"
             ],
             [
              0.2222222222222222,
              "#7201a8"
             ],
             [
              0.3333333333333333,
              "#9c179e"
             ],
             [
              0.4444444444444444,
              "#bd3786"
             ],
             [
              0.5555555555555556,
              "#d8576b"
             ],
             [
              0.6666666666666666,
              "#ed7953"
             ],
             [
              0.7777777777777778,
              "#fb9f3a"
             ],
             [
              0.8888888888888888,
              "#fdca26"
             ],
             [
              1,
              "#f0f921"
             ]
            ],
            "type": "contour"
           }
          ],
          "contourcarpet": [
           {
            "colorbar": {
             "outlinewidth": 0,
             "ticks": ""
            },
            "type": "contourcarpet"
           }
          ],
          "heatmap": [
           {
            "colorbar": {
             "outlinewidth": 0,
             "ticks": ""
            },
            "colorscale": [
             [
              0,
              "#0d0887"
             ],
             [
              0.1111111111111111,
              "#46039f"
             ],
             [
              0.2222222222222222,
              "#7201a8"
             ],
             [
              0.3333333333333333,
              "#9c179e"
             ],
             [
              0.4444444444444444,
              "#bd3786"
             ],
             [
              0.5555555555555556,
              "#d8576b"
             ],
             [
              0.6666666666666666,
              "#ed7953"
             ],
             [
              0.7777777777777778,
              "#fb9f3a"
             ],
             [
              0.8888888888888888,
              "#fdca26"
             ],
             [
              1,
              "#f0f921"
             ]
            ],
            "type": "heatmap"
           }
          ],
          "heatmapgl": [
           {
            "colorbar": {
             "outlinewidth": 0,
             "ticks": ""
            },
            "colorscale": [
             [
              0,
              "#0d0887"
             ],
             [
              0.1111111111111111,
              "#46039f"
             ],
             [
              0.2222222222222222,
              "#7201a8"
             ],
             [
              0.3333333333333333,
              "#9c179e"
             ],
             [
              0.4444444444444444,
              "#bd3786"
             ],
             [
              0.5555555555555556,
              "#d8576b"
             ],
             [
              0.6666666666666666,
              "#ed7953"
             ],
             [
              0.7777777777777778,
              "#fb9f3a"
             ],
             [
              0.8888888888888888,
              "#fdca26"
             ],
             [
              1,
              "#f0f921"
             ]
            ],
            "type": "heatmapgl"
           }
          ],
          "histogram": [
           {
            "marker": {
             "pattern": {
              "fillmode": "overlay",
              "size": 10,
              "solidity": 0.2
             }
            },
            "type": "histogram"
           }
          ],
          "histogram2d": [
           {
            "colorbar": {
             "outlinewidth": 0,
             "ticks": ""
            },
            "colorscale": [
             [
              0,
              "#0d0887"
             ],
             [
              0.1111111111111111,
              "#46039f"
             ],
             [
              0.2222222222222222,
              "#7201a8"
             ],
             [
              0.3333333333333333,
              "#9c179e"
             ],
             [
              0.4444444444444444,
              "#bd3786"
             ],
             [
              0.5555555555555556,
              "#d8576b"
             ],
             [
              0.6666666666666666,
              "#ed7953"
             ],
             [
              0.7777777777777778,
              "#fb9f3a"
             ],
             [
              0.8888888888888888,
              "#fdca26"
             ],
             [
              1,
              "#f0f921"
             ]
            ],
            "type": "histogram2d"
           }
          ],
          "histogram2dcontour": [
           {
            "colorbar": {
             "outlinewidth": 0,
             "ticks": ""
            },
            "colorscale": [
             [
              0,
              "#0d0887"
             ],
             [
              0.1111111111111111,
              "#46039f"
             ],
             [
              0.2222222222222222,
              "#7201a8"
             ],
             [
              0.3333333333333333,
              "#9c179e"
             ],
             [
              0.4444444444444444,
              "#bd3786"
             ],
             [
              0.5555555555555556,
              "#d8576b"
             ],
             [
              0.6666666666666666,
              "#ed7953"
             ],
             [
              0.7777777777777778,
              "#fb9f3a"
             ],
             [
              0.8888888888888888,
              "#fdca26"
             ],
             [
              1,
              "#f0f921"
             ]
            ],
            "type": "histogram2dcontour"
           }
          ],
          "mesh3d": [
           {
            "colorbar": {
             "outlinewidth": 0,
             "ticks": ""
            },
            "type": "mesh3d"
           }
          ],
          "parcoords": [
           {
            "line": {
             "colorbar": {
              "outlinewidth": 0,
              "ticks": ""
             }
            },
            "type": "parcoords"
           }
          ],
          "pie": [
           {
            "automargin": true,
            "type": "pie"
           }
          ],
          "scatter": [
           {
            "fillpattern": {
             "fillmode": "overlay",
             "size": 10,
             "solidity": 0.2
            },
            "type": "scatter"
           }
          ],
          "scatter3d": [
           {
            "line": {
             "colorbar": {
              "outlinewidth": 0,
              "ticks": ""
             }
            },
            "marker": {
             "colorbar": {
              "outlinewidth": 0,
              "ticks": ""
             }
            },
            "type": "scatter3d"
           }
          ],
          "scattercarpet": [
           {
            "marker": {
             "colorbar": {
              "outlinewidth": 0,
              "ticks": ""
             }
            },
            "type": "scattercarpet"
           }
          ],
          "scattergeo": [
           {
            "marker": {
             "colorbar": {
              "outlinewidth": 0,
              "ticks": ""
             }
            },
            "type": "scattergeo"
           }
          ],
          "scattergl": [
           {
            "marker": {
             "colorbar": {
              "outlinewidth": 0,
              "ticks": ""
             }
            },
            "type": "scattergl"
           }
          ],
          "scattermapbox": [
           {
            "marker": {
             "colorbar": {
              "outlinewidth": 0,
              "ticks": ""
             }
            },
            "type": "scattermapbox"
           }
          ],
          "scatterpolar": [
           {
            "marker": {
             "colorbar": {
              "outlinewidth": 0,
              "ticks": ""
             }
            },
            "type": "scatterpolar"
           }
          ],
          "scatterpolargl": [
           {
            "marker": {
             "colorbar": {
              "outlinewidth": 0,
              "ticks": ""
             }
            },
            "type": "scatterpolargl"
           }
          ],
          "scatterternary": [
           {
            "marker": {
             "colorbar": {
              "outlinewidth": 0,
              "ticks": ""
             }
            },
            "type": "scatterternary"
           }
          ],
          "surface": [
           {
            "colorbar": {
             "outlinewidth": 0,
             "ticks": ""
            },
            "colorscale": [
             [
              0,
              "#0d0887"
             ],
             [
              0.1111111111111111,
              "#46039f"
             ],
             [
              0.2222222222222222,
              "#7201a8"
             ],
             [
              0.3333333333333333,
              "#9c179e"
             ],
             [
              0.4444444444444444,
              "#bd3786"
             ],
             [
              0.5555555555555556,
              "#d8576b"
             ],
             [
              0.6666666666666666,
              "#ed7953"
             ],
             [
              0.7777777777777778,
              "#fb9f3a"
             ],
             [
              0.8888888888888888,
              "#fdca26"
             ],
             [
              1,
              "#f0f921"
             ]
            ],
            "type": "surface"
           }
          ],
          "table": [
           {
            "cells": {
             "fill": {
              "color": "#EBF0F8"
             },
             "line": {
              "color": "white"
             }
            },
            "header": {
             "fill": {
              "color": "#C8D4E3"
             },
             "line": {
              "color": "white"
             }
            },
            "type": "table"
           }
          ]
         },
         "layout": {
          "annotationdefaults": {
           "arrowcolor": "#2a3f5f",
           "arrowhead": 0,
           "arrowwidth": 1
          },
          "autotypenumbers": "strict",
          "coloraxis": {
           "colorbar": {
            "outlinewidth": 0,
            "ticks": ""
           }
          },
          "colorscale": {
           "diverging": [
            [
             0,
             "#8e0152"
            ],
            [
             0.1,
             "#c51b7d"
            ],
            [
             0.2,
             "#de77ae"
            ],
            [
             0.3,
             "#f1b6da"
            ],
            [
             0.4,
             "#fde0ef"
            ],
            [
             0.5,
             "#f7f7f7"
            ],
            [
             0.6,
             "#e6f5d0"
            ],
            [
             0.7,
             "#b8e186"
            ],
            [
             0.8,
             "#7fbc41"
            ],
            [
             0.9,
             "#4d9221"
            ],
            [
             1,
             "#276419"
            ]
           ],
           "sequential": [
            [
             0,
             "#0d0887"
            ],
            [
             0.1111111111111111,
             "#46039f"
            ],
            [
             0.2222222222222222,
             "#7201a8"
            ],
            [
             0.3333333333333333,
             "#9c179e"
            ],
            [
             0.4444444444444444,
             "#bd3786"
            ],
            [
             0.5555555555555556,
             "#d8576b"
            ],
            [
             0.6666666666666666,
             "#ed7953"
            ],
            [
             0.7777777777777778,
             "#fb9f3a"
            ],
            [
             0.8888888888888888,
             "#fdca26"
            ],
            [
             1,
             "#f0f921"
            ]
           ],
           "sequentialminus": [
            [
             0,
             "#0d0887"
            ],
            [
             0.1111111111111111,
             "#46039f"
            ],
            [
             0.2222222222222222,
             "#7201a8"
            ],
            [
             0.3333333333333333,
             "#9c179e"
            ],
            [
             0.4444444444444444,
             "#bd3786"
            ],
            [
             0.5555555555555556,
             "#d8576b"
            ],
            [
             0.6666666666666666,
             "#ed7953"
            ],
            [
             0.7777777777777778,
             "#fb9f3a"
            ],
            [
             0.8888888888888888,
             "#fdca26"
            ],
            [
             1,
             "#f0f921"
            ]
           ]
          },
          "colorway": [
           "#636efa",
           "#EF553B",
           "#00cc96",
           "#ab63fa",
           "#FFA15A",
           "#19d3f3",
           "#FF6692",
           "#B6E880",
           "#FF97FF",
           "#FECB52"
          ],
          "font": {
           "color": "#2a3f5f"
          },
          "geo": {
           "bgcolor": "white",
           "lakecolor": "white",
           "landcolor": "#E5ECF6",
           "showlakes": true,
           "showland": true,
           "subunitcolor": "white"
          },
          "hoverlabel": {
           "align": "left"
          },
          "hovermode": "closest",
          "mapbox": {
           "style": "light"
          },
          "paper_bgcolor": "white",
          "plot_bgcolor": "#E5ECF6",
          "polar": {
           "angularaxis": {
            "gridcolor": "white",
            "linecolor": "white",
            "ticks": ""
           },
           "bgcolor": "#E5ECF6",
           "radialaxis": {
            "gridcolor": "white",
            "linecolor": "white",
            "ticks": ""
           }
          },
          "scene": {
           "xaxis": {
            "backgroundcolor": "#E5ECF6",
            "gridcolor": "white",
            "gridwidth": 2,
            "linecolor": "white",
            "showbackground": true,
            "ticks": "",
            "zerolinecolor": "white"
           },
           "yaxis": {
            "backgroundcolor": "#E5ECF6",
            "gridcolor": "white",
            "gridwidth": 2,
            "linecolor": "white",
            "showbackground": true,
            "ticks": "",
            "zerolinecolor": "white"
           },
           "zaxis": {
            "backgroundcolor": "#E5ECF6",
            "gridcolor": "white",
            "gridwidth": 2,
            "linecolor": "white",
            "showbackground": true,
            "ticks": "",
            "zerolinecolor": "white"
           }
          },
          "shapedefaults": {
           "line": {
            "color": "#2a3f5f"
           }
          },
          "ternary": {
           "aaxis": {
            "gridcolor": "white",
            "linecolor": "white",
            "ticks": ""
           },
           "baxis": {
            "gridcolor": "white",
            "linecolor": "white",
            "ticks": ""
           },
           "bgcolor": "#E5ECF6",
           "caxis": {
            "gridcolor": "white",
            "linecolor": "white",
            "ticks": ""
           }
          },
          "title": {
           "x": 0.05
          },
          "xaxis": {
           "automargin": true,
           "gridcolor": "white",
           "linecolor": "white",
           "ticks": "",
           "title": {
            "standoff": 15
           },
           "zerolinecolor": "white",
           "zerolinewidth": 2
          },
          "yaxis": {
           "automargin": true,
           "gridcolor": "white",
           "linecolor": "white",
           "ticks": "",
           "title": {
            "standoff": 15
           },
           "zerolinecolor": "white",
           "zerolinewidth": 2
          }
         }
        },
        "title": {
         "text": "Modelled vs Data",
         "x": 0.5
        },
        "xaxis": {
         "title": {
          "text": "Year"
         }
        },
        "yaxis": {
         "title": {
          "text": "Population"
         }
        }
       }
      }
     },
     "metadata": {},
     "output_type": "display_data"
    }
   ],
   "source": [
    "notif_1 = px.line(\n",
    "    derived_df_0,\n",
    "    x=derived_df_0.index,\n",
    "    y=\"notifications\",\n",
    ")\n",
    "notif_2 = px.scatter(x= plots['notifications']['times'], y = plots['notifications']['values'])\n",
    "notif_2.update_traces(marker=dict(color=\"red\"))\n",
    "notif_plot = go.Figure(\n",
    "    data=notif_1.data + notif_2.data,\n",
    ")\n",
    "notif_plot.update_layout(\n",
    "    title=\"Modelled vs Data\", title_x=0.5, xaxis_title=\"Year\", yaxis_title=\"Notifications\"\n",
    ")\n",
    "notif_plot.show()"
   ]
  },
  {
   "cell_type": "code",
   "execution_count": 17,
   "metadata": {},
   "outputs": [
    {
     "data": {
      "application/vnd.plotly.v1+json": {
       "config": {
        "plotlyServerURL": "https://plot.ly"
       },
       "data": [
        {
         "hovertemplate": "index=%{x}<br>incidence=%{y}<extra></extra>",
         "legendgroup": "",
         "line": {
          "color": "#636efa",
          "dash": "solid"
         },
         "marker": {
          "symbol": "circle"
         },
         "mode": "lines",
         "name": "",
         "showlegend": false,
         "type": "scattergl",
         "x": [
          1900,
          1900.1,
          1900.2,
          1900.3,
          1900.4,
          1900.5,
          1900.6,
          1900.7,
          1900.8,
          1900.9,
          1901,
          1901.1,
          1901.2,
          1901.3,
          1901.4,
          1901.5,
          1901.6,
          1901.7,
          1901.8,
          1901.9,
          1902,
          1902.1,
          1902.2,
          1902.3,
          1902.4,
          1902.5,
          1902.6,
          1902.7,
          1902.8,
          1902.9,
          1903,
          1903.1,
          1903.2,
          1903.3,
          1903.4,
          1903.5,
          1903.6,
          1903.7,
          1903.8,
          1903.9,
          1904,
          1904.1,
          1904.2,
          1904.3,
          1904.4,
          1904.5,
          1904.6,
          1904.7,
          1904.8,
          1904.9,
          1905,
          1905.1,
          1905.2,
          1905.3,
          1905.4,
          1905.5,
          1905.6,
          1905.7,
          1905.8,
          1905.9,
          1906,
          1906.1,
          1906.2,
          1906.3,
          1906.4,
          1906.5,
          1906.6,
          1906.7,
          1906.8,
          1906.9,
          1907,
          1907.1,
          1907.2,
          1907.3,
          1907.4,
          1907.5,
          1907.6,
          1907.7,
          1907.8,
          1907.9,
          1908,
          1908.1,
          1908.2,
          1908.3,
          1908.4,
          1908.5,
          1908.6,
          1908.7,
          1908.8,
          1908.9,
          1909,
          1909.1,
          1909.2,
          1909.3,
          1909.4,
          1909.5,
          1909.6,
          1909.7,
          1909.8,
          1909.9,
          1910,
          1910.1,
          1910.2,
          1910.3,
          1910.4,
          1910.5,
          1910.6,
          1910.7,
          1910.8,
          1910.9,
          1911,
          1911.1,
          1911.2,
          1911.3,
          1911.4,
          1911.5,
          1911.6,
          1911.7,
          1911.8,
          1911.9,
          1912,
          1912.1,
          1912.2,
          1912.3,
          1912.4,
          1912.5,
          1912.6,
          1912.7,
          1912.8,
          1912.9,
          1913,
          1913.1,
          1913.2,
          1913.3,
          1913.4,
          1913.5,
          1913.6,
          1913.7,
          1913.8,
          1913.9,
          1914,
          1914.1,
          1914.2,
          1914.3,
          1914.4,
          1914.5,
          1914.6,
          1914.7,
          1914.8,
          1914.9,
          1915,
          1915.1,
          1915.2,
          1915.3,
          1915.4,
          1915.5,
          1915.6,
          1915.7,
          1915.8,
          1915.9,
          1916,
          1916.1,
          1916.2,
          1916.3,
          1916.4,
          1916.5,
          1916.6,
          1916.7,
          1916.8,
          1916.9,
          1917,
          1917.1,
          1917.2,
          1917.3,
          1917.4,
          1917.5,
          1917.6,
          1917.7,
          1917.8,
          1917.9,
          1918,
          1918.1,
          1918.2,
          1918.3,
          1918.4,
          1918.5,
          1918.6,
          1918.7,
          1918.8,
          1918.9,
          1919,
          1919.1,
          1919.2,
          1919.3,
          1919.4,
          1919.5,
          1919.6,
          1919.7,
          1919.8,
          1919.9,
          1920,
          1920.1,
          1920.2,
          1920.3,
          1920.4,
          1920.5,
          1920.6,
          1920.7,
          1920.8,
          1920.9,
          1921,
          1921.1,
          1921.2,
          1921.3,
          1921.4,
          1921.5,
          1921.6,
          1921.7,
          1921.8,
          1921.9,
          1922,
          1922.1,
          1922.2,
          1922.3,
          1922.4,
          1922.5,
          1922.6,
          1922.7,
          1922.8,
          1922.9,
          1923,
          1923.1,
          1923.2,
          1923.3,
          1923.4,
          1923.5,
          1923.6,
          1923.7,
          1923.8,
          1923.9,
          1924,
          1924.1,
          1924.2,
          1924.3,
          1924.4,
          1924.5,
          1924.6,
          1924.7,
          1924.8,
          1924.9,
          1925,
          1925.1,
          1925.2,
          1925.3,
          1925.4,
          1925.5,
          1925.6,
          1925.7,
          1925.8,
          1925.9,
          1926,
          1926.1,
          1926.2,
          1926.3,
          1926.4,
          1926.5,
          1926.6,
          1926.7,
          1926.8,
          1926.9,
          1927,
          1927.1,
          1927.2,
          1927.3,
          1927.4,
          1927.5,
          1927.6,
          1927.7,
          1927.8,
          1927.9,
          1928,
          1928.1,
          1928.2,
          1928.3,
          1928.4,
          1928.5,
          1928.6,
          1928.7,
          1928.8,
          1928.9,
          1929,
          1929.1,
          1929.2,
          1929.3,
          1929.4,
          1929.5,
          1929.6,
          1929.7,
          1929.8,
          1929.9,
          1930,
          1930.1,
          1930.2,
          1930.3,
          1930.4,
          1930.5,
          1930.6,
          1930.7,
          1930.8,
          1930.9,
          1931,
          1931.1,
          1931.2,
          1931.3,
          1931.4,
          1931.5,
          1931.6,
          1931.7,
          1931.8,
          1931.9,
          1932,
          1932.1,
          1932.2,
          1932.3,
          1932.4,
          1932.5,
          1932.6,
          1932.7,
          1932.8,
          1932.9,
          1933,
          1933.1,
          1933.2,
          1933.3,
          1933.4,
          1933.5,
          1933.6,
          1933.7,
          1933.8,
          1933.9,
          1934,
          1934.1,
          1934.2,
          1934.3,
          1934.4,
          1934.5,
          1934.6,
          1934.7,
          1934.8,
          1934.9,
          1935,
          1935.1,
          1935.2,
          1935.3,
          1935.4,
          1935.5,
          1935.6,
          1935.7,
          1935.8,
          1935.9,
          1936,
          1936.1,
          1936.2,
          1936.3,
          1936.4,
          1936.5,
          1936.6,
          1936.7,
          1936.8,
          1936.9,
          1937,
          1937.1,
          1937.2,
          1937.3,
          1937.4,
          1937.5,
          1937.6,
          1937.7,
          1937.8,
          1937.9,
          1938,
          1938.1,
          1938.2,
          1938.3,
          1938.4,
          1938.5,
          1938.6,
          1938.7,
          1938.8,
          1938.9,
          1939,
          1939.1,
          1939.2,
          1939.3,
          1939.4,
          1939.5,
          1939.6,
          1939.7,
          1939.8,
          1939.9,
          1940,
          1940.1,
          1940.2,
          1940.3,
          1940.4,
          1940.5,
          1940.6,
          1940.7,
          1940.8,
          1940.9,
          1941,
          1941.1,
          1941.2,
          1941.3,
          1941.4,
          1941.5,
          1941.6,
          1941.7,
          1941.8,
          1941.9,
          1942,
          1942.1,
          1942.2,
          1942.3,
          1942.4,
          1942.5,
          1942.6,
          1942.7,
          1942.8,
          1942.9,
          1943,
          1943.1,
          1943.2,
          1943.3,
          1943.4,
          1943.5,
          1943.6,
          1943.7,
          1943.8,
          1943.9,
          1944,
          1944.1,
          1944.2,
          1944.3,
          1944.4,
          1944.5,
          1944.6,
          1944.7,
          1944.8,
          1944.9,
          1945,
          1945.1,
          1945.2,
          1945.3,
          1945.4,
          1945.5,
          1945.6,
          1945.7,
          1945.8,
          1945.9,
          1946,
          1946.1,
          1946.2,
          1946.3,
          1946.4,
          1946.5,
          1946.6,
          1946.7,
          1946.8,
          1946.9,
          1947,
          1947.1,
          1947.2,
          1947.3,
          1947.4,
          1947.5,
          1947.6,
          1947.7,
          1947.8,
          1947.9,
          1948,
          1948.1,
          1948.2,
          1948.3,
          1948.4,
          1948.5,
          1948.6,
          1948.7,
          1948.8,
          1948.9,
          1949,
          1949.1,
          1949.2,
          1949.3,
          1949.4,
          1949.5,
          1949.6,
          1949.7,
          1949.8,
          1949.9,
          1950,
          1950.1,
          1950.2,
          1950.3,
          1950.4,
          1950.5,
          1950.6,
          1950.7,
          1950.8,
          1950.9,
          1951,
          1951.1,
          1951.2,
          1951.3,
          1951.4,
          1951.5,
          1951.6,
          1951.7,
          1951.8,
          1951.9,
          1952,
          1952.1,
          1952.2,
          1952.3,
          1952.4,
          1952.5,
          1952.6,
          1952.7,
          1952.8,
          1952.9,
          1953,
          1953.1,
          1953.2,
          1953.3,
          1953.4,
          1953.5,
          1953.6,
          1953.7,
          1953.8,
          1953.9,
          1954,
          1954.1,
          1954.2,
          1954.3,
          1954.4,
          1954.5,
          1954.6,
          1954.7,
          1954.8,
          1954.9,
          1955,
          1955.1,
          1955.2,
          1955.3,
          1955.4,
          1955.5,
          1955.6,
          1955.7,
          1955.8,
          1955.9,
          1956,
          1956.1,
          1956.2,
          1956.3,
          1956.4,
          1956.5,
          1956.6,
          1956.7,
          1956.8,
          1956.9,
          1957,
          1957.1,
          1957.2,
          1957.3,
          1957.4,
          1957.5,
          1957.6,
          1957.7,
          1957.8,
          1957.9,
          1958,
          1958.1,
          1958.2,
          1958.3,
          1958.4,
          1958.5,
          1958.6,
          1958.7,
          1958.8,
          1958.9,
          1959,
          1959.1,
          1959.2,
          1959.3,
          1959.4,
          1959.5,
          1959.6,
          1959.7,
          1959.8,
          1959.9,
          1960,
          1960.1,
          1960.2,
          1960.3,
          1960.4,
          1960.5,
          1960.6,
          1960.7,
          1960.8,
          1960.9,
          1961,
          1961.1,
          1961.2,
          1961.3,
          1961.4,
          1961.5,
          1961.6,
          1961.7,
          1961.8,
          1961.9,
          1962,
          1962.1,
          1962.2,
          1962.3,
          1962.4,
          1962.5,
          1962.6,
          1962.7,
          1962.8,
          1962.9,
          1963,
          1963.1,
          1963.2,
          1963.3,
          1963.4,
          1963.5,
          1963.6,
          1963.7,
          1963.8,
          1963.9,
          1964,
          1964.1,
          1964.2,
          1964.3,
          1964.4,
          1964.5,
          1964.6,
          1964.7,
          1964.8,
          1964.9,
          1965,
          1965.1,
          1965.2,
          1965.3,
          1965.4,
          1965.5,
          1965.6,
          1965.7,
          1965.8,
          1965.9,
          1966,
          1966.1,
          1966.2,
          1966.3,
          1966.4,
          1966.5,
          1966.6,
          1966.7,
          1966.8,
          1966.9,
          1967,
          1967.1,
          1967.2,
          1967.3,
          1967.4,
          1967.5,
          1967.6,
          1967.7,
          1967.8,
          1967.9,
          1968,
          1968.1,
          1968.2,
          1968.3,
          1968.4,
          1968.5,
          1968.6,
          1968.7,
          1968.8,
          1968.9,
          1969,
          1969.1,
          1969.2,
          1969.3,
          1969.4,
          1969.5,
          1969.6,
          1969.7,
          1969.8,
          1969.9,
          1970,
          1970.1,
          1970.2,
          1970.3,
          1970.4,
          1970.5,
          1970.6,
          1970.7,
          1970.8,
          1970.9,
          1971,
          1971.1,
          1971.2,
          1971.3,
          1971.4,
          1971.5,
          1971.6,
          1971.7,
          1971.8,
          1971.9,
          1972,
          1972.1,
          1972.2,
          1972.3,
          1972.4,
          1972.5,
          1972.6,
          1972.7,
          1972.8,
          1972.9,
          1973,
          1973.1,
          1973.2,
          1973.3,
          1973.4,
          1973.5,
          1973.6,
          1973.7,
          1973.8,
          1973.9,
          1974,
          1974.1,
          1974.2,
          1974.3,
          1974.4,
          1974.5,
          1974.6,
          1974.7,
          1974.8,
          1974.9,
          1975,
          1975.1,
          1975.2,
          1975.3,
          1975.4,
          1975.5,
          1975.6,
          1975.7,
          1975.8,
          1975.9,
          1976,
          1976.1,
          1976.2,
          1976.3,
          1976.4,
          1976.5,
          1976.6,
          1976.7,
          1976.8,
          1976.9,
          1977,
          1977.1,
          1977.2,
          1977.3,
          1977.4,
          1977.5,
          1977.6,
          1977.7,
          1977.8,
          1977.9,
          1978,
          1978.1,
          1978.2,
          1978.3,
          1978.4,
          1978.5,
          1978.6,
          1978.7,
          1978.8,
          1978.9,
          1979,
          1979.1,
          1979.2,
          1979.3,
          1979.4,
          1979.5,
          1979.6,
          1979.7,
          1979.8,
          1979.9,
          1980,
          1980.1,
          1980.2,
          1980.3,
          1980.4,
          1980.5,
          1980.6,
          1980.7,
          1980.8,
          1980.9,
          1981,
          1981.1,
          1981.2,
          1981.3,
          1981.4,
          1981.5,
          1981.6,
          1981.7,
          1981.8,
          1981.9,
          1982,
          1982.1,
          1982.2,
          1982.3,
          1982.4,
          1982.5,
          1982.6,
          1982.7,
          1982.8,
          1982.9,
          1983,
          1983.1,
          1983.2,
          1983.3,
          1983.4,
          1983.5,
          1983.6,
          1983.7,
          1983.8,
          1983.9,
          1984,
          1984.1,
          1984.2,
          1984.3,
          1984.4,
          1984.5,
          1984.6,
          1984.7,
          1984.8,
          1984.9,
          1985,
          1985.1,
          1985.2,
          1985.3,
          1985.4,
          1985.5,
          1985.6,
          1985.7,
          1985.8,
          1985.9,
          1986,
          1986.1,
          1986.2,
          1986.3,
          1986.4,
          1986.5,
          1986.6,
          1986.7,
          1986.8,
          1986.9,
          1987,
          1987.1,
          1987.2,
          1987.3,
          1987.4,
          1987.5,
          1987.6,
          1987.7,
          1987.8,
          1987.9,
          1988,
          1988.1,
          1988.2,
          1988.3,
          1988.4,
          1988.5,
          1988.6,
          1988.7,
          1988.8,
          1988.9,
          1989,
          1989.1,
          1989.2,
          1989.3,
          1989.4,
          1989.5,
          1989.6,
          1989.7,
          1989.8,
          1989.9,
          1990,
          1990.1,
          1990.2,
          1990.3,
          1990.4,
          1990.5,
          1990.6,
          1990.7,
          1990.8,
          1990.9,
          1991,
          1991.1,
          1991.2,
          1991.3,
          1991.4,
          1991.5,
          1991.6,
          1991.7,
          1991.8,
          1991.9,
          1992,
          1992.1,
          1992.2,
          1992.3,
          1992.4,
          1992.5,
          1992.6,
          1992.7,
          1992.8,
          1992.9,
          1993,
          1993.1,
          1993.2,
          1993.3,
          1993.4,
          1993.5,
          1993.6,
          1993.7,
          1993.8,
          1993.9,
          1994,
          1994.1,
          1994.2,
          1994.3,
          1994.4,
          1994.5,
          1994.6,
          1994.7,
          1994.8,
          1994.9,
          1995,
          1995.1,
          1995.2,
          1995.3,
          1995.4,
          1995.5,
          1995.6,
          1995.7,
          1995.8,
          1995.9,
          1996,
          1996.1,
          1996.2,
          1996.3,
          1996.4,
          1996.5,
          1996.6,
          1996.7,
          1996.8,
          1996.9,
          1997,
          1997.1,
          1997.2,
          1997.3,
          1997.4,
          1997.5,
          1997.6,
          1997.7,
          1997.8,
          1997.9,
          1998,
          1998.1,
          1998.2,
          1998.3,
          1998.4,
          1998.5,
          1998.6,
          1998.7,
          1998.8,
          1998.9,
          1999,
          1999.1,
          1999.2,
          1999.3,
          1999.4,
          1999.5,
          1999.6,
          1999.7,
          1999.8,
          1999.9,
          2000,
          2000.1,
          2000.2,
          2000.3,
          2000.4,
          2000.5,
          2000.6,
          2000.7,
          2000.8,
          2000.9,
          2001,
          2001.1,
          2001.2,
          2001.3,
          2001.4,
          2001.5,
          2001.6,
          2001.7,
          2001.8,
          2001.9,
          2002,
          2002.1,
          2002.2,
          2002.3,
          2002.4,
          2002.5,
          2002.6,
          2002.7,
          2002.8,
          2002.9,
          2003,
          2003.1,
          2003.2,
          2003.3,
          2003.4,
          2003.5,
          2003.6,
          2003.7,
          2003.8,
          2003.9,
          2004,
          2004.1,
          2004.2,
          2004.3,
          2004.4,
          2004.5,
          2004.6,
          2004.7,
          2004.8,
          2004.9,
          2005,
          2005.1,
          2005.2,
          2005.3,
          2005.4,
          2005.5,
          2005.6,
          2005.7,
          2005.8,
          2005.9,
          2006,
          2006.1,
          2006.2,
          2006.3,
          2006.4,
          2006.5,
          2006.6,
          2006.7,
          2006.8,
          2006.9,
          2007,
          2007.1,
          2007.2,
          2007.3,
          2007.4,
          2007.5,
          2007.6,
          2007.7,
          2007.8,
          2007.9,
          2008,
          2008.1,
          2008.2,
          2008.3,
          2008.4,
          2008.5,
          2008.6,
          2008.7,
          2008.8,
          2008.9,
          2009,
          2009.1,
          2009.2,
          2009.3,
          2009.4,
          2009.5,
          2009.6,
          2009.7,
          2009.8,
          2009.9,
          2010,
          2010.1,
          2010.2,
          2010.3,
          2010.4,
          2010.5,
          2010.6,
          2010.7,
          2010.8,
          2010.9,
          2011,
          2011.1,
          2011.2,
          2011.3,
          2011.4,
          2011.5,
          2011.6,
          2011.7,
          2011.8,
          2011.9,
          2012,
          2012.1,
          2012.2,
          2012.3,
          2012.4,
          2012.5,
          2012.6,
          2012.7,
          2012.8,
          2012.9,
          2013,
          2013.1,
          2013.2,
          2013.3,
          2013.4,
          2013.5,
          2013.6,
          2013.7,
          2013.8,
          2013.9,
          2014,
          2014.1,
          2014.2,
          2014.3,
          2014.4,
          2014.5,
          2014.6,
          2014.7,
          2014.8,
          2014.9,
          2015,
          2015.1,
          2015.2,
          2015.3,
          2015.4,
          2015.5,
          2015.6,
          2015.7,
          2015.8,
          2015.9,
          2016,
          2016.1,
          2016.2,
          2016.3,
          2016.4,
          2016.5,
          2016.6,
          2016.7,
          2016.8,
          2016.9,
          2017,
          2017.1,
          2017.2,
          2017.3,
          2017.4,
          2017.5,
          2017.6,
          2017.7,
          2017.8,
          2017.9,
          2018,
          2018.1,
          2018.2,
          2018.3,
          2018.4,
          2018.5,
          2018.6,
          2018.7,
          2018.8,
          2018.9,
          2019,
          2019.1,
          2019.2,
          2019.3,
          2019.4,
          2019.5,
          2019.6,
          2019.7,
          2019.8,
          2019.9,
          2020
         ],
         "xaxis": "x",
         "y": [
          0,
          0.5475686162516162,
          1.3882679525748616,
          1.8519446368962624,
          2.13267944265903,
          2.3207683145235696,
          2.463569248479477,
          2.583539100944665,
          2.6940288482090913,
          2.8056665284503217,
          2.917545960837077,
          3.0305767125056984,
          3.1503090712779893,
          3.277031591470978,
          3.406689839099495,
          3.5387589130884325,
          3.6769373432365198,
          3.8279167555080202,
          3.989739931548027,
          4.1516307514185335,
          4.308258269865134,
          4.463781410390375,
          4.631836969453778,
          4.823502805737644,
          5.02738436093291,
          5.228163748874161,
          5.4307588965671,
          5.648499969633023,
          5.879690764358403,
          6.114224969074719,
          6.352946533619312,
          6.605125282923584,
          6.87418616584356,
          7.151652428248016,
          7.4315541135117416,
          7.717984660119386,
          8.02422825183871,
          8.355758585292984,
          8.697620891275276,
          9.0354778395228,
          9.37378764934817,
          9.73571243004946,
          10.132886995547603,
          10.546182998557885,
          10.96083988255102,
          11.387945012237973,
          11.842648923605491,
          12.319011564775414,
          12.805788561250747,
          13.306730449340604,
          13.834234548901769,
          14.38939561426413,
          14.961143684580392,
          15.54583646693305,
          16.151735224728935,
          16.79454638380915,
          17.473125157992023,
          18.16844753505907,
          18.87228626103781,
          19.59695431914791,
          20.369267828838645,
          21.18966395799811,
          22.032909529042676,
          22.892770349989345,
          23.78874884232452,
          24.73470869918008,
          25.718116335584728,
          26.727960907408757,
          27.772461606895245,
          28.869376117719433,
          30.018058180478924,
          31.202780703292742,
          32.42062030992704,
          33.68569665365378,
          35.01940884057945,
          36.41671970224925,
          37.85276492891258,
          39.321674952891534,
          40.844700804769445,
          42.455205190852695,
          44.146236727025304,
          45.88565457536358,
          47.67231128324551,
          49.536637632179904,
          51.49542231644691,
          53.52862858198227,
          55.622379629259015,
          57.79082784956745,
          60.06228110238938,
          62.43621389326639,
          64.88872481591673,
          67.41597695330903,
          70.04077091874065,
          72.79674990691596,
          75.67698726952345,
          78.64543230827887,
          81.69526282990896,
          84.85993555718963,
          88.18929434709858,
          91.67289951928055,
          95.26383702327988,
          98.96122741660938,
          102.81312637588704,
          106.85133299828512,
          111.04633220598801,
          115.37142750560308,
          119.84682027318604,
          124.52418259419483,
          129.4125721389482,
          134.47144690509447,
          139.6870322994062,
          145.09345793283677,
          150.75443197079505,
          156.67199750820245,
          162.7854472144532,
          169.0739641107935,
          175.58649531684873,
          182.42141026938287,
          189.58770638073628,
          196.98480729430682,
          204.56465634191886,
          212.3949444490911,
          220.6213646686974,
          229.2491258340645,
          238.15707851292626,
          247.32567770130618,
          256.8575267341982,
          266.82242694114996,
          277.1653311446151,
          287.8441662029627,
          298.9071668744488,
          310.44352805720683,
          322.45486079300196,
          334.87533493612955,
          347.69994222707635,
          361.0029678989777,
          374.90523041604513,
          389.4018176918563,
          404.3625157029814,
          419.73872756824574,
          435.62982865340973,
          452.2539832234171,
          469.6540987672349,
          487.6450829771192,
          506.15132471770227,
          525.3209049723804,
          545.338205590664,
          566.1447863867465,
          587.603201581716,
          609.7545817160695,
          632.7906459120529,
          656.8040990841857,
          681.6595199061674,
          707.2547884415341,
          733.6807855188207,
          761.2028467576918,
          789.9445814992092,
          819.6697698895362,
          850.1597492235942,
          881.5197650374967,
          914.1704176202697,
          948.3353054257454,
          983.6968888113133,
          1019.985982207709,
          1057.3937323007403,
          1096.3526021834255,
          1136.8527492975845,
          1178.55303027815,
          1221.433215495696,
          1265.8311566775708,
          1312.0379677235017,
          1359.8353848502013,
          1408.906762791705,
          1459.3384109514477,
          1511.6239553241005,
          1566.1186739387908,
          1622.411644182338,
          1679.959393695456,
          1738.8637311936225,
          1799.8991490477988,
          1863.5789448819778,
          1929.3130297523808,
          1996.474240075888,
          2065.347316117519,
          2136.781854199115,
          2210.8033603375766,
          2286.67128018066,
          2364.2333349672067,
          2444.1119172812337,
          2526.927445485302,
          2612.223114618945,
          2699.237495891617,
          2788.065874647479,
          2879.687303280152,
          2974.749568447323,
          3072.327957662231,
          3171.3162731448338,
          3271.9544921252614,
          3375.7855649425283,
          3483.4600727658312,
          3593.576618497971,
          3705.09702803252,
          3818.752309229617,
          3936.0158162060097,
          4056.4996486428618,
          4178.68043172769,
          4302.450831785131,
          4429.178208102839,
          4559.637691951979,
          4692.458078620386,
          4826.315359894035,
          4961.739959852986,
          5100.758959366151,
          5243.6361309413005,
          5387.981787617669,
          5532.411642381951,
          5678.2066326267,
          5828.292949601665,
          5982.247749800937,
          6136.390793959167,
          6289.36569648088,
          6443.625351297521,
          6602.489123861087,
          6764.1930667971,
          6925.081841588194,
          7085.510392295722,
          7248.418697065198,
          7413.845473220596,
          7578.903629301624,
          7742.921021876072,
          7908.00895788855,
          8075.459836215393,
          8242.929376603945,
          8408.110517662413,
          8571.915202025364,
          8737.766182066773,
          8905.824538342249,
          9071.756746112655,
          9233.254706647485,
          9392.774216096932,
          9555.028872100385,
          9718.635210840492,
          9878.359876251145,
          10033.715467460659,
          10188.789506673398,
          10345.053541783736,
          10498.60813337843,
          10647.165009995253,
          10793.071294108724,
          10939.795684666391,
          11085.40498705388,
          11225.568092533835,
          11360.27476748025,
          11494.00018131505,
          11629.026781932029,
          11760.79551729859,
          11885.150338662246,
          12003.936277828578,
          12123.603149511197,
          12244.758227982005,
          12360.358020682479,
          12467.003478743141,
          12568.941040542937,
          12673.886922177657,
          12779.710974651925,
          12877.422477352036,
          12965.301011866564,
          13050.674179838863,
          13139.631332045905,
          13226.730579472813,
          13305.80403851877,
          13379.565187992419,
          13453.478034656902,
          13526.047756025822,
          13592.733938308638,
          13654.241743259212,
          13714.743612634464,
          13774.718834153155,
          13830.086473761532,
          13879.25651758952,
          13925.085160712484,
          13972.378477062943,
          14019.644946739649,
          14060.694452466234,
          14093.879681125016,
          14123.925177542444,
          14157.555150040082,
          14192.102637734117,
          14220.457342770836,
          14242.81415251985,
          14265.182925618541,
          14289.168830849158,
          14309.810867809883,
          14325.06268368127,
          14338.171927059459,
          14353.078049174243,
          14367.537323783918,
          14377.093203511822,
          14381.894035270252,
          14386.761880248114,
          14395.065760877746,
          14402.43453114883,
          14403.457965848384,
          14398.992014590629,
          14396.007853857498,
          14397.755130218871,
          14398.2430911973,
          14392.922743973335,
          14384.818578517554,
          14379.665889632752,
          14375.951466856939,
          14368.433622365263,
          14357.16826963815,
          14346.747104319196,
          14339.17880652473,
          14330.360383524403,
          14317.177526760173,
          14301.417409858821,
          14288.543092928528,
          14279.230786627166,
          14267.51757533879,
          14250.069303561024,
          14229.890319963775,
          14214.173630964855,
          14202.610118145625,
          14188.073213063526,
          14168.778611553482,
          14149.710598556792,
          14134.598928525806,
          14119.659764153746,
          14101.001634704697,
          14080.24357991162,
          14062.267983609643,
          14047.004526518625,
          14029.541260301603,
          14008.270859572114,
          13986.39737530156,
          13968.922326388014,
          13954.047802762065,
          13935.546658461562,
          13912.08860549465,
          13888.53843581334,
          13870.703473610807,
          13855.317979854928,
          13835.907192569774,
          13813.020897084847,
          13792.587558877338,
          13775.94870444909,
          13757.988463082844,
          13736.553017292783,
          13714.733932814863,
          13696.617232281253,
          13680.131982078166,
          13660.659827879308,
          13638.076498377995,
          13616.855801673242,
          13600.419107268901,
          13584.802960789228,
          13564.742435777904,
          13540.816249731666,
          13519.350954431044,
          13503.503441264631,
          13487.77285151315,
          13467.671736445423,
          13445.757582448201,
          13427.684928847848,
          13412.350888774632,
          13394.456075434895,
          13373.607884761237,
          13354.07207589394,
          13338.34287331972,
          13322.705043064358,
          13303.636027903785,
          13282.431163158712,
          13264.298156638199,
          13250.473519135105,
          13235.482406421212,
          13215.719198149816,
          13193.616492423427,
          13175.92988943896,
          13162.848282049066,
          13147.729485312964,
          13128.443194606993,
          13109.385423514128,
          13094.58711010389,
          13080.799910465797,
          13063.825216997566,
          13044.795458874425,
          13028.491795277863,
          13015.445501624,
          13000.954717718454,
          12982.967186958365,
          12964.186864883095,
          12949.649789780222,
          12938.209767319477,
          12923.884184987286,
          12905.00185141659,
          12885.79259232946,
          12872.00710633378,
          12861.011032478906,
          12846.502447364022,
          12828.605177607127,
          12812.83956759602,
          12801.021430538534,
          12788.420608023433,
          12772.474622373842,
          12755.784582896724,
          12742.683459462876,
          12731.692557130664,
          12718.084673821615,
          12701.327499661804,
          12685.459533100857,
          12674.210354040275,
          12664.251177004944,
          12650.312344301385,
          12632.577266311502,
          12616.863509744273,
          12607.454156227466,
          12599.092093043859,
          12584.931444963067,
          12565.812874233872,
          12549.98162037683,
          12540.786241907004,
          12531.32326371652,
          12517.353195214762,
          12502.721510655416,
          12491.600792615503,
          12481.429147437235,
          12468.77510975308,
          12454.907939825043,
          12443.294044219323,
          12433.55609767496,
          12422.19897411365,
          12408.363108750798,
          12394.532068239778,
          12384.531799425586,
          12376.884524982223,
          12366.197884571257,
          12350.808331613094,
          12334.361217960079,
          12323.293403702271,
          12316.171486741869,
          12306.23578396432,
          12292.740723794343,
          12280.645289857512,
          12271.864022617172,
          12262.461859277217,
          12250.415090406843,
          12238.020769280376,
          12228.490664992616,
          12220.293112254396,
          12209.770286545514,
          12196.679100001922,
          12184.447321818969,
          12176.564255690917,
          12170.142917670833,
          12159.758512655568,
          12144.910259929644,
          12130.770376954917,
          12122.513493684903,
          12116.371837446197,
          12106.427990566108,
          12093.868688270568,
          12083.965619754063,
          12076.771868231075,
          12067.840048474785,
          12056.481446900056,
          12045.898772047834,
          12038.234470752539,
          12030.743824143705,
          12020.519421768242,
          12008.365416214881,
          11998.434533171348,
          11992.564891449112,
          11986.345142917475,
          11975.570814804196,
          11961.415760652437,
          11950.157377959373,
          11944.294566455388,
          11938.228209879857,
          11928.123921764938,
          11916.94109628157,
          11909.117675586001,
          11902.840133437372,
          11894.125756936573,
          11883.48806254466,
          11874.667641713368,
          11868.511471613514,
          11861.424237310152,
          11851.423864299362,
          11840.31521647554,
          11832.52758599363,
          11828.09918820419,
          11821.724923720394,
          11810.658180259516,
          11797.616020883179,
          11789.080763899621,
          11784.860549156747,
          11778.526207475732,
          11768.426578392342,
          11758.925660323126,
          11752.90077736224,
          11747.022195635916,
          11738.424959649798,
          11728.72236540928,
          11721.6274637148,
          11716.5427203678,
          11709.568146951098,
          11699.791283896358,
          11690.043815447973,
          11684.286676067937,
          11680.677947796841,
          11673.840733623018,
          11662.626826407215,
          11651.265319680762,
          11645.220216977747,
          11641.801848696094,
          11635.013248099773,
          11625.223793959665,
          11617.511075315488,
          11612.902224228037,
          11607.12980070081,
          11598.660909611403,
          11590.18422337559,
          11584.691011613904,
          11580.193747982254,
          11573.16422208058,
          11563.723601842086,
          11555.63652466454,
          11551.655068342736,
          11548.270468242634,
          11540.852389096295,
          11529.79816011545,
          11520.658127769417,
          11516.737897639578,
          11513.364602338013,
          11506.163611336815,
          11497.215308296312,
          11491.406439453014,
          11487.866357663564,
          11482.20943195157,
          11474.250059528584,
          11467.58703839292,
          11464.10449557563,
          11460.603675835859,
          11454.31343845872,
          11446.559863899001,
          11442.041059346257,
          11441.910202290952,
          11441.131718904278,
          11436.295956056985,
          11429.814729463938,
          11428.367366153443,
          11432.206177628912,
          11434.912550026114,
          11434.464251209152,
          11434.896169492718,
          11439.265771894674,
          11444.445400045312,
          11447.30663056419,
          11449.01641571634,
          11453.038032952363,
          11459.147412437696,
          11463.691412346638,
          11465.442116473076,
          11466.581744448413,
          11471.213806329975,
          11478.55681414503,
          11483.186030439563,
          11482.850983157838,
          11480.678973113185,
          11483.243807928646,
          11489.925806059098,
          11494.08893403923,
          11494.378862994874,
          11495.377872908372,
          11499.55277766435,
          11503.386093011979,
          11504.453683134454,
          11504.630431447742,
          11507.314705578845,
          11511.506813436341,
          11513.512746483078,
          11512.736333943016,
          11512.154402723309,
          11515.573842747717,
          11520.876846976147,
          11522.587759389431,
          11519.593585211851,
          11516.255787611077,
          11518.438517311839,
          11523.50029164522,
          11525.048290034756,
          11523.313180683555,
          11523.466336303676,
          11526.641223699073,
          11528.622452801093,
          11527.897679741805,
          11527.011288635615,
          11528.777211048788,
          11531.339145852951,
          11531.389822457832,
          11528.913772045045,
          11527.203219272411,
          11529.459503155824,
          11532.713427797862,
          11531.593027634415,
          11525.601227949857,
          11519.88901561175,
          11520.124149544727,
          11522.763753214389,
          11521.513426501515,
          11517.44709816386,
          11515.786060412674,
          11516.62388113328,
          11515.724435078668,
          11512.55857224082,
          11510.202640896441,
          11510.482392797821,
          11510.7201838392,
          11508.34049522028,
          11504.189586563312,
          11502.207836006764,
          11504.199971151946,
          11505.881594858494,
          11502.951291854577,
          11496.325291008956,
          11492.111524093949,
          11493.61787283769,
          11495.611426982658,
          11493.537371190256,
          11489.846259578395,
          11489.268242758246,
          11490.515402118774,
          11489.502457642118,
          11486.461383434853,
          11484.881189391956,
          11485.911101061329,
          11486.287897887178,
          11483.84140664441,
          11479.959307479128,
          11478.868555440977,
          11481.383458591892,
          11482.630000010964,
          11479.154808868036,
          11472.705365555414,
          11469.593500110846,
          11471.420302275508,
          11472.248278390944,
          11468.76272225523,
          11464.059171474013,
          11462.364157615706,
          11461.681656943203,
          11458.045328601553,
          11451.913607595254,
          11447.09134301577,
          11444.809485284559,
          11441.366666834218,
          11434.26265132864,
          11425.300783161274,
          11419.62441336848,
          11417.936372741988,
          11414.492628031729,
          11405.881571074435,
          11394.92778875075,
          11388.699424398032,
          11387.021456577133,
          11383.134535445588,
          11375.460338141153,
          11368.528096895328,
          11365.115445976506,
          11361.794885914984,
          11355.86067041637,
          11349.023923485835,
          11344.79616314132,
          11342.397716443604,
          11338.141279752786,
          11331.32561011319,
          11324.747239079416,
          11322.060134875956,
          11321.329230408268,
          11317.442428750095,
          11309.358876174225,
          11301.1100120524,
          11298.079088841387,
          11297.79980197978,
          11294.32910397186,
          11287.805467840693,
          11283.141988374324,
          11281.649366672456,
          11279.249182537662,
          11274.171977323898,
          11268.793664266921,
          11266.26969187238,
          11265.023166766106,
          11261.478184956832,
          11255.408671985562,
          11250.067503845134,
          11248.547949761944,
          11248.123088967026,
          11244.067102282064,
          11236.022440020652,
          11228.456039631204,
          11225.685818622122,
          11224.373626814951,
          11219.354527336654,
          11211.524876610809,
          11205.898637929457,
          11203.061182302466,
          11198.65932165816,
          11191.38474139532,
          11184.18373943937,
          11180.118539839003,
          11177.00330789354,
          11171.211056443046,
          11162.986311635916,
          11156.324424728322,
          11153.68887738371,
          11151.349658437115,
          11145.131081064412,
          11135.839131508705,
          11128.967559610392,
          11126.791401696106,
          11124.421043370081,
          11118.326327289706,
          11110.847817512315,
          11106.678414526541,
          11104.708665512111,
          11100.498541135867,
          11093.791762031204,
          11088.196036881853,
          11085.787513803629,
          11083.425474464444,
          11078.135008934532,
          11070.951934462842,
          11066.22812133189,
          11065.153209925402,
          11063.201890711964,
          11057.182665490815,
          11048.909591985042,
          11044.050049968504,
          11043.196048969714,
          11040.847165490031,
          11034.760792305886,
          11028.208796444094,
          11025.014400591906,
          11022.942984646039,
          11018.11153858585,
          11010.92101199137,
          11005.0649744148,
          11001.647939520728,
          10997.18050292836,
          10989.424696927847,
          10979.80741143629,
          10972.551876391908,
          10968.286361531105,
          10962.2237210693,
          10951.414657723393,
          10938.169819082905,
          10928.717308243216,
          10923.38962005948,
          10916.297319396284,
          10905.644544603025,
          10895.342776703545,
          10888.242398574155,
          10881.476592523653,
          10872.359662778064,
          10862.264373187798,
          10854.500621741792,
          10848.622738034988,
          10841.227024462807,
          10831.47650990508,
          10821.759979890769,
          10815.571575929058,
          10811.453908288531,
          10804.70165628361,
          10794.128828762807,
          10783.165324960528,
          10776.880603825439,
          10773.383822900669,
          10767.19176615359,
          10758.155865741917,
          10750.638187045912,
          10746.121570798898,
          10741.028141857045,
          10733.525935793246,
          10725.599934723974,
          10720.292155991665,
          10716.399058020346,
          10710.536928215359,
          10702.331614734234,
          10694.680472192164,
          10690.65473255586,
          10687.966545602576,
          10682.146611102833,
          10672.733738185178,
          10663.812881896973,
          10659.444009725199,
          10656.62391134362,
          10650.554029987217,
          10641.887657352716,
          10635.074816255621,
          10630.781192594026,
          10625.135617918611,
          10616.796495739069,
          10608.1578760331,
          10602.146623938315,
          10597.106073819155,
          10589.602990123836,
          10579.590561321613,
          10570.570203311316,
          10565.376177801256,
          10560.98039660367,
          10553.065176230999,
          10541.924373167687,
          10532.528576438996,
          10527.686968835784,
          10523.236816231127,
          10515.47167297969,
          10506.208092546309,
          10499.751305973012,
          10495.396977867631,
          10489.245233262927,
          10480.995525953098,
          10473.676893350676,
          10469.05419672491,
          10464.506359713994,
          10457.54167095673,
          10449.012440689254,
          10442.59136715384,
          10439.425025398796,
          10435.64963334642,
          10428.290804299968,
          10418.736401334181,
          10412.041522875972,
          10409.24900060522,
          10405.571011559696,
          10398.609964644376,
          10391.075528283458,
          10386.549444371365,
          10383.285460378474,
          10377.792648069202,
          10370.410657859202,
          10364.4806006046,
          10361.0302568907,
          10356.900928237093,
          10350.053478146041,
          10341.854655568502,
          10336.097266937117,
          10332.965789949449,
          10328.091088127787,
          10319.17416954857,
          10308.371968592319,
          10300.71488776325,
          10295.804971797581,
          10288.51064700931,
          10277.712651209189,
          10267.160632778301,
          10259.180149502507,
          10250.513374874994,
          10238.343565608877,
          10224.46740085395,
          10211.872612467549,
          10199.31658800695,
          10183.779384195512,
          10161.094505012661,
          10122.103529114123,
          10058.8170753486,
          9972.912585823939,
          9872.852387484963,
          9765.345050221187,
          9654.436909723925,
          9542.519931972554,
          9429.498516084042,
          9315.292394549288,
          9198.554707331923,
          9074.857938710373,
          8941.562537965492,
          8800.05734334953,
          8652.999643114104,
          8504.56429988527,
          8358.036582122146,
          8213.158540768878,
          8070.1817368921365,
          7930.979566298618,
          7795.2810818948365,
          7661.475406173568,
          7528.361682971161,
          7395.06412022279,
          7263.569497865842,
          7136.489506331981,
          7014.053758435537,
          6895.205659385316,
          6780.938056400561,
          6672.650559987569,
          6567.174069951174,
          6461.122502033691,
          6355.156182466594,
          6249.559176650519,
          6144.162924730564,
          6040.294574084156,
          5938.715453069811,
          5839.2591854069715,
          5742.105035498748,
          5647.588450973496,
          5554.304065005117,
          5459.750933297524,
          5363.443974773756,
          5266.119819293099,
          5168.336516346753,
          5071.114051269477,
          4975.239629945272,
          4881.21949010748,
          4789.11986935421,
          4698.724196428731,
          4609.605774521757,
          4520.705338874719,
          4431.669289261386,
          4343.165634776712,
          4255.08341231889,
          4167.539795073515,
          4081.1485361165232,
          3996.068262060386,
          3912.406001973946,
          3830.273198910243,
          3750.0951147520555,
          3672.462852822548,
          3597.774456719598,
          3526.5540266127405,
          3452.4848304871994,
          3364.5182301703694,
          3260.884879869155,
          3153.092271940801,
          3056.1896640780133,
          2974.4807562408046,
          2903.509378306585,
          2839.5552498123625,
          2779.751350646823,
          2722.30576718821,
          2666.6170121787245,
          2611.6371435936444,
          2556.914142026531,
          2502.667499987532,
          2449.2861112791943,
          2396.970097259818,
          2345.708823911048,
          2295.010935570057,
          2244.2715083829116,
          2193.1677052317,
          2140.232729523571,
          2081.856925149396,
          2015.3025091689015,
          1945.6850542094367,
          1881.6828856525735,
          1825.7714322154875,
          1774.6917530407447,
          1725.0456857274341,
          1675.159956061838,
          1624.1737865427815,
          1572.2073740641015,
          1518.7992756619024,
          1463.560553822247,
          1408.6582387763547,
          1357.347850462728,
          1310.6777126354773,
          1267.6636771708868,
          1227.266536249256,
          1189.1807826023319,
          1153.2967205529005,
          1120.6567275537293,
          1094.3458622897308,
          1076.4414161878956,
          1062.503094349744,
          1045.5987791765342,
          1024.0495964970303,
          999.7622157908199,
          974.3949718946706,
          948.8288136519623,
          923.4249123367708,
          897.4405275835006,
          868.6801215146345,
          835.2931770463749,
          800.3434734333517,
          769.4876861818001,
          744.1662084786574,
          722.5722019443436,
          703.2920885658386,
          685.4641353859071,
          668.6267356339008,
          652.6862240387564,
          637.7956038035932,
          624.1620802577503,
          611.336807791022,
          598.6666448979555,
          585.9746053265238,
          573.4140187728682,
          561.0831995138448,
          548.9535301705426,
          537.105309209334,
          525.9140086797815,
          516.1765732825772,
          508.25082736906995,
          501.1772351784983,
          493.59462199185623,
          484.83754616570064,
          474.61594405277435,
          462.71054471382945,
          450.0196807085159,
          438.1836688309761,
          427.8185324968455,
          418.63612114320256,
          410.2763454132381,
          402.5407382511452,
          395.2786170589758,
          388.3684808562227,
          381.7562862763107,
          375.3927629808317,
          369.27766930566906,
          363.41823442989846,
          357.70418097580307,
          351.87741331596925,
          345.72766128754057,
          339.528940429579,
          333.7835462937789,
          328.5495318484149,
          323.2892642444378,
          317.4967439337649,
          311.48996916967184,
          305.9486233338717,
          301.01327539081626,
          296.29798280385086,
          291.40797091954505,
          286.5367997145734,
          282.18494639873137,
          278.40579631335436,
          274.8853542466406,
          271.30140023259173,
          267.7226729879587,
          264.45454346051673,
          261.65266777916395,
          259.48283073839565,
          257.99886935112556,
          256.8552230991172,
          255.65026186643306,
          254.37363690185725,
          253.56766332887824,
          253.7341524750032,
          254.41988244109794,
          254.75834590138933,
          254.4110958904561,
          253.48016760136693,
          252.09374015470462,
          250.44563416992762,
          248.78187309278786,
          247.0294681811418,
          244.73857844771044,
          241.47062532278247,
          237.67806744186137,
          234.32113124044156,
          231.74129620049848,
          229.8250819491153,
          228.37789897594553,
          227.2187360457966,
          226.1893484869308,
          225.21728311326916,
          224.36214738091624,
          223.69046319430365,
          223.14611988852857,
          222.60636760393825,
          221.99861933100237,
          221.29704560984368,
          220.49904423253264,
          219.64291578675298,
          218.8390640057871,
          218.2098660912544,
          217.96299108962057,
          218.21679724684836,
          218.68953440361256,
          219.01075147303774,
          219.05243184228735,
          218.88343748035695,
          218.61669880741434,
          218.29375709014246,
          217.91196946644382,
          217.4853593918747,
          217.02937820821458,
          216.55622563928108,
          216.08851148187446,
          215.6309650286815,
          215.1734753717795,
          214.7178872184852,
          214.27472413023833,
          213.84613537872085,
          213.40865072875997,
          212.90414364273693,
          212.23379142838604,
          211.3130670210479,
          210.24659326916364,
          209.26299761030637,
          208.43525826710476,
          207.6787186427393,
          206.90089495866488,
          206.1189152233932,
          205.39260882223184,
          204.6905033362713,
          203.852092850837,
          202.74191456726993,
          201.4588792225411,
          200.25661758597812,
          199.25352924115387,
          198.36605566144178,
          197.48599400749382,
          196.61947675390684,
          195.8543643314082,
          195.25369263236027,
          194.92433764223742,
          194.961185578764,
          195.1989404680546,
          195.3651135541755,
          195.35794719040047,
          195.1937502904548,
          194.92548838357976,
          194.5926393175048,
          194.23844826493828,
          193.89653202501756,
          193.52410397803956,
          193.0789777061877,
          192.6152877323763,
          192.23613172430015,
          192.08648607968735,
          192.43632411526173,
          193.5084920151361,
          194.9299571443073,
          196.03762268084455,
          196.63912036195123,
          196.93711338548127,
          197.10261469111032,
          197.16962218479767,
          197.12904792508115,
          196.87970967523285,
          196.18896954349236,
          194.87086742484763,
          193.2523244195497,
          191.91423243664622,
          191.03161179534132,
          190.41610582025214,
          189.8990496264684,
          189.4422687832714,
          189.04691790957955,
          188.74363816462858,
          188.57412806709596,
          188.56482731381715,
          188.64594269923563,
          188.67437770929507,
          188.58552158339913,
          188.3900394412632,
          188.10652765764905,
          187.7577293053459,
          187.37998083785985,
          187.02686434738155,
          186.77241171154458,
          186.66899583824187,
          186.65027880961676,
          186.58439391919353,
          186.41752068398094,
          186.1836797013288,
          185.92448511915893,
          185.64769574885938,
          185.34989192526467,
          185.00621011721705,
          184.43737204450323,
          183.50856028686266,
          182.450422019595,
          181.57493562512738,
          180.93706269732348,
          180.38201262467774,
          179.77544360918188,
          179.13563393725715,
          178.55320355746485,
          178.10796981804748,
          177.85688722691032,
          177.8210390505694,
          177.9015992876384,
          177.9281843008128,
          177.8199490160738,
          177.56226499010128,
          177.15195860175058,
          176.65083848042943,
          176.16575664044655,
          175.76189525272616,
          175.46732032738197,
          175.2849343918658,
          175.15922513175482,
          175.0235476454982,
          174.85099297840566,
          174.67961053996618,
          174.59603544815147,
          174.59747690540632,
          174.59181715800628,
          174.5226027024121,
          174.33897981009767
         ],
         "yaxis": "y"
        }
       ],
       "layout": {
        "legend": {
         "tracegroupgap": 0
        },
        "margin": {
         "t": 60
        },
        "template": {
         "data": {
          "bar": [
           {
            "error_x": {
             "color": "#2a3f5f"
            },
            "error_y": {
             "color": "#2a3f5f"
            },
            "marker": {
             "line": {
              "color": "#E5ECF6",
              "width": 0.5
             },
             "pattern": {
              "fillmode": "overlay",
              "size": 10,
              "solidity": 0.2
             }
            },
            "type": "bar"
           }
          ],
          "barpolar": [
           {
            "marker": {
             "line": {
              "color": "#E5ECF6",
              "width": 0.5
             },
             "pattern": {
              "fillmode": "overlay",
              "size": 10,
              "solidity": 0.2
             }
            },
            "type": "barpolar"
           }
          ],
          "carpet": [
           {
            "aaxis": {
             "endlinecolor": "#2a3f5f",
             "gridcolor": "white",
             "linecolor": "white",
             "minorgridcolor": "white",
             "startlinecolor": "#2a3f5f"
            },
            "baxis": {
             "endlinecolor": "#2a3f5f",
             "gridcolor": "white",
             "linecolor": "white",
             "minorgridcolor": "white",
             "startlinecolor": "#2a3f5f"
            },
            "type": "carpet"
           }
          ],
          "choropleth": [
           {
            "colorbar": {
             "outlinewidth": 0,
             "ticks": ""
            },
            "type": "choropleth"
           }
          ],
          "contour": [
           {
            "colorbar": {
             "outlinewidth": 0,
             "ticks": ""
            },
            "colorscale": [
             [
              0,
              "#0d0887"
             ],
             [
              0.1111111111111111,
              "#46039f"
             ],
             [
              0.2222222222222222,
              "#7201a8"
             ],
             [
              0.3333333333333333,
              "#9c179e"
             ],
             [
              0.4444444444444444,
              "#bd3786"
             ],
             [
              0.5555555555555556,
              "#d8576b"
             ],
             [
              0.6666666666666666,
              "#ed7953"
             ],
             [
              0.7777777777777778,
              "#fb9f3a"
             ],
             [
              0.8888888888888888,
              "#fdca26"
             ],
             [
              1,
              "#f0f921"
             ]
            ],
            "type": "contour"
           }
          ],
          "contourcarpet": [
           {
            "colorbar": {
             "outlinewidth": 0,
             "ticks": ""
            },
            "type": "contourcarpet"
           }
          ],
          "heatmap": [
           {
            "colorbar": {
             "outlinewidth": 0,
             "ticks": ""
            },
            "colorscale": [
             [
              0,
              "#0d0887"
             ],
             [
              0.1111111111111111,
              "#46039f"
             ],
             [
              0.2222222222222222,
              "#7201a8"
             ],
             [
              0.3333333333333333,
              "#9c179e"
             ],
             [
              0.4444444444444444,
              "#bd3786"
             ],
             [
              0.5555555555555556,
              "#d8576b"
             ],
             [
              0.6666666666666666,
              "#ed7953"
             ],
             [
              0.7777777777777778,
              "#fb9f3a"
             ],
             [
              0.8888888888888888,
              "#fdca26"
             ],
             [
              1,
              "#f0f921"
             ]
            ],
            "type": "heatmap"
           }
          ],
          "heatmapgl": [
           {
            "colorbar": {
             "outlinewidth": 0,
             "ticks": ""
            },
            "colorscale": [
             [
              0,
              "#0d0887"
             ],
             [
              0.1111111111111111,
              "#46039f"
             ],
             [
              0.2222222222222222,
              "#7201a8"
             ],
             [
              0.3333333333333333,
              "#9c179e"
             ],
             [
              0.4444444444444444,
              "#bd3786"
             ],
             [
              0.5555555555555556,
              "#d8576b"
             ],
             [
              0.6666666666666666,
              "#ed7953"
             ],
             [
              0.7777777777777778,
              "#fb9f3a"
             ],
             [
              0.8888888888888888,
              "#fdca26"
             ],
             [
              1,
              "#f0f921"
             ]
            ],
            "type": "heatmapgl"
           }
          ],
          "histogram": [
           {
            "marker": {
             "pattern": {
              "fillmode": "overlay",
              "size": 10,
              "solidity": 0.2
             }
            },
            "type": "histogram"
           }
          ],
          "histogram2d": [
           {
            "colorbar": {
             "outlinewidth": 0,
             "ticks": ""
            },
            "colorscale": [
             [
              0,
              "#0d0887"
             ],
             [
              0.1111111111111111,
              "#46039f"
             ],
             [
              0.2222222222222222,
              "#7201a8"
             ],
             [
              0.3333333333333333,
              "#9c179e"
             ],
             [
              0.4444444444444444,
              "#bd3786"
             ],
             [
              0.5555555555555556,
              "#d8576b"
             ],
             [
              0.6666666666666666,
              "#ed7953"
             ],
             [
              0.7777777777777778,
              "#fb9f3a"
             ],
             [
              0.8888888888888888,
              "#fdca26"
             ],
             [
              1,
              "#f0f921"
             ]
            ],
            "type": "histogram2d"
           }
          ],
          "histogram2dcontour": [
           {
            "colorbar": {
             "outlinewidth": 0,
             "ticks": ""
            },
            "colorscale": [
             [
              0,
              "#0d0887"
             ],
             [
              0.1111111111111111,
              "#46039f"
             ],
             [
              0.2222222222222222,
              "#7201a8"
             ],
             [
              0.3333333333333333,
              "#9c179e"
             ],
             [
              0.4444444444444444,
              "#bd3786"
             ],
             [
              0.5555555555555556,
              "#d8576b"
             ],
             [
              0.6666666666666666,
              "#ed7953"
             ],
             [
              0.7777777777777778,
              "#fb9f3a"
             ],
             [
              0.8888888888888888,
              "#fdca26"
             ],
             [
              1,
              "#f0f921"
             ]
            ],
            "type": "histogram2dcontour"
           }
          ],
          "mesh3d": [
           {
            "colorbar": {
             "outlinewidth": 0,
             "ticks": ""
            },
            "type": "mesh3d"
           }
          ],
          "parcoords": [
           {
            "line": {
             "colorbar": {
              "outlinewidth": 0,
              "ticks": ""
             }
            },
            "type": "parcoords"
           }
          ],
          "pie": [
           {
            "automargin": true,
            "type": "pie"
           }
          ],
          "scatter": [
           {
            "fillpattern": {
             "fillmode": "overlay",
             "size": 10,
             "solidity": 0.2
            },
            "type": "scatter"
           }
          ],
          "scatter3d": [
           {
            "line": {
             "colorbar": {
              "outlinewidth": 0,
              "ticks": ""
             }
            },
            "marker": {
             "colorbar": {
              "outlinewidth": 0,
              "ticks": ""
             }
            },
            "type": "scatter3d"
           }
          ],
          "scattercarpet": [
           {
            "marker": {
             "colorbar": {
              "outlinewidth": 0,
              "ticks": ""
             }
            },
            "type": "scattercarpet"
           }
          ],
          "scattergeo": [
           {
            "marker": {
             "colorbar": {
              "outlinewidth": 0,
              "ticks": ""
             }
            },
            "type": "scattergeo"
           }
          ],
          "scattergl": [
           {
            "marker": {
             "colorbar": {
              "outlinewidth": 0,
              "ticks": ""
             }
            },
            "type": "scattergl"
           }
          ],
          "scattermapbox": [
           {
            "marker": {
             "colorbar": {
              "outlinewidth": 0,
              "ticks": ""
             }
            },
            "type": "scattermapbox"
           }
          ],
          "scatterpolar": [
           {
            "marker": {
             "colorbar": {
              "outlinewidth": 0,
              "ticks": ""
             }
            },
            "type": "scatterpolar"
           }
          ],
          "scatterpolargl": [
           {
            "marker": {
             "colorbar": {
              "outlinewidth": 0,
              "ticks": ""
             }
            },
            "type": "scatterpolargl"
           }
          ],
          "scatterternary": [
           {
            "marker": {
             "colorbar": {
              "outlinewidth": 0,
              "ticks": ""
             }
            },
            "type": "scatterternary"
           }
          ],
          "surface": [
           {
            "colorbar": {
             "outlinewidth": 0,
             "ticks": ""
            },
            "colorscale": [
             [
              0,
              "#0d0887"
             ],
             [
              0.1111111111111111,
              "#46039f"
             ],
             [
              0.2222222222222222,
              "#7201a8"
             ],
             [
              0.3333333333333333,
              "#9c179e"
             ],
             [
              0.4444444444444444,
              "#bd3786"
             ],
             [
              0.5555555555555556,
              "#d8576b"
             ],
             [
              0.6666666666666666,
              "#ed7953"
             ],
             [
              0.7777777777777778,
              "#fb9f3a"
             ],
             [
              0.8888888888888888,
              "#fdca26"
             ],
             [
              1,
              "#f0f921"
             ]
            ],
            "type": "surface"
           }
          ],
          "table": [
           {
            "cells": {
             "fill": {
              "color": "#EBF0F8"
             },
             "line": {
              "color": "white"
             }
            },
            "header": {
             "fill": {
              "color": "#C8D4E3"
             },
             "line": {
              "color": "white"
             }
            },
            "type": "table"
           }
          ]
         },
         "layout": {
          "annotationdefaults": {
           "arrowcolor": "#2a3f5f",
           "arrowhead": 0,
           "arrowwidth": 1
          },
          "autotypenumbers": "strict",
          "coloraxis": {
           "colorbar": {
            "outlinewidth": 0,
            "ticks": ""
           }
          },
          "colorscale": {
           "diverging": [
            [
             0,
             "#8e0152"
            ],
            [
             0.1,
             "#c51b7d"
            ],
            [
             0.2,
             "#de77ae"
            ],
            [
             0.3,
             "#f1b6da"
            ],
            [
             0.4,
             "#fde0ef"
            ],
            [
             0.5,
             "#f7f7f7"
            ],
            [
             0.6,
             "#e6f5d0"
            ],
            [
             0.7,
             "#b8e186"
            ],
            [
             0.8,
             "#7fbc41"
            ],
            [
             0.9,
             "#4d9221"
            ],
            [
             1,
             "#276419"
            ]
           ],
           "sequential": [
            [
             0,
             "#0d0887"
            ],
            [
             0.1111111111111111,
             "#46039f"
            ],
            [
             0.2222222222222222,
             "#7201a8"
            ],
            [
             0.3333333333333333,
             "#9c179e"
            ],
            [
             0.4444444444444444,
             "#bd3786"
            ],
            [
             0.5555555555555556,
             "#d8576b"
            ],
            [
             0.6666666666666666,
             "#ed7953"
            ],
            [
             0.7777777777777778,
             "#fb9f3a"
            ],
            [
             0.8888888888888888,
             "#fdca26"
            ],
            [
             1,
             "#f0f921"
            ]
           ],
           "sequentialminus": [
            [
             0,
             "#0d0887"
            ],
            [
             0.1111111111111111,
             "#46039f"
            ],
            [
             0.2222222222222222,
             "#7201a8"
            ],
            [
             0.3333333333333333,
             "#9c179e"
            ],
            [
             0.4444444444444444,
             "#bd3786"
            ],
            [
             0.5555555555555556,
             "#d8576b"
            ],
            [
             0.6666666666666666,
             "#ed7953"
            ],
            [
             0.7777777777777778,
             "#fb9f3a"
            ],
            [
             0.8888888888888888,
             "#fdca26"
            ],
            [
             1,
             "#f0f921"
            ]
           ]
          },
          "colorway": [
           "#636efa",
           "#EF553B",
           "#00cc96",
           "#ab63fa",
           "#FFA15A",
           "#19d3f3",
           "#FF6692",
           "#B6E880",
           "#FF97FF",
           "#FECB52"
          ],
          "font": {
           "color": "#2a3f5f"
          },
          "geo": {
           "bgcolor": "white",
           "lakecolor": "white",
           "landcolor": "#E5ECF6",
           "showlakes": true,
           "showland": true,
           "subunitcolor": "white"
          },
          "hoverlabel": {
           "align": "left"
          },
          "hovermode": "closest",
          "mapbox": {
           "style": "light"
          },
          "paper_bgcolor": "white",
          "plot_bgcolor": "#E5ECF6",
          "polar": {
           "angularaxis": {
            "gridcolor": "white",
            "linecolor": "white",
            "ticks": ""
           },
           "bgcolor": "#E5ECF6",
           "radialaxis": {
            "gridcolor": "white",
            "linecolor": "white",
            "ticks": ""
           }
          },
          "scene": {
           "xaxis": {
            "backgroundcolor": "#E5ECF6",
            "gridcolor": "white",
            "gridwidth": 2,
            "linecolor": "white",
            "showbackground": true,
            "ticks": "",
            "zerolinecolor": "white"
           },
           "yaxis": {
            "backgroundcolor": "#E5ECF6",
            "gridcolor": "white",
            "gridwidth": 2,
            "linecolor": "white",
            "showbackground": true,
            "ticks": "",
            "zerolinecolor": "white"
           },
           "zaxis": {
            "backgroundcolor": "#E5ECF6",
            "gridcolor": "white",
            "gridwidth": 2,
            "linecolor": "white",
            "showbackground": true,
            "ticks": "",
            "zerolinecolor": "white"
           }
          },
          "shapedefaults": {
           "line": {
            "color": "#2a3f5f"
           }
          },
          "ternary": {
           "aaxis": {
            "gridcolor": "white",
            "linecolor": "white",
            "ticks": ""
           },
           "baxis": {
            "gridcolor": "white",
            "linecolor": "white",
            "ticks": ""
           },
           "bgcolor": "#E5ECF6",
           "caxis": {
            "gridcolor": "white",
            "linecolor": "white",
            "ticks": ""
           }
          },
          "title": {
           "x": 0.05
          },
          "xaxis": {
           "automargin": true,
           "gridcolor": "white",
           "linecolor": "white",
           "ticks": "",
           "title": {
            "standoff": 15
           },
           "zerolinecolor": "white",
           "zerolinewidth": 2
          },
          "yaxis": {
           "automargin": true,
           "gridcolor": "white",
           "linecolor": "white",
           "ticks": "",
           "title": {
            "standoff": 15
           },
           "zerolinecolor": "white",
           "zerolinewidth": 2
          }
         }
        },
        "title": {
         "text": "",
         "x": 0.5
        },
        "xaxis": {
         "anchor": "y",
         "domain": [
          0,
          1
         ],
         "title": {
          "text": "Year"
         }
        },
        "yaxis": {
         "anchor": "x",
         "domain": [
          0,
          1
         ],
         "title": {
          "text": "Incidence per 100,000 population"
         }
        }
       }
      }
     },
     "metadata": {},
     "output_type": "display_data"
    }
   ],
   "source": [
    "inci_plot = px.line(\n",
    "    derived_df_0,\n",
    "    x=derived_df_0.index,\n",
    "    y=\"incidence\",\n",
    ")\n",
    "inci_plot.update_layout(\n",
    "    title=\"\", title_x=0.5, xaxis_title=\"Year\", yaxis_title=\"Incidence per 100,000 population\"\n",
    ")\n",
    "inci_plot.show()"
   ]
  },
  {
   "cell_type": "code",
   "execution_count": 18,
   "metadata": {},
   "outputs": [
    {
     "data": {
      "application/vnd.plotly.v1+json": {
       "config": {
        "plotlyServerURL": "https://plot.ly"
       },
       "data": [
        {
         "hovertemplate": "index=%{x}<br>prevalence_infectious=%{y}<extra></extra>",
         "legendgroup": "",
         "line": {
          "color": "#636efa",
          "dash": "solid"
         },
         "marker": {
          "symbol": "circle"
         },
         "mode": "lines",
         "name": "",
         "showlegend": false,
         "type": "scattergl",
         "x": [
          1900,
          1900.1,
          1900.2,
          1900.3,
          1900.4,
          1900.5,
          1900.6,
          1900.7,
          1900.8,
          1900.9,
          1901,
          1901.1,
          1901.2,
          1901.3,
          1901.4,
          1901.5,
          1901.6,
          1901.7,
          1901.8,
          1901.9,
          1902,
          1902.1,
          1902.2,
          1902.3,
          1902.4,
          1902.5,
          1902.6,
          1902.7,
          1902.8,
          1902.9,
          1903,
          1903.1,
          1903.2,
          1903.3,
          1903.4,
          1903.5,
          1903.6,
          1903.7,
          1903.8,
          1903.9,
          1904,
          1904.1,
          1904.2,
          1904.3,
          1904.4,
          1904.5,
          1904.6,
          1904.7,
          1904.8,
          1904.9,
          1905,
          1905.1,
          1905.2,
          1905.3,
          1905.4,
          1905.5,
          1905.6,
          1905.7,
          1905.8,
          1905.9,
          1906,
          1906.1,
          1906.2,
          1906.3,
          1906.4,
          1906.5,
          1906.6,
          1906.7,
          1906.8,
          1906.9,
          1907,
          1907.1,
          1907.2,
          1907.3,
          1907.4,
          1907.5,
          1907.6,
          1907.7,
          1907.8,
          1907.9,
          1908,
          1908.1,
          1908.2,
          1908.3,
          1908.4,
          1908.5,
          1908.6,
          1908.7,
          1908.8,
          1908.9,
          1909,
          1909.1,
          1909.2,
          1909.3,
          1909.4,
          1909.5,
          1909.6,
          1909.7,
          1909.8,
          1909.9,
          1910,
          1910.1,
          1910.2,
          1910.3,
          1910.4,
          1910.5,
          1910.6,
          1910.7,
          1910.8,
          1910.9,
          1911,
          1911.1,
          1911.2,
          1911.3,
          1911.4,
          1911.5,
          1911.6,
          1911.7,
          1911.8,
          1911.9,
          1912,
          1912.1,
          1912.2,
          1912.3,
          1912.4,
          1912.5,
          1912.6,
          1912.7,
          1912.8,
          1912.9,
          1913,
          1913.1,
          1913.2,
          1913.3,
          1913.4,
          1913.5,
          1913.6,
          1913.7,
          1913.8,
          1913.9,
          1914,
          1914.1,
          1914.2,
          1914.3,
          1914.4,
          1914.5,
          1914.6,
          1914.7,
          1914.8,
          1914.9,
          1915,
          1915.1,
          1915.2,
          1915.3,
          1915.4,
          1915.5,
          1915.6,
          1915.7,
          1915.8,
          1915.9,
          1916,
          1916.1,
          1916.2,
          1916.3,
          1916.4,
          1916.5,
          1916.6,
          1916.7,
          1916.8,
          1916.9,
          1917,
          1917.1,
          1917.2,
          1917.3,
          1917.4,
          1917.5,
          1917.6,
          1917.7,
          1917.8,
          1917.9,
          1918,
          1918.1,
          1918.2,
          1918.3,
          1918.4,
          1918.5,
          1918.6,
          1918.7,
          1918.8,
          1918.9,
          1919,
          1919.1,
          1919.2,
          1919.3,
          1919.4,
          1919.5,
          1919.6,
          1919.7,
          1919.8,
          1919.9,
          1920,
          1920.1,
          1920.2,
          1920.3,
          1920.4,
          1920.5,
          1920.6,
          1920.7,
          1920.8,
          1920.9,
          1921,
          1921.1,
          1921.2,
          1921.3,
          1921.4,
          1921.5,
          1921.6,
          1921.7,
          1921.8,
          1921.9,
          1922,
          1922.1,
          1922.2,
          1922.3,
          1922.4,
          1922.5,
          1922.6,
          1922.7,
          1922.8,
          1922.9,
          1923,
          1923.1,
          1923.2,
          1923.3,
          1923.4,
          1923.5,
          1923.6,
          1923.7,
          1923.8,
          1923.9,
          1924,
          1924.1,
          1924.2,
          1924.3,
          1924.4,
          1924.5,
          1924.6,
          1924.7,
          1924.8,
          1924.9,
          1925,
          1925.1,
          1925.2,
          1925.3,
          1925.4,
          1925.5,
          1925.6,
          1925.7,
          1925.8,
          1925.9,
          1926,
          1926.1,
          1926.2,
          1926.3,
          1926.4,
          1926.5,
          1926.6,
          1926.7,
          1926.8,
          1926.9,
          1927,
          1927.1,
          1927.2,
          1927.3,
          1927.4,
          1927.5,
          1927.6,
          1927.7,
          1927.8,
          1927.9,
          1928,
          1928.1,
          1928.2,
          1928.3,
          1928.4,
          1928.5,
          1928.6,
          1928.7,
          1928.8,
          1928.9,
          1929,
          1929.1,
          1929.2,
          1929.3,
          1929.4,
          1929.5,
          1929.6,
          1929.7,
          1929.8,
          1929.9,
          1930,
          1930.1,
          1930.2,
          1930.3,
          1930.4,
          1930.5,
          1930.6,
          1930.7,
          1930.8,
          1930.9,
          1931,
          1931.1,
          1931.2,
          1931.3,
          1931.4,
          1931.5,
          1931.6,
          1931.7,
          1931.8,
          1931.9,
          1932,
          1932.1,
          1932.2,
          1932.3,
          1932.4,
          1932.5,
          1932.6,
          1932.7,
          1932.8,
          1932.9,
          1933,
          1933.1,
          1933.2,
          1933.3,
          1933.4,
          1933.5,
          1933.6,
          1933.7,
          1933.8,
          1933.9,
          1934,
          1934.1,
          1934.2,
          1934.3,
          1934.4,
          1934.5,
          1934.6,
          1934.7,
          1934.8,
          1934.9,
          1935,
          1935.1,
          1935.2,
          1935.3,
          1935.4,
          1935.5,
          1935.6,
          1935.7,
          1935.8,
          1935.9,
          1936,
          1936.1,
          1936.2,
          1936.3,
          1936.4,
          1936.5,
          1936.6,
          1936.7,
          1936.8,
          1936.9,
          1937,
          1937.1,
          1937.2,
          1937.3,
          1937.4,
          1937.5,
          1937.6,
          1937.7,
          1937.8,
          1937.9,
          1938,
          1938.1,
          1938.2,
          1938.3,
          1938.4,
          1938.5,
          1938.6,
          1938.7,
          1938.8,
          1938.9,
          1939,
          1939.1,
          1939.2,
          1939.3,
          1939.4,
          1939.5,
          1939.6,
          1939.7,
          1939.8,
          1939.9,
          1940,
          1940.1,
          1940.2,
          1940.3,
          1940.4,
          1940.5,
          1940.6,
          1940.7,
          1940.8,
          1940.9,
          1941,
          1941.1,
          1941.2,
          1941.3,
          1941.4,
          1941.5,
          1941.6,
          1941.7,
          1941.8,
          1941.9,
          1942,
          1942.1,
          1942.2,
          1942.3,
          1942.4,
          1942.5,
          1942.6,
          1942.7,
          1942.8,
          1942.9,
          1943,
          1943.1,
          1943.2,
          1943.3,
          1943.4,
          1943.5,
          1943.6,
          1943.7,
          1943.8,
          1943.9,
          1944,
          1944.1,
          1944.2,
          1944.3,
          1944.4,
          1944.5,
          1944.6,
          1944.7,
          1944.8,
          1944.9,
          1945,
          1945.1,
          1945.2,
          1945.3,
          1945.4,
          1945.5,
          1945.6,
          1945.7,
          1945.8,
          1945.9,
          1946,
          1946.1,
          1946.2,
          1946.3,
          1946.4,
          1946.5,
          1946.6,
          1946.7,
          1946.8,
          1946.9,
          1947,
          1947.1,
          1947.2,
          1947.3,
          1947.4,
          1947.5,
          1947.6,
          1947.7,
          1947.8,
          1947.9,
          1948,
          1948.1,
          1948.2,
          1948.3,
          1948.4,
          1948.5,
          1948.6,
          1948.7,
          1948.8,
          1948.9,
          1949,
          1949.1,
          1949.2,
          1949.3,
          1949.4,
          1949.5,
          1949.6,
          1949.7,
          1949.8,
          1949.9,
          1950,
          1950.1,
          1950.2,
          1950.3,
          1950.4,
          1950.5,
          1950.6,
          1950.7,
          1950.8,
          1950.9,
          1951,
          1951.1,
          1951.2,
          1951.3,
          1951.4,
          1951.5,
          1951.6,
          1951.7,
          1951.8,
          1951.9,
          1952,
          1952.1,
          1952.2,
          1952.3,
          1952.4,
          1952.5,
          1952.6,
          1952.7,
          1952.8,
          1952.9,
          1953,
          1953.1,
          1953.2,
          1953.3,
          1953.4,
          1953.5,
          1953.6,
          1953.7,
          1953.8,
          1953.9,
          1954,
          1954.1,
          1954.2,
          1954.3,
          1954.4,
          1954.5,
          1954.6,
          1954.7,
          1954.8,
          1954.9,
          1955,
          1955.1,
          1955.2,
          1955.3,
          1955.4,
          1955.5,
          1955.6,
          1955.7,
          1955.8,
          1955.9,
          1956,
          1956.1,
          1956.2,
          1956.3,
          1956.4,
          1956.5,
          1956.6,
          1956.7,
          1956.8,
          1956.9,
          1957,
          1957.1,
          1957.2,
          1957.3,
          1957.4,
          1957.5,
          1957.6,
          1957.7,
          1957.8,
          1957.9,
          1958,
          1958.1,
          1958.2,
          1958.3,
          1958.4,
          1958.5,
          1958.6,
          1958.7,
          1958.8,
          1958.9,
          1959,
          1959.1,
          1959.2,
          1959.3,
          1959.4,
          1959.5,
          1959.6,
          1959.7,
          1959.8,
          1959.9,
          1960,
          1960.1,
          1960.2,
          1960.3,
          1960.4,
          1960.5,
          1960.6,
          1960.7,
          1960.8,
          1960.9,
          1961,
          1961.1,
          1961.2,
          1961.3,
          1961.4,
          1961.5,
          1961.6,
          1961.7,
          1961.8,
          1961.9,
          1962,
          1962.1,
          1962.2,
          1962.3,
          1962.4,
          1962.5,
          1962.6,
          1962.7,
          1962.8,
          1962.9,
          1963,
          1963.1,
          1963.2,
          1963.3,
          1963.4,
          1963.5,
          1963.6,
          1963.7,
          1963.8,
          1963.9,
          1964,
          1964.1,
          1964.2,
          1964.3,
          1964.4,
          1964.5,
          1964.6,
          1964.7,
          1964.8,
          1964.9,
          1965,
          1965.1,
          1965.2,
          1965.3,
          1965.4,
          1965.5,
          1965.6,
          1965.7,
          1965.8,
          1965.9,
          1966,
          1966.1,
          1966.2,
          1966.3,
          1966.4,
          1966.5,
          1966.6,
          1966.7,
          1966.8,
          1966.9,
          1967,
          1967.1,
          1967.2,
          1967.3,
          1967.4,
          1967.5,
          1967.6,
          1967.7,
          1967.8,
          1967.9,
          1968,
          1968.1,
          1968.2,
          1968.3,
          1968.4,
          1968.5,
          1968.6,
          1968.7,
          1968.8,
          1968.9,
          1969,
          1969.1,
          1969.2,
          1969.3,
          1969.4,
          1969.5,
          1969.6,
          1969.7,
          1969.8,
          1969.9,
          1970,
          1970.1,
          1970.2,
          1970.3,
          1970.4,
          1970.5,
          1970.6,
          1970.7,
          1970.8,
          1970.9,
          1971,
          1971.1,
          1971.2,
          1971.3,
          1971.4,
          1971.5,
          1971.6,
          1971.7,
          1971.8,
          1971.9,
          1972,
          1972.1,
          1972.2,
          1972.3,
          1972.4,
          1972.5,
          1972.6,
          1972.7,
          1972.8,
          1972.9,
          1973,
          1973.1,
          1973.2,
          1973.3,
          1973.4,
          1973.5,
          1973.6,
          1973.7,
          1973.8,
          1973.9,
          1974,
          1974.1,
          1974.2,
          1974.3,
          1974.4,
          1974.5,
          1974.6,
          1974.7,
          1974.8,
          1974.9,
          1975,
          1975.1,
          1975.2,
          1975.3,
          1975.4,
          1975.5,
          1975.6,
          1975.7,
          1975.8,
          1975.9,
          1976,
          1976.1,
          1976.2,
          1976.3,
          1976.4,
          1976.5,
          1976.6,
          1976.7,
          1976.8,
          1976.9,
          1977,
          1977.1,
          1977.2,
          1977.3,
          1977.4,
          1977.5,
          1977.6,
          1977.7,
          1977.8,
          1977.9,
          1978,
          1978.1,
          1978.2,
          1978.3,
          1978.4,
          1978.5,
          1978.6,
          1978.7,
          1978.8,
          1978.9,
          1979,
          1979.1,
          1979.2,
          1979.3,
          1979.4,
          1979.5,
          1979.6,
          1979.7,
          1979.8,
          1979.9,
          1980,
          1980.1,
          1980.2,
          1980.3,
          1980.4,
          1980.5,
          1980.6,
          1980.7,
          1980.8,
          1980.9,
          1981,
          1981.1,
          1981.2,
          1981.3,
          1981.4,
          1981.5,
          1981.6,
          1981.7,
          1981.8,
          1981.9,
          1982,
          1982.1,
          1982.2,
          1982.3,
          1982.4,
          1982.5,
          1982.6,
          1982.7,
          1982.8,
          1982.9,
          1983,
          1983.1,
          1983.2,
          1983.3,
          1983.4,
          1983.5,
          1983.6,
          1983.7,
          1983.8,
          1983.9,
          1984,
          1984.1,
          1984.2,
          1984.3,
          1984.4,
          1984.5,
          1984.6,
          1984.7,
          1984.8,
          1984.9,
          1985,
          1985.1,
          1985.2,
          1985.3,
          1985.4,
          1985.5,
          1985.6,
          1985.7,
          1985.8,
          1985.9,
          1986,
          1986.1,
          1986.2,
          1986.3,
          1986.4,
          1986.5,
          1986.6,
          1986.7,
          1986.8,
          1986.9,
          1987,
          1987.1,
          1987.2,
          1987.3,
          1987.4,
          1987.5,
          1987.6,
          1987.7,
          1987.8,
          1987.9,
          1988,
          1988.1,
          1988.2,
          1988.3,
          1988.4,
          1988.5,
          1988.6,
          1988.7,
          1988.8,
          1988.9,
          1989,
          1989.1,
          1989.2,
          1989.3,
          1989.4,
          1989.5,
          1989.6,
          1989.7,
          1989.8,
          1989.9,
          1990,
          1990.1,
          1990.2,
          1990.3,
          1990.4,
          1990.5,
          1990.6,
          1990.7,
          1990.8,
          1990.9,
          1991,
          1991.1,
          1991.2,
          1991.3,
          1991.4,
          1991.5,
          1991.6,
          1991.7,
          1991.8,
          1991.9,
          1992,
          1992.1,
          1992.2,
          1992.3,
          1992.4,
          1992.5,
          1992.6,
          1992.7,
          1992.8,
          1992.9,
          1993,
          1993.1,
          1993.2,
          1993.3,
          1993.4,
          1993.5,
          1993.6,
          1993.7,
          1993.8,
          1993.9,
          1994,
          1994.1,
          1994.2,
          1994.3,
          1994.4,
          1994.5,
          1994.6,
          1994.7,
          1994.8,
          1994.9,
          1995,
          1995.1,
          1995.2,
          1995.3,
          1995.4,
          1995.5,
          1995.6,
          1995.7,
          1995.8,
          1995.9,
          1996,
          1996.1,
          1996.2,
          1996.3,
          1996.4,
          1996.5,
          1996.6,
          1996.7,
          1996.8,
          1996.9,
          1997,
          1997.1,
          1997.2,
          1997.3,
          1997.4,
          1997.5,
          1997.6,
          1997.7,
          1997.8,
          1997.9,
          1998,
          1998.1,
          1998.2,
          1998.3,
          1998.4,
          1998.5,
          1998.6,
          1998.7,
          1998.8,
          1998.9,
          1999,
          1999.1,
          1999.2,
          1999.3,
          1999.4,
          1999.5,
          1999.6,
          1999.7,
          1999.8,
          1999.9,
          2000,
          2000.1,
          2000.2,
          2000.3,
          2000.4,
          2000.5,
          2000.6,
          2000.7,
          2000.8,
          2000.9,
          2001,
          2001.1,
          2001.2,
          2001.3,
          2001.4,
          2001.5,
          2001.6,
          2001.7,
          2001.8,
          2001.9,
          2002,
          2002.1,
          2002.2,
          2002.3,
          2002.4,
          2002.5,
          2002.6,
          2002.7,
          2002.8,
          2002.9,
          2003,
          2003.1,
          2003.2,
          2003.3,
          2003.4,
          2003.5,
          2003.6,
          2003.7,
          2003.8,
          2003.9,
          2004,
          2004.1,
          2004.2,
          2004.3,
          2004.4,
          2004.5,
          2004.6,
          2004.7,
          2004.8,
          2004.9,
          2005,
          2005.1,
          2005.2,
          2005.3,
          2005.4,
          2005.5,
          2005.6,
          2005.7,
          2005.8,
          2005.9,
          2006,
          2006.1,
          2006.2,
          2006.3,
          2006.4,
          2006.5,
          2006.6,
          2006.7,
          2006.8,
          2006.9,
          2007,
          2007.1,
          2007.2,
          2007.3,
          2007.4,
          2007.5,
          2007.6,
          2007.7,
          2007.8,
          2007.9,
          2008,
          2008.1,
          2008.2,
          2008.3,
          2008.4,
          2008.5,
          2008.6,
          2008.7,
          2008.8,
          2008.9,
          2009,
          2009.1,
          2009.2,
          2009.3,
          2009.4,
          2009.5,
          2009.6,
          2009.7,
          2009.8,
          2009.9,
          2010,
          2010.1,
          2010.2,
          2010.3,
          2010.4,
          2010.5,
          2010.6,
          2010.7,
          2010.8,
          2010.9,
          2011,
          2011.1,
          2011.2,
          2011.3,
          2011.4,
          2011.5,
          2011.6,
          2011.7,
          2011.8,
          2011.9,
          2012,
          2012.1,
          2012.2,
          2012.3,
          2012.4,
          2012.5,
          2012.6,
          2012.7,
          2012.8,
          2012.9,
          2013,
          2013.1,
          2013.2,
          2013.3,
          2013.4,
          2013.5,
          2013.6,
          2013.7,
          2013.8,
          2013.9,
          2014,
          2014.1,
          2014.2,
          2014.3,
          2014.4,
          2014.5,
          2014.6,
          2014.7,
          2014.8,
          2014.9,
          2015,
          2015.1,
          2015.2,
          2015.3,
          2015.4,
          2015.5,
          2015.6,
          2015.7,
          2015.8,
          2015.9,
          2016,
          2016.1,
          2016.2,
          2016.3,
          2016.4,
          2016.5,
          2016.6,
          2016.7,
          2016.8,
          2016.9,
          2017,
          2017.1,
          2017.2,
          2017.3,
          2017.4,
          2017.5,
          2017.6,
          2017.7,
          2017.8,
          2017.9,
          2018,
          2018.1,
          2018.2,
          2018.3,
          2018.4,
          2018.5,
          2018.6,
          2018.7,
          2018.8,
          2018.9,
          2019,
          2019.1,
          2019.2,
          2019.3,
          2019.4,
          2019.5,
          2019.6,
          2019.7,
          2019.8,
          2019.9,
          2020
         ],
         "xaxis": "x",
         "y": [
          0.30303030303030304,
          0.2989765715626889,
          0.30289628626745985,
          0.3107005064565933,
          0.3205125697617725,
          0.3315135879388472,
          0.34317282394173654,
          0.3554466199685977,
          0.3680781614896997,
          0.38109717257286135,
          0.39460139248771103,
          0.4085548727791071,
          0.4229041844541169,
          0.43777269065898833,
          0.4532361160265956,
          0.4693067258743555,
          0.4859326270585676,
          0.503038084072774,
          0.5208292428439312,
          0.5394908018002621,
          0.5590676286900947,
          0.5794649034129451,
          0.6004483026782913,
          0.622000493983992,
          0.6445578450185879,
          0.6682230580141538,
          0.6928297257918673,
          0.7182304324994762,
          0.7447135364982808,
          0.7723868424315352,
          0.8012129327978623,
          0.8310513397597549,
          0.8620435785126078,
          0.8944073758523459,
          0.9282123621682863,
          0.9633815341329399,
          0.9997158157580589,
          1.0373746937160024,
          1.0767720795226003,
          1.118054272414963,
          1.1610794452996358,
          1.2054407093342454,
          1.2513458692262052,
          1.2993142573494376,
          1.3494293854037291,
          1.4014408907778244,
          1.455317064855148,
          1.5114478813255618,
          1.5699671252102878,
          1.6308223095079708,
          1.6938970442129002,
          1.7594846045406336,
          1.8278381959521215,
          1.8990374889831692,
          1.9729920307278128,
          2.0495701115050546,
          2.1291906442348107,
          2.2122623761923204,
          2.2988937053467318,
          2.3888935334120367,
          2.481949727703009,
          2.578667885255876,
          2.6795140529197936,
          2.784539411501399,
          2.8934517152222514,
          3.006485260485887,
          3.1241523234113586,
          3.246654799917768,
          3.3739452392289833,
          3.5059574759205248,
          3.6432091647765876,
          3.7860985397437035,
          3.9347789431186806,
          4.089161725702666,
          4.249203281053776,
          4.415619113035234,
          4.58897458380044,
          4.769441626501518,
          4.956800867292689,
          5.150885918055414,
          5.352701984710813,
          5.562859697273276,
          5.781463933320957,
          6.008205581751111,
          6.243626292751267,
          6.488547859371427,
          6.743355383598248,
          7.008063355562985,
          7.282666655064389,
          7.568073736117063,
          7.865009531872329,
          8.173818582677763,
          8.494470240857149,
          8.827024350656359,
          9.17269806410038,
          9.532460218402234,
          9.906698835738814,
          10.295224803590727,
          10.697981441223266,
          11.11662866054656,
          11.552252109400479,
          12.005183938355845,
          12.475093336396524,
          12.962855740170546,
          13.470037759322446,
          13.997487742211357,
          14.545426257919909,
          15.113820943055252,
          15.704236281150786,
          16.3181946195906,
          16.956526747224057,
          17.61939275544989,
          18.30681120819568,
          19.020868987188074,
          19.763549478688294,
          20.53582599107137,
          21.33767258478473,
          22.168663932878815,
          23.03155318126247,
          23.929313563432522,
          24.863217671953716,
          25.83284978394838,
          26.837231885964542,
          27.880296216774365,
          28.964999532058975,
          30.092321550418514,
          31.261644215308195,
          32.47506265659585,
          33.73586584000484,
          35.04588967219536,
          36.40582901724345,
          37.816421834029995,
          39.28115659189322,
          40.80296302482302,
          42.3836457359881,
          44.02389556245517,
          45.724269363957994,
          47.48943316937232,
          49.32392145272048,
          51.23010870798003,
          53.208223875587635,
          55.25722061016004,
          57.38283915869943,
          59.59116628339704,
          61.884825256825565,
          64.2633132843967,
          66.72835948067271,
          69.28706695763627,
          71.94380479861373,
          74.70047321639659,
          77.55708691990365,
          80.51879768252039,
          83.59283371068847,
          86.78359399964819,
          90.09266662436922,
          93.51937325975769,
          97.06989342332949,
          100.75483700350752,
          104.58013516843936,
          108.54676066390117,
          112.65126640571584,
          116.9009320531378,
          121.3091719545843,
          125.88208699249107,
          130.61930014020118,
          135.5198129153725,
          140.5970650922051,
          145.86052674398468,
          151.31411093040884,
          156.9565875352025,
          162.79356713906512,
          168.8397782171005,
          175.10418670069404,
          181.589384909591,
          188.29204474128028,
          195.2192712774163,
          202.3916475603289,
          209.82065803251538,
          217.50720833535792,
          225.44224863002464,
          233.63493986270848,
          242.11046648796273,
          250.8793406221406,
          259.9388223641104,
          269.28215913221527,
          278.93207260964033,
          288.90558813683094,
          299.2073924403433,
          309.8305985688121,
          320.77989625898084,
          332.08175640045056,
          343.75036590790853,
          355.78550487233775,
          368.1737551319733,
          380.924967126551,
          394.0744008362423,
          407.6373670537915,
          421.6069701221597,
          435.957681091685,
          450.70984585274323,
          465.90118556087555,
          481.54030597681873,
          497.6095220304019,
          514.0937241351436,
          531.0321461290021,
          548.444298956116,
          566.3246701215546,
          584.6459468527572,
          603.4199279483292,
          622.6852440652842,
          642.4513311991218,
          662.6976927903097,
          683.3857136341821,
          704.5485778446545,
          726.2293312045742,
          748.4284498912142,
          771.1042406117639,
          794.2042446100181,
          817.7895037164583,
          841.9076069232514,
          866.5455884880088,
          891.6307485170379,
          917.1212581791134,
          943.1005087385767,
          969.5838629176546,
          996.5284134512733,
          1023.8673312671559,
          1051.645606101462,
          1079.8857774326923,
          1108.5623078534436,
          1137.6088054333254,
          1167.0231140182457,
          1196.8511331987143,
          1227.0882635077512,
          1257.67745451512,
          1288.5332995127555,
          1319.699460100138,
          1351.2304165424061,
          1383.1049871617768,
          1415.2268436867785,
          1447.502571745312,
          1480.0252833494646,
          1512.8211533764159,
          1545.8342162035422,
          1578.9472249300918,
          1612.1843902249925,
          1645.5954212439672,
          1679.1543332026893,
          1712.7656960017464,
          1746.3677523406232,
          1780.0336301514512,
          1813.7771524388613,
          1847.5365568022864,
          1881.185316079506,
          1914.7302574170733,
          1948.2593457832802,
          1981.7677995434979,
          2015.1570632849473,
          2048.279445171522,
          2081.2189364875144,
          2114.067123027568,
          2146.7960428165725,
          2179.2613832495076,
          2211.328747359263,
          2243.159609750447,
          2274.8335067106555,
          2306.288951271942,
          2337.328010623071,
          2367.9284569377605,
          2398.2490025286857,
          2428.2918826956056,
          2457.94456751627,
          2487.1261278931966,
          2515.9392358304717,
          2544.398857512162,
          2572.448117847596,
          2599.9964013144418,
          2627.1021418819946,
          2653.8177816325956,
          2680.126756207433,
          2705.945161597089,
          2731.1974747483887,
          2755.9961011877162,
          2780.412510857742,
          2804.420318528398,
          2827.8958877992827,
          2850.7525009002334,
          2873.15665478192,
          2895.1596123602076,
          2916.704939463973,
          2937.667339097143,
          2958.12569039268,
          2978.1565666916144,
          2997.75108466227,
          3016.8250197964057,
          3035.3490147406364,
          3053.428476657307,
          3071.1027426080286,
          3088.3373569062446,
          3105.0295788148273,
          3121.189840678193,
          3136.9520030205904,
          3152.3587879145157,
          3167.3537817461684,
          3181.794108945593,
          3195.736754827684,
          3209.3200413588147,
          3222.557547092335,
          3235.3581938064485,
          3247.653561623913,
          3259.5722334194515,
          3271.159150922619,
          3282.382617363204,
          3293.1503174175505,
          3303.5086821157315,
          3313.550559515445,
          3323.292605051671,
          3332.679321822577,
          3341.6161069610926,
          3350.1921083230036,
          3358.513543184666,
          3366.590046243966,
          3374.3362045633016,
          3381.6349639948476,
          3388.62723584345,
          3395.4019156477502,
          3401.9384701864196,
          3408.121377920304,
          3413.967645913207,
          3419.588294447821,
          3425.0035162521203,
          3430.1579098050915,
          3434.973017506905,
          3439.5424783589706,
          3443.933758372324,
          3448.14066006168,
          3452.085374120403,
          3455.7072514141896,
          3459.133126546056,
          3462.435780225378,
          3465.594243040586,
          3468.494370470308,
          3471.0864687344365,
          3473.529502225252,
          3475.870456222808,
          3478.0563796636575,
          3479.9719440715253,
          3481.702025165725,
          3483.325767251801,
          3484.8386202604693,
          3486.161479586425,
          3487.259555977318,
          3488.2389494458707,
          3489.1415185853175,
          3489.9377822211186,
          3490.530896357863,
          3490.922778485022,
          3491.2388101745696,
          3491.520042506886,
          3491.715648265107,
          3491.6933479241043,
          3491.4974421196202,
          3491.256331723912,
          3490.983738281324,
          3490.595640564544,
          3490.0122219452073,
          3489.3527490912124,
          3488.663835424353,
          3487.9167583513176,
          3487.0176341977,
          3485.9908420985475,
          3484.9294354112317,
          3483.85192283509,
          3482.7060760406566,
          3481.392391963466,
          3479.977997385468,
          3478.5655204046757,
          3477.165724728368,
          3475.6991941832453,
          3474.0462910185893,
          3472.3251413617063,
          3470.621982545926,
          3468.9189269669746,
          3467.1054328854652,
          3465.174378215117,
          3463.234455449397,
          3461.307198649148,
          3459.340543868917,
          3457.2459526986736,
          3455.099200352531,
          3452.9694562626482,
          3450.8525992274326,
          3448.6743839064716,
          3446.360279410203,
          3444.022134133098,
          3441.731231185454,
          3439.4694402735217,
          3437.1301234497305,
          3434.6491502489203,
          3432.172412173082,
          3429.74644867538,
          3427.323404814752,
          3424.787072080216,
          3422.2010294041697,
          3419.6464195906756,
          3417.1214829552155,
          3414.551649034978,
          3411.8828339006795,
          3409.215503677074,
          3406.5935763386083,
          3403.99102173989,
          3401.313920253675,
          3398.545404721891,
          3395.8042410168405,
          3393.1321633550874,
          3390.4835082333907,
          3387.730107394213,
          3384.8723693718584,
          3382.0696799803886,
          3379.370487299288,
          3376.702399744901,
          3373.8905645043405,
          3371.009952177459,
          3368.194901946774,
          3365.4401602168623,
          3362.636231765343,
          3359.767833420831,
          3356.9284861970937,
          3354.129219740324,
          3351.321768749996,
          3348.4508467536257,
          3345.583972218336,
          3342.759940498171,
          3339.9667857240984,
          3337.142468046079,
          3334.234474915078,
          3331.3405768180696,
          3328.526402222654,
          3325.7772877517023,
          3322.9987437733007,
          3320.091851651046,
          3317.199271775608,
          3314.3829002851794,
          3311.6040258838498,
          3308.7524679705234,
          3305.8811523809422,
          3303.0563910320066,
          3300.2735051404793,
          3297.468471380461,
          3294.608943946835,
          3291.773888503819,
          3288.99517353487,
          3286.2487663162087,
          3283.4558029306813,
          3280.5903051110977,
          3277.765652725981,
          3275.032533936369,
          3272.3558143448986,
          3269.615058428688,
          3266.7749306122155,
          3263.9846386758213,
          3261.2738765954205,
          3258.5775455962644,
          3255.802068407015,
          3253.0396002609486,
          3250.3324588431256,
          3247.6594248908505,
          3244.9454168446505,
          3242.201092369992,
          3239.4987968390005,
          3236.8541674872044,
          3234.2275779761526,
          3231.53363590271,
          3228.802419538095,
          3226.1370807858575,
          3223.5615531193935,
          3221.0167363830697,
          3218.3725889967727,
          3215.683817139243,
          3213.064747920662,
          3210.516960459637,
          3207.9498130207558,
          3205.320179248133,
          3202.7259385588472,
          3200.1895434586827,
          3197.6732162001554,
          3195.102030291062,
          3192.5253895589476,
          3190.0024596148196,
          3187.534016626346,
          3185.064966709563,
          3182.5168778616417,
          3179.9670110107863,
          3177.4982413328767,
          3175.110695084663,
          3172.7223986663594,
          3170.2198378975286,
          3167.722223141706,
          3165.3044061740393,
          3162.941475489113,
          3160.5267843340507,
          3158.0801306340463,
          3155.682181538411,
          3153.3388015440764,
          3150.9955281269918,
          3148.5948279616437,
          3146.212204235361,
          3143.88987759315,
          3141.6132230652966,
          3139.3114826926985,
          3136.9359007552234,
          3134.590722828186,
          3132.3339895628837,
          3130.1423721739257,
          3127.9116524971255,
          3125.581152342404,
          3123.2925741724416,
          3121.0852366345543,
          3118.908734297794,
          3116.6602921965004,
          3114.4115683375476,
          3112.2196726016523,
          3110.0737856634582,
          3107.90362376349,
          3105.6891640682056,
          3103.51030505544,
          3101.393593052998,
          3099.3088009661183,
          3097.1725278885956,
          3094.9850151619326,
          3092.8517808825745,
          3090.807014713886,
          3088.8045003596008,
          3086.722899855539,
          3084.5835557407495,
          3082.505882125265,
          3080.5022896414766,
          3078.497309443229,
          3076.418509744708,
          3074.363920162776,
          3072.3671588559964,
          3070.3993105900086,
          3068.379610127731,
          3066.3305772738026,
          3064.324636753908,
          3062.3716816249726,
          3060.421110214708,
          3058.381837803408,
          3056.3118893289056,
          3054.3099552286735,
          3052.388783443908,
          3050.4751594415766,
          3048.4565880163063,
          3046.4562608342717,
          3044.5638699177102,
          3042.7684210555667,
          3040.974230520111,
          3039.1963332118166,
          3037.5215902390546,
          3035.961517136831,
          3034.4703732047415,
          3032.9876275730594,
          3031.5766799054913,
          3030.2793586398016,
          3029.0851214387862,
          3027.9323418621375,
          3026.7520325380224,
          3025.6298321411223,
          3024.637259076839,
          3023.764401368099,
          3022.920673188198,
          3021.99231327088,
          3021.105956285232,
          3020.33009571797,
          3019.6322895299813,
          3018.9021129244015,
          3018.1711480152453,
          3017.5100597899786,
          3016.917784430958,
          3016.3354284695315,
          3015.7161217234534,
          3015.1339362939148,
          3014.623809695359,
          3014.1666123465584,
          3013.68971649002,
          3013.1492136735073,
          3012.651618266826,
          3012.2550713589503,
          3011.935087517923,
          3011.585277284761,
          3011.136509881013,
          3010.740114164424,
          3010.441933663201,
          3010.195015178259,
          3009.8978012846114,
          3009.6268997904704,
          3009.444182026549,
          3009.345243187641,
          3009.2689876492705,
          3009.2011194930947,
          3009.2168819704007,
          3009.339522814904,
          3009.538538584587,
          3009.7309655024587,
          3009.8838650648913,
          3010.097813656528,
          3010.4128523668755,
          3010.784834309746,
          3011.08615718693,
          3011.259942833687,
          3011.4600312944926,
          3011.716055836436,
          3011.961615121036,
          3012.103032600473,
          3012.2300640420062,
          3012.3810228875845,
          3012.534457614531,
          3012.6203211905326,
          3012.65517487704,
          3012.7051819036988,
          3012.784004543512,
          3012.8545141256473,
          3012.83695722455,
          3012.7585105363705,
          3012.7231663360053,
          3012.758672228386,
          3012.811497410791,
          3012.7526457686517,
          3012.6128258735757,
          3012.5208026086766,
          3012.4869634146157,
          3012.428597461392,
          3012.2871782315037,
          3012.161510615167,
          3012.077793391886,
          3012.0046958598928,
          3011.8703310184874,
          3011.7141479117295,
          3011.5979239025028,
          3011.5289070091253,
          3011.462464326074,
          3011.3211574730894,
          3011.164579051327,
          3011.0888181838427,
          3011.112500708668,
          3011.176537164934,
          3011.1634521544697,
          3011.1566737592557,
          3011.2653789062038,
          3011.490112507443,
          3011.7404299078526,
          3011.975585579888,
          3012.2833577006304,
          3012.674550199561,
          3013.0992634733075,
          3013.4643920979365,
          3013.7978017486857,
          3014.159056370396,
          3014.544402386352,
          3014.8881244871404,
          3015.0901927608315,
          3015.222885182166,
          3015.3842852535295,
          3015.57867237765,
          3015.7174913138974,
          3015.6783809631115,
          3015.592204050247,
          3015.5360924733295,
          3015.4848308606147,
          3015.3313626477716,
          3015.1032129530245,
          3014.8805836188185,
          3014.6691861602103,
          3014.415768222991,
          3014.071499259062,
          3013.7123018430498,
          3013.376992608019,
          3013.0512496292854,
          3012.6682311273144,
          3012.187543812035,
          3011.7106973189307,
          3011.293150499105,
          3010.9135068389664,
          3010.474105182754,
          3009.912609521651,
          3009.368035776783,
          3008.8832557735445,
          3008.413943413881,
          3007.8591013706264,
          3007.2832197875377,
          3006.7484963193365,
          3006.250506088094,
          3005.727220533747,
          3005.1515163856543,
          3004.6053644483027,
          3004.123230779882,
          3003.6866119880797,
          3003.225422968223,
          3002.7253957567978,
          3002.289901310244,
          3001.9612760864984,
          3001.7061529057655,
          3001.4161168007736,
          3001.0574232095437,
          3000.748892999821,
          3000.5108118865096,
          3000.279987922881,
          2999.953969029672,
          2999.605555824558,
          2999.28453034196,
          2998.974448998581,
          2998.5990134142294,
          2998.1402145216007,
          2997.68158575909,
          2997.249733952459,
          2996.812064441722,
          2996.28258485414,
          2995.6752135624643,
          2995.090997268821,
          2994.557465061471,
          2994.025378403388,
          2993.3808214465207,
          2992.6714508299906,
          2991.999464026145,
          2991.371495231136,
          2990.712521899971,
          2989.9580475137536,
          2989.2079021967565,
          2988.4981428076317,
          2987.802293867792,
          2987.0397569136226,
          2986.2300752900896,
          2985.4499842469604,
          2984.7140722218323,
          2983.9780935619274,
          2983.156616608099,
          2982.300722420322,
          2981.497537786046,
          2980.7581918065184,
          2980.019142631923,
          2979.1756103285275,
          2978.3174647501414,
          2977.524472959465,
          2976.789029220945,
          2976.025391421943,
          2975.2099254114705,
          2974.440193467301,
          2973.74223589485,
          2973.0829136788743,
          2972.3870392092226,
          2971.6959759156066,
          2971.067761614752,
          2970.5013873819275,
          2969.9408464412395,
          2969.297583440704,
          2968.6228048390467,
          2967.9928961243495,
          2967.406331509343,
          2966.7839319098007,
          2966.009088989471,
          2965.1834326757003,
          2964.381043031682,
          2963.5820275674732,
          2962.689675620773,
          2961.717215345228,
          2960.7413477913005,
          2959.770380409637,
          2958.758740166074,
          2957.6563909812726,
          2956.531048466394,
          2955.4219652553134,
          2954.3192763936877,
          2953.1647399353174,
          2951.9149349818776,
          2950.660727756994,
          2949.456592944281,
          2948.287063519029,
          2947.067202614949,
          2945.7318569252334,
          2944.4057729612186,
          2943.132207555985,
          2941.8748308335053,
          2940.5406850143195,
          2939.1800401756677,
          2937.852610748709,
          2936.5560006158707,
          2935.234764425368,
          2933.854587663249,
          2932.4880787970633,
          2931.166923622545,
          2929.873208463476,
          2928.5402378831473,
          2927.1451390201323,
          2925.783331044813,
          2924.4983993846076,
          2923.2652902684454,
          2921.9908492562017,
          2920.650752343779,
          2919.3642591891457,
          2918.159826644841,
          2916.9898080673524,
          2915.7653634889357,
          2914.549657191131,
          2913.38777293584,
          2912.265141704029,
          2911.113721242159,
          2909.9029323562304,
          2908.704447395273,
          2907.5434397946638,
          2906.3912027354836,
          2905.167623265138,
          2903.8656347493857,
          2902.583307389963,
          2901.3535254469143,
          2900.135777805151,
          2898.822310005683,
          2897.438071785395,
          2896.0858976343593,
          2894.7771370066152,
          2893.4479808938427,
          2892.0346273365776,
          2890.6242459107675,
          2889.2494938827813,
          2887.888853425687,
          2886.4744318313756,
          2885.022655295613,
          2883.597868705758,
          2882.2125781573122,
          2880.8301699361073,
          2879.377982456941,
          2877.8954187968416,
          2876.46092486191,
          2875.087092193121,
          2873.720749261547,
          2872.263865783407,
          2870.7841608212107,
          2869.3590734991485,
          2867.9839803260093,
          2866.582722740532,
          2865.124755328469,
          2863.6948242453345,
          2862.315377722217,
          2860.956008819162,
          2859.54901684352,
          2858.1341655435454,
          2856.770653244537,
          2855.464597813601,
          2854.1720692284007,
          2852.8253979132496,
          2851.4876642239083,
          2850.2256928751535,
          2849.0367114803503,
          2847.849431284322,
          2846.570808161428,
          2845.2905696876305,
          2844.0574311574915,
          2842.839944387099,
          2841.5399548730825,
          2840.1686421063473,
          2838.800749794679,
          2837.4352836049743,
          2835.999359925037,
          2834.4350155726634,
          2832.76079926521,
          2830.6761027712796,
          2827.1350073139897,
          2820.1130624621596,
          2808.173090304379,
          2791.6473035914582,
          2771.5409949166824,
          2748.834232734381,
          2724.283019778235,
          2698.450229386255,
          2671.7181396456954,
          2644.2713308594134,
          2615.859850494042,
          2585.806603669114,
          2553.6611101751837,
          2519.6651928502597,
          2484.343967224297,
          2448.1420514112474,
          2411.4447948589136,
          2374.517783400494,
          2337.5513536235917,
          2300.6946129268294,
          2263.7895259350894,
          2226.4907794529295,
          2188.6803748199322,
          2150.4961215264107,
          2112.185202179846,
          2073.9791783362734,
          2036.128759084405,
          1998.79795125002,
          1962.0336800477987,
          1925.8418902770404,
          1890.158449305285,
          1854.653897110038,
          1819.119088608946,
          1783.6465433679916,
          1748.4393132190178,
          1713.6485858904923,
          1679.4082206509058,
          1645.8016654660237,
          1612.8719024387108,
          1580.5814372173813,
          1548.7868675260347,
          1517.1691753217697,
          1485.5173265300623,
          1453.8804023726748,
          1422.4350955468062,
          1391.3228407378717,
          1360.6540647436984,
          1330.5025953884642,
          1300.913226001475,
          1271.883950481684,
          1243.3553725948452,
          1215.1885404711315,
          1187.290457409158,
          1159.6726569401696,
          1132.406741410322,
          1105.5505697118385,
          1079.1387921144237,
          1053.199756961393,
          1027.7284486792546,
          1002.7774921743667,
          978.4724801690616,
          954.9188677976473,
          932.2013408880648,
          910.3075607005114,
          889.0660201771658,
          868.2734799314816,
          847.6979857778454,
          827.1727204290289,
          806.8175655527633,
          786.7750888481584,
          767.0921040220823,
          747.7864181690393,
          728.9514695457252,
          710.5844455440342,
          692.6806580115845,
          675.2242506409423,
          658.1929061859323,
          641.5747913743207,
          625.3692348408172,
          609.5638620609059,
          594.1310910857712,
          579.0439010250302,
          564.2655612772259,
          549.801546256773,
          535.6373956090922,
          521.7112264778218,
          507.945466724354,
          494.3063910441633,
          480.8497441755387,
          467.6038184888573,
          454.5099242974119,
          441.3216596166438,
          427.8973752557019,
          414.2858333643858,
          400.61716797905484,
          387.0004039281525,
          373.50646798561297,
          360.20453536055,
          347.17502729645116,
          334.4810198880882,
          322.17720884267504,
          310.2892695014123,
          298.82752756146454,
          287.80648395201916,
          277.2306216153663,
          267.14001773677154,
          257.60756365044745,
          248.6344735587386,
          240.15466868884073,
          232.09132718812754,
          224.38056496441058,
          216.98672580405005,
          209.87666860325203,
          203.03692009303842,
          196.4452030939819,
          190.05478342341232,
          183.80906004228345,
          177.67745876732016,
          171.69252752421548,
          165.89903112836694,
          160.31955347277037,
          154.95088573419244,
          149.7906364528004,
          144.83429798280378,
          140.08219129078154,
          135.534275579489,
          131.19080557264172,
          127.04886665586315,
          123.09659010981372,
          119.3204566618995,
          115.7006824154893,
          112.217922750638,
          108.85848419564951,
          105.61629276134957,
          102.49602908644,
          99.50701532014926,
          96.66308854798638,
          93.96756857262207,
          91.40433885968834,
          88.95004678187264,
          86.57351219850102,
          84.24842204022363,
          81.9722739309145,
          79.76002596379749,
          77.6207595633586,
          75.5589957580069,
          73.57608653278406,
          71.67160422642651,
          69.84512539519035,
          68.0978669807505,
          66.43256332654745,
          64.84682494470404,
          63.329173821606275,
          61.87339915608025,
          60.47474528866927,
          59.12778126860248,
          57.82660165586431,
          56.56723298047166,
          55.35114600931783,
          54.176528236833114,
          53.03565615446702,
          51.91693433723165,
          50.82367000514536,
          49.76497841193875,
          48.744534884989164,
          47.760093883185334,
          46.80484546867894,
          45.87711920205613,
          44.9796368883835,
          44.115710221077705,
          43.28509038512462,
          42.48492647412073,
          41.71283206282428,
          40.96978676475097,
          40.25826615659648,
          39.581115305989634,
          38.94415221339363,
          38.34786847593833,
          37.78731646489151,
          37.25953904612344,
          36.76699169915328,
          36.31679412346698,
          35.911602109636505,
          35.54368565631557,
          35.20339925992515,
          34.882135951228335,
          34.57540719151349,
          34.27801691730715,
          33.98788939436976,
          33.704674623453904,
          33.42212030670136,
          33.12876048589572,
          32.820642202044326,
          32.50256750858017,
          32.182901148501095,
          31.868236632449456,
          31.5639257223776,
          31.271158596152183,
          30.99178165203222,
          30.72895607261548,
          30.49008679469398,
          30.27635873413385,
          30.078718513088454,
          29.890238102007846,
          29.707966405827676,
          29.53149115799639,
          29.360523368111586,
          29.194791447789846,
          29.034116344237987,
          28.878423696599352,
          28.72639970924144,
          28.581857293729474,
          28.45215697539207,
          28.33764309965457,
          28.235297144610268,
          28.14113075240206,
          28.05273131017065,
          27.96899482953729,
          27.88845706057522,
          27.810029714470122,
          27.733599385767842,
          27.65868231843464,
          27.584730238525,
          27.51201215194748,
          27.44058700967577,
          27.370272334124557,
          27.300563728356227,
          27.231894870875337,
          27.164882535956107,
          27.0986435350164,
          27.030770818654645,
          26.958565701267737,
          26.88167740175846,
          26.800819952930315,
          26.71799541899832,
          26.63378980226975,
          26.548238362956898,
          26.461225394465764,
          26.373667653940167,
          26.283968740064655,
          26.186923583186527,
          26.078809309248552,
          25.962358065561997,
          25.844904278019282,
          25.728736696699006,
          25.613887570773763,
          25.499191845996055,
          25.38490436269892,
          25.27306280987557,
          25.16689243880446,
          25.076715621383318,
          25.007219302884895,
          24.949488625743207,
          24.895970159339697,
          24.84403676655219,
          24.792775839318267,
          24.741863366195524,
          24.691705181417586,
          24.642793576609936,
          24.596998330960083,
          24.561387280805555,
          24.536190258773246,
          24.5132003208267,
          24.487418050449598,
          24.45977742272133,
          24.436346162809475,
          24.42456299528299,
          24.42784266941189,
          24.441594311387696,
          24.458223258684967,
          24.466876437643357,
          24.462569277482796,
          24.452691154668916,
          24.445391591271864,
          24.44031927819867,
          24.431106563100954,
          24.41073660271753,
          24.375854098741403,
          24.32981141014029,
          24.27583798570738,
          24.214466199844203,
          24.14411526222468,
          24.07119914904077,
          24.001432086574514,
          23.935663067941167,
          23.874493002189137,
          23.81863662529904,
          23.768151632041036,
          23.72206561000887,
          23.679078574831344,
          23.637902739174656,
          23.59692510799432,
          23.555726972851186,
          23.513991535697947,
          23.471705419125467,
          23.43026101212619,
          23.391134241156628,
          23.354815914539962,
          23.3205083566966,
          23.287501281559717,
          23.254769531402154,
          23.22184548057995,
          23.188923742120767,
          23.155629451735678,
          23.12157563263128,
          23.084255223664453,
          23.040977795414598,
          22.99016511176063,
          22.934585573605663,
          22.878308879573066,
          22.82658652392278,
          22.779240769278477,
          22.73158318893594,
          22.680388912337754,
          22.626425952077796,
          22.572723574593486,
          22.522383127690414,
          22.476074871741147,
          22.433596424989236,
          22.393547829821536,
          22.354334356748897,
          22.313850216285037,
          22.271847777629283,
          22.2283279795552,
          22.184091472532664,
          22.140223552232523,
          22.097768073627346,
          22.057335835189896,
          22.01864146091414,
          21.981662170976506,
          21.946039498743712,
          21.911671266563403,
          21.880075456675243,
          21.851689028590734,
          21.82515346163382,
          21.798496696379424
         ],
         "yaxis": "y"
        }
       ],
       "layout": {
        "legend": {
         "tracegroupgap": 0
        },
        "margin": {
         "t": 60
        },
        "template": {
         "data": {
          "bar": [
           {
            "error_x": {
             "color": "#2a3f5f"
            },
            "error_y": {
             "color": "#2a3f5f"
            },
            "marker": {
             "line": {
              "color": "#E5ECF6",
              "width": 0.5
             },
             "pattern": {
              "fillmode": "overlay",
              "size": 10,
              "solidity": 0.2
             }
            },
            "type": "bar"
           }
          ],
          "barpolar": [
           {
            "marker": {
             "line": {
              "color": "#E5ECF6",
              "width": 0.5
             },
             "pattern": {
              "fillmode": "overlay",
              "size": 10,
              "solidity": 0.2
             }
            },
            "type": "barpolar"
           }
          ],
          "carpet": [
           {
            "aaxis": {
             "endlinecolor": "#2a3f5f",
             "gridcolor": "white",
             "linecolor": "white",
             "minorgridcolor": "white",
             "startlinecolor": "#2a3f5f"
            },
            "baxis": {
             "endlinecolor": "#2a3f5f",
             "gridcolor": "white",
             "linecolor": "white",
             "minorgridcolor": "white",
             "startlinecolor": "#2a3f5f"
            },
            "type": "carpet"
           }
          ],
          "choropleth": [
           {
            "colorbar": {
             "outlinewidth": 0,
             "ticks": ""
            },
            "type": "choropleth"
           }
          ],
          "contour": [
           {
            "colorbar": {
             "outlinewidth": 0,
             "ticks": ""
            },
            "colorscale": [
             [
              0,
              "#0d0887"
             ],
             [
              0.1111111111111111,
              "#46039f"
             ],
             [
              0.2222222222222222,
              "#7201a8"
             ],
             [
              0.3333333333333333,
              "#9c179e"
             ],
             [
              0.4444444444444444,
              "#bd3786"
             ],
             [
              0.5555555555555556,
              "#d8576b"
             ],
             [
              0.6666666666666666,
              "#ed7953"
             ],
             [
              0.7777777777777778,
              "#fb9f3a"
             ],
             [
              0.8888888888888888,
              "#fdca26"
             ],
             [
              1,
              "#f0f921"
             ]
            ],
            "type": "contour"
           }
          ],
          "contourcarpet": [
           {
            "colorbar": {
             "outlinewidth": 0,
             "ticks": ""
            },
            "type": "contourcarpet"
           }
          ],
          "heatmap": [
           {
            "colorbar": {
             "outlinewidth": 0,
             "ticks": ""
            },
            "colorscale": [
             [
              0,
              "#0d0887"
             ],
             [
              0.1111111111111111,
              "#46039f"
             ],
             [
              0.2222222222222222,
              "#7201a8"
             ],
             [
              0.3333333333333333,
              "#9c179e"
             ],
             [
              0.4444444444444444,
              "#bd3786"
             ],
             [
              0.5555555555555556,
              "#d8576b"
             ],
             [
              0.6666666666666666,
              "#ed7953"
             ],
             [
              0.7777777777777778,
              "#fb9f3a"
             ],
             [
              0.8888888888888888,
              "#fdca26"
             ],
             [
              1,
              "#f0f921"
             ]
            ],
            "type": "heatmap"
           }
          ],
          "heatmapgl": [
           {
            "colorbar": {
             "outlinewidth": 0,
             "ticks": ""
            },
            "colorscale": [
             [
              0,
              "#0d0887"
             ],
             [
              0.1111111111111111,
              "#46039f"
             ],
             [
              0.2222222222222222,
              "#7201a8"
             ],
             [
              0.3333333333333333,
              "#9c179e"
             ],
             [
              0.4444444444444444,
              "#bd3786"
             ],
             [
              0.5555555555555556,
              "#d8576b"
             ],
             [
              0.6666666666666666,
              "#ed7953"
             ],
             [
              0.7777777777777778,
              "#fb9f3a"
             ],
             [
              0.8888888888888888,
              "#fdca26"
             ],
             [
              1,
              "#f0f921"
             ]
            ],
            "type": "heatmapgl"
           }
          ],
          "histogram": [
           {
            "marker": {
             "pattern": {
              "fillmode": "overlay",
              "size": 10,
              "solidity": 0.2
             }
            },
            "type": "histogram"
           }
          ],
          "histogram2d": [
           {
            "colorbar": {
             "outlinewidth": 0,
             "ticks": ""
            },
            "colorscale": [
             [
              0,
              "#0d0887"
             ],
             [
              0.1111111111111111,
              "#46039f"
             ],
             [
              0.2222222222222222,
              "#7201a8"
             ],
             [
              0.3333333333333333,
              "#9c179e"
             ],
             [
              0.4444444444444444,
              "#bd3786"
             ],
             [
              0.5555555555555556,
              "#d8576b"
             ],
             [
              0.6666666666666666,
              "#ed7953"
             ],
             [
              0.7777777777777778,
              "#fb9f3a"
             ],
             [
              0.8888888888888888,
              "#fdca26"
             ],
             [
              1,
              "#f0f921"
             ]
            ],
            "type": "histogram2d"
           }
          ],
          "histogram2dcontour": [
           {
            "colorbar": {
             "outlinewidth": 0,
             "ticks": ""
            },
            "colorscale": [
             [
              0,
              "#0d0887"
             ],
             [
              0.1111111111111111,
              "#46039f"
             ],
             [
              0.2222222222222222,
              "#7201a8"
             ],
             [
              0.3333333333333333,
              "#9c179e"
             ],
             [
              0.4444444444444444,
              "#bd3786"
             ],
             [
              0.5555555555555556,
              "#d8576b"
             ],
             [
              0.6666666666666666,
              "#ed7953"
             ],
             [
              0.7777777777777778,
              "#fb9f3a"
             ],
             [
              0.8888888888888888,
              "#fdca26"
             ],
             [
              1,
              "#f0f921"
             ]
            ],
            "type": "histogram2dcontour"
           }
          ],
          "mesh3d": [
           {
            "colorbar": {
             "outlinewidth": 0,
             "ticks": ""
            },
            "type": "mesh3d"
           }
          ],
          "parcoords": [
           {
            "line": {
             "colorbar": {
              "outlinewidth": 0,
              "ticks": ""
             }
            },
            "type": "parcoords"
           }
          ],
          "pie": [
           {
            "automargin": true,
            "type": "pie"
           }
          ],
          "scatter": [
           {
            "fillpattern": {
             "fillmode": "overlay",
             "size": 10,
             "solidity": 0.2
            },
            "type": "scatter"
           }
          ],
          "scatter3d": [
           {
            "line": {
             "colorbar": {
              "outlinewidth": 0,
              "ticks": ""
             }
            },
            "marker": {
             "colorbar": {
              "outlinewidth": 0,
              "ticks": ""
             }
            },
            "type": "scatter3d"
           }
          ],
          "scattercarpet": [
           {
            "marker": {
             "colorbar": {
              "outlinewidth": 0,
              "ticks": ""
             }
            },
            "type": "scattercarpet"
           }
          ],
          "scattergeo": [
           {
            "marker": {
             "colorbar": {
              "outlinewidth": 0,
              "ticks": ""
             }
            },
            "type": "scattergeo"
           }
          ],
          "scattergl": [
           {
            "marker": {
             "colorbar": {
              "outlinewidth": 0,
              "ticks": ""
             }
            },
            "type": "scattergl"
           }
          ],
          "scattermapbox": [
           {
            "marker": {
             "colorbar": {
              "outlinewidth": 0,
              "ticks": ""
             }
            },
            "type": "scattermapbox"
           }
          ],
          "scatterpolar": [
           {
            "marker": {
             "colorbar": {
              "outlinewidth": 0,
              "ticks": ""
             }
            },
            "type": "scatterpolar"
           }
          ],
          "scatterpolargl": [
           {
            "marker": {
             "colorbar": {
              "outlinewidth": 0,
              "ticks": ""
             }
            },
            "type": "scatterpolargl"
           }
          ],
          "scatterternary": [
           {
            "marker": {
             "colorbar": {
              "outlinewidth": 0,
              "ticks": ""
             }
            },
            "type": "scatterternary"
           }
          ],
          "surface": [
           {
            "colorbar": {
             "outlinewidth": 0,
             "ticks": ""
            },
            "colorscale": [
             [
              0,
              "#0d0887"
             ],
             [
              0.1111111111111111,
              "#46039f"
             ],
             [
              0.2222222222222222,
              "#7201a8"
             ],
             [
              0.3333333333333333,
              "#9c179e"
             ],
             [
              0.4444444444444444,
              "#bd3786"
             ],
             [
              0.5555555555555556,
              "#d8576b"
             ],
             [
              0.6666666666666666,
              "#ed7953"
             ],
             [
              0.7777777777777778,
              "#fb9f3a"
             ],
             [
              0.8888888888888888,
              "#fdca26"
             ],
             [
              1,
              "#f0f921"
             ]
            ],
            "type": "surface"
           }
          ],
          "table": [
           {
            "cells": {
             "fill": {
              "color": "#EBF0F8"
             },
             "line": {
              "color": "white"
             }
            },
            "header": {
             "fill": {
              "color": "#C8D4E3"
             },
             "line": {
              "color": "white"
             }
            },
            "type": "table"
           }
          ]
         },
         "layout": {
          "annotationdefaults": {
           "arrowcolor": "#2a3f5f",
           "arrowhead": 0,
           "arrowwidth": 1
          },
          "autotypenumbers": "strict",
          "coloraxis": {
           "colorbar": {
            "outlinewidth": 0,
            "ticks": ""
           }
          },
          "colorscale": {
           "diverging": [
            [
             0,
             "#8e0152"
            ],
            [
             0.1,
             "#c51b7d"
            ],
            [
             0.2,
             "#de77ae"
            ],
            [
             0.3,
             "#f1b6da"
            ],
            [
             0.4,
             "#fde0ef"
            ],
            [
             0.5,
             "#f7f7f7"
            ],
            [
             0.6,
             "#e6f5d0"
            ],
            [
             0.7,
             "#b8e186"
            ],
            [
             0.8,
             "#7fbc41"
            ],
            [
             0.9,
             "#4d9221"
            ],
            [
             1,
             "#276419"
            ]
           ],
           "sequential": [
            [
             0,
             "#0d0887"
            ],
            [
             0.1111111111111111,
             "#46039f"
            ],
            [
             0.2222222222222222,
             "#7201a8"
            ],
            [
             0.3333333333333333,
             "#9c179e"
            ],
            [
             0.4444444444444444,
             "#bd3786"
            ],
            [
             0.5555555555555556,
             "#d8576b"
            ],
            [
             0.6666666666666666,
             "#ed7953"
            ],
            [
             0.7777777777777778,
             "#fb9f3a"
            ],
            [
             0.8888888888888888,
             "#fdca26"
            ],
            [
             1,
             "#f0f921"
            ]
           ],
           "sequentialminus": [
            [
             0,
             "#0d0887"
            ],
            [
             0.1111111111111111,
             "#46039f"
            ],
            [
             0.2222222222222222,
             "#7201a8"
            ],
            [
             0.3333333333333333,
             "#9c179e"
            ],
            [
             0.4444444444444444,
             "#bd3786"
            ],
            [
             0.5555555555555556,
             "#d8576b"
            ],
            [
             0.6666666666666666,
             "#ed7953"
            ],
            [
             0.7777777777777778,
             "#fb9f3a"
            ],
            [
             0.8888888888888888,
             "#fdca26"
            ],
            [
             1,
             "#f0f921"
            ]
           ]
          },
          "colorway": [
           "#636efa",
           "#EF553B",
           "#00cc96",
           "#ab63fa",
           "#FFA15A",
           "#19d3f3",
           "#FF6692",
           "#B6E880",
           "#FF97FF",
           "#FECB52"
          ],
          "font": {
           "color": "#2a3f5f"
          },
          "geo": {
           "bgcolor": "white",
           "lakecolor": "white",
           "landcolor": "#E5ECF6",
           "showlakes": true,
           "showland": true,
           "subunitcolor": "white"
          },
          "hoverlabel": {
           "align": "left"
          },
          "hovermode": "closest",
          "mapbox": {
           "style": "light"
          },
          "paper_bgcolor": "white",
          "plot_bgcolor": "#E5ECF6",
          "polar": {
           "angularaxis": {
            "gridcolor": "white",
            "linecolor": "white",
            "ticks": ""
           },
           "bgcolor": "#E5ECF6",
           "radialaxis": {
            "gridcolor": "white",
            "linecolor": "white",
            "ticks": ""
           }
          },
          "scene": {
           "xaxis": {
            "backgroundcolor": "#E5ECF6",
            "gridcolor": "white",
            "gridwidth": 2,
            "linecolor": "white",
            "showbackground": true,
            "ticks": "",
            "zerolinecolor": "white"
           },
           "yaxis": {
            "backgroundcolor": "#E5ECF6",
            "gridcolor": "white",
            "gridwidth": 2,
            "linecolor": "white",
            "showbackground": true,
            "ticks": "",
            "zerolinecolor": "white"
           },
           "zaxis": {
            "backgroundcolor": "#E5ECF6",
            "gridcolor": "white",
            "gridwidth": 2,
            "linecolor": "white",
            "showbackground": true,
            "ticks": "",
            "zerolinecolor": "white"
           }
          },
          "shapedefaults": {
           "line": {
            "color": "#2a3f5f"
           }
          },
          "ternary": {
           "aaxis": {
            "gridcolor": "white",
            "linecolor": "white",
            "ticks": ""
           },
           "baxis": {
            "gridcolor": "white",
            "linecolor": "white",
            "ticks": ""
           },
           "bgcolor": "#E5ECF6",
           "caxis": {
            "gridcolor": "white",
            "linecolor": "white",
            "ticks": ""
           }
          },
          "title": {
           "x": 0.05
          },
          "xaxis": {
           "automargin": true,
           "gridcolor": "white",
           "linecolor": "white",
           "ticks": "",
           "title": {
            "standoff": 15
           },
           "zerolinecolor": "white",
           "zerolinewidth": 2
          },
          "yaxis": {
           "automargin": true,
           "gridcolor": "white",
           "linecolor": "white",
           "ticks": "",
           "title": {
            "standoff": 15
           },
           "zerolinecolor": "white",
           "zerolinewidth": 2
          }
         }
        },
        "title": {
         "text": "",
         "x": 0.5
        },
        "xaxis": {
         "anchor": "y",
         "domain": [
          0,
          1
         ],
         "title": {
          "text": "Year"
         }
        },
        "yaxis": {
         "anchor": "x",
         "domain": [
          0,
          1
         ],
         "title": {
          "text": "Prevalance per 100,000 population"
         }
        }
       }
      }
     },
     "metadata": {},
     "output_type": "display_data"
    }
   ],
   "source": [
    "prev_plot = px.line(\n",
    "    derived_df_0,\n",
    "    x=derived_df_0.index,\n",
    "    y=\"prevalence_infectious\",\n",
    ")\n",
    "prev_plot.update_layout(\n",
    "    title=\"\", title_x=0.5, xaxis_title=\"Year\", yaxis_title=\"Prevalance per 100,000 population\"\n",
    ")\n",
    "prev_plot.show()"
   ]
  },
  {
   "cell_type": "code",
   "execution_count": 19,
   "metadata": {},
   "outputs": [
    {
     "data": {
      "text/html": [
       "<div>\n",
       "<style scoped>\n",
       "    .dataframe tbody tr th:only-of-type {\n",
       "        vertical-align: middle;\n",
       "    }\n",
       "\n",
       "    .dataframe tbody tr th {\n",
       "        vertical-align: top;\n",
       "    }\n",
       "\n",
       "    .dataframe thead th {\n",
       "        text-align: right;\n",
       "    }\n",
       "</style>\n",
       "<table border=\"1\" class=\"dataframe\">\n",
       "  <thead>\n",
       "    <tr style=\"text-align: right;\">\n",
       "      <th></th>\n",
       "      <th>cumulative_deaths</th>\n",
       "      <th>cumulative_diseased</th>\n",
       "      <th>incidence</th>\n",
       "      <th>incidence_early</th>\n",
       "      <th>incidence_late</th>\n",
       "      <th>notifications</th>\n",
       "      <th>percentage_latent</th>\n",
       "      <th>prevalence_infectious</th>\n",
       "      <th>total_population</th>\n",
       "    </tr>\n",
       "  </thead>\n",
       "  <tbody>\n",
       "    <tr>\n",
       "      <th>1900.0</th>\n",
       "      <td>0.000000</td>\n",
       "      <td>0.000000</td>\n",
       "      <td>0.000000</td>\n",
       "      <td>0.000000</td>\n",
       "      <td>0.000000</td>\n",
       "      <td>1.015687</td>\n",
       "      <td>0.000000</td>\n",
       "      <td>0.303030</td>\n",
       "      <td>3.300000e+05</td>\n",
       "    </tr>\n",
       "    <tr>\n",
       "      <th>1900.1</th>\n",
       "      <td>0.000000</td>\n",
       "      <td>0.000000</td>\n",
       "      <td>0.547569</td>\n",
       "      <td>1.806555</td>\n",
       "      <td>0.000088</td>\n",
       "      <td>1.004449</td>\n",
       "      <td>0.000323</td>\n",
       "      <td>0.298977</td>\n",
       "      <td>3.299391e+05</td>\n",
       "    </tr>\n",
       "    <tr>\n",
       "      <th>1900.2</th>\n",
       "      <td>0.000000</td>\n",
       "      <td>0.000000</td>\n",
       "      <td>1.388268</td>\n",
       "      <td>4.579299</td>\n",
       "      <td>0.000405</td>\n",
       "      <td>0.996582</td>\n",
       "      <td>0.000623</td>\n",
       "      <td>0.302896</td>\n",
       "      <td>3.298861e+05</td>\n",
       "    </tr>\n",
       "    <tr>\n",
       "      <th>1900.3</th>\n",
       "      <td>0.000000</td>\n",
       "      <td>0.000000</td>\n",
       "      <td>1.851945</td>\n",
       "      <td>6.107514</td>\n",
       "      <td>0.000961</td>\n",
       "      <td>1.010634</td>\n",
       "      <td>0.000911</td>\n",
       "      <td>0.310701</td>\n",
       "      <td>3.298411e+05</td>\n",
       "    </tr>\n",
       "    <tr>\n",
       "      <th>1900.4</th>\n",
       "      <td>0.000000</td>\n",
       "      <td>0.000000</td>\n",
       "      <td>2.132679</td>\n",
       "      <td>7.031971</td>\n",
       "      <td>0.001690</td>\n",
       "      <td>1.035891</td>\n",
       "      <td>0.001194</td>\n",
       "      <td>0.320513</td>\n",
       "      <td>3.298039e+05</td>\n",
       "    </tr>\n",
       "    <tr>\n",
       "      <th>...</th>\n",
       "      <td>...</td>\n",
       "      <td>...</td>\n",
       "      <td>...</td>\n",
       "      <td>...</td>\n",
       "      <td>...</td>\n",
       "      <td>...</td>\n",
       "      <td>...</td>\n",
       "      <td>...</td>\n",
       "      <td>...</td>\n",
       "    </tr>\n",
       "    <tr>\n",
       "      <th>2019.6</th>\n",
       "      <td>116060.715386</td>\n",
       "      <td>322962.949230</td>\n",
       "      <td>174.596035</td>\n",
       "      <td>1468.373107</td>\n",
       "      <td>652.298670</td>\n",
       "      <td>1422.478580</td>\n",
       "      <td>35.854482</td>\n",
       "      <td>21.911671</td>\n",
       "      <td>1.214616e+06</td>\n",
       "    </tr>\n",
       "    <tr>\n",
       "      <th>2019.7</th>\n",
       "      <td>116109.991520</td>\n",
       "      <td>323175.055421</td>\n",
       "      <td>174.597477</td>\n",
       "      <td>1470.400077</td>\n",
       "      <td>650.661836</td>\n",
       "      <td>1420.769521</td>\n",
       "      <td>35.764242</td>\n",
       "      <td>21.880075</td>\n",
       "      <td>1.214830e+06</td>\n",
       "    </tr>\n",
       "    <tr>\n",
       "      <th>2019.8</th>\n",
       "      <td>116159.220825</td>\n",
       "      <td>323387.191709</td>\n",
       "      <td>174.591817</td>\n",
       "      <td>1472.334248</td>\n",
       "      <td>649.028629</td>\n",
       "      <td>1419.273982</td>\n",
       "      <td>35.674202</td>\n",
       "      <td>21.851689</td>\n",
       "      <td>1.215041e+06</td>\n",
       "    </tr>\n",
       "    <tr>\n",
       "      <th>2019.9</th>\n",
       "      <td>116208.410064</td>\n",
       "      <td>323599.280567</td>\n",
       "      <td>174.522603</td>\n",
       "      <td>1473.489532</td>\n",
       "      <td>647.399052</td>\n",
       "      <td>1417.948833</td>\n",
       "      <td>35.584334</td>\n",
       "      <td>21.825153</td>\n",
       "      <td>1.215252e+06</td>\n",
       "    </tr>\n",
       "    <tr>\n",
       "      <th>2020.0</th>\n",
       "      <td>116257.559928</td>\n",
       "      <td>323811.182621</td>\n",
       "      <td>174.338980</td>\n",
       "      <td>1473.247534</td>\n",
       "      <td>645.773008</td>\n",
       "      <td>1416.652545</td>\n",
       "      <td>35.494632</td>\n",
       "      <td>21.798497</td>\n",
       "      <td>1.215460e+06</td>\n",
       "    </tr>\n",
       "  </tbody>\n",
       "</table>\n",
       "<p>1201 rows × 9 columns</p>\n",
       "</div>"
      ],
      "text/plain": [
       "        cumulative_deaths  cumulative_diseased   incidence  incidence_early  \\\n",
       "1900.0           0.000000             0.000000    0.000000         0.000000   \n",
       "1900.1           0.000000             0.000000    0.547569         1.806555   \n",
       "1900.2           0.000000             0.000000    1.388268         4.579299   \n",
       "1900.3           0.000000             0.000000    1.851945         6.107514   \n",
       "1900.4           0.000000             0.000000    2.132679         7.031971   \n",
       "...                   ...                  ...         ...              ...   \n",
       "2019.6      116060.715386        322962.949230  174.596035      1468.373107   \n",
       "2019.7      116109.991520        323175.055421  174.597477      1470.400077   \n",
       "2019.8      116159.220825        323387.191709  174.591817      1472.334248   \n",
       "2019.9      116208.410064        323599.280567  174.522603      1473.489532   \n",
       "2020.0      116257.559928        323811.182621  174.338980      1473.247534   \n",
       "\n",
       "        incidence_late  notifications  percentage_latent  \\\n",
       "1900.0        0.000000       1.015687           0.000000   \n",
       "1900.1        0.000088       1.004449           0.000323   \n",
       "1900.2        0.000405       0.996582           0.000623   \n",
       "1900.3        0.000961       1.010634           0.000911   \n",
       "1900.4        0.001690       1.035891           0.001194   \n",
       "...                ...            ...                ...   \n",
       "2019.6      652.298670    1422.478580          35.854482   \n",
       "2019.7      650.661836    1420.769521          35.764242   \n",
       "2019.8      649.028629    1419.273982          35.674202   \n",
       "2019.9      647.399052    1417.948833          35.584334   \n",
       "2020.0      645.773008    1416.652545          35.494632   \n",
       "\n",
       "        prevalence_infectious  total_population  \n",
       "1900.0               0.303030      3.300000e+05  \n",
       "1900.1               0.298977      3.299391e+05  \n",
       "1900.2               0.302896      3.298861e+05  \n",
       "1900.3               0.310701      3.298411e+05  \n",
       "1900.4               0.320513      3.298039e+05  \n",
       "...                       ...               ...  \n",
       "2019.6              21.911671      1.214616e+06  \n",
       "2019.7              21.880075      1.214830e+06  \n",
       "2019.8              21.851689      1.215041e+06  \n",
       "2019.9              21.825153      1.215252e+06  \n",
       "2020.0              21.798497      1.215460e+06  \n",
       "\n",
       "[1201 rows x 9 columns]"
      ]
     },
     "execution_count": 19,
     "metadata": {},
     "output_type": "execute_result"
    }
   ],
   "source": [
    "derived_df_0"
   ]
  }
 ],
 "metadata": {
  "kernelspec": {
   "display_name": "autumn",
   "language": "python",
   "name": "python3"
  },
  "language_info": {
   "codemirror_mode": {
    "name": "ipython",
    "version": 3
   },
   "file_extension": ".py",
   "mimetype": "text/x-python",
   "name": "python",
   "nbconvert_exporter": "python",
   "pygments_lexer": "ipython3",
   "version": "3.10.0"
  },
  "vscode": {
   "interpreter": {
    "hash": "32546788be758822ecff2a88079b35480b7d02e1a3a7c2c2e0e8f52550974ab3"
   }
  }
 },
 "nbformat": 4,
 "nbformat_minor": 4
}
