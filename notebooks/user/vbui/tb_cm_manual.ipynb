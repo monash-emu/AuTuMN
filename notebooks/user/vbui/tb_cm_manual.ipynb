{
 "cells": [
  {
   "cell_type": "code",
   "execution_count": 1,
   "metadata": {},
   "outputs": [],
   "source": [
    "import warnings\n",
    "from typing import List\n",
    "\n",
    "import pandas as pd\n",
    "import plotly.graph_objects as go\n",
    "import plotly.express as px\n",
    "from plotly.subplots import make_subplots\n",
    "from autumn.core.inputs.database import get_input_db\n",
    "from autumn.core.project import get_project\n",
    "from autumn.settings import Region, Models\n",
    "from autumn.core import inputs\n",
    "from autumn.core.inputs.social_mixing.build_synthetic_matrices import build_synthetic_matrices\n",
    "from autumn.core.utils.display import pretty_print\n",
    "from autumn.core.inputs.tb_camau import queries\n",
    "import pathlib\n",
    "from autumn.model_features.curve.interpolate import build_static_sigmoidal_multicurve\n",
    "from summer2.parameters.params import Function\n",
    "import jax\n",
    "import numpy as np"
   ]
  },
  {
   "cell_type": "code",
   "execution_count": 2,
   "metadata": {},
   "outputs": [],
   "source": [
    "warnings.filterwarnings(\"ignore\")\n",
    "pd.options.plotting.backend = \"plotly\""
   ]
  },
  {
   "cell_type": "code",
   "execution_count": 3,
   "metadata": {},
   "outputs": [],
   "source": [
    "csv_path = pathlib.Path(\"camau.csv\")"
   ]
  },
  {
   "cell_type": "code",
   "execution_count": 4,
   "metadata": {},
   "outputs": [],
   "source": [
    "region = Region.CAMAU\n",
    "model = Models.TBD2\n",
    "p = get_project(model, region, reload=True)\n",
    "baseline_params = p.param_set.baseline"
   ]
  },
  {
   "cell_type": "code",
   "execution_count": 5,
   "metadata": {},
   "outputs": [],
   "source": [
    "iso3 = baseline_params['country']['iso3']\n",
    "source_iso3 = baseline_params['age_mixing']['source_iso3']\n",
    "age_adjust = baseline_params['age_mixing']['age_adjust']\n",
    "age_string_map = {\n",
    "    0: \"0-4\",\n",
    "    5: \"5-14\",\n",
    "    15: \"15-34\",\n",
    "    35: \"35-49\",\n",
    "    50: \"50+\",\n",
    "}"
   ]
  },
  {
   "cell_type": "markdown",
   "metadata": {},
   "source": [
    "## Population"
   ]
  },
  {
   "cell_type": "code",
   "execution_count": 6,
   "metadata": {},
   "outputs": [
    {
     "name": "stdout",
     "output_type": "stream",
     "text": [
      "Modelled age groups are [0, 5, 15, 35, 50]\n"
     ]
    }
   ],
   "source": [
    "modelled_age_groups = baseline_params[\"age_breakpoints\"]\n",
    "print(f\"Modelled age groups are {modelled_age_groups}\")"
   ]
  },
  {
   "cell_type": "code",
   "execution_count": 7,
   "metadata": {},
   "outputs": [
    {
     "data": {
      "application/vnd.plotly.v1+json": {
       "config": {
        "plotlyServerURL": "https://plot.ly"
       },
       "data": [
        {
         "hovertemplate": "variable=population<br>year=%{x}<br>value=%{y}<extra></extra>",
         "legendgroup": "population",
         "line": {
          "color": "#636efa",
          "dash": "solid"
         },
         "marker": {
          "symbol": "circle"
         },
         "mode": "lines",
         "name": "population",
         "orientation": "v",
         "showlegend": true,
         "type": "scatter",
         "x": [
          1995,
          1996,
          1997,
          1998,
          1999,
          2000,
          2001,
          2002,
          2003,
          2004,
          2005,
          2006,
          2007,
          2008,
          2009,
          2010,
          2011,
          2012,
          2013,
          2014,
          2015,
          2016,
          2017,
          2018,
          2019
         ],
         "xaxis": "x",
         "y": [
          1041800,
          1061600,
          1081100,
          1101800,
          1123500,
          1133900,
          1145200,
          1155300,
          1164500,
          1174400,
          1182900,
          1188700,
          1195200,
          1201700,
          1207100,
          1205840,
          1204500,
          1203460,
          1202070,
          1200740,
          1199500,
          1198100,
          1197000,
          1195600,
          1194300
         ],
         "yaxis": "y"
        }
       ],
       "layout": {
        "legend": {
         "title": {
          "text": "variable"
         },
         "tracegroupgap": 0
        },
        "margin": {
         "t": 60
        },
        "template": {
         "data": {
          "bar": [
           {
            "error_x": {
             "color": "#2a3f5f"
            },
            "error_y": {
             "color": "#2a3f5f"
            },
            "marker": {
             "line": {
              "color": "#E5ECF6",
              "width": 0.5
             },
             "pattern": {
              "fillmode": "overlay",
              "size": 10,
              "solidity": 0.2
             }
            },
            "type": "bar"
           }
          ],
          "barpolar": [
           {
            "marker": {
             "line": {
              "color": "#E5ECF6",
              "width": 0.5
             },
             "pattern": {
              "fillmode": "overlay",
              "size": 10,
              "solidity": 0.2
             }
            },
            "type": "barpolar"
           }
          ],
          "carpet": [
           {
            "aaxis": {
             "endlinecolor": "#2a3f5f",
             "gridcolor": "white",
             "linecolor": "white",
             "minorgridcolor": "white",
             "startlinecolor": "#2a3f5f"
            },
            "baxis": {
             "endlinecolor": "#2a3f5f",
             "gridcolor": "white",
             "linecolor": "white",
             "minorgridcolor": "white",
             "startlinecolor": "#2a3f5f"
            },
            "type": "carpet"
           }
          ],
          "choropleth": [
           {
            "colorbar": {
             "outlinewidth": 0,
             "ticks": ""
            },
            "type": "choropleth"
           }
          ],
          "contour": [
           {
            "colorbar": {
             "outlinewidth": 0,
             "ticks": ""
            },
            "colorscale": [
             [
              0,
              "#0d0887"
             ],
             [
              0.1111111111111111,
              "#46039f"
             ],
             [
              0.2222222222222222,
              "#7201a8"
             ],
             [
              0.3333333333333333,
              "#9c179e"
             ],
             [
              0.4444444444444444,
              "#bd3786"
             ],
             [
              0.5555555555555556,
              "#d8576b"
             ],
             [
              0.6666666666666666,
              "#ed7953"
             ],
             [
              0.7777777777777778,
              "#fb9f3a"
             ],
             [
              0.8888888888888888,
              "#fdca26"
             ],
             [
              1,
              "#f0f921"
             ]
            ],
            "type": "contour"
           }
          ],
          "contourcarpet": [
           {
            "colorbar": {
             "outlinewidth": 0,
             "ticks": ""
            },
            "type": "contourcarpet"
           }
          ],
          "heatmap": [
           {
            "colorbar": {
             "outlinewidth": 0,
             "ticks": ""
            },
            "colorscale": [
             [
              0,
              "#0d0887"
             ],
             [
              0.1111111111111111,
              "#46039f"
             ],
             [
              0.2222222222222222,
              "#7201a8"
             ],
             [
              0.3333333333333333,
              "#9c179e"
             ],
             [
              0.4444444444444444,
              "#bd3786"
             ],
             [
              0.5555555555555556,
              "#d8576b"
             ],
             [
              0.6666666666666666,
              "#ed7953"
             ],
             [
              0.7777777777777778,
              "#fb9f3a"
             ],
             [
              0.8888888888888888,
              "#fdca26"
             ],
             [
              1,
              "#f0f921"
             ]
            ],
            "type": "heatmap"
           }
          ],
          "heatmapgl": [
           {
            "colorbar": {
             "outlinewidth": 0,
             "ticks": ""
            },
            "colorscale": [
             [
              0,
              "#0d0887"
             ],
             [
              0.1111111111111111,
              "#46039f"
             ],
             [
              0.2222222222222222,
              "#7201a8"
             ],
             [
              0.3333333333333333,
              "#9c179e"
             ],
             [
              0.4444444444444444,
              "#bd3786"
             ],
             [
              0.5555555555555556,
              "#d8576b"
             ],
             [
              0.6666666666666666,
              "#ed7953"
             ],
             [
              0.7777777777777778,
              "#fb9f3a"
             ],
             [
              0.8888888888888888,
              "#fdca26"
             ],
             [
              1,
              "#f0f921"
             ]
            ],
            "type": "heatmapgl"
           }
          ],
          "histogram": [
           {
            "marker": {
             "pattern": {
              "fillmode": "overlay",
              "size": 10,
              "solidity": 0.2
             }
            },
            "type": "histogram"
           }
          ],
          "histogram2d": [
           {
            "colorbar": {
             "outlinewidth": 0,
             "ticks": ""
            },
            "colorscale": [
             [
              0,
              "#0d0887"
             ],
             [
              0.1111111111111111,
              "#46039f"
             ],
             [
              0.2222222222222222,
              "#7201a8"
             ],
             [
              0.3333333333333333,
              "#9c179e"
             ],
             [
              0.4444444444444444,
              "#bd3786"
             ],
             [
              0.5555555555555556,
              "#d8576b"
             ],
             [
              0.6666666666666666,
              "#ed7953"
             ],
             [
              0.7777777777777778,
              "#fb9f3a"
             ],
             [
              0.8888888888888888,
              "#fdca26"
             ],
             [
              1,
              "#f0f921"
             ]
            ],
            "type": "histogram2d"
           }
          ],
          "histogram2dcontour": [
           {
            "colorbar": {
             "outlinewidth": 0,
             "ticks": ""
            },
            "colorscale": [
             [
              0,
              "#0d0887"
             ],
             [
              0.1111111111111111,
              "#46039f"
             ],
             [
              0.2222222222222222,
              "#7201a8"
             ],
             [
              0.3333333333333333,
              "#9c179e"
             ],
             [
              0.4444444444444444,
              "#bd3786"
             ],
             [
              0.5555555555555556,
              "#d8576b"
             ],
             [
              0.6666666666666666,
              "#ed7953"
             ],
             [
              0.7777777777777778,
              "#fb9f3a"
             ],
             [
              0.8888888888888888,
              "#fdca26"
             ],
             [
              1,
              "#f0f921"
             ]
            ],
            "type": "histogram2dcontour"
           }
          ],
          "mesh3d": [
           {
            "colorbar": {
             "outlinewidth": 0,
             "ticks": ""
            },
            "type": "mesh3d"
           }
          ],
          "parcoords": [
           {
            "line": {
             "colorbar": {
              "outlinewidth": 0,
              "ticks": ""
             }
            },
            "type": "parcoords"
           }
          ],
          "pie": [
           {
            "automargin": true,
            "type": "pie"
           }
          ],
          "scatter": [
           {
            "fillpattern": {
             "fillmode": "overlay",
             "size": 10,
             "solidity": 0.2
            },
            "type": "scatter"
           }
          ],
          "scatter3d": [
           {
            "line": {
             "colorbar": {
              "outlinewidth": 0,
              "ticks": ""
             }
            },
            "marker": {
             "colorbar": {
              "outlinewidth": 0,
              "ticks": ""
             }
            },
            "type": "scatter3d"
           }
          ],
          "scattercarpet": [
           {
            "marker": {
             "colorbar": {
              "outlinewidth": 0,
              "ticks": ""
             }
            },
            "type": "scattercarpet"
           }
          ],
          "scattergeo": [
           {
            "marker": {
             "colorbar": {
              "outlinewidth": 0,
              "ticks": ""
             }
            },
            "type": "scattergeo"
           }
          ],
          "scattergl": [
           {
            "marker": {
             "colorbar": {
              "outlinewidth": 0,
              "ticks": ""
             }
            },
            "type": "scattergl"
           }
          ],
          "scattermapbox": [
           {
            "marker": {
             "colorbar": {
              "outlinewidth": 0,
              "ticks": ""
             }
            },
            "type": "scattermapbox"
           }
          ],
          "scatterpolar": [
           {
            "marker": {
             "colorbar": {
              "outlinewidth": 0,
              "ticks": ""
             }
            },
            "type": "scatterpolar"
           }
          ],
          "scatterpolargl": [
           {
            "marker": {
             "colorbar": {
              "outlinewidth": 0,
              "ticks": ""
             }
            },
            "type": "scatterpolargl"
           }
          ],
          "scatterternary": [
           {
            "marker": {
             "colorbar": {
              "outlinewidth": 0,
              "ticks": ""
             }
            },
            "type": "scatterternary"
           }
          ],
          "surface": [
           {
            "colorbar": {
             "outlinewidth": 0,
             "ticks": ""
            },
            "colorscale": [
             [
              0,
              "#0d0887"
             ],
             [
              0.1111111111111111,
              "#46039f"
             ],
             [
              0.2222222222222222,
              "#7201a8"
             ],
             [
              0.3333333333333333,
              "#9c179e"
             ],
             [
              0.4444444444444444,
              "#bd3786"
             ],
             [
              0.5555555555555556,
              "#d8576b"
             ],
             [
              0.6666666666666666,
              "#ed7953"
             ],
             [
              0.7777777777777778,
              "#fb9f3a"
             ],
             [
              0.8888888888888888,
              "#fdca26"
             ],
             [
              1,
              "#f0f921"
             ]
            ],
            "type": "surface"
           }
          ],
          "table": [
           {
            "cells": {
             "fill": {
              "color": "#EBF0F8"
             },
             "line": {
              "color": "white"
             }
            },
            "header": {
             "fill": {
              "color": "#C8D4E3"
             },
             "line": {
              "color": "white"
             }
            },
            "type": "table"
           }
          ]
         },
         "layout": {
          "annotationdefaults": {
           "arrowcolor": "#2a3f5f",
           "arrowhead": 0,
           "arrowwidth": 1
          },
          "autotypenumbers": "strict",
          "coloraxis": {
           "colorbar": {
            "outlinewidth": 0,
            "ticks": ""
           }
          },
          "colorscale": {
           "diverging": [
            [
             0,
             "#8e0152"
            ],
            [
             0.1,
             "#c51b7d"
            ],
            [
             0.2,
             "#de77ae"
            ],
            [
             0.3,
             "#f1b6da"
            ],
            [
             0.4,
             "#fde0ef"
            ],
            [
             0.5,
             "#f7f7f7"
            ],
            [
             0.6,
             "#e6f5d0"
            ],
            [
             0.7,
             "#b8e186"
            ],
            [
             0.8,
             "#7fbc41"
            ],
            [
             0.9,
             "#4d9221"
            ],
            [
             1,
             "#276419"
            ]
           ],
           "sequential": [
            [
             0,
             "#0d0887"
            ],
            [
             0.1111111111111111,
             "#46039f"
            ],
            [
             0.2222222222222222,
             "#7201a8"
            ],
            [
             0.3333333333333333,
             "#9c179e"
            ],
            [
             0.4444444444444444,
             "#bd3786"
            ],
            [
             0.5555555555555556,
             "#d8576b"
            ],
            [
             0.6666666666666666,
             "#ed7953"
            ],
            [
             0.7777777777777778,
             "#fb9f3a"
            ],
            [
             0.8888888888888888,
             "#fdca26"
            ],
            [
             1,
             "#f0f921"
            ]
           ],
           "sequentialminus": [
            [
             0,
             "#0d0887"
            ],
            [
             0.1111111111111111,
             "#46039f"
            ],
            [
             0.2222222222222222,
             "#7201a8"
            ],
            [
             0.3333333333333333,
             "#9c179e"
            ],
            [
             0.4444444444444444,
             "#bd3786"
            ],
            [
             0.5555555555555556,
             "#d8576b"
            ],
            [
             0.6666666666666666,
             "#ed7953"
            ],
            [
             0.7777777777777778,
             "#fb9f3a"
            ],
            [
             0.8888888888888888,
             "#fdca26"
            ],
            [
             1,
             "#f0f921"
            ]
           ]
          },
          "colorway": [
           "#636efa",
           "#EF553B",
           "#00cc96",
           "#ab63fa",
           "#FFA15A",
           "#19d3f3",
           "#FF6692",
           "#B6E880",
           "#FF97FF",
           "#FECB52"
          ],
          "font": {
           "color": "#2a3f5f"
          },
          "geo": {
           "bgcolor": "white",
           "lakecolor": "white",
           "landcolor": "#E5ECF6",
           "showlakes": true,
           "showland": true,
           "subunitcolor": "white"
          },
          "hoverlabel": {
           "align": "left"
          },
          "hovermode": "closest",
          "mapbox": {
           "style": "light"
          },
          "paper_bgcolor": "white",
          "plot_bgcolor": "#E5ECF6",
          "polar": {
           "angularaxis": {
            "gridcolor": "white",
            "linecolor": "white",
            "ticks": ""
           },
           "bgcolor": "#E5ECF6",
           "radialaxis": {
            "gridcolor": "white",
            "linecolor": "white",
            "ticks": ""
           }
          },
          "scene": {
           "xaxis": {
            "backgroundcolor": "#E5ECF6",
            "gridcolor": "white",
            "gridwidth": 2,
            "linecolor": "white",
            "showbackground": true,
            "ticks": "",
            "zerolinecolor": "white"
           },
           "yaxis": {
            "backgroundcolor": "#E5ECF6",
            "gridcolor": "white",
            "gridwidth": 2,
            "linecolor": "white",
            "showbackground": true,
            "ticks": "",
            "zerolinecolor": "white"
           },
           "zaxis": {
            "backgroundcolor": "#E5ECF6",
            "gridcolor": "white",
            "gridwidth": 2,
            "linecolor": "white",
            "showbackground": true,
            "ticks": "",
            "zerolinecolor": "white"
           }
          },
          "shapedefaults": {
           "line": {
            "color": "#2a3f5f"
           }
          },
          "ternary": {
           "aaxis": {
            "gridcolor": "white",
            "linecolor": "white",
            "ticks": ""
           },
           "baxis": {
            "gridcolor": "white",
            "linecolor": "white",
            "ticks": ""
           },
           "bgcolor": "#E5ECF6",
           "caxis": {
            "gridcolor": "white",
            "linecolor": "white",
            "ticks": ""
           }
          },
          "title": {
           "x": 0.05
          },
          "xaxis": {
           "automargin": true,
           "gridcolor": "white",
           "linecolor": "white",
           "ticks": "",
           "title": {
            "standoff": 15
           },
           "zerolinecolor": "white",
           "zerolinewidth": 2
          },
          "yaxis": {
           "automargin": true,
           "gridcolor": "white",
           "linecolor": "white",
           "ticks": "",
           "title": {
            "standoff": 15
           },
           "zerolinecolor": "white",
           "zerolinewidth": 2
          }
         }
        },
        "xaxis": {
         "anchor": "y",
         "domain": [
          0,
          1
         ],
         "title": {
          "text": "year"
         }
        },
        "yaxis": {
         "anchor": "x",
         "domain": [
          0,
          1
         ],
         "title": {
          "text": "value"
         }
        }
       }
      }
     },
     "metadata": {},
     "output_type": "display_data"
    }
   ],
   "source": [
    "pop_df = pd.read_csv(csv_path)\n",
    "pop_df = pop_df.set_index(['year'])\n",
    "pop_df['population'].plot()"
   ]
  },
  {
   "cell_type": "markdown",
   "metadata": {},
   "source": [
    "### Birth rate"
   ]
  },
  {
   "cell_type": "code",
   "execution_count": 8,
   "metadata": {},
   "outputs": [
    {
     "data": {
      "application/vnd.plotly.v1+json": {
       "config": {
        "plotlyServerURL": "https://plot.ly"
       },
       "data": [
        {
         "hovertemplate": "variable=0<br>mean_year=%{x}<br>value=%{y}<extra></extra>",
         "legendgroup": "0",
         "line": {
          "color": "#636efa",
          "dash": "solid"
         },
         "marker": {
          "symbol": "circle"
         },
         "mode": "markers+lines",
         "name": "0",
         "orientation": "v",
         "showlegend": true,
         "type": "scatter",
         "x": [
          1952.5,
          1957.5,
          1962.5,
          1967.5,
          1972.5,
          1977.5,
          1982.5,
          1987.5,
          1992.5,
          1997.5,
          2002.5,
          2007.5,
          2012.5,
          2017.5
         ],
         "xaxis": "x",
         "y": [
          0.039776000000000006,
          0.042731000000000005,
          0.040619999999999996,
          0.037357,
          0.035531,
          0.032790999999999994,
          0.031293,
          0.029655,
          0.026611,
          0.019188,
          0.016832999999999997,
          0.017184,
          0.017283,
          0.016945
         ],
         "yaxis": "y"
        }
       ],
       "layout": {
        "legend": {
         "title": {
          "text": "variable"
         },
         "tracegroupgap": 0
        },
        "margin": {
         "t": 60
        },
        "showlegend": false,
        "template": {
         "data": {
          "bar": [
           {
            "error_x": {
             "color": "#2a3f5f"
            },
            "error_y": {
             "color": "#2a3f5f"
            },
            "marker": {
             "line": {
              "color": "#E5ECF6",
              "width": 0.5
             },
             "pattern": {
              "fillmode": "overlay",
              "size": 10,
              "solidity": 0.2
             }
            },
            "type": "bar"
           }
          ],
          "barpolar": [
           {
            "marker": {
             "line": {
              "color": "#E5ECF6",
              "width": 0.5
             },
             "pattern": {
              "fillmode": "overlay",
              "size": 10,
              "solidity": 0.2
             }
            },
            "type": "barpolar"
           }
          ],
          "carpet": [
           {
            "aaxis": {
             "endlinecolor": "#2a3f5f",
             "gridcolor": "white",
             "linecolor": "white",
             "minorgridcolor": "white",
             "startlinecolor": "#2a3f5f"
            },
            "baxis": {
             "endlinecolor": "#2a3f5f",
             "gridcolor": "white",
             "linecolor": "white",
             "minorgridcolor": "white",
             "startlinecolor": "#2a3f5f"
            },
            "type": "carpet"
           }
          ],
          "choropleth": [
           {
            "colorbar": {
             "outlinewidth": 0,
             "ticks": ""
            },
            "type": "choropleth"
           }
          ],
          "contour": [
           {
            "colorbar": {
             "outlinewidth": 0,
             "ticks": ""
            },
            "colorscale": [
             [
              0,
              "#0d0887"
             ],
             [
              0.1111111111111111,
              "#46039f"
             ],
             [
              0.2222222222222222,
              "#7201a8"
             ],
             [
              0.3333333333333333,
              "#9c179e"
             ],
             [
              0.4444444444444444,
              "#bd3786"
             ],
             [
              0.5555555555555556,
              "#d8576b"
             ],
             [
              0.6666666666666666,
              "#ed7953"
             ],
             [
              0.7777777777777778,
              "#fb9f3a"
             ],
             [
              0.8888888888888888,
              "#fdca26"
             ],
             [
              1,
              "#f0f921"
             ]
            ],
            "type": "contour"
           }
          ],
          "contourcarpet": [
           {
            "colorbar": {
             "outlinewidth": 0,
             "ticks": ""
            },
            "type": "contourcarpet"
           }
          ],
          "heatmap": [
           {
            "colorbar": {
             "outlinewidth": 0,
             "ticks": ""
            },
            "colorscale": [
             [
              0,
              "#0d0887"
             ],
             [
              0.1111111111111111,
              "#46039f"
             ],
             [
              0.2222222222222222,
              "#7201a8"
             ],
             [
              0.3333333333333333,
              "#9c179e"
             ],
             [
              0.4444444444444444,
              "#bd3786"
             ],
             [
              0.5555555555555556,
              "#d8576b"
             ],
             [
              0.6666666666666666,
              "#ed7953"
             ],
             [
              0.7777777777777778,
              "#fb9f3a"
             ],
             [
              0.8888888888888888,
              "#fdca26"
             ],
             [
              1,
              "#f0f921"
             ]
            ],
            "type": "heatmap"
           }
          ],
          "heatmapgl": [
           {
            "colorbar": {
             "outlinewidth": 0,
             "ticks": ""
            },
            "colorscale": [
             [
              0,
              "#0d0887"
             ],
             [
              0.1111111111111111,
              "#46039f"
             ],
             [
              0.2222222222222222,
              "#7201a8"
             ],
             [
              0.3333333333333333,
              "#9c179e"
             ],
             [
              0.4444444444444444,
              "#bd3786"
             ],
             [
              0.5555555555555556,
              "#d8576b"
             ],
             [
              0.6666666666666666,
              "#ed7953"
             ],
             [
              0.7777777777777778,
              "#fb9f3a"
             ],
             [
              0.8888888888888888,
              "#fdca26"
             ],
             [
              1,
              "#f0f921"
             ]
            ],
            "type": "heatmapgl"
           }
          ],
          "histogram": [
           {
            "marker": {
             "pattern": {
              "fillmode": "overlay",
              "size": 10,
              "solidity": 0.2
             }
            },
            "type": "histogram"
           }
          ],
          "histogram2d": [
           {
            "colorbar": {
             "outlinewidth": 0,
             "ticks": ""
            },
            "colorscale": [
             [
              0,
              "#0d0887"
             ],
             [
              0.1111111111111111,
              "#46039f"
             ],
             [
              0.2222222222222222,
              "#7201a8"
             ],
             [
              0.3333333333333333,
              "#9c179e"
             ],
             [
              0.4444444444444444,
              "#bd3786"
             ],
             [
              0.5555555555555556,
              "#d8576b"
             ],
             [
              0.6666666666666666,
              "#ed7953"
             ],
             [
              0.7777777777777778,
              "#fb9f3a"
             ],
             [
              0.8888888888888888,
              "#fdca26"
             ],
             [
              1,
              "#f0f921"
             ]
            ],
            "type": "histogram2d"
           }
          ],
          "histogram2dcontour": [
           {
            "colorbar": {
             "outlinewidth": 0,
             "ticks": ""
            },
            "colorscale": [
             [
              0,
              "#0d0887"
             ],
             [
              0.1111111111111111,
              "#46039f"
             ],
             [
              0.2222222222222222,
              "#7201a8"
             ],
             [
              0.3333333333333333,
              "#9c179e"
             ],
             [
              0.4444444444444444,
              "#bd3786"
             ],
             [
              0.5555555555555556,
              "#d8576b"
             ],
             [
              0.6666666666666666,
              "#ed7953"
             ],
             [
              0.7777777777777778,
              "#fb9f3a"
             ],
             [
              0.8888888888888888,
              "#fdca26"
             ],
             [
              1,
              "#f0f921"
             ]
            ],
            "type": "histogram2dcontour"
           }
          ],
          "mesh3d": [
           {
            "colorbar": {
             "outlinewidth": 0,
             "ticks": ""
            },
            "type": "mesh3d"
           }
          ],
          "parcoords": [
           {
            "line": {
             "colorbar": {
              "outlinewidth": 0,
              "ticks": ""
             }
            },
            "type": "parcoords"
           }
          ],
          "pie": [
           {
            "automargin": true,
            "type": "pie"
           }
          ],
          "scatter": [
           {
            "fillpattern": {
             "fillmode": "overlay",
             "size": 10,
             "solidity": 0.2
            },
            "type": "scatter"
           }
          ],
          "scatter3d": [
           {
            "line": {
             "colorbar": {
              "outlinewidth": 0,
              "ticks": ""
             }
            },
            "marker": {
             "colorbar": {
              "outlinewidth": 0,
              "ticks": ""
             }
            },
            "type": "scatter3d"
           }
          ],
          "scattercarpet": [
           {
            "marker": {
             "colorbar": {
              "outlinewidth": 0,
              "ticks": ""
             }
            },
            "type": "scattercarpet"
           }
          ],
          "scattergeo": [
           {
            "marker": {
             "colorbar": {
              "outlinewidth": 0,
              "ticks": ""
             }
            },
            "type": "scattergeo"
           }
          ],
          "scattergl": [
           {
            "marker": {
             "colorbar": {
              "outlinewidth": 0,
              "ticks": ""
             }
            },
            "type": "scattergl"
           }
          ],
          "scattermapbox": [
           {
            "marker": {
             "colorbar": {
              "outlinewidth": 0,
              "ticks": ""
             }
            },
            "type": "scattermapbox"
           }
          ],
          "scatterpolar": [
           {
            "marker": {
             "colorbar": {
              "outlinewidth": 0,
              "ticks": ""
             }
            },
            "type": "scatterpolar"
           }
          ],
          "scatterpolargl": [
           {
            "marker": {
             "colorbar": {
              "outlinewidth": 0,
              "ticks": ""
             }
            },
            "type": "scatterpolargl"
           }
          ],
          "scatterternary": [
           {
            "marker": {
             "colorbar": {
              "outlinewidth": 0,
              "ticks": ""
             }
            },
            "type": "scatterternary"
           }
          ],
          "surface": [
           {
            "colorbar": {
             "outlinewidth": 0,
             "ticks": ""
            },
            "colorscale": [
             [
              0,
              "#0d0887"
             ],
             [
              0.1111111111111111,
              "#46039f"
             ],
             [
              0.2222222222222222,
              "#7201a8"
             ],
             [
              0.3333333333333333,
              "#9c179e"
             ],
             [
              0.4444444444444444,
              "#bd3786"
             ],
             [
              0.5555555555555556,
              "#d8576b"
             ],
             [
              0.6666666666666666,
              "#ed7953"
             ],
             [
              0.7777777777777778,
              "#fb9f3a"
             ],
             [
              0.8888888888888888,
              "#fdca26"
             ],
             [
              1,
              "#f0f921"
             ]
            ],
            "type": "surface"
           }
          ],
          "table": [
           {
            "cells": {
             "fill": {
              "color": "#EBF0F8"
             },
             "line": {
              "color": "white"
             }
            },
            "header": {
             "fill": {
              "color": "#C8D4E3"
             },
             "line": {
              "color": "white"
             }
            },
            "type": "table"
           }
          ]
         },
         "layout": {
          "annotationdefaults": {
           "arrowcolor": "#2a3f5f",
           "arrowhead": 0,
           "arrowwidth": 1
          },
          "autotypenumbers": "strict",
          "coloraxis": {
           "colorbar": {
            "outlinewidth": 0,
            "ticks": ""
           }
          },
          "colorscale": {
           "diverging": [
            [
             0,
             "#8e0152"
            ],
            [
             0.1,
             "#c51b7d"
            ],
            [
             0.2,
             "#de77ae"
            ],
            [
             0.3,
             "#f1b6da"
            ],
            [
             0.4,
             "#fde0ef"
            ],
            [
             0.5,
             "#f7f7f7"
            ],
            [
             0.6,
             "#e6f5d0"
            ],
            [
             0.7,
             "#b8e186"
            ],
            [
             0.8,
             "#7fbc41"
            ],
            [
             0.9,
             "#4d9221"
            ],
            [
             1,
             "#276419"
            ]
           ],
           "sequential": [
            [
             0,
             "#0d0887"
            ],
            [
             0.1111111111111111,
             "#46039f"
            ],
            [
             0.2222222222222222,
             "#7201a8"
            ],
            [
             0.3333333333333333,
             "#9c179e"
            ],
            [
             0.4444444444444444,
             "#bd3786"
            ],
            [
             0.5555555555555556,
             "#d8576b"
            ],
            [
             0.6666666666666666,
             "#ed7953"
            ],
            [
             0.7777777777777778,
             "#fb9f3a"
            ],
            [
             0.8888888888888888,
             "#fdca26"
            ],
            [
             1,
             "#f0f921"
            ]
           ],
           "sequentialminus": [
            [
             0,
             "#0d0887"
            ],
            [
             0.1111111111111111,
             "#46039f"
            ],
            [
             0.2222222222222222,
             "#7201a8"
            ],
            [
             0.3333333333333333,
             "#9c179e"
            ],
            [
             0.4444444444444444,
             "#bd3786"
            ],
            [
             0.5555555555555556,
             "#d8576b"
            ],
            [
             0.6666666666666666,
             "#ed7953"
            ],
            [
             0.7777777777777778,
             "#fb9f3a"
            ],
            [
             0.8888888888888888,
             "#fdca26"
            ],
            [
             1,
             "#f0f921"
            ]
           ]
          },
          "colorway": [
           "#636efa",
           "#EF553B",
           "#00cc96",
           "#ab63fa",
           "#FFA15A",
           "#19d3f3",
           "#FF6692",
           "#B6E880",
           "#FF97FF",
           "#FECB52"
          ],
          "font": {
           "color": "#2a3f5f"
          },
          "geo": {
           "bgcolor": "white",
           "lakecolor": "white",
           "landcolor": "#E5ECF6",
           "showlakes": true,
           "showland": true,
           "subunitcolor": "white"
          },
          "hoverlabel": {
           "align": "left"
          },
          "hovermode": "closest",
          "mapbox": {
           "style": "light"
          },
          "paper_bgcolor": "white",
          "plot_bgcolor": "#E5ECF6",
          "polar": {
           "angularaxis": {
            "gridcolor": "white",
            "linecolor": "white",
            "ticks": ""
           },
           "bgcolor": "#E5ECF6",
           "radialaxis": {
            "gridcolor": "white",
            "linecolor": "white",
            "ticks": ""
           }
          },
          "scene": {
           "xaxis": {
            "backgroundcolor": "#E5ECF6",
            "gridcolor": "white",
            "gridwidth": 2,
            "linecolor": "white",
            "showbackground": true,
            "ticks": "",
            "zerolinecolor": "white"
           },
           "yaxis": {
            "backgroundcolor": "#E5ECF6",
            "gridcolor": "white",
            "gridwidth": 2,
            "linecolor": "white",
            "showbackground": true,
            "ticks": "",
            "zerolinecolor": "white"
           },
           "zaxis": {
            "backgroundcolor": "#E5ECF6",
            "gridcolor": "white",
            "gridwidth": 2,
            "linecolor": "white",
            "showbackground": true,
            "ticks": "",
            "zerolinecolor": "white"
           }
          },
          "shapedefaults": {
           "line": {
            "color": "#2a3f5f"
           }
          },
          "ternary": {
           "aaxis": {
            "gridcolor": "white",
            "linecolor": "white",
            "ticks": ""
           },
           "baxis": {
            "gridcolor": "white",
            "linecolor": "white",
            "ticks": ""
           },
           "bgcolor": "#E5ECF6",
           "caxis": {
            "gridcolor": "white",
            "linecolor": "white",
            "ticks": ""
           }
          },
          "title": {
           "x": 0.05
          },
          "xaxis": {
           "automargin": true,
           "gridcolor": "white",
           "linecolor": "white",
           "ticks": "",
           "title": {
            "standoff": 15
           },
           "zerolinecolor": "white",
           "zerolinewidth": 2
          },
          "yaxis": {
           "automargin": true,
           "gridcolor": "white",
           "linecolor": "white",
           "ticks": "",
           "title": {
            "standoff": 15
           },
           "zerolinecolor": "white",
           "zerolinewidth": 2
          }
         }
        },
        "title": {
         "text": "Crude birth rate of Ca Mau",
         "x": 0.5
        },
        "xaxis": {
         "anchor": "y",
         "domain": [
          0,
          1
         ],
         "title": {
          "text": "Year"
         }
        },
        "yaxis": {
         "anchor": "x",
         "domain": [
          0,
          1
         ],
         "title": {
          "text": "Crude birth rate"
         }
        }
       }
      }
     },
     "metadata": {},
     "output_type": "display_data"
    }
   ],
   "source": [
    "birth_rates, years = inputs.get_crude_birth_rate(\"VNM\")\n",
    "birth_rates = [b / 1000.0 for b in birth_rates]  # Birth rates are provided / 1000 population\n",
    "birth_rates_series = pd.Series(birth_rates, index=years)\n",
    "br_fig= px.line(birth_rates_series)\n",
    "br_fig.update_traces(mode='markers+lines')\n",
    "br_fig.update_layout(\n",
    "    title=\"Crude birth rate of Ca Mau\",\n",
    "    title_x=0.5,\n",
    "    xaxis_title=\"Year\",\n",
    "    yaxis_title=\"Crude birth rate\",\n",
    "    showlegend=False,\n",
    ")"
   ]
  },
  {
   "cell_type": "markdown",
   "metadata": {},
   "source": [
    "### Death rate"
   ]
  },
  {
   "cell_type": "code",
   "execution_count": 9,
   "metadata": {},
   "outputs": [
    {
     "data": {
      "application/vnd.plotly.v1+json": {
       "config": {
        "plotlyServerURL": "https://plot.ly"
       },
       "data": [
        {
         "hovertemplate": "variable=0<br>index=%{x}<br>value=%{y}<extra></extra>",
         "legendgroup": "0",
         "line": {
          "color": "#636efa",
          "dash": "solid"
         },
         "marker": {
          "symbol": "circle"
         },
         "mode": "markers+lines",
         "name": "0",
         "orientation": "v",
         "showlegend": true,
         "type": "scatter",
         "x": [
          2005,
          2007,
          2008,
          2009,
          2010,
          2011,
          2012,
          2013,
          2014,
          2015,
          2016,
          2017,
          2018,
          2019,
          2020,
          2021
         ],
         "xaxis": "x",
         "y": [
          0.0048,
          0.0048,
          0.0044,
          0.0056,
          0.0056,
          0.0058,
          0.0053,
          0.006,
          0.0074,
          0.0054,
          0.0048,
          0.0066,
          0.005,
          0.0054,
          0.00521,
          0.00539
         ],
         "yaxis": "y"
        }
       ],
       "layout": {
        "legend": {
         "title": {
          "text": "variable"
         },
         "tracegroupgap": 0
        },
        "margin": {
         "t": 60
        },
        "showlegend": false,
        "template": {
         "data": {
          "bar": [
           {
            "error_x": {
             "color": "#2a3f5f"
            },
            "error_y": {
             "color": "#2a3f5f"
            },
            "marker": {
             "line": {
              "color": "#E5ECF6",
              "width": 0.5
             },
             "pattern": {
              "fillmode": "overlay",
              "size": 10,
              "solidity": 0.2
             }
            },
            "type": "bar"
           }
          ],
          "barpolar": [
           {
            "marker": {
             "line": {
              "color": "#E5ECF6",
              "width": 0.5
             },
             "pattern": {
              "fillmode": "overlay",
              "size": 10,
              "solidity": 0.2
             }
            },
            "type": "barpolar"
           }
          ],
          "carpet": [
           {
            "aaxis": {
             "endlinecolor": "#2a3f5f",
             "gridcolor": "white",
             "linecolor": "white",
             "minorgridcolor": "white",
             "startlinecolor": "#2a3f5f"
            },
            "baxis": {
             "endlinecolor": "#2a3f5f",
             "gridcolor": "white",
             "linecolor": "white",
             "minorgridcolor": "white",
             "startlinecolor": "#2a3f5f"
            },
            "type": "carpet"
           }
          ],
          "choropleth": [
           {
            "colorbar": {
             "outlinewidth": 0,
             "ticks": ""
            },
            "type": "choropleth"
           }
          ],
          "contour": [
           {
            "colorbar": {
             "outlinewidth": 0,
             "ticks": ""
            },
            "colorscale": [
             [
              0,
              "#0d0887"
             ],
             [
              0.1111111111111111,
              "#46039f"
             ],
             [
              0.2222222222222222,
              "#7201a8"
             ],
             [
              0.3333333333333333,
              "#9c179e"
             ],
             [
              0.4444444444444444,
              "#bd3786"
             ],
             [
              0.5555555555555556,
              "#d8576b"
             ],
             [
              0.6666666666666666,
              "#ed7953"
             ],
             [
              0.7777777777777778,
              "#fb9f3a"
             ],
             [
              0.8888888888888888,
              "#fdca26"
             ],
             [
              1,
              "#f0f921"
             ]
            ],
            "type": "contour"
           }
          ],
          "contourcarpet": [
           {
            "colorbar": {
             "outlinewidth": 0,
             "ticks": ""
            },
            "type": "contourcarpet"
           }
          ],
          "heatmap": [
           {
            "colorbar": {
             "outlinewidth": 0,
             "ticks": ""
            },
            "colorscale": [
             [
              0,
              "#0d0887"
             ],
             [
              0.1111111111111111,
              "#46039f"
             ],
             [
              0.2222222222222222,
              "#7201a8"
             ],
             [
              0.3333333333333333,
              "#9c179e"
             ],
             [
              0.4444444444444444,
              "#bd3786"
             ],
             [
              0.5555555555555556,
              "#d8576b"
             ],
             [
              0.6666666666666666,
              "#ed7953"
             ],
             [
              0.7777777777777778,
              "#fb9f3a"
             ],
             [
              0.8888888888888888,
              "#fdca26"
             ],
             [
              1,
              "#f0f921"
             ]
            ],
            "type": "heatmap"
           }
          ],
          "heatmapgl": [
           {
            "colorbar": {
             "outlinewidth": 0,
             "ticks": ""
            },
            "colorscale": [
             [
              0,
              "#0d0887"
             ],
             [
              0.1111111111111111,
              "#46039f"
             ],
             [
              0.2222222222222222,
              "#7201a8"
             ],
             [
              0.3333333333333333,
              "#9c179e"
             ],
             [
              0.4444444444444444,
              "#bd3786"
             ],
             [
              0.5555555555555556,
              "#d8576b"
             ],
             [
              0.6666666666666666,
              "#ed7953"
             ],
             [
              0.7777777777777778,
              "#fb9f3a"
             ],
             [
              0.8888888888888888,
              "#fdca26"
             ],
             [
              1,
              "#f0f921"
             ]
            ],
            "type": "heatmapgl"
           }
          ],
          "histogram": [
           {
            "marker": {
             "pattern": {
              "fillmode": "overlay",
              "size": 10,
              "solidity": 0.2
             }
            },
            "type": "histogram"
           }
          ],
          "histogram2d": [
           {
            "colorbar": {
             "outlinewidth": 0,
             "ticks": ""
            },
            "colorscale": [
             [
              0,
              "#0d0887"
             ],
             [
              0.1111111111111111,
              "#46039f"
             ],
             [
              0.2222222222222222,
              "#7201a8"
             ],
             [
              0.3333333333333333,
              "#9c179e"
             ],
             [
              0.4444444444444444,
              "#bd3786"
             ],
             [
              0.5555555555555556,
              "#d8576b"
             ],
             [
              0.6666666666666666,
              "#ed7953"
             ],
             [
              0.7777777777777778,
              "#fb9f3a"
             ],
             [
              0.8888888888888888,
              "#fdca26"
             ],
             [
              1,
              "#f0f921"
             ]
            ],
            "type": "histogram2d"
           }
          ],
          "histogram2dcontour": [
           {
            "colorbar": {
             "outlinewidth": 0,
             "ticks": ""
            },
            "colorscale": [
             [
              0,
              "#0d0887"
             ],
             [
              0.1111111111111111,
              "#46039f"
             ],
             [
              0.2222222222222222,
              "#7201a8"
             ],
             [
              0.3333333333333333,
              "#9c179e"
             ],
             [
              0.4444444444444444,
              "#bd3786"
             ],
             [
              0.5555555555555556,
              "#d8576b"
             ],
             [
              0.6666666666666666,
              "#ed7953"
             ],
             [
              0.7777777777777778,
              "#fb9f3a"
             ],
             [
              0.8888888888888888,
              "#fdca26"
             ],
             [
              1,
              "#f0f921"
             ]
            ],
            "type": "histogram2dcontour"
           }
          ],
          "mesh3d": [
           {
            "colorbar": {
             "outlinewidth": 0,
             "ticks": ""
            },
            "type": "mesh3d"
           }
          ],
          "parcoords": [
           {
            "line": {
             "colorbar": {
              "outlinewidth": 0,
              "ticks": ""
             }
            },
            "type": "parcoords"
           }
          ],
          "pie": [
           {
            "automargin": true,
            "type": "pie"
           }
          ],
          "scatter": [
           {
            "fillpattern": {
             "fillmode": "overlay",
             "size": 10,
             "solidity": 0.2
            },
            "type": "scatter"
           }
          ],
          "scatter3d": [
           {
            "line": {
             "colorbar": {
              "outlinewidth": 0,
              "ticks": ""
             }
            },
            "marker": {
             "colorbar": {
              "outlinewidth": 0,
              "ticks": ""
             }
            },
            "type": "scatter3d"
           }
          ],
          "scattercarpet": [
           {
            "marker": {
             "colorbar": {
              "outlinewidth": 0,
              "ticks": ""
             }
            },
            "type": "scattercarpet"
           }
          ],
          "scattergeo": [
           {
            "marker": {
             "colorbar": {
              "outlinewidth": 0,
              "ticks": ""
             }
            },
            "type": "scattergeo"
           }
          ],
          "scattergl": [
           {
            "marker": {
             "colorbar": {
              "outlinewidth": 0,
              "ticks": ""
             }
            },
            "type": "scattergl"
           }
          ],
          "scattermapbox": [
           {
            "marker": {
             "colorbar": {
              "outlinewidth": 0,
              "ticks": ""
             }
            },
            "type": "scattermapbox"
           }
          ],
          "scatterpolar": [
           {
            "marker": {
             "colorbar": {
              "outlinewidth": 0,
              "ticks": ""
             }
            },
            "type": "scatterpolar"
           }
          ],
          "scatterpolargl": [
           {
            "marker": {
             "colorbar": {
              "outlinewidth": 0,
              "ticks": ""
             }
            },
            "type": "scatterpolargl"
           }
          ],
          "scatterternary": [
           {
            "marker": {
             "colorbar": {
              "outlinewidth": 0,
              "ticks": ""
             }
            },
            "type": "scatterternary"
           }
          ],
          "surface": [
           {
            "colorbar": {
             "outlinewidth": 0,
             "ticks": ""
            },
            "colorscale": [
             [
              0,
              "#0d0887"
             ],
             [
              0.1111111111111111,
              "#46039f"
             ],
             [
              0.2222222222222222,
              "#7201a8"
             ],
             [
              0.3333333333333333,
              "#9c179e"
             ],
             [
              0.4444444444444444,
              "#bd3786"
             ],
             [
              0.5555555555555556,
              "#d8576b"
             ],
             [
              0.6666666666666666,
              "#ed7953"
             ],
             [
              0.7777777777777778,
              "#fb9f3a"
             ],
             [
              0.8888888888888888,
              "#fdca26"
             ],
             [
              1,
              "#f0f921"
             ]
            ],
            "type": "surface"
           }
          ],
          "table": [
           {
            "cells": {
             "fill": {
              "color": "#EBF0F8"
             },
             "line": {
              "color": "white"
             }
            },
            "header": {
             "fill": {
              "color": "#C8D4E3"
             },
             "line": {
              "color": "white"
             }
            },
            "type": "table"
           }
          ]
         },
         "layout": {
          "annotationdefaults": {
           "arrowcolor": "#2a3f5f",
           "arrowhead": 0,
           "arrowwidth": 1
          },
          "autotypenumbers": "strict",
          "coloraxis": {
           "colorbar": {
            "outlinewidth": 0,
            "ticks": ""
           }
          },
          "colorscale": {
           "diverging": [
            [
             0,
             "#8e0152"
            ],
            [
             0.1,
             "#c51b7d"
            ],
            [
             0.2,
             "#de77ae"
            ],
            [
             0.3,
             "#f1b6da"
            ],
            [
             0.4,
             "#fde0ef"
            ],
            [
             0.5,
             "#f7f7f7"
            ],
            [
             0.6,
             "#e6f5d0"
            ],
            [
             0.7,
             "#b8e186"
            ],
            [
             0.8,
             "#7fbc41"
            ],
            [
             0.9,
             "#4d9221"
            ],
            [
             1,
             "#276419"
            ]
           ],
           "sequential": [
            [
             0,
             "#0d0887"
            ],
            [
             0.1111111111111111,
             "#46039f"
            ],
            [
             0.2222222222222222,
             "#7201a8"
            ],
            [
             0.3333333333333333,
             "#9c179e"
            ],
            [
             0.4444444444444444,
             "#bd3786"
            ],
            [
             0.5555555555555556,
             "#d8576b"
            ],
            [
             0.6666666666666666,
             "#ed7953"
            ],
            [
             0.7777777777777778,
             "#fb9f3a"
            ],
            [
             0.8888888888888888,
             "#fdca26"
            ],
            [
             1,
             "#f0f921"
            ]
           ],
           "sequentialminus": [
            [
             0,
             "#0d0887"
            ],
            [
             0.1111111111111111,
             "#46039f"
            ],
            [
             0.2222222222222222,
             "#7201a8"
            ],
            [
             0.3333333333333333,
             "#9c179e"
            ],
            [
             0.4444444444444444,
             "#bd3786"
            ],
            [
             0.5555555555555556,
             "#d8576b"
            ],
            [
             0.6666666666666666,
             "#ed7953"
            ],
            [
             0.7777777777777778,
             "#fb9f3a"
            ],
            [
             0.8888888888888888,
             "#fdca26"
            ],
            [
             1,
             "#f0f921"
            ]
           ]
          },
          "colorway": [
           "#636efa",
           "#EF553B",
           "#00cc96",
           "#ab63fa",
           "#FFA15A",
           "#19d3f3",
           "#FF6692",
           "#B6E880",
           "#FF97FF",
           "#FECB52"
          ],
          "font": {
           "color": "#2a3f5f"
          },
          "geo": {
           "bgcolor": "white",
           "lakecolor": "white",
           "landcolor": "#E5ECF6",
           "showlakes": true,
           "showland": true,
           "subunitcolor": "white"
          },
          "hoverlabel": {
           "align": "left"
          },
          "hovermode": "closest",
          "mapbox": {
           "style": "light"
          },
          "paper_bgcolor": "white",
          "plot_bgcolor": "#E5ECF6",
          "polar": {
           "angularaxis": {
            "gridcolor": "white",
            "linecolor": "white",
            "ticks": ""
           },
           "bgcolor": "#E5ECF6",
           "radialaxis": {
            "gridcolor": "white",
            "linecolor": "white",
            "ticks": ""
           }
          },
          "scene": {
           "xaxis": {
            "backgroundcolor": "#E5ECF6",
            "gridcolor": "white",
            "gridwidth": 2,
            "linecolor": "white",
            "showbackground": true,
            "ticks": "",
            "zerolinecolor": "white"
           },
           "yaxis": {
            "backgroundcolor": "#E5ECF6",
            "gridcolor": "white",
            "gridwidth": 2,
            "linecolor": "white",
            "showbackground": true,
            "ticks": "",
            "zerolinecolor": "white"
           },
           "zaxis": {
            "backgroundcolor": "#E5ECF6",
            "gridcolor": "white",
            "gridwidth": 2,
            "linecolor": "white",
            "showbackground": true,
            "ticks": "",
            "zerolinecolor": "white"
           }
          },
          "shapedefaults": {
           "line": {
            "color": "#2a3f5f"
           }
          },
          "ternary": {
           "aaxis": {
            "gridcolor": "white",
            "linecolor": "white",
            "ticks": ""
           },
           "baxis": {
            "gridcolor": "white",
            "linecolor": "white",
            "ticks": ""
           },
           "bgcolor": "#E5ECF6",
           "caxis": {
            "gridcolor": "white",
            "linecolor": "white",
            "ticks": ""
           }
          },
          "title": {
           "x": 0.05
          },
          "xaxis": {
           "automargin": true,
           "gridcolor": "white",
           "linecolor": "white",
           "ticks": "",
           "title": {
            "standoff": 15
           },
           "zerolinecolor": "white",
           "zerolinewidth": 2
          },
          "yaxis": {
           "automargin": true,
           "gridcolor": "white",
           "linecolor": "white",
           "ticks": "",
           "title": {
            "standoff": 15
           },
           "zerolinecolor": "white",
           "zerolinewidth": 2
          }
         }
        },
        "title": {
         "text": "Crude death rate of Ca Mau",
         "x": 0.5
        },
        "xaxis": {
         "anchor": "y",
         "domain": [
          0,
          1
         ],
         "title": {
          "text": "Year"
         }
        },
        "yaxis": {
         "anchor": "x",
         "domain": [
          0,
          1
         ],
         "title": {
          "text": "Crude death rate"
         }
        }
       }
      }
     },
     "metadata": {},
     "output_type": "display_data"
    }
   ],
   "source": [
    "#Query and visualize the crude birth rate from database\n",
    "years, death_rates = queries.get_camau_death_rate()\n",
    "death_rates = [b / 1000.0 for b in death_rates]  # Birth rates are provided / 1000 population\n",
    "death_rates_series = pd.Series(death_rates, index=years)\n",
    "dr_fig= px.line(death_rates_series)\n",
    "dr_fig.update_traces(mode='markers+lines')\n",
    "dr_fig.update_layout(\n",
    "    title=\"Crude death rate of Ca Mau\",\n",
    "    title_x=0.5,\n",
    "    xaxis_title=\"Year\",\n",
    "    yaxis_title=\"Crude death rate\",\n",
    "    showlegend=False,\n",
    ")"
   ]
  },
  {
   "cell_type": "markdown",
   "metadata": {},
   "source": [
    "### Mixing matrix"
   ]
  },
  {
   "cell_type": "code",
   "execution_count": 10,
   "metadata": {},
   "outputs": [
    {
     "name": "stdout",
     "output_type": "stream",
     "text": [
      "Target region: CAMAU (VNM)\n",
      "Proxy country: VNM\n",
      "Always age-adjusted to target population\n"
     ]
    }
   ],
   "source": [
    "print(f\"Target region: {region.upper()} ({iso3})\")\n",
    "print(f\"Proxy country: {source_iso3}\")\n",
    "print(\"Always age-adjusted to target population\")"
   ]
  },
  {
   "cell_type": "code",
   "execution_count": 11,
   "metadata": {},
   "outputs": [],
   "source": [
    "update_params = {\n",
    "    'contact_rate': 0.009976641551950861,\n",
    "    'infectious_seed': 166,\n",
    "    'progression_multiplier': 0.314988113161106,\n",
    "    'rr_infection_latent': 0.49076018816019046,\n",
    "    'rr_infection_recovered': 0.24685066299673822,\n",
    "    'start_population_size':232213.3052017466,\n",
    "    'cdr_adjustment': 0.6013891618826954\n",
    "\n",
    "}\n",
    "params = baseline_params.update(update_params,calibration_format=True)\n",
    "model_0  =  p.build_model(params.to_dict())\n",
    "model_0.run(params.to_dict())\n",
    "derived_df_0 = model_0.get_derived_outputs_df()"
   ]
  },
  {
   "cell_type": "code",
   "execution_count": 12,
   "metadata": {},
   "outputs": [
    {
     "name": "stdout",
     "output_type": "stream",
     "text": [
      "[[ 398.43289672  261.82020387  643.68286218  401.62199159  356.13449939]\n",
      " [ 165.78966683  881.63067677  532.84120554  550.75979227  285.62836724]\n",
      " [ 231.75164317  311.38983781  915.52884268  673.30894113  664.14577066]\n",
      " [ 141.94492435  310.88835505  786.13676958 1134.31076003  938.03403291]\n",
      " [  67.30073632  170.46333134  647.30153978 1018.81243422 1763.57657715]]\n"
     ]
    },
    {
     "data": {
      "application/vnd.plotly.v1+json": {
       "config": {
        "plotlyServerURL": "https://plot.ly"
       },
       "data": [
        {
         "coloraxis": "coloraxis",
         "hovertemplate": "x: %{x}<br>y: %{y}<br>color: %{z}<extra></extra>",
         "name": "0",
         "type": "heatmap",
         "xaxis": "x",
         "yaxis": "y",
         "z": [
          [
           398.43289671715854,
           261.82020387348075,
           643.6828621777573,
           401.62199158977194,
           356.13449938807395
          ],
          [
           165.78966683273993,
           881.6306767735196,
           532.8412055425431,
           550.7597922690397,
           285.6283672428183
          ],
          [
           231.75164316722984,
           311.3898378099071,
           915.5288426752608,
           673.3089411339307,
           664.1457706557599
          ],
          [
           141.94492435330548,
           310.8883550484485,
           786.1367695812622,
           1134.3107600305705,
           938.0340329110602
          ],
          [
           67.30073631874295,
           170.46333134386853,
           647.3015397795145,
           1018.8124342209532,
           1763.576577145928
          ]
         ]
        }
       ],
       "layout": {
        "coloraxis": {
         "colorscale": [
          [
           0,
           "#0d0887"
          ],
          [
           0.1111111111111111,
           "#46039f"
          ],
          [
           0.2222222222222222,
           "#7201a8"
          ],
          [
           0.3333333333333333,
           "#9c179e"
          ],
          [
           0.4444444444444444,
           "#bd3786"
          ],
          [
           0.5555555555555556,
           "#d8576b"
          ],
          [
           0.6666666666666666,
           "#ed7953"
          ],
          [
           0.7777777777777778,
           "#fb9f3a"
          ],
          [
           0.8888888888888888,
           "#fdca26"
          ],
          [
           1,
           "#f0f921"
          ]
         ]
        },
        "margin": {
         "t": 60
        },
        "template": {
         "data": {
          "bar": [
           {
            "error_x": {
             "color": "#2a3f5f"
            },
            "error_y": {
             "color": "#2a3f5f"
            },
            "marker": {
             "line": {
              "color": "#E5ECF6",
              "width": 0.5
             },
             "pattern": {
              "fillmode": "overlay",
              "size": 10,
              "solidity": 0.2
             }
            },
            "type": "bar"
           }
          ],
          "barpolar": [
           {
            "marker": {
             "line": {
              "color": "#E5ECF6",
              "width": 0.5
             },
             "pattern": {
              "fillmode": "overlay",
              "size": 10,
              "solidity": 0.2
             }
            },
            "type": "barpolar"
           }
          ],
          "carpet": [
           {
            "aaxis": {
             "endlinecolor": "#2a3f5f",
             "gridcolor": "white",
             "linecolor": "white",
             "minorgridcolor": "white",
             "startlinecolor": "#2a3f5f"
            },
            "baxis": {
             "endlinecolor": "#2a3f5f",
             "gridcolor": "white",
             "linecolor": "white",
             "minorgridcolor": "white",
             "startlinecolor": "#2a3f5f"
            },
            "type": "carpet"
           }
          ],
          "choropleth": [
           {
            "colorbar": {
             "outlinewidth": 0,
             "ticks": ""
            },
            "type": "choropleth"
           }
          ],
          "contour": [
           {
            "colorbar": {
             "outlinewidth": 0,
             "ticks": ""
            },
            "colorscale": [
             [
              0,
              "#0d0887"
             ],
             [
              0.1111111111111111,
              "#46039f"
             ],
             [
              0.2222222222222222,
              "#7201a8"
             ],
             [
              0.3333333333333333,
              "#9c179e"
             ],
             [
              0.4444444444444444,
              "#bd3786"
             ],
             [
              0.5555555555555556,
              "#d8576b"
             ],
             [
              0.6666666666666666,
              "#ed7953"
             ],
             [
              0.7777777777777778,
              "#fb9f3a"
             ],
             [
              0.8888888888888888,
              "#fdca26"
             ],
             [
              1,
              "#f0f921"
             ]
            ],
            "type": "contour"
           }
          ],
          "contourcarpet": [
           {
            "colorbar": {
             "outlinewidth": 0,
             "ticks": ""
            },
            "type": "contourcarpet"
           }
          ],
          "heatmap": [
           {
            "colorbar": {
             "outlinewidth": 0,
             "ticks": ""
            },
            "colorscale": [
             [
              0,
              "#0d0887"
             ],
             [
              0.1111111111111111,
              "#46039f"
             ],
             [
              0.2222222222222222,
              "#7201a8"
             ],
             [
              0.3333333333333333,
              "#9c179e"
             ],
             [
              0.4444444444444444,
              "#bd3786"
             ],
             [
              0.5555555555555556,
              "#d8576b"
             ],
             [
              0.6666666666666666,
              "#ed7953"
             ],
             [
              0.7777777777777778,
              "#fb9f3a"
             ],
             [
              0.8888888888888888,
              "#fdca26"
             ],
             [
              1,
              "#f0f921"
             ]
            ],
            "type": "heatmap"
           }
          ],
          "heatmapgl": [
           {
            "colorbar": {
             "outlinewidth": 0,
             "ticks": ""
            },
            "colorscale": [
             [
              0,
              "#0d0887"
             ],
             [
              0.1111111111111111,
              "#46039f"
             ],
             [
              0.2222222222222222,
              "#7201a8"
             ],
             [
              0.3333333333333333,
              "#9c179e"
             ],
             [
              0.4444444444444444,
              "#bd3786"
             ],
             [
              0.5555555555555556,
              "#d8576b"
             ],
             [
              0.6666666666666666,
              "#ed7953"
             ],
             [
              0.7777777777777778,
              "#fb9f3a"
             ],
             [
              0.8888888888888888,
              "#fdca26"
             ],
             [
              1,
              "#f0f921"
             ]
            ],
            "type": "heatmapgl"
           }
          ],
          "histogram": [
           {
            "marker": {
             "pattern": {
              "fillmode": "overlay",
              "size": 10,
              "solidity": 0.2
             }
            },
            "type": "histogram"
           }
          ],
          "histogram2d": [
           {
            "colorbar": {
             "outlinewidth": 0,
             "ticks": ""
            },
            "colorscale": [
             [
              0,
              "#0d0887"
             ],
             [
              0.1111111111111111,
              "#46039f"
             ],
             [
              0.2222222222222222,
              "#7201a8"
             ],
             [
              0.3333333333333333,
              "#9c179e"
             ],
             [
              0.4444444444444444,
              "#bd3786"
             ],
             [
              0.5555555555555556,
              "#d8576b"
             ],
             [
              0.6666666666666666,
              "#ed7953"
             ],
             [
              0.7777777777777778,
              "#fb9f3a"
             ],
             [
              0.8888888888888888,
              "#fdca26"
             ],
             [
              1,
              "#f0f921"
             ]
            ],
            "type": "histogram2d"
           }
          ],
          "histogram2dcontour": [
           {
            "colorbar": {
             "outlinewidth": 0,
             "ticks": ""
            },
            "colorscale": [
             [
              0,
              "#0d0887"
             ],
             [
              0.1111111111111111,
              "#46039f"
             ],
             [
              0.2222222222222222,
              "#7201a8"
             ],
             [
              0.3333333333333333,
              "#9c179e"
             ],
             [
              0.4444444444444444,
              "#bd3786"
             ],
             [
              0.5555555555555556,
              "#d8576b"
             ],
             [
              0.6666666666666666,
              "#ed7953"
             ],
             [
              0.7777777777777778,
              "#fb9f3a"
             ],
             [
              0.8888888888888888,
              "#fdca26"
             ],
             [
              1,
              "#f0f921"
             ]
            ],
            "type": "histogram2dcontour"
           }
          ],
          "mesh3d": [
           {
            "colorbar": {
             "outlinewidth": 0,
             "ticks": ""
            },
            "type": "mesh3d"
           }
          ],
          "parcoords": [
           {
            "line": {
             "colorbar": {
              "outlinewidth": 0,
              "ticks": ""
             }
            },
            "type": "parcoords"
           }
          ],
          "pie": [
           {
            "automargin": true,
            "type": "pie"
           }
          ],
          "scatter": [
           {
            "fillpattern": {
             "fillmode": "overlay",
             "size": 10,
             "solidity": 0.2
            },
            "type": "scatter"
           }
          ],
          "scatter3d": [
           {
            "line": {
             "colorbar": {
              "outlinewidth": 0,
              "ticks": ""
             }
            },
            "marker": {
             "colorbar": {
              "outlinewidth": 0,
              "ticks": ""
             }
            },
            "type": "scatter3d"
           }
          ],
          "scattercarpet": [
           {
            "marker": {
             "colorbar": {
              "outlinewidth": 0,
              "ticks": ""
             }
            },
            "type": "scattercarpet"
           }
          ],
          "scattergeo": [
           {
            "marker": {
             "colorbar": {
              "outlinewidth": 0,
              "ticks": ""
             }
            },
            "type": "scattergeo"
           }
          ],
          "scattergl": [
           {
            "marker": {
             "colorbar": {
              "outlinewidth": 0,
              "ticks": ""
             }
            },
            "type": "scattergl"
           }
          ],
          "scattermapbox": [
           {
            "marker": {
             "colorbar": {
              "outlinewidth": 0,
              "ticks": ""
             }
            },
            "type": "scattermapbox"
           }
          ],
          "scatterpolar": [
           {
            "marker": {
             "colorbar": {
              "outlinewidth": 0,
              "ticks": ""
             }
            },
            "type": "scatterpolar"
           }
          ],
          "scatterpolargl": [
           {
            "marker": {
             "colorbar": {
              "outlinewidth": 0,
              "ticks": ""
             }
            },
            "type": "scatterpolargl"
           }
          ],
          "scatterternary": [
           {
            "marker": {
             "colorbar": {
              "outlinewidth": 0,
              "ticks": ""
             }
            },
            "type": "scatterternary"
           }
          ],
          "surface": [
           {
            "colorbar": {
             "outlinewidth": 0,
             "ticks": ""
            },
            "colorscale": [
             [
              0,
              "#0d0887"
             ],
             [
              0.1111111111111111,
              "#46039f"
             ],
             [
              0.2222222222222222,
              "#7201a8"
             ],
             [
              0.3333333333333333,
              "#9c179e"
             ],
             [
              0.4444444444444444,
              "#bd3786"
             ],
             [
              0.5555555555555556,
              "#d8576b"
             ],
             [
              0.6666666666666666,
              "#ed7953"
             ],
             [
              0.7777777777777778,
              "#fb9f3a"
             ],
             [
              0.8888888888888888,
              "#fdca26"
             ],
             [
              1,
              "#f0f921"
             ]
            ],
            "type": "surface"
           }
          ],
          "table": [
           {
            "cells": {
             "fill": {
              "color": "#EBF0F8"
             },
             "line": {
              "color": "white"
             }
            },
            "header": {
             "fill": {
              "color": "#C8D4E3"
             },
             "line": {
              "color": "white"
             }
            },
            "type": "table"
           }
          ]
         },
         "layout": {
          "annotationdefaults": {
           "arrowcolor": "#2a3f5f",
           "arrowhead": 0,
           "arrowwidth": 1
          },
          "autotypenumbers": "strict",
          "coloraxis": {
           "colorbar": {
            "outlinewidth": 0,
            "ticks": ""
           }
          },
          "colorscale": {
           "diverging": [
            [
             0,
             "#8e0152"
            ],
            [
             0.1,
             "#c51b7d"
            ],
            [
             0.2,
             "#de77ae"
            ],
            [
             0.3,
             "#f1b6da"
            ],
            [
             0.4,
             "#fde0ef"
            ],
            [
             0.5,
             "#f7f7f7"
            ],
            [
             0.6,
             "#e6f5d0"
            ],
            [
             0.7,
             "#b8e186"
            ],
            [
             0.8,
             "#7fbc41"
            ],
            [
             0.9,
             "#4d9221"
            ],
            [
             1,
             "#276419"
            ]
           ],
           "sequential": [
            [
             0,
             "#0d0887"
            ],
            [
             0.1111111111111111,
             "#46039f"
            ],
            [
             0.2222222222222222,
             "#7201a8"
            ],
            [
             0.3333333333333333,
             "#9c179e"
            ],
            [
             0.4444444444444444,
             "#bd3786"
            ],
            [
             0.5555555555555556,
             "#d8576b"
            ],
            [
             0.6666666666666666,
             "#ed7953"
            ],
            [
             0.7777777777777778,
             "#fb9f3a"
            ],
            [
             0.8888888888888888,
             "#fdca26"
            ],
            [
             1,
             "#f0f921"
            ]
           ],
           "sequentialminus": [
            [
             0,
             "#0d0887"
            ],
            [
             0.1111111111111111,
             "#46039f"
            ],
            [
             0.2222222222222222,
             "#7201a8"
            ],
            [
             0.3333333333333333,
             "#9c179e"
            ],
            [
             0.4444444444444444,
             "#bd3786"
            ],
            [
             0.5555555555555556,
             "#d8576b"
            ],
            [
             0.6666666666666666,
             "#ed7953"
            ],
            [
             0.7777777777777778,
             "#fb9f3a"
            ],
            [
             0.8888888888888888,
             "#fdca26"
            ],
            [
             1,
             "#f0f921"
            ]
           ]
          },
          "colorway": [
           "#636efa",
           "#EF553B",
           "#00cc96",
           "#ab63fa",
           "#FFA15A",
           "#19d3f3",
           "#FF6692",
           "#B6E880",
           "#FF97FF",
           "#FECB52"
          ],
          "font": {
           "color": "#2a3f5f"
          },
          "geo": {
           "bgcolor": "white",
           "lakecolor": "white",
           "landcolor": "#E5ECF6",
           "showlakes": true,
           "showland": true,
           "subunitcolor": "white"
          },
          "hoverlabel": {
           "align": "left"
          },
          "hovermode": "closest",
          "mapbox": {
           "style": "light"
          },
          "paper_bgcolor": "white",
          "plot_bgcolor": "#E5ECF6",
          "polar": {
           "angularaxis": {
            "gridcolor": "white",
            "linecolor": "white",
            "ticks": ""
           },
           "bgcolor": "#E5ECF6",
           "radialaxis": {
            "gridcolor": "white",
            "linecolor": "white",
            "ticks": ""
           }
          },
          "scene": {
           "xaxis": {
            "backgroundcolor": "#E5ECF6",
            "gridcolor": "white",
            "gridwidth": 2,
            "linecolor": "white",
            "showbackground": true,
            "ticks": "",
            "zerolinecolor": "white"
           },
           "yaxis": {
            "backgroundcolor": "#E5ECF6",
            "gridcolor": "white",
            "gridwidth": 2,
            "linecolor": "white",
            "showbackground": true,
            "ticks": "",
            "zerolinecolor": "white"
           },
           "zaxis": {
            "backgroundcolor": "#E5ECF6",
            "gridcolor": "white",
            "gridwidth": 2,
            "linecolor": "white",
            "showbackground": true,
            "ticks": "",
            "zerolinecolor": "white"
           }
          },
          "shapedefaults": {
           "line": {
            "color": "#2a3f5f"
           }
          },
          "ternary": {
           "aaxis": {
            "gridcolor": "white",
            "linecolor": "white",
            "ticks": ""
           },
           "baxis": {
            "gridcolor": "white",
            "linecolor": "white",
            "ticks": ""
           },
           "bgcolor": "#E5ECF6",
           "caxis": {
            "gridcolor": "white",
            "linecolor": "white",
            "ticks": ""
           }
          },
          "title": {
           "x": 0.05
          },
          "xaxis": {
           "automargin": true,
           "gridcolor": "white",
           "linecolor": "white",
           "ticks": "",
           "title": {
            "standoff": 15
           },
           "zerolinecolor": "white",
           "zerolinewidth": 2
          },
          "yaxis": {
           "automargin": true,
           "gridcolor": "white",
           "linecolor": "white",
           "ticks": "",
           "title": {
            "standoff": 15
           },
           "zerolinecolor": "white",
           "zerolinewidth": 2
          }
         }
        },
        "xaxis": {
         "anchor": "y",
         "constrain": "domain",
         "domain": [
          0,
          1
         ],
         "scaleanchor": "y"
        },
        "yaxis": {
         "anchor": "x",
         "autorange": "reversed",
         "constrain": "domain",
         "domain": [
          0,
          1
         ]
        }
       }
      }
     },
     "metadata": {},
     "output_type": "display_data"
    }
   ],
   "source": [
    "#get the step test object\n",
    "res = model_0._get_step_test(params.to_dict(), 2000)\n",
    "print(res.ts_graph_vals['age_mixing_matrix'])\n",
    "# it is the \"real\" age_mixing matrix\n",
    "px.imshow(res.ts_graph_vals['age_mixing_matrix'])"
   ]
  },
  {
   "cell_type": "code",
   "execution_count": 13,
   "metadata": {},
   "outputs": [
    {
     "data": {
      "application/vnd.plotly.v1+json": {
       "config": {
        "plotlyServerURL": "https://plot.ly"
       },
       "data": [
        {
         "hoverinfo": "none",
         "line": {
          "color": "#888",
          "width": 1
         },
         "mode": "lines",
         "textposition": "top center",
         "type": "scatter",
         "x": [
          -0.008097659898297256,
          0.6596152568197369,
          null,
          -0.008097659898297256,
          -0.16211133248562165,
          null,
          -0.008097659898297256,
          -0.2810282158604988,
          null,
          -0.008097659898297256,
          -0.7276060464174577,
          null,
          -0.008097659898297256,
          0.5182386220809327,
          null,
          -0.008097659898297256,
          0.007712153861695659,
          null,
          0.5404445386009447,
          0.6596152568197369,
          null,
          -0.07361584161417958,
          0.5404445386009447,
          null,
          -0.07361584161417958,
          -0.1286308042542783,
          null,
          -0.07361584161417958,
          -0.224910144990102,
          null,
          -0.07361584161417958,
          -0.04870944707904408,
          null,
          -0.07361584161417958,
          0.6748173977521227,
          null,
          -0.07361584161417958,
          -0.1103117331816646,
          null,
          -0.07361584161417958,
          -0.7519404304077566,
          null,
          -0.07361584161417958,
          -0.16127717985381837,
          null,
          -0.07361584161417958,
          -0.18951375294620845,
          null,
          -0.07361584161417958,
          -0.049916719399662836,
          null,
          -0.07361584161417958,
          -0.48077913846045334,
          null,
          0.6596152568197369,
          0.6994664364488785,
          null,
          -0.1286308042542783,
          -0.16211133248562165,
          null,
          -0.16211133248562165,
          -0.21781586011757872,
          null,
          -0.224910144990102,
          -0.2810282158604988,
          null,
          -0.2810282158604988,
          -0.3071356623051604,
          null,
          -0.6065744217154871,
          -0.7276060464174577,
          null,
          -0.7276060464174577,
          -0.8088076186975145,
          null,
          0.5081241394864895,
          0.5182386220809327,
          null,
          0.5182386220809327,
          0.633176710190283,
          null,
          -0.12699608612619162,
          0.3339575049850955,
          null,
          -0.12699608612619162,
          0.8677282103169807,
          null,
          -0.12699608612619162,
          -0.7871248145377584,
          null,
          -0.12699608612619162,
          -0.6131506341933866,
          null,
          -0.12699608612619162,
          -0.6554104860412798,
          null,
          -0.12699608612619162,
          -0.12809745771169614,
          null,
          -0.12699608612619162,
          0.44185530007556056,
          null,
          -0.12699608612619162,
          0.17947759148666526,
          null,
          -0.12699608612619162,
          0.6885049025045012,
          null,
          -0.12699608612619162,
          -0.9367726785163194,
          null,
          -0.12699608612619162,
          0.10464717638245408,
          null,
          -0.12699608612619162,
          -0.8430170068618075,
          null,
          -0.12699608612619162,
          -0.36527076287259036,
          null,
          -0.12699608612619162,
          0.751200257821447,
          null,
          -0.12699608612619162,
          -0.7106071995715216,
          null,
          -0.12699608612619162,
          0.2704752106223243,
          null,
          -0.12699608612619162,
          -0.7250485166414407,
          null,
          -0.12699608612619162,
          -0.8534660055781869,
          null,
          -0.12699608612619162,
          0.062151851672213286,
          null,
          -0.12699608612619162,
          -0.6864206136055818,
          null,
          -0.12699608612619162,
          -0.8308223013034715,
          null,
          -0.12699608612619162,
          0.6250339963675929,
          null,
          -0.12699608612619162,
          0.23294760561508251,
          null,
          -0.12699608612619162,
          -0.5257388463855468,
          null,
          0.3144967656797114,
          0.3339575049850955,
          null,
          0.3339575049850955,
          0.46018301012770424,
          null,
          0.8197247274914218,
          0.8677282103169807,
          null,
          0.8677282103169807,
          0.9073469513293819,
          null,
          -0.8192405322202663,
          -0.7871248145377584,
          null,
          -0.18541226582862216,
          -0.8192405322202663,
          null,
          -0.18541226582862216,
          -0.4157545198086895,
          null,
          -0.18541226582862216,
          -0.5776082654060669,
          null,
          -0.18541226582862216,
          -0.09643435709018311,
          null,
          -0.18541226582862216,
          0.398872022257742,
          null,
          -0.18541226582862216,
          0.1600967905838188,
          null,
          -0.7871248145377584,
          -0.7604270870171072,
          null,
          -0.4157545198086895,
          -0.6131506341933866,
          null,
          -0.6131506341933866,
          -0.6473668859123672,
          null,
          -0.5776082654060669,
          -0.6554104860412798,
          null,
          -0.6554104860412798,
          -0.9497862650274536,
          null,
          -0.09643435709018311,
          -0.12809745771169614,
          null,
          -0.12809745771169614,
          -0.1862465369620007,
          null,
          0.398872022257742,
          0.44185530007556056,
          null,
          0.44185530007556056,
          0.563556048022395,
          null,
          0.1600967905838188,
          0.17947759148666526,
          null,
          0.17947759148666526,
          0.21110655522698463,
          null,
          0.45944466332352724,
          0.6282986934500561,
          null,
          -0.027819772698777622,
          -0.043440290812261445,
          null,
          -0.04870944707904408,
          -0.043440290812261445,
          null,
          -0.043440290812261445,
          -0.048083995955554716,
          null,
          0.4275063298790064,
          0.6885049025045012,
          null,
          0.4275063298790064,
          0.6564127854334711,
          null,
          0.4275063298790064,
          0.08454851749254712,
          null,
          0.6748173977521227,
          0.4275063298790064,
          null,
          0.6748173977521227,
          0.6564127854334711,
          null,
          0.6748173977521227,
          0.9872575216496235,
          null,
          -0.1103117331816646,
          0.4275063298790064,
          null,
          -0.1103117331816646,
          -0.6945808710363285,
          null,
          -0.1103117331816646,
          -0.20428405197613173,
          null,
          -0.1103117331816646,
          -0.1848293140177558,
          null,
          -0.1103117331816646,
          -0.2659493964337036,
          null,
          -0.1103117331816646,
          0.6564127854334711,
          null,
          -0.1103117331816646,
          -0.6508178436353899,
          null,
          -0.1103117331816646,
          0.22686589270552626,
          null,
          -0.1103117331816646,
          -0.6336571718680659,
          null,
          -0.1103117331816646,
          -0.765069744262653,
          null,
          -0.1103117331816646,
          0.08454851749254712,
          null,
          -0.1103117331816646,
          -0.5832440589226822,
          null,
          -0.1103117331816646,
          -0.7261839531732477,
          null,
          -0.1103117331816646,
          0.6108311112704707,
          null,
          -0.1103117331816646,
          0.18635149277864654,
          null,
          0.6885049025045012,
          0.8545936686770798,
          null,
          -0.6945808710363285,
          -0.9367726785163194,
          null,
          -0.6945808710363285,
          -0.6508178436353899,
          null,
          -0.6945808710363285,
          -0.5832440589226822,
          null,
          -0.7519404304077566,
          -0.6945808710363285,
          null,
          -0.7519404304077566,
          -0.6508178436353899,
          null,
          -0.7519404304077566,
          -0.9235257486227755,
          null,
          -0.9367726785163194,
          -0.8888426798005892,
          null,
          -0.20428405197613173,
          0.10464717638245408,
          null,
          -0.20428405197613173,
          0.22686589270552626,
          null,
          -0.20428405197613173,
          -0.7261839531732477,
          null,
          -0.16127717985381837,
          -0.20428405197613173,
          null,
          -0.16127717985381837,
          0.22686589270552626,
          null,
          -0.16127717985381837,
          -0.5039049336148711,
          null,
          0.10464717638245408,
          0.1136394716849859,
          null,
          -0.1848293140177558,
          -0.8430170068618075,
          null,
          -0.1848293140177558,
          -0.6336571718680659,
          null,
          -0.1848293140177558,
          0.6108311112704707,
          null,
          -0.18951375294620845,
          -0.1848293140177558,
          null,
          -0.18951375294620845,
          -0.6336571718680659,
          null,
          -0.18951375294620845,
          0.23128418817319446,
          null,
          -0.8430170068618075,
          -0.871996841381064,
          null,
          -0.2659493964337036,
          -0.36527076287259036,
          null,
          -0.2659493964337036,
          -0.765069744262653,
          null,
          -0.2659493964337036,
          0.18635149277864654,
          null,
          -0.049916719399662836,
          -0.2659493964337036,
          null,
          -0.049916719399662836,
          -0.765069744262653,
          null,
          -0.049916719399662836,
          0.6948343722287441,
          null,
          -0.36527076287259036,
          -0.39791751024670047,
          null,
          0.6564127854334711,
          0.751200257821447,
          null,
          0.751200257821447,
          0.8660817755318971,
          null,
          -0.6508178436353899,
          -0.7106071995715216,
          null,
          -0.7106071995715216,
          -0.746759922684836,
          null,
          0.22686589270552626,
          0.2704752106223243,
          null,
          0.2704752106223243,
          0.3862288383417901,
          null,
          -0.6336571718680659,
          -0.7250485166414407,
          null,
          -0.7250485166414407,
          -0.8553893786697276,
          null,
          -0.765069744262653,
          -0.8534660055781869,
          null,
          -0.8534660055781869,
          -0.8432959235313682,
          null,
          0.08454851749254712,
          0.062151851672213286,
          null,
          0.062151851672213286,
          0.07619942567951686,
          null,
          -0.5832440589226822,
          -0.6864206136055818,
          null,
          -0.6864206136055818,
          -0.8708674491074578,
          null,
          -0.7261839531732477,
          -0.8308223013034715,
          null,
          -0.8308223013034715,
          -0.8397842738294841,
          null,
          0.6108311112704707,
          0.6250339963675929,
          null,
          0.6250339963675929,
          0.7230464054920555,
          null,
          0.18635149277864654,
          0.23294760561508251,
          null,
          0.23294760561508251,
          0.29733744818220387,
          null,
          -0.48077913846045334,
          -0.5144228904826433,
          null,
          0.7408872463906847,
          1,
          null,
          0.33445893311440156,
          0.3641535336078185,
          null,
          0.25148696517431796,
          0.32317659891555195,
          null,
          -0.31208167754233734,
          -0.4185480720337932,
          null,
          0.6470106897794471,
          0.7250903708439989,
          null,
          0.7250903708439989,
          0.9109048406701726,
          null,
          0.8647218702376641,
          0.8332305521383987,
          null,
          -0.47934463313419956,
          -0.5466151184593276,
          null,
          0.9185447844771959,
          0.9589681501297671,
          null,
          -0.443397868464718,
          -0.6359155996507653,
          null,
          0.7339913662660451,
          0.6896326541868962,
          null,
          -0.5875061449687773,
          -0.7344135122094364,
          null,
          0.3925112818220413,
          0.5783441246228518,
          null,
          0.7545975538073858,
          0.9021967841656717,
          null,
          0.4067791291130639,
          0.4203056469827859,
          null,
          0.6443997833183739,
          0.6120650936409991,
          null,
          0.1649350254621822,
          0.4305514281063808,
          null,
          0.1649350254621822,
          -0.07390191582043612,
          null,
          0.4305514281063808,
          0.5309568497564742,
          null,
          -0.519705016545187,
          -0.6785218820177045,
          null
         ],
         "y": [
          -0.09474016294060403,
          -0.49707524626154975,
          null,
          -0.09474016294060403,
          0.700134854700835,
          null,
          -0.09474016294060403,
          -0.8470166169235634,
          null,
          -0.09474016294060403,
          -0.5374455462018775,
          null,
          -0.09474016294060403,
          -0.6776650813383429,
          null,
          -0.09474016294060403,
          0.9551244688530847,
          null,
          -0.4150560530998542,
          -0.49707524626154975,
          null,
          -0.033365785213946474,
          -0.4150560530998542,
          null,
          -0.033365785213946474,
          0.5793412294467324,
          null,
          -0.033365785213946474,
          -0.717519205423373,
          null,
          -0.033365785213946474,
          -0.8117894045219817,
          null,
          -0.033365785213946474,
          -0.009691221966502512,
          null,
          -0.033365785213946474,
          -0.012199154292258907,
          null,
          -0.033365785213946474,
          -0.17763083881454653,
          null,
          -0.033365785213946474,
          -0.024349109934972264,
          null,
          -0.033365785213946474,
          0.5736641487208205,
          null,
          -0.033365785213946474,
          0.26317640775939427,
          null,
          -0.033365785213946474,
          0.6970450595309413,
          null,
          -0.49707524626154975,
          -0.5178870533321874,
          null,
          0.5793412294467324,
          0.700134854700835,
          null,
          0.700134854700835,
          0.940457842684848,
          null,
          -0.717519205423373,
          -0.8470166169235634,
          null,
          -0.8470166169235634,
          -0.913526091434353,
          null,
          -0.4430452508453864,
          -0.5374455462018775,
          null,
          -0.5374455462018775,
          -0.5980527928484838,
          null,
          -0.7012577815519833,
          -0.6776650813383429,
          null,
          -0.6776650813383429,
          -0.8229478897725252,
          null,
          0.033531556014723664,
          0.6255215507407894,
          null,
          0.033531556014723664,
          -0.09021671586587912,
          null,
          0.033531556014723664,
          0.4718070523555834,
          null,
          0.033531556014723664,
          0.6332916198020283,
          null,
          0.033531556014723664,
          -0.05356228753975198,
          null,
          0.033531556014723664,
          -0.7160738518604737,
          null,
          0.033531556014723664,
          0.5669134999666909,
          null,
          0.033531556014723664,
          -0.7545246396608548,
          null,
          0.033531556014723664,
          -0.4528387557101655,
          null,
          0.033531556014723664,
          0.06272993811455749,
          null,
          0.033531556014723664,
          0.8125330233677993,
          null,
          0.033531556014723664,
          0.21615193233709,
          null,
          0.033531556014723664,
          0.8505164326428786,
          null,
          0.033531556014723664,
          0.3089160944237013,
          null,
          0.033531556014723664,
          -0.35896052591239935,
          null,
          0.033531556014723664,
          0.6401806441670831,
          null,
          0.033531556014723664,
          0.2862170181945283,
          null,
          0.033531556014723664,
          -0.17336306624875564,
          null,
          0.033531556014723664,
          -0.8642410045308638,
          null,
          0.033531556014723664,
          0.4219552636169432,
          null,
          0.033531556014723664,
          -0.3188162806975611,
          null,
          0.033531556014723664,
          0.5212486441908021,
          null,
          0.033531556014723664,
          -0.6582624913465643,
          null,
          0.033531556014723664,
          -0.8074186926704758,
          null,
          0.5918451705760124,
          0.6255215507407894,
          null,
          0.6255215507407894,
          0.8707377221693327,
          null,
          -0.09201189054720704,
          -0.09021671586587912,
          null,
          -0.09021671586587912,
          -0.0900962994580884,
          null,
          0.49677384048838885,
          0.4718070523555834,
          null,
          0.00999971597130573,
          0.49677384048838885,
          null,
          0.00999971597130573,
          0.4483956725557237,
          null,
          0.00999971597130573,
          -0.04412749677274096,
          null,
          0.00999971597130573,
          -0.5804537309611155,
          null,
          0.00999971597130573,
          0.4907525966661065,
          null,
          0.00999971597130573,
          -0.7252697571414023,
          null,
          0.4718070523555834,
          0.451857738286892,
          null,
          0.4483956725557237,
          0.6332916198020283,
          null,
          0.6332916198020283,
          0.6678090156506166,
          null,
          -0.04412749677274096,
          -0.05356228753975198,
          null,
          -0.05356228753975198,
          -0.0785438360988397,
          null,
          -0.5804537309611155,
          -0.7160738518604737,
          null,
          -0.7160738518604737,
          -0.9438701370887121,
          null,
          0.4907525966661065,
          0.5669134999666909,
          null,
          0.5669134999666909,
          0.7558919859355897,
          null,
          -0.7252697571414023,
          -0.7545246396608548,
          null,
          -0.7545246396608548,
          -0.8783168532845743,
          null,
          0.5420251181242846,
          0.7547643627707211,
          null,
          -0.8206844937500416,
          -0.8873108548677141,
          null,
          -0.8117894045219817,
          -0.8873108548677141,
          null,
          -0.8873108548677141,
          -0.945849361970631,
          null,
          -0.33177119479336475,
          -0.4528387557101655,
          null,
          -0.33177119479336475,
          0.27135341997857326,
          null,
          -0.33177119479336475,
          -0.8809476002441494,
          null,
          -0.009691221966502512,
          -0.33177119479336475,
          null,
          -0.009691221966502512,
          0.27135341997857326,
          null,
          -0.009691221966502512,
          0.1398272664153355,
          null,
          -0.012199154292258907,
          -0.33177119479336475,
          null,
          -0.012199154292258907,
          0.024331861136270935,
          null,
          -0.012199154292258907,
          0.2922184393202409,
          null,
          -0.012199154292258907,
          0.3583596689183039,
          null,
          -0.012199154292258907,
          0.07944205854254778,
          null,
          -0.012199154292258907,
          0.27135341997857326,
          null,
          -0.012199154292258907,
          -0.33044894310057543,
          null,
          -0.012199154292258907,
          0.5730653544187053,
          null,
          -0.012199154292258907,
          0.2528415116095079,
          null,
          -0.012199154292258907,
          -0.13719674466647558,
          null,
          -0.012199154292258907,
          -0.8809476002441494,
          null,
          -0.012199154292258907,
          0.3577385897742803,
          null,
          -0.012199154292258907,
          -0.2924051779259516,
          null,
          -0.012199154292258907,
          0.5358377212691058,
          null,
          -0.012199154292258907,
          -0.5466521646449815,
          null,
          -0.4528387557101655,
          -0.5585030191789825,
          null,
          0.024331861136270935,
          0.06272993811455749,
          null,
          0.024331861136270935,
          -0.33044894310057543,
          null,
          0.024331861136270935,
          0.3577385897742803,
          null,
          -0.17763083881454653,
          0.024331861136270935,
          null,
          -0.17763083881454653,
          -0.33044894310057543,
          null,
          -0.17763083881454653,
          -0.2554184075378686,
          null,
          0.06272993811455749,
          0.057416388916669524,
          null,
          0.2922184393202409,
          0.8125330233677993,
          null,
          0.2922184393202409,
          0.5730653544187053,
          null,
          0.2922184393202409,
          -0.2924051779259516,
          null,
          -0.024349109934972264,
          0.2922184393202409,
          null,
          -0.024349109934972264,
          0.5730653544187053,
          null,
          -0.024349109934972264,
          -0.7091861502793787,
          null,
          0.8125330233677993,
          0.9703061310619473,
          null,
          0.3583596689183039,
          0.21615193233709,
          null,
          0.3583596689183039,
          0.2528415116095079,
          null,
          0.3583596689183039,
          0.5358377212691058,
          null,
          0.5736641487208205,
          0.3583596689183039,
          null,
          0.5736641487208205,
          0.2528415116095079,
          null,
          0.5736641487208205,
          0.9637206972968089,
          null,
          0.21615193233709,
          0.230935842915267,
          null,
          0.07944205854254778,
          0.8505164326428786,
          null,
          0.07944205854254778,
          -0.13719674466647558,
          null,
          0.07944205854254778,
          -0.5466521646449815,
          null,
          0.26317640775939427,
          0.07944205854254778,
          null,
          0.26317640775939427,
          -0.13719674466647558,
          null,
          0.26317640775939427,
          0.7013744920108599,
          null,
          0.8505164326428786,
          0.8547660633649197,
          null,
          0.27135341997857326,
          0.3089160944237013,
          null,
          0.3089160944237013,
          0.3468239325265319,
          null,
          -0.33044894310057543,
          -0.35896052591239935,
          null,
          -0.35896052591239935,
          -0.3647619481663739,
          null,
          0.5730653544187053,
          0.6401806441670831,
          null,
          0.6401806441670831,
          0.8485869745447296,
          null,
          0.2528415116095079,
          0.2862170181945283,
          null,
          0.2862170181945283,
          0.33261440325000585,
          null,
          -0.13719674466647558,
          -0.17336306624875564,
          null,
          -0.17336306624875564,
          -0.20528764333994431,
          null,
          -0.8809476002441494,
          -0.8642410045308638,
          null,
          -0.8642410045308638,
          -0.968128066341929,
          null,
          0.3577385897742803,
          0.4219552636169432,
          null,
          0.4219552636169432,
          0.534042917929376,
          null,
          -0.2924051779259516,
          -0.3188162806975611,
          null,
          -0.3188162806975611,
          -0.28697036865006836,
          null,
          0.5358377212691058,
          0.5212486441908021,
          null,
          0.5212486441908021,
          0.6380625009638443,
          null,
          -0.5466521646449815,
          -0.6582624913465643,
          null,
          -0.6582624913465643,
          -0.8012858959808693,
          null,
          0.6970450595309413,
          0.7432131155600882,
          null,
          0.008044204016312667,
          0.0006756205564614648,
          null,
          0.8786504610797312,
          0.8978346390471815,
          null,
          -0.6955753403952765,
          -0.9107140782603818,
          null,
          -0.6590214856893607,
          -0.8621037614708297,
          null,
          0.3102073907456993,
          0.3352585776873472,
          null,
          0.3352585776873472,
          0.4050195624714821,
          null,
          -0.3960756793610002,
          -0.39067309301492037,
          null,
          0.732439953437556,
          0.8385984017061469,
          null,
          -0.22078182644314487,
          -0.22808212246548773,
          null,
          -0.5246195781042435,
          -0.7434381713753204,
          null,
          0.6293801066898068,
          0.6547267763338758,
          null,
          0.5757678426758538,
          0.7214481393091766,
          null,
          -0.530378209101678,
          -0.8000516549290674,
          null,
          0.18269622759813584,
          0.20574456993575732,
          null,
          -0.8073680020121087,
          -0.8429241316737711,
          null,
          -0.6941699731444293,
          -0.7003168238251369,
          null,
          0.7825553982781448,
          0.6612617358552811,
          null,
          0.7825553982781448,
          0.9737466914586442,
          null,
          0.6612617358552811,
          0.8293687543334082,
          null,
          -0.47137188194764496,
          -0.6379131769989292,
          null
         ]
        },
        {
         "hoverinfo": "text",
         "hovertext": [
          "parameters.contact_rate<br>contact_rate(0.009976641551950861)",
          "_var1<br>bcg_multiplier_func<br>args:<br>&nbsp;&nbsp;&nbsp;&nbsp;Variable: graph_locals[model_variables.time]<br>&nbsp;&nbsp;&nbsp;&nbsp;<function build_static_sigmoidal_multicurve.<locals>.scaled_curve at 0x0000016BAC5B17E0><br>&nbsp;&nbsp;&nbsp;&nbsp;0.3<br>&nbsp;&nbsp;&nbsp;&nbsp;2.5<br>kwargs:",
          "model_variables.time<br>ModelVariable time",
          "_var3<br>multiply<br>args:<br>&nbsp;&nbsp;&nbsp;&nbsp;Variable: graph_locals[parameters.contact_rate]<br>&nbsp;&nbsp;&nbsp;&nbsp;Variable: graph_locals[_var1]<br>kwargs:",
          "_var4<br>bcg_multiplier_func<br>args:<br>&nbsp;&nbsp;&nbsp;&nbsp;Variable: graph_locals[model_variables.time]<br>&nbsp;&nbsp;&nbsp;&nbsp;<function build_static_sigmoidal_multicurve.<locals>.scaled_curve at 0x0000016BAC5B17E0><br>&nbsp;&nbsp;&nbsp;&nbsp;0.3<br>&nbsp;&nbsp;&nbsp;&nbsp;10.0<br>kwargs:",
          "_var5<br>multiply<br>args:<br>&nbsp;&nbsp;&nbsp;&nbsp;Variable: graph_locals[parameters.contact_rate]<br>&nbsp;&nbsp;&nbsp;&nbsp;Variable: graph_locals[_var4]<br>kwargs:",
          "_var6<br>bcg_multiplier_func<br>args:<br>&nbsp;&nbsp;&nbsp;&nbsp;Variable: graph_locals[model_variables.time]<br>&nbsp;&nbsp;&nbsp;&nbsp;<function build_static_sigmoidal_multicurve.<locals>.scaled_curve at 0x0000016BAC5B17E0><br>&nbsp;&nbsp;&nbsp;&nbsp;0.7375<br>&nbsp;&nbsp;&nbsp;&nbsp;25.0<br>kwargs:",
          "_var7<br>multiply<br>args:<br>&nbsp;&nbsp;&nbsp;&nbsp;Variable: graph_locals[parameters.contact_rate]<br>&nbsp;&nbsp;&nbsp;&nbsp;Variable: graph_locals[_var6]<br>kwargs:",
          "parameters.rr_infection_latent<br>rr_infection_latent(0.49076018816019046)",
          "_var9<br>multiply<br>args:<br>&nbsp;&nbsp;&nbsp;&nbsp;Variable: graph_locals[parameters.contact_rate]<br>&nbsp;&nbsp;&nbsp;&nbsp;Variable: graph_locals[parameters.rr_infection_latent]<br>kwargs:",
          "parameters.rr_infection_recovered<br>rr_infection_recovered(0.24685066299673822)",
          "_var11<br>multiply<br>args:<br>&nbsp;&nbsp;&nbsp;&nbsp;Variable: graph_locals[parameters.contact_rate]<br>&nbsp;&nbsp;&nbsp;&nbsp;Variable: graph_locals[parameters.rr_infection_recovered]<br>kwargs:",
          "_var12<br>Data: 1.0",
          "_var13<br>Data: 4.383",
          "_var14<br>multiply<br>args:<br>&nbsp;&nbsp;&nbsp;&nbsp;Variable: graph_locals[_var12]<br>&nbsp;&nbsp;&nbsp;&nbsp;Variable: graph_locals[_var13]<br>kwargs:",
          "_var15<br>Data: 1.972",
          "_var16<br>multiply<br>args:<br>&nbsp;&nbsp;&nbsp;&nbsp;Variable: graph_locals[_var12]<br>&nbsp;&nbsp;&nbsp;&nbsp;Variable: graph_locals[_var15]<br>kwargs:",
          "_var17<br>multiply<br>args:<br>&nbsp;&nbsp;&nbsp;&nbsp;2.4107<br>&nbsp;&nbsp;&nbsp;&nbsp;Variable: graph_locals[parameters.progression_multiplier]<br>kwargs:",
          "parameters.progression_multiplier<br>progression_multiplier(0.314988113161106)",
          "_var19<br>multiply<br>args:<br>&nbsp;&nbsp;&nbsp;&nbsp;Variable: graph_locals[_var12]<br>&nbsp;&nbsp;&nbsp;&nbsp;Variable: graph_locals[_var17]<br>kwargs:",
          "_var20<br>multiply<br>args:<br>&nbsp;&nbsp;&nbsp;&nbsp;0.9862<br>&nbsp;&nbsp;&nbsp;&nbsp;Variable: graph_locals[parameters.progression_multiplier]<br>kwargs:",
          "_var21<br>multiply<br>args:<br>&nbsp;&nbsp;&nbsp;&nbsp;Variable: graph_locals[_var12]<br>&nbsp;&nbsp;&nbsp;&nbsp;Variable: graph_locals[_var20]<br>kwargs:",
          "_var22<br>multiply<br>args:<br>&nbsp;&nbsp;&nbsp;&nbsp;0.0986<br>&nbsp;&nbsp;&nbsp;&nbsp;Variable: graph_locals[parameters.progression_multiplier]<br>kwargs:",
          "_var23<br>multiply<br>args:<br>&nbsp;&nbsp;&nbsp;&nbsp;Variable: graph_locals[_var12]<br>&nbsp;&nbsp;&nbsp;&nbsp;Variable: graph_locals[_var22]<br>kwargs:",
          "_var24<br>multiply<br>args:<br>&nbsp;&nbsp;&nbsp;&nbsp;6.939769e-09<br>&nbsp;&nbsp;&nbsp;&nbsp;Variable: graph_locals[parameters.progression_multiplier]<br>kwargs:",
          "_var25<br>multiply<br>args:<br>&nbsp;&nbsp;&nbsp;&nbsp;Variable: graph_locals[_var12]<br>&nbsp;&nbsp;&nbsp;&nbsp;Variable: graph_locals[_var24]<br>kwargs:",
          "_var26<br>multiply<br>args:<br>&nbsp;&nbsp;&nbsp;&nbsp;0.0023<br>&nbsp;&nbsp;&nbsp;&nbsp;Variable: graph_locals[parameters.progression_multiplier]<br>kwargs:",
          "_var27<br>multiply<br>args:<br>&nbsp;&nbsp;&nbsp;&nbsp;Variable: graph_locals[_var12]<br>&nbsp;&nbsp;&nbsp;&nbsp;Variable: graph_locals[_var26]<br>kwargs:",
          "_var28<br>multiply<br>args:<br>&nbsp;&nbsp;&nbsp;&nbsp;0.0012<br>&nbsp;&nbsp;&nbsp;&nbsp;Variable: graph_locals[parameters.progression_multiplier]<br>kwargs:",
          "_var29<br>multiply<br>args:<br>&nbsp;&nbsp;&nbsp;&nbsp;Variable: graph_locals[_var12]<br>&nbsp;&nbsp;&nbsp;&nbsp;Variable: graph_locals[_var28]<br>kwargs:",
          "_var30<br>Data: 0.2",
          "parameters.cdr_adjustment<br>cdr_adjustment(0.6013891618826954)",
          "_var32<br>scaled_curve<br>args:<br>&nbsp;&nbsp;&nbsp;&nbsp;Variable: graph_locals[model_variables.time]<br>kwargs:",
          "_var33<br>multiply<br>args:<br>&nbsp;&nbsp;&nbsp;&nbsp;Variable: graph_locals[parameters.cdr_adjustment]<br>&nbsp;&nbsp;&nbsp;&nbsp;Variable: graph_locals[_var32]<br>kwargs:",
          "_var34<br>get_treatment_recovery_rate<br>args:<br>&nbsp;&nbsp;&nbsp;&nbsp;0.5<br>&nbsp;&nbsp;&nbsp;&nbsp;0.2<br>&nbsp;&nbsp;&nbsp;&nbsp;Variable: graph_locals[_var35]<br>&nbsp;&nbsp;&nbsp;&nbsp;Variable: graph_locals[_var36]<br>kwargs:",
          "_var35<br>scaled_curve<br>args:<br>&nbsp;&nbsp;&nbsp;&nbsp;Variable: graph_locals[model_variables.time]<br>kwargs:",
          "_var36<br>scaled_curve<br>args:<br>&nbsp;&nbsp;&nbsp;&nbsp;Variable: graph_locals[model_variables.time]<br>kwargs:",
          "_var37<br>multiply<br>args:<br>&nbsp;&nbsp;&nbsp;&nbsp;Variable: graph_locals[_var12]<br>&nbsp;&nbsp;&nbsp;&nbsp;Variable: graph_locals[_var34]<br>kwargs:",
          "_var38<br>get_treatment_recovery_rate<br>args:<br>&nbsp;&nbsp;&nbsp;&nbsp;0.5<br>&nbsp;&nbsp;&nbsp;&nbsp;0.2<br>&nbsp;&nbsp;&nbsp;&nbsp;Variable: graph_locals[_var39]<br>&nbsp;&nbsp;&nbsp;&nbsp;Variable: graph_locals[_var36]<br>kwargs:",
          "_var39<br>scaled_curve<br>args:<br>&nbsp;&nbsp;&nbsp;&nbsp;Variable: graph_locals[model_variables.time]<br>kwargs:",
          "_var40<br>multiply<br>args:<br>&nbsp;&nbsp;&nbsp;&nbsp;Variable: graph_locals[_var12]<br>&nbsp;&nbsp;&nbsp;&nbsp;Variable: graph_locals[_var38]<br>kwargs:",
          "_var41<br>get_treatment_recovery_rate<br>args:<br>&nbsp;&nbsp;&nbsp;&nbsp;0.5<br>&nbsp;&nbsp;&nbsp;&nbsp;0.2<br>&nbsp;&nbsp;&nbsp;&nbsp;Variable: graph_locals[_var42]<br>&nbsp;&nbsp;&nbsp;&nbsp;Variable: graph_locals[_var36]<br>kwargs:",
          "_var42<br>scaled_curve<br>args:<br>&nbsp;&nbsp;&nbsp;&nbsp;Variable: graph_locals[model_variables.time]<br>kwargs:",
          "_var43<br>multiply<br>args:<br>&nbsp;&nbsp;&nbsp;&nbsp;Variable: graph_locals[_var12]<br>&nbsp;&nbsp;&nbsp;&nbsp;Variable: graph_locals[_var41]<br>kwargs:",
          "_var44<br>get_treatment_recovery_rate<br>args:<br>&nbsp;&nbsp;&nbsp;&nbsp;0.5<br>&nbsp;&nbsp;&nbsp;&nbsp;0.2<br>&nbsp;&nbsp;&nbsp;&nbsp;Variable: graph_locals[_var45]<br>&nbsp;&nbsp;&nbsp;&nbsp;Variable: graph_locals[_var36]<br>kwargs:",
          "_var45<br>scaled_curve<br>args:<br>&nbsp;&nbsp;&nbsp;&nbsp;Variable: graph_locals[model_variables.time]<br>kwargs:",
          "_var46<br>multiply<br>args:<br>&nbsp;&nbsp;&nbsp;&nbsp;Variable: graph_locals[_var12]<br>&nbsp;&nbsp;&nbsp;&nbsp;Variable: graph_locals[_var44]<br>kwargs:",
          "_var47<br>get_treatment_recovery_rate<br>args:<br>&nbsp;&nbsp;&nbsp;&nbsp;0.5<br>&nbsp;&nbsp;&nbsp;&nbsp;0.2<br>&nbsp;&nbsp;&nbsp;&nbsp;Variable: graph_locals[_var48]<br>&nbsp;&nbsp;&nbsp;&nbsp;Variable: graph_locals[_var36]<br>kwargs:",
          "_var48<br>scaled_curve<br>args:<br>&nbsp;&nbsp;&nbsp;&nbsp;Variable: graph_locals[model_variables.time]<br>kwargs:",
          "_var49<br>multiply<br>args:<br>&nbsp;&nbsp;&nbsp;&nbsp;Variable: graph_locals[_var12]<br>&nbsp;&nbsp;&nbsp;&nbsp;Variable: graph_locals[_var47]<br>kwargs:",
          "_var50<br>get_treatment_death_rate<br>args:<br>&nbsp;&nbsp;&nbsp;&nbsp;0.2<br>&nbsp;&nbsp;&nbsp;&nbsp;Variable: graph_locals[_var35]<br>&nbsp;&nbsp;&nbsp;&nbsp;Variable: graph_locals[_var34]<br>&nbsp;&nbsp;&nbsp;&nbsp;Variable: graph_locals[_var36]<br>kwargs:",
          "_var51<br>multiply<br>args:<br>&nbsp;&nbsp;&nbsp;&nbsp;Variable: graph_locals[_var12]<br>&nbsp;&nbsp;&nbsp;&nbsp;Variable: graph_locals[_var50]<br>kwargs:",
          "_var52<br>get_treatment_death_rate<br>args:<br>&nbsp;&nbsp;&nbsp;&nbsp;0.2<br>&nbsp;&nbsp;&nbsp;&nbsp;Variable: graph_locals[_var39]<br>&nbsp;&nbsp;&nbsp;&nbsp;Variable: graph_locals[_var38]<br>&nbsp;&nbsp;&nbsp;&nbsp;Variable: graph_locals[_var36]<br>kwargs:",
          "_var53<br>multiply<br>args:<br>&nbsp;&nbsp;&nbsp;&nbsp;Variable: graph_locals[_var12]<br>&nbsp;&nbsp;&nbsp;&nbsp;Variable: graph_locals[_var52]<br>kwargs:",
          "_var54<br>get_treatment_death_rate<br>args:<br>&nbsp;&nbsp;&nbsp;&nbsp;0.2<br>&nbsp;&nbsp;&nbsp;&nbsp;Variable: graph_locals[_var42]<br>&nbsp;&nbsp;&nbsp;&nbsp;Variable: graph_locals[_var41]<br>&nbsp;&nbsp;&nbsp;&nbsp;Variable: graph_locals[_var36]<br>kwargs:",
          "_var55<br>multiply<br>args:<br>&nbsp;&nbsp;&nbsp;&nbsp;Variable: graph_locals[_var12]<br>&nbsp;&nbsp;&nbsp;&nbsp;Variable: graph_locals[_var54]<br>kwargs:",
          "_var56<br>get_treatment_death_rate<br>args:<br>&nbsp;&nbsp;&nbsp;&nbsp;0.2<br>&nbsp;&nbsp;&nbsp;&nbsp;Variable: graph_locals[_var45]<br>&nbsp;&nbsp;&nbsp;&nbsp;Variable: graph_locals[_var44]<br>&nbsp;&nbsp;&nbsp;&nbsp;Variable: graph_locals[_var36]<br>kwargs:",
          "_var57<br>multiply<br>args:<br>&nbsp;&nbsp;&nbsp;&nbsp;Variable: graph_locals[_var12]<br>&nbsp;&nbsp;&nbsp;&nbsp;Variable: graph_locals[_var56]<br>kwargs:",
          "_var58<br>get_treatment_death_rate<br>args:<br>&nbsp;&nbsp;&nbsp;&nbsp;0.2<br>&nbsp;&nbsp;&nbsp;&nbsp;Variable: graph_locals[_var48]<br>&nbsp;&nbsp;&nbsp;&nbsp;Variable: graph_locals[_var47]<br>&nbsp;&nbsp;&nbsp;&nbsp;Variable: graph_locals[_var36]<br>kwargs:",
          "_var59<br>multiply<br>args:<br>&nbsp;&nbsp;&nbsp;&nbsp;Variable: graph_locals[_var12]<br>&nbsp;&nbsp;&nbsp;&nbsp;Variable: graph_locals[_var58]<br>kwargs:",
          "_var60<br>get_treatment_relapse_rate<br>args:<br>&nbsp;&nbsp;&nbsp;&nbsp;0.2<br>&nbsp;&nbsp;&nbsp;&nbsp;Variable: graph_locals[_var34]<br>&nbsp;&nbsp;&nbsp;&nbsp;Variable: graph_locals[_var36]<br>kwargs:",
          "_var61<br>multiply<br>args:<br>&nbsp;&nbsp;&nbsp;&nbsp;Variable: graph_locals[_var12]<br>&nbsp;&nbsp;&nbsp;&nbsp;Variable: graph_locals[_var60]<br>kwargs:",
          "_var62<br>get_treatment_relapse_rate<br>args:<br>&nbsp;&nbsp;&nbsp;&nbsp;0.2<br>&nbsp;&nbsp;&nbsp;&nbsp;Variable: graph_locals[_var38]<br>&nbsp;&nbsp;&nbsp;&nbsp;Variable: graph_locals[_var36]<br>kwargs:",
          "_var63<br>multiply<br>args:<br>&nbsp;&nbsp;&nbsp;&nbsp;Variable: graph_locals[_var12]<br>&nbsp;&nbsp;&nbsp;&nbsp;Variable: graph_locals[_var62]<br>kwargs:",
          "_var64<br>get_treatment_relapse_rate<br>args:<br>&nbsp;&nbsp;&nbsp;&nbsp;0.2<br>&nbsp;&nbsp;&nbsp;&nbsp;Variable: graph_locals[_var41]<br>&nbsp;&nbsp;&nbsp;&nbsp;Variable: graph_locals[_var36]<br>kwargs:",
          "_var65<br>multiply<br>args:<br>&nbsp;&nbsp;&nbsp;&nbsp;Variable: graph_locals[_var12]<br>&nbsp;&nbsp;&nbsp;&nbsp;Variable: graph_locals[_var64]<br>kwargs:",
          "_var66<br>get_treatment_relapse_rate<br>args:<br>&nbsp;&nbsp;&nbsp;&nbsp;0.2<br>&nbsp;&nbsp;&nbsp;&nbsp;Variable: graph_locals[_var44]<br>&nbsp;&nbsp;&nbsp;&nbsp;Variable: graph_locals[_var36]<br>kwargs:",
          "_var67<br>multiply<br>args:<br>&nbsp;&nbsp;&nbsp;&nbsp;Variable: graph_locals[_var12]<br>&nbsp;&nbsp;&nbsp;&nbsp;Variable: graph_locals[_var66]<br>kwargs:",
          "_var68<br>get_treatment_relapse_rate<br>args:<br>&nbsp;&nbsp;&nbsp;&nbsp;0.2<br>&nbsp;&nbsp;&nbsp;&nbsp;Variable: graph_locals[_var47]<br>&nbsp;&nbsp;&nbsp;&nbsp;Variable: graph_locals[_var36]<br>kwargs:",
          "_var69<br>multiply<br>args:<br>&nbsp;&nbsp;&nbsp;&nbsp;Variable: graph_locals[_var12]<br>&nbsp;&nbsp;&nbsp;&nbsp;Variable: graph_locals[_var68]<br>kwargs:",
          "_var70<br>scaled_curve<br>args:<br>&nbsp;&nbsp;&nbsp;&nbsp;Variable: graph_locals[model_variables.time]<br>kwargs:",
          "_var71<br>Data: 0.1",
          "_var72<br>Data: 0.05",
          "_var73<br>Data: 0.06666666666666667",
          "_var74<br>Data: 166.0",
          "parameters.start_population_size<br>start_population_size(232213.3052017466)",
          "_var76<br>subtract<br>args:<br>&nbsp;&nbsp;&nbsp;&nbsp;Variable: graph_locals[parameters.start_population_size]<br>&nbsp;&nbsp;&nbsp;&nbsp;166.0<br>kwargs:",
          "_var77<br>Data: 0.0",
          "_var78<br>Data: 9.018599388614656e-06",
          "_var79<br>Data: 0.06931017816607285",
          "_var80<br>Data: 0.9653426410750605",
          "_var81<br>Data: 0.9999999998625898",
          "_var82<br>Data: 7.214879510891726e-07",
          "_var83<br>Data: 0.005544814253285828",
          "_var84<br>Data: 0.07722741128600484",
          "_var85<br>Data: 0.07999999998900718",
          "_var86<br>Data: 0.08",
          "_var87<br>Data: array([[ 398....63.57657715]])",
          "_var88<br>assign<br>args:<br>&nbsp;&nbsp;&nbsp;&nbsp;Variable: graph_locals[_var87]<br>kwargs:",
          "gather_cv<br>capture_kwargs<br>args:<br>kwargs:",
          "infection_rate<br>assign<br>args:<br>&nbsp;&nbsp;&nbsp;&nbsp;Variable: graph_locals[_var3]<br>kwargs:",
          "infection_rate_1<br>assign<br>args:<br>&nbsp;&nbsp;&nbsp;&nbsp;Variable: graph_locals[_var5]<br>kwargs:",
          "infection_rate_2<br>assign<br>args:<br>&nbsp;&nbsp;&nbsp;&nbsp;Variable: graph_locals[_var7]<br>kwargs:",
          "infection_rate_3<br>assign<br>args:<br>&nbsp;&nbsp;&nbsp;&nbsp;Variable: graph_locals[parameters.contact_rate]<br>kwargs:",
          "infection_from_latent_rate<br>assign<br>args:<br>&nbsp;&nbsp;&nbsp;&nbsp;Variable: graph_locals[_var9]<br>kwargs:",
          "infection_from_recovered_rate<br>assign<br>args:<br>&nbsp;&nbsp;&nbsp;&nbsp;Variable: graph_locals[_var11]<br>kwargs:",
          "stabilisation_rate<br>assign<br>args:<br>&nbsp;&nbsp;&nbsp;&nbsp;Variable: graph_locals[_var14]<br>kwargs:",
          "stabilisation_rate_7<br>assign<br>args:<br>&nbsp;&nbsp;&nbsp;&nbsp;Variable: graph_locals[_var16]<br>kwargs:",
          "early_activation_rate<br>assign<br>args:<br>&nbsp;&nbsp;&nbsp;&nbsp;Variable: graph_locals[_var19]<br>kwargs:",
          "early_activation_rate_9<br>assign<br>args:<br>&nbsp;&nbsp;&nbsp;&nbsp;Variable: graph_locals[_var21]<br>kwargs:",
          "early_activation_rate_10<br>assign<br>args:<br>&nbsp;&nbsp;&nbsp;&nbsp;Variable: graph_locals[_var23]<br>kwargs:",
          "late_activation_rate<br>assign<br>args:<br>&nbsp;&nbsp;&nbsp;&nbsp;Variable: graph_locals[_var25]<br>kwargs:",
          "late_activation_rate_12<br>assign<br>args:<br>&nbsp;&nbsp;&nbsp;&nbsp;Variable: graph_locals[_var27]<br>kwargs:",
          "late_activation_rate_13<br>assign<br>args:<br>&nbsp;&nbsp;&nbsp;&nbsp;Variable: graph_locals[_var29]<br>kwargs:",
          "self_recovery_rate<br>assign<br>args:<br>&nbsp;&nbsp;&nbsp;&nbsp;Variable: graph_locals[_var30]<br>kwargs:",
          "detection_rate<br>assign<br>args:<br>&nbsp;&nbsp;&nbsp;&nbsp;Variable: graph_locals[_var33]<br>kwargs:",
          "treatment_recovery_rate<br>assign<br>args:<br>&nbsp;&nbsp;&nbsp;&nbsp;Variable: graph_locals[_var37]<br>kwargs:",
          "treatment_recovery_rate_17<br>assign<br>args:<br>&nbsp;&nbsp;&nbsp;&nbsp;Variable: graph_locals[_var40]<br>kwargs:",
          "treatment_recovery_rate_18<br>assign<br>args:<br>&nbsp;&nbsp;&nbsp;&nbsp;Variable: graph_locals[_var43]<br>kwargs:",
          "treatment_recovery_rate_19<br>assign<br>args:<br>&nbsp;&nbsp;&nbsp;&nbsp;Variable: graph_locals[_var46]<br>kwargs:",
          "treatment_recovery_rate_20<br>assign<br>args:<br>&nbsp;&nbsp;&nbsp;&nbsp;Variable: graph_locals[_var49]<br>kwargs:",
          "treatment_death_rate<br>assign<br>args:<br>&nbsp;&nbsp;&nbsp;&nbsp;Variable: graph_locals[_var51]<br>kwargs:",
          "treatment_death_rate_22<br>assign<br>args:<br>&nbsp;&nbsp;&nbsp;&nbsp;Variable: graph_locals[_var53]<br>kwargs:",
          "treatment_death_rate_23<br>assign<br>args:<br>&nbsp;&nbsp;&nbsp;&nbsp;Variable: graph_locals[_var55]<br>kwargs:",
          "treatment_death_rate_24<br>assign<br>args:<br>&nbsp;&nbsp;&nbsp;&nbsp;Variable: graph_locals[_var57]<br>kwargs:",
          "treatment_death_rate_25<br>assign<br>args:<br>&nbsp;&nbsp;&nbsp;&nbsp;Variable: graph_locals[_var59]<br>kwargs:",
          "relapse_rate<br>assign<br>args:<br>&nbsp;&nbsp;&nbsp;&nbsp;Variable: graph_locals[_var61]<br>kwargs:",
          "relapse_rate_27<br>assign<br>args:<br>&nbsp;&nbsp;&nbsp;&nbsp;Variable: graph_locals[_var63]<br>kwargs:",
          "relapse_rate_28<br>assign<br>args:<br>&nbsp;&nbsp;&nbsp;&nbsp;Variable: graph_locals[_var65]<br>kwargs:",
          "relapse_rate_29<br>assign<br>args:<br>&nbsp;&nbsp;&nbsp;&nbsp;Variable: graph_locals[_var67]<br>kwargs:",
          "relapse_rate_30<br>assign<br>args:<br>&nbsp;&nbsp;&nbsp;&nbsp;Variable: graph_locals[_var69]<br>kwargs:",
          "birth_rate<br>assign<br>args:<br>&nbsp;&nbsp;&nbsp;&nbsp;Variable: graph_locals[_var70]<br>kwargs:",
          "universal_death_rate<br>assign<br>args:<br>&nbsp;&nbsp;&nbsp;&nbsp;Variable: graph_locals[_var35]<br>kwargs:",
          "universal_death_rate_33<br>assign<br>args:<br>&nbsp;&nbsp;&nbsp;&nbsp;Variable: graph_locals[_var39]<br>kwargs:",
          "universal_death_rate_34<br>assign<br>args:<br>&nbsp;&nbsp;&nbsp;&nbsp;Variable: graph_locals[_var42]<br>kwargs:",
          "universal_death_rate_35<br>assign<br>args:<br>&nbsp;&nbsp;&nbsp;&nbsp;Variable: graph_locals[_var45]<br>kwargs:",
          "universal_death_rate_36<br>assign<br>args:<br>&nbsp;&nbsp;&nbsp;&nbsp;Variable: graph_locals[_var48]<br>kwargs:",
          "ageing_susceptibleXage_5_to_susceptibleXage_15_rate<br>assign<br>args:<br>&nbsp;&nbsp;&nbsp;&nbsp;Variable: graph_locals[_var71]<br>kwargs:",
          "ageing_susceptibleXage_15_to_susceptibleXage_35_rate<br>assign<br>args:<br>&nbsp;&nbsp;&nbsp;&nbsp;Variable: graph_locals[_var72]<br>kwargs:",
          "ageing_susceptibleXage_35_to_susceptibleXage_50_rate<br>assign<br>args:<br>&nbsp;&nbsp;&nbsp;&nbsp;Variable: graph_locals[_var73]<br>kwargs:",
          "init_pop_dist_infectious<br>assign<br>args:<br>&nbsp;&nbsp;&nbsp;&nbsp;Variable: graph_locals[_var74]<br>kwargs:",
          "init_pop_dist_susceptible<br>assign<br>args:<br>&nbsp;&nbsp;&nbsp;&nbsp;Variable: graph_locals[_var76]<br>kwargs:",
          "init_pop_dist_early_latent<br>assign<br>args:<br>&nbsp;&nbsp;&nbsp;&nbsp;Variable: graph_locals[_var77]<br>kwargs:",
          "age_iadj_infectious_0<br>assign<br>args:<br>&nbsp;&nbsp;&nbsp;&nbsp;Variable: graph_locals[_var78]<br>kwargs:",
          "age_iadj_infectious_5<br>assign<br>args:<br>&nbsp;&nbsp;&nbsp;&nbsp;Variable: graph_locals[_var79]<br>kwargs:",
          "age_iadj_infectious_15<br>assign<br>args:<br>&nbsp;&nbsp;&nbsp;&nbsp;Variable: graph_locals[_var80]<br>kwargs:",
          "age_iadj_infectious_35<br>assign<br>args:<br>&nbsp;&nbsp;&nbsp;&nbsp;Variable: graph_locals[_var81]<br>kwargs:",
          "age_iadj_infectious_50<br>assign<br>args:<br>&nbsp;&nbsp;&nbsp;&nbsp;Variable: graph_locals[_var12]<br>kwargs:",
          "age_iadj_on_treatment_0<br>assign<br>args:<br>&nbsp;&nbsp;&nbsp;&nbsp;Variable: graph_locals[_var82]<br>kwargs:",
          "age_iadj_on_treatment_5<br>assign<br>args:<br>&nbsp;&nbsp;&nbsp;&nbsp;Variable: graph_locals[_var83]<br>kwargs:",
          "age_iadj_on_treatment_15<br>assign<br>args:<br>&nbsp;&nbsp;&nbsp;&nbsp;Variable: graph_locals[_var84]<br>kwargs:",
          "age_iadj_on_treatment_35<br>assign<br>args:<br>&nbsp;&nbsp;&nbsp;&nbsp;Variable: graph_locals[_var85]<br>kwargs:",
          "age_iadj_on_treatment_50<br>assign<br>args:<br>&nbsp;&nbsp;&nbsp;&nbsp;Variable: graph_locals[_var86]<br>kwargs:",
          "age_mixing_matrix<br>assign<br>args:<br>&nbsp;&nbsp;&nbsp;&nbsp;Variable: graph_locals[_var87]<br>kwargs:",
          "mixing_matrix<br>assign<br>args:<br>&nbsp;&nbsp;&nbsp;&nbsp;Variable: graph_locals[_var88]<br>kwargs:",
          "computed_values<br>assign<br>args:<br>&nbsp;&nbsp;&nbsp;&nbsp;Variable: graph_locals[gather_cv]<br>kwargs:"
         ],
         "marker": {
          "color": [
           "lightgreen",
           "lightblue",
           "lightgreen",
           "lightblue",
           "lightblue",
           "lightblue",
           "lightblue",
           "lightblue",
           "lightgreen",
           "lightblue",
           "lightgreen",
           "lightblue",
           "red",
           "red",
           "lightblue",
           "red",
           "lightblue",
           "lightblue",
           "lightgreen",
           "lightblue",
           "lightblue",
           "lightblue",
           "lightblue",
           "lightblue",
           "lightblue",
           "lightblue",
           "lightblue",
           "lightblue",
           "lightblue",
           "lightblue",
           "red",
           "lightgreen",
           "lightblue",
           "lightblue",
           "lightblue",
           "lightblue",
           "lightblue",
           "lightblue",
           "lightblue",
           "lightblue",
           "lightblue",
           "lightblue",
           "lightblue",
           "lightblue",
           "lightblue",
           "lightblue",
           "lightblue",
           "lightblue",
           "lightblue",
           "lightblue",
           "lightblue",
           "lightblue",
           "lightblue",
           "lightblue",
           "lightblue",
           "lightblue",
           "lightblue",
           "lightblue",
           "lightblue",
           "lightblue",
           "lightblue",
           "lightblue",
           "lightblue",
           "lightblue",
           "lightblue",
           "lightblue",
           "lightblue",
           "lightblue",
           "lightblue",
           "lightblue",
           "lightblue",
           "red",
           "red",
           "red",
           "red",
           "lightgreen",
           "lightblue",
           "red",
           "red",
           "red",
           "red",
           "red",
           "red",
           "red",
           "red",
           "red",
           "red",
           "red",
           "lightblue",
           "lightblue",
           "#ee88ee",
           "#ee88ee",
           "#ee88ee",
           "#ee88ee",
           "#ee88ee",
           "#ee88ee",
           "#ee88ee",
           "#ee88ee",
           "#ee88ee",
           "#ee88ee",
           "#ee88ee",
           "#ee88ee",
           "#ee88ee",
           "#ee88ee",
           "#ee88ee",
           "#ee88ee",
           "#ee88ee",
           "#ee88ee",
           "#ee88ee",
           "#ee88ee",
           "#ee88ee",
           "#ee88ee",
           "#ee88ee",
           "#ee88ee",
           "#ee88ee",
           "#ee88ee",
           "#ee88ee",
           "#ee88ee",
           "#ee88ee",
           "#ee88ee",
           "#ee88ee",
           "#ee88ee",
           "#ee88ee",
           "#ee88ee",
           "#ee88ee",
           "#ee88ee",
           "#ee88ee",
           "#ee88ee",
           "#ee88ee",
           "#ee88ee",
           "#ee88ee",
           "#ee88ee",
           "#ee88ee",
           "#ee88ee",
           "#ee88ee",
           "#ee88ee",
           "#ee88ee",
           "#ee88ee",
           "#ee88ee",
           "#ee88ee",
           "#ee88ee",
           "#ee88ee",
           "#ee88ee",
           "#ee88ee",
           "#ee88ee",
           "#ee88ee"
          ],
          "colorscale": [
           [
            0,
            "rgb(255,255,217)"
           ],
           [
            0.125,
            "rgb(237,248,177)"
           ],
           [
            0.25,
            "rgb(199,233,180)"
           ],
           [
            0.375,
            "rgb(127,205,187)"
           ],
           [
            0.5,
            "rgb(65,182,196)"
           ],
           [
            0.625,
            "rgb(29,145,192)"
           ],
           [
            0.75,
            "rgb(34,94,168)"
           ],
           [
            0.875,
            "rgb(37,52,148)"
           ],
           [
            1,
            "rgb(8,29,88)"
           ]
          ],
          "line": {
           "width": 0.5
          },
          "reversescale": true,
          "showscale": false,
          "size": 10
         },
         "mode": "markers+text",
         "text": [
          "parameters.contact_rate",
          "_var1",
          "model_variables.time",
          "_var3",
          "_var4",
          "_var5",
          "_var6",
          "_var7",
          "parameters.rr_infection_latent",
          "_var9",
          "parameters.rr_infection_recovered",
          "_var11",
          "_var12",
          "_var13",
          "_var14",
          "_var15",
          "_var16",
          "_var17",
          "parameters.progression_multiplier",
          "_var19",
          "_var20",
          "_var21",
          "_var22",
          "_var23",
          "_var24",
          "_var25",
          "_var26",
          "_var27",
          "_var28",
          "_var29",
          "_var30",
          "parameters.cdr_adjustment",
          "_var32",
          "_var33",
          "_var34",
          "_var35",
          "_var36",
          "_var37",
          "_var38",
          "_var39",
          "_var40",
          "_var41",
          "_var42",
          "_var43",
          "_var44",
          "_var45",
          "_var46",
          "_var47",
          "_var48",
          "_var49",
          "_var50",
          "_var51",
          "_var52",
          "_var53",
          "_var54",
          "_var55",
          "_var56",
          "_var57",
          "_var58",
          "_var59",
          "_var60",
          "_var61",
          "_var62",
          "_var63",
          "_var64",
          "_var65",
          "_var66",
          "_var67",
          "_var68",
          "_var69",
          "_var70",
          "_var71",
          "_var72",
          "_var73",
          "_var74",
          "parameters.start_population_size",
          "_var76",
          "_var77",
          "_var78",
          "_var79",
          "_var80",
          "_var81",
          "_var82",
          "_var83",
          "_var84",
          "_var85",
          "_var86",
          "_var87",
          "_var88",
          "gather_cv",
          "infection_rate",
          "infection_rate_1",
          "infection_rate_2",
          "infection_rate_3",
          "infection_from_latent_rate",
          "infection_from_recovered_rate",
          "stabilisation_rate",
          "stabilisation_rate_7",
          "early_activation_rate",
          "early_activation_rate_9",
          "early_activation_rate_10",
          "late_activation_rate",
          "late_activation_rate_12",
          "late_activation_rate_13",
          "self_recovery_rate",
          "detection_rate",
          "treatment_recovery_rate",
          "treatment_recovery_rate_17",
          "treatment_recovery_rate_18",
          "treatment_recovery_rate_19",
          "treatment_recovery_rate_20",
          "treatment_death_rate",
          "treatment_death_rate_22",
          "treatment_death_rate_23",
          "treatment_death_rate_24",
          "treatment_death_rate_25",
          "relapse_rate",
          "relapse_rate_27",
          "relapse_rate_28",
          "relapse_rate_29",
          "relapse_rate_30",
          "birth_rate",
          "universal_death_rate",
          "universal_death_rate_33",
          "universal_death_rate_34",
          "universal_death_rate_35",
          "universal_death_rate_36",
          "ageing_susceptibleXage_5_to_susceptibleXage_15_rate",
          "ageing_susceptibleXage_15_to_susceptibleXage_35_rate",
          "ageing_susceptibleXage_35_to_susceptibleXage_50_rate",
          "init_pop_dist_infectious",
          "init_pop_dist_susceptible",
          "init_pop_dist_early_latent",
          "age_iadj_infectious_0",
          "age_iadj_infectious_5",
          "age_iadj_infectious_15",
          "age_iadj_infectious_35",
          "age_iadj_infectious_50",
          "age_iadj_on_treatment_0",
          "age_iadj_on_treatment_5",
          "age_iadj_on_treatment_15",
          "age_iadj_on_treatment_35",
          "age_iadj_on_treatment_50",
          "age_mixing_matrix",
          "mixing_matrix",
          "computed_values"
         ],
         "textposition": "top center",
         "type": "scatter",
         "x": [
          -0.008097659898297256,
          0.5404445386009447,
          -0.07361584161417958,
          0.6596152568197369,
          -0.1286308042542783,
          -0.16211133248562165,
          -0.224910144990102,
          -0.2810282158604988,
          -0.6065744217154871,
          -0.7276060464174577,
          0.5081241394864895,
          0.5182386220809327,
          -0.12699608612619162,
          0.3144967656797114,
          0.3339575049850955,
          0.8197247274914218,
          0.8677282103169807,
          -0.8192405322202663,
          -0.18541226582862216,
          -0.7871248145377584,
          -0.4157545198086895,
          -0.6131506341933866,
          -0.5776082654060669,
          -0.6554104860412798,
          -0.09643435709018311,
          -0.12809745771169614,
          0.398872022257742,
          0.44185530007556056,
          0.1600967905838188,
          0.17947759148666526,
          0.45944466332352724,
          -0.027819772698777622,
          -0.04870944707904408,
          -0.043440290812261445,
          0.4275063298790064,
          0.6748173977521227,
          -0.1103117331816646,
          0.6885049025045012,
          -0.6945808710363285,
          -0.7519404304077566,
          -0.9367726785163194,
          -0.20428405197613173,
          -0.16127717985381837,
          0.10464717638245408,
          -0.1848293140177558,
          -0.18951375294620845,
          -0.8430170068618075,
          -0.2659493964337036,
          -0.049916719399662836,
          -0.36527076287259036,
          0.6564127854334711,
          0.751200257821447,
          -0.6508178436353899,
          -0.7106071995715216,
          0.22686589270552626,
          0.2704752106223243,
          -0.6336571718680659,
          -0.7250485166414407,
          -0.765069744262653,
          -0.8534660055781869,
          0.08454851749254712,
          0.062151851672213286,
          -0.5832440589226822,
          -0.6864206136055818,
          -0.7261839531732477,
          -0.8308223013034715,
          0.6108311112704707,
          0.6250339963675929,
          0.18635149277864654,
          0.23294760561508251,
          -0.48077913846045334,
          0.7408872463906847,
          0.33445893311440156,
          0.25148696517431796,
          -0.31208167754233734,
          0.6470106897794471,
          0.7250903708439989,
          0.8647218702376641,
          -0.47934463313419956,
          0.9185447844771959,
          -0.443397868464718,
          0.7339913662660451,
          -0.5875061449687773,
          0.3925112818220413,
          0.7545975538073858,
          0.4067791291130639,
          0.6443997833183739,
          0.1649350254621822,
          0.4305514281063808,
          -0.519705016545187,
          0.6994664364488785,
          -0.21781586011757872,
          -0.3071356623051604,
          0.007712153861695659,
          -0.8088076186975145,
          0.633176710190283,
          0.46018301012770424,
          0.9073469513293819,
          -0.7604270870171072,
          -0.6473668859123672,
          -0.9497862650274536,
          -0.1862465369620007,
          0.563556048022395,
          0.21110655522698463,
          0.6282986934500561,
          -0.048083995955554716,
          0.8545936686770798,
          -0.8888426798005892,
          0.1136394716849859,
          -0.871996841381064,
          -0.39791751024670047,
          0.8660817755318971,
          -0.746759922684836,
          0.3862288383417901,
          -0.8553893786697276,
          -0.8432959235313682,
          0.07619942567951686,
          -0.8708674491074578,
          -0.8397842738294841,
          0.7230464054920555,
          0.29733744818220387,
          -0.5144228904826433,
          0.9872575216496235,
          -0.9235257486227755,
          -0.5039049336148711,
          0.23128418817319446,
          0.6948343722287441,
          1,
          0.3641535336078185,
          0.32317659891555195,
          -0.4185480720337932,
          0.9109048406701726,
          0.8332305521383987,
          -0.5466151184593276,
          0.9589681501297671,
          -0.6359155996507653,
          0.6896326541868962,
          -0.5257388463855468,
          -0.7344135122094364,
          0.5783441246228518,
          0.9021967841656717,
          0.4203056469827859,
          0.6120650936409991,
          -0.07390191582043612,
          0.5309568497564742,
          -0.6785218820177045
         ],
         "y": [
          -0.09474016294060403,
          -0.4150560530998542,
          -0.033365785213946474,
          -0.49707524626154975,
          0.5793412294467324,
          0.700134854700835,
          -0.717519205423373,
          -0.8470166169235634,
          -0.4430452508453864,
          -0.5374455462018775,
          -0.7012577815519833,
          -0.6776650813383429,
          0.033531556014723664,
          0.5918451705760124,
          0.6255215507407894,
          -0.09201189054720704,
          -0.09021671586587912,
          0.49677384048838885,
          0.00999971597130573,
          0.4718070523555834,
          0.4483956725557237,
          0.6332916198020283,
          -0.04412749677274096,
          -0.05356228753975198,
          -0.5804537309611155,
          -0.7160738518604737,
          0.4907525966661065,
          0.5669134999666909,
          -0.7252697571414023,
          -0.7545246396608548,
          0.5420251181242846,
          -0.8206844937500416,
          -0.8117894045219817,
          -0.8873108548677141,
          -0.33177119479336475,
          -0.009691221966502512,
          -0.012199154292258907,
          -0.4528387557101655,
          0.024331861136270935,
          -0.17763083881454653,
          0.06272993811455749,
          0.2922184393202409,
          -0.024349109934972264,
          0.8125330233677993,
          0.3583596689183039,
          0.5736641487208205,
          0.21615193233709,
          0.07944205854254778,
          0.26317640775939427,
          0.8505164326428786,
          0.27135341997857326,
          0.3089160944237013,
          -0.33044894310057543,
          -0.35896052591239935,
          0.5730653544187053,
          0.6401806441670831,
          0.2528415116095079,
          0.2862170181945283,
          -0.13719674466647558,
          -0.17336306624875564,
          -0.8809476002441494,
          -0.8642410045308638,
          0.3577385897742803,
          0.4219552636169432,
          -0.2924051779259516,
          -0.3188162806975611,
          0.5358377212691058,
          0.5212486441908021,
          -0.5466521646449815,
          -0.6582624913465643,
          0.6970450595309413,
          0.008044204016312667,
          0.8786504610797312,
          -0.6955753403952765,
          -0.6590214856893607,
          0.3102073907456993,
          0.3352585776873472,
          -0.3960756793610002,
          0.732439953437556,
          -0.22078182644314487,
          -0.5246195781042435,
          0.6293801066898068,
          0.5757678426758538,
          -0.530378209101678,
          0.18269622759813584,
          -0.8073680020121087,
          -0.6941699731444293,
          0.7825553982781448,
          0.6612617358552811,
          -0.47137188194764496,
          -0.5178870533321874,
          0.940457842684848,
          -0.913526091434353,
          0.9551244688530847,
          -0.5980527928484838,
          -0.8229478897725252,
          0.8707377221693327,
          -0.0900962994580884,
          0.451857738286892,
          0.6678090156506166,
          -0.0785438360988397,
          -0.9438701370887121,
          0.7558919859355897,
          -0.8783168532845743,
          0.7547643627707211,
          -0.945849361970631,
          -0.5585030191789825,
          0.057416388916669524,
          0.9703061310619473,
          0.230935842915267,
          0.8547660633649197,
          0.3468239325265319,
          -0.3647619481663739,
          0.8485869745447296,
          0.33261440325000585,
          -0.20528764333994431,
          -0.968128066341929,
          0.534042917929376,
          -0.28697036865006836,
          0.6380625009638443,
          -0.8012858959808693,
          0.7432131155600882,
          0.1398272664153355,
          -0.2554184075378686,
          -0.7091861502793787,
          0.9637206972968089,
          0.7013744920108599,
          0.0006756205564614648,
          0.8978346390471815,
          -0.9107140782603818,
          -0.8621037614708297,
          0.4050195624714821,
          -0.39067309301492037,
          0.8385984017061469,
          -0.22808212246548773,
          -0.7434381713753204,
          0.6547267763338758,
          -0.8074186926704758,
          0.7214481393091766,
          -0.8000516549290674,
          0.20574456993575732,
          -0.8429241316737711,
          -0.7003168238251369,
          0.9737466914586442,
          0.8293687543334082,
          -0.6379131769989292
         ]
        }
       ],
       "layout": {
        "height": 800,
        "hovermode": "closest",
        "showlegend": false,
        "template": {
         "data": {
          "bar": [
           {
            "error_x": {
             "color": "#2a3f5f"
            },
            "error_y": {
             "color": "#2a3f5f"
            },
            "marker": {
             "line": {
              "color": "#E5ECF6",
              "width": 0.5
             },
             "pattern": {
              "fillmode": "overlay",
              "size": 10,
              "solidity": 0.2
             }
            },
            "type": "bar"
           }
          ],
          "barpolar": [
           {
            "marker": {
             "line": {
              "color": "#E5ECF6",
              "width": 0.5
             },
             "pattern": {
              "fillmode": "overlay",
              "size": 10,
              "solidity": 0.2
             }
            },
            "type": "barpolar"
           }
          ],
          "carpet": [
           {
            "aaxis": {
             "endlinecolor": "#2a3f5f",
             "gridcolor": "white",
             "linecolor": "white",
             "minorgridcolor": "white",
             "startlinecolor": "#2a3f5f"
            },
            "baxis": {
             "endlinecolor": "#2a3f5f",
             "gridcolor": "white",
             "linecolor": "white",
             "minorgridcolor": "white",
             "startlinecolor": "#2a3f5f"
            },
            "type": "carpet"
           }
          ],
          "choropleth": [
           {
            "colorbar": {
             "outlinewidth": 0,
             "ticks": ""
            },
            "type": "choropleth"
           }
          ],
          "contour": [
           {
            "colorbar": {
             "outlinewidth": 0,
             "ticks": ""
            },
            "colorscale": [
             [
              0,
              "#0d0887"
             ],
             [
              0.1111111111111111,
              "#46039f"
             ],
             [
              0.2222222222222222,
              "#7201a8"
             ],
             [
              0.3333333333333333,
              "#9c179e"
             ],
             [
              0.4444444444444444,
              "#bd3786"
             ],
             [
              0.5555555555555556,
              "#d8576b"
             ],
             [
              0.6666666666666666,
              "#ed7953"
             ],
             [
              0.7777777777777778,
              "#fb9f3a"
             ],
             [
              0.8888888888888888,
              "#fdca26"
             ],
             [
              1,
              "#f0f921"
             ]
            ],
            "type": "contour"
           }
          ],
          "contourcarpet": [
           {
            "colorbar": {
             "outlinewidth": 0,
             "ticks": ""
            },
            "type": "contourcarpet"
           }
          ],
          "heatmap": [
           {
            "colorbar": {
             "outlinewidth": 0,
             "ticks": ""
            },
            "colorscale": [
             [
              0,
              "#0d0887"
             ],
             [
              0.1111111111111111,
              "#46039f"
             ],
             [
              0.2222222222222222,
              "#7201a8"
             ],
             [
              0.3333333333333333,
              "#9c179e"
             ],
             [
              0.4444444444444444,
              "#bd3786"
             ],
             [
              0.5555555555555556,
              "#d8576b"
             ],
             [
              0.6666666666666666,
              "#ed7953"
             ],
             [
              0.7777777777777778,
              "#fb9f3a"
             ],
             [
              0.8888888888888888,
              "#fdca26"
             ],
             [
              1,
              "#f0f921"
             ]
            ],
            "type": "heatmap"
           }
          ],
          "heatmapgl": [
           {
            "colorbar": {
             "outlinewidth": 0,
             "ticks": ""
            },
            "colorscale": [
             [
              0,
              "#0d0887"
             ],
             [
              0.1111111111111111,
              "#46039f"
             ],
             [
              0.2222222222222222,
              "#7201a8"
             ],
             [
              0.3333333333333333,
              "#9c179e"
             ],
             [
              0.4444444444444444,
              "#bd3786"
             ],
             [
              0.5555555555555556,
              "#d8576b"
             ],
             [
              0.6666666666666666,
              "#ed7953"
             ],
             [
              0.7777777777777778,
              "#fb9f3a"
             ],
             [
              0.8888888888888888,
              "#fdca26"
             ],
             [
              1,
              "#f0f921"
             ]
            ],
            "type": "heatmapgl"
           }
          ],
          "histogram": [
           {
            "marker": {
             "pattern": {
              "fillmode": "overlay",
              "size": 10,
              "solidity": 0.2
             }
            },
            "type": "histogram"
           }
          ],
          "histogram2d": [
           {
            "colorbar": {
             "outlinewidth": 0,
             "ticks": ""
            },
            "colorscale": [
             [
              0,
              "#0d0887"
             ],
             [
              0.1111111111111111,
              "#46039f"
             ],
             [
              0.2222222222222222,
              "#7201a8"
             ],
             [
              0.3333333333333333,
              "#9c179e"
             ],
             [
              0.4444444444444444,
              "#bd3786"
             ],
             [
              0.5555555555555556,
              "#d8576b"
             ],
             [
              0.6666666666666666,
              "#ed7953"
             ],
             [
              0.7777777777777778,
              "#fb9f3a"
             ],
             [
              0.8888888888888888,
              "#fdca26"
             ],
             [
              1,
              "#f0f921"
             ]
            ],
            "type": "histogram2d"
           }
          ],
          "histogram2dcontour": [
           {
            "colorbar": {
             "outlinewidth": 0,
             "ticks": ""
            },
            "colorscale": [
             [
              0,
              "#0d0887"
             ],
             [
              0.1111111111111111,
              "#46039f"
             ],
             [
              0.2222222222222222,
              "#7201a8"
             ],
             [
              0.3333333333333333,
              "#9c179e"
             ],
             [
              0.4444444444444444,
              "#bd3786"
             ],
             [
              0.5555555555555556,
              "#d8576b"
             ],
             [
              0.6666666666666666,
              "#ed7953"
             ],
             [
              0.7777777777777778,
              "#fb9f3a"
             ],
             [
              0.8888888888888888,
              "#fdca26"
             ],
             [
              1,
              "#f0f921"
             ]
            ],
            "type": "histogram2dcontour"
           }
          ],
          "mesh3d": [
           {
            "colorbar": {
             "outlinewidth": 0,
             "ticks": ""
            },
            "type": "mesh3d"
           }
          ],
          "parcoords": [
           {
            "line": {
             "colorbar": {
              "outlinewidth": 0,
              "ticks": ""
             }
            },
            "type": "parcoords"
           }
          ],
          "pie": [
           {
            "automargin": true,
            "type": "pie"
           }
          ],
          "scatter": [
           {
            "fillpattern": {
             "fillmode": "overlay",
             "size": 10,
             "solidity": 0.2
            },
            "type": "scatter"
           }
          ],
          "scatter3d": [
           {
            "line": {
             "colorbar": {
              "outlinewidth": 0,
              "ticks": ""
             }
            },
            "marker": {
             "colorbar": {
              "outlinewidth": 0,
              "ticks": ""
             }
            },
            "type": "scatter3d"
           }
          ],
          "scattercarpet": [
           {
            "marker": {
             "colorbar": {
              "outlinewidth": 0,
              "ticks": ""
             }
            },
            "type": "scattercarpet"
           }
          ],
          "scattergeo": [
           {
            "marker": {
             "colorbar": {
              "outlinewidth": 0,
              "ticks": ""
             }
            },
            "type": "scattergeo"
           }
          ],
          "scattergl": [
           {
            "marker": {
             "colorbar": {
              "outlinewidth": 0,
              "ticks": ""
             }
            },
            "type": "scattergl"
           }
          ],
          "scattermapbox": [
           {
            "marker": {
             "colorbar": {
              "outlinewidth": 0,
              "ticks": ""
             }
            },
            "type": "scattermapbox"
           }
          ],
          "scatterpolar": [
           {
            "marker": {
             "colorbar": {
              "outlinewidth": 0,
              "ticks": ""
             }
            },
            "type": "scatterpolar"
           }
          ],
          "scatterpolargl": [
           {
            "marker": {
             "colorbar": {
              "outlinewidth": 0,
              "ticks": ""
             }
            },
            "type": "scatterpolargl"
           }
          ],
          "scatterternary": [
           {
            "marker": {
             "colorbar": {
              "outlinewidth": 0,
              "ticks": ""
             }
            },
            "type": "scatterternary"
           }
          ],
          "surface": [
           {
            "colorbar": {
             "outlinewidth": 0,
             "ticks": ""
            },
            "colorscale": [
             [
              0,
              "#0d0887"
             ],
             [
              0.1111111111111111,
              "#46039f"
             ],
             [
              0.2222222222222222,
              "#7201a8"
             ],
             [
              0.3333333333333333,
              "#9c179e"
             ],
             [
              0.4444444444444444,
              "#bd3786"
             ],
             [
              0.5555555555555556,
              "#d8576b"
             ],
             [
              0.6666666666666666,
              "#ed7953"
             ],
             [
              0.7777777777777778,
              "#fb9f3a"
             ],
             [
              0.8888888888888888,
              "#fdca26"
             ],
             [
              1,
              "#f0f921"
             ]
            ],
            "type": "surface"
           }
          ],
          "table": [
           {
            "cells": {
             "fill": {
              "color": "#EBF0F8"
             },
             "line": {
              "color": "white"
             }
            },
            "header": {
             "fill": {
              "color": "#C8D4E3"
             },
             "line": {
              "color": "white"
             }
            },
            "type": "table"
           }
          ]
         },
         "layout": {
          "annotationdefaults": {
           "arrowcolor": "#2a3f5f",
           "arrowhead": 0,
           "arrowwidth": 1
          },
          "autotypenumbers": "strict",
          "coloraxis": {
           "colorbar": {
            "outlinewidth": 0,
            "ticks": ""
           }
          },
          "colorscale": {
           "diverging": [
            [
             0,
             "#8e0152"
            ],
            [
             0.1,
             "#c51b7d"
            ],
            [
             0.2,
             "#de77ae"
            ],
            [
             0.3,
             "#f1b6da"
            ],
            [
             0.4,
             "#fde0ef"
            ],
            [
             0.5,
             "#f7f7f7"
            ],
            [
             0.6,
             "#e6f5d0"
            ],
            [
             0.7,
             "#b8e186"
            ],
            [
             0.8,
             "#7fbc41"
            ],
            [
             0.9,
             "#4d9221"
            ],
            [
             1,
             "#276419"
            ]
           ],
           "sequential": [
            [
             0,
             "#0d0887"
            ],
            [
             0.1111111111111111,
             "#46039f"
            ],
            [
             0.2222222222222222,
             "#7201a8"
            ],
            [
             0.3333333333333333,
             "#9c179e"
            ],
            [
             0.4444444444444444,
             "#bd3786"
            ],
            [
             0.5555555555555556,
             "#d8576b"
            ],
            [
             0.6666666666666666,
             "#ed7953"
            ],
            [
             0.7777777777777778,
             "#fb9f3a"
            ],
            [
             0.8888888888888888,
             "#fdca26"
            ],
            [
             1,
             "#f0f921"
            ]
           ],
           "sequentialminus": [
            [
             0,
             "#0d0887"
            ],
            [
             0.1111111111111111,
             "#46039f"
            ],
            [
             0.2222222222222222,
             "#7201a8"
            ],
            [
             0.3333333333333333,
             "#9c179e"
            ],
            [
             0.4444444444444444,
             "#bd3786"
            ],
            [
             0.5555555555555556,
             "#d8576b"
            ],
            [
             0.6666666666666666,
             "#ed7953"
            ],
            [
             0.7777777777777778,
             "#fb9f3a"
            ],
            [
             0.8888888888888888,
             "#fdca26"
            ],
            [
             1,
             "#f0f921"
            ]
           ]
          },
          "colorway": [
           "#636efa",
           "#EF553B",
           "#00cc96",
           "#ab63fa",
           "#FFA15A",
           "#19d3f3",
           "#FF6692",
           "#B6E880",
           "#FF97FF",
           "#FECB52"
          ],
          "font": {
           "color": "#2a3f5f"
          },
          "geo": {
           "bgcolor": "white",
           "lakecolor": "white",
           "landcolor": "#E5ECF6",
           "showlakes": true,
           "showland": true,
           "subunitcolor": "white"
          },
          "hoverlabel": {
           "align": "left"
          },
          "hovermode": "closest",
          "mapbox": {
           "style": "light"
          },
          "paper_bgcolor": "white",
          "plot_bgcolor": "#E5ECF6",
          "polar": {
           "angularaxis": {
            "gridcolor": "white",
            "linecolor": "white",
            "ticks": ""
           },
           "bgcolor": "#E5ECF6",
           "radialaxis": {
            "gridcolor": "white",
            "linecolor": "white",
            "ticks": ""
           }
          },
          "scene": {
           "xaxis": {
            "backgroundcolor": "#E5ECF6",
            "gridcolor": "white",
            "gridwidth": 2,
            "linecolor": "white",
            "showbackground": true,
            "ticks": "",
            "zerolinecolor": "white"
           },
           "yaxis": {
            "backgroundcolor": "#E5ECF6",
            "gridcolor": "white",
            "gridwidth": 2,
            "linecolor": "white",
            "showbackground": true,
            "ticks": "",
            "zerolinecolor": "white"
           },
           "zaxis": {
            "backgroundcolor": "#E5ECF6",
            "gridcolor": "white",
            "gridwidth": 2,
            "linecolor": "white",
            "showbackground": true,
            "ticks": "",
            "zerolinecolor": "white"
           }
          },
          "shapedefaults": {
           "line": {
            "color": "#2a3f5f"
           }
          },
          "ternary": {
           "aaxis": {
            "gridcolor": "white",
            "linecolor": "white",
            "ticks": ""
           },
           "baxis": {
            "gridcolor": "white",
            "linecolor": "white",
            "ticks": ""
           },
           "bgcolor": "#E5ECF6",
           "caxis": {
            "gridcolor": "white",
            "linecolor": "white",
            "ticks": ""
           }
          },
          "title": {
           "x": 0.05
          },
          "xaxis": {
           "automargin": true,
           "gridcolor": "white",
           "linecolor": "white",
           "ticks": "",
           "title": {
            "standoff": 15
           },
           "zerolinecolor": "white",
           "zerolinewidth": 2
          },
          "yaxis": {
           "automargin": true,
           "gridcolor": "white",
           "linecolor": "white",
           "ticks": "",
           "title": {
            "standoff": 15
           },
           "zerolinecolor": "white",
           "zerolinewidth": 2
          }
         }
        },
        "title": {
         "font": {
          "size": 16
         },
         "text": "ComputeGraph"
        },
        "width": 800,
        "xaxis": {
         "showgrid": false,
         "showticklabels": false,
         "zeroline": false
        },
        "yaxis": {
         "showgrid": false,
         "showticklabels": false,
         "visible": false,
         "zeroline": false
        }
       }
      }
     },
     "metadata": {},
     "output_type": "display_data"
    }
   ],
   "source": [
    "model_0.graph.draw()"
   ]
  },
  {
   "cell_type": "code",
   "execution_count": 14,
   "metadata": {},
   "outputs": [
    {
     "data": {
      "application/vnd.plotly.v1+json": {
       "config": {
        "plotlyServerURL": "https://plot.ly"
       },
       "data": [
        {
         "hovertemplate": "index=%{x}<br>total_population=%{y}<extra></extra>",
         "legendgroup": "",
         "line": {
          "color": "#636efa",
          "dash": "solid"
         },
         "marker": {
          "symbol": "circle"
         },
         "mode": "lines",
         "name": "",
         "showlegend": false,
         "type": "scattergl",
         "x": [
          1900,
          1900.1,
          1900.2,
          1900.3,
          1900.4,
          1900.5,
          1900.6,
          1900.7,
          1900.8,
          1900.9,
          1901,
          1901.1,
          1901.2,
          1901.3,
          1901.4,
          1901.5,
          1901.6,
          1901.7,
          1901.8,
          1901.9,
          1902,
          1902.1,
          1902.2,
          1902.3,
          1902.4,
          1902.5,
          1902.6,
          1902.7,
          1902.8,
          1902.9,
          1903,
          1903.1,
          1903.2,
          1903.3,
          1903.4,
          1903.5,
          1903.6,
          1903.7,
          1903.8,
          1903.9,
          1904,
          1904.1,
          1904.2,
          1904.3,
          1904.4,
          1904.5,
          1904.6,
          1904.7,
          1904.8,
          1904.9,
          1905,
          1905.1,
          1905.2,
          1905.3,
          1905.4,
          1905.5,
          1905.6,
          1905.7,
          1905.8,
          1905.9,
          1906,
          1906.1,
          1906.2,
          1906.3,
          1906.4,
          1906.5,
          1906.6,
          1906.7,
          1906.8,
          1906.9,
          1907,
          1907.1,
          1907.2,
          1907.3,
          1907.4,
          1907.5,
          1907.6,
          1907.7,
          1907.8,
          1907.9,
          1908,
          1908.1,
          1908.2,
          1908.3,
          1908.4,
          1908.5,
          1908.6,
          1908.7,
          1908.8,
          1908.9,
          1909,
          1909.1,
          1909.2,
          1909.3,
          1909.4,
          1909.5,
          1909.6,
          1909.7,
          1909.8,
          1909.9,
          1910,
          1910.1,
          1910.2,
          1910.3,
          1910.4,
          1910.5,
          1910.6,
          1910.7,
          1910.8,
          1910.9,
          1911,
          1911.1,
          1911.2,
          1911.3,
          1911.4,
          1911.5,
          1911.6,
          1911.7,
          1911.8,
          1911.9,
          1912,
          1912.1,
          1912.2,
          1912.3,
          1912.4,
          1912.5,
          1912.6,
          1912.7,
          1912.8,
          1912.9,
          1913,
          1913.1,
          1913.2,
          1913.3,
          1913.4,
          1913.5,
          1913.6,
          1913.7,
          1913.8,
          1913.9,
          1914,
          1914.1,
          1914.2,
          1914.3,
          1914.4,
          1914.5,
          1914.6,
          1914.7,
          1914.8,
          1914.9,
          1915,
          1915.1,
          1915.2,
          1915.3,
          1915.4,
          1915.5,
          1915.6,
          1915.7,
          1915.8,
          1915.9,
          1916,
          1916.1,
          1916.2,
          1916.3,
          1916.4,
          1916.5,
          1916.6,
          1916.7,
          1916.8,
          1916.9,
          1917,
          1917.1,
          1917.2,
          1917.3,
          1917.4,
          1917.5,
          1917.6,
          1917.7,
          1917.8,
          1917.9,
          1918,
          1918.1,
          1918.2,
          1918.3,
          1918.4,
          1918.5,
          1918.6,
          1918.7,
          1918.8,
          1918.9,
          1919,
          1919.1,
          1919.2,
          1919.3,
          1919.4,
          1919.5,
          1919.6,
          1919.7,
          1919.8,
          1919.9,
          1920,
          1920.1,
          1920.2,
          1920.3,
          1920.4,
          1920.5,
          1920.6,
          1920.7,
          1920.8,
          1920.9,
          1921,
          1921.1,
          1921.2,
          1921.3,
          1921.4,
          1921.5,
          1921.6,
          1921.7,
          1921.8,
          1921.9,
          1922,
          1922.1,
          1922.2,
          1922.3,
          1922.4,
          1922.5,
          1922.6,
          1922.7,
          1922.8,
          1922.9,
          1923,
          1923.1,
          1923.2,
          1923.3,
          1923.4,
          1923.5,
          1923.6,
          1923.7,
          1923.8,
          1923.9,
          1924,
          1924.1,
          1924.2,
          1924.3,
          1924.4,
          1924.5,
          1924.6,
          1924.7,
          1924.8,
          1924.9,
          1925,
          1925.1,
          1925.2,
          1925.3,
          1925.4,
          1925.5,
          1925.6,
          1925.7,
          1925.8,
          1925.9,
          1926,
          1926.1,
          1926.2,
          1926.3,
          1926.4,
          1926.5,
          1926.6,
          1926.7,
          1926.8,
          1926.9,
          1927,
          1927.1,
          1927.2,
          1927.3,
          1927.4,
          1927.5,
          1927.6,
          1927.7,
          1927.8,
          1927.9,
          1928,
          1928.1,
          1928.2,
          1928.3,
          1928.4,
          1928.5,
          1928.6,
          1928.7,
          1928.8,
          1928.9,
          1929,
          1929.1,
          1929.2,
          1929.3,
          1929.4,
          1929.5,
          1929.6,
          1929.7,
          1929.8,
          1929.9,
          1930,
          1930.1,
          1930.2,
          1930.3,
          1930.4,
          1930.5,
          1930.6,
          1930.7,
          1930.8,
          1930.9,
          1931,
          1931.1,
          1931.2,
          1931.3,
          1931.4,
          1931.5,
          1931.6,
          1931.7,
          1931.8,
          1931.9,
          1932,
          1932.1,
          1932.2,
          1932.3,
          1932.4,
          1932.5,
          1932.6,
          1932.7,
          1932.8,
          1932.9,
          1933,
          1933.1,
          1933.2,
          1933.3,
          1933.4,
          1933.5,
          1933.6,
          1933.7,
          1933.8,
          1933.9,
          1934,
          1934.1,
          1934.2,
          1934.3,
          1934.4,
          1934.5,
          1934.6,
          1934.7,
          1934.8,
          1934.9,
          1935,
          1935.1,
          1935.2,
          1935.3,
          1935.4,
          1935.5,
          1935.6,
          1935.7,
          1935.8,
          1935.9,
          1936,
          1936.1,
          1936.2,
          1936.3,
          1936.4,
          1936.5,
          1936.6,
          1936.7,
          1936.8,
          1936.9,
          1937,
          1937.1,
          1937.2,
          1937.3,
          1937.4,
          1937.5,
          1937.6,
          1937.7,
          1937.8,
          1937.9,
          1938,
          1938.1,
          1938.2,
          1938.3,
          1938.4,
          1938.5,
          1938.6,
          1938.7,
          1938.8,
          1938.9,
          1939,
          1939.1,
          1939.2,
          1939.3,
          1939.4,
          1939.5,
          1939.6,
          1939.7,
          1939.8,
          1939.9,
          1940,
          1940.1,
          1940.2,
          1940.3,
          1940.4,
          1940.5,
          1940.6,
          1940.7,
          1940.8,
          1940.9,
          1941,
          1941.1,
          1941.2,
          1941.3,
          1941.4,
          1941.5,
          1941.6,
          1941.7,
          1941.8,
          1941.9,
          1942,
          1942.1,
          1942.2,
          1942.3,
          1942.4,
          1942.5,
          1942.6,
          1942.7,
          1942.8,
          1942.9,
          1943,
          1943.1,
          1943.2,
          1943.3,
          1943.4,
          1943.5,
          1943.6,
          1943.7,
          1943.8,
          1943.9,
          1944,
          1944.1,
          1944.2,
          1944.3,
          1944.4,
          1944.5,
          1944.6,
          1944.7,
          1944.8,
          1944.9,
          1945,
          1945.1,
          1945.2,
          1945.3,
          1945.4,
          1945.5,
          1945.6,
          1945.7,
          1945.8,
          1945.9,
          1946,
          1946.1,
          1946.2,
          1946.3,
          1946.4,
          1946.5,
          1946.6,
          1946.7,
          1946.8,
          1946.9,
          1947,
          1947.1,
          1947.2,
          1947.3,
          1947.4,
          1947.5,
          1947.6,
          1947.7,
          1947.8,
          1947.9,
          1948,
          1948.1,
          1948.2,
          1948.3,
          1948.4,
          1948.5,
          1948.6,
          1948.7,
          1948.8,
          1948.9,
          1949,
          1949.1,
          1949.2,
          1949.3,
          1949.4,
          1949.5,
          1949.6,
          1949.7,
          1949.8,
          1949.9,
          1950,
          1950.1,
          1950.2,
          1950.3,
          1950.4,
          1950.5,
          1950.6,
          1950.7,
          1950.8,
          1950.9,
          1951,
          1951.1,
          1951.2,
          1951.3,
          1951.4,
          1951.5,
          1951.6,
          1951.7,
          1951.8,
          1951.9,
          1952,
          1952.1,
          1952.2,
          1952.3,
          1952.4,
          1952.5,
          1952.6,
          1952.7,
          1952.8,
          1952.9,
          1953,
          1953.1,
          1953.2,
          1953.3,
          1953.4,
          1953.5,
          1953.6,
          1953.7,
          1953.8,
          1953.9,
          1954,
          1954.1,
          1954.2,
          1954.3,
          1954.4,
          1954.5,
          1954.6,
          1954.7,
          1954.8,
          1954.9,
          1955,
          1955.1,
          1955.2,
          1955.3,
          1955.4,
          1955.5,
          1955.6,
          1955.7,
          1955.8,
          1955.9,
          1956,
          1956.1,
          1956.2,
          1956.3,
          1956.4,
          1956.5,
          1956.6,
          1956.7,
          1956.8,
          1956.9,
          1957,
          1957.1,
          1957.2,
          1957.3,
          1957.4,
          1957.5,
          1957.6,
          1957.7,
          1957.8,
          1957.9,
          1958,
          1958.1,
          1958.2,
          1958.3,
          1958.4,
          1958.5,
          1958.6,
          1958.7,
          1958.8,
          1958.9,
          1959,
          1959.1,
          1959.2,
          1959.3,
          1959.4,
          1959.5,
          1959.6,
          1959.7,
          1959.8,
          1959.9,
          1960,
          1960.1,
          1960.2,
          1960.3,
          1960.4,
          1960.5,
          1960.6,
          1960.7,
          1960.8,
          1960.9,
          1961,
          1961.1,
          1961.2,
          1961.3,
          1961.4,
          1961.5,
          1961.6,
          1961.7,
          1961.8,
          1961.9,
          1962,
          1962.1,
          1962.2,
          1962.3,
          1962.4,
          1962.5,
          1962.6,
          1962.7,
          1962.8,
          1962.9,
          1963,
          1963.1,
          1963.2,
          1963.3,
          1963.4,
          1963.5,
          1963.6,
          1963.7,
          1963.8,
          1963.9,
          1964,
          1964.1,
          1964.2,
          1964.3,
          1964.4,
          1964.5,
          1964.6,
          1964.7,
          1964.8,
          1964.9,
          1965,
          1965.1,
          1965.2,
          1965.3,
          1965.4,
          1965.5,
          1965.6,
          1965.7,
          1965.8,
          1965.9,
          1966,
          1966.1,
          1966.2,
          1966.3,
          1966.4,
          1966.5,
          1966.6,
          1966.7,
          1966.8,
          1966.9,
          1967,
          1967.1,
          1967.2,
          1967.3,
          1967.4,
          1967.5,
          1967.6,
          1967.7,
          1967.8,
          1967.9,
          1968,
          1968.1,
          1968.2,
          1968.3,
          1968.4,
          1968.5,
          1968.6,
          1968.7,
          1968.8,
          1968.9,
          1969,
          1969.1,
          1969.2,
          1969.3,
          1969.4,
          1969.5,
          1969.6,
          1969.7,
          1969.8,
          1969.9,
          1970,
          1970.1,
          1970.2,
          1970.3,
          1970.4,
          1970.5,
          1970.6,
          1970.7,
          1970.8,
          1970.9,
          1971,
          1971.1,
          1971.2,
          1971.3,
          1971.4,
          1971.5,
          1971.6,
          1971.7,
          1971.8,
          1971.9,
          1972,
          1972.1,
          1972.2,
          1972.3,
          1972.4,
          1972.5,
          1972.6,
          1972.7,
          1972.8,
          1972.9,
          1973,
          1973.1,
          1973.2,
          1973.3,
          1973.4,
          1973.5,
          1973.6,
          1973.7,
          1973.8,
          1973.9,
          1974,
          1974.1,
          1974.2,
          1974.3,
          1974.4,
          1974.5,
          1974.6,
          1974.7,
          1974.8,
          1974.9,
          1975,
          1975.1,
          1975.2,
          1975.3,
          1975.4,
          1975.5,
          1975.6,
          1975.7,
          1975.8,
          1975.9,
          1976,
          1976.1,
          1976.2,
          1976.3,
          1976.4,
          1976.5,
          1976.6,
          1976.7,
          1976.8,
          1976.9,
          1977,
          1977.1,
          1977.2,
          1977.3,
          1977.4,
          1977.5,
          1977.6,
          1977.7,
          1977.8,
          1977.9,
          1978,
          1978.1,
          1978.2,
          1978.3,
          1978.4,
          1978.5,
          1978.6,
          1978.7,
          1978.8,
          1978.9,
          1979,
          1979.1,
          1979.2,
          1979.3,
          1979.4,
          1979.5,
          1979.6,
          1979.7,
          1979.8,
          1979.9,
          1980,
          1980.1,
          1980.2,
          1980.3,
          1980.4,
          1980.5,
          1980.6,
          1980.7,
          1980.8,
          1980.9,
          1981,
          1981.1,
          1981.2,
          1981.3,
          1981.4,
          1981.5,
          1981.6,
          1981.7,
          1981.8,
          1981.9,
          1982,
          1982.1,
          1982.2,
          1982.3,
          1982.4,
          1982.5,
          1982.6,
          1982.7,
          1982.8,
          1982.9,
          1983,
          1983.1,
          1983.2,
          1983.3,
          1983.4,
          1983.5,
          1983.6,
          1983.7,
          1983.8,
          1983.9,
          1984,
          1984.1,
          1984.2,
          1984.3,
          1984.4,
          1984.5,
          1984.6,
          1984.7,
          1984.8,
          1984.9,
          1985,
          1985.1,
          1985.2,
          1985.3,
          1985.4,
          1985.5,
          1985.6,
          1985.7,
          1985.8,
          1985.9,
          1986,
          1986.1,
          1986.2,
          1986.3,
          1986.4,
          1986.5,
          1986.6,
          1986.7,
          1986.8,
          1986.9,
          1987,
          1987.1,
          1987.2,
          1987.3,
          1987.4,
          1987.5,
          1987.6,
          1987.7,
          1987.8,
          1987.9,
          1988,
          1988.1,
          1988.2,
          1988.3,
          1988.4,
          1988.5,
          1988.6,
          1988.7,
          1988.8,
          1988.9,
          1989,
          1989.1,
          1989.2,
          1989.3,
          1989.4,
          1989.5,
          1989.6,
          1989.7,
          1989.8,
          1989.9,
          1990,
          1990.1,
          1990.2,
          1990.3,
          1990.4,
          1990.5,
          1990.6,
          1990.7,
          1990.8,
          1990.9,
          1991,
          1991.1,
          1991.2,
          1991.3,
          1991.4,
          1991.5,
          1991.6,
          1991.7,
          1991.8,
          1991.9,
          1992,
          1992.1,
          1992.2,
          1992.3,
          1992.4,
          1992.5,
          1992.6,
          1992.7,
          1992.8,
          1992.9,
          1993,
          1993.1,
          1993.2,
          1993.3,
          1993.4,
          1993.5,
          1993.6,
          1993.7,
          1993.8,
          1993.9,
          1994,
          1994.1,
          1994.2,
          1994.3,
          1994.4,
          1994.5,
          1994.6,
          1994.7,
          1994.8,
          1994.9,
          1995,
          1995.1,
          1995.2,
          1995.3,
          1995.4,
          1995.5,
          1995.6,
          1995.7,
          1995.8,
          1995.9,
          1996,
          1996.1,
          1996.2,
          1996.3,
          1996.4,
          1996.5,
          1996.6,
          1996.7,
          1996.8,
          1996.9,
          1997,
          1997.1,
          1997.2,
          1997.3,
          1997.4,
          1997.5,
          1997.6,
          1997.7,
          1997.8,
          1997.9,
          1998,
          1998.1,
          1998.2,
          1998.3,
          1998.4,
          1998.5,
          1998.6,
          1998.7,
          1998.8,
          1998.9,
          1999,
          1999.1,
          1999.2,
          1999.3,
          1999.4,
          1999.5,
          1999.6,
          1999.7,
          1999.8,
          1999.9,
          2000,
          2000.1,
          2000.2,
          2000.3,
          2000.4,
          2000.5,
          2000.6,
          2000.7,
          2000.8,
          2000.9,
          2001,
          2001.1,
          2001.2,
          2001.3,
          2001.4,
          2001.5,
          2001.6,
          2001.7,
          2001.8,
          2001.9,
          2002,
          2002.1,
          2002.2,
          2002.3,
          2002.4,
          2002.5,
          2002.6,
          2002.7,
          2002.8,
          2002.9,
          2003,
          2003.1,
          2003.2,
          2003.3,
          2003.4,
          2003.5,
          2003.6,
          2003.7,
          2003.8,
          2003.9,
          2004,
          2004.1,
          2004.2,
          2004.3,
          2004.4,
          2004.5,
          2004.6,
          2004.7,
          2004.8,
          2004.9,
          2005,
          2005.1,
          2005.2,
          2005.3,
          2005.4,
          2005.5,
          2005.6,
          2005.7,
          2005.8,
          2005.9,
          2006,
          2006.1,
          2006.2,
          2006.3,
          2006.4,
          2006.5,
          2006.6,
          2006.7,
          2006.8,
          2006.9,
          2007,
          2007.1,
          2007.2,
          2007.3,
          2007.4,
          2007.5,
          2007.6,
          2007.7,
          2007.8,
          2007.9,
          2008,
          2008.1,
          2008.2,
          2008.3,
          2008.4,
          2008.5,
          2008.6,
          2008.7,
          2008.8,
          2008.9,
          2009,
          2009.1,
          2009.2,
          2009.3,
          2009.4,
          2009.5,
          2009.6,
          2009.7,
          2009.8,
          2009.9,
          2010,
          2010.1,
          2010.2,
          2010.3,
          2010.4,
          2010.5,
          2010.6,
          2010.7,
          2010.8,
          2010.9,
          2011,
          2011.1,
          2011.2,
          2011.3,
          2011.4,
          2011.5,
          2011.6,
          2011.7,
          2011.8,
          2011.9,
          2012,
          2012.1,
          2012.2,
          2012.3,
          2012.4,
          2012.5,
          2012.6,
          2012.7,
          2012.8,
          2012.9,
          2013,
          2013.1,
          2013.2,
          2013.3,
          2013.4,
          2013.5,
          2013.6,
          2013.7,
          2013.8,
          2013.9,
          2014,
          2014.1,
          2014.2,
          2014.3,
          2014.4,
          2014.5,
          2014.6,
          2014.7,
          2014.8,
          2014.9,
          2015,
          2015.1,
          2015.2,
          2015.3,
          2015.4,
          2015.5,
          2015.6,
          2015.7,
          2015.8,
          2015.9,
          2016,
          2016.1,
          2016.2,
          2016.3,
          2016.4,
          2016.5,
          2016.6,
          2016.7,
          2016.8,
          2016.9,
          2017,
          2017.1,
          2017.2,
          2017.3,
          2017.4,
          2017.5,
          2017.6,
          2017.7,
          2017.8,
          2017.9,
          2018,
          2018.1,
          2018.2,
          2018.3,
          2018.4,
          2018.5,
          2018.6,
          2018.7,
          2018.8,
          2018.9,
          2019,
          2019.1,
          2019.2,
          2019.3,
          2019.4,
          2019.5,
          2019.6,
          2019.7,
          2019.8,
          2019.9,
          2020
         ],
         "xaxis": "x",
         "y": [
          232213.30520174664,
          232167.1716226994,
          232126.72946579274,
          232091.86479895527,
          232062.48808045726,
          232038.52452549618,
          232019.90799543078,
          232006.57847199411,
          231998.47891147758,
          231995.55503929747,
          231997.7541232978,
          232005.02428183318,
          232017.31511986358,
          232034.57670590308,
          232056.75962231198,
          232083.8154407455,
          232115.69622966897,
          232152.35449270782,
          232193.74325140327,
          232239.81625782364,
          232290.52774994078,
          232345.83245148018,
          232405.6855743783,
          232470.04282660378,
          232538.8605011798,
          232612.09541942648,
          232689.70487781774,
          232771.6466501761,
          232857.87898767227,
          232948.36061882638,
          233043.0507413757,
          233141.9090482225,
          233244.89582048787,
          233351.9717752744,
          233463.0980477383,
          233578.23619108746,
          233697.34817658275,
          233820.39639353796,
          233947.3436693641,
          234078.153468324,
          234212.78971227654,
          234351.21665553478,
          234493.39889070217,
          234639.30134867204,
          234788.8893677779,
          234942.12895983245,
          235098.98651489182,
          235259.42873530774,
          235423.42263897715,
          235590.9355593449,
          235761.93517783505,
          235936.38980752922,
          236114.26820019278,
          236295.53937289168,
          236480.17260926013,
          236668.13745949755,
          236859.40374255824,
          237053.94180050836,
          237251.72262203874,
          237452.7174226061,
          237656.89761679916,
          237864.23481834095,
          238074.70084008834,
          238288.2678704002,
          238504.90894432584,
          238724.5972304762,
          238947.30606987688,
          239173.00898876978,
          239401.67970900916,
          239633.2925134974,
          239867.82211648216,
          240105.2433994162,
          240345.53145602776,
          240588.66159231876,
          240834.609362533,
          241083.35082384755,
          241334.8623380909,
          241589.12046201294,
          241846.10195152432,
          242105.7837617011,
          242368.14304986238,
          242633.15736809702,
          242900.80474486708,
          243171.06337960303,
          243443.91161548617,
          243719.3279394442,
          243997.2909821554,
          244277.7795804585,
          244560.77325630301,
          244846.25174290506,
          245134.19485354432,
          245424.5825096397,
          245717.39474074813,
          246012.61185586418,
          246310.2147478048,
          246610.1844072721,
          246912.50195111753,
          247217.14862505137,
          247524.10580368422,
          247833.3551559622,
          248144.87881174427,
          248458.65903124088,
          248774.67819086064,
          249092.91878320777,
          249413.36341708768,
          249735.99486633128,
          250060.79642310747,
          250387.75164255235,
          250716.8441437968,
          251048.05761044475,
          251381.37579056676,
          251716.78249675562,
          252054.2619518847,
          252393.79894313065,
          252735.37822541277,
          253078.98459176708,
          253424.60287335142,
          253772.21795765395,
          254121.81524045896,
          254473.38042856354,
          254826.89925022528,
          255182.35749872104,
          255539.74103234473,
          255899.03579942038,
          256260.22818943654,
          256623.30485943335,
          256988.25251381265,
          257355.05791407896,
          257723.707878837,
          258094.1892842825,
          258466.48928462848,
          258840.59553867698,
          259216.4957619174,
          259594.17767693123,
          259973.62901339756,
          260354.8375080864,
          260737.79096876775,
          261122.47790313498,
          261508.88697847826,
          261897.00680282872,
          262286.8259669244,
          262678.3330442166,
          263071.51673509274,
          263466.36637939845,
          263862.8713443545,
          264261.02099813137,
          264660.8047228029,
          265062.21191434417,
          265465.2321162973,
          265869.8553935898,
          266276.07187637844,
          266683.87170030025,
          267093.24500923546,
          267504.18195530336,
          267916.672730783,
          268330.70801713126,
          268746.27879645664,
          269163.3760091998,
          269581.9905537821,
          270002.113286612,
          270423.73502207705,
          270846.84685043374,
          271271.4405723121,
          271697.5078536237,
          272125.040292924,
          272554.0294242871,
          272984.46672004496,
          273416.34404952184,
          273849.6537421526,
          274284.3880318541,
          274720.53912354115,
          275158.0991931332,
          275597.0603935724,
          276037.4152312215,
          276479.15659889503,
          276922.2773458722,
          277366.7702887035,
          277812.62821120676,
          278259.84386446496,
          278708.4101399128,
          279158.3205440757,
          279609.5686229853,
          280062.1478375903,
          280516.05156495265,
          280971.27309825516,
          281427.8056793708,
          281885.64323507913,
          282344.77998280793,
          282805.2099627785,
          283266.9271097252,
          283729.925252887,
          284194.19820076076,
          284659.74045245687,
          285126.5466072714,
          285594.6111598606,
          286063.92853852815,
          286534.49310523306,
          287006.2992349356,
          287479.34187399584,
          287953.6160930205,
          288429.1168803978,
          288905.83915593475,
          289383.777770853,
          289862.9275189936,
          290343.2836135692,
          290824.8417179451,
          291307.5973868676,
          291791.54605421587,
          292276.6830329984,
          292763.0035153608,
          293250.5028184123,
          293739.1771414022,
          294229.02254325384,
          294720.0349230056,
          295212.210037641,
          295705.5435020793,
          296200.0311549897,
          296695.669534376,
          297192.4550086007,
          297690.3838444635,
          298189.45220902446,
          298689.6561696122,
          299190.9920064434,
          299693.4565766036,
          300197.04664540436,
          300701.7588774056,
          301207.58983647777,
          301714.53598579846,
          302222.59380421287,
          302731.7604596667,
          303242.0332359506,
          303753.4092559796,
          304265.8854885241,
          304779.45874820714,
          305294.1257048938,
          305809.8836326115,
          306326.7303224222,
          306844.6632905627,
          307363.6798780417,
          307883.777250647,
          308404.9524365075,
          308927.20312868484,
          309450.52730200486,
          309974.9227313541,
          310500.387061476,
          311026.9178069628,
          311554.5123887221,
          312083.16878064885,
          312612.8852345762,
          313143.6598465857,
          313675.4905827494,
          314208.37527913897,
          314742.3116428759,
          315277.29768452514,
          315813.3320605138,
          316350.4132878111,
          316888.5396987951,
          317427.7094412498,
          317967.9204783614,
          318509.17071352946,
          319051.45899711986,
          319594.7844116861,
          320139.14574355603,
          320684.5414938227,
          321230.96987835324,
          321778.4288339487,
          322326.9171460885,
          322876.4343487966,
          323426.9794504807,
          323978.5512047414,
          324531.14811036305,
          325084.76862127666,
          325639.41212107165,
          326195.0778552279,
          326751.7648996363,
          327309.4722026026,
          327868.1985848618,
          328427.9430421793,
          328988.7050733816,
          329550.48408199777,
          330113.2793632612,
          330677.0901041169,
          331241.9153832193,
          331807.75422060146,
          332374.606192747,
          332942.47118472424,
          333511.34888852545,
          334081.23879208765,
          334652.1401792893,
          335224.0521299589,
          335796.97378312366,
          336370.9054616467,
          336945.8472368133,
          337521.7988742253,
          338098.75988271646,
          338676.7295160588,
          339255.7074678353,
          339835.6940493467,
          340416.6892805563,
          340998.6930274809,
          341581.70500218094,
          342165.72477929736,
          342750.7523574223,
          343336.788104477,
          343923.8322276784,
          344511.8847864984,
          345100.9456926732,
          345691.0147101986,
          346282.09164198226,
          346874.17708011076,
          347467.27167156583,
          348061.37581204134,
          348656.4896466401,
          349252.61306986946,
          349849.7457265395,
          350447.8879142251,
          351047.04077754007,
          351647.20495576365,
          352248.3808001767,
          352850.56837407075,
          353453.76755464775,
          354057.9791390262,
          354663.20401283307,
          355269.4428017918,
          355876.6959536637,
          356484.9637382366,
          357094.2463834107,
          357704.544802999,
          358315.859949221,
          358928.1925942384,
          359541.54334273544,
          360155.9126319286,
          360771.30074036063,
          361387.7083584858,
          362005.1368247931,
          362623.5872734191,
          363243.0605682774,
          363863.5573030562,
          364485.07780121267,
          365107.62227146607,
          365731.19221279345,
          366355.789102453,
          366981.41400380415,
          367608.06766921084,
          368235.7505400498,
          368864.46321363555,
          369494.2072903926,
          370124.9840444613,
          370756.794539803,
          371389.63963951526,
          372023.5200060833,
          372658.4365535602,
          373294.390838935,
          373931.3842390967,
          374569.41794050735,
          375208.49293918913,
          375848.610040735,
          376489.7699717461,
          377131.9742755862,
          377775.2247301912,
          378419.52281888004,
          379064.86973047646,
          379711.266359305,
          380358.71330518584,
          381007.21158513747,
          381656.7634296235,
          382307.37052302074,
          382959.03421073407,
          383611.7555038519,
          384265.5351112642,
          384920.37454934634,
          385576.2757644887,
          386233.2403461367,
          386891.26966096205,
          387550.36485287285,
          388210.52689950843,
          388871.7574476897,
          389534.05841949437,
          390197.4314978652,
          390861.878154179,
          391527.3996482345,
          392193.9970284429,
          392861.67158750293,
          393530.42551233683,
          394200.2608263482,
          394871.1792363869,
          395543.18213275966,
          396216.27058922494,
          396890.44544597436,
          397565.70880345895,
          398242.06303643424,
          398919.51001243934,
          399598.0512427047,
          400277.687882148,
          400958.42102373374,
          401640.25296267215,
          402323.185791085,
          403007.22131410585,
          403692.36109298014,
          404378.60644507746,
          405065.9587405443,
          405754.42022687296,
          406443.99302969675,
          407134.67903589096,
          407826.47990008484,
          408519.39704464894,
          409213.43171576597,
          409908.58593286056,
          410604.8621955048,
          411302.26267458795,
          412000.7892028996,
          412700.4432751402,
          413401.22604791675,
          414103.1388903118,
          414806.1846638918,
          415510.36573352845,
          416215.6840618438,
          416922.14123388915,
          417629.7384601537,
          418338.47754868714,
          419048.3611358984,
          419759.3914206392,
          420471.57033737074,
          421184.8995561594,
          421899.3804978139,
          422615.015134715,
          423331.80601030466,
          424049.7553865264,
          424768.8652729386,
          425489.1374267261,
          426210.57335268735,
          426933.17463498056,
          427656.94394030934,
          428381.88387006253,
          429107.9966642686,
          429835.2842039802,
          430563.7480112848,
          431293.38928611483,
          432024.210389678,
          432756.21429508785,
          433489.40338489023,
          434223.7796434392,
          434959.34465689067,
          435696.0997856458,
          436434.0476531394,
          437173.19091249205,
          437913.5318439224,
          438655.0724431815,
          439397.8144215469,
          440141.75938739785,
          440886.90993308974,
          441633.26869546337,
          442380.83801509056,
          443129.61996036064,
          443879.61632749235,
          444630.8286628965,
          445383.25918553304,
          446136.9108674315,
          446891.78633561113,
          447647.8878376774,
          448405.21724180813,
          449163.7760367656,
          449923.5657524364,
          450684.58960047975,
          451446.8504208667,
          452210.35058039153,
          452975.0920274624,
          453741.07629209565,
          454508.3052446401,
          455276.7819802747,
          456046.50911399943,
          456817.4889536541,
          457589.7235027946,
          458363.21446121216,
          459137.9638991634,
          459913.9747749829,
          460691.24974928185,
          461469.791190883,
          462249.6011768151,
          463030.68149232573,
          463813.0338647141,
          464596.66120965243,
          465381.566542013,
          466167.7524681051,
          466955.2211946465,
          467743.9745287484,
          468534.0138889612,
          469325.3417084882,
          470117.9613925443,
          470911.87568482774,
          471707.08689069934,
          472503.59687719686,
          473301.4071631741,
          474100.5204891358,
          474900.9399313288,
          475702.66810692655,
          476505.7073091103,
          477310.0595070644,
          478115.72644685296,
          478922.7108647797,
          479731.0157839324,
          480540.64387309126,
          481351.5974896709,
          482163.8786797151,
          482977.4891830692,
          483792.4312725189,
          484608.7082551333,
          485426.3230977364,
          486245.2783474754,
          487065.576131832,
          487887.21815860906,
          488710.20603208034,
          489534.5431560222,
          490360.2327447683,
          491187.277464278,
          492015.67952231923,
          492845.4406684833,
          493676.5627689108,
          494509.0492034001,
          495342.9029264704,
          496178.12652681605,
          497014.72224937857,
          497852.69199533993,
          498692.03635071364,
          499532.7594305063,
          500374.8724449306,
          501218.39053749933,
          502063.3327566923,
          502909.72205595125,
          503757.5874730969,
          504606.96420614514,
          505457.8885344056,
          506310.42356427363,
          507164.6613182993,
          508020.7227352008,
          508878.7577145544,
          509738.9877870462,
          510601.67937984684,
          511467.2132112443,
          512336.1477390807,
          513209.2191607357,
          514087.3429536577,
          514971.72335094865,
          515863.9905148696,
          516766.1348627878,
          517680.5013968254,
          518609.7897038743,
          519557.0199705201,
          520525.09164466965,
          521516.7087035514,
          522533.62945886084,
          523576.50777887576,
          524644.8930884503,
          525737.2341135967,
          526851.2176296477,
          527983.9258743097,
          529132.4651490987,
          530294.2437490544,
          531466.9719627355,
          532648.6620722368,
          533837.6630176727,
          535032.8015663456,
          536233.1707771402,
          537438.0356646457,
          538646.8330716419,
          539859.1716690788,
          541074.8069115526,
          542293.5245401713,
          543515.1861570604,
          544739.6858962569,
          545966.9449134846,
          547196.9113861743,
          548429.5601397062,
          549664.8769393417,
          550902.8463914825,
          552143.4587476599,
          553386.7096213545,
          554632.5999879901,
          555881.1361849244,
          557132.3302142975,
          558386.1975163335,
          559642.7524885252,
          560902.0082427157,
          562163.9766074585,
          563428.6681280364,
          564696.0923862243,
          565966.2605461171,
          567239.1823278727,
          568514.8640919243,
          569793.3088758645,
          571074.5163944229,
          572358.4834013846,
          573645.2025872777,
          574934.6603326737,
          576226.8368557012,
          577521.7062133115,
          578819.2365878427,
          580119.3971999408,
          581422.1539199447,
          582727.485007511,
          584035.3866612655,
          585345.8730188245,
          586658.9761567849,
          587974.7439491753,
          589293.2411923503,
          590614.5404462066,
          591938.7077104488,
          593265.8021421917,
          594595.8760559516,
          595928.9749236677,
          597265.1375949252,
          598604.3966033722,
          599946.7783358946,
          601292.305143521,
          602640.9954814251,
          603992.8639463268,
          605347.9243776519,
          606706.1903909458,
          608067.6738947799,
          609432.3857986224,
          610800.3360128126,
          612171.5332051337,
          613545.986231689,
          614923.7079792372,
          616304.70825999,
          617688.9928840882,
          619076.5636596221,
          620467.4183926237,
          621861.5523977896,
          623258.9677915501,
          624659.6624088408,
          626063.623515076,
          627470.827796102,
          628881.2413581883,
          630294.8197280501,
          631711.4961876274,
          633131.1858832119,
          634553.76445948,
          635979.0419848276,
          637406.7629143739,
          638836.6014932696,
          640268.1115998304,
          641700.7159251808,
          643133.6542453602,
          644565.9736288101,
          645996.5284363477,
          647424.0443546652,
          648847.0823263356,
          650264.0375416765,
          651673.7193309984,
          653075.3813525434,
          654468.7215925097,
          655853.8818089021,
          657231.4740819265,
          658602.7992905761,
          659969.2603542183,
          661332.1668235294,
          662692.7348804856,
          664052.0873383546,
          665411.24728027,
          666770.9899056929,
          668131.8721261977,
          669494.356792517,
          670858.8108866597,
          672225.5055219324,
          673594.6196751765,
          674966.2988267456,
          676340.6502063393,
          677717.755197979,
          679097.6777084877,
          680480.4641674629,
          681866.1436969237,
          683254.7390762531,
          684646.2750520937,
          686040.7689454318,
          687438.2303276557,
          688838.6610205781,
          690242.0550964265,
          691648.4000195038,
          693057.6867596041,
          694469.8984855425,
          695885.0036495457,
          697302.9559811732,
          698723.6944873076,
          700147.1331671005,
          701573.1588049363,
          703001.6381098714,
          704432.345329998,
          705864.9584794588,
          707299.0593384716,
          708734.1257694658,
          710169.4306411805,
          711604.0318713507,
          713036.7016272438,
          714465.9079680343,
          715889.8148447794,
          717306.2850613528,
          718713.1216716367,
          720107.8494295037,
          721488.4305179635,
          722853.6170406056,
          724202.9510216205,
          725536.7644057912,
          726856.1315752107,
          728163.0064201351,
          729459.6941333549,
          730748.3407699786,
          732030.9271954761,
          733309.2690856708,
          734584.9939272596,
          735859.3120345802,
          737133.1409472366,
          738407.2304988389,
          739682.1600395041,
          740958.3384444126,
          742236.0578164454,
          743515.549177756,
          744796.9781796306,
          746080.4744618875,
          747366.1316528985,
          748654.0093132809,
          749944.1568826366,
          751236.6034838589,
          752531.3725514143,
          753828.487080858,
          755127.9696288084,
          756429.8423130539,
          757734.124384029,
          759040.8232617099,
          760349.9463681487,
          761661.5055638631,
          762975.5171478578,
          764292.0018576164,
          765610.9849798987,
          766932.5076022956,
          768256.6192054994,
          769583.3918421607,
          770912.9310019064,
          772245.3756113307,
          773580.9020683587,
          774919.7587048017,
          776262.2567052989,
          777608.8235391839,
          778960.0130618725,
          780316.5055148841,
          781679.0796821377,
          783048.6460406738,
          784426.3722857652,
          785813.2267562575,
          787209.9348012122,
          788616.9787798792,
          790034.5981396817,
          791462.710507267,
          792900.4996148753,
          794346.9486140696,
          795801.0590093265,
          797261.8506580589,
          798728.3617706074,
          800199.6489102289,
          801674.9024570298,
          803153.5994304991,
          804635.2896533213,
          806119.612548034,
          807606.2972823131,
          809095.158391094,
          810586.0535395691,
          812078.8829034981,
          813573.5701422445,
          815070.0580276069,
          816568.3084438439,
          818068.2992251281,
          819570.0140176327,
          821073.4443813498,
          822578.5840548874,
          824085.4286470843,
          825593.9756369832,
          827104.2240531114,
          828616.1707114532,
          830129.8201363545,
          831645.1775162201,
          833162.2456874478,
          834681.0251344503,
          836201.513989647,
          837723.7078870018,
          839247.6006443343,
          840773.18388805,
          842300.4385367435,
          843829.3337779455,
          845359.8270681143,
          846891.8603626507,
          848425.3569866153,
          849960.2139914159,
          851496.2853600217,
          853033.3816207704,
          854571.2698473934,
          856109.6938563056,
          857648.2920524469,
          859186.6761984152,
          860724.5139195756,
          862261.5287305919,
          863797.5000353998,
          865332.264782194,
          866865.8417478689,
          868398.4618217193,
          869930.38202845,
          871461.8724500998,
          872993.2162260622,
          874524.7095530787,
          876056.6541282294,
          877589.2671485598,
          879122.7162025811,
          880657.144003356,
          882192.6634218061,
          883729.3574867016,
          885267.2873040632,
          886806.5044045984,
          888347.0469347942,
          889888.9460992217,
          891432.2262049515,
          892976.9047096838,
          894522.9966525489,
          896070.5163132836,
          897619.4755242795,
          899169.8846694805,
          900721.7526844076,
          902275.0870561313,
          903829.8937761133,
          905386.178995335,
          906943.94892668,
          908503.207600129,
          910063.9567832306,
          911626.1959811279,
          913189.9224365463,
          914755.1309670297,
          916321.8162185581,
          917889.9668139634,
          919459.5603726739,
          921030.5634595096,
          922602.9312782413,
          924176.6003589375,
          925751.4927863098,
          927327.494414237,
          928904.4478399175,
          930482.1524038586,
          932060.3689397196,
          933638.813888463,
          935217.0863400615,
          936794.8026703617,
          938371.6182673658,
          939947.2275312594,
          941521.363874381,
          943093.8388551528,
          944664.7348592507,
          946234.2509074198,
          947802.6210517094,
          949370.1143522534,
          950937.0348772956,
          952503.7206220803,
          954070.4596485107,
          955637.462845453,
          957204.914340533,
          958772.958964115,
          960341.7056519877,
          961911.2403963608,
          963481.6365255498,
          965052.9559319037,
          966625.2490718289,
          968198.5665046244,
          969773.0071374149,
          971348.6598977899,
          972925.5922003146,
          974503.8582195875,
          976083.4981288929,
          977664.5440833746,
          979247.0246733802,
          980830.9599796486,
          982416.3577000865,
          984003.2394111605,
          985591.6373095644,
          987181.5754759046,
          988773.0665433096,
          990366.1102483629,
          991960.6897706584,
          993556.7689892296,
          995154.2895969026,
          996753.1658443639,
          998353.2780263571,
          999954.4581720633,
          1001556.4799186495,
          1003159.0327815033,
          1004761.6905863803,
          1006363.8644286309,
          1007964.7911752864,
          1009563.4927126461,
          1011158.7193324756,
          1012748.9865917661,
          1014332.5830395578,
          1015907.6630670277,
          1017472.3269322962,
          1019025.0249821249,
          1020564.662024369,
          1022090.684818981,
          1023603.4250617533,
          1025103.7964367785,
          1026593.1613818263,
          1028073.2617164041,
          1029545.8360067061,
          1031012.5101034724,
          1032474.7160784593,
          1033933.6548992599,
          1035390.2761042448,
          1036845.3388345005,
          1038299.4197125409,
          1039752.9487155204,
          1041206.2458128091,
          1042659.5588414439,
          1044113.0727976357,
          1045566.9220002096,
          1047021.2089434894,
          1048476.0106622034,
          1049931.3858748751,
          1051387.3749838478,
          1052844.0011961646,
          1054301.2953544485,
          1055759.27722076,
          1057217.9406243705,
          1058677.2534562005,
          1060137.1589450832,
          1061597.605438821,
          1063058.5397197353,
          1064519.8870591894,
          1065981.5517162748,
          1067443.409104515,
          1068905.2791575477,
          1070366.9092295999,
          1071827.940218049,
          1073287.8784593549,
          1074746.058717121,
          1076201.5712732302,
          1077653.198806863,
          1079099.328535907,
          1080537.7796837932,
          1081965.7406246925,
          1083379.585432032,
          1084774.7775050814,
          1086145.8928598105,
          1087486.6614200077,
          1088790.2635494175,
          1090049.9292529759,
          1091260.0357533635,
          1092416.4122521887,
          1093517.4775095875,
          1094564.3498020596,
          1095560.6464224928,
          1096511.8261366433,
          1097424.2350843728,
          1098304.490340741,
          1099158.7245658052,
          1099992.277070137,
          1100809.582137701,
          1101614.1972114525,
          1102408.9018715813,
          1103195.816013681,
          1103976.553869959,
          1104752.3125778947,
          1105523.972315071,
          1106292.1866903808,
          1107057.4313137026,
          1107820.0475743678,
          1108580.284872072,
          1109338.3225092944,
          1110094.2820194652,
          1110848.2464117545,
          1111600.2721531272,
          1112350.3995494202,
          1113098.656756407,
          1113845.087683583,
          1114589.7209586385,
          1115332.537444172,
          1116073.520446358,
          1116812.6488853386,
          1117549.8975997947,
          1118285.2374225846,
          1119018.6249789838,
          1119749.9981866337,
          1120479.2702090598,
          1121206.3233400648,
          1121930.9950376619,
          1122653.0643719027,
          1123372.2348131707,
          1124088.1066500917,
          1124800.1560612307,
          1125507.700035911,
          1126209.8621388366,
          1126905.555813735,
          1127593.4683987668,
          1128272.1068629704,
          1128939.8605178976,
          1129595.0966331842,
          1130236.4684809756,
          1130863.0088734105,
          1131474.3232165729,
          1132070.6795747671,
          1132652.9310180033,
          1133222.3716503768,
          1133780.5036982289,
          1134328.8868889278,
          1134868.9580378192,
          1135401.9702112104,
          1135928.9669913007,
          1136450.7872005831,
          1136968.0837741548,
          1137481.355494139,
          1137990.981252198,
          1138497.2388301708,
          1139000.3279393562,
          1139500.4010668788,
          1139997.5733073528,
          1140491.9321259991,
          1140983.5411550798,
          1141472.4458317705,
          1141958.6787629267,
          1142442.2660372301,
          1142923.2269479455,
          1143401.5776569839,
          1143877.336782519,
          1144350.529059104,
          1144821.171912371,
          1145289.2690773339,
          1145754.8281364972,
          1146217.8601999395,
          1146678.3804775886,
          1147136.409375528,
          1147591.9739453876,
          1148045.1090102396,
          1148495.8612383544,
          1148944.2948972974,
          1149390.496869198,
          1149834.5827061287,
          1150276.7099909405,
          1150717.087193019,
          1151155.986843501,
          1151593.769182339,
          1152030.8942078901,
          1152467.9363981017,
          1152905.587757286,
          1153344.64078485,
          1153785.9538118711,
          1154230.3630565694,
          1154678.5945826687,
          1155131.149095324,
          1155588.2086544516,
          1156049.6095465422,
          1156514.862155233,
          1156983.2655363819,
          1157453.9794982583,
          1157926.1532238193,
          1158399.0037557348,
          1158871.8415260955,
          1159344.0960346393,
          1159815.308246295,
          1160285.1209266945,
          1160753.2603912256,
          1161219.5187470824,
          1161683.740705187,
          1162145.8023022187,
          1162605.6143569131,
          1163063.123210347,
          1163518.2952510454,
          1163971.1041164023,
          1164421.530488484,
          1164869.5615180098,
          1165315.1897040624,
          1165758.4110907696,
          1166199.2253521811,
          1166637.638026279,
          1167073.6533598073,
          1167507.2725577948,
          1167938.4991784764,
          1168367.3416538073,
          1168793.81189011,
          1169217.9255858215,
          1169639.7023285034,
          1170059.1679184032,
          1170476.3553199694,
          1170891.3073686392,
          1171304.0802610808,
          1171714.750798877,
          1172123.419958865,
          1172530.2193614733,
          1172935.321423273,
          1173338.9640361469,
          1173741.451993566,
          1174143.1630964437,
          1174544.583084688,
          1174946.289027462,
          1175348.9361892676,
          1175753.2395765637,
          1176159.9106624983,
          1176569.5460690546,
          1176982.5454186397,
          1177399.0700409182,
          1177818.9674062736,
          1178241.8368535712,
          1178667.0750532895,
          1179093.9817651007,
          1179521.8541313594,
          1179950.0222685072,
          1180377.9057663225,
          1180805.0233468385,
          1181230.990656264,
          1181655.5106149968,
          1182078.3564147283,
          1182499.3571034386,
          1182918.3853474127,
          1183335.340526017,
          1183750.150315425,
          1184162.772797003,
          1184573.182868981,
          1184981.3618212473,
          1185387.2970754725,
          1185790.9813044053,
          1186192.4116318575,
          1186591.5869918994,
          1186988.5083351163,
          1187383.1671934298,
          1187775.5586167637,
          1188165.6910618108,
          1188553.5786880606,
          1188939.2299738363,
          1189322.6508446748,
          1189703.8447014876,
          1190082.811531347,
          1190459.5505857079,
          1190834.0615037743,
          1191206.3463813642,
          1191576.4022218147,
          1191944.205640217,
          1192309.7233759726,
          1192672.9146981428,
          1193033.7255402612,
          1193392.0822299046,
          1193747.8874351971,
          1194101.0128823745,
          1194451.2956329726,
          1194798.5392007057,
          1195142.5152441545,
          1195482.9688497428,
          1195819.649436985,
          1196152.3435503505,
          1196480.9050135515,
          1196805.283613422,
          1197125.5325297182,
          1197441.8035548774,
          1197754.3171133613,
          1198063.3228023294,
          1198369.085986589,
          1198671.8503691014,
          1198971.8298048573,
          1199269.203699299,
          1199564.1180507254,
          1199856.6865464405,
          1200147.0001860352,
          1200435.1294948433,
          1200721.127720057,
          1201005.0373625306,
          1201286.8923329136,
          1201566.7192701106,
          1201844.5400146279,
          1202120.3730810566,
          1202394.2343767437,
          1202666.1378772366,
          1202936.0973235941,
          1203204.1246461947,
          1203470.2294716954,
          1203734.4184459813,
          1203996.6987313996,
          1204257.0832015197,
          1204515.5838908225,
          1204772.2103360582,
          1205026.9708677172,
          1205279.8732524975,
          1205530.9248745078,
          1205780.133107012,
          1206027.5057326013,
          1206273.0505251323,
          1206516.7753987908,
          1206758.6891146575,
          1206998.800309761,
          1207237.117116978,
          1207473.6478150762,
          1207708.4004578376,
          1207941.3829483106,
          1208172.6030928432,
          1208402.068816176,
          1208629.7880824618,
          1208855.7686520375,
          1209080.0182606857,
          1209302.54476621,
          1209523.3560065073,
          1209742.4598336741
         ],
         "yaxis": "y"
        },
        {
         "hovertemplate": "year=%{x}<br>population=%{y}<extra></extra>",
         "legendgroup": "",
         "marker": {
          "color": "red",
          "symbol": "circle"
         },
         "mode": "markers",
         "name": "",
         "orientation": "v",
         "showlegend": false,
         "type": "scatter",
         "x": [
          1995,
          1996,
          1997,
          1998,
          1999,
          2000,
          2001,
          2002,
          2003,
          2004,
          2005,
          2006,
          2007,
          2008,
          2009,
          2010,
          2011,
          2012,
          2013,
          2014,
          2015,
          2016,
          2017,
          2018,
          2019
         ],
         "xaxis": "x",
         "y": [
          1041800,
          1061600,
          1081100,
          1101800,
          1123500,
          1133900,
          1145200,
          1155300,
          1164500,
          1174400,
          1182900,
          1188700,
          1195200,
          1201700,
          1207100,
          1205840,
          1204500,
          1203460,
          1202070,
          1200740,
          1199500,
          1198100,
          1197000,
          1195600,
          1194300
         ],
         "yaxis": "y"
        }
       ],
       "layout": {
        "template": {
         "data": {
          "bar": [
           {
            "error_x": {
             "color": "#2a3f5f"
            },
            "error_y": {
             "color": "#2a3f5f"
            },
            "marker": {
             "line": {
              "color": "#E5ECF6",
              "width": 0.5
             },
             "pattern": {
              "fillmode": "overlay",
              "size": 10,
              "solidity": 0.2
             }
            },
            "type": "bar"
           }
          ],
          "barpolar": [
           {
            "marker": {
             "line": {
              "color": "#E5ECF6",
              "width": 0.5
             },
             "pattern": {
              "fillmode": "overlay",
              "size": 10,
              "solidity": 0.2
             }
            },
            "type": "barpolar"
           }
          ],
          "carpet": [
           {
            "aaxis": {
             "endlinecolor": "#2a3f5f",
             "gridcolor": "white",
             "linecolor": "white",
             "minorgridcolor": "white",
             "startlinecolor": "#2a3f5f"
            },
            "baxis": {
             "endlinecolor": "#2a3f5f",
             "gridcolor": "white",
             "linecolor": "white",
             "minorgridcolor": "white",
             "startlinecolor": "#2a3f5f"
            },
            "type": "carpet"
           }
          ],
          "choropleth": [
           {
            "colorbar": {
             "outlinewidth": 0,
             "ticks": ""
            },
            "type": "choropleth"
           }
          ],
          "contour": [
           {
            "colorbar": {
             "outlinewidth": 0,
             "ticks": ""
            },
            "colorscale": [
             [
              0,
              "#0d0887"
             ],
             [
              0.1111111111111111,
              "#46039f"
             ],
             [
              0.2222222222222222,
              "#7201a8"
             ],
             [
              0.3333333333333333,
              "#9c179e"
             ],
             [
              0.4444444444444444,
              "#bd3786"
             ],
             [
              0.5555555555555556,
              "#d8576b"
             ],
             [
              0.6666666666666666,
              "#ed7953"
             ],
             [
              0.7777777777777778,
              "#fb9f3a"
             ],
             [
              0.8888888888888888,
              "#fdca26"
             ],
             [
              1,
              "#f0f921"
             ]
            ],
            "type": "contour"
           }
          ],
          "contourcarpet": [
           {
            "colorbar": {
             "outlinewidth": 0,
             "ticks": ""
            },
            "type": "contourcarpet"
           }
          ],
          "heatmap": [
           {
            "colorbar": {
             "outlinewidth": 0,
             "ticks": ""
            },
            "colorscale": [
             [
              0,
              "#0d0887"
             ],
             [
              0.1111111111111111,
              "#46039f"
             ],
             [
              0.2222222222222222,
              "#7201a8"
             ],
             [
              0.3333333333333333,
              "#9c179e"
             ],
             [
              0.4444444444444444,
              "#bd3786"
             ],
             [
              0.5555555555555556,
              "#d8576b"
             ],
             [
              0.6666666666666666,
              "#ed7953"
             ],
             [
              0.7777777777777778,
              "#fb9f3a"
             ],
             [
              0.8888888888888888,
              "#fdca26"
             ],
             [
              1,
              "#f0f921"
             ]
            ],
            "type": "heatmap"
           }
          ],
          "heatmapgl": [
           {
            "colorbar": {
             "outlinewidth": 0,
             "ticks": ""
            },
            "colorscale": [
             [
              0,
              "#0d0887"
             ],
             [
              0.1111111111111111,
              "#46039f"
             ],
             [
              0.2222222222222222,
              "#7201a8"
             ],
             [
              0.3333333333333333,
              "#9c179e"
             ],
             [
              0.4444444444444444,
              "#bd3786"
             ],
             [
              0.5555555555555556,
              "#d8576b"
             ],
             [
              0.6666666666666666,
              "#ed7953"
             ],
             [
              0.7777777777777778,
              "#fb9f3a"
             ],
             [
              0.8888888888888888,
              "#fdca26"
             ],
             [
              1,
              "#f0f921"
             ]
            ],
            "type": "heatmapgl"
           }
          ],
          "histogram": [
           {
            "marker": {
             "pattern": {
              "fillmode": "overlay",
              "size": 10,
              "solidity": 0.2
             }
            },
            "type": "histogram"
           }
          ],
          "histogram2d": [
           {
            "colorbar": {
             "outlinewidth": 0,
             "ticks": ""
            },
            "colorscale": [
             [
              0,
              "#0d0887"
             ],
             [
              0.1111111111111111,
              "#46039f"
             ],
             [
              0.2222222222222222,
              "#7201a8"
             ],
             [
              0.3333333333333333,
              "#9c179e"
             ],
             [
              0.4444444444444444,
              "#bd3786"
             ],
             [
              0.5555555555555556,
              "#d8576b"
             ],
             [
              0.6666666666666666,
              "#ed7953"
             ],
             [
              0.7777777777777778,
              "#fb9f3a"
             ],
             [
              0.8888888888888888,
              "#fdca26"
             ],
             [
              1,
              "#f0f921"
             ]
            ],
            "type": "histogram2d"
           }
          ],
          "histogram2dcontour": [
           {
            "colorbar": {
             "outlinewidth": 0,
             "ticks": ""
            },
            "colorscale": [
             [
              0,
              "#0d0887"
             ],
             [
              0.1111111111111111,
              "#46039f"
             ],
             [
              0.2222222222222222,
              "#7201a8"
             ],
             [
              0.3333333333333333,
              "#9c179e"
             ],
             [
              0.4444444444444444,
              "#bd3786"
             ],
             [
              0.5555555555555556,
              "#d8576b"
             ],
             [
              0.6666666666666666,
              "#ed7953"
             ],
             [
              0.7777777777777778,
              "#fb9f3a"
             ],
             [
              0.8888888888888888,
              "#fdca26"
             ],
             [
              1,
              "#f0f921"
             ]
            ],
            "type": "histogram2dcontour"
           }
          ],
          "mesh3d": [
           {
            "colorbar": {
             "outlinewidth": 0,
             "ticks": ""
            },
            "type": "mesh3d"
           }
          ],
          "parcoords": [
           {
            "line": {
             "colorbar": {
              "outlinewidth": 0,
              "ticks": ""
             }
            },
            "type": "parcoords"
           }
          ],
          "pie": [
           {
            "automargin": true,
            "type": "pie"
           }
          ],
          "scatter": [
           {
            "fillpattern": {
             "fillmode": "overlay",
             "size": 10,
             "solidity": 0.2
            },
            "type": "scatter"
           }
          ],
          "scatter3d": [
           {
            "line": {
             "colorbar": {
              "outlinewidth": 0,
              "ticks": ""
             }
            },
            "marker": {
             "colorbar": {
              "outlinewidth": 0,
              "ticks": ""
             }
            },
            "type": "scatter3d"
           }
          ],
          "scattercarpet": [
           {
            "marker": {
             "colorbar": {
              "outlinewidth": 0,
              "ticks": ""
             }
            },
            "type": "scattercarpet"
           }
          ],
          "scattergeo": [
           {
            "marker": {
             "colorbar": {
              "outlinewidth": 0,
              "ticks": ""
             }
            },
            "type": "scattergeo"
           }
          ],
          "scattergl": [
           {
            "marker": {
             "colorbar": {
              "outlinewidth": 0,
              "ticks": ""
             }
            },
            "type": "scattergl"
           }
          ],
          "scattermapbox": [
           {
            "marker": {
             "colorbar": {
              "outlinewidth": 0,
              "ticks": ""
             }
            },
            "type": "scattermapbox"
           }
          ],
          "scatterpolar": [
           {
            "marker": {
             "colorbar": {
              "outlinewidth": 0,
              "ticks": ""
             }
            },
            "type": "scatterpolar"
           }
          ],
          "scatterpolargl": [
           {
            "marker": {
             "colorbar": {
              "outlinewidth": 0,
              "ticks": ""
             }
            },
            "type": "scatterpolargl"
           }
          ],
          "scatterternary": [
           {
            "marker": {
             "colorbar": {
              "outlinewidth": 0,
              "ticks": ""
             }
            },
            "type": "scatterternary"
           }
          ],
          "surface": [
           {
            "colorbar": {
             "outlinewidth": 0,
             "ticks": ""
            },
            "colorscale": [
             [
              0,
              "#0d0887"
             ],
             [
              0.1111111111111111,
              "#46039f"
             ],
             [
              0.2222222222222222,
              "#7201a8"
             ],
             [
              0.3333333333333333,
              "#9c179e"
             ],
             [
              0.4444444444444444,
              "#bd3786"
             ],
             [
              0.5555555555555556,
              "#d8576b"
             ],
             [
              0.6666666666666666,
              "#ed7953"
             ],
             [
              0.7777777777777778,
              "#fb9f3a"
             ],
             [
              0.8888888888888888,
              "#fdca26"
             ],
             [
              1,
              "#f0f921"
             ]
            ],
            "type": "surface"
           }
          ],
          "table": [
           {
            "cells": {
             "fill": {
              "color": "#EBF0F8"
             },
             "line": {
              "color": "white"
             }
            },
            "header": {
             "fill": {
              "color": "#C8D4E3"
             },
             "line": {
              "color": "white"
             }
            },
            "type": "table"
           }
          ]
         },
         "layout": {
          "annotationdefaults": {
           "arrowcolor": "#2a3f5f",
           "arrowhead": 0,
           "arrowwidth": 1
          },
          "autotypenumbers": "strict",
          "coloraxis": {
           "colorbar": {
            "outlinewidth": 0,
            "ticks": ""
           }
          },
          "colorscale": {
           "diverging": [
            [
             0,
             "#8e0152"
            ],
            [
             0.1,
             "#c51b7d"
            ],
            [
             0.2,
             "#de77ae"
            ],
            [
             0.3,
             "#f1b6da"
            ],
            [
             0.4,
             "#fde0ef"
            ],
            [
             0.5,
             "#f7f7f7"
            ],
            [
             0.6,
             "#e6f5d0"
            ],
            [
             0.7,
             "#b8e186"
            ],
            [
             0.8,
             "#7fbc41"
            ],
            [
             0.9,
             "#4d9221"
            ],
            [
             1,
             "#276419"
            ]
           ],
           "sequential": [
            [
             0,
             "#0d0887"
            ],
            [
             0.1111111111111111,
             "#46039f"
            ],
            [
             0.2222222222222222,
             "#7201a8"
            ],
            [
             0.3333333333333333,
             "#9c179e"
            ],
            [
             0.4444444444444444,
             "#bd3786"
            ],
            [
             0.5555555555555556,
             "#d8576b"
            ],
            [
             0.6666666666666666,
             "#ed7953"
            ],
            [
             0.7777777777777778,
             "#fb9f3a"
            ],
            [
             0.8888888888888888,
             "#fdca26"
            ],
            [
             1,
             "#f0f921"
            ]
           ],
           "sequentialminus": [
            [
             0,
             "#0d0887"
            ],
            [
             0.1111111111111111,
             "#46039f"
            ],
            [
             0.2222222222222222,
             "#7201a8"
            ],
            [
             0.3333333333333333,
             "#9c179e"
            ],
            [
             0.4444444444444444,
             "#bd3786"
            ],
            [
             0.5555555555555556,
             "#d8576b"
            ],
            [
             0.6666666666666666,
             "#ed7953"
            ],
            [
             0.7777777777777778,
             "#fb9f3a"
            ],
            [
             0.8888888888888888,
             "#fdca26"
            ],
            [
             1,
             "#f0f921"
            ]
           ]
          },
          "colorway": [
           "#636efa",
           "#EF553B",
           "#00cc96",
           "#ab63fa",
           "#FFA15A",
           "#19d3f3",
           "#FF6692",
           "#B6E880",
           "#FF97FF",
           "#FECB52"
          ],
          "font": {
           "color": "#2a3f5f"
          },
          "geo": {
           "bgcolor": "white",
           "lakecolor": "white",
           "landcolor": "#E5ECF6",
           "showlakes": true,
           "showland": true,
           "subunitcolor": "white"
          },
          "hoverlabel": {
           "align": "left"
          },
          "hovermode": "closest",
          "mapbox": {
           "style": "light"
          },
          "paper_bgcolor": "white",
          "plot_bgcolor": "#E5ECF6",
          "polar": {
           "angularaxis": {
            "gridcolor": "white",
            "linecolor": "white",
            "ticks": ""
           },
           "bgcolor": "#E5ECF6",
           "radialaxis": {
            "gridcolor": "white",
            "linecolor": "white",
            "ticks": ""
           }
          },
          "scene": {
           "xaxis": {
            "backgroundcolor": "#E5ECF6",
            "gridcolor": "white",
            "gridwidth": 2,
            "linecolor": "white",
            "showbackground": true,
            "ticks": "",
            "zerolinecolor": "white"
           },
           "yaxis": {
            "backgroundcolor": "#E5ECF6",
            "gridcolor": "white",
            "gridwidth": 2,
            "linecolor": "white",
            "showbackground": true,
            "ticks": "",
            "zerolinecolor": "white"
           },
           "zaxis": {
            "backgroundcolor": "#E5ECF6",
            "gridcolor": "white",
            "gridwidth": 2,
            "linecolor": "white",
            "showbackground": true,
            "ticks": "",
            "zerolinecolor": "white"
           }
          },
          "shapedefaults": {
           "line": {
            "color": "#2a3f5f"
           }
          },
          "ternary": {
           "aaxis": {
            "gridcolor": "white",
            "linecolor": "white",
            "ticks": ""
           },
           "baxis": {
            "gridcolor": "white",
            "linecolor": "white",
            "ticks": ""
           },
           "bgcolor": "#E5ECF6",
           "caxis": {
            "gridcolor": "white",
            "linecolor": "white",
            "ticks": ""
           }
          },
          "title": {
           "x": 0.05
          },
          "xaxis": {
           "automargin": true,
           "gridcolor": "white",
           "linecolor": "white",
           "ticks": "",
           "title": {
            "standoff": 15
           },
           "zerolinecolor": "white",
           "zerolinewidth": 2
          },
          "yaxis": {
           "automargin": true,
           "gridcolor": "white",
           "linecolor": "white",
           "ticks": "",
           "title": {
            "standoff": 15
           },
           "zerolinecolor": "white",
           "zerolinewidth": 2
          }
         }
        },
        "title": {
         "text": "Modelled vs Data",
         "x": 0.5
        },
        "xaxis": {
         "title": {
          "text": "Year"
         }
        },
        "yaxis": {
         "title": {
          "text": "Population"
         }
        }
       }
      }
     },
     "metadata": {},
     "output_type": "display_data"
    }
   ],
   "source": [
    "fig2_1 = px.line(\n",
    "    derived_df_0,\n",
    "    x=derived_df_0.index,\n",
    "    y=\"total_population\",\n",
    ")\n",
    "fig2_2 = px.scatter(pop_df.reset_index(), x=\"year\", y=\"population\")\n",
    "fig2_2.update_traces(marker=dict(color=\"red\"))\n",
    "fig2_3 = go.Figure(\n",
    "    data=fig2_1.data + fig2_2.data,\n",
    ")\n",
    "fig2_3.update_layout(\n",
    "    title=\"Modelled vs Data\", title_x=0.5, xaxis_title=\"Year\", yaxis_title=\"Population\"\n",
    ")\n",
    "fig2_3.show()"
   ]
  },
  {
   "cell_type": "code",
   "execution_count": 15,
   "metadata": {},
   "outputs": [
    {
     "data": {
      "application/vnd.plotly.v1+json": {
       "config": {
        "plotlyServerURL": "https://plot.ly"
       },
       "data": [
        {
         "hovertemplate": "variable=incidence<br>index=%{x}<br>value=%{y}<extra></extra>",
         "legendgroup": "incidence",
         "line": {
          "color": "#636efa",
          "dash": "solid"
         },
         "marker": {
          "symbol": "circle"
         },
         "mode": "lines",
         "name": "incidence",
         "showlegend": true,
         "type": "scattergl",
         "x": [
          1900,
          1900.1,
          1900.2,
          1900.3,
          1900.4,
          1900.5,
          1900.6,
          1900.7,
          1900.8,
          1900.9,
          1901,
          1901.1,
          1901.2,
          1901.3,
          1901.4,
          1901.5,
          1901.6,
          1901.7,
          1901.8,
          1901.9,
          1902,
          1902.1,
          1902.2,
          1902.3,
          1902.4,
          1902.5,
          1902.6,
          1902.7,
          1902.8,
          1902.9,
          1903,
          1903.1,
          1903.2,
          1903.3,
          1903.4,
          1903.5,
          1903.6,
          1903.7,
          1903.8,
          1903.9,
          1904,
          1904.1,
          1904.2,
          1904.3,
          1904.4,
          1904.5,
          1904.6,
          1904.7,
          1904.8,
          1904.9,
          1905,
          1905.1,
          1905.2,
          1905.3,
          1905.4,
          1905.5,
          1905.6,
          1905.7,
          1905.8,
          1905.9,
          1906,
          1906.1,
          1906.2,
          1906.3,
          1906.4,
          1906.5,
          1906.6,
          1906.7,
          1906.8,
          1906.9,
          1907,
          1907.1,
          1907.2,
          1907.3,
          1907.4,
          1907.5,
          1907.6,
          1907.7,
          1907.8,
          1907.9,
          1908,
          1908.1,
          1908.2,
          1908.3,
          1908.4,
          1908.5,
          1908.6,
          1908.7,
          1908.8,
          1908.9,
          1909,
          1909.1,
          1909.2,
          1909.3,
          1909.4,
          1909.5,
          1909.6,
          1909.7,
          1909.8,
          1909.9,
          1910,
          1910.1,
          1910.2,
          1910.3,
          1910.4,
          1910.5,
          1910.6,
          1910.7,
          1910.8,
          1910.9,
          1911,
          1911.1,
          1911.2,
          1911.3,
          1911.4,
          1911.5,
          1911.6,
          1911.7,
          1911.8,
          1911.9,
          1912,
          1912.1,
          1912.2,
          1912.3,
          1912.4,
          1912.5,
          1912.6,
          1912.7,
          1912.8,
          1912.9,
          1913,
          1913.1,
          1913.2,
          1913.3,
          1913.4,
          1913.5,
          1913.6,
          1913.7,
          1913.8,
          1913.9,
          1914,
          1914.1,
          1914.2,
          1914.3,
          1914.4,
          1914.5,
          1914.6,
          1914.7,
          1914.8,
          1914.9,
          1915,
          1915.1,
          1915.2,
          1915.3,
          1915.4,
          1915.5,
          1915.6,
          1915.7,
          1915.8,
          1915.9,
          1916,
          1916.1,
          1916.2,
          1916.3,
          1916.4,
          1916.5,
          1916.6,
          1916.7,
          1916.8,
          1916.9,
          1917,
          1917.1,
          1917.2,
          1917.3,
          1917.4,
          1917.5,
          1917.6,
          1917.7,
          1917.8,
          1917.9,
          1918,
          1918.1,
          1918.2,
          1918.3,
          1918.4,
          1918.5,
          1918.6,
          1918.7,
          1918.8,
          1918.9,
          1919,
          1919.1,
          1919.2,
          1919.3,
          1919.4,
          1919.5,
          1919.6,
          1919.7,
          1919.8,
          1919.9,
          1920,
          1920.1,
          1920.2,
          1920.3,
          1920.4,
          1920.5,
          1920.6,
          1920.7,
          1920.8,
          1920.9,
          1921,
          1921.1,
          1921.2,
          1921.3,
          1921.4,
          1921.5,
          1921.6,
          1921.7,
          1921.8,
          1921.9,
          1922,
          1922.1,
          1922.2,
          1922.3,
          1922.4,
          1922.5,
          1922.6,
          1922.7,
          1922.8,
          1922.9,
          1923,
          1923.1,
          1923.2,
          1923.3,
          1923.4,
          1923.5,
          1923.6,
          1923.7,
          1923.8,
          1923.9,
          1924,
          1924.1,
          1924.2,
          1924.3,
          1924.4,
          1924.5,
          1924.6,
          1924.7,
          1924.8,
          1924.9,
          1925,
          1925.1,
          1925.2,
          1925.3,
          1925.4,
          1925.5,
          1925.6,
          1925.7,
          1925.8,
          1925.9,
          1926,
          1926.1,
          1926.2,
          1926.3,
          1926.4,
          1926.5,
          1926.6,
          1926.7,
          1926.8,
          1926.9,
          1927,
          1927.1,
          1927.2,
          1927.3,
          1927.4,
          1927.5,
          1927.6,
          1927.7,
          1927.8,
          1927.9,
          1928,
          1928.1,
          1928.2,
          1928.3,
          1928.4,
          1928.5,
          1928.6,
          1928.7,
          1928.8,
          1928.9,
          1929,
          1929.1,
          1929.2,
          1929.3,
          1929.4,
          1929.5,
          1929.6,
          1929.7,
          1929.8,
          1929.9,
          1930,
          1930.1,
          1930.2,
          1930.3,
          1930.4,
          1930.5,
          1930.6,
          1930.7,
          1930.8,
          1930.9,
          1931,
          1931.1,
          1931.2,
          1931.3,
          1931.4,
          1931.5,
          1931.6,
          1931.7,
          1931.8,
          1931.9,
          1932,
          1932.1,
          1932.2,
          1932.3,
          1932.4,
          1932.5,
          1932.6,
          1932.7,
          1932.8,
          1932.9,
          1933,
          1933.1,
          1933.2,
          1933.3,
          1933.4,
          1933.5,
          1933.6,
          1933.7,
          1933.8,
          1933.9,
          1934,
          1934.1,
          1934.2,
          1934.3,
          1934.4,
          1934.5,
          1934.6,
          1934.7,
          1934.8,
          1934.9,
          1935,
          1935.1,
          1935.2,
          1935.3,
          1935.4,
          1935.5,
          1935.6,
          1935.7,
          1935.8,
          1935.9,
          1936,
          1936.1,
          1936.2,
          1936.3,
          1936.4,
          1936.5,
          1936.6,
          1936.7,
          1936.8,
          1936.9,
          1937,
          1937.1,
          1937.2,
          1937.3,
          1937.4,
          1937.5,
          1937.6,
          1937.7,
          1937.8,
          1937.9,
          1938,
          1938.1,
          1938.2,
          1938.3,
          1938.4,
          1938.5,
          1938.6,
          1938.7,
          1938.8,
          1938.9,
          1939,
          1939.1,
          1939.2,
          1939.3,
          1939.4,
          1939.5,
          1939.6,
          1939.7,
          1939.8,
          1939.9,
          1940,
          1940.1,
          1940.2,
          1940.3,
          1940.4,
          1940.5,
          1940.6,
          1940.7,
          1940.8,
          1940.9,
          1941,
          1941.1,
          1941.2,
          1941.3,
          1941.4,
          1941.5,
          1941.6,
          1941.7,
          1941.8,
          1941.9,
          1942,
          1942.1,
          1942.2,
          1942.3,
          1942.4,
          1942.5,
          1942.6,
          1942.7,
          1942.8,
          1942.9,
          1943,
          1943.1,
          1943.2,
          1943.3,
          1943.4,
          1943.5,
          1943.6,
          1943.7,
          1943.8,
          1943.9,
          1944,
          1944.1,
          1944.2,
          1944.3,
          1944.4,
          1944.5,
          1944.6,
          1944.7,
          1944.8,
          1944.9,
          1945,
          1945.1,
          1945.2,
          1945.3,
          1945.4,
          1945.5,
          1945.6,
          1945.7,
          1945.8,
          1945.9,
          1946,
          1946.1,
          1946.2,
          1946.3,
          1946.4,
          1946.5,
          1946.6,
          1946.7,
          1946.8,
          1946.9,
          1947,
          1947.1,
          1947.2,
          1947.3,
          1947.4,
          1947.5,
          1947.6,
          1947.7,
          1947.8,
          1947.9,
          1948,
          1948.1,
          1948.2,
          1948.3,
          1948.4,
          1948.5,
          1948.6,
          1948.7,
          1948.8,
          1948.9,
          1949,
          1949.1,
          1949.2,
          1949.3,
          1949.4,
          1949.5,
          1949.6,
          1949.7,
          1949.8,
          1949.9,
          1950,
          1950.1,
          1950.2,
          1950.3,
          1950.4,
          1950.5,
          1950.6,
          1950.7,
          1950.8,
          1950.9,
          1951,
          1951.1,
          1951.2,
          1951.3,
          1951.4,
          1951.5,
          1951.6,
          1951.7,
          1951.8,
          1951.9,
          1952,
          1952.1,
          1952.2,
          1952.3,
          1952.4,
          1952.5,
          1952.6,
          1952.7,
          1952.8,
          1952.9,
          1953,
          1953.1,
          1953.2,
          1953.3,
          1953.4,
          1953.5,
          1953.6,
          1953.7,
          1953.8,
          1953.9,
          1954,
          1954.1,
          1954.2,
          1954.3,
          1954.4,
          1954.5,
          1954.6,
          1954.7,
          1954.8,
          1954.9,
          1955,
          1955.1,
          1955.2,
          1955.3,
          1955.4,
          1955.5,
          1955.6,
          1955.7,
          1955.8,
          1955.9,
          1956,
          1956.1,
          1956.2,
          1956.3,
          1956.4,
          1956.5,
          1956.6,
          1956.7,
          1956.8,
          1956.9,
          1957,
          1957.1,
          1957.2,
          1957.3,
          1957.4,
          1957.5,
          1957.6,
          1957.7,
          1957.8,
          1957.9,
          1958,
          1958.1,
          1958.2,
          1958.3,
          1958.4,
          1958.5,
          1958.6,
          1958.7,
          1958.8,
          1958.9,
          1959,
          1959.1,
          1959.2,
          1959.3,
          1959.4,
          1959.5,
          1959.6,
          1959.7,
          1959.8,
          1959.9,
          1960,
          1960.1,
          1960.2,
          1960.3,
          1960.4,
          1960.5,
          1960.6,
          1960.7,
          1960.8,
          1960.9,
          1961,
          1961.1,
          1961.2,
          1961.3,
          1961.4,
          1961.5,
          1961.6,
          1961.7,
          1961.8,
          1961.9,
          1962,
          1962.1,
          1962.2,
          1962.3,
          1962.4,
          1962.5,
          1962.6,
          1962.7,
          1962.8,
          1962.9,
          1963,
          1963.1,
          1963.2,
          1963.3,
          1963.4,
          1963.5,
          1963.6,
          1963.7,
          1963.8,
          1963.9,
          1964,
          1964.1,
          1964.2,
          1964.3,
          1964.4,
          1964.5,
          1964.6,
          1964.7,
          1964.8,
          1964.9,
          1965,
          1965.1,
          1965.2,
          1965.3,
          1965.4,
          1965.5,
          1965.6,
          1965.7,
          1965.8,
          1965.9,
          1966,
          1966.1,
          1966.2,
          1966.3,
          1966.4,
          1966.5,
          1966.6,
          1966.7,
          1966.8,
          1966.9,
          1967,
          1967.1,
          1967.2,
          1967.3,
          1967.4,
          1967.5,
          1967.6,
          1967.7,
          1967.8,
          1967.9,
          1968,
          1968.1,
          1968.2,
          1968.3,
          1968.4,
          1968.5,
          1968.6,
          1968.7,
          1968.8,
          1968.9,
          1969,
          1969.1,
          1969.2,
          1969.3,
          1969.4,
          1969.5,
          1969.6,
          1969.7,
          1969.8,
          1969.9,
          1970,
          1970.1,
          1970.2,
          1970.3,
          1970.4,
          1970.5,
          1970.6,
          1970.7,
          1970.8,
          1970.9,
          1971,
          1971.1,
          1971.2,
          1971.3,
          1971.4,
          1971.5,
          1971.6,
          1971.7,
          1971.8,
          1971.9,
          1972,
          1972.1,
          1972.2,
          1972.3,
          1972.4,
          1972.5,
          1972.6,
          1972.7,
          1972.8,
          1972.9,
          1973,
          1973.1,
          1973.2,
          1973.3,
          1973.4,
          1973.5,
          1973.6,
          1973.7,
          1973.8,
          1973.9,
          1974,
          1974.1,
          1974.2,
          1974.3,
          1974.4,
          1974.5,
          1974.6,
          1974.7,
          1974.8,
          1974.9,
          1975,
          1975.1,
          1975.2,
          1975.3,
          1975.4,
          1975.5,
          1975.6,
          1975.7,
          1975.8,
          1975.9,
          1976,
          1976.1,
          1976.2,
          1976.3,
          1976.4,
          1976.5,
          1976.6,
          1976.7,
          1976.8,
          1976.9,
          1977,
          1977.1,
          1977.2,
          1977.3,
          1977.4,
          1977.5,
          1977.6,
          1977.7,
          1977.8,
          1977.9,
          1978,
          1978.1,
          1978.2,
          1978.3,
          1978.4,
          1978.5,
          1978.6,
          1978.7,
          1978.8,
          1978.9,
          1979,
          1979.1,
          1979.2,
          1979.3,
          1979.4,
          1979.5,
          1979.6,
          1979.7,
          1979.8,
          1979.9,
          1980,
          1980.1,
          1980.2,
          1980.3,
          1980.4,
          1980.5,
          1980.6,
          1980.7,
          1980.8,
          1980.9,
          1981,
          1981.1,
          1981.2,
          1981.3,
          1981.4,
          1981.5,
          1981.6,
          1981.7,
          1981.8,
          1981.9,
          1982,
          1982.1,
          1982.2,
          1982.3,
          1982.4,
          1982.5,
          1982.6,
          1982.7,
          1982.8,
          1982.9,
          1983,
          1983.1,
          1983.2,
          1983.3,
          1983.4,
          1983.5,
          1983.6,
          1983.7,
          1983.8,
          1983.9,
          1984,
          1984.1,
          1984.2,
          1984.3,
          1984.4,
          1984.5,
          1984.6,
          1984.7,
          1984.8,
          1984.9,
          1985,
          1985.1,
          1985.2,
          1985.3,
          1985.4,
          1985.5,
          1985.6,
          1985.7,
          1985.8,
          1985.9,
          1986,
          1986.1,
          1986.2,
          1986.3,
          1986.4,
          1986.5,
          1986.6,
          1986.7,
          1986.8,
          1986.9,
          1987,
          1987.1,
          1987.2,
          1987.3,
          1987.4,
          1987.5,
          1987.6,
          1987.7,
          1987.8,
          1987.9,
          1988,
          1988.1,
          1988.2,
          1988.3,
          1988.4,
          1988.5,
          1988.6,
          1988.7,
          1988.8,
          1988.9,
          1989,
          1989.1,
          1989.2,
          1989.3,
          1989.4,
          1989.5,
          1989.6,
          1989.7,
          1989.8,
          1989.9,
          1990,
          1990.1,
          1990.2,
          1990.3,
          1990.4,
          1990.5,
          1990.6,
          1990.7,
          1990.8,
          1990.9,
          1991,
          1991.1,
          1991.2,
          1991.3,
          1991.4,
          1991.5,
          1991.6,
          1991.7,
          1991.8,
          1991.9,
          1992,
          1992.1,
          1992.2,
          1992.3,
          1992.4,
          1992.5,
          1992.6,
          1992.7,
          1992.8,
          1992.9,
          1993,
          1993.1,
          1993.2,
          1993.3,
          1993.4,
          1993.5,
          1993.6,
          1993.7,
          1993.8,
          1993.9,
          1994,
          1994.1,
          1994.2,
          1994.3,
          1994.4,
          1994.5,
          1994.6,
          1994.7,
          1994.8,
          1994.9,
          1995,
          1995.1,
          1995.2,
          1995.3,
          1995.4,
          1995.5,
          1995.6,
          1995.7,
          1995.8,
          1995.9,
          1996,
          1996.1,
          1996.2,
          1996.3,
          1996.4,
          1996.5,
          1996.6,
          1996.7,
          1996.8,
          1996.9,
          1997,
          1997.1,
          1997.2,
          1997.3,
          1997.4,
          1997.5,
          1997.6,
          1997.7,
          1997.8,
          1997.9,
          1998,
          1998.1,
          1998.2,
          1998.3,
          1998.4,
          1998.5,
          1998.6,
          1998.7,
          1998.8,
          1998.9,
          1999,
          1999.1,
          1999.2,
          1999.3,
          1999.4,
          1999.5,
          1999.6,
          1999.7,
          1999.8,
          1999.9,
          2000,
          2000.1,
          2000.2,
          2000.3,
          2000.4,
          2000.5,
          2000.6,
          2000.7,
          2000.8,
          2000.9,
          2001,
          2001.1,
          2001.2,
          2001.3,
          2001.4,
          2001.5,
          2001.6,
          2001.7,
          2001.8,
          2001.9,
          2002,
          2002.1,
          2002.2,
          2002.3,
          2002.4,
          2002.5,
          2002.6,
          2002.7,
          2002.8,
          2002.9,
          2003,
          2003.1,
          2003.2,
          2003.3,
          2003.4,
          2003.5,
          2003.6,
          2003.7,
          2003.8,
          2003.9,
          2004,
          2004.1,
          2004.2,
          2004.3,
          2004.4,
          2004.5,
          2004.6,
          2004.7,
          2004.8,
          2004.9,
          2005,
          2005.1,
          2005.2,
          2005.3,
          2005.4,
          2005.5,
          2005.6,
          2005.7,
          2005.8,
          2005.9,
          2006,
          2006.1,
          2006.2,
          2006.3,
          2006.4,
          2006.5,
          2006.6,
          2006.7,
          2006.8,
          2006.9,
          2007,
          2007.1,
          2007.2,
          2007.3,
          2007.4,
          2007.5,
          2007.6,
          2007.7,
          2007.8,
          2007.9,
          2008,
          2008.1,
          2008.2,
          2008.3,
          2008.4,
          2008.5,
          2008.6,
          2008.7,
          2008.8,
          2008.9,
          2009,
          2009.1,
          2009.2,
          2009.3,
          2009.4,
          2009.5,
          2009.6,
          2009.7,
          2009.8,
          2009.9,
          2010,
          2010.1,
          2010.2,
          2010.3,
          2010.4,
          2010.5,
          2010.6,
          2010.7,
          2010.8,
          2010.9,
          2011,
          2011.1,
          2011.2,
          2011.3,
          2011.4,
          2011.5,
          2011.6,
          2011.7,
          2011.8,
          2011.9,
          2012,
          2012.1,
          2012.2,
          2012.3,
          2012.4,
          2012.5,
          2012.6,
          2012.7,
          2012.8,
          2012.9,
          2013,
          2013.1,
          2013.2,
          2013.3,
          2013.4,
          2013.5,
          2013.6,
          2013.7,
          2013.8,
          2013.9,
          2014,
          2014.1,
          2014.2,
          2014.3,
          2014.4,
          2014.5,
          2014.6,
          2014.7,
          2014.8,
          2014.9,
          2015,
          2015.1,
          2015.2,
          2015.3,
          2015.4,
          2015.5,
          2015.6,
          2015.7,
          2015.8,
          2015.9,
          2016,
          2016.1,
          2016.2,
          2016.3,
          2016.4,
          2016.5,
          2016.6,
          2016.7,
          2016.8,
          2016.9,
          2017,
          2017.1,
          2017.2,
          2017.3,
          2017.4,
          2017.5,
          2017.6,
          2017.7,
          2017.8,
          2017.9,
          2018,
          2018.1,
          2018.2,
          2018.3,
          2018.4,
          2018.5,
          2018.6,
          2018.7,
          2018.8,
          2018.9,
          2019,
          2019.1,
          2019.2,
          2019.3,
          2019.4,
          2019.5,
          2019.6,
          2019.7,
          2019.8,
          2019.9,
          2020
         ],
         "xaxis": "x",
         "y": [
          0,
          98.14033150516019,
          254.7919938720564,
          348.16604642007496,
          403.8204888254547,
          436.9453920988521,
          456.65959807243837,
          468.3653726191961,
          475.29346301894,
          479.4154312140369,
          481.83229268858946,
          483.2956648014207,
          484.2220587897977,
          484.7965799276975,
          485.2354732387077,
          485.64269891164133,
          486.0131472736063,
          486.3800948252416,
          486.80747602231565,
          487.30974568064465,
          487.85952514385593,
          488.4493120833977,
          489.087710647224,
          489.7959537532205,
          490.5794517249878,
          491.4211381403022,
          492.3071685959766,
          493.23195502717806,
          494.19653387190857,
          495.20855429486363,
          496.28336036526264,
          497.4338098650032,
          498.6409774645248,
          499.8674024366838,
          501.09164511459676,
          502.3115620401582,
          503.54426045530374,
          504.8260479948804,
          506.2059156551651,
          507.67795660731804,
          509.17331214703205,
          510.6433448688179,
          512.0872653837264,
          513.5495124340578,
          515.0984825853812,
          516.7286016324297,
          518.3681466918677,
          519.9762743037829,
          521.5543687190301,
          523.1447580283091,
          524.8203991549958,
          526.5920284695804,
          528.3827540410949,
          530.1273974359401,
          531.8136384492187,
          533.4808535416485,
          535.2192137261529,
          537.093782062643,
          539.0375332511742,
          540.9334101367094,
          542.7332507482276,
          544.4626802092728,
          546.2207908513503,
          548.1291900584831,
          550.1473261734372,
          552.1393643302368,
          554.0598046673522,
          555.9347145626373,
          557.8546645737244,
          559.867397559235,
          561.9116701120992,
          563.9250659998975,
          565.8998543005284,
          567.8688828261791,
          569.8947340356078,
          571.9872479030423,
          574.0883163824487,
          576.1538825290668,
          578.1778598565942,
          580.1903926189019,
          582.2566512496649,
          584.4204230497421,
          586.6292757168482,
          588.7948731834798,
          590.8787102660712,
          592.8978858431109,
          594.9247901074617,
          597.0693450651951,
          599.3286943484804,
          601.5854284989432,
          603.771131844812,
          605.8910005710011,
          608.0154170274405,
          610.2321162611597,
          612.515856381779,
          614.7775952301957,
          616.985920218974,
          619.1559202306784,
          621.3481266027369,
          623.6223609151842,
          625.9481176901256,
          628.2485414954651,
          630.4896933083443,
          632.6821858790518,
          634.8809005079872,
          637.1711033854945,
          639.5596526379552,
          641.9495206939503,
          644.2592449664272,
          646.4724135022994,
          648.6369316127447,
          650.8645813446204,
          653.23806929519,
          655.6781465286025,
          658.060630740914,
          660.3533332125486,
          662.5957344980332,
          664.8936278332075,
          667.2940651444761,
          669.7187998544802,
          672.0916000699499,
          674.4000919962821,
          676.6833818903931,
          679.025002710332,
          681.4536960701827,
          683.8978857045292,
          686.2873478355701,
          688.6050693580617,
          690.883970986896,
          693.2064178291499,
          695.6459860696021,
          698.1524608637089,
          700.6091525611839,
          702.9585897428301,
          705.2137096163874,
          707.4573464141336,
          709.8252676677745,
          712.3282048027697,
          714.8297837641669,
          717.239638176135,
          719.5564407460497,
          721.8564027212576,
          724.2558672852629,
          726.7442980769641,
          729.2101902554085,
          731.6015712594193,
          733.9275010413403,
          736.2542976435093,
          738.6711644453708,
          741.1625612026086,
          743.6295487797022,
          746.017742340854,
          748.3297576236391,
          750.6240626260868,
          753.0064857319632,
          755.509962843506,
          758.0307952814604,
          760.4600047026444,
          762.7661236656523,
          764.9944615019582,
          767.266507511924,
          769.7009616032618,
          772.2288058476674,
          774.6948034623096,
          777.0472492413671,
          779.3193173966124,
          781.6270155924502,
          784.0556700164295,
          786.5332113509138,
          788.9505651148135,
          791.2791549885159,
          793.5536504343469,
          795.8699896623957,
          798.2921569127249,
          800.7540497013952,
          803.1555155177208,
          805.4616673729143,
          807.699316855373,
          809.9564800128181,
          812.340284589206,
          814.8223349172838,
          817.2636937628586,
          819.5808846045662,
          821.7737846893418,
          823.9246611075812,
          826.1897780530334,
          828.617049364927,
          831.0661406062724,
          833.4121662218612,
          835.6377318864934,
          837.8150871216019,
          840.0854534427218,
          842.4718813946813,
          844.851980235548,
          847.1439121129218,
          849.3438381501911,
          851.5162776582225,
          853.7750186347979,
          856.1347353629213,
          858.4862248955166,
          860.7475982071883,
          862.9074147111071,
          865.0208866507095,
          867.2067320290132,
          869.534489686149,
          871.9089401105327,
          874.1916652489044,
          876.3305198986174,
          878.361452534542,
          880.4077757270046,
          882.6235533023006,
          884.965856919751,
          887.2561357650085,
          889.4160719111198,
          891.4666853216219,
          893.5234823004092,
          895.7131813844693,
          897.9845599105206,
          900.1979997040382,
          902.304767603351,
          904.3301492222831,
          906.3724199402503,
          908.5323755223894,
          910.762917515301,
          912.9378225771544,
          915.0016989791247,
          916.9708760730849,
          918.9327918462425,
          921.0196510351028,
          923.2341420790822,
          925.428542934793,
          927.4917760240535,
          929.4075252355965,
          931.2519364826875,
          933.1907878189647,
          935.313362422237,
          937.4890257581436,
          939.5596033001043,
          941.4891711681719,
          943.3413353586192,
          945.270245337987,
          947.3382137783473,
          949.4261321292706,
          951.4208091271998,
          953.3027464340163,
          955.1302539644431,
          957.0309539367585,
          959.0549760930242,
          961.0964552806868,
          963.0455126243799,
          964.8742999354582,
          966.6307196334678,
          968.4375585340631,
          970.3999973171473,
          972.4422002879097,
          974.4020513080271,
          976.2060153325001,
          977.8776224565199,
          979.5366457810229,
          981.3721027872099,
          983.4049247776535,
          985.4283422866696,
          987.268537096011,
          988.891634990678,
          990.4002115815866,
          992.0308514259386,
          993.9179982913483,
          995.8821486736192,
          997.7160206827049,
          999.3913200571369,
          1001.0014154799077,
          1002.7170814819644,
          1004.5426032468835,
          1006.3363050675456,
          1008.0363277751587,
          1009.6573908097264,
          1011.2815503409755,
          1012.9958976912442,
          1014.7645530337908,
          1016.4845296548925,
          1018.1094374620044,
          1019.6512928187478,
          1021.1800220013142,
          1022.81292220228,
          1024.580695400337,
          1026.3546850314426,
          1027.9978913547905,
          1029.466952347807,
          1030.8135019764015,
          1032.1833611602322,
          1033.7633892792192,
          1035.5056020345814,
          1037.1905213014957,
          1038.723021504226,
          1040.132227564454,
          1041.5604758948534,
          1043.1249858157173,
          1044.746402392324,
          1046.2939503172106,
          1047.7367827708392,
          1049.1160935816756,
          1050.5412624563592,
          1052.0764296658124,
          1053.6423489955603,
          1055.131122920462,
          1056.5062876462866,
          1057.799582236274,
          1059.1103675911575,
          1060.5689699786724,
          1062.155908714402,
          1063.7000689996555,
          1065.0794422931292,
          1066.2790246259372,
          1067.3897697105022,
          1068.6075152175563,
          1070.0597248267509,
          1071.5971043718896,
          1073.0159591633005,
          1074.273940527685,
          1075.4474636435102,
          1076.7113851664133,
          1078.1097858203268,
          1079.5052962275213,
          1080.8027109715601,
          1081.9984627825759,
          1083.164428300796,
          1084.4217417497248,
          1085.77872393554,
          1087.1169170876863,
          1088.3533883303649,
          1089.4784399254336,
          1090.552631332523,
          1091.7045439096908,
          1093.0228709181733,
          1094.4077178339364,
          1095.6857937747277,
          1096.7798692471886,
          1097.7200062324355,
          1098.6426455934431,
          1099.7611966324257,
          1101.0797979417332,
          1102.378007265439,
          1103.523342267115,
          1104.523118020703,
          1105.5045514444046,
          1106.628928404,
          1107.853123452937,
          1109.018565593942,
          1110.0711834696779,
          1111.0377644622247,
          1112.0235431127398,
          1113.1301610103837,
          1114.3044097815985,
          1115.4168354982007,
          1116.4111304675546,
          1117.305236595477,
          1118.1907146700548,
          1119.2122767027874,
          1120.3884760810413,
          1121.5572122752953,
          1122.5737718207756,
          1123.4039657633907,
          1124.1231633470281,
          1124.9153605142444,
          1125.9471364014341,
          1127.1031322685346,
          1128.1571111163837,
          1129.0443053825957,
          1129.8230414824645,
          1130.66728038436,
          1131.6668220309782,
          1132.700788550094,
          1133.6413614957237,
          1134.4667348135226,
          1135.236979542111,
          1136.0835849162186,
          1137.0551110128958,
          1138.0419902108968,
          1138.9337688397188,
          1139.7023852772895,
          1140.3967292862912,
          1141.1419579434707,
          1142.0610643850218,
          1143.0866631490633,
          1144.0318869237642,
          1144.7967004199104,
          1145.3930239374931,
          1145.9437851673104,
          1146.6679626805683,
          1147.6139587485777,
          1148.5755422982643,
          1149.3908498866308,
          1150.047710457727,
          1150.6571057764202,
          1151.4029005163354,
          1152.2810698730082,
          1153.1248072268195,
          1153.8535355348147,
          1154.4788582370563,
          1155.0966286459402,
          1155.8371150307964,
          1156.6794614809787,
          1157.4817815814315,
          1158.165847547701,
          1158.7346046831365,
          1159.2704166827034,
          1159.9252033552336,
          1160.755391692276,
          1161.6155823164802,
          1162.3397915904407,
          1162.874657576549,
          1163.2800047200458,
          1163.7278859660307,
          1164.4124873253575,
          1165.2540539947772,
          1166.015593792241,
          1166.6093487504957,
          1167.0763553532154,
          1167.5809088565359,
          1168.2531910062744,
          1168.997067930411,
          1169.6573402889746,
          1170.1944336622153,
          1170.6558212278767,
          1171.1728821217912,
          1171.8306916467102,
          1172.5384898809846,
          1173.162882842764,
          1173.6581029065296,
          1174.0606557537185,
          1174.48862531769,
          1175.0888656891275,
          1175.827435866358,
          1176.513764724978,
          1177.027550562881,
          1177.363937741355,
          1177.6321696044245,
          1178.0488987613385,
          1178.7012799272209,
          1179.4033010966587,
          1179.9690713837142,
          1180.3687878376977,
          1180.6977555752203,
          1181.1487802673967,
          1181.7560295861047,
          1182.357185362888,
          1182.8456287350389,
          1183.217956854147,
          1183.5596083835774,
          1184.016438347495,
          1184.601225778992,
          1185.1724221033483,
          1185.6295215018597,
          1185.960592645454,
          1186.2378895523475,
          1186.613764324833,
          1187.1777058831433,
          1187.8061032488495,
          1188.3167418339547,
          1188.6389335020153,
          1188.8177170428223,
          1189.0128829013536,
          1189.43530449417,
          1190.039723665111,
          1190.5882327316804,
          1190.9715137972316,
          1191.2146580279268,
          1191.4679357260256,
          1191.8937486627183,
          1192.424406610557,
          1192.8847531398162,
          1193.2180043895535,
          1193.4589498515156,
          1193.732682780367,
          1194.1552433613451,
          1194.6598564777075,
          1195.0957637671972,
          1195.4004083142252,
          1195.5978150609517,
          1195.7978622588196,
          1196.1617309908925,
          1196.687746806378,
          1197.1900993565864,
          1197.5301714654815,
          1197.6877792492032,
          1197.7588917121914,
          1197.95307225548,
          1198.390360866418,
          1198.90786631022,
          1199.3009206405702,
          1199.5239938324357,
          1199.6576653997536,
          1199.8947840788626,
          1200.3046108005885,
          1200.7372433195408,
          1201.062483774956,
          1201.262539119953,
          1201.4120891523705,
          1201.6633504678462,
          1202.06131206633,
          1202.4733321155613,
          1202.7783363620476,
          1202.950069999451,
          1203.0503237076873,
          1203.2274758687827,
          1203.5986717845904,
          1204.064506779684,
          1204.4315244800002,
          1204.613601090738,
          1204.6419815827724,
          1204.6642937779939,
          1204.9001664213351,
          1205.336473508513,
          1205.741040672137,
          1205.9851769104866,
          1206.0794494597142,
          1206.1602358333482,
          1206.4105520271967,
          1206.7921184911404,
          1207.1206119851527,
          1207.321028929088,
          1207.4157561442046,
          1207.5207803742323,
          1207.77590103394,
          1208.1405853729354,
          1208.4535708509816,
          1208.6359938093,
          1208.6996523431126,
          1208.7457000206527,
          1208.9428971207183,
          1209.3198109480807,
          1209.7008740004712,
          1209.9311516127116,
          1209.9765241979442,
          1209.920720263764,
          1209.9642341245922,
          1210.2551502961985,
          1210.6545421983149,
          1210.9433639302868,
          1211.0630949122685,
          1211.0831046920887,
          1211.194055148535,
          1211.4985893588982,
          1211.8624783713037,
          1212.132477606867,
          1212.2800064022904,
          1212.3810096013756,
          1212.608153925167,
          1213.0521986969757,
          1213.584752890899,
          1214.0467748126725,
          1214.398699165786,
          1214.7176161471516,
          1215.1948767120132,
          1215.958792673378,
          1216.8750040795287,
          1217.7403155481968,
          1218.4823907094847,
          1219.1398367194556,
          1219.860981283561,
          1220.8031847062216,
          1221.8870367382851,
          1222.9082295981386,
          1223.7802227767495,
          1224.5192290212242,
          1225.2423519886984,
          1226.1295305290537,
          1227.180914387844,
          1228.2029177116108,
          1229.0623369906873,
          1229.7446709183967,
          1230.3486181124167,
          1231.0788067436933,
          1232.0375418138515,
          1233.0554268474716,
          1233.918888293056,
          1234.5598225365861,
          1235.0491119043884,
          1235.5950670271066,
          1236.4208445677489,
          1237.431166426631,
          1238.3299804604928,
          1238.9712856515678,
          1239.3803370499381,
          1239.7513166192766,
          1240.386466177851,
          1241.273352079814,
          1242.1147646608945,
          1242.7633935780366,
          1243.2426034845096,
          1243.7230038469609,
          1244.3820103741955,
          1245.1411842379953,
          1245.8230816428238,
          1246.383921872779,
          1246.8662456523261,
          1247.3949540793312,
          1248.0453116540882,
          1248.7361159548002,
          1249.3618020114639,
          1249.8883881999234,
          1250.3389127215614,
          1250.792796919293,
          1251.3714512183758,
          1252.0836391652765,
          1252.7671437477716,
          1253.2705529751063,
          1253.5535291329202,
          1253.6866551945488,
          1253.8501963919662,
          1254.27508370357,
          1254.9042850415942,
          1255.464465590317,
          1255.8372675282055,
          1256.064716333296,
          1256.3308899039414,
          1256.761996039478,
          1257.2488680091303,
          1257.6495459902085,
          1257.9389652047937,
          1258.1748858568887,
          1258.4871624465168,
          1258.9262969288732,
          1259.3862489738597,
          1259.7564554870612,
          1260.0060811454155,
          1260.179605141215,
          1260.395978691654,
          1260.8009891256452,
          1261.358854777381,
          1261.8624738910505,
          1262.1683221751105,
          1262.2597161254885,
          1262.2453907439235,
          1262.3580938818484,
          1262.7768638662424,
          1263.3330390956717,
          1263.7599517358435,
          1263.9978193288266,
          1264.1317207101301,
          1264.369417807219,
          1264.7697597219105,
          1265.1776609494088,
          1265.4862123173334,
          1265.6905726245816,
          1265.8642563911615,
          1266.1271613471222,
          1266.4778921471236,
          1266.806775739034,
          1267.05157706749,
          1267.2003749087078,
          1267.2862237807726,
          1267.38662421624,
          1267.5753849017678,
          1267.800648591261,
          1267.9312352932486,
          1267.8976575103072,
          1267.7136222678682,
          1267.4751800817635,
          1267.3514887311972,
          1267.400551970625,
          1267.466269926072,
          1267.39009469946,
          1267.1435003593585,
          1266.820565810753,
          1266.6243523408027,
          1266.6308736822655,
          1266.6745959475077,
          1266.5938809941485,
          1266.3547636618343,
          1266.0367797466436,
          1265.8278537763604,
          1265.8355037334659,
          1265.91886148735,
          1265.8900806634133,
          1265.6895078935713,
          1265.375139509663,
          1265.1214280779234,
          1265.1047940355816,
          1265.2374802404915,
          1265.286687262688,
          1265.148690622924,
          1264.851379502213,
          1264.5527542195493,
          1264.4859534616653,
          1264.6410712010747,
          1264.7664002626855,
          1264.7004898129583,
          1264.4335330472209,
          1264.1003856762397,
          1263.9622252695854,
          1264.1048917010326,
          1264.296798279227,
          1264.3115224137948,
          1264.094374346449,
          1263.7473624223558,
          1263.5265084052864,
          1263.615620730053,
          1263.8417253441344,
          1263.9221534606716,
          1263.7540583511447,
          1263.3947128100351,
          1263.0600147857797,
          1263.0160770074185,
          1263.1902731047358,
          1263.2582348159397,
          1263.0488836721606,
          1262.5794102353887,
          1262.0514204430501,
          1261.7900409882395,
          1261.7939859775029,
          1261.7562534300002,
          1261.5250996741745,
          1261.129584893484,
          1260.753187550799,
          1260.563279410091,
          1260.4666715290812,
          1260.2929508576515,
          1260.0063381149675,
          1259.6596270600594,
          1259.3856096140337,
          1259.2439144233824,
          1259.1337663251416,
          1258.9461323552828,
          1258.651656110019,
          1258.2936306135425,
          1257.987372896378,
          1257.8578798692436,
          1257.8532032398757,
          1257.7889982946133,
          1257.554023364833,
          1257.14633938433,
          1256.6723721424742,
          1256.344820909358,
          1256.2801675299308,
          1256.3040183552816,
          1256.203036044302,
          1255.9324859246126,
          1255.577598609187,
          1255.3344823322839,
          1255.2589495913155,
          1255.197232391717,
          1255.0338003304757,
          1254.756569200536,
          1254.4366876525737,
          1254.208501863184,
          1254.0927205664425,
          1253.968124702688,
          1253.7453535067718,
          1253.4033986356997,
          1252.9813097944607,
          1252.5776544870484,
          1252.2997650800392,
          1252.0990415384565,
          1251.8045820698653,
          1251.3100653091071,
          1250.6116066614736,
          1249.806824411483,
          1249.0939044884517,
          1248.6267871652678,
          1248.2666955315558,
          1247.786013733692,
          1247.1342845768563,
          1246.3963569470018,
          1245.7666573992392,
          1245.2920381155643,
          1244.8245165250426,
          1244.2676628898782,
          1243.6221231011946,
          1242.9688813425805,
          1242.4338581672037,
          1242.0151104233335,
          1241.585686500982,
          1241.0646155473628,
          1240.445603315192,
          1239.7946661441642,
          1239.2475895826053,
          1238.896093953716,
          1238.631771855928,
          1238.268164521526,
          1237.7201717849791,
          1237.0166154557628,
          1236.2992053143664,
          1235.8012864594677,
          1235.549664322818,
          1235.311510644085,
          1234.9284965010045,
          1234.3990400571065,
          1233.8495703893375,
          1233.4571524488802,
          1233.1898539795761,
          1232.8826888155604,
          1232.4757994427819,
          1231.990646092056,
          1231.525769885184,
          1231.1830210466483,
          1230.9170439231043,
          1230.606725029089,
          1230.1981134858042,
          1229.698645170041,
          1229.1765730276443,
          1228.7539448886403,
          1228.4780624033137,
          1228.223525802089,
          1227.8364752216046,
          1227.258849241407,
          1226.531873811913,
          1225.7951934467546,
          1225.2604530618053,
          1224.9318164974115,
          1224.5872149257184,
          1224.0922074183752,
          1223.4590561276252,
          1222.8256261835209,
          1222.3482255269369,
          1221.971492698815,
          1221.5423392548844,
          1221.0165556787397,
          1220.427643056244,
          1219.8847861977013,
          1219.4741413069708,
          1219.1300070690613,
          1218.7321816006668,
          1218.232859680677,
          1217.6546839408913,
          1217.0901392383014,
          1216.6797928488784,
          1216.4359112195532,
          1216.1941558584103,
          1215.8098262922404,
          1215.2475287437414,
          1214.5804986056946,
          1213.9896709390464,
          1213.6585524601671,
          1213.4849194881956,
          1213.2306238219421,
          1212.8204051341538,
          1212.304561046633,
          1211.8512170283782,
          1211.5583746131058,
          1211.314596411287,
          1210.9909512310471,
          1210.5628387000163,
          1210.0838531960308,
          1209.6770912777704,
          1209.3914461073923,
          1209.1242882688755,
          1208.766695296355,
          1208.2857253362924,
          1207.7188077455653,
          1207.1731541047823,
          1206.7818150327537,
          1206.5005820528386,
          1206.117573410987,
          1205.4892316288692,
          1204.607386850603,
          1203.598150461965,
          1202.7154679701682,
          1202.0265162670973,
          1201.3047644302346,
          1200.4159438421377,
          1199.404488083914,
          1198.3126687417257,
          1197.0846731595338,
          1195.5402602025179,
          1193.3365533161952,
          1189.9436583808426,
          1184.7723880433828,
          1177.7466043536608,
          1169.2928558930637,
          1159.9621448404087,
          1150.2771450636358,
          1140.3359327545013,
          1130.044975889017,
          1119.5314812914623,
          1108.7850836604125,
          1097.4345650350124,
          1085.2100146894743,
          1072.2320260882195,
          1058.7422751945207,
          1044.9519050343672,
          1031.1611246943257,
          1017.5619920684071,
          1004.193303657313,
          991.1154332963622,
          978.329789951217,
          965.7718011533319,
          953.4286427655171,
          941.2912427978082,
          929.3981182766103,
          917.9122453894036,
          906.9538874843882,
          896.5182871897093,
          886.5414599483651,
          877.0295776598556,
          867.9784071883527,
          859.1779134835795,
          850.3729236874799,
          841.6022984065692,
          833.0538399523634,
          824.7450173939266,
          816.5948212453978,
          808.6400328294943,
          800.9652120493741,
          793.5317599603875,
          786.2036837873003,
          778.842939077246,
          771.3901517012604,
          763.8270053039889,
          756.2216437541344,
          748.6582183966256,
          741.1645261335061,
          733.8152452177826,
          726.6591180998633,
          719.6590505151012,
          712.7615741973733,
          705.9071988645304,
          699.0366028429216,
          692.1436362464586,
          685.2633128737532,
          678.4314947734466,
          671.6850307771098,
          665.0508811663589,
          658.533172261746,
          652.1377204510576,
          645.8954231850066,
          639.8590157689753,
          634.0988481300166,
          628.5438141877405,
          622.6532909306201,
          615.2788420030311,
          605.3202492601836,
          593.9321265890966,
          583.6028011677314,
          575.1986681107762,
          568.3602255202052,
          562.5390416785278,
          557.365030772214,
          552.6315052166663,
          548.1293612740998,
          543.7007682228834,
          539.2590014170191,
          534.8006789326336,
          530.3835593860981,
          526.0402773622409,
          521.7434188267487,
          517.4201090791169,
          513.015873534576,
          508.46860941742466,
          503.5051076049546,
          497.4759009829174,
          489.8608212716166,
          481.33964668113805,
          473.3358291575233,
          466.44348847854354,
          460.35261209574975,
          454.5670994832934,
          448.76281463846874,
          442.81275834371826,
          436.6365520342235,
          430.0692715878405,
          422.96981028232693,
          415.70213709859655,
          408.8773614787275,
          402.7541316212332,
          397.26085937269505,
          392.2634542373923,
          387.655550149886,
          383.4048067971013,
          379.7694078626866,
          377.4708044406551,
          377.1041276373798,
          377.83574059115205,
          378.07522731167467,
          377.21857225525764,
          375.5334712028342,
          373.3593500327507,
          370.891092564464,
          368.24284164243613,
          365.2405321553907,
          361.2499242731331,
          355.6773167823158,
          349.2878055220658,
          343.5990943095915,
          339.1366231703609,
          335.655170031006,
          332.80965486015816,
          330.3688271596472,
          328.1862272162107,
          326.20787990698415,
          324.4881174749671,
          323.07455634828733,
          321.85600066994954,
          320.63078027257603,
          319.31041456167355,
          317.9066302288288,
          316.4451507870951,
          314.94668807946994,
          313.44392626452117,
          312.0617146043331,
          311.0952923295016,
          310.7810445115665,
          310.833595852931,
          310.66063392537853,
          309.91387578948974,
          308.3274298897552,
          305.69381877299867,
          302.4536947631852,
          299.4128637538246,
          296.91160462259836,
          294.8777202069885,
          293.1654943148501,
          291.67099189063214,
          290.32684406046155,
          289.0747666370579,
          287.8751020665746,
          286.704072024206,
          285.5633686550947,
          284.4650074641227,
          283.3638498698467,
          282.1110310428137,
          280.5719952005287,
          278.8811106334468,
          277.3125833331055,
          275.88530579403715,
          274.32903526715745,
          272.3496224576801,
          270.1121830667691,
          268.0727037052114,
          266.35149635727197,
          264.72087135764593,
          262.930374042697,
          261.06974876705544,
          259.4195429460402,
          258.05120485298386,
          256.78009362513893,
          255.409806468002,
          253.9971321665054,
          252.73604601649672,
          251.75534933683585,
          251.15497145279187,
          250.979914848501,
          251.08078342591833,
          251.17094975620893,
          251.21525274915462,
          251.58615319372603,
          252.63886072650806,
          254.1015510258231,
          255.3141472365897,
          255.98373982412605,
          256.14840144640345,
          255.91268739413408,
          255.4421248645196,
          254.8666973134965,
          254.13113752567736,
          252.9033675350191,
          250.9037217013982,
          248.4091106090478,
          246.1160924437113,
          244.40055913921702,
          243.188274499189,
          242.3458722795508,
          241.73548498908406,
          241.23663738775772,
          240.7876241608812,
          240.42804883652454,
          240.20501944360547,
          240.06322455582028,
          239.90669865058558,
          239.67998548059387,
          239.35643579010295,
          238.93242776143288,
          238.45145000565705,
          237.9912414131886,
          237.63008340171478,
          237.54527947709434,
          237.87496302024107,
          238.41607338756407,
          238.84670475389603,
          239.04343515838042,
          239.04957576687454,
          238.9558971668942,
          238.79947428146352,
          238.57357278221247,
          238.29183315848496,
          237.9759921578368,
          237.63566798456085,
          237.27573318306747,
          236.90768422767837,
          236.53743402447336,
          236.161913643943,
          235.77872429391053,
          235.38794049604226,
          234.9956737079072,
          234.5531050312754,
          233.94452670904582,
          233.1210630377966,
          232.18323535173104,
          231.2915676342067,
          230.51167057464096,
          229.79036465409777,
          229.04693018130217,
          228.28728148229297,
          227.5688607681561,
          226.8798365136843,
          226.07561103559885,
          225.02487247662452,
          223.8379535756021,
          222.72619790323282,
          221.7690003660176,
          220.90549127157158,
          220.04865009038613,
          219.20562103229742,
          218.44344512251638,
          217.8144690722401,
          217.4115617741561,
          217.29675827988402,
          217.34526043281957,
          217.36917774785417,
          217.27747315168276,
          217.05328514762985,
          216.72500099870692,
          216.3333279672111,
          215.91601655024533,
          215.4996931353409,
          215.0559651316691,
          214.54855860295064,
          214.01548478487402,
          213.53932067358343,
          213.23953706393976,
          213.32578426582847,
          213.99770414234962,
          215.00860352521022,
          215.84607710353245,
          216.32806321058672,
          216.54264516688124,
          216.61330644138636,
          216.58281225887504,
          216.43850558005119,
          216.119335888586,
          215.43557058613843,
          214.23609995838837,
          212.75169228314974,
          211.41086308807766,
          210.38051087334335,
          209.58321543131157,
          208.9041813297599,
          208.29243707210233,
          207.75613995175675,
          207.30458887318784,
          206.96580992372716,
          206.77399241584655,
          206.66492437008327,
          206.52747312664218,
          206.31394677612533,
          206.01953942211824,
          205.650417940644,
          205.22395883228242,
          204.77400439792143,
          204.34378849452466,
          203.99179117723511,
          203.74774879993782,
          203.57172513243705,
          203.3886491566633,
          203.14418860947362,
          202.8390915016283,
          202.49279660196987,
          202.1271740052117,
          201.75057303532523,
          201.31747721932808,
          200.72309479739448,
          199.86616235983732,
          198.85890969731912,
          197.9419155637033,
          197.18867730006477,
          196.52155960563078,
          195.8392595367305,
          195.1400321433366,
          194.50222919818108,
          193.97015022119447,
          193.58820505436069,
          193.3937415023641,
          193.30481468164885,
          193.19033797277,
          192.98510035780455,
          192.66274745385223,
          192.22021104328778,
          191.70328405687854,
          191.1848527556606,
          190.71902924134235,
          190.33179129684626,
          190.0255570308223,
          189.77354973659598,
          189.52338952704707,
          189.2561320241961,
          188.99376653379005,
          188.76308252607276,
          188.57384991531814,
          188.39762842313633,
          188.1825614741849,
          187.85993287506693
         ],
         "yaxis": "y"
        }
       ],
       "layout": {
        "legend": {
         "title": {
          "text": "variable"
         },
         "tracegroupgap": 0
        },
        "margin": {
         "t": 60
        },
        "template": {
         "data": {
          "bar": [
           {
            "error_x": {
             "color": "#2a3f5f"
            },
            "error_y": {
             "color": "#2a3f5f"
            },
            "marker": {
             "line": {
              "color": "#E5ECF6",
              "width": 0.5
             },
             "pattern": {
              "fillmode": "overlay",
              "size": 10,
              "solidity": 0.2
             }
            },
            "type": "bar"
           }
          ],
          "barpolar": [
           {
            "marker": {
             "line": {
              "color": "#E5ECF6",
              "width": 0.5
             },
             "pattern": {
              "fillmode": "overlay",
              "size": 10,
              "solidity": 0.2
             }
            },
            "type": "barpolar"
           }
          ],
          "carpet": [
           {
            "aaxis": {
             "endlinecolor": "#2a3f5f",
             "gridcolor": "white",
             "linecolor": "white",
             "minorgridcolor": "white",
             "startlinecolor": "#2a3f5f"
            },
            "baxis": {
             "endlinecolor": "#2a3f5f",
             "gridcolor": "white",
             "linecolor": "white",
             "minorgridcolor": "white",
             "startlinecolor": "#2a3f5f"
            },
            "type": "carpet"
           }
          ],
          "choropleth": [
           {
            "colorbar": {
             "outlinewidth": 0,
             "ticks": ""
            },
            "type": "choropleth"
           }
          ],
          "contour": [
           {
            "colorbar": {
             "outlinewidth": 0,
             "ticks": ""
            },
            "colorscale": [
             [
              0,
              "#0d0887"
             ],
             [
              0.1111111111111111,
              "#46039f"
             ],
             [
              0.2222222222222222,
              "#7201a8"
             ],
             [
              0.3333333333333333,
              "#9c179e"
             ],
             [
              0.4444444444444444,
              "#bd3786"
             ],
             [
              0.5555555555555556,
              "#d8576b"
             ],
             [
              0.6666666666666666,
              "#ed7953"
             ],
             [
              0.7777777777777778,
              "#fb9f3a"
             ],
             [
              0.8888888888888888,
              "#fdca26"
             ],
             [
              1,
              "#f0f921"
             ]
            ],
            "type": "contour"
           }
          ],
          "contourcarpet": [
           {
            "colorbar": {
             "outlinewidth": 0,
             "ticks": ""
            },
            "type": "contourcarpet"
           }
          ],
          "heatmap": [
           {
            "colorbar": {
             "outlinewidth": 0,
             "ticks": ""
            },
            "colorscale": [
             [
              0,
              "#0d0887"
             ],
             [
              0.1111111111111111,
              "#46039f"
             ],
             [
              0.2222222222222222,
              "#7201a8"
             ],
             [
              0.3333333333333333,
              "#9c179e"
             ],
             [
              0.4444444444444444,
              "#bd3786"
             ],
             [
              0.5555555555555556,
              "#d8576b"
             ],
             [
              0.6666666666666666,
              "#ed7953"
             ],
             [
              0.7777777777777778,
              "#fb9f3a"
             ],
             [
              0.8888888888888888,
              "#fdca26"
             ],
             [
              1,
              "#f0f921"
             ]
            ],
            "type": "heatmap"
           }
          ],
          "heatmapgl": [
           {
            "colorbar": {
             "outlinewidth": 0,
             "ticks": ""
            },
            "colorscale": [
             [
              0,
              "#0d0887"
             ],
             [
              0.1111111111111111,
              "#46039f"
             ],
             [
              0.2222222222222222,
              "#7201a8"
             ],
             [
              0.3333333333333333,
              "#9c179e"
             ],
             [
              0.4444444444444444,
              "#bd3786"
             ],
             [
              0.5555555555555556,
              "#d8576b"
             ],
             [
              0.6666666666666666,
              "#ed7953"
             ],
             [
              0.7777777777777778,
              "#fb9f3a"
             ],
             [
              0.8888888888888888,
              "#fdca26"
             ],
             [
              1,
              "#f0f921"
             ]
            ],
            "type": "heatmapgl"
           }
          ],
          "histogram": [
           {
            "marker": {
             "pattern": {
              "fillmode": "overlay",
              "size": 10,
              "solidity": 0.2
             }
            },
            "type": "histogram"
           }
          ],
          "histogram2d": [
           {
            "colorbar": {
             "outlinewidth": 0,
             "ticks": ""
            },
            "colorscale": [
             [
              0,
              "#0d0887"
             ],
             [
              0.1111111111111111,
              "#46039f"
             ],
             [
              0.2222222222222222,
              "#7201a8"
             ],
             [
              0.3333333333333333,
              "#9c179e"
             ],
             [
              0.4444444444444444,
              "#bd3786"
             ],
             [
              0.5555555555555556,
              "#d8576b"
             ],
             [
              0.6666666666666666,
              "#ed7953"
             ],
             [
              0.7777777777777778,
              "#fb9f3a"
             ],
             [
              0.8888888888888888,
              "#fdca26"
             ],
             [
              1,
              "#f0f921"
             ]
            ],
            "type": "histogram2d"
           }
          ],
          "histogram2dcontour": [
           {
            "colorbar": {
             "outlinewidth": 0,
             "ticks": ""
            },
            "colorscale": [
             [
              0,
              "#0d0887"
             ],
             [
              0.1111111111111111,
              "#46039f"
             ],
             [
              0.2222222222222222,
              "#7201a8"
             ],
             [
              0.3333333333333333,
              "#9c179e"
             ],
             [
              0.4444444444444444,
              "#bd3786"
             ],
             [
              0.5555555555555556,
              "#d8576b"
             ],
             [
              0.6666666666666666,
              "#ed7953"
             ],
             [
              0.7777777777777778,
              "#fb9f3a"
             ],
             [
              0.8888888888888888,
              "#fdca26"
             ],
             [
              1,
              "#f0f921"
             ]
            ],
            "type": "histogram2dcontour"
           }
          ],
          "mesh3d": [
           {
            "colorbar": {
             "outlinewidth": 0,
             "ticks": ""
            },
            "type": "mesh3d"
           }
          ],
          "parcoords": [
           {
            "line": {
             "colorbar": {
              "outlinewidth": 0,
              "ticks": ""
             }
            },
            "type": "parcoords"
           }
          ],
          "pie": [
           {
            "automargin": true,
            "type": "pie"
           }
          ],
          "scatter": [
           {
            "fillpattern": {
             "fillmode": "overlay",
             "size": 10,
             "solidity": 0.2
            },
            "type": "scatter"
           }
          ],
          "scatter3d": [
           {
            "line": {
             "colorbar": {
              "outlinewidth": 0,
              "ticks": ""
             }
            },
            "marker": {
             "colorbar": {
              "outlinewidth": 0,
              "ticks": ""
             }
            },
            "type": "scatter3d"
           }
          ],
          "scattercarpet": [
           {
            "marker": {
             "colorbar": {
              "outlinewidth": 0,
              "ticks": ""
             }
            },
            "type": "scattercarpet"
           }
          ],
          "scattergeo": [
           {
            "marker": {
             "colorbar": {
              "outlinewidth": 0,
              "ticks": ""
             }
            },
            "type": "scattergeo"
           }
          ],
          "scattergl": [
           {
            "marker": {
             "colorbar": {
              "outlinewidth": 0,
              "ticks": ""
             }
            },
            "type": "scattergl"
           }
          ],
          "scattermapbox": [
           {
            "marker": {
             "colorbar": {
              "outlinewidth": 0,
              "ticks": ""
             }
            },
            "type": "scattermapbox"
           }
          ],
          "scatterpolar": [
           {
            "marker": {
             "colorbar": {
              "outlinewidth": 0,
              "ticks": ""
             }
            },
            "type": "scatterpolar"
           }
          ],
          "scatterpolargl": [
           {
            "marker": {
             "colorbar": {
              "outlinewidth": 0,
              "ticks": ""
             }
            },
            "type": "scatterpolargl"
           }
          ],
          "scatterternary": [
           {
            "marker": {
             "colorbar": {
              "outlinewidth": 0,
              "ticks": ""
             }
            },
            "type": "scatterternary"
           }
          ],
          "surface": [
           {
            "colorbar": {
             "outlinewidth": 0,
             "ticks": ""
            },
            "colorscale": [
             [
              0,
              "#0d0887"
             ],
             [
              0.1111111111111111,
              "#46039f"
             ],
             [
              0.2222222222222222,
              "#7201a8"
             ],
             [
              0.3333333333333333,
              "#9c179e"
             ],
             [
              0.4444444444444444,
              "#bd3786"
             ],
             [
              0.5555555555555556,
              "#d8576b"
             ],
             [
              0.6666666666666666,
              "#ed7953"
             ],
             [
              0.7777777777777778,
              "#fb9f3a"
             ],
             [
              0.8888888888888888,
              "#fdca26"
             ],
             [
              1,
              "#f0f921"
             ]
            ],
            "type": "surface"
           }
          ],
          "table": [
           {
            "cells": {
             "fill": {
              "color": "#EBF0F8"
             },
             "line": {
              "color": "white"
             }
            },
            "header": {
             "fill": {
              "color": "#C8D4E3"
             },
             "line": {
              "color": "white"
             }
            },
            "type": "table"
           }
          ]
         },
         "layout": {
          "annotationdefaults": {
           "arrowcolor": "#2a3f5f",
           "arrowhead": 0,
           "arrowwidth": 1
          },
          "autotypenumbers": "strict",
          "coloraxis": {
           "colorbar": {
            "outlinewidth": 0,
            "ticks": ""
           }
          },
          "colorscale": {
           "diverging": [
            [
             0,
             "#8e0152"
            ],
            [
             0.1,
             "#c51b7d"
            ],
            [
             0.2,
             "#de77ae"
            ],
            [
             0.3,
             "#f1b6da"
            ],
            [
             0.4,
             "#fde0ef"
            ],
            [
             0.5,
             "#f7f7f7"
            ],
            [
             0.6,
             "#e6f5d0"
            ],
            [
             0.7,
             "#b8e186"
            ],
            [
             0.8,
             "#7fbc41"
            ],
            [
             0.9,
             "#4d9221"
            ],
            [
             1,
             "#276419"
            ]
           ],
           "sequential": [
            [
             0,
             "#0d0887"
            ],
            [
             0.1111111111111111,
             "#46039f"
            ],
            [
             0.2222222222222222,
             "#7201a8"
            ],
            [
             0.3333333333333333,
             "#9c179e"
            ],
            [
             0.4444444444444444,
             "#bd3786"
            ],
            [
             0.5555555555555556,
             "#d8576b"
            ],
            [
             0.6666666666666666,
             "#ed7953"
            ],
            [
             0.7777777777777778,
             "#fb9f3a"
            ],
            [
             0.8888888888888888,
             "#fdca26"
            ],
            [
             1,
             "#f0f921"
            ]
           ],
           "sequentialminus": [
            [
             0,
             "#0d0887"
            ],
            [
             0.1111111111111111,
             "#46039f"
            ],
            [
             0.2222222222222222,
             "#7201a8"
            ],
            [
             0.3333333333333333,
             "#9c179e"
            ],
            [
             0.4444444444444444,
             "#bd3786"
            ],
            [
             0.5555555555555556,
             "#d8576b"
            ],
            [
             0.6666666666666666,
             "#ed7953"
            ],
            [
             0.7777777777777778,
             "#fb9f3a"
            ],
            [
             0.8888888888888888,
             "#fdca26"
            ],
            [
             1,
             "#f0f921"
            ]
           ]
          },
          "colorway": [
           "#636efa",
           "#EF553B",
           "#00cc96",
           "#ab63fa",
           "#FFA15A",
           "#19d3f3",
           "#FF6692",
           "#B6E880",
           "#FF97FF",
           "#FECB52"
          ],
          "font": {
           "color": "#2a3f5f"
          },
          "geo": {
           "bgcolor": "white",
           "lakecolor": "white",
           "landcolor": "#E5ECF6",
           "showlakes": true,
           "showland": true,
           "subunitcolor": "white"
          },
          "hoverlabel": {
           "align": "left"
          },
          "hovermode": "closest",
          "mapbox": {
           "style": "light"
          },
          "paper_bgcolor": "white",
          "plot_bgcolor": "#E5ECF6",
          "polar": {
           "angularaxis": {
            "gridcolor": "white",
            "linecolor": "white",
            "ticks": ""
           },
           "bgcolor": "#E5ECF6",
           "radialaxis": {
            "gridcolor": "white",
            "linecolor": "white",
            "ticks": ""
           }
          },
          "scene": {
           "xaxis": {
            "backgroundcolor": "#E5ECF6",
            "gridcolor": "white",
            "gridwidth": 2,
            "linecolor": "white",
            "showbackground": true,
            "ticks": "",
            "zerolinecolor": "white"
           },
           "yaxis": {
            "backgroundcolor": "#E5ECF6",
            "gridcolor": "white",
            "gridwidth": 2,
            "linecolor": "white",
            "showbackground": true,
            "ticks": "",
            "zerolinecolor": "white"
           },
           "zaxis": {
            "backgroundcolor": "#E5ECF6",
            "gridcolor": "white",
            "gridwidth": 2,
            "linecolor": "white",
            "showbackground": true,
            "ticks": "",
            "zerolinecolor": "white"
           }
          },
          "shapedefaults": {
           "line": {
            "color": "#2a3f5f"
           }
          },
          "ternary": {
           "aaxis": {
            "gridcolor": "white",
            "linecolor": "white",
            "ticks": ""
           },
           "baxis": {
            "gridcolor": "white",
            "linecolor": "white",
            "ticks": ""
           },
           "bgcolor": "#E5ECF6",
           "caxis": {
            "gridcolor": "white",
            "linecolor": "white",
            "ticks": ""
           }
          },
          "title": {
           "x": 0.05
          },
          "xaxis": {
           "automargin": true,
           "gridcolor": "white",
           "linecolor": "white",
           "ticks": "",
           "title": {
            "standoff": 15
           },
           "zerolinecolor": "white",
           "zerolinewidth": 2
          },
          "yaxis": {
           "automargin": true,
           "gridcolor": "white",
           "linecolor": "white",
           "ticks": "",
           "title": {
            "standoff": 15
           },
           "zerolinecolor": "white",
           "zerolinewidth": 2
          }
         }
        },
        "xaxis": {
         "anchor": "y",
         "domain": [
          0,
          1
         ],
         "title": {
          "text": "index"
         }
        },
        "yaxis": {
         "anchor": "x",
         "domain": [
          0,
          1
         ],
         "title": {
          "text": "value"
         }
        }
       }
      }
     },
     "metadata": {},
     "output_type": "display_data"
    }
   ],
   "source": [
    "derived_df_0.incidence.plot()"
   ]
  },
  {
   "cell_type": "code",
   "execution_count": 16,
   "metadata": {},
   "outputs": [
    {
     "data": {
      "application/vnd.plotly.v1+json": {
       "config": {
        "plotlyServerURL": "https://plot.ly"
       },
       "data": [
        {
         "hovertemplate": "variable=percentage_latent<br>index=%{x}<br>value=%{y}<extra></extra>",
         "legendgroup": "percentage_latent",
         "line": {
          "color": "#636efa",
          "dash": "solid"
         },
         "marker": {
          "symbol": "circle"
         },
         "mode": "lines",
         "name": "percentage_latent",
         "showlegend": true,
         "type": "scattergl",
         "x": [
          1900,
          1900.1,
          1900.2,
          1900.3,
          1900.4,
          1900.5,
          1900.6,
          1900.7,
          1900.8,
          1900.9,
          1901,
          1901.1,
          1901.2,
          1901.3,
          1901.4,
          1901.5,
          1901.6,
          1901.7,
          1901.8,
          1901.9,
          1902,
          1902.1,
          1902.2,
          1902.3,
          1902.4,
          1902.5,
          1902.6,
          1902.7,
          1902.8,
          1902.9,
          1903,
          1903.1,
          1903.2,
          1903.3,
          1903.4,
          1903.5,
          1903.6,
          1903.7,
          1903.8,
          1903.9,
          1904,
          1904.1,
          1904.2,
          1904.3,
          1904.4,
          1904.5,
          1904.6,
          1904.7,
          1904.8,
          1904.9,
          1905,
          1905.1,
          1905.2,
          1905.3,
          1905.4,
          1905.5,
          1905.6,
          1905.7,
          1905.8,
          1905.9,
          1906,
          1906.1,
          1906.2,
          1906.3,
          1906.4,
          1906.5,
          1906.6,
          1906.7,
          1906.8,
          1906.9,
          1907,
          1907.1,
          1907.2,
          1907.3,
          1907.4,
          1907.5,
          1907.6,
          1907.7,
          1907.8,
          1907.9,
          1908,
          1908.1,
          1908.2,
          1908.3,
          1908.4,
          1908.5,
          1908.6,
          1908.7,
          1908.8,
          1908.9,
          1909,
          1909.1,
          1909.2,
          1909.3,
          1909.4,
          1909.5,
          1909.6,
          1909.7,
          1909.8,
          1909.9,
          1910,
          1910.1,
          1910.2,
          1910.3,
          1910.4,
          1910.5,
          1910.6,
          1910.7,
          1910.8,
          1910.9,
          1911,
          1911.1,
          1911.2,
          1911.3,
          1911.4,
          1911.5,
          1911.6,
          1911.7,
          1911.8,
          1911.9,
          1912,
          1912.1,
          1912.2,
          1912.3,
          1912.4,
          1912.5,
          1912.6,
          1912.7,
          1912.8,
          1912.9,
          1913,
          1913.1,
          1913.2,
          1913.3,
          1913.4,
          1913.5,
          1913.6,
          1913.7,
          1913.8,
          1913.9,
          1914,
          1914.1,
          1914.2,
          1914.3,
          1914.4,
          1914.5,
          1914.6,
          1914.7,
          1914.8,
          1914.9,
          1915,
          1915.1,
          1915.2,
          1915.3,
          1915.4,
          1915.5,
          1915.6,
          1915.7,
          1915.8,
          1915.9,
          1916,
          1916.1,
          1916.2,
          1916.3,
          1916.4,
          1916.5,
          1916.6,
          1916.7,
          1916.8,
          1916.9,
          1917,
          1917.1,
          1917.2,
          1917.3,
          1917.4,
          1917.5,
          1917.6,
          1917.7,
          1917.8,
          1917.9,
          1918,
          1918.1,
          1918.2,
          1918.3,
          1918.4,
          1918.5,
          1918.6,
          1918.7,
          1918.8,
          1918.9,
          1919,
          1919.1,
          1919.2,
          1919.3,
          1919.4,
          1919.5,
          1919.6,
          1919.7,
          1919.8,
          1919.9,
          1920,
          1920.1,
          1920.2,
          1920.3,
          1920.4,
          1920.5,
          1920.6,
          1920.7,
          1920.8,
          1920.9,
          1921,
          1921.1,
          1921.2,
          1921.3,
          1921.4,
          1921.5,
          1921.6,
          1921.7,
          1921.8,
          1921.9,
          1922,
          1922.1,
          1922.2,
          1922.3,
          1922.4,
          1922.5,
          1922.6,
          1922.7,
          1922.8,
          1922.9,
          1923,
          1923.1,
          1923.2,
          1923.3,
          1923.4,
          1923.5,
          1923.6,
          1923.7,
          1923.8,
          1923.9,
          1924,
          1924.1,
          1924.2,
          1924.3,
          1924.4,
          1924.5,
          1924.6,
          1924.7,
          1924.8,
          1924.9,
          1925,
          1925.1,
          1925.2,
          1925.3,
          1925.4,
          1925.5,
          1925.6,
          1925.7,
          1925.8,
          1925.9,
          1926,
          1926.1,
          1926.2,
          1926.3,
          1926.4,
          1926.5,
          1926.6,
          1926.7,
          1926.8,
          1926.9,
          1927,
          1927.1,
          1927.2,
          1927.3,
          1927.4,
          1927.5,
          1927.6,
          1927.7,
          1927.8,
          1927.9,
          1928,
          1928.1,
          1928.2,
          1928.3,
          1928.4,
          1928.5,
          1928.6,
          1928.7,
          1928.8,
          1928.9,
          1929,
          1929.1,
          1929.2,
          1929.3,
          1929.4,
          1929.5,
          1929.6,
          1929.7,
          1929.8,
          1929.9,
          1930,
          1930.1,
          1930.2,
          1930.3,
          1930.4,
          1930.5,
          1930.6,
          1930.7,
          1930.8,
          1930.9,
          1931,
          1931.1,
          1931.2,
          1931.3,
          1931.4,
          1931.5,
          1931.6,
          1931.7,
          1931.8,
          1931.9,
          1932,
          1932.1,
          1932.2,
          1932.3,
          1932.4,
          1932.5,
          1932.6,
          1932.7,
          1932.8,
          1932.9,
          1933,
          1933.1,
          1933.2,
          1933.3,
          1933.4,
          1933.5,
          1933.6,
          1933.7,
          1933.8,
          1933.9,
          1934,
          1934.1,
          1934.2,
          1934.3,
          1934.4,
          1934.5,
          1934.6,
          1934.7,
          1934.8,
          1934.9,
          1935,
          1935.1,
          1935.2,
          1935.3,
          1935.4,
          1935.5,
          1935.6,
          1935.7,
          1935.8,
          1935.9,
          1936,
          1936.1,
          1936.2,
          1936.3,
          1936.4,
          1936.5,
          1936.6,
          1936.7,
          1936.8,
          1936.9,
          1937,
          1937.1,
          1937.2,
          1937.3,
          1937.4,
          1937.5,
          1937.6,
          1937.7,
          1937.8,
          1937.9,
          1938,
          1938.1,
          1938.2,
          1938.3,
          1938.4,
          1938.5,
          1938.6,
          1938.7,
          1938.8,
          1938.9,
          1939,
          1939.1,
          1939.2,
          1939.3,
          1939.4,
          1939.5,
          1939.6,
          1939.7,
          1939.8,
          1939.9,
          1940,
          1940.1,
          1940.2,
          1940.3,
          1940.4,
          1940.5,
          1940.6,
          1940.7,
          1940.8,
          1940.9,
          1941,
          1941.1,
          1941.2,
          1941.3,
          1941.4,
          1941.5,
          1941.6,
          1941.7,
          1941.8,
          1941.9,
          1942,
          1942.1,
          1942.2,
          1942.3,
          1942.4,
          1942.5,
          1942.6,
          1942.7,
          1942.8,
          1942.9,
          1943,
          1943.1,
          1943.2,
          1943.3,
          1943.4,
          1943.5,
          1943.6,
          1943.7,
          1943.8,
          1943.9,
          1944,
          1944.1,
          1944.2,
          1944.3,
          1944.4,
          1944.5,
          1944.6,
          1944.7,
          1944.8,
          1944.9,
          1945,
          1945.1,
          1945.2,
          1945.3,
          1945.4,
          1945.5,
          1945.6,
          1945.7,
          1945.8,
          1945.9,
          1946,
          1946.1,
          1946.2,
          1946.3,
          1946.4,
          1946.5,
          1946.6,
          1946.7,
          1946.8,
          1946.9,
          1947,
          1947.1,
          1947.2,
          1947.3,
          1947.4,
          1947.5,
          1947.6,
          1947.7,
          1947.8,
          1947.9,
          1948,
          1948.1,
          1948.2,
          1948.3,
          1948.4,
          1948.5,
          1948.6,
          1948.7,
          1948.8,
          1948.9,
          1949,
          1949.1,
          1949.2,
          1949.3,
          1949.4,
          1949.5,
          1949.6,
          1949.7,
          1949.8,
          1949.9,
          1950,
          1950.1,
          1950.2,
          1950.3,
          1950.4,
          1950.5,
          1950.6,
          1950.7,
          1950.8,
          1950.9,
          1951,
          1951.1,
          1951.2,
          1951.3,
          1951.4,
          1951.5,
          1951.6,
          1951.7,
          1951.8,
          1951.9,
          1952,
          1952.1,
          1952.2,
          1952.3,
          1952.4,
          1952.5,
          1952.6,
          1952.7,
          1952.8,
          1952.9,
          1953,
          1953.1,
          1953.2,
          1953.3,
          1953.4,
          1953.5,
          1953.6,
          1953.7,
          1953.8,
          1953.9,
          1954,
          1954.1,
          1954.2,
          1954.3,
          1954.4,
          1954.5,
          1954.6,
          1954.7,
          1954.8,
          1954.9,
          1955,
          1955.1,
          1955.2,
          1955.3,
          1955.4,
          1955.5,
          1955.6,
          1955.7,
          1955.8,
          1955.9,
          1956,
          1956.1,
          1956.2,
          1956.3,
          1956.4,
          1956.5,
          1956.6,
          1956.7,
          1956.8,
          1956.9,
          1957,
          1957.1,
          1957.2,
          1957.3,
          1957.4,
          1957.5,
          1957.6,
          1957.7,
          1957.8,
          1957.9,
          1958,
          1958.1,
          1958.2,
          1958.3,
          1958.4,
          1958.5,
          1958.6,
          1958.7,
          1958.8,
          1958.9,
          1959,
          1959.1,
          1959.2,
          1959.3,
          1959.4,
          1959.5,
          1959.6,
          1959.7,
          1959.8,
          1959.9,
          1960,
          1960.1,
          1960.2,
          1960.3,
          1960.4,
          1960.5,
          1960.6,
          1960.7,
          1960.8,
          1960.9,
          1961,
          1961.1,
          1961.2,
          1961.3,
          1961.4,
          1961.5,
          1961.6,
          1961.7,
          1961.8,
          1961.9,
          1962,
          1962.1,
          1962.2,
          1962.3,
          1962.4,
          1962.5,
          1962.6,
          1962.7,
          1962.8,
          1962.9,
          1963,
          1963.1,
          1963.2,
          1963.3,
          1963.4,
          1963.5,
          1963.6,
          1963.7,
          1963.8,
          1963.9,
          1964,
          1964.1,
          1964.2,
          1964.3,
          1964.4,
          1964.5,
          1964.6,
          1964.7,
          1964.8,
          1964.9,
          1965,
          1965.1,
          1965.2,
          1965.3,
          1965.4,
          1965.5,
          1965.6,
          1965.7,
          1965.8,
          1965.9,
          1966,
          1966.1,
          1966.2,
          1966.3,
          1966.4,
          1966.5,
          1966.6,
          1966.7,
          1966.8,
          1966.9,
          1967,
          1967.1,
          1967.2,
          1967.3,
          1967.4,
          1967.5,
          1967.6,
          1967.7,
          1967.8,
          1967.9,
          1968,
          1968.1,
          1968.2,
          1968.3,
          1968.4,
          1968.5,
          1968.6,
          1968.7,
          1968.8,
          1968.9,
          1969,
          1969.1,
          1969.2,
          1969.3,
          1969.4,
          1969.5,
          1969.6,
          1969.7,
          1969.8,
          1969.9,
          1970,
          1970.1,
          1970.2,
          1970.3,
          1970.4,
          1970.5,
          1970.6,
          1970.7,
          1970.8,
          1970.9,
          1971,
          1971.1,
          1971.2,
          1971.3,
          1971.4,
          1971.5,
          1971.6,
          1971.7,
          1971.8,
          1971.9,
          1972,
          1972.1,
          1972.2,
          1972.3,
          1972.4,
          1972.5,
          1972.6,
          1972.7,
          1972.8,
          1972.9,
          1973,
          1973.1,
          1973.2,
          1973.3,
          1973.4,
          1973.5,
          1973.6,
          1973.7,
          1973.8,
          1973.9,
          1974,
          1974.1,
          1974.2,
          1974.3,
          1974.4,
          1974.5,
          1974.6,
          1974.7,
          1974.8,
          1974.9,
          1975,
          1975.1,
          1975.2,
          1975.3,
          1975.4,
          1975.5,
          1975.6,
          1975.7,
          1975.8,
          1975.9,
          1976,
          1976.1,
          1976.2,
          1976.3,
          1976.4,
          1976.5,
          1976.6,
          1976.7,
          1976.8,
          1976.9,
          1977,
          1977.1,
          1977.2,
          1977.3,
          1977.4,
          1977.5,
          1977.6,
          1977.7,
          1977.8,
          1977.9,
          1978,
          1978.1,
          1978.2,
          1978.3,
          1978.4,
          1978.5,
          1978.6,
          1978.7,
          1978.8,
          1978.9,
          1979,
          1979.1,
          1979.2,
          1979.3,
          1979.4,
          1979.5,
          1979.6,
          1979.7,
          1979.8,
          1979.9,
          1980,
          1980.1,
          1980.2,
          1980.3,
          1980.4,
          1980.5,
          1980.6,
          1980.7,
          1980.8,
          1980.9,
          1981,
          1981.1,
          1981.2,
          1981.3,
          1981.4,
          1981.5,
          1981.6,
          1981.7,
          1981.8,
          1981.9,
          1982,
          1982.1,
          1982.2,
          1982.3,
          1982.4,
          1982.5,
          1982.6,
          1982.7,
          1982.8,
          1982.9,
          1983,
          1983.1,
          1983.2,
          1983.3,
          1983.4,
          1983.5,
          1983.6,
          1983.7,
          1983.8,
          1983.9,
          1984,
          1984.1,
          1984.2,
          1984.3,
          1984.4,
          1984.5,
          1984.6,
          1984.7,
          1984.8,
          1984.9,
          1985,
          1985.1,
          1985.2,
          1985.3,
          1985.4,
          1985.5,
          1985.6,
          1985.7,
          1985.8,
          1985.9,
          1986,
          1986.1,
          1986.2,
          1986.3,
          1986.4,
          1986.5,
          1986.6,
          1986.7,
          1986.8,
          1986.9,
          1987,
          1987.1,
          1987.2,
          1987.3,
          1987.4,
          1987.5,
          1987.6,
          1987.7,
          1987.8,
          1987.9,
          1988,
          1988.1,
          1988.2,
          1988.3,
          1988.4,
          1988.5,
          1988.6,
          1988.7,
          1988.8,
          1988.9,
          1989,
          1989.1,
          1989.2,
          1989.3,
          1989.4,
          1989.5,
          1989.6,
          1989.7,
          1989.8,
          1989.9,
          1990,
          1990.1,
          1990.2,
          1990.3,
          1990.4,
          1990.5,
          1990.6,
          1990.7,
          1990.8,
          1990.9,
          1991,
          1991.1,
          1991.2,
          1991.3,
          1991.4,
          1991.5,
          1991.6,
          1991.7,
          1991.8,
          1991.9,
          1992,
          1992.1,
          1992.2,
          1992.3,
          1992.4,
          1992.5,
          1992.6,
          1992.7,
          1992.8,
          1992.9,
          1993,
          1993.1,
          1993.2,
          1993.3,
          1993.4,
          1993.5,
          1993.6,
          1993.7,
          1993.8,
          1993.9,
          1994,
          1994.1,
          1994.2,
          1994.3,
          1994.4,
          1994.5,
          1994.6,
          1994.7,
          1994.8,
          1994.9,
          1995,
          1995.1,
          1995.2,
          1995.3,
          1995.4,
          1995.5,
          1995.6,
          1995.7,
          1995.8,
          1995.9,
          1996,
          1996.1,
          1996.2,
          1996.3,
          1996.4,
          1996.5,
          1996.6,
          1996.7,
          1996.8,
          1996.9,
          1997,
          1997.1,
          1997.2,
          1997.3,
          1997.4,
          1997.5,
          1997.6,
          1997.7,
          1997.8,
          1997.9,
          1998,
          1998.1,
          1998.2,
          1998.3,
          1998.4,
          1998.5,
          1998.6,
          1998.7,
          1998.8,
          1998.9,
          1999,
          1999.1,
          1999.2,
          1999.3,
          1999.4,
          1999.5,
          1999.6,
          1999.7,
          1999.8,
          1999.9,
          2000,
          2000.1,
          2000.2,
          2000.3,
          2000.4,
          2000.5,
          2000.6,
          2000.7,
          2000.8,
          2000.9,
          2001,
          2001.1,
          2001.2,
          2001.3,
          2001.4,
          2001.5,
          2001.6,
          2001.7,
          2001.8,
          2001.9,
          2002,
          2002.1,
          2002.2,
          2002.3,
          2002.4,
          2002.5,
          2002.6,
          2002.7,
          2002.8,
          2002.9,
          2003,
          2003.1,
          2003.2,
          2003.3,
          2003.4,
          2003.5,
          2003.6,
          2003.7,
          2003.8,
          2003.9,
          2004,
          2004.1,
          2004.2,
          2004.3,
          2004.4,
          2004.5,
          2004.6,
          2004.7,
          2004.8,
          2004.9,
          2005,
          2005.1,
          2005.2,
          2005.3,
          2005.4,
          2005.5,
          2005.6,
          2005.7,
          2005.8,
          2005.9,
          2006,
          2006.1,
          2006.2,
          2006.3,
          2006.4,
          2006.5,
          2006.6,
          2006.7,
          2006.8,
          2006.9,
          2007,
          2007.1,
          2007.2,
          2007.3,
          2007.4,
          2007.5,
          2007.6,
          2007.7,
          2007.8,
          2007.9,
          2008,
          2008.1,
          2008.2,
          2008.3,
          2008.4,
          2008.5,
          2008.6,
          2008.7,
          2008.8,
          2008.9,
          2009,
          2009.1,
          2009.2,
          2009.3,
          2009.4,
          2009.5,
          2009.6,
          2009.7,
          2009.8,
          2009.9,
          2010,
          2010.1,
          2010.2,
          2010.3,
          2010.4,
          2010.5,
          2010.6,
          2010.7,
          2010.8,
          2010.9,
          2011,
          2011.1,
          2011.2,
          2011.3,
          2011.4,
          2011.5,
          2011.6,
          2011.7,
          2011.8,
          2011.9,
          2012,
          2012.1,
          2012.2,
          2012.3,
          2012.4,
          2012.5,
          2012.6,
          2012.7,
          2012.8,
          2012.9,
          2013,
          2013.1,
          2013.2,
          2013.3,
          2013.4,
          2013.5,
          2013.6,
          2013.7,
          2013.8,
          2013.9,
          2014,
          2014.1,
          2014.2,
          2014.3,
          2014.4,
          2014.5,
          2014.6,
          2014.7,
          2014.8,
          2014.9,
          2015,
          2015.1,
          2015.2,
          2015.3,
          2015.4,
          2015.5,
          2015.6,
          2015.7,
          2015.8,
          2015.9,
          2016,
          2016.1,
          2016.2,
          2016.3,
          2016.4,
          2016.5,
          2016.6,
          2016.7,
          2016.8,
          2016.9,
          2017,
          2017.1,
          2017.2,
          2017.3,
          2017.4,
          2017.5,
          2017.6,
          2017.7,
          2017.8,
          2017.9,
          2018,
          2018.1,
          2018.2,
          2018.3,
          2018.4,
          2018.5,
          2018.6,
          2018.7,
          2018.8,
          2018.9,
          2019,
          2019.1,
          2019.2,
          2019.3,
          2019.4,
          2019.5,
          2019.6,
          2019.7,
          2019.8,
          2019.9,
          2020
         ],
         "xaxis": "x",
         "y": [
          0,
          0.15620585621109928,
          0.30375470908310376,
          0.4446842675011519,
          0.5804602944227123,
          0.7121521911409285,
          0.8405579811163345,
          0.9662669486511437,
          1.089736668563842,
          1.211309666269567,
          1.3312525639209916,
          1.4497827819791451,
          1.567056485965692,
          1.6832068034121408,
          1.7983483095320099,
          1.912560347765103,
          2.025909194796498,
          2.1384580623664218,
          2.250264100396248,
          2.3613642479550085,
          2.4717891126496006,
          2.5815700491949434,
          2.690739150278256,
          2.7993283414139296,
          2.907358524173207,
          3.014845134321609,
          3.1218047105034596,
          3.228254692972076,
          3.334213416790401,
          3.4397001048785274,
          3.544733880661187,
          3.6493256045312323,
          3.7534857304557634,
          3.857225755051254,
          3.9605575589806854,
          4.0634934023841085,
          4.166045920277757,
          4.26822811791898,
          4.370052706029245,
          4.471527322659203,
          4.572660202744841,
          4.673460621934118,
          4.773938447834995,
          4.874104135461363,
          4.9739679237334125,
          5.0735369102471966,
          5.172818286065689,
          5.271819853076513,
          5.370549977399361,
          5.4690175851506515,
          5.567231781737998,
          5.6651987545599765,
          5.762923902398288,
          5.860413465008089,
          5.957674485800084,
          6.05471480690615,
          6.151543038531971,
          6.24816576782947,
          6.3445863474911475,
          6.440809168427806,
          6.5368398595374,
          6.632685281082598,
          6.728353517870104,
          6.823851999795744,
          6.919182530650137,
          7.014348723024437,
          7.1093554690547816,
          7.2042087961231775,
          7.2989157502012505,
          7.3934805566649135,
          7.487905974118192,
          7.582195923139149,
          7.676354983880969,
          7.770388391715201,
          7.864301642108348,
          7.958097798884729,
          8.051779564923669,
          8.145350298881782,
          8.238813957941264,
          8.332175093732177,
          8.425438810330597,
          8.518608670044218,
          8.611685934942951,
          8.704672605981042,
          8.797571651774836,
          8.890387002566177,
          8.983123544083082,
          9.07578645510547,
          9.168376216880354,
          9.260893531163486,
          9.353340548786477,
          9.445720559083673,
          9.5380379826331,
          9.630296612698558,
          9.722496518021272,
          9.814638929192828,
          9.906725896229487,
          9.99876025526439,
          10.090745622747448,
          10.18268468470375,
          10.274577513923402,
          10.36642486906222,
          10.458228291098544,
          10.549990098020565,
          10.641713379454337,
          10.733401478390284,
          10.825054390178561,
          10.916671379664125,
          11.008252886006225,
          11.099800503815976,
          11.191316975316868,
          11.282806181926619,
          11.374269657602873,
          11.465705071490145,
          11.557112135363159,
          11.648491846753377,
          11.739846480120228,
          11.831179398075053,
          11.92249059123893,
          12.01377861276901,
          12.105043379912624,
          12.196285731503128,
          12.287507421392132,
          12.37871086376192,
          12.469895665806943,
          12.561060331029392,
          12.652204375706315,
          12.743328221032561,
          12.834433186571474,
          12.925521478698153,
          13.016593999226696,
          13.10764816224399,
          13.198682232699396,
          13.289695767838662,
          13.380689607871359,
          13.47166586658474,
          13.562627301444225,
          13.653571230487437,
          13.744494769131887,
          13.835396874388834,
          13.92627792147233,
          14.017139693320008,
          14.107984000393756,
          14.198807809129425,
          14.289609036185892,
          14.380386779189536,
          14.471141185588968,
          14.561873444727636,
          14.652584512013956,
          14.7432715628866,
          14.833932295984145,
          14.924565478866757,
          15.015170913779146,
          15.105749429751066,
          15.196302570197082,
          15.286828347820306,
          15.377323049198187,
          15.467784405517813,
          15.558211578333886,
          15.648605148628569,
          15.738967105850062,
          15.82929787952505,
          15.919592323954062,
          16.009847548797698,
          16.100062251262976,
          16.19023667710198,
          16.280372583629454,
          16.370469040993644,
          16.46052185130568,
          16.550528612075624,
          16.640488099038794,
          16.73040025694722,
          16.820266135586788,
          16.910084458318604,
          16.999851316249977,
          17.08956406750878,
          17.179221229199015,
          17.268822468269477,
          17.358368592384053,
          17.447859969534424,
          17.53729224799666,
          17.62666155837794,
          17.71596560415991,
          17.805203638284322,
          17.89437645082857,
          17.98348606557834,
          18.072529171977006,
          18.16150066794529,
          18.250397788579093,
          18.339219446047498,
          18.42796621618251,
          18.5166395825851,
          18.605235693938504,
          18.69375053983536,
          18.7821817417051,
          18.870528207062286,
          18.958790119137685,
          19.04696823517921,
          19.135059012202646,
          19.223058503228117,
          19.31096415211322,
          19.398774664746277,
          19.486489998819703,
          19.574111255999796,
          19.661636541906635,
          19.749060725455394,
          19.836380254236108,
          19.92359324074979,
          20.010699448899462,
          20.097700280515113,
          20.18459666146629,
          20.27138259181837,
          20.358053884353165,
          20.444608296119537,
          20.531045360972797,
          20.617366375031082,
          20.703571309100916,
          20.78965481084148,
          20.875613514813164,
          20.961445462811135,
          21.047150077073248,
          21.132728148924276,
          21.218179218921932,
          21.303498535964845,
          21.388682644278017,
          21.47372945094557,
          21.558638214281164,
          21.643409532679446,
          21.728044367451208,
          21.812538466098967,
          21.896887129847403,
          21.981087481967773,
          22.065138396665635,
          22.14904048463005,
          22.232796001783104,
          22.31640271627401,
          22.39985465422086,
          22.483148554813035,
          22.566283032990224,
          22.64925856393879,
          22.732077165063327,
          22.814735921207433,
          22.89723008251272,
          22.97955694698404,
          23.061715286800734,
          23.14370533608956,
          23.225528487419627,
          23.30718211459092,
          23.388661779252946,
          23.469964700021485,
          23.551089535497898,
          23.63203637230988,
          23.712806704810802,
          23.793399994441774,
          23.873810976845895,
          23.95403588724141,
          24.034072798352444,
          24.113921605150225,
          24.193584009657656,
          24.273062526905026,
          24.352352611295114,
          24.43144829166271,
          24.510346273506325,
          24.589045829569738,
          24.667548778455412,
          24.7458594156741,
          24.82397579882405,
          24.901890564280137,
          24.979600748828883,
          25.057105673528643,
          25.134406924651227,
          25.211506734860084,
          25.288400551590755,
          25.3650851939351,
          25.441559090189674,
          25.51782194695568,
          25.593874738400668,
          25.669717405958256,
          25.74534636583977,
          25.820759054691628,
          25.895954027640062,
          25.97093094895494,
          26.045690582754553,
          26.120234407060437,
          26.1945599766845,
          26.268662821708194,
          26.342540207443946,
          26.416191200678192,
          26.489616654609147,
          26.5628191938569,
          26.635801243149803,
          26.708556693343183,
          26.781081591127236,
          26.853374501662785,
          26.925436125869567,
          26.997269269950372,
          27.06887374836769,
          27.140245095665872,
          27.211381226850737,
          27.28228142250434,
          27.35294631735086,
          27.423377769002123,
          27.49357477453993,
          27.563533873909673,
          27.63325300736177,
          27.70273141252497,
          27.771969613544627,
          27.840969410272443,
          27.90973252039023,
          27.97825518947913,
          28.046533501959157,
          28.11456556340546,
          28.182351478477493,
          28.249893334157708,
          28.317195176749106,
          28.384256588128704,
          28.451071348795345,
          28.517637040743683,
          28.58395347523679,
          28.650022674127957,
          28.715848136690422,
          28.781427078787292,
          28.846756287470992,
          28.911834561690544,
          28.976662125548152,
          29.041240616339174,
          29.105572126690692,
          29.169654141124347,
          29.233484055192235,
          29.29706069375517,
          29.360384212357395,
          29.42345608606317,
          29.486279037413293,
          29.54885309236401,
          29.611173983701054,
          29.67323902758129,
          29.735047558565505,
          29.796600912719864,
          29.85790241080279,
          29.9189562827819,
          29.979758111946293,
          30.04030380649012,
          30.100592242993027,
          30.160624544837813,
          30.22040406335363,
          30.27993322053947,
          30.33920782519438,
          30.39822603174951,
          30.456987547477322,
          30.515493557399928,
          30.573746710118506,
          30.631748093225397,
          30.68949463542096,
          30.746984605660003,
          30.804217672709072,
          30.86119489342628,
          30.917918701102707,
          30.97439215698057,
          31.030613038544388,
          31.08657771557115,
          31.14228463142533,
          31.197734284553555,
          31.25292921125913,
          31.3078739685644,
          31.362570476904303,
          31.417012860740265,
          31.471198940277432,
          31.52512885307504,
          31.578805004449322,
          31.632231841260438,
          31.685408684442336,
          31.738332193533953,
          31.79100144382731,
          31.84341704696888,
          31.89558113808207,
          31.947497001772657,
          31.999163728249545,
          32.050578752988784,
          32.101741144882546,
          32.15265141801992,
          32.203311519576495,
          32.253724816621954,
          32.30389320063702,
          32.353812997452,
          32.40348167702674,
          32.45289880404214,
          32.50206602038573,
          32.5509870277259,
          32.59966705089013,
          32.64810349447803,
          32.69629215551125,
          32.74423209660087,
          32.79192468003923,
          32.83937354852464,
          32.88658278508233,
          32.933549098880746,
          32.9802705491166,
          33.026747051904586,
          33.07298009996036,
          33.11897274937532,
          33.16472778862936,
          33.21024269367363,
          33.255515772705564,
          33.30054687317977,
          33.34533732939649,
          33.38988995003314,
          33.434208665250004,
          33.478292763085626,
          33.52213870171146,
          33.56574501402083,
          33.60911234649989,
          33.65224344154178,
          33.695143119850016,
          33.73781496147773,
          33.7802536542917,
          33.822456952917506,
          33.86442508737361,
          33.9061605953258,
          33.94766828482464,
          33.98894944908142,
          34.0300005260572,
          34.07082062265058,
          34.11141047104186,
          34.15177241509266,
          34.19191030782471,
          34.23182479417065,
          34.271513220736345,
          34.31097465476314,
          34.35020969991695,
          34.38922048343753,
          34.42801064335238,
          34.466583385435946,
          34.50493566055404,
          34.54306487081984,
          34.58097057768212,
          34.61865447003045,
          34.656120346378664,
          34.69337388516342,
          34.730414102284215,
          34.767236558951545,
          34.80384027639255,
          34.840226606366144,
          34.87639921166116,
          34.9123630642983,
          34.94811596634953,
          34.98365561076691,
          35.01898186511266,
          35.05409625303547,
          35.089001940401026,
          35.12370269727794,
          35.15819677066339,
          35.19248221145158,
          35.22655878919037,
          35.26042784278171,
          35.294092267344496,
          35.32755637611066,
          35.36082074423886,
          35.393881791822054,
          35.42673792018474,
          35.45938968596082,
          35.49183978308497,
          35.52409302487683,
          35.55615400474752,
          35.58801805669013,
          35.61968262882431,
          35.651147821976,
          35.682416067137886,
          35.71349210595166,
          35.74437882628819,
          35.77507245249814,
          35.80557188406053,
          35.83587773324976,
          35.865992295187496,
          35.89591953089821,
          35.92566140621938,
          35.95521511193367,
          35.98457949635122,
          36.01375501974845,
          36.04274374090503,
          36.07154930370956,
          36.10017567122895,
          36.12862045870599,
          36.15688080019493,
          36.184956057710984,
          36.21284775496767,
          36.2405595592963,
          36.26809720516076,
          36.29546104949388,
          36.32264634167248,
          36.34965188260074,
          36.37647881941462,
          36.4031306258736,
          36.42961260979557,
          36.455923672911645,
          36.48206099700219,
          36.50802420866006,
          36.533814654906124,
          36.55943538879975,
          36.58489063096011,
          36.61017946557155,
          36.63529952523196,
          36.66025031774802,
          36.685032988890896,
          36.7096503087012,
          36.73410663131425,
          36.75840357172244,
          36.78253745801614,
          36.806506410752306,
          36.83031073375543,
          36.85395289589663,
          36.87743751296379,
          36.900769722309605,
          36.9239455191254,
          36.946961910688,
          36.969818723392656,
          36.992518123693785,
          37.01506459852467,
          37.03746204332211,
          37.059706746770736,
          37.08179717975276,
          37.103733679658426,
          37.12551832453956,
          37.14715491853374,
          37.16864650895095,
          37.189990164652684,
          37.2111838822418,
          37.23222711316895,
          37.25312073242667,
          37.27386702582565,
          37.29446878591048,
          37.3149224855822,
          37.33522303362828,
          37.35536608251152,
          37.37534782760663,
          37.39516499732582,
          37.41481483764037,
          37.43428654410455,
          37.45356034332288,
          37.47261362156875,
          37.49141622103994,
          37.50993047497207,
          37.52811096294139,
          37.54589105465924,
          37.563177158933556,
          37.579858892046246,
          37.59580891453594,
          37.610883079803095,
          37.62492226845778,
          37.63777146262251,
          37.64928559137539,
          37.659376531053994,
          37.66802149889681,
          37.67526255436664,
          37.681205756183154,
          37.68599440761221,
          37.68979830499784,
          37.69278690392556,
          37.69511298953476,
          37.69691276949885,
          37.69830599099763,
          37.69939064917103,
          37.70023030767578,
          37.70087541999764,
          37.70136828901724,
          37.701743132508895,
          37.70202616840099,
          37.70223575560245,
          37.702381507973556,
          37.702468704518765,
          37.70250302942298,
          37.70249071969916,
          37.70243855860251,
          37.70235367171758,
          37.702237062095,
          37.702085436540486,
          37.701898006202,
          37.70167630422136,
          37.70142415969795,
          37.70114767184317,
          37.70085077193549,
          37.70052751366327,
          37.700174465087365,
          37.69979169030534,
          37.699382695541935,
          37.6989543905164,
          37.698514987729226,
          37.69806089547059,
          37.69759102996555,
          37.697109479630036,
          37.69662474864216,
          37.69614970719723,
          37.69569705822319,
          37.6952760328564,
          37.69490292703491,
          37.69459983203157,
          37.6943945584253,
          37.69432029080597,
          37.694407309707465,
          37.69468784187033,
          37.695187964573385,
          37.695923285865696,
          37.69689906054882,
          37.698110305184734,
          37.69954239910307,
          37.701163859020085,
          37.70293571779255,
          37.70482424264731,
          37.706801082977115,
          37.70884321179401,
          37.710932867636245,
          37.71305570833781,
          37.71519268189819,
          37.717330464748244,
          37.719460948666026,
          37.721580694551555,
          37.723690785006944,
          37.72578875622748,
          37.727868885018104,
          37.729928860104934,
          37.73196829047452,
          37.73398868401327,
          37.73599306611122,
          37.73798052635197,
          37.739948312653816,
          37.74189545458503,
          37.7438226515091,
          37.745732253988265,
          37.74762824530221,
          37.74951447501174,
          37.751388178029025,
          37.753246823693885,
          37.75509090639094,
          37.756923912651054,
          37.75875228772263,
          37.76058540236425,
          37.762429903410826,
          37.76428515722186,
          37.76615801043773,
          37.7680623012757,
          37.77001877404132,
          37.77205456978716,
          37.77419742814153,
          37.776483090050284,
          37.778961355166075,
          37.7816957436201,
          37.78476335119163,
          37.78824926465534,
          37.79224369086831,
          37.7968473042344,
          37.802132876451616,
          37.80814340078298,
          37.81489240754753,
          37.82236430006434,
          37.83051157561612,
          37.83923836363062,
          37.84844383821051,
          37.85803606588748,
          37.86793190588389,
          37.878056916475195,
          37.888345375798046,
          37.89874348388603,
          37.90920979025416,
          37.91971189332262,
          37.9302262376616,
          37.94073803228587,
          37.9512404705497,
          37.961722649755906,
          37.97217379723284,
          37.982587450633346,
          37.99296039402956,
          38.003292626567266,
          38.01358716798486,
          38.02384254026105,
          38.03405316853818,
          38.04421633923039,
          38.0543317098737,
          38.06440128571831,
          38.07442939644563,
          38.08441862887126,
          38.09436406391318,
          38.10426315743492,
          38.11411606911939,
          38.12392563032917,
          38.133697317945284,
          38.143437444915484,
          38.15314347990745,
          38.162813660246385,
          38.17245083691193,
          38.18206230332206,
          38.19165975662729,
          38.201258778056015,
          38.21087023117418,
          38.220505669546064,
          38.23018522960366,
          38.239937402390545,
          38.249798972995215,
          38.2598148669632,
          38.27002535847383,
          38.28046777545008,
          38.29117469675081,
          38.30216680947743,
          38.313452972670454,
          38.3250302724017,
          38.33688109332276,
          38.34896054787321,
          38.36121964419575,
          38.37361615085339,
          38.38611457271994,
          38.39868609897757,
          38.411306791364375,
          38.423947375030004,
          38.43658598676177,
          38.44920773429165,
          38.46180378613099,
          38.474371333101544,
          38.4869063183497,
          38.4993996278227,
          38.51184668870506,
          38.52424523612714,
          38.53659529651837,
          38.54889887247277,
          38.5611542003137,
          38.573357590023384,
          38.58550723599993,
          38.597602988974494,
          38.609646341867105,
          38.621640415708335,
          38.63358794009864,
          38.64548590101637,
          38.657332111486156,
          38.669127161058526,
          38.68087439163448,
          38.69257987341043,
          38.70425235268786,
          38.71589714800679,
          38.72751524784769,
          38.7391149434655,
          38.75071193643156,
          38.76232927191909,
          38.773997178430065,
          38.78574911059343,
          38.79762658672704,
          38.80969038107776,
          38.822021096392554,
          38.83471897682884,
          38.84789894504306,
          38.86168946170293,
          38.87625561745207,
          38.89173451554693,
          38.908228925782,
          38.92580758930925,
          38.94450554058224,
          38.96431091933492,
          38.98510191796334,
          39.006729223384525,
          39.029048680762706,
          39.05192126860361,
          39.07521306963306,
          39.098795237850354,
          39.12255461672133,
          39.14641097054943,
          39.170298741279986,
          39.194167745811605,
          39.217983035769315,
          39.24172321683609,
          39.26536566113305,
          39.28889345145959,
          39.31229513434333,
          39.33556346719061,
          39.35869537708292,
          39.38169015916154,
          39.4045427580888,
          39.42724949629445,
          39.44980853290242,
          39.47221974152318,
          39.49448469436415,
          39.51660657635083,
          39.53858606984757,
          39.56041973324634,
          39.58210608201208,
          39.60364605686398,
          39.62504300205201,
          39.646302643789184,
          39.667432398080976,
          39.68843163510805,
          39.70929949491975,
          39.73004038223341,
          39.750663173704574,
          39.771181178752926,
          39.79161020015281,
          39.81196281209807,
          39.83225874404693,
          39.85252738353598,
          39.87280764690341,
          39.89314789829683,
          39.91359916381245,
          39.93422868093262,
          39.955108909086974,
          39.976300684171335,
          39.99785331063149,
          40.01980465868805,
          40.04218074947856,
          40.064966856744405,
          40.088102886464775,
          40.11152612086351,
          40.1351740916587,
          40.158984574930514,
          40.18289558638819,
          40.20684607246589,
          40.23078582143516,
          40.25467580498007,
          40.27848559217483,
          40.30219362310131,
          40.325787136214245,
          40.349256730237734,
          40.37258938488849,
          40.39577742986966,
          40.418816089871186,
          40.44170343355889,
          40.46444031045768,
          40.48702603839443,
          40.509456965153085,
          40.53173123924954,
          40.5538485326947,
          40.575810028097514,
          40.59761840585991,
          40.61927712335227,
          40.64078476453688,
          40.66213866752208,
          40.68333849381325,
          40.70438623553792,
          40.725286195747834,
          40.746044968860446,
          40.76666791762133,
          40.78715235056269,
          40.80750007782303,
          40.82771737029028,
          40.84781483527578,
          40.86780731916584,
          40.887709254377185,
          40.90753522436584,
          40.927309466911495,
          40.947066413954424,
          40.96685060943704,
          40.98671528873109,
          41.00671870280546,
          41.026941798790375,
          41.047461242762225,
          41.06834448580157,
          41.08964983877463,
          41.11142654644553,
          41.133704749863824,
          41.156447678777795,
          41.17959303558476,
          41.203073910580954,
          41.22681881966392,
          41.25075173614436,
          41.27479218152417,
          41.298863823915966,
          41.32290759468617,
          41.346875084512526,
          41.370728640583216,
          41.394467320154845,
          41.41801501960178,
          41.44117104724533,
          41.46362559484206,
          41.4849606285438,
          41.50469077136235,
          41.52263775165743,
          41.538851044051654,
          41.553423910881556,
          41.56644428335146,
          41.57795702054466,
          41.58799157332041,
          41.59655780901179,
          41.60356054701677,
          41.608776742371695,
          41.61203980870497,
          41.613308834414404,
          41.6126578821482,
          41.61016471428975,
          41.6059140537875,
          41.59997595327135,
          41.592416593712834,
          41.583285013754484,
          41.57258989568868,
          41.56027500740405,
          41.546323438197156,
          41.53077661241617,
          41.51373806850851,
          41.49532268911726,
          41.47564814803106,
          41.454840823102565,
          41.43303316932533,
          41.41034671971955,
          41.386878320912814,
          41.36269889684766,
          41.33788083025475,
          41.31258896247188,
          41.28698165949402,
          41.26118374930988,
          41.235277212819945,
          41.20927911746994,
          41.183148625275166,
          41.156785760792395,
          41.13002734609403,
          41.102647689795994,
          41.07445960839104,
          41.04535056466429,
          41.01527806918768,
          40.98421673519207,
          40.952153216024705,
          40.91908892844969,
          40.8850273357327,
          40.8499571903802,
          40.81385439633234,
          40.776681920549535,
          40.738400156748554,
          40.699014918360625,
          40.658548997589975,
          40.617027321510484,
          40.57447693423928,
          40.53091554580179,
          40.48637042591844,
          40.440894715384246,
          40.394551834472296,
          40.347415393600826,
          40.29956590740311,
          40.25101782317833,
          40.201658904186885,
          40.1512077531986,
          40.09938374744172,
          40.04652813193623,
          39.99296616881748,
          39.93881095661296,
          39.884106847204364,
          39.82890012787649,
          39.773244087553394,
          39.71718397489501,
          39.66076603549673,
          39.60404021219081,
          39.5470901691112,
          39.49004351743312,
          39.433063060904644,
          39.37633632754771,
          39.32007583485244,
          39.264515208181976,
          39.20990916800316,
          39.15651559089408,
          39.10447336256676,
          39.05376741844003,
          39.004328065146744,
          38.956241372000555,
          38.90954611794678,
          38.864030607595986,
          38.819334650031124,
          38.774978772375356,
          38.73054366696235,
          38.68576189617183,
          38.64046127961887,
          38.59448074760013,
          38.547709369517534,
          38.50019431906806,
          38.45200633953461,
          38.403173306486394,
          38.35370960815908,
          38.30363537871877,
          38.25297823948172,
          38.20177478149633,
          38.15012788786255,
          38.09827323419169,
          38.046379434924596,
          37.99428200682044,
          37.941790324162206,
          37.888869900317005,
          37.835534306862435,
          37.78180004769367,
          37.727680416149745,
          37.67318311671219,
          37.61825804442543,
          37.562752411510594,
          37.506524235584756,
          37.449793679203246,
          37.39277146136988,
          37.33553344772489,
          37.278099836122,
          37.220474248802304,
          37.1626656854368,
          37.10469596646571,
          37.0466060988368,
          36.988458079793794,
          36.93031943827139,
          36.87221883605259,
          36.81419758376087,
          36.75632440661664,
          36.698676137375905,
          36.64133071003326,
          36.584375581490804,
          36.52791470223811,
          36.47207144373484,
          36.41699050018495,
          36.3627536724589,
          36.30927726714824,
          36.256411964020806,
          36.20397624633931,
          36.1516329110841,
          36.09908825647618,
          36.04647182344344,
          35.99394421209441,
          35.9415242726976,
          35.88918024572884,
          35.83687649260616,
          35.78458667062405,
          35.732290886326,
          35.67997352990432,
          35.62761818141342,
          35.57522061908882,
          35.522789578284915,
          35.47033542818733,
          35.41784777170138,
          35.36528976648438,
          35.312633049270886,
          35.259915629387486,
          35.20716597920337,
          35.154336418844146,
          35.10128550904615,
          35.04787550843466,
          34.99424507789167,
          34.9405476518815,
          34.88682024701621,
          34.83303148995326,
          34.779150406425295,
          34.72522086477115,
          34.671283768680965,
          34.61733364082098,
          34.56328681345413,
          34.50909714573712,
          34.45483079254107,
          34.40056139940099,
          34.34633274513599,
          34.292188123215915,
          34.23814654330211,
          34.18418726444729,
          34.13028119180499,
          34.07650392001085,
          34.02306587780798,
          33.97012671703155,
          33.917508507897146,
          33.864973330935825,
          33.81244395484569,
          33.75989307084149,
          33.70731167140337,
          33.65471074816965,
          33.60209552649386,
          33.549384716758055,
          33.49635303315763,
          33.44286436986524,
          33.389054812539825,
          33.335208616763815,
          33.281401878279965,
          33.227660297908415,
          33.17399253862186,
          33.12039254121505,
          33.066856126835944,
          33.01339303009665,
          32.96004947431618,
          32.90685203041238,
          32.85378451776603,
          32.80081838783347,
          32.74793718592947,
          32.695129811508146,
          32.6423906113888,
          32.58972745035089,
          32.53715614360029,
          32.48470418296067,
          32.432506512351424,
          32.38061239819833,
          32.32892733416532,
          32.27735055798108,
          32.22584723433093,
          32.17441166172112,
          32.12305059552068,
          32.071759134249895,
          32.02053386422986,
          31.96937372094111,
          31.91827814842115,
          31.8672461501959,
          31.81627687802502,
          31.765369465189355,
          31.71452273408775,
          31.663735582329654,
          31.613006370872924,
          31.56233288515463,
          31.511718096621145,
          31.461120065606448,
          31.41047703926608,
          31.359770529454693,
          31.309035061327492,
          31.258331150600572,
          31.207675916607446,
          31.157061605381703,
          31.106470992935453,
          31.05590753400474,
          31.005364299320657,
          30.954814699675936,
          30.904150794624396,
          30.853318057646025,
          30.8023678149264,
          30.751365005857867,
          30.700331284190685,
          30.649262509621845,
          30.598151556850226,
          30.547014114490363,
          30.49586874340367,
          30.444750245164233,
          30.393740720795478,
          30.342891357285687,
          30.29216727143082,
          30.241512253194756,
          30.190901223503197,
          30.14033086343694,
          30.089802533427786,
          30.03932099768653,
          29.988889734853974,
          29.938508610251297,
          29.88815728874182,
          29.837831106626897,
          29.787558263582053,
          29.73737106268686,
          29.68729818673649,
          29.637399460984085,
          29.58773286122,
          29.538232747171048,
          29.488835781315526,
          29.439525828895484,
          29.390309927005482,
          29.34119182532472,
          29.292150336865244,
          29.243167699167497,
          29.194218270762924,
          29.145250170581463,
          29.0962277065886,
          29.047203517685343,
          28.998241601908454,
          28.949360703567688,
          28.900553716254063,
          28.851815174989255,
          28.803160779937212,
          28.754613386463593,
          28.706189372195517,
          28.65790961614413,
          28.60978609032086,
          28.561801022483735,
          28.513926935592178,
          28.466106861265995,
          28.418203386434232,
          28.37007573690565,
          28.321841595657347,
          28.273628028968034,
          28.225484475380515,
          28.17742328320493,
          28.129447828796224,
          28.081549317423608,
          28.033713971127625,
          27.98593083624306,
          27.938191288332945,
          27.89049085991312,
          27.842834392188358,
          27.79522564398402,
          27.747655739060438,
          27.70009705408874,
          27.652520799531473,
          27.60495774916026,
          27.557429667609252,
          27.509902701310946,
          27.462265882696446,
          27.41442018973578,
          27.36647225296963,
          27.318544048281623,
          27.27067820653571,
          27.222899610448682,
          27.17521947375491,
          27.127620046652794,
          27.08008154086905,
          27.032575198610274,
          26.985037147301203,
          26.937400377902954,
          26.889727732093164,
          26.842088158761655,
          26.794508182195752,
          26.746995857277962,
          26.69955667430409,
          26.652190413805577,
          26.604887578013436,
          26.55773769287603,
          26.510868740132192,
          26.464357156762368,
          26.418125232987183,
          26.372029112547313,
          26.32600210594969,
          26.280012690307487
         ],
         "yaxis": "y"
        }
       ],
       "layout": {
        "legend": {
         "title": {
          "text": "variable"
         },
         "tracegroupgap": 0
        },
        "margin": {
         "t": 60
        },
        "template": {
         "data": {
          "bar": [
           {
            "error_x": {
             "color": "#2a3f5f"
            },
            "error_y": {
             "color": "#2a3f5f"
            },
            "marker": {
             "line": {
              "color": "#E5ECF6",
              "width": 0.5
             },
             "pattern": {
              "fillmode": "overlay",
              "size": 10,
              "solidity": 0.2
             }
            },
            "type": "bar"
           }
          ],
          "barpolar": [
           {
            "marker": {
             "line": {
              "color": "#E5ECF6",
              "width": 0.5
             },
             "pattern": {
              "fillmode": "overlay",
              "size": 10,
              "solidity": 0.2
             }
            },
            "type": "barpolar"
           }
          ],
          "carpet": [
           {
            "aaxis": {
             "endlinecolor": "#2a3f5f",
             "gridcolor": "white",
             "linecolor": "white",
             "minorgridcolor": "white",
             "startlinecolor": "#2a3f5f"
            },
            "baxis": {
             "endlinecolor": "#2a3f5f",
             "gridcolor": "white",
             "linecolor": "white",
             "minorgridcolor": "white",
             "startlinecolor": "#2a3f5f"
            },
            "type": "carpet"
           }
          ],
          "choropleth": [
           {
            "colorbar": {
             "outlinewidth": 0,
             "ticks": ""
            },
            "type": "choropleth"
           }
          ],
          "contour": [
           {
            "colorbar": {
             "outlinewidth": 0,
             "ticks": ""
            },
            "colorscale": [
             [
              0,
              "#0d0887"
             ],
             [
              0.1111111111111111,
              "#46039f"
             ],
             [
              0.2222222222222222,
              "#7201a8"
             ],
             [
              0.3333333333333333,
              "#9c179e"
             ],
             [
              0.4444444444444444,
              "#bd3786"
             ],
             [
              0.5555555555555556,
              "#d8576b"
             ],
             [
              0.6666666666666666,
              "#ed7953"
             ],
             [
              0.7777777777777778,
              "#fb9f3a"
             ],
             [
              0.8888888888888888,
              "#fdca26"
             ],
             [
              1,
              "#f0f921"
             ]
            ],
            "type": "contour"
           }
          ],
          "contourcarpet": [
           {
            "colorbar": {
             "outlinewidth": 0,
             "ticks": ""
            },
            "type": "contourcarpet"
           }
          ],
          "heatmap": [
           {
            "colorbar": {
             "outlinewidth": 0,
             "ticks": ""
            },
            "colorscale": [
             [
              0,
              "#0d0887"
             ],
             [
              0.1111111111111111,
              "#46039f"
             ],
             [
              0.2222222222222222,
              "#7201a8"
             ],
             [
              0.3333333333333333,
              "#9c179e"
             ],
             [
              0.4444444444444444,
              "#bd3786"
             ],
             [
              0.5555555555555556,
              "#d8576b"
             ],
             [
              0.6666666666666666,
              "#ed7953"
             ],
             [
              0.7777777777777778,
              "#fb9f3a"
             ],
             [
              0.8888888888888888,
              "#fdca26"
             ],
             [
              1,
              "#f0f921"
             ]
            ],
            "type": "heatmap"
           }
          ],
          "heatmapgl": [
           {
            "colorbar": {
             "outlinewidth": 0,
             "ticks": ""
            },
            "colorscale": [
             [
              0,
              "#0d0887"
             ],
             [
              0.1111111111111111,
              "#46039f"
             ],
             [
              0.2222222222222222,
              "#7201a8"
             ],
             [
              0.3333333333333333,
              "#9c179e"
             ],
             [
              0.4444444444444444,
              "#bd3786"
             ],
             [
              0.5555555555555556,
              "#d8576b"
             ],
             [
              0.6666666666666666,
              "#ed7953"
             ],
             [
              0.7777777777777778,
              "#fb9f3a"
             ],
             [
              0.8888888888888888,
              "#fdca26"
             ],
             [
              1,
              "#f0f921"
             ]
            ],
            "type": "heatmapgl"
           }
          ],
          "histogram": [
           {
            "marker": {
             "pattern": {
              "fillmode": "overlay",
              "size": 10,
              "solidity": 0.2
             }
            },
            "type": "histogram"
           }
          ],
          "histogram2d": [
           {
            "colorbar": {
             "outlinewidth": 0,
             "ticks": ""
            },
            "colorscale": [
             [
              0,
              "#0d0887"
             ],
             [
              0.1111111111111111,
              "#46039f"
             ],
             [
              0.2222222222222222,
              "#7201a8"
             ],
             [
              0.3333333333333333,
              "#9c179e"
             ],
             [
              0.4444444444444444,
              "#bd3786"
             ],
             [
              0.5555555555555556,
              "#d8576b"
             ],
             [
              0.6666666666666666,
              "#ed7953"
             ],
             [
              0.7777777777777778,
              "#fb9f3a"
             ],
             [
              0.8888888888888888,
              "#fdca26"
             ],
             [
              1,
              "#f0f921"
             ]
            ],
            "type": "histogram2d"
           }
          ],
          "histogram2dcontour": [
           {
            "colorbar": {
             "outlinewidth": 0,
             "ticks": ""
            },
            "colorscale": [
             [
              0,
              "#0d0887"
             ],
             [
              0.1111111111111111,
              "#46039f"
             ],
             [
              0.2222222222222222,
              "#7201a8"
             ],
             [
              0.3333333333333333,
              "#9c179e"
             ],
             [
              0.4444444444444444,
              "#bd3786"
             ],
             [
              0.5555555555555556,
              "#d8576b"
             ],
             [
              0.6666666666666666,
              "#ed7953"
             ],
             [
              0.7777777777777778,
              "#fb9f3a"
             ],
             [
              0.8888888888888888,
              "#fdca26"
             ],
             [
              1,
              "#f0f921"
             ]
            ],
            "type": "histogram2dcontour"
           }
          ],
          "mesh3d": [
           {
            "colorbar": {
             "outlinewidth": 0,
             "ticks": ""
            },
            "type": "mesh3d"
           }
          ],
          "parcoords": [
           {
            "line": {
             "colorbar": {
              "outlinewidth": 0,
              "ticks": ""
             }
            },
            "type": "parcoords"
           }
          ],
          "pie": [
           {
            "automargin": true,
            "type": "pie"
           }
          ],
          "scatter": [
           {
            "fillpattern": {
             "fillmode": "overlay",
             "size": 10,
             "solidity": 0.2
            },
            "type": "scatter"
           }
          ],
          "scatter3d": [
           {
            "line": {
             "colorbar": {
              "outlinewidth": 0,
              "ticks": ""
             }
            },
            "marker": {
             "colorbar": {
              "outlinewidth": 0,
              "ticks": ""
             }
            },
            "type": "scatter3d"
           }
          ],
          "scattercarpet": [
           {
            "marker": {
             "colorbar": {
              "outlinewidth": 0,
              "ticks": ""
             }
            },
            "type": "scattercarpet"
           }
          ],
          "scattergeo": [
           {
            "marker": {
             "colorbar": {
              "outlinewidth": 0,
              "ticks": ""
             }
            },
            "type": "scattergeo"
           }
          ],
          "scattergl": [
           {
            "marker": {
             "colorbar": {
              "outlinewidth": 0,
              "ticks": ""
             }
            },
            "type": "scattergl"
           }
          ],
          "scattermapbox": [
           {
            "marker": {
             "colorbar": {
              "outlinewidth": 0,
              "ticks": ""
             }
            },
            "type": "scattermapbox"
           }
          ],
          "scatterpolar": [
           {
            "marker": {
             "colorbar": {
              "outlinewidth": 0,
              "ticks": ""
             }
            },
            "type": "scatterpolar"
           }
          ],
          "scatterpolargl": [
           {
            "marker": {
             "colorbar": {
              "outlinewidth": 0,
              "ticks": ""
             }
            },
            "type": "scatterpolargl"
           }
          ],
          "scatterternary": [
           {
            "marker": {
             "colorbar": {
              "outlinewidth": 0,
              "ticks": ""
             }
            },
            "type": "scatterternary"
           }
          ],
          "surface": [
           {
            "colorbar": {
             "outlinewidth": 0,
             "ticks": ""
            },
            "colorscale": [
             [
              0,
              "#0d0887"
             ],
             [
              0.1111111111111111,
              "#46039f"
             ],
             [
              0.2222222222222222,
              "#7201a8"
             ],
             [
              0.3333333333333333,
              "#9c179e"
             ],
             [
              0.4444444444444444,
              "#bd3786"
             ],
             [
              0.5555555555555556,
              "#d8576b"
             ],
             [
              0.6666666666666666,
              "#ed7953"
             ],
             [
              0.7777777777777778,
              "#fb9f3a"
             ],
             [
              0.8888888888888888,
              "#fdca26"
             ],
             [
              1,
              "#f0f921"
             ]
            ],
            "type": "surface"
           }
          ],
          "table": [
           {
            "cells": {
             "fill": {
              "color": "#EBF0F8"
             },
             "line": {
              "color": "white"
             }
            },
            "header": {
             "fill": {
              "color": "#C8D4E3"
             },
             "line": {
              "color": "white"
             }
            },
            "type": "table"
           }
          ]
         },
         "layout": {
          "annotationdefaults": {
           "arrowcolor": "#2a3f5f",
           "arrowhead": 0,
           "arrowwidth": 1
          },
          "autotypenumbers": "strict",
          "coloraxis": {
           "colorbar": {
            "outlinewidth": 0,
            "ticks": ""
           }
          },
          "colorscale": {
           "diverging": [
            [
             0,
             "#8e0152"
            ],
            [
             0.1,
             "#c51b7d"
            ],
            [
             0.2,
             "#de77ae"
            ],
            [
             0.3,
             "#f1b6da"
            ],
            [
             0.4,
             "#fde0ef"
            ],
            [
             0.5,
             "#f7f7f7"
            ],
            [
             0.6,
             "#e6f5d0"
            ],
            [
             0.7,
             "#b8e186"
            ],
            [
             0.8,
             "#7fbc41"
            ],
            [
             0.9,
             "#4d9221"
            ],
            [
             1,
             "#276419"
            ]
           ],
           "sequential": [
            [
             0,
             "#0d0887"
            ],
            [
             0.1111111111111111,
             "#46039f"
            ],
            [
             0.2222222222222222,
             "#7201a8"
            ],
            [
             0.3333333333333333,
             "#9c179e"
            ],
            [
             0.4444444444444444,
             "#bd3786"
            ],
            [
             0.5555555555555556,
             "#d8576b"
            ],
            [
             0.6666666666666666,
             "#ed7953"
            ],
            [
             0.7777777777777778,
             "#fb9f3a"
            ],
            [
             0.8888888888888888,
             "#fdca26"
            ],
            [
             1,
             "#f0f921"
            ]
           ],
           "sequentialminus": [
            [
             0,
             "#0d0887"
            ],
            [
             0.1111111111111111,
             "#46039f"
            ],
            [
             0.2222222222222222,
             "#7201a8"
            ],
            [
             0.3333333333333333,
             "#9c179e"
            ],
            [
             0.4444444444444444,
             "#bd3786"
            ],
            [
             0.5555555555555556,
             "#d8576b"
            ],
            [
             0.6666666666666666,
             "#ed7953"
            ],
            [
             0.7777777777777778,
             "#fb9f3a"
            ],
            [
             0.8888888888888888,
             "#fdca26"
            ],
            [
             1,
             "#f0f921"
            ]
           ]
          },
          "colorway": [
           "#636efa",
           "#EF553B",
           "#00cc96",
           "#ab63fa",
           "#FFA15A",
           "#19d3f3",
           "#FF6692",
           "#B6E880",
           "#FF97FF",
           "#FECB52"
          ],
          "font": {
           "color": "#2a3f5f"
          },
          "geo": {
           "bgcolor": "white",
           "lakecolor": "white",
           "landcolor": "#E5ECF6",
           "showlakes": true,
           "showland": true,
           "subunitcolor": "white"
          },
          "hoverlabel": {
           "align": "left"
          },
          "hovermode": "closest",
          "mapbox": {
           "style": "light"
          },
          "paper_bgcolor": "white",
          "plot_bgcolor": "#E5ECF6",
          "polar": {
           "angularaxis": {
            "gridcolor": "white",
            "linecolor": "white",
            "ticks": ""
           },
           "bgcolor": "#E5ECF6",
           "radialaxis": {
            "gridcolor": "white",
            "linecolor": "white",
            "ticks": ""
           }
          },
          "scene": {
           "xaxis": {
            "backgroundcolor": "#E5ECF6",
            "gridcolor": "white",
            "gridwidth": 2,
            "linecolor": "white",
            "showbackground": true,
            "ticks": "",
            "zerolinecolor": "white"
           },
           "yaxis": {
            "backgroundcolor": "#E5ECF6",
            "gridcolor": "white",
            "gridwidth": 2,
            "linecolor": "white",
            "showbackground": true,
            "ticks": "",
            "zerolinecolor": "white"
           },
           "zaxis": {
            "backgroundcolor": "#E5ECF6",
            "gridcolor": "white",
            "gridwidth": 2,
            "linecolor": "white",
            "showbackground": true,
            "ticks": "",
            "zerolinecolor": "white"
           }
          },
          "shapedefaults": {
           "line": {
            "color": "#2a3f5f"
           }
          },
          "ternary": {
           "aaxis": {
            "gridcolor": "white",
            "linecolor": "white",
            "ticks": ""
           },
           "baxis": {
            "gridcolor": "white",
            "linecolor": "white",
            "ticks": ""
           },
           "bgcolor": "#E5ECF6",
           "caxis": {
            "gridcolor": "white",
            "linecolor": "white",
            "ticks": ""
           }
          },
          "title": {
           "x": 0.05
          },
          "xaxis": {
           "automargin": true,
           "gridcolor": "white",
           "linecolor": "white",
           "ticks": "",
           "title": {
            "standoff": 15
           },
           "zerolinecolor": "white",
           "zerolinewidth": 2
          },
          "yaxis": {
           "automargin": true,
           "gridcolor": "white",
           "linecolor": "white",
           "ticks": "",
           "title": {
            "standoff": 15
           },
           "zerolinecolor": "white",
           "zerolinewidth": 2
          }
         }
        },
        "xaxis": {
         "anchor": "y",
         "domain": [
          0,
          1
         ],
         "title": {
          "text": "index"
         }
        },
        "yaxis": {
         "anchor": "x",
         "domain": [
          0,
          1
         ],
         "title": {
          "text": "value"
         }
        }
       }
      }
     },
     "metadata": {},
     "output_type": "display_data"
    }
   ],
   "source": [
    "derived_df_0.percentage_latent.plot()"
   ]
  },
  {
   "cell_type": "code",
   "execution_count": 17,
   "metadata": {},
   "outputs": [],
   "source": [
    "#from autumn.model_features.curve.interpolate import build_static_sigmoidal_multicurve\n",
    "# tfunc = build_static_sigmoidal_multicurve([float(k) for k in params['time_variant_tb_screening_rate'].keys()], [float(v) for v in params['time_variant_tb_screening_rate'].values()])\n",
    "# np.array(jax.numpy.asarray([tfunc(t) * 0.8 for t in model_0.times]))\n",
    "# derived_df_0.sigmoid_param"
   ]
  },
  {
   "cell_type": "code",
   "execution_count": 18,
   "metadata": {},
   "outputs": [
    {
     "data": {
      "application/vnd.plotly.v1+json": {
       "config": {
        "plotlyServerURL": "https://plot.ly"
       },
       "data": [
        {
         "hovertemplate": "variable=notifications<br>index=%{x}<br>value=%{y}<extra></extra>",
         "legendgroup": "notifications",
         "line": {
          "color": "#636efa",
          "dash": "solid"
         },
         "marker": {
          "symbol": "circle"
         },
         "mode": "lines",
         "name": "notifications",
         "showlegend": true,
         "type": "scattergl",
         "x": [
          1900,
          1900.1,
          1900.2,
          1900.3,
          1900.4,
          1900.5,
          1900.6,
          1900.7,
          1900.8,
          1900.9,
          1901,
          1901.1,
          1901.2,
          1901.3,
          1901.4,
          1901.5,
          1901.6,
          1901.7,
          1901.8,
          1901.9,
          1902,
          1902.1,
          1902.2,
          1902.3,
          1902.4,
          1902.5,
          1902.6,
          1902.7,
          1902.8,
          1902.9,
          1903,
          1903.1,
          1903.2,
          1903.3,
          1903.4,
          1903.5,
          1903.6,
          1903.7,
          1903.8,
          1903.9,
          1904,
          1904.1,
          1904.2,
          1904.3,
          1904.4,
          1904.5,
          1904.6,
          1904.7,
          1904.8,
          1904.9,
          1905,
          1905.1,
          1905.2,
          1905.3,
          1905.4,
          1905.5,
          1905.6,
          1905.7,
          1905.8,
          1905.9,
          1906,
          1906.1,
          1906.2,
          1906.3,
          1906.4,
          1906.5,
          1906.6,
          1906.7,
          1906.8,
          1906.9,
          1907,
          1907.1,
          1907.2,
          1907.3,
          1907.4,
          1907.5,
          1907.6,
          1907.7,
          1907.8,
          1907.9,
          1908,
          1908.1,
          1908.2,
          1908.3,
          1908.4,
          1908.5,
          1908.6,
          1908.7,
          1908.8,
          1908.9,
          1909,
          1909.1,
          1909.2,
          1909.3,
          1909.4,
          1909.5,
          1909.6,
          1909.7,
          1909.8,
          1909.9,
          1910,
          1910.1,
          1910.2,
          1910.3,
          1910.4,
          1910.5,
          1910.6,
          1910.7,
          1910.8,
          1910.9,
          1911,
          1911.1,
          1911.2,
          1911.3,
          1911.4,
          1911.5,
          1911.6,
          1911.7,
          1911.8,
          1911.9,
          1912,
          1912.1,
          1912.2,
          1912.3,
          1912.4,
          1912.5,
          1912.6,
          1912.7,
          1912.8,
          1912.9,
          1913,
          1913.1,
          1913.2,
          1913.3,
          1913.4,
          1913.5,
          1913.6,
          1913.7,
          1913.8,
          1913.9,
          1914,
          1914.1,
          1914.2,
          1914.3,
          1914.4,
          1914.5,
          1914.6,
          1914.7,
          1914.8,
          1914.9,
          1915,
          1915.1,
          1915.2,
          1915.3,
          1915.4,
          1915.5,
          1915.6,
          1915.7,
          1915.8,
          1915.9,
          1916,
          1916.1,
          1916.2,
          1916.3,
          1916.4,
          1916.5,
          1916.6,
          1916.7,
          1916.8,
          1916.9,
          1917,
          1917.1,
          1917.2,
          1917.3,
          1917.4,
          1917.5,
          1917.6,
          1917.7,
          1917.8,
          1917.9,
          1918,
          1918.1,
          1918.2,
          1918.3,
          1918.4,
          1918.5,
          1918.6,
          1918.7,
          1918.8,
          1918.9,
          1919,
          1919.1,
          1919.2,
          1919.3,
          1919.4,
          1919.5,
          1919.6,
          1919.7,
          1919.8,
          1919.9,
          1920,
          1920.1,
          1920.2,
          1920.3,
          1920.4,
          1920.5,
          1920.6,
          1920.7,
          1920.8,
          1920.9,
          1921,
          1921.1,
          1921.2,
          1921.3,
          1921.4,
          1921.5,
          1921.6,
          1921.7,
          1921.8,
          1921.9,
          1922,
          1922.1,
          1922.2,
          1922.3,
          1922.4,
          1922.5,
          1922.6,
          1922.7,
          1922.8,
          1922.9,
          1923,
          1923.1,
          1923.2,
          1923.3,
          1923.4,
          1923.5,
          1923.6,
          1923.7,
          1923.8,
          1923.9,
          1924,
          1924.1,
          1924.2,
          1924.3,
          1924.4,
          1924.5,
          1924.6,
          1924.7,
          1924.8,
          1924.9,
          1925,
          1925.1,
          1925.2,
          1925.3,
          1925.4,
          1925.5,
          1925.6,
          1925.7,
          1925.8,
          1925.9,
          1926,
          1926.1,
          1926.2,
          1926.3,
          1926.4,
          1926.5,
          1926.6,
          1926.7,
          1926.8,
          1926.9,
          1927,
          1927.1,
          1927.2,
          1927.3,
          1927.4,
          1927.5,
          1927.6,
          1927.7,
          1927.8,
          1927.9,
          1928,
          1928.1,
          1928.2,
          1928.3,
          1928.4,
          1928.5,
          1928.6,
          1928.7,
          1928.8,
          1928.9,
          1929,
          1929.1,
          1929.2,
          1929.3,
          1929.4,
          1929.5,
          1929.6,
          1929.7,
          1929.8,
          1929.9,
          1930,
          1930.1,
          1930.2,
          1930.3,
          1930.4,
          1930.5,
          1930.6,
          1930.7,
          1930.8,
          1930.9,
          1931,
          1931.1,
          1931.2,
          1931.3,
          1931.4,
          1931.5,
          1931.6,
          1931.7,
          1931.8,
          1931.9,
          1932,
          1932.1,
          1932.2,
          1932.3,
          1932.4,
          1932.5,
          1932.6,
          1932.7,
          1932.8,
          1932.9,
          1933,
          1933.1,
          1933.2,
          1933.3,
          1933.4,
          1933.5,
          1933.6,
          1933.7,
          1933.8,
          1933.9,
          1934,
          1934.1,
          1934.2,
          1934.3,
          1934.4,
          1934.5,
          1934.6,
          1934.7,
          1934.8,
          1934.9,
          1935,
          1935.1,
          1935.2,
          1935.3,
          1935.4,
          1935.5,
          1935.6,
          1935.7,
          1935.8,
          1935.9,
          1936,
          1936.1,
          1936.2,
          1936.3,
          1936.4,
          1936.5,
          1936.6,
          1936.7,
          1936.8,
          1936.9,
          1937,
          1937.1,
          1937.2,
          1937.3,
          1937.4,
          1937.5,
          1937.6,
          1937.7,
          1937.8,
          1937.9,
          1938,
          1938.1,
          1938.2,
          1938.3,
          1938.4,
          1938.5,
          1938.6,
          1938.7,
          1938.8,
          1938.9,
          1939,
          1939.1,
          1939.2,
          1939.3,
          1939.4,
          1939.5,
          1939.6,
          1939.7,
          1939.8,
          1939.9,
          1940,
          1940.1,
          1940.2,
          1940.3,
          1940.4,
          1940.5,
          1940.6,
          1940.7,
          1940.8,
          1940.9,
          1941,
          1941.1,
          1941.2,
          1941.3,
          1941.4,
          1941.5,
          1941.6,
          1941.7,
          1941.8,
          1941.9,
          1942,
          1942.1,
          1942.2,
          1942.3,
          1942.4,
          1942.5,
          1942.6,
          1942.7,
          1942.8,
          1942.9,
          1943,
          1943.1,
          1943.2,
          1943.3,
          1943.4,
          1943.5,
          1943.6,
          1943.7,
          1943.8,
          1943.9,
          1944,
          1944.1,
          1944.2,
          1944.3,
          1944.4,
          1944.5,
          1944.6,
          1944.7,
          1944.8,
          1944.9,
          1945,
          1945.1,
          1945.2,
          1945.3,
          1945.4,
          1945.5,
          1945.6,
          1945.7,
          1945.8,
          1945.9,
          1946,
          1946.1,
          1946.2,
          1946.3,
          1946.4,
          1946.5,
          1946.6,
          1946.7,
          1946.8,
          1946.9,
          1947,
          1947.1,
          1947.2,
          1947.3,
          1947.4,
          1947.5,
          1947.6,
          1947.7,
          1947.8,
          1947.9,
          1948,
          1948.1,
          1948.2,
          1948.3,
          1948.4,
          1948.5,
          1948.6,
          1948.7,
          1948.8,
          1948.9,
          1949,
          1949.1,
          1949.2,
          1949.3,
          1949.4,
          1949.5,
          1949.6,
          1949.7,
          1949.8,
          1949.9,
          1950,
          1950.1,
          1950.2,
          1950.3,
          1950.4,
          1950.5,
          1950.6,
          1950.7,
          1950.8,
          1950.9,
          1951,
          1951.1,
          1951.2,
          1951.3,
          1951.4,
          1951.5,
          1951.6,
          1951.7,
          1951.8,
          1951.9,
          1952,
          1952.1,
          1952.2,
          1952.3,
          1952.4,
          1952.5,
          1952.6,
          1952.7,
          1952.8,
          1952.9,
          1953,
          1953.1,
          1953.2,
          1953.3,
          1953.4,
          1953.5,
          1953.6,
          1953.7,
          1953.8,
          1953.9,
          1954,
          1954.1,
          1954.2,
          1954.3,
          1954.4,
          1954.5,
          1954.6,
          1954.7,
          1954.8,
          1954.9,
          1955,
          1955.1,
          1955.2,
          1955.3,
          1955.4,
          1955.5,
          1955.6,
          1955.7,
          1955.8,
          1955.9,
          1956,
          1956.1,
          1956.2,
          1956.3,
          1956.4,
          1956.5,
          1956.6,
          1956.7,
          1956.8,
          1956.9,
          1957,
          1957.1,
          1957.2,
          1957.3,
          1957.4,
          1957.5,
          1957.6,
          1957.7,
          1957.8,
          1957.9,
          1958,
          1958.1,
          1958.2,
          1958.3,
          1958.4,
          1958.5,
          1958.6,
          1958.7,
          1958.8,
          1958.9,
          1959,
          1959.1,
          1959.2,
          1959.3,
          1959.4,
          1959.5,
          1959.6,
          1959.7,
          1959.8,
          1959.9,
          1960,
          1960.1,
          1960.2,
          1960.3,
          1960.4,
          1960.5,
          1960.6,
          1960.7,
          1960.8,
          1960.9,
          1961,
          1961.1,
          1961.2,
          1961.3,
          1961.4,
          1961.5,
          1961.6,
          1961.7,
          1961.8,
          1961.9,
          1962,
          1962.1,
          1962.2,
          1962.3,
          1962.4,
          1962.5,
          1962.6,
          1962.7,
          1962.8,
          1962.9,
          1963,
          1963.1,
          1963.2,
          1963.3,
          1963.4,
          1963.5,
          1963.6,
          1963.7,
          1963.8,
          1963.9,
          1964,
          1964.1,
          1964.2,
          1964.3,
          1964.4,
          1964.5,
          1964.6,
          1964.7,
          1964.8,
          1964.9,
          1965,
          1965.1,
          1965.2,
          1965.3,
          1965.4,
          1965.5,
          1965.6,
          1965.7,
          1965.8,
          1965.9,
          1966,
          1966.1,
          1966.2,
          1966.3,
          1966.4,
          1966.5,
          1966.6,
          1966.7,
          1966.8,
          1966.9,
          1967,
          1967.1,
          1967.2,
          1967.3,
          1967.4,
          1967.5,
          1967.6,
          1967.7,
          1967.8,
          1967.9,
          1968,
          1968.1,
          1968.2,
          1968.3,
          1968.4,
          1968.5,
          1968.6,
          1968.7,
          1968.8,
          1968.9,
          1969,
          1969.1,
          1969.2,
          1969.3,
          1969.4,
          1969.5,
          1969.6,
          1969.7,
          1969.8,
          1969.9,
          1970,
          1970.1,
          1970.2,
          1970.3,
          1970.4,
          1970.5,
          1970.6,
          1970.7,
          1970.8,
          1970.9,
          1971,
          1971.1,
          1971.2,
          1971.3,
          1971.4,
          1971.5,
          1971.6,
          1971.7,
          1971.8,
          1971.9,
          1972,
          1972.1,
          1972.2,
          1972.3,
          1972.4,
          1972.5,
          1972.6,
          1972.7,
          1972.8,
          1972.9,
          1973,
          1973.1,
          1973.2,
          1973.3,
          1973.4,
          1973.5,
          1973.6,
          1973.7,
          1973.8,
          1973.9,
          1974,
          1974.1,
          1974.2,
          1974.3,
          1974.4,
          1974.5,
          1974.6,
          1974.7,
          1974.8,
          1974.9,
          1975,
          1975.1,
          1975.2,
          1975.3,
          1975.4,
          1975.5,
          1975.6,
          1975.7,
          1975.8,
          1975.9,
          1976,
          1976.1,
          1976.2,
          1976.3,
          1976.4,
          1976.5,
          1976.6,
          1976.7,
          1976.8,
          1976.9,
          1977,
          1977.1,
          1977.2,
          1977.3,
          1977.4,
          1977.5,
          1977.6,
          1977.7,
          1977.8,
          1977.9,
          1978,
          1978.1,
          1978.2,
          1978.3,
          1978.4,
          1978.5,
          1978.6,
          1978.7,
          1978.8,
          1978.9,
          1979,
          1979.1,
          1979.2,
          1979.3,
          1979.4,
          1979.5,
          1979.6,
          1979.7,
          1979.8,
          1979.9,
          1980,
          1980.1,
          1980.2,
          1980.3,
          1980.4,
          1980.5,
          1980.6,
          1980.7,
          1980.8,
          1980.9,
          1981,
          1981.1,
          1981.2,
          1981.3,
          1981.4,
          1981.5,
          1981.6,
          1981.7,
          1981.8,
          1981.9,
          1982,
          1982.1,
          1982.2,
          1982.3,
          1982.4,
          1982.5,
          1982.6,
          1982.7,
          1982.8,
          1982.9,
          1983,
          1983.1,
          1983.2,
          1983.3,
          1983.4,
          1983.5,
          1983.6,
          1983.7,
          1983.8,
          1983.9,
          1984,
          1984.1,
          1984.2,
          1984.3,
          1984.4,
          1984.5,
          1984.6,
          1984.7,
          1984.8,
          1984.9,
          1985,
          1985.1,
          1985.2,
          1985.3,
          1985.4,
          1985.5,
          1985.6,
          1985.7,
          1985.8,
          1985.9,
          1986,
          1986.1,
          1986.2,
          1986.3,
          1986.4,
          1986.5,
          1986.6,
          1986.7,
          1986.8,
          1986.9,
          1987,
          1987.1,
          1987.2,
          1987.3,
          1987.4,
          1987.5,
          1987.6,
          1987.7,
          1987.8,
          1987.9,
          1988,
          1988.1,
          1988.2,
          1988.3,
          1988.4,
          1988.5,
          1988.6,
          1988.7,
          1988.8,
          1988.9,
          1989,
          1989.1,
          1989.2,
          1989.3,
          1989.4,
          1989.5,
          1989.6,
          1989.7,
          1989.8,
          1989.9,
          1990,
          1990.1,
          1990.2,
          1990.3,
          1990.4,
          1990.5,
          1990.6,
          1990.7,
          1990.8,
          1990.9,
          1991,
          1991.1,
          1991.2,
          1991.3,
          1991.4,
          1991.5,
          1991.6,
          1991.7,
          1991.8,
          1991.9,
          1992,
          1992.1,
          1992.2,
          1992.3,
          1992.4,
          1992.5,
          1992.6,
          1992.7,
          1992.8,
          1992.9,
          1993,
          1993.1,
          1993.2,
          1993.3,
          1993.4,
          1993.5,
          1993.6,
          1993.7,
          1993.8,
          1993.9,
          1994,
          1994.1,
          1994.2,
          1994.3,
          1994.4,
          1994.5,
          1994.6,
          1994.7,
          1994.8,
          1994.9,
          1995,
          1995.1,
          1995.2,
          1995.3,
          1995.4,
          1995.5,
          1995.6,
          1995.7,
          1995.8,
          1995.9,
          1996,
          1996.1,
          1996.2,
          1996.3,
          1996.4,
          1996.5,
          1996.6,
          1996.7,
          1996.8,
          1996.9,
          1997,
          1997.1,
          1997.2,
          1997.3,
          1997.4,
          1997.5,
          1997.6,
          1997.7,
          1997.8,
          1997.9,
          1998,
          1998.1,
          1998.2,
          1998.3,
          1998.4,
          1998.5,
          1998.6,
          1998.7,
          1998.8,
          1998.9,
          1999,
          1999.1,
          1999.2,
          1999.3,
          1999.4,
          1999.5,
          1999.6,
          1999.7,
          1999.8,
          1999.9,
          2000,
          2000.1,
          2000.2,
          2000.3,
          2000.4,
          2000.5,
          2000.6,
          2000.7,
          2000.8,
          2000.9,
          2001,
          2001.1,
          2001.2,
          2001.3,
          2001.4,
          2001.5,
          2001.6,
          2001.7,
          2001.8,
          2001.9,
          2002,
          2002.1,
          2002.2,
          2002.3,
          2002.4,
          2002.5,
          2002.6,
          2002.7,
          2002.8,
          2002.9,
          2003,
          2003.1,
          2003.2,
          2003.3,
          2003.4,
          2003.5,
          2003.6,
          2003.7,
          2003.8,
          2003.9,
          2004,
          2004.1,
          2004.2,
          2004.3,
          2004.4,
          2004.5,
          2004.6,
          2004.7,
          2004.8,
          2004.9,
          2005,
          2005.1,
          2005.2,
          2005.3,
          2005.4,
          2005.5,
          2005.6,
          2005.7,
          2005.8,
          2005.9,
          2006,
          2006.1,
          2006.2,
          2006.3,
          2006.4,
          2006.5,
          2006.6,
          2006.7,
          2006.8,
          2006.9,
          2007,
          2007.1,
          2007.2,
          2007.3,
          2007.4,
          2007.5,
          2007.6,
          2007.7,
          2007.8,
          2007.9,
          2008,
          2008.1,
          2008.2,
          2008.3,
          2008.4,
          2008.5,
          2008.6,
          2008.7,
          2008.8,
          2008.9,
          2009,
          2009.1,
          2009.2,
          2009.3,
          2009.4,
          2009.5,
          2009.6,
          2009.7,
          2009.8,
          2009.9,
          2010,
          2010.1,
          2010.2,
          2010.3,
          2010.4,
          2010.5,
          2010.6,
          2010.7,
          2010.8,
          2010.9,
          2011,
          2011.1,
          2011.2,
          2011.3,
          2011.4,
          2011.5,
          2011.6,
          2011.7,
          2011.8,
          2011.9,
          2012,
          2012.1,
          2012.2,
          2012.3,
          2012.4,
          2012.5,
          2012.6,
          2012.7,
          2012.8,
          2012.9,
          2013,
          2013.1,
          2013.2,
          2013.3,
          2013.4,
          2013.5,
          2013.6,
          2013.7,
          2013.8,
          2013.9,
          2014,
          2014.1,
          2014.2,
          2014.3,
          2014.4,
          2014.5,
          2014.6,
          2014.7,
          2014.8,
          2014.9,
          2015,
          2015.1,
          2015.2,
          2015.3,
          2015.4,
          2015.5,
          2015.6,
          2015.7,
          2015.8,
          2015.9,
          2016,
          2016.1,
          2016.2,
          2016.3,
          2016.4,
          2016.5,
          2016.6,
          2016.7,
          2016.8,
          2016.9,
          2017,
          2017.1,
          2017.2,
          2017.3,
          2017.4,
          2017.5,
          2017.6,
          2017.7,
          2017.8,
          2017.9,
          2018,
          2018.1,
          2018.2,
          2018.3,
          2018.4,
          2018.5,
          2018.6,
          2018.7,
          2018.8,
          2018.9,
          2019,
          2019.1,
          2019.2,
          2019.3,
          2019.4,
          2019.5,
          2019.6,
          2019.7,
          2019.8,
          2019.9,
          2020
         ],
         "xaxis": "x",
         "y": [
          129.77978113428566,
          127.4647765145015,
          124.33981817927639,
          123.59203407358041,
          124.21237792590213,
          125.60191760902401,
          127.40257129743306,
          129.40407853455912,
          131.48279734055546,
          133.56547254629876,
          135.61366069783236,
          137.60294183974628,
          139.52226712538888,
          141.36974074973895,
          143.14207897295236,
          144.84032651525848,
          146.46972440257844,
          148.03373616650197,
          149.53432090191433,
          150.97521763877148,
          152.36166169494857,
          153.69785146553997,
          154.98707851226098,
          156.23187700859842,
          157.43524836890072,
          158.60092784227146,
          159.7323085539869,
          160.83227843991665,
          161.90329564471574,
          162.94738852182988,
          163.966127735048,
          164.96109565263794,
          165.93495242951184,
          166.89088123116574,
          167.83135411622385,
          168.7580214846093,
          169.67171207754248,
          170.57243297754576,
          171.45961518389976,
          172.33467305583844,
          173.20131428862857,
          174.06241006081618,
          174.9189650109514,
          175.77021317541062,
          176.61441950055448,
          177.45258407683843,
          178.2881513767884,
          179.12335188504812,
          179.9587808985131,
          180.79344221244872,
          181.62513425202238,
          182.45396946822814,
          183.28334642069566,
          184.1161927287464,
          184.95340629757493,
          185.79389241177523,
          186.6345901978002,
          187.47335845796894,
          188.31306488692815,
          189.15847607830722,
          190.01171898082447,
          190.87208219266785,
          191.7360159614987,
          192.59907548884442,
          193.463014603998,
          194.33324400847937,
          195.2117015489894,
          196.09755802734566,
          196.98747692790772,
          197.87975412957732,
          198.77688518222087,
          199.68140834246236,
          200.59374201265302,
          201.51272302395256,
          202.43602045826563,
          203.3633376154075,
          204.29701156445475,
          205.23883245843086,
          206.18911195506556,
          207.14674372900035,
          208.10924285954357,
          209.0749440222211,
          210.0459368301429,
          211.0257229561944,
          212.01585890671154,
          213.01571821051783,
          214.0224914189232,
          215.03187316203434,
          216.04398416357049,
          217.06346974018226,
          218.0930567476015,
          219.13256346665818,
          220.1792160839477,
          221.22953510385776,
          222.2845192704267,
          223.34771234842424,
          224.42037285243185,
          225.50190496043572,
          226.5898894642197,
          227.6819218025635,
          228.77920781373723,
          229.88481960178703,
          231.00011649504907,
          232.1246683522975,
          233.25625556274952,
          234.39141796648755,
          235.52984771182798,
          236.67544378027856,
          237.83149381792526,
          238.99865778361595,
          240.17498035374828,
          241.35589146539962,
          242.53798208309883,
          243.72444360270165,
          244.9203237529925,
          246.12692591124107,
          247.34261669741193,
          248.5630261502746,
          249.78617849005167,
          251.0152538484438,
          252.25336649911387,
          253.50100604953457,
          254.75653154582415,
          256.01644903736417,
          257.2795205189554,
          258.5486755138119,
          259.82680425267216,
          261.1145915804548,
          262.4106378892576,
          263.7114646484437,
          265.0139408977268,
          266.32011707312864,
          267.6348528256753,
          268.96054088276264,
          270.29661595380225,
          271.6395547302198,
          272.98357224575363,
          274.3281502384951,
          275.67901303768605,
          277.03996230626626,
          278.4110303294382,
          279.78894244576367,
          281.16868991095293,
          282.55066149130255,
          283.9395748427711,
          285.3376218436366,
          286.74438391997046,
          288.15697468786306,
          289.5715028182652,
          290.98857671721913,
          292.41241751920563,
          293.8453425906067,
          295.2872088259576,
          296.7354436186923,
          298.1853958330206,
          299.63556461013496,
          301.09040959309004,
          302.5546500193452,
          304.02963723618495,
          305.5133605141628,
          307.0004470470991,
          308.48561360135284,
          309.97182335293303,
          311.46586609118424,
          312.9699938119792,
          314.48271271511453,
          315.9988444254269,
          317.51454093379823,
          319.03293597320607,
          320.5588340657665,
          322.0934759433064,
          323.6352811570044,
          325.1799141101865,
          326.7244446509143,
          328.27177221385625,
          329.82635004140064,
          331.38971649944864,
          332.9606317541534,
          334.53507777190964,
          336.1081440970434,
          337.6810427777822,
          339.26002230418806,
          340.8488455938847,
          342.4474965561159,
          344.0521934597467,
          345.65574263624,
          347.25587260567454,
          348.8589421853661,
          350.4706401532411,
          352.09174136874435,
          353.7188909159245,
          355.34552528988525,
          356.9705066172731,
          358.5994324595262,
          360.23605540889434,
          361.8805252059712,
          363.52980803044886,
          365.17855079542744,
          366.825997607028,
          368.4771894620411,
          370.1359214637307,
          371.80270366970933,
          373.47491225633115,
          375.1469119446706,
          376.81535279603327,
          378.48465695228526,
          380.1613235529179,
          381.84780093680604,
          383.5423662976991,
          385.23912568422963,
          386.93067980682804,
          388.61899125674086,
          390.3125244434267,
          392.01499626219186,
          393.72538195174786,
          395.43810880939975,
          397.1470270082929,
          398.85452697045434,
          400.56728643467636,
          402.28763121120613,
          404.0143153782955,
          405.74254123618,
          407.4673558804925,
          409.190978133346,
          410.9195049062457,
          412.6556128254976,
          414.39848443835814,
          416.1438087989972,
          417.88504645923746,
          419.6219888767393,
          421.36184212002297,
          423.11005195188466,
          424.8674142222667,
          426.63014946528904,
          428.39000471503795,
          430.14247477666356,
          431.8939740999989,
          433.6523332705969,
          435.41932995387174,
          437.19177576653647,
          438.9619244170699,
          440.726586219661,
          442.49167137145974,
          444.2628335253351,
          446.0410390463514,
          447.8233295992268,
          449.6032187492166,
          451.37810457937474,
          453.1532912628768,
          454.934325143617,
          456.7226101526585,
          458.51569270005916,
          460.30727316289244,
          462.09191134505727,
          463.8734189073814,
          465.6600688147639,
          467.4556305111062,
          469.2588941053925,
          471.0636703716775,
          472.860145827178,
          474.6471529049368,
          476.4353358149431,
          478.2336968446629,
          480.0440127702252,
          481.8609557336465,
          483.67216019203966,
          485.47052274410845,
          487.2653496202439,
          489.06746853297193,
          490.8783680421168,
          492.6931396822978,
          494.5027579517309,
          496.30693410224967,
          498.11310574674627,
          499.9245302634179,
          501.74041935875675,
          503.55639608830813,
          505.3677844054419,
          507.17644406193574,
          508.98784057312514,
          510.80444477833214,
          512.6256078437445,
          514.4475612624241,
          516.2639581841522,
          518.0730832845676,
          519.8818273237624,
          521.6975809756937,
          523.522705637803,
          525.3544164305343,
          527.1847821973422,
          529.0035803506745,
          530.8133470857666,
          532.6260177982748,
          534.4467937595897,
          536.2740943147338,
          538.1001061166171,
          539.9183452245954,
          541.7331247263744,
          543.5516291140011,
          545.3755630062648,
          547.2026496803006,
          549.0268109639171,
          550.8444429795203,
          552.659907355335,
          554.4791966736526,
          556.3043510085777,
          558.1336043751855,
          559.96138472953,
          561.780342048984,
          563.5915105282395,
          565.4044827759915,
          567.2261434402403,
          569.0573705497304,
          570.8930433111207,
          572.7220517563849,
          574.537099065173,
          576.3466032563119,
          578.1621429436525,
          579.9861554956949,
          581.8142984559261,
          583.636556488243,
          585.4503555836685,
          587.2635425518861,
          589.0815893805917,
          590.9047165739244,
          592.7287843617568,
          594.5467718214375,
          596.3581549581513,
          598.1697753941431,
          599.986454730347,
          601.8087767000801,
          603.633224691742,
          605.4522775340246,
          607.2607014008045,
          609.0643006932376,
          610.8732367781328,
          612.6920814093321,
          614.5191061731099,
          616.3462824881602,
          618.1609695265887,
          619.9628535399098,
          621.764961726185,
          623.5751749696958,
          625.3930957221406,
          627.2111656063133,
          629.0197372157688,
          630.8213426796692,
          632.6254598830094,
          634.4353506875914,
          636.2494308298268,
          638.0613739137192,
          639.8650272307326,
          641.6635679869714,
          643.4648186152054,
          645.2722135043259,
          647.0846936851899,
          648.896706830617,
          650.6994184473416,
          652.4916481127167,
          654.2832724661185,
          656.0831690768484,
          657.8934842397325,
          659.7096348494512,
          661.5203084005265,
          663.3151913558472,
          665.1013438372813,
          666.8927456710469,
          668.6934482949312,
          670.4998775529475,
          672.3012331756909,
          674.0918916698575,
          675.8793574650831,
          677.6716213519735,
          679.4700813413085,
          681.2710022121593,
          683.0661297568233,
          684.8523800180847,
          686.636631758055,
          688.4258675159626,
          690.2218980805796,
          692.0216633813509,
          693.8172344522076,
          695.6007662935446,
          697.3765034111582,
          699.156353184777,
          700.946747315787,
          702.7469845472342,
          704.5492306638325,
          706.3394199003635,
          708.1143814055599,
          709.8873568298452,
          711.6688095082045,
          713.4595808983368,
          715.2525303681898,
          717.0357333256559,
          718.8094120800275,
          720.584403070036,
          722.3659858602441,
          724.15344618433,
          725.9405444882799,
          727.7187398047201,
          729.4893690273817,
          731.261749705007,
          733.0410635584835,
          734.8271633225017,
          736.614643463822,
          738.3934494974154,
          740.1598013908177,
          741.9233217432043,
          743.6950706115731,
          745.4786650187921,
          747.2701777263612,
          749.0581372344188,
          750.8295090419592,
          752.5895817629842,
          754.3542658901845,
          756.129516083448,
          757.9126277314006,
          759.6925378863278,
          761.460420336043,
          763.2227537990929,
          764.9900782575742,
          766.7651289015012,
          768.5447196178379,
          770.3199074149272,
          772.0848586962637,
          773.8457599217977,
          775.6117689969587,
          777.3860758976653,
          779.1662207182926,
          780.9440936716715,
          782.709539920663,
          784.4648620588657,
          786.2232489317976,
          787.9930939251249,
          789.7748081562663,
          791.560846549845,
          793.3361078376627,
          795.0944517872557,
          796.8488477324303,
          798.6123445142357,
          800.3870996846371,
          802.1664700711534,
          803.9368856846038,
          805.6958999050246,
          807.4549647395963,
          809.2216588224018,
          810.9962777184935,
          812.7727952079505,
          814.5408364070352,
          816.2994602069881,
          818.0587601240138,
          819.8259570983395,
          821.6019627445189,
          823.3816413350434,
          825.1540529965746,
          826.9127191151811,
          828.6665179690253,
          830.4286305710875,
          832.2042399909603,
          833.9901582575826,
          835.7748263592373,
          837.54288381984,
          839.2975648819919,
          841.056214000055,
          842.8268736777611,
          844.6077786763806,
          846.3879512715741,
          848.1554460263444,
          849.9152048231704,
          851.6801418692143,
          853.4544998178741,
          855.235762463425,
          857.0146917522538,
          858.7826601555844,
          860.5446007524952,
          862.3117472716181,
          864.088816561362,
          865.874074420839,
          867.6593355998714,
          869.4325050430103,
          871.1936613454488,
          872.9567642111292,
          874.732304336243,
          876.5218854602549,
          878.3183217796073,
          880.1057578380477,
          881.875036244275,
          883.6384821600859,
          885.4116908059439,
          887.1982039992542,
          888.9919358479242,
          890.7781523672022,
          892.5515100236754,
          894.323487332159,
          896.1041223372627,
          897.8948454368099,
          899.6899473933996,
          901.4776756729848,
          903.2545158150755,
          905.0307319764111,
          906.8157574650904,
          908.6116966649041,
          910.4137919375779,
          912.2104797056238,
          913.9925654863805,
          915.7677899938341,
          917.5513411205577,
          919.350056180457,
          921.1615593202316,
          922.9742615193709,
          924.7707959880111,
          926.5521332167754,
          928.3366478074526,
          930.1346057590979,
          931.9452447840515,
          933.757754516579,
          935.5575221681502,
          937.3475602732797,
          939.1426187590235,
          940.9487618489609,
          942.7642547106994,
          944.5798031783193,
          946.3841259235264,
          948.1804552281656,
          949.9818360262309,
          951.7947223125004,
          953.6182475340587,
          955.444269013828,
          957.2590829929809,
          959.0603625969622,
          960.8624825871536,
          962.6782452478617,
          964.5106675610848,
          966.353144322356,
          968.1894556308504,
          970.0076876036394,
          971.819686342262,
          973.6441513780583,
          975.4868570444828,
          977.3433211464692,
          979.1992663058477,
          981.0480942674156,
          982.9035967061917,
          984.7820239070611,
          986.6900687369164,
          988.6264797837777,
          990.5826115729953,
          992.5571269592036,
          994.5674034689988,
          996.6330429885224,
          998.7620862078808,
          1000.9509715448941,
          1003.1846396166625,
          1005.4516358154949,
          1007.761248088136,
          1010.1276093907768,
          1012.5535117031163,
          1015.0322572622695,
          1017.5476585627803,
          1020.0827183408901,
          1022.6411718606496,
          1025.2380546437735,
          1027.8785403328625,
          1030.559135927089,
          1033.2677445826298,
          1035.9868866767492,
          1038.7148643540177,
          1041.4671269011205,
          1044.2540852897926,
          1047.0758707862415,
          1049.9227009103597,
          1052.7754107246,
          1055.6238411148672,
          1058.4820183647753,
          1061.3681137253993,
          1064.2875123523472,
          1067.2332452552996,
          1070.185989297988,
          1073.1249705366392,
          1076.058042736133,
          1079.0113633662763,
          1081.9977745197068,
          1085.01472073894,
          1088.0442867441077,
          1091.0585896085602,
          1094.0583932561185,
          1097.070696952546,
          1100.1090860132078,
          1103.1717088012979,
          1106.243269188171,
          1109.3079067203716,
          1112.3736675307046,
          1115.4582450564271,
          1118.5673921866664,
          1121.699213465239,
          1124.844436438131,
          1127.998502883141,
          1131.1716147182242,
          1134.3759937286136,
          1137.616058722106,
          1140.8895389538498,
          1144.1874741263587,
          1147.4956097504828,
          1150.8092037848153,
          1154.1390764939079,
          1157.4952186459075,
          1160.8776672735219,
          1164.27641181712,
          1167.6713941247478,
          1171.0380953380668,
          1174.3803194358154,
          1177.7234905586356,
          1181.0785709875172,
          1184.4412646213864,
          1187.7936296764124,
          1191.1234257658734,
          1194.4414944866141,
          1197.7620667596511,
          1201.0880275941881,
          1204.4141335504755,
          1207.7279819970936,
          1211.02493819425,
          1214.3158817730252,
          1217.6122304724295,
          1220.9175266718275,
          1224.2277888396054,
          1227.5315115331832,
          1230.814374240741,
          1234.0802192177612,
          1237.3502190698555,
          1240.6392848842988,
          1243.949576527066,
          1247.2705033963482,
          1250.57872442257,
          1253.8561756092674,
          1257.1202492860393,
          1260.3985701393399,
          1263.6977556158154,
          1267.0095815524596,
          1270.3131076658053,
          1273.6026938362638,
          1276.8949570864095,
          1280.20174318701,
          1283.5244178296753,
          1286.8562228310725,
          1290.185486626072,
          1293.5130380612486,
          1296.8508076166531,
          1300.2051496543,
          1303.5762628121347,
          1306.9586860710028,
          1310.3413052105293,
          1313.7125514632555,
          1317.0735936797657,
          1320.43411543567,
          1323.7978703296985,
          1327.1604601416539,
          1330.509334832388,
          1333.8246926019522,
          1337.0992539729243,
          1340.3494616187986,
          1343.5926225435305,
          1346.8323612642052,
          1350.059256617424,
          1353.2521818369594,
          1356.4038099420695,
          1359.533185191616,
          1362.6591019633202,
          1365.7864791120255,
          1368.9077615921,
          1372.0033568358213,
          1375.062361036914,
          1378.1012359478673,
          1381.1417405227223,
          1384.1915026003255,
          1387.245045837029,
          1390.2837897067036,
          1393.2887335647315,
          1396.2703024131781,
          1399.2552555013417,
          1402.2559835491745,
          1405.2700781348233,
          1408.2803507581189,
          1411.2609075401056,
          1414.2131735172493,
          1417.1660324746142,
          1420.1382473763915,
          1423.1313122316888,
          1426.1300737683127,
          1429.1046628215513,
          1432.0449677445358,
          1434.9771511769331,
          1437.9267592624412,
          1440.8993832860165,
          1443.8821868406685,
          1446.844037370537,
          1449.7616574147178,
          1452.6527553314959,
          1455.5476211717614,
          1458.455902407544,
          1461.3688948106596,
          1464.2595424527253,
          1467.0950508843794,
          1469.8828877199835,
          1472.6610205494424,
          1475.4500141915591,
          1478.2485375769031,
          1481.033623883664,
          1483.7677005508094,
          1486.4518825966102,
          1489.123716050247,
          1491.8024597315332,
          1494.4858509730984,
          1497.1530726834362,
          1499.78505737197,
          1502.3938902689974,
          1505.000991579262,
          1507.611628170745,
          1510.2203450991242,
          1512.8119126717838,
          1515.3798274055112,
          1517.9369844385083,
          1520.4973219697858,
          1523.0651263432217,
          1525.6358112104956,
          1528.1959176782425,
          1530.7306850156463,
          1533.2469437394893,
          1535.7678135696494,
          1538.3075472729877,
          1540.8669990763897,
          1543.4336246667767,
          1545.981624847052,
          1548.4969764501452,
          1551.0017361682162,
          1553.5230055776494,
          1556.0671511958567,
          1558.6244760842037,
          1561.1714750807482,
          1563.7022753366255,
          1566.237562371116,
          1568.7937132048928,
          1571.3746453891208,
          1573.9742736527605,
          1576.5788814358882,
          1579.1893761182932,
          1581.8252478193444,
          1584.5018204297526,
          1587.2242966977915,
          1589.9886273882885,
          1592.7815120960959,
          1595.586716714042,
          1598.4051867940127,
          1601.2514353387542,
          1604.1318375049736,
          1607.0403342212942,
          1609.9584321882694,
          1612.8552038783623,
          1615.7061854954554,
          1618.5262865707457,
          1621.3433824655592,
          1624.16311727069,
          1626.97415326802,
          1629.7513517900072,
          1632.489099504137,
          1635.2075012670773,
          1637.9201904237461,
          1640.6281906050858,
          1643.3219872272657,
          1645.9860984037539,
          1648.6218525087245,
          1651.247135896323,
          1653.8738166063501,
          1656.5038507878335,
          1659.1295064848046,
          1661.733615083479,
          1664.304736364209,
          1666.8581647253598,
          1669.4197626137434,
          1672.0018795165793,
          1674.6015301421612,
          1677.2003944198693,
          1679.7675591600664,
          1682.2998900418825,
          1684.8295091032192,
          1687.378601876512,
          1689.948115835895,
          1692.5214988707355,
          1695.0751465200458,
          1697.6139896389818,
          1700.161330487906,
          1702.726222590772,
          1705.306639908376,
          1707.8899618102223,
          1710.4630346812478,
          1713.0331239312627,
          1715.6180810041953,
          1718.2261666664176,
          1720.85660087752,
          1723.4995659792553,
          1726.1371187340324,
          1728.7609032098558,
          1731.3857852389692,
          1734.030393656226,
          1736.7002605235189,
          1739.387253728075,
          1742.0695769824665,
          1744.7154085562659,
          1747.3227184834948,
          1749.9222742297125,
          1752.5329749373368,
          1755.1531981596415,
          1757.7636395407199,
          1760.3424445885687,
          1762.898051576665,
          1765.4530462114642,
          1768.014553555398,
          1770.5785593099515,
          1773.1301050684492,
          1775.6574531415613,
          1778.1707554835693,
          1780.6881117179298,
          1783.2171903747317,
          1785.7554185570891,
          1788.2899819411377,
          1790.8009184937391,
          1793.2868844714505,
          1795.7723971856522,
          1798.2792265307667,
          1800.8131784598334,
          1803.3640574157616,
          1805.905666331339,
          1808.4112400311938,
          1810.8961450566035,
          1813.3959266477927,
          1815.9220682318487,
          1818.4674061612936,
          1821.0071263794252,
          1823.5267827951252,
          1826.0433045950595,
          1828.5764274122557,
          1831.1303880371106,
          1833.697737752434,
          1836.2605357414395,
          1838.8119165328912,
          1841.3680293135644,
          1843.9459452047736,
          1846.5506873531826,
          1849.1759190204118,
          1851.8039435830372,
          1854.4121816265326,
          1857.0036116323768,
          1859.605702808317,
          1862.2351832701154,
          1864.887837527735,
          1867.5385050269144,
          1870.1418642473468,
          1872.6807028201656,
          1875.1858045370022,
          1877.672544092402,
          1882.1426776103826,
          1896.6647146585005,
          1956.0326770235793,
          2199.6158792270403,
          2895.7444293424905,
          3887.838936576917,
          4554.186857483687,
          4755.206139157612,
          4771.849993562202,
          4746.347468403347,
          4714.019290999661,
          4685.559667555848,
          4678.134425981817,
          4752.701898422348,
          5024.543588182125,
          5419.948992820937,
          5665.921360091388,
          5706.119989404401,
          5666.125647449171,
          5608.332452696118,
          5548.254970179487,
          5490.826623279807,
          5445.120420226421,
          5443.77490084021,
          5547.756079908496,
          5716.837557199201,
          5805.325205201171,
          5783.788783485417,
          5720.209712001772,
          5648.464815263875,
          5577.0106835850775,
          5509.192833765201,
          5452.752867808742,
          5436.08756713406,
          5512.630257837476,
          5646.8199801540795,
          5710.592997362457,
          5678.6867153674375,
          5610.87685971172,
          5536.951290498005,
          5464.365163536668,
          5396.094274958391,
          5339.807727980578,
          5324.421304456126,
          5403.930578421716,
          5541.301790123691,
          5606.157956192037,
          5573.296968783154,
          5503.9378727175845,
          5428.290618120902,
          5353.631158765991,
          5282.051280864048,
          5217.367095042016,
          5173.628983786876,
          5177.453551425608,
          5210.594345757074,
          5208.217355759278,
          5157.738834770816,
          5089.52977771222,
          5018.6187134042375,
          4948.300178194042,
          4877.73205608977,
          4802.309694965975,
          4704.108914346292,
          4547.933182966196,
          4356.190612121322,
          4212.853759617396,
          4134.864417134649,
          4082.717286070798,
          4036.3523471483813,
          3990.0423749968472,
          3941.789810714742,
          3890.0940520100658,
          3830.12361972789,
          3752.2907424518044,
          3664.334485034592,
          3591.5491444386225,
          3538.8328859941544,
          3494.579885373293,
          3452.9885907374737,
          3412.67565767974,
          3373.6159064421336,
          3336.9970103461446,
          3307.7666804058945,
          3295.2292359765897,
          3293.1105949947596,
          3279.079135149877,
          3248.7908444700747,
          3212.6135877523297,
          3175.403981274563,
          3138.490241177217,
          3104.0818291002824,
          3082.857163226274,
          3116.9655262167244,
          3283.4005695027104,
          3526.686548525802,
          3660.187490795807,
          3651.0087291242126,
          3588.4460156905675,
          3515.9989947157455,
          3443.7020268603665,
          3373.3681143339095,
          3305.442968422779,
          3239.983141370408,
          3177.0665007514776,
          3116.742712692926,
          3059.0412184300567,
          3003.944028906942,
          2951.3954335146937,
          2901.6798231865832,
          2855.5108407765883,
          2813.488980149066,
          2775.78346026477,
          2743.167868277764,
          2717.65147457117,
          2696.7273031717614,
          2673.304731629165,
          2645.872934109318,
          2617.4627308359004,
          2589.2978864879274,
          2560.9977204644874,
          2532.1338429898124,
          2503.4867248723726,
          2478.3221807912287,
          2462.204488473963,
          2451.9877565209986,
          2435.763660558384,
          2411.4229794728117,
          2384.776202435618,
          2358.6715014783244,
          2333.9354742974383,
          2311.0049295022714,
          2291.042852655094,
          2278.76667617435,
          2282.937588441477,
          2297.1564272136357,
          2299.6317278404267,
          2286.173031861727,
          2267.1123111251745,
          2247.7177086170386,
          2229.4613376613197,
          2212.771817461467,
          2197.5895371214433,
          2183.53800087375,
          2170.0332673257017,
          2156.305212687085,
          2141.887383572216,
          2126.8611743793786,
          2111.576047282195,
          2096.3855438876726,
          2081.526099512049,
          2067.116556549509,
          2053.2163276292777,
          2039.8863809297286,
          2027.2079610002747,
          2015.2456726256435,
          2003.944105764313,
          1993.1725234945657,
          1982.8232807896813,
          1972.7731931047128,
          1962.8362849846335,
          1952.8799800385336,
          1942.8998538770702,
          1932.9453968284702,
          1922.946200920535,
          1912.625768028082,
          1901.8021059824105,
          1890.6131573845228,
          1879.32980654826,
          1868.108355704361,
          1856.9177623231071,
          1845.6891188480022,
          1834.4872083968667,
          1823.4527361051228,
          1812.6628650602424,
          1802.0856760397749,
          1791.668003113704,
          1781.429445779388,
          1771.4679211790383,
          1761.9679842713435,
          1753.1269533384623,
          1745.053055612094,
          1737.7709771580794,
          1731.2101425131689,
          1725.3725504164495,
          1720.5002159823093,
          1716.8471191243602,
          1714.3402136845039,
          1712.6339470438554,
          1711.370552143558,
          1710.2509723894896,
          1709.0590124311025,
          1707.7234713897244,
          1706.2085272567037,
          1704.326945883705,
          1701.719885634987,
          1698.0705233563767,
          1693.394959319592,
          1688.0120721926448,
          1682.2962269988773,
          1676.5514255815265,
          1670.9500744657912,
          1665.5667412666353,
          1660.4787011158066,
          1655.8478146351604,
          1651.8706341305335,
          1648.5535726240305,
          1645.7033032643196,
          1643.1114452815918,
          1640.6480625820598,
          1638.2247969930143,
          1635.7948586259017,
          1633.3455918683449,
          1630.877310406653,
          1628.432891318771,
          1626.128339170154,
          1624.1437694278707,
          1622.5624686810568,
          1621.3073178037314,
          1620.2540402000116,
          1619.2963907009907,
          1618.3827409527169,
          1617.4841192219506,
          1616.560402086413,
          1615.580116262928,
          1614.5365526408839,
          1613.4298903385716,
          1612.2501836976598,
          1610.9949717002564,
          1609.674526272704,
          1608.295947828685,
          1606.8584532503787,
          1605.3607227674188,
          1603.7912237407058,
          1602.0944054074203,
          1600.177463558845,
          1597.952851000598,
          1595.4230693411591,
          1592.6720921882863,
          1589.7694554782345,
          1586.7363317485383,
          1583.575398587117,
          1580.304797315756,
          1576.9404273807622,
          1573.3874292739847,
          1569.4589583859158,
          1565.0772278629447,
          1560.3392526469775,
          1555.4061428297673,
          1550.3953904349871,
          1545.352874452136,
          1540.288376976862,
          1535.2389083972812,
          1530.3041398036353,
          1525.7031189431166,
          1521.7154662166054,
          1518.4536870167074,
          1515.7434785377295,
          1513.3351252927632,
          1511.0944878764167,
          1508.9327641817736,
          1506.7957040965762,
          1504.6679548293548,
          1502.547490245132,
          1500.5456527684469,
          1498.801607443223,
          1497.2724100615426,
          1495.8042241026837,
          1494.319567552168,
          1492.924707997809,
          1491.9304641266654,
          1491.59012388362,
          1491.8630499593196,
          1492.4942314537554,
          1493.147357897617,
          1493.5322444832343,
          1493.5973760528725,
          1493.4529200880738,
          1493.1388463344538,
          1492.5701409349006,
          1491.510404609251,
          1489.7448422481343,
          1487.3083758996818,
          1484.394991168976,
          1481.1408873942719,
          1477.6033319061726,
          1473.860940734188,
          1470.0367622788535,
          1466.242523714569,
          1462.5596342834353,
          1459.061442861844,
          1455.8057541622675,
          1452.788561722275,
          1449.9604187393088,
          1447.2614553484177,
          1444.6225931737072,
          1441.9950046723152,
          1439.3577847185907,
          1436.710189032101,
          1434.085735970962,
          1431.5382921659175,
          1429.105373290671,
          1426.7974123974104,
          1424.5858519854266,
          1422.4267932823186,
          1420.2947190284692,
          1418.15752116323,
          1415.9940811674342,
          1413.8071691173843,
          1411.5438898790555,
          1409.0548207223912,
          1406.2300257987747,
          1403.0986555482602,
          1399.78234526091,
          1396.4232079461747,
          1393.120861800778,
          1389.8684891075936,
          1386.603090193119,
          1383.3221457812808,
          1380.0846902788223,
          1376.9795220298506,
          1374.0799099308015,
          1371.3888951370614,
          1368.861046415218,
          1366.4266698730462,
          1363.978888838844,
          1361.4535436469992,
          1358.8610506089105,
          1356.2186440834985,
          1353.5571567399961,
          1350.9307289923022,
          1348.3790231406078,
          1345.9110181294454,
          1343.5150771095873,
          1341.1887614028697,
          1338.936581523572,
          1336.7601009274983,
          1334.6740444563684,
          1332.6789714587512,
          1330.718190745946
         ],
         "yaxis": "y"
        }
       ],
       "layout": {
        "legend": {
         "title": {
          "text": "variable"
         },
         "tracegroupgap": 0
        },
        "margin": {
         "t": 60
        },
        "template": {
         "data": {
          "bar": [
           {
            "error_x": {
             "color": "#2a3f5f"
            },
            "error_y": {
             "color": "#2a3f5f"
            },
            "marker": {
             "line": {
              "color": "#E5ECF6",
              "width": 0.5
             },
             "pattern": {
              "fillmode": "overlay",
              "size": 10,
              "solidity": 0.2
             }
            },
            "type": "bar"
           }
          ],
          "barpolar": [
           {
            "marker": {
             "line": {
              "color": "#E5ECF6",
              "width": 0.5
             },
             "pattern": {
              "fillmode": "overlay",
              "size": 10,
              "solidity": 0.2
             }
            },
            "type": "barpolar"
           }
          ],
          "carpet": [
           {
            "aaxis": {
             "endlinecolor": "#2a3f5f",
             "gridcolor": "white",
             "linecolor": "white",
             "minorgridcolor": "white",
             "startlinecolor": "#2a3f5f"
            },
            "baxis": {
             "endlinecolor": "#2a3f5f",
             "gridcolor": "white",
             "linecolor": "white",
             "minorgridcolor": "white",
             "startlinecolor": "#2a3f5f"
            },
            "type": "carpet"
           }
          ],
          "choropleth": [
           {
            "colorbar": {
             "outlinewidth": 0,
             "ticks": ""
            },
            "type": "choropleth"
           }
          ],
          "contour": [
           {
            "colorbar": {
             "outlinewidth": 0,
             "ticks": ""
            },
            "colorscale": [
             [
              0,
              "#0d0887"
             ],
             [
              0.1111111111111111,
              "#46039f"
             ],
             [
              0.2222222222222222,
              "#7201a8"
             ],
             [
              0.3333333333333333,
              "#9c179e"
             ],
             [
              0.4444444444444444,
              "#bd3786"
             ],
             [
              0.5555555555555556,
              "#d8576b"
             ],
             [
              0.6666666666666666,
              "#ed7953"
             ],
             [
              0.7777777777777778,
              "#fb9f3a"
             ],
             [
              0.8888888888888888,
              "#fdca26"
             ],
             [
              1,
              "#f0f921"
             ]
            ],
            "type": "contour"
           }
          ],
          "contourcarpet": [
           {
            "colorbar": {
             "outlinewidth": 0,
             "ticks": ""
            },
            "type": "contourcarpet"
           }
          ],
          "heatmap": [
           {
            "colorbar": {
             "outlinewidth": 0,
             "ticks": ""
            },
            "colorscale": [
             [
              0,
              "#0d0887"
             ],
             [
              0.1111111111111111,
              "#46039f"
             ],
             [
              0.2222222222222222,
              "#7201a8"
             ],
             [
              0.3333333333333333,
              "#9c179e"
             ],
             [
              0.4444444444444444,
              "#bd3786"
             ],
             [
              0.5555555555555556,
              "#d8576b"
             ],
             [
              0.6666666666666666,
              "#ed7953"
             ],
             [
              0.7777777777777778,
              "#fb9f3a"
             ],
             [
              0.8888888888888888,
              "#fdca26"
             ],
             [
              1,
              "#f0f921"
             ]
            ],
            "type": "heatmap"
           }
          ],
          "heatmapgl": [
           {
            "colorbar": {
             "outlinewidth": 0,
             "ticks": ""
            },
            "colorscale": [
             [
              0,
              "#0d0887"
             ],
             [
              0.1111111111111111,
              "#46039f"
             ],
             [
              0.2222222222222222,
              "#7201a8"
             ],
             [
              0.3333333333333333,
              "#9c179e"
             ],
             [
              0.4444444444444444,
              "#bd3786"
             ],
             [
              0.5555555555555556,
              "#d8576b"
             ],
             [
              0.6666666666666666,
              "#ed7953"
             ],
             [
              0.7777777777777778,
              "#fb9f3a"
             ],
             [
              0.8888888888888888,
              "#fdca26"
             ],
             [
              1,
              "#f0f921"
             ]
            ],
            "type": "heatmapgl"
           }
          ],
          "histogram": [
           {
            "marker": {
             "pattern": {
              "fillmode": "overlay",
              "size": 10,
              "solidity": 0.2
             }
            },
            "type": "histogram"
           }
          ],
          "histogram2d": [
           {
            "colorbar": {
             "outlinewidth": 0,
             "ticks": ""
            },
            "colorscale": [
             [
              0,
              "#0d0887"
             ],
             [
              0.1111111111111111,
              "#46039f"
             ],
             [
              0.2222222222222222,
              "#7201a8"
             ],
             [
              0.3333333333333333,
              "#9c179e"
             ],
             [
              0.4444444444444444,
              "#bd3786"
             ],
             [
              0.5555555555555556,
              "#d8576b"
             ],
             [
              0.6666666666666666,
              "#ed7953"
             ],
             [
              0.7777777777777778,
              "#fb9f3a"
             ],
             [
              0.8888888888888888,
              "#fdca26"
             ],
             [
              1,
              "#f0f921"
             ]
            ],
            "type": "histogram2d"
           }
          ],
          "histogram2dcontour": [
           {
            "colorbar": {
             "outlinewidth": 0,
             "ticks": ""
            },
            "colorscale": [
             [
              0,
              "#0d0887"
             ],
             [
              0.1111111111111111,
              "#46039f"
             ],
             [
              0.2222222222222222,
              "#7201a8"
             ],
             [
              0.3333333333333333,
              "#9c179e"
             ],
             [
              0.4444444444444444,
              "#bd3786"
             ],
             [
              0.5555555555555556,
              "#d8576b"
             ],
             [
              0.6666666666666666,
              "#ed7953"
             ],
             [
              0.7777777777777778,
              "#fb9f3a"
             ],
             [
              0.8888888888888888,
              "#fdca26"
             ],
             [
              1,
              "#f0f921"
             ]
            ],
            "type": "histogram2dcontour"
           }
          ],
          "mesh3d": [
           {
            "colorbar": {
             "outlinewidth": 0,
             "ticks": ""
            },
            "type": "mesh3d"
           }
          ],
          "parcoords": [
           {
            "line": {
             "colorbar": {
              "outlinewidth": 0,
              "ticks": ""
             }
            },
            "type": "parcoords"
           }
          ],
          "pie": [
           {
            "automargin": true,
            "type": "pie"
           }
          ],
          "scatter": [
           {
            "fillpattern": {
             "fillmode": "overlay",
             "size": 10,
             "solidity": 0.2
            },
            "type": "scatter"
           }
          ],
          "scatter3d": [
           {
            "line": {
             "colorbar": {
              "outlinewidth": 0,
              "ticks": ""
             }
            },
            "marker": {
             "colorbar": {
              "outlinewidth": 0,
              "ticks": ""
             }
            },
            "type": "scatter3d"
           }
          ],
          "scattercarpet": [
           {
            "marker": {
             "colorbar": {
              "outlinewidth": 0,
              "ticks": ""
             }
            },
            "type": "scattercarpet"
           }
          ],
          "scattergeo": [
           {
            "marker": {
             "colorbar": {
              "outlinewidth": 0,
              "ticks": ""
             }
            },
            "type": "scattergeo"
           }
          ],
          "scattergl": [
           {
            "marker": {
             "colorbar": {
              "outlinewidth": 0,
              "ticks": ""
             }
            },
            "type": "scattergl"
           }
          ],
          "scattermapbox": [
           {
            "marker": {
             "colorbar": {
              "outlinewidth": 0,
              "ticks": ""
             }
            },
            "type": "scattermapbox"
           }
          ],
          "scatterpolar": [
           {
            "marker": {
             "colorbar": {
              "outlinewidth": 0,
              "ticks": ""
             }
            },
            "type": "scatterpolar"
           }
          ],
          "scatterpolargl": [
           {
            "marker": {
             "colorbar": {
              "outlinewidth": 0,
              "ticks": ""
             }
            },
            "type": "scatterpolargl"
           }
          ],
          "scatterternary": [
           {
            "marker": {
             "colorbar": {
              "outlinewidth": 0,
              "ticks": ""
             }
            },
            "type": "scatterternary"
           }
          ],
          "surface": [
           {
            "colorbar": {
             "outlinewidth": 0,
             "ticks": ""
            },
            "colorscale": [
             [
              0,
              "#0d0887"
             ],
             [
              0.1111111111111111,
              "#46039f"
             ],
             [
              0.2222222222222222,
              "#7201a8"
             ],
             [
              0.3333333333333333,
              "#9c179e"
             ],
             [
              0.4444444444444444,
              "#bd3786"
             ],
             [
              0.5555555555555556,
              "#d8576b"
             ],
             [
              0.6666666666666666,
              "#ed7953"
             ],
             [
              0.7777777777777778,
              "#fb9f3a"
             ],
             [
              0.8888888888888888,
              "#fdca26"
             ],
             [
              1,
              "#f0f921"
             ]
            ],
            "type": "surface"
           }
          ],
          "table": [
           {
            "cells": {
             "fill": {
              "color": "#EBF0F8"
             },
             "line": {
              "color": "white"
             }
            },
            "header": {
             "fill": {
              "color": "#C8D4E3"
             },
             "line": {
              "color": "white"
             }
            },
            "type": "table"
           }
          ]
         },
         "layout": {
          "annotationdefaults": {
           "arrowcolor": "#2a3f5f",
           "arrowhead": 0,
           "arrowwidth": 1
          },
          "autotypenumbers": "strict",
          "coloraxis": {
           "colorbar": {
            "outlinewidth": 0,
            "ticks": ""
           }
          },
          "colorscale": {
           "diverging": [
            [
             0,
             "#8e0152"
            ],
            [
             0.1,
             "#c51b7d"
            ],
            [
             0.2,
             "#de77ae"
            ],
            [
             0.3,
             "#f1b6da"
            ],
            [
             0.4,
             "#fde0ef"
            ],
            [
             0.5,
             "#f7f7f7"
            ],
            [
             0.6,
             "#e6f5d0"
            ],
            [
             0.7,
             "#b8e186"
            ],
            [
             0.8,
             "#7fbc41"
            ],
            [
             0.9,
             "#4d9221"
            ],
            [
             1,
             "#276419"
            ]
           ],
           "sequential": [
            [
             0,
             "#0d0887"
            ],
            [
             0.1111111111111111,
             "#46039f"
            ],
            [
             0.2222222222222222,
             "#7201a8"
            ],
            [
             0.3333333333333333,
             "#9c179e"
            ],
            [
             0.4444444444444444,
             "#bd3786"
            ],
            [
             0.5555555555555556,
             "#d8576b"
            ],
            [
             0.6666666666666666,
             "#ed7953"
            ],
            [
             0.7777777777777778,
             "#fb9f3a"
            ],
            [
             0.8888888888888888,
             "#fdca26"
            ],
            [
             1,
             "#f0f921"
            ]
           ],
           "sequentialminus": [
            [
             0,
             "#0d0887"
            ],
            [
             0.1111111111111111,
             "#46039f"
            ],
            [
             0.2222222222222222,
             "#7201a8"
            ],
            [
             0.3333333333333333,
             "#9c179e"
            ],
            [
             0.4444444444444444,
             "#bd3786"
            ],
            [
             0.5555555555555556,
             "#d8576b"
            ],
            [
             0.6666666666666666,
             "#ed7953"
            ],
            [
             0.7777777777777778,
             "#fb9f3a"
            ],
            [
             0.8888888888888888,
             "#fdca26"
            ],
            [
             1,
             "#f0f921"
            ]
           ]
          },
          "colorway": [
           "#636efa",
           "#EF553B",
           "#00cc96",
           "#ab63fa",
           "#FFA15A",
           "#19d3f3",
           "#FF6692",
           "#B6E880",
           "#FF97FF",
           "#FECB52"
          ],
          "font": {
           "color": "#2a3f5f"
          },
          "geo": {
           "bgcolor": "white",
           "lakecolor": "white",
           "landcolor": "#E5ECF6",
           "showlakes": true,
           "showland": true,
           "subunitcolor": "white"
          },
          "hoverlabel": {
           "align": "left"
          },
          "hovermode": "closest",
          "mapbox": {
           "style": "light"
          },
          "paper_bgcolor": "white",
          "plot_bgcolor": "#E5ECF6",
          "polar": {
           "angularaxis": {
            "gridcolor": "white",
            "linecolor": "white",
            "ticks": ""
           },
           "bgcolor": "#E5ECF6",
           "radialaxis": {
            "gridcolor": "white",
            "linecolor": "white",
            "ticks": ""
           }
          },
          "scene": {
           "xaxis": {
            "backgroundcolor": "#E5ECF6",
            "gridcolor": "white",
            "gridwidth": 2,
            "linecolor": "white",
            "showbackground": true,
            "ticks": "",
            "zerolinecolor": "white"
           },
           "yaxis": {
            "backgroundcolor": "#E5ECF6",
            "gridcolor": "white",
            "gridwidth": 2,
            "linecolor": "white",
            "showbackground": true,
            "ticks": "",
            "zerolinecolor": "white"
           },
           "zaxis": {
            "backgroundcolor": "#E5ECF6",
            "gridcolor": "white",
            "gridwidth": 2,
            "linecolor": "white",
            "showbackground": true,
            "ticks": "",
            "zerolinecolor": "white"
           }
          },
          "shapedefaults": {
           "line": {
            "color": "#2a3f5f"
           }
          },
          "ternary": {
           "aaxis": {
            "gridcolor": "white",
            "linecolor": "white",
            "ticks": ""
           },
           "baxis": {
            "gridcolor": "white",
            "linecolor": "white",
            "ticks": ""
           },
           "bgcolor": "#E5ECF6",
           "caxis": {
            "gridcolor": "white",
            "linecolor": "white",
            "ticks": ""
           }
          },
          "title": {
           "x": 0.05
          },
          "xaxis": {
           "automargin": true,
           "gridcolor": "white",
           "linecolor": "white",
           "ticks": "",
           "title": {
            "standoff": 15
           },
           "zerolinecolor": "white",
           "zerolinewidth": 2
          },
          "yaxis": {
           "automargin": true,
           "gridcolor": "white",
           "linecolor": "white",
           "ticks": "",
           "title": {
            "standoff": 15
           },
           "zerolinecolor": "white",
           "zerolinewidth": 2
          }
         }
        },
        "xaxis": {
         "anchor": "y",
         "domain": [
          0,
          1
         ],
         "title": {
          "text": "index"
         }
        },
        "yaxis": {
         "anchor": "x",
         "domain": [
          0,
          1
         ],
         "title": {
          "text": "value"
         }
        }
       }
      }
     },
     "metadata": {},
     "output_type": "display_data"
    }
   ],
   "source": [
    "derived_df_0.notifications.plot()"
   ]
  }
 ],
 "metadata": {
  "kernelspec": {
   "display_name": "autumn",
   "language": "python",
   "name": "python3"
  },
  "language_info": {
   "codemirror_mode": {
    "name": "ipython",
    "version": 3
   },
   "file_extension": ".py",
   "mimetype": "text/x-python",
   "name": "python",
   "nbconvert_exporter": "python",
   "pygments_lexer": "ipython3",
   "version": "3.10.4"
  },
  "orig_nbformat": 4,
  "vscode": {
   "interpreter": {
    "hash": "32546788be758822ecff2a88079b35480b7d02e1a3a7c2c2e0e8f52550974ab3"
   }
  }
 },
 "nbformat": 4,
 "nbformat_minor": 2
}
