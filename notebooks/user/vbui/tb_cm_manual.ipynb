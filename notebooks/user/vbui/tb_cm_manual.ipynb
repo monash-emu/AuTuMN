{
 "cells": [
  {
   "cell_type": "code",
   "execution_count": 1,
   "metadata": {},
   "outputs": [],
   "source": [
    "import warnings\n",
    "from typing import List\n",
    "\n",
    "import pandas as pd\n",
    "import plotly.graph_objects as go\n",
    "import plotly.express as px\n",
    "from plotly.subplots import make_subplots\n",
    "from autumn.core.inputs.database import get_input_db\n",
    "from autumn.core.project import get_project\n",
    "from autumn.settings import Region, Models\n",
    "from autumn.core import inputs\n",
    "from autumn.core.inputs.social_mixing.build_synthetic_matrices import build_synthetic_matrices\n",
    "from autumn.core.utils.display import pretty_print\n",
    "from autumn.core.inputs.tb_camau import queries\n",
    "import pathlib\n",
    "from autumn.model_features.curve.interpolate import build_static_sigmoidal_multicurve"
   ]
  },
  {
   "cell_type": "code",
   "execution_count": 2,
   "metadata": {},
   "outputs": [],
   "source": [
    "warnings.filterwarnings(\"ignore\")\n",
    "pd.options.plotting.backend = \"plotly\""
   ]
  },
  {
   "cell_type": "code",
   "execution_count": 3,
   "metadata": {},
   "outputs": [],
   "source": [
    "csv_path = pathlib.Path(\"camau.csv\")"
   ]
  },
  {
   "cell_type": "code",
   "execution_count": 4,
   "metadata": {},
   "outputs": [],
   "source": [
    "region = Region.CAMAU\n",
    "model = Models.TBD2\n",
    "p = get_project(model, region, reload=True)\n",
    "baseline_params = p.param_set.baseline"
   ]
  },
  {
   "cell_type": "code",
   "execution_count": 5,
   "metadata": {},
   "outputs": [],
   "source": [
    "iso3 = baseline_params['country']['iso3']\n",
    "source_iso3 = baseline_params['age_mixing']['source_iso3']\n",
    "age_adjust = baseline_params['age_mixing']['age_adjust']\n",
    "age_string_map = {\n",
    "    0: \"0-4\",\n",
    "    5: \"5-14\",\n",
    "    15: \"15-34\",\n",
    "    35: \"35-49\",\n",
    "    50: \"50+\",\n",
    "}"
   ]
  },
  {
   "cell_type": "markdown",
   "metadata": {},
   "source": [
    "## Population"
   ]
  },
  {
   "cell_type": "code",
   "execution_count": 6,
   "metadata": {},
   "outputs": [
    {
     "name": "stdout",
     "output_type": "stream",
     "text": [
      "Modelled age groups are [0, 5, 15, 35, 50]\n"
     ]
    }
   ],
   "source": [
    "modelled_age_groups = baseline_params[\"age_breakpoints\"]\n",
    "print(f\"Modelled age groups are {modelled_age_groups}\")"
   ]
  },
  {
   "cell_type": "code",
   "execution_count": 7,
   "metadata": {},
   "outputs": [
    {
     "data": {
      "application/vnd.plotly.v1+json": {
       "config": {
        "plotlyServerURL": "https://plot.ly"
       },
       "data": [
        {
         "hovertemplate": "variable=population<br>year=%{x}<br>value=%{y}<extra></extra>",
         "legendgroup": "population",
         "line": {
          "color": "#636efa",
          "dash": "solid"
         },
         "marker": {
          "symbol": "circle"
         },
         "mode": "lines",
         "name": "population",
         "orientation": "v",
         "showlegend": true,
         "type": "scatter",
         "x": [
          1995,
          1996,
          1997,
          1998,
          1999,
          2000,
          2001,
          2002,
          2003,
          2004,
          2005,
          2006,
          2007,
          2008,
          2009,
          2010,
          2011,
          2012,
          2013,
          2014,
          2015,
          2016,
          2017,
          2018,
          2019
         ],
         "xaxis": "x",
         "y": [
          1041800,
          1061600,
          1081100,
          1101800,
          1123500,
          1133900,
          1145200,
          1155300,
          1164500,
          1174400,
          1182900,
          1188700,
          1195200,
          1201700,
          1207100,
          1205840,
          1204500,
          1203460,
          1202070,
          1200740,
          1199500,
          1198100,
          1197000,
          1195600,
          1194300
         ],
         "yaxis": "y"
        }
       ],
       "layout": {
        "legend": {
         "title": {
          "text": "variable"
         },
         "tracegroupgap": 0
        },
        "margin": {
         "t": 60
        },
        "template": {
         "data": {
          "bar": [
           {
            "error_x": {
             "color": "#2a3f5f"
            },
            "error_y": {
             "color": "#2a3f5f"
            },
            "marker": {
             "line": {
              "color": "#E5ECF6",
              "width": 0.5
             },
             "pattern": {
              "fillmode": "overlay",
              "size": 10,
              "solidity": 0.2
             }
            },
            "type": "bar"
           }
          ],
          "barpolar": [
           {
            "marker": {
             "line": {
              "color": "#E5ECF6",
              "width": 0.5
             },
             "pattern": {
              "fillmode": "overlay",
              "size": 10,
              "solidity": 0.2
             }
            },
            "type": "barpolar"
           }
          ],
          "carpet": [
           {
            "aaxis": {
             "endlinecolor": "#2a3f5f",
             "gridcolor": "white",
             "linecolor": "white",
             "minorgridcolor": "white",
             "startlinecolor": "#2a3f5f"
            },
            "baxis": {
             "endlinecolor": "#2a3f5f",
             "gridcolor": "white",
             "linecolor": "white",
             "minorgridcolor": "white",
             "startlinecolor": "#2a3f5f"
            },
            "type": "carpet"
           }
          ],
          "choropleth": [
           {
            "colorbar": {
             "outlinewidth": 0,
             "ticks": ""
            },
            "type": "choropleth"
           }
          ],
          "contour": [
           {
            "colorbar": {
             "outlinewidth": 0,
             "ticks": ""
            },
            "colorscale": [
             [
              0,
              "#0d0887"
             ],
             [
              0.1111111111111111,
              "#46039f"
             ],
             [
              0.2222222222222222,
              "#7201a8"
             ],
             [
              0.3333333333333333,
              "#9c179e"
             ],
             [
              0.4444444444444444,
              "#bd3786"
             ],
             [
              0.5555555555555556,
              "#d8576b"
             ],
             [
              0.6666666666666666,
              "#ed7953"
             ],
             [
              0.7777777777777778,
              "#fb9f3a"
             ],
             [
              0.8888888888888888,
              "#fdca26"
             ],
             [
              1,
              "#f0f921"
             ]
            ],
            "type": "contour"
           }
          ],
          "contourcarpet": [
           {
            "colorbar": {
             "outlinewidth": 0,
             "ticks": ""
            },
            "type": "contourcarpet"
           }
          ],
          "heatmap": [
           {
            "colorbar": {
             "outlinewidth": 0,
             "ticks": ""
            },
            "colorscale": [
             [
              0,
              "#0d0887"
             ],
             [
              0.1111111111111111,
              "#46039f"
             ],
             [
              0.2222222222222222,
              "#7201a8"
             ],
             [
              0.3333333333333333,
              "#9c179e"
             ],
             [
              0.4444444444444444,
              "#bd3786"
             ],
             [
              0.5555555555555556,
              "#d8576b"
             ],
             [
              0.6666666666666666,
              "#ed7953"
             ],
             [
              0.7777777777777778,
              "#fb9f3a"
             ],
             [
              0.8888888888888888,
              "#fdca26"
             ],
             [
              1,
              "#f0f921"
             ]
            ],
            "type": "heatmap"
           }
          ],
          "heatmapgl": [
           {
            "colorbar": {
             "outlinewidth": 0,
             "ticks": ""
            },
            "colorscale": [
             [
              0,
              "#0d0887"
             ],
             [
              0.1111111111111111,
              "#46039f"
             ],
             [
              0.2222222222222222,
              "#7201a8"
             ],
             [
              0.3333333333333333,
              "#9c179e"
             ],
             [
              0.4444444444444444,
              "#bd3786"
             ],
             [
              0.5555555555555556,
              "#d8576b"
             ],
             [
              0.6666666666666666,
              "#ed7953"
             ],
             [
              0.7777777777777778,
              "#fb9f3a"
             ],
             [
              0.8888888888888888,
              "#fdca26"
             ],
             [
              1,
              "#f0f921"
             ]
            ],
            "type": "heatmapgl"
           }
          ],
          "histogram": [
           {
            "marker": {
             "pattern": {
              "fillmode": "overlay",
              "size": 10,
              "solidity": 0.2
             }
            },
            "type": "histogram"
           }
          ],
          "histogram2d": [
           {
            "colorbar": {
             "outlinewidth": 0,
             "ticks": ""
            },
            "colorscale": [
             [
              0,
              "#0d0887"
             ],
             [
              0.1111111111111111,
              "#46039f"
             ],
             [
              0.2222222222222222,
              "#7201a8"
             ],
             [
              0.3333333333333333,
              "#9c179e"
             ],
             [
              0.4444444444444444,
              "#bd3786"
             ],
             [
              0.5555555555555556,
              "#d8576b"
             ],
             [
              0.6666666666666666,
              "#ed7953"
             ],
             [
              0.7777777777777778,
              "#fb9f3a"
             ],
             [
              0.8888888888888888,
              "#fdca26"
             ],
             [
              1,
              "#f0f921"
             ]
            ],
            "type": "histogram2d"
           }
          ],
          "histogram2dcontour": [
           {
            "colorbar": {
             "outlinewidth": 0,
             "ticks": ""
            },
            "colorscale": [
             [
              0,
              "#0d0887"
             ],
             [
              0.1111111111111111,
              "#46039f"
             ],
             [
              0.2222222222222222,
              "#7201a8"
             ],
             [
              0.3333333333333333,
              "#9c179e"
             ],
             [
              0.4444444444444444,
              "#bd3786"
             ],
             [
              0.5555555555555556,
              "#d8576b"
             ],
             [
              0.6666666666666666,
              "#ed7953"
             ],
             [
              0.7777777777777778,
              "#fb9f3a"
             ],
             [
              0.8888888888888888,
              "#fdca26"
             ],
             [
              1,
              "#f0f921"
             ]
            ],
            "type": "histogram2dcontour"
           }
          ],
          "mesh3d": [
           {
            "colorbar": {
             "outlinewidth": 0,
             "ticks": ""
            },
            "type": "mesh3d"
           }
          ],
          "parcoords": [
           {
            "line": {
             "colorbar": {
              "outlinewidth": 0,
              "ticks": ""
             }
            },
            "type": "parcoords"
           }
          ],
          "pie": [
           {
            "automargin": true,
            "type": "pie"
           }
          ],
          "scatter": [
           {
            "fillpattern": {
             "fillmode": "overlay",
             "size": 10,
             "solidity": 0.2
            },
            "type": "scatter"
           }
          ],
          "scatter3d": [
           {
            "line": {
             "colorbar": {
              "outlinewidth": 0,
              "ticks": ""
             }
            },
            "marker": {
             "colorbar": {
              "outlinewidth": 0,
              "ticks": ""
             }
            },
            "type": "scatter3d"
           }
          ],
          "scattercarpet": [
           {
            "marker": {
             "colorbar": {
              "outlinewidth": 0,
              "ticks": ""
             }
            },
            "type": "scattercarpet"
           }
          ],
          "scattergeo": [
           {
            "marker": {
             "colorbar": {
              "outlinewidth": 0,
              "ticks": ""
             }
            },
            "type": "scattergeo"
           }
          ],
          "scattergl": [
           {
            "marker": {
             "colorbar": {
              "outlinewidth": 0,
              "ticks": ""
             }
            },
            "type": "scattergl"
           }
          ],
          "scattermapbox": [
           {
            "marker": {
             "colorbar": {
              "outlinewidth": 0,
              "ticks": ""
             }
            },
            "type": "scattermapbox"
           }
          ],
          "scatterpolar": [
           {
            "marker": {
             "colorbar": {
              "outlinewidth": 0,
              "ticks": ""
             }
            },
            "type": "scatterpolar"
           }
          ],
          "scatterpolargl": [
           {
            "marker": {
             "colorbar": {
              "outlinewidth": 0,
              "ticks": ""
             }
            },
            "type": "scatterpolargl"
           }
          ],
          "scatterternary": [
           {
            "marker": {
             "colorbar": {
              "outlinewidth": 0,
              "ticks": ""
             }
            },
            "type": "scatterternary"
           }
          ],
          "surface": [
           {
            "colorbar": {
             "outlinewidth": 0,
             "ticks": ""
            },
            "colorscale": [
             [
              0,
              "#0d0887"
             ],
             [
              0.1111111111111111,
              "#46039f"
             ],
             [
              0.2222222222222222,
              "#7201a8"
             ],
             [
              0.3333333333333333,
              "#9c179e"
             ],
             [
              0.4444444444444444,
              "#bd3786"
             ],
             [
              0.5555555555555556,
              "#d8576b"
             ],
             [
              0.6666666666666666,
              "#ed7953"
             ],
             [
              0.7777777777777778,
              "#fb9f3a"
             ],
             [
              0.8888888888888888,
              "#fdca26"
             ],
             [
              1,
              "#f0f921"
             ]
            ],
            "type": "surface"
           }
          ],
          "table": [
           {
            "cells": {
             "fill": {
              "color": "#EBF0F8"
             },
             "line": {
              "color": "white"
             }
            },
            "header": {
             "fill": {
              "color": "#C8D4E3"
             },
             "line": {
              "color": "white"
             }
            },
            "type": "table"
           }
          ]
         },
         "layout": {
          "annotationdefaults": {
           "arrowcolor": "#2a3f5f",
           "arrowhead": 0,
           "arrowwidth": 1
          },
          "autotypenumbers": "strict",
          "coloraxis": {
           "colorbar": {
            "outlinewidth": 0,
            "ticks": ""
           }
          },
          "colorscale": {
           "diverging": [
            [
             0,
             "#8e0152"
            ],
            [
             0.1,
             "#c51b7d"
            ],
            [
             0.2,
             "#de77ae"
            ],
            [
             0.3,
             "#f1b6da"
            ],
            [
             0.4,
             "#fde0ef"
            ],
            [
             0.5,
             "#f7f7f7"
            ],
            [
             0.6,
             "#e6f5d0"
            ],
            [
             0.7,
             "#b8e186"
            ],
            [
             0.8,
             "#7fbc41"
            ],
            [
             0.9,
             "#4d9221"
            ],
            [
             1,
             "#276419"
            ]
           ],
           "sequential": [
            [
             0,
             "#0d0887"
            ],
            [
             0.1111111111111111,
             "#46039f"
            ],
            [
             0.2222222222222222,
             "#7201a8"
            ],
            [
             0.3333333333333333,
             "#9c179e"
            ],
            [
             0.4444444444444444,
             "#bd3786"
            ],
            [
             0.5555555555555556,
             "#d8576b"
            ],
            [
             0.6666666666666666,
             "#ed7953"
            ],
            [
             0.7777777777777778,
             "#fb9f3a"
            ],
            [
             0.8888888888888888,
             "#fdca26"
            ],
            [
             1,
             "#f0f921"
            ]
           ],
           "sequentialminus": [
            [
             0,
             "#0d0887"
            ],
            [
             0.1111111111111111,
             "#46039f"
            ],
            [
             0.2222222222222222,
             "#7201a8"
            ],
            [
             0.3333333333333333,
             "#9c179e"
            ],
            [
             0.4444444444444444,
             "#bd3786"
            ],
            [
             0.5555555555555556,
             "#d8576b"
            ],
            [
             0.6666666666666666,
             "#ed7953"
            ],
            [
             0.7777777777777778,
             "#fb9f3a"
            ],
            [
             0.8888888888888888,
             "#fdca26"
            ],
            [
             1,
             "#f0f921"
            ]
           ]
          },
          "colorway": [
           "#636efa",
           "#EF553B",
           "#00cc96",
           "#ab63fa",
           "#FFA15A",
           "#19d3f3",
           "#FF6692",
           "#B6E880",
           "#FF97FF",
           "#FECB52"
          ],
          "font": {
           "color": "#2a3f5f"
          },
          "geo": {
           "bgcolor": "white",
           "lakecolor": "white",
           "landcolor": "#E5ECF6",
           "showlakes": true,
           "showland": true,
           "subunitcolor": "white"
          },
          "hoverlabel": {
           "align": "left"
          },
          "hovermode": "closest",
          "mapbox": {
           "style": "light"
          },
          "paper_bgcolor": "white",
          "plot_bgcolor": "#E5ECF6",
          "polar": {
           "angularaxis": {
            "gridcolor": "white",
            "linecolor": "white",
            "ticks": ""
           },
           "bgcolor": "#E5ECF6",
           "radialaxis": {
            "gridcolor": "white",
            "linecolor": "white",
            "ticks": ""
           }
          },
          "scene": {
           "xaxis": {
            "backgroundcolor": "#E5ECF6",
            "gridcolor": "white",
            "gridwidth": 2,
            "linecolor": "white",
            "showbackground": true,
            "ticks": "",
            "zerolinecolor": "white"
           },
           "yaxis": {
            "backgroundcolor": "#E5ECF6",
            "gridcolor": "white",
            "gridwidth": 2,
            "linecolor": "white",
            "showbackground": true,
            "ticks": "",
            "zerolinecolor": "white"
           },
           "zaxis": {
            "backgroundcolor": "#E5ECF6",
            "gridcolor": "white",
            "gridwidth": 2,
            "linecolor": "white",
            "showbackground": true,
            "ticks": "",
            "zerolinecolor": "white"
           }
          },
          "shapedefaults": {
           "line": {
            "color": "#2a3f5f"
           }
          },
          "ternary": {
           "aaxis": {
            "gridcolor": "white",
            "linecolor": "white",
            "ticks": ""
           },
           "baxis": {
            "gridcolor": "white",
            "linecolor": "white",
            "ticks": ""
           },
           "bgcolor": "#E5ECF6",
           "caxis": {
            "gridcolor": "white",
            "linecolor": "white",
            "ticks": ""
           }
          },
          "title": {
           "x": 0.05
          },
          "xaxis": {
           "automargin": true,
           "gridcolor": "white",
           "linecolor": "white",
           "ticks": "",
           "title": {
            "standoff": 15
           },
           "zerolinecolor": "white",
           "zerolinewidth": 2
          },
          "yaxis": {
           "automargin": true,
           "gridcolor": "white",
           "linecolor": "white",
           "ticks": "",
           "title": {
            "standoff": 15
           },
           "zerolinecolor": "white",
           "zerolinewidth": 2
          }
         }
        },
        "xaxis": {
         "anchor": "y",
         "domain": [
          0,
          1
         ],
         "title": {
          "text": "year"
         }
        },
        "yaxis": {
         "anchor": "x",
         "domain": [
          0,
          1
         ],
         "title": {
          "text": "value"
         }
        }
       }
      }
     },
     "metadata": {},
     "output_type": "display_data"
    }
   ],
   "source": [
    "pop_df = pd.read_csv(csv_path)\n",
    "pop_df = pop_df.set_index(['year'])\n",
    "pop_df['population'].plot()"
   ]
  },
  {
   "cell_type": "markdown",
   "metadata": {},
   "source": [
    "### Birth rate"
   ]
  },
  {
   "cell_type": "code",
   "execution_count": 8,
   "metadata": {},
   "outputs": [
    {
     "data": {
      "application/vnd.plotly.v1+json": {
       "config": {
        "plotlyServerURL": "https://plot.ly"
       },
       "data": [
        {
         "hovertemplate": "variable=0<br>mean_year=%{x}<br>value=%{y}<extra></extra>",
         "legendgroup": "0",
         "line": {
          "color": "#636efa",
          "dash": "solid"
         },
         "marker": {
          "symbol": "circle"
         },
         "mode": "markers+lines",
         "name": "0",
         "orientation": "v",
         "showlegend": true,
         "type": "scatter",
         "x": [
          1952.5,
          1957.5,
          1962.5,
          1967.5,
          1972.5,
          1977.5,
          1982.5,
          1987.5,
          1992.5,
          1997.5,
          2002.5,
          2007.5,
          2012.5,
          2017.5
         ],
         "xaxis": "x",
         "y": [
          0.039776000000000006,
          0.042731000000000005,
          0.040619999999999996,
          0.037357,
          0.035531,
          0.032790999999999994,
          0.031293,
          0.029655,
          0.026611,
          0.019188,
          0.016832999999999997,
          0.017184,
          0.017283,
          0.016945
         ],
         "yaxis": "y"
        }
       ],
       "layout": {
        "legend": {
         "title": {
          "text": "variable"
         },
         "tracegroupgap": 0
        },
        "margin": {
         "t": 60
        },
        "showlegend": false,
        "template": {
         "data": {
          "bar": [
           {
            "error_x": {
             "color": "#2a3f5f"
            },
            "error_y": {
             "color": "#2a3f5f"
            },
            "marker": {
             "line": {
              "color": "#E5ECF6",
              "width": 0.5
             },
             "pattern": {
              "fillmode": "overlay",
              "size": 10,
              "solidity": 0.2
             }
            },
            "type": "bar"
           }
          ],
          "barpolar": [
           {
            "marker": {
             "line": {
              "color": "#E5ECF6",
              "width": 0.5
             },
             "pattern": {
              "fillmode": "overlay",
              "size": 10,
              "solidity": 0.2
             }
            },
            "type": "barpolar"
           }
          ],
          "carpet": [
           {
            "aaxis": {
             "endlinecolor": "#2a3f5f",
             "gridcolor": "white",
             "linecolor": "white",
             "minorgridcolor": "white",
             "startlinecolor": "#2a3f5f"
            },
            "baxis": {
             "endlinecolor": "#2a3f5f",
             "gridcolor": "white",
             "linecolor": "white",
             "minorgridcolor": "white",
             "startlinecolor": "#2a3f5f"
            },
            "type": "carpet"
           }
          ],
          "choropleth": [
           {
            "colorbar": {
             "outlinewidth": 0,
             "ticks": ""
            },
            "type": "choropleth"
           }
          ],
          "contour": [
           {
            "colorbar": {
             "outlinewidth": 0,
             "ticks": ""
            },
            "colorscale": [
             [
              0,
              "#0d0887"
             ],
             [
              0.1111111111111111,
              "#46039f"
             ],
             [
              0.2222222222222222,
              "#7201a8"
             ],
             [
              0.3333333333333333,
              "#9c179e"
             ],
             [
              0.4444444444444444,
              "#bd3786"
             ],
             [
              0.5555555555555556,
              "#d8576b"
             ],
             [
              0.6666666666666666,
              "#ed7953"
             ],
             [
              0.7777777777777778,
              "#fb9f3a"
             ],
             [
              0.8888888888888888,
              "#fdca26"
             ],
             [
              1,
              "#f0f921"
             ]
            ],
            "type": "contour"
           }
          ],
          "contourcarpet": [
           {
            "colorbar": {
             "outlinewidth": 0,
             "ticks": ""
            },
            "type": "contourcarpet"
           }
          ],
          "heatmap": [
           {
            "colorbar": {
             "outlinewidth": 0,
             "ticks": ""
            },
            "colorscale": [
             [
              0,
              "#0d0887"
             ],
             [
              0.1111111111111111,
              "#46039f"
             ],
             [
              0.2222222222222222,
              "#7201a8"
             ],
             [
              0.3333333333333333,
              "#9c179e"
             ],
             [
              0.4444444444444444,
              "#bd3786"
             ],
             [
              0.5555555555555556,
              "#d8576b"
             ],
             [
              0.6666666666666666,
              "#ed7953"
             ],
             [
              0.7777777777777778,
              "#fb9f3a"
             ],
             [
              0.8888888888888888,
              "#fdca26"
             ],
             [
              1,
              "#f0f921"
             ]
            ],
            "type": "heatmap"
           }
          ],
          "heatmapgl": [
           {
            "colorbar": {
             "outlinewidth": 0,
             "ticks": ""
            },
            "colorscale": [
             [
              0,
              "#0d0887"
             ],
             [
              0.1111111111111111,
              "#46039f"
             ],
             [
              0.2222222222222222,
              "#7201a8"
             ],
             [
              0.3333333333333333,
              "#9c179e"
             ],
             [
              0.4444444444444444,
              "#bd3786"
             ],
             [
              0.5555555555555556,
              "#d8576b"
             ],
             [
              0.6666666666666666,
              "#ed7953"
             ],
             [
              0.7777777777777778,
              "#fb9f3a"
             ],
             [
              0.8888888888888888,
              "#fdca26"
             ],
             [
              1,
              "#f0f921"
             ]
            ],
            "type": "heatmapgl"
           }
          ],
          "histogram": [
           {
            "marker": {
             "pattern": {
              "fillmode": "overlay",
              "size": 10,
              "solidity": 0.2
             }
            },
            "type": "histogram"
           }
          ],
          "histogram2d": [
           {
            "colorbar": {
             "outlinewidth": 0,
             "ticks": ""
            },
            "colorscale": [
             [
              0,
              "#0d0887"
             ],
             [
              0.1111111111111111,
              "#46039f"
             ],
             [
              0.2222222222222222,
              "#7201a8"
             ],
             [
              0.3333333333333333,
              "#9c179e"
             ],
             [
              0.4444444444444444,
              "#bd3786"
             ],
             [
              0.5555555555555556,
              "#d8576b"
             ],
             [
              0.6666666666666666,
              "#ed7953"
             ],
             [
              0.7777777777777778,
              "#fb9f3a"
             ],
             [
              0.8888888888888888,
              "#fdca26"
             ],
             [
              1,
              "#f0f921"
             ]
            ],
            "type": "histogram2d"
           }
          ],
          "histogram2dcontour": [
           {
            "colorbar": {
             "outlinewidth": 0,
             "ticks": ""
            },
            "colorscale": [
             [
              0,
              "#0d0887"
             ],
             [
              0.1111111111111111,
              "#46039f"
             ],
             [
              0.2222222222222222,
              "#7201a8"
             ],
             [
              0.3333333333333333,
              "#9c179e"
             ],
             [
              0.4444444444444444,
              "#bd3786"
             ],
             [
              0.5555555555555556,
              "#d8576b"
             ],
             [
              0.6666666666666666,
              "#ed7953"
             ],
             [
              0.7777777777777778,
              "#fb9f3a"
             ],
             [
              0.8888888888888888,
              "#fdca26"
             ],
             [
              1,
              "#f0f921"
             ]
            ],
            "type": "histogram2dcontour"
           }
          ],
          "mesh3d": [
           {
            "colorbar": {
             "outlinewidth": 0,
             "ticks": ""
            },
            "type": "mesh3d"
           }
          ],
          "parcoords": [
           {
            "line": {
             "colorbar": {
              "outlinewidth": 0,
              "ticks": ""
             }
            },
            "type": "parcoords"
           }
          ],
          "pie": [
           {
            "automargin": true,
            "type": "pie"
           }
          ],
          "scatter": [
           {
            "fillpattern": {
             "fillmode": "overlay",
             "size": 10,
             "solidity": 0.2
            },
            "type": "scatter"
           }
          ],
          "scatter3d": [
           {
            "line": {
             "colorbar": {
              "outlinewidth": 0,
              "ticks": ""
             }
            },
            "marker": {
             "colorbar": {
              "outlinewidth": 0,
              "ticks": ""
             }
            },
            "type": "scatter3d"
           }
          ],
          "scattercarpet": [
           {
            "marker": {
             "colorbar": {
              "outlinewidth": 0,
              "ticks": ""
             }
            },
            "type": "scattercarpet"
           }
          ],
          "scattergeo": [
           {
            "marker": {
             "colorbar": {
              "outlinewidth": 0,
              "ticks": ""
             }
            },
            "type": "scattergeo"
           }
          ],
          "scattergl": [
           {
            "marker": {
             "colorbar": {
              "outlinewidth": 0,
              "ticks": ""
             }
            },
            "type": "scattergl"
           }
          ],
          "scattermapbox": [
           {
            "marker": {
             "colorbar": {
              "outlinewidth": 0,
              "ticks": ""
             }
            },
            "type": "scattermapbox"
           }
          ],
          "scatterpolar": [
           {
            "marker": {
             "colorbar": {
              "outlinewidth": 0,
              "ticks": ""
             }
            },
            "type": "scatterpolar"
           }
          ],
          "scatterpolargl": [
           {
            "marker": {
             "colorbar": {
              "outlinewidth": 0,
              "ticks": ""
             }
            },
            "type": "scatterpolargl"
           }
          ],
          "scatterternary": [
           {
            "marker": {
             "colorbar": {
              "outlinewidth": 0,
              "ticks": ""
             }
            },
            "type": "scatterternary"
           }
          ],
          "surface": [
           {
            "colorbar": {
             "outlinewidth": 0,
             "ticks": ""
            },
            "colorscale": [
             [
              0,
              "#0d0887"
             ],
             [
              0.1111111111111111,
              "#46039f"
             ],
             [
              0.2222222222222222,
              "#7201a8"
             ],
             [
              0.3333333333333333,
              "#9c179e"
             ],
             [
              0.4444444444444444,
              "#bd3786"
             ],
             [
              0.5555555555555556,
              "#d8576b"
             ],
             [
              0.6666666666666666,
              "#ed7953"
             ],
             [
              0.7777777777777778,
              "#fb9f3a"
             ],
             [
              0.8888888888888888,
              "#fdca26"
             ],
             [
              1,
              "#f0f921"
             ]
            ],
            "type": "surface"
           }
          ],
          "table": [
           {
            "cells": {
             "fill": {
              "color": "#EBF0F8"
             },
             "line": {
              "color": "white"
             }
            },
            "header": {
             "fill": {
              "color": "#C8D4E3"
             },
             "line": {
              "color": "white"
             }
            },
            "type": "table"
           }
          ]
         },
         "layout": {
          "annotationdefaults": {
           "arrowcolor": "#2a3f5f",
           "arrowhead": 0,
           "arrowwidth": 1
          },
          "autotypenumbers": "strict",
          "coloraxis": {
           "colorbar": {
            "outlinewidth": 0,
            "ticks": ""
           }
          },
          "colorscale": {
           "diverging": [
            [
             0,
             "#8e0152"
            ],
            [
             0.1,
             "#c51b7d"
            ],
            [
             0.2,
             "#de77ae"
            ],
            [
             0.3,
             "#f1b6da"
            ],
            [
             0.4,
             "#fde0ef"
            ],
            [
             0.5,
             "#f7f7f7"
            ],
            [
             0.6,
             "#e6f5d0"
            ],
            [
             0.7,
             "#b8e186"
            ],
            [
             0.8,
             "#7fbc41"
            ],
            [
             0.9,
             "#4d9221"
            ],
            [
             1,
             "#276419"
            ]
           ],
           "sequential": [
            [
             0,
             "#0d0887"
            ],
            [
             0.1111111111111111,
             "#46039f"
            ],
            [
             0.2222222222222222,
             "#7201a8"
            ],
            [
             0.3333333333333333,
             "#9c179e"
            ],
            [
             0.4444444444444444,
             "#bd3786"
            ],
            [
             0.5555555555555556,
             "#d8576b"
            ],
            [
             0.6666666666666666,
             "#ed7953"
            ],
            [
             0.7777777777777778,
             "#fb9f3a"
            ],
            [
             0.8888888888888888,
             "#fdca26"
            ],
            [
             1,
             "#f0f921"
            ]
           ],
           "sequentialminus": [
            [
             0,
             "#0d0887"
            ],
            [
             0.1111111111111111,
             "#46039f"
            ],
            [
             0.2222222222222222,
             "#7201a8"
            ],
            [
             0.3333333333333333,
             "#9c179e"
            ],
            [
             0.4444444444444444,
             "#bd3786"
            ],
            [
             0.5555555555555556,
             "#d8576b"
            ],
            [
             0.6666666666666666,
             "#ed7953"
            ],
            [
             0.7777777777777778,
             "#fb9f3a"
            ],
            [
             0.8888888888888888,
             "#fdca26"
            ],
            [
             1,
             "#f0f921"
            ]
           ]
          },
          "colorway": [
           "#636efa",
           "#EF553B",
           "#00cc96",
           "#ab63fa",
           "#FFA15A",
           "#19d3f3",
           "#FF6692",
           "#B6E880",
           "#FF97FF",
           "#FECB52"
          ],
          "font": {
           "color": "#2a3f5f"
          },
          "geo": {
           "bgcolor": "white",
           "lakecolor": "white",
           "landcolor": "#E5ECF6",
           "showlakes": true,
           "showland": true,
           "subunitcolor": "white"
          },
          "hoverlabel": {
           "align": "left"
          },
          "hovermode": "closest",
          "mapbox": {
           "style": "light"
          },
          "paper_bgcolor": "white",
          "plot_bgcolor": "#E5ECF6",
          "polar": {
           "angularaxis": {
            "gridcolor": "white",
            "linecolor": "white",
            "ticks": ""
           },
           "bgcolor": "#E5ECF6",
           "radialaxis": {
            "gridcolor": "white",
            "linecolor": "white",
            "ticks": ""
           }
          },
          "scene": {
           "xaxis": {
            "backgroundcolor": "#E5ECF6",
            "gridcolor": "white",
            "gridwidth": 2,
            "linecolor": "white",
            "showbackground": true,
            "ticks": "",
            "zerolinecolor": "white"
           },
           "yaxis": {
            "backgroundcolor": "#E5ECF6",
            "gridcolor": "white",
            "gridwidth": 2,
            "linecolor": "white",
            "showbackground": true,
            "ticks": "",
            "zerolinecolor": "white"
           },
           "zaxis": {
            "backgroundcolor": "#E5ECF6",
            "gridcolor": "white",
            "gridwidth": 2,
            "linecolor": "white",
            "showbackground": true,
            "ticks": "",
            "zerolinecolor": "white"
           }
          },
          "shapedefaults": {
           "line": {
            "color": "#2a3f5f"
           }
          },
          "ternary": {
           "aaxis": {
            "gridcolor": "white",
            "linecolor": "white",
            "ticks": ""
           },
           "baxis": {
            "gridcolor": "white",
            "linecolor": "white",
            "ticks": ""
           },
           "bgcolor": "#E5ECF6",
           "caxis": {
            "gridcolor": "white",
            "linecolor": "white",
            "ticks": ""
           }
          },
          "title": {
           "x": 0.05
          },
          "xaxis": {
           "automargin": true,
           "gridcolor": "white",
           "linecolor": "white",
           "ticks": "",
           "title": {
            "standoff": 15
           },
           "zerolinecolor": "white",
           "zerolinewidth": 2
          },
          "yaxis": {
           "automargin": true,
           "gridcolor": "white",
           "linecolor": "white",
           "ticks": "",
           "title": {
            "standoff": 15
           },
           "zerolinecolor": "white",
           "zerolinewidth": 2
          }
         }
        },
        "title": {
         "text": "Crude birth rate of Ca Mau",
         "x": 0.5
        },
        "xaxis": {
         "anchor": "y",
         "domain": [
          0,
          1
         ],
         "title": {
          "text": "Year"
         }
        },
        "yaxis": {
         "anchor": "x",
         "domain": [
          0,
          1
         ],
         "title": {
          "text": "Crude birth rate"
         }
        }
       }
      }
     },
     "metadata": {},
     "output_type": "display_data"
    }
   ],
   "source": [
    "birth_rates, years = inputs.get_crude_birth_rate(\"VNM\")\n",
    "birth_rates = [b / 1000.0 for b in birth_rates]  # Birth rates are provided / 1000 population\n",
    "birth_rates_series = pd.Series(birth_rates, index=years)\n",
    "br_fig= px.line(birth_rates_series)\n",
    "br_fig.update_traces(mode='markers+lines')\n",
    "br_fig.update_layout(\n",
    "    title=\"Crude birth rate of Ca Mau\",\n",
    "    title_x=0.5,\n",
    "    xaxis_title=\"Year\",\n",
    "    yaxis_title=\"Crude birth rate\",\n",
    "    showlegend=False,\n",
    ")"
   ]
  },
  {
   "cell_type": "markdown",
   "metadata": {},
   "source": [
    "### Death rate"
   ]
  },
  {
   "cell_type": "code",
   "execution_count": 9,
   "metadata": {},
   "outputs": [
    {
     "data": {
      "application/vnd.plotly.v1+json": {
       "config": {
        "plotlyServerURL": "https://plot.ly"
       },
       "data": [
        {
         "hovertemplate": "variable=0<br>index=%{x}<br>value=%{y}<extra></extra>",
         "legendgroup": "0",
         "line": {
          "color": "#636efa",
          "dash": "solid"
         },
         "marker": {
          "symbol": "circle"
         },
         "mode": "markers+lines",
         "name": "0",
         "orientation": "v",
         "showlegend": true,
         "type": "scatter",
         "x": [
          2005,
          2007,
          2008,
          2009,
          2010,
          2011,
          2012,
          2013,
          2014,
          2015,
          2016,
          2017,
          2018,
          2019,
          2020,
          2021
         ],
         "xaxis": "x",
         "y": [
          0.0048,
          0.0048,
          0.0044,
          0.0056,
          0.0056,
          0.0058,
          0.0053,
          0.006,
          0.0074,
          0.0054,
          0.0048,
          0.0066,
          0.005,
          0.0054,
          0.00521,
          0.00539
         ],
         "yaxis": "y"
        }
       ],
       "layout": {
        "legend": {
         "title": {
          "text": "variable"
         },
         "tracegroupgap": 0
        },
        "margin": {
         "t": 60
        },
        "showlegend": false,
        "template": {
         "data": {
          "bar": [
           {
            "error_x": {
             "color": "#2a3f5f"
            },
            "error_y": {
             "color": "#2a3f5f"
            },
            "marker": {
             "line": {
              "color": "#E5ECF6",
              "width": 0.5
             },
             "pattern": {
              "fillmode": "overlay",
              "size": 10,
              "solidity": 0.2
             }
            },
            "type": "bar"
           }
          ],
          "barpolar": [
           {
            "marker": {
             "line": {
              "color": "#E5ECF6",
              "width": 0.5
             },
             "pattern": {
              "fillmode": "overlay",
              "size": 10,
              "solidity": 0.2
             }
            },
            "type": "barpolar"
           }
          ],
          "carpet": [
           {
            "aaxis": {
             "endlinecolor": "#2a3f5f",
             "gridcolor": "white",
             "linecolor": "white",
             "minorgridcolor": "white",
             "startlinecolor": "#2a3f5f"
            },
            "baxis": {
             "endlinecolor": "#2a3f5f",
             "gridcolor": "white",
             "linecolor": "white",
             "minorgridcolor": "white",
             "startlinecolor": "#2a3f5f"
            },
            "type": "carpet"
           }
          ],
          "choropleth": [
           {
            "colorbar": {
             "outlinewidth": 0,
             "ticks": ""
            },
            "type": "choropleth"
           }
          ],
          "contour": [
           {
            "colorbar": {
             "outlinewidth": 0,
             "ticks": ""
            },
            "colorscale": [
             [
              0,
              "#0d0887"
             ],
             [
              0.1111111111111111,
              "#46039f"
             ],
             [
              0.2222222222222222,
              "#7201a8"
             ],
             [
              0.3333333333333333,
              "#9c179e"
             ],
             [
              0.4444444444444444,
              "#bd3786"
             ],
             [
              0.5555555555555556,
              "#d8576b"
             ],
             [
              0.6666666666666666,
              "#ed7953"
             ],
             [
              0.7777777777777778,
              "#fb9f3a"
             ],
             [
              0.8888888888888888,
              "#fdca26"
             ],
             [
              1,
              "#f0f921"
             ]
            ],
            "type": "contour"
           }
          ],
          "contourcarpet": [
           {
            "colorbar": {
             "outlinewidth": 0,
             "ticks": ""
            },
            "type": "contourcarpet"
           }
          ],
          "heatmap": [
           {
            "colorbar": {
             "outlinewidth": 0,
             "ticks": ""
            },
            "colorscale": [
             [
              0,
              "#0d0887"
             ],
             [
              0.1111111111111111,
              "#46039f"
             ],
             [
              0.2222222222222222,
              "#7201a8"
             ],
             [
              0.3333333333333333,
              "#9c179e"
             ],
             [
              0.4444444444444444,
              "#bd3786"
             ],
             [
              0.5555555555555556,
              "#d8576b"
             ],
             [
              0.6666666666666666,
              "#ed7953"
             ],
             [
              0.7777777777777778,
              "#fb9f3a"
             ],
             [
              0.8888888888888888,
              "#fdca26"
             ],
             [
              1,
              "#f0f921"
             ]
            ],
            "type": "heatmap"
           }
          ],
          "heatmapgl": [
           {
            "colorbar": {
             "outlinewidth": 0,
             "ticks": ""
            },
            "colorscale": [
             [
              0,
              "#0d0887"
             ],
             [
              0.1111111111111111,
              "#46039f"
             ],
             [
              0.2222222222222222,
              "#7201a8"
             ],
             [
              0.3333333333333333,
              "#9c179e"
             ],
             [
              0.4444444444444444,
              "#bd3786"
             ],
             [
              0.5555555555555556,
              "#d8576b"
             ],
             [
              0.6666666666666666,
              "#ed7953"
             ],
             [
              0.7777777777777778,
              "#fb9f3a"
             ],
             [
              0.8888888888888888,
              "#fdca26"
             ],
             [
              1,
              "#f0f921"
             ]
            ],
            "type": "heatmapgl"
           }
          ],
          "histogram": [
           {
            "marker": {
             "pattern": {
              "fillmode": "overlay",
              "size": 10,
              "solidity": 0.2
             }
            },
            "type": "histogram"
           }
          ],
          "histogram2d": [
           {
            "colorbar": {
             "outlinewidth": 0,
             "ticks": ""
            },
            "colorscale": [
             [
              0,
              "#0d0887"
             ],
             [
              0.1111111111111111,
              "#46039f"
             ],
             [
              0.2222222222222222,
              "#7201a8"
             ],
             [
              0.3333333333333333,
              "#9c179e"
             ],
             [
              0.4444444444444444,
              "#bd3786"
             ],
             [
              0.5555555555555556,
              "#d8576b"
             ],
             [
              0.6666666666666666,
              "#ed7953"
             ],
             [
              0.7777777777777778,
              "#fb9f3a"
             ],
             [
              0.8888888888888888,
              "#fdca26"
             ],
             [
              1,
              "#f0f921"
             ]
            ],
            "type": "histogram2d"
           }
          ],
          "histogram2dcontour": [
           {
            "colorbar": {
             "outlinewidth": 0,
             "ticks": ""
            },
            "colorscale": [
             [
              0,
              "#0d0887"
             ],
             [
              0.1111111111111111,
              "#46039f"
             ],
             [
              0.2222222222222222,
              "#7201a8"
             ],
             [
              0.3333333333333333,
              "#9c179e"
             ],
             [
              0.4444444444444444,
              "#bd3786"
             ],
             [
              0.5555555555555556,
              "#d8576b"
             ],
             [
              0.6666666666666666,
              "#ed7953"
             ],
             [
              0.7777777777777778,
              "#fb9f3a"
             ],
             [
              0.8888888888888888,
              "#fdca26"
             ],
             [
              1,
              "#f0f921"
             ]
            ],
            "type": "histogram2dcontour"
           }
          ],
          "mesh3d": [
           {
            "colorbar": {
             "outlinewidth": 0,
             "ticks": ""
            },
            "type": "mesh3d"
           }
          ],
          "parcoords": [
           {
            "line": {
             "colorbar": {
              "outlinewidth": 0,
              "ticks": ""
             }
            },
            "type": "parcoords"
           }
          ],
          "pie": [
           {
            "automargin": true,
            "type": "pie"
           }
          ],
          "scatter": [
           {
            "fillpattern": {
             "fillmode": "overlay",
             "size": 10,
             "solidity": 0.2
            },
            "type": "scatter"
           }
          ],
          "scatter3d": [
           {
            "line": {
             "colorbar": {
              "outlinewidth": 0,
              "ticks": ""
             }
            },
            "marker": {
             "colorbar": {
              "outlinewidth": 0,
              "ticks": ""
             }
            },
            "type": "scatter3d"
           }
          ],
          "scattercarpet": [
           {
            "marker": {
             "colorbar": {
              "outlinewidth": 0,
              "ticks": ""
             }
            },
            "type": "scattercarpet"
           }
          ],
          "scattergeo": [
           {
            "marker": {
             "colorbar": {
              "outlinewidth": 0,
              "ticks": ""
             }
            },
            "type": "scattergeo"
           }
          ],
          "scattergl": [
           {
            "marker": {
             "colorbar": {
              "outlinewidth": 0,
              "ticks": ""
             }
            },
            "type": "scattergl"
           }
          ],
          "scattermapbox": [
           {
            "marker": {
             "colorbar": {
              "outlinewidth": 0,
              "ticks": ""
             }
            },
            "type": "scattermapbox"
           }
          ],
          "scatterpolar": [
           {
            "marker": {
             "colorbar": {
              "outlinewidth": 0,
              "ticks": ""
             }
            },
            "type": "scatterpolar"
           }
          ],
          "scatterpolargl": [
           {
            "marker": {
             "colorbar": {
              "outlinewidth": 0,
              "ticks": ""
             }
            },
            "type": "scatterpolargl"
           }
          ],
          "scatterternary": [
           {
            "marker": {
             "colorbar": {
              "outlinewidth": 0,
              "ticks": ""
             }
            },
            "type": "scatterternary"
           }
          ],
          "surface": [
           {
            "colorbar": {
             "outlinewidth": 0,
             "ticks": ""
            },
            "colorscale": [
             [
              0,
              "#0d0887"
             ],
             [
              0.1111111111111111,
              "#46039f"
             ],
             [
              0.2222222222222222,
              "#7201a8"
             ],
             [
              0.3333333333333333,
              "#9c179e"
             ],
             [
              0.4444444444444444,
              "#bd3786"
             ],
             [
              0.5555555555555556,
              "#d8576b"
             ],
             [
              0.6666666666666666,
              "#ed7953"
             ],
             [
              0.7777777777777778,
              "#fb9f3a"
             ],
             [
              0.8888888888888888,
              "#fdca26"
             ],
             [
              1,
              "#f0f921"
             ]
            ],
            "type": "surface"
           }
          ],
          "table": [
           {
            "cells": {
             "fill": {
              "color": "#EBF0F8"
             },
             "line": {
              "color": "white"
             }
            },
            "header": {
             "fill": {
              "color": "#C8D4E3"
             },
             "line": {
              "color": "white"
             }
            },
            "type": "table"
           }
          ]
         },
         "layout": {
          "annotationdefaults": {
           "arrowcolor": "#2a3f5f",
           "arrowhead": 0,
           "arrowwidth": 1
          },
          "autotypenumbers": "strict",
          "coloraxis": {
           "colorbar": {
            "outlinewidth": 0,
            "ticks": ""
           }
          },
          "colorscale": {
           "diverging": [
            [
             0,
             "#8e0152"
            ],
            [
             0.1,
             "#c51b7d"
            ],
            [
             0.2,
             "#de77ae"
            ],
            [
             0.3,
             "#f1b6da"
            ],
            [
             0.4,
             "#fde0ef"
            ],
            [
             0.5,
             "#f7f7f7"
            ],
            [
             0.6,
             "#e6f5d0"
            ],
            [
             0.7,
             "#b8e186"
            ],
            [
             0.8,
             "#7fbc41"
            ],
            [
             0.9,
             "#4d9221"
            ],
            [
             1,
             "#276419"
            ]
           ],
           "sequential": [
            [
             0,
             "#0d0887"
            ],
            [
             0.1111111111111111,
             "#46039f"
            ],
            [
             0.2222222222222222,
             "#7201a8"
            ],
            [
             0.3333333333333333,
             "#9c179e"
            ],
            [
             0.4444444444444444,
             "#bd3786"
            ],
            [
             0.5555555555555556,
             "#d8576b"
            ],
            [
             0.6666666666666666,
             "#ed7953"
            ],
            [
             0.7777777777777778,
             "#fb9f3a"
            ],
            [
             0.8888888888888888,
             "#fdca26"
            ],
            [
             1,
             "#f0f921"
            ]
           ],
           "sequentialminus": [
            [
             0,
             "#0d0887"
            ],
            [
             0.1111111111111111,
             "#46039f"
            ],
            [
             0.2222222222222222,
             "#7201a8"
            ],
            [
             0.3333333333333333,
             "#9c179e"
            ],
            [
             0.4444444444444444,
             "#bd3786"
            ],
            [
             0.5555555555555556,
             "#d8576b"
            ],
            [
             0.6666666666666666,
             "#ed7953"
            ],
            [
             0.7777777777777778,
             "#fb9f3a"
            ],
            [
             0.8888888888888888,
             "#fdca26"
            ],
            [
             1,
             "#f0f921"
            ]
           ]
          },
          "colorway": [
           "#636efa",
           "#EF553B",
           "#00cc96",
           "#ab63fa",
           "#FFA15A",
           "#19d3f3",
           "#FF6692",
           "#B6E880",
           "#FF97FF",
           "#FECB52"
          ],
          "font": {
           "color": "#2a3f5f"
          },
          "geo": {
           "bgcolor": "white",
           "lakecolor": "white",
           "landcolor": "#E5ECF6",
           "showlakes": true,
           "showland": true,
           "subunitcolor": "white"
          },
          "hoverlabel": {
           "align": "left"
          },
          "hovermode": "closest",
          "mapbox": {
           "style": "light"
          },
          "paper_bgcolor": "white",
          "plot_bgcolor": "#E5ECF6",
          "polar": {
           "angularaxis": {
            "gridcolor": "white",
            "linecolor": "white",
            "ticks": ""
           },
           "bgcolor": "#E5ECF6",
           "radialaxis": {
            "gridcolor": "white",
            "linecolor": "white",
            "ticks": ""
           }
          },
          "scene": {
           "xaxis": {
            "backgroundcolor": "#E5ECF6",
            "gridcolor": "white",
            "gridwidth": 2,
            "linecolor": "white",
            "showbackground": true,
            "ticks": "",
            "zerolinecolor": "white"
           },
           "yaxis": {
            "backgroundcolor": "#E5ECF6",
            "gridcolor": "white",
            "gridwidth": 2,
            "linecolor": "white",
            "showbackground": true,
            "ticks": "",
            "zerolinecolor": "white"
           },
           "zaxis": {
            "backgroundcolor": "#E5ECF6",
            "gridcolor": "white",
            "gridwidth": 2,
            "linecolor": "white",
            "showbackground": true,
            "ticks": "",
            "zerolinecolor": "white"
           }
          },
          "shapedefaults": {
           "line": {
            "color": "#2a3f5f"
           }
          },
          "ternary": {
           "aaxis": {
            "gridcolor": "white",
            "linecolor": "white",
            "ticks": ""
           },
           "baxis": {
            "gridcolor": "white",
            "linecolor": "white",
            "ticks": ""
           },
           "bgcolor": "#E5ECF6",
           "caxis": {
            "gridcolor": "white",
            "linecolor": "white",
            "ticks": ""
           }
          },
          "title": {
           "x": 0.05
          },
          "xaxis": {
           "automargin": true,
           "gridcolor": "white",
           "linecolor": "white",
           "ticks": "",
           "title": {
            "standoff": 15
           },
           "zerolinecolor": "white",
           "zerolinewidth": 2
          },
          "yaxis": {
           "automargin": true,
           "gridcolor": "white",
           "linecolor": "white",
           "ticks": "",
           "title": {
            "standoff": 15
           },
           "zerolinecolor": "white",
           "zerolinewidth": 2
          }
         }
        },
        "title": {
         "text": "Crude death rate of Ca Mau",
         "x": 0.5
        },
        "xaxis": {
         "anchor": "y",
         "domain": [
          0,
          1
         ],
         "title": {
          "text": "Year"
         }
        },
        "yaxis": {
         "anchor": "x",
         "domain": [
          0,
          1
         ],
         "title": {
          "text": "Crude death rate"
         }
        }
       }
      }
     },
     "metadata": {},
     "output_type": "display_data"
    }
   ],
   "source": [
    "#Query and visualize the crude birth rate from database\n",
    "years, death_rates = queries.get_camau_death_rate()\n",
    "death_rates = [b / 1000.0 for b in death_rates]  # Birth rates are provided / 1000 population\n",
    "death_rates_series = pd.Series(death_rates, index=years)\n",
    "dr_fig= px.line(death_rates_series)\n",
    "dr_fig.update_traces(mode='markers+lines')\n",
    "dr_fig.update_layout(\n",
    "    title=\"Crude death rate of Ca Mau\",\n",
    "    title_x=0.5,\n",
    "    xaxis_title=\"Year\",\n",
    "    yaxis_title=\"Crude death rate\",\n",
    "    showlegend=False,\n",
    ")"
   ]
  },
  {
   "cell_type": "markdown",
   "metadata": {},
   "source": [
    "### Mixing matrix"
   ]
  },
  {
   "cell_type": "code",
   "execution_count": 10,
   "metadata": {},
   "outputs": [
    {
     "name": "stdout",
     "output_type": "stream",
     "text": [
      "Target region: CAMAU (VNM)\n",
      "Proxy country: VNM\n",
      "Always age-adjusted to target population\n"
     ]
    }
   ],
   "source": [
    "print(f\"Target region: {region.upper()} ({iso3})\")\n",
    "print(f\"Proxy country: {source_iso3}\")\n",
    "print(\"Always age-adjusted to target population\")"
   ]
  },
  {
   "cell_type": "code",
   "execution_count": 11,
   "metadata": {},
   "outputs": [],
   "source": [
    "update_params = {\n",
    "    'contact_rate': 0.009997734275437986,\n",
    "    'infectious_seed': 1864,\n",
    "    'progression_multiplier': 0.2089605835065645,\n",
    "    'rr_infection_latent': 0.4998845906965712,\n",
    "    'rr_infection_recovered': 0.9719190622707243,\n",
    "    'start_population_size':232643.5085963432,\n",
    "    #'time.start': 1950\n",
    "\n",
    "}\n",
    "params = baseline_params.update(update_params,calibration_format=True)\n",
    "model_0  =  p.build_model(params.to_dict())\n",
    "model_0.run(params.to_dict())\n",
    "derived_df_0 = model_0.get_derived_outputs_df()"
   ]
  },
  {
   "cell_type": "code",
   "execution_count": 12,
   "metadata": {},
   "outputs": [
    {
     "data": {
      "application/vnd.plotly.v1+json": {
       "config": {
        "plotlyServerURL": "https://plot.ly"
       },
       "data": [
        {
         "coloraxis": "coloraxis",
         "hovertemplate": "x: %{x}<br>y: %{y}<br>color: %{z}<extra></extra>",
         "name": "0",
         "type": "heatmap",
         "xaxis": "x",
         "yaxis": "y",
         "z": [
          [
           398.43289671715854,
           261.82020387348075,
           643.6828621777573,
           401.62199158977194,
           356.13449938807395
          ],
          [
           165.78966683273993,
           881.6306767735196,
           532.8412055425431,
           550.7597922690397,
           285.6283672428183
          ],
          [
           231.75164316722984,
           311.3898378099071,
           915.5288426752608,
           673.3089411339307,
           664.1457706557599
          ],
          [
           141.94492435330548,
           310.8883550484485,
           786.1367695812622,
           1134.3107600305705,
           938.0340329110602
          ],
          [
           67.30073631874295,
           170.46333134386853,
           647.3015397795145,
           1018.8124342209532,
           1763.576577145928
          ]
         ]
        }
       ],
       "layout": {
        "coloraxis": {
         "colorscale": [
          [
           0,
           "#0d0887"
          ],
          [
           0.1111111111111111,
           "#46039f"
          ],
          [
           0.2222222222222222,
           "#7201a8"
          ],
          [
           0.3333333333333333,
           "#9c179e"
          ],
          [
           0.4444444444444444,
           "#bd3786"
          ],
          [
           0.5555555555555556,
           "#d8576b"
          ],
          [
           0.6666666666666666,
           "#ed7953"
          ],
          [
           0.7777777777777778,
           "#fb9f3a"
          ],
          [
           0.8888888888888888,
           "#fdca26"
          ],
          [
           1,
           "#f0f921"
          ]
         ]
        },
        "margin": {
         "t": 60
        },
        "template": {
         "data": {
          "bar": [
           {
            "error_x": {
             "color": "#2a3f5f"
            },
            "error_y": {
             "color": "#2a3f5f"
            },
            "marker": {
             "line": {
              "color": "#E5ECF6",
              "width": 0.5
             },
             "pattern": {
              "fillmode": "overlay",
              "size": 10,
              "solidity": 0.2
             }
            },
            "type": "bar"
           }
          ],
          "barpolar": [
           {
            "marker": {
             "line": {
              "color": "#E5ECF6",
              "width": 0.5
             },
             "pattern": {
              "fillmode": "overlay",
              "size": 10,
              "solidity": 0.2
             }
            },
            "type": "barpolar"
           }
          ],
          "carpet": [
           {
            "aaxis": {
             "endlinecolor": "#2a3f5f",
             "gridcolor": "white",
             "linecolor": "white",
             "minorgridcolor": "white",
             "startlinecolor": "#2a3f5f"
            },
            "baxis": {
             "endlinecolor": "#2a3f5f",
             "gridcolor": "white",
             "linecolor": "white",
             "minorgridcolor": "white",
             "startlinecolor": "#2a3f5f"
            },
            "type": "carpet"
           }
          ],
          "choropleth": [
           {
            "colorbar": {
             "outlinewidth": 0,
             "ticks": ""
            },
            "type": "choropleth"
           }
          ],
          "contour": [
           {
            "colorbar": {
             "outlinewidth": 0,
             "ticks": ""
            },
            "colorscale": [
             [
              0,
              "#0d0887"
             ],
             [
              0.1111111111111111,
              "#46039f"
             ],
             [
              0.2222222222222222,
              "#7201a8"
             ],
             [
              0.3333333333333333,
              "#9c179e"
             ],
             [
              0.4444444444444444,
              "#bd3786"
             ],
             [
              0.5555555555555556,
              "#d8576b"
             ],
             [
              0.6666666666666666,
              "#ed7953"
             ],
             [
              0.7777777777777778,
              "#fb9f3a"
             ],
             [
              0.8888888888888888,
              "#fdca26"
             ],
             [
              1,
              "#f0f921"
             ]
            ],
            "type": "contour"
           }
          ],
          "contourcarpet": [
           {
            "colorbar": {
             "outlinewidth": 0,
             "ticks": ""
            },
            "type": "contourcarpet"
           }
          ],
          "heatmap": [
           {
            "colorbar": {
             "outlinewidth": 0,
             "ticks": ""
            },
            "colorscale": [
             [
              0,
              "#0d0887"
             ],
             [
              0.1111111111111111,
              "#46039f"
             ],
             [
              0.2222222222222222,
              "#7201a8"
             ],
             [
              0.3333333333333333,
              "#9c179e"
             ],
             [
              0.4444444444444444,
              "#bd3786"
             ],
             [
              0.5555555555555556,
              "#d8576b"
             ],
             [
              0.6666666666666666,
              "#ed7953"
             ],
             [
              0.7777777777777778,
              "#fb9f3a"
             ],
             [
              0.8888888888888888,
              "#fdca26"
             ],
             [
              1,
              "#f0f921"
             ]
            ],
            "type": "heatmap"
           }
          ],
          "heatmapgl": [
           {
            "colorbar": {
             "outlinewidth": 0,
             "ticks": ""
            },
            "colorscale": [
             [
              0,
              "#0d0887"
             ],
             [
              0.1111111111111111,
              "#46039f"
             ],
             [
              0.2222222222222222,
              "#7201a8"
             ],
             [
              0.3333333333333333,
              "#9c179e"
             ],
             [
              0.4444444444444444,
              "#bd3786"
             ],
             [
              0.5555555555555556,
              "#d8576b"
             ],
             [
              0.6666666666666666,
              "#ed7953"
             ],
             [
              0.7777777777777778,
              "#fb9f3a"
             ],
             [
              0.8888888888888888,
              "#fdca26"
             ],
             [
              1,
              "#f0f921"
             ]
            ],
            "type": "heatmapgl"
           }
          ],
          "histogram": [
           {
            "marker": {
             "pattern": {
              "fillmode": "overlay",
              "size": 10,
              "solidity": 0.2
             }
            },
            "type": "histogram"
           }
          ],
          "histogram2d": [
           {
            "colorbar": {
             "outlinewidth": 0,
             "ticks": ""
            },
            "colorscale": [
             [
              0,
              "#0d0887"
             ],
             [
              0.1111111111111111,
              "#46039f"
             ],
             [
              0.2222222222222222,
              "#7201a8"
             ],
             [
              0.3333333333333333,
              "#9c179e"
             ],
             [
              0.4444444444444444,
              "#bd3786"
             ],
             [
              0.5555555555555556,
              "#d8576b"
             ],
             [
              0.6666666666666666,
              "#ed7953"
             ],
             [
              0.7777777777777778,
              "#fb9f3a"
             ],
             [
              0.8888888888888888,
              "#fdca26"
             ],
             [
              1,
              "#f0f921"
             ]
            ],
            "type": "histogram2d"
           }
          ],
          "histogram2dcontour": [
           {
            "colorbar": {
             "outlinewidth": 0,
             "ticks": ""
            },
            "colorscale": [
             [
              0,
              "#0d0887"
             ],
             [
              0.1111111111111111,
              "#46039f"
             ],
             [
              0.2222222222222222,
              "#7201a8"
             ],
             [
              0.3333333333333333,
              "#9c179e"
             ],
             [
              0.4444444444444444,
              "#bd3786"
             ],
             [
              0.5555555555555556,
              "#d8576b"
             ],
             [
              0.6666666666666666,
              "#ed7953"
             ],
             [
              0.7777777777777778,
              "#fb9f3a"
             ],
             [
              0.8888888888888888,
              "#fdca26"
             ],
             [
              1,
              "#f0f921"
             ]
            ],
            "type": "histogram2dcontour"
           }
          ],
          "mesh3d": [
           {
            "colorbar": {
             "outlinewidth": 0,
             "ticks": ""
            },
            "type": "mesh3d"
           }
          ],
          "parcoords": [
           {
            "line": {
             "colorbar": {
              "outlinewidth": 0,
              "ticks": ""
             }
            },
            "type": "parcoords"
           }
          ],
          "pie": [
           {
            "automargin": true,
            "type": "pie"
           }
          ],
          "scatter": [
           {
            "fillpattern": {
             "fillmode": "overlay",
             "size": 10,
             "solidity": 0.2
            },
            "type": "scatter"
           }
          ],
          "scatter3d": [
           {
            "line": {
             "colorbar": {
              "outlinewidth": 0,
              "ticks": ""
             }
            },
            "marker": {
             "colorbar": {
              "outlinewidth": 0,
              "ticks": ""
             }
            },
            "type": "scatter3d"
           }
          ],
          "scattercarpet": [
           {
            "marker": {
             "colorbar": {
              "outlinewidth": 0,
              "ticks": ""
             }
            },
            "type": "scattercarpet"
           }
          ],
          "scattergeo": [
           {
            "marker": {
             "colorbar": {
              "outlinewidth": 0,
              "ticks": ""
             }
            },
            "type": "scattergeo"
           }
          ],
          "scattergl": [
           {
            "marker": {
             "colorbar": {
              "outlinewidth": 0,
              "ticks": ""
             }
            },
            "type": "scattergl"
           }
          ],
          "scattermapbox": [
           {
            "marker": {
             "colorbar": {
              "outlinewidth": 0,
              "ticks": ""
             }
            },
            "type": "scattermapbox"
           }
          ],
          "scatterpolar": [
           {
            "marker": {
             "colorbar": {
              "outlinewidth": 0,
              "ticks": ""
             }
            },
            "type": "scatterpolar"
           }
          ],
          "scatterpolargl": [
           {
            "marker": {
             "colorbar": {
              "outlinewidth": 0,
              "ticks": ""
             }
            },
            "type": "scatterpolargl"
           }
          ],
          "scatterternary": [
           {
            "marker": {
             "colorbar": {
              "outlinewidth": 0,
              "ticks": ""
             }
            },
            "type": "scatterternary"
           }
          ],
          "surface": [
           {
            "colorbar": {
             "outlinewidth": 0,
             "ticks": ""
            },
            "colorscale": [
             [
              0,
              "#0d0887"
             ],
             [
              0.1111111111111111,
              "#46039f"
             ],
             [
              0.2222222222222222,
              "#7201a8"
             ],
             [
              0.3333333333333333,
              "#9c179e"
             ],
             [
              0.4444444444444444,
              "#bd3786"
             ],
             [
              0.5555555555555556,
              "#d8576b"
             ],
             [
              0.6666666666666666,
              "#ed7953"
             ],
             [
              0.7777777777777778,
              "#fb9f3a"
             ],
             [
              0.8888888888888888,
              "#fdca26"
             ],
             [
              1,
              "#f0f921"
             ]
            ],
            "type": "surface"
           }
          ],
          "table": [
           {
            "cells": {
             "fill": {
              "color": "#EBF0F8"
             },
             "line": {
              "color": "white"
             }
            },
            "header": {
             "fill": {
              "color": "#C8D4E3"
             },
             "line": {
              "color": "white"
             }
            },
            "type": "table"
           }
          ]
         },
         "layout": {
          "annotationdefaults": {
           "arrowcolor": "#2a3f5f",
           "arrowhead": 0,
           "arrowwidth": 1
          },
          "autotypenumbers": "strict",
          "coloraxis": {
           "colorbar": {
            "outlinewidth": 0,
            "ticks": ""
           }
          },
          "colorscale": {
           "diverging": [
            [
             0,
             "#8e0152"
            ],
            [
             0.1,
             "#c51b7d"
            ],
            [
             0.2,
             "#de77ae"
            ],
            [
             0.3,
             "#f1b6da"
            ],
            [
             0.4,
             "#fde0ef"
            ],
            [
             0.5,
             "#f7f7f7"
            ],
            [
             0.6,
             "#e6f5d0"
            ],
            [
             0.7,
             "#b8e186"
            ],
            [
             0.8,
             "#7fbc41"
            ],
            [
             0.9,
             "#4d9221"
            ],
            [
             1,
             "#276419"
            ]
           ],
           "sequential": [
            [
             0,
             "#0d0887"
            ],
            [
             0.1111111111111111,
             "#46039f"
            ],
            [
             0.2222222222222222,
             "#7201a8"
            ],
            [
             0.3333333333333333,
             "#9c179e"
            ],
            [
             0.4444444444444444,
             "#bd3786"
            ],
            [
             0.5555555555555556,
             "#d8576b"
            ],
            [
             0.6666666666666666,
             "#ed7953"
            ],
            [
             0.7777777777777778,
             "#fb9f3a"
            ],
            [
             0.8888888888888888,
             "#fdca26"
            ],
            [
             1,
             "#f0f921"
            ]
           ],
           "sequentialminus": [
            [
             0,
             "#0d0887"
            ],
            [
             0.1111111111111111,
             "#46039f"
            ],
            [
             0.2222222222222222,
             "#7201a8"
            ],
            [
             0.3333333333333333,
             "#9c179e"
            ],
            [
             0.4444444444444444,
             "#bd3786"
            ],
            [
             0.5555555555555556,
             "#d8576b"
            ],
            [
             0.6666666666666666,
             "#ed7953"
            ],
            [
             0.7777777777777778,
             "#fb9f3a"
            ],
            [
             0.8888888888888888,
             "#fdca26"
            ],
            [
             1,
             "#f0f921"
            ]
           ]
          },
          "colorway": [
           "#636efa",
           "#EF553B",
           "#00cc96",
           "#ab63fa",
           "#FFA15A",
           "#19d3f3",
           "#FF6692",
           "#B6E880",
           "#FF97FF",
           "#FECB52"
          ],
          "font": {
           "color": "#2a3f5f"
          },
          "geo": {
           "bgcolor": "white",
           "lakecolor": "white",
           "landcolor": "#E5ECF6",
           "showlakes": true,
           "showland": true,
           "subunitcolor": "white"
          },
          "hoverlabel": {
           "align": "left"
          },
          "hovermode": "closest",
          "mapbox": {
           "style": "light"
          },
          "paper_bgcolor": "white",
          "plot_bgcolor": "#E5ECF6",
          "polar": {
           "angularaxis": {
            "gridcolor": "white",
            "linecolor": "white",
            "ticks": ""
           },
           "bgcolor": "#E5ECF6",
           "radialaxis": {
            "gridcolor": "white",
            "linecolor": "white",
            "ticks": ""
           }
          },
          "scene": {
           "xaxis": {
            "backgroundcolor": "#E5ECF6",
            "gridcolor": "white",
            "gridwidth": 2,
            "linecolor": "white",
            "showbackground": true,
            "ticks": "",
            "zerolinecolor": "white"
           },
           "yaxis": {
            "backgroundcolor": "#E5ECF6",
            "gridcolor": "white",
            "gridwidth": 2,
            "linecolor": "white",
            "showbackground": true,
            "ticks": "",
            "zerolinecolor": "white"
           },
           "zaxis": {
            "backgroundcolor": "#E5ECF6",
            "gridcolor": "white",
            "gridwidth": 2,
            "linecolor": "white",
            "showbackground": true,
            "ticks": "",
            "zerolinecolor": "white"
           }
          },
          "shapedefaults": {
           "line": {
            "color": "#2a3f5f"
           }
          },
          "ternary": {
           "aaxis": {
            "gridcolor": "white",
            "linecolor": "white",
            "ticks": ""
           },
           "baxis": {
            "gridcolor": "white",
            "linecolor": "white",
            "ticks": ""
           },
           "bgcolor": "#E5ECF6",
           "caxis": {
            "gridcolor": "white",
            "linecolor": "white",
            "ticks": ""
           }
          },
          "title": {
           "x": 0.05
          },
          "xaxis": {
           "automargin": true,
           "gridcolor": "white",
           "linecolor": "white",
           "ticks": "",
           "title": {
            "standoff": 15
           },
           "zerolinecolor": "white",
           "zerolinewidth": 2
          },
          "yaxis": {
           "automargin": true,
           "gridcolor": "white",
           "linecolor": "white",
           "ticks": "",
           "title": {
            "standoff": 15
           },
           "zerolinecolor": "white",
           "zerolinewidth": 2
          }
         }
        },
        "xaxis": {
         "anchor": "y",
         "constrain": "domain",
         "domain": [
          0,
          1
         ],
         "scaleanchor": "y"
        },
        "yaxis": {
         "anchor": "x",
         "autorange": "reversed",
         "constrain": "domain",
         "domain": [
          0,
          1
         ]
        }
       }
      }
     },
     "metadata": {},
     "output_type": "display_data"
    }
   ],
   "source": [
    "res = model_0._get_step_test(params.to_dict(), 2000)\n",
    "res.ts_graph_vals['age_mixing_matrix']\n",
    "px.imshow(res.ts_graph_vals['age_mixing_matrix'])"
   ]
  },
  {
   "cell_type": "code",
   "execution_count": 13,
   "metadata": {},
   "outputs": [
    {
     "data": {
      "application/vnd.plotly.v1+json": {
       "config": {
        "plotlyServerURL": "https://plot.ly"
       },
       "data": [
        {
         "hovertemplate": "index=%{x}<br>total_population=%{y}<extra></extra>",
         "legendgroup": "",
         "line": {
          "color": "#636efa",
          "dash": "solid"
         },
         "marker": {
          "symbol": "circle"
         },
         "mode": "lines",
         "name": "",
         "showlegend": false,
         "type": "scattergl",
         "x": [
          1900,
          1900.1,
          1900.2,
          1900.3,
          1900.4,
          1900.5,
          1900.6,
          1900.7,
          1900.8,
          1900.9,
          1901,
          1901.1,
          1901.2,
          1901.3,
          1901.4,
          1901.5,
          1901.6,
          1901.7,
          1901.8,
          1901.9,
          1902,
          1902.1,
          1902.2,
          1902.3,
          1902.4,
          1902.5,
          1902.6,
          1902.7,
          1902.8,
          1902.9,
          1903,
          1903.1,
          1903.2,
          1903.3,
          1903.4,
          1903.5,
          1903.6,
          1903.7,
          1903.8,
          1903.9,
          1904,
          1904.1,
          1904.2,
          1904.3,
          1904.4,
          1904.5,
          1904.6,
          1904.7,
          1904.8,
          1904.9,
          1905,
          1905.1,
          1905.2,
          1905.3,
          1905.4,
          1905.5,
          1905.6,
          1905.7,
          1905.8,
          1905.9,
          1906,
          1906.1,
          1906.2,
          1906.3,
          1906.4,
          1906.5,
          1906.6,
          1906.7,
          1906.8,
          1906.9,
          1907,
          1907.1,
          1907.2,
          1907.3,
          1907.4,
          1907.5,
          1907.6,
          1907.7,
          1907.8,
          1907.9,
          1908,
          1908.1,
          1908.2,
          1908.3,
          1908.4,
          1908.5,
          1908.6,
          1908.7,
          1908.8,
          1908.9,
          1909,
          1909.1,
          1909.2,
          1909.3,
          1909.4,
          1909.5,
          1909.6,
          1909.7,
          1909.8,
          1909.9,
          1910,
          1910.1,
          1910.2,
          1910.3,
          1910.4,
          1910.5,
          1910.6,
          1910.7,
          1910.8,
          1910.9,
          1911,
          1911.1,
          1911.2,
          1911.3,
          1911.4,
          1911.5,
          1911.6,
          1911.7,
          1911.8,
          1911.9,
          1912,
          1912.1,
          1912.2,
          1912.3,
          1912.4,
          1912.5,
          1912.6,
          1912.7,
          1912.8,
          1912.9,
          1913,
          1913.1,
          1913.2,
          1913.3,
          1913.4,
          1913.5,
          1913.6,
          1913.7,
          1913.8,
          1913.9,
          1914,
          1914.1,
          1914.2,
          1914.3,
          1914.4,
          1914.5,
          1914.6,
          1914.7,
          1914.8,
          1914.9,
          1915,
          1915.1,
          1915.2,
          1915.3,
          1915.4,
          1915.5,
          1915.6,
          1915.7,
          1915.8,
          1915.9,
          1916,
          1916.1,
          1916.2,
          1916.3,
          1916.4,
          1916.5,
          1916.6,
          1916.7,
          1916.8,
          1916.9,
          1917,
          1917.1,
          1917.2,
          1917.3,
          1917.4,
          1917.5,
          1917.6,
          1917.7,
          1917.8,
          1917.9,
          1918,
          1918.1,
          1918.2,
          1918.3,
          1918.4,
          1918.5,
          1918.6,
          1918.7,
          1918.8,
          1918.9,
          1919,
          1919.1,
          1919.2,
          1919.3,
          1919.4,
          1919.5,
          1919.6,
          1919.7,
          1919.8,
          1919.9,
          1920,
          1920.1,
          1920.2,
          1920.3,
          1920.4,
          1920.5,
          1920.6,
          1920.7,
          1920.8,
          1920.9,
          1921,
          1921.1,
          1921.2,
          1921.3,
          1921.4,
          1921.5,
          1921.6,
          1921.7,
          1921.8,
          1921.9,
          1922,
          1922.1,
          1922.2,
          1922.3,
          1922.4,
          1922.5,
          1922.6,
          1922.7,
          1922.8,
          1922.9,
          1923,
          1923.1,
          1923.2,
          1923.3,
          1923.4,
          1923.5,
          1923.6,
          1923.7,
          1923.8,
          1923.9,
          1924,
          1924.1,
          1924.2,
          1924.3,
          1924.4,
          1924.5,
          1924.6,
          1924.7,
          1924.8,
          1924.9,
          1925,
          1925.1,
          1925.2,
          1925.3,
          1925.4,
          1925.5,
          1925.6,
          1925.7,
          1925.8,
          1925.9,
          1926,
          1926.1,
          1926.2,
          1926.3,
          1926.4,
          1926.5,
          1926.6,
          1926.7,
          1926.8,
          1926.9,
          1927,
          1927.1,
          1927.2,
          1927.3,
          1927.4,
          1927.5,
          1927.6,
          1927.7,
          1927.8,
          1927.9,
          1928,
          1928.1,
          1928.2,
          1928.3,
          1928.4,
          1928.5,
          1928.6,
          1928.7,
          1928.8,
          1928.9,
          1929,
          1929.1,
          1929.2,
          1929.3,
          1929.4,
          1929.5,
          1929.6,
          1929.7,
          1929.8,
          1929.9,
          1930,
          1930.1,
          1930.2,
          1930.3,
          1930.4,
          1930.5,
          1930.6,
          1930.7,
          1930.8,
          1930.9,
          1931,
          1931.1,
          1931.2,
          1931.3,
          1931.4,
          1931.5,
          1931.6,
          1931.7,
          1931.8,
          1931.9,
          1932,
          1932.1,
          1932.2,
          1932.3,
          1932.4,
          1932.5,
          1932.6,
          1932.7,
          1932.8,
          1932.9,
          1933,
          1933.1,
          1933.2,
          1933.3,
          1933.4,
          1933.5,
          1933.6,
          1933.7,
          1933.8,
          1933.9,
          1934,
          1934.1,
          1934.2,
          1934.3,
          1934.4,
          1934.5,
          1934.6,
          1934.7,
          1934.8,
          1934.9,
          1935,
          1935.1,
          1935.2,
          1935.3,
          1935.4,
          1935.5,
          1935.6,
          1935.7,
          1935.8,
          1935.9,
          1936,
          1936.1,
          1936.2,
          1936.3,
          1936.4,
          1936.5,
          1936.6,
          1936.7,
          1936.8,
          1936.9,
          1937,
          1937.1,
          1937.2,
          1937.3,
          1937.4,
          1937.5,
          1937.6,
          1937.7,
          1937.8,
          1937.9,
          1938,
          1938.1,
          1938.2,
          1938.3,
          1938.4,
          1938.5,
          1938.6,
          1938.7,
          1938.8,
          1938.9,
          1939,
          1939.1,
          1939.2,
          1939.3,
          1939.4,
          1939.5,
          1939.6,
          1939.7,
          1939.8,
          1939.9,
          1940,
          1940.1,
          1940.2,
          1940.3,
          1940.4,
          1940.5,
          1940.6,
          1940.7,
          1940.8,
          1940.9,
          1941,
          1941.1,
          1941.2,
          1941.3,
          1941.4,
          1941.5,
          1941.6,
          1941.7,
          1941.8,
          1941.9,
          1942,
          1942.1,
          1942.2,
          1942.3,
          1942.4,
          1942.5,
          1942.6,
          1942.7,
          1942.8,
          1942.9,
          1943,
          1943.1,
          1943.2,
          1943.3,
          1943.4,
          1943.5,
          1943.6,
          1943.7,
          1943.8,
          1943.9,
          1944,
          1944.1,
          1944.2,
          1944.3,
          1944.4,
          1944.5,
          1944.6,
          1944.7,
          1944.8,
          1944.9,
          1945,
          1945.1,
          1945.2,
          1945.3,
          1945.4,
          1945.5,
          1945.6,
          1945.7,
          1945.8,
          1945.9,
          1946,
          1946.1,
          1946.2,
          1946.3,
          1946.4,
          1946.5,
          1946.6,
          1946.7,
          1946.8,
          1946.9,
          1947,
          1947.1,
          1947.2,
          1947.3,
          1947.4,
          1947.5,
          1947.6,
          1947.7,
          1947.8,
          1947.9,
          1948,
          1948.1,
          1948.2,
          1948.3,
          1948.4,
          1948.5,
          1948.6,
          1948.7,
          1948.8,
          1948.9,
          1949,
          1949.1,
          1949.2,
          1949.3,
          1949.4,
          1949.5,
          1949.6,
          1949.7,
          1949.8,
          1949.9,
          1950,
          1950.1,
          1950.2,
          1950.3,
          1950.4,
          1950.5,
          1950.6,
          1950.7,
          1950.8,
          1950.9,
          1951,
          1951.1,
          1951.2,
          1951.3,
          1951.4,
          1951.5,
          1951.6,
          1951.7,
          1951.8,
          1951.9,
          1952,
          1952.1,
          1952.2,
          1952.3,
          1952.4,
          1952.5,
          1952.6,
          1952.7,
          1952.8,
          1952.9,
          1953,
          1953.1,
          1953.2,
          1953.3,
          1953.4,
          1953.5,
          1953.6,
          1953.7,
          1953.8,
          1953.9,
          1954,
          1954.1,
          1954.2,
          1954.3,
          1954.4,
          1954.5,
          1954.6,
          1954.7,
          1954.8,
          1954.9,
          1955,
          1955.1,
          1955.2,
          1955.3,
          1955.4,
          1955.5,
          1955.6,
          1955.7,
          1955.8,
          1955.9,
          1956,
          1956.1,
          1956.2,
          1956.3,
          1956.4,
          1956.5,
          1956.6,
          1956.7,
          1956.8,
          1956.9,
          1957,
          1957.1,
          1957.2,
          1957.3,
          1957.4,
          1957.5,
          1957.6,
          1957.7,
          1957.8,
          1957.9,
          1958,
          1958.1,
          1958.2,
          1958.3,
          1958.4,
          1958.5,
          1958.6,
          1958.7,
          1958.8,
          1958.9,
          1959,
          1959.1,
          1959.2,
          1959.3,
          1959.4,
          1959.5,
          1959.6,
          1959.7,
          1959.8,
          1959.9,
          1960,
          1960.1,
          1960.2,
          1960.3,
          1960.4,
          1960.5,
          1960.6,
          1960.7,
          1960.8,
          1960.9,
          1961,
          1961.1,
          1961.2,
          1961.3,
          1961.4,
          1961.5,
          1961.6,
          1961.7,
          1961.8,
          1961.9,
          1962,
          1962.1,
          1962.2,
          1962.3,
          1962.4,
          1962.5,
          1962.6,
          1962.7,
          1962.8,
          1962.9,
          1963,
          1963.1,
          1963.2,
          1963.3,
          1963.4,
          1963.5,
          1963.6,
          1963.7,
          1963.8,
          1963.9,
          1964,
          1964.1,
          1964.2,
          1964.3,
          1964.4,
          1964.5,
          1964.6,
          1964.7,
          1964.8,
          1964.9,
          1965,
          1965.1,
          1965.2,
          1965.3,
          1965.4,
          1965.5,
          1965.6,
          1965.7,
          1965.8,
          1965.9,
          1966,
          1966.1,
          1966.2,
          1966.3,
          1966.4,
          1966.5,
          1966.6,
          1966.7,
          1966.8,
          1966.9,
          1967,
          1967.1,
          1967.2,
          1967.3,
          1967.4,
          1967.5,
          1967.6,
          1967.7,
          1967.8,
          1967.9,
          1968,
          1968.1,
          1968.2,
          1968.3,
          1968.4,
          1968.5,
          1968.6,
          1968.7,
          1968.8,
          1968.9,
          1969,
          1969.1,
          1969.2,
          1969.3,
          1969.4,
          1969.5,
          1969.6,
          1969.7,
          1969.8,
          1969.9,
          1970,
          1970.1,
          1970.2,
          1970.3,
          1970.4,
          1970.5,
          1970.6,
          1970.7,
          1970.8,
          1970.9,
          1971,
          1971.1,
          1971.2,
          1971.3,
          1971.4,
          1971.5,
          1971.6,
          1971.7,
          1971.8,
          1971.9,
          1972,
          1972.1,
          1972.2,
          1972.3,
          1972.4,
          1972.5,
          1972.6,
          1972.7,
          1972.8,
          1972.9,
          1973,
          1973.1,
          1973.2,
          1973.3,
          1973.4,
          1973.5,
          1973.6,
          1973.7,
          1973.8,
          1973.9,
          1974,
          1974.1,
          1974.2,
          1974.3,
          1974.4,
          1974.5,
          1974.6,
          1974.7,
          1974.8,
          1974.9,
          1975,
          1975.1,
          1975.2,
          1975.3,
          1975.4,
          1975.5,
          1975.6,
          1975.7,
          1975.8,
          1975.9,
          1976,
          1976.1,
          1976.2,
          1976.3,
          1976.4,
          1976.5,
          1976.6,
          1976.7,
          1976.8,
          1976.9,
          1977,
          1977.1,
          1977.2,
          1977.3,
          1977.4,
          1977.5,
          1977.6,
          1977.7,
          1977.8,
          1977.9,
          1978,
          1978.1,
          1978.2,
          1978.3,
          1978.4,
          1978.5,
          1978.6,
          1978.7,
          1978.8,
          1978.9,
          1979,
          1979.1,
          1979.2,
          1979.3,
          1979.4,
          1979.5,
          1979.6,
          1979.7,
          1979.8,
          1979.9,
          1980,
          1980.1,
          1980.2,
          1980.3,
          1980.4,
          1980.5,
          1980.6,
          1980.7,
          1980.8,
          1980.9,
          1981,
          1981.1,
          1981.2,
          1981.3,
          1981.4,
          1981.5,
          1981.6,
          1981.7,
          1981.8,
          1981.9,
          1982,
          1982.1,
          1982.2,
          1982.3,
          1982.4,
          1982.5,
          1982.6,
          1982.7,
          1982.8,
          1982.9,
          1983,
          1983.1,
          1983.2,
          1983.3,
          1983.4,
          1983.5,
          1983.6,
          1983.7,
          1983.8,
          1983.9,
          1984,
          1984.1,
          1984.2,
          1984.3,
          1984.4,
          1984.5,
          1984.6,
          1984.7,
          1984.8,
          1984.9,
          1985,
          1985.1,
          1985.2,
          1985.3,
          1985.4,
          1985.5,
          1985.6,
          1985.7,
          1985.8,
          1985.9,
          1986,
          1986.1,
          1986.2,
          1986.3,
          1986.4,
          1986.5,
          1986.6,
          1986.7,
          1986.8,
          1986.9,
          1987,
          1987.1,
          1987.2,
          1987.3,
          1987.4,
          1987.5,
          1987.6,
          1987.7,
          1987.8,
          1987.9,
          1988,
          1988.1,
          1988.2,
          1988.3,
          1988.4,
          1988.5,
          1988.6,
          1988.7,
          1988.8,
          1988.9,
          1989,
          1989.1,
          1989.2,
          1989.3,
          1989.4,
          1989.5,
          1989.6,
          1989.7,
          1989.8,
          1989.9,
          1990,
          1990.1,
          1990.2,
          1990.3,
          1990.4,
          1990.5,
          1990.6,
          1990.7,
          1990.8,
          1990.9,
          1991,
          1991.1,
          1991.2,
          1991.3,
          1991.4,
          1991.5,
          1991.6,
          1991.7,
          1991.8,
          1991.9,
          1992,
          1992.1,
          1992.2,
          1992.3,
          1992.4,
          1992.5,
          1992.6,
          1992.7,
          1992.8,
          1992.9,
          1993,
          1993.1,
          1993.2,
          1993.3,
          1993.4,
          1993.5,
          1993.6,
          1993.7,
          1993.8,
          1993.9,
          1994,
          1994.1,
          1994.2,
          1994.3,
          1994.4,
          1994.5,
          1994.6,
          1994.7,
          1994.8,
          1994.9,
          1995,
          1995.1,
          1995.2,
          1995.3,
          1995.4,
          1995.5,
          1995.6,
          1995.7,
          1995.8,
          1995.9,
          1996,
          1996.1,
          1996.2,
          1996.3,
          1996.4,
          1996.5,
          1996.6,
          1996.7,
          1996.8,
          1996.9,
          1997,
          1997.1,
          1997.2,
          1997.3,
          1997.4,
          1997.5,
          1997.6,
          1997.7,
          1997.8,
          1997.9,
          1998,
          1998.1,
          1998.2,
          1998.3,
          1998.4,
          1998.5,
          1998.6,
          1998.7,
          1998.8,
          1998.9,
          1999,
          1999.1,
          1999.2,
          1999.3,
          1999.4,
          1999.5,
          1999.6,
          1999.7,
          1999.8,
          1999.9,
          2000,
          2000.1,
          2000.2,
          2000.3,
          2000.4,
          2000.5,
          2000.6,
          2000.7,
          2000.8,
          2000.9,
          2001,
          2001.1,
          2001.2,
          2001.3,
          2001.4,
          2001.5,
          2001.6,
          2001.7,
          2001.8,
          2001.9,
          2002,
          2002.1,
          2002.2,
          2002.3,
          2002.4,
          2002.5,
          2002.6,
          2002.7,
          2002.8,
          2002.9,
          2003,
          2003.1,
          2003.2,
          2003.3,
          2003.4,
          2003.5,
          2003.6,
          2003.7,
          2003.8,
          2003.9,
          2004,
          2004.1,
          2004.2,
          2004.3,
          2004.4,
          2004.5,
          2004.6,
          2004.7,
          2004.8,
          2004.9,
          2005,
          2005.1,
          2005.2,
          2005.3,
          2005.4,
          2005.5,
          2005.6,
          2005.7,
          2005.8,
          2005.9,
          2006,
          2006.1,
          2006.2,
          2006.3,
          2006.4,
          2006.5,
          2006.6,
          2006.7,
          2006.8,
          2006.9,
          2007,
          2007.1,
          2007.2,
          2007.3,
          2007.4,
          2007.5,
          2007.6,
          2007.7,
          2007.8,
          2007.9,
          2008,
          2008.1,
          2008.2,
          2008.3,
          2008.4,
          2008.5,
          2008.6,
          2008.7,
          2008.8,
          2008.9,
          2009,
          2009.1,
          2009.2,
          2009.3,
          2009.4,
          2009.5,
          2009.6,
          2009.7,
          2009.8,
          2009.9,
          2010,
          2010.1,
          2010.2,
          2010.3,
          2010.4,
          2010.5,
          2010.6,
          2010.7,
          2010.8,
          2010.9,
          2011,
          2011.1,
          2011.2,
          2011.3,
          2011.4,
          2011.5,
          2011.6,
          2011.7,
          2011.8,
          2011.9,
          2012,
          2012.1,
          2012.2,
          2012.3,
          2012.4,
          2012.5,
          2012.6,
          2012.7,
          2012.8,
          2012.9,
          2013,
          2013.1,
          2013.2,
          2013.3,
          2013.4,
          2013.5,
          2013.6,
          2013.7,
          2013.8,
          2013.9,
          2014,
          2014.1,
          2014.2,
          2014.3,
          2014.4,
          2014.5,
          2014.6,
          2014.7,
          2014.8,
          2014.9,
          2015,
          2015.1,
          2015.2,
          2015.3,
          2015.4,
          2015.5,
          2015.6,
          2015.7,
          2015.8,
          2015.9,
          2016,
          2016.1,
          2016.2,
          2016.3,
          2016.4,
          2016.5,
          2016.6,
          2016.7,
          2016.8,
          2016.9,
          2017,
          2017.1,
          2017.2,
          2017.3,
          2017.4,
          2017.5,
          2017.6,
          2017.7,
          2017.8,
          2017.9,
          2018,
          2018.1,
          2018.2,
          2018.3,
          2018.4,
          2018.5,
          2018.6,
          2018.7,
          2018.8,
          2018.9,
          2019,
          2019.1,
          2019.2,
          2019.3,
          2019.4,
          2019.5,
          2019.6,
          2019.7,
          2019.8,
          2019.9,
          2020
         ],
         "xaxis": "x",
         "y": [
          232643.50859634322,
          232563.9080686933,
          232491.03752373377,
          232424.68591414118,
          232364.72720367243,
          232311.07994119235,
          232263.68160472024,
          232222.47846452927,
          232187.41796617856,
          232158.44714767355,
          232135.50975516925,
          232118.5481647968,
          232107.5017007696,
          232102.3080319034,
          232102.9031761137,
          232109.2222145893,
          232121.19958612905,
          232138.76856538033,
          232161.86248895133,
          232190.41520449382,
          232224.36070239992,
          232263.632304041,
          232308.1640087156,
          232357.89084204842,
          232412.74884577698,
          232472.6742702332,
          232537.6034131593,
          232607.473706006,
          232682.22372476597,
          232761.79318997468,
          232846.12259356273,
          232935.15259931923,
          233028.8250342109,
          233127.0828443741,
          233229.87009163605,
          233337.1318690168,
          233448.81370830722,
          233564.86210984862,
          233685.22463061634,
          233809.84985001048,
          233938.68736449583,
          234071.68747844492,
          234208.80126838948,
          234349.9807845809,
          234495.17898856668,
          234644.34975318736,
          234797.44779385012,
          234954.4284746586,
          235115.2480348137,
          235279.86352156952,
          235448.23278276128,
          235620.31446586523,
          235796.06789718225,
          235975.453102966,
          236158.43085705515,
          236344.9626307006,
          236535.01059256922,
          236728.53759965076,
          236925.5070967026,
          237125.88319384074,
          237329.6306267417,
          237536.71473634057,
          237747.10146882953,
          237960.75736003838,
          238177.64947155872,
          238397.7454537297,
          238621.01348994926,
          238847.42228885918,
          239076.94108434438,
          239309.53961825746,
          239545.18810118255,
          239783.8572542704,
          240025.51825923807,
          240270.14275489468,
          240517.7028371458,
          240768.1710441524,
          241021.520325778,
          241277.7240757358,
          241536.75609006942,
          241798.59056461632,
          242063.20209500272,
          242330.56566642658,
          242600.6566210419,
          242873.45068968175,
          243148.92395853443,
          243427.0528657601,
          243707.81420149453,
          243991.18510261166,
          244277.14301535842,
          244565.66572582026,
          244856.7313381351,
          245150.31826860798,
          245446.40524570923,
          245744.97130867312,
          246045.99577050394,
          246349.45823600818,
          246655.33859912516,
          246963.61703274414,
          247274.27398870207,
          247587.29019778877,
          247902.64664372205,
          248220.32455201127,
          248540.30541493293,
          248862.57097586096,
          249187.10322927003,
          249513.8844207293,
          249842.89703522463,
          250174.12375890068,
          250507.54751944603,
          250843.15147383456,
          251180.91900663232,
          251520.83373000222,
          251862.87948086052,
          252207.040276934,
          252553.30034229092,
          252901.64411452354,
          253252.05623883463,
          253604.52156803527,
          253959.02516254134,
          254315.55226143484,
          254674.08826829607,
          255034.61878792048,
          255397.12961555005,
          255761.6067368704,
          256128.0363280168,
          256496.4047451993,
          256866.69848005113,
          257238.9042051791,
          257613.0087706895,
          257988.9992022459,
          258366.8627010616,
          258746.58664234594,
          259128.1585321172,
          259511.56602412337,
          259896.79694075324,
          260283.8392669057,
          260672.6811499958,
          261063.31089995257,
          261455.71696776157,
          261849.88791608188,
          262245.8124670336,
          262643.4794939616,
          263042.8780212337,
          263443.9972242379,
          263846.82642381435,
          264251.35503932147,
          264657.57262591156,
          265065.4688827257,
          265475.0336497391,
          265886.2569077679,
          266299.12877830095,
          266713.6394901202,
          267129.77937381953,
          267547.53889845725,
          267966.9086648274,
          268387.879405453,
          268810.4419845917,
          269234.587387036,
          269660.30667523545,
          270087.59103665303,
          270516.43178360135,
          270946.82035190426,
          271378.7483008937,
          271812.207311957,
          272247.18914729747,
          272683.6856652352,
          273121.6888449551,
          273561.19078165665,
          274002.18368655094,
          274444.6598868678,
          274888.61180727615,
          275334.03193837975,
          275780.9128851842,
          276229.247362129,
          276679.0281928181,
          277130.2483100116,
          277582.90075162234,
          278036.9786164569,
          278492.4750952563,
          278949.3834847748,
          279407.69718464557,
          279867.4096973884,
          280328.51462839905,
          280791.0056589009,
          281254.87653115654,
          281720.12109006825,
          282186.73327765334,
          282654.70713304105,
          283124.03679246927,
          283594.7164817633,
          284066.74047305156,
          284540.10312588187,
          285014.79889339465,
          285490.8223204894,
          285968.1680438328,
          286446.83079137816,
          286926.80534785567,
          287408.0865569231,
          287890.6693537127,
          288374.5487601332,
          288859.71988486056,
          289346.1779233463,
          289833.91814553476,
          290322.93585766247,
          290813.226448794,
          291304.7853909123,
          291797.608238105,
          292291.6906265624,
          292787.028272817,
          293283.61693406187,
          293781.4524256573,
          294280.53064439585,
          294780.8475647915,
          295282.3992390764,
          295785.1817972087,
          296289.1914284428,
          296794.4243530294,
          297300.8768686232,
          297808.54534664896,
          298317.42623213975,
          298827.51604372833,
          299338.8113696601,
          299851.30882582586,
          300365.0050860497,
          300879.89689650584,
          301395.98107309156,
          301913.2545014344,
          302431.7141368739,
          302951.35697847133,
          303472.1800557088,
          303994.1804685669,
          304517.355383102,
          305041.7020314432,
          305567.217711788,
          306093.8997810976,
          306621.74561429984,
          307150.75264382525,
          307680.91836629406,
          308212.24034094956,
          308744.71618966555,
          309278.3435964435,
          309813.12027464056,
          310349.0439695495,
          310886.11248978385,
          311424.32370334526,
          311963.67553761404,
          312504.16597935744,
          313045.79306301725,
          313588.5548347726,
          314132.44939692534,
          314677.4749088125,
          315223.62958611,
          315770.91170082905,
          316319.3195796478,
          316868.8515664475,
          317419.5060387129,
          317971.2814306231,
          318524.1762298173,
          319078.1889773918,
          319633.3182679086,
          320189.5627321376,
          320746.92100976285,
          321305.39179400634,
          321864.9738289899,
          322425.66590958467,
          322987.4668814004,
          323550.37563715095,
          324114.39107679995,
          324679.512135714,
          325245.7377998347,
          325813.06710327516,
          326381.4991283295,
          326951.0330054607,
          327521.6678892026,
          328093.40294394357,
          328666.23738352745,
          329240.1704675533,
          329815.2015013712,
          330391.32983607874,
          330968.55486196943,
          331546.8759691496,
          332126.2925846694,
          332706.80418056465,
          333288.41027232603,
          333871.11041890964,
          334454.90422235214,
          335039.79129717936,
          335625.77127067256,
          336212.84381494037,
          336801.00864339207,
          337390.26551072707,
          337980.61421294446,
          338572.0545768069,
          339164.58642430254,
          339758.20961516374,
          340352.924049124,
          340948.72966517345,
          341545.62644155434,
          342143.61439437565,
          342742.6935421778,
          343342.86391970376,
          343944.1256020565,
          344546.47870166355,
          345149.92336827295,
          345754.4597889631,
          346360.0881724649,
          346966.8087213081,
          347574.62167538615,
          348183.52731029777,
          348793.5259371535,
          349404.6179025651,
          350016.8035855008,
          350630.0833591733,
          351244.45761654014,
          351859.92678667867,
          352476.49133245397,
          353094.15175052854,
          353712.90857135796,
          354332.7623371134,
          354953.71358580526,
          355575.7628908133,
          356198.91085770103,
          356823.15812421107,
          357448.5053602615,
          358074.9532621599,
          358702.50251449563,
          359331.15382472106,
          359960.907932515,
          360591.7656082554,
          361223.72765302943,
          361856.79489834886,
          362490.96817753103,
          363126.2483238631,
          363762.63620312646,
          364400.13271035085,
          365038.7387698027,
          365678.4553349954,
          366319.2833792154,
          366961.2238605609,
          367604.2777624747,
          368248.4460970903,
          368893.7299044413,
          369540.1302524569,
          370187.64823581756,
          370836.28494253545,
          371486.0414652879,
          372136.9189262522,
          372788.9184742345,
          373442.04128466576,
          374096.28855961177,
          374751.6615135565,
          375408.1613453122,
          376065.78928019945,
          376724.54656922043,
          377384.43448882306,
          378045.4543408878,
          378707.6074500211,
          379370.8951272911,
          380035.3186931475,
          380700.8794946268,
          381367.5789030814,
          382035.41831419076,
          382704.3991479564,
          383374.52282858384,
          384045.7907673034,
          384718.2044013802,
          385391.7651913607,
          386066.4746210659,
          386742.33419758646,
          387419.34544618067,
          388097.5098737072,
          388776.82900071156,
          389457.30437157,
          390138.9375529452,
          390821.73013379856,
          391505.6837251862,
          392190.79993395094,
          392877.0803589683,
          393564.52662342397,
          394253.14037188096,
          394942.9232702669,
          395633.8770058844,
          396326.0032789889,
          397019.3037689192,
          397713.7801721588,
          398409.4342065317,
          399106.2676103741,
          399804.2821425302,
          400503.47958142514,
          401203.86169396393,
          401905.43024452473,
          402608.1870198883,
          403312.1338265353,
          404017.2724906401,
          404723.60485808284,
          405431.13278172124,
          406139.8580936358,
          406849.7826452533,
          407560.90830722713,
          408273.2369691587,
          408986.7705395843,
          409701.51094367576,
          410417.4600892496,
          411134.6198871094,
          411852.99226846354,
          412572.5791827087,
          413293.382597441,
          414015.40449845145,
          414738.6468717541,
          415463.1116857393,
          416188.80092866556,
          416915.71660635306,
          417643.8607421674,
          418373.23537701403,
          419103.84256493795,
          419835.6843387655,
          420568.7627391672,
          421303.07982525666,
          422038.6376730688,
          422775.4383755707,
          423513.4840425252,
          424252.7767766921,
          424993.31866857683,
          425735.1118277042,
          426478.15837994614,
          427222.46046750876,
          427968.0202489436,
          428714.83989180485,
          429462.9215406162,
          430212.26735182,
          430962.87949849985,
          431714.7601695319,
          432467.91156957997,
          433222.33591836604,
          433978.0354224103,
          434735.01228183095,
          435493.2687145417,
          436252.80695372104,
          437013.6292478057,
          437775.73786050314,
          438539.1350596814,
          439303.8230908664,
          440069.8042142909,
          440837.08070527326,
          441605.65485390514,
          442375.5289650376,
          443146.70535640005,
          443919.1863277728,
          444692.9741782966,
          445468.07122348406,
          446244.47979313263,
          447022.20223133656,
          447801.24089648185,
          448581.59814557433,
          449363.27631664247,
          450146.2777635861,
          450930.60485417274,
          451716.25997000624,
          452503.2455065208,
          453291.5638693219,
          454081.2174431685,
          454872.2086173281,
          455664.5397959369,
          456458.2133965362,
          457253.2318500852,
          458049.59760088276,
          458847.3130862367,
          459646.3807297354,
          460446.8029703382,
          461248.5822600664,
          462051.7210639887,
          462856.22186023416,
          463662.0871343953,
          464469.3193501023,
          465277.9209787368,
          466087.8945053841,
          466899.2424279153,
          467711.96725698176,
          468526.0715157033,
          469341.5577164182,
          470158.42836120666,
          470976.68596698984,
          471796.33306322846,
          472617.3721919175,
          473439.80590759864,
          474263.6367699495,
          475088.86731627275,
          475915.50009366794,
          476743.53766213974,
          477572.9825939949,
          478403.83747382637,
          479236.1048978231,
          480069.7874483149,
          480904.88770071126,
          481741.40824469505,
          482579.35168197966,
          483418.7206263229,
          484259.5177035207,
          485101.74554200907,
          485945.40674865944,
          486790.5039417583,
          487637.03975170566,
          488485.0168206679,
          489334.43780257227,
          490185.305361848,
          491037.622146864,
          491891.3908026268,
          492746.61398764094,
          493603.294371877,
          494461.43463678577,
          495321.03747528256,
          496182.1055803617,
          497044.64162567613,
          497908.64829726727,
          498774.1282924708,
          499641.08431976894,
          500509.51909880474,
          501379.43535844266,
          502250.8358105742,
          503123.72316694784,
          503998.100151835,
          504873.96950037486,
          505751.33395856695,
          506630.1962832661,
          507510.5534338917,
          508392.4131601018,
          509275.79912885017,
          510160.7360098204,
          511047.24942590477,
          511935.36595321744,
          512825.11608738825,
          513716.5509559027,
          514609.71999964095,
          515504.7081220322,
          516401.64273646055,
          517300.6937662484,
          518202.07364467066,
          519106.09203271876,
          520013.12284509535,
          520923.65789708804,
          521838.4493783084,
          522758.5106072755,
          523685.1160314085,
          524619.7795369296,
          525564.4018594123,
          526521.7568678741,
          527494.6908182361,
          528485.9985692877,
          529498.4235826792,
          530534.6579229387,
          531597.0728431691,
          532686.0672275099,
          533800.7938682211,
          534939.8061880517,
          536101.0600878913,
          537281.9139467496,
          538479.136339705,
          539689.764841783,
          540911.6319215166,
          542142.7881491664,
          543381.6049294999,
          544626.7745018111,
          545877.3099399123,
          547132.5444315429,
          548391.9715599795,
          549655.1840149879,
          550921.9017783784,
          552191.9045753751,
          553465.0318746071,
          554741.1828881291,
          556020.3001017496,
          557302.3308431425,
          558587.2465029327,
          559875.0262871276,
          561165.6566733373,
          562459.1314107495,
          563755.4495407839,
          565054.6046631763,
          566356.6082444611,
          567661.4751913361,
          568969.220050184,
          570279.8570070938,
          571593.3998878509,
          572909.8619753993,
          574229.2555670171,
          575551.593318483,
          576876.8860584788,
          578205.1424785226,
          579536.3691329608,
          580870.5704389882,
          582207.7486765075,
          583547.9023641394,
          584891.0234890687,
          586237.0988455133,
          587586.1098548518,
          588938.0325655994,
          590292.837653429,
          591650.492762955,
          593010.96951304,
          594374.2460086908,
          595740.3186018654,
          597109.2025471817,
          598480.9320019082,
          599855.5599164984,
          601233.1499511547,
          602613.7728626125,
          603997.4969459123,
          605384.3832511222,
          606774.4855833275,
          608167.8505026523,
          609564.5174101545,
          610964.5190092296,
          612367.8805736618,
          613774.6241290747,
          615184.7692604894,
          616598.3331122985,
          618015.3303882895,
          619435.7734151188,
          620859.6741936806,
          622287.0441782362,
          623717.8941134553,
          625152.2344707362,
          626590.0754481939,
          628031.4269706518,
          629476.29872878,
          630924.6996856758,
          632376.6319612721,
          633832.0948637008,
          635291.0865645629,
          636753.6040989528,
          638219.6428790605,
          639689.1894799651,
          641162.2291681749,
          642638.7317749757,
          644118.6470804494,
          645601.904813447,
          647088.413375449,
          648578.0242491275,
          650070.5857789787,
          651565.8607834294,
          653063.4893522998,
          654562.9888468261,
          656063.7538996496,
          657565.0739969248,
          659066.0422843362,
          660565.2780027576,
          662061.3882620597,
          663553.0289102329,
          665038.9045333777,
          666517.7684557292,
          667988.4734485641,
          669450.6830684713,
          670904.7893396219,
          672351.5106089027,
          673791.8920646654,
          675227.3057367014,
          676659.2888296951,
          678089.1132554581,
          679517.9311055181,
          680946.7141510261,
          682376.2521559943,
          683807.1529600839,
          685239.8875611358,
          686674.8021417706,
          688112.1548815386,
          689552.155965958,
          690994.9675865384,
          692440.7039407701,
          693889.4334551728,
          695341.2174887009,
          696796.1019039884,
          698254.1206184338,
          699715.3015987567,
          701179.6668609884,
          702647.2324704954,
          704118.0085637824,
          705591.9987469813,
          707069.1990557762,
          708549.5997053875,
          710033.1853503132,
          711519.9350843058,
          713009.8178930875,
          714502.7934761859,
          715998.8074995189,
          717497.7704527138,
          718999.5571637126,
          720504.0067987954,
          722010.878092222,
          723519.8963716433,
          725030.6779562378,
          726542.6387928743,
          728054.9944475457,
          729566.7601053589,
          731076.7786802021,
          732583.5503692232,
          734084.8824999061,
          735578.5597171873,
          737062.4174784721,
          738534.3420536243,
          739992.2705249907,
          741434.3755881167,
          742860.2749437742,
          744270.5498662051,
          745666.3409578982,
          747049.3520571694,
          748421.8502381366,
          749786.3143310709,
          751144.7913381726,
          752499.1436194393,
          753850.9378371292,
          755201.4446872752,
          756551.6390618823,
          757902.2741749677,
          759253.9031948078,
          760606.9377510175,
          761961.710806352,
          763318.4766567282,
          764677.4109312164,
          766038.6169082196,
          767402.1900415734,
          768768.1961039103,
          770136.6839875067,
          771507.6925565411,
          772881.250647085,
          774257.3770671245,
          775636.0850833905,
          777017.4036893684,
          778401.3478663436,
          779787.9294964342,
          781177.1601094182,
          782569.0508827084,
          783963.6158407703,
          785360.8760534233,
          786760.8573607251,
          788163.6018368123,
          789569.1682488912,
          790977.6320572606,
          792389.0985220463,
          793803.7030957093,
          795221.6115920963,
          796643.081669986,
          798068.4647299143,
          799498.2059141636,
          800932.8408353017,
          802372.9822679114,
          803819.6054233584,
          805273.7327262993,
          806736.3198197105,
          808208.2555648808,
          809690.3620414329,
          811183.3787298804,
          812687.5166931917,
          814202.3590092042,
          815727.2658251084,
          817261.391126423,
          818803.6827369673,
          820352.9252816598,
          821908.1023958131,
          823468.3401194528,
          825032.8901442544,
          826601.1423670789,
          828172.6248899982,
          829746.992661299,
          831323.9724556432,
          832903.3771264473,
          834485.0577062868,
          836068.8980487533,
          837654.8148284418,
          839242.7575409411,
          840832.696703132,
          842424.6023766515,
          844018.4591055973,
          845614.2555929715,
          847211.9844694727,
          848811.6422935211,
          850413.2295512293,
          852016.7442968704,
          853622.1810989332,
          855229.5449172455,
          856838.8398047135,
          858450.0686566281,
          860063.2332029879,
          861678.3323658401,
          863295.3643111112,
          864914.3226127143,
          866535.1935680133,
          868157.9561978482,
          869782.5821500943,
          871409.0254971448,
          873037.2340077721,
          874667.1300321545,
          876298.5975135834,
          877931.4819884478,
          879565.5905862278,
          881200.6993655894,
          882836.5348394762,
          884472.6899463932,
          886108.785349141,
          887744.4900874168,
          889379.5215778433,
          891013.6456139373,
          892646.6862041719,
          894278.6818803478,
          895909.8452773679,
          897540.4273445283,
          899170.7139034222,
          900801.0256479669,
          902431.7031378325,
          904063.0107953021,
          905695.1687063794,
          907328.3630787781,
          908962.7443919715,
          910598.4273971824,
          912235.4948951252,
          913874.0152045622,
          915514.0369433638,
          917155.6003724704,
          918798.7386215301,
          920443.4776888869,
          922089.8364416081,
          923737.8292676046,
          925387.4707672307,
          927038.7725478146,
          928691.7451849047,
          930346.3982576473,
          932002.7403487562,
          933660.7790445383,
          935320.5203350115,
          936981.9685638815,
          938645.1277193298,
          940310.0000953852,
          941976.5862570248,
          943644.8850401622,
          945314.8913430206,
          946986.5984905127,
          948659.9938774477,
          950335.0540708654,
          952011.7448089891,
          953690.021001213,
          955369.816596817,
          957051.04760462,
          958733.6004728258,
          960417.3130590294,
          962101.9746088778,
          963787.3257560933,
          965473.0625657841,
          967158.8584387548,
          968844.2480682776,
          970528.8162720017,
          972212.2474831266,
          973894.325750372,
          975574.9347380038,
          977254.0583546631,
          978931.8415573108,
          980608.595435542,
          982284.641171818,
          983960.2934022461,
          985635.8602165697,
          987311.6401316291,
          988987.8705509445,
          990664.7310838178,
          992342.3727253204,
          994020.9172522215,
          995700.4572229759,
          997381.0574000209,
          999062.7714629153,
          1000745.6389500267,
          1002429.6919750541,
          1004114.9576313979,
          1005801.4579921867,
          1007489.2101102464,
          1009178.2260550044,
          1010868.5185489261,
          1012560.1021039581,
          1014252.9869159736,
          1015947.1786019364,
          1017642.6781999257,
          1019339.4821691265,
          1021037.5826146122,
          1022736.9727278934,
          1024437.6428989124,
          1026139.5715196662,
          1027842.7245557904,
          1029547.0555465481,
          1031252.4965106731,
          1032958.9583943462,
          1034666.3257002132,
          1036374.4097842419,
          1038082.9474576495,
          1039791.6009869307,
          1041499.9288668984,
          1043207.3249836469,
          1044913.0095491289,
          1046615.9529268489,
          1048314.8733347456,
          1050008.2368451618,
          1051694.2604041267,
          1053371.1006048948,
          1055036.6857679829,
          1056689.3150384745,
          1058327.9280180687,
          1059952.1047651083,
          1061562.0657269983,
          1063158.6453207536,
          1064743.4884172326,
          1066318.414997153,
          1067885.139213172,
          1069445.2693898762,
          1071000.3080237694,
          1072551.593748454,
          1074100.0721926917,
          1075646.4913839817,
          1077191.4658449222,
          1078735.4756417149,
          1080278.866384182,
          1081821.8632641078,
          1083364.660439041,
          1084907.395749139,
          1086450.1764858833,
          1087993.0847027828,
          1089536.1772158623,
          1091079.4944081872,
          1092623.0721528078,
          1094166.9354044115,
          1095711.1004962164,
          1097255.5751399442,
          1098800.35610491,
          1100345.401441091,
          1101890.671024106,
          1103436.1140686371,
          1104981.6601756394,
          1106527.2129788634,
          1108072.6356476292,
          1109617.7371936666,
          1111162.2565082451,
          1112705.82988414,
          1114247.9575342166,
          1115787.9655424133,
          1117324.920931791,
          1118857.5634121697,
          1120384.2248953108,
          1121902.6806121445,
          1123409.9724000262,
          1124902.4092759935,
          1126375.239027213,
          1127822.6918322714,
          1129238.4094628182,
          1130615.4582267536,
          1131946.7168807103,
          1133226.112751509,
          1134449.4554356507,
          1135615.1891671962,
          1136724.4002190388,
          1137780.8872001749,
          1138790.2665261587,
          1139759.1018298701,
          1140694.2481590812,
          1141602.0486855425,
          1142488.0189564738,
          1143356.7873461656,
          1144212.0450480627,
          1145056.680997839,
          1145892.9459821745,
          1146722.4977189961,
          1147546.5840087808,
          1148366.1406681095,
          1149181.8599987223,
          1149994.2388114112,
          1150803.6435444471,
          1151610.3485242228,
          1152414.5487752184,
          1153216.3856051534,
          1154015.9636034737,
          1154813.3578933275,
          1155608.622699907,
          1156401.8012750628,
          1157192.9417496845,
          1157982.0736003574,
          1158769.186903293,
          1159554.2677095274,
          1160337.297548202,
          1161118.2507441025,
          1161897.0917994182,
          1162673.7731720917,
          1163448.2297373444,
          1164220.3709552058,
          1164990.074509518,
          1165757.1753598824,
          1166521.4451915363,
          1167282.5787504981,
          1168040.1730765703,
          1168793.6844805286,
          1169542.4042955176,
          1170285.4349448488,
          1171021.6367116037,
          1171749.6583249166,
          1172467.9450248738,
          1173174.8303064299,
          1173868.5827545975,
          1174547.7926017323,
          1175211.5231188242,
          1175859.3312594884,
          1176491.5072140784,
          1177108.9512973763,
          1177712.9807008067,
          1178305.1866093103,
          1178887.181280002,
          1179460.4512159936,
          1180026.3120186203,
          1180585.847955714,
          1181139.9337075525,
          1181689.2510436599,
          1182234.3191310004,
          1182775.5328015527,
          1183313.189277709,
          1183847.505712665,
          1184378.6414674579,
          1184906.718120304,
          1185431.824285504,
          1185954.0231874373,
          1186473.3616604833,
          1186989.875326758,
          1187503.5915005303,
          1188014.5294307864,
          1188522.7038496647,
          1189028.128334032,
          1189530.821514155,
          1190030.804951777,
          1190528.0871156957,
          1191022.6769813667,
          1191514.5868901385,
          1192003.8325528458,
          1192490.434537233,
          1192974.4207196634,
          1193455.8283035585,
          1193934.7066108217,
          1194411.1224279394,
          1194885.1671828195,
          1195356.9631326483,
          1195826.669906158,
          1196294.508220048,
          1196760.7683718752,
          1197225.8228386878,
          1197690.153270274,
          1198154.3592775299,
          1198619.162022116,
          1199085.391732796,
          1199553.943161494,
          1200025.6886808404,
          1200501.3903131199,
          1200981.5662205608,
          1201466.4101765403,
          1201955.7433907886,
          1202449.0669140988,
          1202945.6486768322,
          1203444.6126864695,
          1203945.070848485,
          1204446.2082601152,
          1204947.3032823582,
          1205447.7598197071,
          1205947.099916666,
          1206444.950938265,
          1206941.0301703988,
          1207435.1236404811,
          1207927.072113896,
          1208416.7603468203,
          1208904.1047069307,
          1209389.0433526686,
          1209871.5340016831,
          1210351.5472706694,
          1210829.0630389967,
          1211304.0674793452,
          1211776.55256035,
          1212246.5140083747,
          1212713.9506177972,
          1213178.8627124769,
          1213641.251881191,
          1214101.124294645,
          1214558.4898564185,
          1215013.3600525775,
          1215465.7489595318,
          1215915.6732462565,
          1216363.1541215535,
          1216808.2163745686,
          1217250.8938930035,
          1217691.2332098417,
          1218129.293503358,
          1218565.1533722624,
          1218998.9123350948,
          1219430.7066444089,
          1219860.7261678348,
          1220289.21444047,
          1220716.4687414432,
          1221142.9002438858,
          1221569.03067755,
          1221995.4496495016,
          1222422.8141123045,
          1222851.8483640158,
          1223283.3237453136,
          1223717.8619612597,
          1224155.886253638,
          1224597.5415870578,
          1225042.6838949546,
          1225490.8859919517,
          1225941.5046595878,
          1226393.8381126206,
          1226847.1418976234,
          1227300.7132497337,
          1227753.9566124256,
          1228206.3718416383,
          1228657.559092318,
          1229107.2091028325,
          1229555.0890909743,
          1230001.0209662367,
          1230444.8723132343,
          1230886.5518510942,
          1231325.9922409055,
          1231763.1458647428,
          1232197.980166945,
          1232630.4742621758,
          1233060.6150838877,
          1233488.3949523668,
          1233913.8107777534,
          1234336.862935057,
          1234757.5550426645,
          1235175.8892686218,
          1235591.8657776895,
          1236005.486867509,
          1236416.759343992,
          1236825.6896524762,
          1237232.283477149,
          1237636.5454982251,
          1238038.4788280977,
          1238438.0844182088,
          1238835.3604734472,
          1239230.3014821105,
          1239622.896306179,
          1240013.1267799383,
          1240400.9660569688,
          1240786.3735803105,
          1241169.2918618687,
          1241549.6434938125,
          1241927.3239297862,
          1242302.1960699398,
          1242674.087824281,
          1243042.7879551551,
          1243408.0557285885,
          1243769.6307069776,
          1244127.2503290493,
          1244480.6936187628,
          1244829.8169100608,
          1245174.560049853,
          1245514.9880724433,
          1245851.2572066926,
          1246183.586501005,
          1246512.2489738148,
          1246837.5172864457,
          1247159.645203635,
          1247478.853928057,
          1247795.331328579,
          1248109.2291891344,
          1248420.6645912474,
          1248729.7333378445,
          1249036.511029103,
          1249341.0532433956,
          1249643.4032582145,
          1249943.5960353967,
          1250241.6598893844,
          1250537.618158889,
          1250831.4894221292,
          1251123.2897552226,
          1251413.0331687501,
          1251700.7324068884,
          1251986.3991328941,
          1252270.0438633738,
          1252551.6765644506,
          1252831.308634467,
          1253108.9503526783,
          1253384.6104606607,
          1253658.2971904257,
          1253930.0192330247,
          1254199.7851662873,
          1254467.6035637276,
          1254733.4829929648,
          1254997.4320171624,
          1255259.4592008342,
          1255519.5731014863,
          1255777.7822693128,
          1256034.0952539693,
          1256288.5205980195,
          1256541.0668344432,
          1256791.7424893805,
          1257040.5560813933,
          1257287.516119619,
          1257532.6311082796,
          1257775.9095423936,
          1258017.3599072127,
          1258256.990678553,
          1258494.8103256428,
          1258730.8273101097,
          1258965.0500848647
         ],
         "yaxis": "y"
        },
        {
         "hovertemplate": "year=%{x}<br>population=%{y}<extra></extra>",
         "legendgroup": "",
         "marker": {
          "color": "red",
          "symbol": "circle"
         },
         "mode": "markers",
         "name": "",
         "orientation": "v",
         "showlegend": false,
         "type": "scatter",
         "x": [
          1995,
          1996,
          1997,
          1998,
          1999,
          2000,
          2001,
          2002,
          2003,
          2004,
          2005,
          2006,
          2007,
          2008,
          2009,
          2010,
          2011,
          2012,
          2013,
          2014,
          2015,
          2016,
          2017,
          2018,
          2019
         ],
         "xaxis": "x",
         "y": [
          1041800,
          1061600,
          1081100,
          1101800,
          1123500,
          1133900,
          1145200,
          1155300,
          1164500,
          1174400,
          1182900,
          1188700,
          1195200,
          1201700,
          1207100,
          1205840,
          1204500,
          1203460,
          1202070,
          1200740,
          1199500,
          1198100,
          1197000,
          1195600,
          1194300
         ],
         "yaxis": "y"
        }
       ],
       "layout": {
        "template": {
         "data": {
          "bar": [
           {
            "error_x": {
             "color": "#2a3f5f"
            },
            "error_y": {
             "color": "#2a3f5f"
            },
            "marker": {
             "line": {
              "color": "#E5ECF6",
              "width": 0.5
             },
             "pattern": {
              "fillmode": "overlay",
              "size": 10,
              "solidity": 0.2
             }
            },
            "type": "bar"
           }
          ],
          "barpolar": [
           {
            "marker": {
             "line": {
              "color": "#E5ECF6",
              "width": 0.5
             },
             "pattern": {
              "fillmode": "overlay",
              "size": 10,
              "solidity": 0.2
             }
            },
            "type": "barpolar"
           }
          ],
          "carpet": [
           {
            "aaxis": {
             "endlinecolor": "#2a3f5f",
             "gridcolor": "white",
             "linecolor": "white",
             "minorgridcolor": "white",
             "startlinecolor": "#2a3f5f"
            },
            "baxis": {
             "endlinecolor": "#2a3f5f",
             "gridcolor": "white",
             "linecolor": "white",
             "minorgridcolor": "white",
             "startlinecolor": "#2a3f5f"
            },
            "type": "carpet"
           }
          ],
          "choropleth": [
           {
            "colorbar": {
             "outlinewidth": 0,
             "ticks": ""
            },
            "type": "choropleth"
           }
          ],
          "contour": [
           {
            "colorbar": {
             "outlinewidth": 0,
             "ticks": ""
            },
            "colorscale": [
             [
              0,
              "#0d0887"
             ],
             [
              0.1111111111111111,
              "#46039f"
             ],
             [
              0.2222222222222222,
              "#7201a8"
             ],
             [
              0.3333333333333333,
              "#9c179e"
             ],
             [
              0.4444444444444444,
              "#bd3786"
             ],
             [
              0.5555555555555556,
              "#d8576b"
             ],
             [
              0.6666666666666666,
              "#ed7953"
             ],
             [
              0.7777777777777778,
              "#fb9f3a"
             ],
             [
              0.8888888888888888,
              "#fdca26"
             ],
             [
              1,
              "#f0f921"
             ]
            ],
            "type": "contour"
           }
          ],
          "contourcarpet": [
           {
            "colorbar": {
             "outlinewidth": 0,
             "ticks": ""
            },
            "type": "contourcarpet"
           }
          ],
          "heatmap": [
           {
            "colorbar": {
             "outlinewidth": 0,
             "ticks": ""
            },
            "colorscale": [
             [
              0,
              "#0d0887"
             ],
             [
              0.1111111111111111,
              "#46039f"
             ],
             [
              0.2222222222222222,
              "#7201a8"
             ],
             [
              0.3333333333333333,
              "#9c179e"
             ],
             [
              0.4444444444444444,
              "#bd3786"
             ],
             [
              0.5555555555555556,
              "#d8576b"
             ],
             [
              0.6666666666666666,
              "#ed7953"
             ],
             [
              0.7777777777777778,
              "#fb9f3a"
             ],
             [
              0.8888888888888888,
              "#fdca26"
             ],
             [
              1,
              "#f0f921"
             ]
            ],
            "type": "heatmap"
           }
          ],
          "heatmapgl": [
           {
            "colorbar": {
             "outlinewidth": 0,
             "ticks": ""
            },
            "colorscale": [
             [
              0,
              "#0d0887"
             ],
             [
              0.1111111111111111,
              "#46039f"
             ],
             [
              0.2222222222222222,
              "#7201a8"
             ],
             [
              0.3333333333333333,
              "#9c179e"
             ],
             [
              0.4444444444444444,
              "#bd3786"
             ],
             [
              0.5555555555555556,
              "#d8576b"
             ],
             [
              0.6666666666666666,
              "#ed7953"
             ],
             [
              0.7777777777777778,
              "#fb9f3a"
             ],
             [
              0.8888888888888888,
              "#fdca26"
             ],
             [
              1,
              "#f0f921"
             ]
            ],
            "type": "heatmapgl"
           }
          ],
          "histogram": [
           {
            "marker": {
             "pattern": {
              "fillmode": "overlay",
              "size": 10,
              "solidity": 0.2
             }
            },
            "type": "histogram"
           }
          ],
          "histogram2d": [
           {
            "colorbar": {
             "outlinewidth": 0,
             "ticks": ""
            },
            "colorscale": [
             [
              0,
              "#0d0887"
             ],
             [
              0.1111111111111111,
              "#46039f"
             ],
             [
              0.2222222222222222,
              "#7201a8"
             ],
             [
              0.3333333333333333,
              "#9c179e"
             ],
             [
              0.4444444444444444,
              "#bd3786"
             ],
             [
              0.5555555555555556,
              "#d8576b"
             ],
             [
              0.6666666666666666,
              "#ed7953"
             ],
             [
              0.7777777777777778,
              "#fb9f3a"
             ],
             [
              0.8888888888888888,
              "#fdca26"
             ],
             [
              1,
              "#f0f921"
             ]
            ],
            "type": "histogram2d"
           }
          ],
          "histogram2dcontour": [
           {
            "colorbar": {
             "outlinewidth": 0,
             "ticks": ""
            },
            "colorscale": [
             [
              0,
              "#0d0887"
             ],
             [
              0.1111111111111111,
              "#46039f"
             ],
             [
              0.2222222222222222,
              "#7201a8"
             ],
             [
              0.3333333333333333,
              "#9c179e"
             ],
             [
              0.4444444444444444,
              "#bd3786"
             ],
             [
              0.5555555555555556,
              "#d8576b"
             ],
             [
              0.6666666666666666,
              "#ed7953"
             ],
             [
              0.7777777777777778,
              "#fb9f3a"
             ],
             [
              0.8888888888888888,
              "#fdca26"
             ],
             [
              1,
              "#f0f921"
             ]
            ],
            "type": "histogram2dcontour"
           }
          ],
          "mesh3d": [
           {
            "colorbar": {
             "outlinewidth": 0,
             "ticks": ""
            },
            "type": "mesh3d"
           }
          ],
          "parcoords": [
           {
            "line": {
             "colorbar": {
              "outlinewidth": 0,
              "ticks": ""
             }
            },
            "type": "parcoords"
           }
          ],
          "pie": [
           {
            "automargin": true,
            "type": "pie"
           }
          ],
          "scatter": [
           {
            "fillpattern": {
             "fillmode": "overlay",
             "size": 10,
             "solidity": 0.2
            },
            "type": "scatter"
           }
          ],
          "scatter3d": [
           {
            "line": {
             "colorbar": {
              "outlinewidth": 0,
              "ticks": ""
             }
            },
            "marker": {
             "colorbar": {
              "outlinewidth": 0,
              "ticks": ""
             }
            },
            "type": "scatter3d"
           }
          ],
          "scattercarpet": [
           {
            "marker": {
             "colorbar": {
              "outlinewidth": 0,
              "ticks": ""
             }
            },
            "type": "scattercarpet"
           }
          ],
          "scattergeo": [
           {
            "marker": {
             "colorbar": {
              "outlinewidth": 0,
              "ticks": ""
             }
            },
            "type": "scattergeo"
           }
          ],
          "scattergl": [
           {
            "marker": {
             "colorbar": {
              "outlinewidth": 0,
              "ticks": ""
             }
            },
            "type": "scattergl"
           }
          ],
          "scattermapbox": [
           {
            "marker": {
             "colorbar": {
              "outlinewidth": 0,
              "ticks": ""
             }
            },
            "type": "scattermapbox"
           }
          ],
          "scatterpolar": [
           {
            "marker": {
             "colorbar": {
              "outlinewidth": 0,
              "ticks": ""
             }
            },
            "type": "scatterpolar"
           }
          ],
          "scatterpolargl": [
           {
            "marker": {
             "colorbar": {
              "outlinewidth": 0,
              "ticks": ""
             }
            },
            "type": "scatterpolargl"
           }
          ],
          "scatterternary": [
           {
            "marker": {
             "colorbar": {
              "outlinewidth": 0,
              "ticks": ""
             }
            },
            "type": "scatterternary"
           }
          ],
          "surface": [
           {
            "colorbar": {
             "outlinewidth": 0,
             "ticks": ""
            },
            "colorscale": [
             [
              0,
              "#0d0887"
             ],
             [
              0.1111111111111111,
              "#46039f"
             ],
             [
              0.2222222222222222,
              "#7201a8"
             ],
             [
              0.3333333333333333,
              "#9c179e"
             ],
             [
              0.4444444444444444,
              "#bd3786"
             ],
             [
              0.5555555555555556,
              "#d8576b"
             ],
             [
              0.6666666666666666,
              "#ed7953"
             ],
             [
              0.7777777777777778,
              "#fb9f3a"
             ],
             [
              0.8888888888888888,
              "#fdca26"
             ],
             [
              1,
              "#f0f921"
             ]
            ],
            "type": "surface"
           }
          ],
          "table": [
           {
            "cells": {
             "fill": {
              "color": "#EBF0F8"
             },
             "line": {
              "color": "white"
             }
            },
            "header": {
             "fill": {
              "color": "#C8D4E3"
             },
             "line": {
              "color": "white"
             }
            },
            "type": "table"
           }
          ]
         },
         "layout": {
          "annotationdefaults": {
           "arrowcolor": "#2a3f5f",
           "arrowhead": 0,
           "arrowwidth": 1
          },
          "autotypenumbers": "strict",
          "coloraxis": {
           "colorbar": {
            "outlinewidth": 0,
            "ticks": ""
           }
          },
          "colorscale": {
           "diverging": [
            [
             0,
             "#8e0152"
            ],
            [
             0.1,
             "#c51b7d"
            ],
            [
             0.2,
             "#de77ae"
            ],
            [
             0.3,
             "#f1b6da"
            ],
            [
             0.4,
             "#fde0ef"
            ],
            [
             0.5,
             "#f7f7f7"
            ],
            [
             0.6,
             "#e6f5d0"
            ],
            [
             0.7,
             "#b8e186"
            ],
            [
             0.8,
             "#7fbc41"
            ],
            [
             0.9,
             "#4d9221"
            ],
            [
             1,
             "#276419"
            ]
           ],
           "sequential": [
            [
             0,
             "#0d0887"
            ],
            [
             0.1111111111111111,
             "#46039f"
            ],
            [
             0.2222222222222222,
             "#7201a8"
            ],
            [
             0.3333333333333333,
             "#9c179e"
            ],
            [
             0.4444444444444444,
             "#bd3786"
            ],
            [
             0.5555555555555556,
             "#d8576b"
            ],
            [
             0.6666666666666666,
             "#ed7953"
            ],
            [
             0.7777777777777778,
             "#fb9f3a"
            ],
            [
             0.8888888888888888,
             "#fdca26"
            ],
            [
             1,
             "#f0f921"
            ]
           ],
           "sequentialminus": [
            [
             0,
             "#0d0887"
            ],
            [
             0.1111111111111111,
             "#46039f"
            ],
            [
             0.2222222222222222,
             "#7201a8"
            ],
            [
             0.3333333333333333,
             "#9c179e"
            ],
            [
             0.4444444444444444,
             "#bd3786"
            ],
            [
             0.5555555555555556,
             "#d8576b"
            ],
            [
             0.6666666666666666,
             "#ed7953"
            ],
            [
             0.7777777777777778,
             "#fb9f3a"
            ],
            [
             0.8888888888888888,
             "#fdca26"
            ],
            [
             1,
             "#f0f921"
            ]
           ]
          },
          "colorway": [
           "#636efa",
           "#EF553B",
           "#00cc96",
           "#ab63fa",
           "#FFA15A",
           "#19d3f3",
           "#FF6692",
           "#B6E880",
           "#FF97FF",
           "#FECB52"
          ],
          "font": {
           "color": "#2a3f5f"
          },
          "geo": {
           "bgcolor": "white",
           "lakecolor": "white",
           "landcolor": "#E5ECF6",
           "showlakes": true,
           "showland": true,
           "subunitcolor": "white"
          },
          "hoverlabel": {
           "align": "left"
          },
          "hovermode": "closest",
          "mapbox": {
           "style": "light"
          },
          "paper_bgcolor": "white",
          "plot_bgcolor": "#E5ECF6",
          "polar": {
           "angularaxis": {
            "gridcolor": "white",
            "linecolor": "white",
            "ticks": ""
           },
           "bgcolor": "#E5ECF6",
           "radialaxis": {
            "gridcolor": "white",
            "linecolor": "white",
            "ticks": ""
           }
          },
          "scene": {
           "xaxis": {
            "backgroundcolor": "#E5ECF6",
            "gridcolor": "white",
            "gridwidth": 2,
            "linecolor": "white",
            "showbackground": true,
            "ticks": "",
            "zerolinecolor": "white"
           },
           "yaxis": {
            "backgroundcolor": "#E5ECF6",
            "gridcolor": "white",
            "gridwidth": 2,
            "linecolor": "white",
            "showbackground": true,
            "ticks": "",
            "zerolinecolor": "white"
           },
           "zaxis": {
            "backgroundcolor": "#E5ECF6",
            "gridcolor": "white",
            "gridwidth": 2,
            "linecolor": "white",
            "showbackground": true,
            "ticks": "",
            "zerolinecolor": "white"
           }
          },
          "shapedefaults": {
           "line": {
            "color": "#2a3f5f"
           }
          },
          "ternary": {
           "aaxis": {
            "gridcolor": "white",
            "linecolor": "white",
            "ticks": ""
           },
           "baxis": {
            "gridcolor": "white",
            "linecolor": "white",
            "ticks": ""
           },
           "bgcolor": "#E5ECF6",
           "caxis": {
            "gridcolor": "white",
            "linecolor": "white",
            "ticks": ""
           }
          },
          "title": {
           "x": 0.05
          },
          "xaxis": {
           "automargin": true,
           "gridcolor": "white",
           "linecolor": "white",
           "ticks": "",
           "title": {
            "standoff": 15
           },
           "zerolinecolor": "white",
           "zerolinewidth": 2
          },
          "yaxis": {
           "automargin": true,
           "gridcolor": "white",
           "linecolor": "white",
           "ticks": "",
           "title": {
            "standoff": 15
           },
           "zerolinecolor": "white",
           "zerolinewidth": 2
          }
         }
        },
        "title": {
         "text": "Modelled vs Data",
         "x": 0.5
        },
        "xaxis": {
         "title": {
          "text": "Year"
         }
        },
        "yaxis": {
         "title": {
          "text": "Population"
         }
        }
       }
      }
     },
     "metadata": {},
     "output_type": "display_data"
    }
   ],
   "source": [
    "fig2_1 = px.line(\n",
    "    derived_df_0,\n",
    "    x=derived_df_0.index,\n",
    "    y=\"total_population\",\n",
    ")\n",
    "fig2_2 = px.scatter(pop_df.reset_index(), x=\"year\", y=\"population\")\n",
    "fig2_2.update_traces(marker=dict(color=\"red\"))\n",
    "fig2_3 = go.Figure(\n",
    "    data=fig2_1.data + fig2_2.data,\n",
    ")\n",
    "fig2_3.update_layout(\n",
    "    title=\"Modelled vs Data\", title_x=0.5, xaxis_title=\"Year\", yaxis_title=\"Population\"\n",
    ")\n",
    "fig2_3.show()"
   ]
  },
  {
   "cell_type": "code",
   "execution_count": 14,
   "metadata": {},
   "outputs": [
    {
     "data": {
      "application/vnd.plotly.v1+json": {
       "config": {
        "plotlyServerURL": "https://plot.ly"
       },
       "data": [
        {
         "hovertemplate": "variable=incidence<br>index=%{x}<br>value=%{y}<extra></extra>",
         "legendgroup": "incidence",
         "line": {
          "color": "#636efa",
          "dash": "solid"
         },
         "marker": {
          "symbol": "circle"
         },
         "mode": "lines",
         "name": "incidence",
         "showlegend": true,
         "type": "scattergl",
         "x": [
          1900,
          1900.1,
          1900.2,
          1900.3,
          1900.4,
          1900.5,
          1900.6,
          1900.7,
          1900.8,
          1900.9,
          1901,
          1901.1,
          1901.2,
          1901.3,
          1901.4,
          1901.5,
          1901.6,
          1901.7,
          1901.8,
          1901.9,
          1902,
          1902.1,
          1902.2,
          1902.3,
          1902.4,
          1902.5,
          1902.6,
          1902.7,
          1902.8,
          1902.9,
          1903,
          1903.1,
          1903.2,
          1903.3,
          1903.4,
          1903.5,
          1903.6,
          1903.7,
          1903.8,
          1903.9,
          1904,
          1904.1,
          1904.2,
          1904.3,
          1904.4,
          1904.5,
          1904.6,
          1904.7,
          1904.8,
          1904.9,
          1905,
          1905.1,
          1905.2,
          1905.3,
          1905.4,
          1905.5,
          1905.6,
          1905.7,
          1905.8,
          1905.9,
          1906,
          1906.1,
          1906.2,
          1906.3,
          1906.4,
          1906.5,
          1906.6,
          1906.7,
          1906.8,
          1906.9,
          1907,
          1907.1,
          1907.2,
          1907.3,
          1907.4,
          1907.5,
          1907.6,
          1907.7,
          1907.8,
          1907.9,
          1908,
          1908.1,
          1908.2,
          1908.3,
          1908.4,
          1908.5,
          1908.6,
          1908.7,
          1908.8,
          1908.9,
          1909,
          1909.1,
          1909.2,
          1909.3,
          1909.4,
          1909.5,
          1909.6,
          1909.7,
          1909.8,
          1909.9,
          1910,
          1910.1,
          1910.2,
          1910.3,
          1910.4,
          1910.5,
          1910.6,
          1910.7,
          1910.8,
          1910.9,
          1911,
          1911.1,
          1911.2,
          1911.3,
          1911.4,
          1911.5,
          1911.6,
          1911.7,
          1911.8,
          1911.9,
          1912,
          1912.1,
          1912.2,
          1912.3,
          1912.4,
          1912.5,
          1912.6,
          1912.7,
          1912.8,
          1912.9,
          1913,
          1913.1,
          1913.2,
          1913.3,
          1913.4,
          1913.5,
          1913.6,
          1913.7,
          1913.8,
          1913.9,
          1914,
          1914.1,
          1914.2,
          1914.3,
          1914.4,
          1914.5,
          1914.6,
          1914.7,
          1914.8,
          1914.9,
          1915,
          1915.1,
          1915.2,
          1915.3,
          1915.4,
          1915.5,
          1915.6,
          1915.7,
          1915.8,
          1915.9,
          1916,
          1916.1,
          1916.2,
          1916.3,
          1916.4,
          1916.5,
          1916.6,
          1916.7,
          1916.8,
          1916.9,
          1917,
          1917.1,
          1917.2,
          1917.3,
          1917.4,
          1917.5,
          1917.6,
          1917.7,
          1917.8,
          1917.9,
          1918,
          1918.1,
          1918.2,
          1918.3,
          1918.4,
          1918.5,
          1918.6,
          1918.7,
          1918.8,
          1918.9,
          1919,
          1919.1,
          1919.2,
          1919.3,
          1919.4,
          1919.5,
          1919.6,
          1919.7,
          1919.8,
          1919.9,
          1920,
          1920.1,
          1920.2,
          1920.3,
          1920.4,
          1920.5,
          1920.6,
          1920.7,
          1920.8,
          1920.9,
          1921,
          1921.1,
          1921.2,
          1921.3,
          1921.4,
          1921.5,
          1921.6,
          1921.7,
          1921.8,
          1921.9,
          1922,
          1922.1,
          1922.2,
          1922.3,
          1922.4,
          1922.5,
          1922.6,
          1922.7,
          1922.8,
          1922.9,
          1923,
          1923.1,
          1923.2,
          1923.3,
          1923.4,
          1923.5,
          1923.6,
          1923.7,
          1923.8,
          1923.9,
          1924,
          1924.1,
          1924.2,
          1924.3,
          1924.4,
          1924.5,
          1924.6,
          1924.7,
          1924.8,
          1924.9,
          1925,
          1925.1,
          1925.2,
          1925.3,
          1925.4,
          1925.5,
          1925.6,
          1925.7,
          1925.8,
          1925.9,
          1926,
          1926.1,
          1926.2,
          1926.3,
          1926.4,
          1926.5,
          1926.6,
          1926.7,
          1926.8,
          1926.9,
          1927,
          1927.1,
          1927.2,
          1927.3,
          1927.4,
          1927.5,
          1927.6,
          1927.7,
          1927.8,
          1927.9,
          1928,
          1928.1,
          1928.2,
          1928.3,
          1928.4,
          1928.5,
          1928.6,
          1928.7,
          1928.8,
          1928.9,
          1929,
          1929.1,
          1929.2,
          1929.3,
          1929.4,
          1929.5,
          1929.6,
          1929.7,
          1929.8,
          1929.9,
          1930,
          1930.1,
          1930.2,
          1930.3,
          1930.4,
          1930.5,
          1930.6,
          1930.7,
          1930.8,
          1930.9,
          1931,
          1931.1,
          1931.2,
          1931.3,
          1931.4,
          1931.5,
          1931.6,
          1931.7,
          1931.8,
          1931.9,
          1932,
          1932.1,
          1932.2,
          1932.3,
          1932.4,
          1932.5,
          1932.6,
          1932.7,
          1932.8,
          1932.9,
          1933,
          1933.1,
          1933.2,
          1933.3,
          1933.4,
          1933.5,
          1933.6,
          1933.7,
          1933.8,
          1933.9,
          1934,
          1934.1,
          1934.2,
          1934.3,
          1934.4,
          1934.5,
          1934.6,
          1934.7,
          1934.8,
          1934.9,
          1935,
          1935.1,
          1935.2,
          1935.3,
          1935.4,
          1935.5,
          1935.6,
          1935.7,
          1935.8,
          1935.9,
          1936,
          1936.1,
          1936.2,
          1936.3,
          1936.4,
          1936.5,
          1936.6,
          1936.7,
          1936.8,
          1936.9,
          1937,
          1937.1,
          1937.2,
          1937.3,
          1937.4,
          1937.5,
          1937.6,
          1937.7,
          1937.8,
          1937.9,
          1938,
          1938.1,
          1938.2,
          1938.3,
          1938.4,
          1938.5,
          1938.6,
          1938.7,
          1938.8,
          1938.9,
          1939,
          1939.1,
          1939.2,
          1939.3,
          1939.4,
          1939.5,
          1939.6,
          1939.7,
          1939.8,
          1939.9,
          1940,
          1940.1,
          1940.2,
          1940.3,
          1940.4,
          1940.5,
          1940.6,
          1940.7,
          1940.8,
          1940.9,
          1941,
          1941.1,
          1941.2,
          1941.3,
          1941.4,
          1941.5,
          1941.6,
          1941.7,
          1941.8,
          1941.9,
          1942,
          1942.1,
          1942.2,
          1942.3,
          1942.4,
          1942.5,
          1942.6,
          1942.7,
          1942.8,
          1942.9,
          1943,
          1943.1,
          1943.2,
          1943.3,
          1943.4,
          1943.5,
          1943.6,
          1943.7,
          1943.8,
          1943.9,
          1944,
          1944.1,
          1944.2,
          1944.3,
          1944.4,
          1944.5,
          1944.6,
          1944.7,
          1944.8,
          1944.9,
          1945,
          1945.1,
          1945.2,
          1945.3,
          1945.4,
          1945.5,
          1945.6,
          1945.7,
          1945.8,
          1945.9,
          1946,
          1946.1,
          1946.2,
          1946.3,
          1946.4,
          1946.5,
          1946.6,
          1946.7,
          1946.8,
          1946.9,
          1947,
          1947.1,
          1947.2,
          1947.3,
          1947.4,
          1947.5,
          1947.6,
          1947.7,
          1947.8,
          1947.9,
          1948,
          1948.1,
          1948.2,
          1948.3,
          1948.4,
          1948.5,
          1948.6,
          1948.7,
          1948.8,
          1948.9,
          1949,
          1949.1,
          1949.2,
          1949.3,
          1949.4,
          1949.5,
          1949.6,
          1949.7,
          1949.8,
          1949.9,
          1950,
          1950.1,
          1950.2,
          1950.3,
          1950.4,
          1950.5,
          1950.6,
          1950.7,
          1950.8,
          1950.9,
          1951,
          1951.1,
          1951.2,
          1951.3,
          1951.4,
          1951.5,
          1951.6,
          1951.7,
          1951.8,
          1951.9,
          1952,
          1952.1,
          1952.2,
          1952.3,
          1952.4,
          1952.5,
          1952.6,
          1952.7,
          1952.8,
          1952.9,
          1953,
          1953.1,
          1953.2,
          1953.3,
          1953.4,
          1953.5,
          1953.6,
          1953.7,
          1953.8,
          1953.9,
          1954,
          1954.1,
          1954.2,
          1954.3,
          1954.4,
          1954.5,
          1954.6,
          1954.7,
          1954.8,
          1954.9,
          1955,
          1955.1,
          1955.2,
          1955.3,
          1955.4,
          1955.5,
          1955.6,
          1955.7,
          1955.8,
          1955.9,
          1956,
          1956.1,
          1956.2,
          1956.3,
          1956.4,
          1956.5,
          1956.6,
          1956.7,
          1956.8,
          1956.9,
          1957,
          1957.1,
          1957.2,
          1957.3,
          1957.4,
          1957.5,
          1957.6,
          1957.7,
          1957.8,
          1957.9,
          1958,
          1958.1,
          1958.2,
          1958.3,
          1958.4,
          1958.5,
          1958.6,
          1958.7,
          1958.8,
          1958.9,
          1959,
          1959.1,
          1959.2,
          1959.3,
          1959.4,
          1959.5,
          1959.6,
          1959.7,
          1959.8,
          1959.9,
          1960,
          1960.1,
          1960.2,
          1960.3,
          1960.4,
          1960.5,
          1960.6,
          1960.7,
          1960.8,
          1960.9,
          1961,
          1961.1,
          1961.2,
          1961.3,
          1961.4,
          1961.5,
          1961.6,
          1961.7,
          1961.8,
          1961.9,
          1962,
          1962.1,
          1962.2,
          1962.3,
          1962.4,
          1962.5,
          1962.6,
          1962.7,
          1962.8,
          1962.9,
          1963,
          1963.1,
          1963.2,
          1963.3,
          1963.4,
          1963.5,
          1963.6,
          1963.7,
          1963.8,
          1963.9,
          1964,
          1964.1,
          1964.2,
          1964.3,
          1964.4,
          1964.5,
          1964.6,
          1964.7,
          1964.8,
          1964.9,
          1965,
          1965.1,
          1965.2,
          1965.3,
          1965.4,
          1965.5,
          1965.6,
          1965.7,
          1965.8,
          1965.9,
          1966,
          1966.1,
          1966.2,
          1966.3,
          1966.4,
          1966.5,
          1966.6,
          1966.7,
          1966.8,
          1966.9,
          1967,
          1967.1,
          1967.2,
          1967.3,
          1967.4,
          1967.5,
          1967.6,
          1967.7,
          1967.8,
          1967.9,
          1968,
          1968.1,
          1968.2,
          1968.3,
          1968.4,
          1968.5,
          1968.6,
          1968.7,
          1968.8,
          1968.9,
          1969,
          1969.1,
          1969.2,
          1969.3,
          1969.4,
          1969.5,
          1969.6,
          1969.7,
          1969.8,
          1969.9,
          1970,
          1970.1,
          1970.2,
          1970.3,
          1970.4,
          1970.5,
          1970.6,
          1970.7,
          1970.8,
          1970.9,
          1971,
          1971.1,
          1971.2,
          1971.3,
          1971.4,
          1971.5,
          1971.6,
          1971.7,
          1971.8,
          1971.9,
          1972,
          1972.1,
          1972.2,
          1972.3,
          1972.4,
          1972.5,
          1972.6,
          1972.7,
          1972.8,
          1972.9,
          1973,
          1973.1,
          1973.2,
          1973.3,
          1973.4,
          1973.5,
          1973.6,
          1973.7,
          1973.8,
          1973.9,
          1974,
          1974.1,
          1974.2,
          1974.3,
          1974.4,
          1974.5,
          1974.6,
          1974.7,
          1974.8,
          1974.9,
          1975,
          1975.1,
          1975.2,
          1975.3,
          1975.4,
          1975.5,
          1975.6,
          1975.7,
          1975.8,
          1975.9,
          1976,
          1976.1,
          1976.2,
          1976.3,
          1976.4,
          1976.5,
          1976.6,
          1976.7,
          1976.8,
          1976.9,
          1977,
          1977.1,
          1977.2,
          1977.3,
          1977.4,
          1977.5,
          1977.6,
          1977.7,
          1977.8,
          1977.9,
          1978,
          1978.1,
          1978.2,
          1978.3,
          1978.4,
          1978.5,
          1978.6,
          1978.7,
          1978.8,
          1978.9,
          1979,
          1979.1,
          1979.2,
          1979.3,
          1979.4,
          1979.5,
          1979.6,
          1979.7,
          1979.8,
          1979.9,
          1980,
          1980.1,
          1980.2,
          1980.3,
          1980.4,
          1980.5,
          1980.6,
          1980.7,
          1980.8,
          1980.9,
          1981,
          1981.1,
          1981.2,
          1981.3,
          1981.4,
          1981.5,
          1981.6,
          1981.7,
          1981.8,
          1981.9,
          1982,
          1982.1,
          1982.2,
          1982.3,
          1982.4,
          1982.5,
          1982.6,
          1982.7,
          1982.8,
          1982.9,
          1983,
          1983.1,
          1983.2,
          1983.3,
          1983.4,
          1983.5,
          1983.6,
          1983.7,
          1983.8,
          1983.9,
          1984,
          1984.1,
          1984.2,
          1984.3,
          1984.4,
          1984.5,
          1984.6,
          1984.7,
          1984.8,
          1984.9,
          1985,
          1985.1,
          1985.2,
          1985.3,
          1985.4,
          1985.5,
          1985.6,
          1985.7,
          1985.8,
          1985.9,
          1986,
          1986.1,
          1986.2,
          1986.3,
          1986.4,
          1986.5,
          1986.6,
          1986.7,
          1986.8,
          1986.9,
          1987,
          1987.1,
          1987.2,
          1987.3,
          1987.4,
          1987.5,
          1987.6,
          1987.7,
          1987.8,
          1987.9,
          1988,
          1988.1,
          1988.2,
          1988.3,
          1988.4,
          1988.5,
          1988.6,
          1988.7,
          1988.8,
          1988.9,
          1989,
          1989.1,
          1989.2,
          1989.3,
          1989.4,
          1989.5,
          1989.6,
          1989.7,
          1989.8,
          1989.9,
          1990,
          1990.1,
          1990.2,
          1990.3,
          1990.4,
          1990.5,
          1990.6,
          1990.7,
          1990.8,
          1990.9,
          1991,
          1991.1,
          1991.2,
          1991.3,
          1991.4,
          1991.5,
          1991.6,
          1991.7,
          1991.8,
          1991.9,
          1992,
          1992.1,
          1992.2,
          1992.3,
          1992.4,
          1992.5,
          1992.6,
          1992.7,
          1992.8,
          1992.9,
          1993,
          1993.1,
          1993.2,
          1993.3,
          1993.4,
          1993.5,
          1993.6,
          1993.7,
          1993.8,
          1993.9,
          1994,
          1994.1,
          1994.2,
          1994.3,
          1994.4,
          1994.5,
          1994.6,
          1994.7,
          1994.8,
          1994.9,
          1995,
          1995.1,
          1995.2,
          1995.3,
          1995.4,
          1995.5,
          1995.6,
          1995.7,
          1995.8,
          1995.9,
          1996,
          1996.1,
          1996.2,
          1996.3,
          1996.4,
          1996.5,
          1996.6,
          1996.7,
          1996.8,
          1996.9,
          1997,
          1997.1,
          1997.2,
          1997.3,
          1997.4,
          1997.5,
          1997.6,
          1997.7,
          1997.8,
          1997.9,
          1998,
          1998.1,
          1998.2,
          1998.3,
          1998.4,
          1998.5,
          1998.6,
          1998.7,
          1998.8,
          1998.9,
          1999,
          1999.1,
          1999.2,
          1999.3,
          1999.4,
          1999.5,
          1999.6,
          1999.7,
          1999.8,
          1999.9,
          2000,
          2000.1,
          2000.2,
          2000.3,
          2000.4,
          2000.5,
          2000.6,
          2000.7,
          2000.8,
          2000.9,
          2001,
          2001.1,
          2001.2,
          2001.3,
          2001.4,
          2001.5,
          2001.6,
          2001.7,
          2001.8,
          2001.9,
          2002,
          2002.1,
          2002.2,
          2002.3,
          2002.4,
          2002.5,
          2002.6,
          2002.7,
          2002.8,
          2002.9,
          2003,
          2003.1,
          2003.2,
          2003.3,
          2003.4,
          2003.5,
          2003.6,
          2003.7,
          2003.8,
          2003.9,
          2004,
          2004.1,
          2004.2,
          2004.3,
          2004.4,
          2004.5,
          2004.6,
          2004.7,
          2004.8,
          2004.9,
          2005,
          2005.1,
          2005.2,
          2005.3,
          2005.4,
          2005.5,
          2005.6,
          2005.7,
          2005.8,
          2005.9,
          2006,
          2006.1,
          2006.2,
          2006.3,
          2006.4,
          2006.5,
          2006.6,
          2006.7,
          2006.8,
          2006.9,
          2007,
          2007.1,
          2007.2,
          2007.3,
          2007.4,
          2007.5,
          2007.6,
          2007.7,
          2007.8,
          2007.9,
          2008,
          2008.1,
          2008.2,
          2008.3,
          2008.4,
          2008.5,
          2008.6,
          2008.7,
          2008.8,
          2008.9,
          2009,
          2009.1,
          2009.2,
          2009.3,
          2009.4,
          2009.5,
          2009.6,
          2009.7,
          2009.8,
          2009.9,
          2010,
          2010.1,
          2010.2,
          2010.3,
          2010.4,
          2010.5,
          2010.6,
          2010.7,
          2010.8,
          2010.9,
          2011,
          2011.1,
          2011.2,
          2011.3,
          2011.4,
          2011.5,
          2011.6,
          2011.7,
          2011.8,
          2011.9,
          2012,
          2012.1,
          2012.2,
          2012.3,
          2012.4,
          2012.5,
          2012.6,
          2012.7,
          2012.8,
          2012.9,
          2013,
          2013.1,
          2013.2,
          2013.3,
          2013.4,
          2013.5,
          2013.6,
          2013.7,
          2013.8,
          2013.9,
          2014,
          2014.1,
          2014.2,
          2014.3,
          2014.4,
          2014.5,
          2014.6,
          2014.7,
          2014.8,
          2014.9,
          2015,
          2015.1,
          2015.2,
          2015.3,
          2015.4,
          2015.5,
          2015.6,
          2015.7,
          2015.8,
          2015.9,
          2016,
          2016.1,
          2016.2,
          2016.3,
          2016.4,
          2016.5,
          2016.6,
          2016.7,
          2016.8,
          2016.9,
          2017,
          2017.1,
          2017.2,
          2017.3,
          2017.4,
          2017.5,
          2017.6,
          2017.7,
          2017.8,
          2017.9,
          2018,
          2018.1,
          2018.2,
          2018.3,
          2018.4,
          2018.5,
          2018.6,
          2018.7,
          2018.8,
          2018.9,
          2019,
          2019.1,
          2019.2,
          2019.3,
          2019.4,
          2019.5,
          2019.6,
          2019.7,
          2019.8,
          2019.9,
          2020
         ],
         "xaxis": "x",
         "y": [
          0,
          709.7705765875538,
          1813.4138102492514,
          2413.132801192936,
          2714.446791433093,
          2839.9369479533316,
          2862.7456500853946,
          2826.65374522595,
          2757.6546747872244,
          2671.048671804079,
          2576.127785433003,
          2478.184556471557,
          2380.157903995033,
          2284.133967595174,
          2190.875504484075,
          2100.806089808909,
          2014.3650182848808,
          1931.5843898014596,
          1852.3217621215308,
          1776.5276797207814,
          1704.1150487604525,
          1634.95303007136,
          1568.9494400378567,
          1505.9887102795146,
          1445.8646501988121,
          1388.3662351845294,
          1333.4253157152946,
          1281.0382809186417,
          1231.111094817966,
          1183.4454458656664,
          1137.8106779421753,
          1094.1401911233024,
          1052.4671506243592,
          1012.7399419478776,
          974.8271237173007,
          938.5371718502072,
          903.7739593928248,
          870.5527497736929,
          838.8519823985998,
          808.5926969386146,
          779.6470408636056,
          751.9118625545133,
          725.3695945964251,
          700.0140329163662,
          675.7982588191873,
          652.645376862541,
          630.46374736234,
          609.2116543041096,
          588.8854480621069,
          569.4593043139288,
          550.887635113869,
          533.1066700443286,
          516.0616899937248,
          499.7351450158842,
          484.1175897631255,
          469.18256808537706,
          454.8916752709141,
          441.196313475821,
          428.0638004978399,
          415.4850042746486,
          403.44783912663587,
          391.9297269381235,
          380.8998593518077,
          370.3221973094907,
          360.175995443783,
          350.4554249571228,
          341.14922736496106,
          332.2391548418097,
          323.70087716327146,
          315.5072799777748,
          307.6441875888612,
          300.10783606003383,
          292.88931435664847,
          285.97434222807465,
          279.3436759996594,
          272.97590558353295,
          266.86046707386197,
          260.99562098927083,
          255.37537104040766,
          249.98888593049438,
          244.82078387161815,
          239.85303412005325,
          235.07679909887557,
          230.49231817538455,
          226.0967240786193,
          221.88223439471273,
          217.83648772572536,
          213.94351009527912,
          210.19467938572845,
          206.59165763884937,
          203.13482095399894,
          199.81922911010577,
          196.63511369402067,
          193.5681499437193,
          190.60865212902297,
          187.75856058655717,
          185.02147371093477,
          182.39523021675225,
          179.87252666532052,
          177.44095027985273,
          175.08892825100511,
          172.8171509585248,
          170.63207395338054,
          168.53432108447663,
          166.51907886220303,
          164.57613245083724,
          162.6924933026701,
          160.8660711462206,
          159.10468804639277,
          157.4120181514199,
          155.78581318480695,
          154.21818318486962,
          152.69623974558178,
          151.21404479324417,
          149.77845117027846,
          148.39636282885766,
          147.06815780324484,
          145.78839817485692,
          144.54587091757054,
          143.3306450763202,
          142.14643523347308,
          141.00282215681892,
          139.90280856848426,
          138.84348514329426,
          137.8160725965347,
          136.80840818498393,
          135.81961107731001,
          134.85970894873668,
          133.93459271288233,
          133.0438814168587,
          132.18130853201293,
          131.3351168256389,
          130.49942531410892,
          129.68181300153336,
          128.89109410655013,
          128.12935771679764,
          127.39285035075432,
          126.67201954051676,
          125.95680107915506,
          125.25034345687996,
          124.56336886705904,
          123.90041085892047,
          123.26018698788896,
          122.63568410760517,
          122.01552003211329,
          121.39747950922016,
          120.79121337827262,
          120.20413575914982,
          119.63738677326673,
          119.08644602162111,
          118.54121231625963,
          117.99433504759735,
          117.45171956618272,
          116.92334329197418,
          116.41271155310486,
          115.91774116377105,
          115.43080414776762,
          114.94146361597564,
          114.45039939377057,
          113.96807235320192,
          113.50053815360677,
          113.04807481308022,
          112.60550109607821,
          112.16255530037543,
          111.71451593108857,
          111.26911041457046,
          110.83509269288032,
          110.4150030508259,
          110.00602383721274,
          109.60002252360471,
          109.18806401430734,
          108.77320544263884,
          108.36577768492991,
          107.97055239100392,
          107.58698538206329,
          107.20931919218859,
          106.8275614104015,
          106.4394170935566,
          106.05371078783298,
          105.67786832587166,
          105.31354946604223,
          104.9572859802946,
          104.60052543472239,
          104.23613371659054,
          103.86897035093779,
          103.50866037130078,
          103.15901748151148,
          102.81879575031385,
          102.48173136712116,
          102.13833781055631,
          101.78832402630177,
          101.441078019201,
          101.10288049324936,
          100.77464506838228,
          100.45233182121997,
          100.12709457959369,
          99.79360041160396,
          99.45808010126521,
          99.12923176182683,
          98.81005850490334,
          98.49867796363667,
          98.18836322884883,
          97.87042133086075,
          97.54635591743671,
          97.22567889506152,
          96.9135837105622,
          96.61027602963048,
          96.31118681329171,
          96.00740662288253,
          95.6954185019812,
          95.38249412368299,
          95.07628064236796,
          94.779001111482,
          94.48817487150936,
          94.19665743615387,
          93.89688638519704,
          93.59196415763807,
          93.2911004990772,
          92.99850157827173,
          92.71370506932254,
          92.4316557436409,
          92.14363462877368,
          91.84789540323875,
          91.55241411219367,
          91.26374834938271,
          90.9833844944021,
          90.70828691031186,
          90.4309400828965,
          90.14523797087168,
          89.85565425449633,
          89.57069405811062,
          89.29372382234561,
          89.0236585132601,
          88.75499977258768,
          88.47948551447132,
          88.19704181313585,
          87.91600892886379,
          87.641883720567,
          87.37546585709747,
          87.11320964638142,
          86.84736703440977,
          86.5734021560322,
          86.2969052064026,
          86.02549856095072,
          85.76181146842343,
          85.50418917243334,
          85.24672986317796,
          84.9818662523403,
          84.71102238179478,
          84.44258816016227,
          84.18112173366612,
          83.92680722658852,
          83.67563480719119,
          83.41978988629039,
          83.15623067278334,
          82.8913971528919,
          82.63203497033007,
          82.38011806660593,
          82.13347656689864,
          81.88583269582604,
          81.6305260683839,
          81.37029606198881,
          81.11329294025765,
          80.86326302026025,
          80.61982611506961,
          80.37854358908942,
          80.13171723068817,
          79.87775519399747,
          79.62370224979617,
          79.37541711932157,
          79.1342596955529,
          78.89758059915191,
          78.65875751880043,
          78.4122981742598,
          78.1620965313582,
          77.91575581170522,
          77.6763270565789,
          77.44290092639156,
          77.21064212968602,
          76.97217861181481,
          76.72730979614865,
          76.4834304886948,
          76.24552905607445,
          76.01438765356689,
          75.78691064176796,
          75.55623362781259,
          75.31815839183231,
          75.07755220991197,
          74.84130309608186,
          74.6118368210431,
          74.38774923048712,
          74.1638396154381,
          73.93328353738258,
          73.69718160079029,
          73.46301443381007,
          73.2349501111548,
          73.0132284546837,
          72.79433986828946,
          72.57133316158047,
          72.34132337605826,
          72.10995188698729,
          71.88333171041003,
          71.66329978352614,
          71.4479904800287,
          71.23186792104269,
          71.00888523762104,
          70.78132680411296,
          70.5564882663892,
          70.33779652416699,
          70.12498341930268,
          69.91415666910035,
          69.69845013619242,
          69.47627443700179,
          69.25383111614208,
          69.03643689485745,
          68.82537521568902,
          68.61835124629371,
          68.40952317613053,
          68.19385705568861,
          67.97468015849266,
          67.75882864528917,
          67.54909232150833,
          67.34472828857953,
          67.14149176000605,
          66.93278483344275,
          66.71825700418626,
          66.50444543403118,
          66.29589148691309,
          66.09336077269494,
          65.89415388735289,
          65.69218820162011,
          65.48357340071428,
          65.27253391665204,
          65.0652865139045,
          64.86406147615166,
          64.66767104606221,
          64.47153925509015,
          64.26952541111262,
          64.06245417508397,
          63.8569722783704,
          63.65687567256065,
          63.462442203422356,
          63.270607681222764,
          63.075207263246966,
          62.87352206215126,
          62.67047251441887,
          62.47157488448181,
          62.27852721427468,
          62.08973155834226,
          61.900322754069656,
          61.7048363405359,
          61.50515911174003,
          61.307789300752944,
          61.115844892004425,
          60.92914908750934,
          60.74430344105592,
          60.555213290641774,
          60.36031765926228,
          60.16504523300128,
          59.97419228635303,
          59.788958344067204,
          59.60736690475002,
          59.424293164017115,
          59.23515518387226,
          59.04277346431146,
          58.85325330066805,
          58.66912632756492,
          58.489793425816195,
          58.31155248018248,
          58.12854378783868,
          57.94031765715645,
          57.75260726083199,
          57.56949783274836,
          57.391723145021075,
          57.21695949263062,
          57.03988587016971,
          56.856942851412505,
          56.67173745406642,
          56.4898041763867,
          56.31316511706663,
          56.140830716844334,
          55.96882599708031,
          55.791699694959185,
          55.61003967673625,
          55.42967180908231,
          55.254006138127195,
          55.08334284679004,
          54.91504246945281,
          54.743711585034795,
          54.56683086606124,
          54.38863085984812,
          54.21401938325636,
          54.04454163987553,
          53.87884946743795,
          53.71272653994431,
          53.54130897756064,
          53.366124504190694,
          53.19287439166597,
          53.02435200201408,
          52.86045535220412,
          52.69826101928325,
          52.532441900551184,
          52.36150625193391,
          52.19012651457316,
          52.02254807012498,
          51.85986690184332,
          51.700415304542474,
          51.53978595086031,
          51.37389723717395,
          51.205087454099186,
          51.038697432667924,
          50.87697863823726,
          50.71946154328561,
          50.56298138139748,
          50.40243840141698,
          50.23731790135907,
          50.072545182197295,
          49.91172462447316,
          49.75554127990642,
          49.60203197622474,
          49.44662877106254,
          49.286145349372134,
          49.12360443309296,
          48.96383580090698,
          48.80863252067528,
          48.65718876849813,
          48.5061224134573,
          48.35069833807758,
          48.19130716648762,
          48.03294276677968,
          47.87859578230403,
          47.72857075508399,
          47.580647018957556,
          47.43021762757099,
          47.27501406480359,
          47.11858465768306,
          46.96518194145526,
          46.81617113969449,
          46.67044571592236,
          46.52444884836968,
          46.37397367520904,
          46.22021827449342,
          46.06804025525266,
          45.91986427483116,
          45.77564783118562,
          45.63295365216454,
          45.48727039216319,
          45.33722799319998,
          45.18672672006055,
          45.0394128799614,
          44.896254714104366,
          44.75588411996275,
          44.614616945333886,
          44.46893271547995,
          44.32071314388756,
          44.17447557463861,
          44.032146203057394,
          43.89337230941657,
          43.75554631797433,
          43.6143950435305,
          43.469388349593245,
          43.32459331116207,
          43.183058745604356,
          43.045396478052794,
          42.910023578931415,
          42.773191071439406,
          42.63213983576813,
          42.48926674879354,
          42.348630075149565,
          42.21178028097654,
          42.07811933701262,
          41.94491934461005,
          41.80819106992383,
          41.66802754941513,
          41.528530513793505,
          41.39232875862522,
          41.25979126875851,
          41.12918552901076,
          40.99674171398449,
          40.86021894419373,
          40.72232411127444,
          40.58680432759958,
          40.454977179170555,
          40.326084093557554,
          40.197308333920724,
          40.06489421333995,
          39.92936316647773,
          39.79478776867772,
          39.66348951122534,
          39.53565583645688,
          39.40944899535713,
          39.281127403089975,
          39.14891794968275,
          39.015737175483146,
          38.88500173486936,
          38.75780586812763,
          38.633260514217916,
          38.5085104959529,
          38.38012147278017,
          38.24899507149003,
          38.11905607974535,
          37.992302656991555,
          37.86875206888396,
          37.74650687453912,
          37.621955004621064,
          37.49380315485976,
          37.365068838140246,
          37.23877603152443,
          37.11579201910288,
          36.99513179737166,
          36.873974122231026,
          36.749306485894934,
          36.62233883795037,
          36.496712955099035,
          36.374095716088135,
          36.25435606360213,
          36.135599125195405,
          36.01445474152618,
          35.890072510453095,
          35.76543803347125,
          35.64316728816031,
          35.52393317312113,
          35.40671364891308,
          35.28880641927295,
          35.16757926325047,
          35.04436747796078,
          34.92251918894014,
          34.8035054745381,
          34.68714418456401,
          34.57161964465589,
          34.45376720401943,
          34.33284335971673,
          34.211694033105495,
          34.0927781598395,
          33.97673360041358,
          33.862603915596935,
          33.7478522442218,
          33.6299498986156,
          33.510116345129674,
          33.39150650175658,
          33.27549952696763,
          33.16196646232635,
          33.049293152477325,
          32.93462736470689,
          32.81734967989941,
          32.69994262291015,
          32.5844105012475,
          32.47129245245615,
          32.35996858759582,
          32.248670916264,
          32.13563863849289,
          32.021863580547056,
          31.909503888460147,
          31.79934701534557,
          31.691381704447465,
          31.584826272138127,
          31.478142564142875,
          31.370061608132282,
          31.261419176216155,
          31.154125402178916,
          31.049131569976353,
          30.946270680667343,
          30.844270511775118,
          30.74077512289088,
          30.634428861847116,
          30.52696752424287,
          30.420656937054254,
          30.316158241400323,
          30.212981233062465,
          30.109497629430173,
          30.003931341331715,
          29.896953053614162,
          29.790374331952766,
          29.684775821903955,
          29.580074466291723,
          29.475561709649085,
          29.370050007313203,
          29.263408411154106,
          29.15661430611863,
          29.050233058765645,
          28.944389815344085,
          28.838929694261843,
          28.733420996859216,
          28.62725385808124,
          28.520466797241014,
          28.413641225375777,
          28.307065578503828,
          28.200811751864876,
          28.094816533926327,
          27.98888315234955,
          27.88268283001019,
          27.776002260537368,
          27.669138987470436,
          27.562565845471706,
          27.456470458158197,
          27.35077941342145,
          27.24516124511429,
          27.13913899459139,
          27.03275143077793,
          26.92655064341309,
          26.820894632899734,
          26.71580381445785,
          26.610975529568584,
          26.50579570253854,
          26.399992556880473,
          26.293973069766782,
          26.18807958832053,
          26.082358318265896,
          25.976765325144797,
          25.87116755802022,
          25.76536304680977,
          25.659404507848638,
          25.553529121638693,
          25.447798952720376,
          25.342197444996515,
          25.236712488331108,
          25.131336366374192,
          25.02605946159388,
          24.92080049942824,
          24.81562045996134,
          24.710781073301785,
          24.60644001075732,
          24.50256493683117,
          24.398935680484055,
          24.29515029580952,
          24.190987676700697,
          24.08687044137541,
          23.983396697297614,
          23.880740013686705,
          23.778624471836004,
          23.67635543211947,
          23.573614723624615,
          23.470945938996287,
          23.368924709944185,
          23.267685414409193,
          23.16699976119429,
          23.066285884540648,
          22.965096024899772,
          22.863827765305878,
          22.763237260830437,
          22.66367543727946,
          22.565047802471334,
          22.466819445534494,
          22.368033690225417,
          22.26817906279136,
          22.16828150989345,
          22.06984353694212,
          21.97346941858854,
          21.87877760943526,
          21.784411808074438,
          21.688353386654615,
          21.59063376750292,
          21.493329480182897,
          21.397599537723455,
          21.303313738985032,
          21.20923638275076,
          21.11395022114812,
          21.017941446526166,
          20.922532130838768,
          20.828081895803688,
          20.73441755746937,
          20.640850419817067,
          20.546678614243223,
          20.452256078050354,
          20.358559076610952,
          20.266096998618735,
          20.174826205061386,
          20.084155747076178,
          19.992966300960052,
          19.900531397009544,
          19.807864060055795,
          19.716671352238812,
          19.627731663290902,
          19.54076139244877,
          19.4544259992304,
          19.366522109305205,
          19.27677125471325,
          19.187321531272573,
          19.09961340703411,
          19.01366920788334,
          18.928413717446666,
          18.84232345941051,
          18.75563274323295,
          18.669737906416717,
          18.585167479664893,
          18.501735113266317,
          18.418574525989964,
          18.334711112833215,
          18.25048968152532,
          18.16712236505932,
          18.085239611824903,
          18.004755561106634,
          17.92487539636768,
          17.844187944504643,
          17.762184906173903,
          17.680289617947,
          17.60014864619737,
          17.52231489580899,
          17.44622610678765,
          17.370216021315787,
          17.29224807662025,
          17.212902378981195,
          17.134466636499585,
          17.0578534917201,
          16.982780040475614,
          16.907850807910194,
          16.831693369972,
          16.75496905590871,
          16.679116489251516,
          16.6045584749555,
          16.53103104500886,
          16.457591110769638,
          16.383313227240823,
          16.30867316615952,
          16.234916829361513,
          16.16265798090841,
          16.091797447051864,
          16.02152939333613,
          15.950419956457141,
          15.877884079709593,
          15.805305463576987,
          15.734397144214425,
          15.665807763232605,
          15.599089459788749,
          15.532707588307305,
          15.46445729731511,
          15.394512380702066,
          15.325184958495292,
          15.257696664018862,
          15.191995619485487,
          15.126936690362642,
          15.060864448273133,
          14.993964036314038,
          14.927785623803072,
          14.863020664894092,
          14.79956556729416,
          14.736569927664968,
          14.672783724833524,
          14.60825232763538,
          14.544300308705205,
          14.481811812685143,
          14.420891493149758,
          14.360883871861105,
          14.300391262845118,
          14.238378723042597,
          14.175849462501207,
          14.114696054314463,
          14.05582608503095,
          13.99903342319799,
          13.943008258687076,
          13.8855277609015,
          13.826226023620563,
          13.767155866289404,
          13.709764363273182,
          13.654159155949806,
          13.599386501838667,
          13.543755779013479,
          13.487114070084774,
          13.43085038515431,
          13.375722183752249,
          13.321745375967705,
          13.268310366562147,
          13.214332254439297,
          13.159582288407373,
          13.105086807632478,
          13.051764096687945,
          12.999860482790762,
          12.948971276569127,
          12.898046936465226,
          12.845783440939488,
          12.792418045634006,
          12.739686634086945,
          12.688838629281092,
          12.64010496139904,
          12.592708958925186,
          12.544875832718969,
          12.49489622541996,
          12.443787559402157,
          12.393714228812655,
          12.345313555016887,
          12.298228100919074,
          12.251144999986435,
          12.203012996272577,
          12.154539659336212,
          12.10689365059577,
          12.060382938803938,
          12.014719153752285,
          11.969025599180458,
          11.922536087954615,
          11.87571841549655,
          11.829601907432359,
          11.784657789748033,
          11.740783382690068,
          11.697307416702271,
          11.653062669926953,
          11.607612486943587,
          11.562077202597772,
          11.517784536932604,
          11.475236526175758,
          11.434097975582146,
          11.39320415760668,
          11.350834522899628,
          11.307030709895345,
          11.263527343349365,
          11.221286822892392,
          11.1803060870513,
          11.139780387679943,
          11.098442891105408,
          11.056325109942485,
          11.014531141769334,
          10.973579652040307,
          10.933450872280964,
          10.89364957393231,
          10.853345797640461,
          10.812423317757249,
          10.771674958458338,
          10.731741001424602,
          10.692778537673238,
          10.65448159160566,
          10.61608525045063,
          10.576673239848208,
          10.536452922170314,
          10.496654456811756,
          10.458133237979805,
          10.421044457987573,
          10.384850418559896,
          10.34832668003521,
          10.310251292694984,
          10.271297573541291,
          10.233008445681357,
          10.195877442044766,
          10.159684034655463,
          10.12352413236597,
          10.086552150594006,
          10.04920482388502,
          10.012379929544817,
          9.976340302522663,
          9.940923748577115,
          9.905546933970468,
          9.869578670064632,
          9.833247780129227,
          9.797316745764249,
          9.762180909207684,
          9.727830869435493,
          9.693856311680966,
          9.659462065556855,
          9.624141596953843,
          9.588533152364988,
          9.553692936451359,
          9.520115078587525,
          9.487674624056,
          9.45563289302142,
          9.422696481069883,
          9.388510653426964,
          9.354218447750108,
          9.320758798482062,
          9.28825925700904,
          9.25625804167155,
          9.223809275655732,
          9.190694759720364,
          9.157646344013903,
          9.125159682048425,
          9.09329071386752,
          9.061755895423499,
          9.029971072950605,
          8.997692585089176,
          8.965394606927372,
          8.933615572071838,
          8.902543633140475,
          8.872031181504079,
          8.841597656402936,
          8.81051799593867,
          8.778679038629551,
          8.746899095415092,
          8.715972120377169,
          8.68615868956172,
          8.657186318375087,
          8.628253894259153,
          8.598229903468221,
          8.56721620664037,
          8.536411987593281,
          8.506435678205534,
          8.477253643779363,
          8.448289361067241,
          8.41873063880779,
          8.388680913912376,
          8.358880451075704,
          8.329633078778238,
          8.300875503122139,
          8.272199225980676,
          8.243005470707379,
          8.2133006397356,
          8.183731818083766,
          8.154759364880965,
          8.126438223976658,
          8.098423989025212,
          8.069979708709507,
          8.040591815468686,
          8.010780185570665,
          7.981386346489732,
          7.95268282339571,
          7.9243897499214295,
          7.89567931909702,
          7.865756234201324,
          7.834988543780073,
          7.804333640854991,
          7.774177366516109,
          7.744304659647463,
          7.713903920885846,
          7.681905410875863,
          7.648435935379874,
          7.614672694672455,
          7.581294871529638,
          7.548204962785869,
          7.514541349747371,
          7.478932223753775,
          7.441297370043159,
          7.402863157354419,
          7.3642902298268265,
          7.3254040904008155,
          7.285267763044105,
          7.242908998756719,
          7.198700487254332,
          7.153651030250448,
          7.108063173063555,
          7.061556040766521,
          7.013138661095743,
          6.9625914780801885,
          6.909910170629207,
          6.851548138673495,
          6.778590425734973,
          6.6831413074500565,
          6.574947497832138,
          6.473522414416601,
          6.386108169136704,
          6.310309885141629,
          6.241811625447341,
          6.177527721937494,
          6.116163708386711,
          6.056369229351494,
          5.99701114170199,
          5.937773917162778,
          5.878848694399587,
          5.82065773184817,
          5.763530643571068,
          5.707718691050439,
          5.653331165269576,
          5.600018314323763,
          5.547609640097203,
          5.493768147894022,
          5.432886391543134,
          5.362847135288477,
          5.2895897516757575,
          5.221560957747343,
          5.1623538329405365,
          5.110606236072873,
          5.063773321382585,
          5.020593771829117,
          4.980276817649739,
          4.9409806309515485,
          4.9003357324033825,
          4.856985745553663,
          4.812253413837278,
          4.769835278899519,
          4.731778451673287,
          4.697614942629476,
          4.6662951783308975,
          4.636741528396845,
          4.609009885318017,
          4.585158968578086,
          4.570185652065066,
          4.568107634388229,
          4.573612161558484,
          4.5757990188643145,
          4.570036586230036,
          4.557761298069443,
          4.541635032189585,
          4.52342192417698,
          4.5033127775084,
          4.48042846662075,
          4.450378100983743,
          4.408701997751933,
          4.359763433353236,
          4.314707237960975,
          4.278765492650848,
          4.250027298016141,
          4.225844054828641,
          4.204533976892875,
          4.185434301379081,
          4.167843599480205,
          4.152007693018641,
          4.138536798246588,
          4.126553189458009,
          4.114421976418551,
          4.101432734022604,
          4.087649916000569,
          4.073457463678443,
          4.059308260231436,
          4.045496896898822,
          4.032854463635304,
          4.0231277265418335,
          4.018220664398353,
          4.016360290508987,
          4.013091645697327,
          4.005287789036447,
          3.9901235733131846,
          3.9661230580906794,
          3.9362978666776156,
          3.90746185105378,
          3.8833056045925223,
          3.863140760806729,
          3.845648437524275,
          3.8297504802028293,
          3.815033013831874,
          3.801079053253213,
          3.787411146808155,
          3.7738878667004507,
          3.7606133509439212,
          3.747598681409143,
          3.7344147183638,
          3.72006848128105,
          3.703922319855318,
          3.686444930812787,
          3.6691853413414885,
          3.6527998976500613,
          3.6348742614996423,
          3.6132046008427867,
          3.589498079753491,
          3.56716740100404,
          3.547480499140892,
          3.528988153018203,
          3.509370187825272,
          3.489000087461328,
          3.4701652315622917,
          3.45345999742519,
          3.4375430930156807,
          3.4208632491709388,
          3.4037009730790184,
          3.3875114931960635,
          3.3737427327691862,
          3.3634454055447134,
          3.3565861582569974,
          3.351455904135949,
          3.3461855391126742,
          3.340996069359015,
          3.3386338229893404,
          3.3421220241366996,
          3.349120807372757,
          3.3539178282643705,
          3.3541685002626864,
          3.3501782996383795,
          3.342919140996458,
          3.3337041492183754,
          3.3233840668107923,
          3.3115966081733452,
          3.295786101624222,
          3.2738072320946325,
          3.247743774987211,
          3.2230162491953247,
          3.202944068163062,
          3.1871407157917164,
          3.1744175368442176,
          3.163520867913851,
          3.1536209754820024,
          3.1442913977794853,
          3.135679061893886,
          3.1281242723713913,
          3.1213981919511724,
          3.114756863164715,
          3.107616521682089,
          3.099680532982109,
          3.0908766074482386,
          3.081664626385558,
          3.0726279770223655,
          3.064642955341158,
          3.058809931943757,
          3.0556614466423513,
          3.0539516744401336,
          3.0515414133638723,
          3.047630175648124,
          3.042322316922331,
          3.035898478125911,
          3.0288021073800024,
          3.021266547672086,
          3.0132067203778954,
          3.0046410202583056,
          2.9958619056181,
          2.9872102670899516,
          2.9786483231617646,
          2.969991290983431,
          2.9612336250740525,
          2.9524410276878026,
          2.943854138453614,
          2.935424712966026,
          2.926312639234529,
          2.9157030339257504,
          2.9035683134006507,
          2.890677961829011,
          2.8784362150233433,
          2.8673503436560157,
          2.856750744647717,
          2.8461818224943745,
          2.8356371710787167,
          2.82535436098005,
          2.815172149764938,
          2.8043584131535684,
          2.792065233527979,
          2.77873820317375,
          2.7658183807467793,
          2.753891593099082,
          2.742740339748418,
          2.7319030310754826,
          2.721242171648913,
          2.7110419906492074,
          2.701783938325609,
          2.6941937012478774,
          2.688617810505963,
          2.68429364525716,
          2.679855178670515,
          2.674504442706134,
          2.668165679211151,
          2.660980361030629,
          2.653363626264506,
          2.645688468155089,
          2.6379167466247795,
          2.6298502451619785,
          2.6213404934757962,
          2.6125763170099296,
          2.6040503689511802,
          2.59657642141777,
          2.5916810200936156,
          2.590666398458761,
          2.5919495549391107,
          2.592273554010279,
          2.5902716932435874,
          2.586432372752087,
          2.581577390915747,
          2.576159019699044,
          2.5701504140102456,
          2.5629641373027394,
          2.5534643820586655,
          2.5406759793040257,
          2.5259387901596098,
          2.5119986122893847,
          2.500091286878902,
          2.489801876291167,
          2.480393659223636,
          2.4714837703783634,
          2.4630468678419946,
          2.4552930218532896,
          2.4483918089367145,
          2.442327588247847,
          2.4367410906532716,
          2.431226099905155,
          2.425425901188111,
          2.4188926099812726,
          2.4115630192803534,
          2.403774975198328,
          2.395857782342676,
          2.388141591074505,
          2.3810256021612926,
          2.374596561529319,
          2.3685483111907164,
          2.3625552251433426,
          2.356329218338512,
          2.3498208669844267,
          2.3431129784633096,
          2.336165895803392,
          2.328958409527832,
          2.321467879978277,
          2.3130762956832234,
          2.3033803863521047,
          2.29291831393216,
          2.2824644074546394,
          2.2727952754007057,
          2.263746123294054,
          2.2547232855549812,
          2.24578017207069,
          2.237103643008745,
          2.228899329549685,
          2.2216096881239973,
          2.215553307594977,
          2.210366457357436,
          2.205165327569532,
          2.1994178718657977,
          2.1928526455913673,
          2.185302826853683,
          2.1772952980367255,
          2.1694913815496744,
          2.162136505889121,
          2.155317515639946,
          2.1490242908269552,
          2.1430108566920856,
          2.137026920884799,
          2.1310579495559865,
          2.1252257266000574,
          2.119662937387538,
          2.1144992774615385,
          2.1095599375188203,
          2.1042280381450365,
          2.0979910656531535
         ],
         "yaxis": "y"
        }
       ],
       "layout": {
        "legend": {
         "title": {
          "text": "variable"
         },
         "tracegroupgap": 0
        },
        "margin": {
         "t": 60
        },
        "template": {
         "data": {
          "bar": [
           {
            "error_x": {
             "color": "#2a3f5f"
            },
            "error_y": {
             "color": "#2a3f5f"
            },
            "marker": {
             "line": {
              "color": "#E5ECF6",
              "width": 0.5
             },
             "pattern": {
              "fillmode": "overlay",
              "size": 10,
              "solidity": 0.2
             }
            },
            "type": "bar"
           }
          ],
          "barpolar": [
           {
            "marker": {
             "line": {
              "color": "#E5ECF6",
              "width": 0.5
             },
             "pattern": {
              "fillmode": "overlay",
              "size": 10,
              "solidity": 0.2
             }
            },
            "type": "barpolar"
           }
          ],
          "carpet": [
           {
            "aaxis": {
             "endlinecolor": "#2a3f5f",
             "gridcolor": "white",
             "linecolor": "white",
             "minorgridcolor": "white",
             "startlinecolor": "#2a3f5f"
            },
            "baxis": {
             "endlinecolor": "#2a3f5f",
             "gridcolor": "white",
             "linecolor": "white",
             "minorgridcolor": "white",
             "startlinecolor": "#2a3f5f"
            },
            "type": "carpet"
           }
          ],
          "choropleth": [
           {
            "colorbar": {
             "outlinewidth": 0,
             "ticks": ""
            },
            "type": "choropleth"
           }
          ],
          "contour": [
           {
            "colorbar": {
             "outlinewidth": 0,
             "ticks": ""
            },
            "colorscale": [
             [
              0,
              "#0d0887"
             ],
             [
              0.1111111111111111,
              "#46039f"
             ],
             [
              0.2222222222222222,
              "#7201a8"
             ],
             [
              0.3333333333333333,
              "#9c179e"
             ],
             [
              0.4444444444444444,
              "#bd3786"
             ],
             [
              0.5555555555555556,
              "#d8576b"
             ],
             [
              0.6666666666666666,
              "#ed7953"
             ],
             [
              0.7777777777777778,
              "#fb9f3a"
             ],
             [
              0.8888888888888888,
              "#fdca26"
             ],
             [
              1,
              "#f0f921"
             ]
            ],
            "type": "contour"
           }
          ],
          "contourcarpet": [
           {
            "colorbar": {
             "outlinewidth": 0,
             "ticks": ""
            },
            "type": "contourcarpet"
           }
          ],
          "heatmap": [
           {
            "colorbar": {
             "outlinewidth": 0,
             "ticks": ""
            },
            "colorscale": [
             [
              0,
              "#0d0887"
             ],
             [
              0.1111111111111111,
              "#46039f"
             ],
             [
              0.2222222222222222,
              "#7201a8"
             ],
             [
              0.3333333333333333,
              "#9c179e"
             ],
             [
              0.4444444444444444,
              "#bd3786"
             ],
             [
              0.5555555555555556,
              "#d8576b"
             ],
             [
              0.6666666666666666,
              "#ed7953"
             ],
             [
              0.7777777777777778,
              "#fb9f3a"
             ],
             [
              0.8888888888888888,
              "#fdca26"
             ],
             [
              1,
              "#f0f921"
             ]
            ],
            "type": "heatmap"
           }
          ],
          "heatmapgl": [
           {
            "colorbar": {
             "outlinewidth": 0,
             "ticks": ""
            },
            "colorscale": [
             [
              0,
              "#0d0887"
             ],
             [
              0.1111111111111111,
              "#46039f"
             ],
             [
              0.2222222222222222,
              "#7201a8"
             ],
             [
              0.3333333333333333,
              "#9c179e"
             ],
             [
              0.4444444444444444,
              "#bd3786"
             ],
             [
              0.5555555555555556,
              "#d8576b"
             ],
             [
              0.6666666666666666,
              "#ed7953"
             ],
             [
              0.7777777777777778,
              "#fb9f3a"
             ],
             [
              0.8888888888888888,
              "#fdca26"
             ],
             [
              1,
              "#f0f921"
             ]
            ],
            "type": "heatmapgl"
           }
          ],
          "histogram": [
           {
            "marker": {
             "pattern": {
              "fillmode": "overlay",
              "size": 10,
              "solidity": 0.2
             }
            },
            "type": "histogram"
           }
          ],
          "histogram2d": [
           {
            "colorbar": {
             "outlinewidth": 0,
             "ticks": ""
            },
            "colorscale": [
             [
              0,
              "#0d0887"
             ],
             [
              0.1111111111111111,
              "#46039f"
             ],
             [
              0.2222222222222222,
              "#7201a8"
             ],
             [
              0.3333333333333333,
              "#9c179e"
             ],
             [
              0.4444444444444444,
              "#bd3786"
             ],
             [
              0.5555555555555556,
              "#d8576b"
             ],
             [
              0.6666666666666666,
              "#ed7953"
             ],
             [
              0.7777777777777778,
              "#fb9f3a"
             ],
             [
              0.8888888888888888,
              "#fdca26"
             ],
             [
              1,
              "#f0f921"
             ]
            ],
            "type": "histogram2d"
           }
          ],
          "histogram2dcontour": [
           {
            "colorbar": {
             "outlinewidth": 0,
             "ticks": ""
            },
            "colorscale": [
             [
              0,
              "#0d0887"
             ],
             [
              0.1111111111111111,
              "#46039f"
             ],
             [
              0.2222222222222222,
              "#7201a8"
             ],
             [
              0.3333333333333333,
              "#9c179e"
             ],
             [
              0.4444444444444444,
              "#bd3786"
             ],
             [
              0.5555555555555556,
              "#d8576b"
             ],
             [
              0.6666666666666666,
              "#ed7953"
             ],
             [
              0.7777777777777778,
              "#fb9f3a"
             ],
             [
              0.8888888888888888,
              "#fdca26"
             ],
             [
              1,
              "#f0f921"
             ]
            ],
            "type": "histogram2dcontour"
           }
          ],
          "mesh3d": [
           {
            "colorbar": {
             "outlinewidth": 0,
             "ticks": ""
            },
            "type": "mesh3d"
           }
          ],
          "parcoords": [
           {
            "line": {
             "colorbar": {
              "outlinewidth": 0,
              "ticks": ""
             }
            },
            "type": "parcoords"
           }
          ],
          "pie": [
           {
            "automargin": true,
            "type": "pie"
           }
          ],
          "scatter": [
           {
            "fillpattern": {
             "fillmode": "overlay",
             "size": 10,
             "solidity": 0.2
            },
            "type": "scatter"
           }
          ],
          "scatter3d": [
           {
            "line": {
             "colorbar": {
              "outlinewidth": 0,
              "ticks": ""
             }
            },
            "marker": {
             "colorbar": {
              "outlinewidth": 0,
              "ticks": ""
             }
            },
            "type": "scatter3d"
           }
          ],
          "scattercarpet": [
           {
            "marker": {
             "colorbar": {
              "outlinewidth": 0,
              "ticks": ""
             }
            },
            "type": "scattercarpet"
           }
          ],
          "scattergeo": [
           {
            "marker": {
             "colorbar": {
              "outlinewidth": 0,
              "ticks": ""
             }
            },
            "type": "scattergeo"
           }
          ],
          "scattergl": [
           {
            "marker": {
             "colorbar": {
              "outlinewidth": 0,
              "ticks": ""
             }
            },
            "type": "scattergl"
           }
          ],
          "scattermapbox": [
           {
            "marker": {
             "colorbar": {
              "outlinewidth": 0,
              "ticks": ""
             }
            },
            "type": "scattermapbox"
           }
          ],
          "scatterpolar": [
           {
            "marker": {
             "colorbar": {
              "outlinewidth": 0,
              "ticks": ""
             }
            },
            "type": "scatterpolar"
           }
          ],
          "scatterpolargl": [
           {
            "marker": {
             "colorbar": {
              "outlinewidth": 0,
              "ticks": ""
             }
            },
            "type": "scatterpolargl"
           }
          ],
          "scatterternary": [
           {
            "marker": {
             "colorbar": {
              "outlinewidth": 0,
              "ticks": ""
             }
            },
            "type": "scatterternary"
           }
          ],
          "surface": [
           {
            "colorbar": {
             "outlinewidth": 0,
             "ticks": ""
            },
            "colorscale": [
             [
              0,
              "#0d0887"
             ],
             [
              0.1111111111111111,
              "#46039f"
             ],
             [
              0.2222222222222222,
              "#7201a8"
             ],
             [
              0.3333333333333333,
              "#9c179e"
             ],
             [
              0.4444444444444444,
              "#bd3786"
             ],
             [
              0.5555555555555556,
              "#d8576b"
             ],
             [
              0.6666666666666666,
              "#ed7953"
             ],
             [
              0.7777777777777778,
              "#fb9f3a"
             ],
             [
              0.8888888888888888,
              "#fdca26"
             ],
             [
              1,
              "#f0f921"
             ]
            ],
            "type": "surface"
           }
          ],
          "table": [
           {
            "cells": {
             "fill": {
              "color": "#EBF0F8"
             },
             "line": {
              "color": "white"
             }
            },
            "header": {
             "fill": {
              "color": "#C8D4E3"
             },
             "line": {
              "color": "white"
             }
            },
            "type": "table"
           }
          ]
         },
         "layout": {
          "annotationdefaults": {
           "arrowcolor": "#2a3f5f",
           "arrowhead": 0,
           "arrowwidth": 1
          },
          "autotypenumbers": "strict",
          "coloraxis": {
           "colorbar": {
            "outlinewidth": 0,
            "ticks": ""
           }
          },
          "colorscale": {
           "diverging": [
            [
             0,
             "#8e0152"
            ],
            [
             0.1,
             "#c51b7d"
            ],
            [
             0.2,
             "#de77ae"
            ],
            [
             0.3,
             "#f1b6da"
            ],
            [
             0.4,
             "#fde0ef"
            ],
            [
             0.5,
             "#f7f7f7"
            ],
            [
             0.6,
             "#e6f5d0"
            ],
            [
             0.7,
             "#b8e186"
            ],
            [
             0.8,
             "#7fbc41"
            ],
            [
             0.9,
             "#4d9221"
            ],
            [
             1,
             "#276419"
            ]
           ],
           "sequential": [
            [
             0,
             "#0d0887"
            ],
            [
             0.1111111111111111,
             "#46039f"
            ],
            [
             0.2222222222222222,
             "#7201a8"
            ],
            [
             0.3333333333333333,
             "#9c179e"
            ],
            [
             0.4444444444444444,
             "#bd3786"
            ],
            [
             0.5555555555555556,
             "#d8576b"
            ],
            [
             0.6666666666666666,
             "#ed7953"
            ],
            [
             0.7777777777777778,
             "#fb9f3a"
            ],
            [
             0.8888888888888888,
             "#fdca26"
            ],
            [
             1,
             "#f0f921"
            ]
           ],
           "sequentialminus": [
            [
             0,
             "#0d0887"
            ],
            [
             0.1111111111111111,
             "#46039f"
            ],
            [
             0.2222222222222222,
             "#7201a8"
            ],
            [
             0.3333333333333333,
             "#9c179e"
            ],
            [
             0.4444444444444444,
             "#bd3786"
            ],
            [
             0.5555555555555556,
             "#d8576b"
            ],
            [
             0.6666666666666666,
             "#ed7953"
            ],
            [
             0.7777777777777778,
             "#fb9f3a"
            ],
            [
             0.8888888888888888,
             "#fdca26"
            ],
            [
             1,
             "#f0f921"
            ]
           ]
          },
          "colorway": [
           "#636efa",
           "#EF553B",
           "#00cc96",
           "#ab63fa",
           "#FFA15A",
           "#19d3f3",
           "#FF6692",
           "#B6E880",
           "#FF97FF",
           "#FECB52"
          ],
          "font": {
           "color": "#2a3f5f"
          },
          "geo": {
           "bgcolor": "white",
           "lakecolor": "white",
           "landcolor": "#E5ECF6",
           "showlakes": true,
           "showland": true,
           "subunitcolor": "white"
          },
          "hoverlabel": {
           "align": "left"
          },
          "hovermode": "closest",
          "mapbox": {
           "style": "light"
          },
          "paper_bgcolor": "white",
          "plot_bgcolor": "#E5ECF6",
          "polar": {
           "angularaxis": {
            "gridcolor": "white",
            "linecolor": "white",
            "ticks": ""
           },
           "bgcolor": "#E5ECF6",
           "radialaxis": {
            "gridcolor": "white",
            "linecolor": "white",
            "ticks": ""
           }
          },
          "scene": {
           "xaxis": {
            "backgroundcolor": "#E5ECF6",
            "gridcolor": "white",
            "gridwidth": 2,
            "linecolor": "white",
            "showbackground": true,
            "ticks": "",
            "zerolinecolor": "white"
           },
           "yaxis": {
            "backgroundcolor": "#E5ECF6",
            "gridcolor": "white",
            "gridwidth": 2,
            "linecolor": "white",
            "showbackground": true,
            "ticks": "",
            "zerolinecolor": "white"
           },
           "zaxis": {
            "backgroundcolor": "#E5ECF6",
            "gridcolor": "white",
            "gridwidth": 2,
            "linecolor": "white",
            "showbackground": true,
            "ticks": "",
            "zerolinecolor": "white"
           }
          },
          "shapedefaults": {
           "line": {
            "color": "#2a3f5f"
           }
          },
          "ternary": {
           "aaxis": {
            "gridcolor": "white",
            "linecolor": "white",
            "ticks": ""
           },
           "baxis": {
            "gridcolor": "white",
            "linecolor": "white",
            "ticks": ""
           },
           "bgcolor": "#E5ECF6",
           "caxis": {
            "gridcolor": "white",
            "linecolor": "white",
            "ticks": ""
           }
          },
          "title": {
           "x": 0.05
          },
          "xaxis": {
           "automargin": true,
           "gridcolor": "white",
           "linecolor": "white",
           "ticks": "",
           "title": {
            "standoff": 15
           },
           "zerolinecolor": "white",
           "zerolinewidth": 2
          },
          "yaxis": {
           "automargin": true,
           "gridcolor": "white",
           "linecolor": "white",
           "ticks": "",
           "title": {
            "standoff": 15
           },
           "zerolinecolor": "white",
           "zerolinewidth": 2
          }
         }
        },
        "xaxis": {
         "anchor": "y",
         "domain": [
          0,
          1
         ],
         "title": {
          "text": "index"
         }
        },
        "yaxis": {
         "anchor": "x",
         "domain": [
          0,
          1
         ],
         "title": {
          "text": "value"
         }
        }
       }
      }
     },
     "metadata": {},
     "output_type": "display_data"
    }
   ],
   "source": [
    "derived_df_0.incidence.plot()"
   ]
  },
  {
   "cell_type": "code",
   "execution_count": 15,
   "metadata": {},
   "outputs": [
    {
     "data": {
      "application/vnd.plotly.v1+json": {
       "config": {
        "plotlyServerURL": "https://plot.ly"
       },
       "data": [
        {
         "hovertemplate": "variable=percentage_latent<br>index=%{x}<br>value=%{y}<extra></extra>",
         "legendgroup": "percentage_latent",
         "line": {
          "color": "#636efa",
          "dash": "solid"
         },
         "marker": {
          "symbol": "circle"
         },
         "mode": "lines",
         "name": "percentage_latent",
         "showlegend": true,
         "type": "scattergl",
         "x": [
          1900,
          1900.1,
          1900.2,
          1900.3,
          1900.4,
          1900.5,
          1900.6,
          1900.7,
          1900.8,
          1900.9,
          1901,
          1901.1,
          1901.2,
          1901.3,
          1901.4,
          1901.5,
          1901.6,
          1901.7,
          1901.8,
          1901.9,
          1902,
          1902.1,
          1902.2,
          1902.3,
          1902.4,
          1902.5,
          1902.6,
          1902.7,
          1902.8,
          1902.9,
          1903,
          1903.1,
          1903.2,
          1903.3,
          1903.4,
          1903.5,
          1903.6,
          1903.7,
          1903.8,
          1903.9,
          1904,
          1904.1,
          1904.2,
          1904.3,
          1904.4,
          1904.5,
          1904.6,
          1904.7,
          1904.8,
          1904.9,
          1905,
          1905.1,
          1905.2,
          1905.3,
          1905.4,
          1905.5,
          1905.6,
          1905.7,
          1905.8,
          1905.9,
          1906,
          1906.1,
          1906.2,
          1906.3,
          1906.4,
          1906.5,
          1906.6,
          1906.7,
          1906.8,
          1906.9,
          1907,
          1907.1,
          1907.2,
          1907.3,
          1907.4,
          1907.5,
          1907.6,
          1907.7,
          1907.8,
          1907.9,
          1908,
          1908.1,
          1908.2,
          1908.3,
          1908.4,
          1908.5,
          1908.6,
          1908.7,
          1908.8,
          1908.9,
          1909,
          1909.1,
          1909.2,
          1909.3,
          1909.4,
          1909.5,
          1909.6,
          1909.7,
          1909.8,
          1909.9,
          1910,
          1910.1,
          1910.2,
          1910.3,
          1910.4,
          1910.5,
          1910.6,
          1910.7,
          1910.8,
          1910.9,
          1911,
          1911.1,
          1911.2,
          1911.3,
          1911.4,
          1911.5,
          1911.6,
          1911.7,
          1911.8,
          1911.9,
          1912,
          1912.1,
          1912.2,
          1912.3,
          1912.4,
          1912.5,
          1912.6,
          1912.7,
          1912.8,
          1912.9,
          1913,
          1913.1,
          1913.2,
          1913.3,
          1913.4,
          1913.5,
          1913.6,
          1913.7,
          1913.8,
          1913.9,
          1914,
          1914.1,
          1914.2,
          1914.3,
          1914.4,
          1914.5,
          1914.6,
          1914.7,
          1914.8,
          1914.9,
          1915,
          1915.1,
          1915.2,
          1915.3,
          1915.4,
          1915.5,
          1915.6,
          1915.7,
          1915.8,
          1915.9,
          1916,
          1916.1,
          1916.2,
          1916.3,
          1916.4,
          1916.5,
          1916.6,
          1916.7,
          1916.8,
          1916.9,
          1917,
          1917.1,
          1917.2,
          1917.3,
          1917.4,
          1917.5,
          1917.6,
          1917.7,
          1917.8,
          1917.9,
          1918,
          1918.1,
          1918.2,
          1918.3,
          1918.4,
          1918.5,
          1918.6,
          1918.7,
          1918.8,
          1918.9,
          1919,
          1919.1,
          1919.2,
          1919.3,
          1919.4,
          1919.5,
          1919.6,
          1919.7,
          1919.8,
          1919.9,
          1920,
          1920.1,
          1920.2,
          1920.3,
          1920.4,
          1920.5,
          1920.6,
          1920.7,
          1920.8,
          1920.9,
          1921,
          1921.1,
          1921.2,
          1921.3,
          1921.4,
          1921.5,
          1921.6,
          1921.7,
          1921.8,
          1921.9,
          1922,
          1922.1,
          1922.2,
          1922.3,
          1922.4,
          1922.5,
          1922.6,
          1922.7,
          1922.8,
          1922.9,
          1923,
          1923.1,
          1923.2,
          1923.3,
          1923.4,
          1923.5,
          1923.6,
          1923.7,
          1923.8,
          1923.9,
          1924,
          1924.1,
          1924.2,
          1924.3,
          1924.4,
          1924.5,
          1924.6,
          1924.7,
          1924.8,
          1924.9,
          1925,
          1925.1,
          1925.2,
          1925.3,
          1925.4,
          1925.5,
          1925.6,
          1925.7,
          1925.8,
          1925.9,
          1926,
          1926.1,
          1926.2,
          1926.3,
          1926.4,
          1926.5,
          1926.6,
          1926.7,
          1926.8,
          1926.9,
          1927,
          1927.1,
          1927.2,
          1927.3,
          1927.4,
          1927.5,
          1927.6,
          1927.7,
          1927.8,
          1927.9,
          1928,
          1928.1,
          1928.2,
          1928.3,
          1928.4,
          1928.5,
          1928.6,
          1928.7,
          1928.8,
          1928.9,
          1929,
          1929.1,
          1929.2,
          1929.3,
          1929.4,
          1929.5,
          1929.6,
          1929.7,
          1929.8,
          1929.9,
          1930,
          1930.1,
          1930.2,
          1930.3,
          1930.4,
          1930.5,
          1930.6,
          1930.7,
          1930.8,
          1930.9,
          1931,
          1931.1,
          1931.2,
          1931.3,
          1931.4,
          1931.5,
          1931.6,
          1931.7,
          1931.8,
          1931.9,
          1932,
          1932.1,
          1932.2,
          1932.3,
          1932.4,
          1932.5,
          1932.6,
          1932.7,
          1932.8,
          1932.9,
          1933,
          1933.1,
          1933.2,
          1933.3,
          1933.4,
          1933.5,
          1933.6,
          1933.7,
          1933.8,
          1933.9,
          1934,
          1934.1,
          1934.2,
          1934.3,
          1934.4,
          1934.5,
          1934.6,
          1934.7,
          1934.8,
          1934.9,
          1935,
          1935.1,
          1935.2,
          1935.3,
          1935.4,
          1935.5,
          1935.6,
          1935.7,
          1935.8,
          1935.9,
          1936,
          1936.1,
          1936.2,
          1936.3,
          1936.4,
          1936.5,
          1936.6,
          1936.7,
          1936.8,
          1936.9,
          1937,
          1937.1,
          1937.2,
          1937.3,
          1937.4,
          1937.5,
          1937.6,
          1937.7,
          1937.8,
          1937.9,
          1938,
          1938.1,
          1938.2,
          1938.3,
          1938.4,
          1938.5,
          1938.6,
          1938.7,
          1938.8,
          1938.9,
          1939,
          1939.1,
          1939.2,
          1939.3,
          1939.4,
          1939.5,
          1939.6,
          1939.7,
          1939.8,
          1939.9,
          1940,
          1940.1,
          1940.2,
          1940.3,
          1940.4,
          1940.5,
          1940.6,
          1940.7,
          1940.8,
          1940.9,
          1941,
          1941.1,
          1941.2,
          1941.3,
          1941.4,
          1941.5,
          1941.6,
          1941.7,
          1941.8,
          1941.9,
          1942,
          1942.1,
          1942.2,
          1942.3,
          1942.4,
          1942.5,
          1942.6,
          1942.7,
          1942.8,
          1942.9,
          1943,
          1943.1,
          1943.2,
          1943.3,
          1943.4,
          1943.5,
          1943.6,
          1943.7,
          1943.8,
          1943.9,
          1944,
          1944.1,
          1944.2,
          1944.3,
          1944.4,
          1944.5,
          1944.6,
          1944.7,
          1944.8,
          1944.9,
          1945,
          1945.1,
          1945.2,
          1945.3,
          1945.4,
          1945.5,
          1945.6,
          1945.7,
          1945.8,
          1945.9,
          1946,
          1946.1,
          1946.2,
          1946.3,
          1946.4,
          1946.5,
          1946.6,
          1946.7,
          1946.8,
          1946.9,
          1947,
          1947.1,
          1947.2,
          1947.3,
          1947.4,
          1947.5,
          1947.6,
          1947.7,
          1947.8,
          1947.9,
          1948,
          1948.1,
          1948.2,
          1948.3,
          1948.4,
          1948.5,
          1948.6,
          1948.7,
          1948.8,
          1948.9,
          1949,
          1949.1,
          1949.2,
          1949.3,
          1949.4,
          1949.5,
          1949.6,
          1949.7,
          1949.8,
          1949.9,
          1950,
          1950.1,
          1950.2,
          1950.3,
          1950.4,
          1950.5,
          1950.6,
          1950.7,
          1950.8,
          1950.9,
          1951,
          1951.1,
          1951.2,
          1951.3,
          1951.4,
          1951.5,
          1951.6,
          1951.7,
          1951.8,
          1951.9,
          1952,
          1952.1,
          1952.2,
          1952.3,
          1952.4,
          1952.5,
          1952.6,
          1952.7,
          1952.8,
          1952.9,
          1953,
          1953.1,
          1953.2,
          1953.3,
          1953.4,
          1953.5,
          1953.6,
          1953.7,
          1953.8,
          1953.9,
          1954,
          1954.1,
          1954.2,
          1954.3,
          1954.4,
          1954.5,
          1954.6,
          1954.7,
          1954.8,
          1954.9,
          1955,
          1955.1,
          1955.2,
          1955.3,
          1955.4,
          1955.5,
          1955.6,
          1955.7,
          1955.8,
          1955.9,
          1956,
          1956.1,
          1956.2,
          1956.3,
          1956.4,
          1956.5,
          1956.6,
          1956.7,
          1956.8,
          1956.9,
          1957,
          1957.1,
          1957.2,
          1957.3,
          1957.4,
          1957.5,
          1957.6,
          1957.7,
          1957.8,
          1957.9,
          1958,
          1958.1,
          1958.2,
          1958.3,
          1958.4,
          1958.5,
          1958.6,
          1958.7,
          1958.8,
          1958.9,
          1959,
          1959.1,
          1959.2,
          1959.3,
          1959.4,
          1959.5,
          1959.6,
          1959.7,
          1959.8,
          1959.9,
          1960,
          1960.1,
          1960.2,
          1960.3,
          1960.4,
          1960.5,
          1960.6,
          1960.7,
          1960.8,
          1960.9,
          1961,
          1961.1,
          1961.2,
          1961.3,
          1961.4,
          1961.5,
          1961.6,
          1961.7,
          1961.8,
          1961.9,
          1962,
          1962.1,
          1962.2,
          1962.3,
          1962.4,
          1962.5,
          1962.6,
          1962.7,
          1962.8,
          1962.9,
          1963,
          1963.1,
          1963.2,
          1963.3,
          1963.4,
          1963.5,
          1963.6,
          1963.7,
          1963.8,
          1963.9,
          1964,
          1964.1,
          1964.2,
          1964.3,
          1964.4,
          1964.5,
          1964.6,
          1964.7,
          1964.8,
          1964.9,
          1965,
          1965.1,
          1965.2,
          1965.3,
          1965.4,
          1965.5,
          1965.6,
          1965.7,
          1965.8,
          1965.9,
          1966,
          1966.1,
          1966.2,
          1966.3,
          1966.4,
          1966.5,
          1966.6,
          1966.7,
          1966.8,
          1966.9,
          1967,
          1967.1,
          1967.2,
          1967.3,
          1967.4,
          1967.5,
          1967.6,
          1967.7,
          1967.8,
          1967.9,
          1968,
          1968.1,
          1968.2,
          1968.3,
          1968.4,
          1968.5,
          1968.6,
          1968.7,
          1968.8,
          1968.9,
          1969,
          1969.1,
          1969.2,
          1969.3,
          1969.4,
          1969.5,
          1969.6,
          1969.7,
          1969.8,
          1969.9,
          1970,
          1970.1,
          1970.2,
          1970.3,
          1970.4,
          1970.5,
          1970.6,
          1970.7,
          1970.8,
          1970.9,
          1971,
          1971.1,
          1971.2,
          1971.3,
          1971.4,
          1971.5,
          1971.6,
          1971.7,
          1971.8,
          1971.9,
          1972,
          1972.1,
          1972.2,
          1972.3,
          1972.4,
          1972.5,
          1972.6,
          1972.7,
          1972.8,
          1972.9,
          1973,
          1973.1,
          1973.2,
          1973.3,
          1973.4,
          1973.5,
          1973.6,
          1973.7,
          1973.8,
          1973.9,
          1974,
          1974.1,
          1974.2,
          1974.3,
          1974.4,
          1974.5,
          1974.6,
          1974.7,
          1974.8,
          1974.9,
          1975,
          1975.1,
          1975.2,
          1975.3,
          1975.4,
          1975.5,
          1975.6,
          1975.7,
          1975.8,
          1975.9,
          1976,
          1976.1,
          1976.2,
          1976.3,
          1976.4,
          1976.5,
          1976.6,
          1976.7,
          1976.8,
          1976.9,
          1977,
          1977.1,
          1977.2,
          1977.3,
          1977.4,
          1977.5,
          1977.6,
          1977.7,
          1977.8,
          1977.9,
          1978,
          1978.1,
          1978.2,
          1978.3,
          1978.4,
          1978.5,
          1978.6,
          1978.7,
          1978.8,
          1978.9,
          1979,
          1979.1,
          1979.2,
          1979.3,
          1979.4,
          1979.5,
          1979.6,
          1979.7,
          1979.8,
          1979.9,
          1980,
          1980.1,
          1980.2,
          1980.3,
          1980.4,
          1980.5,
          1980.6,
          1980.7,
          1980.8,
          1980.9,
          1981,
          1981.1,
          1981.2,
          1981.3,
          1981.4,
          1981.5,
          1981.6,
          1981.7,
          1981.8,
          1981.9,
          1982,
          1982.1,
          1982.2,
          1982.3,
          1982.4,
          1982.5,
          1982.6,
          1982.7,
          1982.8,
          1982.9,
          1983,
          1983.1,
          1983.2,
          1983.3,
          1983.4,
          1983.5,
          1983.6,
          1983.7,
          1983.8,
          1983.9,
          1984,
          1984.1,
          1984.2,
          1984.3,
          1984.4,
          1984.5,
          1984.6,
          1984.7,
          1984.8,
          1984.9,
          1985,
          1985.1,
          1985.2,
          1985.3,
          1985.4,
          1985.5,
          1985.6,
          1985.7,
          1985.8,
          1985.9,
          1986,
          1986.1,
          1986.2,
          1986.3,
          1986.4,
          1986.5,
          1986.6,
          1986.7,
          1986.8,
          1986.9,
          1987,
          1987.1,
          1987.2,
          1987.3,
          1987.4,
          1987.5,
          1987.6,
          1987.7,
          1987.8,
          1987.9,
          1988,
          1988.1,
          1988.2,
          1988.3,
          1988.4,
          1988.5,
          1988.6,
          1988.7,
          1988.8,
          1988.9,
          1989,
          1989.1,
          1989.2,
          1989.3,
          1989.4,
          1989.5,
          1989.6,
          1989.7,
          1989.8,
          1989.9,
          1990,
          1990.1,
          1990.2,
          1990.3,
          1990.4,
          1990.5,
          1990.6,
          1990.7,
          1990.8,
          1990.9,
          1991,
          1991.1,
          1991.2,
          1991.3,
          1991.4,
          1991.5,
          1991.6,
          1991.7,
          1991.8,
          1991.9,
          1992,
          1992.1,
          1992.2,
          1992.3,
          1992.4,
          1992.5,
          1992.6,
          1992.7,
          1992.8,
          1992.9,
          1993,
          1993.1,
          1993.2,
          1993.3,
          1993.4,
          1993.5,
          1993.6,
          1993.7,
          1993.8,
          1993.9,
          1994,
          1994.1,
          1994.2,
          1994.3,
          1994.4,
          1994.5,
          1994.6,
          1994.7,
          1994.8,
          1994.9,
          1995,
          1995.1,
          1995.2,
          1995.3,
          1995.4,
          1995.5,
          1995.6,
          1995.7,
          1995.8,
          1995.9,
          1996,
          1996.1,
          1996.2,
          1996.3,
          1996.4,
          1996.5,
          1996.6,
          1996.7,
          1996.8,
          1996.9,
          1997,
          1997.1,
          1997.2,
          1997.3,
          1997.4,
          1997.5,
          1997.6,
          1997.7,
          1997.8,
          1997.9,
          1998,
          1998.1,
          1998.2,
          1998.3,
          1998.4,
          1998.5,
          1998.6,
          1998.7,
          1998.8,
          1998.9,
          1999,
          1999.1,
          1999.2,
          1999.3,
          1999.4,
          1999.5,
          1999.6,
          1999.7,
          1999.8,
          1999.9,
          2000,
          2000.1,
          2000.2,
          2000.3,
          2000.4,
          2000.5,
          2000.6,
          2000.7,
          2000.8,
          2000.9,
          2001,
          2001.1,
          2001.2,
          2001.3,
          2001.4,
          2001.5,
          2001.6,
          2001.7,
          2001.8,
          2001.9,
          2002,
          2002.1,
          2002.2,
          2002.3,
          2002.4,
          2002.5,
          2002.6,
          2002.7,
          2002.8,
          2002.9,
          2003,
          2003.1,
          2003.2,
          2003.3,
          2003.4,
          2003.5,
          2003.6,
          2003.7,
          2003.8,
          2003.9,
          2004,
          2004.1,
          2004.2,
          2004.3,
          2004.4,
          2004.5,
          2004.6,
          2004.7,
          2004.8,
          2004.9,
          2005,
          2005.1,
          2005.2,
          2005.3,
          2005.4,
          2005.5,
          2005.6,
          2005.7,
          2005.8,
          2005.9,
          2006,
          2006.1,
          2006.2,
          2006.3,
          2006.4,
          2006.5,
          2006.6,
          2006.7,
          2006.8,
          2006.9,
          2007,
          2007.1,
          2007.2,
          2007.3,
          2007.4,
          2007.5,
          2007.6,
          2007.7,
          2007.8,
          2007.9,
          2008,
          2008.1,
          2008.2,
          2008.3,
          2008.4,
          2008.5,
          2008.6,
          2008.7,
          2008.8,
          2008.9,
          2009,
          2009.1,
          2009.2,
          2009.3,
          2009.4,
          2009.5,
          2009.6,
          2009.7,
          2009.8,
          2009.9,
          2010,
          2010.1,
          2010.2,
          2010.3,
          2010.4,
          2010.5,
          2010.6,
          2010.7,
          2010.8,
          2010.9,
          2011,
          2011.1,
          2011.2,
          2011.3,
          2011.4,
          2011.5,
          2011.6,
          2011.7,
          2011.8,
          2011.9,
          2012,
          2012.1,
          2012.2,
          2012.3,
          2012.4,
          2012.5,
          2012.6,
          2012.7,
          2012.8,
          2012.9,
          2013,
          2013.1,
          2013.2,
          2013.3,
          2013.4,
          2013.5,
          2013.6,
          2013.7,
          2013.8,
          2013.9,
          2014,
          2014.1,
          2014.2,
          2014.3,
          2014.4,
          2014.5,
          2014.6,
          2014.7,
          2014.8,
          2014.9,
          2015,
          2015.1,
          2015.2,
          2015.3,
          2015.4,
          2015.5,
          2015.6,
          2015.7,
          2015.8,
          2015.9,
          2016,
          2016.1,
          2016.2,
          2016.3,
          2016.4,
          2016.5,
          2016.6,
          2016.7,
          2016.8,
          2016.9,
          2017,
          2017.1,
          2017.2,
          2017.3,
          2017.4,
          2017.5,
          2017.6,
          2017.7,
          2017.8,
          2017.9,
          2018,
          2018.1,
          2018.2,
          2018.3,
          2018.4,
          2018.5,
          2018.6,
          2018.7,
          2018.8,
          2018.9,
          2019,
          2019.1,
          2019.2,
          2019.3,
          2019.4,
          2019.5,
          2019.6,
          2019.7,
          2019.8,
          2019.9,
          2020
         ],
         "xaxis": "x",
         "y": [
          0,
          1.6905088897975244,
          3.1939686928553095,
          4.547026077949687,
          5.776314508127176,
          6.901508960828563,
          7.937525373878638,
          8.895849692599556,
          9.785542275678766,
          10.61384451913368,
          11.386781629095942,
          12.109227910179143,
          12.78546309700892,
          13.419112067048069,
          14.01326670527445,
          14.57076059193457,
          15.09411528660806,
          15.585498144577674,
          16.046920135507442,
          16.4802629704691,
          16.887237019575686,
          17.2693533630943,
          17.628031953591396,
          17.964612685029465,
          18.280354700313577,
          18.576410230425186,
          18.853836132790352,
          19.113634522377225,
          19.356751575484008,
          19.584077362338277,
          19.796444866051,
          19.994630793337812,
          20.179368997638605,
          20.35135401548053,
          20.51124097437811,
          20.65964647383872,
          20.79715406254611,
          20.92431352422648,
          21.041646306244125,
          21.14964615560941,
          21.24877916837798,
          21.33948796977617,
          21.422191046509543,
          21.49728528715486,
          21.565147913593783,
          21.626136458832136,
          21.68058981926835,
          21.728830501865506,
          21.771163498153545,
          21.807879527122047,
          21.83925518730735,
          21.865552967717058,
          21.88702287654723,
          21.9039018183137,
          21.9164151568652,
          21.924778021907358,
          21.92919530895624,
          21.92986181107103,
          21.926963238958674,
          21.920675421173968,
          21.91116627601558,
          21.89859622639302,
          21.883118204846916,
          21.86487783990844,
          21.844013843673928,
          21.820657728279564,
          21.794935331804272,
          21.76696695422232,
          21.736867364639583,
          21.704745970826952,
          21.670706887200033,
          21.63484897090181,
          21.597266900753116,
          21.558051233227708,
          21.51728841032432,
          21.475060883647377,
          21.431447109404953,
          21.386521625582425,
          21.34035584230008,
          21.293018080208743,
          21.244573578167973,
          21.195084573151057,
          21.144610352586376,
          21.093207217360305,
          21.040929091946435,
          20.987827568754103,
          20.933951915215854,
          20.879349117750888,
          20.824064032952414,
          20.76813922963531,
          20.711615434707127,
          20.654531600797768,
          20.596924912610422,
          20.538830803800096,
          20.480283173167912,
          20.421314226255397,
          20.361954699700703,
          20.30223396883565,
          20.242180053277988,
          20.1818196227294,
          20.121178179015107,
          20.06028009223775,
          19.999148522731012,
          19.93780557705997,
          19.876272312912953,
          19.814568744118926,
          19.752713932798493,
          19.690726262162734,
          19.628623154961733,
          19.56642119706878,
          19.504136155078307,
          19.441782980630265,
          19.379375837234285,
          19.31692845191904,
          19.254453914287307,
          19.19196461745641,
          19.12947230791215,
          19.06698808923877,
          19.004522425920396,
          18.942085388097283,
          18.8796867825631,
          18.817335820221107,
          18.75504119599757,
          18.692811092064115,
          18.630653181099472,
          18.568574718233673,
          18.50658294318334,
          18.44468466959021,
          18.382886279378557,
          18.321193740919743,
          18.259612611851804,
          18.198148055286943,
          18.136805230820332,
          18.07558915516054,
          18.014504460843703,
          17.95355544286345,
          17.89274606111654,
          17.8320799428655,
          17.77156057792499,
          17.71119160676336,
          17.650976345159993,
          17.590917827895804,
          17.53101881255357,
          17.47128178166661,
          17.411708994481412,
          17.352302929349328,
          17.293065936351155,
          17.234000106391242,
          17.175107297349307,
          17.116389135972067,
          17.057847021155,
          16.999482432624504,
          16.941297002192993,
          16.88329211888121,
          16.825468972462534,
          16.767828555148828,
          16.710371663275858,
          16.65309900039837,
          16.596011589723872,
          16.539110313680847,
          16.482395870674097,
          16.42586878751281,
          16.369529420924714,
          16.31337797184617,
          16.257414869984526,
          16.20164064352868,
          16.146055634001506,
          16.090660031649236,
          16.03545387681275,
          15.980437061295644,
          15.925609498355675,
          15.870971430136521,
          15.816522946236303,
          15.762263998485817,
          15.708194404522056,
          15.654313849040149,
          15.600621920550479,
          15.54711852356443,
          15.493803593491137,
          15.440676918831679,
          15.387738165897671,
          15.334986879966607,
          15.282422486499371,
          15.230044536113732,
          15.17785285569771,
          15.12584712774656,
          15.074026921659915,
          15.022391694822886,
          14.970940793683539,
          14.919673521208408,
          14.868589537056405,
          14.817688475167767,
          14.766969849074734,
          14.716433067294412,
          14.666077434343167,
          14.615902155772584,
          14.56590664754546,
          14.516090528726695,
          14.466453287558533,
          14.416994312860485,
          14.367712894993552,
          14.318608226818656,
          14.269679511913445,
          14.220926314388253,
          14.1723481264602,
          14.123944338843991,
          14.07571424826727,
          14.027657058386085,
          13.979771895610229,
          13.932058160569609,
          13.884515379153605,
          13.837142959762955,
          13.78994022046479,
          13.742906389870516,
          13.696040608008515,
          13.649342085974343,
          13.602810363412488,
          13.556444879145142,
          13.510244983309919,
          13.464209939581202,
          13.418338926011863,
          13.372631069491426,
          13.327085812173188,
          13.281702648019102,
          13.236480966731024,
          13.19142007406522,
          13.146519192644213,
          13.101777462895377,
          13.057194164335579,
          13.01276883911396,
          12.968500921528902,
          12.924389764084978,
          12.880434638280606,
          12.836634735391625,
          12.792989228045617,
          12.749497620963108,
          12.706159408221739,
          12.662973992010718,
          12.619940695336842,
          12.57705876278496,
          12.534327365260598,
          12.49174587461488,
          12.449313848713066,
          12.407030741240884,
          12.364895928201046,
          12.322908708655952,
          12.281068305465054,
          12.239373961904999,
          12.197825245851948,
          12.156421668920514,
          12.115162660808261,
          12.07404757545973,
          12.03307569178854,
          11.992246227698757,
          11.951558648885364,
          11.911012536675061,
          11.870607374431167,
          11.83034257078963,
          11.79021746036667,
          11.750231304461675,
          11.710383430649962,
          11.670673460778598,
          11.631100932487003,
          11.591665308399877,
          11.552365978052395,
          11.513202258581186,
          11.474173424167423,
          11.435279028765974,
          11.396518678053976,
          11.357891887572604,
          11.319398100646548,
          11.28103668906112,
          11.242806953791732,
          11.20470831626476,
          11.16674043706091,
          11.128902883305244,
          11.091195150735825,
          11.053616664369866,
          11.016166779166175,
          10.978844831668324,
          10.941650453111244,
          10.904583271831287,
          10.867642834437179,
          10.830828617606024,
          10.794140028733683,
          10.75757640941544,
          10.721137273865077,
          10.684822310526059,
          10.648631115226978,
          10.612563214633036,
          10.576618066886939,
          10.540795062244994,
          10.505093604163134,
          10.469513386705387,
          10.43405405871794,
          10.39871519512734,
          10.363496303082213,
          10.328396822579872,
          10.293416137438175,
          10.258553846342698,
          10.223809658914067,
          10.189183196588196,
          10.154674013760486,
          10.120281598402427,
          10.086005372673908,
          10.05184481103926,
          10.017799653888122,
          9.983869568888851,
          9.950054155928115,
          9.916352949191156,
          9.882765417765595,
          9.849290989495309,
          9.815929336836316,
          9.782680185035646,
          9.749543177735461,
          9.71651789359844,
          9.683603846901024,
          9.650800488125535,
          9.618107366920718,
          9.585524252325508,
          9.553050830035593,
          9.520686721488016,
          9.488431484445945,
          9.456284613580136,
          9.4242455832588,
          9.392314126935556,
          9.360489979253535,
          9.328772801105414,
          9.297162191005382,
          9.26565768565582,
          9.234258762438966,
          9.202965045252306,
          9.171776319400614,
          9.140692286967912,
          9.109712587682901,
          9.078836799483888,
          9.048064439079443,
          9.017395029861127,
          8.986828353817334,
          8.956364156458928,
          8.92600211617183,
          8.895741850305471,
          8.8655829157251,
          8.835524817331974,
          8.805567245118697,
          8.775709994090994,
          8.745952779743423,
          8.716295257293572,
          8.686737022225405,
          8.657277610828924,
          8.627916599780582,
          8.598653804482506,
          8.569488977726024,
          8.54042181110305,
          8.511451937228491,
          8.482578930272124,
          8.453802325155905,
          8.425121869405409,
          8.396537363120611,
          8.368048532818932,
          8.339655046806575,
          8.311356515700677,
          8.28315249294911,
          8.255042612756785,
          8.227026709049637,
          8.199104541882884,
          8.17127581385672,
          8.143540170648484,
          8.115897201523865,
          8.088346474300456,
          8.060887783942865,
          8.033520932717266,
          8.006245656160422,
          7.979061633663239,
          7.951968488972713,
          7.924965791949675,
          7.8980532352131645,
          7.871230659789579,
          7.84449783282958,
          7.817854466126414,
          7.791300216610227,
          7.764834686838645,
          7.738457481102695,
          7.712168430784397,
          7.685967338795835,
          7.659853948053442,
          7.633827947404014,
          7.60788897210735,
          7.582036610321887,
          7.556270607496904,
          7.530590806952212,
          7.504996981472892,
          7.47948885058383,
          7.454066081023782,
          7.428728287216178,
          7.403475114056577,
          7.378306417715804,
          7.353222001433192,
          7.328221613952047,
          7.3033049518362,
          7.278471659934918,
          7.253721346307389,
          7.229053798886384,
          7.204468858791504,
          7.179966302872,
          7.155545857112839,
          7.131207197085926,
          7.106949948399368,
          7.082773800927609,
          7.058678622317688,
          7.034664216530377,
          7.010730337352572,
          6.986876688920643,
          6.96310292616175,
          6.9394086828219725,
          6.915793787293079,
          6.892258078631881,
          6.868801337307028,
          6.845423294966605,
          6.822123634870444,
          6.798901993085554,
          6.775758106486678,
          6.752691845168486,
          6.729703015116008,
          6.706791374377134,
          6.6839566334868445,
          6.66119845588832,
          6.638516503317623,
          6.615910632688773,
          6.593380679521914,
          6.570926427112402,
          6.54854761216636,
          6.526243925213142,
          6.504015015397589,
          6.481860662448328,
          6.459780734626588,
          6.437775039282391,
          6.415843338150389,
          6.393985347752813,
          6.372200739799663,
          6.350489208163293,
          6.32885062819783,
          6.307284832002187,
          6.285791605153939,
          6.264370689035035,
          6.243021781222884,
          6.221744547106166,
          6.200538803254797,
          6.179404413467258,
          6.158341185924892,
          6.137348885689857,
          6.116427235085156,
          6.0955759140730885,
          6.074794652615475,
          6.054083333923058,
          6.0334417876380355,
          6.012869801262989,
          5.992367120693349,
          5.971933450585071,
          5.951568476029654,
          5.9312720429063015,
          5.911044009267232,
          5.890884183918792,
          5.870792335175567,
          5.8507681912170275,
          5.830811440804074,
          5.810921850475816,
          5.791099302723056,
          5.771343627110812,
          5.7516546135697375,
          5.7320320127452,
          5.712475536343768,
          5.692984889241507,
          5.673559936741193,
          5.654200534402757,
          5.634906493420462,
          5.615677586224542,
          5.596513546822833,
          5.577414072858345,
          5.5583789566454564,
          5.53940808146868,
          5.5205012792929145,
          5.501658343785344,
          5.48287903065223,
          5.464163057973474,
          5.4455101476460355,
          5.4269201783244725,
          5.408393005242269,
          5.389928442534447,
          5.3715262669887895,
          5.3531862183749785,
          5.334908003646844,
          5.316691437079881,
          5.298536401309521,
          5.280442729947,
          5.262410220043294,
          5.2444386324100885,
          5.226527691939419,
          5.20867713898517,
          5.190886860852929,
          5.173156711234611,
          5.1554865063882085,
          5.137876027303673,
          5.12032502001344,
          5.102833202741019,
          5.085400408822875,
          5.068026517628254,
          5.050711363293511,
          5.033454745871578,
          5.016256431631172,
          4.999116153354989,
          4.982033671234987,
          4.96500887577464,
          4.9480416181214855,
          4.931131716031511,
          4.914278954856727,
          4.89748308783017,
          4.8807438465124875,
          4.8640610785745855,
          4.847434658521535,
          4.830864420739811,
          4.8143501685358014,
          4.797891674409152,
          4.781488680324615,
          4.765141005836564,
          4.748848502425307,
          4.7326108657174855,
          4.716427757040693,
          4.70029880442719,
          4.684223603036257,
          4.668201703843984,
          4.652232622205453,
          4.636315917995872,
          4.620450865837994,
          4.604636420319002,
          4.588871225190882,
          4.573153622437326,
          4.557481331079061,
          4.5418517820902045,
          4.526261607669726,
          4.5107056796387415,
          4.495177158588748,
          4.4796675476709265,
          4.464166900865564,
          4.448662972962945,
          4.433137940564845,
          4.417573875267707,
          4.40195359104147,
          4.386260637851386,
          4.370479296643283,
          4.354596389078286,
          4.338611984223711,
          4.322534226050728,
          4.306374994050702,
          4.2901497562651745,
          4.273877432044707,
          4.2575802063740396,
          4.24127806827801,
          4.224985657199626,
          4.208715884558606,
          4.192479336123424,
          4.1762843453412115,
          4.160137066384094,
          4.144041551122041,
          4.128000834192712,
          4.112017324951934,
          4.096092578909364,
          4.080227732977892,
          4.064423519023848,
          4.048680277177261,
          4.032998098345933,
          4.017377107256549,
          4.001817251641213,
          3.9863184200544,
          3.9708804478200888,
          3.9555031186663023,
          3.940186184940423,
          3.924929489616327,
          3.9097327568543387,
          3.8945956901198517,
          3.8795180043255235,
          3.86449942565142,
          3.8495396913678133,
          3.8346385623650145,
          3.819795864028436,
          3.805011384293978,
          3.790284996153819,
          3.77561667584513,
          3.7610065013905998,
          3.7464546511540884,
          3.731961402419953,
          3.7175272194355977,
          3.7031528736418875,
          3.688839397595977,
          3.674588110489483,
          3.660400614173726,
          3.6462787892274395,
          3.632224678265157,
          3.618240222945088,
          3.6043271332368496,
          3.5904862330068035,
          3.576717437617284,
          3.563019766466786,
          3.549391360267437,
          3.53582981349621,
          3.522332266747592,
          3.508895937494527,
          3.4955183524606337,
          3.4821973433589726,
          3.468931042679901,
          3.455717877937098,
          3.4425565897431474,
          3.4294462435941244,
          3.4163860489043647,
          3.4033753306718793,
          3.3904135279228913,
          3.377500192171097,
          3.3646349827396924,
          3.3518175654956917,
          3.339047631951868,
          3.3263249102359964,
          3.313649143153091,
          3.301020087996601,
          3.2884375163613737,
          3.275901213374592,
          3.263410964792219,
          3.250966603094704,
          3.238567982387427,
          3.2262149616742577,
          3.2139074046998397,
          3.201645182915818,
          3.189428228242059,
          3.1772564848159246,
          3.16512997339796,
          3.1530488149296776,
          3.141013227533919,
          3.1290235305001337,
          3.117080343203305,
          3.105184301096704,
          3.0933364662104577,
          3.0815385068069494,
          3.0697926795574393,
          3.058101812097923,
          3.046469194568112,
          3.0348990516625154,
          3.023397943796333,
          3.0119723080119107,
          3.0006281479815744,
          2.989371044991422,
          2.9782061688753045,
          2.9671380482315186,
          2.956167164539975,
          2.9452903979358447,
          2.934503084804143,
          2.923799063743243,
          2.9131707157817788,
          2.90260981495801,
          2.8921096516567353,
          2.8816642125739484,
          2.8712684595936238,
          2.860918313326664,
          2.8506106283406325,
          2.8403429724125218,
          2.8301135688136343,
          2.8199210773835404,
          2.8097643952611087,
          2.7996426508058607,
          2.7895551976248747,
          2.7795015989938885,
          2.769481478538273,
          2.759494574403158,
          2.7495406686578994,
          2.739619553980956,
          2.7297310331234534,
          2.7198749183828377,
          2.710051033384372,
          2.7002592647156,
          2.6904995419139506,
          2.6807717832608247,
          2.671075895278152,
          2.6614117724818325,
          2.6517793235117995,
          2.642178521975618,
          2.632609334483939,
          2.6230717436910904,
          2.6135657472295506,
          2.604091355248648,
          2.594648652503758,
          2.585237774657406,
          2.5758589316029883,
          2.5665124821328145,
          2.5571989197484775,
          2.547918858776731,
          2.5386730055666162,
          2.5294623660033837,
          2.520288481016738,
          2.511152853684136,
          2.502056898120263,
          2.4930019448269682,
          2.4839892460004607,
          2.475019865696544,
          2.4660939137047437,
          2.457210793235307,
          2.448369462791051,
          2.439568470325871,
          2.4308059891524034,
          2.4220801141877812,
          2.4133892808307924,
          2.4047320608915843,
          2.3961072534514742,
          2.3875138653370476,
          2.3789510917929513,
          2.370418301141331,
          2.361915050748842,
          2.3534409855971203,
          2.344995799937563,
          2.336579232367263,
          2.328191061002772,
          2.319831098177793,
          2.311499208142253,
          2.3031953094389235,
          2.2949193130986374,
          2.286671116683244,
          2.2784506038573147,
          2.2702576439703788,
          2.2620921160764245,
          2.253954059186132,
          2.245843505706248,
          2.2377604775368765,
          2.2297049972647915,
          2.2216770881344843,
          2.2136768228772925,
          2.205704404374605,
          2.197760077587583,
          2.189844257025318,
          2.181957532129469,
          2.174100666515944,
          2.166274755227065,
          2.158481288816452,
          2.1507220990542137,
          2.143000012267795,
          2.135318865911619,
          2.1276835037501933,
          2.1200997340392256,
          2.1125741792814052,
          2.1051174528933645,
          2.0977405390023214,
          2.0904535030826406,
          2.083265495184606,
          2.0761847531627806,
          2.069218446395204,
          2.06236797589948,
          2.055627867191779,
          2.0489903213008165,
          2.042445444752556,
          2.03598126286807,
          2.0295842021259145,
          2.023243074896452,
          2.0169483815400486,
          2.0106920217610473,
          2.0044674189736273,
          1.9982695117168399,
          1.9920946251270404,
          1.985939895584032,
          1.979803392919243,
          1.9736835755817133,
          1.9675792306742192,
          1.9614894721042613,
          1.9554137387315988,
          1.9493516916170583,
          1.9433030528134385,
          1.937267687463113,
          1.9312454798554126,
          1.925236331193618,
          1.9192401595785995,
          1.913256899991349,
          1.9072865219895736,
          1.901329091706718,
          1.8953846939229413,
          1.889453405261749,
          1.8835352943393617,
          1.8776304219919737,
          1.87173890901217,
          1.865860923921761,
          1.85999666285992,
          1.85414639031589,
          1.8483104382421849,
          1.8424892063445961,
          1.836683302732586,
          1.8308934376810246,
          1.825120587355199,
          1.8193661316520058,
          1.8136318491879577,
          1.8079199123494039,
          1.8022327979797415,
          1.7965735132713763,
          1.7909465269092486,
          1.7853558464309778,
          1.7798047838102904,
          1.774295963522653,
          1.7688313305064787,
          1.7634120605526917,
          1.7580369007491858,
          1.7527026172348295,
          1.7474056103111297,
          1.7421419697647464,
          1.736907478573239,
          1.731697803489927,
          1.7265096700013263,
          1.7213403959310076,
          1.7161877377622996,
          1.711049908443123,
          1.7059255722768456,
          1.7008137972721131,
          1.6957138630698572,
          1.6906252995958637,
          1.685547732218043,
          1.680480866044396,
          1.6754244850163529,
          1.6703784510110795,
          1.6653426837347194,
          1.6603171421626817,
          1.6553018193552484,
          1.650296706526398,
          1.6453017926663103,
          1.64031706453357,
          1.635342506647513,
          1.6303781349502995,
          1.625424043822146,
          1.6204803029066293,
          1.615546984565325,
          1.610624165159236,
          1.605711924966901,
          1.6008104006532562,
          1.5959197791292106,
          1.5910402920974134,
          1.5861722753036067,
          1.5813161673587626,
          1.5764725085560438,
          1.571642058124582,
          1.5668257895848208,
          1.5620249687177783,
          1.5572413377673093,
          1.5524771102925699,
          1.5477349658615427,
          1.5430180010499843,
          1.538329480325731,
          1.5336740474580821,
          1.5290556631697816,
          1.5244770811612172,
          1.5199398610603863,
          1.5154443811703557,
          1.5109898492640186,
          1.50657380484545,
          1.5021920867213026,
          1.4978405148067695,
          1.4935150928757472,
          1.4892120067405088,
          1.4849276579153678,
          1.4806592557819651,
          1.476404730918779,
          1.4721623682531584,
          1.4679308098845987,
          1.4637090514503726,
          1.459496422551855,
          1.4552924059098402,
          1.451096669091073,
          1.4469089618392217,
          1.4427290861608737,
          1.4385568957836374,
          1.434392295619569,
          1.4302352370629319,
          1.4260857003825118,
          1.42194369027166,
          1.4178092159004536,
          1.4136822893979877,
          1.4095629257341153,
          1.405451142602904,
          1.401346969763188,
          1.397250504075367,
          1.3931618396243708,
          1.3890810829701934,
          1.3850083593946356,
          1.3809438125014568,
          1.376887642900105,
          1.3728401530670553,
          1.368801711370699,
          1.364772875256786,
          1.3607543928345949,
          1.3567471998882141,
          1.352752502175342,
          1.3487720079944345,
          1.3448079161452704,
          1.3408630638631047,
          1.3369409226688143,
          1.3330455888648158,
          1.3291817659077496,
          1.3253542554291384,
          1.3215684418948501,
          1.3178285050455343,
          1.3141366700711623,
          1.3104932348838483,
          1.3068965965555093,
          1.3033434314918229,
          1.2998283384853104,
          1.2963454826918486,
          1.292889350654158,
          1.2894547452672318,
          1.286036781030688,
          1.2826310774174479,
          1.279234592701684,
          1.2758448760072867,
          1.2724597613649598,
          1.2690773656577774,
          1.2656960844528111,
          1.262314593996279,
          1.2589319022528076,
          1.2555471460836871,
          1.2521594291645883,
          1.2487678177146126,
          1.245371340377371,
          1.2419690987493919,
          1.2385604007362683,
          1.2351445185993155,
          1.231720670890905,
          1.228288022701365,
          1.2248456650010646,
          1.2213928767776556,
          1.217929212301306,
          1.214452485695567,
          1.2109585085136332,
          1.2074438960138025,
          1.2039124096976979,
          1.2003676469187932,
          1.196810976783894,
          1.1932429424006767,
          1.1896642180052686,
          1.1860758479620284,
          1.1824792291538455,
          1.1788761843925533,
          1.17526898712331,
          1.171660702244144,
          1.168055573341124,
          1.1644589425299436,
          1.1608773508183334,
          1.1573185919785849,
          1.153791134464097,
          1.1503040894913665,
          1.1468669205959563,
          1.1434860418188697,
          1.1401646990261682,
          1.1369043629625963,
          1.13370481251635,
          1.1305628900829279,
          1.1274720121084225,
          1.1244239798390732,
          1.1214101867560407,
          1.1184228524854078,
          1.1154552196516894,
          1.1125015741042783,
          1.1095569331185233,
          1.1066176161468793,
          1.1036817407609445,
          1.1007488037461413,
          1.0978179300271327,
          1.0948884650385589,
          1.091960014310845,
          1.089032454644757,
          1.0861057730784525,
          1.083180989427643,
          1.0802604241008011,
          1.0773456887280004,
          1.0744351722663459,
          1.0715268236017814,
          1.068620214408333,
          1.0657154595403227,
          1.0628128097488774,
          1.059912510152713,
          1.0570146207079454,
          1.0541187867097532,
          1.051223090110228,
          1.0483262578404973,
          1.0454300633536198,
          1.0425374730325865,
          1.0396492333291343,
          1.0367658169508454,
          1.0338875736995783,
          1.0310149666897006,
          1.0281485907719803,
          1.0252892271953244,
          1.0224381237571405,
          1.0195966611526035,
          1.0167660988333131,
          1.0139479688456712,
          1.011144541525049,
          1.0083585190009152,
          1.005593011376249,
          1.0028513471899454,
          1.000136920298092,
          0.9974527048100883,
          0.99480105106311,
          0.9921833916202332,
          0.9895980696611534,
          0.9870418114906484,
          0.9845101180659188,
          0.9819964123962789,
          0.9794950721397296,
          0.9770044796755267,
          0.9745256609024774,
          0.9720573185280097,
          0.969597926108466,
          0.96714615302872,
          0.9647009755228856,
          0.962261627958751,
          0.9598275242217139,
          0.957398222660635,
          0.9549736028040552,
          0.9525536407617993,
          0.9501383336958235,
          0.9477275336360722,
          0.9453206645696886,
          0.9429173872211613,
          0.9405177456833516,
          0.9381221991074247,
          0.9357302690271448,
          0.9333391264370202,
          0.9309477838498117,
          0.9285575986127204,
          0.9261704053867231,
          0.9237867179355767,
          0.9214063568671468,
          0.9190288019455646,
          0.9166546263908125,
          0.9142843096620864,
          0.9119177329568459,
          0.9095540109903463,
          0.9071924450051952,
          0.9048336895106768,
          0.9024789312290786,
          0.9001287147742605,
          0.8977834910801257,
          0.8954435093579285,
          0.8931086533403729,
          0.89077844595717,
          0.8884538368478119,
          0.8861375976218767,
          0.8838322256456544,
          0.8815349448150473,
          0.8792430984089471,
          0.8769556519709029,
          0.8746722949139046,
          0.8723928789828586,
          0.8701175564791989,
          0.8678462280066801,
          0.865577858781781,
          0.8633096306028135,
          0.861039917187323,
          0.8587700534271004,
          0.8565034853038396,
          0.8542412995024155,
          0.8519837079128545,
          0.8497308007258638,
          0.847482492075278,
          0.8452387293135672,
          0.8429996716831487,
          0.8407658716691282,
          0.8385378647786709,
          0.8363157083859576,
          0.8340990371317651,
          0.831887592983602,
          0.8296811688475024,
          0.8274796697274365,
          0.8252831061392151,
          0.8230915959157019,
          0.8209058344508986,
          0.8187265423258631,
          0.8165543538633101,
          0.8143883754464833,
          0.8122273563324908,
          0.8100708379889947,
          0.8079186157705014,
          0.8057707383611936,
          0.8036273020038885,
          0.8014882468631283,
          0.7993535715789509,
          0.7972232931766379,
          0.7950974471427207,
          0.7929760758171657,
          0.7908592149072626,
          0.7887469259750932,
          0.7866392966195588,
          0.7845364408496055,
          0.7824387045639056,
          0.7803460764464711,
          0.7782580021900454,
          0.7761743410547994,
          0.7740953817183829,
          0.7720218420738219,
          0.7699547860108281,
          0.767894652110921,
          0.7658414793869271,
          0.763795277048028,
          0.7617560121364608,
          0.7597234595127803,
          0.7576968459635611,
          0.7556751423720098,
          0.7536571596021421,
          0.7516429158774939,
          0.7496329035367537,
          0.7476271982599784,
          0.7456256055074377,
          0.743627890070921,
          0.7416340274555243,
          0.739644143369564,
          0.73765858237125,
          0.735678086542797,
          0.7337031661824353,
          0.7317334426346823,
          0.729768318957586,
          0.7278074232144855,
          0.7258506609657134,
          0.72389797929475,
          0.7219493950644644,
          0.7200049074790357,
          0.7180644060566874,
          0.7161277172408148,
          0.7141946518212116,
          0.7122653842610799,
          0.7103401028647938,
          0.7084191912546896,
          0.7065033000020094,
          0.7045929690992749,
          0.7026875467470958,
          0.7007864373469228,
          0.6988894734465032,
          0.6969968150724382,
          0.6951085554157223,
          0.6932245855357695,
          0.6913447899384993,
          0.6894689556922994,
          0.687596583933045,
          0.6857272609577493,
          0.6838616478838728,
          0.6820003783855936,
          0.6801437516425557,
          0.6782918011480951,
          0.676444648738309,
          0.6746026236660924,
          0.6727660751978191,
          0.6709352703784979,
          0.6691104452822532,
          0.6672916897015422,
          0.6654789097358582,
          0.6636717017960589,
          0.6618689712338746,
          0.6600685987911376,
          0.6582692491874172,
          0.6564723416760712,
          0.6546789984586278,
          0.65288989302156,
          0.6511051948934892,
          0.6493248122460492,
          0.6475486265426635,
          0.6457765014256037,
          0.6440082812427583,
          0.6422438108467623,
          0.6404830783238716,
          0.6387260948667106,
          0.6369728569786371,
          0.6352232920123729,
          0.6334770860291536,
          0.6317342866781828,
          0.6299949269145975,
          0.628258949060818,
          0.6265261022006777,
          0.6247949536956061,
          0.623064925865376,
          0.6213364913731793,
          0.6196109424681521,
          0.6178892584974846,
          0.616171570494621,
          0.6144579818215309,
          0.6127483928059396,
          0.6110426652040252,
          0.6093403215847574,
          0.6076403531606609,
          0.6059425182435243,
          0.6042473924129854,
          0.6025557625690331,
          0.600867855146214,
          0.599183792405287,
          0.5975036203704722,
          0.5958271781279355,
          0.5941545834748428,
          0.5924873638123663,
          0.5908265833581627,
          0.5891726735987032,
          0.5875251420449262,
          0.5858822003332737,
          0.5842431657473894,
          0.5826076971366232
         ],
         "yaxis": "y"
        }
       ],
       "layout": {
        "legend": {
         "title": {
          "text": "variable"
         },
         "tracegroupgap": 0
        },
        "margin": {
         "t": 60
        },
        "template": {
         "data": {
          "bar": [
           {
            "error_x": {
             "color": "#2a3f5f"
            },
            "error_y": {
             "color": "#2a3f5f"
            },
            "marker": {
             "line": {
              "color": "#E5ECF6",
              "width": 0.5
             },
             "pattern": {
              "fillmode": "overlay",
              "size": 10,
              "solidity": 0.2
             }
            },
            "type": "bar"
           }
          ],
          "barpolar": [
           {
            "marker": {
             "line": {
              "color": "#E5ECF6",
              "width": 0.5
             },
             "pattern": {
              "fillmode": "overlay",
              "size": 10,
              "solidity": 0.2
             }
            },
            "type": "barpolar"
           }
          ],
          "carpet": [
           {
            "aaxis": {
             "endlinecolor": "#2a3f5f",
             "gridcolor": "white",
             "linecolor": "white",
             "minorgridcolor": "white",
             "startlinecolor": "#2a3f5f"
            },
            "baxis": {
             "endlinecolor": "#2a3f5f",
             "gridcolor": "white",
             "linecolor": "white",
             "minorgridcolor": "white",
             "startlinecolor": "#2a3f5f"
            },
            "type": "carpet"
           }
          ],
          "choropleth": [
           {
            "colorbar": {
             "outlinewidth": 0,
             "ticks": ""
            },
            "type": "choropleth"
           }
          ],
          "contour": [
           {
            "colorbar": {
             "outlinewidth": 0,
             "ticks": ""
            },
            "colorscale": [
             [
              0,
              "#0d0887"
             ],
             [
              0.1111111111111111,
              "#46039f"
             ],
             [
              0.2222222222222222,
              "#7201a8"
             ],
             [
              0.3333333333333333,
              "#9c179e"
             ],
             [
              0.4444444444444444,
              "#bd3786"
             ],
             [
              0.5555555555555556,
              "#d8576b"
             ],
             [
              0.6666666666666666,
              "#ed7953"
             ],
             [
              0.7777777777777778,
              "#fb9f3a"
             ],
             [
              0.8888888888888888,
              "#fdca26"
             ],
             [
              1,
              "#f0f921"
             ]
            ],
            "type": "contour"
           }
          ],
          "contourcarpet": [
           {
            "colorbar": {
             "outlinewidth": 0,
             "ticks": ""
            },
            "type": "contourcarpet"
           }
          ],
          "heatmap": [
           {
            "colorbar": {
             "outlinewidth": 0,
             "ticks": ""
            },
            "colorscale": [
             [
              0,
              "#0d0887"
             ],
             [
              0.1111111111111111,
              "#46039f"
             ],
             [
              0.2222222222222222,
              "#7201a8"
             ],
             [
              0.3333333333333333,
              "#9c179e"
             ],
             [
              0.4444444444444444,
              "#bd3786"
             ],
             [
              0.5555555555555556,
              "#d8576b"
             ],
             [
              0.6666666666666666,
              "#ed7953"
             ],
             [
              0.7777777777777778,
              "#fb9f3a"
             ],
             [
              0.8888888888888888,
              "#fdca26"
             ],
             [
              1,
              "#f0f921"
             ]
            ],
            "type": "heatmap"
           }
          ],
          "heatmapgl": [
           {
            "colorbar": {
             "outlinewidth": 0,
             "ticks": ""
            },
            "colorscale": [
             [
              0,
              "#0d0887"
             ],
             [
              0.1111111111111111,
              "#46039f"
             ],
             [
              0.2222222222222222,
              "#7201a8"
             ],
             [
              0.3333333333333333,
              "#9c179e"
             ],
             [
              0.4444444444444444,
              "#bd3786"
             ],
             [
              0.5555555555555556,
              "#d8576b"
             ],
             [
              0.6666666666666666,
              "#ed7953"
             ],
             [
              0.7777777777777778,
              "#fb9f3a"
             ],
             [
              0.8888888888888888,
              "#fdca26"
             ],
             [
              1,
              "#f0f921"
             ]
            ],
            "type": "heatmapgl"
           }
          ],
          "histogram": [
           {
            "marker": {
             "pattern": {
              "fillmode": "overlay",
              "size": 10,
              "solidity": 0.2
             }
            },
            "type": "histogram"
           }
          ],
          "histogram2d": [
           {
            "colorbar": {
             "outlinewidth": 0,
             "ticks": ""
            },
            "colorscale": [
             [
              0,
              "#0d0887"
             ],
             [
              0.1111111111111111,
              "#46039f"
             ],
             [
              0.2222222222222222,
              "#7201a8"
             ],
             [
              0.3333333333333333,
              "#9c179e"
             ],
             [
              0.4444444444444444,
              "#bd3786"
             ],
             [
              0.5555555555555556,
              "#d8576b"
             ],
             [
              0.6666666666666666,
              "#ed7953"
             ],
             [
              0.7777777777777778,
              "#fb9f3a"
             ],
             [
              0.8888888888888888,
              "#fdca26"
             ],
             [
              1,
              "#f0f921"
             ]
            ],
            "type": "histogram2d"
           }
          ],
          "histogram2dcontour": [
           {
            "colorbar": {
             "outlinewidth": 0,
             "ticks": ""
            },
            "colorscale": [
             [
              0,
              "#0d0887"
             ],
             [
              0.1111111111111111,
              "#46039f"
             ],
             [
              0.2222222222222222,
              "#7201a8"
             ],
             [
              0.3333333333333333,
              "#9c179e"
             ],
             [
              0.4444444444444444,
              "#bd3786"
             ],
             [
              0.5555555555555556,
              "#d8576b"
             ],
             [
              0.6666666666666666,
              "#ed7953"
             ],
             [
              0.7777777777777778,
              "#fb9f3a"
             ],
             [
              0.8888888888888888,
              "#fdca26"
             ],
             [
              1,
              "#f0f921"
             ]
            ],
            "type": "histogram2dcontour"
           }
          ],
          "mesh3d": [
           {
            "colorbar": {
             "outlinewidth": 0,
             "ticks": ""
            },
            "type": "mesh3d"
           }
          ],
          "parcoords": [
           {
            "line": {
             "colorbar": {
              "outlinewidth": 0,
              "ticks": ""
             }
            },
            "type": "parcoords"
           }
          ],
          "pie": [
           {
            "automargin": true,
            "type": "pie"
           }
          ],
          "scatter": [
           {
            "fillpattern": {
             "fillmode": "overlay",
             "size": 10,
             "solidity": 0.2
            },
            "type": "scatter"
           }
          ],
          "scatter3d": [
           {
            "line": {
             "colorbar": {
              "outlinewidth": 0,
              "ticks": ""
             }
            },
            "marker": {
             "colorbar": {
              "outlinewidth": 0,
              "ticks": ""
             }
            },
            "type": "scatter3d"
           }
          ],
          "scattercarpet": [
           {
            "marker": {
             "colorbar": {
              "outlinewidth": 0,
              "ticks": ""
             }
            },
            "type": "scattercarpet"
           }
          ],
          "scattergeo": [
           {
            "marker": {
             "colorbar": {
              "outlinewidth": 0,
              "ticks": ""
             }
            },
            "type": "scattergeo"
           }
          ],
          "scattergl": [
           {
            "marker": {
             "colorbar": {
              "outlinewidth": 0,
              "ticks": ""
             }
            },
            "type": "scattergl"
           }
          ],
          "scattermapbox": [
           {
            "marker": {
             "colorbar": {
              "outlinewidth": 0,
              "ticks": ""
             }
            },
            "type": "scattermapbox"
           }
          ],
          "scatterpolar": [
           {
            "marker": {
             "colorbar": {
              "outlinewidth": 0,
              "ticks": ""
             }
            },
            "type": "scatterpolar"
           }
          ],
          "scatterpolargl": [
           {
            "marker": {
             "colorbar": {
              "outlinewidth": 0,
              "ticks": ""
             }
            },
            "type": "scatterpolargl"
           }
          ],
          "scatterternary": [
           {
            "marker": {
             "colorbar": {
              "outlinewidth": 0,
              "ticks": ""
             }
            },
            "type": "scatterternary"
           }
          ],
          "surface": [
           {
            "colorbar": {
             "outlinewidth": 0,
             "ticks": ""
            },
            "colorscale": [
             [
              0,
              "#0d0887"
             ],
             [
              0.1111111111111111,
              "#46039f"
             ],
             [
              0.2222222222222222,
              "#7201a8"
             ],
             [
              0.3333333333333333,
              "#9c179e"
             ],
             [
              0.4444444444444444,
              "#bd3786"
             ],
             [
              0.5555555555555556,
              "#d8576b"
             ],
             [
              0.6666666666666666,
              "#ed7953"
             ],
             [
              0.7777777777777778,
              "#fb9f3a"
             ],
             [
              0.8888888888888888,
              "#fdca26"
             ],
             [
              1,
              "#f0f921"
             ]
            ],
            "type": "surface"
           }
          ],
          "table": [
           {
            "cells": {
             "fill": {
              "color": "#EBF0F8"
             },
             "line": {
              "color": "white"
             }
            },
            "header": {
             "fill": {
              "color": "#C8D4E3"
             },
             "line": {
              "color": "white"
             }
            },
            "type": "table"
           }
          ]
         },
         "layout": {
          "annotationdefaults": {
           "arrowcolor": "#2a3f5f",
           "arrowhead": 0,
           "arrowwidth": 1
          },
          "autotypenumbers": "strict",
          "coloraxis": {
           "colorbar": {
            "outlinewidth": 0,
            "ticks": ""
           }
          },
          "colorscale": {
           "diverging": [
            [
             0,
             "#8e0152"
            ],
            [
             0.1,
             "#c51b7d"
            ],
            [
             0.2,
             "#de77ae"
            ],
            [
             0.3,
             "#f1b6da"
            ],
            [
             0.4,
             "#fde0ef"
            ],
            [
             0.5,
             "#f7f7f7"
            ],
            [
             0.6,
             "#e6f5d0"
            ],
            [
             0.7,
             "#b8e186"
            ],
            [
             0.8,
             "#7fbc41"
            ],
            [
             0.9,
             "#4d9221"
            ],
            [
             1,
             "#276419"
            ]
           ],
           "sequential": [
            [
             0,
             "#0d0887"
            ],
            [
             0.1111111111111111,
             "#46039f"
            ],
            [
             0.2222222222222222,
             "#7201a8"
            ],
            [
             0.3333333333333333,
             "#9c179e"
            ],
            [
             0.4444444444444444,
             "#bd3786"
            ],
            [
             0.5555555555555556,
             "#d8576b"
            ],
            [
             0.6666666666666666,
             "#ed7953"
            ],
            [
             0.7777777777777778,
             "#fb9f3a"
            ],
            [
             0.8888888888888888,
             "#fdca26"
            ],
            [
             1,
             "#f0f921"
            ]
           ],
           "sequentialminus": [
            [
             0,
             "#0d0887"
            ],
            [
             0.1111111111111111,
             "#46039f"
            ],
            [
             0.2222222222222222,
             "#7201a8"
            ],
            [
             0.3333333333333333,
             "#9c179e"
            ],
            [
             0.4444444444444444,
             "#bd3786"
            ],
            [
             0.5555555555555556,
             "#d8576b"
            ],
            [
             0.6666666666666666,
             "#ed7953"
            ],
            [
             0.7777777777777778,
             "#fb9f3a"
            ],
            [
             0.8888888888888888,
             "#fdca26"
            ],
            [
             1,
             "#f0f921"
            ]
           ]
          },
          "colorway": [
           "#636efa",
           "#EF553B",
           "#00cc96",
           "#ab63fa",
           "#FFA15A",
           "#19d3f3",
           "#FF6692",
           "#B6E880",
           "#FF97FF",
           "#FECB52"
          ],
          "font": {
           "color": "#2a3f5f"
          },
          "geo": {
           "bgcolor": "white",
           "lakecolor": "white",
           "landcolor": "#E5ECF6",
           "showlakes": true,
           "showland": true,
           "subunitcolor": "white"
          },
          "hoverlabel": {
           "align": "left"
          },
          "hovermode": "closest",
          "mapbox": {
           "style": "light"
          },
          "paper_bgcolor": "white",
          "plot_bgcolor": "#E5ECF6",
          "polar": {
           "angularaxis": {
            "gridcolor": "white",
            "linecolor": "white",
            "ticks": ""
           },
           "bgcolor": "#E5ECF6",
           "radialaxis": {
            "gridcolor": "white",
            "linecolor": "white",
            "ticks": ""
           }
          },
          "scene": {
           "xaxis": {
            "backgroundcolor": "#E5ECF6",
            "gridcolor": "white",
            "gridwidth": 2,
            "linecolor": "white",
            "showbackground": true,
            "ticks": "",
            "zerolinecolor": "white"
           },
           "yaxis": {
            "backgroundcolor": "#E5ECF6",
            "gridcolor": "white",
            "gridwidth": 2,
            "linecolor": "white",
            "showbackground": true,
            "ticks": "",
            "zerolinecolor": "white"
           },
           "zaxis": {
            "backgroundcolor": "#E5ECF6",
            "gridcolor": "white",
            "gridwidth": 2,
            "linecolor": "white",
            "showbackground": true,
            "ticks": "",
            "zerolinecolor": "white"
           }
          },
          "shapedefaults": {
           "line": {
            "color": "#2a3f5f"
           }
          },
          "ternary": {
           "aaxis": {
            "gridcolor": "white",
            "linecolor": "white",
            "ticks": ""
           },
           "baxis": {
            "gridcolor": "white",
            "linecolor": "white",
            "ticks": ""
           },
           "bgcolor": "#E5ECF6",
           "caxis": {
            "gridcolor": "white",
            "linecolor": "white",
            "ticks": ""
           }
          },
          "title": {
           "x": 0.05
          },
          "xaxis": {
           "automargin": true,
           "gridcolor": "white",
           "linecolor": "white",
           "ticks": "",
           "title": {
            "standoff": 15
           },
           "zerolinecolor": "white",
           "zerolinewidth": 2
          },
          "yaxis": {
           "automargin": true,
           "gridcolor": "white",
           "linecolor": "white",
           "ticks": "",
           "title": {
            "standoff": 15
           },
           "zerolinecolor": "white",
           "zerolinewidth": 2
          }
         }
        },
        "xaxis": {
         "anchor": "y",
         "domain": [
          0,
          1
         ],
         "title": {
          "text": "index"
         }
        },
        "yaxis": {
         "anchor": "x",
         "domain": [
          0,
          1
         ],
         "title": {
          "text": "value"
         }
        }
       }
      }
     },
     "metadata": {},
     "output_type": "display_data"
    }
   ],
   "source": [
    "derived_df_0.percentage_latent.plot()"
   ]
  }
 ],
 "metadata": {
  "kernelspec": {
   "display_name": "autumn",
   "language": "python",
   "name": "python3"
  },
  "language_info": {
   "codemirror_mode": {
    "name": "ipython",
    "version": 3
   },
   "file_extension": ".py",
   "mimetype": "text/x-python",
   "name": "python",
   "nbconvert_exporter": "python",
   "pygments_lexer": "ipython3",
   "version": "3.10.0"
  },
  "orig_nbformat": 4,
  "vscode": {
   "interpreter": {
    "hash": "cdc1db7c93b6868ea0fedcce5cd81a1f74606c1851ad278abbacefb9281e55af"
   }
  }
 },
 "nbformat": 4,
 "nbformat_minor": 2
}
