{
 "cells": [
  {
   "cell_type": "code",
   "execution_count": 18,
   "metadata": {},
   "outputs": [],
   "source": [
    "import warnings\n",
    "from typing import List\n",
    "\n",
    "import pandas as pd\n",
    "import plotly.graph_objects as go\n",
    "import plotly.express as px\n",
    "from plotly.subplots import make_subplots\n",
    "from autumn.core.inputs.database import get_input_db\n",
    "from autumn.core.project import get_project\n",
    "from autumn.settings import Region, Models\n",
    "from autumn.core import inputs\n",
    "from autumn.core.inputs.social_mixing.build_synthetic_matrices import build_synthetic_matrices\n",
    "from autumn.core.utils.display import pretty_print\n",
    "from autumn.core.inputs.tb_camau import queries\n",
    "import pathlib"
   ]
  },
  {
   "cell_type": "code",
   "execution_count": 2,
   "metadata": {},
   "outputs": [],
   "source": [
    "warnings.filterwarnings(\"ignore\")\n",
    "pd.options.plotting.backend = \"plotly\""
   ]
  },
  {
   "cell_type": "code",
   "execution_count": 19,
   "metadata": {},
   "outputs": [],
   "source": [
    "csv_path = pathlib.Path(\"camau.csv\")"
   ]
  },
  {
   "cell_type": "code",
   "execution_count": 3,
   "metadata": {},
   "outputs": [],
   "source": [
    "region = Region.CAMAU\n",
    "model = Models.TBD2\n",
    "p = get_project(model, region, reload=True)\n",
    "baseline_params = p.param_set.baselinegit"
   ]
  },
  {
   "cell_type": "code",
   "execution_count": 5,
   "metadata": {},
   "outputs": [
    {
     "data": {
      "text/plain": [
       "Params{'description': 'BASELINE', 'country': {'iso3': 'VNM', 'country_name': 'Vietnam'}, 'age_breakpoints': [0, 5, 15, 35, 50], 'start_population_size': 26000.0, 'crude_death_rate': 0.0008, 'age_infectiousness_switch': 15.0, 'age_mixing': {'source_iso3': 'VNM', 'age_adjust': True}, 'stratify_by': ['age'], 'time': {'start': 1800, 'end': 2020, 'step': 0.1}, 'cumulative_start_time': 1990.0, 'contact_rate': 0.00178, 'age_stratification': {'early_activation': {0: 0.0066, 5: 0.0027, 15: 0.00027}, 'stabilisation': {0: 0.012, 5: 0.012, 15: 0.0054}, 'late_activation': {0: 1.9e-11, 5: 6.4e-06, 15: 3.3e-06}}, 'rr_infection_latent': 0.21, 'rr_infection_recovered': 1.0, 'progression_multiplier': 1.0, 'self_recovery_rate': 0.2, 'infect_death_rate': 0.2, 'calculated_outputs': ['prevalence_infectious'], 'outputs_stratification': {}, 'cumulative_output_start_time': 2020.0, 'crude_birth_rate': 0.2, 'infectious_seed': 1.0}"
      ]
     },
     "execution_count": 5,
     "metadata": {},
     "output_type": "execute_result"
    }
   ],
   "source": [
    "baseline_params"
   ]
  },
  {
   "cell_type": "code",
   "execution_count": 6,
   "metadata": {},
   "outputs": [],
   "source": [
    "iso3 = baseline_params['country']['iso3']\n",
    "source_iso3 = baseline_params['age_mixing']['source_iso3']\n",
    "age_adjust = baseline_params['age_mixing']['age_adjust']\n",
    "age_string_map = {\n",
    "    0: \"0-4\",\n",
    "    5: \"5-14\",\n",
    "    15: \"15-34\",\n",
    "    35: \"35-49\",\n",
    "    50: \"50+\",\n",
    "}"
   ]
  },
  {
   "cell_type": "markdown",
   "metadata": {},
   "source": [
    "## Population"
   ]
  },
  {
   "cell_type": "code",
   "execution_count": 7,
   "metadata": {},
   "outputs": [
    {
     "name": "stdout",
     "output_type": "stream",
     "text": [
      "Modelled age groups are [0, 5, 15, 35, 50]\n"
     ]
    }
   ],
   "source": [
    "modelled_age_groups = baseline_params[\"age_breakpoints\"]\n",
    "print(f\"Modelled age groups are {modelled_age_groups}\")"
   ]
  },
  {
   "cell_type": "code",
   "execution_count": 20,
   "metadata": {},
   "outputs": [
    {
     "data": {
      "application/vnd.plotly.v1+json": {
       "config": {
        "plotlyServerURL": "https://plot.ly"
       },
       "data": [
        {
         "hovertemplate": "variable=population<br>year=%{x}<br>value=%{y}<extra></extra>",
         "legendgroup": "population",
         "line": {
          "color": "#636efa",
          "dash": "solid"
         },
         "marker": {
          "symbol": "circle"
         },
         "mode": "lines",
         "name": "population",
         "orientation": "v",
         "showlegend": true,
         "type": "scatter",
         "x": [
          1995,
          1996,
          1997,
          1998,
          1999,
          2000,
          2001,
          2002,
          2003,
          2004,
          2005,
          2006,
          2007,
          2008,
          2009,
          2010,
          2011,
          2012,
          2013,
          2014,
          2015,
          2016,
          2017,
          2018,
          2019
         ],
         "xaxis": "x",
         "y": [
          1041800,
          1061600,
          1081100,
          1101800,
          1123500,
          1133900,
          1145200,
          1155300,
          1164500,
          1174400,
          1182900,
          1188700,
          1195200,
          1201700,
          1207100,
          1205840,
          1204500,
          1203460,
          1202070,
          1200740,
          1199500,
          1198100,
          1197000,
          1195600,
          1194300
         ],
         "yaxis": "y"
        }
       ],
       "layout": {
        "legend": {
         "title": {
          "text": "variable"
         },
         "tracegroupgap": 0
        },
        "margin": {
         "t": 60
        },
        "template": {
         "data": {
          "bar": [
           {
            "error_x": {
             "color": "#2a3f5f"
            },
            "error_y": {
             "color": "#2a3f5f"
            },
            "marker": {
             "line": {
              "color": "#E5ECF6",
              "width": 0.5
             },
             "pattern": {
              "fillmode": "overlay",
              "size": 10,
              "solidity": 0.2
             }
            },
            "type": "bar"
           }
          ],
          "barpolar": [
           {
            "marker": {
             "line": {
              "color": "#E5ECF6",
              "width": 0.5
             },
             "pattern": {
              "fillmode": "overlay",
              "size": 10,
              "solidity": 0.2
             }
            },
            "type": "barpolar"
           }
          ],
          "carpet": [
           {
            "aaxis": {
             "endlinecolor": "#2a3f5f",
             "gridcolor": "white",
             "linecolor": "white",
             "minorgridcolor": "white",
             "startlinecolor": "#2a3f5f"
            },
            "baxis": {
             "endlinecolor": "#2a3f5f",
             "gridcolor": "white",
             "linecolor": "white",
             "minorgridcolor": "white",
             "startlinecolor": "#2a3f5f"
            },
            "type": "carpet"
           }
          ],
          "choropleth": [
           {
            "colorbar": {
             "outlinewidth": 0,
             "ticks": ""
            },
            "type": "choropleth"
           }
          ],
          "contour": [
           {
            "colorbar": {
             "outlinewidth": 0,
             "ticks": ""
            },
            "colorscale": [
             [
              0,
              "#0d0887"
             ],
             [
              0.1111111111111111,
              "#46039f"
             ],
             [
              0.2222222222222222,
              "#7201a8"
             ],
             [
              0.3333333333333333,
              "#9c179e"
             ],
             [
              0.4444444444444444,
              "#bd3786"
             ],
             [
              0.5555555555555556,
              "#d8576b"
             ],
             [
              0.6666666666666666,
              "#ed7953"
             ],
             [
              0.7777777777777778,
              "#fb9f3a"
             ],
             [
              0.8888888888888888,
              "#fdca26"
             ],
             [
              1,
              "#f0f921"
             ]
            ],
            "type": "contour"
           }
          ],
          "contourcarpet": [
           {
            "colorbar": {
             "outlinewidth": 0,
             "ticks": ""
            },
            "type": "contourcarpet"
           }
          ],
          "heatmap": [
           {
            "colorbar": {
             "outlinewidth": 0,
             "ticks": ""
            },
            "colorscale": [
             [
              0,
              "#0d0887"
             ],
             [
              0.1111111111111111,
              "#46039f"
             ],
             [
              0.2222222222222222,
              "#7201a8"
             ],
             [
              0.3333333333333333,
              "#9c179e"
             ],
             [
              0.4444444444444444,
              "#bd3786"
             ],
             [
              0.5555555555555556,
              "#d8576b"
             ],
             [
              0.6666666666666666,
              "#ed7953"
             ],
             [
              0.7777777777777778,
              "#fb9f3a"
             ],
             [
              0.8888888888888888,
              "#fdca26"
             ],
             [
              1,
              "#f0f921"
             ]
            ],
            "type": "heatmap"
           }
          ],
          "heatmapgl": [
           {
            "colorbar": {
             "outlinewidth": 0,
             "ticks": ""
            },
            "colorscale": [
             [
              0,
              "#0d0887"
             ],
             [
              0.1111111111111111,
              "#46039f"
             ],
             [
              0.2222222222222222,
              "#7201a8"
             ],
             [
              0.3333333333333333,
              "#9c179e"
             ],
             [
              0.4444444444444444,
              "#bd3786"
             ],
             [
              0.5555555555555556,
              "#d8576b"
             ],
             [
              0.6666666666666666,
              "#ed7953"
             ],
             [
              0.7777777777777778,
              "#fb9f3a"
             ],
             [
              0.8888888888888888,
              "#fdca26"
             ],
             [
              1,
              "#f0f921"
             ]
            ],
            "type": "heatmapgl"
           }
          ],
          "histogram": [
           {
            "marker": {
             "pattern": {
              "fillmode": "overlay",
              "size": 10,
              "solidity": 0.2
             }
            },
            "type": "histogram"
           }
          ],
          "histogram2d": [
           {
            "colorbar": {
             "outlinewidth": 0,
             "ticks": ""
            },
            "colorscale": [
             [
              0,
              "#0d0887"
             ],
             [
              0.1111111111111111,
              "#46039f"
             ],
             [
              0.2222222222222222,
              "#7201a8"
             ],
             [
              0.3333333333333333,
              "#9c179e"
             ],
             [
              0.4444444444444444,
              "#bd3786"
             ],
             [
              0.5555555555555556,
              "#d8576b"
             ],
             [
              0.6666666666666666,
              "#ed7953"
             ],
             [
              0.7777777777777778,
              "#fb9f3a"
             ],
             [
              0.8888888888888888,
              "#fdca26"
             ],
             [
              1,
              "#f0f921"
             ]
            ],
            "type": "histogram2d"
           }
          ],
          "histogram2dcontour": [
           {
            "colorbar": {
             "outlinewidth": 0,
             "ticks": ""
            },
            "colorscale": [
             [
              0,
              "#0d0887"
             ],
             [
              0.1111111111111111,
              "#46039f"
             ],
             [
              0.2222222222222222,
              "#7201a8"
             ],
             [
              0.3333333333333333,
              "#9c179e"
             ],
             [
              0.4444444444444444,
              "#bd3786"
             ],
             [
              0.5555555555555556,
              "#d8576b"
             ],
             [
              0.6666666666666666,
              "#ed7953"
             ],
             [
              0.7777777777777778,
              "#fb9f3a"
             ],
             [
              0.8888888888888888,
              "#fdca26"
             ],
             [
              1,
              "#f0f921"
             ]
            ],
            "type": "histogram2dcontour"
           }
          ],
          "mesh3d": [
           {
            "colorbar": {
             "outlinewidth": 0,
             "ticks": ""
            },
            "type": "mesh3d"
           }
          ],
          "parcoords": [
           {
            "line": {
             "colorbar": {
              "outlinewidth": 0,
              "ticks": ""
             }
            },
            "type": "parcoords"
           }
          ],
          "pie": [
           {
            "automargin": true,
            "type": "pie"
           }
          ],
          "scatter": [
           {
            "fillpattern": {
             "fillmode": "overlay",
             "size": 10,
             "solidity": 0.2
            },
            "type": "scatter"
           }
          ],
          "scatter3d": [
           {
            "line": {
             "colorbar": {
              "outlinewidth": 0,
              "ticks": ""
             }
            },
            "marker": {
             "colorbar": {
              "outlinewidth": 0,
              "ticks": ""
             }
            },
            "type": "scatter3d"
           }
          ],
          "scattercarpet": [
           {
            "marker": {
             "colorbar": {
              "outlinewidth": 0,
              "ticks": ""
             }
            },
            "type": "scattercarpet"
           }
          ],
          "scattergeo": [
           {
            "marker": {
             "colorbar": {
              "outlinewidth": 0,
              "ticks": ""
             }
            },
            "type": "scattergeo"
           }
          ],
          "scattergl": [
           {
            "marker": {
             "colorbar": {
              "outlinewidth": 0,
              "ticks": ""
             }
            },
            "type": "scattergl"
           }
          ],
          "scattermapbox": [
           {
            "marker": {
             "colorbar": {
              "outlinewidth": 0,
              "ticks": ""
             }
            },
            "type": "scattermapbox"
           }
          ],
          "scatterpolar": [
           {
            "marker": {
             "colorbar": {
              "outlinewidth": 0,
              "ticks": ""
             }
            },
            "type": "scatterpolar"
           }
          ],
          "scatterpolargl": [
           {
            "marker": {
             "colorbar": {
              "outlinewidth": 0,
              "ticks": ""
             }
            },
            "type": "scatterpolargl"
           }
          ],
          "scatterternary": [
           {
            "marker": {
             "colorbar": {
              "outlinewidth": 0,
              "ticks": ""
             }
            },
            "type": "scatterternary"
           }
          ],
          "surface": [
           {
            "colorbar": {
             "outlinewidth": 0,
             "ticks": ""
            },
            "colorscale": [
             [
              0,
              "#0d0887"
             ],
             [
              0.1111111111111111,
              "#46039f"
             ],
             [
              0.2222222222222222,
              "#7201a8"
             ],
             [
              0.3333333333333333,
              "#9c179e"
             ],
             [
              0.4444444444444444,
              "#bd3786"
             ],
             [
              0.5555555555555556,
              "#d8576b"
             ],
             [
              0.6666666666666666,
              "#ed7953"
             ],
             [
              0.7777777777777778,
              "#fb9f3a"
             ],
             [
              0.8888888888888888,
              "#fdca26"
             ],
             [
              1,
              "#f0f921"
             ]
            ],
            "type": "surface"
           }
          ],
          "table": [
           {
            "cells": {
             "fill": {
              "color": "#EBF0F8"
             },
             "line": {
              "color": "white"
             }
            },
            "header": {
             "fill": {
              "color": "#C8D4E3"
             },
             "line": {
              "color": "white"
             }
            },
            "type": "table"
           }
          ]
         },
         "layout": {
          "annotationdefaults": {
           "arrowcolor": "#2a3f5f",
           "arrowhead": 0,
           "arrowwidth": 1
          },
          "autotypenumbers": "strict",
          "coloraxis": {
           "colorbar": {
            "outlinewidth": 0,
            "ticks": ""
           }
          },
          "colorscale": {
           "diverging": [
            [
             0,
             "#8e0152"
            ],
            [
             0.1,
             "#c51b7d"
            ],
            [
             0.2,
             "#de77ae"
            ],
            [
             0.3,
             "#f1b6da"
            ],
            [
             0.4,
             "#fde0ef"
            ],
            [
             0.5,
             "#f7f7f7"
            ],
            [
             0.6,
             "#e6f5d0"
            ],
            [
             0.7,
             "#b8e186"
            ],
            [
             0.8,
             "#7fbc41"
            ],
            [
             0.9,
             "#4d9221"
            ],
            [
             1,
             "#276419"
            ]
           ],
           "sequential": [
            [
             0,
             "#0d0887"
            ],
            [
             0.1111111111111111,
             "#46039f"
            ],
            [
             0.2222222222222222,
             "#7201a8"
            ],
            [
             0.3333333333333333,
             "#9c179e"
            ],
            [
             0.4444444444444444,
             "#bd3786"
            ],
            [
             0.5555555555555556,
             "#d8576b"
            ],
            [
             0.6666666666666666,
             "#ed7953"
            ],
            [
             0.7777777777777778,
             "#fb9f3a"
            ],
            [
             0.8888888888888888,
             "#fdca26"
            ],
            [
             1,
             "#f0f921"
            ]
           ],
           "sequentialminus": [
            [
             0,
             "#0d0887"
            ],
            [
             0.1111111111111111,
             "#46039f"
            ],
            [
             0.2222222222222222,
             "#7201a8"
            ],
            [
             0.3333333333333333,
             "#9c179e"
            ],
            [
             0.4444444444444444,
             "#bd3786"
            ],
            [
             0.5555555555555556,
             "#d8576b"
            ],
            [
             0.6666666666666666,
             "#ed7953"
            ],
            [
             0.7777777777777778,
             "#fb9f3a"
            ],
            [
             0.8888888888888888,
             "#fdca26"
            ],
            [
             1,
             "#f0f921"
            ]
           ]
          },
          "colorway": [
           "#636efa",
           "#EF553B",
           "#00cc96",
           "#ab63fa",
           "#FFA15A",
           "#19d3f3",
           "#FF6692",
           "#B6E880",
           "#FF97FF",
           "#FECB52"
          ],
          "font": {
           "color": "#2a3f5f"
          },
          "geo": {
           "bgcolor": "white",
           "lakecolor": "white",
           "landcolor": "#E5ECF6",
           "showlakes": true,
           "showland": true,
           "subunitcolor": "white"
          },
          "hoverlabel": {
           "align": "left"
          },
          "hovermode": "closest",
          "mapbox": {
           "style": "light"
          },
          "paper_bgcolor": "white",
          "plot_bgcolor": "#E5ECF6",
          "polar": {
           "angularaxis": {
            "gridcolor": "white",
            "linecolor": "white",
            "ticks": ""
           },
           "bgcolor": "#E5ECF6",
           "radialaxis": {
            "gridcolor": "white",
            "linecolor": "white",
            "ticks": ""
           }
          },
          "scene": {
           "xaxis": {
            "backgroundcolor": "#E5ECF6",
            "gridcolor": "white",
            "gridwidth": 2,
            "linecolor": "white",
            "showbackground": true,
            "ticks": "",
            "zerolinecolor": "white"
           },
           "yaxis": {
            "backgroundcolor": "#E5ECF6",
            "gridcolor": "white",
            "gridwidth": 2,
            "linecolor": "white",
            "showbackground": true,
            "ticks": "",
            "zerolinecolor": "white"
           },
           "zaxis": {
            "backgroundcolor": "#E5ECF6",
            "gridcolor": "white",
            "gridwidth": 2,
            "linecolor": "white",
            "showbackground": true,
            "ticks": "",
            "zerolinecolor": "white"
           }
          },
          "shapedefaults": {
           "line": {
            "color": "#2a3f5f"
           }
          },
          "ternary": {
           "aaxis": {
            "gridcolor": "white",
            "linecolor": "white",
            "ticks": ""
           },
           "baxis": {
            "gridcolor": "white",
            "linecolor": "white",
            "ticks": ""
           },
           "bgcolor": "#E5ECF6",
           "caxis": {
            "gridcolor": "white",
            "linecolor": "white",
            "ticks": ""
           }
          },
          "title": {
           "x": 0.05
          },
          "xaxis": {
           "automargin": true,
           "gridcolor": "white",
           "linecolor": "white",
           "ticks": "",
           "title": {
            "standoff": 15
           },
           "zerolinecolor": "white",
           "zerolinewidth": 2
          },
          "yaxis": {
           "automargin": true,
           "gridcolor": "white",
           "linecolor": "white",
           "ticks": "",
           "title": {
            "standoff": 15
           },
           "zerolinecolor": "white",
           "zerolinewidth": 2
          }
         }
        },
        "xaxis": {
         "anchor": "y",
         "domain": [
          0,
          1
         ],
         "title": {
          "text": "year"
         }
        },
        "yaxis": {
         "anchor": "x",
         "domain": [
          0,
          1
         ],
         "title": {
          "text": "value"
         }
        }
       }
      }
     },
     "metadata": {},
     "output_type": "display_data"
    }
   ],
   "source": [
    "pop_df = pd.read_csv(csv_path)\n",
    "pop_df = pop_df.set_index(['year'])\n",
    "pop_df['population'].plot()"
   ]
  },
  {
   "cell_type": "markdown",
   "metadata": {},
   "source": [
    "### Birth rate"
   ]
  },
  {
   "cell_type": "code",
   "execution_count": 9,
   "metadata": {},
   "outputs": [
    {
     "data": {
      "application/vnd.plotly.v1+json": {
       "config": {
        "plotlyServerURL": "https://plot.ly"
       },
       "data": [
        {
         "hovertemplate": "variable=0<br>mean_year=%{x}<br>value=%{y}<extra></extra>",
         "legendgroup": "0",
         "line": {
          "color": "#636efa",
          "dash": "solid"
         },
         "marker": {
          "symbol": "circle"
         },
         "mode": "markers+lines",
         "name": "0",
         "orientation": "v",
         "showlegend": true,
         "type": "scatter",
         "x": [
          1952.5,
          1957.5,
          1962.5,
          1967.5,
          1972.5,
          1977.5,
          1982.5,
          1987.5,
          1992.5,
          1997.5,
          2002.5,
          2007.5,
          2012.5,
          2017.5
         ],
         "xaxis": "x",
         "y": [
          0.039776000000000006,
          0.042731000000000005,
          0.040619999999999996,
          0.037357,
          0.035531,
          0.032790999999999994,
          0.031293,
          0.029655,
          0.026611,
          0.019188,
          0.016832999999999997,
          0.017184,
          0.017283,
          0.016945
         ],
         "yaxis": "y"
        }
       ],
       "layout": {
        "legend": {
         "title": {
          "text": "variable"
         },
         "tracegroupgap": 0
        },
        "margin": {
         "t": 60
        },
        "showlegend": false,
        "template": {
         "data": {
          "bar": [
           {
            "error_x": {
             "color": "#2a3f5f"
            },
            "error_y": {
             "color": "#2a3f5f"
            },
            "marker": {
             "line": {
              "color": "#E5ECF6",
              "width": 0.5
             },
             "pattern": {
              "fillmode": "overlay",
              "size": 10,
              "solidity": 0.2
             }
            },
            "type": "bar"
           }
          ],
          "barpolar": [
           {
            "marker": {
             "line": {
              "color": "#E5ECF6",
              "width": 0.5
             },
             "pattern": {
              "fillmode": "overlay",
              "size": 10,
              "solidity": 0.2
             }
            },
            "type": "barpolar"
           }
          ],
          "carpet": [
           {
            "aaxis": {
             "endlinecolor": "#2a3f5f",
             "gridcolor": "white",
             "linecolor": "white",
             "minorgridcolor": "white",
             "startlinecolor": "#2a3f5f"
            },
            "baxis": {
             "endlinecolor": "#2a3f5f",
             "gridcolor": "white",
             "linecolor": "white",
             "minorgridcolor": "white",
             "startlinecolor": "#2a3f5f"
            },
            "type": "carpet"
           }
          ],
          "choropleth": [
           {
            "colorbar": {
             "outlinewidth": 0,
             "ticks": ""
            },
            "type": "choropleth"
           }
          ],
          "contour": [
           {
            "colorbar": {
             "outlinewidth": 0,
             "ticks": ""
            },
            "colorscale": [
             [
              0,
              "#0d0887"
             ],
             [
              0.1111111111111111,
              "#46039f"
             ],
             [
              0.2222222222222222,
              "#7201a8"
             ],
             [
              0.3333333333333333,
              "#9c179e"
             ],
             [
              0.4444444444444444,
              "#bd3786"
             ],
             [
              0.5555555555555556,
              "#d8576b"
             ],
             [
              0.6666666666666666,
              "#ed7953"
             ],
             [
              0.7777777777777778,
              "#fb9f3a"
             ],
             [
              0.8888888888888888,
              "#fdca26"
             ],
             [
              1,
              "#f0f921"
             ]
            ],
            "type": "contour"
           }
          ],
          "contourcarpet": [
           {
            "colorbar": {
             "outlinewidth": 0,
             "ticks": ""
            },
            "type": "contourcarpet"
           }
          ],
          "heatmap": [
           {
            "colorbar": {
             "outlinewidth": 0,
             "ticks": ""
            },
            "colorscale": [
             [
              0,
              "#0d0887"
             ],
             [
              0.1111111111111111,
              "#46039f"
             ],
             [
              0.2222222222222222,
              "#7201a8"
             ],
             [
              0.3333333333333333,
              "#9c179e"
             ],
             [
              0.4444444444444444,
              "#bd3786"
             ],
             [
              0.5555555555555556,
              "#d8576b"
             ],
             [
              0.6666666666666666,
              "#ed7953"
             ],
             [
              0.7777777777777778,
              "#fb9f3a"
             ],
             [
              0.8888888888888888,
              "#fdca26"
             ],
             [
              1,
              "#f0f921"
             ]
            ],
            "type": "heatmap"
           }
          ],
          "heatmapgl": [
           {
            "colorbar": {
             "outlinewidth": 0,
             "ticks": ""
            },
            "colorscale": [
             [
              0,
              "#0d0887"
             ],
             [
              0.1111111111111111,
              "#46039f"
             ],
             [
              0.2222222222222222,
              "#7201a8"
             ],
             [
              0.3333333333333333,
              "#9c179e"
             ],
             [
              0.4444444444444444,
              "#bd3786"
             ],
             [
              0.5555555555555556,
              "#d8576b"
             ],
             [
              0.6666666666666666,
              "#ed7953"
             ],
             [
              0.7777777777777778,
              "#fb9f3a"
             ],
             [
              0.8888888888888888,
              "#fdca26"
             ],
             [
              1,
              "#f0f921"
             ]
            ],
            "type": "heatmapgl"
           }
          ],
          "histogram": [
           {
            "marker": {
             "pattern": {
              "fillmode": "overlay",
              "size": 10,
              "solidity": 0.2
             }
            },
            "type": "histogram"
           }
          ],
          "histogram2d": [
           {
            "colorbar": {
             "outlinewidth": 0,
             "ticks": ""
            },
            "colorscale": [
             [
              0,
              "#0d0887"
             ],
             [
              0.1111111111111111,
              "#46039f"
             ],
             [
              0.2222222222222222,
              "#7201a8"
             ],
             [
              0.3333333333333333,
              "#9c179e"
             ],
             [
              0.4444444444444444,
              "#bd3786"
             ],
             [
              0.5555555555555556,
              "#d8576b"
             ],
             [
              0.6666666666666666,
              "#ed7953"
             ],
             [
              0.7777777777777778,
              "#fb9f3a"
             ],
             [
              0.8888888888888888,
              "#fdca26"
             ],
             [
              1,
              "#f0f921"
             ]
            ],
            "type": "histogram2d"
           }
          ],
          "histogram2dcontour": [
           {
            "colorbar": {
             "outlinewidth": 0,
             "ticks": ""
            },
            "colorscale": [
             [
              0,
              "#0d0887"
             ],
             [
              0.1111111111111111,
              "#46039f"
             ],
             [
              0.2222222222222222,
              "#7201a8"
             ],
             [
              0.3333333333333333,
              "#9c179e"
             ],
             [
              0.4444444444444444,
              "#bd3786"
             ],
             [
              0.5555555555555556,
              "#d8576b"
             ],
             [
              0.6666666666666666,
              "#ed7953"
             ],
             [
              0.7777777777777778,
              "#fb9f3a"
             ],
             [
              0.8888888888888888,
              "#fdca26"
             ],
             [
              1,
              "#f0f921"
             ]
            ],
            "type": "histogram2dcontour"
           }
          ],
          "mesh3d": [
           {
            "colorbar": {
             "outlinewidth": 0,
             "ticks": ""
            },
            "type": "mesh3d"
           }
          ],
          "parcoords": [
           {
            "line": {
             "colorbar": {
              "outlinewidth": 0,
              "ticks": ""
             }
            },
            "type": "parcoords"
           }
          ],
          "pie": [
           {
            "automargin": true,
            "type": "pie"
           }
          ],
          "scatter": [
           {
            "fillpattern": {
             "fillmode": "overlay",
             "size": 10,
             "solidity": 0.2
            },
            "type": "scatter"
           }
          ],
          "scatter3d": [
           {
            "line": {
             "colorbar": {
              "outlinewidth": 0,
              "ticks": ""
             }
            },
            "marker": {
             "colorbar": {
              "outlinewidth": 0,
              "ticks": ""
             }
            },
            "type": "scatter3d"
           }
          ],
          "scattercarpet": [
           {
            "marker": {
             "colorbar": {
              "outlinewidth": 0,
              "ticks": ""
             }
            },
            "type": "scattercarpet"
           }
          ],
          "scattergeo": [
           {
            "marker": {
             "colorbar": {
              "outlinewidth": 0,
              "ticks": ""
             }
            },
            "type": "scattergeo"
           }
          ],
          "scattergl": [
           {
            "marker": {
             "colorbar": {
              "outlinewidth": 0,
              "ticks": ""
             }
            },
            "type": "scattergl"
           }
          ],
          "scattermapbox": [
           {
            "marker": {
             "colorbar": {
              "outlinewidth": 0,
              "ticks": ""
             }
            },
            "type": "scattermapbox"
           }
          ],
          "scatterpolar": [
           {
            "marker": {
             "colorbar": {
              "outlinewidth": 0,
              "ticks": ""
             }
            },
            "type": "scatterpolar"
           }
          ],
          "scatterpolargl": [
           {
            "marker": {
             "colorbar": {
              "outlinewidth": 0,
              "ticks": ""
             }
            },
            "type": "scatterpolargl"
           }
          ],
          "scatterternary": [
           {
            "marker": {
             "colorbar": {
              "outlinewidth": 0,
              "ticks": ""
             }
            },
            "type": "scatterternary"
           }
          ],
          "surface": [
           {
            "colorbar": {
             "outlinewidth": 0,
             "ticks": ""
            },
            "colorscale": [
             [
              0,
              "#0d0887"
             ],
             [
              0.1111111111111111,
              "#46039f"
             ],
             [
              0.2222222222222222,
              "#7201a8"
             ],
             [
              0.3333333333333333,
              "#9c179e"
             ],
             [
              0.4444444444444444,
              "#bd3786"
             ],
             [
              0.5555555555555556,
              "#d8576b"
             ],
             [
              0.6666666666666666,
              "#ed7953"
             ],
             [
              0.7777777777777778,
              "#fb9f3a"
             ],
             [
              0.8888888888888888,
              "#fdca26"
             ],
             [
              1,
              "#f0f921"
             ]
            ],
            "type": "surface"
           }
          ],
          "table": [
           {
            "cells": {
             "fill": {
              "color": "#EBF0F8"
             },
             "line": {
              "color": "white"
             }
            },
            "header": {
             "fill": {
              "color": "#C8D4E3"
             },
             "line": {
              "color": "white"
             }
            },
            "type": "table"
           }
          ]
         },
         "layout": {
          "annotationdefaults": {
           "arrowcolor": "#2a3f5f",
           "arrowhead": 0,
           "arrowwidth": 1
          },
          "autotypenumbers": "strict",
          "coloraxis": {
           "colorbar": {
            "outlinewidth": 0,
            "ticks": ""
           }
          },
          "colorscale": {
           "diverging": [
            [
             0,
             "#8e0152"
            ],
            [
             0.1,
             "#c51b7d"
            ],
            [
             0.2,
             "#de77ae"
            ],
            [
             0.3,
             "#f1b6da"
            ],
            [
             0.4,
             "#fde0ef"
            ],
            [
             0.5,
             "#f7f7f7"
            ],
            [
             0.6,
             "#e6f5d0"
            ],
            [
             0.7,
             "#b8e186"
            ],
            [
             0.8,
             "#7fbc41"
            ],
            [
             0.9,
             "#4d9221"
            ],
            [
             1,
             "#276419"
            ]
           ],
           "sequential": [
            [
             0,
             "#0d0887"
            ],
            [
             0.1111111111111111,
             "#46039f"
            ],
            [
             0.2222222222222222,
             "#7201a8"
            ],
            [
             0.3333333333333333,
             "#9c179e"
            ],
            [
             0.4444444444444444,
             "#bd3786"
            ],
            [
             0.5555555555555556,
             "#d8576b"
            ],
            [
             0.6666666666666666,
             "#ed7953"
            ],
            [
             0.7777777777777778,
             "#fb9f3a"
            ],
            [
             0.8888888888888888,
             "#fdca26"
            ],
            [
             1,
             "#f0f921"
            ]
           ],
           "sequentialminus": [
            [
             0,
             "#0d0887"
            ],
            [
             0.1111111111111111,
             "#46039f"
            ],
            [
             0.2222222222222222,
             "#7201a8"
            ],
            [
             0.3333333333333333,
             "#9c179e"
            ],
            [
             0.4444444444444444,
             "#bd3786"
            ],
            [
             0.5555555555555556,
             "#d8576b"
            ],
            [
             0.6666666666666666,
             "#ed7953"
            ],
            [
             0.7777777777777778,
             "#fb9f3a"
            ],
            [
             0.8888888888888888,
             "#fdca26"
            ],
            [
             1,
             "#f0f921"
            ]
           ]
          },
          "colorway": [
           "#636efa",
           "#EF553B",
           "#00cc96",
           "#ab63fa",
           "#FFA15A",
           "#19d3f3",
           "#FF6692",
           "#B6E880",
           "#FF97FF",
           "#FECB52"
          ],
          "font": {
           "color": "#2a3f5f"
          },
          "geo": {
           "bgcolor": "white",
           "lakecolor": "white",
           "landcolor": "#E5ECF6",
           "showlakes": true,
           "showland": true,
           "subunitcolor": "white"
          },
          "hoverlabel": {
           "align": "left"
          },
          "hovermode": "closest",
          "mapbox": {
           "style": "light"
          },
          "paper_bgcolor": "white",
          "plot_bgcolor": "#E5ECF6",
          "polar": {
           "angularaxis": {
            "gridcolor": "white",
            "linecolor": "white",
            "ticks": ""
           },
           "bgcolor": "#E5ECF6",
           "radialaxis": {
            "gridcolor": "white",
            "linecolor": "white",
            "ticks": ""
           }
          },
          "scene": {
           "xaxis": {
            "backgroundcolor": "#E5ECF6",
            "gridcolor": "white",
            "gridwidth": 2,
            "linecolor": "white",
            "showbackground": true,
            "ticks": "",
            "zerolinecolor": "white"
           },
           "yaxis": {
            "backgroundcolor": "#E5ECF6",
            "gridcolor": "white",
            "gridwidth": 2,
            "linecolor": "white",
            "showbackground": true,
            "ticks": "",
            "zerolinecolor": "white"
           },
           "zaxis": {
            "backgroundcolor": "#E5ECF6",
            "gridcolor": "white",
            "gridwidth": 2,
            "linecolor": "white",
            "showbackground": true,
            "ticks": "",
            "zerolinecolor": "white"
           }
          },
          "shapedefaults": {
           "line": {
            "color": "#2a3f5f"
           }
          },
          "ternary": {
           "aaxis": {
            "gridcolor": "white",
            "linecolor": "white",
            "ticks": ""
           },
           "baxis": {
            "gridcolor": "white",
            "linecolor": "white",
            "ticks": ""
           },
           "bgcolor": "#E5ECF6",
           "caxis": {
            "gridcolor": "white",
            "linecolor": "white",
            "ticks": ""
           }
          },
          "title": {
           "x": 0.05
          },
          "xaxis": {
           "automargin": true,
           "gridcolor": "white",
           "linecolor": "white",
           "ticks": "",
           "title": {
            "standoff": 15
           },
           "zerolinecolor": "white",
           "zerolinewidth": 2
          },
          "yaxis": {
           "automargin": true,
           "gridcolor": "white",
           "linecolor": "white",
           "ticks": "",
           "title": {
            "standoff": 15
           },
           "zerolinecolor": "white",
           "zerolinewidth": 2
          }
         }
        },
        "title": {
         "text": "Crude birth rate of Ca Mau",
         "x": 0.5
        },
        "xaxis": {
         "anchor": "y",
         "domain": [
          0,
          1
         ],
         "title": {
          "text": "Year"
         }
        },
        "yaxis": {
         "anchor": "x",
         "domain": [
          0,
          1
         ],
         "title": {
          "text": "Crude birth rate"
         }
        }
       }
      }
     },
     "metadata": {},
     "output_type": "display_data"
    }
   ],
   "source": [
    "birth_rates, years = inputs.get_crude_birth_rate(\"VNM\")\n",
    "birth_rates = [b / 1000.0 for b in birth_rates]  # Birth rates are provided / 1000 population\n",
    "birth_rates_series = pd.Series(birth_rates, index=years)\n",
    "br_fig= px.line(birth_rates_series)\n",
    "br_fig.update_traces(mode='markers+lines')\n",
    "br_fig.update_layout(\n",
    "    title=\"Crude birth rate of Ca Mau\",\n",
    "    title_x=0.5,\n",
    "    xaxis_title=\"Year\",\n",
    "    yaxis_title=\"Crude birth rate\",\n",
    "    showlegend=False,\n",
    ")"
   ]
  },
  {
   "cell_type": "markdown",
   "metadata": {},
   "source": [
    "### Death rate"
   ]
  },
  {
   "cell_type": "code",
   "execution_count": 10,
   "metadata": {},
   "outputs": [
    {
     "data": {
      "application/vnd.plotly.v1+json": {
       "config": {
        "plotlyServerURL": "https://plot.ly"
       },
       "data": [
        {
         "hovertemplate": "variable=0<br>index=%{x}<br>value=%{y}<extra></extra>",
         "legendgroup": "0",
         "line": {
          "color": "#636efa",
          "dash": "solid"
         },
         "marker": {
          "symbol": "circle"
         },
         "mode": "markers+lines",
         "name": "0",
         "orientation": "v",
         "showlegend": true,
         "type": "scatter",
         "x": [
          2005,
          2007,
          2008,
          2009,
          2010,
          2011,
          2012,
          2013,
          2014,
          2015,
          2016,
          2017,
          2018,
          2019,
          2020,
          2021
         ],
         "xaxis": "x",
         "y": [
          0.0048,
          0.0048,
          0.0044,
          0.0056,
          0.0056,
          0.0058,
          0.0053,
          0.006,
          0.0074,
          0.0054,
          0.0048,
          0.0066,
          0.005,
          0.0054,
          0.00521,
          0.00539
         ],
         "yaxis": "y"
        }
       ],
       "layout": {
        "legend": {
         "title": {
          "text": "variable"
         },
         "tracegroupgap": 0
        },
        "margin": {
         "t": 60
        },
        "showlegend": false,
        "template": {
         "data": {
          "bar": [
           {
            "error_x": {
             "color": "#2a3f5f"
            },
            "error_y": {
             "color": "#2a3f5f"
            },
            "marker": {
             "line": {
              "color": "#E5ECF6",
              "width": 0.5
             },
             "pattern": {
              "fillmode": "overlay",
              "size": 10,
              "solidity": 0.2
             }
            },
            "type": "bar"
           }
          ],
          "barpolar": [
           {
            "marker": {
             "line": {
              "color": "#E5ECF6",
              "width": 0.5
             },
             "pattern": {
              "fillmode": "overlay",
              "size": 10,
              "solidity": 0.2
             }
            },
            "type": "barpolar"
           }
          ],
          "carpet": [
           {
            "aaxis": {
             "endlinecolor": "#2a3f5f",
             "gridcolor": "white",
             "linecolor": "white",
             "minorgridcolor": "white",
             "startlinecolor": "#2a3f5f"
            },
            "baxis": {
             "endlinecolor": "#2a3f5f",
             "gridcolor": "white",
             "linecolor": "white",
             "minorgridcolor": "white",
             "startlinecolor": "#2a3f5f"
            },
            "type": "carpet"
           }
          ],
          "choropleth": [
           {
            "colorbar": {
             "outlinewidth": 0,
             "ticks": ""
            },
            "type": "choropleth"
           }
          ],
          "contour": [
           {
            "colorbar": {
             "outlinewidth": 0,
             "ticks": ""
            },
            "colorscale": [
             [
              0,
              "#0d0887"
             ],
             [
              0.1111111111111111,
              "#46039f"
             ],
             [
              0.2222222222222222,
              "#7201a8"
             ],
             [
              0.3333333333333333,
              "#9c179e"
             ],
             [
              0.4444444444444444,
              "#bd3786"
             ],
             [
              0.5555555555555556,
              "#d8576b"
             ],
             [
              0.6666666666666666,
              "#ed7953"
             ],
             [
              0.7777777777777778,
              "#fb9f3a"
             ],
             [
              0.8888888888888888,
              "#fdca26"
             ],
             [
              1,
              "#f0f921"
             ]
            ],
            "type": "contour"
           }
          ],
          "contourcarpet": [
           {
            "colorbar": {
             "outlinewidth": 0,
             "ticks": ""
            },
            "type": "contourcarpet"
           }
          ],
          "heatmap": [
           {
            "colorbar": {
             "outlinewidth": 0,
             "ticks": ""
            },
            "colorscale": [
             [
              0,
              "#0d0887"
             ],
             [
              0.1111111111111111,
              "#46039f"
             ],
             [
              0.2222222222222222,
              "#7201a8"
             ],
             [
              0.3333333333333333,
              "#9c179e"
             ],
             [
              0.4444444444444444,
              "#bd3786"
             ],
             [
              0.5555555555555556,
              "#d8576b"
             ],
             [
              0.6666666666666666,
              "#ed7953"
             ],
             [
              0.7777777777777778,
              "#fb9f3a"
             ],
             [
              0.8888888888888888,
              "#fdca26"
             ],
             [
              1,
              "#f0f921"
             ]
            ],
            "type": "heatmap"
           }
          ],
          "heatmapgl": [
           {
            "colorbar": {
             "outlinewidth": 0,
             "ticks": ""
            },
            "colorscale": [
             [
              0,
              "#0d0887"
             ],
             [
              0.1111111111111111,
              "#46039f"
             ],
             [
              0.2222222222222222,
              "#7201a8"
             ],
             [
              0.3333333333333333,
              "#9c179e"
             ],
             [
              0.4444444444444444,
              "#bd3786"
             ],
             [
              0.5555555555555556,
              "#d8576b"
             ],
             [
              0.6666666666666666,
              "#ed7953"
             ],
             [
              0.7777777777777778,
              "#fb9f3a"
             ],
             [
              0.8888888888888888,
              "#fdca26"
             ],
             [
              1,
              "#f0f921"
             ]
            ],
            "type": "heatmapgl"
           }
          ],
          "histogram": [
           {
            "marker": {
             "pattern": {
              "fillmode": "overlay",
              "size": 10,
              "solidity": 0.2
             }
            },
            "type": "histogram"
           }
          ],
          "histogram2d": [
           {
            "colorbar": {
             "outlinewidth": 0,
             "ticks": ""
            },
            "colorscale": [
             [
              0,
              "#0d0887"
             ],
             [
              0.1111111111111111,
              "#46039f"
             ],
             [
              0.2222222222222222,
              "#7201a8"
             ],
             [
              0.3333333333333333,
              "#9c179e"
             ],
             [
              0.4444444444444444,
              "#bd3786"
             ],
             [
              0.5555555555555556,
              "#d8576b"
             ],
             [
              0.6666666666666666,
              "#ed7953"
             ],
             [
              0.7777777777777778,
              "#fb9f3a"
             ],
             [
              0.8888888888888888,
              "#fdca26"
             ],
             [
              1,
              "#f0f921"
             ]
            ],
            "type": "histogram2d"
           }
          ],
          "histogram2dcontour": [
           {
            "colorbar": {
             "outlinewidth": 0,
             "ticks": ""
            },
            "colorscale": [
             [
              0,
              "#0d0887"
             ],
             [
              0.1111111111111111,
              "#46039f"
             ],
             [
              0.2222222222222222,
              "#7201a8"
             ],
             [
              0.3333333333333333,
              "#9c179e"
             ],
             [
              0.4444444444444444,
              "#bd3786"
             ],
             [
              0.5555555555555556,
              "#d8576b"
             ],
             [
              0.6666666666666666,
              "#ed7953"
             ],
             [
              0.7777777777777778,
              "#fb9f3a"
             ],
             [
              0.8888888888888888,
              "#fdca26"
             ],
             [
              1,
              "#f0f921"
             ]
            ],
            "type": "histogram2dcontour"
           }
          ],
          "mesh3d": [
           {
            "colorbar": {
             "outlinewidth": 0,
             "ticks": ""
            },
            "type": "mesh3d"
           }
          ],
          "parcoords": [
           {
            "line": {
             "colorbar": {
              "outlinewidth": 0,
              "ticks": ""
             }
            },
            "type": "parcoords"
           }
          ],
          "pie": [
           {
            "automargin": true,
            "type": "pie"
           }
          ],
          "scatter": [
           {
            "fillpattern": {
             "fillmode": "overlay",
             "size": 10,
             "solidity": 0.2
            },
            "type": "scatter"
           }
          ],
          "scatter3d": [
           {
            "line": {
             "colorbar": {
              "outlinewidth": 0,
              "ticks": ""
             }
            },
            "marker": {
             "colorbar": {
              "outlinewidth": 0,
              "ticks": ""
             }
            },
            "type": "scatter3d"
           }
          ],
          "scattercarpet": [
           {
            "marker": {
             "colorbar": {
              "outlinewidth": 0,
              "ticks": ""
             }
            },
            "type": "scattercarpet"
           }
          ],
          "scattergeo": [
           {
            "marker": {
             "colorbar": {
              "outlinewidth": 0,
              "ticks": ""
             }
            },
            "type": "scattergeo"
           }
          ],
          "scattergl": [
           {
            "marker": {
             "colorbar": {
              "outlinewidth": 0,
              "ticks": ""
             }
            },
            "type": "scattergl"
           }
          ],
          "scattermapbox": [
           {
            "marker": {
             "colorbar": {
              "outlinewidth": 0,
              "ticks": ""
             }
            },
            "type": "scattermapbox"
           }
          ],
          "scatterpolar": [
           {
            "marker": {
             "colorbar": {
              "outlinewidth": 0,
              "ticks": ""
             }
            },
            "type": "scatterpolar"
           }
          ],
          "scatterpolargl": [
           {
            "marker": {
             "colorbar": {
              "outlinewidth": 0,
              "ticks": ""
             }
            },
            "type": "scatterpolargl"
           }
          ],
          "scatterternary": [
           {
            "marker": {
             "colorbar": {
              "outlinewidth": 0,
              "ticks": ""
             }
            },
            "type": "scatterternary"
           }
          ],
          "surface": [
           {
            "colorbar": {
             "outlinewidth": 0,
             "ticks": ""
            },
            "colorscale": [
             [
              0,
              "#0d0887"
             ],
             [
              0.1111111111111111,
              "#46039f"
             ],
             [
              0.2222222222222222,
              "#7201a8"
             ],
             [
              0.3333333333333333,
              "#9c179e"
             ],
             [
              0.4444444444444444,
              "#bd3786"
             ],
             [
              0.5555555555555556,
              "#d8576b"
             ],
             [
              0.6666666666666666,
              "#ed7953"
             ],
             [
              0.7777777777777778,
              "#fb9f3a"
             ],
             [
              0.8888888888888888,
              "#fdca26"
             ],
             [
              1,
              "#f0f921"
             ]
            ],
            "type": "surface"
           }
          ],
          "table": [
           {
            "cells": {
             "fill": {
              "color": "#EBF0F8"
             },
             "line": {
              "color": "white"
             }
            },
            "header": {
             "fill": {
              "color": "#C8D4E3"
             },
             "line": {
              "color": "white"
             }
            },
            "type": "table"
           }
          ]
         },
         "layout": {
          "annotationdefaults": {
           "arrowcolor": "#2a3f5f",
           "arrowhead": 0,
           "arrowwidth": 1
          },
          "autotypenumbers": "strict",
          "coloraxis": {
           "colorbar": {
            "outlinewidth": 0,
            "ticks": ""
           }
          },
          "colorscale": {
           "diverging": [
            [
             0,
             "#8e0152"
            ],
            [
             0.1,
             "#c51b7d"
            ],
            [
             0.2,
             "#de77ae"
            ],
            [
             0.3,
             "#f1b6da"
            ],
            [
             0.4,
             "#fde0ef"
            ],
            [
             0.5,
             "#f7f7f7"
            ],
            [
             0.6,
             "#e6f5d0"
            ],
            [
             0.7,
             "#b8e186"
            ],
            [
             0.8,
             "#7fbc41"
            ],
            [
             0.9,
             "#4d9221"
            ],
            [
             1,
             "#276419"
            ]
           ],
           "sequential": [
            [
             0,
             "#0d0887"
            ],
            [
             0.1111111111111111,
             "#46039f"
            ],
            [
             0.2222222222222222,
             "#7201a8"
            ],
            [
             0.3333333333333333,
             "#9c179e"
            ],
            [
             0.4444444444444444,
             "#bd3786"
            ],
            [
             0.5555555555555556,
             "#d8576b"
            ],
            [
             0.6666666666666666,
             "#ed7953"
            ],
            [
             0.7777777777777778,
             "#fb9f3a"
            ],
            [
             0.8888888888888888,
             "#fdca26"
            ],
            [
             1,
             "#f0f921"
            ]
           ],
           "sequentialminus": [
            [
             0,
             "#0d0887"
            ],
            [
             0.1111111111111111,
             "#46039f"
            ],
            [
             0.2222222222222222,
             "#7201a8"
            ],
            [
             0.3333333333333333,
             "#9c179e"
            ],
            [
             0.4444444444444444,
             "#bd3786"
            ],
            [
             0.5555555555555556,
             "#d8576b"
            ],
            [
             0.6666666666666666,
             "#ed7953"
            ],
            [
             0.7777777777777778,
             "#fb9f3a"
            ],
            [
             0.8888888888888888,
             "#fdca26"
            ],
            [
             1,
             "#f0f921"
            ]
           ]
          },
          "colorway": [
           "#636efa",
           "#EF553B",
           "#00cc96",
           "#ab63fa",
           "#FFA15A",
           "#19d3f3",
           "#FF6692",
           "#B6E880",
           "#FF97FF",
           "#FECB52"
          ],
          "font": {
           "color": "#2a3f5f"
          },
          "geo": {
           "bgcolor": "white",
           "lakecolor": "white",
           "landcolor": "#E5ECF6",
           "showlakes": true,
           "showland": true,
           "subunitcolor": "white"
          },
          "hoverlabel": {
           "align": "left"
          },
          "hovermode": "closest",
          "mapbox": {
           "style": "light"
          },
          "paper_bgcolor": "white",
          "plot_bgcolor": "#E5ECF6",
          "polar": {
           "angularaxis": {
            "gridcolor": "white",
            "linecolor": "white",
            "ticks": ""
           },
           "bgcolor": "#E5ECF6",
           "radialaxis": {
            "gridcolor": "white",
            "linecolor": "white",
            "ticks": ""
           }
          },
          "scene": {
           "xaxis": {
            "backgroundcolor": "#E5ECF6",
            "gridcolor": "white",
            "gridwidth": 2,
            "linecolor": "white",
            "showbackground": true,
            "ticks": "",
            "zerolinecolor": "white"
           },
           "yaxis": {
            "backgroundcolor": "#E5ECF6",
            "gridcolor": "white",
            "gridwidth": 2,
            "linecolor": "white",
            "showbackground": true,
            "ticks": "",
            "zerolinecolor": "white"
           },
           "zaxis": {
            "backgroundcolor": "#E5ECF6",
            "gridcolor": "white",
            "gridwidth": 2,
            "linecolor": "white",
            "showbackground": true,
            "ticks": "",
            "zerolinecolor": "white"
           }
          },
          "shapedefaults": {
           "line": {
            "color": "#2a3f5f"
           }
          },
          "ternary": {
           "aaxis": {
            "gridcolor": "white",
            "linecolor": "white",
            "ticks": ""
           },
           "baxis": {
            "gridcolor": "white",
            "linecolor": "white",
            "ticks": ""
           },
           "bgcolor": "#E5ECF6",
           "caxis": {
            "gridcolor": "white",
            "linecolor": "white",
            "ticks": ""
           }
          },
          "title": {
           "x": 0.05
          },
          "xaxis": {
           "automargin": true,
           "gridcolor": "white",
           "linecolor": "white",
           "ticks": "",
           "title": {
            "standoff": 15
           },
           "zerolinecolor": "white",
           "zerolinewidth": 2
          },
          "yaxis": {
           "automargin": true,
           "gridcolor": "white",
           "linecolor": "white",
           "ticks": "",
           "title": {
            "standoff": 15
           },
           "zerolinecolor": "white",
           "zerolinewidth": 2
          }
         }
        },
        "title": {
         "text": "Crude death rate of Ca Mau",
         "x": 0.5
        },
        "xaxis": {
         "anchor": "y",
         "domain": [
          0,
          1
         ],
         "title": {
          "text": "Year"
         }
        },
        "yaxis": {
         "anchor": "x",
         "domain": [
          0,
          1
         ],
         "title": {
          "text": "Crude death rate"
         }
        }
       }
      }
     },
     "metadata": {},
     "output_type": "display_data"
    }
   ],
   "source": [
    "#Query and visualize the crude birth rate from database\n",
    "years, death_rates = queries.get_camau_death_rate()\n",
    "death_rates = [b / 1000.0 for b in death_rates]  # Birth rates are provided / 1000 population\n",
    "death_rates_series = pd.Series(death_rates, index=years)\n",
    "dr_fig= px.line(death_rates_series)\n",
    "dr_fig.update_traces(mode='markers+lines')\n",
    "dr_fig.update_layout(\n",
    "    title=\"Crude death rate of Ca Mau\",\n",
    "    title_x=0.5,\n",
    "    xaxis_title=\"Year\",\n",
    "    yaxis_title=\"Crude death rate\",\n",
    "    showlegend=False,\n",
    ")"
   ]
  },
  {
   "cell_type": "markdown",
   "metadata": {},
   "source": [
    "### Mixing matrix"
   ]
  },
  {
   "cell_type": "code",
   "execution_count": 11,
   "metadata": {},
   "outputs": [
    {
     "name": "stdout",
     "output_type": "stream",
     "text": [
      "Target region: CAMAU (VNM)\n",
      "Proxy country: VNM\n",
      "Always age-adjusted to target population\n"
     ]
    }
   ],
   "source": [
    "print(f\"Target region: {region.upper()} ({iso3})\")\n",
    "print(f\"Proxy country: {source_iso3}\")\n",
    "print(\"Always age-adjusted to target population\")"
   ]
  },
  {
   "cell_type": "code",
   "execution_count": 12,
   "metadata": {},
   "outputs": [
    {
     "name": "stdout",
     "output_type": "stream",
     "text": [
      "Total daily contacts for each age group is [ 5.64459085  6.61640819  7.65535217  9.06586113 10.04091602]\n"
     ]
    },
    {
     "data": {
      "application/vnd.plotly.v1+json": {
       "config": {
        "plotlyServerURL": "https://plot.ly"
       },
       "data": [
        {
         "coloraxis": "coloraxis",
         "hovertemplate": "x: %{x}<br>y: %{y}<br>color: %{z}<extra></extra>",
         "name": "0",
         "type": "heatmap",
         "xaxis": "x",
         "yaxis": "y",
         "z": [
          [
           1.0908468333205346,
           0.716822688708534,
           1.7623028059546926,
           1.0995780753229203,
           0.9750404499592717
          ],
          [
           0.45390612710913847,
           2.4137666338313095,
           1.4588357199365454,
           1.507894002395722,
           0.7820057090680609
          ],
          [
           0.6344996814991057,
           0.8525365784348492,
           2.506574499933637,
           1.8434143674731371,
           1.8183270426522034
          ],
          [
           0.3886229588784301,
           0.8511635972206743,
           2.1523192806625095,
           3.1055651046282433,
           2.568190184040729
          ],
          [
           0.18425886943154968,
           0.4667018881368389,
           1.772210178150134,
           2.7893487881510337,
           4.828396300478104
          ]
         ]
        }
       ],
       "layout": {
        "coloraxis": {
         "colorscale": [
          [
           0,
           "#0d0887"
          ],
          [
           0.1111111111111111,
           "#46039f"
          ],
          [
           0.2222222222222222,
           "#7201a8"
          ],
          [
           0.3333333333333333,
           "#9c179e"
          ],
          [
           0.4444444444444444,
           "#bd3786"
          ],
          [
           0.5555555555555556,
           "#d8576b"
          ],
          [
           0.6666666666666666,
           "#ed7953"
          ],
          [
           0.7777777777777778,
           "#fb9f3a"
          ],
          [
           0.8888888888888888,
           "#fdca26"
          ],
          [
           1,
           "#f0f921"
          ]
         ]
        },
        "margin": {
         "t": 60
        },
        "template": {
         "data": {
          "bar": [
           {
            "error_x": {
             "color": "#2a3f5f"
            },
            "error_y": {
             "color": "#2a3f5f"
            },
            "marker": {
             "line": {
              "color": "#E5ECF6",
              "width": 0.5
             },
             "pattern": {
              "fillmode": "overlay",
              "size": 10,
              "solidity": 0.2
             }
            },
            "type": "bar"
           }
          ],
          "barpolar": [
           {
            "marker": {
             "line": {
              "color": "#E5ECF6",
              "width": 0.5
             },
             "pattern": {
              "fillmode": "overlay",
              "size": 10,
              "solidity": 0.2
             }
            },
            "type": "barpolar"
           }
          ],
          "carpet": [
           {
            "aaxis": {
             "endlinecolor": "#2a3f5f",
             "gridcolor": "white",
             "linecolor": "white",
             "minorgridcolor": "white",
             "startlinecolor": "#2a3f5f"
            },
            "baxis": {
             "endlinecolor": "#2a3f5f",
             "gridcolor": "white",
             "linecolor": "white",
             "minorgridcolor": "white",
             "startlinecolor": "#2a3f5f"
            },
            "type": "carpet"
           }
          ],
          "choropleth": [
           {
            "colorbar": {
             "outlinewidth": 0,
             "ticks": ""
            },
            "type": "choropleth"
           }
          ],
          "contour": [
           {
            "colorbar": {
             "outlinewidth": 0,
             "ticks": ""
            },
            "colorscale": [
             [
              0,
              "#0d0887"
             ],
             [
              0.1111111111111111,
              "#46039f"
             ],
             [
              0.2222222222222222,
              "#7201a8"
             ],
             [
              0.3333333333333333,
              "#9c179e"
             ],
             [
              0.4444444444444444,
              "#bd3786"
             ],
             [
              0.5555555555555556,
              "#d8576b"
             ],
             [
              0.6666666666666666,
              "#ed7953"
             ],
             [
              0.7777777777777778,
              "#fb9f3a"
             ],
             [
              0.8888888888888888,
              "#fdca26"
             ],
             [
              1,
              "#f0f921"
             ]
            ],
            "type": "contour"
           }
          ],
          "contourcarpet": [
           {
            "colorbar": {
             "outlinewidth": 0,
             "ticks": ""
            },
            "type": "contourcarpet"
           }
          ],
          "heatmap": [
           {
            "colorbar": {
             "outlinewidth": 0,
             "ticks": ""
            },
            "colorscale": [
             [
              0,
              "#0d0887"
             ],
             [
              0.1111111111111111,
              "#46039f"
             ],
             [
              0.2222222222222222,
              "#7201a8"
             ],
             [
              0.3333333333333333,
              "#9c179e"
             ],
             [
              0.4444444444444444,
              "#bd3786"
             ],
             [
              0.5555555555555556,
              "#d8576b"
             ],
             [
              0.6666666666666666,
              "#ed7953"
             ],
             [
              0.7777777777777778,
              "#fb9f3a"
             ],
             [
              0.8888888888888888,
              "#fdca26"
             ],
             [
              1,
              "#f0f921"
             ]
            ],
            "type": "heatmap"
           }
          ],
          "heatmapgl": [
           {
            "colorbar": {
             "outlinewidth": 0,
             "ticks": ""
            },
            "colorscale": [
             [
              0,
              "#0d0887"
             ],
             [
              0.1111111111111111,
              "#46039f"
             ],
             [
              0.2222222222222222,
              "#7201a8"
             ],
             [
              0.3333333333333333,
              "#9c179e"
             ],
             [
              0.4444444444444444,
              "#bd3786"
             ],
             [
              0.5555555555555556,
              "#d8576b"
             ],
             [
              0.6666666666666666,
              "#ed7953"
             ],
             [
              0.7777777777777778,
              "#fb9f3a"
             ],
             [
              0.8888888888888888,
              "#fdca26"
             ],
             [
              1,
              "#f0f921"
             ]
            ],
            "type": "heatmapgl"
           }
          ],
          "histogram": [
           {
            "marker": {
             "pattern": {
              "fillmode": "overlay",
              "size": 10,
              "solidity": 0.2
             }
            },
            "type": "histogram"
           }
          ],
          "histogram2d": [
           {
            "colorbar": {
             "outlinewidth": 0,
             "ticks": ""
            },
            "colorscale": [
             [
              0,
              "#0d0887"
             ],
             [
              0.1111111111111111,
              "#46039f"
             ],
             [
              0.2222222222222222,
              "#7201a8"
             ],
             [
              0.3333333333333333,
              "#9c179e"
             ],
             [
              0.4444444444444444,
              "#bd3786"
             ],
             [
              0.5555555555555556,
              "#d8576b"
             ],
             [
              0.6666666666666666,
              "#ed7953"
             ],
             [
              0.7777777777777778,
              "#fb9f3a"
             ],
             [
              0.8888888888888888,
              "#fdca26"
             ],
             [
              1,
              "#f0f921"
             ]
            ],
            "type": "histogram2d"
           }
          ],
          "histogram2dcontour": [
           {
            "colorbar": {
             "outlinewidth": 0,
             "ticks": ""
            },
            "colorscale": [
             [
              0,
              "#0d0887"
             ],
             [
              0.1111111111111111,
              "#46039f"
             ],
             [
              0.2222222222222222,
              "#7201a8"
             ],
             [
              0.3333333333333333,
              "#9c179e"
             ],
             [
              0.4444444444444444,
              "#bd3786"
             ],
             [
              0.5555555555555556,
              "#d8576b"
             ],
             [
              0.6666666666666666,
              "#ed7953"
             ],
             [
              0.7777777777777778,
              "#fb9f3a"
             ],
             [
              0.8888888888888888,
              "#fdca26"
             ],
             [
              1,
              "#f0f921"
             ]
            ],
            "type": "histogram2dcontour"
           }
          ],
          "mesh3d": [
           {
            "colorbar": {
             "outlinewidth": 0,
             "ticks": ""
            },
            "type": "mesh3d"
           }
          ],
          "parcoords": [
           {
            "line": {
             "colorbar": {
              "outlinewidth": 0,
              "ticks": ""
             }
            },
            "type": "parcoords"
           }
          ],
          "pie": [
           {
            "automargin": true,
            "type": "pie"
           }
          ],
          "scatter": [
           {
            "fillpattern": {
             "fillmode": "overlay",
             "size": 10,
             "solidity": 0.2
            },
            "type": "scatter"
           }
          ],
          "scatter3d": [
           {
            "line": {
             "colorbar": {
              "outlinewidth": 0,
              "ticks": ""
             }
            },
            "marker": {
             "colorbar": {
              "outlinewidth": 0,
              "ticks": ""
             }
            },
            "type": "scatter3d"
           }
          ],
          "scattercarpet": [
           {
            "marker": {
             "colorbar": {
              "outlinewidth": 0,
              "ticks": ""
             }
            },
            "type": "scattercarpet"
           }
          ],
          "scattergeo": [
           {
            "marker": {
             "colorbar": {
              "outlinewidth": 0,
              "ticks": ""
             }
            },
            "type": "scattergeo"
           }
          ],
          "scattergl": [
           {
            "marker": {
             "colorbar": {
              "outlinewidth": 0,
              "ticks": ""
             }
            },
            "type": "scattergl"
           }
          ],
          "scattermapbox": [
           {
            "marker": {
             "colorbar": {
              "outlinewidth": 0,
              "ticks": ""
             }
            },
            "type": "scattermapbox"
           }
          ],
          "scatterpolar": [
           {
            "marker": {
             "colorbar": {
              "outlinewidth": 0,
              "ticks": ""
             }
            },
            "type": "scatterpolar"
           }
          ],
          "scatterpolargl": [
           {
            "marker": {
             "colorbar": {
              "outlinewidth": 0,
              "ticks": ""
             }
            },
            "type": "scatterpolargl"
           }
          ],
          "scatterternary": [
           {
            "marker": {
             "colorbar": {
              "outlinewidth": 0,
              "ticks": ""
             }
            },
            "type": "scatterternary"
           }
          ],
          "surface": [
           {
            "colorbar": {
             "outlinewidth": 0,
             "ticks": ""
            },
            "colorscale": [
             [
              0,
              "#0d0887"
             ],
             [
              0.1111111111111111,
              "#46039f"
             ],
             [
              0.2222222222222222,
              "#7201a8"
             ],
             [
              0.3333333333333333,
              "#9c179e"
             ],
             [
              0.4444444444444444,
              "#bd3786"
             ],
             [
              0.5555555555555556,
              "#d8576b"
             ],
             [
              0.6666666666666666,
              "#ed7953"
             ],
             [
              0.7777777777777778,
              "#fb9f3a"
             ],
             [
              0.8888888888888888,
              "#fdca26"
             ],
             [
              1,
              "#f0f921"
             ]
            ],
            "type": "surface"
           }
          ],
          "table": [
           {
            "cells": {
             "fill": {
              "color": "#EBF0F8"
             },
             "line": {
              "color": "white"
             }
            },
            "header": {
             "fill": {
              "color": "#C8D4E3"
             },
             "line": {
              "color": "white"
             }
            },
            "type": "table"
           }
          ]
         },
         "layout": {
          "annotationdefaults": {
           "arrowcolor": "#2a3f5f",
           "arrowhead": 0,
           "arrowwidth": 1
          },
          "autotypenumbers": "strict",
          "coloraxis": {
           "colorbar": {
            "outlinewidth": 0,
            "ticks": ""
           }
          },
          "colorscale": {
           "diverging": [
            [
             0,
             "#8e0152"
            ],
            [
             0.1,
             "#c51b7d"
            ],
            [
             0.2,
             "#de77ae"
            ],
            [
             0.3,
             "#f1b6da"
            ],
            [
             0.4,
             "#fde0ef"
            ],
            [
             0.5,
             "#f7f7f7"
            ],
            [
             0.6,
             "#e6f5d0"
            ],
            [
             0.7,
             "#b8e186"
            ],
            [
             0.8,
             "#7fbc41"
            ],
            [
             0.9,
             "#4d9221"
            ],
            [
             1,
             "#276419"
            ]
           ],
           "sequential": [
            [
             0,
             "#0d0887"
            ],
            [
             0.1111111111111111,
             "#46039f"
            ],
            [
             0.2222222222222222,
             "#7201a8"
            ],
            [
             0.3333333333333333,
             "#9c179e"
            ],
            [
             0.4444444444444444,
             "#bd3786"
            ],
            [
             0.5555555555555556,
             "#d8576b"
            ],
            [
             0.6666666666666666,
             "#ed7953"
            ],
            [
             0.7777777777777778,
             "#fb9f3a"
            ],
            [
             0.8888888888888888,
             "#fdca26"
            ],
            [
             1,
             "#f0f921"
            ]
           ],
           "sequentialminus": [
            [
             0,
             "#0d0887"
            ],
            [
             0.1111111111111111,
             "#46039f"
            ],
            [
             0.2222222222222222,
             "#7201a8"
            ],
            [
             0.3333333333333333,
             "#9c179e"
            ],
            [
             0.4444444444444444,
             "#bd3786"
            ],
            [
             0.5555555555555556,
             "#d8576b"
            ],
            [
             0.6666666666666666,
             "#ed7953"
            ],
            [
             0.7777777777777778,
             "#fb9f3a"
            ],
            [
             0.8888888888888888,
             "#fdca26"
            ],
            [
             1,
             "#f0f921"
            ]
           ]
          },
          "colorway": [
           "#636efa",
           "#EF553B",
           "#00cc96",
           "#ab63fa",
           "#FFA15A",
           "#19d3f3",
           "#FF6692",
           "#B6E880",
           "#FF97FF",
           "#FECB52"
          ],
          "font": {
           "color": "#2a3f5f"
          },
          "geo": {
           "bgcolor": "white",
           "lakecolor": "white",
           "landcolor": "#E5ECF6",
           "showlakes": true,
           "showland": true,
           "subunitcolor": "white"
          },
          "hoverlabel": {
           "align": "left"
          },
          "hovermode": "closest",
          "mapbox": {
           "style": "light"
          },
          "paper_bgcolor": "white",
          "plot_bgcolor": "#E5ECF6",
          "polar": {
           "angularaxis": {
            "gridcolor": "white",
            "linecolor": "white",
            "ticks": ""
           },
           "bgcolor": "#E5ECF6",
           "radialaxis": {
            "gridcolor": "white",
            "linecolor": "white",
            "ticks": ""
           }
          },
          "scene": {
           "xaxis": {
            "backgroundcolor": "#E5ECF6",
            "gridcolor": "white",
            "gridwidth": 2,
            "linecolor": "white",
            "showbackground": true,
            "ticks": "",
            "zerolinecolor": "white"
           },
           "yaxis": {
            "backgroundcolor": "#E5ECF6",
            "gridcolor": "white",
            "gridwidth": 2,
            "linecolor": "white",
            "showbackground": true,
            "ticks": "",
            "zerolinecolor": "white"
           },
           "zaxis": {
            "backgroundcolor": "#E5ECF6",
            "gridcolor": "white",
            "gridwidth": 2,
            "linecolor": "white",
            "showbackground": true,
            "ticks": "",
            "zerolinecolor": "white"
           }
          },
          "shapedefaults": {
           "line": {
            "color": "#2a3f5f"
           }
          },
          "ternary": {
           "aaxis": {
            "gridcolor": "white",
            "linecolor": "white",
            "ticks": ""
           },
           "baxis": {
            "gridcolor": "white",
            "linecolor": "white",
            "ticks": ""
           },
           "bgcolor": "#E5ECF6",
           "caxis": {
            "gridcolor": "white",
            "linecolor": "white",
            "ticks": ""
           }
          },
          "title": {
           "x": 0.05
          },
          "xaxis": {
           "automargin": true,
           "gridcolor": "white",
           "linecolor": "white",
           "ticks": "",
           "title": {
            "standoff": 15
           },
           "zerolinecolor": "white",
           "zerolinewidth": 2
          },
          "yaxis": {
           "automargin": true,
           "gridcolor": "white",
           "linecolor": "white",
           "ticks": "",
           "title": {
            "standoff": 15
           },
           "zerolinecolor": "white",
           "zerolinewidth": 2
          }
         }
        },
        "xaxis": {
         "anchor": "y",
         "constrain": "domain",
         "domain": [
          0,
          1
         ],
         "scaleanchor": "y"
        },
        "yaxis": {
         "anchor": "x",
         "autorange": "reversed",
         "constrain": "domain",
         "domain": [
          0,
          1
         ]
        }
       }
      }
     },
     "metadata": {},
     "output_type": "display_data"
    }
   ],
   "source": [
    "mixing_matrices = build_synthetic_matrices(\n",
    "    iso3, source_iso3, modelled_age_groups, age_adjust, requested_locations=['all_locations']\n",
    ")\n",
    "print(f\"Total daily contacts for each age group is {mixing_matrices['all_locations'].sum(axis=1)}\")\n",
    "px.imshow(mixing_matrices[\"all_locations\"])"
   ]
  },
  {
   "cell_type": "code",
   "execution_count": 13,
   "metadata": {},
   "outputs": [
    {
     "ename": "AssertionError",
     "evalue": "Mixing matrices only allowed for full stratification.",
     "output_type": "error",
     "traceback": [
      "\u001b[1;31m---------------------------------------------------------------------------\u001b[0m",
      "\u001b[1;31mAssertionError\u001b[0m                            Traceback (most recent call last)",
      "Cell \u001b[1;32mIn [13], line 7\u001b[0m\n\u001b[0;32m      1\u001b[0m update_params \u001b[39m=\u001b[39m {\n\u001b[0;32m      2\u001b[0m     \u001b[39m'\u001b[39m\u001b[39mstart_population_size\u001b[39m\u001b[39m'\u001b[39m: \u001b[39m220000\u001b[39m,\n\u001b[0;32m      3\u001b[0m     \u001b[39m'\u001b[39m\u001b[39minfectious_seed\u001b[39m\u001b[39m'\u001b[39m: \u001b[39m1500\u001b[39m,\n\u001b[0;32m      4\u001b[0m     \u001b[39m'\u001b[39m\u001b[39mcontact_rate\u001b[39m\u001b[39m'\u001b[39m:\u001b[39m0.002\u001b[39m\n\u001b[0;32m      5\u001b[0m }\n\u001b[0;32m      6\u001b[0m params \u001b[39m=\u001b[39m baseline_params\u001b[39m.\u001b[39mupdate(update_params,calibration_format\u001b[39m=\u001b[39m\u001b[39mTrue\u001b[39;00m)\n\u001b[1;32m----> 7\u001b[0m model_0 \u001b[39m=\u001b[39m p\u001b[39m.\u001b[39;49mrun_baseline_model(params)\n\u001b[0;32m      8\u001b[0m derived_df_0 \u001b[39m=\u001b[39m model_0\u001b[39m.\u001b[39mget_derived_outputs_df()\n",
      "File \u001b[1;32mC:\\autumn\\autumn\\core\\project\\project.py:147\u001b[0m, in \u001b[0;36mProject.run_baseline_model\u001b[1;34m(self, params, derived_outputs_whitelist, build_options)\u001b[0m\n\u001b[0;32m    145\u001b[0m params_dict \u001b[39m=\u001b[39m params\u001b[39m.\u001b[39mto_dict()\n\u001b[0;32m    146\u001b[0m \u001b[39mif\u001b[39;00m \u001b[39mself\u001b[39m\u001b[39m.\u001b[39m_model \u001b[39mis\u001b[39;00m \u001b[39mNone\u001b[39;00m:\n\u001b[1;32m--> 147\u001b[0m     model \u001b[39m=\u001b[39m \u001b[39mself\u001b[39;49m\u001b[39m.\u001b[39;49mbuild_model(params_dict, build_options)\n\u001b[0;32m    148\u001b[0m     \u001b[39mif\u001b[39;00m derived_outputs_whitelist:\n\u001b[0;32m    149\u001b[0m         \u001b[39m# Only calculate required derived outputs.\u001b[39;00m\n\u001b[0;32m    150\u001b[0m         model\u001b[39m.\u001b[39mset_derived_outputs_whitelist(derived_outputs_whitelist)\n",
      "File \u001b[1;32mC:\\autumn\\autumn\\models\\tb_dynamics2\\model.py:182\u001b[0m, in \u001b[0;36mbuild_model\u001b[1;34m(params, build_options, ret_builder)\u001b[0m\n\u001b[0;32m    177\u001b[0m \u001b[39melse\u001b[39;00m:\n\u001b[0;32m    178\u001b[0m     age_strat \u001b[39m=\u001b[39m get_age_strat(\n\u001b[0;32m    179\u001b[0m         params \u001b[39m=\u001b[39m params,\n\u001b[0;32m    180\u001b[0m         compartments \u001b[39m=\u001b[39m BASE_COMPARTMENTS,\n\u001b[0;32m    181\u001b[0m     )\n\u001b[1;32m--> 182\u001b[0m model\u001b[39m.\u001b[39;49mstratify_with(age_strat)\n\u001b[0;32m    185\u001b[0m \u001b[39m\"\"\"\u001b[39;00m\n\u001b[0;32m    186\u001b[0m \u001b[39mGet the applicable outputs\u001b[39;00m\n\u001b[0;32m    187\u001b[0m \u001b[39m\"\"\"\u001b[39;00m\n\u001b[0;32m    189\u001b[0m outputs_builder \u001b[39m=\u001b[39m TbOutputsBuilder(model)\n",
      "File \u001b[1;32mc:\\tools\\Anaconda3\\envs\\autumn\\lib\\site-packages\\summer2\\model.py:739\u001b[0m, in \u001b[0;36mCompartmentalModel.stratify_with\u001b[1;34m(self, strat)\u001b[0m\n\u001b[0;32m    737\u001b[0m \u001b[39m# Only allow mixing matrix to be supplied if there is a complete stratification.\u001b[39;00m\n\u001b[0;32m    738\u001b[0m msg \u001b[39m=\u001b[39m \u001b[39m\"\u001b[39m\u001b[39mMixing matrices only allowed for full stratification.\u001b[39m\u001b[39m\"\u001b[39m\n\u001b[1;32m--> 739\u001b[0m \u001b[39massert\u001b[39;00m strat\u001b[39m.\u001b[39mcompartments \u001b[39m==\u001b[39m \u001b[39mself\u001b[39m\u001b[39m.\u001b[39m_original_compartment_names, msg\n\u001b[0;32m    740\u001b[0m \u001b[39mself\u001b[39m\u001b[39m.\u001b[39m_mixing_matrices\u001b[39m.\u001b[39mappend(strat\u001b[39m.\u001b[39mmixing_matrix)\n\u001b[0;32m    741\u001b[0m \u001b[39m# Update mixing categories for force of infection calculation.\u001b[39;00m\n",
      "\u001b[1;31mAssertionError\u001b[0m: Mixing matrices only allowed for full stratification."
     ]
    }
   ],
   "source": [
    "update_params = {\n",
    "    'start_population_size': 220000,\n",
    "    'infectious_seed': 1500,\n",
    "    'contact_rate':0.002\n",
    "}\n",
    "params = baseline_params.update(update_params,calibration_format=True)\n",
    "model_0 = p.run_baseline_model(params)\n",
    "derived_df_0 = model_0.get_derived_outputs_df()"
   ]
  },
  {
   "cell_type": "code",
   "execution_count": null,
   "metadata": {},
   "outputs": [],
   "source": [
    "pretty_print(baseline_params)"
   ]
  },
  {
   "cell_type": "code",
   "execution_count": 8,
   "metadata": {},
   "outputs": [
    {
     "data": {
      "application/vnd.plotly.v1+json": {
       "config": {
        "plotlyServerURL": "https://plot.ly"
       },
       "data": [
        {
         "hovertemplate": "index=%{x}<br>total_population=%{y}<extra></extra>",
         "legendgroup": "",
         "line": {
          "color": "#636efa",
          "dash": "solid"
         },
         "marker": {
          "symbol": "circle"
         },
         "mode": "lines",
         "name": "",
         "showlegend": false,
         "type": "scattergl",
         "x": [
          1900,
          1900.1,
          1900.2,
          1900.3,
          1900.4,
          1900.5,
          1900.6,
          1900.7,
          1900.8,
          1900.9,
          1901,
          1901.1,
          1901.2,
          1901.3,
          1901.4,
          1901.5,
          1901.6,
          1901.7,
          1901.8,
          1901.9,
          1902,
          1902.1,
          1902.2,
          1902.3,
          1902.4,
          1902.5,
          1902.6,
          1902.7,
          1902.8,
          1902.9,
          1903,
          1903.1,
          1903.2,
          1903.3,
          1903.4,
          1903.5,
          1903.6,
          1903.7,
          1903.8,
          1903.9,
          1904,
          1904.1,
          1904.2,
          1904.3,
          1904.4,
          1904.5,
          1904.6,
          1904.7,
          1904.8,
          1904.9,
          1905,
          1905.1,
          1905.2,
          1905.3,
          1905.4,
          1905.5,
          1905.6,
          1905.7,
          1905.8,
          1905.9,
          1906,
          1906.1,
          1906.2,
          1906.3,
          1906.4,
          1906.5,
          1906.6,
          1906.7,
          1906.8,
          1906.9,
          1907,
          1907.1,
          1907.2,
          1907.3,
          1907.4,
          1907.5,
          1907.6,
          1907.7,
          1907.8,
          1907.9,
          1908,
          1908.1,
          1908.2,
          1908.3,
          1908.4,
          1908.5,
          1908.6,
          1908.7,
          1908.8,
          1908.9,
          1909,
          1909.1,
          1909.2,
          1909.3,
          1909.4,
          1909.5,
          1909.6,
          1909.7,
          1909.8,
          1909.9,
          1910,
          1910.1,
          1910.2,
          1910.3,
          1910.4,
          1910.5,
          1910.6,
          1910.7,
          1910.8,
          1910.9,
          1911,
          1911.1,
          1911.2,
          1911.3,
          1911.4,
          1911.5,
          1911.6,
          1911.7,
          1911.8,
          1911.9,
          1912,
          1912.1,
          1912.2,
          1912.3,
          1912.4,
          1912.5,
          1912.6,
          1912.7,
          1912.8,
          1912.9,
          1913,
          1913.1,
          1913.2,
          1913.3,
          1913.4,
          1913.5,
          1913.6,
          1913.7,
          1913.8,
          1913.9,
          1914,
          1914.1,
          1914.2,
          1914.3,
          1914.4,
          1914.5,
          1914.6,
          1914.7,
          1914.8,
          1914.9,
          1915,
          1915.1,
          1915.2,
          1915.3,
          1915.4,
          1915.5,
          1915.6,
          1915.7,
          1915.8,
          1915.9,
          1916,
          1916.1,
          1916.2,
          1916.3,
          1916.4,
          1916.5,
          1916.6,
          1916.7,
          1916.8,
          1916.9,
          1917,
          1917.1,
          1917.2,
          1917.3,
          1917.4,
          1917.5,
          1917.6,
          1917.7,
          1917.8,
          1917.9,
          1918,
          1918.1,
          1918.2,
          1918.3,
          1918.4,
          1918.5,
          1918.6,
          1918.7,
          1918.8,
          1918.9,
          1919,
          1919.1,
          1919.2,
          1919.3,
          1919.4,
          1919.5,
          1919.6,
          1919.7,
          1919.8,
          1919.9,
          1920,
          1920.1,
          1920.2,
          1920.3,
          1920.4,
          1920.5,
          1920.6,
          1920.7,
          1920.8,
          1920.9,
          1921,
          1921.1,
          1921.2,
          1921.3,
          1921.4,
          1921.5,
          1921.6,
          1921.7,
          1921.8,
          1921.9,
          1922,
          1922.1,
          1922.2,
          1922.3,
          1922.4,
          1922.5,
          1922.6,
          1922.7,
          1922.8,
          1922.9,
          1923,
          1923.1,
          1923.2,
          1923.3,
          1923.4,
          1923.5,
          1923.6,
          1923.7,
          1923.8,
          1923.9,
          1924,
          1924.1,
          1924.2,
          1924.3,
          1924.4,
          1924.5,
          1924.6,
          1924.7,
          1924.8,
          1924.9,
          1925,
          1925.1,
          1925.2,
          1925.3,
          1925.4,
          1925.5,
          1925.6,
          1925.7,
          1925.8,
          1925.9,
          1926,
          1926.1,
          1926.2,
          1926.3,
          1926.4,
          1926.5,
          1926.6,
          1926.7,
          1926.8,
          1926.9,
          1927,
          1927.1,
          1927.2,
          1927.3,
          1927.4,
          1927.5,
          1927.6,
          1927.7,
          1927.8,
          1927.9,
          1928,
          1928.1,
          1928.2,
          1928.3,
          1928.4,
          1928.5,
          1928.6,
          1928.7,
          1928.8,
          1928.9,
          1929,
          1929.1,
          1929.2,
          1929.3,
          1929.4,
          1929.5,
          1929.6,
          1929.7,
          1929.8,
          1929.9,
          1930,
          1930.1,
          1930.2,
          1930.3,
          1930.4,
          1930.5,
          1930.6,
          1930.7,
          1930.8,
          1930.9,
          1931,
          1931.1,
          1931.2,
          1931.3,
          1931.4,
          1931.5,
          1931.6,
          1931.7,
          1931.8,
          1931.9,
          1932,
          1932.1,
          1932.2,
          1932.3,
          1932.4,
          1932.5,
          1932.6,
          1932.7,
          1932.8,
          1932.9,
          1933,
          1933.1,
          1933.2,
          1933.3,
          1933.4,
          1933.5,
          1933.6,
          1933.7,
          1933.8,
          1933.9,
          1934,
          1934.1,
          1934.2,
          1934.3,
          1934.4,
          1934.5,
          1934.6,
          1934.7,
          1934.8,
          1934.9,
          1935,
          1935.1,
          1935.2,
          1935.3,
          1935.4,
          1935.5,
          1935.6,
          1935.7,
          1935.8,
          1935.9,
          1936,
          1936.1,
          1936.2,
          1936.3,
          1936.4,
          1936.5,
          1936.6,
          1936.7,
          1936.8,
          1936.9,
          1937,
          1937.1,
          1937.2,
          1937.3,
          1937.4,
          1937.5,
          1937.6,
          1937.7,
          1937.8,
          1937.9,
          1938,
          1938.1,
          1938.2,
          1938.3,
          1938.4,
          1938.5,
          1938.6,
          1938.7,
          1938.8,
          1938.9,
          1939,
          1939.1,
          1939.2,
          1939.3,
          1939.4,
          1939.5,
          1939.6,
          1939.7,
          1939.8,
          1939.9,
          1940,
          1940.1,
          1940.2,
          1940.3,
          1940.4,
          1940.5,
          1940.6,
          1940.7,
          1940.8,
          1940.9,
          1941,
          1941.1,
          1941.2,
          1941.3,
          1941.4,
          1941.5,
          1941.6,
          1941.7,
          1941.8,
          1941.9,
          1942,
          1942.1,
          1942.2,
          1942.3,
          1942.4,
          1942.5,
          1942.6,
          1942.7,
          1942.8,
          1942.9,
          1943,
          1943.1,
          1943.2,
          1943.3,
          1943.4,
          1943.5,
          1943.6,
          1943.7,
          1943.8,
          1943.9,
          1944,
          1944.1,
          1944.2,
          1944.3,
          1944.4,
          1944.5,
          1944.6,
          1944.7,
          1944.8,
          1944.9,
          1945,
          1945.1,
          1945.2,
          1945.3,
          1945.4,
          1945.5,
          1945.6,
          1945.7,
          1945.8,
          1945.9,
          1946,
          1946.1,
          1946.2,
          1946.3,
          1946.4,
          1946.5,
          1946.6,
          1946.7,
          1946.8,
          1946.9,
          1947,
          1947.1,
          1947.2,
          1947.3,
          1947.4,
          1947.5,
          1947.6,
          1947.7,
          1947.8,
          1947.9,
          1948,
          1948.1,
          1948.2,
          1948.3,
          1948.4,
          1948.5,
          1948.6,
          1948.7,
          1948.8,
          1948.9,
          1949,
          1949.1,
          1949.2,
          1949.3,
          1949.4,
          1949.5,
          1949.6,
          1949.7,
          1949.8,
          1949.9,
          1950,
          1950.1,
          1950.2,
          1950.3,
          1950.4,
          1950.5,
          1950.6,
          1950.7,
          1950.8,
          1950.9,
          1951,
          1951.1,
          1951.2,
          1951.3,
          1951.4,
          1951.5,
          1951.6,
          1951.7,
          1951.8,
          1951.9,
          1952,
          1952.1,
          1952.2,
          1952.3,
          1952.4,
          1952.5,
          1952.6,
          1952.7,
          1952.8,
          1952.9,
          1953,
          1953.1,
          1953.2,
          1953.3,
          1953.4,
          1953.5,
          1953.6,
          1953.7,
          1953.8,
          1953.9,
          1954,
          1954.1,
          1954.2,
          1954.3,
          1954.4,
          1954.5,
          1954.6,
          1954.7,
          1954.8,
          1954.9,
          1955,
          1955.1,
          1955.2,
          1955.3,
          1955.4,
          1955.5,
          1955.6,
          1955.7,
          1955.8,
          1955.9,
          1956,
          1956.1,
          1956.2,
          1956.3,
          1956.4,
          1956.5,
          1956.6,
          1956.7,
          1956.8,
          1956.9,
          1957,
          1957.1,
          1957.2,
          1957.3,
          1957.4,
          1957.5,
          1957.6,
          1957.7,
          1957.8,
          1957.9,
          1958,
          1958.1,
          1958.2,
          1958.3,
          1958.4,
          1958.5,
          1958.6,
          1958.7,
          1958.8,
          1958.9,
          1959,
          1959.1,
          1959.2,
          1959.3,
          1959.4,
          1959.5,
          1959.6,
          1959.7,
          1959.8,
          1959.9,
          1960,
          1960.1,
          1960.2,
          1960.3,
          1960.4,
          1960.5,
          1960.6,
          1960.7,
          1960.8,
          1960.9,
          1961,
          1961.1,
          1961.2,
          1961.3,
          1961.4,
          1961.5,
          1961.6,
          1961.7,
          1961.8,
          1961.9,
          1962,
          1962.1,
          1962.2,
          1962.3,
          1962.4,
          1962.5,
          1962.6,
          1962.7,
          1962.8,
          1962.9,
          1963,
          1963.1,
          1963.2,
          1963.3,
          1963.4,
          1963.5,
          1963.6,
          1963.7,
          1963.8,
          1963.9,
          1964,
          1964.1,
          1964.2,
          1964.3,
          1964.4,
          1964.5,
          1964.6,
          1964.7,
          1964.8,
          1964.9,
          1965,
          1965.1,
          1965.2,
          1965.3,
          1965.4,
          1965.5,
          1965.6,
          1965.7,
          1965.8,
          1965.9,
          1966,
          1966.1,
          1966.2,
          1966.3,
          1966.4,
          1966.5,
          1966.6,
          1966.7,
          1966.8,
          1966.9,
          1967,
          1967.1,
          1967.2,
          1967.3,
          1967.4,
          1967.5,
          1967.6,
          1967.7,
          1967.8,
          1967.9,
          1968,
          1968.1,
          1968.2,
          1968.3,
          1968.4,
          1968.5,
          1968.6,
          1968.7,
          1968.8,
          1968.9,
          1969,
          1969.1,
          1969.2,
          1969.3,
          1969.4,
          1969.5,
          1969.6,
          1969.7,
          1969.8,
          1969.9,
          1970,
          1970.1,
          1970.2,
          1970.3,
          1970.4,
          1970.5,
          1970.6,
          1970.7,
          1970.8,
          1970.9,
          1971,
          1971.1,
          1971.2,
          1971.3,
          1971.4,
          1971.5,
          1971.6,
          1971.7,
          1971.8,
          1971.9,
          1972,
          1972.1,
          1972.2,
          1972.3,
          1972.4,
          1972.5,
          1972.6,
          1972.7,
          1972.8,
          1972.9,
          1973,
          1973.1,
          1973.2,
          1973.3,
          1973.4,
          1973.5,
          1973.6,
          1973.7,
          1973.8,
          1973.9,
          1974,
          1974.1,
          1974.2,
          1974.3,
          1974.4,
          1974.5,
          1974.6,
          1974.7,
          1974.8,
          1974.9,
          1975,
          1975.1,
          1975.2,
          1975.3,
          1975.4,
          1975.5,
          1975.6,
          1975.7,
          1975.8,
          1975.9,
          1976,
          1976.1,
          1976.2,
          1976.3,
          1976.4,
          1976.5,
          1976.6,
          1976.7,
          1976.8,
          1976.9,
          1977,
          1977.1,
          1977.2,
          1977.3,
          1977.4,
          1977.5,
          1977.6,
          1977.7,
          1977.8,
          1977.9,
          1978,
          1978.1,
          1978.2,
          1978.3,
          1978.4,
          1978.5,
          1978.6,
          1978.7,
          1978.8,
          1978.9,
          1979,
          1979.1,
          1979.2,
          1979.3,
          1979.4,
          1979.5,
          1979.6,
          1979.7,
          1979.8,
          1979.9,
          1980,
          1980.1,
          1980.2,
          1980.3,
          1980.4,
          1980.5,
          1980.6,
          1980.7,
          1980.8,
          1980.9,
          1981,
          1981.1,
          1981.2,
          1981.3,
          1981.4,
          1981.5,
          1981.6,
          1981.7,
          1981.8,
          1981.9,
          1982,
          1982.1,
          1982.2,
          1982.3,
          1982.4,
          1982.5,
          1982.6,
          1982.7,
          1982.8,
          1982.9,
          1983,
          1983.1,
          1983.2,
          1983.3,
          1983.4,
          1983.5,
          1983.6,
          1983.7,
          1983.8,
          1983.9,
          1984,
          1984.1,
          1984.2,
          1984.3,
          1984.4,
          1984.5,
          1984.6,
          1984.7,
          1984.8,
          1984.9,
          1985,
          1985.1,
          1985.2,
          1985.3,
          1985.4,
          1985.5,
          1985.6,
          1985.7,
          1985.8,
          1985.9,
          1986,
          1986.1,
          1986.2,
          1986.3,
          1986.4,
          1986.5,
          1986.6,
          1986.7,
          1986.8,
          1986.9,
          1987,
          1987.1,
          1987.2,
          1987.3,
          1987.4,
          1987.5,
          1987.6,
          1987.7,
          1987.8,
          1987.9,
          1988,
          1988.1,
          1988.2,
          1988.3,
          1988.4,
          1988.5,
          1988.6,
          1988.7,
          1988.8,
          1988.9,
          1989,
          1989.1,
          1989.2,
          1989.3,
          1989.4,
          1989.5,
          1989.6,
          1989.7,
          1989.8,
          1989.9,
          1990,
          1990.1,
          1990.2,
          1990.3,
          1990.4,
          1990.5,
          1990.6,
          1990.7,
          1990.8,
          1990.9,
          1991,
          1991.1,
          1991.2,
          1991.3,
          1991.4,
          1991.5,
          1991.6,
          1991.7,
          1991.8,
          1991.9,
          1992,
          1992.1,
          1992.2,
          1992.3,
          1992.4,
          1992.5,
          1992.6,
          1992.7,
          1992.8,
          1992.9,
          1993,
          1993.1,
          1993.2,
          1993.3,
          1993.4,
          1993.5,
          1993.6,
          1993.7,
          1993.8,
          1993.9,
          1994,
          1994.1,
          1994.2,
          1994.3,
          1994.4,
          1994.5,
          1994.6,
          1994.7,
          1994.8,
          1994.9,
          1995,
          1995.1,
          1995.2,
          1995.3,
          1995.4,
          1995.5,
          1995.6,
          1995.7,
          1995.8,
          1995.9,
          1996,
          1996.1,
          1996.2,
          1996.3,
          1996.4,
          1996.5,
          1996.6,
          1996.7,
          1996.8,
          1996.9,
          1997,
          1997.1,
          1997.2,
          1997.3,
          1997.4,
          1997.5,
          1997.6,
          1997.7,
          1997.8,
          1997.9,
          1998,
          1998.1,
          1998.2,
          1998.3,
          1998.4,
          1998.5,
          1998.6,
          1998.7,
          1998.8,
          1998.9,
          1999,
          1999.1,
          1999.2,
          1999.3,
          1999.4,
          1999.5,
          1999.6,
          1999.7,
          1999.8,
          1999.9,
          2000,
          2000.1,
          2000.2,
          2000.3,
          2000.4,
          2000.5,
          2000.6,
          2000.7,
          2000.8,
          2000.9,
          2001,
          2001.1,
          2001.2,
          2001.3,
          2001.4,
          2001.5,
          2001.6,
          2001.7,
          2001.8,
          2001.9,
          2002,
          2002.1,
          2002.2,
          2002.3,
          2002.4,
          2002.5,
          2002.6,
          2002.7,
          2002.8,
          2002.9,
          2003,
          2003.1,
          2003.2,
          2003.3,
          2003.4,
          2003.5,
          2003.6,
          2003.7,
          2003.8,
          2003.9,
          2004,
          2004.1,
          2004.2,
          2004.3,
          2004.4,
          2004.5,
          2004.6,
          2004.7,
          2004.8,
          2004.9,
          2005,
          2005.1,
          2005.2,
          2005.3,
          2005.4,
          2005.5,
          2005.6,
          2005.7,
          2005.8,
          2005.9,
          2006,
          2006.1,
          2006.2,
          2006.3,
          2006.4,
          2006.5,
          2006.6,
          2006.7,
          2006.8,
          2006.9,
          2007,
          2007.1,
          2007.2,
          2007.3,
          2007.4,
          2007.5,
          2007.6,
          2007.7,
          2007.8,
          2007.9,
          2008,
          2008.1,
          2008.2,
          2008.3,
          2008.4,
          2008.5,
          2008.6,
          2008.7,
          2008.8,
          2008.9,
          2009,
          2009.1,
          2009.2,
          2009.3,
          2009.4,
          2009.5,
          2009.6,
          2009.7,
          2009.8,
          2009.9,
          2010,
          2010.1,
          2010.2,
          2010.3,
          2010.4,
          2010.5,
          2010.6,
          2010.7,
          2010.8,
          2010.9,
          2011,
          2011.1,
          2011.2,
          2011.3,
          2011.4,
          2011.5,
          2011.6,
          2011.7,
          2011.8,
          2011.9,
          2012,
          2012.1,
          2012.2,
          2012.3,
          2012.4,
          2012.5,
          2012.6,
          2012.7,
          2012.8,
          2012.9,
          2013,
          2013.1,
          2013.2,
          2013.3,
          2013.4,
          2013.5,
          2013.6,
          2013.7,
          2013.8,
          2013.9,
          2014,
          2014.1,
          2014.2,
          2014.3,
          2014.4,
          2014.5,
          2014.6,
          2014.7,
          2014.8,
          2014.9,
          2015,
          2015.1,
          2015.2,
          2015.3,
          2015.4,
          2015.5,
          2015.6,
          2015.7,
          2015.8,
          2015.9,
          2016,
          2016.1,
          2016.2,
          2016.3,
          2016.4,
          2016.5,
          2016.6,
          2016.7,
          2016.8,
          2016.9,
          2017,
          2017.1,
          2017.2,
          2017.3,
          2017.4,
          2017.5,
          2017.6,
          2017.7,
          2017.8,
          2017.9,
          2018,
          2018.1,
          2018.2,
          2018.3,
          2018.4,
          2018.5,
          2018.6,
          2018.7,
          2018.8,
          2018.9,
          2019,
          2019.1,
          2019.2,
          2019.3,
          2019.4,
          2019.5,
          2019.6,
          2019.7,
          2019.8,
          2019.9,
          2020,
          2020.1,
          2020.2,
          2020.3,
          2020.4,
          2020.5,
          2020.6,
          2020.7,
          2020.8,
          2020.9,
          2021,
          2021.1,
          2021.2,
          2021.3,
          2021.4,
          2021.5,
          2021.6,
          2021.7,
          2021.8,
          2021.9,
          2022,
          2022.1,
          2022.2,
          2022.3,
          2022.4,
          2022.5,
          2022.6,
          2022.7,
          2022.8,
          2022.9,
          2023,
          2023.1,
          2023.2,
          2023.3,
          2023.4,
          2023.5,
          2023.6,
          2023.7,
          2023.8,
          2023.9,
          2024,
          2024.1,
          2024.2,
          2024.3,
          2024.4,
          2024.5,
          2024.6,
          2024.7,
          2024.8,
          2024.9,
          2025,
          2025.1,
          2025.2,
          2025.3,
          2025.4,
          2025.5,
          2025.6,
          2025.7,
          2025.8,
          2025.9,
          2026,
          2026.1,
          2026.2,
          2026.3,
          2026.4,
          2026.5,
          2026.6,
          2026.7,
          2026.8,
          2026.9,
          2027,
          2027.1,
          2027.2,
          2027.3,
          2027.4,
          2027.5,
          2027.6,
          2027.7,
          2027.8,
          2027.9,
          2028,
          2028.1,
          2028.2,
          2028.3,
          2028.4,
          2028.5,
          2028.6,
          2028.7,
          2028.8,
          2028.9,
          2029,
          2029.1,
          2029.2,
          2029.3,
          2029.4,
          2029.5,
          2029.6,
          2029.7,
          2029.8,
          2029.9,
          2030,
          2030.1,
          2030.2,
          2030.3,
          2030.4,
          2030.5,
          2030.6,
          2030.7,
          2030.8,
          2030.9,
          2031,
          2031.1,
          2031.2,
          2031.3,
          2031.4,
          2031.5,
          2031.6,
          2031.7,
          2031.8,
          2031.9,
          2032,
          2032.1,
          2032.2,
          2032.3,
          2032.4,
          2032.5,
          2032.6,
          2032.7,
          2032.8,
          2032.9,
          2033,
          2033.1,
          2033.2,
          2033.3,
          2033.4,
          2033.5,
          2033.6,
          2033.7,
          2033.8,
          2033.9,
          2034,
          2034.1,
          2034.2,
          2034.3,
          2034.4,
          2034.5,
          2034.6,
          2034.7,
          2034.8,
          2034.9,
          2035,
          2035.1,
          2035.2,
          2035.3,
          2035.4,
          2035.5,
          2035.6,
          2035.7,
          2035.8,
          2035.9,
          2036,
          2036.1,
          2036.2,
          2036.3,
          2036.4,
          2036.5,
          2036.6,
          2036.7,
          2036.8,
          2036.9,
          2037,
          2037.1,
          2037.2,
          2037.3,
          2037.4,
          2037.5,
          2037.6,
          2037.7,
          2037.8,
          2037.9,
          2038,
          2038.1,
          2038.2,
          2038.3,
          2038.4,
          2038.5,
          2038.6,
          2038.7,
          2038.8,
          2038.9,
          2039,
          2039.1,
          2039.2,
          2039.3,
          2039.4,
          2039.5,
          2039.6,
          2039.7,
          2039.8,
          2039.9,
          2040,
          2040.1,
          2040.2,
          2040.3,
          2040.4,
          2040.5,
          2040.6,
          2040.7,
          2040.8,
          2040.9,
          2041,
          2041.1,
          2041.2,
          2041.3,
          2041.4,
          2041.5,
          2041.6,
          2041.7,
          2041.8,
          2041.9,
          2042,
          2042.1,
          2042.2,
          2042.3,
          2042.4,
          2042.5,
          2042.6,
          2042.7,
          2042.8,
          2042.9,
          2043,
          2043.1,
          2043.2,
          2043.3,
          2043.4,
          2043.5,
          2043.6,
          2043.7,
          2043.8,
          2043.9,
          2044,
          2044.1,
          2044.2,
          2044.3,
          2044.4,
          2044.5,
          2044.6,
          2044.7,
          2044.8,
          2044.9,
          2045,
          2045.1,
          2045.2,
          2045.3,
          2045.4,
          2045.5,
          2045.6,
          2045.7,
          2045.8,
          2045.9,
          2046,
          2046.1,
          2046.2,
          2046.3,
          2046.4,
          2046.5,
          2046.6,
          2046.7,
          2046.8,
          2046.9,
          2047,
          2047.1,
          2047.2,
          2047.3,
          2047.4,
          2047.5,
          2047.6,
          2047.7,
          2047.8,
          2047.9,
          2048,
          2048.1,
          2048.2,
          2048.3,
          2048.4,
          2048.5,
          2048.6,
          2048.7,
          2048.8,
          2048.9,
          2049,
          2049.1,
          2049.2,
          2049.3,
          2049.4,
          2049.5,
          2049.6,
          2049.7,
          2049.8,
          2049.9,
          2050
         ],
         "xaxis": "x",
         "y": [
          220000,
          219944.7986325962,
          219902.7688044999,
          219868.9662396761,
          219841.6573290467,
          219820.17299284748,
          219804.2086428751,
          219793.59119929807,
          219788.1996272379,
          219787.9365036509,
          219792.7171760071,
          219802.465588853,
          219817.1114681233,
          219836.5892090991,
          219860.83700697857,
          219889.79612299512,
          219923.41049356406,
          219961.62630163223,
          220004.39164180367,
          220051.6563822477,
          220103.3717871861,
          220159.4905204323,
          220219.9664127018,
          220284.7543116643,
          220353.81010350227,
          220427.09053811055,
          220504.55315930504,
          220586.15630571102,
          220671.85902066628,
          220761.62101911928,
          220855.4026568607,
          220953.16489004355,
          221054.8692637818,
          221160.47787502565,
          221269.95335624108,
          221383.2588678013,
          221500.35806723798,
          221621.21510163706,
          221745.79459953608,
          221874.06165122794,
          222005.9818019837,
          222141.52104320272,
          222280.6457999573,
          222423.3229256107,
          222569.5196919107,
          222719.2037807365,
          222872.34328036246,
          223028.90667384758,
          223188.86283422285,
          223352.18102187722,
          223518.83087198297,
          223688.78239106256,
          223862.00595506802,
          224038.47229800664,
          224218.1525089583,
          224401.0180296054,
          224587.04064274792,
          224776.19247319087,
          224968.44598174075,
          225163.77395496867,
          225362.14950936177,
          225563.5460815504,
          225767.9374202844,
          225975.2975926167,
          226185.6009693028,
          226398.82222458717,
          226614.9363351299,
          226833.91856896735,
          227055.74448909046,
          227280.389944045,
          227507.83106572216,
          227738.0442687526,
          227971.00624046833,
          228206.69394284795,
          228445.08460892286,
          228686.1557326977,
          228929.88507451897,
          229176.25065390207,
          229425.2307417168,
          229676.80386686977,
          229930.94880405258,
          230187.64457492257,
          230446.87044568523,
          230708.6059201343,
          230972.83074225616,
          231239.52488835505,
          231508.66856589913,
          231780.24221400276,
          232054.22649416383,
          232330.60229230265,
          232609.35071693413,
          232890.45309102925,
          233173.89095606742,
          233459.64606492224,
          233747.70038024086,
          234038.03607498505,
          234330.63552474973,
          234625.48130990338,
          234922.556212849,
          235221.84321093428,
          235523.32548120376,
          235826.98639453042,
          236132.80951022814,
          236440.7785821308,
          236750.87754861053,
          237063.09053391422,
          237377.40184751537,
          237693.7959776972,
          238012.2575948395,
          238332.77154530442,
          238655.32285064185,
          238979.89670845025,
          239306.4784852856,
          239635.05371869804,
          239965.60811654406,
          240298.1275489674,
          240632.59805357986,
          240969.00583133748,
          241307.33724091868,
          241647.57880451303,
          241989.71719938604,
          242333.73925970972,
          242679.63197492878,
          243027.38248549704,
          243376.9780855213,
          243728.40621739574,
          244081.6544710456,
          244436.71058596927,
          244793.56244401942,
          245152.19807086655,
          245512.60563775772,
          245874.77345251237,
          246238.68996468716,
          246604.34376256826,
          246971.72356842656,
          247340.81824285185,
          247711.6167781212,
          248084.1083001788,
          248458.2820665174,
          248834.127463021,
          249211.63400658497,
          249590.79134033312,
          249971.58923232887,
          250354.0175785059,
          250738.06639618802,
          251123.72582583208,
          251510.98613034116,
          251899.83769067016,
          252290.27100896687,
          252682.27670422656,
          253075.8455111279,
          253470.96828261766,
          253867.63598374496,
          254265.83969305182,
          254665.57060388842,
          255066.82001743463,
          255469.5793471428,
          255873.84011589017,
          256279.59395240838,
          256686.8325953057,
          257095.54788716204,
          257505.7317762953,
          257917.37631581776,
          258330.473660035,
          258745.01606743262,
          259160.99589682123,
          259578.40560571532,
          259997.23775387218,
          260417.48499719574,
          260839.14008838986,
          261262.1958795956,
          261686.64531526167,
          262112.48143632608,
          262539.6973776592,
          262968.28636545,
          263398.24172010535,
          263829.5568514251,
          264262.22526030056,
          264696.2405378072,
          265131.5963617796,
          265568.2864998862,
          266006.30480651825,
          266445.6452201334,
          266886.30176782806,
          267328.26855963084,
          267771.5397882716,
          268216.10973253526,
          268661.9727506341,
          269109.1232839336,
          269557.5558544021,
          270007.2650630125,
          270458.2455917503,
          270910.4921995393,
          271363.9997237363,
          271818.7630798245,
          272274.7772574778,
          272732.0373237655,
          273190.538421308,
          273650.2757641492,
          274111.244643076,
          274573.4404206161,
          275036.8585303403,
          275501.4944798299,
          275967.3438453117,
          276434.4022747331,
          276902.66548523854,
          277372.1292621948,
          277842.7894609217,
          278314.6420028887,
          278787.68287679524,
          279261.9081395665,
          279737.3139114046,
          280213.8963787792,
          280691.65179440426,
          281170.5764717354,
          281650.66679039336,
          282131.919191951,
          282614.33017941826,
          283097.89631906326,
          283582.61423657497,
          284068.48061945767,
          284555.4922147247,
          285043.64582794206,
          285532.93832537514,
          286023.36663016555,
          286514.92772268027,
          287007.6186426451,
          287501.4364843146,
          287996.37839917425,
          288492.44159444916,
          288989.62333133694,
          289487.92092723656,
          289987.331752361,
          290487.8532304386,
          290989.48283983726,
          291492.2181093892,
          291996.05662076146,
          292500.9960087195,
          293007.0339562003,
          293514.1681990079,
          294022.39652279374,
          294531.71676136454,
          295042.1267998615,
          295553.6245703492,
          296066.2080541322,
          296579.8752802854,
          297094.6243242209,
          297610.4533098713,
          298127.36040652747,
          298645.34382882965,
          299164.401839288,
          299684.5327434463,
          300205.7348914296,
          300728.0066800544,
          301251.34654703503,
          301775.75297532155,
          302301.22449072736,
          302827.7596606591,
          303355.35709618963,
          303884.01544880087,
          304413.73341224896,
          304944.50972132664,
          305476.3431502275,
          306009.2325150651,
          306543.1766711284,
          307078.1745116967,
          307614.2249715627,
          308151.32702256646,
          308689.47967509617,
          309228.68197816523,
          309768.93301717076,
          310310.231915985,
          310852.5778345372,
          311395.9699688512,
          311940.4075526675,
          312485.8898539224,
          313032.41617593716,
          313579.98585880315,
          314128.5982753511,
          314678.25283412356,
          315228.94897733966,
          315780.68618045223,
          316333.46395342867,
          316887.2818380997,
          317442.1394094974,
          317998.0362760153,
          318554.97207630036,
          319112.9464819683,
          319671.959196533,
          320232.00995314936,
          320793.09851749276,
          321355.22468465,
          321918.3882803062,
          322482.5891605986,
          323047.82721011376,
          323614.1023440087,
          324181.41450646677,
          324749.76366888924,
          325319.14983314724,
          325889.5730284465,
          326461.0333114552,
          327033.5307676935,
          327607.0655087518,
          328181.6376743165,
          328757.2474306801,
          329333.8949698367,
          329911.58051166876,
          330490.304301131,
          331070.0666081595,
          331650.8677302302,
          332232.70798837254,
          332815.5877292796,
          333399.50732472545,
          333984.4671700112,
          334570.46768595406,
          335157.50931652886,
          335745.59252930334,
          336334.7178167506,
          336924.88569309755,
          337516.0966959767,
          338108.3513870331,
          338701.650348789,
          339295.9941875235,
          339891.3835311007,
          340487.8190290162,
          341085.3013534516,
          341683.8311969283,
          342283.40927382256,
          342884.03632023605,
          343485.7130914426,
          344088.440364674,
          344692.21893805114,
          345297.0496277134,
          345902.9332721958,
          346509.8707288556,
          347117.8628740813,
          347726.910605076,
          348337.01483684365,
          348948.1765044588,
          349560.3965614278,
          350173.6759794504,
          350788.0157498476,
          351403.41688112915,
          352019.88039979053,
          352637.4073518421,
          353255.99879909074,
          353875.6558212994,
          354496.3795172195,
          355118.1710003128,
          355741.031402868,
          356364.9618735329,
          356989.96357708663,
          357616.03769581637,
          358243.18542727875,
          358871.4079860338,
          359500.7066024676,
          360131.08252202935,
          360762.5370072531,
          361395.0713354933,
          362028.6867984914,
          362663.38470516755,
          363299.1663781073,
          363936.0331551377,
          364573.9863892876,
          365213.0274473488,
          365853.1577115619,
          366494.3785778622,
          367136.6914561054,
          367780.0977714184,
          368424.5989616055,
          369070.1964781347,
          369716.8917875263,
          370364.6863681862,
          371013.5817128593,
          371663.579327291,
          372314.68072986964,
          372966.8874528355,
          373620.20104037266,
          374274.6230496047,
          374930.1550511,
          375586.79862644273,
          376244.55537024635,
          376903.4268899892,
          377563.4148038521,
          378224.52074329037,
          378886.7463508693,
          379550.09328095365,
          380214.5632001055,
          380880.1577854428,
          381546.87872620893,
          382214.72772324044,
          382883.706487184,
          383553.81674105895,
          384225.06021867465,
          384897.438663837,
          385570.9538323262,
          386245.6074895797,
          386921.40141207515,
          387598.3373869174,
          388276.4172107056,
          388955.64269134414,
          389636.01564665616,
          390317.5379034186,
          391000.2112999804,
          391684.0376837191,
          392369.0189115687,
          393055.1568510026,
          393742.45337809925,
          394430.91037922853,
          395120.529749986,
          395811.3133946418,
          396503.26322793006,
          397196.3811730444,
          397890.66916157206,
          398586.1291357012,
          399282.76304526353,
          399980.57284929696,
          400679.56051599054,
          401379.7280213659,
          402081.0773509873,
          402783.6104984151,
          403487.32946531393,
          404192.2362628775,
          404898.3329095682,
          405605.62143193407,
          406314.1038659394,
          407023.78225426056,
          407734.65864838223,
          408446.73510769056,
          409160.01369886857,
          409874.49649733445,
          410590.18558552064,
          411307.08305353404,
          412025.1910000297,
          412744.5115300319,
          413465.04675632843,
          414186.7988003332,
          414909.7697890003,
          415633.9618576417,
          416359.37714923045,
          417086.01781254256,
          417813.88600497774,
          418542.9838900884,
          419273.31363868713,
          420004.87742889917,
          420737.67744500947,
          421471.7158789837,
          422206.9949293705,
          422943.5168006787,
          423681.2837054696,
          424420.2978624236,
          425160.5614956936,
          425902.07683801453,
          426644.8461273992,
          427388.8716080025,
          428134.15553170606,
          428880.700155418,
          429628.5077432809,
          430377.58056537266,
          431127.92089778854,
          431879.5310234801,
          432632.4132308312,
          433386.56981452706,
          434142.0030760708,
          434898.71532181726,
          435656.708864555,
          436415.986023741,
          437176.5491235325,
          437938.4004949588,
          438701.5424744194,
          439465.9774040229,
          440231.70763218193,
          440998.73551233026,
          441767.0634039593,
          442536.6936727201,
          443307.62868877867,
          444079.87082856195,
          444853.42247446586,
          445628.2860133558,
          446404.4638386232,
          447181.95834855305,
          447960.77194687753,
          448740.90704322193,
          449522.3660518697,
          450305.15139288636,
          451089.2654920709,
          451874.7107794379,
          452661.4896910138,
          453449.60466833645,
          454239.05815719307,
          455029.85260956635,
          455821.99048201065,
          456615.47423626296,
          457410.3063396278,
          458206.4892638039,
          459004.0254859945,
          459802.9174888299,
          460603.16775892006,
          461404.7787886282,
          462207.7530755282,
          463012.09312122286,
          463817.80143325275,
          464624.88052349316,
          465433.33290874073,
          466243.1611111543,
          467054.36765705317,
          467866.95507801516,
          468680.92591083917,
          469496.28269612044,
          470313.0279799478,
          471131.1643134412,
          471950.6942515617,
          472771.6203549753,
          473593.94518854615,
          474417.67132181046,
          475242.80132952385,
          476069.3377904593,
          476897.2832883714,
          477726.6404121437,
          478557.4117543425,
          479389.59991271014,
          480223.20749000716,
          481058.23709264473,
          481894.69133251725,
          482732.5728509569,
          483571.88483197277,
          484412.7018076599,
          485255.29623658676,
          486100.03961238655,
          486947.2686083,
          487797.31260452967,
          488650.48994391074,
          489507.10792515386,
          490367.46274313726,
          491231.83948292834,
          492100.51209915424,
          492973.74338031054,
          493851.78495362983,
          494734.8772096248,
          495623.24928499165,
          496517.11907016276,
          497416.69312018686,
          498322.16663383186,
          499233.7234270636,
          500151.5358268598,
          501075.7646722807,
          502006.5591996375,
          502944.05701171857,
          503888.383998304,
          504839.6542199278,
          505797.9698382599,
          506763.42102410196,
          507736.08584291686,
          508716.03015143547,
          509703.3074792845,
          510697.9588613727,
          511700.012770402,
          512709.4849250985,
          513726.37817302486,
          514750.682318151,
          515782.37396224495,
          516821.4163236029,
          517867.7590877358,
          518921.33821070194,
          519982.07571145426,
          521049.8795410028,
          522124.6433078669,
          523206.2461232743,
          524294.5523888486,
          525389.4115619672,
          526490.6579739426,
          527598.1105976354,
          528711.5728034312,
          529830.8321921777,
          530955.6603125435,
          532085.8085211802,
          533221.0668025948,
          534361.3581472499,
          535506.6562320325,
          536656.9317280896,
          537812.1551766638,
          538972.2968666664,
          540137.3268209558,
          541307.2147872738,
          542481.9302343499,
          543661.4423440786,
          544845.7200039219,
          546034.7318024973,
          547228.4460223924,
          548426.8306341629,
          549629.853291708,
          550837.4813250634,
          552049.6817361183,
          553266.4211937566,
          554487.6660271283,
          555713.3822217733,
          556943.5354155679,
          558178.0908924042,
          559417.0135785837,
          560660.2680388242,
          561907.8184708339,
          563159.6287024699,
          564415.6621871023,
          565675.881999329,
          566940.2508325089,
          568208.7309942439,
          569481.2844023572,
          570757.8725830795,
          572038.4566668413,
          573322.9973846772,
          574611.4550663804,
          575903.7896366732,
          577199.9606126162,
          578499.9271014056,
          579803.6477968487,
          581111.0809776173,
          582422.1845049991,
          583736.9158197176,
          585055.231940327,
          586377.0894617168,
          587702.4445521006,
          589031.2529511871,
          590363.4699695887,
          591699.050485912,
          593037.9489442724,
          594380.119361715,
          595725.5152881615,
          597074.0896886941,
          598425.7947584649,
          599780.5819152493,
          601138.4017938143,
          602499.2042400164,
          603862.9383051519,
          605229.552242977,
          606598.9935040969,
          607971.2087297603,
          609346.143749329,
          610723.7435752988,
          612103.9523970708,
          613486.7135781257,
          614871.969651492,
          616259.6623140775,
          617649.732423895,
          619042.1199948764,
          620436.7641926727,
          621833.6033314646,
          623232.5748686825,
          624633.6154015186,
          626036.6606638391,
          627441.6455213198,
          628848.5039673068,
          630257.1691208689,
          631667.5732220984,
          633079.6476280722,
          634493.3228107843,
          635908.5283528867,
          637325.1929444652,
          638743.2443807044,
          640162.6095577765,
          641583.2144703061,
          643004.9842091611,
          644427.8429578876,
          645851.7139897182,
          647276.5196663416,
          648702.1814347989,
          650128.6198244846,
          651555.7544460832,
          652983.5039889775,
          654411.7862188966,
          655840.5179769299,
          657269.615177219,
          658698.9928051891,
          660128.5649168034,
          661558.2446370113,
          662987.9441578564,
          664417.5748009315,
          665847.0468929,
          667276.2723755072,
          668705.1662223751,
          670133.6470101662,
          671561.6368865654,
          672989.061619014,
          674415.8506530441,
          675841.9371753628,
          677267.2581470209,
          678691.7543632053,
          680115.3705194629,
          681538.0552441137,
          682959.761154312,
          684380.4449188471,
          685800.0673043393,
          687218.5932174855,
          688635.9917699811,
          690052.2363278484,
          691467.3045527145,
          692881.1784642545,
          694293.8444890416,
          695705.2935028876,
          697115.5208924381,
          698524.5266041129,
          699932.3151840989,
          701338.8958371097,
          702744.2824862348,
          704148.4937994039,
          705551.5532514814,
          706953.4891845266,
          708354.3348420756,
          709754.1284172527,
          711152.9131136893,
          712550.7371925875,
          713947.654009855,
          715343.7220773478,
          716739.0051118009,
          718133.5720731075,
          719527.4972225501,
          720920.8601739621,
          722313.7459307151,
          723706.2449410568,
          725098.4531596482,
          726490.4720737989,
          727882.408761013,
          729274.3759518533,
          730666.492068931,
          732058.8812656335,
          733451.6734930815,
          734845.0045505399,
          736239.0157368156,
          737633.8496900011,
          739029.6461329126,
          740426.5414631806,
          741824.6687029768,
          743224.1574378399,
          744625.1337893791,
          746027.7203683263,
          747432.036219998,
          748838.1967720976,
          750246.3138158415,
          751656.4954414675,
          753068.8459892054,
          754483.4660157537,
          755900.4522489093,
          757319.8975313482,
          758741.8907812295,
          760166.5169539375,
          761593.8569878828,
          763023.9877498361,
          764456.9820111555,
          765892.9083926458,
          767331.831304308,
          768773.8109089759,
          770218.9030875064,
          771667.1593803357,
          773118.6269260256,
          774573.3484366862,
          776031.3621461953,
          777492.7017513807,
          778957.396363407,
          780425.4704744739,
          781896.9438977678,
          783371.8317087642,
          784850.1442145613,
          786331.8868980795,
          787817.0603524877,
          789305.660245362,
          790797.6772713372,
          792293.0970947298,
          793791.9002772074,
          795294.0622603773,
          796799.5533009908,
          798308.3384127538,
          799820.3772973547,
          801335.624328278,
          802854.028478393,
          804375.5332591883,
          805900.0766643604,
          807427.5912777105,
          808958.0038184125,
          810491.238994518,
          812027.2212911538,
          813565.8755807771,
          815107.1271594054,
          816650.9017079055,
          818197.1253109704,
          819745.7244700514,
          821296.6261210712,
          822849.7576398418,
          824405.0468547952,
          825962.4220596395,
          827521.8120322275,
          829083.1460391403,
          830646.353846739,
          832211.3657390873,
          833778.1125309363,
          835346.5255749653,
          836916.5367759332,
          838488.0786052839,
          840061.0841144089,
          841635.4869418851,
          843211.2213286186,
          844788.222134473,
          846366.424847791,
          847945.7655938162,
          849526.1811506067,
          851107.6089657667,
          852689.9871672608,
          854273.2545676195,
          855857.3506848438,
          857442.2157540842,
          859027.7907430164,
          860614.017354761,
          862200.8380471679,
          863788.1960456733,
          865376.035357235,
          866964.3007756243,
          868552.9378993161,
          870141.8931450191,
          871731.1137585678,
          873320.5478242901,
          874910.1442793611,
          876499.8529311682,
          878089.6244636737,
          879679.4104492465,
          881269.1633611508,
          882858.8365931861,
          884448.3844668922,
          886037.7622120671,
          887626.9260168986,
          889215.8322444529,
          890804.4367692136,
          892392.6949610726,
          893980.5616610926,
          895567.9911651677,
          897154.937229389,
          898741.3530658628,
          900327.1913406978,
          901912.4041699874,
          903496.9431146769,
          905080.7591782274,
          906663.802804062,
          908246.0238722104,
          909827.3716934709,
          911407.7950078585,
          912987.2419813792,
          914565.6602035094,
          916142.9966802705,
          917719.1978324832,
          919294.2094940832,
          920867.9769078018,
          922440.4447214365,
          924011.5569816995,
          925581.2571340165,
          927149.4880200389,
          928716.1918721717,
          930281.310309768,
          931844.7843355885,
          933406.5543344954,
          934966.560069113,
          936524.7406755808,
          938081.0346595279,
          939635.3798950379,
          941187.7136204576,
          942737.9724349483,
          944286.09229282,
          945832.0085031864,
          947375.6557263522,
          948916.9679710339,
          950455.8785886202,
          951992.320269682,
          953526.2250439402,
          955057.5242760812,
          956586.1486624434,
          958112.0282261228,
          959635.0923138635,
          961155.2696043749,
          962672.4881379297,
          964186.675009616,
          965697.7570255176,
          967205.660871788,
          968710.3133102866,
          970211.6417748937,
          971709.5741229565,
          973204.0386762527,
          974694.9642259519,
          976182.2800417028,
          977665.9158773357,
          979145.8019819816,
          980621.8691008944,
          982094.0484826856,
          983562.2718848702,
          985026.4715848025,
          986486.5803883616,
          987942.5316299698,
          989394.2591789467,
          990841.6974500271,
          992284.781408703,
          993723.4465842587,
          995157.6290699845,
          996587.2655257966,
          998012.2931934079,
          999432.6498985455,
          1000848.274064402,
          1002259.1047130664,
          1003665.081469218,
          1005066.1445729702,
          1006462.2348850444,
          1007853.2938969396,
          1009239.263731898,
          1010620.087154715,
          1011995.7075771394,
          1013366.0690706803,
          1014731.1163694852,
          1016090.7948744884,
          1017445.050663051,
          1018793.8304954718,
          1020137.0818280546,
          1021474.7528134418,
          1022806.7923048221,
          1024133.1498684483,
          1025453.7757862965,
          1026768.6210722289,
          1028077.6374727971,
          1029380.7774678774,
          1030677.9942848535,
          1031969.241903917,
          1033254.47506796,
          1034533.6492859537,
          1035806.7208376838,
          1037073.64678311,
          1038334.3849702853,
          1039588.8940428799,
          1040837.1334417234,
          1042079.0634146596,
          1043314.6450208633,
          1044543.8401442469,
          1045766.6114949121,
          1046982.922612089,
          1048192.7378754861,
          1049396.0225081705,
          1050592.742590781,
          1051782.8650624922,
          1052966.3577219914,
          1054143.1892405609,
          1055313.3291659323,
          1056476.7479319684,
          1057633.4168608326,
          1058783.3081679812,
          1059926.3949699814,
          1061062.651292081,
          1062192.052074125,
          1063314.5731720505,
          1064430.1913666725,
          1065538.8843675696,
          1066640.6308243086,
          1067735.4103275319,
          1068823.2034117605,
          1069903.9915649998,
          1070977.7572316488,
          1072044.4838237087,
          1073104.1557214067,
          1074156.758274542,
          1075202.277813703,
          1076240.7016529506,
          1077272.0180978773,
          1078296.2164467885,
          1079313.2869957723,
          1080323.2210443362,
          1081326.010902189,
          1082321.6498930894,
          1083310.132356371,
          1084291.4536541437,
          1085265.610174579,
          1086232.59934023,
          1087192.4196086384,
          1088145.0704749853,
          1089090.5524794818,
          1090028.8672099912,
          1090960.0173098994,
          1091884.0064783932,
          1092800.8394720303,
          1093710.5221133651,
          1094613.0612921286,
          1095508.4649723098,
          1096396.7421928362,
          1097277.9030692044,
          1098151.9588010279,
          1099018.9216737738,
          1099878.8050637664,
          1100731.623438637,
          1101577.3923618076,
          1102416.1284958806,
          1103247.8496069813,
          1104072.5745662858,
          1104890.3233522098,
          1105701.117054542,
          1106504.9778777112,
          1107301.9291439778,
          1108091.9952936484,
          1108875.2018894511,
          1109651.5756181953,
          1110421.1442955458,
          1111183.9368674723,
          1111939.9834103098,
          1112689.3151349886,
          1113431.9643892816,
          1114167.9646608545,
          1114897.3505791575,
          1115620.157915433,
          1116336.423585543,
          1117046.1856535494,
          1117749.4833329737,
          1118446.3569886824,
          1119136.848137107,
          1119820.999449824,
          1120498.8547550244,
          1121170.4590393174,
          1121835.858448254,
          1122495.1002883422,
          1123148.2330293998,
          1123795.3063059354,
          1124436.3709179668,
          1125071.4788316689,
          1125700.683182253,
          1126324.0382748763,
          1126941.5995861732,
          1127553.4237636668,
          1128159.568556672,
          1128760.0930565917,
          1129355.0566289732,
          1129944.5184956482,
          1130528.537732145,
          1131107.1731919774,
          1131680.483490562,
          1132248.5270236563,
          1132811.3619595158,
          1133369.0462379444,
          1133921.6375650556,
          1134469.1934124234,
          1135011.771008591,
          1135549.4273381392,
          1136082.2191415993,
          1136610.2029104156,
          1137133.4348838793,
          1137651.971044284,
          1138165.8671147213,
          1138675.1785579706,
          1139179.9605724004,
          1139680.2680888225,
          1140176.1557657293,
          1140667.6779889392,
          1141154.8888680432,
          1141637.8422349878,
          1142116.5916376587,
          1142591.1903379431,
          1143061.6913114302,
          1143528.1472429875,
          1143990.610526082,
          1144449.1332559485,
          1144903.7672279961,
          1145354.563937727,
          1145801.5745767837,
          1146244.8500313407,
          1146684.4408767668,
          1147120.3973754223,
          1147552.7694765,
          1147981.6068125444,
          1148406.9586971453,
          1148828.8741205116,
          1149247.401748396,
          1149662.5899207415,
          1150074.4866485402,
          1150483.1396105944,
          1150888.5961506001,
          1151290.9032766116,
          1151690.1076582866,
          1152086.2556249758,
          1152479.3931609166,
          1152869.565904804,
          1153256.819148082,
          1153641.197832816,
          1154022.74654881,
          1154401.509529478,
          1154777.530651821,
          1155150.8534351422,
          1155521.5210378913,
          1155889.5762560929,
          1156255.061518618,
          1156618.0188870071,
          1156978.4900547983,
          1157336.5163442148,
          1157692.138704553,
          1158045.3977082162,
          1158396.333550423,
          1158744.9860478332,
          1159091.394636316,
          1159435.5983678445,
          1159777.6359086435,
          1160117.5455385542,
          1160455.3651489925,
          1160791.1322405958,
          1161124.8839202703,
          1161456.6569009481,
          1161786.4874994068,
          1162114.411635636,
          1162440.4648283576,
          1162764.6821940094,
          1163087.0984465843,
          1163407.7478950622,
          1163726.6644421648,
          1164043.8815808233,
          1164359.432393405,
          1164673.3495510528,
          1164985.6653115712,
          1165296.4115176082,
          1165605.6195936736,
          1165913.3205460056,
          1166219.5449607072,
          1166524.3230033377,
          1166827.6844152845,
          1167129.6585118284,
          1167430.2741821501,
          1167729.5598877969,
          1168027.5436611802,
          1168324.2531033554,
          1168619.7153813264,
          1168913.95722804,
          1169207.0013037962,
          1169498.8885583947,
          1169789.6865266804,
          1170079.464247953,
          1170368.2917475225,
          1170656.2363194665,
          1170943.3598557012,
          1171229.7211319814,
          1171515.3753259254,
          1171800.3740141476,
          1172084.7651585105,
          1172368.593090233,
          1172651.8985030374,
          1172934.71845202,
          1173217.0863400432,
          1173499.0319042695,
          1173780.5812013291,
          1174061.75660537,
          1174342.5768054577,
          1174623.0567850738,
          1174903.2078158963,
          1175183.0374395507,
          1175462.549465189,
          1175741.7439689923,
          1176020.617276616,
          1176299.161946611,
          1176577.3667606341,
          1176855.2167201699,
          1177132.6930414506,
          1177409.7731372127,
          1177686.430603268,
          1177962.6352114296,
          1178238.3529067468,
          1178513.545788819,
          1178788.1721074432,
          1179062.1862403068,
          1179335.5386902238,
          1179608.176081618,
          1179880.041141445,
          1180151.0726902431,
          1180421.2056246556,
          1180690.3709160923,
          1180958.4956085084,
          1181225.5027855975,
          1181491.311574426,
          1181755.837126029,
          1182018.9906086058,
          1182280.679033122,
          1182540.8051657013,
          1182799.2693448635,
          1183055.969957796,
          1183310.8130113902,
          1183563.7857247193,
          1183814.8986435123,
          1184064.1598612892,
          1184311.577469346,
          1184557.1595566818,
          1184800.9142099917,
          1185042.8495134346,
          1185282.9735478244,
          1185521.2943905925,
          1185757.820115776,
          1185992.5587940116,
          1186225.518492185,
          1186456.707272748,
          1186686.1331936412,
          1186913.804308291,
          1187139.7286656203,
          1187363.9143092926,
          1187586.369277441,
          1187807.101602623,
          1188026.1193118338,
          1188243.4304262155,
          1188459.042960302,
          1188672.9649219688,
          1188885.2043123336,
          1189095.7691258278,
          1189304.6673498114,
          1189511.9069637577,
          1189717.4959392177,
          1189921.4422398151,
          1190123.7538212736,
          1190324.4386309618,
          1190523.5046072137,
          1190720.9596792813,
          1190916.8117673406,
          1191111.068782482,
          1191303.738625899,
          1191494.829188676,
          1191684.3483517324,
          1191872.3039858893,
          1192058.7039514724,
          1192243.5560976218,
          1192426.8682622635,
          1192608.648272011,
          1192788.9039422926,
          1192967.6430768443,
          1193144.873467005,
          1193320.6028916973,
          1193494.839117437,
          1193667.5898983835,
          1193838.8629758172,
          1194008.666077556,
          1194177.0069179328,
          1194343.8931978298,
          1194509.3326046234,
          1194673.3328114343,
          1194835.9014769595,
          1194997.0462454297,
          1195156.7747467102,
          1195315.0945958584,
          1195472.013392548,
          1195627.5387210574,
          1195781.6781501763,
          1195934.4392333855,
          1196085.8295082832,
          1196235.8564960354,
          1196384.5277013688,
          1196531.8506125861,
          1196677.8327016542,
          1196822.4814236439,
          1196965.8042162878,
          1197107.808499966,
          1197248.5016777834,
          1197387.891135472,
          1197525.9842407352,
          1197662.788343146,
          1197798.310774117,
          1197932.5588470225,
          1198065.5398567456,
          1198197.2610792434,
          1198327.7297715414,
          1198456.9531716728,
          1198584.9384988695,
          1198711.6929529847,
          1198837.2237140988,
          1198961.5379425306,
          1199084.6427788502,
          1199206.5453440088,
          1199327.2527387745,
          1199446.7720434295,
          1199565.110317765,
          1199682.274601206,
          1199798.271912664,
          1199913.109250017,
          1200026.7935900579,
          1200139.3318884792,
          1200250.731080012,
          1200360.9980779854,
          1200470.13977404,
          1200578.1630381187,
          1200685.0747184479,
          1200790.8816417137,
          1200895.5906125342,
          1200999.2084132105,
          1201101.7418037239,
          1201203.1975217597,
          1201303.5822829132,
          1201402.9027801792,
          1201501.1656836565,
          1201598.3776405526,
          1201694.5452752921,
          1201789.6751896918,
          1201883.7739623464,
          1201976.8481485122,
          1202068.9042801156,
          1202159.9488659962,
          1202249.988391617,
          1202339.0293187536,
          1202427.0780854952,
          1202514.1411063133,
          1202600.2247721083,
          1202685.3354498085,
          1202769.4794823262,
          1202852.6631885266,
          1202934.8928633612,
          1203016.1747777662,
          1203096.5151783207,
          1203175.9202872214,
          1203254.3963022905,
          1203331.9493971018,
          1203408.5857209542,
          1203484.3113984629,
          1203559.1325295279,
          1203633.0551893343,
          1203706.0854285937,
          1203778.2292734713,
          1203849.4927251763,
          1203919.8817599358,
          1203989.4023290544,
          1204058.0603592326,
          1204125.8617521608,
          1204192.8123844056,
          1204258.9181074158,
          1204324.1847477113,
          1204388.6181067827,
          1204452.2239608872,
          1204515.0080610507,
          1204576.9761331093,
          1204638.1338778292,
          1204698.4869706954,
          1204758.0410618472,
          1204816.801776073,
          1204874.7747128683,
          1204931.96544658,
          1204988.3795261693,
          1205044.0224751465,
          1205098.8997915532,
          1205153.016948054,
          1205206.3793921564,
          1205258.9925458925,
          1205310.8618057861,
          1205361.992542864,
          1205412.3901028796,
          1205462.0598062,
          1205511.0069476962,
          1205559.2367967677,
          1205606.7545974036,
          1205653.5655682876,
          1205699.6749026487,
          1205745.087768273,
          1205789.8093074954,
          1205833.844637303,
          1205877.198849418,
          1205919.8770101601,
          1205961.884160441,
          1206003.225315763,
          1206043.9054663214,
          1206083.9295772086,
          1206123.3025881485,
          1206162.029413537,
          1206200.1149424575,
          1206237.564038919,
          1206274.3815417348,
          1206310.572264507,
          1206346.140995644,
          1206381.092498467,
          1206415.4315112727,
          1206449.162747278,
          1206482.2908946525,
          1206514.820616519,
          1206546.7565510874,
          1206578.10331171,
          1206608.8654868226,
          1206639.047639974,
          1206668.6543098288,
          1206697.6900102932,
          1206726.1592307023,
          1206754.066435616,
          1206781.416064885,
          1206808.2125336928,
          1206834.4602327934,
          1206860.1635283902,
          1206885.3267621966,
          1206909.9542514437,
          1206934.0502890265,
          1206957.619143526,
          1206980.6650592326,
          1207003.1922562001,
          1207025.2049302466,
          1207046.7072531164,
          1207067.7033725013,
          1207088.1974120643,
          1207108.1934714827,
          1207127.6956264488,
          1207146.7079288405,
          1207165.234406854,
          1207183.2790648807,
          1207200.8458835862,
          1207217.9388199616,
          1207234.5618075687,
          1207250.7187564261,
          1207266.413553104,
          1207281.6500607603,
          1207296.432119276,
          1207310.76354528,
          1207324.6481322232,
          1207338.0896504323,
          1207351.0918471303,
          1207363.6584466149,
          1207375.793150244,
          1207387.4996365348,
          1207398.7815612117,
          1207409.6425572003,
          1207420.0862348392,
          1207430.1161819634,
          1207439.7359638507,
          1207448.949123303,
          1207457.7591807102,
          1207466.1696342912,
          1207474.183959992,
          1207481.8056116137,
          1207489.0380208394,
          1207495.8845974081,
          1207502.3487290952,
          1207508.4337818467,
          1207514.1430998386,
          1207519.480005489,
          1207524.4477996621,
          1207529.0497616313,
          1207533.2891492292,
          1207537.169198886,
          1207540.6931256354,
          1207543.8641233512,
          1207546.685364783,
          1207549.1600015694,
          1207551.2911643041,
          1207553.0819626274,
          1207554.5354854425,
          1207555.654800837,
          1207556.4429562278,
          1207556.9029783837,
          1207557.0378736136,
          1207556.850627736,
          1207556.3442062433,
          1207555.5215543595,
          1207554.3855970586,
          1207552.9392392708,
          1207551.185365845,
          1207549.1268417204,
          1207546.7665119667,
          1207544.107201788,
          1207541.1517167867,
          1207537.9028429615,
          1207534.3633467567,
          1207530.535975131,
          1207526.4234556619,
          1207522.028496736,
          1207517.3537875023,
          1207512.4019980105,
          1207507.1757792393,
          1207501.6777632958,
          1207495.9105633653,
          1207489.87677391,
          1207483.5789707084,
          1207477.0197108884,
          1207470.2015331327,
          1207463.1269576352,
          1207455.7984862917,
          1207448.2186027302,
          1207440.3897723244,
          1207432.3144424711,
          1207423.9950425527,
          1207415.433984028,
          1207406.6336604767,
          1207397.5964477377,
          1207388.324704062,
          1207378.820770089,
          1207369.0869689868,
          1207359.1256064791,
          1207348.9389710403,
          1207338.5293338546,
          1207327.8989490129,
          1207317.0500535455,
          1207305.9848674755,
          1207294.7055939946,
          1207283.2144194492,
          1207271.513513522,
          1207259.6050292463,
          1207247.491103041,
          1207235.1738549916,
          1207222.6553887874,
          1207209.9377918455,
          1207197.0231353252,
          1207183.91347419,
          1207170.6108475728,
          1207157.1172786227,
          1207143.4347746028,
          1207129.5653269272,
          1207115.5109113748,
          1207101.273488192,
          1207086.8550020633,
          1207072.2573822301,
          1207057.4825425541,
          1207042.5323817087,
          1207027.408783158
         ],
         "yaxis": "y"
        },
        {
         "hovertemplate": "year=%{x}<br>population=%{y}<extra></extra>",
         "legendgroup": "",
         "marker": {
          "color": "red",
          "symbol": "circle"
         },
         "mode": "markers",
         "name": "",
         "orientation": "v",
         "showlegend": false,
         "type": "scatter",
         "x": [
          1995,
          1996,
          1997,
          1998,
          1999,
          2000,
          2001,
          2002,
          2003,
          2004,
          2005,
          2006,
          2007,
          2008,
          2009,
          2010,
          2011,
          2012,
          2013,
          2014,
          2015,
          2016,
          2017,
          2018,
          2019
         ],
         "xaxis": "x",
         "y": [
          1041800,
          1061600,
          1081100,
          1101800,
          1123500,
          1133900,
          1145200,
          1155300,
          1164500,
          1174400,
          1182900,
          1188700,
          1195200,
          1201700,
          1207100,
          1205840,
          1204500,
          1203460,
          1202070,
          1200740,
          1199500,
          1198100,
          1197000,
          1195600,
          1194300
         ],
         "yaxis": "y"
        }
       ],
       "layout": {
        "template": {
         "data": {
          "bar": [
           {
            "error_x": {
             "color": "#2a3f5f"
            },
            "error_y": {
             "color": "#2a3f5f"
            },
            "marker": {
             "line": {
              "color": "#E5ECF6",
              "width": 0.5
             },
             "pattern": {
              "fillmode": "overlay",
              "size": 10,
              "solidity": 0.2
             }
            },
            "type": "bar"
           }
          ],
          "barpolar": [
           {
            "marker": {
             "line": {
              "color": "#E5ECF6",
              "width": 0.5
             },
             "pattern": {
              "fillmode": "overlay",
              "size": 10,
              "solidity": 0.2
             }
            },
            "type": "barpolar"
           }
          ],
          "carpet": [
           {
            "aaxis": {
             "endlinecolor": "#2a3f5f",
             "gridcolor": "white",
             "linecolor": "white",
             "minorgridcolor": "white",
             "startlinecolor": "#2a3f5f"
            },
            "baxis": {
             "endlinecolor": "#2a3f5f",
             "gridcolor": "white",
             "linecolor": "white",
             "minorgridcolor": "white",
             "startlinecolor": "#2a3f5f"
            },
            "type": "carpet"
           }
          ],
          "choropleth": [
           {
            "colorbar": {
             "outlinewidth": 0,
             "ticks": ""
            },
            "type": "choropleth"
           }
          ],
          "contour": [
           {
            "colorbar": {
             "outlinewidth": 0,
             "ticks": ""
            },
            "colorscale": [
             [
              0,
              "#0d0887"
             ],
             [
              0.1111111111111111,
              "#46039f"
             ],
             [
              0.2222222222222222,
              "#7201a8"
             ],
             [
              0.3333333333333333,
              "#9c179e"
             ],
             [
              0.4444444444444444,
              "#bd3786"
             ],
             [
              0.5555555555555556,
              "#d8576b"
             ],
             [
              0.6666666666666666,
              "#ed7953"
             ],
             [
              0.7777777777777778,
              "#fb9f3a"
             ],
             [
              0.8888888888888888,
              "#fdca26"
             ],
             [
              1,
              "#f0f921"
             ]
            ],
            "type": "contour"
           }
          ],
          "contourcarpet": [
           {
            "colorbar": {
             "outlinewidth": 0,
             "ticks": ""
            },
            "type": "contourcarpet"
           }
          ],
          "heatmap": [
           {
            "colorbar": {
             "outlinewidth": 0,
             "ticks": ""
            },
            "colorscale": [
             [
              0,
              "#0d0887"
             ],
             [
              0.1111111111111111,
              "#46039f"
             ],
             [
              0.2222222222222222,
              "#7201a8"
             ],
             [
              0.3333333333333333,
              "#9c179e"
             ],
             [
              0.4444444444444444,
              "#bd3786"
             ],
             [
              0.5555555555555556,
              "#d8576b"
             ],
             [
              0.6666666666666666,
              "#ed7953"
             ],
             [
              0.7777777777777778,
              "#fb9f3a"
             ],
             [
              0.8888888888888888,
              "#fdca26"
             ],
             [
              1,
              "#f0f921"
             ]
            ],
            "type": "heatmap"
           }
          ],
          "heatmapgl": [
           {
            "colorbar": {
             "outlinewidth": 0,
             "ticks": ""
            },
            "colorscale": [
             [
              0,
              "#0d0887"
             ],
             [
              0.1111111111111111,
              "#46039f"
             ],
             [
              0.2222222222222222,
              "#7201a8"
             ],
             [
              0.3333333333333333,
              "#9c179e"
             ],
             [
              0.4444444444444444,
              "#bd3786"
             ],
             [
              0.5555555555555556,
              "#d8576b"
             ],
             [
              0.6666666666666666,
              "#ed7953"
             ],
             [
              0.7777777777777778,
              "#fb9f3a"
             ],
             [
              0.8888888888888888,
              "#fdca26"
             ],
             [
              1,
              "#f0f921"
             ]
            ],
            "type": "heatmapgl"
           }
          ],
          "histogram": [
           {
            "marker": {
             "pattern": {
              "fillmode": "overlay",
              "size": 10,
              "solidity": 0.2
             }
            },
            "type": "histogram"
           }
          ],
          "histogram2d": [
           {
            "colorbar": {
             "outlinewidth": 0,
             "ticks": ""
            },
            "colorscale": [
             [
              0,
              "#0d0887"
             ],
             [
              0.1111111111111111,
              "#46039f"
             ],
             [
              0.2222222222222222,
              "#7201a8"
             ],
             [
              0.3333333333333333,
              "#9c179e"
             ],
             [
              0.4444444444444444,
              "#bd3786"
             ],
             [
              0.5555555555555556,
              "#d8576b"
             ],
             [
              0.6666666666666666,
              "#ed7953"
             ],
             [
              0.7777777777777778,
              "#fb9f3a"
             ],
             [
              0.8888888888888888,
              "#fdca26"
             ],
             [
              1,
              "#f0f921"
             ]
            ],
            "type": "histogram2d"
           }
          ],
          "histogram2dcontour": [
           {
            "colorbar": {
             "outlinewidth": 0,
             "ticks": ""
            },
            "colorscale": [
             [
              0,
              "#0d0887"
             ],
             [
              0.1111111111111111,
              "#46039f"
             ],
             [
              0.2222222222222222,
              "#7201a8"
             ],
             [
              0.3333333333333333,
              "#9c179e"
             ],
             [
              0.4444444444444444,
              "#bd3786"
             ],
             [
              0.5555555555555556,
              "#d8576b"
             ],
             [
              0.6666666666666666,
              "#ed7953"
             ],
             [
              0.7777777777777778,
              "#fb9f3a"
             ],
             [
              0.8888888888888888,
              "#fdca26"
             ],
             [
              1,
              "#f0f921"
             ]
            ],
            "type": "histogram2dcontour"
           }
          ],
          "mesh3d": [
           {
            "colorbar": {
             "outlinewidth": 0,
             "ticks": ""
            },
            "type": "mesh3d"
           }
          ],
          "parcoords": [
           {
            "line": {
             "colorbar": {
              "outlinewidth": 0,
              "ticks": ""
             }
            },
            "type": "parcoords"
           }
          ],
          "pie": [
           {
            "automargin": true,
            "type": "pie"
           }
          ],
          "scatter": [
           {
            "fillpattern": {
             "fillmode": "overlay",
             "size": 10,
             "solidity": 0.2
            },
            "type": "scatter"
           }
          ],
          "scatter3d": [
           {
            "line": {
             "colorbar": {
              "outlinewidth": 0,
              "ticks": ""
             }
            },
            "marker": {
             "colorbar": {
              "outlinewidth": 0,
              "ticks": ""
             }
            },
            "type": "scatter3d"
           }
          ],
          "scattercarpet": [
           {
            "marker": {
             "colorbar": {
              "outlinewidth": 0,
              "ticks": ""
             }
            },
            "type": "scattercarpet"
           }
          ],
          "scattergeo": [
           {
            "marker": {
             "colorbar": {
              "outlinewidth": 0,
              "ticks": ""
             }
            },
            "type": "scattergeo"
           }
          ],
          "scattergl": [
           {
            "marker": {
             "colorbar": {
              "outlinewidth": 0,
              "ticks": ""
             }
            },
            "type": "scattergl"
           }
          ],
          "scattermapbox": [
           {
            "marker": {
             "colorbar": {
              "outlinewidth": 0,
              "ticks": ""
             }
            },
            "type": "scattermapbox"
           }
          ],
          "scatterpolar": [
           {
            "marker": {
             "colorbar": {
              "outlinewidth": 0,
              "ticks": ""
             }
            },
            "type": "scatterpolar"
           }
          ],
          "scatterpolargl": [
           {
            "marker": {
             "colorbar": {
              "outlinewidth": 0,
              "ticks": ""
             }
            },
            "type": "scatterpolargl"
           }
          ],
          "scatterternary": [
           {
            "marker": {
             "colorbar": {
              "outlinewidth": 0,
              "ticks": ""
             }
            },
            "type": "scatterternary"
           }
          ],
          "surface": [
           {
            "colorbar": {
             "outlinewidth": 0,
             "ticks": ""
            },
            "colorscale": [
             [
              0,
              "#0d0887"
             ],
             [
              0.1111111111111111,
              "#46039f"
             ],
             [
              0.2222222222222222,
              "#7201a8"
             ],
             [
              0.3333333333333333,
              "#9c179e"
             ],
             [
              0.4444444444444444,
              "#bd3786"
             ],
             [
              0.5555555555555556,
              "#d8576b"
             ],
             [
              0.6666666666666666,
              "#ed7953"
             ],
             [
              0.7777777777777778,
              "#fb9f3a"
             ],
             [
              0.8888888888888888,
              "#fdca26"
             ],
             [
              1,
              "#f0f921"
             ]
            ],
            "type": "surface"
           }
          ],
          "table": [
           {
            "cells": {
             "fill": {
              "color": "#EBF0F8"
             },
             "line": {
              "color": "white"
             }
            },
            "header": {
             "fill": {
              "color": "#C8D4E3"
             },
             "line": {
              "color": "white"
             }
            },
            "type": "table"
           }
          ]
         },
         "layout": {
          "annotationdefaults": {
           "arrowcolor": "#2a3f5f",
           "arrowhead": 0,
           "arrowwidth": 1
          },
          "autotypenumbers": "strict",
          "coloraxis": {
           "colorbar": {
            "outlinewidth": 0,
            "ticks": ""
           }
          },
          "colorscale": {
           "diverging": [
            [
             0,
             "#8e0152"
            ],
            [
             0.1,
             "#c51b7d"
            ],
            [
             0.2,
             "#de77ae"
            ],
            [
             0.3,
             "#f1b6da"
            ],
            [
             0.4,
             "#fde0ef"
            ],
            [
             0.5,
             "#f7f7f7"
            ],
            [
             0.6,
             "#e6f5d0"
            ],
            [
             0.7,
             "#b8e186"
            ],
            [
             0.8,
             "#7fbc41"
            ],
            [
             0.9,
             "#4d9221"
            ],
            [
             1,
             "#276419"
            ]
           ],
           "sequential": [
            [
             0,
             "#0d0887"
            ],
            [
             0.1111111111111111,
             "#46039f"
            ],
            [
             0.2222222222222222,
             "#7201a8"
            ],
            [
             0.3333333333333333,
             "#9c179e"
            ],
            [
             0.4444444444444444,
             "#bd3786"
            ],
            [
             0.5555555555555556,
             "#d8576b"
            ],
            [
             0.6666666666666666,
             "#ed7953"
            ],
            [
             0.7777777777777778,
             "#fb9f3a"
            ],
            [
             0.8888888888888888,
             "#fdca26"
            ],
            [
             1,
             "#f0f921"
            ]
           ],
           "sequentialminus": [
            [
             0,
             "#0d0887"
            ],
            [
             0.1111111111111111,
             "#46039f"
            ],
            [
             0.2222222222222222,
             "#7201a8"
            ],
            [
             0.3333333333333333,
             "#9c179e"
            ],
            [
             0.4444444444444444,
             "#bd3786"
            ],
            [
             0.5555555555555556,
             "#d8576b"
            ],
            [
             0.6666666666666666,
             "#ed7953"
            ],
            [
             0.7777777777777778,
             "#fb9f3a"
            ],
            [
             0.8888888888888888,
             "#fdca26"
            ],
            [
             1,
             "#f0f921"
            ]
           ]
          },
          "colorway": [
           "#636efa",
           "#EF553B",
           "#00cc96",
           "#ab63fa",
           "#FFA15A",
           "#19d3f3",
           "#FF6692",
           "#B6E880",
           "#FF97FF",
           "#FECB52"
          ],
          "font": {
           "color": "#2a3f5f"
          },
          "geo": {
           "bgcolor": "white",
           "lakecolor": "white",
           "landcolor": "#E5ECF6",
           "showlakes": true,
           "showland": true,
           "subunitcolor": "white"
          },
          "hoverlabel": {
           "align": "left"
          },
          "hovermode": "closest",
          "mapbox": {
           "style": "light"
          },
          "paper_bgcolor": "white",
          "plot_bgcolor": "#E5ECF6",
          "polar": {
           "angularaxis": {
            "gridcolor": "white",
            "linecolor": "white",
            "ticks": ""
           },
           "bgcolor": "#E5ECF6",
           "radialaxis": {
            "gridcolor": "white",
            "linecolor": "white",
            "ticks": ""
           }
          },
          "scene": {
           "xaxis": {
            "backgroundcolor": "#E5ECF6",
            "gridcolor": "white",
            "gridwidth": 2,
            "linecolor": "white",
            "showbackground": true,
            "ticks": "",
            "zerolinecolor": "white"
           },
           "yaxis": {
            "backgroundcolor": "#E5ECF6",
            "gridcolor": "white",
            "gridwidth": 2,
            "linecolor": "white",
            "showbackground": true,
            "ticks": "",
            "zerolinecolor": "white"
           },
           "zaxis": {
            "backgroundcolor": "#E5ECF6",
            "gridcolor": "white",
            "gridwidth": 2,
            "linecolor": "white",
            "showbackground": true,
            "ticks": "",
            "zerolinecolor": "white"
           }
          },
          "shapedefaults": {
           "line": {
            "color": "#2a3f5f"
           }
          },
          "ternary": {
           "aaxis": {
            "gridcolor": "white",
            "linecolor": "white",
            "ticks": ""
           },
           "baxis": {
            "gridcolor": "white",
            "linecolor": "white",
            "ticks": ""
           },
           "bgcolor": "#E5ECF6",
           "caxis": {
            "gridcolor": "white",
            "linecolor": "white",
            "ticks": ""
           }
          },
          "title": {
           "x": 0.05
          },
          "xaxis": {
           "automargin": true,
           "gridcolor": "white",
           "linecolor": "white",
           "ticks": "",
           "title": {
            "standoff": 15
           },
           "zerolinecolor": "white",
           "zerolinewidth": 2
          },
          "yaxis": {
           "automargin": true,
           "gridcolor": "white",
           "linecolor": "white",
           "ticks": "",
           "title": {
            "standoff": 15
           },
           "zerolinecolor": "white",
           "zerolinewidth": 2
          }
         }
        },
        "title": {
         "text": "Modelled vs Data",
         "x": 0.5
        },
        "xaxis": {
         "title": {
          "text": "Year"
         }
        },
        "yaxis": {
         "title": {
          "text": "Population"
         }
        }
       }
      }
     },
     "metadata": {},
     "output_type": "display_data"
    }
   ],
   "source": [
    "fig2_1 = px.line(\n",
    "    derived_df_0,\n",
    "    x=derived_df_0.index,\n",
    "    y=\"total_population\",\n",
    ")\n",
    "fig2_2 = px.scatter(pop_df.reset_index(), x=\"year\", y=\"population\")\n",
    "fig2_2.update_traces(marker=dict(color=\"red\"))\n",
    "fig2_3 = go.Figure(\n",
    "    data=fig2_1.data + fig2_2.data,\n",
    ")\n",
    "fig2_3.update_layout(\n",
    "    title=\"Modelled vs Data\", title_x=0.5, xaxis_title=\"Year\", yaxis_title=\"Population\"\n",
    ")\n",
    "fig2_3.show()"
   ]
  },
  {
   "cell_type": "code",
   "execution_count": 10,
   "metadata": {},
   "outputs": [
    {
     "data": {
      "application/vnd.plotly.v1+json": {
       "config": {
        "plotlyServerURL": "https://plot.ly"
       },
       "data": [
        {
         "hovertemplate": "variable=incidence<br>index=%{x}<br>value=%{y}<extra></extra>",
         "legendgroup": "incidence",
         "line": {
          "color": "#636efa",
          "dash": "solid"
         },
         "marker": {
          "symbol": "circle"
         },
         "mode": "lines",
         "name": "incidence",
         "showlegend": true,
         "type": "scattergl",
         "x": [
          1900,
          1900.1,
          1900.2,
          1900.3,
          1900.4,
          1900.5,
          1900.6,
          1900.7,
          1900.8,
          1900.9,
          1901,
          1901.1,
          1901.2,
          1901.3,
          1901.4,
          1901.5,
          1901.6,
          1901.7,
          1901.8,
          1901.9,
          1902,
          1902.1,
          1902.2,
          1902.3,
          1902.4,
          1902.5,
          1902.6,
          1902.7,
          1902.8,
          1902.9,
          1903,
          1903.1,
          1903.2,
          1903.3,
          1903.4,
          1903.5,
          1903.6,
          1903.7,
          1903.8,
          1903.9,
          1904,
          1904.1,
          1904.2,
          1904.3,
          1904.4,
          1904.5,
          1904.6,
          1904.7,
          1904.8,
          1904.9,
          1905,
          1905.1,
          1905.2,
          1905.3,
          1905.4,
          1905.5,
          1905.6,
          1905.7,
          1905.8,
          1905.9,
          1906,
          1906.1,
          1906.2,
          1906.3,
          1906.4,
          1906.5,
          1906.6,
          1906.7,
          1906.8,
          1906.9,
          1907,
          1907.1,
          1907.2,
          1907.3,
          1907.4,
          1907.5,
          1907.6,
          1907.7,
          1907.8,
          1907.9,
          1908,
          1908.1,
          1908.2,
          1908.3,
          1908.4,
          1908.5,
          1908.6,
          1908.7,
          1908.8,
          1908.9,
          1909,
          1909.1,
          1909.2,
          1909.3,
          1909.4,
          1909.5,
          1909.6,
          1909.7,
          1909.8,
          1909.9,
          1910,
          1910.1,
          1910.2,
          1910.3,
          1910.4,
          1910.5,
          1910.6,
          1910.7,
          1910.8,
          1910.9,
          1911,
          1911.1,
          1911.2,
          1911.3,
          1911.4,
          1911.5,
          1911.6,
          1911.7,
          1911.8,
          1911.9,
          1912,
          1912.1,
          1912.2,
          1912.3,
          1912.4,
          1912.5,
          1912.6,
          1912.7,
          1912.8,
          1912.9,
          1913,
          1913.1,
          1913.2,
          1913.3,
          1913.4,
          1913.5,
          1913.6,
          1913.7,
          1913.8,
          1913.9,
          1914,
          1914.1,
          1914.2,
          1914.3,
          1914.4,
          1914.5,
          1914.6,
          1914.7,
          1914.8,
          1914.9,
          1915,
          1915.1,
          1915.2,
          1915.3,
          1915.4,
          1915.5,
          1915.6,
          1915.7,
          1915.8,
          1915.9,
          1916,
          1916.1,
          1916.2,
          1916.3,
          1916.4,
          1916.5,
          1916.6,
          1916.7,
          1916.8,
          1916.9,
          1917,
          1917.1,
          1917.2,
          1917.3,
          1917.4,
          1917.5,
          1917.6,
          1917.7,
          1917.8,
          1917.9,
          1918,
          1918.1,
          1918.2,
          1918.3,
          1918.4,
          1918.5,
          1918.6,
          1918.7,
          1918.8,
          1918.9,
          1919,
          1919.1,
          1919.2,
          1919.3,
          1919.4,
          1919.5,
          1919.6,
          1919.7,
          1919.8,
          1919.9,
          1920,
          1920.1,
          1920.2,
          1920.3,
          1920.4,
          1920.5,
          1920.6,
          1920.7,
          1920.8,
          1920.9,
          1921,
          1921.1,
          1921.2,
          1921.3,
          1921.4,
          1921.5,
          1921.6,
          1921.7,
          1921.8,
          1921.9,
          1922,
          1922.1,
          1922.2,
          1922.3,
          1922.4,
          1922.5,
          1922.6,
          1922.7,
          1922.8,
          1922.9,
          1923,
          1923.1,
          1923.2,
          1923.3,
          1923.4,
          1923.5,
          1923.6,
          1923.7,
          1923.8,
          1923.9,
          1924,
          1924.1,
          1924.2,
          1924.3,
          1924.4,
          1924.5,
          1924.6,
          1924.7,
          1924.8,
          1924.9,
          1925,
          1925.1,
          1925.2,
          1925.3,
          1925.4,
          1925.5,
          1925.6,
          1925.7,
          1925.8,
          1925.9,
          1926,
          1926.1,
          1926.2,
          1926.3,
          1926.4,
          1926.5,
          1926.6,
          1926.7,
          1926.8,
          1926.9,
          1927,
          1927.1,
          1927.2,
          1927.3,
          1927.4,
          1927.5,
          1927.6,
          1927.7,
          1927.8,
          1927.9,
          1928,
          1928.1,
          1928.2,
          1928.3,
          1928.4,
          1928.5,
          1928.6,
          1928.7,
          1928.8,
          1928.9,
          1929,
          1929.1,
          1929.2,
          1929.3,
          1929.4,
          1929.5,
          1929.6,
          1929.7,
          1929.8,
          1929.9,
          1930,
          1930.1,
          1930.2,
          1930.3,
          1930.4,
          1930.5,
          1930.6,
          1930.7,
          1930.8,
          1930.9,
          1931,
          1931.1,
          1931.2,
          1931.3,
          1931.4,
          1931.5,
          1931.6,
          1931.7,
          1931.8,
          1931.9,
          1932,
          1932.1,
          1932.2,
          1932.3,
          1932.4,
          1932.5,
          1932.6,
          1932.7,
          1932.8,
          1932.9,
          1933,
          1933.1,
          1933.2,
          1933.3,
          1933.4,
          1933.5,
          1933.6,
          1933.7,
          1933.8,
          1933.9,
          1934,
          1934.1,
          1934.2,
          1934.3,
          1934.4,
          1934.5,
          1934.6,
          1934.7,
          1934.8,
          1934.9,
          1935,
          1935.1,
          1935.2,
          1935.3,
          1935.4,
          1935.5,
          1935.6,
          1935.7,
          1935.8,
          1935.9,
          1936,
          1936.1,
          1936.2,
          1936.3,
          1936.4,
          1936.5,
          1936.6,
          1936.7,
          1936.8,
          1936.9,
          1937,
          1937.1,
          1937.2,
          1937.3,
          1937.4,
          1937.5,
          1937.6,
          1937.7,
          1937.8,
          1937.9,
          1938,
          1938.1,
          1938.2,
          1938.3,
          1938.4,
          1938.5,
          1938.6,
          1938.7,
          1938.8,
          1938.9,
          1939,
          1939.1,
          1939.2,
          1939.3,
          1939.4,
          1939.5,
          1939.6,
          1939.7,
          1939.8,
          1939.9,
          1940,
          1940.1,
          1940.2,
          1940.3,
          1940.4,
          1940.5,
          1940.6,
          1940.7,
          1940.8,
          1940.9,
          1941,
          1941.1,
          1941.2,
          1941.3,
          1941.4,
          1941.5,
          1941.6,
          1941.7,
          1941.8,
          1941.9,
          1942,
          1942.1,
          1942.2,
          1942.3,
          1942.4,
          1942.5,
          1942.6,
          1942.7,
          1942.8,
          1942.9,
          1943,
          1943.1,
          1943.2,
          1943.3,
          1943.4,
          1943.5,
          1943.6,
          1943.7,
          1943.8,
          1943.9,
          1944,
          1944.1,
          1944.2,
          1944.3,
          1944.4,
          1944.5,
          1944.6,
          1944.7,
          1944.8,
          1944.9,
          1945,
          1945.1,
          1945.2,
          1945.3,
          1945.4,
          1945.5,
          1945.6,
          1945.7,
          1945.8,
          1945.9,
          1946,
          1946.1,
          1946.2,
          1946.3,
          1946.4,
          1946.5,
          1946.6,
          1946.7,
          1946.8,
          1946.9,
          1947,
          1947.1,
          1947.2,
          1947.3,
          1947.4,
          1947.5,
          1947.6,
          1947.7,
          1947.8,
          1947.9,
          1948,
          1948.1,
          1948.2,
          1948.3,
          1948.4,
          1948.5,
          1948.6,
          1948.7,
          1948.8,
          1948.9,
          1949,
          1949.1,
          1949.2,
          1949.3,
          1949.4,
          1949.5,
          1949.6,
          1949.7,
          1949.8,
          1949.9,
          1950,
          1950.1,
          1950.2,
          1950.3,
          1950.4,
          1950.5,
          1950.6,
          1950.7,
          1950.8,
          1950.9,
          1951,
          1951.1,
          1951.2,
          1951.3,
          1951.4,
          1951.5,
          1951.6,
          1951.7,
          1951.8,
          1951.9,
          1952,
          1952.1,
          1952.2,
          1952.3,
          1952.4,
          1952.5,
          1952.6,
          1952.7,
          1952.8,
          1952.9,
          1953,
          1953.1,
          1953.2,
          1953.3,
          1953.4,
          1953.5,
          1953.6,
          1953.7,
          1953.8,
          1953.9,
          1954,
          1954.1,
          1954.2,
          1954.3,
          1954.4,
          1954.5,
          1954.6,
          1954.7,
          1954.8,
          1954.9,
          1955,
          1955.1,
          1955.2,
          1955.3,
          1955.4,
          1955.5,
          1955.6,
          1955.7,
          1955.8,
          1955.9,
          1956,
          1956.1,
          1956.2,
          1956.3,
          1956.4,
          1956.5,
          1956.6,
          1956.7,
          1956.8,
          1956.9,
          1957,
          1957.1,
          1957.2,
          1957.3,
          1957.4,
          1957.5,
          1957.6,
          1957.7,
          1957.8,
          1957.9,
          1958,
          1958.1,
          1958.2,
          1958.3,
          1958.4,
          1958.5,
          1958.6,
          1958.7,
          1958.8,
          1958.9,
          1959,
          1959.1,
          1959.2,
          1959.3,
          1959.4,
          1959.5,
          1959.6,
          1959.7,
          1959.8,
          1959.9,
          1960,
          1960.1,
          1960.2,
          1960.3,
          1960.4,
          1960.5,
          1960.6,
          1960.7,
          1960.8,
          1960.9,
          1961,
          1961.1,
          1961.2,
          1961.3,
          1961.4,
          1961.5,
          1961.6,
          1961.7,
          1961.8,
          1961.9,
          1962,
          1962.1,
          1962.2,
          1962.3,
          1962.4,
          1962.5,
          1962.6,
          1962.7,
          1962.8,
          1962.9,
          1963,
          1963.1,
          1963.2,
          1963.3,
          1963.4,
          1963.5,
          1963.6,
          1963.7,
          1963.8,
          1963.9,
          1964,
          1964.1,
          1964.2,
          1964.3,
          1964.4,
          1964.5,
          1964.6,
          1964.7,
          1964.8,
          1964.9,
          1965,
          1965.1,
          1965.2,
          1965.3,
          1965.4,
          1965.5,
          1965.6,
          1965.7,
          1965.8,
          1965.9,
          1966,
          1966.1,
          1966.2,
          1966.3,
          1966.4,
          1966.5,
          1966.6,
          1966.7,
          1966.8,
          1966.9,
          1967,
          1967.1,
          1967.2,
          1967.3,
          1967.4,
          1967.5,
          1967.6,
          1967.7,
          1967.8,
          1967.9,
          1968,
          1968.1,
          1968.2,
          1968.3,
          1968.4,
          1968.5,
          1968.6,
          1968.7,
          1968.8,
          1968.9,
          1969,
          1969.1,
          1969.2,
          1969.3,
          1969.4,
          1969.5,
          1969.6,
          1969.7,
          1969.8,
          1969.9,
          1970,
          1970.1,
          1970.2,
          1970.3,
          1970.4,
          1970.5,
          1970.6,
          1970.7,
          1970.8,
          1970.9,
          1971,
          1971.1,
          1971.2,
          1971.3,
          1971.4,
          1971.5,
          1971.6,
          1971.7,
          1971.8,
          1971.9,
          1972,
          1972.1,
          1972.2,
          1972.3,
          1972.4,
          1972.5,
          1972.6,
          1972.7,
          1972.8,
          1972.9,
          1973,
          1973.1,
          1973.2,
          1973.3,
          1973.4,
          1973.5,
          1973.6,
          1973.7,
          1973.8,
          1973.9,
          1974,
          1974.1,
          1974.2,
          1974.3,
          1974.4,
          1974.5,
          1974.6,
          1974.7,
          1974.8,
          1974.9,
          1975,
          1975.1,
          1975.2,
          1975.3,
          1975.4,
          1975.5,
          1975.6,
          1975.7,
          1975.8,
          1975.9,
          1976,
          1976.1,
          1976.2,
          1976.3,
          1976.4,
          1976.5,
          1976.6,
          1976.7,
          1976.8,
          1976.9,
          1977,
          1977.1,
          1977.2,
          1977.3,
          1977.4,
          1977.5,
          1977.6,
          1977.7,
          1977.8,
          1977.9,
          1978,
          1978.1,
          1978.2,
          1978.3,
          1978.4,
          1978.5,
          1978.6,
          1978.7,
          1978.8,
          1978.9,
          1979,
          1979.1,
          1979.2,
          1979.3,
          1979.4,
          1979.5,
          1979.6,
          1979.7,
          1979.8,
          1979.9,
          1980,
          1980.1,
          1980.2,
          1980.3,
          1980.4,
          1980.5,
          1980.6,
          1980.7,
          1980.8,
          1980.9,
          1981,
          1981.1,
          1981.2,
          1981.3,
          1981.4,
          1981.5,
          1981.6,
          1981.7,
          1981.8,
          1981.9,
          1982,
          1982.1,
          1982.2,
          1982.3,
          1982.4,
          1982.5,
          1982.6,
          1982.7,
          1982.8,
          1982.9,
          1983,
          1983.1,
          1983.2,
          1983.3,
          1983.4,
          1983.5,
          1983.6,
          1983.7,
          1983.8,
          1983.9,
          1984,
          1984.1,
          1984.2,
          1984.3,
          1984.4,
          1984.5,
          1984.6,
          1984.7,
          1984.8,
          1984.9,
          1985,
          1985.1,
          1985.2,
          1985.3,
          1985.4,
          1985.5,
          1985.6,
          1985.7,
          1985.8,
          1985.9,
          1986,
          1986.1,
          1986.2,
          1986.3,
          1986.4,
          1986.5,
          1986.6,
          1986.7,
          1986.8,
          1986.9,
          1987,
          1987.1,
          1987.2,
          1987.3,
          1987.4,
          1987.5,
          1987.6,
          1987.7,
          1987.8,
          1987.9,
          1988,
          1988.1,
          1988.2,
          1988.3,
          1988.4,
          1988.5,
          1988.6,
          1988.7,
          1988.8,
          1988.9,
          1989,
          1989.1,
          1989.2,
          1989.3,
          1989.4,
          1989.5,
          1989.6,
          1989.7,
          1989.8,
          1989.9,
          1990,
          1990.1,
          1990.2,
          1990.3,
          1990.4,
          1990.5,
          1990.6,
          1990.7,
          1990.8,
          1990.9,
          1991,
          1991.1,
          1991.2,
          1991.3,
          1991.4,
          1991.5,
          1991.6,
          1991.7,
          1991.8,
          1991.9,
          1992,
          1992.1,
          1992.2,
          1992.3,
          1992.4,
          1992.5,
          1992.6,
          1992.7,
          1992.8,
          1992.9,
          1993,
          1993.1,
          1993.2,
          1993.3,
          1993.4,
          1993.5,
          1993.6,
          1993.7,
          1993.8,
          1993.9,
          1994,
          1994.1,
          1994.2,
          1994.3,
          1994.4,
          1994.5,
          1994.6,
          1994.7,
          1994.8,
          1994.9,
          1995,
          1995.1,
          1995.2,
          1995.3,
          1995.4,
          1995.5,
          1995.6,
          1995.7,
          1995.8,
          1995.9,
          1996,
          1996.1,
          1996.2,
          1996.3,
          1996.4,
          1996.5,
          1996.6,
          1996.7,
          1996.8,
          1996.9,
          1997,
          1997.1,
          1997.2,
          1997.3,
          1997.4,
          1997.5,
          1997.6,
          1997.7,
          1997.8,
          1997.9,
          1998,
          1998.1,
          1998.2,
          1998.3,
          1998.4,
          1998.5,
          1998.6,
          1998.7,
          1998.8,
          1998.9,
          1999,
          1999.1,
          1999.2,
          1999.3,
          1999.4,
          1999.5,
          1999.6,
          1999.7,
          1999.8,
          1999.9,
          2000,
          2000.1,
          2000.2,
          2000.3,
          2000.4,
          2000.5,
          2000.6,
          2000.7,
          2000.8,
          2000.9,
          2001,
          2001.1,
          2001.2,
          2001.3,
          2001.4,
          2001.5,
          2001.6,
          2001.7,
          2001.8,
          2001.9,
          2002,
          2002.1,
          2002.2,
          2002.3,
          2002.4,
          2002.5,
          2002.6,
          2002.7,
          2002.8,
          2002.9,
          2003,
          2003.1,
          2003.2,
          2003.3,
          2003.4,
          2003.5,
          2003.6,
          2003.7,
          2003.8,
          2003.9,
          2004,
          2004.1,
          2004.2,
          2004.3,
          2004.4,
          2004.5,
          2004.6,
          2004.7,
          2004.8,
          2004.9,
          2005,
          2005.1,
          2005.2,
          2005.3,
          2005.4,
          2005.5,
          2005.6,
          2005.7,
          2005.8,
          2005.9,
          2006,
          2006.1,
          2006.2,
          2006.3,
          2006.4,
          2006.5,
          2006.6,
          2006.7,
          2006.8,
          2006.9,
          2007,
          2007.1,
          2007.2,
          2007.3,
          2007.4,
          2007.5,
          2007.6,
          2007.7,
          2007.8,
          2007.9,
          2008,
          2008.1,
          2008.2,
          2008.3,
          2008.4,
          2008.5,
          2008.6,
          2008.7,
          2008.8,
          2008.9,
          2009,
          2009.1,
          2009.2,
          2009.3,
          2009.4,
          2009.5,
          2009.6,
          2009.7,
          2009.8,
          2009.9,
          2010,
          2010.1,
          2010.2,
          2010.3,
          2010.4,
          2010.5,
          2010.6,
          2010.7,
          2010.8,
          2010.9,
          2011,
          2011.1,
          2011.2,
          2011.3,
          2011.4,
          2011.5,
          2011.6,
          2011.7,
          2011.8,
          2011.9,
          2012,
          2012.1,
          2012.2,
          2012.3,
          2012.4,
          2012.5,
          2012.6,
          2012.7,
          2012.8,
          2012.9,
          2013,
          2013.1,
          2013.2,
          2013.3,
          2013.4,
          2013.5,
          2013.6,
          2013.7,
          2013.8,
          2013.9,
          2014,
          2014.1,
          2014.2,
          2014.3,
          2014.4,
          2014.5,
          2014.6,
          2014.7,
          2014.8,
          2014.9,
          2015,
          2015.1,
          2015.2,
          2015.3,
          2015.4,
          2015.5,
          2015.6,
          2015.7,
          2015.8,
          2015.9,
          2016,
          2016.1,
          2016.2,
          2016.3,
          2016.4,
          2016.5,
          2016.6,
          2016.7,
          2016.8,
          2016.9,
          2017,
          2017.1,
          2017.2,
          2017.3,
          2017.4,
          2017.5,
          2017.6,
          2017.7,
          2017.8,
          2017.9,
          2018,
          2018.1,
          2018.2,
          2018.3,
          2018.4,
          2018.5,
          2018.6,
          2018.7,
          2018.8,
          2018.9,
          2019,
          2019.1,
          2019.2,
          2019.3,
          2019.4,
          2019.5,
          2019.6,
          2019.7,
          2019.8,
          2019.9,
          2020,
          2020.1,
          2020.2,
          2020.3,
          2020.4,
          2020.5,
          2020.6,
          2020.7,
          2020.8,
          2020.9,
          2021,
          2021.1,
          2021.2,
          2021.3,
          2021.4,
          2021.5,
          2021.6,
          2021.7,
          2021.8,
          2021.9,
          2022,
          2022.1,
          2022.2,
          2022.3,
          2022.4,
          2022.5,
          2022.6,
          2022.7,
          2022.8,
          2022.9,
          2023,
          2023.1,
          2023.2,
          2023.3,
          2023.4,
          2023.5,
          2023.6,
          2023.7,
          2023.8,
          2023.9,
          2024,
          2024.1,
          2024.2,
          2024.3,
          2024.4,
          2024.5,
          2024.6,
          2024.7,
          2024.8,
          2024.9,
          2025,
          2025.1,
          2025.2,
          2025.3,
          2025.4,
          2025.5,
          2025.6,
          2025.7,
          2025.8,
          2025.9,
          2026,
          2026.1,
          2026.2,
          2026.3,
          2026.4,
          2026.5,
          2026.6,
          2026.7,
          2026.8,
          2026.9,
          2027,
          2027.1,
          2027.2,
          2027.3,
          2027.4,
          2027.5,
          2027.6,
          2027.7,
          2027.8,
          2027.9,
          2028,
          2028.1,
          2028.2,
          2028.3,
          2028.4,
          2028.5,
          2028.6,
          2028.7,
          2028.8,
          2028.9,
          2029,
          2029.1,
          2029.2,
          2029.3,
          2029.4,
          2029.5,
          2029.6,
          2029.7,
          2029.8,
          2029.9,
          2030,
          2030.1,
          2030.2,
          2030.3,
          2030.4,
          2030.5,
          2030.6,
          2030.7,
          2030.8,
          2030.9,
          2031,
          2031.1,
          2031.2,
          2031.3,
          2031.4,
          2031.5,
          2031.6,
          2031.7,
          2031.8,
          2031.9,
          2032,
          2032.1,
          2032.2,
          2032.3,
          2032.4,
          2032.5,
          2032.6,
          2032.7,
          2032.8,
          2032.9,
          2033,
          2033.1,
          2033.2,
          2033.3,
          2033.4,
          2033.5,
          2033.6,
          2033.7,
          2033.8,
          2033.9,
          2034,
          2034.1,
          2034.2,
          2034.3,
          2034.4,
          2034.5,
          2034.6,
          2034.7,
          2034.8,
          2034.9,
          2035,
          2035.1,
          2035.2,
          2035.3,
          2035.4,
          2035.5,
          2035.6,
          2035.7,
          2035.8,
          2035.9,
          2036,
          2036.1,
          2036.2,
          2036.3,
          2036.4,
          2036.5,
          2036.6,
          2036.7,
          2036.8,
          2036.9,
          2037,
          2037.1,
          2037.2,
          2037.3,
          2037.4,
          2037.5,
          2037.6,
          2037.7,
          2037.8,
          2037.9,
          2038,
          2038.1,
          2038.2,
          2038.3,
          2038.4,
          2038.5,
          2038.6,
          2038.7,
          2038.8,
          2038.9,
          2039,
          2039.1,
          2039.2,
          2039.3,
          2039.4,
          2039.5,
          2039.6,
          2039.7,
          2039.8,
          2039.9,
          2040,
          2040.1,
          2040.2,
          2040.3,
          2040.4,
          2040.5,
          2040.6,
          2040.7,
          2040.8,
          2040.9,
          2041,
          2041.1,
          2041.2,
          2041.3,
          2041.4,
          2041.5,
          2041.6,
          2041.7,
          2041.8,
          2041.9,
          2042,
          2042.1,
          2042.2,
          2042.3,
          2042.4,
          2042.5,
          2042.6,
          2042.7,
          2042.8,
          2042.9,
          2043,
          2043.1,
          2043.2,
          2043.3,
          2043.4,
          2043.5,
          2043.6,
          2043.7,
          2043.8,
          2043.9,
          2044,
          2044.1,
          2044.2,
          2044.3,
          2044.4,
          2044.5,
          2044.6,
          2044.7,
          2044.8,
          2044.9,
          2045,
          2045.1,
          2045.2,
          2045.3,
          2045.4,
          2045.5,
          2045.6,
          2045.7,
          2045.8,
          2045.9,
          2046,
          2046.1,
          2046.2,
          2046.3,
          2046.4,
          2046.5,
          2046.6,
          2046.7,
          2046.8,
          2046.9,
          2047,
          2047.1,
          2047.2,
          2047.3,
          2047.4,
          2047.5,
          2047.6,
          2047.7,
          2047.8,
          2047.9,
          2048,
          2048.1,
          2048.2,
          2048.3,
          2048.4,
          2048.5,
          2048.6,
          2048.7,
          2048.8,
          2048.9,
          2049,
          2049.1,
          2049.2,
          2049.3,
          2049.4,
          2049.5,
          2049.6,
          2049.7,
          2049.8,
          2049.9,
          2050
         ],
         "xaxis": "x",
         "y": [
          0,
          13.593774050922313,
          27.441217393746186,
          25.039455741611754,
          19.72022825011568,
          14.975717046805935,
          11.386743125678988,
          8.789684200399362,
          6.9124761859495525,
          5.532178349461375,
          4.493117626291804,
          3.691959676464098,
          3.0611335851492893,
          2.5559528540840226,
          2.1462161289533204,
          1.8108390305777904,
          1.534494978157228,
          1.3058464791507494,
          1.11603783379836,
          0.95818718609258,
          0.826755546701282,
          0.7171657061879911,
          0.6258216555402732,
          0.5496037059096851,
          0.485960554462248,
          0.43287563893666986,
          0.3885479300801674,
          0.3514939854099002,
          0.3205326546921312,
          0.29464410785758005,
          0.2729836625325777,
          0.2548434349206621,
          0.23963419387879953,
          0.22687005138064884,
          0.2161345393960813,
          0.2070888498031236,
          0.1994537562190161,
          0.19298625104770814,
          0.18749011587806796,
          0.18280439682730756,
          0.17879015437067983,
          0.17533409484312218,
          0.1723423584366119,
          0.1697358433438286,
          0.16744946122100404,
          0.1654288102243449,
          0.1636286239564922,
          0.16201156018837798,
          0.16054677524184077,
          0.15920774703883409,
          0.1579725381627188,
          0.15682522354525166,
          0.15575002589503692,
          0.15473337382011085,
          0.15376767108875913,
          0.15284272105242144,
          0.15195149002478184,
          0.15109047921564245,
          0.1502511483115697,
          0.14943205389899417,
          0.14863176739075953,
          0.1478418010329693,
          0.14706499030393205,
          0.14629992502384864,
          0.14554043755883597,
          0.14478984273028817,
          0.1440450932129726,
          0.14330533025424042,
          0.1425711537171229,
          0.14183978840713768,
          0.14111331667374782,
          0.1403895271342811,
          0.1396679948378414,
          0.13895152622432333,
          0.13823542356248195,
          0.13752149959711418,
          0.13681294122964233,
          0.1361035319604152,
          0.13539720493466667,
          0.13469499181643607,
          0.133993043095855,
          0.13329446218395544,
          0.13259744875072443,
          0.1319028392330637,
          0.1312109600803998,
          0.13051992453823497,
          0.12983279635283718,
          0.12914720482212774,
          0.12846216447690958,
          0.12778180725154734,
          0.1271029575872326,
          0.1264261366949377,
          0.125752878242121,
          0.12508067616354457,
          0.124411967024297,
          0.12374530587445119,
          0.12308040630465432,
          0.12241986283804179,
          0.12175983160716272,
          0.12110239831668478,
          0.12044993288424098,
          0.11979693674469263,
          0.11914762238060563,
          0.11850263765732204,
          0.11785814423625111,
          0.11721767629193768,
          0.11657939758159179,
          0.11594377401844264,
          0.11531157952870848,
          0.11468077918640981,
          0.11405407540951626,
          0.11342956008784813,
          0.11280656537148286,
          0.11218881930207336,
          0.11157203668379409,
          0.11095708230523121,
          0.110347798587596,
          0.10973892288606266,
          0.10913331777650068,
          0.1085319897871592,
          0.10793201200874938,
          0.10733581463628984,
          0.10674168203550528,
          0.10615073856164296,
          0.1055631307498291,
          0.10497674038734328,
          0.10439497015893143,
          0.10381573274960718,
          0.10323697206427143,
          0.10266401974536174,
          0.10209302880049477,
          0.10152301366893812,
          0.10095847057660913,
          0.100395339129787,
          0.09983522407318586,
          0.09927876098392992,
          0.09872420904638403,
          0.09817327111144981,
          0.0976241127265902,
          0.09707843155998676,
          0.09653617407843895,
          0.09599441262054145,
          0.09545692562505353,
          0.09492297203838929,
          0.09439031122383616,
          0.09386165674574122,
          0.09333502687866403,
          0.09281126282577416,
          0.09229108635296401,
          0.09177195845617096,
          0.09125698970500154,
          0.09074484962545416,
          0.09023342948257809,
          0.0897269987917574,
          0.08922248555398732,
          0.0887194655126441,
          0.08822122569525116,
          0.08772410230293325,
          0.08723007907167765,
          0.08673949483730165,
          0.08625045285950511,
          0.08576504920551148,
          0.0852813578822799,
          0.08480057008170683,
          0.08432330614115337,
          0.08384660531823196,
          0.0833739599866622,
          0.0829045374650732,
          0.0824350892201576,
          0.08197033065394572,
          0.08150806269059502,
          0.08104698213705905,
          0.08059006582640522,
          0.08013455039898319,
          0.07968194157488273,
          0.07923219041114545,
          0.07878410395588588,
          0.07833951393760086,
          0.0778962834118361,
          0.07745572925875104,
          0.07701891336833996,
          0.07658215383383823,
          0.07614889263946835,
          0.07571943915170003,
          0.07528967961829934,
          0.0748638837663392,
          0.07444088367821106,
          0.07401914218709592,
          0.0736008522095194,
          0.07318397746824015,
          0.07276993312633478,
          0.07235825288638187,
          0.07194812304121968,
          0.07154154251130254,
          0.07113604229085234,
          0.07073252009005844,
          0.07033320392498055,
          0.06993385161772873,
          0.06953697610622848,
          0.06914424985779465,
          0.06875161744606417,
          0.06836210101349373,
          0.06797515837243083,
          0.06758971973550178,
          0.06720716410541074,
          0.06682585245415192,
          0.0664473824403902,
          0.06607098086874796,
          0.06569561447701197,
          0.06532404905052554,
          0.06495364302706724,
          0.06458396773634044,
          0.06421882590145504,
          0.06385428345581495,
          0.06349122385867956,
          0.06313201315997607,
          0.06277351932242717,
          0.062417533754084306,
          0.06206359443810761,
          0.0617113785082382,
          0.06136168720816521,
          0.06101292634941028,
          0.06066705749861407,
          0.06032327896933113,
          0.05997955627762882,
          0.05963925892713211,
          0.0593011709754959,
          0.05896407288718427,
          0.05862975577833876,
          0.05829657426040959,
          0.057965672435526326,
          0.05763685438816,
          0.05730887422437974,
          0.05698402299821938,
          0.05666038175056108,
          0.056337455666673676,
          0.056018366220466964,
          0.05569979545308056,
          0.05538237892892431,
          0.055068553535346565,
          0.054755092838670825,
          0.054443835184588944,
          0.05413478067088877,
          0.053826843581910165,
          0.05352125079949207,
          0.05321656609578912,
          0.05291415259324396,
          0.05261372890109391,
          0.05231352195033723,
          0.05201651550745974,
          0.05172118498091863,
          0.05142545174858899,
          0.05113340879014321,
          0.05084272923039571,
          0.05055261834697215,
          0.05026551175935475,
          0.04997921230903173,
          0.049694783160550295,
          0.049412056116870835,
          0.049130575943117025,
          0.04885126837589868,
          0.04857257217277764,
          0.048296008241857355,
          0.048021701181146105,
          0.04774690268895371,
          0.047474537368228716,
          0.04720473303758572,
          0.04693535604438094,
          0.04666807150373154,
          0.046401988333500975,
          0.04613749014638456,
          0.04587475073630948,
          0.045612616966304975,
          0.04535297110985072,
          0.045094554539343884,
          0.04483607043113427,
          0.044580488678601315,
          0.04432637376385091,
          0.044073106229251195,
          0.04382191882808273,
          0.043571529357842705,
          0.04332296291140891,
          0.04307565769755985,
          0.042829248606854775,
          0.04258528607332256,
          0.04234171499780762,
          0.0420988778953917,
          0.04185884025715903,
          0.041619428076860046,
          0.04138139975816927,
          0.041145154608300406,
          0.04090967393539306,
          0.040676036495951993,
          0.0404431311477192,
          0.040211649733725895,
          0.03998225966802078,
          0.03975263466617987,
          0.03952463137424691,
          0.03929899516946385,
          0.039073626931326516,
          0.038849957350402656,
          0.03862752542744273,
          0.038406139724257625,
          0.03818644512211449,
          0.03796714382907196,
          0.03774971389622892,
          0.03753381415300327,
          0.03731753894650763,
          0.037103486465046784,
          0.03689112245071927,
          0.03667912883065491,
          0.03646892704092268,
          0.03625946608996592,
          0.03605137429137924,
          0.035844652721399195,
          0.03563832992086989,
          0.035434066006837545,
          0.03523062677850188,
          0.035027257056664346,
          0.03482625286196032,
          0.034626125456893454,
          0.034426812420230976,
          0.03422918108092255,
          0.03403206015592124,
          0.03383646967397774,
          0.03364179237768421,
          0.03344784663598348,
          0.03325586608443417,
          0.033064036813545805,
          0.03287306886932716,
          0.03268453441007916,
          0.03249559529756743,
          0.03230780382580721,
          0.03212225895163729,
          0.03193661500906051,
          0.031752483357325174,
          0.03156946571864486,
          0.031387220889250535,
          0.031206355833754557,
          0.031025911642008668,
          0.030846997210451643,
          0.030669020244794846,
          0.030491195101727486,
          0.030315559464878124,
          0.03014050615219318,
          0.029965200275155247,
          0.02979246056161427,
          0.029620153547642768,
          0.029448238127785256,
          0.02927829822949526,
          0.029108681396095334,
          0.02894023032000674,
          0.028772700564475888,
          0.028605975402220953,
          0.028440528948091785,
          0.028275312977136303,
          0.028111555250035627,
          0.02794906105159899,
          0.027786017373488466,
          0.027624638039757572,
          0.02746482380627734,
          0.02730515618186145,
          0.02714679353140903,
          0.026989080662316832,
          0.026832344088328835,
          0.02667664351776329,
          0.02652122501495114,
          0.02636740463372475,
          0.026214265980946495,
          0.026060886924251528,
          0.025909399306095652,
          0.0257588420906119,
          0.025608680038782233,
          0.025459816848914896,
          0.02531138272817395,
          0.025164048180265432,
          0.025017482498732983,
          0.02487135295786884,
          0.024726796869508034,
          0.024582467548043,
          0.024438337249371944,
          0.024296055829551386,
          0.024154205015842364,
          0.02401305045444339,
          0.02387306506915211,
          0.023733449362613443,
          0.023594961286438162,
          0.023456960117343082,
          0.023319654021397827,
          0.023183765444519076,
          0.023047729775993158,
          0.022912376808691955,
          0.02277868982318937,
          0.02264512402400225,
          0.022512482293113915,
          0.022380777084943102,
          0.02224951134460675,
          0.022119335657521267,
          0.02198942171931259,
          0.021860447058890207,
          0.021732659034850624,
          0.021604513345725287,
          0.021477443771738523,
          0.021351763904722407,
          0.02122611357563069,
          0.02110149442655312,
          0.020977527632112577,
          0.020854152751860602,
          0.02073177177518769,
          0.020609518572207695,
          0.020488383778540238,
          0.020368157238553456,
          0.02024754489904678,
          0.020128258435742334,
          0.02001002826258766,
          0.019891880698494468,
          0.01977480028855105,
          0.01965813739177461,
          0.01954220562237269,
          0.019427129749196186,
          0.019312155904428488,
          0.019198388073627972,
          0.019085233355189704,
          0.018971840502784828,
          0.01885986036208175,
          0.018748579612316307,
          0.018637540304777125,
          0.018527542257719194,
          0.018417806567639413,
          0.018308893846353855,
          0.018200670846770024,
          0.01809261508027846,
          0.01798576680729369,
          0.017879251901657314,
          0.01777274719081715,
          0.017667836690385026,
          0.01756306070462437,
          0.017458314744590205,
          0.01735511663996162,
          0.017251966704555997,
          0.01714942272232814,
          0.017047847984935607,
          0.016946464314190196,
          0.01684592295188233,
          0.016745701127606222,
          0.016646127649030847,
          0.016547411532674316,
          0.01644857957114847,
          0.016350738327090324,
          0.016253891004937016,
          0.016156414768097736,
          0.016060092670443487,
          0.015964913718298664,
          0.01586926849061175,
          0.015774710340280426,
          0.015680798019762836,
          0.01558716675271005,
          0.015494351295867615,
          0.015401753897805608,
          0.015309919748092416,
          0.015218529530507735,
          0.01512738298849824,
          0.015037340918099253,
          0.014947410485088481,
          0.014857462258440948,
          0.014768815486569307,
          0.01468049849152194,
          0.014592537512430262,
          0.014505375489375853,
          0.01441842074977695,
          0.014332183597037852,
          0.014246304590891759,
          0.014160769515388022,
          0.014076224961953864,
          0.013991660376000649,
          0.013907262128504592,
          0.013824071258268992,
          0.01374106597809822,
          0.013658487572829808,
          0.013576647562323142,
          0.013494986279463396,
          0.013414031154154075,
          0.013333378847482891,
          0.01325307142423864,
          0.013173705337618122,
          0.013094279205601418,
          0.013015067751058006,
          0.012936990060300541,
          0.012859034531490551,
          0.012781521284515129,
          0.0127046985265816,
          0.012628034079914264,
          0.012552049823366973,
          0.012476336453286068,
          0.01240095635666601,
          0.01232646496557534,
          0.01225190284383973,
          0.012177569467606295,
          0.012104300290674936,
          0.012031121193845808,
          0.011958374502938877,
          0.011886283913918081,
          0.011814326963850966,
          0.011743022114516662,
          0.011671980754721117,
          0.011601229770595266,
          0.011531328468007819,
          0.01146138168564705,
          0.011391625969462247,
          0.011322876988144102,
          0.011254219693160514,
          0.01118595458639631,
          0.011118327874398233,
          0.011050806502209602,
          0.010983903179974283,
          0.010917282091295251,
          0.010850881907373825,
          0.010785298412636713,
          0.010719729830016596,
          0.010654270973464053,
          0.010589768240359647,
          0.010525394502788945,
          0.010461341126526339,
          0.010397920987646631,
          0.010334580666362546,
          0.010271813524384537,
          0.010209373466642076,
          0.010147056154507304,
          0.010085505680212386,
          0.010024049733719415,
          0.009962571837150838,
          0.009902099029233445,
          0.009841649158393249,
          0.00978108395272598,
          0.009721491300975748,
          0.009661909101762246,
          0.009602545113018253,
          0.009543798332779402,
          0.009485053309138887,
          0.009426754994229713,
          0.00936868599614714,
          0.00931078878918561,
          0.009253447412886098,
          0.009196066954617764,
          0.009138900452624993,
          0.00908251830210537,
          0.009025894765465564,
          0.008969327591574337,
          0.008913727077926417,
          0.00885792504477537,
          0.008802294745059249,
          0.008747372716846946,
          0.008692380101935127,
          0.008637767143488604,
          0.008583426487279543,
          0.008529235264006967,
          0.008475490722171356,
          0.008421752022070742,
          0.00836833647823615,
          0.00831549855447626,
          0.008262410738928617,
          0.008209535440428488,
          0.008157420115857756,
          0.008105271341987975,
          0.008053414521245007,
          0.00800198237511978,
          0.007950618125716248,
          0.007899686522609093,
          0.007848907785203016,
          0.007798308406326826,
          0.007748316577811799,
          0.007698305804200614,
          0.007648292134710673,
          0.007599039813971078,
          0.007549964473942534,
          0.00750104019338858,
          0.007452619673959883,
          0.007404283208693806,
          0.007356343036876599,
          0.007308729833241577,
          0.007261145455827279,
          0.007214147267568284,
          0.007167419749917612,
          0.007120474444715938,
          0.007074180830268201,
          0.007028345326085402,
          0.006982476749222657,
          0.006937086134172624,
          0.0068919054933437385,
          0.0068469615812381595,
          0.006802450033796796,
          0.006757966035602353,
          0.006713874026318521,
          0.006670274085983667,
          0.006626495263375454,
          0.00658304866164209,
          0.006540246759978331,
          0.006497410634529382,
          0.0064549123810409455,
          0.006412824554055007,
          0.00637079849921688,
          0.006329201303448183,
          0.0062878100824918575,
          0.0062465263715795515,
          0.0062058052237957,
          0.006165202341186532,
          0.006124530175707355,
          0.006084502073933514,
          0.006044742351616637,
          0.006005027367821931,
          0.005965783442060568,
          0.005926667930250179,
          0.005887808396819753,
          0.005849348045688103,
          0.0058108935890472625,
          0.005772811479177416,
          0.005735172848316465,
          0.005697380914583887,
          0.005659938114430959,
          0.0056231258426336075,
          0.005586091867297978,
          0.005549290106411868,
          0.005513156072866023,
          0.005476923515369938,
          0.005440975726840912,
          0.005405472222522874,
          0.005369986137468737,
          0.005334857459701414,
          0.005299956006493604,
          0.005265159353332367,
          0.005230798804162857,
          0.005196569890213458,
          0.005162352903157891,
          0.005128723911272932,
          0.0050952950278037815,
          0.005061602583195735,
          0.0050285346073232155,
          0.004995882402909819,
          0.004962964381865398,
          0.0049305286550139025,
          0.004898446295653495,
          0.00486636373882154,
          0.0048346514788068255,
          0.004803082295143681,
          0.004771699621279882,
          0.004740667533439088,
          0.004709673150856049,
          0.004678899068925732,
          0.004648586203981472,
          0.004618238353699633,
          0.004587886580121792,
          0.004558103458618978,
          0.004528508265880046,
          0.0044989438057470785,
          0.004469756930473299,
          0.004440685712499501,
          0.004411798053756672,
          0.004383232026261033,
          0.0043546986000475305,
          0.004326387553092346,
          0.004298486748460686,
          0.004270550676660942,
          0.004242632005035532,
          0.004215232971382592,
          0.00418800741238482,
          0.0041607939481506,
          0.004133942252309201,
          0.0041072185231974066,
          0.004080624422118528,
          0.0040543547285466644,
          0.004028145304880937,
          0.0040020644321372015,
          0.003976392381065732,
          0.003950781314215521,
          0.003925083847552029,
          0.003899839498726454,
          0.0038748728252160237,
          0.003849833822794198,
          0.0038251109087237066,
          0.0038006071454699947,
          0.003776128761630323,
          0.0037519536049992835,
          0.0037279400268390534,
          0.003703926489026471,
          0.0036802645588656173,
          0.0036568345975275898,
          0.003633259365065784,
          0.0036099696212037753,
          0.003587127480044567,
          0.0035641377107243554,
          0.003541190270130041,
          0.00351875475283537,
          0.0034963693755081793,
          0.0034739800038901666,
          0.0034519555979885203,
          0.003430024366607553,
          0.0034081770062318094,
          0.0033866105327982044,
          0.0033651094837462265,
          0.003343710493505367,
          0.0033226186669850356,
          0.0033016036406396687,
          0.003280552305235346,
          0.0032598706064384695,
          0.0032394527766922377,
          0.0032188236046647623,
          0.0031983662066675514,
          0.0031784006205759197,
          0.0031583871069535484,
          0.0031383248183165895,
          0.0031186678220309527,
          0.003099131806719805,
          0.0030795981128472535,
          0.0030603328730207545,
          0.003041172373132475,
          0.0030220685479651127,
          0.0030032148873020506,
          0.0029844690424555096,
          0.0029657137323313982,
          0.0029472339033539963,
          0.0029289958071974016,
          0.0029106376593078464,
          0.0028923368930170654,
          0.0028744304554781867,
          0.0028566384246267685,
          0.0028387984054940524,
          0.0028212116236064947,
          0.0028037826602875437,
          0.0027863542261230643,
          0.002769138300524758,
          0.002752084808444978,
          0.002735008240066524,
          0.0027181069171943895,
          0.002701477894797471,
          0.0026848321800086406,
          0.0026681208095655873,
          0.0026517213635825444,
          0.0026355682364489134,
          0.002619325996200661,
          0.002603225976987919,
          0.002587374779997649,
          0.002571528069540244,
          0.0025557667408751053,
          0.0025402344581964007,
          0.0025247606950852546,
          0.0025092808285715074,
          0.0024940400680549943,
          0.0024789983309287016,
          0.002463868334065572,
          0.0024487748299354003,
          0.0024340359177024264,
          0.0024194318225026056,
          0.0024046352947085345,
          0.0023900028029788627,
          0.0023757278923840232,
          0.0023614300006502406,
          0.0023470920710294114,
          0.00233301683605573,
          0.002319073634407205,
          0.0023050927783961994,
          0.0022912828960278044,
          0.0022776380041850583,
          0.002263977416862354,
          0.002250413420623622,
          0.0022370666631773032,
          0.0022237739312955364,
          0.00221042506200925,
          0.0021972504023740308,
          0.0021843494195785203,
          0.0021714275104039948,
          0.0021583701495304524,
          0.002145550604249694,
          0.0021330466848544075,
          0.0021204619393024485,
          0.002107794235269478,
          0.0020954053935707557,
          0.0020831982466920107,
          0.0020709070238713423,
          0.0020587294200991885,
          0.002046743089837109,
          0.002034767242714396,
          0.002022826073860183,
          0.002011060620918326,
          0.0019993951622882156,
          0.001987699347111795,
          0.001976085844253169,
          0.001964698867706724,
          0.001953391023532509,
          0.0019419756865604076,
          0.0019306087583147943,
          0.0019195173592939474,
          0.0019085442068250216,
          0.0018974833290704978,
          0.0018865206740792167,
          0.0018757536901204699,
          0.0018650110727372279,
          0.0018542659602378399,
          0.001843671639015479,
          0.0018332050151017025,
          0.0018227193489758502,
          0.0018122576207217599,
          0.0018019835952060637,
          0.001791846133012934,
          0.0017816460892472981,
          0.0017714068796460191,
          0.0017613817105511585,
          0.0017515863604068566,
          0.0017417238880610558,
          0.0017317280034422015,
          0.0017219168962533714,
          0.0017123814645130587,
          0.001702819106023396,
          0.0016931594899164053,
          0.0016836655728846462,
          0.0016743552227425405,
          0.0016650154809422272,
          0.0016556848195245313,
          0.0016465026010290833,
          0.0016374139494588437,
          0.0016283038348915647,
          0.0016192375310403,
          0.0016103290875081433,
          0.0016015107455213267,
          0.0015926477857812953,
          0.0015837770852650183,
          0.0015750844863834106,
          0.0015665801674657157,
          0.0015580343963078884,
          0.001549359881769331,
          0.0015407726656177917,
          0.0015324768162148046,
          0.0015242718676011257,
          0.001515908465602611,
          0.0015075306075155585,
          0.001499399118685831,
          0.0014914017131969278,
          0.0014833193800071656,
          0.0014752565414930321,
          0.001467353591183371,
          0.0014595239569387991,
          0.0014516620098746897,
          0.0014438460822564325,
          0.00143616797372473,
          0.0014285561313783358,
          0.001420910903166211,
          0.001413271587412896,
          0.0014057818865522524,
          0.0013984442958101765,
          0.0013910806532306818,
          0.001383612740438001,
          0.0013761729084456919,
          0.0013689633607314507,
          0.001361895069007249,
          0.0013547463398442285,
          0.0013475482918579495,
          0.0013404982041803962,
          0.0013335909547285613,
          0.0013266573927598392,
          0.001319692683153654,
          0.001312833608780231,
          0.0013061092686425433,
          0.0012993889330844173,
          0.001292616982540607,
          0.0012858857505580338,
          0.0012793340134953203,
          0.0012728939214031233,
          0.001266376457209987,
          0.0012597544822401587,
          0.0012532045094721118,
          0.0012469316701939064,
          0.0012407939108737855,
          0.0012344916246355485,
          0.0012280103990926826,
          0.0012216616693604139,
          0.001215649857935699,
          0.0012097077244757502,
          0.0012035680537826974,
          0.0011973550401523489,
          0.0011913794009670404,
          0.0011855877880993576,
          0.001179706938459835,
          0.00117373980676621,
          0.0011678973117677852,
          0.0011622290001250363,
          0.0011565484006880228,
          0.0011507737124711447,
          0.0011450186762775433,
          0.0011394713069098105,
          0.0011340643961779966,
          0.0011285560346482443,
          0.0011228847327562413,
          0.0011172273728314711,
          0.001111909132738332,
          0.0011068763799368263,
          0.0011016719514204245,
          0.0010960769697550556,
          0.0010903390539964474,
          0.0010850779635337776,
          0.0010803735322567009,
          0.0010755210756115921,
          0.0010701010658490588,
          0.0010644669082352646,
          0.0010594250163329243,
          0.001054885197945817,
          0.001050062345154038,
          0.0010448178288842867,
          0.0010397077862612822,
          0.0010350872729787965,
          0.0010305207906209785,
          0.0010256162301494076,
          0.0010205559733356588,
          0.0010158757805587722,
          0.00101158144716838,
          0.0010070947807542517,
          0.0010021593654192449,
          0.0009970816789323929,
          0.0009926180656912719,
          0.0009888656218496317,
          0.000984858869185059,
          0.000979906929210718,
          0.000974341109697047,
          0.000969457731265627,
          0.0009657937864592168,
          0.000962148882794167,
          0.000957595090367581,
          0.0009526840119332229,
          0.000948541716174828,
          0.000944909850410089,
          0.0009408054162284903,
          0.0009362411073101179,
          0.0009319940975067443,
          0.0009283537794621718,
          0.0009246225617166124,
          0.0009203225554113996,
          0.0009157447348432324,
          0.0009117853201553064,
          0.0009086127689541112,
          0.0009051987101475721,
          0.0009008232672430168,
          0.0008958595338573479,
          0.0008916537002795072,
          0.000888595371038186,
          0.000885412211253651,
          0.0008813205360146352,
          0.0008769702111571869,
          0.000873430119568619,
          0.0008703392312841546,
          0.000866728085882071,
          0.0008626531633963419,
          0.0008589378523478649,
          0.0008558484657799077,
          0.000852634310182445,
          0.0008488171614505751,
          0.0008447263771016164,
          0.0008412941884492349,
          0.0008386285483478853,
          0.0008356604733812813,
          0.0008317338105631058,
          0.0008272984949471488,
          0.0008237060824132573,
          0.0008211641265873822,
          0.0008183563745754758,
          0.0008146637678155529,
          0.0008108380347916243,
          0.0008078341707712862,
          0.0008051744916730293,
          0.0008019637538211026,
          0.00079832829171405,
          0.000795109986214904,
          0.0007924916767034454,
          0.0007896831468326178,
          0.0007862631483789231,
          0.0007826176677387097,
          0.0007796802282329323,
          0.0007774546397654548,
          0.0007748419030489152,
          0.0007712764714053157,
          0.000767292946245586,
          0.000764295809461683,
          0.0007624740786693406,
          0.0007602581541004414,
          0.0007567030875185328,
          0.0007525404185788803,
          0.0007496135708804468,
          0.0007478670591120419,
          0.0007455087705086989,
          0.0007420672981416176,
          0.0007387220366538397,
          0.0007363911524079507,
          0.0007342302159928522,
          0.0007313880367883207,
          0.0007282544024098856,
          0.000725693418283303,
          0.000723535972523519,
          0.0007209806763843034,
          0.000717951416843687,
          0.0007150901298645235,
          0.0007129298854052663,
          0.000710921494364448,
          0.0007082747286023362,
          0.0007050118073109031,
          0.0007020065719508762,
          0.0007001239629288111,
          0.0006986370419108328,
          0.0006961726478403731,
          0.0006925804470884054,
          0.0006891263449223571,
          0.0006872239578701581,
          0.0006859787178315869,
          0.0006836097623821205,
          0.0006801095885545407,
          0.0006771418832006764,
          0.0006754237619061559,
          0.00067364133993159,
          0.000671008402732704,
          0.0006682314262260385,
          0.0006661588664931564,
          0.0006643411520750305,
          0.0006620441331235204,
          0.0006594356898557286,
          0.000657217386031587,
          0.0006554221658494449,
          0.0006534076920460403,
          0.0006509785327954004,
          0.0006485355161930886,
          0.0006465703323145046,
          0.0006448100147135124,
          0.00064268914660049,
          0.0006401967273853951,
          0.0006378616590932735,
          0.000636029852184699,
          0.0006342548937314025,
          0.0006320529212817421,
          0.00062955110913847,
          0.0006274159340976958,
          0.000625930972772937,
          0.0006243819755196994,
          0.0006220856583230042,
          0.0006191887340395911,
          0.0006166725218743584,
          0.000615179650589668,
          0.0006138649774230268,
          0.0006117880451403206,
          0.0006092233873047633,
          0.0006072293879989248,
          0.000605844530116782,
          0.0006041384165449198,
          0.0006018874452432771,
          0.0005997058988373385,
          0.0005981528663199761,
          0.0005967510091608202,
          0.0005948117236458949,
          0.0005923984761355591,
          0.0005903013723179627,
          0.0005890580083115921,
          0.0005879220225892761,
          0.0005859463935632292,
          0.0005832022989817968,
          0.0005808209487472987,
          0.0005797352928473353,
          0.0005789790782594502,
          0.0005771169737070937,
          0.0005742150831196007,
          0.0005718441191278641,
          0.0005708358983871023,
          0.0005698871971386763,
          0.0005679203285283477,
          0.0005655103085655932,
          0.0005639290666508209,
          0.0005629363198031789,
          0.0005614365452626429,
          0.000559426241513026,
          0.0005577092171782306,
          0.0005565383992280453,
          0.0005552265223433372,
          0.0005534014451374123,
          0.0005514108888469209,
          0.000549984339061016,
          0.0005490114878109058,
          0.0005476337004711672,
          0.0005455374855354936,
          0.0005432339462493386,
          0.0005418055500495951,
          0.0005412273945662875,
          0.0005401569573198691,
          0.0005378885650369629,
          0.0005350888478528066,
          0.0005334398308476958,
          0.0005330224758452643,
          0.0005320812212243353,
          0.0005298703537650598,
          0.0005274208950013825,
          0.000526149577035443,
          0.0005254355990218113,
          0.0005239818188984834,
          0.0005219820987555874,
          0.0005204562672968736,
          0.0005194617512301516,
          0.0005181589746663925,
          0.0005163858356109465,
          0.0005147126152965868,
          0.0005135891467190457,
          0.0005125484474892333,
          0.0005110015384283304,
          0.0005090295168725724,
          0.0005073453376480572,
          0.0005063032216893508,
          0.0005052681875170405,
          0.0005036881859958165,
          0.0005018030312763858,
          0.0005003630065075618,
          0.0004993810879575486,
          0.0004981463169998232,
          0.0004964429432037964,
          0.0004947275356808552,
          0.0004936087817938714,
          0.0004927804728493356,
          0.0004914593920167119,
          0.000489509161941303,
          0.0004875596172555298,
          0.0004865623090656129,
          0.000486181752193003,
          0.00048510813442880564,
          0.00048292864644443095,
          0.00048052051337520244,
          0.0004794080429672403,
          0.00047923896612596715,
          0.0004782763729302334,
          0.00047612501158999024,
          0.00047405180798388614,
          0.0004731836575708902,
          0.0004726213446192923,
          0.0004712540572568339,
          0.0004694447915557419,
          0.0004682136277251904,
          0.0004674493814110641,
          0.0004662898957897486,
          0.0004646812767031056,
          0.00046326976229246454,
          0.00046239520879857684,
          0.00046149199469766816,
          0.0004600602844894924,
          0.0004582848119755773,
          0.00045695384265009896,
          0.0004563822765228426,
          0.00045571895586631614,
          0.00045417493525464565,
          0.000451955539447985,
          0.00045023708091480673,
          0.0004496032744966975,
          0.0004490215812956697,
          0.0004476212272642971,
          0.00044585262804463165,
          0.00044471921750398715,
          0.0004440300734793133,
          0.00044291827925853843,
          0.00044137619886271806,
          0.00044007290418404964,
          0.0004392792426786429,
          0.0004383990046199559,
          0.0004370014127232367,
          0.00043532421199074555,
          0.00043414922640499186,
          0.00043366171317935656,
          0.00043297368883468793,
          0.00043141719227558295,
          0.0004292863183808883,
          0.00042776035006424247,
          0.00042724873470838476,
          0.0004266603289370702,
          0.0004252602427400159,
          0.00042358452063924863,
          0.0004225756645426606,
          0.000421948932677675,
          0.00042086753506665885,
          0.0004193751659224087,
          0.00041816689248874603,
          0.00041746752326516707,
          0.0004166422777954899,
          0.00041528521150091654,
          0.00041367168579835165,
          0.000412604553176127,
          0.0004122075174171753,
          0.0004115519513377984,
          0.0004100184142890715,
          0.0004079628389578203,
          0.00040659029987367897,
          0.0004061917546410347,
          0.0004056204923473984,
          0.0004042381439348933,
          0.00040266005987022005,
          0.0004017714512049007,
          0.00040120403649490703,
          0.00040015653701656857,
          0.00039872124731932864,
          0.0003976142191042815,
          0.00039700466111310627,
          0.00039622434045242274,
          0.00039490495598622504,
          0.0003933650538285718,
          0.0003924163066655211,
          0.0003921024881313109,
          0.0003914588665667157,
          0.0003899294428578245,
          0.0003879404227372667,
          0.00038671056366434145,
          0.0003863981457749084,
          0.000385808484261603,
          0.0003844126155347408,
          0.0003829157118768064,
          0.0003821223226756326,
          0.00038156869065111794,
          0.00038051298458918146,
          0.0003791108211646053,
          0.0003780881160447672,
          0.00037753138893153977,
          0.0003767443805069355,
          0.0003754198786362947,
          0.00037393277207370716,
          0.0003730867821407743,
          0.00037281922996556594,
          0.00037214072555272415,
          0.0003705840598613261,
          0.00036865738057340096,
          0.0003675722723343136,
          0.0003673387079418908,
          0.00036673078632141185,
          0.00036533663329856616,
          0.00036393617620022377,
          0.00036324878542819627,
          0.00036272649716409603,
          0.0003616828568002773,
          0.00036032755809625337,
          0.0003593950604235702,
          0.0003589070276519536,
          0.0003581430037793196,
          0.0003568387229835605,
          0.00035541762368294737,
          0.00035467591501865675,
          0.00035446477283083185,
          0.0003537787993270259,
          0.00035222334466979523,
          0.00035038008584376896,
          0.0003494395134602706,
          0.00034927491399322697,
          0.00034864815409338406,
          0.0003472588945952422,
          0.000345955139236246,
          0.0003453675026406175,
          0.0003448694002845791,
          0.00034383438941204867,
          0.0003425286906455126,
          0.0003416861484121284,
          0.00034125843920162845,
          0.00034050937427487494,
          0.00033922281702235735,
          0.000337873586875093,
          0.00033723618374236137,
          0.00033707033178930206,
          0.0003363680050636711,
          0.0003348124811600953,
          0.0003330611258680403,
          0.00033226232754729446,
          0.0003321521197263247,
          0.0003315003912803005,
          0.00033011833932110665,
          0.00032891371144368257,
          0.0003284205784087428,
          0.0003279395092249073,
          0.0003269099401238432,
          0.00032565683495926835,
          0.0003249035799669518,
          0.000324528975506046,
          0.000323789681829246,
          0.0003225192736854355,
          0.0003212456602700002,
          0.00032070896582984173,
          0.00032057604639187525,
          0.000319847117654794,
          0.0003182826692556917,
          0.000316617727512961,
          0.0003160503195662309,
          0.0003162522283486977,
          0.0003157097700769555,
          0.0003139754540579457,
          0.0003120967236985102,
          0.0003115310374486333,
          0.0003116556987094548,
          0.00031092553481648595,
          0.000309352384418791,
          0.0003082127996148568,
          0.0003079098369553513,
          0.0003074312775194569,
          0.0003063295759039417,
          0.00030518668496982813,
          0.00030459975611255545,
          0.0003041589772792945,
          0.00030326409044943573,
          0.00030202255501782883,
          0.0003011175504649586,
          0.00030079251435689787,
          0.00030035852842757744,
          0.00029926626638236925,
          0.000297737856457937,
          0.0002967176393138756,
          0.00029667383014091186,
          0.00029661485696590455,
          0.00029549872120353737,
          0.0002935239346892316,
          0.0002921256921700963,
          0.00029212653436595787,
          0.0002922413761393688,
          0.0002911688344288426,
          0.00028932122806467857,
          0.00028832426151127077,
          0.0002882942356144335,
          0.0002878434232784932,
          0.0002866511205525293,
          0.00028558554249978407,
          0.0002851494040566099,
          0.00028469460193981645,
          0.000283748444465997,
          0.0002826392164861383,
          0.0002819993968645158,
          0.0002816713392745438,
          0.0002809783793866565,
          0.0002797857937510724,
          0.0002785969645492663,
          0.00027815198669647537,
          0.00027815107023766304,
          0.0002775556544510667,
          0.0002760496669875037,
          0.0002743240137927853,
          0.00027360952040415495,
          0.00027365262070203197,
          0.0002731551205010697,
          0.00027192097603072443,
          0.00027087932892837463,
          0.0002704979839691764,
          0.00027007293423988613,
          0.0002691534352015229,
          0.0002681135237421821,
          0.0002675398475465596,
          0.000267208964478325,
          0.00026649621445702003,
          0.000265340996490955,
          0.0002642863472004545,
          0.00026395209562735274,
          0.0002639138946486367,
          0.0002632271552148226,
          0.0002617147107813369,
          0.0002601343547742707,
          0.000259577636821643,
          0.00025962927837068473,
          0.000259070073522756,
          0.0002578354033959763,
          0.00025688293307235186,
          0.00025657279502105707,
          0.00025615092720198584,
          0.00025522937869580013,
          0.0002542274937550526,
          0.00025371732498269926,
          0.0002534255363253023,
          0.0002527236607523305,
          0.0002515768855241283,
          0.00025057017909289116,
          0.00025030238064308285,
          0.00025028768296864385,
          0.00024958830733441,
          0.0002480798809166637,
          0.0002465871458491679,
          0.0002461394877591389,
          0.00024621068219774417,
          0.00024562041611144516,
          0.0002443953011256603,
          0.00024352297095606103,
          0.000243275829294759,
          0.0002428577960685269,
          0.00024193944989494277,
          0.00024098673876419275,
          0.00024054118691374787,
          0.00024027398970571842,
          0.00023957283067797285,
          0.00023844211417670098,
          0.00023750726103168065,
          0.0002373129533268282,
          0.0002373004254183355,
          0.00023656925630427696,
          0.0002350670478729633,
          0.00023368639500063714,
          0.00023335206632400598,
          0.00023342358484721077,
          0.00023279466524553372,
          0.000231584655941857,
          0.00023079778435060354,
          0.0002306094380833849,
          0.00023019014677013843,
          0.0002292735757478052,
          0.0002283720948595382,
          0.0002279914704620554,
          0.00022774667147969576,
          0.00022704439256082302,
          0.00022592912229828593,
          0.00022506612618423,
          0.00022494247517302856,
          0.00022492952207319987,
          0.000224167611031777,
          0.00022267488781950955,
          0.00022141020642481356,
          0.00022118263189357845,
          0.0002212451870280135,
          0.00022057841162270207,
          0.00021939045281541003,
          0.00021869054274661407,
          0.00021855485944554995,
          0.00021813075139665602,
          0.0002172167274586642,
          0.00021637041730925447,
          0.00021605426172248676,
          0.00021582674447660107,
          0.00021512030474609968,
          0.00021402265745694245,
          0.00021323626686909898,
          0.0002131811242564844,
          0.00021316091618073303,
          0.00021236586156094884,
          0.00021088690833159085,
          0.00020974148852884902,
          0.00020961412471426163,
          0.00020965926998497294,
          0.00020895279262243344,
          0.00020779226485156968,
          0.00020717766532170833,
          0.00020708374762980406,
          0.0002066469845870306,
          0.00020573182907527475,
          0.0002049389684663428,
          0.00020468072984700726,
          0.00020446014667856605,
          0.00020374117039868462,
          0.00020265718222313575,
          0.00020194405204833652,
          0.00020194728153311188,
          0.00020190707779877779,
          0.0002010709431401725,
          0.00019960411767416187,
          0.00019857356885178413,
          0.00019853314051998877,
          0.0001985491125475814,
          0.00019779960888713203,
          0.00019667213531154176,
          0.00019614158110736589,
          0.0001960803142833626,
          0.0001956278207638784,
          0.00019471417122279505,
          0.00019397953302093768,
          0.00019377939281625827,
          0.00019356350284717154,
          0.00019283293426560323,
          0.0001917690181060358,
          0.00019113566173409538,
          0.000191196906113715,
          0.00019113507491392957,
          0.00019026177373130464,
          0.0001888177366502661,
          0.00018790812252322844,
          0.00018795073454403485,
          0.0001879355576538433,
          0.00018714832027695442,
          0.0001860666399562668,
          0.00018562258651139352,
          0.00018558664962806156,
          0.00018511740328922,
          0.00018420917747864323,
          0.00018353698902051938,
          0.00018339338436443398,
          0.00018317840522641345,
          0.00018243548986660973,
          0.00018139608131053332,
          0.00018084530634661044,
          0.00018095981081783064,
          0.00018087130250497334,
          0.00017996147431884898,
          0.0001785476606763528,
          0.00017779398524198756,
          0.00017813036055734315,
          0.00017834686426280373,
          0.000177420021489325,
          0.00017575885880431876,
          0.0001749530111743061,
          0.00017529652323517987,
          0.0001753207150699597,
          0.0001743551195648943,
          0.0001732343304760061,
          0.00017296288113086166,
          0.00017300876874965163,
          0.00017248012624133504,
          0.0001715775305229101,
          0.00017100120571596244,
          0.0001707132585727347,
          0.00017031411011693954
         ],
         "yaxis": "y"
        }
       ],
       "layout": {
        "legend": {
         "title": {
          "text": "variable"
         },
         "tracegroupgap": 0
        },
        "margin": {
         "t": 60
        },
        "template": {
         "data": {
          "bar": [
           {
            "error_x": {
             "color": "#2a3f5f"
            },
            "error_y": {
             "color": "#2a3f5f"
            },
            "marker": {
             "line": {
              "color": "#E5ECF6",
              "width": 0.5
             },
             "pattern": {
              "fillmode": "overlay",
              "size": 10,
              "solidity": 0.2
             }
            },
            "type": "bar"
           }
          ],
          "barpolar": [
           {
            "marker": {
             "line": {
              "color": "#E5ECF6",
              "width": 0.5
             },
             "pattern": {
              "fillmode": "overlay",
              "size": 10,
              "solidity": 0.2
             }
            },
            "type": "barpolar"
           }
          ],
          "carpet": [
           {
            "aaxis": {
             "endlinecolor": "#2a3f5f",
             "gridcolor": "white",
             "linecolor": "white",
             "minorgridcolor": "white",
             "startlinecolor": "#2a3f5f"
            },
            "baxis": {
             "endlinecolor": "#2a3f5f",
             "gridcolor": "white",
             "linecolor": "white",
             "minorgridcolor": "white",
             "startlinecolor": "#2a3f5f"
            },
            "type": "carpet"
           }
          ],
          "choropleth": [
           {
            "colorbar": {
             "outlinewidth": 0,
             "ticks": ""
            },
            "type": "choropleth"
           }
          ],
          "contour": [
           {
            "colorbar": {
             "outlinewidth": 0,
             "ticks": ""
            },
            "colorscale": [
             [
              0,
              "#0d0887"
             ],
             [
              0.1111111111111111,
              "#46039f"
             ],
             [
              0.2222222222222222,
              "#7201a8"
             ],
             [
              0.3333333333333333,
              "#9c179e"
             ],
             [
              0.4444444444444444,
              "#bd3786"
             ],
             [
              0.5555555555555556,
              "#d8576b"
             ],
             [
              0.6666666666666666,
              "#ed7953"
             ],
             [
              0.7777777777777778,
              "#fb9f3a"
             ],
             [
              0.8888888888888888,
              "#fdca26"
             ],
             [
              1,
              "#f0f921"
             ]
            ],
            "type": "contour"
           }
          ],
          "contourcarpet": [
           {
            "colorbar": {
             "outlinewidth": 0,
             "ticks": ""
            },
            "type": "contourcarpet"
           }
          ],
          "heatmap": [
           {
            "colorbar": {
             "outlinewidth": 0,
             "ticks": ""
            },
            "colorscale": [
             [
              0,
              "#0d0887"
             ],
             [
              0.1111111111111111,
              "#46039f"
             ],
             [
              0.2222222222222222,
              "#7201a8"
             ],
             [
              0.3333333333333333,
              "#9c179e"
             ],
             [
              0.4444444444444444,
              "#bd3786"
             ],
             [
              0.5555555555555556,
              "#d8576b"
             ],
             [
              0.6666666666666666,
              "#ed7953"
             ],
             [
              0.7777777777777778,
              "#fb9f3a"
             ],
             [
              0.8888888888888888,
              "#fdca26"
             ],
             [
              1,
              "#f0f921"
             ]
            ],
            "type": "heatmap"
           }
          ],
          "heatmapgl": [
           {
            "colorbar": {
             "outlinewidth": 0,
             "ticks": ""
            },
            "colorscale": [
             [
              0,
              "#0d0887"
             ],
             [
              0.1111111111111111,
              "#46039f"
             ],
             [
              0.2222222222222222,
              "#7201a8"
             ],
             [
              0.3333333333333333,
              "#9c179e"
             ],
             [
              0.4444444444444444,
              "#bd3786"
             ],
             [
              0.5555555555555556,
              "#d8576b"
             ],
             [
              0.6666666666666666,
              "#ed7953"
             ],
             [
              0.7777777777777778,
              "#fb9f3a"
             ],
             [
              0.8888888888888888,
              "#fdca26"
             ],
             [
              1,
              "#f0f921"
             ]
            ],
            "type": "heatmapgl"
           }
          ],
          "histogram": [
           {
            "marker": {
             "pattern": {
              "fillmode": "overlay",
              "size": 10,
              "solidity": 0.2
             }
            },
            "type": "histogram"
           }
          ],
          "histogram2d": [
           {
            "colorbar": {
             "outlinewidth": 0,
             "ticks": ""
            },
            "colorscale": [
             [
              0,
              "#0d0887"
             ],
             [
              0.1111111111111111,
              "#46039f"
             ],
             [
              0.2222222222222222,
              "#7201a8"
             ],
             [
              0.3333333333333333,
              "#9c179e"
             ],
             [
              0.4444444444444444,
              "#bd3786"
             ],
             [
              0.5555555555555556,
              "#d8576b"
             ],
             [
              0.6666666666666666,
              "#ed7953"
             ],
             [
              0.7777777777777778,
              "#fb9f3a"
             ],
             [
              0.8888888888888888,
              "#fdca26"
             ],
             [
              1,
              "#f0f921"
             ]
            ],
            "type": "histogram2d"
           }
          ],
          "histogram2dcontour": [
           {
            "colorbar": {
             "outlinewidth": 0,
             "ticks": ""
            },
            "colorscale": [
             [
              0,
              "#0d0887"
             ],
             [
              0.1111111111111111,
              "#46039f"
             ],
             [
              0.2222222222222222,
              "#7201a8"
             ],
             [
              0.3333333333333333,
              "#9c179e"
             ],
             [
              0.4444444444444444,
              "#bd3786"
             ],
             [
              0.5555555555555556,
              "#d8576b"
             ],
             [
              0.6666666666666666,
              "#ed7953"
             ],
             [
              0.7777777777777778,
              "#fb9f3a"
             ],
             [
              0.8888888888888888,
              "#fdca26"
             ],
             [
              1,
              "#f0f921"
             ]
            ],
            "type": "histogram2dcontour"
           }
          ],
          "mesh3d": [
           {
            "colorbar": {
             "outlinewidth": 0,
             "ticks": ""
            },
            "type": "mesh3d"
           }
          ],
          "parcoords": [
           {
            "line": {
             "colorbar": {
              "outlinewidth": 0,
              "ticks": ""
             }
            },
            "type": "parcoords"
           }
          ],
          "pie": [
           {
            "automargin": true,
            "type": "pie"
           }
          ],
          "scatter": [
           {
            "fillpattern": {
             "fillmode": "overlay",
             "size": 10,
             "solidity": 0.2
            },
            "type": "scatter"
           }
          ],
          "scatter3d": [
           {
            "line": {
             "colorbar": {
              "outlinewidth": 0,
              "ticks": ""
             }
            },
            "marker": {
             "colorbar": {
              "outlinewidth": 0,
              "ticks": ""
             }
            },
            "type": "scatter3d"
           }
          ],
          "scattercarpet": [
           {
            "marker": {
             "colorbar": {
              "outlinewidth": 0,
              "ticks": ""
             }
            },
            "type": "scattercarpet"
           }
          ],
          "scattergeo": [
           {
            "marker": {
             "colorbar": {
              "outlinewidth": 0,
              "ticks": ""
             }
            },
            "type": "scattergeo"
           }
          ],
          "scattergl": [
           {
            "marker": {
             "colorbar": {
              "outlinewidth": 0,
              "ticks": ""
             }
            },
            "type": "scattergl"
           }
          ],
          "scattermapbox": [
           {
            "marker": {
             "colorbar": {
              "outlinewidth": 0,
              "ticks": ""
             }
            },
            "type": "scattermapbox"
           }
          ],
          "scatterpolar": [
           {
            "marker": {
             "colorbar": {
              "outlinewidth": 0,
              "ticks": ""
             }
            },
            "type": "scatterpolar"
           }
          ],
          "scatterpolargl": [
           {
            "marker": {
             "colorbar": {
              "outlinewidth": 0,
              "ticks": ""
             }
            },
            "type": "scatterpolargl"
           }
          ],
          "scatterternary": [
           {
            "marker": {
             "colorbar": {
              "outlinewidth": 0,
              "ticks": ""
             }
            },
            "type": "scatterternary"
           }
          ],
          "surface": [
           {
            "colorbar": {
             "outlinewidth": 0,
             "ticks": ""
            },
            "colorscale": [
             [
              0,
              "#0d0887"
             ],
             [
              0.1111111111111111,
              "#46039f"
             ],
             [
              0.2222222222222222,
              "#7201a8"
             ],
             [
              0.3333333333333333,
              "#9c179e"
             ],
             [
              0.4444444444444444,
              "#bd3786"
             ],
             [
              0.5555555555555556,
              "#d8576b"
             ],
             [
              0.6666666666666666,
              "#ed7953"
             ],
             [
              0.7777777777777778,
              "#fb9f3a"
             ],
             [
              0.8888888888888888,
              "#fdca26"
             ],
             [
              1,
              "#f0f921"
             ]
            ],
            "type": "surface"
           }
          ],
          "table": [
           {
            "cells": {
             "fill": {
              "color": "#EBF0F8"
             },
             "line": {
              "color": "white"
             }
            },
            "header": {
             "fill": {
              "color": "#C8D4E3"
             },
             "line": {
              "color": "white"
             }
            },
            "type": "table"
           }
          ]
         },
         "layout": {
          "annotationdefaults": {
           "arrowcolor": "#2a3f5f",
           "arrowhead": 0,
           "arrowwidth": 1
          },
          "autotypenumbers": "strict",
          "coloraxis": {
           "colorbar": {
            "outlinewidth": 0,
            "ticks": ""
           }
          },
          "colorscale": {
           "diverging": [
            [
             0,
             "#8e0152"
            ],
            [
             0.1,
             "#c51b7d"
            ],
            [
             0.2,
             "#de77ae"
            ],
            [
             0.3,
             "#f1b6da"
            ],
            [
             0.4,
             "#fde0ef"
            ],
            [
             0.5,
             "#f7f7f7"
            ],
            [
             0.6,
             "#e6f5d0"
            ],
            [
             0.7,
             "#b8e186"
            ],
            [
             0.8,
             "#7fbc41"
            ],
            [
             0.9,
             "#4d9221"
            ],
            [
             1,
             "#276419"
            ]
           ],
           "sequential": [
            [
             0,
             "#0d0887"
            ],
            [
             0.1111111111111111,
             "#46039f"
            ],
            [
             0.2222222222222222,
             "#7201a8"
            ],
            [
             0.3333333333333333,
             "#9c179e"
            ],
            [
             0.4444444444444444,
             "#bd3786"
            ],
            [
             0.5555555555555556,
             "#d8576b"
            ],
            [
             0.6666666666666666,
             "#ed7953"
            ],
            [
             0.7777777777777778,
             "#fb9f3a"
            ],
            [
             0.8888888888888888,
             "#fdca26"
            ],
            [
             1,
             "#f0f921"
            ]
           ],
           "sequentialminus": [
            [
             0,
             "#0d0887"
            ],
            [
             0.1111111111111111,
             "#46039f"
            ],
            [
             0.2222222222222222,
             "#7201a8"
            ],
            [
             0.3333333333333333,
             "#9c179e"
            ],
            [
             0.4444444444444444,
             "#bd3786"
            ],
            [
             0.5555555555555556,
             "#d8576b"
            ],
            [
             0.6666666666666666,
             "#ed7953"
            ],
            [
             0.7777777777777778,
             "#fb9f3a"
            ],
            [
             0.8888888888888888,
             "#fdca26"
            ],
            [
             1,
             "#f0f921"
            ]
           ]
          },
          "colorway": [
           "#636efa",
           "#EF553B",
           "#00cc96",
           "#ab63fa",
           "#FFA15A",
           "#19d3f3",
           "#FF6692",
           "#B6E880",
           "#FF97FF",
           "#FECB52"
          ],
          "font": {
           "color": "#2a3f5f"
          },
          "geo": {
           "bgcolor": "white",
           "lakecolor": "white",
           "landcolor": "#E5ECF6",
           "showlakes": true,
           "showland": true,
           "subunitcolor": "white"
          },
          "hoverlabel": {
           "align": "left"
          },
          "hovermode": "closest",
          "mapbox": {
           "style": "light"
          },
          "paper_bgcolor": "white",
          "plot_bgcolor": "#E5ECF6",
          "polar": {
           "angularaxis": {
            "gridcolor": "white",
            "linecolor": "white",
            "ticks": ""
           },
           "bgcolor": "#E5ECF6",
           "radialaxis": {
            "gridcolor": "white",
            "linecolor": "white",
            "ticks": ""
           }
          },
          "scene": {
           "xaxis": {
            "backgroundcolor": "#E5ECF6",
            "gridcolor": "white",
            "gridwidth": 2,
            "linecolor": "white",
            "showbackground": true,
            "ticks": "",
            "zerolinecolor": "white"
           },
           "yaxis": {
            "backgroundcolor": "#E5ECF6",
            "gridcolor": "white",
            "gridwidth": 2,
            "linecolor": "white",
            "showbackground": true,
            "ticks": "",
            "zerolinecolor": "white"
           },
           "zaxis": {
            "backgroundcolor": "#E5ECF6",
            "gridcolor": "white",
            "gridwidth": 2,
            "linecolor": "white",
            "showbackground": true,
            "ticks": "",
            "zerolinecolor": "white"
           }
          },
          "shapedefaults": {
           "line": {
            "color": "#2a3f5f"
           }
          },
          "ternary": {
           "aaxis": {
            "gridcolor": "white",
            "linecolor": "white",
            "ticks": ""
           },
           "baxis": {
            "gridcolor": "white",
            "linecolor": "white",
            "ticks": ""
           },
           "bgcolor": "#E5ECF6",
           "caxis": {
            "gridcolor": "white",
            "linecolor": "white",
            "ticks": ""
           }
          },
          "title": {
           "x": 0.05
          },
          "xaxis": {
           "automargin": true,
           "gridcolor": "white",
           "linecolor": "white",
           "ticks": "",
           "title": {
            "standoff": 15
           },
           "zerolinecolor": "white",
           "zerolinewidth": 2
          },
          "yaxis": {
           "automargin": true,
           "gridcolor": "white",
           "linecolor": "white",
           "ticks": "",
           "title": {
            "standoff": 15
           },
           "zerolinecolor": "white",
           "zerolinewidth": 2
          }
         }
        },
        "xaxis": {
         "anchor": "y",
         "domain": [
          0,
          1
         ],
         "title": {
          "text": "index"
         }
        },
        "yaxis": {
         "anchor": "x",
         "domain": [
          0,
          1
         ],
         "title": {
          "text": "value"
         }
        }
       }
      }
     },
     "metadata": {},
     "output_type": "display_data"
    }
   ],
   "source": [
    "derived_df_0.incidence.plot()"
   ]
  }
 ],
 "metadata": {
  "kernelspec": {
   "display_name": "autumn",
   "language": "python",
   "name": "python3"
  },
  "language_info": {
   "codemirror_mode": {
    "name": "ipython",
    "version": 3
   },
   "file_extension": ".py",
   "mimetype": "text/x-python",
   "name": "python",
   "nbconvert_exporter": "python",
   "pygments_lexer": "ipython3",
   "version": "3.10.0"
  },
  "orig_nbformat": 4,
  "vscode": {
   "interpreter": {
    "hash": "cdc1db7c93b6868ea0fedcce5cd81a1f74606c1851ad278abbacefb9281e55af"
   }
  }
 },
 "nbformat": 4,
 "nbformat_minor": 2
}
