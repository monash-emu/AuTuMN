{
 "cells": [
  {
   "cell_type": "code",
   "execution_count": 1,
   "metadata": {},
   "outputs": [],
   "source": [
    "import warnings\n",
    "from typing import List\n",
    "\n",
    "import pandas as pd\n",
    "import plotly.graph_objects as go\n",
    "import plotly.express as px\n",
    "from autumn.core.project import get_project\n",
    "from autumn.settings import Region, Models\n",
    "from autumn.core import inputs\n",
    "from autumn.core.utils.display import pretty_print\n",
    "from autumn.core.inputs.tb_camau import queries\n",
    "from autumn.core.inputs import get_death_rates_by_agegroup\n",
    "import pathlib"
   ]
  },
  {
   "cell_type": "code",
   "execution_count": 2,
   "metadata": {},
   "outputs": [],
   "source": [
    "warnings.filterwarnings(\"ignore\")\n",
    "pd.options.plotting.backend = \"plotly\""
   ]
  },
  {
   "cell_type": "code",
   "execution_count": 3,
   "metadata": {},
   "outputs": [],
   "source": [
    "region = Region.CAMAU\n",
    "model = Models.TBD2\n",
    "p = get_project(model, region, reload=True)\n",
    "baseline_params = p.param_set.baseline\n",
    "plots = p.plots\n",
    "iso3 = baseline_params['country']['iso3']\n",
    "source_iso3 = baseline_params['age_mixing']['source_iso3']\n",
    "age_adjust = baseline_params['age_mixing']['age_adjust']\n",
    "age_string_map = {\n",
    "    0: \"0-4\",\n",
    "    5: \"5-14\",\n",
    "    15: \"15-34\",\n",
    "    35: \"35-49\",\n",
    "    50: \"50+\",\n",
    "}"
   ]
  },
  {
   "cell_type": "markdown",
   "metadata": {},
   "source": [
    "## Population"
   ]
  },
  {
   "cell_type": "code",
   "execution_count": 4,
   "metadata": {},
   "outputs": [
    {
     "name": "stdout",
     "output_type": "stream",
     "text": [
      "Modelled age groups are [0, 5, 15, 35, 50]\n"
     ]
    }
   ],
   "source": [
    "modelled_age_groups = baseline_params[\"age_breakpoints\"]\n",
    "print(f\"Modelled age groups are {modelled_age_groups}\")"
   ]
  },
  {
   "cell_type": "code",
   "execution_count": 5,
   "metadata": {},
   "outputs": [],
   "source": [
    "csv_path = pathlib.Path('camau.csv')"
   ]
  },
  {
   "cell_type": "code",
   "execution_count": 6,
   "metadata": {},
   "outputs": [
    {
     "data": {
      "application/vnd.plotly.v1+json": {
       "config": {
        "plotlyServerURL": "https://plot.ly"
       },
       "data": [
        {
         "hovertemplate": "variable=population<br>year=%{x}<br>value=%{y}<extra></extra>",
         "legendgroup": "population",
         "line": {
          "color": "#636efa",
          "dash": "solid"
         },
         "marker": {
          "symbol": "circle"
         },
         "mode": "lines",
         "name": "population",
         "orientation": "v",
         "showlegend": true,
         "type": "scatter",
         "x": [
          1995,
          1996,
          1997,
          1998,
          1999,
          2000,
          2001,
          2002,
          2003,
          2004,
          2005,
          2006,
          2007,
          2008,
          2009,
          2010,
          2011,
          2012,
          2013,
          2014,
          2015,
          2016,
          2017,
          2018,
          2019
         ],
         "xaxis": "x",
         "y": [
          1041800,
          1061600,
          1081100,
          1101800,
          1123500,
          1133900,
          1145200,
          1155300,
          1164500,
          1174400,
          1182900,
          1188700,
          1195200,
          1201700,
          1207100,
          1205840,
          1204500,
          1203460,
          1202070,
          1200740,
          1199500,
          1198100,
          1197000,
          1195600,
          1194300
         ],
         "yaxis": "y"
        }
       ],
       "layout": {
        "legend": {
         "title": {
          "text": "variable"
         },
         "tracegroupgap": 0
        },
        "margin": {
         "t": 60
        },
        "template": {
         "data": {
          "bar": [
           {
            "error_x": {
             "color": "#2a3f5f"
            },
            "error_y": {
             "color": "#2a3f5f"
            },
            "marker": {
             "line": {
              "color": "#E5ECF6",
              "width": 0.5
             },
             "pattern": {
              "fillmode": "overlay",
              "size": 10,
              "solidity": 0.2
             }
            },
            "type": "bar"
           }
          ],
          "barpolar": [
           {
            "marker": {
             "line": {
              "color": "#E5ECF6",
              "width": 0.5
             },
             "pattern": {
              "fillmode": "overlay",
              "size": 10,
              "solidity": 0.2
             }
            },
            "type": "barpolar"
           }
          ],
          "carpet": [
           {
            "aaxis": {
             "endlinecolor": "#2a3f5f",
             "gridcolor": "white",
             "linecolor": "white",
             "minorgridcolor": "white",
             "startlinecolor": "#2a3f5f"
            },
            "baxis": {
             "endlinecolor": "#2a3f5f",
             "gridcolor": "white",
             "linecolor": "white",
             "minorgridcolor": "white",
             "startlinecolor": "#2a3f5f"
            },
            "type": "carpet"
           }
          ],
          "choropleth": [
           {
            "colorbar": {
             "outlinewidth": 0,
             "ticks": ""
            },
            "type": "choropleth"
           }
          ],
          "contour": [
           {
            "colorbar": {
             "outlinewidth": 0,
             "ticks": ""
            },
            "colorscale": [
             [
              0,
              "#0d0887"
             ],
             [
              0.1111111111111111,
              "#46039f"
             ],
             [
              0.2222222222222222,
              "#7201a8"
             ],
             [
              0.3333333333333333,
              "#9c179e"
             ],
             [
              0.4444444444444444,
              "#bd3786"
             ],
             [
              0.5555555555555556,
              "#d8576b"
             ],
             [
              0.6666666666666666,
              "#ed7953"
             ],
             [
              0.7777777777777778,
              "#fb9f3a"
             ],
             [
              0.8888888888888888,
              "#fdca26"
             ],
             [
              1,
              "#f0f921"
             ]
            ],
            "type": "contour"
           }
          ],
          "contourcarpet": [
           {
            "colorbar": {
             "outlinewidth": 0,
             "ticks": ""
            },
            "type": "contourcarpet"
           }
          ],
          "heatmap": [
           {
            "colorbar": {
             "outlinewidth": 0,
             "ticks": ""
            },
            "colorscale": [
             [
              0,
              "#0d0887"
             ],
             [
              0.1111111111111111,
              "#46039f"
             ],
             [
              0.2222222222222222,
              "#7201a8"
             ],
             [
              0.3333333333333333,
              "#9c179e"
             ],
             [
              0.4444444444444444,
              "#bd3786"
             ],
             [
              0.5555555555555556,
              "#d8576b"
             ],
             [
              0.6666666666666666,
              "#ed7953"
             ],
             [
              0.7777777777777778,
              "#fb9f3a"
             ],
             [
              0.8888888888888888,
              "#fdca26"
             ],
             [
              1,
              "#f0f921"
             ]
            ],
            "type": "heatmap"
           }
          ],
          "heatmapgl": [
           {
            "colorbar": {
             "outlinewidth": 0,
             "ticks": ""
            },
            "colorscale": [
             [
              0,
              "#0d0887"
             ],
             [
              0.1111111111111111,
              "#46039f"
             ],
             [
              0.2222222222222222,
              "#7201a8"
             ],
             [
              0.3333333333333333,
              "#9c179e"
             ],
             [
              0.4444444444444444,
              "#bd3786"
             ],
             [
              0.5555555555555556,
              "#d8576b"
             ],
             [
              0.6666666666666666,
              "#ed7953"
             ],
             [
              0.7777777777777778,
              "#fb9f3a"
             ],
             [
              0.8888888888888888,
              "#fdca26"
             ],
             [
              1,
              "#f0f921"
             ]
            ],
            "type": "heatmapgl"
           }
          ],
          "histogram": [
           {
            "marker": {
             "pattern": {
              "fillmode": "overlay",
              "size": 10,
              "solidity": 0.2
             }
            },
            "type": "histogram"
           }
          ],
          "histogram2d": [
           {
            "colorbar": {
             "outlinewidth": 0,
             "ticks": ""
            },
            "colorscale": [
             [
              0,
              "#0d0887"
             ],
             [
              0.1111111111111111,
              "#46039f"
             ],
             [
              0.2222222222222222,
              "#7201a8"
             ],
             [
              0.3333333333333333,
              "#9c179e"
             ],
             [
              0.4444444444444444,
              "#bd3786"
             ],
             [
              0.5555555555555556,
              "#d8576b"
             ],
             [
              0.6666666666666666,
              "#ed7953"
             ],
             [
              0.7777777777777778,
              "#fb9f3a"
             ],
             [
              0.8888888888888888,
              "#fdca26"
             ],
             [
              1,
              "#f0f921"
             ]
            ],
            "type": "histogram2d"
           }
          ],
          "histogram2dcontour": [
           {
            "colorbar": {
             "outlinewidth": 0,
             "ticks": ""
            },
            "colorscale": [
             [
              0,
              "#0d0887"
             ],
             [
              0.1111111111111111,
              "#46039f"
             ],
             [
              0.2222222222222222,
              "#7201a8"
             ],
             [
              0.3333333333333333,
              "#9c179e"
             ],
             [
              0.4444444444444444,
              "#bd3786"
             ],
             [
              0.5555555555555556,
              "#d8576b"
             ],
             [
              0.6666666666666666,
              "#ed7953"
             ],
             [
              0.7777777777777778,
              "#fb9f3a"
             ],
             [
              0.8888888888888888,
              "#fdca26"
             ],
             [
              1,
              "#f0f921"
             ]
            ],
            "type": "histogram2dcontour"
           }
          ],
          "mesh3d": [
           {
            "colorbar": {
             "outlinewidth": 0,
             "ticks": ""
            },
            "type": "mesh3d"
           }
          ],
          "parcoords": [
           {
            "line": {
             "colorbar": {
              "outlinewidth": 0,
              "ticks": ""
             }
            },
            "type": "parcoords"
           }
          ],
          "pie": [
           {
            "automargin": true,
            "type": "pie"
           }
          ],
          "scatter": [
           {
            "fillpattern": {
             "fillmode": "overlay",
             "size": 10,
             "solidity": 0.2
            },
            "type": "scatter"
           }
          ],
          "scatter3d": [
           {
            "line": {
             "colorbar": {
              "outlinewidth": 0,
              "ticks": ""
             }
            },
            "marker": {
             "colorbar": {
              "outlinewidth": 0,
              "ticks": ""
             }
            },
            "type": "scatter3d"
           }
          ],
          "scattercarpet": [
           {
            "marker": {
             "colorbar": {
              "outlinewidth": 0,
              "ticks": ""
             }
            },
            "type": "scattercarpet"
           }
          ],
          "scattergeo": [
           {
            "marker": {
             "colorbar": {
              "outlinewidth": 0,
              "ticks": ""
             }
            },
            "type": "scattergeo"
           }
          ],
          "scattergl": [
           {
            "marker": {
             "colorbar": {
              "outlinewidth": 0,
              "ticks": ""
             }
            },
            "type": "scattergl"
           }
          ],
          "scattermapbox": [
           {
            "marker": {
             "colorbar": {
              "outlinewidth": 0,
              "ticks": ""
             }
            },
            "type": "scattermapbox"
           }
          ],
          "scatterpolar": [
           {
            "marker": {
             "colorbar": {
              "outlinewidth": 0,
              "ticks": ""
             }
            },
            "type": "scatterpolar"
           }
          ],
          "scatterpolargl": [
           {
            "marker": {
             "colorbar": {
              "outlinewidth": 0,
              "ticks": ""
             }
            },
            "type": "scatterpolargl"
           }
          ],
          "scatterternary": [
           {
            "marker": {
             "colorbar": {
              "outlinewidth": 0,
              "ticks": ""
             }
            },
            "type": "scatterternary"
           }
          ],
          "surface": [
           {
            "colorbar": {
             "outlinewidth": 0,
             "ticks": ""
            },
            "colorscale": [
             [
              0,
              "#0d0887"
             ],
             [
              0.1111111111111111,
              "#46039f"
             ],
             [
              0.2222222222222222,
              "#7201a8"
             ],
             [
              0.3333333333333333,
              "#9c179e"
             ],
             [
              0.4444444444444444,
              "#bd3786"
             ],
             [
              0.5555555555555556,
              "#d8576b"
             ],
             [
              0.6666666666666666,
              "#ed7953"
             ],
             [
              0.7777777777777778,
              "#fb9f3a"
             ],
             [
              0.8888888888888888,
              "#fdca26"
             ],
             [
              1,
              "#f0f921"
             ]
            ],
            "type": "surface"
           }
          ],
          "table": [
           {
            "cells": {
             "fill": {
              "color": "#EBF0F8"
             },
             "line": {
              "color": "white"
             }
            },
            "header": {
             "fill": {
              "color": "#C8D4E3"
             },
             "line": {
              "color": "white"
             }
            },
            "type": "table"
           }
          ]
         },
         "layout": {
          "annotationdefaults": {
           "arrowcolor": "#2a3f5f",
           "arrowhead": 0,
           "arrowwidth": 1
          },
          "autotypenumbers": "strict",
          "coloraxis": {
           "colorbar": {
            "outlinewidth": 0,
            "ticks": ""
           }
          },
          "colorscale": {
           "diverging": [
            [
             0,
             "#8e0152"
            ],
            [
             0.1,
             "#c51b7d"
            ],
            [
             0.2,
             "#de77ae"
            ],
            [
             0.3,
             "#f1b6da"
            ],
            [
             0.4,
             "#fde0ef"
            ],
            [
             0.5,
             "#f7f7f7"
            ],
            [
             0.6,
             "#e6f5d0"
            ],
            [
             0.7,
             "#b8e186"
            ],
            [
             0.8,
             "#7fbc41"
            ],
            [
             0.9,
             "#4d9221"
            ],
            [
             1,
             "#276419"
            ]
           ],
           "sequential": [
            [
             0,
             "#0d0887"
            ],
            [
             0.1111111111111111,
             "#46039f"
            ],
            [
             0.2222222222222222,
             "#7201a8"
            ],
            [
             0.3333333333333333,
             "#9c179e"
            ],
            [
             0.4444444444444444,
             "#bd3786"
            ],
            [
             0.5555555555555556,
             "#d8576b"
            ],
            [
             0.6666666666666666,
             "#ed7953"
            ],
            [
             0.7777777777777778,
             "#fb9f3a"
            ],
            [
             0.8888888888888888,
             "#fdca26"
            ],
            [
             1,
             "#f0f921"
            ]
           ],
           "sequentialminus": [
            [
             0,
             "#0d0887"
            ],
            [
             0.1111111111111111,
             "#46039f"
            ],
            [
             0.2222222222222222,
             "#7201a8"
            ],
            [
             0.3333333333333333,
             "#9c179e"
            ],
            [
             0.4444444444444444,
             "#bd3786"
            ],
            [
             0.5555555555555556,
             "#d8576b"
            ],
            [
             0.6666666666666666,
             "#ed7953"
            ],
            [
             0.7777777777777778,
             "#fb9f3a"
            ],
            [
             0.8888888888888888,
             "#fdca26"
            ],
            [
             1,
             "#f0f921"
            ]
           ]
          },
          "colorway": [
           "#636efa",
           "#EF553B",
           "#00cc96",
           "#ab63fa",
           "#FFA15A",
           "#19d3f3",
           "#FF6692",
           "#B6E880",
           "#FF97FF",
           "#FECB52"
          ],
          "font": {
           "color": "#2a3f5f"
          },
          "geo": {
           "bgcolor": "white",
           "lakecolor": "white",
           "landcolor": "#E5ECF6",
           "showlakes": true,
           "showland": true,
           "subunitcolor": "white"
          },
          "hoverlabel": {
           "align": "left"
          },
          "hovermode": "closest",
          "mapbox": {
           "style": "light"
          },
          "paper_bgcolor": "white",
          "plot_bgcolor": "#E5ECF6",
          "polar": {
           "angularaxis": {
            "gridcolor": "white",
            "linecolor": "white",
            "ticks": ""
           },
           "bgcolor": "#E5ECF6",
           "radialaxis": {
            "gridcolor": "white",
            "linecolor": "white",
            "ticks": ""
           }
          },
          "scene": {
           "xaxis": {
            "backgroundcolor": "#E5ECF6",
            "gridcolor": "white",
            "gridwidth": 2,
            "linecolor": "white",
            "showbackground": true,
            "ticks": "",
            "zerolinecolor": "white"
           },
           "yaxis": {
            "backgroundcolor": "#E5ECF6",
            "gridcolor": "white",
            "gridwidth": 2,
            "linecolor": "white",
            "showbackground": true,
            "ticks": "",
            "zerolinecolor": "white"
           },
           "zaxis": {
            "backgroundcolor": "#E5ECF6",
            "gridcolor": "white",
            "gridwidth": 2,
            "linecolor": "white",
            "showbackground": true,
            "ticks": "",
            "zerolinecolor": "white"
           }
          },
          "shapedefaults": {
           "line": {
            "color": "#2a3f5f"
           }
          },
          "ternary": {
           "aaxis": {
            "gridcolor": "white",
            "linecolor": "white",
            "ticks": ""
           },
           "baxis": {
            "gridcolor": "white",
            "linecolor": "white",
            "ticks": ""
           },
           "bgcolor": "#E5ECF6",
           "caxis": {
            "gridcolor": "white",
            "linecolor": "white",
            "ticks": ""
           }
          },
          "title": {
           "x": 0.05
          },
          "xaxis": {
           "automargin": true,
           "gridcolor": "white",
           "linecolor": "white",
           "ticks": "",
           "title": {
            "standoff": 15
           },
           "zerolinecolor": "white",
           "zerolinewidth": 2
          },
          "yaxis": {
           "automargin": true,
           "gridcolor": "white",
           "linecolor": "white",
           "ticks": "",
           "title": {
            "standoff": 15
           },
           "zerolinecolor": "white",
           "zerolinewidth": 2
          }
         }
        },
        "xaxis": {
         "anchor": "y",
         "domain": [
          0,
          1
         ],
         "title": {
          "text": "year"
         }
        },
        "yaxis": {
         "anchor": "x",
         "domain": [
          0,
          1
         ],
         "title": {
          "text": "value"
         }
        }
       }
      }
     },
     "metadata": {},
     "output_type": "display_data"
    }
   ],
   "source": [
    "pop_df = pd.read_csv(csv_path)\n",
    "pop_df = pop_df.set_index(['year'])\n",
    "pop_df['population'].plot()"
   ]
  },
  {
   "cell_type": "markdown",
   "metadata": {},
   "source": [
    "### Birth rate"
   ]
  },
  {
   "cell_type": "code",
   "execution_count": 7,
   "metadata": {},
   "outputs": [
    {
     "data": {
      "application/vnd.plotly.v1+json": {
       "config": {
        "plotlyServerURL": "https://plot.ly"
       },
       "data": [
        {
         "hovertemplate": "variable=0<br>mean_year=%{x}<br>value=%{y}<extra></extra>",
         "legendgroup": "0",
         "line": {
          "color": "#636efa",
          "dash": "solid"
         },
         "marker": {
          "symbol": "circle"
         },
         "mode": "markers+lines",
         "name": "0",
         "orientation": "v",
         "showlegend": true,
         "type": "scatter",
         "x": [
          1952.5,
          1957.5,
          1962.5,
          1967.5,
          1972.5,
          1977.5,
          1982.5,
          1987.5,
          1992.5,
          1997.5,
          2002.5,
          2007.5,
          2012.5,
          2017.5
         ],
         "xaxis": "x",
         "y": [
          0.039776000000000006,
          0.042731000000000005,
          0.040619999999999996,
          0.037357,
          0.035531,
          0.032790999999999994,
          0.031293,
          0.029655,
          0.026611,
          0.019188,
          0.016832999999999997,
          0.017184,
          0.017283,
          0.016945
         ],
         "yaxis": "y"
        }
       ],
       "layout": {
        "legend": {
         "title": {
          "text": "variable"
         },
         "tracegroupgap": 0
        },
        "margin": {
         "t": 60
        },
        "showlegend": false,
        "template": {
         "data": {
          "bar": [
           {
            "error_x": {
             "color": "#2a3f5f"
            },
            "error_y": {
             "color": "#2a3f5f"
            },
            "marker": {
             "line": {
              "color": "#E5ECF6",
              "width": 0.5
             },
             "pattern": {
              "fillmode": "overlay",
              "size": 10,
              "solidity": 0.2
             }
            },
            "type": "bar"
           }
          ],
          "barpolar": [
           {
            "marker": {
             "line": {
              "color": "#E5ECF6",
              "width": 0.5
             },
             "pattern": {
              "fillmode": "overlay",
              "size": 10,
              "solidity": 0.2
             }
            },
            "type": "barpolar"
           }
          ],
          "carpet": [
           {
            "aaxis": {
             "endlinecolor": "#2a3f5f",
             "gridcolor": "white",
             "linecolor": "white",
             "minorgridcolor": "white",
             "startlinecolor": "#2a3f5f"
            },
            "baxis": {
             "endlinecolor": "#2a3f5f",
             "gridcolor": "white",
             "linecolor": "white",
             "minorgridcolor": "white",
             "startlinecolor": "#2a3f5f"
            },
            "type": "carpet"
           }
          ],
          "choropleth": [
           {
            "colorbar": {
             "outlinewidth": 0,
             "ticks": ""
            },
            "type": "choropleth"
           }
          ],
          "contour": [
           {
            "colorbar": {
             "outlinewidth": 0,
             "ticks": ""
            },
            "colorscale": [
             [
              0,
              "#0d0887"
             ],
             [
              0.1111111111111111,
              "#46039f"
             ],
             [
              0.2222222222222222,
              "#7201a8"
             ],
             [
              0.3333333333333333,
              "#9c179e"
             ],
             [
              0.4444444444444444,
              "#bd3786"
             ],
             [
              0.5555555555555556,
              "#d8576b"
             ],
             [
              0.6666666666666666,
              "#ed7953"
             ],
             [
              0.7777777777777778,
              "#fb9f3a"
             ],
             [
              0.8888888888888888,
              "#fdca26"
             ],
             [
              1,
              "#f0f921"
             ]
            ],
            "type": "contour"
           }
          ],
          "contourcarpet": [
           {
            "colorbar": {
             "outlinewidth": 0,
             "ticks": ""
            },
            "type": "contourcarpet"
           }
          ],
          "heatmap": [
           {
            "colorbar": {
             "outlinewidth": 0,
             "ticks": ""
            },
            "colorscale": [
             [
              0,
              "#0d0887"
             ],
             [
              0.1111111111111111,
              "#46039f"
             ],
             [
              0.2222222222222222,
              "#7201a8"
             ],
             [
              0.3333333333333333,
              "#9c179e"
             ],
             [
              0.4444444444444444,
              "#bd3786"
             ],
             [
              0.5555555555555556,
              "#d8576b"
             ],
             [
              0.6666666666666666,
              "#ed7953"
             ],
             [
              0.7777777777777778,
              "#fb9f3a"
             ],
             [
              0.8888888888888888,
              "#fdca26"
             ],
             [
              1,
              "#f0f921"
             ]
            ],
            "type": "heatmap"
           }
          ],
          "heatmapgl": [
           {
            "colorbar": {
             "outlinewidth": 0,
             "ticks": ""
            },
            "colorscale": [
             [
              0,
              "#0d0887"
             ],
             [
              0.1111111111111111,
              "#46039f"
             ],
             [
              0.2222222222222222,
              "#7201a8"
             ],
             [
              0.3333333333333333,
              "#9c179e"
             ],
             [
              0.4444444444444444,
              "#bd3786"
             ],
             [
              0.5555555555555556,
              "#d8576b"
             ],
             [
              0.6666666666666666,
              "#ed7953"
             ],
             [
              0.7777777777777778,
              "#fb9f3a"
             ],
             [
              0.8888888888888888,
              "#fdca26"
             ],
             [
              1,
              "#f0f921"
             ]
            ],
            "type": "heatmapgl"
           }
          ],
          "histogram": [
           {
            "marker": {
             "pattern": {
              "fillmode": "overlay",
              "size": 10,
              "solidity": 0.2
             }
            },
            "type": "histogram"
           }
          ],
          "histogram2d": [
           {
            "colorbar": {
             "outlinewidth": 0,
             "ticks": ""
            },
            "colorscale": [
             [
              0,
              "#0d0887"
             ],
             [
              0.1111111111111111,
              "#46039f"
             ],
             [
              0.2222222222222222,
              "#7201a8"
             ],
             [
              0.3333333333333333,
              "#9c179e"
             ],
             [
              0.4444444444444444,
              "#bd3786"
             ],
             [
              0.5555555555555556,
              "#d8576b"
             ],
             [
              0.6666666666666666,
              "#ed7953"
             ],
             [
              0.7777777777777778,
              "#fb9f3a"
             ],
             [
              0.8888888888888888,
              "#fdca26"
             ],
             [
              1,
              "#f0f921"
             ]
            ],
            "type": "histogram2d"
           }
          ],
          "histogram2dcontour": [
           {
            "colorbar": {
             "outlinewidth": 0,
             "ticks": ""
            },
            "colorscale": [
             [
              0,
              "#0d0887"
             ],
             [
              0.1111111111111111,
              "#46039f"
             ],
             [
              0.2222222222222222,
              "#7201a8"
             ],
             [
              0.3333333333333333,
              "#9c179e"
             ],
             [
              0.4444444444444444,
              "#bd3786"
             ],
             [
              0.5555555555555556,
              "#d8576b"
             ],
             [
              0.6666666666666666,
              "#ed7953"
             ],
             [
              0.7777777777777778,
              "#fb9f3a"
             ],
             [
              0.8888888888888888,
              "#fdca26"
             ],
             [
              1,
              "#f0f921"
             ]
            ],
            "type": "histogram2dcontour"
           }
          ],
          "mesh3d": [
           {
            "colorbar": {
             "outlinewidth": 0,
             "ticks": ""
            },
            "type": "mesh3d"
           }
          ],
          "parcoords": [
           {
            "line": {
             "colorbar": {
              "outlinewidth": 0,
              "ticks": ""
             }
            },
            "type": "parcoords"
           }
          ],
          "pie": [
           {
            "automargin": true,
            "type": "pie"
           }
          ],
          "scatter": [
           {
            "fillpattern": {
             "fillmode": "overlay",
             "size": 10,
             "solidity": 0.2
            },
            "type": "scatter"
           }
          ],
          "scatter3d": [
           {
            "line": {
             "colorbar": {
              "outlinewidth": 0,
              "ticks": ""
             }
            },
            "marker": {
             "colorbar": {
              "outlinewidth": 0,
              "ticks": ""
             }
            },
            "type": "scatter3d"
           }
          ],
          "scattercarpet": [
           {
            "marker": {
             "colorbar": {
              "outlinewidth": 0,
              "ticks": ""
             }
            },
            "type": "scattercarpet"
           }
          ],
          "scattergeo": [
           {
            "marker": {
             "colorbar": {
              "outlinewidth": 0,
              "ticks": ""
             }
            },
            "type": "scattergeo"
           }
          ],
          "scattergl": [
           {
            "marker": {
             "colorbar": {
              "outlinewidth": 0,
              "ticks": ""
             }
            },
            "type": "scattergl"
           }
          ],
          "scattermapbox": [
           {
            "marker": {
             "colorbar": {
              "outlinewidth": 0,
              "ticks": ""
             }
            },
            "type": "scattermapbox"
           }
          ],
          "scatterpolar": [
           {
            "marker": {
             "colorbar": {
              "outlinewidth": 0,
              "ticks": ""
             }
            },
            "type": "scatterpolar"
           }
          ],
          "scatterpolargl": [
           {
            "marker": {
             "colorbar": {
              "outlinewidth": 0,
              "ticks": ""
             }
            },
            "type": "scatterpolargl"
           }
          ],
          "scatterternary": [
           {
            "marker": {
             "colorbar": {
              "outlinewidth": 0,
              "ticks": ""
             }
            },
            "type": "scatterternary"
           }
          ],
          "surface": [
           {
            "colorbar": {
             "outlinewidth": 0,
             "ticks": ""
            },
            "colorscale": [
             [
              0,
              "#0d0887"
             ],
             [
              0.1111111111111111,
              "#46039f"
             ],
             [
              0.2222222222222222,
              "#7201a8"
             ],
             [
              0.3333333333333333,
              "#9c179e"
             ],
             [
              0.4444444444444444,
              "#bd3786"
             ],
             [
              0.5555555555555556,
              "#d8576b"
             ],
             [
              0.6666666666666666,
              "#ed7953"
             ],
             [
              0.7777777777777778,
              "#fb9f3a"
             ],
             [
              0.8888888888888888,
              "#fdca26"
             ],
             [
              1,
              "#f0f921"
             ]
            ],
            "type": "surface"
           }
          ],
          "table": [
           {
            "cells": {
             "fill": {
              "color": "#EBF0F8"
             },
             "line": {
              "color": "white"
             }
            },
            "header": {
             "fill": {
              "color": "#C8D4E3"
             },
             "line": {
              "color": "white"
             }
            },
            "type": "table"
           }
          ]
         },
         "layout": {
          "annotationdefaults": {
           "arrowcolor": "#2a3f5f",
           "arrowhead": 0,
           "arrowwidth": 1
          },
          "autotypenumbers": "strict",
          "coloraxis": {
           "colorbar": {
            "outlinewidth": 0,
            "ticks": ""
           }
          },
          "colorscale": {
           "diverging": [
            [
             0,
             "#8e0152"
            ],
            [
             0.1,
             "#c51b7d"
            ],
            [
             0.2,
             "#de77ae"
            ],
            [
             0.3,
             "#f1b6da"
            ],
            [
             0.4,
             "#fde0ef"
            ],
            [
             0.5,
             "#f7f7f7"
            ],
            [
             0.6,
             "#e6f5d0"
            ],
            [
             0.7,
             "#b8e186"
            ],
            [
             0.8,
             "#7fbc41"
            ],
            [
             0.9,
             "#4d9221"
            ],
            [
             1,
             "#276419"
            ]
           ],
           "sequential": [
            [
             0,
             "#0d0887"
            ],
            [
             0.1111111111111111,
             "#46039f"
            ],
            [
             0.2222222222222222,
             "#7201a8"
            ],
            [
             0.3333333333333333,
             "#9c179e"
            ],
            [
             0.4444444444444444,
             "#bd3786"
            ],
            [
             0.5555555555555556,
             "#d8576b"
            ],
            [
             0.6666666666666666,
             "#ed7953"
            ],
            [
             0.7777777777777778,
             "#fb9f3a"
            ],
            [
             0.8888888888888888,
             "#fdca26"
            ],
            [
             1,
             "#f0f921"
            ]
           ],
           "sequentialminus": [
            [
             0,
             "#0d0887"
            ],
            [
             0.1111111111111111,
             "#46039f"
            ],
            [
             0.2222222222222222,
             "#7201a8"
            ],
            [
             0.3333333333333333,
             "#9c179e"
            ],
            [
             0.4444444444444444,
             "#bd3786"
            ],
            [
             0.5555555555555556,
             "#d8576b"
            ],
            [
             0.6666666666666666,
             "#ed7953"
            ],
            [
             0.7777777777777778,
             "#fb9f3a"
            ],
            [
             0.8888888888888888,
             "#fdca26"
            ],
            [
             1,
             "#f0f921"
            ]
           ]
          },
          "colorway": [
           "#636efa",
           "#EF553B",
           "#00cc96",
           "#ab63fa",
           "#FFA15A",
           "#19d3f3",
           "#FF6692",
           "#B6E880",
           "#FF97FF",
           "#FECB52"
          ],
          "font": {
           "color": "#2a3f5f"
          },
          "geo": {
           "bgcolor": "white",
           "lakecolor": "white",
           "landcolor": "#E5ECF6",
           "showlakes": true,
           "showland": true,
           "subunitcolor": "white"
          },
          "hoverlabel": {
           "align": "left"
          },
          "hovermode": "closest",
          "mapbox": {
           "style": "light"
          },
          "paper_bgcolor": "white",
          "plot_bgcolor": "#E5ECF6",
          "polar": {
           "angularaxis": {
            "gridcolor": "white",
            "linecolor": "white",
            "ticks": ""
           },
           "bgcolor": "#E5ECF6",
           "radialaxis": {
            "gridcolor": "white",
            "linecolor": "white",
            "ticks": ""
           }
          },
          "scene": {
           "xaxis": {
            "backgroundcolor": "#E5ECF6",
            "gridcolor": "white",
            "gridwidth": 2,
            "linecolor": "white",
            "showbackground": true,
            "ticks": "",
            "zerolinecolor": "white"
           },
           "yaxis": {
            "backgroundcolor": "#E5ECF6",
            "gridcolor": "white",
            "gridwidth": 2,
            "linecolor": "white",
            "showbackground": true,
            "ticks": "",
            "zerolinecolor": "white"
           },
           "zaxis": {
            "backgroundcolor": "#E5ECF6",
            "gridcolor": "white",
            "gridwidth": 2,
            "linecolor": "white",
            "showbackground": true,
            "ticks": "",
            "zerolinecolor": "white"
           }
          },
          "shapedefaults": {
           "line": {
            "color": "#2a3f5f"
           }
          },
          "ternary": {
           "aaxis": {
            "gridcolor": "white",
            "linecolor": "white",
            "ticks": ""
           },
           "baxis": {
            "gridcolor": "white",
            "linecolor": "white",
            "ticks": ""
           },
           "bgcolor": "#E5ECF6",
           "caxis": {
            "gridcolor": "white",
            "linecolor": "white",
            "ticks": ""
           }
          },
          "title": {
           "x": 0.05
          },
          "xaxis": {
           "automargin": true,
           "gridcolor": "white",
           "linecolor": "white",
           "ticks": "",
           "title": {
            "standoff": 15
           },
           "zerolinecolor": "white",
           "zerolinewidth": 2
          },
          "yaxis": {
           "automargin": true,
           "gridcolor": "white",
           "linecolor": "white",
           "ticks": "",
           "title": {
            "standoff": 15
           },
           "zerolinecolor": "white",
           "zerolinewidth": 2
          }
         }
        },
        "title": {
         "text": "Crude birth rate of Ca Mau",
         "x": 0.5
        },
        "xaxis": {
         "anchor": "y",
         "domain": [
          0,
          1
         ],
         "title": {
          "text": "Year"
         }
        },
        "yaxis": {
         "anchor": "x",
         "domain": [
          0,
          1
         ],
         "title": {
          "text": "Crude birth rate"
         }
        }
       }
      }
     },
     "metadata": {},
     "output_type": "display_data"
    }
   ],
   "source": [
    "birth_rates, years = inputs.get_crude_birth_rate(\"VNM\")\n",
    "birth_rates = [b / 1000.0 for b in birth_rates]  # Birth rates are provided / 1000 population\n",
    "birth_rates_series = pd.Series(birth_rates, index=years)\n",
    "br_fig= px.line(birth_rates_series)\n",
    "br_fig.update_traces(mode='markers+lines')\n",
    "br_fig.update_layout(\n",
    "    title=\"Crude birth rate of Ca Mau\",\n",
    "    title_x=0.5,\n",
    "    xaxis_title=\"Year\",\n",
    "    yaxis_title=\"Crude birth rate\",\n",
    "    showlegend=False,\n",
    ")"
   ]
  },
  {
   "cell_type": "markdown",
   "metadata": {},
   "source": [
    "### Death rate"
   ]
  },
  {
   "cell_type": "code",
   "execution_count": 8,
   "metadata": {},
   "outputs": [
    {
     "data": {
      "application/vnd.plotly.v1+json": {
       "config": {
        "plotlyServerURL": "https://plot.ly"
       },
       "data": [
        {
         "hovertemplate": "variable=0<br>index=%{x}<br>value=%{y}<extra></extra>",
         "legendgroup": "0",
         "line": {
          "color": "#636efa",
          "dash": "solid"
         },
         "marker": {
          "symbol": "circle"
         },
         "mode": "lines",
         "name": "0",
         "orientation": "v",
         "showlegend": true,
         "type": "scatter",
         "x": [
          1952.5,
          1957.5,
          1962.5,
          1967.5,
          1972.5,
          1977.5,
          1982.5,
          1987.5,
          1992.5,
          1997.5,
          2002.5,
          2007.5,
          2012.5,
          2017.5
         ],
         "xaxis": "x",
         "y": [
          20.444904341792885,
          29.482289787646447,
          40.92870955537183,
          51.524661918973464,
          55.101367058904295,
          68.79803186925655,
          76.71359700715429,
          88.85590162574651,
          107.40428581498624,
          163.43903102398104,
          176.10675992731154,
          187.4948765902168,
          209.04345380641195,
          230.69309620399886
         ],
         "yaxis": "y"
        },
        {
         "hovertemplate": "variable=5<br>index=%{x}<br>value=%{y}<extra></extra>",
         "legendgroup": "5",
         "line": {
          "color": "#EF553B",
          "dash": "solid"
         },
         "marker": {
          "symbol": "circle"
         },
         "mode": "lines",
         "name": "5",
         "orientation": "v",
         "showlegend": true,
         "type": "scatter",
         "x": [
          1952.5,
          1957.5,
          1962.5,
          1967.5,
          1972.5,
          1977.5,
          1982.5,
          1987.5,
          1992.5,
          1997.5,
          2002.5,
          2007.5,
          2012.5,
          2017.5
         ],
         "xaxis": "x",
         "y": [
          176.83987589529352,
          188.77632025552168,
          223.88948610437018,
          259.9896036663088,
          195.77214329202965,
          368.8090233800744,
          465.6717862038214,
          599.123905084914,
          759.6269012165749,
          982.1480537859496,
          1342.7895262698664,
          1767.211344489547,
          1837.7901975545442,
          1960.5681748514673
         ],
         "yaxis": "y"
        },
        {
         "hovertemplate": "variable=15<br>index=%{x}<br>value=%{y}<extra></extra>",
         "legendgroup": "15",
         "line": {
          "color": "#00cc96",
          "dash": "solid"
         },
         "marker": {
          "symbol": "circle"
         },
         "mode": "lines",
         "name": "15",
         "orientation": "v",
         "showlegend": true,
         "type": "scatter",
         "x": [
          1952.5,
          1957.5,
          1962.5,
          1967.5,
          1972.5,
          1977.5,
          1982.5,
          1987.5,
          1992.5,
          1997.5,
          2002.5,
          2007.5,
          2012.5,
          2017.5
         ],
         "xaxis": "x",
         "y": [
          327.68099208997137,
          370.26682491974674,
          401.63246998999637,
          386.905219527685,
          244.57012387080678,
          417.9244525793353,
          452.53549842583084,
          530.4116708804005,
          603.0983083954414,
          654.5669009282569,
          700.7397580397,
          771.9869119199767,
          809.2902053471516,
          852.5274850903924
         ],
         "yaxis": "y"
        },
        {
         "hovertemplate": "variable=35<br>index=%{x}<br>value=%{y}<extra></extra>",
         "legendgroup": "35",
         "line": {
          "color": "#ab63fa",
          "dash": "solid"
         },
         "marker": {
          "symbol": "circle"
         },
         "mode": "lines",
         "name": "35",
         "orientation": "v",
         "showlegend": true,
         "type": "scatter",
         "x": [
          1952.5,
          1957.5,
          1962.5,
          1967.5,
          1972.5,
          1977.5,
          1982.5,
          1987.5,
          1992.5,
          1997.5,
          2002.5,
          2007.5,
          2012.5,
          2017.5
         ],
         "xaxis": "x",
         "y": [
          106.53391485233813,
          126.69880902166264,
          153.44164960346131,
          159.72170890710618,
          115.08571690600395,
          208.71756438047228,
          239.2812822666623,
          244.28634466315282,
          248.06716846742344,
          255.90166107974255,
          286.6458962808636,
          316.9016276011846,
          328.9101996655841,
          335.54695559093363
         ],
         "yaxis": "y"
        },
        {
         "hovertemplate": "variable=50<br>index=%{x}<br>value=%{y}<extra></extra>",
         "legendgroup": "50",
         "line": {
          "color": "#FFA15A",
          "dash": "solid"
         },
         "marker": {
          "symbol": "circle"
         },
         "mode": "lines",
         "name": "50",
         "orientation": "v",
         "showlegend": true,
         "type": "scatter",
         "x": [
          1952.5,
          1957.5,
          1962.5,
          1967.5,
          1972.5,
          1977.5,
          1982.5,
          1987.5,
          1992.5,
          1997.5,
          2002.5,
          2007.5,
          2012.5,
          2017.5
         ],
         "xaxis": "x",
         "y": [
          7.056354722182018,
          7.14042329119906,
          7.117379668530624,
          7.147291128487501,
          6.913041910849589,
          8.196759683236078,
          8.697342724004898,
          9.417083981476397,
          10.226246110948376,
          10.879878196983078,
          11.623779855731188,
          11.862894485814962,
          12.296475270781523,
          12.332342428788765
         ],
         "yaxis": "y"
        }
       ],
       "layout": {
        "legend": {
         "title": {
          "text": "variable"
         },
         "tracegroupgap": 0
        },
        "margin": {
         "t": 60
        },
        "template": {
         "data": {
          "bar": [
           {
            "error_x": {
             "color": "#2a3f5f"
            },
            "error_y": {
             "color": "#2a3f5f"
            },
            "marker": {
             "line": {
              "color": "#E5ECF6",
              "width": 0.5
             },
             "pattern": {
              "fillmode": "overlay",
              "size": 10,
              "solidity": 0.2
             }
            },
            "type": "bar"
           }
          ],
          "barpolar": [
           {
            "marker": {
             "line": {
              "color": "#E5ECF6",
              "width": 0.5
             },
             "pattern": {
              "fillmode": "overlay",
              "size": 10,
              "solidity": 0.2
             }
            },
            "type": "barpolar"
           }
          ],
          "carpet": [
           {
            "aaxis": {
             "endlinecolor": "#2a3f5f",
             "gridcolor": "white",
             "linecolor": "white",
             "minorgridcolor": "white",
             "startlinecolor": "#2a3f5f"
            },
            "baxis": {
             "endlinecolor": "#2a3f5f",
             "gridcolor": "white",
             "linecolor": "white",
             "minorgridcolor": "white",
             "startlinecolor": "#2a3f5f"
            },
            "type": "carpet"
           }
          ],
          "choropleth": [
           {
            "colorbar": {
             "outlinewidth": 0,
             "ticks": ""
            },
            "type": "choropleth"
           }
          ],
          "contour": [
           {
            "colorbar": {
             "outlinewidth": 0,
             "ticks": ""
            },
            "colorscale": [
             [
              0,
              "#0d0887"
             ],
             [
              0.1111111111111111,
              "#46039f"
             ],
             [
              0.2222222222222222,
              "#7201a8"
             ],
             [
              0.3333333333333333,
              "#9c179e"
             ],
             [
              0.4444444444444444,
              "#bd3786"
             ],
             [
              0.5555555555555556,
              "#d8576b"
             ],
             [
              0.6666666666666666,
              "#ed7953"
             ],
             [
              0.7777777777777778,
              "#fb9f3a"
             ],
             [
              0.8888888888888888,
              "#fdca26"
             ],
             [
              1,
              "#f0f921"
             ]
            ],
            "type": "contour"
           }
          ],
          "contourcarpet": [
           {
            "colorbar": {
             "outlinewidth": 0,
             "ticks": ""
            },
            "type": "contourcarpet"
           }
          ],
          "heatmap": [
           {
            "colorbar": {
             "outlinewidth": 0,
             "ticks": ""
            },
            "colorscale": [
             [
              0,
              "#0d0887"
             ],
             [
              0.1111111111111111,
              "#46039f"
             ],
             [
              0.2222222222222222,
              "#7201a8"
             ],
             [
              0.3333333333333333,
              "#9c179e"
             ],
             [
              0.4444444444444444,
              "#bd3786"
             ],
             [
              0.5555555555555556,
              "#d8576b"
             ],
             [
              0.6666666666666666,
              "#ed7953"
             ],
             [
              0.7777777777777778,
              "#fb9f3a"
             ],
             [
              0.8888888888888888,
              "#fdca26"
             ],
             [
              1,
              "#f0f921"
             ]
            ],
            "type": "heatmap"
           }
          ],
          "heatmapgl": [
           {
            "colorbar": {
             "outlinewidth": 0,
             "ticks": ""
            },
            "colorscale": [
             [
              0,
              "#0d0887"
             ],
             [
              0.1111111111111111,
              "#46039f"
             ],
             [
              0.2222222222222222,
              "#7201a8"
             ],
             [
              0.3333333333333333,
              "#9c179e"
             ],
             [
              0.4444444444444444,
              "#bd3786"
             ],
             [
              0.5555555555555556,
              "#d8576b"
             ],
             [
              0.6666666666666666,
              "#ed7953"
             ],
             [
              0.7777777777777778,
              "#fb9f3a"
             ],
             [
              0.8888888888888888,
              "#fdca26"
             ],
             [
              1,
              "#f0f921"
             ]
            ],
            "type": "heatmapgl"
           }
          ],
          "histogram": [
           {
            "marker": {
             "pattern": {
              "fillmode": "overlay",
              "size": 10,
              "solidity": 0.2
             }
            },
            "type": "histogram"
           }
          ],
          "histogram2d": [
           {
            "colorbar": {
             "outlinewidth": 0,
             "ticks": ""
            },
            "colorscale": [
             [
              0,
              "#0d0887"
             ],
             [
              0.1111111111111111,
              "#46039f"
             ],
             [
              0.2222222222222222,
              "#7201a8"
             ],
             [
              0.3333333333333333,
              "#9c179e"
             ],
             [
              0.4444444444444444,
              "#bd3786"
             ],
             [
              0.5555555555555556,
              "#d8576b"
             ],
             [
              0.6666666666666666,
              "#ed7953"
             ],
             [
              0.7777777777777778,
              "#fb9f3a"
             ],
             [
              0.8888888888888888,
              "#fdca26"
             ],
             [
              1,
              "#f0f921"
             ]
            ],
            "type": "histogram2d"
           }
          ],
          "histogram2dcontour": [
           {
            "colorbar": {
             "outlinewidth": 0,
             "ticks": ""
            },
            "colorscale": [
             [
              0,
              "#0d0887"
             ],
             [
              0.1111111111111111,
              "#46039f"
             ],
             [
              0.2222222222222222,
              "#7201a8"
             ],
             [
              0.3333333333333333,
              "#9c179e"
             ],
             [
              0.4444444444444444,
              "#bd3786"
             ],
             [
              0.5555555555555556,
              "#d8576b"
             ],
             [
              0.6666666666666666,
              "#ed7953"
             ],
             [
              0.7777777777777778,
              "#fb9f3a"
             ],
             [
              0.8888888888888888,
              "#fdca26"
             ],
             [
              1,
              "#f0f921"
             ]
            ],
            "type": "histogram2dcontour"
           }
          ],
          "mesh3d": [
           {
            "colorbar": {
             "outlinewidth": 0,
             "ticks": ""
            },
            "type": "mesh3d"
           }
          ],
          "parcoords": [
           {
            "line": {
             "colorbar": {
              "outlinewidth": 0,
              "ticks": ""
             }
            },
            "type": "parcoords"
           }
          ],
          "pie": [
           {
            "automargin": true,
            "type": "pie"
           }
          ],
          "scatter": [
           {
            "fillpattern": {
             "fillmode": "overlay",
             "size": 10,
             "solidity": 0.2
            },
            "type": "scatter"
           }
          ],
          "scatter3d": [
           {
            "line": {
             "colorbar": {
              "outlinewidth": 0,
              "ticks": ""
             }
            },
            "marker": {
             "colorbar": {
              "outlinewidth": 0,
              "ticks": ""
             }
            },
            "type": "scatter3d"
           }
          ],
          "scattercarpet": [
           {
            "marker": {
             "colorbar": {
              "outlinewidth": 0,
              "ticks": ""
             }
            },
            "type": "scattercarpet"
           }
          ],
          "scattergeo": [
           {
            "marker": {
             "colorbar": {
              "outlinewidth": 0,
              "ticks": ""
             }
            },
            "type": "scattergeo"
           }
          ],
          "scattergl": [
           {
            "marker": {
             "colorbar": {
              "outlinewidth": 0,
              "ticks": ""
             }
            },
            "type": "scattergl"
           }
          ],
          "scattermapbox": [
           {
            "marker": {
             "colorbar": {
              "outlinewidth": 0,
              "ticks": ""
             }
            },
            "type": "scattermapbox"
           }
          ],
          "scatterpolar": [
           {
            "marker": {
             "colorbar": {
              "outlinewidth": 0,
              "ticks": ""
             }
            },
            "type": "scatterpolar"
           }
          ],
          "scatterpolargl": [
           {
            "marker": {
             "colorbar": {
              "outlinewidth": 0,
              "ticks": ""
             }
            },
            "type": "scatterpolargl"
           }
          ],
          "scatterternary": [
           {
            "marker": {
             "colorbar": {
              "outlinewidth": 0,
              "ticks": ""
             }
            },
            "type": "scatterternary"
           }
          ],
          "surface": [
           {
            "colorbar": {
             "outlinewidth": 0,
             "ticks": ""
            },
            "colorscale": [
             [
              0,
              "#0d0887"
             ],
             [
              0.1111111111111111,
              "#46039f"
             ],
             [
              0.2222222222222222,
              "#7201a8"
             ],
             [
              0.3333333333333333,
              "#9c179e"
             ],
             [
              0.4444444444444444,
              "#bd3786"
             ],
             [
              0.5555555555555556,
              "#d8576b"
             ],
             [
              0.6666666666666666,
              "#ed7953"
             ],
             [
              0.7777777777777778,
              "#fb9f3a"
             ],
             [
              0.8888888888888888,
              "#fdca26"
             ],
             [
              1,
              "#f0f921"
             ]
            ],
            "type": "surface"
           }
          ],
          "table": [
           {
            "cells": {
             "fill": {
              "color": "#EBF0F8"
             },
             "line": {
              "color": "white"
             }
            },
            "header": {
             "fill": {
              "color": "#C8D4E3"
             },
             "line": {
              "color": "white"
             }
            },
            "type": "table"
           }
          ]
         },
         "layout": {
          "annotationdefaults": {
           "arrowcolor": "#2a3f5f",
           "arrowhead": 0,
           "arrowwidth": 1
          },
          "autotypenumbers": "strict",
          "coloraxis": {
           "colorbar": {
            "outlinewidth": 0,
            "ticks": ""
           }
          },
          "colorscale": {
           "diverging": [
            [
             0,
             "#8e0152"
            ],
            [
             0.1,
             "#c51b7d"
            ],
            [
             0.2,
             "#de77ae"
            ],
            [
             0.3,
             "#f1b6da"
            ],
            [
             0.4,
             "#fde0ef"
            ],
            [
             0.5,
             "#f7f7f7"
            ],
            [
             0.6,
             "#e6f5d0"
            ],
            [
             0.7,
             "#b8e186"
            ],
            [
             0.8,
             "#7fbc41"
            ],
            [
             0.9,
             "#4d9221"
            ],
            [
             1,
             "#276419"
            ]
           ],
           "sequential": [
            [
             0,
             "#0d0887"
            ],
            [
             0.1111111111111111,
             "#46039f"
            ],
            [
             0.2222222222222222,
             "#7201a8"
            ],
            [
             0.3333333333333333,
             "#9c179e"
            ],
            [
             0.4444444444444444,
             "#bd3786"
            ],
            [
             0.5555555555555556,
             "#d8576b"
            ],
            [
             0.6666666666666666,
             "#ed7953"
            ],
            [
             0.7777777777777778,
             "#fb9f3a"
            ],
            [
             0.8888888888888888,
             "#fdca26"
            ],
            [
             1,
             "#f0f921"
            ]
           ],
           "sequentialminus": [
            [
             0,
             "#0d0887"
            ],
            [
             0.1111111111111111,
             "#46039f"
            ],
            [
             0.2222222222222222,
             "#7201a8"
            ],
            [
             0.3333333333333333,
             "#9c179e"
            ],
            [
             0.4444444444444444,
             "#bd3786"
            ],
            [
             0.5555555555555556,
             "#d8576b"
            ],
            [
             0.6666666666666666,
             "#ed7953"
            ],
            [
             0.7777777777777778,
             "#fb9f3a"
            ],
            [
             0.8888888888888888,
             "#fdca26"
            ],
            [
             1,
             "#f0f921"
            ]
           ]
          },
          "colorway": [
           "#636efa",
           "#EF553B",
           "#00cc96",
           "#ab63fa",
           "#FFA15A",
           "#19d3f3",
           "#FF6692",
           "#B6E880",
           "#FF97FF",
           "#FECB52"
          ],
          "font": {
           "color": "#2a3f5f"
          },
          "geo": {
           "bgcolor": "white",
           "lakecolor": "white",
           "landcolor": "#E5ECF6",
           "showlakes": true,
           "showland": true,
           "subunitcolor": "white"
          },
          "hoverlabel": {
           "align": "left"
          },
          "hovermode": "closest",
          "mapbox": {
           "style": "light"
          },
          "paper_bgcolor": "white",
          "plot_bgcolor": "#E5ECF6",
          "polar": {
           "angularaxis": {
            "gridcolor": "white",
            "linecolor": "white",
            "ticks": ""
           },
           "bgcolor": "#E5ECF6",
           "radialaxis": {
            "gridcolor": "white",
            "linecolor": "white",
            "ticks": ""
           }
          },
          "scene": {
           "xaxis": {
            "backgroundcolor": "#E5ECF6",
            "gridcolor": "white",
            "gridwidth": 2,
            "linecolor": "white",
            "showbackground": true,
            "ticks": "",
            "zerolinecolor": "white"
           },
           "yaxis": {
            "backgroundcolor": "#E5ECF6",
            "gridcolor": "white",
            "gridwidth": 2,
            "linecolor": "white",
            "showbackground": true,
            "ticks": "",
            "zerolinecolor": "white"
           },
           "zaxis": {
            "backgroundcolor": "#E5ECF6",
            "gridcolor": "white",
            "gridwidth": 2,
            "linecolor": "white",
            "showbackground": true,
            "ticks": "",
            "zerolinecolor": "white"
           }
          },
          "shapedefaults": {
           "line": {
            "color": "#2a3f5f"
           }
          },
          "ternary": {
           "aaxis": {
            "gridcolor": "white",
            "linecolor": "white",
            "ticks": ""
           },
           "baxis": {
            "gridcolor": "white",
            "linecolor": "white",
            "ticks": ""
           },
           "bgcolor": "#E5ECF6",
           "caxis": {
            "gridcolor": "white",
            "linecolor": "white",
            "ticks": ""
           }
          },
          "title": {
           "x": 0.05
          },
          "xaxis": {
           "automargin": true,
           "gridcolor": "white",
           "linecolor": "white",
           "ticks": "",
           "title": {
            "standoff": 15
           },
           "zerolinecolor": "white",
           "zerolinewidth": 2
          },
          "yaxis": {
           "automargin": true,
           "gridcolor": "white",
           "linecolor": "white",
           "ticks": "",
           "title": {
            "standoff": 15
           },
           "zerolinecolor": "white",
           "zerolinewidth": 2
          }
         }
        },
        "xaxis": {
         "anchor": "y",
         "domain": [
          0,
          1
         ],
         "title": {
          "text": "index"
         }
        },
        "yaxis": {
         "anchor": "x",
         "domain": [
          0,
          1
         ],
         "title": {
          "text": "value"
         },
         "type": "log"
        }
       }
      }
     },
     "metadata": {},
     "output_type": "display_data"
    }
   ],
   "source": [
    "# Currently used in model:\n",
    "death_rates_from_db = get_death_rates_by_agegroup(modelled_age_groups, \"VNM\")\n",
    "death_rates_df = pd.DataFrame(death_rates_from_db[0], index=death_rates_from_db[1])\n",
    "life_exp_at_age_df = 1.0 / death_rates_df\n",
    "death_rates_df.plot()\n",
    "life_exp_at_age_df.plot(log_y=True)"
   ]
  },
  {
   "cell_type": "code",
   "execution_count": 9,
   "metadata": {},
   "outputs": [
    {
     "data": {
      "application/vnd.plotly.v1+json": {
       "config": {
        "plotlyServerURL": "https://plot.ly"
       },
       "data": [
        {
         "hovertemplate": "variable=0<br>index=%{x}<br>value=%{y}<extra></extra>",
         "legendgroup": "0",
         "line": {
          "color": "#636efa",
          "dash": "solid"
         },
         "marker": {
          "symbol": "circle"
         },
         "mode": "markers+lines",
         "name": "0",
         "orientation": "v",
         "showlegend": true,
         "type": "scatter",
         "x": [
          2005,
          2007,
          2008,
          2009,
          2010,
          2011,
          2012,
          2013,
          2014,
          2015,
          2016,
          2017,
          2018,
          2019,
          2020,
          2021
         ],
         "xaxis": "x",
         "y": [
          0.0048,
          0.0048,
          0.0044,
          0.0056,
          0.0056,
          0.0058,
          0.0053,
          0.006,
          0.0074,
          0.0054,
          0.0048,
          0.0066,
          0.005,
          0.0054,
          0.00521,
          0.00539
         ],
         "yaxis": "y"
        }
       ],
       "layout": {
        "legend": {
         "title": {
          "text": "variable"
         },
         "tracegroupgap": 0
        },
        "margin": {
         "t": 60
        },
        "showlegend": false,
        "template": {
         "data": {
          "bar": [
           {
            "error_x": {
             "color": "#2a3f5f"
            },
            "error_y": {
             "color": "#2a3f5f"
            },
            "marker": {
             "line": {
              "color": "#E5ECF6",
              "width": 0.5
             },
             "pattern": {
              "fillmode": "overlay",
              "size": 10,
              "solidity": 0.2
             }
            },
            "type": "bar"
           }
          ],
          "barpolar": [
           {
            "marker": {
             "line": {
              "color": "#E5ECF6",
              "width": 0.5
             },
             "pattern": {
              "fillmode": "overlay",
              "size": 10,
              "solidity": 0.2
             }
            },
            "type": "barpolar"
           }
          ],
          "carpet": [
           {
            "aaxis": {
             "endlinecolor": "#2a3f5f",
             "gridcolor": "white",
             "linecolor": "white",
             "minorgridcolor": "white",
             "startlinecolor": "#2a3f5f"
            },
            "baxis": {
             "endlinecolor": "#2a3f5f",
             "gridcolor": "white",
             "linecolor": "white",
             "minorgridcolor": "white",
             "startlinecolor": "#2a3f5f"
            },
            "type": "carpet"
           }
          ],
          "choropleth": [
           {
            "colorbar": {
             "outlinewidth": 0,
             "ticks": ""
            },
            "type": "choropleth"
           }
          ],
          "contour": [
           {
            "colorbar": {
             "outlinewidth": 0,
             "ticks": ""
            },
            "colorscale": [
             [
              0,
              "#0d0887"
             ],
             [
              0.1111111111111111,
              "#46039f"
             ],
             [
              0.2222222222222222,
              "#7201a8"
             ],
             [
              0.3333333333333333,
              "#9c179e"
             ],
             [
              0.4444444444444444,
              "#bd3786"
             ],
             [
              0.5555555555555556,
              "#d8576b"
             ],
             [
              0.6666666666666666,
              "#ed7953"
             ],
             [
              0.7777777777777778,
              "#fb9f3a"
             ],
             [
              0.8888888888888888,
              "#fdca26"
             ],
             [
              1,
              "#f0f921"
             ]
            ],
            "type": "contour"
           }
          ],
          "contourcarpet": [
           {
            "colorbar": {
             "outlinewidth": 0,
             "ticks": ""
            },
            "type": "contourcarpet"
           }
          ],
          "heatmap": [
           {
            "colorbar": {
             "outlinewidth": 0,
             "ticks": ""
            },
            "colorscale": [
             [
              0,
              "#0d0887"
             ],
             [
              0.1111111111111111,
              "#46039f"
             ],
             [
              0.2222222222222222,
              "#7201a8"
             ],
             [
              0.3333333333333333,
              "#9c179e"
             ],
             [
              0.4444444444444444,
              "#bd3786"
             ],
             [
              0.5555555555555556,
              "#d8576b"
             ],
             [
              0.6666666666666666,
              "#ed7953"
             ],
             [
              0.7777777777777778,
              "#fb9f3a"
             ],
             [
              0.8888888888888888,
              "#fdca26"
             ],
             [
              1,
              "#f0f921"
             ]
            ],
            "type": "heatmap"
           }
          ],
          "heatmapgl": [
           {
            "colorbar": {
             "outlinewidth": 0,
             "ticks": ""
            },
            "colorscale": [
             [
              0,
              "#0d0887"
             ],
             [
              0.1111111111111111,
              "#46039f"
             ],
             [
              0.2222222222222222,
              "#7201a8"
             ],
             [
              0.3333333333333333,
              "#9c179e"
             ],
             [
              0.4444444444444444,
              "#bd3786"
             ],
             [
              0.5555555555555556,
              "#d8576b"
             ],
             [
              0.6666666666666666,
              "#ed7953"
             ],
             [
              0.7777777777777778,
              "#fb9f3a"
             ],
             [
              0.8888888888888888,
              "#fdca26"
             ],
             [
              1,
              "#f0f921"
             ]
            ],
            "type": "heatmapgl"
           }
          ],
          "histogram": [
           {
            "marker": {
             "pattern": {
              "fillmode": "overlay",
              "size": 10,
              "solidity": 0.2
             }
            },
            "type": "histogram"
           }
          ],
          "histogram2d": [
           {
            "colorbar": {
             "outlinewidth": 0,
             "ticks": ""
            },
            "colorscale": [
             [
              0,
              "#0d0887"
             ],
             [
              0.1111111111111111,
              "#46039f"
             ],
             [
              0.2222222222222222,
              "#7201a8"
             ],
             [
              0.3333333333333333,
              "#9c179e"
             ],
             [
              0.4444444444444444,
              "#bd3786"
             ],
             [
              0.5555555555555556,
              "#d8576b"
             ],
             [
              0.6666666666666666,
              "#ed7953"
             ],
             [
              0.7777777777777778,
              "#fb9f3a"
             ],
             [
              0.8888888888888888,
              "#fdca26"
             ],
             [
              1,
              "#f0f921"
             ]
            ],
            "type": "histogram2d"
           }
          ],
          "histogram2dcontour": [
           {
            "colorbar": {
             "outlinewidth": 0,
             "ticks": ""
            },
            "colorscale": [
             [
              0,
              "#0d0887"
             ],
             [
              0.1111111111111111,
              "#46039f"
             ],
             [
              0.2222222222222222,
              "#7201a8"
             ],
             [
              0.3333333333333333,
              "#9c179e"
             ],
             [
              0.4444444444444444,
              "#bd3786"
             ],
             [
              0.5555555555555556,
              "#d8576b"
             ],
             [
              0.6666666666666666,
              "#ed7953"
             ],
             [
              0.7777777777777778,
              "#fb9f3a"
             ],
             [
              0.8888888888888888,
              "#fdca26"
             ],
             [
              1,
              "#f0f921"
             ]
            ],
            "type": "histogram2dcontour"
           }
          ],
          "mesh3d": [
           {
            "colorbar": {
             "outlinewidth": 0,
             "ticks": ""
            },
            "type": "mesh3d"
           }
          ],
          "parcoords": [
           {
            "line": {
             "colorbar": {
              "outlinewidth": 0,
              "ticks": ""
             }
            },
            "type": "parcoords"
           }
          ],
          "pie": [
           {
            "automargin": true,
            "type": "pie"
           }
          ],
          "scatter": [
           {
            "fillpattern": {
             "fillmode": "overlay",
             "size": 10,
             "solidity": 0.2
            },
            "type": "scatter"
           }
          ],
          "scatter3d": [
           {
            "line": {
             "colorbar": {
              "outlinewidth": 0,
              "ticks": ""
             }
            },
            "marker": {
             "colorbar": {
              "outlinewidth": 0,
              "ticks": ""
             }
            },
            "type": "scatter3d"
           }
          ],
          "scattercarpet": [
           {
            "marker": {
             "colorbar": {
              "outlinewidth": 0,
              "ticks": ""
             }
            },
            "type": "scattercarpet"
           }
          ],
          "scattergeo": [
           {
            "marker": {
             "colorbar": {
              "outlinewidth": 0,
              "ticks": ""
             }
            },
            "type": "scattergeo"
           }
          ],
          "scattergl": [
           {
            "marker": {
             "colorbar": {
              "outlinewidth": 0,
              "ticks": ""
             }
            },
            "type": "scattergl"
           }
          ],
          "scattermapbox": [
           {
            "marker": {
             "colorbar": {
              "outlinewidth": 0,
              "ticks": ""
             }
            },
            "type": "scattermapbox"
           }
          ],
          "scatterpolar": [
           {
            "marker": {
             "colorbar": {
              "outlinewidth": 0,
              "ticks": ""
             }
            },
            "type": "scatterpolar"
           }
          ],
          "scatterpolargl": [
           {
            "marker": {
             "colorbar": {
              "outlinewidth": 0,
              "ticks": ""
             }
            },
            "type": "scatterpolargl"
           }
          ],
          "scatterternary": [
           {
            "marker": {
             "colorbar": {
              "outlinewidth": 0,
              "ticks": ""
             }
            },
            "type": "scatterternary"
           }
          ],
          "surface": [
           {
            "colorbar": {
             "outlinewidth": 0,
             "ticks": ""
            },
            "colorscale": [
             [
              0,
              "#0d0887"
             ],
             [
              0.1111111111111111,
              "#46039f"
             ],
             [
              0.2222222222222222,
              "#7201a8"
             ],
             [
              0.3333333333333333,
              "#9c179e"
             ],
             [
              0.4444444444444444,
              "#bd3786"
             ],
             [
              0.5555555555555556,
              "#d8576b"
             ],
             [
              0.6666666666666666,
              "#ed7953"
             ],
             [
              0.7777777777777778,
              "#fb9f3a"
             ],
             [
              0.8888888888888888,
              "#fdca26"
             ],
             [
              1,
              "#f0f921"
             ]
            ],
            "type": "surface"
           }
          ],
          "table": [
           {
            "cells": {
             "fill": {
              "color": "#EBF0F8"
             },
             "line": {
              "color": "white"
             }
            },
            "header": {
             "fill": {
              "color": "#C8D4E3"
             },
             "line": {
              "color": "white"
             }
            },
            "type": "table"
           }
          ]
         },
         "layout": {
          "annotationdefaults": {
           "arrowcolor": "#2a3f5f",
           "arrowhead": 0,
           "arrowwidth": 1
          },
          "autotypenumbers": "strict",
          "coloraxis": {
           "colorbar": {
            "outlinewidth": 0,
            "ticks": ""
           }
          },
          "colorscale": {
           "diverging": [
            [
             0,
             "#8e0152"
            ],
            [
             0.1,
             "#c51b7d"
            ],
            [
             0.2,
             "#de77ae"
            ],
            [
             0.3,
             "#f1b6da"
            ],
            [
             0.4,
             "#fde0ef"
            ],
            [
             0.5,
             "#f7f7f7"
            ],
            [
             0.6,
             "#e6f5d0"
            ],
            [
             0.7,
             "#b8e186"
            ],
            [
             0.8,
             "#7fbc41"
            ],
            [
             0.9,
             "#4d9221"
            ],
            [
             1,
             "#276419"
            ]
           ],
           "sequential": [
            [
             0,
             "#0d0887"
            ],
            [
             0.1111111111111111,
             "#46039f"
            ],
            [
             0.2222222222222222,
             "#7201a8"
            ],
            [
             0.3333333333333333,
             "#9c179e"
            ],
            [
             0.4444444444444444,
             "#bd3786"
            ],
            [
             0.5555555555555556,
             "#d8576b"
            ],
            [
             0.6666666666666666,
             "#ed7953"
            ],
            [
             0.7777777777777778,
             "#fb9f3a"
            ],
            [
             0.8888888888888888,
             "#fdca26"
            ],
            [
             1,
             "#f0f921"
            ]
           ],
           "sequentialminus": [
            [
             0,
             "#0d0887"
            ],
            [
             0.1111111111111111,
             "#46039f"
            ],
            [
             0.2222222222222222,
             "#7201a8"
            ],
            [
             0.3333333333333333,
             "#9c179e"
            ],
            [
             0.4444444444444444,
             "#bd3786"
            ],
            [
             0.5555555555555556,
             "#d8576b"
            ],
            [
             0.6666666666666666,
             "#ed7953"
            ],
            [
             0.7777777777777778,
             "#fb9f3a"
            ],
            [
             0.8888888888888888,
             "#fdca26"
            ],
            [
             1,
             "#f0f921"
            ]
           ]
          },
          "colorway": [
           "#636efa",
           "#EF553B",
           "#00cc96",
           "#ab63fa",
           "#FFA15A",
           "#19d3f3",
           "#FF6692",
           "#B6E880",
           "#FF97FF",
           "#FECB52"
          ],
          "font": {
           "color": "#2a3f5f"
          },
          "geo": {
           "bgcolor": "white",
           "lakecolor": "white",
           "landcolor": "#E5ECF6",
           "showlakes": true,
           "showland": true,
           "subunitcolor": "white"
          },
          "hoverlabel": {
           "align": "left"
          },
          "hovermode": "closest",
          "mapbox": {
           "style": "light"
          },
          "paper_bgcolor": "white",
          "plot_bgcolor": "#E5ECF6",
          "polar": {
           "angularaxis": {
            "gridcolor": "white",
            "linecolor": "white",
            "ticks": ""
           },
           "bgcolor": "#E5ECF6",
           "radialaxis": {
            "gridcolor": "white",
            "linecolor": "white",
            "ticks": ""
           }
          },
          "scene": {
           "xaxis": {
            "backgroundcolor": "#E5ECF6",
            "gridcolor": "white",
            "gridwidth": 2,
            "linecolor": "white",
            "showbackground": true,
            "ticks": "",
            "zerolinecolor": "white"
           },
           "yaxis": {
            "backgroundcolor": "#E5ECF6",
            "gridcolor": "white",
            "gridwidth": 2,
            "linecolor": "white",
            "showbackground": true,
            "ticks": "",
            "zerolinecolor": "white"
           },
           "zaxis": {
            "backgroundcolor": "#E5ECF6",
            "gridcolor": "white",
            "gridwidth": 2,
            "linecolor": "white",
            "showbackground": true,
            "ticks": "",
            "zerolinecolor": "white"
           }
          },
          "shapedefaults": {
           "line": {
            "color": "#2a3f5f"
           }
          },
          "ternary": {
           "aaxis": {
            "gridcolor": "white",
            "linecolor": "white",
            "ticks": ""
           },
           "baxis": {
            "gridcolor": "white",
            "linecolor": "white",
            "ticks": ""
           },
           "bgcolor": "#E5ECF6",
           "caxis": {
            "gridcolor": "white",
            "linecolor": "white",
            "ticks": ""
           }
          },
          "title": {
           "x": 0.05
          },
          "xaxis": {
           "automargin": true,
           "gridcolor": "white",
           "linecolor": "white",
           "ticks": "",
           "title": {
            "standoff": 15
           },
           "zerolinecolor": "white",
           "zerolinewidth": 2
          },
          "yaxis": {
           "automargin": true,
           "gridcolor": "white",
           "linecolor": "white",
           "ticks": "",
           "title": {
            "standoff": 15
           },
           "zerolinecolor": "white",
           "zerolinewidth": 2
          }
         }
        },
        "title": {
         "text": "Crude death rate of Ca Mau",
         "x": 0.5
        },
        "xaxis": {
         "anchor": "y",
         "domain": [
          0,
          1
         ],
         "title": {
          "text": "Year"
         }
        },
        "yaxis": {
         "anchor": "x",
         "domain": [
          0,
          1
         ],
         "title": {
          "text": "Crude death rate"
         }
        }
       }
      }
     },
     "metadata": {},
     "output_type": "display_data"
    }
   ],
   "source": [
    "# Query and visualize the crude birth rate from database\n",
    "years, death_rates = queries.get_camau_death_rate()\n",
    "death_rates = [b / 1000.0 for b in death_rates]  # Birth rates are provided / 1000 population\n",
    "death_rates_series = pd.Series(death_rates, index=years)\n",
    "dr_fig= px.line(death_rates_series)\n",
    "dr_fig.update_traces(mode='markers+lines')\n",
    "dr_fig.update_layout(\n",
    "    title=\"Crude death rate of Ca Mau\",\n",
    "    title_x=0.5,\n",
    "    xaxis_title=\"Year\",\n",
    "    yaxis_title=\"Crude death rate\",\n",
    "    showlegend=False,\n",
    ")"
   ]
  },
  {
   "cell_type": "markdown",
   "metadata": {},
   "source": [
    "### Mixing matrix"
   ]
  },
  {
   "cell_type": "code",
   "execution_count": 10,
   "metadata": {},
   "outputs": [
    {
     "name": "stdout",
     "output_type": "stream",
     "text": [
      "Target region: CAMAU (VNM)\n",
      "Proxy country: VNM\n",
      "Always age-adjusted to target population\n"
     ]
    }
   ],
   "source": [
    "print(f\"Target region: {region.upper()} ({iso3})\")\n",
    "print(f\"Proxy country: {source_iso3}\")\n",
    "print(\"Always age-adjusted to target population\")"
   ]
  },
  {
   "cell_type": "code",
   "execution_count": 11,
   "metadata": {},
   "outputs": [],
   "source": [
    "update_params = {\n",
    "    'cdr_adjustment': 0.6014069880079691,\n",
    "    'contact_rate': 0.0040506548106069165,\n",
    "    'gender.adjustments.infection.male': 2.8723724227427603,\n",
    "    'infect_death_rate_dict.smear_negative': 0.024849738227234807,\n",
    "    'infect_death_rate_dict.smear_positive': 0.43186926176080265,\n",
    "    'progression_multiplier': 1.990543692342679,\n",
    "    'rr_infection_latent': 0.4806436742741195,\n",
    "    'rr_infection_recovered': 0.48873928709530823,\n",
    "    'self_recovery_rate_dict.smear_positive': 0.1803308001104804,\n",
    "    'self_recovery_rate_dict.smear_negative': 0.2504239970722082,\n",
    "    'start_population_size': 224776.83727076856\n",
    "}\n",
    "params = baseline_params.update(update_params,calibration_format=True)\n",
    "model_0  =  p.build_model(params.to_dict())\n",
    "model_0.run(params.to_dict())\n",
    "derived_df_0 = model_0.get_derived_outputs_df()"
   ]
  },
  {
   "cell_type": "code",
   "execution_count": 12,
   "metadata": {},
   "outputs": [
    {
     "data": {
      "text/plain": [
       "[Stratification: age, Stratification: gender, Stratification: organ]"
      ]
     },
     "execution_count": 12,
     "metadata": {},
     "output_type": "execute_result"
    }
   ],
   "source": [
    "model_0._stratifications"
   ]
  },
  {
   "cell_type": "code",
   "execution_count": 13,
   "metadata": {},
   "outputs": [
    {
     "data": {
      "text/plain": [
       "[array([[ 398.43289672,  261.82020387,  643.68286218,  401.62199159,\n",
       "          356.13449939],\n",
       "        [ 165.78966683,  881.63067677,  532.84120554,  550.75979227,\n",
       "          285.62836724],\n",
       "        [ 231.75164317,  311.38983781,  915.52884268,  673.30894113,\n",
       "          664.14577066],\n",
       "        [ 141.94492435,  310.88835505,  786.13676958, 1134.31076003,\n",
       "          938.03403291],\n",
       "        [  67.30073632,  170.46333134,  647.30153978, 1018.81243422,\n",
       "         1763.57657715]])]"
      ]
     },
     "execution_count": 13,
     "metadata": {},
     "output_type": "execute_result"
    }
   ],
   "source": [
    "model_0._mixing_matrices"
   ]
  },
  {
   "cell_type": "code",
   "execution_count": 14,
   "metadata": {},
   "outputs": [
    {
     "data": {
      "application/vnd.plotly.v1+json": {
       "config": {
        "plotlyServerURL": "https://plot.ly"
       },
       "data": [
        {
         "hovertemplate": "index=%{x}<br>total_population=%{y}<extra></extra>",
         "legendgroup": "",
         "line": {
          "color": "#636efa",
          "dash": "solid"
         },
         "marker": {
          "symbol": "circle"
         },
         "mode": "lines",
         "name": "",
         "showlegend": false,
         "type": "scattergl",
         "x": [
          1900,
          1900.1,
          1900.2,
          1900.3,
          1900.4,
          1900.5,
          1900.6,
          1900.7,
          1900.8,
          1900.9,
          1901,
          1901.1,
          1901.2,
          1901.3,
          1901.4,
          1901.5,
          1901.6,
          1901.7,
          1901.8,
          1901.9,
          1902,
          1902.1,
          1902.2,
          1902.3,
          1902.4,
          1902.5,
          1902.6,
          1902.7,
          1902.8,
          1902.9,
          1903,
          1903.1,
          1903.2,
          1903.3,
          1903.4,
          1903.5,
          1903.6,
          1903.7,
          1903.8,
          1903.9,
          1904,
          1904.1,
          1904.2,
          1904.3,
          1904.4,
          1904.5,
          1904.6,
          1904.7,
          1904.8,
          1904.9,
          1905,
          1905.1,
          1905.2,
          1905.3,
          1905.4,
          1905.5,
          1905.6,
          1905.7,
          1905.8,
          1905.9,
          1906,
          1906.1,
          1906.2,
          1906.3,
          1906.4,
          1906.5,
          1906.6,
          1906.7,
          1906.8,
          1906.9,
          1907,
          1907.1,
          1907.2,
          1907.3,
          1907.4,
          1907.5,
          1907.6,
          1907.7,
          1907.8,
          1907.9,
          1908,
          1908.1,
          1908.2,
          1908.3,
          1908.4,
          1908.5,
          1908.6,
          1908.7,
          1908.8,
          1908.9,
          1909,
          1909.1,
          1909.2,
          1909.3,
          1909.4,
          1909.5,
          1909.6,
          1909.7,
          1909.8,
          1909.9,
          1910,
          1910.1,
          1910.2,
          1910.3,
          1910.4,
          1910.5,
          1910.6,
          1910.7,
          1910.8,
          1910.9,
          1911,
          1911.1,
          1911.2,
          1911.3,
          1911.4,
          1911.5,
          1911.6,
          1911.7,
          1911.8,
          1911.9,
          1912,
          1912.1,
          1912.2,
          1912.3,
          1912.4,
          1912.5,
          1912.6,
          1912.7,
          1912.8,
          1912.9,
          1913,
          1913.1,
          1913.2,
          1913.3,
          1913.4,
          1913.5,
          1913.6,
          1913.7,
          1913.8,
          1913.9,
          1914,
          1914.1,
          1914.2,
          1914.3,
          1914.4,
          1914.5,
          1914.6,
          1914.7,
          1914.8,
          1914.9,
          1915,
          1915.1,
          1915.2,
          1915.3,
          1915.4,
          1915.5,
          1915.6,
          1915.7,
          1915.8,
          1915.9,
          1916,
          1916.1,
          1916.2,
          1916.3,
          1916.4,
          1916.5,
          1916.6,
          1916.7,
          1916.8,
          1916.9,
          1917,
          1917.1,
          1917.2,
          1917.3,
          1917.4,
          1917.5,
          1917.6,
          1917.7,
          1917.8,
          1917.9,
          1918,
          1918.1,
          1918.2,
          1918.3,
          1918.4,
          1918.5,
          1918.6,
          1918.7,
          1918.8,
          1918.9,
          1919,
          1919.1,
          1919.2,
          1919.3,
          1919.4,
          1919.5,
          1919.6,
          1919.7,
          1919.8,
          1919.9,
          1920,
          1920.1,
          1920.2,
          1920.3,
          1920.4,
          1920.5,
          1920.6,
          1920.7,
          1920.8,
          1920.9,
          1921,
          1921.1,
          1921.2,
          1921.3,
          1921.4,
          1921.5,
          1921.6,
          1921.7,
          1921.8,
          1921.9,
          1922,
          1922.1,
          1922.2,
          1922.3,
          1922.4,
          1922.5,
          1922.6,
          1922.7,
          1922.8,
          1922.9,
          1923,
          1923.1,
          1923.2,
          1923.3,
          1923.4,
          1923.5,
          1923.6,
          1923.7,
          1923.8,
          1923.9,
          1924,
          1924.1,
          1924.2,
          1924.3,
          1924.4,
          1924.5,
          1924.6,
          1924.7,
          1924.8,
          1924.9,
          1925,
          1925.1,
          1925.2,
          1925.3,
          1925.4,
          1925.5,
          1925.6,
          1925.7,
          1925.8,
          1925.9,
          1926,
          1926.1,
          1926.2,
          1926.3,
          1926.4,
          1926.5,
          1926.6,
          1926.7,
          1926.8,
          1926.9,
          1927,
          1927.1,
          1927.2,
          1927.3,
          1927.4,
          1927.5,
          1927.6,
          1927.7,
          1927.8,
          1927.9,
          1928,
          1928.1,
          1928.2,
          1928.3,
          1928.4,
          1928.5,
          1928.6,
          1928.7,
          1928.8,
          1928.9,
          1929,
          1929.1,
          1929.2,
          1929.3,
          1929.4,
          1929.5,
          1929.6,
          1929.7,
          1929.8,
          1929.9,
          1930,
          1930.1,
          1930.2,
          1930.3,
          1930.4,
          1930.5,
          1930.6,
          1930.7,
          1930.8,
          1930.9,
          1931,
          1931.1,
          1931.2,
          1931.3,
          1931.4,
          1931.5,
          1931.6,
          1931.7,
          1931.8,
          1931.9,
          1932,
          1932.1,
          1932.2,
          1932.3,
          1932.4,
          1932.5,
          1932.6,
          1932.7,
          1932.8,
          1932.9,
          1933,
          1933.1,
          1933.2,
          1933.3,
          1933.4,
          1933.5,
          1933.6,
          1933.7,
          1933.8,
          1933.9,
          1934,
          1934.1,
          1934.2,
          1934.3,
          1934.4,
          1934.5,
          1934.6,
          1934.7,
          1934.8,
          1934.9,
          1935,
          1935.1,
          1935.2,
          1935.3,
          1935.4,
          1935.5,
          1935.6,
          1935.7,
          1935.8,
          1935.9,
          1936,
          1936.1,
          1936.2,
          1936.3,
          1936.4,
          1936.5,
          1936.6,
          1936.7,
          1936.8,
          1936.9,
          1937,
          1937.1,
          1937.2,
          1937.3,
          1937.4,
          1937.5,
          1937.6,
          1937.7,
          1937.8,
          1937.9,
          1938,
          1938.1,
          1938.2,
          1938.3,
          1938.4,
          1938.5,
          1938.6,
          1938.7,
          1938.8,
          1938.9,
          1939,
          1939.1,
          1939.2,
          1939.3,
          1939.4,
          1939.5,
          1939.6,
          1939.7,
          1939.8,
          1939.9,
          1940,
          1940.1,
          1940.2,
          1940.3,
          1940.4,
          1940.5,
          1940.6,
          1940.7,
          1940.8,
          1940.9,
          1941,
          1941.1,
          1941.2,
          1941.3,
          1941.4,
          1941.5,
          1941.6,
          1941.7,
          1941.8,
          1941.9,
          1942,
          1942.1,
          1942.2,
          1942.3,
          1942.4,
          1942.5,
          1942.6,
          1942.7,
          1942.8,
          1942.9,
          1943,
          1943.1,
          1943.2,
          1943.3,
          1943.4,
          1943.5,
          1943.6,
          1943.7,
          1943.8,
          1943.9,
          1944,
          1944.1,
          1944.2,
          1944.3,
          1944.4,
          1944.5,
          1944.6,
          1944.7,
          1944.8,
          1944.9,
          1945,
          1945.1,
          1945.2,
          1945.3,
          1945.4,
          1945.5,
          1945.6,
          1945.7,
          1945.8,
          1945.9,
          1946,
          1946.1,
          1946.2,
          1946.3,
          1946.4,
          1946.5,
          1946.6,
          1946.7,
          1946.8,
          1946.9,
          1947,
          1947.1,
          1947.2,
          1947.3,
          1947.4,
          1947.5,
          1947.6,
          1947.7,
          1947.8,
          1947.9,
          1948,
          1948.1,
          1948.2,
          1948.3,
          1948.4,
          1948.5,
          1948.6,
          1948.7,
          1948.8,
          1948.9,
          1949,
          1949.1,
          1949.2,
          1949.3,
          1949.4,
          1949.5,
          1949.6,
          1949.7,
          1949.8,
          1949.9,
          1950,
          1950.1,
          1950.2,
          1950.3,
          1950.4,
          1950.5,
          1950.6,
          1950.7,
          1950.8,
          1950.9,
          1951,
          1951.1,
          1951.2,
          1951.3,
          1951.4,
          1951.5,
          1951.6,
          1951.7,
          1951.8,
          1951.9,
          1952,
          1952.1,
          1952.2,
          1952.3,
          1952.4,
          1952.5,
          1952.6,
          1952.7,
          1952.8,
          1952.9,
          1953,
          1953.1,
          1953.2,
          1953.3,
          1953.4,
          1953.5,
          1953.6,
          1953.7,
          1953.8,
          1953.9,
          1954,
          1954.1,
          1954.2,
          1954.3,
          1954.4,
          1954.5,
          1954.6,
          1954.7,
          1954.8,
          1954.9,
          1955,
          1955.1,
          1955.2,
          1955.3,
          1955.4,
          1955.5,
          1955.6,
          1955.7,
          1955.8,
          1955.9,
          1956,
          1956.1,
          1956.2,
          1956.3,
          1956.4,
          1956.5,
          1956.6,
          1956.7,
          1956.8,
          1956.9,
          1957,
          1957.1,
          1957.2,
          1957.3,
          1957.4,
          1957.5,
          1957.6,
          1957.7,
          1957.8,
          1957.9,
          1958,
          1958.1,
          1958.2,
          1958.3,
          1958.4,
          1958.5,
          1958.6,
          1958.7,
          1958.8,
          1958.9,
          1959,
          1959.1,
          1959.2,
          1959.3,
          1959.4,
          1959.5,
          1959.6,
          1959.7,
          1959.8,
          1959.9,
          1960,
          1960.1,
          1960.2,
          1960.3,
          1960.4,
          1960.5,
          1960.6,
          1960.7,
          1960.8,
          1960.9,
          1961,
          1961.1,
          1961.2,
          1961.3,
          1961.4,
          1961.5,
          1961.6,
          1961.7,
          1961.8,
          1961.9,
          1962,
          1962.1,
          1962.2,
          1962.3,
          1962.4,
          1962.5,
          1962.6,
          1962.7,
          1962.8,
          1962.9,
          1963,
          1963.1,
          1963.2,
          1963.3,
          1963.4,
          1963.5,
          1963.6,
          1963.7,
          1963.8,
          1963.9,
          1964,
          1964.1,
          1964.2,
          1964.3,
          1964.4,
          1964.5,
          1964.6,
          1964.7,
          1964.8,
          1964.9,
          1965,
          1965.1,
          1965.2,
          1965.3,
          1965.4,
          1965.5,
          1965.6,
          1965.7,
          1965.8,
          1965.9,
          1966,
          1966.1,
          1966.2,
          1966.3,
          1966.4,
          1966.5,
          1966.6,
          1966.7,
          1966.8,
          1966.9,
          1967,
          1967.1,
          1967.2,
          1967.3,
          1967.4,
          1967.5,
          1967.6,
          1967.7,
          1967.8,
          1967.9,
          1968,
          1968.1,
          1968.2,
          1968.3,
          1968.4,
          1968.5,
          1968.6,
          1968.7,
          1968.8,
          1968.9,
          1969,
          1969.1,
          1969.2,
          1969.3,
          1969.4,
          1969.5,
          1969.6,
          1969.7,
          1969.8,
          1969.9,
          1970,
          1970.1,
          1970.2,
          1970.3,
          1970.4,
          1970.5,
          1970.6,
          1970.7,
          1970.8,
          1970.9,
          1971,
          1971.1,
          1971.2,
          1971.3,
          1971.4,
          1971.5,
          1971.6,
          1971.7,
          1971.8,
          1971.9,
          1972,
          1972.1,
          1972.2,
          1972.3,
          1972.4,
          1972.5,
          1972.6,
          1972.7,
          1972.8,
          1972.9,
          1973,
          1973.1,
          1973.2,
          1973.3,
          1973.4,
          1973.5,
          1973.6,
          1973.7,
          1973.8,
          1973.9,
          1974,
          1974.1,
          1974.2,
          1974.3,
          1974.4,
          1974.5,
          1974.6,
          1974.7,
          1974.8,
          1974.9,
          1975,
          1975.1,
          1975.2,
          1975.3,
          1975.4,
          1975.5,
          1975.6,
          1975.7,
          1975.8,
          1975.9,
          1976,
          1976.1,
          1976.2,
          1976.3,
          1976.4,
          1976.5,
          1976.6,
          1976.7,
          1976.8,
          1976.9,
          1977,
          1977.1,
          1977.2,
          1977.3,
          1977.4,
          1977.5,
          1977.6,
          1977.7,
          1977.8,
          1977.9,
          1978,
          1978.1,
          1978.2,
          1978.3,
          1978.4,
          1978.5,
          1978.6,
          1978.7,
          1978.8,
          1978.9,
          1979,
          1979.1,
          1979.2,
          1979.3,
          1979.4,
          1979.5,
          1979.6,
          1979.7,
          1979.8,
          1979.9,
          1980,
          1980.1,
          1980.2,
          1980.3,
          1980.4,
          1980.5,
          1980.6,
          1980.7,
          1980.8,
          1980.9,
          1981,
          1981.1,
          1981.2,
          1981.3,
          1981.4,
          1981.5,
          1981.6,
          1981.7,
          1981.8,
          1981.9,
          1982,
          1982.1,
          1982.2,
          1982.3,
          1982.4,
          1982.5,
          1982.6,
          1982.7,
          1982.8,
          1982.9,
          1983,
          1983.1,
          1983.2,
          1983.3,
          1983.4,
          1983.5,
          1983.6,
          1983.7,
          1983.8,
          1983.9,
          1984,
          1984.1,
          1984.2,
          1984.3,
          1984.4,
          1984.5,
          1984.6,
          1984.7,
          1984.8,
          1984.9,
          1985,
          1985.1,
          1985.2,
          1985.3,
          1985.4,
          1985.5,
          1985.6,
          1985.7,
          1985.8,
          1985.9,
          1986,
          1986.1,
          1986.2,
          1986.3,
          1986.4,
          1986.5,
          1986.6,
          1986.7,
          1986.8,
          1986.9,
          1987,
          1987.1,
          1987.2,
          1987.3,
          1987.4,
          1987.5,
          1987.6,
          1987.7,
          1987.8,
          1987.9,
          1988,
          1988.1,
          1988.2,
          1988.3,
          1988.4,
          1988.5,
          1988.6,
          1988.7,
          1988.8,
          1988.9,
          1989,
          1989.1,
          1989.2,
          1989.3,
          1989.4,
          1989.5,
          1989.6,
          1989.7,
          1989.8,
          1989.9,
          1990,
          1990.1,
          1990.2,
          1990.3,
          1990.4,
          1990.5,
          1990.6,
          1990.7,
          1990.8,
          1990.9,
          1991,
          1991.1,
          1991.2,
          1991.3,
          1991.4,
          1991.5,
          1991.6,
          1991.7,
          1991.8,
          1991.9,
          1992,
          1992.1,
          1992.2,
          1992.3,
          1992.4,
          1992.5,
          1992.6,
          1992.7,
          1992.8,
          1992.9,
          1993,
          1993.1,
          1993.2,
          1993.3,
          1993.4,
          1993.5,
          1993.6,
          1993.7,
          1993.8,
          1993.9,
          1994,
          1994.1,
          1994.2,
          1994.3,
          1994.4,
          1994.5,
          1994.6,
          1994.7,
          1994.8,
          1994.9,
          1995,
          1995.1,
          1995.2,
          1995.3,
          1995.4,
          1995.5,
          1995.6,
          1995.7,
          1995.8,
          1995.9,
          1996,
          1996.1,
          1996.2,
          1996.3,
          1996.4,
          1996.5,
          1996.6,
          1996.7,
          1996.8,
          1996.9,
          1997,
          1997.1,
          1997.2,
          1997.3,
          1997.4,
          1997.5,
          1997.6,
          1997.7,
          1997.8,
          1997.9,
          1998,
          1998.1,
          1998.2,
          1998.3,
          1998.4,
          1998.5,
          1998.6,
          1998.7,
          1998.8,
          1998.9,
          1999,
          1999.1,
          1999.2,
          1999.3,
          1999.4,
          1999.5,
          1999.6,
          1999.7,
          1999.8,
          1999.9,
          2000,
          2000.1,
          2000.2,
          2000.3,
          2000.4,
          2000.5,
          2000.6,
          2000.7,
          2000.8,
          2000.9,
          2001,
          2001.1,
          2001.2,
          2001.3,
          2001.4,
          2001.5,
          2001.6,
          2001.7,
          2001.8,
          2001.9,
          2002,
          2002.1,
          2002.2,
          2002.3,
          2002.4,
          2002.5,
          2002.6,
          2002.7,
          2002.8,
          2002.9,
          2003,
          2003.1,
          2003.2,
          2003.3,
          2003.4,
          2003.5,
          2003.6,
          2003.7,
          2003.8,
          2003.9,
          2004,
          2004.1,
          2004.2,
          2004.3,
          2004.4,
          2004.5,
          2004.6,
          2004.7,
          2004.8,
          2004.9,
          2005,
          2005.1,
          2005.2,
          2005.3,
          2005.4,
          2005.5,
          2005.6,
          2005.7,
          2005.8,
          2005.9,
          2006,
          2006.1,
          2006.2,
          2006.3,
          2006.4,
          2006.5,
          2006.6,
          2006.7,
          2006.8,
          2006.9,
          2007,
          2007.1,
          2007.2,
          2007.3,
          2007.4,
          2007.5,
          2007.6,
          2007.7,
          2007.8,
          2007.9,
          2008,
          2008.1,
          2008.2,
          2008.3,
          2008.4,
          2008.5,
          2008.6,
          2008.7,
          2008.8,
          2008.9,
          2009,
          2009.1,
          2009.2,
          2009.3,
          2009.4,
          2009.5,
          2009.6,
          2009.7,
          2009.8,
          2009.9,
          2010,
          2010.1,
          2010.2,
          2010.3,
          2010.4,
          2010.5,
          2010.6,
          2010.7,
          2010.8,
          2010.9,
          2011,
          2011.1,
          2011.2,
          2011.3,
          2011.4,
          2011.5,
          2011.6,
          2011.7,
          2011.8,
          2011.9,
          2012,
          2012.1,
          2012.2,
          2012.3,
          2012.4,
          2012.5,
          2012.6,
          2012.7,
          2012.8,
          2012.9,
          2013,
          2013.1,
          2013.2,
          2013.3,
          2013.4,
          2013.5,
          2013.6,
          2013.7,
          2013.8,
          2013.9,
          2014,
          2014.1,
          2014.2,
          2014.3,
          2014.4,
          2014.5,
          2014.6,
          2014.7,
          2014.8,
          2014.9,
          2015,
          2015.1,
          2015.2,
          2015.3,
          2015.4,
          2015.5,
          2015.6,
          2015.7,
          2015.8,
          2015.9,
          2016,
          2016.1,
          2016.2,
          2016.3,
          2016.4,
          2016.5,
          2016.6,
          2016.7,
          2016.8,
          2016.9,
          2017,
          2017.1,
          2017.2,
          2017.3,
          2017.4,
          2017.5,
          2017.6,
          2017.7,
          2017.8,
          2017.9,
          2018,
          2018.1,
          2018.2,
          2018.3,
          2018.4,
          2018.5,
          2018.6,
          2018.7,
          2018.8,
          2018.9,
          2019,
          2019.1,
          2019.2,
          2019.3,
          2019.4,
          2019.5,
          2019.6,
          2019.7,
          2019.8,
          2019.9,
          2020
         ],
         "xaxis": "x",
         "y": [
          224776.83727076856,
          224735.3248333901,
          224699.26558714424,
          224668.6015377618,
          224643.27553665856,
          224623.23146278565,
          224608.41393338918,
          224598.76838617155,
          224594.24105607456,
          224594.77890297442,
          224600.32962550444,
          224610.84169163922,
          224626.26426766664,
          224646.54720039014,
          224671.64101401408,
          224701.49693055163,
          224736.06687645725,
          224775.30340098529,
          224819.15966989973,
          224867.5894654754,
          224920.54719440683,
          224977.98792934368,
          225039.86733590963,
          225106.14163244155,
          225176.7675898041,
          225251.70255370415,
          225330.9045015262,
          225414.33194239117,
          225501.9438871776,
          225593.69984852368,
          225689.5598802552,
          225789.4846307301,
          225893.4352193199,
          226001.3732246752,
          226113.26069029456,
          226229.06020504862,
          226348.73485396474,
          226472.24815181177,
          226599.56404407008,
          226730.64692795786,
          226865.4617164353,
          227003.97374729917,
          227146.1487568269,
          227291.95287993655,
          227441.35268686543,
          227594.31523147758,
          227750.80794713294,
          227910.79862973877,
          228074.2554380163,
          228241.1469519882,
          228411.4422137894,
          228585.11060359358,
          228762.12182646967,
          228942.44591466198,
          229126.05333402744,
          229312.91495596463,
          229503.00194879278,
          229696.28578665009,
          229892.73829421218,
          230092.33170313181,
          230295.0385452414,
          230500.83165265125,
          230709.6841642727,
          230921.56958551178,
          231136.46174576555,
          231354.334757444,
          231575.16301605132,
          231798.92120819195,
          232025.58437730043,
          232255.12787101214,
          232487.52729042163,
          232722.75848950446,
          232960.79758590992,
          233201.6210628942,
          233445.20567969527,
          233691.52842206898,
          233940.56650737146,
          234192.29745117528,
          234446.69907765984,
          234703.74943567463,
          234963.426801859,
          235225.7096917014,
          235490.5769253165,
          235758.00756910144,
          236027.98090352898,
          236300.47642353855,
          236575.47385317236,
          236852.95321942758,
          237132.89477897683,
          237415.27897821364,
          237700.08645322302,
          237987.29805334812,
          238276.8949469419,
          238568.85849751902,
          238863.17023995722,
          239159.81188658008,
          239458.7654132717,
          239760.01303249568,
          240063.53712725668,
          240369.3202557833,
          240677.34517219273,
          240987.59488959867,
          241300.052604966,
          241614.70168113144,
          241931.52564704604,
          242250.50822515754,
          242571.63339680136,
          242894.88531146434,
          243220.24826373052,
          243547.7066932973,
          243877.24522786099,
          244208.84876902564,
          244542.5023535939,
          244878.19114969362,
          245215.90046643483,
          245555.61585384468,
          245897.32303990683,
          246241.00788391597,
          246586.6563806283,
          246934.25469372098,
          247283.789208644,
          247635.24644895518,
          247988.6130669266,
          248343.87584365753,
          248701.02173307282,
          249060.03790998863,
          249420.91167254542,
          249783.63042884137,
          250148.18169693655,
          250514.55317446662,
          250882.73278699414,
          251252.70855402335,
          251624.4685938397,
          251998.00114134827,
          252373.2946558071,
          252750.33772679133,
          253129.11904484103,
          253509.62740462602,
          253891.85175486028,
          254275.7812327548,
          254661.40507881393,
          255048.71263235505,
          255437.69333242922,
          255828.33678103084,
          256220.63276630547,
          256614.57116485352,
          257010.1419345496,
          257407.3351157576,
          257806.14093039185,
          258206.54978270084,
          258608.55214093646,
          259012.13854448148,
          259417.2996345205,
          259824.02626273967,
          260232.3093718906,
          260642.13998059666,
          261053.509186165,
          261466.4082326331,
          261880.82852355982,
          262296.761537445,
          262714.1988262076,
          263133.13201812987,
          263553.5529016714,
          263975.4534200878,
          264398.8255764005,
          264823.6614299057,
          265249.9531010294,
          265677.6928986408,
          266106.87327279843,
          266537.48671244306,
          266969.5257530861,
          267402.9830249908,
          267837.8513563721,
          268274.1236337337,
          268711.7927969966,
          269150.8518431965,
          269591.2939145835,
          270033.11228771927,
          270476.3002893854,
          270920.8512968688,
          271366.75874448783,
          271814.0162296674,
          272262.6174763726,
          272712.55624288536,
          273163.8263204713,
          273616.42154474143,
          274070.3359509412,
          274525.5636782267,
          274982.09888150933,
          275439.93573885335,
          275899.0685228476,
          276359.49169275234,
          276821.19973795593,
          277284.1871793761,
          277748.44857569644,
          278213.978634712,
          278680.7721769162,
          279148.82404969685,
          279618.12912870507,
          280088.68232991913,
          280560.4787411501,
          281033.5135514204,
          281507.7819594238,
          281983.27917338087,
          282460.0004323777,
          282937.9411917383,
          283417.09697637905,
          283897.46330343554,
          284379.03568908165,
          284861.8097500874,
          285345.7812814531,
          285830.94608234096,
          286317.2999603813,
          286804.83874216414,
          287293.5584136644,
          287783.45505552203,
          288274.52475120954,
          288766.76358915854,
          289260.16768263513,
          289754.73333294224,
          290250.4569198144,
          290747.3348064445,
          291245.36334002786,
          291744.5388781526,
          292244.8580176694,
          292746.31744423124,
          293248.9137896719,
          293752.6436322722,
          294257.50355371326,
          294763.4904638637,
          295270.6012677498,
          295778.8328069007,
          296288.18188717455,
          296798.6455073419,
          297310.22074981156,
          297822.9046701495,
          298336.69431260147,
          298851.5867882354,
          299367.5793581895,
          299884.66928615427,
          300402.85382721893,
          300922.1302279564,
          301442.49580262596,
          301963.948061167,
          302486.4845069937,
          303010.1025953326,
          303534.79973323067,
          304060.57336454623,
          304587.4212431177,
          305115.341070058,
          305644.3304654466,
          306174.3869943121,
          306705.50844024733,
          307237.69265997136,
          307770.9374542038,
          308305.2405816868,
          308840.59984368057,
          309377.0132381686,
          309914.4787465625,
          310452.99430514115,
          310992.55780509056,
          311533.16718283977,
          312074.8206325066,
          312617.5163257052,
          313161.25233818253,
          313706.0266498095,
          314251.8372646791,
          314798.6825760781,
          315346.5608818675,
          315895.4703509438,
          316445.40905455593,
          316996.3753269769,
          317548.36758492095,
          318101.3841456122,
          318655.4232457843,
          319210.4831499518,
          319766.56236859795,
          320323.6593696341,
          320881.7725376205,
          321440.90017395624,
          322001.0406206096,
          322562.19253788947,
          323124.35453242355,
          323687.52506514796,
          324251.7024513173,
          324816.8850285024,
          325383.07161692367,
          325950.2608882545,
          326518.45132671203,
          327087.6412662318,
          327657.8293682329,
          328229.01439747465,
          328801.1949627929,
          329374.3695416647,
          329948.53661481827,
          330523.69499307586,
          331099.843418563,
          331676.9804965827,
          332255.10469627735,
          332834.2145151721,
          333414.30887329293,
          333995.3866038731,
          334577.4463243916,
          335160.48643660743,
          335744.50536137837,
          336329.50214745104,
          336915.47562700795,
          337502.42436474585,
          338090.34670277726,
          338679.2414045946,
          339269.1073789884,
          339859.9433022918,
          340451.74765118863,
          341044.5188729937,
          341638.2558705705,
          342232.95744988543,
          342828.6222083563,
          343425.24853651476,
          344022.83483999304,
          344621.3801003136,
          345220.88317076396,
          345821.34259540145,
          346422.756609213,
          347025.12346834084,
          347628.4422649663,
          348232.71178458416,
          348837.93043811363,
          349444.0963173085,
          350051.20807154203,
          350659.2645643442,
          351268.26432373555,
          351878.2055860933,
          352489.0865151401,
          353100.90591495833,
          353713.66246326454,
          354327.35453188483,
          354941.9801902075,
          355557.5375091707,
          356174.0253603334,
          356791.44243366993,
          357409.7869844287,
          358029.0568336031,
          358649.249839324,
          359270.36498899513,
          359892.4008400426,
          360515.35543335875,
          361139.2263642417,
          361764.011986266,
          362389.7109667323,
          363016.3215002007,
          363643.84136689076,
          364272.26822267624,
          364901.6006303751,
          365531.83699183934,
          366162.9752731559,
          366795.0130107195,
          367427.94773836964,
          368061.77811019414,
          368696.5025228338,
          369332.11877287785,
          369968.6240577563,
          370606.0156643654,
          371244.2924058643,
          371883.4524918243,
          372523.4934314183,
          373164.4121295229,
          373806.2065503479,
          374448.8750952537,
          375092.41551375046,
          375736.824980579,
          376382.10049582407,
          377028.24034377595,
          377675.24259560334,
          378323.1047175149,
          378971.8235800885,
          379621.3960792611,
          380271.82066989515,
          380923.09543071885,
          381575.2176278342,
          382228.183715966,
          382881.9903740945,
          383536.636312069,
          384192.11938880285,
          384848.43653115816,
          385505.583875385,
          386163.55907266604,
          386822.3603291986,
          387481.9849719853,
          388142.4295488188,
          388803.69040918106,
          389465.765704035,
          390128.65327279386,
          390792.35013656336,
          391456.8525102023,
          392122.1567412739,
          392788.261302004,
          393455.16409367026,
          394122.8619399632,
          394791.35058787535,
          395460.6260361393,
          396130.6873409605,
          396801.53273165564,
          397473.1588548233,
          398145.5607753616,
          398818.7345578829,
          399492.6797719337,
          400167.3940089044,
          400842.873358081,
          401519.113330232,
          402196.11234168184,
          402873.86812302354,
          403552.37742507714,
          404231.6361825936,
          404911.6416158015,
          405592.39191406255,
          406273.88442737545,
          406956.1156652911,
          407639.0813886382,
          408322.77901255386,
          409007.207547473,
          409692.3647446455,
          410378.2469449196,
          411064.8491074248,
          411752.168487662,
          412440.20492426795,
          413128.9561349745,
          413818.41808969656,
          414508.586468432,
          415199.4605487486,
          415891.0385793309,
          416583.31757557066,
          417276.29346611036,
          417969.9639463485,
          418664.3282345992,
          419359.3843719585,
          420055.1291982704,
          420751.5584839004,
          421448.670363765,
          422146.465181272,
          422844.941552892,
          423544.09618323355,
          424243.92398427473,
          424944.4235734819,
          425645.5961340244,
          426347.4401675181,
          427049.95197108143,
          427753.1279344427,
          428456.96893536276,
          429161.4742991142,
          429866.64180556056,
          430572.4679308251,
          431278.9518068167,
          431986.0941096526,
          432693.8939850955,
          433402.34907044785,
          434111.4558084297,
          434821.21421291603,
          435531.62627589947,
          436242.69176569383,
          436954.4081301773,
          437666.7708944287,
          438379.7811559335,
          439093.44169802655,
          439807.7521519064,
          440522.7094829956,
          441238.3116999601,
          441954.56176369224,
          442671.4604705394,
          443389.0067198884,
          444107.19795849,
          444826.0354427793,
          445545.52171392244,
          446265.65736983943,
          446986.44112840056,
          447707.8704999216,
          448429.94802426535,
          449152.6776083796,
          449876.0603919175,
          450600.09472482593,
          451324.7771863566,
          452050.1119941891,
          452776.10356754647,
          453502.75274591567,
          454230.0572438624,
          454958.0174229793,
          455686.6383455391,
          456415.9223433171,
          457145.86945236486,
          457876.478308394,
          458607.7526927659,
          459339.6969425355,
          460072.3130444217,
          460805.60071902594,
          461539.55879359733,
          462274.1926226216,
          463009.50777133036,
          463745.5065342303,
          464482.1879520288,
          465219.5500304494,
          465957.6001731505,
          466696.3440224761,
          467435.783308937,
          468175.9163392966,
          468916.74617517256,
          469658.27956336434,
          470400.52001880587,
          471143.46835822565,
          471887.124415401,
          472631.4944140422,
          473376.58401909337,
          474122.39617910003,
          474868.93119076296,
          475616.18930172746,
          476364.1783989003,
          477112.9050999386,
          477862.3723141701,
          478612.5792534359,
          479363.52571160847,
          480115.2216337252,
          480867.6732232248,
          481620.8824995543,
          482374.8480943049,
          483129.57561845286,
          483885.07277460163,
          484641.3441878799,
          485398.3919430061,
          486156.2311537049,
          486914.8958735158,
          487674.4082960775,
          488434.79476246855,
          489196.0859725112,
          489958.32675539353,
          490721.5797403355,
          491485.93069088215,
          492251.49647361855,
          493018.4250624591,
          493786.9219407408,
          494557.26629169786,
          495329.8453418616,
          496105.18429235765,
          496883.9602803758,
          497667.0848418724,
          498455.74527977034,
          499251.4871314819,
          500056.220780137,
          500872.1864975045,
          501702.18660277536,
          502549.0805600017,
          503415.5560716229,
          504304.1226635499,
          505216.62262802577,
          506153.61448995105,
          507114.6656946127,
          508098.37544464006,
          509102.394980261,
          510123.9771728538,
          511160.3325859824,
          512208.8950588254,
          513267.4198692874,
          514333.9858048582,
          515407.0669701162,
          516485.5039451994,
          517568.3726560805,
          518654.97628559766,
          519744.8138679192,
          520837.5195147709,
          521932.8191488354,
          523030.5068270393,
          524130.4418231901,
          525232.5285405914,
          526336.7035062592,
          527442.9187333081,
          528551.1403234978,
          529661.3494264568,
          530773.5398925744,
          531887.7054425727,
          533003.8414963789,
          534121.9454684,
          535242.0178767984,
          536364.0768090638,
          537488.1426183542,
          538614.2284983248,
          539742.3416116084,
          540872.491930015,
          542004.697563377,
          543138.9709225697,
          544275.3194033736,
          545413.7464277165,
          546554.2613494005,
          547696.8726423949,
          548841.5812034864,
          549988.3803798369,
          551137.257284778,
          552288.2021689836,
          553441.2005934804,
          554596.2281062789,
          555753.2502954763,
          556912.2251245158,
          558073.1275326391,
          559235.941090953,
          560400.6591002123,
          561567.2867164635,
          562735.8511754829,
          563906.4108881584,
          565079.0274428693,
          566253.7619593536,
          567430.6754087524,
          568609.8310557692,
          569791.2863276671,
          570975.0870062715,
          572161.2671273419,
          573349.8513083376,
          574540.8706999848,
          575734.353578386,
          576930.3192284744,
          578128.7780922456,
          579329.7354046232,
          580533.2122190343,
          581739.2260241993,
          582947.786331834,
          584158.8956721683,
          585372.563707905,
          586588.8066674889,
          587807.6347936242,
          589029.0534779193,
          590253.065147389,
          591479.6765553891,
          592708.8906768268,
          593940.7052931942,
          595175.1131120154,
          596412.1033091425,
          597651.6721324372,
          598893.8067311903,
          600138.4750233248,
          601385.6256441566,
          602635.1895676733,
          603887.089977198,
          605141.2086351346,
          606397.3655860847,
          607655.3178564124,
          608914.7498125372,
          610175.251203175,
          611436.255718628,
          612697.0324699143,
          613956.6972408176,
          615214.1306339616,
          616468.0499681326,
          617717.1438962265,
          618960.074376342,
          620195.5927434829,
          621422.9108069731,
          622641.711695876,
          623852.1798212015,
          625055.0012624871,
          626251.2954643742,
          627442.3573187503,
          628629.5119242684,
          629813.9655128653,
          630996.8002464292,
          632178.9299077907,
          633361.0753602276,
          634543.8149811375,
          635727.5887373192,
          636912.7170332915,
          638099.4558210275,
          639287.9948923617,
          640478.4776597589,
          641671.0016991349,
          642865.6362518959,
          644062.4474997337,
          645261.4825673394,
          646462.7727465818,
          647666.333501301,
          648872.1768353529,
          650080.3316460508,
          651290.8146032575,
          652503.6250475897,
          653718.7450501532,
          654936.1620844896,
          656155.8774873344,
          657377.8729959321,
          658602.1131654851,
          659828.5506162453,
          661057.1390323711,
          662287.8020094358,
          663520.4241668736,
          664754.8478242629,
          665990.8696471814,
          667228.2251419695,
          668466.5193150792,
          669705.2209492272,
          670943.6528364386,
          672180.9202373629,
          673415.8728342927,
          674647.0687410256,
          675872.7713264877,
          677090.9592417103,
          678299.4746165704,
          679496.0997871207,
          680679.0442510822,
          681847.0441607727,
          682999.473762178,
          684136.8067943711,
          685260.1988905694,
          686371.2959342492,
          687472.2009271255,
          688565.0472861389,
          689651.8095439037,
          690734.2035262946,
          691813.6599839034,
          692891.3310291101,
          693968.1232528326,
          695044.7213528208,
          696121.6641043365,
          697199.3515259863,
          698278.0510676904,
          699357.9814002402,
          700439.309559426,
          701522.1536980339,
          702606.5902539133,
          703692.6765244397,
          704780.464993243,
          705869.9900178486,
          706961.2721233303,
          708054.3182356509,
          709149.1479069521,
          710245.7938630937,
          711344.2747685851,
          712444.5943185717,
          713546.748487876,
          714650.75414085,
          715756.6309700577,
          716864.3984639242,
          717974.0761499063,
          719085.6887567692,
          720199.2945300821,
          721314.9663337662,
          722432.7973491985,
          723552.9037653394,
          724675.4553072815,
          725800.6804433498,
          726928.8860702724,
          728060.4672197752,
          729195.9111038332,
          730335.8660795686,
          731481.1092538987,
          732632.4876237835,
          733790.9171358759,
          734957.3263109142,
          736132.5039708826,
          737316.9740894899,
          738510.8751048788,
          739713.9582150022,
          740925.6114709501,
          742144.9690460602,
          743371.0266131423,
          744602.7994895277,
          745839.3331178711,
          747079.7940849051,
          748323.522039195,
          749569.9689706924,
          750818.7001188851,
          752069.3887694477,
          753321.7991183337,
          754575.7574055542,
          755831.1250658843,
          757087.7980244164,
          758345.7051411702,
          759604.8064385783,
          760865.0738724617,
          762126.4812885115,
          763389.0043900148,
          764652.628683453,
          765917.3617003155,
          767183.2054182694,
          768450.153646517,
          769718.1933350109,
          770987.3259494721,
          772257.5620669529,
          773528.9052589429,
          774801.3520830353,
          776074.8976535439,
          777349.5493009209,
          778625.3078634243,
          779902.1641513773,
          781180.0989803262,
          782459.0894940256,
          783739.120592776,
          785020.1583082939,
          786302.1433784973,
          787584.9912528818,
          788868.5995540448,
          790152.8473324133,
          791437.5641914685,
          792722.5267518385,
          794007.4642567108,
          795292.0743241647,
          796576.0192779966,
          797858.9806509423,
          799140.6641474923,
          800420.8339740537,
          801699.4140318373,
          802976.439084663,
          804252.0402981522,
          805526.4449729717,
          806799.9411834598,
          808072.833571158,
          809345.4017554802,
          810617.8825202418,
          811890.4698799017,
          813163.3297786205,
          814436.6029754514,
          815710.3946883731,
          816984.7792644012,
          818259.8065385411,
          819535.5306619772,
          820811.9920469245,
          822089.2178657469,
          823367.2229228953,
          824646.0232456131,
          825925.6409329694,
          827206.0905509607,
          828487.3795567328,
          829769.5087363094,
          831052.4867961537,
          832336.3310669458,
          833621.0507019446,
          834906.646010086,
          836193.1090432801,
          837480.4448853531,
          838768.6664308074,
          840057.7750166331,
          841347.7618198908,
          842638.6144898501,
          843930.3346726085,
          845222.9133822988,
          846516.3275491663,
          847810.5402304914,
          849105.5098823495,
          850401.1897428733,
          851697.5012287281,
          852994.3310789664,
          854291.5319581463,
          855588.9255994523,
          856886.2871964236,
          858183.3428153481,
          859479.7702827646,
          860775.2043233523,
          862069.2989867831,
          863361.7445824181,
          864652.3232349078,
          865940.9202323817,
          867227.5394002099,
          868512.3523930259,
          869795.5975483113,
          871077.5435327797,
          872358.4869877666,
          873638.7166511397,
          874918.4886687493,
          876198.0145617604,
          877477.4587142664,
          878756.9472448106,
          880036.5985889893,
          881316.4983849531,
          882596.7138533855,
          883877.3166680249,
          885158.4270256346,
          886440.2634203047,
          887723.0922042453,
          889007.1490190821,
          890292.6208955266,
          891579.6472128434,
          892868.3276373025,
          894158.7360783645,
          895450.9307066035,
          896744.9565321262,
          898040.8741040719,
          899338.7747360799,
          900638.7726417894,
          901940.9597518584,
          903245.393964487,
          904552.1078184741,
          905861.1023830245,
          907172.3573833369,
          908485.825862131,
          909801.4201387275,
          911119.0366430113,
          912438.5564947075,
          913759.7961048195,
          915082.4782067037,
          916406.2083458526,
          917730.4583219918,
          919054.5085747129,
          920377.4316689537,
          921698.0840420758,
          923015.0970999327,
          924326.8508853312,
          925631.6851677564,
          926927.957365018,
          928214.1940365154,
          929489.3417582223,
          930752.9745966541,
          932005.3065375445,
          933247.1808959461,
          934479.8905463149,
          935704.9177164404,
          936923.882085738,
          938138.2968105737,
          939349.4908136063,
          940558.565351729,
          941766.4000542935,
          942973.6777008853,
          944180.9223251932,
          945388.5223945243,
          946596.7625965871,
          947805.8730103037,
          949016.0375536518,
          950227.3994177897,
          951440.0698739705,
          952654.1315552839,
          953869.6425003402,
          955086.6360103941,
          956305.1338742035,
          957525.1703677126,
          958746.7470769437,
          959969.8242250504,
          961194.3206723335,
          962420.12662785,
          963647.1585762985,
          964875.3413445578,
          966104.5983396973,
          967334.8665164323,
          968566.0651727492,
          969798.0605463544,
          971030.6218093779,
          972263.3957539189,
          973495.8652952157,
          974727.3770967119,
          975957.0789932418,
          977183.8370209839,
          978406.1436217137,
          979622.0324669632,
          980828.9294438646,
          982023.5124039366,
          983201.7020468906,
          984358.4800514422,
          985488.1963005606,
          986584.7910057507,
          987642.1373623863,
          988654.9058694935,
          989619.5148016618,
          990534.4980317501,
          991400.9063130134,
          992222.0286145157,
          993002.8300685597,
          993749.20582667,
          994467.3191310206,
          995162.9188773758,
          995840.8860356451,
          996505.200228726,
          997159.0362214234,
          997804.8650855229,
          998444.5817940112,
          999079.6085477241,
          999710.988496301,
          1000339.4854021245,
          1000965.6473927979,
          1001589.860029804,
          1002212.3989484669,
          1002833.4485564362,
          1003453.1178784913,
          1004071.4652178,
          1004688.494771159,
          1005304.1894235881,
          1005918.5463929602,
          1006531.5717136005,
          1007143.2920396714,
          1007753.7181442671,
          1008362.8301901455,
          1008970.5995755189,
          1009577.0033134053,
          1010182.033165474,
          1010785.6853321851,
          1011387.9425395648,
          1011988.7544575621,
          1012588.0401708514,
          1013185.6923678558,
          1013781.5633423647,
          1014375.435793975,
          1014967.0193885597,
          1015555.9337468385,
          1016141.6785133528,
          1016723.6136462454,
          1017300.9283309003,
          1017872.6259722548,
          1018437.5293634456,
          1018994.2911659208,
          1019541.4756103714,
          1020077.6525367176,
          1020601.5443850032,
          1021112.2577173318,
          1021609.4354355378,
          1022093.2835456934,
          1022564.558395599,
          1023024.4081680956,
          1023474.2363092023,
          1023915.4870968973,
          1024349.4503951226,
          1024777.248465758,
          1025199.8203799875,
          1025617.9239894575,
          1026032.1409833205,
          1026442.9136225907,
          1026850.5743773186,
          1027255.3492665333,
          1027657.3824260129,
          1028056.7723293111,
          1028453.6332153614,
          1028848.0686818529,
          1029240.1400106814,
          1029629.8853543373,
          1030017.3363027972,
          1030402.5198236196,
          1030785.4579966962,
          1031166.1757617204,
          1031544.7188016365,
          1031921.1433621463,
          1032295.4604285676,
          1032667.6501379134,
          1033037.7125303111,
          1033405.655620774,
          1033771.4931133785,
          1034135.2457200312,
          1034496.9377973401,
          1034856.5963048092,
          1035214.2595468967,
          1035569.9798183141,
          1035923.8339032007,
          1036275.9256231707,
          1036626.3880747925,
          1036975.4035715135,
          1037323.2059997898,
          1037670.1000321812,
          1038016.4853904238,
          1038362.8675554175,
          1038709.8571797092,
          1039058.1516747245,
          1039408.4900650079,
          1039761.6052048608,
          1040118.140763379,
          1040478.5315559664,
          1040842.9459071537,
          1041211.2425441751,
          1041582.9919390299,
          1041957.5532989398,
          1042334.1914784326,
          1042712.1590924747,
          1043090.7751338369,
          1043469.446463604,
          1043847.6728796512,
          1044225.0468905853,
          1044601.2479783618,
          1044976.0226738747,
          1045349.1740553814,
          1045720.5404783771,
          1046089.937822806,
          1046457.2382357037,
          1046822.4146773955,
          1047185.4786989153,
          1047546.4239965697,
          1047905.2332456992,
          1048261.8968692945,
          1048616.4112337632,
          1048968.7728686605,
          1049318.9937496618,
          1049667.1094640594,
          1050013.1327455658,
          1050357.041493448,
          1050698.8041629766,
          1051038.4118269172,
          1051375.870506822,
          1051711.1939002888,
          1052044.4005236519,
          1052375.5140935336,
          1052704.5660489306,
          1053031.59821322,
          1053356.6639465701,
          1053679.8333081421,
          1054001.197388552,
          1054320.8802736655,
          1054639.0426641884,
          1054955.8943370616,
          1055271.7061412553,
          1055586.8283326998,
          1055901.6944304816,
          1056216.8219300108,
          1056532.8163760384,
          1056850.321858014,
          1057169.974034652,
          1057492.3255430176,
          1057817.7401043223,
          1058146.3572841191,
          1058478.0503037148,
          1058812.4493939534,
          1059149.0439558506,
          1059487.2265604162,
          1059826.388970091,
          1060165.9332576776,
          1060505.316868306,
          1060844.1053601252,
          1061181.953734046,
          1061518.5955587863,
          1061853.8277391426,
          1062187.4922987013,
          1062519.4531059784,
          1062849.5623201788,
          1063177.6984771297,
          1063503.8435903606,
          1063828.013618243,
          1064150.2034657788,
          1064470.402306792,
          1064788.6032449827,
          1065104.8027058428,
          1065419.0004641109,
          1065731.1747257225,
          1066041.2662223247,
          1066349.2346356227,
          1066655.104376508,
          1066958.9433958763,
          1067260.7828082324,
          1067560.6239933157,
          1067858.464077219,
          1068154.2889161208,
          1068448.0818936077,
          1068739.8593374214,
          1069029.6761488565,
          1069317.5761887492,
          1069603.514288004,
          1069887.4115336025,
          1070169.2228041776,
          1070448.8999611102,
          1070726.3908817698,
          1071001.6263911582,
          1071274.5083846855,
          1071544.908381391,
          1071812.6806576864,
          1072077.6444358143,
          1072339.556703151,
          1072598.1670098845,
          1072853.2745682863,
          1073104.7443560846,
          1073352.5245491618,
          1073596.656819848,
          1073837.2712528687,
          1074074.561672501,
          1074308.7530558712,
          1074540.0793854464,
          1074768.7625375474,
          1074994.996492039,
          1075218.944473862,
          1075440.737126312,
          1075660.477370679,
          1075878.2431391785,
          1076094.093023038,
          1076308.0754460483,
          1076520.2272703662,
          1076730.5786955683,
          1076939.1548006195,
          1077145.975062673,
          1077351.0562431153,
          1077554.416274908,
          1077756.0732954964,
          1077956.0463288329,
          1078154.3523202685,
          1078350.994737736,
          1078545.955833166,
          1078739.2175981044,
          1078930.8093635829,
          1079120.7694987194,
          1079309.113080529,
          1079495.8502627786,
          1079680.984521654,
          1079864.516317204,
          1080046.448023966,
          1080226.7835223936,
          1080405.5281082164,
          1080582.690002556,
          1080758.2812180943,
          1080932.3113702137,
          1081104.7902849386,
          1081275.7252275574,
          1081445.123153475,
          1081612.9893421377,
          1081779.3279951261,
          1081944.1443052155,
          1082107.4441449596,
          1082269.2320425687,
          1082429.5110791903,
          1082588.2837568752,
          1082745.552674456,
          1082901.3236025677
         ],
         "yaxis": "y"
        },
        {
         "hovertemplate": "x=%{x}<br>y=%{y}<extra></extra>",
         "legendgroup": "",
         "marker": {
          "color": "red",
          "symbol": "circle"
         },
         "mode": "markers",
         "name": "",
         "orientation": "v",
         "showlegend": false,
         "type": "scatter",
         "x": [
          2009,
          2019
         ],
         "xaxis": "x",
         "y": [
          1207100,
          1194300
         ],
         "yaxis": "y"
        }
       ],
       "layout": {
        "template": {
         "data": {
          "bar": [
           {
            "error_x": {
             "color": "#2a3f5f"
            },
            "error_y": {
             "color": "#2a3f5f"
            },
            "marker": {
             "line": {
              "color": "#E5ECF6",
              "width": 0.5
             },
             "pattern": {
              "fillmode": "overlay",
              "size": 10,
              "solidity": 0.2
             }
            },
            "type": "bar"
           }
          ],
          "barpolar": [
           {
            "marker": {
             "line": {
              "color": "#E5ECF6",
              "width": 0.5
             },
             "pattern": {
              "fillmode": "overlay",
              "size": 10,
              "solidity": 0.2
             }
            },
            "type": "barpolar"
           }
          ],
          "carpet": [
           {
            "aaxis": {
             "endlinecolor": "#2a3f5f",
             "gridcolor": "white",
             "linecolor": "white",
             "minorgridcolor": "white",
             "startlinecolor": "#2a3f5f"
            },
            "baxis": {
             "endlinecolor": "#2a3f5f",
             "gridcolor": "white",
             "linecolor": "white",
             "minorgridcolor": "white",
             "startlinecolor": "#2a3f5f"
            },
            "type": "carpet"
           }
          ],
          "choropleth": [
           {
            "colorbar": {
             "outlinewidth": 0,
             "ticks": ""
            },
            "type": "choropleth"
           }
          ],
          "contour": [
           {
            "colorbar": {
             "outlinewidth": 0,
             "ticks": ""
            },
            "colorscale": [
             [
              0,
              "#0d0887"
             ],
             [
              0.1111111111111111,
              "#46039f"
             ],
             [
              0.2222222222222222,
              "#7201a8"
             ],
             [
              0.3333333333333333,
              "#9c179e"
             ],
             [
              0.4444444444444444,
              "#bd3786"
             ],
             [
              0.5555555555555556,
              "#d8576b"
             ],
             [
              0.6666666666666666,
              "#ed7953"
             ],
             [
              0.7777777777777778,
              "#fb9f3a"
             ],
             [
              0.8888888888888888,
              "#fdca26"
             ],
             [
              1,
              "#f0f921"
             ]
            ],
            "type": "contour"
           }
          ],
          "contourcarpet": [
           {
            "colorbar": {
             "outlinewidth": 0,
             "ticks": ""
            },
            "type": "contourcarpet"
           }
          ],
          "heatmap": [
           {
            "colorbar": {
             "outlinewidth": 0,
             "ticks": ""
            },
            "colorscale": [
             [
              0,
              "#0d0887"
             ],
             [
              0.1111111111111111,
              "#46039f"
             ],
             [
              0.2222222222222222,
              "#7201a8"
             ],
             [
              0.3333333333333333,
              "#9c179e"
             ],
             [
              0.4444444444444444,
              "#bd3786"
             ],
             [
              0.5555555555555556,
              "#d8576b"
             ],
             [
              0.6666666666666666,
              "#ed7953"
             ],
             [
              0.7777777777777778,
              "#fb9f3a"
             ],
             [
              0.8888888888888888,
              "#fdca26"
             ],
             [
              1,
              "#f0f921"
             ]
            ],
            "type": "heatmap"
           }
          ],
          "heatmapgl": [
           {
            "colorbar": {
             "outlinewidth": 0,
             "ticks": ""
            },
            "colorscale": [
             [
              0,
              "#0d0887"
             ],
             [
              0.1111111111111111,
              "#46039f"
             ],
             [
              0.2222222222222222,
              "#7201a8"
             ],
             [
              0.3333333333333333,
              "#9c179e"
             ],
             [
              0.4444444444444444,
              "#bd3786"
             ],
             [
              0.5555555555555556,
              "#d8576b"
             ],
             [
              0.6666666666666666,
              "#ed7953"
             ],
             [
              0.7777777777777778,
              "#fb9f3a"
             ],
             [
              0.8888888888888888,
              "#fdca26"
             ],
             [
              1,
              "#f0f921"
             ]
            ],
            "type": "heatmapgl"
           }
          ],
          "histogram": [
           {
            "marker": {
             "pattern": {
              "fillmode": "overlay",
              "size": 10,
              "solidity": 0.2
             }
            },
            "type": "histogram"
           }
          ],
          "histogram2d": [
           {
            "colorbar": {
             "outlinewidth": 0,
             "ticks": ""
            },
            "colorscale": [
             [
              0,
              "#0d0887"
             ],
             [
              0.1111111111111111,
              "#46039f"
             ],
             [
              0.2222222222222222,
              "#7201a8"
             ],
             [
              0.3333333333333333,
              "#9c179e"
             ],
             [
              0.4444444444444444,
              "#bd3786"
             ],
             [
              0.5555555555555556,
              "#d8576b"
             ],
             [
              0.6666666666666666,
              "#ed7953"
             ],
             [
              0.7777777777777778,
              "#fb9f3a"
             ],
             [
              0.8888888888888888,
              "#fdca26"
             ],
             [
              1,
              "#f0f921"
             ]
            ],
            "type": "histogram2d"
           }
          ],
          "histogram2dcontour": [
           {
            "colorbar": {
             "outlinewidth": 0,
             "ticks": ""
            },
            "colorscale": [
             [
              0,
              "#0d0887"
             ],
             [
              0.1111111111111111,
              "#46039f"
             ],
             [
              0.2222222222222222,
              "#7201a8"
             ],
             [
              0.3333333333333333,
              "#9c179e"
             ],
             [
              0.4444444444444444,
              "#bd3786"
             ],
             [
              0.5555555555555556,
              "#d8576b"
             ],
             [
              0.6666666666666666,
              "#ed7953"
             ],
             [
              0.7777777777777778,
              "#fb9f3a"
             ],
             [
              0.8888888888888888,
              "#fdca26"
             ],
             [
              1,
              "#f0f921"
             ]
            ],
            "type": "histogram2dcontour"
           }
          ],
          "mesh3d": [
           {
            "colorbar": {
             "outlinewidth": 0,
             "ticks": ""
            },
            "type": "mesh3d"
           }
          ],
          "parcoords": [
           {
            "line": {
             "colorbar": {
              "outlinewidth": 0,
              "ticks": ""
             }
            },
            "type": "parcoords"
           }
          ],
          "pie": [
           {
            "automargin": true,
            "type": "pie"
           }
          ],
          "scatter": [
           {
            "fillpattern": {
             "fillmode": "overlay",
             "size": 10,
             "solidity": 0.2
            },
            "type": "scatter"
           }
          ],
          "scatter3d": [
           {
            "line": {
             "colorbar": {
              "outlinewidth": 0,
              "ticks": ""
             }
            },
            "marker": {
             "colorbar": {
              "outlinewidth": 0,
              "ticks": ""
             }
            },
            "type": "scatter3d"
           }
          ],
          "scattercarpet": [
           {
            "marker": {
             "colorbar": {
              "outlinewidth": 0,
              "ticks": ""
             }
            },
            "type": "scattercarpet"
           }
          ],
          "scattergeo": [
           {
            "marker": {
             "colorbar": {
              "outlinewidth": 0,
              "ticks": ""
             }
            },
            "type": "scattergeo"
           }
          ],
          "scattergl": [
           {
            "marker": {
             "colorbar": {
              "outlinewidth": 0,
              "ticks": ""
             }
            },
            "type": "scattergl"
           }
          ],
          "scattermapbox": [
           {
            "marker": {
             "colorbar": {
              "outlinewidth": 0,
              "ticks": ""
             }
            },
            "type": "scattermapbox"
           }
          ],
          "scatterpolar": [
           {
            "marker": {
             "colorbar": {
              "outlinewidth": 0,
              "ticks": ""
             }
            },
            "type": "scatterpolar"
           }
          ],
          "scatterpolargl": [
           {
            "marker": {
             "colorbar": {
              "outlinewidth": 0,
              "ticks": ""
             }
            },
            "type": "scatterpolargl"
           }
          ],
          "scatterternary": [
           {
            "marker": {
             "colorbar": {
              "outlinewidth": 0,
              "ticks": ""
             }
            },
            "type": "scatterternary"
           }
          ],
          "surface": [
           {
            "colorbar": {
             "outlinewidth": 0,
             "ticks": ""
            },
            "colorscale": [
             [
              0,
              "#0d0887"
             ],
             [
              0.1111111111111111,
              "#46039f"
             ],
             [
              0.2222222222222222,
              "#7201a8"
             ],
             [
              0.3333333333333333,
              "#9c179e"
             ],
             [
              0.4444444444444444,
              "#bd3786"
             ],
             [
              0.5555555555555556,
              "#d8576b"
             ],
             [
              0.6666666666666666,
              "#ed7953"
             ],
             [
              0.7777777777777778,
              "#fb9f3a"
             ],
             [
              0.8888888888888888,
              "#fdca26"
             ],
             [
              1,
              "#f0f921"
             ]
            ],
            "type": "surface"
           }
          ],
          "table": [
           {
            "cells": {
             "fill": {
              "color": "#EBF0F8"
             },
             "line": {
              "color": "white"
             }
            },
            "header": {
             "fill": {
              "color": "#C8D4E3"
             },
             "line": {
              "color": "white"
             }
            },
            "type": "table"
           }
          ]
         },
         "layout": {
          "annotationdefaults": {
           "arrowcolor": "#2a3f5f",
           "arrowhead": 0,
           "arrowwidth": 1
          },
          "autotypenumbers": "strict",
          "coloraxis": {
           "colorbar": {
            "outlinewidth": 0,
            "ticks": ""
           }
          },
          "colorscale": {
           "diverging": [
            [
             0,
             "#8e0152"
            ],
            [
             0.1,
             "#c51b7d"
            ],
            [
             0.2,
             "#de77ae"
            ],
            [
             0.3,
             "#f1b6da"
            ],
            [
             0.4,
             "#fde0ef"
            ],
            [
             0.5,
             "#f7f7f7"
            ],
            [
             0.6,
             "#e6f5d0"
            ],
            [
             0.7,
             "#b8e186"
            ],
            [
             0.8,
             "#7fbc41"
            ],
            [
             0.9,
             "#4d9221"
            ],
            [
             1,
             "#276419"
            ]
           ],
           "sequential": [
            [
             0,
             "#0d0887"
            ],
            [
             0.1111111111111111,
             "#46039f"
            ],
            [
             0.2222222222222222,
             "#7201a8"
            ],
            [
             0.3333333333333333,
             "#9c179e"
            ],
            [
             0.4444444444444444,
             "#bd3786"
            ],
            [
             0.5555555555555556,
             "#d8576b"
            ],
            [
             0.6666666666666666,
             "#ed7953"
            ],
            [
             0.7777777777777778,
             "#fb9f3a"
            ],
            [
             0.8888888888888888,
             "#fdca26"
            ],
            [
             1,
             "#f0f921"
            ]
           ],
           "sequentialminus": [
            [
             0,
             "#0d0887"
            ],
            [
             0.1111111111111111,
             "#46039f"
            ],
            [
             0.2222222222222222,
             "#7201a8"
            ],
            [
             0.3333333333333333,
             "#9c179e"
            ],
            [
             0.4444444444444444,
             "#bd3786"
            ],
            [
             0.5555555555555556,
             "#d8576b"
            ],
            [
             0.6666666666666666,
             "#ed7953"
            ],
            [
             0.7777777777777778,
             "#fb9f3a"
            ],
            [
             0.8888888888888888,
             "#fdca26"
            ],
            [
             1,
             "#f0f921"
            ]
           ]
          },
          "colorway": [
           "#636efa",
           "#EF553B",
           "#00cc96",
           "#ab63fa",
           "#FFA15A",
           "#19d3f3",
           "#FF6692",
           "#B6E880",
           "#FF97FF",
           "#FECB52"
          ],
          "font": {
           "color": "#2a3f5f"
          },
          "geo": {
           "bgcolor": "white",
           "lakecolor": "white",
           "landcolor": "#E5ECF6",
           "showlakes": true,
           "showland": true,
           "subunitcolor": "white"
          },
          "hoverlabel": {
           "align": "left"
          },
          "hovermode": "closest",
          "mapbox": {
           "style": "light"
          },
          "paper_bgcolor": "white",
          "plot_bgcolor": "#E5ECF6",
          "polar": {
           "angularaxis": {
            "gridcolor": "white",
            "linecolor": "white",
            "ticks": ""
           },
           "bgcolor": "#E5ECF6",
           "radialaxis": {
            "gridcolor": "white",
            "linecolor": "white",
            "ticks": ""
           }
          },
          "scene": {
           "xaxis": {
            "backgroundcolor": "#E5ECF6",
            "gridcolor": "white",
            "gridwidth": 2,
            "linecolor": "white",
            "showbackground": true,
            "ticks": "",
            "zerolinecolor": "white"
           },
           "yaxis": {
            "backgroundcolor": "#E5ECF6",
            "gridcolor": "white",
            "gridwidth": 2,
            "linecolor": "white",
            "showbackground": true,
            "ticks": "",
            "zerolinecolor": "white"
           },
           "zaxis": {
            "backgroundcolor": "#E5ECF6",
            "gridcolor": "white",
            "gridwidth": 2,
            "linecolor": "white",
            "showbackground": true,
            "ticks": "",
            "zerolinecolor": "white"
           }
          },
          "shapedefaults": {
           "line": {
            "color": "#2a3f5f"
           }
          },
          "ternary": {
           "aaxis": {
            "gridcolor": "white",
            "linecolor": "white",
            "ticks": ""
           },
           "baxis": {
            "gridcolor": "white",
            "linecolor": "white",
            "ticks": ""
           },
           "bgcolor": "#E5ECF6",
           "caxis": {
            "gridcolor": "white",
            "linecolor": "white",
            "ticks": ""
           }
          },
          "title": {
           "x": 0.05
          },
          "xaxis": {
           "automargin": true,
           "gridcolor": "white",
           "linecolor": "white",
           "ticks": "",
           "title": {
            "standoff": 15
           },
           "zerolinecolor": "white",
           "zerolinewidth": 2
          },
          "yaxis": {
           "automargin": true,
           "gridcolor": "white",
           "linecolor": "white",
           "ticks": "",
           "title": {
            "standoff": 15
           },
           "zerolinecolor": "white",
           "zerolinewidth": 2
          }
         }
        },
        "title": {
         "text": "Modelled vs Data",
         "x": 0.5
        },
        "xaxis": {
         "title": {
          "text": "Year"
         }
        },
        "yaxis": {
         "title": {
          "text": "Population"
         }
        }
       }
      }
     },
     "metadata": {},
     "output_type": "display_data"
    }
   ],
   "source": [
    "fig2_1 = px.line(\n",
    "    derived_df_0,\n",
    "    x=derived_df_0.index,\n",
    "    y=\"total_population\",\n",
    ")\n",
    "fig2_2 = px.scatter(x= plots['total_population']['times'], y = plots['total_population']['values'])\n",
    "fig2_2.update_traces(marker=dict(color=\"red\"))\n",
    "fig2_3 = go.Figure(\n",
    "    data=fig2_1.data + fig2_2.data,\n",
    ")\n",
    "fig2_3.update_layout(\n",
    "    title=\"Modelled vs Data\", title_x=0.5, xaxis_title=\"Year\", yaxis_title=\"Population\"\n",
    ")\n",
    "fig2_3.show()"
   ]
  },
  {
   "cell_type": "code",
   "execution_count": 15,
   "metadata": {},
   "outputs": [
    {
     "data": {
      "application/vnd.plotly.v1+json": {
       "config": {
        "plotlyServerURL": "https://plot.ly"
       },
       "data": [
        {
         "hovertemplate": "index=%{x}<br>percentage_latent=%{y}<extra></extra>",
         "legendgroup": "",
         "line": {
          "color": "#636efa",
          "dash": "solid"
         },
         "marker": {
          "symbol": "circle"
         },
         "mode": "lines",
         "name": "",
         "showlegend": false,
         "type": "scattergl",
         "x": [
          1900,
          1900.1,
          1900.2,
          1900.3,
          1900.4,
          1900.5,
          1900.6,
          1900.7,
          1900.8,
          1900.9,
          1901,
          1901.1,
          1901.2,
          1901.3,
          1901.4,
          1901.5,
          1901.6,
          1901.7,
          1901.8,
          1901.9,
          1902,
          1902.1,
          1902.2,
          1902.3,
          1902.4,
          1902.5,
          1902.6,
          1902.7,
          1902.8,
          1902.9,
          1903,
          1903.1,
          1903.2,
          1903.3,
          1903.4,
          1903.5,
          1903.6,
          1903.7,
          1903.8,
          1903.9,
          1904,
          1904.1,
          1904.2,
          1904.3,
          1904.4,
          1904.5,
          1904.6,
          1904.7,
          1904.8,
          1904.9,
          1905,
          1905.1,
          1905.2,
          1905.3,
          1905.4,
          1905.5,
          1905.6,
          1905.7,
          1905.8,
          1905.9,
          1906,
          1906.1,
          1906.2,
          1906.3,
          1906.4,
          1906.5,
          1906.6,
          1906.7,
          1906.8,
          1906.9,
          1907,
          1907.1,
          1907.2,
          1907.3,
          1907.4,
          1907.5,
          1907.6,
          1907.7,
          1907.8,
          1907.9,
          1908,
          1908.1,
          1908.2,
          1908.3,
          1908.4,
          1908.5,
          1908.6,
          1908.7,
          1908.8,
          1908.9,
          1909,
          1909.1,
          1909.2,
          1909.3,
          1909.4,
          1909.5,
          1909.6,
          1909.7,
          1909.8,
          1909.9,
          1910,
          1910.1,
          1910.2,
          1910.3,
          1910.4,
          1910.5,
          1910.6,
          1910.7,
          1910.8,
          1910.9,
          1911,
          1911.1,
          1911.2,
          1911.3,
          1911.4,
          1911.5,
          1911.6,
          1911.7,
          1911.8,
          1911.9,
          1912,
          1912.1,
          1912.2,
          1912.3,
          1912.4,
          1912.5,
          1912.6,
          1912.7,
          1912.8,
          1912.9,
          1913,
          1913.1,
          1913.2,
          1913.3,
          1913.4,
          1913.5,
          1913.6,
          1913.7,
          1913.8,
          1913.9,
          1914,
          1914.1,
          1914.2,
          1914.3,
          1914.4,
          1914.5,
          1914.6,
          1914.7,
          1914.8,
          1914.9,
          1915,
          1915.1,
          1915.2,
          1915.3,
          1915.4,
          1915.5,
          1915.6,
          1915.7,
          1915.8,
          1915.9,
          1916,
          1916.1,
          1916.2,
          1916.3,
          1916.4,
          1916.5,
          1916.6,
          1916.7,
          1916.8,
          1916.9,
          1917,
          1917.1,
          1917.2,
          1917.3,
          1917.4,
          1917.5,
          1917.6,
          1917.7,
          1917.8,
          1917.9,
          1918,
          1918.1,
          1918.2,
          1918.3,
          1918.4,
          1918.5,
          1918.6,
          1918.7,
          1918.8,
          1918.9,
          1919,
          1919.1,
          1919.2,
          1919.3,
          1919.4,
          1919.5,
          1919.6,
          1919.7,
          1919.8,
          1919.9,
          1920,
          1920.1,
          1920.2,
          1920.3,
          1920.4,
          1920.5,
          1920.6,
          1920.7,
          1920.8,
          1920.9,
          1921,
          1921.1,
          1921.2,
          1921.3,
          1921.4,
          1921.5,
          1921.6,
          1921.7,
          1921.8,
          1921.9,
          1922,
          1922.1,
          1922.2,
          1922.3,
          1922.4,
          1922.5,
          1922.6,
          1922.7,
          1922.8,
          1922.9,
          1923,
          1923.1,
          1923.2,
          1923.3,
          1923.4,
          1923.5,
          1923.6,
          1923.7,
          1923.8,
          1923.9,
          1924,
          1924.1,
          1924.2,
          1924.3,
          1924.4,
          1924.5,
          1924.6,
          1924.7,
          1924.8,
          1924.9,
          1925,
          1925.1,
          1925.2,
          1925.3,
          1925.4,
          1925.5,
          1925.6,
          1925.7,
          1925.8,
          1925.9,
          1926,
          1926.1,
          1926.2,
          1926.3,
          1926.4,
          1926.5,
          1926.6,
          1926.7,
          1926.8,
          1926.9,
          1927,
          1927.1,
          1927.2,
          1927.3,
          1927.4,
          1927.5,
          1927.6,
          1927.7,
          1927.8,
          1927.9,
          1928,
          1928.1,
          1928.2,
          1928.3,
          1928.4,
          1928.5,
          1928.6,
          1928.7,
          1928.8,
          1928.9,
          1929,
          1929.1,
          1929.2,
          1929.3,
          1929.4,
          1929.5,
          1929.6,
          1929.7,
          1929.8,
          1929.9,
          1930,
          1930.1,
          1930.2,
          1930.3,
          1930.4,
          1930.5,
          1930.6,
          1930.7,
          1930.8,
          1930.9,
          1931,
          1931.1,
          1931.2,
          1931.3,
          1931.4,
          1931.5,
          1931.6,
          1931.7,
          1931.8,
          1931.9,
          1932,
          1932.1,
          1932.2,
          1932.3,
          1932.4,
          1932.5,
          1932.6,
          1932.7,
          1932.8,
          1932.9,
          1933,
          1933.1,
          1933.2,
          1933.3,
          1933.4,
          1933.5,
          1933.6,
          1933.7,
          1933.8,
          1933.9,
          1934,
          1934.1,
          1934.2,
          1934.3,
          1934.4,
          1934.5,
          1934.6,
          1934.7,
          1934.8,
          1934.9,
          1935,
          1935.1,
          1935.2,
          1935.3,
          1935.4,
          1935.5,
          1935.6,
          1935.7,
          1935.8,
          1935.9,
          1936,
          1936.1,
          1936.2,
          1936.3,
          1936.4,
          1936.5,
          1936.6,
          1936.7,
          1936.8,
          1936.9,
          1937,
          1937.1,
          1937.2,
          1937.3,
          1937.4,
          1937.5,
          1937.6,
          1937.7,
          1937.8,
          1937.9,
          1938,
          1938.1,
          1938.2,
          1938.3,
          1938.4,
          1938.5,
          1938.6,
          1938.7,
          1938.8,
          1938.9,
          1939,
          1939.1,
          1939.2,
          1939.3,
          1939.4,
          1939.5,
          1939.6,
          1939.7,
          1939.8,
          1939.9,
          1940,
          1940.1,
          1940.2,
          1940.3,
          1940.4,
          1940.5,
          1940.6,
          1940.7,
          1940.8,
          1940.9,
          1941,
          1941.1,
          1941.2,
          1941.3,
          1941.4,
          1941.5,
          1941.6,
          1941.7,
          1941.8,
          1941.9,
          1942,
          1942.1,
          1942.2,
          1942.3,
          1942.4,
          1942.5,
          1942.6,
          1942.7,
          1942.8,
          1942.9,
          1943,
          1943.1,
          1943.2,
          1943.3,
          1943.4,
          1943.5,
          1943.6,
          1943.7,
          1943.8,
          1943.9,
          1944,
          1944.1,
          1944.2,
          1944.3,
          1944.4,
          1944.5,
          1944.6,
          1944.7,
          1944.8,
          1944.9,
          1945,
          1945.1,
          1945.2,
          1945.3,
          1945.4,
          1945.5,
          1945.6,
          1945.7,
          1945.8,
          1945.9,
          1946,
          1946.1,
          1946.2,
          1946.3,
          1946.4,
          1946.5,
          1946.6,
          1946.7,
          1946.8,
          1946.9,
          1947,
          1947.1,
          1947.2,
          1947.3,
          1947.4,
          1947.5,
          1947.6,
          1947.7,
          1947.8,
          1947.9,
          1948,
          1948.1,
          1948.2,
          1948.3,
          1948.4,
          1948.5,
          1948.6,
          1948.7,
          1948.8,
          1948.9,
          1949,
          1949.1,
          1949.2,
          1949.3,
          1949.4,
          1949.5,
          1949.6,
          1949.7,
          1949.8,
          1949.9,
          1950,
          1950.1,
          1950.2,
          1950.3,
          1950.4,
          1950.5,
          1950.6,
          1950.7,
          1950.8,
          1950.9,
          1951,
          1951.1,
          1951.2,
          1951.3,
          1951.4,
          1951.5,
          1951.6,
          1951.7,
          1951.8,
          1951.9,
          1952,
          1952.1,
          1952.2,
          1952.3,
          1952.4,
          1952.5,
          1952.6,
          1952.7,
          1952.8,
          1952.9,
          1953,
          1953.1,
          1953.2,
          1953.3,
          1953.4,
          1953.5,
          1953.6,
          1953.7,
          1953.8,
          1953.9,
          1954,
          1954.1,
          1954.2,
          1954.3,
          1954.4,
          1954.5,
          1954.6,
          1954.7,
          1954.8,
          1954.9,
          1955,
          1955.1,
          1955.2,
          1955.3,
          1955.4,
          1955.5,
          1955.6,
          1955.7,
          1955.8,
          1955.9,
          1956,
          1956.1,
          1956.2,
          1956.3,
          1956.4,
          1956.5,
          1956.6,
          1956.7,
          1956.8,
          1956.9,
          1957,
          1957.1,
          1957.2,
          1957.3,
          1957.4,
          1957.5,
          1957.6,
          1957.7,
          1957.8,
          1957.9,
          1958,
          1958.1,
          1958.2,
          1958.3,
          1958.4,
          1958.5,
          1958.6,
          1958.7,
          1958.8,
          1958.9,
          1959,
          1959.1,
          1959.2,
          1959.3,
          1959.4,
          1959.5,
          1959.6,
          1959.7,
          1959.8,
          1959.9,
          1960,
          1960.1,
          1960.2,
          1960.3,
          1960.4,
          1960.5,
          1960.6,
          1960.7,
          1960.8,
          1960.9,
          1961,
          1961.1,
          1961.2,
          1961.3,
          1961.4,
          1961.5,
          1961.6,
          1961.7,
          1961.8,
          1961.9,
          1962,
          1962.1,
          1962.2,
          1962.3,
          1962.4,
          1962.5,
          1962.6,
          1962.7,
          1962.8,
          1962.9,
          1963,
          1963.1,
          1963.2,
          1963.3,
          1963.4,
          1963.5,
          1963.6,
          1963.7,
          1963.8,
          1963.9,
          1964,
          1964.1,
          1964.2,
          1964.3,
          1964.4,
          1964.5,
          1964.6,
          1964.7,
          1964.8,
          1964.9,
          1965,
          1965.1,
          1965.2,
          1965.3,
          1965.4,
          1965.5,
          1965.6,
          1965.7,
          1965.8,
          1965.9,
          1966,
          1966.1,
          1966.2,
          1966.3,
          1966.4,
          1966.5,
          1966.6,
          1966.7,
          1966.8,
          1966.9,
          1967,
          1967.1,
          1967.2,
          1967.3,
          1967.4,
          1967.5,
          1967.6,
          1967.7,
          1967.8,
          1967.9,
          1968,
          1968.1,
          1968.2,
          1968.3,
          1968.4,
          1968.5,
          1968.6,
          1968.7,
          1968.8,
          1968.9,
          1969,
          1969.1,
          1969.2,
          1969.3,
          1969.4,
          1969.5,
          1969.6,
          1969.7,
          1969.8,
          1969.9,
          1970,
          1970.1,
          1970.2,
          1970.3,
          1970.4,
          1970.5,
          1970.6,
          1970.7,
          1970.8,
          1970.9,
          1971,
          1971.1,
          1971.2,
          1971.3,
          1971.4,
          1971.5,
          1971.6,
          1971.7,
          1971.8,
          1971.9,
          1972,
          1972.1,
          1972.2,
          1972.3,
          1972.4,
          1972.5,
          1972.6,
          1972.7,
          1972.8,
          1972.9,
          1973,
          1973.1,
          1973.2,
          1973.3,
          1973.4,
          1973.5,
          1973.6,
          1973.7,
          1973.8,
          1973.9,
          1974,
          1974.1,
          1974.2,
          1974.3,
          1974.4,
          1974.5,
          1974.6,
          1974.7,
          1974.8,
          1974.9,
          1975,
          1975.1,
          1975.2,
          1975.3,
          1975.4,
          1975.5,
          1975.6,
          1975.7,
          1975.8,
          1975.9,
          1976,
          1976.1,
          1976.2,
          1976.3,
          1976.4,
          1976.5,
          1976.6,
          1976.7,
          1976.8,
          1976.9,
          1977,
          1977.1,
          1977.2,
          1977.3,
          1977.4,
          1977.5,
          1977.6,
          1977.7,
          1977.8,
          1977.9,
          1978,
          1978.1,
          1978.2,
          1978.3,
          1978.4,
          1978.5,
          1978.6,
          1978.7,
          1978.8,
          1978.9,
          1979,
          1979.1,
          1979.2,
          1979.3,
          1979.4,
          1979.5,
          1979.6,
          1979.7,
          1979.8,
          1979.9,
          1980,
          1980.1,
          1980.2,
          1980.3,
          1980.4,
          1980.5,
          1980.6,
          1980.7,
          1980.8,
          1980.9,
          1981,
          1981.1,
          1981.2,
          1981.3,
          1981.4,
          1981.5,
          1981.6,
          1981.7,
          1981.8,
          1981.9,
          1982,
          1982.1,
          1982.2,
          1982.3,
          1982.4,
          1982.5,
          1982.6,
          1982.7,
          1982.8,
          1982.9,
          1983,
          1983.1,
          1983.2,
          1983.3,
          1983.4,
          1983.5,
          1983.6,
          1983.7,
          1983.8,
          1983.9,
          1984,
          1984.1,
          1984.2,
          1984.3,
          1984.4,
          1984.5,
          1984.6,
          1984.7,
          1984.8,
          1984.9,
          1985,
          1985.1,
          1985.2,
          1985.3,
          1985.4,
          1985.5,
          1985.6,
          1985.7,
          1985.8,
          1985.9,
          1986,
          1986.1,
          1986.2,
          1986.3,
          1986.4,
          1986.5,
          1986.6,
          1986.7,
          1986.8,
          1986.9,
          1987,
          1987.1,
          1987.2,
          1987.3,
          1987.4,
          1987.5,
          1987.6,
          1987.7,
          1987.8,
          1987.9,
          1988,
          1988.1,
          1988.2,
          1988.3,
          1988.4,
          1988.5,
          1988.6,
          1988.7,
          1988.8,
          1988.9,
          1989,
          1989.1,
          1989.2,
          1989.3,
          1989.4,
          1989.5,
          1989.6,
          1989.7,
          1989.8,
          1989.9,
          1990,
          1990.1,
          1990.2,
          1990.3,
          1990.4,
          1990.5,
          1990.6,
          1990.7,
          1990.8,
          1990.9,
          1991,
          1991.1,
          1991.2,
          1991.3,
          1991.4,
          1991.5,
          1991.6,
          1991.7,
          1991.8,
          1991.9,
          1992,
          1992.1,
          1992.2,
          1992.3,
          1992.4,
          1992.5,
          1992.6,
          1992.7,
          1992.8,
          1992.9,
          1993,
          1993.1,
          1993.2,
          1993.3,
          1993.4,
          1993.5,
          1993.6,
          1993.7,
          1993.8,
          1993.9,
          1994,
          1994.1,
          1994.2,
          1994.3,
          1994.4,
          1994.5,
          1994.6,
          1994.7,
          1994.8,
          1994.9,
          1995,
          1995.1,
          1995.2,
          1995.3,
          1995.4,
          1995.5,
          1995.6,
          1995.7,
          1995.8,
          1995.9,
          1996,
          1996.1,
          1996.2,
          1996.3,
          1996.4,
          1996.5,
          1996.6,
          1996.7,
          1996.8,
          1996.9,
          1997,
          1997.1,
          1997.2,
          1997.3,
          1997.4,
          1997.5,
          1997.6,
          1997.7,
          1997.8,
          1997.9,
          1998,
          1998.1,
          1998.2,
          1998.3,
          1998.4,
          1998.5,
          1998.6,
          1998.7,
          1998.8,
          1998.9,
          1999,
          1999.1,
          1999.2,
          1999.3,
          1999.4,
          1999.5,
          1999.6,
          1999.7,
          1999.8,
          1999.9,
          2000,
          2000.1,
          2000.2,
          2000.3,
          2000.4,
          2000.5,
          2000.6,
          2000.7,
          2000.8,
          2000.9,
          2001,
          2001.1,
          2001.2,
          2001.3,
          2001.4,
          2001.5,
          2001.6,
          2001.7,
          2001.8,
          2001.9,
          2002,
          2002.1,
          2002.2,
          2002.3,
          2002.4,
          2002.5,
          2002.6,
          2002.7,
          2002.8,
          2002.9,
          2003,
          2003.1,
          2003.2,
          2003.3,
          2003.4,
          2003.5,
          2003.6,
          2003.7,
          2003.8,
          2003.9,
          2004,
          2004.1,
          2004.2,
          2004.3,
          2004.4,
          2004.5,
          2004.6,
          2004.7,
          2004.8,
          2004.9,
          2005,
          2005.1,
          2005.2,
          2005.3,
          2005.4,
          2005.5,
          2005.6,
          2005.7,
          2005.8,
          2005.9,
          2006,
          2006.1,
          2006.2,
          2006.3,
          2006.4,
          2006.5,
          2006.6,
          2006.7,
          2006.8,
          2006.9,
          2007,
          2007.1,
          2007.2,
          2007.3,
          2007.4,
          2007.5,
          2007.6,
          2007.7,
          2007.8,
          2007.9,
          2008,
          2008.1,
          2008.2,
          2008.3,
          2008.4,
          2008.5,
          2008.6,
          2008.7,
          2008.8,
          2008.9,
          2009,
          2009.1,
          2009.2,
          2009.3,
          2009.4,
          2009.5,
          2009.6,
          2009.7,
          2009.8,
          2009.9,
          2010,
          2010.1,
          2010.2,
          2010.3,
          2010.4,
          2010.5,
          2010.6,
          2010.7,
          2010.8,
          2010.9,
          2011,
          2011.1,
          2011.2,
          2011.3,
          2011.4,
          2011.5,
          2011.6,
          2011.7,
          2011.8,
          2011.9,
          2012,
          2012.1,
          2012.2,
          2012.3,
          2012.4,
          2012.5,
          2012.6,
          2012.7,
          2012.8,
          2012.9,
          2013,
          2013.1,
          2013.2,
          2013.3,
          2013.4,
          2013.5,
          2013.6,
          2013.7,
          2013.8,
          2013.9,
          2014,
          2014.1,
          2014.2,
          2014.3,
          2014.4,
          2014.5,
          2014.6,
          2014.7,
          2014.8,
          2014.9,
          2015,
          2015.1,
          2015.2,
          2015.3,
          2015.4,
          2015.5,
          2015.6,
          2015.7,
          2015.8,
          2015.9,
          2016,
          2016.1,
          2016.2,
          2016.3,
          2016.4,
          2016.5,
          2016.6,
          2016.7,
          2016.8,
          2016.9,
          2017,
          2017.1,
          2017.2,
          2017.3,
          2017.4,
          2017.5,
          2017.6,
          2017.7,
          2017.8,
          2017.9,
          2018,
          2018.1,
          2018.2,
          2018.3,
          2018.4,
          2018.5,
          2018.6,
          2018.7,
          2018.8,
          2018.9,
          2019,
          2019.1,
          2019.2,
          2019.3,
          2019.4,
          2019.5,
          2019.6,
          2019.7,
          2019.8,
          2019.9,
          2020
         ],
         "xaxis": "x",
         "y": [
          0,
          0.0002792468193165737,
          0.0005379560520349009,
          0.0007823479228334324,
          0.0010175839386858119,
          0.0012459466804809471,
          0.0014697875067953524,
          0.0016906503653702398,
          0.0019094349612926143,
          0.0021271292438011283,
          0.0023445509970044685,
          0.0025619557297973687,
          0.0027796276220495,
          0.002997953035883232,
          0.0032173927430650035,
          0.0034380829656244145,
          0.003659952173017577,
          0.0038830540026072533,
          0.0041075752385297875,
          0.004333835656808105,
          0.0045621518643747146,
          0.0047923055942289215,
          0.005024176338800983,
          0.00525788083168394,
          0.0054937649350560985,
          0.005732121726150566,
          0.0059726546156992555,
          0.006215232542802474,
          0.006460007685241892,
          0.006707414732187438,
          0.006957746887559834,
          0.0072106020479518265,
          0.007465899472046987,
          0.007723877511473399,
          0.007985028876065217,
          0.008249266544323671,
          0.008516367069082712,
          0.008786403740183298,
          0.009059710653989996,
          0.009336644649053332,
          0.0096169539011181,
          0.009900536068637491,
          0.010187549933257248,
          0.010478411382503612,
          0.010773391509634876,
          0.01107215956796612,
          0.011374625996254436,
          0.011681016938593535,
          0.011991869728252808,
          0.012307418942164708,
          0.012627211214346862,
          0.012951143469702775,
          0.013279527009511436,
          0.013613062417825958,
          0.013951772304878263,
          0.01429524394249677,
          0.014643556410155766,
          0.014997163505361177,
          0.015356437029687494,
          0.015721109880130438,
          0.016091211934170756,
          0.01646700300304712,
          0.016848898195637677,
          0.017236872834256255,
          0.0176308471620354,
          0.018030951961211936,
          0.018437517692842822,
          0.018850980337192194,
          0.01927124074640924,
          0.01969812991306413,
          0.02013177734102584,
          0.020572610745813527,
          0.021021247057136597,
          0.02147749270989862,
          0.02194116092822455,
          0.022412464003028744,
          0.022891955256394085,
          0.023379870476832067,
          0.02387602798161385,
          0.024380542252251614,
          0.0248937653162614,
          0.025416170410670604,
          0.025947717894784596,
          0.026488379345856343,
          0.027038360382763756,
          0.027598092136664497,
          0.0281680785611258,
          0.028748194879473533,
          0.029338340407284298,
          0.029938743219756186,
          0.030549956931838144,
          0.031172631728030226,
          0.03180650417234218,
          0.03245152582130092,
          0.033108036126710066,
          0.03377669962003007,
          0.034457683553442406,
          0.035150906204746146,
          0.03585659037729906,
          0.036575206203642345,
          0.037307266887651146,
          0.0380527407231767,
          0.03881171412703891,
          0.039584510160376306,
          0.04037168420200618,
          0.04117375543233166,
          0.04199060749408164,
          0.042822282157262824,
          0.04366915251287173,
          0.04453192061096306,
          0.04541121446996165,
          0.04630678921774495,
          0.04721876869505211,
          0.04814765060677163,
          0.04909421316497776,
          0.05005859062401585,
          0.051040840918210116,
          0.05204132605971781,
          0.0530606675608749,
          0.054099430767365064,
          0.055157648694851104,
          0.056235545499130415,
          0.05733359347499196,
          0.058452510077879855,
          0.05959284694617991,
          0.060754564661624044,
          0.0619378697005055,
          0.06314331318423035,
          0.06437178829805709,
          0.06562389718896824,
          0.06689951400784262,
          0.06819895442370548,
          0.06952291442519028,
          0.07087230586886235,
          0.0722472908935521,
          0.07364810859156402,
          0.07507530409364237,
          0.07652969638444539,
          0.07801192604616618,
          0.07952215647182914,
          0.08106079330718649,
          0.08262850777819428,
          0.08422622597562322,
          0.08585456265351646,
          0.08751362463027343,
          0.08920383138744413,
          0.09092596547967072,
          0.09268115893010946,
          0.09447002135277914,
          0.09629263211788144,
          0.09814954397968217,
          0.10004171014844616,
          0.10197021270911874,
          0.10393531895702471,
          0.10593750311764438,
          0.10797755495423209,
          0.11005655222987196,
          0.1121752671071964,
          0.11433406127236742,
          0.11653358369756539,
          0.1187747734073037,
          0.12105883112369234,
          0.12338649634160279,
          0.1257580978659016,
          0.1281743339908362,
          0.1306362939153672,
          0.1331454131194378,
          0.13570238938916063,
          0.13830758200329743,
          0.14096185422357274,
          0.14366650063937345,
          0.14642283612547885,
          0.14923132885427579,
          0.1520927607493189,
          0.15500825204468155,
          0.15797922687291188,
          0.16100667196873825,
          0.16409123129791728,
          0.16723388301731903,
          0.17043592994253612,
          0.17369894156915636,
          0.17702387122819627,
          0.18041136109685169,
          0.18386248062089114,
          0.1873787312979556,
          0.19096194914913384,
          0.194613025966011,
          0.19833269391945582,
          0.20212222948795458,
          0.20598338670728333,
          0.20991780942166258,
          0.21392628290465782,
          0.2180099960853187,
          0.2221705178077446,
          0.22640974254666882,
          0.23072898537293596,
          0.2351292790440583,
          0.23961204752089285,
          0.24417908901526886,
          0.24883247487422966,
          0.2535734919131633,
          0.2584032098856852,
          0.26332319543863003,
          0.268335507587974,
          0.27344252324914403,
          0.27864546069890644,
          0.283945544564009,
          0.28934460459486344,
          0.2948450156330295,
          0.30044889001996394,
          0.30615746845459796,
          0.3119724815059171,
          0.31789610574839555,
          0.3239308770459285,
          0.3300785873787872,
          0.3363407937403219,
          0.3427195206584897,
          0.34921723799623816,
          0.3558367015612437,
          0.36257968400617635,
          0.3694478266008921,
          0.3764433603419276,
          0.3835690958481453,
          0.390828214119426,
          0.3982225030584681,
          0.4057535186652512,
          0.4134236663366845,
          0.42123619071908946,
          0.42919473340522485,
          0.4373008534006182,
          0.44555656983671915,
          0.4539647957482564,
          0.4625291188260166,
          0.4712520643723263,
          0.48013592622034157,
          0.489183592185451,
          0.4983984209434679,
          0.5077836480341062,
          0.5173417623767514,
          0.5270756076029384,
          0.5369884575935018,
          0.5470840120493228,
          0.5573658210597375,
          0.5678363353976743,
          0.5784984065293238,
          0.5893555870764852,
          0.6004121246794778,
          0.6116723271711836,
          0.6231385438765783,
          0.6348138459031063,
          0.6467022228305125,
          0.6588083838149882,
          0.6711357458017824,
          0.6836875033183396,
          0.696467566128854,
          0.7094804500881668,
          0.7227306551798094,
          0.7362215427045733,
          0.7499568853536331,
          0.7639410667080363,
          0.7781790754750292,
          0.792675845289693,
          0.8074347216716402,
          0.8224594847281294,
          0.8377548679304071,
          0.8533265497465968,
          0.869180285028722,
          0.8853192924205763,
          0.9017477264003944,
          0.9184709042961953,
          0.9354950733795623,
          0.9528248427153395,
          0.970464469258525,
          0.9884191435366184,
          1.006694847311487,
          1.0252975818319634,
          1.0442318254293228,
          1.06350256968398,
          1.0831156000638857,
          1.103077487634294,
          1.123394713141,
          1.1440717206715303,
          1.1651135256914809,
          1.1865263483093889,
          1.2083176027014533,
          1.23049471967445,
          1.2530619513266454,
          1.2760247571128664,
          1.2993900592046796,
          1.3231659738768193,
          1.3473585148766583,
          1.371973138237208,
          1.3970165243056172,
          1.4224963997503204,
          1.4484206074573482,
          1.474794862198176,
          1.50162548266909,
          1.5289198532140793,
          1.5566864099376634,
          1.5849335108490386,
          1.6136667516460677,
          1.64289243420496,
          1.6726184317220594,
          1.7028541747227277,
          1.7336090549209686,
          1.7648883232038401,
          1.7966987841688462,
          1.8290491220451799,
          1.8619495848682381,
          1.8954076758099065,
          1.9294299933536443,
          1.9640247568001246,
          1.9992015768669569,
          2.034970313904556,
          2.0713378421355766,
          2.1083117235005706,
          2.1459009502991493,
          2.1841159218257395,
          2.222966964054379,
          2.2624606147089183,
          2.302604283264222,
          2.3434074350256093,
          2.3848815722001904,
          2.427038054779728,
          2.46988276557086,
          2.513423593417713,
          2.5576708573994016,
          2.60263692759734,
          2.6483305321148607,
          2.6947589699668564,
          2.7419316864947945,
          2.789859977696632,
          2.8385555644981726,
          2.888025966290192,
          2.9382794521632984,
          2.989326210428927,
          3.0411783103870182,
          3.0938477326260867,
          3.1473412165884556,
          3.2016665810652056,
          3.256834339982294,
          3.312857676346165,
          3.3697494208753715,
          3.4275150987430187,
          3.4861628523052155,
          3.54570396880378,
          3.6061524087474917,
          3.6675172156615727,
          3.7298052841279024,
          3.793026340729501,
          3.8571925645682783,
          3.922316753821422,
          3.9884058162434455,
          4.055467468568423,
          4.123511989225379,
          4.1925521595805515,
          4.262600574568532,
          4.333662593474674,
          4.405744963738676,
          4.4788579563984,
          4.553015330725296,
          4.628230046713644,
          4.70450536556121,
          4.781848027789218,
          4.860268828466415,
          4.9397819984044125,
          5.02039501501954,
          5.102112352772308,
          5.184942202811642,
          5.26889599022436,
          5.3539859178967015,
          5.440216008303603,
          5.527591234429314,
          5.6161199659568535,
          5.705813886153024,
          5.796684194086088,
          5.888732232378706,
          5.981961272370038,
          6.076379171025708,
          6.171998325422458,
          6.268829411211674,
          6.36687049752698,
          6.466124386741454,
          6.566599080810861,
          6.668306903569431,
          6.771250782925932,
          6.875429872283234,
          6.980848176622025,
          7.087513946747764,
          7.195436219798494,
          7.304612878595952,
          7.415043183293692,
          7.52673086721738,
          7.639684031515146,
          7.753909573647754,
          7.869401348029331,
          7.98615613435303,
          8.104176646610563,
          8.22347147945657,
          8.344047306403537,
          8.465892469444283,
          8.588999705447014,
          8.713370523981459,
          8.839015130042474,
          8.965937505690352,
          9.094120971084495,
          9.223559797462903,
          9.354256439561015,
          9.486216232499906,
          9.619427454821565,
          9.753881792333624,
          9.889576176152154,
          10.026511827506422,
          10.16468221372728,
          10.304074635471801,
          10.444680864746053,
          10.58649717597021,
          10.729523785315981,
          10.873750982969812,
          11.019159450205779,
          11.165736748972773,
          11.313478142455095,
          11.46238637120033,
          11.612450809715918,
          11.763645917628985,
          11.915957781595003,
          12.069381914270728,
          12.223915151808576,
          12.379534015575986,
          12.536220376516221,
          12.69396277386208,
          12.85275556703382,
          13.012583088326165,
          13.173420770784515,
          13.335250447787626,
          13.498060507922835,
          13.661845115675876,
          13.826585123186758,
          13.992248938683987,
          14.158814431883043,
          14.326269893445412,
          14.494613303093107,
          14.663822294014752,
          14.833860442929845,
          15.004705882850024,
          15.176348611358495,
          15.348778129058273,
          15.521959729982086,
          15.695867025253296,
          15.870482069541461,
          16.0457940171565,
          16.22177784066629,
          16.398400118408244,
          16.575635862001953,
          16.753468392008912,
          16.931887598289677,
          17.110864377666317,
          17.29035920098194,
          17.47034468738773,
          17.65080603669925,
          17.831738835295464,
          18.0131094831143,
          18.194875799903958,
          18.37701251764012,
          18.55950860680104,
          18.74234795366539,
          18.925488921543035,
          19.10890151633395,
          19.292566085310067,
          19.47647095186164,
          19.66058506076183,
          19.84487099045991,
          20.02930196156866,
          20.213861463914185,
          20.39853971020405,
          20.583301378397742,
          20.76810461141108,
          20.9529223998494,
          21.13774258929534,
          21.322562573639146,
          21.507341307925127,
          21.692037348192446,
          21.87662806480741,
          22.06110720016385,
          22.24545574550718,
          22.429631526921142,
          22.613606801264314,
          22.797366066073845,
          22.980901493917433,
          23.164180027573984,
          23.347166416037666,
          23.529837941121805,
          23.712183916843074,
          23.894198755177435,
          24.075844930912304,
          24.257084597013908,
          24.437896908731734,
          24.61827781302545,
          24.798228981446446,
          24.977706371345267,
          25.156675388883034,
          25.33512138297548,
          25.513047110891456,
          25.69043274207137,
          25.8672410907562,
          26.043451491318468,
          26.219057125788353,
          26.394056605197232,
          26.568418112339085,
          26.742113222884367,
          26.915127414817647,
          27.087459656438547,
          27.259109749174716,
          27.430041251979688,
          27.600224568504057,
          27.769648615484233,
          27.938320632879886,
          28.10624560608111,
          28.273380615739377,
          28.43970131400262,
          28.605203888507106,
          28.769901122013597,
          28.933772716527162,
          29.096789719772907,
          29.258940800933736,
          29.420229702557545,
          29.58065998196243,
          29.740201583304128,
          29.89883409690127,
          30.056551577180787,
          30.213362320108132,
          30.36926701549293,
          30.52422988864334,
          30.678227028333655,
          30.831252392063664,
          30.983317617869858,
          31.13441595948146,
          31.284495999872806,
          31.433524650707398,
          31.581482821008876,
          31.72835650441044,
          31.87407795121794,
          32.01856684237667,
          32.161742351441646,
          32.30352069537308,
          32.443792576917446,
          32.582388219157316,
          32.7191479372616,
          32.85393677110591,
          32.986644380229436,
          33.11717434050996,
          33.24546722882005,
          33.37153418937192,
          33.4954583506337,
          33.617392650077356,
          33.73747722932372,
          33.855822959066465,
          33.97255588452188,
          34.0878121663898,
          34.201733265639184,
          34.314385303082474,
          34.425802028881286,
          34.53603520908818,
          34.64514859403692,
          34.753184619601505,
          34.860140928996685,
          34.9660303538743,
          35.07087722093938,
          35.17471238447159,
          35.2775346278909,
          35.37933750107652,
          35.48012782075818,
          35.57992495233525,
          35.678755496711716,
          35.77661038977225,
          35.87347275793524,
          35.96934588435406,
          36.064253204891976,
          36.158233447732265,
          36.25127294950004,
          36.34334987243175,
          36.43447118003567,
          36.524668071455544,
          36.61395779669911,
          36.70232112724558,
          36.78975955742618,
          36.87629146571245,
          36.96194703255023,
          37.04672476848086,
          37.130619082568714,
          37.21364277132696,
          37.29582628247264,
          37.37721181790085,
          37.45780591550602,
          37.53761114152541,
          37.61665588800552,
          37.69499419370408,
          37.77269840509071,
          37.849782176223655,
          37.92625188518876,
          38.00213271108745,
          38.07746366820489,
          38.15225641493435,
          38.22646993187914,
          38.300078228204875,
          38.37306929572359,
          38.445440638983726,
          38.517157460494936,
          38.588181128302615,
          38.65849552499065,
          38.728106474550465,
          38.797033603848185,
          38.865252887531305,
          38.93273694308846,
          38.99948516188365,
          39.06552323246656,
          39.13088912469907,
          39.19555414027282,
          39.259500241999184,
          39.32273851008175,
          39.38530512176111,
          39.44720634848229,
          39.508421585627694,
          39.568952947314465,
          39.62882075368647,
          39.68805275710056,
          39.74663623245203,
          39.804562309465766,
          39.86183971695533,
          39.918494103036174,
          39.97455339655936,
          40.029998168493606,
          40.08481587739474,
          40.13901845315409,
          40.19264196722198,
          40.245725256211784,
          40.298243438607265,
          40.35019437893852,
          40.40160683723706,
          40.45253639488624,
          40.50300562443447,
          40.553027167404444,
          40.60264693232959,
          40.65194070802568,
          40.70099871636859,
          40.749887283471786,
          40.79869245875172,
          40.847517969897225,
          40.89648460296336,
          40.94570378137413,
          40.9952072681022,
          41.04500093634338,
          41.09507431803116,
          41.145400496476384,
          41.195920222826445,
          41.246501689767626,
          41.29703111993909,
          41.34743023879457,
          41.39765240535415,
          41.44762473099705,
          41.497272736994404,
          41.54655540310688,
          41.59546162942562,
          41.64399235836051,
          41.6921086615689,
          41.739786219364106,
          41.787023078475045,
          41.83383915684429,
          41.880248312608,
          41.9262186895978,
          41.971735835940706,
          42.016809594331505,
          42.06147386213397,
          42.10574832965504,
          42.14959214870068,
          42.19298801509953,
          42.23595139360558,
          42.27853002559898,
          42.320734654285076,
          42.36252215438544,
          42.40389019330394,
          42.44486547562099,
          42.48547653858497,
          42.52569942167822,
          42.56553077297673,
          42.60498468105213,
          42.644088276147244,
          42.682840648245275,
          42.72123484079914,
          42.759281176275046,
          42.79700655288934,
          42.83445059328875,
          42.87162342175495,
          42.90852770874832,
          42.94519314348676,
          42.98167690046742,
          43.01806084261195,
          43.054381527272284,
          43.09065682103003,
          43.12692610855933,
          43.163242177591165,
          43.19963729102161,
          43.23607469333397,
          43.27252277267329,
          43.30895588862154,
          43.345351843398156,
          43.3816583349917,
          43.41781379563165,
          43.453779639000885,
          43.48954049714894,
          43.5250999797961,
          43.56042754448715,
          43.595480393203005,
          43.630243717762035,
          43.66473095335208,
          43.69897713771632,
          43.73295626378023,
          43.766637366952935,
          43.80002204038528,
          43.83313860333798,
          43.86599519571368,
          43.89856613042673,
          43.93084779591421,
          43.96285351865295,
          43.994605171096296,
          44.02608877927889,
          44.05729193119876,
          44.088218171818994,
          44.11888631083611,
          44.14932071793693,
          44.17950272503551,
          44.20941410263569,
          44.23906039521672,
          44.26847070927728,
          44.297685526544136,
          44.32668343453625,
          44.3554555348469,
          44.38402601437352,
          44.412448043954846,
          44.44075200496202,
          44.4689539261858,
          44.49710580168067,
          44.52529247220704,
          44.55362038659619,
          44.582184368007574,
          44.61110673214931,
          44.64053791096682,
          44.67065563624621,
          44.701641691106644,
          44.73360891863894,
          44.76662920533949,
          44.80072947192915,
          44.83589173357639,
          44.872043399726934,
          44.90900490705033,
          44.946585427037355,
          44.9846255265729,
          45.02299510525895,
          45.06155250173649,
          45.10016097003625,
          45.13872557393457,
          45.177189639946434,
          45.215521381219546,
          45.25366079403032,
          45.29156353097044,
          45.329209882802076,
          45.3666039900474,
          45.40375386390471,
          45.440623937529544,
          45.47719211489147,
          45.51346005501343,
          45.54945291121246,
          45.5851886090041,
          45.62063031006108,
          45.655766002965755,
          45.690607528607316,
          45.72518550641249,
          45.75948879923832,
          45.79349816496969,
          45.827215390175745,
          45.86066026788678,
          45.89385281130447,
          45.92677261500404,
          45.95941096813574,
          45.99177729094184,
          46.02389885027666,
          46.055794955956365,
          46.08744496042088,
          46.11884693549918,
          46.15002470832381,
          46.181027616072086,
          46.21189045013595,
          46.24261199404925,
          46.27322635853842,
          46.303800763503205,
          46.334426532023116,
          46.36515877507769,
          46.39605999922063,
          46.42720425975219,
          46.45867387960115,
          46.4905302798632,
          46.522760646838435,
          46.55533693766063,
          46.58822248666656,
          46.621372014177396,
          46.6547143817369,
          46.688140884008156,
          46.72156579545424,
          46.75493576989715,
          46.78822941467731,
          46.82140962815901,
          46.85440946116926,
          46.88719718364798,
          46.91977059591907,
          46.952142921660844,
          46.98428203806587,
          47.0161677108058,
          47.04779941221019,
          47.07919440784733,
          47.11035470553528,
          47.14125774466094,
          47.17189666458354,
          47.202280345703954,
          47.232432097931124,
          47.26235071230023,
          47.29200994249168,
          47.321402983237476,
          47.35054394031579,
          47.37946606799606,
          47.40816445359367,
          47.43661115803964,
          47.464805461049494,
          47.49276949529837,
          47.52052845531726,
          47.54806133347035,
          47.57536304826685,
          47.602447307788374,
          47.62934506021081,
          47.656068696960695,
          47.68261311036932,
          47.70899595315123,
          47.73525809052362,
          47.761461081531635,
          47.787645760278586,
          47.813847561374885,
          47.840132366903084,
          47.8665964093374,
          47.89336074077976,
          47.920496009504724,
          47.9480518225379,
          47.976074326008074,
          48.00459994591553,
          48.0336259414078,
          48.06306483479836,
          48.092828129789325,
          48.12283700756433,
          48.15302039296172,
          48.18328183536107,
          48.213518978786915,
          48.243662901140326,
          48.2736789168503,
          48.303544844756644,
          48.333196664239914,
          48.36258155544475,
          48.39159191056778,
          48.41984571690955,
          48.44662440560186,
          48.47133696378416,
          48.493890006271684,
          48.5144339103717,
          48.533119011932676,
          48.550080370719165,
          48.56539913957817,
          48.57913046997321,
          48.59130813567392,
          48.60179181089137,
          48.61032984688901,
          48.61671147591304,
          48.620948508843725,
          48.62314528069464,
          48.62344012229156,
          48.621924927715014,
          48.618686573574415,
          48.61382802355094,
          48.60742486680748,
          48.59944540035313,
          48.58983164814644,
          48.578528768061666,
          48.56561539773993,
          48.551232060629516,
          48.53551617595841,
          48.518603414302014,
          48.50065290492277,
          48.4818235186382,
          48.462243977846555,
          48.4420133566714,
          48.42120760098972,
          48.399926128742194,
          48.37830623222229,
          48.35656700839259,
          48.33488274000858,
          48.31334722988056,
          48.29198129707874,
          48.27073981103019,
          48.2495146648243,
          48.22810622574087,
          48.206225721712514,
          48.183635087879345,
          48.160225792715956,
          48.13594738303301,
          48.1107924792383,
          48.084752386999725,
          48.057828927802795,
          48.03002841345348,
          48.00133555929563,
          47.9717126972022,
          47.94110107020305,
          47.909440863950756,
          47.8767393457746,
          47.843025595067765,
          47.808332654451355,
          47.77269749434701,
          47.736150009174075,
          47.69870935177607,
          47.66042388835618,
          47.621376586226305,
          47.58168478407743,
          47.54146724598743,
          47.500739768063895,
          47.459325204407065,
          47.416818077302224,
          47.372945821134934,
          47.32814501546171,
          47.28285212959762,
          47.237168425411475,
          47.191086940437884,
          47.14467452426896,
          47.09798001466591,
          47.0510469410641,
          47.00392314552056,
          46.9566576560471,
          46.9093395173871,
          46.8621137414821,
          46.81516950107979,
          46.76872897530717,
          46.723027309155256,
          46.678324899676454,
          46.63490168252496,
          46.593052237573644,
          46.55292317250042,
          46.51448832313381,
          46.47763754271885,
          46.442563645810935,
          46.409334854985644,
          46.37767698800171,
          46.347089429770726,
          46.316881097881044,
          46.28646244269065,
          46.25550954337203,
          46.22384797278166,
          46.191300225818125,
          46.15775876066229,
          46.1233424911018,
          46.08817172993876,
          46.052287794625464,
          46.01571327095724,
          45.97847234972699,
          45.94060826422968,
          45.902171702876615,
          45.863333855089095,
          45.82445612825468,
          45.78569338055051,
          45.746791982804375,
          45.707476155880805,
          45.66770131794044,
          45.62751526000646,
          45.586943441510165,
          45.54601194981121,
          45.50472224511385,
          45.46300569804067,
          45.42058558916476,
          45.37728556767517,
          45.33348106572794,
          45.2895006852896,
          45.245414565429776,
          45.20121853911257,
          45.156895260173336,
          45.112433601050824,
          45.06786150372349,
          45.02322804799664,
          44.97863160482051,
          44.93414940066716,
          44.88980348375395,
          44.84563770424557,
          44.80172941786325,
          44.758168951833845,
          44.71502469276068,
          44.67238754980601,
          44.63038207124418,
          44.58917148619835,
          44.54900160272944,
          44.509946226142574,
          44.471870239187666,
          44.4345695788923,
          44.39778077467979,
          44.36099953844428,
          44.32378482873047,
          44.28641391058511,
          44.24923663312524,
          44.21228884416061,
          44.17552412741678,
          44.1388917001362,
          44.102357709094925,
          44.06589247735719,
          44.02947560454536,
          43.99308929474519,
          43.95672629506168,
          43.92040817053859,
          43.8841482216153,
          43.847929660422885,
          43.81168643639368,
          43.77537244064488,
          43.73905642157968,
          43.70279127336063,
          43.6664892268502,
          43.6298606793457,
          43.59271435519942,
          43.55525220614545,
          43.51778177102549,
          43.48034966708687,
          43.44288782432818,
          43.40534549535281,
          43.36779938384317,
          43.33032236767279,
          43.2928852263543,
          43.25534567933125,
          43.21761330428713,
          43.17979867735616,
          43.14205276114016,
          43.10443622514572,
          43.06701840803012,
          43.02983967590289,
          42.99283292911609,
          42.9559562350929,
          42.919330489128235,
          42.88337412507291,
          42.84835401062424,
          42.81393327416365,
          42.779658349121604,
          42.74540996025421,
          42.71115370530928,
          42.67688717588225,
          42.64263024860248,
          42.60839053770803,
          42.5740095057782,
          42.539097920115324,
          42.50332256077981,
          42.46709987140762,
          42.43087328232338,
          42.39477373399438,
          42.35883016319292,
          42.323042725959084,
          42.28739362039455,
          42.25187029349938,
          42.21648920869328,
          42.18133888930134,
          42.146474180191056,
          42.111861400477146,
          42.07744166223276,
          42.0431828235262,
          42.00906757966321,
          41.975084891200325,
          41.94124625037206,
          41.907576115480914,
          41.87414881662299,
          41.84118991146801,
          41.80876091218054,
          41.77669436127317,
          41.74479525404475,
          41.71299477580394,
          41.681296598706275,
          41.649711296832294,
          41.61823157080084,
          41.586851833893775,
          41.555568627038895,
          41.52437806687027,
          41.49327785181462,
          41.462263910918466,
          41.43132940420786,
          41.400467925612105,
          41.36967263878416,
          41.3389336625901,
          41.30825035506288,
          41.2775952093046,
          41.246906229275005,
          41.21606886285253,
          41.18499185687527,
          41.153753179808305,
          41.122474211632486,
          41.091161535965824,
          41.059790091220286,
          41.028321011917306,
          40.99675231509171,
          40.96507570251728,
          40.93321493875402,
          40.90100463100297,
          40.868327161408565,
          40.8352691338489,
          40.80199617205386,
          40.76854274135644,
          40.73490326967505,
          40.701072709711866,
          40.66708795556935,
          40.63299349367043,
          40.59886348328302,
          40.56485247451781,
          40.531089380342536,
          40.497491846820374,
          40.46394285614715,
          40.43041242857332,
          40.39689823627308,
          40.363406162989094,
          40.32995156285045,
          40.29654420336815,
          40.263178842638304,
          40.22982827714678,
          40.1964979106275,
          40.16323452558149,
          40.13009578047396,
          40.09715517475367,
          40.06453501340282,
          40.032281730137264,
          40.00028318821721,
          39.96842032284679,
          39.93666037857256,
          39.90502834251096,
          39.87352469584705,
          39.84211161772849,
          39.81074863510088,
          39.77939303120973,
          39.74794206533656,
          39.716333244154306,
          39.68468765934755,
          39.653127454143295,
          39.62167261849522,
          39.59029305357619,
          39.55896469453115,
          39.52771293832382,
          39.496577753677535,
          39.46558909467125,
          39.434780936094455,
          39.404172444269285,
          39.37373423541926,
          39.343395505087805,
          39.31299008456142,
          39.282123706675414,
          39.25039615317391,
          39.21818948308845,
          39.18589593009373,
          39.15365486513001,
          39.12151800618348,
          39.089499481690176,
          39.05756983704586,
          39.025693011518406,
          38.99385612831604,
          38.96203939088389,
          38.93022820826495,
          38.898437370325,
          38.8666838907251,
          38.83495092117979,
          38.80316302603451,
          38.771305430186246,
          38.739429419165496,
          38.70757239387626,
          38.675623565359494,
          38.64324326599134,
          38.61015437311534,
          38.576634344048976,
          38.54307274374702,
          38.50958107748816,
          38.47621377147508,
          38.44298573572004,
          38.409860516381194,
          38.37678589394082,
          38.34368878965726,
          38.31037259419977,
          38.27668034129656,
          38.24278978582062,
          38.208882236356935,
          38.175033810224726,
          38.14126703767528,
          38.107590807701435,
          38.074011957656936,
          38.04050893055508,
          38.00728012191476,
          37.97481184907519,
          37.943495718293256,
          37.91286649998479,
          37.88251783694001,
          37.85226204475378,
          37.82202884554391
         ],
         "yaxis": "y"
        },
        {
         "hovertemplate": "x=%{x}<br>y=%{y}<extra></extra>",
         "legendgroup": "",
         "marker": {
          "color": "red",
          "symbol": "circle"
         },
         "mode": "markers",
         "name": "",
         "orientation": "v",
         "showlegend": false,
         "type": "scatter",
         "x": [
          2016
         ],
         "xaxis": "x",
         "y": [
          36.8
         ],
         "yaxis": "y"
        }
       ],
       "layout": {
        "template": {
         "data": {
          "bar": [
           {
            "error_x": {
             "color": "#2a3f5f"
            },
            "error_y": {
             "color": "#2a3f5f"
            },
            "marker": {
             "line": {
              "color": "#E5ECF6",
              "width": 0.5
             },
             "pattern": {
              "fillmode": "overlay",
              "size": 10,
              "solidity": 0.2
             }
            },
            "type": "bar"
           }
          ],
          "barpolar": [
           {
            "marker": {
             "line": {
              "color": "#E5ECF6",
              "width": 0.5
             },
             "pattern": {
              "fillmode": "overlay",
              "size": 10,
              "solidity": 0.2
             }
            },
            "type": "barpolar"
           }
          ],
          "carpet": [
           {
            "aaxis": {
             "endlinecolor": "#2a3f5f",
             "gridcolor": "white",
             "linecolor": "white",
             "minorgridcolor": "white",
             "startlinecolor": "#2a3f5f"
            },
            "baxis": {
             "endlinecolor": "#2a3f5f",
             "gridcolor": "white",
             "linecolor": "white",
             "minorgridcolor": "white",
             "startlinecolor": "#2a3f5f"
            },
            "type": "carpet"
           }
          ],
          "choropleth": [
           {
            "colorbar": {
             "outlinewidth": 0,
             "ticks": ""
            },
            "type": "choropleth"
           }
          ],
          "contour": [
           {
            "colorbar": {
             "outlinewidth": 0,
             "ticks": ""
            },
            "colorscale": [
             [
              0,
              "#0d0887"
             ],
             [
              0.1111111111111111,
              "#46039f"
             ],
             [
              0.2222222222222222,
              "#7201a8"
             ],
             [
              0.3333333333333333,
              "#9c179e"
             ],
             [
              0.4444444444444444,
              "#bd3786"
             ],
             [
              0.5555555555555556,
              "#d8576b"
             ],
             [
              0.6666666666666666,
              "#ed7953"
             ],
             [
              0.7777777777777778,
              "#fb9f3a"
             ],
             [
              0.8888888888888888,
              "#fdca26"
             ],
             [
              1,
              "#f0f921"
             ]
            ],
            "type": "contour"
           }
          ],
          "contourcarpet": [
           {
            "colorbar": {
             "outlinewidth": 0,
             "ticks": ""
            },
            "type": "contourcarpet"
           }
          ],
          "heatmap": [
           {
            "colorbar": {
             "outlinewidth": 0,
             "ticks": ""
            },
            "colorscale": [
             [
              0,
              "#0d0887"
             ],
             [
              0.1111111111111111,
              "#46039f"
             ],
             [
              0.2222222222222222,
              "#7201a8"
             ],
             [
              0.3333333333333333,
              "#9c179e"
             ],
             [
              0.4444444444444444,
              "#bd3786"
             ],
             [
              0.5555555555555556,
              "#d8576b"
             ],
             [
              0.6666666666666666,
              "#ed7953"
             ],
             [
              0.7777777777777778,
              "#fb9f3a"
             ],
             [
              0.8888888888888888,
              "#fdca26"
             ],
             [
              1,
              "#f0f921"
             ]
            ],
            "type": "heatmap"
           }
          ],
          "heatmapgl": [
           {
            "colorbar": {
             "outlinewidth": 0,
             "ticks": ""
            },
            "colorscale": [
             [
              0,
              "#0d0887"
             ],
             [
              0.1111111111111111,
              "#46039f"
             ],
             [
              0.2222222222222222,
              "#7201a8"
             ],
             [
              0.3333333333333333,
              "#9c179e"
             ],
             [
              0.4444444444444444,
              "#bd3786"
             ],
             [
              0.5555555555555556,
              "#d8576b"
             ],
             [
              0.6666666666666666,
              "#ed7953"
             ],
             [
              0.7777777777777778,
              "#fb9f3a"
             ],
             [
              0.8888888888888888,
              "#fdca26"
             ],
             [
              1,
              "#f0f921"
             ]
            ],
            "type": "heatmapgl"
           }
          ],
          "histogram": [
           {
            "marker": {
             "pattern": {
              "fillmode": "overlay",
              "size": 10,
              "solidity": 0.2
             }
            },
            "type": "histogram"
           }
          ],
          "histogram2d": [
           {
            "colorbar": {
             "outlinewidth": 0,
             "ticks": ""
            },
            "colorscale": [
             [
              0,
              "#0d0887"
             ],
             [
              0.1111111111111111,
              "#46039f"
             ],
             [
              0.2222222222222222,
              "#7201a8"
             ],
             [
              0.3333333333333333,
              "#9c179e"
             ],
             [
              0.4444444444444444,
              "#bd3786"
             ],
             [
              0.5555555555555556,
              "#d8576b"
             ],
             [
              0.6666666666666666,
              "#ed7953"
             ],
             [
              0.7777777777777778,
              "#fb9f3a"
             ],
             [
              0.8888888888888888,
              "#fdca26"
             ],
             [
              1,
              "#f0f921"
             ]
            ],
            "type": "histogram2d"
           }
          ],
          "histogram2dcontour": [
           {
            "colorbar": {
             "outlinewidth": 0,
             "ticks": ""
            },
            "colorscale": [
             [
              0,
              "#0d0887"
             ],
             [
              0.1111111111111111,
              "#46039f"
             ],
             [
              0.2222222222222222,
              "#7201a8"
             ],
             [
              0.3333333333333333,
              "#9c179e"
             ],
             [
              0.4444444444444444,
              "#bd3786"
             ],
             [
              0.5555555555555556,
              "#d8576b"
             ],
             [
              0.6666666666666666,
              "#ed7953"
             ],
             [
              0.7777777777777778,
              "#fb9f3a"
             ],
             [
              0.8888888888888888,
              "#fdca26"
             ],
             [
              1,
              "#f0f921"
             ]
            ],
            "type": "histogram2dcontour"
           }
          ],
          "mesh3d": [
           {
            "colorbar": {
             "outlinewidth": 0,
             "ticks": ""
            },
            "type": "mesh3d"
           }
          ],
          "parcoords": [
           {
            "line": {
             "colorbar": {
              "outlinewidth": 0,
              "ticks": ""
             }
            },
            "type": "parcoords"
           }
          ],
          "pie": [
           {
            "automargin": true,
            "type": "pie"
           }
          ],
          "scatter": [
           {
            "fillpattern": {
             "fillmode": "overlay",
             "size": 10,
             "solidity": 0.2
            },
            "type": "scatter"
           }
          ],
          "scatter3d": [
           {
            "line": {
             "colorbar": {
              "outlinewidth": 0,
              "ticks": ""
             }
            },
            "marker": {
             "colorbar": {
              "outlinewidth": 0,
              "ticks": ""
             }
            },
            "type": "scatter3d"
           }
          ],
          "scattercarpet": [
           {
            "marker": {
             "colorbar": {
              "outlinewidth": 0,
              "ticks": ""
             }
            },
            "type": "scattercarpet"
           }
          ],
          "scattergeo": [
           {
            "marker": {
             "colorbar": {
              "outlinewidth": 0,
              "ticks": ""
             }
            },
            "type": "scattergeo"
           }
          ],
          "scattergl": [
           {
            "marker": {
             "colorbar": {
              "outlinewidth": 0,
              "ticks": ""
             }
            },
            "type": "scattergl"
           }
          ],
          "scattermapbox": [
           {
            "marker": {
             "colorbar": {
              "outlinewidth": 0,
              "ticks": ""
             }
            },
            "type": "scattermapbox"
           }
          ],
          "scatterpolar": [
           {
            "marker": {
             "colorbar": {
              "outlinewidth": 0,
              "ticks": ""
             }
            },
            "type": "scatterpolar"
           }
          ],
          "scatterpolargl": [
           {
            "marker": {
             "colorbar": {
              "outlinewidth": 0,
              "ticks": ""
             }
            },
            "type": "scatterpolargl"
           }
          ],
          "scatterternary": [
           {
            "marker": {
             "colorbar": {
              "outlinewidth": 0,
              "ticks": ""
             }
            },
            "type": "scatterternary"
           }
          ],
          "surface": [
           {
            "colorbar": {
             "outlinewidth": 0,
             "ticks": ""
            },
            "colorscale": [
             [
              0,
              "#0d0887"
             ],
             [
              0.1111111111111111,
              "#46039f"
             ],
             [
              0.2222222222222222,
              "#7201a8"
             ],
             [
              0.3333333333333333,
              "#9c179e"
             ],
             [
              0.4444444444444444,
              "#bd3786"
             ],
             [
              0.5555555555555556,
              "#d8576b"
             ],
             [
              0.6666666666666666,
              "#ed7953"
             ],
             [
              0.7777777777777778,
              "#fb9f3a"
             ],
             [
              0.8888888888888888,
              "#fdca26"
             ],
             [
              1,
              "#f0f921"
             ]
            ],
            "type": "surface"
           }
          ],
          "table": [
           {
            "cells": {
             "fill": {
              "color": "#EBF0F8"
             },
             "line": {
              "color": "white"
             }
            },
            "header": {
             "fill": {
              "color": "#C8D4E3"
             },
             "line": {
              "color": "white"
             }
            },
            "type": "table"
           }
          ]
         },
         "layout": {
          "annotationdefaults": {
           "arrowcolor": "#2a3f5f",
           "arrowhead": 0,
           "arrowwidth": 1
          },
          "autotypenumbers": "strict",
          "coloraxis": {
           "colorbar": {
            "outlinewidth": 0,
            "ticks": ""
           }
          },
          "colorscale": {
           "diverging": [
            [
             0,
             "#8e0152"
            ],
            [
             0.1,
             "#c51b7d"
            ],
            [
             0.2,
             "#de77ae"
            ],
            [
             0.3,
             "#f1b6da"
            ],
            [
             0.4,
             "#fde0ef"
            ],
            [
             0.5,
             "#f7f7f7"
            ],
            [
             0.6,
             "#e6f5d0"
            ],
            [
             0.7,
             "#b8e186"
            ],
            [
             0.8,
             "#7fbc41"
            ],
            [
             0.9,
             "#4d9221"
            ],
            [
             1,
             "#276419"
            ]
           ],
           "sequential": [
            [
             0,
             "#0d0887"
            ],
            [
             0.1111111111111111,
             "#46039f"
            ],
            [
             0.2222222222222222,
             "#7201a8"
            ],
            [
             0.3333333333333333,
             "#9c179e"
            ],
            [
             0.4444444444444444,
             "#bd3786"
            ],
            [
             0.5555555555555556,
             "#d8576b"
            ],
            [
             0.6666666666666666,
             "#ed7953"
            ],
            [
             0.7777777777777778,
             "#fb9f3a"
            ],
            [
             0.8888888888888888,
             "#fdca26"
            ],
            [
             1,
             "#f0f921"
            ]
           ],
           "sequentialminus": [
            [
             0,
             "#0d0887"
            ],
            [
             0.1111111111111111,
             "#46039f"
            ],
            [
             0.2222222222222222,
             "#7201a8"
            ],
            [
             0.3333333333333333,
             "#9c179e"
            ],
            [
             0.4444444444444444,
             "#bd3786"
            ],
            [
             0.5555555555555556,
             "#d8576b"
            ],
            [
             0.6666666666666666,
             "#ed7953"
            ],
            [
             0.7777777777777778,
             "#fb9f3a"
            ],
            [
             0.8888888888888888,
             "#fdca26"
            ],
            [
             1,
             "#f0f921"
            ]
           ]
          },
          "colorway": [
           "#636efa",
           "#EF553B",
           "#00cc96",
           "#ab63fa",
           "#FFA15A",
           "#19d3f3",
           "#FF6692",
           "#B6E880",
           "#FF97FF",
           "#FECB52"
          ],
          "font": {
           "color": "#2a3f5f"
          },
          "geo": {
           "bgcolor": "white",
           "lakecolor": "white",
           "landcolor": "#E5ECF6",
           "showlakes": true,
           "showland": true,
           "subunitcolor": "white"
          },
          "hoverlabel": {
           "align": "left"
          },
          "hovermode": "closest",
          "mapbox": {
           "style": "light"
          },
          "paper_bgcolor": "white",
          "plot_bgcolor": "#E5ECF6",
          "polar": {
           "angularaxis": {
            "gridcolor": "white",
            "linecolor": "white",
            "ticks": ""
           },
           "bgcolor": "#E5ECF6",
           "radialaxis": {
            "gridcolor": "white",
            "linecolor": "white",
            "ticks": ""
           }
          },
          "scene": {
           "xaxis": {
            "backgroundcolor": "#E5ECF6",
            "gridcolor": "white",
            "gridwidth": 2,
            "linecolor": "white",
            "showbackground": true,
            "ticks": "",
            "zerolinecolor": "white"
           },
           "yaxis": {
            "backgroundcolor": "#E5ECF6",
            "gridcolor": "white",
            "gridwidth": 2,
            "linecolor": "white",
            "showbackground": true,
            "ticks": "",
            "zerolinecolor": "white"
           },
           "zaxis": {
            "backgroundcolor": "#E5ECF6",
            "gridcolor": "white",
            "gridwidth": 2,
            "linecolor": "white",
            "showbackground": true,
            "ticks": "",
            "zerolinecolor": "white"
           }
          },
          "shapedefaults": {
           "line": {
            "color": "#2a3f5f"
           }
          },
          "ternary": {
           "aaxis": {
            "gridcolor": "white",
            "linecolor": "white",
            "ticks": ""
           },
           "baxis": {
            "gridcolor": "white",
            "linecolor": "white",
            "ticks": ""
           },
           "bgcolor": "#E5ECF6",
           "caxis": {
            "gridcolor": "white",
            "linecolor": "white",
            "ticks": ""
           }
          },
          "title": {
           "x": 0.05
          },
          "xaxis": {
           "automargin": true,
           "gridcolor": "white",
           "linecolor": "white",
           "ticks": "",
           "title": {
            "standoff": 15
           },
           "zerolinecolor": "white",
           "zerolinewidth": 2
          },
          "yaxis": {
           "automargin": true,
           "gridcolor": "white",
           "linecolor": "white",
           "ticks": "",
           "title": {
            "standoff": 15
           },
           "zerolinecolor": "white",
           "zerolinewidth": 2
          }
         }
        },
        "title": {
         "text": "Modelled vs Data",
         "x": 0.5
        },
        "xaxis": {
         "title": {
          "text": "Year"
         }
        },
        "yaxis": {
         "title": {
          "text": "Population"
         }
        }
       }
      }
     },
     "metadata": {},
     "output_type": "display_data"
    }
   ],
   "source": [
    "latent_1 = px.line(\n",
    "    derived_df_0,\n",
    "    x=derived_df_0.index,\n",
    "    y=\"percentage_latent\",\n",
    ")\n",
    "latent_2 = px.scatter(x= plots['percentage_latent']['times'], y = plots['percentage_latent']['values'])\n",
    "latent_2.update_traces(marker=dict(color=\"red\"))\n",
    "latent_plot = go.Figure(\n",
    "    data=latent_1.data + latent_2.data,\n",
    ")\n",
    "latent_plot.update_layout(\n",
    "    title=\"Modelled vs Data\", title_x=0.5, xaxis_title=\"Year\", yaxis_title=\"LTBI percentage\"\n",
    ")\n",
    "latent_plot.show()"
   ]
  },
  {
   "cell_type": "code",
   "execution_count": 16,
   "metadata": {},
   "outputs": [
    {
     "data": {
      "application/vnd.plotly.v1+json": {
       "config": {
        "plotlyServerURL": "https://plot.ly"
       },
       "data": [
        {
         "hovertemplate": "index=%{x}<br>notificationsXgender_male=%{y}<extra></extra>",
         "legendgroup": "",
         "line": {
          "color": "#636efa",
          "dash": "solid"
         },
         "marker": {
          "symbol": "circle"
         },
         "mode": "lines",
         "name": "",
         "showlegend": false,
         "type": "scattergl",
         "x": [
          1900,
          1900.1,
          1900.2,
          1900.3,
          1900.4,
          1900.5,
          1900.6,
          1900.7,
          1900.8,
          1900.9,
          1901,
          1901.1,
          1901.2,
          1901.3,
          1901.4,
          1901.5,
          1901.6,
          1901.7,
          1901.8,
          1901.9,
          1902,
          1902.1,
          1902.2,
          1902.3,
          1902.4,
          1902.5,
          1902.6,
          1902.7,
          1902.8,
          1902.9,
          1903,
          1903.1,
          1903.2,
          1903.3,
          1903.4,
          1903.5,
          1903.6,
          1903.7,
          1903.8,
          1903.9,
          1904,
          1904.1,
          1904.2,
          1904.3,
          1904.4,
          1904.5,
          1904.6,
          1904.7,
          1904.8,
          1904.9,
          1905,
          1905.1,
          1905.2,
          1905.3,
          1905.4,
          1905.5,
          1905.6,
          1905.7,
          1905.8,
          1905.9,
          1906,
          1906.1,
          1906.2,
          1906.3,
          1906.4,
          1906.5,
          1906.6,
          1906.7,
          1906.8,
          1906.9,
          1907,
          1907.1,
          1907.2,
          1907.3,
          1907.4,
          1907.5,
          1907.6,
          1907.7,
          1907.8,
          1907.9,
          1908,
          1908.1,
          1908.2,
          1908.3,
          1908.4,
          1908.5,
          1908.6,
          1908.7,
          1908.8,
          1908.9,
          1909,
          1909.1,
          1909.2,
          1909.3,
          1909.4,
          1909.5,
          1909.6,
          1909.7,
          1909.8,
          1909.9,
          1910,
          1910.1,
          1910.2,
          1910.3,
          1910.4,
          1910.5,
          1910.6,
          1910.7,
          1910.8,
          1910.9,
          1911,
          1911.1,
          1911.2,
          1911.3,
          1911.4,
          1911.5,
          1911.6,
          1911.7,
          1911.8,
          1911.9,
          1912,
          1912.1,
          1912.2,
          1912.3,
          1912.4,
          1912.5,
          1912.6,
          1912.7,
          1912.8,
          1912.9,
          1913,
          1913.1,
          1913.2,
          1913.3,
          1913.4,
          1913.5,
          1913.6,
          1913.7,
          1913.8,
          1913.9,
          1914,
          1914.1,
          1914.2,
          1914.3,
          1914.4,
          1914.5,
          1914.6,
          1914.7,
          1914.8,
          1914.9,
          1915,
          1915.1,
          1915.2,
          1915.3,
          1915.4,
          1915.5,
          1915.6,
          1915.7,
          1915.8,
          1915.9,
          1916,
          1916.1,
          1916.2,
          1916.3,
          1916.4,
          1916.5,
          1916.6,
          1916.7,
          1916.8,
          1916.9,
          1917,
          1917.1,
          1917.2,
          1917.3,
          1917.4,
          1917.5,
          1917.6,
          1917.7,
          1917.8,
          1917.9,
          1918,
          1918.1,
          1918.2,
          1918.3,
          1918.4,
          1918.5,
          1918.6,
          1918.7,
          1918.8,
          1918.9,
          1919,
          1919.1,
          1919.2,
          1919.3,
          1919.4,
          1919.5,
          1919.6,
          1919.7,
          1919.8,
          1919.9,
          1920,
          1920.1,
          1920.2,
          1920.3,
          1920.4,
          1920.5,
          1920.6,
          1920.7,
          1920.8,
          1920.9,
          1921,
          1921.1,
          1921.2,
          1921.3,
          1921.4,
          1921.5,
          1921.6,
          1921.7,
          1921.8,
          1921.9,
          1922,
          1922.1,
          1922.2,
          1922.3,
          1922.4,
          1922.5,
          1922.6,
          1922.7,
          1922.8,
          1922.9,
          1923,
          1923.1,
          1923.2,
          1923.3,
          1923.4,
          1923.5,
          1923.6,
          1923.7,
          1923.8,
          1923.9,
          1924,
          1924.1,
          1924.2,
          1924.3,
          1924.4,
          1924.5,
          1924.6,
          1924.7,
          1924.8,
          1924.9,
          1925,
          1925.1,
          1925.2,
          1925.3,
          1925.4,
          1925.5,
          1925.6,
          1925.7,
          1925.8,
          1925.9,
          1926,
          1926.1,
          1926.2,
          1926.3,
          1926.4,
          1926.5,
          1926.6,
          1926.7,
          1926.8,
          1926.9,
          1927,
          1927.1,
          1927.2,
          1927.3,
          1927.4,
          1927.5,
          1927.6,
          1927.7,
          1927.8,
          1927.9,
          1928,
          1928.1,
          1928.2,
          1928.3,
          1928.4,
          1928.5,
          1928.6,
          1928.7,
          1928.8,
          1928.9,
          1929,
          1929.1,
          1929.2,
          1929.3,
          1929.4,
          1929.5,
          1929.6,
          1929.7,
          1929.8,
          1929.9,
          1930,
          1930.1,
          1930.2,
          1930.3,
          1930.4,
          1930.5,
          1930.6,
          1930.7,
          1930.8,
          1930.9,
          1931,
          1931.1,
          1931.2,
          1931.3,
          1931.4,
          1931.5,
          1931.6,
          1931.7,
          1931.8,
          1931.9,
          1932,
          1932.1,
          1932.2,
          1932.3,
          1932.4,
          1932.5,
          1932.6,
          1932.7,
          1932.8,
          1932.9,
          1933,
          1933.1,
          1933.2,
          1933.3,
          1933.4,
          1933.5,
          1933.6,
          1933.7,
          1933.8,
          1933.9,
          1934,
          1934.1,
          1934.2,
          1934.3,
          1934.4,
          1934.5,
          1934.6,
          1934.7,
          1934.8,
          1934.9,
          1935,
          1935.1,
          1935.2,
          1935.3,
          1935.4,
          1935.5,
          1935.6,
          1935.7,
          1935.8,
          1935.9,
          1936,
          1936.1,
          1936.2,
          1936.3,
          1936.4,
          1936.5,
          1936.6,
          1936.7,
          1936.8,
          1936.9,
          1937,
          1937.1,
          1937.2,
          1937.3,
          1937.4,
          1937.5,
          1937.6,
          1937.7,
          1937.8,
          1937.9,
          1938,
          1938.1,
          1938.2,
          1938.3,
          1938.4,
          1938.5,
          1938.6,
          1938.7,
          1938.8,
          1938.9,
          1939,
          1939.1,
          1939.2,
          1939.3,
          1939.4,
          1939.5,
          1939.6,
          1939.7,
          1939.8,
          1939.9,
          1940,
          1940.1,
          1940.2,
          1940.3,
          1940.4,
          1940.5,
          1940.6,
          1940.7,
          1940.8,
          1940.9,
          1941,
          1941.1,
          1941.2,
          1941.3,
          1941.4,
          1941.5,
          1941.6,
          1941.7,
          1941.8,
          1941.9,
          1942,
          1942.1,
          1942.2,
          1942.3,
          1942.4,
          1942.5,
          1942.6,
          1942.7,
          1942.8,
          1942.9,
          1943,
          1943.1,
          1943.2,
          1943.3,
          1943.4,
          1943.5,
          1943.6,
          1943.7,
          1943.8,
          1943.9,
          1944,
          1944.1,
          1944.2,
          1944.3,
          1944.4,
          1944.5,
          1944.6,
          1944.7,
          1944.8,
          1944.9,
          1945,
          1945.1,
          1945.2,
          1945.3,
          1945.4,
          1945.5,
          1945.6,
          1945.7,
          1945.8,
          1945.9,
          1946,
          1946.1,
          1946.2,
          1946.3,
          1946.4,
          1946.5,
          1946.6,
          1946.7,
          1946.8,
          1946.9,
          1947,
          1947.1,
          1947.2,
          1947.3,
          1947.4,
          1947.5,
          1947.6,
          1947.7,
          1947.8,
          1947.9,
          1948,
          1948.1,
          1948.2,
          1948.3,
          1948.4,
          1948.5,
          1948.6,
          1948.7,
          1948.8,
          1948.9,
          1949,
          1949.1,
          1949.2,
          1949.3,
          1949.4,
          1949.5,
          1949.6,
          1949.7,
          1949.8,
          1949.9,
          1950,
          1950.1,
          1950.2,
          1950.3,
          1950.4,
          1950.5,
          1950.6,
          1950.7,
          1950.8,
          1950.9,
          1951,
          1951.1,
          1951.2,
          1951.3,
          1951.4,
          1951.5,
          1951.6,
          1951.7,
          1951.8,
          1951.9,
          1952,
          1952.1,
          1952.2,
          1952.3,
          1952.4,
          1952.5,
          1952.6,
          1952.7,
          1952.8,
          1952.9,
          1953,
          1953.1,
          1953.2,
          1953.3,
          1953.4,
          1953.5,
          1953.6,
          1953.7,
          1953.8,
          1953.9,
          1954,
          1954.1,
          1954.2,
          1954.3,
          1954.4,
          1954.5,
          1954.6,
          1954.7,
          1954.8,
          1954.9,
          1955,
          1955.1,
          1955.2,
          1955.3,
          1955.4,
          1955.5,
          1955.6,
          1955.7,
          1955.8,
          1955.9,
          1956,
          1956.1,
          1956.2,
          1956.3,
          1956.4,
          1956.5,
          1956.6,
          1956.7,
          1956.8,
          1956.9,
          1957,
          1957.1,
          1957.2,
          1957.3,
          1957.4,
          1957.5,
          1957.6,
          1957.7,
          1957.8,
          1957.9,
          1958,
          1958.1,
          1958.2,
          1958.3,
          1958.4,
          1958.5,
          1958.6,
          1958.7,
          1958.8,
          1958.9,
          1959,
          1959.1,
          1959.2,
          1959.3,
          1959.4,
          1959.5,
          1959.6,
          1959.7,
          1959.8,
          1959.9,
          1960,
          1960.1,
          1960.2,
          1960.3,
          1960.4,
          1960.5,
          1960.6,
          1960.7,
          1960.8,
          1960.9,
          1961,
          1961.1,
          1961.2,
          1961.3,
          1961.4,
          1961.5,
          1961.6,
          1961.7,
          1961.8,
          1961.9,
          1962,
          1962.1,
          1962.2,
          1962.3,
          1962.4,
          1962.5,
          1962.6,
          1962.7,
          1962.8,
          1962.9,
          1963,
          1963.1,
          1963.2,
          1963.3,
          1963.4,
          1963.5,
          1963.6,
          1963.7,
          1963.8,
          1963.9,
          1964,
          1964.1,
          1964.2,
          1964.3,
          1964.4,
          1964.5,
          1964.6,
          1964.7,
          1964.8,
          1964.9,
          1965,
          1965.1,
          1965.2,
          1965.3,
          1965.4,
          1965.5,
          1965.6,
          1965.7,
          1965.8,
          1965.9,
          1966,
          1966.1,
          1966.2,
          1966.3,
          1966.4,
          1966.5,
          1966.6,
          1966.7,
          1966.8,
          1966.9,
          1967,
          1967.1,
          1967.2,
          1967.3,
          1967.4,
          1967.5,
          1967.6,
          1967.7,
          1967.8,
          1967.9,
          1968,
          1968.1,
          1968.2,
          1968.3,
          1968.4,
          1968.5,
          1968.6,
          1968.7,
          1968.8,
          1968.9,
          1969,
          1969.1,
          1969.2,
          1969.3,
          1969.4,
          1969.5,
          1969.6,
          1969.7,
          1969.8,
          1969.9,
          1970,
          1970.1,
          1970.2,
          1970.3,
          1970.4,
          1970.5,
          1970.6,
          1970.7,
          1970.8,
          1970.9,
          1971,
          1971.1,
          1971.2,
          1971.3,
          1971.4,
          1971.5,
          1971.6,
          1971.7,
          1971.8,
          1971.9,
          1972,
          1972.1,
          1972.2,
          1972.3,
          1972.4,
          1972.5,
          1972.6,
          1972.7,
          1972.8,
          1972.9,
          1973,
          1973.1,
          1973.2,
          1973.3,
          1973.4,
          1973.5,
          1973.6,
          1973.7,
          1973.8,
          1973.9,
          1974,
          1974.1,
          1974.2,
          1974.3,
          1974.4,
          1974.5,
          1974.6,
          1974.7,
          1974.8,
          1974.9,
          1975,
          1975.1,
          1975.2,
          1975.3,
          1975.4,
          1975.5,
          1975.6,
          1975.7,
          1975.8,
          1975.9,
          1976,
          1976.1,
          1976.2,
          1976.3,
          1976.4,
          1976.5,
          1976.6,
          1976.7,
          1976.8,
          1976.9,
          1977,
          1977.1,
          1977.2,
          1977.3,
          1977.4,
          1977.5,
          1977.6,
          1977.7,
          1977.8,
          1977.9,
          1978,
          1978.1,
          1978.2,
          1978.3,
          1978.4,
          1978.5,
          1978.6,
          1978.7,
          1978.8,
          1978.9,
          1979,
          1979.1,
          1979.2,
          1979.3,
          1979.4,
          1979.5,
          1979.6,
          1979.7,
          1979.8,
          1979.9,
          1980,
          1980.1,
          1980.2,
          1980.3,
          1980.4,
          1980.5,
          1980.6,
          1980.7,
          1980.8,
          1980.9,
          1981,
          1981.1,
          1981.2,
          1981.3,
          1981.4,
          1981.5,
          1981.6,
          1981.7,
          1981.8,
          1981.9,
          1982,
          1982.1,
          1982.2,
          1982.3,
          1982.4,
          1982.5,
          1982.6,
          1982.7,
          1982.8,
          1982.9,
          1983,
          1983.1,
          1983.2,
          1983.3,
          1983.4,
          1983.5,
          1983.6,
          1983.7,
          1983.8,
          1983.9,
          1984,
          1984.1,
          1984.2,
          1984.3,
          1984.4,
          1984.5,
          1984.6,
          1984.7,
          1984.8,
          1984.9,
          1985,
          1985.1,
          1985.2,
          1985.3,
          1985.4,
          1985.5,
          1985.6,
          1985.7,
          1985.8,
          1985.9,
          1986,
          1986.1,
          1986.2,
          1986.3,
          1986.4,
          1986.5,
          1986.6,
          1986.7,
          1986.8,
          1986.9,
          1987,
          1987.1,
          1987.2,
          1987.3,
          1987.4,
          1987.5,
          1987.6,
          1987.7,
          1987.8,
          1987.9,
          1988,
          1988.1,
          1988.2,
          1988.3,
          1988.4,
          1988.5,
          1988.6,
          1988.7,
          1988.8,
          1988.9,
          1989,
          1989.1,
          1989.2,
          1989.3,
          1989.4,
          1989.5,
          1989.6,
          1989.7,
          1989.8,
          1989.9,
          1990,
          1990.1,
          1990.2,
          1990.3,
          1990.4,
          1990.5,
          1990.6,
          1990.7,
          1990.8,
          1990.9,
          1991,
          1991.1,
          1991.2,
          1991.3,
          1991.4,
          1991.5,
          1991.6,
          1991.7,
          1991.8,
          1991.9,
          1992,
          1992.1,
          1992.2,
          1992.3,
          1992.4,
          1992.5,
          1992.6,
          1992.7,
          1992.8,
          1992.9,
          1993,
          1993.1,
          1993.2,
          1993.3,
          1993.4,
          1993.5,
          1993.6,
          1993.7,
          1993.8,
          1993.9,
          1994,
          1994.1,
          1994.2,
          1994.3,
          1994.4,
          1994.5,
          1994.6,
          1994.7,
          1994.8,
          1994.9,
          1995,
          1995.1,
          1995.2,
          1995.3,
          1995.4,
          1995.5,
          1995.6,
          1995.7,
          1995.8,
          1995.9,
          1996,
          1996.1,
          1996.2,
          1996.3,
          1996.4,
          1996.5,
          1996.6,
          1996.7,
          1996.8,
          1996.9,
          1997,
          1997.1,
          1997.2,
          1997.3,
          1997.4,
          1997.5,
          1997.6,
          1997.7,
          1997.8,
          1997.9,
          1998,
          1998.1,
          1998.2,
          1998.3,
          1998.4,
          1998.5,
          1998.6,
          1998.7,
          1998.8,
          1998.9,
          1999,
          1999.1,
          1999.2,
          1999.3,
          1999.4,
          1999.5,
          1999.6,
          1999.7,
          1999.8,
          1999.9,
          2000,
          2000.1,
          2000.2,
          2000.3,
          2000.4,
          2000.5,
          2000.6,
          2000.7,
          2000.8,
          2000.9,
          2001,
          2001.1,
          2001.2,
          2001.3,
          2001.4,
          2001.5,
          2001.6,
          2001.7,
          2001.8,
          2001.9,
          2002,
          2002.1,
          2002.2,
          2002.3,
          2002.4,
          2002.5,
          2002.6,
          2002.7,
          2002.8,
          2002.9,
          2003,
          2003.1,
          2003.2,
          2003.3,
          2003.4,
          2003.5,
          2003.6,
          2003.7,
          2003.8,
          2003.9,
          2004,
          2004.1,
          2004.2,
          2004.3,
          2004.4,
          2004.5,
          2004.6,
          2004.7,
          2004.8,
          2004.9,
          2005,
          2005.1,
          2005.2,
          2005.3,
          2005.4,
          2005.5,
          2005.6,
          2005.7,
          2005.8,
          2005.9,
          2006,
          2006.1,
          2006.2,
          2006.3,
          2006.4,
          2006.5,
          2006.6,
          2006.7,
          2006.8,
          2006.9,
          2007,
          2007.1,
          2007.2,
          2007.3,
          2007.4,
          2007.5,
          2007.6,
          2007.7,
          2007.8,
          2007.9,
          2008,
          2008.1,
          2008.2,
          2008.3,
          2008.4,
          2008.5,
          2008.6,
          2008.7,
          2008.8,
          2008.9,
          2009,
          2009.1,
          2009.2,
          2009.3,
          2009.4,
          2009.5,
          2009.6,
          2009.7,
          2009.8,
          2009.9,
          2010,
          2010.1,
          2010.2,
          2010.3,
          2010.4,
          2010.5,
          2010.6,
          2010.7,
          2010.8,
          2010.9,
          2011,
          2011.1,
          2011.2,
          2011.3,
          2011.4,
          2011.5,
          2011.6,
          2011.7,
          2011.8,
          2011.9,
          2012,
          2012.1,
          2012.2,
          2012.3,
          2012.4,
          2012.5,
          2012.6,
          2012.7,
          2012.8,
          2012.9,
          2013,
          2013.1,
          2013.2,
          2013.3,
          2013.4,
          2013.5,
          2013.6,
          2013.7,
          2013.8,
          2013.9,
          2014,
          2014.1,
          2014.2,
          2014.3,
          2014.4,
          2014.5,
          2014.6,
          2014.7,
          2014.8,
          2014.9,
          2015,
          2015.1,
          2015.2,
          2015.3,
          2015.4,
          2015.5,
          2015.6,
          2015.7,
          2015.8,
          2015.9,
          2016,
          2016.1,
          2016.2,
          2016.3,
          2016.4,
          2016.5,
          2016.6,
          2016.7,
          2016.8,
          2016.9,
          2017,
          2017.1,
          2017.2,
          2017.3,
          2017.4,
          2017.5,
          2017.6,
          2017.7,
          2017.8,
          2017.9,
          2018,
          2018.1,
          2018.2,
          2018.3,
          2018.4,
          2018.5,
          2018.6,
          2018.7,
          2018.8,
          2018.9,
          2019,
          2019.1,
          2019.2,
          2019.3,
          2019.4,
          2019.5,
          2019.6,
          2019.7,
          2019.8,
          2019.9,
          2020
         ],
         "xaxis": "x",
         "y": [
          0.39873283304928353,
          0.3908630205556094,
          0.37849692637606897,
          0.3716212288661153,
          0.3678281294161341,
          0.3658474920316014,
          0.36520609039067176,
          0.36538580039095436,
          0.366196572847977,
          0.3674963566529152,
          0.36907069254559083,
          0.37086239564585666,
          0.37291623018253606,
          0.3751961231711781,
          0.3775867905856185,
          0.38002156879340804,
          0.38258657566033144,
          0.38538589834179215,
          0.38841944915309157,
          0.3915784657831377,
          0.39469372404311504,
          0.39780226187026546,
          0.40112704591960174,
          0.40475093066158685,
          0.4085313079912356,
          0.41223799046126564,
          0.41595197474277534,
          0.41996139577095914,
          0.42433563573526767,
          0.42886628889739825,
          0.43327568311501297,
          0.4376989381172844,
          0.44245690169607843,
          0.44755575489669475,
          0.4527189590202032,
          0.4578318473259845,
          0.4631357933432515,
          0.46879457287828885,
          0.47469689029571777,
          0.48059170228867953,
          0.48652032110562526,
          0.4927542176442189,
          0.4993626533786659,
          0.5061582785693599,
          0.5128988483786343,
          0.5197160547195951,
          0.5269238709380529,
          0.534560418712918,
          0.5423519000549412,
          0.5500213596555497,
          0.5577896692066711,
          0.5660496092508354,
          0.5748131246474847,
          0.5836902275544452,
          0.5924370885593384,
          0.6013716393189483,
          0.6107863963860382,
          0.6205399924580537,
          0.6303450322357546,
          0.6402797684667925,
          0.6505978388533626,
          0.6612893505969569,
          0.6721513843656186,
          0.6831271614302332,
          0.6944136197702012,
          0.7061319314972527,
          0.7181973051152226,
          0.7303715213103448,
          0.7426375526521789,
          0.7552902575112032,
          0.7685114717155199,
          0.7821808822734873,
          0.7959305585605868,
          0.8097131823290895,
          0.8238971499783304,
          0.8386466361375772,
          0.8537484602836344,
          0.8689797046291315,
          0.8844992372591731,
          0.9005325597585147,
          0.917033373688386,
          0.9337726469723834,
          0.950727223710415,
          0.9681380758435447,
          0.98612340230748,
          1.0045661998416886,
          1.0231970189522914,
          1.0420396466999844,
          1.0614381736574876,
          1.0815575935957191,
          1.1022246602561925,
          1.1230478338046463,
          1.1440678455272921,
          1.1656975255332385,
          1.1880384716658328,
          1.210821074484983,
          1.233870220958634,
          1.2574095332367932,
          1.2816391341984048,
          1.3064722791060481,
          1.3316724397585598,
          1.3572743013619983,
          1.3835454024678828,
          1.4105707354120485,
          1.4381904067594886,
          1.4661442024367148,
          1.4945366456815772,
          1.523734876177182,
          1.5538507668227903,
          1.5846472108415521,
          1.6157545211345576,
          1.6473189552760368,
          1.6797663103086875,
          1.7131292052471292,
          1.747092233873424,
          1.7815426904264575,
          1.8167657991952786,
          1.8529314099607013,
          1.8899100785583534,
          1.9274678715349332,
          1.9656993226568742,
          2.0048941022109625,
          2.045110269334922,
          2.0861428185354454,
          2.127750014457756,
          2.1701147793645985,
          2.2136201249640792,
          2.258333226450087,
          2.3039498098499482,
          2.3501445925089213,
          2.397166212632689,
          2.445433282980534,
          2.4949183277359426,
          2.545270521417243,
          2.5964457345661316,
          2.6487862731097875,
          2.7024320111020197,
          2.7572082975055245,
          2.812896474276246,
          2.8696572755005922,
          2.9277961321035644,
          2.987344564857084,
          3.048050879212771,
          3.1097058365659414,
          3.172576873836852,
          3.237056403432148,
          3.3031665534659336,
          3.3705352531946104,
          3.4389003686191364,
          3.5086147318889873,
          3.5800792955277636,
          3.653209157035504,
          3.7276282398188902,
          3.8033684154702407,
          3.880827197428104,
          3.960117390861226,
          4.041017955464502,
          4.123332364956174,
          4.207295174494092,
          4.293230210355502,
          4.381143146827641,
          4.470733879606989,
          4.561834565166034,
          4.654805106934353,
          4.750049532724063,
          4.847545405870351,
          4.946854030479211,
          5.047784208757582,
          5.150798996550901,
          5.256285789240904,
          5.364099761706819,
          5.473847233320656,
          5.585644964284725,
          5.699948908045148,
          5.816850331017637,
          5.936078904774364,
          6.0574651969965085,
          6.181329672349591,
          6.3080231175947565,
          6.437525813191406,
          6.569485205757236,
          6.703782599586441,
          6.8408847641470105,
          6.981216480815221,
          7.1247097700800825,
          7.270856198816703,
          7.419543147742713,
          7.571358326342792,
          7.726685957157691,
          7.885315715536381,
          8.046839830426132,
          8.211473161762253,
          8.379741651259824,
          8.551722656770156,
          8.72708971922999,
          8.905703583964254,
          9.087990273195123,
          9.274343908481864,
          9.464719526938495,
          9.658702978510972,
          9.856231887677882,
          10.057904546376037,
          10.264184111125363,
          10.474953982011638,
          10.689625325826357,
          10.908173403748345,
          11.131337951719736,
          11.359517107035318,
          11.592424949769601,
          11.829636211658702,
          12.071484502374762,
          12.318590091675151,
          12.571025419723103,
          12.828394262258819,
          13.090588945093419,
          13.358172298889633,
          13.631607981601643,
          13.910824959870824,
          14.195329841490569,
          14.485124519097607,
          14.7809787048932,
          15.08342148977395,
          15.39228102674555,
          15.706820788225443,
          16.02701785521679,
          16.353959658687074,
          16.688393107950745,
          17.030024414631203,
          17.377806254131077,
          17.73184820367012,
          18.093382989270047,
          18.462821024115915,
          18.839603732002153,
          19.22348776157417,
          19.615144992926506,
          20.015075086402966,
          20.4231413184767,
          20.839042438545423,
          21.263119450558353,
          21.69604239453286,
          22.13803298012379,
          22.58881463264119,
          23.047996515762783,
          23.5160924011304,
          23.99415877594283,
          24.4825950538646,
          24.980940965810888,
          25.48830118054992,
          26.005134949241466,
          26.532818308269405,
          27.071705055660345,
          27.621120703963726,
          28.180860479373138,
          28.75183257619133,
          29.3346984038795,
          29.92930864415861,
          30.535198328675648,
          31.152778304125643,
          31.78304700656077,
          32.42639892263077,
          33.082489138805016,
          33.750686318945675,
          34.43158213279238,
          35.126660917568245,
          35.83655351813272,
          36.56067817253488,
          37.297839601379735,
          38.04864886701323,
          38.8149356021209,
          39.59717724442844,
          40.39449350976443,
          41.2066035887138,
          42.03472694148245,
          42.87978642579712,
          43.741607180731286,
          44.619554546301586,
          45.5141609553987,
          46.426781255236946,
          47.35796752160169,
          48.30727449218358,
          49.273878761153796,
          50.258576693205804,
          51.263322442632756,
          52.28893524985839,
          53.33464836038374,
          54.398945596406705,
          55.48269003498011,
          56.58828226659374,
          57.71633773970316,
          58.86568348992785,
          60.03592474001431,
          61.228709717794516,
          62.445333499984784,
          63.68558202794139,
          64.94852794359538,
          66.23482606921529,
          67.54636027248935,
          68.88393702618485,
          70.2469590359203,
          71.63424832144229,
          73.04682106032331,
          74.48732176041841,
          75.95686910914151,
          77.45442296924418,
          78.97795154718382,
          80.52862374844379,
          82.10964654091708,
          83.72182872909681,
          85.36355645154906,
          87.03422014278146,
          88.73604386569991,
          90.47084565644134,
          92.23833682694377,
          94.03713492474338,
          95.86801654979573,
          97.73358494655305,
          99.63498899096354,
          101.5713878663509,
          103.54106236072386,
          105.54529493994188,
          107.58766386180727,
          109.66967055057083,
          111.78985085696446,
          113.94541368718083,
          116.13791951879975,
          118.37166150697155,
          120.64767359553707,
          122.9636736813015,
          125.31869151443465,
          127.71571307308442,
          130.15725820999285,
          132.6428862895226,
          135.17050370984504,
          137.7409810430043,
          140.3578864115887,
          143.02281193004885,
          145.7345135356527,
          148.49043432849655,
          151.29216016160993,
          154.14451515005996,
          157.04946297511552,
          160.00486448302667,
          163.00681266290576,
          166.05736827278858,
          169.16225182270378,
          172.32270771308148,
          175.53543105466673,
          178.79888205861698,
          182.11704002897918,
          185.49331337274788,
          188.92695010999066,
          192.41476596189761,
          195.95767442262982,
          199.5604996611113,
          203.22534962686626,
          206.95030040441873,
          210.7315366732276,
          214.57099886709574,
          218.47512089492716,
          222.44634583586623,
          226.48144545425612,
          230.57492402070517,
          234.72950780444125,
          238.95272055600785,
          243.2458920525239,
          247.60415669448713,
          252.02514869726244,
          256.5141350031594,
          261.0755598728325,
          265.70805984517744,
          270.4068234344811,
          275.17275543213555,
          280.0122722956803,
          284.9279889958923,
          289.91684481752725,
          294.9732088288422,
          300.09948301711665,
          305.30411193987925,
          310.58990256008536,
          315.95188448439774,
          321.38241573447624,
          326.8851738834246,
          332.46984740906413,
          338.13753434921915,
          343.8810388053244,
          349.6969317261357,
          355.5921616948246,
          361.57224315314636,
          367.6346923770748,
          373.7723841387313,
          379.9862412031989,
          386.28465030779057,
          392.67056763092916,
          399.1390962540104,
          405.6821589769543,
          412.30288537034596,
          419.0121296556986,
          425.81272640149575,
          432.697006632814,
          439.65332608269796,
          446.68636932319197,
          453.81182622898723,
          461.0335652624852,
          468.33991558298266,
          475.7163669651251,
          483.17057381018753,
          490.7176781715701,
          498.3556615283175,
          506.07223156368775,
          513.8665043271019,
          521.7484378462221,
          529.7197035894945,
          537.7730644374676,
          545.9034952926952,
          554.1168942025614,
          562.4196282283635,
          570.8096836260928,
          579.2771154335069,
          587.816233786201,
          596.437033865213,
          605.1509182865744,
          613.9559875277739,
          622.8364396337993,
          631.780693423609,
          640.8007730225697,
          649.9106567583494,
          659.1050356501047,
          668.3682812902205,
          677.7006494853918,
          687.1146070122586,
          696.6111300036798,
          706.1794421105035,
          715.8117021102303,
          725.5157203917463,
          735.3005163492273,
          745.1630183262749,
          755.0885974888685,
          765.0684672986781,
          775.1156581042139,
          785.2450031347694,
          795.4530021120825,
          805.7174990362109,
          816.0251272313351,
          826.3925940213737,
          836.8354208634985,
          847.3445848817103,
          857.9001009063513,
          868.5037754689188,
          879.171100679934,
          889.9017162468745,
          900.6806577106231,
          911.498895473323,
          922.3671912043071,
          933.2956157805038,
          944.2786814963762,
          955.2969895889871,
          966.3419962589985,
          977.4314538926769,
          988.581122275185,
          999.7838020095878,
          1011.0108035433202,
          1022.2504724586355,
          1033.5257936994528,
          1044.8517636287952,
          1056.2141126174572,
          1067.5898313413497,
          1078.9844056459767,
          1090.4160884622393,
          1101.8824338912466,
          1113.3638131899393,
          1124.8512883200497,
          1136.359920054613,
          1147.900674650273,
          1159.4650377024414,
          1171.0286116449686,
          1182.5847998537088,
          1194.1573335436103,
          1205.7622505368402,
          1217.3876426408715,
          1228.9985200029232,
          1240.5877021866286,
          1252.1854376697374,
          1263.8046356603309,
          1275.4246160291436,
          1287.0215630438565,
          1298.606750208677,
          1310.2002356642192,
          1321.7967203733338,
          1333.3720813326124,
          1344.9197073151645,
          1356.460002254701,
          1368.0038131493143,
          1379.5387264317026,
          1391.0361834629539,
          1402.4943634058714,
          1413.943553332906,
          1425.3983770787909,
          1436.8409211878939,
          1448.2316489923005,
          1459.571161032788,
          1470.8966523507052,
          1482.216937916163,
          1493.5043357394297,
          1504.737047801444,
          1515.9338811470698,
          1527.1152127701293,
          1538.2718558724744,
          1549.3760754053128,
          1560.4259718755989,
          1571.4475237885704,
          1582.4501581826967,
          1593.4165910857796,
          1604.3158533053725,
          1615.1535129260253,
          1625.965717351012,
          1636.7638374181522,
          1647.5226364698146,
          1658.2012255283785,
          1668.8107073113838,
          1679.3930671063686,
          1689.9511606908736,
          1700.4504682130214,
          1710.8742367280126,
          1721.2495391785308,
          1731.5950364992823,
          1741.8964394332727,
          1752.1241766365783,
          1762.2832497460874,
          1772.4042235562292,
          1782.4936435137956,
          1792.528280947663,
          1802.4776965664855,
          1812.3570280700949,
          1822.206139546788,
          1832.0315589590439,
          1841.799593682303,
          1851.4732569964413,
          1861.0764615923495,
          1870.6524433796574,
          1880.197717842981,
          1889.6734410418023,
          1899.0727498546926,
          1908.4331087815804,
          1917.7725437665185,
          1927.0741327881262,
          1936.3138870176958,
          1945.512296083084,
          1954.71068826664,
          1963.918826505865,
          1973.1122721114823,
          1982.271663040932,
          1991.431068803247,
          2000.6346643734228,
          2009.8811760826175,
          2019.1230599796177,
          2028.3274769237403,
          2037.5336714144432,
          2046.787597841314,
          2056.0778315840444,
          2065.3395767780326,
          2074.544950601837,
          2083.7428579854536,
          2092.9644918891204,
          2102.1813843393074,
          2111.3511969086258,
          2120.486981545051,
          2129.6225290592743,
          2138.7528268257433,
          2147.8450149073833,
          2156.889014909203,
          2165.9130368593615,
          2174.933958270298,
          2183.937954741761,
          2192.8870982189915,
          2201.774632747276,
          2210.6435323920427,
          2219.5232724097636,
          2228.397190583894,
          2237.207550642108,
          2245.9385000784096,
          2254.6437590768614,
          2263.3542125911126,
          2272.0403777552774,
          2280.661441373897,
          2289.2357169204133,
          2297.8011288129783,
          2306.3537428334007,
          2314.858030509974,
          2323.3039168300234,
          2331.7262400710347,
          2340.1479626789605,
          2348.555858077829,
          2356.908152681402,
          2365.199474287419,
          2373.48217671995,
          2381.793104857543,
          2390.116964433876,
          2398.3940877649943,
          2406.615520608411,
          2414.845428352117,
          2423.1168612980955,
          2431.397061400778,
          2439.6409335823273,
          2447.8667121568824,
          2456.111890674632,
          2464.366718050186,
          2472.5847574138406,
          2480.747597907629,
          2488.890428075608,
          2497.0366321485694,
          2505.1661449030216,
          2513.2255915951077,
          2521.2072745035443,
          2529.1688650854976,
          2537.145083911708,
          2545.1093722773876,
          2552.9909966291016,
          2560.78908916923,
          2568.574101008722,
          2576.368656265662,
          2584.1286868486577,
          2591.8166231368596,
          2599.466397739245,
          2607.117656051044,
          2614.7589106001965,
          2622.3463497453586,
          2629.878303768201,
          2637.400338934808,
          2644.9315086749834,
          2652.447178994696,
          2659.898341427265,
          2667.293998946334,
          2674.6961175092406,
          2682.128697279386,
          2689.555715537361,
          2696.908937080477,
          2704.2024112940053,
          2711.5090517400245,
          2718.8413285783276,
          2726.147335392762,
          2733.3962554192995,
          2740.6305707704805,
          2747.8864340602836,
          2755.1471466671087,
          2762.3673790529474,
          2769.5520978972377,
          2776.750368098276,
          2783.9780666545744,
          2791.2069179725368,
          2798.388682337427,
          2805.536444747629,
          2812.7090851841563,
          2819.922484531125,
          2827.1338260090506,
          2834.2707803965463,
          2841.3439901599672,
          2848.420889333795,
          2855.5073627760066,
          2862.5444391788196,
          2869.498232083384,
          2876.4128812238573,
          2883.324971210467,
          2890.2135841529775,
          2897.0270485555384,
          2903.7720460383935,
          2910.5045260649104,
          2917.240976114139,
          2923.945646770233,
          2930.5681100743686,
          2937.1337486346397,
          2943.7101768464154,
          2950.3100415372583,
          2956.8807327670393,
          2963.3571013248684,
          2969.778322166801,
          2976.2356044821927,
          2982.7425590446505,
          2989.222302405128,
          2995.604733520447,
          3001.9475904121255,
          3008.327647753784,
          3014.724021790582,
          3021.072510503256,
          3027.380821760466,
          3033.702830328,
          3040.040328482036,
          3046.353755124826,
          3052.627328729358,
          3058.897206221372,
          3065.1892378575385,
          3071.488515061326,
          3077.7460537376983,
          3083.9477235714226,
          3090.1471144167913,
          3096.3860559851128,
          3102.6446761120114,
          3108.8440748814155,
          3114.9472856888183,
          3121.0158446099736,
          3127.0951178509154,
          3133.1489005035146,
          3139.1141490728396,
          3145.004851628512,
          3150.8737565322235,
          3156.7212292863455,
          3162.5044639428115,
          3168.2054379979863,
          3173.8695392730965,
          3179.535825252515,
          3185.192384159732,
          3190.7826076378437,
          3196.2892704992896,
          3201.779497020052,
          3207.308931704075,
          3212.8581803085735,
          3218.34143874672,
          3223.737623009205,
          3229.128112331904,
          3234.5561419329524,
          3239.9782979541783,
          3245.342863639845,
          3250.680430833447,
          3256.0401808019387,
          3261.413105029085,
          3266.751763667176,
          3272.05032793795,
          3277.356870772779,
          3282.6947038277603,
          3288.0399480787673,
          3293.337219893725,
          3298.5890696058786,
          3303.8647607975395,
          3309.1996235771244,
          3314.5602512251066,
          3319.86342845375,
          3325.109280059837,
          3330.3825220303124,
          3335.7107159471807,
          3341.0419097631466,
          3346.3347964795494,
          3351.631765695256,
          3356.9795662309534,
          3362.367500150371,
          3367.7515264543013,
          3373.1390028257015,
          3378.5898478730624,
          3384.133602647598,
          3389.753339345418,
          3395.4056147916917,
          3401.108983808986,
          3406.9383089789058,
          3412.9238293997814,
          3419.025192016063,
          3425.1530531411036,
          3431.298094228169,
          3437.526052300943,
          3443.8426636216673,
          3450.17661078703,
          3456.4708447948806,
          3462.7572105437225,
          3469.0732554426204,
          3475.39538106853,
          3481.6625717797974,
          3487.871469566653,
          3494.078463549138,
          3500.304363428834,
          3506.5141862309365,
          3512.6478942834688,
          3518.7230486319995,
          3524.8149241515703,
          3530.9453431672173,
          3537.064105028049,
          3543.09851612431,
          3549.0797978807504,
          3555.09001377011,
          3561.132791762253,
          3567.1421490875678,
          3573.090932193307,
          3579.036277708965,
          3585.015776642914,
          3591.003240074898,
          3596.942854804978,
          3602.8463055621396,
          3608.7746434336555,
          3614.742190339556,
          3620.706461915927,
          3626.612440209079,
          3632.490182408782,
          3638.4133132376473,
          3644.3936035990637,
          3650.37070205989,
          3656.28222915358,
          3662.173951649645,
          3668.1222705303035,
          3674.1216390603704,
          3680.103259074558,
          3686.0529171962517,
          3692.035802992814,
          3698.083688213306,
          3704.1651424751553,
          3710.227770391925,
          3716.2899571243456,
          3722.408340783136,
          3728.587251756586,
          3734.774028479789,
          3740.9100005972164,
          3747.0258976200903,
          3753.1910000811877,
          3759.408063089344,
          3765.6040334689405,
          3771.7135928152716,
          3777.7878677566105,
          3783.900329821404,
          3790.0352254710106,
          3796.119144699355,
          3802.14711416888,
          3808.1840563434853,
          3814.2480836936807,
          3820.2978477935744,
          3826.292649449528,
          3832.265447725048,
          3838.2673912003106,
          3844.2959339409654,
          3850.296409237172,
          3856.2328994258673,
          3862.158049812643,
          3868.1355038212705,
          3874.158428756804,
          3880.1495260557967,
          3886.0660760985866,
          3891.975374872726,
          3897.9385766619002,
          3903.9288293070335,
          3909.874467559288,
          3915.7839169707686,
          3921.7240452363594,
          3927.704885305559,
          3933.6780099495572,
          3939.6068816476236,
          3945.5327943061475,
          3951.505930788908,
          3957.518424634295,
          3963.5090960881143,
          3969.449791339453,
          3975.404829112568,
          3981.4360659147715,
          3987.529604489342,
          3993.602878729976,
          3999.6304458845225,
          4005.6924502962,
          4011.8383169420554,
          4018.0263366612,
          4024.1831213050555,
          4030.324792819031,
          4036.5120141349653,
          4042.7361927808706,
          4048.9241691959364,
          4055.0342163812084,
          4061.1199308605565,
          4067.2267052128723,
          4073.314256288711,
          4083.6454819060855,
          4115.295846630983,
          4244.647368853272,
          4776.733185647246,
          6293.869007718298,
          8450.673012457391,
          9898.339043831496,
          10338.13410952308,
          10378.787549328727,
          10328.361322217634,
          10263.837962618281,
          10208.533357182505,
          10199.657749533031,
          10370.924276635942,
          10974.077643156945,
          11848.434020765475,
          12399.484808065317,
          12503.03015836752,
          12432.037612587465,
          12323.168971779949,
          12210.350947774074,
          12104.646580547582,
          12025.760586110377,
          12046.407729090435,
          12302.114501043152,
          12703.653177121569,
          12928.365155167809,
          12910.847652340708,
          12800.615970298959,
          12672.348123563823,
          12545.07607175094,
          12426.147000605139,
          12332.788783952197,
          12330.18462475067,
          12540.51168811366,
          12883.672112256623,
          13067.682036990327,
          13033.412861129313,
          12917.25863928261,
          12786.694730817868,
          12658.473020614176,
          12539.573924862081,
          12447.75922415388,
          12451.252107889395,
          12678.469626357764,
          13043.11693410985,
          13238.005113466992,
          13203.327158373893,
          13082.371686810393,
          12945.808820330756,
          12810.707285910239,
          12682.218355450983,
          12569.715806942697,
          12507.22828727773,
          12559.77850090067,
          12684.052008222261,
          12722.458187194261,
          12643.45352777681,
          12520.561236806478,
          12390.343901203301,
          12260.70647611106,
          12130.074341051819,
          11986.968630920044,
          11784.538793143627,
          11432.787353393174,
          10988.956976192829,
          10666.349828199882,
          10508.068061820755,
          10414.11434143004,
          10334.119889163685,
          10254.493836208789,
          10170.829386178932,
          10079.316507490543,
          9966.91205814297,
          9807.94712871146,
          9621.591431676718,
          9473.671328852814,
          9377.511395156886,
          9302.585904350344,
          9233.610444263513,
          9167.017820370012,
          9102.812060622638,
          9044.249733272787,
          9004.991747461048,
          9010.596795958754,
          9044.226338289738,
          9044.82821613468,
          9000.13370469819,
          8938.488992951696,
          8873.571023091028,
          8809.459289662696,
          8752.8066857973,
          8734.389598235408,
          8874.684729431588,
          9396.218807027924,
          10144.141780936465,
          10582.386241475357,
          10611.910302544266,
          10486.855597869886,
          10331.918321835703,
          10176.324143011263,
          10025.577385828637,
          9880.906310763836,
          9742.308097231778,
          9609.858488614273,
          9483.549122002425,
          9363.203932193152,
          9248.618324049216,
          9139.807590871122,
          9037.219184735965,
          8942.183109902273,
          8856.063063045449,
          8779.289878208167,
          8714.845635996784,
          8670.2419128054,
          8638.334736838948,
          8596.814002232455,
          8541.193075383644,
          8481.42252391208,
          8421.700617940103,
          8361.841745824151,
          8301.288414916018,
          8242.67191347448,
          8196.515036572482,
          8180.735920668012,
          8184.4627513621635,
          8167.732264272968,
          8122.933343633399,
          8069.083697882315,
          8015.651575617594,
          7965.219795465555,
          7919.214454184146,
          7881.809181963596,
          7869.400453869312,
          7912.749190633849,
          7990.41823177573,
          8026.798266347858,
          8006.863246018294,
          7966.37895795736,
          7923.571832133267,
          7883.247265019583,
          7846.651815172352,
          7813.623372135915,
          7783.071413810956,
          7753.467114409685,
          7723.0807614243095,
          7690.837614348493,
          7657.109703480736,
          7623.005812340703,
          7589.464617045052,
          7557.058259084433,
          7525.969789285596,
          7496.3312704910995,
          7468.293258536849,
          7442.05991989631,
          7417.898495629707,
          7395.696653532779,
          7374.948398002175,
          7355.233702431159,
          7336.2389512007385,
          7317.563910488825,
          7298.859811674285,
          7280.146376066834,
          7261.582618626191,
          7242.894087547027,
          7223.2476442040215,
          7202.121219101828,
          7180.0080687027785,
          7157.716739145797,
          7135.676868416738,
          7113.833031478578,
          7091.99430085976,
          7070.318679327032,
          7049.164485514221,
          7028.763457996394,
          7008.992019773997,
          6989.590186707954,
          6970.613740625049,
          6952.287986820279,
          6934.996198358026,
          6919.305818045506,
          6905.519186976215,
          6893.51878216145,
          6883.023519996306,
          6874.066273388977,
          6867.338350217658,
          6863.532688961543,
          6862.42499327742,
          6863.147917984229,
          6864.737054038651,
          6866.394535204188,
          6867.788368726601,
          6868.757516648237,
          6869.148319688456,
          6868.6267823554135,
          6866.247340570358,
          6861.178288130968,
          6853.614169959357,
          6844.481590815589,
          6834.70748536871,
          6825.026243238362,
          6815.848495755456,
          6807.309221889683,
          6799.608768472662,
          6793.344487957376,
          6789.255354947395,
          6787.322550260371,
          6786.759838162681,
          6786.792945938206,
          6787.006778026871,
          6787.198894365564,
          6787.300001844986,
          6787.2421243957815,
          6786.9967575508945,
          6786.59894382098,
          6786.244792367247,
          6786.443942820797,
          6787.4777874603315,
          6789.179918285212,
          6791.260774708762,
          6793.49000319826,
          6795.751382590737,
          6797.952150105374,
          6800.004775403066,
          6801.878940064033,
          6803.552754412362,
          6804.993616490003,
          6806.217566585996,
          6807.25218848248,
          6808.090435455442,
          6808.711038236808,
          6809.153316865859,
          6809.467104388257,
          6809.586207707439,
          6809.31645560203,
          6808.397470197974,
          6806.630372300383,
          6804.047671816645,
          6800.853785093075,
          6797.190981955922,
          6793.15501474892,
          6788.777441653888,
          6784.099373532504,
          6779.1000419730535,
          6773.388560257872,
          6766.3666083234075,
          6757.777752642242,
          6748.006721094871,
          6737.629125678204,
          6726.998470235221,
          6716.245668424343,
          6705.421514432983,
          6694.644253360825,
          6684.238959553645,
          6674.950208716341,
          6667.820883558814,
          6663.129785329886,
          6660.05089056911,
          6657.750462564358,
          6655.77938239029,
          6653.859106038295,
          6651.835615572103,
          6649.707385464449,
          6647.668511026002,
          6646.2198490029,
          6645.862710863852,
          6646.518995095623,
          6647.591408293354,
          6648.678928636529,
          6649.999740408568,
          6652.288419559829,
          6656.229254509367,
          6661.571127602549,
          6667.397743548455,
          6672.694373144548,
          6676.576453985931,
          6678.927299220568,
          6680.325981859947,
          6681.228996893628,
          6681.475619279671,
          6680.438123484611,
          6677.642401999165,
          6673.262361753204,
          6667.849786553894,
          6661.744584391245,
          6654.879551449767,
          6647.3540918045555,
          6639.625545422097,
          6632.047572823226,
          6624.873750163797,
          6618.272363870508,
          6612.323626540026,
          6607.034506000666,
          6602.251869276253,
          6597.740145242231,
          6593.223661293487,
          6588.474179420558,
          6583.419962119971,
          6578.08760036889,
          6572.637346545415,
          6567.31026851508,
          6562.270241593684,
          6557.518854697323,
          6552.971886308849,
          6548.522737242576,
          6544.087972550615,
          6539.664007372565,
          6535.23993626063,
          6530.762877679272,
          6526.067782147482,
          6520.839156269008,
          6514.789162347663,
          6508.016582439712,
          6500.973916804601,
          6494.139929034391,
          6487.747388848718,
          6481.651150176312,
          6475.553325072516,
          6469.304845462256,
          6463.062159673926,
          6457.131178483793,
          6451.696847156223,
          6446.749629041606,
          6442.153807096947,
          6437.684278799454,
          6433.068651014902,
          6428.142462524194,
          6422.887893840756,
          6417.397612362761,
          6411.831767361557,
          6406.356968238335,
          6401.117288826899,
          6396.121360034169,
          6391.321465084486,
          6386.75206624103,
          6382.554885142219,
          6378.9221564918225,
          6375.926546769168,
          6373.462565599932,
          6371.304546080814
         ],
         "yaxis": "y"
        }
       ],
       "layout": {
        "legend": {
         "tracegroupgap": 0
        },
        "margin": {
         "t": 60
        },
        "template": {
         "data": {
          "bar": [
           {
            "error_x": {
             "color": "#2a3f5f"
            },
            "error_y": {
             "color": "#2a3f5f"
            },
            "marker": {
             "line": {
              "color": "#E5ECF6",
              "width": 0.5
             },
             "pattern": {
              "fillmode": "overlay",
              "size": 10,
              "solidity": 0.2
             }
            },
            "type": "bar"
           }
          ],
          "barpolar": [
           {
            "marker": {
             "line": {
              "color": "#E5ECF6",
              "width": 0.5
             },
             "pattern": {
              "fillmode": "overlay",
              "size": 10,
              "solidity": 0.2
             }
            },
            "type": "barpolar"
           }
          ],
          "carpet": [
           {
            "aaxis": {
             "endlinecolor": "#2a3f5f",
             "gridcolor": "white",
             "linecolor": "white",
             "minorgridcolor": "white",
             "startlinecolor": "#2a3f5f"
            },
            "baxis": {
             "endlinecolor": "#2a3f5f",
             "gridcolor": "white",
             "linecolor": "white",
             "minorgridcolor": "white",
             "startlinecolor": "#2a3f5f"
            },
            "type": "carpet"
           }
          ],
          "choropleth": [
           {
            "colorbar": {
             "outlinewidth": 0,
             "ticks": ""
            },
            "type": "choropleth"
           }
          ],
          "contour": [
           {
            "colorbar": {
             "outlinewidth": 0,
             "ticks": ""
            },
            "colorscale": [
             [
              0,
              "#0d0887"
             ],
             [
              0.1111111111111111,
              "#46039f"
             ],
             [
              0.2222222222222222,
              "#7201a8"
             ],
             [
              0.3333333333333333,
              "#9c179e"
             ],
             [
              0.4444444444444444,
              "#bd3786"
             ],
             [
              0.5555555555555556,
              "#d8576b"
             ],
             [
              0.6666666666666666,
              "#ed7953"
             ],
             [
              0.7777777777777778,
              "#fb9f3a"
             ],
             [
              0.8888888888888888,
              "#fdca26"
             ],
             [
              1,
              "#f0f921"
             ]
            ],
            "type": "contour"
           }
          ],
          "contourcarpet": [
           {
            "colorbar": {
             "outlinewidth": 0,
             "ticks": ""
            },
            "type": "contourcarpet"
           }
          ],
          "heatmap": [
           {
            "colorbar": {
             "outlinewidth": 0,
             "ticks": ""
            },
            "colorscale": [
             [
              0,
              "#0d0887"
             ],
             [
              0.1111111111111111,
              "#46039f"
             ],
             [
              0.2222222222222222,
              "#7201a8"
             ],
             [
              0.3333333333333333,
              "#9c179e"
             ],
             [
              0.4444444444444444,
              "#bd3786"
             ],
             [
              0.5555555555555556,
              "#d8576b"
             ],
             [
              0.6666666666666666,
              "#ed7953"
             ],
             [
              0.7777777777777778,
              "#fb9f3a"
             ],
             [
              0.8888888888888888,
              "#fdca26"
             ],
             [
              1,
              "#f0f921"
             ]
            ],
            "type": "heatmap"
           }
          ],
          "heatmapgl": [
           {
            "colorbar": {
             "outlinewidth": 0,
             "ticks": ""
            },
            "colorscale": [
             [
              0,
              "#0d0887"
             ],
             [
              0.1111111111111111,
              "#46039f"
             ],
             [
              0.2222222222222222,
              "#7201a8"
             ],
             [
              0.3333333333333333,
              "#9c179e"
             ],
             [
              0.4444444444444444,
              "#bd3786"
             ],
             [
              0.5555555555555556,
              "#d8576b"
             ],
             [
              0.6666666666666666,
              "#ed7953"
             ],
             [
              0.7777777777777778,
              "#fb9f3a"
             ],
             [
              0.8888888888888888,
              "#fdca26"
             ],
             [
              1,
              "#f0f921"
             ]
            ],
            "type": "heatmapgl"
           }
          ],
          "histogram": [
           {
            "marker": {
             "pattern": {
              "fillmode": "overlay",
              "size": 10,
              "solidity": 0.2
             }
            },
            "type": "histogram"
           }
          ],
          "histogram2d": [
           {
            "colorbar": {
             "outlinewidth": 0,
             "ticks": ""
            },
            "colorscale": [
             [
              0,
              "#0d0887"
             ],
             [
              0.1111111111111111,
              "#46039f"
             ],
             [
              0.2222222222222222,
              "#7201a8"
             ],
             [
              0.3333333333333333,
              "#9c179e"
             ],
             [
              0.4444444444444444,
              "#bd3786"
             ],
             [
              0.5555555555555556,
              "#d8576b"
             ],
             [
              0.6666666666666666,
              "#ed7953"
             ],
             [
              0.7777777777777778,
              "#fb9f3a"
             ],
             [
              0.8888888888888888,
              "#fdca26"
             ],
             [
              1,
              "#f0f921"
             ]
            ],
            "type": "histogram2d"
           }
          ],
          "histogram2dcontour": [
           {
            "colorbar": {
             "outlinewidth": 0,
             "ticks": ""
            },
            "colorscale": [
             [
              0,
              "#0d0887"
             ],
             [
              0.1111111111111111,
              "#46039f"
             ],
             [
              0.2222222222222222,
              "#7201a8"
             ],
             [
              0.3333333333333333,
              "#9c179e"
             ],
             [
              0.4444444444444444,
              "#bd3786"
             ],
             [
              0.5555555555555556,
              "#d8576b"
             ],
             [
              0.6666666666666666,
              "#ed7953"
             ],
             [
              0.7777777777777778,
              "#fb9f3a"
             ],
             [
              0.8888888888888888,
              "#fdca26"
             ],
             [
              1,
              "#f0f921"
             ]
            ],
            "type": "histogram2dcontour"
           }
          ],
          "mesh3d": [
           {
            "colorbar": {
             "outlinewidth": 0,
             "ticks": ""
            },
            "type": "mesh3d"
           }
          ],
          "parcoords": [
           {
            "line": {
             "colorbar": {
              "outlinewidth": 0,
              "ticks": ""
             }
            },
            "type": "parcoords"
           }
          ],
          "pie": [
           {
            "automargin": true,
            "type": "pie"
           }
          ],
          "scatter": [
           {
            "fillpattern": {
             "fillmode": "overlay",
             "size": 10,
             "solidity": 0.2
            },
            "type": "scatter"
           }
          ],
          "scatter3d": [
           {
            "line": {
             "colorbar": {
              "outlinewidth": 0,
              "ticks": ""
             }
            },
            "marker": {
             "colorbar": {
              "outlinewidth": 0,
              "ticks": ""
             }
            },
            "type": "scatter3d"
           }
          ],
          "scattercarpet": [
           {
            "marker": {
             "colorbar": {
              "outlinewidth": 0,
              "ticks": ""
             }
            },
            "type": "scattercarpet"
           }
          ],
          "scattergeo": [
           {
            "marker": {
             "colorbar": {
              "outlinewidth": 0,
              "ticks": ""
             }
            },
            "type": "scattergeo"
           }
          ],
          "scattergl": [
           {
            "marker": {
             "colorbar": {
              "outlinewidth": 0,
              "ticks": ""
             }
            },
            "type": "scattergl"
           }
          ],
          "scattermapbox": [
           {
            "marker": {
             "colorbar": {
              "outlinewidth": 0,
              "ticks": ""
             }
            },
            "type": "scattermapbox"
           }
          ],
          "scatterpolar": [
           {
            "marker": {
             "colorbar": {
              "outlinewidth": 0,
              "ticks": ""
             }
            },
            "type": "scatterpolar"
           }
          ],
          "scatterpolargl": [
           {
            "marker": {
             "colorbar": {
              "outlinewidth": 0,
              "ticks": ""
             }
            },
            "type": "scatterpolargl"
           }
          ],
          "scatterternary": [
           {
            "marker": {
             "colorbar": {
              "outlinewidth": 0,
              "ticks": ""
             }
            },
            "type": "scatterternary"
           }
          ],
          "surface": [
           {
            "colorbar": {
             "outlinewidth": 0,
             "ticks": ""
            },
            "colorscale": [
             [
              0,
              "#0d0887"
             ],
             [
              0.1111111111111111,
              "#46039f"
             ],
             [
              0.2222222222222222,
              "#7201a8"
             ],
             [
              0.3333333333333333,
              "#9c179e"
             ],
             [
              0.4444444444444444,
              "#bd3786"
             ],
             [
              0.5555555555555556,
              "#d8576b"
             ],
             [
              0.6666666666666666,
              "#ed7953"
             ],
             [
              0.7777777777777778,
              "#fb9f3a"
             ],
             [
              0.8888888888888888,
              "#fdca26"
             ],
             [
              1,
              "#f0f921"
             ]
            ],
            "type": "surface"
           }
          ],
          "table": [
           {
            "cells": {
             "fill": {
              "color": "#EBF0F8"
             },
             "line": {
              "color": "white"
             }
            },
            "header": {
             "fill": {
              "color": "#C8D4E3"
             },
             "line": {
              "color": "white"
             }
            },
            "type": "table"
           }
          ]
         },
         "layout": {
          "annotationdefaults": {
           "arrowcolor": "#2a3f5f",
           "arrowhead": 0,
           "arrowwidth": 1
          },
          "autotypenumbers": "strict",
          "coloraxis": {
           "colorbar": {
            "outlinewidth": 0,
            "ticks": ""
           }
          },
          "colorscale": {
           "diverging": [
            [
             0,
             "#8e0152"
            ],
            [
             0.1,
             "#c51b7d"
            ],
            [
             0.2,
             "#de77ae"
            ],
            [
             0.3,
             "#f1b6da"
            ],
            [
             0.4,
             "#fde0ef"
            ],
            [
             0.5,
             "#f7f7f7"
            ],
            [
             0.6,
             "#e6f5d0"
            ],
            [
             0.7,
             "#b8e186"
            ],
            [
             0.8,
             "#7fbc41"
            ],
            [
             0.9,
             "#4d9221"
            ],
            [
             1,
             "#276419"
            ]
           ],
           "sequential": [
            [
             0,
             "#0d0887"
            ],
            [
             0.1111111111111111,
             "#46039f"
            ],
            [
             0.2222222222222222,
             "#7201a8"
            ],
            [
             0.3333333333333333,
             "#9c179e"
            ],
            [
             0.4444444444444444,
             "#bd3786"
            ],
            [
             0.5555555555555556,
             "#d8576b"
            ],
            [
             0.6666666666666666,
             "#ed7953"
            ],
            [
             0.7777777777777778,
             "#fb9f3a"
            ],
            [
             0.8888888888888888,
             "#fdca26"
            ],
            [
             1,
             "#f0f921"
            ]
           ],
           "sequentialminus": [
            [
             0,
             "#0d0887"
            ],
            [
             0.1111111111111111,
             "#46039f"
            ],
            [
             0.2222222222222222,
             "#7201a8"
            ],
            [
             0.3333333333333333,
             "#9c179e"
            ],
            [
             0.4444444444444444,
             "#bd3786"
            ],
            [
             0.5555555555555556,
             "#d8576b"
            ],
            [
             0.6666666666666666,
             "#ed7953"
            ],
            [
             0.7777777777777778,
             "#fb9f3a"
            ],
            [
             0.8888888888888888,
             "#fdca26"
            ],
            [
             1,
             "#f0f921"
            ]
           ]
          },
          "colorway": [
           "#636efa",
           "#EF553B",
           "#00cc96",
           "#ab63fa",
           "#FFA15A",
           "#19d3f3",
           "#FF6692",
           "#B6E880",
           "#FF97FF",
           "#FECB52"
          ],
          "font": {
           "color": "#2a3f5f"
          },
          "geo": {
           "bgcolor": "white",
           "lakecolor": "white",
           "landcolor": "#E5ECF6",
           "showlakes": true,
           "showland": true,
           "subunitcolor": "white"
          },
          "hoverlabel": {
           "align": "left"
          },
          "hovermode": "closest",
          "mapbox": {
           "style": "light"
          },
          "paper_bgcolor": "white",
          "plot_bgcolor": "#E5ECF6",
          "polar": {
           "angularaxis": {
            "gridcolor": "white",
            "linecolor": "white",
            "ticks": ""
           },
           "bgcolor": "#E5ECF6",
           "radialaxis": {
            "gridcolor": "white",
            "linecolor": "white",
            "ticks": ""
           }
          },
          "scene": {
           "xaxis": {
            "backgroundcolor": "#E5ECF6",
            "gridcolor": "white",
            "gridwidth": 2,
            "linecolor": "white",
            "showbackground": true,
            "ticks": "",
            "zerolinecolor": "white"
           },
           "yaxis": {
            "backgroundcolor": "#E5ECF6",
            "gridcolor": "white",
            "gridwidth": 2,
            "linecolor": "white",
            "showbackground": true,
            "ticks": "",
            "zerolinecolor": "white"
           },
           "zaxis": {
            "backgroundcolor": "#E5ECF6",
            "gridcolor": "white",
            "gridwidth": 2,
            "linecolor": "white",
            "showbackground": true,
            "ticks": "",
            "zerolinecolor": "white"
           }
          },
          "shapedefaults": {
           "line": {
            "color": "#2a3f5f"
           }
          },
          "ternary": {
           "aaxis": {
            "gridcolor": "white",
            "linecolor": "white",
            "ticks": ""
           },
           "baxis": {
            "gridcolor": "white",
            "linecolor": "white",
            "ticks": ""
           },
           "bgcolor": "#E5ECF6",
           "caxis": {
            "gridcolor": "white",
            "linecolor": "white",
            "ticks": ""
           }
          },
          "title": {
           "x": 0.05
          },
          "xaxis": {
           "automargin": true,
           "gridcolor": "white",
           "linecolor": "white",
           "ticks": "",
           "title": {
            "standoff": 15
           },
           "zerolinecolor": "white",
           "zerolinewidth": 2
          },
          "yaxis": {
           "automargin": true,
           "gridcolor": "white",
           "linecolor": "white",
           "ticks": "",
           "title": {
            "standoff": 15
           },
           "zerolinecolor": "white",
           "zerolinewidth": 2
          }
         }
        },
        "xaxis": {
         "anchor": "y",
         "domain": [
          0,
          1
         ],
         "title": {
          "text": "index"
         }
        },
        "yaxis": {
         "anchor": "x",
         "domain": [
          0,
          1
         ],
         "title": {
          "text": "notificationsXgender_male"
         }
        }
       }
      }
     },
     "metadata": {},
     "output_type": "display_data"
    }
   ],
   "source": [
    "notif_1 = px.line(\n",
    "    derived_df_0,\n",
    "    x=derived_df_0.index,\n",
    "    y=\"notificationsXgender_male\",\n",
    ")\n",
    "# notif_2 = px.scatter(x= plots['notifications']['times'], y = plots['notifications']['values'])\n",
    "# notif_2.update_traces(marker=dict(color=\"red\"))\n",
    "# notif_plot = go.Figure(\n",
    "#     data=notif_1.data + notif_2.data,\n",
    "# )\n",
    "# notif_plot.update_layout(\n",
    "#     title=\"Modelled vs Data\", title_x=0.5, xaxis_title=\"Year\", yaxis_title=\"Notifications\"\n",
    "# )\n",
    "notif_1.show()"
   ]
  },
  {
   "cell_type": "code",
   "execution_count": 17,
   "metadata": {},
   "outputs": [
    {
     "data": {
      "application/vnd.plotly.v1+json": {
       "config": {
        "plotlyServerURL": "https://plot.ly"
       },
       "data": [
        {
         "hovertemplate": "index=%{x}<br>incidence=%{y}<extra></extra>",
         "legendgroup": "",
         "line": {
          "color": "#636efa",
          "dash": "solid"
         },
         "marker": {
          "symbol": "circle"
         },
         "mode": "lines",
         "name": "",
         "showlegend": false,
         "type": "scattergl",
         "x": [
          1900,
          1900.1,
          1900.2,
          1900.3,
          1900.4,
          1900.5,
          1900.6,
          1900.7,
          1900.8,
          1900.9,
          1901,
          1901.1,
          1901.2,
          1901.3,
          1901.4,
          1901.5,
          1901.6,
          1901.7,
          1901.8,
          1901.9,
          1902,
          1902.1,
          1902.2,
          1902.3,
          1902.4,
          1902.5,
          1902.6,
          1902.7,
          1902.8,
          1902.9,
          1903,
          1903.1,
          1903.2,
          1903.3,
          1903.4,
          1903.5,
          1903.6,
          1903.7,
          1903.8,
          1903.9,
          1904,
          1904.1,
          1904.2,
          1904.3,
          1904.4,
          1904.5,
          1904.6,
          1904.7,
          1904.8,
          1904.9,
          1905,
          1905.1,
          1905.2,
          1905.3,
          1905.4,
          1905.5,
          1905.6,
          1905.7,
          1905.8,
          1905.9,
          1906,
          1906.1,
          1906.2,
          1906.3,
          1906.4,
          1906.5,
          1906.6,
          1906.7,
          1906.8,
          1906.9,
          1907,
          1907.1,
          1907.2,
          1907.3,
          1907.4,
          1907.5,
          1907.6,
          1907.7,
          1907.8,
          1907.9,
          1908,
          1908.1,
          1908.2,
          1908.3,
          1908.4,
          1908.5,
          1908.6,
          1908.7,
          1908.8,
          1908.9,
          1909,
          1909.1,
          1909.2,
          1909.3,
          1909.4,
          1909.5,
          1909.6,
          1909.7,
          1909.8,
          1909.9,
          1910,
          1910.1,
          1910.2,
          1910.3,
          1910.4,
          1910.5,
          1910.6,
          1910.7,
          1910.8,
          1910.9,
          1911,
          1911.1,
          1911.2,
          1911.3,
          1911.4,
          1911.5,
          1911.6,
          1911.7,
          1911.8,
          1911.9,
          1912,
          1912.1,
          1912.2,
          1912.3,
          1912.4,
          1912.5,
          1912.6,
          1912.7,
          1912.8,
          1912.9,
          1913,
          1913.1,
          1913.2,
          1913.3,
          1913.4,
          1913.5,
          1913.6,
          1913.7,
          1913.8,
          1913.9,
          1914,
          1914.1,
          1914.2,
          1914.3,
          1914.4,
          1914.5,
          1914.6,
          1914.7,
          1914.8,
          1914.9,
          1915,
          1915.1,
          1915.2,
          1915.3,
          1915.4,
          1915.5,
          1915.6,
          1915.7,
          1915.8,
          1915.9,
          1916,
          1916.1,
          1916.2,
          1916.3,
          1916.4,
          1916.5,
          1916.6,
          1916.7,
          1916.8,
          1916.9,
          1917,
          1917.1,
          1917.2,
          1917.3,
          1917.4,
          1917.5,
          1917.6,
          1917.7,
          1917.8,
          1917.9,
          1918,
          1918.1,
          1918.2,
          1918.3,
          1918.4,
          1918.5,
          1918.6,
          1918.7,
          1918.8,
          1918.9,
          1919,
          1919.1,
          1919.2,
          1919.3,
          1919.4,
          1919.5,
          1919.6,
          1919.7,
          1919.8,
          1919.9,
          1920,
          1920.1,
          1920.2,
          1920.3,
          1920.4,
          1920.5,
          1920.6,
          1920.7,
          1920.8,
          1920.9,
          1921,
          1921.1,
          1921.2,
          1921.3,
          1921.4,
          1921.5,
          1921.6,
          1921.7,
          1921.8,
          1921.9,
          1922,
          1922.1,
          1922.2,
          1922.3,
          1922.4,
          1922.5,
          1922.6,
          1922.7,
          1922.8,
          1922.9,
          1923,
          1923.1,
          1923.2,
          1923.3,
          1923.4,
          1923.5,
          1923.6,
          1923.7,
          1923.8,
          1923.9,
          1924,
          1924.1,
          1924.2,
          1924.3,
          1924.4,
          1924.5,
          1924.6,
          1924.7,
          1924.8,
          1924.9,
          1925,
          1925.1,
          1925.2,
          1925.3,
          1925.4,
          1925.5,
          1925.6,
          1925.7,
          1925.8,
          1925.9,
          1926,
          1926.1,
          1926.2,
          1926.3,
          1926.4,
          1926.5,
          1926.6,
          1926.7,
          1926.8,
          1926.9,
          1927,
          1927.1,
          1927.2,
          1927.3,
          1927.4,
          1927.5,
          1927.6,
          1927.7,
          1927.8,
          1927.9,
          1928,
          1928.1,
          1928.2,
          1928.3,
          1928.4,
          1928.5,
          1928.6,
          1928.7,
          1928.8,
          1928.9,
          1929,
          1929.1,
          1929.2,
          1929.3,
          1929.4,
          1929.5,
          1929.6,
          1929.7,
          1929.8,
          1929.9,
          1930,
          1930.1,
          1930.2,
          1930.3,
          1930.4,
          1930.5,
          1930.6,
          1930.7,
          1930.8,
          1930.9,
          1931,
          1931.1,
          1931.2,
          1931.3,
          1931.4,
          1931.5,
          1931.6,
          1931.7,
          1931.8,
          1931.9,
          1932,
          1932.1,
          1932.2,
          1932.3,
          1932.4,
          1932.5,
          1932.6,
          1932.7,
          1932.8,
          1932.9,
          1933,
          1933.1,
          1933.2,
          1933.3,
          1933.4,
          1933.5,
          1933.6,
          1933.7,
          1933.8,
          1933.9,
          1934,
          1934.1,
          1934.2,
          1934.3,
          1934.4,
          1934.5,
          1934.6,
          1934.7,
          1934.8,
          1934.9,
          1935,
          1935.1,
          1935.2,
          1935.3,
          1935.4,
          1935.5,
          1935.6,
          1935.7,
          1935.8,
          1935.9,
          1936,
          1936.1,
          1936.2,
          1936.3,
          1936.4,
          1936.5,
          1936.6,
          1936.7,
          1936.8,
          1936.9,
          1937,
          1937.1,
          1937.2,
          1937.3,
          1937.4,
          1937.5,
          1937.6,
          1937.7,
          1937.8,
          1937.9,
          1938,
          1938.1,
          1938.2,
          1938.3,
          1938.4,
          1938.5,
          1938.6,
          1938.7,
          1938.8,
          1938.9,
          1939,
          1939.1,
          1939.2,
          1939.3,
          1939.4,
          1939.5,
          1939.6,
          1939.7,
          1939.8,
          1939.9,
          1940,
          1940.1,
          1940.2,
          1940.3,
          1940.4,
          1940.5,
          1940.6,
          1940.7,
          1940.8,
          1940.9,
          1941,
          1941.1,
          1941.2,
          1941.3,
          1941.4,
          1941.5,
          1941.6,
          1941.7,
          1941.8,
          1941.9,
          1942,
          1942.1,
          1942.2,
          1942.3,
          1942.4,
          1942.5,
          1942.6,
          1942.7,
          1942.8,
          1942.9,
          1943,
          1943.1,
          1943.2,
          1943.3,
          1943.4,
          1943.5,
          1943.6,
          1943.7,
          1943.8,
          1943.9,
          1944,
          1944.1,
          1944.2,
          1944.3,
          1944.4,
          1944.5,
          1944.6,
          1944.7,
          1944.8,
          1944.9,
          1945,
          1945.1,
          1945.2,
          1945.3,
          1945.4,
          1945.5,
          1945.6,
          1945.7,
          1945.8,
          1945.9,
          1946,
          1946.1,
          1946.2,
          1946.3,
          1946.4,
          1946.5,
          1946.6,
          1946.7,
          1946.8,
          1946.9,
          1947,
          1947.1,
          1947.2,
          1947.3,
          1947.4,
          1947.5,
          1947.6,
          1947.7,
          1947.8,
          1947.9,
          1948,
          1948.1,
          1948.2,
          1948.3,
          1948.4,
          1948.5,
          1948.6,
          1948.7,
          1948.8,
          1948.9,
          1949,
          1949.1,
          1949.2,
          1949.3,
          1949.4,
          1949.5,
          1949.6,
          1949.7,
          1949.8,
          1949.9,
          1950,
          1950.1,
          1950.2,
          1950.3,
          1950.4,
          1950.5,
          1950.6,
          1950.7,
          1950.8,
          1950.9,
          1951,
          1951.1,
          1951.2,
          1951.3,
          1951.4,
          1951.5,
          1951.6,
          1951.7,
          1951.8,
          1951.9,
          1952,
          1952.1,
          1952.2,
          1952.3,
          1952.4,
          1952.5,
          1952.6,
          1952.7,
          1952.8,
          1952.9,
          1953,
          1953.1,
          1953.2,
          1953.3,
          1953.4,
          1953.5,
          1953.6,
          1953.7,
          1953.8,
          1953.9,
          1954,
          1954.1,
          1954.2,
          1954.3,
          1954.4,
          1954.5,
          1954.6,
          1954.7,
          1954.8,
          1954.9,
          1955,
          1955.1,
          1955.2,
          1955.3,
          1955.4,
          1955.5,
          1955.6,
          1955.7,
          1955.8,
          1955.9,
          1956,
          1956.1,
          1956.2,
          1956.3,
          1956.4,
          1956.5,
          1956.6,
          1956.7,
          1956.8,
          1956.9,
          1957,
          1957.1,
          1957.2,
          1957.3,
          1957.4,
          1957.5,
          1957.6,
          1957.7,
          1957.8,
          1957.9,
          1958,
          1958.1,
          1958.2,
          1958.3,
          1958.4,
          1958.5,
          1958.6,
          1958.7,
          1958.8,
          1958.9,
          1959,
          1959.1,
          1959.2,
          1959.3,
          1959.4,
          1959.5,
          1959.6,
          1959.7,
          1959.8,
          1959.9,
          1960,
          1960.1,
          1960.2,
          1960.3,
          1960.4,
          1960.5,
          1960.6,
          1960.7,
          1960.8,
          1960.9,
          1961,
          1961.1,
          1961.2,
          1961.3,
          1961.4,
          1961.5,
          1961.6,
          1961.7,
          1961.8,
          1961.9,
          1962,
          1962.1,
          1962.2,
          1962.3,
          1962.4,
          1962.5,
          1962.6,
          1962.7,
          1962.8,
          1962.9,
          1963,
          1963.1,
          1963.2,
          1963.3,
          1963.4,
          1963.5,
          1963.6,
          1963.7,
          1963.8,
          1963.9,
          1964,
          1964.1,
          1964.2,
          1964.3,
          1964.4,
          1964.5,
          1964.6,
          1964.7,
          1964.8,
          1964.9,
          1965,
          1965.1,
          1965.2,
          1965.3,
          1965.4,
          1965.5,
          1965.6,
          1965.7,
          1965.8,
          1965.9,
          1966,
          1966.1,
          1966.2,
          1966.3,
          1966.4,
          1966.5,
          1966.6,
          1966.7,
          1966.8,
          1966.9,
          1967,
          1967.1,
          1967.2,
          1967.3,
          1967.4,
          1967.5,
          1967.6,
          1967.7,
          1967.8,
          1967.9,
          1968,
          1968.1,
          1968.2,
          1968.3,
          1968.4,
          1968.5,
          1968.6,
          1968.7,
          1968.8,
          1968.9,
          1969,
          1969.1,
          1969.2,
          1969.3,
          1969.4,
          1969.5,
          1969.6,
          1969.7,
          1969.8,
          1969.9,
          1970,
          1970.1,
          1970.2,
          1970.3,
          1970.4,
          1970.5,
          1970.6,
          1970.7,
          1970.8,
          1970.9,
          1971,
          1971.1,
          1971.2,
          1971.3,
          1971.4,
          1971.5,
          1971.6,
          1971.7,
          1971.8,
          1971.9,
          1972,
          1972.1,
          1972.2,
          1972.3,
          1972.4,
          1972.5,
          1972.6,
          1972.7,
          1972.8,
          1972.9,
          1973,
          1973.1,
          1973.2,
          1973.3,
          1973.4,
          1973.5,
          1973.6,
          1973.7,
          1973.8,
          1973.9,
          1974,
          1974.1,
          1974.2,
          1974.3,
          1974.4,
          1974.5,
          1974.6,
          1974.7,
          1974.8,
          1974.9,
          1975,
          1975.1,
          1975.2,
          1975.3,
          1975.4,
          1975.5,
          1975.6,
          1975.7,
          1975.8,
          1975.9,
          1976,
          1976.1,
          1976.2,
          1976.3,
          1976.4,
          1976.5,
          1976.6,
          1976.7,
          1976.8,
          1976.9,
          1977,
          1977.1,
          1977.2,
          1977.3,
          1977.4,
          1977.5,
          1977.6,
          1977.7,
          1977.8,
          1977.9,
          1978,
          1978.1,
          1978.2,
          1978.3,
          1978.4,
          1978.5,
          1978.6,
          1978.7,
          1978.8,
          1978.9,
          1979,
          1979.1,
          1979.2,
          1979.3,
          1979.4,
          1979.5,
          1979.6,
          1979.7,
          1979.8,
          1979.9,
          1980,
          1980.1,
          1980.2,
          1980.3,
          1980.4,
          1980.5,
          1980.6,
          1980.7,
          1980.8,
          1980.9,
          1981,
          1981.1,
          1981.2,
          1981.3,
          1981.4,
          1981.5,
          1981.6,
          1981.7,
          1981.8,
          1981.9,
          1982,
          1982.1,
          1982.2,
          1982.3,
          1982.4,
          1982.5,
          1982.6,
          1982.7,
          1982.8,
          1982.9,
          1983,
          1983.1,
          1983.2,
          1983.3,
          1983.4,
          1983.5,
          1983.6,
          1983.7,
          1983.8,
          1983.9,
          1984,
          1984.1,
          1984.2,
          1984.3,
          1984.4,
          1984.5,
          1984.6,
          1984.7,
          1984.8,
          1984.9,
          1985,
          1985.1,
          1985.2,
          1985.3,
          1985.4,
          1985.5,
          1985.6,
          1985.7,
          1985.8,
          1985.9,
          1986,
          1986.1,
          1986.2,
          1986.3,
          1986.4,
          1986.5,
          1986.6,
          1986.7,
          1986.8,
          1986.9,
          1987,
          1987.1,
          1987.2,
          1987.3,
          1987.4,
          1987.5,
          1987.6,
          1987.7,
          1987.8,
          1987.9,
          1988,
          1988.1,
          1988.2,
          1988.3,
          1988.4,
          1988.5,
          1988.6,
          1988.7,
          1988.8,
          1988.9,
          1989,
          1989.1,
          1989.2,
          1989.3,
          1989.4,
          1989.5,
          1989.6,
          1989.7,
          1989.8,
          1989.9,
          1990,
          1990.1,
          1990.2,
          1990.3,
          1990.4,
          1990.5,
          1990.6,
          1990.7,
          1990.8,
          1990.9,
          1991,
          1991.1,
          1991.2,
          1991.3,
          1991.4,
          1991.5,
          1991.6,
          1991.7,
          1991.8,
          1991.9,
          1992,
          1992.1,
          1992.2,
          1992.3,
          1992.4,
          1992.5,
          1992.6,
          1992.7,
          1992.8,
          1992.9,
          1993,
          1993.1,
          1993.2,
          1993.3,
          1993.4,
          1993.5,
          1993.6,
          1993.7,
          1993.8,
          1993.9,
          1994,
          1994.1,
          1994.2,
          1994.3,
          1994.4,
          1994.5,
          1994.6,
          1994.7,
          1994.8,
          1994.9,
          1995,
          1995.1,
          1995.2,
          1995.3,
          1995.4,
          1995.5,
          1995.6,
          1995.7,
          1995.8,
          1995.9,
          1996,
          1996.1,
          1996.2,
          1996.3,
          1996.4,
          1996.5,
          1996.6,
          1996.7,
          1996.8,
          1996.9,
          1997,
          1997.1,
          1997.2,
          1997.3,
          1997.4,
          1997.5,
          1997.6,
          1997.7,
          1997.8,
          1997.9,
          1998,
          1998.1,
          1998.2,
          1998.3,
          1998.4,
          1998.5,
          1998.6,
          1998.7,
          1998.8,
          1998.9,
          1999,
          1999.1,
          1999.2,
          1999.3,
          1999.4,
          1999.5,
          1999.6,
          1999.7,
          1999.8,
          1999.9,
          2000,
          2000.1,
          2000.2,
          2000.3,
          2000.4,
          2000.5,
          2000.6,
          2000.7,
          2000.8,
          2000.9,
          2001,
          2001.1,
          2001.2,
          2001.3,
          2001.4,
          2001.5,
          2001.6,
          2001.7,
          2001.8,
          2001.9,
          2002,
          2002.1,
          2002.2,
          2002.3,
          2002.4,
          2002.5,
          2002.6,
          2002.7,
          2002.8,
          2002.9,
          2003,
          2003.1,
          2003.2,
          2003.3,
          2003.4,
          2003.5,
          2003.6,
          2003.7,
          2003.8,
          2003.9,
          2004,
          2004.1,
          2004.2,
          2004.3,
          2004.4,
          2004.5,
          2004.6,
          2004.7,
          2004.8,
          2004.9,
          2005,
          2005.1,
          2005.2,
          2005.3,
          2005.4,
          2005.5,
          2005.6,
          2005.7,
          2005.8,
          2005.9,
          2006,
          2006.1,
          2006.2,
          2006.3,
          2006.4,
          2006.5,
          2006.6,
          2006.7,
          2006.8,
          2006.9,
          2007,
          2007.1,
          2007.2,
          2007.3,
          2007.4,
          2007.5,
          2007.6,
          2007.7,
          2007.8,
          2007.9,
          2008,
          2008.1,
          2008.2,
          2008.3,
          2008.4,
          2008.5,
          2008.6,
          2008.7,
          2008.8,
          2008.9,
          2009,
          2009.1,
          2009.2,
          2009.3,
          2009.4,
          2009.5,
          2009.6,
          2009.7,
          2009.8,
          2009.9,
          2010,
          2010.1,
          2010.2,
          2010.3,
          2010.4,
          2010.5,
          2010.6,
          2010.7,
          2010.8,
          2010.9,
          2011,
          2011.1,
          2011.2,
          2011.3,
          2011.4,
          2011.5,
          2011.6,
          2011.7,
          2011.8,
          2011.9,
          2012,
          2012.1,
          2012.2,
          2012.3,
          2012.4,
          2012.5,
          2012.6,
          2012.7,
          2012.8,
          2012.9,
          2013,
          2013.1,
          2013.2,
          2013.3,
          2013.4,
          2013.5,
          2013.6,
          2013.7,
          2013.8,
          2013.9,
          2014,
          2014.1,
          2014.2,
          2014.3,
          2014.4,
          2014.5,
          2014.6,
          2014.7,
          2014.8,
          2014.9,
          2015,
          2015.1,
          2015.2,
          2015.3,
          2015.4,
          2015.5,
          2015.6,
          2015.7,
          2015.8,
          2015.9,
          2016,
          2016.1,
          2016.2,
          2016.3,
          2016.4,
          2016.5,
          2016.6,
          2016.7,
          2016.8,
          2016.9,
          2017,
          2017.1,
          2017.2,
          2017.3,
          2017.4,
          2017.5,
          2017.6,
          2017.7,
          2017.8,
          2017.9,
          2018,
          2018.1,
          2018.2,
          2018.3,
          2018.4,
          2018.5,
          2018.6,
          2018.7,
          2018.8,
          2018.9,
          2019,
          2019.1,
          2019.2,
          2019.3,
          2019.4,
          2019.5,
          2019.6,
          2019.7,
          2019.8,
          2019.9,
          2020
         ],
         "xaxis": "x",
         "y": [
          0,
          0.3678581215167069,
          0.9398992635956841,
          1.2526789656793234,
          1.4400545470387809,
          1.5668427599248145,
          1.649600651059864,
          1.7120590380324856,
          1.7593536094499747,
          1.7954342042400446,
          1.830111218089529,
          1.8643452472939963,
          1.8935883504983717,
          1.9188693515401254,
          1.9465224879647784,
          1.980240473469161,
          2.0140527643970567,
          2.0408176049523874,
          2.0604822396733025,
          2.080422693934861,
          2.1122343630087164,
          2.1535011106242044,
          2.1888984054219316,
          2.21275618384797,
          2.2353800516399094,
          2.27329497290187,
          2.320955579624879,
          2.3581227129399527,
          2.3801002951165615,
          2.401929487269931,
          2.443547291010594,
          2.4955662914369836,
          2.5354389544109224,
          2.562968134097426,
          2.597996310058978,
          2.6488621576049445,
          2.6986803194624316,
          2.7360909721729065,
          2.769211803929228,
          2.816020453080273,
          2.8738094312721603,
          2.923636423572365,
          2.960867791949894,
          2.9989673465028814,
          3.0552323744120917,
          3.1206104214676875,
          3.1732643899526742,
          3.2107967355137954,
          3.2527095759981504,
          3.31867355852377,
          3.393434497670147,
          3.449759851205095,
          3.4871342420813534,
          3.533126521145973,
          3.605024751146119,
          3.680896670003734,
          3.7406581029721186,
          3.79449372244445,
          3.8627147135777764,
          3.94017265475364,
          4.009570740207364,
          4.071950932911995,
          4.141730461782855,
          4.223170848464994,
          4.302984781651137,
          4.373173400646456,
          4.439986581855325,
          4.520232616368912,
          4.6154362204144554,
          4.705681678683626,
          4.77890497516733,
          4.843823641882549,
          4.926094916340269,
          5.029340225369546,
          5.128761767699033,
          5.213618621609284,
          5.298949217169547,
          5.400403122391858,
          5.507608835171031,
          5.605721801497127,
          5.698414760661586,
          5.801740083925402,
          5.917755935434071,
          6.030664778957981,
          6.13304120067568,
          6.233367438921344,
          6.350365997035037,
          6.482961214166749,
          6.608581086066742,
          6.716787920270689,
          6.8198627017204085,
          6.94464451344028,
          7.08897883116848,
          7.225909962282733,
          7.349364302963513,
          7.4780056248554665,
          7.624144384841679,
          7.773589814942736,
          7.913792055370522,
          8.05126172515366,
          8.202390885232429,
          8.36560773795845,
          8.524018256326539,
          8.672844047842965,
          8.82344096007108,
          8.993705045969286,
          9.177558379878134,
          9.351792224948253,
          9.510014830106636,
          9.668648548319302,
          9.852682133716039,
          10.053435844530819,
          10.244142955750128,
          10.423695568554578,
          10.613540743832399,
          10.821928020599062,
          11.031396770206221,
          11.2320384500842,
          11.433282714693268,
          11.651244187840634,
          11.880894858808478,
          12.104754535848583,
          12.320280281556657,
          12.54176893393112,
          12.78580160249792,
          13.041853614177237,
          13.286767684908238,
          13.517588911496013,
          13.754939826145202,
          14.020679751081731,
          14.300318891261474,
          14.568759499462335,
          14.829164386040814,
          15.105030580479607,
          15.400499498877869,
          15.695502228527474,
          15.98278234535273,
          16.274802917240965,
          16.586728689790576,
          16.91004450796084,
          17.227323226853702,
          17.538273334239772,
          17.860184559524104,
          18.207649419662815,
          18.56577372520972,
          18.912085895953595,
          19.247074366609862,
          19.59547902383545,
          19.97518329697596,
          20.366340446924774,
          20.74632147056237,
          21.122330052695695,
          21.519307188663113,
          21.937264111797845,
          22.35404601159449,
          22.764940761453726,
          23.18551557129655,
          23.629802339313585,
          24.085785313915636,
          24.5361938569527,
          24.983038030119722,
          25.44671139048014,
          25.9396021511209,
          26.44250763574509,
          26.933763299776572,
          27.41730880289528,
          27.921875039473413,
          28.461362464852602,
          29.010839801334182,
          29.55006709436144,
          30.09044296103365,
          30.658030640834177,
          31.248717793473702,
          31.838532155108386,
          32.42512253674831,
          33.02739896714133,
          33.65830692794755,
          34.30216691358421,
          34.9416994192933,
          35.581356711325185,
          36.24495480270341,
          36.942662659902226,
          37.65076993979846,
          38.34821764604127,
          39.04257131243377,
          39.76677361359649,
          40.53087626540112,
          41.30475620793168,
          42.0702180217697,
          42.84326164242001,
          43.65112908490181,
          44.48547784125749,
          45.32040560285173,
          46.155739266090244,
          47.01427774080001,
          47.908157183252655,
          48.8175938517026,
          49.72482631203703,
          50.63700779907321,
          51.58206882680661,
          52.56811926131329,
          53.566329803885,
          54.55571223455637,
          55.54785251287357,
          56.58065023093696,
          57.66049415175012,
          58.75140626663772,
          59.836677694114435,
          60.937654650446724,
          62.08333698884926,
          63.26080553361007,
          64.44156975455702,
          65.6275348653061,
          66.84639658150589,
          68.10998267503965,
          69.3935366249492,
          70.6780040559477,
          71.97367695066723,
          73.31383922161106,
          74.70481407683374,
          76.11144809691834,
          77.51196220947337,
          78.92266754274947,
          80.39030471250881,
          81.92306574957674,
          83.46962467041278,
          84.9973902810592,
          86.52981553174953,
          88.13058274006413,
          89.80139311525546,
          91.48429407695538,
          93.16558389326522,
          94.88322675288823,
          96.65837398409303,
          98.46379851076385,
          100.28172126115541,
          102.1281623430177,
          104.02782701198608,
          105.97173053472908,
          107.93391628020144,
          109.91220072041853,
          111.93054992256607,
          114.01887960969209,
          116.16009643908676,
          118.309273091866,
          120.45599085819742,
          122.63451309738662,
          124.90150046359261,
          127.24363505701263,
          129.60071993672398,
          131.9656704362242,
          134.3844176093718,
          136.87869991913672,
          139.41340497715584,
          141.96648716185354,
          144.5575579670247,
          147.22233266938377,
          149.95205218728614,
          152.7085075487211,
          155.48451160126885,
          158.310430576483,
          161.2310598581839,
          164.2296350018065,
          167.24494686909375,
          170.25921528006688,
          173.3156842824938,
          176.4881767041142,
          179.76015594900815,
          183.05476153262663,
          186.36315030527408,
          189.74423245352656,
          193.22701065687454,
          196.76629383002194,
          200.33215042367806,
          203.94923551601053,
          207.66489028016144,
          211.4690684182924,
          215.31179459212134,
          219.18300230974242,
          223.12163455002297,
          227.1850505710773,
          231.35167980888576,
          235.5441606843049,
          239.74100413291922,
          243.99795309360928,
          248.40687247095917,
          252.94440698223656,
          257.5135421076751,
          262.1041658965183,
          266.7925318570516,
          271.61726050416183,
          276.519122729898,
          281.45654784469417,
          286.4605823998906,
          291.59629353745095,
          296.85335845477607,
          302.16357612371615,
          307.5105900090757,
          312.94478103981197,
          318.5438558549786,
          324.28192560091,
          330.0570463815537,
          335.83996459404176,
          341.70315822892593,
          347.76531631483186,
          353.99497220924167,
          360.2660724413542,
          366.56555348417714,
          372.99356299260745,
          379.60310681452484,
          386.31567674016753,
          393.0725162453835,
          399.9129462063819,
          406.9267032910248,
          414.1037706704097,
          421.3506728927212,
          428.6416504206458,
          436.0424361657934,
          443.65867984888393,
          451.45865253856704,
          459.30664844504713,
          467.1626723505645,
          475.1219345152919,
          483.33938391400653,
          491.7721267913716,
          500.25434419960686,
          508.76880806809936,
          517.4482110593636,
          526.3654021710144,
          535.4152316391546,
          544.5145857213793,
          553.7136674765002,
          563.1362977859558,
          572.773435874345,
          582.4964401592362,
          592.2656519369663,
          602.1675250842718,
          612.3461012736283,
          622.7615585859346,
          633.2318183571415,
          643.7022801102661,
          654.2992848094076,
          665.2259983263118,
          676.4225593695918,
          687.6694772916453,
          698.9446971774584,
          710.4251241923245,
          722.2093536931246,
          734.1551997668073,
          746.1465752703576,
          758.2485950173057,
          770.6310278282195,
          783.2853993998472,
          796.0349849672391,
          808.8213139384118,
          821.7592649693797,
          835.0437718373379,
          848.6219981764592,
          862.2496234186755,
          875.8542899737326,
          889.6055681668088,
          903.7680356556734,
          918.2549086349331,
          932.7764741744157,
          947.3073426886848,
          962.0842270552638,
          977.236030228089,
          992.568731249155,
          1007.9243899764276,
          1023.3897411768556,
          1039.1948568505977,
          1055.328515676402,
          1071.5494295090625,
          1087.7763155121463,
          1104.1639025672025,
          1120.9718489558768,
          1138.124420708685,
          1155.296130572904,
          1172.396419363672,
          1189.655723212404,
          1207.4121886950882,
          1225.5349318854298,
          1243.6465332057253,
          1261.7243584092812,
          1280.0852976458684,
          1298.8886292555678,
          1317.8678734991674,
          1336.8167205369357,
          1355.8549516249325,
          1375.2888367130959,
          1395.0950984341193,
          1414.948276458108,
          1434.7440334575103,
          1454.6940907834542,
          1475.1353123344984,
          1495.950831586272,
          1516.7142071267076,
          1537.3224505955613,
          1558.092306675639,
          1579.4957924271305,
          1601.3487307323983,
          1623.0288023981711,
          1644.3876260624309,
          1665.8945607255982,
          1688.1268638520962,
          1710.7773582096897,
          1733.2437138639186,
          1755.6054224301308,
          1778.3456313633785,
          1801.4925422332497,
          1824.6468426020856,
          1847.7365756859415,
          1871.0370458828343,
          1894.7329658141007,
          1918.5816844259093,
          1942.3239415416767,
          1966.0251359814079,
          1990.0546959482158,
          2014.6134052681005,
          2039.2951145298462,
          2063.641546559194,
          2087.7076276708403,
          2112.080204920551,
          2137.178207045254,
          2162.511045245121,
          2187.5155261760506,
          2212.3697254248395,
          2237.6436608586837,
          2263.294242573552,
          2288.812298988066,
          2314.1288430627483,
          2339.619432666435,
          2365.5432459523367,
          2391.5653206806196,
          2417.3075715430437,
          2442.8478034331547,
          2468.6952845682645,
          2495.1347275515736,
          2521.6305832325197,
          2547.5829452618327,
          2573.080125292115,
          2598.9049785418692,
          2625.5051906025737,
          2652.203276152308,
          2678.369877799309,
          2704.2923620855786,
          2730.661933780627,
          2757.354409076096,
          2783.7394224634654,
          2809.7767009891886,
          2835.963041068762,
          2862.571158321233,
          2889.1449401394393,
          2915.2575138163756,
          2941.0525903207104,
          2967.179114030042,
          2993.884479836521,
          3020.456701797597,
          3046.2612042107207,
          3071.501190613567,
          3097.1574765243286,
          3123.585327365912,
          3149.8826021532923,
          3175.44236235943,
          3200.719929485115,
          3226.481993531109,
          3252.46151379388,
          3277.9346154843824,
          3302.9262743058703,
          3328.07623973808,
          3353.6360697785667,
          3378.9994470522415,
          3403.7116108630858,
          3428.0132549358145,
          3452.706771748985,
          3477.957354264849,
          3502.855557117193,
          3526.771069097272,
          3550.0656049268764,
          3573.913171208392,
          3598.4988972945507,
          3622.6888579559895,
          3645.9676311378985,
          3669.0050017792473,
          3692.5758306424855,
          3716.2197367529843,
          3739.17377471957,
          3761.5667371774093,
          3784.1827095047834,
          3807.190773207697,
          3829.821985293872,
          3851.6459019599392,
          3873.040300603598,
          3894.938589468573,
          3917.3454945308954,
          3939.160325435359,
          3959.830258886077,
          3979.925892913988,
          4000.757363254254,
          4022.2495343032356,
          4043.0750313162252,
          4062.8878725584104,
          4082.5937184526374,
          4102.8913559399125,
          4123.091433699448,
          4142.457849246292,
          4161.264950036701,
          4180.41483665725,
          4199.929305826818,
          4218.8895490610585,
          4236.943243347755,
          4254.640917447783,
          4272.9905207487,
          4291.766819041074,
          4309.721718258497,
          4326.446790034207,
          4342.762449046093,
          4360.007781762714,
          4377.778431521473,
          4394.644497842876,
          4410.489528359931,
          4426.442291961838,
          4443.0344747196905,
          4459.342179922081,
          4474.72791732265,
          4489.648413374742,
          4505.062641189132,
          4520.7859651890685,
          4535.796181341883,
          4549.867848983439,
          4563.754452492719,
          4578.442180912713,
          4593.42263429545,
          4607.386077315832,
          4620.1215095109765,
          4632.732699648637,
          4646.4277136290675,
          4660.434656472532,
          4673.367906085889,
          4685.375154783616,
          4697.7600567473755,
          4710.800492548471,
          4723.364301900357,
          4734.98076497394,
          4746.3386242085,
          4758.381736532162,
          4770.662994765702,
          4782.109992979848,
          4792.680426683275,
          4803.428979752398,
          4815.230845887054,
          4827.2064130761455,
          4838.088117187869,
          4847.986944848953,
          4858.40510220497,
          4870.304798506967,
          4882.325548759203,
          4892.887934125938,
          4902.225904525816,
          4912.246318153048,
          4923.692587308093,
          4934.919621887575,
          4944.861450484337,
          4954.32541059135,
          4964.5521795275035,
          4975.068016719625,
          4984.771405835078,
          4993.771568546553,
          5003.037666877234,
          5012.837474058744,
          5022.270661252134,
          5030.794664013452,
          5038.809118622915,
          5047.445357694915,
          5056.883328127914,
          5065.800444770729,
          5073.295314271994,
          5079.865917939007,
          5087.242788016618,
          5095.887971446245,
          5104.1797295579145,
          5111.194161774792,
          5117.816450605989,
          5125.263409788193,
          5132.989158465009,
          5139.874681395125,
          5146.05089463437,
          5152.583036456292,
          5159.78298768733,
          5166.647303643081,
          5172.537367654604,
          5177.888109406515,
          5183.973995273625,
          5191.013118544804,
          5197.563357449339,
          5202.659770026054,
          5206.8652259291775,
          5212.0291622394425,
          5218.525222976999,
          5224.60701500485,
          5229.39855559309,
          5233.861889966907,
          5239.2498249455275,
          5244.943349187462,
          5249.7396324523215,
          5253.7710513938355,
          5258.20077465781,
          5263.401163768535,
          5268.256960313511,
          5272.020148387625,
          5275.194165351113,
          5279.236520306672,
          5284.334663025618,
          5288.864081080355,
          5291.864021995051,
          5294.094066599991,
          5297.541044619352,
          5302.244497360894,
          5306.274375337896,
          5309.03761835933,
          5311.783141587766,
          5315.571538629684,
          5319.494299085884,
          5322.493848019029,
          5324.917005329657,
          5327.987886462242,
          5331.7739258097035,
          5335.059873772086,
          5337.358065117134,
          5339.364817324826,
          5342.427370768473,
          5346.320134929599,
          5349.396755788138,
          5351.041638577559,
          5352.249151691725,
          5354.864886768733,
          5358.528048451707,
          5361.317251267919,
          5362.9309158865735,
          5364.774722201778,
          5367.687430894675,
          5370.571932541963,
          5372.509964772613,
          5373.980768674284,
          5376.211559955826,
          5379.1090622512775,
          5381.432281950993,
          5382.805331023919,
          5383.987715599769,
          5386.23276021744,
          5389.167480285758,
          5391.205182622816,
          5391.848532524755,
          5392.0833800953205,
          5393.62250401489,
          5396.047860463008,
          5397.514628390568,
          5397.780949389213,
          5398.281311417126,
          5399.829938035963,
          5401.283754147047,
          5401.717859499141,
          5401.68063998292,
          5402.504757613956,
          5404.053022445672,
          5404.956158983471,
          5404.8473323134385,
          5404.672036265299,
          5405.736734188631,
          5407.446607758411,
          5408.158452412239,
          5407.606137786492,
          5407.143103044884,
          5408.421741472611,
          5410.501676623519,
          5411.1638491094845,
          5410.1146689584875,
          5409.285185785035,
          5410.423934884394,
          5412.134329379387,
          5412.563236592255,
          5412.252030819911,
          5412.791055618284,
          5414.008778245616,
          5414.612596443852,
          5414.578054802754,
          5414.8773623492825,
          5415.898101000371,
          5416.769956838467,
          5416.870768274678,
          5416.552558002039,
          5416.971876475226,
          5418.43232330569,
          5419.605190363718,
          5419.434292617338,
          5418.318035565444,
          5418.032718687696,
          5419.330993685891,
          5420.617784724819,
          5420.689226546569,
          5420.285713165869,
          5420.794034157886,
          5421.819588642603,
          5422.107893618259,
          5421.672705208276,
          5421.566121699083,
          5422.279625442668,
          5422.835912660576,
          5422.412132303029,
          5421.370077091029,
          5421.100873196068,
          5422.069445284945,
          5422.780629489868,
          5422.006776415021,
          5420.252442804835,
          5419.542634118145,
          5420.3981078072065,
          5420.981870462471,
          5420.3390838533505,
          5419.500512702944,
          5419.677811810123,
          5420.195694491099,
          5419.957882948927,
          5419.196382092106,
          5419.012616682421,
          5419.5566133778975,
          5419.757826025278,
          5419.111915421202,
          5418.180942298409,
          5418.231903647043,
          5419.2201765454,
          5419.603254261922,
          5418.609908025599,
          5417.014133275199,
          5416.7002661023735,
          5417.683234771729,
          5418.096734924323,
          5417.364213642715,
          5416.687604588708,
          5417.03566280109,
          5417.531277081656,
          5417.226089769908,
          5416.47131795386,
          5416.377130138599,
          5416.9501129253,
          5417.081688366523,
          5416.361255959693,
          5415.411461234108,
          5415.433998373554,
          5416.237005726666,
          5416.327830369971,
          5415.085857591513,
          5413.301064890688,
          5412.699483855005,
          5413.1760680193165,
          5412.959972344042,
          5411.582532031065,
          5410.261929899018,
          5409.942149139859,
          5409.71366241669,
          5408.605938813033,
          5407.006666394754,
          5406.142312733886,
          5406.035466901201,
          5405.46007969218,
          5403.9706898590275,
          5402.321021007576,
          5401.801301347538,
          5402.0578748108865,
          5401.523533142149,
          5399.770224226221,
          5397.889543387545,
          5397.439098694572,
          5397.785907414429,
          5397.235422419974,
          5395.742969248298,
          5394.715728982992,
          5394.7413231234095,
          5394.649437106031,
          5393.68280840127,
          5392.410575577086,
          5392.010307347782,
          5392.255712175897,
          5391.9026107617165,
          5390.677267000295,
          5389.475916421131,
          5389.446398315757,
          5389.985481234102,
          5389.603559564807,
          5388.086969116361,
          5386.697454051374,
          5386.733267853155,
          5387.290686089829,
          5386.856674404168,
          5385.595480953505,
          5384.956386763894,
          5385.282644371997,
          5385.317937097422,
          5384.479550296554,
          5383.442229004674,
          5383.277092768935,
          5383.597113255126,
          5383.216120390764,
          5381.973135160919,
          5380.820610653387,
          5380.810936003321,
          5381.21947357957,
          5380.576266265788,
          5378.75455710433,
          5377.1460645612515,
          5376.9992918590815,
          5377.275943408734,
          5376.516762172327,
          5375.034011514594,
          5374.277305009553,
          5374.351762349497,
          5373.997545929027,
          5372.8789624882675,
          5371.823503691608,
          5371.641690540983,
          5371.7067070283,
          5371.042075653071,
          5369.717771004741,
          5368.811637210721,
          5369.031806753143,
          5369.372236394932,
          5368.620503585929,
          5366.926902792497,
          5365.793797425275,
          5366.050527993637,
          5366.41405418583,
          5365.72621371739,
          5364.515713171429,
          5364.161902957472,
          5364.511579024111,
          5364.301671089333,
          5363.352912345661,
          5362.591626815676,
          5362.715806332689,
          5362.955554915245,
          5362.382612123022,
          5361.171796290103,
          5360.504325979041,
          5360.940263151815,
          5361.311246428634,
          5360.508531398896,
          5358.848741446584,
          5357.929931852932,
          5358.269535970529,
          5358.39836453648,
          5357.394518816249,
          5355.990521746102,
          5355.458869262521,
          5355.363284267299,
          5354.412639467378,
          5352.586795086837,
          5351.048985653681,
          5350.380365002613,
          5349.406178803284,
          5347.0954281477225,
          5343.980501027478,
          5341.482711849439,
          5339.3841536245345,
          5336.605438502839,
          5332.895595529673,
          5327.035861117303,
          5316.221643335383,
          5298.124008077988,
          5273.174861611062,
          5243.635430116654,
          5211.444621099218,
          5178.022292354442,
          5144.031579778537,
          5109.413631029038,
          5074.410051728808,
          5038.515071554639,
          5000.33407145973,
          4959.221236269707,
          4915.447226893079,
          4869.89074516877,
          4824.000520583253,
          4778.531640976868,
          4733.412448267287,
          4689.198058502872,
          4646.4418822974585,
          4604.934357592945,
          4564.235363366156,
          4523.748422832558,
          4483.479393226891,
          4444.36133273231,
          4406.949801467965,
          4370.925147934604,
          4336.432420279011,
          4304.181201294649,
          4273.724264438258,
          4243.802219419176,
          4214.38550156929,
          4185.919942637509,
          4157.492142759293,
          4128.770803623374,
          4100.715075380378,
          4073.778685417665,
          4047.6805499110596,
          4022.266392574695,
          3997.8095442137173,
          3974.113382267094,
          3950.075311957962,
          3925.139483903261,
          3899.8075926039564,
          3874.340627069232,
          3848.940211697317,
          3823.952411992862,
          3799.5220900820987,
          3775.6879761836117,
          3752.404571637965,
          3729.549534940722,
          3706.797809736811,
          3683.819375448356,
          3660.6244545421478,
          3637.3705536418706,
          3614.1997066623294,
          3591.368885005852,
          3569.093217573583,
          3547.2595446670616,
          3525.6666723397857,
          3504.4467481639726,
          3484.114981857204,
          3465.203488256674,
          3447.1583121174986,
          3427.504787260133,
          3401.445855983519,
          3365.112620174767,
          3324.1192869377232,
          3288.6851975681284,
          3261.887647662539,
          3240.733880837173,
          3222.721867914598,
          3206.865746886065,
          3192.019980471074,
          3177.6836004391953,
          3163.403473076158,
          3148.795179920748,
          3133.846717160478,
          3118.8439883378246,
          3104.1789007691127,
          3089.676856780666,
          3074.923582707249,
          3059.6779043642814,
          3043.8143087906706,
          3025.9028012689278,
          3002.949939837375,
          2973.308167515251,
          2940.669178961998,
          2911.1659531457653,
          2886.554279388724,
          2865.149959602894,
          2844.3748645547703,
          2822.442598351494,
          2799.0357366716325,
          2774.084166818751,
          2746.9470026870135,
          2717.1706275668507,
          2686.7299199119543,
          2658.608381584743,
          2633.7227771483267,
          2611.4548932118664,
          2591.0011426954866,
          2572.0181245929157,
          2554.5110049820696,
          2539.6350310718826,
          2531.364265511508,
          2531.8399055616856,
          2535.961253934184,
          2536.8382574592283,
          2532.3777670384866,
          2524.136959232238,
          2513.9429499531702,
          2502.9526046419605,
          2491.4984237280014,
          2478.6114006609505,
          2461.0710886588013,
          2435.7782991454224,
          2407.3518910978028,
          2383.5911860133515,
          2366.182174831755,
          2353.1466335020727,
          2342.6914353824845,
          2333.5689010468345,
          2325.191954012569,
          2317.479224642636,
          2310.809890156239,
          2305.5729821230134,
          2301.0324953924496,
          2296.1631462229734,
          2290.663894987409,
          2284.789537801811,
          2278.7055808344735,
          2272.3483746592206,
          2265.919618019703,
          2260.062579598741,
          2256.543705787458,
          2256.430088801084,
          2257.5977699341975,
          2257.0703293549423,
          2253.473708112843,
          2245.694912532711,
          2232.4873968745646,
          2216.277404051805,
          2201.6676241342734,
          2190.290134816604,
          2181.425842480629,
          2174.1524393909567,
          2167.959594298804,
          2162.446155326104,
          2157.3038199094517,
          2152.38710772563,
          2147.5643178330974,
          2142.866463073939,
          2138.365756470918,
          2133.8487857646237,
          2128.531122307783,
          2121.6447892318597,
          2114.072666065511,
          2107.4015422235775,
          2101.634912483552,
          2094.921121084684,
          2085.708264522369,
          2075.0857586832035,
          2065.5243357265845,
          2057.8001923022102,
          2050.496984285392,
          2042.2456126247093,
          2033.7159081283996,
          2026.5416318819855,
          2020.9795967194311,
          2015.7452515959649,
          2009.717050453055,
          2003.3126726104915,
          1997.6915408411162,
          1993.633997137846,
          1991.6627124159743,
          1991.9885913737196,
          1993.5098003889198,
          1994.5931857679661,
          1995.291602302238,
          1997.9884523754465,
          2004.7613261691363,
          2013.8187526396996,
          2021.2698951821117,
          2025.401621765813,
          2026.697161813531,
          2025.9928913733731,
          2024.05069722032,
          2021.64987817429,
          2018.517656360388,
          2012.6001821544546,
          2002.0045812222859,
          1988.7998921240694,
          1977.3136445362693,
          1969.1764837535343,
          1963.911415596167,
          1960.64886220619,
          1958.5230461232745,
          1956.8795387879757,
          1955.4134265905345,
          1954.3929594544636,
          1954.1443778952598,
          1954.37140250615,
          1954.4880540417432,
          1954.1604576996272,
          1953.305790150567,
          1951.9297404019921,
          1950.1991335033288,
          1948.6054751724723,
          1947.7272966529376,
          1948.581030035166,
          1951.771208933814,
          1955.9710496847483,
          1959.3706068736976,
          1961.3219328691273,
          1962.1479152872732,
          1962.3845973532038,
          1962.2445523493209,
          1961.7490720688202,
          1960.9739566420344,
          1959.9841915136367,
          1958.8599779070548,
          1957.7019063630848,
          1956.5094553107244,
          1955.2537482966666,
          1953.9667184884597,
          1952.6866081180913,
          1951.3891060494668,
          1949.952608629559,
          1948.138394511537,
          1945.4872371450717,
          1941.5523382293525,
          1936.7912188231262,
          1932.3460315295904,
          1928.6271747651322,
          1925.2804265671982,
          1921.8239015931526,
          1918.2507446873606,
          1914.8758965508366,
          1911.5370006406079,
          1907.4673038593323,
          1901.9494294935791,
          1895.4902385991888,
          1889.463573869166,
          1884.4341684670774,
          1879.931796194659,
          1875.4488704550838,
          1871.0332380146301,
          1867.1148744202535,
          1864.0359373216218,
          1862.2993359919278,
          1862.2819839180324,
          1863.2542623796974,
          1863.9553068164378,
          1863.8191578235883,
          1862.8971433873135,
          1861.3997998481682,
          1859.6389469195067,
          1857.8482531860393,
          1856.0408531392452,
          1854.0437575234153,
          1851.7292603595333,
          1849.3247110108362,
          1847.2458502837783,
          1846.2635890167212,
          1847.9527844658808,
          1853.0364263878014,
          1859.4432099674561,
          1864.5104306569476,
          1867.4010247635176,
          1868.7218308649103,
          1869.304379655359,
          1869.4308670124994,
          1869.0454582243133,
          1867.6706524251958,
          1864.1453714368176,
          1857.6010511777113,
          1849.632182062352,
          1842.9916296012068,
          1838.4721118051905,
          1835.2203174736449,
          1832.4528644297607,
          1829.9390570345113,
          1827.7269116620985,
          1825.9617407402293,
          1824.808487323589,
          1824.4278198901022,
          1824.533852785322,
          1824.374089215193,
          1823.5832783429396,
          1822.177901640477,
          1820.1400398080718,
          1817.6223757071605,
          1814.9564722007458,
          1812.4781049010803,
          1810.5620601791152,
          1809.4578940235986,
          1808.814544501469,
          1807.985644302626,
          1806.715365533321,
          1805.162110302994,
          1803.5001225667463,
          1801.7552913825807,
          1799.9584906957832,
          1797.922037658743,
          1794.735855147523,
          1789.8984578441455,
          1784.52007266639,
          1779.9868374320204,
          1776.5182041174594,
          1773.3641300269328,
          1769.8707751686427,
          1766.1001884076936,
          1762.570412794059,
          1759.7656736554916,
          1757.9712337692147,
          1757.282416876543,
          1757.2071337733305,
          1756.9022750304448,
          1755.9578883389568,
          1754.2743407963944,
          1751.7890618111715,
          1748.8066711983954,
          1745.9153345804536,
          1743.4638578632082,
          1741.5801203901067,
          1740.2533934853172,
          1739.202509537688,
          1738.1274215899134,
          1736.9874526684732,
          1736.0504088396474,
          1735.6793398162272,
          1735.781313791337,
          1735.9377184726286,
          1735.8658886166795,
          1735.0879928635773
         ],
         "yaxis": "y"
        }
       ],
       "layout": {
        "legend": {
         "tracegroupgap": 0
        },
        "margin": {
         "t": 60
        },
        "template": {
         "data": {
          "bar": [
           {
            "error_x": {
             "color": "#2a3f5f"
            },
            "error_y": {
             "color": "#2a3f5f"
            },
            "marker": {
             "line": {
              "color": "#E5ECF6",
              "width": 0.5
             },
             "pattern": {
              "fillmode": "overlay",
              "size": 10,
              "solidity": 0.2
             }
            },
            "type": "bar"
           }
          ],
          "barpolar": [
           {
            "marker": {
             "line": {
              "color": "#E5ECF6",
              "width": 0.5
             },
             "pattern": {
              "fillmode": "overlay",
              "size": 10,
              "solidity": 0.2
             }
            },
            "type": "barpolar"
           }
          ],
          "carpet": [
           {
            "aaxis": {
             "endlinecolor": "#2a3f5f",
             "gridcolor": "white",
             "linecolor": "white",
             "minorgridcolor": "white",
             "startlinecolor": "#2a3f5f"
            },
            "baxis": {
             "endlinecolor": "#2a3f5f",
             "gridcolor": "white",
             "linecolor": "white",
             "minorgridcolor": "white",
             "startlinecolor": "#2a3f5f"
            },
            "type": "carpet"
           }
          ],
          "choropleth": [
           {
            "colorbar": {
             "outlinewidth": 0,
             "ticks": ""
            },
            "type": "choropleth"
           }
          ],
          "contour": [
           {
            "colorbar": {
             "outlinewidth": 0,
             "ticks": ""
            },
            "colorscale": [
             [
              0,
              "#0d0887"
             ],
             [
              0.1111111111111111,
              "#46039f"
             ],
             [
              0.2222222222222222,
              "#7201a8"
             ],
             [
              0.3333333333333333,
              "#9c179e"
             ],
             [
              0.4444444444444444,
              "#bd3786"
             ],
             [
              0.5555555555555556,
              "#d8576b"
             ],
             [
              0.6666666666666666,
              "#ed7953"
             ],
             [
              0.7777777777777778,
              "#fb9f3a"
             ],
             [
              0.8888888888888888,
              "#fdca26"
             ],
             [
              1,
              "#f0f921"
             ]
            ],
            "type": "contour"
           }
          ],
          "contourcarpet": [
           {
            "colorbar": {
             "outlinewidth": 0,
             "ticks": ""
            },
            "type": "contourcarpet"
           }
          ],
          "heatmap": [
           {
            "colorbar": {
             "outlinewidth": 0,
             "ticks": ""
            },
            "colorscale": [
             [
              0,
              "#0d0887"
             ],
             [
              0.1111111111111111,
              "#46039f"
             ],
             [
              0.2222222222222222,
              "#7201a8"
             ],
             [
              0.3333333333333333,
              "#9c179e"
             ],
             [
              0.4444444444444444,
              "#bd3786"
             ],
             [
              0.5555555555555556,
              "#d8576b"
             ],
             [
              0.6666666666666666,
              "#ed7953"
             ],
             [
              0.7777777777777778,
              "#fb9f3a"
             ],
             [
              0.8888888888888888,
              "#fdca26"
             ],
             [
              1,
              "#f0f921"
             ]
            ],
            "type": "heatmap"
           }
          ],
          "heatmapgl": [
           {
            "colorbar": {
             "outlinewidth": 0,
             "ticks": ""
            },
            "colorscale": [
             [
              0,
              "#0d0887"
             ],
             [
              0.1111111111111111,
              "#46039f"
             ],
             [
              0.2222222222222222,
              "#7201a8"
             ],
             [
              0.3333333333333333,
              "#9c179e"
             ],
             [
              0.4444444444444444,
              "#bd3786"
             ],
             [
              0.5555555555555556,
              "#d8576b"
             ],
             [
              0.6666666666666666,
              "#ed7953"
             ],
             [
              0.7777777777777778,
              "#fb9f3a"
             ],
             [
              0.8888888888888888,
              "#fdca26"
             ],
             [
              1,
              "#f0f921"
             ]
            ],
            "type": "heatmapgl"
           }
          ],
          "histogram": [
           {
            "marker": {
             "pattern": {
              "fillmode": "overlay",
              "size": 10,
              "solidity": 0.2
             }
            },
            "type": "histogram"
           }
          ],
          "histogram2d": [
           {
            "colorbar": {
             "outlinewidth": 0,
             "ticks": ""
            },
            "colorscale": [
             [
              0,
              "#0d0887"
             ],
             [
              0.1111111111111111,
              "#46039f"
             ],
             [
              0.2222222222222222,
              "#7201a8"
             ],
             [
              0.3333333333333333,
              "#9c179e"
             ],
             [
              0.4444444444444444,
              "#bd3786"
             ],
             [
              0.5555555555555556,
              "#d8576b"
             ],
             [
              0.6666666666666666,
              "#ed7953"
             ],
             [
              0.7777777777777778,
              "#fb9f3a"
             ],
             [
              0.8888888888888888,
              "#fdca26"
             ],
             [
              1,
              "#f0f921"
             ]
            ],
            "type": "histogram2d"
           }
          ],
          "histogram2dcontour": [
           {
            "colorbar": {
             "outlinewidth": 0,
             "ticks": ""
            },
            "colorscale": [
             [
              0,
              "#0d0887"
             ],
             [
              0.1111111111111111,
              "#46039f"
             ],
             [
              0.2222222222222222,
              "#7201a8"
             ],
             [
              0.3333333333333333,
              "#9c179e"
             ],
             [
              0.4444444444444444,
              "#bd3786"
             ],
             [
              0.5555555555555556,
              "#d8576b"
             ],
             [
              0.6666666666666666,
              "#ed7953"
             ],
             [
              0.7777777777777778,
              "#fb9f3a"
             ],
             [
              0.8888888888888888,
              "#fdca26"
             ],
             [
              1,
              "#f0f921"
             ]
            ],
            "type": "histogram2dcontour"
           }
          ],
          "mesh3d": [
           {
            "colorbar": {
             "outlinewidth": 0,
             "ticks": ""
            },
            "type": "mesh3d"
           }
          ],
          "parcoords": [
           {
            "line": {
             "colorbar": {
              "outlinewidth": 0,
              "ticks": ""
             }
            },
            "type": "parcoords"
           }
          ],
          "pie": [
           {
            "automargin": true,
            "type": "pie"
           }
          ],
          "scatter": [
           {
            "fillpattern": {
             "fillmode": "overlay",
             "size": 10,
             "solidity": 0.2
            },
            "type": "scatter"
           }
          ],
          "scatter3d": [
           {
            "line": {
             "colorbar": {
              "outlinewidth": 0,
              "ticks": ""
             }
            },
            "marker": {
             "colorbar": {
              "outlinewidth": 0,
              "ticks": ""
             }
            },
            "type": "scatter3d"
           }
          ],
          "scattercarpet": [
           {
            "marker": {
             "colorbar": {
              "outlinewidth": 0,
              "ticks": ""
             }
            },
            "type": "scattercarpet"
           }
          ],
          "scattergeo": [
           {
            "marker": {
             "colorbar": {
              "outlinewidth": 0,
              "ticks": ""
             }
            },
            "type": "scattergeo"
           }
          ],
          "scattergl": [
           {
            "marker": {
             "colorbar": {
              "outlinewidth": 0,
              "ticks": ""
             }
            },
            "type": "scattergl"
           }
          ],
          "scattermapbox": [
           {
            "marker": {
             "colorbar": {
              "outlinewidth": 0,
              "ticks": ""
             }
            },
            "type": "scattermapbox"
           }
          ],
          "scatterpolar": [
           {
            "marker": {
             "colorbar": {
              "outlinewidth": 0,
              "ticks": ""
             }
            },
            "type": "scatterpolar"
           }
          ],
          "scatterpolargl": [
           {
            "marker": {
             "colorbar": {
              "outlinewidth": 0,
              "ticks": ""
             }
            },
            "type": "scatterpolargl"
           }
          ],
          "scatterternary": [
           {
            "marker": {
             "colorbar": {
              "outlinewidth": 0,
              "ticks": ""
             }
            },
            "type": "scatterternary"
           }
          ],
          "surface": [
           {
            "colorbar": {
             "outlinewidth": 0,
             "ticks": ""
            },
            "colorscale": [
             [
              0,
              "#0d0887"
             ],
             [
              0.1111111111111111,
              "#46039f"
             ],
             [
              0.2222222222222222,
              "#7201a8"
             ],
             [
              0.3333333333333333,
              "#9c179e"
             ],
             [
              0.4444444444444444,
              "#bd3786"
             ],
             [
              0.5555555555555556,
              "#d8576b"
             ],
             [
              0.6666666666666666,
              "#ed7953"
             ],
             [
              0.7777777777777778,
              "#fb9f3a"
             ],
             [
              0.8888888888888888,
              "#fdca26"
             ],
             [
              1,
              "#f0f921"
             ]
            ],
            "type": "surface"
           }
          ],
          "table": [
           {
            "cells": {
             "fill": {
              "color": "#EBF0F8"
             },
             "line": {
              "color": "white"
             }
            },
            "header": {
             "fill": {
              "color": "#C8D4E3"
             },
             "line": {
              "color": "white"
             }
            },
            "type": "table"
           }
          ]
         },
         "layout": {
          "annotationdefaults": {
           "arrowcolor": "#2a3f5f",
           "arrowhead": 0,
           "arrowwidth": 1
          },
          "autotypenumbers": "strict",
          "coloraxis": {
           "colorbar": {
            "outlinewidth": 0,
            "ticks": ""
           }
          },
          "colorscale": {
           "diverging": [
            [
             0,
             "#8e0152"
            ],
            [
             0.1,
             "#c51b7d"
            ],
            [
             0.2,
             "#de77ae"
            ],
            [
             0.3,
             "#f1b6da"
            ],
            [
             0.4,
             "#fde0ef"
            ],
            [
             0.5,
             "#f7f7f7"
            ],
            [
             0.6,
             "#e6f5d0"
            ],
            [
             0.7,
             "#b8e186"
            ],
            [
             0.8,
             "#7fbc41"
            ],
            [
             0.9,
             "#4d9221"
            ],
            [
             1,
             "#276419"
            ]
           ],
           "sequential": [
            [
             0,
             "#0d0887"
            ],
            [
             0.1111111111111111,
             "#46039f"
            ],
            [
             0.2222222222222222,
             "#7201a8"
            ],
            [
             0.3333333333333333,
             "#9c179e"
            ],
            [
             0.4444444444444444,
             "#bd3786"
            ],
            [
             0.5555555555555556,
             "#d8576b"
            ],
            [
             0.6666666666666666,
             "#ed7953"
            ],
            [
             0.7777777777777778,
             "#fb9f3a"
            ],
            [
             0.8888888888888888,
             "#fdca26"
            ],
            [
             1,
             "#f0f921"
            ]
           ],
           "sequentialminus": [
            [
             0,
             "#0d0887"
            ],
            [
             0.1111111111111111,
             "#46039f"
            ],
            [
             0.2222222222222222,
             "#7201a8"
            ],
            [
             0.3333333333333333,
             "#9c179e"
            ],
            [
             0.4444444444444444,
             "#bd3786"
            ],
            [
             0.5555555555555556,
             "#d8576b"
            ],
            [
             0.6666666666666666,
             "#ed7953"
            ],
            [
             0.7777777777777778,
             "#fb9f3a"
            ],
            [
             0.8888888888888888,
             "#fdca26"
            ],
            [
             1,
             "#f0f921"
            ]
           ]
          },
          "colorway": [
           "#636efa",
           "#EF553B",
           "#00cc96",
           "#ab63fa",
           "#FFA15A",
           "#19d3f3",
           "#FF6692",
           "#B6E880",
           "#FF97FF",
           "#FECB52"
          ],
          "font": {
           "color": "#2a3f5f"
          },
          "geo": {
           "bgcolor": "white",
           "lakecolor": "white",
           "landcolor": "#E5ECF6",
           "showlakes": true,
           "showland": true,
           "subunitcolor": "white"
          },
          "hoverlabel": {
           "align": "left"
          },
          "hovermode": "closest",
          "mapbox": {
           "style": "light"
          },
          "paper_bgcolor": "white",
          "plot_bgcolor": "#E5ECF6",
          "polar": {
           "angularaxis": {
            "gridcolor": "white",
            "linecolor": "white",
            "ticks": ""
           },
           "bgcolor": "#E5ECF6",
           "radialaxis": {
            "gridcolor": "white",
            "linecolor": "white",
            "ticks": ""
           }
          },
          "scene": {
           "xaxis": {
            "backgroundcolor": "#E5ECF6",
            "gridcolor": "white",
            "gridwidth": 2,
            "linecolor": "white",
            "showbackground": true,
            "ticks": "",
            "zerolinecolor": "white"
           },
           "yaxis": {
            "backgroundcolor": "#E5ECF6",
            "gridcolor": "white",
            "gridwidth": 2,
            "linecolor": "white",
            "showbackground": true,
            "ticks": "",
            "zerolinecolor": "white"
           },
           "zaxis": {
            "backgroundcolor": "#E5ECF6",
            "gridcolor": "white",
            "gridwidth": 2,
            "linecolor": "white",
            "showbackground": true,
            "ticks": "",
            "zerolinecolor": "white"
           }
          },
          "shapedefaults": {
           "line": {
            "color": "#2a3f5f"
           }
          },
          "ternary": {
           "aaxis": {
            "gridcolor": "white",
            "linecolor": "white",
            "ticks": ""
           },
           "baxis": {
            "gridcolor": "white",
            "linecolor": "white",
            "ticks": ""
           },
           "bgcolor": "#E5ECF6",
           "caxis": {
            "gridcolor": "white",
            "linecolor": "white",
            "ticks": ""
           }
          },
          "title": {
           "x": 0.05
          },
          "xaxis": {
           "automargin": true,
           "gridcolor": "white",
           "linecolor": "white",
           "ticks": "",
           "title": {
            "standoff": 15
           },
           "zerolinecolor": "white",
           "zerolinewidth": 2
          },
          "yaxis": {
           "automargin": true,
           "gridcolor": "white",
           "linecolor": "white",
           "ticks": "",
           "title": {
            "standoff": 15
           },
           "zerolinecolor": "white",
           "zerolinewidth": 2
          }
         }
        },
        "title": {
         "text": "",
         "x": 0.5
        },
        "xaxis": {
         "anchor": "y",
         "domain": [
          0,
          1
         ],
         "title": {
          "text": "Year"
         }
        },
        "yaxis": {
         "anchor": "x",
         "domain": [
          0,
          1
         ],
         "title": {
          "text": "Incidence per 100,000 population"
         }
        }
       }
      }
     },
     "metadata": {},
     "output_type": "display_data"
    }
   ],
   "source": [
    "inci_plot = px.line(\n",
    "    derived_df_0,\n",
    "    x=derived_df_0.index,\n",
    "    y=\"incidence\",\n",
    ")\n",
    "inci_plot.update_layout(\n",
    "    title=\"\", title_x=0.5, xaxis_title=\"Year\", yaxis_title=\"Incidence per 100,000 population\"\n",
    ")\n",
    "inci_plot.show()"
   ]
  },
  {
   "cell_type": "code",
   "execution_count": 18,
   "metadata": {},
   "outputs": [
    {
     "data": {
      "application/vnd.plotly.v1+json": {
       "config": {
        "plotlyServerURL": "https://plot.ly"
       },
       "data": [
        {
         "hovertemplate": "index=%{x}<br>prevalence_infectious=%{y}<extra></extra>",
         "legendgroup": "",
         "line": {
          "color": "#636efa",
          "dash": "solid"
         },
         "marker": {
          "symbol": "circle"
         },
         "mode": "lines",
         "name": "",
         "showlegend": false,
         "type": "scattergl",
         "x": [
          1900,
          1900.1,
          1900.2,
          1900.3,
          1900.4,
          1900.5,
          1900.6,
          1900.7,
          1900.8,
          1900.9,
          1901,
          1901.1,
          1901.2,
          1901.3,
          1901.4,
          1901.5,
          1901.6,
          1901.7,
          1901.8,
          1901.9,
          1902,
          1902.1,
          1902.2,
          1902.3,
          1902.4,
          1902.5,
          1902.6,
          1902.7,
          1902.8,
          1902.9,
          1903,
          1903.1,
          1903.2,
          1903.3,
          1903.4,
          1903.5,
          1903.6,
          1903.7,
          1903.8,
          1903.9,
          1904,
          1904.1,
          1904.2,
          1904.3,
          1904.4,
          1904.5,
          1904.6,
          1904.7,
          1904.8,
          1904.9,
          1905,
          1905.1,
          1905.2,
          1905.3,
          1905.4,
          1905.5,
          1905.6,
          1905.7,
          1905.8,
          1905.9,
          1906,
          1906.1,
          1906.2,
          1906.3,
          1906.4,
          1906.5,
          1906.6,
          1906.7,
          1906.8,
          1906.9,
          1907,
          1907.1,
          1907.2,
          1907.3,
          1907.4,
          1907.5,
          1907.6,
          1907.7,
          1907.8,
          1907.9,
          1908,
          1908.1,
          1908.2,
          1908.3,
          1908.4,
          1908.5,
          1908.6,
          1908.7,
          1908.8,
          1908.9,
          1909,
          1909.1,
          1909.2,
          1909.3,
          1909.4,
          1909.5,
          1909.6,
          1909.7,
          1909.8,
          1909.9,
          1910,
          1910.1,
          1910.2,
          1910.3,
          1910.4,
          1910.5,
          1910.6,
          1910.7,
          1910.8,
          1910.9,
          1911,
          1911.1,
          1911.2,
          1911.3,
          1911.4,
          1911.5,
          1911.6,
          1911.7,
          1911.8,
          1911.9,
          1912,
          1912.1,
          1912.2,
          1912.3,
          1912.4,
          1912.5,
          1912.6,
          1912.7,
          1912.8,
          1912.9,
          1913,
          1913.1,
          1913.2,
          1913.3,
          1913.4,
          1913.5,
          1913.6,
          1913.7,
          1913.8,
          1913.9,
          1914,
          1914.1,
          1914.2,
          1914.3,
          1914.4,
          1914.5,
          1914.6,
          1914.7,
          1914.8,
          1914.9,
          1915,
          1915.1,
          1915.2,
          1915.3,
          1915.4,
          1915.5,
          1915.6,
          1915.7,
          1915.8,
          1915.9,
          1916,
          1916.1,
          1916.2,
          1916.3,
          1916.4,
          1916.5,
          1916.6,
          1916.7,
          1916.8,
          1916.9,
          1917,
          1917.1,
          1917.2,
          1917.3,
          1917.4,
          1917.5,
          1917.6,
          1917.7,
          1917.8,
          1917.9,
          1918,
          1918.1,
          1918.2,
          1918.3,
          1918.4,
          1918.5,
          1918.6,
          1918.7,
          1918.8,
          1918.9,
          1919,
          1919.1,
          1919.2,
          1919.3,
          1919.4,
          1919.5,
          1919.6,
          1919.7,
          1919.8,
          1919.9,
          1920,
          1920.1,
          1920.2,
          1920.3,
          1920.4,
          1920.5,
          1920.6,
          1920.7,
          1920.8,
          1920.9,
          1921,
          1921.1,
          1921.2,
          1921.3,
          1921.4,
          1921.5,
          1921.6,
          1921.7,
          1921.8,
          1921.9,
          1922,
          1922.1,
          1922.2,
          1922.3,
          1922.4,
          1922.5,
          1922.6,
          1922.7,
          1922.8,
          1922.9,
          1923,
          1923.1,
          1923.2,
          1923.3,
          1923.4,
          1923.5,
          1923.6,
          1923.7,
          1923.8,
          1923.9,
          1924,
          1924.1,
          1924.2,
          1924.3,
          1924.4,
          1924.5,
          1924.6,
          1924.7,
          1924.8,
          1924.9,
          1925,
          1925.1,
          1925.2,
          1925.3,
          1925.4,
          1925.5,
          1925.6,
          1925.7,
          1925.8,
          1925.9,
          1926,
          1926.1,
          1926.2,
          1926.3,
          1926.4,
          1926.5,
          1926.6,
          1926.7,
          1926.8,
          1926.9,
          1927,
          1927.1,
          1927.2,
          1927.3,
          1927.4,
          1927.5,
          1927.6,
          1927.7,
          1927.8,
          1927.9,
          1928,
          1928.1,
          1928.2,
          1928.3,
          1928.4,
          1928.5,
          1928.6,
          1928.7,
          1928.8,
          1928.9,
          1929,
          1929.1,
          1929.2,
          1929.3,
          1929.4,
          1929.5,
          1929.6,
          1929.7,
          1929.8,
          1929.9,
          1930,
          1930.1,
          1930.2,
          1930.3,
          1930.4,
          1930.5,
          1930.6,
          1930.7,
          1930.8,
          1930.9,
          1931,
          1931.1,
          1931.2,
          1931.3,
          1931.4,
          1931.5,
          1931.6,
          1931.7,
          1931.8,
          1931.9,
          1932,
          1932.1,
          1932.2,
          1932.3,
          1932.4,
          1932.5,
          1932.6,
          1932.7,
          1932.8,
          1932.9,
          1933,
          1933.1,
          1933.2,
          1933.3,
          1933.4,
          1933.5,
          1933.6,
          1933.7,
          1933.8,
          1933.9,
          1934,
          1934.1,
          1934.2,
          1934.3,
          1934.4,
          1934.5,
          1934.6,
          1934.7,
          1934.8,
          1934.9,
          1935,
          1935.1,
          1935.2,
          1935.3,
          1935.4,
          1935.5,
          1935.6,
          1935.7,
          1935.8,
          1935.9,
          1936,
          1936.1,
          1936.2,
          1936.3,
          1936.4,
          1936.5,
          1936.6,
          1936.7,
          1936.8,
          1936.9,
          1937,
          1937.1,
          1937.2,
          1937.3,
          1937.4,
          1937.5,
          1937.6,
          1937.7,
          1937.8,
          1937.9,
          1938,
          1938.1,
          1938.2,
          1938.3,
          1938.4,
          1938.5,
          1938.6,
          1938.7,
          1938.8,
          1938.9,
          1939,
          1939.1,
          1939.2,
          1939.3,
          1939.4,
          1939.5,
          1939.6,
          1939.7,
          1939.8,
          1939.9,
          1940,
          1940.1,
          1940.2,
          1940.3,
          1940.4,
          1940.5,
          1940.6,
          1940.7,
          1940.8,
          1940.9,
          1941,
          1941.1,
          1941.2,
          1941.3,
          1941.4,
          1941.5,
          1941.6,
          1941.7,
          1941.8,
          1941.9,
          1942,
          1942.1,
          1942.2,
          1942.3,
          1942.4,
          1942.5,
          1942.6,
          1942.7,
          1942.8,
          1942.9,
          1943,
          1943.1,
          1943.2,
          1943.3,
          1943.4,
          1943.5,
          1943.6,
          1943.7,
          1943.8,
          1943.9,
          1944,
          1944.1,
          1944.2,
          1944.3,
          1944.4,
          1944.5,
          1944.6,
          1944.7,
          1944.8,
          1944.9,
          1945,
          1945.1,
          1945.2,
          1945.3,
          1945.4,
          1945.5,
          1945.6,
          1945.7,
          1945.8,
          1945.9,
          1946,
          1946.1,
          1946.2,
          1946.3,
          1946.4,
          1946.5,
          1946.6,
          1946.7,
          1946.8,
          1946.9,
          1947,
          1947.1,
          1947.2,
          1947.3,
          1947.4,
          1947.5,
          1947.6,
          1947.7,
          1947.8,
          1947.9,
          1948,
          1948.1,
          1948.2,
          1948.3,
          1948.4,
          1948.5,
          1948.6,
          1948.7,
          1948.8,
          1948.9,
          1949,
          1949.1,
          1949.2,
          1949.3,
          1949.4,
          1949.5,
          1949.6,
          1949.7,
          1949.8,
          1949.9,
          1950,
          1950.1,
          1950.2,
          1950.3,
          1950.4,
          1950.5,
          1950.6,
          1950.7,
          1950.8,
          1950.9,
          1951,
          1951.1,
          1951.2,
          1951.3,
          1951.4,
          1951.5,
          1951.6,
          1951.7,
          1951.8,
          1951.9,
          1952,
          1952.1,
          1952.2,
          1952.3,
          1952.4,
          1952.5,
          1952.6,
          1952.7,
          1952.8,
          1952.9,
          1953,
          1953.1,
          1953.2,
          1953.3,
          1953.4,
          1953.5,
          1953.6,
          1953.7,
          1953.8,
          1953.9,
          1954,
          1954.1,
          1954.2,
          1954.3,
          1954.4,
          1954.5,
          1954.6,
          1954.7,
          1954.8,
          1954.9,
          1955,
          1955.1,
          1955.2,
          1955.3,
          1955.4,
          1955.5,
          1955.6,
          1955.7,
          1955.8,
          1955.9,
          1956,
          1956.1,
          1956.2,
          1956.3,
          1956.4,
          1956.5,
          1956.6,
          1956.7,
          1956.8,
          1956.9,
          1957,
          1957.1,
          1957.2,
          1957.3,
          1957.4,
          1957.5,
          1957.6,
          1957.7,
          1957.8,
          1957.9,
          1958,
          1958.1,
          1958.2,
          1958.3,
          1958.4,
          1958.5,
          1958.6,
          1958.7,
          1958.8,
          1958.9,
          1959,
          1959.1,
          1959.2,
          1959.3,
          1959.4,
          1959.5,
          1959.6,
          1959.7,
          1959.8,
          1959.9,
          1960,
          1960.1,
          1960.2,
          1960.3,
          1960.4,
          1960.5,
          1960.6,
          1960.7,
          1960.8,
          1960.9,
          1961,
          1961.1,
          1961.2,
          1961.3,
          1961.4,
          1961.5,
          1961.6,
          1961.7,
          1961.8,
          1961.9,
          1962,
          1962.1,
          1962.2,
          1962.3,
          1962.4,
          1962.5,
          1962.6,
          1962.7,
          1962.8,
          1962.9,
          1963,
          1963.1,
          1963.2,
          1963.3,
          1963.4,
          1963.5,
          1963.6,
          1963.7,
          1963.8,
          1963.9,
          1964,
          1964.1,
          1964.2,
          1964.3,
          1964.4,
          1964.5,
          1964.6,
          1964.7,
          1964.8,
          1964.9,
          1965,
          1965.1,
          1965.2,
          1965.3,
          1965.4,
          1965.5,
          1965.6,
          1965.7,
          1965.8,
          1965.9,
          1966,
          1966.1,
          1966.2,
          1966.3,
          1966.4,
          1966.5,
          1966.6,
          1966.7,
          1966.8,
          1966.9,
          1967,
          1967.1,
          1967.2,
          1967.3,
          1967.4,
          1967.5,
          1967.6,
          1967.7,
          1967.8,
          1967.9,
          1968,
          1968.1,
          1968.2,
          1968.3,
          1968.4,
          1968.5,
          1968.6,
          1968.7,
          1968.8,
          1968.9,
          1969,
          1969.1,
          1969.2,
          1969.3,
          1969.4,
          1969.5,
          1969.6,
          1969.7,
          1969.8,
          1969.9,
          1970,
          1970.1,
          1970.2,
          1970.3,
          1970.4,
          1970.5,
          1970.6,
          1970.7,
          1970.8,
          1970.9,
          1971,
          1971.1,
          1971.2,
          1971.3,
          1971.4,
          1971.5,
          1971.6,
          1971.7,
          1971.8,
          1971.9,
          1972,
          1972.1,
          1972.2,
          1972.3,
          1972.4,
          1972.5,
          1972.6,
          1972.7,
          1972.8,
          1972.9,
          1973,
          1973.1,
          1973.2,
          1973.3,
          1973.4,
          1973.5,
          1973.6,
          1973.7,
          1973.8,
          1973.9,
          1974,
          1974.1,
          1974.2,
          1974.3,
          1974.4,
          1974.5,
          1974.6,
          1974.7,
          1974.8,
          1974.9,
          1975,
          1975.1,
          1975.2,
          1975.3,
          1975.4,
          1975.5,
          1975.6,
          1975.7,
          1975.8,
          1975.9,
          1976,
          1976.1,
          1976.2,
          1976.3,
          1976.4,
          1976.5,
          1976.6,
          1976.7,
          1976.8,
          1976.9,
          1977,
          1977.1,
          1977.2,
          1977.3,
          1977.4,
          1977.5,
          1977.6,
          1977.7,
          1977.8,
          1977.9,
          1978,
          1978.1,
          1978.2,
          1978.3,
          1978.4,
          1978.5,
          1978.6,
          1978.7,
          1978.8,
          1978.9,
          1979,
          1979.1,
          1979.2,
          1979.3,
          1979.4,
          1979.5,
          1979.6,
          1979.7,
          1979.8,
          1979.9,
          1980,
          1980.1,
          1980.2,
          1980.3,
          1980.4,
          1980.5,
          1980.6,
          1980.7,
          1980.8,
          1980.9,
          1981,
          1981.1,
          1981.2,
          1981.3,
          1981.4,
          1981.5,
          1981.6,
          1981.7,
          1981.8,
          1981.9,
          1982,
          1982.1,
          1982.2,
          1982.3,
          1982.4,
          1982.5,
          1982.6,
          1982.7,
          1982.8,
          1982.9,
          1983,
          1983.1,
          1983.2,
          1983.3,
          1983.4,
          1983.5,
          1983.6,
          1983.7,
          1983.8,
          1983.9,
          1984,
          1984.1,
          1984.2,
          1984.3,
          1984.4,
          1984.5,
          1984.6,
          1984.7,
          1984.8,
          1984.9,
          1985,
          1985.1,
          1985.2,
          1985.3,
          1985.4,
          1985.5,
          1985.6,
          1985.7,
          1985.8,
          1985.9,
          1986,
          1986.1,
          1986.2,
          1986.3,
          1986.4,
          1986.5,
          1986.6,
          1986.7,
          1986.8,
          1986.9,
          1987,
          1987.1,
          1987.2,
          1987.3,
          1987.4,
          1987.5,
          1987.6,
          1987.7,
          1987.8,
          1987.9,
          1988,
          1988.1,
          1988.2,
          1988.3,
          1988.4,
          1988.5,
          1988.6,
          1988.7,
          1988.8,
          1988.9,
          1989,
          1989.1,
          1989.2,
          1989.3,
          1989.4,
          1989.5,
          1989.6,
          1989.7,
          1989.8,
          1989.9,
          1990,
          1990.1,
          1990.2,
          1990.3,
          1990.4,
          1990.5,
          1990.6,
          1990.7,
          1990.8,
          1990.9,
          1991,
          1991.1,
          1991.2,
          1991.3,
          1991.4,
          1991.5,
          1991.6,
          1991.7,
          1991.8,
          1991.9,
          1992,
          1992.1,
          1992.2,
          1992.3,
          1992.4,
          1992.5,
          1992.6,
          1992.7,
          1992.8,
          1992.9,
          1993,
          1993.1,
          1993.2,
          1993.3,
          1993.4,
          1993.5,
          1993.6,
          1993.7,
          1993.8,
          1993.9,
          1994,
          1994.1,
          1994.2,
          1994.3,
          1994.4,
          1994.5,
          1994.6,
          1994.7,
          1994.8,
          1994.9,
          1995,
          1995.1,
          1995.2,
          1995.3,
          1995.4,
          1995.5,
          1995.6,
          1995.7,
          1995.8,
          1995.9,
          1996,
          1996.1,
          1996.2,
          1996.3,
          1996.4,
          1996.5,
          1996.6,
          1996.7,
          1996.8,
          1996.9,
          1997,
          1997.1,
          1997.2,
          1997.3,
          1997.4,
          1997.5,
          1997.6,
          1997.7,
          1997.8,
          1997.9,
          1998,
          1998.1,
          1998.2,
          1998.3,
          1998.4,
          1998.5,
          1998.6,
          1998.7,
          1998.8,
          1998.9,
          1999,
          1999.1,
          1999.2,
          1999.3,
          1999.4,
          1999.5,
          1999.6,
          1999.7,
          1999.8,
          1999.9,
          2000,
          2000.1,
          2000.2,
          2000.3,
          2000.4,
          2000.5,
          2000.6,
          2000.7,
          2000.8,
          2000.9,
          2001,
          2001.1,
          2001.2,
          2001.3,
          2001.4,
          2001.5,
          2001.6,
          2001.7,
          2001.8,
          2001.9,
          2002,
          2002.1,
          2002.2,
          2002.3,
          2002.4,
          2002.5,
          2002.6,
          2002.7,
          2002.8,
          2002.9,
          2003,
          2003.1,
          2003.2,
          2003.3,
          2003.4,
          2003.5,
          2003.6,
          2003.7,
          2003.8,
          2003.9,
          2004,
          2004.1,
          2004.2,
          2004.3,
          2004.4,
          2004.5,
          2004.6,
          2004.7,
          2004.8,
          2004.9,
          2005,
          2005.1,
          2005.2,
          2005.3,
          2005.4,
          2005.5,
          2005.6,
          2005.7,
          2005.8,
          2005.9,
          2006,
          2006.1,
          2006.2,
          2006.3,
          2006.4,
          2006.5,
          2006.6,
          2006.7,
          2006.8,
          2006.9,
          2007,
          2007.1,
          2007.2,
          2007.3,
          2007.4,
          2007.5,
          2007.6,
          2007.7,
          2007.8,
          2007.9,
          2008,
          2008.1,
          2008.2,
          2008.3,
          2008.4,
          2008.5,
          2008.6,
          2008.7,
          2008.8,
          2008.9,
          2009,
          2009.1,
          2009.2,
          2009.3,
          2009.4,
          2009.5,
          2009.6,
          2009.7,
          2009.8,
          2009.9,
          2010,
          2010.1,
          2010.2,
          2010.3,
          2010.4,
          2010.5,
          2010.6,
          2010.7,
          2010.8,
          2010.9,
          2011,
          2011.1,
          2011.2,
          2011.3,
          2011.4,
          2011.5,
          2011.6,
          2011.7,
          2011.8,
          2011.9,
          2012,
          2012.1,
          2012.2,
          2012.3,
          2012.4,
          2012.5,
          2012.6,
          2012.7,
          2012.8,
          2012.9,
          2013,
          2013.1,
          2013.2,
          2013.3,
          2013.4,
          2013.5,
          2013.6,
          2013.7,
          2013.8,
          2013.9,
          2014,
          2014.1,
          2014.2,
          2014.3,
          2014.4,
          2014.5,
          2014.6,
          2014.7,
          2014.8,
          2014.9,
          2015,
          2015.1,
          2015.2,
          2015.3,
          2015.4,
          2015.5,
          2015.6,
          2015.7,
          2015.8,
          2015.9,
          2016,
          2016.1,
          2016.2,
          2016.3,
          2016.4,
          2016.5,
          2016.6,
          2016.7,
          2016.8,
          2016.9,
          2017,
          2017.1,
          2017.2,
          2017.3,
          2017.4,
          2017.5,
          2017.6,
          2017.7,
          2017.8,
          2017.9,
          2018,
          2018.1,
          2018.2,
          2018.3,
          2018.4,
          2018.5,
          2018.6,
          2018.7,
          2018.8,
          2018.9,
          2019,
          2019.1,
          2019.2,
          2019.3,
          2019.4,
          2019.5,
          2019.6,
          2019.7,
          2019.8,
          2019.9,
          2020
         ],
         "xaxis": "x",
         "y": [
          0.44488569736186356,
          0.42979772187337933,
          0.42049372601086227,
          0.4146949900267846,
          0.41024118066224713,
          0.407103135641618,
          0.4046902233583686,
          0.4027717600795958,
          0.4013703704645484,
          0.40030384162568583,
          0.39941201275011895,
          0.39880450449164273,
          0.39850386560779805,
          0.39844273134833974,
          0.39847589790613763,
          0.39862426067584883,
          0.3990495227622016,
          0.3998081420876448,
          0.40084122384668036,
          0.4019746338078699,
          0.4030195038090424,
          0.40423785029806314,
          0.40583962690898273,
          0.40778767300581675,
          0.40980156786317334,
          0.4116538668205659,
          0.41374156290940345,
          0.4162876880523109,
          0.4192128997817191,
          0.4221362375652845,
          0.4248286795992561,
          0.4278070405231663,
          0.43124544200193055,
          0.43497674010718357,
          0.4385620010207586,
          0.44218617036420066,
          0.44618241772091066,
          0.4505667927247495,
          0.45507674873468346,
          0.45942687627078815,
          0.4639874481993724,
          0.46897000288199864,
          0.47430726999109235,
          0.4796574663683214,
          0.4848361695258266,
          0.49030760710054955,
          0.4962788332183444,
          0.5026196238267225,
          0.5088673093382031,
          0.5148864852938899,
          0.521283017788972,
          0.5282885628582942,
          0.5356917070098884,
          0.5428649052610957,
          0.5499111381012505,
          0.5574034126186589,
          0.5653887018345581,
          0.5735137155253964,
          0.5815155273999322,
          0.5898200696999635,
          0.5985367524221494,
          0.6075303982413852,
          0.6165014121046697,
          0.6256253424762748,
          0.6351397120560516,
          0.6450584839754375,
          0.6551836951232329,
          0.6652066598763312,
          0.675396698144756,
          0.6861011831210878,
          0.6973496640166,
          0.7088541613536239,
          0.720126291266747,
          0.7315517975465047,
          0.7435123604275723,
          0.7559641121385612,
          0.7684999863325745,
          0.7810573563069235,
          0.7940256963999057,
          0.8074797867071625,
          0.8212426338773271,
          0.8350104737016251,
          0.8490344300936582,
          0.8635574629877739,
          0.8785748260661551,
          0.8938431927233143,
          0.9090448020253628,
          0.9245417854354904,
          0.9406745798990971,
          0.9574345145308422,
          0.9744672320890994,
          0.9913187868021309,
          1.008521645683281,
          1.0263818059005976,
          1.0447930390861921,
          1.0633043624513419,
          1.082003882434205,
          1.1012522719507156,
          1.1210879453182225,
          1.1412884670654384,
          1.1615901008667653,
          1.182320122029611,
          1.203684313813895,
          1.2256395342293815,
          1.2478983119054639,
          1.2702176081191505,
          1.2930434277329894,
          1.3166577475369527,
          1.3409924072344404,
          1.365631587918046,
          1.390245071209753,
          1.4154473340576479,
          1.4414630239866077,
          1.4681215248605757,
          1.4949572483533322,
          1.5222034648635951,
          1.5501825261964732,
          1.578897054462969,
          1.6080777910678337,
          1.6375230016361915,
          1.6676107250730539,
          1.6985212402976313,
          1.7301758069080153,
          1.7622397899364741,
          1.7945647391555906,
          1.8276458492631455,
          1.8617224065630567,
          1.896671706661903,
          1.932011742684233,
          1.9675819978810667,
          2.0040135790219424,
          2.041472174430849,
          2.079723949684584,
          2.1183122728734936,
          2.1575959557180013,
          2.197860986942624,
          2.239074444420226,
          2.280919005321452,
          2.3232793267330747,
          2.3665635953108084,
          2.4109304506888867,
          2.456263963602912,
          2.5021850593963917,
          2.548660638141911,
          2.5962151211204536,
          2.6450487409422365,
          2.694983422217729,
          2.7454772908879654,
          2.796562315981066,
          2.8488530754569945,
          2.902468275215826,
          2.9571092257307354,
          3.01235176363381,
          3.068661009956347,
          3.126293502645128,
          3.1851807814454487,
          3.244958872151399,
          3.3056067286272572,
          3.3675591795463227,
          3.430957551212153,
          3.49564677529153,
          3.5612057639456838,
          3.6277250615550054,
          3.695752571450593,
          3.765455830383336,
          3.836599033426958,
          3.9085908592839824,
          3.9816501165333036,
          4.056376961338396,
          4.132848100409341,
          4.210694911438573,
          4.289545313027062,
          4.369955951629848,
          4.4521655738299755,
          4.536069172077963,
          4.62125482070427,
          4.707800856433293,
          4.796174169632128,
          4.886503920320617,
          4.978591868437156,
          5.071974583844965,
          5.166872770848327,
          5.263863442773039,
          5.363087924849087,
          5.4642467012173395,
          5.566704059118066,
          5.6708627596582,
          5.777321237830399,
          5.8861184312629105,
          5.996805451812219,
          6.10907736187322,
          6.223577395438805,
          6.340541825626814,
          6.45982625350148,
          6.580963760207301,
          6.704137731295722,
          6.82986239724967,
          6.958261415409737,
          7.089086151620887,
          7.221824218633656,
          7.35683594918044,
          7.494744823589125,
          7.6356729857648205,
          7.779246003876181,
          7.924780084825084,
          8.072868364893369,
          8.224130150907355,
          8.378569677451727,
          8.53564041862456,
          8.695112894319964,
          8.857728343187802,
          9.02373853610588,
          9.192953933617543,
          9.364836622652588,
          9.539685127742322,
          9.718087371202781,
          9.90016985909703,
          10.085621559452916,
          10.27386493508302,
          10.465417981919204,
          10.66098011849094,
          10.860661745438286,
          11.063994882004284,
          11.27015762870239,
          11.479866660861763,
          11.69413126538862,
          11.913096376925742,
          12.136053234262967,
          12.36191387370069,
          12.59187263478401,
          12.8266778734994,
          13.066168793647131,
          13.30951062818081,
          13.557059571775458,
          13.809469569808954,
          14.066810793322079,
          14.328702051285665,
          14.594948713687293,
          14.86620727041247,
          15.142809414759254,
          15.424684026213196,
          15.711361339222767,
          16.002589684889493,
          16.29934783024467,
          16.60224524628491,
          16.91120288585311,
          17.22545911362089,
          17.544248793565398,
          17.868963925777187,
          18.200286542420614,
          18.537979641073274,
          18.881100096497576,
          19.230155437084495,
          19.585953917445863,
          19.948606763844005,
          20.31764560068295,
          20.69268931285016,
          21.074639679416617,
          21.464027365706762,
          21.86080438962778,
          22.264349518274276,
          22.67417395059206,
          23.091553330559055,
          23.51737259892315,
          23.951576087132022,
          24.39317565943954,
          24.84117840098588,
          25.297376929543933,
          25.76264071457742,
          26.236675954552492,
          26.71827459581352,
          27.20806318029699,
          27.70711944874288,
          28.215607595360726,
          28.73293167062026,
          29.25856140704414,
          29.793668855743814,
          30.338959737550883,
          30.894383647797568,
          31.45914199139318,
          32.032621018683024,
          32.61645465574453,
          33.21175410344506,
          33.8184394682135,
          34.43525009610201,
          35.0609982752734,
          35.69796983449273,
          36.347251720956415,
          37.00846273619292,
          37.68004026501192,
          38.362760699246785,
          39.058075851775,
          39.766227302169916,
          40.486438721862,
          41.21790847977731,
          41.96218205867474,
          42.72024783845622,
          43.49206214590452,
          44.276563102392004,
          45.07286908770051,
          45.88311006485549,
          46.708754822313466,
          47.54970207465628,
          48.40429435391292,
          49.27101143411009,
          50.152816876688114,
          51.05111063339309,
          51.96538661996005,
          52.89356925771063,
          53.83660097632879,
          54.7964563830675,
          55.77347964071511,
          56.76663325498528,
          57.77471258133522,
          58.7997502725111,
          59.843120148376144,
          60.904777041028005,
          61.98328090785756,
          63.077359257947144,
          64.18980269644977,
          65.32254988198277,
          66.47545058618059,
          67.64628494656844,
          68.83306515524876,
          70.03965798060624,
          71.26786870243366,
          72.51699754246953,
          73.78424307535829,
          75.07074110361694,
          76.37916936375338,
          77.70999496856122,
          79.06179662456826,
          80.43277533314611,
          81.82559537717894,
          83.24214884481094,
          84.68236567494425,
          86.1442541711678,
          87.62596855345288,
          89.13117569953968,
          90.66241967565404,
          92.21944529433553,
          93.79922538591084,
          95.39913603119452,
          97.0242387666967,
          98.67683195261964,
          100.35590329893449,
          102.05763077644012,
          103.78339878110033,
          105.53679320780752,
          107.31840269219839,
          109.12623450186109,
          110.95764903307452,
          112.81612948783688,
          114.70422373665193,
          116.62177474052164,
          118.56598401899333,
          120.53421867182215,
          122.53130077999667,
          124.56050191574205,
          126.62134560089342,
          128.7096453734275,
          130.82198676040446,
          132.9649844987708,
          135.14147719111668,
          137.3499389965433,
          139.58513592640142,
          141.84883517150283,
          144.14573371628242,
          146.476491265674,
          148.83826205919345,
          151.22727513752565,
          153.6480919578224,
          156.10402990465587,
          158.59471630688677,
          161.11617942108668,
          163.66479158938958,
          166.24689207619713,
          168.8665501332811,
          171.522856535977,
          174.20997382110733,
          176.92364948253464,
          179.67246178874908,
          182.45975075701475,
          185.28315733012056,
          188.1355526280834,
          191.0193879080229,
          193.94062533882112,
          196.89986086117588,
          199.89299308027557,
          202.91484289254953,
          205.97142205621742,
          209.06685874415504,
          212.20033739292813,
          215.36621495025423,
          218.55978189926816,
          221.78934325951448,
          225.0597279014468,
          228.36925245505492,
          231.7097818171024,
          235.07481014362074,
          238.47636980018066,
          241.9214442644008,
          245.40745216887433,
          248.9223341265554,
          252.46013908760486,
          256.0359726812288,
          259.6529678922899,
          263.3052306667572,
          266.98344130925966,
          270.69563763821907,
          274.44564527065,
          278.23140923125334,
          282.0460179577298,
          285.8901477991072,
          289.77004338984233,
          293.68689186260383,
          297.6368738042504,
          301.6117394383128,
          305.61282566742386,
          309.65060277906093,
          313.728008994837,
          317.83963530923256,
          321.9719613247825,
          326.1247024027934,
          330.3123530417259,
          334.5368583491383,
          338.7898467282877,
          343.0611518733342,
          347.36121052849774,
          351.6942083698636,
          356.0570079198852,
          360.44005282713516,
          364.84372665544566,
          369.2767744684103,
          373.7409185193067,
          378.23079782015765,
          382.734771494458,
          387.2543548738651,
          391.8031996453882,
          396.3848089935924,
          400.9915792642259,
          405.60556199046425,
          410.2294243660032,
          414.87986965547196,
          419.55808804833015,
          424.25253997342816,
          428.9519443918698,
          433.6697964548113,
          438.41041739623586,
          443.169129451929,
          447.9336771863281,
          452.7062267937658,
          457.49698677381514,
          462.30724888923186,
          467.1295991651615,
          471.9497122788249,
          476.77251501600927,
          481.61327443064283,
          486.4745516688103,
          491.3457778297823,
          496.2055306482675,
          501.06246145724606,
          505.933885758829,
          510.81938912164946,
          515.703602882905,
          520.5765002005982,
          525.4544778209421,
          530.3416145283754,
          535.2312755911624,
          540.1086012206396,
          544.9788656656564,
          549.85365900408,
          554.73363542747,
          559.6089532237253,
          564.4629474367891,
          569.305381510339,
          574.1527334962907,
          579.0062109136434,
          583.8517558411971,
          588.6655693084575,
          593.4639910093686,
          598.2638580409339,
          603.0625252691609,
          607.8404163858602,
          612.5916309587161,
          617.3345626389194,
          622.0726871006253,
          626.7970076340047,
          631.4908521673281,
          636.1641163284157,
          640.8290440036404,
          645.4851775351318,
          650.1199043897007,
          654.7156750362003,
          659.2884413166203,
          663.8547288500413,
          668.4136894266163,
          672.9473267260676,
          677.432065487933,
          681.892470658257,
          686.3435349098135,
          690.7797153491613,
          695.1775993484276,
          699.5379748487643,
          703.8800907953372,
          708.206253830509,
          712.5047100236251,
          716.7584949048561,
          720.9828891331305,
          725.1899065849689,
          729.3774804928034,
          733.5299030680598,
          737.6310630566747,
          741.7031437129514,
          745.7615409050798,
          749.8026939199256,
          753.804288378309,
          757.7468449070736,
          761.6615675811336,
          765.5605544939527,
          769.4347377676612,
          773.2580430592336,
          777.0396951637814,
          780.7983311998279,
          784.5344602997635,
          788.2331736938288,
          791.8795653350059,
          795.4938012965001,
          799.0867666120212,
          802.6542226855718,
          806.1770247659357,
          809.6437857696963,
          813.0812197357088,
          816.502587151987,
          819.900897256819,
          823.2490676943286,
          826.536853441794,
          829.7978370518891,
          833.0405844218924,
          836.2515651461409,
          839.4037820556869,
          842.5149173580799,
          845.6010105869999,
          848.6592274379002,
          851.669782318733,
          854.6217592907224,
          857.5376841294197,
          860.4259247956433,
          863.2779810510915,
          866.0692750870875,
          868.7978600755904,
          871.4947936949598,
          874.1717259397007,
          876.8186124466584,
          879.4055497930192,
          881.9394025136678,
          884.4609303889778,
          886.9828757144359,
          889.4894785555312,
          891.9412018881081,
          894.3568241865355,
          896.7691343286906,
          899.1786084456022,
          901.5602036368972,
          903.900687439901,
          906.2272204375644,
          908.5457301996445,
          910.8462346746331,
          913.1082808450543,
          915.3433044779462,
          917.5666778364744,
          919.7789566533434,
          921.9667225901649,
          924.1081793672513,
          926.2190463696415,
          928.3236337807365,
          930.4248791743253,
          932.5043292263808,
          934.5272564759609,
          936.5140045209145,
          938.4937239910169,
          940.4655171024608,
          942.4032450124251,
          944.2958934353964,
          946.1713109730165,
          948.0361786558927,
          949.8802113386264,
          951.681624419896,
          953.4532834116185,
          955.2138587129499,
          956.9653405461197,
          958.6938891218227,
          960.3761453025224,
          962.0309720586846,
          963.6863785709352,
          965.3471387992903,
          966.9949193430554,
          968.5954814919464,
          970.1755184505399,
          971.7651151471415,
          973.3631796009053,
          974.9419282575624,
          976.4896195680124,
          978.0338051085832,
          979.5793150206899,
          981.1124242449656,
          982.6062594694966,
          984.0715707207106,
          985.527911775011,
          986.9757201238494,
          988.3970724216293,
          989.7639980141124,
          991.098044222241,
          992.427251416051,
          993.7532561879408,
          995.0517133633844,
          996.2869288248069,
          997.4942093545541,
          998.6982891328958,
          999.8936397731449,
          1001.048671037998,
          1002.1635709403355,
          1003.266986848527,
          1004.3637080836892,
          1005.4393988620179,
          1006.4719809915823,
          1007.4824315187501,
          1008.4879502888592,
          1009.4872624701284,
          1010.461333029129,
          1011.3889450361409,
          1012.2991038016917,
          1013.2141080404464,
          1014.1314759853643,
          1015.024296706138,
          1015.8640710663877,
          1016.6913670876517,
          1017.5256270391931,
          1018.3580599898144,
          1019.1561034955361,
          1019.9285185993375,
          1020.7023453126628,
          1021.4814186647685,
          1022.250638519954,
          1022.9915365467257,
          1023.7300955902207,
          1024.4836464292798,
          1025.2517379573396,
          1026.0166454618197,
          1026.762165532998,
          1027.5182867776457,
          1028.3032061898564,
          1029.1110961205154,
          1029.9123730396036,
          1030.6767937940542,
          1031.438933259633,
          1032.2125476782494,
          1032.984110507299,
          1033.7173492150923,
          1034.419006699507,
          1035.114163018644,
          1035.8041196359122,
          1036.4697913913637,
          1037.0892946487306,
          1037.6890732865686,
          1038.2853909446167,
          1038.8742906164325,
          1039.4320660219469,
          1039.9438363214551,
          1040.4440823154891,
          1040.9500634466058,
          1041.454131725793,
          1041.9239840740695,
          1042.3427613340602,
          1042.7573630902928,
          1043.190062867245,
          1043.6288321453849,
          1044.0278632163308,
          1044.380598513981,
          1044.737358883783,
          1045.1056007136674,
          1045.4623614798695,
          1045.78295595658,
          1046.098221427444,
          1046.4178185393835,
          1046.733804516935,
          1047.025374274329,
          1047.3024600992194,
          1047.5828071871656,
          1047.8689047563928,
          1048.1488752675218,
          1048.4007814074496,
          1048.6390521824712,
          1048.8920388465804,
          1049.1662261012364,
          1049.4458238017799,
          1049.695506156762,
          1049.9308613448663,
          1050.1882591096207,
          1050.4706600274371,
          1050.7537989997302,
          1051.0195186031613,
          1051.2962122366162,
          1051.5905366247882,
          1051.8912556875814,
          1052.1726779648502,
          1052.4406467789022,
          1052.7150057719796,
          1052.997681637573,
          1053.2730881727118,
          1053.5124695315392,
          1053.729229220351,
          1053.9551560299217,
          1054.19591657044,
          1054.4306158847396,
          1054.618689180133,
          1054.7853535561323,
          1054.9622777861573,
          1055.1477853289227,
          1055.312855977883,
          1055.450258389136,
          1055.5886517320112,
          1055.733703796372,
          1055.873430385496,
          1055.9868816297555,
          1056.091094956779,
          1056.2024483485106,
          1056.3206638478232,
          1056.429490447785,
          1056.5070657744354,
          1056.5771762392487,
          1056.6637759490704,
          1056.767085388049,
          1056.863820528746,
          1056.920253928946,
          1056.9702262603776,
          1057.0376456537358,
          1057.1170261963014,
          1057.1780219434836,
          1057.222393141557,
          1057.2764492307513,
          1057.3444715300764,
          1057.4134401108129,
          1057.4648450137104,
          1057.5199007122994,
          1057.5947993097718,
          1057.6897409726912,
          1057.7894627532028,
          1057.8764098621498,
          1057.9770505072331,
          1058.1119938874735,
          1058.2790668506925,
          1058.4535773396344,
          1058.602625614401,
          1058.7558235432737,
          1058.930566068646,
          1059.116930480734,
          1059.2814880112446,
          1059.4236039337238,
          1059.5678247495096,
          1059.7166268047042,
          1059.853931927305,
          1059.9574034288894,
          1060.0484426161559,
          1060.143441369105,
          1060.2402461628028,
          1060.3187693231314,
          1060.360612639854,
          1060.3960451567966,
          1060.4438750434524,
          1060.499538087452,
          1060.5353494288981,
          1060.5324461546743,
          1060.530060130285,
          1060.541815034975,
          1060.5564357603087,
          1060.543094270516,
          1060.5154788870368,
          1060.4965106547575,
          1060.487235784672,
          1060.4699733991713,
          1060.4271112220779,
          1060.3838219894965,
          1060.3536365392767,
          1060.3320495165137,
          1060.2968159480263,
          1060.2357232769878,
          1060.1800567279652,
          1060.1448040634048,
          1060.1223401892937,
          1060.0826558639055,
          1060.0171124628046,
          1059.9632055031586,
          1059.931238525236,
          1059.907700608737,
          1059.8638726219533,
          1059.820249792211,
          1059.7972047763676,
          1059.7944201357245,
          1059.7932846976626,
          1059.7806655120899,
          1059.7812466221135,
          1059.804970634779,
          1059.8442101443668,
          1059.874032918613,
          1059.8831810054908,
          1059.9011234336217,
          1059.9399342980987,
          1059.9886137743463,
          1060.013457171874,
          1060.0084355281117,
          1060.010347682075,
          1060.0265536601396,
          1060.0399986172993,
          1060.0235291958136,
          1060.0013605001548,
          1059.9882522396344,
          1059.9802416587052,
          1059.9565644354097,
          1059.913781477225,
          1059.875078882456,
          1059.8477330015662,
          1059.82291526497,
          1059.777064303166,
          1059.7126010810844,
          1059.6583472863242,
          1059.6230455654356,
          1059.5938361930007,
          1059.538104840113,
          1059.463501079227,
          1059.4019840486321,
          1059.3574105397104,
          1059.3101539544818,
          1059.2380391226482,
          1059.168259369396,
          1059.1126158218756,
          1059.065103765704,
          1059.0036352693146,
          1058.9292314737904,
          1058.8648974164023,
          1058.8166954744784,
          1058.7740672620791,
          1058.7124871017,
          1058.6405851487884,
          1058.5870148535441,
          1058.558866120525,
          1058.5413418921762,
          1058.502445366238,
          1058.4601784925114,
          1058.442698815754,
          1058.4502069668144,
          1058.4588311466878,
          1058.4507561366001,
          1058.452779625271,
          1058.4721117322752,
          1058.4961464338246,
          1058.495544237622,
          1058.4754129998557,
          1058.460671446605,
          1058.4523152373722,
          1058.4270584299684,
          1058.35692124932,
          1058.2689567548314,
          1058.14288685047,
          1057.9025452769863,
          1057.261918497005,
          1055.6892748054192,
          1052.8125579444252,
          1048.7103523608782,
          1043.6625350959782,
          1037.9319302984545,
          1031.7220633962604,
          1025.1856944967274,
          1018.4232894892168,
          1011.4865572753613,
          1004.2933633774632,
          996.6655720027303,
          988.4648128849976,
          979.770171106796,
          970.71518831695,
          961.425635252561,
          952.0083514180707,
          942.5385362471146,
          933.0711357050178,
          923.6496266146573,
          914.207885506611,
          904.6704632223325,
          894.9946186195031,
          885.2184020542671,
          875.4146509654402,
          865.6643196781148,
          856.0450894784387,
          846.5843655189786,
          837.3007955048976,
          828.2186640126938,
          819.3108000339654,
          810.4498375132702,
          801.5820451147586,
          792.7506451439986,
          784.0110174862507,
          775.3981848527507,
          766.9545945828868,
          758.7211948360783,
          750.702090415129,
          742.8790079910357,
          735.1990546080965,
          727.5639464600777,
          719.887142162063,
          712.1835839330512,
          704.5075525690421,
          696.9114928750079,
          689.4297365381849,
          682.089419879154,
          674.9095715302034,
          667.8765855902368,
          660.9619083921427,
          654.1275467324016,
          647.3293094962455,
          640.5745902198283,
          633.8900533550932,
          627.2934127040961,
          620.7939292833086,
          614.4038482790141,
          608.1335492305717,
          602.0028494638433,
          596.0462865229814,
          590.3130228411071,
          584.8525164077322,
          579.6636600668321,
          574.6851557267395,
          569.7981226291604,
          564.8678787360443,
          559.8280726691154,
          554.732762449971,
          549.6516306152669,
          544.627054847932,
          539.6498632775538,
          534.7679881767119,
          529.9972892462331,
          525.3325691276286,
          520.7704727437803,
          516.3037413230879,
          511.9354614600876,
          507.66091898103144,
          503.4767130975027,
          499.3766117339178,
          495.34042016219826,
          491.35270503545337,
          487.40371898395466,
          483.50075775907965,
          479.6121150318743,
          475.6551620600474,
          471.6150884995489,
          467.5340433747755,
          463.4373135768789,
          459.2548090487371,
          454.81619705498395,
          449.9951677129321,
          444.82543853882737,
          439.4119430873441,
          433.8376365102442,
          428.15374306001615,
          422.4176250034764,
          416.69504938508715,
          411.0470425480794,
          405.51660740485016,
          400.13712151074765,
          394.9215070453131,
          389.8874271531892,
          385.0557953886205,
          380.47503700800087,
          376.2291002467219,
          372.34931592513055,
          368.7616240586642,
          365.39948558517045,
          362.2072444291791,
          359.14930818720757,
          356.1945051615234,
          353.3386309660723,
          350.56279193759923,
          347.81651602617313,
          345.023228250051,
          342.1468349924556,
          339.2434417998245,
          336.3803775767299,
          333.5896623525221,
          330.8760888224145,
          328.2426104275685,
          325.6916114309601,
          323.2336563553748,
          320.8786626918677,
          318.6385322196324,
          316.51839453205207,
          314.50942095072804,
          312.5969655321071,
          310.7527865733658,
          308.9478876157879,
          307.16701635390706,
          305.4045409838211,
          303.6785677853793,
          302.023993426373,
          300.47551608116765,
          299.05277610839516,
          297.7283544759093,
          296.45507544195533,
          295.1570148029516,
          293.7663735334078,
          292.2977474956312,
          290.8115019061473,
          289.34055155249456,
          287.9002331012781,
          286.4995773332569,
          285.1442224185415,
          283.83898528650906,
          282.59965844950943,
          281.4498197998353,
          280.39253216729566,
          279.3856481016832,
          278.40258556423066,
          277.4360607891662,
          276.48424664711354,
          275.53282901988047,
          274.5781963057356,
          273.62905994762855,
          272.6811176900645,
          271.69900295549445,
          270.6399010020901,
          269.5332427044784,
          268.4363075140123,
          267.36602818265584,
          266.3147833331184,
          265.26490924439105,
          264.21138612489847,
          263.1664260617966,
          262.14374942780006,
          261.14857579888985,
          260.16824859608096,
          259.1978985042374,
          258.2472260367269,
          257.3250733082145,
          256.4533522881456,
          255.65482714740685,
          254.93373936344756,
          254.2812243079387,
          253.6873986155911,
          253.16578052408738,
          252.75626781529647,
          252.47451723400152,
          252.2925257411235,
          252.17486231924062,
          252.08360333843225,
          251.99389766174426,
          251.89939237801175,
          251.78889064914307,
          251.6581042099089,
          251.4818318135425,
          251.21045661865008,
          250.824877429916,
          250.3508990255312,
          249.8277307854819,
          249.2853263254864,
          248.75060131763044,
          248.23227245601512,
          247.74101020393326,
          247.300377531755,
          246.97879932872084,
          246.78014943984118,
          246.62760938045616,
          246.47184042135638,
          246.29844599806955,
          246.1128873205076,
          245.918639646218,
          245.71784760207825,
          245.51322268416405,
          245.30121328316207,
          245.06258981424628,
          244.81617482761936,
          244.61537800651388,
          244.47625222494307,
          244.3865778452378,
          244.3249402810329,
          244.2773038711577,
          244.23753026208735,
          244.19687074861994,
          244.1514139460343,
          244.10101163113464,
          244.04276715927665,
          243.9756233808654,
          243.90133318955947,
          243.82016565020498,
          243.73104767117877,
          243.63332434319423,
          243.53086572551788,
          243.42391923156828,
          243.30763068729829,
          243.1727263940143,
          243.00893654978273,
          242.81066818274513,
          242.58418687396454,
          242.33763048069278,
          242.07398716127554,
          241.79641911860415,
          241.50325232166415,
          241.19693189870884,
          240.86331118637085,
          240.46365313216575,
          239.97150497141482,
          239.42308833503913,
          238.87695298131038,
          238.3422063715003,
          237.8142309159972,
          237.2841916875391,
          236.75569189263982,
          236.23412372942417,
          235.75587663496907,
          235.39015329188598,
          235.16531493495089,
          235.00246359819675,
          234.83507109572855,
          234.65140514660237,
          234.4536673935362,
          234.24543675305804,
          234.0310190497706,
          233.8180615719629,
          233.63233027569524,
          233.52786232896364,
          233.50263025964435,
          233.5052397256908,
          233.47929452273718,
          233.4256335732129,
          233.37141159089123,
          233.3613461496654,
          233.4174341830617,
          233.50877536784873,
          233.59194138405883,
          233.59994404796456,
          233.48907989075093,
          233.32787356683713,
          233.19687196887173,
          233.09817456667741,
          232.9956525773127,
          232.8481374969548,
          232.63736565519895,
          232.37546961615777,
          232.07193149600138,
          231.71139461493559,
          231.2771915474919,
          230.82716240131433,
          230.40352374484752,
          230.01319214374826,
          229.65313019092346,
          229.3244124763184,
          229.0253768422103,
          228.74880468638284,
          228.4878277428813,
          228.23517864155974,
          227.98064813836783,
          227.72064950450627,
          227.4537926678969,
          227.18113448814864,
          226.91050883649177,
          226.64977288277865,
          226.4020305122342,
          226.16409059311002,
          225.93284697374472,
          225.70343924501694,
          225.47450069200283,
          225.24653736674847,
          225.0178463961587,
          224.78607920436238,
          224.54080759011975,
          224.2685332484054,
          223.96099145517755,
          223.63386338690097,
          223.31328933416157,
          223.0353086383187,
          222.80308178746606,
          222.5731012057407,
          222.3113327800259,
          222.02209580789093,
          221.72474099596565,
          221.4368723685778,
          221.16481722043648,
          220.90871725122568,
          220.6630061036419,
          220.41954686853407,
          220.16902984665543,
          219.90924025044578,
          219.6402272030093,
          219.36731710464184,
          219.0953354602613,
          218.83058335161448,
          218.5765173444923,
          218.33063314900556,
          218.09208026781548,
          217.86223652968738,
          217.6457727290115,
          217.44816544685935,
          217.26863578877249,
          217.10269729496386,
          216.9415848293135
         ],
         "yaxis": "y"
        }
       ],
       "layout": {
        "legend": {
         "tracegroupgap": 0
        },
        "margin": {
         "t": 60
        },
        "template": {
         "data": {
          "bar": [
           {
            "error_x": {
             "color": "#2a3f5f"
            },
            "error_y": {
             "color": "#2a3f5f"
            },
            "marker": {
             "line": {
              "color": "#E5ECF6",
              "width": 0.5
             },
             "pattern": {
              "fillmode": "overlay",
              "size": 10,
              "solidity": 0.2
             }
            },
            "type": "bar"
           }
          ],
          "barpolar": [
           {
            "marker": {
             "line": {
              "color": "#E5ECF6",
              "width": 0.5
             },
             "pattern": {
              "fillmode": "overlay",
              "size": 10,
              "solidity": 0.2
             }
            },
            "type": "barpolar"
           }
          ],
          "carpet": [
           {
            "aaxis": {
             "endlinecolor": "#2a3f5f",
             "gridcolor": "white",
             "linecolor": "white",
             "minorgridcolor": "white",
             "startlinecolor": "#2a3f5f"
            },
            "baxis": {
             "endlinecolor": "#2a3f5f",
             "gridcolor": "white",
             "linecolor": "white",
             "minorgridcolor": "white",
             "startlinecolor": "#2a3f5f"
            },
            "type": "carpet"
           }
          ],
          "choropleth": [
           {
            "colorbar": {
             "outlinewidth": 0,
             "ticks": ""
            },
            "type": "choropleth"
           }
          ],
          "contour": [
           {
            "colorbar": {
             "outlinewidth": 0,
             "ticks": ""
            },
            "colorscale": [
             [
              0,
              "#0d0887"
             ],
             [
              0.1111111111111111,
              "#46039f"
             ],
             [
              0.2222222222222222,
              "#7201a8"
             ],
             [
              0.3333333333333333,
              "#9c179e"
             ],
             [
              0.4444444444444444,
              "#bd3786"
             ],
             [
              0.5555555555555556,
              "#d8576b"
             ],
             [
              0.6666666666666666,
              "#ed7953"
             ],
             [
              0.7777777777777778,
              "#fb9f3a"
             ],
             [
              0.8888888888888888,
              "#fdca26"
             ],
             [
              1,
              "#f0f921"
             ]
            ],
            "type": "contour"
           }
          ],
          "contourcarpet": [
           {
            "colorbar": {
             "outlinewidth": 0,
             "ticks": ""
            },
            "type": "contourcarpet"
           }
          ],
          "heatmap": [
           {
            "colorbar": {
             "outlinewidth": 0,
             "ticks": ""
            },
            "colorscale": [
             [
              0,
              "#0d0887"
             ],
             [
              0.1111111111111111,
              "#46039f"
             ],
             [
              0.2222222222222222,
              "#7201a8"
             ],
             [
              0.3333333333333333,
              "#9c179e"
             ],
             [
              0.4444444444444444,
              "#bd3786"
             ],
             [
              0.5555555555555556,
              "#d8576b"
             ],
             [
              0.6666666666666666,
              "#ed7953"
             ],
             [
              0.7777777777777778,
              "#fb9f3a"
             ],
             [
              0.8888888888888888,
              "#fdca26"
             ],
             [
              1,
              "#f0f921"
             ]
            ],
            "type": "heatmap"
           }
          ],
          "heatmapgl": [
           {
            "colorbar": {
             "outlinewidth": 0,
             "ticks": ""
            },
            "colorscale": [
             [
              0,
              "#0d0887"
             ],
             [
              0.1111111111111111,
              "#46039f"
             ],
             [
              0.2222222222222222,
              "#7201a8"
             ],
             [
              0.3333333333333333,
              "#9c179e"
             ],
             [
              0.4444444444444444,
              "#bd3786"
             ],
             [
              0.5555555555555556,
              "#d8576b"
             ],
             [
              0.6666666666666666,
              "#ed7953"
             ],
             [
              0.7777777777777778,
              "#fb9f3a"
             ],
             [
              0.8888888888888888,
              "#fdca26"
             ],
             [
              1,
              "#f0f921"
             ]
            ],
            "type": "heatmapgl"
           }
          ],
          "histogram": [
           {
            "marker": {
             "pattern": {
              "fillmode": "overlay",
              "size": 10,
              "solidity": 0.2
             }
            },
            "type": "histogram"
           }
          ],
          "histogram2d": [
           {
            "colorbar": {
             "outlinewidth": 0,
             "ticks": ""
            },
            "colorscale": [
             [
              0,
              "#0d0887"
             ],
             [
              0.1111111111111111,
              "#46039f"
             ],
             [
              0.2222222222222222,
              "#7201a8"
             ],
             [
              0.3333333333333333,
              "#9c179e"
             ],
             [
              0.4444444444444444,
              "#bd3786"
             ],
             [
              0.5555555555555556,
              "#d8576b"
             ],
             [
              0.6666666666666666,
              "#ed7953"
             ],
             [
              0.7777777777777778,
              "#fb9f3a"
             ],
             [
              0.8888888888888888,
              "#fdca26"
             ],
             [
              1,
              "#f0f921"
             ]
            ],
            "type": "histogram2d"
           }
          ],
          "histogram2dcontour": [
           {
            "colorbar": {
             "outlinewidth": 0,
             "ticks": ""
            },
            "colorscale": [
             [
              0,
              "#0d0887"
             ],
             [
              0.1111111111111111,
              "#46039f"
             ],
             [
              0.2222222222222222,
              "#7201a8"
             ],
             [
              0.3333333333333333,
              "#9c179e"
             ],
             [
              0.4444444444444444,
              "#bd3786"
             ],
             [
              0.5555555555555556,
              "#d8576b"
             ],
             [
              0.6666666666666666,
              "#ed7953"
             ],
             [
              0.7777777777777778,
              "#fb9f3a"
             ],
             [
              0.8888888888888888,
              "#fdca26"
             ],
             [
              1,
              "#f0f921"
             ]
            ],
            "type": "histogram2dcontour"
           }
          ],
          "mesh3d": [
           {
            "colorbar": {
             "outlinewidth": 0,
             "ticks": ""
            },
            "type": "mesh3d"
           }
          ],
          "parcoords": [
           {
            "line": {
             "colorbar": {
              "outlinewidth": 0,
              "ticks": ""
             }
            },
            "type": "parcoords"
           }
          ],
          "pie": [
           {
            "automargin": true,
            "type": "pie"
           }
          ],
          "scatter": [
           {
            "fillpattern": {
             "fillmode": "overlay",
             "size": 10,
             "solidity": 0.2
            },
            "type": "scatter"
           }
          ],
          "scatter3d": [
           {
            "line": {
             "colorbar": {
              "outlinewidth": 0,
              "ticks": ""
             }
            },
            "marker": {
             "colorbar": {
              "outlinewidth": 0,
              "ticks": ""
             }
            },
            "type": "scatter3d"
           }
          ],
          "scattercarpet": [
           {
            "marker": {
             "colorbar": {
              "outlinewidth": 0,
              "ticks": ""
             }
            },
            "type": "scattercarpet"
           }
          ],
          "scattergeo": [
           {
            "marker": {
             "colorbar": {
              "outlinewidth": 0,
              "ticks": ""
             }
            },
            "type": "scattergeo"
           }
          ],
          "scattergl": [
           {
            "marker": {
             "colorbar": {
              "outlinewidth": 0,
              "ticks": ""
             }
            },
            "type": "scattergl"
           }
          ],
          "scattermapbox": [
           {
            "marker": {
             "colorbar": {
              "outlinewidth": 0,
              "ticks": ""
             }
            },
            "type": "scattermapbox"
           }
          ],
          "scatterpolar": [
           {
            "marker": {
             "colorbar": {
              "outlinewidth": 0,
              "ticks": ""
             }
            },
            "type": "scatterpolar"
           }
          ],
          "scatterpolargl": [
           {
            "marker": {
             "colorbar": {
              "outlinewidth": 0,
              "ticks": ""
             }
            },
            "type": "scatterpolargl"
           }
          ],
          "scatterternary": [
           {
            "marker": {
             "colorbar": {
              "outlinewidth": 0,
              "ticks": ""
             }
            },
            "type": "scatterternary"
           }
          ],
          "surface": [
           {
            "colorbar": {
             "outlinewidth": 0,
             "ticks": ""
            },
            "colorscale": [
             [
              0,
              "#0d0887"
             ],
             [
              0.1111111111111111,
              "#46039f"
             ],
             [
              0.2222222222222222,
              "#7201a8"
             ],
             [
              0.3333333333333333,
              "#9c179e"
             ],
             [
              0.4444444444444444,
              "#bd3786"
             ],
             [
              0.5555555555555556,
              "#d8576b"
             ],
             [
              0.6666666666666666,
              "#ed7953"
             ],
             [
              0.7777777777777778,
              "#fb9f3a"
             ],
             [
              0.8888888888888888,
              "#fdca26"
             ],
             [
              1,
              "#f0f921"
             ]
            ],
            "type": "surface"
           }
          ],
          "table": [
           {
            "cells": {
             "fill": {
              "color": "#EBF0F8"
             },
             "line": {
              "color": "white"
             }
            },
            "header": {
             "fill": {
              "color": "#C8D4E3"
             },
             "line": {
              "color": "white"
             }
            },
            "type": "table"
           }
          ]
         },
         "layout": {
          "annotationdefaults": {
           "arrowcolor": "#2a3f5f",
           "arrowhead": 0,
           "arrowwidth": 1
          },
          "autotypenumbers": "strict",
          "coloraxis": {
           "colorbar": {
            "outlinewidth": 0,
            "ticks": ""
           }
          },
          "colorscale": {
           "diverging": [
            [
             0,
             "#8e0152"
            ],
            [
             0.1,
             "#c51b7d"
            ],
            [
             0.2,
             "#de77ae"
            ],
            [
             0.3,
             "#f1b6da"
            ],
            [
             0.4,
             "#fde0ef"
            ],
            [
             0.5,
             "#f7f7f7"
            ],
            [
             0.6,
             "#e6f5d0"
            ],
            [
             0.7,
             "#b8e186"
            ],
            [
             0.8,
             "#7fbc41"
            ],
            [
             0.9,
             "#4d9221"
            ],
            [
             1,
             "#276419"
            ]
           ],
           "sequential": [
            [
             0,
             "#0d0887"
            ],
            [
             0.1111111111111111,
             "#46039f"
            ],
            [
             0.2222222222222222,
             "#7201a8"
            ],
            [
             0.3333333333333333,
             "#9c179e"
            ],
            [
             0.4444444444444444,
             "#bd3786"
            ],
            [
             0.5555555555555556,
             "#d8576b"
            ],
            [
             0.6666666666666666,
             "#ed7953"
            ],
            [
             0.7777777777777778,
             "#fb9f3a"
            ],
            [
             0.8888888888888888,
             "#fdca26"
            ],
            [
             1,
             "#f0f921"
            ]
           ],
           "sequentialminus": [
            [
             0,
             "#0d0887"
            ],
            [
             0.1111111111111111,
             "#46039f"
            ],
            [
             0.2222222222222222,
             "#7201a8"
            ],
            [
             0.3333333333333333,
             "#9c179e"
            ],
            [
             0.4444444444444444,
             "#bd3786"
            ],
            [
             0.5555555555555556,
             "#d8576b"
            ],
            [
             0.6666666666666666,
             "#ed7953"
            ],
            [
             0.7777777777777778,
             "#fb9f3a"
            ],
            [
             0.8888888888888888,
             "#fdca26"
            ],
            [
             1,
             "#f0f921"
            ]
           ]
          },
          "colorway": [
           "#636efa",
           "#EF553B",
           "#00cc96",
           "#ab63fa",
           "#FFA15A",
           "#19d3f3",
           "#FF6692",
           "#B6E880",
           "#FF97FF",
           "#FECB52"
          ],
          "font": {
           "color": "#2a3f5f"
          },
          "geo": {
           "bgcolor": "white",
           "lakecolor": "white",
           "landcolor": "#E5ECF6",
           "showlakes": true,
           "showland": true,
           "subunitcolor": "white"
          },
          "hoverlabel": {
           "align": "left"
          },
          "hovermode": "closest",
          "mapbox": {
           "style": "light"
          },
          "paper_bgcolor": "white",
          "plot_bgcolor": "#E5ECF6",
          "polar": {
           "angularaxis": {
            "gridcolor": "white",
            "linecolor": "white",
            "ticks": ""
           },
           "bgcolor": "#E5ECF6",
           "radialaxis": {
            "gridcolor": "white",
            "linecolor": "white",
            "ticks": ""
           }
          },
          "scene": {
           "xaxis": {
            "backgroundcolor": "#E5ECF6",
            "gridcolor": "white",
            "gridwidth": 2,
            "linecolor": "white",
            "showbackground": true,
            "ticks": "",
            "zerolinecolor": "white"
           },
           "yaxis": {
            "backgroundcolor": "#E5ECF6",
            "gridcolor": "white",
            "gridwidth": 2,
            "linecolor": "white",
            "showbackground": true,
            "ticks": "",
            "zerolinecolor": "white"
           },
           "zaxis": {
            "backgroundcolor": "#E5ECF6",
            "gridcolor": "white",
            "gridwidth": 2,
            "linecolor": "white",
            "showbackground": true,
            "ticks": "",
            "zerolinecolor": "white"
           }
          },
          "shapedefaults": {
           "line": {
            "color": "#2a3f5f"
           }
          },
          "ternary": {
           "aaxis": {
            "gridcolor": "white",
            "linecolor": "white",
            "ticks": ""
           },
           "baxis": {
            "gridcolor": "white",
            "linecolor": "white",
            "ticks": ""
           },
           "bgcolor": "#E5ECF6",
           "caxis": {
            "gridcolor": "white",
            "linecolor": "white",
            "ticks": ""
           }
          },
          "title": {
           "x": 0.05
          },
          "xaxis": {
           "automargin": true,
           "gridcolor": "white",
           "linecolor": "white",
           "ticks": "",
           "title": {
            "standoff": 15
           },
           "zerolinecolor": "white",
           "zerolinewidth": 2
          },
          "yaxis": {
           "automargin": true,
           "gridcolor": "white",
           "linecolor": "white",
           "ticks": "",
           "title": {
            "standoff": 15
           },
           "zerolinecolor": "white",
           "zerolinewidth": 2
          }
         }
        },
        "title": {
         "text": "",
         "x": 0.5
        },
        "xaxis": {
         "anchor": "y",
         "domain": [
          0,
          1
         ],
         "title": {
          "text": "Year"
         }
        },
        "yaxis": {
         "anchor": "x",
         "domain": [
          0,
          1
         ],
         "title": {
          "text": "Prevalance per 100,000 population"
         }
        }
       }
      }
     },
     "metadata": {},
     "output_type": "display_data"
    }
   ],
   "source": [
    "prev_plot = px.line(\n",
    "    derived_df_0,\n",
    "    x=derived_df_0.index,\n",
    "    y=\"prevalence_infectious\",\n",
    ")\n",
    "prev_plot.update_layout(\n",
    "    title=\"\", title_x=0.5, xaxis_title=\"Year\", yaxis_title=\"Prevalance per 100,000 population\"\n",
    ")\n",
    "prev_plot.show()"
   ]
  },
  {
   "cell_type": "code",
   "execution_count": 19,
   "metadata": {},
   "outputs": [],
   "source": [
    "output = model_0.get_outputs_df()"
   ]
  },
  {
   "cell_type": "code",
   "execution_count": 20,
   "metadata": {},
   "outputs": [
    {
     "data": {
      "text/html": [
       "<div>\n",
       "<style scoped>\n",
       "    .dataframe tbody tr th:only-of-type {\n",
       "        vertical-align: middle;\n",
       "    }\n",
       "\n",
       "    .dataframe tbody tr th {\n",
       "        vertical-align: top;\n",
       "    }\n",
       "\n",
       "    .dataframe thead th {\n",
       "        text-align: right;\n",
       "    }\n",
       "</style>\n",
       "<table border=\"1\" class=\"dataframe\">\n",
       "  <thead>\n",
       "    <tr style=\"text-align: right;\">\n",
       "      <th></th>\n",
       "      <th>cumulative_deaths</th>\n",
       "      <th>cumulative_diseased</th>\n",
       "      <th>incidence</th>\n",
       "      <th>incidence_early</th>\n",
       "      <th>incidence_late</th>\n",
       "      <th>notifications</th>\n",
       "      <th>notificationsXgender_female</th>\n",
       "      <th>notificationsXgender_male</th>\n",
       "      <th>percentage_latent</th>\n",
       "      <th>prevalence_infectious</th>\n",
       "      <th>total_population</th>\n",
       "      <th>total_populationXgender_female</th>\n",
       "      <th>total_populationXgender_male</th>\n",
       "    </tr>\n",
       "  </thead>\n",
       "  <tbody>\n",
       "    <tr>\n",
       "      <th>1900.0</th>\n",
       "      <td>0.000000</td>\n",
       "      <td>0.000000</td>\n",
       "      <td>0.000000</td>\n",
       "      <td>0.000000</td>\n",
       "      <td>0.000000</td>\n",
       "      <td>0.781829</td>\n",
       "      <td>0.383096</td>\n",
       "      <td>0.398733</td>\n",
       "      <td>0.000000</td>\n",
       "      <td>0.444886</td>\n",
       "      <td>2.247768e+05</td>\n",
       "      <td>110140.650263</td>\n",
       "      <td>114636.187008</td>\n",
       "    </tr>\n",
       "    <tr>\n",
       "      <th>1900.1</th>\n",
       "      <td>0.000000</td>\n",
       "      <td>0.000000</td>\n",
       "      <td>0.367858</td>\n",
       "      <td>0.825908</td>\n",
       "      <td>0.000799</td>\n",
       "      <td>0.765944</td>\n",
       "      <td>0.375081</td>\n",
       "      <td>0.390863</td>\n",
       "      <td>0.000279</td>\n",
       "      <td>0.429798</td>\n",
       "      <td>2.247353e+05</td>\n",
       "      <td>110129.227354</td>\n",
       "      <td>114606.097480</td>\n",
       "    </tr>\n",
       "    <tr>\n",
       "      <th>1900.2</th>\n",
       "      <td>0.000000</td>\n",
       "      <td>0.000000</td>\n",
       "      <td>0.939899</td>\n",
       "      <td>2.108267</td>\n",
       "      <td>0.003680</td>\n",
       "      <td>0.740061</td>\n",
       "      <td>0.361564</td>\n",
       "      <td>0.378497</td>\n",
       "      <td>0.000538</td>\n",
       "      <td>0.420494</td>\n",
       "      <td>2.246993e+05</td>\n",
       "      <td>110120.432247</td>\n",
       "      <td>114578.833340</td>\n",
       "    </tr>\n",
       "    <tr>\n",
       "      <th>1900.3</th>\n",
       "      <td>0.000000</td>\n",
       "      <td>0.000000</td>\n",
       "      <td>1.252679</td>\n",
       "      <td>2.805608</td>\n",
       "      <td>0.008768</td>\n",
       "      <td>0.723705</td>\n",
       "      <td>0.352083</td>\n",
       "      <td>0.371621</td>\n",
       "      <td>0.000782</td>\n",
       "      <td>0.414695</td>\n",
       "      <td>2.246686e+05</td>\n",
       "      <td>110114.237721</td>\n",
       "      <td>114554.363817</td>\n",
       "    </tr>\n",
       "    <tr>\n",
       "      <th>1900.4</th>\n",
       "      <td>0.000000</td>\n",
       "      <td>0.000000</td>\n",
       "      <td>1.440055</td>\n",
       "      <td>3.219557</td>\n",
       "      <td>0.015429</td>\n",
       "      <td>0.712540</td>\n",
       "      <td>0.344712</td>\n",
       "      <td>0.367828</td>\n",
       "      <td>0.001018</td>\n",
       "      <td>0.410241</td>\n",
       "      <td>2.246433e+05</td>\n",
       "      <td>110110.616939</td>\n",
       "      <td>114532.658598</td>\n",
       "    </tr>\n",
       "    <tr>\n",
       "      <th>...</th>\n",
       "      <td>...</td>\n",
       "      <td>...</td>\n",
       "      <td>...</td>\n",
       "      <td>...</td>\n",
       "      <td>...</td>\n",
       "      <td>...</td>\n",
       "      <td>...</td>\n",
       "      <td>...</td>\n",
       "      <td>...</td>\n",
       "      <td>...</td>\n",
       "      <td>...</td>\n",
       "      <td>...</td>\n",
       "      <td>...</td>\n",
       "    </tr>\n",
       "    <tr>\n",
       "      <th>2019.6</th>\n",
       "      <td>201130.119259</td>\n",
       "      <td>697319.679710</td>\n",
       "      <td>1735.679340</td>\n",
       "      <td>8963.460790</td>\n",
       "      <td>9821.262672</td>\n",
       "      <td>10223.457866</td>\n",
       "      <td>3840.902981</td>\n",
       "      <td>6382.554885</td>\n",
       "      <td>37.943496</td>\n",
       "      <td>217.645773</td>\n",
       "      <td>1.082269e+06</td>\n",
       "      <td>543746.061268</td>\n",
       "      <td>538523.170774</td>\n",
       "    </tr>\n",
       "    <tr>\n",
       "      <th>2019.7</th>\n",
       "      <td>201616.252636</td>\n",
       "      <td>699198.540629</td>\n",
       "      <td>1735.781314</td>\n",
       "      <td>8975.357885</td>\n",
       "      <td>9813.251303</td>\n",
       "      <td>10216.073894</td>\n",
       "      <td>3837.151738</td>\n",
       "      <td>6378.922156</td>\n",
       "      <td>37.912866</td>\n",
       "      <td>217.448165</td>\n",
       "      <td>1.082430e+06</td>\n",
       "      <td>543824.199842</td>\n",
       "      <td>538605.311237</td>\n",
       "    </tr>\n",
       "    <tr>\n",
       "      <th>2019.8</th>\n",
       "      <td>202102.096635</td>\n",
       "      <td>701077.846464</td>\n",
       "      <td>1735.937718</td>\n",
       "      <td>8987.726204</td>\n",
       "      <td>9805.332149</td>\n",
       "      <td>10209.599239</td>\n",
       "      <td>3833.672692</td>\n",
       "      <td>6375.926547</td>\n",
       "      <td>37.882518</td>\n",
       "      <td>217.268636</td>\n",
       "      <td>1.082588e+06</td>\n",
       "      <td>543901.586933</td>\n",
       "      <td>538686.696824</td>\n",
       "    </tr>\n",
       "    <tr>\n",
       "      <th>2019.9</th>\n",
       "      <td>202587.689848</td>\n",
       "      <td>702957.347535</td>\n",
       "      <td>1735.865889</td>\n",
       "      <td>8997.508269</td>\n",
       "      <td>9797.502441</td>\n",
       "      <td>10203.864944</td>\n",
       "      <td>3830.402378</td>\n",
       "      <td>6373.462566</td>\n",
       "      <td>37.852262</td>\n",
       "      <td>217.102697</td>\n",
       "      <td>1.082746e+06</td>\n",
       "      <td>543978.224683</td>\n",
       "      <td>538767.327991</td>\n",
       "    </tr>\n",
       "    <tr>\n",
       "      <th>2020.0</th>\n",
       "      <td>203073.050269</td>\n",
       "      <td>704836.276619</td>\n",
       "      <td>1735.087993</td>\n",
       "      <td>8999.540146</td>\n",
       "      <td>9789.750694</td>\n",
       "      <td>10198.495533</td>\n",
       "      <td>3827.190987</td>\n",
       "      <td>6371.304546</td>\n",
       "      <td>37.822029</td>\n",
       "      <td>216.941585</td>\n",
       "      <td>1.082901e+06</td>\n",
       "      <td>544054.116691</td>\n",
       "      <td>538847.206912</td>\n",
       "    </tr>\n",
       "  </tbody>\n",
       "</table>\n",
       "<p>1201 rows × 13 columns</p>\n",
       "</div>"
      ],
      "text/plain": [
       "        cumulative_deaths  cumulative_diseased    incidence  incidence_early  \\\n",
       "1900.0           0.000000             0.000000     0.000000         0.000000   \n",
       "1900.1           0.000000             0.000000     0.367858         0.825908   \n",
       "1900.2           0.000000             0.000000     0.939899         2.108267   \n",
       "1900.3           0.000000             0.000000     1.252679         2.805608   \n",
       "1900.4           0.000000             0.000000     1.440055         3.219557   \n",
       "...                   ...                  ...          ...              ...   \n",
       "2019.6      201130.119259        697319.679710  1735.679340      8963.460790   \n",
       "2019.7      201616.252636        699198.540629  1735.781314      8975.357885   \n",
       "2019.8      202102.096635        701077.846464  1735.937718      8987.726204   \n",
       "2019.9      202587.689848        702957.347535  1735.865889      8997.508269   \n",
       "2020.0      203073.050269        704836.276619  1735.087993      8999.540146   \n",
       "\n",
       "        incidence_late  notifications  notificationsXgender_female  \\\n",
       "1900.0        0.000000       0.781829                     0.383096   \n",
       "1900.1        0.000799       0.765944                     0.375081   \n",
       "1900.2        0.003680       0.740061                     0.361564   \n",
       "1900.3        0.008768       0.723705                     0.352083   \n",
       "1900.4        0.015429       0.712540                     0.344712   \n",
       "...                ...            ...                          ...   \n",
       "2019.6     9821.262672   10223.457866                  3840.902981   \n",
       "2019.7     9813.251303   10216.073894                  3837.151738   \n",
       "2019.8     9805.332149   10209.599239                  3833.672692   \n",
       "2019.9     9797.502441   10203.864944                  3830.402378   \n",
       "2020.0     9789.750694   10198.495533                  3827.190987   \n",
       "\n",
       "        notificationsXgender_male  percentage_latent  prevalence_infectious  \\\n",
       "1900.0                   0.398733           0.000000               0.444886   \n",
       "1900.1                   0.390863           0.000279               0.429798   \n",
       "1900.2                   0.378497           0.000538               0.420494   \n",
       "1900.3                   0.371621           0.000782               0.414695   \n",
       "1900.4                   0.367828           0.001018               0.410241   \n",
       "...                           ...                ...                    ...   \n",
       "2019.6                6382.554885          37.943496             217.645773   \n",
       "2019.7                6378.922156          37.912866             217.448165   \n",
       "2019.8                6375.926547          37.882518             217.268636   \n",
       "2019.9                6373.462566          37.852262             217.102697   \n",
       "2020.0                6371.304546          37.822029             216.941585   \n",
       "\n",
       "        total_population  total_populationXgender_female  \\\n",
       "1900.0      2.247768e+05                   110140.650263   \n",
       "1900.1      2.247353e+05                   110129.227354   \n",
       "1900.2      2.246993e+05                   110120.432247   \n",
       "1900.3      2.246686e+05                   110114.237721   \n",
       "1900.4      2.246433e+05                   110110.616939   \n",
       "...                  ...                             ...   \n",
       "2019.6      1.082269e+06                   543746.061268   \n",
       "2019.7      1.082430e+06                   543824.199842   \n",
       "2019.8      1.082588e+06                   543901.586933   \n",
       "2019.9      1.082746e+06                   543978.224683   \n",
       "2020.0      1.082901e+06                   544054.116691   \n",
       "\n",
       "        total_populationXgender_male  \n",
       "1900.0                 114636.187008  \n",
       "1900.1                 114606.097480  \n",
       "1900.2                 114578.833340  \n",
       "1900.3                 114554.363817  \n",
       "1900.4                 114532.658598  \n",
       "...                              ...  \n",
       "2019.6                 538523.170774  \n",
       "2019.7                 538605.311237  \n",
       "2019.8                 538686.696824  \n",
       "2019.9                 538767.327991  \n",
       "2020.0                 538847.206912  \n",
       "\n",
       "[1201 rows x 13 columns]"
      ]
     },
     "execution_count": 20,
     "metadata": {},
     "output_type": "execute_result"
    }
   ],
   "source": [
    "derived_df_0"
   ]
  },
  {
   "cell_type": "code",
   "execution_count": 24,
   "metadata": {},
   "outputs": [
    {
     "ename": "TypeError",
     "evalue": "'NoneType' object is not subscriptable",
     "output_type": "error",
     "traceback": [
      "\u001b[1;31m---------------------------------------------------------------------------\u001b[0m",
      "\u001b[1;31mTypeError\u001b[0m                                 Traceback (most recent call last)",
      "\u001b[1;32mc:\\autumn\\notebooks\\user\\vbui\\tb_cm_manual.ipynb Cell 25\u001b[0m in \u001b[0;36m1\n\u001b[1;32m----> <a href='vscode-notebook-cell:/c%3A/autumn/notebooks/user/vbui/tb_cm_manual.ipynb#X33sZmlsZQ%3D%3D?line=0'>1</a>\u001b[0m res \u001b[39m=\u001b[39m model_0\u001b[39m.\u001b[39;49m_get_step_test()\n",
      "File \u001b[1;32mc:\\tools\\Anaconda3\\envs\\autumn\\lib\\site-packages\\summer2\\model.py:887\u001b[0m, in \u001b[0;36mCompartmentalModel._get_step_test\u001b[1;34m(self, parameters, t)\u001b[0m\n\u001b[0;32m    883\u001b[0m \u001b[39mfrom\u001b[39;00m \u001b[39msummer2\u001b[39;00m\u001b[39m.\u001b[39;00m\u001b[39mrunner\u001b[39;00m\u001b[39m.\u001b[39;00m\u001b[39mjax\u001b[39;00m\u001b[39m.\u001b[39;00m\u001b[39mmodel_impl\u001b[39;00m \u001b[39mimport\u001b[39;00m build_run_model\n\u001b[0;32m    885\u001b[0m jax_run_func, jax_runner_dict \u001b[39m=\u001b[39m build_run_model(\u001b[39mself\u001b[39m\u001b[39m.\u001b[39m_backend, base_params\u001b[39m=\u001b[39mparameters)\n\u001b[1;32m--> 887\u001b[0m \u001b[39mreturn\u001b[39;00m jax_runner_dict[\u001b[39m\"\u001b[39;49m\u001b[39mone_step\u001b[39;49m\u001b[39m\"\u001b[39;49m](parameters, t)\n",
      "File \u001b[1;32mc:\\tools\\Anaconda3\\envs\\autumn\\lib\\site-packages\\summer2\\runner\\jax\\model_impl.py:566\u001b[0m, in \u001b[0;36mbuild_run_model.<locals>.one_step\u001b[1;34m(parameters, t, comp_vals)\u001b[0m\n\u001b[0;32m    564\u001b[0m \u001b[39mdef\u001b[39;00m \u001b[39mone_step\u001b[39m(parameters: \u001b[39mdict\u001b[39m \u001b[39m=\u001b[39m \u001b[39mNone\u001b[39;00m, t: \u001b[39mfloat\u001b[39m \u001b[39m=\u001b[39m \u001b[39mNone\u001b[39;00m, comp_vals\u001b[39m=\u001b[39m\u001b[39mNone\u001b[39;00m):\n\u001b[1;32m--> 566\u001b[0m     static_graph_vals \u001b[39m=\u001b[39m static_graph_func(parameters\u001b[39m=\u001b[39;49mparameters)\n\u001b[0;32m    568\u001b[0m     \u001b[39mif\u001b[39;00m t \u001b[39mis\u001b[39;00m \u001b[39mNone\u001b[39;00m:\n\u001b[0;32m    569\u001b[0m         t \u001b[39m=\u001b[39m runner\u001b[39m.\u001b[39mmodel\u001b[39m.\u001b[39mtimes[\u001b[39m0\u001b[39m]\n",
      "File \u001b[1;32mc:\\tools\\Anaconda3\\envs\\autumn\\lib\\site-packages\\computegraph\\graph.py:109\u001b[0m, in \u001b[0;36mbuild_callable.<locals>.compute_for_keys\u001b[1;34m(**kwargs)\u001b[0m\n\u001b[0;32m    108\u001b[0m \u001b[39mdef\u001b[39;00m \u001b[39mcompute_for_keys\u001b[39m(\u001b[39m*\u001b[39m\u001b[39m*\u001b[39mkwargs):\n\u001b[1;32m--> 109\u001b[0m     results \u001b[39m=\u001b[39m compute_from_params(\u001b[39m*\u001b[39m\u001b[39m*\u001b[39mkwargs)\n\u001b[0;32m    110\u001b[0m     \u001b[39mreturn\u001b[39;00m {k: results[k] \u001b[39mfor\u001b[39;00m k \u001b[39min\u001b[39;00m targets}\n",
      "File \u001b[1;32mc:\\tools\\Anaconda3\\envs\\autumn\\lib\\site-packages\\computegraph\\graph.py:97\u001b[0m, in \u001b[0;36mbuild_callable.<locals>.compute_from_params\u001b[1;34m(**sources)\u001b[0m\n\u001b[0;32m     94\u001b[0m sources[local_source_name] \u001b[39m=\u001b[39m out_p\n\u001b[0;32m     96\u001b[0m \u001b[39mfor\u001b[39;00m node, node_spec \u001b[39min\u001b[39;00m node_dict\u001b[39m.\u001b[39mitems():  \u001b[39m# ggen:\u001b[39;00m\n\u001b[1;32m---> 97\u001b[0m     out_p[node] \u001b[39m=\u001b[39m node_spec\u001b[39m.\u001b[39mevaluate(\u001b[39m*\u001b[39m\u001b[39m*\u001b[39msources)\n\u001b[0;32m     99\u001b[0m \u001b[39mif\u001b[39;00m include_inputs:\n\u001b[0;32m    100\u001b[0m     out_p\u001b[39m.\u001b[39mupdate({k: v \u001b[39mfor\u001b[39;00m k, v \u001b[39min\u001b[39;00m sources\u001b[39m.\u001b[39mitems() \u001b[39mif\u001b[39;00m k \u001b[39m!=\u001b[39m \u001b[39m\"\u001b[39m\u001b[39mgraph_locals\u001b[39m\u001b[39m\"\u001b[39m})\n",
      "File \u001b[1;32mc:\\tools\\Anaconda3\\envs\\autumn\\lib\\site-packages\\computegraph\\types.py:118\u001b[0m, in \u001b[0;36mVariable.evaluate\u001b[1;34m(self, **sources)\u001b[0m\n\u001b[0;32m    117\u001b[0m \u001b[39mdef\u001b[39;00m \u001b[39mevaluate\u001b[39m(\u001b[39mself\u001b[39m, \u001b[39m*\u001b[39m\u001b[39m*\u001b[39msources):\n\u001b[1;32m--> 118\u001b[0m     \u001b[39mreturn\u001b[39;00m sources[\u001b[39mself\u001b[39;49m\u001b[39m.\u001b[39;49msource][\u001b[39mself\u001b[39;49m\u001b[39m.\u001b[39;49mkey]\n",
      "\u001b[1;31mTypeError\u001b[0m: 'NoneType' object is not subscriptable"
     ]
    }
   ],
   "source": [
    "res = model_0._get_step_test()"
   ]
  },
  {
   "cell_type": "code",
   "execution_count": 23,
   "metadata": {},
   "outputs": [
    {
     "data": {
      "text/plain": [
       "<bound method CompartmentalModel._get_step_test of <summer2.model.CompartmentalModel object at 0x000002667FED3610>>"
      ]
     },
     "execution_count": 23,
     "metadata": {},
     "output_type": "execute_result"
    }
   ],
   "source": [
    "res"
   ]
  }
 ],
 "metadata": {
  "kernelspec": {
   "display_name": "autumn",
   "language": "python",
   "name": "python3"
  },
  "language_info": {
   "codemirror_mode": {
    "name": "ipython",
    "version": 3
   },
   "file_extension": ".py",
   "mimetype": "text/x-python",
   "name": "python",
   "nbconvert_exporter": "python",
   "pygments_lexer": "ipython3",
   "version": "3.10.0"
  },
  "vscode": {
   "interpreter": {
    "hash": "32546788be758822ecff2a88079b35480b7d02e1a3a7c2c2e0e8f52550974ab3"
   }
  }
 },
 "nbformat": 4,
 "nbformat_minor": 4
}
