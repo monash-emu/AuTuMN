{
 "cells": [
  {
   "cell_type": "code",
   "execution_count": 1,
   "metadata": {},
   "outputs": [],
   "source": [
    "import warnings\n",
    "from typing import List\n",
    "\n",
    "import pandas as pd\n",
    "import plotly.graph_objects as go\n",
    "import plotly.express as px\n",
    "from plotly.subplots import make_subplots\n",
    "from autumn.core.inputs.database import get_input_db\n",
    "from autumn.core.project import get_project\n",
    "from autumn.settings import Region, Models\n",
    "from autumn.core import inputs\n",
    "from autumn.core.inputs.social_mixing.build_synthetic_matrices import build_synthetic_matrices\n",
    "from autumn.core.utils.display import pretty_print"
   ]
  },
  {
   "cell_type": "code",
   "execution_count": 2,
   "metadata": {},
   "outputs": [],
   "source": [
    "warnings.filterwarnings(\"ignore\")\n",
    "pd.options.plotting.backend = \"plotly\""
   ]
  },
  {
   "cell_type": "code",
   "execution_count": 3,
   "metadata": {},
   "outputs": [],
   "source": [
    "region = Region.KIRIBATI\n",
    "model = Models.TBD\n",
    "p = get_project(model, region, reload=True)\n",
    "baseline_params = p.param_set.baseline"
   ]
  },
  {
   "cell_type": "code",
   "execution_count": 4,
   "metadata": {},
   "outputs": [
    {
     "name": "stdout",
     "output_type": "stream",
     "text": [
      "Params\n",
      "{ 'age_breakpoints': [0, 5, 15, 35, 50],\n",
      "  'age_mixing': {'age_adjust': True, 'source_iso3': 'FJI'},\n",
      "  'age_specific_latency': { 'early_activation': { 0: 0.0066,\n",
      "                                                  5: 0.0027,\n",
      "                                                  15: 0.00027},\n",
      "                            'late_activation': { 0: 1.9e-11,\n",
      "                                                 5: 6.4e-06,\n",
      "                                                 15: 3.3e-06},\n",
      "                            'stabilisation': {0: 0.012, 5: 0.012, 15: 0.0054}},\n",
      "  'contact_rate': 0.00178,\n",
      "  'crude_birth_rate': 1.0,\n",
      "  'crude_death_rate': 0.0008,\n",
      "  'cumulative_start_time': 1990.0,\n",
      "  'description': None,\n",
      "  'infect_death_rate': 0.2,\n",
      "  'infectious_seed': 1.0,\n",
      "  'iso3': 'KIR',\n",
      "  'progression_multiplier': 1.0,\n",
      "  'rr_infection_latent': 0.21,\n",
      "  'rr_infection_recovered': 1.0,\n",
      "  'self_recovery_rate': 0.2,\n",
      "  'start_population_size': 33048.0,\n",
      "  'time': {'end': 2020.0, 'start': 1950.0, 'step': 0.1}}\n"
     ]
    }
   ],
   "source": [
    "pretty_print(baseline_params)"
   ]
  },
  {
   "cell_type": "code",
   "execution_count": 5,
   "metadata": {},
   "outputs": [],
   "source": [
    "iso3 = baseline_params['iso3']\n",
    "source_iso3 = baseline_params['age_mixing']['source_iso3']\n",
    "age_adjust = baseline_params['age_mixing']['age_adjust']\n",
    "age_string_map = {\n",
    "    0: \"0-4\",\n",
    "    5: \"5-14\",\n",
    "    15: \"15-34\",\n",
    "    35: \"35-49\",\n",
    "    50: \"50+\",\n",
    "}"
   ]
  },
  {
   "cell_type": "markdown",
   "metadata": {},
   "source": [
    "## Population\n"
   ]
  },
  {
   "cell_type": "code",
   "execution_count": 6,
   "metadata": {},
   "outputs": [
    {
     "name": "stdout",
     "output_type": "stream",
     "text": [
      "Modelled age groups are [0, 5, 15, 35, 50]\n"
     ]
    }
   ],
   "source": [
    "modelled_age_groups = baseline_params[\"age_breakpoints\"]\n",
    "print(f\"Modelled age groups are {modelled_age_groups}\")"
   ]
  },
  {
   "cell_type": "code",
   "execution_count": 7,
   "metadata": {},
   "outputs": [
    {
     "data": {
      "application/vnd.plotly.v1+json": {
       "config": {
        "plotlyServerURL": "https://plot.ly"
       },
       "data": [
        {
         "hovertemplate": "variable=population<br>year=%{x}<br>value=%{y}<extra></extra>",
         "legendgroup": "population",
         "line": {
          "color": "#636efa",
          "dash": "solid"
         },
         "marker": {
          "symbol": "circle"
         },
         "mode": "lines",
         "name": "population",
         "orientation": "v",
         "showlegend": true,
         "type": "scatter",
         "x": [
          1950,
          1955,
          1960,
          1965,
          1970,
          1975,
          1980,
          1985,
          1990,
          1995,
          2000,
          2005,
          2010,
          2015,
          2020
         ],
         "xaxis": "x",
         "y": [
          33048,
          36573,
          41202,
          46429,
          51151,
          55114,
          59301,
          63986,
          72400,
          77723,
          84396,
          92325,
          102927,
          110930,
          119449
         ],
         "yaxis": "y"
        }
       ],
       "layout": {
        "legend": {
         "title": {
          "text": "variable"
         },
         "tracegroupgap": 0
        },
        "margin": {
         "t": 60
        },
        "template": {
         "data": {
          "bar": [
           {
            "error_x": {
             "color": "#2a3f5f"
            },
            "error_y": {
             "color": "#2a3f5f"
            },
            "marker": {
             "line": {
              "color": "#E5ECF6",
              "width": 0.5
             },
             "pattern": {
              "fillmode": "overlay",
              "size": 10,
              "solidity": 0.2
             }
            },
            "type": "bar"
           }
          ],
          "barpolar": [
           {
            "marker": {
             "line": {
              "color": "#E5ECF6",
              "width": 0.5
             },
             "pattern": {
              "fillmode": "overlay",
              "size": 10,
              "solidity": 0.2
             }
            },
            "type": "barpolar"
           }
          ],
          "carpet": [
           {
            "aaxis": {
             "endlinecolor": "#2a3f5f",
             "gridcolor": "white",
             "linecolor": "white",
             "minorgridcolor": "white",
             "startlinecolor": "#2a3f5f"
            },
            "baxis": {
             "endlinecolor": "#2a3f5f",
             "gridcolor": "white",
             "linecolor": "white",
             "minorgridcolor": "white",
             "startlinecolor": "#2a3f5f"
            },
            "type": "carpet"
           }
          ],
          "choropleth": [
           {
            "colorbar": {
             "outlinewidth": 0,
             "ticks": ""
            },
            "type": "choropleth"
           }
          ],
          "contour": [
           {
            "colorbar": {
             "outlinewidth": 0,
             "ticks": ""
            },
            "colorscale": [
             [
              0,
              "#0d0887"
             ],
             [
              0.1111111111111111,
              "#46039f"
             ],
             [
              0.2222222222222222,
              "#7201a8"
             ],
             [
              0.3333333333333333,
              "#9c179e"
             ],
             [
              0.4444444444444444,
              "#bd3786"
             ],
             [
              0.5555555555555556,
              "#d8576b"
             ],
             [
              0.6666666666666666,
              "#ed7953"
             ],
             [
              0.7777777777777778,
              "#fb9f3a"
             ],
             [
              0.8888888888888888,
              "#fdca26"
             ],
             [
              1,
              "#f0f921"
             ]
            ],
            "type": "contour"
           }
          ],
          "contourcarpet": [
           {
            "colorbar": {
             "outlinewidth": 0,
             "ticks": ""
            },
            "type": "contourcarpet"
           }
          ],
          "heatmap": [
           {
            "colorbar": {
             "outlinewidth": 0,
             "ticks": ""
            },
            "colorscale": [
             [
              0,
              "#0d0887"
             ],
             [
              0.1111111111111111,
              "#46039f"
             ],
             [
              0.2222222222222222,
              "#7201a8"
             ],
             [
              0.3333333333333333,
              "#9c179e"
             ],
             [
              0.4444444444444444,
              "#bd3786"
             ],
             [
              0.5555555555555556,
              "#d8576b"
             ],
             [
              0.6666666666666666,
              "#ed7953"
             ],
             [
              0.7777777777777778,
              "#fb9f3a"
             ],
             [
              0.8888888888888888,
              "#fdca26"
             ],
             [
              1,
              "#f0f921"
             ]
            ],
            "type": "heatmap"
           }
          ],
          "heatmapgl": [
           {
            "colorbar": {
             "outlinewidth": 0,
             "ticks": ""
            },
            "colorscale": [
             [
              0,
              "#0d0887"
             ],
             [
              0.1111111111111111,
              "#46039f"
             ],
             [
              0.2222222222222222,
              "#7201a8"
             ],
             [
              0.3333333333333333,
              "#9c179e"
             ],
             [
              0.4444444444444444,
              "#bd3786"
             ],
             [
              0.5555555555555556,
              "#d8576b"
             ],
             [
              0.6666666666666666,
              "#ed7953"
             ],
             [
              0.7777777777777778,
              "#fb9f3a"
             ],
             [
              0.8888888888888888,
              "#fdca26"
             ],
             [
              1,
              "#f0f921"
             ]
            ],
            "type": "heatmapgl"
           }
          ],
          "histogram": [
           {
            "marker": {
             "pattern": {
              "fillmode": "overlay",
              "size": 10,
              "solidity": 0.2
             }
            },
            "type": "histogram"
           }
          ],
          "histogram2d": [
           {
            "colorbar": {
             "outlinewidth": 0,
             "ticks": ""
            },
            "colorscale": [
             [
              0,
              "#0d0887"
             ],
             [
              0.1111111111111111,
              "#46039f"
             ],
             [
              0.2222222222222222,
              "#7201a8"
             ],
             [
              0.3333333333333333,
              "#9c179e"
             ],
             [
              0.4444444444444444,
              "#bd3786"
             ],
             [
              0.5555555555555556,
              "#d8576b"
             ],
             [
              0.6666666666666666,
              "#ed7953"
             ],
             [
              0.7777777777777778,
              "#fb9f3a"
             ],
             [
              0.8888888888888888,
              "#fdca26"
             ],
             [
              1,
              "#f0f921"
             ]
            ],
            "type": "histogram2d"
           }
          ],
          "histogram2dcontour": [
           {
            "colorbar": {
             "outlinewidth": 0,
             "ticks": ""
            },
            "colorscale": [
             [
              0,
              "#0d0887"
             ],
             [
              0.1111111111111111,
              "#46039f"
             ],
             [
              0.2222222222222222,
              "#7201a8"
             ],
             [
              0.3333333333333333,
              "#9c179e"
             ],
             [
              0.4444444444444444,
              "#bd3786"
             ],
             [
              0.5555555555555556,
              "#d8576b"
             ],
             [
              0.6666666666666666,
              "#ed7953"
             ],
             [
              0.7777777777777778,
              "#fb9f3a"
             ],
             [
              0.8888888888888888,
              "#fdca26"
             ],
             [
              1,
              "#f0f921"
             ]
            ],
            "type": "histogram2dcontour"
           }
          ],
          "mesh3d": [
           {
            "colorbar": {
             "outlinewidth": 0,
             "ticks": ""
            },
            "type": "mesh3d"
           }
          ],
          "parcoords": [
           {
            "line": {
             "colorbar": {
              "outlinewidth": 0,
              "ticks": ""
             }
            },
            "type": "parcoords"
           }
          ],
          "pie": [
           {
            "automargin": true,
            "type": "pie"
           }
          ],
          "scatter": [
           {
            "fillpattern": {
             "fillmode": "overlay",
             "size": 10,
             "solidity": 0.2
            },
            "type": "scatter"
           }
          ],
          "scatter3d": [
           {
            "line": {
             "colorbar": {
              "outlinewidth": 0,
              "ticks": ""
             }
            },
            "marker": {
             "colorbar": {
              "outlinewidth": 0,
              "ticks": ""
             }
            },
            "type": "scatter3d"
           }
          ],
          "scattercarpet": [
           {
            "marker": {
             "colorbar": {
              "outlinewidth": 0,
              "ticks": ""
             }
            },
            "type": "scattercarpet"
           }
          ],
          "scattergeo": [
           {
            "marker": {
             "colorbar": {
              "outlinewidth": 0,
              "ticks": ""
             }
            },
            "type": "scattergeo"
           }
          ],
          "scattergl": [
           {
            "marker": {
             "colorbar": {
              "outlinewidth": 0,
              "ticks": ""
             }
            },
            "type": "scattergl"
           }
          ],
          "scattermapbox": [
           {
            "marker": {
             "colorbar": {
              "outlinewidth": 0,
              "ticks": ""
             }
            },
            "type": "scattermapbox"
           }
          ],
          "scatterpolar": [
           {
            "marker": {
             "colorbar": {
              "outlinewidth": 0,
              "ticks": ""
             }
            },
            "type": "scatterpolar"
           }
          ],
          "scatterpolargl": [
           {
            "marker": {
             "colorbar": {
              "outlinewidth": 0,
              "ticks": ""
             }
            },
            "type": "scatterpolargl"
           }
          ],
          "scatterternary": [
           {
            "marker": {
             "colorbar": {
              "outlinewidth": 0,
              "ticks": ""
             }
            },
            "type": "scatterternary"
           }
          ],
          "surface": [
           {
            "colorbar": {
             "outlinewidth": 0,
             "ticks": ""
            },
            "colorscale": [
             [
              0,
              "#0d0887"
             ],
             [
              0.1111111111111111,
              "#46039f"
             ],
             [
              0.2222222222222222,
              "#7201a8"
             ],
             [
              0.3333333333333333,
              "#9c179e"
             ],
             [
              0.4444444444444444,
              "#bd3786"
             ],
             [
              0.5555555555555556,
              "#d8576b"
             ],
             [
              0.6666666666666666,
              "#ed7953"
             ],
             [
              0.7777777777777778,
              "#fb9f3a"
             ],
             [
              0.8888888888888888,
              "#fdca26"
             ],
             [
              1,
              "#f0f921"
             ]
            ],
            "type": "surface"
           }
          ],
          "table": [
           {
            "cells": {
             "fill": {
              "color": "#EBF0F8"
             },
             "line": {
              "color": "white"
             }
            },
            "header": {
             "fill": {
              "color": "#C8D4E3"
             },
             "line": {
              "color": "white"
             }
            },
            "type": "table"
           }
          ]
         },
         "layout": {
          "annotationdefaults": {
           "arrowcolor": "#2a3f5f",
           "arrowhead": 0,
           "arrowwidth": 1
          },
          "autotypenumbers": "strict",
          "coloraxis": {
           "colorbar": {
            "outlinewidth": 0,
            "ticks": ""
           }
          },
          "colorscale": {
           "diverging": [
            [
             0,
             "#8e0152"
            ],
            [
             0.1,
             "#c51b7d"
            ],
            [
             0.2,
             "#de77ae"
            ],
            [
             0.3,
             "#f1b6da"
            ],
            [
             0.4,
             "#fde0ef"
            ],
            [
             0.5,
             "#f7f7f7"
            ],
            [
             0.6,
             "#e6f5d0"
            ],
            [
             0.7,
             "#b8e186"
            ],
            [
             0.8,
             "#7fbc41"
            ],
            [
             0.9,
             "#4d9221"
            ],
            [
             1,
             "#276419"
            ]
           ],
           "sequential": [
            [
             0,
             "#0d0887"
            ],
            [
             0.1111111111111111,
             "#46039f"
            ],
            [
             0.2222222222222222,
             "#7201a8"
            ],
            [
             0.3333333333333333,
             "#9c179e"
            ],
            [
             0.4444444444444444,
             "#bd3786"
            ],
            [
             0.5555555555555556,
             "#d8576b"
            ],
            [
             0.6666666666666666,
             "#ed7953"
            ],
            [
             0.7777777777777778,
             "#fb9f3a"
            ],
            [
             0.8888888888888888,
             "#fdca26"
            ],
            [
             1,
             "#f0f921"
            ]
           ],
           "sequentialminus": [
            [
             0,
             "#0d0887"
            ],
            [
             0.1111111111111111,
             "#46039f"
            ],
            [
             0.2222222222222222,
             "#7201a8"
            ],
            [
             0.3333333333333333,
             "#9c179e"
            ],
            [
             0.4444444444444444,
             "#bd3786"
            ],
            [
             0.5555555555555556,
             "#d8576b"
            ],
            [
             0.6666666666666666,
             "#ed7953"
            ],
            [
             0.7777777777777778,
             "#fb9f3a"
            ],
            [
             0.8888888888888888,
             "#fdca26"
            ],
            [
             1,
             "#f0f921"
            ]
           ]
          },
          "colorway": [
           "#636efa",
           "#EF553B",
           "#00cc96",
           "#ab63fa",
           "#FFA15A",
           "#19d3f3",
           "#FF6692",
           "#B6E880",
           "#FF97FF",
           "#FECB52"
          ],
          "font": {
           "color": "#2a3f5f"
          },
          "geo": {
           "bgcolor": "white",
           "lakecolor": "white",
           "landcolor": "#E5ECF6",
           "showlakes": true,
           "showland": true,
           "subunitcolor": "white"
          },
          "hoverlabel": {
           "align": "left"
          },
          "hovermode": "closest",
          "mapbox": {
           "style": "light"
          },
          "paper_bgcolor": "white",
          "plot_bgcolor": "#E5ECF6",
          "polar": {
           "angularaxis": {
            "gridcolor": "white",
            "linecolor": "white",
            "ticks": ""
           },
           "bgcolor": "#E5ECF6",
           "radialaxis": {
            "gridcolor": "white",
            "linecolor": "white",
            "ticks": ""
           }
          },
          "scene": {
           "xaxis": {
            "backgroundcolor": "#E5ECF6",
            "gridcolor": "white",
            "gridwidth": 2,
            "linecolor": "white",
            "showbackground": true,
            "ticks": "",
            "zerolinecolor": "white"
           },
           "yaxis": {
            "backgroundcolor": "#E5ECF6",
            "gridcolor": "white",
            "gridwidth": 2,
            "linecolor": "white",
            "showbackground": true,
            "ticks": "",
            "zerolinecolor": "white"
           },
           "zaxis": {
            "backgroundcolor": "#E5ECF6",
            "gridcolor": "white",
            "gridwidth": 2,
            "linecolor": "white",
            "showbackground": true,
            "ticks": "",
            "zerolinecolor": "white"
           }
          },
          "shapedefaults": {
           "line": {
            "color": "#2a3f5f"
           }
          },
          "ternary": {
           "aaxis": {
            "gridcolor": "white",
            "linecolor": "white",
            "ticks": ""
           },
           "baxis": {
            "gridcolor": "white",
            "linecolor": "white",
            "ticks": ""
           },
           "bgcolor": "#E5ECF6",
           "caxis": {
            "gridcolor": "white",
            "linecolor": "white",
            "ticks": ""
           }
          },
          "title": {
           "x": 0.05
          },
          "xaxis": {
           "automargin": true,
           "gridcolor": "white",
           "linecolor": "white",
           "ticks": "",
           "title": {
            "standoff": 15
           },
           "zerolinecolor": "white",
           "zerolinewidth": 2
          },
          "yaxis": {
           "automargin": true,
           "gridcolor": "white",
           "linecolor": "white",
           "ticks": "",
           "title": {
            "standoff": 15
           },
           "zerolinecolor": "white",
           "zerolinewidth": 2
          }
         }
        },
        "xaxis": {
         "anchor": "y",
         "domain": [
          0,
          1
         ],
         "title": {
          "text": "year"
         }
        },
        "yaxis": {
         "anchor": "x",
         "domain": [
          0,
          1
         ],
         "title": {
          "text": "value"
         }
        }
       }
      }
     },
     "metadata": {},
     "output_type": "display_data"
    }
   ],
   "source": [
    "input_db = get_input_db()\n",
    "pop = input_db.query(table_name=\"population\", conditions={\"iso3\": \"KIR\"})\n",
    "pop.groupby('year')['population'].sum().plot()"
   ]
  },
  {
   "cell_type": "code",
   "execution_count": 8,
   "metadata": {},
   "outputs": [],
   "source": [
    "def find_agebins(x, bins: List[int], labels: List[str]):\n",
    "    return pd.cut(x, bins, labels=labels, right=False)\n",
    "\n",
    "\n",
    "pop[\"age_bins\"] = find_agebins(\n",
    "    pop[\"start_age\"], [0, 5, 15, 35, 50, 100], [\"0-4\", \"5-14\", \"15-34\", \"35-49\", \"50+\"]\n",
    ")\n",
    "pop = pop.groupby([\"year\", \"age_bins\"])[\"population\"].agg([\"sum\"]).reset_index()\n",
    "pop['sum'] = pop['sum'].astype('int')\n",
    "pop = pop.rename({'sum':'population'}, axis=1)"
   ]
  },
  {
   "cell_type": "code",
   "execution_count": 9,
   "metadata": {},
   "outputs": [
    {
     "data": {
      "application/vnd.plotly.v1+json": {
       "config": {
        "plotlyServerURL": "https://plot.ly"
       },
       "data": [
        {
         "alignmentgroup": "True",
         "hovertemplate": "age_bins=0-4<br>year=%{x}<br>population=%{y}<extra></extra>",
         "legendgroup": "0-4",
         "marker": {
          "color": "#636efa",
          "pattern": {
           "shape": ""
          }
         },
         "name": "0-4",
         "offsetgroup": "0-4",
         "orientation": "v",
         "showlegend": true,
         "textposition": "auto",
         "type": "bar",
         "x": [
          1950,
          1955,
          1960,
          1965,
          1970,
          1975,
          1980,
          1985,
          1990,
          1995,
          2000,
          2005,
          2010,
          2015,
          2020
         ],
         "xaxis": "x",
         "y": [
          5510,
          6506,
          7688,
          8401,
          8022,
          7503,
          8881,
          10008,
          11597,
          11802,
          11968,
          10812,
          13971,
          14556,
          15161
         ],
         "yaxis": "y"
        },
        {
         "alignmentgroup": "True",
         "hovertemplate": "age_bins=5-14<br>year=%{x}<br>population=%{y}<extra></extra>",
         "legendgroup": "5-14",
         "marker": {
          "color": "#EF553B",
          "pattern": {
           "shape": ""
          }
         },
         "name": "5-14",
         "offsetgroup": "5-14",
         "orientation": "v",
         "showlegend": true,
         "textposition": "auto",
         "type": "bar",
         "x": [
          1950,
          1955,
          1960,
          1965,
          1970,
          1975,
          1980,
          1985,
          1990,
          1995,
          2000,
          2005,
          2010,
          2015,
          2020
         ],
         "xaxis": "x",
         "y": [
          7944,
          8958,
          10936,
          13041,
          14900,
          15289,
          14516,
          15094,
          17583,
          20165,
          21773,
          23275,
          23187,
          24276,
          27741
         ],
         "yaxis": "y"
        },
        {
         "alignmentgroup": "True",
         "hovertemplate": "age_bins=15-34<br>year=%{x}<br>population=%{y}<extra></extra>",
         "legendgroup": "15-34",
         "marker": {
          "color": "#00cc96",
          "pattern": {
           "shape": ""
          }
         },
         "name": "15-34",
         "offsetgroup": "15-34",
         "orientation": "v",
         "showlegend": true,
         "textposition": "auto",
         "type": "bar",
         "x": [
          1950,
          1955,
          1960,
          1965,
          1970,
          1975,
          1980,
          1985,
          1990,
          1995,
          2000,
          2005,
          2010,
          2015,
          2020
         ],
         "xaxis": "x",
         "y": [
          12180,
          13006,
          12679,
          13505,
          15463,
          18252,
          20980,
          23125,
          25199,
          25905,
          27862,
          31671,
          36364,
          39960,
          39780
         ],
         "yaxis": "y"
        },
        {
         "alignmentgroup": "True",
         "hovertemplate": "age_bins=35-49<br>year=%{x}<br>population=%{y}<extra></extra>",
         "legendgroup": "35-49",
         "marker": {
          "color": "#ab63fa",
          "pattern": {
           "shape": ""
          }
         },
         "name": "35-49",
         "offsetgroup": "35-49",
         "orientation": "v",
         "showlegend": true,
         "textposition": "auto",
         "type": "bar",
         "x": [
          1950,
          1955,
          1960,
          1965,
          1970,
          1975,
          1980,
          1985,
          1990,
          1995,
          2000,
          2005,
          2010,
          2015,
          2020
         ],
         "xaxis": "x",
         "y": [
          3544,
          4187,
          5667,
          6882,
          7534,
          7350,
          7215,
          8523,
          9969,
          11440,
          13535,
          15974,
          16969,
          17565,
          18715
         ],
         "yaxis": "y"
        },
        {
         "alignmentgroup": "True",
         "hovertemplate": "age_bins=50+<br>year=%{x}<br>population=%{y}<extra></extra>",
         "legendgroup": "50+",
         "marker": {
          "color": "#FFA15A",
          "pattern": {
           "shape": ""
          }
         },
         "name": "50+",
         "offsetgroup": "50+",
         "orientation": "v",
         "showlegend": true,
         "textposition": "auto",
         "type": "bar",
         "x": [
          1950,
          1955,
          1960,
          1965,
          1970,
          1975,
          1980,
          1985,
          1990,
          1995,
          2000,
          2005,
          2010,
          2015,
          2020
         ],
         "xaxis": "x",
         "y": [
          3870,
          3916,
          4232,
          4600,
          5232,
          6720,
          7709,
          7236,
          8052,
          8411,
          9258,
          10593,
          12436,
          14572,
          18050
         ],
         "yaxis": "y"
        }
       ],
       "layout": {
        "barmode": "group",
        "legend": {
         "title": {
          "text": "age_bins"
         },
         "tracegroupgap": 0
        },
        "margin": {
         "t": 60
        },
        "template": {
         "data": {
          "bar": [
           {
            "error_x": {
             "color": "#2a3f5f"
            },
            "error_y": {
             "color": "#2a3f5f"
            },
            "marker": {
             "line": {
              "color": "#E5ECF6",
              "width": 0.5
             },
             "pattern": {
              "fillmode": "overlay",
              "size": 10,
              "solidity": 0.2
             }
            },
            "type": "bar"
           }
          ],
          "barpolar": [
           {
            "marker": {
             "line": {
              "color": "#E5ECF6",
              "width": 0.5
             },
             "pattern": {
              "fillmode": "overlay",
              "size": 10,
              "solidity": 0.2
             }
            },
            "type": "barpolar"
           }
          ],
          "carpet": [
           {
            "aaxis": {
             "endlinecolor": "#2a3f5f",
             "gridcolor": "white",
             "linecolor": "white",
             "minorgridcolor": "white",
             "startlinecolor": "#2a3f5f"
            },
            "baxis": {
             "endlinecolor": "#2a3f5f",
             "gridcolor": "white",
             "linecolor": "white",
             "minorgridcolor": "white",
             "startlinecolor": "#2a3f5f"
            },
            "type": "carpet"
           }
          ],
          "choropleth": [
           {
            "colorbar": {
             "outlinewidth": 0,
             "ticks": ""
            },
            "type": "choropleth"
           }
          ],
          "contour": [
           {
            "colorbar": {
             "outlinewidth": 0,
             "ticks": ""
            },
            "colorscale": [
             [
              0,
              "#0d0887"
             ],
             [
              0.1111111111111111,
              "#46039f"
             ],
             [
              0.2222222222222222,
              "#7201a8"
             ],
             [
              0.3333333333333333,
              "#9c179e"
             ],
             [
              0.4444444444444444,
              "#bd3786"
             ],
             [
              0.5555555555555556,
              "#d8576b"
             ],
             [
              0.6666666666666666,
              "#ed7953"
             ],
             [
              0.7777777777777778,
              "#fb9f3a"
             ],
             [
              0.8888888888888888,
              "#fdca26"
             ],
             [
              1,
              "#f0f921"
             ]
            ],
            "type": "contour"
           }
          ],
          "contourcarpet": [
           {
            "colorbar": {
             "outlinewidth": 0,
             "ticks": ""
            },
            "type": "contourcarpet"
           }
          ],
          "heatmap": [
           {
            "colorbar": {
             "outlinewidth": 0,
             "ticks": ""
            },
            "colorscale": [
             [
              0,
              "#0d0887"
             ],
             [
              0.1111111111111111,
              "#46039f"
             ],
             [
              0.2222222222222222,
              "#7201a8"
             ],
             [
              0.3333333333333333,
              "#9c179e"
             ],
             [
              0.4444444444444444,
              "#bd3786"
             ],
             [
              0.5555555555555556,
              "#d8576b"
             ],
             [
              0.6666666666666666,
              "#ed7953"
             ],
             [
              0.7777777777777778,
              "#fb9f3a"
             ],
             [
              0.8888888888888888,
              "#fdca26"
             ],
             [
              1,
              "#f0f921"
             ]
            ],
            "type": "heatmap"
           }
          ],
          "heatmapgl": [
           {
            "colorbar": {
             "outlinewidth": 0,
             "ticks": ""
            },
            "colorscale": [
             [
              0,
              "#0d0887"
             ],
             [
              0.1111111111111111,
              "#46039f"
             ],
             [
              0.2222222222222222,
              "#7201a8"
             ],
             [
              0.3333333333333333,
              "#9c179e"
             ],
             [
              0.4444444444444444,
              "#bd3786"
             ],
             [
              0.5555555555555556,
              "#d8576b"
             ],
             [
              0.6666666666666666,
              "#ed7953"
             ],
             [
              0.7777777777777778,
              "#fb9f3a"
             ],
             [
              0.8888888888888888,
              "#fdca26"
             ],
             [
              1,
              "#f0f921"
             ]
            ],
            "type": "heatmapgl"
           }
          ],
          "histogram": [
           {
            "marker": {
             "pattern": {
              "fillmode": "overlay",
              "size": 10,
              "solidity": 0.2
             }
            },
            "type": "histogram"
           }
          ],
          "histogram2d": [
           {
            "colorbar": {
             "outlinewidth": 0,
             "ticks": ""
            },
            "colorscale": [
             [
              0,
              "#0d0887"
             ],
             [
              0.1111111111111111,
              "#46039f"
             ],
             [
              0.2222222222222222,
              "#7201a8"
             ],
             [
              0.3333333333333333,
              "#9c179e"
             ],
             [
              0.4444444444444444,
              "#bd3786"
             ],
             [
              0.5555555555555556,
              "#d8576b"
             ],
             [
              0.6666666666666666,
              "#ed7953"
             ],
             [
              0.7777777777777778,
              "#fb9f3a"
             ],
             [
              0.8888888888888888,
              "#fdca26"
             ],
             [
              1,
              "#f0f921"
             ]
            ],
            "type": "histogram2d"
           }
          ],
          "histogram2dcontour": [
           {
            "colorbar": {
             "outlinewidth": 0,
             "ticks": ""
            },
            "colorscale": [
             [
              0,
              "#0d0887"
             ],
             [
              0.1111111111111111,
              "#46039f"
             ],
             [
              0.2222222222222222,
              "#7201a8"
             ],
             [
              0.3333333333333333,
              "#9c179e"
             ],
             [
              0.4444444444444444,
              "#bd3786"
             ],
             [
              0.5555555555555556,
              "#d8576b"
             ],
             [
              0.6666666666666666,
              "#ed7953"
             ],
             [
              0.7777777777777778,
              "#fb9f3a"
             ],
             [
              0.8888888888888888,
              "#fdca26"
             ],
             [
              1,
              "#f0f921"
             ]
            ],
            "type": "histogram2dcontour"
           }
          ],
          "mesh3d": [
           {
            "colorbar": {
             "outlinewidth": 0,
             "ticks": ""
            },
            "type": "mesh3d"
           }
          ],
          "parcoords": [
           {
            "line": {
             "colorbar": {
              "outlinewidth": 0,
              "ticks": ""
             }
            },
            "type": "parcoords"
           }
          ],
          "pie": [
           {
            "automargin": true,
            "type": "pie"
           }
          ],
          "scatter": [
           {
            "fillpattern": {
             "fillmode": "overlay",
             "size": 10,
             "solidity": 0.2
            },
            "type": "scatter"
           }
          ],
          "scatter3d": [
           {
            "line": {
             "colorbar": {
              "outlinewidth": 0,
              "ticks": ""
             }
            },
            "marker": {
             "colorbar": {
              "outlinewidth": 0,
              "ticks": ""
             }
            },
            "type": "scatter3d"
           }
          ],
          "scattercarpet": [
           {
            "marker": {
             "colorbar": {
              "outlinewidth": 0,
              "ticks": ""
             }
            },
            "type": "scattercarpet"
           }
          ],
          "scattergeo": [
           {
            "marker": {
             "colorbar": {
              "outlinewidth": 0,
              "ticks": ""
             }
            },
            "type": "scattergeo"
           }
          ],
          "scattergl": [
           {
            "marker": {
             "colorbar": {
              "outlinewidth": 0,
              "ticks": ""
             }
            },
            "type": "scattergl"
           }
          ],
          "scattermapbox": [
           {
            "marker": {
             "colorbar": {
              "outlinewidth": 0,
              "ticks": ""
             }
            },
            "type": "scattermapbox"
           }
          ],
          "scatterpolar": [
           {
            "marker": {
             "colorbar": {
              "outlinewidth": 0,
              "ticks": ""
             }
            },
            "type": "scatterpolar"
           }
          ],
          "scatterpolargl": [
           {
            "marker": {
             "colorbar": {
              "outlinewidth": 0,
              "ticks": ""
             }
            },
            "type": "scatterpolargl"
           }
          ],
          "scatterternary": [
           {
            "marker": {
             "colorbar": {
              "outlinewidth": 0,
              "ticks": ""
             }
            },
            "type": "scatterternary"
           }
          ],
          "surface": [
           {
            "colorbar": {
             "outlinewidth": 0,
             "ticks": ""
            },
            "colorscale": [
             [
              0,
              "#0d0887"
             ],
             [
              0.1111111111111111,
              "#46039f"
             ],
             [
              0.2222222222222222,
              "#7201a8"
             ],
             [
              0.3333333333333333,
              "#9c179e"
             ],
             [
              0.4444444444444444,
              "#bd3786"
             ],
             [
              0.5555555555555556,
              "#d8576b"
             ],
             [
              0.6666666666666666,
              "#ed7953"
             ],
             [
              0.7777777777777778,
              "#fb9f3a"
             ],
             [
              0.8888888888888888,
              "#fdca26"
             ],
             [
              1,
              "#f0f921"
             ]
            ],
            "type": "surface"
           }
          ],
          "table": [
           {
            "cells": {
             "fill": {
              "color": "#EBF0F8"
             },
             "line": {
              "color": "white"
             }
            },
            "header": {
             "fill": {
              "color": "#C8D4E3"
             },
             "line": {
              "color": "white"
             }
            },
            "type": "table"
           }
          ]
         },
         "layout": {
          "annotationdefaults": {
           "arrowcolor": "#2a3f5f",
           "arrowhead": 0,
           "arrowwidth": 1
          },
          "autotypenumbers": "strict",
          "coloraxis": {
           "colorbar": {
            "outlinewidth": 0,
            "ticks": ""
           }
          },
          "colorscale": {
           "diverging": [
            [
             0,
             "#8e0152"
            ],
            [
             0.1,
             "#c51b7d"
            ],
            [
             0.2,
             "#de77ae"
            ],
            [
             0.3,
             "#f1b6da"
            ],
            [
             0.4,
             "#fde0ef"
            ],
            [
             0.5,
             "#f7f7f7"
            ],
            [
             0.6,
             "#e6f5d0"
            ],
            [
             0.7,
             "#b8e186"
            ],
            [
             0.8,
             "#7fbc41"
            ],
            [
             0.9,
             "#4d9221"
            ],
            [
             1,
             "#276419"
            ]
           ],
           "sequential": [
            [
             0,
             "#0d0887"
            ],
            [
             0.1111111111111111,
             "#46039f"
            ],
            [
             0.2222222222222222,
             "#7201a8"
            ],
            [
             0.3333333333333333,
             "#9c179e"
            ],
            [
             0.4444444444444444,
             "#bd3786"
            ],
            [
             0.5555555555555556,
             "#d8576b"
            ],
            [
             0.6666666666666666,
             "#ed7953"
            ],
            [
             0.7777777777777778,
             "#fb9f3a"
            ],
            [
             0.8888888888888888,
             "#fdca26"
            ],
            [
             1,
             "#f0f921"
            ]
           ],
           "sequentialminus": [
            [
             0,
             "#0d0887"
            ],
            [
             0.1111111111111111,
             "#46039f"
            ],
            [
             0.2222222222222222,
             "#7201a8"
            ],
            [
             0.3333333333333333,
             "#9c179e"
            ],
            [
             0.4444444444444444,
             "#bd3786"
            ],
            [
             0.5555555555555556,
             "#d8576b"
            ],
            [
             0.6666666666666666,
             "#ed7953"
            ],
            [
             0.7777777777777778,
             "#fb9f3a"
            ],
            [
             0.8888888888888888,
             "#fdca26"
            ],
            [
             1,
             "#f0f921"
            ]
           ]
          },
          "colorway": [
           "#636efa",
           "#EF553B",
           "#00cc96",
           "#ab63fa",
           "#FFA15A",
           "#19d3f3",
           "#FF6692",
           "#B6E880",
           "#FF97FF",
           "#FECB52"
          ],
          "font": {
           "color": "#2a3f5f"
          },
          "geo": {
           "bgcolor": "white",
           "lakecolor": "white",
           "landcolor": "#E5ECF6",
           "showlakes": true,
           "showland": true,
           "subunitcolor": "white"
          },
          "hoverlabel": {
           "align": "left"
          },
          "hovermode": "closest",
          "mapbox": {
           "style": "light"
          },
          "paper_bgcolor": "white",
          "plot_bgcolor": "#E5ECF6",
          "polar": {
           "angularaxis": {
            "gridcolor": "white",
            "linecolor": "white",
            "ticks": ""
           },
           "bgcolor": "#E5ECF6",
           "radialaxis": {
            "gridcolor": "white",
            "linecolor": "white",
            "ticks": ""
           }
          },
          "scene": {
           "xaxis": {
            "backgroundcolor": "#E5ECF6",
            "gridcolor": "white",
            "gridwidth": 2,
            "linecolor": "white",
            "showbackground": true,
            "ticks": "",
            "zerolinecolor": "white"
           },
           "yaxis": {
            "backgroundcolor": "#E5ECF6",
            "gridcolor": "white",
            "gridwidth": 2,
            "linecolor": "white",
            "showbackground": true,
            "ticks": "",
            "zerolinecolor": "white"
           },
           "zaxis": {
            "backgroundcolor": "#E5ECF6",
            "gridcolor": "white",
            "gridwidth": 2,
            "linecolor": "white",
            "showbackground": true,
            "ticks": "",
            "zerolinecolor": "white"
           }
          },
          "shapedefaults": {
           "line": {
            "color": "#2a3f5f"
           }
          },
          "ternary": {
           "aaxis": {
            "gridcolor": "white",
            "linecolor": "white",
            "ticks": ""
           },
           "baxis": {
            "gridcolor": "white",
            "linecolor": "white",
            "ticks": ""
           },
           "bgcolor": "#E5ECF6",
           "caxis": {
            "gridcolor": "white",
            "linecolor": "white",
            "ticks": ""
           }
          },
          "title": {
           "x": 0.05
          },
          "xaxis": {
           "automargin": true,
           "gridcolor": "white",
           "linecolor": "white",
           "ticks": "",
           "title": {
            "standoff": 15
           },
           "zerolinecolor": "white",
           "zerolinewidth": 2
          },
          "yaxis": {
           "automargin": true,
           "gridcolor": "white",
           "linecolor": "white",
           "ticks": "",
           "title": {
            "standoff": 15
           },
           "zerolinecolor": "white",
           "zerolinewidth": 2
          }
         }
        },
        "xaxis": {
         "anchor": "y",
         "domain": [
          0,
          1
         ],
         "title": {
          "text": "year"
         }
        },
        "yaxis": {
         "anchor": "x",
         "domain": [
          0,
          1
         ],
         "title": {
          "text": "population"
         }
        }
       }
      }
     },
     "metadata": {},
     "output_type": "display_data"
    }
   ],
   "source": [
    "age_plot = px.bar(pop, x='year', y='population', color='age_bins', barmode=\"group\")\n",
    "age_plot.show()"
   ]
  },
  {
   "cell_type": "markdown",
   "metadata": {},
   "source": [
    "### Birth rate"
   ]
  },
  {
   "cell_type": "code",
   "execution_count": 10,
   "metadata": {},
   "outputs": [
    {
     "data": {
      "application/vnd.plotly.v1+json": {
       "config": {
        "plotlyServerURL": "https://plot.ly"
       },
       "data": [
        {
         "hovertemplate": "variable=0<br>mean_year=%{x}<br>value=%{y}<extra></extra>",
         "legendgroup": "0",
         "line": {
          "color": "#636efa",
          "dash": "solid"
         },
         "marker": {
          "symbol": "circle"
         },
         "mode": "markers+lines",
         "name": "0",
         "orientation": "v",
         "showlegend": true,
         "type": "scatter",
         "x": [
          1952.5,
          1957.5,
          1962.5,
          1967.5,
          1972.5,
          1977.5,
          1982.5,
          1987.5,
          1992.5,
          1997.5,
          2002.5,
          2007.5,
          2012.5,
          2017.5
         ],
         "xaxis": "x",
         "y": [
          0.046113,
          0.048032,
          0.04549,
          0.038334,
          0.032414,
          0.035309,
          0.036841,
          0.037276000000000004,
          0.035531,
          0.031821999999999996,
          0.029844000000000002,
          0.029508,
          0.029535,
          0.028073
         ],
         "yaxis": "y"
        }
       ],
       "layout": {
        "legend": {
         "title": {
          "text": "variable"
         },
         "tracegroupgap": 0
        },
        "margin": {
         "t": 60
        },
        "showlegend": false,
        "template": {
         "data": {
          "bar": [
           {
            "error_x": {
             "color": "#2a3f5f"
            },
            "error_y": {
             "color": "#2a3f5f"
            },
            "marker": {
             "line": {
              "color": "#E5ECF6",
              "width": 0.5
             },
             "pattern": {
              "fillmode": "overlay",
              "size": 10,
              "solidity": 0.2
             }
            },
            "type": "bar"
           }
          ],
          "barpolar": [
           {
            "marker": {
             "line": {
              "color": "#E5ECF6",
              "width": 0.5
             },
             "pattern": {
              "fillmode": "overlay",
              "size": 10,
              "solidity": 0.2
             }
            },
            "type": "barpolar"
           }
          ],
          "carpet": [
           {
            "aaxis": {
             "endlinecolor": "#2a3f5f",
             "gridcolor": "white",
             "linecolor": "white",
             "minorgridcolor": "white",
             "startlinecolor": "#2a3f5f"
            },
            "baxis": {
             "endlinecolor": "#2a3f5f",
             "gridcolor": "white",
             "linecolor": "white",
             "minorgridcolor": "white",
             "startlinecolor": "#2a3f5f"
            },
            "type": "carpet"
           }
          ],
          "choropleth": [
           {
            "colorbar": {
             "outlinewidth": 0,
             "ticks": ""
            },
            "type": "choropleth"
           }
          ],
          "contour": [
           {
            "colorbar": {
             "outlinewidth": 0,
             "ticks": ""
            },
            "colorscale": [
             [
              0,
              "#0d0887"
             ],
             [
              0.1111111111111111,
              "#46039f"
             ],
             [
              0.2222222222222222,
              "#7201a8"
             ],
             [
              0.3333333333333333,
              "#9c179e"
             ],
             [
              0.4444444444444444,
              "#bd3786"
             ],
             [
              0.5555555555555556,
              "#d8576b"
             ],
             [
              0.6666666666666666,
              "#ed7953"
             ],
             [
              0.7777777777777778,
              "#fb9f3a"
             ],
             [
              0.8888888888888888,
              "#fdca26"
             ],
             [
              1,
              "#f0f921"
             ]
            ],
            "type": "contour"
           }
          ],
          "contourcarpet": [
           {
            "colorbar": {
             "outlinewidth": 0,
             "ticks": ""
            },
            "type": "contourcarpet"
           }
          ],
          "heatmap": [
           {
            "colorbar": {
             "outlinewidth": 0,
             "ticks": ""
            },
            "colorscale": [
             [
              0,
              "#0d0887"
             ],
             [
              0.1111111111111111,
              "#46039f"
             ],
             [
              0.2222222222222222,
              "#7201a8"
             ],
             [
              0.3333333333333333,
              "#9c179e"
             ],
             [
              0.4444444444444444,
              "#bd3786"
             ],
             [
              0.5555555555555556,
              "#d8576b"
             ],
             [
              0.6666666666666666,
              "#ed7953"
             ],
             [
              0.7777777777777778,
              "#fb9f3a"
             ],
             [
              0.8888888888888888,
              "#fdca26"
             ],
             [
              1,
              "#f0f921"
             ]
            ],
            "type": "heatmap"
           }
          ],
          "heatmapgl": [
           {
            "colorbar": {
             "outlinewidth": 0,
             "ticks": ""
            },
            "colorscale": [
             [
              0,
              "#0d0887"
             ],
             [
              0.1111111111111111,
              "#46039f"
             ],
             [
              0.2222222222222222,
              "#7201a8"
             ],
             [
              0.3333333333333333,
              "#9c179e"
             ],
             [
              0.4444444444444444,
              "#bd3786"
             ],
             [
              0.5555555555555556,
              "#d8576b"
             ],
             [
              0.6666666666666666,
              "#ed7953"
             ],
             [
              0.7777777777777778,
              "#fb9f3a"
             ],
             [
              0.8888888888888888,
              "#fdca26"
             ],
             [
              1,
              "#f0f921"
             ]
            ],
            "type": "heatmapgl"
           }
          ],
          "histogram": [
           {
            "marker": {
             "pattern": {
              "fillmode": "overlay",
              "size": 10,
              "solidity": 0.2
             }
            },
            "type": "histogram"
           }
          ],
          "histogram2d": [
           {
            "colorbar": {
             "outlinewidth": 0,
             "ticks": ""
            },
            "colorscale": [
             [
              0,
              "#0d0887"
             ],
             [
              0.1111111111111111,
              "#46039f"
             ],
             [
              0.2222222222222222,
              "#7201a8"
             ],
             [
              0.3333333333333333,
              "#9c179e"
             ],
             [
              0.4444444444444444,
              "#bd3786"
             ],
             [
              0.5555555555555556,
              "#d8576b"
             ],
             [
              0.6666666666666666,
              "#ed7953"
             ],
             [
              0.7777777777777778,
              "#fb9f3a"
             ],
             [
              0.8888888888888888,
              "#fdca26"
             ],
             [
              1,
              "#f0f921"
             ]
            ],
            "type": "histogram2d"
           }
          ],
          "histogram2dcontour": [
           {
            "colorbar": {
             "outlinewidth": 0,
             "ticks": ""
            },
            "colorscale": [
             [
              0,
              "#0d0887"
             ],
             [
              0.1111111111111111,
              "#46039f"
             ],
             [
              0.2222222222222222,
              "#7201a8"
             ],
             [
              0.3333333333333333,
              "#9c179e"
             ],
             [
              0.4444444444444444,
              "#bd3786"
             ],
             [
              0.5555555555555556,
              "#d8576b"
             ],
             [
              0.6666666666666666,
              "#ed7953"
             ],
             [
              0.7777777777777778,
              "#fb9f3a"
             ],
             [
              0.8888888888888888,
              "#fdca26"
             ],
             [
              1,
              "#f0f921"
             ]
            ],
            "type": "histogram2dcontour"
           }
          ],
          "mesh3d": [
           {
            "colorbar": {
             "outlinewidth": 0,
             "ticks": ""
            },
            "type": "mesh3d"
           }
          ],
          "parcoords": [
           {
            "line": {
             "colorbar": {
              "outlinewidth": 0,
              "ticks": ""
             }
            },
            "type": "parcoords"
           }
          ],
          "pie": [
           {
            "automargin": true,
            "type": "pie"
           }
          ],
          "scatter": [
           {
            "fillpattern": {
             "fillmode": "overlay",
             "size": 10,
             "solidity": 0.2
            },
            "type": "scatter"
           }
          ],
          "scatter3d": [
           {
            "line": {
             "colorbar": {
              "outlinewidth": 0,
              "ticks": ""
             }
            },
            "marker": {
             "colorbar": {
              "outlinewidth": 0,
              "ticks": ""
             }
            },
            "type": "scatter3d"
           }
          ],
          "scattercarpet": [
           {
            "marker": {
             "colorbar": {
              "outlinewidth": 0,
              "ticks": ""
             }
            },
            "type": "scattercarpet"
           }
          ],
          "scattergeo": [
           {
            "marker": {
             "colorbar": {
              "outlinewidth": 0,
              "ticks": ""
             }
            },
            "type": "scattergeo"
           }
          ],
          "scattergl": [
           {
            "marker": {
             "colorbar": {
              "outlinewidth": 0,
              "ticks": ""
             }
            },
            "type": "scattergl"
           }
          ],
          "scattermapbox": [
           {
            "marker": {
             "colorbar": {
              "outlinewidth": 0,
              "ticks": ""
             }
            },
            "type": "scattermapbox"
           }
          ],
          "scatterpolar": [
           {
            "marker": {
             "colorbar": {
              "outlinewidth": 0,
              "ticks": ""
             }
            },
            "type": "scatterpolar"
           }
          ],
          "scatterpolargl": [
           {
            "marker": {
             "colorbar": {
              "outlinewidth": 0,
              "ticks": ""
             }
            },
            "type": "scatterpolargl"
           }
          ],
          "scatterternary": [
           {
            "marker": {
             "colorbar": {
              "outlinewidth": 0,
              "ticks": ""
             }
            },
            "type": "scatterternary"
           }
          ],
          "surface": [
           {
            "colorbar": {
             "outlinewidth": 0,
             "ticks": ""
            },
            "colorscale": [
             [
              0,
              "#0d0887"
             ],
             [
              0.1111111111111111,
              "#46039f"
             ],
             [
              0.2222222222222222,
              "#7201a8"
             ],
             [
              0.3333333333333333,
              "#9c179e"
             ],
             [
              0.4444444444444444,
              "#bd3786"
             ],
             [
              0.5555555555555556,
              "#d8576b"
             ],
             [
              0.6666666666666666,
              "#ed7953"
             ],
             [
              0.7777777777777778,
              "#fb9f3a"
             ],
             [
              0.8888888888888888,
              "#fdca26"
             ],
             [
              1,
              "#f0f921"
             ]
            ],
            "type": "surface"
           }
          ],
          "table": [
           {
            "cells": {
             "fill": {
              "color": "#EBF0F8"
             },
             "line": {
              "color": "white"
             }
            },
            "header": {
             "fill": {
              "color": "#C8D4E3"
             },
             "line": {
              "color": "white"
             }
            },
            "type": "table"
           }
          ]
         },
         "layout": {
          "annotationdefaults": {
           "arrowcolor": "#2a3f5f",
           "arrowhead": 0,
           "arrowwidth": 1
          },
          "autotypenumbers": "strict",
          "coloraxis": {
           "colorbar": {
            "outlinewidth": 0,
            "ticks": ""
           }
          },
          "colorscale": {
           "diverging": [
            [
             0,
             "#8e0152"
            ],
            [
             0.1,
             "#c51b7d"
            ],
            [
             0.2,
             "#de77ae"
            ],
            [
             0.3,
             "#f1b6da"
            ],
            [
             0.4,
             "#fde0ef"
            ],
            [
             0.5,
             "#f7f7f7"
            ],
            [
             0.6,
             "#e6f5d0"
            ],
            [
             0.7,
             "#b8e186"
            ],
            [
             0.8,
             "#7fbc41"
            ],
            [
             0.9,
             "#4d9221"
            ],
            [
             1,
             "#276419"
            ]
           ],
           "sequential": [
            [
             0,
             "#0d0887"
            ],
            [
             0.1111111111111111,
             "#46039f"
            ],
            [
             0.2222222222222222,
             "#7201a8"
            ],
            [
             0.3333333333333333,
             "#9c179e"
            ],
            [
             0.4444444444444444,
             "#bd3786"
            ],
            [
             0.5555555555555556,
             "#d8576b"
            ],
            [
             0.6666666666666666,
             "#ed7953"
            ],
            [
             0.7777777777777778,
             "#fb9f3a"
            ],
            [
             0.8888888888888888,
             "#fdca26"
            ],
            [
             1,
             "#f0f921"
            ]
           ],
           "sequentialminus": [
            [
             0,
             "#0d0887"
            ],
            [
             0.1111111111111111,
             "#46039f"
            ],
            [
             0.2222222222222222,
             "#7201a8"
            ],
            [
             0.3333333333333333,
             "#9c179e"
            ],
            [
             0.4444444444444444,
             "#bd3786"
            ],
            [
             0.5555555555555556,
             "#d8576b"
            ],
            [
             0.6666666666666666,
             "#ed7953"
            ],
            [
             0.7777777777777778,
             "#fb9f3a"
            ],
            [
             0.8888888888888888,
             "#fdca26"
            ],
            [
             1,
             "#f0f921"
            ]
           ]
          },
          "colorway": [
           "#636efa",
           "#EF553B",
           "#00cc96",
           "#ab63fa",
           "#FFA15A",
           "#19d3f3",
           "#FF6692",
           "#B6E880",
           "#FF97FF",
           "#FECB52"
          ],
          "font": {
           "color": "#2a3f5f"
          },
          "geo": {
           "bgcolor": "white",
           "lakecolor": "white",
           "landcolor": "#E5ECF6",
           "showlakes": true,
           "showland": true,
           "subunitcolor": "white"
          },
          "hoverlabel": {
           "align": "left"
          },
          "hovermode": "closest",
          "mapbox": {
           "style": "light"
          },
          "paper_bgcolor": "white",
          "plot_bgcolor": "#E5ECF6",
          "polar": {
           "angularaxis": {
            "gridcolor": "white",
            "linecolor": "white",
            "ticks": ""
           },
           "bgcolor": "#E5ECF6",
           "radialaxis": {
            "gridcolor": "white",
            "linecolor": "white",
            "ticks": ""
           }
          },
          "scene": {
           "xaxis": {
            "backgroundcolor": "#E5ECF6",
            "gridcolor": "white",
            "gridwidth": 2,
            "linecolor": "white",
            "showbackground": true,
            "ticks": "",
            "zerolinecolor": "white"
           },
           "yaxis": {
            "backgroundcolor": "#E5ECF6",
            "gridcolor": "white",
            "gridwidth": 2,
            "linecolor": "white",
            "showbackground": true,
            "ticks": "",
            "zerolinecolor": "white"
           },
           "zaxis": {
            "backgroundcolor": "#E5ECF6",
            "gridcolor": "white",
            "gridwidth": 2,
            "linecolor": "white",
            "showbackground": true,
            "ticks": "",
            "zerolinecolor": "white"
           }
          },
          "shapedefaults": {
           "line": {
            "color": "#2a3f5f"
           }
          },
          "ternary": {
           "aaxis": {
            "gridcolor": "white",
            "linecolor": "white",
            "ticks": ""
           },
           "baxis": {
            "gridcolor": "white",
            "linecolor": "white",
            "ticks": ""
           },
           "bgcolor": "#E5ECF6",
           "caxis": {
            "gridcolor": "white",
            "linecolor": "white",
            "ticks": ""
           }
          },
          "title": {
           "x": 0.05
          },
          "xaxis": {
           "automargin": true,
           "gridcolor": "white",
           "linecolor": "white",
           "ticks": "",
           "title": {
            "standoff": 15
           },
           "zerolinecolor": "white",
           "zerolinewidth": 2
          },
          "yaxis": {
           "automargin": true,
           "gridcolor": "white",
           "linecolor": "white",
           "ticks": "",
           "title": {
            "standoff": 15
           },
           "zerolinecolor": "white",
           "zerolinewidth": 2
          }
         }
        },
        "title": {
         "text": "Crude birth rate of Kiribati from 1950 to 2020",
         "x": 0.5
        },
        "xaxis": {
         "anchor": "y",
         "domain": [
          0,
          1
         ],
         "title": {
          "text": "Year"
         }
        },
        "yaxis": {
         "anchor": "x",
         "domain": [
          0,
          1
         ],
         "title": {
          "text": "Crude birth rate"
         }
        }
       }
      }
     },
     "metadata": {},
     "output_type": "display_data"
    }
   ],
   "source": [
    "#Query and visualize the crude birth rate from database\n",
    "birth_rates, years = inputs.get_crude_birth_rate(iso3)\n",
    "birth_rates = [b / 1000.0 for b in birth_rates]  # Birth rates are provided / 1000 population\n",
    "birth_rates_series = pd.Series(birth_rates, index=years)\n",
    "br_fig= px.line(birth_rates_series)\n",
    "br_fig.update_traces(mode='markers+lines')\n",
    "br_fig.update_layout(\n",
    "    title=\"Crude birth rate of Kiribati from 1950 to 2020\",\n",
    "    title_x=0.5,\n",
    "    xaxis_title=\"Year\",\n",
    "    yaxis_title=\"Crude birth rate\",\n",
    "    showlegend=False,\n",
    ")"
   ]
  },
  {
   "cell_type": "markdown",
   "metadata": {},
   "source": [
    "### Death rate"
   ]
  },
  {
   "cell_type": "code",
   "execution_count": 18,
   "metadata": {},
   "outputs": [
    {
     "data": {
      "application/vnd.plotly.v1+json": {
       "config": {
        "plotlyServerURL": "https://plot.ly"
       },
       "data": [
        {
         "hovertemplate": "variable=0-4<br>index=%{x}<br>value=%{y}<extra></extra>",
         "legendgroup": "0-4",
         "line": {
          "color": "#636efa",
          "dash": "solid"
         },
         "marker": {
          "symbol": "circle"
         },
         "mode": "markers+lines",
         "name": "0-4",
         "orientation": "v",
         "showlegend": true,
         "type": "scatter",
         "x": [
          1952.5,
          1957.5,
          1962.5,
          1967.5,
          1972.5,
          1977.5,
          1982.5,
          1987.5,
          1992.5,
          1997.5,
          2002.5,
          2007.5,
          2012.5,
          2017.5
         ],
         "xaxis": "x",
         "y": [
          0.060689655172413794,
          0.052566861358745776,
          0.04284599375650364,
          0.03140102368765623,
          0.026003490401396163,
          0.030947620951619355,
          0.02986150208309875,
          0.025819344524380495,
          0.019901698715184962,
          0.016793763768852738,
          0.013235294117647059,
          0.01674065852756197,
          0.014386944384797078,
          0.01163781258587524
         ],
         "yaxis": "y"
        },
        {
         "hovertemplate": "variable=5-14<br>index=%{x}<br>value=%{y}<extra></extra>",
         "legendgroup": "5-14",
         "line": {
          "color": "#EF553B",
          "dash": "solid"
         },
         "marker": {
          "symbol": "circle"
         },
         "mode": "markers+lines",
         "name": "5-14",
         "orientation": "v",
         "showlegend": true,
         "type": "scatter",
         "x": [
          1952.5,
          1957.5,
          1962.5,
          1967.5,
          1972.5,
          1977.5,
          1982.5,
          1987.5,
          1992.5,
          1997.5,
          2002.5,
          2007.5,
          2012.5,
          2017.5
         ],
         "xaxis": "x",
         "y": [
          0.005645125862144708,
          0.005078032605751023,
          0.004202675134154668,
          0.0033392546423530144,
          0.00257727648634026,
          0.002396713205764088,
          0.002465666428514726,
          0.0021866467794470156,
          0.0017697503560914127,
          0.0014224901564470686,
          0.0012602373508468446,
          0.00113571951944479,
          0.0010829023233686133,
          0.0009696163308255967
         ],
         "yaxis": "y"
        },
        {
         "hovertemplate": "variable=15-34<br>index=%{x}<br>value=%{y}<extra></extra>",
         "legendgroup": "15-34",
         "line": {
          "color": "#00cc96",
          "dash": "solid"
         },
         "marker": {
          "symbol": "circle"
         },
         "mode": "markers+lines",
         "name": "15-34",
         "orientation": "v",
         "showlegend": true,
         "type": "scatter",
         "x": [
          1952.5,
          1957.5,
          1962.5,
          1967.5,
          1972.5,
          1977.5,
          1982.5,
          1987.5,
          1992.5,
          1997.5,
          2002.5,
          2007.5,
          2012.5,
          2017.5
         ],
         "xaxis": "x",
         "y": [
          0.007935183738922916,
          0.006605891470056876,
          0.005891230214235701,
          0.005311741406089076,
          0.004643151819639123,
          0.004540536743905771,
          0.004268896534166733,
          0.0037719450419147816,
          0.003058116893304439,
          0.002653291164055497,
          0.002480726568621355,
          0.0024117239838933858,
          0.0021962150113800805,
          0.0019076416133996534
         ],
         "yaxis": "y"
        },
        {
         "hovertemplate": "variable=35-49<br>index=%{x}<br>value=%{y}<extra></extra>",
         "legendgroup": "35-49",
         "line": {
          "color": "#ab63fa",
          "dash": "solid"
         },
         "marker": {
          "symbol": "circle"
         },
         "mode": "markers+lines",
         "name": "35-49",
         "orientation": "v",
         "showlegend": true,
         "type": "scatter",
         "x": [
          1952.5,
          1957.5,
          1962.5,
          1967.5,
          1972.5,
          1977.5,
          1982.5,
          1987.5,
          1992.5,
          1997.5,
          2002.5,
          2007.5,
          2012.5,
          2017.5
         ],
         "xaxis": "x",
         "y": [
          0.012804383230137443,
          0.012650116026214324,
          0.01142467435411146,
          0.009842930200046155,
          0.007805472708581578,
          0.007758674828002211,
          0.008265353497249413,
          0.007644697556760739,
          0.006720672414964788,
          0.006117022928895632,
          0.005810080653475675,
          0.005345609220778877,
          0.004898335097550301,
          0.004539055169869281
         ],
         "yaxis": "y"
        },
        {
         "hovertemplate": "variable=50+<br>index=%{x}<br>value=%{y}<extra></extra>",
         "legendgroup": "50+",
         "line": {
          "color": "#FFA15A",
          "dash": "solid"
         },
         "marker": {
          "symbol": "circle"
         },
         "mode": "markers+lines",
         "name": "50+",
         "orientation": "v",
         "showlegend": true,
         "type": "scatter",
         "x": [
          1952.5,
          1957.5,
          1962.5,
          1967.5,
          1972.5,
          1977.5,
          1982.5,
          1987.5,
          1992.5,
          1997.5,
          2002.5,
          2007.5,
          2012.5,
          2017.5
         ],
         "xaxis": "x",
         "y": [
          0.18627660703645788,
          0.15886113998611046,
          0.1710443085782649,
          0.17172180676708387,
          0.168902416439524,
          0.18170035338511262,
          0.14039126055597476,
          0.12833241504916723,
          0.16599880887452495,
          0.14102887592700142,
          0.16852979069294605,
          0.14374859802754364,
          0.12550749295545172,
          0.12297009959512514
         ],
         "yaxis": "y"
        }
       ],
       "layout": {
        "legend": {
         "title": {
          "text": ""
         },
         "tracegroupgap": 0
        },
        "margin": {
         "t": 60
        },
        "template": {
         "data": {
          "bar": [
           {
            "error_x": {
             "color": "#2a3f5f"
            },
            "error_y": {
             "color": "#2a3f5f"
            },
            "marker": {
             "line": {
              "color": "#E5ECF6",
              "width": 0.5
             },
             "pattern": {
              "fillmode": "overlay",
              "size": 10,
              "solidity": 0.2
             }
            },
            "type": "bar"
           }
          ],
          "barpolar": [
           {
            "marker": {
             "line": {
              "color": "#E5ECF6",
              "width": 0.5
             },
             "pattern": {
              "fillmode": "overlay",
              "size": 10,
              "solidity": 0.2
             }
            },
            "type": "barpolar"
           }
          ],
          "carpet": [
           {
            "aaxis": {
             "endlinecolor": "#2a3f5f",
             "gridcolor": "white",
             "linecolor": "white",
             "minorgridcolor": "white",
             "startlinecolor": "#2a3f5f"
            },
            "baxis": {
             "endlinecolor": "#2a3f5f",
             "gridcolor": "white",
             "linecolor": "white",
             "minorgridcolor": "white",
             "startlinecolor": "#2a3f5f"
            },
            "type": "carpet"
           }
          ],
          "choropleth": [
           {
            "colorbar": {
             "outlinewidth": 0,
             "ticks": ""
            },
            "type": "choropleth"
           }
          ],
          "contour": [
           {
            "colorbar": {
             "outlinewidth": 0,
             "ticks": ""
            },
            "colorscale": [
             [
              0,
              "#0d0887"
             ],
             [
              0.1111111111111111,
              "#46039f"
             ],
             [
              0.2222222222222222,
              "#7201a8"
             ],
             [
              0.3333333333333333,
              "#9c179e"
             ],
             [
              0.4444444444444444,
              "#bd3786"
             ],
             [
              0.5555555555555556,
              "#d8576b"
             ],
             [
              0.6666666666666666,
              "#ed7953"
             ],
             [
              0.7777777777777778,
              "#fb9f3a"
             ],
             [
              0.8888888888888888,
              "#fdca26"
             ],
             [
              1,
              "#f0f921"
             ]
            ],
            "type": "contour"
           }
          ],
          "contourcarpet": [
           {
            "colorbar": {
             "outlinewidth": 0,
             "ticks": ""
            },
            "type": "contourcarpet"
           }
          ],
          "heatmap": [
           {
            "colorbar": {
             "outlinewidth": 0,
             "ticks": ""
            },
            "colorscale": [
             [
              0,
              "#0d0887"
             ],
             [
              0.1111111111111111,
              "#46039f"
             ],
             [
              0.2222222222222222,
              "#7201a8"
             ],
             [
              0.3333333333333333,
              "#9c179e"
             ],
             [
              0.4444444444444444,
              "#bd3786"
             ],
             [
              0.5555555555555556,
              "#d8576b"
             ],
             [
              0.6666666666666666,
              "#ed7953"
             ],
             [
              0.7777777777777778,
              "#fb9f3a"
             ],
             [
              0.8888888888888888,
              "#fdca26"
             ],
             [
              1,
              "#f0f921"
             ]
            ],
            "type": "heatmap"
           }
          ],
          "heatmapgl": [
           {
            "colorbar": {
             "outlinewidth": 0,
             "ticks": ""
            },
            "colorscale": [
             [
              0,
              "#0d0887"
             ],
             [
              0.1111111111111111,
              "#46039f"
             ],
             [
              0.2222222222222222,
              "#7201a8"
             ],
             [
              0.3333333333333333,
              "#9c179e"
             ],
             [
              0.4444444444444444,
              "#bd3786"
             ],
             [
              0.5555555555555556,
              "#d8576b"
             ],
             [
              0.6666666666666666,
              "#ed7953"
             ],
             [
              0.7777777777777778,
              "#fb9f3a"
             ],
             [
              0.8888888888888888,
              "#fdca26"
             ],
             [
              1,
              "#f0f921"
             ]
            ],
            "type": "heatmapgl"
           }
          ],
          "histogram": [
           {
            "marker": {
             "pattern": {
              "fillmode": "overlay",
              "size": 10,
              "solidity": 0.2
             }
            },
            "type": "histogram"
           }
          ],
          "histogram2d": [
           {
            "colorbar": {
             "outlinewidth": 0,
             "ticks": ""
            },
            "colorscale": [
             [
              0,
              "#0d0887"
             ],
             [
              0.1111111111111111,
              "#46039f"
             ],
             [
              0.2222222222222222,
              "#7201a8"
             ],
             [
              0.3333333333333333,
              "#9c179e"
             ],
             [
              0.4444444444444444,
              "#bd3786"
             ],
             [
              0.5555555555555556,
              "#d8576b"
             ],
             [
              0.6666666666666666,
              "#ed7953"
             ],
             [
              0.7777777777777778,
              "#fb9f3a"
             ],
             [
              0.8888888888888888,
              "#fdca26"
             ],
             [
              1,
              "#f0f921"
             ]
            ],
            "type": "histogram2d"
           }
          ],
          "histogram2dcontour": [
           {
            "colorbar": {
             "outlinewidth": 0,
             "ticks": ""
            },
            "colorscale": [
             [
              0,
              "#0d0887"
             ],
             [
              0.1111111111111111,
              "#46039f"
             ],
             [
              0.2222222222222222,
              "#7201a8"
             ],
             [
              0.3333333333333333,
              "#9c179e"
             ],
             [
              0.4444444444444444,
              "#bd3786"
             ],
             [
              0.5555555555555556,
              "#d8576b"
             ],
             [
              0.6666666666666666,
              "#ed7953"
             ],
             [
              0.7777777777777778,
              "#fb9f3a"
             ],
             [
              0.8888888888888888,
              "#fdca26"
             ],
             [
              1,
              "#f0f921"
             ]
            ],
            "type": "histogram2dcontour"
           }
          ],
          "mesh3d": [
           {
            "colorbar": {
             "outlinewidth": 0,
             "ticks": ""
            },
            "type": "mesh3d"
           }
          ],
          "parcoords": [
           {
            "line": {
             "colorbar": {
              "outlinewidth": 0,
              "ticks": ""
             }
            },
            "type": "parcoords"
           }
          ],
          "pie": [
           {
            "automargin": true,
            "type": "pie"
           }
          ],
          "scatter": [
           {
            "fillpattern": {
             "fillmode": "overlay",
             "size": 10,
             "solidity": 0.2
            },
            "type": "scatter"
           }
          ],
          "scatter3d": [
           {
            "line": {
             "colorbar": {
              "outlinewidth": 0,
              "ticks": ""
             }
            },
            "marker": {
             "colorbar": {
              "outlinewidth": 0,
              "ticks": ""
             }
            },
            "type": "scatter3d"
           }
          ],
          "scattercarpet": [
           {
            "marker": {
             "colorbar": {
              "outlinewidth": 0,
              "ticks": ""
             }
            },
            "type": "scattercarpet"
           }
          ],
          "scattergeo": [
           {
            "marker": {
             "colorbar": {
              "outlinewidth": 0,
              "ticks": ""
             }
            },
            "type": "scattergeo"
           }
          ],
          "scattergl": [
           {
            "marker": {
             "colorbar": {
              "outlinewidth": 0,
              "ticks": ""
             }
            },
            "type": "scattergl"
           }
          ],
          "scattermapbox": [
           {
            "marker": {
             "colorbar": {
              "outlinewidth": 0,
              "ticks": ""
             }
            },
            "type": "scattermapbox"
           }
          ],
          "scatterpolar": [
           {
            "marker": {
             "colorbar": {
              "outlinewidth": 0,
              "ticks": ""
             }
            },
            "type": "scatterpolar"
           }
          ],
          "scatterpolargl": [
           {
            "marker": {
             "colorbar": {
              "outlinewidth": 0,
              "ticks": ""
             }
            },
            "type": "scatterpolargl"
           }
          ],
          "scatterternary": [
           {
            "marker": {
             "colorbar": {
              "outlinewidth": 0,
              "ticks": ""
             }
            },
            "type": "scatterternary"
           }
          ],
          "surface": [
           {
            "colorbar": {
             "outlinewidth": 0,
             "ticks": ""
            },
            "colorscale": [
             [
              0,
              "#0d0887"
             ],
             [
              0.1111111111111111,
              "#46039f"
             ],
             [
              0.2222222222222222,
              "#7201a8"
             ],
             [
              0.3333333333333333,
              "#9c179e"
             ],
             [
              0.4444444444444444,
              "#bd3786"
             ],
             [
              0.5555555555555556,
              "#d8576b"
             ],
             [
              0.6666666666666666,
              "#ed7953"
             ],
             [
              0.7777777777777778,
              "#fb9f3a"
             ],
             [
              0.8888888888888888,
              "#fdca26"
             ],
             [
              1,
              "#f0f921"
             ]
            ],
            "type": "surface"
           }
          ],
          "table": [
           {
            "cells": {
             "fill": {
              "color": "#EBF0F8"
             },
             "line": {
              "color": "white"
             }
            },
            "header": {
             "fill": {
              "color": "#C8D4E3"
             },
             "line": {
              "color": "white"
             }
            },
            "type": "table"
           }
          ]
         },
         "layout": {
          "annotationdefaults": {
           "arrowcolor": "#2a3f5f",
           "arrowhead": 0,
           "arrowwidth": 1
          },
          "autotypenumbers": "strict",
          "coloraxis": {
           "colorbar": {
            "outlinewidth": 0,
            "ticks": ""
           }
          },
          "colorscale": {
           "diverging": [
            [
             0,
             "#8e0152"
            ],
            [
             0.1,
             "#c51b7d"
            ],
            [
             0.2,
             "#de77ae"
            ],
            [
             0.3,
             "#f1b6da"
            ],
            [
             0.4,
             "#fde0ef"
            ],
            [
             0.5,
             "#f7f7f7"
            ],
            [
             0.6,
             "#e6f5d0"
            ],
            [
             0.7,
             "#b8e186"
            ],
            [
             0.8,
             "#7fbc41"
            ],
            [
             0.9,
             "#4d9221"
            ],
            [
             1,
             "#276419"
            ]
           ],
           "sequential": [
            [
             0,
             "#0d0887"
            ],
            [
             0.1111111111111111,
             "#46039f"
            ],
            [
             0.2222222222222222,
             "#7201a8"
            ],
            [
             0.3333333333333333,
             "#9c179e"
            ],
            [
             0.4444444444444444,
             "#bd3786"
            ],
            [
             0.5555555555555556,
             "#d8576b"
            ],
            [
             0.6666666666666666,
             "#ed7953"
            ],
            [
             0.7777777777777778,
             "#fb9f3a"
            ],
            [
             0.8888888888888888,
             "#fdca26"
            ],
            [
             1,
             "#f0f921"
            ]
           ],
           "sequentialminus": [
            [
             0,
             "#0d0887"
            ],
            [
             0.1111111111111111,
             "#46039f"
            ],
            [
             0.2222222222222222,
             "#7201a8"
            ],
            [
             0.3333333333333333,
             "#9c179e"
            ],
            [
             0.4444444444444444,
             "#bd3786"
            ],
            [
             0.5555555555555556,
             "#d8576b"
            ],
            [
             0.6666666666666666,
             "#ed7953"
            ],
            [
             0.7777777777777778,
             "#fb9f3a"
            ],
            [
             0.8888888888888888,
             "#fdca26"
            ],
            [
             1,
             "#f0f921"
            ]
           ]
          },
          "colorway": [
           "#636efa",
           "#EF553B",
           "#00cc96",
           "#ab63fa",
           "#FFA15A",
           "#19d3f3",
           "#FF6692",
           "#B6E880",
           "#FF97FF",
           "#FECB52"
          ],
          "font": {
           "color": "#2a3f5f"
          },
          "geo": {
           "bgcolor": "white",
           "lakecolor": "white",
           "landcolor": "#E5ECF6",
           "showlakes": true,
           "showland": true,
           "subunitcolor": "white"
          },
          "hoverlabel": {
           "align": "left"
          },
          "hovermode": "closest",
          "mapbox": {
           "style": "light"
          },
          "paper_bgcolor": "white",
          "plot_bgcolor": "#E5ECF6",
          "polar": {
           "angularaxis": {
            "gridcolor": "white",
            "linecolor": "white",
            "ticks": ""
           },
           "bgcolor": "#E5ECF6",
           "radialaxis": {
            "gridcolor": "white",
            "linecolor": "white",
            "ticks": ""
           }
          },
          "scene": {
           "xaxis": {
            "backgroundcolor": "#E5ECF6",
            "gridcolor": "white",
            "gridwidth": 2,
            "linecolor": "white",
            "showbackground": true,
            "ticks": "",
            "zerolinecolor": "white"
           },
           "yaxis": {
            "backgroundcolor": "#E5ECF6",
            "gridcolor": "white",
            "gridwidth": 2,
            "linecolor": "white",
            "showbackground": true,
            "ticks": "",
            "zerolinecolor": "white"
           },
           "zaxis": {
            "backgroundcolor": "#E5ECF6",
            "gridcolor": "white",
            "gridwidth": 2,
            "linecolor": "white",
            "showbackground": true,
            "ticks": "",
            "zerolinecolor": "white"
           }
          },
          "shapedefaults": {
           "line": {
            "color": "#2a3f5f"
           }
          },
          "ternary": {
           "aaxis": {
            "gridcolor": "white",
            "linecolor": "white",
            "ticks": ""
           },
           "baxis": {
            "gridcolor": "white",
            "linecolor": "white",
            "ticks": ""
           },
           "bgcolor": "#E5ECF6",
           "caxis": {
            "gridcolor": "white",
            "linecolor": "white",
            "ticks": ""
           }
          },
          "title": {
           "x": 0.05
          },
          "xaxis": {
           "automargin": true,
           "gridcolor": "white",
           "linecolor": "white",
           "ticks": "",
           "title": {
            "standoff": 15
           },
           "zerolinecolor": "white",
           "zerolinewidth": 2
          },
          "yaxis": {
           "automargin": true,
           "gridcolor": "white",
           "linecolor": "white",
           "ticks": "",
           "title": {
            "standoff": 15
           },
           "zerolinecolor": "white",
           "zerolinewidth": 2
          }
         }
        },
        "title": {
         "text": "Death rate by age group of Kiribati from 1950 to 2020",
         "x": 0.5
        },
        "xaxis": {
         "anchor": "y",
         "domain": [
          0,
          1
         ],
         "title": {
          "text": "Year"
         }
        },
        "yaxis": {
         "anchor": "x",
         "domain": [
          0,
          1
         ],
         "title": {
          "text": "Death rate"
         }
        }
       }
      }
     },
     "metadata": {},
     "output_type": "display_data"
    }
   ],
   "source": [
    "#Query and visualize the crude birth rate from database\n",
    "death_rates, years = inputs.get_death_rates_by_agegroup(modelled_age_groups, iso3)\n",
    "death_rate_by_age_group = pd.DataFrame.from_dict(death_rates, orient='index').T\n",
    "death_rate_by_age_group.columns = age_string_map.values()\n",
    "death_rate_by_age_group.index = years\n",
    "dr_fig = px.line(death_rate_by_age_group, x=death_rate_by_age_group.index, y=death_rate_by_age_group.columns)\n",
    "dr_fig.update_traces(mode='markers+lines')\n",
    "dr_fig.update_layout(\n",
    "    title=\"Death rate by age group of Kiribati from 1950 to 2020\",\n",
    "    title_x=0.5,\n",
    "    xaxis_title=\"Year\",\n",
    "    yaxis_title=\"Death rate\",\n",
    "    legend_title=\"\",\n",
    ")\n",
    "dr_fig.show()"
   ]
  },
  {
   "cell_type": "markdown",
   "metadata": {},
   "source": [
    "## Mixing matrix"
   ]
  },
  {
   "cell_type": "code",
   "execution_count": 11,
   "metadata": {},
   "outputs": [
    {
     "name": "stdout",
     "output_type": "stream",
     "text": [
      "Target country: KIRIBATI (KIR)\n",
      "Proxy country: FJI (FIJI)\n",
      "Always age-adjusted to target population\n"
     ]
    }
   ],
   "source": [
    "print(f\"Target country: {region.upper()} ({iso3})\")\n",
    "print(f\"Proxy country: {source_iso3} (FIJI)\")\n",
    "print(\"Always age-adjusted to target population\")"
   ]
  },
  {
   "cell_type": "markdown",
   "metadata": {},
   "source": [
    "Please note that there is no detailed mixing matrix for the proxy country, so all locations will be requested"
   ]
  },
  {
   "cell_type": "code",
   "execution_count": 12,
   "metadata": {},
   "outputs": [],
   "source": [
    "mixing_matrices = build_synthetic_matrices(\n",
    "    iso3, source_iso3, modelled_age_groups, age_adjust, requested_locations=['all_locations']\n",
    ")"
   ]
  },
  {
   "cell_type": "code",
   "execution_count": 13,
   "metadata": {},
   "outputs": [
    {
     "name": "stdout",
     "output_type": "stream",
     "text": [
      "Total daily contacts for each age group is [5.4292262  7.24222393 6.08134097 5.20221704 4.38075489]\n"
     ]
    },
    {
     "data": {
      "application/vnd.plotly.v1+json": {
       "config": {
        "plotlyServerURL": "https://plot.ly"
       },
       "data": [
        {
         "coloraxis": "coloraxis",
         "hovertemplate": "x: %{x}<br>y: %{y}<br>color: %{z}<extra></extra>",
         "name": "0",
         "type": "heatmap",
         "xaxis": "x",
         "yaxis": "y",
         "z": [
          [
           1.3464399334990178,
           1.282965991920635,
           1.6695466229088733,
           0.5469519711440198,
           0.5833216840918333
          ],
          [
           0.7376149200907662,
           3.9099915944247927,
           1.257188722069935,
           0.8236453212521712,
           0.5137833693057732
          ],
          [
           0.878113000108055,
           1.2096536495251702,
           2.3232847583852396,
           0.8622536956858665,
           0.808035867138531
          ],
          [
           0.5502841467343812,
           1.4540281241767194,
           1.428166388271446,
           0.9909482771315182,
           0.7787901007697872
          ],
          [
           0.5598421866111448,
           1.1049090441209641,
           1.1490090330012956,
           0.6652603573126851,
           0.9017342664287873
          ]
         ]
        }
       ],
       "layout": {
        "coloraxis": {
         "colorscale": [
          [
           0,
           "#0d0887"
          ],
          [
           0.1111111111111111,
           "#46039f"
          ],
          [
           0.2222222222222222,
           "#7201a8"
          ],
          [
           0.3333333333333333,
           "#9c179e"
          ],
          [
           0.4444444444444444,
           "#bd3786"
          ],
          [
           0.5555555555555556,
           "#d8576b"
          ],
          [
           0.6666666666666666,
           "#ed7953"
          ],
          [
           0.7777777777777778,
           "#fb9f3a"
          ],
          [
           0.8888888888888888,
           "#fdca26"
          ],
          [
           1,
           "#f0f921"
          ]
         ]
        },
        "margin": {
         "t": 60
        },
        "template": {
         "data": {
          "bar": [
           {
            "error_x": {
             "color": "#2a3f5f"
            },
            "error_y": {
             "color": "#2a3f5f"
            },
            "marker": {
             "line": {
              "color": "#E5ECF6",
              "width": 0.5
             },
             "pattern": {
              "fillmode": "overlay",
              "size": 10,
              "solidity": 0.2
             }
            },
            "type": "bar"
           }
          ],
          "barpolar": [
           {
            "marker": {
             "line": {
              "color": "#E5ECF6",
              "width": 0.5
             },
             "pattern": {
              "fillmode": "overlay",
              "size": 10,
              "solidity": 0.2
             }
            },
            "type": "barpolar"
           }
          ],
          "carpet": [
           {
            "aaxis": {
             "endlinecolor": "#2a3f5f",
             "gridcolor": "white",
             "linecolor": "white",
             "minorgridcolor": "white",
             "startlinecolor": "#2a3f5f"
            },
            "baxis": {
             "endlinecolor": "#2a3f5f",
             "gridcolor": "white",
             "linecolor": "white",
             "minorgridcolor": "white",
             "startlinecolor": "#2a3f5f"
            },
            "type": "carpet"
           }
          ],
          "choropleth": [
           {
            "colorbar": {
             "outlinewidth": 0,
             "ticks": ""
            },
            "type": "choropleth"
           }
          ],
          "contour": [
           {
            "colorbar": {
             "outlinewidth": 0,
             "ticks": ""
            },
            "colorscale": [
             [
              0,
              "#0d0887"
             ],
             [
              0.1111111111111111,
              "#46039f"
             ],
             [
              0.2222222222222222,
              "#7201a8"
             ],
             [
              0.3333333333333333,
              "#9c179e"
             ],
             [
              0.4444444444444444,
              "#bd3786"
             ],
             [
              0.5555555555555556,
              "#d8576b"
             ],
             [
              0.6666666666666666,
              "#ed7953"
             ],
             [
              0.7777777777777778,
              "#fb9f3a"
             ],
             [
              0.8888888888888888,
              "#fdca26"
             ],
             [
              1,
              "#f0f921"
             ]
            ],
            "type": "contour"
           }
          ],
          "contourcarpet": [
           {
            "colorbar": {
             "outlinewidth": 0,
             "ticks": ""
            },
            "type": "contourcarpet"
           }
          ],
          "heatmap": [
           {
            "colorbar": {
             "outlinewidth": 0,
             "ticks": ""
            },
            "colorscale": [
             [
              0,
              "#0d0887"
             ],
             [
              0.1111111111111111,
              "#46039f"
             ],
             [
              0.2222222222222222,
              "#7201a8"
             ],
             [
              0.3333333333333333,
              "#9c179e"
             ],
             [
              0.4444444444444444,
              "#bd3786"
             ],
             [
              0.5555555555555556,
              "#d8576b"
             ],
             [
              0.6666666666666666,
              "#ed7953"
             ],
             [
              0.7777777777777778,
              "#fb9f3a"
             ],
             [
              0.8888888888888888,
              "#fdca26"
             ],
             [
              1,
              "#f0f921"
             ]
            ],
            "type": "heatmap"
           }
          ],
          "heatmapgl": [
           {
            "colorbar": {
             "outlinewidth": 0,
             "ticks": ""
            },
            "colorscale": [
             [
              0,
              "#0d0887"
             ],
             [
              0.1111111111111111,
              "#46039f"
             ],
             [
              0.2222222222222222,
              "#7201a8"
             ],
             [
              0.3333333333333333,
              "#9c179e"
             ],
             [
              0.4444444444444444,
              "#bd3786"
             ],
             [
              0.5555555555555556,
              "#d8576b"
             ],
             [
              0.6666666666666666,
              "#ed7953"
             ],
             [
              0.7777777777777778,
              "#fb9f3a"
             ],
             [
              0.8888888888888888,
              "#fdca26"
             ],
             [
              1,
              "#f0f921"
             ]
            ],
            "type": "heatmapgl"
           }
          ],
          "histogram": [
           {
            "marker": {
             "pattern": {
              "fillmode": "overlay",
              "size": 10,
              "solidity": 0.2
             }
            },
            "type": "histogram"
           }
          ],
          "histogram2d": [
           {
            "colorbar": {
             "outlinewidth": 0,
             "ticks": ""
            },
            "colorscale": [
             [
              0,
              "#0d0887"
             ],
             [
              0.1111111111111111,
              "#46039f"
             ],
             [
              0.2222222222222222,
              "#7201a8"
             ],
             [
              0.3333333333333333,
              "#9c179e"
             ],
             [
              0.4444444444444444,
              "#bd3786"
             ],
             [
              0.5555555555555556,
              "#d8576b"
             ],
             [
              0.6666666666666666,
              "#ed7953"
             ],
             [
              0.7777777777777778,
              "#fb9f3a"
             ],
             [
              0.8888888888888888,
              "#fdca26"
             ],
             [
              1,
              "#f0f921"
             ]
            ],
            "type": "histogram2d"
           }
          ],
          "histogram2dcontour": [
           {
            "colorbar": {
             "outlinewidth": 0,
             "ticks": ""
            },
            "colorscale": [
             [
              0,
              "#0d0887"
             ],
             [
              0.1111111111111111,
              "#46039f"
             ],
             [
              0.2222222222222222,
              "#7201a8"
             ],
             [
              0.3333333333333333,
              "#9c179e"
             ],
             [
              0.4444444444444444,
              "#bd3786"
             ],
             [
              0.5555555555555556,
              "#d8576b"
             ],
             [
              0.6666666666666666,
              "#ed7953"
             ],
             [
              0.7777777777777778,
              "#fb9f3a"
             ],
             [
              0.8888888888888888,
              "#fdca26"
             ],
             [
              1,
              "#f0f921"
             ]
            ],
            "type": "histogram2dcontour"
           }
          ],
          "mesh3d": [
           {
            "colorbar": {
             "outlinewidth": 0,
             "ticks": ""
            },
            "type": "mesh3d"
           }
          ],
          "parcoords": [
           {
            "line": {
             "colorbar": {
              "outlinewidth": 0,
              "ticks": ""
             }
            },
            "type": "parcoords"
           }
          ],
          "pie": [
           {
            "automargin": true,
            "type": "pie"
           }
          ],
          "scatter": [
           {
            "fillpattern": {
             "fillmode": "overlay",
             "size": 10,
             "solidity": 0.2
            },
            "type": "scatter"
           }
          ],
          "scatter3d": [
           {
            "line": {
             "colorbar": {
              "outlinewidth": 0,
              "ticks": ""
             }
            },
            "marker": {
             "colorbar": {
              "outlinewidth": 0,
              "ticks": ""
             }
            },
            "type": "scatter3d"
           }
          ],
          "scattercarpet": [
           {
            "marker": {
             "colorbar": {
              "outlinewidth": 0,
              "ticks": ""
             }
            },
            "type": "scattercarpet"
           }
          ],
          "scattergeo": [
           {
            "marker": {
             "colorbar": {
              "outlinewidth": 0,
              "ticks": ""
             }
            },
            "type": "scattergeo"
           }
          ],
          "scattergl": [
           {
            "marker": {
             "colorbar": {
              "outlinewidth": 0,
              "ticks": ""
             }
            },
            "type": "scattergl"
           }
          ],
          "scattermapbox": [
           {
            "marker": {
             "colorbar": {
              "outlinewidth": 0,
              "ticks": ""
             }
            },
            "type": "scattermapbox"
           }
          ],
          "scatterpolar": [
           {
            "marker": {
             "colorbar": {
              "outlinewidth": 0,
              "ticks": ""
             }
            },
            "type": "scatterpolar"
           }
          ],
          "scatterpolargl": [
           {
            "marker": {
             "colorbar": {
              "outlinewidth": 0,
              "ticks": ""
             }
            },
            "type": "scatterpolargl"
           }
          ],
          "scatterternary": [
           {
            "marker": {
             "colorbar": {
              "outlinewidth": 0,
              "ticks": ""
             }
            },
            "type": "scatterternary"
           }
          ],
          "surface": [
           {
            "colorbar": {
             "outlinewidth": 0,
             "ticks": ""
            },
            "colorscale": [
             [
              0,
              "#0d0887"
             ],
             [
              0.1111111111111111,
              "#46039f"
             ],
             [
              0.2222222222222222,
              "#7201a8"
             ],
             [
              0.3333333333333333,
              "#9c179e"
             ],
             [
              0.4444444444444444,
              "#bd3786"
             ],
             [
              0.5555555555555556,
              "#d8576b"
             ],
             [
              0.6666666666666666,
              "#ed7953"
             ],
             [
              0.7777777777777778,
              "#fb9f3a"
             ],
             [
              0.8888888888888888,
              "#fdca26"
             ],
             [
              1,
              "#f0f921"
             ]
            ],
            "type": "surface"
           }
          ],
          "table": [
           {
            "cells": {
             "fill": {
              "color": "#EBF0F8"
             },
             "line": {
              "color": "white"
             }
            },
            "header": {
             "fill": {
              "color": "#C8D4E3"
             },
             "line": {
              "color": "white"
             }
            },
            "type": "table"
           }
          ]
         },
         "layout": {
          "annotationdefaults": {
           "arrowcolor": "#2a3f5f",
           "arrowhead": 0,
           "arrowwidth": 1
          },
          "autotypenumbers": "strict",
          "coloraxis": {
           "colorbar": {
            "outlinewidth": 0,
            "ticks": ""
           }
          },
          "colorscale": {
           "diverging": [
            [
             0,
             "#8e0152"
            ],
            [
             0.1,
             "#c51b7d"
            ],
            [
             0.2,
             "#de77ae"
            ],
            [
             0.3,
             "#f1b6da"
            ],
            [
             0.4,
             "#fde0ef"
            ],
            [
             0.5,
             "#f7f7f7"
            ],
            [
             0.6,
             "#e6f5d0"
            ],
            [
             0.7,
             "#b8e186"
            ],
            [
             0.8,
             "#7fbc41"
            ],
            [
             0.9,
             "#4d9221"
            ],
            [
             1,
             "#276419"
            ]
           ],
           "sequential": [
            [
             0,
             "#0d0887"
            ],
            [
             0.1111111111111111,
             "#46039f"
            ],
            [
             0.2222222222222222,
             "#7201a8"
            ],
            [
             0.3333333333333333,
             "#9c179e"
            ],
            [
             0.4444444444444444,
             "#bd3786"
            ],
            [
             0.5555555555555556,
             "#d8576b"
            ],
            [
             0.6666666666666666,
             "#ed7953"
            ],
            [
             0.7777777777777778,
             "#fb9f3a"
            ],
            [
             0.8888888888888888,
             "#fdca26"
            ],
            [
             1,
             "#f0f921"
            ]
           ],
           "sequentialminus": [
            [
             0,
             "#0d0887"
            ],
            [
             0.1111111111111111,
             "#46039f"
            ],
            [
             0.2222222222222222,
             "#7201a8"
            ],
            [
             0.3333333333333333,
             "#9c179e"
            ],
            [
             0.4444444444444444,
             "#bd3786"
            ],
            [
             0.5555555555555556,
             "#d8576b"
            ],
            [
             0.6666666666666666,
             "#ed7953"
            ],
            [
             0.7777777777777778,
             "#fb9f3a"
            ],
            [
             0.8888888888888888,
             "#fdca26"
            ],
            [
             1,
             "#f0f921"
            ]
           ]
          },
          "colorway": [
           "#636efa",
           "#EF553B",
           "#00cc96",
           "#ab63fa",
           "#FFA15A",
           "#19d3f3",
           "#FF6692",
           "#B6E880",
           "#FF97FF",
           "#FECB52"
          ],
          "font": {
           "color": "#2a3f5f"
          },
          "geo": {
           "bgcolor": "white",
           "lakecolor": "white",
           "landcolor": "#E5ECF6",
           "showlakes": true,
           "showland": true,
           "subunitcolor": "white"
          },
          "hoverlabel": {
           "align": "left"
          },
          "hovermode": "closest",
          "mapbox": {
           "style": "light"
          },
          "paper_bgcolor": "white",
          "plot_bgcolor": "#E5ECF6",
          "polar": {
           "angularaxis": {
            "gridcolor": "white",
            "linecolor": "white",
            "ticks": ""
           },
           "bgcolor": "#E5ECF6",
           "radialaxis": {
            "gridcolor": "white",
            "linecolor": "white",
            "ticks": ""
           }
          },
          "scene": {
           "xaxis": {
            "backgroundcolor": "#E5ECF6",
            "gridcolor": "white",
            "gridwidth": 2,
            "linecolor": "white",
            "showbackground": true,
            "ticks": "",
            "zerolinecolor": "white"
           },
           "yaxis": {
            "backgroundcolor": "#E5ECF6",
            "gridcolor": "white",
            "gridwidth": 2,
            "linecolor": "white",
            "showbackground": true,
            "ticks": "",
            "zerolinecolor": "white"
           },
           "zaxis": {
            "backgroundcolor": "#E5ECF6",
            "gridcolor": "white",
            "gridwidth": 2,
            "linecolor": "white",
            "showbackground": true,
            "ticks": "",
            "zerolinecolor": "white"
           }
          },
          "shapedefaults": {
           "line": {
            "color": "#2a3f5f"
           }
          },
          "ternary": {
           "aaxis": {
            "gridcolor": "white",
            "linecolor": "white",
            "ticks": ""
           },
           "baxis": {
            "gridcolor": "white",
            "linecolor": "white",
            "ticks": ""
           },
           "bgcolor": "#E5ECF6",
           "caxis": {
            "gridcolor": "white",
            "linecolor": "white",
            "ticks": ""
           }
          },
          "title": {
           "x": 0.05
          },
          "xaxis": {
           "automargin": true,
           "gridcolor": "white",
           "linecolor": "white",
           "ticks": "",
           "title": {
            "standoff": 15
           },
           "zerolinecolor": "white",
           "zerolinewidth": 2
          },
          "yaxis": {
           "automargin": true,
           "gridcolor": "white",
           "linecolor": "white",
           "ticks": "",
           "title": {
            "standoff": 15
           },
           "zerolinecolor": "white",
           "zerolinewidth": 2
          }
         }
        },
        "xaxis": {
         "anchor": "y",
         "constrain": "domain",
         "domain": [
          0,
          1
         ],
         "scaleanchor": "y"
        },
        "yaxis": {
         "anchor": "x",
         "autorange": "reversed",
         "constrain": "domain",
         "domain": [
          0,
          1
         ]
        }
       }
      }
     },
     "metadata": {},
     "output_type": "display_data"
    }
   ],
   "source": [
    "print(f\"Total daily contacts for each age group is {mixing_matrices['all_locations'].sum(axis=1)}\")\n",
    "px.imshow(mixing_matrices[\"all_locations\"])"
   ]
  },
  {
   "cell_type": "markdown",
   "metadata": {},
   "source": [
    "## Age adjustment"
   ]
  },
  {
   "cell_type": "markdown",
   "metadata": {},
   "source": [
    "### Latency"
   ]
  },
  {
   "cell_type": "code",
   "execution_count": 14,
   "metadata": {},
   "outputs": [],
   "source": [
    "age_params = baseline_params[\"age_specific_latency\"]"
   ]
  },
  {
   "cell_type": "markdown",
   "metadata": {},
   "source": [
    "#### Early Activation"
   ]
  },
  {
   "cell_type": "code",
   "execution_count": 15,
   "metadata": {},
   "outputs": [
    {
     "name": "stdout",
     "output_type": "stream",
     "text": [
      "{0: 0.0066, 5: 0.0027, 15: 0.00027}\n"
     ]
    }
   ],
   "source": [
    "pretty_print(age_params[\"early_activation\"])"
   ]
  },
  {
   "cell_type": "markdown",
   "metadata": {},
   "source": [
    "#### Stabilisation"
   ]
  },
  {
   "cell_type": "code",
   "execution_count": 16,
   "metadata": {},
   "outputs": [
    {
     "name": "stdout",
     "output_type": "stream",
     "text": [
      "{0: 0.012, 5: 0.012, 15: 0.0054}\n"
     ]
    }
   ],
   "source": [
    "pretty_print(age_params[\"stabilisation\"])"
   ]
  },
  {
   "cell_type": "markdown",
   "metadata": {},
   "source": [
    "#### Late Activation"
   ]
  },
  {
   "cell_type": "code",
   "execution_count": 17,
   "metadata": {},
   "outputs": [
    {
     "name": "stdout",
     "output_type": "stream",
     "text": [
      "{0: 1.9e-11, 5: 6.4e-06, 15: 3.3e-06}\n"
     ]
    }
   ],
   "source": [
    "pretty_print(age_params[\"late_activation\"])"
   ]
  },
  {
   "cell_type": "markdown",
   "metadata": {},
   "source": [
    "## Calibration target"
   ]
  },
  {
   "cell_type": "markdown",
   "metadata": {},
   "source": [
    "Innitially, only the progession from latent (early and late) to the activation of TB was modelled, in the absence of treatment or interventions. The model was calibrated to the population size."
   ]
  },
  {
   "cell_type": "code",
   "execution_count": 18,
   "metadata": {},
   "outputs": [
    {
     "data": {
      "application/vnd.plotly.v1+json": {
       "config": {
        "plotlyServerURL": "https://plot.ly"
       },
       "data": [
        {
         "hovertemplate": "index=%{x}<br>total_population=%{y}<extra></extra>",
         "legendgroup": "",
         "line": {
          "color": "#636efa",
          "dash": "solid"
         },
         "marker": {
          "symbol": "circle"
         },
         "mode": "lines",
         "name": "",
         "orientation": "v",
         "showlegend": false,
         "type": "scatter",
         "x": [
          1950,
          1950.1,
          1950.2,
          1950.3,
          1950.4,
          1950.5,
          1950.6,
          1950.7,
          1950.8,
          1950.9,
          1951,
          1951.1,
          1951.2,
          1951.3,
          1951.4,
          1951.5,
          1951.6,
          1951.7,
          1951.8,
          1951.9,
          1952,
          1952.1,
          1952.2,
          1952.3,
          1952.4,
          1952.5,
          1952.6,
          1952.7,
          1952.8,
          1952.9,
          1953,
          1953.1,
          1953.2,
          1953.3,
          1953.4,
          1953.5,
          1953.6,
          1953.7,
          1953.8,
          1953.9,
          1954,
          1954.1,
          1954.2,
          1954.3,
          1954.4,
          1954.5,
          1954.6,
          1954.7,
          1954.8,
          1954.9,
          1955,
          1955.1,
          1955.2,
          1955.3,
          1955.4,
          1955.5,
          1955.6,
          1955.7,
          1955.8,
          1955.9,
          1956,
          1956.1,
          1956.2,
          1956.3,
          1956.4,
          1956.5,
          1956.6,
          1956.7,
          1956.8,
          1956.9,
          1957,
          1957.1,
          1957.2,
          1957.3,
          1957.4,
          1957.5,
          1957.6,
          1957.7,
          1957.8,
          1957.9,
          1958,
          1958.1,
          1958.2,
          1958.3,
          1958.4,
          1958.5,
          1958.6,
          1958.7,
          1958.8,
          1958.9,
          1959,
          1959.1,
          1959.2,
          1959.3,
          1959.4,
          1959.5,
          1959.6,
          1959.7,
          1959.8,
          1959.9,
          1960,
          1960.1,
          1960.2,
          1960.3,
          1960.4,
          1960.5,
          1960.6,
          1960.7,
          1960.8,
          1960.9,
          1961,
          1961.1,
          1961.2,
          1961.3,
          1961.4,
          1961.5,
          1961.6,
          1961.7,
          1961.8,
          1961.9,
          1962,
          1962.1,
          1962.2,
          1962.3,
          1962.4,
          1962.5,
          1962.6,
          1962.7,
          1962.8,
          1962.9,
          1963,
          1963.1,
          1963.2,
          1963.3,
          1963.4,
          1963.5,
          1963.6,
          1963.7,
          1963.8,
          1963.9,
          1964,
          1964.1,
          1964.2,
          1964.3,
          1964.4,
          1964.5,
          1964.6,
          1964.7,
          1964.8,
          1964.9,
          1965,
          1965.1,
          1965.2,
          1965.3,
          1965.4,
          1965.5,
          1965.6,
          1965.7,
          1965.8,
          1965.9,
          1966,
          1966.1,
          1966.2,
          1966.3,
          1966.4,
          1966.5,
          1966.6,
          1966.7,
          1966.8,
          1966.9,
          1967,
          1967.1,
          1967.2,
          1967.3,
          1967.4,
          1967.5,
          1967.6,
          1967.7,
          1967.8,
          1967.9,
          1968,
          1968.1,
          1968.2,
          1968.3,
          1968.4,
          1968.5,
          1968.6,
          1968.7,
          1968.8,
          1968.9,
          1969,
          1969.1,
          1969.2,
          1969.3,
          1969.4,
          1969.5,
          1969.6,
          1969.7,
          1969.8,
          1969.9,
          1970,
          1970.1,
          1970.2,
          1970.3,
          1970.4,
          1970.5,
          1970.6,
          1970.7,
          1970.8,
          1970.9,
          1971,
          1971.1,
          1971.2,
          1971.3,
          1971.4,
          1971.5,
          1971.6,
          1971.7,
          1971.8,
          1971.9,
          1972,
          1972.1,
          1972.2,
          1972.3,
          1972.4,
          1972.5,
          1972.6,
          1972.7,
          1972.8,
          1972.9,
          1973,
          1973.1,
          1973.2,
          1973.3,
          1973.4,
          1973.5,
          1973.6,
          1973.7,
          1973.8,
          1973.9,
          1974,
          1974.1,
          1974.2,
          1974.3,
          1974.4,
          1974.5,
          1974.6,
          1974.7,
          1974.8,
          1974.9,
          1975,
          1975.1,
          1975.2,
          1975.3,
          1975.4,
          1975.5,
          1975.6,
          1975.7,
          1975.8,
          1975.9,
          1976,
          1976.1,
          1976.2,
          1976.3,
          1976.4,
          1976.5,
          1976.6,
          1976.7,
          1976.8,
          1976.9,
          1977,
          1977.1,
          1977.2,
          1977.3,
          1977.4,
          1977.5,
          1977.6,
          1977.7,
          1977.8,
          1977.9,
          1978,
          1978.1,
          1978.2,
          1978.3,
          1978.4,
          1978.5,
          1978.6,
          1978.7,
          1978.8,
          1978.9,
          1979,
          1979.1,
          1979.2,
          1979.3,
          1979.4,
          1979.5,
          1979.6,
          1979.7,
          1979.8,
          1979.9,
          1980,
          1980.1,
          1980.2,
          1980.3,
          1980.4,
          1980.5,
          1980.6,
          1980.7,
          1980.8,
          1980.9,
          1981,
          1981.1,
          1981.2,
          1981.3,
          1981.4,
          1981.5,
          1981.6,
          1981.7,
          1981.8,
          1981.9,
          1982,
          1982.1,
          1982.2,
          1982.3,
          1982.4,
          1982.5,
          1982.6,
          1982.7,
          1982.8,
          1982.9,
          1983,
          1983.1,
          1983.2,
          1983.3,
          1983.4,
          1983.5,
          1983.6,
          1983.7,
          1983.8,
          1983.9,
          1984,
          1984.1,
          1984.2,
          1984.3,
          1984.4,
          1984.5,
          1984.6,
          1984.7,
          1984.8,
          1984.9,
          1985,
          1985.1,
          1985.2,
          1985.3,
          1985.4,
          1985.5,
          1985.6,
          1985.7,
          1985.8,
          1985.9,
          1986,
          1986.1,
          1986.2,
          1986.3,
          1986.4,
          1986.5,
          1986.6,
          1986.7,
          1986.8,
          1986.9,
          1987,
          1987.1,
          1987.2,
          1987.3,
          1987.4,
          1987.5,
          1987.6,
          1987.7,
          1987.8,
          1987.9,
          1988,
          1988.1,
          1988.2,
          1988.3,
          1988.4,
          1988.5,
          1988.6,
          1988.7,
          1988.8,
          1988.9,
          1989,
          1989.1,
          1989.2,
          1989.3,
          1989.4,
          1989.5,
          1989.6,
          1989.7,
          1989.8,
          1989.9,
          1990,
          1990.1,
          1990.2,
          1990.3,
          1990.4,
          1990.5,
          1990.6,
          1990.7,
          1990.8,
          1990.9,
          1991,
          1991.1,
          1991.2,
          1991.3,
          1991.4,
          1991.5,
          1991.6,
          1991.7,
          1991.8,
          1991.9,
          1992,
          1992.1,
          1992.2,
          1992.3,
          1992.4,
          1992.5,
          1992.6,
          1992.7,
          1992.8,
          1992.9,
          1993,
          1993.1,
          1993.2,
          1993.3,
          1993.4,
          1993.5,
          1993.6,
          1993.7,
          1993.8,
          1993.9,
          1994,
          1994.1,
          1994.2,
          1994.3,
          1994.4,
          1994.5,
          1994.6,
          1994.7,
          1994.8,
          1994.9,
          1995,
          1995.1,
          1995.2,
          1995.3,
          1995.4,
          1995.5,
          1995.6,
          1995.7,
          1995.8,
          1995.9,
          1996,
          1996.1,
          1996.2,
          1996.3,
          1996.4,
          1996.5,
          1996.6,
          1996.7,
          1996.8,
          1996.9,
          1997,
          1997.1,
          1997.2,
          1997.3,
          1997.4,
          1997.5,
          1997.6,
          1997.7,
          1997.8,
          1997.9,
          1998,
          1998.1,
          1998.2,
          1998.3,
          1998.4,
          1998.5,
          1998.6,
          1998.7,
          1998.8,
          1998.9,
          1999,
          1999.1,
          1999.2,
          1999.3,
          1999.4,
          1999.5,
          1999.6,
          1999.7,
          1999.8,
          1999.9,
          2000,
          2000.1,
          2000.2,
          2000.3,
          2000.4,
          2000.5,
          2000.6,
          2000.7,
          2000.8,
          2000.9,
          2001,
          2001.1,
          2001.2,
          2001.3,
          2001.4,
          2001.5,
          2001.6,
          2001.7,
          2001.8,
          2001.9,
          2002,
          2002.1,
          2002.2,
          2002.3,
          2002.4,
          2002.5,
          2002.6,
          2002.7,
          2002.8,
          2002.9,
          2003,
          2003.1,
          2003.2,
          2003.3,
          2003.4,
          2003.5,
          2003.6,
          2003.7,
          2003.8,
          2003.9,
          2004,
          2004.1,
          2004.2,
          2004.3,
          2004.4,
          2004.5,
          2004.6,
          2004.7,
          2004.8,
          2004.9,
          2005,
          2005.1,
          2005.2,
          2005.3,
          2005.4,
          2005.5,
          2005.6,
          2005.7,
          2005.8,
          2005.9,
          2006,
          2006.1,
          2006.2,
          2006.3,
          2006.4,
          2006.5,
          2006.6,
          2006.7,
          2006.8,
          2006.9,
          2007,
          2007.1,
          2007.2,
          2007.3,
          2007.4,
          2007.5,
          2007.6,
          2007.7,
          2007.8,
          2007.9,
          2008,
          2008.1,
          2008.2,
          2008.3,
          2008.4,
          2008.5,
          2008.6,
          2008.7,
          2008.8,
          2008.9,
          2009,
          2009.1,
          2009.2,
          2009.3,
          2009.4,
          2009.5,
          2009.6,
          2009.7,
          2009.8,
          2009.9,
          2010,
          2010.1,
          2010.2,
          2010.3,
          2010.4,
          2010.5,
          2010.6,
          2010.7,
          2010.8,
          2010.9,
          2011,
          2011.1,
          2011.2,
          2011.3,
          2011.4,
          2011.5,
          2011.6,
          2011.7,
          2011.8,
          2011.9,
          2012,
          2012.1,
          2012.2,
          2012.3,
          2012.4,
          2012.5,
          2012.6,
          2012.7,
          2012.8,
          2012.9,
          2013,
          2013.1,
          2013.2,
          2013.3,
          2013.4,
          2013.5,
          2013.6,
          2013.7,
          2013.8,
          2013.9,
          2014,
          2014.1,
          2014.2,
          2014.3,
          2014.4,
          2014.5,
          2014.6,
          2014.7,
          2014.8,
          2014.9,
          2015,
          2015.1,
          2015.2,
          2015.3,
          2015.4,
          2015.5,
          2015.6,
          2015.7,
          2015.8,
          2015.9,
          2016,
          2016.1,
          2016.2,
          2016.3,
          2016.4,
          2016.5,
          2016.6,
          2016.7,
          2016.8,
          2016.9,
          2017,
          2017.1,
          2017.2,
          2017.3,
          2017.4,
          2017.5,
          2017.6,
          2017.7,
          2017.8,
          2017.9,
          2018,
          2018.1,
          2018.2,
          2018.3,
          2018.4,
          2018.5,
          2018.6,
          2018.7,
          2018.8,
          2018.9,
          2019,
          2019.1,
          2019.2,
          2019.3,
          2019.4,
          2019.5,
          2019.6,
          2019.7,
          2019.8,
          2019.9,
          2020
         ],
         "xaxis": "x",
         "y": [
          33048,
          33076.613366583115,
          33106.1272058506,
          33136.525820223666,
          33167.79391121785,
          33199.9165151222,
          33232.87898536773,
          33266.66695758676,
          33301.2663562911,
          33336.66337025831,
          33372.84445210636,
          33409.796320358706,
          33447.505940947594,
          33485.96052426562,
          33525.14753046484,
          33565.054665330375,
          33605.66986216539,
          33646.981280769214,
          33688.97730696668,
          33731.6465581513,
          33774.97787526599,
          33818.960305472756,
          33863.58310143369,
          33908.836904788244,
          33954.7107366011,
          34001.18985929876,
          34048.278202351285,
          34096.00016846686,
          34144.39119517912,
          34193.480937515065,
          34243.29819040734,
          34293.86967783126,
          34345.220067715774,
          34397.37209416948,
          34450.34659257546,
          34504.16257838159,
          34558.83725796636,
          34614.38607194004,
          34670.82278786428,
          34728.15951638652,
          34786.40675487376,
          34845.57339002467,
          34905.66676423033,
          34966.69270954336,
          35028.655560900006,
          35091.55816620571,
          35155.4019025676,
          35220.18673730465,
          35285.911209474034,
          35352.57243930208,
          35420.16613021066,
          35488.68660034776,
          35558.12678649983,
          35628.47822532067,
          35699.73105427829,
          35771.874015197674,
          35844.894473469874,
          35918.778385769874,
          35993.510282350035,
          36069.073266743515,
          36145.449020855296,
          36222.6178017728,
          36300.55838761448,
          36379.24806895519,
          36458.662647611425,
          36538.77643971421,
          36619.56224094575,
          36700.99127838229,
          36783.03320810121,
          36865.65611453253,
          36948.82650376291,
          37032.509242648346,
          37116.66753892842,
          37201.263780224974,
          37286.25753230505,
          37371.60308184406,
          37457.26756852285,
          37543.23265173423,
          37629.48859048251,
          37716.02430182612,
          37802.82957630023,
          37889.89441764113,
          37977.20904476658,
          38064.76391649053,
          38152.54971331034,
          38240.55731353999,
          38328.7777930142,
          38417.202434302686,
          38505.82275675071,
          38594.63047555047,
          38683.61748939928,
          38772.77588087059,
          38862.09794668244,
          38951.576205912,
          39041.20335248035,
          39130.97225373914,
          39220.87595884646,
          39310.90774716513,
          39401.06108252678,
          39491.32959620197,
          39581.70708853796,
          39672.18756501697,
          39762.76523743796,
          39853.434482533536,
          39944.18984259806,
          40035.026035489216,
          40125.93799777292,
          40216.92084129819,
          40307.969838858146,
          40399.08042464243,
          40490.24822407729,
          40581.46907791315,
          40672.738985947886,
          40764.05410238295,
          40855.41073882427,
          40946.805424816645,
          41038.23488884857,
          41129.69600647268,
          41221.185800737265,
          41312.70146473531,
          41404.24043492244,
          41495.800306503545,
          41587.37882018422,
          41678.97386339598,
          41770.58354363578,
          41862.20620898599,
          41953.84027568578,
          42045.484210193375,
          42137.13650709581,
          42228.79562913974,
          42320.459989603005,
          42412.12793790673,
          42503.797762722126,
          42595.46776029568,
          42687.13622199109,
          42778.801376976306,
          42870.46139232914,
          42962.114388362366,
          43053.75853622909,
          43145.39198297585,
          43237.01280943095,
          43328.619031125374,
          43420.208656332274,
          43511.77976826977,
          43603.33039155048,
          43694.85848572055,
          43786.36195691239,
          43877.8387894963,
          43969.286969412045,
          44060.70442230403,
          44152.08901887867,
          44243.43865160519,
          44334.751276243514,
          44426.02480224167,
          44517.25709435918,
          44608.44598947358,
          44699.58940896841,
          44790.6852768639,
          44881.73147341167,
          44972.72583644934,
          45063.66621489723,
          45154.55057024202,
          45245.3768348145,
          45336.142889820454,
          45426.846567392044,
          45517.48578077869,
          45608.05854982049,
          45698.56283503531,
          45788.99653479376,
          45879.357519566875,
          45969.643841838515,
          46059.85355630509,
          46149.98465473539,
          46240.035074605345,
          46330.00285925628,
          46419.88614628477,
          46509.683031738066,
          46599.391582721524,
          46689.00989875883,
          46778.536274516875,
          46867.96901933664,
          46957.30643354639,
          47046.5468123486,
          47135.688584454576,
          47224.73033165412,
          47313.67062202014,
          47402.5080041104,
          47491.2410264032,
          47579.868468023786,
          47668.38922045952,
          47756.80212956884,
          47845.10599668476,
          47933.2996739398,
          48021.38234083545,
          48109.35316834668,
          48197.21127020574,
          48284.95572012664,
          48372.58585261088,
          48460.10114913633,
          48547.50103899117,
          48634.784914558244,
          48721.95228177419,
          48809.00290436211,
          48895.93652861256,
          48982.75288083438,
          49069.45169421685,
          49156.032962729005,
          49242.496792804566,
          49328.843261103524,
          49415.072416910196,
          49501.1843698667,
          49587.17958245083,
          49673.058547980734,
          49758.82169493649,
          49844.469388065874,
          49930.00217678952,
          50015.42100613391,
          50100.72674526251,
          50185.92016188577,
          50271.001973002065,
          50355.97336032108,
          50440.83562891581,
          50525.58997549642,
          50610.237511414256,
          50694.77960485465,
          50779.217906658356,
          50863.55405296958,
          50947.7897179221,
          51031.926740208146,
          51115.96756771655,
          51199.91484490026,
          51283.77132934243,
          51367.53989739717,
          51451.22381104518,
          51534.8268680137,
          51618.3529640516,
          51701.806058682945,
          51785.19019570973,
          51868.51000209945,
          51951.770592226865,
          52034.97706477645,
          52118.13449451634,
          52201.24807916008,
          52284.32389885219,
          52367.36818647025,
          52450.387100365835,
          52533.386755413136,
          52616.373869008385,
          52699.35566498433,
          52782.33930662737,
          52865.33193787989,
          52948.34096507318,
          53031.37446874441,
          53114.440560662086,
          53197.547359154785,
          53280.70302740153,
          53363.91631267875,
          53447.19633189276,
          53530.55216683334,
          53613.99286394747,
          53697.527556283254,
          53781.16620635339,
          53864.9189976136,
          53948.795956674585,
          54032.80695530133,
          54116.96209626993,
          54201.27259607023,
          54285.74957431375,
          54370.4038873264,
          54455.24618421326,
          54540.288062630774,
          54625.54163468605,
          54711.01873362078,
          54796.73098056845,
          54882.69037118938,
          54968.90990826202,
          55055.40226209478,
          55142.17962339728,
          55229.2538112726,
          55316.636817420265,
          55404.340187275346,
          55492.37474806485,
          55580.750612924014,
          55669.477623641025,
          55758.56602139617,
          55848.025398347505,
          55937.86453254212,
          56028.09139466027,
          56118.71405467882,
          56209.74118823854,
          56301.180565348695,
          56393.03894713228,
          56485.32223139613,
          56578.03733414211,
          56671.191103734345,
          56764.78927662195,
          56858.83655459102,
          56953.33780228079,
          57048.29855925825,
          57143.72338590003,
          57239.61597419208,
          57335.979590999064,
          57432.818238543456,
          57530.13528669261,
          57627.93332132945,
          57726.214184993034,
          57824.97999780813,
          57924.23315215785,
          58023.975193216225,
          58124.2067812899,
          58224.92779363563,
          58326.13892150764,
          58427.841102849095,
          58530.03408347297,
          58632.71638663809,
          58735.88570228835,
          58839.541543931235,
          58943.68302656996,
          59048.30770751389,
          59153.41164110025,
          59258.991463259226,
          59365.04502853359,
          59471.568633062925,
          59578.557216232904,
          59686.0053001353,
          59793.90863177374,
          59902.261911553316,
          60011.05890802809,
          60120.292676665835,
          60229.95741767653,
          60340.047399701165,
          60450.556036940674,
          60561.47591130095,
          60672.79927526182,
          60784.52004062283,
          60896.63175708328,
          61009.12677148506,
          61121.99622912606,
          61235.23110913248,
          61348.825142504014,
          61462.77114943645,
          61577.060137581815,
          61691.68134282953,
          61806.625674001,
          61921.88615201401,
          62037.453719671015,
          62153.317477439145,
          62269.4663018709,
          62385.89187121321,
          62502.584369763645,
          62619.53262109325,
          62736.72467449031,
          62854.15046455865,
          62971.79943241466,
          63089.65986792233,
          63207.71896207806,
          63325.96436535371,
          63444.3852468972,
          63562.9696597182,
          63681.70428624096,
          63800.57446818216,
          63919.56668798982,
          64038.66985953651,
          64157.871092786874,
          64277.15528861104,
          64396.50531352536,
          64515.907327993904,
          64635.34966463426,
          64754.81771452007,
          64874.29405182804,
          64993.76099311448,
          65113.20591116175,
          65232.61374178816,
          65351.967218802434,
          65471.24810959746,
          65590.44138205625,
          65709.53104959143,
          65828.50016885676,
          65947.33113949049,
          66066.00898093825,
          66184.52038818349,
          66302.85144117942,
          66420.98762189041,
          66538.91424160413,
          66656.62048827173,
          66774.09709871336,
          66891.33342899817,
          67008.31741559962,
          67125.03662758534,
          67241.48510857263,
          67357.65684116435,
          67473.54371038708,
          67589.13615282722,
          67704.42912677972,
          67819.41911425033,
          67934.10130453484,
          68048.47001220375,
          68162.5216511102,
          68276.25548858292,
          68389.67010730533,
          68502.76333549255,
          68615.53247307797,
          68727.97839785815,
          68840.10462215547,
          68951.91314621133,
          69063.40430709998,
          69174.57725749153,
          69285.43736265795,
          69395.99178187056,
          69506.24494114726,
          69616.19900644282,
          69725.85951239338,
          69835.23573999574,
          69944.33506301808,
          70053.16346379239,
          70161.72763727105,
          70270.03875653051,
          70378.10732592244,
          70485.9425982928,
          70593.5526177183,
          70700.9478575008,
          70808.14346549274,
          70915.1529446167,
          71021.98748531881,
          71128.65606209481,
          71235.17260594048,
          71341.55593598232,
          71447.82045564508,
          71553.9764045138,
          71660.03402943588,
          71766.00873562146,
          71871.9123569102,
          71977.75360629403,
          72083.53933147909,
          72189.28043826569,
          72294.98676839702,
          72400.66526523081,
          72506.32002814015,
          72611.95499241856,
          72717.57924709874,
          72823.19960635324,
          72928.81896485665,
          73034.43629778475,
          73140.05234829159,
          73245.6747569481,
          73351.30623600712,
          73456.94490727398,
          73562.58697019597,
          73668.2358041596,
          73773.8920831219,
          73879.55301503694,
          73985.2130877044,
          74090.87083803344,
          74196.52555313152,
          74302.1733869798,
          74407.80746289738,
          74513.41951408797,
          74619.00740488297,
          74724.56817878204,
          74830.09466289196,
          74935.5754725109,
          75040.99881495342,
          75146.36232040834,
          75251.65946396397,
          75356.87867661702,
          75462.00488577884,
          75567.0305340103,
          75671.94728010421,
          75776.74277268787,
          75881.40126059306,
          75985.90996655106,
          76090.25900668824,
          76194.43518904137,
          76298.4220349367,
          76402.20069947286,
          76505.75806419729,
          76609.08217678238,
          76712.15760135841,
          76814.96543293708,
          76917.48505880935,
          77019.70747933208,
          77121.6254461369,
          77223.22608694826,
          77324.49097872931,
          77425.40358904522,
          77525.9625160863,
          77626.16081501995,
          77725.98596554626,
          77825.42268330725,
          77924.46823709781,
          78023.11856479952,
          78121.36579407469,
          78219.19964823622,
          78316.6168219839,
          78413.6157928912,
          78510.19256582226,
          78606.34098262612,
          78702.05623871104,
          78797.34064649968,
          78892.19514834527,
          78986.6179423707,
          79080.60448960446,
          79174.15297007434,
          79267.27169885574,
          79359.96601939609,
          79452.23615085681,
          79544.07727453143,
          79635.49199997477,
          79726.49446558738,
          79817.09197104651,
          79907.2850031894,
          79997.07165107706,
          80086.4664496,
          80175.48039286632,
          80264.11923822851,
          80352.38594818834,
          80440.29317262454,
          80527.8534074637,
          80615.07611459885,
          80701.96841552583,
          80788.54200543044,
          80874.81244999023,
          80960.79294123981,
          81046.49429208833,
          81131.92559768519,
          81217.10327225004,
          81302.04727240937,
          81386.77289788103,
          81471.29058157357,
          81555.60752348344,
          81639.74284240384,
          81723.71513954103,
          81807.53649239708,
          81891.21375242485,
          81974.7608093033,
          82058.19414561203,
          82141.52569865622,
          82224.76386999186,
          82307.91908217657,
          82391.00631669996,
          82474.0376749272,
          82557.02222289875,
          82639.96631909779,
          82722.88113410352,
          82805.78191481886,
          82888.6797094395,
          82971.5809976438,
          83054.48831768955,
          83137.41362052952,
          83220.37181399026,
          83303.3713601236,
          83386.41524006655,
          83469.5104856165,
          83552.6700626221,
          83635.90231011418,
          83719.21200474893,
          83802.60374639575,
          83886.0885016718,
          83969.67506152747,
          84053.36913655269,
          84137.1734163833,
          84221.09317311675,
          84305.14022948727,
          84389.32292551284,
          84473.64500018253,
          84558.10568249958,
          84642.710393658,
          84727.47171984361,
          84812.39579854978,
          84897.48325321503,
          84982.73527599678,
          85068.16211410148,
          85153.76964223033,
          85239.56015773452,
          85325.53418456753,
          85411.69887024007,
          85498.06067275343,
          85584.62289498124,
          85671.38577100265,
          85758.35001661647,
          85845.52417582461,
          85932.91454733483,
          86020.52288228605,
          86108.34638424819,
          86196.38478189202,
          86284.64837740434,
          86373.14153970187,
          86461.86318614129,
          86550.8101647609,
          86639.98938322243,
          86729.40488905173,
          86819.05692250797,
          86908.94291927635,
          86999.06594691241,
          87089.4304196339,
          87180.03749582262,
          87270.8852258638,
          87361.97047788148,
          87453.29799154343,
          87544.87212327248,
          87636.69267791433,
          87728.75491280394,
          87821.05366488037,
          87913.59581591494,
          88006.3840013666,
          88099.41525765297,
          88192.6828164236,
          88286.1891144215,
          88379.93621063826,
          88473.92199583177,
          88568.140971774,
          88662.59146512489,
          88757.27529540367,
          88852.19104705921,
          88947.33413376453,
          89042.69769616297,
          89138.2816083728,
          89234.08762328298,
          89330.1129924728,
          89426.35039950554,
          89522.79008759781,
          89619.43385657937,
          89716.28197947913,
          89813.32885690859,
          89910.56417389603,
          90007.98491511737,
          90105.58581387381,
          90203.35285234207,
          90301.26465839086,
          90399.30078082031,
          90497.44860731711,
          90595.6930158338,
          90694.01645771124,
          90792.3992773094,
          90890.82750695321,
          90989.2922006439,
          91087.78099708616,
          91186.27778380361,
          91284.7635768004,
          91383.22991437104,
          91481.67100545071,
          91580.07582222285,
          91678.42891409404,
          91776.71980288063,
          91874.94461430247,
          91973.09571758816,
          92071.1626488809,
          92169.13528918549,
          92267.01114244522,
          92364.78641620385,
          92462.45491211503,
          92560.00810348228,
          92657.44101953627,
          92754.7558929131,
          92851.95223269564,
          92949.02587504665,
          93045.96919779264,
          93142.78233037177,
          93239.4717889487,
          93336.03888267146,
          93432.48050482149,
          93528.79525533071,
          93624.99126642843,
          93721.07320136677,
          93817.04289853049,
          93912.90102656942,
          94008.65591082266,
          94104.31623519893,
          94199.8881712187,
          94295.37548814982,
          94390.78330177051,
          94486.12540411825,
          94581.41399100436,
          94676.65758020997,
          94771.86101316451,
          94867.03330921847,
          94962.19053116474,
          95057.33971296676,
          95152.47972631465,
          95247.60189038832,
          95342.70872003317,
          95437.80931754068,
          95532.90488461412,
          95627.99005211398,
          95723.06231792035,
          95818.12924975475,
          95913.19268399403,
          96008.25029599639,
          96103.29934046084,
          96198.34471097053,
          96293.38881189002,
          96388.43107084346,
          96483.46830718695,
          96578.50192392884,
          96673.53681677942,
          96768.57456280066,
          96863.61326497,
          96958.64877465095,
          97053.68553671693,
          97148.72616340713,
          97243.77000132817
         ],
         "yaxis": "y"
        },
        {
         "hovertemplate": "year=%{x}<br>sum=%{y}<extra></extra>",
         "legendgroup": "",
         "marker": {
          "color": "red",
          "symbol": "circle"
         },
         "mode": "markers",
         "name": "",
         "orientation": "v",
         "showlegend": false,
         "type": "scatter",
         "x": [
          1950,
          1955,
          1960,
          1965,
          1970,
          1975,
          1980,
          1985,
          1990,
          1995,
          2000,
          2005,
          2010,
          2015,
          2020
         ],
         "xaxis": "x",
         "y": [
          33048,
          36573,
          41202,
          46429,
          51151,
          55114,
          59301,
          63986,
          72400,
          77723,
          84396,
          92325,
          102927,
          110929,
          119447
         ],
         "yaxis": "y"
        }
       ],
       "layout": {
        "template": {
         "data": {
          "bar": [
           {
            "error_x": {
             "color": "#2a3f5f"
            },
            "error_y": {
             "color": "#2a3f5f"
            },
            "marker": {
             "line": {
              "color": "#E5ECF6",
              "width": 0.5
             },
             "pattern": {
              "fillmode": "overlay",
              "size": 10,
              "solidity": 0.2
             }
            },
            "type": "bar"
           }
          ],
          "barpolar": [
           {
            "marker": {
             "line": {
              "color": "#E5ECF6",
              "width": 0.5
             },
             "pattern": {
              "fillmode": "overlay",
              "size": 10,
              "solidity": 0.2
             }
            },
            "type": "barpolar"
           }
          ],
          "carpet": [
           {
            "aaxis": {
             "endlinecolor": "#2a3f5f",
             "gridcolor": "white",
             "linecolor": "white",
             "minorgridcolor": "white",
             "startlinecolor": "#2a3f5f"
            },
            "baxis": {
             "endlinecolor": "#2a3f5f",
             "gridcolor": "white",
             "linecolor": "white",
             "minorgridcolor": "white",
             "startlinecolor": "#2a3f5f"
            },
            "type": "carpet"
           }
          ],
          "choropleth": [
           {
            "colorbar": {
             "outlinewidth": 0,
             "ticks": ""
            },
            "type": "choropleth"
           }
          ],
          "contour": [
           {
            "colorbar": {
             "outlinewidth": 0,
             "ticks": ""
            },
            "colorscale": [
             [
              0,
              "#0d0887"
             ],
             [
              0.1111111111111111,
              "#46039f"
             ],
             [
              0.2222222222222222,
              "#7201a8"
             ],
             [
              0.3333333333333333,
              "#9c179e"
             ],
             [
              0.4444444444444444,
              "#bd3786"
             ],
             [
              0.5555555555555556,
              "#d8576b"
             ],
             [
              0.6666666666666666,
              "#ed7953"
             ],
             [
              0.7777777777777778,
              "#fb9f3a"
             ],
             [
              0.8888888888888888,
              "#fdca26"
             ],
             [
              1,
              "#f0f921"
             ]
            ],
            "type": "contour"
           }
          ],
          "contourcarpet": [
           {
            "colorbar": {
             "outlinewidth": 0,
             "ticks": ""
            },
            "type": "contourcarpet"
           }
          ],
          "heatmap": [
           {
            "colorbar": {
             "outlinewidth": 0,
             "ticks": ""
            },
            "colorscale": [
             [
              0,
              "#0d0887"
             ],
             [
              0.1111111111111111,
              "#46039f"
             ],
             [
              0.2222222222222222,
              "#7201a8"
             ],
             [
              0.3333333333333333,
              "#9c179e"
             ],
             [
              0.4444444444444444,
              "#bd3786"
             ],
             [
              0.5555555555555556,
              "#d8576b"
             ],
             [
              0.6666666666666666,
              "#ed7953"
             ],
             [
              0.7777777777777778,
              "#fb9f3a"
             ],
             [
              0.8888888888888888,
              "#fdca26"
             ],
             [
              1,
              "#f0f921"
             ]
            ],
            "type": "heatmap"
           }
          ],
          "heatmapgl": [
           {
            "colorbar": {
             "outlinewidth": 0,
             "ticks": ""
            },
            "colorscale": [
             [
              0,
              "#0d0887"
             ],
             [
              0.1111111111111111,
              "#46039f"
             ],
             [
              0.2222222222222222,
              "#7201a8"
             ],
             [
              0.3333333333333333,
              "#9c179e"
             ],
             [
              0.4444444444444444,
              "#bd3786"
             ],
             [
              0.5555555555555556,
              "#d8576b"
             ],
             [
              0.6666666666666666,
              "#ed7953"
             ],
             [
              0.7777777777777778,
              "#fb9f3a"
             ],
             [
              0.8888888888888888,
              "#fdca26"
             ],
             [
              1,
              "#f0f921"
             ]
            ],
            "type": "heatmapgl"
           }
          ],
          "histogram": [
           {
            "marker": {
             "pattern": {
              "fillmode": "overlay",
              "size": 10,
              "solidity": 0.2
             }
            },
            "type": "histogram"
           }
          ],
          "histogram2d": [
           {
            "colorbar": {
             "outlinewidth": 0,
             "ticks": ""
            },
            "colorscale": [
             [
              0,
              "#0d0887"
             ],
             [
              0.1111111111111111,
              "#46039f"
             ],
             [
              0.2222222222222222,
              "#7201a8"
             ],
             [
              0.3333333333333333,
              "#9c179e"
             ],
             [
              0.4444444444444444,
              "#bd3786"
             ],
             [
              0.5555555555555556,
              "#d8576b"
             ],
             [
              0.6666666666666666,
              "#ed7953"
             ],
             [
              0.7777777777777778,
              "#fb9f3a"
             ],
             [
              0.8888888888888888,
              "#fdca26"
             ],
             [
              1,
              "#f0f921"
             ]
            ],
            "type": "histogram2d"
           }
          ],
          "histogram2dcontour": [
           {
            "colorbar": {
             "outlinewidth": 0,
             "ticks": ""
            },
            "colorscale": [
             [
              0,
              "#0d0887"
             ],
             [
              0.1111111111111111,
              "#46039f"
             ],
             [
              0.2222222222222222,
              "#7201a8"
             ],
             [
              0.3333333333333333,
              "#9c179e"
             ],
             [
              0.4444444444444444,
              "#bd3786"
             ],
             [
              0.5555555555555556,
              "#d8576b"
             ],
             [
              0.6666666666666666,
              "#ed7953"
             ],
             [
              0.7777777777777778,
              "#fb9f3a"
             ],
             [
              0.8888888888888888,
              "#fdca26"
             ],
             [
              1,
              "#f0f921"
             ]
            ],
            "type": "histogram2dcontour"
           }
          ],
          "mesh3d": [
           {
            "colorbar": {
             "outlinewidth": 0,
             "ticks": ""
            },
            "type": "mesh3d"
           }
          ],
          "parcoords": [
           {
            "line": {
             "colorbar": {
              "outlinewidth": 0,
              "ticks": ""
             }
            },
            "type": "parcoords"
           }
          ],
          "pie": [
           {
            "automargin": true,
            "type": "pie"
           }
          ],
          "scatter": [
           {
            "fillpattern": {
             "fillmode": "overlay",
             "size": 10,
             "solidity": 0.2
            },
            "type": "scatter"
           }
          ],
          "scatter3d": [
           {
            "line": {
             "colorbar": {
              "outlinewidth": 0,
              "ticks": ""
             }
            },
            "marker": {
             "colorbar": {
              "outlinewidth": 0,
              "ticks": ""
             }
            },
            "type": "scatter3d"
           }
          ],
          "scattercarpet": [
           {
            "marker": {
             "colorbar": {
              "outlinewidth": 0,
              "ticks": ""
             }
            },
            "type": "scattercarpet"
           }
          ],
          "scattergeo": [
           {
            "marker": {
             "colorbar": {
              "outlinewidth": 0,
              "ticks": ""
             }
            },
            "type": "scattergeo"
           }
          ],
          "scattergl": [
           {
            "marker": {
             "colorbar": {
              "outlinewidth": 0,
              "ticks": ""
             }
            },
            "type": "scattergl"
           }
          ],
          "scattermapbox": [
           {
            "marker": {
             "colorbar": {
              "outlinewidth": 0,
              "ticks": ""
             }
            },
            "type": "scattermapbox"
           }
          ],
          "scatterpolar": [
           {
            "marker": {
             "colorbar": {
              "outlinewidth": 0,
              "ticks": ""
             }
            },
            "type": "scatterpolar"
           }
          ],
          "scatterpolargl": [
           {
            "marker": {
             "colorbar": {
              "outlinewidth": 0,
              "ticks": ""
             }
            },
            "type": "scatterpolargl"
           }
          ],
          "scatterternary": [
           {
            "marker": {
             "colorbar": {
              "outlinewidth": 0,
              "ticks": ""
             }
            },
            "type": "scatterternary"
           }
          ],
          "surface": [
           {
            "colorbar": {
             "outlinewidth": 0,
             "ticks": ""
            },
            "colorscale": [
             [
              0,
              "#0d0887"
             ],
             [
              0.1111111111111111,
              "#46039f"
             ],
             [
              0.2222222222222222,
              "#7201a8"
             ],
             [
              0.3333333333333333,
              "#9c179e"
             ],
             [
              0.4444444444444444,
              "#bd3786"
             ],
             [
              0.5555555555555556,
              "#d8576b"
             ],
             [
              0.6666666666666666,
              "#ed7953"
             ],
             [
              0.7777777777777778,
              "#fb9f3a"
             ],
             [
              0.8888888888888888,
              "#fdca26"
             ],
             [
              1,
              "#f0f921"
             ]
            ],
            "type": "surface"
           }
          ],
          "table": [
           {
            "cells": {
             "fill": {
              "color": "#EBF0F8"
             },
             "line": {
              "color": "white"
             }
            },
            "header": {
             "fill": {
              "color": "#C8D4E3"
             },
             "line": {
              "color": "white"
             }
            },
            "type": "table"
           }
          ]
         },
         "layout": {
          "annotationdefaults": {
           "arrowcolor": "#2a3f5f",
           "arrowhead": 0,
           "arrowwidth": 1
          },
          "autotypenumbers": "strict",
          "coloraxis": {
           "colorbar": {
            "outlinewidth": 0,
            "ticks": ""
           }
          },
          "colorscale": {
           "diverging": [
            [
             0,
             "#8e0152"
            ],
            [
             0.1,
             "#c51b7d"
            ],
            [
             0.2,
             "#de77ae"
            ],
            [
             0.3,
             "#f1b6da"
            ],
            [
             0.4,
             "#fde0ef"
            ],
            [
             0.5,
             "#f7f7f7"
            ],
            [
             0.6,
             "#e6f5d0"
            ],
            [
             0.7,
             "#b8e186"
            ],
            [
             0.8,
             "#7fbc41"
            ],
            [
             0.9,
             "#4d9221"
            ],
            [
             1,
             "#276419"
            ]
           ],
           "sequential": [
            [
             0,
             "#0d0887"
            ],
            [
             0.1111111111111111,
             "#46039f"
            ],
            [
             0.2222222222222222,
             "#7201a8"
            ],
            [
             0.3333333333333333,
             "#9c179e"
            ],
            [
             0.4444444444444444,
             "#bd3786"
            ],
            [
             0.5555555555555556,
             "#d8576b"
            ],
            [
             0.6666666666666666,
             "#ed7953"
            ],
            [
             0.7777777777777778,
             "#fb9f3a"
            ],
            [
             0.8888888888888888,
             "#fdca26"
            ],
            [
             1,
             "#f0f921"
            ]
           ],
           "sequentialminus": [
            [
             0,
             "#0d0887"
            ],
            [
             0.1111111111111111,
             "#46039f"
            ],
            [
             0.2222222222222222,
             "#7201a8"
            ],
            [
             0.3333333333333333,
             "#9c179e"
            ],
            [
             0.4444444444444444,
             "#bd3786"
            ],
            [
             0.5555555555555556,
             "#d8576b"
            ],
            [
             0.6666666666666666,
             "#ed7953"
            ],
            [
             0.7777777777777778,
             "#fb9f3a"
            ],
            [
             0.8888888888888888,
             "#fdca26"
            ],
            [
             1,
             "#f0f921"
            ]
           ]
          },
          "colorway": [
           "#636efa",
           "#EF553B",
           "#00cc96",
           "#ab63fa",
           "#FFA15A",
           "#19d3f3",
           "#FF6692",
           "#B6E880",
           "#FF97FF",
           "#FECB52"
          ],
          "font": {
           "color": "#2a3f5f"
          },
          "geo": {
           "bgcolor": "white",
           "lakecolor": "white",
           "landcolor": "#E5ECF6",
           "showlakes": true,
           "showland": true,
           "subunitcolor": "white"
          },
          "hoverlabel": {
           "align": "left"
          },
          "hovermode": "closest",
          "mapbox": {
           "style": "light"
          },
          "paper_bgcolor": "white",
          "plot_bgcolor": "#E5ECF6",
          "polar": {
           "angularaxis": {
            "gridcolor": "white",
            "linecolor": "white",
            "ticks": ""
           },
           "bgcolor": "#E5ECF6",
           "radialaxis": {
            "gridcolor": "white",
            "linecolor": "white",
            "ticks": ""
           }
          },
          "scene": {
           "xaxis": {
            "backgroundcolor": "#E5ECF6",
            "gridcolor": "white",
            "gridwidth": 2,
            "linecolor": "white",
            "showbackground": true,
            "ticks": "",
            "zerolinecolor": "white"
           },
           "yaxis": {
            "backgroundcolor": "#E5ECF6",
            "gridcolor": "white",
            "gridwidth": 2,
            "linecolor": "white",
            "showbackground": true,
            "ticks": "",
            "zerolinecolor": "white"
           },
           "zaxis": {
            "backgroundcolor": "#E5ECF6",
            "gridcolor": "white",
            "gridwidth": 2,
            "linecolor": "white",
            "showbackground": true,
            "ticks": "",
            "zerolinecolor": "white"
           }
          },
          "shapedefaults": {
           "line": {
            "color": "#2a3f5f"
           }
          },
          "ternary": {
           "aaxis": {
            "gridcolor": "white",
            "linecolor": "white",
            "ticks": ""
           },
           "baxis": {
            "gridcolor": "white",
            "linecolor": "white",
            "ticks": ""
           },
           "bgcolor": "#E5ECF6",
           "caxis": {
            "gridcolor": "white",
            "linecolor": "white",
            "ticks": ""
           }
          },
          "title": {
           "x": 0.05
          },
          "xaxis": {
           "automargin": true,
           "gridcolor": "white",
           "linecolor": "white",
           "ticks": "",
           "title": {
            "standoff": 15
           },
           "zerolinecolor": "white",
           "zerolinewidth": 2
          },
          "yaxis": {
           "automargin": true,
           "gridcolor": "white",
           "linecolor": "white",
           "ticks": "",
           "title": {
            "standoff": 15
           },
           "zerolinecolor": "white",
           "zerolinewidth": 2
          }
         }
        },
        "title": {
         "text": "Modelled vs Actual Population",
         "x": 0.5
        },
        "xaxis": {
         "title": {
          "text": "Year"
         }
        },
        "yaxis": {
         "title": {
          "text": "Population"
         }
        }
       }
      }
     },
     "metadata": {},
     "output_type": "display_data"
    }
   ],
   "source": [
    "project = get_project(\"tb_dynamics\", \"kiribati\")\n",
    "base_params = project.param_set.baseline\n",
    "model_0 = project.run_baseline_model(baseline_params)\n",
    "df_0 = model_0.get_outputs_df()\n",
    "derived_df_0 = model_0.get_derived_outputs_df()\n",
    "total_pop = input_db.query(table_name=\"population\", conditions={\"iso3\": iso3})\n",
    "total_pop[\"age_bins\"] = find_agebins(total_pop[\"start_age\"], [0, 100], [\"Total\"])\n",
    "total_pop = total_pop.groupby([\"year\", \"age_bins\"])[\"population\"].agg([\"sum\"]).reset_index()\n",
    "fig2_1 = px.line(\n",
    "    derived_df_0,\n",
    "    x=derived_df_0.index,\n",
    "    y=\"total_population\",\n",
    ")\n",
    "fig2_2 = px.scatter(total_pop, x=\"year\", y=\"sum\")\n",
    "fig2_2.update_traces(marker=dict(color=\"red\"))\n",
    "fig2_3 = go.Figure(\n",
    "    data=fig2_1.data + fig2_2.data,\n",
    ")\n",
    "fig2_3.update_layout(\n",
    "    title=\"Modelled vs Data\", title_x=0.5, xaxis_title=\"Year\", yaxis_title=\"Population\"\n",
    ")\n",
    "fig2_3.show()"
   ]
  }
 ],
 "metadata": {
  "kernelspec": {
   "display_name": "Python 3.10.4 ('autumn')",
   "language": "python",
   "name": "python3"
  },
  "language_info": {
   "codemirror_mode": {
    "name": "ipython",
    "version": 3
   },
   "file_extension": ".py",
   "mimetype": "text/x-python",
   "name": "python",
   "nbconvert_exporter": "python",
   "pygments_lexer": "ipython3",
   "version": "3.10.4"
  },
  "orig_nbformat": 4,
  "vscode": {
   "interpreter": {
    "hash": "32546788be758822ecff2a88079b35480b7d02e1a3a7c2c2e0e8f52550974ab3"
   }
  }
 },
 "nbformat": 4,
 "nbformat_minor": 2
}
