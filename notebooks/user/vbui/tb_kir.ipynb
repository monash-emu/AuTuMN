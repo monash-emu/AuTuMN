{
 "cells": [
  {
   "cell_type": "code",
   "execution_count": 18,
   "metadata": {},
   "outputs": [],
   "source": [
    "import warnings\n",
    "from typing import List\n",
    "\n",
    "import numpy as np\n",
    "import pandas as pd\n",
    "import plotly.graph_objects as go\n",
    "import plotly.express as px\n",
    "from plotly.subplots import make_subplots\n",
    "from autumn.core.inputs.database import get_input_db\n",
    "from autumn.core.inputs.demography.queries import get_population_by_agegroup\n",
    "from autumn.core.project import ParameterSet, get_project\n",
    "from autumn.settings import Region, Models\n",
    "from autumn.core import inputs\n",
    "from autumn.core.inputs.social_mixing.build_synthetic_matrices import build_synthetic_matrices"
   ]
  },
  {
   "cell_type": "code",
   "execution_count": 11,
   "metadata": {},
   "outputs": [],
   "source": [
    "warnings.filterwarnings(\"ignore\")\n",
    "pd.options.plotting.backend = \"plotly\""
   ]
  },
  {
   "cell_type": "code",
   "execution_count": 8,
   "metadata": {},
   "outputs": [],
   "source": [
    "region = Region.KIRIBATI\n",
    "model = Models.TBD\n",
    "p = get_project(model, region, reload=True)\n",
    "baseline_params = p.param_set.baseline"
   ]
  },
  {
   "cell_type": "code",
   "execution_count": 16,
   "metadata": {},
   "outputs": [
    {
     "data": {
      "text/plain": [
       "Params{'time': {'start': 1950.0, 'end': 2020.0, 'step': 0.1}, 'iso3': 'KIR', 'crude_birth_rate': 1.0, 'start_population_size': 33048.0, 'infectious_seed': 1.0, 'age_breakpoints': [0, 5, 15, 35, 50], 'age_mixing': {'source_iso3': 'FJI', 'age_adjust': True}, 'contact_rate': 0.00178, 'age_specific_latency': {'early_activation': {0: 2.4, 5: 2.0, 15: 0.1}, 'stabilisation': {0: 4.4, 5: 4.4, 15: 2.0}, 'late_activation': {0: 7e-09, 5: 0.0023, 15: 0.0012}}, 'rr_infection_latent': 0.21, 'rr_infection_recovered': 1.0, 'progression_multiplier': 1.0, 'self_recovery_rate': 0.2, 'infect_death_rate': 0.2, 'cumulative_start_time': 1950.0, 'crude_death_rate': 1.0, 'description': None}"
      ]
     },
     "execution_count": 16,
     "metadata": {},
     "output_type": "execute_result"
    }
   ],
   "source": [
    "baseline_params"
   ]
  },
  {
   "cell_type": "code",
   "execution_count": 17,
   "metadata": {},
   "outputs": [],
   "source": [
    "iso3 = baseline_params['iso3']\n",
    "source_iso3 = baseline_params['age_mixing']['source_iso3']\n",
    "age_adjust = baseline_params['age_mixing']['age_adjust']"
   ]
  },
  {
   "cell_type": "markdown",
   "metadata": {},
   "source": [
    "## Population\n"
   ]
  },
  {
   "cell_type": "code",
   "execution_count": 13,
   "metadata": {},
   "outputs": [
    {
     "name": "stdout",
     "output_type": "stream",
     "text": [
      "Modelled age groups are [0, 5, 15, 35, 50]\n"
     ]
    }
   ],
   "source": [
    "modelled_age_groups = baseline_params[\"age_breakpoints\"]\n",
    "print(f\"Modelled age groups are {modelled_age_groups}\")"
   ]
  },
  {
   "cell_type": "markdown",
   "metadata": {},
   "source": [
    "## Mixing matrix"
   ]
  },
  {
   "cell_type": "code",
   "execution_count": 22,
   "metadata": {},
   "outputs": [
    {
     "name": "stdout",
     "output_type": "stream",
     "text": [
      "Target country: KIRIBATI (KIR)\n",
      "Proxy country: FJI (FIJI)\n",
      "Always age-adjusted to target population\n"
     ]
    }
   ],
   "source": [
    "print(f\"Target country: {region.upper()} ({iso3})\")\n",
    "print(f\"Proxy country: {source_iso3} (FIJI)\")\n",
    "print(\"Always age-adjusted to target population\")"
   ]
  },
  {
   "cell_type": "code",
   "execution_count": 24,
   "metadata": {},
   "outputs": [
    {
     "ename": "AssertionError",
     "evalue": "Could not find the required file C:\\autumn\\data\\inputs\\social-mixing\\socialmixr_outputs\\FJI\\home.csv",
     "output_type": "error",
     "traceback": [
      "\u001b[1;31m---------------------------------------------------------------------------\u001b[0m",
      "\u001b[1;31mAssertionError\u001b[0m                            Traceback (most recent call last)",
      "Cell \u001b[1;32mIn [24], line 1\u001b[0m\n\u001b[1;32m----> 1\u001b[0m mixing_matrices \u001b[38;5;241m=\u001b[39m \u001b[43mbuild_synthetic_matrices\u001b[49m\u001b[43m(\u001b[49m\n\u001b[0;32m      2\u001b[0m \u001b[43m    \u001b[49m\u001b[43miso3\u001b[49m\u001b[43m,\u001b[49m\u001b[43m \u001b[49m\u001b[43msource_iso3\u001b[49m\u001b[43m,\u001b[49m\u001b[43m \u001b[49m\u001b[43mmodelled_age_groups\u001b[49m\u001b[43m,\u001b[49m\u001b[43m \u001b[49m\u001b[43mage_adjust\u001b[49m\u001b[43m,\u001b[49m\n\u001b[0;32m      3\u001b[0m \u001b[43m)\u001b[49m\n",
      "File \u001b[1;32mC:\\autumn\\autumn\\core\\inputs\\social_mixing\\build_synthetic_matrices.py:50\u001b[0m, in \u001b[0;36mbuild_synthetic_matrices\u001b[1;34m(modelled_country_iso3, proxy_country_iso3, modelled_age_breaks, age_adjust, modelled_region_name, requested_locations)\u001b[0m\n\u001b[0;32m     <a href='file:///c%3A/autumn/autumn/core/inputs/social_mixing/build_synthetic_matrices.py?line=38'>39</a>\u001b[0m \u001b[39m\"\"\"\u001b[39;00m\n\u001b[0;32m     <a href='file:///c%3A/autumn/autumn/core/inputs/social_mixing/build_synthetic_matrices.py?line=39'>40</a>\u001b[0m \u001b[39m:param modelled_country_iso3: The name of the modelled country\u001b[39;00m\n\u001b[0;32m     <a href='file:///c%3A/autumn/autumn/core/inputs/social_mixing/build_synthetic_matrices.py?line=40'>41</a>\u001b[0m \u001b[39m:param proxy_country_iso3: The name of the country from which we want to source the contact matrix\u001b[39;00m\n\u001b[1;32m   (...)\u001b[0m\n\u001b[0;32m     <a href='file:///c%3A/autumn/autumn/core/inputs/social_mixing/build_synthetic_matrices.py?line=45'>46</a>\u001b[0m \u001b[39m:return: dictionary containing the location-specific contact matrices for the modelled country\u001b[39;00m\n\u001b[0;32m     <a href='file:///c%3A/autumn/autumn/core/inputs/social_mixing/build_synthetic_matrices.py?line=46'>47</a>\u001b[0m \u001b[39m\"\"\"\u001b[39;00m\n\u001b[0;32m     <a href='file:///c%3A/autumn/autumn/core/inputs/social_mixing/build_synthetic_matrices.py?line=48'>49</a>\u001b[0m \u001b[39m# Load contact matrices for the source country\u001b[39;00m\n\u001b[1;32m---> <a href='file:///c%3A/autumn/autumn/core/inputs/social_mixing/build_synthetic_matrices.py?line=49'>50</a>\u001b[0m source_matrices, source_age_breaks \u001b[39m=\u001b[39m load_socialmixr_matrices(\n\u001b[0;32m     <a href='file:///c%3A/autumn/autumn/core/inputs/social_mixing/build_synthetic_matrices.py?line=50'>51</a>\u001b[0m     proxy_country_iso3, requested_locations\n\u001b[0;32m     <a href='file:///c%3A/autumn/autumn/core/inputs/social_mixing/build_synthetic_matrices.py?line=51'>52</a>\u001b[0m )\n\u001b[0;32m     <a href='file:///c%3A/autumn/autumn/core/inputs/social_mixing/build_synthetic_matrices.py?line=53'>54</a>\u001b[0m \u001b[39m# adjust matrices for modelled region's age distribution\u001b[39;00m\n\u001b[0;32m     <a href='file:///c%3A/autumn/autumn/core/inputs/social_mixing/build_synthetic_matrices.py?line=54'>55</a>\u001b[0m \u001b[39mif\u001b[39;00m age_adjust:\n",
      "File \u001b[1;32mC:\\autumn\\autumn\\core\\inputs\\social_mixing\\build_synthetic_matrices.py:98\u001b[0m, in \u001b[0;36mload_socialmixr_matrices\u001b[1;34m(proxy_country_iso3, requested_locations)\u001b[0m\n\u001b[0;32m     <a href='file:///c%3A/autumn/autumn/core/inputs/social_mixing/build_synthetic_matrices.py?line=95'>96</a>\u001b[0m matrix_path \u001b[39m=\u001b[39m os\u001b[39m.\u001b[39mpath\u001b[39m.\u001b[39mjoin(SOURCE_MATRICES_PATH, proxy_country_iso3, \u001b[39mf\u001b[39m\u001b[39m\"\u001b[39m\u001b[39m{\u001b[39;00mlocation\u001b[39m}\u001b[39;00m\u001b[39m.csv\u001b[39m\u001b[39m\"\u001b[39m)\n\u001b[0;32m     <a href='file:///c%3A/autumn/autumn/core/inputs/social_mixing/build_synthetic_matrices.py?line=96'>97</a>\u001b[0m msg \u001b[39m=\u001b[39m \u001b[39mf\u001b[39m\u001b[39m\"\u001b[39m\u001b[39mCould not find the required file \u001b[39m\u001b[39m{\u001b[39;00mmatrix_path\u001b[39m}\u001b[39;00m\u001b[39m\"\u001b[39m\n\u001b[1;32m---> <a href='file:///c%3A/autumn/autumn/core/inputs/social_mixing/build_synthetic_matrices.py?line=97'>98</a>\u001b[0m \u001b[39massert\u001b[39;00m \u001b[39mf\u001b[39m\u001b[39m\"\u001b[39m\u001b[39m{\u001b[39;00mlocation\u001b[39m}\u001b[39;00m\u001b[39m.csv\u001b[39m\u001b[39m\"\u001b[39m \u001b[39min\u001b[39;00m os\u001b[39m.\u001b[39mlistdir(\n\u001b[0;32m     <a href='file:///c%3A/autumn/autumn/core/inputs/social_mixing/build_synthetic_matrices.py?line=98'>99</a>\u001b[0m     os\u001b[39m.\u001b[39mpath\u001b[39m.\u001b[39mjoin(SOURCE_MATRICES_PATH, proxy_country_iso3)\n\u001b[0;32m    <a href='file:///c%3A/autumn/autumn/core/inputs/social_mixing/build_synthetic_matrices.py?line=99'>100</a>\u001b[0m ), msg\n\u001b[0;32m    <a href='file:///c%3A/autumn/autumn/core/inputs/social_mixing/build_synthetic_matrices.py?line=101'>102</a>\u001b[0m loc_matrix \u001b[39m=\u001b[39m pd\u001b[39m.\u001b[39mread_csv(\n\u001b[0;32m    <a href='file:///c%3A/autumn/autumn/core/inputs/social_mixing/build_synthetic_matrices.py?line=102'>103</a>\u001b[0m     matrix_path,\n\u001b[0;32m    <a href='file:///c%3A/autumn/autumn/core/inputs/social_mixing/build_synthetic_matrices.py?line=103'>104</a>\u001b[0m )\n\u001b[0;32m    <a href='file:///c%3A/autumn/autumn/core/inputs/social_mixing/build_synthetic_matrices.py?line=104'>105</a>\u001b[0m \u001b[39m# remove first column containing age brackets\u001b[39;00m\n",
      "\u001b[1;31mAssertionError\u001b[0m: Could not find the required file C:\\autumn\\data\\inputs\\social-mixing\\socialmixr_outputs\\FJI\\home.csv"
     ]
    }
   ],
   "source": [
    "mixing_matrices = build_synthetic_matrices(\n",
    "    iso3, source_iso3, modelled_age_groups, age_adjust,\n",
    ")"
   ]
  },
  {
   "cell_type": "code",
   "execution_count": null,
   "metadata": {},
   "outputs": [],
   "source": [
    "print(f\"Total daily contacts for each age group is {mixing_matrices['all_locations'].sum(axis=1)}\")\n",
    "px.imshow(mixing_matrices[\"all_locations\"])"
   ]
  }
 ],
 "metadata": {
  "interpreter": {
   "hash": "cdc1db7c93b6868ea0fedcce5cd81a1f74606c1851ad278abbacefb9281e55af"
  },
  "kernelspec": {
   "display_name": "Python 3.10.0 ('autumn')",
   "language": "python",
   "name": "python3"
  },
  "language_info": {
   "codemirror_mode": {
    "name": "ipython",
    "version": 3
   },
   "file_extension": ".py",
   "mimetype": "text/x-python",
   "name": "python",
   "nbconvert_exporter": "python",
   "pygments_lexer": "ipython3",
   "version": "3.10.0"
  },
  "orig_nbformat": 4
 },
 "nbformat": 4,
 "nbformat_minor": 2
}
