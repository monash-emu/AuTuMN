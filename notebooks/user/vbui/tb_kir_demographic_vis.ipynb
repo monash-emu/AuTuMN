{
 "cells": [
  {
   "cell_type": "code",
   "execution_count": null,
   "metadata": {},
   "outputs": [],
   "source": [
    "#Import neccessary dependencies\n",
    "import warnings\n",
    "from typing import List\n",
    "\n",
    "import numpy as np\n",
    "import pandas as pd\n",
    "import plotly.graph_objects as go\n",
    "import plotly.express as px\n",
    "from plotly.subplots import make_subplots\n",
    "from autumn.core import inputs\n",
    "from autumn.core.inputs.database import get_input_db\n",
    "from autumn.core.inputs.demography.queries import get_population_by_agegroup\n",
    "from autumn.core.inputs.social_mixing.queries import get_prem_mixing_matrices\n",
    "from autumn.core.inputs.social_mixing.build_synthetic_matrices import build_synthetic_matrices\n",
    "from autumn.core.project import ParameterSet, get_project\n",
    "from autumn.model_features.curve import scale_up_function"
   ]
  },
  {
   "cell_type": "code",
   "execution_count": null,
   "metadata": {},
   "outputs": [],
   "source": [
    "warnings.filterwarnings(\"ignore\")"
   ]
  },
  {
   "cell_type": "code",
   "execution_count": null,
   "metadata": {},
   "outputs": [],
   "source": [
    "project = get_project(\"tb_dynamics\", \"kiribati\")\n",
    "base_params = project.param_set.baseline"
   ]
  },
  {
   "cell_type": "markdown",
   "metadata": {},
   "source": [
    "# Baseline population visualization\n",
    "The birth rate and death rate was taken from [United Nations's Popilation Division website] (https://population.un.org/wpp/Download/Standard/Mortality/). The death rate is stratified by age groups 0-4, 5-14, 15-34, 35-49, 50+."
   ]
  },
  {
   "cell_type": "markdown",
   "metadata": {},
   "source": [
    "## Crude birth rate"
   ]
  },
  {
   "cell_type": "code",
   "execution_count": null,
   "metadata": {},
   "outputs": [],
   "source": [
    "#Query and visualize the crude birth rate from database\n",
    "birth_rates, years = inputs.get_crude_birth_rate(base_params[\"iso3\"])\n",
    "birth_rates = [b / 1000.0 for b in birth_rates]  # Birth rates are provided / 1000 population\n",
    "birth_rates_series = pd.Series(birth_rates, index=years)\n",
    "br_fig= px.line(birth_rates_series)\n",
    "br_fig.update_traces(mode='markers+lines')\n",
    "br_fig.update_layout(\n",
    "    title=\"Crude birth rate of Kiribati from 1950 to 2020\",\n",
    "    title_x=0.5,\n",
    "    xaxis_title=\"Year\",\n",
    "    yaxis_title=\"Crude birth rate\",\n",
    "    showlegend=False,\n",
    ")"
   ]
  },
  {
   "cell_type": "markdown",
   "metadata": {},
   "source": [
    "## Death rate by age group"
   ]
  },
  {
   "cell_type": "code",
   "execution_count": null,
   "metadata": {},
   "outputs": [],
   "source": [
    "age_string_map = {\n",
    "    0: \"0-4\",\n",
    "    5: \"5-14\",\n",
    "    15: \"15-34\",\n",
    "    35: \"35-49\",\n",
    "    50: \"50+\",\n",
    "}"
   ]
  },
  {
   "cell_type": "code",
   "execution_count": null,
   "metadata": {},
   "outputs": [],
   "source": [
    "death_rates, years = inputs.get_death_rates_by_agegroup(base_params['age_breakpoints'], base_params['iso3'])\n",
    "death_rate_by_age_group = pd.DataFrame.from_dict(death_rates, orient='index').T\n",
    "death_rate_by_age_group.columns = age_string_map.values()\n",
    "death_rate_by_age_group.index = years\n",
    "dr_fig = px.line(death_rate_by_age_group, x=death_rate_by_age_group.index, y=death_rate_by_age_group.columns)\n",
    "dr_fig.update_traces(mode='markers+lines')\n",
    "dr_fig.update_layout(\n",
    "    title=\"Death rate by age group of Kiribati from 1950 to 2020\",\n",
    "    title_x=0.5,\n",
    "    xaxis_title=\"Year\",\n",
    "    yaxis_title=\"Death rate\",\n",
    "    legend_title=\"\",\n",
    ")\n",
    "dr_fig.show()"
   ]
  },
  {
   "cell_type": "markdown",
   "metadata": {},
   "source": [
    "## Comparing modeled population with actual population"
   ]
  },
  {
   "cell_type": "code",
   "execution_count": null,
   "metadata": {},
   "outputs": [],
   "source": [
    "# Query data from databas\n",
    "input_db = get_input_db()\n",
    "def find_agebins(x, bins: List[int], labels: List[str]):\n",
    "    return pd.cut(x, bins, labels=labels, right=False)\n",
    "\n",
    "pop = input_db.query(table_name=\"population\", conditions={\"iso3\": \"KIR\"})\n",
    "\n",
    "age_groups_with_top = list(age_string_map.keys())\n",
    "age_groups_with_top.append(100)\n",
    "\n",
    "pop[\"age_bins\"] = find_agebins(\n",
    "    pop[\"start_age\"],\n",
    "    age_groups_with_top,\n",
    "    age_string_map.values(),\n",
    ")\n",
    "pop = pop.groupby([\"year\", \"age_bins\"])[\"population\"].agg([\"sum\"]).reset_index()\n",
    "pop['sum'] = pop['sum'].astype('int')\n",
    "pop['type'] = \"Empriric\""
   ]
  },
  {
   "cell_type": "code",
   "execution_count": null,
   "metadata": {},
   "outputs": [],
   "source": [
    "# run baseling model\n",
    "model_0 = project.run_baseline_model(base_params)\n",
    "# get modeled output\n",
    "df_0 = model_0.get_outputs_df()\n",
    "derived_df_0 = model_0.get_derived_outputs_df()\n",
    "# create data frame\n",
    "total_pop = input_db.query(table_name=\"population\", conditions={\"iso3\": base_params['iso3']})\n",
    "total_pop[\"age_bins\"] = find_agebins(total_pop[\"start_age\"], [0, 100], [\"Total\"])\n",
    "total_pop = total_pop.groupby([\"year\", \"age_bins\"])[\"population\"].agg([\"sum\"]).reset_index()"
   ]
  },
  {
   "cell_type": "markdown",
   "metadata": {},
   "source": [
    "### Modeled vs actual population"
   ]
  },
  {
   "cell_type": "code",
   "execution_count": null,
   "metadata": {},
   "outputs": [],
   "source": [
    "fig2_1 = px.line(\n",
    "    derived_df_0,\n",
    "    x=derived_df_0.index,\n",
    "    y=\"population_size\",\n",
    ")\n",
    "fig2_2 = px.scatter(total_pop, x=\"year\", y=\"sum\")\n",
    "fig2_2.update_traces(marker=dict(color=\"red\"))\n",
    "fig2_3 = go.Figure(\n",
    "    data=fig2_1.data + fig2_2.data,\n",
    ")\n",
    "fig2_3.update_layout(\n",
    "    title=\"Modelled vs Actual Population\", title_x=0.5, xaxis_title=\"Year\", yaxis_title=\"Population\"\n",
    ")\n",
    "fig2_3.show()"
   ]
  },
  {
   "cell_type": "code",
   "execution_count": null,
   "metadata": {},
   "outputs": [],
   "source": [
    "modeled_pop = df_0.filter(regex=\"^susceptible\", axis=1).reset_index()\n",
    "modeled_pop.rename(columns={\"index\": \"year\", \"variable\": \"age_bins\", \"value\": \"sum\"}, inplace=True)\n",
    "modeled_pop = modeled_pop.melt(id_vars=\"year\")\n",
    "modeled_pop[\"variable\"] = modeled_pop[\"variable\"].replace(\n",
    "    [f\"susceptibleXage_{str(i)}\" for i in age_string_map.keys()],\n",
    "    age_string_map.values(),\n",
    ")\n",
    "modeled_pop.rename(columns={\"variable\": \"age_bins\", \"value\": \"sum\"}, inplace=True)\n",
    "ryear = list(range(int(base_params[\"time\"][\"start\"]), int(base_params[\"time\"][\"end\"] + 1), 5))\n",
    "modeled_pop = modeled_pop[modeled_pop[\"year\"].isin(ryear)]\n",
    "modeled_pop[\"sum\"] = modeled_pop[\"sum\"].astype(\"int\")\n",
    "modeled_pop[\"year\"] = modeled_pop[\"year\"].astype(\"int\")\n",
    "modeled_pop[\"type\"] = \"Modeled\"\n",
    "modeled_pop.reset_index(drop=True, inplace=True)\n",
    "total_pop = pd.concat([pop,modeled_pop])"
   ]
  },
  {
   "cell_type": "code",
   "execution_count": null,
   "metadata": {},
   "outputs": [],
   "source": [
    "fig4 = go.Figure()\n",
    "fig4.update_layout(\n",
    "    template = \"plotly\",\n",
    "    xaxis =  dict(title_text=\"Year\"),\n",
    "    yaxis = dict(title_text=\"Population\"),\n",
    "    barmode = \"stack\",\n",
    ")\n",
    "for group in total_pop['age_bins'].unique():\n",
    "    plot_df = total_pop[total_pop['age_bins'] == group]\n",
    "    fig4.add_trace(\n",
    "        go.Bar(x = [plot_df['year'],plot_df['type']], y = plot_df['sum'], name = group)\n",
    "    )\n",
    "fig4.show()"
   ]
  },
  {
   "cell_type": "code",
   "execution_count": null,
   "metadata": {},
   "outputs": [],
   "source": [
    "fig5 =  px.bar(\n",
    "    total_pop,\n",
    "    x='year',\n",
    "    y='sum',\n",
    "    color='age_bins',\n",
    "    facet_col=\"type\",\n",
    "    labels={'year':'Year', 'sum':'Population'}\n",
    ")\n",
    "fig5.update_layout(legend_title = '')\n",
    "fig5.for_each_annotation(lambda a: a.update(text=a.text.split('=')[-1]))\n",
    "fig5.show()"
   ]
  },
  {
   "cell_type": "markdown",
   "metadata": {},
   "source": [
    "## Mixing matrix visualization"
   ]
  },
  {
   "cell_type": "code",
   "execution_count": null,
   "metadata": {},
   "outputs": [],
   "source": [
    "# Instead of using Prem mixing matrix, the model used a synthetic mixing matrix based on that of Fiji (follow Marshall mode of Romain et al.).\n",
    "age_mixing_matrices = build_synthetic_matrices(\n",
    "    base_params[\"iso3\"],\n",
    "    base_params[\"age_mixing\"][\"source_iso3\"],\n",
    "    base_params[\"age_breakpoints\"],\n",
    "    base_params[\"age_mixing\"][\"age_adjust\"],\n",
    "    requested_locations=[\"all_locations\"],\n",
    ")\n",
    "age_mixing_matrix = age_mixing_matrices[\"all_locations\"]\n",
    "fig6 = px.imshow(np.flipud(np.transpose(age_mixing_matrix)))\n",
    "fig6.update_layout(\n",
    "    xaxis=dict(\n",
    "        tickmode=\"linear\", tick0=0, dtick=1, ticktext=list(age_string_map.values())\n",
    "    ),\n",
    "    yaxis=dict(autorange=True, ticktext=list(age_string_map.values()))\n",
    ")\n",
    "fig6.update_coloraxes(showscale=False)\n",
    "fig6.show()"
   ]
  }
 ],
 "metadata": {
  "kernelspec": {
   "display_name": "Python 3 (ipykernel)",
   "language": "python",
   "name": "python3"
  },
  "language_info": {
   "codemirror_mode": {
    "name": "ipython",
    "version": 3
   },
   "file_extension": ".py",
   "mimetype": "text/x-python",
   "name": "python",
   "nbconvert_exporter": "python",
   "pygments_lexer": "ipython3",
   "version": "3.10.4"
  },
  "vscode": {
   "interpreter": {
    "hash": "d457940a8963e942bcd46e9b7d5a81b6c7b3586f948c4ae333b2381b8f1d6e9c"
   }
  }
 },
 "nbformat": 4,
 "nbformat_minor": 4
}
