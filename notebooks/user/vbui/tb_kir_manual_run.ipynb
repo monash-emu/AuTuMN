{
 "cells": [
  {
   "cell_type": "code",
   "execution_count": 1,
   "metadata": {},
   "outputs": [],
   "source": [
    "import warnings\n",
    "from typing import List\n",
    "\n",
    "import numpy as np\n",
    "import pandas as pd\n",
    "import plotly.graph_objects as go\n",
    "import plotly.express as px\n",
    "from plotly.subplots import make_subplots\n",
    "from autumn.core.inputs.database import get_input_db\n",
    "from autumn.core.inputs.demography.queries import get_population_by_agegroup\n",
    "from autumn.core.project import ParameterSet, get_project\n",
    "from autumn.core.utils.display import pretty_print"
   ]
  },
  {
   "cell_type": "code",
   "execution_count": 2,
   "metadata": {},
   "outputs": [],
   "source": [
    "warnings.filterwarnings(\"ignore\")\n",
    "input_db = get_input_db()\n",
    "def find_agebins(x, bins: List[int], labels: List[str]):\n",
    "    return pd.cut(x, bins, labels=labels, right=False)\n",
    "\n",
    "pop = input_db.query(table_name=\"population\", conditions={\"iso3\": \"KIR\"})\n",
    "\n",
    "def find_agebins(x, bins: List[int], labels: List[str]):\n",
    "    return pd.cut(x, bins, labels=labels, right=False)\n",
    "\n",
    "\n",
    "pop[\"age_bins\"] = find_agebins(\n",
    "    pop[\"start_age\"], [0, 5, 15, 35, 50, 100], [\"0-4\", \"5-14\", \"15-34\", \"35-49\", \"50+\"]\n",
    ")\n",
    "pop = pop.groupby([\"year\", \"age_bins\"])[\"population\"].agg([\"sum\"]).reset_index()\n",
    "pop['sum'] = pop['sum'].astype('int')\n",
    "pop['type'] = \"Data\""
   ]
  },
  {
   "cell_type": "markdown",
   "metadata": {},
   "source": [
    "## Running an empty model"
   ]
  },
  {
   "cell_type": "code",
   "execution_count": 5,
   "metadata": {},
   "outputs": [],
   "source": [
    "project = get_project(\"tb_dynamics\", \"kiribati\")"
   ]
  },
  {
   "cell_type": "code",
   "execution_count": 6,
   "metadata": {},
   "outputs": [],
   "source": [
    "base_params = project.param_set.baseline"
   ]
  },
  {
   "cell_type": "code",
   "execution_count": 7,
   "metadata": {},
   "outputs": [
    {
     "name": "stdout",
     "output_type": "stream",
     "text": [
      "Params\n",
      "{ 'age_breakpoints': [0, 5, 15, 35, 50],\n",
      "  'age_mixing': {'age_adjust': True, 'source_iso3': 'FJI'},\n",
      "  'age_specific_latency': { 'early_activation': { 0: 0.0066,\n",
      "                                                  5: 0.0027,\n",
      "                                                  15: 0.00027},\n",
      "                            'late_activation': { 0: 1.9e-11,\n",
      "                                                 5: 6.4e-06,\n",
      "                                                 15: 3.3e-06},\n",
      "                            'stabilisation': {0: 0.012, 5: 0.012, 15: 0.0054}},\n",
      "  'contact_rate': 0.00178,\n",
      "  'crude_birth_rate': 1.0,\n",
      "  'crude_death_rate': 0.0008,\n",
      "  'cumulative_start_time': 1950.0,\n",
      "  'description': None,\n",
      "  'infect_death_rate': 0.2,\n",
      "  'infectious_seed': 300.0,\n",
      "  'iso3': 'KIR',\n",
      "  'progression_multiplier': 1.0,\n",
      "  'rr_infection_latent': 0.21,\n",
      "  'rr_infection_recovered': 1.0,\n",
      "  'self_recovery_rate': 0.2,\n",
      "  'start_population_size': 33048.0,\n",
      "  'time': {'end': 2020.0, 'start': 1950.0, 'step': 0.1}}\n"
     ]
    }
   ],
   "source": [
    "pretty_print(base_params)"
   ]
  },
  {
   "cell_type": "code",
   "execution_count": 36,
   "metadata": {},
   "outputs": [],
   "source": [
    "update_params = {\n",
    "    'contact_rate': 0.000100003133105504045,\n",
    "    'rr_infection_latent': 0.2005519434974716,\n",
    "    'rr_infection_recovered': 0.20460496591598593, \n",
    "    'infectious_seed': 1,\n",
    "}\n",
    "params = project.param_set.baseline.update(update_params, calibration_format=True)"
   ]
  },
  {
   "cell_type": "code",
   "execution_count": 37,
   "metadata": {},
   "outputs": [],
   "source": [
    "model_0 = project.run_baseline_model(params)"
   ]
  },
  {
   "cell_type": "code",
   "execution_count": 38,
   "metadata": {},
   "outputs": [
    {
     "name": "stdout",
     "output_type": "stream",
     "text": [
      "Params\n",
      "{ 'age_breakpoints': [0, 5, 15, 35, 50],\n",
      "  'age_mixing': {'age_adjust': True, 'source_iso3': 'FJI'},\n",
      "  'age_specific_latency': { 'early_activation': { 0: 0.0066,\n",
      "                                                  5: 0.0027,\n",
      "                                                  15: 0.00027},\n",
      "                            'late_activation': { 0: 1.9e-11,\n",
      "                                                 5: 6.4e-06,\n",
      "                                                 15: 3.3e-06},\n",
      "                            'stabilisation': {0: 0.012, 5: 0.012, 15: 0.0054}},\n",
      "  'contact_rate': 0.00010000313310550405,\n",
      "  'crude_birth_rate': 1.0,\n",
      "  'crude_death_rate': 0.0008,\n",
      "  'cumulative_start_time': 1950.0,\n",
      "  'description': None,\n",
      "  'infect_death_rate': 0.2,\n",
      "  'infectious_seed': 1,\n",
      "  'iso3': 'KIR',\n",
      "  'progression_multiplier': 1.0,\n",
      "  'rr_infection_latent': 0.2005519434974716,\n",
      "  'rr_infection_recovered': 0.20460496591598593,\n",
      "  'self_recovery_rate': 0.2,\n",
      "  'start_population_size': 33048.0,\n",
      "  'time': {'end': 2020.0, 'start': 1950.0, 'step': 0.1}}\n"
     ]
    }
   ],
   "source": [
    "pretty_print(params)"
   ]
  },
  {
   "cell_type": "code",
   "execution_count": 39,
   "metadata": {},
   "outputs": [],
   "source": [
    "df_0 = model_0.get_outputs_df()\n",
    "derived_df_0 = model_0.get_derived_outputs_df()"
   ]
  },
  {
   "cell_type": "code",
   "execution_count": 40,
   "metadata": {},
   "outputs": [
    {
     "data": {
      "text/html": [
       "<div>\n",
       "<style scoped>\n",
       "    .dataframe tbody tr th:only-of-type {\n",
       "        vertical-align: middle;\n",
       "    }\n",
       "\n",
       "    .dataframe tbody tr th {\n",
       "        vertical-align: top;\n",
       "    }\n",
       "\n",
       "    .dataframe thead th {\n",
       "        text-align: right;\n",
       "    }\n",
       "</style>\n",
       "<table border=\"1\" class=\"dataframe\">\n",
       "  <thead>\n",
       "    <tr style=\"text-align: right;\">\n",
       "      <th></th>\n",
       "      <th>total_population</th>\n",
       "      <th>percentage_latent</th>\n",
       "      <th>prevalence_infectious</th>\n",
       "      <th>incidence_early</th>\n",
       "      <th>incidence_late</th>\n",
       "      <th>cumulative_deaths</th>\n",
       "      <th>cumulative_diseased</th>\n",
       "      <th>incidence</th>\n",
       "    </tr>\n",
       "  </thead>\n",
       "  <tbody>\n",
       "    <tr>\n",
       "      <th>1950.0</th>\n",
       "      <td>33048.000000</td>\n",
       "      <td>0.000000</td>\n",
       "      <td>3.025902</td>\n",
       "      <td>0.000000</td>\n",
       "      <td>0.000000</td>\n",
       "      <td>0.020000</td>\n",
       "      <td>0.000000</td>\n",
       "      <td>0.000000</td>\n",
       "    </tr>\n",
       "    <tr>\n",
       "      <th>1950.1</th>\n",
       "      <td>33076.613440</td>\n",
       "      <td>0.000062</td>\n",
       "      <td>2.895769</td>\n",
       "      <td>0.005693</td>\n",
       "      <td>0.000002</td>\n",
       "      <td>0.039578</td>\n",
       "      <td>0.000570</td>\n",
       "      <td>0.017218</td>\n",
       "    </tr>\n",
       "    <tr>\n",
       "      <th>1950.2</th>\n",
       "      <td>33106.127713</td>\n",
       "      <td>0.000119</td>\n",
       "      <td>2.773816</td>\n",
       "      <td>0.014346</td>\n",
       "      <td>0.000009</td>\n",
       "      <td>0.058339</td>\n",
       "      <td>0.002005</td>\n",
       "      <td>0.043361</td>\n",
       "    </tr>\n",
       "    <tr>\n",
       "      <th>1950.3</th>\n",
       "      <td>33136.527320</td>\n",
       "      <td>0.000172</td>\n",
       "      <td>2.658479</td>\n",
       "      <td>0.018793</td>\n",
       "      <td>0.000021</td>\n",
       "      <td>0.076332</td>\n",
       "      <td>0.003886</td>\n",
       "      <td>0.056777</td>\n",
       "    </tr>\n",
       "    <tr>\n",
       "      <th>1950.4</th>\n",
       "      <td>33167.797058</td>\n",
       "      <td>0.000222</td>\n",
       "      <td>2.548805</td>\n",
       "      <td>0.020974</td>\n",
       "      <td>0.000036</td>\n",
       "      <td>0.093595</td>\n",
       "      <td>0.005987</td>\n",
       "      <td>0.063343</td>\n",
       "    </tr>\n",
       "    <tr>\n",
       "      <th>...</th>\n",
       "      <td>...</td>\n",
       "      <td>...</td>\n",
       "      <td>...</td>\n",
       "      <td>...</td>\n",
       "      <td>...</td>\n",
       "      <td>...</td>\n",
       "      <td>...</td>\n",
       "      <td>...</td>\n",
       "    </tr>\n",
       "    <tr>\n",
       "      <th>2019.6</th>\n",
       "      <td>108938.130647</td>\n",
       "      <td>0.000052</td>\n",
       "      <td>0.000168</td>\n",
       "      <td>0.000004</td>\n",
       "      <td>0.000069</td>\n",
       "      <td>0.527270</td>\n",
       "      <td>0.092842</td>\n",
       "      <td>0.000067</td>\n",
       "    </tr>\n",
       "    <tr>\n",
       "      <th>2019.7</th>\n",
       "      <td>109084.050573</td>\n",
       "      <td>0.000052</td>\n",
       "      <td>0.000167</td>\n",
       "      <td>0.000005</td>\n",
       "      <td>0.000069</td>\n",
       "      <td>0.527273</td>\n",
       "      <td>0.092850</td>\n",
       "      <td>0.000067</td>\n",
       "    </tr>\n",
       "    <tr>\n",
       "      <th>2019.8</th>\n",
       "      <td>109230.045320</td>\n",
       "      <td>0.000052</td>\n",
       "      <td>0.000166</td>\n",
       "      <td>0.000005</td>\n",
       "      <td>0.000068</td>\n",
       "      <td>0.527277</td>\n",
       "      <td>0.092857</td>\n",
       "      <td>0.000067</td>\n",
       "    </tr>\n",
       "    <tr>\n",
       "      <th>2019.9</th>\n",
       "      <td>109376.115776</td>\n",
       "      <td>0.000051</td>\n",
       "      <td>0.000165</td>\n",
       "      <td>0.000004</td>\n",
       "      <td>0.000068</td>\n",
       "      <td>0.527281</td>\n",
       "      <td>0.092864</td>\n",
       "      <td>0.000066</td>\n",
       "    </tr>\n",
       "    <tr>\n",
       "      <th>2020.0</th>\n",
       "      <td>109522.262827</td>\n",
       "      <td>0.000051</td>\n",
       "      <td>0.000165</td>\n",
       "      <td>0.000004</td>\n",
       "      <td>0.000068</td>\n",
       "      <td>0.527284</td>\n",
       "      <td>0.092871</td>\n",
       "      <td>0.000066</td>\n",
       "    </tr>\n",
       "  </tbody>\n",
       "</table>\n",
       "<p>701 rows × 8 columns</p>\n",
       "</div>"
      ],
      "text/plain": [
       "        total_population  percentage_latent  prevalence_infectious  \\\n",
       "1950.0      33048.000000           0.000000               3.025902   \n",
       "1950.1      33076.613440           0.000062               2.895769   \n",
       "1950.2      33106.127713           0.000119               2.773816   \n",
       "1950.3      33136.527320           0.000172               2.658479   \n",
       "1950.4      33167.797058           0.000222               2.548805   \n",
       "...                  ...                ...                    ...   \n",
       "2019.6     108938.130647           0.000052               0.000168   \n",
       "2019.7     109084.050573           0.000052               0.000167   \n",
       "2019.8     109230.045320           0.000052               0.000166   \n",
       "2019.9     109376.115776           0.000051               0.000165   \n",
       "2020.0     109522.262827           0.000051               0.000165   \n",
       "\n",
       "        incidence_early  incidence_late  cumulative_deaths  \\\n",
       "1950.0         0.000000        0.000000           0.020000   \n",
       "1950.1         0.005693        0.000002           0.039578   \n",
       "1950.2         0.014346        0.000009           0.058339   \n",
       "1950.3         0.018793        0.000021           0.076332   \n",
       "1950.4         0.020974        0.000036           0.093595   \n",
       "...                 ...             ...                ...   \n",
       "2019.6         0.000004        0.000069           0.527270   \n",
       "2019.7         0.000005        0.000069           0.527273   \n",
       "2019.8         0.000005        0.000068           0.527277   \n",
       "2019.9         0.000004        0.000068           0.527281   \n",
       "2020.0         0.000004        0.000068           0.527284   \n",
       "\n",
       "        cumulative_diseased  incidence  \n",
       "1950.0             0.000000   0.000000  \n",
       "1950.1             0.000570   0.017218  \n",
       "1950.2             0.002005   0.043361  \n",
       "1950.3             0.003886   0.056777  \n",
       "1950.4             0.005987   0.063343  \n",
       "...                     ...        ...  \n",
       "2019.6             0.092842   0.000067  \n",
       "2019.7             0.092850   0.000067  \n",
       "2019.8             0.092857   0.000067  \n",
       "2019.9             0.092864   0.000066  \n",
       "2020.0             0.092871   0.000066  \n",
       "\n",
       "[701 rows x 8 columns]"
      ]
     },
     "execution_count": 40,
     "metadata": {},
     "output_type": "execute_result"
    }
   ],
   "source": [
    "derived_df_0"
   ]
  },
  {
   "cell_type": "code",
   "execution_count": null,
   "metadata": {},
   "outputs": [],
   "source": [
    "total_pop = input_db.query(table_name=\"population\", conditions={\"iso3\": base_params['iso3']})\n",
    "total_pop[\"age_bins\"] = find_agebins(total_pop[\"start_age\"], [0, 100], [\"Total\"])\n",
    "total_pop = total_pop.groupby([\"year\", \"age_bins\"])[\"population\"].agg([\"sum\"]).reset_index()"
   ]
  },
  {
   "cell_type": "code",
   "execution_count": null,
   "metadata": {},
   "outputs": [],
   "source": [
    "fig2_1 = px.line(\n",
    "    derived_df_0,\n",
    "    x=derived_df_0.index,\n",
    "    y=\"total_population\",\n",
    ")\n",
    "fig2_2 = px.scatter(total_pop, x=\"year\", y=\"sum\")\n",
    "fig2_2.update_traces(marker=dict(color=\"red\"))\n",
    "fig2_3 = go.Figure(\n",
    "    data=fig2_1.data + fig2_2.data,\n",
    ")\n",
    "fig2_3.update_layout(\n",
    "    title=\"Modelled vs Actual Population\", title_x=0.5, xaxis_title=\"Year\", yaxis_title=\"Population\"\n",
    ")\n",
    "fig2_3.show()"
   ]
  },
  {
   "cell_type": "markdown",
   "metadata": {},
   "source": [
    "## Modeled age group"
   ]
  },
  {
   "cell_type": "code",
   "execution_count": null,
   "metadata": {},
   "outputs": [],
   "source": [
    "modeled_pop = df_0.filter(regex=\"^susceptible\", axis=1).reset_index()\n",
    "modeled_pop.rename(columns={\"index\": \"year\", \"variable\": \"age_bins\", \"value\": \"sum\"}, inplace=True)\n",
    "modeled_pop = modeled_pop.melt(id_vars=\"year\")\n",
    "modeled_pop[\"variable\"] = modeled_pop[\"variable\"].replace(\n",
    "    [\n",
    "        \"susceptibleXage_0\",\n",
    "        \"susceptibleXage_5\",\n",
    "        \"susceptibleXage_15\",\n",
    "        \"susceptibleXage_35\",\n",
    "        \"susceptibleXage_50\",\n",
    "    ],\n",
    "    [\"0-4\", \"5-14\", \"15-34\", \"35-49\", \"50+\"],\n",
    ")\n",
    "modeled_pop.rename(columns={\"variable\": \"age_bins\", \"value\": \"sum\"}, inplace=True)\n",
    "ryear = list(range(int(base_params[\"time\"][\"start\"]), int(base_params[\"time\"][\"end\"] + 1), 5))\n",
    "modeled_pop = modeled_pop[modeled_pop[\"year\"].isin(ryear)]\n",
    "modeled_pop[\"sum\"] = modeled_pop[\"sum\"].astype(\"int\")\n",
    "modeled_pop[\"year\"] = modeled_pop[\"year\"].astype(\"int\")\n",
    "modeled_pop[\"type\"] = \"Modeled\"\n",
    "modeled_pop.reset_index(drop=True, inplace=True)\n"
   ]
  },
  {
   "cell_type": "code",
   "execution_count": null,
   "metadata": {},
   "outputs": [],
   "source": [
    "total_pop = pd.concat([pop,modeled_pop])"
   ]
  },
  {
   "cell_type": "code",
   "execution_count": null,
   "metadata": {},
   "outputs": [],
   "source": [
    "fig4 = go.Figure()\n",
    "fig4.update_layout(\n",
    "    template = \"plotly\",\n",
    "    xaxis =  dict(title_text=\"Year\"),\n",
    "    yaxis = dict(title_text=\"Population\"),\n",
    "    barmode = \"stack\",\n",
    ")\n",
    "\n",
    "for group in total_pop['age_bins'].unique():\n",
    "    plot_df = total_pop[total_pop['age_bins'] == group]\n",
    "    fig4.add_trace(\n",
    "        go.Bar(x = [plot_df['year'],plot_df['type']], y = plot_df['sum'], name = group)\n",
    "    )\n",
    "\n",
    "fig4"
   ]
  },
  {
   "cell_type": "code",
   "execution_count": null,
   "metadata": {},
   "outputs": [],
   "source": [
    "fig5 =  px.bar(\n",
    "    total_pop,\n",
    "    x='year',\n",
    "    y='sum',\n",
    "    color='age_bins',\n",
    "    facet_col=\"type\",\n",
    "    labels={'year':'Year', 'sum':'Population', 'age_bins':'Age group'}\n",
    ")\n",
    "fig5.for_each_annotation(lambda a: a.update(text=a.text.split(\"=\")[-1]))\n",
    "fig5.show()"
   ]
  }
 ],
 "metadata": {
  "kernelspec": {
   "display_name": "Python 3.10.4 ('autumn')",
   "language": "python",
   "name": "python3"
  },
  "language_info": {
   "codemirror_mode": {
    "name": "ipython",
    "version": 3
   },
   "file_extension": ".py",
   "mimetype": "text/x-python",
   "name": "python",
   "nbconvert_exporter": "python",
   "pygments_lexer": "ipython3",
   "version": "3.10.0"
  },
  "vscode": {
   "interpreter": {
    "hash": "d457940a8963e942bcd46e9b7d5a81b6c7b3586f948c4ae333b2381b8f1d6e9c"
   }
  }
 },
 "nbformat": 4,
 "nbformat_minor": 2
}
