{
 "cells": [
  {
   "cell_type": "code",
   "execution_count": 1,
   "metadata": {},
   "outputs": [],
   "source": [
    "import warnings\n",
    "from typing import List\n",
    "\n",
    "import pandas as pd\n",
    "import plotly.graph_objects as go\n",
    "import plotly.express as px\n",
    "from plotly.subplots import make_subplots\n",
    "from autumn.core.inputs.database import get_input_db\n",
    "from autumn.core.project import get_project\n",
    "from autumn.settings import Region, Models\n",
    "from autumn.core import inputs\n",
    "from autumn.core.inputs.social_mixing.build_synthetic_matrices import build_synthetic_matrices\n",
    "from autumn.core.utils.display import pretty_print"
   ]
  },
  {
   "cell_type": "code",
   "execution_count": 2,
   "metadata": {},
   "outputs": [],
   "source": [
    "warnings.filterwarnings(\"ignore\")\n",
    "pd.options.plotting.backend = \"plotly\""
   ]
  },
  {
   "cell_type": "code",
   "execution_count": 3,
   "metadata": {},
   "outputs": [],
   "source": [
    "region = Region.KIRIBATI\n",
    "model = Models.TBD\n",
    "p = get_project(model, region, reload=True)\n",
    "baseline_params = p.param_set.baseline"
   ]
  },
  {
   "cell_type": "code",
   "execution_count": 4,
   "metadata": {},
   "outputs": [
    {
     "name": "stdout",
     "output_type": "stream",
     "text": [
      "Params\n",
      "{ 'age_breakpoints': [0, 5, 15, 35, 50],\n",
      "  'age_mixing': {'age_adjust': True, 'source_iso3': 'FJI'},\n",
      "  'age_specific_latency': { 'early_activation': { 0: 0.0066,\n",
      "                                                  5: 0.0027,\n",
      "                                                  15: 0.00027},\n",
      "                            'late_activation': { 0: 1.9e-11,\n",
      "                                                 5: 6.4e-06,\n",
      "                                                 15: 3.3e-06},\n",
      "                            'stabilisation': {0: 0.012, 5: 0.012, 15: 0.0054}},\n",
      "  'contact_rate': 0.00178,\n",
      "  'crude_birth_rate': 1.0,\n",
      "  'crude_death_rate': 0.0008,\n",
      "  'cumulative_start_time': 1990.0,\n",
      "  'description': None,\n",
      "  'infect_death_rate': 0.2,\n",
      "  'infectious_seed': 1.0,\n",
      "  'iso3': 'KIR',\n",
      "  'progression_multiplier': 1.0,\n",
      "  'rr_infection_latent': 0.21,\n",
      "  'rr_infection_recovered': 1.0,\n",
      "  'self_recovery_rate': 0.2,\n",
      "  'start_population_size': 26000.0,\n",
      "  'time': {'end': 2050.0, 'start': 1900.0, 'step': 0.1}}\n"
     ]
    }
   ],
   "source": [
    "pretty_print(baseline_params)"
   ]
  },
  {
   "cell_type": "code",
   "execution_count": 5,
   "metadata": {},
   "outputs": [],
   "source": [
    "iso3 = baseline_params['iso3']\n",
    "source_iso3 = baseline_params['age_mixing']['source_iso3']\n",
    "age_adjust = baseline_params['age_mixing']['age_adjust']\n",
    "age_string_map = {\n",
    "    0: \"0-4\",\n",
    "    5: \"5-14\",\n",
    "    15: \"15-34\",\n",
    "    35: \"35-49\",\n",
    "    50: \"50+\",\n",
    "}"
   ]
  },
  {
   "cell_type": "markdown",
   "metadata": {},
   "source": [
    "## Population\n"
   ]
  },
  {
   "cell_type": "code",
   "execution_count": 6,
   "metadata": {},
   "outputs": [
    {
     "name": "stdout",
     "output_type": "stream",
     "text": [
      "Modelled age groups are [0, 5, 15, 35, 50]\n"
     ]
    }
   ],
   "source": [
    "modelled_age_groups = baseline_params[\"age_breakpoints\"]\n",
    "print(f\"Modelled age groups are {modelled_age_groups}\")"
   ]
  },
  {
   "cell_type": "code",
   "execution_count": 7,
   "metadata": {},
   "outputs": [
    {
     "data": {
      "application/vnd.plotly.v1+json": {
       "config": {
        "plotlyServerURL": "https://plot.ly"
       },
       "data": [
        {
         "hovertemplate": "variable=population<br>year=%{x}<br>value=%{y}<extra></extra>",
         "legendgroup": "population",
         "line": {
          "color": "#636efa",
          "dash": "solid"
         },
         "marker": {
          "symbol": "circle"
         },
         "mode": "lines",
         "name": "population",
         "orientation": "v",
         "showlegend": true,
         "type": "scatter",
         "x": [
          1950,
          1955,
          1960,
          1965,
          1970,
          1975,
          1980,
          1985,
          1990,
          1995,
          2000,
          2005,
          2010,
          2015,
          2020
         ],
         "xaxis": "x",
         "y": [
          33048,
          36573,
          41202,
          46429,
          51151,
          55114,
          59301,
          63986,
          72400,
          77723,
          84396,
          92325,
          102927,
          110930,
          119449
         ],
         "yaxis": "y"
        }
       ],
       "layout": {
        "legend": {
         "title": {
          "text": "variable"
         },
         "tracegroupgap": 0
        },
        "margin": {
         "t": 60
        },
        "template": {
         "data": {
          "bar": [
           {
            "error_x": {
             "color": "#2a3f5f"
            },
            "error_y": {
             "color": "#2a3f5f"
            },
            "marker": {
             "line": {
              "color": "#E5ECF6",
              "width": 0.5
             },
             "pattern": {
              "fillmode": "overlay",
              "size": 10,
              "solidity": 0.2
             }
            },
            "type": "bar"
           }
          ],
          "barpolar": [
           {
            "marker": {
             "line": {
              "color": "#E5ECF6",
              "width": 0.5
             },
             "pattern": {
              "fillmode": "overlay",
              "size": 10,
              "solidity": 0.2
             }
            },
            "type": "barpolar"
           }
          ],
          "carpet": [
           {
            "aaxis": {
             "endlinecolor": "#2a3f5f",
             "gridcolor": "white",
             "linecolor": "white",
             "minorgridcolor": "white",
             "startlinecolor": "#2a3f5f"
            },
            "baxis": {
             "endlinecolor": "#2a3f5f",
             "gridcolor": "white",
             "linecolor": "white",
             "minorgridcolor": "white",
             "startlinecolor": "#2a3f5f"
            },
            "type": "carpet"
           }
          ],
          "choropleth": [
           {
            "colorbar": {
             "outlinewidth": 0,
             "ticks": ""
            },
            "type": "choropleth"
           }
          ],
          "contour": [
           {
            "colorbar": {
             "outlinewidth": 0,
             "ticks": ""
            },
            "colorscale": [
             [
              0,
              "#0d0887"
             ],
             [
              0.1111111111111111,
              "#46039f"
             ],
             [
              0.2222222222222222,
              "#7201a8"
             ],
             [
              0.3333333333333333,
              "#9c179e"
             ],
             [
              0.4444444444444444,
              "#bd3786"
             ],
             [
              0.5555555555555556,
              "#d8576b"
             ],
             [
              0.6666666666666666,
              "#ed7953"
             ],
             [
              0.7777777777777778,
              "#fb9f3a"
             ],
             [
              0.8888888888888888,
              "#fdca26"
             ],
             [
              1,
              "#f0f921"
             ]
            ],
            "type": "contour"
           }
          ],
          "contourcarpet": [
           {
            "colorbar": {
             "outlinewidth": 0,
             "ticks": ""
            },
            "type": "contourcarpet"
           }
          ],
          "heatmap": [
           {
            "colorbar": {
             "outlinewidth": 0,
             "ticks": ""
            },
            "colorscale": [
             [
              0,
              "#0d0887"
             ],
             [
              0.1111111111111111,
              "#46039f"
             ],
             [
              0.2222222222222222,
              "#7201a8"
             ],
             [
              0.3333333333333333,
              "#9c179e"
             ],
             [
              0.4444444444444444,
              "#bd3786"
             ],
             [
              0.5555555555555556,
              "#d8576b"
             ],
             [
              0.6666666666666666,
              "#ed7953"
             ],
             [
              0.7777777777777778,
              "#fb9f3a"
             ],
             [
              0.8888888888888888,
              "#fdca26"
             ],
             [
              1,
              "#f0f921"
             ]
            ],
            "type": "heatmap"
           }
          ],
          "heatmapgl": [
           {
            "colorbar": {
             "outlinewidth": 0,
             "ticks": ""
            },
            "colorscale": [
             [
              0,
              "#0d0887"
             ],
             [
              0.1111111111111111,
              "#46039f"
             ],
             [
              0.2222222222222222,
              "#7201a8"
             ],
             [
              0.3333333333333333,
              "#9c179e"
             ],
             [
              0.4444444444444444,
              "#bd3786"
             ],
             [
              0.5555555555555556,
              "#d8576b"
             ],
             [
              0.6666666666666666,
              "#ed7953"
             ],
             [
              0.7777777777777778,
              "#fb9f3a"
             ],
             [
              0.8888888888888888,
              "#fdca26"
             ],
             [
              1,
              "#f0f921"
             ]
            ],
            "type": "heatmapgl"
           }
          ],
          "histogram": [
           {
            "marker": {
             "pattern": {
              "fillmode": "overlay",
              "size": 10,
              "solidity": 0.2
             }
            },
            "type": "histogram"
           }
          ],
          "histogram2d": [
           {
            "colorbar": {
             "outlinewidth": 0,
             "ticks": ""
            },
            "colorscale": [
             [
              0,
              "#0d0887"
             ],
             [
              0.1111111111111111,
              "#46039f"
             ],
             [
              0.2222222222222222,
              "#7201a8"
             ],
             [
              0.3333333333333333,
              "#9c179e"
             ],
             [
              0.4444444444444444,
              "#bd3786"
             ],
             [
              0.5555555555555556,
              "#d8576b"
             ],
             [
              0.6666666666666666,
              "#ed7953"
             ],
             [
              0.7777777777777778,
              "#fb9f3a"
             ],
             [
              0.8888888888888888,
              "#fdca26"
             ],
             [
              1,
              "#f0f921"
             ]
            ],
            "type": "histogram2d"
           }
          ],
          "histogram2dcontour": [
           {
            "colorbar": {
             "outlinewidth": 0,
             "ticks": ""
            },
            "colorscale": [
             [
              0,
              "#0d0887"
             ],
             [
              0.1111111111111111,
              "#46039f"
             ],
             [
              0.2222222222222222,
              "#7201a8"
             ],
             [
              0.3333333333333333,
              "#9c179e"
             ],
             [
              0.4444444444444444,
              "#bd3786"
             ],
             [
              0.5555555555555556,
              "#d8576b"
             ],
             [
              0.6666666666666666,
              "#ed7953"
             ],
             [
              0.7777777777777778,
              "#fb9f3a"
             ],
             [
              0.8888888888888888,
              "#fdca26"
             ],
             [
              1,
              "#f0f921"
             ]
            ],
            "type": "histogram2dcontour"
           }
          ],
          "mesh3d": [
           {
            "colorbar": {
             "outlinewidth": 0,
             "ticks": ""
            },
            "type": "mesh3d"
           }
          ],
          "parcoords": [
           {
            "line": {
             "colorbar": {
              "outlinewidth": 0,
              "ticks": ""
             }
            },
            "type": "parcoords"
           }
          ],
          "pie": [
           {
            "automargin": true,
            "type": "pie"
           }
          ],
          "scatter": [
           {
            "fillpattern": {
             "fillmode": "overlay",
             "size": 10,
             "solidity": 0.2
            },
            "type": "scatter"
           }
          ],
          "scatter3d": [
           {
            "line": {
             "colorbar": {
              "outlinewidth": 0,
              "ticks": ""
             }
            },
            "marker": {
             "colorbar": {
              "outlinewidth": 0,
              "ticks": ""
             }
            },
            "type": "scatter3d"
           }
          ],
          "scattercarpet": [
           {
            "marker": {
             "colorbar": {
              "outlinewidth": 0,
              "ticks": ""
             }
            },
            "type": "scattercarpet"
           }
          ],
          "scattergeo": [
           {
            "marker": {
             "colorbar": {
              "outlinewidth": 0,
              "ticks": ""
             }
            },
            "type": "scattergeo"
           }
          ],
          "scattergl": [
           {
            "marker": {
             "colorbar": {
              "outlinewidth": 0,
              "ticks": ""
             }
            },
            "type": "scattergl"
           }
          ],
          "scattermapbox": [
           {
            "marker": {
             "colorbar": {
              "outlinewidth": 0,
              "ticks": ""
             }
            },
            "type": "scattermapbox"
           }
          ],
          "scatterpolar": [
           {
            "marker": {
             "colorbar": {
              "outlinewidth": 0,
              "ticks": ""
             }
            },
            "type": "scatterpolar"
           }
          ],
          "scatterpolargl": [
           {
            "marker": {
             "colorbar": {
              "outlinewidth": 0,
              "ticks": ""
             }
            },
            "type": "scatterpolargl"
           }
          ],
          "scatterternary": [
           {
            "marker": {
             "colorbar": {
              "outlinewidth": 0,
              "ticks": ""
             }
            },
            "type": "scatterternary"
           }
          ],
          "surface": [
           {
            "colorbar": {
             "outlinewidth": 0,
             "ticks": ""
            },
            "colorscale": [
             [
              0,
              "#0d0887"
             ],
             [
              0.1111111111111111,
              "#46039f"
             ],
             [
              0.2222222222222222,
              "#7201a8"
             ],
             [
              0.3333333333333333,
              "#9c179e"
             ],
             [
              0.4444444444444444,
              "#bd3786"
             ],
             [
              0.5555555555555556,
              "#d8576b"
             ],
             [
              0.6666666666666666,
              "#ed7953"
             ],
             [
              0.7777777777777778,
              "#fb9f3a"
             ],
             [
              0.8888888888888888,
              "#fdca26"
             ],
             [
              1,
              "#f0f921"
             ]
            ],
            "type": "surface"
           }
          ],
          "table": [
           {
            "cells": {
             "fill": {
              "color": "#EBF0F8"
             },
             "line": {
              "color": "white"
             }
            },
            "header": {
             "fill": {
              "color": "#C8D4E3"
             },
             "line": {
              "color": "white"
             }
            },
            "type": "table"
           }
          ]
         },
         "layout": {
          "annotationdefaults": {
           "arrowcolor": "#2a3f5f",
           "arrowhead": 0,
           "arrowwidth": 1
          },
          "autotypenumbers": "strict",
          "coloraxis": {
           "colorbar": {
            "outlinewidth": 0,
            "ticks": ""
           }
          },
          "colorscale": {
           "diverging": [
            [
             0,
             "#8e0152"
            ],
            [
             0.1,
             "#c51b7d"
            ],
            [
             0.2,
             "#de77ae"
            ],
            [
             0.3,
             "#f1b6da"
            ],
            [
             0.4,
             "#fde0ef"
            ],
            [
             0.5,
             "#f7f7f7"
            ],
            [
             0.6,
             "#e6f5d0"
            ],
            [
             0.7,
             "#b8e186"
            ],
            [
             0.8,
             "#7fbc41"
            ],
            [
             0.9,
             "#4d9221"
            ],
            [
             1,
             "#276419"
            ]
           ],
           "sequential": [
            [
             0,
             "#0d0887"
            ],
            [
             0.1111111111111111,
             "#46039f"
            ],
            [
             0.2222222222222222,
             "#7201a8"
            ],
            [
             0.3333333333333333,
             "#9c179e"
            ],
            [
             0.4444444444444444,
             "#bd3786"
            ],
            [
             0.5555555555555556,
             "#d8576b"
            ],
            [
             0.6666666666666666,
             "#ed7953"
            ],
            [
             0.7777777777777778,
             "#fb9f3a"
            ],
            [
             0.8888888888888888,
             "#fdca26"
            ],
            [
             1,
             "#f0f921"
            ]
           ],
           "sequentialminus": [
            [
             0,
             "#0d0887"
            ],
            [
             0.1111111111111111,
             "#46039f"
            ],
            [
             0.2222222222222222,
             "#7201a8"
            ],
            [
             0.3333333333333333,
             "#9c179e"
            ],
            [
             0.4444444444444444,
             "#bd3786"
            ],
            [
             0.5555555555555556,
             "#d8576b"
            ],
            [
             0.6666666666666666,
             "#ed7953"
            ],
            [
             0.7777777777777778,
             "#fb9f3a"
            ],
            [
             0.8888888888888888,
             "#fdca26"
            ],
            [
             1,
             "#f0f921"
            ]
           ]
          },
          "colorway": [
           "#636efa",
           "#EF553B",
           "#00cc96",
           "#ab63fa",
           "#FFA15A",
           "#19d3f3",
           "#FF6692",
           "#B6E880",
           "#FF97FF",
           "#FECB52"
          ],
          "font": {
           "color": "#2a3f5f"
          },
          "geo": {
           "bgcolor": "white",
           "lakecolor": "white",
           "landcolor": "#E5ECF6",
           "showlakes": true,
           "showland": true,
           "subunitcolor": "white"
          },
          "hoverlabel": {
           "align": "left"
          },
          "hovermode": "closest",
          "mapbox": {
           "style": "light"
          },
          "paper_bgcolor": "white",
          "plot_bgcolor": "#E5ECF6",
          "polar": {
           "angularaxis": {
            "gridcolor": "white",
            "linecolor": "white",
            "ticks": ""
           },
           "bgcolor": "#E5ECF6",
           "radialaxis": {
            "gridcolor": "white",
            "linecolor": "white",
            "ticks": ""
           }
          },
          "scene": {
           "xaxis": {
            "backgroundcolor": "#E5ECF6",
            "gridcolor": "white",
            "gridwidth": 2,
            "linecolor": "white",
            "showbackground": true,
            "ticks": "",
            "zerolinecolor": "white"
           },
           "yaxis": {
            "backgroundcolor": "#E5ECF6",
            "gridcolor": "white",
            "gridwidth": 2,
            "linecolor": "white",
            "showbackground": true,
            "ticks": "",
            "zerolinecolor": "white"
           },
           "zaxis": {
            "backgroundcolor": "#E5ECF6",
            "gridcolor": "white",
            "gridwidth": 2,
            "linecolor": "white",
            "showbackground": true,
            "ticks": "",
            "zerolinecolor": "white"
           }
          },
          "shapedefaults": {
           "line": {
            "color": "#2a3f5f"
           }
          },
          "ternary": {
           "aaxis": {
            "gridcolor": "white",
            "linecolor": "white",
            "ticks": ""
           },
           "baxis": {
            "gridcolor": "white",
            "linecolor": "white",
            "ticks": ""
           },
           "bgcolor": "#E5ECF6",
           "caxis": {
            "gridcolor": "white",
            "linecolor": "white",
            "ticks": ""
           }
          },
          "title": {
           "x": 0.05
          },
          "xaxis": {
           "automargin": true,
           "gridcolor": "white",
           "linecolor": "white",
           "ticks": "",
           "title": {
            "standoff": 15
           },
           "zerolinecolor": "white",
           "zerolinewidth": 2
          },
          "yaxis": {
           "automargin": true,
           "gridcolor": "white",
           "linecolor": "white",
           "ticks": "",
           "title": {
            "standoff": 15
           },
           "zerolinecolor": "white",
           "zerolinewidth": 2
          }
         }
        },
        "xaxis": {
         "anchor": "y",
         "domain": [
          0,
          1
         ],
         "title": {
          "text": "year"
         }
        },
        "yaxis": {
         "anchor": "x",
         "domain": [
          0,
          1
         ],
         "title": {
          "text": "value"
         }
        }
       }
      }
     },
     "metadata": {},
     "output_type": "display_data"
    }
   ],
   "source": [
    "input_db = get_input_db()\n",
    "pop = input_db.query(table_name=\"population\", conditions={\"iso3\": \"KIR\"})\n",
    "pop.groupby('year')['population'].sum().plot()"
   ]
  },
  {
   "cell_type": "code",
   "execution_count": 8,
   "metadata": {},
   "outputs": [],
   "source": [
    "def find_agebins(x, bins: List[int], labels: List[str]):\n",
    "    return pd.cut(x, bins, labels=labels, right=False)\n",
    "\n",
    "\n",
    "pop[\"age_bins\"] = find_agebins(\n",
    "    pop[\"start_age\"], [0, 5, 15, 35, 50, 100], [\"0-4\", \"5-14\", \"15-34\", \"35-49\", \"50+\"]\n",
    ")\n",
    "pop = pop.groupby([\"year\", \"age_bins\"])[\"population\"].agg([\"sum\"]).reset_index()\n",
    "pop['sum'] = pop['sum'].astype('int')\n",
    "pop = pop.rename({'sum':'population'}, axis=1)"
   ]
  },
  {
   "cell_type": "code",
   "execution_count": 9,
   "metadata": {},
   "outputs": [
    {
     "data": {
      "application/vnd.plotly.v1+json": {
       "config": {
        "plotlyServerURL": "https://plot.ly"
       },
       "data": [
        {
         "alignmentgroup": "True",
         "hovertemplate": "age_bins=0-4<br>year=%{x}<br>population=%{y}<extra></extra>",
         "legendgroup": "0-4",
         "marker": {
          "color": "#636efa",
          "pattern": {
           "shape": ""
          }
         },
         "name": "0-4",
         "offsetgroup": "0-4",
         "orientation": "v",
         "showlegend": true,
         "textposition": "auto",
         "type": "bar",
         "x": [
          1950,
          1955,
          1960,
          1965,
          1970,
          1975,
          1980,
          1985,
          1990,
          1995,
          2000,
          2005,
          2010,
          2015,
          2020
         ],
         "xaxis": "x",
         "y": [
          5510,
          6506,
          7688,
          8401,
          8022,
          7503,
          8881,
          10008,
          11597,
          11802,
          11968,
          10812,
          13971,
          14556,
          15161
         ],
         "yaxis": "y"
        },
        {
         "alignmentgroup": "True",
         "hovertemplate": "age_bins=5-14<br>year=%{x}<br>population=%{y}<extra></extra>",
         "legendgroup": "5-14",
         "marker": {
          "color": "#EF553B",
          "pattern": {
           "shape": ""
          }
         },
         "name": "5-14",
         "offsetgroup": "5-14",
         "orientation": "v",
         "showlegend": true,
         "textposition": "auto",
         "type": "bar",
         "x": [
          1950,
          1955,
          1960,
          1965,
          1970,
          1975,
          1980,
          1985,
          1990,
          1995,
          2000,
          2005,
          2010,
          2015,
          2020
         ],
         "xaxis": "x",
         "y": [
          7944,
          8958,
          10936,
          13041,
          14900,
          15289,
          14516,
          15094,
          17583,
          20165,
          21773,
          23275,
          23187,
          24276,
          27741
         ],
         "yaxis": "y"
        },
        {
         "alignmentgroup": "True",
         "hovertemplate": "age_bins=15-34<br>year=%{x}<br>population=%{y}<extra></extra>",
         "legendgroup": "15-34",
         "marker": {
          "color": "#00cc96",
          "pattern": {
           "shape": ""
          }
         },
         "name": "15-34",
         "offsetgroup": "15-34",
         "orientation": "v",
         "showlegend": true,
         "textposition": "auto",
         "type": "bar",
         "x": [
          1950,
          1955,
          1960,
          1965,
          1970,
          1975,
          1980,
          1985,
          1990,
          1995,
          2000,
          2005,
          2010,
          2015,
          2020
         ],
         "xaxis": "x",
         "y": [
          12180,
          13006,
          12679,
          13505,
          15463,
          18252,
          20980,
          23125,
          25199,
          25905,
          27862,
          31671,
          36364,
          39960,
          39780
         ],
         "yaxis": "y"
        },
        {
         "alignmentgroup": "True",
         "hovertemplate": "age_bins=35-49<br>year=%{x}<br>population=%{y}<extra></extra>",
         "legendgroup": "35-49",
         "marker": {
          "color": "#ab63fa",
          "pattern": {
           "shape": ""
          }
         },
         "name": "35-49",
         "offsetgroup": "35-49",
         "orientation": "v",
         "showlegend": true,
         "textposition": "auto",
         "type": "bar",
         "x": [
          1950,
          1955,
          1960,
          1965,
          1970,
          1975,
          1980,
          1985,
          1990,
          1995,
          2000,
          2005,
          2010,
          2015,
          2020
         ],
         "xaxis": "x",
         "y": [
          3544,
          4187,
          5667,
          6882,
          7534,
          7350,
          7215,
          8523,
          9969,
          11440,
          13535,
          15974,
          16969,
          17565,
          18715
         ],
         "yaxis": "y"
        },
        {
         "alignmentgroup": "True",
         "hovertemplate": "age_bins=50+<br>year=%{x}<br>population=%{y}<extra></extra>",
         "legendgroup": "50+",
         "marker": {
          "color": "#FFA15A",
          "pattern": {
           "shape": ""
          }
         },
         "name": "50+",
         "offsetgroup": "50+",
         "orientation": "v",
         "showlegend": true,
         "textposition": "auto",
         "type": "bar",
         "x": [
          1950,
          1955,
          1960,
          1965,
          1970,
          1975,
          1980,
          1985,
          1990,
          1995,
          2000,
          2005,
          2010,
          2015,
          2020
         ],
         "xaxis": "x",
         "y": [
          3870,
          3916,
          4232,
          4600,
          5232,
          6720,
          7709,
          7236,
          8052,
          8411,
          9258,
          10593,
          12436,
          14572,
          18050
         ],
         "yaxis": "y"
        }
       ],
       "layout": {
        "barmode": "group",
        "legend": {
         "title": {
          "text": "age_bins"
         },
         "tracegroupgap": 0
        },
        "margin": {
         "t": 60
        },
        "template": {
         "data": {
          "bar": [
           {
            "error_x": {
             "color": "#2a3f5f"
            },
            "error_y": {
             "color": "#2a3f5f"
            },
            "marker": {
             "line": {
              "color": "#E5ECF6",
              "width": 0.5
             },
             "pattern": {
              "fillmode": "overlay",
              "size": 10,
              "solidity": 0.2
             }
            },
            "type": "bar"
           }
          ],
          "barpolar": [
           {
            "marker": {
             "line": {
              "color": "#E5ECF6",
              "width": 0.5
             },
             "pattern": {
              "fillmode": "overlay",
              "size": 10,
              "solidity": 0.2
             }
            },
            "type": "barpolar"
           }
          ],
          "carpet": [
           {
            "aaxis": {
             "endlinecolor": "#2a3f5f",
             "gridcolor": "white",
             "linecolor": "white",
             "minorgridcolor": "white",
             "startlinecolor": "#2a3f5f"
            },
            "baxis": {
             "endlinecolor": "#2a3f5f",
             "gridcolor": "white",
             "linecolor": "white",
             "minorgridcolor": "white",
             "startlinecolor": "#2a3f5f"
            },
            "type": "carpet"
           }
          ],
          "choropleth": [
           {
            "colorbar": {
             "outlinewidth": 0,
             "ticks": ""
            },
            "type": "choropleth"
           }
          ],
          "contour": [
           {
            "colorbar": {
             "outlinewidth": 0,
             "ticks": ""
            },
            "colorscale": [
             [
              0,
              "#0d0887"
             ],
             [
              0.1111111111111111,
              "#46039f"
             ],
             [
              0.2222222222222222,
              "#7201a8"
             ],
             [
              0.3333333333333333,
              "#9c179e"
             ],
             [
              0.4444444444444444,
              "#bd3786"
             ],
             [
              0.5555555555555556,
              "#d8576b"
             ],
             [
              0.6666666666666666,
              "#ed7953"
             ],
             [
              0.7777777777777778,
              "#fb9f3a"
             ],
             [
              0.8888888888888888,
              "#fdca26"
             ],
             [
              1,
              "#f0f921"
             ]
            ],
            "type": "contour"
           }
          ],
          "contourcarpet": [
           {
            "colorbar": {
             "outlinewidth": 0,
             "ticks": ""
            },
            "type": "contourcarpet"
           }
          ],
          "heatmap": [
           {
            "colorbar": {
             "outlinewidth": 0,
             "ticks": ""
            },
            "colorscale": [
             [
              0,
              "#0d0887"
             ],
             [
              0.1111111111111111,
              "#46039f"
             ],
             [
              0.2222222222222222,
              "#7201a8"
             ],
             [
              0.3333333333333333,
              "#9c179e"
             ],
             [
              0.4444444444444444,
              "#bd3786"
             ],
             [
              0.5555555555555556,
              "#d8576b"
             ],
             [
              0.6666666666666666,
              "#ed7953"
             ],
             [
              0.7777777777777778,
              "#fb9f3a"
             ],
             [
              0.8888888888888888,
              "#fdca26"
             ],
             [
              1,
              "#f0f921"
             ]
            ],
            "type": "heatmap"
           }
          ],
          "heatmapgl": [
           {
            "colorbar": {
             "outlinewidth": 0,
             "ticks": ""
            },
            "colorscale": [
             [
              0,
              "#0d0887"
             ],
             [
              0.1111111111111111,
              "#46039f"
             ],
             [
              0.2222222222222222,
              "#7201a8"
             ],
             [
              0.3333333333333333,
              "#9c179e"
             ],
             [
              0.4444444444444444,
              "#bd3786"
             ],
             [
              0.5555555555555556,
              "#d8576b"
             ],
             [
              0.6666666666666666,
              "#ed7953"
             ],
             [
              0.7777777777777778,
              "#fb9f3a"
             ],
             [
              0.8888888888888888,
              "#fdca26"
             ],
             [
              1,
              "#f0f921"
             ]
            ],
            "type": "heatmapgl"
           }
          ],
          "histogram": [
           {
            "marker": {
             "pattern": {
              "fillmode": "overlay",
              "size": 10,
              "solidity": 0.2
             }
            },
            "type": "histogram"
           }
          ],
          "histogram2d": [
           {
            "colorbar": {
             "outlinewidth": 0,
             "ticks": ""
            },
            "colorscale": [
             [
              0,
              "#0d0887"
             ],
             [
              0.1111111111111111,
              "#46039f"
             ],
             [
              0.2222222222222222,
              "#7201a8"
             ],
             [
              0.3333333333333333,
              "#9c179e"
             ],
             [
              0.4444444444444444,
              "#bd3786"
             ],
             [
              0.5555555555555556,
              "#d8576b"
             ],
             [
              0.6666666666666666,
              "#ed7953"
             ],
             [
              0.7777777777777778,
              "#fb9f3a"
             ],
             [
              0.8888888888888888,
              "#fdca26"
             ],
             [
              1,
              "#f0f921"
             ]
            ],
            "type": "histogram2d"
           }
          ],
          "histogram2dcontour": [
           {
            "colorbar": {
             "outlinewidth": 0,
             "ticks": ""
            },
            "colorscale": [
             [
              0,
              "#0d0887"
             ],
             [
              0.1111111111111111,
              "#46039f"
             ],
             [
              0.2222222222222222,
              "#7201a8"
             ],
             [
              0.3333333333333333,
              "#9c179e"
             ],
             [
              0.4444444444444444,
              "#bd3786"
             ],
             [
              0.5555555555555556,
              "#d8576b"
             ],
             [
              0.6666666666666666,
              "#ed7953"
             ],
             [
              0.7777777777777778,
              "#fb9f3a"
             ],
             [
              0.8888888888888888,
              "#fdca26"
             ],
             [
              1,
              "#f0f921"
             ]
            ],
            "type": "histogram2dcontour"
           }
          ],
          "mesh3d": [
           {
            "colorbar": {
             "outlinewidth": 0,
             "ticks": ""
            },
            "type": "mesh3d"
           }
          ],
          "parcoords": [
           {
            "line": {
             "colorbar": {
              "outlinewidth": 0,
              "ticks": ""
             }
            },
            "type": "parcoords"
           }
          ],
          "pie": [
           {
            "automargin": true,
            "type": "pie"
           }
          ],
          "scatter": [
           {
            "fillpattern": {
             "fillmode": "overlay",
             "size": 10,
             "solidity": 0.2
            },
            "type": "scatter"
           }
          ],
          "scatter3d": [
           {
            "line": {
             "colorbar": {
              "outlinewidth": 0,
              "ticks": ""
             }
            },
            "marker": {
             "colorbar": {
              "outlinewidth": 0,
              "ticks": ""
             }
            },
            "type": "scatter3d"
           }
          ],
          "scattercarpet": [
           {
            "marker": {
             "colorbar": {
              "outlinewidth": 0,
              "ticks": ""
             }
            },
            "type": "scattercarpet"
           }
          ],
          "scattergeo": [
           {
            "marker": {
             "colorbar": {
              "outlinewidth": 0,
              "ticks": ""
             }
            },
            "type": "scattergeo"
           }
          ],
          "scattergl": [
           {
            "marker": {
             "colorbar": {
              "outlinewidth": 0,
              "ticks": ""
             }
            },
            "type": "scattergl"
           }
          ],
          "scattermapbox": [
           {
            "marker": {
             "colorbar": {
              "outlinewidth": 0,
              "ticks": ""
             }
            },
            "type": "scattermapbox"
           }
          ],
          "scatterpolar": [
           {
            "marker": {
             "colorbar": {
              "outlinewidth": 0,
              "ticks": ""
             }
            },
            "type": "scatterpolar"
           }
          ],
          "scatterpolargl": [
           {
            "marker": {
             "colorbar": {
              "outlinewidth": 0,
              "ticks": ""
             }
            },
            "type": "scatterpolargl"
           }
          ],
          "scatterternary": [
           {
            "marker": {
             "colorbar": {
              "outlinewidth": 0,
              "ticks": ""
             }
            },
            "type": "scatterternary"
           }
          ],
          "surface": [
           {
            "colorbar": {
             "outlinewidth": 0,
             "ticks": ""
            },
            "colorscale": [
             [
              0,
              "#0d0887"
             ],
             [
              0.1111111111111111,
              "#46039f"
             ],
             [
              0.2222222222222222,
              "#7201a8"
             ],
             [
              0.3333333333333333,
              "#9c179e"
             ],
             [
              0.4444444444444444,
              "#bd3786"
             ],
             [
              0.5555555555555556,
              "#d8576b"
             ],
             [
              0.6666666666666666,
              "#ed7953"
             ],
             [
              0.7777777777777778,
              "#fb9f3a"
             ],
             [
              0.8888888888888888,
              "#fdca26"
             ],
             [
              1,
              "#f0f921"
             ]
            ],
            "type": "surface"
           }
          ],
          "table": [
           {
            "cells": {
             "fill": {
              "color": "#EBF0F8"
             },
             "line": {
              "color": "white"
             }
            },
            "header": {
             "fill": {
              "color": "#C8D4E3"
             },
             "line": {
              "color": "white"
             }
            },
            "type": "table"
           }
          ]
         },
         "layout": {
          "annotationdefaults": {
           "arrowcolor": "#2a3f5f",
           "arrowhead": 0,
           "arrowwidth": 1
          },
          "autotypenumbers": "strict",
          "coloraxis": {
           "colorbar": {
            "outlinewidth": 0,
            "ticks": ""
           }
          },
          "colorscale": {
           "diverging": [
            [
             0,
             "#8e0152"
            ],
            [
             0.1,
             "#c51b7d"
            ],
            [
             0.2,
             "#de77ae"
            ],
            [
             0.3,
             "#f1b6da"
            ],
            [
             0.4,
             "#fde0ef"
            ],
            [
             0.5,
             "#f7f7f7"
            ],
            [
             0.6,
             "#e6f5d0"
            ],
            [
             0.7,
             "#b8e186"
            ],
            [
             0.8,
             "#7fbc41"
            ],
            [
             0.9,
             "#4d9221"
            ],
            [
             1,
             "#276419"
            ]
           ],
           "sequential": [
            [
             0,
             "#0d0887"
            ],
            [
             0.1111111111111111,
             "#46039f"
            ],
            [
             0.2222222222222222,
             "#7201a8"
            ],
            [
             0.3333333333333333,
             "#9c179e"
            ],
            [
             0.4444444444444444,
             "#bd3786"
            ],
            [
             0.5555555555555556,
             "#d8576b"
            ],
            [
             0.6666666666666666,
             "#ed7953"
            ],
            [
             0.7777777777777778,
             "#fb9f3a"
            ],
            [
             0.8888888888888888,
             "#fdca26"
            ],
            [
             1,
             "#f0f921"
            ]
           ],
           "sequentialminus": [
            [
             0,
             "#0d0887"
            ],
            [
             0.1111111111111111,
             "#46039f"
            ],
            [
             0.2222222222222222,
             "#7201a8"
            ],
            [
             0.3333333333333333,
             "#9c179e"
            ],
            [
             0.4444444444444444,
             "#bd3786"
            ],
            [
             0.5555555555555556,
             "#d8576b"
            ],
            [
             0.6666666666666666,
             "#ed7953"
            ],
            [
             0.7777777777777778,
             "#fb9f3a"
            ],
            [
             0.8888888888888888,
             "#fdca26"
            ],
            [
             1,
             "#f0f921"
            ]
           ]
          },
          "colorway": [
           "#636efa",
           "#EF553B",
           "#00cc96",
           "#ab63fa",
           "#FFA15A",
           "#19d3f3",
           "#FF6692",
           "#B6E880",
           "#FF97FF",
           "#FECB52"
          ],
          "font": {
           "color": "#2a3f5f"
          },
          "geo": {
           "bgcolor": "white",
           "lakecolor": "white",
           "landcolor": "#E5ECF6",
           "showlakes": true,
           "showland": true,
           "subunitcolor": "white"
          },
          "hoverlabel": {
           "align": "left"
          },
          "hovermode": "closest",
          "mapbox": {
           "style": "light"
          },
          "paper_bgcolor": "white",
          "plot_bgcolor": "#E5ECF6",
          "polar": {
           "angularaxis": {
            "gridcolor": "white",
            "linecolor": "white",
            "ticks": ""
           },
           "bgcolor": "#E5ECF6",
           "radialaxis": {
            "gridcolor": "white",
            "linecolor": "white",
            "ticks": ""
           }
          },
          "scene": {
           "xaxis": {
            "backgroundcolor": "#E5ECF6",
            "gridcolor": "white",
            "gridwidth": 2,
            "linecolor": "white",
            "showbackground": true,
            "ticks": "",
            "zerolinecolor": "white"
           },
           "yaxis": {
            "backgroundcolor": "#E5ECF6",
            "gridcolor": "white",
            "gridwidth": 2,
            "linecolor": "white",
            "showbackground": true,
            "ticks": "",
            "zerolinecolor": "white"
           },
           "zaxis": {
            "backgroundcolor": "#E5ECF6",
            "gridcolor": "white",
            "gridwidth": 2,
            "linecolor": "white",
            "showbackground": true,
            "ticks": "",
            "zerolinecolor": "white"
           }
          },
          "shapedefaults": {
           "line": {
            "color": "#2a3f5f"
           }
          },
          "ternary": {
           "aaxis": {
            "gridcolor": "white",
            "linecolor": "white",
            "ticks": ""
           },
           "baxis": {
            "gridcolor": "white",
            "linecolor": "white",
            "ticks": ""
           },
           "bgcolor": "#E5ECF6",
           "caxis": {
            "gridcolor": "white",
            "linecolor": "white",
            "ticks": ""
           }
          },
          "title": {
           "x": 0.05
          },
          "xaxis": {
           "automargin": true,
           "gridcolor": "white",
           "linecolor": "white",
           "ticks": "",
           "title": {
            "standoff": 15
           },
           "zerolinecolor": "white",
           "zerolinewidth": 2
          },
          "yaxis": {
           "automargin": true,
           "gridcolor": "white",
           "linecolor": "white",
           "ticks": "",
           "title": {
            "standoff": 15
           },
           "zerolinecolor": "white",
           "zerolinewidth": 2
          }
         }
        },
        "xaxis": {
         "anchor": "y",
         "domain": [
          0,
          1
         ],
         "title": {
          "text": "year"
         }
        },
        "yaxis": {
         "anchor": "x",
         "domain": [
          0,
          1
         ],
         "title": {
          "text": "population"
         }
        }
       }
      }
     },
     "metadata": {},
     "output_type": "display_data"
    }
   ],
   "source": [
    "age_plot = px.bar(pop, x='year', y='population', color='age_bins', barmode=\"group\")\n",
    "age_plot.show()"
   ]
  },
  {
   "cell_type": "markdown",
   "metadata": {},
   "source": [
    "### Birth rate"
   ]
  },
  {
   "cell_type": "code",
   "execution_count": 10,
   "metadata": {},
   "outputs": [
    {
     "data": {
      "application/vnd.plotly.v1+json": {
       "config": {
        "plotlyServerURL": "https://plot.ly"
       },
       "data": [
        {
         "hovertemplate": "variable=0<br>mean_year=%{x}<br>value=%{y}<extra></extra>",
         "legendgroup": "0",
         "line": {
          "color": "#636efa",
          "dash": "solid"
         },
         "marker": {
          "symbol": "circle"
         },
         "mode": "markers+lines",
         "name": "0",
         "orientation": "v",
         "showlegend": true,
         "type": "scatter",
         "x": [
          1952.5,
          1957.5,
          1962.5,
          1967.5,
          1972.5,
          1977.5,
          1982.5,
          1987.5,
          1992.5,
          1997.5,
          2002.5,
          2007.5,
          2012.5,
          2017.5
         ],
         "xaxis": "x",
         "y": [
          0.046113,
          0.048032,
          0.04549,
          0.038334,
          0.032414,
          0.035309,
          0.036841,
          0.037276000000000004,
          0.035531,
          0.031821999999999996,
          0.029844000000000002,
          0.029508,
          0.029535,
          0.028073
         ],
         "yaxis": "y"
        }
       ],
       "layout": {
        "legend": {
         "title": {
          "text": "variable"
         },
         "tracegroupgap": 0
        },
        "margin": {
         "t": 60
        },
        "showlegend": false,
        "template": {
         "data": {
          "bar": [
           {
            "error_x": {
             "color": "#2a3f5f"
            },
            "error_y": {
             "color": "#2a3f5f"
            },
            "marker": {
             "line": {
              "color": "#E5ECF6",
              "width": 0.5
             },
             "pattern": {
              "fillmode": "overlay",
              "size": 10,
              "solidity": 0.2
             }
            },
            "type": "bar"
           }
          ],
          "barpolar": [
           {
            "marker": {
             "line": {
              "color": "#E5ECF6",
              "width": 0.5
             },
             "pattern": {
              "fillmode": "overlay",
              "size": 10,
              "solidity": 0.2
             }
            },
            "type": "barpolar"
           }
          ],
          "carpet": [
           {
            "aaxis": {
             "endlinecolor": "#2a3f5f",
             "gridcolor": "white",
             "linecolor": "white",
             "minorgridcolor": "white",
             "startlinecolor": "#2a3f5f"
            },
            "baxis": {
             "endlinecolor": "#2a3f5f",
             "gridcolor": "white",
             "linecolor": "white",
             "minorgridcolor": "white",
             "startlinecolor": "#2a3f5f"
            },
            "type": "carpet"
           }
          ],
          "choropleth": [
           {
            "colorbar": {
             "outlinewidth": 0,
             "ticks": ""
            },
            "type": "choropleth"
           }
          ],
          "contour": [
           {
            "colorbar": {
             "outlinewidth": 0,
             "ticks": ""
            },
            "colorscale": [
             [
              0,
              "#0d0887"
             ],
             [
              0.1111111111111111,
              "#46039f"
             ],
             [
              0.2222222222222222,
              "#7201a8"
             ],
             [
              0.3333333333333333,
              "#9c179e"
             ],
             [
              0.4444444444444444,
              "#bd3786"
             ],
             [
              0.5555555555555556,
              "#d8576b"
             ],
             [
              0.6666666666666666,
              "#ed7953"
             ],
             [
              0.7777777777777778,
              "#fb9f3a"
             ],
             [
              0.8888888888888888,
              "#fdca26"
             ],
             [
              1,
              "#f0f921"
             ]
            ],
            "type": "contour"
           }
          ],
          "contourcarpet": [
           {
            "colorbar": {
             "outlinewidth": 0,
             "ticks": ""
            },
            "type": "contourcarpet"
           }
          ],
          "heatmap": [
           {
            "colorbar": {
             "outlinewidth": 0,
             "ticks": ""
            },
            "colorscale": [
             [
              0,
              "#0d0887"
             ],
             [
              0.1111111111111111,
              "#46039f"
             ],
             [
              0.2222222222222222,
              "#7201a8"
             ],
             [
              0.3333333333333333,
              "#9c179e"
             ],
             [
              0.4444444444444444,
              "#bd3786"
             ],
             [
              0.5555555555555556,
              "#d8576b"
             ],
             [
              0.6666666666666666,
              "#ed7953"
             ],
             [
              0.7777777777777778,
              "#fb9f3a"
             ],
             [
              0.8888888888888888,
              "#fdca26"
             ],
             [
              1,
              "#f0f921"
             ]
            ],
            "type": "heatmap"
           }
          ],
          "heatmapgl": [
           {
            "colorbar": {
             "outlinewidth": 0,
             "ticks": ""
            },
            "colorscale": [
             [
              0,
              "#0d0887"
             ],
             [
              0.1111111111111111,
              "#46039f"
             ],
             [
              0.2222222222222222,
              "#7201a8"
             ],
             [
              0.3333333333333333,
              "#9c179e"
             ],
             [
              0.4444444444444444,
              "#bd3786"
             ],
             [
              0.5555555555555556,
              "#d8576b"
             ],
             [
              0.6666666666666666,
              "#ed7953"
             ],
             [
              0.7777777777777778,
              "#fb9f3a"
             ],
             [
              0.8888888888888888,
              "#fdca26"
             ],
             [
              1,
              "#f0f921"
             ]
            ],
            "type": "heatmapgl"
           }
          ],
          "histogram": [
           {
            "marker": {
             "pattern": {
              "fillmode": "overlay",
              "size": 10,
              "solidity": 0.2
             }
            },
            "type": "histogram"
           }
          ],
          "histogram2d": [
           {
            "colorbar": {
             "outlinewidth": 0,
             "ticks": ""
            },
            "colorscale": [
             [
              0,
              "#0d0887"
             ],
             [
              0.1111111111111111,
              "#46039f"
             ],
             [
              0.2222222222222222,
              "#7201a8"
             ],
             [
              0.3333333333333333,
              "#9c179e"
             ],
             [
              0.4444444444444444,
              "#bd3786"
             ],
             [
              0.5555555555555556,
              "#d8576b"
             ],
             [
              0.6666666666666666,
              "#ed7953"
             ],
             [
              0.7777777777777778,
              "#fb9f3a"
             ],
             [
              0.8888888888888888,
              "#fdca26"
             ],
             [
              1,
              "#f0f921"
             ]
            ],
            "type": "histogram2d"
           }
          ],
          "histogram2dcontour": [
           {
            "colorbar": {
             "outlinewidth": 0,
             "ticks": ""
            },
            "colorscale": [
             [
              0,
              "#0d0887"
             ],
             [
              0.1111111111111111,
              "#46039f"
             ],
             [
              0.2222222222222222,
              "#7201a8"
             ],
             [
              0.3333333333333333,
              "#9c179e"
             ],
             [
              0.4444444444444444,
              "#bd3786"
             ],
             [
              0.5555555555555556,
              "#d8576b"
             ],
             [
              0.6666666666666666,
              "#ed7953"
             ],
             [
              0.7777777777777778,
              "#fb9f3a"
             ],
             [
              0.8888888888888888,
              "#fdca26"
             ],
             [
              1,
              "#f0f921"
             ]
            ],
            "type": "histogram2dcontour"
           }
          ],
          "mesh3d": [
           {
            "colorbar": {
             "outlinewidth": 0,
             "ticks": ""
            },
            "type": "mesh3d"
           }
          ],
          "parcoords": [
           {
            "line": {
             "colorbar": {
              "outlinewidth": 0,
              "ticks": ""
             }
            },
            "type": "parcoords"
           }
          ],
          "pie": [
           {
            "automargin": true,
            "type": "pie"
           }
          ],
          "scatter": [
           {
            "fillpattern": {
             "fillmode": "overlay",
             "size": 10,
             "solidity": 0.2
            },
            "type": "scatter"
           }
          ],
          "scatter3d": [
           {
            "line": {
             "colorbar": {
              "outlinewidth": 0,
              "ticks": ""
             }
            },
            "marker": {
             "colorbar": {
              "outlinewidth": 0,
              "ticks": ""
             }
            },
            "type": "scatter3d"
           }
          ],
          "scattercarpet": [
           {
            "marker": {
             "colorbar": {
              "outlinewidth": 0,
              "ticks": ""
             }
            },
            "type": "scattercarpet"
           }
          ],
          "scattergeo": [
           {
            "marker": {
             "colorbar": {
              "outlinewidth": 0,
              "ticks": ""
             }
            },
            "type": "scattergeo"
           }
          ],
          "scattergl": [
           {
            "marker": {
             "colorbar": {
              "outlinewidth": 0,
              "ticks": ""
             }
            },
            "type": "scattergl"
           }
          ],
          "scattermapbox": [
           {
            "marker": {
             "colorbar": {
              "outlinewidth": 0,
              "ticks": ""
             }
            },
            "type": "scattermapbox"
           }
          ],
          "scatterpolar": [
           {
            "marker": {
             "colorbar": {
              "outlinewidth": 0,
              "ticks": ""
             }
            },
            "type": "scatterpolar"
           }
          ],
          "scatterpolargl": [
           {
            "marker": {
             "colorbar": {
              "outlinewidth": 0,
              "ticks": ""
             }
            },
            "type": "scatterpolargl"
           }
          ],
          "scatterternary": [
           {
            "marker": {
             "colorbar": {
              "outlinewidth": 0,
              "ticks": ""
             }
            },
            "type": "scatterternary"
           }
          ],
          "surface": [
           {
            "colorbar": {
             "outlinewidth": 0,
             "ticks": ""
            },
            "colorscale": [
             [
              0,
              "#0d0887"
             ],
             [
              0.1111111111111111,
              "#46039f"
             ],
             [
              0.2222222222222222,
              "#7201a8"
             ],
             [
              0.3333333333333333,
              "#9c179e"
             ],
             [
              0.4444444444444444,
              "#bd3786"
             ],
             [
              0.5555555555555556,
              "#d8576b"
             ],
             [
              0.6666666666666666,
              "#ed7953"
             ],
             [
              0.7777777777777778,
              "#fb9f3a"
             ],
             [
              0.8888888888888888,
              "#fdca26"
             ],
             [
              1,
              "#f0f921"
             ]
            ],
            "type": "surface"
           }
          ],
          "table": [
           {
            "cells": {
             "fill": {
              "color": "#EBF0F8"
             },
             "line": {
              "color": "white"
             }
            },
            "header": {
             "fill": {
              "color": "#C8D4E3"
             },
             "line": {
              "color": "white"
             }
            },
            "type": "table"
           }
          ]
         },
         "layout": {
          "annotationdefaults": {
           "arrowcolor": "#2a3f5f",
           "arrowhead": 0,
           "arrowwidth": 1
          },
          "autotypenumbers": "strict",
          "coloraxis": {
           "colorbar": {
            "outlinewidth": 0,
            "ticks": ""
           }
          },
          "colorscale": {
           "diverging": [
            [
             0,
             "#8e0152"
            ],
            [
             0.1,
             "#c51b7d"
            ],
            [
             0.2,
             "#de77ae"
            ],
            [
             0.3,
             "#f1b6da"
            ],
            [
             0.4,
             "#fde0ef"
            ],
            [
             0.5,
             "#f7f7f7"
            ],
            [
             0.6,
             "#e6f5d0"
            ],
            [
             0.7,
             "#b8e186"
            ],
            [
             0.8,
             "#7fbc41"
            ],
            [
             0.9,
             "#4d9221"
            ],
            [
             1,
             "#276419"
            ]
           ],
           "sequential": [
            [
             0,
             "#0d0887"
            ],
            [
             0.1111111111111111,
             "#46039f"
            ],
            [
             0.2222222222222222,
             "#7201a8"
            ],
            [
             0.3333333333333333,
             "#9c179e"
            ],
            [
             0.4444444444444444,
             "#bd3786"
            ],
            [
             0.5555555555555556,
             "#d8576b"
            ],
            [
             0.6666666666666666,
             "#ed7953"
            ],
            [
             0.7777777777777778,
             "#fb9f3a"
            ],
            [
             0.8888888888888888,
             "#fdca26"
            ],
            [
             1,
             "#f0f921"
            ]
           ],
           "sequentialminus": [
            [
             0,
             "#0d0887"
            ],
            [
             0.1111111111111111,
             "#46039f"
            ],
            [
             0.2222222222222222,
             "#7201a8"
            ],
            [
             0.3333333333333333,
             "#9c179e"
            ],
            [
             0.4444444444444444,
             "#bd3786"
            ],
            [
             0.5555555555555556,
             "#d8576b"
            ],
            [
             0.6666666666666666,
             "#ed7953"
            ],
            [
             0.7777777777777778,
             "#fb9f3a"
            ],
            [
             0.8888888888888888,
             "#fdca26"
            ],
            [
             1,
             "#f0f921"
            ]
           ]
          },
          "colorway": [
           "#636efa",
           "#EF553B",
           "#00cc96",
           "#ab63fa",
           "#FFA15A",
           "#19d3f3",
           "#FF6692",
           "#B6E880",
           "#FF97FF",
           "#FECB52"
          ],
          "font": {
           "color": "#2a3f5f"
          },
          "geo": {
           "bgcolor": "white",
           "lakecolor": "white",
           "landcolor": "#E5ECF6",
           "showlakes": true,
           "showland": true,
           "subunitcolor": "white"
          },
          "hoverlabel": {
           "align": "left"
          },
          "hovermode": "closest",
          "mapbox": {
           "style": "light"
          },
          "paper_bgcolor": "white",
          "plot_bgcolor": "#E5ECF6",
          "polar": {
           "angularaxis": {
            "gridcolor": "white",
            "linecolor": "white",
            "ticks": ""
           },
           "bgcolor": "#E5ECF6",
           "radialaxis": {
            "gridcolor": "white",
            "linecolor": "white",
            "ticks": ""
           }
          },
          "scene": {
           "xaxis": {
            "backgroundcolor": "#E5ECF6",
            "gridcolor": "white",
            "gridwidth": 2,
            "linecolor": "white",
            "showbackground": true,
            "ticks": "",
            "zerolinecolor": "white"
           },
           "yaxis": {
            "backgroundcolor": "#E5ECF6",
            "gridcolor": "white",
            "gridwidth": 2,
            "linecolor": "white",
            "showbackground": true,
            "ticks": "",
            "zerolinecolor": "white"
           },
           "zaxis": {
            "backgroundcolor": "#E5ECF6",
            "gridcolor": "white",
            "gridwidth": 2,
            "linecolor": "white",
            "showbackground": true,
            "ticks": "",
            "zerolinecolor": "white"
           }
          },
          "shapedefaults": {
           "line": {
            "color": "#2a3f5f"
           }
          },
          "ternary": {
           "aaxis": {
            "gridcolor": "white",
            "linecolor": "white",
            "ticks": ""
           },
           "baxis": {
            "gridcolor": "white",
            "linecolor": "white",
            "ticks": ""
           },
           "bgcolor": "#E5ECF6",
           "caxis": {
            "gridcolor": "white",
            "linecolor": "white",
            "ticks": ""
           }
          },
          "title": {
           "x": 0.05
          },
          "xaxis": {
           "automargin": true,
           "gridcolor": "white",
           "linecolor": "white",
           "ticks": "",
           "title": {
            "standoff": 15
           },
           "zerolinecolor": "white",
           "zerolinewidth": 2
          },
          "yaxis": {
           "automargin": true,
           "gridcolor": "white",
           "linecolor": "white",
           "ticks": "",
           "title": {
            "standoff": 15
           },
           "zerolinecolor": "white",
           "zerolinewidth": 2
          }
         }
        },
        "title": {
         "text": "Crude birth rate of Kiribati from 1950 to 2020",
         "x": 0.5
        },
        "xaxis": {
         "anchor": "y",
         "domain": [
          0,
          1
         ],
         "title": {
          "text": "Year"
         }
        },
        "yaxis": {
         "anchor": "x",
         "domain": [
          0,
          1
         ],
         "title": {
          "text": "Crude birth rate"
         }
        }
       }
      }
     },
     "metadata": {},
     "output_type": "display_data"
    }
   ],
   "source": [
    "#Query and visualize the crude birth rate from database\n",
    "birth_rates, years = inputs.get_crude_birth_rate(iso3)\n",
    "birth_rates = [b / 1000.0 for b in birth_rates]  # Birth rates are provided / 1000 population\n",
    "birth_rates_series = pd.Series(birth_rates, index=years)\n",
    "br_fig= px.line(birth_rates_series)\n",
    "br_fig.update_traces(mode='markers+lines')\n",
    "br_fig.update_layout(\n",
    "    title=\"Crude birth rate of Kiribati from 1950 to 2020\",\n",
    "    title_x=0.5,\n",
    "    xaxis_title=\"Year\",\n",
    "    yaxis_title=\"Crude birth rate\",\n",
    "    showlegend=False,\n",
    ")"
   ]
  },
  {
   "cell_type": "markdown",
   "metadata": {},
   "source": [
    "### Death rate"
   ]
  },
  {
   "cell_type": "code",
   "execution_count": 11,
   "metadata": {},
   "outputs": [
    {
     "data": {
      "application/vnd.plotly.v1+json": {
       "config": {
        "plotlyServerURL": "https://plot.ly"
       },
       "data": [
        {
         "hovertemplate": "variable=0-4<br>index=%{x}<br>value=%{y}<extra></extra>",
         "legendgroup": "0-4",
         "line": {
          "color": "#636efa",
          "dash": "solid"
         },
         "marker": {
          "symbol": "circle"
         },
         "mode": "markers+lines",
         "name": "0-4",
         "orientation": "v",
         "showlegend": true,
         "type": "scatter",
         "x": [
          1952.5,
          1957.5,
          1962.5,
          1967.5,
          1972.5,
          1977.5,
          1982.5,
          1987.5,
          1992.5,
          1997.5,
          2002.5,
          2007.5,
          2012.5,
          2017.5
         ],
         "xaxis": "x",
         "y": [
          0.060689655172413794,
          0.052566861358745776,
          0.04284599375650364,
          0.03140102368765623,
          0.026003490401396163,
          0.030947620951619355,
          0.02986150208309875,
          0.025819344524380495,
          0.019901698715184962,
          0.016793763768852738,
          0.013235294117647059,
          0.01674065852756197,
          0.014386944384797078,
          0.01163781258587524
         ],
         "yaxis": "y"
        },
        {
         "hovertemplate": "variable=5-14<br>index=%{x}<br>value=%{y}<extra></extra>",
         "legendgroup": "5-14",
         "line": {
          "color": "#EF553B",
          "dash": "solid"
         },
         "marker": {
          "symbol": "circle"
         },
         "mode": "markers+lines",
         "name": "5-14",
         "orientation": "v",
         "showlegend": true,
         "type": "scatter",
         "x": [
          1952.5,
          1957.5,
          1962.5,
          1967.5,
          1972.5,
          1977.5,
          1982.5,
          1987.5,
          1992.5,
          1997.5,
          2002.5,
          2007.5,
          2012.5,
          2017.5
         ],
         "xaxis": "x",
         "y": [
          0.005645125862144708,
          0.005078032605751023,
          0.004202675134154668,
          0.0033392546423530144,
          0.00257727648634026,
          0.002396713205764088,
          0.002465666428514726,
          0.0021866467794470156,
          0.0017697503560914127,
          0.0014224901564470686,
          0.0012602373508468446,
          0.00113571951944479,
          0.0010829023233686133,
          0.0009696163308255967
         ],
         "yaxis": "y"
        },
        {
         "hovertemplate": "variable=15-34<br>index=%{x}<br>value=%{y}<extra></extra>",
         "legendgroup": "15-34",
         "line": {
          "color": "#00cc96",
          "dash": "solid"
         },
         "marker": {
          "symbol": "circle"
         },
         "mode": "markers+lines",
         "name": "15-34",
         "orientation": "v",
         "showlegend": true,
         "type": "scatter",
         "x": [
          1952.5,
          1957.5,
          1962.5,
          1967.5,
          1972.5,
          1977.5,
          1982.5,
          1987.5,
          1992.5,
          1997.5,
          2002.5,
          2007.5,
          2012.5,
          2017.5
         ],
         "xaxis": "x",
         "y": [
          0.007935183738922916,
          0.006605891470056876,
          0.005891230214235701,
          0.005311741406089076,
          0.004643151819639123,
          0.004540536743905771,
          0.004268896534166733,
          0.0037719450419147816,
          0.003058116893304439,
          0.002653291164055497,
          0.002480726568621355,
          0.0024117239838933858,
          0.0021962150113800805,
          0.0019076416133996534
         ],
         "yaxis": "y"
        },
        {
         "hovertemplate": "variable=35-49<br>index=%{x}<br>value=%{y}<extra></extra>",
         "legendgroup": "35-49",
         "line": {
          "color": "#ab63fa",
          "dash": "solid"
         },
         "marker": {
          "symbol": "circle"
         },
         "mode": "markers+lines",
         "name": "35-49",
         "orientation": "v",
         "showlegend": true,
         "type": "scatter",
         "x": [
          1952.5,
          1957.5,
          1962.5,
          1967.5,
          1972.5,
          1977.5,
          1982.5,
          1987.5,
          1992.5,
          1997.5,
          2002.5,
          2007.5,
          2012.5,
          2017.5
         ],
         "xaxis": "x",
         "y": [
          0.012804383230137443,
          0.012650116026214324,
          0.01142467435411146,
          0.009842930200046155,
          0.007805472708581578,
          0.007758674828002211,
          0.008265353497249413,
          0.007644697556760739,
          0.006720672414964788,
          0.006117022928895632,
          0.005810080653475675,
          0.005345609220778877,
          0.004898335097550301,
          0.004539055169869281
         ],
         "yaxis": "y"
        },
        {
         "hovertemplate": "variable=50+<br>index=%{x}<br>value=%{y}<extra></extra>",
         "legendgroup": "50+",
         "line": {
          "color": "#FFA15A",
          "dash": "solid"
         },
         "marker": {
          "symbol": "circle"
         },
         "mode": "markers+lines",
         "name": "50+",
         "orientation": "v",
         "showlegend": true,
         "type": "scatter",
         "x": [
          1952.5,
          1957.5,
          1962.5,
          1967.5,
          1972.5,
          1977.5,
          1982.5,
          1987.5,
          1992.5,
          1997.5,
          2002.5,
          2007.5,
          2012.5,
          2017.5
         ],
         "xaxis": "x",
         "y": [
          0.18627660703645788,
          0.15886113998611046,
          0.1710443085782649,
          0.17172180676708387,
          0.168902416439524,
          0.18170035338511262,
          0.14039126055597476,
          0.12833241504916723,
          0.16599880887452495,
          0.14102887592700142,
          0.16852979069294605,
          0.14374859802754364,
          0.12550749295545172,
          0.12297009959512514
         ],
         "yaxis": "y"
        }
       ],
       "layout": {
        "legend": {
         "title": {
          "text": ""
         },
         "tracegroupgap": 0
        },
        "margin": {
         "t": 60
        },
        "template": {
         "data": {
          "bar": [
           {
            "error_x": {
             "color": "#2a3f5f"
            },
            "error_y": {
             "color": "#2a3f5f"
            },
            "marker": {
             "line": {
              "color": "#E5ECF6",
              "width": 0.5
             },
             "pattern": {
              "fillmode": "overlay",
              "size": 10,
              "solidity": 0.2
             }
            },
            "type": "bar"
           }
          ],
          "barpolar": [
           {
            "marker": {
             "line": {
              "color": "#E5ECF6",
              "width": 0.5
             },
             "pattern": {
              "fillmode": "overlay",
              "size": 10,
              "solidity": 0.2
             }
            },
            "type": "barpolar"
           }
          ],
          "carpet": [
           {
            "aaxis": {
             "endlinecolor": "#2a3f5f",
             "gridcolor": "white",
             "linecolor": "white",
             "minorgridcolor": "white",
             "startlinecolor": "#2a3f5f"
            },
            "baxis": {
             "endlinecolor": "#2a3f5f",
             "gridcolor": "white",
             "linecolor": "white",
             "minorgridcolor": "white",
             "startlinecolor": "#2a3f5f"
            },
            "type": "carpet"
           }
          ],
          "choropleth": [
           {
            "colorbar": {
             "outlinewidth": 0,
             "ticks": ""
            },
            "type": "choropleth"
           }
          ],
          "contour": [
           {
            "colorbar": {
             "outlinewidth": 0,
             "ticks": ""
            },
            "colorscale": [
             [
              0,
              "#0d0887"
             ],
             [
              0.1111111111111111,
              "#46039f"
             ],
             [
              0.2222222222222222,
              "#7201a8"
             ],
             [
              0.3333333333333333,
              "#9c179e"
             ],
             [
              0.4444444444444444,
              "#bd3786"
             ],
             [
              0.5555555555555556,
              "#d8576b"
             ],
             [
              0.6666666666666666,
              "#ed7953"
             ],
             [
              0.7777777777777778,
              "#fb9f3a"
             ],
             [
              0.8888888888888888,
              "#fdca26"
             ],
             [
              1,
              "#f0f921"
             ]
            ],
            "type": "contour"
           }
          ],
          "contourcarpet": [
           {
            "colorbar": {
             "outlinewidth": 0,
             "ticks": ""
            },
            "type": "contourcarpet"
           }
          ],
          "heatmap": [
           {
            "colorbar": {
             "outlinewidth": 0,
             "ticks": ""
            },
            "colorscale": [
             [
              0,
              "#0d0887"
             ],
             [
              0.1111111111111111,
              "#46039f"
             ],
             [
              0.2222222222222222,
              "#7201a8"
             ],
             [
              0.3333333333333333,
              "#9c179e"
             ],
             [
              0.4444444444444444,
              "#bd3786"
             ],
             [
              0.5555555555555556,
              "#d8576b"
             ],
             [
              0.6666666666666666,
              "#ed7953"
             ],
             [
              0.7777777777777778,
              "#fb9f3a"
             ],
             [
              0.8888888888888888,
              "#fdca26"
             ],
             [
              1,
              "#f0f921"
             ]
            ],
            "type": "heatmap"
           }
          ],
          "heatmapgl": [
           {
            "colorbar": {
             "outlinewidth": 0,
             "ticks": ""
            },
            "colorscale": [
             [
              0,
              "#0d0887"
             ],
             [
              0.1111111111111111,
              "#46039f"
             ],
             [
              0.2222222222222222,
              "#7201a8"
             ],
             [
              0.3333333333333333,
              "#9c179e"
             ],
             [
              0.4444444444444444,
              "#bd3786"
             ],
             [
              0.5555555555555556,
              "#d8576b"
             ],
             [
              0.6666666666666666,
              "#ed7953"
             ],
             [
              0.7777777777777778,
              "#fb9f3a"
             ],
             [
              0.8888888888888888,
              "#fdca26"
             ],
             [
              1,
              "#f0f921"
             ]
            ],
            "type": "heatmapgl"
           }
          ],
          "histogram": [
           {
            "marker": {
             "pattern": {
              "fillmode": "overlay",
              "size": 10,
              "solidity": 0.2
             }
            },
            "type": "histogram"
           }
          ],
          "histogram2d": [
           {
            "colorbar": {
             "outlinewidth": 0,
             "ticks": ""
            },
            "colorscale": [
             [
              0,
              "#0d0887"
             ],
             [
              0.1111111111111111,
              "#46039f"
             ],
             [
              0.2222222222222222,
              "#7201a8"
             ],
             [
              0.3333333333333333,
              "#9c179e"
             ],
             [
              0.4444444444444444,
              "#bd3786"
             ],
             [
              0.5555555555555556,
              "#d8576b"
             ],
             [
              0.6666666666666666,
              "#ed7953"
             ],
             [
              0.7777777777777778,
              "#fb9f3a"
             ],
             [
              0.8888888888888888,
              "#fdca26"
             ],
             [
              1,
              "#f0f921"
             ]
            ],
            "type": "histogram2d"
           }
          ],
          "histogram2dcontour": [
           {
            "colorbar": {
             "outlinewidth": 0,
             "ticks": ""
            },
            "colorscale": [
             [
              0,
              "#0d0887"
             ],
             [
              0.1111111111111111,
              "#46039f"
             ],
             [
              0.2222222222222222,
              "#7201a8"
             ],
             [
              0.3333333333333333,
              "#9c179e"
             ],
             [
              0.4444444444444444,
              "#bd3786"
             ],
             [
              0.5555555555555556,
              "#d8576b"
             ],
             [
              0.6666666666666666,
              "#ed7953"
             ],
             [
              0.7777777777777778,
              "#fb9f3a"
             ],
             [
              0.8888888888888888,
              "#fdca26"
             ],
             [
              1,
              "#f0f921"
             ]
            ],
            "type": "histogram2dcontour"
           }
          ],
          "mesh3d": [
           {
            "colorbar": {
             "outlinewidth": 0,
             "ticks": ""
            },
            "type": "mesh3d"
           }
          ],
          "parcoords": [
           {
            "line": {
             "colorbar": {
              "outlinewidth": 0,
              "ticks": ""
             }
            },
            "type": "parcoords"
           }
          ],
          "pie": [
           {
            "automargin": true,
            "type": "pie"
           }
          ],
          "scatter": [
           {
            "fillpattern": {
             "fillmode": "overlay",
             "size": 10,
             "solidity": 0.2
            },
            "type": "scatter"
           }
          ],
          "scatter3d": [
           {
            "line": {
             "colorbar": {
              "outlinewidth": 0,
              "ticks": ""
             }
            },
            "marker": {
             "colorbar": {
              "outlinewidth": 0,
              "ticks": ""
             }
            },
            "type": "scatter3d"
           }
          ],
          "scattercarpet": [
           {
            "marker": {
             "colorbar": {
              "outlinewidth": 0,
              "ticks": ""
             }
            },
            "type": "scattercarpet"
           }
          ],
          "scattergeo": [
           {
            "marker": {
             "colorbar": {
              "outlinewidth": 0,
              "ticks": ""
             }
            },
            "type": "scattergeo"
           }
          ],
          "scattergl": [
           {
            "marker": {
             "colorbar": {
              "outlinewidth": 0,
              "ticks": ""
             }
            },
            "type": "scattergl"
           }
          ],
          "scattermapbox": [
           {
            "marker": {
             "colorbar": {
              "outlinewidth": 0,
              "ticks": ""
             }
            },
            "type": "scattermapbox"
           }
          ],
          "scatterpolar": [
           {
            "marker": {
             "colorbar": {
              "outlinewidth": 0,
              "ticks": ""
             }
            },
            "type": "scatterpolar"
           }
          ],
          "scatterpolargl": [
           {
            "marker": {
             "colorbar": {
              "outlinewidth": 0,
              "ticks": ""
             }
            },
            "type": "scatterpolargl"
           }
          ],
          "scatterternary": [
           {
            "marker": {
             "colorbar": {
              "outlinewidth": 0,
              "ticks": ""
             }
            },
            "type": "scatterternary"
           }
          ],
          "surface": [
           {
            "colorbar": {
             "outlinewidth": 0,
             "ticks": ""
            },
            "colorscale": [
             [
              0,
              "#0d0887"
             ],
             [
              0.1111111111111111,
              "#46039f"
             ],
             [
              0.2222222222222222,
              "#7201a8"
             ],
             [
              0.3333333333333333,
              "#9c179e"
             ],
             [
              0.4444444444444444,
              "#bd3786"
             ],
             [
              0.5555555555555556,
              "#d8576b"
             ],
             [
              0.6666666666666666,
              "#ed7953"
             ],
             [
              0.7777777777777778,
              "#fb9f3a"
             ],
             [
              0.8888888888888888,
              "#fdca26"
             ],
             [
              1,
              "#f0f921"
             ]
            ],
            "type": "surface"
           }
          ],
          "table": [
           {
            "cells": {
             "fill": {
              "color": "#EBF0F8"
             },
             "line": {
              "color": "white"
             }
            },
            "header": {
             "fill": {
              "color": "#C8D4E3"
             },
             "line": {
              "color": "white"
             }
            },
            "type": "table"
           }
          ]
         },
         "layout": {
          "annotationdefaults": {
           "arrowcolor": "#2a3f5f",
           "arrowhead": 0,
           "arrowwidth": 1
          },
          "autotypenumbers": "strict",
          "coloraxis": {
           "colorbar": {
            "outlinewidth": 0,
            "ticks": ""
           }
          },
          "colorscale": {
           "diverging": [
            [
             0,
             "#8e0152"
            ],
            [
             0.1,
             "#c51b7d"
            ],
            [
             0.2,
             "#de77ae"
            ],
            [
             0.3,
             "#f1b6da"
            ],
            [
             0.4,
             "#fde0ef"
            ],
            [
             0.5,
             "#f7f7f7"
            ],
            [
             0.6,
             "#e6f5d0"
            ],
            [
             0.7,
             "#b8e186"
            ],
            [
             0.8,
             "#7fbc41"
            ],
            [
             0.9,
             "#4d9221"
            ],
            [
             1,
             "#276419"
            ]
           ],
           "sequential": [
            [
             0,
             "#0d0887"
            ],
            [
             0.1111111111111111,
             "#46039f"
            ],
            [
             0.2222222222222222,
             "#7201a8"
            ],
            [
             0.3333333333333333,
             "#9c179e"
            ],
            [
             0.4444444444444444,
             "#bd3786"
            ],
            [
             0.5555555555555556,
             "#d8576b"
            ],
            [
             0.6666666666666666,
             "#ed7953"
            ],
            [
             0.7777777777777778,
             "#fb9f3a"
            ],
            [
             0.8888888888888888,
             "#fdca26"
            ],
            [
             1,
             "#f0f921"
            ]
           ],
           "sequentialminus": [
            [
             0,
             "#0d0887"
            ],
            [
             0.1111111111111111,
             "#46039f"
            ],
            [
             0.2222222222222222,
             "#7201a8"
            ],
            [
             0.3333333333333333,
             "#9c179e"
            ],
            [
             0.4444444444444444,
             "#bd3786"
            ],
            [
             0.5555555555555556,
             "#d8576b"
            ],
            [
             0.6666666666666666,
             "#ed7953"
            ],
            [
             0.7777777777777778,
             "#fb9f3a"
            ],
            [
             0.8888888888888888,
             "#fdca26"
            ],
            [
             1,
             "#f0f921"
            ]
           ]
          },
          "colorway": [
           "#636efa",
           "#EF553B",
           "#00cc96",
           "#ab63fa",
           "#FFA15A",
           "#19d3f3",
           "#FF6692",
           "#B6E880",
           "#FF97FF",
           "#FECB52"
          ],
          "font": {
           "color": "#2a3f5f"
          },
          "geo": {
           "bgcolor": "white",
           "lakecolor": "white",
           "landcolor": "#E5ECF6",
           "showlakes": true,
           "showland": true,
           "subunitcolor": "white"
          },
          "hoverlabel": {
           "align": "left"
          },
          "hovermode": "closest",
          "mapbox": {
           "style": "light"
          },
          "paper_bgcolor": "white",
          "plot_bgcolor": "#E5ECF6",
          "polar": {
           "angularaxis": {
            "gridcolor": "white",
            "linecolor": "white",
            "ticks": ""
           },
           "bgcolor": "#E5ECF6",
           "radialaxis": {
            "gridcolor": "white",
            "linecolor": "white",
            "ticks": ""
           }
          },
          "scene": {
           "xaxis": {
            "backgroundcolor": "#E5ECF6",
            "gridcolor": "white",
            "gridwidth": 2,
            "linecolor": "white",
            "showbackground": true,
            "ticks": "",
            "zerolinecolor": "white"
           },
           "yaxis": {
            "backgroundcolor": "#E5ECF6",
            "gridcolor": "white",
            "gridwidth": 2,
            "linecolor": "white",
            "showbackground": true,
            "ticks": "",
            "zerolinecolor": "white"
           },
           "zaxis": {
            "backgroundcolor": "#E5ECF6",
            "gridcolor": "white",
            "gridwidth": 2,
            "linecolor": "white",
            "showbackground": true,
            "ticks": "",
            "zerolinecolor": "white"
           }
          },
          "shapedefaults": {
           "line": {
            "color": "#2a3f5f"
           }
          },
          "ternary": {
           "aaxis": {
            "gridcolor": "white",
            "linecolor": "white",
            "ticks": ""
           },
           "baxis": {
            "gridcolor": "white",
            "linecolor": "white",
            "ticks": ""
           },
           "bgcolor": "#E5ECF6",
           "caxis": {
            "gridcolor": "white",
            "linecolor": "white",
            "ticks": ""
           }
          },
          "title": {
           "x": 0.05
          },
          "xaxis": {
           "automargin": true,
           "gridcolor": "white",
           "linecolor": "white",
           "ticks": "",
           "title": {
            "standoff": 15
           },
           "zerolinecolor": "white",
           "zerolinewidth": 2
          },
          "yaxis": {
           "automargin": true,
           "gridcolor": "white",
           "linecolor": "white",
           "ticks": "",
           "title": {
            "standoff": 15
           },
           "zerolinecolor": "white",
           "zerolinewidth": 2
          }
         }
        },
        "title": {
         "text": "Death rate by age group of Kiribati from 1950 to 2020",
         "x": 0.5
        },
        "xaxis": {
         "anchor": "y",
         "domain": [
          0,
          1
         ],
         "title": {
          "text": "Year"
         }
        },
        "yaxis": {
         "anchor": "x",
         "domain": [
          0,
          1
         ],
         "title": {
          "text": "Death rate"
         }
        }
       }
      }
     },
     "metadata": {},
     "output_type": "display_data"
    }
   ],
   "source": [
    "#Query and visualize the crude birth rate from database\n",
    "death_rates, years = inputs.get_death_rates_by_agegroup(modelled_age_groups, iso3)\n",
    "death_rate_by_age_group = pd.DataFrame.from_dict(death_rates, orient='index').T\n",
    "death_rate_by_age_group.columns = age_string_map.values()\n",
    "death_rate_by_age_group.index = years\n",
    "dr_fig = px.line(death_rate_by_age_group, x=death_rate_by_age_group.index, y=death_rate_by_age_group.columns)\n",
    "dr_fig.update_traces(mode='markers+lines')\n",
    "dr_fig.update_layout(\n",
    "    title=\"Death rate by age group of Kiribati from 1950 to 2020\",\n",
    "    title_x=0.5,\n",
    "    xaxis_title=\"Year\",\n",
    "    yaxis_title=\"Death rate\",\n",
    "    legend_title=\"\",\n",
    ")\n",
    "dr_fig.show()"
   ]
  },
  {
   "cell_type": "markdown",
   "metadata": {},
   "source": [
    "## Mixing matrix"
   ]
  },
  {
   "cell_type": "code",
   "execution_count": 12,
   "metadata": {},
   "outputs": [
    {
     "name": "stdout",
     "output_type": "stream",
     "text": [
      "Target country: KIRIBATI (KIR)\n",
      "Proxy country: FJI (FIJI)\n",
      "Always age-adjusted to target population\n"
     ]
    }
   ],
   "source": [
    "print(f\"Target country: {region.upper()} ({iso3})\")\n",
    "print(f\"Proxy country: {source_iso3} (FIJI)\")\n",
    "print(\"Always age-adjusted to target population\")"
   ]
  },
  {
   "cell_type": "markdown",
   "metadata": {},
   "source": [
    "Please note that there is no detailed mixing matrix for the proxy country, so all locations will be requested."
   ]
  },
  {
   "cell_type": "code",
   "execution_count": 13,
   "metadata": {},
   "outputs": [],
   "source": [
    "mixing_matrices = build_synthetic_matrices(\n",
    "    iso3, source_iso3, modelled_age_groups, age_adjust, requested_locations=['all_locations']\n",
    ")"
   ]
  },
  {
   "cell_type": "code",
   "execution_count": 14,
   "metadata": {},
   "outputs": [
    {
     "name": "stdout",
     "output_type": "stream",
     "text": [
      "Total daily contacts for each age group is [5.4292262  7.24222393 6.08134097 5.20221704 4.38075489]\n"
     ]
    },
    {
     "data": {
      "application/vnd.plotly.v1+json": {
       "config": {
        "plotlyServerURL": "https://plot.ly"
       },
       "data": [
        {
         "coloraxis": "coloraxis",
         "hovertemplate": "x: %{x}<br>y: %{y}<br>color: %{z}<extra></extra>",
         "name": "0",
         "type": "heatmap",
         "xaxis": "x",
         "yaxis": "y",
         "z": [
          [
           1.3464399334990178,
           1.282965991920635,
           1.6695466229088733,
           0.5469519711440198,
           0.5833216840918333
          ],
          [
           0.7376149200907662,
           3.9099915944247927,
           1.257188722069935,
           0.8236453212521712,
           0.5137833693057732
          ],
          [
           0.878113000108055,
           1.2096536495251702,
           2.3232847583852396,
           0.8622536956858665,
           0.808035867138531
          ],
          [
           0.5502841467343812,
           1.4540281241767194,
           1.428166388271446,
           0.9909482771315182,
           0.7787901007697872
          ],
          [
           0.5598421866111448,
           1.1049090441209641,
           1.1490090330012956,
           0.6652603573126851,
           0.9017342664287873
          ]
         ]
        }
       ],
       "layout": {
        "coloraxis": {
         "colorscale": [
          [
           0,
           "#0d0887"
          ],
          [
           0.1111111111111111,
           "#46039f"
          ],
          [
           0.2222222222222222,
           "#7201a8"
          ],
          [
           0.3333333333333333,
           "#9c179e"
          ],
          [
           0.4444444444444444,
           "#bd3786"
          ],
          [
           0.5555555555555556,
           "#d8576b"
          ],
          [
           0.6666666666666666,
           "#ed7953"
          ],
          [
           0.7777777777777778,
           "#fb9f3a"
          ],
          [
           0.8888888888888888,
           "#fdca26"
          ],
          [
           1,
           "#f0f921"
          ]
         ]
        },
        "margin": {
         "t": 60
        },
        "template": {
         "data": {
          "bar": [
           {
            "error_x": {
             "color": "#2a3f5f"
            },
            "error_y": {
             "color": "#2a3f5f"
            },
            "marker": {
             "line": {
              "color": "#E5ECF6",
              "width": 0.5
             },
             "pattern": {
              "fillmode": "overlay",
              "size": 10,
              "solidity": 0.2
             }
            },
            "type": "bar"
           }
          ],
          "barpolar": [
           {
            "marker": {
             "line": {
              "color": "#E5ECF6",
              "width": 0.5
             },
             "pattern": {
              "fillmode": "overlay",
              "size": 10,
              "solidity": 0.2
             }
            },
            "type": "barpolar"
           }
          ],
          "carpet": [
           {
            "aaxis": {
             "endlinecolor": "#2a3f5f",
             "gridcolor": "white",
             "linecolor": "white",
             "minorgridcolor": "white",
             "startlinecolor": "#2a3f5f"
            },
            "baxis": {
             "endlinecolor": "#2a3f5f",
             "gridcolor": "white",
             "linecolor": "white",
             "minorgridcolor": "white",
             "startlinecolor": "#2a3f5f"
            },
            "type": "carpet"
           }
          ],
          "choropleth": [
           {
            "colorbar": {
             "outlinewidth": 0,
             "ticks": ""
            },
            "type": "choropleth"
           }
          ],
          "contour": [
           {
            "colorbar": {
             "outlinewidth": 0,
             "ticks": ""
            },
            "colorscale": [
             [
              0,
              "#0d0887"
             ],
             [
              0.1111111111111111,
              "#46039f"
             ],
             [
              0.2222222222222222,
              "#7201a8"
             ],
             [
              0.3333333333333333,
              "#9c179e"
             ],
             [
              0.4444444444444444,
              "#bd3786"
             ],
             [
              0.5555555555555556,
              "#d8576b"
             ],
             [
              0.6666666666666666,
              "#ed7953"
             ],
             [
              0.7777777777777778,
              "#fb9f3a"
             ],
             [
              0.8888888888888888,
              "#fdca26"
             ],
             [
              1,
              "#f0f921"
             ]
            ],
            "type": "contour"
           }
          ],
          "contourcarpet": [
           {
            "colorbar": {
             "outlinewidth": 0,
             "ticks": ""
            },
            "type": "contourcarpet"
           }
          ],
          "heatmap": [
           {
            "colorbar": {
             "outlinewidth": 0,
             "ticks": ""
            },
            "colorscale": [
             [
              0,
              "#0d0887"
             ],
             [
              0.1111111111111111,
              "#46039f"
             ],
             [
              0.2222222222222222,
              "#7201a8"
             ],
             [
              0.3333333333333333,
              "#9c179e"
             ],
             [
              0.4444444444444444,
              "#bd3786"
             ],
             [
              0.5555555555555556,
              "#d8576b"
             ],
             [
              0.6666666666666666,
              "#ed7953"
             ],
             [
              0.7777777777777778,
              "#fb9f3a"
             ],
             [
              0.8888888888888888,
              "#fdca26"
             ],
             [
              1,
              "#f0f921"
             ]
            ],
            "type": "heatmap"
           }
          ],
          "heatmapgl": [
           {
            "colorbar": {
             "outlinewidth": 0,
             "ticks": ""
            },
            "colorscale": [
             [
              0,
              "#0d0887"
             ],
             [
              0.1111111111111111,
              "#46039f"
             ],
             [
              0.2222222222222222,
              "#7201a8"
             ],
             [
              0.3333333333333333,
              "#9c179e"
             ],
             [
              0.4444444444444444,
              "#bd3786"
             ],
             [
              0.5555555555555556,
              "#d8576b"
             ],
             [
              0.6666666666666666,
              "#ed7953"
             ],
             [
              0.7777777777777778,
              "#fb9f3a"
             ],
             [
              0.8888888888888888,
              "#fdca26"
             ],
             [
              1,
              "#f0f921"
             ]
            ],
            "type": "heatmapgl"
           }
          ],
          "histogram": [
           {
            "marker": {
             "pattern": {
              "fillmode": "overlay",
              "size": 10,
              "solidity": 0.2
             }
            },
            "type": "histogram"
           }
          ],
          "histogram2d": [
           {
            "colorbar": {
             "outlinewidth": 0,
             "ticks": ""
            },
            "colorscale": [
             [
              0,
              "#0d0887"
             ],
             [
              0.1111111111111111,
              "#46039f"
             ],
             [
              0.2222222222222222,
              "#7201a8"
             ],
             [
              0.3333333333333333,
              "#9c179e"
             ],
             [
              0.4444444444444444,
              "#bd3786"
             ],
             [
              0.5555555555555556,
              "#d8576b"
             ],
             [
              0.6666666666666666,
              "#ed7953"
             ],
             [
              0.7777777777777778,
              "#fb9f3a"
             ],
             [
              0.8888888888888888,
              "#fdca26"
             ],
             [
              1,
              "#f0f921"
             ]
            ],
            "type": "histogram2d"
           }
          ],
          "histogram2dcontour": [
           {
            "colorbar": {
             "outlinewidth": 0,
             "ticks": ""
            },
            "colorscale": [
             [
              0,
              "#0d0887"
             ],
             [
              0.1111111111111111,
              "#46039f"
             ],
             [
              0.2222222222222222,
              "#7201a8"
             ],
             [
              0.3333333333333333,
              "#9c179e"
             ],
             [
              0.4444444444444444,
              "#bd3786"
             ],
             [
              0.5555555555555556,
              "#d8576b"
             ],
             [
              0.6666666666666666,
              "#ed7953"
             ],
             [
              0.7777777777777778,
              "#fb9f3a"
             ],
             [
              0.8888888888888888,
              "#fdca26"
             ],
             [
              1,
              "#f0f921"
             ]
            ],
            "type": "histogram2dcontour"
           }
          ],
          "mesh3d": [
           {
            "colorbar": {
             "outlinewidth": 0,
             "ticks": ""
            },
            "type": "mesh3d"
           }
          ],
          "parcoords": [
           {
            "line": {
             "colorbar": {
              "outlinewidth": 0,
              "ticks": ""
             }
            },
            "type": "parcoords"
           }
          ],
          "pie": [
           {
            "automargin": true,
            "type": "pie"
           }
          ],
          "scatter": [
           {
            "fillpattern": {
             "fillmode": "overlay",
             "size": 10,
             "solidity": 0.2
            },
            "type": "scatter"
           }
          ],
          "scatter3d": [
           {
            "line": {
             "colorbar": {
              "outlinewidth": 0,
              "ticks": ""
             }
            },
            "marker": {
             "colorbar": {
              "outlinewidth": 0,
              "ticks": ""
             }
            },
            "type": "scatter3d"
           }
          ],
          "scattercarpet": [
           {
            "marker": {
             "colorbar": {
              "outlinewidth": 0,
              "ticks": ""
             }
            },
            "type": "scattercarpet"
           }
          ],
          "scattergeo": [
           {
            "marker": {
             "colorbar": {
              "outlinewidth": 0,
              "ticks": ""
             }
            },
            "type": "scattergeo"
           }
          ],
          "scattergl": [
           {
            "marker": {
             "colorbar": {
              "outlinewidth": 0,
              "ticks": ""
             }
            },
            "type": "scattergl"
           }
          ],
          "scattermapbox": [
           {
            "marker": {
             "colorbar": {
              "outlinewidth": 0,
              "ticks": ""
             }
            },
            "type": "scattermapbox"
           }
          ],
          "scatterpolar": [
           {
            "marker": {
             "colorbar": {
              "outlinewidth": 0,
              "ticks": ""
             }
            },
            "type": "scatterpolar"
           }
          ],
          "scatterpolargl": [
           {
            "marker": {
             "colorbar": {
              "outlinewidth": 0,
              "ticks": ""
             }
            },
            "type": "scatterpolargl"
           }
          ],
          "scatterternary": [
           {
            "marker": {
             "colorbar": {
              "outlinewidth": 0,
              "ticks": ""
             }
            },
            "type": "scatterternary"
           }
          ],
          "surface": [
           {
            "colorbar": {
             "outlinewidth": 0,
             "ticks": ""
            },
            "colorscale": [
             [
              0,
              "#0d0887"
             ],
             [
              0.1111111111111111,
              "#46039f"
             ],
             [
              0.2222222222222222,
              "#7201a8"
             ],
             [
              0.3333333333333333,
              "#9c179e"
             ],
             [
              0.4444444444444444,
              "#bd3786"
             ],
             [
              0.5555555555555556,
              "#d8576b"
             ],
             [
              0.6666666666666666,
              "#ed7953"
             ],
             [
              0.7777777777777778,
              "#fb9f3a"
             ],
             [
              0.8888888888888888,
              "#fdca26"
             ],
             [
              1,
              "#f0f921"
             ]
            ],
            "type": "surface"
           }
          ],
          "table": [
           {
            "cells": {
             "fill": {
              "color": "#EBF0F8"
             },
             "line": {
              "color": "white"
             }
            },
            "header": {
             "fill": {
              "color": "#C8D4E3"
             },
             "line": {
              "color": "white"
             }
            },
            "type": "table"
           }
          ]
         },
         "layout": {
          "annotationdefaults": {
           "arrowcolor": "#2a3f5f",
           "arrowhead": 0,
           "arrowwidth": 1
          },
          "autotypenumbers": "strict",
          "coloraxis": {
           "colorbar": {
            "outlinewidth": 0,
            "ticks": ""
           }
          },
          "colorscale": {
           "diverging": [
            [
             0,
             "#8e0152"
            ],
            [
             0.1,
             "#c51b7d"
            ],
            [
             0.2,
             "#de77ae"
            ],
            [
             0.3,
             "#f1b6da"
            ],
            [
             0.4,
             "#fde0ef"
            ],
            [
             0.5,
             "#f7f7f7"
            ],
            [
             0.6,
             "#e6f5d0"
            ],
            [
             0.7,
             "#b8e186"
            ],
            [
             0.8,
             "#7fbc41"
            ],
            [
             0.9,
             "#4d9221"
            ],
            [
             1,
             "#276419"
            ]
           ],
           "sequential": [
            [
             0,
             "#0d0887"
            ],
            [
             0.1111111111111111,
             "#46039f"
            ],
            [
             0.2222222222222222,
             "#7201a8"
            ],
            [
             0.3333333333333333,
             "#9c179e"
            ],
            [
             0.4444444444444444,
             "#bd3786"
            ],
            [
             0.5555555555555556,
             "#d8576b"
            ],
            [
             0.6666666666666666,
             "#ed7953"
            ],
            [
             0.7777777777777778,
             "#fb9f3a"
            ],
            [
             0.8888888888888888,
             "#fdca26"
            ],
            [
             1,
             "#f0f921"
            ]
           ],
           "sequentialminus": [
            [
             0,
             "#0d0887"
            ],
            [
             0.1111111111111111,
             "#46039f"
            ],
            [
             0.2222222222222222,
             "#7201a8"
            ],
            [
             0.3333333333333333,
             "#9c179e"
            ],
            [
             0.4444444444444444,
             "#bd3786"
            ],
            [
             0.5555555555555556,
             "#d8576b"
            ],
            [
             0.6666666666666666,
             "#ed7953"
            ],
            [
             0.7777777777777778,
             "#fb9f3a"
            ],
            [
             0.8888888888888888,
             "#fdca26"
            ],
            [
             1,
             "#f0f921"
            ]
           ]
          },
          "colorway": [
           "#636efa",
           "#EF553B",
           "#00cc96",
           "#ab63fa",
           "#FFA15A",
           "#19d3f3",
           "#FF6692",
           "#B6E880",
           "#FF97FF",
           "#FECB52"
          ],
          "font": {
           "color": "#2a3f5f"
          },
          "geo": {
           "bgcolor": "white",
           "lakecolor": "white",
           "landcolor": "#E5ECF6",
           "showlakes": true,
           "showland": true,
           "subunitcolor": "white"
          },
          "hoverlabel": {
           "align": "left"
          },
          "hovermode": "closest",
          "mapbox": {
           "style": "light"
          },
          "paper_bgcolor": "white",
          "plot_bgcolor": "#E5ECF6",
          "polar": {
           "angularaxis": {
            "gridcolor": "white",
            "linecolor": "white",
            "ticks": ""
           },
           "bgcolor": "#E5ECF6",
           "radialaxis": {
            "gridcolor": "white",
            "linecolor": "white",
            "ticks": ""
           }
          },
          "scene": {
           "xaxis": {
            "backgroundcolor": "#E5ECF6",
            "gridcolor": "white",
            "gridwidth": 2,
            "linecolor": "white",
            "showbackground": true,
            "ticks": "",
            "zerolinecolor": "white"
           },
           "yaxis": {
            "backgroundcolor": "#E5ECF6",
            "gridcolor": "white",
            "gridwidth": 2,
            "linecolor": "white",
            "showbackground": true,
            "ticks": "",
            "zerolinecolor": "white"
           },
           "zaxis": {
            "backgroundcolor": "#E5ECF6",
            "gridcolor": "white",
            "gridwidth": 2,
            "linecolor": "white",
            "showbackground": true,
            "ticks": "",
            "zerolinecolor": "white"
           }
          },
          "shapedefaults": {
           "line": {
            "color": "#2a3f5f"
           }
          },
          "ternary": {
           "aaxis": {
            "gridcolor": "white",
            "linecolor": "white",
            "ticks": ""
           },
           "baxis": {
            "gridcolor": "white",
            "linecolor": "white",
            "ticks": ""
           },
           "bgcolor": "#E5ECF6",
           "caxis": {
            "gridcolor": "white",
            "linecolor": "white",
            "ticks": ""
           }
          },
          "title": {
           "x": 0.05
          },
          "xaxis": {
           "automargin": true,
           "gridcolor": "white",
           "linecolor": "white",
           "ticks": "",
           "title": {
            "standoff": 15
           },
           "zerolinecolor": "white",
           "zerolinewidth": 2
          },
          "yaxis": {
           "automargin": true,
           "gridcolor": "white",
           "linecolor": "white",
           "ticks": "",
           "title": {
            "standoff": 15
           },
           "zerolinecolor": "white",
           "zerolinewidth": 2
          }
         }
        },
        "xaxis": {
         "anchor": "y",
         "constrain": "domain",
         "domain": [
          0,
          1
         ],
         "scaleanchor": "y"
        },
        "yaxis": {
         "anchor": "x",
         "autorange": "reversed",
         "constrain": "domain",
         "domain": [
          0,
          1
         ]
        }
       }
      }
     },
     "metadata": {},
     "output_type": "display_data"
    }
   ],
   "source": [
    "print(f\"Total daily contacts for each age group is {mixing_matrices['all_locations'].sum(axis=1)}\")\n",
    "px.imshow(mixing_matrices[\"all_locations\"])"
   ]
  },
  {
   "cell_type": "markdown",
   "metadata": {},
   "source": [
    "## Age adjustment"
   ]
  },
  {
   "cell_type": "markdown",
   "metadata": {},
   "source": [
    "### Latency"
   ]
  },
  {
   "cell_type": "code",
   "execution_count": 14,
   "metadata": {},
   "outputs": [],
   "source": [
    "age_params = baseline_params[\"age_specific_latency\"]"
   ]
  },
  {
   "cell_type": "markdown",
   "metadata": {},
   "source": [
    "#### Early Activation"
   ]
  },
  {
   "cell_type": "code",
   "execution_count": 15,
   "metadata": {},
   "outputs": [
    {
     "name": "stdout",
     "output_type": "stream",
     "text": [
      "{0: 0.0066, 5: 0.0027, 15: 0.00027}\n"
     ]
    }
   ],
   "source": [
    "pretty_print(age_params[\"early_activation\"])"
   ]
  },
  {
   "cell_type": "markdown",
   "metadata": {},
   "source": [
    "#### Stabilisation"
   ]
  },
  {
   "cell_type": "code",
   "execution_count": 16,
   "metadata": {},
   "outputs": [
    {
     "name": "stdout",
     "output_type": "stream",
     "text": [
      "{0: 0.012, 5: 0.012, 15: 0.0054}\n"
     ]
    }
   ],
   "source": [
    "pretty_print(age_params[\"stabilisation\"])"
   ]
  },
  {
   "cell_type": "markdown",
   "metadata": {},
   "source": [
    "#### Late Activation"
   ]
  },
  {
   "cell_type": "code",
   "execution_count": 17,
   "metadata": {},
   "outputs": [
    {
     "name": "stdout",
     "output_type": "stream",
     "text": [
      "{0: 1.9e-11, 5: 6.4e-06, 15: 3.3e-06}\n"
     ]
    }
   ],
   "source": [
    "pretty_print(age_params[\"late_activation\"])"
   ]
  },
  {
   "cell_type": "markdown",
   "metadata": {},
   "source": [
    "## Calibration target"
   ]
  },
  {
   "cell_type": "markdown",
   "metadata": {},
   "source": [
    "Innitially, only the progession from latent (early and late) to the activation of TB was modelled, in the absence of treatment or interventions. The model was calibrated to the population size."
   ]
  },
  {
   "cell_type": "code",
   "execution_count": 16,
   "metadata": {},
   "outputs": [
    {
     "data": {
      "application/vnd.plotly.v1+json": {
       "config": {
        "plotlyServerURL": "https://plot.ly"
       },
       "data": [
        {
         "hovertemplate": "index=%{x}<br>total_population=%{y}<extra></extra>",
         "legendgroup": "",
         "line": {
          "color": "#636efa",
          "dash": "solid"
         },
         "marker": {
          "symbol": "circle"
         },
         "mode": "lines",
         "name": "",
         "showlegend": false,
         "type": "scattergl",
         "x": [
          1900,
          1900.1,
          1900.2,
          1900.3,
          1900.4,
          1900.5,
          1900.6,
          1900.7,
          1900.8,
          1900.9,
          1901,
          1901.1,
          1901.2,
          1901.3,
          1901.4,
          1901.5,
          1901.6,
          1901.7,
          1901.8,
          1901.9,
          1902,
          1902.1,
          1902.2,
          1902.3,
          1902.4,
          1902.5,
          1902.6,
          1902.7,
          1902.8,
          1902.9,
          1903,
          1903.1,
          1903.2,
          1903.3,
          1903.4,
          1903.5,
          1903.6,
          1903.7,
          1903.8,
          1903.9,
          1904,
          1904.1,
          1904.2,
          1904.3,
          1904.4,
          1904.5,
          1904.6,
          1904.7,
          1904.8,
          1904.9,
          1905,
          1905.1,
          1905.2,
          1905.3,
          1905.4,
          1905.5,
          1905.6,
          1905.7,
          1905.8,
          1905.9,
          1906,
          1906.1,
          1906.2,
          1906.3,
          1906.4,
          1906.5,
          1906.6,
          1906.7,
          1906.8,
          1906.9,
          1907,
          1907.1,
          1907.2,
          1907.3,
          1907.4,
          1907.5,
          1907.6,
          1907.7,
          1907.8,
          1907.9,
          1908,
          1908.1,
          1908.2,
          1908.3,
          1908.4,
          1908.5,
          1908.6,
          1908.7,
          1908.8,
          1908.9,
          1909,
          1909.1,
          1909.2,
          1909.3,
          1909.4,
          1909.5,
          1909.6,
          1909.7,
          1909.8,
          1909.9,
          1910,
          1910.1,
          1910.2,
          1910.3,
          1910.4,
          1910.5,
          1910.6,
          1910.7,
          1910.8,
          1910.9,
          1911,
          1911.1,
          1911.2,
          1911.3,
          1911.4,
          1911.5,
          1911.6,
          1911.7,
          1911.8,
          1911.9,
          1912,
          1912.1,
          1912.2,
          1912.3,
          1912.4,
          1912.5,
          1912.6,
          1912.7,
          1912.8,
          1912.9,
          1913,
          1913.1,
          1913.2,
          1913.3,
          1913.4,
          1913.5,
          1913.6,
          1913.7,
          1913.8,
          1913.9,
          1914,
          1914.1,
          1914.2,
          1914.3,
          1914.4,
          1914.5,
          1914.6,
          1914.7,
          1914.8,
          1914.9,
          1915,
          1915.1,
          1915.2,
          1915.3,
          1915.4,
          1915.5,
          1915.6,
          1915.7,
          1915.8,
          1915.9,
          1916,
          1916.1,
          1916.2,
          1916.3,
          1916.4,
          1916.5,
          1916.6,
          1916.7,
          1916.8,
          1916.9,
          1917,
          1917.1,
          1917.2,
          1917.3,
          1917.4,
          1917.5,
          1917.6,
          1917.7,
          1917.8,
          1917.9,
          1918,
          1918.1,
          1918.2,
          1918.3,
          1918.4,
          1918.5,
          1918.6,
          1918.7,
          1918.8,
          1918.9,
          1919,
          1919.1,
          1919.2,
          1919.3,
          1919.4,
          1919.5,
          1919.6,
          1919.7,
          1919.8,
          1919.9,
          1920,
          1920.1,
          1920.2,
          1920.3,
          1920.4,
          1920.5,
          1920.6,
          1920.7,
          1920.8,
          1920.9,
          1921,
          1921.1,
          1921.2,
          1921.3,
          1921.4,
          1921.5,
          1921.6,
          1921.7,
          1921.8,
          1921.9,
          1922,
          1922.1,
          1922.2,
          1922.3,
          1922.4,
          1922.5,
          1922.6,
          1922.7,
          1922.8,
          1922.9,
          1923,
          1923.1,
          1923.2,
          1923.3,
          1923.4,
          1923.5,
          1923.6,
          1923.7,
          1923.8,
          1923.9,
          1924,
          1924.1,
          1924.2,
          1924.3,
          1924.4,
          1924.5,
          1924.6,
          1924.7,
          1924.8,
          1924.9,
          1925,
          1925.1,
          1925.2,
          1925.3,
          1925.4,
          1925.5,
          1925.6,
          1925.7,
          1925.8,
          1925.9,
          1926,
          1926.1,
          1926.2,
          1926.3,
          1926.4,
          1926.5,
          1926.6,
          1926.7,
          1926.8,
          1926.9,
          1927,
          1927.1,
          1927.2,
          1927.3,
          1927.4,
          1927.5,
          1927.6,
          1927.7,
          1927.8,
          1927.9,
          1928,
          1928.1,
          1928.2,
          1928.3,
          1928.4,
          1928.5,
          1928.6,
          1928.7,
          1928.8,
          1928.9,
          1929,
          1929.1,
          1929.2,
          1929.3,
          1929.4,
          1929.5,
          1929.6,
          1929.7,
          1929.8,
          1929.9,
          1930,
          1930.1,
          1930.2,
          1930.3,
          1930.4,
          1930.5,
          1930.6,
          1930.7,
          1930.8,
          1930.9,
          1931,
          1931.1,
          1931.2,
          1931.3,
          1931.4,
          1931.5,
          1931.6,
          1931.7,
          1931.8,
          1931.9,
          1932,
          1932.1,
          1932.2,
          1932.3,
          1932.4,
          1932.5,
          1932.6,
          1932.7,
          1932.8,
          1932.9,
          1933,
          1933.1,
          1933.2,
          1933.3,
          1933.4,
          1933.5,
          1933.6,
          1933.7,
          1933.8,
          1933.9,
          1934,
          1934.1,
          1934.2,
          1934.3,
          1934.4,
          1934.5,
          1934.6,
          1934.7,
          1934.8,
          1934.9,
          1935,
          1935.1,
          1935.2,
          1935.3,
          1935.4,
          1935.5,
          1935.6,
          1935.7,
          1935.8,
          1935.9,
          1936,
          1936.1,
          1936.2,
          1936.3,
          1936.4,
          1936.5,
          1936.6,
          1936.7,
          1936.8,
          1936.9,
          1937,
          1937.1,
          1937.2,
          1937.3,
          1937.4,
          1937.5,
          1937.6,
          1937.7,
          1937.8,
          1937.9,
          1938,
          1938.1,
          1938.2,
          1938.3,
          1938.4,
          1938.5,
          1938.6,
          1938.7,
          1938.8,
          1938.9,
          1939,
          1939.1,
          1939.2,
          1939.3,
          1939.4,
          1939.5,
          1939.6,
          1939.7,
          1939.8,
          1939.9,
          1940,
          1940.1,
          1940.2,
          1940.3,
          1940.4,
          1940.5,
          1940.6,
          1940.7,
          1940.8,
          1940.9,
          1941,
          1941.1,
          1941.2,
          1941.3,
          1941.4,
          1941.5,
          1941.6,
          1941.7,
          1941.8,
          1941.9,
          1942,
          1942.1,
          1942.2,
          1942.3,
          1942.4,
          1942.5,
          1942.6,
          1942.7,
          1942.8,
          1942.9,
          1943,
          1943.1,
          1943.2,
          1943.3,
          1943.4,
          1943.5,
          1943.6,
          1943.7,
          1943.8,
          1943.9,
          1944,
          1944.1,
          1944.2,
          1944.3,
          1944.4,
          1944.5,
          1944.6,
          1944.7,
          1944.8,
          1944.9,
          1945,
          1945.1,
          1945.2,
          1945.3,
          1945.4,
          1945.5,
          1945.6,
          1945.7,
          1945.8,
          1945.9,
          1946,
          1946.1,
          1946.2,
          1946.3,
          1946.4,
          1946.5,
          1946.6,
          1946.7,
          1946.8,
          1946.9,
          1947,
          1947.1,
          1947.2,
          1947.3,
          1947.4,
          1947.5,
          1947.6,
          1947.7,
          1947.8,
          1947.9,
          1948,
          1948.1,
          1948.2,
          1948.3,
          1948.4,
          1948.5,
          1948.6,
          1948.7,
          1948.8,
          1948.9,
          1949,
          1949.1,
          1949.2,
          1949.3,
          1949.4,
          1949.5,
          1949.6,
          1949.7,
          1949.8,
          1949.9,
          1950,
          1950.1,
          1950.2,
          1950.3,
          1950.4,
          1950.5,
          1950.6,
          1950.7,
          1950.8,
          1950.9,
          1951,
          1951.1,
          1951.2,
          1951.3,
          1951.4,
          1951.5,
          1951.6,
          1951.7,
          1951.8,
          1951.9,
          1952,
          1952.1,
          1952.2,
          1952.3,
          1952.4,
          1952.5,
          1952.6,
          1952.7,
          1952.8,
          1952.9,
          1953,
          1953.1,
          1953.2,
          1953.3,
          1953.4,
          1953.5,
          1953.6,
          1953.7,
          1953.8,
          1953.9,
          1954,
          1954.1,
          1954.2,
          1954.3,
          1954.4,
          1954.5,
          1954.6,
          1954.7,
          1954.8,
          1954.9,
          1955,
          1955.1,
          1955.2,
          1955.3,
          1955.4,
          1955.5,
          1955.6,
          1955.7,
          1955.8,
          1955.9,
          1956,
          1956.1,
          1956.2,
          1956.3,
          1956.4,
          1956.5,
          1956.6,
          1956.7,
          1956.8,
          1956.9,
          1957,
          1957.1,
          1957.2,
          1957.3,
          1957.4,
          1957.5,
          1957.6,
          1957.7,
          1957.8,
          1957.9,
          1958,
          1958.1,
          1958.2,
          1958.3,
          1958.4,
          1958.5,
          1958.6,
          1958.7,
          1958.8,
          1958.9,
          1959,
          1959.1,
          1959.2,
          1959.3,
          1959.4,
          1959.5,
          1959.6,
          1959.7,
          1959.8,
          1959.9,
          1960,
          1960.1,
          1960.2,
          1960.3,
          1960.4,
          1960.5,
          1960.6,
          1960.7,
          1960.8,
          1960.9,
          1961,
          1961.1,
          1961.2,
          1961.3,
          1961.4,
          1961.5,
          1961.6,
          1961.7,
          1961.8,
          1961.9,
          1962,
          1962.1,
          1962.2,
          1962.3,
          1962.4,
          1962.5,
          1962.6,
          1962.7,
          1962.8,
          1962.9,
          1963,
          1963.1,
          1963.2,
          1963.3,
          1963.4,
          1963.5,
          1963.6,
          1963.7,
          1963.8,
          1963.9,
          1964,
          1964.1,
          1964.2,
          1964.3,
          1964.4,
          1964.5,
          1964.6,
          1964.7,
          1964.8,
          1964.9,
          1965,
          1965.1,
          1965.2,
          1965.3,
          1965.4,
          1965.5,
          1965.6,
          1965.7,
          1965.8,
          1965.9,
          1966,
          1966.1,
          1966.2,
          1966.3,
          1966.4,
          1966.5,
          1966.6,
          1966.7,
          1966.8,
          1966.9,
          1967,
          1967.1,
          1967.2,
          1967.3,
          1967.4,
          1967.5,
          1967.6,
          1967.7,
          1967.8,
          1967.9,
          1968,
          1968.1,
          1968.2,
          1968.3,
          1968.4,
          1968.5,
          1968.6,
          1968.7,
          1968.8,
          1968.9,
          1969,
          1969.1,
          1969.2,
          1969.3,
          1969.4,
          1969.5,
          1969.6,
          1969.7,
          1969.8,
          1969.9,
          1970,
          1970.1,
          1970.2,
          1970.3,
          1970.4,
          1970.5,
          1970.6,
          1970.7,
          1970.8,
          1970.9,
          1971,
          1971.1,
          1971.2,
          1971.3,
          1971.4,
          1971.5,
          1971.6,
          1971.7,
          1971.8,
          1971.9,
          1972,
          1972.1,
          1972.2,
          1972.3,
          1972.4,
          1972.5,
          1972.6,
          1972.7,
          1972.8,
          1972.9,
          1973,
          1973.1,
          1973.2,
          1973.3,
          1973.4,
          1973.5,
          1973.6,
          1973.7,
          1973.8,
          1973.9,
          1974,
          1974.1,
          1974.2,
          1974.3,
          1974.4,
          1974.5,
          1974.6,
          1974.7,
          1974.8,
          1974.9,
          1975,
          1975.1,
          1975.2,
          1975.3,
          1975.4,
          1975.5,
          1975.6,
          1975.7,
          1975.8,
          1975.9,
          1976,
          1976.1,
          1976.2,
          1976.3,
          1976.4,
          1976.5,
          1976.6,
          1976.7,
          1976.8,
          1976.9,
          1977,
          1977.1,
          1977.2,
          1977.3,
          1977.4,
          1977.5,
          1977.6,
          1977.7,
          1977.8,
          1977.9,
          1978,
          1978.1,
          1978.2,
          1978.3,
          1978.4,
          1978.5,
          1978.6,
          1978.7,
          1978.8,
          1978.9,
          1979,
          1979.1,
          1979.2,
          1979.3,
          1979.4,
          1979.5,
          1979.6,
          1979.7,
          1979.8,
          1979.9,
          1980,
          1980.1,
          1980.2,
          1980.3,
          1980.4,
          1980.5,
          1980.6,
          1980.7,
          1980.8,
          1980.9,
          1981,
          1981.1,
          1981.2,
          1981.3,
          1981.4,
          1981.5,
          1981.6,
          1981.7,
          1981.8,
          1981.9,
          1982,
          1982.1,
          1982.2,
          1982.3,
          1982.4,
          1982.5,
          1982.6,
          1982.7,
          1982.8,
          1982.9,
          1983,
          1983.1,
          1983.2,
          1983.3,
          1983.4,
          1983.5,
          1983.6,
          1983.7,
          1983.8,
          1983.9,
          1984,
          1984.1,
          1984.2,
          1984.3,
          1984.4,
          1984.5,
          1984.6,
          1984.7,
          1984.8,
          1984.9,
          1985,
          1985.1,
          1985.2,
          1985.3,
          1985.4,
          1985.5,
          1985.6,
          1985.7,
          1985.8,
          1985.9,
          1986,
          1986.1,
          1986.2,
          1986.3,
          1986.4,
          1986.5,
          1986.6,
          1986.7,
          1986.8,
          1986.9,
          1987,
          1987.1,
          1987.2,
          1987.3,
          1987.4,
          1987.5,
          1987.6,
          1987.7,
          1987.8,
          1987.9,
          1988,
          1988.1,
          1988.2,
          1988.3,
          1988.4,
          1988.5,
          1988.6,
          1988.7,
          1988.8,
          1988.9,
          1989,
          1989.1,
          1989.2,
          1989.3,
          1989.4,
          1989.5,
          1989.6,
          1989.7,
          1989.8,
          1989.9,
          1990,
          1990.1,
          1990.2,
          1990.3,
          1990.4,
          1990.5,
          1990.6,
          1990.7,
          1990.8,
          1990.9,
          1991,
          1991.1,
          1991.2,
          1991.3,
          1991.4,
          1991.5,
          1991.6,
          1991.7,
          1991.8,
          1991.9,
          1992,
          1992.1,
          1992.2,
          1992.3,
          1992.4,
          1992.5,
          1992.6,
          1992.7,
          1992.8,
          1992.9,
          1993,
          1993.1,
          1993.2,
          1993.3,
          1993.4,
          1993.5,
          1993.6,
          1993.7,
          1993.8,
          1993.9,
          1994,
          1994.1,
          1994.2,
          1994.3,
          1994.4,
          1994.5,
          1994.6,
          1994.7,
          1994.8,
          1994.9,
          1995,
          1995.1,
          1995.2,
          1995.3,
          1995.4,
          1995.5,
          1995.6,
          1995.7,
          1995.8,
          1995.9,
          1996,
          1996.1,
          1996.2,
          1996.3,
          1996.4,
          1996.5,
          1996.6,
          1996.7,
          1996.8,
          1996.9,
          1997,
          1997.1,
          1997.2,
          1997.3,
          1997.4,
          1997.5,
          1997.6,
          1997.7,
          1997.8,
          1997.9,
          1998,
          1998.1,
          1998.2,
          1998.3,
          1998.4,
          1998.5,
          1998.6,
          1998.7,
          1998.8,
          1998.9,
          1999,
          1999.1,
          1999.2,
          1999.3,
          1999.4,
          1999.5,
          1999.6,
          1999.7,
          1999.8,
          1999.9,
          2000,
          2000.1,
          2000.2,
          2000.3,
          2000.4,
          2000.5,
          2000.6,
          2000.7,
          2000.8,
          2000.9,
          2001,
          2001.1,
          2001.2,
          2001.3,
          2001.4,
          2001.5,
          2001.6,
          2001.7,
          2001.8,
          2001.9,
          2002,
          2002.1,
          2002.2,
          2002.3,
          2002.4,
          2002.5,
          2002.6,
          2002.7,
          2002.8,
          2002.9,
          2003,
          2003.1,
          2003.2,
          2003.3,
          2003.4,
          2003.5,
          2003.6,
          2003.7,
          2003.8,
          2003.9,
          2004,
          2004.1,
          2004.2,
          2004.3,
          2004.4,
          2004.5,
          2004.6,
          2004.7,
          2004.8,
          2004.9,
          2005,
          2005.1,
          2005.2,
          2005.3,
          2005.4,
          2005.5,
          2005.6,
          2005.7,
          2005.8,
          2005.9,
          2006,
          2006.1,
          2006.2,
          2006.3,
          2006.4,
          2006.5,
          2006.6,
          2006.7,
          2006.8,
          2006.9,
          2007,
          2007.1,
          2007.2,
          2007.3,
          2007.4,
          2007.5,
          2007.6,
          2007.7,
          2007.8,
          2007.9,
          2008,
          2008.1,
          2008.2,
          2008.3,
          2008.4,
          2008.5,
          2008.6,
          2008.7,
          2008.8,
          2008.9,
          2009,
          2009.1,
          2009.2,
          2009.3,
          2009.4,
          2009.5,
          2009.6,
          2009.7,
          2009.8,
          2009.9,
          2010,
          2010.1,
          2010.2,
          2010.3,
          2010.4,
          2010.5,
          2010.6,
          2010.7,
          2010.8,
          2010.9,
          2011,
          2011.1,
          2011.2,
          2011.3,
          2011.4,
          2011.5,
          2011.6,
          2011.7,
          2011.8,
          2011.9,
          2012,
          2012.1,
          2012.2,
          2012.3,
          2012.4,
          2012.5,
          2012.6,
          2012.7,
          2012.8,
          2012.9,
          2013,
          2013.1,
          2013.2,
          2013.3,
          2013.4,
          2013.5,
          2013.6,
          2013.7,
          2013.8,
          2013.9,
          2014,
          2014.1,
          2014.2,
          2014.3,
          2014.4,
          2014.5,
          2014.6,
          2014.7,
          2014.8,
          2014.9,
          2015,
          2015.1,
          2015.2,
          2015.3,
          2015.4,
          2015.5,
          2015.6,
          2015.7,
          2015.8,
          2015.9,
          2016,
          2016.1,
          2016.2,
          2016.3,
          2016.4,
          2016.5,
          2016.6,
          2016.7,
          2016.8,
          2016.9,
          2017,
          2017.1,
          2017.2,
          2017.3,
          2017.4,
          2017.5,
          2017.6,
          2017.7,
          2017.8,
          2017.9,
          2018,
          2018.1,
          2018.2,
          2018.3,
          2018.4,
          2018.5,
          2018.6,
          2018.7,
          2018.8,
          2018.9,
          2019,
          2019.1,
          2019.2,
          2019.3,
          2019.4,
          2019.5,
          2019.6,
          2019.7,
          2019.8,
          2019.9,
          2020
         ],
         "xaxis": "x",
         "y": [
          23000.000000000004,
          22980.794284920466,
          22962.57034593837,
          22945.3137088174,
          22929.01026255699,
          22913.64618576821,
          22899.207927799456,
          22885.68217080034,
          22873.055838809745,
          22861.31607135043,
          22850.450225363176,
          22840.44587750093,
          22831.290806034744,
          22822.97298866805,
          22815.480609933817,
          22808.80205641211,
          22802.925899702754,
          22797.84089562221,
          22793.535985002552,
          22790.000303424356,
          22787.223167342006,
          22785.194060201466,
          22783.902632171532,
          22783.338704896276,
          22783.492285339893,
          22784.35353941515,
          22785.91278300945,
          22788.16048221291,
          22791.087270573043,
          22794.683951498322,
          22798.941465722728,
          22803.85088884934,
          22809.403437843892,
          22815.590499544873,
          22822.403595806823,
          22829.83437274993,
          22837.874603092707,
          22846.51621163834,
          22855.751258653352,
          22865.57192102847,
          22875.970492897755,
          22886.939400351137,
          22898.471206232396,
          22910.558583451446,
          22923.194312908345,
          22936.371286402842,
          22950.082530561416,
          22964.32118685922,
          22979.080493033147,
          22994.353782897382,
          23010.134497767198,
          23026.416215334702,
          23043.192606897977,
          23060.45742639431,
          23078.204511432843,
          23096.42782184459,
          23115.121434059867,
          23134.279497611515,
          23153.89623537994,
          23173.965963047776,
          23194.48312345622,
          23215.442231835943,
          23236.837872922537,
          23258.664707562595,
          23280.917511826407,
          23303.591142619025,
          23326.680521590257,
          23350.180635971992,
          23374.08656425088,
          23398.39348675412,
          23423.09664361061,
          23448.19133152975,
          23473.672907021908,
          23499.53683352582,
          23525.778660820306,
          23552.393982495745,
          23579.378435156046,
          23606.72771537885,
          23634.437649578493,
          23662.504118093406,
          23690.923031377184,
          23719.690332376897,
          23748.802068027184,
          23778.25437935596,
          23808.043432267852,
          23838.165420879504,
          23868.616604037943,
          23899.39335108702,
          23930.492062103596,
          23961.909166295056,
          23993.64113133392,
          24025.68452810335,
          24058.035981965495,
          24090.69214191825,
          24123.649681188715,
          24156.905329127785,
          24190.45592754154,
          24224.298344225157,
          24258.429456813745,
          24292.84615378162,
          24327.54541199165,
          24362.524322264297,
          24397.779971770306,
          24433.309437358774,
          24469.10980454679,
          24505.178318036036,
          24541.51226457591,
          24578.108909039194,
          24614.965500499435,
          24652.07938884488,
          24689.4480238743,
          24727.06883758135,
          24764.93925111592,
          24803.05672613393,
          24841.418849904432,
          24880.023209903462,
          24918.867384845045,
          24957.948951151997,
          24997.265590924708,
          25036.81505919287,
          25076.59509022386,
          25116.603396090006,
          25156.83768966354,
          25197.29584962978,
          25237.97579683921,
          25278.87539816459,
          25319.992466566397,
          25361.32484959062,
          25402.870630372476,
          25444.62784880042,
          25486.59446376574,
          25528.76837155859,
          25571.147678576624,
          25613.730562558703,
          25656.51511687677,
          25699.49936589869,
          25742.68143493822,
          25786.059589342665,
          25829.632032983918,
          25873.396915934085,
          25917.352387979103,
          25961.496783109917,
          26005.828426613316,
          26050.345582899852,
          26095.0464568188,
          26139.929325720295,
          26184.99267207801,
          26230.234911649357,
          26275.65435796194,
          26321.249227948087,
          26367.017926201414,
          26412.959086516792,
          26459.071192253337,
          26505.35256015504,
          26551.80142067973,
          26598.416437433687,
          26645.196254710998,
          26692.13932620859,
          26739.24394504327,
          26786.50867170838,
          26833.932214446475,
          26881.513120263342,
          26929.249803012044,
          26977.14076173721,
          27025.184736944968,
          27073.380360082632,
          27121.726145964596,
          27170.22052547012,
          27218.86219812115,
          27267.649955142504,
          27316.58243060706,
          27365.658099484684,
          27414.875360111044,
          27464.233078037167,
          27513.73015717294,
          27563.365228306393,
          27613.136648781925,
          27663.042804267963,
          27713.082812684068,
          27763.2555532211,
          27813.55954291622,
          27863.993011239538,
          27914.554844350765,
          27965.244034699048,
          28016.059228483085,
          28066.99879349402,
          28118.06142606884,
          28169.246092624988,
          28220.551508182463,
          28271.97616878074,
          28323.51857520052,
          28375.17770251993,
          28426.952392079467,
          28478.841248735196,
          28530.842644618468,
          28582.95516888869,
          28635.177978703603,
          28687.50994494413,
          28739.94954984452,
          28792.494904053612,
          28845.14468586333,
          28897.89831162297,
          28950.754635452904,
          29003.71188850447,
          29056.767956863314,
          29109.922155238673,
          29163.173644743627,
          29216.520915999605,
          29269.961930204838,
          29323.49555621332,
          29377.120911877657,
          29430.83660066765,
          29484.640815600083,
          29538.53213408411,
          29592.509634557515,
          29646.572030262763,
          29700.71767390217,
          29754.944705215297,
          29809.25210868191,
          29863.638981374686,
          29918.10391460776,
          29972.644991506277,
          30027.260184948118,
          30081.9488656235,
          30136.71008292185,
          30191.54218038871,
          30246.4429015514,
          30301.411051111674,
          30356.445887216632,
          30411.54599021911,
          30466.709326832297,
          30521.934018291413,
          30577.219429974837,
          30632.564450555572,
          30687.9673250465,
          30743.425715572757,
          30798.9383092181,
          30854.5046802486,
          30910.123572776083,
          30965.792847156492,
          31021.509804014207,
          31077.273887650503,
          31133.084797293897,
          31188.94098904199,
          31244.83970051383,
          31300.778659930682,
          31356.758148664147,
          31412.77723311107,
          31468.83371942475,
          31524.924737105397,
          31581.049978242405,
          31637.20882805288,
          31693.399564806114,
          31749.61955077168,
          31805.86760816998,
          31862.143416370003,
          31918.445673911214,
          31974.772151052653,
          32031.120468635327,
          32087.49053424863,
          32143.88184500118,
          32200.29274093636,
          32256.720415964995,
          32313.162920791165,
          32369.621032493298,
          32426.09426835002,
          32482.580468049895,
          32539.076024663224,
          32595.580489274213,
          32652.09490134609,
          32708.618188558787,
          32765.14728568735,
          32821.67961435059,
          32878.21653726712,
          32934.75762920796,
          32991.300775319985,
          33047.84311104866,
          33104.38517672275,
          33160.926984449616,
          33217.467136279374,
          33274.0030110867,
          33330.53388028882,
          33387.06057915377,
          33443.58254462391,
          33500.09778986556,
          33556.60354667759,
          33613.10067725983,
          33669.59039379212,
          33726.071870726046,
          33782.5422531919,
          33838.998775287495,
          33895.44416507817,
          33951.87963633331,
          34008.30363871595,
          34064.71212328786,
          34121.10541004989,
          34177.48624627513,
          34233.8543935459,
          34290.20702598163,
          34346.54261714389,
          34402.86377864084,
          34459.170897235934,
          34515.46243080439,
          34571.736275506155,
          34627.99439703287,
          34684.23798923767,
          34740.46649999709,
          34796.677735587684,
          34852.871544308124,
          34909.05079608523,
          34965.21643488182,
          35021.36720489947,
          35077.50004765462,
          35133.616573991596,
          35189.72070970506,
          35245.81319005766,
          35301.89151191455,
          35357.952282421276,
          35414.00030277838,
          35470.03860590835,
          35526.06650599273,
          35582.08023145283,
          35638.08181650728,
          35694.07503876543,
          35750.060391223386,
          35806.0357171868,
          35862.00132840309,
          35917.9607635996,
          35973.91526655146,
          36029.86402700198,
          36085.805671905,
          36141.74354374424,
          36197.68029354096,
          36253.61632943244,
          36309.549843545756,
          36365.4803322256,
          36421.412866600294,
          36477.350297092584,
          36533.29218192883,
          36589.23495033177,
          36645.179903246964,
          36701.13350507633,
          36757.097913324695,
          36813.07093678398,
          36869.0489939474,
          36925.03828454346,
          36981.042434882605,
          37037.061139038466,
          37093.09145202644,
          37149.13693036573,
          37205.20121475698,
          37261.28505319287,
          37317.38684192905,
          37373.50797441162,
          37429.6524713235,
          37485.82207206782,
          37542.016308288796,
          37598.23357138545,
          37654.47766805369,
          37710.7527122944,
          37767.059817941066,
          37823.39711038477,
          37879.762272917644,
          37936.16149764434,
          37992.59949071131,
          38049.07638353048,
          38105.5878073625,
          38162.13391967254,
          38218.72243485777,
          38275.35581677586,
          38332.03180536033,
          38388.74751511089,
          38445.509214327765,
          38502.31971702734,
          38559.17852304188,
          38616.08357859025,
          38673.03878149863,
          38730.04711132619,
          38787.109126870906,
          38844.22322659142,
          38901.39053655692,
          38958.61542312615,
          39015.89987506345,
          39073.243307907454,
          39130.642991043496,
          39188.10152564196,
          39245.62469223115,
          39303.214337090685,
          39360.86818482449,
          39418.58149897039,
          39476.35997772906,
          39534.209650055425,
          39592.13085778909,
          39650.11856292225,
          39708.17258962883,
          39766.300040000715,
          39824.5025468692,
          39882.77758353872,
          39941.123898455924,
          39999.54642482035,
          40058.04687577811,
          40116.62438985119,
          40175.277297537694,
          40234.0091024557,
          40292.8223648885,
          40351.71734482335,
          40410.69205378072,
          40469.74601346041,
          40528.884175453546,
          40588.10918474934,
          40647.4203227013,
          40706.8135913808,
          40766.28974886732,
          40825.85475956142,
          40885.50996774767,
          40945.25271964156,
          41005.08121276976,
          41065.000263511116,
          41125.01146800215,
          41185.11377731271,
          41245.30509455706,
          41305.588592637585,
          41365.96670789026,
          41426.43952575012,
          41487.00484173544,
          41547.66173937735,
          41608.41491989258,
          41669.26688258257,
          41730.216756230824,
          41791.26035947325,
          41852.39794372613,
          41913.635330087105,
          41974.97374777923,
          42036.41041736302,
          42097.9430278803,
          42159.576236291505,
          42221.31155295268,
          42283.147787637565,
          42345.082471043905,
          42407.118463708204,
          42469.25815604139,
          42531.50151858132,
          42593.84617364447,
          42656.29075197437,
          42718.83977534135,
          42781.49569143853,
          42844.257536962265,
          42907.12097727629,
          42970.08578334423,
          43033.157708076134,
          43096.33792418475,
          43159.62357580807,
          43223.01192293712,
          43286.50749244004,
          43350.11176353531,
          43413.823458589395,
          43477.63982371682,
          43541.56345132894,
          43605.5967253099,
          43669.73955132554,
          43733.989440874895,
          43798.34466972686,
          43862.809616842394,
          43927.38671328296,
          43992.07495065722,
          44056.869906423475,
          44121.77096304166,
          44186.78383666696,
          44251.909686927276,
          44317.145628674436,
          44382.488582464735,
          44447.94297663595,
          44513.510311565944,
          44579.189271186624,
          44644.97688343466,
          44710.87551599063,
          44776.88759731125,
          44843.013017327445,
          44909.24922453794,
          44975.59419711021,
          45042.052217912875,
          45108.62575010991,
          45175.313783032296,
          45242.11184083362,
          45309.01799611633,
          45376.03904923493,
          45443.177758611484,
          45510.431503638734,
          45577.793123454176,
          45645.26569838492,
          45712.8552571176,
          45780.561685720706,
          45848.37967514093,
          45916.308480300824,
          45984.353127185634,
          46052.5141018949,
          46120.78855759467,
          46189.17499520824,
          46257.67687763443,
          46326.295187631404,
          46395.02854965954,
          46463.87402742817,
          46532.833668367195,
          46601.91044596773,
          46671.104524278235,
          46740.41326857409,
          46809.832774798604,
          46879.36714401817,
          46949.0208382836,
          47018.79358724479,
          47088.68038395279,
          47158.67622606476,
          47228.78888935621,
          47299.02220125745,
          47369.37378132254,
          47439.83626434344,
          47510.413050443225,
          47581.10891943608,
          47651.92320186212,
          47722.85139241876,
          47793.89460685976,
          47865.05599794716,
          47936.33552500021,
          48007.73070414355,
          48079.24232681665,
          48150.8708983301,
          48222.6313065839,
          48294.558851855116,
          48366.70774729802,
          48439.131324214366,
          48511.881110594775,
          48585.00435271358,
          48658.54228447617,
          48732.53092305497,
          48807.01299186228,
          48882.03050501037,
          48957.61808486624,
          49033.80398464618,
          49110.619443299984,
          49188.09667469181,
          49266.26222370461,
          49345.13782096991,
          49424.74469914976,
          49505.10598124606,
          49586.240564485364,
          49668.16294939487,
          49750.88353405008,
          49834.414810363356,
          49918.77045329706,
          50003.958706760175,
          50089.982108685756,
          50176.83822452546,
          50264.530904736945,
          50353.063442255225,
          50442.43186547856,
          50532.62577685173,
          50623.637245991886,
          50715.459900800975,
          50808.08149588131,
          50901.48471877577,
          50995.65102492817,
          51090.56436005331,
          51186.204276835015,
          51282.54554536804,
          51379.55833710583,
          51477.21420902458,
          51575.4865696355,
          51674.34305474999,
          51773.74507394531,
          51873.64833827908,
          51974.01412434212,
          52074.803923006955,
          52175.97134602737,
          52277.46303895699,
          52379.2286607059,
          52481.21352436868,
          52583.37345508534,
          52685.68318923365,
          52788.13169607201,
          52890.709651109115,
          52993.407184366595,
          53096.2120932845,
          53199.10994650423,
          53302.08975236773,
          53405.14593722935,
          53508.26992477306,
          53611.449460966876,
          53714.66894560038,
          53817.92044741336,
          53921.200404304356,
          54024.4999719885,
          54127.80580449051,
          54231.10762299516,
          54334.401786632094,
          54437.68093041481,
          54540.934823015385,
          54644.153054657996,
          54747.33166291404,
          54850.465333635926,
          54953.546268486505,
          55056.564250880096,
          55159.51180781216,
          55262.3878593283,
          55365.18850784662,
          55467.90603061275,
          55570.529051302685,
          55673.05298219435,
          55775.479154017725,
          55877.803459072544,
          55980.01712013166,
          56082.113168192765,
          56184.09274310532,
          56285.953193464935,
          56387.688859285554,
          56489.29317443408,
          56590.76641989922,
          56692.10809342223,
          56793.31503448885,
          56894.381492334665,
          56995.303620423925,
          57096.0848895765,
          57196.72627020218,
          57297.224759599434,
          57397.57344041634,
          57497.77100079138,
          57597.82378857378,
          57697.732528765184,
          57797.49297306807,
          57897.101135567216,
          57996.56200845777,
          58095.87667097914,
          58195.04271096739,
          58294.05581969189,
          58392.918309757915,
          58491.63220099479,
          58590.19637658194,
          58688.60668565929,
          58786.859660615264,
          58884.95961586403,
          58982.908559391886,
          59080.70410481136,
          59178.339476012414,
          59275.81180609407,
          59373.1272259956,
          59470.28608803513,
          59567.2835427679,
          59664.1137006044,
          59760.780549623734,
          59857.28473657241,
          59953.62325441748,
          60049.79064575152,
          60145.78786185131,
          60241.6166054482,
          60337.27533339596,
          60432.75939971311,
          60528.063972227195,
          60623.1925168396,
          60718.14694903673,
          60812.92472830677,
          60907.51886278308,
          61001.9247339121,
          61096.14831915659,
          61190.19008575125,
          61284.045253640594,
          61377.706928791406,
          61471.178448125844,
          61564.46074282182,
          61657.550911977385,
          61750.44315853783,
          61843.137550429536,
          61935.636102293385,
          62027.93751857755,
          62120.03735263995,
          62211.930194591725,
          62303.61904881365,
          62395.10636400196,
          62486.39011027155,
          62577.46379241095,
          62668.32092035881,
          62758.96813795971,
          62849.409172680294,
          62939.64082509876,
          63029.6531424931,
          63119.444391694415,
          63209.02297415093,
          63298.3893127709,
          63387.53707141151,
          63476.46053369496,
          63565.1662205567,
          63653.65516992229,
          63741.92413266255,
          63829.96862970305,
          63917.79232036348,
          64005.39697209876,
          64092.78130181906,
          64179.94129876805,
          64266.87715981348,
          64353.593385425374,
          64440.091231031416,
          64526.36844275894,
          64612.419739386,
          64698.24719412111,
          64783.85834492816,
          64869.25516221024,
          64954.43364953725,
          65039.38570472687,
          65124.1180601373,
          65208.63936375265,
          65292.95005518586,
          65377.0429013309,
          65460.91666862648,
          65544.58128517849,
          65628.03910885096,
          65711.28709004412,
          65794.32388178847,
          65877.15633270556,
          65959.78727378654,
          66042.21637984616,
          66124.4422482972,
          66206.47027710575,
          66288.3050746288,
          66369.94835289549,
          66451.39897729685,
          66532.6568254703,
          66613.73010766925,
          66694.62480531933,
          66775.34237852729,
          66855.87976608027,
          66936.23778095252,
          67016.42846420346,
          67096.45771578839,
          67176.32624000417,
          67256.03434451662,
          67335.59269957201,
          67415.00855035221,
          67494.28605514413,
          67573.42790812276,
          67652.44350784294,
          67731.34237468589,
          67810.1314867965,
          67888.81537487856,
          67967.39923215017,
          68045.89638449998,
          68124.31870165493,
          68202.67404000492,
          68280.96624261778,
          68359.20140063015,
          68437.39716506687,
          68515.56587283907,
          68593.7147830844,
          68671.84942401428,
          68749.98570256357,
          68828.13713538837,
          68906.313928287,
          68984.52408769816,
          69062.78168158837,
          69141.10218496765,
          69219.4983394366,
          69297.98028529427,
          69376.55765577318,
          69455.24832782533,
          69534.0698941499,
          69613.035805039,
          69692.15537022104,
          69771.43832433662,
          69850.90685773465,
          69930.57884680449,
          70010.4669408991,
          70090.58086640321,
          70170.94038343738,
          70251.56427869471,
          70332.4677646824,
          70413.6633739593,
          70495.16877133782,
          70577.00438316818,
          70659.18779330353,
          70741.73385098159,
          70824.65591521728,
          70907.97419427669,
          70991.70909278441,
          71075.87607874855,
          71160.48565825845,
          71245.54659704237,
          71331.07943472687,
          71417.10105650694,
          71503.62221878339,
          71590.64915556149,
          71678.19652989571,
          71766.27899278273,
          71854.9066382483,
          71944.08583178997,
          72033.82618664105,
          72124.14070799416,
          72215.03893414875,
          72306.52696679009,
          72398.60832005384,
          72491.29289491446,
          72584.59239937061,
          72678.51374574301,
          72773.05896468551,
          72868.22734680472,
          72964.02970114225,
          73060.47506671786,
          73157.5662358367,
          73255.30092973725,
          73353.68412242035,
          73452.72277385705,
          73552.41909021036,
          73652.7713825946,
          73753.77993487802,
          73855.44981033301,
          73957.78274492061,
          74060.7769621257,
          74164.42763917947,
          74268.73532437276,
          74373.70391633369,
          74479.33256725916,
          74585.61543785167,
          74692.54301223934,
          74800.11639221454,
          74908.33692329208,
          75017.19939312451,
          75126.69297580613,
          75236.81239706573,
          75347.55637701359,
          75458.91857429489,
          75570.88851790763,
          75683.4563234791,
          75796.61849048574,
          75910.36874010786,
          76024.69746436283,
          76139.59193999707,
          76255.04387148864,
          76371.05020702246,
          76487.60362223446,
          76604.69198365974,
          76722.2990562218,
          76840.41822901365,
          76959.04578757277,
          77078.17152312044,
          77197.77958646919,
          77317.85802849094,
          77438.40146404067,
          77559.39959670664,
          77680.83816763325,
          77802.70225819142,
          77924.98417785618,
          78047.67396535227,
          78170.75809591594,
          78294.21957145105,
          78418.04432208872,
          78542.22503244515,
          78666.75040130208,
          78791.604116351,
          78916.76514786363,
          79042.22030272875,
          79167.96185731213,
          79293.97535851254,
          79420.24046281778,
          79546.73840926906,
          79673.45929165608,
          79800.38824734083,
          79927.50627077918,
          80054.79245150626,
          80182.23345971656,
          80309.81473966246,
          80437.51794671232,
          80565.32104187639,
          80693.20334998361,
          80821.15238394043,
          80949.15229364471,
          81077.18206770037,
          81205.2155714196,
          81333.23096084085,
          81461.21775342948,
          81589.15926128654,
          81717.03113758788,
          81844.80273425837,
          81972.45924337882,
          82099.99060285887,
          82227.37880714455,
          82354.59926133628,
          82481.63461986878,
          82608.47699106984,
          82735.11280941496,
          82861.52459130416,
          82987.69720980636,
          83113.624008959,
          83239.29571990808,
          83364.70056823561,
          83489.82516709443,
          83614.66382189361,
          83739.21381688226,
          83863.46929545021,
          83987.42124671483,
          84111.05905516492,
          84234.38390721119,
          84357.40010577156,
          84480.10599695866,
          84602.49390168383,
          84724.55478650653,
          84846.29941436875,
          84967.73627984813,
          85088.8654072233,
          85209.67925646847,
          85330.18355646612,
          85450.39170549678,
          85570.30933035832,
          85689.93660814165,
          85809.27992866663,
          85928.35276723481,
          86047.16444890908,
          86165.72122900333,
          86284.03035288784,
          86402.10735093297,
          86519.96611638254,
          86637.61775355482,
          86755.07063131037,
          86872.33699423174,
          86989.43831632694,
          87106.39266340468,
          87223.21313673252,
          87339.9079844504,
          87456.49413554852,
          87572.99830494387,
          87689.43974679903,
          87805.83152413405,
          87922.18852611266,
          88038.53486518025,
          88154.88832698447,
          88271.26161730706,
          88387.66526678519,
          88504.11682654866,
          88620.6313321901,
          88737.21939521102,
          88853.88726447013,
          88970.64210939288,
          89087.499178777,
          89204.4695638331,
          89321.55810526355,
          89438.76339459758,
          89556.0881301441,
          89673.54597984078,
          89791.1422012081,
          89908.87456706108,
          90026.73909386911,
          90144.74326505499,
          90262.8892501862,
          90381.17410607914,
          90499.59154274469,
          90618.14243942576,
          90736.82716498134,
          90855.64158145887,
          90974.57718087283,
          91093.62455571892,
          91212.78378131463,
          91332.05246225838,
          91451.42188296502,
          91570.8770093684,
          91690.40371340253,
          91810.00209179467,
          91929.66477575319,
          92049.37679051711,
          92169.11918105352,
          92288.88516547429,
          92408.66460500324,
          92528.44190763062,
          92648.19726268518,
          92767.91707020655,
          92887.58939775552,
          93007.19770785265,
          93126.72103056102,
          93246.1361197301,
          93365.42907570773,
          93484.58558287246,
          93603.58507382438,
          93722.40072582009,
          93841.00445973885,
          93959.38536977852,
          94077.52865802737,
          94195.41316026055,
          94313.01363571273,
          94430.31770247384,
          94547.31387326047,
          94663.98630574642,
          94780.31587006689,
          94896.2894667551,
          95011.89953558653,
          95127.13544080482,
          95241.98354028582,
          95356.42835353556,
          95470.4642870778,
          95584.08933305737,
          95697.29664224989,
          95810.0744232808,
          95922.40873681527,
          96034.30212948557,
          96145.75622420499,
          96256.7658815489,
          96367.32071583193,
          96477.42113085356,
          96587.07159715843,
          96696.2717755832,
          96805.01764925929,
          96913.30900934694,
          97021.15333705227,
          97128.55521258428,
          97235.51605321183,
          97342.03464855878,
          97448.11785660572,
          97553.77861270258,
          97659.02514227123,
          97763.86059003702,
          97868.28445541908,
          97972.31096220248,
          98075.95688326473,
          98179.23182625875,
          98282.13942338066,
          98384.69112534804,
          98486.90577282706,
          98588.79704407103,
          98690.37470591345,
          98791.64989441971,
          98892.64314298637,
          98993.37254119359,
          99093.8528189162,
          99194.0955165987,
          99294.11745929731,
          99393.94279043454,
          99493.59034812929,
          99593.0727503123,
          99692.39697355685,
          99791.58099144883,
          99890.64806970824,
          99989.61310406469,
          100088.48373086895,
          100187.27098386659,
          100285.99555930114,
          100384.67198592698,
          100483.30982341093,
          100581.91703180248,
          100680.51077735133,
          100779.10605494771,
          100877.71343300519,
          100976.33914674337,
          101074.9919520502,
          101173.68995635728,
          101272.44689828104,
          101371.27039099866,
          101470.16205436584,
          101569.13134264789,
          101668.19685007757,
          101767.36899921451,
          101866.65107470531,
          101966.04651369454,
          102065.5710754549,
          102165.23498679837,
          102265.04351680633,
          102364.99899337447,
          102465.11270491079,
          102565.39570802664,
          102665.8545759487,
          102766.49156252814,
          102867.30933430168,
          102968.32120419553,
          103069.53747404787,
          103170.96240297238,
          103272.5942081332,
          103374.43545897935,
          103476.50131651184,
          103578.79924309379,
          103681.32967357122,
          103784.0906932483,
          103887.09367284519,
          103990.34607887949,
          104093.85023770393,
          104197.60460482862,
          104301.61544781689,
          104405.89104902421,
          104510.43515248387,
          104615.24718259736,
          104720.32526594892,
          104825.67839280453,
          104931.3143932282,
          105037.23507176526,
          105143.43622573017,
          105249.91359132546,
          105356.67961532838,
          105463.7425579563,
          105571.10152456086,
          105678.74667762424,
          105786.6784177511,
          105894.9100839708,
          106003.4444944325,
          106112.2755003879,
          106221.39701823378,
          106330.81884487445,
          106440.54356759682,
          106550.56790983601,
          106660.88633054851,
          106771.50359541154,
          106882.42207241825,
          106993.63983945422,
          107105.1510587619,
          107216.95449143284,
          107329.05469116403,
          107441.45181999382,
          107554.14120382137,
          107667.1137863517,
          107780.36878886959,
          107893.91310756642,
          108007.74635767612,
          108121.86018121401,
          108236.24002014882,
          108350.88880801617,
          108465.81358879819,
          108581.01049536663,
          108696.4654263458,
          108812.16894012828,
          108928.12817991024,
          109044.34016049202,
          109160.79452339701,
          109277.48087579303,
          109394.40042659939,
          109511.54897604129,
          109628.91761549813,
          109746.4927777441,
          109864.25755588347,
          109982.1926778939,
          110100.27578225122,
          110218.48138751728,
          110336.78457605772,
          110455.17218049458,
          110573.62989169302,
          110692.13804194459,
          110810.67160692104,
          110929.20815642047,
          111047.74201792528,
          111166.26078123024,
          111284.74550194283,
          111403.17495764022,
          111521.5420815767,
          111639.83721293282,
          111758.04671996219,
          111876.15447870272,
          111994.152544961,
          112112.03525750597,
          112229.79390015386,
          112347.41687849972,
          112464.89223347516,
          112582.21902363976,
          112699.39672427786,
          112816.419933044,
          112933.27836829475,
          113049.9619547016,
          113166.47767839379,
          113282.82813858833,
          113399.00944673517,
          113515.01378446109,
          113630.84658531344,
          113746.51349318102,
          113862.01583619339,
          113977.35174978022,
          114092.52583487952,
          114207.54761732045,
          114322.42353142031,
          114437.15702548358,
          114551.7498469306,
          114666.21386332328,
          114780.56420232773,
          114894.81105940737,
          115008.95960912766,
          115123.01286155403,
          115236.99082596209,
          115350.91229748061,
          115464.78842033044,
          115578.62380717587,
          115692.42493198052,
          115806.19747953191,
          115919.94212695508,
          116033.65511557144,
          116147.33606338524,
          116260.9910986562,
          116374.62264285854,
          116488.22922090416,
          116601.80603022623,
          116715.35573099708,
          116828.88620103699,
          116942.399791569,
          117055.89295961609,
          117169.35764644154,
          117282.79997724414,
          117396.22817431677,
          117509.6423447402,
          117623.03574402069,
          117736.40887701804,
          117849.7689947331,
          117963.1174150778,
          118076.45083918738,
          118189.76843384825,
          118303.07430067065
         ],
         "yaxis": "y"
        },
        {
         "hovertemplate": "year=%{x}<br>sum=%{y}<extra></extra>",
         "legendgroup": "",
         "marker": {
          "color": "red",
          "symbol": "circle"
         },
         "mode": "markers",
         "name": "",
         "orientation": "v",
         "showlegend": false,
         "type": "scatter",
         "x": [
          1950,
          1955,
          1960,
          1965,
          1970,
          1975,
          1980,
          1985,
          1990,
          1995,
          2000,
          2005,
          2010,
          2015,
          2020
         ],
         "xaxis": "x",
         "y": [
          33048,
          36573,
          41202,
          46429,
          51151,
          55114,
          59301,
          63986,
          72400,
          77723,
          84396,
          92325,
          102927,
          110929,
          119447
         ],
         "yaxis": "y"
        }
       ],
       "layout": {
        "template": {
         "data": {
          "bar": [
           {
            "error_x": {
             "color": "#2a3f5f"
            },
            "error_y": {
             "color": "#2a3f5f"
            },
            "marker": {
             "line": {
              "color": "#E5ECF6",
              "width": 0.5
             },
             "pattern": {
              "fillmode": "overlay",
              "size": 10,
              "solidity": 0.2
             }
            },
            "type": "bar"
           }
          ],
          "barpolar": [
           {
            "marker": {
             "line": {
              "color": "#E5ECF6",
              "width": 0.5
             },
             "pattern": {
              "fillmode": "overlay",
              "size": 10,
              "solidity": 0.2
             }
            },
            "type": "barpolar"
           }
          ],
          "carpet": [
           {
            "aaxis": {
             "endlinecolor": "#2a3f5f",
             "gridcolor": "white",
             "linecolor": "white",
             "minorgridcolor": "white",
             "startlinecolor": "#2a3f5f"
            },
            "baxis": {
             "endlinecolor": "#2a3f5f",
             "gridcolor": "white",
             "linecolor": "white",
             "minorgridcolor": "white",
             "startlinecolor": "#2a3f5f"
            },
            "type": "carpet"
           }
          ],
          "choropleth": [
           {
            "colorbar": {
             "outlinewidth": 0,
             "ticks": ""
            },
            "type": "choropleth"
           }
          ],
          "contour": [
           {
            "colorbar": {
             "outlinewidth": 0,
             "ticks": ""
            },
            "colorscale": [
             [
              0,
              "#0d0887"
             ],
             [
              0.1111111111111111,
              "#46039f"
             ],
             [
              0.2222222222222222,
              "#7201a8"
             ],
             [
              0.3333333333333333,
              "#9c179e"
             ],
             [
              0.4444444444444444,
              "#bd3786"
             ],
             [
              0.5555555555555556,
              "#d8576b"
             ],
             [
              0.6666666666666666,
              "#ed7953"
             ],
             [
              0.7777777777777778,
              "#fb9f3a"
             ],
             [
              0.8888888888888888,
              "#fdca26"
             ],
             [
              1,
              "#f0f921"
             ]
            ],
            "type": "contour"
           }
          ],
          "contourcarpet": [
           {
            "colorbar": {
             "outlinewidth": 0,
             "ticks": ""
            },
            "type": "contourcarpet"
           }
          ],
          "heatmap": [
           {
            "colorbar": {
             "outlinewidth": 0,
             "ticks": ""
            },
            "colorscale": [
             [
              0,
              "#0d0887"
             ],
             [
              0.1111111111111111,
              "#46039f"
             ],
             [
              0.2222222222222222,
              "#7201a8"
             ],
             [
              0.3333333333333333,
              "#9c179e"
             ],
             [
              0.4444444444444444,
              "#bd3786"
             ],
             [
              0.5555555555555556,
              "#d8576b"
             ],
             [
              0.6666666666666666,
              "#ed7953"
             ],
             [
              0.7777777777777778,
              "#fb9f3a"
             ],
             [
              0.8888888888888888,
              "#fdca26"
             ],
             [
              1,
              "#f0f921"
             ]
            ],
            "type": "heatmap"
           }
          ],
          "heatmapgl": [
           {
            "colorbar": {
             "outlinewidth": 0,
             "ticks": ""
            },
            "colorscale": [
             [
              0,
              "#0d0887"
             ],
             [
              0.1111111111111111,
              "#46039f"
             ],
             [
              0.2222222222222222,
              "#7201a8"
             ],
             [
              0.3333333333333333,
              "#9c179e"
             ],
             [
              0.4444444444444444,
              "#bd3786"
             ],
             [
              0.5555555555555556,
              "#d8576b"
             ],
             [
              0.6666666666666666,
              "#ed7953"
             ],
             [
              0.7777777777777778,
              "#fb9f3a"
             ],
             [
              0.8888888888888888,
              "#fdca26"
             ],
             [
              1,
              "#f0f921"
             ]
            ],
            "type": "heatmapgl"
           }
          ],
          "histogram": [
           {
            "marker": {
             "pattern": {
              "fillmode": "overlay",
              "size": 10,
              "solidity": 0.2
             }
            },
            "type": "histogram"
           }
          ],
          "histogram2d": [
           {
            "colorbar": {
             "outlinewidth": 0,
             "ticks": ""
            },
            "colorscale": [
             [
              0,
              "#0d0887"
             ],
             [
              0.1111111111111111,
              "#46039f"
             ],
             [
              0.2222222222222222,
              "#7201a8"
             ],
             [
              0.3333333333333333,
              "#9c179e"
             ],
             [
              0.4444444444444444,
              "#bd3786"
             ],
             [
              0.5555555555555556,
              "#d8576b"
             ],
             [
              0.6666666666666666,
              "#ed7953"
             ],
             [
              0.7777777777777778,
              "#fb9f3a"
             ],
             [
              0.8888888888888888,
              "#fdca26"
             ],
             [
              1,
              "#f0f921"
             ]
            ],
            "type": "histogram2d"
           }
          ],
          "histogram2dcontour": [
           {
            "colorbar": {
             "outlinewidth": 0,
             "ticks": ""
            },
            "colorscale": [
             [
              0,
              "#0d0887"
             ],
             [
              0.1111111111111111,
              "#46039f"
             ],
             [
              0.2222222222222222,
              "#7201a8"
             ],
             [
              0.3333333333333333,
              "#9c179e"
             ],
             [
              0.4444444444444444,
              "#bd3786"
             ],
             [
              0.5555555555555556,
              "#d8576b"
             ],
             [
              0.6666666666666666,
              "#ed7953"
             ],
             [
              0.7777777777777778,
              "#fb9f3a"
             ],
             [
              0.8888888888888888,
              "#fdca26"
             ],
             [
              1,
              "#f0f921"
             ]
            ],
            "type": "histogram2dcontour"
           }
          ],
          "mesh3d": [
           {
            "colorbar": {
             "outlinewidth": 0,
             "ticks": ""
            },
            "type": "mesh3d"
           }
          ],
          "parcoords": [
           {
            "line": {
             "colorbar": {
              "outlinewidth": 0,
              "ticks": ""
             }
            },
            "type": "parcoords"
           }
          ],
          "pie": [
           {
            "automargin": true,
            "type": "pie"
           }
          ],
          "scatter": [
           {
            "fillpattern": {
             "fillmode": "overlay",
             "size": 10,
             "solidity": 0.2
            },
            "type": "scatter"
           }
          ],
          "scatter3d": [
           {
            "line": {
             "colorbar": {
              "outlinewidth": 0,
              "ticks": ""
             }
            },
            "marker": {
             "colorbar": {
              "outlinewidth": 0,
              "ticks": ""
             }
            },
            "type": "scatter3d"
           }
          ],
          "scattercarpet": [
           {
            "marker": {
             "colorbar": {
              "outlinewidth": 0,
              "ticks": ""
             }
            },
            "type": "scattercarpet"
           }
          ],
          "scattergeo": [
           {
            "marker": {
             "colorbar": {
              "outlinewidth": 0,
              "ticks": ""
             }
            },
            "type": "scattergeo"
           }
          ],
          "scattergl": [
           {
            "marker": {
             "colorbar": {
              "outlinewidth": 0,
              "ticks": ""
             }
            },
            "type": "scattergl"
           }
          ],
          "scattermapbox": [
           {
            "marker": {
             "colorbar": {
              "outlinewidth": 0,
              "ticks": ""
             }
            },
            "type": "scattermapbox"
           }
          ],
          "scatterpolar": [
           {
            "marker": {
             "colorbar": {
              "outlinewidth": 0,
              "ticks": ""
             }
            },
            "type": "scatterpolar"
           }
          ],
          "scatterpolargl": [
           {
            "marker": {
             "colorbar": {
              "outlinewidth": 0,
              "ticks": ""
             }
            },
            "type": "scatterpolargl"
           }
          ],
          "scatterternary": [
           {
            "marker": {
             "colorbar": {
              "outlinewidth": 0,
              "ticks": ""
             }
            },
            "type": "scatterternary"
           }
          ],
          "surface": [
           {
            "colorbar": {
             "outlinewidth": 0,
             "ticks": ""
            },
            "colorscale": [
             [
              0,
              "#0d0887"
             ],
             [
              0.1111111111111111,
              "#46039f"
             ],
             [
              0.2222222222222222,
              "#7201a8"
             ],
             [
              0.3333333333333333,
              "#9c179e"
             ],
             [
              0.4444444444444444,
              "#bd3786"
             ],
             [
              0.5555555555555556,
              "#d8576b"
             ],
             [
              0.6666666666666666,
              "#ed7953"
             ],
             [
              0.7777777777777778,
              "#fb9f3a"
             ],
             [
              0.8888888888888888,
              "#fdca26"
             ],
             [
              1,
              "#f0f921"
             ]
            ],
            "type": "surface"
           }
          ],
          "table": [
           {
            "cells": {
             "fill": {
              "color": "#EBF0F8"
             },
             "line": {
              "color": "white"
             }
            },
            "header": {
             "fill": {
              "color": "#C8D4E3"
             },
             "line": {
              "color": "white"
             }
            },
            "type": "table"
           }
          ]
         },
         "layout": {
          "annotationdefaults": {
           "arrowcolor": "#2a3f5f",
           "arrowhead": 0,
           "arrowwidth": 1
          },
          "autotypenumbers": "strict",
          "coloraxis": {
           "colorbar": {
            "outlinewidth": 0,
            "ticks": ""
           }
          },
          "colorscale": {
           "diverging": [
            [
             0,
             "#8e0152"
            ],
            [
             0.1,
             "#c51b7d"
            ],
            [
             0.2,
             "#de77ae"
            ],
            [
             0.3,
             "#f1b6da"
            ],
            [
             0.4,
             "#fde0ef"
            ],
            [
             0.5,
             "#f7f7f7"
            ],
            [
             0.6,
             "#e6f5d0"
            ],
            [
             0.7,
             "#b8e186"
            ],
            [
             0.8,
             "#7fbc41"
            ],
            [
             0.9,
             "#4d9221"
            ],
            [
             1,
             "#276419"
            ]
           ],
           "sequential": [
            [
             0,
             "#0d0887"
            ],
            [
             0.1111111111111111,
             "#46039f"
            ],
            [
             0.2222222222222222,
             "#7201a8"
            ],
            [
             0.3333333333333333,
             "#9c179e"
            ],
            [
             0.4444444444444444,
             "#bd3786"
            ],
            [
             0.5555555555555556,
             "#d8576b"
            ],
            [
             0.6666666666666666,
             "#ed7953"
            ],
            [
             0.7777777777777778,
             "#fb9f3a"
            ],
            [
             0.8888888888888888,
             "#fdca26"
            ],
            [
             1,
             "#f0f921"
            ]
           ],
           "sequentialminus": [
            [
             0,
             "#0d0887"
            ],
            [
             0.1111111111111111,
             "#46039f"
            ],
            [
             0.2222222222222222,
             "#7201a8"
            ],
            [
             0.3333333333333333,
             "#9c179e"
            ],
            [
             0.4444444444444444,
             "#bd3786"
            ],
            [
             0.5555555555555556,
             "#d8576b"
            ],
            [
             0.6666666666666666,
             "#ed7953"
            ],
            [
             0.7777777777777778,
             "#fb9f3a"
            ],
            [
             0.8888888888888888,
             "#fdca26"
            ],
            [
             1,
             "#f0f921"
            ]
           ]
          },
          "colorway": [
           "#636efa",
           "#EF553B",
           "#00cc96",
           "#ab63fa",
           "#FFA15A",
           "#19d3f3",
           "#FF6692",
           "#B6E880",
           "#FF97FF",
           "#FECB52"
          ],
          "font": {
           "color": "#2a3f5f"
          },
          "geo": {
           "bgcolor": "white",
           "lakecolor": "white",
           "landcolor": "#E5ECF6",
           "showlakes": true,
           "showland": true,
           "subunitcolor": "white"
          },
          "hoverlabel": {
           "align": "left"
          },
          "hovermode": "closest",
          "mapbox": {
           "style": "light"
          },
          "paper_bgcolor": "white",
          "plot_bgcolor": "#E5ECF6",
          "polar": {
           "angularaxis": {
            "gridcolor": "white",
            "linecolor": "white",
            "ticks": ""
           },
           "bgcolor": "#E5ECF6",
           "radialaxis": {
            "gridcolor": "white",
            "linecolor": "white",
            "ticks": ""
           }
          },
          "scene": {
           "xaxis": {
            "backgroundcolor": "#E5ECF6",
            "gridcolor": "white",
            "gridwidth": 2,
            "linecolor": "white",
            "showbackground": true,
            "ticks": "",
            "zerolinecolor": "white"
           },
           "yaxis": {
            "backgroundcolor": "#E5ECF6",
            "gridcolor": "white",
            "gridwidth": 2,
            "linecolor": "white",
            "showbackground": true,
            "ticks": "",
            "zerolinecolor": "white"
           },
           "zaxis": {
            "backgroundcolor": "#E5ECF6",
            "gridcolor": "white",
            "gridwidth": 2,
            "linecolor": "white",
            "showbackground": true,
            "ticks": "",
            "zerolinecolor": "white"
           }
          },
          "shapedefaults": {
           "line": {
            "color": "#2a3f5f"
           }
          },
          "ternary": {
           "aaxis": {
            "gridcolor": "white",
            "linecolor": "white",
            "ticks": ""
           },
           "baxis": {
            "gridcolor": "white",
            "linecolor": "white",
            "ticks": ""
           },
           "bgcolor": "#E5ECF6",
           "caxis": {
            "gridcolor": "white",
            "linecolor": "white",
            "ticks": ""
           }
          },
          "title": {
           "x": 0.05
          },
          "xaxis": {
           "automargin": true,
           "gridcolor": "white",
           "linecolor": "white",
           "ticks": "",
           "title": {
            "standoff": 15
           },
           "zerolinecolor": "white",
           "zerolinewidth": 2
          },
          "yaxis": {
           "automargin": true,
           "gridcolor": "white",
           "linecolor": "white",
           "ticks": "",
           "title": {
            "standoff": 15
           },
           "zerolinecolor": "white",
           "zerolinewidth": 2
          }
         }
        },
        "title": {
         "text": "Modelled vs Data",
         "x": 0.5
        },
        "xaxis": {
         "title": {
          "text": "Year"
         }
        },
        "yaxis": {
         "title": {
          "text": "Population"
         }
        }
       }
      }
     },
     "metadata": {},
     "output_type": "display_data"
    }
   ],
   "source": [
    "project = get_project(\"tb_dynamics\", \"kiribati\")\n",
    "update_params = {'contact_rate': 0.002000099234094257,\n",
    " 'rr_infection_latent': 0.20144223241352158,\n",
    " 'rr_infection_recovered': 0.2028341387124968,\n",
    " 'start_population_size': 23000,\n",
    " 'time.start': 1800,\n",
    " 'time.end':2020}\n",
    "params = project.param_set.baseline.update(update_params, calibration_format=True)\n",
    "model_0 = project.run_baseline_model(params)\n",
    "df_0 = model_0.get_outputs_df()\n",
    "derived_df_0 = model_0.get_derived_outputs_df()\n",
    "total_pop = input_db.query(table_name=\"population\", conditions={\"iso3\": iso3})\n",
    "total_pop[\"age_bins\"] = find_agebins(total_pop[\"start_age\"], [0, 100], [\"Total\"])\n",
    "total_pop = total_pop.groupby([\"year\", \"age_bins\"])[\"population\"].agg([\"sum\"]).reset_index()\n",
    "fig2_1 = px.line(\n",
    "    derived_df_0,\n",
    "    x=derived_df_0.index,\n",
    "    y=\"total_population\",\n",
    ")\n",
    "fig2_2 = px.scatter(total_pop, x=\"year\", y=\"sum\")\n",
    "fig2_2.update_traces(marker=dict(color=\"red\"))\n",
    "fig2_3 = go.Figure(\n",
    "    data=fig2_1.data + fig2_2.data,\n",
    ")\n",
    "fig2_3.update_layout(\n",
    "    title=\"Modelled vs Data\", title_x=0.5, xaxis_title=\"Year\", yaxis_title=\"Population\"\n",
    ")\n",
    "fig2_3.show()"
   ]
  }
 ],
 "metadata": {
  "kernelspec": {
   "display_name": "Python 3.10.4 ('autumn')",
   "language": "python",
   "name": "python3"
  },
  "language_info": {
   "codemirror_mode": {
    "name": "ipython",
    "version": 3
   },
   "file_extension": ".py",
   "mimetype": "text/x-python",
   "name": "python",
   "nbconvert_exporter": "python",
   "pygments_lexer": "ipython3",
   "version": "3.10.0"
  },
  "orig_nbformat": 4,
  "vscode": {
   "interpreter": {
    "hash": "32546788be758822ecff2a88079b35480b7d02e1a3a7c2c2e0e8f52550974ab3"
   }
  }
 },
 "nbformat": 4,
 "nbformat_minor": 2
}
