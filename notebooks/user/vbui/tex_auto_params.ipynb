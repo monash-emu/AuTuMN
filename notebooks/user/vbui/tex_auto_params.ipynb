{
 "cells": [
  {
   "cell_type": "code",
   "execution_count": 1,
   "metadata": {},
   "outputs": [],
   "source": [
    "from autumn.core.utils.tex_tools import (\n",
    "    get_params_folder, \n",
    "    write_param_table_rows, \n",
    "    write_prior_table_rows,\n",
    ")\n",
    "\n",
    "from autumn.settings import Region, Models\n",
    "from autumn.core.project import get_project\n",
    "from autumn.core.utils.display import pretty_print"
   ]
  },
  {
   "cell_type": "code",
   "execution_count": 2,
   "metadata": {},
   "outputs": [],
   "source": [
    "model = Models.TBD\n",
    "region = Region.KIRIBATI\n",
    "project = get_project(model, region, reload=True)\n",
    "base_params = project.param_set.baseline"
   ]
  },
  {
   "cell_type": "code",
   "execution_count": 3,
   "metadata": {},
   "outputs": [
    {
     "name": "stdout",
     "output_type": "stream",
     "text": [
      "Params\n",
      "{ 'age_breakpoints': [0, 5, 15, 35, 50],\n",
      "  'age_mixing': {'age_adjust': True, 'source_iso3': 'FJI'},\n",
      "  'age_specific_latency': { 'early_activation': { 0: 0.0066,\n",
      "                                                  5: 0.0027,\n",
      "                                                  15: 0.00027},\n",
      "                            'late_activation': { 0: 1.9e-11,\n",
      "                                                 5: 6.4e-06,\n",
      "                                                 15: 3.3e-06},\n",
      "                            'stabilisation': {0: 0.012, 5: 0.012, 15: 0.0054}},\n",
      "  'contact_rate': 0.00178,\n",
      "  'crude_birth_rate': 1.0,\n",
      "  'crude_death_rate': 1.0,\n",
      "  'cumulative_start_time': 1950.0,\n",
      "  'description': None,\n",
      "  'infect_death_rate': 0.2,\n",
      "  'infectious_seed': 1.0,\n",
      "  'iso3': 'KIR',\n",
      "  'progression_multiplier': 1.0,\n",
      "  'rr_infection_latent': 0.21,\n",
      "  'rr_infection_recovered': 1.0,\n",
      "  'self_recovery_rate': 0.2,\n",
      "  'start_population_size': 33048.0,\n",
      "  'time': {'end': 2020.0, 'start': 1950.0, 'step': 0.1}}\n"
     ]
    }
   ],
   "source": [
    "pretty_print(base_params)"
   ]
  },
  {
   "cell_type": "code",
   "execution_count": 4,
   "metadata": {},
   "outputs": [
    {
     "ename": "AssertionError",
     "evalue": "Haven't indexed into single parameter",
     "output_type": "error",
     "traceback": [
      "\u001b[1;31m---------------------------------------------------------------------------\u001b[0m",
      "\u001b[1;31mAssertionError\u001b[0m                            Traceback (most recent call last)",
      "Cell \u001b[1;32mIn [4], line 7\u001b[0m\n\u001b[0;32m      1\u001b[0m selected_parameters \u001b[38;5;241m=\u001b[39m [\n\u001b[0;32m      2\u001b[0m     \u001b[38;5;124m\"\u001b[39m\u001b[38;5;124mstart_population_size\u001b[39m\u001b[38;5;124m\"\u001b[39m,\n\u001b[0;32m      3\u001b[0m     \u001b[38;5;124m\"\u001b[39m\u001b[38;5;124mage_specific_latency.early_activation\u001b[39m\u001b[38;5;124m\"\u001b[39m,\n\u001b[0;32m      4\u001b[0m     \u001b[38;5;124m\"\u001b[39m\u001b[38;5;124mage_specific_latency.early_stabilisation\u001b[39m\u001b[38;5;124m\"\u001b[39m,\n\u001b[0;32m      5\u001b[0m ]\n\u001b[0;32m      6\u001b[0m fixed_params_filename \u001b[38;5;241m=\u001b[39m get_params_folder(model, \u001b[38;5;124m\"\u001b[39m\u001b[38;5;124mkiribati\u001b[39m\u001b[38;5;124m\"\u001b[39m, region, \u001b[38;5;124m\"\u001b[39m\u001b[38;5;124mauto_fixed_params\u001b[39m\u001b[38;5;124m\"\u001b[39m)\n\u001b[1;32m----> 7\u001b[0m \u001b[43mwrite_param_table_rows\u001b[49m\u001b[43m(\u001b[49m\u001b[43mfixed_params_filename\u001b[49m\u001b[43m,\u001b[49m\u001b[43m \u001b[49m\u001b[43mproject\u001b[49m\u001b[43m,\u001b[49m\u001b[43m \u001b[49m\u001b[43mselected_parameters\u001b[49m\u001b[43m)\u001b[49m\n",
      "File \u001b[1;32mC:\\autumn\\autumn\\core\\utils\\tex_tools.py:160\u001b[0m, in \u001b[0;36mwrite_param_table_rows\u001b[1;34m(file_name, project, params_to_write, ignore_priors)\u001b[0m\n\u001b[0;32m    <a href='file:///c%3A/autumn/autumn/core/utils/tex_tools.py?line=157'>158</a>\u001b[0m     value \u001b[39m=\u001b[39m format_value_for_tex(get_with_nested_key(base_params, param))\n\u001b[0;32m    <a href='file:///c%3A/autumn/autumn/core/utils/tex_tools.py?line=158'>159</a>\u001b[0m     msg \u001b[39m=\u001b[39m \u001b[39m\"\u001b[39m\u001b[39mHaven\u001b[39m\u001b[39m'\u001b[39m\u001b[39mt indexed into single parameter\u001b[39m\u001b[39m\"\u001b[39m\n\u001b[1;32m--> <a href='file:///c%3A/autumn/autumn/core/utils/tex_tools.py?line=159'>160</a>\u001b[0m     \u001b[39massert\u001b[39;00m \u001b[39mnot\u001b[39;00m \u001b[39misinstance\u001b[39m(value, \u001b[39mdict\u001b[39m), msg\n\u001b[0;32m    <a href='file:///c%3A/autumn/autumn/core/utils/tex_tools.py?line=160'>161</a>\u001b[0m explanation \u001b[39m=\u001b[39m get_param_explanation(model_constants\u001b[39m.\u001b[39mPARAMETER_EVIDENCE, param)\n\u001b[0;32m    <a href='file:///c%3A/autumn/autumn/core/utils/tex_tools.py?line=162'>163</a>\u001b[0m line_end \u001b[39m=\u001b[39m get_line_end(i_param \u001b[39m==\u001b[39m \u001b[39mlen\u001b[39m(params_to_write) \u001b[39m-\u001b[39m \u001b[39m1\u001b[39m)\n",
      "\u001b[1;31mAssertionError\u001b[0m: Haven't indexed into single parameter"
     ]
    }
   ],
   "source": [
    "selected_parameters = [\n",
    "    \"start_population_size\",\n",
    "    \"age_specific_latency.early_activation\",\n",
    "    \"age_specific_latency.early_stabilisation\",\n",
    "]\n",
    "fixed_params_filename = get_params_folder(model, \"kiribati\", region, \"auto_fixed_params\")\n",
    "write_param_table_rows(fixed_params_filename, project, selected_parameters)"
   ]
  }
 ],
 "metadata": {
  "interpreter": {
   "hash": "d457940a8963e942bcd46e9b7d5a81b6c7b3586f948c4ae333b2381b8f1d6e9c"
  },
  "kernelspec": {
   "display_name": "Python 3.10.0 ('autumn')",
   "language": "python",
   "name": "python3"
  },
  "language_info": {
   "codemirror_mode": {
    "name": "ipython",
    "version": 3
   },
   "file_extension": ".py",
   "mimetype": "text/x-python",
   "name": "python",
   "nbconvert_exporter": "python",
   "pygments_lexer": "ipython3",
   "version": "3.10.0"
  },
  "orig_nbformat": 4
 },
 "nbformat": 4,
 "nbformat_minor": 2
}
