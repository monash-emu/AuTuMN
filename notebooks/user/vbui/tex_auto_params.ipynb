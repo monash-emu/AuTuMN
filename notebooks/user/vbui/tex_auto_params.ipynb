{
 "cells": [
  {
   "cell_type": "code",
   "execution_count": 1,
   "metadata": {},
   "outputs": [],
   "source": [
    "from autumn.core.utils.tex_tools import (\n",
    "    get_params_folder, \n",
    "    write_param_table_rows, \n",
    "    write_prior_table_rows,\n",
    ")\n",
    "\n",
    "from autumn.settings import Region, Models\n",
    "from autumn.core.project import get_project\n",
    "from autumn.core.utils.display import pretty_print"
   ]
  },
  {
   "cell_type": "code",
   "execution_count": 2,
   "metadata": {},
   "outputs": [],
   "source": [
    "model = Models.TBD\n",
    "region = Region.KIRIBATI\n",
    "project = get_project(model, region, reload=True)\n",
    "base_params = project.param_set.baseline"
   ]
  },
  {
   "cell_type": "code",
   "execution_count": 3,
   "metadata": {},
   "outputs": [
    {
     "name": "stdout",
     "output_type": "stream",
     "text": [
      "Params\n",
      "{ 'age_breakpoints': [0, 5, 15, 35, 50],\n",
      "  'age_mixing': {'age_adjust': True, 'source_iso3': 'FJI'},\n",
      "  'age_specific_latency': { 'early_activation': { 0: 0.0066,\n",
      "                                                  5: 0.0027,\n",
      "                                                  15: 0.00027},\n",
      "                            'late_activation': { 0: 1.9e-11,\n",
      "                                                 5: 6.4e-06,\n",
      "                                                 15: 3.3e-06},\n",
      "                            'stabilisation': {0: 0.012, 5: 0.012, 15: 0.0054}},\n",
      "  'contact_rate': 0.00178,\n",
      "  'crude_birth_rate': 1.0,\n",
      "  'crude_death_rate': 1.0,\n",
      "  'cumulative_start_time': 1950.0,\n",
      "  'description': None,\n",
      "  'infect_death_rate': 0.2,\n",
      "  'infectious_seed': 1.0,\n",
      "  'iso3': 'KIR',\n",
      "  'progression_multiplier': 1.0,\n",
      "  'rr_infection_latent': 0.21,\n",
      "  'rr_infection_recovered': 1.0,\n",
      "  'self_recovery_rate': 0.2,\n",
      "  'start_population_size': 33048.0,\n",
      "  'time': {'end': 2020.0, 'start': 1950.0, 'step': 0.1}}\n"
     ]
    }
   ],
   "source": [
    "pretty_print(base_params)"
   ]
  },
  {
   "cell_type": "code",
   "execution_count": 4,
   "metadata": {},
   "outputs": [],
   "source": [
    "selected_parameters = [\n",
    "    \"start_population_size\",\n",
    "    \"age_specific_latency.early_activation\",\n",
    "    \"age_specific_latency.early_stabilisation\",\n",
    "]\n",
    "fixed_params_filename = get_params_folder(model, \"kiribati\", region, \"auto_fixed_params\")\n",
    "write_param_table_rows(fixed_params_filename, project, selected_parameters)"
   ]
  }
 ],
 "metadata": {
  "interpreter": {
   "hash": "d457940a8963e942bcd46e9b7d5a81b6c7b3586f948c4ae333b2381b8f1d6e9c"
  },
  "kernelspec": {
   "display_name": "Python 3.10.0 ('autumn')",
   "language": "python",
   "name": "python3"
  },
  "language_info": {
   "codemirror_mode": {
    "name": "ipython",
    "version": 3
   },
   "file_extension": ".py",
   "mimetype": "text/x-python",
   "name": "python",
   "nbconvert_exporter": "python",
   "pygments_lexer": "ipython3",
   "version": "3.10.0"
  },
  "orig_nbformat": 4
 },
 "nbformat": 4,
 "nbformat_minor": 2
}
