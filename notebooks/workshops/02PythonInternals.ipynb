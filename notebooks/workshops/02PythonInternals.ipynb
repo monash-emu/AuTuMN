{
 "cells": [
  {
   "cell_type": "markdown",
   "id": "characteristic-partition",
   "metadata": {},
   "source": [
    "# Python Internals\n"
   ]
  },
  {
   "cell_type": "markdown",
   "id": "induced-miami",
   "metadata": {},
   "source": [
    "## Asking for an address is not the same as asking for a house"
   ]
  },
  {
   "cell_type": "code",
   "execution_count": 1,
   "id": "wrong-statement",
   "metadata": {},
   "outputs": [
    {
     "data": {
      "text/plain": [
       "'32 Lark Lane'"
      ]
     },
     "execution_count": 1,
     "metadata": {},
     "output_type": "execute_result"
    }
   ],
   "source": [
    "davids_address = \"32 Lark Lane\"\n",
    "\n",
    "davids_address"
   ]
  },
  {
   "cell_type": "code",
   "execution_count": 2,
   "id": "lasting-toolbox",
   "metadata": {},
   "outputs": [
    {
     "data": {
      "text/plain": [
       "{'david': '32 Lark Lane'}"
      ]
     },
     "execution_count": 2,
     "metadata": {},
     "output_type": "execute_result"
    }
   ],
   "source": [
    "# I've given you my address, and you've written it down in your address book...\n",
    "\n",
    "address_book = {\n",
    "    'david': davids_address\n",
    "}\n",
    "\n",
    "address_book"
   ]
  },
  {
   "cell_type": "code",
   "execution_count": 3,
   "id": "responsible-stocks",
   "metadata": {},
   "outputs": [
    {
     "data": {
      "text/plain": [
       "32 Lark Lane : ['David', 'Jeremy (the mouse)']"
      ]
     },
     "execution_count": 3,
     "metadata": {},
     "output_type": "execute_result"
    }
   ],
   "source": [
    "class House:\n",
    "    def __init__(self, address, occupants, contents):\n",
    "        self.address = address\n",
    "        self.occupants = occupants\n",
    "        self.contents = contents\n",
    "        \n",
    "    def __repr__(self):\n",
    "        return self.address + ' : ' + str(self.occupants)\n",
    "        \n",
    "# I live with a mouse\n",
    "davids_house = House(davids_address, [\"David\", \"Jeremy (the mouse)\"], ['A bronze horse sculpture', 'A beachball'])\n",
    "davids_house"
   ]
  },
  {
   "cell_type": "code",
   "execution_count": 4,
   "id": "artificial-universal",
   "metadata": {},
   "outputs": [
    {
     "data": {
      "text/plain": [
       "'32 Lark Lane'"
      ]
     },
     "execution_count": 4,
     "metadata": {},
     "output_type": "execute_result"
    }
   ],
   "source": [
    "# Your address book contains my address.  Not my house.  It wouldn't fit, and it's hard to copy houses.\n",
    "\n",
    "address_book['david']"
   ]
  },
  {
   "cell_type": "markdown",
   "id": "chronic-shelter",
   "metadata": {},
   "source": [
    "## A brief primer on C\n",
    "\n",
    "Python shares many syntactic similarities to C, and the reference implementation of Python\n",
    "(ie what you get when you download and install Python) is CPython - Python written in C.\n",
    "\n",
    "The C language has basic datatypes similar to Python (int, float etc).  There are differences, but they represent conceptually the same kinds of values.\n",
    "\n",
    "In addition, C has \"pointers\", indicated by the * symbol - these do _not_ contain the underlying data, but rather the _address_ of the data\n",
    "\n",
    "You must manually specify all types (including pointer types) in C\n",
    "\n",
    "Understanding a little about pointers explains a lot of what happens in Python"
   ]
  },
  {
   "cell_type": "raw",
   "id": "geographic-borough",
   "metadata": {},
   "source": [
    "/*   Pass by value only\n",
    "* Does effectively nothing - creates a local variable x, that contains the value of the first\n",
    "* argument, then sets that local variable to 1.1\n",
    "* Nothing is returned - nothing changes outside of the function (there are no side effects)\n",
    "*/\n",
    "\n",
    "void\n",
    "value_function(float x) {\n",
    "    x = 1.1;\n",
    "}\n",
    "\n",
    "/*   Pass a pointer\n",
    "* A pointer to a float is passed in as an argument\n",
    "* This pointer is dereferenced (ie its address is looked up, so we are now\n",
    "* operating on the underlying data), and the data pointed to by x is changed\n",
    "* This change is visible outside of the function (there are side effects)\n",
    "*/\n",
    "\n",
    "void\n",
    "pointer_function(float *x) {\n",
    "    *x = 1.1;\n",
    "}\n",
    "\n",
    "/*\n",
    "* Pointers also represent arrays.  In C, arrays are stored contiguously in memory,\n",
    "* so offsets are equivalent to indexes into the array\n",
    "*/\n",
    "\n",
    "void\n",
    "pointer_array_function(float *x) {\n",
    "\n",
    "    /* Does the same thing as the function above */\n",
    "    x[0] = 1.1;\n",
    "    \n",
    "    /* Indexes into the array from the pointer (the address at 'x + sizeof(float) * index') */\n",
    "    x[5] = 2.2\n",
    "}\n",
    "\n"
   ]
  },
  {
   "cell_type": "markdown",
   "id": "fewer-athletics",
   "metadata": {},
   "source": [
    "# Back to Python"
   ]
  },
  {
   "cell_type": "code",
   "execution_count": 5,
   "id": "needed-cigarette",
   "metadata": {},
   "outputs": [],
   "source": [
    "# Nearly everything in Python is really a _pointer_, not a value\n",
    "# That is, we are not moving data around in memory, or making copies - \n",
    "# we are simply giving out addresses"
   ]
  },
  {
   "cell_type": "code",
   "execution_count": 6,
   "id": "continuous-howard",
   "metadata": {},
   "outputs": [],
   "source": [
    "a = ['shoes', 'bats', 'wheels']\n",
    "b = ['red', 'green', 'shocking pink']"
   ]
  },
  {
   "cell_type": "code",
   "execution_count": 7,
   "id": "ancient-retention",
   "metadata": {},
   "outputs": [
    {
     "data": {
      "text/plain": [
       "{'__name__': '__main__',\n",
       " '__doc__': 'Automatically created module for IPython interactive environment',\n",
       " '__package__': None,\n",
       " '__loader__': None,\n",
       " '__spec__': None,\n",
       " '__builtin__': <module 'builtins' (built-in)>,\n",
       " '__builtins__': <module 'builtins' (built-in)>,\n",
       " '_ih': ['',\n",
       "  'davids_address = \"32 Lark Lane\"\\n\\ndavids_address',\n",
       "  \"# I've given you my address, and you've written it down in your address book...\\n\\naddress_book = {\\n    'david': davids_address\\n}\\n\\naddress_book\",\n",
       "  'class House:\\n    def __init__(self, address, occupants, contents):\\n        self.address = address\\n        self.occupants = occupants\\n        self.contents = contents\\n        \\n    def __repr__(self):\\n        return self.address + \\' : \\' + str(self.occupants)\\n        \\n# I live with a mouse\\ndavids_house = House(davids_address, [\"David\", \"Jeremy (the mouse)\"], [\\'A bronze horse sculpture\\', \\'A beachball\\'])\\ndavids_house',\n",
       "  \"# Your address book contains my address.  Not my house.  It wouldn't fit, and it's hard to copy houses.\\n\\naddress_book['david']\",\n",
       "  '# Nearly everything in Python is really a _pointer_, not a value\\n# That is, we are not moving data around in memory, or making copies - \\n# we are simply giving out addresses',\n",
       "  \"a = ['shoes', 'bats', 'wheels']\\nb = ['red', 'green', 'shocking pink']\",\n",
       "  \"# The names a and b are 'identifiers'\\n# Identifiers are really just entries in an address book, which Python neatly has a builtin datatype for; the dict\\n# At the top level, these are stored as 'globals', which can be seen anywhere\\n# At other scope (inside functions), they are stored as locals\\n\\nglobals()\"],\n",
       " '_oh': {1: '32 Lark Lane',\n",
       "  2: {'david': '32 Lark Lane'},\n",
       "  3: 32 Lark Lane : ['David', 'Jeremy (the mouse)'],\n",
       "  4: '32 Lark Lane'},\n",
       " '_dh': ['C:\\\\dev\\\\EMU\\\\AuTuMN\\\\notebooks\\\\workshops'],\n",
       " 'In': ['',\n",
       "  'davids_address = \"32 Lark Lane\"\\n\\ndavids_address',\n",
       "  \"# I've given you my address, and you've written it down in your address book...\\n\\naddress_book = {\\n    'david': davids_address\\n}\\n\\naddress_book\",\n",
       "  'class House:\\n    def __init__(self, address, occupants, contents):\\n        self.address = address\\n        self.occupants = occupants\\n        self.contents = contents\\n        \\n    def __repr__(self):\\n        return self.address + \\' : \\' + str(self.occupants)\\n        \\n# I live with a mouse\\ndavids_house = House(davids_address, [\"David\", \"Jeremy (the mouse)\"], [\\'A bronze horse sculpture\\', \\'A beachball\\'])\\ndavids_house',\n",
       "  \"# Your address book contains my address.  Not my house.  It wouldn't fit, and it's hard to copy houses.\\n\\naddress_book['david']\",\n",
       "  '# Nearly everything in Python is really a _pointer_, not a value\\n# That is, we are not moving data around in memory, or making copies - \\n# we are simply giving out addresses',\n",
       "  \"a = ['shoes', 'bats', 'wheels']\\nb = ['red', 'green', 'shocking pink']\",\n",
       "  \"# The names a and b are 'identifiers'\\n# Identifiers are really just entries in an address book, which Python neatly has a builtin datatype for; the dict\\n# At the top level, these are stored as 'globals', which can be seen anywhere\\n# At other scope (inside functions), they are stored as locals\\n\\nglobals()\"],\n",
       " 'Out': {1: '32 Lark Lane',\n",
       "  2: {'david': '32 Lark Lane'},\n",
       "  3: 32 Lark Lane : ['David', 'Jeremy (the mouse)'],\n",
       "  4: '32 Lark Lane'},\n",
       " 'get_ipython': <bound method InteractiveShell.get_ipython of <ipykernel.zmqshell.ZMQInteractiveShell object at 0x00000219605EDF98>>,\n",
       " 'exit': <IPython.core.autocall.ZMQExitAutocall at 0x2196066ff98>,\n",
       " 'quit': <IPython.core.autocall.ZMQExitAutocall at 0x2196066ff98>,\n",
       " '_': '32 Lark Lane',\n",
       " '__': 32 Lark Lane : ['David', 'Jeremy (the mouse)'],\n",
       " '___': {'david': '32 Lark Lane'},\n",
       " '_i': \"a = ['shoes', 'bats', 'wheels']\\nb = ['red', 'green', 'shocking pink']\",\n",
       " '_ii': '# Nearly everything in Python is really a _pointer_, not a value\\n# That is, we are not moving data around in memory, or making copies - \\n# we are simply giving out addresses',\n",
       " '_iii': \"# Your address book contains my address.  Not my house.  It wouldn't fit, and it's hard to copy houses.\\n\\naddress_book['david']\",\n",
       " '_i1': 'davids_address = \"32 Lark Lane\"\\n\\ndavids_address',\n",
       " 'davids_address': '32 Lark Lane',\n",
       " '_1': '32 Lark Lane',\n",
       " '_i2': \"# I've given you my address, and you've written it down in your address book...\\n\\naddress_book = {\\n    'david': davids_address\\n}\\n\\naddress_book\",\n",
       " 'address_book': {'david': '32 Lark Lane'},\n",
       " '_2': {'david': '32 Lark Lane'},\n",
       " '_i3': 'class House:\\n    def __init__(self, address, occupants, contents):\\n        self.address = address\\n        self.occupants = occupants\\n        self.contents = contents\\n        \\n    def __repr__(self):\\n        return self.address + \\' : \\' + str(self.occupants)\\n        \\n# I live with a mouse\\ndavids_house = House(davids_address, [\"David\", \"Jeremy (the mouse)\"], [\\'A bronze horse sculpture\\', \\'A beachball\\'])\\ndavids_house',\n",
       " 'House': __main__.House,\n",
       " 'davids_house': 32 Lark Lane : ['David', 'Jeremy (the mouse)'],\n",
       " '_3': 32 Lark Lane : ['David', 'Jeremy (the mouse)'],\n",
       " '_i4': \"# Your address book contains my address.  Not my house.  It wouldn't fit, and it's hard to copy houses.\\n\\naddress_book['david']\",\n",
       " '_4': '32 Lark Lane',\n",
       " '_i5': '# Nearly everything in Python is really a _pointer_, not a value\\n# That is, we are not moving data around in memory, or making copies - \\n# we are simply giving out addresses',\n",
       " '_i6': \"a = ['shoes', 'bats', 'wheels']\\nb = ['red', 'green', 'shocking pink']\",\n",
       " 'a': ['shoes', 'bats', 'wheels'],\n",
       " 'b': ['red', 'green', 'shocking pink'],\n",
       " '_i7': \"# The names a and b are 'identifiers'\\n# Identifiers are really just entries in an address book, which Python neatly has a builtin datatype for; the dict\\n# At the top level, these are stored as 'globals', which can be seen anywhere\\n# At other scope (inside functions), they are stored as locals\\n\\nglobals()\"}"
      ]
     },
     "execution_count": 7,
     "metadata": {},
     "output_type": "execute_result"
    }
   ],
   "source": [
    "# The names a and b are 'identifiers'\n",
    "# Identifiers are really just entries in an address book, which Python neatly has a builtin datatype for; the dict\n",
    "# At the top level, these are stored as 'globals', which can be seen anywhere\n",
    "# At other scope (inside functions), they are stored as locals\n",
    "\n",
    "globals()"
   ]
  },
  {
   "cell_type": "code",
   "execution_count": 8,
   "id": "dental-bulgarian",
   "metadata": {},
   "outputs": [
    {
     "name": "stdout",
     "output_type": "stream",
     "text": [
      "{'y': 123, 'x': ['shoes', 'bats', 'wheels']}\n"
     ]
    }
   ],
   "source": [
    "def see_locals(x):\n",
    "    y = 123\n",
    "    print(locals())\n",
    "\n",
    "see_locals(a)"
   ]
  },
  {
   "cell_type": "code",
   "execution_count": 9,
   "id": "manual-flour",
   "metadata": {},
   "outputs": [
    {
     "data": {
      "text/plain": [
       "([5], [5])"
      ]
     },
     "execution_count": 9,
     "metadata": {},
     "output_type": "execute_result"
    }
   ],
   "source": [
    "# When a line of code is parsed by the Python interpreter (right to left) it looks up entries in the address book, and \n",
    "# possibly creates new ones\n",
    "\n",
    "a = 5  # Take the integer literal 5, add an 'a' entry to the address book whose value is 5\n",
    "a = [a] # Create a new list; look up 'a', and place it in the list;  update 'a' to point to this new list\n",
    "\n",
    "b = a # Look up a (which is a list);  update 'b' to refer to this list\n",
    "\n",
    "a,b"
   ]
  },
  {
   "cell_type": "code",
   "execution_count": 10,
   "id": "classical-eugene",
   "metadata": {},
   "outputs": [
    {
     "data": {
      "text/plain": [
       "True"
      ]
     },
     "execution_count": 10,
     "metadata": {},
     "output_type": "execute_result"
    }
   ],
   "source": [
    "# These are equal to other (which is what you'd expect)\n",
    "\n",
    "a == b"
   ]
  },
  {
   "cell_type": "code",
   "execution_count": 11,
   "id": "sought-vampire",
   "metadata": {},
   "outputs": [
    {
     "data": {
      "text/plain": [
       "True"
      ]
     },
     "execution_count": 11,
     "metadata": {},
     "output_type": "execute_result"
    }
   ],
   "source": [
    "# But they're not just equal... a _is_ b\n",
    "\n",
    "a is b"
   ]
  },
  {
   "cell_type": "code",
   "execution_count": 12,
   "id": "solar-antibody",
   "metadata": {},
   "outputs": [
    {
     "data": {
      "text/plain": [
       "(True, False)"
      ]
     },
     "execution_count": 12,
     "metadata": {},
     "output_type": "execute_result"
    }
   ],
   "source": [
    "# Things can be equal, but not be the same object\n",
    "\n",
    "c = [0,1,2]\n",
    "d = [0,1,2]\n",
    "\n",
    "c == d, c is d"
   ]
  },
  {
   "cell_type": "code",
   "execution_count": 13,
   "id": "convinced-glance",
   "metadata": {},
   "outputs": [
    {
     "data": {
      "text/plain": [
       "False"
      ]
     },
     "execution_count": 13,
     "metadata": {},
     "output_type": "execute_result"
    }
   ],
   "source": [
    "d.append(3)\n",
    "c == d"
   ]
  },
  {
   "cell_type": "code",
   "execution_count": 14,
   "id": "homeless-colleague",
   "metadata": {},
   "outputs": [
    {
     "data": {
      "text/plain": [
       "([5], [5])"
      ]
     },
     "execution_count": 14,
     "metadata": {},
     "output_type": "execute_result"
    }
   ],
   "source": [
    "a, b"
   ]
  },
  {
   "cell_type": "code",
   "execution_count": 15,
   "id": "permanent-petroleum",
   "metadata": {},
   "outputs": [
    {
     "data": {
      "text/plain": [
       "([5, 7], [5, 7])"
      ]
     },
     "execution_count": 15,
     "metadata": {},
     "output_type": "execute_result"
    }
   ],
   "source": [
    "# In this example, we might say we're appending to a...\n",
    "\n",
    "a.append(7)\n",
    "\n",
    "#... but really, we're appending to the object that is referred to by a\n",
    "# (ie the object we get when we look up a in the address book)\n",
    "# This is the same object we'd get when we look up b; 'a' and 'b' really contain the addresses of the objects (pointers)\n",
    "# not the objects themselves\n",
    "\n",
    "a, b"
   ]
  },
  {
   "cell_type": "code",
   "execution_count": 16,
   "id": "devoted-jefferson",
   "metadata": {},
   "outputs": [
    {
     "data": {
      "text/plain": [
       "[5, 7, [...]]"
      ]
     },
     "execution_count": 16,
     "metadata": {},
     "output_type": "execute_result"
    }
   ],
   "source": [
    "# What will happen here?\n",
    "\n",
    "a.append(a)\n",
    "\n",
    "a"
   ]
  },
  {
   "cell_type": "code",
   "execution_count": 17,
   "id": "fifth-residence",
   "metadata": {},
   "outputs": [
    {
     "data": {
      "text/plain": [
       "True"
      ]
     },
     "execution_count": 17,
     "metadata": {},
     "output_type": "execute_result"
    }
   ],
   "source": [
    "a[2] is a"
   ]
  },
  {
   "cell_type": "code",
   "execution_count": 18,
   "id": "caroline-nashville",
   "metadata": {},
   "outputs": [],
   "source": [
    "# There are some inconsistencies... Python _nearly_ always behaves like it's using pointers, but basic datatypes like\n",
    "# int, float and str don't quite work like this...  they really do store the _value_\n",
    "# This is largely for efficiency"
   ]
  },
  {
   "cell_type": "code",
   "execution_count": 19,
   "id": "coastal-checkout",
   "metadata": {},
   "outputs": [
    {
     "data": {
      "text/plain": [
       "(6.1, 5.1)"
      ]
     },
     "execution_count": 19,
     "metadata": {},
     "output_type": "execute_result"
    }
   ],
   "source": [
    "f = 5.1\n",
    "g = f\n",
    "\n",
    "# Looks up f, which really is a floating point number, adds 1.0, updates the entry for f in the symbol table\n",
    "f += 1.0\n",
    "\n",
    "f,g"
   ]
  },
  {
   "cell_type": "code",
   "execution_count": 20,
   "id": "formed-modeling",
   "metadata": {},
   "outputs": [
    {
     "data": {
      "text/plain": [
       "([1, 2], [1, 2])"
      ]
     },
     "execution_count": 20,
     "metadata": {},
     "output_type": "execute_result"
    }
   ],
   "source": [
    "h = [1]\n",
    "i = h\n",
    "\n",
    "# Calls the append method directly on our list\n",
    "h += [2]\n",
    "\n",
    "\n",
    "# h and i both still point to the same object\n",
    "h, i"
   ]
  },
  {
   "cell_type": "code",
   "execution_count": 21,
   "id": "oriental-stock",
   "metadata": {},
   "outputs": [
    {
     "data": {
      "text/plain": [
       "(True, False)"
      ]
     },
     "execution_count": 21,
     "metadata": {},
     "output_type": "execute_result"
    }
   ],
   "source": [
    "# If you really want a copy of something (instead of pointer to it), you can call... copy\n",
    "# Most standard python objects have a copy method, and there is a copy module for cases where this is not the case\n",
    "\n",
    "j = h.copy()\n",
    "\n",
    "j == h, j is h"
   ]
  },
  {
   "cell_type": "code",
   "execution_count": 22,
   "id": "durable-handle",
   "metadata": {},
   "outputs": [
    {
     "name": "stdout",
     "output_type": "stream",
     "text": [
      "[{'x': 12.1, 'y': 17.2}] [{'x': 12.1, 'y': 17.2}, 3]\n",
      "[{'x': 12.1, 'y': 17.2, 'z': 31.1}] [{'x': 12.1, 'y': 17.2, 'z': 31.1}, 3]\n"
     ]
    }
   ],
   "source": [
    "# However, copy only goes one layer down - consider the following\n",
    "\n",
    "a = dict(x = 12.1, y = 17.2)\n",
    "b = [a]\n",
    "\n",
    "c = b.copy()\n",
    "\n",
    "c.append(3)\n",
    "\n",
    "print(b, c)\n",
    "\n",
    "a[\"z\"] = 31.1 \n",
    "\n",
    "print(b, c)"
   ]
  },
  {
   "cell_type": "code",
   "execution_count": 23,
   "id": "missing-highway",
   "metadata": {},
   "outputs": [],
   "source": [
    "# you can use deepcopy for these situations\n",
    "# from copy import deepcopy"
   ]
  },
  {
   "cell_type": "markdown",
   "id": "tough-waste",
   "metadata": {},
   "source": [
    "# Numpy arrays (hint: they're C arrays)"
   ]
  },
  {
   "cell_type": "code",
   "execution_count": 24,
   "id": "further-diagram",
   "metadata": {},
   "outputs": [],
   "source": [
    "# Numpy is much more like pure C than the Python standard libraries.\n",
    "# This is why it's fast!"
   ]
  },
  {
   "cell_type": "code",
   "execution_count": 25,
   "id": "personalized-divide",
   "metadata": {},
   "outputs": [
    {
     "data": {
      "text/plain": [
       "array([0. , 0.1, 0.2, 0.3, 0.4, 0.5, 0.6, 0.7, 0.8, 0.9, 1. ])"
      ]
     },
     "execution_count": 25,
     "metadata": {},
     "output_type": "execute_result"
    }
   ],
   "source": [
    "import numpy as np\n",
    "\n",
    "x = np.linspace(0,1.0, 11)\n",
    "\n",
    "x"
   ]
  },
  {
   "cell_type": "code",
   "execution_count": 26,
   "id": "oriented-timer",
   "metadata": {},
   "outputs": [
    {
     "data": {
      "text/plain": [
       "  C_CONTIGUOUS : True\n",
       "  F_CONTIGUOUS : True\n",
       "  OWNDATA : False\n",
       "  WRITEABLE : True\n",
       "  ALIGNED : True\n",
       "  WRITEBACKIFCOPY : False\n",
       "  UPDATEIFCOPY : False"
      ]
     },
     "execution_count": 26,
     "metadata": {},
     "output_type": "execute_result"
    }
   ],
   "source": [
    "# Numpy arrays are Python wrappers around actual C arrays\n",
    "# That means they are stored in order, can be passed to C functions etc\n",
    "\n",
    "x.flags"
   ]
  },
  {
   "cell_type": "code",
   "execution_count": 27,
   "id": "competitive-mortality",
   "metadata": {},
   "outputs": [
    {
     "data": {
      "text/plain": [
       "2308006670784"
      ]
     },
     "execution_count": 27,
     "metadata": {},
     "output_type": "execute_result"
    }
   ],
   "source": [
    "# We can look at the real underlying address in memory:\n",
    "\n",
    "x.ctypes.data"
   ]
  },
  {
   "cell_type": "code",
   "execution_count": 28,
   "id": "contained-serum",
   "metadata": {},
   "outputs": [
    {
     "data": {
      "text/plain": [
       "array([0. , 0.1, 0.2, 0.3, 0.4, 3. , 3. , 3. , 3. , 3. , 3. ])"
      ]
     },
     "execution_count": 28,
     "metadata": {},
     "output_type": "execute_result"
    }
   ],
   "source": [
    "# Numpy tries really really hard not to copy data, only pointers (and some indexing information)\n",
    "\n",
    "# y is a pointer into x\n",
    "y = x[5:]\n",
    "\n",
    "y[:] = 3.0\n",
    "\n",
    "x"
   ]
  },
  {
   "cell_type": "code",
   "execution_count": 29,
   "id": "combined-angola",
   "metadata": {},
   "outputs": [
    {
     "data": {
      "text/plain": [
       "2308006670784"
      ]
     },
     "execution_count": 29,
     "metadata": {},
     "output_type": "execute_result"
    }
   ],
   "source": [
    "x.ctypes.data"
   ]
  },
  {
   "cell_type": "code",
   "execution_count": 30,
   "id": "ecological-provider",
   "metadata": {},
   "outputs": [
    {
     "name": "stdout",
     "output_type": "stream",
     "text": [
      "0.0\n",
      "10.0 [0.  0.1 0.2 0.3 0.4 3.  3.  3.  3.  3.  3. ]\n"
     ]
    }
   ],
   "source": [
    "# Remember, while arrays are views into memory, basic python datatypes still operate as values, not real pointers\n",
    "\n",
    "z = x[0]\n",
    "print(z)\n",
    "z = 10.0  # The z identifier is updated, but it is not referring to any part of our array\n",
    "print(z, x)"
   ]
  },
  {
   "cell_type": "code",
   "execution_count": 31,
   "id": "clean-surface",
   "metadata": {},
   "outputs": [
    {
     "name": "stdout",
     "output_type": "stream",
     "text": [
      "[0.]\n",
      "[10.   0.1  0.2  0.3  0.4  3.   3.   3.   3.   3.   3. ]\n"
     ]
    }
   ],
   "source": [
    "# However, operating on a length one array subset is still referring to the actual array\n",
    "\n",
    "z = x[0:1]\n",
    "print(z)\n",
    "z[0] = 10.0\n",
    "print(x)"
   ]
  },
  {
   "cell_type": "raw",
   "id": "artificial-national",
   "metadata": {},
   "source": [
    "# A brief divergence - why is numpy fast and standard Python slow?\n",
    "# Python (historically) hasn't had a native array type, and has used List as the basic ordered container\n",
    "# Lists work fundamentally differently ; they are not stored in order, but rather the order\n",
    "# is a property of each item; it knows about it's connections to the next and previous items\n",
    "\n",
    "a = [0, 1]\n",
    "\n",
    "# Internally, it looks something a bit like this - \n",
    "\n",
    "a.head = listitem(0, None, None)  # The first member of a, contains 0, knows about nothing\n",
    "a.head.tail = listitem(1, a.head, None) # the 'tail' - the next item to be iterated;  \n",
    "                                        # it contains 1, and also knows that its previous listitem is a.head\n",
    "                                        # These are 'linked'; ie they know about each other\n",
    "\n",
    "# This means that (for example), removing (or inserting) a single item of a list is\n",
    "# very, very fast - we only need to update the immediately neightbouring items\n",
    "# However looking up and item in a list takes linear time - you have to go through every item, whereas in C\n",
    "# arrays, it's just arithmetic on the address"
   ]
  },
  {
   "cell_type": "code",
   "execution_count": 32,
   "id": "worth-probe",
   "metadata": {},
   "outputs": [
    {
     "name": "stdout",
     "output_type": "stream",
     "text": [
      "[6. 6. 6. 6. 6. 6.]\n",
      "[0. 0. 0. 0. 0. 0.]\n",
      "[3. 3. 3. 3. 3. 3.]\n"
     ]
    }
   ],
   "source": [
    "# Copies (or new data) will be created using stanard parsing logic...\n",
    "\n",
    "# Get y - add 3.0, but not in place, add a new identifier entry called z, \n",
    "z = y + 3.0\n",
    "print(z)\n",
    "z[:] = 0.0\n",
    "print(z)\n",
    "print(y) # Unchanged"
   ]
  },
  {
   "cell_type": "markdown",
   "id": "bulgarian-worst",
   "metadata": {},
   "source": [
    "# Garbage Collection"
   ]
  },
  {
   "cell_type": "code",
   "execution_count": 33,
   "id": "favorite-montgomery",
   "metadata": {},
   "outputs": [
    {
     "name": "stdout",
     "output_type": "stream",
     "text": [
      "hats\n"
     ]
    }
   ],
   "source": [
    "# Some final notes about memory, identifiers/symbol tables\n",
    "# In C (and C++), you need to manually manage memory\n",
    "# If you don't delete something, it lives forever, and you run out of memory\n",
    "# In Python this is automatic... but how?\n",
    "\n",
    "class Thing:\n",
    "    def __init__(self, name):\n",
    "        self.name = name\n",
    "        \n",
    "    def __repr__(self):\n",
    "        return self.name\n",
    "\n",
    "# It's a small universe...\n",
    "things_that_exist = [Thing('dogs'), Thing('hats'), Thing('the future')]\n",
    "\n",
    "# I only care about hats\n",
    "things_that_i_care_about = things_that_exist[1]\n",
    "\n",
    "# Let's clean up the universe\n",
    "things_that_exist = None \n",
    "\n",
    "# Because there are things still referenced in this list, they still exist\n",
    "print(things_that_i_care_about)\n",
    "\n",
    "# However, the others are gone!  There is no way to look up their addresses, and so no possible meaningful way to interact\n",
    "# with them - they are garbage, and it is collected\n",
    "\n",
    "# This is called 'reference counting'; every time an object is bound (e.g placed in a container, assigned to an identifier)\n",
    "# it has 1 added to it's reference count.  If this disappear, then 1 is subtracted\n",
    "# When the count reaches 0, they are deleted (garbage collected)\n",
    "\n",
    "# This is easy and possible because of the 'everything is a pointer' approach"
   ]
  }
 ],
 "metadata": {
  "kernelspec": {
   "display_name": "Python 3",
   "language": "python",
   "name": "python3"
  },
  "language_info": {
   "codemirror_mode": {
    "name": "ipython",
    "version": 3
   },
   "file_extension": ".py",
   "mimetype": "text/x-python",
   "name": "python",
   "nbconvert_exporter": "python",
   "pygments_lexer": "ipython3",
   "version": "3.6.13"
  }
 },
 "nbformat": 4,
 "nbformat_minor": 5
}
