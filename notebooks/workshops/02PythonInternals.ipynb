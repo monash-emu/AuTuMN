{
 "cells": [
  {
   "cell_type": "markdown",
   "id": "characteristic-partition",
   "metadata": {},
   "source": [
    "# Python Internals\n"
   ]
  },
  {
   "cell_type": "markdown",
   "id": "induced-miami",
   "metadata": {},
   "source": [
    "## Asking for an address is not the same as asking for a house"
   ]
  },
  {
   "cell_type": "code",
   "execution_count": null,
   "id": "wrong-statement",
   "metadata": {},
   "outputs": [],
   "source": [
    "davids_address = \"32 Lark Lane\"\n",
    "\n",
    "davids_address"
   ]
  },
  {
   "cell_type": "code",
   "execution_count": null,
   "id": "lasting-toolbox",
   "metadata": {},
   "outputs": [],
   "source": [
    "# I've given you my address, and you've written it down in your address book...\n",
    "\n",
    "address_book = {\n",
    "    'david': davids_address\n",
    "}\n",
    "\n",
    "address_book"
   ]
  },
  {
   "cell_type": "code",
   "execution_count": null,
   "id": "responsible-stocks",
   "metadata": {},
   "outputs": [],
   "source": [
    "class House:\n",
    "    def __init__(self, address, occupants, contents):\n",
    "        self.address = address\n",
    "        self.occupants = occupants\n",
    "        self.contents = contents\n",
    "        \n",
    "    def __repr__(self):\n",
    "        return self.address + ' : ' + str(self.occupants)\n",
    "        \n",
    "# I live with a mouse\n",
    "davids_house = House(davids_address, [\"David\", \"Jeremy (the mouse)\"], ['A bronze horse sculpture', 'A beachball'])\n",
    "davids_house"
   ]
  },
  {
   "cell_type": "code",
   "execution_count": null,
   "id": "artificial-universal",
   "metadata": {},
   "outputs": [],
   "source": [
    "# Your address book contains my address.  Not my house.  It wouldn't fit, and it's hard to copy houses.\n",
    "\n",
    "address_book['david']"
   ]
  },
  {
   "cell_type": "markdown",
   "id": "chronic-shelter",
   "metadata": {},
   "source": [
    "## A brief primer on C\n",
    "\n",
    "Python shares many syntactic similarities to C, and the reference implementation of Python\n",
    "(ie what you get when you download and install Python) is CPython - Python written in C.\n",
    "\n",
    "The C language has basic datatypes similar to Python (int, float etc).  There are differences, but they represent conceptually the same kinds of values.\n",
    "\n",
    "In addition, C has \"pointers\", indicated by the * symbol - these do _not_ contain the underlying data, but rather the _address_ of the data\n",
    "\n",
    "You must manually specify all types (including pointer types) in C\n",
    "\n",
    "Understanding a little about pointers explains a lot of what happens in Python"
   ]
  },
  {
   "cell_type": "raw",
   "id": "geographic-borough",
   "metadata": {},
   "source": [
    "/*   Pass by value only\n",
    "* Does effectively nothing - creates a local variable x, that contains the value of the first\n",
    "* argument, then sets that local variable to 1.1\n",
    "* Nothing is returned - nothing changes outside of the function (there are no side effects)\n",
    "*/\n",
    "\n",
    "void\n",
    "value_function(float x) {\n",
    "    x = 1.1;\n",
    "}\n",
    "\n",
    "/*   Pass a pointer\n",
    "* A pointer to a float is passed in as an argument\n",
    "* This pointer is dereferenced (ie its address is looked up, so we are now\n",
    "* operating on the underlying data), and the data pointed to by x is changed\n",
    "* This change is visible outside of the function (there are side effects)\n",
    "*/\n",
    "\n",
    "void\n",
    "pointer_function(float *x) {\n",
    "    *x = 1.1;\n",
    "}\n",
    "\n",
    "/*\n",
    "* Pointers also represent arrays.  In C, arrays are stored contiguously in memory,\n",
    "* so offsets are equivalent to indexes into the array\n",
    "*/\n",
    "\n",
    "void\n",
    "pointer_array_function(float *x) {\n",
    "\n",
    "    /* Does the same thing as the function above */\n",
    "    x[0] = 1.1;\n",
    "    \n",
    "    /* Indexes into the array from the pointer (the address at 'x + sizeof(float) * index') */\n",
    "    x[5] = 2.2\n",
    "}\n",
    "\n"
   ]
  },
  {
   "cell_type": "markdown",
   "id": "fewer-athletics",
   "metadata": {},
   "source": [
    "# Back to Python"
   ]
  },
  {
   "cell_type": "code",
   "execution_count": null,
   "id": "needed-cigarette",
   "metadata": {},
   "outputs": [],
   "source": [
    "# Nearly everything in Python is really a _pointer_, not a value\n",
    "# That is, we are not moving data around in memory, or making copies - \n",
    "# we are simply giving out addresses"
   ]
  },
  {
   "cell_type": "code",
   "execution_count": null,
   "id": "continuous-howard",
   "metadata": {},
   "outputs": [],
   "source": [
    "a = ['shoes', 'bats', 'wheels']\n",
    "b = ['red', 'green', 'shocking pink']"
   ]
  },
  {
   "cell_type": "code",
   "execution_count": null,
   "id": "ancient-retention",
   "metadata": {},
   "outputs": [],
   "source": [
    "# The names a and b are 'identifiers'\n",
    "# Identifiers are really just entries in an address book, which Python neatly has a builtin datatype for; the dict\n",
    "# At the top level, these are stored as 'globals', which can be seen anywhere\n",
    "# At other scope (inside functions), they are stored as locals\n",
    "\n",
    "globals()"
   ]
  },
  {
   "cell_type": "code",
   "execution_count": null,
   "id": "dental-bulgarian",
   "metadata": {},
   "outputs": [],
   "source": [
    "def see_locals(x):\n",
    "    y = 123\n",
    "    print(locals())\n",
    "\n",
    "see_locals(a)"
   ]
  },
  {
   "cell_type": "code",
   "execution_count": null,
   "id": "manual-flour",
   "metadata": {},
   "outputs": [],
   "source": [
    "# When a line of code is parsed by the Python interpreter (right to left) it looks up entries in the address book, and \n",
    "# possibly creates new ones\n",
    "\n",
    "a = 5  # Take the integer literal 5, add an 'a' entry to the address book whose value is 5\n",
    "a = [a] # Create a new list; look up 'a', and place it in the list;  update 'a' to point to this new list\n",
    "\n",
    "b = a # Look up a (which is a list);  update 'b' to refer to this list\n",
    "\n",
    "a,b"
   ]
  },
  {
   "cell_type": "code",
   "execution_count": null,
   "id": "classical-eugene",
   "metadata": {},
   "outputs": [],
   "source": [
    "# These are equal to other (which is what you'd expect)\n",
    "\n",
    "a == b"
   ]
  },
  {
   "cell_type": "code",
   "execution_count": null,
   "id": "sought-vampire",
   "metadata": {},
   "outputs": [],
   "source": [
    "# But they're not just equal... a _is_ b\n",
    "\n",
    "a is b"
   ]
  },
  {
   "cell_type": "code",
   "execution_count": null,
   "id": "solar-antibody",
   "metadata": {},
   "outputs": [],
   "source": [
    "# Things can be equal, but not be the same object\n",
    "\n",
    "c = [0,1,2]\n",
    "d = [0,1,2]\n",
    "\n",
    "c == d, c is d"
   ]
  },
  {
   "cell_type": "code",
   "execution_count": null,
   "id": "convinced-glance",
   "metadata": {},
   "outputs": [],
   "source": [
    "d.append(3)\n",
    "c == d"
   ]
  },
  {
   "cell_type": "code",
   "execution_count": null,
   "id": "homeless-colleague",
   "metadata": {},
   "outputs": [],
   "source": [
    "a, b"
   ]
  },
  {
   "cell_type": "code",
   "execution_count": null,
   "id": "permanent-petroleum",
   "metadata": {},
   "outputs": [],
   "source": [
    "# In this example, we might say we're appending to a...\n",
    "\n",
    "a.append(7)\n",
    "\n",
    "#... but really, we're appending to the object that is referred to by a\n",
    "# (ie the object we get when we look up a in the address book)\n",
    "# This is the same object we'd get when we look up b; 'a' and 'b' really contain the addresses of the objects (pointers)\n",
    "# not the objects themselves\n",
    "\n",
    "a, b"
   ]
  },
  {
   "cell_type": "code",
   "execution_count": null,
   "id": "devoted-jefferson",
   "metadata": {},
   "outputs": [],
   "source": [
    "# What will happen here?\n",
    "\n",
    "a.append(a)\n",
    "\n",
    "a"
   ]
  },
  {
   "cell_type": "code",
   "execution_count": null,
   "id": "fifth-residence",
   "metadata": {},
   "outputs": [],
   "source": [
    "a[2] is a"
   ]
  },
  {
   "cell_type": "code",
   "execution_count": null,
   "id": "caroline-nashville",
   "metadata": {},
   "outputs": [],
   "source": [
    "# There are some inconsistencies... Python _nearly_ always behaves like it's using pointers, but basic datatypes like\n",
    "# int, float and str don't quite work like this...  they really do store the _value_\n",
    "# This is largely for efficiency"
   ]
  },
  {
   "cell_type": "code",
   "execution_count": null,
   "id": "coastal-checkout",
   "metadata": {},
   "outputs": [],
   "source": [
    "f = 5.1\n",
    "g = f\n",
    "\n",
    "# Looks up f, which really is a floating point number, adds 1.0, updates the entry for f in the symbol table\n",
    "f += 1.0\n",
    "\n",
    "f,g"
   ]
  },
  {
   "cell_type": "code",
   "execution_count": null,
   "id": "formed-modeling",
   "metadata": {},
   "outputs": [],
   "source": [
    "h = [1]\n",
    "i = h\n",
    "\n",
    "# Calls the append method directly on our list\n",
    "h += [2]\n",
    "\n",
    "\n",
    "# h and i both still point to the same object\n",
    "h, i"
   ]
  },
  {
   "cell_type": "code",
   "execution_count": null,
   "id": "oriental-stock",
   "metadata": {},
   "outputs": [],
   "source": [
    "# If you really want a copy of something (instead of pointer to it), you can call... copy\n",
    "# Most standard python objects have a copy method, and there is a copy module for cases where this is not the case\n",
    "\n",
    "j = h.copy()\n",
    "\n",
    "j == h, j is h"
   ]
  },
  {
   "cell_type": "code",
   "execution_count": null,
   "id": "durable-handle",
   "metadata": {},
   "outputs": [],
   "source": [
    "# However, copy only goes one layer down - consider the following\n",
    "\n",
    "a = dict(x = 12.1, y = 17.2)\n",
    "b = [a]\n",
    "\n",
    "c = b.copy()\n",
    "\n",
    "c.append(3)\n",
    "\n",
    "print(b, c)\n",
    "\n",
    "a[\"z\"] = 31.1 \n",
    "\n",
    "print(b, c)"
   ]
  },
  {
   "cell_type": "code",
   "execution_count": null,
   "id": "missing-highway",
   "metadata": {},
   "outputs": [],
   "source": [
    "# you can use deepcopy for these situations\n",
    "# from copy import deepcopy"
   ]
  },
  {
   "cell_type": "markdown",
   "id": "tough-waste",
   "metadata": {},
   "source": [
    "# Numpy arrays (hint: they're C arrays)"
   ]
  },
  {
   "cell_type": "code",
   "execution_count": null,
   "id": "further-diagram",
   "metadata": {},
   "outputs": [],
   "source": [
    "# Numpy is much more like pure C than the Python standard libraries.\n",
    "# This is why it's fast!"
   ]
  },
  {
   "cell_type": "code",
   "execution_count": null,
   "id": "personalized-divide",
   "metadata": {},
   "outputs": [],
   "source": [
    "import numpy as np\n",
    "\n",
    "x = np.linspace(0,1.0, 11)\n",
    "\n",
    "x"
   ]
  },
  {
   "cell_type": "code",
   "execution_count": null,
   "id": "oriented-timer",
   "metadata": {},
   "outputs": [],
   "source": [
    "# Numpy arrays are Python wrappers around actual C arrays\n",
    "# That means they are stored in order, can be passed to C functions etc\n",
    "\n",
    "x.flags"
   ]
  },
  {
   "cell_type": "code",
   "execution_count": null,
   "id": "competitive-mortality",
   "metadata": {},
   "outputs": [],
   "source": [
    "# We can look at the real underlying address in memory:\n",
    "\n",
    "x.ctypes.data"
   ]
  },
  {
   "cell_type": "code",
   "execution_count": null,
   "id": "contained-serum",
   "metadata": {},
   "outputs": [],
   "source": [
    "# Numpy tries really really hard not to copy data, only pointers (and some indexing information)\n",
    "\n",
    "# y is a pointer into x\n",
    "y = x[5:]\n",
    "\n",
    "y[:] = 3.0\n",
    "\n",
    "x"
   ]
  },
  {
   "cell_type": "code",
   "execution_count": null,
   "id": "combined-angola",
   "metadata": {},
   "outputs": [],
   "source": [
    "x.ctypes.data"
   ]
  },
  {
   "cell_type": "code",
   "execution_count": null,
   "id": "ecological-provider",
   "metadata": {},
   "outputs": [],
   "source": [
    "# Remember, while arrays are views into memory, basic python datatypes still operate as values, not real pointers\n",
    "\n",
    "z = x[0]\n",
    "print(z)\n",
    "z = 10.0  # The z identifier is updated, but it is not referring to any part of our array\n",
    "print(z, x)"
   ]
  },
  {
   "cell_type": "code",
   "execution_count": null,
   "id": "clean-surface",
   "metadata": {},
   "outputs": [],
   "source": [
    "# However, operating on a length one array subset is still referring to the actual array\n",
    "\n",
    "z = x[0:1]\n",
    "print(z)\n",
    "z[0] = 10.0\n",
    "print(x)"
   ]
  },
  {
   "cell_type": "raw",
   "id": "artificial-national",
   "metadata": {},
   "source": [
    "# A brief divergence - why is numpy fast and standard Python slow?\n",
    "# Python (historically) hasn't had a native array type, and has used List as the basic ordered container\n",
    "# Lists work fundamentally differently ; they are not stored in order, but rather the order\n",
    "# is a property of each item; it knows about it's connections to the next and previous items\n",
    "\n",
    "a = [0, 1]\n",
    "\n",
    "# Internally, it looks something a bit like this - \n",
    "\n",
    "a.head = listitem(0, None, None)  # The first member of a, contains 0, knows about nothing\n",
    "a.head.tail = listitem(1, a.head, None) # the 'tail' - the next item to be iterated;  \n",
    "                                        # it contains 1, and also knows that its previous listitem is a.head\n",
    "                                        # These are 'linked'; ie they know about each other\n",
    "\n",
    "# This means that (for example), removing (or inserting) a single item of a list is\n",
    "# very, very fast - we only need to update the immediately neightbouring items\n",
    "# However looking up and item in a list takes linear time - you have to go through every item, whereas in C\n",
    "# arrays, it's just arithmetic on the address"
   ]
  },
  {
   "cell_type": "code",
   "execution_count": null,
   "id": "worth-probe",
   "metadata": {},
   "outputs": [],
   "source": [
    "# Copies (or new data) will be created using stanard parsing logic...\n",
    "\n",
    "# Get y - add 3.0, but not in place, add a new identifier entry called z, \n",
    "z = y + 3.0\n",
    "print(z)\n",
    "z[:] = 0.0\n",
    "print(z)\n",
    "print(y) # Unchanged"
   ]
  },
  {
   "cell_type": "markdown",
   "id": "bulgarian-worst",
   "metadata": {},
   "source": [
    "# Garbage Collection"
   ]
  },
  {
   "cell_type": "code",
   "execution_count": null,
   "id": "favorite-montgomery",
   "metadata": {},
   "outputs": [],
   "source": [
    "# Some final notes about memory, identifiers/symbol tables\n",
    "# In C (and C++), you need to manually manage memory\n",
    "# If you don't delete something, it lives forever, and you run out of memory\n",
    "# In Python this is automatic... but how?\n",
    "\n",
    "class Thing:\n",
    "    def __init__(self, name):\n",
    "        self.name = name\n",
    "        \n",
    "    def __repr__(self):\n",
    "        return self.name\n",
    "\n",
    "# It's a small universe...\n",
    "things_that_exist = [Thing('dogs'), Thing('hats'), Thing('the future')]\n",
    "\n",
    "# I only care about hats\n",
    "things_that_i_care_about = things_that_exist[1]\n",
    "\n",
    "# Let's clean up the universe\n",
    "things_that_exist = None \n",
    "\n",
    "# Because there are things still referenced in this list, they still exist\n",
    "print(things_that_i_care_about)\n",
    "\n",
    "# However, the others are gone!  There is no way to look up their addresses, and so no possible meaningful way to interact\n",
    "# with them - they are garbage, and it is collected\n",
    "\n",
    "# This is called 'reference counting'; every time an object is bound (e.g placed in a container, assigned to an identifier)\n",
    "# it has 1 added to it's reference count.  If this disappear, then 1 is subtracted\n",
    "# When the count reaches 0, they are deleted (garbage collected)\n",
    "\n",
    "# This is easy and possible because of the 'everything is a pointer' approach"
   ]
  }
 ],
 "metadata": {
  "kernelspec": {
   "display_name": "Python 3",
   "language": "python",
   "name": "python3"
  },
  "language_info": {
   "codemirror_mode": {
    "name": "ipython",
    "version": 3
   },
   "file_extension": ".py",
   "mimetype": "text/x-python",
   "name": "python",
   "nbconvert_exporter": "python",
   "pygments_lexer": "ipython3",
   "version": "3.6.13"
  }
 },
 "nbformat": 4,
 "nbformat_minor": 5
}
