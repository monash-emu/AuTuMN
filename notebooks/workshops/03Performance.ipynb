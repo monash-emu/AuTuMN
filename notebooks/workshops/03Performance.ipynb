{
 "cells": [
  {
   "cell_type": "code",
   "execution_count": null,
   "id": "exotic-establishment",
   "metadata": {},
   "outputs": [],
   "source": [
    "import numpy as np"
   ]
  },
  {
   "cell_type": "markdown",
   "id": "dietary-empire",
   "metadata": {},
   "source": [
    "# Good intentions, wrong advice\n",
    "## Don't follow these mantras, please - or at least, not in the way you think...\n",
    "\n",
    "\"Premature optimization is the root of all evil\" (Knuth, Hoare - they blame each other)\n",
    "\n",
    "\"Make it work, Make it right, Make it fast\" (Kent Beck, Agile Manifesto)\n"
   ]
  },
  {
   "cell_type": "markdown",
   "id": "opened-details",
   "metadata": {},
   "source": [
    "# These shouldn't be tradeoffs\n",
    "\n",
    "Good design results in code that works right _and_ fast\n",
    "\n",
    "It can be hard to undo bad design decisions (without rewriting from scratch)\n",
    "\n",
    "Is this 'premature optimization'?"
   ]
  },
  {
   "cell_type": "markdown",
   "id": "minus-culture",
   "metadata": {},
   "source": [
    "# Datatypes\n",
    "\n",
    "Basic datatypes in Python (and numpy)\n",
    "\n",
    "List vs np.ndarray\n",
    "\n",
    "These have _very_ different performance profiles.  This is not a \"Python thing\" - these are fundamentally different data structures\n",
    "\n",
    "https://en.wikipedia.org/wiki/Linked_list\n",
    "\n",
    "https://en.wikipedia.org/wiki/Array_data_structure\n",
    "\n",
    "https://en.wikipedia.org/wiki/Time_complexity"
   ]
  },
  {
   "cell_type": "code",
   "execution_count": null,
   "id": "opposite-permit",
   "metadata": {},
   "outputs": [],
   "source": [
    "# Let's write a few functions to compare performance\n",
    "\n",
    "def reorder_list(x: list, idx: list):\n",
    "    return [x[i] for i in idx]"
   ]
  },
  {
   "cell_type": "code",
   "execution_count": null,
   "id": "annoying-julian",
   "metadata": {},
   "outputs": [],
   "source": [
    "N = 100000\n",
    "\n",
    "x_np = np.linspace(0.0,1.0,N)\n",
    "x_list = list(x_np)\n",
    "\n",
    "idx_r = range(N)\n",
    "\n",
    "idx_np = np.array(idx_r)\n",
    "idx_list = list(idx_r)"
   ]
  },
  {
   "cell_type": "code",
   "execution_count": null,
   "id": "lonely-october",
   "metadata": {},
   "outputs": [],
   "source": [
    "# Use the %time and %timeit macros to explore execution times\n",
    "# We'll cover more advanced profiling later"
   ]
  },
  {
   "cell_type": "code",
   "execution_count": null,
   "id": "personalized-beijing",
   "metadata": {},
   "outputs": [],
   "source": [
    "%timeit _ = reorder_list(x_list, idx_list)"
   ]
  },
  {
   "cell_type": "code",
   "execution_count": null,
   "id": "searching-diamond",
   "metadata": {},
   "outputs": [],
   "source": [
    "%timeit _ = x_np[idx_np]"
   ]
  },
  {
   "cell_type": "code",
   "execution_count": null,
   "id": "invalid-joyce",
   "metadata": {},
   "outputs": [],
   "source": [
    "# Just using numpy datatypes isn't enough - we need to use numpy idioms\n",
    "\n",
    "def reorder_ndarray_naive(x: np.ndarray, idx: np.ndarray):\n",
    "    out = np.empty(len(x))\n",
    "    for i, i_src in enumerate(idx):\n",
    "        out[i] = x[i_src]\n",
    "    return out"
   ]
  },
  {
   "cell_type": "code",
   "execution_count": null,
   "id": "faced-fence",
   "metadata": {},
   "outputs": [],
   "source": [
    "%timeit _ = reorder_ndarray_naive(x_np, idx_np)"
   ]
  },
  {
   "cell_type": "markdown",
   "id": "hispanic-longer",
   "metadata": {},
   "source": [
    "### Time complexity - data access"
   ]
  },
  {
   "cell_type": "code",
   "execution_count": null,
   "id": "transsexual-syndication",
   "metadata": {},
   "outputs": [],
   "source": [
    "# Constant time O(1)\n",
    "\n",
    "%timeit _ = x_np[100:800]\n",
    "%timeit _ = x_np[100:80000]"
   ]
  },
  {
   "cell_type": "code",
   "execution_count": null,
   "id": "subsequent-making",
   "metadata": {},
   "outputs": [],
   "source": [
    "# Linear time O(n)\n",
    "\n",
    "%timeit _ = x_list[100:800]\n",
    "%timeit _ = x_list[100:80000]"
   ]
  },
  {
   "cell_type": "code",
   "execution_count": null,
   "id": "sonic-tissue",
   "metadata": {},
   "outputs": [],
   "source": [
    "# Pathological numpy - use the idioms!\n",
    "# Forces O(n)\n",
    "\n",
    "%timeit _ = x_np[range(100,800)]\n",
    "%timeit _ = x_np[range(100,80000)]"
   ]
  },
  {
   "cell_type": "markdown",
   "id": "studied-buying",
   "metadata": {},
   "source": [
    "### Time complexity - append\n",
    "\n",
    "Lists do much better here!"
   ]
  },
  {
   "cell_type": "code",
   "execution_count": null,
   "id": "future-coordinator",
   "metadata": {},
   "outputs": [],
   "source": [
    "%timeit _ = np.append(x_np,1.0)"
   ]
  },
  {
   "cell_type": "code",
   "execution_count": null,
   "id": "south-audio",
   "metadata": {},
   "outputs": [],
   "source": [
    "big_arr = np.zeros(N*10)\n",
    "\n",
    "%timeit _ = np.append(big_arr,1.0)"
   ]
  },
  {
   "cell_type": "code",
   "execution_count": null,
   "id": "searching-footwear",
   "metadata": {},
   "outputs": [],
   "source": [
    "%timeit _ = [].append(1.0)"
   ]
  },
  {
   "cell_type": "code",
   "execution_count": null,
   "id": "advised-apparel",
   "metadata": {},
   "outputs": [],
   "source": [
    "real_list = [x for x in range(1000)]\n",
    "\n",
    "%timeit _ = real_list.append(1.0)"
   ]
  },
  {
   "cell_type": "code",
   "execution_count": null,
   "id": "acquired-miami",
   "metadata": {},
   "outputs": [],
   "source": [
    "del real_list"
   ]
  },
  {
   "cell_type": "markdown",
   "id": "present-terror",
   "metadata": {},
   "source": [
    "# Python specifics\n",
    "\n",
    "...or...\n",
    "\n",
    "## Make Python Fast by Not Using Python\n",
    "\n",
    "(Don't worry, you already do)"
   ]
  },
  {
   "cell_type": "code",
   "execution_count": null,
   "id": "brazilian-guarantee",
   "metadata": {},
   "outputs": [],
   "source": [
    "import math"
   ]
  },
  {
   "cell_type": "code",
   "execution_count": null,
   "id": "pleasant-observer",
   "metadata": {},
   "outputs": [],
   "source": [
    "%timeit math.exp(5.0)"
   ]
  },
  {
   "cell_type": "code",
   "execution_count": null,
   "id": "loaded-kennedy",
   "metadata": {},
   "outputs": [],
   "source": [
    "%timeit np.exp(5.0)"
   ]
  },
  {
   "cell_type": "code",
   "execution_count": null,
   "id": "amateur-stock",
   "metadata": {},
   "outputs": [],
   "source": [
    "%timeit for x in big_arr: math.exp(x)"
   ]
  },
  {
   "cell_type": "code",
   "execution_count": null,
   "id": "weighted-lighting",
   "metadata": {},
   "outputs": [],
   "source": [
    "%timeit np.exp(big_arr)"
   ]
  },
  {
   "cell_type": "markdown",
   "id": "material-valley",
   "metadata": {},
   "source": [
    "## ufuncs\n",
    "\n",
    "Functions in numpy (or derived from numpy) that operate over both scalars and arrays of arbitrary size"
   ]
  },
  {
   "cell_type": "code",
   "execution_count": null,
   "id": "separated-knowing",
   "metadata": {},
   "outputs": [],
   "source": [
    "def naive_function(x:float , y: float):\n",
    "    return (x*y)/math.exp(x+y)"
   ]
  },
  {
   "cell_type": "code",
   "execution_count": null,
   "id": "median-custom",
   "metadata": {},
   "outputs": [],
   "source": [
    "naive_function(2.0,3.0)"
   ]
  },
  {
   "cell_type": "code",
   "execution_count": null,
   "id": "proper-newsletter",
   "metadata": {},
   "outputs": [],
   "source": [
    "def naive_function_loop(x: list, y: list):\n",
    "    out = []\n",
    "    for xval,yval in zip(x,y):\n",
    "        out.append(naive_function(xval, yval))\n",
    "    return out"
   ]
  },
  {
   "cell_type": "code",
   "execution_count": null,
   "id": "higher-diversity",
   "metadata": {},
   "outputs": [],
   "source": [
    "x = np.random.normal(size=(1000,))\n",
    "y = np.random.normal(size=(1000,))"
   ]
  },
  {
   "cell_type": "code",
   "execution_count": null,
   "id": "public-butler",
   "metadata": {},
   "outputs": [],
   "source": [
    "naive_function_loop(x,y)"
   ]
  },
  {
   "cell_type": "code",
   "execution_count": null,
   "id": "superb-brother",
   "metadata": {},
   "outputs": [],
   "source": [
    "%timeit _ = naive_function_loop(x,y)"
   ]
  },
  {
   "cell_type": "code",
   "execution_count": null,
   "id": "suffering-competition",
   "metadata": {},
   "outputs": [],
   "source": [
    "def ufunc_function(x, y):\n",
    "    return (x*y)/np.exp(x+y)"
   ]
  },
  {
   "cell_type": "code",
   "execution_count": null,
   "id": "dressed-replica",
   "metadata": {},
   "outputs": [],
   "source": [
    "ufunc_function(2.0,3.0)"
   ]
  },
  {
   "cell_type": "code",
   "execution_count": null,
   "id": "enormous-helen",
   "metadata": {},
   "outputs": [],
   "source": [
    "%timeit _ = ufunc_function(x,y)"
   ]
  },
  {
   "cell_type": "code",
   "execution_count": null,
   "id": "revolutionary-instrument",
   "metadata": {},
   "outputs": [],
   "source": [
    "ufunc_function(x,y) == naive_function_loop(x,y)"
   ]
  },
  {
   "cell_type": "code",
   "execution_count": null,
   "id": "eligible-xerox",
   "metadata": {},
   "outputs": [],
   "source": [
    "import pandas as pd"
   ]
  },
  {
   "cell_type": "code",
   "execution_count": null,
   "id": "exciting-mirror",
   "metadata": {},
   "outputs": [],
   "source": [
    "x_pd = pd.Series(x)\n",
    "y_pd = pd.Series(y)\n",
    "\n",
    "ufunc_function(x_pd, y_pd)"
   ]
  },
  {
   "cell_type": "code",
   "execution_count": null,
   "id": "large-sociology",
   "metadata": {},
   "outputs": [],
   "source": [
    "# This will work in a way that respects pandas indices\n",
    "\n",
    "x_pd = pd.Series(x, index=range(500,500+len(x)))\n",
    "y_pd = pd.Series(y)\n",
    "\n",
    "ufunc_function(x_pd, y_pd).plot()"
   ]
  },
  {
   "cell_type": "code",
   "execution_count": null,
   "id": "mental-desert",
   "metadata": {},
   "outputs": [],
   "source": [
    "# Our naive loop will throw this away - plenty of opportunities for bugs...\n",
    "\n",
    "pd.Series(naive_function_loop(x_pd, y_pd)).plot()"
   ]
  },
  {
   "cell_type": "code",
   "execution_count": null,
   "id": "devoted-portugal",
   "metadata": {},
   "outputs": [],
   "source": [
    "#  Thinking back to the (bad) mantras - how does this vectorized (ufunc) style address these concerns?"
   ]
  },
  {
   "cell_type": "markdown",
   "id": "amber-labor",
   "metadata": {},
   "source": [
    "# Advanced Profiling (cProfile)"
   ]
  },
  {
   "cell_type": "code",
   "execution_count": null,
   "id": "artificial-candy",
   "metadata": {},
   "outputs": [],
   "source": [
    "import cProfile"
   ]
  },
  {
   "cell_type": "code",
   "execution_count": null,
   "id": "indian-saver",
   "metadata": {},
   "outputs": [],
   "source": [
    "from autumn.tools.project import get_project"
   ]
  },
  {
   "cell_type": "code",
   "execution_count": null,
   "id": "explicit-bumper",
   "metadata": {},
   "outputs": [],
   "source": [
    "p = get_project('covid_19', 'malaysia')"
   ]
  },
  {
   "cell_type": "code",
   "execution_count": null,
   "id": "normal-valley",
   "metadata": {},
   "outputs": [],
   "source": [
    "m = p.build_model(p.param_set.baseline.to_dict())"
   ]
  },
  {
   "cell_type": "code",
   "execution_count": null,
   "id": "shared-circuit",
   "metadata": {},
   "outputs": [],
   "source": [
    "%time m.run()"
   ]
  },
  {
   "cell_type": "code",
   "execution_count": null,
   "id": "recorded-wrestling",
   "metadata": {},
   "outputs": [],
   "source": [
    "cProfile.run(\"m.run()\", sort='cumtime')"
   ]
  },
  {
   "cell_type": "code",
   "execution_count": null,
   "id": "metallic-citizenship",
   "metadata": {},
   "outputs": [],
   "source": [
    "cProfile.run(\"m.run()\", sort='tottime')"
   ]
  },
  {
   "cell_type": "code",
   "execution_count": null,
   "id": "accessible-disclosure",
   "metadata": {},
   "outputs": [],
   "source": [
    "build_options = {\n",
    "    \"enable_validation\": False,\n",
    "    \"derived_outputs_idx_cache\": m._derived_outputs_idx_cache\n",
    "}"
   ]
  },
  {
   "cell_type": "code",
   "execution_count": null,
   "id": "incorrect-boulder",
   "metadata": {},
   "outputs": [],
   "source": [
    "%time m = p.build_model(p.param_set.baseline.to_dict(), build_options=build_options)"
   ]
  },
  {
   "cell_type": "code",
   "execution_count": null,
   "id": "tested-grass",
   "metadata": {},
   "outputs": [],
   "source": [
    "%time m.run()"
   ]
  },
  {
   "cell_type": "code",
   "execution_count": null,
   "id": "convertible-draft",
   "metadata": {},
   "outputs": [],
   "source": [
    "p = get_project('sm_sir', 'malaysia')"
   ]
  },
  {
   "cell_type": "code",
   "execution_count": null,
   "id": "loved-victim",
   "metadata": {},
   "outputs": [],
   "source": [
    "%time m = p.build_model(p.param_set.baseline.to_dict())"
   ]
  },
  {
   "cell_type": "code",
   "execution_count": null,
   "id": "other-somalia",
   "metadata": {},
   "outputs": [],
   "source": [
    "%time m.run()"
   ]
  },
  {
   "cell_type": "code",
   "execution_count": null,
   "id": "perceived-traffic",
   "metadata": {},
   "outputs": [],
   "source": [
    "cProfile.run(\"m.run()\", sort='cumtime')"
   ]
  },
  {
   "cell_type": "code",
   "execution_count": null,
   "id": "committed-estonia",
   "metadata": {},
   "outputs": [],
   "source": [
    "cProfile.run(\"m.run()\", sort='tottime')"
   ]
  },
  {
   "cell_type": "code",
   "execution_count": null,
   "id": "bizarre-borough",
   "metadata": {},
   "outputs": [],
   "source": []
  }
 ],
 "metadata": {
  "kernelspec": {
   "display_name": "Python 3",
   "language": "python",
   "name": "python3"
  },
  "language_info": {
   "codemirror_mode": {
    "name": "ipython",
    "version": 3
   },
   "file_extension": ".py",
   "mimetype": "text/x-python",
   "name": "python",
   "nbconvert_exporter": "python",
   "pygments_lexer": "ipython3",
   "version": "3.6.13"
  }
 },
 "nbformat": 4,
 "nbformat_minor": 5
}
