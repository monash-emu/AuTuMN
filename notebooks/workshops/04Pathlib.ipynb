{
 "cells": [
  {
   "cell_type": "markdown",
   "id": "62c4e62b",
   "metadata": {},
   "source": [
    "# Pathlib\n",
    "\n",
    "## Object oriented Pythonic paths\n",
    "aka\n",
    "\"The Right Way to do Paths\"\n",
    "\n",
    "https://docs.python.org/3/library/pathlib.html"
   ]
  },
  {
   "cell_type": "code",
   "execution_count": 1,
   "id": "f3f15310",
   "metadata": {},
   "outputs": [],
   "source": [
    "# Pathlib is a standard Python library\n",
    "# You will usually want to import Path and/or PurePath\n",
    "\n",
    "import pathlib\n",
    "from pathlib import Path, PurePath"
   ]
  },
  {
   "cell_type": "code",
   "execution_count": 2,
   "id": "8a3d3407",
   "metadata": {},
   "outputs": [],
   "source": [
    "# Let's do a few more imports for later\n",
    "import os\n",
    "import shutil"
   ]
  },
  {
   "cell_type": "markdown",
   "id": "4674548f",
   "metadata": {},
   "source": [
    "## What _are_ paths, really?\n",
    "\n",
    "Depends on the context.  \n",
    "\n",
    "Is this a path?\n",
    "It's certainly a URL...\n",
    "https://autumn-data.com/runs/sm_sir/\n",
    "\n",
    "How about just this bit?  \n",
    "sm_sir/malaysia/1634732134/ec182f\n",
    "\n",
    "Paths are abstract representations of a nested, tree-like structure  \n",
    "Such things include filesystems, bits of web addresses, certain representations of S3 etc etc... \n",
    "\n",
    "Pathlib deals with all these things.  It also deals with the bits that are specifically about filesystems, but makes a distinction between the two (for good reasons)"
   ]
  },
  {
   "cell_type": "markdown",
   "id": "c5a09a9f",
   "metadata": {},
   "source": [
    "## Filesystems\n",
    "### Pathlib vs os.* vs string manipulation"
   ]
  },
  {
   "cell_type": "code",
   "execution_count": 3,
   "id": "280b55fc",
   "metadata": {},
   "outputs": [],
   "source": [
    "cwd = Path()"
   ]
  },
  {
   "cell_type": "code",
   "execution_count": 4,
   "id": "137692be",
   "metadata": {},
   "outputs": [
    {
     "data": {
      "text/plain": [
       "WindowsPath('.')"
      ]
     },
     "execution_count": 4,
     "metadata": {},
     "output_type": "execute_result"
    }
   ],
   "source": [
    "cwd"
   ]
  },
  {
   "cell_type": "code",
   "execution_count": 5,
   "id": "0342c13b",
   "metadata": {},
   "outputs": [
    {
     "data": {
      "text/plain": [
       "['.ipynb_checkpoints',\n",
       " '01Pandas.ipynb',\n",
       " '02PythonInternals.ipynb',\n",
       " '03Performance.ipynb',\n",
       " '04Pathlib.ipynb',\n",
       " '05Typing.ipynb',\n",
       " '06Acceleration.ipynb']"
      ]
     },
     "execution_count": 5,
     "metadata": {},
     "output_type": "execute_result"
    }
   ],
   "source": [
    "# Listdir\n",
    "os.listdir(cwd)"
   ]
  },
  {
   "cell_type": "code",
   "execution_count": 6,
   "id": "9c20bdce",
   "metadata": {},
   "outputs": [
    {
     "data": {
      "text/plain": [
       "<generator object Path.glob at 0x000001E5D1212EA0>"
      ]
     },
     "execution_count": 6,
     "metadata": {},
     "output_type": "execute_result"
    }
   ],
   "source": [
    "cwd.glob('*')"
   ]
  },
  {
   "cell_type": "code",
   "execution_count": 7,
   "id": "cf438264",
   "metadata": {},
   "outputs": [
    {
     "data": {
      "text/plain": [
       "[WindowsPath('.ipynb_checkpoints'),\n",
       " WindowsPath('01Pandas.ipynb'),\n",
       " WindowsPath('02PythonInternals.ipynb'),\n",
       " WindowsPath('03Performance.ipynb'),\n",
       " WindowsPath('04Pathlib.ipynb'),\n",
       " WindowsPath('05Typing.ipynb'),\n",
       " WindowsPath('06Acceleration.ipynb')]"
      ]
     },
     "execution_count": 7,
     "metadata": {},
     "output_type": "execute_result"
    }
   ],
   "source": [
    "list(cwd.glob('*'))"
   ]
  },
  {
   "cell_type": "code",
   "execution_count": 8,
   "id": "860668f7",
   "metadata": {},
   "outputs": [
    {
     "ename": "ImportError",
     "evalue": "cannot import name 'display' from 'autumn.tools.utils' (unknown location)",
     "output_type": "error",
     "traceback": [
      "\u001b[1;31m---------------------------------------------------------------------------\u001b[0m",
      "\u001b[1;31mImportError\u001b[0m                               Traceback (most recent call last)",
      "Input \u001b[1;32mIn [8]\u001b[0m, in \u001b[0;36m<cell line: 4>\u001b[1;34m()\u001b[0m\n\u001b[0;32m      1\u001b[0m \u001b[38;5;66;03m# Making glob a little easier to work with; the autumn display module contains\u001b[39;00m\n\u001b[0;32m      2\u001b[0m \u001b[38;5;66;03m# some hooks for Jupyter notebooks\u001b[39;00m\n\u001b[1;32m----> 4\u001b[0m \u001b[38;5;28;01mfrom\u001b[39;00m \u001b[38;5;21;01mautumn\u001b[39;00m\u001b[38;5;21;01m.\u001b[39;00m\u001b[38;5;21;01mtools\u001b[39;00m\u001b[38;5;21;01m.\u001b[39;00m\u001b[38;5;21;01mutils\u001b[39;00m \u001b[38;5;28;01mimport\u001b[39;00m display\n",
      "\u001b[1;31mImportError\u001b[0m: cannot import name 'display' from 'autumn.tools.utils' (unknown location)"
     ]
    }
   ],
   "source": [
    "# Making glob a little easier to work with; the autumn display module contains\n",
    "# some hooks for Jupyter notebooks\n",
    "\n",
    "from autumn.tools.utils import display"
   ]
  },
  {
   "cell_type": "code",
   "execution_count": 18,
   "id": "8013496d",
   "metadata": {},
   "outputs": [
    {
     "data": {
      "text/plain": [
       "[WindowsPath('C:/Users/jtrauer/PycharmProjects/AuTuMN/notebooks/workshops/.ipynb_checkpoints'),\n",
       " WindowsPath('C:/Users/jtrauer/PycharmProjects/AuTuMN/notebooks/workshops/01Pandas.ipynb'),\n",
       " WindowsPath('C:/Users/jtrauer/PycharmProjects/AuTuMN/notebooks/workshops/02PythonInternals.ipynb'),\n",
       " WindowsPath('C:/Users/jtrauer/PycharmProjects/AuTuMN/notebooks/workshops/03Performance.ipynb'),\n",
       " WindowsPath('C:/Users/jtrauer/PycharmProjects/AuTuMN/notebooks/workshops/04Pathlib.ipynb'),\n",
       " WindowsPath('C:/Users/jtrauer/PycharmProjects/AuTuMN/notebooks/workshops/05Typing.ipynb'),\n",
       " WindowsPath('C:/Users/jtrauer/PycharmProjects/AuTuMN/notebooks/workshops/06Acceleration.ipynb')]"
      ]
     },
     "execution_count": 18,
     "metadata": {},
     "output_type": "execute_result"
    }
   ],
   "source": [
    "list(cwd.glob('*'))"
   ]
  },
  {
   "cell_type": "code",
   "execution_count": 26,
   "id": "93862622",
   "metadata": {},
   "outputs": [
    {
     "name": "stdout",
     "output_type": "stream",
     "text": [
      "C:\\Users\\jtrauer\n"
     ]
    }
   ],
   "source": [
    "cd .."
   ]
  },
  {
   "cell_type": "code",
   "execution_count": 24,
   "id": "6d814e97",
   "metadata": {},
   "outputs": [
    {
     "data": {
      "text/plain": [
       "[WindowsPath('C:/Users/jtrauer/PycharmProjects/AuTuMN/notebooks/workshops/.ipynb_checkpoints'),\n",
       " WindowsPath('C:/Users/jtrauer/PycharmProjects/AuTuMN/notebooks/workshops/01Pandas.ipynb'),\n",
       " WindowsPath('C:/Users/jtrauer/PycharmProjects/AuTuMN/notebooks/workshops/02PythonInternals.ipynb'),\n",
       " WindowsPath('C:/Users/jtrauer/PycharmProjects/AuTuMN/notebooks/workshops/03Performance.ipynb'),\n",
       " WindowsPath('C:/Users/jtrauer/PycharmProjects/AuTuMN/notebooks/workshops/04Pathlib.ipynb'),\n",
       " WindowsPath('C:/Users/jtrauer/PycharmProjects/AuTuMN/notebooks/workshops/05Typing.ipynb'),\n",
       " WindowsPath('C:/Users/jtrauer/PycharmProjects/AuTuMN/notebooks/workshops/06Acceleration.ipynb')]"
      ]
     },
     "execution_count": 24,
     "metadata": {},
     "output_type": "execute_result"
    }
   ],
   "source": [
    "list(cwd.glob('*'))"
   ]
  },
  {
   "cell_type": "code",
   "execution_count": 27,
   "id": "2e2ede21",
   "metadata": {},
   "outputs": [
    {
     "name": "stdout",
     "output_type": "stream",
     "text": [
      "[WinError 2] The system cannot find the file specified: 'workshops/'\n",
      "C:\\Users\\jtrauer\n"
     ]
    }
   ],
   "source": [
    "cd workshops/"
   ]
  },
  {
   "cell_type": "code",
   "execution_count": 13,
   "id": "7a9ab89b",
   "metadata": {},
   "outputs": [
    {
     "data": {
      "text/plain": [
       "WindowsPath('C:/Users/jtrauer/PycharmProjects/AuTuMN/notebooks/workshops')"
      ]
     },
     "execution_count": 13,
     "metadata": {},
     "output_type": "execute_result"
    }
   ],
   "source": [
    "cwd = cwd.absolute()\n",
    "cwd"
   ]
  },
  {
   "cell_type": "code",
   "execution_count": 31,
   "id": "f063346c",
   "metadata": {},
   "outputs": [
    {
     "data": {
      "text/plain": [
       "WindowsPath('C:/Users/jtrauer/PycharmProjects/AuTuMN/notebooks/workshops/..')"
      ]
     },
     "execution_count": 31,
     "metadata": {},
     "output_type": "execute_result"
    }
   ],
   "source": [
    "# This will work, but is a bad idea in most cases\n",
    "\n",
    "(cwd / '..')"
   ]
  },
  {
   "cell_type": "code",
   "execution_count": 32,
   "id": "0c9ab5c4",
   "metadata": {},
   "outputs": [
    {
     "data": {
      "text/plain": [
       "WindowsPath('C:/Users/jtrauer/PycharmProjects/AuTuMN/notebooks')"
      ]
     },
     "execution_count": 32,
     "metadata": {},
     "output_type": "execute_result"
    }
   ],
   "source": [
    "# Better\n",
    "\n",
    "cwd.parent"
   ]
  },
  {
   "cell_type": "code",
   "execution_count": 33,
   "id": "0c733378",
   "metadata": {},
   "outputs": [
    {
     "data": {
      "text/plain": [
       "('C:\\\\',\n",
       " 'Users',\n",
       " 'jtrauer',\n",
       " 'PycharmProjects',\n",
       " 'AuTuMN',\n",
       " 'notebooks',\n",
       " 'workshops')"
      ]
     },
     "execution_count": 33,
     "metadata": {},
     "output_type": "execute_result"
    }
   ],
   "source": [
    "# Like str.split, but better and safer...\n",
    "cwd.parts"
   ]
  },
  {
   "cell_type": "code",
   "execution_count": 34,
   "id": "c8d64b84",
   "metadata": {},
   "outputs": [],
   "source": [
    "some_file = Path(\"path/to/file.txt\")\n",
    "tgz_file = Path(\"file.tar.gz\")"
   ]
  },
  {
   "cell_type": "code",
   "execution_count": 36,
   "id": "501ed7e8",
   "metadata": {},
   "outputs": [],
   "source": [
    "# Strings are the worst..."
   ]
  },
  {
   "cell_type": "code",
   "execution_count": 37,
   "id": "c10af5fa",
   "metadata": {},
   "outputs": [
    {
     "data": {
      "text/plain": [
       "('path\\\\to\\\\file', 'txt')"
      ]
     },
     "execution_count": 37,
     "metadata": {},
     "output_type": "execute_result"
    }
   ],
   "source": [
    "str(some_file).split('.')[0], str(some_file).split('.')[-1]"
   ]
  },
  {
   "cell_type": "code",
   "execution_count": 38,
   "id": "161e2b61",
   "metadata": {},
   "outputs": [
    {
     "data": {
      "text/plain": [
       "('path\\\\to\\\\file', 'txt')"
      ]
     },
     "execution_count": 38,
     "metadata": {},
     "output_type": "execute_result"
    }
   ],
   "source": [
    "just_filename = str(some_file).split('/')[-1]\n",
    "just_filename.split('.')[0], just_filename.split('.')[-1]"
   ]
  },
  {
   "cell_type": "code",
   "execution_count": 39,
   "id": "67bb28bd",
   "metadata": {},
   "outputs": [
    {
     "data": {
      "text/plain": [
       "('file', 'gz')"
      ]
     },
     "execution_count": 39,
     "metadata": {},
     "output_type": "execute_result"
    }
   ],
   "source": [
    "str(tgz_file).split('.')[0], str(tgz_file).split('.')[-1]"
   ]
  },
  {
   "cell_type": "code",
   "execution_count": 40,
   "id": "e2dbd736",
   "metadata": {},
   "outputs": [],
   "source": [
    "# os.path is ... okish..."
   ]
  },
  {
   "cell_type": "code",
   "execution_count": 41,
   "id": "3a58193d",
   "metadata": {},
   "outputs": [
    {
     "data": {
      "text/plain": [
       "('path\\\\to\\\\file', '.txt')"
      ]
     },
     "execution_count": 41,
     "metadata": {},
     "output_type": "execute_result"
    }
   ],
   "source": [
    "os.path.splitext(some_file)"
   ]
  },
  {
   "cell_type": "code",
   "execution_count": 42,
   "id": "cbcc1d97",
   "metadata": {},
   "outputs": [
    {
     "data": {
      "text/plain": [
       "('file.tar', '.gz')"
      ]
     },
     "execution_count": 42,
     "metadata": {},
     "output_type": "execute_result"
    }
   ],
   "source": [
    "os.path.splitext(tgz_file)"
   ]
  },
  {
   "cell_type": "code",
   "execution_count": 43,
   "id": "a4cea599",
   "metadata": {},
   "outputs": [
    {
     "data": {
      "text/plain": [
       "('file', '.txt')"
      ]
     },
     "execution_count": 43,
     "metadata": {},
     "output_type": "execute_result"
    }
   ],
   "source": [
    "# Pathlib\n",
    "\n",
    "some_file.stem, some_file.suffix"
   ]
  },
  {
   "cell_type": "code",
   "execution_count": 44,
   "id": "defab296",
   "metadata": {},
   "outputs": [
    {
     "data": {
      "text/plain": [
       "('file.tar', '.gz')"
      ]
     },
     "execution_count": 44,
     "metadata": {},
     "output_type": "execute_result"
    }
   ],
   "source": [
    "tgz_file.stem, tgz_file.suffix"
   ]
  },
  {
   "cell_type": "code",
   "execution_count": 45,
   "id": "e114bcd0",
   "metadata": {},
   "outputs": [
    {
     "data": {
      "text/plain": [
       "['.tar', '.gz']"
      ]
     },
     "execution_count": 45,
     "metadata": {},
     "output_type": "execute_result"
    }
   ],
   "source": [
    "tgz_file.suffixes"
   ]
  },
  {
   "cell_type": "markdown",
   "id": "976ef3e1",
   "metadata": {},
   "source": [
    "## A note on being a good programmer...\n",
    "\n",
    "The string examples above tell us something - we all make assumptions, that turn into heuristics - they work well, until they don't\n",
    "\n",
    "### It's not about being a \"rockstar\"... more like a buddhist monk with a management job\n",
    "\n",
    "Learn how to delegate - use system libraries! Someone else has thought about this a lot more than you ever will (or will ever want to)\n",
    "### ...although having a bit of London cabbie helps - read the documentation! Drive the roads! (well, use the library until you don't need to look up the documentation...)"
   ]
  },
  {
   "cell_type": "markdown",
   "id": "cbe584c9",
   "metadata": {},
   "source": [
    "## File handling ergonomics..."
   ]
  },
  {
   "cell_type": "code",
   "execution_count": 52,
   "id": "b92a3e72",
   "metadata": {},
   "outputs": [
    {
     "data": {
      "text/plain": [
       "WindowsPath('C:/Users/jtrauer/PycharmProjects/AuTuMN/notebooks/workshops/test_files')"
      ]
     },
     "execution_count": 52,
     "metadata": {},
     "output_type": "execute_result"
    }
   ],
   "source": [
    "test_path = cwd / \"test_files\"\n",
    "test_path"
   ]
  },
  {
   "cell_type": "code",
   "execution_count": 50,
   "id": "32fe187d",
   "metadata": {},
   "outputs": [
    {
     "data": {
      "text/plain": [
       "True"
      ]
     },
     "execution_count": 50,
     "metadata": {},
     "output_type": "execute_result"
    }
   ],
   "source": [
    "test_path.exists()"
   ]
  },
  {
   "cell_type": "code",
   "execution_count": 49,
   "id": "b9003975",
   "metadata": {},
   "outputs": [],
   "source": [
    "test_path.mkdir(exist_ok=True)"
   ]
  },
  {
   "cell_type": "code",
   "execution_count": null,
   "id": "10c7c3c7",
   "metadata": {},
   "outputs": [],
   "source": [
    "for i in range(5):\n",
    "    (test_path / f\"file{i}.txt\").write_text(f\"Some example file contents for file {i}\")"
   ]
  },
  {
   "cell_type": "code",
   "execution_count": null,
   "id": "4abeba08",
   "metadata": {},
   "outputs": [],
   "source": [
    "contents_map = {f: f.read_text() for f in cwd.glob(\"*/*.txt\")}"
   ]
  },
  {
   "cell_type": "code",
   "execution_count": null,
   "id": "d1888beb",
   "metadata": {},
   "outputs": [],
   "source": [
    "contents_map"
   ]
  },
  {
   "cell_type": "code",
   "execution_count": null,
   "id": "100bdf6a",
   "metadata": {},
   "outputs": [],
   "source": [
    "# Bonus Python 3.8 syntax - the Walrus operator :=\n",
    "{f: contents for f in cwd.glob(\"*/*.txt\") if \"3\" in (contents := f.read_text())}"
   ]
  },
  {
   "cell_type": "code",
   "execution_count": null,
   "id": "dc20805e",
   "metadata": {},
   "outputs": [],
   "source": [
    "# We also have access to real properties of the filesystem - like file size etc\n",
    "\n",
    "f = test_path / \"file1.txt\"\n",
    "f.lstat()"
   ]
  },
  {
   "cell_type": "code",
   "execution_count": null,
   "id": "2324f303",
   "metadata": {},
   "outputs": [],
   "source": [
    "test_path.rmdir()"
   ]
  },
  {
   "cell_type": "code",
   "execution_count": null,
   "id": "8c89c127",
   "metadata": {},
   "outputs": [],
   "source": [
    "os.rmdir(test_path)"
   ]
  },
  {
   "cell_type": "code",
   "execution_count": null,
   "id": "3a891315",
   "metadata": {},
   "outputs": [],
   "source": [
    "# Still need to use shutil - same as it ever was\n",
    "# https://docs.python.org/3/library/shutil.html\n",
    "\n",
    "shutil.rmtree(test_path)"
   ]
  },
  {
   "cell_type": "code",
   "execution_count": null,
   "id": "0b02238c",
   "metadata": {},
   "outputs": [],
   "source": [
    "test_path"
   ]
  },
  {
   "cell_type": "code",
   "execution_count": null,
   "id": "0c1167be",
   "metadata": {},
   "outputs": [],
   "source": [
    "test_path.glob('*')"
   ]
  },
  {
   "cell_type": "code",
   "execution_count": null,
   "id": "c7b1efe6",
   "metadata": {},
   "outputs": [],
   "source": [
    "test_path.exists()"
   ]
  },
  {
   "cell_type": "markdown",
   "id": "757d80bf",
   "metadata": {},
   "source": [
    "## Writing functions, calling functions"
   ]
  },
  {
   "cell_type": "code",
   "execution_count": null,
   "id": "05f33711",
   "metadata": {},
   "outputs": [],
   "source": [
    "def do_something1(path_to_file):\n",
    "    return os.path.exists(path_to_file)"
   ]
  },
  {
   "cell_type": "code",
   "execution_count": null,
   "id": "8f279d24",
   "metadata": {},
   "outputs": [],
   "source": [
    "def do_something2(path_to_file):\n",
    "    return path_to_file.exists()"
   ]
  },
  {
   "cell_type": "code",
   "execution_count": null,
   "id": "f372011a",
   "metadata": {},
   "outputs": [],
   "source": [
    "do_something1(test_path)"
   ]
  },
  {
   "cell_type": "code",
   "execution_count": null,
   "id": "d6915956",
   "metadata": {},
   "outputs": [],
   "source": [
    "do_something2(test_path)"
   ]
  },
  {
   "cell_type": "code",
   "execution_count": null,
   "id": "f9b60f3e",
   "metadata": {},
   "outputs": [],
   "source": [
    "a_file = \"this is not a file\""
   ]
  },
  {
   "cell_type": "code",
   "execution_count": null,
   "id": "01a25316",
   "metadata": {},
   "outputs": [],
   "source": [
    "do_something1(a_file)"
   ]
  },
  {
   "cell_type": "code",
   "execution_count": null,
   "id": "0d42e218",
   "metadata": {},
   "outputs": [],
   "source": [
    "do_something2(a_file)"
   ]
  },
  {
   "cell_type": "markdown",
   "id": "8da9d61f",
   "metadata": {},
   "source": [
    "### Use type annotations!  (You should be doing this anyway)"
   ]
  },
  {
   "cell_type": "code",
   "execution_count": null,
   "id": "9131b7e8",
   "metadata": {},
   "outputs": [],
   "source": [
    "def do_something3(path_to_file: Path) -> bool:\n",
    "    # Users know what this function expects\n",
    "    return path_to_file.exists()"
   ]
  },
  {
   "cell_type": "code",
   "execution_count": null,
   "id": "ce85419b",
   "metadata": {},
   "outputs": [],
   "source": [
    "# This will fail - but it's the user's fault now (in the nicest possible way...)\n",
    "\n",
    "do_something3(a_file)"
   ]
  },
  {
   "cell_type": "code",
   "execution_count": null,
   "id": "b2e14f16",
   "metadata": {},
   "outputs": [],
   "source": [
    "do_something3(Path(a_file))"
   ]
  },
  {
   "cell_type": "code",
   "execution_count": null,
   "id": "30992418",
   "metadata": {},
   "outputs": [],
   "source": [
    "from typing import Union"
   ]
  },
  {
   "cell_type": "code",
   "execution_count": null,
   "id": "a9ff616a",
   "metadata": {},
   "outputs": [],
   "source": [
    "def do_something4(path_to_file: Union[Path, str]) -> bool:\n",
    "    # Now we handle both cases\n",
    "    path_to_file = Path(path_to_file) if isinstance(path_to_file, str) else path_to_file\n",
    "    \n",
    "    return path_to_file.exists()"
   ]
  },
  {
   "cell_type": "code",
   "execution_count": null,
   "id": "a95bcc60",
   "metadata": {},
   "outputs": [],
   "source": [
    "do_something4(a_file), do_something4(Path(a_file)), "
   ]
  },
  {
   "cell_type": "code",
   "execution_count": null,
   "id": "9a1e591e",
   "metadata": {},
   "outputs": [],
   "source": [
    "# Bonus Python 3.10 version...\n",
    "\n",
    "PathOrStr = Path|str\n",
    "\n",
    "def do_something5(path_to_file: PathOrStr) -> bool:\n",
    "    # Now we handle both cases\n",
    "    path_to_file = Path(path_to_file) if isinstance(path_to_file, str) else path_to_file\n",
    "    return path_to_file.exists()"
   ]
  },
  {
   "cell_type": "code",
   "execution_count": null,
   "id": "666fb170",
   "metadata": {},
   "outputs": [],
   "source": [
    "do_something5"
   ]
  },
  {
   "cell_type": "markdown",
   "id": "9a892644",
   "metadata": {},
   "source": [
    "## PurePaths\n",
    "\n",
    "PurePaths are 'pure' in that they are  \n",
    "  \n",
    "\n",
    "a) Abstract representations unencumbered by the weight of the real world...  \n",
    "b) Functionally pure (ie they can't produce side effects)  "
   ]
  },
  {
   "cell_type": "code",
   "execution_count": null,
   "id": "7b62911d",
   "metadata": {},
   "outputs": [],
   "source": [
    "from pathlib import PurePath, PurePosixPath, PureWindowsPath"
   ]
  },
  {
   "cell_type": "code",
   "execution_count": null,
   "id": "b4d2b191",
   "metadata": {},
   "outputs": [],
   "source": [
    "# Use PurePath directly if you want to work on abstract paths of the type of system you're working on...\n",
    "\n",
    "pure_test = PurePath(test_path)\n",
    "pure_test"
   ]
  },
  {
   "cell_type": "code",
   "execution_count": null,
   "id": "2ca1aeb4",
   "metadata": {},
   "outputs": [],
   "source": [
    "pure_test.mkdir()"
   ]
  },
  {
   "cell_type": "code",
   "execution_count": null,
   "id": "a6a75ef0",
   "metadata": {},
   "outputs": [],
   "source": [
    "# Specify the path type if you have a particular filesystem in mind...\n",
    "\n",
    "win_path = PureWindowsPath(test_path)\n",
    "win_path"
   ]
  },
  {
   "cell_type": "code",
   "execution_count": null,
   "id": "a42cd58b",
   "metadata": {},
   "outputs": [],
   "source": [
    "str(win_path)"
   ]
  },
  {
   "cell_type": "code",
   "execution_count": null,
   "id": "ac33edde",
   "metadata": {},
   "outputs": [],
   "source": [
    "str(\"C:\" / win_path / \"MicroSoft Style Folder Name (95)\")"
   ]
  },
  {
   "cell_type": "code",
   "execution_count": null,
   "id": "76f5c2f8",
   "metadata": {},
   "outputs": [],
   "source": [
    "s3_bucket = PurePosixPath(\"autumn-data\")"
   ]
  },
  {
   "cell_type": "code",
   "execution_count": null,
   "id": "6d2900a2",
   "metadata": {},
   "outputs": [],
   "source": [
    "import s3fs"
   ]
  },
  {
   "cell_type": "code",
   "execution_count": null,
   "id": "81d14399",
   "metadata": {},
   "outputs": [],
   "source": [
    "fs = s3fs.S3FileSystem()"
   ]
  },
  {
   "cell_type": "code",
   "execution_count": null,
   "id": "85228e23",
   "metadata": {},
   "outputs": [],
   "source": [
    "fs.ls(s3_bucket)"
   ]
  },
  {
   "cell_type": "code",
   "execution_count": null,
   "id": "6c225150",
   "metadata": {},
   "outputs": [],
   "source": [
    "fs.ls(s3_bucket / \"sm_sir\" / \"malaysia\")"
   ]
  },
  {
   "cell_type": "code",
   "execution_count": null,
   "id": "46881c99",
   "metadata": {},
   "outputs": [],
   "source": [
    "# If you were just using 'Path' on a Windows system - \n",
    "# you'd have a WindowsPath object, and this would happen...\n",
    "# That's why we use PurePosixPath - because the system we're talking to is Posix-like\n",
    "\n",
    "fs.ls(PureWindowsPath(s3_bucket) / \"sm_sir\")"
   ]
  },
  {
   "cell_type": "code",
   "execution_count": null,
   "id": "e52ecafd",
   "metadata": {},
   "outputs": [],
   "source": [
    "# Bonus round - glob is awesome\n",
    "\n",
    "fs.glob(str(s3_bucket / \"*\" / \"malaysia\"))"
   ]
  },
  {
   "cell_type": "code",
   "execution_count": null,
   "id": "2433c76e",
   "metadata": {},
   "outputs": [],
   "source": []
  }
 ],
 "metadata": {
  "kernelspec": {
   "display_name": "Python 3 (ipykernel)",
   "language": "python",
   "name": "python3"
  },
  "language_info": {
   "codemirror_mode": {
    "name": "ipython",
    "version": 3
   },
   "file_extension": ".py",
   "mimetype": "text/x-python",
   "name": "python",
   "nbconvert_exporter": "python",
   "pygments_lexer": "ipython3",
   "version": "3.10.3"
  }
 },
 "nbformat": 4,
 "nbformat_minor": 5
}
