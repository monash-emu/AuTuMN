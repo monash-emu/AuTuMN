{
 "cells": [
  {
   "cell_type": "markdown",
   "id": "4c55fc2c",
   "metadata": {},
   "source": [
    "# Types and Type Systems\n",
    "\n",
    "What are types, and how can we reason about them?"
   ]
  },
  {
   "cell_type": "markdown",
   "id": "7213288f",
   "metadata": {},
   "source": [
    "### Motivation\n",
    "\n",
    "Something that shows up in our code all the time...  \n",
    "\n",
    "```\n",
    "if type(x) == float:\n",
    "    do_something(x)\n",
    "```\n",
    "\n",
    "This is almost certainly not what you want to do!<br>\n",
    "\n",
    "What did you mean? And more importantly, _why_?"
   ]
  },
  {
   "cell_type": "markdown",
   "id": "1f862197",
   "metadata": {},
   "source": [
    "## Historical Perspective\n",
    "\n",
    "What kinds of type systems exist in programming?\n",
    "What does _Python_ do?\n",
    "\n",
    "We might think of types as having certain meanings, even as being fundamental to programming, but this hasn't always been the case "
   ]
  },
  {
   "cell_type": "markdown",
   "id": "3239a3b6",
   "metadata": {},
   "source": [
    "## Untyped Languages\n",
    "\n",
    "E.g assembly\n",
    "\n",
    "```\n",
    "add $10, %eax /* EAX is set to EAX + 10 */\n",
    "```\n",
    "\n",
    "Doesn't know or care what is in memory - it's all bytes.  There is integer addition happening in EAX, but no _type information_ about its contents"
   ]
  },
  {
   "cell_type": "markdown",
   "id": "1deda34c",
   "metadata": {},
   "source": [
    "## Weakly Typed Languages\n",
    "\n",
    "Things have types, but they might not be enforced, they might get 'coerced' into other types, or you may be able to subvert the type system altogether.  This may or may not be a good thing depending how you look at it...\n",
    "\n",
    "C\n",
    "```\n",
    "    int *x; // Pointer to an integer\n",
    "    float y = 21.1; // Floating point number\n",
    "    x = (int*)&y; // Think of a x as a pointer to an integer, that is looking at our float.. \n",
    "    *x = 10; // Assign 10 (integer) to the memory that held our float\n",
    "```\n",
    "\n",
    "y is still a floating point variable.  But it's been overwritten with a bunch of bits that only make sense when interpreted as an integer...  it's still a 'valid' floating point number, but probably not a meaningful one..."
   ]
  },
  {
   "cell_type": "code",
   "execution_count": null,
   "id": "a8b0676c",
   "metadata": {},
   "outputs": [],
   "source": [
    "# Contrast with Python - we can certainly convert a float into an integer -\n",
    "# but we do so by constructing a new value, which doesn't share memory\n",
    "\n",
    "y = 21.1\n",
    "x = int(y)"
   ]
  },
  {
   "cell_type": "markdown",
   "id": "13560414",
   "metadata": {},
   "source": [
    "### A brief diversion - What do we mean when we say \"Python\"?\n",
    "\n",
    "The Python programming language is really a language specification; the version we run is called CPython.  This is an _implemenation_ of the language, and is the de-facto standard.\n",
    "\n",
    "Some things about Python 2.x are not true of Python 3.x - this is not just about new language features (eg the kinds of differences between Python 3.5 and Python 3.7), but some core concepts have changed. \n",
    "\n",
    "From here on out - when we say Python, we mean CPython 3.x"
   ]
  },
  {
   "cell_type": "markdown",
   "id": "04f0410f",
   "metadata": {},
   "source": [
    "## Strong Typing\n",
    "\n",
    "Everything has a type; types cannot be changed.  They can be reasoned about, and are enforced at runtime (albeit in an inconsistent way)\n"
   ]
  },
  {
   "cell_type": "code",
   "execution_count": null,
   "id": "fd189488",
   "metadata": {},
   "outputs": [],
   "source": [
    "x = 5.1\n",
    "type(x)"
   ]
  },
  {
   "cell_type": "code",
   "execution_count": null,
   "id": "4f5852a0",
   "metadata": {},
   "outputs": [],
   "source": [
    "def thing(x):\n",
    "    return x\n",
    "\n",
    "type(thing)"
   ]
  },
  {
   "cell_type": "code",
   "execution_count": null,
   "id": "6ca3e040",
   "metadata": {},
   "outputs": [],
   "source": [
    "# Runtime type enforcement\n",
    "\n",
    "len(thing)"
   ]
  },
  {
   "cell_type": "code",
   "execution_count": null,
   "id": "52a8d971",
   "metadata": {},
   "outputs": [],
   "source": [
    "x[5]"
   ]
  },
  {
   "cell_type": "code",
   "execution_count": null,
   "id": "c89250ff",
   "metadata": {},
   "outputs": [],
   "source": [
    "# A different kind of TypeError - this is not an issue with list itself,\n",
    "# but with the type of the argument\n",
    "\n",
    "l = [0, 1, 2]\n",
    "l[0.5]"
   ]
  },
  {
   "cell_type": "code",
   "execution_count": null,
   "id": "3f2220f4",
   "metadata": {},
   "outputs": [],
   "source": [
    "# Is this changing a type?  Absolutely not - we're just reassigning an identifier\n",
    "# Addresses are not houses, and the string \"My address\" is neither my address nor my house...\n",
    "\n",
    "thing = []\n",
    "type(thing)"
   ]
  },
  {
   "cell_type": "code",
   "execution_count": null,
   "id": "09228429",
   "metadata": {},
   "outputs": [],
   "source": [
    "# Is Python really \"strongly\" typed, or is it \"duck typed\"?\n",
    "\n",
    "class Duck:\n",
    "    def quack(self):\n",
    "        return \"I'm a duck! Quack!\"\n",
    "        \n",
    "class DishonestPig:\n",
    "    def quack(self):\n",
    "        return \"I'm also a duck! Quack!\"\n",
    "        \n",
    "for animal in [Duck, DishonestPig]:\n",
    "    me = animal()\n",
    "    print(me.quack())"
   ]
  },
  {
   "cell_type": "code",
   "execution_count": null,
   "id": "a6382474",
   "metadata": {},
   "outputs": [],
   "source": [
    "# It is certainly possible to write something that looks like a list,\n",
    "# but doesn't enforce types in the same way\n",
    "# This is very bad code, but there is plenty of this out there in the world!\n",
    "# Type enforcement is only as good as the library that uses it...\n",
    "\n",
    "class MyList:\n",
    "    def __init__(self, contents):\n",
    "        self._internal_list = {i:c for i,c in enumerate(contents)}\n",
    "        \n",
    "    def __getitem__(self, index):\n",
    "        return self._internal_list[index]\n",
    "    \n",
    "l = MyList((0,1,2))\n",
    "l[0.5]"
   ]
  },
  {
   "cell_type": "markdown",
   "id": "efd27a07",
   "metadata": {},
   "source": [
    "## Object Oriented Programming\n",
    "### Taxonomies of ideas\n",
    "\n",
    "All of the above is increasingly regarded as a bit arbitrary - what we really want to know is how a language (and a programmer) can _reason_ about types\n",
    "\n",
    "Enter object oriented programming - everything is an object!<br>Most objects are also other things, probably several.<br>\n",
    "Objects are not just \"things\", but the fundamental philosophical building block in the 'universe of ideas'"
   ]
  },
  {
   "cell_type": "code",
   "execution_count": null,
   "id": "06a655f7",
   "metadata": {},
   "outputs": [],
   "source": [
    "x = 5.1\n",
    "type(x)"
   ]
  },
  {
   "cell_type": "code",
   "execution_count": null,
   "id": "02e934ed",
   "metadata": {},
   "outputs": [],
   "source": [
    "# Well, we know the answer...\n",
    "type(x) == float"
   ]
  },
  {
   "cell_type": "code",
   "execution_count": null,
   "id": "4c84da70",
   "metadata": {},
   "outputs": [],
   "source": [
    "# We already know what type x is - so this seems like a silly question.\n",
    "type(x) == object"
   ]
  },
  {
   "cell_type": "code",
   "execution_count": null,
   "id": "29617957",
   "metadata": {},
   "outputs": [],
   "source": [
    "# And yet, everything is an object\n",
    "isinstance(x, object)"
   ]
  },
  {
   "cell_type": "code",
   "execution_count": null,
   "id": "a7c6f310",
   "metadata": {},
   "outputs": [],
   "source": [
    "# x is an _instance_ of the idea (type) 'float'\n",
    "isinstance(x, float)"
   ]
  },
  {
   "cell_type": "code",
   "execution_count": null,
   "id": "1b175b4c",
   "metadata": {},
   "outputs": [],
   "source": [
    "# float is in instance of the idea 'type'\n",
    "isinstance(float, type)"
   ]
  },
  {
   "cell_type": "code",
   "execution_count": null,
   "id": "59123350",
   "metadata": {},
   "outputs": [],
   "source": [
    "# x is not an instance of type\n",
    "isinstance(x, type)"
   ]
  },
  {
   "cell_type": "code",
   "execution_count": null,
   "id": "741b986d",
   "metadata": {},
   "outputs": [],
   "source": [
    "# What kind of idea is 'type'?  Well, let's just ask Python!\n",
    "type(type)"
   ]
  },
  {
   "cell_type": "markdown",
   "id": "9adf93fb",
   "metadata": {},
   "source": [
    "## Type systems as (something like) set theory"
   ]
  },
  {
   "cell_type": "code",
   "execution_count": null,
   "id": "1bbcb3a9",
   "metadata": {},
   "outputs": [],
   "source": [
    "from numbers import Number, Real, Integral"
   ]
  },
  {
   "cell_type": "code",
   "execution_count": null,
   "id": "eac3bd89",
   "metadata": {},
   "outputs": [],
   "source": [
    "isinstance(5, Number), isinstance(5, Real), isinstance(5, Integral)"
   ]
  },
  {
   "cell_type": "code",
   "execution_count": null,
   "id": "a32a7d44",
   "metadata": {},
   "outputs": [],
   "source": [
    "isinstance(5.1, Number), isinstance(5.1, Real), isinstance(5.1, Integral)"
   ]
  },
  {
   "cell_type": "code",
   "execution_count": null,
   "id": "9fc8e3a5",
   "metadata": {},
   "outputs": [],
   "source": [
    "# So, back to our motivating example...\n",
    "\n",
    "def do_something(x: int):\n",
    "    if type(x) == int:\n",
    "        return x + 3\n",
    "    else:\n",
    "        raise TypeError(\"Not an integer!\")"
   ]
  },
  {
   "cell_type": "code",
   "execution_count": null,
   "id": "56b675f5",
   "metadata": {},
   "outputs": [],
   "source": [
    "import numpy as np"
   ]
  },
  {
   "cell_type": "code",
   "execution_count": null,
   "id": "14d3668b",
   "metadata": {},
   "outputs": [],
   "source": [
    "some_array = np.array(range(10000),dtype=np.int16)"
   ]
  },
  {
   "cell_type": "code",
   "execution_count": null,
   "id": "a5f6ec1e",
   "metadata": {},
   "outputs": [],
   "source": [
    "x = some_array[10]\n",
    "x"
   ]
  },
  {
   "cell_type": "code",
   "execution_count": null,
   "id": "655e928f",
   "metadata": {},
   "outputs": [],
   "source": [
    "do_something(x)"
   ]
  },
  {
   "cell_type": "code",
   "execution_count": null,
   "id": "d7c5a3b1",
   "metadata": {},
   "outputs": [],
   "source": [
    "def do_something(x: Integral):\n",
    "    if isinstance(x, Integral):\n",
    "        return x + 3\n",
    "    else:\n",
    "        raise TypeError(\"Not an integer!\")"
   ]
  },
  {
   "cell_type": "code",
   "execution_count": null,
   "id": "ffbef9d7",
   "metadata": {},
   "outputs": [],
   "source": [
    "do_something(x), do_something(10)"
   ]
  },
  {
   "cell_type": "code",
   "execution_count": null,
   "id": "7b6fdf11",
   "metadata": {},
   "outputs": [],
   "source": [
    "do_something(5.1)"
   ]
  },
  {
   "cell_type": "code",
   "execution_count": null,
   "id": "4a838a7f",
   "metadata": {},
   "outputs": [],
   "source": [
    "# The idea of a floating point number is not in fact a number...\n",
    "isinstance(float, Number)"
   ]
  },
  {
   "cell_type": "code",
   "execution_count": null,
   "id": "2fde8ba4",
   "metadata": {},
   "outputs": [],
   "source": [
    "# But, in the taxonomy of things, floating point numbers are a subset of numbers...\n",
    "issubclass(float, Number)"
   ]
  },
  {
   "cell_type": "code",
   "execution_count": null,
   "id": "fe9db6cd",
   "metadata": {},
   "outputs": [],
   "source": [
    "# Bonus round - we ask the hard philosophical questions\n",
    "# According to Python - nothing is definitely something\n",
    "\n",
    "isinstance(None, object)"
   ]
  },
  {
   "cell_type": "markdown",
   "id": "d0b5e77f",
   "metadata": {},
   "source": [
    "## A line in the sand - 'type system' reasoning vs actual types\n",
    "\n",
    "Not all categories are types - but the type system can still use the same kinds of reasoning\n"
   ]
  },
  {
   "cell_type": "code",
   "execution_count": null,
   "id": "01ec4577",
   "metadata": {},
   "outputs": [],
   "source": [
    "# Old Python (<3.10)\n",
    "# Included for reference, but mostly redundant\n",
    "from typing import Union, Dict, List, Any, Optional"
   ]
  },
  {
   "cell_type": "code",
   "execution_count": null,
   "id": "0377604d",
   "metadata": {},
   "outputs": [],
   "source": [
    "isinstance(Union[float, dict], type)"
   ]
  },
  {
   "cell_type": "code",
   "execution_count": null,
   "id": "c0e2c45a",
   "metadata": {},
   "outputs": [],
   "source": [
    "isinstance(list[str], type)"
   ]
  },
  {
   "cell_type": "code",
   "execution_count": null,
   "id": "1a52073a",
   "metadata": {},
   "outputs": [],
   "source": [
    "isinstance(Optional[float], type)"
   ]
  },
  {
   "cell_type": "code",
   "execution_count": null,
   "id": "1433dc96",
   "metadata": {},
   "outputs": [],
   "source": [
    "isinstance(Any, type)"
   ]
  },
  {
   "cell_type": "code",
   "execution_count": null,
   "id": "ba189ceb",
   "metadata": {},
   "outputs": [],
   "source": [
    "def optional_func(x: Optional[float]) -> type:\n",
    "    if x is None: # None is a 'singleton' - there's only one in the universe.\n",
    "        raise Exception(\"Sorry, I lied when I said this was optional... \")\n",
    "    else:\n",
    "        return type(x)"
   ]
  },
  {
   "cell_type": "code",
   "execution_count": null,
   "id": "ff46546a",
   "metadata": {},
   "outputs": [],
   "source": [
    "# The inspect module allows us to 'introspect' on code, modules, objects etc\n",
    "\n",
    "import inspect"
   ]
  },
  {
   "cell_type": "code",
   "execution_count": null,
   "id": "d6bb8d3d",
   "metadata": {},
   "outputs": [],
   "source": [
    "inspect.signature(optional_func)"
   ]
  },
  {
   "cell_type": "code",
   "execution_count": null,
   "id": "7a2bd93c",
   "metadata": {},
   "outputs": [],
   "source": [
    "for k, v in inspect.get_annotations(optional_func).items():\n",
    "    print(k, type(v))"
   ]
  },
  {
   "cell_type": "code",
   "execution_count": null,
   "id": "950f63a4",
   "metadata": {},
   "outputs": [],
   "source": [
    "# When you call a function, the arguments are by definition objects (since everything is an object)\n",
    "# All objects have a type (and a type heirarchy)"
   ]
  },
  {
   "cell_type": "code",
   "execution_count": null,
   "id": "a460c0be",
   "metadata": {},
   "outputs": [],
   "source": [
    "# A supposedly meaningful heirarchy\n",
    "\n",
    "class ColourfulThing:\n",
    "    def __init__(self, colour: str, **kwargs):\n",
    "        super().__init__(**kwargs)\n",
    "        self.colour = colour\n",
    "        \n",
    "class InflatableThing:\n",
    "    def __init__(self, is_inflated: bool, **kwargs):\n",
    "        super().__init__(**kwargs)\n",
    "        self.is_inflated = is_inflated\n",
    "        \n",
    "    def pop(self):\n",
    "        if self.is_inflated:\n",
    "            self.is_inflated = False\n",
    "            return \"Pop!\"\n",
    "        else:\n",
    "            return \"Nothing happens...\"\n",
    "        \n",
    "class Balloon(ColourfulThing, InflatableThing):\n",
    "    def __init__(self, colour, is_inflated):\n",
    "        super().__init__(colour=colour, is_inflated=is_inflated)\n",
    "        \n",
    "    def __repr__(self):\n",
    "        state = \"inflated\" if self.is_inflated else \"deflated\"\n",
    "        return f\"A currently {state} {self.colour} balloon\""
   ]
  },
  {
   "cell_type": "code",
   "execution_count": null,
   "id": "8e6e646c",
   "metadata": {},
   "outputs": [],
   "source": [
    "b = Balloon(\"red\", True)\n",
    "b"
   ]
  },
  {
   "cell_type": "code",
   "execution_count": null,
   "id": "7cd1291f",
   "metadata": {},
   "outputs": [],
   "source": [
    "b.pop()"
   ]
  },
  {
   "cell_type": "code",
   "execution_count": null,
   "id": "d30bdb2c",
   "metadata": {},
   "outputs": [],
   "source": [
    "b"
   ]
  },
  {
   "cell_type": "code",
   "execution_count": null,
   "id": "495bd936",
   "metadata": {},
   "outputs": [],
   "source": [
    "# How does inheritance get reconciled?\n",
    "# Method Resolution Order\n",
    "\n",
    "Balloon.mro()"
   ]
  },
  {
   "cell_type": "code",
   "execution_count": null,
   "id": "c9ea964f",
   "metadata": {},
   "outputs": [],
   "source": [
    "x = 5.1\n",
    "isinstance(5.1, float), isinstance(5.1, Number)"
   ]
  },
  {
   "cell_type": "code",
   "execution_count": null,
   "id": "f059aba0",
   "metadata": {},
   "outputs": [],
   "source": [
    "# Let's have a look at MRO for a built-in type\n",
    "\n",
    "float.mro()"
   ]
  },
  {
   "cell_type": "code",
   "execution_count": null,
   "id": "b6e0bc2b",
   "metadata": {},
   "outputs": [],
   "source": [
    "# The Abstract Base Class library allows you to declare MetaTypes - these are collections\n",
    "# that can reason about type information using properties of type objects, even if\n",
    "# they are not part of the MRO type heirarchy\n",
    "\n",
    "type(Number)"
   ]
  },
  {
   "cell_type": "markdown",
   "id": "114e4e2a",
   "metadata": {},
   "source": [
    "## A cautionary tale from the 1990s...\n",
    "\n",
    "Object orientation is new and great and replaces everything! Everything lives in a heirachy, and the One True Taxonomy of the Universe is obvious!"
   ]
  },
  {
   "cell_type": "code",
   "execution_count": null,
   "id": "f7417fb6",
   "metadata": {},
   "outputs": [],
   "source": [
    "class ConcreteBalloon(Balloon):\n",
    "    def __init__(self):\n",
    "        # You can't really inflate or deflate a concrete balloon, we'll say that is_inflated is True\n",
    "        # because it looks like it is...\n",
    "        super().__init__(colour=\"Grey\", is_inflated=True)\n"
   ]
  },
  {
   "cell_type": "code",
   "execution_count": null,
   "id": "e135fff8",
   "metadata": {},
   "outputs": [],
   "source": [
    "cb = ConcreteBalloon()\n",
    "cb.pop()"
   ]
  },
  {
   "cell_type": "code",
   "execution_count": null,
   "id": "61fab192",
   "metadata": {},
   "outputs": [],
   "source": [
    "cb"
   ]
  },
  {
   "cell_type": "code",
   "execution_count": null,
   "id": "ba5b418c",
   "metadata": {},
   "outputs": [],
   "source": [
    "# Wow, OK - I guess I can start overwriting those methods, and reading the parent class documentation... \n",
    "# Actually, maybe this heirarchy is wrong (is that possible?)  I guess I can refactor the code..."
   ]
  },
  {
   "cell_type": "markdown",
   "id": "fdfcafc2",
   "metadata": {},
   "source": [
    "## Metaprogramming with types as objects"
   ]
  },
  {
   "cell_type": "code",
   "execution_count": null,
   "id": "f5e52dc0",
   "metadata": {},
   "outputs": [],
   "source": [
    "# Let's try something a bit weird...\n",
    "\n",
    "# Please never do anything like this, just know that you can\n",
    "class WordNumber(int):\n",
    "    \n",
    "    def __repr__(self):\n",
    "        return str(self)\n",
    "    \n",
    "    def __str__(self):\n",
    "        if self < 0:\n",
    "            return \"negative number\"\n",
    "        elif self > 3:\n",
    "            return \"higher than I can count!\"\n",
    "        word_map = {\n",
    "            0: \"zero\",\n",
    "            1: \"one\",\n",
    "            2: \"two\",\n",
    "            3: \"three\"\n",
    "        }\n",
    "        return word_map[self]\n",
    "    \n",
    "    def __add__(self, other):\n",
    "        return WordNumber(int(self)+int(other))"
   ]
  },
  {
   "cell_type": "code",
   "execution_count": null,
   "id": "41ffc5f5",
   "metadata": {},
   "outputs": [],
   "source": [
    "x = WordNumber(2)\n",
    "x"
   ]
  },
  {
   "cell_type": "code",
   "execution_count": null,
   "id": "a160198f",
   "metadata": {},
   "outputs": [],
   "source": [
    "type(x) == int"
   ]
  },
  {
   "cell_type": "code",
   "execution_count": null,
   "id": "96d0decf",
   "metadata": {},
   "outputs": [],
   "source": [
    "isinstance(x, int)"
   ]
  },
  {
   "cell_type": "code",
   "execution_count": null,
   "id": "c23c8ac0",
   "metadata": {},
   "outputs": [],
   "source": [
    "isinstance(x, Integral)"
   ]
  },
  {
   "cell_type": "code",
   "execution_count": null,
   "id": "832541f4",
   "metadata": {},
   "outputs": [],
   "source": [
    "# Inspecting the type heirarchy;\n",
    "# MRO (Method Resolution Order)\n",
    "\n",
    "WordNumber.mro()"
   ]
  },
  {
   "cell_type": "code",
   "execution_count": null,
   "id": "80ad39cc",
   "metadata": {},
   "outputs": [],
   "source": [
    "def wordnumber_factory(base_type: type) -> type:\n",
    "    class WordNumber(base_type):\n",
    "    \n",
    "        def __repr__(self):\n",
    "            return str(self)\n",
    "\n",
    "        def __str__(self):\n",
    "            if self < 0:\n",
    "                return \"negative number\"\n",
    "            elif self > 3:\n",
    "                return \"higher than I can count!\"\n",
    "            word_map = {\n",
    "                0: \"zero\",\n",
    "                1: \"one\",\n",
    "                2: \"two\",\n",
    "                3: \"three\"\n",
    "            }\n",
    "            return word_map[self]\n",
    "\n",
    "        def __add__(self, other):\n",
    "            return WordNumber(base_type(self)+base_type(other))\n",
    "        \n",
    "    return WordNumber"
   ]
  },
  {
   "cell_type": "code",
   "execution_count": null,
   "id": "f093e40e",
   "metadata": {},
   "outputs": [],
   "source": [
    "WordNumberFloat = wordnumber_factory(float)\n",
    "WordNumberInt = wordnumber_factory(int)"
   ]
  },
  {
   "cell_type": "code",
   "execution_count": null,
   "id": "9baf70cd",
   "metadata": {},
   "outputs": [],
   "source": [
    "type(WordNumberFloat)"
   ]
  },
  {
   "cell_type": "code",
   "execution_count": null,
   "id": "35035986",
   "metadata": {},
   "outputs": [],
   "source": [
    "x = WordNumberInt(2)\n",
    "x"
   ]
  },
  {
   "cell_type": "code",
   "execution_count": null,
   "id": "9703f7a1",
   "metadata": {},
   "outputs": [],
   "source": [
    "y = WordNumberFloat(2.0)\n",
    "y"
   ]
  },
  {
   "cell_type": "code",
   "execution_count": null,
   "id": "71dac5ab",
   "metadata": {},
   "outputs": [],
   "source": [
    "y = WordNumberFloat(2.5)\n",
    "y"
   ]
  },
  {
   "cell_type": "code",
   "execution_count": null,
   "id": "add06dab",
   "metadata": {},
   "outputs": [],
   "source": [
    "def better_wordnumber_factory(base_type):\n",
    "    class WordNumber(base_type):\n",
    "    \n",
    "        def __repr__(self):\n",
    "            return str(self)\n",
    "\n",
    "        def __str__(self):\n",
    "            if self < 0:\n",
    "                return \"negative number\"\n",
    "            elif self > 3:\n",
    "                return \"higher than I can count!\"\n",
    "            word_map = {\n",
    "                0: \"zero\",\n",
    "                1: \"one\",\n",
    "                2: \"two\",\n",
    "                3: \"three\"\n",
    "            }\n",
    "            if int(self) == self:\n",
    "                return word_map[self]\n",
    "            else:\n",
    "                return f\"{word_map[int(self)]} and a bit\"\n",
    "\n",
    "        def __add__(self, other):\n",
    "            return WordNumber(base_type(self)+base_type(other))\n",
    "        \n",
    "    return WordNumber"
   ]
  },
  {
   "cell_type": "code",
   "execution_count": null,
   "id": "fefeb8b7",
   "metadata": {},
   "outputs": [],
   "source": [
    "WordNumberFloat = better_wordnumber_factory(float)"
   ]
  },
  {
   "cell_type": "code",
   "execution_count": null,
   "id": "ce0a3dc5",
   "metadata": {},
   "outputs": [],
   "source": [
    "x = WordNumberFloat(1.0)\n",
    "y = WordNumberFloat(1.5)\n",
    "x, y"
   ]
  },
  {
   "cell_type": "code",
   "execution_count": null,
   "id": "e1c40733",
   "metadata": {},
   "outputs": [],
   "source": [
    "x + y"
   ]
  },
  {
   "cell_type": "code",
   "execution_count": null,
   "id": "c097aaab",
   "metadata": {},
   "outputs": [],
   "source": [
    "float(x+y)"
   ]
  },
  {
   "cell_type": "code",
   "execution_count": null,
   "id": "e8cba20c",
   "metadata": {},
   "outputs": [],
   "source": [
    "f\"I have {x+y} fish in my pockets\""
   ]
  },
  {
   "cell_type": "code",
   "execution_count": null,
   "id": "ac6a6740",
   "metadata": {},
   "outputs": [],
   "source": [
    "isinstance(x, Real)"
   ]
  },
  {
   "cell_type": "code",
   "execution_count": null,
   "id": "a1270832",
   "metadata": {},
   "outputs": [],
   "source": [
    "np.ones(5) * (x+y)"
   ]
  },
  {
   "cell_type": "markdown",
   "id": "2cbde4a7",
   "metadata": {},
   "source": [
    "## Is Python really \"type safe\"?\n",
    "\n",
    "Sure it is - as long as you're in Python"
   ]
  },
  {
   "cell_type": "code",
   "execution_count": null,
   "id": "52cd9925",
   "metadata": {},
   "outputs": [],
   "source": [
    "x = np.linspace(0,1,20, dtype=np.float64)"
   ]
  },
  {
   "cell_type": "code",
   "execution_count": null,
   "id": "cf863c51",
   "metadata": {},
   "outputs": [],
   "source": [
    "x"
   ]
  },
  {
   "cell_type": "code",
   "execution_count": null,
   "id": "31a8d781",
   "metadata": {},
   "outputs": [],
   "source": [
    "# The raw memory contents of our numpy array - the thing that will get passed into C/Fortran functions\n",
    "# inside numpy, scipy etc\n",
    "\n",
    "x.tobytes()"
   ]
  },
  {
   "cell_type": "code",
   "execution_count": null,
   "id": "d377ecb9",
   "metadata": {},
   "outputs": [],
   "source": [
    "type(x.tobytes())"
   ]
  },
  {
   "cell_type": "code",
   "execution_count": null,
   "id": "87281309",
   "metadata": {},
   "outputs": [],
   "source": [
    "# Reconstitute this array from the bytes - note that we need to specify type and shape information\n",
    "# This got lost in the \"untyped\" bytes representation\n",
    "\n",
    "# OK, so we only read 10 values in shape, but they're clearly the _right_ values...\n",
    "\n",
    "np.ndarray(buffer=x.tobytes(), dtype=float, shape=(10,))"
   ]
  },
  {
   "cell_type": "code",
   "execution_count": null,
   "id": "aae3d88a",
   "metadata": {},
   "outputs": [],
   "source": [
    "# Let's make a subtle mistake...\n",
    "\n",
    "x = np.linspace(0,1,20,dtype=np.float32)"
   ]
  },
  {
   "cell_type": "code",
   "execution_count": null,
   "id": "15f90e37",
   "metadata": {},
   "outputs": [],
   "source": [
    "y = np.ndarray(buffer=x.tobytes(), dtype=float, shape=(10,))"
   ]
  },
  {
   "cell_type": "code",
   "execution_count": null,
   "id": "a7fca688",
   "metadata": {},
   "outputs": [],
   "source": [
    "import pandas as pd"
   ]
  },
  {
   "cell_type": "code",
   "execution_count": null,
   "id": "4acbda05",
   "metadata": {},
   "outputs": [],
   "source": [
    "# Our original array\n",
    "\n",
    "pd.Series(x).plot()"
   ]
  },
  {
   "cell_type": "code",
   "execution_count": null,
   "id": "76952ddc",
   "metadata": {},
   "outputs": [],
   "source": [
    "# The reconstituted version\n",
    "# Something looks... a bit strange\n",
    "\n",
    "pd.Series(y).plot()"
   ]
  },
  {
   "cell_type": "markdown",
   "id": "880a1252",
   "metadata": {},
   "source": [
    "### Floating point representation\n",
    "\n",
    "For a full explanation of what just happened, we'll cover this in another workshop - the short answer is that floating point numbers use part of their memory to represent the exponent (scale), and another part to represent the precise value (mantissa).  As discussed in C example at the start, something might be 'valid' (ie not crash), but still be nonsense - or even worse, Plausible But Wrong.  On the plus side, exploiting this kind of thing can be highly lucrative...\n",
    "\n",
    "https://en.wikipedia.org/wiki/Fast_inverse_square_root<br>\n",
    "https://en.wikipedia.org/wiki/Quake_III_Arena"
   ]
  },
  {
   "cell_type": "markdown",
   "id": "519924ab",
   "metadata": {},
   "source": [
    "### Final thoughts\n",
    "\n",
    "Python's type system has grown gradually over many years, and several \"Pythons\"; it isn't always internally consistent, but it does provide significant capacity for reasoning about ideas, and improving legibility and safety of code.<br>\n",
    "\n",
    "...As always, it's only as good as the weakest link in the chain.  Know your libraries, and when not to trust them - and try to write code that other people (ie you in the future) can trust!"
   ]
  },
  {
   "cell_type": "markdown",
   "id": "39ae6506",
   "metadata": {},
   "source": [
    "## ...ps\n",
    "\n",
    "Remember this?\n",
    "```\n",
    "if type(x) == float:\n",
    "    do_something(x)\n",
    "```\n",
    "\n",
    "You probably meant\n",
    "```\n",
    "if isinstance(x, Real):\n",
    "```\n",
    "\n",
    "...but I'm sure you know that by now!\n"
   ]
  }
 ],
 "metadata": {
  "kernelspec": {
   "display_name": "Python 3 (ipykernel)",
   "language": "python",
   "name": "python3"
  },
  "language_info": {
   "codemirror_mode": {
    "name": "ipython",
    "version": 3
   },
   "file_extension": ".py",
   "mimetype": "text/x-python",
   "name": "python",
   "nbconvert_exporter": "python",
   "pygments_lexer": "ipython3",
   "version": "3.10.3"
  }
 },
 "nbformat": 4,
 "nbformat_minor": 5
}
