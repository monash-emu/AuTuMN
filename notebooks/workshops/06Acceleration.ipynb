{
 "cells": [
  {
   "cell_type": "markdown",
   "id": "dcaa1914-939f-417a-acea-0f806533f205",
   "metadata": {},
   "source": [
    "# Accelerated Python\n",
    "## - Numpy, Numba, Jax\n",
    "## - JIT theory and application"
   ]
  },
  {
   "cell_type": "code",
   "execution_count": null,
   "id": "a0d4535b-fe61-4a9f-b081-fd777638c7a2",
   "metadata": {},
   "outputs": [],
   "source": [
    "import numpy as np\n",
    "import pandas as pd\n",
    "from numba import jit as njit"
   ]
  },
  {
   "cell_type": "markdown",
   "id": "36915e88-5bc2-41e8-9cc3-27a233fd217d",
   "metadata": {},
   "source": [
    "## Python is a virtual machine\n",
    "\n",
    "### ...but what does that mean?"
   ]
  },
  {
   "cell_type": "code",
   "execution_count": null,
   "id": "cb8afa64-6759-4350-9a1c-e0034ba5e8c0",
   "metadata": {},
   "outputs": [],
   "source": [
    "# Our extremely simple calculating virtual machine\n",
    "# It has 4 possible operations (represented as 'opcode' strings),\n",
    "# and processes these in a ticker-tape like fashion\n",
    "\n",
    "def trivial_vm(inputs):\n",
    "    out_value = 0.0\n",
    "    for opcode,data in inputs:\n",
    "        if opcode=='+':\n",
    "            out_value += data\n",
    "        elif opcode == '-':\n",
    "            out_value -= data\n",
    "        elif opcode == '*':\n",
    "            out_value *= data\n",
    "        elif opcode == '/':\n",
    "            out_value /= data\n",
    "    return out_value"
   ]
  },
  {
   "cell_type": "code",
   "execution_count": null,
   "id": "18db55c7-36b0-4aeb-95cd-d708f40a0427",
   "metadata": {},
   "outputs": [],
   "source": [
    "trivial_vm([('+',2.0),('*',3.0),('-',1.0),('/',5.0)])"
   ]
  },
  {
   "cell_type": "markdown",
   "id": "8ac6d598-a5f6-4e53-9fe9-11b045e48403",
   "metadata": {},
   "source": [
    "## A motivating example"
   ]
  },
  {
   "cell_type": "code",
   "execution_count": null,
   "id": "b67604f9-f97c-450b-8d2b-e4e79e49b10a",
   "metadata": {},
   "outputs": [],
   "source": [
    "def accumulate_positive_flow_contributions(\n",
    "    flow_rates: np.ndarray,\n",
    "    comp_rates: np.ndarray,\n",
    "    pos_flow_map: np.ndarray,\n",
    "):\n",
    "    \"\"\"\n",
    "    Fast accumulator for summing positive flow rates into their effects on compartments\n",
    "\n",
    "    Args:\n",
    "        flow_rates (np.ndarray): Flow rates to be accumulated\n",
    "        comp_rates (np.ndarray): Output array of compartment rates\n",
    "        pos_flow_map (np.ndarray): Array of src (flow), target (compartment) indices\n",
    "    \"\"\"\n",
    "    for src, target in pos_flow_map:\n",
    "        comp_rates[target] += flow_rates[src]"
   ]
  },
  {
   "cell_type": "code",
   "execution_count": null,
   "id": "56f9252f-9e08-49c8-bf9c-d682f1a1988a",
   "metadata": {},
   "outputs": [],
   "source": [
    "flow_rates = np.linspace(0,1.0,1000)\n",
    "comp_rates = np.zeros(1000)\n",
    "flow_map = np.array([np.random.choice(range(1000),1000,False),np.random.choice(range(1000),1000,False)],dtype=np.int32).T"
   ]
  },
  {
   "cell_type": "code",
   "execution_count": null,
   "id": "510e1ace-35b4-4617-a53d-93b1ea5e7684",
   "metadata": {},
   "outputs": [],
   "source": [
    "%timeit accumulate_positive_flow_contributions(flow_rates,comp_rates,flow_map)"
   ]
  },
  {
   "cell_type": "code",
   "execution_count": null,
   "id": "6599d715-d2f8-4fc9-8110-02879541908e",
   "metadata": {},
   "outputs": [],
   "source": [
    "numba_accum = njit(accumulate_positive_flow_contributions)"
   ]
  },
  {
   "cell_type": "code",
   "execution_count": null,
   "id": "d26da9a5-3fae-450f-90d1-cf9dd6da1d5e",
   "metadata": {},
   "outputs": [],
   "source": [
    "%time numba_accum(flow_rates,comp_rates,flow_map)"
   ]
  },
  {
   "cell_type": "code",
   "execution_count": null,
   "id": "ef7d80da-098f-4ced-b193-87e79db1bf29",
   "metadata": {},
   "outputs": [],
   "source": [
    "%timeit numba_accum(flow_rates,comp_rates,flow_map)"
   ]
  },
  {
   "cell_type": "code",
   "execution_count": null,
   "id": "08f3cb87-e169-4f6d-af57-470f50e05b61",
   "metadata": {},
   "outputs": [],
   "source": [
    "def accumulate_natural(\n",
    "    flow_rates: np.ndarray,\n",
    "    comp_rates: np.ndarray,\n",
    "    pos_flow_map: dict[int,np.ndarray]\n",
    "):\n",
    "    for target, srcs in pos_flow_map.items():\n",
    "        comp_rates[target] += flow_rates[srcs].sum()"
   ]
  },
  {
   "cell_type": "code",
   "execution_count": null,
   "id": "61d66b2b-aaf0-4e99-9ca8-bce177ed1279",
   "metadata": {},
   "outputs": [],
   "source": [
    "accumulate_natural(flow_rates, comp_rates, {0: [1,5,17]})"
   ]
  },
  {
   "cell_type": "code",
   "execution_count": null,
   "id": "8b99a4b1-b91a-4c61-b266-c0a2eea0a1db",
   "metadata": {},
   "outputs": [],
   "source": [
    "acc_nat_numba = njit(accumulate_natural)\n",
    "\n",
    "%time acc_nat_numba(flow_rates, comp_rates, {0: [1,5,17]})"
   ]
  },
  {
   "cell_type": "code",
   "execution_count": null,
   "id": "400686ff-f1fd-4b64-94e8-a754c6eee677",
   "metadata": {},
   "outputs": [],
   "source": [
    "from jax import numpy as jnp, scipy as jsp\n",
    "from jax import jit, grad, mask, lax, vmap\n",
    "\n",
    "from jax.config import config\n",
    "config.update(\"jax_enable_x64\", True)"
   ]
  },
  {
   "cell_type": "code",
   "execution_count": null,
   "id": "16535627-0721-4648-aa30-5cc8df7c38aa",
   "metadata": {},
   "outputs": [],
   "source": [
    "import scipy"
   ]
  },
  {
   "cell_type": "code",
   "execution_count": null,
   "id": "be61546e-9f15-4bcd-9e54-4499acf6223b",
   "metadata": {},
   "outputs": [],
   "source": [
    "def calculate_rates_for_interval(\n",
    "        start_props: pd.core.series.Series, end_props: pd.core.series.Series, delta_t: float, strata: list[str],\n",
    "        active_flows: dict\n",
    ") -> dict:\n",
    "\n",
    "    # Determine some basic characteristics\n",
    "    n_strata = len(strata)\n",
    "    n_params = len(active_flows)\n",
    "    ordered_flow_names = list(active_flows.keys())\n",
    "\n",
    "    # Create the function that we need to find the root of\n",
    "    def function_to_zero(params):\n",
    "        # params is a list ordered in the same order as ordered_flow_names\n",
    "\n",
    "        # Create the transition matrix associated with a given set of transition parameters\n",
    "        m = np.zeros((n_strata, n_strata))\n",
    "        for i_row, stratum_row in enumerate(strata):\n",
    "            for i_col, stratum_col in enumerate(strata):\n",
    "                if i_row == i_col:\n",
    "                    # Diagonal components capture flows starting from the associated stratum\n",
    "                    relevant_flow_names = [f_name for f_name, f_ends in active_flows.items() if f_ends[0] == stratum_row]\n",
    "                    for f_name in relevant_flow_names:\n",
    "                        m[i_row, i_col] -= params[ordered_flow_names.index(f_name)]\n",
    "                else:\n",
    "                    # Off-diagonal components capture flows from stratum_col to stratum_row\n",
    "                    for f_name, f_ends in active_flows.items():\n",
    "                        if f_ends == (stratum_col, stratum_row):\n",
    "                            m[i_row, i_col] = params[ordered_flow_names.index(f_name)]\n",
    "\n",
    "        # Calculate the matrix exponential, accounting for the time interval width\n",
    "        exp_mt = scipy.linalg.expm(m * delta_t)\n",
    "\n",
    "        # Calculate the difference between the left and right terms of the equation\n",
    "        diff = np.matmul(exp_mt, start_props) - end_props\n",
    "\n",
    "        # Return the norm of the vector to make the minimised function a scalar function\n",
    "        return scipy.linalg.norm(diff)\n",
    "    \n",
    "    return function_to_zero\n"
   ]
  },
  {
   "cell_type": "code",
   "execution_count": null,
   "id": "33a2acb2-9ee1-49ae-889a-61f08250f8b1",
   "metadata": {},
   "outputs": [],
   "source": [
    "strata = [\"A\",\"B\",\"C\"]\n",
    "start_props = pd.Series([1.0,0.0,0.0],index=strata)\n",
    "end_props = pd.Series([0.3,0.5,0.2],index=strata)\n",
    "\n",
    "delta_t = 100.0\n",
    "active_flows = {\n",
    "    'a_to_b': (\"A\",\"B\"),\n",
    "    'b_to_c': (\"B\",\"C\"),\n",
    "    'c_to_a': (\"C\",\"A\"),    \n",
    "}\n",
    "\n",
    "ftz = calculate_rates_for_interval(start_props, end_props, delta_t, strata, active_flows)"
   ]
  },
  {
   "cell_type": "code",
   "execution_count": null,
   "id": "8555cd5e-0d3c-44b7-bb85-1b84f3a2c081",
   "metadata": {},
   "outputs": [],
   "source": [
    "%timeit ftz((0.0,0.0,0.0))"
   ]
  },
  {
   "cell_type": "code",
   "execution_count": null,
   "id": "e416f3fd-b91e-4a7c-a44f-98592fa9425b",
   "metadata": {},
   "outputs": [],
   "source": [
    "def calc_rates_int_jax(\n",
    "        start_props: pd.core.series.Series, end_props: pd.core.series.Series, delta_t: float, strata: list[str],\n",
    "        active_flows: dict\n",
    ") -> dict:\n",
    "\n",
    "    # Determine some basic characteristics\n",
    "    n_strata = len(strata)\n",
    "    n_params = len(active_flows)\n",
    "    ordered_flow_names = list(active_flows.keys())\n",
    "    \n",
    "    start_props = jnp.array(start_props)\n",
    "    end_props = jnp.array(end_props)\n",
    "\n",
    "    # Create the function that we need to find the root of\n",
    "    @jit\n",
    "    def function_to_zero(params):\n",
    "        # params is a list ordered in the same order as ordered_flow_names\n",
    "\n",
    "        # Create the transition matrix associated with a given set of transition parameters\n",
    "        m = jnp.zeros((n_strata, n_strata))\n",
    "        for i_row, stratum_row in enumerate(strata):\n",
    "            for i_col, stratum_col in enumerate(strata):\n",
    "                if i_row == i_col:\n",
    "                    # Diagonal components capture flows starting from the associated stratum\n",
    "                    relevant_flow_names = [f_name for f_name, f_ends in active_flows.items() if f_ends[0] == stratum_row]\n",
    "                    for f_name in relevant_flow_names:\n",
    "                        m.at[i_row, i_col].add(-params[ordered_flow_names.index(f_name)])\n",
    "                else:\n",
    "                    # Off-diagonal components capture flows from stratum_col to stratum_row\n",
    "                    for f_name, f_ends in active_flows.items():\n",
    "                        if f_ends == (stratum_col, stratum_row):\n",
    "                            m = m.at[i_row, i_col].set(params[ordered_flow_names.index(f_name)])\n",
    "\n",
    "        # Calculate the matrix exponential, accounting for the time interval width\n",
    "        exp_mt = jsp.linalg.expm(m * delta_t)\n",
    "\n",
    "        # Calculate the difference between the left and right terms of the equation\n",
    "        diff = jnp.matmul(exp_mt, start_props) - end_props\n",
    "\n",
    "        # Return the norm of the vector to make the minimised function a scalar function\n",
    "        return jnp.linalg.norm(diff)\n",
    "    \n",
    "    return function_to_zero\n"
   ]
  },
  {
   "cell_type": "code",
   "execution_count": null,
   "id": "5476f438-94e4-4b83-9a16-c7c1182b2056",
   "metadata": {},
   "outputs": [],
   "source": [
    "ftzj = calc_rates_int_jax(start_props, end_props, delta_t, strata, active_flows)"
   ]
  },
  {
   "cell_type": "code",
   "execution_count": null,
   "id": "09e4fddf-44fd-4b54-ae97-260969dd6715",
   "metadata": {},
   "outputs": [],
   "source": [
    "%timeit ftz((0.0,0.0,0.0))"
   ]
  },
  {
   "cell_type": "code",
   "execution_count": null,
   "id": "c32a176f-add2-4116-b4c7-c6328162ae51",
   "metadata": {},
   "outputs": [],
   "source": [
    "%timeit ftzj((0.0,0.0,0.0))"
   ]
  },
  {
   "cell_type": "code",
   "execution_count": null,
   "id": "a0768347-d103-499e-b8b1-44cb1f5667b0",
   "metadata": {},
   "outputs": [],
   "source": [
    "np.random.uniform(size=(1000,3)).shape"
   ]
  },
  {
   "cell_type": "code",
   "execution_count": null,
   "id": "8729cbde-2c0d-4d75-8445-b064846c9a29",
   "metadata": {},
   "outputs": [],
   "source": [
    "vparams = jnp.array(np.random.uniform(size=(500,3)))"
   ]
  },
  {
   "cell_type": "code",
   "execution_count": null,
   "id": "da2591d0-e22f-4999-a3cc-0e8f4aad4600",
   "metadata": {},
   "outputs": [],
   "source": [
    "f = jit(vmap(ftzj))\n",
    "\n",
    "%time _ = f(vparams)"
   ]
  },
  {
   "cell_type": "code",
   "execution_count": null,
   "id": "1f23abce-ea7c-44f2-8427-74d7ab5297b8",
   "metadata": {},
   "outputs": [],
   "source": [
    "%timeit _ = f(vparams)"
   ]
  },
  {
   "cell_type": "code",
   "execution_count": null,
   "id": "631c5297-2002-4596-ac4c-d28d054dba96",
   "metadata": {},
   "outputs": [],
   "source": [
    "grad(ftzj)((0.1,0.0,0.0))"
   ]
  },
  {
   "cell_type": "markdown",
   "id": "77b16000-c5a0-4799-9774-c19661e5a07b",
   "metadata": {},
   "source": [
    "# Jax syntax and application"
   ]
  },
  {
   "cell_type": "code",
   "execution_count": null,
   "id": "eb9899c7-2148-4c67-9108-867534ce1de3",
   "metadata": {},
   "outputs": [],
   "source": [
    "def condf_py(t):\n",
    "    if t < 0.0:\n",
    "        return t * -1.5\n",
    "    else:\n",
    "        return t ** 2.5"
   ]
  },
  {
   "cell_type": "code",
   "execution_count": null,
   "id": "ff719176-29c2-4f1b-be28-7e3ba8fcaa9d",
   "metadata": {},
   "outputs": [],
   "source": [
    "def condf_jax(t):\n",
    "    return lax.cond(t<0.0, lambda t: t*-1.5, lambda t: t**2.5, t) "
   ]
  },
  {
   "cell_type": "code",
   "execution_count": null,
   "id": "bafc2554-f774-4b02-a529-387b13ff9137",
   "metadata": {},
   "outputs": [],
   "source": [
    "condf_py(0.5)"
   ]
  },
  {
   "cell_type": "code",
   "execution_count": null,
   "id": "ea09c376-32ea-4d4b-b930-bf6d1a5482e0",
   "metadata": {},
   "outputs": [],
   "source": [
    "condf_jax(0.5)"
   ]
  },
  {
   "cell_type": "code",
   "execution_count": null,
   "id": "a7b7aa08-7d80-4719-ba3e-8d7a9f7f6a90",
   "metadata": {},
   "outputs": [],
   "source": [
    "j_condf_jax = jit(condf_jax)\n",
    "j_condf_jax(0.5,)"
   ]
  },
  {
   "cell_type": "code",
   "execution_count": null,
   "id": "3fc564ec-ef31-4be4-89de-8569d92bff9c",
   "metadata": {},
   "outputs": [],
   "source": [
    "pd.Series([float(condf_py(x)) for x in np.linspace(-1.0,1.0,100)]).plot()"
   ]
  },
  {
   "cell_type": "code",
   "execution_count": null,
   "id": "fbff00d7-92cc-4c9e-b259-502bfe6a23dd",
   "metadata": {},
   "outputs": [],
   "source": [
    "pd.Series([float(j_condf_jax(x)) for x in np.linspace(-1.0,1.0,100)]).plot()\n",
    "pd.Series([float(grad(j_condf_jax)(x)) for x in np.linspace(-1.0,1.0,100)]).plot()"
   ]
  },
  {
   "cell_type": "code",
   "execution_count": null,
   "id": "b97a8e81-e209-4755-a3aa-b2df1ec8b3ba",
   "metadata": {},
   "outputs": [],
   "source": [
    "%time for x in np.linspace(-10,1.0,1000000): condf_py(x)"
   ]
  },
  {
   "cell_type": "code",
   "execution_count": null,
   "id": "b5d7823a-b7c0-4238-8e2d-bf2c18808884",
   "metadata": {},
   "outputs": [],
   "source": [
    "vec_func = jit(vmap(condf_jax))"
   ]
  },
  {
   "cell_type": "code",
   "execution_count": null,
   "id": "ed1b3850-8bb3-4b50-8434-039a29f6e749",
   "metadata": {},
   "outputs": [],
   "source": [
    "mapped_space = jnp.linspace(-1.0,1.0,1000000)\n",
    "_ = vec_func(mapped_space)"
   ]
  },
  {
   "cell_type": "code",
   "execution_count": null,
   "id": "244f9083-5862-4553-82a7-0fdca1d41965",
   "metadata": {},
   "outputs": [],
   "source": [
    "%timeit vec_func(mapped_space)"
   ]
  },
  {
   "cell_type": "code",
   "execution_count": null,
   "id": "d412491c-898f-4564-87e5-1e2923c58d5f",
   "metadata": {},
   "outputs": [],
   "source": [
    "def condf_np(t):\n",
    "    out_arr = np.empty_like(t)\n",
    "    low = np.where(t < 0.0)\n",
    "    out_arr[low] = t[low] * -1.5\n",
    "    \n",
    "    high = np.where(t >= 0.0)\n",
    "    out_arr[high] = t[high] ** 2.5\n",
    "    \n",
    "    return out_arr"
   ]
  },
  {
   "cell_type": "code",
   "execution_count": null,
   "id": "919508c9-4d25-489b-ab81-06f1986a0a27",
   "metadata": {},
   "outputs": [],
   "source": [
    "%timeit _ = condf_np(np.linspace(-1.0,1.0,1000000))"
   ]
  },
  {
   "cell_type": "code",
   "execution_count": null,
   "id": "d77c82de-180c-4f37-96ae-c3d6c78f4ccf",
   "metadata": {},
   "outputs": [],
   "source": [
    "vec_grad = jit(vmap(grad(condf_jax)))\n",
    "grad_res = vec_grad(mapped_space)"
   ]
  },
  {
   "cell_type": "code",
   "execution_count": null,
   "id": "01f65633-4e86-4543-96b2-9c43cc382a55",
   "metadata": {},
   "outputs": [],
   "source": [
    "%timeit _ = vec_grad(mapped_space)"
   ]
  },
  {
   "cell_type": "code",
   "execution_count": null,
   "id": "1dabe91b-4ee9-4dcf-9b7c-3e09e783e71e",
   "metadata": {},
   "outputs": [],
   "source": [
    "pd.Series(grad_res, index=mapped_space).plot()"
   ]
  },
  {
   "cell_type": "markdown",
   "id": "b39985c1-b6c8-459d-ac78-41449359820f",
   "metadata": {},
   "source": [
    "# Real world applications, long term goals...<br>\n",
    "#\n",
    "#\n",
    "#\n",
    "#\n",
    "#\n",
    "#\n",
    "#\n",
    "#\n",
    "#\n",
    "#\n",
    "#\n",
    "# <b>Summer in Jax!"
   ]
  },
  {
   "cell_type": "code",
   "execution_count": null,
   "id": "eadc5a6b-7139-4aeb-b8e5-248b59023f2e",
   "metadata": {},
   "outputs": [],
   "source": [
    "import summer"
   ]
  },
  {
   "cell_type": "code",
   "execution_count": null,
   "id": "d4ddcbd3-c85e-43ad-a56b-e3f083e93257",
   "metadata": {},
   "outputs": [],
   "source": [
    "from dataclasses import dataclass"
   ]
  },
  {
   "cell_type": "code",
   "execution_count": null,
   "id": "03bb4dd3-6906-45de-9f80-3d2d67159c74",
   "metadata": {},
   "outputs": [],
   "source": [
    "@dataclass\n",
    "class Param:\n",
    "    name: str"
   ]
  },
  {
   "cell_type": "code",
   "execution_count": null,
   "id": "269f264d-3551-40f3-934a-cb94feeb9377",
   "metadata": {},
   "outputs": [],
   "source": [
    "params = {\"contact_rate\": 1.0, \"recovery_rate\": 0.01}"
   ]
  },
  {
   "cell_type": "code",
   "execution_count": null,
   "id": "81341b79-c77e-4599-81cd-3c8c181a3779",
   "metadata": {},
   "outputs": [],
   "source": [
    "def build_model_param():\n",
    "    m = summer.CompartmentalModel([0,100],[\"S\",\"I\",\"R\"],[\"I\"])\n",
    "    m.set_initial_population(dict(S=90,I=10,R=0))\n",
    "    m.add_infection_frequency_flow(\"infection\",Param(\"contact_rate\"),\"S\",\"I\")\n",
    "    m.add_transition_flow(\"recovery\",Param(\"recovery_rate\"),\"I\",\"R\")\n",
    "    return m"
   ]
  },
  {
   "cell_type": "code",
   "execution_count": null,
   "id": "cd0b2f5f-7075-4d46-84a9-cdb6e45bb7db",
   "metadata": {
    "tags": []
   },
   "outputs": [],
   "source": [
    "def build_model_static():\n",
    "    m = summer.CompartmentalModel([0,100],[\"S\",\"I\",\"R\"],[\"I\"])\n",
    "    m.set_initial_population(dict(S=90,I=10,R=0))\n",
    "    m.add_infection_frequency_flow(\"infection\",params['contact_rate'],\"S\",\"I\")\n",
    "    m.add_transition_flow(\"recovery\",params['recovery_rate'],\"I\",\"R\")\n",
    "    return m"
   ]
  },
  {
   "cell_type": "code",
   "execution_count": null,
   "id": "23991580-cedd-46a2-a184-c9a538c4e8d3",
   "metadata": {},
   "outputs": [],
   "source": [
    "from summer import Stratification"
   ]
  },
  {
   "cell_type": "code",
   "execution_count": null,
   "id": "5d15306e-c563-4e2e-bf64-2b571a8f7981",
   "metadata": {},
   "outputs": [],
   "source": [
    "age_strata = list(range(0,80,5))\n",
    "print(age_strata)\n",
    "\n",
    "age_strat = Stratification(name=\"age\", strata=age_strata, compartments=[\"S\", \"I\", \"R\"])\n",
    "\n",
    "# Build and run model with the stratification we just defined\n",
    "m_strat = build_model_param()\n",
    "m_strat.stratify_with(age_strat)\n",
    "\n",
    "m_strat_static = build_model_static()\n",
    "m_strat_static.stratify_with(age_strat)"
   ]
  },
  {
   "cell_type": "code",
   "execution_count": null,
   "id": "5c1859b4-2b30-46d6-820f-c984d61a4d90",
   "metadata": {
    "tags": []
   },
   "outputs": [],
   "source": [
    "m_static = build_model_static()"
   ]
  },
  {
   "cell_type": "code",
   "execution_count": null,
   "id": "eb1dc187-5fdc-4834-8a0b-0ffe5aaf5e1c",
   "metadata": {
    "tags": []
   },
   "outputs": [],
   "source": [
    "%timeit m_static.run()"
   ]
  },
  {
   "cell_type": "code",
   "execution_count": null,
   "id": "e8c70e87-9c45-47a7-9bee-b30f41866183",
   "metadata": {},
   "outputs": [],
   "source": [
    "%timeit m_strat_static.run()"
   ]
  },
  {
   "cell_type": "code",
   "execution_count": null,
   "id": "378ee7aa-1927-4eea-8260-72dc7a1252e5",
   "metadata": {
    "tags": []
   },
   "outputs": [],
   "source": [
    "m_static.get_outputs_df().plot()"
   ]
  },
  {
   "cell_type": "code",
   "execution_count": null,
   "id": "3a2d6770-e64a-484a-a567-8bb2f265ae83",
   "metadata": {
    "tags": []
   },
   "outputs": [],
   "source": [
    "m_param = build_model_param()"
   ]
  },
  {
   "cell_type": "code",
   "execution_count": null,
   "id": "e165d60b-25ae-4bbb-9651-bc4da5e6f6a7",
   "metadata": {},
   "outputs": [],
   "source": [
    "m_param._flows[1].param"
   ]
  },
  {
   "cell_type": "code",
   "execution_count": null,
   "id": "b8227111-428d-4ea9-aad3-7c40bb5f2431",
   "metadata": {},
   "outputs": [],
   "source": [
    "from summer import CompartmentalModel, flows"
   ]
  },
  {
   "cell_type": "code",
   "execution_count": null,
   "id": "b9374603-fbf5-46b2-b508-4e5de4590c4f",
   "metadata": {},
   "outputs": [],
   "source": [
    "def extract_summer(m: CompartmentalModel):\n",
    "    @jit\n",
    "    def get_rates(y, t, params):\n",
    "        out_rates = jnp.zeros_like(y)\n",
    "        for f in m._flows:\n",
    "            src_idx = m.compartments.index(f.source)\n",
    "            dst_idx = m.compartments.index(f.dest)\n",
    "            \n",
    "            if isinstance(f, flows.InfectionFrequencyFlow):\n",
    "                S, I = y[src_idx], y[dst_idx]\n",
    "                rate = S * params[f.param.name] * (I / (S+I))\n",
    "            \n",
    "            elif isinstance(f, flows.TransitionFlow):\n",
    "                rate = y[src_idx] * params[f.param.name]\n",
    "            \n",
    "            out_rates = out_rates.at[dst_idx].add(rate)\n",
    "            out_rates = out_rates.at[src_idx].add(-rate)\n",
    "        \n",
    "        return out_rates\n",
    "    return get_rates"
   ]
  },
  {
   "cell_type": "code",
   "execution_count": null,
   "id": "4e9c72b2-4009-408d-a3a8-79fe2c518bc6",
   "metadata": {},
   "outputs": [],
   "source": [
    "m = m_param\n",
    "y0 = jnp.array(m.initial_population)\n",
    "t = jnp.array(m.times)\n",
    "\n",
    "get_rates = jit(extract_summer(m))"
   ]
  },
  {
   "cell_type": "code",
   "execution_count": null,
   "id": "5eb00c50-1783-4314-84b4-2a52dc31039a",
   "metadata": {},
   "outputs": [],
   "source": [
    "from jax.experimental.ode import odeint as jodeint"
   ]
  },
  {
   "cell_type": "code",
   "execution_count": null,
   "id": "88beeb3c-8a3b-4333-a5b4-b6d817493536",
   "metadata": {},
   "outputs": [],
   "source": [
    "jres = jodeint(get_rates,y0,t,params)"
   ]
  },
  {
   "cell_type": "code",
   "execution_count": null,
   "id": "e48d9730-d6dc-4eb8-8092-45e9dfdfc48f",
   "metadata": {},
   "outputs": [],
   "source": [
    "pd.DataFrame(jres, columns=[\"S\",\"I\",\"R\"]).plot()"
   ]
  },
  {
   "cell_type": "code",
   "execution_count": null,
   "id": "74363ad4-6b5f-40f5-9a6d-f2443a6f97f6",
   "metadata": {},
   "outputs": [],
   "source": [
    "%timeit _ = jodeint(get_rates,y0,t,params)"
   ]
  },
  {
   "cell_type": "code",
   "execution_count": null,
   "id": "80a0d573-3c02-4da0-aefb-0634733c735b",
   "metadata": {},
   "outputs": [],
   "source": [
    "@jit\n",
    "def full_jit_run(params):\n",
    "    jres = jodeint(get_rates, y0, t, params)\n",
    "    return jres\n",
    "    #return jres[:,1].mean()\n",
    "    "
   ]
  },
  {
   "cell_type": "code",
   "execution_count": null,
   "id": "7a5d8227-cd1a-42d4-a7e2-2f7110bdd6a9",
   "metadata": {},
   "outputs": [],
   "source": [
    "res = full_jit_run(params)"
   ]
  },
  {
   "cell_type": "code",
   "execution_count": null,
   "id": "8c66019e-fe4e-455c-b1c1-c70e9cfa2b98",
   "metadata": {},
   "outputs": [],
   "source": [
    "pd.DataFrame(res, columns=[\"S\",\"I\",\"R\"]).plot()"
   ]
  },
  {
   "cell_type": "code",
   "execution_count": null,
   "id": "10bfc426-775d-4c1c-8107-d8f8738eaa83",
   "metadata": {},
   "outputs": [],
   "source": [
    "%timeit _ = full_jit_run(params)"
   ]
  },
  {
   "cell_type": "code",
   "execution_count": null,
   "id": "70bfe2c7-90ed-455f-b03d-88d0f2ead13b",
   "metadata": {},
   "outputs": [],
   "source": [
    "%time for x in np.linspace(0.0,1.0,1000): p = {'contact_rate': x, 'recovery_rate': x}; _ = full_jit_run(p)"
   ]
  },
  {
   "cell_type": "code",
   "execution_count": null,
   "id": "b910a097-0c51-4d2f-98f3-fe7726d6517e",
   "metadata": {},
   "outputs": [],
   "source": [
    "vec_summer = jit(vmap(full_jit_run))"
   ]
  },
  {
   "cell_type": "code",
   "execution_count": null,
   "id": "c5369284-c4c4-458e-98c3-b724ac39c403",
   "metadata": {},
   "outputs": [],
   "source": [
    "vparams = {\n",
    "    'contact_rate': jnp.linspace(0,1.0,1000),\n",
    "    'recovery_rate': jnp.linspace(0,0.1,1000),\n",
    "}"
   ]
  },
  {
   "cell_type": "code",
   "execution_count": null,
   "id": "80c7a76f-4c1f-490d-915d-54728eda3b88",
   "metadata": {},
   "outputs": [],
   "source": [
    "%timeit _ = vec_summer(vparams)"
   ]
  },
  {
   "cell_type": "code",
   "execution_count": null,
   "id": "9d709520-2081-4ae3-9fac-43b18dfe93ec",
   "metadata": {},
   "outputs": [],
   "source": [
    "@jit\n",
    "def objf_jit_run(params):\n",
    "    jres = jodeint(get_rates, y0, t, params)\n",
    "    return jres[:,1].mean()\n",
    "    "
   ]
  },
  {
   "cell_type": "code",
   "execution_count": null,
   "id": "0d3b0058-a663-4ac7-a241-eb161c207c06",
   "metadata": {},
   "outputs": [],
   "source": [
    "grad_summer = jit(grad(objf_jit_run))"
   ]
  },
  {
   "cell_type": "code",
   "execution_count": null,
   "id": "5b7a53ff-8007-4d58-9067-434ae59d477e",
   "metadata": {},
   "outputs": [],
   "source": [
    "grad_summer(params)"
   ]
  },
  {
   "cell_type": "code",
   "execution_count": null,
   "id": "52291495-3bb9-4250-ad9d-9efb4ac796d2",
   "metadata": {},
   "outputs": [],
   "source": [
    "grad_summer_vmap = jit(vmap(grad(objf_jit_run)))"
   ]
  },
  {
   "cell_type": "code",
   "execution_count": null,
   "id": "252bd746-c97a-4521-9d8a-4a68869e16c8",
   "metadata": {},
   "outputs": [],
   "source": [
    "from jax import value_and_grad"
   ]
  },
  {
   "cell_type": "code",
   "execution_count": null,
   "id": "db4cb43b-ee64-4f99-81ef-3ae2a64ea473",
   "metadata": {},
   "outputs": [],
   "source": [
    "vg_summer_vmap = jit(vmap(value_and_grad(objf_jit_run)))"
   ]
  },
  {
   "cell_type": "code",
   "execution_count": null,
   "id": "487ffb7e-d74e-4d58-af63-97f56525302f",
   "metadata": {},
   "outputs": [],
   "source": [
    "vparams = {\n",
    "    'contact_rate': jnp.linspace(0,1.0,1000),\n",
    "    'recovery_rate': jnp.array([0.1] * 1000),\n",
    "}\n",
    "\n",
    "gres = grad_summer_vmap(vparams)"
   ]
  },
  {
   "cell_type": "code",
   "execution_count": null,
   "id": "31dbce6a-30ac-4cdf-b6a9-298e6456b3da",
   "metadata": {},
   "outputs": [],
   "source": [
    "pd.DataFrame(gres,index=vparams['contact_rate']).plot()"
   ]
  },
  {
   "cell_type": "code",
   "execution_count": null,
   "id": "df833382-6608-473f-adb7-57972063564d",
   "metadata": {},
   "outputs": [],
   "source": [
    "vres, gres = vg_summer_vmap(vparams)"
   ]
  },
  {
   "cell_type": "code",
   "execution_count": null,
   "id": "ab0fbb07-7df3-4ab5-9832-72049300d832",
   "metadata": {},
   "outputs": [],
   "source": [
    "pd.DataFrame(gres,index=vparams['contact_rate']).plot()"
   ]
  },
  {
   "cell_type": "code",
   "execution_count": null,
   "id": "761267d8-ff0d-4df8-b319-99766b3a1dc5",
   "metadata": {},
   "outputs": [],
   "source": [
    "vres.shape"
   ]
  },
  {
   "cell_type": "code",
   "execution_count": null,
   "id": "1647d52a-c20e-4f9a-9fe8-fda0fcc96f3f",
   "metadata": {},
   "outputs": [],
   "source": [
    "pd.DataFrame(vres,index=vparams['contact_rate']).plot()"
   ]
  }
 ],
 "metadata": {
  "kernelspec": {
   "display_name": "Python 3 (ipykernel)",
   "language": "python",
   "name": "python3"
  },
  "language_info": {
   "codemirror_mode": {
    "name": "ipython",
    "version": 3
   },
   "file_extension": ".py",
   "mimetype": "text/x-python",
   "name": "python",
   "nbconvert_exporter": "python",
   "pygments_lexer": "ipython3",
   "version": "3.10.3"
  }
 },
 "nbformat": 4,
 "nbformat_minor": 5
}
