{
 "cells": [
  {
   "cell_type": "markdown",
   "id": "53e04f0b",
   "metadata": {},
   "source": [
    "# Introduction to calibration and uncertainty propagation\n",
    "Up until now we have been creating models that may accurately represent the local epidemic but (at best) only provide one possible epidemic profile that would be consistent with the observations. In this notebook, we extend this to obtain a range of parameter values and epidemic trajectories that would be consistent with the local observations, and thereby quantify the uncertainty in our simulations.\n",
    "\n",
    "In this notebook, we will learn how to use a Markov Chain Monte Carlo (MCMC) algorithm to calibrate an SIR model to epidemic data.\n",
    "That is, we will use a Bayesian sampling approach to estimate model parameters and to project the epidemic with uncertainty.\n",
    "\n",
    "We will implement the Metropolis algorithm which is one type of MCMC.\n",
    "\n",
    "Recommended pre-reading:\n",
    "- Wikipedia page on Metropolis–Hastings algorithm [here](https://en.wikipedia.org/wiki/Metropolis%E2%80%93Hastings_algorithm),\n",
    "- Some example implementations with discussion of common tuning issues [here](https://jellis18.github.io/post/2018-01-02-mcmc-part1/).\n",
    "\n",
    "\n",
    "And also, a great interactive demo of multiple Bayesian sampling algorithms [here](https://chi-feng.github.io/mcmc-demo/).\n",
    "\n"
   ]
  },
  {
   "cell_type": "code",
   "execution_count": null,
   "id": "eeeb9ff8",
   "metadata": {},
   "outputs": [],
   "source": [
    "# pip install the required packages if running in Colab\n",
    "try:\n",
    "  import google.colab\n",
    "  IN_COLAB = True\n",
    "  %pip install summerepi2\n",
    "  %pip install numpyro\n",
    "except:\n",
    "  IN_COLAB = False\n"
   ]
  },
  {
   "cell_type": "code",
   "execution_count": null,
   "id": "e19523e4",
   "metadata": {},
   "outputs": [],
   "source": [
    "# Standard imports, plotting option and constant definition\n",
    "import pandas as pd\n",
    "from scipy import stats\n",
    "import numpy as np\n",
    "from jax import numpy as jnp\n",
    "\n",
    "from summer2 import CompartmentalModel\n",
    "from summer2.parameters import Parameter\n",
    "\n",
    "pd.options.plotting.backend = \"plotly\"\n",
    "\n",
    "import numpyro\n",
    "from numpyro import distributions as dist\n",
    "\n",
    "from numpyro.infer.initialization import init_to_median, init_to_value, init_to_sample\n",
    "from numpyro.infer import MCMC\n",
    "from jax import random"
   ]
  },
  {
   "cell_type": "markdown",
   "id": "15d5f058",
   "metadata": {},
   "source": [
    "## Create some dummy data we want our model to fit to"
   ]
  },
  {
   "cell_type": "code",
   "execution_count": null,
   "id": "296fb625",
   "metadata": {},
   "outputs": [],
   "source": [
    "data = pd.DataFrame({\"active_cases\":\n",
    "{\n",
    "    60.: 3000.,\n",
    "    80.: 8500.,\n",
    "    100.: 21000.,\n",
    "    120.: 40000.,\n",
    "    140.: 44000.,\n",
    "    160.: 30000.,\n",
    "    180.: 16000.,\n",
    "    200.: 7000.,\n",
    "}}\n",
    ")\n",
    "data['active_cases'].plot(kind=\"scatter\")"
   ]
  },
  {
   "cell_type": "markdown",
   "id": "7b90cd4d",
   "metadata": {},
   "source": [
    "# Model\n",
    "\n",
    "## Define a simple SIR model"
   ]
  },
  {
   "cell_type": "code",
   "execution_count": null,
   "id": "03805af8",
   "metadata": {},
   "outputs": [],
   "source": [
    "def build_sir_model(model_config: dict) -> CompartmentalModel:\n",
    "    \"\"\"\n",
    "    Create a compartmental model, with the minimal compartmental structure needed to run and produce some sort of \n",
    "    meaningful outputs.\n",
    "    \n",
    "    Args:\n",
    "        model_config: Fixed values that determine structural and numerical properties of the model\n",
    "    Returns:\n",
    "        A compartmental model currently without stratification applied\n",
    "    \"\"\"\n",
    "\n",
    "    model = CompartmentalModel(\n",
    "        times=(model_config[\"start_time\"], model_config[\"end_time\"]),\n",
    "        compartments=[\"S\", \"I\", \"R\"],\n",
    "        infectious_compartments=[\"I\"],\n",
    "    )\n",
    "\n",
    "    infectious_seed = model_config[\"infectious_seed\"]\n",
    "    initial_population = model_config[\"initial_population\"]\n",
    "    assert initial_population >= infectious_seed, \"Initial population size must be greater than infectious seed\"\n",
    "\n",
    "    model.set_initial_population(\n",
    "        distribution=\n",
    "        {\n",
    "            \"S\": initial_population - infectious_seed, \n",
    "            \"I\": infectious_seed\n",
    "        }\n",
    "    )\n",
    "    \n",
    "    # Set up flows with summer2 Parameter objects - these are placeholders\n",
    "    # whose actual values will be looked up in a dictionary when we run the model\n",
    "    \n",
    "    # Susceptible people can get infected\n",
    "    model.add_infection_frequency_flow(\n",
    "        name=\"infection\", \n",
    "        contact_rate=Parameter(\"contact_rate\"), \n",
    "        source=\"S\", \n",
    "        dest=\"I\",\n",
    "    )\n",
    "    \n",
    "    # Note that you can perform arithmetic and other transforms on Parameter objects - \n",
    "    # their final values will be computed later\n",
    "    \n",
    "    # Infectious people recover\n",
    "    model.add_transition_flow(\n",
    "        name=\"recovery\",\n",
    "        fractional_rate= 1. / Parameter(\"infection_duration\"),\n",
    "        source=\"I\",\n",
    "        dest=\"R\",\n",
    "    )\n",
    "    \n",
    "    model.request_output_for_compartments(\"active_cases\", \"I\")\n",
    "\n",
    "    return model"
   ]
  },
  {
   "cell_type": "markdown",
   "id": "ae0fa5be",
   "metadata": {},
   "source": [
    "## Run the model with some example parameters"
   ]
  },
  {
   "cell_type": "code",
   "execution_count": null,
   "id": "097609b7",
   "metadata": {},
   "outputs": [],
   "source": [
    "model_config = {\n",
    "    # Fixed configuration options that define the structure and behaviour of the model\n",
    "    \"initial_population\": 1.e6,\n",
    "    \"infectious_seed\": 100.,\n",
    "    \"start_time\": 0,\n",
    "    \"end_time\": 365,\n",
    "}\n",
    "# Get an SIR model object\n",
    "sir_model = build_sir_model(model_config)\n"
   ]
  },
  {
   "cell_type": "code",
   "execution_count": null,
   "id": "c1b9aa20",
   "metadata": {},
   "outputs": [],
   "source": [
    "# Define a dictionary of free parameters that we will use in calibration - ie those that we\n",
    "# declared as Parameter objects when building the model\n",
    "parameters = {\n",
    "    \"contact_rate\": 0.3,\n",
    "    \"infection_duration\": 9.0\n",
    "}\n",
    "\n",
    "# Run the model with the dummy parameter values\n",
    "sir_model.run(parameters)\n",
    "\n",
    "# Plot the model outputs against the data\n",
    "output_df = pd.DataFrame({\n",
    "    \"modelled\": sir_model.get_outputs_df()[\"I\"],\n",
    "    \"observed\": data[\"active_cases\"]\n",
    "})\n",
    "output_df.plot(kind='scatter')\n"
   ]
  },
  {
   "cell_type": "code",
   "execution_count": null,
   "id": "a7bd2b4e",
   "metadata": {},
   "outputs": [],
   "source": [
    "sir_model.get_input_parameters()"
   ]
  },
  {
   "cell_type": "code",
   "execution_count": null,
   "id": "1a888af1",
   "metadata": {},
   "outputs": [],
   "source": [
    "def evaluate_log_priors(proposed_parameters: dict) -> float:\n",
    "    # Initialise the prior likelihood to 1\n",
    "    prior_log_proba = 0.\n",
    "\n",
    "    # Use a uniform prior on [0., 0.5] for the contact_rate \n",
    "    prior_log_proba += stats.uniform.logpdf(x=proposed_parameters['contact_rate'], loc=0, scale=0.5)\n",
    "\n",
    "    # Use a normal prior for the infection duration, with mean=7 days and sd=.5\n",
    "    prior_log_proba += stats.norm.logpdf(x=proposed_parameters['infection_duration'], loc=7, scale=.5)\n",
    "\n",
    "    return prior_log_proba"
   ]
  },
  {
   "cell_type": "code",
   "execution_count": null,
   "id": "a85ee83f",
   "metadata": {},
   "outputs": [],
   "source": []
  },
  {
   "cell_type": "code",
   "execution_count": null,
   "id": "f96929b1",
   "metadata": {},
   "outputs": [],
   "source": [
    "sir_model = build_sir_model(model_config)\n",
    "runner = sir_model.get_runner(parameters)"
   ]
  },
  {
   "cell_type": "code",
   "execution_count": null,
   "id": "64fcc343",
   "metadata": {},
   "outputs": [],
   "source": []
  },
  {
   "cell_type": "code",
   "execution_count": null,
   "id": "cd9fae2c",
   "metadata": {},
   "outputs": [],
   "source": [
    "priors = {\n",
    "    \"contact_rate\": dist.Uniform(0.01, 0.5),\n",
    "    \"infection_duration\": dist.TruncatedNormal(7.0, 0.5, low=2.0, high=50.0),\n",
    "    #\"infection_duration\": dist.Normal(7.0, 0.5)\n",
    "    #\"infection_duration\": dist.Uniform(3.0, 15.0),\n",
    "}"
   ]
  },
  {
   "cell_type": "code",
   "execution_count": null,
   "id": "50c14499",
   "metadata": {},
   "outputs": [],
   "source": [
    "# There are a few caveats here, mostly for good reason but with sometimes\n",
    "# confusing results\n",
    "# Normal will produce infinite support and thus generate some NaNs in outputs\n",
    "# Truncated normal makes a bit more sense in this context"
   ]
  },
  {
   "cell_type": "code",
   "execution_count": null,
   "id": "c7afadd7",
   "metadata": {},
   "outputs": [],
   "source": [
    "#d0 = dist.TruncatedNormal(7.0, 0.5, low=0.0, high=np.inf)\n",
    "#d1 = dist.Normal(7.0, 0.5)"
   ]
  },
  {
   "cell_type": "code",
   "execution_count": null,
   "id": "f93d8300",
   "metadata": {},
   "outputs": [],
   "source": [
    "#d0.support"
   ]
  },
  {
   "cell_type": "code",
   "execution_count": null,
   "id": "69a22689",
   "metadata": {},
   "outputs": [],
   "source": [
    "#d1.support"
   ]
  },
  {
   "cell_type": "code",
   "execution_count": null,
   "id": "265208db",
   "metadata": {},
   "outputs": [],
   "source": [
    "#pd.Series(d0.sample(rng_key, (10000,))).hist()"
   ]
  },
  {
   "cell_type": "code",
   "execution_count": null,
   "id": "3e77a4ab",
   "metadata": {},
   "outputs": [],
   "source": [
    "#pd.Series(d1.sample(rng_key, (10000,))).hist()"
   ]
  },
  {
   "cell_type": "code",
   "execution_count": null,
   "id": "37c7a758",
   "metadata": {},
   "outputs": [],
   "source": [
    "def get_target_indices(target_series, model_times):\n",
    "    return jnp.array([np.where(model_times == idx)[0][0] for idx in target_series.index])"
   ]
  },
  {
   "cell_type": "code",
   "execution_count": null,
   "id": "7a0d7508",
   "metadata": {},
   "outputs": [],
   "source": [
    "get_target_indices(data[\"active_cases\"], sir_model.times)"
   ]
  },
  {
   "cell_type": "code",
   "execution_count": null,
   "id": "a696c3bc",
   "metadata": {},
   "outputs": [],
   "source": [
    "s = data[\"active_cases\"]"
   ]
  },
  {
   "cell_type": "code",
   "execution_count": null,
   "id": "00ac2fd9",
   "metadata": {},
   "outputs": [],
   "source": [
    "targets = {}\n",
    "for k, v in data.items():\n",
    "    targets[k] = jnp.array(v.to_numpy())\n",
    "targets"
   ]
  },
  {
   "cell_type": "code",
   "execution_count": null,
   "id": "bc42abad",
   "metadata": {},
   "outputs": [],
   "source": [
    "target_indices = {}\n",
    "for k,v in data.items():\n",
    "    target_indices[k] = get_target_indices(v, sir_model.times)\n",
    "    \n",
    "target_indices"
   ]
  },
  {
   "cell_type": "code",
   "execution_count": null,
   "id": "63b63eaa",
   "metadata": {},
   "outputs": [],
   "source": [
    "targets"
   ]
  },
  {
   "cell_type": "code",
   "execution_count": null,
   "id": "49c1dba2",
   "metadata": {},
   "outputs": [],
   "source": [
    "sir_model = build_sir_model(model_config)\n",
    "runner = sir_model.get_runner(parameters)"
   ]
  },
  {
   "cell_type": "code",
   "execution_count": null,
   "id": "9b7bf114",
   "metadata": {},
   "outputs": [],
   "source": [
    "priors = {\n",
    "    \"contact_rate\": dist.Uniform(0.01, 0.5),\n",
    "    \"infection_duration\": dist.TruncatedNormal(7.0, 0.5, low=0.0, high=50.0),\n",
    "    #\"infection_duration\": dist.Normal(7.0, 0.5)\n",
    "    #\"infection_duration\": dist.Uniform(3.0, 15.0),\n",
    "}"
   ]
  },
  {
   "cell_type": "code",
   "execution_count": null,
   "id": "6c03555c",
   "metadata": {},
   "outputs": [],
   "source": [
    "def model():\n",
    "    # numpyro.sample is one of the most common numpyro primitives\n",
    "    # it generates a sample based on the supplied distribution,\n",
    "    # and the PRNGKey supplied by the optimizer (more on this later)\n",
    "    # In most example models the samples would be explicit,\n",
    "    # but here we iterate through our priors dictionary\n",
    "\n",
    "    param_updates = {k:numpyro.sample(k, priors[k]) for k in priors}\n",
    "\n",
    "    \n",
    "    # runer._run_func is a pure compiled jax function - it bypasses\n",
    "    # any additional CPython code, therefore can be used directly in\n",
    "    # numpyro models\n",
    "    results = runner._run_func(param_updates)\n",
    "\n",
    "    # Now we assemble our loglikelihood, and collect additional information\n",
    "    for k,obs in targets.items():\n",
    "        # Note we can use normal looking python code here on our model outputs;\n",
    "        # internally these are all jax types\n",
    "        modelled = results[\"derived_outputs\"][k][target_indices[k]]\n",
    "        \n",
    "        # For some models, we would use the sample primitive here as well,\n",
    "        # and supply an 'obs' argument\n",
    "        # But, by using the numpyro factor primitive we can assemble a more\n",
    "        # customized ll function, as well as save specific components\n",
    "        # via the deterministic primitive\n",
    "        #k_fac = dist.TruncatedNormal(modelled, jnp.std(obs), low=0.0).log_prob(obs).sum()\n",
    "        k_fac = dist.Normal(modelled, jnp.std(obs)).log_prob(obs).sum()\n",
    "        \n",
    "        numpyro.factor(k, k_fac)\n",
    "        numpyro.deterministic(f\"{k}_ll\", k_fac)\n",
    "        #numpyro.deterministic(f\"{k}_sum\", jnp.sum(modelled))"
   ]
  },
  {
   "cell_type": "code",
   "execution_count": null,
   "id": "a2043f73",
   "metadata": {},
   "outputs": [],
   "source": [
    "initial_parameters = {\n",
    "    \"contact_rate\": jnp.array((0.2,)),\n",
    "    \"infection_duration\": jnp.array((7.,))\n",
    "}\n",
    "\n",
    "#sa_kernel = numpyro.infer.SA(model, init_strategy=init_to_value(values=initial_parameters))\n",
    "sa_kernel = numpyro.infer.SA(model, dense_mass=True, adapt_state_size=8, init_strategy=init_to_median)"
   ]
  },
  {
   "cell_type": "code",
   "execution_count": null,
   "id": "7301f937",
   "metadata": {},
   "outputs": [],
   "source": [
    "mcmc = MCMC(sa_kernel, num_chains=2, num_samples=10000,num_warmup=10000)#,thinning=1)\n",
    "rng_key = random.PRNGKey(1)\n",
    "mcmc.run(rng_key, extra_fields=(\"accept_prob\",))\n",
    "#mcmc.run(rng_key)#, init_params=initial_parameters)"
   ]
  },
  {
   "cell_type": "code",
   "execution_count": null,
   "id": "e2589dad",
   "metadata": {},
   "outputs": [],
   "source": [
    "pd.Series(mcmc.get_extra_fields()['accept_prob']).plot()"
   ]
  },
  {
   "cell_type": "code",
   "execution_count": null,
   "id": "975f3b6b",
   "metadata": {},
   "outputs": [],
   "source": [
    "mcmc.print_summary(exclude_deterministic=False)"
   ]
  },
  {
   "cell_type": "code",
   "execution_count": null,
   "id": "550cd4d9",
   "metadata": {},
   "outputs": [],
   "source": [
    "import arviz as az"
   ]
  },
  {
   "cell_type": "code",
   "execution_count": null,
   "id": "985fcd85",
   "metadata": {},
   "outputs": [],
   "source": [
    "ad = az.from_numpyro(mcmc)"
   ]
  },
  {
   "cell_type": "code",
   "execution_count": null,
   "id": "0b701cc3",
   "metadata": {},
   "outputs": [],
   "source": [
    "az.plot_posterior(ad)"
   ]
  },
  {
   "cell_type": "code",
   "execution_count": null,
   "id": "d6636fb0",
   "metadata": {},
   "outputs": [],
   "source": [
    "_ = az.plot_trace(ad, compact=False, figsize=(15,20))"
   ]
  },
  {
   "cell_type": "code",
   "execution_count": null,
   "id": "863ca516",
   "metadata": {},
   "outputs": [],
   "source": [
    "class SampleWrapper:\n",
    "    def __init__(self, samples, params):\n",
    "        self.samples = samples\n",
    "        self.params = params\n",
    "        \n",
    "    def __getitem__(self, idx):\n",
    "        out = {}\n",
    "        for k,v in samples.items():\n",
    "            if k in self.params:\n",
    "                out[k] = v[idx]\n",
    "        return out"
   ]
  },
  {
   "cell_type": "code",
   "execution_count": null,
   "id": "2646ac7e",
   "metadata": {},
   "outputs": [],
   "source": [
    "samples = mcmc.get_samples(False)"
   ]
  },
  {
   "cell_type": "code",
   "execution_count": null,
   "id": "9c13cc28",
   "metadata": {},
   "outputs": [],
   "source": [
    "sw = SampleWrapper(samples, sir_model.get_input_parameters())"
   ]
  },
  {
   "cell_type": "code",
   "execution_count": null,
   "id": "74b6dae1",
   "metadata": {},
   "outputs": [],
   "source": [
    "best_idx = pd.Series(sw.samples['active_cases_ll']).idxmax()"
   ]
  },
  {
   "cell_type": "code",
   "execution_count": null,
   "id": "73cb4f54",
   "metadata": {},
   "outputs": [],
   "source": [
    "runner.run(sw[best_idx])\n",
    "# Plot the model outputs against the data\n",
    "output_df = pd.DataFrame({\n",
    "    \"modelled\": runner.get_derived_outputs_df()[\"active_cases\"],\n",
    "    \"observed\": data.active_cases\n",
    "})\n",
    "output_df.plot(kind='scatter')"
   ]
  },
  {
   "cell_type": "code",
   "execution_count": null,
   "id": "70e193dd",
   "metadata": {},
   "outputs": [],
   "source": [
    "sampled_df = pd.DataFrame(index=runner.get_derived_outputs_df().index)\n",
    "\n",
    "for i in range(100):\n",
    "    runner.run(sw[i*100])\n",
    "    sampled_df[i] = runner.get_derived_outputs_df()['active_cases']"
   ]
  },
  {
   "cell_type": "code",
   "execution_count": null,
   "id": "b145fced",
   "metadata": {},
   "outputs": [],
   "source": [
    "sampled_df.plot()"
   ]
  },
  {
   "cell_type": "code",
   "execution_count": null,
   "id": "270c9c82",
   "metadata": {},
   "outputs": [],
   "source": []
  }
 ],
 "metadata": {
  "kernelspec": {
   "display_name": "Python 3 (ipykernel)",
   "language": "python",
   "name": "python3"
  },
  "language_info": {
   "codemirror_mode": {
    "name": "ipython",
    "version": 3
   },
   "file_extension": ".py",
   "mimetype": "text/x-python",
   "name": "python",
   "nbconvert_exporter": "python",
   "pygments_lexer": "ipython3",
   "version": "3.9.13"
  },
  "vscode": {
   "interpreter": {
    "hash": "7afc08b952f75bca94590012dd49682c815a0fa68720c270ce23d7ae27bf110a"
   }
  }
 },
 "nbformat": 4,
 "nbformat_minor": 5
}
