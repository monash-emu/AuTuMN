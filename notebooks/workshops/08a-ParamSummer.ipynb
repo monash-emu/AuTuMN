{
 "cells": [
  {
   "cell_type": "markdown",
   "metadata": {},
   "source": [
    "# Parameter Aware Summer"
   ]
  },
  {
   "cell_type": "code",
   "execution_count": null,
   "metadata": {
    "id": "jnWVekLQOIsS"
   },
   "outputs": [],
   "source": [
    "import numpy as np\n",
    "import pandas as pd\n",
    "\n",
    "pd.options.plotting.backend = \"plotly\"\n",
    "\n",
    "from summer import CompartmentalModel, Stratification, StrainStratification\n",
    "from summer.solver import SolverType\n",
    "from summer.runner.jax import build_model_with_jax\n",
    "from summer.parameters import Parameter, Function, Time, ComputedValue\n",
    "from summer.adjust import Overwrite"
   ]
  },
  {
   "cell_type": "code",
   "execution_count": null,
   "metadata": {
    "id": "rZlhKgTSMMDb"
   },
   "outputs": [],
   "source": [
    "param = Parameter\n",
    "func = Function"
   ]
  },
  {
   "cell_type": "code",
   "execution_count": null,
   "metadata": {
    "id": "gmTUalYVNzDh"
   },
   "outputs": [],
   "source": [
    "parameters = {\n",
    "    \"age_split\": {\"young\": 0.8, \"old\": 0.2},\n",
    "    \"contact_rate\": 0.1,\n",
    "    \"strain_infect_adjust.wild_type\": 1.1,\n",
    "    \"strain_infect_adjust.variant1\": 0.9,\n",
    "    \"strain_infect_adjust.variant2\": 1.3,\n",
    "}\n",
    "\n",
    "def get_ipop_dist(total, infected_prop):\n",
    "    num_infected = total * infected_prop\n",
    "    return {\"S\": total - num_infected, \"I\": num_infected, \"R\": 0}\n",
    "\n",
    "def build_model(**kwargs):\n",
    "    model = CompartmentalModel((0, 100), [\"S\", \"I\", \"R\"], [\"I\"], takes_params=True)\n",
    "\n",
    "    model.set_initial_population(get_ipop_dist(1000.0, 0.4))\n",
    "\n",
    "    strat = Stratification(\"age\", [\"young\", \"old\"], [\"S\", \"I\", \"R\"])\n",
    "    strat.set_population_split(Parameter(\"age_split\"))\n",
    "    model.stratify_with(strat)\n",
    "\n",
    "    def scaled_contact_rate(time, base_rate):\n",
    "        return base_rate + 0.5*(time/100.0)\n",
    "\n",
    "    contact_rate = param(\"contact_rate\")\n",
    "    #contact_rate = func(scaled_contact_rate, [Time, param(\"contact_rate\")])\n",
    "\n",
    "    model.add_infection_frequency_flow(\"infection\", contact_rate, \"S\", \"I\")\n",
    "    model.add_transition_flow(\"recovery\", 0.1, \"I\", \"R\")\n",
    "\n",
    "    strain_strat = StrainStratification(\"strain\", [\"wild_type\", \"variant1\", \"variant2\"], [\"I\"])\n",
    "\n",
    "    strain_strat.add_infectiousness_adjustments(\n",
    "        \"I\",\n",
    "        {\n",
    "            \"wild_type\": Parameter(\"strain_infect_adjust.wild_type\"),\n",
    "            \"variant1\": Overwrite(Parameter(\"strain_infect_adjust.variant1\")),\n",
    "            \"variant2\": Overwrite(Parameter(\"strain_infect_adjust.variant2\")),\n",
    "        },\n",
    "    )\n",
    "\n",
    "    model.stratify_with(strain_strat)\n",
    "\n",
    "    model.add_death_flow(\"death_after_infection\", 0.01, \"I\")\n",
    "\n",
    "    return model\n",
    "\n"
   ]
  },
  {
   "cell_type": "code",
   "execution_count": null,
   "metadata": {
    "id": "KbSgHEnXOOkr"
   },
   "outputs": [],
   "source": [
    "model, jaxrun = build_model_with_jax(build_model)\n",
    "\n",
    "model.run(parameters=parameters)\n",
    "joutputs = jaxrun(parameters)\n",
    "\n",
    "np.testing.assert_allclose(joutputs, model.outputs, atol=1e-5)\n"
   ]
  },
  {
   "cell_type": "code",
   "execution_count": null,
   "metadata": {
    "colab": {
     "base_uri": "https://localhost:8080/",
     "height": 542
    },
    "id": "vL5MuPLjMkoM",
    "outputId": "fbcc6a0e-449a-46e2-fa36-ee08cadbcaba"
   },
   "outputs": [],
   "source": [
    "model.get_outputs_df().plot()"
   ]
  },
  {
   "cell_type": "code",
   "execution_count": null,
   "metadata": {
    "colab": {
     "base_uri": "https://localhost:8080/",
     "height": 542
    },
    "id": "rEDHYzyTCy8B",
    "outputId": "f64fc598-c944-4781-c132-cfe18256a8d4"
   },
   "outputs": [],
   "source": [
    "pd.DataFrame(joutputs-model.outputs, columns=model.compartments).plot()"
   ]
  },
  {
   "cell_type": "code",
   "execution_count": null,
   "metadata": {
    "colab": {
     "base_uri": "https://localhost:8080/"
    },
    "id": "qk8_7f0eExEq",
    "outputId": "2e4f0e25-3964-41d3-b01d-532df74061a5"
   },
   "outputs": [],
   "source": [
    "%time model.run(parameters=parameters)"
   ]
  },
  {
   "cell_type": "code",
   "execution_count": null,
   "metadata": {
    "colab": {
     "base_uri": "https://localhost:8080/"
    },
    "id": "V47U4oS_OkFy",
    "outputId": "fd8bdb11-4d19-40cb-c15f-a45dc378a532"
   },
   "outputs": [],
   "source": [
    "%time jaxrun(parameters)"
   ]
  },
  {
   "cell_type": "code",
   "execution_count": null,
   "metadata": {
    "id": "VIFSJri7OmID"
   },
   "outputs": [],
   "source": [
    "from jax import jit"
   ]
  },
  {
   "cell_type": "code",
   "execution_count": null,
   "metadata": {
    "id": "dh_scsAsOo7K"
   },
   "outputs": [],
   "source": [
    "jitrun = jit(jaxrun)"
   ]
  },
  {
   "cell_type": "code",
   "execution_count": null,
   "metadata": {
    "colab": {
     "base_uri": "https://localhost:8080/"
    },
    "id": "RpqKPiPYOrbK",
    "outputId": "f93bb9b6-ad96-4b57-ba90-9505dc948b3b"
   },
   "outputs": [],
   "source": [
    "%time jitrun(parameters)"
   ]
  },
  {
   "cell_type": "code",
   "execution_count": null,
   "metadata": {
    "colab": {
     "base_uri": "https://localhost:8080/"
    },
    "id": "0jvymGxUv2Ha",
    "outputId": "eec5d51f-20e2-465d-97a6-84508fe4ec3a"
   },
   "outputs": [],
   "source": [
    "%time jitrun(parameters)"
   ]
  },
  {
   "cell_type": "code",
   "execution_count": null,
   "metadata": {
    "id": "X5Nrn3qfOsR6"
   },
   "outputs": [],
   "source": [
    "# Do a bunch of runs with varying parameters\n",
    "def run_lots(n, parameters):\n",
    "    param_cur = parameters.copy()\n",
    "    outputs = []\n",
    "    for x in range(1,n):\n",
    "        param_cur[\"contact_rate\"] = n/x\n",
    "        cur_outputs = jitrun(parameters=param_cur)\n",
    "        outputs.append(cur_outputs)\n",
    "    return outputs"
   ]
  },
  {
   "cell_type": "code",
   "execution_count": null,
   "metadata": {
    "colab": {
     "base_uri": "https://localhost:8080/"
    },
    "id": "_no8FHM8Tp5I",
    "outputId": "abb1c091-8a12-43a9-9cb0-9db610532b95"
   },
   "outputs": [],
   "source": [
    "%time outputs = run_lots(10000, parameters)"
   ]
  }
 ],
 "metadata": {
  "colab": {
   "name": "ParamSummer.ipynb",
   "provenance": []
  },
  "kernelspec": {
   "display_name": "Python 3 (ipykernel)",
   "language": "python",
   "name": "python3"
  },
  "language_info": {
   "codemirror_mode": {
    "name": "ipython",
    "version": 3
   },
   "file_extension": ".py",
   "mimetype": "text/x-python",
   "name": "python",
   "nbconvert_exporter": "python",
   "pygments_lexer": "ipython3",
   "version": "3.10.3"
  }
 },
 "nbformat": 4,
 "nbformat_minor": 1
}
