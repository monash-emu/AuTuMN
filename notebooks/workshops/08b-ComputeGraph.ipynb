{
 "cells": [
  {
   "cell_type": "markdown",
   "metadata": {},
   "source": [
    "# computegraph\n",
    "a brief tour"
   ]
  },
  {
   "cell_type": "code",
   "execution_count": null,
   "metadata": {
    "id": "w93Hi_wdjBiw"
   },
   "outputs": [],
   "source": [
    "# We're not really using this class, but importing it does all our required Jax initialization\n",
    "from summer.runner.jax.runner import JaxRunner\n",
    "\n",
    "import pandas as pd\n",
    "import numpy as np\n",
    "from jax import jit\n",
    "# Note the convention:\n",
    "# jax.numpy -> jnp\n",
    "# numpy -> np\n",
    "# \n",
    "# We add a third item to this list\n",
    "# 'fnp' (functional numpy)\n",
    "# This could be either jax or standard numpy,\n",
    "# but we use it as a switch depending on what code we want to build\n",
    "\n",
    "from jax import numpy as jnp\n",
    "\n",
    "from computegraph.types import Variable, local, Function, param\n",
    "from computegraph.graph import ComputeGraph\n",
    "from computegraph.utils import get_nested_graph_dict\n"
   ]
  },
  {
   "cell_type": "code",
   "execution_count": null,
   "metadata": {},
   "outputs": [],
   "source": [
    "def getitem(obj, index):\n",
    "    return obj[index]\n",
    "\n",
    "\n",
    "def get_pop_dict(use_jax=False):\n",
    "\n",
    "    if use_jax:\n",
    "        fnp = jnp\n",
    "    else:\n",
    "        fnp = np\n",
    "\n",
    "    def gen_data_dict():\n",
    "        return {\n",
    "            \"AUS\": fnp.array(\n",
    "                (\n",
    "                    10.0,\n",
    "                    30.0,\n",
    "                )\n",
    "            ),\n",
    "            \"MYS\": fnp.array((5.0, 9.0, 1.4)),\n",
    "        }\n",
    "\n",
    "    pop_dict = {}\n",
    "    pop_dict[\"pop_df\"] = Function(gen_data_dict)\n",
    "    pop_dict[\"country_pop\"] = Function(getitem, [local(\"pop_df\"), param(\"iso\")])\n",
    "    pop_dict[\"pop_stats\"] = Function(\n",
    "        lambda s: {\"min\": s.min(), \"sum\": s.sum()}, [local(\"country_pop\")]\n",
    "    )\n",
    "    pop_dict[\"pop_sum\"] = Function(getitem, [local(\"pop_stats\"), \"sum\"])\n",
    "    pop_dict[\"norm_pop\"] = Function(fnp.divide, [local(\"country_pop\"), local(\"pop_sum\")])\n",
    "    pop_dict[\"out_pop\"] = Function(fnp.multiply, [local(\"norm_pop\"), param(\"pop_scale\")])\n",
    "\n",
    "    return pop_dict"
   ]
  },
  {
   "cell_type": "code",
   "execution_count": null,
   "metadata": {
    "id": "DNMrekOAjNyg"
   },
   "outputs": [],
   "source": [
    "pop_dict = get_pop_dict(use_jax=True)"
   ]
  },
  {
   "cell_type": "code",
   "execution_count": null,
   "metadata": {},
   "outputs": [],
   "source": [
    "pop_dict"
   ]
  },
  {
   "cell_type": "code",
   "execution_count": null,
   "metadata": {
    "id": "j4b0P5WDjY2_"
   },
   "outputs": [],
   "source": [
    "cg = ComputeGraph(pop_dict)"
   ]
  },
  {
   "cell_type": "code",
   "execution_count": null,
   "metadata": {
    "colab": {
     "base_uri": "https://localhost:8080/",
     "height": 837
    },
    "id": "RjXNudUTjbU3",
    "outputId": "0328f465-ae0c-4d11-81fd-88c444339505"
   },
   "outputs": [],
   "source": [
    "cg.draw()"
   ]
  },
  {
   "cell_type": "code",
   "execution_count": null,
   "metadata": {
    "colab": {
     "base_uri": "https://localhost:8080/"
    },
    "id": "s1dPFFNRjcC-",
    "outputId": "e098cf99-dd7f-4ffe-b1d0-fd797dd4aeb6"
   },
   "outputs": [],
   "source": [
    "# What inputs does the graph take?\n",
    "# Note that this specifically refers to Variables, not just Parameters\n",
    "# Some input graphs consume multiple dictionaries,\n",
    "# even though this one only takes one (parameters)\n",
    "cg.get_input_variables()"
   ]
  },
  {
   "cell_type": "code",
   "execution_count": null,
   "metadata": {
    "id": "bE_Tt8qKllPQ"
   },
   "outputs": [],
   "source": [
    "# Of course, what we want is to _run_ the graph\n",
    "# Let's get a function to do this; we will reuse this over different parameter inputs\n",
    "runner = cg.get_callable()"
   ]
  },
  {
   "cell_type": "code",
   "execution_count": null,
   "metadata": {
    "colab": {
     "base_uri": "https://localhost:8080/"
    },
    "id": "xJNraTkqlpwf",
    "outputId": "86b1a020-0408-4daa-96d1-41c74428be8f"
   },
   "outputs": [],
   "source": [
    "# Try changing these\n",
    "parameters = {\"iso\": \"AUS\", \"pop_scale\": 0.5}\n",
    "\n",
    "# Note how the outputs contain the entire contents of the graph\n",
    "runner(parameters=parameters)"
   ]
  },
  {
   "cell_type": "code",
   "execution_count": null,
   "metadata": {
    "id": "kYfziheophdZ"
   },
   "outputs": [],
   "source": [
    "# What if we don't want to execute everything?\n",
    "\n",
    "# Specify some inputs as dynamic - ie we will be changing them, and we expect everything\n",
    "# that depends on them to be recomputed\n",
    "dynamic_inputs = [param(\"pop_scale\")]\n",
    "\n",
    "# Specify some outputs we care about\n",
    "# This will ensure they exist in the output graph, and also make sure we are not\n",
    "# computing unneeded portions of the graph\n",
    "targets = [\"out_pop\"]\n",
    "\n",
    "# Lastly, we need to supply it with some parameter inputs that will be used\n",
    "# when calculating the fixed (frozen) part of the graph\n",
    "# Note the expanded form here - remember that graphs can consume multiple dictionaries\n",
    "inputs = {\"parameters\": parameters}\n",
    "\n",
    "frozen_graph = cg.freeze(dynamic_inputs, targets, inputs)"
   ]
  },
  {
   "cell_type": "code",
   "execution_count": null,
   "metadata": {
    "colab": {
     "base_uri": "https://localhost:8080/",
     "height": 837
    },
    "id": "KcjrTxnpp2XY",
    "outputId": "c6f2158c-e1e0-483f-ff99-d42e4a0b0fa0"
   },
   "outputs": [],
   "source": [
    "frozen_graph.draw()"
   ]
  },
  {
   "cell_type": "code",
   "execution_count": null,
   "metadata": {},
   "outputs": [],
   "source": [
    "fast_runner = jit(frozen_graph.get_callable())"
   ]
  },
  {
   "cell_type": "code",
   "execution_count": null,
   "metadata": {},
   "outputs": [],
   "source": [
    "# Hmm, a problem...\n",
    "fast_runner(parameters=parameters)"
   ]
  },
  {
   "cell_type": "code",
   "execution_count": null,
   "metadata": {
    "colab": {
     "base_uri": "https://localhost:8080/"
    },
    "id": "tDbY6jV9qD_B",
    "outputId": "0273194d-59a2-4fb9-c6ec-533b06e9fc4c"
   },
   "outputs": [],
   "source": [
    "# We only need one parameter\n",
    "frozen_graph.get_input_variables()"
   ]
  },
  {
   "cell_type": "code",
   "execution_count": null,
   "metadata": {},
   "outputs": [],
   "source": [
    "fast_runner(parameters={\"pop_scale\": 0.5})"
   ]
  },
  {
   "cell_type": "code",
   "execution_count": null,
   "metadata": {},
   "outputs": [],
   "source": []
  }
 ],
 "metadata": {
  "colab": {
   "name": "ComputeGraph.ipynb",
   "provenance": []
  },
  "kernelspec": {
   "display_name": "Python 3 (ipykernel)",
   "language": "python",
   "name": "python3"
  },
  "language_info": {
   "codemirror_mode": {
    "name": "ipython",
    "version": 3
   },
   "file_extension": ".py",
   "mimetype": "text/x-python",
   "name": "python",
   "nbconvert_exporter": "python",
   "pygments_lexer": "ipython3",
   "version": "3.10.3"
  }
 },
 "nbformat": 4,
 "nbformat_minor": 1
}
