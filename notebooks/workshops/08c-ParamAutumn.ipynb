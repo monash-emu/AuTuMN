{
 "cells": [
  {
   "cell_type": "markdown",
   "id": "664fdcbc",
   "metadata": {},
   "source": [
    "## Using param-summer and computegraph in AuTuMN"
   ]
  },
  {
   "cell_type": "code",
   "execution_count": null,
   "id": "21ff7d98",
   "metadata": {},
   "outputs": [],
   "source": [
    "# We currently have the slightly modified sm_sir model on a branch:\n",
    "\n",
    "!git checkout input-graph"
   ]
  },
  {
   "cell_type": "code",
   "execution_count": null,
   "id": "ab9dd455",
   "metadata": {},
   "outputs": [],
   "source": [
    "from autumn.core.project import get_project\n",
    "from computegraph import ComputeGraph\n",
    "import pandas as pd\n",
    "pd.options.plotting.backend = \"plotly\"\n",
    "\n",
    "from summer.runner.jax.util import build_model_with_jax\n",
    "\n",
    "from computegraph.utils import get_nested_graph_dict, expand_nested_dict\n",
    "from summer.parameters import find_all_parameters\n",
    "\n",
    "from jax import jit\n",
    "from jax import numpy as jnp\n",
    "import numpy as np"
   ]
  },
  {
   "cell_type": "code",
   "execution_count": null,
   "id": "497eee67",
   "metadata": {},
   "outputs": [],
   "source": [
    "p = get_project(\"sm_sir\", \"national-capital-region\")"
   ]
  },
  {
   "cell_type": "code",
   "execution_count": null,
   "id": "869cd87a",
   "metadata": {},
   "outputs": [],
   "source": [
    "parameters = p.param_set.baseline.to_dict()"
   ]
  },
  {
   "cell_type": "code",
   "execution_count": null,
   "id": "0947a317",
   "metadata": {},
   "outputs": [],
   "source": [
    "%time model, input_dict = p.build_model(parameters)"
   ]
  },
  {
   "cell_type": "code",
   "execution_count": null,
   "id": "78786438",
   "metadata": {},
   "outputs": [],
   "source": [
    "model"
   ]
  },
  {
   "cell_type": "code",
   "execution_count": null,
   "id": "42ab382e",
   "metadata": {},
   "outputs": [],
   "source": [
    "# We now have a dict ready to be turned into a ComputeGraph\n",
    "input_dict"
   ]
  },
  {
   "cell_type": "code",
   "execution_count": null,
   "id": "a5291573",
   "metadata": {},
   "outputs": [],
   "source": [
    "ig = ComputeGraph(input_dict)"
   ]
  },
  {
   "cell_type": "code",
   "execution_count": null,
   "id": "506b8ceb",
   "metadata": {},
   "outputs": [],
   "source": [
    "ig.draw()"
   ]
  },
  {
   "cell_type": "code",
   "execution_count": null,
   "id": "b50c5442",
   "metadata": {},
   "outputs": [],
   "source": [
    "# Inspect the parameters consumed by our input graph\n",
    "# Note that this specifically refers to Variables, not Parameters\n",
    "# Some input graphs consume multiple dictionaries,\n",
    "# even though this one only takes one (parameters)\n",
    "\n",
    "ig.get_input_variables()"
   ]
  },
  {
   "cell_type": "code",
   "execution_count": null,
   "id": "22c00a2c",
   "metadata": {},
   "outputs": [],
   "source": [
    "print(\"Input graph inputs\")\n",
    "for p in list(ig.get_input_variables()):\n",
    "    print(p, expand_nested_dict(parameters)[p.name])\n",
    "\n",
    "print(\"Model inputs\")\n",
    "for p in list(find_all_parameters(model)):\n",
    "    print(p, expand_nested_dict(parameters)[p.name])"
   ]
  },
  {
   "cell_type": "code",
   "execution_count": null,
   "id": "7424d530",
   "metadata": {},
   "outputs": [],
   "source": [
    "# Summer expects a \"flat\" parameter dictionary - ie in calibration format\n",
    "# We will make our input graph use the same format for convenience\n",
    "inputrunner = ig.get_callable(nested_params=False)"
   ]
  },
  {
   "cell_type": "code",
   "execution_count": null,
   "id": "6a6d937d",
   "metadata": {},
   "outputs": [],
   "source": [
    "# Write a filtering function that consumes a parameter dict,\n",
    "# makes sure it is expanded to calibration format, and \n",
    "# returns only the parameters needed by the graph\n",
    "# This will help us with Jax calls later on\n",
    "def get_filtered_params(cg: ComputeGraph, parameters):\n",
    "    expanded = expand_nested_dict(parameters, include_parents=True)\n",
    "    graph_inputs = [v.name for v in ig.get_input_variables()]\n",
    "    return {k:v for k,v in expanded.items() if k in graph_inputs}"
   ]
  },
  {
   "cell_type": "code",
   "execution_count": null,
   "id": "a465b7e9",
   "metadata": {},
   "outputs": [],
   "source": [
    "get_filtered_params(ig, parameters)"
   ]
  },
  {
   "cell_type": "code",
   "execution_count": null,
   "id": "6510ea4b",
   "metadata": {},
   "outputs": [],
   "source": [
    "frozen_graph = ig.freeze(ig.get_input_variables(),[\"initial_population\"],{\"parameters\":get_filtered_params(ig, parameters)})"
   ]
  },
  {
   "cell_type": "code",
   "execution_count": null,
   "id": "995801ea",
   "metadata": {},
   "outputs": [],
   "source": [
    "run_frozen = frozen_graph.get_callable(False)"
   ]
  },
  {
   "cell_type": "code",
   "execution_count": null,
   "id": "7487826d",
   "metadata": {},
   "outputs": [],
   "source": [
    "run_frozen(parameters = get_filtered_params(ig, parameters))"
   ]
  },
  {
   "cell_type": "code",
   "execution_count": null,
   "id": "be85c418",
   "metadata": {},
   "outputs": [],
   "source": [
    "# The following command fails - why?\n",
    "jit(run_frozen)(parameters = parameters)"
   ]
  },
  {
   "cell_type": "code",
   "execution_count": null,
   "id": "d7bee26f",
   "metadata": {},
   "outputs": [],
   "source": [
    "# As per the last notebook, Jax only handles certain datatypes - we use the filter function\n",
    "# above to ensure we're only giving it what it needs\n",
    "jit(run_frozen)(parameters=get_filtered_params(ig, parameters))"
   ]
  },
  {
   "cell_type": "code",
   "execution_count": null,
   "id": "1e2319cb",
   "metadata": {},
   "outputs": [],
   "source": [
    "# Compare this to running the complete graph\n",
    "inputrunner(parameters = get_filtered_params(ig, parameters))"
   ]
  },
  {
   "cell_type": "code",
   "execution_count": null,
   "id": "e359242a",
   "metadata": {},
   "outputs": [],
   "source": [
    "def run_graph_and_model(parameters, updated_params = None):\n",
    "    updated_params = updated_params or {}\n",
    "    parameters = expand_nested_dict(parameters, include_parents=True) | updated_params\n",
    "    input_res = inputrunner(parameters=parameters)\n",
    "    model.run(parameters = parameters | input_res)"
   ]
  },
  {
   "cell_type": "code",
   "execution_count": null,
   "id": "ce512b93",
   "metadata": {},
   "outputs": [],
   "source": [
    "run_graph_and_model(parameters)\n",
    "\n",
    "orig_notifications = model.get_derived_outputs_df()['notifications'].copy()"
   ]
  },
  {
   "cell_type": "code",
   "execution_count": null,
   "id": "5eeb9663",
   "metadata": {},
   "outputs": [],
   "source": [
    "run_graph_and_model(parameters, {'contact_rate': 0.15})\n",
    "\n",
    "new_notifications = model.get_derived_outputs_df()['notifications']\n",
    "\n",
    "pd.DataFrame({'orig': orig_notifications, 'new': new_notifications}).plot()\n"
   ]
  }
 ],
 "metadata": {
  "kernelspec": {
   "display_name": "Python 3 (ipykernel)",
   "language": "python",
   "name": "python3"
  },
  "language_info": {
   "codemirror_mode": {
    "name": "ipython",
    "version": 3
   },
   "file_extension": ".py",
   "mimetype": "text/x-python",
   "name": "python",
   "nbconvert_exporter": "python",
   "pygments_lexer": "ipython3",
   "version": "3.10.3"
  }
 },
 "nbformat": 4,
 "nbformat_minor": 5
}
