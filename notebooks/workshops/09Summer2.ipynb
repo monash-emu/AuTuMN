{
 "cells": [
  {
   "cell_type": "code",
   "execution_count": null,
   "metadata": {},
   "outputs": [],
   "source": [
    "# If we are running in google colab, pip install the required packages, \n",
    "# but do not modify local environments\n",
    "try:\n",
    "  import google.colab\n",
    "  IN_COLAB = True\n",
    "except:\n",
    "  IN_COLAB = False\n",
    "\n",
    "if IN_COLAB:\n",
    "    !pip install summerepi2==1.0.1a5\n",
    "\n",
    "    # graphviz is installed already, but need lib too\n",
    "    !apt install libgraphviz-dev\n",
    "    !pip install pygraphviz"
   ]
  },
  {
   "cell_type": "code",
   "execution_count": null,
   "metadata": {},
   "outputs": [],
   "source": [
    "# Typical imports\n",
    "import numpy as np\n",
    "import pandas as pd\n",
    "pd.options.plotting.backend = \"plotly\"\n",
    "\n",
    "# Import Jax's numpy implementation\n",
    "from jax import numpy as jnp\n",
    "\n",
    "# Also import jax itself - normally you'll never need this directly, but we want to have a look...\n",
    "import jax\n"
   ]
  },
  {
   "cell_type": "code",
   "execution_count": null,
   "metadata": {},
   "outputs": [],
   "source": [
    "# Now let's have a look at summer2 itself\n",
    "\n",
    "from summer2 import CompartmentalModel, Stratification\n",
    "\n",
    "# Import some of our parameterization types;\n",
    "# These are actually ComputeGraph types - we'll examine what that means in a later section\n",
    "from summer2.parameters import Parameter, Function, Data"
   ]
  },
  {
   "cell_type": "code",
   "execution_count": null,
   "metadata": {},
   "outputs": [],
   "source": [
    "# Let's start with a very simple model.  As you can see, the API is much the same as summer\n",
    "# We take our parameters as arguments - which how we build our models in AuTuMN\n",
    "# This is not the \"right way\" (or the wrong way) - just a demonstration!\n",
    "\n",
    "def build_model(contact_rate):\n",
    "    m = CompartmentalModel([0,100], [\"S\",\"I\",\"R\"], [\"I\"])\n",
    "    m.set_initial_population({\"S\": 900, \"I\": 100})\n",
    "    m.add_infection_frequency_flow(\"infection\", contact_rate, \"S\", \"I\")\n",
    "    return m"
   ]
  },
  {
   "cell_type": "code",
   "execution_count": null,
   "metadata": {},
   "outputs": [],
   "source": [
    "# Typical build/run cycle in summer\n",
    "\n",
    "m = build_model(0.1)\n",
    "m.run()\n",
    "m.get_outputs_df().plot()"
   ]
  },
  {
   "cell_type": "code",
   "execution_count": null,
   "metadata": {},
   "outputs": [],
   "source": [
    "# What if we give it a Parameter object instead? (actually a Variable, we'll cover this soon)\n",
    "contact_rate = Parameter(\"contact_rate\")\n",
    "\n",
    "m = build_model(contact_rate)"
   ]
  },
  {
   "cell_type": "code",
   "execution_count": null,
   "metadata": {},
   "outputs": [],
   "source": [
    "pdict = {\n",
    "    \"contact_rate\": 1.0\n",
    "}\n",
    "\n",
    "m.run(pdict)\n",
    "m.get_outputs_df().plot()"
   ]
  },
  {
   "cell_type": "markdown",
   "metadata": {},
   "source": [
    "## ComputeGraph"
   ]
  },
  {
   "cell_type": "code",
   "execution_count": null,
   "metadata": {},
   "outputs": [],
   "source": [
    "# ComputeGraph is our new library that handles building computational structures, and \n",
    "# representations of parameters, functions, and mappings between them\n",
    "\n",
    "# \n",
    "from computegraph.types import GraphObject, Variable, Function, Data, param as Parameter\n",
    "from computegraph import ComputeGraph"
   ]
  },
  {
   "cell_type": "markdown",
   "metadata": {},
   "source": [
    "### ComputeGraph Types\n",
    "\n",
    "Everything is a GraphObject"
   ]
  },
  {
   "cell_type": "markdown",
   "metadata": {},
   "source": [
    "#### Variables (generalised 'parameters')"
   ]
  },
  {
   "cell_type": "code",
   "execution_count": null,
   "metadata": {},
   "outputs": [],
   "source": [
    "# \"Parameter\" is not really a class - it's just a wrapper around Variable that\n",
    "# tells ComputeGraph to look up its value in the \"parameters\" dictionary\n",
    "\n",
    "x = Parameter(\"x\")\n",
    "x.key, x.source"
   ]
  },
  {
   "cell_type": "code",
   "execution_count": null,
   "metadata": {},
   "outputs": [],
   "source": [
    "# Have a look at the 'Parameter' we created earlier\n",
    "Variable(\"contact_rate\", \"parameters\") == contact_rate"
   ]
  },
  {
   "cell_type": "code",
   "execution_count": null,
   "metadata": {},
   "outputs": [],
   "source": [
    "# summer2 models keep track of their expected input parameters\n",
    "m.get_input_parameters()"
   ]
  },
  {
   "cell_type": "code",
   "execution_count": null,
   "metadata": {},
   "outputs": [],
   "source": [
    "# These are assembled in 'ComputeGraph' objects internally\n",
    "# The simplest ComputeGraph is a single Variable:\n",
    "\n",
    "ComputeGraph(contact_rate).draw()"
   ]
  },
  {
   "cell_type": "code",
   "execution_count": null,
   "metadata": {},
   "outputs": [],
   "source": [
    "# Because GraphObjects are evaluated 'lazily', you can perform what look like computations on them,\n",
    "# but really they just return another GraphObject\n",
    "\n",
    "contact_rate * 2.0"
   ]
  },
  {
   "cell_type": "code",
   "execution_count": null,
   "metadata": {},
   "outputs": [],
   "source": [
    "# These are retained and can be built into graphs later\n",
    "\n",
    "ComputeGraph(contact_rate * (1.0 / Parameter(\"x\"))).draw()"
   ]
  },
  {
   "cell_type": "code",
   "execution_count": null,
   "metadata": {},
   "outputs": [],
   "source": [
    "# ... of the type used by summer\n",
    "\n",
    "m.graph.draw()"
   ]
  },
  {
   "cell_type": "markdown",
   "metadata": {},
   "source": [
    "### Functions\n",
    "#### The other important GraphObject"
   ]
  },
  {
   "cell_type": "code",
   "execution_count": null,
   "metadata": {},
   "outputs": [],
   "source": [
    "# In order to represent Python functions in our graph structure, we need to wrap them appropriately\n",
    "# Much like Variables (which look up a dictionary), Functions look up their arguments in a lazy\n",
    "# fashion - instead of telling them _what_ their arguments are, you tell them how to find them\n",
    "\n",
    "def thing(x, y):\n",
    "    return 1.0/(x**y)"
   ]
  },
  {
   "cell_type": "code",
   "execution_count": null,
   "metadata": {},
   "outputs": [],
   "source": [
    "thing(2.0,3.0)"
   ]
  },
  {
   "cell_type": "code",
   "execution_count": null,
   "metadata": {},
   "outputs": [],
   "source": [
    "tfunc = Function(thing, [2.0, 3.0])"
   ]
  },
  {
   "cell_type": "code",
   "execution_count": null,
   "metadata": {},
   "outputs": [],
   "source": [
    "# Because this function doesn't have any external sources, we can evaluate it directly\n",
    "tfunc.evaluate()"
   ]
  },
  {
   "cell_type": "code",
   "execution_count": null,
   "metadata": {},
   "outputs": [],
   "source": [
    "ComputeGraph(tfunc).draw()"
   ]
  },
  {
   "cell_type": "code",
   "execution_count": null,
   "metadata": {},
   "outputs": [],
   "source": [
    "x = Parameter(\"x\")\n",
    "y = Parameter(\"y\")\n",
    "\n",
    "a = x+y\n",
    "b = np.log(x*y)\n",
    "\n",
    "tfunc2 = Function(thing, [a, b])"
   ]
  },
  {
   "cell_type": "code",
   "execution_count": null,
   "metadata": {},
   "outputs": [],
   "source": [
    "# Another way to represent functions\n",
    "from computegraph.utils import defer"
   ]
  },
  {
   "cell_type": "code",
   "execution_count": null,
   "metadata": {},
   "outputs": [],
   "source": [
    "ComputeGraph({\"t\": tfunc2}).draw()"
   ]
  },
  {
   "cell_type": "code",
   "execution_count": null,
   "metadata": {},
   "outputs": [],
   "source": [
    "cg = ComputeGraph({\"t\": tfunc2})\n",
    "cg_run = cg.get_callable()"
   ]
  },
  {
   "cell_type": "code",
   "execution_count": null,
   "metadata": {},
   "outputs": [],
   "source": []
  },
  {
   "cell_type": "code",
   "execution_count": null,
   "metadata": {},
   "outputs": [],
   "source": [
    "cg.get_input_variables()"
   ]
  },
  {
   "cell_type": "code",
   "execution_count": null,
   "metadata": {},
   "outputs": [],
   "source": [
    "params = {\"x\": 1.0, \"y\": 2.0}\n",
    "\n",
    "cg_run(parameters=params)"
   ]
  },
  {
   "cell_type": "code",
   "execution_count": null,
   "metadata": {},
   "outputs": [],
   "source": [
    "cg.get_callable?"
   ]
  },
  {
   "cell_type": "code",
   "execution_count": null,
   "metadata": {},
   "outputs": [],
   "source": [
    "cg.get_callable(output_all=True)(parameters=params)"
   ]
  },
  {
   "cell_type": "markdown",
   "metadata": {},
   "source": [
    "### Back to summer...\n",
    "Now that we know a few things....\n"
   ]
  },
  {
   "cell_type": "code",
   "execution_count": null,
   "metadata": {},
   "outputs": [],
   "source": [
    "from summer2.parameters import Time, CompartmentValues"
   ]
  },
  {
   "cell_type": "code",
   "execution_count": null,
   "metadata": {},
   "outputs": [],
   "source": [
    "contact_rate * Time"
   ]
  },
  {
   "cell_type": "code",
   "execution_count": null,
   "metadata": {},
   "outputs": [],
   "source": [
    "m = build_model(contact_rate * Time)\n",
    "m.finalize()\n",
    "m.graph.draw()"
   ]
  },
  {
   "cell_type": "code",
   "execution_count": null,
   "metadata": {},
   "outputs": [],
   "source": [
    "m.graph.filter(\"infection_rate\").draw()"
   ]
  },
  {
   "cell_type": "code",
   "execution_count": null,
   "metadata": {},
   "outputs": [],
   "source": [
    "iflows = m.query_flows(tags=\"infection\")\n",
    "m.get_object_graph(iflows[0]).draw()"
   ]
  },
  {
   "cell_type": "code",
   "execution_count": null,
   "metadata": {},
   "outputs": [],
   "source": [
    "m.query_compartments({\"name\": [\"S\",\"R\"]}, as_idx=True)"
   ]
  },
  {
   "cell_type": "code",
   "execution_count": null,
   "metadata": {},
   "outputs": [],
   "source": [
    "m.get_input_parameters()"
   ]
  },
  {
   "cell_type": "code",
   "execution_count": null,
   "metadata": {},
   "outputs": [],
   "source": [
    "m.run({\"contact_rate\": 0.01})"
   ]
  },
  {
   "cell_type": "code",
   "execution_count": null,
   "metadata": {},
   "outputs": [],
   "source": [
    "m.get_outputs_df().plot()"
   ]
  },
  {
   "cell_type": "code",
   "execution_count": null,
   "metadata": {},
   "outputs": [],
   "source": [
    "# A more sensible time-varying contact_rate\n",
    "# In order to run as expected, this must use Jax functions!"
   ]
  },
  {
   "cell_type": "code",
   "execution_count": null,
   "metadata": {},
   "outputs": [],
   "source": [
    "def tv_contact(t, contact_param, time_start):\n",
    "    return jnp.where(t>time_start, contact_param, 0.0)"
   ]
  },
  {
   "cell_type": "code",
   "execution_count": null,
   "metadata": {},
   "outputs": [],
   "source": [
    "cr_func = defer(tv_contact)(Time, Parameter(\"contact_rate\"), Parameter(\"contact_start\"))"
   ]
  },
  {
   "cell_type": "code",
   "execution_count": null,
   "metadata": {},
   "outputs": [],
   "source": [
    "m = build_model(cr_func)\n",
    "m.finalize()"
   ]
  },
  {
   "cell_type": "code",
   "execution_count": null,
   "metadata": {},
   "outputs": [],
   "source": [
    "m.get_input_parameters()"
   ]
  },
  {
   "cell_type": "code",
   "execution_count": null,
   "metadata": {},
   "outputs": [],
   "source": [
    "params = {\n",
    "    \"contact_rate\": 1.0,\n",
    "    \"contact_start\": 30.0\n",
    "}"
   ]
  },
  {
   "cell_type": "code",
   "execution_count": null,
   "metadata": {},
   "outputs": [],
   "source": [
    "# Notice the slightly longer time on first run\n",
    "m.run(parameters=params)"
   ]
  },
  {
   "cell_type": "code",
   "execution_count": null,
   "metadata": {},
   "outputs": [],
   "source": [
    "params = {\n",
    "    \"contact_rate\": 1.0,\n",
    "    \"contact_start\": 10.0\n",
    "}\n",
    "\n",
    "m.run(parameters=params)\n",
    "m.get_outputs_df().plot()"
   ]
  },
  {
   "cell_type": "code",
   "execution_count": null,
   "metadata": {},
   "outputs": [],
   "source": [
    "# Let's have a look at a slightly more complex model\n",
    "\n",
    "def build_strat_model(contact_rate, mixing_matrix):\n",
    "    m = build_model(contact_rate)\n",
    "    \n",
    "    age_strat = Stratification(\"age\", [\"young\", \"old\"], [\"S\",\"I\",\"R\"])\n",
    "    age_strat.set_mixing_matrix(mixing_matrix)\n",
    "\n",
    "    m.stratify_with(age_strat)\n",
    "\n",
    "    return m"
   ]
  },
  {
   "cell_type": "code",
   "execution_count": null,
   "metadata": {},
   "outputs": [],
   "source": [
    "mm = Data(jnp.array([\n",
    "    [1.1,0.8],\n",
    "    [0.7, 1.2]\n",
    "]))\n",
    "\n",
    "mstrat = build_strat_model(contact_rate, mm)\n",
    "mstrat.finalize()"
   ]
  },
  {
   "cell_type": "code",
   "execution_count": null,
   "metadata": {},
   "outputs": [],
   "source": [
    "mstrat.get_input_parameters()"
   ]
  },
  {
   "cell_type": "code",
   "execution_count": null,
   "metadata": {},
   "outputs": [],
   "source": [
    "mstrat.graph.draw()"
   ]
  },
  {
   "cell_type": "code",
   "execution_count": null,
   "metadata": {},
   "outputs": [],
   "source": [
    "mm = Data(jnp.array([\n",
    "    [1.1,0.8],\n",
    "    [0.7, 1.2]\n",
    "]))\n",
    "\n",
    "def schools_closed(t, time_start, time_end):\n",
    "    return jnp.where(t > time_start, jnp.where(t < time_end, 1.0, 0.0), 0.0)\n",
    "\n",
    "# Matrix reflecting change in contacts for school closures\n",
    "school_close_mod_matrix = Data(jnp.array([\n",
    "    [-1.0, 0.0],\n",
    "    [0.0, 0.0]\n",
    "]\n",
    "))\n",
    "\n",
    "sc_mm = mm + defer(schools_closed)(Time, Parameter(\"sc_start\"), Parameter(\"sc_end\")) * school_close_mod_matrix\n",
    "\n",
    "mstrat = build_strat_model(contact_rate, sc_mm)\n",
    "mstrat.finalize()"
   ]
  },
  {
   "cell_type": "code",
   "execution_count": null,
   "metadata": {},
   "outputs": [],
   "source": [
    "mstrat.graph.draw()"
   ]
  },
  {
   "cell_type": "code",
   "execution_count": null,
   "metadata": {},
   "outputs": [],
   "source": [
    "mstrat.graph.filter(\"mixing_matrix\").draw()"
   ]
  },
  {
   "cell_type": "code",
   "execution_count": null,
   "metadata": {},
   "outputs": [],
   "source": [
    "mstrat.get_input_parameters()"
   ]
  },
  {
   "cell_type": "code",
   "execution_count": null,
   "metadata": {},
   "outputs": [],
   "source": [
    "params = {\n",
    "    \"contact_rate\": 0.05,\n",
    "    \"sc_start\": 25,\n",
    "    \"sc_end\": 50.0\n",
    "}\n",
    "\n",
    "mstrat.run(parameters=params)\n",
    "mstrat.get_outputs_df().plot()"
   ]
  }
 ],
 "metadata": {
  "kernelspec": {
   "display_name": "Python 3.9.13 ('jaxtest')",
   "language": "python",
   "name": "python3"
  },
  "language_info": {
   "codemirror_mode": {
    "name": "ipython",
    "version": 3
   },
   "file_extension": ".py",
   "mimetype": "text/x-python",
   "name": "python",
   "nbconvert_exporter": "python",
   "pygments_lexer": "ipython3",
   "version": "3.9.13"
  },
  "vscode": {
   "interpreter": {
    "hash": "79d70c6600ff0f236e7435c5ae4904b6925bd23ac9f566aeb17edb414d890ad2"
   }
  }
 },
 "nbformat": 4,
 "nbformat_minor": 2
}
