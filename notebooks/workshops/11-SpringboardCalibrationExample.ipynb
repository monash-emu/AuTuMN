{
 "cells": [
  {
   "cell_type": "code",
   "execution_count": null,
   "id": "f5408fea",
   "metadata": {},
   "outputs": [],
   "source": [
    "from autumn.infrastructure.remote import springboard"
   ]
  },
  {
   "cell_type": "code",
   "execution_count": null,
   "id": "b38184a4",
   "metadata": {},
   "outputs": [],
   "source": [
    "from datetime import datetime\n",
    "import numpy as np"
   ]
  },
  {
   "cell_type": "code",
   "execution_count": null,
   "id": "3333657b",
   "metadata": {},
   "outputs": [],
   "source": [
    "from summer2 import CompartmentalModel\n",
    "from summer2.parameters import Parameter as param"
   ]
  },
  {
   "cell_type": "code",
   "execution_count": null,
   "id": "e6035636",
   "metadata": {},
   "outputs": [],
   "source": [
    "def get_model():\n",
    "    m = CompartmentalModel([0,100], [\"S\", \"I\", \"R\"], \"I\", ref_date=datetime(2001,1,1))\n",
    "    m.set_initial_population({\"S\": 990.0, \"I\": 10.0})\n",
    "    m.add_infection_frequency_flow(\"infection\", param(\"contact_rate\"), \"S\", \"I\")\n",
    "    m.add_transition_flow(\"recovery\", param(\"recovery_rate\"), \"I\", \"R\")\n",
    "    incidence = m.request_output_for_flow(\"incidence\", \"infection\")\n",
    "    m.request_function_output(\"notifications\", incidence * param(\"cdr\"))\n",
    "    m.set_default_parameters({\"contact_rate\": 0.4, \"recovery_rate\": 0.1, \"cdr\": 0.2})\n",
    "    return m\n"
   ]
  },
  {
   "cell_type": "code",
   "execution_count": null,
   "id": "c11ea1b4",
   "metadata": {},
   "outputs": [],
   "source": [
    "m = get_model()\n",
    "\n",
    "m.run({\"contact_rate\": 0.5, \"recovery_rate\": 0.4})\n",
    "do_def = m.get_derived_outputs_df()\n",
    "obs_clean = do_def[\"incidence\"].iloc[0:50]\n",
    "obs_noisy = obs_clean * np.exp(np.random.normal(0.0,0.2,len(obs_clean)))\n",
    "obs_clean.plot()\n",
    "obs_noisy.plot(style='.')\n",
    "\n"
   ]
  },
  {
   "cell_type": "code",
   "execution_count": null,
   "id": "6d01ad6b",
   "metadata": {},
   "outputs": [],
   "source": [
    "from estival import targets as est\n",
    "from estival import priors as esp\n",
    "from estival.model import BayesianCompartmentalModel"
   ]
  },
  {
   "cell_type": "code",
   "execution_count": null,
   "id": "40063203",
   "metadata": {},
   "outputs": [],
   "source": [
    "# Specify a Truncated normal target with a free dispersion parameter\n",
    "targets = [\n",
    "    est.TruncatedNormalTarget(\"incidence\", obs_noisy, (0.0,np.inf),\n",
    "        esp.UniformPrior(\"incidence_dispersion\",(0.1, obs_noisy.max()*0.1)))\n",
    "]\n",
    "\n",
    "# Uniform priors over our 2 model parameters\n",
    "priors = [\n",
    "    esp.UniformPrior(\"contact_rate\", (0.01,1.0)),\n",
    "    esp.TruncNormalPrior(\"recovery_rate\", 0.5, 0.2, (0.01,1.0)),\n",
    "]"
   ]
  },
  {
   "cell_type": "code",
   "execution_count": null,
   "id": "d52cfa79",
   "metadata": {},
   "outputs": [],
   "source": [
    "from estival.calibration import pymc as epm\n",
    "import pymc as pm\n",
    "import arviz as az"
   ]
  },
  {
   "cell_type": "code",
   "execution_count": null,
   "id": "cea7f4a8",
   "metadata": {},
   "outputs": [],
   "source": [
    "def calibrate_model(targets, priors, draws: int, chains: int):\n",
    "    \n",
    "    # Build our model as specified above\n",
    "    m = get_model()\n",
    "    defp = m.get_default_parameters()\n",
    "    \n",
    "    # Build the BCM based on user supplied targets and priors\n",
    "    bcm = BayesianCompartmentalModel(m, defp, priors, targets)\n",
    "    \n",
    "    # Run for the specified number of draws, over the specified number of chains/cores\n",
    "    with pm.Model() as model:\n",
    "        variables = epm.use_model(bcm)\n",
    "        idata = pm.sample(step=[pm.DEMetropolis(variables)], draws=draws, tune=0,cores=chains,chains=chains)\n",
    "        \n",
    "    return idata"
   ]
  },
  {
   "cell_type": "code",
   "execution_count": null,
   "id": "47d05a73",
   "metadata": {},
   "outputs": [],
   "source": [
    "def remote_calibration_task(bridge: springboard.task.TaskBridge, targets, priors, draws, chains):\n",
    "    \n",
    "    import multiprocessing as mp\n",
    "    mp.set_start_method('forkserver')\n",
    "    \n",
    "    bridge.logger.info(f\"Calibrating {chains} chains for {draws} draws\")\n",
    "    \n",
    "    idata = calibrate_model(targets, priors, draws, chains)\n",
    "    idata.to_netcdf(bridge.out_path / \"idata.nc\")\n",
    "\n",
    "    summary = az.summary(idata)\n",
    "    bridge.logger.info(summary[\"r_hat\"])\n",
    "    \n",
    "    bridge.logger.info(\"Calibration complete\")"
   ]
  },
  {
   "cell_type": "code",
   "execution_count": null,
   "id": "343c63bf",
   "metadata": {},
   "outputs": [],
   "source": [
    "N_CHAINS = 4"
   ]
  },
  {
   "cell_type": "code",
   "execution_count": null,
   "id": "1a1207a8",
   "metadata": {},
   "outputs": [],
   "source": [
    "# Get a compute machine to do.. some computation.\n",
    "mspec = springboard.EC2MachineSpec(N_CHAINS, 4, \"compute\")\n",
    "\n",
    "# Wrap our function; the first argument is supplied by the runner, the rest must be kwargs\n",
    "\n",
    "task_kwargs = {\n",
    "    \"targets\": targets,\n",
    "    \"priors\": priors,\n",
    "    \"draws\": 2000,\n",
    "    \"chains\": N_CHAINS\n",
    "}\n",
    "\n",
    "tspec = springboard.TaskSpec(remote_calibration_task, task_kwargs)"
   ]
  },
  {
   "cell_type": "code",
   "execution_count": null,
   "id": "e12adbec",
   "metadata": {},
   "outputs": [],
   "source": [
    "run_path = springboard.launch.get_autumn_project_run_path(\"testing\", \"exampleworld\", \"calibration_longalarm\")\n",
    "run_path"
   ]
  },
  {
   "cell_type": "code",
   "execution_count": null,
   "id": "16657a60",
   "metadata": {},
   "outputs": [],
   "source": [
    "# This should be fairly resilient to failure, however if you do receive any kind of error or Exception here,\n",
    "# please tell David ASAP!\n",
    "# It is possible you will get some \"SSH connection will waiting, retrying\" messages; please also report these\n",
    "# - they're not a 'failture', just AWS being a bit slow...\n",
    "\n",
    "runner = springboard.launch.launch_synced_autumn_task(tspec, mspec, run_path,\"springboard_refactor\")"
   ]
  },
  {
   "cell_type": "code",
   "execution_count": null,
   "id": "11090093",
   "metadata": {},
   "outputs": [],
   "source": [
    "runner.instance"
   ]
  },
  {
   "cell_type": "code",
   "execution_count": null,
   "id": "c7224505",
   "metadata": {
    "scrolled": true
   },
   "outputs": [],
   "source": [
    "# Use 'tail' to report the last (n, default=10) lines of command output\n",
    "# This is only valid while the task is actually running, and is included here to demonstrate its use in debugging \n",
    "# Typical runs would just use the wait method instead (see cell below)\n",
    "\n",
    "print(runner.tail())"
   ]
  },
  {
   "cell_type": "code",
   "execution_count": null,
   "id": "2ca73cda",
   "metadata": {},
   "outputs": [],
   "source": [
    "print(runner.top(\"+%CPU\"))"
   ]
  },
  {
   "cell_type": "code",
   "execution_count": null,
   "id": "264260c7",
   "metadata": {},
   "outputs": [],
   "source": [
    "runner.s3.get_status()"
   ]
  },
  {
   "cell_type": "code",
   "execution_count": null,
   "id": "bb2bbb39",
   "metadata": {},
   "outputs": [],
   "source": [
    "runner.wait()"
   ]
  },
  {
   "cell_type": "code",
   "execution_count": null,
   "id": "f8847cd6",
   "metadata": {},
   "outputs": [],
   "source": [
    "# This is the complete 'command line' output from the run\n",
    "print(runner.get_iodump())"
   ]
  },
  {
   "cell_type": "code",
   "execution_count": null,
   "id": "fea4ee2a",
   "metadata": {},
   "outputs": [],
   "source": [
    "# This should print out a log containing the text from our wrapped task...\n",
    "print(runner.get_log())"
   ]
  },
  {
   "cell_type": "code",
   "execution_count": null,
   "id": "0d082872",
   "metadata": {},
   "outputs": [],
   "source": [
    "from autumn.core.runs import ManagedRun"
   ]
  },
  {
   "cell_type": "code",
   "execution_count": null,
   "id": "b0e88701",
   "metadata": {},
   "outputs": [],
   "source": [
    "mr = ManagedRun(run_path)"
   ]
  },
  {
   "cell_type": "code",
   "execution_count": null,
   "id": "cc9c5788",
   "metadata": {},
   "outputs": [],
   "source": [
    "mr.remote.list_contents()"
   ]
  },
  {
   "cell_type": "code",
   "execution_count": null,
   "id": "e8ac8b46",
   "metadata": {},
   "outputs": [],
   "source": [
    "for f in mr.remote.list_contents():\n",
    "    mr.remote.download(f)"
   ]
  },
  {
   "cell_type": "code",
   "execution_count": null,
   "id": "b9aa47d9",
   "metadata": {},
   "outputs": [],
   "source": [
    "import arviz as az"
   ]
  },
  {
   "cell_type": "code",
   "execution_count": null,
   "id": "6765d81f",
   "metadata": {},
   "outputs": [],
   "source": [
    "idata = az.from_netcdf(mr.local_path / \"output/idata.nc\")"
   ]
  },
  {
   "cell_type": "code",
   "execution_count": null,
   "id": "308c4e5b",
   "metadata": {},
   "outputs": [],
   "source": [
    "az.summary(idata)"
   ]
  },
  {
   "cell_type": "code",
   "execution_count": null,
   "id": "d67c06a8",
   "metadata": {},
   "outputs": [],
   "source": [
    "az.plot_trace(idata, compact=False);"
   ]
  },
  {
   "cell_type": "code",
   "execution_count": null,
   "id": "965396bf",
   "metadata": {},
   "outputs": [],
   "source": [
    "print(open(mr.local_path / \".taskmeta/task_spec.yml\").read())"
   ]
  },
  {
   "cell_type": "code",
   "execution_count": null,
   "id": "911f1974",
   "metadata": {},
   "outputs": [],
   "source": []
  }
 ],
 "metadata": {
  "kernelspec": {
   "display_name": "Python 3 (ipykernel)",
   "language": "python",
   "name": "python3"
  },
  "language_info": {
   "codemirror_mode": {
    "name": "ipython",
    "version": 3
   },
   "file_extension": ".py",
   "mimetype": "text/x-python",
   "name": "python",
   "nbconvert_exporter": "python",
   "pygments_lexer": "ipython3",
   "version": "3.10.10"
  }
 },
 "nbformat": 4,
 "nbformat_minor": 5
}
