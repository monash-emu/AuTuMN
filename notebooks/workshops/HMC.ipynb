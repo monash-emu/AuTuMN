{
 "cells": [
  {
   "cell_type": "code",
   "execution_count": null,
   "id": "5fc96d44",
   "metadata": {},
   "outputs": [],
   "source": [
    "import numpy as np\n",
    "import pandas as pd"
   ]
  },
  {
   "cell_type": "code",
   "execution_count": null,
   "id": "b0f1cfba",
   "metadata": {},
   "outputs": [],
   "source": [
    "from jax import grad, jacrev, jacfwd, jit, vmap, pmap\n",
    "from jax.test_util import check_grads\n",
    "from jax import numpy as jnp"
   ]
  },
  {
   "cell_type": "code",
   "execution_count": null,
   "id": "1fec3a8b",
   "metadata": {},
   "outputs": [],
   "source": [
    "from summer2 import CompartmentalModel\n",
    "from summer2.parameters import Parameter"
   ]
  },
  {
   "cell_type": "code",
   "execution_count": null,
   "id": "70fe3a7e",
   "metadata": {},
   "outputs": [],
   "source": [
    "def thing(x):\n",
    "    return jnp.sin(x) + jnp.cos(x**2.0)"
   ]
  },
  {
   "cell_type": "code",
   "execution_count": null,
   "id": "11ef9dae",
   "metadata": {},
   "outputs": [],
   "source": [
    "thing_grad = jit(vmap(grad(thing)))"
   ]
  },
  {
   "cell_type": "code",
   "execution_count": null,
   "id": "db89ca23",
   "metadata": {},
   "outputs": [],
   "source": [
    "domain = jnp.linspace(-3.0,3.0,100)"
   ]
  },
  {
   "cell_type": "code",
   "execution_count": null,
   "id": "19955061",
   "metadata": {},
   "outputs": [],
   "source": [
    "grads = pd.Series(thing_grad(domain),index=domain)\n",
    "grads.plot()"
   ]
  },
  {
   "cell_type": "code",
   "execution_count": null,
   "id": "593de4e8",
   "metadata": {},
   "outputs": [],
   "source": [
    "values = pd.Series(thing(domain),index=domain)\n",
    "values.plot()"
   ]
  },
  {
   "cell_type": "code",
   "execution_count": null,
   "id": "738fc048",
   "metadata": {},
   "outputs": [],
   "source": [
    "pd.DataFrame({\n",
    "    \"values\": values,\n",
    "    \"grads\": grads,\n",
    "}).plot()"
   ]
  },
  {
   "cell_type": "code",
   "execution_count": null,
   "id": "e4da4b38",
   "metadata": {},
   "outputs": [],
   "source": [
    "eps = 1e-4"
   ]
  },
  {
   "cell_type": "code",
   "execution_count": null,
   "id": "adafc2f5",
   "metadata": {},
   "outputs": [],
   "source": [
    "thing(-2.0)"
   ]
  },
  {
   "cell_type": "code",
   "execution_count": null,
   "id": "2b824c8e",
   "metadata": {},
   "outputs": [],
   "source": [
    "def fdgrad(func,x):\n",
    "    return (func(x+eps*0.5) - func(x-eps*0.5))/eps"
   ]
  },
  {
   "cell_type": "code",
   "execution_count": null,
   "id": "f588c7e0",
   "metadata": {},
   "outputs": [],
   "source": [
    "thing_grad(jnp.array((-2.0,0.0,2.0)))"
   ]
  },
  {
   "cell_type": "code",
   "execution_count": null,
   "id": "e992f9fb",
   "metadata": {},
   "outputs": [],
   "source": [
    "fdgrad(thing,2.0)"
   ]
  },
  {
   "cell_type": "code",
   "execution_count": null,
   "id": "6f6ae86d",
   "metadata": {},
   "outputs": [],
   "source": [
    "in_space = jnp.linspace(-3.0,3.0,8)"
   ]
  },
  {
   "cell_type": "code",
   "execution_count": null,
   "id": "0505ac8c",
   "metadata": {},
   "outputs": [],
   "source": [
    "jpt = pmap(jit(thing))"
   ]
  },
  {
   "cell_type": "code",
   "execution_count": null,
   "id": "781ff4c8",
   "metadata": {},
   "outputs": [],
   "source": []
  },
  {
   "cell_type": "code",
   "execution_count": null,
   "id": "5d69a609",
   "metadata": {},
   "outputs": [],
   "source": [
    "%timeit x = jpt(in_space)"
   ]
  },
  {
   "cell_type": "code",
   "execution_count": null,
   "id": "bd4821de",
   "metadata": {},
   "outputs": [],
   "source": [
    "import jax"
   ]
  },
  {
   "cell_type": "code",
   "execution_count": null,
   "id": "6e9ce28e",
   "metadata": {},
   "outputs": [],
   "source": [
    "import matplotlib.pyplot as plt\n",
    "import numpy as np\n",
    "from   scipy.stats import norm\n",
    "\n",
    "def hmc(logp, n_samples, x0, n_steps, step_size):\n",
    "    \"\"\"Run Hamiltonian Monte Carlo to draw `n_samples` from the log density\n",
    "    `logp`, starting at initial state `x0`.\n",
    "    \"\"\"\n",
    "    momenta_dist = norm(0, 1)\n",
    "\n",
    "    # Kinetic and potential energy functions.\n",
    "    T = lambda r: -momenta_dist.logpdf(r).sum()\n",
    "    V = lambda x: -logp(x)\n",
    "\n",
    "    V = jit(V)\n",
    "    grad_V = jit(grad(V))\n",
    "    dim = len(x0)\n",
    "    samples = np.empty((n_samples, dim))\n",
    "    samples[0] = x0\n",
    "    \n",
    "    accepted = np.empty(n_samples,dtype=bool)\n",
    "    \n",
    "    internal_steps = []\n",
    "\n",
    "    for i in range(1, n_samples):\n",
    "\n",
    "        x_curr = samples[i-1]\n",
    "        r_curr = momenta_dist.rvs(size=dim)\n",
    "        x_prop, r_prop, interim = leapfrog(x_curr, r_curr, n_steps, step_size, grad_V)\n",
    "\n",
    "        H_prop = T(r_prop) + V(x_prop)\n",
    "        H_curr = T(r_curr) + V(x_curr)\n",
    "        alpha  = np.exp(-H_prop + H_curr)\n",
    "\n",
    "        if np.random.uniform(0, 1) < alpha:\n",
    "            x_curr = x_prop\n",
    "            accepted[i] = True\n",
    "        else:\n",
    "            accepted[i] = False\n",
    "            \n",
    "        samples[i] = x_curr\n",
    "        internal_steps.append(interim)\n",
    "        \n",
    "\n",
    "    return samples, accepted, internal_steps\n",
    "\n",
    "\n",
    "def leapfrog(x, r, n_steps, step_size, grad_V):\n",
    "    \"\"\"Run the leapfrog integrator forward `n_steps` using step size\n",
    "    `step_size`.\n",
    "    \"\"\"\n",
    "    x, r = x[:], r[:]\n",
    "    interim = []\n",
    "    for _ in range(n_steps):\n",
    "        r = r - (step_size / 2) * grad_V(x)\n",
    "        x = x + step_size * r\n",
    "        r = r - (step_size / 2) * grad_V(x)\n",
    "        interim.append(x)\n",
    "    r = -r\n",
    "    return x, r, np.array(interim)\n",
    "\n",
    "\n",
    "def log_rosen(x):\n",
    "    \"\"\"Compute the log of the Rosenbrock density.\n",
    "    \"\"\"\n",
    "    return -((1 - x[0]) ** 2 + 100 * (x[1] - x[0] ** 2) ** 2) / 20\n",
    "\n",
    "\n",
    "samples, accepted, internal = hmc(\n",
    "    logp=log_rosen,\n",
    "    n_samples=1000,\n",
    "    x0=np.random.uniform(low=[-3, -3], high=[3, 10], size=2),\n",
    "    n_steps=20,\n",
    "    step_size=0.03\n",
    ")\n",
    "\n",
    "plt.plot(samples[:, 0], samples[:, 1])\n",
    "plt.show()\n"
   ]
  },
  {
   "cell_type": "code",
   "execution_count": null,
   "id": "48f36144",
   "metadata": {},
   "outputs": [],
   "source": [
    "step = 50\n",
    "int_step_vals = internal[step]\n",
    "plt.plot(int_step_vals[:, 0], int_step_vals[:, 1])\n",
    "plt.show()\n",
    "samples[step]"
   ]
  },
  {
   "cell_type": "code",
   "execution_count": null,
   "id": "48050fba",
   "metadata": {},
   "outputs": [],
   "source": [
    "chain_res = []\n",
    "for chain in range(4):\n",
    "    samples,_,_ = hmc(\n",
    "        logp=log_rosen,\n",
    "        n_samples=1000,\n",
    "        x0=np.random.uniform(low=[-3, -3], high=[3, 10], size=2),\n",
    "        n_steps=20,\n",
    "        step_size=0.03\n",
    "    )\n",
    "    chain_res.append(samples)\n"
   ]
  },
  {
   "cell_type": "code",
   "execution_count": null,
   "id": "7e882818",
   "metadata": {},
   "outputs": [],
   "source": [
    "for chain in range(4):\n",
    "    cur_chain = chain_res[chain]\n",
    "    plt.plot(cur_chain[:, 0], cur_chain[:, 1])\n",
    "\n",
    "plt.show()\n"
   ]
  },
  {
   "cell_type": "code",
   "execution_count": null,
   "id": "52a066bf",
   "metadata": {},
   "outputs": [],
   "source": []
  },
  {
   "cell_type": "code",
   "execution_count": null,
   "id": "c597cfd0",
   "metadata": {},
   "outputs": [],
   "source": [
    "comp_model = CompartmentalModel([0.0,100.0],[\"S\",\"I\",\"R\"],[\"I\"])\n",
    "comp_model.set_initial_population({\"S\": 100.0, \"I\": 10.0})\n",
    "comp_model.add_infection_frequency_flow(\"infection\",Parameter(\"contact_rate\"),\"S\",\"I\")\n",
    "comp_model.add_transition_flow(\"recovery\",Parameter(\"recovery_rate\"),\"I\",\"R\")"
   ]
  },
  {
   "cell_type": "code",
   "execution_count": null,
   "id": "fd261eb9",
   "metadata": {},
   "outputs": [],
   "source": [
    "parameters = {\n",
    "    \"contact_rate\": 0.5,\n",
    "    \"recovery_rate\": 0.1\n",
    "}"
   ]
  },
  {
   "cell_type": "code",
   "execution_count": null,
   "id": "d2a2ef74",
   "metadata": {},
   "outputs": [],
   "source": [
    "comp_model.run(parameters)"
   ]
  },
  {
   "cell_type": "code",
   "execution_count": null,
   "id": "cc70a0fd",
   "metadata": {},
   "outputs": [],
   "source": [
    "res = comp_model.get_outputs_df()"
   ]
  },
  {
   "cell_type": "code",
   "execution_count": null,
   "id": "118d907e",
   "metadata": {},
   "outputs": [],
   "source": [
    "from estival.targets import NegativeBinomialTarget"
   ]
  },
  {
   "cell_type": "code",
   "execution_count": null,
   "id": "ba3e96fa",
   "metadata": {},
   "outputs": [],
   "source": [
    "t = NegativeBinomialTarget(\"infections\", res[\"I\"], 5.0)"
   ]
  },
  {
   "cell_type": "code",
   "execution_count": null,
   "id": "e91fc6aa",
   "metadata": {},
   "outputs": [],
   "source": [
    "te = t.get_evaluator(res.index)"
   ]
  },
  {
   "cell_type": "code",
   "execution_count": null,
   "id": "310555ad",
   "metadata": {},
   "outputs": [],
   "source": [
    "te.evaluate(np.array(res[\"I\"]),parameters)"
   ]
  },
  {
   "cell_type": "code",
   "execution_count": null,
   "id": "77831489",
   "metadata": {},
   "outputs": [],
   "source": [
    "mrunner = comp_model.get_runner(parameters)#, dyn_params=list(parameters))"
   ]
  },
  {
   "cell_type": "code",
   "execution_count": null,
   "id": "cfbba459",
   "metadata": {},
   "outputs": [],
   "source": [
    "def model_logp(parameters):\n",
    "    res = mrunner._run_func(parameters)\n",
    "    logp = te._eval_func(res[\"outputs\"][:,1],parameters)\n",
    "    return logp"
   ]
  },
  {
   "cell_type": "code",
   "execution_count": null,
   "id": "c74346a9",
   "metadata": {},
   "outputs": [],
   "source": [
    "parameters"
   ]
  },
  {
   "cell_type": "code",
   "execution_count": null,
   "id": "e9f1e835",
   "metadata": {},
   "outputs": [],
   "source": [
    "grad_logp = jit(grad(model_logp))"
   ]
  },
  {
   "cell_type": "code",
   "execution_count": null,
   "id": "02553565",
   "metadata": {},
   "outputs": [],
   "source": [
    "grad_logp(parameters | {\"contact_rate\": 0.3})"
   ]
  },
  {
   "cell_type": "code",
   "execution_count": null,
   "id": "763da473",
   "metadata": {},
   "outputs": [],
   "source": [
    "grad_logp(parameters)"
   ]
  },
  {
   "cell_type": "code",
   "execution_count": null,
   "id": "732c0904",
   "metadata": {},
   "outputs": [],
   "source": [
    "contact_rate_samples = np.linspace(0.1,0.8,1000)"
   ]
  },
  {
   "cell_type": "code",
   "execution_count": null,
   "id": "a745b8db",
   "metadata": {},
   "outputs": [],
   "source": [
    "cr_grads = {\n",
    "    \"contact_rate\": [],\n",
    "    \"recovery_rate\": []\n",
    "}\n",
    "for cr in contact_rate_samples:\n",
    "    cur_grad = grad_logp(parameters | {\"contact_rate\": cr})\n",
    "    for k, v in cur_grad.items():\n",
    "        cr_grads[k].append(float(v))\n",
    "        \n",
    "pd.DataFrame(cr_grads,index=contact_rate_samples).plot()"
   ]
  },
  {
   "cell_type": "code",
   "execution_count": null,
   "id": "8e26a4dc",
   "metadata": {},
   "outputs": [],
   "source": [
    "def model_logp_float(x):\n",
    "    parameters = {\n",
    "        \"contact_rate\": x[0],\n",
    "        \"recovery_rate\": x[1]\n",
    "    }\n",
    "    res = mrunner._run_func(parameters)\n",
    "    logp = te._eval_func(res[\"outputs\"][:,1],parameters)\n",
    "    return logp"
   ]
  },
  {
   "cell_type": "code",
   "execution_count": null,
   "id": "0bf9d25d",
   "metadata": {},
   "outputs": [],
   "source": [
    "samples, accepted, internal = hmc(\n",
    "    logp=model_logp_float,\n",
    "    n_samples=10000,\n",
    "    x0=np.random.uniform(low=[0.1, 0.01], high=[1.0, 1.0], size=2),\n",
    "    n_steps=20,\n",
    "    step_size=0.03\n",
    ")"
   ]
  },
  {
   "cell_type": "code",
   "execution_count": null,
   "id": "30dbb2b2",
   "metadata": {},
   "outputs": [],
   "source": [
    "samples"
   ]
  },
  {
   "cell_type": "code",
   "execution_count": null,
   "id": "8802eb23",
   "metadata": {},
   "outputs": [],
   "source": [
    "plt.plot(samples[:, 0], samples[:, 1])\n",
    "plt.show()\n"
   ]
  },
  {
   "cell_type": "code",
   "execution_count": null,
   "id": "7e978b56",
   "metadata": {},
   "outputs": [],
   "source": []
  }
 ],
 "metadata": {
  "kernelspec": {
   "display_name": "Python 3 (ipykernel)",
   "language": "python",
   "name": "python3"
  },
  "language_info": {
   "codemirror_mode": {
    "name": "ipython",
    "version": 3
   },
   "file_extension": ".py",
   "mimetype": "text/x-python",
   "name": "python",
   "nbconvert_exporter": "python",
   "pygments_lexer": "ipython3",
   "version": "3.9.13"
  }
 },
 "nbformat": 4,
 "nbformat_minor": 5
}
