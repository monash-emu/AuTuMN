{
 "cells": [
  {
   "cell_type": "code",
   "execution_count": null,
   "id": "1159f978",
   "metadata": {},
   "outputs": [],
   "source": [
    "try:\n",
    "    import google.colab\n",
    "    ! pip install summerepi2==1.1.1\n",
    "    ! pip install estival\n",
    "except:\n",
    "    pass"
   ]
  },
  {
   "cell_type": "code",
   "execution_count": null,
   "id": "37a9c74b",
   "metadata": {},
   "outputs": [],
   "source": [
    "import numpy as np\n",
    "import pandas as pd"
   ]
  },
  {
   "cell_type": "code",
   "execution_count": null,
   "id": "dc11cb47",
   "metadata": {},
   "outputs": [],
   "source": [
    "from jax import grad, jit, vmap, pmap\n",
    "from jax import numpy as jnp"
   ]
  },
  {
   "cell_type": "code",
   "execution_count": null,
   "id": "d2aa3d46",
   "metadata": {},
   "outputs": [],
   "source": [
    "from summer2 import CompartmentalModel\n",
    "from summer2.parameters import Parameter"
   ]
  },
  {
   "cell_type": "code",
   "execution_count": null,
   "id": "9c9c3873",
   "metadata": {},
   "outputs": [],
   "source": [
    "import jax"
   ]
  },
  {
   "cell_type": "code",
   "execution_count": null,
   "id": "257d9633",
   "metadata": {},
   "outputs": [],
   "source": [
    "import matplotlib.pyplot as plt\n",
    "import numpy as np\n",
    "from   scipy.stats import norm\n",
    "\n",
    "def hmc(logp, n_samples, x0, n_steps, step_size):\n",
    "    \"\"\"Run Hamiltonian Monte Carlo to draw `n_samples` from the log density\n",
    "    `logp`, starting at initial state `x0`.\n",
    "    \"\"\"\n",
    "    momenta_dist = norm(0, 1)\n",
    "\n",
    "    # Kinetic and potential energy functions.\n",
    "    T = lambda r: -momenta_dist.logpdf(r).sum()\n",
    "    V = lambda x: -logp(x)\n",
    "\n",
    "    V = jit(V)\n",
    "    grad_V = jit(grad(V))\n",
    "    dim = len(x0)\n",
    "    samples = np.empty((n_samples, dim))\n",
    "    samples[0] = x0\n",
    "    \n",
    "    accepted = np.empty(n_samples,dtype=bool)\n",
    "    \n",
    "    internal_steps = []\n",
    "\n",
    "    for i in range(1, n_samples):\n",
    "\n",
    "        x_curr = samples[i-1]\n",
    "        r_curr = momenta_dist.rvs(size=dim)\n",
    "        x_prop, r_prop, interim = leapfrog(x_curr, r_curr, n_steps, step_size, grad_V)\n",
    "\n",
    "        H_prop = T(r_prop) + V(x_prop)\n",
    "        H_curr = T(r_curr) + V(x_curr)\n",
    "        alpha  = np.exp(-H_prop + H_curr)\n",
    "\n",
    "        if np.random.uniform(0, 1) < alpha:\n",
    "            x_curr = x_prop\n",
    "            accepted[i] = True\n",
    "        else:\n",
    "            accepted[i] = False\n",
    "            \n",
    "        samples[i] = x_curr\n",
    "        internal_steps.append(interim)\n",
    "        \n",
    "\n",
    "    return samples, accepted, internal_steps\n",
    "\n",
    "\n",
    "def leapfrog(x, r, n_steps, step_size, grad_V):\n",
    "    \"\"\"Run the leapfrog integrator forward `n_steps` using step size\n",
    "    `step_size`.\n",
    "    \"\"\"\n",
    "    x, r = x[:], r[:]\n",
    "    interim = []\n",
    "    for _ in range(n_steps):\n",
    "        r = r - (step_size / 2) * grad_V(x)\n",
    "        x = x + step_size * r\n",
    "        r = r - (step_size / 2) * grad_V(x)\n",
    "        interim.append(x)\n",
    "    r = -r\n",
    "    return x, r, np.array(interim)\n",
    "\n",
    "\n",
    "def log_rosen(x):\n",
    "    \"\"\"Compute the log of the Rosenbrock density.\n",
    "    \"\"\"\n",
    "    return -((1 - x[0]) ** 2 + 100 * (x[1] - x[0] ** 2) ** 2) / 20\n",
    "\n",
    "\n",
    "samples, accepted, internal = hmc(\n",
    "    logp=log_rosen,\n",
    "    n_samples=1000,\n",
    "    x0=np.random.uniform(low=[-3, -3], high=[3, 10], size=2),\n",
    "    n_steps=20,\n",
    "    step_size=0.03\n",
    ")\n",
    "\n",
    "plt.plot(samples[:, 0], samples[:, 1])\n",
    "plt.show()\n"
   ]
  },
  {
   "cell_type": "code",
   "execution_count": null,
   "id": "126595f8",
   "metadata": {},
   "outputs": [],
   "source": [
    "step = 50\n",
    "int_step_vals = internal[step]\n",
    "plt.plot(int_step_vals[:, 0], int_step_vals[:, 1])\n",
    "plt.show()\n",
    "samples[step]"
   ]
  },
  {
   "cell_type": "code",
   "execution_count": null,
   "id": "e2e68aa5",
   "metadata": {},
   "outputs": [],
   "source": [
    "chain_res = []\n",
    "for chain in range(4):\n",
    "    samples,_,_ = hmc(\n",
    "        logp=log_rosen,\n",
    "        n_samples=1000,\n",
    "        x0=np.random.uniform(low=[-3, -3], high=[3, 10], size=2),\n",
    "        n_steps=20,\n",
    "        step_size=0.03\n",
    "    )\n",
    "    chain_res.append(samples)\n"
   ]
  },
  {
   "cell_type": "code",
   "execution_count": null,
   "id": "b0566bde",
   "metadata": {},
   "outputs": [],
   "source": [
    "for chain in range(4):\n",
    "    cur_chain = chain_res[chain]\n",
    "    plt.plot(cur_chain[:, 0], cur_chain[:, 1])\n",
    "\n",
    "plt.show()\n"
   ]
  },
  {
   "cell_type": "code",
   "execution_count": null,
   "id": "2f846b07",
   "metadata": {},
   "outputs": [],
   "source": [
    "comp_model = CompartmentalModel([0.0,100.0],[\"S\",\"I\",\"R\"],[\"I\"])\n",
    "comp_model.set_initial_population({\"S\": 100.0, \"I\": 10.0})\n",
    "comp_model.add_infection_frequency_flow(\"infection\",Parameter(\"contact_rate\"),\"S\",\"I\")\n",
    "comp_model.add_transition_flow(\"recovery\",Parameter(\"recovery_rate\"),\"I\",\"R\")"
   ]
  },
  {
   "cell_type": "code",
   "execution_count": null,
   "id": "ae03071b",
   "metadata": {},
   "outputs": [],
   "source": [
    "parameters = {\n",
    "    \"contact_rate\": 0.5,\n",
    "    \"recovery_rate\": 0.1\n",
    "}"
   ]
  },
  {
   "cell_type": "code",
   "execution_count": null,
   "id": "8e9eb590",
   "metadata": {},
   "outputs": [],
   "source": [
    "comp_model.run(parameters)"
   ]
  },
  {
   "cell_type": "code",
   "execution_count": null,
   "id": "dc5e9c2f",
   "metadata": {},
   "outputs": [],
   "source": [
    "res = comp_model.get_outputs_df()"
   ]
  },
  {
   "cell_type": "code",
   "execution_count": null,
   "id": "83726be2",
   "metadata": {},
   "outputs": [],
   "source": [
    "from estival.targets import NegativeBinomialTarget"
   ]
  },
  {
   "cell_type": "code",
   "execution_count": null,
   "id": "16e688b5",
   "metadata": {},
   "outputs": [],
   "source": [
    "t = NegativeBinomialTarget(\"infections\", res[\"I\"], 5.0)"
   ]
  },
  {
   "cell_type": "code",
   "execution_count": null,
   "id": "538a415c",
   "metadata": {},
   "outputs": [],
   "source": [
    "te = t.get_evaluator(res.index)"
   ]
  },
  {
   "cell_type": "code",
   "execution_count": null,
   "id": "a3ab288a",
   "metadata": {},
   "outputs": [],
   "source": [
    "te.evaluate(np.array(res[\"I\"]),parameters)"
   ]
  },
  {
   "cell_type": "code",
   "execution_count": null,
   "id": "024dc4f8",
   "metadata": {},
   "outputs": [],
   "source": [
    "mrunner = comp_model.get_runner(parameters)#, dyn_params=list(parameters))"
   ]
  },
  {
   "cell_type": "code",
   "execution_count": null,
   "id": "e2ff6001",
   "metadata": {},
   "outputs": [],
   "source": [
    "def model_logp(parameters):\n",
    "    res = mrunner._run_func(parameters)\n",
    "    logp = te._eval_func(res[\"outputs\"][:,1],parameters)\n",
    "    return logp"
   ]
  },
  {
   "cell_type": "code",
   "execution_count": null,
   "id": "17eff9b9",
   "metadata": {},
   "outputs": [],
   "source": [
    "parameters"
   ]
  },
  {
   "cell_type": "code",
   "execution_count": null,
   "id": "411dc25a",
   "metadata": {},
   "outputs": [],
   "source": [
    "grad_logp = jit(grad(model_logp))"
   ]
  },
  {
   "cell_type": "code",
   "execution_count": null,
   "id": "1beff270",
   "metadata": {},
   "outputs": [],
   "source": [
    "grad_logp(parameters)"
   ]
  },
  {
   "cell_type": "code",
   "execution_count": null,
   "id": "a66aff55",
   "metadata": {},
   "outputs": [],
   "source": [
    "contact_rate_samples = np.linspace(0.1,0.8,1000)"
   ]
  },
  {
   "cell_type": "code",
   "execution_count": null,
   "id": "612d7b77",
   "metadata": {},
   "outputs": [],
   "source": [
    "cr_grads = {\n",
    "    \"contact_rate\": [],\n",
    "    \"recovery_rate\": []\n",
    "}\n",
    "for cr in contact_rate_samples:\n",
    "    cur_p = parameters.copy()\n",
    "    cur_p.update({\"contact_rate\": cr})\n",
    "    cur_grad = grad_logp(cur_p)\n",
    "    for k, v in cur_grad.items():\n",
    "        cr_grads[k].append(float(v))\n",
    "        \n",
    "pd.DataFrame(cr_grads,index=contact_rate_samples).plot()"
   ]
  },
  {
   "cell_type": "code",
   "execution_count": null,
   "id": "4191ad94",
   "metadata": {},
   "outputs": [],
   "source": [
    "def model_logp_float(x):\n",
    "    parameters = {\n",
    "        \"contact_rate\": x[0],\n",
    "        \"recovery_rate\": x[1]\n",
    "    }\n",
    "    res = mrunner._run_func(parameters)\n",
    "    logp = te._eval_func(res[\"outputs\"][:,1],parameters)\n",
    "    return logp"
   ]
  },
  {
   "cell_type": "code",
   "execution_count": null,
   "id": "b90955fd",
   "metadata": {},
   "outputs": [],
   "source": [
    "samples, accepted, internal = hmc(\n",
    "    logp=model_logp_float,\n",
    "    n_samples=1000,\n",
    "    x0=np.random.uniform(low=[0.1, 0.01], high=[1.0, 1.0], size=2),\n",
    "    n_steps=20,\n",
    "    step_size=0.03\n",
    ")"
   ]
  },
  {
   "cell_type": "code",
   "execution_count": null,
   "id": "0ab75869",
   "metadata": {},
   "outputs": [],
   "source": [
    "plt.plot(samples[:, 0], samples[:, 1])\n",
    "plt.show()\n"
   ]
  },
  {
   "cell_type": "code",
   "execution_count": null,
   "id": "77519445",
   "metadata": {},
   "outputs": [],
   "source": []
  }
 ],
 "metadata": {
  "kernelspec": {
   "display_name": "Python 3 (ipykernel)",
   "language": "python",
   "name": "python3"
  },
  "language_info": {
   "codemirror_mode": {
    "name": "ipython",
    "version": 3
   },
   "file_extension": ".py",
   "mimetype": "text/x-python",
   "name": "python",
   "nbconvert_exporter": "python",
   "pygments_lexer": "ipython3",
   "version": "3.9.13"
  }
 },
 "nbformat": 4,
 "nbformat_minor": 5
}
