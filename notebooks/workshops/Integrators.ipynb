{
 "cells": [
  {
   "cell_type": "markdown",
   "id": "82d99b34",
   "metadata": {},
   "source": [
    "# Numerical Integration"
   ]
  },
  {
   "cell_type": "markdown",
   "id": "694ce3ee",
   "metadata": {},
   "source": [
    "\n",
    "solve_ivp is the 'standard' numerical integration interface in scientific python<br>\n",
    "It contains a number of integrators, many of which are available in other languages\n",
    "(R, Matlab etc) - often using exactly the same backend implementation\n",
    "\n",
    "https://docs.scipy.org/doc/scipy/reference/generated/scipy.integrate.solve_ivp.html"
   ]
  },
  {
   "cell_type": "code",
   "execution_count": null,
   "id": "ecea19ef",
   "metadata": {},
   "outputs": [],
   "source": [
    "from scipy.integrate import solve_ivp\n",
    "import numpy as np\n",
    "import pandas as pd\n",
    "\n",
    "pd.options.plotting.backend = \"plotly\""
   ]
  },
  {
   "cell_type": "code",
   "execution_count": null,
   "id": "21719292",
   "metadata": {},
   "outputs": [],
   "source": [
    "# Let's start with a simple SIR model as our toy integration problem\n",
    "\n",
    "def sir_step(t, values, rate_dict):\n",
    "    s, i, r = values\n",
    "    \n",
    "    pop = sum(values)\n",
    "    iprop = i / pop\n",
    "    \n",
    "    s_i = s * rate_dict[\"s_i\"] * iprop\n",
    "    i_r = i * rate_dict[\"i_r\"]\n",
    "    \n",
    "    return np.array([\n",
    "           -s_i, s_i - i_r, i_r\n",
    "    ])\n",
    "    "
   ]
  },
  {
   "cell_type": "code",
   "execution_count": null,
   "id": "9fbc09fd",
   "metadata": {},
   "outputs": [],
   "source": [
    "init_values = np.array((100.0,1.0,0.0))\n",
    "\n",
    "times = np.arange(0,200)\n",
    "\n",
    "n_substeps = 1\n",
    "\n",
    "times = np.linspace(0.0,times[-1],int(len(times) * n_substeps))\n",
    "\n",
    "sir_rates = {\n",
    "    \"s_i\": 0.9,\n",
    "    \"i_r\": 0.1\n",
    "}\n",
    "\n",
    "# RK45 is the default method\n",
    "# This is an explicit adaptive multistep method\n",
    "method = \"RK45\"\n",
    "\n",
    "# solve_ivp requires the following arguments:\n",
    "# ode_function, (start,end), initial_values, evaluation_times, method, <optional arguments>\n",
    "\n",
    "res = solve_ivp(sir_step, (times[0],times[-1]), init_values, t_eval=times,method=method,args=[sir_rates])"
   ]
  },
  {
   "cell_type": "code",
   "execution_count": null,
   "id": "aa730125",
   "metadata": {},
   "outputs": [],
   "source": [
    "# Let's be honest - most applications will never actually check this, but let's have a look\n",
    "# in detail...\n",
    "\n",
    "res"
   ]
  },
  {
   "cell_type": "code",
   "execution_count": null,
   "id": "ea0e0ea3",
   "metadata": {},
   "outputs": [],
   "source": [
    "pd.DataFrame(res[\"y\"].T,columns=[\"S\",\"I\",\"R\"],index=times).plot()"
   ]
  },
  {
   "cell_type": "code",
   "execution_count": null,
   "id": "c8989f64",
   "metadata": {},
   "outputs": [],
   "source": [
    "# Just for comparison, let's write out the simplest integrator we can - Euler's method \n",
    "\n",
    "def solve_euler(func, times, init_values, args=None):\n",
    "    h = times[1] - times[0]\n",
    "    values = init_values\n",
    "    y_res = [init_values]\n",
    "    for i, t in enumerate(times[:-1]):\n",
    "        \n",
    "        # This is it - the core loop\n",
    "        # evaluation the function at t, then add our deltas (times the timestep (h))\n",
    "        y = func(t, values, args)\n",
    "        values = values + y * h\n",
    "        \n",
    "        # Gather these up\n",
    "        y_res.append(values)\n",
    "    return np.stack(y_res)"
   ]
  },
  {
   "cell_type": "code",
   "execution_count": null,
   "id": "44ec4343",
   "metadata": {},
   "outputs": [],
   "source": [
    "times = np.arange(0,200)\n",
    "\n",
    "n_substeps = 1\n",
    "\n",
    "times = np.linspace(0.0,times[-1],int(len(times) * n_substeps))\n",
    "\n",
    "sir_rates = {\n",
    "    \"s_i\": 0.9,\n",
    "    \"i_r\": 0.1\n",
    "}\n",
    "\n",
    "eres = solve_euler(sir_step, times, init_values, sir_rates)\n",
    "\n",
    "pd.DataFrame(eres,columns=[\"S\",\"I\",\"R\"],index=times).plot()"
   ]
  },
  {
   "cell_type": "code",
   "execution_count": null,
   "id": "b1f23424",
   "metadata": {},
   "outputs": [],
   "source": [
    "# Without a doubt, the most widely used multistep method, Runge-Kutta 4\n",
    "\n",
    "def solve_rk4(ode_func, times, init_values, args=None):\n",
    "    \n",
    "    h = times[1] - times[0]\n",
    "    values = init_values\n",
    "    y_res = [init_values]\n",
    "    \n",
    "    # Perform Runge-Kutta 4 integration\n",
    "    for time_idx, time in enumerate(times[:-1]):\n",
    "        \n",
    "        k1 = h * ode_func(time, values, args)\n",
    "        k2 = h * ode_func(time + h / 2, values + k1 / 2, args)\n",
    "        k3 = h * ode_func(time + h / 2, values + k2 / 2, args)\n",
    "        k4 = h * ode_func(time + h, values + k3, args)\n",
    "        \n",
    "        values = values + (1 / 6) * (k1 + 2 * k2 + 2 * k3 + k4)\n",
    "        \n",
    "        y_res.append(values)\n",
    "\n",
    "    return np.stack(y_res)"
   ]
  },
  {
   "cell_type": "code",
   "execution_count": null,
   "id": "2280f35d",
   "metadata": {},
   "outputs": [],
   "source": [
    "times = np.arange(0,200)\n",
    "\n",
    "n_substeps = 1\n",
    "\n",
    "times = np.linspace(0.0,times[-1],int(len(times) * n_substeps))\n",
    "\n",
    "sir_rates = {\n",
    "    \"s_i\": 0.9,\n",
    "    \"i_r\": 0.1\n",
    "}\n",
    "\n",
    "rres = solve_rk4(sir_step, times, init_values, sir_rates)\n",
    "\n",
    "pd.DataFrame(rres,columns=[\"S\",\"I\",\"R\"],index=times).plot()"
   ]
  },
  {
   "cell_type": "code",
   "execution_count": null,
   "id": "10a141af",
   "metadata": {},
   "outputs": [],
   "source": [
    "# Let's try a slightly more complex (if not necessarily realistic) function\n",
    "# SIRS with optional reinfection from the recovered compartment\n",
    "\n",
    "# Functions with feedback are considerably more demanding regarding stability\n",
    "\n",
    "def sirs_step(t, values, rate_dict):\n",
    "    s, i, r = values\n",
    "    \n",
    "    pop = sum(values)\n",
    "    iprop = i / pop\n",
    "    \n",
    "    s_i = s * rate_dict[\"s_i\"] * iprop\n",
    "    i_r = i * rate_dict[\"i_r\"]\n",
    "    r_s = r * rate_dict[\"r_s\"]\n",
    "    r_i = r * rate_dict[\"r_i\"] * iprop\n",
    "    \n",
    "    return np.array([\n",
    "           -s_i + r_s, s_i + r_i - i_r, i_r - r_s - r_i\n",
    "    ])\n",
    "    "
   ]
  },
  {
   "cell_type": "code",
   "execution_count": null,
   "id": "2526ea72",
   "metadata": {},
   "outputs": [],
   "source": [
    "times = np.arange(0,2000)\n",
    "\n",
    "n_substeps = 1\n",
    "\n",
    "times = np.linspace(0.0,times[-1],int(len(times) * n_substeps))\n",
    "\n",
    "sirs_rates = {\n",
    "    \"s_i\": 0.5,\n",
    "    \"i_r\": 0.3,\n",
    "    \"r_s\": 0.003,\n",
    "    \"r_i\": 0.05,\n",
    "}\n",
    "\n",
    "method = \"RK45\"\n",
    "res = solve_ivp(sirs_step, (times[0],times[-1]), init_values, t_eval=times,method=method,args=[sirs_rates])\n",
    "\n",
    "outputs = res[\"y\"].T\n",
    "\n",
    "pd.DataFrame(outputs,columns=[\"S\",\"I\",\"R\"]).plot()"
   ]
  },
  {
   "cell_type": "code",
   "execution_count": null,
   "id": "5129ebf4",
   "metadata": {},
   "outputs": [],
   "source": [
    "# Now try some slightly more 'challenging' values - nothing extreme\n",
    "\n",
    "times = np.arange(0,2000)\n",
    "\n",
    "n_substeps = 1\n",
    "\n",
    "times = np.linspace(0.0,times[-1],int(len(times) * n_substeps))\n",
    "\n",
    "sirs_rates = {\n",
    "    \"s_i\": 0.94,\n",
    "    \"i_r\": 0.6,\n",
    "    \"r_s\": 0.001,\n",
    "    \"r_i\": 0.1,\n",
    "}"
   ]
  },
  {
   "cell_type": "code",
   "execution_count": null,
   "id": "d5a1c0e7",
   "metadata": {},
   "outputs": [],
   "source": [
    "# We'll start with RK45, but try a few different methods here\n",
    "\n",
    "# BDF, Radau\n",
    "\n",
    "method = \"RK45\"\n",
    "res = solve_ivp(sirs_step, (times[0],times[-1]), init_values, t_eval=times,method=method,args=[sirs_rates])\n",
    "\n",
    "outputs = res[\"y\"].T\n",
    "\n",
    "res"
   ]
  },
  {
   "cell_type": "code",
   "execution_count": null,
   "id": "622ecb30",
   "metadata": {},
   "outputs": [],
   "source": [
    "pd.DataFrame(outputs,columns=[\"S\",\"I\",\"R\"]).plot()"
   ]
  },
  {
   "cell_type": "code",
   "execution_count": null,
   "id": "e8df05cc",
   "metadata": {},
   "outputs": [],
   "source": [
    "outputs = solve_euler(sirs_step, times, init_values, args=sirs_rates)\n",
    "pd.DataFrame(outputs,columns=[\"S\",\"I\",\"R\"]).plot()"
   ]
  },
  {
   "cell_type": "code",
   "execution_count": null,
   "id": "4b256210",
   "metadata": {},
   "outputs": [],
   "source": [
    "outputs = solve_rk4(sirs_step, times, init_values, args=sirs_rates)\n",
    "pd.DataFrame(outputs,columns=[\"S\",\"I\",\"R\"]).plot()"
   ]
  },
  {
   "cell_type": "code",
   "execution_count": null,
   "id": "b2dc06e9",
   "metadata": {},
   "outputs": [],
   "source": [
    "# Let's go back to SIR, but add an importation step\n",
    "\n",
    "def sir_import_step(t, values, rate_dict):\n",
    "    s, i, r = values\n",
    "    \n",
    "    pop = sum(values)\n",
    "    iprop = i / pop\n",
    "    \n",
    "    s_i = s * rate_dict[\"s_i\"] * iprop\n",
    "    i_r = i * rate_dict[\"i_r\"]\n",
    "    \n",
    "    if t >= 100 and t < 101:\n",
    "        imports = 20.0\n",
    "    else:\n",
    "        imports = 0.0\n",
    "        \n",
    "    \n",
    "    return np.array([\n",
    "           -s_i, s_i - i_r + imports, i_r\n",
    "    ])\n",
    "    "
   ]
  },
  {
   "cell_type": "code",
   "execution_count": null,
   "id": "d3ceced8",
   "metadata": {},
   "outputs": [],
   "source": []
  },
  {
   "cell_type": "code",
   "execution_count": null,
   "id": "5ad6b57a",
   "metadata": {},
   "outputs": [],
   "source": [
    "times = np.arange(0,200)\n",
    "\n",
    "n_substeps = 1\n",
    "\n",
    "times = np.linspace(0.0,times[-1],int(len(times) * n_substeps))\n",
    "\n",
    "# We'll start with these values...\n",
    "sir_rates = {\n",
    "    \"s_i\": 0.4,\n",
    "    \"i_r\": 0.14 # 7 day recovery\n",
    "}\n",
    "\n",
    "method = \"RK45\"\n",
    "res = solve_ivp(sir_import_step, (times[0],times[-1]), init_values, t_eval=times,method=method,args=[sir_rates])\n",
    "\n",
    "outputs = res[\"y\"].T\n",
    "\n",
    "pd.DataFrame(outputs,columns=[\"S\",\"I\",\"R\"],index=times).plot()"
   ]
  },
  {
   "cell_type": "code",
   "execution_count": null,
   "id": "ab05b5d7",
   "metadata": {},
   "outputs": [],
   "source": [
    "res"
   ]
  },
  {
   "cell_type": "code",
   "execution_count": null,
   "id": "ea1bd636",
   "metadata": {},
   "outputs": [],
   "source": [
    "# A slight change\n",
    "\n",
    "sir_rates = {\n",
    "    \"s_i\": 0.4,\n",
    "    \"i_r\": 0.12 # 8 day recovery\n",
    "}\n",
    "\n",
    "\n",
    "method = \"RK45\"\n",
    "res = solve_ivp(sir_import_step, (times[0],times[-1]), init_values, t_eval=times,method=method,args=[sir_rates])\n",
    "\n",
    "outputs = res[\"y\"].T\n",
    "\n",
    "pd.DataFrame(outputs,columns=[\"S\",\"I\",\"R\"],index=times).plot()"
   ]
  },
  {
   "cell_type": "code",
   "execution_count": null,
   "id": "43431dc2",
   "metadata": {},
   "outputs": [],
   "source": [
    "res"
   ]
  },
  {
   "cell_type": "code",
   "execution_count": null,
   "id": "fc5a33c5",
   "metadata": {},
   "outputs": [],
   "source": [
    "# Different integrators behave differently - of course they do, they all have different\n",
    "# adaptation strategies...\n",
    "\n",
    "sir_rates = {\n",
    "    \"s_i\": 0.4,\n",
    "    \"i_r\": 0.14 # 7 day recovery\n",
    "}\n",
    "\n",
    "\n",
    "method = \"BDF\"\n",
    "res = solve_ivp(sir_import_step, (times[0],times[-1]), init_values, t_eval=times,method=method,args=[sir_rates])\n",
    "\n",
    "outputs = res[\"y\"].T\n",
    "\n",
    "pd.DataFrame(outputs,columns=[\"S\",\"I\",\"R\"],index=times).plot()"
   ]
  },
  {
   "cell_type": "code",
   "execution_count": null,
   "id": "cb038723",
   "metadata": {},
   "outputs": [],
   "source": [
    "# A slight change\n",
    "\n",
    "sir_rates = {\n",
    "    \"s_i\": 0.4,\n",
    "    \"i_r\": 0.12 # 8 day recovery\n",
    "}\n",
    "\n",
    "# max_step - this is what really affects integration intervals (not the 'evaluation times')\n",
    "# ... but at a cost\n",
    "\n",
    "method = \"RK45\"\n",
    "res = solve_ivp(sir_import_step,\n",
    "                (times[0],times[-1]),\n",
    "                init_values,\n",
    "                t_eval=times,\n",
    "                method=method,\n",
    "                args=[sir_rates],\n",
    "                max_step=1.0) \n",
    "\n",
    "\n",
    "outputs = res[\"y\"].T\n",
    "\n",
    "pd.DataFrame(outputs,columns=[\"S\",\"I\",\"R\"],index=times).plot()"
   ]
  },
  {
   "cell_type": "code",
   "execution_count": null,
   "id": "00f55af4",
   "metadata": {},
   "outputs": [],
   "source": [
    "res"
   ]
  },
  {
   "cell_type": "code",
   "execution_count": null,
   "id": "0fb65e23",
   "metadata": {},
   "outputs": [],
   "source": [
    "# Maybe we were better off with RK4 in the first place? (...maybe?)\n",
    "# In terms of granularity, RK4 has a \"max_step\" of h/2\n",
    "\n",
    "rres = solve_rk4(sir_import_step, times, init_values, sir_rates)\n",
    "\n",
    "pd.DataFrame(rres,columns=[\"S\",\"I\",\"R\"],index=times).plot()"
   ]
  },
  {
   "cell_type": "markdown",
   "id": "88985298",
   "metadata": {},
   "source": [
    "# Some other properties"
   ]
  },
  {
   "cell_type": "code",
   "execution_count": null,
   "id": "ef5893ae",
   "metadata": {},
   "outputs": [],
   "source": [
    "TAU = 2.0 * np.pi"
   ]
  },
  {
   "cell_type": "code",
   "execution_count": null,
   "id": "8cf45e03",
   "metadata": {},
   "outputs": [],
   "source": [
    "def hooke_ode(t, values, k):\n",
    "    x, v = values\n",
    "    a = -k * x\n",
    "    return np.array((v, a))"
   ]
  },
  {
   "cell_type": "code",
   "execution_count": null,
   "id": "a1e643b3",
   "metadata": {},
   "outputs": [],
   "source": [
    "init_hooke = np.array((1.0, 0.0))\n",
    "\n",
    "N_CYCLES = 2\n",
    "STEP_DIVISOR = 32\n",
    "END = TAU * N_CYCLES\n",
    "\n",
    "times = np.linspace(0.0,END,N_CYCLES * STEP_DIVISOR)\n",
    "\n",
    "method = \"RK45\"\n",
    "%time res = solve_ivp(hooke_ode, [0,END], init_hooke, t_eval=times,method=method,args=[1.0])\n",
    "\n",
    "#pd.Series(data=res[\"y\"][0],index=times).plot()\n",
    "pd.DataFrame(data=res[\"y\"][0].T,index=times).plot()"
   ]
  },
  {
   "cell_type": "code",
   "execution_count": null,
   "id": "10df4e83",
   "metadata": {},
   "outputs": [],
   "source": [
    "# \n",
    "init_hooke = np.array((1.0, 0.0))\n",
    "\n",
    "N_CYCLES = 1000\n",
    "STEP_DIVISOR = 16\n",
    "END = TAU * N_CYCLES\n",
    "\n",
    "times = np.linspace(0.0,END,N_CYCLES * STEP_DIVISOR)\n",
    "\n",
    "method = \"RK45\"\n",
    "%time res = solve_ivp(hooke_ode, [0,END], init_hooke, t_eval=times,method=method,args=[1.0e1])\n",
    "\n",
    "#pd.Series(data=res[\"y\"][0],index=times).plot()\n",
    "pd.DataFrame(data=res[\"y\"][0].T,index=times).plot()"
   ]
  },
  {
   "cell_type": "code",
   "execution_count": null,
   "id": "6d7f4e99",
   "metadata": {},
   "outputs": [],
   "source": [
    "res"
   ]
  },
  {
   "cell_type": "markdown",
   "id": "f25257fe",
   "metadata": {},
   "source": [
    "# Reframe this as a symplectic integrator"
   ]
  },
  {
   "cell_type": "code",
   "execution_count": null,
   "id": "d19b35de",
   "metadata": {},
   "outputs": [],
   "source": [
    "def verlet_hooke(values,h, t, k):\n",
    "    xn, xn1 = values\n",
    "    a = -k * xn\n",
    "    \n",
    "    x_new = 2.0 * xn - xn1 + a * (h**2.0)\n",
    "    return np.array((x_new, xn))\n",
    "\n",
    "def solve_verlet(times, init_values, h, k):\n",
    "    values = init_values\n",
    "    y_res = [init_values]\n",
    "    for t in times[::-1]:\n",
    "        values = verlet_hooke(values, h, t, k)\n",
    "        y_res.append(values)\n",
    "    return np.stack(y_res).T"
   ]
  },
  {
   "cell_type": "code",
   "execution_count": null,
   "id": "7d5a415f",
   "metadata": {},
   "outputs": [],
   "source": [
    "init_hooke = np.array((1.0, 1.0))\n",
    "\n",
    "N_CYCLES = 1000\n",
    "STEP_DIVISOR = 16\n",
    "END = TAU * N_CYCLES\n",
    "\n",
    "times = np.linspace(0.0,END,N_CYCLES * STEP_DIVISOR)\n",
    "\n",
    "h = END / ((N_CYCLES * STEP_DIVISOR)-1)\n",
    "\n",
    "vres = solve_verlet(times, init_hooke, h, 1.0e1)\n",
    "pd.Series(data=vres[0]).plot()"
   ]
  },
  {
   "cell_type": "code",
   "execution_count": null,
   "id": "f8f806e3",
   "metadata": {},
   "outputs": [],
   "source": [
    "# Now finally, let's take a look at some stiff non-linear problems..."
   ]
  },
  {
   "cell_type": "code",
   "execution_count": null,
   "id": "9b7c9413",
   "metadata": {},
   "outputs": [],
   "source": [
    "def hooke_nl_ode(t, values, k):\n",
    "    x, v = values\n",
    "    a = -k * (x + ((10.0 * x)**3))\n",
    "    return np.array((v, a))"
   ]
  },
  {
   "cell_type": "code",
   "execution_count": null,
   "id": "238314df",
   "metadata": {},
   "outputs": [],
   "source": [
    "init_hooke = np.array((1.0, 0.0))\n",
    "\n",
    "N_CYCLES = 4\n",
    "STEP_DIVISOR = 256\n",
    "END = TAU * N_CYCLES\n",
    "\n",
    "times = np.linspace(0.0,END,N_CYCLES * STEP_DIVISOR)\n",
    "\n",
    "# Try this with different methods:\n",
    "# RK45, BDF, Radau, LSODA\n",
    "method = \"RK45\"\n",
    "%time res = solve_ivp(hooke_nl_ode, [0,END], init_hooke, t_eval=times,method=method,args=[1.0e1])\n",
    "\n",
    "#pd.Series(data=res[\"y\"][0],index=times).plot()\n",
    "pd.DataFrame(data=res[\"y\"][0].T,index=times).plot()"
   ]
  },
  {
   "cell_type": "code",
   "execution_count": null,
   "id": "1a9d4f0c",
   "metadata": {},
   "outputs": [],
   "source": []
  }
 ],
 "metadata": {
  "kernelspec": {
   "display_name": "Python 3 (ipykernel)",
   "language": "python",
   "name": "python3"
  },
  "language_info": {
   "codemirror_mode": {
    "name": "ipython",
    "version": 3
   },
   "file_extension": ".py",
   "mimetype": "text/x-python",
   "name": "python",
   "nbconvert_exporter": "python",
   "pygments_lexer": "ipython3",
   "version": "3.9.13"
  }
 },
 "nbformat": 4,
 "nbformat_minor": 5
}
