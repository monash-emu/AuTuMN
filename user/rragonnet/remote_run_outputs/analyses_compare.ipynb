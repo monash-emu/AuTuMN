{
 "cells": [
  {
   "cell_type": "code",
   "execution_count": 1,
   "metadata": {},
   "outputs": [
    {
     "name": "stderr",
     "output_type": "stream",
     "text": [
      "WARNING (pytensor.tensor.blas): Using NumPy C-API based implementation for BLAS functions.\n",
      "c:\\Users\\rrag0004\\.conda\\envs\\summer2\\lib\\site-packages\\summer\\runner\\vectorized_runner.py:363: NumbaDeprecationWarning: \u001b[1mThe 'nopython' keyword argument was not supplied to the 'numba.jit' decorator. The implicit default value for this argument is currently False, but it will be changed to True in Numba 0.59.0. See https://numba.readthedocs.io/en/stable/reference/deprecation.html#deprecation-of-object-mode-fall-back-behaviour-when-using-jit for details.\u001b[0m\n",
      "  def get_strain_infection_values(\n"
     ]
    }
   ],
   "source": [
    "from autumn.projects.sm_covid2.common_school.runner_tools import INCLUDED_COUNTRIES\n",
    "import pandas as pd\n",
    "from pathlib import Path\n",
    "from matplotlib import pyplot as plt \n",
    "\n",
    "\n",
    "from autumn.projects.sm_covid2.common_school.output_plots.multicountry import plot_analyses_comparison\n",
    "\n",
    "full_iso3_list = list(INCLUDED_COUNTRIES['all'].keys())"
   ]
  },
  {
   "cell_type": "code",
   "execution_count": 2,
   "metadata": {},
   "outputs": [],
   "source": [
    "analysis_folders = {\n",
    "    \"main\": Path.cwd() / \"31747883_full_analysis_26Sep2023_main\",\n",
    "    \"increased_hh_contacts\": Path.cwd() / \"31902886_full_analysis_05Oct2023_increased_hh_contacts\",\n",
    "    \"no_google_mobility\": Path.cwd() / \"31915437_full_analysis_05Oct2023_no_google_mobility\"\n",
    "}"
   ]
  },
  {
   "cell_type": "code",
   "execution_count": 3,
   "metadata": {},
   "outputs": [
    {
     "data": {
      "text/plain": [
       "dict_keys(['main', 'increased_hh_contacts', 'no_google_mobility'])"
      ]
     },
     "execution_count": 3,
     "metadata": {},
     "output_type": "execute_result"
    }
   ],
   "source": [
    "analysis_folders.keys()"
   ]
  },
  {
   "cell_type": "code",
   "execution_count": 4,
   "metadata": {},
   "outputs": [],
   "source": [
    "diff_quantiles_dfs = {}\n",
    "for iso3 in full_iso3_list:\n",
    "    diff_quantiles_dfs[iso3] = {}\n",
    "    for analysis, folder in analysis_folders.items():\n",
    "        diff_quantiles_path = folder / iso3 / \"diff_quantiles_df.parquet\"\n",
    "        if Path.exists(diff_quantiles_path):\n",
    "            diff_quantiles_dfs[iso3][analysis] = pd.read_parquet(diff_quantiles_path)"
   ]
  },
  {
   "cell_type": "code",
   "execution_count": 7,
   "metadata": {},
   "outputs": [],
   "source": [
    "FILE_FORMATS = [\"png\", \"pdf\"]"
   ]
  },
  {
   "cell_type": "code",
   "execution_count": 8,
   "metadata": {},
   "outputs": [],
   "source": [
    "for output in [\"cases_averted_relative\", \"deaths_averted_relative\", \"delta_hospital_peak_relative\"]:\n",
    "    fig = plot_analyses_comparison(diff_quantiles_dfs, output)\n",
    "    plt.close()\n",
    "    for file_format in FILE_FORMATS:\n",
    "        fig.savefig(Path.cwd() / \"analyses_compare_plots\" / f\"analyses_compare_{output}.{file_format}\")"
   ]
  }
 ],
 "metadata": {
  "kernelspec": {
   "display_name": "summer2",
   "language": "python",
   "name": "python3"
  },
  "language_info": {
   "codemirror_mode": {
    "name": "ipython",
    "version": 3
   },
   "file_extension": ".py",
   "mimetype": "text/x-python",
   "name": "python",
   "nbconvert_exporter": "python",
   "pygments_lexer": "ipython3",
   "version": "3.10.11"
  }
 },
 "nbformat": 4,
 "nbformat_minor": 2
}
