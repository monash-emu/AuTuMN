{
 "cells": [
  {
   "cell_type": "code",
   "execution_count": null,
   "metadata": {},
   "outputs": [],
   "source": [
    "from autumn.projects.sm_covid2.common_school.runner_tools import INCLUDED_COUNTRIES\n",
    "import pandas as pd\n",
    "from pathlib import Path\n",
    "from matplotlib import pyplot as plt \n",
    "from autumn.projects.sm_covid2.common_school.output_plots.multicountry import plot_analyses_comparison, plot_analyses_median_deltas\n",
    "\n",
    "full_iso3_list = list(INCLUDED_COUNTRIES['all'].keys())\n",
    "full_iso3_list = [iso3 for iso3 in full_iso3_list if iso3 != \"BLR\"]"
   ]
  },
  {
   "cell_type": "code",
   "execution_count": null,
   "metadata": {},
   "outputs": [],
   "source": [
    "analysis_folders = {\n",
    "    \"main\": Path.cwd() / \"31747883_full_analysis_26Sep2023_main\",\n",
    "    \"increased_hh_contacts\": Path.cwd() / \"31902886_full_analysis_05Oct2023_increased_hh_contacts\",\n",
    "    \"no_google_mobility\": Path.cwd() / \"31915437_full_analysis_05Oct2023_no_google_mobility\"\n",
    "}"
   ]
  },
  {
   "cell_type": "code",
   "execution_count": null,
   "metadata": {},
   "outputs": [],
   "source": [
    "diff_quantiles_dfs = {}\n",
    "for iso3 in full_iso3_list:\n",
    "    diff_quantiles_dfs[iso3] = {}\n",
    "    for analysis, folder in analysis_folders.items():\n",
    "        diff_quantiles_path = folder / iso3 / \"diff_quantiles_df.parquet\"\n",
    "        if Path.exists(diff_quantiles_path):\n",
    "            diff_quantiles_dfs[iso3][analysis] = pd.read_parquet(diff_quantiles_path)"
   ]
  },
  {
   "cell_type": "code",
   "execution_count": null,
   "metadata": {},
   "outputs": [],
   "source": [
    "FILE_FORMATS = [\"png\", \"pdf\"]"
   ]
  },
  {
   "cell_type": "code",
   "execution_count": null,
   "metadata": {},
   "outputs": [],
   "source": [
    "from matplotlib import pyplot as plt\n",
    "from matplotlib.patches import Rectangle\n",
    "import pandas as pd\n",
    "from math import ceil\n",
    "\n",
    "import plotly.graph_objects as go\n",
    "\n",
    "YLAB_LOOKUP_SPLIT = {\n",
    "   \"cases_averted_relative\": \"% infections averted<br>by school closure\", \n",
    "   \"deaths_averted_relative\": \"% deaths averted<br>by school closure\",\n",
    "   \"delta_hospital_peak_relative\": \"Relative reduction in<br>peak hospital occupancy (%)\"\n",
    "}\n",
    "\n",
    "BOX_COLORS= {\n",
    "   \"cases_averted_relative\": \"black\",\n",
    "   \"deaths_averted_relative\": \"purple\",\n",
    "   \"delta_hospital_peak_relative\": \"firebrick\"\n",
    "}\n",
    "\n",
    "ANALYSIS_COLORS = {\n",
    "    \"main\": \"black\",\n",
    "    \"increased_hh_contacts\": \"firebrick\",\n",
    "    \"no_google_mobility\": \"mediumblue\"\n",
    "}\n",
    "\n",
    "ANALYSIS_TITLES = {\n",
    "   \"increased_hh_contacts\": \"SA2: Increased household contacts during closures\", \n",
    "   \"no_google_mobility\": \"SA1: Excluding Google mobility data\"\n",
    "}"
   ]
  },
  {
   "cell_type": "code",
   "execution_count": null,
   "metadata": {},
   "outputs": [],
   "source": [
    "for output in [\"cases_averted_relative\", \"deaths_averted_relative\", \"delta_hospital_peak_relative\"]:\n",
    "    fig = plot_analyses_comparison(diff_quantiles_dfs, output)\n",
    "    plt.close()\n",
    "    for file_format in FILE_FORMATS:\n",
    "        fig.savefig(Path.cwd() / \"analyses_compare_plots\" / f\"analyses_compare_{output}.{file_format}\")"
   ]
  },
  {
   "cell_type": "markdown",
   "metadata": {},
   "source": [
    "## Delta between median"
   ]
  },
  {
   "cell_type": "code",
   "execution_count": null,
   "metadata": {},
   "outputs": [],
   "source": [
    "fig = plot_analyses_median_deltas(diff_quantiles_dfs)\n",
    "plt.close()\n",
    "for file_format in FILE_FORMATS:\n",
    "    fig.savefig(Path.cwd() / \"analyses_compare_plots\" / f\"analyses_median_deltas.{file_format}\")"
   ]
  }
 ],
 "metadata": {
  "kernelspec": {
   "display_name": "summer2",
   "language": "python",
   "name": "python3"
  },
  "language_info": {
   "codemirror_mode": {
    "name": "ipython",
    "version": 3
   },
   "file_extension": ".py",
   "mimetype": "text/x-python",
   "name": "python",
   "nbconvert_exporter": "python",
   "pygments_lexer": "ipython3",
   "version": "3.10.11"
  }
 },
 "nbformat": 4,
 "nbformat_minor": 2
}
