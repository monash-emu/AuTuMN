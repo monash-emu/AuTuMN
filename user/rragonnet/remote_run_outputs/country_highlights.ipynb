{
 "cells": [
  {
   "cell_type": "code",
   "execution_count": null,
   "metadata": {},
   "outputs": [],
   "source": [
    "import pandas as pd\n",
    "from pathlib import Path\n",
    "from matplotlib import pyplot as plt \n",
    "\n",
    "from autumn.projects.sm_covid2.common_school.output_plots import country_highlight as ch\n",
    "from autumn.projects.sm_covid2.common_school.runner_tools import INCLUDED_COUNTRIES\n",
    "full_iso3_list = list(INCLUDED_COUNTRIES['all'].keys())"
   ]
  },
  {
   "cell_type": "code",
   "execution_count": null,
   "metadata": {},
   "outputs": [],
   "source": [
    "analysis_folders = {\n",
    "    \"main\": Path.cwd() / \"31747883_full_analysis_26Sep2023_main\",\n",
    "    \"increased_hh_contacts\": Path.cwd() /\"31902886_full_analysis_05Oct2023_increased_hh_contacts\",\n",
    "    \"no_google_mobility\": Path.cwd() /\"31915437_full_analysis_05Oct2023_no_google_mobility\"\n",
    "}"
   ]
  },
  {
   "cell_type": "code",
   "execution_count": null,
   "metadata": {},
   "outputs": [],
   "source": [
    "for analysis in analysis_folders:\n",
    "    for iso3 in full_iso3_list:\n",
    "        print(f\"{analysis}: {iso3}\")\n",
    "        folder_path = analysis_folders[analysis]  / iso3\n",
    "        uncertainty_dfs = {sc: pd.read_parquet(folder_path/ f\"uncertainty_df_{sc}.parquet\") for sc in [\"baseline\", \"scenario_1\"]}\n",
    "        diff_quantiles_df = pd.read_parquet(folder_path / f\"diff_quantiles_df.parquet\")\n",
    "        derived_outputs = pd.read_pickle(folder_path / \"derived_outputs.pickle\") \n",
    "        fig = ch.make_country_highlight_figure(iso3, uncertainty_dfs, diff_quantiles_df, derived_outputs, include_country_name=True)\n",
    "        for file_format in [\"png\", \"pdf\"]:\n",
    "            fig.savefig(folder_path / f\"highlights_{iso3}.{file_format}\", bbox_inches='tight')\n",
    "\n",
    "        plt.close()\n"
   ]
  },
  {
   "cell_type": "code",
   "execution_count": null,
   "metadata": {},
   "outputs": [],
   "source": []
  }
 ],
 "metadata": {
  "kernelspec": {
   "display_name": "summer2",
   "language": "python",
   "name": "python3"
  },
  "language_info": {
   "codemirror_mode": {
    "name": "ipython",
    "version": 3
   },
   "file_extension": ".py",
   "mimetype": "text/x-python",
   "name": "python",
   "nbconvert_exporter": "python",
   "pygments_lexer": "ipython3",
   "version": "3.10.11"
  }
 },
 "nbformat": 4,
 "nbformat_minor": 2
}
