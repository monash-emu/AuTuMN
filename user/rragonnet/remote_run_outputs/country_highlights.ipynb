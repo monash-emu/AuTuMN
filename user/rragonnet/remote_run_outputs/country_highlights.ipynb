{
 "cells": [
  {
   "cell_type": "code",
   "execution_count": 1,
   "metadata": {},
   "outputs": [
    {
     "name": "stderr",
     "output_type": "stream",
     "text": [
      "WARNING (pytensor.tensor.blas): Using NumPy C-API based implementation for BLAS functions.\n",
      "c:\\Users\\rrag0004\\.conda\\envs\\summer2\\lib\\site-packages\\summer\\runner\\vectorized_runner.py:363: NumbaDeprecationWarning: \u001b[1mThe 'nopython' keyword argument was not supplied to the 'numba.jit' decorator. The implicit default value for this argument is currently False, but it will be changed to True in Numba 0.59.0. See https://numba.readthedocs.io/en/stable/reference/deprecation.html#deprecation-of-object-mode-fall-back-behaviour-when-using-jit for details.\u001b[0m\n",
      "  def get_strain_infection_values(\n"
     ]
    }
   ],
   "source": [
    "import pandas as pd\n",
    "from pathlib import Path\n",
    "from matplotlib import pyplot as plt \n",
    "\n",
    "from autumn.projects.sm_covid2.common_school.output_plots import country_highlight as ch\n",
    "from autumn.projects.sm_covid2.common_school.runner_tools import INCLUDED_COUNTRIES\n",
    "full_iso3_list = list(INCLUDED_COUNTRIES['all'].keys())"
   ]
  },
  {
   "cell_type": "code",
   "execution_count": 2,
   "metadata": {},
   "outputs": [],
   "source": [
    "analysis_folders = {\n",
    "    \"main\": Path.cwd() / \"31747883_full_analysis_26Sep2023_main\",\n",
    "    \"increased_hh_contacts\": Path.cwd() /\"31902886_full_analysis_05Oct2023_increased_hh_contacts\",\n",
    "    \"no_google_mobility\": Path.cwd() /\"31915437_full_analysis_05Oct2023_no_google_mobility\"\n",
    "}"
   ]
  },
  {
   "cell_type": "code",
   "execution_count": 3,
   "metadata": {},
   "outputs": [
    {
     "name": "stdout",
     "output_type": "stream",
     "text": [
      "increased_hh_contacts: ARG\n",
      "increased_hh_contacts: AUS\n",
      "increased_hh_contacts: AUT\n",
      "increased_hh_contacts: BEL\n",
      "increased_hh_contacts: BGD\n",
      "increased_hh_contacts: BGR\n",
      "increased_hh_contacts: BIH\n",
      "increased_hh_contacts: BOL\n",
      "increased_hh_contacts: BRA\n",
      "increased_hh_contacts: CAN\n",
      "increased_hh_contacts: CHL\n",
      "increased_hh_contacts: COL\n",
      "increased_hh_contacts: CRI\n",
      "increased_hh_contacts: CZE\n",
      "increased_hh_contacts: DEU\n",
      "increased_hh_contacts: DNK\n",
      "increased_hh_contacts: ECU\n",
      "increased_hh_contacts: EGY\n",
      "increased_hh_contacts: ESP\n",
      "increased_hh_contacts: FIN\n",
      "increased_hh_contacts: FRA\n",
      "increased_hh_contacts: GBR\n",
      "increased_hh_contacts: GEO\n",
      "increased_hh_contacts: GRC\n",
      "increased_hh_contacts: GTM\n",
      "increased_hh_contacts: HND\n",
      "increased_hh_contacts: HRV\n",
      "increased_hh_contacts: HUN\n",
      "increased_hh_contacts: IDN\n",
      "increased_hh_contacts: IND\n",
      "increased_hh_contacts: IRL\n",
      "increased_hh_contacts: IRQ\n",
      "increased_hh_contacts: ISR\n",
      "increased_hh_contacts: ITA\n",
      "increased_hh_contacts: JOR\n",
      "increased_hh_contacts: JPN\n",
      "increased_hh_contacts: KAZ\n",
      "increased_hh_contacts: KEN\n",
      "increased_hh_contacts: KOR\n",
      "increased_hh_contacts: LBN\n",
      "increased_hh_contacts: LKA\n",
      "increased_hh_contacts: LTU\n",
      "increased_hh_contacts: LVA\n",
      "increased_hh_contacts: MAR\n",
      "increased_hh_contacts: MDA\n",
      "increased_hh_contacts: MEX\n",
      "increased_hh_contacts: MKD\n",
      "increased_hh_contacts: MMR\n",
      "increased_hh_contacts: MYS\n",
      "increased_hh_contacts: NLD\n",
      "increased_hh_contacts: NPL\n",
      "increased_hh_contacts: PAK\n",
      "increased_hh_contacts: PAN\n",
      "increased_hh_contacts: PER\n",
      "increased_hh_contacts: PHL\n",
      "increased_hh_contacts: POL\n",
      "increased_hh_contacts: PRT\n",
      "increased_hh_contacts: PRY\n",
      "increased_hh_contacts: ROU\n",
      "increased_hh_contacts: RUS\n",
      "increased_hh_contacts: SAU\n",
      "increased_hh_contacts: SRB\n",
      "increased_hh_contacts: SVK\n",
      "increased_hh_contacts: SVN\n",
      "increased_hh_contacts: SWE\n",
      "increased_hh_contacts: THA\n",
      "increased_hh_contacts: TUR\n",
      "increased_hh_contacts: UKR\n",
      "increased_hh_contacts: URY\n",
      "increased_hh_contacts: USA\n",
      "increased_hh_contacts: VEN\n",
      "increased_hh_contacts: VNM\n",
      "increased_hh_contacts: ZAF\n",
      "increased_hh_contacts: ZWE\n"
     ]
    }
   ],
   "source": [
    "for analysis in [\"increased_hh_contacts\"]: #analysis_folders:\n",
    "    for iso3 in full_iso3_list:\n",
    "        print(f\"{analysis}: {iso3}\")\n",
    "        folder_path = analysis_folders[analysis]  / iso3\n",
    "        uncertainty_dfs = {sc: pd.read_parquet(folder_path/ f\"uncertainty_df_{sc}.parquet\") for sc in [\"baseline\", \"scenario_1\"]}\n",
    "        diff_quantiles_df = pd.read_parquet(folder_path / f\"diff_quantiles_df.parquet\")\n",
    "        derived_outputs = pd.read_pickle(folder_path / \"derived_outputs.pickle\") \n",
    "        fig = ch.make_country_highlight_figure(iso3, uncertainty_dfs, diff_quantiles_df, derived_outputs, include_country_name=True)\n",
    "        for file_format in [\"png\", \"pdf\"]:\n",
    "            fig.savefig(folder_path / f\"highlights_{iso3}.{file_format}\", bbox_inches='tight')\n",
    "\n",
    "        plt.close()\n"
   ]
  },
  {
   "cell_type": "code",
   "execution_count": null,
   "metadata": {},
   "outputs": [],
   "source": []
  }
 ],
 "metadata": {
  "kernelspec": {
   "display_name": "summer2",
   "language": "python",
   "name": "python3"
  },
  "language_info": {
   "codemirror_mode": {
    "name": "ipython",
    "version": 3
   },
   "file_extension": ".py",
   "mimetype": "text/x-python",
   "name": "python",
   "nbconvert_exporter": "python",
   "pygments_lexer": "ipython3",
   "version": "3.10.11"
  }
 },
 "nbformat": 4,
 "nbformat_minor": 2
}
