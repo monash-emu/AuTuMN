{
 "cells": [
  {
   "cell_type": "code",
   "execution_count": null,
   "metadata": {},
   "outputs": [],
   "source": [
    "import shutil\n",
    "from autumn.projects.sm_covid2.common_school.runner_tools import INCLUDED_COUNTRIES\n",
    "\n",
    "from pathlib import Path\n",
    "\n",
    "full_iso3_list = list(INCLUDED_COUNTRIES['google_mobility'].keys())"
   ]
  },
  {
   "cell_type": "code",
   "execution_count": 5,
   "metadata": {},
   "outputs": [],
   "source": [
    "analysis_folder = Path.cwd() / \"31683449_full_analysis_21Sep2023_main\""
   ]
  },
  {
   "cell_type": "markdown",
   "metadata": {},
   "source": [
    "### Move files to common folder"
   ]
  },
  {
   "cell_type": "code",
   "execution_count": 6,
   "metadata": {},
   "outputs": [],
   "source": [
    "common_dir = analysis_folder / \"COMMON_DIRECTORY\"\n",
    "common_dir.mkdir(exist_ok=True)\n",
    "\n",
    "to_move = {\n",
    "    \"r_hats\": \"mc_outputs/r_hats.jpg\",\n",
    "    \"mcmc_traces_postburnin\": \"mc_outputs/mc_traces_postburnin.jpg\",\n",
    "    \"optimal_fits\": \"optimal_fits.png\",\n",
    "    \"tiling\": \"tiling.pdf\"\n",
    "}\n",
    "\n",
    "for folder_name, file in to_move.items():\n",
    "    folder = common_dir / folder_name\n",
    "    folder.mkdir(exist_ok=True)\n",
    "\n",
    "    for iso3 in full_iso3_list:\n",
    "        src = analysis_folder / iso3 / file \n",
    "        if Path.exists(src):\n",
    "            dst = folder / f\"{src.stem}_{iso3}{src.suffix}\" \n",
    "            shutil.copy(src, dst)"
   ]
  },
  {
   "cell_type": "markdown",
   "metadata": {},
   "source": [
    "### Combine PDF files"
   ]
  },
  {
   "cell_type": "code",
   "execution_count": 7,
   "metadata": {},
   "outputs": [],
   "source": [
    "from pypdf import PdfMerger\n",
    "\n",
    "folder = common_dir / \"tiling\"\n",
    "pdf_paths = list(filter(Path.is_file, folder.glob('**/*')))\n",
    "\n",
    "merger = PdfMerger()\n",
    "\n",
    "for pdf in pdf_paths:\n",
    "    merger.append(pdf)\n",
    "\n",
    "merger.write(folder / \"multi_tiling.pdf\")\n",
    "merger.close()"
   ]
  },
  {
   "cell_type": "code",
   "execution_count": 8,
   "metadata": {},
   "outputs": [],
   "source": [
    "# delete individual pdf files\n",
    "for pdf in pdf_paths:\n",
    "    pdf.unlink()"
   ]
  }
 ],
 "metadata": {
  "kernelspec": {
   "display_name": "summer2",
   "language": "python",
   "name": "python3"
  },
  "language_info": {
   "codemirror_mode": {
    "name": "ipython",
    "version": 3
   },
   "file_extension": ".py",
   "mimetype": "text/x-python",
   "name": "python",
   "nbconvert_exporter": "python",
   "pygments_lexer": "ipython3",
   "version": "3.10.11"
  },
  "orig_nbformat": 4
 },
 "nbformat": 4,
 "nbformat_minor": 2
}
