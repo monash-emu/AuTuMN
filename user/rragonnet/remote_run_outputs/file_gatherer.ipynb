{
 "cells": [
  {
   "cell_type": "code",
   "execution_count": null,
   "metadata": {},
   "outputs": [],
   "source": [
    "import shutil\n",
    "from autumn.projects.sm_covid2.common_school.runner_tools import INCLUDED_COUNTRIES\n",
    "import pandas as pd\n",
    "from pathlib import Path\n",
    "from autumn.projects.sm_covid2.common_school.output_plots.multicountry import plot_multic_relative_outputs, plot_relative_map\n",
    "from matplotlib import pyplot as plt \n",
    "\n",
    "full_iso3_list = list(INCLUDED_COUNTRIES['all'].keys())"
   ]
  },
  {
   "cell_type": "code",
   "execution_count": 18,
   "metadata": {},
   "outputs": [],
   "source": [
    "# analysis_folder = Path.cwd() / \"31747883_full_analysis_26Sep2023_main\"\n",
    "# analysis_folder = Path.cwd() /\"31902886_full_analysis_05Oct2023_increased_hh_contacts\"\n",
    "\n",
    "analysis_folder = Path.cwd() /\"31915437_full_analysis_05Oct2023_no_google_mobility\"\n"
   ]
  },
  {
   "cell_type": "markdown",
   "metadata": {},
   "source": [
    "### Move files to common folder"
   ]
  },
  {
   "cell_type": "code",
   "execution_count": 19,
   "metadata": {},
   "outputs": [],
   "source": [
    "common_dir = analysis_folder / \"COMMON_DIRECTORY\"\n",
    "common_dir.mkdir(exist_ok=True)\n"
   ]
  },
  {
   "cell_type": "code",
   "execution_count": null,
   "metadata": {},
   "outputs": [],
   "source": [
    "\n",
    "to_move = {\n",
    "    \"r_hats\": \"mc_outputs/r_hats.jpg\",\n",
    "    \"mcmc_traces_postburnin\": \"mc_outputs/mc_traces_postburnin.jpg\",\n",
    "    \"optimal_fits\": \"optimal_fits.png\",\n",
    "}\n",
    "\n",
    "for folder_name, file in to_move.items():\n",
    "    folder = common_dir / folder_name\n",
    "    folder.mkdir(exist_ok=True)\n",
    "\n",
    "    for iso3 in full_iso3_list:\n",
    "        src = analysis_folder / iso3 / file \n",
    "        if Path.exists(src):\n",
    "            dst = folder / f\"{src.stem}_{iso3}{src.suffix}\" \n",
    "            shutil.copy(src, dst)"
   ]
  },
  {
   "cell_type": "markdown",
   "metadata": {},
   "source": [
    "### Combine PDF files"
   ]
  },
  {
   "cell_type": "code",
   "execution_count": 20,
   "metadata": {},
   "outputs": [],
   "source": [
    "from pypdf import PdfMerger\n",
    "\n",
    "pdf_paths = []\n",
    "for iso3 in full_iso3_list:\n",
    "    pdf_path = analysis_folder / iso3 / \"tiling.pdf\"\n",
    "    if Path.exists(pdf_path):\n",
    "        pdf_paths.append(pdf_path)\n",
    "\n",
    "merger = PdfMerger()\n",
    "\n",
    "for pdf in pdf_paths:\n",
    "    merger.append(pdf)\n",
    "\n",
    "merger.write(common_dir / \"multi_tiling.pdf\")\n",
    "merger.close()"
   ]
  },
  {
   "cell_type": "markdown",
   "metadata": {},
   "source": [
    "### Make multi-country figures"
   ]
  },
  {
   "cell_type": "code",
   "execution_count": 21,
   "metadata": {},
   "outputs": [],
   "source": [
    "FILE_FORMATS = [\"png\", \"pdf\"]"
   ]
  },
  {
   "cell_type": "code",
   "execution_count": 22,
   "metadata": {},
   "outputs": [],
   "source": [
    "diff_quantiles_dfs = {}\n",
    "for iso3 in full_iso3_list:\n",
    "    diff_quantiles_path = analysis_folder / iso3 / \"diff_quantiles_df.parquet\"\n",
    "    if Path.exists(diff_quantiles_path):\n",
    "        diff_quantiles_dfs[iso3] = pd.read_parquet(diff_quantiles_path)"
   ]
  },
  {
   "cell_type": "code",
   "execution_count": 23,
   "metadata": {},
   "outputs": [],
   "source": [
    "fig = plot_multic_relative_outputs(diff_quantiles_dfs)\n",
    "plt.close()\n",
    "for file_format in FILE_FORMATS:\n",
    "    fig.savefig(common_dir / f\"relative_outputs.{file_format}\")"
   ]
  },
  {
   "cell_type": "code",
   "execution_count": 24,
   "metadata": {},
   "outputs": [],
   "source": [
    "(common_dir / \"maps\").mkdir(exist_ok=True)\n",
    "for output in [\"cases_averted_relative\", \"delta_hospital_peak_relative\", \"deaths_averted_relative\"]:\n",
    "    fig = plot_relative_map(diff_quantiles_dfs, output)\n",
    "    plt.close()\n",
    "    for file_format in FILE_FORMATS:\n",
    "        fig.write_image(common_dir / \"maps\" / f\"map_{output}.{file_format}\")"
   ]
  },
  {
   "cell_type": "code",
   "execution_count": null,
   "metadata": {},
   "outputs": [],
   "source": []
  }
 ],
 "metadata": {
  "kernelspec": {
   "display_name": "summer2",
   "language": "python",
   "name": "python3"
  },
  "language_info": {
   "codemirror_mode": {
    "name": "ipython",
    "version": 3
   },
   "file_extension": ".py",
   "mimetype": "text/x-python",
   "name": "python",
   "nbconvert_exporter": "python",
   "pygments_lexer": "ipython3",
   "version": "3.10.11"
  },
  "orig_nbformat": 4
 },
 "nbformat": 4,
 "nbformat_minor": 2
}
