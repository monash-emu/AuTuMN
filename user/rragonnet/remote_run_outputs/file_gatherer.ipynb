{
 "cells": [
  {
   "cell_type": "code",
   "execution_count": null,
   "metadata": {},
   "outputs": [],
   "source": [
    "import shutil\n",
    "from autumn.projects.sm_covid2.common_school.runner_tools import INCLUDED_COUNTRIES\n",
    "import pandas as pd\n",
    "from pathlib import Path\n",
    "from autumn.projects.sm_covid2.common_school.output_plots import multicountry as mc\n",
    "from matplotlib import pyplot as plt \n",
    "\n",
    "from importlib import reload\n",
    "\n",
    "\n",
    "full_iso3_list = list(INCLUDED_COUNTRIES['all'].keys())"
   ]
  },
  {
   "cell_type": "code",
   "execution_count": null,
   "metadata": {},
   "outputs": [],
   "source": [
    "analysis_folder = Path.cwd() / \"31747883_full_analysis_26Sep2023_main\"\n",
    "# analysis_folder = Path.cwd() /\"31902886_full_analysis_05Oct2023_increased_hh_contacts\"\n",
    "# analysis_folder = Path.cwd() /\"31915437_full_analysis_05Oct2023_no_google_mobility\"\n",
    "\n",
    "common_dir = analysis_folder / \"COMMON_DIRECTORY\"\n",
    "common_dir.mkdir(exist_ok=True)"
   ]
  },
  {
   "cell_type": "markdown",
   "metadata": {},
   "source": [
    "### Move files to common folder"
   ]
  },
  {
   "cell_type": "code",
   "execution_count": null,
   "metadata": {},
   "outputs": [],
   "source": [
    "to_move = {\n",
    "    \"r_hats\": \"mc_outputs/r_hats.jpg\",\n",
    "    \"mcmc_traces_postburnin\": \"mc_outputs/mc_traces_postburnin.jpg\",\n",
    "    \"optimal_fits\": \"optimal_fits.png\",\n",
    "}\n",
    "\n",
    "for folder_name, file in to_move.items():\n",
    "    folder = common_dir / folder_name\n",
    "    folder.mkdir(exist_ok=True)\n",
    "\n",
    "    for iso3 in full_iso3_list:\n",
    "        src = analysis_folder / iso3 / file \n",
    "        if Path.exists(src):\n",
    "            dst = folder / f\"{src.stem}_{iso3}{src.suffix}\" \n",
    "            shutil.copy(src, dst)"
   ]
  },
  {
   "cell_type": "markdown",
   "metadata": {},
   "source": [
    "### Combine PDF files"
   ]
  },
  {
   "cell_type": "code",
   "execution_count": null,
   "metadata": {},
   "outputs": [],
   "source": [
    "from pypdf import PdfMerger\n",
    "\n",
    "pdf_paths = []\n",
    "for iso3 in full_iso3_list:\n",
    "    pdf_path = analysis_folder / iso3 / f\"highlights_{iso3}.pdf\"\n",
    "    if Path.exists(pdf_path):\n",
    "        pdf_paths.append(pdf_path)\n",
    "\n",
    "merger = PdfMerger()\n",
    "\n",
    "for pdf in pdf_paths:\n",
    "    merger.append(pdf)\n",
    "\n",
    "merger.write(common_dir / \"multi_highlights.pdf\")\n",
    "merger.close()"
   ]
  },
  {
   "cell_type": "markdown",
   "metadata": {},
   "source": [
    "### Make multi-country figures"
   ]
  },
  {
   "cell_type": "code",
   "execution_count": null,
   "metadata": {},
   "outputs": [],
   "source": [
    "FILE_FORMATS = [\"png\", \"pdf\"]"
   ]
  },
  {
   "cell_type": "code",
   "execution_count": null,
   "metadata": {},
   "outputs": [],
   "source": [
    "diff_quantiles_dfs = {}\n",
    "for iso3 in full_iso3_list:\n",
    "    diff_quantiles_path = analysis_folder / iso3 / \"diff_quantiles_df.parquet\"\n",
    "    if Path.exists(diff_quantiles_path):\n",
    "        diff_quantiles_dfs[iso3] = pd.read_parquet(diff_quantiles_path)"
   ]
  },
  {
   "cell_type": "code",
   "execution_count": null,
   "metadata": {},
   "outputs": [],
   "source": [
    "fig = mc.plot_multic_relative_outputs(diff_quantiles_dfs)\n",
    "plt.close()\n",
    "for file_format in FILE_FORMATS:\n",
    "    fig.savefig(common_dir / f\"relative_outputs.{file_format}\")"
   ]
  },
  {
   "cell_type": "code",
   "execution_count": null,
   "metadata": {},
   "outputs": [],
   "source": [
    "# RUN THIS CELL TWICE TO AVOID ANY WARNING TEXT SHOWING UP IN FIRST FIGURE\n",
    "(common_dir / \"maps\").mkdir(exist_ok=True)\n",
    "for i, output in enumerate([\"cases_averted_relative\", \"deaths_averted_relative\", \"delta_hospital_peak_relative\"]):  \n",
    "    panel = [\"A\", \"B\", \"C\"][i]\n",
    "    fig = mc.plot_relative_map_with_bins(diff_quantiles_dfs, output, panel)\n",
    "    plt.close()\n",
    "    for file_format in FILE_FORMATS:\n",
    "        fig.write_image(common_dir / \"maps\" / f\"map_{output}.{file_format}\")\n",
    "\n",
    "# Then combine the three figures using Nitro Pro\n",
    "# Finally print to pdf from Nitro, using the custom Page Format called MapFigure"
   ]
  },
  {
   "cell_type": "code",
   "execution_count": null,
   "metadata": {},
   "outputs": [],
   "source": [
    "def print_main_result_text(diff_quantiles_dfs):\n",
    "    n_countries = len(diff_quantiles_dfs)\n",
    "\n",
    "    n_pos_effects = {}\n",
    "    perc_pos_effects = {}\n",
    "    for q in [0.5, 0.975]:\n",
    "        n_pos_effects[q] = {}\n",
    "        perc_pos_effects[q] = {}\n",
    "        for output in [\"cases_averted\", \"deaths_averted\", \"delta_hospital_peak\"]:\n",
    "            n_pos_effects[q][output] = len([iso3 for iso3 in diff_quantiles_dfs if diff_quantiles_dfs[iso3][output][q] < 0.])\n",
    "            perc_pos_effects[q][output] = int(100. * n_pos_effects[q][output] / n_countries)\n",
    "\n",
    "    text = f\"Based on our median estimates alone, school closures were associated with a beneficial effect on infections in {n_pos_effects[0.5]['cases_averted']} ({perc_pos_effects[0.5]['cases_averted']}%) countries, on deaths in {n_pos_effects[0.5]['deaths_averted']} ({perc_pos_effects[0.5]['deaths_averted']}%) countries, and on peak hospital occupancy in {n_pos_effects[0.5]['delta_hospital_peak']} ({perc_pos_effects[0.5]['delta_hospital_peak']}%) countries.\"\n",
    "    \n",
    "    text += \" However, the 95% credible intervals (95-CI) around our estimates for the three disease indicators were wide for most countries, such that even the direction of the effect was difficult to evaluate with certainty.\"\n",
    "\n",
    "    text += f\" Only {n_pos_effects[.975]['cases_averted']} ({perc_pos_effects[.975]['cases_averted']}%) countries were associated with a 95-CI consistent with a positive effect of school closures on infections,\"\n",
    "    text += f\" whereas {n_pos_effects[.975]['deaths_averted']} ({perc_pos_effects[.975]['deaths_averted']}%) countries had a 95-CI suggesting a positive effect on deaths,\"\n",
    "    text += f\" and {n_pos_effects[.975]['delta_hospital_peak']} ({perc_pos_effects[.975]['delta_hospital_peak']}%) had a 95-CI suggesting a positive effect on peak hospital occupancy.\"\n",
    "\n",
    "    print(text)\n",
    "\n",
    "\n",
    "print_main_result_text(diff_quantiles_dfs)"
   ]
  },
  {
   "cell_type": "code",
   "execution_count": null,
   "metadata": {},
   "outputs": [],
   "source": [
    "# MAKE ICER-LIKE PLOT\n",
    "\n",
    "# reload(mc)\n",
    "for output in [\"deaths_averted_relative\"]: # [\"cases_averted_relative\", \"deaths_averted_relative\", \"delta_hospital_peak_relative\"]:\n",
    "    fig = mc.make_icer_like_plot(diff_quantiles_dfs, output)\n",
    "    for file_format in [\"png\", \"pdf\"]:  \n",
    "        fig.savefig(common_dir / f\"icer_{output}.{file_format}\", bbox_inches='tight')"
   ]
  },
  {
   "cell_type": "code",
   "execution_count": null,
   "metadata": {},
   "outputs": [],
   "source": []
  }
 ],
 "metadata": {
  "kernelspec": {
   "display_name": "summer2",
   "language": "python",
   "name": "python3"
  },
  "language_info": {
   "codemirror_mode": {
    "name": "ipython",
    "version": 3
   },
   "file_extension": ".py",
   "mimetype": "text/x-python",
   "name": "python",
   "nbconvert_exporter": "python",
   "pygments_lexer": "ipython3",
   "version": "3.10.11"
  },
  "orig_nbformat": 4
 },
 "nbformat": 4,
 "nbformat_minor": 2
}
