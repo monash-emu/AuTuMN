{
 "cells": [
  {
   "cell_type": "code",
   "execution_count": 1,
   "metadata": {},
   "outputs": [
    {
     "name": "stderr",
     "output_type": "stream",
     "text": [
      "c:\\Users\\rrag0004\\.conda\\envs\\summer2\\lib\\site-packages\\summer\\runner\\vectorized_runner.py:363: NumbaDeprecationWarning: \u001b[1mThe 'nopython' keyword argument was not supplied to the 'numba.jit' decorator. The implicit default value for this argument is currently False, but it will be changed to True in Numba 0.59.0. See https://numba.readthedocs.io/en/stable/reference/deprecation.html#deprecation-of-object-mode-fall-back-behaviour-when-using-jit for details.\u001b[0m\n",
      "  def get_strain_infection_values(\n",
      "WARNING (pytensor.tensor.blas): Using NumPy C-API based implementation for BLAS functions.\n"
     ]
    }
   ],
   "source": [
    "import pandas as pd\n",
    "from pathlib import Path\n",
    "from autumn.projects.sm_covid2.common_school.calibration import get_bcm_object\n",
    "from estival.sampling import tools as esamp\n",
    "import yaml\n",
    "from autumn.projects.sm_covid2.common_school.runner_tools import INCLUDED_COUNTRIES\n",
    "import pickle\n",
    "\n",
    "full_iso3_list = list(INCLUDED_COUNTRIES['all'].keys())"
   ]
  },
  {
   "cell_type": "code",
   "execution_count": null,
   "metadata": {},
   "outputs": [],
   "source": [
    "full_iso3_list[49]"
   ]
  },
  {
   "cell_type": "code",
   "execution_count": 2,
   "metadata": {},
   "outputs": [],
   "source": [
    "analysis_folders = {\n",
    "    \"main\": Path.cwd() / \"31747883_full_analysis_26Sep2023_main\",\n",
    "    \"increased_hh_contacts\": Path.cwd() /\"31902886_full_analysis_05Oct2023_increased_hh_contacts\",\n",
    "    \"no_google_mobility\": Path.cwd() /\"31915437_full_analysis_05Oct2023_no_google_mobility\"\n",
    "}"
   ]
  },
  {
   "cell_type": "code",
   "execution_count": 3,
   "metadata": {},
   "outputs": [],
   "source": [
    "def get_mle_derived_outputs(iso3, analysis, save=True):\n",
    "    best_params_path = analysis_folders[analysis] / iso3 / \"retained_best_params.yml\"\n",
    "    with open(best_params_path, \"r\") as f:\n",
    "        best_params = yaml.unsafe_load(f)\n",
    "    mle_params = best_params[0]\n",
    "    \n",
    "    derived_outputs = {}\n",
    "    for sc in [\"baseline\", \"scenario_1\"]:\n",
    "        bcm = get_bcm_object(iso3, analysis=analysis, scenario=sc)\n",
    "        res = esamp.model_results_for_samples([mle_params], bcm)\n",
    "        derived_outputs[sc] = res.results.xs(0, level=\"sample\", axis=1)\n",
    "\n",
    "    if save:\n",
    "        with open(analysis_folders[analysis] / iso3 / \"derived_outputs.pickle\", \"wb\") as f:\n",
    "            pickle.dump(derived_outputs, f)\n",
    "\n",
    "    return derived_outputs"
   ]
  },
  {
   "cell_type": "code",
   "execution_count": 4,
   "metadata": {},
   "outputs": [
    {
     "name": "stdout",
     "output_type": "stream",
     "text": [
      "no_google_mobility: ARG\n",
      "no_google_mobility: AUS\n",
      "no_google_mobility: AUT\n",
      "no_google_mobility: BEL\n",
      "no_google_mobility: BGD\n",
      "no_google_mobility: BGR\n",
      "no_google_mobility: BIH\n",
      "no_google_mobility: BOL\n",
      "no_google_mobility: BRA\n",
      "no_google_mobility: CAN\n",
      "no_google_mobility: CHL\n",
      "no_google_mobility: COL\n",
      "no_google_mobility: CRI\n",
      "no_google_mobility: CZE\n",
      "no_google_mobility: DEU\n",
      "no_google_mobility: DNK\n",
      "no_google_mobility: ECU\n",
      "no_google_mobility: EGY\n",
      "no_google_mobility: ESP\n",
      "no_google_mobility: FIN\n",
      "no_google_mobility: FRA\n",
      "no_google_mobility: GBR\n",
      "no_google_mobility: GEO\n",
      "no_google_mobility: GRC\n",
      "no_google_mobility: GTM\n",
      "no_google_mobility: HND\n",
      "no_google_mobility: HRV\n",
      "no_google_mobility: HUN\n",
      "no_google_mobility: IDN\n",
      "no_google_mobility: IND\n",
      "no_google_mobility: IRL\n",
      "no_google_mobility: IRQ\n",
      "no_google_mobility: ISR\n",
      "no_google_mobility: ITA\n",
      "no_google_mobility: JOR\n",
      "no_google_mobility: JPN\n",
      "no_google_mobility: KAZ\n",
      "no_google_mobility: KEN\n",
      "no_google_mobility: KOR\n",
      "no_google_mobility: LBN\n",
      "no_google_mobility: LKA\n",
      "no_google_mobility: LTU\n",
      "no_google_mobility: LVA\n",
      "no_google_mobility: MAR\n",
      "no_google_mobility: MDA\n",
      "no_google_mobility: MEX\n",
      "no_google_mobility: MKD\n",
      "no_google_mobility: MMR\n",
      "no_google_mobility: MYS\n",
      "no_google_mobility: NLD\n",
      "no_google_mobility: NPL\n",
      "no_google_mobility: PAK\n",
      "no_google_mobility: PAN\n",
      "no_google_mobility: PER\n",
      "no_google_mobility: PHL\n",
      "no_google_mobility: POL\n",
      "no_google_mobility: PRT\n",
      "no_google_mobility: PRY\n",
      "no_google_mobility: ROU\n",
      "no_google_mobility: RUS\n",
      "no_google_mobility: SAU\n"
     ]
    }
   ],
   "source": [
    "for analysis in [\"no_google_mobility\"] : #analysis_folders:\n",
    "    for iso3 in full_iso3_list:\n",
    "        print(f\"{analysis}: {iso3}\")\n",
    "        derived_outputs = get_mle_derived_outputs(iso3, analysis)"
   ]
  }
 ],
 "metadata": {
  "kernelspec": {
   "display_name": "summer2",
   "language": "python",
   "name": "python3"
  },
  "language_info": {
   "codemirror_mode": {
    "name": "ipython",
    "version": 3
   },
   "file_extension": ".py",
   "mimetype": "text/x-python",
   "name": "python",
   "nbconvert_exporter": "python",
   "pygments_lexer": "ipython3",
   "version": "3.10.11"
  }
 },
 "nbformat": 4,
 "nbformat_minor": 2
}
