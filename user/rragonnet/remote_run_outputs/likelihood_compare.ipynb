{
 "cells": [
  {
   "cell_type": "code",
   "execution_count": null,
   "metadata": {},
   "outputs": [],
   "source": [
    "from autumn.projects.sm_covid2.common_school.runner_tools import INCLUDED_COUNTRIES\n",
    "import pandas as pd\n",
    "from pathlib import Path\n",
    "from matplotlib import pyplot as plt \n",
    "from autumn.projects.sm_covid2.common_school.output_plots.multicountry import plot_ll_comparison\n",
    "import arviz as az\n",
    "full_iso3_list = list(INCLUDED_COUNTRIES['all'].keys())\n"
   ]
  },
  {
   "cell_type": "code",
   "execution_count": null,
   "metadata": {},
   "outputs": [],
   "source": [
    "analysis_folders = {\n",
    "    \"main\": Path.cwd() / \"31747883_full_analysis_26Sep2023_main\",\n",
    "    \"increased_hh_contacts\": Path.cwd() / \"31902886_full_analysis_05Oct2023_increased_hh_contacts\",\n",
    "    \"no_google_mobility\": Path.cwd() / \"31915437_full_analysis_05Oct2023_no_google_mobility\"\n",
    "}"
   ]
  },
  {
   "cell_type": "markdown",
   "metadata": {},
   "source": [
    "### Collect idata x-arrays for all analyses"
   ]
  },
  {
   "cell_type": "code",
   "execution_count": null,
   "metadata": {},
   "outputs": [],
   "source": [
    "idatas = {}\n",
    "for iso3 in [\"BLR\"]: # full_iso3_list:\n",
    "    idatas[iso3] = {}\n",
    "    for analysis, folder in analysis_folders.items():\n",
    "        idata_path = folder / iso3 / \"idata.nc\"\n",
    "        if Path.exists(idata_path):\n",
    "            idatas[iso3][analysis] = az.from_netcdf(idata_path)"
   ]
  },
  {
   "cell_type": "markdown",
   "metadata": {},
   "source": [
    "### Burn unused parameter sets and store smaller x-arrays"
   ]
  },
  {
   "cell_type": "code",
   "execution_count": null,
   "metadata": {},
   "outputs": [],
   "source": [
    "outpath = Path.cwd() / \"burnt_idatas\"\n",
    "\n",
    "for iso3 in [\"BLR\"]: # full_iso3_list:\n",
    "    for analysis in analysis_folders:\n",
    "        idata = idatas[iso3][analysis]\n",
    "        chain_length = idata.sample_stats.sizes['draw']\n",
    "        burnt_idata = idata.sel(draw=range(20000, chain_length))  # Discard burn-in\n",
    "\n",
    "        az.to_netcdf(burnt_idata, outpath / f\"b_idata_{iso3}_{analysis}.nc\")\n",
    "\n",
    "    "
   ]
  },
  {
   "cell_type": "markdown",
   "metadata": {},
   "source": [
    "# Computation of likelihood extras now done on MASSIVE"
   ]
  },
  {
   "cell_type": "markdown",
   "metadata": {},
   "source": [
    "### Load results of likelihood extra computations   "
   ]
  },
  {
   "cell_type": "code",
   "execution_count": null,
   "metadata": {},
   "outputs": [],
   "source": [
    "lle_data_dir = Path.cwd() / \"lle_csvs\"\n",
    "lle_dfs = {}\n",
    "for iso3 in full_iso3_list:\n",
    "    lle_dfs[iso3] = {}\n",
    "    for analysis in analysis_folders:\n",
    "        df = pd.read_csv(lle_data_dir / f\"lle_{iso3}_{analysis}.csv\")\n",
    "        df[\"iso3\"] = [iso3] * len(df)\n",
    "        df[\"analysis\"] = [analysis] * len(df)\n",
    "        lle_dfs[iso3][analysis] = df\n",
    "\n",
    "lle_dfs_list = [lle_dfs[iso3][analysis] for iso3 in full_iso3_list for analysis in analysis_folders]\n",
    "df = pd.concat(lle_dfs_list)"
   ]
  },
  {
   "cell_type": "code",
   "execution_count": null,
   "metadata": {},
   "outputs": [],
   "source": [
    "FILE_FORMATS = [\"png\", \"pdf\"]"
   ]
  },
  {
   "cell_type": "code",
   "execution_count": null,
   "metadata": {},
   "outputs": [],
   "source": [
    "for output in [\"logposterior\", \"ll_extra_ll\"]:\n",
    "    fig = plot_ll_comparison(df, output)\n",
    "    plt.close()\n",
    "    for file_format in FILE_FORMATS:\n",
    "        fig.savefig(Path.cwd() / \"analyses_compare_plots\" / f\"ll_compare_{output}.{file_format}\")\n"
   ]
  },
  {
   "cell_type": "code",
   "execution_count": null,
   "metadata": {},
   "outputs": [],
   "source": []
  }
 ],
 "metadata": {
  "kernelspec": {
   "display_name": "summer2",
   "language": "python",
   "name": "python3"
  },
  "language_info": {
   "codemirror_mode": {
    "name": "ipython",
    "version": 3
   },
   "file_extension": ".py",
   "mimetype": "text/x-python",
   "name": "python",
   "nbconvert_exporter": "python",
   "pygments_lexer": "ipython3",
   "version": "3.10.11"
  }
 },
 "nbformat": 4,
 "nbformat_minor": 2
}
