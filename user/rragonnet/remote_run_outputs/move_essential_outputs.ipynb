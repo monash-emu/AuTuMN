{
 "cells": [
  {
   "cell_type": "code",
   "execution_count": 10,
   "metadata": {},
   "outputs": [],
   "source": [
    "from pathlib import Path\n",
    "from autumn.projects.sm_covid2.common_school.runner_tools import INCLUDED_COUNTRIES\n",
    "full_iso3_list = list(INCLUDED_COUNTRIES['all'].keys())\n",
    "import shutil\n"
   ]
  },
  {
   "cell_type": "code",
   "execution_count": 11,
   "metadata": {},
   "outputs": [],
   "source": [
    "analysis_folders = {\n",
    "    \"main\": Path.cwd() / \"33489767_test_full_analysis_24Jan2024_main\",\n",
    "    \"increased_hh_contacts\": Path.cwd() / \"33618782_test_full_analysis_24Jan2024_increased_hh_contacts\",\n",
    "    \"no_google_mobility\": Path.cwd() /\"33608845_test_full_analysis_24Jan2024_no_google_mobility\"\n",
    "}"
   ]
  },
  {
   "cell_type": "code",
   "execution_count": 12,
   "metadata": {},
   "outputs": [],
   "source": [
    "moved_files = [\"derived_outputs.pickle\", \"diff_quantiles_df.parquet\", \"uncertainty_df_baseline.parquet\", \"uncertainty_df_scenario_1.parquet\"]"
   ]
  },
  {
   "cell_type": "code",
   "execution_count": 13,
   "metadata": {},
   "outputs": [],
   "source": [
    "for analysis, analysis_folder in analysis_folders.items():    \n",
    "    folder = Path.cwd() / \"output_exploration\" / analysis\n",
    "    folder.mkdir(exist_ok=True)\n",
    "\n",
    "    for iso3 in full_iso3_list:\n",
    "        subfolder = folder / iso3\n",
    "        subfolder.mkdir(exist_ok=True)\n",
    "\n",
    "        for moved_file in moved_files:\n",
    "            src = analysis_folder / iso3 / moved_file \n",
    "            if Path.exists(src):\n",
    "                dst = subfolder / f\"{src.stem}{src.suffix}\" \n",
    "                shutil.copy(src, dst)"
   ]
  },
  {
   "cell_type": "code",
   "execution_count": null,
   "metadata": {},
   "outputs": [],
   "source": []
  }
 ],
 "metadata": {
  "kernelspec": {
   "display_name": "summer2",
   "language": "python",
   "name": "python3"
  },
  "language_info": {
   "codemirror_mode": {
    "name": "ipython",
    "version": 3
   },
   "file_extension": ".py",
   "mimetype": "text/x-python",
   "name": "python",
   "nbconvert_exporter": "python",
   "pygments_lexer": "ipython3",
   "version": "3.10.11"
  }
 },
 "nbformat": 4,
 "nbformat_minor": 2
}
