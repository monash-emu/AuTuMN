{
 "cells": [
  {
   "cell_type": "markdown",
   "metadata": {},
   "source": [
    "# The first cell's code will be in a separate script"
   ]
  },
  {
   "cell_type": "code",
   "execution_count": null,
   "metadata": {},
   "outputs": [],
   "source": [
    "import pandas as pd\n",
    "from pathlib import Path\n",
    "import ipywidgets as widgets\n",
    "from autumn.projects.sm_covid2.common_school.output_plots import country_highlight as ch\n",
    "\n",
    "from autumn.projects.sm_covid2.common_school.runner_tools import INCLUDED_COUNTRIES\n",
    "\n",
    "analysis_names = {\n",
    "    \"main\": \"Base case analysis\",\n",
    "    \"increased_hh_contacts\": \"SA1: Increased household transmission during closures\",\n",
    "    \"no_google_mobility\": \"SA2: Without Google mobility data\"\n",
    "}\n",
    "\n",
    "def get_analysis_widgets():\n",
    "    dropdown_countries = [(c, iso3) for iso3, c in INCLUDED_COUNTRIES['all'].items()]\n",
    "    iso3_widget = widgets.Dropdown(\n",
    "        options=dropdown_countries,\n",
    "        value=\"AUS\",\n",
    "        description='Country:',\n",
    "    )\n",
    "    analysis_widget = widgets.Dropdown(\n",
    "        options=[(b, a) for a, b in analysis_names.items()],\n",
    "        value=\"main\",\n",
    "        description='Analysis:',\n",
    "    )\n",
    "\n",
    "    return iso3_widget, analysis_widget\n",
    "\n",
    "\n",
    "def get_derived_output_widget():\n",
    "    return widgets.Dropdown(\n",
    "        options=['cumulative_incidence', 'cumulative_incidenceXstrain_delta',\n",
    "       'cumulative_incidenceXstrain_omicron',\n",
    "       'cumulative_incidenceXstrain_wild_type',\n",
    "       'cumulative_incidence_propXstrain_delta',\n",
    "       'cumulative_incidence_propXstrain_omicron',\n",
    "       'cumulative_incidence_propXstrain_wild_type',\n",
    "       'cumulative_infection_deaths', 'elderly_incidence_prop',\n",
    "       'ever_infected', 'hospital_admissions', 'hospital_occupancy',\n",
    "       'incidence', 'incidenceXagegroup_0', 'incidenceXagegroup_15',\n",
    "       'incidenceXagegroup_25', 'incidenceXagegroup_50',\n",
    "       'incidenceXagegroup_70', 'infection_deaths', 'infection_deaths_ma7',\n",
    "       'n_immune_unvaccinated', 'n_immune_vaccinated',\n",
    "       'peak_hospital_occupancy', 'prop_ever_infected',\n",
    "       'prop_ever_infected_age_matched', 'prop_immune_unvaccinated',\n",
    "       'prop_immune_vaccinated',\n",
    "       'total_population', 'transformed_random_process'\n",
    "        ],\n",
    "        value=\"incidence\",\n",
    "        description='Output:',\n",
    "    )\n",
    "\n",
    "\n",
    "\n",
    "def load_analysis_outputs(iso3, analysis):    \n",
    "    folder_path = Path.cwd() / analysis / iso3\n",
    "\n",
    "    uncertainty_dfs = {sc: pd.read_parquet(folder_path/ f\"uncertainty_df_{sc}.parquet\") for sc in [\"baseline\", \"scenario_1\"]}\n",
    "    diff_quantiles_df = pd.read_parquet(folder_path / f\"diff_quantiles_df.parquet\")\n",
    "    derived_outputs = pd.read_pickle(folder_path / \"derived_outputs.pickle\") \n",
    "\n",
    "    return uncertainty_dfs, diff_quantiles_df, derived_outputs\n",
    "\n",
    "\n",
    "def get_diff_quantiles_table(diff_quantiles_df):\n",
    "    f_diff_quantiles_df = - diff_quantiles_df[\n",
    "        ['cases_averted', 'cases_averted_relative', 'delta_hospital_peak_relative', 'deaths_averted', 'deaths_averted_relative']\n",
    "    ] # use \"-\" so positive nbs indicate positive effect of closures\n",
    "\n",
    "    for col in f_diff_quantiles_df.columns:\n",
    "        if col.endswith(\"_relative\"):\n",
    "            f_diff_quantiles_df[col] = round(100. * f_diff_quantiles_df[col], 1)\n",
    "        else:\n",
    "            f_diff_quantiles_df[col] = (round(f_diff_quantiles_df[col])).astype(\"int\")\n",
    "\n",
    "    # rename columns\n",
    "    rename_map = {\n",
    "        \"cases_averted\": \"N infections averted\",\n",
    "        \"cases_averted_relative\": \"% infections averted\",\n",
    "        \"deaths_averted\": \"N deaths averted\",\n",
    "        \"deaths_averted_relative\": \"% deaths averted\",\n",
    "        # \"delta_hospital_peak\": \"Hospital peak reduction\",\n",
    "        \"delta_hospital_peak_relative\": \"% hospital peak reduction\"\n",
    "    }\n",
    "    f_diff_quantiles_df.rename(mapper=rename_map, inplace=True, axis=1)\n",
    "\n",
    "    # rename and reorder quantile index\n",
    "    f_diff_quantiles_df.rename(index=lambda q: f\"{round(100. * (1. - q), 1)}%\" ,inplace=True)\n",
    "    f_diff_quantiles_df.index.name = \"percentile\"\n",
    "    f_diff_quantiles_df = f_diff_quantiles_df.iloc[::-1]\n",
    "\n",
    "    return f_diff_quantiles_df\n",
    "\n",
    "\n",
    "sc_names = {\"baseline\": \"Historical\", \"scenario_1\": \"Counterfactual (schools open)\"}\n",
    "\n",
    "def plot_derived_outputs(derived_outputs, output, iso3, analysis):    \n",
    "    df = pd.DataFrame({sc_names[sc]: derived_outputs[sc][output] for sc in derived_outputs})\n",
    "    ax = df.plot(labels={\"value\": output,\"variable\": \"Scenario\"}, title=f\"{INCLUDED_COUNTRIES['all'][iso3]} - {analysis_names[analysis]}\")\n",
    "    ax.show()\n",
    "\n",
    "def plot_uncertainty(uncertainty_dfs, output, iso3, analysis):\n",
    "\n",
    "    for sc in uncertainty_dfs:\n",
    "        f = uncertainty_dfs[sc][output].plot(labels={\"value\": output}, title= f\"{INCLUDED_COUNTRIES['all'][iso3]} - {analysis_names[analysis]} <br> {sc_names[sc]} scenario\")\n",
    "        f.show()"
   ]
  },
  {
   "cell_type": "markdown",
   "metadata": {},
   "source": [
    "# The actual notebook content will start here"
   ]
  },
  {
   "cell_type": "markdown",
   "metadata": {},
   "source": [
    "## Imports"
   ]
  },
  {
   "cell_type": "code",
   "execution_count": null,
   "metadata": {},
   "outputs": [],
   "source": [
    "from IPython.display import display\n",
    "from autumn.projects.sm_covid2.common_school.output_plots import country_highlight as ch\n",
    "import pandas as pd\n",
    "pd.options.plotting.backend = \"plotly\""
   ]
  },
  {
   "cell_type": "markdown",
   "metadata": {},
   "source": [
    "## Select country and analysis"
   ]
  },
  {
   "cell_type": "code",
   "execution_count": null,
   "metadata": {},
   "outputs": [],
   "source": [
    "iso3_widget, analysis_widget = get_analysis_widgets()\n",
    "display(iso3_widget, analysis_widget)"
   ]
  },
  {
   "cell_type": "markdown",
   "metadata": {},
   "source": [
    "## Redo country highlight figure, as provided in the manuscript"
   ]
  },
  {
   "cell_type": "code",
   "execution_count": null,
   "metadata": {},
   "outputs": [],
   "source": [
    "uncertainty_dfs, diff_quantiles_df, derived_outputs = load_analysis_outputs(iso3_widget.value, analysis_widget.value)\n",
    "fig = ch.make_country_highlight_figure(iso3_widget.value, uncertainty_dfs, diff_quantiles_df, derived_outputs, include_country_name=True)"
   ]
  },
  {
   "cell_type": "markdown",
   "metadata": {},
   "source": [
    "## Relative outcomes\n",
    "\n",
    "* Positive values indicate a positive effect of school closures on the relevant indicator.\n",
    "* Negative values indicate that school closures exacerbated the relevant COVID-19 indicator."
   ]
  },
  {
   "cell_type": "code",
   "execution_count": null,
   "metadata": {},
   "outputs": [],
   "source": [
    "df = get_diff_quantiles_table(diff_quantiles_df)\n",
    "df"
   ]
  },
  {
   "cell_type": "markdown",
   "metadata": {},
   "source": [
    "## Selected model output timeseries "
   ]
  },
  {
   "cell_type": "code",
   "execution_count": null,
   "metadata": {},
   "outputs": [],
   "source": [
    "output_widget = get_derived_output_widget()\n",
    "display(output_widget)"
   ]
  },
  {
   "cell_type": "markdown",
   "metadata": {},
   "source": [
    "### Outputs obtained with maximum a-posteriori parameter set"
   ]
  },
  {
   "cell_type": "code",
   "execution_count": null,
   "metadata": {},
   "outputs": [],
   "source": [
    "plot_derived_outputs(derived_outputs, output_widget.value, iso3_widget.value, analysis_widget.value)"
   ]
  },
  {
   "cell_type": "markdown",
   "metadata": {},
   "source": [
    "### Uncertainty percentiles associated with 1000 samples from the posterior distribution "
   ]
  },
  {
   "cell_type": "code",
   "execution_count": null,
   "metadata": {},
   "outputs": [],
   "source": [
    "plot_uncertainty(uncertainty_dfs, output_widget.value, iso3_widget.value, analysis_widget.value)"
   ]
  }
 ],
 "metadata": {
  "kernelspec": {
   "display_name": "summer2",
   "language": "python",
   "name": "python3"
  },
  "language_info": {
   "codemirror_mode": {
    "name": "ipython",
    "version": 3
   },
   "file_extension": ".py",
   "mimetype": "text/x-python",
   "name": "python",
   "nbconvert_exporter": "python",
   "pygments_lexer": "ipython3",
   "version": "3.10.11"
  }
 },
 "nbformat": 4,
 "nbformat_minor": 2
}
