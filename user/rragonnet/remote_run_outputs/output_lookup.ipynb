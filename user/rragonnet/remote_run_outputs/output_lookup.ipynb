{
 "cells": [
  {
   "cell_type": "code",
   "execution_count": 17,
   "metadata": {},
   "outputs": [],
   "source": [
    "from pathlib import Path\n",
    "from autumn.projects.sm_covid2.common_school.runner_tools import INCLUDED_COUNTRIES\n",
    "from matplotlib import pyplot as plt\n",
    "from matplotlib import image as mpimg\n",
    "\n",
    "full_iso3_list = list(INCLUDED_COUNTRIES['google_mobility'].keys())"
   ]
  },
  {
   "cell_type": "code",
   "execution_count": 18,
   "metadata": {},
   "outputs": [],
   "source": [
    "analysis_folder = Path.cwd() / \"31747883_full_analysis_26Sep2023_main\""
   ]
  },
  {
   "cell_type": "code",
   "execution_count": 19,
   "metadata": {},
   "outputs": [],
   "source": [
    "completed, failed, no_folder, opti_crashed, mcmc_crashed, full_runs_crashed = [], [], [], [], [], []\n",
    "for i, iso3 in enumerate(full_iso3_list):\n",
    "    slurm_array_id = i + 1\n",
    "    iso3_folder = analysis_folder / iso3\n",
    "    # is there a folder\n",
    "    if not Path.exists(iso3_folder):\n",
    "        failed.append([slurm_array_id, iso3])\n",
    "        no_folder.append([slurm_array_id, iso3])\n",
    "        continue    \n",
    "\n",
    "    # did optimisation complete?\n",
    "    if not Path.exists(iso3_folder / \"optimal_fits.png\"):\n",
    "        failed.append([slurm_array_id, iso3])\n",
    "        opti_crashed.append([slurm_array_id, iso3])\n",
    "        continue\n",
    "\n",
    "    # did the mcmc complete?\n",
    "    if not Path.exists(iso3_folder / \"idata.nc\"):\n",
    "        failed.append([slurm_array_id, iso3])\n",
    "        mcmc_crashed.append([slurm_array_id, iso3])\n",
    "        continue\n",
    "\n",
    "    # did the full runs complete?\n",
    "    if not Path.exists(iso3_folder / \"tiling.pdf\"):\n",
    "        failed.append([slurm_array_id, iso3])\n",
    "        full_runs_crashed.append([slurm_array_id, iso3])\n",
    "        continue\n",
    "\n",
    "    completed.append(iso3)"
   ]
  },
  {
   "cell_type": "code",
   "execution_count": 20,
   "metadata": {},
   "outputs": [
    {
     "data": {
      "text/plain": [
       "[]"
      ]
     },
     "execution_count": 20,
     "metadata": {},
     "output_type": "execute_result"
    }
   ],
   "source": [
    "no_folder"
   ]
  },
  {
   "cell_type": "code",
   "execution_count": 21,
   "metadata": {},
   "outputs": [
    {
     "data": {
      "text/plain": [
       "[]"
      ]
     },
     "execution_count": 21,
     "metadata": {},
     "output_type": "execute_result"
    }
   ],
   "source": [
    "opti_crashed"
   ]
  },
  {
   "cell_type": "code",
   "execution_count": 22,
   "metadata": {},
   "outputs": [
    {
     "data": {
      "text/plain": [
       "[]"
      ]
     },
     "execution_count": 22,
     "metadata": {},
     "output_type": "execute_result"
    }
   ],
   "source": [
    "mcmc_crashed"
   ]
  },
  {
   "cell_type": "code",
   "execution_count": 23,
   "metadata": {},
   "outputs": [
    {
     "data": {
      "text/plain": [
       "[]"
      ]
     },
     "execution_count": 23,
     "metadata": {},
     "output_type": "execute_result"
    }
   ],
   "source": [
    "full_runs_crashed"
   ]
  },
  {
   "cell_type": "code",
   "execution_count": 24,
   "metadata": {},
   "outputs": [
    {
     "data": {
      "text/plain": [
       "[]"
      ]
     },
     "execution_count": 24,
     "metadata": {},
     "output_type": "execute_result"
    }
   ],
   "source": [
    "failed"
   ]
  },
  {
   "cell_type": "code",
   "execution_count": 25,
   "metadata": {},
   "outputs": [
    {
     "data": {
      "text/plain": [
       "[]"
      ]
     },
     "execution_count": 25,
     "metadata": {},
     "output_type": "execute_result"
    }
   ],
   "source": [
    "[f[0] for f in failed]"
   ]
  },
  {
   "cell_type": "code",
   "execution_count": null,
   "metadata": {},
   "outputs": [],
   "source": []
  }
 ],
 "metadata": {
  "kernelspec": {
   "display_name": "summer2",
   "language": "python",
   "name": "python3"
  },
  "language_info": {
   "codemirror_mode": {
    "name": "ipython",
    "version": 3
   },
   "file_extension": ".py",
   "mimetype": "text/x-python",
   "name": "python",
   "nbconvert_exporter": "python",
   "pygments_lexer": "ipython3",
   "version": "3.10.11"
  },
  "orig_nbformat": 4
 },
 "nbformat": 4,
 "nbformat_minor": 2
}
